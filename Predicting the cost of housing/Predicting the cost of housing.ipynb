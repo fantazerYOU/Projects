{
 "cells": [
  {
   "cell_type": "markdown",
   "id": "GEqQaHzsZ_bA",
   "metadata": {
    "id": "GEqQaHzsZ_bA"
   },
   "source": [
    "# Предсказание стоимости жилья\n",
    "\n",
    "В проекте вам нужно обучить модель линейной регрессии на данных о жилье в Калифорнии в 1990 году. На основе данных нужно предсказать медианную стоимость дома в жилом массиве. Обучите модель и сделайте предсказания на тестовой выборке. Для оценки качества модели используйте метрики RMSE, MAE и R2."
   ]
  },
  {
   "cell_type": "markdown",
   "id": "53871372",
   "metadata": {
    "id": "53871372"
   },
   "source": [
    "## Подготовка данных"
   ]
  },
  {
   "cell_type": "code",
   "execution_count": 2,
   "id": "c87179a8",
   "metadata": {},
   "outputs": [
    {
     "name": "stderr",
     "output_type": "stream",
     "text": [
      "Exception in thread \"main\" java.nio.file.NoSuchFileException: /tmp/tmpfl6q03ec/connection2076306384977217840.info\n",
      "\tat sun.nio.fs.UnixException.translateToIOException(UnixException.java:86)\n",
      "\tat sun.nio.fs.UnixException.rethrowAsIOException(UnixException.java:102)\n",
      "\tat sun.nio.fs.UnixException.rethrowAsIOException(UnixException.java:107)\n",
      "\tat sun.nio.fs.UnixFileSystemProvider.newByteChannel(UnixFileSystemProvider.java:214)\n",
      "\tat java.nio.file.Files.newByteChannel(Files.java:361)\n",
      "\tat java.nio.file.Files.createFile(Files.java:632)\n",
      "\tat java.nio.file.TempFileHelper.create(TempFileHelper.java:138)\n",
      "\tat java.nio.file.TempFileHelper.createTempFile(TempFileHelper.java:161)\n",
      "\tat java.nio.file.Files.createTempFile(Files.java:852)\n",
      "\tat org.apache.spark.api.python.PythonGatewayServer$.main(PythonGatewayServer.scala:52)\n",
      "\tat org.apache.spark.api.python.PythonGatewayServer.main(PythonGatewayServer.scala)\n",
      "\tat sun.reflect.NativeMethodAccessorImpl.invoke0(Native Method)\n",
      "\tat sun.reflect.NativeMethodAccessorImpl.invoke(NativeMethodAccessorImpl.java:62)\n",
      "\tat sun.reflect.DelegatingMethodAccessorImpl.invoke(DelegatingMethodAccessorImpl.java:43)\n",
      "\tat java.lang.reflect.Method.invoke(Method.java:498)\n",
      "\tat org.apache.spark.deploy.JavaMainApplication.start(SparkApplication.scala:52)\n",
      "\tat org.apache.spark.deploy.SparkSubmit.org$apache$spark$deploy$SparkSubmit$$runMain(SparkSubmit.scala:928)\n",
      "\tat org.apache.spark.deploy.SparkSubmit.doRunMain$1(SparkSubmit.scala:180)\n",
      "\tat org.apache.spark.deploy.SparkSubmit.submit(SparkSubmit.scala:203)\n",
      "\tat org.apache.spark.deploy.SparkSubmit.doSubmit(SparkSubmit.scala:90)\n",
      "\tat org.apache.spark.deploy.SparkSubmit$$anon$2.doSubmit(SparkSubmit.scala:1007)\n",
      "\tat org.apache.spark.deploy.SparkSubmit$.main(SparkSubmit.scala:1016)\n",
      "\tat org.apache.spark.deploy.SparkSubmit.main(SparkSubmit.scala)\n"
     ]
    }
   ],
   "source": [
    "import pandas as pd \n",
    "import numpy as np\n",
    "\n",
    "import pyspark\n",
    "from pyspark.sql import SparkSession\n",
    "from pyspark.sql.types import *\n",
    "import pyspark.sql.functions as F\n",
    "from pyspark.sql.functions import isnan, when, count, col\n",
    "\n",
    "from pyspark.ml.feature import StringIndexer, VectorAssembler, StandardScaler\n",
    "from pyspark.ml.regression import LinearRegression\n",
    "from pyspark.ml.tuning import CrossValidator, ParamGridBuilder\n",
    "from pyspark.ml.evaluation import RegressionEvaluator\n",
    "pyspark_version = pyspark.__version__\n",
    "if int(pyspark_version[:1]) == 3:\n",
    "    from pyspark.ml.feature import OneHotEncoder    \n",
    "elif int(pyspark_version[:1]) == 2:\n",
    "    from pyspark.ml.feature import OneHotEncodeEstimator\n",
    "        \n",
    "\n",
    "spark = SparkSession.builder \\\n",
    "                    .master(\"local\") \\\n",
    "                    .appName(\"Housing in California\") \\\n",
    "                    .getOrCreate()"
   ]
  },
  {
   "cell_type": "code",
   "execution_count": 3,
   "id": "0699ae92",
   "metadata": {},
   "outputs": [
    {
     "name": "stdout",
     "output_type": "stream",
     "text": [
      "Spark info :\n"
     ]
    },
    {
     "data": {
      "text/html": [
       "\n",
       "            <div>\n",
       "                <p><b>SparkSession - in-memory</b></p>\n",
       "                \n",
       "        <div>\n",
       "            <p><b>SparkContext</b></p>\n",
       "\n",
       "            <p><a href=\"http://35a352ba2a13:4040\">Spark UI</a></p>\n",
       "\n",
       "            <dl>\n",
       "              <dt>Version</dt>\n",
       "                <dd><code>v3.0.2</code></dd>\n",
       "              <dt>Master</dt>\n",
       "                <dd><code>local</code></dd>\n",
       "              <dt>AppName</dt>\n",
       "                <dd><code>Housing in California</code></dd>\n",
       "            </dl>\n",
       "        </div>\n",
       "        \n",
       "            </div>\n",
       "        "
      ],
      "text/plain": [
       "<pyspark.sql.session.SparkSession at 0x7f58fdfb5310>"
      ]
     },
     "execution_count": 3,
     "metadata": {},
     "output_type": "execute_result"
    }
   ],
   "source": [
    "spark = SparkSession.builder.appName('spark3.2show').getOrCreate()\n",
    "print('Spark info :')\n",
    "spark"
   ]
  },
  {
   "cell_type": "markdown",
   "id": "664674fe",
   "metadata": {},
   "source": [
    "Используем Spark версии 3.0.2 .  Так же посмотрим на версию Python и выведем версию Spark"
   ]
  },
  {
   "cell_type": "code",
   "execution_count": 4,
   "id": "4bd19fd7",
   "metadata": {},
   "outputs": [
    {
     "name": "stdout",
     "output_type": "stream",
     "text": [
      "Version of python: \n",
      "Python 3.9.5\n",
      "Version of pyspark : 3.0.2\n"
     ]
    }
   ],
   "source": [
    "print('Version of python: ') \n",
    "!python -V\n",
    "print('Version of pyspark :', pyspark.__version__)"
   ]
  },
  {
   "cell_type": "code",
   "execution_count": 5,
   "id": "0be75475",
   "metadata": {},
   "outputs": [
    {
     "name": "stderr",
     "output_type": "stream",
     "text": [
      "                                                                                \r"
     ]
    }
   ],
   "source": [
    "df = spark.read.option('header', 'true').csv('hous.csv', inferSchema = True) "
   ]
  },
  {
   "cell_type": "markdown",
   "id": "76b39524",
   "metadata": {},
   "source": [
    "Импортируем DataFrame "
   ]
  },
  {
   "cell_type": "code",
   "execution_count": 6,
   "id": "cae9fdcf",
   "metadata": {},
   "outputs": [
    {
     "data": {
      "text/plain": [
       "pyspark.sql.dataframe.DataFrame"
      ]
     },
     "execution_count": 6,
     "metadata": {},
     "output_type": "execute_result"
    }
   ],
   "source": [
    "type(df)"
   ]
  },
  {
   "cell_type": "markdown",
   "id": "4057577f",
   "metadata": {},
   "source": [
    "Убеждаемся, что это датафрейм spark"
   ]
  },
  {
   "cell_type": "code",
   "execution_count": 7,
   "id": "50d68482",
   "metadata": {
    "scrolled": false
   },
   "outputs": [
    {
     "name": "stdout",
     "output_type": "stream",
     "text": [
      "root\n",
      " |-- longitude: double (nullable = true)\n",
      " |-- latitude: double (nullable = true)\n",
      " |-- housing_median_age: double (nullable = true)\n",
      " |-- total_rooms: double (nullable = true)\n",
      " |-- total_bedrooms: double (nullable = true)\n",
      " |-- population: double (nullable = true)\n",
      " |-- households: double (nullable = true)\n",
      " |-- median_income: double (nullable = true)\n",
      " |-- median_house_value: double (nullable = true)\n",
      " |-- ocean_proximity: string (nullable = true)\n",
      "\n"
     ]
    }
   ],
   "source": [
    "df.printSchema() "
   ]
  },
  {
   "cell_type": "markdown",
   "id": "310f08f5",
   "metadata": {},
   "source": [
    "Все столбцы имеют тип данных **double (float)**, и один столбец тип **string**."
   ]
  },
  {
   "cell_type": "code",
   "execution_count": 8,
   "id": "b5e816e6",
   "metadata": {},
   "outputs": [
    {
     "name": "stdout",
     "output_type": "stream",
     "text": [
      "+---------+--------+------------------+-----------+--------------+----------+----------+-------------+------------------+---------------+\n",
      "|longitude|latitude|housing_median_age|total_rooms|total_bedrooms|population|households|median_income|median_house_value|ocean_proximity|\n",
      "+---------+--------+------------------+-----------+--------------+----------+----------+-------------+------------------+---------------+\n",
      "|  -122.23|   37.88|              41.0|      880.0|         129.0|     322.0|     126.0|       8.3252|          452600.0|       NEAR BAY|\n",
      "|  -122.22|   37.86|              21.0|     7099.0|        1106.0|    2401.0|    1138.0|       8.3014|          358500.0|       NEAR BAY|\n",
      "|  -122.24|   37.85|              52.0|     1467.0|         190.0|     496.0|     177.0|       7.2574|          352100.0|       NEAR BAY|\n",
      "+---------+--------+------------------+-----------+--------------+----------+----------+-------------+------------------+---------------+\n",
      "only showing top 3 rows\n",
      "\n"
     ]
    }
   ],
   "source": [
    "df.show(3)"
   ]
  },
  {
   "cell_type": "code",
   "execution_count": 9,
   "id": "4ed7b438",
   "metadata": {},
   "outputs": [
    {
     "data": {
      "text/plain": [
       "20640"
      ]
     },
     "execution_count": 9,
     "metadata": {},
     "output_type": "execute_result"
    }
   ],
   "source": [
    "df.count() "
   ]
  },
  {
   "cell_type": "markdown",
   "id": "c507ae2b",
   "metadata": {},
   "source": [
    "В нашем DataFrame 20640 строк."
   ]
  },
  {
   "cell_type": "code",
   "execution_count": 10,
   "id": "df92e3ec",
   "metadata": {
    "id": "df92e3ec"
   },
   "outputs": [
    {
     "name": "stdout",
     "output_type": "stream",
     "text": [
      "+---------+--------+------------------+-----------+--------------+----------+----------+-------------+------------------+---------------+\n",
      "|longitude|latitude|housing_median_age|total_rooms|total_bedrooms|population|households|median_income|median_house_value|ocean_proximity|\n",
      "+---------+--------+------------------+-----------+--------------+----------+----------+-------------+------------------+---------------+\n",
      "|        0|       0|                 0|          0|           207|         0|         0|            0|                 0|              0|\n",
      "+---------+--------+------------------+-----------+--------------+----------+----------+-------------+------------------+---------------+\n",
      "\n"
     ]
    }
   ],
   "source": [
    "df.select([count(when(isnan(c) | col(c).isNull(), c)).alias(c) for c in df.columns]).show()"
   ]
  },
  {
   "cell_type": "code",
   "execution_count": 11,
   "id": "596f829c",
   "metadata": {},
   "outputs": [
    {
     "name": "stderr",
     "output_type": "stream",
     "text": [
      "                                                                                \r"
     ]
    },
    {
     "name": "stdout",
     "output_type": "stream",
     "text": [
      "+-------+-------------------+-----------------+------------------+------------------+\n",
      "|summary|          longitude|         latitude|housing_median_age|       total_rooms|\n",
      "+-------+-------------------+-----------------+------------------+------------------+\n",
      "|  count|              20640|            20640|             20640|             20640|\n",
      "|   mean|-119.56970445736148| 35.6318614341087|28.639486434108527|2635.7630813953488|\n",
      "| stddev|  2.003531723502584|2.135952397457101| 12.58555761211163|2181.6152515827944|\n",
      "|    min|            -124.35|            32.54|               1.0|               2.0|\n",
      "|    25%|             -121.8|            33.93|              18.0|            1447.0|\n",
      "|    50%|            -118.49|            34.26|              29.0|            2127.0|\n",
      "|    75%|            -118.01|            37.71|              37.0|            3146.0|\n",
      "|    max|            -114.31|            41.95|              52.0|           39320.0|\n",
      "+-------+-------------------+-----------------+------------------+------------------+\n",
      "\n"
     ]
    }
   ],
   "source": [
    "df.summary().select(['summary', 'longitude', 'latitude', 'housing_median_age', 'total_rooms']).show()"
   ]
  },
  {
   "cell_type": "code",
   "execution_count": 12,
   "id": "ee3f32ec",
   "metadata": {},
   "outputs": [
    {
     "data": {
      "text/plain": [
       "{'longitude': 0,\n",
       " 'latitude': 0,\n",
       " 'housing_median_age': 0,\n",
       " 'total_rooms': 0,\n",
       " 'total_bedrooms': 207,\n",
       " 'population': 0,\n",
       " 'households': 0,\n",
       " 'median_income': 0,\n",
       " 'median_house_value': 0,\n",
       " 'ocean_proximity': 0}"
      ]
     },
     "execution_count": 12,
     "metadata": {},
     "output_type": "execute_result"
    }
   ],
   "source": [
    "Dict_Null = {col:df.filter(df[col].isNull()).count() for col in df.columns}\n",
    "Dict_Null"
   ]
  },
  {
   "cell_type": "markdown",
   "id": "b392a442",
   "metadata": {},
   "source": [
    "У нас 207 значений в столбце 'total_bedrooms' являются NaN."
   ]
  },
  {
   "cell_type": "code",
   "execution_count": 13,
   "id": "11de34f0",
   "metadata": {},
   "outputs": [
    {
     "name": "stdout",
     "output_type": "stream",
     "text": [
      "+--------------+\n",
      "|total_bedrooms|\n",
      "+--------------+\n",
      "|         129.0|\n",
      "|        1106.0|\n",
      "|         190.0|\n",
      "+--------------+\n",
      "only showing top 3 rows\n",
      "\n"
     ]
    }
   ],
   "source": [
    "df.select('total_bedrooms').show(3)"
   ]
  },
  {
   "cell_type": "code",
   "execution_count": 14,
   "id": "a2ca43cd",
   "metadata": {},
   "outputs": [],
   "source": [
    "med2 = df.approxQuantile(\"total_bedrooms\", [0.5], 0.25)"
   ]
  },
  {
   "cell_type": "code",
   "execution_count": 16,
   "id": "4d4a78b3",
   "metadata": {},
   "outputs": [],
   "source": [
    "df = df.na.fill(med2[0])"
   ]
  },
  {
   "cell_type": "code",
   "execution_count": 15,
   "id": "a444f8da",
   "metadata": {},
   "outputs": [
    {
     "data": {
      "text/plain": [
       "{'longitude': 0,\n",
       " 'latitude': 0,\n",
       " 'housing_median_age': 0,\n",
       " 'total_rooms': 0,\n",
       " 'total_bedrooms': 0,\n",
       " 'population': 0,\n",
       " 'households': 0,\n",
       " 'median_income': 0,\n",
       " 'median_house_value': 0,\n",
       " 'ocean_proximity': 0}"
      ]
     },
     "execution_count": 15,
     "metadata": {},
     "output_type": "execute_result"
    }
   ],
   "source": [
    "Dict_Null = {col:df.filter(df[col].isNull()).count() for col in df.columns}\n",
    "Dict_Null"
   ]
  },
  {
   "cell_type": "markdown",
   "id": "0e0637a1",
   "metadata": {},
   "source": [
    "Заменил NaN значения в столбце total_bedrooms на медиану этого столбца."
   ]
  },
  {
   "cell_type": "markdown",
   "id": "9f0a82f3",
   "metadata": {
    "id": "9f0a82f3"
   },
   "source": [
    "## Обучение моделей"
   ]
  },
  {
   "cell_type": "markdown",
   "id": "74f61f94",
   "metadata": {},
   "source": [
    "### Трансформация категориальных признаков "
   ]
  },
  {
   "cell_type": "code",
   "execution_count": 16,
   "id": "72cb3095",
   "metadata": {},
   "outputs": [
    {
     "name": "stdout",
     "output_type": "stream",
     "text": [
      "+---------------+\n",
      "|ocean_proximity|\n",
      "+---------------+\n",
      "|       NEAR BAY|\n",
      "|       NEAR BAY|\n",
      "|       NEAR BAY|\n",
      "|       NEAR BAY|\n",
      "|       NEAR BAY|\n",
      "+---------------+\n",
      "only showing top 5 rows\n",
      "\n"
     ]
    }
   ],
   "source": [
    "df.select([c for c in df.columns if c in ['ocean_proximity']]).show(5)"
   ]
  },
  {
   "cell_type": "markdown",
   "id": "47011249",
   "metadata": {},
   "source": [
    "Тип колонки string "
   ]
  },
  {
   "cell_type": "code",
   "execution_count": 17,
   "id": "aa56fd1a",
   "metadata": {
    "scrolled": true
   },
   "outputs": [
    {
     "name": "stderr",
     "output_type": "stream",
     "text": [
      "                                                                                \r"
     ]
    }
   ],
   "source": [
    "ocean_proxim = StringIndexer(inputCol=\"ocean_proximity\", outputCol=\"ocean_proximity_index\")\n",
    "df = ocean_proxim.fit(df).transform(df)"
   ]
  },
  {
   "cell_type": "markdown",
   "id": "11d4da6d",
   "metadata": {},
   "source": [
    "Мы не можем напрямую применять OneHotEncoder к строковым столбцам. Нам нужно сначала преобразовать строковые столбцы в числовое значение. Для этого мы будем использовать StringIndexer. После этого мы можем применить OneHotEncoder."
   ]
  },
  {
   "cell_type": "code",
   "execution_count": 18,
   "id": "bddb08c4",
   "metadata": {
    "id": "bddb08c4",
    "scrolled": true
   },
   "outputs": [
    {
     "name": "stdout",
     "output_type": "stream",
     "text": [
      "+---------------------+\n",
      "|ocean_proximity_index|\n",
      "+---------------------+\n",
      "|                  3.0|\n",
      "|                  3.0|\n",
      "|                  3.0|\n",
      "|                  3.0|\n",
      "|                  3.0|\n",
      "+---------------------+\n",
      "only showing top 5 rows\n",
      "\n"
     ]
    }
   ],
   "source": [
    "df.select([c for c in df.columns if c in ['ocean_proximity_index']]).show(5)"
   ]
  },
  {
   "cell_type": "markdown",
   "id": "eca8fc62",
   "metadata": {},
   "source": [
    "Проверяем результат"
   ]
  },
  {
   "cell_type": "code",
   "execution_count": 19,
   "id": "1c317afa",
   "metadata": {},
   "outputs": [],
   "source": [
    "one_hotencoder_1 = OneHotEncoder(dropLast=True, inputCol=\"ocean_proximity_index\", outputCol=\"ocean_proximity_vec\")\n",
    "df = one_hotencoder_1.fit(df).transform(df)"
   ]
  },
  {
   "cell_type": "markdown",
   "id": "855c9acd",
   "metadata": {},
   "source": [
    "Кодировали признак при помощи OneHotEncoder"
   ]
  },
  {
   "cell_type": "code",
   "execution_count": 20,
   "id": "34a93a3d",
   "metadata": {
    "scrolled": true
   },
   "outputs": [
    {
     "name": "stdout",
     "output_type": "stream",
     "text": [
      "+-------------------+\n",
      "|ocean_proximity_vec|\n",
      "+-------------------+\n",
      "|      (4,[3],[1.0])|\n",
      "|      (4,[3],[1.0])|\n",
      "|      (4,[3],[1.0])|\n",
      "|      (4,[3],[1.0])|\n",
      "|      (4,[3],[1.0])|\n",
      "+-------------------+\n",
      "only showing top 5 rows\n",
      "\n"
     ]
    }
   ],
   "source": [
    "df.select([c for c in df.columns if c in ['ocean_proximity_vec']]).show(5)"
   ]
  },
  {
   "cell_type": "markdown",
   "id": "4aaeec84",
   "metadata": {},
   "source": [
    "Проверяем кодировку столбца"
   ]
  },
  {
   "cell_type": "code",
   "execution_count": 22,
   "id": "8c395e33",
   "metadata": {},
   "outputs": [],
   "source": [
    "categorical_assembler = VectorAssembler(inputCols=['ocean_proximity_vec'],\n",
    "                                        outputCol=\"categorical_features\")\n",
    "df = categorical_assembler.transform(df) "
   ]
  },
  {
   "cell_type": "code",
   "execution_count": 23,
   "id": "13d03841",
   "metadata": {
    "scrolled": true
   },
   "outputs": [
    {
     "name": "stdout",
     "output_type": "stream",
     "text": [
      "+---------+--------+------------------+-----------+--------------+----------+----------+-------------+------------------+---------------+---------------------+-------------------+--------------------+\n",
      "|longitude|latitude|housing_median_age|total_rooms|total_bedrooms|population|households|median_income|median_house_value|ocean_proximity|ocean_proximity_index|ocean_proximity_vec|categorical_features|\n",
      "+---------+--------+------------------+-----------+--------------+----------+----------+-------------+------------------+---------------+---------------------+-------------------+--------------------+\n",
      "|  -122.23|   37.88|              41.0|      880.0|         129.0|     322.0|     126.0|       8.3252|          452600.0|       NEAR BAY|                  3.0|      (4,[3],[1.0])|       (4,[3],[1.0])|\n",
      "|  -122.22|   37.86|              21.0|     7099.0|        1106.0|    2401.0|    1138.0|       8.3014|          358500.0|       NEAR BAY|                  3.0|      (4,[3],[1.0])|       (4,[3],[1.0])|\n",
      "+---------+--------+------------------+-----------+--------------+----------+----------+-------------+------------------+---------------+---------------------+-------------------+--------------------+\n",
      "only showing top 2 rows\n",
      "\n"
     ]
    }
   ],
   "source": [
    "df.show(2)"
   ]
  },
  {
   "cell_type": "markdown",
   "id": "24b48df4",
   "metadata": {},
   "source": [
    "### Трансформация числовых признаков"
   ]
  },
  {
   "cell_type": "code",
   "execution_count": 24,
   "id": "2f2cf411",
   "metadata": {},
   "outputs": [],
   "source": [
    "numerical_cols = (['longitude', \n",
    "                   'latitude', \n",
    "                   'housing_median_age', \n",
    "                   'total_rooms', \n",
    "                   'total_bedrooms',\n",
    "                   'population',\n",
    "                   'households',\n",
    "                   'median_income'])\n",
    "\n",
    "target = 'median_house_value'                  # Целевой признак"
   ]
  },
  {
   "cell_type": "markdown",
   "id": "04385758",
   "metadata": {},
   "source": [
    "В список записали числовые признаки для дальнейшей трансформации."
   ]
  },
  {
   "cell_type": "code",
   "execution_count": 25,
   "id": "ad1ff8a0",
   "metadata": {},
   "outputs": [
    {
     "name": "stderr",
     "output_type": "stream",
     "text": [
      "                                                                                \r"
     ]
    }
   ],
   "source": [
    "numerical_assembler = VectorAssembler(inputCols=numerical_cols,\n",
    "                                      outputCol=\"numerical_features\")\n",
    "\n",
    "df = numerical_assembler.transform(df) \n",
    "\n",
    "standardScaler = StandardScaler(inputCol='numerical_features',\n",
    "                                outputCol=\"numerical_features_scaled\")\n",
    "df = standardScaler.fit(df).transform(df) "
   ]
  },
  {
   "cell_type": "code",
   "execution_count": 26,
   "id": "74e4589a",
   "metadata": {
    "scrolled": false
   },
   "outputs": [
    {
     "name": "stdout",
     "output_type": "stream",
     "text": [
      "root\n",
      " |-- longitude: double (nullable = false)\n",
      " |-- latitude: double (nullable = false)\n",
      " |-- housing_median_age: double (nullable = false)\n",
      " |-- total_rooms: double (nullable = false)\n",
      " |-- total_bedrooms: double (nullable = false)\n",
      " |-- population: double (nullable = false)\n",
      " |-- households: double (nullable = false)\n",
      " |-- median_income: double (nullable = false)\n",
      " |-- median_house_value: double (nullable = false)\n",
      " |-- ocean_proximity: string (nullable = true)\n",
      " |-- ocean_proximity_index: double (nullable = false)\n",
      " |-- ocean_proximity_vec: vector (nullable = true)\n",
      " |-- categorical_features: vector (nullable = true)\n",
      " |-- numerical_features: vector (nullable = true)\n",
      " |-- numerical_features_scaled: vector (nullable = true)\n",
      "\n"
     ]
    }
   ],
   "source": [
    "df.printSchema() "
   ]
  },
  {
   "cell_type": "markdown",
   "id": "fb4d4185",
   "metadata": {},
   "source": [
    "После всех трансформаций получается такая таблица"
   ]
  },
  {
   "cell_type": "code",
   "execution_count": 27,
   "id": "97348c12",
   "metadata": {},
   "outputs": [
    {
     "name": "stdout",
     "output_type": "stream",
     "text": [
      "+--------------------+-------------------------+\n",
      "|categorical_features|numerical_features_scaled|\n",
      "+--------------------+-------------------------+\n",
      "|       (4,[3],[1.0])|     [-61.007269596069...|\n",
      "|       (4,[3],[1.0])|     [-61.002278409814...|\n",
      "|       (4,[3],[1.0])|     [-61.012260782324...|\n",
      "+--------------------+-------------------------+\n",
      "only showing top 3 rows\n",
      "\n"
     ]
    }
   ],
   "source": [
    "all_features = ['categorical_features', 'numerical_features_scaled']\n",
    "\n",
    "final_assembler = VectorAssembler(inputCols=all_features, \n",
    "                                  outputCol='features') \n",
    "df = final_assembler.transform(df)\n",
    "\n",
    "df.select(all_features).show(3) \n"
   ]
  },
  {
   "cell_type": "markdown",
   "id": "cc4f19d8",
   "metadata": {},
   "source": [
    "Собраем трансформированные категорийные и числовые признаки с помощью VectorAssembler"
   ]
  },
  {
   "cell_type": "code",
   "execution_count": 28,
   "id": "8e66791d",
   "metadata": {
    "scrolled": true
   },
   "outputs": [
    {
     "name": "stdout",
     "output_type": "stream",
     "text": [
      "+--------------------+-------------------------+--------------------+\n",
      "|categorical_features|numerical_features_scaled|            features|\n",
      "+--------------------+-------------------------+--------------------+\n",
      "|       (4,[3],[1.0])|     [-61.007269596069...|[0.0,0.0,0.0,1.0,...|\n",
      "|       (4,[3],[1.0])|     [-61.002278409814...|[0.0,0.0,0.0,1.0,...|\n",
      "|       (4,[3],[1.0])|     [-61.012260782324...|[0.0,0.0,0.0,1.0,...|\n",
      "+--------------------+-------------------------+--------------------+\n",
      "only showing top 3 rows\n",
      "\n"
     ]
    }
   ],
   "source": [
    "df.select(['categorical_features', 'numerical_features_scaled', 'features']).show(3)\n"
   ]
  },
  {
   "cell_type": "code",
   "execution_count": 29,
   "id": "8b52e6bd",
   "metadata": {
    "scrolled": true
   },
   "outputs": [
    {
     "name": "stderr",
     "output_type": "stream",
     "text": [
      "                                                                                \r"
     ]
    },
    {
     "data": {
      "text/plain": [
       "16418"
      ]
     },
     "metadata": {},
     "output_type": "display_data"
    },
    {
     "data": {
      "text/plain": [
       "4222"
      ]
     },
     "metadata": {},
     "output_type": "display_data"
    }
   ],
   "source": [
    "RANDOM_SEED = 2022\n",
    "train_data, test_data = df.randomSplit([.8,.2], seed=RANDOM_SEED)\n",
    "display(train_data.count(), test_data.count()) \n"
   ]
  },
  {
   "cell_type": "markdown",
   "id": "b4ec6895",
   "metadata": {},
   "source": [
    "Разделяем наш датасет на две части — выборку для обучения и выборку для тестирования качества модели.\n",
    "Разделение на выборки в Spark можно сделать с помощью метода randomSplit()\n"
   ]
  },
  {
   "cell_type": "markdown",
   "id": "e1048fda",
   "metadata": {},
   "source": [
    "### Обучаем модель используя все данные из файла"
   ]
  },
  {
   "cell_type": "code",
   "execution_count": 30,
   "id": "c92bdf25",
   "metadata": {},
   "outputs": [],
   "source": [
    "lin_reg = LinearRegression(featuresCol='features', labelCol=target) "
   ]
  },
  {
   "cell_type": "code",
   "execution_count": 31,
   "id": "275b07b4",
   "metadata": {},
   "outputs": [],
   "source": [
    "grid_search = ParamGridBuilder() \\\n",
    "    .addGrid(lin_reg.regParam, [0.01, 0.1]) \\\n",
    "    .addGrid(lin_reg.elasticNetParam, [0.5, 1.0]) \\\n",
    "    .build()"
   ]
  },
  {
   "cell_type": "markdown",
   "id": "2dd54c8f",
   "metadata": {},
   "source": [
    "Используем ParamGridBuilder для перебора гиперпараметров"
   ]
  },
  {
   "cell_type": "code",
   "execution_count": 32,
   "id": "b7b1e744",
   "metadata": {},
   "outputs": [],
   "source": [
    "evaluator = RegressionEvaluator(predictionCol='prediction',\n",
    "                                labelCol='median_house_value',\n",
    "                                metricName='rmse')"
   ]
  },
  {
   "cell_type": "code",
   "execution_count": 33,
   "id": "63c031bf",
   "metadata": {
    "scrolled": true
   },
   "outputs": [
    {
     "name": "stderr",
     "output_type": "stream",
     "text": [
      "22/04/28 14:23:44 WARN BLAS: Failed to load implementation from: com.github.fommil.netlib.NativeSystemBLAS\n",
      "22/04/28 14:23:44 WARN BLAS: Failed to load implementation from: com.github.fommil.netlib.NativeRefBLAS\n",
      "                                                                                \r"
     ]
    }
   ],
   "source": [
    "cv = CrossValidator(estimator=lin_reg,\n",
    "                    estimatorParamMaps=grid_search,\n",
    "                    evaluator=evaluator)\n",
    "cv_model = cv.fit(train_data)"
   ]
  },
  {
   "cell_type": "markdown",
   "id": "5f531416",
   "metadata": {},
   "source": [
    "Используем CrossValidator для нахождения лучших гиперпараметров."
   ]
  },
  {
   "cell_type": "code",
   "execution_count": 34,
   "id": "8655f25f",
   "metadata": {},
   "outputs": [
    {
     "data": {
      "text/plain": [
       "1.0"
      ]
     },
     "execution_count": 34,
     "metadata": {},
     "output_type": "execute_result"
    }
   ],
   "source": [
    "best_model = cv_model.bestModel\n",
    "best_reg_param = best_model._java_obj.getRegParam()\n",
    "best_elasticnet_param = best_model._java_obj.getElasticNetParam()\n",
    "best_elasticnet_param"
   ]
  },
  {
   "cell_type": "code",
   "execution_count": 35,
   "id": "0e794196",
   "metadata": {},
   "outputs": [
    {
     "data": {
      "text/plain": [
       "0.1"
      ]
     },
     "execution_count": 35,
     "metadata": {},
     "output_type": "execute_result"
    }
   ],
   "source": [
    "best_reg_param"
   ]
  },
  {
   "cell_type": "markdown",
   "id": "6132cb49",
   "metadata": {},
   "source": [
    "Выводим лучшие гиперпараметры"
   ]
  },
  {
   "cell_type": "code",
   "execution_count": 36,
   "id": "e6da2c52",
   "metadata": {},
   "outputs": [],
   "source": [
    "lr = LinearRegression(featuresCol='features', \n",
    "                      labelCol=target, \n",
    "                      regParam=best_reg_param, \n",
    "                      elasticNetParam=best_elasticnet_param) \n",
    "model = lr.fit(train_data)"
   ]
  },
  {
   "cell_type": "markdown",
   "id": "009adaa4",
   "metadata": {},
   "source": [
    "Обучаем модель LinearRegression"
   ]
  },
  {
   "cell_type": "code",
   "execution_count": 37,
   "id": "3e55332c",
   "metadata": {},
   "outputs": [
    {
     "name": "stdout",
     "output_type": "stream",
     "text": [
      "+------------------+------------------+\n",
      "|median_house_value|        prediction|\n",
      "+------------------+------------------+\n",
      "|          103600.0|152939.92290328303|\n",
      "|           50800.0|214910.79095488274|\n",
      "|           58100.0|142694.09725516802|\n",
      "|           68400.0|132405.62813236937|\n",
      "|           72200.0|164438.67100292165|\n",
      "+------------------+------------------+\n",
      "only showing top 5 rows\n",
      "\n"
     ]
    }
   ],
   "source": [
    "predictions = model.transform(test_data)\n",
    "predictedLabes = predictions.select(\"median_house_value\", \"prediction\")\n",
    "predictedLabes.show(5) \n"
   ]
  },
  {
   "cell_type": "markdown",
   "id": "bdaefd86",
   "metadata": {},
   "source": [
    "Делаем предсказания и выводим часть результата целевой столбец и предсказанные значения"
   ]
  },
  {
   "cell_type": "code",
   "execution_count": 38,
   "id": "960e1952",
   "metadata": {},
   "outputs": [],
   "source": [
    "evaluator = RegressionEvaluator(predictionCol='prediction',\n",
    "                                labelCol='median_house_value')"
   ]
  },
  {
   "cell_type": "markdown",
   "id": "64cca1af",
   "metadata": {},
   "source": [
    "RegressionEvaluator по умолчанию в качестве метрики использует среднюю квадратическую ошибку (MSE)."
   ]
  },
  {
   "cell_type": "code",
   "execution_count": 39,
   "id": "bd9e0f9b",
   "metadata": {},
   "outputs": [],
   "source": [
    "r2_1 = evaluator.evaluate(predictions, {evaluator.metricName: \"r2\"})"
   ]
  },
  {
   "cell_type": "code",
   "execution_count": 40,
   "id": "a7ef5064",
   "metadata": {},
   "outputs": [],
   "source": [
    "mae_1 = evaluator.evaluate(predictions, {evaluator.metricName: \"mae\"})"
   ]
  },
  {
   "cell_type": "code",
   "execution_count": 41,
   "id": "65d59688",
   "metadata": {},
   "outputs": [],
   "source": [
    "rmse_1 = evaluator.evaluate(predictions, {evaluator.metricName: \"rmse\"})"
   ]
  },
  {
   "cell_type": "markdown",
   "id": "4a500b48",
   "metadata": {},
   "source": [
    "### Обучаем модель используя только числовые переменные, исключив категориальные"
   ]
  },
  {
   "cell_type": "code",
   "execution_count": 42,
   "id": "7555b193",
   "metadata": {},
   "outputs": [],
   "source": [
    "lin_reg = LinearRegression(featuresCol='numerical_features_scaled', labelCol=target) "
   ]
  },
  {
   "cell_type": "code",
   "execution_count": 43,
   "id": "3e8e6ad1",
   "metadata": {},
   "outputs": [],
   "source": [
    "grid_search = ParamGridBuilder() \\\n",
    "    .addGrid(lin_reg.regParam, [0.01, 0.1]) \\\n",
    "    .addGrid(lin_reg.elasticNetParam, [0.5, 1.0]) \\\n",
    "    .build()"
   ]
  },
  {
   "cell_type": "code",
   "execution_count": 44,
   "id": "04a3fe10",
   "metadata": {},
   "outputs": [],
   "source": [
    "evaluator = RegressionEvaluator(predictionCol='prediction',\n",
    "                                labelCol='median_house_value',\n",
    "                                metricName='rmse')"
   ]
  },
  {
   "cell_type": "code",
   "execution_count": 45,
   "id": "6f02f6bb",
   "metadata": {},
   "outputs": [
    {
     "name": "stderr",
     "output_type": "stream",
     "text": [
      "                                                                                \r"
     ]
    }
   ],
   "source": [
    "cv = CrossValidator(estimator=lin_reg,\n",
    "                    estimatorParamMaps=grid_search,\n",
    "                    evaluator=evaluator)\n",
    "cv_model = cv.fit(train_data)"
   ]
  },
  {
   "cell_type": "code",
   "execution_count": 46,
   "id": "2435bada",
   "metadata": {},
   "outputs": [
    {
     "data": {
      "text/plain": [
       "0.5"
      ]
     },
     "execution_count": 46,
     "metadata": {},
     "output_type": "execute_result"
    }
   ],
   "source": [
    "best_model = cv_model.bestModel\n",
    "best_reg_param = best_model._java_obj.getRegParam()\n",
    "best_elasticnet_param = best_model._java_obj.getElasticNetParam()\n",
    "best_elasticnet_param"
   ]
  },
  {
   "cell_type": "code",
   "execution_count": 47,
   "id": "b8130a56",
   "metadata": {},
   "outputs": [
    {
     "data": {
      "text/plain": [
       "0.01"
      ]
     },
     "execution_count": 47,
     "metadata": {},
     "output_type": "execute_result"
    }
   ],
   "source": [
    "best_reg_param"
   ]
  },
  {
   "cell_type": "code",
   "execution_count": 48,
   "id": "09c5deaf",
   "metadata": {},
   "outputs": [],
   "source": [
    "lr = LinearRegression(featuresCol='numerical_features_scaled', \n",
    "                      labelCol=target, \n",
    "                      regParam=best_reg_param, \n",
    "                      elasticNetParam=best_elasticnet_param) \n",
    "model = lr.fit(train_data)"
   ]
  },
  {
   "cell_type": "code",
   "execution_count": 49,
   "id": "283176c4",
   "metadata": {},
   "outputs": [
    {
     "name": "stdout",
     "output_type": "stream",
     "text": [
      "+------------------+------------------+\n",
      "|median_house_value|        prediction|\n",
      "+------------------+------------------+\n",
      "|          103600.0|101296.77003160724|\n",
      "|           50800.0|183232.23560047522|\n",
      "|           58100.0|109544.91652085586|\n",
      "|           68400.0|  80314.5777566433|\n",
      "|           72200.0|130293.92468634155|\n",
      "+------------------+------------------+\n",
      "only showing top 5 rows\n",
      "\n"
     ]
    }
   ],
   "source": [
    "predictions = model.transform(test_data)\n",
    "predictedLabes = predictions.select(\"median_house_value\", \"prediction\")\n",
    "predictedLabes.show(5) "
   ]
  },
  {
   "cell_type": "code",
   "execution_count": 50,
   "id": "f7a9bf36",
   "metadata": {},
   "outputs": [],
   "source": [
    "evaluator = RegressionEvaluator(predictionCol='prediction',\n",
    "                                labelCol='median_house_value')"
   ]
  },
  {
   "cell_type": "code",
   "execution_count": 51,
   "id": "f0209193",
   "metadata": {},
   "outputs": [],
   "source": [
    "r2_2 = evaluator.evaluate(predictions, {evaluator.metricName: \"r2\"})"
   ]
  },
  {
   "cell_type": "code",
   "execution_count": 52,
   "id": "15808148",
   "metadata": {},
   "outputs": [],
   "source": [
    "mae_2 = evaluator.evaluate(predictions, {evaluator.metricName: \"mae\"})"
   ]
  },
  {
   "cell_type": "code",
   "execution_count": 53,
   "id": "1e159aff",
   "metadata": {},
   "outputs": [
    {
     "data": {
      "text/plain": [
       "69224.32369565684"
      ]
     },
     "execution_count": 53,
     "metadata": {},
     "output_type": "execute_result"
    }
   ],
   "source": [
    "rmse_2 = evaluator.evaluate(predictions, {evaluator.metricName: \"rmse\"})"
   ]
  },
  {
   "cell_type": "markdown",
   "id": "757fd103",
   "metadata": {
    "id": "757fd103"
   },
   "source": [
    "# Анализ результатов"
   ]
  },
  {
   "cell_type": "code",
   "execution_count": 54,
   "id": "caae6147",
   "metadata": {},
   "outputs": [
    {
     "name": "stderr",
     "output_type": "stream",
     "text": [
      "[Stage 210:>                                                        (0 + 1) / 1]\r"
     ]
    },
    {
     "name": "stdout",
     "output_type": "stream",
     "text": [
      "+----+------------------+------------------+\n",
      "|type|     cat_num_signs|         num_signs|\n",
      "+----+------------------+------------------+\n",
      "|  r2|0.6534198842147974|0.6460557656693573|\n",
      "| mae| 49907.92036584393| 50906.16412328148|\n",
      "|rmse| 68500.40222904057| 69224.32369565684|\n",
      "+----+------------------+------------------+\n",
      "\n"
     ]
    },
    {
     "name": "stderr",
     "output_type": "stream",
     "text": [
      "                                                                                \r"
     ]
    }
   ],
   "source": [
    "schema = StructType([StructField(\"type\", StringType())\\\n",
    "                     ,StructField(\"cat_num_signs\", StringType())\\\n",
    "                     ,StructField(\"num_signs\", StringType())])\n",
    "\n",
    "test_list = [['r2', r2_1, r2_2], \n",
    "             ['mae', mae_1, mae_2],\n",
    "             ['rmse', rmse_1, rmse_2]]\n",
    "\n",
    "df_3 = spark.createDataFrame(test_list,schema=schema) \n",
    "df_3.show()"
   ]
  },
  {
   "cell_type": "markdown",
   "id": "b2fd74db",
   "metadata": {},
   "source": [
    "Из таблицы можно сделать вывод, что результат с категориальным признаком немного лучше, чем без него."
   ]
  },
  {
   "cell_type": "markdown",
   "id": "6118a1e0",
   "metadata": {},
   "source": [
    "## Вывод"
   ]
  },
  {
   "cell_type": "markdown",
   "id": "da3cbd40",
   "metadata": {},
   "source": [
    "В данном проекте применил библиотеку pyspark для обработки dataframe. Импортировал df, посмотрел на данные. Заполнил пропуски медианой, затем сделал трансформацию категориальных признаком, после числовых признаков. Разбил данные 80% - 20%. Обучил модель LinearRegression на всех данных, после только на числовых признаках. Вывел метрики \"r2\", \"mae\" и \"rmse\". Результат работы такой, модель нужно обучать на категориальных и числовых признаков, т к без категориальных - результат немного хуже."
   ]
  },
  {
   "cell_type": "code",
   "execution_count": null,
   "id": "b9a76d85",
   "metadata": {},
   "outputs": [],
   "source": []
  }
 ],
 "metadata": {
  "ExecuteTimeLog": [
   {
    "duration": 34210,
    "start_time": "2022-04-23T15:55:02.435Z"
   },
   {
    "duration": 77,
    "start_time": "2022-04-23T15:55:45.557Z"
   },
   {
    "duration": 9,
    "start_time": "2022-04-23T15:57:11.424Z"
   },
   {
    "duration": 563,
    "start_time": "2022-04-23T16:08:16.796Z"
   },
   {
    "duration": 860,
    "start_time": "2022-04-23T16:14:08.493Z"
   },
   {
    "duration": 535,
    "start_time": "2022-04-23T16:15:35.714Z"
   },
   {
    "duration": 29941,
    "start_time": "2022-04-24T07:50:32.018Z"
   },
   {
    "duration": 79,
    "start_time": "2022-04-24T07:51:01.961Z"
   },
   {
    "duration": 783,
    "start_time": "2022-04-24T07:51:02.042Z"
   },
   {
    "duration": 66,
    "start_time": "2022-04-24T07:53:17.668Z"
   },
   {
    "duration": 24376,
    "start_time": "2022-04-24T07:53:36.359Z"
   },
   {
    "duration": 14,
    "start_time": "2022-04-24T07:54:00.738Z"
   },
   {
    "duration": 671,
    "start_time": "2022-04-24T07:54:00.754Z"
   },
   {
    "duration": 125,
    "start_time": "2022-04-24T07:54:01.427Z"
   },
   {
    "duration": 342,
    "start_time": "2022-04-24T07:54:13.092Z"
   },
   {
    "duration": 1089,
    "start_time": "2022-04-24T07:54:57.964Z"
   },
   {
    "duration": 872,
    "start_time": "2022-04-24T07:55:04.253Z"
   },
   {
    "duration": 1040,
    "start_time": "2022-04-24T07:56:25.931Z"
   },
   {
    "duration": 22820,
    "start_time": "2022-04-24T08:03:52.017Z"
   },
   {
    "duration": 18,
    "start_time": "2022-04-24T08:04:14.839Z"
   },
   {
    "duration": 78,
    "start_time": "2022-04-24T08:04:14.859Z"
   },
   {
    "duration": 685,
    "start_time": "2022-04-24T08:04:14.939Z"
   },
   {
    "duration": 926,
    "start_time": "2022-04-24T08:04:15.627Z"
   },
   {
    "duration": 3,
    "start_time": "2022-04-24T08:04:16.555Z"
   },
   {
    "duration": 497,
    "start_time": "2022-04-24T08:05:51.537Z"
   },
   {
    "duration": 15624,
    "start_time": "2022-04-24T08:09:04.441Z"
   },
   {
    "duration": 22,
    "start_time": "2022-04-24T08:09:20.123Z"
   },
   {
    "duration": 505,
    "start_time": "2022-04-24T08:09:20.147Z"
   },
   {
    "duration": 8073,
    "start_time": "2022-04-24T08:09:20.655Z"
   },
   {
    "duration": 15,
    "start_time": "2022-04-24T08:09:28.731Z"
   },
   {
    "duration": 909,
    "start_time": "2022-04-24T08:09:28.748Z"
   },
   {
    "duration": 1100,
    "start_time": "2022-04-24T08:09:29.659Z"
   },
   {
    "duration": 2,
    "start_time": "2022-04-24T08:09:30.762Z"
   },
   {
    "duration": 4,
    "start_time": "2022-04-24T08:12:58.393Z"
   },
   {
    "duration": 91,
    "start_time": "2022-04-24T08:15:41.279Z"
   },
   {
    "duration": 15915,
    "start_time": "2022-04-24T08:15:54.552Z"
   },
   {
    "duration": 17,
    "start_time": "2022-04-24T08:16:10.525Z"
   },
   {
    "duration": 634,
    "start_time": "2022-04-24T08:16:10.546Z"
   },
   {
    "duration": 8857,
    "start_time": "2022-04-24T08:16:11.183Z"
   },
   {
    "duration": 5,
    "start_time": "2022-04-24T08:16:20.042Z"
   },
   {
    "duration": 86,
    "start_time": "2022-04-24T08:16:20.048Z"
   },
   {
    "duration": 688,
    "start_time": "2022-04-24T08:16:20.136Z"
   },
   {
    "duration": 1014,
    "start_time": "2022-04-24T08:16:20.826Z"
   },
   {
    "duration": 201,
    "start_time": "2022-04-24T08:16:21.842Z"
   },
   {
    "duration": 11,
    "start_time": "2022-04-24T08:17:10.186Z"
   },
   {
    "duration": 10,
    "start_time": "2022-04-24T08:17:13.854Z"
   },
   {
    "duration": 128,
    "start_time": "2022-04-24T08:19:16.823Z"
   },
   {
    "duration": 132,
    "start_time": "2022-04-24T08:19:22.901Z"
   },
   {
    "duration": 7,
    "start_time": "2022-04-24T08:19:32.440Z"
   },
   {
    "duration": 6,
    "start_time": "2022-04-24T08:19:43.379Z"
   },
   {
    "duration": 7,
    "start_time": "2022-04-24T08:19:46.368Z"
   },
   {
    "duration": 15965,
    "start_time": "2022-04-24T08:19:54.362Z"
   },
   {
    "duration": 17,
    "start_time": "2022-04-24T08:20:10.331Z"
   },
   {
    "duration": 818,
    "start_time": "2022-04-24T08:20:10.350Z"
   },
   {
    "duration": 8655,
    "start_time": "2022-04-24T08:20:11.172Z"
   },
   {
    "duration": 5,
    "start_time": "2022-04-24T08:20:19.829Z"
   },
   {
    "duration": 21,
    "start_time": "2022-04-24T08:20:19.836Z"
   },
   {
    "duration": 684,
    "start_time": "2022-04-24T08:20:19.858Z"
   },
   {
    "duration": 1086,
    "start_time": "2022-04-24T08:20:20.543Z"
   },
   {
    "duration": 110,
    "start_time": "2022-04-24T08:20:21.631Z"
   },
   {
    "duration": 29,
    "start_time": "2022-04-24T08:20:58.887Z"
   },
   {
    "duration": 4,
    "start_time": "2022-04-24T08:40:52.813Z"
   },
   {
    "duration": 6,
    "start_time": "2022-04-24T08:42:36.239Z"
   },
   {
    "duration": 199,
    "start_time": "2022-04-24T08:45:28.335Z"
   },
   {
    "duration": 8,
    "start_time": "2022-04-24T09:34:56.198Z"
   },
   {
    "duration": 537,
    "start_time": "2022-04-24T09:35:22.518Z"
   },
   {
    "duration": 446,
    "start_time": "2022-04-24T09:35:42.325Z"
   },
   {
    "duration": 455,
    "start_time": "2022-04-24T09:35:49.284Z"
   },
   {
    "duration": 384,
    "start_time": "2022-04-24T09:35:56.087Z"
   },
   {
    "duration": 368,
    "start_time": "2022-04-24T09:36:06.481Z"
   },
   {
    "duration": 294,
    "start_time": "2022-04-24T09:37:17.776Z"
   },
   {
    "duration": 257,
    "start_time": "2022-04-24T09:37:26.901Z"
   },
   {
    "duration": 299,
    "start_time": "2022-04-24T09:38:58.653Z"
   },
   {
    "duration": 210,
    "start_time": "2022-04-24T09:39:15.746Z"
   },
   {
    "duration": 259,
    "start_time": "2022-04-24T09:40:53.180Z"
   },
   {
    "duration": 317,
    "start_time": "2022-04-24T09:41:00.950Z"
   },
   {
    "duration": 259,
    "start_time": "2022-04-24T09:41:12.409Z"
   },
   {
    "duration": 275,
    "start_time": "2022-04-24T09:41:19.420Z"
   },
   {
    "duration": 229,
    "start_time": "2022-04-24T09:41:27.358Z"
   },
   {
    "duration": 195,
    "start_time": "2022-04-24T09:41:35.174Z"
   },
   {
    "duration": 3,
    "start_time": "2022-04-24T09:46:16.088Z"
   },
   {
    "duration": 19,
    "start_time": "2022-04-24T09:46:27.168Z"
   },
   {
    "duration": 9,
    "start_time": "2022-04-24T09:47:20.734Z"
   },
   {
    "duration": 14,
    "start_time": "2022-04-24T09:47:21.457Z"
   },
   {
    "duration": 11,
    "start_time": "2022-04-24T09:50:22.590Z"
   },
   {
    "duration": 8,
    "start_time": "2022-04-24T10:10:54.793Z"
   },
   {
    "duration": 7,
    "start_time": "2022-04-24T10:11:10.091Z"
   },
   {
    "duration": 24,
    "start_time": "2022-04-24T10:16:02.318Z"
   },
   {
    "duration": 1240,
    "start_time": "2022-04-24T10:16:15.042Z"
   },
   {
    "duration": 1269,
    "start_time": "2022-04-24T10:17:00.958Z"
   },
   {
    "duration": 3427,
    "start_time": "2022-04-24T10:18:04.346Z"
   },
   {
    "duration": 2363,
    "start_time": "2022-04-24T10:18:10.502Z"
   },
   {
    "duration": 12,
    "start_time": "2022-04-24T10:28:18.954Z"
   },
   {
    "duration": 17,
    "start_time": "2022-04-24T10:29:04.457Z"
   },
   {
    "duration": 16,
    "start_time": "2022-04-24T10:29:15.100Z"
   },
   {
    "duration": 415,
    "start_time": "2022-04-24T10:36:20.352Z"
   },
   {
    "duration": 248,
    "start_time": "2022-04-24T10:36:24.916Z"
   },
   {
    "duration": 37,
    "start_time": "2022-04-24T10:40:06.160Z"
   },
   {
    "duration": 281,
    "start_time": "2022-04-24T10:40:12.248Z"
   },
   {
    "duration": 33,
    "start_time": "2022-04-24T10:40:15.915Z"
   },
   {
    "duration": 131,
    "start_time": "2022-04-24T10:40:22.185Z"
   },
   {
    "duration": 161,
    "start_time": "2022-04-24T10:40:27.926Z"
   },
   {
    "duration": 11,
    "start_time": "2022-04-24T10:43:58.397Z"
   },
   {
    "duration": 7,
    "start_time": "2022-04-24T10:44:22.599Z"
   },
   {
    "duration": 160,
    "start_time": "2022-04-24T10:44:48.311Z"
   },
   {
    "duration": 140,
    "start_time": "2022-04-24T10:44:54.568Z"
   },
   {
    "duration": 432,
    "start_time": "2022-04-24T10:45:02.006Z"
   },
   {
    "duration": 1960,
    "start_time": "2022-04-24T10:46:50.091Z"
   },
   {
    "duration": 54,
    "start_time": "2022-04-24T10:47:19.208Z"
   },
   {
    "duration": 1689,
    "start_time": "2022-04-24T10:47:21.884Z"
   },
   {
    "duration": 16966,
    "start_time": "2022-04-24T10:47:29.290Z"
   },
   {
    "duration": 77,
    "start_time": "2022-04-24T10:47:46.259Z"
   },
   {
    "duration": 469,
    "start_time": "2022-04-24T10:47:46.337Z"
   },
   {
    "duration": 10125,
    "start_time": "2022-04-24T10:47:46.808Z"
   },
   {
    "duration": 11,
    "start_time": "2022-04-24T10:47:56.935Z"
   },
   {
    "duration": 27,
    "start_time": "2022-04-24T10:47:56.948Z"
   },
   {
    "duration": 860,
    "start_time": "2022-04-24T10:47:56.977Z"
   },
   {
    "duration": 1100,
    "start_time": "2022-04-24T10:47:57.839Z"
   },
   {
    "duration": 2115,
    "start_time": "2022-04-24T10:47:58.947Z"
   },
   {
    "duration": 4808,
    "start_time": "2022-04-24T10:48:01.124Z"
   },
   {
    "duration": 740,
    "start_time": "2022-04-24T10:48:05.935Z"
   },
   {
    "duration": 296,
    "start_time": "2022-04-24T10:48:06.677Z"
   },
   {
    "duration": 3553,
    "start_time": "2022-04-24T10:48:06.975Z"
   },
   {
    "duration": 101,
    "start_time": "2022-04-24T10:48:20.167Z"
   },
   {
    "duration": 1527,
    "start_time": "2022-04-24T10:48:21.179Z"
   },
   {
    "duration": 83,
    "start_time": "2022-04-24T10:54:14.824Z"
   },
   {
    "duration": 232,
    "start_time": "2022-04-24T10:56:43.025Z"
   },
   {
    "duration": 112,
    "start_time": "2022-04-24T10:57:05.467Z"
   },
   {
    "duration": 3,
    "start_time": "2022-04-24T11:09:11.064Z"
   },
   {
    "duration": 2188,
    "start_time": "2022-04-24T14:55:38.440Z"
   },
   {
    "duration": 194,
    "start_time": "2022-04-24T14:56:00.422Z"
   },
   {
    "duration": 85,
    "start_time": "2022-04-24T14:56:08.481Z"
   },
   {
    "duration": 212,
    "start_time": "2022-04-24T14:56:16.162Z"
   },
   {
    "duration": 314,
    "start_time": "2022-04-24T15:01:35.132Z"
   },
   {
    "duration": 196,
    "start_time": "2022-04-24T15:01:44.986Z"
   },
   {
    "duration": 16162,
    "start_time": "2022-04-24T15:03:34.702Z"
   },
   {
    "duration": 65,
    "start_time": "2022-04-24T15:03:50.867Z"
   },
   {
    "duration": 503,
    "start_time": "2022-04-24T15:03:50.933Z"
   },
   {
    "duration": 9513,
    "start_time": "2022-04-24T15:03:51.439Z"
   },
   {
    "duration": 6,
    "start_time": "2022-04-24T15:04:00.955Z"
   },
   {
    "duration": 85,
    "start_time": "2022-04-24T15:04:00.963Z"
   },
   {
    "duration": 806,
    "start_time": "2022-04-24T15:04:01.050Z"
   },
   {
    "duration": 1172,
    "start_time": "2022-04-24T15:04:01.858Z"
   },
   {
    "duration": 1900,
    "start_time": "2022-04-24T15:04:03.032Z"
   },
   {
    "duration": 4225,
    "start_time": "2022-04-24T15:04:04.935Z"
   },
   {
    "duration": 664,
    "start_time": "2022-04-24T15:04:09.161Z"
   },
   {
    "duration": 110,
    "start_time": "2022-04-24T15:04:09.827Z"
   },
   {
    "duration": 1896,
    "start_time": "2022-04-24T15:04:09.938Z"
   },
   {
    "duration": 236,
    "start_time": "2022-04-24T15:04:11.836Z"
   },
   {
    "duration": 1407,
    "start_time": "2022-04-24T15:04:12.125Z"
   },
   {
    "duration": 426,
    "start_time": "2022-04-24T15:04:13.534Z"
   },
   {
    "duration": 394,
    "start_time": "2022-04-24T15:04:13.961Z"
   },
   {
    "duration": 471,
    "start_time": "2022-04-24T15:04:14.358Z"
   },
   {
    "duration": 117,
    "start_time": "2022-04-24T15:20:30.682Z"
   },
   {
    "duration": 12,
    "start_time": "2022-04-24T15:20:43.877Z"
   },
   {
    "duration": 19,
    "start_time": "2022-04-24T15:24:21.420Z"
   },
   {
    "duration": 106,
    "start_time": "2022-04-24T16:20:01.724Z"
   },
   {
    "duration": 678,
    "start_time": "2022-04-24T16:20:22.646Z"
   },
   {
    "duration": 4,
    "start_time": "2022-04-24T16:31:07.575Z"
   },
   {
    "duration": 7,
    "start_time": "2022-04-24T16:36:30.792Z"
   },
   {
    "duration": 3,
    "start_time": "2022-04-24T16:36:36.495Z"
   },
   {
    "duration": 1405,
    "start_time": "2022-04-24T16:36:37.447Z"
   },
   {
    "duration": 490,
    "start_time": "2022-04-24T16:38:16.637Z"
   },
   {
    "duration": 4,
    "start_time": "2022-04-24T16:39:57.924Z"
   },
   {
    "duration": 282,
    "start_time": "2022-04-24T16:43:43.182Z"
   },
   {
    "duration": 8,
    "start_time": "2022-04-24T16:54:17.011Z"
   },
   {
    "duration": 2851,
    "start_time": "2022-04-24T16:55:08.491Z"
   },
   {
    "duration": 1699,
    "start_time": "2022-04-24T16:55:22.661Z"
   },
   {
    "duration": 368215,
    "start_time": "2022-04-24T17:04:38.853Z"
   },
   {
    "duration": 18128,
    "start_time": "2022-04-24T17:17:44.157Z"
   },
   {
    "duration": 21,
    "start_time": "2022-04-24T17:18:02.326Z"
   },
   {
    "duration": 527,
    "start_time": "2022-04-24T17:18:02.348Z"
   },
   {
    "duration": 8877,
    "start_time": "2022-04-24T17:18:02.877Z"
   },
   {
    "duration": 5,
    "start_time": "2022-04-24T17:18:11.756Z"
   },
   {
    "duration": 83,
    "start_time": "2022-04-24T17:18:11.762Z"
   },
   {
    "duration": 798,
    "start_time": "2022-04-24T17:18:11.848Z"
   },
   {
    "duration": 1107,
    "start_time": "2022-04-24T17:18:12.648Z"
   },
   {
    "duration": 1981,
    "start_time": "2022-04-24T17:18:13.757Z"
   },
   {
    "duration": 4509,
    "start_time": "2022-04-24T17:18:15.741Z"
   },
   {
    "duration": 775,
    "start_time": "2022-04-24T17:18:20.252Z"
   },
   {
    "duration": 203,
    "start_time": "2022-04-24T17:18:21.031Z"
   },
   {
    "duration": 1789,
    "start_time": "2022-04-24T17:18:21.236Z"
   },
   {
    "duration": 309,
    "start_time": "2022-04-24T17:18:23.026Z"
   },
   {
    "duration": 1605,
    "start_time": "2022-04-24T17:18:23.337Z"
   },
   {
    "duration": 321,
    "start_time": "2022-04-24T17:18:24.944Z"
   },
   {
    "duration": 307,
    "start_time": "2022-04-24T17:18:25.267Z"
   },
   {
    "duration": 282,
    "start_time": "2022-04-24T17:18:25.576Z"
   },
   {
    "duration": 107,
    "start_time": "2022-04-24T17:18:25.859Z"
   },
   {
    "duration": 416,
    "start_time": "2022-04-24T17:18:26.026Z"
   },
   {
    "duration": 2,
    "start_time": "2022-04-24T17:18:26.444Z"
   },
   {
    "duration": 1506,
    "start_time": "2022-04-24T17:18:26.448Z"
   },
   {
    "duration": 3,
    "start_time": "2022-04-24T17:18:27.956Z"
   },
   {
    "duration": 512,
    "start_time": "2022-04-24T17:18:27.961Z"
   },
   {
    "duration": 3283,
    "start_time": "2022-04-24T17:18:28.475Z"
   },
   {
    "duration": 187,
    "start_time": "2022-04-24T17:18:31.760Z"
   },
   {
    "duration": 17023,
    "start_time": "2022-04-24T17:27:42.146Z"
   },
   {
    "duration": 83,
    "start_time": "2022-04-24T17:27:59.172Z"
   },
   {
    "duration": 914,
    "start_time": "2022-04-24T17:27:59.257Z"
   },
   {
    "duration": 10484,
    "start_time": "2022-04-24T17:28:00.174Z"
   },
   {
    "duration": 9,
    "start_time": "2022-04-24T17:28:10.661Z"
   },
   {
    "duration": 84,
    "start_time": "2022-04-24T17:28:10.672Z"
   },
   {
    "duration": 874,
    "start_time": "2022-04-24T17:28:10.757Z"
   },
   {
    "duration": 1129,
    "start_time": "2022-04-24T17:28:11.635Z"
   },
   {
    "duration": 2081,
    "start_time": "2022-04-24T17:28:12.766Z"
   },
   {
    "duration": 4801,
    "start_time": "2022-04-24T17:28:14.849Z"
   },
   {
    "duration": 772,
    "start_time": "2022-04-24T17:28:19.652Z"
   },
   {
    "duration": 202,
    "start_time": "2022-04-24T17:28:20.426Z"
   },
   {
    "duration": 2035,
    "start_time": "2022-04-24T17:28:20.630Z"
   },
   {
    "duration": 279,
    "start_time": "2022-04-24T17:28:22.669Z"
   },
   {
    "duration": 1587,
    "start_time": "2022-04-24T17:28:22.950Z"
   },
   {
    "duration": 409,
    "start_time": "2022-04-24T17:28:24.539Z"
   },
   {
    "duration": 306,
    "start_time": "2022-04-24T17:28:24.956Z"
   },
   {
    "duration": 369,
    "start_time": "2022-04-24T17:28:25.264Z"
   },
   {
    "duration": 115,
    "start_time": "2022-04-24T17:28:25.635Z"
   },
   {
    "duration": 526,
    "start_time": "2022-04-24T17:28:25.752Z"
   },
   {
    "duration": 5,
    "start_time": "2022-04-24T17:28:26.325Z"
   },
   {
    "duration": 1725,
    "start_time": "2022-04-24T17:28:26.332Z"
   },
   {
    "duration": 4,
    "start_time": "2022-04-24T17:28:28.060Z"
   },
   {
    "duration": 674,
    "start_time": "2022-04-24T17:28:28.066Z"
   },
   {
    "duration": 3698,
    "start_time": "2022-04-24T17:28:28.742Z"
   },
   {
    "duration": 5703,
    "start_time": "2022-04-24T17:28:32.442Z"
   },
   {
    "duration": 13,
    "start_time": "2022-04-24T17:30:16.930Z"
   },
   {
    "duration": 79,
    "start_time": "2022-04-24T17:30:43.620Z"
   },
   {
    "duration": 8,
    "start_time": "2022-04-24T17:32:11.889Z"
   },
   {
    "duration": 11,
    "start_time": "2022-04-24T17:32:16.763Z"
   },
   {
    "duration": 8,
    "start_time": "2022-04-24T17:37:17.459Z"
   },
   {
    "duration": 8,
    "start_time": "2022-04-24T17:38:36.090Z"
   },
   {
    "duration": 3,
    "start_time": "2022-04-24T17:39:21.255Z"
   },
   {
    "duration": 16401,
    "start_time": "2022-04-24T17:39:54.868Z"
   },
   {
    "duration": 55,
    "start_time": "2022-04-24T17:40:11.272Z"
   },
   {
    "duration": 484,
    "start_time": "2022-04-24T17:40:11.330Z"
   },
   {
    "duration": 8637,
    "start_time": "2022-04-24T17:40:11.816Z"
   },
   {
    "duration": 5,
    "start_time": "2022-04-24T17:40:20.455Z"
   },
   {
    "duration": 93,
    "start_time": "2022-04-24T17:40:20.462Z"
   },
   {
    "duration": 805,
    "start_time": "2022-04-24T17:40:20.557Z"
   },
   {
    "duration": 1107,
    "start_time": "2022-04-24T17:40:21.364Z"
   },
   {
    "duration": 1822,
    "start_time": "2022-04-24T17:40:22.525Z"
   },
   {
    "duration": 4593,
    "start_time": "2022-04-24T17:40:24.349Z"
   },
   {
    "duration": 697,
    "start_time": "2022-04-24T17:40:28.944Z"
   },
   {
    "duration": 183,
    "start_time": "2022-04-24T17:40:29.643Z"
   },
   {
    "duration": 1913,
    "start_time": "2022-04-24T17:40:29.829Z"
   },
   {
    "duration": 211,
    "start_time": "2022-04-24T17:40:31.744Z"
   },
   {
    "duration": 1670,
    "start_time": "2022-04-24T17:40:31.958Z"
   },
   {
    "duration": 339,
    "start_time": "2022-04-24T17:40:33.629Z"
   },
   {
    "duration": 477,
    "start_time": "2022-04-24T17:40:33.970Z"
   },
   {
    "duration": 282,
    "start_time": "2022-04-24T17:40:34.449Z"
   },
   {
    "duration": 119,
    "start_time": "2022-04-24T17:40:34.733Z"
   },
   {
    "duration": 481,
    "start_time": "2022-04-24T17:40:34.853Z"
   },
   {
    "duration": 4,
    "start_time": "2022-04-24T17:40:35.336Z"
   },
   {
    "duration": 1423,
    "start_time": "2022-04-24T17:40:35.341Z"
   },
   {
    "duration": 62,
    "start_time": "2022-04-24T17:40:36.766Z"
   },
   {
    "duration": 516,
    "start_time": "2022-04-24T17:40:36.830Z"
   },
   {
    "duration": 3901,
    "start_time": "2022-04-24T17:40:37.348Z"
   },
   {
    "duration": 109,
    "start_time": "2022-04-24T17:40:41.250Z"
   },
   {
    "duration": 4,
    "start_time": "2022-04-24T17:40:41.361Z"
   },
   {
    "duration": 119,
    "start_time": "2022-04-24T17:49:38.563Z"
   },
   {
    "duration": 11,
    "start_time": "2022-04-24T17:50:28.162Z"
   },
   {
    "duration": 4,
    "start_time": "2022-04-24T17:51:09.977Z"
   },
   {
    "duration": 4,
    "start_time": "2022-04-24T17:53:01.245Z"
   },
   {
    "duration": 8,
    "start_time": "2022-04-24T18:04:01.156Z"
   },
   {
    "duration": 23,
    "start_time": "2022-04-24T18:05:17.427Z"
   },
   {
    "duration": 5186,
    "start_time": "2022-04-24T18:05:35.059Z"
   },
   {
    "duration": 12,
    "start_time": "2022-04-24T18:06:20.685Z"
   },
   {
    "duration": 4,
    "start_time": "2022-04-24T18:06:21.358Z"
   },
   {
    "duration": 7,
    "start_time": "2022-04-24T18:06:21.718Z"
   },
   {
    "duration": 24650,
    "start_time": "2022-04-24T18:06:22.950Z"
   },
   {
    "duration": 5,
    "start_time": "2022-04-24T18:07:42.914Z"
   },
   {
    "duration": 14,
    "start_time": "2022-04-24T18:12:45.701Z"
   },
   {
    "duration": 30,
    "start_time": "2022-04-24T18:12:49.761Z"
   },
   {
    "duration": 981,
    "start_time": "2022-04-24T18:13:27.251Z"
   },
   {
    "duration": 246,
    "start_time": "2022-04-24T18:14:09.473Z"
   },
   {
    "duration": 19232,
    "start_time": "2022-04-24T18:15:20.431Z"
   },
   {
    "duration": 69,
    "start_time": "2022-04-24T18:15:39.665Z"
   },
   {
    "duration": 710,
    "start_time": "2022-04-24T18:15:39.736Z"
   },
   {
    "duration": 10511,
    "start_time": "2022-04-24T18:15:40.453Z"
   },
   {
    "duration": 8,
    "start_time": "2022-04-24T18:15:50.967Z"
   },
   {
    "duration": 26,
    "start_time": "2022-04-24T18:15:51.028Z"
   },
   {
    "duration": 971,
    "start_time": "2022-04-24T18:15:51.055Z"
   },
   {
    "duration": 1402,
    "start_time": "2022-04-24T18:15:52.031Z"
   },
   {
    "duration": 2453,
    "start_time": "2022-04-24T18:15:53.435Z"
   },
   {
    "duration": 4570,
    "start_time": "2022-04-24T18:15:55.892Z"
   },
   {
    "duration": 711,
    "start_time": "2022-04-24T18:16:00.465Z"
   },
   {
    "duration": 254,
    "start_time": "2022-04-24T18:16:01.178Z"
   },
   {
    "duration": 1732,
    "start_time": "2022-04-24T18:16:01.437Z"
   },
   {
    "duration": 300,
    "start_time": "2022-04-24T18:16:03.224Z"
   },
   {
    "duration": 1646,
    "start_time": "2022-04-24T18:16:03.527Z"
   },
   {
    "duration": 451,
    "start_time": "2022-04-24T18:16:05.175Z"
   },
   {
    "duration": 309,
    "start_time": "2022-04-24T18:16:05.628Z"
   },
   {
    "duration": 413,
    "start_time": "2022-04-24T18:16:05.938Z"
   },
   {
    "duration": 200,
    "start_time": "2022-04-24T18:16:06.356Z"
   },
   {
    "duration": 594,
    "start_time": "2022-04-24T18:16:06.557Z"
   },
   {
    "duration": 5,
    "start_time": "2022-04-24T18:16:07.157Z"
   },
   {
    "duration": 1574,
    "start_time": "2022-04-24T18:16:07.164Z"
   },
   {
    "duration": 16,
    "start_time": "2022-04-24T18:16:08.747Z"
   },
   {
    "duration": 577,
    "start_time": "2022-04-24T18:16:08.765Z"
   },
   {
    "duration": 623,
    "start_time": "2022-04-24T18:16:09.344Z"
   },
   {
    "duration": 255,
    "start_time": "2022-04-24T18:16:09.974Z"
   },
   {
    "duration": 0,
    "start_time": "2022-04-24T18:16:10.232Z"
   },
   {
    "duration": 0,
    "start_time": "2022-04-24T18:16:10.233Z"
   },
   {
    "duration": 0,
    "start_time": "2022-04-24T18:16:10.234Z"
   },
   {
    "duration": 0,
    "start_time": "2022-04-24T18:16:10.236Z"
   },
   {
    "duration": 0,
    "start_time": "2022-04-24T18:16:10.236Z"
   },
   {
    "duration": 0,
    "start_time": "2022-04-24T18:16:10.237Z"
   },
   {
    "duration": 10,
    "start_time": "2022-04-24T18:28:48.797Z"
   },
   {
    "duration": 16402,
    "start_time": "2022-04-25T06:35:37.829Z"
   },
   {
    "duration": 60,
    "start_time": "2022-04-25T06:35:54.234Z"
   },
   {
    "duration": 713,
    "start_time": "2022-04-25T06:35:54.295Z"
   },
   {
    "duration": 8514,
    "start_time": "2022-04-25T06:35:55.011Z"
   },
   {
    "duration": 71,
    "start_time": "2022-04-25T06:36:03.527Z"
   },
   {
    "duration": 28,
    "start_time": "2022-04-25T06:36:03.601Z"
   },
   {
    "duration": 865,
    "start_time": "2022-04-25T06:36:03.631Z"
   },
   {
    "duration": 1098,
    "start_time": "2022-04-25T06:36:04.497Z"
   },
   {
    "duration": 1725,
    "start_time": "2022-04-25T06:36:05.597Z"
   },
   {
    "duration": 4101,
    "start_time": "2022-04-25T06:36:07.395Z"
   },
   {
    "duration": 617,
    "start_time": "2022-04-25T06:36:11.498Z"
   },
   {
    "duration": 186,
    "start_time": "2022-04-25T06:36:12.116Z"
   },
   {
    "duration": 1498,
    "start_time": "2022-04-25T06:36:12.305Z"
   },
   {
    "duration": 220,
    "start_time": "2022-04-25T06:36:13.805Z"
   },
   {
    "duration": 2166,
    "start_time": "2022-04-25T06:36:14.027Z"
   },
   {
    "duration": 397,
    "start_time": "2022-04-25T06:36:16.196Z"
   },
   {
    "duration": 411,
    "start_time": "2022-04-25T06:36:16.596Z"
   },
   {
    "duration": 292,
    "start_time": "2022-04-25T06:36:17.009Z"
   },
   {
    "duration": 129,
    "start_time": "2022-04-25T06:36:17.303Z"
   },
   {
    "duration": 480,
    "start_time": "2022-04-25T06:36:17.434Z"
   },
   {
    "duration": 3,
    "start_time": "2022-04-25T06:36:17.917Z"
   },
   {
    "duration": 1572,
    "start_time": "2022-04-25T06:36:17.922Z"
   },
   {
    "duration": 5,
    "start_time": "2022-04-25T06:36:19.496Z"
   },
   {
    "duration": 537,
    "start_time": "2022-04-25T06:36:19.502Z"
   },
   {
    "duration": 579,
    "start_time": "2022-04-25T06:36:20.041Z"
   },
   {
    "duration": 3884,
    "start_time": "2022-04-25T06:36:20.621Z"
   },
   {
    "duration": 415,
    "start_time": "2022-04-25T06:36:24.507Z"
   },
   {
    "duration": 77,
    "start_time": "2022-04-25T06:36:24.926Z"
   },
   {
    "duration": 0,
    "start_time": "2022-04-25T06:36:25.005Z"
   },
   {
    "duration": 0,
    "start_time": "2022-04-25T06:36:25.006Z"
   },
   {
    "duration": 0,
    "start_time": "2022-04-25T06:36:25.007Z"
   },
   {
    "duration": 0,
    "start_time": "2022-04-25T06:36:25.008Z"
   },
   {
    "duration": 3,
    "start_time": "2022-04-25T06:42:48.251Z"
   },
   {
    "duration": 10,
    "start_time": "2022-04-25T06:42:49.133Z"
   },
   {
    "duration": 32857,
    "start_time": "2022-04-25T06:42:50.177Z"
   },
   {
    "duration": 757,
    "start_time": "2022-04-25T06:43:23.036Z"
   },
   {
    "duration": 18,
    "start_time": "2022-04-25T06:45:10.595Z"
   },
   {
    "duration": 7,
    "start_time": "2022-04-25T06:45:52.928Z"
   },
   {
    "duration": 4,
    "start_time": "2022-04-25T06:47:03.572Z"
   },
   {
    "duration": 725,
    "start_time": "2022-04-25T06:50:13.712Z"
   },
   {
    "duration": 17070,
    "start_time": "2022-04-25T11:56:03.677Z"
   },
   {
    "duration": 21,
    "start_time": "2022-04-25T11:56:20.751Z"
   },
   {
    "duration": 778,
    "start_time": "2022-04-25T11:56:20.774Z"
   },
   {
    "duration": 9316,
    "start_time": "2022-04-25T11:56:21.554Z"
   },
   {
    "duration": 5,
    "start_time": "2022-04-25T11:56:30.873Z"
   },
   {
    "duration": 88,
    "start_time": "2022-04-25T11:56:30.879Z"
   },
   {
    "duration": 791,
    "start_time": "2022-04-25T11:56:30.968Z"
   },
   {
    "duration": 1107,
    "start_time": "2022-04-25T11:56:31.761Z"
   },
   {
    "duration": 1686,
    "start_time": "2022-04-25T11:56:32.870Z"
   },
   {
    "duration": 3998,
    "start_time": "2022-04-25T11:56:34.558Z"
   },
   {
    "duration": 723,
    "start_time": "2022-04-25T11:56:38.558Z"
   },
   {
    "duration": 194,
    "start_time": "2022-04-25T11:56:39.284Z"
   },
   {
    "duration": 1783,
    "start_time": "2022-04-25T11:56:39.481Z"
   },
   {
    "duration": 205,
    "start_time": "2022-04-25T11:56:41.267Z"
   },
   {
    "duration": 1504,
    "start_time": "2022-04-25T11:56:41.474Z"
   },
   {
    "duration": 377,
    "start_time": "2022-04-25T11:56:42.981Z"
   },
   {
    "duration": 320,
    "start_time": "2022-04-25T11:56:43.360Z"
   },
   {
    "duration": 299,
    "start_time": "2022-04-25T11:56:43.683Z"
   },
   {
    "duration": 176,
    "start_time": "2022-04-25T11:56:43.984Z"
   },
   {
    "duration": 492,
    "start_time": "2022-04-25T11:56:44.162Z"
   },
   {
    "duration": 4,
    "start_time": "2022-04-25T11:56:44.656Z"
   },
   {
    "duration": 1625,
    "start_time": "2022-04-25T11:56:44.662Z"
   },
   {
    "duration": 4,
    "start_time": "2022-04-25T11:56:46.289Z"
   },
   {
    "duration": 413,
    "start_time": "2022-04-25T11:56:46.356Z"
   },
   {
    "duration": 511,
    "start_time": "2022-04-25T11:56:46.771Z"
   },
   {
    "duration": 3313,
    "start_time": "2022-04-25T11:56:47.284Z"
   },
   {
    "duration": 287,
    "start_time": "2022-04-25T11:56:50.599Z"
   },
   {
    "duration": 3,
    "start_time": "2022-04-25T11:56:50.887Z"
   },
   {
    "duration": 17,
    "start_time": "2022-04-25T11:56:50.892Z"
   },
   {
    "duration": 33454,
    "start_time": "2022-04-25T11:56:50.911Z"
   },
   {
    "duration": 21,
    "start_time": "2022-04-25T11:57:24.367Z"
   },
   {
    "duration": 917,
    "start_time": "2022-04-25T11:57:24.390Z"
   },
   {
    "duration": 73,
    "start_time": "2022-04-25T12:11:02.337Z"
   },
   {
    "duration": 7,
    "start_time": "2022-04-25T12:26:27.318Z"
   },
   {
    "duration": 21,
    "start_time": "2022-04-25T12:32:58.896Z"
   },
   {
    "duration": 8,
    "start_time": "2022-04-25T12:33:43.329Z"
   },
   {
    "duration": 8,
    "start_time": "2022-04-25T12:34:14.691Z"
   },
   {
    "duration": 8,
    "start_time": "2022-04-25T12:34:26.446Z"
   },
   {
    "duration": 16141,
    "start_time": "2022-04-25T12:37:09.554Z"
   },
   {
    "duration": 72,
    "start_time": "2022-04-25T12:37:25.698Z"
   },
   {
    "duration": 1186,
    "start_time": "2022-04-25T12:37:25.773Z"
   },
   {
    "duration": 8605,
    "start_time": "2022-04-25T12:37:26.962Z"
   },
   {
    "duration": 5,
    "start_time": "2022-04-25T12:37:35.569Z"
   },
   {
    "duration": 82,
    "start_time": "2022-04-25T12:37:35.575Z"
   },
   {
    "duration": 700,
    "start_time": "2022-04-25T12:37:35.659Z"
   },
   {
    "duration": 931,
    "start_time": "2022-04-25T12:37:36.361Z"
   },
   {
    "duration": 2005,
    "start_time": "2022-04-25T12:37:37.356Z"
   },
   {
    "duration": 4304,
    "start_time": "2022-04-25T12:37:39.362Z"
   },
   {
    "duration": 705,
    "start_time": "2022-04-25T12:37:43.668Z"
   },
   {
    "duration": 201,
    "start_time": "2022-04-25T12:37:44.375Z"
   },
   {
    "duration": 1699,
    "start_time": "2022-04-25T12:37:44.580Z"
   },
   {
    "duration": 225,
    "start_time": "2022-04-25T12:37:46.281Z"
   },
   {
    "duration": 1595,
    "start_time": "2022-04-25T12:37:46.508Z"
   },
   {
    "duration": 378,
    "start_time": "2022-04-25T12:37:48.105Z"
   },
   {
    "duration": 397,
    "start_time": "2022-04-25T12:37:48.486Z"
   },
   {
    "duration": 381,
    "start_time": "2022-04-25T12:37:48.886Z"
   },
   {
    "duration": 122,
    "start_time": "2022-04-25T12:37:49.269Z"
   },
   {
    "duration": 588,
    "start_time": "2022-04-25T12:37:49.395Z"
   },
   {
    "duration": 69,
    "start_time": "2022-04-25T12:37:49.986Z"
   },
   {
    "duration": 1399,
    "start_time": "2022-04-25T12:37:50.057Z"
   },
   {
    "duration": 4,
    "start_time": "2022-04-25T12:37:51.458Z"
   },
   {
    "duration": 591,
    "start_time": "2022-04-25T12:37:51.464Z"
   },
   {
    "duration": 519,
    "start_time": "2022-04-25T12:37:52.056Z"
   },
   {
    "duration": 3479,
    "start_time": "2022-04-25T12:37:52.577Z"
   },
   {
    "duration": 105,
    "start_time": "2022-04-25T12:37:56.058Z"
   },
   {
    "duration": 4,
    "start_time": "2022-04-25T12:37:56.165Z"
   },
   {
    "duration": 30,
    "start_time": "2022-04-25T12:37:56.171Z"
   },
   {
    "duration": 31567,
    "start_time": "2022-04-25T12:37:56.203Z"
   },
   {
    "duration": 5,
    "start_time": "2022-04-25T12:38:27.771Z"
   },
   {
    "duration": 7,
    "start_time": "2022-04-25T12:38:27.777Z"
   },
   {
    "duration": 100,
    "start_time": "2022-04-25T12:38:27.786Z"
   },
   {
    "duration": 0,
    "start_time": "2022-04-25T12:38:27.887Z"
   },
   {
    "duration": 0,
    "start_time": "2022-04-25T12:38:27.889Z"
   },
   {
    "duration": 0,
    "start_time": "2022-04-25T12:38:27.890Z"
   },
   {
    "duration": 0,
    "start_time": "2022-04-25T12:38:27.891Z"
   },
   {
    "duration": 5,
    "start_time": "2022-04-25T12:38:47.876Z"
   },
   {
    "duration": 4,
    "start_time": "2022-04-25T12:41:22.132Z"
   },
   {
    "duration": 7,
    "start_time": "2022-04-25T12:52:03.908Z"
   },
   {
    "duration": 654,
    "start_time": "2022-04-25T12:52:03.918Z"
   },
   {
    "duration": 311,
    "start_time": "2022-04-25T12:52:04.574Z"
   },
   {
    "duration": 3,
    "start_time": "2022-04-25T12:52:04.887Z"
   },
   {
    "duration": 63,
    "start_time": "2022-04-25T12:52:04.893Z"
   },
   {
    "duration": 126,
    "start_time": "2022-04-25T12:52:04.958Z"
   },
   {
    "duration": 134,
    "start_time": "2022-04-25T12:52:05.086Z"
   },
   {
    "duration": 1235,
    "start_time": "2022-04-25T12:52:05.221Z"
   },
   {
    "duration": 2253,
    "start_time": "2022-04-25T12:52:06.458Z"
   },
   {
    "duration": 159,
    "start_time": "2022-04-25T12:52:08.713Z"
   },
   {
    "duration": 85,
    "start_time": "2022-04-25T12:52:08.874Z"
   },
   {
    "duration": 546,
    "start_time": "2022-04-25T12:52:08.961Z"
   },
   {
    "duration": 67,
    "start_time": "2022-04-25T12:52:09.509Z"
   },
   {
    "duration": 392,
    "start_time": "2022-04-25T12:52:09.579Z"
   },
   {
    "duration": 186,
    "start_time": "2022-04-25T12:52:09.973Z"
   },
   {
    "duration": 24,
    "start_time": "2022-04-25T12:52:10.161Z"
   },
   {
    "duration": 105,
    "start_time": "2022-04-25T12:52:10.187Z"
   },
   {
    "duration": 66,
    "start_time": "2022-04-25T12:52:10.293Z"
   },
   {
    "duration": 138,
    "start_time": "2022-04-25T12:52:10.360Z"
   },
   {
    "duration": 3,
    "start_time": "2022-04-25T12:52:10.500Z"
   },
   {
    "duration": 465,
    "start_time": "2022-04-25T12:52:10.505Z"
   },
   {
    "duration": 4,
    "start_time": "2022-04-25T12:52:10.972Z"
   },
   {
    "duration": 211,
    "start_time": "2022-04-25T12:52:10.978Z"
   },
   {
    "duration": 207,
    "start_time": "2022-04-25T12:52:11.190Z"
   },
   {
    "duration": 1419,
    "start_time": "2022-04-25T12:52:11.455Z"
   },
   {
    "duration": 7,
    "start_time": "2022-04-25T12:52:12.876Z"
   },
   {
    "duration": 12,
    "start_time": "2022-04-25T12:52:12.885Z"
   },
   {
    "duration": 15,
    "start_time": "2022-04-25T12:52:12.899Z"
   },
   {
    "duration": 20457,
    "start_time": "2022-04-25T12:52:12.916Z"
   },
   {
    "duration": 3,
    "start_time": "2022-04-25T12:52:33.376Z"
   },
   {
    "duration": 75,
    "start_time": "2022-04-25T12:52:33.380Z"
   },
   {
    "duration": 5,
    "start_time": "2022-04-25T12:52:33.458Z"
   },
   {
    "duration": 1804,
    "start_time": "2022-04-25T12:52:33.464Z"
   },
   {
    "duration": 12,
    "start_time": "2022-04-25T12:52:35.270Z"
   },
   {
    "duration": 0,
    "start_time": "2022-04-25T12:52:35.284Z"
   },
   {
    "duration": 0,
    "start_time": "2022-04-25T12:52:35.286Z"
   },
   {
    "duration": 0,
    "start_time": "2022-04-25T12:52:35.287Z"
   },
   {
    "duration": 0,
    "start_time": "2022-04-25T12:52:35.288Z"
   },
   {
    "duration": 19,
    "start_time": "2022-04-25T12:56:10.505Z"
   },
   {
    "duration": 10,
    "start_time": "2022-04-25T12:56:14.358Z"
   },
   {
    "duration": 696,
    "start_time": "2022-04-25T12:56:27.093Z"
   },
   {
    "duration": 1031,
    "start_time": "2022-04-25T12:57:52.023Z"
   },
   {
    "duration": 596,
    "start_time": "2022-04-25T12:57:57.636Z"
   },
   {
    "duration": 9,
    "start_time": "2022-04-25T13:06:48.940Z"
   },
   {
    "duration": 4,
    "start_time": "2022-04-25T13:07:19.195Z"
   },
   {
    "duration": 7,
    "start_time": "2022-04-25T13:07:27.487Z"
   },
   {
    "duration": 4,
    "start_time": "2022-04-25T13:07:59.430Z"
   },
   {
    "duration": 612,
    "start_time": "2022-04-25T13:09:19.124Z"
   },
   {
    "duration": 8,
    "start_time": "2022-04-25T13:09:50.075Z"
   },
   {
    "duration": 427,
    "start_time": "2022-04-25T13:09:55.129Z"
   },
   {
    "duration": 426,
    "start_time": "2022-04-25T13:10:42.256Z"
   },
   {
    "duration": 8,
    "start_time": "2022-04-25T13:10:54.737Z"
   },
   {
    "duration": 469,
    "start_time": "2022-04-25T13:10:55.220Z"
   },
   {
    "duration": 439,
    "start_time": "2022-04-25T13:10:55.890Z"
   },
   {
    "duration": 408,
    "start_time": "2022-04-25T13:10:57.093Z"
   },
   {
    "duration": 8,
    "start_time": "2022-04-25T13:11:19.132Z"
   },
   {
    "duration": 332,
    "start_time": "2022-04-25T13:11:19.955Z"
   },
   {
    "duration": 375,
    "start_time": "2022-04-25T13:11:21.163Z"
   },
   {
    "duration": 341,
    "start_time": "2022-04-25T13:11:22.051Z"
   },
   {
    "duration": 13,
    "start_time": "2022-04-25T13:35:26.031Z"
   },
   {
    "duration": 12,
    "start_time": "2022-04-25T13:35:42.481Z"
   },
   {
    "duration": 12,
    "start_time": "2022-04-25T13:36:12.821Z"
   },
   {
    "duration": 194,
    "start_time": "2022-04-25T13:36:27.209Z"
   },
   {
    "duration": 126,
    "start_time": "2022-04-25T13:36:36.388Z"
   },
   {
    "duration": 209,
    "start_time": "2022-04-25T13:38:20.582Z"
   },
   {
    "duration": 1909,
    "start_time": "2022-04-25T13:38:21.969Z"
   },
   {
    "duration": 4,
    "start_time": "2022-04-25T13:41:00.286Z"
   },
   {
    "duration": 8,
    "start_time": "2022-04-25T13:41:01.240Z"
   },
   {
    "duration": 21243,
    "start_time": "2022-04-25T13:41:01.821Z"
   },
   {
    "duration": 7,
    "start_time": "2022-04-25T13:42:08.946Z"
   },
   {
    "duration": 4,
    "start_time": "2022-04-25T13:42:09.891Z"
   },
   {
    "duration": 1751,
    "start_time": "2022-04-25T13:42:10.818Z"
   },
   {
    "duration": 527,
    "start_time": "2022-04-25T13:42:23.848Z"
   },
   {
    "duration": 10,
    "start_time": "2022-04-25T13:43:00.689Z"
   },
   {
    "duration": 621,
    "start_time": "2022-04-25T13:43:01.474Z"
   },
   {
    "duration": 516,
    "start_time": "2022-04-25T13:43:02.517Z"
   },
   {
    "duration": 582,
    "start_time": "2022-04-25T13:43:03.386Z"
   },
   {
    "duration": 17196,
    "start_time": "2022-04-25T13:44:00.897Z"
   },
   {
    "duration": 77,
    "start_time": "2022-04-25T13:44:18.096Z"
   },
   {
    "duration": 732,
    "start_time": "2022-04-25T13:44:18.175Z"
   },
   {
    "duration": 9956,
    "start_time": "2022-04-25T13:44:18.909Z"
   },
   {
    "duration": 6,
    "start_time": "2022-04-25T13:44:28.869Z"
   },
   {
    "duration": 82,
    "start_time": "2022-04-25T13:44:28.877Z"
   },
   {
    "duration": 831,
    "start_time": "2022-04-25T13:44:28.961Z"
   },
   {
    "duration": 1111,
    "start_time": "2022-04-25T13:44:29.855Z"
   },
   {
    "duration": 2395,
    "start_time": "2022-04-25T13:44:30.971Z"
   },
   {
    "duration": 4694,
    "start_time": "2022-04-25T13:44:33.368Z"
   },
   {
    "duration": 690,
    "start_time": "2022-04-25T13:44:38.065Z"
   },
   {
    "duration": 124,
    "start_time": "2022-04-25T13:44:38.757Z"
   },
   {
    "duration": 1791,
    "start_time": "2022-04-25T13:44:38.883Z"
   },
   {
    "duration": 292,
    "start_time": "2022-04-25T13:44:40.678Z"
   },
   {
    "duration": 1695,
    "start_time": "2022-04-25T13:44:40.972Z"
   },
   {
    "duration": 387,
    "start_time": "2022-04-25T13:44:42.670Z"
   },
   {
    "duration": 312,
    "start_time": "2022-04-25T13:44:43.059Z"
   },
   {
    "duration": 383,
    "start_time": "2022-04-25T13:44:43.373Z"
   },
   {
    "duration": 119,
    "start_time": "2022-04-25T13:44:43.758Z"
   },
   {
    "duration": 585,
    "start_time": "2022-04-25T13:44:43.879Z"
   },
   {
    "duration": 3,
    "start_time": "2022-04-25T13:44:44.466Z"
   },
   {
    "duration": 1400,
    "start_time": "2022-04-25T13:44:44.471Z"
   },
   {
    "duration": 4,
    "start_time": "2022-04-25T13:44:45.873Z"
   },
   {
    "duration": 585,
    "start_time": "2022-04-25T13:44:45.879Z"
   },
   {
    "duration": 688,
    "start_time": "2022-04-25T13:44:46.467Z"
   },
   {
    "duration": 3819,
    "start_time": "2022-04-25T13:44:47.157Z"
   },
   {
    "duration": 104,
    "start_time": "2022-04-25T13:44:50.978Z"
   },
   {
    "duration": 4,
    "start_time": "2022-04-25T13:44:51.084Z"
   },
   {
    "duration": 16,
    "start_time": "2022-04-25T13:44:51.089Z"
   },
   {
    "duration": 36953,
    "start_time": "2022-04-25T13:44:51.107Z"
   },
   {
    "duration": 5,
    "start_time": "2022-04-25T13:45:28.062Z"
   },
   {
    "duration": 13,
    "start_time": "2022-04-25T13:45:28.069Z"
   },
   {
    "duration": 1913,
    "start_time": "2022-04-25T13:45:28.085Z"
   },
   {
    "duration": 733,
    "start_time": "2022-04-25T13:45:30.000Z"
   },
   {
    "duration": 8,
    "start_time": "2022-04-25T13:45:30.755Z"
   },
   {
    "duration": 795,
    "start_time": "2022-04-25T13:45:30.765Z"
   },
   {
    "duration": 581,
    "start_time": "2022-04-25T13:45:31.562Z"
   },
   {
    "duration": 560,
    "start_time": "2022-04-25T13:45:32.155Z"
   },
   {
    "duration": 341,
    "start_time": "2022-04-25T13:45:32.717Z"
   },
   {
    "duration": 1542,
    "start_time": "2022-04-25T13:45:33.060Z"
   },
   {
    "duration": 3,
    "start_time": "2022-04-25T13:45:34.606Z"
   },
   {
    "duration": 47,
    "start_time": "2022-04-25T13:45:34.611Z"
   },
   {
    "duration": 22464,
    "start_time": "2022-04-25T13:45:34.659Z"
   },
   {
    "duration": 6,
    "start_time": "2022-04-25T13:45:57.125Z"
   },
   {
    "duration": 10,
    "start_time": "2022-04-25T13:45:57.133Z"
   },
   {
    "duration": 1902,
    "start_time": "2022-04-25T13:45:57.156Z"
   },
   {
    "duration": 800,
    "start_time": "2022-04-25T13:45:59.060Z"
   },
   {
    "duration": 8,
    "start_time": "2022-04-25T13:45:59.863Z"
   },
   {
    "duration": 983,
    "start_time": "2022-04-25T13:45:59.873Z"
   },
   {
    "duration": 529,
    "start_time": "2022-04-25T13:46:00.858Z"
   },
   {
    "duration": 597,
    "start_time": "2022-04-25T13:46:01.389Z"
   },
   {
    "duration": 18275,
    "start_time": "2022-04-25T13:54:37.586Z"
   },
   {
    "duration": 22,
    "start_time": "2022-04-25T13:54:55.866Z"
   },
   {
    "duration": 764,
    "start_time": "2022-04-25T13:54:55.890Z"
   },
   {
    "duration": 10524,
    "start_time": "2022-04-25T13:54:56.657Z"
   },
   {
    "duration": 7,
    "start_time": "2022-04-25T13:55:07.184Z"
   },
   {
    "duration": 84,
    "start_time": "2022-04-25T13:55:07.193Z"
   },
   {
    "duration": 876,
    "start_time": "2022-04-25T13:55:07.281Z"
   },
   {
    "duration": 1425,
    "start_time": "2022-04-25T13:55:08.158Z"
   },
   {
    "duration": 2097,
    "start_time": "2022-04-25T13:55:09.585Z"
   },
   {
    "duration": 4888,
    "start_time": "2022-04-25T13:55:11.684Z"
   },
   {
    "duration": 819,
    "start_time": "2022-04-25T13:55:16.574Z"
   },
   {
    "duration": 204,
    "start_time": "2022-04-25T13:55:17.395Z"
   },
   {
    "duration": 2016,
    "start_time": "2022-04-25T13:55:17.657Z"
   },
   {
    "duration": 277,
    "start_time": "2022-04-25T13:55:19.678Z"
   },
   {
    "duration": 1724,
    "start_time": "2022-04-25T13:55:19.959Z"
   },
   {
    "duration": 395,
    "start_time": "2022-04-25T13:55:21.687Z"
   },
   {
    "duration": 412,
    "start_time": "2022-04-25T13:55:22.084Z"
   },
   {
    "duration": 328,
    "start_time": "2022-04-25T13:55:22.554Z"
   },
   {
    "duration": 121,
    "start_time": "2022-04-25T13:55:22.885Z"
   },
   {
    "duration": 477,
    "start_time": "2022-04-25T13:55:23.009Z"
   },
   {
    "duration": 8,
    "start_time": "2022-04-25T13:55:23.487Z"
   },
   {
    "duration": 1717,
    "start_time": "2022-04-25T13:55:23.556Z"
   },
   {
    "duration": 4,
    "start_time": "2022-04-25T13:55:25.275Z"
   },
   {
    "duration": 604,
    "start_time": "2022-04-25T13:55:25.281Z"
   },
   {
    "duration": 687,
    "start_time": "2022-04-25T13:55:25.887Z"
   },
   {
    "duration": 3690,
    "start_time": "2022-04-25T13:55:26.576Z"
   },
   {
    "duration": 109,
    "start_time": "2022-04-25T13:55:30.268Z"
   },
   {
    "duration": 5,
    "start_time": "2022-04-25T13:55:30.379Z"
   },
   {
    "duration": 78,
    "start_time": "2022-04-25T13:55:30.385Z"
   },
   {
    "duration": 37221,
    "start_time": "2022-04-25T13:55:30.468Z"
   },
   {
    "duration": 5,
    "start_time": "2022-04-25T13:56:07.692Z"
   },
   {
    "duration": 13,
    "start_time": "2022-04-25T13:56:07.699Z"
   },
   {
    "duration": 2353,
    "start_time": "2022-04-25T13:56:07.714Z"
   },
   {
    "duration": 1203,
    "start_time": "2022-04-25T13:56:10.070Z"
   },
   {
    "duration": 12,
    "start_time": "2022-04-25T13:56:11.275Z"
   },
   {
    "duration": 894,
    "start_time": "2022-04-25T13:56:11.289Z"
   },
   {
    "duration": 779,
    "start_time": "2022-04-25T13:56:12.186Z"
   },
   {
    "duration": 659,
    "start_time": "2022-04-25T13:56:12.967Z"
   },
   {
    "duration": 251,
    "start_time": "2022-04-25T13:56:13.654Z"
   },
   {
    "duration": 489,
    "start_time": "2022-04-25T13:56:13.957Z"
   },
   {
    "duration": 0,
    "start_time": "2022-04-25T13:56:14.448Z"
   },
   {
    "duration": 0,
    "start_time": "2022-04-25T13:56:14.450Z"
   },
   {
    "duration": 0,
    "start_time": "2022-04-25T13:56:14.451Z"
   },
   {
    "duration": 0,
    "start_time": "2022-04-25T13:56:14.453Z"
   },
   {
    "duration": 0,
    "start_time": "2022-04-25T13:56:14.454Z"
   },
   {
    "duration": 0,
    "start_time": "2022-04-25T13:56:14.456Z"
   },
   {
    "duration": 1,
    "start_time": "2022-04-25T13:56:14.459Z"
   },
   {
    "duration": 0,
    "start_time": "2022-04-25T13:56:14.461Z"
   },
   {
    "duration": 0,
    "start_time": "2022-04-25T13:56:14.463Z"
   },
   {
    "duration": 0,
    "start_time": "2022-04-25T13:56:14.464Z"
   },
   {
    "duration": 0,
    "start_time": "2022-04-25T13:56:14.466Z"
   },
   {
    "duration": 0,
    "start_time": "2022-04-25T13:56:14.466Z"
   },
   {
    "duration": 253,
    "start_time": "2022-04-25T13:57:00.864Z"
   },
   {
    "duration": 17284,
    "start_time": "2022-04-25T13:58:46.274Z"
   },
   {
    "duration": 30,
    "start_time": "2022-04-25T13:59:03.562Z"
   },
   {
    "duration": 726,
    "start_time": "2022-04-25T13:59:03.594Z"
   },
   {
    "duration": 10654,
    "start_time": "2022-04-25T13:59:04.322Z"
   },
   {
    "duration": 13,
    "start_time": "2022-04-25T13:59:14.978Z"
   },
   {
    "duration": 79,
    "start_time": "2022-04-25T13:59:14.993Z"
   },
   {
    "duration": 908,
    "start_time": "2022-04-25T13:59:15.075Z"
   },
   {
    "duration": 1317,
    "start_time": "2022-04-25T13:59:15.985Z"
   },
   {
    "duration": 2151,
    "start_time": "2022-04-25T13:59:17.304Z"
   },
   {
    "duration": 4527,
    "start_time": "2022-04-25T13:59:19.457Z"
   },
   {
    "duration": 705,
    "start_time": "2022-04-25T13:59:23.986Z"
   },
   {
    "duration": 203,
    "start_time": "2022-04-25T13:59:24.754Z"
   },
   {
    "duration": 1709,
    "start_time": "2022-04-25T13:59:24.959Z"
   },
   {
    "duration": 288,
    "start_time": "2022-04-25T13:59:26.672Z"
   },
   {
    "duration": 1432,
    "start_time": "2022-04-25T13:59:26.962Z"
   },
   {
    "duration": 400,
    "start_time": "2022-04-25T13:59:28.456Z"
   },
   {
    "duration": 332,
    "start_time": "2022-04-25T13:59:28.858Z"
   },
   {
    "duration": 394,
    "start_time": "2022-04-25T13:59:29.192Z"
   },
   {
    "duration": 178,
    "start_time": "2022-04-25T13:59:29.588Z"
   },
   {
    "duration": 597,
    "start_time": "2022-04-25T13:59:29.769Z"
   },
   {
    "duration": 4,
    "start_time": "2022-04-25T13:59:30.368Z"
   },
   {
    "duration": 1485,
    "start_time": "2022-04-25T13:59:30.374Z"
   },
   {
    "duration": 5,
    "start_time": "2022-04-25T13:59:31.861Z"
   },
   {
    "duration": 487,
    "start_time": "2022-04-25T13:59:31.868Z"
   },
   {
    "duration": 442,
    "start_time": "2022-04-25T13:59:32.357Z"
   },
   {
    "duration": 3759,
    "start_time": "2022-04-25T13:59:32.801Z"
   },
   {
    "duration": 115,
    "start_time": "2022-04-25T13:59:36.563Z"
   },
   {
    "duration": 3,
    "start_time": "2022-04-25T13:59:36.680Z"
   },
   {
    "duration": 77,
    "start_time": "2022-04-25T13:59:36.685Z"
   },
   {
    "duration": 37638,
    "start_time": "2022-04-25T13:59:36.764Z"
   },
   {
    "duration": 6,
    "start_time": "2022-04-25T14:00:14.404Z"
   },
   {
    "duration": 55,
    "start_time": "2022-04-25T14:00:14.411Z"
   },
   {
    "duration": 2412,
    "start_time": "2022-04-25T14:00:14.469Z"
   },
   {
    "duration": 1088,
    "start_time": "2022-04-25T14:00:16.884Z"
   },
   {
    "duration": 16,
    "start_time": "2022-04-25T14:00:17.973Z"
   },
   {
    "duration": 1007,
    "start_time": "2022-04-25T14:00:17.991Z"
   },
   {
    "duration": 868,
    "start_time": "2022-04-25T14:00:19.000Z"
   },
   {
    "duration": 795,
    "start_time": "2022-04-25T14:00:19.870Z"
   },
   {
    "duration": 420,
    "start_time": "2022-04-25T14:00:20.667Z"
   },
   {
    "duration": 307,
    "start_time": "2022-04-25T14:00:21.090Z"
   },
   {
    "duration": 2376,
    "start_time": "2022-04-25T14:00:21.402Z"
   },
   {
    "duration": 10,
    "start_time": "2022-04-25T14:00:23.780Z"
   },
   {
    "duration": 13,
    "start_time": "2022-04-25T14:00:23.792Z"
   },
   {
    "duration": 68,
    "start_time": "2022-04-25T14:00:23.807Z"
   },
   {
    "duration": 26087,
    "start_time": "2022-04-25T14:00:23.877Z"
   },
   {
    "duration": 14,
    "start_time": "2022-04-25T14:00:49.966Z"
   },
   {
    "duration": 12,
    "start_time": "2022-04-25T14:00:49.982Z"
   },
   {
    "duration": 1878,
    "start_time": "2022-04-25T14:00:49.997Z"
   },
   {
    "duration": 1016,
    "start_time": "2022-04-25T14:00:51.877Z"
   },
   {
    "duration": 7,
    "start_time": "2022-04-25T14:00:52.895Z"
   },
   {
    "duration": 825,
    "start_time": "2022-04-25T14:00:52.904Z"
   },
   {
    "duration": 683,
    "start_time": "2022-04-25T14:00:53.755Z"
   },
   {
    "duration": 533,
    "start_time": "2022-04-25T14:00:54.457Z"
   },
   {
    "duration": 16389,
    "start_time": "2022-04-26T14:39:09.377Z"
   },
   {
    "duration": 18,
    "start_time": "2022-04-26T14:39:25.824Z"
   },
   {
    "duration": 682,
    "start_time": "2022-04-26T14:39:25.844Z"
   },
   {
    "duration": 9195,
    "start_time": "2022-04-26T14:39:26.529Z"
   },
   {
    "duration": 8,
    "start_time": "2022-04-26T14:39:35.726Z"
   },
   {
    "duration": 87,
    "start_time": "2022-04-26T14:39:35.737Z"
   },
   {
    "duration": 898,
    "start_time": "2022-04-26T14:39:35.827Z"
   },
   {
    "duration": 1198,
    "start_time": "2022-04-26T14:39:36.727Z"
   },
   {
    "duration": 2308,
    "start_time": "2022-04-26T14:39:37.927Z"
   },
   {
    "duration": 4119,
    "start_time": "2022-04-26T14:39:40.238Z"
   },
   {
    "duration": 595,
    "start_time": "2022-04-26T14:39:44.359Z"
   },
   {
    "duration": 172,
    "start_time": "2022-04-26T14:39:44.956Z"
   },
   {
    "duration": 1622,
    "start_time": "2022-04-26T14:39:45.130Z"
   },
   {
    "duration": 284,
    "start_time": "2022-04-26T14:39:46.756Z"
   },
   {
    "duration": 1615,
    "start_time": "2022-04-26T14:39:47.043Z"
   },
   {
    "duration": 403,
    "start_time": "2022-04-26T14:39:48.660Z"
   },
   {
    "duration": 379,
    "start_time": "2022-04-26T14:39:49.065Z"
   },
   {
    "duration": 2793,
    "start_time": "2022-04-26T14:40:16.249Z"
   },
   {
    "duration": 1300,
    "start_time": "2022-04-26T14:44:16.126Z"
   },
   {
    "duration": 15,
    "start_time": "2022-04-26T14:50:12.492Z"
   },
   {
    "duration": 210,
    "start_time": "2022-04-26T14:50:17.225Z"
   },
   {
    "duration": 4920,
    "start_time": "2022-04-26T14:51:47.850Z"
   },
   {
    "duration": 113,
    "start_time": "2022-04-26T14:55:02.312Z"
   },
   {
    "duration": 10,
    "start_time": "2022-04-26T14:55:05.350Z"
   },
   {
    "duration": 191,
    "start_time": "2022-04-26T14:55:05.846Z"
   },
   {
    "duration": 2547,
    "start_time": "2022-04-26T14:56:35.010Z"
   },
   {
    "duration": 2482,
    "start_time": "2022-04-26T14:57:00.949Z"
   },
   {
    "duration": 8,
    "start_time": "2022-04-26T15:04:58.193Z"
   },
   {
    "duration": 4,
    "start_time": "2022-04-26T15:05:10.805Z"
   },
   {
    "duration": 1563,
    "start_time": "2022-04-26T15:09:12.868Z"
   },
   {
    "duration": 18991,
    "start_time": "2022-04-26T16:31:19.714Z"
   },
   {
    "duration": 85,
    "start_time": "2022-04-26T16:31:38.710Z"
   },
   {
    "duration": 865,
    "start_time": "2022-04-26T16:31:38.797Z"
   },
   {
    "duration": 13433,
    "start_time": "2022-04-26T16:31:39.667Z"
   },
   {
    "duration": 9,
    "start_time": "2022-04-26T16:31:53.102Z"
   },
   {
    "duration": 80,
    "start_time": "2022-04-26T16:31:53.113Z"
   },
   {
    "duration": 1108,
    "start_time": "2022-04-26T16:31:53.196Z"
   },
   {
    "duration": 1415,
    "start_time": "2022-04-26T16:31:54.306Z"
   },
   {
    "duration": 3176,
    "start_time": "2022-04-26T16:31:55.723Z"
   },
   {
    "duration": 7590,
    "start_time": "2022-04-26T16:31:58.904Z"
   },
   {
    "duration": 5100,
    "start_time": "2022-04-26T16:32:06.497Z"
   },
   {
    "duration": 297,
    "start_time": "2022-04-26T16:32:11.600Z"
   },
   {
    "duration": 639,
    "start_time": "2022-04-26T16:32:11.900Z"
   },
   {
    "duration": 258,
    "start_time": "2022-04-26T16:32:12.593Z"
   },
   {
    "duration": 0,
    "start_time": "2022-04-26T16:32:12.862Z"
   },
   {
    "duration": 0,
    "start_time": "2022-04-26T16:32:12.864Z"
   },
   {
    "duration": 0,
    "start_time": "2022-04-26T16:32:12.866Z"
   },
   {
    "duration": 0,
    "start_time": "2022-04-26T16:32:12.868Z"
   },
   {
    "duration": 0,
    "start_time": "2022-04-26T16:32:12.870Z"
   },
   {
    "duration": 0,
    "start_time": "2022-04-26T16:32:12.872Z"
   },
   {
    "duration": 0,
    "start_time": "2022-04-26T16:32:12.873Z"
   },
   {
    "duration": 0,
    "start_time": "2022-04-26T16:32:12.894Z"
   },
   {
    "duration": 0,
    "start_time": "2022-04-26T16:32:12.896Z"
   },
   {
    "duration": 0,
    "start_time": "2022-04-26T16:32:12.898Z"
   },
   {
    "duration": 0,
    "start_time": "2022-04-26T16:32:12.900Z"
   },
   {
    "duration": 0,
    "start_time": "2022-04-26T16:32:12.902Z"
   },
   {
    "duration": 0,
    "start_time": "2022-04-26T16:32:12.903Z"
   },
   {
    "duration": 0,
    "start_time": "2022-04-26T16:32:12.906Z"
   },
   {
    "duration": 0,
    "start_time": "2022-04-26T16:32:12.908Z"
   },
   {
    "duration": 0,
    "start_time": "2022-04-26T16:32:12.910Z"
   },
   {
    "duration": 0,
    "start_time": "2022-04-26T16:32:12.912Z"
   },
   {
    "duration": 0,
    "start_time": "2022-04-26T16:32:12.914Z"
   },
   {
    "duration": 0,
    "start_time": "2022-04-26T16:32:12.916Z"
   },
   {
    "duration": 1,
    "start_time": "2022-04-26T16:32:12.917Z"
   },
   {
    "duration": 0,
    "start_time": "2022-04-26T16:32:12.919Z"
   },
   {
    "duration": 0,
    "start_time": "2022-04-26T16:32:12.921Z"
   },
   {
    "duration": 0,
    "start_time": "2022-04-26T16:32:12.923Z"
   },
   {
    "duration": 0,
    "start_time": "2022-04-26T16:32:12.925Z"
   },
   {
    "duration": 0,
    "start_time": "2022-04-26T16:32:12.927Z"
   },
   {
    "duration": 0,
    "start_time": "2022-04-26T16:32:12.929Z"
   },
   {
    "duration": 0,
    "start_time": "2022-04-26T16:32:12.931Z"
   },
   {
    "duration": 0,
    "start_time": "2022-04-26T16:32:12.993Z"
   },
   {
    "duration": 0,
    "start_time": "2022-04-26T16:32:12.995Z"
   },
   {
    "duration": 0,
    "start_time": "2022-04-26T16:32:12.997Z"
   },
   {
    "duration": 0,
    "start_time": "2022-04-26T16:32:13.000Z"
   },
   {
    "duration": 0,
    "start_time": "2022-04-26T16:32:13.001Z"
   },
   {
    "duration": 0,
    "start_time": "2022-04-26T16:32:13.003Z"
   },
   {
    "duration": 0,
    "start_time": "2022-04-26T16:32:13.005Z"
   },
   {
    "duration": 0,
    "start_time": "2022-04-26T16:32:13.007Z"
   },
   {
    "duration": 0,
    "start_time": "2022-04-26T16:32:13.009Z"
   },
   {
    "duration": 0,
    "start_time": "2022-04-26T16:32:13.011Z"
   },
   {
    "duration": 0,
    "start_time": "2022-04-26T16:32:13.013Z"
   },
   {
    "duration": 0,
    "start_time": "2022-04-26T16:32:13.015Z"
   },
   {
    "duration": 142,
    "start_time": "2022-04-26T17:07:46.851Z"
   },
   {
    "duration": 484,
    "start_time": "2022-04-26T17:07:53.241Z"
   },
   {
    "duration": 418,
    "start_time": "2022-04-26T17:08:08.076Z"
   },
   {
    "duration": 479,
    "start_time": "2022-04-26T17:10:03.016Z"
   },
   {
    "duration": 390,
    "start_time": "2022-04-26T17:10:26.821Z"
   },
   {
    "duration": 360,
    "start_time": "2022-04-26T17:10:39.578Z"
   },
   {
    "duration": 21876,
    "start_time": "2022-04-26T17:11:44.669Z"
   },
   {
    "duration": 36,
    "start_time": "2022-04-26T17:12:06.595Z"
   },
   {
    "duration": 889,
    "start_time": "2022-04-26T17:12:06.694Z"
   },
   {
    "duration": 15132,
    "start_time": "2022-04-26T17:12:07.588Z"
   },
   {
    "duration": 70,
    "start_time": "2022-04-26T17:12:22.723Z"
   },
   {
    "duration": 39,
    "start_time": "2022-04-26T17:12:22.796Z"
   },
   {
    "duration": 1077,
    "start_time": "2022-04-26T17:12:22.837Z"
   },
   {
    "duration": 1392,
    "start_time": "2022-04-26T17:12:23.916Z"
   },
   {
    "duration": 3092,
    "start_time": "2022-04-26T17:12:25.314Z"
   },
   {
    "duration": 8397,
    "start_time": "2022-04-26T17:12:28.412Z"
   },
   {
    "duration": 4990,
    "start_time": "2022-04-26T17:12:36.811Z"
   },
   {
    "duration": 303,
    "start_time": "2022-04-26T17:12:41.803Z"
   },
   {
    "duration": 700,
    "start_time": "2022-04-26T17:12:42.109Z"
   },
   {
    "duration": 206,
    "start_time": "2022-04-26T17:12:42.811Z"
   },
   {
    "duration": 1707,
    "start_time": "2022-04-26T17:12:43.019Z"
   },
   {
    "duration": 273,
    "start_time": "2022-04-26T17:12:44.729Z"
   },
   {
    "duration": 1890,
    "start_time": "2022-04-26T17:12:45.005Z"
   },
   {
    "duration": 311,
    "start_time": "2022-04-26T17:12:46.899Z"
   },
   {
    "duration": 581,
    "start_time": "2022-04-26T17:12:47.213Z"
   },
   {
    "duration": 408,
    "start_time": "2022-04-26T17:12:47.796Z"
   },
   {
    "duration": 4030,
    "start_time": "2022-04-26T17:12:48.206Z"
   },
   {
    "duration": 80,
    "start_time": "2022-04-26T17:12:52.238Z"
   },
   {
    "duration": 598,
    "start_time": "2022-04-26T17:12:52.320Z"
   },
   {
    "duration": 71,
    "start_time": "2022-04-26T17:12:52.922Z"
   },
   {
    "duration": 2128,
    "start_time": "2022-04-26T17:12:52.996Z"
   },
   {
    "duration": 65,
    "start_time": "2022-04-26T17:12:55.127Z"
   },
   {
    "duration": 616,
    "start_time": "2022-04-26T17:12:55.195Z"
   },
   {
    "duration": 4152,
    "start_time": "2022-04-26T17:12:55.819Z"
   },
   {
    "duration": 0,
    "start_time": "2022-04-26T17:12:59.974Z"
   },
   {
    "duration": 0,
    "start_time": "2022-04-26T17:12:59.976Z"
   },
   {
    "duration": 0,
    "start_time": "2022-04-26T17:12:59.978Z"
   },
   {
    "duration": 0,
    "start_time": "2022-04-26T17:12:59.980Z"
   },
   {
    "duration": 0,
    "start_time": "2022-04-26T17:12:59.982Z"
   },
   {
    "duration": 0,
    "start_time": "2022-04-26T17:12:59.984Z"
   },
   {
    "duration": 0,
    "start_time": "2022-04-26T17:12:59.986Z"
   },
   {
    "duration": 0,
    "start_time": "2022-04-26T17:12:59.988Z"
   },
   {
    "duration": 0,
    "start_time": "2022-04-26T17:12:59.990Z"
   },
   {
    "duration": 0,
    "start_time": "2022-04-26T17:12:59.998Z"
   },
   {
    "duration": 0,
    "start_time": "2022-04-26T17:13:00.000Z"
   },
   {
    "duration": 0,
    "start_time": "2022-04-26T17:13:00.002Z"
   },
   {
    "duration": 0,
    "start_time": "2022-04-26T17:13:00.004Z"
   },
   {
    "duration": 0,
    "start_time": "2022-04-26T17:13:00.007Z"
   },
   {
    "duration": 0,
    "start_time": "2022-04-26T17:13:00.009Z"
   },
   {
    "duration": 0,
    "start_time": "2022-04-26T17:13:00.011Z"
   },
   {
    "duration": 0,
    "start_time": "2022-04-26T17:13:00.013Z"
   },
   {
    "duration": 0,
    "start_time": "2022-04-26T17:13:00.015Z"
   },
   {
    "duration": 0,
    "start_time": "2022-04-26T17:13:00.017Z"
   },
   {
    "duration": 0,
    "start_time": "2022-04-26T17:13:00.020Z"
   },
   {
    "duration": 0,
    "start_time": "2022-04-26T17:13:00.021Z"
   },
   {
    "duration": 0,
    "start_time": "2022-04-26T17:13:00.023Z"
   },
   {
    "duration": 0,
    "start_time": "2022-04-26T17:13:00.024Z"
   },
   {
    "duration": 0,
    "start_time": "2022-04-26T17:13:00.025Z"
   },
   {
    "duration": 0,
    "start_time": "2022-04-26T17:13:00.026Z"
   },
   {
    "duration": 9,
    "start_time": "2022-04-26T17:13:23.603Z"
   },
   {
    "duration": 21681,
    "start_time": "2022-04-26T17:13:52.615Z"
   },
   {
    "duration": 95,
    "start_time": "2022-04-26T17:14:14.299Z"
   },
   {
    "duration": 1163,
    "start_time": "2022-04-26T17:14:14.396Z"
   },
   {
    "duration": 12952,
    "start_time": "2022-04-26T17:14:15.562Z"
   },
   {
    "duration": 9,
    "start_time": "2022-04-26T17:14:28.517Z"
   },
   {
    "duration": 98,
    "start_time": "2022-04-26T17:14:28.528Z"
   },
   {
    "duration": 1170,
    "start_time": "2022-04-26T17:14:28.629Z"
   },
   {
    "duration": 1496,
    "start_time": "2022-04-26T17:14:29.801Z"
   },
   {
    "duration": 3303,
    "start_time": "2022-04-26T17:14:31.300Z"
   },
   {
    "duration": 6609,
    "start_time": "2022-04-26T17:14:34.607Z"
   },
   {
    "duration": 5176,
    "start_time": "2022-04-26T17:14:41.218Z"
   },
   {
    "duration": 313,
    "start_time": "2022-04-26T17:14:46.397Z"
   },
   {
    "duration": 780,
    "start_time": "2022-04-26T17:14:46.715Z"
   },
   {
    "duration": 196,
    "start_time": "2022-04-26T17:14:47.497Z"
   },
   {
    "duration": 1829,
    "start_time": "2022-04-26T17:14:47.696Z"
   },
   {
    "duration": 271,
    "start_time": "2022-04-26T17:14:49.528Z"
   },
   {
    "duration": 1903,
    "start_time": "2022-04-26T17:14:49.802Z"
   },
   {
    "duration": 342,
    "start_time": "2022-04-26T17:14:51.708Z"
   },
   {
    "duration": 466,
    "start_time": "2022-04-26T17:14:52.053Z"
   },
   {
    "duration": 384,
    "start_time": "2022-04-26T17:14:52.521Z"
   },
   {
    "duration": 2820,
    "start_time": "2022-04-26T17:14:52.907Z"
   },
   {
    "duration": 81,
    "start_time": "2022-04-26T17:14:55.730Z"
   },
   {
    "duration": 507,
    "start_time": "2022-04-26T17:14:55.814Z"
   },
   {
    "duration": 4,
    "start_time": "2022-04-26T17:14:56.323Z"
   },
   {
    "duration": 1865,
    "start_time": "2022-04-26T17:14:56.329Z"
   },
   {
    "duration": 5,
    "start_time": "2022-04-26T17:14:58.196Z"
   },
   {
    "duration": 505,
    "start_time": "2022-04-26T17:14:58.203Z"
   },
   {
    "duration": 6556,
    "start_time": "2022-04-26T17:14:58.716Z"
   },
   {
    "duration": 0,
    "start_time": "2022-04-26T17:15:05.274Z"
   },
   {
    "duration": 0,
    "start_time": "2022-04-26T17:15:05.275Z"
   },
   {
    "duration": 0,
    "start_time": "2022-04-26T17:15:05.277Z"
   },
   {
    "duration": 0,
    "start_time": "2022-04-26T17:15:05.278Z"
   },
   {
    "duration": 0,
    "start_time": "2022-04-26T17:15:05.279Z"
   },
   {
    "duration": 0,
    "start_time": "2022-04-26T17:15:05.281Z"
   },
   {
    "duration": 0,
    "start_time": "2022-04-26T17:15:05.282Z"
   },
   {
    "duration": 0,
    "start_time": "2022-04-26T17:15:05.283Z"
   },
   {
    "duration": 0,
    "start_time": "2022-04-26T17:15:05.285Z"
   },
   {
    "duration": 0,
    "start_time": "2022-04-26T17:15:05.286Z"
   },
   {
    "duration": 0,
    "start_time": "2022-04-26T17:15:05.288Z"
   },
   {
    "duration": 0,
    "start_time": "2022-04-26T17:15:05.289Z"
   },
   {
    "duration": 0,
    "start_time": "2022-04-26T17:15:05.291Z"
   },
   {
    "duration": 0,
    "start_time": "2022-04-26T17:15:05.292Z"
   },
   {
    "duration": 0,
    "start_time": "2022-04-26T17:15:05.294Z"
   },
   {
    "duration": 0,
    "start_time": "2022-04-26T17:15:05.295Z"
   },
   {
    "duration": 0,
    "start_time": "2022-04-26T17:15:05.297Z"
   },
   {
    "duration": 0,
    "start_time": "2022-04-26T17:15:05.298Z"
   },
   {
    "duration": 0,
    "start_time": "2022-04-26T17:15:05.300Z"
   },
   {
    "duration": 0,
    "start_time": "2022-04-26T17:15:05.301Z"
   },
   {
    "duration": 0,
    "start_time": "2022-04-26T17:15:05.303Z"
   },
   {
    "duration": 0,
    "start_time": "2022-04-26T17:15:05.304Z"
   },
   {
    "duration": 0,
    "start_time": "2022-04-26T17:15:05.306Z"
   },
   {
    "duration": 0,
    "start_time": "2022-04-26T17:15:05.307Z"
   },
   {
    "duration": 0,
    "start_time": "2022-04-26T17:15:05.310Z"
   },
   {
    "duration": 360,
    "start_time": "2022-04-26T17:16:48.249Z"
   },
   {
    "duration": 3715,
    "start_time": "2022-04-26T17:16:58.607Z"
   },
   {
    "duration": 182,
    "start_time": "2022-04-26T17:17:02.326Z"
   },
   {
    "duration": 5,
    "start_time": "2022-04-26T17:17:02.510Z"
   },
   {
    "duration": 74,
    "start_time": "2022-04-26T17:17:02.519Z"
   },
   {
    "duration": 29504,
    "start_time": "2022-04-26T17:17:02.595Z"
   },
   {
    "duration": 8,
    "start_time": "2022-04-26T17:17:32.101Z"
   },
   {
    "duration": 11,
    "start_time": "2022-04-26T17:17:32.111Z"
   },
   {
    "duration": 2608,
    "start_time": "2022-04-26T17:17:32.124Z"
   },
   {
    "duration": 1215,
    "start_time": "2022-04-26T17:17:34.734Z"
   },
   {
    "duration": 9,
    "start_time": "2022-04-26T17:17:35.995Z"
   },
   {
    "duration": 1396,
    "start_time": "2022-04-26T17:17:36.006Z"
   },
   {
    "duration": 760,
    "start_time": "2022-04-26T17:17:37.404Z"
   },
   {
    "duration": 778,
    "start_time": "2022-04-26T17:17:38.166Z"
   },
   {
    "duration": 10,
    "start_time": "2022-04-26T17:17:38.947Z"
   },
   {
    "duration": 12,
    "start_time": "2022-04-26T17:17:38.994Z"
   },
   {
    "duration": 9,
    "start_time": "2022-04-26T17:17:39.008Z"
   },
   {
    "duration": 18697,
    "start_time": "2022-04-26T17:17:39.019Z"
   },
   {
    "duration": 7,
    "start_time": "2022-04-26T17:17:57.718Z"
   },
   {
    "duration": 66,
    "start_time": "2022-04-26T17:17:57.727Z"
   },
   {
    "duration": 256,
    "start_time": "2022-04-26T17:17:57.796Z"
   },
   {
    "duration": 0,
    "start_time": "2022-04-26T17:17:58.054Z"
   },
   {
    "duration": 0,
    "start_time": "2022-04-26T17:17:58.056Z"
   },
   {
    "duration": 0,
    "start_time": "2022-04-26T17:17:58.059Z"
   },
   {
    "duration": 0,
    "start_time": "2022-04-26T17:17:58.060Z"
   },
   {
    "duration": 0,
    "start_time": "2022-04-26T17:17:58.063Z"
   },
   {
    "duration": 2499,
    "start_time": "2022-04-26T17:18:28.898Z"
   },
   {
    "duration": 896,
    "start_time": "2022-04-26T17:18:33.435Z"
   },
   {
    "duration": 9,
    "start_time": "2022-04-26T17:18:34.334Z"
   },
   {
    "duration": 1252,
    "start_time": "2022-04-26T17:18:34.344Z"
   },
   {
    "duration": 750,
    "start_time": "2022-04-26T17:18:35.599Z"
   },
   {
    "duration": 772,
    "start_time": "2022-04-26T17:18:36.351Z"
   },
   {
    "duration": 20220,
    "start_time": "2022-04-26T17:48:02.385Z"
   },
   {
    "duration": 83,
    "start_time": "2022-04-26T17:48:22.610Z"
   },
   {
    "duration": 1083,
    "start_time": "2022-04-26T17:48:22.696Z"
   },
   {
    "duration": 12210,
    "start_time": "2022-04-26T17:48:23.783Z"
   },
   {
    "duration": 9,
    "start_time": "2022-04-26T17:48:35.996Z"
   },
   {
    "duration": 86,
    "start_time": "2022-04-26T17:48:36.007Z"
   },
   {
    "duration": 912,
    "start_time": "2022-04-26T17:48:36.095Z"
   },
   {
    "duration": 1583,
    "start_time": "2022-04-26T17:48:37.010Z"
   },
   {
    "duration": 3104,
    "start_time": "2022-04-26T17:48:38.596Z"
   },
   {
    "duration": 7796,
    "start_time": "2022-04-26T17:48:41.703Z"
   },
   {
    "duration": 5794,
    "start_time": "2022-04-26T17:48:49.501Z"
   },
   {
    "duration": 320,
    "start_time": "2022-04-26T17:48:55.298Z"
   },
   {
    "duration": 606,
    "start_time": "2022-04-26T17:48:55.621Z"
   },
   {
    "duration": 196,
    "start_time": "2022-04-26T17:48:56.229Z"
   },
   {
    "duration": 1798,
    "start_time": "2022-04-26T17:48:56.427Z"
   },
   {
    "duration": 273,
    "start_time": "2022-04-26T17:48:58.227Z"
   },
   {
    "duration": 1727,
    "start_time": "2022-04-26T17:48:58.502Z"
   },
   {
    "duration": 369,
    "start_time": "2022-04-26T17:49:00.233Z"
   },
   {
    "duration": 506,
    "start_time": "2022-04-26T17:49:00.605Z"
   },
   {
    "duration": 330,
    "start_time": "2022-04-26T17:49:01.113Z"
   },
   {
    "duration": 3427,
    "start_time": "2022-04-26T17:49:01.495Z"
   },
   {
    "duration": 106,
    "start_time": "2022-04-26T17:49:04.925Z"
   },
   {
    "duration": 532,
    "start_time": "2022-04-26T17:49:05.094Z"
   },
   {
    "duration": 64,
    "start_time": "2022-04-26T17:49:05.629Z"
   },
   {
    "duration": 1932,
    "start_time": "2022-04-26T17:49:05.696Z"
   },
   {
    "duration": 5,
    "start_time": "2022-04-26T17:49:07.695Z"
   },
   {
    "duration": 514,
    "start_time": "2022-04-26T17:49:07.704Z"
   },
   {
    "duration": 676,
    "start_time": "2022-04-26T17:49:08.224Z"
   },
   {
    "duration": 4112,
    "start_time": "2022-04-26T17:49:08.902Z"
   },
   {
    "duration": 188,
    "start_time": "2022-04-26T17:49:13.017Z"
   },
   {
    "duration": 6,
    "start_time": "2022-04-26T17:49:13.209Z"
   },
   {
    "duration": 77,
    "start_time": "2022-04-26T17:49:13.219Z"
   },
   {
    "duration": 30510,
    "start_time": "2022-04-26T17:49:13.299Z"
   },
   {
    "duration": 8,
    "start_time": "2022-04-26T17:49:43.812Z"
   },
   {
    "duration": 7,
    "start_time": "2022-04-26T17:49:43.894Z"
   },
   {
    "duration": 2802,
    "start_time": "2022-04-26T17:49:43.903Z"
   },
   {
    "duration": 1485,
    "start_time": "2022-04-26T17:49:46.708Z"
   },
   {
    "duration": 10,
    "start_time": "2022-04-26T17:49:48.195Z"
   },
   {
    "duration": 996,
    "start_time": "2022-04-26T17:49:48.207Z"
   },
   {
    "duration": 790,
    "start_time": "2022-04-26T17:49:49.206Z"
   },
   {
    "duration": 728,
    "start_time": "2022-04-26T17:49:49.999Z"
   },
   {
    "duration": 12,
    "start_time": "2022-04-26T17:49:50.729Z"
   },
   {
    "duration": 53,
    "start_time": "2022-04-26T17:49:50.743Z"
   },
   {
    "duration": 25,
    "start_time": "2022-04-26T17:49:50.799Z"
   },
   {
    "duration": 19376,
    "start_time": "2022-04-26T17:49:50.826Z"
   },
   {
    "duration": 6,
    "start_time": "2022-04-26T17:50:10.205Z"
   },
   {
    "duration": 19,
    "start_time": "2022-04-26T17:50:10.214Z"
   },
   {
    "duration": 2483,
    "start_time": "2022-04-26T17:50:10.235Z"
   },
   {
    "duration": 1204,
    "start_time": "2022-04-26T17:50:12.721Z"
   },
   {
    "duration": 10,
    "start_time": "2022-04-26T17:50:13.927Z"
   },
   {
    "duration": 1358,
    "start_time": "2022-04-26T17:50:13.939Z"
   },
   {
    "duration": 1025,
    "start_time": "2022-04-26T17:50:15.300Z"
   },
   {
    "duration": 1269,
    "start_time": "2022-04-26T17:50:16.328Z"
   },
   {
    "duration": 20065,
    "start_time": "2022-04-27T15:35:52.230Z"
   },
   {
    "duration": 16,
    "start_time": "2022-04-27T15:36:12.298Z"
   },
   {
    "duration": 604,
    "start_time": "2022-04-27T15:36:12.317Z"
   },
   {
    "duration": 8343,
    "start_time": "2022-04-27T15:36:12.923Z"
   },
   {
    "duration": 5,
    "start_time": "2022-04-27T15:36:21.268Z"
   },
   {
    "duration": 86,
    "start_time": "2022-04-27T15:36:21.275Z"
   },
   {
    "duration": 696,
    "start_time": "2022-04-27T15:36:21.362Z"
   },
   {
    "duration": 998,
    "start_time": "2022-04-27T15:36:22.059Z"
   },
   {
    "duration": 1600,
    "start_time": "2022-04-27T15:36:23.059Z"
   },
   {
    "duration": 5422,
    "start_time": "2022-04-27T15:36:24.661Z"
   },
   {
    "duration": 3587,
    "start_time": "2022-04-27T15:36:30.085Z"
   },
   {
    "duration": 210,
    "start_time": "2022-04-27T15:36:33.673Z"
   },
   {
    "duration": 440,
    "start_time": "2022-04-27T15:36:33.947Z"
   },
   {
    "duration": 111,
    "start_time": "2022-04-27T15:36:34.448Z"
   },
   {
    "duration": 1226,
    "start_time": "2022-04-27T15:36:34.561Z"
   },
   {
    "duration": 176,
    "start_time": "2022-04-27T15:36:35.788Z"
   },
   {
    "duration": 1498,
    "start_time": "2022-04-27T15:36:35.966Z"
   },
   {
    "duration": 288,
    "start_time": "2022-04-27T15:36:37.466Z"
   },
   {
    "duration": 297,
    "start_time": "2022-04-27T15:36:37.756Z"
   },
   {
    "duration": 228,
    "start_time": "2022-04-27T15:36:38.054Z"
   },
   {
    "duration": 2137,
    "start_time": "2022-04-27T15:36:38.284Z"
   },
   {
    "duration": 54,
    "start_time": "2022-04-27T15:36:40.423Z"
   },
   {
    "duration": 408,
    "start_time": "2022-04-27T15:36:40.480Z"
   },
   {
    "duration": 58,
    "start_time": "2022-04-27T15:36:40.890Z"
   },
   {
    "duration": 1405,
    "start_time": "2022-04-27T15:36:40.950Z"
   },
   {
    "duration": 3,
    "start_time": "2022-04-27T15:36:42.357Z"
   },
   {
    "duration": 405,
    "start_time": "2022-04-27T15:36:42.362Z"
   },
   {
    "duration": 488,
    "start_time": "2022-04-27T15:36:42.768Z"
   },
   {
    "duration": 3691,
    "start_time": "2022-04-27T15:36:43.258Z"
   },
   {
    "duration": 125,
    "start_time": "2022-04-27T15:36:46.951Z"
   },
   {
    "duration": 4,
    "start_time": "2022-04-27T15:36:47.078Z"
   },
   {
    "duration": 14,
    "start_time": "2022-04-27T15:36:47.083Z"
   },
   {
    "duration": 22954,
    "start_time": "2022-04-27T15:36:47.099Z"
   },
   {
    "duration": 5,
    "start_time": "2022-04-27T15:37:10.056Z"
   },
   {
    "duration": 7,
    "start_time": "2022-04-27T15:37:10.063Z"
   },
   {
    "duration": 2120,
    "start_time": "2022-04-27T15:37:10.072Z"
   },
   {
    "duration": 809,
    "start_time": "2022-04-27T15:37:12.195Z"
   },
   {
    "duration": 48,
    "start_time": "2022-04-27T15:37:13.006Z"
   },
   {
    "duration": 823,
    "start_time": "2022-04-27T15:37:13.056Z"
   },
   {
    "duration": 695,
    "start_time": "2022-04-27T15:37:13.881Z"
   },
   {
    "duration": 608,
    "start_time": "2022-04-27T15:37:14.581Z"
   },
   {
    "duration": 9,
    "start_time": "2022-04-27T15:37:15.190Z"
   },
   {
    "duration": 3,
    "start_time": "2022-04-27T15:37:15.201Z"
   },
   {
    "duration": 13,
    "start_time": "2022-04-27T15:37:15.206Z"
   },
   {
    "duration": 13530,
    "start_time": "2022-04-27T15:37:15.248Z"
   },
   {
    "duration": 6,
    "start_time": "2022-04-27T15:37:28.779Z"
   },
   {
    "duration": 7,
    "start_time": "2022-04-27T15:37:28.786Z"
   },
   {
    "duration": 1656,
    "start_time": "2022-04-27T15:37:28.794Z"
   },
   {
    "duration": 795,
    "start_time": "2022-04-27T15:37:30.452Z"
   },
   {
    "duration": 8,
    "start_time": "2022-04-27T15:37:31.249Z"
   },
   {
    "duration": 673,
    "start_time": "2022-04-27T15:37:31.259Z"
   },
   {
    "duration": 580,
    "start_time": "2022-04-27T15:37:31.934Z"
   },
   {
    "duration": 574,
    "start_time": "2022-04-27T15:37:32.516Z"
   },
   {
    "duration": 18151,
    "start_time": "2022-04-27T15:46:47.999Z"
   },
   {
    "duration": 23,
    "start_time": "2022-04-27T15:47:06.153Z"
   },
   {
    "duration": 984,
    "start_time": "2022-04-27T15:47:06.178Z"
   },
   {
    "duration": 8513,
    "start_time": "2022-04-27T15:47:07.165Z"
   },
   {
    "duration": 69,
    "start_time": "2022-04-27T15:47:15.680Z"
   },
   {
    "duration": 20,
    "start_time": "2022-04-27T15:47:15.752Z"
   },
   {
    "duration": 787,
    "start_time": "2022-04-27T15:47:15.774Z"
   },
   {
    "duration": 1194,
    "start_time": "2022-04-27T15:47:16.563Z"
   },
   {
    "duration": 1889,
    "start_time": "2022-04-27T15:47:17.760Z"
   },
   {
    "duration": 5018,
    "start_time": "2022-04-27T15:47:19.652Z"
   },
   {
    "duration": 3404,
    "start_time": "2022-04-27T15:47:24.672Z"
   },
   {
    "duration": 204,
    "start_time": "2022-04-27T15:47:28.077Z"
   },
   {
    "duration": 570,
    "start_time": "2022-04-27T15:47:28.283Z"
   },
   {
    "duration": 121,
    "start_time": "2022-04-27T15:47:28.857Z"
   },
   {
    "duration": 1470,
    "start_time": "2022-04-27T15:47:28.980Z"
   },
   {
    "duration": 134,
    "start_time": "2022-04-27T15:47:30.451Z"
   },
   {
    "duration": 1489,
    "start_time": "2022-04-27T15:47:30.587Z"
   },
   {
    "duration": 285,
    "start_time": "2022-04-27T15:47:32.078Z"
   },
   {
    "duration": 294,
    "start_time": "2022-04-27T15:47:32.365Z"
   },
   {
    "duration": 234,
    "start_time": "2022-04-27T15:47:32.661Z"
   },
   {
    "duration": 2356,
    "start_time": "2022-04-27T15:47:32.947Z"
   },
   {
    "duration": 66,
    "start_time": "2022-04-27T15:47:35.305Z"
   },
   {
    "duration": 783,
    "start_time": "2022-04-27T15:47:35.373Z"
   },
   {
    "duration": 394,
    "start_time": "2022-04-27T15:47:36.157Z"
   },
   {
    "duration": 127,
    "start_time": "2022-04-27T15:47:36.553Z"
   },
   {
    "duration": 0,
    "start_time": "2022-04-27T15:47:36.683Z"
   },
   {
    "duration": 0,
    "start_time": "2022-04-27T15:47:36.685Z"
   },
   {
    "duration": 0,
    "start_time": "2022-04-27T15:47:36.686Z"
   },
   {
    "duration": 0,
    "start_time": "2022-04-27T15:47:36.687Z"
   },
   {
    "duration": 0,
    "start_time": "2022-04-27T15:47:36.748Z"
   },
   {
    "duration": 0,
    "start_time": "2022-04-27T15:47:36.750Z"
   },
   {
    "duration": 0,
    "start_time": "2022-04-27T15:47:36.751Z"
   },
   {
    "duration": 0,
    "start_time": "2022-04-27T15:47:36.752Z"
   },
   {
    "duration": 0,
    "start_time": "2022-04-27T15:47:36.754Z"
   },
   {
    "duration": 0,
    "start_time": "2022-04-27T15:47:36.755Z"
   },
   {
    "duration": 0,
    "start_time": "2022-04-27T15:47:36.756Z"
   },
   {
    "duration": 0,
    "start_time": "2022-04-27T15:47:36.758Z"
   },
   {
    "duration": 0,
    "start_time": "2022-04-27T15:47:36.759Z"
   },
   {
    "duration": 0,
    "start_time": "2022-04-27T15:47:36.760Z"
   },
   {
    "duration": 0,
    "start_time": "2022-04-27T15:47:36.761Z"
   },
   {
    "duration": 0,
    "start_time": "2022-04-27T15:47:36.763Z"
   },
   {
    "duration": 1,
    "start_time": "2022-04-27T15:47:36.764Z"
   },
   {
    "duration": 0,
    "start_time": "2022-04-27T15:47:36.766Z"
   },
   {
    "duration": 0,
    "start_time": "2022-04-27T15:47:36.767Z"
   },
   {
    "duration": 0,
    "start_time": "2022-04-27T15:47:36.768Z"
   },
   {
    "duration": 0,
    "start_time": "2022-04-27T15:47:36.769Z"
   },
   {
    "duration": 0,
    "start_time": "2022-04-27T15:47:36.771Z"
   },
   {
    "duration": 0,
    "start_time": "2022-04-27T15:47:36.772Z"
   },
   {
    "duration": 0,
    "start_time": "2022-04-27T15:47:36.774Z"
   },
   {
    "duration": 0,
    "start_time": "2022-04-27T15:47:36.775Z"
   },
   {
    "duration": 0,
    "start_time": "2022-04-27T15:47:36.849Z"
   },
   {
    "duration": 0,
    "start_time": "2022-04-27T15:47:36.850Z"
   },
   {
    "duration": 0,
    "start_time": "2022-04-27T15:47:36.852Z"
   },
   {
    "duration": 0,
    "start_time": "2022-04-27T15:47:36.853Z"
   },
   {
    "duration": 0,
    "start_time": "2022-04-27T15:47:36.855Z"
   },
   {
    "duration": 536,
    "start_time": "2022-04-27T15:48:36.950Z"
   },
   {
    "duration": 16430,
    "start_time": "2022-04-27T16:03:32.534Z"
   },
   {
    "duration": 16,
    "start_time": "2022-04-27T16:03:48.967Z"
   },
   {
    "duration": 1033,
    "start_time": "2022-04-27T16:03:48.985Z"
   },
   {
    "duration": 8436,
    "start_time": "2022-04-27T16:03:50.021Z"
   },
   {
    "duration": 8,
    "start_time": "2022-04-27T16:03:58.459Z"
   },
   {
    "duration": 15,
    "start_time": "2022-04-27T16:03:58.468Z"
   },
   {
    "duration": 780,
    "start_time": "2022-04-27T16:03:58.485Z"
   },
   {
    "duration": 1013,
    "start_time": "2022-04-27T16:03:59.267Z"
   },
   {
    "duration": 1891,
    "start_time": "2022-04-27T16:04:00.282Z"
   },
   {
    "duration": 5192,
    "start_time": "2022-04-27T16:04:02.176Z"
   },
   {
    "duration": 3608,
    "start_time": "2022-04-27T16:04:07.369Z"
   },
   {
    "duration": 274,
    "start_time": "2022-04-27T16:04:10.979Z"
   },
   {
    "duration": 435,
    "start_time": "2022-04-27T16:04:11.254Z"
   },
   {
    "duration": 181,
    "start_time": "2022-04-27T16:04:11.690Z"
   },
   {
    "duration": 1379,
    "start_time": "2022-04-27T16:04:11.873Z"
   },
   {
    "duration": 194,
    "start_time": "2022-04-27T16:04:13.254Z"
   },
   {
    "duration": 1317,
    "start_time": "2022-04-27T16:04:13.451Z"
   },
   {
    "duration": 230,
    "start_time": "2022-04-27T16:04:14.770Z"
   },
   {
    "duration": 278,
    "start_time": "2022-04-27T16:04:15.002Z"
   },
   {
    "duration": 294,
    "start_time": "2022-04-27T16:04:15.282Z"
   },
   {
    "duration": 2031,
    "start_time": "2022-04-27T16:04:15.577Z"
   },
   {
    "duration": 64,
    "start_time": "2022-04-27T16:04:17.609Z"
   },
   {
    "duration": 415,
    "start_time": "2022-04-27T16:04:17.675Z"
   },
   {
    "duration": 56,
    "start_time": "2022-04-27T16:04:18.092Z"
   },
   {
    "duration": 1320,
    "start_time": "2022-04-27T16:04:18.150Z"
   },
   {
    "duration": 4,
    "start_time": "2022-04-27T16:04:19.471Z"
   },
   {
    "duration": 408,
    "start_time": "2022-04-27T16:04:19.477Z"
   },
   {
    "duration": 434,
    "start_time": "2022-04-27T16:04:19.947Z"
   },
   {
    "duration": 3281,
    "start_time": "2022-04-27T16:04:20.382Z"
   },
   {
    "duration": 124,
    "start_time": "2022-04-27T16:04:23.664Z"
   },
   {
    "duration": 3,
    "start_time": "2022-04-27T16:04:23.790Z"
   },
   {
    "duration": 76,
    "start_time": "2022-04-27T16:04:23.795Z"
   },
   {
    "duration": 22935,
    "start_time": "2022-04-27T16:04:23.873Z"
   },
   {
    "duration": 43,
    "start_time": "2022-04-27T16:04:46.810Z"
   },
   {
    "duration": 8,
    "start_time": "2022-04-27T16:04:46.858Z"
   },
   {
    "duration": 1996,
    "start_time": "2022-04-27T16:04:46.867Z"
   },
   {
    "duration": 849,
    "start_time": "2022-04-27T16:04:48.866Z"
   },
   {
    "duration": 6,
    "start_time": "2022-04-27T16:04:49.717Z"
   },
   {
    "duration": 1068,
    "start_time": "2022-04-27T16:04:49.725Z"
   },
   {
    "duration": 686,
    "start_time": "2022-04-27T16:04:50.795Z"
   },
   {
    "duration": 514,
    "start_time": "2022-04-27T16:04:51.482Z"
   },
   {
    "duration": 8,
    "start_time": "2022-04-27T16:04:51.998Z"
   },
   {
    "duration": 40,
    "start_time": "2022-04-27T16:04:52.008Z"
   },
   {
    "duration": 10,
    "start_time": "2022-04-27T16:04:52.050Z"
   },
   {
    "duration": 14810,
    "start_time": "2022-04-27T16:04:52.062Z"
   },
   {
    "duration": 4,
    "start_time": "2022-04-27T16:05:06.874Z"
   },
   {
    "duration": 9,
    "start_time": "2022-04-27T16:05:06.880Z"
   },
   {
    "duration": 1758,
    "start_time": "2022-04-27T16:05:06.890Z"
   },
   {
    "duration": 718,
    "start_time": "2022-04-27T16:05:08.650Z"
   },
   {
    "duration": 7,
    "start_time": "2022-04-27T16:05:09.370Z"
   },
   {
    "duration": 667,
    "start_time": "2022-04-27T16:05:09.378Z"
   },
   {
    "duration": 528,
    "start_time": "2022-04-27T16:05:10.046Z"
   },
   {
    "duration": 549,
    "start_time": "2022-04-27T16:05:10.575Z"
   },
   {
    "duration": 36947,
    "start_time": "2022-04-28T13:34:39.616Z"
   },
   {
    "duration": 28,
    "start_time": "2022-04-28T13:35:16.569Z"
   },
   {
    "duration": 712,
    "start_time": "2022-04-28T13:35:16.599Z"
   },
   {
    "duration": 15645,
    "start_time": "2022-04-28T13:35:17.314Z"
   },
   {
    "duration": 7,
    "start_time": "2022-04-28T13:35:32.961Z"
   },
   {
    "duration": 21,
    "start_time": "2022-04-28T13:35:33.021Z"
   },
   {
    "duration": 2115,
    "start_time": "2022-04-28T13:35:33.044Z"
   },
   {
    "duration": 1095,
    "start_time": "2022-04-28T13:35:35.161Z"
   },
   {
    "duration": 4574,
    "start_time": "2022-04-28T13:35:36.258Z"
   },
   {
    "duration": 6929,
    "start_time": "2022-04-28T13:35:40.836Z"
   },
   {
    "duration": 14807,
    "start_time": "2022-04-28T13:35:47.823Z"
   },
   {
    "duration": 0,
    "start_time": "2022-04-28T13:36:02.633Z"
   },
   {
    "duration": 0,
    "start_time": "2022-04-28T13:36:02.634Z"
   },
   {
    "duration": 0,
    "start_time": "2022-04-28T13:36:02.635Z"
   },
   {
    "duration": 0,
    "start_time": "2022-04-28T13:36:02.636Z"
   },
   {
    "duration": 0,
    "start_time": "2022-04-28T13:36:02.637Z"
   },
   {
    "duration": 0,
    "start_time": "2022-04-28T13:36:02.638Z"
   },
   {
    "duration": 0,
    "start_time": "2022-04-28T13:36:02.639Z"
   },
   {
    "duration": 0,
    "start_time": "2022-04-28T13:36:02.640Z"
   },
   {
    "duration": 0,
    "start_time": "2022-04-28T13:36:02.641Z"
   },
   {
    "duration": 0,
    "start_time": "2022-04-28T13:36:02.645Z"
   },
   {
    "duration": 0,
    "start_time": "2022-04-28T13:36:02.647Z"
   },
   {
    "duration": 0,
    "start_time": "2022-04-28T13:36:02.648Z"
   },
   {
    "duration": 0,
    "start_time": "2022-04-28T13:36:02.649Z"
   },
   {
    "duration": 0,
    "start_time": "2022-04-28T13:36:02.650Z"
   },
   {
    "duration": 0,
    "start_time": "2022-04-28T13:36:02.650Z"
   },
   {
    "duration": 0,
    "start_time": "2022-04-28T13:36:02.651Z"
   },
   {
    "duration": 0,
    "start_time": "2022-04-28T13:36:02.652Z"
   },
   {
    "duration": 0,
    "start_time": "2022-04-28T13:36:02.653Z"
   },
   {
    "duration": 0,
    "start_time": "2022-04-28T13:36:02.654Z"
   },
   {
    "duration": 0,
    "start_time": "2022-04-28T13:36:02.655Z"
   },
   {
    "duration": 0,
    "start_time": "2022-04-28T13:36:02.656Z"
   },
   {
    "duration": 0,
    "start_time": "2022-04-28T13:36:02.657Z"
   },
   {
    "duration": 0,
    "start_time": "2022-04-28T13:36:02.658Z"
   },
   {
    "duration": 0,
    "start_time": "2022-04-28T13:36:02.659Z"
   },
   {
    "duration": 0,
    "start_time": "2022-04-28T13:36:02.660Z"
   },
   {
    "duration": 0,
    "start_time": "2022-04-28T13:36:02.661Z"
   },
   {
    "duration": 0,
    "start_time": "2022-04-28T13:36:02.662Z"
   },
   {
    "duration": 0,
    "start_time": "2022-04-28T13:36:02.664Z"
   },
   {
    "duration": 0,
    "start_time": "2022-04-28T13:36:02.664Z"
   },
   {
    "duration": 0,
    "start_time": "2022-04-28T13:36:02.665Z"
   },
   {
    "duration": 0,
    "start_time": "2022-04-28T13:36:02.667Z"
   },
   {
    "duration": 0,
    "start_time": "2022-04-28T13:36:02.668Z"
   },
   {
    "duration": 0,
    "start_time": "2022-04-28T13:36:02.668Z"
   },
   {
    "duration": 0,
    "start_time": "2022-04-28T13:36:02.669Z"
   },
   {
    "duration": 0,
    "start_time": "2022-04-28T13:36:02.670Z"
   },
   {
    "duration": 0,
    "start_time": "2022-04-28T13:36:02.671Z"
   },
   {
    "duration": 0,
    "start_time": "2022-04-28T13:36:02.672Z"
   },
   {
    "duration": 0,
    "start_time": "2022-04-28T13:36:02.673Z"
   },
   {
    "duration": 0,
    "start_time": "2022-04-28T13:36:02.674Z"
   },
   {
    "duration": 0,
    "start_time": "2022-04-28T13:36:02.675Z"
   },
   {
    "duration": 0,
    "start_time": "2022-04-28T13:36:02.676Z"
   },
   {
    "duration": 0,
    "start_time": "2022-04-28T13:36:02.677Z"
   },
   {
    "duration": 3947,
    "start_time": "2022-04-28T13:37:10.306Z"
   },
   {
    "duration": 170,
    "start_time": "2022-04-28T13:37:22.164Z"
   },
   {
    "duration": 411,
    "start_time": "2022-04-28T13:37:22.336Z"
   },
   {
    "duration": 174,
    "start_time": "2022-04-28T13:37:22.749Z"
   },
   {
    "duration": 1142,
    "start_time": "2022-04-28T13:37:22.925Z"
   },
   {
    "duration": 192,
    "start_time": "2022-04-28T13:37:24.069Z"
   },
   {
    "duration": 2140,
    "start_time": "2022-04-28T13:37:24.322Z"
   },
   {
    "duration": 258,
    "start_time": "2022-04-28T13:37:26.464Z"
   },
   {
    "duration": 245,
    "start_time": "2022-04-28T13:37:26.725Z"
   },
   {
    "duration": 261,
    "start_time": "2022-04-28T13:37:26.972Z"
   },
   {
    "duration": 2327,
    "start_time": "2022-04-28T13:37:27.236Z"
   },
   {
    "duration": 162,
    "start_time": "2022-04-28T13:37:29.564Z"
   },
   {
    "duration": 517,
    "start_time": "2022-04-28T13:37:29.729Z"
   },
   {
    "duration": 3,
    "start_time": "2022-04-28T13:37:30.323Z"
   },
   {
    "duration": 2039,
    "start_time": "2022-04-28T13:37:30.327Z"
   },
   {
    "duration": 3,
    "start_time": "2022-04-28T13:37:32.424Z"
   },
   {
    "duration": 405,
    "start_time": "2022-04-28T13:37:32.429Z"
   },
   {
    "duration": 332,
    "start_time": "2022-04-28T13:37:32.835Z"
   },
   {
    "duration": 2762,
    "start_time": "2022-04-28T13:37:33.169Z"
   },
   {
    "duration": 507,
    "start_time": "2022-04-28T13:37:35.932Z"
   },
   {
    "duration": 3,
    "start_time": "2022-04-28T13:37:36.441Z"
   },
   {
    "duration": 13,
    "start_time": "2022-04-28T13:37:36.445Z"
   },
   {
    "duration": 24981,
    "start_time": "2022-04-28T13:37:36.460Z"
   },
   {
    "duration": 6,
    "start_time": "2022-04-28T13:38:01.443Z"
   },
   {
    "duration": 7,
    "start_time": "2022-04-28T13:38:01.451Z"
   },
   {
    "duration": 2003,
    "start_time": "2022-04-28T13:38:01.522Z"
   },
   {
    "duration": 1106,
    "start_time": "2022-04-28T13:38:03.527Z"
   },
   {
    "duration": 8,
    "start_time": "2022-04-28T13:38:04.635Z"
   },
   {
    "duration": 779,
    "start_time": "2022-04-28T13:38:04.646Z"
   },
   {
    "duration": 629,
    "start_time": "2022-04-28T13:38:05.427Z"
   },
   {
    "duration": 3697,
    "start_time": "2022-04-28T13:38:06.058Z"
   },
   {
    "duration": 7,
    "start_time": "2022-04-28T13:38:09.758Z"
   },
   {
    "duration": 4,
    "start_time": "2022-04-28T13:38:09.767Z"
   },
   {
    "duration": 57,
    "start_time": "2022-04-28T13:38:09.773Z"
   },
   {
    "duration": 13723,
    "start_time": "2022-04-28T13:38:09.831Z"
   },
   {
    "duration": 5,
    "start_time": "2022-04-28T13:38:23.556Z"
   },
   {
    "duration": 9,
    "start_time": "2022-04-28T13:38:23.563Z"
   },
   {
    "duration": 1771,
    "start_time": "2022-04-28T13:38:23.574Z"
   },
   {
    "duration": 736,
    "start_time": "2022-04-28T13:38:25.347Z"
   },
   {
    "duration": 9,
    "start_time": "2022-04-28T13:38:26.084Z"
   },
   {
    "duration": 660,
    "start_time": "2022-04-28T13:38:26.094Z"
   },
   {
    "duration": 507,
    "start_time": "2022-04-28T13:38:26.756Z"
   },
   {
    "duration": 502,
    "start_time": "2022-04-28T13:38:27.265Z"
   },
   {
    "duration": 589,
    "start_time": "2022-04-28T13:38:38.653Z"
   },
   {
    "duration": 262,
    "start_time": "2022-04-28T13:44:52.107Z"
   },
   {
    "duration": 25,
    "start_time": "2022-04-28T13:44:56.183Z"
   },
   {
    "duration": 20,
    "start_time": "2022-04-28T13:45:54.292Z"
   },
   {
    "duration": 15,
    "start_time": "2022-04-28T13:48:48.866Z"
   },
   {
    "duration": 17,
    "start_time": "2022-04-28T13:49:29.133Z"
   },
   {
    "duration": 9,
    "start_time": "2022-04-28T13:51:38.380Z"
   },
   {
    "duration": 18,
    "start_time": "2022-04-28T13:52:01.778Z"
   },
   {
    "duration": 8,
    "start_time": "2022-04-28T13:52:35.310Z"
   },
   {
    "duration": 15,
    "start_time": "2022-04-28T13:55:59.596Z"
   },
   {
    "duration": 16,
    "start_time": "2022-04-28T13:57:00.633Z"
   },
   {
    "duration": 16,
    "start_time": "2022-04-28T13:57:14.437Z"
   },
   {
    "duration": 16,
    "start_time": "2022-04-28T13:58:34.680Z"
   },
   {
    "duration": 14,
    "start_time": "2022-04-28T13:58:37.334Z"
   },
   {
    "duration": 1247,
    "start_time": "2022-04-28T13:59:32.886Z"
   },
   {
    "duration": 16,
    "start_time": "2022-04-28T14:04:14.867Z"
   },
   {
    "duration": 120,
    "start_time": "2022-04-28T14:04:31.169Z"
   },
   {
    "duration": 119,
    "start_time": "2022-04-28T14:06:29.033Z"
   },
   {
    "duration": 99,
    "start_time": "2022-04-28T14:07:42.857Z"
   },
   {
    "duration": 121,
    "start_time": "2022-04-28T14:08:40.352Z"
   },
   {
    "duration": 109,
    "start_time": "2022-04-28T14:09:47.056Z"
   },
   {
    "duration": 92,
    "start_time": "2022-04-28T14:10:23.194Z"
   },
   {
    "duration": 93,
    "start_time": "2022-04-28T14:12:33.507Z"
   },
   {
    "duration": 94,
    "start_time": "2022-04-28T14:13:37.779Z"
   },
   {
    "duration": 16998,
    "start_time": "2022-04-28T14:22:46.850Z"
   },
   {
    "duration": 18,
    "start_time": "2022-04-28T14:23:03.850Z"
   },
   {
    "duration": 852,
    "start_time": "2022-04-28T14:23:03.870Z"
   },
   {
    "duration": 9404,
    "start_time": "2022-04-28T14:23:04.724Z"
   },
   {
    "duration": 7,
    "start_time": "2022-04-28T14:23:14.131Z"
   },
   {
    "duration": 84,
    "start_time": "2022-04-28T14:23:14.140Z"
   },
   {
    "duration": 721,
    "start_time": "2022-04-28T14:23:14.227Z"
   },
   {
    "duration": 1292,
    "start_time": "2022-04-28T14:23:14.949Z"
   },
   {
    "duration": 2192,
    "start_time": "2022-04-28T14:23:16.243Z"
   },
   {
    "duration": 5427,
    "start_time": "2022-04-28T14:23:18.438Z"
   },
   {
    "duration": 3866,
    "start_time": "2022-04-28T14:23:23.866Z"
   },
   {
    "duration": 224,
    "start_time": "2022-04-28T14:23:27.733Z"
   },
   {
    "duration": 487,
    "start_time": "2022-04-28T14:23:27.959Z"
   },
   {
    "duration": 186,
    "start_time": "2022-04-28T14:23:28.451Z"
   },
   {
    "duration": 1418,
    "start_time": "2022-04-28T14:23:28.639Z"
   },
   {
    "duration": 194,
    "start_time": "2022-04-28T14:23:30.058Z"
   },
   {
    "duration": 1384,
    "start_time": "2022-04-28T14:23:30.254Z"
   },
   {
    "duration": 334,
    "start_time": "2022-04-28T14:23:31.640Z"
   },
   {
    "duration": 270,
    "start_time": "2022-04-28T14:23:31.977Z"
   },
   {
    "duration": 312,
    "start_time": "2022-04-28T14:23:32.249Z"
   },
   {
    "duration": 2481,
    "start_time": "2022-04-28T14:23:32.563Z"
   },
   {
    "duration": 91,
    "start_time": "2022-04-28T14:23:35.046Z"
   },
   {
    "duration": 420,
    "start_time": "2022-04-28T14:23:35.139Z"
   },
   {
    "duration": 3,
    "start_time": "2022-04-28T14:23:35.560Z"
   },
   {
    "duration": 1396,
    "start_time": "2022-04-28T14:23:35.565Z"
   },
   {
    "duration": 5,
    "start_time": "2022-04-28T14:23:37.024Z"
   },
   {
    "duration": 494,
    "start_time": "2022-04-28T14:23:37.031Z"
   },
   {
    "duration": 397,
    "start_time": "2022-04-28T14:23:37.527Z"
   },
   {
    "duration": 3400,
    "start_time": "2022-04-28T14:23:37.925Z"
   },
   {
    "duration": 40,
    "start_time": "2022-04-28T14:23:41.327Z"
   },
   {
    "duration": 55,
    "start_time": "2022-04-28T14:23:41.369Z"
   },
   {
    "duration": 23,
    "start_time": "2022-04-28T14:23:41.426Z"
   },
   {
    "duration": 24201,
    "start_time": "2022-04-28T14:23:41.451Z"
   },
   {
    "duration": 69,
    "start_time": "2022-04-28T14:24:05.655Z"
   },
   {
    "duration": 5,
    "start_time": "2022-04-28T14:24:05.727Z"
   },
   {
    "duration": 2195,
    "start_time": "2022-04-28T14:24:05.734Z"
   },
   {
    "duration": 861,
    "start_time": "2022-04-28T14:24:07.931Z"
   },
   {
    "duration": 8,
    "start_time": "2022-04-28T14:24:08.793Z"
   },
   {
    "duration": 821,
    "start_time": "2022-04-28T14:24:08.802Z"
   },
   {
    "duration": 724,
    "start_time": "2022-04-28T14:24:09.625Z"
   },
   {
    "duration": 570,
    "start_time": "2022-04-28T14:24:10.355Z"
   },
   {
    "duration": 7,
    "start_time": "2022-04-28T14:24:10.927Z"
   },
   {
    "duration": 23,
    "start_time": "2022-04-28T14:24:10.936Z"
   },
   {
    "duration": 15,
    "start_time": "2022-04-28T14:24:10.963Z"
   },
   {
    "duration": 15147,
    "start_time": "2022-04-28T14:24:10.980Z"
   },
   {
    "duration": 5,
    "start_time": "2022-04-28T14:24:26.130Z"
   },
   {
    "duration": 4,
    "start_time": "2022-04-28T14:24:26.138Z"
   },
   {
    "duration": 1692,
    "start_time": "2022-04-28T14:24:26.144Z"
   },
   {
    "duration": 812,
    "start_time": "2022-04-28T14:24:27.838Z"
   },
   {
    "duration": 8,
    "start_time": "2022-04-28T14:24:28.651Z"
   },
   {
    "duration": 797,
    "start_time": "2022-04-28T14:24:28.661Z"
   },
   {
    "duration": 520,
    "start_time": "2022-04-28T14:24:29.459Z"
   },
   {
    "duration": 567,
    "start_time": "2022-04-28T14:24:29.981Z"
   },
   {
    "duration": 1038,
    "start_time": "2022-04-28T14:24:30.550Z"
   },
   {
    "duration": 6851,
    "start_time": "2022-04-28T18:27:35.987Z"
   },
   {
    "duration": 0,
    "start_time": "2022-04-28T18:27:42.840Z"
   },
   {
    "duration": 0,
    "start_time": "2022-04-28T18:27:42.841Z"
   },
   {
    "duration": 0,
    "start_time": "2022-04-28T18:27:42.842Z"
   },
   {
    "duration": 0,
    "start_time": "2022-04-28T18:27:42.844Z"
   },
   {
    "duration": 0,
    "start_time": "2022-04-28T18:27:42.845Z"
   },
   {
    "duration": 0,
    "start_time": "2022-04-28T18:27:42.901Z"
   },
   {
    "duration": 0,
    "start_time": "2022-04-28T18:27:42.902Z"
   },
   {
    "duration": 0,
    "start_time": "2022-04-28T18:27:42.903Z"
   },
   {
    "duration": 0,
    "start_time": "2022-04-28T18:27:42.904Z"
   },
   {
    "duration": 0,
    "start_time": "2022-04-28T18:27:42.905Z"
   },
   {
    "duration": 0,
    "start_time": "2022-04-28T18:27:42.906Z"
   },
   {
    "duration": 0,
    "start_time": "2022-04-28T18:27:42.907Z"
   },
   {
    "duration": 0,
    "start_time": "2022-04-28T18:27:42.907Z"
   },
   {
    "duration": 18453,
    "start_time": "2022-04-28T18:27:46.500Z"
   },
   {
    "duration": 16,
    "start_time": "2022-04-28T18:28:04.955Z"
   },
   {
    "duration": 674,
    "start_time": "2022-04-28T18:28:04.973Z"
   },
   {
    "duration": 8057,
    "start_time": "2022-04-28T18:28:05.650Z"
   },
   {
    "duration": 4,
    "start_time": "2022-04-28T18:28:13.709Z"
   },
   {
    "duration": 17,
    "start_time": "2022-04-28T18:28:13.714Z"
   },
   {
    "duration": 701,
    "start_time": "2022-04-28T18:28:13.732Z"
   },
   {
    "duration": 999,
    "start_time": "2022-04-28T18:28:14.501Z"
   },
   {
    "duration": 1432,
    "start_time": "2022-04-28T18:28:15.502Z"
   },
   {
    "duration": 4125,
    "start_time": "2022-04-28T18:28:17.003Z"
   },
   {
    "duration": 3094,
    "start_time": "2022-04-28T18:28:21.130Z"
   },
   {
    "duration": 283,
    "start_time": "2022-04-28T18:28:24.226Z"
   },
   {
    "duration": 399,
    "start_time": "2022-04-28T18:28:24.511Z"
   },
   {
    "duration": 5,
    "start_time": "2022-04-28T18:28:24.912Z"
   },
   {
    "duration": 117,
    "start_time": "2022-04-28T18:29:38.590Z"
   },
   {
    "duration": 670,
    "start_time": "2022-04-28T18:46:56.793Z"
   },
   {
    "duration": 11,
    "start_time": "2022-04-28T18:47:15.892Z"
   }
  ],
  "colab": {
   "name": "PySparkSprint.ipynb",
   "provenance": []
  },
  "kernelspec": {
   "display_name": "Python 3 (ipykernel)",
   "language": "python",
   "name": "python3"
  },
  "language_info": {
   "codemirror_mode": {
    "name": "ipython",
    "version": 3
   },
   "file_extension": ".py",
   "mimetype": "text/x-python",
   "name": "python",
   "nbconvert_exporter": "python",
   "pygments_lexer": "ipython3",
   "version": "3.8.8"
  },
  "toc": {
   "base_numbering": 1,
   "nav_menu": {},
   "number_sections": true,
   "sideBar": true,
   "skip_h1_title": true,
   "title_cell": "Table of Contents",
   "title_sidebar": "Contents",
   "toc_cell": false,
   "toc_position": {
    "height": "calc(100% - 180px)",
    "left": "10px",
    "top": "150px",
    "width": "287.6px"
   },
   "toc_section_display": true,
   "toc_window_display": true
  }
 },
 "nbformat": 4,
 "nbformat_minor": 5
}
