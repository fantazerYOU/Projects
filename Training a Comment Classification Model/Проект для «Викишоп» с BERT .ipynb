{
 "cells": [
  {
   "cell_type": "markdown",
   "metadata": {},
   "source": [
    "# Проект для «Викишоп» с BERT"
   ]
  },
  {
   "cell_type": "markdown",
   "metadata": {},
   "source": [
    "Интернет-магазин «Викишоп» запускает новый сервис. Теперь пользователи могут редактировать и дополнять описания товаров, как в вики-сообществах. То есть клиенты предлагают свои правки и комментируют изменения других. Магазину нужен инструмент, который будет искать токсичные комментарии и отправлять их на модерацию. \n",
    "\n",
    "Обучите модель классифицировать комментарии на позитивные и негативные. В вашем распоряжении набор данных с разметкой о токсичности правок.\n",
    "\n",
    "Постройте модель со значением метрики качества *F1* не меньше 0.75. \n",
    "\n",
    "**Инструкция по выполнению проекта**\n",
    "\n",
    "1. Загрузите и подготовьте данные.\n",
    "2. Обучите разные модели. \n",
    "3. Сделайте выводы.\n",
    "\n",
    "Для выполнения проекта применять *BERT* необязательно, но вы можете попробовать.\n",
    "\n",
    "**Описание данных**\n",
    "\n",
    "Столбец *text* в нём содержит текст комментария, а *toxic* — целевой признак."
   ]
  },
  {
   "cell_type": "markdown",
   "metadata": {},
   "source": [
    "## Подготовка"
   ]
  },
  {
   "cell_type": "code",
   "execution_count": 2,
   "metadata": {},
   "outputs": [],
   "source": [
    "#!pip install vecstack"
   ]
  },
  {
   "cell_type": "code",
   "execution_count": 3,
   "metadata": {},
   "outputs": [
    {
     "name": "stdout",
     "output_type": "stream",
     "text": [
      "✔ Download and installation successful\n",
      "You can now load the package via spacy.load('en_core_web_sm')\n"
     ]
    }
   ],
   "source": [
    "import pandas as pd\n",
    "import numpy as np\n",
    "import torch\n",
    "from tqdm import tqdm\n",
    "from tqdm import notebook\n",
    "from vecstack import stacking\n",
    "\n",
    "import re\n",
    "\n",
    "\n",
    "import transformers\n",
    "\n",
    "from sklearn.model_selection import train_test_split\n",
    "from sklearn.model_selection import cross_val_score\n",
    "from sklearn.metrics import f1_score\n",
    "\n",
    "\n",
    "from sklearn.linear_model import SGDClassifier\n",
    "from sklearn.linear_model import RidgeClassifier\n",
    "from sklearn.linear_model import Perceptron\n",
    "from sklearn.linear_model import PassiveAggressiveClassifier\n",
    "from sklearn.linear_model import LogisticRegression\n",
    "from sklearn.svm import LinearSVC\n",
    "\n",
    "from sklearn.feature_extraction.text import CountVectorizer\n",
    "from sklearn.feature_extraction.text import TfidfVectorizer\n",
    "from sklearn.feature_extraction.text import HashingVectorizer\n",
    "\n",
    "\n",
    "\n",
    "import matplotlib.pyplot as plt\n",
    "import seaborn as sns\n",
    "\n",
    "\n",
    "import spacy\n",
    "spacy.cli.download(\"en_core_web_sm\")\n"
   ]
  },
  {
   "cell_type": "code",
   "execution_count": 4,
   "metadata": {},
   "outputs": [],
   "source": [
    "df = pd.read_csv('D:\\Data sets для проектов\\Проект для «Викишоп» с BERT\\\\toxic_comments.csv', index_col=0)"
   ]
  },
  {
   "cell_type": "code",
   "execution_count": 5,
   "metadata": {},
   "outputs": [
    {
     "data": {
      "text/html": [
       "<div>\n",
       "<style scoped>\n",
       "    .dataframe tbody tr th:only-of-type {\n",
       "        vertical-align: middle;\n",
       "    }\n",
       "\n",
       "    .dataframe tbody tr th {\n",
       "        vertical-align: top;\n",
       "    }\n",
       "\n",
       "    .dataframe thead th {\n",
       "        text-align: right;\n",
       "    }\n",
       "</style>\n",
       "<table border=\"1\" class=\"dataframe\">\n",
       "  <thead>\n",
       "    <tr style=\"text-align: right;\">\n",
       "      <th></th>\n",
       "      <th>text</th>\n",
       "      <th>toxic</th>\n",
       "    </tr>\n",
       "  </thead>\n",
       "  <tbody>\n",
       "    <tr>\n",
       "      <th>0</th>\n",
       "      <td>Explanation\\nWhy the edits made under my usern...</td>\n",
       "      <td>0</td>\n",
       "    </tr>\n",
       "    <tr>\n",
       "      <th>1</th>\n",
       "      <td>D'aww! He matches this background colour I'm s...</td>\n",
       "      <td>0</td>\n",
       "    </tr>\n",
       "    <tr>\n",
       "      <th>2</th>\n",
       "      <td>Hey man, I'm really not trying to edit war. It...</td>\n",
       "      <td>0</td>\n",
       "    </tr>\n",
       "    <tr>\n",
       "      <th>3</th>\n",
       "      <td>\"\\nMore\\nI can't make any real suggestions on ...</td>\n",
       "      <td>0</td>\n",
       "    </tr>\n",
       "    <tr>\n",
       "      <th>4</th>\n",
       "      <td>You, sir, are my hero. Any chance you remember...</td>\n",
       "      <td>0</td>\n",
       "    </tr>\n",
       "  </tbody>\n",
       "</table>\n",
       "</div>"
      ],
      "text/plain": [
       "                                                text  toxic\n",
       "0  Explanation\\nWhy the edits made under my usern...      0\n",
       "1  D'aww! He matches this background colour I'm s...      0\n",
       "2  Hey man, I'm really not trying to edit war. It...      0\n",
       "3  \"\\nMore\\nI can't make any real suggestions on ...      0\n",
       "4  You, sir, are my hero. Any chance you remember...      0"
      ]
     },
     "execution_count": 5,
     "metadata": {},
     "output_type": "execute_result"
    }
   ],
   "source": [
    "df.head()"
   ]
  },
  {
   "cell_type": "code",
   "execution_count": 6,
   "metadata": {
    "scrolled": true
   },
   "outputs": [
    {
     "name": "stdout",
     "output_type": "stream",
     "text": [
      "<class 'pandas.core.frame.DataFrame'>\n",
      "Int64Index: 159292 entries, 0 to 159450\n",
      "Data columns (total 2 columns):\n",
      " #   Column  Non-Null Count   Dtype \n",
      "---  ------  --------------   ----- \n",
      " 0   text    159292 non-null  object\n",
      " 1   toxic   159292 non-null  int64 \n",
      "dtypes: int64(1), object(1)\n",
      "memory usage: 3.6+ MB\n"
     ]
    }
   ],
   "source": [
    "df.info()"
   ]
  },
  {
   "cell_type": "markdown",
   "metadata": {},
   "source": [
    "В нашем DataFrame 159292 строк, один столбец типа int64, второй столбец типа object. Nan в DataFrame нет."
   ]
  },
  {
   "cell_type": "code",
   "execution_count": 7,
   "metadata": {
    "scrolled": true
   },
   "outputs": [
    {
     "data": {
      "image/png": "[encoded data removed]",
      "text/plain": [
       "<Figure size 600x400 with 1 Axes>"
      ]
     },
     "metadata": {},
     "output_type": "display_data"
    }
   ],
   "source": [
    "plt.style.use('fivethirtyeight')\n",
    "plt.rcParams[\"figure.figsize\"] = [6,4]\n",
    "\n",
    "plt.title('Визуализация целевого признака (кол-во + и - комментариев)', fontsize=16, y= 1.1)\n",
    "plt.hist(df['toxic'])\n",
    "\n",
    "plt.show()"
   ]
  },
  {
   "cell_type": "markdown",
   "metadata": {},
   "source": [
    "Визуальное представление негативных и положительных комментариев."
   ]
  },
  {
   "cell_type": "code",
   "execution_count": 8,
   "metadata": {},
   "outputs": [
    {
     "data": {
      "text/html": [
       "<div>\n",
       "<style scoped>\n",
       "    .dataframe tbody tr th:only-of-type {\n",
       "        vertical-align: middle;\n",
       "    }\n",
       "\n",
       "    .dataframe tbody tr th {\n",
       "        vertical-align: top;\n",
       "    }\n",
       "\n",
       "    .dataframe thead th {\n",
       "        text-align: right;\n",
       "    }\n",
       "</style>\n",
       "<table border=\"1\" class=\"dataframe\">\n",
       "  <thead>\n",
       "    <tr style=\"text-align: right;\">\n",
       "      <th></th>\n",
       "      <th>Количество + и - комментариев</th>\n",
       "      <th>Процент + и - комментариев</th>\n",
       "    </tr>\n",
       "  </thead>\n",
       "  <tbody>\n",
       "    <tr>\n",
       "      <th>0</th>\n",
       "      <td>143106</td>\n",
       "      <td>89.838787</td>\n",
       "    </tr>\n",
       "    <tr>\n",
       "      <th>1</th>\n",
       "      <td>16186</td>\n",
       "      <td>10.161213</td>\n",
       "    </tr>\n",
       "  </tbody>\n",
       "</table>\n",
       "</div>"
      ],
      "text/plain": [
       "   Количество + и - комментариев  Процент + и - комментариев\n",
       "0                         143106                   89.838787\n",
       "1                          16186                   10.161213"
      ]
     },
     "execution_count": 8,
     "metadata": {},
     "output_type": "execute_result"
    }
   ],
   "source": [
    "col_per = {'Количество + и - комментариев': [df.toxic.value_counts()[0], \n",
    "                                             df.toxic.value_counts()[1]], \n",
    "           \n",
    "           'Процент + и - комментариев': [df.toxic.value_counts()[0] * 100 / len(df), \n",
    "                                          df.toxic.value_counts()[1] * 100 / len(df)]}\n",
    "\n",
    "df_col_per= pd.DataFrame(data=col_per)\n",
    "df_col_per"
   ]
  },
  {
   "cell_type": "markdown",
   "metadata": {},
   "source": [
    "Числовое представление негативных и положительных комментариев, а именно:\n",
    "\n",
    "    - Негативные комментариев 143106 - что составляет 89.8 % от всех комментариев\n",
    "    - Положительные комментариев 16186 - что составляет 10.2 % от всех комментариев"
   ]
  },
  {
   "cell_type": "code",
   "execution_count": 9,
   "metadata": {},
   "outputs": [
    {
     "data": {
      "text/plain": [
       "\"Explanation\\nWhy the edits made under my username Hardcore Metallica Fan were reverted? They weren't vandalisms, just closure on some GAs after I voted at New York Dolls FAC. And please don't remove the template from the talk page since I'm retired now.89.205.38.27\""
      ]
     },
     "execution_count": 9,
     "metadata": {},
     "output_type": "execute_result"
    }
   ],
   "source": [
    "df.text[0]"
   ]
  },
  {
   "cell_type": "markdown",
   "metadata": {},
   "source": [
    "Текст до обработки"
   ]
  },
  {
   "cell_type": "code",
   "execution_count": 10,
   "metadata": {},
   "outputs": [
    {
     "name": "stdout",
     "output_type": "stream",
     "text": [
      "CPU times: total: 23min 40s\n",
      "Wall time: 23min 40s\n"
     ]
    }
   ],
   "source": [
    "%%time\n",
    "nlp = spacy.load('en_core_web_sm')\n",
    "\n",
    "new_text = []\n",
    "for i in df.text: \n",
    "    # Удаляем неалфавитные символы\n",
    "    text = re.sub(\"[^a-zA-Z]\",\" \",i) \n",
    "    # Удаляем начальные и конечные пробелы\n",
    "    text = re.sub(r\"^\\s+|\\s+$\", \"\", text)\n",
    "    # Заменяем несколько пробелов одним пробелом\n",
    "    text =re.sub(r\"\\s+\", \" \", text)\n",
    "    \n",
    "    # Удаляем одиночные символов\n",
    "    text = [word for word in text.split() if len(word) > 1]\n",
    "    # Понижаем регистр символов \n",
    "    doc = [text_low.lower() for text_low in text]\n",
    "    \n",
    "    doc = nlp(\" \".join(doc))\n",
    "    \n",
    "    # Удаляем стоп-слова\n",
    "    doc = [word for word in doc if word.is_stop != True]   \n",
    "    new_text.append(\" \".join([token.lemma_ for token in doc]))"
   ]
  },
  {
   "cell_type": "code",
   "execution_count": 11,
   "metadata": {},
   "outputs": [
    {
     "data": {
      "text/plain": [
       "'explanation edit username hardcore metallica fan revert weren vandalism closure gas vote new york doll fac don remove template talk page retire'"
      ]
     },
     "execution_count": 11,
     "metadata": {},
     "output_type": "execute_result"
    }
   ],
   "source": [
    "new_text[0]"
   ]
  },
  {
   "cell_type": "markdown",
   "metadata": {},
   "source": [
    "Текст после обработки"
   ]
  },
  {
   "cell_type": "code",
   "execution_count": 12,
   "metadata": {
    "scrolled": true
   },
   "outputs": [
    {
     "data": {
      "text/html": [
       "<div>\n",
       "<style scoped>\n",
       "    .dataframe tbody tr th:only-of-type {\n",
       "        vertical-align: middle;\n",
       "    }\n",
       "\n",
       "    .dataframe tbody tr th {\n",
       "        vertical-align: top;\n",
       "    }\n",
       "\n",
       "    .dataframe thead th {\n",
       "        text-align: right;\n",
       "    }\n",
       "</style>\n",
       "<table border=\"1\" class=\"dataframe\">\n",
       "  <thead>\n",
       "    <tr style=\"text-align: right;\">\n",
       "      <th></th>\n",
       "      <th>text</th>\n",
       "      <th>toxic</th>\n",
       "      <th>lemm_text</th>\n",
       "    </tr>\n",
       "  </thead>\n",
       "  <tbody>\n",
       "    <tr>\n",
       "      <th>0</th>\n",
       "      <td>Explanation\\nWhy the edits made under my usern...</td>\n",
       "      <td>0</td>\n",
       "      <td>explanation edit username hardcore metallica f...</td>\n",
       "    </tr>\n",
       "    <tr>\n",
       "      <th>1</th>\n",
       "      <td>D'aww! He matches this background colour I'm s...</td>\n",
       "      <td>0</td>\n",
       "      <td>aww match background colour seemingly stuck th...</td>\n",
       "    </tr>\n",
       "    <tr>\n",
       "      <th>2</th>\n",
       "      <td>Hey man, I'm really not trying to edit war. It...</td>\n",
       "      <td>0</td>\n",
       "      <td>hey man try edit war guy constantly remove rel...</td>\n",
       "    </tr>\n",
       "    <tr>\n",
       "      <th>3</th>\n",
       "      <td>\"\\nMore\\nI can't make any real suggestions on ...</td>\n",
       "      <td>0</td>\n",
       "      <td>real suggestion improvement wonder section sta...</td>\n",
       "    </tr>\n",
       "    <tr>\n",
       "      <th>4</th>\n",
       "      <td>You, sir, are my hero. Any chance you remember...</td>\n",
       "      <td>0</td>\n",
       "      <td>sir hero chance remember page</td>\n",
       "    </tr>\n",
       "    <tr>\n",
       "      <th>...</th>\n",
       "      <td>...</td>\n",
       "      <td>...</td>\n",
       "      <td>...</td>\n",
       "    </tr>\n",
       "    <tr>\n",
       "      <th>159287</th>\n",
       "      <td>\":::::And for the second time of asking, when ...</td>\n",
       "      <td>0</td>\n",
       "      <td>second time ask view completely contradict cov...</td>\n",
       "    </tr>\n",
       "    <tr>\n",
       "      <th>159288</th>\n",
       "      <td>You should be ashamed of yourself \\n\\nThat is ...</td>\n",
       "      <td>0</td>\n",
       "      <td>ashamed horrible thing talk page</td>\n",
       "    </tr>\n",
       "    <tr>\n",
       "      <th>159289</th>\n",
       "      <td>Spitzer \\n\\nUmm, theres no actual article for ...</td>\n",
       "      <td>0</td>\n",
       "      <td>spitzer umm s actual article prostitution ring...</td>\n",
       "    </tr>\n",
       "    <tr>\n",
       "      <th>159290</th>\n",
       "      <td>And it looks like it was actually you who put ...</td>\n",
       "      <td>0</td>\n",
       "      <td>look like actually speedy version delete look</td>\n",
       "    </tr>\n",
       "    <tr>\n",
       "      <th>159291</th>\n",
       "      <td>\"\\nAnd ... I really don't think you understand...</td>\n",
       "      <td>0</td>\n",
       "      <td>don think understand come idea bad right away ...</td>\n",
       "    </tr>\n",
       "  </tbody>\n",
       "</table>\n",
       "<p>159292 rows × 3 columns</p>\n",
       "</div>"
      ],
      "text/plain": [
       "                                                     text  toxic  \\\n",
       "0       Explanation\\nWhy the edits made under my usern...      0   \n",
       "1       D'aww! He matches this background colour I'm s...      0   \n",
       "2       Hey man, I'm really not trying to edit war. It...      0   \n",
       "3       \"\\nMore\\nI can't make any real suggestions on ...      0   \n",
       "4       You, sir, are my hero. Any chance you remember...      0   \n",
       "...                                                   ...    ...   \n",
       "159287  \":::::And for the second time of asking, when ...      0   \n",
       "159288  You should be ashamed of yourself \\n\\nThat is ...      0   \n",
       "159289  Spitzer \\n\\nUmm, theres no actual article for ...      0   \n",
       "159290  And it looks like it was actually you who put ...      0   \n",
       "159291  \"\\nAnd ... I really don't think you understand...      0   \n",
       "\n",
       "                                                lemm_text  \n",
       "0       explanation edit username hardcore metallica f...  \n",
       "1       aww match background colour seemingly stuck th...  \n",
       "2       hey man try edit war guy constantly remove rel...  \n",
       "3       real suggestion improvement wonder section sta...  \n",
       "4                           sir hero chance remember page  \n",
       "...                                                   ...  \n",
       "159287  second time ask view completely contradict cov...  \n",
       "159288                   ashamed horrible thing talk page  \n",
       "159289  spitzer umm s actual article prostitution ring...  \n",
       "159290      look like actually speedy version delete look  \n",
       "159291  don think understand come idea bad right away ...  \n",
       "\n",
       "[159292 rows x 3 columns]"
      ]
     },
     "execution_count": 12,
     "metadata": {},
     "output_type": "execute_result"
    }
   ],
   "source": [
    "df_1 = pd.DataFrame(new_text, columns=['lemm_text'])\n",
    "df_lemm = pd.concat([df.reset_index(drop=True) , df_1], axis=1)\n",
    "df_lemm"
   ]
  },
  {
   "cell_type": "code",
   "execution_count": 13,
   "metadata": {
    "scrolled": true
   },
   "outputs": [
    {
     "data": {
      "text/plain": [
       "'explanation edit username hardcore metallica fan revert weren vandalism closure gas vote new york doll fac don remove template talk page retire'"
      ]
     },
     "execution_count": 13,
     "metadata": {},
     "output_type": "execute_result"
    }
   ],
   "source": [
    "df_lemm.lemm_text[0]"
   ]
  },
  {
   "cell_type": "markdown",
   "metadata": {},
   "source": [
    "**Вывод**"
   ]
  },
  {
   "cell_type": "markdown",
   "metadata": {},
   "source": [
    "В нашем DataFrame 159292 строк, 143106 - негативные комментарии и 16186 - положительные комментарии. Из чего можно сделать вывод, что наш DataFrame состоит в основном негативные комментарии. Значений NaN нет."
   ]
  },
  {
   "cell_type": "markdown",
   "metadata": {},
   "source": [
    "## Обучение"
   ]
  },
  {
   "cell_type": "markdown",
   "metadata": {},
   "source": [
    "### Стэкинг"
   ]
  },
  {
   "cell_type": "code",
   "execution_count": 14,
   "metadata": {},
   "outputs": [],
   "source": [
    "models = [Perceptron(),\n",
    "          RidgeClassifier(),\n",
    "          LogisticRegression(max_iter=1000, n_jobs=-1),\n",
    "          SGDClassifier(n_jobs=-1),\n",
    "          PassiveAggressiveClassifier(n_jobs=-1),\n",
    "          LinearSVC(dual = True, max_iter=100000)\n",
    "]"
   ]
  },
  {
   "cell_type": "markdown",
   "metadata": {},
   "source": [
    "На начальном этапе применяем Стэкинг"
   ]
  },
  {
   "cell_type": "markdown",
   "metadata": {},
   "source": [
    "### Предобработка с помощью BERT "
   ]
  },
  {
   "cell_type": "code",
   "execution_count": 15,
   "metadata": {},
   "outputs": [],
   "source": [
    "df_tweets_BERT = df_lemm.sample(n=50000, random_state=69).reset_index(drop=True) "
   ]
  },
  {
   "cell_type": "markdown",
   "metadata": {},
   "source": [
    "Берем 50000 строк из общего числа df, для сокращения времени обучения нейронной сети. "
   ]
  },
  {
   "cell_type": "code",
   "execution_count": 16,
   "metadata": {
    "scrolled": false
   },
   "outputs": [
    {
     "name": "stdout",
     "output_type": "stream",
     "text": [
      "<class 'pandas.core.frame.DataFrame'>\n",
      "RangeIndex: 50000 entries, 0 to 49999\n",
      "Data columns (total 3 columns):\n",
      " #   Column     Non-Null Count  Dtype \n",
      "---  ------     --------------  ----- \n",
      " 0   text       50000 non-null  object\n",
      " 1   toxic      50000 non-null  int64 \n",
      " 2   lemm_text  50000 non-null  object\n",
      "dtypes: int64(1), object(2)\n",
      "memory usage: 1.1+ MB\n"
     ]
    }
   ],
   "source": [
    "df_tweets_BERT.info()"
   ]
  },
  {
   "cell_type": "code",
   "execution_count": 17,
   "metadata": {
    "scrolled": true
   },
   "outputs": [
    {
     "data": {
      "text/html": [
       "<div>\n",
       "<style scoped>\n",
       "    .dataframe tbody tr th:only-of-type {\n",
       "        vertical-align: middle;\n",
       "    }\n",
       "\n",
       "    .dataframe tbody tr th {\n",
       "        vertical-align: top;\n",
       "    }\n",
       "\n",
       "    .dataframe thead th {\n",
       "        text-align: right;\n",
       "    }\n",
       "</style>\n",
       "<table border=\"1\" class=\"dataframe\">\n",
       "  <thead>\n",
       "    <tr style=\"text-align: right;\">\n",
       "      <th></th>\n",
       "      <th>toxic</th>\n",
       "    </tr>\n",
       "  </thead>\n",
       "  <tbody>\n",
       "    <tr>\n",
       "      <th>0</th>\n",
       "      <td>44945</td>\n",
       "    </tr>\n",
       "    <tr>\n",
       "      <th>1</th>\n",
       "      <td>5055</td>\n",
       "    </tr>\n",
       "  </tbody>\n",
       "</table>\n",
       "</div>"
      ],
      "text/plain": [
       "   toxic\n",
       "0  44945\n",
       "1   5055"
      ]
     },
     "execution_count": 17,
     "metadata": {},
     "output_type": "execute_result"
    }
   ],
   "source": [
    "pd.DataFrame(df_tweets_BERT.toxic.value_counts())"
   ]
  },
  {
   "cell_type": "markdown",
   "metadata": {},
   "source": [
    "Соотношение 0 и 1 примерно одинаковое, по отношению к исходному df."
   ]
  },
  {
   "cell_type": "code",
   "execution_count": 18,
   "metadata": {
    "scrolled": false
   },
   "outputs": [
    {
     "name": "stderr",
     "output_type": "stream",
     "text": [
      "Some weights of the model checkpoint at unitary/toxic-bert were not used when initializing BertModel: ['classifier.weight', 'classifier.bias']\n",
      "- This IS expected if you are initializing BertModel from the checkpoint of a model trained on another task or with another architecture (e.g. initializing a BertForSequenceClassification model from a BertForPreTraining model).\n",
      "- This IS NOT expected if you are initializing BertModel from the checkpoint of a model that you expect to be exactly identical (initializing a BertForSequenceClassification model from a BertForSequenceClassification model).\n"
     ]
    }
   ],
   "source": [
    "model_class, tokenizer_class, pretrained_weights = (transformers.BertModel, \n",
    "                                                    transformers.BertTokenizer, \n",
    "                                                    'unitary/toxic-bert')\n",
    "\n",
    "\n",
    "tokenizer = tokenizer_class.from_pretrained(pretrained_weights)\n",
    "\n",
    "model = model_class.from_pretrained(pretrained_weights)"
   ]
  },
  {
   "cell_type": "markdown",
   "metadata": {},
   "source": [
    "Опытным путем было доказано, что bert-base-uncased и bert-base-cased в нашем случае не подходят, т к они не предназначены для токсического текста и выдают низкую метрику f1. Поэтому, применяем модель unitary/toxic-bert для токсического текста."
   ]
  },
  {
   "cell_type": "code",
   "execution_count": 19,
   "metadata": {},
   "outputs": [],
   "source": [
    "tokeniz = tokenizer_class.from_pretrained(pretrained_weights)"
   ]
  },
  {
   "cell_type": "code",
   "execution_count": 20,
   "metadata": {},
   "outputs": [
    {
     "name": "stdout",
     "output_type": "stream",
     "text": [
      "CPU times: total: 3min 50s\n",
      "Wall time: 3min 50s\n"
     ]
    }
   ],
   "source": [
    "%%time\n",
    "token_lens_df_1 = []\n",
    "for txt in df.text:\n",
    "    tokens = tokeniz.encode(txt, max_length=512, truncation=True)\n",
    "    token_lens_df_1.append(len(tokens))"
   ]
  },
  {
   "cell_type": "code",
   "execution_count": 21,
   "metadata": {},
   "outputs": [
    {
     "data": {
      "image/png": "[encoded data removed]",
      "text/plain": [
       "<Figure size 600x400 with 1 Axes>"
      ]
     },
     "metadata": {},
     "output_type": "display_data"
    }
   ],
   "source": [
    "sns.histplot(token_lens_df_1)\n",
    "plt.xlim([0, 515]);\n",
    "plt.xlabel('Token count');"
   ]
  },
  {
   "cell_type": "markdown",
   "metadata": {},
   "source": [
    "Из графика можно сделать вывод, что большинство комментариев длиной до 100 токенов. Т к мы ограничили длину в 512 токенов, то на отметке в 512 у нас образовался всплеск, а это означает, что приличное число комментариев превышает 512 токенов."
   ]
  },
  {
   "cell_type": "code",
   "execution_count": 22,
   "metadata": {},
   "outputs": [],
   "source": [
    "tokenized = df_tweets_BERT['text'].apply((lambda x: tokenizer.encode(x, truncation = True, add_special_tokens=True)))"
   ]
  },
  {
   "cell_type": "markdown",
   "metadata": {},
   "source": [
    "Преобразуем каждое предложение в список идентификаторов"
   ]
  },
  {
   "cell_type": "code",
   "execution_count": 23,
   "metadata": {},
   "outputs": [],
   "source": [
    "max_len = 0\n",
    "for i in tokenized.values:\n",
    "    if len(i) > max_len:\n",
    "        max_len = len(i)\n",
    "padded = np.array([i + [0]*(max_len - len(i)) for i in tokenized.values])"
   ]
  },
  {
   "cell_type": "markdown",
   "metadata": {},
   "source": [
    "Применим метод padding, чтобы после токенизации длины исходных текстов в корпусе были равными."
   ]
  },
  {
   "cell_type": "code",
   "execution_count": 24,
   "metadata": {},
   "outputs": [],
   "source": [
    "attention_mask = np.where(padded != 0, 1, 0)"
   ]
  },
  {
   "cell_type": "markdown",
   "metadata": {},
   "source": [
    "Поясним модели, что нули не несут значимой информации и укажем нулевые и не нулевые значения"
   ]
  },
  {
   "cell_type": "code",
   "execution_count": 25,
   "metadata": {},
   "outputs": [],
   "source": [
    "device = torch.device(\"cuda:0\") if torch.cuda.is_available() else torch.device(\"cpu\")\n",
    "\n",
    "model.to(device);"
   ]
  },
  {
   "cell_type": "markdown",
   "metadata": {},
   "source": [
    "Инициализируем обработку на GPU, для ускорения выполнения кода."
   ]
  },
  {
   "cell_type": "code",
   "execution_count": 26,
   "metadata": {},
   "outputs": [
    {
     "data": {
      "application/vnd.jupyter.widget-view+json": {
       "model_id": "98353757b455476eb569823b96977fc7",
       "version_major": 2,
       "version_minor": 0
      },
      "text/plain": [
       "  0%|          | 0/5000 [00:00<?, ?it/s]"
      ]
     },
     "metadata": {},
     "output_type": "display_data"
    },
    {
     "name": "stdout",
     "output_type": "stream",
     "text": [
      "CPU times: total: 54min 50s\n",
      "Wall time: 54min 54s\n"
     ]
    }
   ],
   "source": [
    "%%time\n",
    "batch_size = 10\n",
    "embeddings = []\n",
    "\n",
    "for i in notebook.tqdm(range(padded.shape[0] // batch_size)):\n",
    "    batch = torch.LongTensor(padded[batch_size*i:batch_size*(i+1)])                         # преобразуем данные\n",
    "    attention_mask_batch = torch.LongTensor(attention_mask[batch_size*i:batch_size*(i+1)])    # преобразуем маску\n",
    "\n",
    "    with torch.no_grad():\n",
    "        batch_embeddings = model(batch.to(device), attention_mask=attention_mask_batch.to(device))   # Чтобы получить эмбеддинги для батча, \n",
    "                                                                               # передадим модели данные и маску\n",
    "\n",
    "    embeddings.append(batch_embeddings[0][:,0,:].cpu().numpy())             # Градиенты не нужны (увеличение скорости обучения)"
   ]
  },
  {
   "cell_type": "code",
   "execution_count": 27,
   "metadata": {
    "scrolled": true
   },
   "outputs": [],
   "source": [
    "features = np.concatenate(embeddings)"
   ]
  },
  {
   "cell_type": "markdown",
   "metadata": {},
   "source": [
    "Собираем все эмбеддинги в матрицу признаков вызовом функции concatenate"
   ]
  },
  {
   "cell_type": "code",
   "execution_count": 28,
   "metadata": {},
   "outputs": [],
   "source": [
    "labels = df_tweets_BERT.toxic\n",
    "\n",
    "train_features, test_features, train_labels, test_labels = train_test_split(features.copy(), \n",
    "                                                                            labels.copy(), \n",
    "                                                                            test_size=0.2, \n",
    "                                                                            random_state=69,\n",
    "                                                                            shuffle=True)       # default=True"
   ]
  },
  {
   "cell_type": "markdown",
   "metadata": {},
   "source": [
    "Разбиваем df на train и test, в соотношении 80 / 20"
   ]
  },
  {
   "cell_type": "code",
   "execution_count": 29,
   "metadata": {},
   "outputs": [
    {
     "name": "stdout",
     "output_type": "stream",
     "text": [
      "task:         [classification]\n",
      "n_classes:    [2]\n",
      "metric:       [f1_score]\n",
      "mode:         [oof_pred_bag]\n",
      "n_models:     [6]\n",
      "\n",
      "model  0:     [Perceptron]\n",
      "    fold  0:  [0.94242804]\n",
      "    fold  1:  [0.93905473]\n",
      "    fold  2:  [0.91778426]\n",
      "    fold  3:  [0.88466757]\n",
      "    fold  4:  [0.94567901]\n",
      "    ----\n",
      "    MEAN:     [0.92592272] + [0.02281845]\n",
      "    FULL:     [0.92651279]\n",
      "\n",
      "model  1:     [RidgeClassifier]\n",
      "    fold  0:  [0.94375000]\n",
      "    fold  1:  [0.94559099]\n",
      "    fold  2:  [0.94894147]\n",
      "    fold  3:  [0.93935644]\n",
      "    fold  4:  [0.95463021]\n",
      "    ----\n",
      "    MEAN:     [0.94645382] + [0.00512776]\n",
      "    FULL:     [0.94645081]\n",
      "\n",
      "model  2:     [LogisticRegression]\n",
      "    fold  0:  [0.94447910]\n",
      "    fold  1:  [0.93875000]\n",
      "    fold  2:  [0.93683552]\n",
      "    fold  3:  [0.93574548]\n",
      "    fold  4:  [0.94854309]\n",
      "    ----\n",
      "    MEAN:     [0.94087064] + [0.00487717]\n",
      "    FULL:     [0.94088301]\n",
      "\n",
      "model  3:     [SGDClassifier]\n",
      "    fold  0:  [0.92109877]\n",
      "    fold  1:  [0.92535393]\n",
      "    fold  2:  [0.92056075]\n",
      "    fold  3:  [0.91013825]\n",
      "    fold  4:  [0.94919455]\n",
      "    ----\n",
      "    MEAN:     [0.92526925] + [0.01296871]\n",
      "    FULL:     [0.92494296]\n",
      "\n",
      "model  4:     [PassiveAggressiveClassifier]\n",
      "    fold  0:  [0.94318876]\n",
      "    fold  1:  [0.93241552]\n",
      "    fold  2:  [0.94110196]\n",
      "    fold  3:  [0.93466086]\n",
      "    fold  4:  [0.94821208]\n",
      "    ----\n",
      "    MEAN:     [0.93991584] + [0.00574136]\n",
      "    FULL:     [0.93994778]\n",
      "\n",
      "model  5:     [LinearSVC]\n",
      "    fold  0:  [0.92994420]\n",
      "    fold  1:  [0.92509363]\n",
      "    fold  2:  [0.92404269]\n",
      "    fold  3:  [0.92192380]\n",
      "    fold  4:  [0.93554328]\n",
      "    ----\n",
      "    MEAN:     [0.92730952] + [0.00488518]\n",
      "    FULL:     [0.92734511]\n",
      "\n",
      "CPU times: total: 2min 23s\n",
      "Wall time: 21min 40s\n"
     ]
    }
   ],
   "source": [
    "%%time\n",
    "S_train_BERT, S_test_BERT = stacking(models,     \n",
    "                           \n",
    "                                     train_features, train_labels, test_features,   \n",
    "                           \n",
    "                                     regression=False, \n",
    "\n",
    "                                     mode='oof_pred_bag', \n",
    "\n",
    "                                     needs_proba=False,\n",
    "\n",
    "                                     save_dir=None, \n",
    "\n",
    "                                     metric=f1_score, \n",
    "\n",
    "                                     n_folds=5, \n",
    "\n",
    "                                     stratified=True,\n",
    "\n",
    "                                     shuffle=True,  \n",
    "\n",
    "                                     random_state=69,    \n",
    "\n",
    "                                     verbose=2)"
   ]
  },
  {
   "cell_type": "markdown",
   "metadata": {},
   "source": [
    "Лучшая метрика на модели RidgeClassifier f1 = 0.946, но на LogisticRegression f1 = 0.940, что примерно одинаково."
   ]
  },
  {
   "cell_type": "markdown",
   "metadata": {},
   "source": [
    "### Разбиваем наш df"
   ]
  },
  {
   "cell_type": "code",
   "execution_count": 30,
   "metadata": {},
   "outputs": [],
   "source": [
    "X = df_lemm.lemm_text\n",
    "y = df_lemm.toxic\n",
    "\n",
    "x_train, x_test, y_train, y_test = train_test_split(X, y, test_size = 0.25, random_state = 69)"
   ]
  },
  {
   "cell_type": "markdown",
   "metadata": {},
   "source": [
    "Разбили df в соотношении 75 / 25. 75% - train и 25% - test выборки."
   ]
  },
  {
   "cell_type": "markdown",
   "metadata": {},
   "source": [
    "### Обучаем модель с мешком слов"
   ]
  },
  {
   "cell_type": "code",
   "execution_count": 31,
   "metadata": {},
   "outputs": [
    {
     "data": {
      "text/plain": [
       "((119469, 1857676), (39823, 1857676))"
      ]
     },
     "execution_count": 31,
     "metadata": {},
     "output_type": "execute_result"
    }
   ],
   "source": [
    "# импортируем модуль\n",
    "count = CountVectorizer(stop_words=\"english\", ngram_range=(1,2))\n",
    "\n",
    "# проводим преобразование текста\n",
    "matrix_train = count.fit_transform(x_train)  \n",
    "matrix_test = count.transform(x_test)\n",
    "\n",
    "matrix_train.shape, matrix_test.shape"
   ]
  },
  {
   "cell_type": "markdown",
   "metadata": {},
   "source": [
    "Создаем мешок слов"
   ]
  },
  {
   "cell_type": "code",
   "execution_count": 32,
   "metadata": {},
   "outputs": [
    {
     "name": "stdout",
     "output_type": "stream",
     "text": [
      "task:         [classification]\n",
      "n_classes:    [2]\n",
      "metric:       [f1_score]\n",
      "mode:         [oof_pred_bag]\n",
      "n_models:     [6]\n",
      "\n",
      "model  0:     [Perceptron]\n",
      "    fold  0:  [0.72344730]\n",
      "    fold  1:  [0.72474438]\n",
      "    fold  2:  [0.74708333]\n",
      "    fold  3:  [0.72934233]\n",
      "    fold  4:  [0.75652174]\n",
      "    ----\n",
      "    MEAN:     [0.73622782] + [0.01320838]\n",
      "    FULL:     [0.73595529]\n",
      "\n",
      "model  1:     [RidgeClassifier]\n",
      "    fold  0:  [0.66556992]\n",
      "    fold  1:  [0.67455896]\n",
      "    fold  2:  [0.66234368]\n",
      "    fold  3:  [0.64911463]\n",
      "    fold  4:  [0.65990316]\n",
      "    ----\n",
      "    MEAN:     [0.66229807] + [0.00825318]\n",
      "    FULL:     [0.66229661]\n",
      "\n",
      "model  2:     [LogisticRegression]\n",
      "    fold  0:  [0.76606684]\n",
      "    fold  1:  [0.76787372]\n",
      "    fold  2:  [0.76634214]\n",
      "    fold  3:  [0.74622005]\n",
      "    fold  4:  [0.76883840]\n",
      "    ----\n",
      "    MEAN:     [0.76306823] + [0.00848480]\n",
      "    FULL:     [0.76307349]\n",
      "\n",
      "model  3:     [SGDClassifier]\n",
      "    fold  0:  [0.76016636]\n",
      "    fold  1:  [0.76105384]\n",
      "    fold  2:  [0.75965074]\n",
      "    fold  3:  [0.74644006]\n",
      "    fold  4:  [0.76801488]\n",
      "    ----\n",
      "    MEAN:     [0.75906517] + [0.00700002]\n",
      "    FULL:     [0.75904336]\n",
      "\n",
      "model  4:     [PassiveAggressiveClassifier]\n",
      "    fold  0:  [0.76011128]\n",
      "    fold  1:  [0.76407448]\n",
      "    fold  2:  [0.76756757]\n",
      "    fold  3:  [0.75180723]\n",
      "    fold  4:  [0.76287764]\n",
      "    ----\n",
      "    MEAN:     [0.76128764] + [0.00531026]\n",
      "    FULL:     [0.76130097]\n",
      "\n",
      "model  5:     [LinearSVC]\n",
      "    fold  0:  [0.77594909]\n"
     ]
    },
    {
     "name": "stderr",
     "output_type": "stream",
     "text": [
      "C:\\Users\\seryo\\anaconda3\\lib\\site-packages\\sklearn\\svm\\_base.py:1206: ConvergenceWarning: Liblinear failed to converge, increase the number of iterations.\n",
      "  warnings.warn(\n"
     ]
    },
    {
     "name": "stdout",
     "output_type": "stream",
     "text": [
      "    fold  1:  [0.78032787]\n"
     ]
    },
    {
     "name": "stderr",
     "output_type": "stream",
     "text": [
      "C:\\Users\\seryo\\anaconda3\\lib\\site-packages\\sklearn\\svm\\_base.py:1206: ConvergenceWarning: Liblinear failed to converge, increase the number of iterations.\n",
      "  warnings.warn(\n"
     ]
    },
    {
     "name": "stdout",
     "output_type": "stream",
     "text": [
      "    fold  2:  [0.77535916]\n",
      "    fold  3:  [0.76190476]\n"
     ]
    },
    {
     "name": "stderr",
     "output_type": "stream",
     "text": [
      "C:\\Users\\seryo\\anaconda3\\lib\\site-packages\\sklearn\\svm\\_base.py:1206: ConvergenceWarning: Liblinear failed to converge, increase the number of iterations.\n",
      "  warnings.warn(\n"
     ]
    },
    {
     "name": "stdout",
     "output_type": "stream",
     "text": [
      "    fold  4:  [0.77304653]\n",
      "    ----\n",
      "    MEAN:     [0.77331748] + [0.00617354]\n",
      "    FULL:     [0.77332633]\n",
      "\n",
      "CPU times: total: 3h 21min 20s\n",
      "Wall time: 1h 9min 10s\n"
     ]
    }
   ],
   "source": [
    "%%time\n",
    "S_train, S_test = stacking(models,     \n",
    "                           \n",
    "                           matrix_train, y_train, matrix_test,   \n",
    "                           \n",
    "                           regression=False, \n",
    "     \n",
    "                           mode='oof_pred_bag', \n",
    "       \n",
    "                           needs_proba=False,\n",
    "         \n",
    "                           save_dir=None, \n",
    "            \n",
    "                           metric=f1_score, \n",
    "    \n",
    "                           n_folds=5, \n",
    "                 \n",
    "                           stratified=True,\n",
    "            \n",
    "                           shuffle=True,  \n",
    "            \n",
    "                           random_state=69,    \n",
    "         \n",
    "                           verbose=2)"
   ]
  },
  {
   "cell_type": "markdown",
   "metadata": {},
   "source": [
    "Лучшая метрика на модели LinearSVC f1 = 0.773 "
   ]
  },
  {
   "cell_type": "markdown",
   "metadata": {},
   "source": [
    "### Обучаем модель с TF-IDF"
   ]
  },
  {
   "cell_type": "code",
   "execution_count": 33,
   "metadata": {},
   "outputs": [
    {
     "data": {
      "text/plain": [
       "((119469, 1857676), (39823, 1857676))"
      ]
     },
     "execution_count": 33,
     "metadata": {},
     "output_type": "execute_result"
    }
   ],
   "source": [
    "# импортируем модуль TfidfVectorizer\n",
    "tfidf_vectorizer = TfidfVectorizer(stop_words=\"english\", ngram_range=(1,2))\n",
    "\n",
    "#преобразуем текст\n",
    "tfidf_train = tfidf_vectorizer.fit_transform(x_train)\n",
    "tfidf_test = tfidf_vectorizer.transform(x_test)\n",
    "\n",
    "tfidf_train.shape, tfidf_test.shape"
   ]
  },
  {
   "cell_type": "markdown",
   "metadata": {},
   "source": [
    "Создаем TF-IDF, проверяем размер матрицы  "
   ]
  },
  {
   "cell_type": "code",
   "execution_count": 34,
   "metadata": {},
   "outputs": [
    {
     "name": "stdout",
     "output_type": "stream",
     "text": [
      "task:         [classification]\n",
      "n_classes:    [2]\n",
      "metric:       [f1_score]\n",
      "mode:         [oof_pred_bag]\n",
      "n_models:     [6]\n",
      "\n",
      "model  0:     [Perceptron]\n",
      "    fold  0:  [0.75875029]\n",
      "    fold  1:  [0.74518304]\n",
      "    fold  2:  [0.76183812]\n",
      "    fold  3:  [0.74794145]\n",
      "    fold  4:  [0.76589986]\n",
      "    ----\n",
      "    MEAN:     [0.75592255] + [0.00801962]\n",
      "    FULL:     [0.75602270]\n",
      "\n",
      "model  1:     [RidgeClassifier]\n",
      "    fold  0:  [0.66093960]\n",
      "    fold  1:  [0.66773333]\n",
      "    fold  2:  [0.67126193]\n",
      "    fold  3:  [0.65252417]\n",
      "    fold  4:  [0.64818304]\n",
      "    ----\n",
      "    MEAN:     [0.66012841] + [0.00875174]\n",
      "    FULL:     [0.66017339]\n",
      "\n",
      "model  2:     [LogisticRegression]\n",
      "    fold  0:  [0.62669997]\n",
      "    fold  1:  [0.62329719]\n",
      "    fold  2:  [0.63784082]\n",
      "    fold  3:  [0.62099694]\n",
      "    fold  4:  [0.61753210]\n",
      "    ----\n",
      "    MEAN:     [0.62527340] + [0.00695839]\n",
      "    FULL:     [0.62530549]\n",
      "\n",
      "model  3:     [SGDClassifier]\n",
      "    fold  0:  [0.49584232]\n",
      "    fold  1:  [0.49723077]\n",
      "    fold  2:  [0.52418380]\n",
      "    fold  3:  [0.50199448]\n",
      "    fold  4:  [0.50656890]\n",
      "    ----\n",
      "    MEAN:     [0.50516405] + [0.01023330]\n",
      "    FULL:     [0.50523352]\n",
      "\n",
      "model  4:     [PassiveAggressiveClassifier]\n",
      "    fold  0:  [0.77119848]\n",
      "    fold  1:  [0.77518657]\n",
      "    fold  2:  [0.77104456]\n",
      "    fold  3:  [0.75330189]\n",
      "    fold  4:  [0.76206244]\n",
      "    ----\n",
      "    MEAN:     [0.76655879] + [0.00790000]\n",
      "    FULL:     [0.76657712]\n",
      "\n",
      "model  5:     [LinearSVC]\n",
      "    fold  0:  [0.75313191]\n",
      "    fold  1:  [0.75244618]\n",
      "    fold  2:  [0.75499269]\n",
      "    fold  3:  [0.73922679]\n",
      "    fold  4:  [0.74386654]\n",
      "    ----\n",
      "    MEAN:     [0.74873282] + [0.00610528]\n",
      "    FULL:     [0.74875012]\n",
      "\n",
      "CPU times: total: 2min 57s\n",
      "Wall time: 2min 29s\n"
     ]
    }
   ],
   "source": [
    "%%time\n",
    "S_train, S_test = stacking(models,     \n",
    "                           \n",
    "                           tfidf_train, y_train, tfidf_test,   \n",
    "                           \n",
    "                           regression=False, \n",
    "     \n",
    "                           mode='oof_pred_bag', \n",
    "       \n",
    "                           needs_proba=False,\n",
    "         \n",
    "                           save_dir=None, \n",
    "            \n",
    "                           metric=f1_score, \n",
    "    \n",
    "                           n_folds=5, \n",
    "                 \n",
    "                           stratified=True,\n",
    "            \n",
    "                           shuffle=True,  \n",
    "            \n",
    "                           random_state=69,    \n",
    "         \n",
    "                           verbose=2)"
   ]
  },
  {
   "cell_type": "markdown",
   "metadata": {},
   "source": [
    "Лучшая метрика на модели LinearSVC f1 = 0.766"
   ]
  },
  {
   "cell_type": "markdown",
   "metadata": {},
   "source": [
    "### Обучаем модель с HashingVectorizer"
   ]
  },
  {
   "cell_type": "markdown",
   "metadata": {},
   "source": [
    "Данный подход является односторонней функцией, поэтому нет способа преобразовать кодировку обратно в слово. В проекте не стоит задача двусторонней функции(преобразование обратно в слово), поэтому примением HashingVectorizer в проекте."
   ]
  },
  {
   "cell_type": "code",
   "execution_count": 35,
   "metadata": {},
   "outputs": [],
   "source": [
    "def hash_vector(x_train, x_test, y_train):\n",
    "    \n",
    "    n_featur = 0\n",
    "    for featur in range(100_000, 2_100_000, 100_000):\n",
    "        vector = HashingVectorizer(n_features = featur, lowercase=False)\n",
    "\n",
    "        HashingVectorizer_train = vector.fit_transform(x_train)\n",
    "        HashingVectorizer_test = vector.transform(x_test)\n",
    "        \n",
    "        \n",
    "    best_score_HashingVectorizer = 0\n",
    "    lr_c_HashingVectorizer = 0\n",
    "\n",
    "    for i in range(1, 31, 1):\n",
    "        model = LogisticRegression(C=i, n_jobs=-1, random_state=69)\n",
    "        scores_1 = cross_val_score(model, \n",
    "                                   HashingVectorizer_train, \n",
    "                                   y_train, \n",
    "                                   cv=5,       \n",
    "                                   n_jobs = -1,\n",
    "                                   scoring='f1').mean()\n",
    "\n",
    "        if scores_1 > best_score_HashingVectorizer:\n",
    "            best_score_HashingVectorizer = scores_1\n",
    "            lr_c_HashingVectorizer = i\n",
    "            n_featur = featur\n",
    "\n",
    "\n",
    "    return n_featur, best_score_HashingVectorizer, lr_c_HashingVectorizer, "
   ]
  },
  {
   "cell_type": "markdown",
   "metadata": {},
   "source": [
    "Написали функцию, с перебором features в HashingVectorizer и С в LogisticRegression"
   ]
  },
  {
   "cell_type": "code",
   "execution_count": 36,
   "metadata": {},
   "outputs": [
    {
     "name": "stdout",
     "output_type": "stream",
     "text": [
      "CPU times: total: 57.2 s\n",
      "Wall time: 28min 41s\n"
     ]
    }
   ],
   "source": [
    "%%time\n",
    "n_features_hash_vec, best_score_, lr_c_ = hash_vector(x_train, x_test, y_train)"
   ]
  },
  {
   "cell_type": "code",
   "execution_count": 37,
   "metadata": {},
   "outputs": [
    {
     "data": {
      "text/plain": [
       "(2000000, 0.7819576765062328, 24)"
      ]
     },
     "execution_count": 37,
     "metadata": {},
     "output_type": "execute_result"
    }
   ],
   "source": [
    "n_features_hash_vec, best_score_, lr_c_"
   ]
  },
  {
   "cell_type": "code",
   "execution_count": 38,
   "metadata": {},
   "outputs": [],
   "source": [
    "vector = HashingVectorizer(n_features=n_features_hash_vec, lowercase=False)\n",
    "\n",
    "HashingVectorizer_train = vector.fit_transform(x_train)\n",
    "HashingVectorizer_test = vector.transform(x_test)"
   ]
  },
  {
   "cell_type": "code",
   "execution_count": 39,
   "metadata": {},
   "outputs": [
    {
     "name": "stdout",
     "output_type": "stream",
     "text": [
      "task:         [classification]\n",
      "n_classes:    [2]\n",
      "metric:       [f1_score]\n",
      "mode:         [oof_pred_bag]\n",
      "n_models:     [6]\n",
      "\n",
      "model  0:     [Perceptron]\n",
      "    fold  0:  [0.73059361]\n",
      "    fold  1:  [0.73394872]\n",
      "    fold  2:  [0.73714403]\n",
      "    fold  3:  [0.72141119]\n",
      "    fold  4:  [0.73662294]\n",
      "    ----\n",
      "    MEAN:     [0.73194410] + [0.00575700]\n",
      "    FULL:     [0.73190999]\n",
      "\n",
      "model  1:     [RidgeClassifier]\n",
      "    fold  0:  [0.69396217]\n",
      "    fold  1:  [0.70010288]\n",
      "    fold  2:  [0.69810354]\n",
      "    fold  3:  [0.68452536]\n",
      "    fold  4:  [0.68192458]\n",
      "    ----\n",
      "    MEAN:     [0.69172370] + [0.00726309]\n",
      "    FULL:     [0.69176276]\n",
      "\n",
      "model  2:     [LogisticRegression]\n",
      "    fold  0:  [0.72979098]\n",
      "    fold  1:  [0.72686117]\n",
      "    fold  2:  [0.72808989]\n",
      "    fold  3:  [0.71989924]\n",
      "    fold  4:  [0.71929382]\n",
      "    ----\n",
      "    MEAN:     [0.72478702] + [0.00434318]\n",
      "    FULL:     [0.72479509]\n",
      "\n",
      "model  3:     [SGDClassifier]\n",
      "    fold  0:  [0.63741722]\n",
      "    fold  1:  [0.63653899]\n",
      "    fold  2:  [0.66289105]\n",
      "    fold  3:  [0.64234778]\n",
      "    fold  4:  [0.63189845]\n",
      "    ----\n",
      "    MEAN:     [0.64221870] + [0.01085526]\n",
      "    FULL:     [0.64231254]\n",
      "\n",
      "model  4:     [PassiveAggressiveClassifier]\n",
      "    fold  0:  [0.75380207]\n",
      "    fold  1:  [0.76012059]\n",
      "    fold  2:  [0.75728155]\n",
      "    fold  3:  [0.74863745]\n",
      "    fold  4:  [0.75944504]\n",
      "    ----\n",
      "    MEAN:     [0.75585734] + [0.00422909]\n",
      "    FULL:     [0.75589051]\n",
      "\n",
      "model  5:     [LinearSVC]\n",
      "    fold  0:  [0.78515081]\n",
      "    fold  1:  [0.78379630]\n",
      "    fold  2:  [0.78322967]\n",
      "    fold  3:  [0.77143517]\n",
      "    fold  4:  [0.77945619]\n",
      "    ----\n",
      "    MEAN:     [0.78061363] + [0.00496272]\n",
      "    FULL:     [0.78061201]\n",
      "\n",
      "CPU times: total: 2min 52s\n",
      "Wall time: 2min 22s\n"
     ]
    }
   ],
   "source": [
    "%%time\n",
    "S_train, S_test = stacking(models,     \n",
    "                           \n",
    "                           HashingVectorizer_train, y_train, HashingVectorizer_test,   \n",
    "                           \n",
    "                           regression=False, \n",
    "     \n",
    "                           mode='oof_pred_bag', \n",
    "       \n",
    "                           needs_proba=False,\n",
    "         \n",
    "                           save_dir=None, \n",
    "            \n",
    "                           metric=f1_score, \n",
    "    \n",
    "                           n_folds=5, \n",
    "                 \n",
    "                           stratified=True,\n",
    "            \n",
    "                           shuffle=True,  \n",
    "            \n",
    "                           random_state=69,    \n",
    "         \n",
    "                           verbose=2)"
   ]
  },
  {
   "cell_type": "markdown",
   "metadata": {},
   "source": [
    "Лучшая метрика на модели LinearSVC f1 = 0.780"
   ]
  },
  {
   "cell_type": "markdown",
   "metadata": {},
   "source": [
    "## Лучшая модель"
   ]
  },
  {
   "cell_type": "code",
   "execution_count": 43,
   "metadata": {},
   "outputs": [
    {
     "name": "stdout",
     "output_type": "stream",
     "text": [
      "CPU times: total: 2.91 s\n",
      "Wall time: 4min 1s\n"
     ]
    },
    {
     "data": {
      "text/plain": [
       "(0.7837177498127809, 2)"
      ]
     },
     "execution_count": 43,
     "metadata": {},
     "output_type": "execute_result"
    }
   ],
   "source": [
    "%%time\n",
    "best_score_LinearSVC = 0\n",
    "lr_c_LinearSVC = 0\n",
    "\n",
    "for i in range(1, 31, 1):\n",
    "    model = LinearSVC(C=i, random_state=69, max_iter=100_000)\n",
    "    scores_LinearSVC = cross_val_score(model, \n",
    "                                       HashingVectorizer_train, \n",
    "                                       y_train, \n",
    "                                       cv=5,       \n",
    "                                       n_jobs = -1,\n",
    "                                       scoring='f1').mean()\n",
    "\n",
    "    if scores_LinearSVC > best_score_LinearSVC:\n",
    "        best_score_LinearSVC = scores_LinearSVC\n",
    "        lr_c_LinearSVC = i\n",
    "\n",
    "        \n",
    "best_score_LinearSVC, lr_c_LinearSVC"
   ]
  },
  {
   "cell_type": "code",
   "execution_count": 44,
   "metadata": {},
   "outputs": [
    {
     "name": "stdout",
     "output_type": "stream",
     "text": [
      "CPU times: total: 1.2 s\n",
      "Wall time: 1.21 s\n"
     ]
    },
    {
     "data": {
      "text/plain": [
       "0.7837016574585635"
      ]
     },
     "execution_count": 44,
     "metadata": {},
     "output_type": "execute_result"
    }
   ],
   "source": [
    "%%time\n",
    "model = LinearSVC(C = lr_c_LinearSVC, random_state=69)\n",
    "model.fit(HashingVectorizer_train, y_train)\n",
    "pred_linear_svc = model.predict(HashingVectorizer_test)\n",
    "f1_score(y_test, pred_linear_svc)"
   ]
  },
  {
   "cell_type": "markdown",
   "metadata": {},
   "source": [
    "Из HashingVectorizer, TfidfVectorizer, CountVectorizer лучшая метрика f1 на HashingVectorizer модель LinearSVC f1 = 0.783."
   ]
  },
  {
   "cell_type": "code",
   "execution_count": 45,
   "metadata": {},
   "outputs": [
    {
     "name": "stdout",
     "output_type": "stream",
     "text": [
      "CPU times: total: 3.03 s\n",
      "Wall time: 36.3 s\n"
     ]
    },
    {
     "data": {
      "text/plain": [
       "(0.9470729871978614, 22)"
      ]
     },
     "execution_count": 45,
     "metadata": {},
     "output_type": "execute_result"
    }
   ],
   "source": [
    "%%time\n",
    "best_score_ridge_classifier = 0\n",
    "lr_c_ridge_classifier = 0\n",
    "\n",
    "for i in range(1, 31, 1):\n",
    "    model = RidgeClassifier(alpha=i, random_state=69, max_iter=100_000)\n",
    "    scores_ridge_classifier = cross_val_score(model, \n",
    "                                              train_features, \n",
    "                                              train_labels, \n",
    "                                              cv=5,       \n",
    "                                              n_jobs = -1,\n",
    "                                              scoring='f1').mean()\n",
    "\n",
    "    if scores_ridge_classifier > best_score_ridge_classifier:\n",
    "        best_score_ridge_classifier = scores_ridge_classifier\n",
    "        lr_c_ridge_classifier = i\n",
    "\n",
    "        \n",
    "best_score_ridge_classifier, lr_c_ridge_classifier"
   ]
  },
  {
   "cell_type": "code",
   "execution_count": 46,
   "metadata": {},
   "outputs": [
    {
     "name": "stdout",
     "output_type": "stream",
     "text": [
      "CPU times: total: 1 s\n",
      "Wall time: 241 ms\n"
     ]
    },
    {
     "data": {
      "text/plain": [
       "0.9414587332053743"
      ]
     },
     "execution_count": 46,
     "metadata": {},
     "output_type": "execute_result"
    }
   ],
   "source": [
    "%%time\n",
    "model = RidgeClassifier(alpha = lr_c_ridge_classifier, random_state=69)\n",
    "model.fit(train_features, train_labels)\n",
    "pred = model.predict(test_features)\n",
    "f1_score(test_labels, pred)"
   ]
  },
  {
   "cell_type": "markdown",
   "metadata": {},
   "source": [
    "**Метрика f1 = 0.941** на модели RidgeClassifier с обработкой текста с помощью 'unitary/toxic-bert'"
   ]
  },
  {
   "cell_type": "markdown",
   "metadata": {},
   "source": [
    "## Выводы"
   ]
  },
  {
   "cell_type": "markdown",
   "metadata": {},
   "source": [
    "В данном проекте были реализованы различные архитектуры предобработки токсического текста с помощью BERT, HashingVectorizer, TfidfVectorizer, CountVectorizer. Из всех архитектур, лучший показатель у BERT у модели 'unitary/toxic-bert' метрика f1 = 0.941. Остальные архитектуры показали примерно одинаковый результат метрика f1 в районе 0.75 - 0.78"
   ]
  },
  {
   "cell_type": "code",
   "execution_count": null,
   "metadata": {},
   "outputs": [],
   "source": []
  }
 ],
 "metadata": {
  "kernelspec": {
   "display_name": "Python 3 (ipykernel)",
   "language": "python",
   "name": "python3"
  },
  "language_info": {
   "codemirror_mode": {
    "name": "ipython",
    "version": 3
   },
   "file_extension": ".py",
   "mimetype": "text/x-python",
   "name": "python",
   "nbconvert_exporter": "python",
   "pygments_lexer": "ipython3",
   "version": "3.8.8"
  },
  "toc": {
   "base_numbering": 1,
   "nav_menu": {},
   "number_sections": true,
   "sideBar": true,
   "skip_h1_title": true,
   "title_cell": "Содержание",
   "title_sidebar": "Contents",
   "toc_cell": true,
   "toc_position": {
    "height": "calc(100% - 180px)",
    "left": "10px",
    "top": "150px",
    "width": "302.391px"
   },
   "toc_section_display": true,
   "toc_window_display": false
  }
 },
 "nbformat": 4,
 "nbformat_minor": 2
}
