{
 "cells": [
  {
   "cell_type": "markdown",
   "metadata": {},
   "source": [
    "#  Прогнозирование заказов такси"
   ]
  },
  {
   "cell_type": "markdown",
   "metadata": {},
   "source": [
    "Компания «Чётенькое такси» собрала исторические данные о заказах такси в аэропортах. Чтобы привлекать больше водителей в период пиковой нагрузки, нужно спрогнозировать количество заказов такси на следующий час. Постройте модель для такого предсказания.\n",
    "\n",
    "Значение метрики *RMSE* на тестовой выборке должно быть не больше 48.\n",
    "\n",
    "Вам нужно:\n",
    "\n",
    "1. Загрузить данные и выполнить их ресемплирование по одному часу.\n",
    "2. Проанализировать данные.\n",
    "3. Обучить разные модели с различными гиперпараметрами. Сделать тестовую выборку размером 10% от исходных данных.\n",
    "4. Проверить данные на тестовой выборке и сделать выводы.\n"
   ]
  },
  {
   "cell_type": "markdown",
   "metadata": {},
   "source": [
    "## Подготовка"
   ]
  },
  {
   "cell_type": "code",
   "execution_count": 1,
   "metadata": {},
   "outputs": [],
   "source": [
    "import pandas as pd\n",
    "import datetime\n",
    "import numpy as np\n",
    "import matplotlib.pyplot as plt\n",
    "from statsmodels.tsa.seasonal import seasonal_decompose\n",
    "\n",
    "\n",
    "from sklearn.model_selection import train_test_split\n",
    "from sklearn.preprocessing import StandardScaler\n",
    "from sklearn.linear_model import LinearRegression\n",
    "from sklearn.metrics import mean_squared_error as mse\n",
    "from sklearn.model_selection import cross_val_score\n",
    "from sklearn.model_selection import TimeSeriesSplit\n",
    "\n",
    "from sklearn.experimental import enable_halving_search_cv\n",
    "from sklearn.model_selection import HalvingGridSearchCV\n",
    "\n",
    "\n",
    "from catboost import CatBoostRegressor\n",
    "\n",
    "from skorch import NeuralNetRegressor\n",
    "from sklearn.model_selection import GridSearchCV\n",
    "from torch import optim\n",
    "import torch.nn.functional as F\n",
    "import torch\n",
    "import torch.nn as nn\n",
    "import skorch\n",
    "import random"
   ]
  },
  {
   "cell_type": "code",
   "execution_count": 2,
   "metadata": {},
   "outputs": [],
   "source": [
    "df = pd.read_csv('C:\\\\Users\\\\seryo\\\\taxi.csv', index_col=[0], parse_dates=[0], dayfirst=True)\n",
    "\n",
    "# index_col=[0] - столбец, который будет индексом\n",
    "# parse_dates=[0] - столбец, который мы переводим в формат даты"
   ]
  },
  {
   "cell_type": "code",
   "execution_count": 3,
   "metadata": {
    "scrolled": false
   },
   "outputs": [
    {
     "data": {
      "text/html": [
       "<div>\n",
       "<style scoped>\n",
       "    .dataframe tbody tr th:only-of-type {\n",
       "        vertical-align: middle;\n",
       "    }\n",
       "\n",
       "    .dataframe tbody tr th {\n",
       "        vertical-align: top;\n",
       "    }\n",
       "\n",
       "    .dataframe thead th {\n",
       "        text-align: right;\n",
       "    }\n",
       "</style>\n",
       "<table border=\"1\" class=\"dataframe\">\n",
       "  <thead>\n",
       "    <tr style=\"text-align: right;\">\n",
       "      <th></th>\n",
       "      <th>num_orders</th>\n",
       "    </tr>\n",
       "    <tr>\n",
       "      <th>datetime</th>\n",
       "      <th></th>\n",
       "    </tr>\n",
       "  </thead>\n",
       "  <tbody>\n",
       "    <tr>\n",
       "      <th>2018-03-01 00:00:00</th>\n",
       "      <td>9</td>\n",
       "    </tr>\n",
       "    <tr>\n",
       "      <th>2018-03-01 00:10:00</th>\n",
       "      <td>14</td>\n",
       "    </tr>\n",
       "    <tr>\n",
       "      <th>2018-03-01 00:20:00</th>\n",
       "      <td>28</td>\n",
       "    </tr>\n",
       "  </tbody>\n",
       "</table>\n",
       "</div>"
      ],
      "text/plain": [
       "                     num_orders\n",
       "datetime                       \n",
       "2018-03-01 00:00:00           9\n",
       "2018-03-01 00:10:00          14\n",
       "2018-03-01 00:20:00          28"
      ]
     },
     "execution_count": 3,
     "metadata": {},
     "output_type": "execute_result"
    }
   ],
   "source": [
    "df.head(3)"
   ]
  },
  {
   "cell_type": "code",
   "execution_count": 4,
   "metadata": {},
   "outputs": [
    {
     "name": "stdout",
     "output_type": "stream",
     "text": [
      "<class 'pandas.core.frame.DataFrame'>\n",
      "DatetimeIndex: 26496 entries, 2018-03-01 00:00:00 to 2018-08-31 23:50:00\n",
      "Data columns (total 1 columns):\n",
      " #   Column      Non-Null Count  Dtype\n",
      "---  ------      --------------  -----\n",
      " 0   num_orders  26496 non-null  int64\n",
      "dtypes: int64(1)\n",
      "memory usage: 414.0 KB\n"
     ]
    }
   ],
   "source": [
    "df.info()"
   ]
  },
  {
   "cell_type": "markdown",
   "metadata": {},
   "source": [
    "В нашем Data Frame 26496 строк и 1 столбец. Тип данных: столбец типа int64."
   ]
  },
  {
   "cell_type": "code",
   "execution_count": 5,
   "metadata": {},
   "outputs": [],
   "source": [
    "df = df.resample('1H').sum()"
   ]
  },
  {
   "cell_type": "markdown",
   "metadata": {},
   "source": [
    "Делаем ресемплирование по одному часу."
   ]
  },
  {
   "cell_type": "code",
   "execution_count": 6,
   "metadata": {},
   "outputs": [
    {
     "data": {
      "text/html": [
       "<div>\n",
       "<style scoped>\n",
       "    .dataframe tbody tr th:only-of-type {\n",
       "        vertical-align: middle;\n",
       "    }\n",
       "\n",
       "    .dataframe tbody tr th {\n",
       "        vertical-align: top;\n",
       "    }\n",
       "\n",
       "    .dataframe thead th {\n",
       "        text-align: right;\n",
       "    }\n",
       "</style>\n",
       "<table border=\"1\" class=\"dataframe\">\n",
       "  <thead>\n",
       "    <tr style=\"text-align: right;\">\n",
       "      <th></th>\n",
       "      <th>num_orders</th>\n",
       "    </tr>\n",
       "    <tr>\n",
       "      <th>datetime</th>\n",
       "      <th></th>\n",
       "    </tr>\n",
       "  </thead>\n",
       "  <tbody>\n",
       "    <tr>\n",
       "      <th>2018-03-01 00:00:00</th>\n",
       "      <td>124</td>\n",
       "    </tr>\n",
       "    <tr>\n",
       "      <th>2018-03-01 01:00:00</th>\n",
       "      <td>85</td>\n",
       "    </tr>\n",
       "    <tr>\n",
       "      <th>2018-03-01 02:00:00</th>\n",
       "      <td>71</td>\n",
       "    </tr>\n",
       "  </tbody>\n",
       "</table>\n",
       "</div>"
      ],
      "text/plain": [
       "                     num_orders\n",
       "datetime                       \n",
       "2018-03-01 00:00:00         124\n",
       "2018-03-01 01:00:00          85\n",
       "2018-03-01 02:00:00          71"
      ]
     },
     "execution_count": 6,
     "metadata": {},
     "output_type": "execute_result"
    }
   ],
   "source": [
    "df.head(3)"
   ]
  },
  {
   "cell_type": "code",
   "execution_count": 7,
   "metadata": {
    "scrolled": true
   },
   "outputs": [
    {
     "data": {
      "text/html": [
       "<div>\n",
       "<style scoped>\n",
       "    .dataframe tbody tr th:only-of-type {\n",
       "        vertical-align: middle;\n",
       "    }\n",
       "\n",
       "    .dataframe tbody tr th {\n",
       "        vertical-align: top;\n",
       "    }\n",
       "\n",
       "    .dataframe thead th {\n",
       "        text-align: right;\n",
       "    }\n",
       "</style>\n",
       "<table border=\"1\" class=\"dataframe\">\n",
       "  <thead>\n",
       "    <tr style=\"text-align: right;\">\n",
       "      <th></th>\n",
       "      <th>num_orders</th>\n",
       "    </tr>\n",
       "    <tr>\n",
       "      <th>datetime</th>\n",
       "      <th></th>\n",
       "    </tr>\n",
       "  </thead>\n",
       "  <tbody>\n",
       "    <tr>\n",
       "      <th>2018-08-31 21:00:00</th>\n",
       "      <td>159</td>\n",
       "    </tr>\n",
       "    <tr>\n",
       "      <th>2018-08-31 22:00:00</th>\n",
       "      <td>223</td>\n",
       "    </tr>\n",
       "    <tr>\n",
       "      <th>2018-08-31 23:00:00</th>\n",
       "      <td>205</td>\n",
       "    </tr>\n",
       "  </tbody>\n",
       "</table>\n",
       "</div>"
      ],
      "text/plain": [
       "                     num_orders\n",
       "datetime                       \n",
       "2018-08-31 21:00:00         159\n",
       "2018-08-31 22:00:00         223\n",
       "2018-08-31 23:00:00         205"
      ]
     },
     "execution_count": 7,
     "metadata": {},
     "output_type": "execute_result"
    }
   ],
   "source": [
    "df.tail(3)"
   ]
  },
  {
   "cell_type": "markdown",
   "metadata": {},
   "source": [
    "В Data Frame заказы начинаются с 2018-03-01 и заканчиваются 2018-08-31"
   ]
  },
  {
   "cell_type": "code",
   "execution_count": 8,
   "metadata": {},
   "outputs": [
    {
     "data": {
      "text/plain": [
       "num_orders    462\n",
       "dtype: int64"
      ]
     },
     "execution_count": 8,
     "metadata": {},
     "output_type": "execute_result"
    }
   ],
   "source": [
    "df.max()"
   ]
  },
  {
   "cell_type": "code",
   "execution_count": 9,
   "metadata": {},
   "outputs": [
    {
     "data": {
      "text/plain": [
       "num_orders    0\n",
       "dtype: int64"
      ]
     },
     "execution_count": 9,
     "metadata": {},
     "output_type": "execute_result"
    }
   ],
   "source": [
    "df.min()"
   ]
  },
  {
   "cell_type": "code",
   "execution_count": 10,
   "metadata": {},
   "outputs": [
    {
     "data": {
      "text/html": [
       "<div>\n",
       "<style scoped>\n",
       "    .dataframe tbody tr th:only-of-type {\n",
       "        vertical-align: middle;\n",
       "    }\n",
       "\n",
       "    .dataframe tbody tr th {\n",
       "        vertical-align: top;\n",
       "    }\n",
       "\n",
       "    .dataframe thead th {\n",
       "        text-align: right;\n",
       "    }\n",
       "</style>\n",
       "<table border=\"1\" class=\"dataframe\">\n",
       "  <thead>\n",
       "    <tr style=\"text-align: right;\">\n",
       "      <th></th>\n",
       "      <th>num_orders</th>\n",
       "    </tr>\n",
       "    <tr>\n",
       "      <th>datetime</th>\n",
       "      <th></th>\n",
       "    </tr>\n",
       "  </thead>\n",
       "  <tbody>\n",
       "    <tr>\n",
       "      <th>2018-04-06 06:00:00</th>\n",
       "      <td>0</td>\n",
       "    </tr>\n",
       "  </tbody>\n",
       "</table>\n",
       "</div>"
      ],
      "text/plain": [
       "                     num_orders\n",
       "datetime                       \n",
       "2018-04-06 06:00:00           0"
      ]
     },
     "execution_count": 10,
     "metadata": {},
     "output_type": "execute_result"
    }
   ],
   "source": [
    "df[df['num_orders'] == 0]"
   ]
  },
  {
   "cell_type": "markdown",
   "metadata": {},
   "source": [
    "Максимальное кол-во заказов за 1 час 462, минимальное значение заказов 2018-04-06 06:00:00 составляет 0 заказов, как вариант, возможно был какой-то сбой в системе."
   ]
  },
  {
   "cell_type": "markdown",
   "metadata": {},
   "source": [
    "## Анализ"
   ]
  },
  {
   "cell_type": "code",
   "execution_count": 11,
   "metadata": {
    "scrolled": true
   },
   "outputs": [
    {
     "data": {
      "image/png": "[encoded data removed]",
      "text/plain": [
       "<Figure size 864x360 with 1 Axes>"
      ]
     },
     "metadata": {
      "needs_background": "light"
     },
     "output_type": "display_data"
    }
   ],
   "source": [
    "df.resample('1H').sum().plot(figsize=(12, 5))\n",
    "plt.xlabel(\"Месяцы\", fontsize=12)\n",
    "plt.ylabel(\"Количество заказов\", fontsize=12)\n",
    "plt.title('Количество заказов по часам', fontsize=16);"
   ]
  },
  {
   "cell_type": "code",
   "execution_count": 12,
   "metadata": {},
   "outputs": [
    {
     "data": {
      "image/png": "[encoded data removed]",
      "text/plain": [
       "<Figure size 864x432 with 1 Axes>"
      ]
     },
     "metadata": {
      "needs_background": "light"
     },
     "output_type": "display_data"
    }
   ],
   "source": [
    "df_rol = df.copy()\n",
    "df_rol['rolling_mean'] = df_rol.rolling(24).mean() # Cкользящее среднее с окном размером 24\n",
    "df_rol.plot(figsize=(12,6));"
   ]
  },
  {
   "cell_type": "markdown",
   "metadata": {},
   "source": [
    "Из графика можно сделать вывод, что к лету кол-во заказов увеличивается, переодически возникают выбросы по кол-ву заказов которые влияют на разброс, возможно это связано с какими-то праздниками или например с плохой погодой. "
   ]
  },
  {
   "cell_type": "code",
   "execution_count": 13,
   "metadata": {
    "scrolled": true
   },
   "outputs": [
    {
     "data": {
      "image/png": "[encoded data removed]",
      "text/plain": [
       "<Figure size 720x360 with 1 Axes>"
      ]
     },
     "metadata": {
      "needs_background": "light"
     },
     "output_type": "display_data"
    }
   ],
   "source": [
    "df.resample('W').mean().plot(figsize=(10,5));"
   ]
  },
  {
   "cell_type": "markdown",
   "metadata": {},
   "source": [
    "Построили график со средним кол-вом заказов по неделям, у нас не стационарный ряд т к меняется среднее кол-во заказов."
   ]
  },
  {
   "cell_type": "code",
   "execution_count": 14,
   "metadata": {},
   "outputs": [
    {
     "data": {
      "image/png": "[encoded data removed]",
      "text/plain": [
       "<Figure size 864x360 with 1 Axes>"
      ]
     },
     "metadata": {
      "needs_background": "light"
     },
     "output_type": "display_data"
    }
   ],
   "source": [
    "df_month_mean = df.resample('1M').mean()\n",
    "df_month_mean.plot(figsize=(12, 5))\n",
    "plt.xlabel(\"Месяцы\", fontsize=12)\n",
    "plt.ylabel(\"Среднее число заказов\", fontsize=12)\n",
    "plt.title('Среднее число заказов в месяц', fontsize=16);"
   ]
  },
  {
   "cell_type": "markdown",
   "metadata": {},
   "source": [
    "С каждым месяцем, число заказов увеличивается"
   ]
  },
  {
   "cell_type": "code",
   "execution_count": 15,
   "metadata": {},
   "outputs": [
    {
     "data": {
      "text/html": [
       "<div>\n",
       "<style scoped>\n",
       "    .dataframe tbody tr th:only-of-type {\n",
       "        vertical-align: middle;\n",
       "    }\n",
       "\n",
       "    .dataframe tbody tr th {\n",
       "        vertical-align: top;\n",
       "    }\n",
       "\n",
       "    .dataframe thead th {\n",
       "        text-align: right;\n",
       "    }\n",
       "</style>\n",
       "<table border=\"1\" class=\"dataframe\">\n",
       "  <thead>\n",
       "    <tr style=\"text-align: right;\">\n",
       "      <th></th>\n",
       "      <th>num_orders</th>\n",
       "    </tr>\n",
       "  </thead>\n",
       "  <tbody>\n",
       "    <tr>\n",
       "      <th>count</th>\n",
       "      <td>4416.000000</td>\n",
       "    </tr>\n",
       "    <tr>\n",
       "      <th>mean</th>\n",
       "      <td>84.422781</td>\n",
       "    </tr>\n",
       "    <tr>\n",
       "      <th>std</th>\n",
       "      <td>45.023853</td>\n",
       "    </tr>\n",
       "    <tr>\n",
       "      <th>min</th>\n",
       "      <td>0.000000</td>\n",
       "    </tr>\n",
       "    <tr>\n",
       "      <th>25%</th>\n",
       "      <td>54.000000</td>\n",
       "    </tr>\n",
       "    <tr>\n",
       "      <th>50%</th>\n",
       "      <td>78.000000</td>\n",
       "    </tr>\n",
       "    <tr>\n",
       "      <th>75%</th>\n",
       "      <td>107.000000</td>\n",
       "    </tr>\n",
       "    <tr>\n",
       "      <th>max</th>\n",
       "      <td>462.000000</td>\n",
       "    </tr>\n",
       "  </tbody>\n",
       "</table>\n",
       "</div>"
      ],
      "text/plain": [
       "        num_orders\n",
       "count  4416.000000\n",
       "mean     84.422781\n",
       "std      45.023853\n",
       "min       0.000000\n",
       "25%      54.000000\n",
       "50%      78.000000\n",
       "75%     107.000000\n",
       "max     462.000000"
      ]
     },
     "execution_count": 15,
     "metadata": {},
     "output_type": "execute_result"
    },
    {
     "data": {
      "image/png": "[encoded data removed]",
      "text/plain": [
       "<Figure size 432x288 with 1 Axes>"
      ]
     },
     "metadata": {
      "needs_background": "light"
     },
     "output_type": "display_data"
    }
   ],
   "source": [
    "df_describe = df.describe()\n",
    "df.hist()\n",
    "df_describe"
   ]
  },
  {
   "cell_type": "markdown",
   "metadata": {},
   "source": [
    "По графику можно сказать, что в среднем, большее кол-во заказов варьируется примерно от 50 до 90. Как и было написано выше, что max кол-во заказов 462, min кол-во заказов 0. Медиана в районе 84 заказов и среднее кол-во заказов 45. В Data Frame 4416 строк."
   ]
  },
  {
   "cell_type": "code",
   "execution_count": 16,
   "metadata": {},
   "outputs": [
    {
     "data": {
      "image/png": "[encoded data removed]",
      "text/plain": [
       "<Figure size 1080x720 with 1 Axes>"
      ]
     },
     "metadata": {
      "needs_background": "light"
     },
     "output_type": "display_data"
    },
    {
     "data": {
      "image/png": "[encoded data removed]",
      "text/plain": [
       "<Figure size 1080x720 with 1 Axes>"
      ]
     },
     "metadata": {
      "needs_background": "light"
     },
     "output_type": "display_data"
    }
   ],
   "source": [
    "decomposed = seasonal_decompose(df)\n",
    "\n",
    "plt.figure(figsize=(15, 10))\n",
    "plt.subplot(313)\n",
    "plt.title('Seasonality')\n",
    "decomposed.seasonal['2018-03-01 00:00:00':'2018-03-14 23:59:59'].plot(ax=plt.gca())\n",
    "plt.tight_layout()\n",
    "plt.xlabel(\"Дни\", fontsize=12)\n",
    "plt.ylabel(\"Число заказов\", fontsize=12)\n",
    "plt.title('График сезонности заказов на протяжении 14-и дней', fontsize=16, y= 1.1);\n",
    "\n",
    "\n",
    "plt.figure(figsize=(15, 10))\n",
    "plt.subplot(313)\n",
    "plt.title('Seasonality')\n",
    "decomposed.seasonal['2018-03-01 00:00:00':'2018-03-01 23:59:59'].plot(ax=plt.gca())\n",
    "plt.tight_layout()\n",
    "plt.xlabel(\"Часы\", fontsize=12)\n",
    "plt.ylabel(\"Число заказов\", fontsize=12)\n",
    "plt.title('График сезонности заказов на протяжении 1-х суток', fontsize=16, y= 1.1);"
   ]
  },
  {
   "cell_type": "markdown",
   "metadata": {},
   "source": [
    "Из графика построенного на 14 дней, ничего особенного в плане заказов выделить нельзя, т к заказы изо дня в день повторяются в примерное кол-ве. Ниже, построен график на одни сутки, из него можно сделать вывод, что пиковые нагрузки в районе 16.00 и после 21.00, после 00.00 кол-во заказов падает."
   ]
  },
  {
   "cell_type": "code",
   "execution_count": 17,
   "metadata": {},
   "outputs": [
    {
     "data": {
      "image/png": "[encoded data removed]",
      "text/plain": [
       "<Figure size 1080x720 with 1 Axes>"
      ]
     },
     "metadata": {
      "needs_background": "light"
     },
     "output_type": "display_data"
    },
    {
     "data": {
      "image/png": "[encoded data removed]",
      "text/plain": [
       "<Figure size 1080x720 with 1 Axes>"
      ]
     },
     "metadata": {
      "needs_background": "light"
     },
     "output_type": "display_data"
    }
   ],
   "source": [
    "plt.figure(figsize=(15, 10))\n",
    "plt.subplot(313)\n",
    "plt.title('Seasonality')\n",
    "decomposed.trend['2018-03-01 00:00:00':'2018-03-14 23:59:59'].plot(ax=plt.gca())\n",
    "plt.tight_layout()\n",
    "plt.xlabel(\"Дни\", fontsize=12)\n",
    "plt.ylabel(\"Число заказов\", fontsize=12)\n",
    "plt.title('График тренда заказов на протяжении 14-и дней', fontsize=16, y= 1.1);\n",
    "\n",
    "\n",
    "plt.figure(figsize=(15, 10))\n",
    "plt.subplot(313)\n",
    "plt.title('Seasonality')\n",
    "decomposed.trend['2018-03-01 00:00:00':'2018-03-03 23:59:59'].plot(ax=plt.gca())\n",
    "plt.tight_layout()\n",
    "plt.xlabel(\"Часы\", fontsize=12)\n",
    "plt.ylabel(\"Число заказов\", fontsize=12)\n",
    "plt.title('График тренда заказов на протяжении 3-х суток', fontsize=16, y= 1.1);"
   ]
  },
  {
   "cell_type": "markdown",
   "metadata": {},
   "source": [
    "Из графика тренда по заказам на протяжении 14 дней, можно сделать вывод, что кол-во заказов постепенно увеличивается, опять же, нужно брать во внимание праздник т к в наших графиках есть праздник как 8 марта и последующие выходные и др праздники. Из графика тренда на 3-е суток, вывод один, что кол-во заказов зависит от дня недели, т к в будни кол-во заказов выше, чем в выходные дни."
   ]
  },
  {
   "cell_type": "markdown",
   "metadata": {},
   "source": [
    "## Обучение"
   ]
  },
  {
   "cell_type": "code",
   "execution_count": 18,
   "metadata": {},
   "outputs": [],
   "source": [
    "def make_features(df, max_lag, rolling_mean_size):\n",
    "    df_ = df.copy()\n",
    "    \n",
    "    df_['year'] = df_.index.year\n",
    "    df_['month'] = df_.index.month\n",
    "    df_['day'] = df_.index.day\n",
    "    df_['dayofweek'] = df_.index.dayofweek\n",
    "    \n",
    "    for lag in range(1, max_lag + 1):\n",
    "        df_['lag_{}'.format(lag)] = df_['num_orders'].shift(lag)\n",
    "\n",
    "    df_['rolling_mean'] = df_['num_orders'].shift().rolling(rolling_mean_size).mean()\n",
    "    return df_"
   ]
  },
  {
   "cell_type": "markdown",
   "metadata": {},
   "source": [
    "Написали функцию для подбора гиперпараметров max_lag и rolling_mean_size а так же создаем новые столбца с годом, месяцем, неделей и днем."
   ]
  },
  {
   "cell_type": "markdown",
   "metadata": {},
   "source": [
    "### Обучение LinearRegression"
   ]
  },
  {
   "cell_type": "code",
   "execution_count": 19,
   "metadata": {},
   "outputs": [
    {
     "name": "stdout",
     "output_type": "stream",
     "text": [
      "Лучшая max_lag = 44\n",
      "Лучшая rolling_mean_size = 48\n",
      "Лучшая RMSE_train = 24.86626342833976\n",
      "Wall time: 1min 10s\n"
     ]
    }
   ],
   "source": [
    "%%time\n",
    "best_max_lag_lr = 0\n",
    "best_rolling_mean_size_lr = 0\n",
    "best_rmse_train_lr = 30\n",
    "\n",
    "for max_lag in range(30, 51, 1):\n",
    "    for rol_mean_size in range(40, 61, 1):\n",
    "        df_lin_reg = make_features(df, max_lag, rol_mean_size)\n",
    "\n",
    "        train_lin, test_lin = train_test_split(df_lin_reg, \n",
    "                                               shuffle=False, \n",
    "                                               test_size=0.1)  # Разбили Data Frame в соотношении 90 / 10.\n",
    "        train_lin = train_lin.dropna()\n",
    "\n",
    "        X_train_lin = train_lin.drop(['num_orders'], axis=1)\n",
    "        y_train_lin = train_lin['num_orders']\n",
    "\n",
    "        X_test_lin = test_lin.drop(['num_orders'], axis=1)\n",
    "        y_test_lin = test_lin['num_orders']\n",
    "\n",
    "        model_1_0 = LinearRegression()\n",
    "        scores = abs(cross_val_score(model_1_0, \n",
    "                                     X_train_lin, \n",
    "                                     y_train_lin, \n",
    "                                     cv=TimeSeriesSplit(10),        # default=5\n",
    "                                     n_jobs = -1,\n",
    "                                     scoring='neg_root_mean_squared_error')).mean()\n",
    "\n",
    "\n",
    "        if scores < best_rmse_train_lr:\n",
    "            best_max_lag_lr = max_lag\n",
    "            best_rolling_mean_size_lr = rol_mean_size\n",
    "            best_rmse_train_lr = scores\n",
    "\n",
    "\n",
    "print(f'Лучшая max_lag = {best_max_lag_lr}', \n",
    "      f'Лучшая rolling_mean_size = {best_rolling_mean_size_lr}', \n",
    "      f'Лучшая RMSE_train = {best_rmse_train_lr}', sep='\\n')"
   ]
  },
  {
   "cell_type": "markdown",
   "metadata": {},
   "source": [
    "Перебирали гиперпараметры изначально с большим шагом, затем шаг уменьшили, для более точного подбора."
   ]
  },
  {
   "cell_type": "markdown",
   "metadata": {},
   "source": [
    "### Обучение CatBoostRegressor\n"
   ]
  },
  {
   "cell_type": "code",
   "execution_count": 20,
   "metadata": {},
   "outputs": [
    {
     "name": "stdout",
     "output_type": "stream",
     "text": [
      "Лучшие гиперпараметры модели {'depth': 5, 'learning_rate': 0.05, 'n_estimators': 700}\n",
      "RMSE_train = 23.42359591251552\n",
      "Лучшая max_lag = 1\n",
      "Лучшая rolling_mean_size = 81\n",
      "Wall time: 6min 24s\n"
     ]
    }
   ],
   "source": [
    "%%time\n",
    "best_max_lag_cbr = 0\n",
    "best_rolling_mean_size_cbr = 0\n",
    "best_rmse_train_cbr = 30\n",
    "\n",
    "for max_lag in range(1, 22, 5):\n",
    "    for rol_mean_size in range(70, 91, 5):\n",
    "\n",
    "        df_cat_bost_reg = make_features(df, max_lag, rol_mean_size)\n",
    "\n",
    "        train_cbr, test_cbr = train_test_split(df_cat_bost_reg, \n",
    "                                               shuffle=False, \n",
    "                                               test_size=0.1)  # Разбили Data Frame в соотношении 90 / 10.\n",
    "        train_cbr = train_cbr.dropna()\n",
    "\n",
    "        X_train_cbr = train_cbr.drop(['num_orders'], axis=1)\n",
    "        y_train_cbr = train_cbr['num_orders']\n",
    "\n",
    "        X_test_cbr = test_cbr.drop(['num_orders'], axis=1)\n",
    "        y_test_cbr = test_cbr['num_orders']            \n",
    "\n",
    "        param = {'learning_rate': [0.05, 0.1],\n",
    "                 'depth' : [4, 7],\n",
    "                 'n_estimators' : [500, 800]\n",
    "                }\n",
    "\n",
    "        model_2 = CatBoostRegressor(loss_function = 'RMSE',                         \n",
    "                                    random_state = 69,\n",
    "                                    verbose = False)\n",
    "\n",
    "\n",
    "        search_2 = HalvingGridSearchCV(model_2, \n",
    "                                       param,      \n",
    "                                       random_state=69, \n",
    "                                       cv=TimeSeriesSplit(),   # default=5\n",
    "                                       n_jobs = -1, \n",
    "                                       scoring = 'neg_root_mean_squared_error').fit(X_train_cbr, y_train_cbr)\n",
    "\n",
    "        if search_2.best_score_ < best_rmse_train_cbr:\n",
    "            best_max_lag_cbr = max_lag\n",
    "            best_rolling_mean_size_cbr = rol_mean_size\n",
    "            best_rmse_train_cbr = search_2.best_score_\n",
    "\n",
    "\n",
    "print(f'Лучшие гиперпараметры модели {search_2.best_params_}', \n",
    "      f'RMSE_train = {abs(search_2.best_score_)}', \n",
    "      f'Лучшая max_lag = {best_max_lag_cbr}',\n",
    "      f'Лучшая rolling_mean_size = {best_rolling_mean_size_cbr}', sep='\\n')"
   ]
  },
  {
   "cell_type": "markdown",
   "metadata": {},
   "source": [
    "### Построение нейронной сети "
   ]
  },
  {
   "cell_type": "code",
   "execution_count": 21,
   "metadata": {},
   "outputs": [
    {
     "name": "stdout",
     "output_type": "stream",
     "text": [
      "Лучшие гиперпараметры = {'lr': 0.05, 'max_epochs': 500}\n",
      "RMSE_train = 30.66661262512207\n",
      "Лучшая max_lag = 35\n",
      "Лучшая rolling_mean_size = 25\n",
      "Wall time: 3h 5min 52s\n"
     ]
    }
   ],
   "source": [
    "%%time\n",
    "\n",
    "# Делаем наш код повторяемым выдавая одни и те же числа :\n",
    "random.seed(69)\n",
    "np.random.seed(69)\n",
    "torch.manual_seed(69)\n",
    "torch.use_deterministic_algorithms(True) \n",
    "\n",
    "\n",
    "best_max_lag_3 = 0\n",
    "best_rolling_mean_size_3 = 0\n",
    "best_n_splits_3 = 0\n",
    "best_rmse_train_3 = 30\n",
    "\n",
    "\n",
    "for max_lag_3 in range(30, 51, 5):\n",
    "    for rol_mean_size_3 in range(10, 31, 5):\n",
    "        df_neuron = make_features(df, max_lag_3, rol_mean_size_3)\n",
    "        \n",
    "        train_neuron, test_neuron = train_test_split(df_neuron, \n",
    "                                                     shuffle=False, \n",
    "                                                     test_size=0.1)  # Разбили Data Frame в соотношении 90 / 10.\n",
    "        train_neuron = train_neuron.dropna()\n",
    "\n",
    "        X_train_neuron = train_neuron.drop(['num_orders'], axis=1)\n",
    "        y_train_neuron = train_neuron['num_orders']\n",
    "\n",
    "        X_test_neuron = test_neuron.drop(['num_orders'], axis=1)\n",
    "        y_test_neuron = test_neuron['num_orders']  \n",
    "        \n",
    "        \n",
    "        # Переводим признаки в torch :\n",
    "        X_train_df = torch.FloatTensor(X_train_neuron.values)\n",
    "        X_test_df = torch.FloatTensor(X_test_neuron.values)\n",
    "        y_train_df = torch.FloatTensor(y_train_neuron.values)\n",
    "        y_test_df = torch.FloatTensor(y_test_neuron.values)\n",
    "        \n",
    "        \n",
    "        # Переводим target в 2-d массив :\n",
    "        X_trf = X_train_df\n",
    "        y_trf = y_train_df.reshape(-1, 1)\n",
    "\n",
    "        \n",
    "        class Regressor(nn.Module):\n",
    "            def __init__(self):\n",
    "                super(Regressor, self).__init__()\n",
    "\n",
    "                self.fc1 = nn.Linear(X_train_df.shape[1], 5)        \n",
    "                self.fc2 = nn.Linear(5, 4)        \n",
    "                self.fc3 = nn.Linear(4, 3)       \n",
    "                self.fc4 = nn.Linear(3, 2)\n",
    "                self.fc5 = nn.Linear(2, 1)\n",
    "\n",
    "            def forward(self, x):\n",
    "\n",
    "                x = F.relu(self.fc1(x))\n",
    "                x = F.relu(self.fc2(x))\n",
    "                x = F.relu(self.fc3(x))\n",
    "                x = F.relu(self.fc4(x))      \n",
    "\n",
    "                return self.fc5(x)\n",
    "\n",
    "\n",
    "        skorch_regressor = NeuralNetRegressor(module=Regressor, optimizer=optim.Adam, verbose=0)\n",
    "        \n",
    "        params = {\n",
    "            \"lr\": [0.05, 0.1],\n",
    "            \"max_epochs\": [500, 800]\n",
    "        }\n",
    "\n",
    "        grid_3 = GridSearchCV(skorch_regressor, \n",
    "                              params, \n",
    "                              scoring='neg_root_mean_squared_error', \n",
    "                              cv=TimeSeriesSplit())\n",
    "\n",
    "        grid_3.fit(X_trf, y_trf) \n",
    "        \n",
    "        if grid_3.best_score_ < best_rmse_train_3:\n",
    "            best_max_lag_3 = max_lag_3\n",
    "            best_rolling_mean_size_3 = rol_mean_size_3\n",
    "            best_rmse_train_3 = grid_3.best_score_\n",
    "            \n",
    "        \n",
    "print(f'Лучшие гиперпараметры = {grid_3.best_params_}',\n",
    "      f'RMSE_train = {abs(grid_3.best_score_)}', \n",
    "      f'Лучшая max_lag = {best_max_lag_3}',\n",
    "      f'Лучшая rolling_mean_size = {best_rolling_mean_size_3}', sep='\\n')"
   ]
  },
  {
   "cell_type": "markdown",
   "metadata": {},
   "source": [
    "## Тестирование"
   ]
  },
  {
   "cell_type": "code",
   "execution_count": 111,
   "metadata": {},
   "outputs": [],
   "source": [
    "def figure_target(test, predict):\n",
    "    rmse= mse(test, predict)   \n",
    "   \n",
    "    plt.figure(figsize=(7, 7))\n",
    "    plt.plot(predict, test,'o', alpha=0.5)\n",
    "    plt.text(225,73, f'RMSE = {round(rmse**.5, 2)}')\n",
    "    plt.xlim(20,300)\n",
    "    plt.ylim(20,300)\n",
    "    plt.plot([0,300],[0,300],'--y', linewidth=2)\n",
    "    plt.title('График отношения предсказанных к истинным значениям', fontsize=16, y=1.05)\n",
    "    plt.xlabel('Предсказанные значения', fontsize=12, labelpad=10)\n",
    "    plt.ylabel('Истинные значения', fontsize=12, labelpad=10)\n",
    "    plt.show()"
   ]
  },
  {
   "cell_type": "markdown",
   "metadata": {},
   "source": [
    "Функция, для построения среднеквадратичного отклонение на графиках с визуальным распределением разброса целевых признаков."
   ]
  },
  {
   "cell_type": "code",
   "execution_count": 112,
   "metadata": {
    "scrolled": true
   },
   "outputs": [
    {
     "data": {
      "text/plain": [
       "43.99845693199082"
      ]
     },
     "execution_count": 112,
     "metadata": {},
     "output_type": "execute_result"
    }
   ],
   "source": [
    "df_lin_reg_test = make_features(df, best_max_lag_lr, best_rolling_mean_size_lr)\n",
    "\n",
    "train_lin_test, test_lin_test = train_test_split(df_lin_reg_test, \n",
    "                                                 shuffle=False, \n",
    "                                                 test_size=0.1)  # Разбили Data Frame в соотношении 90 / 10.\n",
    "train_lin_test = train_lin_test.dropna()\n",
    "\n",
    "X_train_lin_test = train_lin_test.drop(['num_orders'], axis=1)\n",
    "y_train_lin_test = train_lin_test['num_orders']\n",
    "\n",
    "X_test_lin_test = test_lin_test.drop(['num_orders'], axis=1)\n",
    "y_test_lin_test = test_lin_test['num_orders']\n",
    "\n",
    "model_1_test = LinearRegression()\n",
    "model_1_test.fit(X_train_lin_test, y_train_lin_test)\n",
    "rmse = mse(y_test_lin_test, model_1_test.predict(X_test_lin_test))** .5\n",
    "rmse"
   ]
  },
  {
   "cell_type": "code",
   "execution_count": 113,
   "metadata": {},
   "outputs": [],
   "source": [
    "pred_test = model_1_test.predict(X_test_lin_test)"
   ]
  },
  {
   "cell_type": "code",
   "execution_count": 114,
   "metadata": {},
   "outputs": [
    {
     "name": "stdout",
     "output_type": "stream",
     "text": [
      "Train RMSE: 24.119574503816438\n",
      "Test RMSE: 43.99845693199082\n"
     ]
    }
   ],
   "source": [
    "train_rmse = mse(y_train_lin_test, model_1_test.predict(X_train_lin_test))** .5\n",
    "test_rmse = mse(y_test_lin_test, pred_test)** .5\n",
    "print(f'Train RMSE: {train_rmse}',\n",
    "      f'Test RMSE: {test_rmse}', sep='\\n')"
   ]
  },
  {
   "cell_type": "code",
   "execution_count": 115,
   "metadata": {},
   "outputs": [
    {
     "data": {
      "image/png": "[encoded data removed]",
      "text/plain": [
       "<Figure size 504x504 with 1 Axes>"
      ]
     },
     "metadata": {
      "needs_background": "light"
     },
     "output_type": "display_data"
    }
   ],
   "source": [
    "figure_target(y_test_lin_test, pred_test)"
   ]
  },
  {
   "cell_type": "markdown",
   "metadata": {},
   "source": [
    "## Вывод"
   ]
  },
  {
   "cell_type": "markdown",
   "metadata": {},
   "source": [
    "В данном проекте, была задача сделать прогноз, на количество заказов такси на следующий час для компании «Чётенькое такси». Так же была поставлена задача, что значение метрики RMSE на тестовой выборке должно быть не больше 48. В нашем случае, на тестовой выборке мы применили LinearRegression, значение метрики RMSE = 44. Обучили несколько моделей с подбором гиперпараметров, разделили тестовую выборку размером 10% от исходных данных. Остановились на результате LinearRegression, т к CatBoostRegressor и нейросеть с перебором гиперпараметров занимает очень много времени.\n",
    "\n",
    "Виды работ в проекте :\n",
    "\n",
    "    - Загрузили данные и выполнить их ресемплирование по одному часу.\n",
    "    - Проанализировали данные.\n",
    "    - Построили три модели : LinearRegression, CatBoostRegressor и нейросеть."
   ]
  }
 ],
 "metadata": {
  "ExecuteTimeLog": [
   {
    "duration": 432,
    "start_time": "2022-09-06T16:13:02.830Z"
   },
   {
    "duration": 66,
    "start_time": "2022-09-06T16:13:38.719Z"
   },
   {
    "duration": 185,
    "start_time": "2022-09-06T16:13:46.946Z"
   },
   {
    "duration": 16,
    "start_time": "2022-09-06T16:13:49.197Z"
   },
   {
    "duration": 7,
    "start_time": "2022-09-06T16:15:14.827Z"
   },
   {
    "duration": 12,
    "start_time": "2022-09-06T16:15:23.220Z"
   },
   {
    "duration": 8,
    "start_time": "2022-09-06T16:48:16.118Z"
   },
   {
    "duration": 20,
    "start_time": "2022-09-06T16:52:51.675Z"
   },
   {
    "duration": 45,
    "start_time": "2022-09-06T16:54:14.957Z"
   },
   {
    "duration": 6,
    "start_time": "2022-09-06T16:54:15.718Z"
   },
   {
    "duration": 11,
    "start_time": "2022-09-06T16:54:19.167Z"
   },
   {
    "duration": 7,
    "start_time": "2022-09-06T16:54:55.477Z"
   },
   {
    "duration": 6,
    "start_time": "2022-09-06T16:54:59.385Z"
   },
   {
    "duration": 3,
    "start_time": "2022-09-06T17:06:40.137Z"
   },
   {
    "duration": 4,
    "start_time": "2022-09-06T17:06:41.988Z"
   },
   {
    "duration": 6,
    "start_time": "2022-09-06T17:07:25.892Z"
   },
   {
    "duration": 9,
    "start_time": "2022-09-06T17:07:26.390Z"
   },
   {
    "duration": 5,
    "start_time": "2022-09-06T17:09:16.258Z"
   },
   {
    "duration": 8,
    "start_time": "2022-09-06T17:09:18.641Z"
   },
   {
    "duration": 8,
    "start_time": "2022-09-06T17:09:31.122Z"
   },
   {
    "duration": 8,
    "start_time": "2022-09-06T17:10:57.035Z"
   },
   {
    "duration": 10,
    "start_time": "2022-09-06T17:11:05.692Z"
   },
   {
    "duration": 7,
    "start_time": "2022-09-06T17:11:21.386Z"
   },
   {
    "duration": 3,
    "start_time": "2022-09-06T17:11:50.066Z"
   },
   {
    "duration": 43,
    "start_time": "2022-09-06T17:11:50.374Z"
   },
   {
    "duration": 5,
    "start_time": "2022-09-06T17:11:51.146Z"
   },
   {
    "duration": 9,
    "start_time": "2022-09-06T17:11:52.802Z"
   },
   {
    "duration": 6,
    "start_time": "2022-09-06T17:11:57.685Z"
   },
   {
    "duration": 8,
    "start_time": "2022-09-06T17:11:58.087Z"
   },
   {
    "duration": 8,
    "start_time": "2022-09-06T17:12:01.744Z"
   },
   {
    "duration": 989,
    "start_time": "2022-09-06T17:12:17.962Z"
   },
   {
    "duration": 10,
    "start_time": "2022-09-06T17:13:05.692Z"
   },
   {
    "duration": 2,
    "start_time": "2022-09-06T17:13:17.367Z"
   },
   {
    "duration": 47,
    "start_time": "2022-09-06T17:13:17.676Z"
   },
   {
    "duration": 6,
    "start_time": "2022-09-06T17:13:17.985Z"
   },
   {
    "duration": 9,
    "start_time": "2022-09-06T17:13:18.854Z"
   },
   {
    "duration": 6,
    "start_time": "2022-09-06T17:13:21.552Z"
   },
   {
    "duration": 8,
    "start_time": "2022-09-06T17:13:21.920Z"
   },
   {
    "duration": 579,
    "start_time": "2022-09-06T17:13:26.939Z"
   },
   {
    "duration": 9,
    "start_time": "2022-09-06T17:13:30.222Z"
   },
   {
    "duration": 2,
    "start_time": "2022-09-06T17:14:34.145Z"
   },
   {
    "duration": 47,
    "start_time": "2022-09-06T17:14:34.816Z"
   },
   {
    "duration": 6,
    "start_time": "2022-09-06T17:14:35.084Z"
   },
   {
    "duration": 9,
    "start_time": "2022-09-06T17:14:36.422Z"
   },
   {
    "duration": 6,
    "start_time": "2022-09-06T17:14:38.118Z"
   },
   {
    "duration": 9,
    "start_time": "2022-09-06T17:14:39.099Z"
   },
   {
    "duration": 2,
    "start_time": "2022-09-06T17:16:11.665Z"
   },
   {
    "duration": 43,
    "start_time": "2022-09-06T17:16:12.084Z"
   },
   {
    "duration": 6,
    "start_time": "2022-09-06T17:16:12.330Z"
   },
   {
    "duration": 8,
    "start_time": "2022-09-06T17:16:12.638Z"
   },
   {
    "duration": 5,
    "start_time": "2022-09-06T17:16:14.153Z"
   },
   {
    "duration": 7,
    "start_time": "2022-09-06T17:16:15.271Z"
   },
   {
    "duration": 10,
    "start_time": "2022-09-06T17:16:34.698Z"
   },
   {
    "duration": 7,
    "start_time": "2022-09-06T17:16:52.232Z"
   },
   {
    "duration": 6,
    "start_time": "2022-09-06T17:25:35.142Z"
   },
   {
    "duration": 7,
    "start_time": "2022-09-06T17:25:44.637Z"
   },
   {
    "duration": 9,
    "start_time": "2022-09-06T17:26:46.684Z"
   },
   {
    "duration": 2,
    "start_time": "2022-09-06T17:30:22.718Z"
   },
   {
    "duration": 44,
    "start_time": "2022-09-06T17:30:23.693Z"
   },
   {
    "duration": 6,
    "start_time": "2022-09-06T17:30:23.986Z"
   },
   {
    "duration": 9,
    "start_time": "2022-09-06T17:30:25.295Z"
   },
   {
    "duration": 6,
    "start_time": "2022-09-06T17:30:28.794Z"
   },
   {
    "duration": 6,
    "start_time": "2022-09-06T17:30:29.684Z"
   },
   {
    "duration": 6,
    "start_time": "2022-09-06T17:30:32.240Z"
   },
   {
    "duration": 5,
    "start_time": "2022-09-06T17:30:40.703Z"
   },
   {
    "duration": 5,
    "start_time": "2022-09-06T17:30:41.709Z"
   },
   {
    "duration": 7,
    "start_time": "2022-09-06T17:30:46.748Z"
   },
   {
    "duration": 337,
    "start_time": "2022-09-08T14:28:36.174Z"
   },
   {
    "duration": 112,
    "start_time": "2022-09-08T14:28:37.903Z"
   },
   {
    "duration": 12,
    "start_time": "2022-09-08T14:28:55.916Z"
   },
   {
    "duration": 10,
    "start_time": "2022-09-08T14:29:01.052Z"
   },
   {
    "duration": 9,
    "start_time": "2022-09-08T14:29:09.742Z"
   },
   {
    "duration": 7,
    "start_time": "2022-09-08T14:29:12.109Z"
   },
   {
    "duration": 6,
    "start_time": "2022-09-08T14:29:21.672Z"
   },
   {
    "duration": 5,
    "start_time": "2022-09-08T14:29:31.414Z"
   },
   {
    "duration": 5,
    "start_time": "2022-09-08T14:29:32.004Z"
   },
   {
    "duration": 7,
    "start_time": "2022-09-08T14:29:36.019Z"
   },
   {
    "duration": 5,
    "start_time": "2022-09-08T14:29:55.611Z"
   },
   {
    "duration": 7,
    "start_time": "2022-09-08T14:29:55.972Z"
   },
   {
    "duration": 602,
    "start_time": "2022-09-08T14:30:56.410Z"
   },
   {
    "duration": 270,
    "start_time": "2022-09-08T14:31:15.312Z"
   },
   {
    "duration": 12,
    "start_time": "2022-09-08T14:34:36.500Z"
   },
   {
    "duration": 16,
    "start_time": "2022-09-08T14:35:07.358Z"
   },
   {
    "duration": 227,
    "start_time": "2022-09-08T14:36:48.670Z"
   },
   {
    "duration": 221,
    "start_time": "2022-09-08T14:37:00.464Z"
   },
   {
    "duration": 269,
    "start_time": "2022-09-08T14:43:18.634Z"
   },
   {
    "duration": 347,
    "start_time": "2022-09-08T15:04:42.560Z"
   },
   {
    "duration": 47,
    "start_time": "2022-09-08T15:04:42.910Z"
   },
   {
    "duration": 14,
    "start_time": "2022-09-08T15:04:42.958Z"
   },
   {
    "duration": 9,
    "start_time": "2022-09-08T15:04:42.973Z"
   },
   {
    "duration": 9,
    "start_time": "2022-09-08T15:04:42.984Z"
   },
   {
    "duration": 6,
    "start_time": "2022-09-08T15:04:42.994Z"
   },
   {
    "duration": 8,
    "start_time": "2022-09-08T15:04:43.001Z"
   },
   {
    "duration": 16,
    "start_time": "2022-09-08T15:04:43.011Z"
   },
   {
    "duration": 6,
    "start_time": "2022-09-08T15:04:43.028Z"
   },
   {
    "duration": 9,
    "start_time": "2022-09-08T15:04:43.035Z"
   },
   {
    "duration": 11,
    "start_time": "2022-09-08T15:04:43.045Z"
   },
   {
    "duration": 8,
    "start_time": "2022-09-08T15:09:02.571Z"
   },
   {
    "duration": 11,
    "start_time": "2022-09-08T15:09:05.736Z"
   },
   {
    "duration": 3,
    "start_time": "2022-09-08T15:43:27.688Z"
   },
   {
    "duration": 44,
    "start_time": "2022-09-08T15:43:28.340Z"
   },
   {
    "duration": 6,
    "start_time": "2022-09-08T15:43:29.491Z"
   },
   {
    "duration": 9,
    "start_time": "2022-09-08T15:43:30.740Z"
   },
   {
    "duration": 7,
    "start_time": "2022-09-08T15:43:31.790Z"
   },
   {
    "duration": 7,
    "start_time": "2022-09-08T15:43:32.864Z"
   },
   {
    "duration": 7,
    "start_time": "2022-09-08T15:43:35.320Z"
   },
   {
    "duration": 5,
    "start_time": "2022-09-08T15:43:36.686Z"
   },
   {
    "duration": 5,
    "start_time": "2022-09-08T15:43:37.087Z"
   },
   {
    "duration": 8,
    "start_time": "2022-09-08T15:43:37.474Z"
   },
   {
    "duration": 15,
    "start_time": "2022-09-08T15:43:39.043Z"
   },
   {
    "duration": 57,
    "start_time": "2022-09-08T15:43:40.625Z"
   },
   {
    "duration": 7,
    "start_time": "2022-09-08T15:43:44.243Z"
   },
   {
    "duration": 12,
    "start_time": "2022-09-08T15:43:45.744Z"
   },
   {
    "duration": 571,
    "start_time": "2022-09-08T15:44:48.384Z"
   },
   {
    "duration": 251,
    "start_time": "2022-09-08T15:46:00.862Z"
   },
   {
    "duration": 357,
    "start_time": "2022-09-08T15:53:35.585Z"
   },
   {
    "duration": 45,
    "start_time": "2022-09-08T15:53:35.945Z"
   },
   {
    "duration": 11,
    "start_time": "2022-09-08T15:53:35.992Z"
   },
   {
    "duration": 10,
    "start_time": "2022-09-08T15:53:36.004Z"
   },
   {
    "duration": 10,
    "start_time": "2022-09-08T15:53:36.016Z"
   },
   {
    "duration": 6,
    "start_time": "2022-09-08T15:53:36.027Z"
   },
   {
    "duration": 8,
    "start_time": "2022-09-08T15:53:36.034Z"
   },
   {
    "duration": 8,
    "start_time": "2022-09-08T15:53:36.044Z"
   },
   {
    "duration": 8,
    "start_time": "2022-09-08T15:53:36.053Z"
   },
   {
    "duration": 31,
    "start_time": "2022-09-08T15:53:36.063Z"
   },
   {
    "duration": 10,
    "start_time": "2022-09-08T15:53:36.096Z"
   },
   {
    "duration": 421,
    "start_time": "2022-09-08T15:53:36.107Z"
   },
   {
    "duration": 66,
    "start_time": "2022-09-08T15:53:36.530Z"
   },
   {
    "duration": 0,
    "start_time": "2022-09-08T15:53:36.597Z"
   },
   {
    "duration": 0,
    "start_time": "2022-09-08T15:53:36.599Z"
   },
   {
    "duration": 0,
    "start_time": "2022-09-08T15:53:36.600Z"
   },
   {
    "duration": 635,
    "start_time": "2022-09-08T15:56:17.089Z"
   },
   {
    "duration": 8,
    "start_time": "2022-09-08T15:57:34.740Z"
   },
   {
    "duration": 9,
    "start_time": "2022-09-08T15:58:12.821Z"
   },
   {
    "duration": 7,
    "start_time": "2022-09-08T15:58:37.774Z"
   },
   {
    "duration": 341,
    "start_time": "2022-09-08T15:58:47.068Z"
   },
   {
    "duration": 46,
    "start_time": "2022-09-08T15:58:47.411Z"
   },
   {
    "duration": 15,
    "start_time": "2022-09-08T15:58:47.459Z"
   },
   {
    "duration": 10,
    "start_time": "2022-09-08T15:58:47.476Z"
   },
   {
    "duration": 9,
    "start_time": "2022-09-08T15:58:47.489Z"
   },
   {
    "duration": 7,
    "start_time": "2022-09-08T15:58:47.500Z"
   },
   {
    "duration": 16,
    "start_time": "2022-09-08T15:58:47.508Z"
   },
   {
    "duration": 21,
    "start_time": "2022-09-08T15:58:47.525Z"
   },
   {
    "duration": 9,
    "start_time": "2022-09-08T15:58:47.548Z"
   },
   {
    "duration": 10,
    "start_time": "2022-09-08T15:58:47.558Z"
   },
   {
    "duration": 11,
    "start_time": "2022-09-08T15:58:47.570Z"
   },
   {
    "duration": 432,
    "start_time": "2022-09-08T15:58:47.583Z"
   },
   {
    "duration": 69,
    "start_time": "2022-09-08T15:58:48.016Z"
   },
   {
    "duration": 0,
    "start_time": "2022-09-08T15:58:48.086Z"
   },
   {
    "duration": 0,
    "start_time": "2022-09-08T15:58:48.088Z"
   },
   {
    "duration": 0,
    "start_time": "2022-09-08T15:58:48.089Z"
   },
   {
    "duration": 0,
    "start_time": "2022-09-08T15:58:48.090Z"
   },
   {
    "duration": 0,
    "start_time": "2022-09-08T15:58:48.091Z"
   },
   {
    "duration": 180,
    "start_time": "2022-09-08T15:59:09.389Z"
   },
   {
    "duration": 177,
    "start_time": "2022-09-08T15:59:39.161Z"
   },
   {
    "duration": 172,
    "start_time": "2022-09-08T15:59:42.989Z"
   },
   {
    "duration": 182,
    "start_time": "2022-09-08T16:06:28.062Z"
   },
   {
    "duration": 6,
    "start_time": "2022-09-08T16:08:50.166Z"
   },
   {
    "duration": 868,
    "start_time": "2022-09-08T16:14:25.336Z"
   },
   {
    "duration": 836,
    "start_time": "2022-09-08T16:15:08.821Z"
   },
   {
    "duration": 133,
    "start_time": "2022-09-08T16:15:19.036Z"
   },
   {
    "duration": 58,
    "start_time": "2022-09-08T16:15:34.644Z"
   },
   {
    "duration": 766,
    "start_time": "2022-09-08T16:16:03.750Z"
   },
   {
    "duration": 835,
    "start_time": "2022-09-08T16:16:41.627Z"
   },
   {
    "duration": 1035,
    "start_time": "2022-09-08T16:17:08.470Z"
   },
   {
    "duration": 9,
    "start_time": "2022-09-08T16:17:29.556Z"
   },
   {
    "duration": 7,
    "start_time": "2022-09-08T16:17:33.395Z"
   },
   {
    "duration": 3,
    "start_time": "2022-09-08T16:17:41.844Z"
   },
   {
    "duration": 55,
    "start_time": "2022-09-08T16:18:09.014Z"
   },
   {
    "duration": 48,
    "start_time": "2022-09-08T16:18:14.666Z"
   },
   {
    "duration": 10,
    "start_time": "2022-09-08T16:18:36.524Z"
   },
   {
    "duration": 12,
    "start_time": "2022-09-08T16:18:41.021Z"
   },
   {
    "duration": 7,
    "start_time": "2022-09-08T16:18:49.969Z"
   },
   {
    "duration": 4,
    "start_time": "2022-09-08T16:18:56.071Z"
   },
   {
    "duration": 9,
    "start_time": "2022-09-08T16:19:02.910Z"
   },
   {
    "duration": 4,
    "start_time": "2022-09-08T16:19:12.218Z"
   },
   {
    "duration": 10,
    "start_time": "2022-09-08T16:19:31.496Z"
   },
   {
    "duration": 10,
    "start_time": "2022-09-08T16:19:40.450Z"
   },
   {
    "duration": 903,
    "start_time": "2022-09-08T16:19:55.533Z"
   },
   {
    "duration": 4,
    "start_time": "2022-09-08T16:20:30.221Z"
   },
   {
    "duration": 3,
    "start_time": "2022-09-08T16:20:47.578Z"
   },
   {
    "duration": 9,
    "start_time": "2022-09-08T16:20:53.224Z"
   },
   {
    "duration": 4,
    "start_time": "2022-09-08T16:21:06.326Z"
   },
   {
    "duration": 4,
    "start_time": "2022-09-08T16:21:38.777Z"
   },
   {
    "duration": 4,
    "start_time": "2022-09-08T16:21:42.183Z"
   },
   {
    "duration": 4,
    "start_time": "2022-09-08T16:21:43.972Z"
   },
   {
    "duration": 7,
    "start_time": "2022-09-08T16:44:45.201Z"
   },
   {
    "duration": 8,
    "start_time": "2022-09-08T16:46:17.318Z"
   },
   {
    "duration": 262,
    "start_time": "2022-09-08T16:46:27.911Z"
   },
   {
    "duration": 217,
    "start_time": "2022-09-08T16:47:03.715Z"
   },
   {
    "duration": 275,
    "start_time": "2022-09-08T16:47:17.137Z"
   },
   {
    "duration": 266,
    "start_time": "2022-09-08T16:47:25.748Z"
   },
   {
    "duration": 244,
    "start_time": "2022-09-08T16:47:29.847Z"
   },
   {
    "duration": 301,
    "start_time": "2022-09-08T16:47:36.864Z"
   },
   {
    "duration": 262,
    "start_time": "2022-09-08T16:48:15.617Z"
   },
   {
    "duration": 7,
    "start_time": "2022-09-08T17:13:13.311Z"
   },
   {
    "duration": 8,
    "start_time": "2022-09-08T17:13:14.613Z"
   },
   {
    "duration": 402,
    "start_time": "2022-09-08T17:14:49.794Z"
   },
   {
    "duration": 46,
    "start_time": "2022-09-08T17:14:50.198Z"
   },
   {
    "duration": 11,
    "start_time": "2022-09-08T17:14:50.248Z"
   },
   {
    "duration": 8,
    "start_time": "2022-09-08T17:14:50.261Z"
   },
   {
    "duration": 8,
    "start_time": "2022-09-08T17:14:50.271Z"
   },
   {
    "duration": 5,
    "start_time": "2022-09-08T17:14:50.280Z"
   },
   {
    "duration": 8,
    "start_time": "2022-09-08T17:14:50.286Z"
   },
   {
    "duration": 35,
    "start_time": "2022-09-08T17:14:50.296Z"
   },
   {
    "duration": 6,
    "start_time": "2022-09-08T17:14:50.332Z"
   },
   {
    "duration": 8,
    "start_time": "2022-09-08T17:14:50.340Z"
   },
   {
    "duration": 476,
    "start_time": "2022-09-08T17:14:50.349Z"
   },
   {
    "duration": 187,
    "start_time": "2022-09-08T17:14:50.827Z"
   },
   {
    "duration": 207,
    "start_time": "2022-09-08T17:14:51.021Z"
   },
   {
    "duration": 8,
    "start_time": "2022-09-08T17:14:51.229Z"
   },
   {
    "duration": 4,
    "start_time": "2022-09-08T17:14:51.239Z"
   },
   {
    "duration": 10,
    "start_time": "2022-09-08T17:14:51.244Z"
   },
   {
    "duration": 370,
    "start_time": "2022-09-08T17:17:48.953Z"
   },
   {
    "duration": 45,
    "start_time": "2022-09-08T17:17:49.325Z"
   },
   {
    "duration": 11,
    "start_time": "2022-09-08T17:17:49.372Z"
   },
   {
    "duration": 11,
    "start_time": "2022-09-08T17:17:49.384Z"
   },
   {
    "duration": 7,
    "start_time": "2022-09-08T17:17:49.397Z"
   },
   {
    "duration": 8,
    "start_time": "2022-09-08T17:17:49.405Z"
   },
   {
    "duration": 8,
    "start_time": "2022-09-08T17:17:49.414Z"
   },
   {
    "duration": 6,
    "start_time": "2022-09-08T17:17:49.424Z"
   },
   {
    "duration": 5,
    "start_time": "2022-09-08T17:17:49.431Z"
   },
   {
    "duration": 7,
    "start_time": "2022-09-08T17:17:49.438Z"
   },
   {
    "duration": 489,
    "start_time": "2022-09-08T17:17:49.447Z"
   },
   {
    "duration": 184,
    "start_time": "2022-09-08T17:17:49.938Z"
   },
   {
    "duration": 137,
    "start_time": "2022-09-08T17:17:50.124Z"
   },
   {
    "duration": 6,
    "start_time": "2022-09-08T17:17:50.264Z"
   },
   {
    "duration": 16,
    "start_time": "2022-09-08T17:17:50.272Z"
   },
   {
    "duration": 748,
    "start_time": "2022-09-08T17:21:48.627Z"
   },
   {
    "duration": 8,
    "start_time": "2022-09-08T17:23:00.785Z"
   },
   {
    "duration": 4,
    "start_time": "2022-09-08T17:23:22.173Z"
   },
   {
    "duration": 4,
    "start_time": "2022-09-08T17:23:22.541Z"
   },
   {
    "duration": 3,
    "start_time": "2022-09-08T17:23:22.858Z"
   },
   {
    "duration": 4,
    "start_time": "2022-09-08T17:23:23.195Z"
   },
   {
    "duration": 3354,
    "start_time": "2022-09-08T17:24:47.851Z"
   },
   {
    "duration": 55,
    "start_time": "2022-09-08T17:24:51.206Z"
   },
   {
    "duration": 11,
    "start_time": "2022-09-08T17:24:51.263Z"
   },
   {
    "duration": 10,
    "start_time": "2022-09-08T17:24:51.275Z"
   },
   {
    "duration": 15,
    "start_time": "2022-09-08T17:24:51.287Z"
   },
   {
    "duration": 14,
    "start_time": "2022-09-08T17:24:51.303Z"
   },
   {
    "duration": 11,
    "start_time": "2022-09-08T17:24:51.318Z"
   },
   {
    "duration": 18,
    "start_time": "2022-09-08T17:24:51.331Z"
   },
   {
    "duration": 16,
    "start_time": "2022-09-08T17:24:51.351Z"
   },
   {
    "duration": 27,
    "start_time": "2022-09-08T17:24:51.368Z"
   },
   {
    "duration": 621,
    "start_time": "2022-09-08T17:24:51.396Z"
   },
   {
    "duration": 184,
    "start_time": "2022-09-08T17:24:52.019Z"
   },
   {
    "duration": 142,
    "start_time": "2022-09-08T17:24:52.204Z"
   },
   {
    "duration": 6,
    "start_time": "2022-09-08T17:24:52.348Z"
   },
   {
    "duration": 16,
    "start_time": "2022-09-08T17:24:52.356Z"
   },
   {
    "duration": 12,
    "start_time": "2022-09-08T17:24:52.373Z"
   },
   {
    "duration": 17,
    "start_time": "2022-09-08T17:24:52.386Z"
   },
   {
    "duration": 21,
    "start_time": "2022-09-08T17:24:52.405Z"
   },
   {
    "duration": 18,
    "start_time": "2022-09-08T17:24:52.427Z"
   },
   {
    "duration": 18,
    "start_time": "2022-09-08T17:24:52.447Z"
   },
   {
    "duration": 1041,
    "start_time": "2022-09-08T17:27:47.547Z"
   },
   {
    "duration": 50,
    "start_time": "2022-09-08T17:27:48.590Z"
   },
   {
    "duration": 12,
    "start_time": "2022-09-08T17:27:48.641Z"
   },
   {
    "duration": 10,
    "start_time": "2022-09-08T17:27:48.655Z"
   },
   {
    "duration": 7,
    "start_time": "2022-09-08T17:27:48.668Z"
   },
   {
    "duration": 7,
    "start_time": "2022-09-08T17:27:48.677Z"
   },
   {
    "duration": 8,
    "start_time": "2022-09-08T17:27:48.685Z"
   },
   {
    "duration": 8,
    "start_time": "2022-09-08T17:27:48.722Z"
   },
   {
    "duration": 5,
    "start_time": "2022-09-08T17:27:48.733Z"
   },
   {
    "duration": 12,
    "start_time": "2022-09-08T17:27:48.739Z"
   },
   {
    "duration": 568,
    "start_time": "2022-09-08T17:27:48.753Z"
   },
   {
    "duration": 187,
    "start_time": "2022-09-08T17:27:49.322Z"
   },
   {
    "duration": 152,
    "start_time": "2022-09-08T17:27:49.510Z"
   },
   {
    "duration": 7,
    "start_time": "2022-09-08T17:27:49.665Z"
   },
   {
    "duration": 8,
    "start_time": "2022-09-08T17:27:49.674Z"
   },
   {
    "duration": 6,
    "start_time": "2022-09-08T17:27:49.684Z"
   },
   {
    "duration": 5,
    "start_time": "2022-09-08T17:27:49.692Z"
   },
   {
    "duration": 27,
    "start_time": "2022-09-08T17:27:49.698Z"
   },
   {
    "duration": 7,
    "start_time": "2022-09-08T17:27:49.726Z"
   },
   {
    "duration": 5,
    "start_time": "2022-09-08T17:27:49.734Z"
   },
   {
    "duration": 1501,
    "start_time": "2022-09-09T13:45:45.918Z"
   },
   {
    "duration": 144,
    "start_time": "2022-09-09T13:45:47.421Z"
   },
   {
    "duration": 13,
    "start_time": "2022-09-09T13:45:47.567Z"
   },
   {
    "duration": 16,
    "start_time": "2022-09-09T13:45:47.582Z"
   },
   {
    "duration": 31,
    "start_time": "2022-09-09T13:45:47.600Z"
   },
   {
    "duration": 14,
    "start_time": "2022-09-09T13:45:47.632Z"
   },
   {
    "duration": 23,
    "start_time": "2022-09-09T13:45:47.648Z"
   },
   {
    "duration": 21,
    "start_time": "2022-09-09T13:45:47.672Z"
   },
   {
    "duration": 24,
    "start_time": "2022-09-09T13:45:47.695Z"
   },
   {
    "duration": 16,
    "start_time": "2022-09-09T13:45:47.721Z"
   },
   {
    "duration": 922,
    "start_time": "2022-09-09T13:45:47.738Z"
   },
   {
    "duration": 190,
    "start_time": "2022-09-09T13:45:48.662Z"
   },
   {
    "duration": 145,
    "start_time": "2022-09-09T13:45:48.854Z"
   },
   {
    "duration": 7,
    "start_time": "2022-09-09T13:45:49.005Z"
   },
   {
    "duration": 34,
    "start_time": "2022-09-09T13:45:49.014Z"
   },
   {
    "duration": 21,
    "start_time": "2022-09-09T13:45:49.050Z"
   },
   {
    "duration": 27,
    "start_time": "2022-09-09T13:45:49.073Z"
   },
   {
    "duration": 21,
    "start_time": "2022-09-09T13:45:49.101Z"
   },
   {
    "duration": 25,
    "start_time": "2022-09-09T13:45:49.123Z"
   },
   {
    "duration": 18,
    "start_time": "2022-09-09T13:45:49.150Z"
   },
   {
    "duration": 1504,
    "start_time": "2022-09-09T13:47:08.482Z"
   },
   {
    "duration": 52,
    "start_time": "2022-09-09T13:47:09.988Z"
   },
   {
    "duration": 15,
    "start_time": "2022-09-09T13:47:10.041Z"
   },
   {
    "duration": 10,
    "start_time": "2022-09-09T13:47:10.058Z"
   },
   {
    "duration": 8,
    "start_time": "2022-09-09T13:47:10.070Z"
   },
   {
    "duration": 6,
    "start_time": "2022-09-09T13:47:10.080Z"
   },
   {
    "duration": 24,
    "start_time": "2022-09-09T13:47:10.088Z"
   },
   {
    "duration": 6,
    "start_time": "2022-09-09T13:47:10.114Z"
   },
   {
    "duration": 5,
    "start_time": "2022-09-09T13:47:10.121Z"
   },
   {
    "duration": 12,
    "start_time": "2022-09-09T13:47:10.128Z"
   },
   {
    "duration": 795,
    "start_time": "2022-09-09T13:47:10.141Z"
   },
   {
    "duration": 177,
    "start_time": "2022-09-09T13:47:10.937Z"
   },
   {
    "duration": 144,
    "start_time": "2022-09-09T13:47:11.115Z"
   },
   {
    "duration": 8,
    "start_time": "2022-09-09T13:47:11.260Z"
   },
   {
    "duration": 7,
    "start_time": "2022-09-09T13:47:11.269Z"
   },
   {
    "duration": 8,
    "start_time": "2022-09-09T13:47:11.278Z"
   },
   {
    "duration": 20,
    "start_time": "2022-09-09T13:47:11.287Z"
   },
   {
    "duration": 6,
    "start_time": "2022-09-09T13:47:11.308Z"
   },
   {
    "duration": 5,
    "start_time": "2022-09-09T13:47:11.316Z"
   },
   {
    "duration": 6,
    "start_time": "2022-09-09T13:47:11.322Z"
   },
   {
    "duration": 1205,
    "start_time": "2022-09-09T13:47:47.535Z"
   },
   {
    "duration": 50,
    "start_time": "2022-09-09T13:47:48.742Z"
   },
   {
    "duration": 13,
    "start_time": "2022-09-09T13:47:48.794Z"
   },
   {
    "duration": 10,
    "start_time": "2022-09-09T13:47:48.809Z"
   },
   {
    "duration": 9,
    "start_time": "2022-09-09T13:47:48.821Z"
   },
   {
    "duration": 6,
    "start_time": "2022-09-09T13:47:48.832Z"
   },
   {
    "duration": 9,
    "start_time": "2022-09-09T13:47:48.839Z"
   },
   {
    "duration": 8,
    "start_time": "2022-09-09T13:47:48.849Z"
   },
   {
    "duration": 7,
    "start_time": "2022-09-09T13:47:48.858Z"
   },
   {
    "duration": 7,
    "start_time": "2022-09-09T13:47:48.867Z"
   },
   {
    "duration": 610,
    "start_time": "2022-09-09T13:47:48.906Z"
   },
   {
    "duration": 165,
    "start_time": "2022-09-09T13:47:49.518Z"
   },
   {
    "duration": 156,
    "start_time": "2022-09-09T13:47:49.685Z"
   },
   {
    "duration": 7,
    "start_time": "2022-09-09T13:47:49.843Z"
   },
   {
    "duration": 7,
    "start_time": "2022-09-09T13:47:49.852Z"
   },
   {
    "duration": 6,
    "start_time": "2022-09-09T13:47:49.861Z"
   },
   {
    "duration": 7,
    "start_time": "2022-09-09T13:47:49.868Z"
   },
   {
    "duration": 5,
    "start_time": "2022-09-09T13:47:49.876Z"
   },
   {
    "duration": 24,
    "start_time": "2022-09-09T13:47:49.882Z"
   },
   {
    "duration": 6,
    "start_time": "2022-09-09T13:47:49.908Z"
   },
   {
    "duration": 105,
    "start_time": "2022-09-09T13:47:49.915Z"
   },
   {
    "duration": 20,
    "start_time": "2022-09-09T14:02:41.822Z"
   },
   {
    "duration": 15,
    "start_time": "2022-09-09T14:04:56.086Z"
   },
   {
    "duration": 6,
    "start_time": "2022-09-09T14:05:05.043Z"
   },
   {
    "duration": 5,
    "start_time": "2022-09-09T14:05:08.057Z"
   },
   {
    "duration": 6,
    "start_time": "2022-09-09T14:06:57.369Z"
   },
   {
    "duration": 5,
    "start_time": "2022-09-09T14:06:57.876Z"
   },
   {
    "duration": 10,
    "start_time": "2022-09-09T14:07:25.622Z"
   },
   {
    "duration": 14,
    "start_time": "2022-09-09T14:08:07.981Z"
   },
   {
    "duration": 13,
    "start_time": "2022-09-09T14:08:12.157Z"
   },
   {
    "duration": 8,
    "start_time": "2022-09-09T14:08:19.660Z"
   },
   {
    "duration": 9,
    "start_time": "2022-09-09T14:08:27.652Z"
   },
   {
    "duration": 3,
    "start_time": "2022-09-09T14:10:25.372Z"
   },
   {
    "duration": 3,
    "start_time": "2022-09-09T14:12:32.143Z"
   },
   {
    "duration": 9,
    "start_time": "2022-09-09T14:13:33.122Z"
   },
   {
    "duration": 1098,
    "start_time": "2022-09-09T14:21:21.280Z"
   },
   {
    "duration": 47,
    "start_time": "2022-09-09T14:21:22.381Z"
   },
   {
    "duration": 12,
    "start_time": "2022-09-09T14:21:22.429Z"
   },
   {
    "duration": 9,
    "start_time": "2022-09-09T14:21:22.443Z"
   },
   {
    "duration": 7,
    "start_time": "2022-09-09T14:21:22.453Z"
   },
   {
    "duration": 6,
    "start_time": "2022-09-09T14:21:22.461Z"
   },
   {
    "duration": 7,
    "start_time": "2022-09-09T14:21:22.468Z"
   },
   {
    "duration": 5,
    "start_time": "2022-09-09T14:21:22.476Z"
   },
   {
    "duration": 5,
    "start_time": "2022-09-09T14:21:22.505Z"
   },
   {
    "duration": 8,
    "start_time": "2022-09-09T14:21:22.512Z"
   },
   {
    "duration": 483,
    "start_time": "2022-09-09T14:21:22.521Z"
   },
   {
    "duration": 176,
    "start_time": "2022-09-09T14:21:23.006Z"
   },
   {
    "duration": 137,
    "start_time": "2022-09-09T14:21:23.184Z"
   },
   {
    "duration": 7,
    "start_time": "2022-09-09T14:21:23.323Z"
   },
   {
    "duration": 7,
    "start_time": "2022-09-09T14:21:23.332Z"
   },
   {
    "duration": 11,
    "start_time": "2022-09-09T14:21:23.341Z"
   },
   {
    "duration": 7,
    "start_time": "2022-09-09T14:21:23.353Z"
   },
   {
    "duration": 5,
    "start_time": "2022-09-09T14:21:23.361Z"
   },
   {
    "duration": 6,
    "start_time": "2022-09-09T14:21:23.367Z"
   },
   {
    "duration": 5,
    "start_time": "2022-09-09T14:21:23.374Z"
   },
   {
    "duration": 26,
    "start_time": "2022-09-09T14:21:23.380Z"
   },
   {
    "duration": 17,
    "start_time": "2022-09-09T14:21:23.408Z"
   },
   {
    "duration": 15,
    "start_time": "2022-09-09T14:21:23.427Z"
   },
   {
    "duration": 6,
    "start_time": "2022-09-09T14:21:23.444Z"
   },
   {
    "duration": 9,
    "start_time": "2022-09-09T14:21:23.451Z"
   },
   {
    "duration": 8,
    "start_time": "2022-09-09T14:21:23.461Z"
   },
   {
    "duration": 9,
    "start_time": "2022-09-09T14:21:31.436Z"
   },
   {
    "duration": 9,
    "start_time": "2022-09-09T14:21:36.865Z"
   },
   {
    "duration": 9,
    "start_time": "2022-09-09T14:23:02.913Z"
   },
   {
    "duration": 9,
    "start_time": "2022-09-09T14:24:37.037Z"
   },
   {
    "duration": 8,
    "start_time": "2022-09-09T14:24:37.973Z"
   },
   {
    "duration": 8,
    "start_time": "2022-09-09T14:25:38.544Z"
   },
   {
    "duration": 6,
    "start_time": "2022-09-09T14:26:03.138Z"
   },
   {
    "duration": 8,
    "start_time": "2022-09-09T14:26:06.582Z"
   },
   {
    "duration": 9,
    "start_time": "2022-09-09T14:26:12.100Z"
   },
   {
    "duration": 3,
    "start_time": "2022-09-09T14:27:11.365Z"
   },
   {
    "duration": 7,
    "start_time": "2022-09-09T14:34:03.639Z"
   },
   {
    "duration": 7,
    "start_time": "2022-09-09T14:34:03.947Z"
   },
   {
    "duration": 7,
    "start_time": "2022-09-09T14:34:04.412Z"
   },
   {
    "duration": 1013,
    "start_time": "2022-09-10T11:10:21.968Z"
   },
   {
    "duration": 185,
    "start_time": "2022-09-10T11:10:22.983Z"
   },
   {
    "duration": 11,
    "start_time": "2022-09-10T11:10:23.170Z"
   },
   {
    "duration": 13,
    "start_time": "2022-09-10T11:10:23.183Z"
   },
   {
    "duration": 10,
    "start_time": "2022-09-10T11:10:23.198Z"
   },
   {
    "duration": 6,
    "start_time": "2022-09-10T11:10:23.209Z"
   },
   {
    "duration": 11,
    "start_time": "2022-09-10T11:10:23.217Z"
   },
   {
    "duration": 8,
    "start_time": "2022-09-10T11:10:23.229Z"
   },
   {
    "duration": 7,
    "start_time": "2022-09-10T11:10:23.239Z"
   },
   {
    "duration": 9,
    "start_time": "2022-09-10T11:10:23.248Z"
   },
   {
    "duration": 635,
    "start_time": "2022-09-10T11:10:23.259Z"
   },
   {
    "duration": 181,
    "start_time": "2022-09-10T11:10:23.895Z"
   },
   {
    "duration": 144,
    "start_time": "2022-09-10T11:10:24.078Z"
   },
   {
    "duration": 14,
    "start_time": "2022-09-10T11:10:24.224Z"
   },
   {
    "duration": 7,
    "start_time": "2022-09-10T11:10:24.240Z"
   },
   {
    "duration": 8,
    "start_time": "2022-09-10T11:10:24.248Z"
   },
   {
    "duration": 12,
    "start_time": "2022-09-10T11:10:24.257Z"
   },
   {
    "duration": 5,
    "start_time": "2022-09-10T11:10:24.271Z"
   },
   {
    "duration": 9,
    "start_time": "2022-09-10T11:10:24.277Z"
   },
   {
    "duration": 5,
    "start_time": "2022-09-10T11:10:24.288Z"
   },
   {
    "duration": 8,
    "start_time": "2022-09-10T11:10:24.295Z"
   },
   {
    "duration": 103,
    "start_time": "2022-09-10T11:10:24.305Z"
   },
   {
    "duration": 17,
    "start_time": "2022-09-10T11:10:24.409Z"
   },
   {
    "duration": 12,
    "start_time": "2022-09-10T11:10:24.428Z"
   },
   {
    "duration": 13,
    "start_time": "2022-09-10T11:10:24.441Z"
   },
   {
    "duration": 8,
    "start_time": "2022-09-10T11:10:24.456Z"
   },
   {
    "duration": 8,
    "start_time": "2022-09-10T11:10:24.466Z"
   },
   {
    "duration": 7,
    "start_time": "2022-09-10T11:10:24.477Z"
   },
   {
    "duration": 1065,
    "start_time": "2022-09-10T11:11:58.042Z"
   },
   {
    "duration": 47,
    "start_time": "2022-09-10T11:11:59.109Z"
   },
   {
    "duration": 13,
    "start_time": "2022-09-10T11:11:59.158Z"
   },
   {
    "duration": 17,
    "start_time": "2022-09-10T11:11:59.173Z"
   },
   {
    "duration": 8,
    "start_time": "2022-09-10T11:11:59.192Z"
   },
   {
    "duration": 6,
    "start_time": "2022-09-10T11:11:59.202Z"
   },
   {
    "duration": 28,
    "start_time": "2022-09-10T11:11:59.210Z"
   },
   {
    "duration": 6,
    "start_time": "2022-09-10T11:11:59.239Z"
   },
   {
    "duration": 8,
    "start_time": "2022-09-10T11:11:59.246Z"
   },
   {
    "duration": 13,
    "start_time": "2022-09-10T11:11:59.255Z"
   },
   {
    "duration": 537,
    "start_time": "2022-09-10T11:11:59.270Z"
   },
   {
    "duration": 179,
    "start_time": "2022-09-10T11:11:59.809Z"
   },
   {
    "duration": 151,
    "start_time": "2022-09-10T11:11:59.990Z"
   },
   {
    "duration": 8,
    "start_time": "2022-09-10T11:12:00.144Z"
   },
   {
    "duration": 34,
    "start_time": "2022-09-10T11:12:00.154Z"
   },
   {
    "duration": 25,
    "start_time": "2022-09-10T11:12:00.190Z"
   },
   {
    "duration": 36,
    "start_time": "2022-09-10T11:12:00.216Z"
   },
   {
    "duration": 16,
    "start_time": "2022-09-10T11:12:00.255Z"
   },
   {
    "duration": 16,
    "start_time": "2022-09-10T11:12:00.274Z"
   },
   {
    "duration": 8,
    "start_time": "2022-09-10T11:12:00.292Z"
   },
   {
    "duration": 10,
    "start_time": "2022-09-10T11:12:00.301Z"
   },
   {
    "duration": 11,
    "start_time": "2022-09-10T11:12:00.313Z"
   },
   {
    "duration": 20,
    "start_time": "2022-09-10T11:12:00.326Z"
   },
   {
    "duration": 24,
    "start_time": "2022-09-10T11:12:00.347Z"
   },
   {
    "duration": 24,
    "start_time": "2022-09-10T11:12:00.373Z"
   },
   {
    "duration": 24,
    "start_time": "2022-09-10T11:12:00.399Z"
   },
   {
    "duration": 15,
    "start_time": "2022-09-10T11:12:00.424Z"
   },
   {
    "duration": 25,
    "start_time": "2022-09-10T11:12:00.441Z"
   },
   {
    "duration": 53,
    "start_time": "2022-09-10T11:16:24.689Z"
   },
   {
    "duration": 88,
    "start_time": "2022-09-10T11:16:32.721Z"
   },
   {
    "duration": 6,
    "start_time": "2022-09-10T11:16:42.104Z"
   },
   {
    "duration": 7,
    "start_time": "2022-09-10T11:16:50.730Z"
   },
   {
    "duration": 60,
    "start_time": "2022-09-10T11:17:08.169Z"
   },
   {
    "duration": 58,
    "start_time": "2022-09-10T11:17:23.319Z"
   },
   {
    "duration": 9,
    "start_time": "2022-09-10T11:17:36.619Z"
   },
   {
    "duration": 10,
    "start_time": "2022-09-10T11:17:47.227Z"
   },
   {
    "duration": 10,
    "start_time": "2022-09-10T11:17:54.138Z"
   },
   {
    "duration": 5,
    "start_time": "2022-09-10T11:17:58.597Z"
   },
   {
    "duration": 5,
    "start_time": "2022-09-10T11:18:02.210Z"
   },
   {
    "duration": 7,
    "start_time": "2022-09-10T11:18:33.103Z"
   },
   {
    "duration": 8,
    "start_time": "2022-09-10T11:18:36.764Z"
   },
   {
    "duration": 3,
    "start_time": "2022-09-10T11:21:04.667Z"
   },
   {
    "duration": 140,
    "start_time": "2022-09-10T11:42:41.878Z"
   },
   {
    "duration": 35,
    "start_time": "2022-09-10T11:43:30.241Z"
   },
   {
    "duration": 28,
    "start_time": "2022-09-10T11:53:21.166Z"
   },
   {
    "duration": 4,
    "start_time": "2022-09-10T11:53:33.532Z"
   },
   {
    "duration": 1166,
    "start_time": "2022-09-10T11:53:56.403Z"
   },
   {
    "duration": 49,
    "start_time": "2022-09-10T11:53:57.571Z"
   },
   {
    "duration": 13,
    "start_time": "2022-09-10T11:53:57.622Z"
   },
   {
    "duration": 16,
    "start_time": "2022-09-10T11:53:57.637Z"
   },
   {
    "duration": 13,
    "start_time": "2022-09-10T11:53:57.655Z"
   },
   {
    "duration": 18,
    "start_time": "2022-09-10T11:53:57.670Z"
   },
   {
    "duration": 21,
    "start_time": "2022-09-10T11:53:57.690Z"
   },
   {
    "duration": 18,
    "start_time": "2022-09-10T11:53:57.713Z"
   },
   {
    "duration": 11,
    "start_time": "2022-09-10T11:53:57.733Z"
   },
   {
    "duration": 18,
    "start_time": "2022-09-10T11:53:57.747Z"
   },
   {
    "duration": 527,
    "start_time": "2022-09-10T11:53:57.767Z"
   },
   {
    "duration": 183,
    "start_time": "2022-09-10T11:53:58.295Z"
   },
   {
    "duration": 151,
    "start_time": "2022-09-10T11:53:58.480Z"
   },
   {
    "duration": 7,
    "start_time": "2022-09-10T11:53:58.637Z"
   },
   {
    "duration": 12,
    "start_time": "2022-09-10T11:53:58.646Z"
   },
   {
    "duration": 12,
    "start_time": "2022-09-10T11:53:58.660Z"
   },
   {
    "duration": 17,
    "start_time": "2022-09-10T11:53:58.674Z"
   },
   {
    "duration": 9,
    "start_time": "2022-09-10T11:53:58.693Z"
   },
   {
    "duration": 10,
    "start_time": "2022-09-10T11:53:58.704Z"
   },
   {
    "duration": 12,
    "start_time": "2022-09-10T11:53:58.716Z"
   },
   {
    "duration": 17,
    "start_time": "2022-09-10T11:53:58.729Z"
   },
   {
    "duration": 10,
    "start_time": "2022-09-10T11:53:58.748Z"
   },
   {
    "duration": 16,
    "start_time": "2022-09-10T11:53:58.760Z"
   },
   {
    "duration": 12,
    "start_time": "2022-09-10T11:53:58.778Z"
   },
   {
    "duration": 10,
    "start_time": "2022-09-10T11:53:58.792Z"
   },
   {
    "duration": 11,
    "start_time": "2022-09-10T11:53:58.804Z"
   },
   {
    "duration": 21,
    "start_time": "2022-09-10T11:53:58.816Z"
   },
   {
    "duration": 10,
    "start_time": "2022-09-10T11:53:58.839Z"
   },
   {
    "duration": 31,
    "start_time": "2022-09-10T11:53:58.850Z"
   },
   {
    "duration": 3,
    "start_time": "2022-09-10T11:53:58.883Z"
   },
   {
    "duration": 122,
    "start_time": "2022-09-10T11:56:41.838Z"
   },
   {
    "duration": 27,
    "start_time": "2022-09-10T11:56:48.253Z"
   },
   {
    "duration": 48,
    "start_time": "2022-09-10T11:57:02.049Z"
   },
   {
    "duration": 3,
    "start_time": "2022-09-10T11:57:03.057Z"
   },
   {
    "duration": 193,
    "start_time": "2022-09-10T11:57:11.529Z"
   },
   {
    "duration": 4,
    "start_time": "2022-09-10T11:57:12.563Z"
   },
   {
    "duration": 32,
    "start_time": "2022-09-10T11:57:17.640Z"
   },
   {
    "duration": 4,
    "start_time": "2022-09-10T11:57:18.315Z"
   },
   {
    "duration": 36,
    "start_time": "2022-09-10T11:59:47.322Z"
   },
   {
    "duration": 5,
    "start_time": "2022-09-10T11:59:47.611Z"
   },
   {
    "duration": 3,
    "start_time": "2022-09-10T12:00:06.157Z"
   },
   {
    "duration": 3,
    "start_time": "2022-09-10T12:00:16.485Z"
   },
   {
    "duration": 5,
    "start_time": "2022-09-10T12:00:37.143Z"
   },
   {
    "duration": 30,
    "start_time": "2022-09-10T12:02:23.363Z"
   },
   {
    "duration": 28,
    "start_time": "2022-09-10T12:02:28.012Z"
   },
   {
    "duration": 3,
    "start_time": "2022-09-10T12:02:29.294Z"
   },
   {
    "duration": 4,
    "start_time": "2022-09-10T12:02:29.608Z"
   },
   {
    "duration": 27,
    "start_time": "2022-09-10T12:02:46.361Z"
   },
   {
    "duration": 3,
    "start_time": "2022-09-10T12:02:46.779Z"
   },
   {
    "duration": 28,
    "start_time": "2022-09-10T12:02:53.660Z"
   },
   {
    "duration": 3,
    "start_time": "2022-09-10T12:03:08.313Z"
   },
   {
    "duration": 7,
    "start_time": "2022-09-10T12:09:04.476Z"
   },
   {
    "duration": 4,
    "start_time": "2022-09-10T12:09:12.388Z"
   },
   {
    "duration": 192,
    "start_time": "2022-09-10T12:09:44.862Z"
   },
   {
    "duration": 3,
    "start_time": "2022-09-10T12:09:45.374Z"
   },
   {
    "duration": 1848,
    "start_time": "2022-09-10T12:09:49.593Z"
   },
   {
    "duration": 3,
    "start_time": "2022-09-10T12:09:51.443Z"
   },
   {
    "duration": 3,
    "start_time": "2022-09-10T12:09:58.579Z"
   },
   {
    "duration": 4,
    "start_time": "2022-09-10T12:15:21.175Z"
   },
   {
    "duration": 1865,
    "start_time": "2022-09-10T12:16:22.728Z"
   },
   {
    "duration": 3,
    "start_time": "2022-09-10T12:16:24.595Z"
   },
   {
    "duration": 10,
    "start_time": "2022-09-10T12:16:24.600Z"
   },
   {
    "duration": 27,
    "start_time": "2022-09-10T12:16:48.268Z"
   },
   {
    "duration": 3,
    "start_time": "2022-09-10T12:16:48.896Z"
   },
   {
    "duration": 4,
    "start_time": "2022-09-10T12:16:50.732Z"
   },
   {
    "duration": 26,
    "start_time": "2022-09-10T12:22:19.063Z"
   },
   {
    "duration": 3,
    "start_time": "2022-09-10T12:22:19.485Z"
   },
   {
    "duration": 3,
    "start_time": "2022-09-10T12:22:21.206Z"
   },
   {
    "duration": 35,
    "start_time": "2022-09-10T12:22:29.953Z"
   },
   {
    "duration": 3,
    "start_time": "2022-09-10T12:22:30.365Z"
   },
   {
    "duration": 4,
    "start_time": "2022-09-10T12:22:30.940Z"
   },
   {
    "duration": 184,
    "start_time": "2022-09-10T12:22:35.876Z"
   },
   {
    "duration": 4,
    "start_time": "2022-09-10T12:22:36.348Z"
   },
   {
    "duration": 4,
    "start_time": "2022-09-10T12:22:36.825Z"
   },
   {
    "duration": 1827,
    "start_time": "2022-09-10T12:22:40.715Z"
   },
   {
    "duration": 3,
    "start_time": "2022-09-10T12:22:42.544Z"
   },
   {
    "duration": 4,
    "start_time": "2022-09-10T12:22:43.779Z"
   },
   {
    "duration": 44,
    "start_time": "2022-09-10T12:22:50.918Z"
   },
   {
    "duration": 3,
    "start_time": "2022-09-10T12:22:51.183Z"
   },
   {
    "duration": 3,
    "start_time": "2022-09-10T12:22:51.464Z"
   },
   {
    "duration": 48,
    "start_time": "2022-09-10T12:23:38.439Z"
   },
   {
    "duration": 4,
    "start_time": "2022-09-10T12:23:39.022Z"
   },
   {
    "duration": 4,
    "start_time": "2022-09-10T12:23:40.534Z"
   },
   {
    "duration": 72,
    "start_time": "2022-09-10T12:32:11.258Z"
   },
   {
    "duration": 53,
    "start_time": "2022-09-10T12:32:17.849Z"
   },
   {
    "duration": 5,
    "start_time": "2022-09-10T12:32:18.729Z"
   },
   {
    "duration": 5,
    "start_time": "2022-09-10T12:32:19.287Z"
   },
   {
    "duration": 1075,
    "start_time": "2022-09-10T12:59:53.226Z"
   },
   {
    "duration": 49,
    "start_time": "2022-09-10T12:59:54.304Z"
   },
   {
    "duration": 12,
    "start_time": "2022-09-10T12:59:54.355Z"
   },
   {
    "duration": 32,
    "start_time": "2022-09-10T12:59:54.369Z"
   },
   {
    "duration": 16,
    "start_time": "2022-09-10T12:59:54.403Z"
   },
   {
    "duration": 30,
    "start_time": "2022-09-10T12:59:54.421Z"
   },
   {
    "duration": 13,
    "start_time": "2022-09-10T12:59:54.452Z"
   },
   {
    "duration": 24,
    "start_time": "2022-09-10T12:59:54.467Z"
   },
   {
    "duration": 43,
    "start_time": "2022-09-10T12:59:54.493Z"
   },
   {
    "duration": 48,
    "start_time": "2022-09-10T12:59:54.537Z"
   },
   {
    "duration": 522,
    "start_time": "2022-09-10T12:59:54.587Z"
   },
   {
    "duration": 189,
    "start_time": "2022-09-10T12:59:55.110Z"
   },
   {
    "duration": 147,
    "start_time": "2022-09-10T12:59:55.301Z"
   },
   {
    "duration": 6,
    "start_time": "2022-09-10T12:59:55.451Z"
   },
   {
    "duration": 28,
    "start_time": "2022-09-10T12:59:55.459Z"
   },
   {
    "duration": 18,
    "start_time": "2022-09-10T12:59:55.488Z"
   },
   {
    "duration": 38,
    "start_time": "2022-09-10T12:59:55.508Z"
   },
   {
    "duration": 19,
    "start_time": "2022-09-10T12:59:55.548Z"
   },
   {
    "duration": 26,
    "start_time": "2022-09-10T12:59:55.569Z"
   },
   {
    "duration": 19,
    "start_time": "2022-09-10T12:59:55.597Z"
   },
   {
    "duration": 19,
    "start_time": "2022-09-10T12:59:55.618Z"
   },
   {
    "duration": 11,
    "start_time": "2022-09-10T12:59:55.638Z"
   },
   {
    "duration": 24,
    "start_time": "2022-09-10T12:59:55.651Z"
   },
   {
    "duration": 17,
    "start_time": "2022-09-10T12:59:55.677Z"
   },
   {
    "duration": 29,
    "start_time": "2022-09-10T12:59:55.695Z"
   },
   {
    "duration": 113,
    "start_time": "2022-09-10T12:59:55.725Z"
   },
   {
    "duration": 0,
    "start_time": "2022-09-10T12:59:55.840Z"
   },
   {
    "duration": 0,
    "start_time": "2022-09-10T12:59:55.842Z"
   },
   {
    "duration": 0,
    "start_time": "2022-09-10T12:59:55.843Z"
   },
   {
    "duration": 0,
    "start_time": "2022-09-10T12:59:55.845Z"
   },
   {
    "duration": 0,
    "start_time": "2022-09-10T12:59:55.846Z"
   },
   {
    "duration": 0,
    "start_time": "2022-09-10T12:59:55.847Z"
   },
   {
    "duration": 0,
    "start_time": "2022-09-10T12:59:55.849Z"
   },
   {
    "duration": 0,
    "start_time": "2022-09-10T12:59:55.851Z"
   },
   {
    "duration": 1032,
    "start_time": "2022-09-10T13:01:31.451Z"
   },
   {
    "duration": 48,
    "start_time": "2022-09-10T13:01:32.485Z"
   },
   {
    "duration": 13,
    "start_time": "2022-09-10T13:01:32.534Z"
   },
   {
    "duration": 11,
    "start_time": "2022-09-10T13:01:32.549Z"
   },
   {
    "duration": 9,
    "start_time": "2022-09-10T13:01:32.562Z"
   },
   {
    "duration": 8,
    "start_time": "2022-09-10T13:01:32.572Z"
   },
   {
    "duration": 10,
    "start_time": "2022-09-10T13:01:32.582Z"
   },
   {
    "duration": 7,
    "start_time": "2022-09-10T13:01:32.593Z"
   },
   {
    "duration": 8,
    "start_time": "2022-09-10T13:01:32.601Z"
   },
   {
    "duration": 8,
    "start_time": "2022-09-10T13:01:32.636Z"
   },
   {
    "duration": 483,
    "start_time": "2022-09-10T13:01:32.646Z"
   },
   {
    "duration": 176,
    "start_time": "2022-09-10T13:01:33.131Z"
   },
   {
    "duration": 156,
    "start_time": "2022-09-10T13:01:33.309Z"
   },
   {
    "duration": 7,
    "start_time": "2022-09-10T13:01:33.467Z"
   },
   {
    "duration": 8,
    "start_time": "2022-09-10T13:01:33.475Z"
   },
   {
    "duration": 9,
    "start_time": "2022-09-10T13:01:33.484Z"
   },
   {
    "duration": 4,
    "start_time": "2022-09-10T13:01:33.495Z"
   },
   {
    "duration": 6,
    "start_time": "2022-09-10T13:01:33.500Z"
   },
   {
    "duration": 29,
    "start_time": "2022-09-10T13:01:33.508Z"
   },
   {
    "duration": 3,
    "start_time": "2022-09-10T13:01:33.539Z"
   },
   {
    "duration": 18,
    "start_time": "2022-09-10T13:01:33.544Z"
   },
   {
    "duration": 7,
    "start_time": "2022-09-10T13:01:33.564Z"
   },
   {
    "duration": 4,
    "start_time": "2022-09-10T13:01:33.573Z"
   },
   {
    "duration": 9,
    "start_time": "2022-09-10T13:01:33.578Z"
   },
   {
    "duration": 6,
    "start_time": "2022-09-10T13:01:33.588Z"
   },
   {
    "duration": 96,
    "start_time": "2022-09-10T13:01:33.595Z"
   },
   {
    "duration": 0,
    "start_time": "2022-09-10T13:01:33.693Z"
   },
   {
    "duration": 0,
    "start_time": "2022-09-10T13:01:33.694Z"
   },
   {
    "duration": 0,
    "start_time": "2022-09-10T13:01:33.695Z"
   },
   {
    "duration": 0,
    "start_time": "2022-09-10T13:01:33.696Z"
   },
   {
    "duration": 0,
    "start_time": "2022-09-10T13:01:33.697Z"
   },
   {
    "duration": 0,
    "start_time": "2022-09-10T13:01:33.698Z"
   },
   {
    "duration": 1021,
    "start_time": "2022-09-10T13:03:13.473Z"
   },
   {
    "duration": 49,
    "start_time": "2022-09-10T13:03:14.496Z"
   },
   {
    "duration": 13,
    "start_time": "2022-09-10T13:03:14.546Z"
   },
   {
    "duration": 16,
    "start_time": "2022-09-10T13:03:14.561Z"
   },
   {
    "duration": 14,
    "start_time": "2022-09-10T13:03:14.579Z"
   },
   {
    "duration": 8,
    "start_time": "2022-09-10T13:03:14.594Z"
   },
   {
    "duration": 11,
    "start_time": "2022-09-10T13:03:14.604Z"
   },
   {
    "duration": 8,
    "start_time": "2022-09-10T13:03:14.617Z"
   },
   {
    "duration": 15,
    "start_time": "2022-09-10T13:03:14.626Z"
   },
   {
    "duration": 17,
    "start_time": "2022-09-10T13:03:14.643Z"
   },
   {
    "duration": 495,
    "start_time": "2022-09-10T13:03:14.661Z"
   },
   {
    "duration": 181,
    "start_time": "2022-09-10T13:03:15.158Z"
   },
   {
    "duration": 157,
    "start_time": "2022-09-10T13:03:15.340Z"
   },
   {
    "duration": 8,
    "start_time": "2022-09-10T13:03:15.499Z"
   },
   {
    "duration": 8,
    "start_time": "2022-09-10T13:03:15.509Z"
   },
   {
    "duration": 120,
    "start_time": "2022-09-10T13:03:15.519Z"
   },
   {
    "duration": 0,
    "start_time": "2022-09-10T13:03:15.641Z"
   },
   {
    "duration": 0,
    "start_time": "2022-09-10T13:03:15.642Z"
   },
   {
    "duration": 0,
    "start_time": "2022-09-10T13:03:15.644Z"
   },
   {
    "duration": 0,
    "start_time": "2022-09-10T13:03:15.646Z"
   },
   {
    "duration": 0,
    "start_time": "2022-09-10T13:03:15.647Z"
   },
   {
    "duration": 0,
    "start_time": "2022-09-10T13:03:15.648Z"
   },
   {
    "duration": 0,
    "start_time": "2022-09-10T13:03:15.649Z"
   },
   {
    "duration": 0,
    "start_time": "2022-09-10T13:03:15.651Z"
   },
   {
    "duration": 0,
    "start_time": "2022-09-10T13:03:15.652Z"
   },
   {
    "duration": 0,
    "start_time": "2022-09-10T13:03:15.654Z"
   },
   {
    "duration": 0,
    "start_time": "2022-09-10T13:03:15.655Z"
   },
   {
    "duration": 0,
    "start_time": "2022-09-10T13:03:15.657Z"
   },
   {
    "duration": 0,
    "start_time": "2022-09-10T13:03:15.658Z"
   },
   {
    "duration": 0,
    "start_time": "2022-09-10T13:03:15.660Z"
   },
   {
    "duration": 0,
    "start_time": "2022-09-10T13:03:15.661Z"
   },
   {
    "duration": 0,
    "start_time": "2022-09-10T13:03:15.662Z"
   },
   {
    "duration": 3,
    "start_time": "2022-09-10T13:55:11.945Z"
   },
   {
    "duration": 1097,
    "start_time": "2022-09-10T14:02:32.603Z"
   },
   {
    "duration": 47,
    "start_time": "2022-09-10T14:02:33.702Z"
   },
   {
    "duration": 12,
    "start_time": "2022-09-10T14:02:33.751Z"
   },
   {
    "duration": 35,
    "start_time": "2022-09-10T14:02:33.764Z"
   },
   {
    "duration": 34,
    "start_time": "2022-09-10T14:02:33.801Z"
   },
   {
    "duration": 11,
    "start_time": "2022-09-10T14:02:33.836Z"
   },
   {
    "duration": 16,
    "start_time": "2022-09-10T14:02:33.848Z"
   },
   {
    "duration": 8,
    "start_time": "2022-09-10T14:02:33.866Z"
   },
   {
    "duration": 6,
    "start_time": "2022-09-10T14:02:33.875Z"
   },
   {
    "duration": 10,
    "start_time": "2022-09-10T14:02:33.882Z"
   },
   {
    "duration": 528,
    "start_time": "2022-09-10T14:02:33.893Z"
   },
   {
    "duration": 180,
    "start_time": "2022-09-10T14:02:34.423Z"
   },
   {
    "duration": 147,
    "start_time": "2022-09-10T14:02:34.604Z"
   },
   {
    "duration": 3,
    "start_time": "2022-09-10T14:02:34.754Z"
   },
   {
    "duration": 13,
    "start_time": "2022-09-10T14:02:34.759Z"
   },
   {
    "duration": 8,
    "start_time": "2022-09-10T14:02:34.774Z"
   },
   {
    "duration": 96,
    "start_time": "2022-09-10T14:02:34.783Z"
   },
   {
    "duration": 0,
    "start_time": "2022-09-10T14:02:34.881Z"
   },
   {
    "duration": 0,
    "start_time": "2022-09-10T14:02:34.882Z"
   },
   {
    "duration": 0,
    "start_time": "2022-09-10T14:02:34.883Z"
   },
   {
    "duration": 0,
    "start_time": "2022-09-10T14:02:34.884Z"
   },
   {
    "duration": 0,
    "start_time": "2022-09-10T14:02:34.885Z"
   },
   {
    "duration": 0,
    "start_time": "2022-09-10T14:02:34.886Z"
   },
   {
    "duration": 0,
    "start_time": "2022-09-10T14:02:34.887Z"
   },
   {
    "duration": 0,
    "start_time": "2022-09-10T14:02:34.888Z"
   },
   {
    "duration": 0,
    "start_time": "2022-09-10T14:02:34.889Z"
   },
   {
    "duration": 0,
    "start_time": "2022-09-10T14:02:34.890Z"
   },
   {
    "duration": 0,
    "start_time": "2022-09-10T14:02:34.891Z"
   },
   {
    "duration": 0,
    "start_time": "2022-09-10T14:02:34.892Z"
   },
   {
    "duration": 0,
    "start_time": "2022-09-10T14:02:34.892Z"
   },
   {
    "duration": 0,
    "start_time": "2022-09-10T14:02:34.893Z"
   },
   {
    "duration": 0,
    "start_time": "2022-09-10T14:02:34.894Z"
   },
   {
    "duration": 0,
    "start_time": "2022-09-10T14:02:34.895Z"
   },
   {
    "duration": 0,
    "start_time": "2022-09-10T14:02:34.896Z"
   },
   {
    "duration": 1026,
    "start_time": "2022-09-10T14:06:34.041Z"
   },
   {
    "duration": 48,
    "start_time": "2022-09-10T14:06:35.069Z"
   },
   {
    "duration": 12,
    "start_time": "2022-09-10T14:06:35.119Z"
   },
   {
    "duration": 15,
    "start_time": "2022-09-10T14:06:35.132Z"
   },
   {
    "duration": 10,
    "start_time": "2022-09-10T14:06:35.149Z"
   },
   {
    "duration": 9,
    "start_time": "2022-09-10T14:06:35.161Z"
   },
   {
    "duration": 17,
    "start_time": "2022-09-10T14:06:35.171Z"
   },
   {
    "duration": 8,
    "start_time": "2022-09-10T14:06:35.189Z"
   },
   {
    "duration": 21,
    "start_time": "2022-09-10T14:06:35.198Z"
   },
   {
    "duration": 16,
    "start_time": "2022-09-10T14:06:35.220Z"
   },
   {
    "duration": 503,
    "start_time": "2022-09-10T14:06:35.237Z"
   },
   {
    "duration": 178,
    "start_time": "2022-09-10T14:06:35.742Z"
   },
   {
    "duration": 132,
    "start_time": "2022-09-10T14:06:35.921Z"
   },
   {
    "duration": 4,
    "start_time": "2022-09-10T14:06:36.055Z"
   },
   {
    "duration": 6,
    "start_time": "2022-09-10T14:06:36.060Z"
   },
   {
    "duration": 7,
    "start_time": "2022-09-10T14:06:36.067Z"
   },
   {
    "duration": 105,
    "start_time": "2022-09-10T14:06:36.075Z"
   },
   {
    "duration": 0,
    "start_time": "2022-09-10T14:06:36.181Z"
   },
   {
    "duration": 0,
    "start_time": "2022-09-10T14:06:36.182Z"
   },
   {
    "duration": 0,
    "start_time": "2022-09-10T14:06:36.183Z"
   },
   {
    "duration": 0,
    "start_time": "2022-09-10T14:06:36.185Z"
   },
   {
    "duration": 0,
    "start_time": "2022-09-10T14:06:36.186Z"
   },
   {
    "duration": 0,
    "start_time": "2022-09-10T14:06:36.187Z"
   },
   {
    "duration": 0,
    "start_time": "2022-09-10T14:06:36.188Z"
   },
   {
    "duration": 0,
    "start_time": "2022-09-10T14:06:36.189Z"
   },
   {
    "duration": 0,
    "start_time": "2022-09-10T14:06:36.190Z"
   },
   {
    "duration": 0,
    "start_time": "2022-09-10T14:06:36.191Z"
   },
   {
    "duration": 1,
    "start_time": "2022-09-10T14:06:36.191Z"
   },
   {
    "duration": 0,
    "start_time": "2022-09-10T14:06:36.193Z"
   },
   {
    "duration": 0,
    "start_time": "2022-09-10T14:06:36.194Z"
   },
   {
    "duration": 0,
    "start_time": "2022-09-10T14:06:36.195Z"
   },
   {
    "duration": 0,
    "start_time": "2022-09-10T14:06:36.196Z"
   },
   {
    "duration": 0,
    "start_time": "2022-09-10T14:06:36.197Z"
   },
   {
    "duration": 0,
    "start_time": "2022-09-10T14:06:36.198Z"
   },
   {
    "duration": 4,
    "start_time": "2022-09-10T14:06:52.016Z"
   },
   {
    "duration": 35,
    "start_time": "2022-09-10T14:07:04.150Z"
   },
   {
    "duration": 1061,
    "start_time": "2022-09-10T14:36:55.814Z"
   },
   {
    "duration": 47,
    "start_time": "2022-09-10T14:36:56.877Z"
   },
   {
    "duration": 12,
    "start_time": "2022-09-10T14:36:56.925Z"
   },
   {
    "duration": 10,
    "start_time": "2022-09-10T14:36:56.940Z"
   },
   {
    "duration": 8,
    "start_time": "2022-09-10T14:36:56.951Z"
   },
   {
    "duration": 6,
    "start_time": "2022-09-10T14:36:56.960Z"
   },
   {
    "duration": 8,
    "start_time": "2022-09-10T14:36:56.967Z"
   },
   {
    "duration": 10,
    "start_time": "2022-09-10T14:36:56.977Z"
   },
   {
    "duration": 7,
    "start_time": "2022-09-10T14:36:56.989Z"
   },
   {
    "duration": 10,
    "start_time": "2022-09-10T14:36:56.998Z"
   },
   {
    "duration": 565,
    "start_time": "2022-09-10T14:36:57.010Z"
   },
   {
    "duration": 210,
    "start_time": "2022-09-10T14:36:57.577Z"
   },
   {
    "duration": 144,
    "start_time": "2022-09-10T14:36:57.788Z"
   },
   {
    "duration": 4,
    "start_time": "2022-09-10T14:36:57.936Z"
   },
   {
    "duration": 112,
    "start_time": "2022-09-10T14:36:57.942Z"
   },
   {
    "duration": 0,
    "start_time": "2022-09-10T14:36:58.056Z"
   },
   {
    "duration": 0,
    "start_time": "2022-09-10T14:36:58.057Z"
   },
   {
    "duration": 0,
    "start_time": "2022-09-10T14:36:58.058Z"
   },
   {
    "duration": 0,
    "start_time": "2022-09-10T14:36:58.060Z"
   },
   {
    "duration": 0,
    "start_time": "2022-09-10T14:36:58.061Z"
   },
   {
    "duration": 0,
    "start_time": "2022-09-10T14:36:58.061Z"
   },
   {
    "duration": 0,
    "start_time": "2022-09-10T14:36:58.062Z"
   },
   {
    "duration": 0,
    "start_time": "2022-09-10T14:36:58.064Z"
   },
   {
    "duration": 0,
    "start_time": "2022-09-10T14:36:58.065Z"
   },
   {
    "duration": 0,
    "start_time": "2022-09-10T14:36:58.066Z"
   },
   {
    "duration": 0,
    "start_time": "2022-09-10T14:36:58.068Z"
   },
   {
    "duration": 0,
    "start_time": "2022-09-10T14:36:58.069Z"
   },
   {
    "duration": 0,
    "start_time": "2022-09-10T14:36:58.070Z"
   },
   {
    "duration": 0,
    "start_time": "2022-09-10T14:36:58.071Z"
   },
   {
    "duration": 0,
    "start_time": "2022-09-10T14:36:58.072Z"
   },
   {
    "duration": 0,
    "start_time": "2022-09-10T14:36:58.073Z"
   },
   {
    "duration": 0,
    "start_time": "2022-09-10T14:36:58.074Z"
   },
   {
    "duration": 0,
    "start_time": "2022-09-10T14:36:58.076Z"
   },
   {
    "duration": 6,
    "start_time": "2022-09-10T14:37:49.797Z"
   },
   {
    "duration": 25065,
    "start_time": "2022-09-10T14:37:53.583Z"
   },
   {
    "duration": 5,
    "start_time": "2022-09-10T14:38:45.893Z"
   },
   {
    "duration": 25972,
    "start_time": "2022-09-10T14:38:47.194Z"
   },
   {
    "duration": 5,
    "start_time": "2022-09-10T14:39:17.770Z"
   },
   {
    "duration": 6267,
    "start_time": "2022-09-10T14:39:19.287Z"
   },
   {
    "duration": 5,
    "start_time": "2022-09-10T14:40:20.016Z"
   },
   {
    "duration": 6486,
    "start_time": "2022-09-10T14:40:20.925Z"
   },
   {
    "duration": 5,
    "start_time": "2022-09-10T14:42:44.328Z"
   },
   {
    "duration": 6501,
    "start_time": "2022-09-10T14:42:44.943Z"
   },
   {
    "duration": 6547,
    "start_time": "2022-09-10T14:43:17.376Z"
   },
   {
    "duration": 5,
    "start_time": "2022-09-10T14:45:57.733Z"
   },
   {
    "duration": 19,
    "start_time": "2022-09-10T14:45:58.632Z"
   },
   {
    "duration": 5,
    "start_time": "2022-09-10T14:46:23.527Z"
   },
   {
    "duration": 29,
    "start_time": "2022-09-10T14:46:24.444Z"
   },
   {
    "duration": 5,
    "start_time": "2022-09-10T14:46:27.891Z"
   },
   {
    "duration": 28,
    "start_time": "2022-09-10T14:46:28.342Z"
   },
   {
    "duration": 5,
    "start_time": "2022-09-10T14:47:07.272Z"
   },
   {
    "duration": 12,
    "start_time": "2022-09-10T14:47:08.084Z"
   },
   {
    "duration": 10,
    "start_time": "2022-09-10T14:47:30.751Z"
   },
   {
    "duration": 63,
    "start_time": "2022-09-10T14:47:50.033Z"
   },
   {
    "duration": 6,
    "start_time": "2022-09-10T14:47:55.552Z"
   },
   {
    "duration": 1059,
    "start_time": "2022-09-10T14:48:17.454Z"
   },
   {
    "duration": 51,
    "start_time": "2022-09-10T14:48:18.515Z"
   },
   {
    "duration": 12,
    "start_time": "2022-09-10T14:48:18.567Z"
   },
   {
    "duration": 12,
    "start_time": "2022-09-10T14:48:18.581Z"
   },
   {
    "duration": 8,
    "start_time": "2022-09-10T14:48:18.595Z"
   },
   {
    "duration": 6,
    "start_time": "2022-09-10T14:48:18.605Z"
   },
   {
    "duration": 24,
    "start_time": "2022-09-10T14:48:18.613Z"
   },
   {
    "duration": 6,
    "start_time": "2022-09-10T14:48:18.639Z"
   },
   {
    "duration": 7,
    "start_time": "2022-09-10T14:48:18.647Z"
   },
   {
    "duration": 12,
    "start_time": "2022-09-10T14:48:18.656Z"
   },
   {
    "duration": 475,
    "start_time": "2022-09-10T14:48:18.670Z"
   },
   {
    "duration": 204,
    "start_time": "2022-09-10T14:48:19.147Z"
   },
   {
    "duration": 152,
    "start_time": "2022-09-10T14:48:19.353Z"
   },
   {
    "duration": 3,
    "start_time": "2022-09-10T14:48:19.508Z"
   },
   {
    "duration": 102,
    "start_time": "2022-09-10T14:48:19.513Z"
   },
   {
    "duration": 0,
    "start_time": "2022-09-10T14:48:19.617Z"
   },
   {
    "duration": 0,
    "start_time": "2022-09-10T14:48:19.619Z"
   },
   {
    "duration": 0,
    "start_time": "2022-09-10T14:48:19.620Z"
   },
   {
    "duration": 0,
    "start_time": "2022-09-10T14:48:19.622Z"
   },
   {
    "duration": 0,
    "start_time": "2022-09-10T14:48:19.623Z"
   },
   {
    "duration": 0,
    "start_time": "2022-09-10T14:48:19.636Z"
   },
   {
    "duration": 0,
    "start_time": "2022-09-10T14:48:19.638Z"
   },
   {
    "duration": 0,
    "start_time": "2022-09-10T14:48:19.639Z"
   },
   {
    "duration": 0,
    "start_time": "2022-09-10T14:48:19.640Z"
   },
   {
    "duration": 0,
    "start_time": "2022-09-10T14:48:19.642Z"
   },
   {
    "duration": 0,
    "start_time": "2022-09-10T14:48:19.643Z"
   },
   {
    "duration": 0,
    "start_time": "2022-09-10T14:48:19.645Z"
   },
   {
    "duration": 0,
    "start_time": "2022-09-10T14:48:19.646Z"
   },
   {
    "duration": 0,
    "start_time": "2022-09-10T14:48:19.648Z"
   },
   {
    "duration": 0,
    "start_time": "2022-09-10T14:48:19.650Z"
   },
   {
    "duration": 0,
    "start_time": "2022-09-10T14:48:19.651Z"
   },
   {
    "duration": 0,
    "start_time": "2022-09-10T14:48:19.653Z"
   },
   {
    "duration": 0,
    "start_time": "2022-09-10T14:48:19.654Z"
   },
   {
    "duration": 0,
    "start_time": "2022-09-10T14:48:19.656Z"
   },
   {
    "duration": 7,
    "start_time": "2022-09-10T14:48:24.914Z"
   },
   {
    "duration": 7,
    "start_time": "2022-09-10T14:50:57.314Z"
   },
   {
    "duration": 20,
    "start_time": "2022-09-10T14:50:58.638Z"
   },
   {
    "duration": 5,
    "start_time": "2022-09-10T14:51:18.960Z"
   },
   {
    "duration": 15,
    "start_time": "2022-09-10T14:51:19.281Z"
   },
   {
    "duration": 5,
    "start_time": "2022-09-10T14:51:21.845Z"
   },
   {
    "duration": 17,
    "start_time": "2022-09-10T14:51:22.241Z"
   },
   {
    "duration": 5,
    "start_time": "2022-09-10T14:51:28.707Z"
   },
   {
    "duration": 15,
    "start_time": "2022-09-10T14:51:28.985Z"
   },
   {
    "duration": 5,
    "start_time": "2022-09-10T14:51:37.024Z"
   },
   {
    "duration": 19,
    "start_time": "2022-09-10T14:51:37.192Z"
   },
   {
    "duration": 5,
    "start_time": "2022-09-10T14:51:46.006Z"
   },
   {
    "duration": 5952,
    "start_time": "2022-09-10T14:51:46.265Z"
   },
   {
    "duration": 6,
    "start_time": "2022-09-10T14:53:03.458Z"
   },
   {
    "duration": 13,
    "start_time": "2022-09-10T14:53:03.943Z"
   },
   {
    "duration": 5,
    "start_time": "2022-09-10T14:53:12.115Z"
   },
   {
    "duration": 14,
    "start_time": "2022-09-10T14:53:12.629Z"
   },
   {
    "duration": 27,
    "start_time": "2022-09-10T14:53:23.395Z"
   },
   {
    "duration": 5,
    "start_time": "2022-09-10T14:56:07.083Z"
   },
   {
    "duration": 24,
    "start_time": "2022-09-10T14:56:07.930Z"
   },
   {
    "duration": 86,
    "start_time": "2022-09-10T14:56:52.055Z"
   },
   {
    "duration": 106,
    "start_time": "2022-09-10T14:56:52.142Z"
   },
   {
    "duration": 45502,
    "start_time": "2022-09-10T14:56:52.250Z"
   },
   {
    "duration": 1069,
    "start_time": "2022-09-10T14:58:13.631Z"
   },
   {
    "duration": 48,
    "start_time": "2022-09-10T14:58:14.702Z"
   },
   {
    "duration": 12,
    "start_time": "2022-09-10T14:58:14.752Z"
   },
   {
    "duration": 12,
    "start_time": "2022-09-10T14:58:14.765Z"
   },
   {
    "duration": 7,
    "start_time": "2022-09-10T14:58:14.779Z"
   },
   {
    "duration": 6,
    "start_time": "2022-09-10T14:58:14.788Z"
   },
   {
    "duration": 9,
    "start_time": "2022-09-10T14:58:14.796Z"
   },
   {
    "duration": 31,
    "start_time": "2022-09-10T14:58:14.807Z"
   },
   {
    "duration": 7,
    "start_time": "2022-09-10T14:58:14.840Z"
   },
   {
    "duration": 9,
    "start_time": "2022-09-10T14:58:14.849Z"
   },
   {
    "duration": 500,
    "start_time": "2022-09-10T14:58:14.860Z"
   },
   {
    "duration": 194,
    "start_time": "2022-09-10T14:58:15.362Z"
   },
   {
    "duration": 146,
    "start_time": "2022-09-10T14:58:15.558Z"
   },
   {
    "duration": 4,
    "start_time": "2022-09-10T14:58:15.707Z"
   },
   {
    "duration": 102,
    "start_time": "2022-09-10T14:58:15.712Z"
   },
   {
    "duration": 0,
    "start_time": "2022-09-10T14:58:15.815Z"
   },
   {
    "duration": 0,
    "start_time": "2022-09-10T14:58:15.817Z"
   },
   {
    "duration": 0,
    "start_time": "2022-09-10T14:58:15.817Z"
   },
   {
    "duration": 0,
    "start_time": "2022-09-10T14:58:15.818Z"
   },
   {
    "duration": 0,
    "start_time": "2022-09-10T14:58:15.820Z"
   },
   {
    "duration": 0,
    "start_time": "2022-09-10T14:58:15.836Z"
   },
   {
    "duration": 0,
    "start_time": "2022-09-10T14:58:15.837Z"
   },
   {
    "duration": 0,
    "start_time": "2022-09-10T14:58:15.838Z"
   },
   {
    "duration": 0,
    "start_time": "2022-09-10T14:58:15.839Z"
   },
   {
    "duration": 0,
    "start_time": "2022-09-10T14:58:15.840Z"
   },
   {
    "duration": 0,
    "start_time": "2022-09-10T14:58:15.841Z"
   },
   {
    "duration": 0,
    "start_time": "2022-09-10T14:58:15.842Z"
   },
   {
    "duration": 0,
    "start_time": "2022-09-10T14:58:15.843Z"
   },
   {
    "duration": 0,
    "start_time": "2022-09-10T14:58:15.844Z"
   },
   {
    "duration": 0,
    "start_time": "2022-09-10T14:58:15.845Z"
   },
   {
    "duration": 0,
    "start_time": "2022-09-10T14:58:15.846Z"
   },
   {
    "duration": 0,
    "start_time": "2022-09-10T14:58:15.847Z"
   },
   {
    "duration": 0,
    "start_time": "2022-09-10T14:58:15.848Z"
   },
   {
    "duration": 0,
    "start_time": "2022-09-10T14:58:15.848Z"
   },
   {
    "duration": 7,
    "start_time": "2022-09-10T14:58:26.554Z"
   },
   {
    "duration": 8487,
    "start_time": "2022-09-10T14:58:33.159Z"
   },
   {
    "duration": 1023,
    "start_time": "2022-09-10T15:00:57.980Z"
   },
   {
    "duration": 49,
    "start_time": "2022-09-10T15:00:59.006Z"
   },
   {
    "duration": 12,
    "start_time": "2022-09-10T15:00:59.056Z"
   },
   {
    "duration": 9,
    "start_time": "2022-09-10T15:00:59.070Z"
   },
   {
    "duration": 7,
    "start_time": "2022-09-10T15:00:59.081Z"
   },
   {
    "duration": 5,
    "start_time": "2022-09-10T15:00:59.090Z"
   },
   {
    "duration": 9,
    "start_time": "2022-09-10T15:00:59.097Z"
   },
   {
    "duration": 31,
    "start_time": "2022-09-10T15:00:59.107Z"
   },
   {
    "duration": 5,
    "start_time": "2022-09-10T15:00:59.139Z"
   },
   {
    "duration": 11,
    "start_time": "2022-09-10T15:00:59.146Z"
   },
   {
    "duration": 496,
    "start_time": "2022-09-10T15:00:59.158Z"
   },
   {
    "duration": 177,
    "start_time": "2022-09-10T15:00:59.656Z"
   },
   {
    "duration": 141,
    "start_time": "2022-09-10T15:00:59.837Z"
   },
   {
    "duration": 3,
    "start_time": "2022-09-10T15:00:59.981Z"
   },
   {
    "duration": 112,
    "start_time": "2022-09-10T15:00:59.986Z"
   },
   {
    "duration": 0,
    "start_time": "2022-09-10T15:01:00.100Z"
   },
   {
    "duration": 0,
    "start_time": "2022-09-10T15:01:00.101Z"
   },
   {
    "duration": 0,
    "start_time": "2022-09-10T15:01:00.102Z"
   },
   {
    "duration": 0,
    "start_time": "2022-09-10T15:01:00.103Z"
   },
   {
    "duration": 0,
    "start_time": "2022-09-10T15:01:00.105Z"
   },
   {
    "duration": 0,
    "start_time": "2022-09-10T15:01:00.106Z"
   },
   {
    "duration": 0,
    "start_time": "2022-09-10T15:01:00.107Z"
   },
   {
    "duration": 0,
    "start_time": "2022-09-10T15:01:00.108Z"
   },
   {
    "duration": 0,
    "start_time": "2022-09-10T15:01:00.109Z"
   },
   {
    "duration": 0,
    "start_time": "2022-09-10T15:01:00.109Z"
   },
   {
    "duration": 0,
    "start_time": "2022-09-10T15:01:00.110Z"
   },
   {
    "duration": 0,
    "start_time": "2022-09-10T15:01:00.111Z"
   },
   {
    "duration": 0,
    "start_time": "2022-09-10T15:01:00.112Z"
   },
   {
    "duration": 0,
    "start_time": "2022-09-10T15:01:00.113Z"
   },
   {
    "duration": 0,
    "start_time": "2022-09-10T15:01:00.138Z"
   },
   {
    "duration": 0,
    "start_time": "2022-09-10T15:01:00.139Z"
   },
   {
    "duration": 0,
    "start_time": "2022-09-10T15:01:00.140Z"
   },
   {
    "duration": 0,
    "start_time": "2022-09-10T15:01:00.141Z"
   },
   {
    "duration": 0,
    "start_time": "2022-09-10T15:01:00.142Z"
   },
   {
    "duration": 5,
    "start_time": "2022-09-10T15:01:04.831Z"
   },
   {
    "duration": 8427,
    "start_time": "2022-09-10T15:01:05.662Z"
   },
   {
    "duration": 1048,
    "start_time": "2022-09-10T15:02:55.152Z"
   },
   {
    "duration": 47,
    "start_time": "2022-09-10T15:02:56.202Z"
   },
   {
    "duration": 13,
    "start_time": "2022-09-10T15:02:56.250Z"
   },
   {
    "duration": 10,
    "start_time": "2022-09-10T15:02:56.264Z"
   },
   {
    "duration": 8,
    "start_time": "2022-09-10T15:02:56.275Z"
   },
   {
    "duration": 6,
    "start_time": "2022-09-10T15:02:56.284Z"
   },
   {
    "duration": 29,
    "start_time": "2022-09-10T15:02:56.291Z"
   },
   {
    "duration": 9,
    "start_time": "2022-09-10T15:02:56.322Z"
   },
   {
    "duration": 7,
    "start_time": "2022-09-10T15:02:56.337Z"
   },
   {
    "duration": 18,
    "start_time": "2022-09-10T15:02:56.346Z"
   },
   {
    "duration": 473,
    "start_time": "2022-09-10T15:02:56.365Z"
   },
   {
    "duration": 182,
    "start_time": "2022-09-10T15:02:56.839Z"
   },
   {
    "duration": 160,
    "start_time": "2022-09-10T15:02:57.023Z"
   },
   {
    "duration": 9,
    "start_time": "2022-09-10T15:02:57.188Z"
   },
   {
    "duration": 12,
    "start_time": "2022-09-10T15:02:57.199Z"
   },
   {
    "duration": 150,
    "start_time": "2022-09-10T15:02:57.213Z"
   },
   {
    "duration": 0,
    "start_time": "2022-09-10T15:02:57.364Z"
   },
   {
    "duration": 0,
    "start_time": "2022-09-10T15:02:57.366Z"
   },
   {
    "duration": 0,
    "start_time": "2022-09-10T15:02:57.368Z"
   },
   {
    "duration": 0,
    "start_time": "2022-09-10T15:02:57.370Z"
   },
   {
    "duration": 0,
    "start_time": "2022-09-10T15:02:57.371Z"
   },
   {
    "duration": 0,
    "start_time": "2022-09-10T15:02:57.372Z"
   },
   {
    "duration": 0,
    "start_time": "2022-09-10T15:02:57.374Z"
   },
   {
    "duration": 0,
    "start_time": "2022-09-10T15:02:57.375Z"
   },
   {
    "duration": 0,
    "start_time": "2022-09-10T15:02:57.376Z"
   },
   {
    "duration": 0,
    "start_time": "2022-09-10T15:02:57.377Z"
   },
   {
    "duration": 0,
    "start_time": "2022-09-10T15:02:57.378Z"
   },
   {
    "duration": 0,
    "start_time": "2022-09-10T15:02:57.380Z"
   },
   {
    "duration": 0,
    "start_time": "2022-09-10T15:02:57.382Z"
   },
   {
    "duration": 0,
    "start_time": "2022-09-10T15:02:57.383Z"
   },
   {
    "duration": 0,
    "start_time": "2022-09-10T15:02:57.385Z"
   },
   {
    "duration": 0,
    "start_time": "2022-09-10T15:02:57.386Z"
   },
   {
    "duration": 0,
    "start_time": "2022-09-10T15:02:57.387Z"
   },
   {
    "duration": 0,
    "start_time": "2022-09-10T15:02:57.388Z"
   },
   {
    "duration": 5,
    "start_time": "2022-09-10T15:03:02.304Z"
   },
   {
    "duration": 24555,
    "start_time": "2022-09-10T15:03:03.082Z"
   },
   {
    "duration": 1191,
    "start_time": "2022-09-10T15:05:59.414Z"
   },
   {
    "duration": 50,
    "start_time": "2022-09-10T15:06:00.607Z"
   },
   {
    "duration": 13,
    "start_time": "2022-09-10T15:06:00.659Z"
   },
   {
    "duration": 24,
    "start_time": "2022-09-10T15:06:00.673Z"
   },
   {
    "duration": 9,
    "start_time": "2022-09-10T15:06:00.699Z"
   },
   {
    "duration": 8,
    "start_time": "2022-09-10T15:06:00.709Z"
   },
   {
    "duration": 26,
    "start_time": "2022-09-10T15:06:00.718Z"
   },
   {
    "duration": 19,
    "start_time": "2022-09-10T15:06:00.745Z"
   },
   {
    "duration": 12,
    "start_time": "2022-09-10T15:06:00.766Z"
   },
   {
    "duration": 25,
    "start_time": "2022-09-10T15:06:00.779Z"
   },
   {
    "duration": 496,
    "start_time": "2022-09-10T15:06:00.805Z"
   },
   {
    "duration": 205,
    "start_time": "2022-09-10T15:06:01.303Z"
   },
   {
    "duration": 155,
    "start_time": "2022-09-10T15:06:01.510Z"
   },
   {
    "duration": 5,
    "start_time": "2022-09-10T15:06:01.669Z"
   },
   {
    "duration": 193,
    "start_time": "2022-09-10T15:06:01.676Z"
   },
   {
    "duration": 0,
    "start_time": "2022-09-10T15:06:01.871Z"
   },
   {
    "duration": 0,
    "start_time": "2022-09-10T15:06:01.872Z"
   },
   {
    "duration": 0,
    "start_time": "2022-09-10T15:06:01.873Z"
   },
   {
    "duration": 0,
    "start_time": "2022-09-10T15:06:01.874Z"
   },
   {
    "duration": 0,
    "start_time": "2022-09-10T15:06:01.875Z"
   },
   {
    "duration": 0,
    "start_time": "2022-09-10T15:06:01.876Z"
   },
   {
    "duration": 0,
    "start_time": "2022-09-10T15:06:01.877Z"
   },
   {
    "duration": 0,
    "start_time": "2022-09-10T15:06:01.878Z"
   },
   {
    "duration": 0,
    "start_time": "2022-09-10T15:06:01.879Z"
   },
   {
    "duration": 0,
    "start_time": "2022-09-10T15:06:01.879Z"
   },
   {
    "duration": 0,
    "start_time": "2022-09-10T15:06:01.881Z"
   },
   {
    "duration": 0,
    "start_time": "2022-09-10T15:06:01.881Z"
   },
   {
    "duration": 0,
    "start_time": "2022-09-10T15:06:01.882Z"
   },
   {
    "duration": 0,
    "start_time": "2022-09-10T15:06:01.883Z"
   },
   {
    "duration": 0,
    "start_time": "2022-09-10T15:06:01.884Z"
   },
   {
    "duration": 0,
    "start_time": "2022-09-10T15:06:01.885Z"
   },
   {
    "duration": 0,
    "start_time": "2022-09-10T15:06:01.886Z"
   },
   {
    "duration": 0,
    "start_time": "2022-09-10T15:06:01.887Z"
   },
   {
    "duration": 6,
    "start_time": "2022-09-10T15:06:08.049Z"
   },
   {
    "duration": 24270,
    "start_time": "2022-09-10T15:06:09.272Z"
   },
   {
    "duration": 1011,
    "start_time": "2022-09-10T15:07:44.288Z"
   },
   {
    "duration": 48,
    "start_time": "2022-09-10T15:07:45.301Z"
   },
   {
    "duration": 14,
    "start_time": "2022-09-10T15:07:45.351Z"
   },
   {
    "duration": 17,
    "start_time": "2022-09-10T15:07:45.367Z"
   },
   {
    "duration": 10,
    "start_time": "2022-09-10T15:07:45.387Z"
   },
   {
    "duration": 6,
    "start_time": "2022-09-10T15:07:45.398Z"
   },
   {
    "duration": 19,
    "start_time": "2022-09-10T15:07:45.406Z"
   },
   {
    "duration": 6,
    "start_time": "2022-09-10T15:07:45.437Z"
   },
   {
    "duration": 7,
    "start_time": "2022-09-10T15:07:45.445Z"
   },
   {
    "duration": 9,
    "start_time": "2022-09-10T15:07:45.454Z"
   },
   {
    "duration": 539,
    "start_time": "2022-09-10T15:07:45.464Z"
   },
   {
    "duration": 215,
    "start_time": "2022-09-10T15:07:46.005Z"
   },
   {
    "duration": 153,
    "start_time": "2022-09-10T15:07:46.222Z"
   },
   {
    "duration": 4,
    "start_time": "2022-09-10T15:07:46.377Z"
   },
   {
    "duration": 112,
    "start_time": "2022-09-10T15:07:46.383Z"
   },
   {
    "duration": 0,
    "start_time": "2022-09-10T15:07:46.497Z"
   },
   {
    "duration": 0,
    "start_time": "2022-09-10T15:07:46.498Z"
   },
   {
    "duration": 0,
    "start_time": "2022-09-10T15:07:46.499Z"
   },
   {
    "duration": 0,
    "start_time": "2022-09-10T15:07:46.500Z"
   },
   {
    "duration": 0,
    "start_time": "2022-09-10T15:07:46.501Z"
   },
   {
    "duration": 0,
    "start_time": "2022-09-10T15:07:46.502Z"
   },
   {
    "duration": 0,
    "start_time": "2022-09-10T15:07:46.503Z"
   },
   {
    "duration": 0,
    "start_time": "2022-09-10T15:07:46.504Z"
   },
   {
    "duration": 0,
    "start_time": "2022-09-10T15:07:46.505Z"
   },
   {
    "duration": 0,
    "start_time": "2022-09-10T15:07:46.507Z"
   },
   {
    "duration": 0,
    "start_time": "2022-09-10T15:07:46.508Z"
   },
   {
    "duration": 0,
    "start_time": "2022-09-10T15:07:46.509Z"
   },
   {
    "duration": 0,
    "start_time": "2022-09-10T15:07:46.510Z"
   },
   {
    "duration": 0,
    "start_time": "2022-09-10T15:07:46.511Z"
   },
   {
    "duration": 0,
    "start_time": "2022-09-10T15:07:46.512Z"
   },
   {
    "duration": 0,
    "start_time": "2022-09-10T15:07:46.513Z"
   },
   {
    "duration": 0,
    "start_time": "2022-09-10T15:07:46.537Z"
   },
   {
    "duration": 0,
    "start_time": "2022-09-10T15:07:46.538Z"
   },
   {
    "duration": 5,
    "start_time": "2022-09-10T15:07:50.181Z"
   },
   {
    "duration": 17,
    "start_time": "2022-09-10T15:07:51.158Z"
   },
   {
    "duration": 6,
    "start_time": "2022-09-10T15:08:20.989Z"
   },
   {
    "duration": 24499,
    "start_time": "2022-09-10T15:08:21.352Z"
   },
   {
    "duration": 6,
    "start_time": "2022-09-10T15:09:06.125Z"
   },
   {
    "duration": 24139,
    "start_time": "2022-09-10T15:09:06.503Z"
   },
   {
    "duration": 1058,
    "start_time": "2022-09-10T15:10:13.781Z"
   },
   {
    "duration": 48,
    "start_time": "2022-09-10T15:10:14.841Z"
   },
   {
    "duration": 12,
    "start_time": "2022-09-10T15:10:14.890Z"
   },
   {
    "duration": 17,
    "start_time": "2022-09-10T15:10:14.904Z"
   },
   {
    "duration": 11,
    "start_time": "2022-09-10T15:10:14.923Z"
   },
   {
    "duration": 6,
    "start_time": "2022-09-10T15:10:14.935Z"
   },
   {
    "duration": 10,
    "start_time": "2022-09-10T15:10:14.942Z"
   },
   {
    "duration": 7,
    "start_time": "2022-09-10T15:10:14.953Z"
   },
   {
    "duration": 6,
    "start_time": "2022-09-10T15:10:14.961Z"
   },
   {
    "duration": 11,
    "start_time": "2022-09-10T15:10:14.968Z"
   },
   {
    "duration": 527,
    "start_time": "2022-09-10T15:10:14.981Z"
   },
   {
    "duration": 188,
    "start_time": "2022-09-10T15:10:15.509Z"
   },
   {
    "duration": 149,
    "start_time": "2022-09-10T15:10:15.699Z"
   },
   {
    "duration": 3,
    "start_time": "2022-09-10T15:10:15.851Z"
   },
   {
    "duration": 113,
    "start_time": "2022-09-10T15:10:15.856Z"
   },
   {
    "duration": 0,
    "start_time": "2022-09-10T15:10:15.971Z"
   },
   {
    "duration": 0,
    "start_time": "2022-09-10T15:10:15.972Z"
   },
   {
    "duration": 0,
    "start_time": "2022-09-10T15:10:15.974Z"
   },
   {
    "duration": 0,
    "start_time": "2022-09-10T15:10:15.975Z"
   },
   {
    "duration": 0,
    "start_time": "2022-09-10T15:10:15.977Z"
   },
   {
    "duration": 0,
    "start_time": "2022-09-10T15:10:15.979Z"
   },
   {
    "duration": 0,
    "start_time": "2022-09-10T15:10:15.980Z"
   },
   {
    "duration": 0,
    "start_time": "2022-09-10T15:10:15.982Z"
   },
   {
    "duration": 0,
    "start_time": "2022-09-10T15:10:15.983Z"
   },
   {
    "duration": 0,
    "start_time": "2022-09-10T15:10:15.985Z"
   },
   {
    "duration": 0,
    "start_time": "2022-09-10T15:10:15.986Z"
   },
   {
    "duration": 0,
    "start_time": "2022-09-10T15:10:15.987Z"
   },
   {
    "duration": 0,
    "start_time": "2022-09-10T15:10:15.989Z"
   },
   {
    "duration": 0,
    "start_time": "2022-09-10T15:10:15.991Z"
   },
   {
    "duration": 0,
    "start_time": "2022-09-10T15:10:15.992Z"
   },
   {
    "duration": 0,
    "start_time": "2022-09-10T15:10:15.993Z"
   },
   {
    "duration": 0,
    "start_time": "2022-09-10T15:10:15.995Z"
   },
   {
    "duration": 0,
    "start_time": "2022-09-10T15:10:15.996Z"
   },
   {
    "duration": 5,
    "start_time": "2022-09-10T15:10:19.646Z"
   },
   {
    "duration": 3343,
    "start_time": "2022-09-10T15:10:20.339Z"
   },
   {
    "duration": 5,
    "start_time": "2022-09-10T15:10:31.116Z"
   },
   {
    "duration": 24091,
    "start_time": "2022-09-10T15:10:31.658Z"
   },
   {
    "duration": 1107,
    "start_time": "2022-09-10T15:11:29.405Z"
   },
   {
    "duration": 49,
    "start_time": "2022-09-10T15:11:30.514Z"
   },
   {
    "duration": 12,
    "start_time": "2022-09-10T15:11:30.565Z"
   },
   {
    "duration": 17,
    "start_time": "2022-09-10T15:11:30.578Z"
   },
   {
    "duration": 19,
    "start_time": "2022-09-10T15:11:30.597Z"
   },
   {
    "duration": 40,
    "start_time": "2022-09-10T15:11:30.617Z"
   },
   {
    "duration": 21,
    "start_time": "2022-09-10T15:11:30.659Z"
   },
   {
    "duration": 26,
    "start_time": "2022-09-10T15:11:30.681Z"
   },
   {
    "duration": 26,
    "start_time": "2022-09-10T15:11:30.709Z"
   },
   {
    "duration": 55,
    "start_time": "2022-09-10T15:11:30.736Z"
   },
   {
    "duration": 529,
    "start_time": "2022-09-10T15:11:30.792Z"
   },
   {
    "duration": 192,
    "start_time": "2022-09-10T15:11:31.323Z"
   },
   {
    "duration": 139,
    "start_time": "2022-09-10T15:11:31.516Z"
   },
   {
    "duration": 4,
    "start_time": "2022-09-10T15:11:31.658Z"
   },
   {
    "duration": 113,
    "start_time": "2022-09-10T15:11:31.664Z"
   },
   {
    "duration": 0,
    "start_time": "2022-09-10T15:11:31.779Z"
   },
   {
    "duration": 0,
    "start_time": "2022-09-10T15:11:31.780Z"
   },
   {
    "duration": 0,
    "start_time": "2022-09-10T15:11:31.781Z"
   },
   {
    "duration": 0,
    "start_time": "2022-09-10T15:11:31.782Z"
   },
   {
    "duration": 0,
    "start_time": "2022-09-10T15:11:31.783Z"
   },
   {
    "duration": 0,
    "start_time": "2022-09-10T15:11:31.784Z"
   },
   {
    "duration": 0,
    "start_time": "2022-09-10T15:11:31.785Z"
   },
   {
    "duration": 0,
    "start_time": "2022-09-10T15:11:31.786Z"
   },
   {
    "duration": 0,
    "start_time": "2022-09-10T15:11:31.786Z"
   },
   {
    "duration": 0,
    "start_time": "2022-09-10T15:11:31.787Z"
   },
   {
    "duration": 0,
    "start_time": "2022-09-10T15:11:31.788Z"
   },
   {
    "duration": 0,
    "start_time": "2022-09-10T15:11:31.789Z"
   },
   {
    "duration": 0,
    "start_time": "2022-09-10T15:11:31.790Z"
   },
   {
    "duration": 0,
    "start_time": "2022-09-10T15:11:31.791Z"
   },
   {
    "duration": 0,
    "start_time": "2022-09-10T15:11:31.792Z"
   },
   {
    "duration": 0,
    "start_time": "2022-09-10T15:11:31.793Z"
   },
   {
    "duration": 1,
    "start_time": "2022-09-10T15:11:31.793Z"
   },
   {
    "duration": 0,
    "start_time": "2022-09-10T15:11:31.794Z"
   },
   {
    "duration": 6,
    "start_time": "2022-09-10T15:11:56.918Z"
   },
   {
    "duration": 13396,
    "start_time": "2022-09-10T15:11:57.963Z"
   },
   {
    "duration": 6,
    "start_time": "2022-09-10T15:12:23.030Z"
   },
   {
    "duration": 27318,
    "start_time": "2022-09-10T15:12:23.238Z"
   },
   {
    "duration": 5,
    "start_time": "2022-09-10T15:13:43.535Z"
   },
   {
    "duration": 27512,
    "start_time": "2022-09-10T15:13:43.830Z"
   },
   {
    "duration": 1106,
    "start_time": "2022-09-10T15:17:26.826Z"
   },
   {
    "duration": 48,
    "start_time": "2022-09-10T15:17:27.934Z"
   },
   {
    "duration": 12,
    "start_time": "2022-09-10T15:17:27.983Z"
   },
   {
    "duration": 10,
    "start_time": "2022-09-10T15:17:27.997Z"
   },
   {
    "duration": 8,
    "start_time": "2022-09-10T15:17:28.008Z"
   },
   {
    "duration": 6,
    "start_time": "2022-09-10T15:17:28.017Z"
   },
   {
    "duration": 7,
    "start_time": "2022-09-10T15:17:28.024Z"
   },
   {
    "duration": 8,
    "start_time": "2022-09-10T15:17:28.032Z"
   },
   {
    "duration": 6,
    "start_time": "2022-09-10T15:17:28.042Z"
   },
   {
    "duration": 8,
    "start_time": "2022-09-10T15:17:28.051Z"
   },
   {
    "duration": 480,
    "start_time": "2022-09-10T15:17:28.060Z"
   },
   {
    "duration": 184,
    "start_time": "2022-09-10T15:17:28.542Z"
   },
   {
    "duration": 152,
    "start_time": "2022-09-10T15:17:28.728Z"
   },
   {
    "duration": 5,
    "start_time": "2022-09-10T15:17:28.882Z"
   },
   {
    "duration": 110,
    "start_time": "2022-09-10T15:17:28.889Z"
   },
   {
    "duration": 0,
    "start_time": "2022-09-10T15:17:29.001Z"
   },
   {
    "duration": 0,
    "start_time": "2022-09-10T15:17:29.003Z"
   },
   {
    "duration": 0,
    "start_time": "2022-09-10T15:17:29.005Z"
   },
   {
    "duration": 0,
    "start_time": "2022-09-10T15:17:29.006Z"
   },
   {
    "duration": 0,
    "start_time": "2022-09-10T15:17:29.008Z"
   },
   {
    "duration": 0,
    "start_time": "2022-09-10T15:17:29.009Z"
   },
   {
    "duration": 0,
    "start_time": "2022-09-10T15:17:29.010Z"
   },
   {
    "duration": 0,
    "start_time": "2022-09-10T15:17:29.012Z"
   },
   {
    "duration": 0,
    "start_time": "2022-09-10T15:17:29.037Z"
   },
   {
    "duration": 0,
    "start_time": "2022-09-10T15:17:29.039Z"
   },
   {
    "duration": 0,
    "start_time": "2022-09-10T15:17:29.040Z"
   },
   {
    "duration": 0,
    "start_time": "2022-09-10T15:17:29.042Z"
   },
   {
    "duration": 0,
    "start_time": "2022-09-10T15:17:29.044Z"
   },
   {
    "duration": 0,
    "start_time": "2022-09-10T15:17:29.045Z"
   },
   {
    "duration": 0,
    "start_time": "2022-09-10T15:17:29.046Z"
   },
   {
    "duration": 0,
    "start_time": "2022-09-10T15:17:29.047Z"
   },
   {
    "duration": 0,
    "start_time": "2022-09-10T15:17:29.048Z"
   },
   {
    "duration": 0,
    "start_time": "2022-09-10T15:17:29.050Z"
   },
   {
    "duration": 6,
    "start_time": "2022-09-10T15:17:33.445Z"
   },
   {
    "duration": 100932,
    "start_time": "2022-09-10T15:17:34.805Z"
   },
   {
    "duration": 29,
    "start_time": "2022-09-10T15:23:10.285Z"
   },
   {
    "duration": 32,
    "start_time": "2022-09-10T15:24:27.033Z"
   },
   {
    "duration": 5,
    "start_time": "2022-09-10T15:24:36.541Z"
   },
   {
    "duration": 189430,
    "start_time": "2022-09-10T15:24:42.926Z"
   },
   {
    "duration": 6,
    "start_time": "2022-09-10T15:28:08.293Z"
   },
   {
    "duration": 20338,
    "start_time": "2022-09-10T15:28:09.201Z"
   },
   {
    "duration": 26643,
    "start_time": "2022-09-10T15:33:39.299Z"
   },
   {
    "duration": 1176,
    "start_time": "2022-09-10T15:35:52.282Z"
   },
   {
    "duration": 93,
    "start_time": "2022-09-10T15:35:53.459Z"
   },
   {
    "duration": 15,
    "start_time": "2022-09-10T15:35:53.554Z"
   },
   {
    "duration": 12,
    "start_time": "2022-09-10T15:35:53.572Z"
   },
   {
    "duration": 11,
    "start_time": "2022-09-10T15:35:53.638Z"
   },
   {
    "duration": 7,
    "start_time": "2022-09-10T15:35:53.651Z"
   },
   {
    "duration": 21,
    "start_time": "2022-09-10T15:35:53.660Z"
   },
   {
    "duration": 57,
    "start_time": "2022-09-10T15:35:53.683Z"
   },
   {
    "duration": 9,
    "start_time": "2022-09-10T15:35:53.742Z"
   },
   {
    "duration": 11,
    "start_time": "2022-09-10T15:35:53.754Z"
   },
   {
    "duration": 994,
    "start_time": "2022-09-10T15:35:53.767Z"
   },
   {
    "duration": 380,
    "start_time": "2022-09-10T15:35:54.762Z"
   },
   {
    "duration": 234,
    "start_time": "2022-09-10T15:35:55.144Z"
   },
   {
    "duration": 4,
    "start_time": "2022-09-10T15:35:55.380Z"
   },
   {
    "duration": 203,
    "start_time": "2022-09-10T15:35:55.438Z"
   },
   {
    "duration": 0,
    "start_time": "2022-09-10T15:35:55.643Z"
   },
   {
    "duration": 0,
    "start_time": "2022-09-10T15:35:55.644Z"
   },
   {
    "duration": 0,
    "start_time": "2022-09-10T15:35:55.645Z"
   },
   {
    "duration": 0,
    "start_time": "2022-09-10T15:35:55.646Z"
   },
   {
    "duration": 0,
    "start_time": "2022-09-10T15:35:55.647Z"
   },
   {
    "duration": 0,
    "start_time": "2022-09-10T15:35:55.648Z"
   },
   {
    "duration": 0,
    "start_time": "2022-09-10T15:35:55.649Z"
   },
   {
    "duration": 0,
    "start_time": "2022-09-10T15:35:55.650Z"
   },
   {
    "duration": 0,
    "start_time": "2022-09-10T15:35:55.651Z"
   },
   {
    "duration": 0,
    "start_time": "2022-09-10T15:35:55.653Z"
   },
   {
    "duration": 0,
    "start_time": "2022-09-10T15:35:55.654Z"
   },
   {
    "duration": 0,
    "start_time": "2022-09-10T15:35:55.655Z"
   },
   {
    "duration": 0,
    "start_time": "2022-09-10T15:35:55.656Z"
   },
   {
    "duration": 0,
    "start_time": "2022-09-10T15:35:55.657Z"
   },
   {
    "duration": 0,
    "start_time": "2022-09-10T15:35:55.658Z"
   },
   {
    "duration": 0,
    "start_time": "2022-09-10T15:35:55.659Z"
   },
   {
    "duration": 0,
    "start_time": "2022-09-10T15:35:55.660Z"
   },
   {
    "duration": 0,
    "start_time": "2022-09-10T15:35:55.661Z"
   },
   {
    "duration": 0,
    "start_time": "2022-09-10T15:35:55.662Z"
   },
   {
    "duration": 11,
    "start_time": "2022-09-10T15:36:02.582Z"
   },
   {
    "duration": 8300,
    "start_time": "2022-09-10T15:36:35.236Z"
   },
   {
    "duration": 983,
    "start_time": "2022-09-10T15:40:47.498Z"
   },
   {
    "duration": 48,
    "start_time": "2022-09-10T15:40:48.483Z"
   },
   {
    "duration": 85,
    "start_time": "2022-09-10T15:40:48.532Z"
   },
   {
    "duration": 0,
    "start_time": "2022-09-10T15:40:48.620Z"
   },
   {
    "duration": 0,
    "start_time": "2022-09-10T15:40:48.621Z"
   },
   {
    "duration": 0,
    "start_time": "2022-09-10T15:40:48.622Z"
   },
   {
    "duration": 0,
    "start_time": "2022-09-10T15:40:48.623Z"
   },
   {
    "duration": 0,
    "start_time": "2022-09-10T15:40:48.624Z"
   },
   {
    "duration": 0,
    "start_time": "2022-09-10T15:40:48.625Z"
   },
   {
    "duration": 0,
    "start_time": "2022-09-10T15:40:48.637Z"
   },
   {
    "duration": 0,
    "start_time": "2022-09-10T15:40:48.638Z"
   },
   {
    "duration": 0,
    "start_time": "2022-09-10T15:40:48.639Z"
   },
   {
    "duration": 0,
    "start_time": "2022-09-10T15:40:48.639Z"
   },
   {
    "duration": 0,
    "start_time": "2022-09-10T15:40:48.640Z"
   },
   {
    "duration": 0,
    "start_time": "2022-09-10T15:40:48.642Z"
   },
   {
    "duration": 0,
    "start_time": "2022-09-10T15:40:48.643Z"
   },
   {
    "duration": 0,
    "start_time": "2022-09-10T15:40:48.644Z"
   },
   {
    "duration": 0,
    "start_time": "2022-09-10T15:40:48.645Z"
   },
   {
    "duration": 0,
    "start_time": "2022-09-10T15:40:48.646Z"
   },
   {
    "duration": 0,
    "start_time": "2022-09-10T15:40:48.646Z"
   },
   {
    "duration": 0,
    "start_time": "2022-09-10T15:40:48.647Z"
   },
   {
    "duration": 0,
    "start_time": "2022-09-10T15:40:48.648Z"
   },
   {
    "duration": 0,
    "start_time": "2022-09-10T15:40:48.650Z"
   },
   {
    "duration": 0,
    "start_time": "2022-09-10T15:40:48.650Z"
   },
   {
    "duration": 0,
    "start_time": "2022-09-10T15:40:48.651Z"
   },
   {
    "duration": 0,
    "start_time": "2022-09-10T15:40:48.652Z"
   },
   {
    "duration": 0,
    "start_time": "2022-09-10T15:40:48.653Z"
   },
   {
    "duration": 0,
    "start_time": "2022-09-10T15:40:48.654Z"
   },
   {
    "duration": 0,
    "start_time": "2022-09-10T15:40:48.655Z"
   },
   {
    "duration": 0,
    "start_time": "2022-09-10T15:40:48.656Z"
   },
   {
    "duration": 0,
    "start_time": "2022-09-10T15:40:48.657Z"
   },
   {
    "duration": 0,
    "start_time": "2022-09-10T15:40:48.658Z"
   },
   {
    "duration": 0,
    "start_time": "2022-09-10T15:40:48.659Z"
   },
   {
    "duration": 0,
    "start_time": "2022-09-10T15:40:48.660Z"
   },
   {
    "duration": 0,
    "start_time": "2022-09-10T15:40:48.661Z"
   },
   {
    "duration": 0,
    "start_time": "2022-09-10T15:40:48.662Z"
   },
   {
    "duration": 8,
    "start_time": "2022-09-10T15:41:51.382Z"
   },
   {
    "duration": 3,
    "start_time": "2022-09-10T15:41:56.856Z"
   },
   {
    "duration": 47,
    "start_time": "2022-09-10T15:41:57.123Z"
   },
   {
    "duration": 8,
    "start_time": "2022-09-10T15:41:57.649Z"
   },
   {
    "duration": 8,
    "start_time": "2022-09-10T15:42:04.652Z"
   },
   {
    "duration": 1050,
    "start_time": "2022-09-10T15:42:10.156Z"
   },
   {
    "duration": 51,
    "start_time": "2022-09-10T15:42:11.208Z"
   },
   {
    "duration": 9,
    "start_time": "2022-09-10T15:42:11.261Z"
   },
   {
    "duration": 18,
    "start_time": "2022-09-10T15:42:11.272Z"
   },
   {
    "duration": 14,
    "start_time": "2022-09-10T15:42:11.293Z"
   },
   {
    "duration": 28,
    "start_time": "2022-09-10T15:42:11.309Z"
   },
   {
    "duration": 7,
    "start_time": "2022-09-10T15:42:11.339Z"
   },
   {
    "duration": 12,
    "start_time": "2022-09-10T15:42:11.348Z"
   },
   {
    "duration": 10,
    "start_time": "2022-09-10T15:42:11.362Z"
   },
   {
    "duration": 15,
    "start_time": "2022-09-10T15:42:11.375Z"
   },
   {
    "duration": 14,
    "start_time": "2022-09-10T15:42:11.392Z"
   },
   {
    "duration": 505,
    "start_time": "2022-09-10T15:42:11.408Z"
   },
   {
    "duration": 191,
    "start_time": "2022-09-10T15:42:11.915Z"
   },
   {
    "duration": 138,
    "start_time": "2022-09-10T15:42:12.109Z"
   },
   {
    "duration": 4,
    "start_time": "2022-09-10T15:42:12.248Z"
   },
   {
    "duration": 14,
    "start_time": "2022-09-10T15:42:12.253Z"
   },
   {
    "duration": 100,
    "start_time": "2022-09-10T15:42:12.268Z"
   },
   {
    "duration": 0,
    "start_time": "2022-09-10T15:42:12.370Z"
   },
   {
    "duration": 0,
    "start_time": "2022-09-10T15:42:12.371Z"
   },
   {
    "duration": 0,
    "start_time": "2022-09-10T15:42:12.372Z"
   },
   {
    "duration": 0,
    "start_time": "2022-09-10T15:42:12.374Z"
   },
   {
    "duration": 0,
    "start_time": "2022-09-10T15:42:12.376Z"
   },
   {
    "duration": 0,
    "start_time": "2022-09-10T15:42:12.377Z"
   },
   {
    "duration": 0,
    "start_time": "2022-09-10T15:42:12.378Z"
   },
   {
    "duration": 0,
    "start_time": "2022-09-10T15:42:12.380Z"
   },
   {
    "duration": 0,
    "start_time": "2022-09-10T15:42:12.381Z"
   },
   {
    "duration": 0,
    "start_time": "2022-09-10T15:42:12.382Z"
   },
   {
    "duration": 1,
    "start_time": "2022-09-10T15:42:12.383Z"
   },
   {
    "duration": 0,
    "start_time": "2022-09-10T15:42:12.385Z"
   },
   {
    "duration": 0,
    "start_time": "2022-09-10T15:42:12.387Z"
   },
   {
    "duration": 0,
    "start_time": "2022-09-10T15:42:12.388Z"
   },
   {
    "duration": 0,
    "start_time": "2022-09-10T15:42:12.390Z"
   },
   {
    "duration": 0,
    "start_time": "2022-09-10T15:42:12.391Z"
   },
   {
    "duration": 0,
    "start_time": "2022-09-10T15:42:12.392Z"
   },
   {
    "duration": 0,
    "start_time": "2022-09-10T15:42:12.393Z"
   },
   {
    "duration": 0,
    "start_time": "2022-09-10T15:42:12.395Z"
   },
   {
    "duration": 7304,
    "start_time": "2022-09-10T15:42:17.042Z"
   },
   {
    "duration": 1077,
    "start_time": "2022-09-10T15:59:52.144Z"
   },
   {
    "duration": 48,
    "start_time": "2022-09-10T15:59:53.222Z"
   },
   {
    "duration": 8,
    "start_time": "2022-09-10T15:59:53.271Z"
   },
   {
    "duration": 29,
    "start_time": "2022-09-10T15:59:53.281Z"
   },
   {
    "duration": 18,
    "start_time": "2022-09-10T15:59:53.311Z"
   },
   {
    "duration": 21,
    "start_time": "2022-09-10T15:59:53.330Z"
   },
   {
    "duration": 27,
    "start_time": "2022-09-10T15:59:53.353Z"
   },
   {
    "duration": 25,
    "start_time": "2022-09-10T15:59:53.382Z"
   },
   {
    "duration": 50,
    "start_time": "2022-09-10T15:59:53.409Z"
   },
   {
    "duration": 30,
    "start_time": "2022-09-10T15:59:53.462Z"
   },
   {
    "duration": 36,
    "start_time": "2022-09-10T15:59:53.493Z"
   },
   {
    "duration": 491,
    "start_time": "2022-09-10T15:59:53.531Z"
   },
   {
    "duration": 199,
    "start_time": "2022-09-10T15:59:54.023Z"
   },
   {
    "duration": 137,
    "start_time": "2022-09-10T15:59:54.223Z"
   },
   {
    "duration": 4,
    "start_time": "2022-09-10T15:59:54.362Z"
   },
   {
    "duration": 18,
    "start_time": "2022-09-10T15:59:54.368Z"
   },
   {
    "duration": 106,
    "start_time": "2022-09-10T15:59:54.388Z"
   },
   {
    "duration": 0,
    "start_time": "2022-09-10T15:59:54.496Z"
   },
   {
    "duration": 0,
    "start_time": "2022-09-10T15:59:54.497Z"
   },
   {
    "duration": 0,
    "start_time": "2022-09-10T15:59:54.498Z"
   },
   {
    "duration": 0,
    "start_time": "2022-09-10T15:59:54.499Z"
   },
   {
    "duration": 0,
    "start_time": "2022-09-10T15:59:54.500Z"
   },
   {
    "duration": 0,
    "start_time": "2022-09-10T15:59:54.501Z"
   },
   {
    "duration": 0,
    "start_time": "2022-09-10T15:59:54.502Z"
   },
   {
    "duration": 0,
    "start_time": "2022-09-10T15:59:54.503Z"
   },
   {
    "duration": 0,
    "start_time": "2022-09-10T15:59:54.504Z"
   },
   {
    "duration": 0,
    "start_time": "2022-09-10T15:59:54.506Z"
   },
   {
    "duration": 0,
    "start_time": "2022-09-10T15:59:54.506Z"
   },
   {
    "duration": 0,
    "start_time": "2022-09-10T15:59:54.507Z"
   },
   {
    "duration": 0,
    "start_time": "2022-09-10T15:59:54.508Z"
   },
   {
    "duration": 0,
    "start_time": "2022-09-10T15:59:54.509Z"
   },
   {
    "duration": 0,
    "start_time": "2022-09-10T15:59:54.537Z"
   },
   {
    "duration": 0,
    "start_time": "2022-09-10T15:59:54.538Z"
   },
   {
    "duration": 0,
    "start_time": "2022-09-10T15:59:54.539Z"
   },
   {
    "duration": 0,
    "start_time": "2022-09-10T15:59:54.540Z"
   },
   {
    "duration": 0,
    "start_time": "2022-09-10T15:59:54.541Z"
   },
   {
    "duration": 11726,
    "start_time": "2022-09-10T16:00:02.828Z"
   },
   {
    "duration": 1066,
    "start_time": "2022-09-10T16:01:16.475Z"
   },
   {
    "duration": 52,
    "start_time": "2022-09-10T16:01:17.542Z"
   },
   {
    "duration": 9,
    "start_time": "2022-09-10T16:01:17.595Z"
   },
   {
    "duration": 19,
    "start_time": "2022-09-10T16:01:17.605Z"
   },
   {
    "duration": 15,
    "start_time": "2022-09-10T16:01:17.626Z"
   },
   {
    "duration": 19,
    "start_time": "2022-09-10T16:01:17.643Z"
   },
   {
    "duration": 8,
    "start_time": "2022-09-10T16:01:17.664Z"
   },
   {
    "duration": 13,
    "start_time": "2022-09-10T16:01:17.674Z"
   },
   {
    "duration": 20,
    "start_time": "2022-09-10T16:01:17.689Z"
   },
   {
    "duration": 11,
    "start_time": "2022-09-10T16:01:17.710Z"
   },
   {
    "duration": 22,
    "start_time": "2022-09-10T16:01:17.723Z"
   },
   {
    "duration": 506,
    "start_time": "2022-09-10T16:01:17.746Z"
   },
   {
    "duration": 178,
    "start_time": "2022-09-10T16:01:18.254Z"
   },
   {
    "duration": 139,
    "start_time": "2022-09-10T16:01:18.436Z"
   },
   {
    "duration": 4,
    "start_time": "2022-09-10T16:01:18.576Z"
   },
   {
    "duration": 14,
    "start_time": "2022-09-10T16:01:18.582Z"
   },
   {
    "duration": 103,
    "start_time": "2022-09-10T16:01:18.598Z"
   },
   {
    "duration": 0,
    "start_time": "2022-09-10T16:01:18.703Z"
   },
   {
    "duration": 0,
    "start_time": "2022-09-10T16:01:18.704Z"
   },
   {
    "duration": 0,
    "start_time": "2022-09-10T16:01:18.705Z"
   },
   {
    "duration": 0,
    "start_time": "2022-09-10T16:01:18.706Z"
   },
   {
    "duration": 0,
    "start_time": "2022-09-10T16:01:18.707Z"
   },
   {
    "duration": 0,
    "start_time": "2022-09-10T16:01:18.709Z"
   },
   {
    "duration": 0,
    "start_time": "2022-09-10T16:01:18.711Z"
   },
   {
    "duration": 0,
    "start_time": "2022-09-10T16:01:18.712Z"
   },
   {
    "duration": 0,
    "start_time": "2022-09-10T16:01:18.737Z"
   },
   {
    "duration": 0,
    "start_time": "2022-09-10T16:01:18.738Z"
   },
   {
    "duration": 0,
    "start_time": "2022-09-10T16:01:18.740Z"
   },
   {
    "duration": 0,
    "start_time": "2022-09-10T16:01:18.741Z"
   },
   {
    "duration": 0,
    "start_time": "2022-09-10T16:01:18.742Z"
   },
   {
    "duration": 0,
    "start_time": "2022-09-10T16:01:18.744Z"
   },
   {
    "duration": 0,
    "start_time": "2022-09-10T16:01:18.745Z"
   },
   {
    "duration": 0,
    "start_time": "2022-09-10T16:01:18.746Z"
   },
   {
    "duration": 0,
    "start_time": "2022-09-10T16:01:18.748Z"
   },
   {
    "duration": 0,
    "start_time": "2022-09-10T16:01:18.749Z"
   },
   {
    "duration": 0,
    "start_time": "2022-09-10T16:01:18.750Z"
   },
   {
    "duration": 12392,
    "start_time": "2022-09-10T16:01:24.347Z"
   },
   {
    "duration": 1010,
    "start_time": "2022-09-10T16:04:43.581Z"
   },
   {
    "duration": 50,
    "start_time": "2022-09-10T16:04:44.593Z"
   },
   {
    "duration": 8,
    "start_time": "2022-09-10T16:04:44.645Z"
   },
   {
    "duration": 13,
    "start_time": "2022-09-10T16:04:44.654Z"
   },
   {
    "duration": 14,
    "start_time": "2022-09-10T16:04:44.670Z"
   },
   {
    "duration": 8,
    "start_time": "2022-09-10T16:04:44.686Z"
   },
   {
    "duration": 8,
    "start_time": "2022-09-10T16:04:44.695Z"
   },
   {
    "duration": 34,
    "start_time": "2022-09-10T16:04:44.704Z"
   },
   {
    "duration": 6,
    "start_time": "2022-09-10T16:04:44.739Z"
   },
   {
    "duration": 10,
    "start_time": "2022-09-10T16:04:44.746Z"
   },
   {
    "duration": 13,
    "start_time": "2022-09-10T16:04:44.758Z"
   },
   {
    "duration": 533,
    "start_time": "2022-09-10T16:04:44.773Z"
   },
   {
    "duration": 208,
    "start_time": "2022-09-10T16:04:45.308Z"
   },
   {
    "duration": 160,
    "start_time": "2022-09-10T16:04:45.519Z"
   },
   {
    "duration": 4,
    "start_time": "2022-09-10T16:04:45.681Z"
   },
   {
    "duration": 12,
    "start_time": "2022-09-10T16:04:45.687Z"
   },
   {
    "duration": 113,
    "start_time": "2022-09-10T16:04:45.701Z"
   },
   {
    "duration": 0,
    "start_time": "2022-09-10T16:04:45.816Z"
   },
   {
    "duration": 0,
    "start_time": "2022-09-10T16:04:45.817Z"
   },
   {
    "duration": 0,
    "start_time": "2022-09-10T16:04:45.818Z"
   },
   {
    "duration": 0,
    "start_time": "2022-09-10T16:04:45.820Z"
   },
   {
    "duration": 0,
    "start_time": "2022-09-10T16:04:45.821Z"
   },
   {
    "duration": 0,
    "start_time": "2022-09-10T16:04:45.822Z"
   },
   {
    "duration": 1,
    "start_time": "2022-09-10T16:04:45.837Z"
   },
   {
    "duration": 0,
    "start_time": "2022-09-10T16:04:45.839Z"
   },
   {
    "duration": 0,
    "start_time": "2022-09-10T16:04:45.840Z"
   },
   {
    "duration": 0,
    "start_time": "2022-09-10T16:04:45.841Z"
   },
   {
    "duration": 0,
    "start_time": "2022-09-10T16:04:45.843Z"
   },
   {
    "duration": 0,
    "start_time": "2022-09-10T16:04:45.844Z"
   },
   {
    "duration": 0,
    "start_time": "2022-09-10T16:04:45.845Z"
   },
   {
    "duration": 0,
    "start_time": "2022-09-10T16:04:45.847Z"
   },
   {
    "duration": 0,
    "start_time": "2022-09-10T16:04:45.848Z"
   },
   {
    "duration": 0,
    "start_time": "2022-09-10T16:04:45.849Z"
   },
   {
    "duration": 0,
    "start_time": "2022-09-10T16:04:45.851Z"
   },
   {
    "duration": 0,
    "start_time": "2022-09-10T16:04:45.852Z"
   },
   {
    "duration": 0,
    "start_time": "2022-09-10T16:04:45.854Z"
   },
   {
    "duration": 12839,
    "start_time": "2022-09-10T16:04:50.502Z"
   },
   {
    "duration": 5,
    "start_time": "2022-09-10T16:09:49.191Z"
   },
   {
    "duration": 15075,
    "start_time": "2022-09-10T16:10:00.568Z"
   },
   {
    "duration": 6,
    "start_time": "2022-09-10T16:10:44.153Z"
   },
   {
    "duration": 148659,
    "start_time": "2022-09-10T16:10:44.777Z"
   },
   {
    "duration": 6,
    "start_time": "2022-09-10T16:14:40.169Z"
   },
   {
    "duration": 6,
    "start_time": "2022-09-10T16:14:56.971Z"
   },
   {
    "duration": 571134,
    "start_time": "2022-09-10T16:14:58.106Z"
   },
   {
    "duration": 0,
    "start_time": "2022-09-10T16:39:03.840Z"
   },
   {
    "duration": 0,
    "start_time": "2022-09-10T16:39:03.841Z"
   },
   {
    "duration": 0,
    "start_time": "2022-09-10T16:39:03.842Z"
   },
   {
    "duration": 0,
    "start_time": "2022-09-10T16:39:03.843Z"
   },
   {
    "duration": 0,
    "start_time": "2022-09-10T16:39:03.845Z"
   },
   {
    "duration": 0,
    "start_time": "2022-09-10T16:39:03.846Z"
   },
   {
    "duration": 0,
    "start_time": "2022-09-10T16:39:03.848Z"
   },
   {
    "duration": 0,
    "start_time": "2022-09-10T16:39:03.849Z"
   },
   {
    "duration": 0,
    "start_time": "2022-09-10T16:39:03.850Z"
   },
   {
    "duration": 0,
    "start_time": "2022-09-10T16:39:03.851Z"
   },
   {
    "duration": 0,
    "start_time": "2022-09-10T16:39:03.853Z"
   },
   {
    "duration": 0,
    "start_time": "2022-09-10T16:39:03.854Z"
   },
   {
    "duration": 0,
    "start_time": "2022-09-10T16:39:03.855Z"
   },
   {
    "duration": 1,
    "start_time": "2022-09-10T16:39:03.856Z"
   },
   {
    "duration": 0,
    "start_time": "2022-09-10T16:39:03.858Z"
   },
   {
    "duration": 0,
    "start_time": "2022-09-10T16:39:03.859Z"
   },
   {
    "duration": 0,
    "start_time": "2022-09-10T16:39:03.861Z"
   },
   {
    "duration": 0,
    "start_time": "2022-09-10T16:39:03.862Z"
   },
   {
    "duration": 0,
    "start_time": "2022-09-10T16:39:03.863Z"
   },
   {
    "duration": 0,
    "start_time": "2022-09-10T16:39:03.865Z"
   },
   {
    "duration": 0,
    "start_time": "2022-09-10T16:39:03.866Z"
   },
   {
    "duration": 0,
    "start_time": "2022-09-10T16:39:03.867Z"
   },
   {
    "duration": 0,
    "start_time": "2022-09-10T16:39:03.868Z"
   },
   {
    "duration": 0,
    "start_time": "2022-09-10T16:39:03.870Z"
   },
   {
    "duration": 0,
    "start_time": "2022-09-10T16:39:03.871Z"
   },
   {
    "duration": 0,
    "start_time": "2022-09-10T16:39:03.872Z"
   },
   {
    "duration": 0,
    "start_time": "2022-09-10T16:39:03.873Z"
   },
   {
    "duration": 0,
    "start_time": "2022-09-10T16:39:03.874Z"
   },
   {
    "duration": 0,
    "start_time": "2022-09-10T16:39:03.875Z"
   },
   {
    "duration": 0,
    "start_time": "2022-09-10T16:39:03.876Z"
   },
   {
    "duration": 0,
    "start_time": "2022-09-10T16:39:03.877Z"
   },
   {
    "duration": 1039,
    "start_time": "2022-09-10T16:39:14.260Z"
   },
   {
    "duration": 49,
    "start_time": "2022-09-10T16:39:15.301Z"
   },
   {
    "duration": 10,
    "start_time": "2022-09-10T16:39:15.351Z"
   },
   {
    "duration": 15,
    "start_time": "2022-09-10T16:39:15.364Z"
   },
   {
    "duration": 15,
    "start_time": "2022-09-10T16:39:15.381Z"
   },
   {
    "duration": 11,
    "start_time": "2022-09-10T16:39:15.397Z"
   },
   {
    "duration": 9,
    "start_time": "2022-09-10T16:39:15.409Z"
   },
   {
    "duration": 23,
    "start_time": "2022-09-10T16:39:15.419Z"
   },
   {
    "duration": 19,
    "start_time": "2022-09-10T16:39:15.443Z"
   },
   {
    "duration": 8,
    "start_time": "2022-09-10T16:39:15.465Z"
   },
   {
    "duration": 20,
    "start_time": "2022-09-10T16:39:15.474Z"
   },
   {
    "duration": 514,
    "start_time": "2022-09-10T16:39:15.496Z"
   },
   {
    "duration": 186,
    "start_time": "2022-09-10T16:39:16.011Z"
   },
   {
    "duration": 148,
    "start_time": "2022-09-10T16:39:16.199Z"
   },
   {
    "duration": 3,
    "start_time": "2022-09-10T16:39:16.349Z"
   },
   {
    "duration": 13,
    "start_time": "2022-09-10T16:39:16.353Z"
   },
   {
    "duration": 108,
    "start_time": "2022-09-10T16:39:16.367Z"
   },
   {
    "duration": 0,
    "start_time": "2022-09-10T16:39:16.477Z"
   },
   {
    "duration": 0,
    "start_time": "2022-09-10T16:39:16.478Z"
   },
   {
    "duration": 0,
    "start_time": "2022-09-10T16:39:16.479Z"
   },
   {
    "duration": 0,
    "start_time": "2022-09-10T16:39:16.480Z"
   },
   {
    "duration": 0,
    "start_time": "2022-09-10T16:39:16.481Z"
   },
   {
    "duration": 0,
    "start_time": "2022-09-10T16:39:16.482Z"
   },
   {
    "duration": 0,
    "start_time": "2022-09-10T16:39:16.483Z"
   },
   {
    "duration": 0,
    "start_time": "2022-09-10T16:39:16.484Z"
   },
   {
    "duration": 0,
    "start_time": "2022-09-10T16:39:16.485Z"
   },
   {
    "duration": 0,
    "start_time": "2022-09-10T16:39:16.486Z"
   },
   {
    "duration": 0,
    "start_time": "2022-09-10T16:39:16.487Z"
   },
   {
    "duration": 0,
    "start_time": "2022-09-10T16:39:16.488Z"
   },
   {
    "duration": 0,
    "start_time": "2022-09-10T16:39:16.489Z"
   },
   {
    "duration": 0,
    "start_time": "2022-09-10T16:39:16.490Z"
   },
   {
    "duration": 7,
    "start_time": "2022-09-10T16:39:25.569Z"
   },
   {
    "duration": 94,
    "start_time": "2022-09-10T16:39:29.718Z"
   },
   {
    "duration": 7,
    "start_time": "2022-09-10T16:40:13.895Z"
   },
   {
    "duration": 91,
    "start_time": "2022-09-10T16:40:14.356Z"
   },
   {
    "duration": 7,
    "start_time": "2022-09-10T16:40:39.431Z"
   },
   {
    "duration": 88781,
    "start_time": "2022-09-10T16:40:39.962Z"
   },
   {
    "duration": 1046,
    "start_time": "2022-09-10T16:45:49.845Z"
   },
   {
    "duration": 48,
    "start_time": "2022-09-10T16:45:50.893Z"
   },
   {
    "duration": 8,
    "start_time": "2022-09-10T16:45:50.942Z"
   },
   {
    "duration": 9,
    "start_time": "2022-09-10T16:45:50.952Z"
   },
   {
    "duration": 14,
    "start_time": "2022-09-10T16:45:50.963Z"
   },
   {
    "duration": 7,
    "start_time": "2022-09-10T16:45:50.978Z"
   },
   {
    "duration": 7,
    "start_time": "2022-09-10T16:45:50.987Z"
   },
   {
    "duration": 9,
    "start_time": "2022-09-10T16:45:50.996Z"
   },
   {
    "duration": 13,
    "start_time": "2022-09-10T16:45:51.006Z"
   },
   {
    "duration": 5,
    "start_time": "2022-09-10T16:45:51.036Z"
   },
   {
    "duration": 13,
    "start_time": "2022-09-10T16:45:51.042Z"
   },
   {
    "duration": 481,
    "start_time": "2022-09-10T16:45:51.056Z"
   },
   {
    "duration": 175,
    "start_time": "2022-09-10T16:45:51.539Z"
   },
   {
    "duration": 144,
    "start_time": "2022-09-10T16:45:51.715Z"
   },
   {
    "duration": 1028,
    "start_time": "2022-09-10T16:45:51.860Z"
   },
   {
    "duration": 0,
    "start_time": "2022-09-10T16:45:52.890Z"
   },
   {
    "duration": 0,
    "start_time": "2022-09-10T16:45:52.891Z"
   },
   {
    "duration": 0,
    "start_time": "2022-09-10T16:45:52.891Z"
   },
   {
    "duration": 0,
    "start_time": "2022-09-10T16:45:52.892Z"
   },
   {
    "duration": 0,
    "start_time": "2022-09-10T16:45:52.893Z"
   },
   {
    "duration": 0,
    "start_time": "2022-09-10T16:45:52.894Z"
   },
   {
    "duration": 0,
    "start_time": "2022-09-10T16:45:52.895Z"
   },
   {
    "duration": 0,
    "start_time": "2022-09-10T16:45:52.896Z"
   },
   {
    "duration": 0,
    "start_time": "2022-09-10T16:45:52.897Z"
   },
   {
    "duration": 0,
    "start_time": "2022-09-10T16:45:52.898Z"
   },
   {
    "duration": 0,
    "start_time": "2022-09-10T16:45:52.899Z"
   },
   {
    "duration": 0,
    "start_time": "2022-09-10T16:45:52.900Z"
   },
   {
    "duration": 0,
    "start_time": "2022-09-10T16:45:52.900Z"
   },
   {
    "duration": 0,
    "start_time": "2022-09-10T16:45:52.901Z"
   },
   {
    "duration": 0,
    "start_time": "2022-09-10T16:45:52.902Z"
   },
   {
    "duration": 0,
    "start_time": "2022-09-10T16:45:52.903Z"
   },
   {
    "duration": 0,
    "start_time": "2022-09-10T16:45:52.905Z"
   },
   {
    "duration": 0,
    "start_time": "2022-09-10T16:45:52.905Z"
   },
   {
    "duration": 12,
    "start_time": "2022-09-10T16:46:05.355Z"
   },
   {
    "duration": 321,
    "start_time": "2022-09-10T16:46:09.291Z"
   },
   {
    "duration": 12,
    "start_time": "2022-09-10T16:46:18.218Z"
   },
   {
    "duration": 4,
    "start_time": "2022-09-10T16:46:28.611Z"
   },
   {
    "duration": 9,
    "start_time": "2022-09-10T16:46:30.786Z"
   },
   {
    "duration": 127920,
    "start_time": "2022-09-10T16:46:31.519Z"
   },
   {
    "duration": 6,
    "start_time": "2022-09-10T16:50:23.691Z"
   },
   {
    "duration": 237476,
    "start_time": "2022-09-10T16:50:23.863Z"
   },
   {
    "duration": 1035,
    "start_time": "2022-09-10T16:56:39.087Z"
   },
   {
    "duration": 48,
    "start_time": "2022-09-10T16:56:40.124Z"
   },
   {
    "duration": 8,
    "start_time": "2022-09-10T16:56:40.176Z"
   },
   {
    "duration": 11,
    "start_time": "2022-09-10T16:56:40.186Z"
   },
   {
    "duration": 12,
    "start_time": "2022-09-10T16:56:40.199Z"
   },
   {
    "duration": 8,
    "start_time": "2022-09-10T16:56:40.213Z"
   },
   {
    "duration": 7,
    "start_time": "2022-09-10T16:56:40.222Z"
   },
   {
    "duration": 5,
    "start_time": "2022-09-10T16:56:40.237Z"
   },
   {
    "duration": 6,
    "start_time": "2022-09-10T16:56:40.244Z"
   },
   {
    "duration": 7,
    "start_time": "2022-09-10T16:56:40.252Z"
   },
   {
    "duration": 11,
    "start_time": "2022-09-10T16:56:40.260Z"
   },
   {
    "duration": 575,
    "start_time": "2022-09-10T16:56:40.273Z"
   },
   {
    "duration": 176,
    "start_time": "2022-09-10T16:56:40.851Z"
   },
   {
    "duration": 138,
    "start_time": "2022-09-10T16:56:41.028Z"
   },
   {
    "duration": 2,
    "start_time": "2022-09-10T16:56:41.167Z"
   },
   {
    "duration": 16,
    "start_time": "2022-09-10T16:56:41.171Z"
   },
   {
    "duration": 6,
    "start_time": "2022-09-10T16:56:41.188Z"
   },
   {
    "duration": 13,
    "start_time": "2022-09-10T16:56:41.195Z"
   },
   {
    "duration": 113,
    "start_time": "2022-09-10T16:56:41.209Z"
   },
   {
    "duration": 0,
    "start_time": "2022-09-10T16:56:41.323Z"
   },
   {
    "duration": 0,
    "start_time": "2022-09-10T16:56:41.324Z"
   },
   {
    "duration": 0,
    "start_time": "2022-09-10T16:56:41.325Z"
   },
   {
    "duration": 0,
    "start_time": "2022-09-10T16:56:41.326Z"
   },
   {
    "duration": 0,
    "start_time": "2022-09-10T16:56:41.327Z"
   },
   {
    "duration": 0,
    "start_time": "2022-09-10T16:56:41.328Z"
   },
   {
    "duration": 0,
    "start_time": "2022-09-10T16:56:41.329Z"
   },
   {
    "duration": 0,
    "start_time": "2022-09-10T16:56:41.337Z"
   },
   {
    "duration": 0,
    "start_time": "2022-09-10T16:56:41.338Z"
   },
   {
    "duration": 0,
    "start_time": "2022-09-10T16:56:41.339Z"
   },
   {
    "duration": 0,
    "start_time": "2022-09-10T16:56:41.340Z"
   },
   {
    "duration": 0,
    "start_time": "2022-09-10T16:56:41.341Z"
   },
   {
    "duration": 0,
    "start_time": "2022-09-10T16:56:41.342Z"
   },
   {
    "duration": 0,
    "start_time": "2022-09-10T16:56:41.343Z"
   },
   {
    "duration": 7,
    "start_time": "2022-09-10T16:56:48.439Z"
   },
   {
    "duration": 80093,
    "start_time": "2022-09-10T16:56:49.247Z"
   },
   {
    "duration": 1072,
    "start_time": "2022-09-10T17:16:09.833Z"
   },
   {
    "duration": 52,
    "start_time": "2022-09-10T17:16:10.907Z"
   },
   {
    "duration": 8,
    "start_time": "2022-09-10T17:16:10.961Z"
   },
   {
    "duration": 20,
    "start_time": "2022-09-10T17:16:10.970Z"
   },
   {
    "duration": 10,
    "start_time": "2022-09-10T17:16:10.992Z"
   },
   {
    "duration": 18,
    "start_time": "2022-09-10T17:16:11.003Z"
   },
   {
    "duration": 14,
    "start_time": "2022-09-10T17:16:11.022Z"
   },
   {
    "duration": 19,
    "start_time": "2022-09-10T17:16:11.042Z"
   },
   {
    "duration": 14,
    "start_time": "2022-09-10T17:16:11.063Z"
   },
   {
    "duration": 9,
    "start_time": "2022-09-10T17:16:11.078Z"
   },
   {
    "duration": 13,
    "start_time": "2022-09-10T17:16:11.089Z"
   },
   {
    "duration": 537,
    "start_time": "2022-09-10T17:16:11.104Z"
   },
   {
    "duration": 184,
    "start_time": "2022-09-10T17:16:11.643Z"
   },
   {
    "duration": 146,
    "start_time": "2022-09-10T17:16:11.830Z"
   },
   {
    "duration": 2,
    "start_time": "2022-09-10T17:16:11.977Z"
   },
   {
    "duration": 19,
    "start_time": "2022-09-10T17:16:11.981Z"
   },
   {
    "duration": 15,
    "start_time": "2022-09-10T17:16:12.002Z"
   },
   {
    "duration": 20,
    "start_time": "2022-09-10T17:16:12.018Z"
   },
   {
    "duration": 120,
    "start_time": "2022-09-10T17:16:12.043Z"
   },
   {
    "duration": 0,
    "start_time": "2022-09-10T17:16:12.166Z"
   },
   {
    "duration": 0,
    "start_time": "2022-09-10T17:16:12.167Z"
   },
   {
    "duration": 0,
    "start_time": "2022-09-10T17:16:12.168Z"
   },
   {
    "duration": 0,
    "start_time": "2022-09-10T17:16:12.169Z"
   },
   {
    "duration": 0,
    "start_time": "2022-09-10T17:16:12.170Z"
   },
   {
    "duration": 0,
    "start_time": "2022-09-10T17:16:12.171Z"
   },
   {
    "duration": 0,
    "start_time": "2022-09-10T17:16:12.172Z"
   },
   {
    "duration": 0,
    "start_time": "2022-09-10T17:16:12.173Z"
   },
   {
    "duration": 0,
    "start_time": "2022-09-10T17:16:12.174Z"
   },
   {
    "duration": 0,
    "start_time": "2022-09-10T17:16:12.175Z"
   },
   {
    "duration": 0,
    "start_time": "2022-09-10T17:16:12.176Z"
   },
   {
    "duration": 0,
    "start_time": "2022-09-10T17:16:12.177Z"
   },
   {
    "duration": 0,
    "start_time": "2022-09-10T17:16:12.178Z"
   },
   {
    "duration": 11,
    "start_time": "2022-09-10T17:17:07.846Z"
   },
   {
    "duration": 93139,
    "start_time": "2022-09-10T17:17:12.822Z"
   },
   {
    "duration": 6,
    "start_time": "2022-09-10T17:19:36.084Z"
   },
   {
    "duration": 162645,
    "start_time": "2022-09-10T17:19:37.913Z"
   },
   {
    "duration": 9,
    "start_time": "2022-09-10T17:22:26.966Z"
   },
   {
    "duration": 10,
    "start_time": "2022-09-10T17:24:55.505Z"
   },
   {
    "duration": 1126,
    "start_time": "2022-09-10T17:30:01.929Z"
   },
   {
    "duration": 51,
    "start_time": "2022-09-10T17:30:03.058Z"
   },
   {
    "duration": 7,
    "start_time": "2022-09-10T17:30:03.111Z"
   },
   {
    "duration": 12,
    "start_time": "2022-09-10T17:30:03.120Z"
   },
   {
    "duration": 10,
    "start_time": "2022-09-10T17:30:03.134Z"
   },
   {
    "duration": 10,
    "start_time": "2022-09-10T17:30:03.145Z"
   },
   {
    "duration": 15,
    "start_time": "2022-09-10T17:30:03.156Z"
   },
   {
    "duration": 10,
    "start_time": "2022-09-10T17:30:03.172Z"
   },
   {
    "duration": 8,
    "start_time": "2022-09-10T17:30:03.184Z"
   },
   {
    "duration": 7,
    "start_time": "2022-09-10T17:30:03.193Z"
   },
   {
    "duration": 9,
    "start_time": "2022-09-10T17:30:03.201Z"
   },
   {
    "duration": 526,
    "start_time": "2022-09-10T17:30:03.211Z"
   },
   {
    "duration": 181,
    "start_time": "2022-09-10T17:30:03.738Z"
   },
   {
    "duration": 144,
    "start_time": "2022-09-10T17:30:03.921Z"
   },
   {
    "duration": 3,
    "start_time": "2022-09-10T17:30:04.066Z"
   },
   {
    "duration": 15,
    "start_time": "2022-09-10T17:30:04.070Z"
   },
   {
    "duration": 7,
    "start_time": "2022-09-10T17:30:04.086Z"
   },
   {
    "duration": 15,
    "start_time": "2022-09-10T17:30:04.094Z"
   },
   {
    "duration": 115,
    "start_time": "2022-09-10T17:30:04.110Z"
   },
   {
    "duration": 0,
    "start_time": "2022-09-10T17:30:04.226Z"
   },
   {
    "duration": 0,
    "start_time": "2022-09-10T17:30:04.227Z"
   },
   {
    "duration": 0,
    "start_time": "2022-09-10T17:30:04.229Z"
   },
   {
    "duration": 0,
    "start_time": "2022-09-10T17:30:04.229Z"
   },
   {
    "duration": 0,
    "start_time": "2022-09-10T17:30:04.237Z"
   },
   {
    "duration": 0,
    "start_time": "2022-09-10T17:30:04.238Z"
   },
   {
    "duration": 0,
    "start_time": "2022-09-10T17:30:04.239Z"
   },
   {
    "duration": 0,
    "start_time": "2022-09-10T17:30:04.240Z"
   },
   {
    "duration": 0,
    "start_time": "2022-09-10T17:30:04.241Z"
   },
   {
    "duration": 0,
    "start_time": "2022-09-10T17:30:04.243Z"
   },
   {
    "duration": 0,
    "start_time": "2022-09-10T17:30:04.244Z"
   },
   {
    "duration": 0,
    "start_time": "2022-09-10T17:30:04.245Z"
   },
   {
    "duration": 0,
    "start_time": "2022-09-10T17:30:04.246Z"
   },
   {
    "duration": 0,
    "start_time": "2022-09-10T17:30:04.247Z"
   },
   {
    "duration": 6,
    "start_time": "2022-09-10T17:30:41.392Z"
   },
   {
    "duration": 77623,
    "start_time": "2022-09-10T17:30:46.526Z"
   },
   {
    "duration": 15,
    "start_time": "2022-09-10T17:32:46.201Z"
   },
   {
    "duration": 5,
    "start_time": "2022-09-10T17:33:29.125Z"
   },
   {
    "duration": 8,
    "start_time": "2022-09-10T17:33:38.925Z"
   },
   {
    "duration": 11,
    "start_time": "2022-09-10T17:34:27.272Z"
   },
   {
    "duration": 5,
    "start_time": "2022-09-10T17:35:05.383Z"
   },
   {
    "duration": 187869,
    "start_time": "2022-09-10T17:35:05.691Z"
   },
   {
    "duration": 7,
    "start_time": "2022-09-10T17:38:20.950Z"
   },
   {
    "duration": 5,
    "start_time": "2022-09-10T18:03:40.837Z"
   },
   {
    "duration": 1080,
    "start_time": "2022-09-10T18:13:45.419Z"
   },
   {
    "duration": 47,
    "start_time": "2022-09-10T18:13:46.501Z"
   },
   {
    "duration": 8,
    "start_time": "2022-09-10T18:13:46.550Z"
   },
   {
    "duration": 12,
    "start_time": "2022-09-10T18:13:46.559Z"
   },
   {
    "duration": 8,
    "start_time": "2022-09-10T18:13:46.573Z"
   },
   {
    "duration": 7,
    "start_time": "2022-09-10T18:13:46.582Z"
   },
   {
    "duration": 14,
    "start_time": "2022-09-10T18:13:46.591Z"
   },
   {
    "duration": 16,
    "start_time": "2022-09-10T18:13:46.606Z"
   },
   {
    "duration": 14,
    "start_time": "2022-09-10T18:13:46.623Z"
   },
   {
    "duration": 4,
    "start_time": "2022-09-10T18:13:46.639Z"
   },
   {
    "duration": 10,
    "start_time": "2022-09-10T18:13:46.644Z"
   },
   {
    "duration": 475,
    "start_time": "2022-09-10T18:13:46.655Z"
   },
   {
    "duration": 242,
    "start_time": "2022-09-10T18:13:47.132Z"
   },
   {
    "duration": 149,
    "start_time": "2022-09-10T18:13:47.378Z"
   },
   {
    "duration": 8,
    "start_time": "2022-09-10T18:13:47.529Z"
   },
   {
    "duration": 11,
    "start_time": "2022-09-10T18:13:47.539Z"
   },
   {
    "duration": 109,
    "start_time": "2022-09-10T18:13:47.552Z"
   },
   {
    "duration": 0,
    "start_time": "2022-09-10T18:13:47.664Z"
   },
   {
    "duration": 0,
    "start_time": "2022-09-10T18:13:47.665Z"
   },
   {
    "duration": 0,
    "start_time": "2022-09-10T18:13:47.667Z"
   },
   {
    "duration": 0,
    "start_time": "2022-09-10T18:13:47.668Z"
   },
   {
    "duration": 0,
    "start_time": "2022-09-10T18:13:47.669Z"
   },
   {
    "duration": 0,
    "start_time": "2022-09-10T18:13:47.671Z"
   },
   {
    "duration": 0,
    "start_time": "2022-09-10T18:13:47.672Z"
   },
   {
    "duration": 0,
    "start_time": "2022-09-10T18:13:47.673Z"
   },
   {
    "duration": 0,
    "start_time": "2022-09-10T18:13:47.675Z"
   },
   {
    "duration": 0,
    "start_time": "2022-09-10T18:13:47.676Z"
   },
   {
    "duration": 0,
    "start_time": "2022-09-10T18:13:47.678Z"
   },
   {
    "duration": 0,
    "start_time": "2022-09-10T18:13:47.680Z"
   },
   {
    "duration": 0,
    "start_time": "2022-09-10T18:13:47.681Z"
   },
   {
    "duration": 0,
    "start_time": "2022-09-10T18:13:47.682Z"
   },
   {
    "duration": 0,
    "start_time": "2022-09-10T18:13:47.684Z"
   },
   {
    "duration": 0,
    "start_time": "2022-09-10T18:13:47.685Z"
   },
   {
    "duration": 0,
    "start_time": "2022-09-10T18:13:47.686Z"
   },
   {
    "duration": 0,
    "start_time": "2022-09-10T18:13:47.687Z"
   },
   {
    "duration": 6,
    "start_time": "2022-09-10T18:18:32.526Z"
   },
   {
    "duration": 74382,
    "start_time": "2022-09-10T18:18:35.275Z"
   },
   {
    "duration": 3279,
    "start_time": "2022-09-10T18:29:13.832Z"
   },
   {
    "duration": 54,
    "start_time": "2022-09-10T18:29:17.113Z"
   },
   {
    "duration": 10,
    "start_time": "2022-09-10T18:29:17.169Z"
   },
   {
    "duration": 18,
    "start_time": "2022-09-10T18:29:17.180Z"
   },
   {
    "duration": 40,
    "start_time": "2022-09-10T18:29:17.200Z"
   },
   {
    "duration": 9,
    "start_time": "2022-09-10T18:29:17.242Z"
   },
   {
    "duration": 15,
    "start_time": "2022-09-10T18:29:17.253Z"
   },
   {
    "duration": 19,
    "start_time": "2022-09-10T18:29:17.270Z"
   },
   {
    "duration": 14,
    "start_time": "2022-09-10T18:29:17.292Z"
   },
   {
    "duration": 9,
    "start_time": "2022-09-10T18:29:17.308Z"
   },
   {
    "duration": 23,
    "start_time": "2022-09-10T18:29:17.319Z"
   },
   {
    "duration": 754,
    "start_time": "2022-09-10T18:29:17.345Z"
   },
   {
    "duration": 181,
    "start_time": "2022-09-10T18:29:18.100Z"
   },
   {
    "duration": 131,
    "start_time": "2022-09-10T18:29:18.284Z"
   },
   {
    "duration": 4,
    "start_time": "2022-09-10T18:29:18.417Z"
   },
   {
    "duration": 18,
    "start_time": "2022-09-10T18:29:18.422Z"
   },
   {
    "duration": 103,
    "start_time": "2022-09-10T18:29:18.441Z"
   },
   {
    "duration": 0,
    "start_time": "2022-09-10T18:29:18.546Z"
   },
   {
    "duration": 0,
    "start_time": "2022-09-10T18:29:18.548Z"
   },
   {
    "duration": 0,
    "start_time": "2022-09-10T18:29:18.549Z"
   },
   {
    "duration": 0,
    "start_time": "2022-09-10T18:29:18.550Z"
   },
   {
    "duration": 0,
    "start_time": "2022-09-10T18:29:18.550Z"
   },
   {
    "duration": 0,
    "start_time": "2022-09-10T18:29:18.551Z"
   },
   {
    "duration": 0,
    "start_time": "2022-09-10T18:29:18.552Z"
   },
   {
    "duration": 0,
    "start_time": "2022-09-10T18:29:18.553Z"
   },
   {
    "duration": 0,
    "start_time": "2022-09-10T18:29:18.554Z"
   },
   {
    "duration": 0,
    "start_time": "2022-09-10T18:29:18.555Z"
   },
   {
    "duration": 0,
    "start_time": "2022-09-10T18:29:18.556Z"
   },
   {
    "duration": 0,
    "start_time": "2022-09-10T18:29:18.557Z"
   },
   {
    "duration": 0,
    "start_time": "2022-09-10T18:29:18.558Z"
   },
   {
    "duration": 0,
    "start_time": "2022-09-10T18:29:18.558Z"
   },
   {
    "duration": 0,
    "start_time": "2022-09-10T18:29:18.559Z"
   },
   {
    "duration": 0,
    "start_time": "2022-09-10T18:29:18.560Z"
   },
   {
    "duration": 0,
    "start_time": "2022-09-10T18:29:18.561Z"
   },
   {
    "duration": 6,
    "start_time": "2022-09-10T18:29:24.149Z"
   },
   {
    "duration": 12,
    "start_time": "2022-09-21T21:15:41.465Z"
   },
   {
    "duration": 4,
    "start_time": "2022-09-21T21:16:02.514Z"
   },
   {
    "duration": 4,
    "start_time": "2022-09-21T21:16:07.962Z"
   }
  ],
  "kernelspec": {
   "display_name": "Python 3",
   "language": "python",
   "name": "python3"
  },
  "language_info": {
   "codemirror_mode": {
    "name": "ipython",
    "version": 3
   },
   "file_extension": ".py",
   "mimetype": "text/x-python",
   "name": "python",
   "nbconvert_exporter": "python",
   "pygments_lexer": "ipython3",
   "version": "3.8.8"
  },
  "toc": {
   "base_numbering": 1,
   "nav_menu": {},
   "number_sections": true,
   "sideBar": true,
   "skip_h1_title": true,
   "title_cell": "Содержание",
   "title_sidebar": "Contents",
   "toc_cell": true,
   "toc_position": {
    "height": "calc(100% - 180px)",
    "left": "10px",
    "top": "150px",
    "width": "255px"
   },
   "toc_section_display": true,
   "toc_window_display": false
  }
 },
 "nbformat": 4,
 "nbformat_minor": 2
}
