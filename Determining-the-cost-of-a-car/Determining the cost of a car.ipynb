{
 "cells": [
  {
   "cell_type": "markdown",
   "metadata": {},
   "source": [
    "# Определение стоимости автомобилей"
   ]
  },
  {
   "cell_type": "markdown",
   "metadata": {},
   "source": [
    "Сервис по продаже автомобилей с пробегом «Не бит, не крашен» разрабатывает приложение для привлечения новых клиентов. В нём можно быстро узнать рыночную стоимость своего автомобиля. В вашем распоряжении исторические данные: технические характеристики, комплектации и цены автомобилей. Вам нужно построить модель для определения стоимости. \n",
    "\n",
    "Заказчику важны:\n",
    "\n",
    "- качество предсказания;\n",
    "- скорость предсказания;\n",
    "- время обучения."
   ]
  },
  {
   "cell_type": "markdown",
   "metadata": {},
   "source": [
    "## Подготовка данных"
   ]
  },
  {
   "cell_type": "code",
   "execution_count": 1,
   "metadata": {},
   "outputs": [
    {
     "name": "stdout",
     "output_type": "stream",
     "text": [
      "Collecting hyperopt\n",
      "  Downloading hyperopt-0.2.7-py2.py3-none-any.whl (1.6 MB)\n",
      "\u001b[K     |████████████████████████████████| 1.6 MB 2.2 MB/s eta 0:00:01\n",
      "\u001b[?25hRequirement already satisfied: py4j in /opt/conda/lib/python3.9/site-packages (from hyperopt) (0.10.9.3)\n",
      "Collecting cloudpickle\n",
      "  Downloading cloudpickle-2.1.0-py3-none-any.whl (25 kB)\n",
      "Requirement already satisfied: tqdm in /opt/conda/lib/python3.9/site-packages (from hyperopt) (4.61.2)\n",
      "Requirement already satisfied: scipy in /opt/conda/lib/python3.9/site-packages (from hyperopt) (1.8.0)\n",
      "Collecting future\n",
      "  Downloading future-0.18.2.tar.gz (829 kB)\n",
      "\u001b[K     |████████████████████████████████| 829 kB 89.3 MB/s eta 0:00:01\n",
      "\u001b[?25hRequirement already satisfied: numpy in /opt/conda/lib/python3.9/site-packages (from hyperopt) (1.21.1)\n",
      "Collecting networkx>=2.2\n",
      "  Downloading networkx-2.8.6-py3-none-any.whl (2.0 MB)\n",
      "\u001b[K     |████████████████████████████████| 2.0 MB 70.6 MB/s eta 0:00:01\n",
      "\u001b[?25hRequirement already satisfied: six in /opt/conda/lib/python3.9/site-packages (from hyperopt) (1.16.0)\n",
      "Building wheels for collected packages: future\n",
      "  Building wheel for future (setup.py) ... \u001b[?25ldone\n",
      "\u001b[?25h  Created wheel for future: filename=future-0.18.2-py3-none-any.whl size=491059 sha256=ab93264929abeb3d92dad2597e61d8c3bfcbc1c71c476aae7918d93222f1ec70\n",
      "  Stored in directory: /home/jovyan/.cache/pip/wheels/2f/a0/d3/4030d9f80e6b3be787f19fc911b8e7aa462986a40ab1e4bb94\n",
      "Successfully built future\n",
      "Installing collected packages: networkx, future, cloudpickle, hyperopt\n",
      "Successfully installed cloudpickle-2.1.0 future-0.18.2 hyperopt-0.2.7 networkx-2.8.6\n"
     ]
    }
   ],
   "source": [
    "!pip install hyperopt"
   ]
  },
  {
   "cell_type": "code",
   "execution_count": 2,
   "metadata": {},
   "outputs": [],
   "source": [
    "import pandas as pd\n",
    "import numpy as np\n",
    "\n",
    "\n",
    "from sklearn.preprocessing import OrdinalEncoder \n",
    "from sklearn.preprocessing import StandardScaler \n",
    "\n",
    "from sklearn.model_selection import train_test_split\n",
    "\n",
    "\n",
    "from sklearn.model_selection import cross_val_score\n",
    "from sklearn.model_selection import RepeatedKFold\n",
    "from sklearn.impute import SimpleImputer  \n",
    "\n",
    "from catboost import CatBoostRegressor, Pool, cv\n",
    "from lightgbm import LGBMRegressor\n",
    "from sklearn.ensemble import RandomForestRegressor\n",
    "\n",
    "\n",
    "from sklearn.experimental import enable_halving_search_cv\n",
    "from sklearn.model_selection import HalvingRandomSearchCV\n",
    "from hyperopt import hp, fmin, tpe, STATUS_OK, Trials\n",
    "\n",
    "\n",
    "from sklearn.metrics import mean_squared_error\n"
   ]
  },
  {
   "cell_type": "code",
   "execution_count": 3,
   "metadata": {},
   "outputs": [
    {
     "data": {
      "text/html": [
       "<div>\n",
       "<style scoped>\n",
       "    .dataframe tbody tr th:only-of-type {\n",
       "        vertical-align: middle;\n",
       "    }\n",
       "\n",
       "    .dataframe tbody tr th {\n",
       "        vertical-align: top;\n",
       "    }\n",
       "\n",
       "    .dataframe thead th {\n",
       "        text-align: right;\n",
       "    }\n",
       "</style>\n",
       "<table border=\"1\" class=\"dataframe\">\n",
       "  <thead>\n",
       "    <tr style=\"text-align: right;\">\n",
       "      <th></th>\n",
       "      <th>DateCrawled</th>\n",
       "      <th>Price</th>\n",
       "      <th>VehicleType</th>\n",
       "      <th>RegistrationYear</th>\n",
       "      <th>Gearbox</th>\n",
       "      <th>Power</th>\n",
       "      <th>Model</th>\n",
       "      <th>Kilometer</th>\n",
       "      <th>RegistrationMonth</th>\n",
       "      <th>FuelType</th>\n",
       "      <th>Brand</th>\n",
       "      <th>NotRepaired</th>\n",
       "      <th>DateCreated</th>\n",
       "      <th>NumberOfPictures</th>\n",
       "      <th>PostalCode</th>\n",
       "      <th>LastSeen</th>\n",
       "    </tr>\n",
       "  </thead>\n",
       "  <tbody>\n",
       "    <tr>\n",
       "      <th>0</th>\n",
       "      <td>2016-03-24 11:52:17</td>\n",
       "      <td>480</td>\n",
       "      <td>NaN</td>\n",
       "      <td>1993</td>\n",
       "      <td>manual</td>\n",
       "      <td>0</td>\n",
       "      <td>golf</td>\n",
       "      <td>150000</td>\n",
       "      <td>0</td>\n",
       "      <td>petrol</td>\n",
       "      <td>volkswagen</td>\n",
       "      <td>NaN</td>\n",
       "      <td>2016-03-24 00:00:00</td>\n",
       "      <td>0</td>\n",
       "      <td>70435</td>\n",
       "      <td>2016-04-07 03:16:57</td>\n",
       "    </tr>\n",
       "    <tr>\n",
       "      <th>1</th>\n",
       "      <td>2016-03-24 10:58:45</td>\n",
       "      <td>18300</td>\n",
       "      <td>coupe</td>\n",
       "      <td>2011</td>\n",
       "      <td>manual</td>\n",
       "      <td>190</td>\n",
       "      <td>NaN</td>\n",
       "      <td>125000</td>\n",
       "      <td>5</td>\n",
       "      <td>gasoline</td>\n",
       "      <td>audi</td>\n",
       "      <td>yes</td>\n",
       "      <td>2016-03-24 00:00:00</td>\n",
       "      <td>0</td>\n",
       "      <td>66954</td>\n",
       "      <td>2016-04-07 01:46:50</td>\n",
       "    </tr>\n",
       "    <tr>\n",
       "      <th>2</th>\n",
       "      <td>2016-03-14 12:52:21</td>\n",
       "      <td>9800</td>\n",
       "      <td>suv</td>\n",
       "      <td>2004</td>\n",
       "      <td>auto</td>\n",
       "      <td>163</td>\n",
       "      <td>grand</td>\n",
       "      <td>125000</td>\n",
       "      <td>8</td>\n",
       "      <td>gasoline</td>\n",
       "      <td>jeep</td>\n",
       "      <td>NaN</td>\n",
       "      <td>2016-03-14 00:00:00</td>\n",
       "      <td>0</td>\n",
       "      <td>90480</td>\n",
       "      <td>2016-04-05 12:47:46</td>\n",
       "    </tr>\n",
       "    <tr>\n",
       "      <th>3</th>\n",
       "      <td>2016-03-17 16:54:04</td>\n",
       "      <td>1500</td>\n",
       "      <td>small</td>\n",
       "      <td>2001</td>\n",
       "      <td>manual</td>\n",
       "      <td>75</td>\n",
       "      <td>golf</td>\n",
       "      <td>150000</td>\n",
       "      <td>6</td>\n",
       "      <td>petrol</td>\n",
       "      <td>volkswagen</td>\n",
       "      <td>no</td>\n",
       "      <td>2016-03-17 00:00:00</td>\n",
       "      <td>0</td>\n",
       "      <td>91074</td>\n",
       "      <td>2016-03-17 17:40:17</td>\n",
       "    </tr>\n",
       "    <tr>\n",
       "      <th>4</th>\n",
       "      <td>2016-03-31 17:25:20</td>\n",
       "      <td>3600</td>\n",
       "      <td>small</td>\n",
       "      <td>2008</td>\n",
       "      <td>manual</td>\n",
       "      <td>69</td>\n",
       "      <td>fabia</td>\n",
       "      <td>90000</td>\n",
       "      <td>7</td>\n",
       "      <td>gasoline</td>\n",
       "      <td>skoda</td>\n",
       "      <td>no</td>\n",
       "      <td>2016-03-31 00:00:00</td>\n",
       "      <td>0</td>\n",
       "      <td>60437</td>\n",
       "      <td>2016-04-06 10:17:21</td>\n",
       "    </tr>\n",
       "  </tbody>\n",
       "</table>\n",
       "</div>"
      ],
      "text/plain": [
       "           DateCrawled  Price VehicleType  RegistrationYear Gearbox  Power  \\\n",
       "0  2016-03-24 11:52:17    480         NaN              1993  manual      0   \n",
       "1  2016-03-24 10:58:45  18300       coupe              2011  manual    190   \n",
       "2  2016-03-14 12:52:21   9800         suv              2004    auto    163   \n",
       "3  2016-03-17 16:54:04   1500       small              2001  manual     75   \n",
       "4  2016-03-31 17:25:20   3600       small              2008  manual     69   \n",
       "\n",
       "   Model  Kilometer  RegistrationMonth  FuelType       Brand NotRepaired  \\\n",
       "0   golf     150000                  0    petrol  volkswagen         NaN   \n",
       "1    NaN     125000                  5  gasoline        audi         yes   \n",
       "2  grand     125000                  8  gasoline        jeep         NaN   \n",
       "3   golf     150000                  6    petrol  volkswagen          no   \n",
       "4  fabia      90000                  7  gasoline       skoda          no   \n",
       "\n",
       "           DateCreated  NumberOfPictures  PostalCode             LastSeen  \n",
       "0  2016-03-24 00:00:00                 0       70435  2016-04-07 03:16:57  \n",
       "1  2016-03-24 00:00:00                 0       66954  2016-04-07 01:46:50  \n",
       "2  2016-03-14 00:00:00                 0       90480  2016-04-05 12:47:46  \n",
       "3  2016-03-17 00:00:00                 0       91074  2016-03-17 17:40:17  \n",
       "4  2016-03-31 00:00:00                 0       60437  2016-04-06 10:17:21  "
      ]
     },
     "execution_count": 3,
     "metadata": {},
     "output_type": "execute_result"
    }
   ],
   "source": [
    "df = pd.read_csv('auto.csv')\n",
    "df.head()"
   ]
  },
  {
   "cell_type": "markdown",
   "metadata": {},
   "source": [
    "Импортируем данные и выводим на экран."
   ]
  },
  {
   "cell_type": "code",
   "execution_count": 4,
   "metadata": {},
   "outputs": [
    {
     "name": "stdout",
     "output_type": "stream",
     "text": [
      "<class 'pandas.core.frame.DataFrame'>\n",
      "RangeIndex: 354369 entries, 0 to 354368\n",
      "Data columns (total 16 columns):\n",
      " #   Column             Non-Null Count   Dtype \n",
      "---  ------             --------------   ----- \n",
      " 0   DateCrawled        354369 non-null  object\n",
      " 1   Price              354369 non-null  int64 \n",
      " 2   VehicleType        316879 non-null  object\n",
      " 3   RegistrationYear   354369 non-null  int64 \n",
      " 4   Gearbox            334536 non-null  object\n",
      " 5   Power              354369 non-null  int64 \n",
      " 6   Model              334664 non-null  object\n",
      " 7   Kilometer          354369 non-null  int64 \n",
      " 8   RegistrationMonth  354369 non-null  int64 \n",
      " 9   FuelType           321474 non-null  object\n",
      " 10  Brand              354369 non-null  object\n",
      " 11  NotRepaired        283215 non-null  object\n",
      " 12  DateCreated        354369 non-null  object\n",
      " 13  NumberOfPictures   354369 non-null  int64 \n",
      " 14  PostalCode         354369 non-null  int64 \n",
      " 15  LastSeen           354369 non-null  object\n",
      "dtypes: int64(7), object(9)\n",
      "memory usage: 43.3+ MB\n"
     ]
    }
   ],
   "source": [
    "df.info()"
   ]
  },
  {
   "cell_type": "markdown",
   "metadata": {},
   "source": [
    "В нашем DataFrame 354369 - строк и 15 столбцов. Так же есть значения \"NaN\". Так же названия столюцов следует привести в приемлемый вид, т е в нижний регистр."
   ]
  },
  {
   "cell_type": "code",
   "execution_count": 5,
   "metadata": {},
   "outputs": [
    {
     "data": {
      "text/plain": [
       "DateCrawled              0\n",
       "Price                    0\n",
       "VehicleType          37490\n",
       "RegistrationYear         0\n",
       "Gearbox              19833\n",
       "Power                    0\n",
       "Model                19705\n",
       "Kilometer                0\n",
       "RegistrationMonth        0\n",
       "FuelType             32895\n",
       "Brand                    0\n",
       "NotRepaired          71154\n",
       "DateCreated              0\n",
       "NumberOfPictures         0\n",
       "PostalCode               0\n",
       "LastSeen                 0\n",
       "dtype: int64"
      ]
     },
     "execution_count": 5,
     "metadata": {},
     "output_type": "execute_result"
    }
   ],
   "source": [
    "df.isnull().sum()"
   ]
  },
  {
   "cell_type": "markdown",
   "metadata": {},
   "source": [
    "В 5 столбцах есть значения \"Nan\". "
   ]
  },
  {
   "cell_type": "code",
   "execution_count": 6,
   "metadata": {},
   "outputs": [
    {
     "data": {
      "text/plain": [
       "DateCrawled           0.000000\n",
       "Price                 0.000000\n",
       "VehicleType          10.579368\n",
       "RegistrationYear      0.000000\n",
       "Gearbox               5.596709\n",
       "Power                 0.000000\n",
       "Model                 5.560588\n",
       "Kilometer             0.000000\n",
       "RegistrationMonth     0.000000\n",
       "FuelType              9.282697\n",
       "Brand                 0.000000\n",
       "NotRepaired          20.079070\n",
       "DateCreated           0.000000\n",
       "NumberOfPictures      0.000000\n",
       "PostalCode            0.000000\n",
       "LastSeen              0.000000\n",
       "dtype: float64"
      ]
     },
     "execution_count": 6,
     "metadata": {},
     "output_type": "execute_result"
    }
   ],
   "source": [
    "df.isnull().sum() * 100 / len(df)"
   ]
  },
  {
   "cell_type": "markdown",
   "metadata": {},
   "source": [
    "Процент значений \"NaN\" в столбцах. Их значение довольно велико, нужно обработать."
   ]
  },
  {
   "cell_type": "markdown",
   "metadata": {},
   "source": [
    "### Изменение регистра столбцов"
   ]
  },
  {
   "cell_type": "code",
   "execution_count": 7,
   "metadata": {},
   "outputs": [
    {
     "data": {
      "text/html": [
       "<div>\n",
       "<style scoped>\n",
       "    .dataframe tbody tr th:only-of-type {\n",
       "        vertical-align: middle;\n",
       "    }\n",
       "\n",
       "    .dataframe tbody tr th {\n",
       "        vertical-align: top;\n",
       "    }\n",
       "\n",
       "    .dataframe thead th {\n",
       "        text-align: right;\n",
       "    }\n",
       "</style>\n",
       "<table border=\"1\" class=\"dataframe\">\n",
       "  <thead>\n",
       "    <tr style=\"text-align: right;\">\n",
       "      <th></th>\n",
       "      <th>DateCrawled</th>\n",
       "      <th>Price</th>\n",
       "      <th>VehicleType</th>\n",
       "      <th>RegistrationYear</th>\n",
       "      <th>Gearbox</th>\n",
       "      <th>Power</th>\n",
       "      <th>Model</th>\n",
       "      <th>Kilometer</th>\n",
       "      <th>RegistrationMonth</th>\n",
       "      <th>FuelType</th>\n",
       "      <th>Brand</th>\n",
       "      <th>NotRepaired</th>\n",
       "      <th>DateCreated</th>\n",
       "      <th>NumberOfPictures</th>\n",
       "      <th>PostalCode</th>\n",
       "      <th>LastSeen</th>\n",
       "    </tr>\n",
       "  </thead>\n",
       "  <tbody>\n",
       "    <tr>\n",
       "      <th>0</th>\n",
       "      <td>2016-03-24 11:52:17</td>\n",
       "      <td>480</td>\n",
       "      <td>NaN</td>\n",
       "      <td>1993</td>\n",
       "      <td>manual</td>\n",
       "      <td>0</td>\n",
       "      <td>golf</td>\n",
       "      <td>150000</td>\n",
       "      <td>0</td>\n",
       "      <td>petrol</td>\n",
       "      <td>volkswagen</td>\n",
       "      <td>NaN</td>\n",
       "      <td>2016-03-24 00:00:00</td>\n",
       "      <td>0</td>\n",
       "      <td>70435</td>\n",
       "      <td>2016-04-07 03:16:57</td>\n",
       "    </tr>\n",
       "    <tr>\n",
       "      <th>1</th>\n",
       "      <td>2016-03-24 10:58:45</td>\n",
       "      <td>18300</td>\n",
       "      <td>coupe</td>\n",
       "      <td>2011</td>\n",
       "      <td>manual</td>\n",
       "      <td>190</td>\n",
       "      <td>NaN</td>\n",
       "      <td>125000</td>\n",
       "      <td>5</td>\n",
       "      <td>gasoline</td>\n",
       "      <td>audi</td>\n",
       "      <td>yes</td>\n",
       "      <td>2016-03-24 00:00:00</td>\n",
       "      <td>0</td>\n",
       "      <td>66954</td>\n",
       "      <td>2016-04-07 01:46:50</td>\n",
       "    </tr>\n",
       "  </tbody>\n",
       "</table>\n",
       "</div>"
      ],
      "text/plain": [
       "           DateCrawled  Price VehicleType  RegistrationYear Gearbox  Power  \\\n",
       "0  2016-03-24 11:52:17    480         NaN              1993  manual      0   \n",
       "1  2016-03-24 10:58:45  18300       coupe              2011  manual    190   \n",
       "\n",
       "  Model  Kilometer  RegistrationMonth  FuelType       Brand NotRepaired  \\\n",
       "0  golf     150000                  0    petrol  volkswagen         NaN   \n",
       "1   NaN     125000                  5  gasoline        audi         yes   \n",
       "\n",
       "           DateCreated  NumberOfPictures  PostalCode             LastSeen  \n",
       "0  2016-03-24 00:00:00                 0       70435  2016-04-07 03:16:57  \n",
       "1  2016-03-24 00:00:00                 0       66954  2016-04-07 01:46:50  "
      ]
     },
     "execution_count": 7,
     "metadata": {},
     "output_type": "execute_result"
    }
   ],
   "source": [
    "df.head(2)"
   ]
  },
  {
   "cell_type": "code",
   "execution_count": 8,
   "metadata": {},
   "outputs": [],
   "source": [
    "df = df.rename(columns = \n",
    "              {'DateCrawled' : 'date_crawled',\n",
    "              'Price' : 'price',\n",
    "              'VehicleType' : 'vehicle_type',\n",
    "              'RegistrationYear' : 'registration_year',\n",
    "              'Gearbox' : 'gearbox',\n",
    "              'Power' : 'power',\n",
    "              'Model' : 'model',\n",
    "              'Kilometer' : 'kilometer',\n",
    "              'RegistrationMonth' : 'registration_month',\n",
    "              'FuelType' : 'fuel_type',\n",
    "              'Brand' : 'brand',\n",
    "              'NotRepaired' : 'not_repaired',\n",
    "              'DateCreated' : 'date_created',\n",
    "              'NumberOfPictures' : 'number_of_pictures',\n",
    "              'PostalCode' : 'postal_code',\n",
    "              'LastSeen' : 'last_seen'}\n",
    "             )"
   ]
  },
  {
   "cell_type": "code",
   "execution_count": 9,
   "metadata": {},
   "outputs": [
    {
     "data": {
      "text/html": [
       "<div>\n",
       "<style scoped>\n",
       "    .dataframe tbody tr th:only-of-type {\n",
       "        vertical-align: middle;\n",
       "    }\n",
       "\n",
       "    .dataframe tbody tr th {\n",
       "        vertical-align: top;\n",
       "    }\n",
       "\n",
       "    .dataframe thead th {\n",
       "        text-align: right;\n",
       "    }\n",
       "</style>\n",
       "<table border=\"1\" class=\"dataframe\">\n",
       "  <thead>\n",
       "    <tr style=\"text-align: right;\">\n",
       "      <th></th>\n",
       "      <th>date_crawled</th>\n",
       "      <th>price</th>\n",
       "      <th>vehicle_type</th>\n",
       "      <th>registration_year</th>\n",
       "      <th>gearbox</th>\n",
       "      <th>power</th>\n",
       "      <th>model</th>\n",
       "      <th>kilometer</th>\n",
       "      <th>registration_month</th>\n",
       "      <th>fuel_type</th>\n",
       "      <th>brand</th>\n",
       "      <th>not_repaired</th>\n",
       "      <th>date_created</th>\n",
       "      <th>number_of_pictures</th>\n",
       "      <th>postal_code</th>\n",
       "      <th>last_seen</th>\n",
       "    </tr>\n",
       "  </thead>\n",
       "  <tbody>\n",
       "    <tr>\n",
       "      <th>0</th>\n",
       "      <td>2016-03-24 11:52:17</td>\n",
       "      <td>480</td>\n",
       "      <td>NaN</td>\n",
       "      <td>1993</td>\n",
       "      <td>manual</td>\n",
       "      <td>0</td>\n",
       "      <td>golf</td>\n",
       "      <td>150000</td>\n",
       "      <td>0</td>\n",
       "      <td>petrol</td>\n",
       "      <td>volkswagen</td>\n",
       "      <td>NaN</td>\n",
       "      <td>2016-03-24 00:00:00</td>\n",
       "      <td>0</td>\n",
       "      <td>70435</td>\n",
       "      <td>2016-04-07 03:16:57</td>\n",
       "    </tr>\n",
       "    <tr>\n",
       "      <th>1</th>\n",
       "      <td>2016-03-24 10:58:45</td>\n",
       "      <td>18300</td>\n",
       "      <td>coupe</td>\n",
       "      <td>2011</td>\n",
       "      <td>manual</td>\n",
       "      <td>190</td>\n",
       "      <td>NaN</td>\n",
       "      <td>125000</td>\n",
       "      <td>5</td>\n",
       "      <td>gasoline</td>\n",
       "      <td>audi</td>\n",
       "      <td>yes</td>\n",
       "      <td>2016-03-24 00:00:00</td>\n",
       "      <td>0</td>\n",
       "      <td>66954</td>\n",
       "      <td>2016-04-07 01:46:50</td>\n",
       "    </tr>\n",
       "  </tbody>\n",
       "</table>\n",
       "</div>"
      ],
      "text/plain": [
       "          date_crawled  price vehicle_type  registration_year gearbox  power  \\\n",
       "0  2016-03-24 11:52:17    480          NaN               1993  manual      0   \n",
       "1  2016-03-24 10:58:45  18300        coupe               2011  manual    190   \n",
       "\n",
       "  model  kilometer  registration_month fuel_type       brand not_repaired  \\\n",
       "0  golf     150000                   0    petrol  volkswagen          NaN   \n",
       "1   NaN     125000                   5  gasoline        audi          yes   \n",
       "\n",
       "          date_created  number_of_pictures  postal_code            last_seen  \n",
       "0  2016-03-24 00:00:00                   0        70435  2016-04-07 03:16:57  \n",
       "1  2016-03-24 00:00:00                   0        66954  2016-04-07 01:46:50  "
      ]
     },
     "execution_count": 9,
     "metadata": {},
     "output_type": "execute_result"
    }
   ],
   "source": [
    "df.head(2)"
   ]
  },
  {
   "cell_type": "code",
   "execution_count": 10,
   "metadata": {},
   "outputs": [
    {
     "name": "stdout",
     "output_type": "stream",
     "text": [
      "<class 'pandas.core.frame.DataFrame'>\n",
      "RangeIndex: 354369 entries, 0 to 354368\n",
      "Data columns (total 16 columns):\n",
      " #   Column              Non-Null Count   Dtype \n",
      "---  ------              --------------   ----- \n",
      " 0   date_crawled        354369 non-null  object\n",
      " 1   price               354369 non-null  int64 \n",
      " 2   vehicle_type        316879 non-null  object\n",
      " 3   registration_year   354369 non-null  int64 \n",
      " 4   gearbox             334536 non-null  object\n",
      " 5   power               354369 non-null  int64 \n",
      " 6   model               334664 non-null  object\n",
      " 7   kilometer           354369 non-null  int64 \n",
      " 8   registration_month  354369 non-null  int64 \n",
      " 9   fuel_type           321474 non-null  object\n",
      " 10  brand               354369 non-null  object\n",
      " 11  not_repaired        283215 non-null  object\n",
      " 12  date_created        354369 non-null  object\n",
      " 13  number_of_pictures  354369 non-null  int64 \n",
      " 14  postal_code         354369 non-null  int64 \n",
      " 15  last_seen           354369 non-null  object\n",
      "dtypes: int64(7), object(9)\n",
      "memory usage: 43.3+ MB\n"
     ]
    }
   ],
   "source": [
    "df.info()"
   ]
  },
  {
   "cell_type": "markdown",
   "metadata": {},
   "source": [
    "Изменили регистр столбцов."
   ]
  },
  {
   "cell_type": "markdown",
   "metadata": {},
   "source": [
    "### Удаление дубликатов"
   ]
  },
  {
   "cell_type": "code",
   "execution_count": 11,
   "metadata": {
    "scrolled": true
   },
   "outputs": [
    {
     "data": {
      "text/html": [
       "<div>\n",
       "<style scoped>\n",
       "    .dataframe tbody tr th:only-of-type {\n",
       "        vertical-align: middle;\n",
       "    }\n",
       "\n",
       "    .dataframe tbody tr th {\n",
       "        vertical-align: top;\n",
       "    }\n",
       "\n",
       "    .dataframe thead th {\n",
       "        text-align: right;\n",
       "    }\n",
       "</style>\n",
       "<table border=\"1\" class=\"dataframe\">\n",
       "  <thead>\n",
       "    <tr style=\"text-align: right;\">\n",
       "      <th></th>\n",
       "      <th>date_crawled</th>\n",
       "      <th>price</th>\n",
       "      <th>vehicle_type</th>\n",
       "      <th>registration_year</th>\n",
       "      <th>gearbox</th>\n",
       "      <th>power</th>\n",
       "      <th>model</th>\n",
       "      <th>kilometer</th>\n",
       "      <th>registration_month</th>\n",
       "      <th>fuel_type</th>\n",
       "      <th>brand</th>\n",
       "      <th>not_repaired</th>\n",
       "      <th>date_created</th>\n",
       "      <th>number_of_pictures</th>\n",
       "      <th>postal_code</th>\n",
       "      <th>last_seen</th>\n",
       "    </tr>\n",
       "  </thead>\n",
       "  <tbody>\n",
       "    <tr>\n",
       "      <th>171088</th>\n",
       "      <td>2016-03-08 18:42:48</td>\n",
       "      <td>1799</td>\n",
       "      <td>coupe</td>\n",
       "      <td>1999</td>\n",
       "      <td>auto</td>\n",
       "      <td>193</td>\n",
       "      <td>clk</td>\n",
       "      <td>20000</td>\n",
       "      <td>7</td>\n",
       "      <td>petrol</td>\n",
       "      <td>mercedes_benz</td>\n",
       "      <td>no</td>\n",
       "      <td>2016-03-08 00:00:00</td>\n",
       "      <td>0</td>\n",
       "      <td>89518</td>\n",
       "      <td>2016-03-09 09:46:57</td>\n",
       "    </tr>\n",
       "    <tr>\n",
       "      <th>231258</th>\n",
       "      <td>2016-03-28 00:56:10</td>\n",
       "      <td>1000</td>\n",
       "      <td>small</td>\n",
       "      <td>2002</td>\n",
       "      <td>manual</td>\n",
       "      <td>83</td>\n",
       "      <td>other</td>\n",
       "      <td>150000</td>\n",
       "      <td>1</td>\n",
       "      <td>petrol</td>\n",
       "      <td>suzuki</td>\n",
       "      <td>no</td>\n",
       "      <td>2016-03-28 00:00:00</td>\n",
       "      <td>0</td>\n",
       "      <td>66589</td>\n",
       "      <td>2016-03-28 08:46:21</td>\n",
       "    </tr>\n",
       "    <tr>\n",
       "      <th>258109</th>\n",
       "      <td>2016-04-03 09:01:15</td>\n",
       "      <td>4699</td>\n",
       "      <td>coupe</td>\n",
       "      <td>2003</td>\n",
       "      <td>auto</td>\n",
       "      <td>218</td>\n",
       "      <td>clk</td>\n",
       "      <td>125000</td>\n",
       "      <td>6</td>\n",
       "      <td>petrol</td>\n",
       "      <td>mercedes_benz</td>\n",
       "      <td>yes</td>\n",
       "      <td>2016-04-03 00:00:00</td>\n",
       "      <td>0</td>\n",
       "      <td>75196</td>\n",
       "      <td>2016-04-07 09:44:54</td>\n",
       "    </tr>\n",
       "    <tr>\n",
       "      <th>325651</th>\n",
       "      <td>2016-03-18 18:46:15</td>\n",
       "      <td>1999</td>\n",
       "      <td>wagon</td>\n",
       "      <td>2001</td>\n",
       "      <td>manual</td>\n",
       "      <td>131</td>\n",
       "      <td>passat</td>\n",
       "      <td>150000</td>\n",
       "      <td>7</td>\n",
       "      <td>gasoline</td>\n",
       "      <td>volkswagen</td>\n",
       "      <td>no</td>\n",
       "      <td>2016-03-18 00:00:00</td>\n",
       "      <td>0</td>\n",
       "      <td>36391</td>\n",
       "      <td>2016-03-18 18:46:15</td>\n",
       "    </tr>\n",
       "  </tbody>\n",
       "</table>\n",
       "</div>"
      ],
      "text/plain": [
       "               date_crawled  price vehicle_type  registration_year gearbox  \\\n",
       "171088  2016-03-08 18:42:48   1799        coupe               1999    auto   \n",
       "231258  2016-03-28 00:56:10   1000        small               2002  manual   \n",
       "258109  2016-04-03 09:01:15   4699        coupe               2003    auto   \n",
       "325651  2016-03-18 18:46:15   1999        wagon               2001  manual   \n",
       "\n",
       "        power   model  kilometer  registration_month fuel_type          brand  \\\n",
       "171088    193     clk      20000                   7    petrol  mercedes_benz   \n",
       "231258     83   other     150000                   1    petrol         suzuki   \n",
       "258109    218     clk     125000                   6    petrol  mercedes_benz   \n",
       "325651    131  passat     150000                   7  gasoline     volkswagen   \n",
       "\n",
       "       not_repaired         date_created  number_of_pictures  postal_code  \\\n",
       "171088           no  2016-03-08 00:00:00                   0        89518   \n",
       "231258           no  2016-03-28 00:00:00                   0        66589   \n",
       "258109          yes  2016-04-03 00:00:00                   0        75196   \n",
       "325651           no  2016-03-18 00:00:00                   0        36391   \n",
       "\n",
       "                  last_seen  \n",
       "171088  2016-03-09 09:46:57  \n",
       "231258  2016-03-28 08:46:21  \n",
       "258109  2016-04-07 09:44:54  \n",
       "325651  2016-03-18 18:46:15  "
      ]
     },
     "execution_count": 11,
     "metadata": {},
     "output_type": "execute_result"
    }
   ],
   "source": [
    "df.loc[df.duplicated()]"
   ]
  },
  {
   "cell_type": "markdown",
   "metadata": {},
   "source": [
    "Нашли 4 дубликата, удалим их."
   ]
  },
  {
   "cell_type": "code",
   "execution_count": 12,
   "metadata": {},
   "outputs": [],
   "source": [
    "df = df.drop_duplicates()"
   ]
  },
  {
   "cell_type": "code",
   "execution_count": 13,
   "metadata": {},
   "outputs": [
    {
     "data": {
      "text/html": [
       "<div>\n",
       "<style scoped>\n",
       "    .dataframe tbody tr th:only-of-type {\n",
       "        vertical-align: middle;\n",
       "    }\n",
       "\n",
       "    .dataframe tbody tr th {\n",
       "        vertical-align: top;\n",
       "    }\n",
       "\n",
       "    .dataframe thead th {\n",
       "        text-align: right;\n",
       "    }\n",
       "</style>\n",
       "<table border=\"1\" class=\"dataframe\">\n",
       "  <thead>\n",
       "    <tr style=\"text-align: right;\">\n",
       "      <th></th>\n",
       "      <th>date_crawled</th>\n",
       "      <th>price</th>\n",
       "      <th>vehicle_type</th>\n",
       "      <th>registration_year</th>\n",
       "      <th>gearbox</th>\n",
       "      <th>power</th>\n",
       "      <th>model</th>\n",
       "      <th>kilometer</th>\n",
       "      <th>registration_month</th>\n",
       "      <th>fuel_type</th>\n",
       "      <th>brand</th>\n",
       "      <th>not_repaired</th>\n",
       "      <th>date_created</th>\n",
       "      <th>number_of_pictures</th>\n",
       "      <th>postal_code</th>\n",
       "      <th>last_seen</th>\n",
       "    </tr>\n",
       "  </thead>\n",
       "  <tbody>\n",
       "  </tbody>\n",
       "</table>\n",
       "</div>"
      ],
      "text/plain": [
       "Empty DataFrame\n",
       "Columns: [date_crawled, price, vehicle_type, registration_year, gearbox, power, model, kilometer, registration_month, fuel_type, brand, not_repaired, date_created, number_of_pictures, postal_code, last_seen]\n",
       "Index: []"
      ]
     },
     "execution_count": 13,
     "metadata": {},
     "output_type": "execute_result"
    }
   ],
   "source": [
    "df.loc[df.duplicated()]"
   ]
  },
  {
   "cell_type": "markdown",
   "metadata": {},
   "source": [
    "Удалил дубликаты."
   ]
  },
  {
   "cell_type": "markdown",
   "metadata": {},
   "source": [
    "### Заполнение в столбцах значений NaN"
   ]
  },
  {
   "cell_type": "code",
   "execution_count": 14,
   "metadata": {},
   "outputs": [
    {
     "data": {
      "text/html": [
       "<div>\n",
       "<style scoped>\n",
       "    .dataframe tbody tr th:only-of-type {\n",
       "        vertical-align: middle;\n",
       "    }\n",
       "\n",
       "    .dataframe tbody tr th {\n",
       "        vertical-align: top;\n",
       "    }\n",
       "\n",
       "    .dataframe thead th {\n",
       "        text-align: right;\n",
       "    }\n",
       "</style>\n",
       "<table border=\"1\" class=\"dataframe\">\n",
       "  <thead>\n",
       "    <tr style=\"text-align: right;\">\n",
       "      <th></th>\n",
       "      <th>date_crawled</th>\n",
       "      <th>price</th>\n",
       "      <th>vehicle_type</th>\n",
       "      <th>registration_year</th>\n",
       "      <th>gearbox</th>\n",
       "      <th>power</th>\n",
       "      <th>model</th>\n",
       "      <th>kilometer</th>\n",
       "      <th>registration_month</th>\n",
       "      <th>fuel_type</th>\n",
       "      <th>brand</th>\n",
       "      <th>not_repaired</th>\n",
       "      <th>date_created</th>\n",
       "      <th>number_of_pictures</th>\n",
       "      <th>postal_code</th>\n",
       "      <th>last_seen</th>\n",
       "    </tr>\n",
       "  </thead>\n",
       "  <tbody>\n",
       "    <tr>\n",
       "      <th>0</th>\n",
       "      <td>2016-03-24 11:52:17</td>\n",
       "      <td>480</td>\n",
       "      <td>NaN</td>\n",
       "      <td>1993</td>\n",
       "      <td>manual</td>\n",
       "      <td>0</td>\n",
       "      <td>golf</td>\n",
       "      <td>150000</td>\n",
       "      <td>0</td>\n",
       "      <td>petrol</td>\n",
       "      <td>volkswagen</td>\n",
       "      <td>NaN</td>\n",
       "      <td>2016-03-24 00:00:00</td>\n",
       "      <td>0</td>\n",
       "      <td>70435</td>\n",
       "      <td>2016-04-07 03:16:57</td>\n",
       "    </tr>\n",
       "    <tr>\n",
       "      <th>2</th>\n",
       "      <td>2016-03-14 12:52:21</td>\n",
       "      <td>9800</td>\n",
       "      <td>suv</td>\n",
       "      <td>2004</td>\n",
       "      <td>auto</td>\n",
       "      <td>163</td>\n",
       "      <td>grand</td>\n",
       "      <td>125000</td>\n",
       "      <td>8</td>\n",
       "      <td>gasoline</td>\n",
       "      <td>jeep</td>\n",
       "      <td>NaN</td>\n",
       "      <td>2016-03-14 00:00:00</td>\n",
       "      <td>0</td>\n",
       "      <td>90480</td>\n",
       "      <td>2016-04-05 12:47:46</td>\n",
       "    </tr>\n",
       "    <tr>\n",
       "      <th>8</th>\n",
       "      <td>2016-04-04 23:42:13</td>\n",
       "      <td>14500</td>\n",
       "      <td>bus</td>\n",
       "      <td>2014</td>\n",
       "      <td>manual</td>\n",
       "      <td>125</td>\n",
       "      <td>c_max</td>\n",
       "      <td>30000</td>\n",
       "      <td>8</td>\n",
       "      <td>petrol</td>\n",
       "      <td>ford</td>\n",
       "      <td>NaN</td>\n",
       "      <td>2016-04-04 00:00:00</td>\n",
       "      <td>0</td>\n",
       "      <td>94505</td>\n",
       "      <td>2016-04-04 23:42:13</td>\n",
       "    </tr>\n",
       "  </tbody>\n",
       "</table>\n",
       "</div>"
      ],
      "text/plain": [
       "          date_crawled  price vehicle_type  registration_year gearbox  power  \\\n",
       "0  2016-03-24 11:52:17    480          NaN               1993  manual      0   \n",
       "2  2016-03-14 12:52:21   9800          suv               2004    auto    163   \n",
       "8  2016-04-04 23:42:13  14500          bus               2014  manual    125   \n",
       "\n",
       "   model  kilometer  registration_month fuel_type       brand not_repaired  \\\n",
       "0   golf     150000                   0    petrol  volkswagen          NaN   \n",
       "2  grand     125000                   8  gasoline        jeep          NaN   \n",
       "8  c_max      30000                   8    petrol        ford          NaN   \n",
       "\n",
       "          date_created  number_of_pictures  postal_code            last_seen  \n",
       "0  2016-03-24 00:00:00                   0        70435  2016-04-07 03:16:57  \n",
       "2  2016-03-14 00:00:00                   0        90480  2016-04-05 12:47:46  \n",
       "8  2016-04-04 00:00:00                   0        94505  2016-04-04 23:42:13  "
      ]
     },
     "execution_count": 14,
     "metadata": {},
     "output_type": "execute_result"
    }
   ],
   "source": [
    "df.loc[df['not_repaired'].isna()].head(3)"
   ]
  },
  {
   "cell_type": "markdown",
   "metadata": {},
   "source": [
    "Глядя на Nan в столбце 'not_repaired', я решил заполнить этот столбец исходя из заполнения других ячеек т к если есть данные в других столбцах(в теории машина была на ремонте, т к есть ее данные в других ячейках, потому-что при попадании машины в ремонт, переписывают ее данные + из статей из интернета, можно сделать вывод, что машине с пробегом больше 50,000 км проехать без ремонта практически невозможно, если у нас БД из официальных центрах СТО). Опять же, что мы считаем за ремонт ! Замена колодок, которую рекомендуют делать каждые 10 - 15 тыс км - это по сути тоже ремонт. Поэтому, планку с пробего опускаем до 10,000 км."
   ]
  },
  {
   "cell_type": "code",
   "execution_count": 15,
   "metadata": {},
   "outputs": [],
   "source": [
    "df.loc[(df['not_repaired'].isna()) & (df['kilometer'] > 10000), 'not_repaired'] = 'yes'"
   ]
  },
  {
   "cell_type": "markdown",
   "metadata": {},
   "source": [
    "Заполнили 'not_repaired' исходя из пояснения выше."
   ]
  },
  {
   "cell_type": "markdown",
   "metadata": {},
   "source": [
    "Иходя из значение **'NaN'** в остальных столбцах, заполнить их более-менее корректно, не представляется возможным, нет никакой четкой зависимости, например, **volkswagen golf** в типе кузова указаны значения: **small**, **sedan**, **wagon**, **convertible** и др. Для кого-то **volkswagen golf** (как для меня, просмотр первых 20 - 30 авто как 90-х так 2020 годов **volkswagen golf** на Авито - это **\"Хетчбэк\"**. Для когото - это **\"sedan\"** или **\"small\"**.) Не понятно как корректно заполнить пропуски. Так же и для других столбцов. Перебирать каждую машину по типу, модели, виду топлива - не представляется возможным. Чтобы не вносить дополнительные шумы в данные. Принято решение, остальные значения **\"NaN\"** просто **удалить**. При удалении данных, мы потеряем примерно 20% от изначального их кол-ва. Потери большие, но не критические."
   ]
  },
  {
   "cell_type": "markdown",
   "metadata": {},
   "source": [
    "### Удаление выбросов и аномалий DataFrame"
   ]
  },
  {
   "cell_type": "code",
   "execution_count": 16,
   "metadata": {},
   "outputs": [
    {
     "name": "stdout",
     "output_type": "stream",
     "text": [
      "<class 'pandas.core.frame.DataFrame'>\n",
      "Int64Index: 354365 entries, 0 to 354368\n",
      "Data columns (total 16 columns):\n",
      " #   Column              Non-Null Count   Dtype \n",
      "---  ------              --------------   ----- \n",
      " 0   date_crawled        354365 non-null  object\n",
      " 1   price               354365 non-null  int64 \n",
      " 2   vehicle_type        316875 non-null  object\n",
      " 3   registration_year   354365 non-null  int64 \n",
      " 4   gearbox             334532 non-null  object\n",
      " 5   power               354365 non-null  int64 \n",
      " 6   model               334660 non-null  object\n",
      " 7   kilometer           354365 non-null  int64 \n",
      " 8   registration_month  354365 non-null  int64 \n",
      " 9   fuel_type           321470 non-null  object\n",
      " 10  brand               354365 non-null  object\n",
      " 11  not_repaired        350666 non-null  object\n",
      " 12  date_created        354365 non-null  object\n",
      " 13  number_of_pictures  354365 non-null  int64 \n",
      " 14  postal_code         354365 non-null  int64 \n",
      " 15  last_seen           354365 non-null  object\n",
      "dtypes: int64(7), object(9)\n",
      "memory usage: 46.0+ MB\n"
     ]
    }
   ],
   "source": [
    "df.info()"
   ]
  },
  {
   "cell_type": "code",
   "execution_count": 17,
   "metadata": {
    "scrolled": true
   },
   "outputs": [
    {
     "data": {
      "text/html": [
       "<div>\n",
       "<style scoped>\n",
       "    .dataframe tbody tr th:only-of-type {\n",
       "        vertical-align: middle;\n",
       "    }\n",
       "\n",
       "    .dataframe tbody tr th {\n",
       "        vertical-align: top;\n",
       "    }\n",
       "\n",
       "    .dataframe thead th {\n",
       "        text-align: right;\n",
       "    }\n",
       "</style>\n",
       "<table border=\"1\" class=\"dataframe\">\n",
       "  <thead>\n",
       "    <tr style=\"text-align: right;\">\n",
       "      <th></th>\n",
       "      <th>date_crawled</th>\n",
       "      <th>price</th>\n",
       "      <th>vehicle_type</th>\n",
       "      <th>registration_year</th>\n",
       "      <th>gearbox</th>\n",
       "      <th>power</th>\n",
       "      <th>model</th>\n",
       "      <th>kilometer</th>\n",
       "      <th>registration_month</th>\n",
       "      <th>fuel_type</th>\n",
       "      <th>brand</th>\n",
       "      <th>not_repaired</th>\n",
       "      <th>date_created</th>\n",
       "      <th>number_of_pictures</th>\n",
       "      <th>postal_code</th>\n",
       "      <th>last_seen</th>\n",
       "    </tr>\n",
       "  </thead>\n",
       "  <tbody>\n",
       "    <tr>\n",
       "      <th>count</th>\n",
       "      <td>354365</td>\n",
       "      <td>354365.000000</td>\n",
       "      <td>316875</td>\n",
       "      <td>354365.000000</td>\n",
       "      <td>334532</td>\n",
       "      <td>354365.000000</td>\n",
       "      <td>334660</td>\n",
       "      <td>354365.000000</td>\n",
       "      <td>354365.000000</td>\n",
       "      <td>321470</td>\n",
       "      <td>354365</td>\n",
       "      <td>350666</td>\n",
       "      <td>354365</td>\n",
       "      <td>354365.0</td>\n",
       "      <td>354365.000000</td>\n",
       "      <td>354365</td>\n",
       "    </tr>\n",
       "    <tr>\n",
       "      <th>unique</th>\n",
       "      <td>271174</td>\n",
       "      <td>NaN</td>\n",
       "      <td>8</td>\n",
       "      <td>NaN</td>\n",
       "      <td>2</td>\n",
       "      <td>NaN</td>\n",
       "      <td>250</td>\n",
       "      <td>NaN</td>\n",
       "      <td>NaN</td>\n",
       "      <td>7</td>\n",
       "      <td>40</td>\n",
       "      <td>2</td>\n",
       "      <td>109</td>\n",
       "      <td>NaN</td>\n",
       "      <td>NaN</td>\n",
       "      <td>179150</td>\n",
       "    </tr>\n",
       "    <tr>\n",
       "      <th>top</th>\n",
       "      <td>2016-03-24 14:49:47</td>\n",
       "      <td>NaN</td>\n",
       "      <td>sedan</td>\n",
       "      <td>NaN</td>\n",
       "      <td>manual</td>\n",
       "      <td>NaN</td>\n",
       "      <td>golf</td>\n",
       "      <td>NaN</td>\n",
       "      <td>NaN</td>\n",
       "      <td>petrol</td>\n",
       "      <td>volkswagen</td>\n",
       "      <td>no</td>\n",
       "      <td>2016-04-03 00:00:00</td>\n",
       "      <td>NaN</td>\n",
       "      <td>NaN</td>\n",
       "      <td>2016-04-06 13:45:54</td>\n",
       "    </tr>\n",
       "    <tr>\n",
       "      <th>freq</th>\n",
       "      <td>7</td>\n",
       "      <td>NaN</td>\n",
       "      <td>91457</td>\n",
       "      <td>NaN</td>\n",
       "      <td>268249</td>\n",
       "      <td>NaN</td>\n",
       "      <td>29232</td>\n",
       "      <td>NaN</td>\n",
       "      <td>NaN</td>\n",
       "      <td>216349</td>\n",
       "      <td>77012</td>\n",
       "      <td>247158</td>\n",
       "      <td>13718</td>\n",
       "      <td>NaN</td>\n",
       "      <td>NaN</td>\n",
       "      <td>17</td>\n",
       "    </tr>\n",
       "    <tr>\n",
       "      <th>mean</th>\n",
       "      <td>NaN</td>\n",
       "      <td>4416.679830</td>\n",
       "      <td>NaN</td>\n",
       "      <td>2004.234481</td>\n",
       "      <td>NaN</td>\n",
       "      <td>110.093816</td>\n",
       "      <td>NaN</td>\n",
       "      <td>128211.363989</td>\n",
       "      <td>5.714650</td>\n",
       "      <td>NaN</td>\n",
       "      <td>NaN</td>\n",
       "      <td>NaN</td>\n",
       "      <td>NaN</td>\n",
       "      <td>0.0</td>\n",
       "      <td>50508.503800</td>\n",
       "      <td>NaN</td>\n",
       "    </tr>\n",
       "    <tr>\n",
       "      <th>std</th>\n",
       "      <td>NaN</td>\n",
       "      <td>4514.176349</td>\n",
       "      <td>NaN</td>\n",
       "      <td>90.228466</td>\n",
       "      <td>NaN</td>\n",
       "      <td>189.851330</td>\n",
       "      <td>NaN</td>\n",
       "      <td>37905.083858</td>\n",
       "      <td>3.726432</td>\n",
       "      <td>NaN</td>\n",
       "      <td>NaN</td>\n",
       "      <td>NaN</td>\n",
       "      <td>NaN</td>\n",
       "      <td>0.0</td>\n",
       "      <td>25783.100078</td>\n",
       "      <td>NaN</td>\n",
       "    </tr>\n",
       "    <tr>\n",
       "      <th>min</th>\n",
       "      <td>NaN</td>\n",
       "      <td>0.000000</td>\n",
       "      <td>NaN</td>\n",
       "      <td>1000.000000</td>\n",
       "      <td>NaN</td>\n",
       "      <td>0.000000</td>\n",
       "      <td>NaN</td>\n",
       "      <td>5000.000000</td>\n",
       "      <td>0.000000</td>\n",
       "      <td>NaN</td>\n",
       "      <td>NaN</td>\n",
       "      <td>NaN</td>\n",
       "      <td>NaN</td>\n",
       "      <td>0.0</td>\n",
       "      <td>1067.000000</td>\n",
       "      <td>NaN</td>\n",
       "    </tr>\n",
       "    <tr>\n",
       "      <th>25%</th>\n",
       "      <td>NaN</td>\n",
       "      <td>1050.000000</td>\n",
       "      <td>NaN</td>\n",
       "      <td>1999.000000</td>\n",
       "      <td>NaN</td>\n",
       "      <td>69.000000</td>\n",
       "      <td>NaN</td>\n",
       "      <td>125000.000000</td>\n",
       "      <td>3.000000</td>\n",
       "      <td>NaN</td>\n",
       "      <td>NaN</td>\n",
       "      <td>NaN</td>\n",
       "      <td>NaN</td>\n",
       "      <td>0.0</td>\n",
       "      <td>30165.000000</td>\n",
       "      <td>NaN</td>\n",
       "    </tr>\n",
       "    <tr>\n",
       "      <th>50%</th>\n",
       "      <td>NaN</td>\n",
       "      <td>2700.000000</td>\n",
       "      <td>NaN</td>\n",
       "      <td>2003.000000</td>\n",
       "      <td>NaN</td>\n",
       "      <td>105.000000</td>\n",
       "      <td>NaN</td>\n",
       "      <td>150000.000000</td>\n",
       "      <td>6.000000</td>\n",
       "      <td>NaN</td>\n",
       "      <td>NaN</td>\n",
       "      <td>NaN</td>\n",
       "      <td>NaN</td>\n",
       "      <td>0.0</td>\n",
       "      <td>49413.000000</td>\n",
       "      <td>NaN</td>\n",
       "    </tr>\n",
       "    <tr>\n",
       "      <th>75%</th>\n",
       "      <td>NaN</td>\n",
       "      <td>6400.000000</td>\n",
       "      <td>NaN</td>\n",
       "      <td>2008.000000</td>\n",
       "      <td>NaN</td>\n",
       "      <td>143.000000</td>\n",
       "      <td>NaN</td>\n",
       "      <td>150000.000000</td>\n",
       "      <td>9.000000</td>\n",
       "      <td>NaN</td>\n",
       "      <td>NaN</td>\n",
       "      <td>NaN</td>\n",
       "      <td>NaN</td>\n",
       "      <td>0.0</td>\n",
       "      <td>71083.000000</td>\n",
       "      <td>NaN</td>\n",
       "    </tr>\n",
       "    <tr>\n",
       "      <th>max</th>\n",
       "      <td>NaN</td>\n",
       "      <td>20000.000000</td>\n",
       "      <td>NaN</td>\n",
       "      <td>9999.000000</td>\n",
       "      <td>NaN</td>\n",
       "      <td>20000.000000</td>\n",
       "      <td>NaN</td>\n",
       "      <td>150000.000000</td>\n",
       "      <td>12.000000</td>\n",
       "      <td>NaN</td>\n",
       "      <td>NaN</td>\n",
       "      <td>NaN</td>\n",
       "      <td>NaN</td>\n",
       "      <td>0.0</td>\n",
       "      <td>99998.000000</td>\n",
       "      <td>NaN</td>\n",
       "    </tr>\n",
       "  </tbody>\n",
       "</table>\n",
       "</div>"
      ],
      "text/plain": [
       "               date_crawled          price vehicle_type  registration_year  \\\n",
       "count                354365  354365.000000       316875      354365.000000   \n",
       "unique               271174            NaN            8                NaN   \n",
       "top     2016-03-24 14:49:47            NaN        sedan                NaN   \n",
       "freq                      7            NaN        91457                NaN   \n",
       "mean                    NaN    4416.679830          NaN        2004.234481   \n",
       "std                     NaN    4514.176349          NaN          90.228466   \n",
       "min                     NaN       0.000000          NaN        1000.000000   \n",
       "25%                     NaN    1050.000000          NaN        1999.000000   \n",
       "50%                     NaN    2700.000000          NaN        2003.000000   \n",
       "75%                     NaN    6400.000000          NaN        2008.000000   \n",
       "max                     NaN   20000.000000          NaN        9999.000000   \n",
       "\n",
       "       gearbox          power   model      kilometer  registration_month  \\\n",
       "count   334532  354365.000000  334660  354365.000000       354365.000000   \n",
       "unique       2            NaN     250            NaN                 NaN   \n",
       "top     manual            NaN    golf            NaN                 NaN   \n",
       "freq    268249            NaN   29232            NaN                 NaN   \n",
       "mean       NaN     110.093816     NaN  128211.363989            5.714650   \n",
       "std        NaN     189.851330     NaN   37905.083858            3.726432   \n",
       "min        NaN       0.000000     NaN    5000.000000            0.000000   \n",
       "25%        NaN      69.000000     NaN  125000.000000            3.000000   \n",
       "50%        NaN     105.000000     NaN  150000.000000            6.000000   \n",
       "75%        NaN     143.000000     NaN  150000.000000            9.000000   \n",
       "max        NaN   20000.000000     NaN  150000.000000           12.000000   \n",
       "\n",
       "       fuel_type       brand not_repaired         date_created  \\\n",
       "count     321470      354365       350666               354365   \n",
       "unique         7          40            2                  109   \n",
       "top       petrol  volkswagen           no  2016-04-03 00:00:00   \n",
       "freq      216349       77012       247158                13718   \n",
       "mean         NaN         NaN          NaN                  NaN   \n",
       "std          NaN         NaN          NaN                  NaN   \n",
       "min          NaN         NaN          NaN                  NaN   \n",
       "25%          NaN         NaN          NaN                  NaN   \n",
       "50%          NaN         NaN          NaN                  NaN   \n",
       "75%          NaN         NaN          NaN                  NaN   \n",
       "max          NaN         NaN          NaN                  NaN   \n",
       "\n",
       "        number_of_pictures    postal_code            last_seen  \n",
       "count             354365.0  354365.000000               354365  \n",
       "unique                 NaN            NaN               179150  \n",
       "top                    NaN            NaN  2016-04-06 13:45:54  \n",
       "freq                   NaN            NaN                   17  \n",
       "mean                   0.0   50508.503800                  NaN  \n",
       "std                    0.0   25783.100078                  NaN  \n",
       "min                    0.0    1067.000000                  NaN  \n",
       "25%                    0.0   30165.000000                  NaN  \n",
       "50%                    0.0   49413.000000                  NaN  \n",
       "75%                    0.0   71083.000000                  NaN  \n",
       "max                    0.0   99998.000000                  NaN  "
      ]
     },
     "execution_count": 17,
     "metadata": {},
     "output_type": "execute_result"
    }
   ],
   "source": [
    "df.describe(include='all')"
   ]
  },
  {
   "cell_type": "markdown",
   "metadata": {},
   "source": [
    "Можно заметить что в столбцах: **\"price\"**, **\"registration_year\"** и **\"power\"** есть нереальные значения **min** и **max**. Будем их обрабатывать. "
   ]
  },
  {
   "cell_type": "code",
   "execution_count": 18,
   "metadata": {},
   "outputs": [],
   "source": [
    "df = df.loc[df['price'] > 10]\n",
    "df = df.loc[(df['registration_year'] > 1950) & (df['registration_year'] < 2020)]\n",
    "df = df.loc[(df['power'] > 50) & (df['power'] < 500)]"
   ]
  },
  {
   "cell_type": "markdown",
   "metadata": {},
   "source": [
    "Отфильтровали DataFrame по стоимости машин от 10 долларов, т к год покупки у нас абсолютно любой и состояние машин тоже не известно, поэтому выбрали стоимость в 10 долларов. Год регистрации ограничили с 1950 по 2020, раньше 1950 года машина вряд ли будет стоить так дешево, реаритет всё таки :)) и мощность машины ограничели от 50 до 500 лс, т к если больше 500 лс, то и стоить она будет не 20,000$, а гораздо дороже вне зависимости от года. Считаю, что эти ограничения вполне приемлемы."
   ]
  },
  {
   "cell_type": "code",
   "execution_count": 19,
   "metadata": {},
   "outputs": [
    {
     "data": {
      "text/html": [
       "<div>\n",
       "<style scoped>\n",
       "    .dataframe tbody tr th:only-of-type {\n",
       "        vertical-align: middle;\n",
       "    }\n",
       "\n",
       "    .dataframe tbody tr th {\n",
       "        vertical-align: top;\n",
       "    }\n",
       "\n",
       "    .dataframe thead th {\n",
       "        text-align: right;\n",
       "    }\n",
       "</style>\n",
       "<table border=\"1\" class=\"dataframe\">\n",
       "  <thead>\n",
       "    <tr style=\"text-align: right;\">\n",
       "      <th></th>\n",
       "      <th>date_crawled</th>\n",
       "      <th>price</th>\n",
       "      <th>vehicle_type</th>\n",
       "      <th>registration_year</th>\n",
       "      <th>gearbox</th>\n",
       "      <th>power</th>\n",
       "      <th>model</th>\n",
       "      <th>kilometer</th>\n",
       "      <th>registration_month</th>\n",
       "      <th>fuel_type</th>\n",
       "      <th>brand</th>\n",
       "      <th>not_repaired</th>\n",
       "      <th>date_created</th>\n",
       "      <th>number_of_pictures</th>\n",
       "      <th>postal_code</th>\n",
       "      <th>last_seen</th>\n",
       "    </tr>\n",
       "  </thead>\n",
       "  <tbody>\n",
       "    <tr>\n",
       "      <th>count</th>\n",
       "      <td>295833</td>\n",
       "      <td>295833.000000</td>\n",
       "      <td>275716</td>\n",
       "      <td>295833.000000</td>\n",
       "      <td>290411</td>\n",
       "      <td>295833.000000</td>\n",
       "      <td>284337</td>\n",
       "      <td>295833.000000</td>\n",
       "      <td>295833.000000</td>\n",
       "      <td>277448</td>\n",
       "      <td>295833</td>\n",
       "      <td>294901</td>\n",
       "      <td>295833</td>\n",
       "      <td>295833.0</td>\n",
       "      <td>295833.000000</td>\n",
       "      <td>295833</td>\n",
       "    </tr>\n",
       "    <tr>\n",
       "      <th>unique</th>\n",
       "      <td>236929</td>\n",
       "      <td>NaN</td>\n",
       "      <td>8</td>\n",
       "      <td>NaN</td>\n",
       "      <td>2</td>\n",
       "      <td>NaN</td>\n",
       "      <td>248</td>\n",
       "      <td>NaN</td>\n",
       "      <td>NaN</td>\n",
       "      <td>7</td>\n",
       "      <td>40</td>\n",
       "      <td>2</td>\n",
       "      <td>106</td>\n",
       "      <td>NaN</td>\n",
       "      <td>NaN</td>\n",
       "      <td>154354</td>\n",
       "    </tr>\n",
       "    <tr>\n",
       "      <th>top</th>\n",
       "      <td>2016-03-19 21:49:56</td>\n",
       "      <td>NaN</td>\n",
       "      <td>sedan</td>\n",
       "      <td>NaN</td>\n",
       "      <td>manual</td>\n",
       "      <td>NaN</td>\n",
       "      <td>golf</td>\n",
       "      <td>NaN</td>\n",
       "      <td>NaN</td>\n",
       "      <td>petrol</td>\n",
       "      <td>volkswagen</td>\n",
       "      <td>no</td>\n",
       "      <td>2016-04-03 00:00:00</td>\n",
       "      <td>NaN</td>\n",
       "      <td>NaN</td>\n",
       "      <td>2016-04-07 09:44:27</td>\n",
       "    </tr>\n",
       "    <tr>\n",
       "      <th>freq</th>\n",
       "      <td>6</td>\n",
       "      <td>NaN</td>\n",
       "      <td>82343</td>\n",
       "      <td>NaN</td>\n",
       "      <td>231185</td>\n",
       "      <td>NaN</td>\n",
       "      <td>25873</td>\n",
       "      <td>NaN</td>\n",
       "      <td>NaN</td>\n",
       "      <td>183339</td>\n",
       "      <td>62766</td>\n",
       "      <td>223472</td>\n",
       "      <td>11693</td>\n",
       "      <td>NaN</td>\n",
       "      <td>NaN</td>\n",
       "      <td>16</td>\n",
       "    </tr>\n",
       "    <tr>\n",
       "      <th>mean</th>\n",
       "      <td>NaN</td>\n",
       "      <td>4927.683910</td>\n",
       "      <td>NaN</td>\n",
       "      <td>2003.519935</td>\n",
       "      <td>NaN</td>\n",
       "      <td>122.664753</td>\n",
       "      <td>NaN</td>\n",
       "      <td>128596.911095</td>\n",
       "      <td>5.982967</td>\n",
       "      <td>NaN</td>\n",
       "      <td>NaN</td>\n",
       "      <td>NaN</td>\n",
       "      <td>NaN</td>\n",
       "      <td>0.0</td>\n",
       "      <td>51301.966319</td>\n",
       "      <td>NaN</td>\n",
       "    </tr>\n",
       "    <tr>\n",
       "      <th>std</th>\n",
       "      <td>NaN</td>\n",
       "      <td>4601.168568</td>\n",
       "      <td>NaN</td>\n",
       "      <td>6.662681</td>\n",
       "      <td>NaN</td>\n",
       "      <td>52.236656</td>\n",
       "      <td>NaN</td>\n",
       "      <td>36519.610820</td>\n",
       "      <td>3.590904</td>\n",
       "      <td>NaN</td>\n",
       "      <td>NaN</td>\n",
       "      <td>NaN</td>\n",
       "      <td>NaN</td>\n",
       "      <td>0.0</td>\n",
       "      <td>25774.224663</td>\n",
       "      <td>NaN</td>\n",
       "    </tr>\n",
       "    <tr>\n",
       "      <th>min</th>\n",
       "      <td>NaN</td>\n",
       "      <td>11.000000</td>\n",
       "      <td>NaN</td>\n",
       "      <td>1951.000000</td>\n",
       "      <td>NaN</td>\n",
       "      <td>51.000000</td>\n",
       "      <td>NaN</td>\n",
       "      <td>5000.000000</td>\n",
       "      <td>0.000000</td>\n",
       "      <td>NaN</td>\n",
       "      <td>NaN</td>\n",
       "      <td>NaN</td>\n",
       "      <td>NaN</td>\n",
       "      <td>0.0</td>\n",
       "      <td>1067.000000</td>\n",
       "      <td>NaN</td>\n",
       "    </tr>\n",
       "    <tr>\n",
       "      <th>25%</th>\n",
       "      <td>NaN</td>\n",
       "      <td>1400.000000</td>\n",
       "      <td>NaN</td>\n",
       "      <td>1999.000000</td>\n",
       "      <td>NaN</td>\n",
       "      <td>82.000000</td>\n",
       "      <td>NaN</td>\n",
       "      <td>125000.000000</td>\n",
       "      <td>3.000000</td>\n",
       "      <td>NaN</td>\n",
       "      <td>NaN</td>\n",
       "      <td>NaN</td>\n",
       "      <td>NaN</td>\n",
       "      <td>0.0</td>\n",
       "      <td>30982.000000</td>\n",
       "      <td>NaN</td>\n",
       "    </tr>\n",
       "    <tr>\n",
       "      <th>50%</th>\n",
       "      <td>NaN</td>\n",
       "      <td>3300.000000</td>\n",
       "      <td>NaN</td>\n",
       "      <td>2004.000000</td>\n",
       "      <td>NaN</td>\n",
       "      <td>115.000000</td>\n",
       "      <td>NaN</td>\n",
       "      <td>150000.000000</td>\n",
       "      <td>6.000000</td>\n",
       "      <td>NaN</td>\n",
       "      <td>NaN</td>\n",
       "      <td>NaN</td>\n",
       "      <td>NaN</td>\n",
       "      <td>0.0</td>\n",
       "      <td>50321.000000</td>\n",
       "      <td>NaN</td>\n",
       "    </tr>\n",
       "    <tr>\n",
       "      <th>75%</th>\n",
       "      <td>NaN</td>\n",
       "      <td>7000.000000</td>\n",
       "      <td>NaN</td>\n",
       "      <td>2008.000000</td>\n",
       "      <td>NaN</td>\n",
       "      <td>150.000000</td>\n",
       "      <td>NaN</td>\n",
       "      <td>150000.000000</td>\n",
       "      <td>9.000000</td>\n",
       "      <td>NaN</td>\n",
       "      <td>NaN</td>\n",
       "      <td>NaN</td>\n",
       "      <td>NaN</td>\n",
       "      <td>0.0</td>\n",
       "      <td>72127.000000</td>\n",
       "      <td>NaN</td>\n",
       "    </tr>\n",
       "    <tr>\n",
       "      <th>max</th>\n",
       "      <td>NaN</td>\n",
       "      <td>20000.000000</td>\n",
       "      <td>NaN</td>\n",
       "      <td>2019.000000</td>\n",
       "      <td>NaN</td>\n",
       "      <td>490.000000</td>\n",
       "      <td>NaN</td>\n",
       "      <td>150000.000000</td>\n",
       "      <td>12.000000</td>\n",
       "      <td>NaN</td>\n",
       "      <td>NaN</td>\n",
       "      <td>NaN</td>\n",
       "      <td>NaN</td>\n",
       "      <td>0.0</td>\n",
       "      <td>99998.000000</td>\n",
       "      <td>NaN</td>\n",
       "    </tr>\n",
       "  </tbody>\n",
       "</table>\n",
       "</div>"
      ],
      "text/plain": [
       "               date_crawled          price vehicle_type  registration_year  \\\n",
       "count                295833  295833.000000       275716      295833.000000   \n",
       "unique               236929            NaN            8                NaN   \n",
       "top     2016-03-19 21:49:56            NaN        sedan                NaN   \n",
       "freq                      6            NaN        82343                NaN   \n",
       "mean                    NaN    4927.683910          NaN        2003.519935   \n",
       "std                     NaN    4601.168568          NaN           6.662681   \n",
       "min                     NaN      11.000000          NaN        1951.000000   \n",
       "25%                     NaN    1400.000000          NaN        1999.000000   \n",
       "50%                     NaN    3300.000000          NaN        2004.000000   \n",
       "75%                     NaN    7000.000000          NaN        2008.000000   \n",
       "max                     NaN   20000.000000          NaN        2019.000000   \n",
       "\n",
       "       gearbox          power   model      kilometer  registration_month  \\\n",
       "count   290411  295833.000000  284337  295833.000000       295833.000000   \n",
       "unique       2            NaN     248            NaN                 NaN   \n",
       "top     manual            NaN    golf            NaN                 NaN   \n",
       "freq    231185            NaN   25873            NaN                 NaN   \n",
       "mean       NaN     122.664753     NaN  128596.911095            5.982967   \n",
       "std        NaN      52.236656     NaN   36519.610820            3.590904   \n",
       "min        NaN      51.000000     NaN    5000.000000            0.000000   \n",
       "25%        NaN      82.000000     NaN  125000.000000            3.000000   \n",
       "50%        NaN     115.000000     NaN  150000.000000            6.000000   \n",
       "75%        NaN     150.000000     NaN  150000.000000            9.000000   \n",
       "max        NaN     490.000000     NaN  150000.000000           12.000000   \n",
       "\n",
       "       fuel_type       brand not_repaired         date_created  \\\n",
       "count     277448      295833       294901               295833   \n",
       "unique         7          40            2                  106   \n",
       "top       petrol  volkswagen           no  2016-04-03 00:00:00   \n",
       "freq      183339       62766       223472                11693   \n",
       "mean         NaN         NaN          NaN                  NaN   \n",
       "std          NaN         NaN          NaN                  NaN   \n",
       "min          NaN         NaN          NaN                  NaN   \n",
       "25%          NaN         NaN          NaN                  NaN   \n",
       "50%          NaN         NaN          NaN                  NaN   \n",
       "75%          NaN         NaN          NaN                  NaN   \n",
       "max          NaN         NaN          NaN                  NaN   \n",
       "\n",
       "        number_of_pictures    postal_code            last_seen  \n",
       "count             295833.0  295833.000000               295833  \n",
       "unique                 NaN            NaN               154354  \n",
       "top                    NaN            NaN  2016-04-07 09:44:27  \n",
       "freq                   NaN            NaN                   16  \n",
       "mean                   0.0   51301.966319                  NaN  \n",
       "std                    0.0   25774.224663                  NaN  \n",
       "min                    0.0    1067.000000                  NaN  \n",
       "25%                    0.0   30982.000000                  NaN  \n",
       "50%                    0.0   50321.000000                  NaN  \n",
       "75%                    0.0   72127.000000                  NaN  \n",
       "max                    0.0   99998.000000                  NaN  "
      ]
     },
     "execution_count": 19,
     "metadata": {},
     "output_type": "execute_result"
    }
   ],
   "source": [
    "df.describe(include='all')"
   ]
  },
  {
   "cell_type": "code",
   "execution_count": 20,
   "metadata": {},
   "outputs": [
    {
     "name": "stdout",
     "output_type": "stream",
     "text": [
      "<class 'pandas.core.frame.DataFrame'>\n",
      "Int64Index: 295833 entries, 1 to 354368\n",
      "Data columns (total 16 columns):\n",
      " #   Column              Non-Null Count   Dtype \n",
      "---  ------              --------------   ----- \n",
      " 0   date_crawled        295833 non-null  object\n",
      " 1   price               295833 non-null  int64 \n",
      " 2   vehicle_type        275716 non-null  object\n",
      " 3   registration_year   295833 non-null  int64 \n",
      " 4   gearbox             290411 non-null  object\n",
      " 5   power               295833 non-null  int64 \n",
      " 6   model               284337 non-null  object\n",
      " 7   kilometer           295833 non-null  int64 \n",
      " 8   registration_month  295833 non-null  int64 \n",
      " 9   fuel_type           277448 non-null  object\n",
      " 10  brand               295833 non-null  object\n",
      " 11  not_repaired        294901 non-null  object\n",
      " 12  date_created        295833 non-null  object\n",
      " 13  number_of_pictures  295833 non-null  int64 \n",
      " 14  postal_code         295833 non-null  int64 \n",
      " 15  last_seen           295833 non-null  object\n",
      "dtypes: int64(7), object(9)\n",
      "memory usage: 38.4+ MB\n"
     ]
    }
   ],
   "source": [
    "df.info()"
   ]
  },
  {
   "cell_type": "markdown",
   "metadata": {},
   "source": [
    "### Копирование DataFrame"
   ]
  },
  {
   "cell_type": "code",
   "execution_count": 21,
   "metadata": {},
   "outputs": [],
   "source": [
    "df_fill_nan = df.copy()"
   ]
  },
  {
   "cell_type": "markdown",
   "metadata": {},
   "source": [
    "### Удаление строк со значением NaN"
   ]
  },
  {
   "cell_type": "code",
   "execution_count": 22,
   "metadata": {
    "scrolled": true
   },
   "outputs": [],
   "source": [
    "df = df.dropna()"
   ]
  },
  {
   "cell_type": "markdown",
   "metadata": {},
   "source": [
    "Удалили все строки со значением **NaN**"
   ]
  },
  {
   "cell_type": "markdown",
   "metadata": {},
   "source": [
    "### Заполнение значений NaN"
   ]
  },
  {
   "cell_type": "code",
   "execution_count": 23,
   "metadata": {},
   "outputs": [
    {
     "name": "stdout",
     "output_type": "stream",
     "text": [
      "CPU times: user 2 µs, sys: 0 ns, total: 2 µs\n",
      "Wall time: 5.48 µs\n"
     ]
    }
   ],
   "source": [
    "%time\n",
    "imp = SimpleImputer(strategy=\"most_frequent\")\n",
    "\n",
    "df_fill_nan[['fuel_type', 'vehicle_type']] = imp.fit_transform(df_fill_nan[['fuel_type', 'vehicle_type']])"
   ]
  },
  {
   "cell_type": "markdown",
   "metadata": {},
   "source": [
    "Для заполнения **NaN** в категорильных столбцах, применили **SimpleImputer** - заполняет наиболее частым значением.\n",
    "\n",
    "Заполнили столбец **\"fuel_type\"** значение **\"petrol\"** т к это самое встречающееся значение столбце.\n",
    "\n",
    "Заполним столбец **\"vehicle_type\"** значением **\"sedan\"** - т к это самое распространенное значение, + **\"small\"** и **\"wagon\"** по сравнению с **\"sedan\"** примерно одинаково стоят, еще следует учитывать тот факт, что **\"sedan\"**, **\"small\"** и **\"wagon**\" разные люди, могут поразному их записать(перепутать, неправильно определить класс машины)."
   ]
  },
  {
   "cell_type": "code",
   "execution_count": 24,
   "metadata": {
    "scrolled": true
   },
   "outputs": [
    {
     "data": {
      "text/html": [
       "<div>\n",
       "<style scoped>\n",
       "    .dataframe tbody tr th:only-of-type {\n",
       "        vertical-align: middle;\n",
       "    }\n",
       "\n",
       "    .dataframe tbody tr th {\n",
       "        vertical-align: top;\n",
       "    }\n",
       "\n",
       "    .dataframe thead th {\n",
       "        text-align: right;\n",
       "    }\n",
       "</style>\n",
       "<table border=\"1\" class=\"dataframe\">\n",
       "  <thead>\n",
       "    <tr style=\"text-align: right;\">\n",
       "      <th></th>\n",
       "      <th>date_crawled</th>\n",
       "      <th>price</th>\n",
       "      <th>vehicle_type</th>\n",
       "      <th>registration_year</th>\n",
       "      <th>gearbox</th>\n",
       "      <th>power</th>\n",
       "      <th>model</th>\n",
       "      <th>kilometer</th>\n",
       "      <th>registration_month</th>\n",
       "      <th>fuel_type</th>\n",
       "      <th>brand</th>\n",
       "      <th>not_repaired</th>\n",
       "      <th>date_created</th>\n",
       "      <th>number_of_pictures</th>\n",
       "      <th>postal_code</th>\n",
       "      <th>last_seen</th>\n",
       "    </tr>\n",
       "  </thead>\n",
       "  <tbody>\n",
       "  </tbody>\n",
       "</table>\n",
       "</div>"
      ],
      "text/plain": [
       "Empty DataFrame\n",
       "Columns: [date_crawled, price, vehicle_type, registration_year, gearbox, power, model, kilometer, registration_month, fuel_type, brand, not_repaired, date_created, number_of_pictures, postal_code, last_seen]\n",
       "Index: []"
      ]
     },
     "execution_count": 24,
     "metadata": {},
     "output_type": "execute_result"
    }
   ],
   "source": [
    "df_fill_nan[df_fill_nan['fuel_type'].isnull()].head()"
   ]
  },
  {
   "cell_type": "markdown",
   "metadata": {},
   "source": [
    "Проверяем"
   ]
  },
  {
   "cell_type": "code",
   "execution_count": 25,
   "metadata": {},
   "outputs": [],
   "source": [
    "df_fill_nan['gearbox'] = df_fill_nan['gearbox'].fillna('Unknown') \n",
    "df_fill_nan['model'] = df_fill_nan['model'].fillna('Unknown') \n",
    "df_fill_nan['not_repaired'] = df_fill_nan['not_repaired'].fillna('Unknown') "
   ]
  },
  {
   "cell_type": "markdown",
   "metadata": {},
   "source": [
    "Заполнил остальные значения **\"NaN\"** - значением **'Unknown'**. Для того, чтобы сохранить данные, не внося дополнительные шумы."
   ]
  },
  {
   "cell_type": "code",
   "execution_count": 26,
   "metadata": {
    "scrolled": false
   },
   "outputs": [
    {
     "data": {
      "text/plain": [
       "date_crawled          0\n",
       "price                 0\n",
       "vehicle_type          0\n",
       "registration_year     0\n",
       "gearbox               0\n",
       "power                 0\n",
       "model                 0\n",
       "kilometer             0\n",
       "registration_month    0\n",
       "fuel_type             0\n",
       "brand                 0\n",
       "not_repaired          0\n",
       "date_created          0\n",
       "number_of_pictures    0\n",
       "postal_code           0\n",
       "last_seen             0\n",
       "dtype: int64"
      ]
     },
     "execution_count": 26,
     "metadata": {},
     "output_type": "execute_result"
    }
   ],
   "source": [
    "df_fill_nan.isnull().sum()"
   ]
  },
  {
   "cell_type": "markdown",
   "metadata": {},
   "source": [
    "Все значения **\"NaN\"** заполнены."
   ]
  },
  {
   "cell_type": "markdown",
   "metadata": {},
   "source": [
    "### Удаление ненужных признаков."
   ]
  },
  {
   "cell_type": "code",
   "execution_count": 27,
   "metadata": {
    "scrolled": true
   },
   "outputs": [
    {
     "data": {
      "text/html": [
       "<div>\n",
       "<style scoped>\n",
       "    .dataframe tbody tr th:only-of-type {\n",
       "        vertical-align: middle;\n",
       "    }\n",
       "\n",
       "    .dataframe tbody tr th {\n",
       "        vertical-align: top;\n",
       "    }\n",
       "\n",
       "    .dataframe thead th {\n",
       "        text-align: right;\n",
       "    }\n",
       "</style>\n",
       "<table border=\"1\" class=\"dataframe\">\n",
       "  <thead>\n",
       "    <tr style=\"text-align: right;\">\n",
       "      <th></th>\n",
       "      <th>price</th>\n",
       "      <th>vehicle_type</th>\n",
       "      <th>registration_year</th>\n",
       "      <th>gearbox</th>\n",
       "      <th>power</th>\n",
       "      <th>model</th>\n",
       "      <th>kilometer</th>\n",
       "      <th>fuel_type</th>\n",
       "      <th>brand</th>\n",
       "      <th>not_repaired</th>\n",
       "    </tr>\n",
       "  </thead>\n",
       "  <tbody>\n",
       "    <tr>\n",
       "      <th>2</th>\n",
       "      <td>9800</td>\n",
       "      <td>suv</td>\n",
       "      <td>2004</td>\n",
       "      <td>auto</td>\n",
       "      <td>163</td>\n",
       "      <td>grand</td>\n",
       "      <td>125000</td>\n",
       "      <td>gasoline</td>\n",
       "      <td>jeep</td>\n",
       "      <td>yes</td>\n",
       "    </tr>\n",
       "    <tr>\n",
       "      <th>3</th>\n",
       "      <td>1500</td>\n",
       "      <td>small</td>\n",
       "      <td>2001</td>\n",
       "      <td>manual</td>\n",
       "      <td>75</td>\n",
       "      <td>golf</td>\n",
       "      <td>150000</td>\n",
       "      <td>petrol</td>\n",
       "      <td>volkswagen</td>\n",
       "      <td>no</td>\n",
       "    </tr>\n",
       "  </tbody>\n",
       "</table>\n",
       "</div>"
      ],
      "text/plain": [
       "   price vehicle_type  registration_year gearbox  power  model  kilometer  \\\n",
       "2   9800          suv               2004    auto    163  grand     125000   \n",
       "3   1500        small               2001  manual     75   golf     150000   \n",
       "\n",
       "  fuel_type       brand not_repaired  \n",
       "2  gasoline        jeep          yes  \n",
       "3    petrol  volkswagen           no  "
      ]
     },
     "execution_count": 27,
     "metadata": {},
     "output_type": "execute_result"
    }
   ],
   "source": [
    "colum = ['date_crawled', \n",
    "         'registration_month', \n",
    "         'date_created', \n",
    "         'number_of_pictures', \n",
    "         'postal_code', \n",
    "         'last_seen']\n",
    "\n",
    "df = df.drop(columns=colum) \n",
    "df_fill_nan = df_fill_nan.drop(columns=colum)\n",
    "df.head(2)   # Проверяем удаление"
   ]
  },
  {
   "cell_type": "markdown",
   "metadata": {},
   "source": [
    "Признак **\"registration_year\"** - удалять не будем, т к это год покупки машины(нового автомобиля). Оставили только самые важные признаки в DataFrame с удаленными **NaN** значениями и с заполнеными значениями."
   ]
  },
  {
   "cell_type": "markdown",
   "metadata": {},
   "source": [
    "### Кодирование категориальных признаков"
   ]
  },
  {
   "cell_type": "code",
   "execution_count": 28,
   "metadata": {
    "scrolled": true
   },
   "outputs": [
    {
     "data": {
      "text/html": [
       "<div>\n",
       "<style scoped>\n",
       "    .dataframe tbody tr th:only-of-type {\n",
       "        vertical-align: middle;\n",
       "    }\n",
       "\n",
       "    .dataframe tbody tr th {\n",
       "        vertical-align: top;\n",
       "    }\n",
       "\n",
       "    .dataframe thead th {\n",
       "        text-align: right;\n",
       "    }\n",
       "</style>\n",
       "<table border=\"1\" class=\"dataframe\">\n",
       "  <thead>\n",
       "    <tr style=\"text-align: right;\">\n",
       "      <th></th>\n",
       "      <th>price</th>\n",
       "      <th>vehicle_type</th>\n",
       "      <th>registration_year</th>\n",
       "      <th>gearbox</th>\n",
       "      <th>power</th>\n",
       "      <th>model</th>\n",
       "      <th>kilometer</th>\n",
       "      <th>fuel_type</th>\n",
       "      <th>brand</th>\n",
       "      <th>not_repaired</th>\n",
       "    </tr>\n",
       "  </thead>\n",
       "  <tbody>\n",
       "    <tr>\n",
       "      <th>2</th>\n",
       "      <td>9800</td>\n",
       "      <td>suv</td>\n",
       "      <td>2004</td>\n",
       "      <td>auto</td>\n",
       "      <td>163</td>\n",
       "      <td>grand</td>\n",
       "      <td>125000</td>\n",
       "      <td>gasoline</td>\n",
       "      <td>jeep</td>\n",
       "      <td>yes</td>\n",
       "    </tr>\n",
       "    <tr>\n",
       "      <th>3</th>\n",
       "      <td>1500</td>\n",
       "      <td>small</td>\n",
       "      <td>2001</td>\n",
       "      <td>manual</td>\n",
       "      <td>75</td>\n",
       "      <td>golf</td>\n",
       "      <td>150000</td>\n",
       "      <td>petrol</td>\n",
       "      <td>volkswagen</td>\n",
       "      <td>no</td>\n",
       "    </tr>\n",
       "  </tbody>\n",
       "</table>\n",
       "</div>"
      ],
      "text/plain": [
       "   price vehicle_type  registration_year gearbox  power  model  kilometer  \\\n",
       "2   9800          suv               2004    auto    163  grand     125000   \n",
       "3   1500        small               2001  manual     75   golf     150000   \n",
       "\n",
       "  fuel_type       brand not_repaired  \n",
       "2  gasoline        jeep          yes  \n",
       "3    petrol  volkswagen           no  "
      ]
     },
     "execution_count": 28,
     "metadata": {},
     "output_type": "execute_result"
    }
   ],
   "source": [
    "df.head(2)"
   ]
  },
  {
   "cell_type": "code",
   "execution_count": 29,
   "metadata": {},
   "outputs": [],
   "source": [
    "encoder = OrdinalEncoder()\n",
    "\n",
    "df[['not_repaired', \n",
    "    'gearbox', \n",
    "    'vehicle_type',\n",
    "    'fuel_type',\n",
    "    'model',\n",
    "    'brand']] = encoder.fit_transform(df[['not_repaired', \n",
    "                                          'gearbox', \n",
    "                                          'vehicle_type',\n",
    "                                          'fuel_type',\n",
    "                                          'model',\n",
    "                                          'brand']])\n",
    "\n",
    "df_fill_nan[['not_repaired', \n",
    "             'gearbox', \n",
    "             'vehicle_type',\n",
    "             'fuel_type',\n",
    "             'model',\n",
    "             'brand']] = encoder.fit_transform(df_fill_nan[['not_repaired', \n",
    "                                                            'gearbox', \n",
    "                                                            'vehicle_type',\n",
    "                                                            'fuel_type',\n",
    "                                                            'model',\n",
    "                                                            'brand']])"
   ]
  },
  {
   "cell_type": "markdown",
   "metadata": {},
   "source": [
    "Применяем **OrdinalEncoder** к двум DataFrame т к большое количество категорий в столбцах."
   ]
  },
  {
   "cell_type": "markdown",
   "metadata": {},
   "source": [
    "### Разбиение признаков "
   ]
  },
  {
   "cell_type": "code",
   "execution_count": 30,
   "metadata": {},
   "outputs": [],
   "source": [
    "target_df = df['price']\n",
    "features_df = df.drop('price', axis=1)\n",
    "\n",
    "features_train_df, features_valid_df, target_train_df, target_valid_df = train_test_split(\n",
    "    features_df.copy(), target_df.copy(), test_size=0.25, random_state=69)\n"
   ]
  },
  {
   "cell_type": "markdown",
   "metadata": {},
   "source": [
    "Разбили признаки для DataFrame с удаленными значениями **NaN**"
   ]
  },
  {
   "cell_type": "code",
   "execution_count": 31,
   "metadata": {},
   "outputs": [],
   "source": [
    "train_fill_nan, validate_fill_nan, test_fill_nan = np.split(df_fill_nan.sample(frac=1, \n",
    "                                                                               random_state=42), [int(.6*len(df)), \n",
    "                                                                                                  int(.8*len(df))])\n",
    "\n",
    "features_train_fill_nan = train_fill_nan.drop(['price'], axis=1)\n",
    "target_train_fill_nan = train_fill_nan.price\n",
    "\n",
    "features_validate_fill_nan = validate_fill_nan.drop(['price'], axis=1)\n",
    "target_validate_fill_nan = validate_fill_nan.price\n",
    "\n",
    "features_test_fill_nan = test_fill_nan.drop(['price'], axis=1)\n",
    "target_test_fill_nan = test_fill_nan.price\n"
   ]
  },
  {
   "cell_type": "markdown",
   "metadata": {},
   "source": [
    "Разбили df на тестовую, валидационную и обучающую выборку."
   ]
  },
  {
   "cell_type": "markdown",
   "metadata": {},
   "source": [
    "Сделали ту же операцию и для второго DataFrame "
   ]
  },
  {
   "cell_type": "markdown",
   "metadata": {},
   "source": [
    "### Масштабирование количественных признаков"
   ]
  },
  {
   "cell_type": "code",
   "execution_count": 32,
   "metadata": {
    "scrolled": true
   },
   "outputs": [
    {
     "data": {
      "text/html": [
       "<div>\n",
       "<style scoped>\n",
       "    .dataframe tbody tr th:only-of-type {\n",
       "        vertical-align: middle;\n",
       "    }\n",
       "\n",
       "    .dataframe tbody tr th {\n",
       "        vertical-align: top;\n",
       "    }\n",
       "\n",
       "    .dataframe thead th {\n",
       "        text-align: right;\n",
       "    }\n",
       "</style>\n",
       "<table border=\"1\" class=\"dataframe\">\n",
       "  <thead>\n",
       "    <tr style=\"text-align: right;\">\n",
       "      <th></th>\n",
       "      <th>price</th>\n",
       "      <th>vehicle_type</th>\n",
       "      <th>registration_year</th>\n",
       "      <th>gearbox</th>\n",
       "      <th>power</th>\n",
       "      <th>model</th>\n",
       "      <th>kilometer</th>\n",
       "      <th>fuel_type</th>\n",
       "      <th>brand</th>\n",
       "      <th>not_repaired</th>\n",
       "    </tr>\n",
       "  </thead>\n",
       "  <tbody>\n",
       "    <tr>\n",
       "      <th>2</th>\n",
       "      <td>9800</td>\n",
       "      <td>6.0</td>\n",
       "      <td>2004</td>\n",
       "      <td>0.0</td>\n",
       "      <td>163</td>\n",
       "      <td>116.0</td>\n",
       "      <td>125000</td>\n",
       "      <td>2.0</td>\n",
       "      <td>14.0</td>\n",
       "      <td>1.0</td>\n",
       "    </tr>\n",
       "    <tr>\n",
       "      <th>3</th>\n",
       "      <td>1500</td>\n",
       "      <td>5.0</td>\n",
       "      <td>2001</td>\n",
       "      <td>1.0</td>\n",
       "      <td>75</td>\n",
       "      <td>115.0</td>\n",
       "      <td>150000</td>\n",
       "      <td>6.0</td>\n",
       "      <td>37.0</td>\n",
       "      <td>0.0</td>\n",
       "    </tr>\n",
       "  </tbody>\n",
       "</table>\n",
       "</div>"
      ],
      "text/plain": [
       "   price  vehicle_type  registration_year  gearbox  power  model  kilometer  \\\n",
       "2   9800           6.0               2004      0.0    163  116.0     125000   \n",
       "3   1500           5.0               2001      1.0     75  115.0     150000   \n",
       "\n",
       "   fuel_type  brand  not_repaired  \n",
       "2        2.0   14.0           1.0  \n",
       "3        6.0   37.0           0.0  "
      ]
     },
     "execution_count": 32,
     "metadata": {},
     "output_type": "execute_result"
    }
   ],
   "source": [
    "df.head(2)"
   ]
  },
  {
   "cell_type": "code",
   "execution_count": 33,
   "metadata": {
    "scrolled": true
   },
   "outputs": [],
   "source": [
    "numeric = ['vehicle_type', \n",
    "           'registration_year', \n",
    "           'gearbox',\n",
    "           'power', \n",
    "           'model',                 # Выбираем все столбцы для масштабирования т к 0 и 1 у нас нет в столбцах.\n",
    "           'kilometer', \n",
    "           'fuel_type',\n",
    "           'brand',\n",
    "           'not_repaired']    \n",
    "\n",
    "scaler = StandardScaler()\n",
    "scaler.fit(features_train_df[numeric])\n",
    "\n",
    "features_train_df[numeric] = scaler.transform(features_train_df[numeric])\n",
    "features_valid_df[numeric] = scaler.transform(features_valid_df[numeric]) \n"
   ]
  },
  {
   "cell_type": "markdown",
   "metadata": {},
   "source": [
    "Масштабировали признаки для DataFrame с удаленными значениями **NaN**"
   ]
  },
  {
   "cell_type": "code",
   "execution_count": 34,
   "metadata": {},
   "outputs": [],
   "source": [
    "numeric = ['vehicle_type', \n",
    "           'registration_year', \n",
    "           'gearbox',\n",
    "           'power', \n",
    "           'model',           # Выбираем все столбцы для масштабирования т к 0 и 1 у нас нет в столбцах.\n",
    "           'kilometer', \n",
    "           'fuel_type',\n",
    "           'brand',\n",
    "           'not_repaired']\n",
    "\n",
    "scaler = StandardScaler()\n",
    "scaler.fit(features_train_fill_nan[numeric])\n",
    "\n",
    "features_train_fill_nan[numeric] = scaler.transform(features_train_fill_nan[numeric])\n",
    "\n",
    "features_validate_fill_nan[numeric] = scaler.transform(features_validate_fill_nan[numeric]) \n",
    "\n",
    "features_test_fill_nan[numeric] = scaler.transform(features_test_fill_nan[numeric]) "
   ]
  },
  {
   "cell_type": "code",
   "execution_count": 35,
   "metadata": {},
   "outputs": [
    {
     "data": {
      "text/html": [
       "<div>\n",
       "<style scoped>\n",
       "    .dataframe tbody tr th:only-of-type {\n",
       "        vertical-align: middle;\n",
       "    }\n",
       "\n",
       "    .dataframe tbody tr th {\n",
       "        vertical-align: top;\n",
       "    }\n",
       "\n",
       "    .dataframe thead th {\n",
       "        text-align: right;\n",
       "    }\n",
       "</style>\n",
       "<table border=\"1\" class=\"dataframe\">\n",
       "  <thead>\n",
       "    <tr style=\"text-align: right;\">\n",
       "      <th></th>\n",
       "      <th>vehicle_type</th>\n",
       "      <th>registration_year</th>\n",
       "      <th>gearbox</th>\n",
       "      <th>power</th>\n",
       "      <th>model</th>\n",
       "      <th>kilometer</th>\n",
       "      <th>fuel_type</th>\n",
       "      <th>brand</th>\n",
       "      <th>not_repaired</th>\n",
       "    </tr>\n",
       "  </thead>\n",
       "  <tbody>\n",
       "    <tr>\n",
       "      <th>56659</th>\n",
       "      <td>1.335873</td>\n",
       "      <td>-0.976596</td>\n",
       "      <td>0.509176</td>\n",
       "      <td>-0.913240</td>\n",
       "      <td>-0.871984</td>\n",
       "      <td>0.58653</td>\n",
       "      <td>0.674305</td>\n",
       "      <td>0.265593</td>\n",
       "      <td>-0.549889</td>\n",
       "    </tr>\n",
       "    <tr>\n",
       "      <th>96324</th>\n",
       "      <td>0.367545</td>\n",
       "      <td>-0.526505</td>\n",
       "      <td>0.509176</td>\n",
       "      <td>-1.199339</td>\n",
       "      <td>0.960680</td>\n",
       "      <td>0.58653</td>\n",
       "      <td>0.674305</td>\n",
       "      <td>1.311455</td>\n",
       "      <td>-0.549889</td>\n",
       "    </tr>\n",
       "  </tbody>\n",
       "</table>\n",
       "</div>"
      ],
      "text/plain": [
       "       vehicle_type  registration_year   gearbox     power     model  \\\n",
       "56659      1.335873          -0.976596  0.509176 -0.913240 -0.871984   \n",
       "96324      0.367545          -0.526505  0.509176 -1.199339  0.960680   \n",
       "\n",
       "       kilometer  fuel_type     brand  not_repaired  \n",
       "56659    0.58653   0.674305  0.265593     -0.549889  \n",
       "96324    0.58653   0.674305  1.311455     -0.549889  "
      ]
     },
     "execution_count": 35,
     "metadata": {},
     "output_type": "execute_result"
    }
   ],
   "source": [
    "features_test_fill_nan.head(2)"
   ]
  },
  {
   "cell_type": "markdown",
   "metadata": {},
   "source": [
    "Сделали ту же операцию и для второго DataFrame. Проверяем результат"
   ]
  },
  {
   "cell_type": "markdown",
   "metadata": {},
   "source": [
    "**Вывод**\n"
   ]
  },
  {
   "cell_type": "markdown",
   "metadata": {},
   "source": [
    "На данном этапе сделали следующее:\n",
    "\n",
    "- Импортировали DataFrame, посмотрели на данные(типы данных, их кол-во и др),\n",
    "- Изменили регистр столбцов, првели их в приемлемый вид,\n",
    "- Удалили дубликаты,\n",
    "- Заменили значения NaN,\n",
    "- Удалили NaN,\n",
    "- Удалили ненужные признаки,\n",
    "- Закодировали признаки,\n",
    "- Масштабировали признаки."
   ]
  },
  {
   "cell_type": "markdown",
   "metadata": {},
   "source": [
    "## Обучение моделей"
   ]
  },
  {
   "cell_type": "markdown",
   "metadata": {},
   "source": [
    "### CatBoostRegressor"
   ]
  },
  {
   "cell_type": "code",
   "execution_count": 36,
   "metadata": {},
   "outputs": [],
   "source": [
    "%%time\n",
    "param = {'learning_rate': np.arange(0.03, 0.1),\n",
    "         'depth' : range(1, 5)                           \n",
    "        }\n",
    "\n",
    "model = CatBoostRegressor(loss_function = 'RMSE',\n",
    "                          grow_policy = 'Lossguide',\n",
    "                          custom_metric = 'RMSE', \n",
    "                          eval_metric = 'RMSE',\n",
    "                          random_state = 69,\n",
    "                          verbose = 100)\n",
    "\n",
    "\n",
    "search_random_1 = HalvingRandomSearchCV(model, \n",
    "                                      param,      \n",
    "                                      random_state=69, \n",
    "                                      cv=5, \n",
    "                                      n_jobs = -1, \n",
    "                                      scoring = 'roc_auc').fit(features_train_df, \n",
    "                                                               target_train_df, \n",
    "                                                               eval_set=(features_valid_df, \n",
    "                                                               target_valid_df),\n",
    "                                                               plot=True)\n",
    "search_random_1.best_params_"
   ]
  },
  {
   "cell_type": "markdown",
   "metadata": {},
   "source": [
    "**RMSE = 2226.674608**"
   ]
  },
  {
   "cell_type": "code",
   "execution_count": 37,
   "metadata": {},
   "outputs": [],
   "source": [
    "search_random_1.best_score_"
   ]
  },
  {
   "cell_type": "code",
   "execution_count": 38,
   "metadata": {},
   "outputs": [],
   "source": [
    "%%time\n",
    "param = {'learning_rate': np.arange(0.03, 0.1),\n",
    "         'depth' : range(1, 5)                           \n",
    "        }\n",
    "\n",
    "model = CatBoostRegressor(loss_function = 'RMSE',\n",
    "                          grow_policy = 'Lossguide',\n",
    "                          custom_metric = 'RMSE', \n",
    "                          eval_metric = 'RMSE',\n",
    "                          random_state = 69,\n",
    "                          verbose = 100)\n",
    "\n",
    "\n",
    "search_random_2 = HalvingRandomSearchCV(model, \n",
    "                                      param,      \n",
    "                                      random_state=69, \n",
    "                                      cv=5, \n",
    "                                      n_jobs = -1, \n",
    "                                      scoring = 'neg_root_mean_squared_error').fit(features_train_fill_nan, \n",
    "                                                                                   target_train_fill_nan, \n",
    "                                                                                   eval_set=(features_validate_fill_nan, \n",
    "                                                                                             target_validate_fill_nan),\n",
    "                                                                                   plot=True)\n",
    "\n",
    "search_random_2.best_params_"
   ]
  },
  {
   "cell_type": "markdown",
   "metadata": {},
   "source": [
    "**RMSE = 1750.479569** Сделали всё тоже самое c CatBoostRegressor, но для второго df с заполнеными значениями NaN"
   ]
  },
  {
   "cell_type": "markdown",
   "metadata": {},
   "source": [
    "### LightGBM"
   ]
  },
  {
   "cell_type": "code",
   "execution_count": 39,
   "metadata": {},
   "outputs": [],
   "source": [
    "%%time\n",
    "model = LGBMRegressor(first_metric_only = True, \n",
    "                      metric = 'rmse',\n",
    "                      random_state = 69)\n",
    "\n",
    "n_scores = cross_val_score(model, \n",
    "                           features_train_df, \n",
    "                           target_train_df, \n",
    "                           scoring = 'neg_root_mean_squared_error', \n",
    "                           cv = 5, \n",
    "                           n_jobs = -1)\n",
    "\n",
    "\n",
    "model.fit(features_train_df, \n",
    "          target_train_df,\n",
    "          eval_set = (features_valid_df, \n",
    "                       target_valid_df),\n",
    "          eval_metric = 'rmse',\n",
    "          early_stopping_rounds = 10)"
   ]
  },
  {
   "cell_type": "markdown",
   "metadata": {},
   "source": [
    "**RMSE = 1662.55** "
   ]
  },
  {
   "cell_type": "code",
   "execution_count": 40,
   "metadata": {},
   "outputs": [],
   "source": [
    "%%time\n",
    "model = LGBMRegressor(first_metric_only = True, \n",
    "                      metric = 'rmse',\n",
    "                      random_state = 69)\n",
    "\n",
    "n_scores = cross_val_score(model, \n",
    "                           features_train_df, \n",
    "                           target_train_df, \n",
    "                           scoring = 'neg_root_mean_squared_error', \n",
    "                           cv = 5, \n",
    "                           n_jobs = -1)\n",
    "\n",
    "\n",
    "model.fit(features_train_fill_nan, \n",
    "          target_train_fill_nan,\n",
    "          eval_set = (features_validate_fill_nan, \n",
    "                       target_validate_fill_nan),\n",
    "          eval_metric = 'rmse',\n",
    "          early_stopping_rounds = 10)"
   ]
  },
  {
   "cell_type": "markdown",
   "metadata": {},
   "source": [
    "**RMSE = 1736.1** Сделали всё тоже самое c LGBMRegressor, но для второго df с заполнеными значениями NaN"
   ]
  },
  {
   "cell_type": "markdown",
   "metadata": {},
   "source": [
    "### RandomForestRegressor"
   ]
  },
  {
   "cell_type": "code",
   "execution_count": 41,
   "metadata": {},
   "outputs": [
    {
     "name": "stdout",
     "output_type": "stream",
     "text": [
      "100%|██████████| 50/50 [48:48<00:00, 58.56s/trial, best loss: 1629.819866537493] \n",
      "CPU times: user 48min 38s, sys: 3.59 s, total: 48min 41s\n",
      "Wall time: 48min 48s\n"
     ]
    },
    {
     "data": {
      "text/plain": [
       "{'max_depth': 13, 'n_estimators': 143}"
      ]
     },
     "execution_count": 41,
     "metadata": {},
     "output_type": "execute_result"
    }
   ],
   "source": [
    "%%time\n",
    "space = {'max_depth': hp.choice('max_depth', np.arange(1, 15, 1, dtype=int)),\n",
    "         'n_estimators' : hp.choice('n_estimators', np.arange(1, 150, 1, dtype=int))\n",
    "        }\n",
    "\n",
    "\n",
    "def objective(space):\n",
    "    model = RandomForestRegressor(max_depth = space['max_depth'],\n",
    "                                  n_estimators = space['n_estimators'])\n",
    "    \n",
    "    rmse_1 = cross_val_score(model, \n",
    "                            features_train_df, \n",
    "                            target_train_df, \n",
    "                            cv = 5, \n",
    "                            scoring = 'neg_root_mean_squared_error', \n",
    "                            n_jobs=-1)\n",
    "     \n",
    "    return {'loss': abs(rmse_1.mean()), 'status': STATUS_OK }\n",
    "\n",
    "\n",
    "trials = Trials()\n",
    "\n",
    "best_1 = fmin(fn = objective,\n",
    "            space = space,\n",
    "            algo = tpe.suggest,\n",
    "            max_evals = 50,\n",
    "            trials = trials)\n",
    "\n",
    "best_1"
   ]
  },
  {
   "cell_type": "markdown",
   "metadata": {},
   "source": [
    "**RMSE = 1630.05** Лучшие гиперпараметры  **'max_depth': 13, 'n_estimators': 124**"
   ]
  },
  {
   "cell_type": "code",
   "execution_count": 42,
   "metadata": {},
   "outputs": [
    {
     "name": "stdout",
     "output_type": "stream",
     "text": [
      "100%|██████████| 50/50 [37:05<00:00, 44.52s/trial, best loss: 1712.0588994735706]\n",
      "CPU times: user 36min 59s, sys: 2.06 s, total: 37min 1s\n",
      "Wall time: 37min 6s\n"
     ]
    },
    {
     "data": {
      "text/plain": [
       "{'max_depth': 13, 'n_estimators': 107}"
      ]
     },
     "execution_count": 42,
     "metadata": {},
     "output_type": "execute_result"
    }
   ],
   "source": [
    "%%time\n",
    "space = {'max_depth': hp.choice('max_depth', np.arange(1, 15, 1, dtype=int)),\n",
    "         'n_estimators' : hp.choice('n_estimators', np.arange(1, 150, 1, dtype=int))\n",
    "        }\n",
    "\n",
    "\n",
    "def objective(space):\n",
    "    model = RandomForestRegressor(max_depth = space['max_depth'],\n",
    "                                  n_estimators = space['n_estimators'])\n",
    "    \n",
    "    rmse_2 = cross_val_score(model, \n",
    "                            features_train_fill_nan, \n",
    "                            target_train_fill_nan, \n",
    "                            cv = 5, \n",
    "                            scoring = 'neg_root_mean_squared_error', \n",
    "                            n_jobs=-1)\n",
    "     \n",
    "    return {'loss': abs(rmse_2.mean()), 'status': STATUS_OK }\n",
    "\n",
    "\n",
    "trials = Trials()\n",
    "\n",
    "best_2 = fmin(fn = objective,\n",
    "            space = space,\n",
    "            algo = tpe.suggest,\n",
    "            max_evals = 50,\n",
    "            trials = trials)\n",
    "\n",
    "best_2"
   ]
  },
  {
   "cell_type": "markdown",
   "metadata": {},
   "source": [
    "Сделали всё тоже самое c RandomForestRegressor, но для второго df с заполнеными значениями NaN"
   ]
  },
  {
   "cell_type": "markdown",
   "metadata": {},
   "source": [
    "## Анализ моделей"
   ]
  },
  {
   "cell_type": "markdown",
   "metadata": {},
   "source": [
    "Из всех моделей, наилучший результат показала **LightGBM RMSE = 1662.55** Хоть и **RandomForestRegressor** показал немного лучший результат."
   ]
  },
  {
   "cell_type": "code",
   "execution_count": 43,
   "metadata": {},
   "outputs": [
    {
     "data": {
      "text/plain": [
       "1662.54645544426"
      ]
     },
     "metadata": {},
     "output_type": "display_data"
    },
    {
     "name": "stdout",
     "output_type": "stream",
     "text": [
      "CPU times: user 6.29 s, sys: 34.7 ms, total: 6.33 s\n",
      "Wall time: 6.37 s\n"
     ]
    }
   ],
   "source": [
    "%%time\n",
    "model = LGBMRegressor(first_metric_only = True, \n",
    "                      metric = 'rmse',\n",
    "                      random_state = 69,\n",
    "                      n_estimators = 100)          # По дефолту 100 итераций, будем использовать как ранний останов.\n",
    "\n",
    "\n",
    "model.fit(features_train_df, target_train_df) \n",
    "\n",
    "\n",
    "pred_valid = model.predict(features_valid_df)\n",
    "display((mean_squared_error(target_valid_df, pred_valid)) ** 0.5) # считаем rmse"
   ]
  },
  {
   "cell_type": "markdown",
   "metadata": {},
   "source": [
    "Для раннего останова, будем использовать n_estimators, чтобы не делать еще одну выборку для теста."
   ]
  },
  {
   "cell_type": "markdown",
   "metadata": {},
   "source": [
    "**RMSE = 1662.54**"
   ]
  },
  {
   "cell_type": "markdown",
   "metadata": {},
   "source": [
    "## Вывод"
   ]
  },
  {
   "cell_type": "markdown",
   "metadata": {},
   "source": [
    "**В данном проекте была проведена обработка DataFrame:**\n",
    " - Изменение регистра столбцов\n",
    " - Удаление дубликатов (хоть у нас их и не много)\n",
    " - Заполнение в столбцах значений NaN\n",
    " - Удаление выбросов и аномалий в DataFrame\n",
    " - Удаление ненужных признаков.\n",
    " - Кодирование категориальных признаков\n",
    " - Разбиение признаков\n",
    " - Масштабирование количественных признаков.\n",
    "\n",
    "**Обучили модели:**\n",
    "   - *CatBoostRegressor* с перебором гиперпараметров с помощью HalvingRandomSearchCV с кроссвалидацией \n",
    "   - *LightGBM* без перебора гиперпараметров, но с кроссвалидацией\n",
    "   - *RandomForestRegressor* с перебором гиперпараметров с помощью hyperopt с кроссвалидацией\n",
    "   \n",
    "**Время обучения на CatBoostRegressor составило:**\n",
    "   - На DataFrame с удаленными NaN значениями: процессорное время - 1min 3s,\n",
    "                                               общее время обучения модели - 1min 38s.\n",
    "                                               \n",
    "   - На DataFrame с заполнеными NaN значениями: процессорное время - 1min 39s,\n",
    "                                                общее время обучения модели - 2min 18s.\n",
    "\n",
    "**Время обучения на LGBMRegressor составило:**\n",
    "   - На DataFrame с удаленными NaN значениями: процессорное время - 32min 56s,\n",
    "                                               общее время обучения модели - 34min 10s.\n",
    "                                               \n",
    "   - На DataFrame с заполнеными NaN значениями: процессорное время - 19min 26s,\n",
    "                                                общее время обучения модели - 19min 49s.\n",
    "                                                \n",
    "**Время обучения на RandomForestRegressor составило:**\n",
    "   - На DataFrame с удаленными NaN значениями: процессорное время - 57min 2s,\n",
    "                                               общее время обучения модели - 57min 43s.\n",
    "                                               \n",
    "   - На DataFrame с заполнеными NaN значениями: процессорное время - 43min 13s,\n",
    "                                                общее время обучения модели - 43min 41s.                                                \n",
    "\n",
    "**Результаты метрики RMSE:**\n",
    "   - *CatBoostRegressor* :\n",
    "       - На DataFrame с удаленными NaN значениями - 2226.67 на bestIteration = 999.\n",
    "       - На DataFrame с заполнеными NaN значениями - 1750.47 на bestIteration = 999.\n",
    "\n",
    "   - *LGBMRegressor* :\n",
    "       - На DataFrame с удаленными NaN значениями - 1662.55 на bestIteration = 100.\n",
    "       - На DataFrame с заполнеными NaN значениями - 1736.1 на bestIteration = 100.\n",
    "       \n",
    "   - *RandomForestRegressor* :\n",
    "       - На DataFrame с удаленными NaN значениями - 1630.05 \n",
    "       - На DataFrame с заполнеными NaN значениями - 1712.6 \n",
    "\n",
    "\n",
    "\n",
    "Лучшую метрику при обучении показала модель RandomForestRegressor с RMSE = 1630.05 с удаленными значениями NaN, которая обучается без малого 1 час, а это преличное время. Второе место у LGBMRegressor с RMSE = 1662.55 тоже с удаленными значениями NaN, время обучение в 2 раза меньше, чем у RandomForestRegressor и метрики не сильно отличаются.\n",
    "\n",
    "\n",
    "Из всех результатов и сделанных выводов, выбираем LGBMRegressor с удаленными NaN значениями для итогового результата.\n",
    "\n",
    "Финальная **RMSE = 1662.54** и общее время обучения модели 1min 27s."
   ]
  },
  {
   "cell_type": "code",
   "execution_count": null,
   "metadata": {},
   "outputs": [],
   "source": []
  }
 ],
 "metadata": {
  "ExecuteTimeLog": [
   {
    "duration": 378,
    "start_time": "2022-06-06T15:22:52.249Z"
   },
   {
    "duration": 65,
    "start_time": "2022-06-06T15:23:22.767Z"
   },
   {
    "duration": 6,
    "start_time": "2022-06-06T15:23:32.641Z"
   },
   {
    "duration": 1104,
    "start_time": "2022-06-06T15:24:16.524Z"
   },
   {
    "duration": 772,
    "start_time": "2022-06-06T15:24:27.602Z"
   },
   {
    "duration": 115,
    "start_time": "2022-06-06T15:24:58.939Z"
   },
   {
    "duration": 1284,
    "start_time": "2022-06-06T15:31:40.212Z"
   },
   {
    "duration": 31,
    "start_time": "2022-06-06T15:32:03.654Z"
   },
   {
    "duration": 28,
    "start_time": "2022-06-06T15:33:40.751Z"
   },
   {
    "duration": 114,
    "start_time": "2022-06-06T15:37:30.599Z"
   },
   {
    "duration": 61,
    "start_time": "2022-06-06T15:43:39.779Z"
   },
   {
    "duration": 109,
    "start_time": "2022-06-06T15:44:29.137Z"
   },
   {
    "duration": 6,
    "start_time": "2022-06-06T15:44:32.316Z"
   },
   {
    "duration": 108,
    "start_time": "2022-06-06T15:45:52.619Z"
   },
   {
    "duration": 112,
    "start_time": "2022-06-06T15:46:01.722Z"
   },
   {
    "duration": 682,
    "start_time": "2022-06-06T16:01:48.322Z"
   },
   {
    "duration": 191,
    "start_time": "2022-06-06T16:02:03.956Z"
   },
   {
    "duration": 2246,
    "start_time": "2022-06-06T16:02:16.416Z"
   },
   {
    "duration": 213,
    "start_time": "2022-06-06T16:02:27.657Z"
   },
   {
    "duration": 242,
    "start_time": "2022-06-06T16:02:38.045Z"
   },
   {
    "duration": 108,
    "start_time": "2022-06-06T16:10:35.436Z"
   },
   {
    "duration": 162,
    "start_time": "2022-06-06T16:10:39.765Z"
   },
   {
    "duration": 168,
    "start_time": "2022-06-06T16:10:43.743Z"
   },
   {
    "duration": 155,
    "start_time": "2022-06-06T16:11:25.282Z"
   },
   {
    "duration": 11,
    "start_time": "2022-06-06T16:12:14.675Z"
   },
   {
    "duration": 5,
    "start_time": "2022-06-06T16:22:07.451Z"
   },
   {
    "duration": 140,
    "start_time": "2022-06-06T16:22:19.317Z"
   },
   {
    "duration": 13,
    "start_time": "2022-06-06T16:30:24.373Z"
   },
   {
    "duration": 13,
    "start_time": "2022-06-06T16:39:30.003Z"
   },
   {
    "duration": 13,
    "start_time": "2022-06-06T16:39:38.611Z"
   },
   {
    "duration": 14,
    "start_time": "2022-06-06T16:39:49.570Z"
   },
   {
    "duration": 30,
    "start_time": "2022-06-06T16:40:13.025Z"
   },
   {
    "duration": 32,
    "start_time": "2022-06-06T16:40:22.019Z"
   },
   {
    "duration": 9,
    "start_time": "2022-06-06T16:40:30.187Z"
   },
   {
    "duration": 31,
    "start_time": "2022-06-06T16:40:41.646Z"
   },
   {
    "duration": 42,
    "start_time": "2022-06-06T16:41:26.196Z"
   },
   {
    "duration": 67,
    "start_time": "2022-06-06T16:41:34.509Z"
   },
   {
    "duration": 30,
    "start_time": "2022-06-06T16:41:56.869Z"
   },
   {
    "duration": 33,
    "start_time": "2022-06-06T16:42:39.969Z"
   },
   {
    "duration": 14,
    "start_time": "2022-06-06T16:42:52.967Z"
   },
   {
    "duration": 16,
    "start_time": "2022-06-06T16:42:58.518Z"
   },
   {
    "duration": 29,
    "start_time": "2022-06-06T16:43:27.063Z"
   },
   {
    "duration": 305,
    "start_time": "2022-06-06T16:43:47.785Z"
   },
   {
    "duration": 351,
    "start_time": "2022-06-06T16:44:06.358Z"
   },
   {
    "duration": 12,
    "start_time": "2022-06-06T16:44:24.089Z"
   },
   {
    "duration": 1434,
    "start_time": "2022-06-06T16:44:50.318Z"
   },
   {
    "duration": 366,
    "start_time": "2022-06-06T16:47:44.079Z"
   },
   {
    "duration": 378,
    "start_time": "2022-06-06T16:48:24.213Z"
   },
   {
    "duration": 353,
    "start_time": "2022-06-06T16:48:28.284Z"
   },
   {
    "duration": 353,
    "start_time": "2022-06-06T16:48:39.302Z"
   },
   {
    "duration": 363,
    "start_time": "2022-06-06T16:48:45.940Z"
   },
   {
    "duration": 365,
    "start_time": "2022-06-06T17:01:55.112Z"
   },
   {
    "duration": 380,
    "start_time": "2022-06-06T17:02:44.541Z"
   },
   {
    "duration": 383,
    "start_time": "2022-06-06T17:02:59.859Z"
   },
   {
    "duration": 427,
    "start_time": "2022-06-06T17:03:05.967Z"
   },
   {
    "duration": 360,
    "start_time": "2022-06-06T17:03:42.567Z"
   },
   {
    "duration": 402,
    "start_time": "2022-06-06T17:09:47.885Z"
   },
   {
    "duration": 411,
    "start_time": "2022-06-06T17:10:19.572Z"
   },
   {
    "duration": 431,
    "start_time": "2022-06-06T17:10:38.007Z"
   },
   {
    "duration": 410,
    "start_time": "2022-06-06T17:10:40.051Z"
   },
   {
    "duration": 31,
    "start_time": "2022-06-06T17:29:00.885Z"
   },
   {
    "duration": 411,
    "start_time": "2022-06-07T15:40:52.937Z"
   },
   {
    "duration": 1148,
    "start_time": "2022-06-07T15:40:53.350Z"
   },
   {
    "duration": 134,
    "start_time": "2022-06-07T15:40:54.499Z"
   },
   {
    "duration": 131,
    "start_time": "2022-06-07T15:40:54.635Z"
   },
   {
    "duration": 130,
    "start_time": "2022-06-07T15:40:54.768Z"
   },
   {
    "duration": 9,
    "start_time": "2022-06-07T15:40:54.900Z"
   },
   {
    "duration": 166,
    "start_time": "2022-06-07T15:40:54.911Z"
   },
   {
    "duration": 490,
    "start_time": "2022-06-07T15:40:55.079Z"
   },
   {
    "duration": 538,
    "start_time": "2022-06-07T15:40:55.571Z"
   },
   {
    "duration": 512,
    "start_time": "2022-06-07T15:40:56.112Z"
   },
   {
    "duration": 34,
    "start_time": "2022-06-07T15:40:56.625Z"
   },
   {
    "duration": 107,
    "start_time": "2022-06-07T15:40:56.661Z"
   },
   {
    "duration": 23,
    "start_time": "2022-06-07T15:42:32.199Z"
   },
   {
    "duration": 22,
    "start_time": "2022-06-07T15:42:45.684Z"
   },
   {
    "duration": 25,
    "start_time": "2022-06-07T15:43:03.821Z"
   },
   {
    "duration": 30,
    "start_time": "2022-06-07T15:43:22.532Z"
   },
   {
    "duration": 29,
    "start_time": "2022-06-07T15:43:38.376Z"
   },
   {
    "duration": 25,
    "start_time": "2022-06-07T15:43:48.201Z"
   },
   {
    "duration": 9,
    "start_time": "2022-06-07T15:44:11.668Z"
   },
   {
    "duration": 49,
    "start_time": "2022-06-07T15:45:12.888Z"
   },
   {
    "duration": 45,
    "start_time": "2022-06-07T15:45:24.130Z"
   },
   {
    "duration": 49,
    "start_time": "2022-06-07T15:45:34.882Z"
   },
   {
    "duration": 49,
    "start_time": "2022-06-07T15:45:48.622Z"
   },
   {
    "duration": 55,
    "start_time": "2022-06-07T15:45:58.484Z"
   },
   {
    "duration": 53,
    "start_time": "2022-06-07T15:48:07.614Z"
   },
   {
    "duration": 61,
    "start_time": "2022-06-07T15:57:06.842Z"
   },
   {
    "duration": 29,
    "start_time": "2022-06-07T16:11:56.830Z"
   },
   {
    "duration": 21,
    "start_time": "2022-06-07T16:12:30.773Z"
   },
   {
    "duration": 38,
    "start_time": "2022-06-07T16:12:34.790Z"
   },
   {
    "duration": 136,
    "start_time": "2022-06-07T16:13:25.480Z"
   },
   {
    "duration": 21,
    "start_time": "2022-06-07T16:15:26.850Z"
   },
   {
    "duration": 464,
    "start_time": "2022-06-07T16:15:49.968Z"
   },
   {
    "duration": 937,
    "start_time": "2022-06-07T16:15:50.434Z"
   },
   {
    "duration": 140,
    "start_time": "2022-06-07T16:15:51.373Z"
   },
   {
    "duration": 126,
    "start_time": "2022-06-07T16:15:51.515Z"
   },
   {
    "duration": 132,
    "start_time": "2022-06-07T16:15:51.644Z"
   },
   {
    "duration": 4,
    "start_time": "2022-06-07T16:15:51.778Z"
   },
   {
    "duration": 221,
    "start_time": "2022-06-07T16:15:51.795Z"
   },
   {
    "duration": 621,
    "start_time": "2022-06-07T16:15:52.018Z"
   },
   {
    "duration": 552,
    "start_time": "2022-06-07T16:15:52.641Z"
   },
   {
    "duration": 527,
    "start_time": "2022-06-07T16:15:53.194Z"
   },
   {
    "duration": 53,
    "start_time": "2022-06-07T16:15:53.722Z"
   },
   {
    "duration": 46,
    "start_time": "2022-06-07T16:15:53.777Z"
   },
   {
    "duration": 22,
    "start_time": "2022-06-07T16:15:53.825Z"
   },
   {
    "duration": 146,
    "start_time": "2022-06-07T16:15:53.850Z"
   },
   {
    "duration": 80,
    "start_time": "2022-06-07T16:15:53.998Z"
   },
   {
    "duration": 0,
    "start_time": "2022-06-07T16:15:54.095Z"
   },
   {
    "duration": 0,
    "start_time": "2022-06-07T16:15:54.096Z"
   },
   {
    "duration": 112,
    "start_time": "2022-06-07T16:16:08.906Z"
   },
   {
    "duration": 146,
    "start_time": "2022-06-07T16:16:29.512Z"
   },
   {
    "duration": 450,
    "start_time": "2022-06-07T16:21:22.322Z"
   },
   {
    "duration": 901,
    "start_time": "2022-06-07T16:21:22.774Z"
   },
   {
    "duration": 144,
    "start_time": "2022-06-07T16:21:23.678Z"
   },
   {
    "duration": 137,
    "start_time": "2022-06-07T16:21:23.825Z"
   },
   {
    "duration": 158,
    "start_time": "2022-06-07T16:21:23.963Z"
   },
   {
    "duration": 5,
    "start_time": "2022-06-07T16:21:24.123Z"
   },
   {
    "duration": 182,
    "start_time": "2022-06-07T16:21:24.130Z"
   },
   {
    "duration": 520,
    "start_time": "2022-06-07T16:21:24.314Z"
   },
   {
    "duration": 548,
    "start_time": "2022-06-07T16:21:24.837Z"
   },
   {
    "duration": 460,
    "start_time": "2022-06-07T16:21:25.387Z"
   },
   {
    "duration": 62,
    "start_time": "2022-06-07T16:21:25.849Z"
   },
   {
    "duration": 22,
    "start_time": "2022-06-07T16:21:25.913Z"
   },
   {
    "duration": 135,
    "start_time": "2022-06-07T16:21:25.937Z"
   },
   {
    "duration": 138,
    "start_time": "2022-06-07T16:21:26.075Z"
   },
   {
    "duration": 88,
    "start_time": "2022-06-07T16:21:26.215Z"
   },
   {
    "duration": 0,
    "start_time": "2022-06-07T16:21:26.305Z"
   },
   {
    "duration": 0,
    "start_time": "2022-06-07T16:21:26.307Z"
   },
   {
    "duration": 53,
    "start_time": "2022-06-07T16:23:54.658Z"
   },
   {
    "duration": 39,
    "start_time": "2022-06-07T16:24:08.679Z"
   },
   {
    "duration": 47,
    "start_time": "2022-06-07T16:24:15.452Z"
   },
   {
    "duration": 46,
    "start_time": "2022-06-07T16:24:22.373Z"
   },
   {
    "duration": 38,
    "start_time": "2022-06-07T16:25:03.412Z"
   },
   {
    "duration": 47,
    "start_time": "2022-06-07T16:25:09.274Z"
   },
   {
    "duration": 112,
    "start_time": "2022-06-07T16:27:25.274Z"
   },
   {
    "duration": 119,
    "start_time": "2022-06-07T16:28:15.610Z"
   },
   {
    "duration": 50,
    "start_time": "2022-06-07T16:29:23.118Z"
   },
   {
    "duration": 33,
    "start_time": "2022-06-07T16:31:04.279Z"
   },
   {
    "duration": 50,
    "start_time": "2022-06-07T16:32:24.684Z"
   },
   {
    "duration": 26,
    "start_time": "2022-06-07T16:34:52.107Z"
   },
   {
    "duration": 71,
    "start_time": "2022-06-07T16:34:58.098Z"
   },
   {
    "duration": 133,
    "start_time": "2022-06-07T16:38:28.974Z"
   },
   {
    "duration": 71,
    "start_time": "2022-06-07T16:39:25.415Z"
   },
   {
    "duration": 74,
    "start_time": "2022-06-07T16:41:53.212Z"
   },
   {
    "duration": 53,
    "start_time": "2022-06-07T16:42:08.732Z"
   },
   {
    "duration": 71,
    "start_time": "2022-06-07T16:46:25.569Z"
   },
   {
    "duration": 187,
    "start_time": "2022-06-07T16:46:34.831Z"
   },
   {
    "duration": 71,
    "start_time": "2022-06-07T16:46:39.325Z"
   },
   {
    "duration": 455,
    "start_time": "2022-06-08T12:46:29.117Z"
   },
   {
    "duration": 1338,
    "start_time": "2022-06-08T12:46:29.580Z"
   },
   {
    "duration": 149,
    "start_time": "2022-06-08T12:46:30.920Z"
   },
   {
    "duration": 187,
    "start_time": "2022-06-08T12:46:31.072Z"
   },
   {
    "duration": 170,
    "start_time": "2022-06-08T12:46:31.261Z"
   },
   {
    "duration": 4,
    "start_time": "2022-06-08T12:46:31.433Z"
   },
   {
    "duration": 158,
    "start_time": "2022-06-08T12:46:31.440Z"
   },
   {
    "duration": 567,
    "start_time": "2022-06-08T12:46:31.600Z"
   },
   {
    "duration": 568,
    "start_time": "2022-06-08T12:46:32.170Z"
   },
   {
    "duration": 589,
    "start_time": "2022-06-08T12:46:32.740Z"
   },
   {
    "duration": 77,
    "start_time": "2022-06-08T12:46:33.331Z"
   },
   {
    "duration": 29,
    "start_time": "2022-06-08T12:46:33.410Z"
   },
   {
    "duration": 100,
    "start_time": "2022-06-08T12:46:33.440Z"
   },
   {
    "duration": 0,
    "start_time": "2022-06-08T12:46:33.541Z"
   },
   {
    "duration": 0,
    "start_time": "2022-06-08T12:46:33.542Z"
   },
   {
    "duration": 198,
    "start_time": "2022-06-08T12:50:57.918Z"
   },
   {
    "duration": 145653,
    "start_time": "2022-06-08T13:11:16.125Z"
   },
   {
    "duration": 731,
    "start_time": "2022-06-08T13:18:05.655Z"
   },
   {
    "duration": 74,
    "start_time": "2022-06-08T13:27:53.180Z"
   },
   {
    "duration": 85,
    "start_time": "2022-06-08T13:28:07.760Z"
   },
   {
    "duration": 233,
    "start_time": "2022-06-08T13:28:11.613Z"
   },
   {
    "duration": 118,
    "start_time": "2022-06-08T13:29:52.251Z"
   },
   {
    "duration": 26,
    "start_time": "2022-06-08T13:30:07.676Z"
   },
   {
    "duration": 1271,
    "start_time": "2022-06-08T13:31:27.826Z"
   },
   {
    "duration": 1090,
    "start_time": "2022-06-08T13:31:29.103Z"
   },
   {
    "duration": 157,
    "start_time": "2022-06-08T13:31:30.196Z"
   },
   {
    "duration": 159,
    "start_time": "2022-06-08T13:31:30.356Z"
   },
   {
    "duration": 187,
    "start_time": "2022-06-08T13:31:30.517Z"
   },
   {
    "duration": 17,
    "start_time": "2022-06-08T13:31:30.707Z"
   },
   {
    "duration": 185,
    "start_time": "2022-06-08T13:31:30.726Z"
   },
   {
    "duration": 633,
    "start_time": "2022-06-08T13:31:30.913Z"
   },
   {
    "duration": 635,
    "start_time": "2022-06-08T13:31:31.548Z"
   },
   {
    "duration": 600,
    "start_time": "2022-06-08T13:31:32.189Z"
   },
   {
    "duration": 57,
    "start_time": "2022-06-08T13:31:32.791Z"
   },
   {
    "duration": 46,
    "start_time": "2022-06-08T13:31:32.864Z"
   },
   {
    "duration": 81,
    "start_time": "2022-06-08T13:31:32.912Z"
   },
   {
    "duration": 247,
    "start_time": "2022-06-08T13:31:32.995Z"
   },
   {
    "duration": 43,
    "start_time": "2022-06-08T13:31:33.244Z"
   },
   {
    "duration": 167,
    "start_time": "2022-06-08T13:31:33.289Z"
   },
   {
    "duration": 175,
    "start_time": "2022-06-08T13:31:33.464Z"
   },
   {
    "duration": 57,
    "start_time": "2022-06-08T13:31:33.641Z"
   },
   {
    "duration": 139,
    "start_time": "2022-06-08T13:31:33.703Z"
   },
   {
    "duration": 0,
    "start_time": "2022-06-08T13:31:33.845Z"
   },
   {
    "duration": 105,
    "start_time": "2022-06-08T13:34:53.620Z"
   },
   {
    "duration": 32,
    "start_time": "2022-06-08T13:37:48.700Z"
   },
   {
    "duration": 25,
    "start_time": "2022-06-08T13:38:01.088Z"
   },
   {
    "duration": 116,
    "start_time": "2022-06-08T13:38:04.848Z"
   },
   {
    "duration": 37,
    "start_time": "2022-06-08T13:38:16.888Z"
   },
   {
    "duration": 10,
    "start_time": "2022-06-08T13:38:24.076Z"
   },
   {
    "duration": 1123,
    "start_time": "2022-06-08T13:38:46.537Z"
   },
   {
    "duration": 873,
    "start_time": "2022-06-08T13:38:47.662Z"
   },
   {
    "duration": 140,
    "start_time": "2022-06-08T13:38:48.537Z"
   },
   {
    "duration": 119,
    "start_time": "2022-06-08T13:38:48.680Z"
   },
   {
    "duration": 139,
    "start_time": "2022-06-08T13:38:48.801Z"
   },
   {
    "duration": 5,
    "start_time": "2022-06-08T13:38:48.942Z"
   },
   {
    "duration": 154,
    "start_time": "2022-06-08T13:38:48.949Z"
   },
   {
    "duration": 801,
    "start_time": "2022-06-08T13:38:49.104Z"
   },
   {
    "duration": 1071,
    "start_time": "2022-06-08T13:38:49.907Z"
   },
   {
    "duration": 530,
    "start_time": "2022-06-08T13:38:50.981Z"
   },
   {
    "duration": 58,
    "start_time": "2022-06-08T13:38:51.513Z"
   },
   {
    "duration": 22,
    "start_time": "2022-06-08T13:38:51.573Z"
   },
   {
    "duration": 70,
    "start_time": "2022-06-08T13:38:51.597Z"
   },
   {
    "duration": 179,
    "start_time": "2022-06-08T13:38:51.668Z"
   },
   {
    "duration": 31,
    "start_time": "2022-06-08T13:38:51.848Z"
   },
   {
    "duration": 136,
    "start_time": "2022-06-08T13:38:51.881Z"
   },
   {
    "duration": 24,
    "start_time": "2022-06-08T13:38:52.019Z"
   },
   {
    "duration": 130,
    "start_time": "2022-06-08T13:38:52.045Z"
   },
   {
    "duration": 34,
    "start_time": "2022-06-08T13:38:52.177Z"
   },
   {
    "duration": 134,
    "start_time": "2022-06-08T13:38:52.213Z"
   },
   {
    "duration": 0,
    "start_time": "2022-06-08T13:38:52.348Z"
   },
   {
    "duration": 0,
    "start_time": "2022-06-08T13:38:52.349Z"
   },
   {
    "duration": 0,
    "start_time": "2022-06-08T13:38:52.350Z"
   },
   {
    "duration": 23,
    "start_time": "2022-06-08T13:40:20.409Z"
   },
   {
    "duration": 120,
    "start_time": "2022-06-08T13:40:27.078Z"
   },
   {
    "duration": 24,
    "start_time": "2022-06-08T13:40:41.848Z"
   },
   {
    "duration": 1101,
    "start_time": "2022-06-08T13:40:51.229Z"
   },
   {
    "duration": 843,
    "start_time": "2022-06-08T13:40:52.332Z"
   },
   {
    "duration": 132,
    "start_time": "2022-06-08T13:40:53.177Z"
   },
   {
    "duration": 130,
    "start_time": "2022-06-08T13:40:53.311Z"
   },
   {
    "duration": 131,
    "start_time": "2022-06-08T13:40:53.444Z"
   },
   {
    "duration": 5,
    "start_time": "2022-06-08T13:40:53.577Z"
   },
   {
    "duration": 154,
    "start_time": "2022-06-08T13:40:53.584Z"
   },
   {
    "duration": 529,
    "start_time": "2022-06-08T13:40:53.740Z"
   },
   {
    "duration": 1023,
    "start_time": "2022-06-08T13:40:54.271Z"
   },
   {
    "duration": 797,
    "start_time": "2022-06-08T13:40:55.296Z"
   },
   {
    "duration": 51,
    "start_time": "2022-06-08T13:40:56.095Z"
   },
   {
    "duration": 38,
    "start_time": "2022-06-08T13:40:56.147Z"
   },
   {
    "duration": 53,
    "start_time": "2022-06-08T13:40:56.187Z"
   },
   {
    "duration": 192,
    "start_time": "2022-06-08T13:40:56.243Z"
   },
   {
    "duration": 28,
    "start_time": "2022-06-08T13:40:56.436Z"
   },
   {
    "duration": 127,
    "start_time": "2022-06-08T13:40:56.466Z"
   },
   {
    "duration": 3,
    "start_time": "2022-06-08T13:40:56.594Z"
   },
   {
    "duration": 33,
    "start_time": "2022-06-08T13:40:56.598Z"
   },
   {
    "duration": 135,
    "start_time": "2022-06-08T13:40:56.633Z"
   },
   {
    "duration": 33,
    "start_time": "2022-06-08T13:40:56.770Z"
   },
   {
    "duration": 122,
    "start_time": "2022-06-08T13:40:56.805Z"
   },
   {
    "duration": 0,
    "start_time": "2022-06-08T13:40:56.929Z"
   },
   {
    "duration": 0,
    "start_time": "2022-06-08T13:40:56.930Z"
   },
   {
    "duration": 0,
    "start_time": "2022-06-08T13:40:56.931Z"
   },
   {
    "duration": 24,
    "start_time": "2022-06-08T13:41:51.964Z"
   },
   {
    "duration": 1782,
    "start_time": "2022-06-08T13:43:05.112Z"
   },
   {
    "duration": 1338,
    "start_time": "2022-06-08T13:43:06.896Z"
   },
   {
    "duration": 134,
    "start_time": "2022-06-08T13:43:08.235Z"
   },
   {
    "duration": 128,
    "start_time": "2022-06-08T13:43:08.371Z"
   },
   {
    "duration": 135,
    "start_time": "2022-06-08T13:43:08.501Z"
   },
   {
    "duration": 4,
    "start_time": "2022-06-08T13:43:08.638Z"
   },
   {
    "duration": 146,
    "start_time": "2022-06-08T13:43:08.643Z"
   },
   {
    "duration": 578,
    "start_time": "2022-06-08T13:43:08.790Z"
   },
   {
    "duration": 527,
    "start_time": "2022-06-08T13:43:09.369Z"
   },
   {
    "duration": 491,
    "start_time": "2022-06-08T13:43:09.898Z"
   },
   {
    "duration": 51,
    "start_time": "2022-06-08T13:43:10.391Z"
   },
   {
    "duration": 38,
    "start_time": "2022-06-08T13:43:10.444Z"
   },
   {
    "duration": 52,
    "start_time": "2022-06-08T13:43:10.484Z"
   },
   {
    "duration": 186,
    "start_time": "2022-06-08T13:43:10.539Z"
   },
   {
    "duration": 22,
    "start_time": "2022-06-08T13:43:10.727Z"
   },
   {
    "duration": 127,
    "start_time": "2022-06-08T13:43:10.765Z"
   },
   {
    "duration": 2,
    "start_time": "2022-06-08T13:43:10.894Z"
   },
   {
    "duration": 31,
    "start_time": "2022-06-08T13:43:10.898Z"
   },
   {
    "duration": 127,
    "start_time": "2022-06-08T13:43:10.930Z"
   },
   {
    "duration": 33,
    "start_time": "2022-06-08T13:43:11.065Z"
   },
   {
    "duration": 117,
    "start_time": "2022-06-08T13:43:11.100Z"
   },
   {
    "duration": 0,
    "start_time": "2022-06-08T13:43:11.218Z"
   },
   {
    "duration": 0,
    "start_time": "2022-06-08T13:43:11.219Z"
   },
   {
    "duration": 0,
    "start_time": "2022-06-08T13:43:11.220Z"
   },
   {
    "duration": 43,
    "start_time": "2022-06-08T13:46:27.146Z"
   },
   {
    "duration": 35,
    "start_time": "2022-06-08T13:47:11.415Z"
   },
   {
    "duration": 22,
    "start_time": "2022-06-08T13:48:41.636Z"
   },
   {
    "duration": 22,
    "start_time": "2022-06-08T13:49:00.440Z"
   },
   {
    "duration": 116,
    "start_time": "2022-06-08T13:49:03.369Z"
   },
   {
    "duration": 32,
    "start_time": "2022-06-08T13:49:12.058Z"
   },
   {
    "duration": 41,
    "start_time": "2022-06-08T13:52:19.207Z"
   },
   {
    "duration": 57,
    "start_time": "2022-06-08T13:52:44.546Z"
   },
   {
    "duration": 31,
    "start_time": "2022-06-08T13:53:19.479Z"
   },
   {
    "duration": 1278,
    "start_time": "2022-06-08T14:09:05.831Z"
   },
   {
    "duration": 1900,
    "start_time": "2022-06-08T14:09:07.111Z"
   },
   {
    "duration": 157,
    "start_time": "2022-06-08T14:09:09.013Z"
   },
   {
    "duration": 131,
    "start_time": "2022-06-08T14:09:09.172Z"
   },
   {
    "duration": 134,
    "start_time": "2022-06-08T14:09:09.305Z"
   },
   {
    "duration": 4,
    "start_time": "2022-06-08T14:09:09.441Z"
   },
   {
    "duration": 154,
    "start_time": "2022-06-08T14:09:09.447Z"
   },
   {
    "duration": 553,
    "start_time": "2022-06-08T14:09:09.603Z"
   },
   {
    "duration": 589,
    "start_time": "2022-06-08T14:09:10.158Z"
   },
   {
    "duration": 562,
    "start_time": "2022-06-08T14:09:10.750Z"
   },
   {
    "duration": 66,
    "start_time": "2022-06-08T14:09:11.314Z"
   },
   {
    "duration": 33,
    "start_time": "2022-06-08T14:09:11.382Z"
   },
   {
    "duration": 80,
    "start_time": "2022-06-08T14:09:11.416Z"
   },
   {
    "duration": 195,
    "start_time": "2022-06-08T14:09:11.498Z"
   },
   {
    "duration": 24,
    "start_time": "2022-06-08T14:09:11.695Z"
   },
   {
    "duration": 44,
    "start_time": "2022-06-08T14:09:11.721Z"
   },
   {
    "duration": 24,
    "start_time": "2022-06-08T14:09:11.767Z"
   },
   {
    "duration": 47,
    "start_time": "2022-06-08T14:09:11.792Z"
   },
   {
    "duration": 41,
    "start_time": "2022-06-08T14:09:11.841Z"
   },
   {
    "duration": 59,
    "start_time": "2022-06-08T14:09:11.883Z"
   },
   {
    "duration": 134,
    "start_time": "2022-06-08T14:09:11.965Z"
   },
   {
    "duration": 35,
    "start_time": "2022-06-08T14:09:12.101Z"
   },
   {
    "duration": 129,
    "start_time": "2022-06-08T14:09:12.137Z"
   },
   {
    "duration": 0,
    "start_time": "2022-06-08T14:09:12.267Z"
   },
   {
    "duration": 0,
    "start_time": "2022-06-08T14:09:12.269Z"
   },
   {
    "duration": 0,
    "start_time": "2022-06-08T14:09:12.270Z"
   },
   {
    "duration": 1023,
    "start_time": "2022-06-08T14:58:30.505Z"
   },
   {
    "duration": 3455,
    "start_time": "2022-06-08T14:58:31.530Z"
   },
   {
    "duration": 105,
    "start_time": "2022-06-08T14:58:34.986Z"
   },
   {
    "duration": 100,
    "start_time": "2022-06-08T14:58:35.092Z"
   },
   {
    "duration": 107,
    "start_time": "2022-06-08T14:58:35.194Z"
   },
   {
    "duration": 4,
    "start_time": "2022-06-08T14:58:35.303Z"
   },
   {
    "duration": 107,
    "start_time": "2022-06-08T14:58:35.308Z"
   },
   {
    "duration": 428,
    "start_time": "2022-06-08T14:58:35.417Z"
   },
   {
    "duration": 475,
    "start_time": "2022-06-08T14:58:35.847Z"
   },
   {
    "duration": 473,
    "start_time": "2022-06-08T14:58:36.326Z"
   },
   {
    "duration": 51,
    "start_time": "2022-06-08T14:58:36.800Z"
   },
   {
    "duration": 35,
    "start_time": "2022-06-08T14:58:36.854Z"
   },
   {
    "duration": 68,
    "start_time": "2022-06-08T14:58:36.891Z"
   },
   {
    "duration": 153,
    "start_time": "2022-06-08T14:58:36.961Z"
   },
   {
    "duration": 29,
    "start_time": "2022-06-08T14:58:37.116Z"
   },
   {
    "duration": 16,
    "start_time": "2022-06-08T14:58:37.147Z"
   },
   {
    "duration": 17,
    "start_time": "2022-06-08T14:58:37.165Z"
   },
   {
    "duration": 62,
    "start_time": "2022-06-08T14:58:37.183Z"
   },
   {
    "duration": 17,
    "start_time": "2022-06-08T14:58:37.247Z"
   },
   {
    "duration": 43,
    "start_time": "2022-06-08T14:58:37.265Z"
   },
   {
    "duration": 105,
    "start_time": "2022-06-08T14:58:37.309Z"
   },
   {
    "duration": 47,
    "start_time": "2022-06-08T14:58:37.424Z"
   },
   {
    "duration": 105,
    "start_time": "2022-06-08T14:58:37.473Z"
   },
   {
    "duration": 0,
    "start_time": "2022-06-08T14:58:37.579Z"
   },
   {
    "duration": 0,
    "start_time": "2022-06-08T14:58:37.580Z"
   },
   {
    "duration": 0,
    "start_time": "2022-06-08T14:58:37.581Z"
   },
   {
    "duration": 1444,
    "start_time": "2022-06-08T15:06:24.245Z"
   },
   {
    "duration": 1184,
    "start_time": "2022-06-08T15:06:25.692Z"
   },
   {
    "duration": 181,
    "start_time": "2022-06-08T15:06:26.878Z"
   },
   {
    "duration": 223,
    "start_time": "2022-06-08T15:06:27.065Z"
   },
   {
    "duration": 190,
    "start_time": "2022-06-08T15:06:27.290Z"
   },
   {
    "duration": 164,
    "start_time": "2022-06-08T15:06:27.489Z"
   },
   {
    "duration": 197,
    "start_time": "2022-06-08T15:06:27.659Z"
   },
   {
    "duration": 664,
    "start_time": "2022-06-08T15:06:27.862Z"
   },
   {
    "duration": 680,
    "start_time": "2022-06-08T15:06:28.528Z"
   },
   {
    "duration": 579,
    "start_time": "2022-06-08T15:06:29.212Z"
   },
   {
    "duration": 87,
    "start_time": "2022-06-08T15:06:29.794Z"
   },
   {
    "duration": 39,
    "start_time": "2022-06-08T15:06:29.883Z"
   },
   {
    "duration": 130,
    "start_time": "2022-06-08T15:06:29.926Z"
   },
   {
    "duration": 239,
    "start_time": "2022-06-08T15:06:30.060Z"
   },
   {
    "duration": 33,
    "start_time": "2022-06-08T15:06:30.305Z"
   },
   {
    "duration": 115,
    "start_time": "2022-06-08T15:06:30.344Z"
   },
   {
    "duration": 60,
    "start_time": "2022-06-08T15:06:30.461Z"
   },
   {
    "duration": 97,
    "start_time": "2022-06-08T15:06:30.525Z"
   },
   {
    "duration": 31,
    "start_time": "2022-06-08T15:06:30.623Z"
   },
   {
    "duration": 131,
    "start_time": "2022-06-08T15:06:30.656Z"
   },
   {
    "duration": 184,
    "start_time": "2022-06-08T15:06:30.793Z"
   },
   {
    "duration": 74,
    "start_time": "2022-06-08T15:06:30.979Z"
   },
   {
    "duration": 189,
    "start_time": "2022-06-08T15:06:31.055Z"
   },
   {
    "duration": 186,
    "start_time": "2022-06-08T15:06:31.246Z"
   },
   {
    "duration": 0,
    "start_time": "2022-06-08T15:06:31.434Z"
   },
   {
    "duration": 0,
    "start_time": "2022-06-08T15:06:31.436Z"
   },
   {
    "duration": 0,
    "start_time": "2022-06-08T15:06:31.437Z"
   },
   {
    "duration": 38,
    "start_time": "2022-06-08T15:06:57.623Z"
   },
   {
    "duration": 3760,
    "start_time": "2022-06-08T15:07:12.574Z"
   },
   {
    "duration": 33,
    "start_time": "2022-06-08T15:07:19.577Z"
   },
   {
    "duration": 5,
    "start_time": "2022-06-08T15:07:34.692Z"
   },
   {
    "duration": 2229,
    "start_time": "2022-06-08T15:07:34.700Z"
   },
   {
    "duration": 0,
    "start_time": "2022-06-08T15:07:36.934Z"
   },
   {
    "duration": 0,
    "start_time": "2022-06-08T15:07:36.938Z"
   },
   {
    "duration": 0,
    "start_time": "2022-06-08T15:07:36.942Z"
   },
   {
    "duration": 0,
    "start_time": "2022-06-08T15:07:36.945Z"
   },
   {
    "duration": 0,
    "start_time": "2022-06-08T15:07:36.949Z"
   },
   {
    "duration": 0,
    "start_time": "2022-06-08T15:07:36.952Z"
   },
   {
    "duration": 0,
    "start_time": "2022-06-08T15:07:36.955Z"
   },
   {
    "duration": 0,
    "start_time": "2022-06-08T15:07:36.958Z"
   },
   {
    "duration": 0,
    "start_time": "2022-06-08T15:07:36.961Z"
   },
   {
    "duration": 0,
    "start_time": "2022-06-08T15:07:36.964Z"
   },
   {
    "duration": 0,
    "start_time": "2022-06-08T15:07:36.967Z"
   },
   {
    "duration": 0,
    "start_time": "2022-06-08T15:07:36.970Z"
   },
   {
    "duration": 0,
    "start_time": "2022-06-08T15:07:36.972Z"
   },
   {
    "duration": 0,
    "start_time": "2022-06-08T15:07:36.973Z"
   },
   {
    "duration": 0,
    "start_time": "2022-06-08T15:07:36.974Z"
   },
   {
    "duration": 0,
    "start_time": "2022-06-08T15:07:36.976Z"
   },
   {
    "duration": 0,
    "start_time": "2022-06-08T15:07:36.978Z"
   },
   {
    "duration": 0,
    "start_time": "2022-06-08T15:07:36.979Z"
   },
   {
    "duration": 0,
    "start_time": "2022-06-08T15:07:36.981Z"
   },
   {
    "duration": 1,
    "start_time": "2022-06-08T15:07:36.982Z"
   },
   {
    "duration": 0,
    "start_time": "2022-06-08T15:07:36.984Z"
   },
   {
    "duration": 0,
    "start_time": "2022-06-08T15:07:36.986Z"
   },
   {
    "duration": 0,
    "start_time": "2022-06-08T15:07:36.987Z"
   },
   {
    "duration": 0,
    "start_time": "2022-06-08T15:07:36.988Z"
   },
   {
    "duration": 0,
    "start_time": "2022-06-08T15:07:36.990Z"
   },
   {
    "duration": 0,
    "start_time": "2022-06-08T15:07:36.991Z"
   },
   {
    "duration": 2103,
    "start_time": "2022-06-08T15:07:59.544Z"
   },
   {
    "duration": 16,
    "start_time": "2022-06-08T15:08:05.175Z"
   },
   {
    "duration": 4748,
    "start_time": "2022-06-08T15:08:13.747Z"
   },
   {
    "duration": 1786,
    "start_time": "2022-06-08T15:08:18.500Z"
   },
   {
    "duration": 0,
    "start_time": "2022-06-08T15:08:20.296Z"
   },
   {
    "duration": 0,
    "start_time": "2022-06-08T15:08:20.300Z"
   },
   {
    "duration": 0,
    "start_time": "2022-06-08T15:08:20.307Z"
   },
   {
    "duration": 0,
    "start_time": "2022-06-08T15:08:20.311Z"
   },
   {
    "duration": 0,
    "start_time": "2022-06-08T15:08:20.313Z"
   },
   {
    "duration": 0,
    "start_time": "2022-06-08T15:08:20.315Z"
   },
   {
    "duration": 0,
    "start_time": "2022-06-08T15:08:20.316Z"
   },
   {
    "duration": 0,
    "start_time": "2022-06-08T15:08:20.318Z"
   },
   {
    "duration": 0,
    "start_time": "2022-06-08T15:08:20.319Z"
   },
   {
    "duration": 0,
    "start_time": "2022-06-08T15:08:20.321Z"
   },
   {
    "duration": 0,
    "start_time": "2022-06-08T15:08:20.322Z"
   },
   {
    "duration": 0,
    "start_time": "2022-06-08T15:08:20.324Z"
   },
   {
    "duration": 1,
    "start_time": "2022-06-08T15:08:20.325Z"
   },
   {
    "duration": 0,
    "start_time": "2022-06-08T15:08:20.327Z"
   },
   {
    "duration": 0,
    "start_time": "2022-06-08T15:08:20.328Z"
   },
   {
    "duration": 0,
    "start_time": "2022-06-08T15:08:20.330Z"
   },
   {
    "duration": 0,
    "start_time": "2022-06-08T15:08:20.331Z"
   },
   {
    "duration": 0,
    "start_time": "2022-06-08T15:08:20.333Z"
   },
   {
    "duration": 1,
    "start_time": "2022-06-08T15:08:20.334Z"
   },
   {
    "duration": 0,
    "start_time": "2022-06-08T15:08:20.336Z"
   },
   {
    "duration": 0,
    "start_time": "2022-06-08T15:08:20.337Z"
   },
   {
    "duration": 0,
    "start_time": "2022-06-08T15:08:20.339Z"
   },
   {
    "duration": 0,
    "start_time": "2022-06-08T15:08:20.340Z"
   },
   {
    "duration": 0,
    "start_time": "2022-06-08T15:08:20.342Z"
   },
   {
    "duration": 0,
    "start_time": "2022-06-08T15:08:20.343Z"
   },
   {
    "duration": 0,
    "start_time": "2022-06-08T15:08:20.344Z"
   },
   {
    "duration": 47165,
    "start_time": "2022-06-08T15:09:28.368Z"
   },
   {
    "duration": 6,
    "start_time": "2022-06-08T15:10:34.254Z"
   },
   {
    "duration": 4471,
    "start_time": "2022-06-08T15:10:34.263Z"
   },
   {
    "duration": 1465,
    "start_time": "2022-06-08T15:10:38.738Z"
   },
   {
    "duration": 0,
    "start_time": "2022-06-08T15:10:40.207Z"
   },
   {
    "duration": 0,
    "start_time": "2022-06-08T15:10:40.210Z"
   },
   {
    "duration": 0,
    "start_time": "2022-06-08T15:10:40.226Z"
   },
   {
    "duration": 0,
    "start_time": "2022-06-08T15:10:40.228Z"
   },
   {
    "duration": 0,
    "start_time": "2022-06-08T15:10:40.230Z"
   },
   {
    "duration": 0,
    "start_time": "2022-06-08T15:10:40.232Z"
   },
   {
    "duration": 0,
    "start_time": "2022-06-08T15:10:40.234Z"
   },
   {
    "duration": 0,
    "start_time": "2022-06-08T15:10:40.237Z"
   },
   {
    "duration": 0,
    "start_time": "2022-06-08T15:10:40.239Z"
   },
   {
    "duration": 0,
    "start_time": "2022-06-08T15:10:40.241Z"
   },
   {
    "duration": 0,
    "start_time": "2022-06-08T15:10:40.243Z"
   },
   {
    "duration": 0,
    "start_time": "2022-06-08T15:10:40.244Z"
   },
   {
    "duration": 0,
    "start_time": "2022-06-08T15:10:40.246Z"
   },
   {
    "duration": 0,
    "start_time": "2022-06-08T15:10:40.248Z"
   },
   {
    "duration": 0,
    "start_time": "2022-06-08T15:10:40.250Z"
   },
   {
    "duration": 0,
    "start_time": "2022-06-08T15:10:40.251Z"
   },
   {
    "duration": 0,
    "start_time": "2022-06-08T15:10:40.260Z"
   },
   {
    "duration": 0,
    "start_time": "2022-06-08T15:10:40.262Z"
   },
   {
    "duration": 0,
    "start_time": "2022-06-08T15:10:40.264Z"
   },
   {
    "duration": 1,
    "start_time": "2022-06-08T15:10:40.266Z"
   },
   {
    "duration": 0,
    "start_time": "2022-06-08T15:10:40.269Z"
   },
   {
    "duration": 0,
    "start_time": "2022-06-08T15:10:40.272Z"
   },
   {
    "duration": 0,
    "start_time": "2022-06-08T15:10:40.274Z"
   },
   {
    "duration": 0,
    "start_time": "2022-06-08T15:10:40.276Z"
   },
   {
    "duration": 0,
    "start_time": "2022-06-08T15:10:40.278Z"
   },
   {
    "duration": 0,
    "start_time": "2022-06-08T15:10:40.280Z"
   },
   {
    "duration": 17400,
    "start_time": "2022-06-08T15:11:07.206Z"
   },
   {
    "duration": 3,
    "start_time": "2022-06-08T15:11:24.609Z"
   },
   {
    "duration": 1480,
    "start_time": "2022-06-08T15:11:24.614Z"
   },
   {
    "duration": 0,
    "start_time": "2022-06-08T15:11:26.098Z"
   },
   {
    "duration": 0,
    "start_time": "2022-06-08T15:11:26.099Z"
   },
   {
    "duration": 0,
    "start_time": "2022-06-08T15:11:26.100Z"
   },
   {
    "duration": 0,
    "start_time": "2022-06-08T15:11:26.101Z"
   },
   {
    "duration": 0,
    "start_time": "2022-06-08T15:11:26.102Z"
   },
   {
    "duration": 0,
    "start_time": "2022-06-08T15:11:26.104Z"
   },
   {
    "duration": 0,
    "start_time": "2022-06-08T15:11:26.105Z"
   },
   {
    "duration": 0,
    "start_time": "2022-06-08T15:11:26.107Z"
   },
   {
    "duration": 0,
    "start_time": "2022-06-08T15:11:26.124Z"
   },
   {
    "duration": 0,
    "start_time": "2022-06-08T15:11:26.126Z"
   },
   {
    "duration": 0,
    "start_time": "2022-06-08T15:11:26.127Z"
   },
   {
    "duration": 0,
    "start_time": "2022-06-08T15:11:26.128Z"
   },
   {
    "duration": 0,
    "start_time": "2022-06-08T15:11:26.130Z"
   },
   {
    "duration": 0,
    "start_time": "2022-06-08T15:11:26.131Z"
   },
   {
    "duration": 0,
    "start_time": "2022-06-08T15:11:26.132Z"
   },
   {
    "duration": 0,
    "start_time": "2022-06-08T15:11:26.134Z"
   },
   {
    "duration": 0,
    "start_time": "2022-06-08T15:11:26.135Z"
   },
   {
    "duration": 0,
    "start_time": "2022-06-08T15:11:26.137Z"
   },
   {
    "duration": 0,
    "start_time": "2022-06-08T15:11:26.138Z"
   },
   {
    "duration": 0,
    "start_time": "2022-06-08T15:11:26.140Z"
   },
   {
    "duration": 0,
    "start_time": "2022-06-08T15:11:26.142Z"
   },
   {
    "duration": 0,
    "start_time": "2022-06-08T15:11:26.143Z"
   },
   {
    "duration": 0,
    "start_time": "2022-06-08T15:11:26.145Z"
   },
   {
    "duration": 0,
    "start_time": "2022-06-08T15:11:26.146Z"
   },
   {
    "duration": 0,
    "start_time": "2022-06-08T15:11:26.147Z"
   },
   {
    "duration": 0,
    "start_time": "2022-06-08T15:11:26.148Z"
   },
   {
    "duration": 175,
    "start_time": "2022-06-08T15:12:00.405Z"
   },
   {
    "duration": 10,
    "start_time": "2022-06-08T15:17:28.530Z"
   },
   {
    "duration": 28,
    "start_time": "2022-06-08T15:17:28.541Z"
   },
   {
    "duration": 22,
    "start_time": "2022-06-08T15:17:28.570Z"
   },
   {
    "duration": 4730,
    "start_time": "2022-06-08T15:17:28.594Z"
   },
   {
    "duration": 0,
    "start_time": "2022-06-08T15:17:33.326Z"
   },
   {
    "duration": 0,
    "start_time": "2022-06-08T15:17:33.327Z"
   },
   {
    "duration": 0,
    "start_time": "2022-06-08T15:17:33.328Z"
   },
   {
    "duration": 0,
    "start_time": "2022-06-08T15:17:33.329Z"
   },
   {
    "duration": 0,
    "start_time": "2022-06-08T15:17:33.330Z"
   },
   {
    "duration": 0,
    "start_time": "2022-06-08T15:17:33.331Z"
   },
   {
    "duration": 0,
    "start_time": "2022-06-08T15:17:33.332Z"
   },
   {
    "duration": 0,
    "start_time": "2022-06-08T15:17:33.333Z"
   },
   {
    "duration": 0,
    "start_time": "2022-06-08T15:17:33.334Z"
   },
   {
    "duration": 0,
    "start_time": "2022-06-08T15:17:33.336Z"
   },
   {
    "duration": 0,
    "start_time": "2022-06-08T15:17:33.336Z"
   },
   {
    "duration": 0,
    "start_time": "2022-06-08T15:17:33.338Z"
   },
   {
    "duration": 1,
    "start_time": "2022-06-08T15:17:33.338Z"
   },
   {
    "duration": 0,
    "start_time": "2022-06-08T15:17:33.340Z"
   },
   {
    "duration": 0,
    "start_time": "2022-06-08T15:17:33.340Z"
   },
   {
    "duration": 0,
    "start_time": "2022-06-08T15:17:33.342Z"
   },
   {
    "duration": 0,
    "start_time": "2022-06-08T15:17:33.343Z"
   },
   {
    "duration": 0,
    "start_time": "2022-06-08T15:17:33.344Z"
   },
   {
    "duration": 0,
    "start_time": "2022-06-08T15:17:33.345Z"
   },
   {
    "duration": 0,
    "start_time": "2022-06-08T15:17:33.347Z"
   },
   {
    "duration": 0,
    "start_time": "2022-06-08T15:17:33.350Z"
   },
   {
    "duration": 0,
    "start_time": "2022-06-08T15:17:33.351Z"
   },
   {
    "duration": 0,
    "start_time": "2022-06-08T15:17:33.352Z"
   },
   {
    "duration": 0,
    "start_time": "2022-06-08T15:17:33.353Z"
   },
   {
    "duration": 0,
    "start_time": "2022-06-08T15:17:33.355Z"
   },
   {
    "duration": 0,
    "start_time": "2022-06-08T15:17:33.356Z"
   },
   {
    "duration": 3350,
    "start_time": "2022-06-08T15:17:40.382Z"
   },
   {
    "duration": 29,
    "start_time": "2022-06-08T15:17:52.810Z"
   },
   {
    "duration": 4,
    "start_time": "2022-06-08T15:18:02.135Z"
   },
   {
    "duration": 34,
    "start_time": "2022-06-08T15:18:02.142Z"
   },
   {
    "duration": 27,
    "start_time": "2022-06-08T15:18:02.178Z"
   },
   {
    "duration": 1349,
    "start_time": "2022-06-08T15:18:02.207Z"
   },
   {
    "duration": 0,
    "start_time": "2022-06-08T15:18:03.558Z"
   },
   {
    "duration": 0,
    "start_time": "2022-06-08T15:18:03.560Z"
   },
   {
    "duration": 0,
    "start_time": "2022-06-08T15:18:03.562Z"
   },
   {
    "duration": 0,
    "start_time": "2022-06-08T15:18:03.565Z"
   },
   {
    "duration": 0,
    "start_time": "2022-06-08T15:18:03.566Z"
   },
   {
    "duration": 0,
    "start_time": "2022-06-08T15:18:03.568Z"
   },
   {
    "duration": 0,
    "start_time": "2022-06-08T15:18:03.569Z"
   },
   {
    "duration": 1,
    "start_time": "2022-06-08T15:18:03.570Z"
   },
   {
    "duration": 0,
    "start_time": "2022-06-08T15:18:03.572Z"
   },
   {
    "duration": 0,
    "start_time": "2022-06-08T15:18:03.574Z"
   },
   {
    "duration": 0,
    "start_time": "2022-06-08T15:18:03.575Z"
   },
   {
    "duration": 0,
    "start_time": "2022-06-08T15:18:03.577Z"
   },
   {
    "duration": 0,
    "start_time": "2022-06-08T15:18:03.579Z"
   },
   {
    "duration": 0,
    "start_time": "2022-06-08T15:18:03.580Z"
   },
   {
    "duration": 0,
    "start_time": "2022-06-08T15:18:03.581Z"
   },
   {
    "duration": 0,
    "start_time": "2022-06-08T15:18:03.582Z"
   },
   {
    "duration": 0,
    "start_time": "2022-06-08T15:18:03.583Z"
   },
   {
    "duration": 0,
    "start_time": "2022-06-08T15:18:03.585Z"
   },
   {
    "duration": 0,
    "start_time": "2022-06-08T15:18:03.587Z"
   },
   {
    "duration": 0,
    "start_time": "2022-06-08T15:18:03.624Z"
   },
   {
    "duration": 0,
    "start_time": "2022-06-08T15:18:03.625Z"
   },
   {
    "duration": 0,
    "start_time": "2022-06-08T15:18:03.627Z"
   },
   {
    "duration": 0,
    "start_time": "2022-06-08T15:18:03.631Z"
   },
   {
    "duration": 0,
    "start_time": "2022-06-08T15:18:03.633Z"
   },
   {
    "duration": 0,
    "start_time": "2022-06-08T15:18:03.634Z"
   },
   {
    "duration": 0,
    "start_time": "2022-06-08T15:18:03.635Z"
   },
   {
    "duration": 4,
    "start_time": "2022-06-08T15:27:49.878Z"
   },
   {
    "duration": 1733,
    "start_time": "2022-06-08T15:38:16.354Z"
   },
   {
    "duration": 2726,
    "start_time": "2022-06-08T15:38:18.089Z"
   },
   {
    "duration": 253,
    "start_time": "2022-06-08T15:38:20.817Z"
   },
   {
    "duration": 218,
    "start_time": "2022-06-08T15:38:21.073Z"
   },
   {
    "duration": 270,
    "start_time": "2022-06-08T15:38:21.296Z"
   },
   {
    "duration": 37,
    "start_time": "2022-06-08T15:38:21.567Z"
   },
   {
    "duration": 252,
    "start_time": "2022-06-08T15:38:21.606Z"
   },
   {
    "duration": 746,
    "start_time": "2022-06-08T15:38:21.862Z"
   },
   {
    "duration": 778,
    "start_time": "2022-06-08T15:38:22.610Z"
   },
   {
    "duration": 631,
    "start_time": "2022-06-08T15:38:23.392Z"
   },
   {
    "duration": 83,
    "start_time": "2022-06-08T15:38:24.025Z"
   },
   {
    "duration": 55,
    "start_time": "2022-06-08T15:38:24.111Z"
   },
   {
    "duration": 66,
    "start_time": "2022-06-08T15:38:24.169Z"
   },
   {
    "duration": 280,
    "start_time": "2022-06-08T15:38:24.238Z"
   },
   {
    "duration": 36,
    "start_time": "2022-06-08T15:38:24.520Z"
   },
   {
    "duration": 46,
    "start_time": "2022-06-08T15:38:24.558Z"
   },
   {
    "duration": 67,
    "start_time": "2022-06-08T15:38:24.605Z"
   },
   {
    "duration": 38,
    "start_time": "2022-06-08T15:38:24.675Z"
   },
   {
    "duration": 89,
    "start_time": "2022-06-08T15:38:24.715Z"
   },
   {
    "duration": 191,
    "start_time": "2022-06-08T15:38:24.806Z"
   },
   {
    "duration": 65,
    "start_time": "2022-06-08T15:38:24.999Z"
   },
   {
    "duration": 147,
    "start_time": "2022-06-08T15:38:25.066Z"
   },
   {
    "duration": 0,
    "start_time": "2022-06-08T15:38:25.214Z"
   },
   {
    "duration": 0,
    "start_time": "2022-06-08T15:38:25.217Z"
   },
   {
    "duration": 0,
    "start_time": "2022-06-08T15:38:25.219Z"
   },
   {
    "duration": 31,
    "start_time": "2022-06-08T15:46:59.848Z"
   },
   {
    "duration": 22,
    "start_time": "2022-06-08T15:54:19.294Z"
   },
   {
    "duration": 37,
    "start_time": "2022-06-08T15:54:29.228Z"
   },
   {
    "duration": 10,
    "start_time": "2022-06-08T15:54:36.890Z"
   },
   {
    "duration": 71,
    "start_time": "2022-06-08T15:55:06.650Z"
   },
   {
    "duration": 1093,
    "start_time": "2022-06-08T15:58:43.490Z"
   },
   {
    "duration": 885,
    "start_time": "2022-06-08T15:58:44.585Z"
   },
   {
    "duration": 177,
    "start_time": "2022-06-08T15:58:45.472Z"
   },
   {
    "duration": 139,
    "start_time": "2022-06-08T15:58:45.655Z"
   },
   {
    "duration": 161,
    "start_time": "2022-06-08T15:58:45.796Z"
   },
   {
    "duration": 17,
    "start_time": "2022-06-08T15:58:45.960Z"
   },
   {
    "duration": 182,
    "start_time": "2022-06-08T15:58:45.979Z"
   },
   {
    "duration": 532,
    "start_time": "2022-06-08T15:58:46.163Z"
   },
   {
    "duration": 641,
    "start_time": "2022-06-08T15:58:46.697Z"
   },
   {
    "duration": 1208,
    "start_time": "2022-06-08T15:58:47.340Z"
   },
   {
    "duration": 121,
    "start_time": "2022-06-08T15:58:48.550Z"
   },
   {
    "duration": 50,
    "start_time": "2022-06-08T15:58:48.725Z"
   },
   {
    "duration": 150,
    "start_time": "2022-06-08T15:58:48.776Z"
   },
   {
    "duration": 528,
    "start_time": "2022-06-08T15:58:48.928Z"
   },
   {
    "duration": 74,
    "start_time": "2022-06-08T15:58:49.458Z"
   },
   {
    "duration": 49,
    "start_time": "2022-06-08T15:58:49.534Z"
   },
   {
    "duration": 147,
    "start_time": "2022-06-08T15:58:49.585Z"
   },
   {
    "duration": 46,
    "start_time": "2022-06-08T15:58:49.734Z"
   },
   {
    "duration": 190,
    "start_time": "2022-06-08T15:58:49.782Z"
   },
   {
    "duration": 485,
    "start_time": "2022-06-08T15:58:49.974Z"
   },
   {
    "duration": 197,
    "start_time": "2022-06-08T15:58:50.461Z"
   },
   {
    "duration": 66,
    "start_time": "2022-06-08T15:58:50.663Z"
   },
   {
    "duration": 229,
    "start_time": "2022-06-08T15:58:50.731Z"
   },
   {
    "duration": 0,
    "start_time": "2022-06-08T15:58:50.962Z"
   },
   {
    "duration": 0,
    "start_time": "2022-06-08T15:58:50.964Z"
   },
   {
    "duration": 0,
    "start_time": "2022-06-08T15:58:50.965Z"
   },
   {
    "duration": 17,
    "start_time": "2022-06-08T15:59:09.102Z"
   },
   {
    "duration": 21,
    "start_time": "2022-06-08T16:01:59.043Z"
   },
   {
    "duration": 110,
    "start_time": "2022-06-08T16:04:18.118Z"
   },
   {
    "duration": 21,
    "start_time": "2022-06-08T16:07:57.366Z"
   },
   {
    "duration": 13,
    "start_time": "2022-06-08T16:09:58.449Z"
   },
   {
    "duration": 12,
    "start_time": "2022-06-08T16:10:28.450Z"
   },
   {
    "duration": 3,
    "start_time": "2022-06-08T16:14:31.498Z"
   },
   {
    "duration": 439,
    "start_time": "2022-06-08T16:20:00.257Z"
   },
   {
    "duration": 17,
    "start_time": "2022-06-08T16:20:02.768Z"
   },
   {
    "duration": 1269,
    "start_time": "2022-06-08T16:23:29.955Z"
   },
   {
    "duration": 1016,
    "start_time": "2022-06-08T16:23:31.226Z"
   },
   {
    "duration": 152,
    "start_time": "2022-06-08T16:23:32.245Z"
   },
   {
    "duration": 180,
    "start_time": "2022-06-08T16:23:32.398Z"
   },
   {
    "duration": 234,
    "start_time": "2022-06-08T16:23:32.584Z"
   },
   {
    "duration": 12,
    "start_time": "2022-06-08T16:23:32.820Z"
   },
   {
    "duration": 214,
    "start_time": "2022-06-08T16:23:32.833Z"
   },
   {
    "duration": 563,
    "start_time": "2022-06-08T16:23:33.053Z"
   },
   {
    "duration": 634,
    "start_time": "2022-06-08T16:23:33.618Z"
   },
   {
    "duration": 549,
    "start_time": "2022-06-08T16:23:34.255Z"
   },
   {
    "duration": 48,
    "start_time": "2022-06-08T16:23:34.806Z"
   },
   {
    "duration": 29,
    "start_time": "2022-06-08T16:23:34.856Z"
   },
   {
    "duration": 72,
    "start_time": "2022-06-08T16:23:34.887Z"
   },
   {
    "duration": 487,
    "start_time": "2022-06-08T16:23:34.962Z"
   },
   {
    "duration": 71,
    "start_time": "2022-06-08T16:23:35.457Z"
   },
   {
    "duration": 37,
    "start_time": "2022-06-08T16:23:35.529Z"
   },
   {
    "duration": 168,
    "start_time": "2022-06-08T16:23:35.568Z"
   },
   {
    "duration": 47,
    "start_time": "2022-06-08T16:23:35.738Z"
   },
   {
    "duration": 201,
    "start_time": "2022-06-08T16:23:35.786Z"
   },
   {
    "duration": 430,
    "start_time": "2022-06-08T16:23:36.029Z"
   },
   {
    "duration": 193,
    "start_time": "2022-06-08T16:23:36.463Z"
   },
   {
    "duration": 68,
    "start_time": "2022-06-08T16:23:36.658Z"
   },
   {
    "duration": 964,
    "start_time": "2022-06-08T16:23:36.728Z"
   },
   {
    "duration": 14,
    "start_time": "2022-06-08T16:23:37.695Z"
   },
   {
    "duration": 160,
    "start_time": "2022-06-08T16:23:37.711Z"
   },
   {
    "duration": 0,
    "start_time": "2022-06-08T16:23:37.873Z"
   },
   {
    "duration": 0,
    "start_time": "2022-06-08T16:23:37.875Z"
   },
   {
    "duration": 0,
    "start_time": "2022-06-08T16:23:37.876Z"
   },
   {
    "duration": 1311,
    "start_time": "2022-06-08T16:35:37.501Z"
   },
   {
    "duration": 1311,
    "start_time": "2022-06-08T16:35:38.815Z"
   },
   {
    "duration": 445,
    "start_time": "2022-06-08T16:35:40.132Z"
   },
   {
    "duration": 391,
    "start_time": "2022-06-08T16:35:40.580Z"
   },
   {
    "duration": 482,
    "start_time": "2022-06-08T16:35:40.973Z"
   },
   {
    "duration": 6,
    "start_time": "2022-06-08T16:35:41.457Z"
   },
   {
    "duration": 478,
    "start_time": "2022-06-08T16:35:41.464Z"
   },
   {
    "duration": 548,
    "start_time": "2022-06-08T16:35:41.945Z"
   },
   {
    "duration": 650,
    "start_time": "2022-06-08T16:35:42.495Z"
   },
   {
    "duration": 538,
    "start_time": "2022-06-08T16:35:43.147Z"
   },
   {
    "duration": 46,
    "start_time": "2022-06-08T16:35:43.687Z"
   },
   {
    "duration": 32,
    "start_time": "2022-06-08T16:35:43.735Z"
   },
   {
    "duration": 69,
    "start_time": "2022-06-08T16:35:43.769Z"
   },
   {
    "duration": 207,
    "start_time": "2022-06-08T16:35:43.841Z"
   },
   {
    "duration": 24,
    "start_time": "2022-06-08T16:35:44.050Z"
   },
   {
    "duration": 22,
    "start_time": "2022-06-08T16:35:44.075Z"
   },
   {
    "duration": 66,
    "start_time": "2022-06-08T16:35:44.099Z"
   },
   {
    "duration": 19,
    "start_time": "2022-06-08T16:35:44.167Z"
   },
   {
    "duration": 77,
    "start_time": "2022-06-08T16:35:44.188Z"
   },
   {
    "duration": 152,
    "start_time": "2022-06-08T16:35:44.267Z"
   },
   {
    "duration": 72,
    "start_time": "2022-06-08T16:35:44.427Z"
   },
   {
    "duration": 9,
    "start_time": "2022-06-08T16:35:44.501Z"
   },
   {
    "duration": 2276,
    "start_time": "2022-06-08T16:35:44.511Z"
   },
   {
    "duration": 13,
    "start_time": "2022-06-08T16:35:46.789Z"
   },
   {
    "duration": 136,
    "start_time": "2022-06-08T16:35:46.804Z"
   },
   {
    "duration": 0,
    "start_time": "2022-06-08T16:35:46.942Z"
   },
   {
    "duration": 0,
    "start_time": "2022-06-08T16:35:46.943Z"
   },
   {
    "duration": 0,
    "start_time": "2022-06-08T16:35:46.944Z"
   },
   {
    "duration": 14,
    "start_time": "2022-06-08T16:36:01.192Z"
   },
   {
    "duration": 3,
    "start_time": "2022-06-08T16:40:14.807Z"
   },
   {
    "duration": 4,
    "start_time": "2022-06-08T16:50:26.973Z"
   },
   {
    "duration": 429,
    "start_time": "2022-06-08T16:54:32.200Z"
   },
   {
    "duration": 26,
    "start_time": "2022-06-08T16:55:34.248Z"
   },
   {
    "duration": 24,
    "start_time": "2022-06-08T16:56:01.993Z"
   },
   {
    "duration": 462,
    "start_time": "2022-06-08T16:59:02.603Z"
   },
   {
    "duration": 20,
    "start_time": "2022-06-08T16:59:09.187Z"
   },
   {
    "duration": 27,
    "start_time": "2022-06-08T16:59:16.318Z"
   },
   {
    "duration": 25,
    "start_time": "2022-06-08T16:59:20.518Z"
   },
   {
    "duration": 16,
    "start_time": "2022-06-08T16:59:40.601Z"
   },
   {
    "duration": 1122,
    "start_time": "2022-06-08T17:04:21.244Z"
   },
   {
    "duration": 942,
    "start_time": "2022-06-08T17:04:22.368Z"
   },
   {
    "duration": 167,
    "start_time": "2022-06-08T17:04:23.312Z"
   },
   {
    "duration": 168,
    "start_time": "2022-06-08T17:04:23.480Z"
   },
   {
    "duration": 139,
    "start_time": "2022-06-08T17:04:23.653Z"
   },
   {
    "duration": 4,
    "start_time": "2022-06-08T17:04:23.793Z"
   },
   {
    "duration": 166,
    "start_time": "2022-06-08T17:04:23.799Z"
   },
   {
    "duration": 510,
    "start_time": "2022-06-08T17:04:23.967Z"
   },
   {
    "duration": 584,
    "start_time": "2022-06-08T17:04:24.479Z"
   },
   {
    "duration": 523,
    "start_time": "2022-06-08T17:04:25.065Z"
   },
   {
    "duration": 59,
    "start_time": "2022-06-08T17:04:25.590Z"
   },
   {
    "duration": 30,
    "start_time": "2022-06-08T17:04:25.652Z"
   },
   {
    "duration": 66,
    "start_time": "2022-06-08T17:04:25.684Z"
   },
   {
    "duration": 215,
    "start_time": "2022-06-08T17:04:25.758Z"
   },
   {
    "duration": 20,
    "start_time": "2022-06-08T17:04:25.975Z"
   },
   {
    "duration": 44,
    "start_time": "2022-06-08T17:04:25.997Z"
   },
   {
    "duration": 68,
    "start_time": "2022-06-08T17:04:26.044Z"
   },
   {
    "duration": 31,
    "start_time": "2022-06-08T17:04:26.113Z"
   },
   {
    "duration": 77,
    "start_time": "2022-06-08T17:04:26.151Z"
   },
   {
    "duration": 233,
    "start_time": "2022-06-08T17:04:26.231Z"
   },
   {
    "duration": 182,
    "start_time": "2022-06-08T17:04:26.466Z"
   },
   {
    "duration": 10,
    "start_time": "2022-06-08T17:04:26.651Z"
   },
   {
    "duration": 3313,
    "start_time": "2022-06-08T17:04:26.663Z"
   },
   {
    "duration": 70,
    "start_time": "2022-06-08T17:04:29.977Z"
   },
   {
    "duration": 82,
    "start_time": "2022-06-08T17:04:30.049Z"
   },
   {
    "duration": 243,
    "start_time": "2022-06-08T17:04:30.137Z"
   },
   {
    "duration": 302,
    "start_time": "2022-06-08T17:04:30.382Z"
   },
   {
    "duration": 119,
    "start_time": "2022-06-08T17:04:30.686Z"
   },
   {
    "duration": 0,
    "start_time": "2022-06-08T17:04:30.806Z"
   },
   {
    "duration": 0,
    "start_time": "2022-06-08T17:04:30.807Z"
   },
   {
    "duration": 0,
    "start_time": "2022-06-08T17:04:30.808Z"
   },
   {
    "duration": 1220,
    "start_time": "2022-06-08T17:13:28.763Z"
   },
   {
    "duration": 1164,
    "start_time": "2022-06-08T17:13:29.985Z"
   },
   {
    "duration": 500,
    "start_time": "2022-06-08T17:13:31.151Z"
   },
   {
    "duration": 476,
    "start_time": "2022-06-08T17:13:31.656Z"
   },
   {
    "duration": 439,
    "start_time": "2022-06-08T17:13:32.135Z"
   },
   {
    "duration": 78,
    "start_time": "2022-06-08T17:13:32.580Z"
   },
   {
    "duration": 471,
    "start_time": "2022-06-08T17:13:32.670Z"
   },
   {
    "duration": 855,
    "start_time": "2022-06-08T17:13:33.143Z"
   },
   {
    "duration": 652,
    "start_time": "2022-06-08T17:13:34.000Z"
   },
   {
    "duration": 560,
    "start_time": "2022-06-08T17:13:34.656Z"
   },
   {
    "duration": 59,
    "start_time": "2022-06-08T17:13:35.222Z"
   },
   {
    "duration": 29,
    "start_time": "2022-06-08T17:13:35.283Z"
   },
   {
    "duration": 82,
    "start_time": "2022-06-08T17:13:35.325Z"
   },
   {
    "duration": 214,
    "start_time": "2022-06-08T17:13:35.410Z"
   },
   {
    "duration": 33,
    "start_time": "2022-06-08T17:13:35.632Z"
   },
   {
    "duration": 20,
    "start_time": "2022-06-08T17:13:35.667Z"
   },
   {
    "duration": 48,
    "start_time": "2022-06-08T17:13:35.689Z"
   },
   {
    "duration": 30,
    "start_time": "2022-06-08T17:13:35.739Z"
   },
   {
    "duration": 73,
    "start_time": "2022-06-08T17:13:35.771Z"
   },
   {
    "duration": 163,
    "start_time": "2022-06-08T17:13:35.846Z"
   },
   {
    "duration": 117,
    "start_time": "2022-06-08T17:13:36.011Z"
   },
   {
    "duration": 10,
    "start_time": "2022-06-08T17:13:36.130Z"
   },
   {
    "duration": 3677,
    "start_time": "2022-06-08T17:13:36.142Z"
   },
   {
    "duration": 56,
    "start_time": "2022-06-08T17:13:39.821Z"
   },
   {
    "duration": 97,
    "start_time": "2022-06-08T17:13:39.879Z"
   },
   {
    "duration": 277,
    "start_time": "2022-06-08T17:13:39.979Z"
   },
   {
    "duration": 322,
    "start_time": "2022-06-08T17:13:40.258Z"
   },
   {
    "duration": 12,
    "start_time": "2022-06-08T17:13:40.582Z"
   },
   {
    "duration": 3,
    "start_time": "2022-06-08T17:22:43.637Z"
   },
   {
    "duration": 107,
    "start_time": "2022-06-08T17:57:36.860Z"
   },
   {
    "duration": 11,
    "start_time": "2022-06-08T17:59:37.360Z"
   },
   {
    "duration": 16413,
    "start_time": "2022-06-08T18:00:25.172Z"
   },
   {
    "duration": 33287,
    "start_time": "2022-06-08T18:00:49.629Z"
   },
   {
    "duration": 118413,
    "start_time": "2022-06-08T18:03:46.244Z"
   },
   {
    "duration": 36618,
    "start_time": "2022-06-08T18:05:55.322Z"
   },
   {
    "duration": 5,
    "start_time": "2022-06-08T18:07:26.145Z"
   },
   {
    "duration": 6,
    "start_time": "2022-06-08T18:07:36.647Z"
   },
   {
    "duration": 3213,
    "start_time": "2022-06-09T10:01:37.085Z"
   },
   {
    "duration": 1134,
    "start_time": "2022-06-09T10:01:40.305Z"
   },
   {
    "duration": 0,
    "start_time": "2022-06-09T10:01:41.441Z"
   },
   {
    "duration": 0,
    "start_time": "2022-06-09T10:01:41.442Z"
   },
   {
    "duration": 0,
    "start_time": "2022-06-09T10:01:41.443Z"
   },
   {
    "duration": 0,
    "start_time": "2022-06-09T10:01:41.444Z"
   },
   {
    "duration": 0,
    "start_time": "2022-06-09T10:01:41.445Z"
   },
   {
    "duration": 0,
    "start_time": "2022-06-09T10:01:41.446Z"
   },
   {
    "duration": 0,
    "start_time": "2022-06-09T10:01:41.447Z"
   },
   {
    "duration": 0,
    "start_time": "2022-06-09T10:01:41.448Z"
   },
   {
    "duration": 0,
    "start_time": "2022-06-09T10:01:41.449Z"
   },
   {
    "duration": 0,
    "start_time": "2022-06-09T10:01:41.449Z"
   },
   {
    "duration": 0,
    "start_time": "2022-06-09T10:01:41.450Z"
   },
   {
    "duration": 0,
    "start_time": "2022-06-09T10:01:41.451Z"
   },
   {
    "duration": 0,
    "start_time": "2022-06-09T10:01:41.452Z"
   },
   {
    "duration": 0,
    "start_time": "2022-06-09T10:01:41.453Z"
   },
   {
    "duration": 0,
    "start_time": "2022-06-09T10:01:41.453Z"
   },
   {
    "duration": 0,
    "start_time": "2022-06-09T10:01:41.454Z"
   },
   {
    "duration": 0,
    "start_time": "2022-06-09T10:01:41.455Z"
   },
   {
    "duration": 0,
    "start_time": "2022-06-09T10:01:41.456Z"
   },
   {
    "duration": 0,
    "start_time": "2022-06-09T10:01:41.457Z"
   },
   {
    "duration": 0,
    "start_time": "2022-06-09T10:01:41.457Z"
   },
   {
    "duration": 0,
    "start_time": "2022-06-09T10:01:41.458Z"
   },
   {
    "duration": 0,
    "start_time": "2022-06-09T10:01:41.459Z"
   },
   {
    "duration": 0,
    "start_time": "2022-06-09T10:01:41.459Z"
   },
   {
    "duration": 0,
    "start_time": "2022-06-09T10:01:41.460Z"
   },
   {
    "duration": 0,
    "start_time": "2022-06-09T10:01:41.460Z"
   },
   {
    "duration": 0,
    "start_time": "2022-06-09T10:01:41.461Z"
   },
   {
    "duration": 0,
    "start_time": "2022-06-09T10:01:41.461Z"
   },
   {
    "duration": 0,
    "start_time": "2022-06-09T10:01:41.462Z"
   },
   {
    "duration": 3,
    "start_time": "2022-06-09T10:02:44.156Z"
   },
   {
    "duration": 1030,
    "start_time": "2022-06-09T10:02:44.161Z"
   },
   {
    "duration": 0,
    "start_time": "2022-06-09T10:02:45.194Z"
   },
   {
    "duration": 0,
    "start_time": "2022-06-09T10:02:45.196Z"
   },
   {
    "duration": 0,
    "start_time": "2022-06-09T10:02:45.196Z"
   },
   {
    "duration": 0,
    "start_time": "2022-06-09T10:02:45.201Z"
   },
   {
    "duration": 0,
    "start_time": "2022-06-09T10:02:45.203Z"
   },
   {
    "duration": 0,
    "start_time": "2022-06-09T10:02:45.204Z"
   },
   {
    "duration": 0,
    "start_time": "2022-06-09T10:02:45.206Z"
   },
   {
    "duration": 0,
    "start_time": "2022-06-09T10:02:45.208Z"
   },
   {
    "duration": 0,
    "start_time": "2022-06-09T10:02:45.209Z"
   },
   {
    "duration": 0,
    "start_time": "2022-06-09T10:02:45.210Z"
   },
   {
    "duration": 0,
    "start_time": "2022-06-09T10:02:45.212Z"
   },
   {
    "duration": 1,
    "start_time": "2022-06-09T10:02:45.212Z"
   },
   {
    "duration": 0,
    "start_time": "2022-06-09T10:02:45.214Z"
   },
   {
    "duration": 0,
    "start_time": "2022-06-09T10:02:45.215Z"
   },
   {
    "duration": 0,
    "start_time": "2022-06-09T10:02:45.215Z"
   },
   {
    "duration": 0,
    "start_time": "2022-06-09T10:02:45.217Z"
   },
   {
    "duration": 0,
    "start_time": "2022-06-09T10:02:45.217Z"
   },
   {
    "duration": 0,
    "start_time": "2022-06-09T10:02:45.218Z"
   },
   {
    "duration": 0,
    "start_time": "2022-06-09T10:02:45.219Z"
   },
   {
    "duration": 0,
    "start_time": "2022-06-09T10:02:45.220Z"
   },
   {
    "duration": 0,
    "start_time": "2022-06-09T10:02:45.221Z"
   },
   {
    "duration": 0,
    "start_time": "2022-06-09T10:02:45.222Z"
   },
   {
    "duration": 0,
    "start_time": "2022-06-09T10:02:45.223Z"
   },
   {
    "duration": 0,
    "start_time": "2022-06-09T10:02:45.224Z"
   },
   {
    "duration": 0,
    "start_time": "2022-06-09T10:02:45.225Z"
   },
   {
    "duration": 0,
    "start_time": "2022-06-09T10:02:45.225Z"
   },
   {
    "duration": 0,
    "start_time": "2022-06-09T10:02:45.226Z"
   },
   {
    "duration": 0,
    "start_time": "2022-06-09T10:02:45.227Z"
   },
   {
    "duration": 4,
    "start_time": "2022-06-09T10:04:27.802Z"
   },
   {
    "duration": 980,
    "start_time": "2022-06-09T10:04:27.807Z"
   },
   {
    "duration": 3060,
    "start_time": "2022-06-09T10:04:28.788Z"
   },
   {
    "duration": 126,
    "start_time": "2022-06-09T10:04:31.851Z"
   },
   {
    "duration": 131,
    "start_time": "2022-06-09T10:04:31.978Z"
   },
   {
    "duration": 115,
    "start_time": "2022-06-09T10:04:32.110Z"
   },
   {
    "duration": 5,
    "start_time": "2022-06-09T10:04:32.226Z"
   },
   {
    "duration": 131,
    "start_time": "2022-06-09T10:04:32.232Z"
   },
   {
    "duration": 453,
    "start_time": "2022-06-09T10:04:32.365Z"
   },
   {
    "duration": 446,
    "start_time": "2022-06-09T10:04:32.821Z"
   },
   {
    "duration": 440,
    "start_time": "2022-06-09T10:04:33.269Z"
   },
   {
    "duration": 40,
    "start_time": "2022-06-09T10:04:33.711Z"
   },
   {
    "duration": 29,
    "start_time": "2022-06-09T10:04:33.752Z"
   },
   {
    "duration": 68,
    "start_time": "2022-06-09T10:04:33.785Z"
   },
   {
    "duration": 160,
    "start_time": "2022-06-09T10:04:33.855Z"
   },
   {
    "duration": 20,
    "start_time": "2022-06-09T10:04:34.017Z"
   },
   {
    "duration": 21,
    "start_time": "2022-06-09T10:04:34.039Z"
   },
   {
    "duration": 46,
    "start_time": "2022-06-09T10:04:34.062Z"
   },
   {
    "duration": 18,
    "start_time": "2022-06-09T10:04:34.110Z"
   },
   {
    "duration": 41,
    "start_time": "2022-06-09T10:04:34.129Z"
   },
   {
    "duration": 114,
    "start_time": "2022-06-09T10:04:34.171Z"
   },
   {
    "duration": 75,
    "start_time": "2022-06-09T10:04:34.286Z"
   },
   {
    "duration": 10,
    "start_time": "2022-06-09T10:04:34.362Z"
   },
   {
    "duration": 1765,
    "start_time": "2022-06-09T10:04:34.373Z"
   },
   {
    "duration": 41,
    "start_time": "2022-06-09T10:04:36.140Z"
   },
   {
    "duration": 71,
    "start_time": "2022-06-09T10:04:36.183Z"
   },
   {
    "duration": 205,
    "start_time": "2022-06-09T10:04:36.255Z"
   },
   {
    "duration": 259,
    "start_time": "2022-06-09T10:04:36.462Z"
   },
   {
    "duration": 27629,
    "start_time": "2022-06-09T10:04:36.722Z"
   },
   {
    "duration": 5,
    "start_time": "2022-06-09T10:05:04.353Z"
   },
   {
    "duration": 25296,
    "start_time": "2022-06-09T10:08:37.457Z"
   },
   {
    "duration": 26306,
    "start_time": "2022-06-09T10:12:13.205Z"
   },
   {
    "duration": 26397,
    "start_time": "2022-06-09T10:13:17.561Z"
   },
   {
    "duration": 2,
    "start_time": "2022-06-09T10:16:47.180Z"
   },
   {
    "duration": 34490,
    "start_time": "2022-06-09T10:17:59.354Z"
   },
   {
    "duration": 35557,
    "start_time": "2022-06-09T10:20:00.739Z"
   },
   {
    "duration": 107249,
    "start_time": "2022-06-09T10:24:10.584Z"
   },
   {
    "duration": 4,
    "start_time": "2022-06-09T10:53:46.902Z"
   },
   {
    "duration": 91,
    "start_time": "2022-06-09T11:01:56.917Z"
   },
   {
    "duration": 3,
    "start_time": "2022-06-09T11:03:09.112Z"
   },
   {
    "duration": 84429,
    "start_time": "2022-06-09T11:03:13.401Z"
   },
   {
    "duration": 1103300,
    "start_time": "2022-06-09T11:04:40.109Z"
   },
   {
    "duration": 18443,
    "start_time": "2022-06-09T11:32:14.858Z"
   },
   {
    "duration": 39376,
    "start_time": "2022-06-09T11:33:53.032Z"
   },
   {
    "duration": 3,
    "start_time": "2022-06-09T13:36:41.896Z"
   },
   {
    "duration": 1041,
    "start_time": "2022-06-09T13:36:41.901Z"
   },
   {
    "duration": 2913,
    "start_time": "2022-06-09T13:36:42.944Z"
   },
   {
    "duration": 98,
    "start_time": "2022-06-09T13:36:45.860Z"
   },
   {
    "duration": 97,
    "start_time": "2022-06-09T13:36:45.959Z"
   },
   {
    "duration": 97,
    "start_time": "2022-06-09T13:36:46.058Z"
   },
   {
    "duration": 21,
    "start_time": "2022-06-09T13:36:46.157Z"
   },
   {
    "duration": 153,
    "start_time": "2022-06-09T13:36:46.180Z"
   },
   {
    "duration": 394,
    "start_time": "2022-06-09T13:36:46.334Z"
   },
   {
    "duration": 445,
    "start_time": "2022-06-09T13:36:46.730Z"
   },
   {
    "duration": 436,
    "start_time": "2022-06-09T13:36:47.178Z"
   },
   {
    "duration": 32,
    "start_time": "2022-06-09T13:36:47.616Z"
   },
   {
    "duration": 20,
    "start_time": "2022-06-09T13:36:47.650Z"
   },
   {
    "duration": 46,
    "start_time": "2022-06-09T13:36:47.690Z"
   },
   {
    "duration": 144,
    "start_time": "2022-06-09T13:36:47.737Z"
   },
   {
    "duration": 32,
    "start_time": "2022-06-09T13:36:47.883Z"
   },
   {
    "duration": 18,
    "start_time": "2022-06-09T13:36:47.917Z"
   },
   {
    "duration": 30,
    "start_time": "2022-06-09T13:36:47.937Z"
   },
   {
    "duration": 39,
    "start_time": "2022-06-09T13:36:47.969Z"
   },
   {
    "duration": 46,
    "start_time": "2022-06-09T13:36:48.010Z"
   },
   {
    "duration": 100,
    "start_time": "2022-06-09T13:36:48.058Z"
   },
   {
    "duration": 71,
    "start_time": "2022-06-09T13:36:48.159Z"
   },
   {
    "duration": 8,
    "start_time": "2022-06-09T13:36:48.232Z"
   },
   {
    "duration": 1586,
    "start_time": "2022-06-09T13:36:48.241Z"
   },
   {
    "duration": 41,
    "start_time": "2022-06-09T13:36:49.829Z"
   },
   {
    "duration": 76,
    "start_time": "2022-06-09T13:36:49.872Z"
   },
   {
    "duration": 205,
    "start_time": "2022-06-09T13:36:49.949Z"
   },
   {
    "duration": 240,
    "start_time": "2022-06-09T13:36:50.156Z"
   },
   {
    "duration": 26674,
    "start_time": "2022-06-09T13:36:50.398Z"
   },
   {
    "duration": 97994,
    "start_time": "2022-06-09T13:37:17.075Z"
   },
   {
    "duration": 526902,
    "start_time": "2022-06-09T13:38:55.070Z"
   },
   {
    "duration": 0,
    "start_time": "2022-06-09T13:47:41.973Z"
   },
   {
    "duration": 28,
    "start_time": "2022-06-09T13:47:46.624Z"
   },
   {
    "duration": 2305,
    "start_time": "2022-06-09T13:47:54.460Z"
   },
   {
    "duration": 16,
    "start_time": "2022-06-09T13:47:58.815Z"
   },
   {
    "duration": 12,
    "start_time": "2022-06-09T13:48:12.992Z"
   },
   {
    "duration": 34,
    "start_time": "2022-06-09T13:51:39.616Z"
   },
   {
    "duration": 1007,
    "start_time": "2022-06-09T13:51:54.807Z"
   },
   {
    "duration": 750,
    "start_time": "2022-06-09T13:51:55.816Z"
   },
   {
    "duration": 106,
    "start_time": "2022-06-09T13:51:56.567Z"
   },
   {
    "duration": 105,
    "start_time": "2022-06-09T13:51:56.674Z"
   },
   {
    "duration": 110,
    "start_time": "2022-06-09T13:51:56.781Z"
   },
   {
    "duration": 13,
    "start_time": "2022-06-09T13:51:56.892Z"
   },
   {
    "duration": 149,
    "start_time": "2022-06-09T13:51:56.907Z"
   },
   {
    "duration": 438,
    "start_time": "2022-06-09T13:51:57.058Z"
   },
   {
    "duration": 419,
    "start_time": "2022-06-09T13:51:57.502Z"
   },
   {
    "duration": 400,
    "start_time": "2022-06-09T13:51:57.923Z"
   },
   {
    "duration": 32,
    "start_time": "2022-06-09T13:51:58.324Z"
   },
   {
    "duration": 24,
    "start_time": "2022-06-09T13:51:58.357Z"
   },
   {
    "duration": 45,
    "start_time": "2022-06-09T13:51:58.392Z"
   },
   {
    "duration": 155,
    "start_time": "2022-06-09T13:51:58.439Z"
   },
   {
    "duration": 20,
    "start_time": "2022-06-09T13:51:58.595Z"
   },
   {
    "duration": 16,
    "start_time": "2022-06-09T13:51:58.617Z"
   },
   {
    "duration": 34,
    "start_time": "2022-06-09T13:51:58.634Z"
   },
   {
    "duration": 38,
    "start_time": "2022-06-09T13:51:58.670Z"
   },
   {
    "duration": 39,
    "start_time": "2022-06-09T13:51:58.710Z"
   },
   {
    "duration": 99,
    "start_time": "2022-06-09T13:51:58.751Z"
   },
   {
    "duration": 67,
    "start_time": "2022-06-09T13:51:58.851Z"
   },
   {
    "duration": 8,
    "start_time": "2022-06-09T13:51:58.919Z"
   },
   {
    "duration": 2102,
    "start_time": "2022-06-09T13:51:58.929Z"
   },
   {
    "duration": 95,
    "start_time": "2022-06-09T13:52:01.032Z"
   },
   {
    "duration": 170,
    "start_time": "2022-06-09T13:52:01.129Z"
   },
   {
    "duration": 409,
    "start_time": "2022-06-09T13:52:01.307Z"
   },
   {
    "duration": 579,
    "start_time": "2022-06-09T13:52:01.717Z"
   },
   {
    "duration": 28407,
    "start_time": "2022-06-09T13:52:02.298Z"
   },
   {
    "duration": 92246,
    "start_time": "2022-06-09T13:52:30.706Z"
   },
   {
    "duration": 121,
    "start_time": "2022-06-09T13:54:02.954Z"
   },
   {
    "duration": 0,
    "start_time": "2022-06-09T13:54:03.076Z"
   },
   {
    "duration": 984,
    "start_time": "2022-06-09T13:54:10.704Z"
   },
   {
    "duration": 743,
    "start_time": "2022-06-09T13:54:11.689Z"
   },
   {
    "duration": 105,
    "start_time": "2022-06-09T13:54:12.433Z"
   },
   {
    "duration": 106,
    "start_time": "2022-06-09T13:54:12.539Z"
   },
   {
    "duration": 98,
    "start_time": "2022-06-09T13:54:12.647Z"
   },
   {
    "duration": 4,
    "start_time": "2022-06-09T13:54:12.747Z"
   },
   {
    "duration": 114,
    "start_time": "2022-06-09T13:54:12.752Z"
   },
   {
    "duration": 405,
    "start_time": "2022-06-09T13:54:12.867Z"
   },
   {
    "duration": 402,
    "start_time": "2022-06-09T13:54:13.274Z"
   },
   {
    "duration": 377,
    "start_time": "2022-06-09T13:54:13.677Z"
   },
   {
    "duration": 49,
    "start_time": "2022-06-09T13:54:14.055Z"
   },
   {
    "duration": 18,
    "start_time": "2022-06-09T13:54:14.105Z"
   },
   {
    "duration": 46,
    "start_time": "2022-06-09T13:54:14.124Z"
   },
   {
    "duration": 155,
    "start_time": "2022-06-09T13:54:14.172Z"
   },
   {
    "duration": 97,
    "start_time": "2022-06-09T13:54:14.329Z"
   },
   {
    "duration": 0,
    "start_time": "2022-06-09T13:54:14.427Z"
   },
   {
    "duration": 0,
    "start_time": "2022-06-09T13:54:14.428Z"
   },
   {
    "duration": 0,
    "start_time": "2022-06-09T13:54:14.429Z"
   },
   {
    "duration": 0,
    "start_time": "2022-06-09T13:54:14.430Z"
   },
   {
    "duration": 0,
    "start_time": "2022-06-09T13:54:14.431Z"
   },
   {
    "duration": 0,
    "start_time": "2022-06-09T13:54:14.432Z"
   },
   {
    "duration": 0,
    "start_time": "2022-06-09T13:54:14.433Z"
   },
   {
    "duration": 0,
    "start_time": "2022-06-09T13:54:14.434Z"
   },
   {
    "duration": 0,
    "start_time": "2022-06-09T13:54:14.434Z"
   },
   {
    "duration": 0,
    "start_time": "2022-06-09T13:54:14.435Z"
   },
   {
    "duration": 0,
    "start_time": "2022-06-09T13:54:14.436Z"
   },
   {
    "duration": 0,
    "start_time": "2022-06-09T13:54:14.437Z"
   },
   {
    "duration": 0,
    "start_time": "2022-06-09T13:54:14.438Z"
   },
   {
    "duration": 0,
    "start_time": "2022-06-09T13:54:14.439Z"
   },
   {
    "duration": 0,
    "start_time": "2022-06-09T13:54:14.441Z"
   },
   {
    "duration": 0,
    "start_time": "2022-06-09T13:54:14.442Z"
   },
   {
    "duration": 0,
    "start_time": "2022-06-09T13:54:14.443Z"
   },
   {
    "duration": 105,
    "start_time": "2022-06-09T13:58:06.346Z"
   },
   {
    "duration": 16,
    "start_time": "2022-06-09T13:58:11.505Z"
   },
   {
    "duration": 17,
    "start_time": "2022-06-09T13:58:18.913Z"
   },
   {
    "duration": 104,
    "start_time": "2022-06-09T13:58:27.462Z"
   },
   {
    "duration": 990,
    "start_time": "2022-06-09T13:59:52.523Z"
   },
   {
    "duration": 746,
    "start_time": "2022-06-09T13:59:53.515Z"
   },
   {
    "duration": 100,
    "start_time": "2022-06-09T13:59:54.263Z"
   },
   {
    "duration": 103,
    "start_time": "2022-06-09T13:59:54.364Z"
   },
   {
    "duration": 106,
    "start_time": "2022-06-09T13:59:54.469Z"
   },
   {
    "duration": 4,
    "start_time": "2022-06-09T13:59:54.576Z"
   },
   {
    "duration": 124,
    "start_time": "2022-06-09T13:59:54.581Z"
   },
   {
    "duration": 393,
    "start_time": "2022-06-09T13:59:54.709Z"
   },
   {
    "duration": 421,
    "start_time": "2022-06-09T13:59:55.103Z"
   },
   {
    "duration": 384,
    "start_time": "2022-06-09T13:59:55.525Z"
   },
   {
    "duration": 32,
    "start_time": "2022-06-09T13:59:55.910Z"
   },
   {
    "duration": 23,
    "start_time": "2022-06-09T13:59:55.943Z"
   },
   {
    "duration": 59,
    "start_time": "2022-06-09T13:59:55.968Z"
   },
   {
    "duration": 140,
    "start_time": "2022-06-09T13:59:56.030Z"
   },
   {
    "duration": 102,
    "start_time": "2022-06-09T13:59:56.172Z"
   },
   {
    "duration": 0,
    "start_time": "2022-06-09T13:59:56.275Z"
   },
   {
    "duration": 0,
    "start_time": "2022-06-09T13:59:56.277Z"
   },
   {
    "duration": 0,
    "start_time": "2022-06-09T13:59:56.278Z"
   },
   {
    "duration": 0,
    "start_time": "2022-06-09T13:59:56.280Z"
   },
   {
    "duration": 0,
    "start_time": "2022-06-09T13:59:56.292Z"
   },
   {
    "duration": 0,
    "start_time": "2022-06-09T13:59:56.293Z"
   },
   {
    "duration": 0,
    "start_time": "2022-06-09T13:59:56.296Z"
   },
   {
    "duration": 0,
    "start_time": "2022-06-09T13:59:56.299Z"
   },
   {
    "duration": 0,
    "start_time": "2022-06-09T13:59:56.300Z"
   },
   {
    "duration": 0,
    "start_time": "2022-06-09T13:59:56.302Z"
   },
   {
    "duration": 0,
    "start_time": "2022-06-09T13:59:56.303Z"
   },
   {
    "duration": 0,
    "start_time": "2022-06-09T13:59:56.303Z"
   },
   {
    "duration": 0,
    "start_time": "2022-06-09T13:59:56.304Z"
   },
   {
    "duration": 0,
    "start_time": "2022-06-09T13:59:56.305Z"
   },
   {
    "duration": 0,
    "start_time": "2022-06-09T13:59:56.306Z"
   },
   {
    "duration": 0,
    "start_time": "2022-06-09T13:59:56.307Z"
   },
   {
    "duration": 0,
    "start_time": "2022-06-09T13:59:56.308Z"
   },
   {
    "duration": 0,
    "start_time": "2022-06-09T13:59:56.309Z"
   },
   {
    "duration": 0,
    "start_time": "2022-06-09T13:59:56.310Z"
   },
   {
    "duration": 0,
    "start_time": "2022-06-09T13:59:56.312Z"
   },
   {
    "duration": 0,
    "start_time": "2022-06-09T13:59:56.313Z"
   },
   {
    "duration": 0,
    "start_time": "2022-06-09T13:59:56.314Z"
   },
   {
    "duration": 25,
    "start_time": "2022-06-09T14:00:03.802Z"
   },
   {
    "duration": 26,
    "start_time": "2022-06-09T14:00:59.829Z"
   },
   {
    "duration": 100,
    "start_time": "2022-06-09T14:01:02.084Z"
   },
   {
    "duration": 26,
    "start_time": "2022-06-09T14:01:03.428Z"
   },
   {
    "duration": 26,
    "start_time": "2022-06-09T14:01:08.955Z"
   },
   {
    "duration": 1054,
    "start_time": "2022-06-09T14:02:13.269Z"
   },
   {
    "duration": 760,
    "start_time": "2022-06-09T14:02:14.325Z"
   },
   {
    "duration": 116,
    "start_time": "2022-06-09T14:02:15.087Z"
   },
   {
    "duration": 99,
    "start_time": "2022-06-09T14:02:15.206Z"
   },
   {
    "duration": 98,
    "start_time": "2022-06-09T14:02:15.307Z"
   },
   {
    "duration": 4,
    "start_time": "2022-06-09T14:02:15.407Z"
   },
   {
    "duration": 113,
    "start_time": "2022-06-09T14:02:15.412Z"
   },
   {
    "duration": 388,
    "start_time": "2022-06-09T14:02:15.527Z"
   },
   {
    "duration": 777,
    "start_time": "2022-06-09T14:02:15.916Z"
   },
   {
    "duration": 889,
    "start_time": "2022-06-09T14:02:16.702Z"
   },
   {
    "duration": 37,
    "start_time": "2022-06-09T14:02:17.594Z"
   },
   {
    "duration": 79,
    "start_time": "2022-06-09T14:02:17.633Z"
   },
   {
    "duration": 92,
    "start_time": "2022-06-09T14:02:17.713Z"
   },
   {
    "duration": 147,
    "start_time": "2022-06-09T14:02:17.806Z"
   },
   {
    "duration": 94,
    "start_time": "2022-06-09T14:02:17.955Z"
   },
   {
    "duration": 0,
    "start_time": "2022-06-09T14:02:18.050Z"
   },
   {
    "duration": 0,
    "start_time": "2022-06-09T14:02:18.052Z"
   },
   {
    "duration": 0,
    "start_time": "2022-06-09T14:02:18.053Z"
   },
   {
    "duration": 0,
    "start_time": "2022-06-09T14:02:18.054Z"
   },
   {
    "duration": 0,
    "start_time": "2022-06-09T14:02:18.055Z"
   },
   {
    "duration": 0,
    "start_time": "2022-06-09T14:02:18.055Z"
   },
   {
    "duration": 0,
    "start_time": "2022-06-09T14:02:18.056Z"
   },
   {
    "duration": 0,
    "start_time": "2022-06-09T14:02:18.057Z"
   },
   {
    "duration": 0,
    "start_time": "2022-06-09T14:02:18.058Z"
   },
   {
    "duration": 0,
    "start_time": "2022-06-09T14:02:18.059Z"
   },
   {
    "duration": 0,
    "start_time": "2022-06-09T14:02:18.060Z"
   },
   {
    "duration": 0,
    "start_time": "2022-06-09T14:02:18.061Z"
   },
   {
    "duration": 1,
    "start_time": "2022-06-09T14:02:18.061Z"
   },
   {
    "duration": 0,
    "start_time": "2022-06-09T14:02:18.062Z"
   },
   {
    "duration": 0,
    "start_time": "2022-06-09T14:02:18.063Z"
   },
   {
    "duration": 0,
    "start_time": "2022-06-09T14:02:18.064Z"
   },
   {
    "duration": 0,
    "start_time": "2022-06-09T14:02:18.099Z"
   },
   {
    "duration": 0,
    "start_time": "2022-06-09T14:02:18.100Z"
   },
   {
    "duration": 112,
    "start_time": "2022-06-09T14:02:22.401Z"
   },
   {
    "duration": 1029,
    "start_time": "2022-06-09T14:03:07.477Z"
   },
   {
    "duration": 733,
    "start_time": "2022-06-09T14:03:08.508Z"
   },
   {
    "duration": 105,
    "start_time": "2022-06-09T14:03:09.242Z"
   },
   {
    "duration": 100,
    "start_time": "2022-06-09T14:03:09.348Z"
   },
   {
    "duration": 104,
    "start_time": "2022-06-09T14:03:09.450Z"
   },
   {
    "duration": 4,
    "start_time": "2022-06-09T14:03:09.555Z"
   },
   {
    "duration": 112,
    "start_time": "2022-06-09T14:03:09.560Z"
   },
   {
    "duration": 388,
    "start_time": "2022-06-09T14:03:09.674Z"
   },
   {
    "duration": 448,
    "start_time": "2022-06-09T14:03:10.063Z"
   },
   {
    "duration": 526,
    "start_time": "2022-06-09T14:03:10.513Z"
   },
   {
    "duration": 85,
    "start_time": "2022-06-09T14:03:11.040Z"
   },
   {
    "duration": 75,
    "start_time": "2022-06-09T14:03:11.126Z"
   },
   {
    "duration": 94,
    "start_time": "2022-06-09T14:03:11.209Z"
   },
   {
    "duration": 315,
    "start_time": "2022-06-09T14:03:11.306Z"
   },
   {
    "duration": 211,
    "start_time": "2022-06-09T14:03:11.623Z"
   },
   {
    "duration": 0,
    "start_time": "2022-06-09T14:03:11.836Z"
   },
   {
    "duration": 0,
    "start_time": "2022-06-09T14:03:11.896Z"
   },
   {
    "duration": 0,
    "start_time": "2022-06-09T14:03:11.897Z"
   },
   {
    "duration": 0,
    "start_time": "2022-06-09T14:03:11.897Z"
   },
   {
    "duration": 0,
    "start_time": "2022-06-09T14:03:11.898Z"
   },
   {
    "duration": 0,
    "start_time": "2022-06-09T14:03:11.899Z"
   },
   {
    "duration": 0,
    "start_time": "2022-06-09T14:03:11.899Z"
   },
   {
    "duration": 0,
    "start_time": "2022-06-09T14:03:11.900Z"
   },
   {
    "duration": 0,
    "start_time": "2022-06-09T14:03:11.901Z"
   },
   {
    "duration": 0,
    "start_time": "2022-06-09T14:03:11.902Z"
   },
   {
    "duration": 0,
    "start_time": "2022-06-09T14:03:11.902Z"
   },
   {
    "duration": 0,
    "start_time": "2022-06-09T14:03:11.903Z"
   },
   {
    "duration": 0,
    "start_time": "2022-06-09T14:03:11.904Z"
   },
   {
    "duration": 0,
    "start_time": "2022-06-09T14:03:11.905Z"
   },
   {
    "duration": 0,
    "start_time": "2022-06-09T14:03:11.907Z"
   },
   {
    "duration": 0,
    "start_time": "2022-06-09T14:03:11.909Z"
   },
   {
    "duration": 0,
    "start_time": "2022-06-09T14:03:11.910Z"
   },
   {
    "duration": 0,
    "start_time": "2022-06-09T14:03:11.911Z"
   },
   {
    "duration": 17,
    "start_time": "2022-06-09T14:03:18.157Z"
   },
   {
    "duration": 17,
    "start_time": "2022-06-09T14:03:46.122Z"
   },
   {
    "duration": 1056,
    "start_time": "2022-06-09T14:13:06.310Z"
   },
   {
    "duration": 768,
    "start_time": "2022-06-09T14:13:07.368Z"
   },
   {
    "duration": 118,
    "start_time": "2022-06-09T14:13:08.138Z"
   },
   {
    "duration": 103,
    "start_time": "2022-06-09T14:13:08.258Z"
   },
   {
    "duration": 103,
    "start_time": "2022-06-09T14:13:08.363Z"
   },
   {
    "duration": 3,
    "start_time": "2022-06-09T14:13:08.468Z"
   },
   {
    "duration": 114,
    "start_time": "2022-06-09T14:13:08.473Z"
   },
   {
    "duration": 402,
    "start_time": "2022-06-09T14:13:08.588Z"
   },
   {
    "duration": 413,
    "start_time": "2022-06-09T14:13:08.993Z"
   },
   {
    "duration": 394,
    "start_time": "2022-06-09T14:13:09.408Z"
   },
   {
    "duration": 34,
    "start_time": "2022-06-09T14:13:09.804Z"
   },
   {
    "duration": 19,
    "start_time": "2022-06-09T14:13:09.840Z"
   },
   {
    "duration": 56,
    "start_time": "2022-06-09T14:13:09.860Z"
   },
   {
    "duration": 145,
    "start_time": "2022-06-09T14:13:09.920Z"
   },
   {
    "duration": 43,
    "start_time": "2022-06-09T14:13:10.067Z"
   },
   {
    "duration": 28,
    "start_time": "2022-06-09T14:13:10.112Z"
   },
   {
    "duration": 125,
    "start_time": "2022-06-09T14:13:10.141Z"
   },
   {
    "duration": 2,
    "start_time": "2022-06-09T14:13:10.267Z"
   },
   {
    "duration": 22,
    "start_time": "2022-06-09T14:13:10.271Z"
   },
   {
    "duration": 6,
    "start_time": "2022-06-09T14:13:10.294Z"
   },
   {
    "duration": 22,
    "start_time": "2022-06-09T14:13:10.303Z"
   },
   {
    "duration": 50,
    "start_time": "2022-06-09T14:13:10.326Z"
   },
   {
    "duration": 93,
    "start_time": "2022-06-09T14:13:10.378Z"
   },
   {
    "duration": 66,
    "start_time": "2022-06-09T14:13:10.472Z"
   },
   {
    "duration": 9,
    "start_time": "2022-06-09T14:13:10.539Z"
   },
   {
    "duration": 1582,
    "start_time": "2022-06-09T14:13:10.549Z"
   },
   {
    "duration": 41,
    "start_time": "2022-06-09T14:13:12.133Z"
   },
   {
    "duration": 76,
    "start_time": "2022-06-09T14:13:12.176Z"
   },
   {
    "duration": 195,
    "start_time": "2022-06-09T14:13:12.254Z"
   },
   {
    "duration": 226,
    "start_time": "2022-06-09T14:13:12.451Z"
   },
   {
    "duration": 26453,
    "start_time": "2022-06-09T14:13:12.679Z"
   },
   {
    "duration": 93623,
    "start_time": "2022-06-09T14:13:39.134Z"
   },
   {
    "duration": 127,
    "start_time": "2022-06-09T14:15:12.759Z"
   },
   {
    "duration": 0,
    "start_time": "2022-06-09T14:15:12.887Z"
   },
   {
    "duration": 8,
    "start_time": "2022-06-09T14:26:19.985Z"
   },
   {
    "duration": 8,
    "start_time": "2022-06-09T14:26:32.628Z"
   },
   {
    "duration": 8,
    "start_time": "2022-06-09T14:27:44.713Z"
   },
   {
    "duration": 4,
    "start_time": "2022-06-09T14:27:54.111Z"
   },
   {
    "duration": 3,
    "start_time": "2022-06-09T14:39:15.981Z"
   },
   {
    "duration": 9,
    "start_time": "2022-06-09T14:39:26.866Z"
   },
   {
    "duration": 7,
    "start_time": "2022-06-09T14:39:39.406Z"
   },
   {
    "duration": 133696,
    "start_time": "2022-06-09T14:44:45.407Z"
   },
   {
    "duration": 122101,
    "start_time": "2022-06-09T14:48:02.911Z"
   },
   {
    "duration": 118098,
    "start_time": "2022-06-09T14:50:28.918Z"
   },
   {
    "duration": 81067,
    "start_time": "2022-06-09T14:53:47.051Z"
   },
   {
    "duration": 49922,
    "start_time": "2022-06-09T14:55:11.301Z"
   },
   {
    "duration": 28799,
    "start_time": "2022-06-09T14:56:09.905Z"
   },
   {
    "duration": 139340,
    "start_time": "2022-06-09T14:57:44.563Z"
   },
   {
    "duration": 23,
    "start_time": "2022-06-09T15:00:49.388Z"
   },
   {
    "duration": 15,
    "start_time": "2022-06-09T15:03:04.921Z"
   },
   {
    "duration": 406773,
    "start_time": "2022-06-09T15:03:18.841Z"
   },
   {
    "duration": 6259,
    "start_time": "2022-06-09T15:10:14.355Z"
   },
   {
    "duration": 6530,
    "start_time": "2022-06-09T15:10:26.785Z"
   },
   {
    "duration": 6092,
    "start_time": "2022-06-09T15:10:44.000Z"
   },
   {
    "duration": 13,
    "start_time": "2022-06-09T15:11:47.637Z"
   },
   {
    "duration": 12,
    "start_time": "2022-06-09T15:12:18.052Z"
   },
   {
    "duration": 12,
    "start_time": "2022-06-09T15:15:32.825Z"
   },
   {
    "duration": 1007,
    "start_time": "2022-06-09T15:15:56.318Z"
   },
   {
    "duration": 734,
    "start_time": "2022-06-09T15:15:57.327Z"
   },
   {
    "duration": 98,
    "start_time": "2022-06-09T15:15:58.063Z"
   },
   {
    "duration": 101,
    "start_time": "2022-06-09T15:15:58.163Z"
   },
   {
    "duration": 99,
    "start_time": "2022-06-09T15:15:58.266Z"
   },
   {
    "duration": 3,
    "start_time": "2022-06-09T15:15:58.367Z"
   },
   {
    "duration": 105,
    "start_time": "2022-06-09T15:15:58.371Z"
   },
   {
    "duration": 385,
    "start_time": "2022-06-09T15:15:58.477Z"
   },
   {
    "duration": 728,
    "start_time": "2022-06-09T15:15:58.863Z"
   },
   {
    "duration": 740,
    "start_time": "2022-06-09T15:15:59.593Z"
   },
   {
    "duration": 89,
    "start_time": "2022-06-09T15:16:00.334Z"
   },
   {
    "duration": 70,
    "start_time": "2022-06-09T15:16:00.424Z"
   },
   {
    "duration": 46,
    "start_time": "2022-06-09T15:16:00.495Z"
   },
   {
    "duration": 152,
    "start_time": "2022-06-09T15:16:00.543Z"
   },
   {
    "duration": 106,
    "start_time": "2022-06-09T15:16:00.697Z"
   },
   {
    "duration": 2,
    "start_time": "2022-06-09T15:16:00.805Z"
   },
   {
    "duration": 28,
    "start_time": "2022-06-09T15:16:00.808Z"
   },
   {
    "duration": 3,
    "start_time": "2022-06-09T15:16:00.838Z"
   },
   {
    "duration": 8,
    "start_time": "2022-06-09T15:16:00.843Z"
   },
   {
    "duration": 45,
    "start_time": "2022-06-09T15:16:00.853Z"
   },
   {
    "duration": 96,
    "start_time": "2022-06-09T15:16:00.900Z"
   },
   {
    "duration": 60,
    "start_time": "2022-06-09T15:16:00.997Z"
   },
   {
    "duration": 8,
    "start_time": "2022-06-09T15:16:01.058Z"
   },
   {
    "duration": 1550,
    "start_time": "2022-06-09T15:16:01.067Z"
   },
   {
    "duration": 45,
    "start_time": "2022-06-09T15:16:02.619Z"
   },
   {
    "duration": 75,
    "start_time": "2022-06-09T15:16:02.666Z"
   },
   {
    "duration": 209,
    "start_time": "2022-06-09T15:16:02.742Z"
   },
   {
    "duration": 219,
    "start_time": "2022-06-09T15:16:02.954Z"
   },
   {
    "duration": 4,
    "start_time": "2022-06-09T15:16:03.175Z"
   },
   {
    "duration": 0,
    "start_time": "2022-06-09T15:16:03.181Z"
   },
   {
    "duration": 0,
    "start_time": "2022-06-09T15:16:03.191Z"
   },
   {
    "duration": 0,
    "start_time": "2022-06-09T15:16:03.192Z"
   },
   {
    "duration": 0,
    "start_time": "2022-06-09T15:16:03.193Z"
   },
   {
    "duration": 0,
    "start_time": "2022-06-09T15:16:03.193Z"
   },
   {
    "duration": 54704,
    "start_time": "2022-06-09T15:16:11.403Z"
   },
   {
    "duration": 4,
    "start_time": "2022-06-09T15:22:00.848Z"
   },
   {
    "duration": 30113,
    "start_time": "2022-06-09T15:22:06.456Z"
   },
   {
    "duration": 29445,
    "start_time": "2022-06-09T15:22:53.639Z"
   },
   {
    "duration": 29906,
    "start_time": "2022-06-09T15:23:57.069Z"
   },
   {
    "duration": 30734,
    "start_time": "2022-06-09T15:35:02.802Z"
   },
   {
    "duration": 5,
    "start_time": "2022-06-09T15:35:59.110Z"
   },
   {
    "duration": 29395,
    "start_time": "2022-06-09T15:36:10.122Z"
   },
   {
    "duration": 29837,
    "start_time": "2022-06-09T15:36:58.600Z"
   },
   {
    "duration": 8,
    "start_time": "2022-06-09T15:42:51.862Z"
   },
   {
    "duration": 33396,
    "start_time": "2022-06-09T15:43:46.294Z"
   },
   {
    "duration": 37,
    "start_time": "2022-06-09T15:44:57.329Z"
   },
   {
    "duration": 26,
    "start_time": "2022-06-09T15:45:08.317Z"
   },
   {
    "duration": 138375,
    "start_time": "2022-06-09T15:45:49.505Z"
   },
   {
    "duration": 3,
    "start_time": "2022-06-09T15:49:27.905Z"
   },
   {
    "duration": 8,
    "start_time": "2022-06-09T16:03:55.405Z"
   },
   {
    "duration": 65830,
    "start_time": "2022-06-09T16:04:19.126Z"
   },
   {
    "duration": 11,
    "start_time": "2022-06-09T16:07:10.168Z"
   },
   {
    "duration": 61872,
    "start_time": "2022-06-09T16:31:40.032Z"
   },
   {
    "duration": 11,
    "start_time": "2022-06-09T16:33:29.808Z"
   },
   {
    "duration": 61581,
    "start_time": "2022-06-09T16:43:24.712Z"
   },
   {
    "duration": 62617,
    "start_time": "2022-06-09T16:46:07.445Z"
   },
   {
    "duration": 0,
    "start_time": "2022-06-09T16:47:10.064Z"
   },
   {
    "duration": 61769,
    "start_time": "2022-06-09T16:47:36.958Z"
   },
   {
    "duration": 76437,
    "start_time": "2022-06-09T16:49:33.156Z"
   },
   {
    "duration": 25672,
    "start_time": "2022-06-09T16:52:29.640Z"
   },
   {
    "duration": 11,
    "start_time": "2022-06-09T16:55:31.211Z"
   },
   {
    "duration": 58217,
    "start_time": "2022-06-09T16:55:38.609Z"
   },
   {
    "duration": 4,
    "start_time": "2022-06-09T16:56:39.631Z"
   },
   {
    "duration": 6,
    "start_time": "2022-06-09T16:57:03.555Z"
   },
   {
    "duration": 26110,
    "start_time": "2022-06-09T16:58:00.141Z"
   },
   {
    "duration": 42,
    "start_time": "2022-06-09T16:59:23.977Z"
   },
   {
    "duration": 49,
    "start_time": "2022-06-09T16:59:30.539Z"
   },
   {
    "duration": 63051,
    "start_time": "2022-06-09T17:01:27.868Z"
   },
   {
    "duration": 9,
    "start_time": "2022-06-09T17:03:12.755Z"
   },
   {
    "duration": 125302,
    "start_time": "2022-06-09T17:05:31.522Z"
   },
   {
    "duration": 96755,
    "start_time": "2022-06-09T17:07:46.203Z"
   },
   {
    "duration": 6,
    "start_time": "2022-06-09T17:09:32.434Z"
   },
   {
    "duration": 66,
    "start_time": "2022-06-09T17:10:29.306Z"
   },
   {
    "duration": 70,
    "start_time": "2022-06-09T17:11:08.369Z"
   },
   {
    "duration": 7556,
    "start_time": "2022-06-09T17:16:04.853Z"
   },
   {
    "duration": 7857,
    "start_time": "2022-06-09T17:17:43.556Z"
   },
   {
    "duration": 45802,
    "start_time": "2022-06-09T17:17:59.807Z"
   },
   {
    "duration": 40304,
    "start_time": "2022-06-09T17:25:36.502Z"
   },
   {
    "duration": 41402,
    "start_time": "2022-06-09T17:30:14.806Z"
   },
   {
    "duration": 53514,
    "start_time": "2022-06-09T17:33:50.102Z"
   },
   {
    "duration": 35749,
    "start_time": "2022-06-09T17:37:01.362Z"
   },
   {
    "duration": 56585,
    "start_time": "2022-06-09T17:39:58.810Z"
   },
   {
    "duration": 126678,
    "start_time": "2022-06-09T17:41:22.545Z"
   },
   {
    "duration": 2,
    "start_time": "2022-06-09T17:47:40.530Z"
   },
   {
    "duration": 1006,
    "start_time": "2022-06-09T17:48:40.524Z"
   },
   {
    "duration": 793,
    "start_time": "2022-06-09T17:48:41.532Z"
   },
   {
    "duration": 115,
    "start_time": "2022-06-09T17:48:42.326Z"
   },
   {
    "duration": 103,
    "start_time": "2022-06-09T17:48:42.443Z"
   },
   {
    "duration": 109,
    "start_time": "2022-06-09T17:48:42.548Z"
   },
   {
    "duration": 4,
    "start_time": "2022-06-09T17:48:42.658Z"
   },
   {
    "duration": 123,
    "start_time": "2022-06-09T17:48:42.663Z"
   },
   {
    "duration": 419,
    "start_time": "2022-06-09T17:48:42.792Z"
   },
   {
    "duration": 439,
    "start_time": "2022-06-09T17:48:43.213Z"
   },
   {
    "duration": 393,
    "start_time": "2022-06-09T17:48:43.654Z"
   },
   {
    "duration": 50,
    "start_time": "2022-06-09T17:48:44.049Z"
   },
   {
    "duration": 24,
    "start_time": "2022-06-09T17:48:44.102Z"
   },
   {
    "duration": 46,
    "start_time": "2022-06-09T17:48:44.127Z"
   },
   {
    "duration": 167,
    "start_time": "2022-06-09T17:48:44.175Z"
   },
   {
    "duration": 115,
    "start_time": "2022-06-09T17:48:44.344Z"
   },
   {
    "duration": 2,
    "start_time": "2022-06-09T17:48:44.461Z"
   },
   {
    "duration": 38,
    "start_time": "2022-06-09T17:48:44.464Z"
   },
   {
    "duration": 3,
    "start_time": "2022-06-09T17:48:44.503Z"
   },
   {
    "duration": 9,
    "start_time": "2022-06-09T17:48:44.507Z"
   },
   {
    "duration": 43,
    "start_time": "2022-06-09T17:48:44.517Z"
   },
   {
    "duration": 94,
    "start_time": "2022-06-09T17:48:44.561Z"
   },
   {
    "duration": 72,
    "start_time": "2022-06-09T17:48:44.657Z"
   },
   {
    "duration": 8,
    "start_time": "2022-06-09T17:48:44.730Z"
   },
   {
    "duration": 1673,
    "start_time": "2022-06-09T17:48:44.739Z"
   },
   {
    "duration": 42,
    "start_time": "2022-06-09T17:48:46.413Z"
   },
   {
    "duration": 70,
    "start_time": "2022-06-09T17:48:46.457Z"
   },
   {
    "duration": 200,
    "start_time": "2022-06-09T17:48:46.529Z"
   },
   {
    "duration": 249,
    "start_time": "2022-06-09T17:48:46.732Z"
   },
   {
    "duration": 57441,
    "start_time": "2022-06-09T17:48:46.983Z"
   },
   {
    "duration": 7,
    "start_time": "2022-06-09T17:49:44.425Z"
   },
   {
    "duration": 91122,
    "start_time": "2022-06-09T17:49:44.434Z"
   },
   {
    "duration": 69,
    "start_time": "2022-06-09T17:51:15.558Z"
   },
   {
    "duration": 5,
    "start_time": "2022-06-09T17:51:15.629Z"
   },
   {
    "duration": 41675,
    "start_time": "2022-06-09T17:51:15.636Z"
   },
   {
    "duration": 2,
    "start_time": "2022-06-09T17:51:57.313Z"
   },
   {
    "duration": 1111,
    "start_time": "2022-06-11T05:52:32.839Z"
   },
   {
    "duration": 1053,
    "start_time": "2022-06-11T05:52:34.280Z"
   },
   {
    "duration": 117,
    "start_time": "2022-06-11T05:52:38.099Z"
   },
   {
    "duration": 117,
    "start_time": "2022-06-11T05:52:41.849Z"
   },
   {
    "duration": 118,
    "start_time": "2022-06-11T05:52:42.959Z"
   },
   {
    "duration": 6,
    "start_time": "2022-06-11T05:52:55.439Z"
   },
   {
    "duration": 468,
    "start_time": "2022-06-11T05:53:24.318Z"
   },
   {
    "duration": 420,
    "start_time": "2022-06-11T05:53:24.988Z"
   },
   {
    "duration": 26,
    "start_time": "2022-06-11T05:54:31.010Z"
   },
   {
    "duration": 33,
    "start_time": "2022-06-11T05:56:14.385Z"
   },
   {
    "duration": 8,
    "start_time": "2022-06-11T05:57:41.461Z"
   },
   {
    "duration": 53,
    "start_time": "2022-06-11T05:58:50.286Z"
   },
   {
    "duration": 184,
    "start_time": "2022-06-11T05:58:51.199Z"
   },
   {
    "duration": 107,
    "start_time": "2022-06-11T06:01:23.455Z"
   },
   {
    "duration": 52,
    "start_time": "2022-06-11T06:06:23.714Z"
   },
   {
    "duration": 115,
    "start_time": "2022-06-11T06:06:26.483Z"
   },
   {
    "duration": 60,
    "start_time": "2022-06-11T06:06:55.765Z"
   },
   {
    "duration": 1868,
    "start_time": "2022-06-11T06:10:36.093Z"
   },
   {
    "duration": 1353,
    "start_time": "2022-06-11T06:11:29.915Z"
   },
   {
    "duration": 3,
    "start_time": "2022-06-11T06:11:48.504Z"
   },
   {
    "duration": 713,
    "start_time": "2022-06-11T06:11:48.509Z"
   },
   {
    "duration": 134,
    "start_time": "2022-06-11T06:11:49.223Z"
   },
   {
    "duration": 125,
    "start_time": "2022-06-11T06:11:49.358Z"
   },
   {
    "duration": 146,
    "start_time": "2022-06-11T06:11:49.486Z"
   },
   {
    "duration": 3,
    "start_time": "2022-06-11T06:11:49.634Z"
   },
   {
    "duration": 143,
    "start_time": "2022-06-11T06:11:49.639Z"
   },
   {
    "duration": 423,
    "start_time": "2022-06-11T06:11:49.784Z"
   },
   {
    "duration": 437,
    "start_time": "2022-06-11T06:11:50.209Z"
   },
   {
    "duration": 478,
    "start_time": "2022-06-11T06:11:50.647Z"
   },
   {
    "duration": 40,
    "start_time": "2022-06-11T06:11:51.127Z"
   },
   {
    "duration": 26,
    "start_time": "2022-06-11T06:11:51.168Z"
   },
   {
    "duration": 87,
    "start_time": "2022-06-11T06:11:51.196Z"
   },
   {
    "duration": 184,
    "start_time": "2022-06-11T06:11:51.287Z"
   },
   {
    "duration": 133,
    "start_time": "2022-06-11T06:11:51.472Z"
   },
   {
    "duration": 2,
    "start_time": "2022-06-11T06:11:51.607Z"
   },
   {
    "duration": 32,
    "start_time": "2022-06-11T06:11:51.610Z"
   },
   {
    "duration": 6,
    "start_time": "2022-06-11T06:11:51.643Z"
   },
   {
    "duration": 6,
    "start_time": "2022-06-11T06:11:51.650Z"
   },
   {
    "duration": 70,
    "start_time": "2022-06-11T06:11:51.658Z"
   },
   {
    "duration": 134,
    "start_time": "2022-06-11T06:11:51.730Z"
   },
   {
    "duration": 69,
    "start_time": "2022-06-11T06:11:51.866Z"
   },
   {
    "duration": 9,
    "start_time": "2022-06-11T06:11:51.937Z"
   },
   {
    "duration": 1962,
    "start_time": "2022-06-11T06:11:51.947Z"
   },
   {
    "duration": 50,
    "start_time": "2022-06-11T06:11:53.910Z"
   },
   {
    "duration": 68,
    "start_time": "2022-06-11T06:11:53.962Z"
   },
   {
    "duration": 207,
    "start_time": "2022-06-11T06:12:30.696Z"
   },
   {
    "duration": 15,
    "start_time": "2022-06-11T06:12:38.323Z"
   },
   {
    "duration": 27,
    "start_time": "2022-06-11T06:13:20.853Z"
   },
   {
    "duration": 255,
    "start_time": "2022-06-11T06:16:10.063Z"
   },
   {
    "duration": 64715,
    "start_time": "2022-06-11T06:16:49.966Z"
   },
   {
    "duration": 32523,
    "start_time": "2022-06-11T06:23:33.455Z"
   },
   {
    "duration": 639,
    "start_time": "2022-06-11T06:28:23.231Z"
   },
   {
    "duration": 118009,
    "start_time": "2022-06-11T06:30:57.588Z"
   },
   {
    "duration": 99,
    "start_time": "2022-06-11T06:33:54.710Z"
   },
   {
    "duration": 33016,
    "start_time": "2022-06-11T06:42:34.241Z"
   },
   {
    "duration": 38883,
    "start_time": "2022-06-11T06:44:43.382Z"
   },
   {
    "duration": 75,
    "start_time": "2022-06-11T06:45:39.602Z"
   },
   {
    "duration": 31196,
    "start_time": "2022-06-11T06:46:14.003Z"
   },
   {
    "duration": 46493,
    "start_time": "2022-06-11T06:47:33.513Z"
   },
   {
    "duration": 29,
    "start_time": "2022-06-11T06:48:34.504Z"
   },
   {
    "duration": 28413,
    "start_time": "2022-06-11T06:48:37.953Z"
   },
   {
    "duration": 78232,
    "start_time": "2022-06-11T06:51:06.187Z"
   },
   {
    "duration": 35,
    "start_time": "2022-06-11T06:52:24.421Z"
   },
   {
    "duration": 196876,
    "start_time": "2022-06-11T06:54:17.483Z"
   },
   {
    "duration": 67,
    "start_time": "2022-06-11T06:59:24.943Z"
   },
   {
    "duration": 3,
    "start_time": "2022-06-11T06:59:55.812Z"
   },
   {
    "duration": 170259,
    "start_time": "2022-06-11T07:00:26.192Z"
   },
   {
    "duration": 70680,
    "start_time": "2022-06-11T07:04:17.885Z"
   },
   {
    "duration": 23610,
    "start_time": "2022-06-11T07:06:03.262Z"
   },
   {
    "duration": 183793,
    "start_time": "2022-06-11T07:06:29.461Z"
   },
   {
    "duration": 258752,
    "start_time": "2022-06-11T07:10:55.124Z"
   },
   {
    "duration": 1159,
    "start_time": "2022-06-11T10:54:37.257Z"
   },
   {
    "duration": 2730,
    "start_time": "2022-06-11T10:54:38.418Z"
   },
   {
    "duration": 126,
    "start_time": "2022-06-11T10:54:41.149Z"
   },
   {
    "duration": 123,
    "start_time": "2022-06-11T10:54:41.277Z"
   },
   {
    "duration": 130,
    "start_time": "2022-06-11T10:54:41.401Z"
   },
   {
    "duration": 4,
    "start_time": "2022-06-11T10:54:41.532Z"
   },
   {
    "duration": 138,
    "start_time": "2022-06-11T10:54:41.537Z"
   },
   {
    "duration": 491,
    "start_time": "2022-06-11T10:54:41.677Z"
   },
   {
    "duration": 487,
    "start_time": "2022-06-11T10:54:42.170Z"
   },
   {
    "duration": 469,
    "start_time": "2022-06-11T10:54:42.660Z"
   },
   {
    "duration": 42,
    "start_time": "2022-06-11T10:54:43.131Z"
   },
   {
    "duration": 29,
    "start_time": "2022-06-11T10:54:43.175Z"
   },
   {
    "duration": 64,
    "start_time": "2022-06-11T10:54:43.205Z"
   },
   {
    "duration": 181,
    "start_time": "2022-06-11T10:54:43.271Z"
   },
   {
    "duration": 128,
    "start_time": "2022-06-11T10:54:43.458Z"
   },
   {
    "duration": 2,
    "start_time": "2022-06-11T10:54:43.588Z"
   },
   {
    "duration": 23,
    "start_time": "2022-06-11T10:54:43.592Z"
   },
   {
    "duration": 2,
    "start_time": "2022-06-11T10:54:43.617Z"
   },
   {
    "duration": 5,
    "start_time": "2022-06-11T10:54:43.621Z"
   },
   {
    "duration": 79,
    "start_time": "2022-06-11T10:54:43.628Z"
   },
   {
    "duration": 133,
    "start_time": "2022-06-11T10:54:43.709Z"
   },
   {
    "duration": 68,
    "start_time": "2022-06-11T10:54:43.844Z"
   },
   {
    "duration": 10,
    "start_time": "2022-06-11T10:54:43.913Z"
   },
   {
    "duration": 1866,
    "start_time": "2022-06-11T10:54:43.924Z"
   },
   {
    "duration": 45,
    "start_time": "2022-06-11T10:54:45.792Z"
   },
   {
    "duration": 77,
    "start_time": "2022-06-11T10:54:45.839Z"
   },
   {
    "duration": 215,
    "start_time": "2022-06-11T10:54:45.917Z"
   },
   {
    "duration": 270,
    "start_time": "2022-06-11T10:54:46.135Z"
   },
   {
    "duration": 110,
    "start_time": "2022-06-11T10:54:46.407Z"
   },
   {
    "duration": 0,
    "start_time": "2022-06-11T10:54:46.519Z"
   },
   {
    "duration": 0,
    "start_time": "2022-06-11T10:54:46.521Z"
   },
   {
    "duration": 0,
    "start_time": "2022-06-11T10:54:46.522Z"
   },
   {
    "duration": 0,
    "start_time": "2022-06-11T10:54:46.523Z"
   },
   {
    "duration": 0,
    "start_time": "2022-06-11T10:54:46.525Z"
   },
   {
    "duration": 0,
    "start_time": "2022-06-11T10:54:46.526Z"
   },
   {
    "duration": 0,
    "start_time": "2022-06-11T10:54:46.527Z"
   },
   {
    "duration": 1163,
    "start_time": "2022-06-11T11:06:01.290Z"
   },
   {
    "duration": 1805,
    "start_time": "2022-06-11T11:06:02.455Z"
   },
   {
    "duration": 175,
    "start_time": "2022-06-11T11:06:04.262Z"
   },
   {
    "duration": 138,
    "start_time": "2022-06-11T11:06:04.440Z"
   },
   {
    "duration": 136,
    "start_time": "2022-06-11T11:06:04.580Z"
   },
   {
    "duration": 26,
    "start_time": "2022-06-11T11:06:04.718Z"
   },
   {
    "duration": 14,
    "start_time": "2022-06-11T11:06:04.745Z"
   },
   {
    "duration": 32,
    "start_time": "2022-06-11T11:06:04.761Z"
   },
   {
    "duration": 129,
    "start_time": "2022-06-11T11:06:04.795Z"
   },
   {
    "duration": 0,
    "start_time": "2022-06-11T11:06:04.927Z"
   },
   {
    "duration": 0,
    "start_time": "2022-06-11T11:06:04.928Z"
   },
   {
    "duration": 0,
    "start_time": "2022-06-11T11:06:04.929Z"
   },
   {
    "duration": 0,
    "start_time": "2022-06-11T11:06:04.930Z"
   },
   {
    "duration": 0,
    "start_time": "2022-06-11T11:06:04.931Z"
   },
   {
    "duration": 0,
    "start_time": "2022-06-11T11:06:04.932Z"
   },
   {
    "duration": 0,
    "start_time": "2022-06-11T11:06:04.933Z"
   },
   {
    "duration": 0,
    "start_time": "2022-06-11T11:06:04.935Z"
   },
   {
    "duration": 0,
    "start_time": "2022-06-11T11:06:04.936Z"
   },
   {
    "duration": 0,
    "start_time": "2022-06-11T11:06:04.937Z"
   },
   {
    "duration": 0,
    "start_time": "2022-06-11T11:06:04.938Z"
   },
   {
    "duration": 0,
    "start_time": "2022-06-11T11:06:04.939Z"
   },
   {
    "duration": 0,
    "start_time": "2022-06-11T11:06:04.940Z"
   },
   {
    "duration": 0,
    "start_time": "2022-06-11T11:06:04.958Z"
   },
   {
    "duration": 0,
    "start_time": "2022-06-11T11:06:04.959Z"
   },
   {
    "duration": 0,
    "start_time": "2022-06-11T11:06:04.960Z"
   },
   {
    "duration": 0,
    "start_time": "2022-06-11T11:06:04.961Z"
   },
   {
    "duration": 0,
    "start_time": "2022-06-11T11:06:04.962Z"
   },
   {
    "duration": 0,
    "start_time": "2022-06-11T11:06:04.963Z"
   },
   {
    "duration": 0,
    "start_time": "2022-06-11T11:06:04.965Z"
   },
   {
    "duration": 0,
    "start_time": "2022-06-11T11:06:04.965Z"
   },
   {
    "duration": 0,
    "start_time": "2022-06-11T11:06:04.967Z"
   },
   {
    "duration": 0,
    "start_time": "2022-06-11T11:06:04.967Z"
   },
   {
    "duration": 0,
    "start_time": "2022-06-11T11:06:04.969Z"
   },
   {
    "duration": 0,
    "start_time": "2022-06-11T11:06:04.970Z"
   },
   {
    "duration": 0,
    "start_time": "2022-06-11T11:06:04.971Z"
   },
   {
    "duration": 0,
    "start_time": "2022-06-11T11:06:04.972Z"
   },
   {
    "duration": 0,
    "start_time": "2022-06-11T11:06:04.973Z"
   },
   {
    "duration": 0,
    "start_time": "2022-06-11T11:06:04.974Z"
   },
   {
    "duration": 0,
    "start_time": "2022-06-11T11:06:04.975Z"
   },
   {
    "duration": 1160,
    "start_time": "2022-06-11T11:06:37.392Z"
   },
   {
    "duration": 904,
    "start_time": "2022-06-11T11:06:38.556Z"
   },
   {
    "duration": 137,
    "start_time": "2022-06-11T11:06:39.462Z"
   },
   {
    "duration": 124,
    "start_time": "2022-06-11T11:06:39.601Z"
   },
   {
    "duration": 134,
    "start_time": "2022-06-11T11:06:39.727Z"
   },
   {
    "duration": 11,
    "start_time": "2022-06-11T11:06:39.863Z"
   },
   {
    "duration": 6,
    "start_time": "2022-06-11T11:06:39.875Z"
   },
   {
    "duration": 16,
    "start_time": "2022-06-11T11:06:39.883Z"
   },
   {
    "duration": 126,
    "start_time": "2022-06-11T11:06:39.903Z"
   },
   {
    "duration": 0,
    "start_time": "2022-06-11T11:06:40.031Z"
   },
   {
    "duration": 0,
    "start_time": "2022-06-11T11:06:40.032Z"
   },
   {
    "duration": 0,
    "start_time": "2022-06-11T11:06:40.033Z"
   },
   {
    "duration": 0,
    "start_time": "2022-06-11T11:06:40.034Z"
   },
   {
    "duration": 0,
    "start_time": "2022-06-11T11:06:40.036Z"
   },
   {
    "duration": 0,
    "start_time": "2022-06-11T11:06:40.037Z"
   },
   {
    "duration": 0,
    "start_time": "2022-06-11T11:06:40.038Z"
   },
   {
    "duration": 0,
    "start_time": "2022-06-11T11:06:40.039Z"
   },
   {
    "duration": 0,
    "start_time": "2022-06-11T11:06:40.039Z"
   },
   {
    "duration": 0,
    "start_time": "2022-06-11T11:06:40.041Z"
   },
   {
    "duration": 0,
    "start_time": "2022-06-11T11:06:40.058Z"
   },
   {
    "duration": 0,
    "start_time": "2022-06-11T11:06:40.059Z"
   },
   {
    "duration": 0,
    "start_time": "2022-06-11T11:06:40.060Z"
   },
   {
    "duration": 0,
    "start_time": "2022-06-11T11:06:40.061Z"
   },
   {
    "duration": 0,
    "start_time": "2022-06-11T11:06:40.062Z"
   },
   {
    "duration": 0,
    "start_time": "2022-06-11T11:06:40.063Z"
   },
   {
    "duration": 0,
    "start_time": "2022-06-11T11:06:40.065Z"
   },
   {
    "duration": 0,
    "start_time": "2022-06-11T11:06:40.066Z"
   },
   {
    "duration": 0,
    "start_time": "2022-06-11T11:06:40.067Z"
   },
   {
    "duration": 0,
    "start_time": "2022-06-11T11:06:40.068Z"
   },
   {
    "duration": 0,
    "start_time": "2022-06-11T11:06:40.069Z"
   },
   {
    "duration": 0,
    "start_time": "2022-06-11T11:06:40.070Z"
   },
   {
    "duration": 0,
    "start_time": "2022-06-11T11:06:40.071Z"
   },
   {
    "duration": 0,
    "start_time": "2022-06-11T11:06:40.072Z"
   },
   {
    "duration": 0,
    "start_time": "2022-06-11T11:06:40.073Z"
   },
   {
    "duration": 0,
    "start_time": "2022-06-11T11:06:40.073Z"
   },
   {
    "duration": 0,
    "start_time": "2022-06-11T11:06:40.074Z"
   },
   {
    "duration": 0,
    "start_time": "2022-06-11T11:06:40.075Z"
   },
   {
    "duration": 0,
    "start_time": "2022-06-11T11:06:40.076Z"
   },
   {
    "duration": 1,
    "start_time": "2022-06-11T11:06:40.077Z"
   },
   {
    "duration": 1154,
    "start_time": "2022-06-11T11:07:37.564Z"
   },
   {
    "duration": 794,
    "start_time": "2022-06-11T11:07:38.720Z"
   },
   {
    "duration": 190,
    "start_time": "2022-06-11T11:07:39.515Z"
   },
   {
    "duration": 121,
    "start_time": "2022-06-11T11:07:39.707Z"
   },
   {
    "duration": 135,
    "start_time": "2022-06-11T11:07:39.831Z"
   },
   {
    "duration": 12,
    "start_time": "2022-06-11T11:07:39.967Z"
   },
   {
    "duration": 219,
    "start_time": "2022-06-11T11:07:39.980Z"
   },
   {
    "duration": 67,
    "start_time": "2022-06-11T11:07:40.201Z"
   },
   {
    "duration": 218,
    "start_time": "2022-06-11T11:07:40.270Z"
   },
   {
    "duration": 0,
    "start_time": "2022-06-11T11:07:40.490Z"
   },
   {
    "duration": 0,
    "start_time": "2022-06-11T11:07:40.491Z"
   },
   {
    "duration": 0,
    "start_time": "2022-06-11T11:07:40.492Z"
   },
   {
    "duration": 0,
    "start_time": "2022-06-11T11:07:40.493Z"
   },
   {
    "duration": 0,
    "start_time": "2022-06-11T11:07:40.495Z"
   },
   {
    "duration": 0,
    "start_time": "2022-06-11T11:07:40.496Z"
   },
   {
    "duration": 0,
    "start_time": "2022-06-11T11:07:40.497Z"
   },
   {
    "duration": 0,
    "start_time": "2022-06-11T11:07:40.498Z"
   },
   {
    "duration": 0,
    "start_time": "2022-06-11T11:07:40.499Z"
   },
   {
    "duration": 0,
    "start_time": "2022-06-11T11:07:40.500Z"
   },
   {
    "duration": 0,
    "start_time": "2022-06-11T11:07:40.501Z"
   },
   {
    "duration": 0,
    "start_time": "2022-06-11T11:07:40.558Z"
   },
   {
    "duration": 0,
    "start_time": "2022-06-11T11:07:40.559Z"
   },
   {
    "duration": 0,
    "start_time": "2022-06-11T11:07:40.560Z"
   },
   {
    "duration": 0,
    "start_time": "2022-06-11T11:07:40.561Z"
   },
   {
    "duration": 1,
    "start_time": "2022-06-11T11:07:40.562Z"
   },
   {
    "duration": 0,
    "start_time": "2022-06-11T11:07:40.564Z"
   },
   {
    "duration": 0,
    "start_time": "2022-06-11T11:07:40.564Z"
   },
   {
    "duration": 0,
    "start_time": "2022-06-11T11:07:40.565Z"
   },
   {
    "duration": 0,
    "start_time": "2022-06-11T11:07:40.567Z"
   },
   {
    "duration": 0,
    "start_time": "2022-06-11T11:07:40.567Z"
   },
   {
    "duration": 0,
    "start_time": "2022-06-11T11:07:40.568Z"
   },
   {
    "duration": 0,
    "start_time": "2022-06-11T11:07:40.570Z"
   },
   {
    "duration": 0,
    "start_time": "2022-06-11T11:07:40.571Z"
   },
   {
    "duration": 0,
    "start_time": "2022-06-11T11:07:40.572Z"
   },
   {
    "duration": 0,
    "start_time": "2022-06-11T11:07:40.573Z"
   },
   {
    "duration": 0,
    "start_time": "2022-06-11T11:07:40.574Z"
   },
   {
    "duration": 0,
    "start_time": "2022-06-11T11:07:40.575Z"
   },
   {
    "duration": 0,
    "start_time": "2022-06-11T11:07:40.576Z"
   },
   {
    "duration": 0,
    "start_time": "2022-06-11T11:07:40.576Z"
   },
   {
    "duration": 1148,
    "start_time": "2022-06-11T11:13:21.199Z"
   },
   {
    "duration": 1019,
    "start_time": "2022-06-11T11:13:22.349Z"
   },
   {
    "duration": 289,
    "start_time": "2022-06-11T11:13:23.370Z"
   },
   {
    "duration": 234,
    "start_time": "2022-06-11T11:13:23.661Z"
   },
   {
    "duration": 279,
    "start_time": "2022-06-11T11:13:23.897Z"
   },
   {
    "duration": 13,
    "start_time": "2022-06-11T11:13:24.177Z"
   },
   {
    "duration": 180,
    "start_time": "2022-06-11T11:13:24.191Z"
   },
   {
    "duration": 13,
    "start_time": "2022-06-11T11:13:24.372Z"
   },
   {
    "duration": 213,
    "start_time": "2022-06-11T11:13:24.387Z"
   },
   {
    "duration": 0,
    "start_time": "2022-06-11T11:13:24.603Z"
   },
   {
    "duration": 0,
    "start_time": "2022-06-11T11:13:24.604Z"
   },
   {
    "duration": 0,
    "start_time": "2022-06-11T11:13:24.658Z"
   },
   {
    "duration": 0,
    "start_time": "2022-06-11T11:13:24.659Z"
   },
   {
    "duration": 0,
    "start_time": "2022-06-11T11:13:24.660Z"
   },
   {
    "duration": 0,
    "start_time": "2022-06-11T11:13:24.661Z"
   },
   {
    "duration": 0,
    "start_time": "2022-06-11T11:13:24.662Z"
   },
   {
    "duration": 0,
    "start_time": "2022-06-11T11:13:24.663Z"
   },
   {
    "duration": 0,
    "start_time": "2022-06-11T11:13:24.664Z"
   },
   {
    "duration": 0,
    "start_time": "2022-06-11T11:13:24.665Z"
   },
   {
    "duration": 0,
    "start_time": "2022-06-11T11:13:24.666Z"
   },
   {
    "duration": 0,
    "start_time": "2022-06-11T11:13:24.666Z"
   },
   {
    "duration": 0,
    "start_time": "2022-06-11T11:13:24.667Z"
   },
   {
    "duration": 0,
    "start_time": "2022-06-11T11:13:24.669Z"
   },
   {
    "duration": 0,
    "start_time": "2022-06-11T11:13:24.670Z"
   },
   {
    "duration": 0,
    "start_time": "2022-06-11T11:13:24.672Z"
   },
   {
    "duration": 0,
    "start_time": "2022-06-11T11:13:24.673Z"
   },
   {
    "duration": 0,
    "start_time": "2022-06-11T11:13:24.674Z"
   },
   {
    "duration": 0,
    "start_time": "2022-06-11T11:13:24.675Z"
   },
   {
    "duration": 0,
    "start_time": "2022-06-11T11:13:24.676Z"
   },
   {
    "duration": 0,
    "start_time": "2022-06-11T11:13:24.677Z"
   },
   {
    "duration": 0,
    "start_time": "2022-06-11T11:13:24.679Z"
   },
   {
    "duration": 0,
    "start_time": "2022-06-11T11:13:24.680Z"
   },
   {
    "duration": 0,
    "start_time": "2022-06-11T11:13:24.681Z"
   },
   {
    "duration": 0,
    "start_time": "2022-06-11T11:13:24.682Z"
   },
   {
    "duration": 0,
    "start_time": "2022-06-11T11:13:24.683Z"
   },
   {
    "duration": 0,
    "start_time": "2022-06-11T11:13:24.684Z"
   },
   {
    "duration": 0,
    "start_time": "2022-06-11T11:13:24.685Z"
   },
   {
    "duration": 0,
    "start_time": "2022-06-11T11:13:24.686Z"
   },
   {
    "duration": 0,
    "start_time": "2022-06-11T11:13:24.688Z"
   },
   {
    "duration": 1183,
    "start_time": "2022-06-11T11:13:48.660Z"
   },
   {
    "duration": 977,
    "start_time": "2022-06-11T11:13:49.845Z"
   },
   {
    "duration": 156,
    "start_time": "2022-06-11T11:13:50.824Z"
   },
   {
    "duration": 183,
    "start_time": "2022-06-11T11:13:50.983Z"
   },
   {
    "duration": 147,
    "start_time": "2022-06-11T11:13:51.168Z"
   },
   {
    "duration": 13,
    "start_time": "2022-06-11T11:13:51.317Z"
   },
   {
    "duration": 72,
    "start_time": "2022-06-11T11:13:51.331Z"
   },
   {
    "duration": 13,
    "start_time": "2022-06-11T11:13:51.405Z"
   },
   {
    "duration": 118,
    "start_time": "2022-06-11T11:13:51.420Z"
   },
   {
    "duration": 0,
    "start_time": "2022-06-11T11:13:51.540Z"
   },
   {
    "duration": 0,
    "start_time": "2022-06-11T11:13:51.542Z"
   },
   {
    "duration": 0,
    "start_time": "2022-06-11T11:13:51.543Z"
   },
   {
    "duration": 0,
    "start_time": "2022-06-11T11:13:51.544Z"
   },
   {
    "duration": 0,
    "start_time": "2022-06-11T11:13:51.545Z"
   },
   {
    "duration": 0,
    "start_time": "2022-06-11T11:13:51.559Z"
   },
   {
    "duration": 0,
    "start_time": "2022-06-11T11:13:51.560Z"
   },
   {
    "duration": 0,
    "start_time": "2022-06-11T11:13:51.561Z"
   },
   {
    "duration": 0,
    "start_time": "2022-06-11T11:13:51.562Z"
   },
   {
    "duration": 0,
    "start_time": "2022-06-11T11:13:51.563Z"
   },
   {
    "duration": 0,
    "start_time": "2022-06-11T11:13:51.565Z"
   },
   {
    "duration": 0,
    "start_time": "2022-06-11T11:13:51.566Z"
   },
   {
    "duration": 0,
    "start_time": "2022-06-11T11:13:51.567Z"
   },
   {
    "duration": 0,
    "start_time": "2022-06-11T11:13:51.568Z"
   },
   {
    "duration": 0,
    "start_time": "2022-06-11T11:13:51.569Z"
   },
   {
    "duration": 0,
    "start_time": "2022-06-11T11:13:51.570Z"
   },
   {
    "duration": 0,
    "start_time": "2022-06-11T11:13:51.570Z"
   },
   {
    "duration": 0,
    "start_time": "2022-06-11T11:13:51.571Z"
   },
   {
    "duration": 0,
    "start_time": "2022-06-11T11:13:51.572Z"
   },
   {
    "duration": 0,
    "start_time": "2022-06-11T11:13:51.573Z"
   },
   {
    "duration": 0,
    "start_time": "2022-06-11T11:13:51.575Z"
   },
   {
    "duration": 0,
    "start_time": "2022-06-11T11:13:51.576Z"
   },
   {
    "duration": 0,
    "start_time": "2022-06-11T11:13:51.577Z"
   },
   {
    "duration": 0,
    "start_time": "2022-06-11T11:13:51.578Z"
   },
   {
    "duration": 0,
    "start_time": "2022-06-11T11:13:51.579Z"
   },
   {
    "duration": 0,
    "start_time": "2022-06-11T11:13:51.580Z"
   },
   {
    "duration": 0,
    "start_time": "2022-06-11T11:13:51.581Z"
   },
   {
    "duration": 0,
    "start_time": "2022-06-11T11:13:51.582Z"
   },
   {
    "duration": 0,
    "start_time": "2022-06-11T11:13:51.583Z"
   },
   {
    "duration": 0,
    "start_time": "2022-06-11T11:13:51.584Z"
   },
   {
    "duration": 1215,
    "start_time": "2022-06-11T12:32:33.160Z"
   },
   {
    "duration": 969,
    "start_time": "2022-06-11T12:32:34.377Z"
   },
   {
    "duration": 159,
    "start_time": "2022-06-11T12:32:35.350Z"
   },
   {
    "duration": 137,
    "start_time": "2022-06-11T12:32:35.511Z"
   },
   {
    "duration": 144,
    "start_time": "2022-06-11T12:32:35.660Z"
   },
   {
    "duration": 12,
    "start_time": "2022-06-11T12:32:35.806Z"
   },
   {
    "duration": 78,
    "start_time": "2022-06-11T12:32:35.820Z"
   },
   {
    "duration": 14,
    "start_time": "2022-06-11T12:32:35.899Z"
   },
   {
    "duration": 356,
    "start_time": "2022-06-11T12:32:35.916Z"
   },
   {
    "duration": 1119,
    "start_time": "2022-06-11T12:32:36.275Z"
   },
   {
    "duration": 971,
    "start_time": "2022-06-11T12:32:37.396Z"
   },
   {
    "duration": 503,
    "start_time": "2022-06-11T12:32:38.371Z"
   },
   {
    "duration": 44,
    "start_time": "2022-06-11T12:32:38.877Z"
   },
   {
    "duration": 27,
    "start_time": "2022-06-11T12:32:38.922Z"
   },
   {
    "duration": 53,
    "start_time": "2022-06-11T12:32:38.961Z"
   },
   {
    "duration": 200,
    "start_time": "2022-06-11T12:32:39.016Z"
   },
   {
    "duration": 162,
    "start_time": "2022-06-11T12:32:39.217Z"
   },
   {
    "duration": 24,
    "start_time": "2022-06-11T12:32:39.380Z"
   },
   {
    "duration": 84,
    "start_time": "2022-06-11T12:32:39.406Z"
   },
   {
    "duration": 142,
    "start_time": "2022-06-11T12:32:39.492Z"
   },
   {
    "duration": 151,
    "start_time": "2022-06-11T12:32:39.636Z"
   },
   {
    "duration": 121,
    "start_time": "2022-06-11T12:32:39.789Z"
   },
   {
    "duration": 0,
    "start_time": "2022-06-11T12:32:39.912Z"
   },
   {
    "duration": 0,
    "start_time": "2022-06-11T12:32:39.913Z"
   },
   {
    "duration": 0,
    "start_time": "2022-06-11T12:32:39.914Z"
   },
   {
    "duration": 0,
    "start_time": "2022-06-11T12:32:39.915Z"
   },
   {
    "duration": 0,
    "start_time": "2022-06-11T12:32:39.916Z"
   },
   {
    "duration": 0,
    "start_time": "2022-06-11T12:32:39.917Z"
   },
   {
    "duration": 0,
    "start_time": "2022-06-11T12:32:39.918Z"
   },
   {
    "duration": 1,
    "start_time": "2022-06-11T12:32:39.919Z"
   },
   {
    "duration": 0,
    "start_time": "2022-06-11T12:32:39.921Z"
   },
   {
    "duration": 0,
    "start_time": "2022-06-11T12:32:39.922Z"
   },
   {
    "duration": 0,
    "start_time": "2022-06-11T12:32:39.923Z"
   },
   {
    "duration": 0,
    "start_time": "2022-06-11T12:32:39.924Z"
   },
   {
    "duration": 0,
    "start_time": "2022-06-11T12:32:39.926Z"
   },
   {
    "duration": 0,
    "start_time": "2022-06-11T12:32:39.926Z"
   },
   {
    "duration": 0,
    "start_time": "2022-06-11T12:32:39.928Z"
   },
   {
    "duration": 1007,
    "start_time": "2022-06-11T12:33:32.847Z"
   },
   {
    "duration": 921,
    "start_time": "2022-06-11T13:06:32.462Z"
   },
   {
    "duration": 1314,
    "start_time": "2022-06-11T13:06:41.119Z"
   },
   {
    "duration": 2148,
    "start_time": "2022-06-11T13:06:42.436Z"
   },
   {
    "duration": 444,
    "start_time": "2022-06-11T13:06:44.586Z"
   },
   {
    "duration": 167,
    "start_time": "2022-06-11T13:06:45.031Z"
   },
   {
    "duration": 165,
    "start_time": "2022-06-11T13:06:45.201Z"
   },
   {
    "duration": 17,
    "start_time": "2022-06-11T13:06:45.368Z"
   },
   {
    "duration": 80,
    "start_time": "2022-06-11T13:06:45.387Z"
   },
   {
    "duration": 22,
    "start_time": "2022-06-11T13:06:45.470Z"
   },
   {
    "duration": 176,
    "start_time": "2022-06-11T13:06:45.494Z"
   },
   {
    "duration": 574,
    "start_time": "2022-06-11T13:06:45.674Z"
   },
   {
    "duration": 653,
    "start_time": "2022-06-11T13:06:46.251Z"
   },
   {
    "duration": 578,
    "start_time": "2022-06-11T13:06:46.906Z"
   },
   {
    "duration": 54,
    "start_time": "2022-06-11T13:06:47.486Z"
   },
   {
    "duration": 49,
    "start_time": "2022-06-11T13:06:47.543Z"
   },
   {
    "duration": 1152,
    "start_time": "2022-06-11T13:06:47.594Z"
   },
   {
    "duration": 173,
    "start_time": "2022-06-11T13:06:48.748Z"
   },
   {
    "duration": 0,
    "start_time": "2022-06-11T13:06:48.922Z"
   },
   {
    "duration": 0,
    "start_time": "2022-06-11T13:06:48.924Z"
   },
   {
    "duration": 0,
    "start_time": "2022-06-11T13:06:48.925Z"
   },
   {
    "duration": 0,
    "start_time": "2022-06-11T13:06:48.927Z"
   },
   {
    "duration": 0,
    "start_time": "2022-06-11T13:06:48.928Z"
   },
   {
    "duration": 0,
    "start_time": "2022-06-11T13:06:48.930Z"
   },
   {
    "duration": 0,
    "start_time": "2022-06-11T13:06:48.931Z"
   },
   {
    "duration": 0,
    "start_time": "2022-06-11T13:06:48.932Z"
   },
   {
    "duration": 0,
    "start_time": "2022-06-11T13:06:48.934Z"
   },
   {
    "duration": 0,
    "start_time": "2022-06-11T13:06:48.935Z"
   },
   {
    "duration": 0,
    "start_time": "2022-06-11T13:06:48.961Z"
   },
   {
    "duration": 0,
    "start_time": "2022-06-11T13:06:48.964Z"
   },
   {
    "duration": 0,
    "start_time": "2022-06-11T13:06:48.965Z"
   },
   {
    "duration": 0,
    "start_time": "2022-06-11T13:06:48.966Z"
   },
   {
    "duration": 0,
    "start_time": "2022-06-11T13:06:48.968Z"
   },
   {
    "duration": 0,
    "start_time": "2022-06-11T13:06:48.970Z"
   },
   {
    "duration": 0,
    "start_time": "2022-06-11T13:06:48.971Z"
   },
   {
    "duration": 0,
    "start_time": "2022-06-11T13:06:48.973Z"
   },
   {
    "duration": 0,
    "start_time": "2022-06-11T13:06:48.974Z"
   },
   {
    "duration": 0,
    "start_time": "2022-06-11T13:06:48.976Z"
   },
   {
    "duration": 0,
    "start_time": "2022-06-11T13:06:48.977Z"
   },
   {
    "duration": 0,
    "start_time": "2022-06-11T13:06:48.979Z"
   },
   {
    "duration": 422,
    "start_time": "2022-06-11T13:12:14.590Z"
   },
   {
    "duration": 413,
    "start_time": "2022-06-11T13:13:41.618Z"
   },
   {
    "duration": 451,
    "start_time": "2022-06-11T13:14:28.824Z"
   },
   {
    "duration": 557,
    "start_time": "2022-06-11T13:14:39.246Z"
   },
   {
    "duration": 444,
    "start_time": "2022-06-11T13:14:45.854Z"
   },
   {
    "duration": 418,
    "start_time": "2022-06-11T13:14:50.695Z"
   },
   {
    "duration": 412,
    "start_time": "2022-06-11T13:15:05.496Z"
   },
   {
    "duration": 426,
    "start_time": "2022-06-11T13:15:10.350Z"
   },
   {
    "duration": 450,
    "start_time": "2022-06-11T13:16:22.932Z"
   },
   {
    "duration": 439,
    "start_time": "2022-06-11T13:16:44.386Z"
   },
   {
    "duration": 71,
    "start_time": "2022-06-11T13:17:20.727Z"
   },
   {
    "duration": 506,
    "start_time": "2022-06-11T13:17:24.988Z"
   },
   {
    "duration": 435,
    "start_time": "2022-06-11T13:17:29.402Z"
   },
   {
    "duration": 439,
    "start_time": "2022-06-11T13:17:34.145Z"
   },
   {
    "duration": 594,
    "start_time": "2022-06-11T13:17:39.899Z"
   },
   {
    "duration": 587,
    "start_time": "2022-06-11T13:17:45.790Z"
   },
   {
    "duration": 457,
    "start_time": "2022-06-11T13:17:50.736Z"
   },
   {
    "duration": 4420,
    "start_time": "2022-06-11T13:18:54.746Z"
   },
   {
    "duration": 445,
    "start_time": "2022-06-11T13:19:04.738Z"
   },
   {
    "duration": 30,
    "start_time": "2022-06-11T13:20:03.490Z"
   },
   {
    "duration": 63,
    "start_time": "2022-06-11T13:20:42.239Z"
   },
   {
    "duration": 999,
    "start_time": "2022-06-11T13:20:46.488Z"
   },
   {
    "duration": 303,
    "start_time": "2022-06-11T13:21:27.793Z"
   },
   {
    "duration": 339,
    "start_time": "2022-06-11T13:21:39.001Z"
   },
   {
    "duration": 317,
    "start_time": "2022-06-11T13:21:46.578Z"
   },
   {
    "duration": 1031,
    "start_time": "2022-06-11T13:21:50.348Z"
   },
   {
    "duration": 510,
    "start_time": "2022-06-11T13:22:02.406Z"
   },
   {
    "duration": 462,
    "start_time": "2022-06-11T13:22:28.703Z"
   },
   {
    "duration": 448,
    "start_time": "2022-06-11T13:22:33.399Z"
   },
   {
    "duration": 650,
    "start_time": "2022-06-11T13:22:36.654Z"
   },
   {
    "duration": 464,
    "start_time": "2022-06-11T13:23:52.675Z"
   },
   {
    "duration": 94,
    "start_time": "2022-06-11T13:24:13.309Z"
   },
   {
    "duration": 520,
    "start_time": "2022-06-11T13:25:00.318Z"
   },
   {
    "duration": 38275,
    "start_time": "2022-06-11T13:27:32.678Z"
   },
   {
    "duration": 485,
    "start_time": "2022-06-11T13:28:12.792Z"
   },
   {
    "duration": 457,
    "start_time": "2022-06-11T13:29:26.349Z"
   },
   {
    "duration": 476,
    "start_time": "2022-06-11T13:29:33.582Z"
   },
   {
    "duration": 92,
    "start_time": "2022-06-11T13:39:45.041Z"
   },
   {
    "duration": 1320,
    "start_time": "2022-06-11T13:40:17.322Z"
   },
   {
    "duration": 1258,
    "start_time": "2022-06-11T13:40:47.428Z"
   },
   {
    "duration": 1095,
    "start_time": "2022-06-11T13:40:48.688Z"
   },
   {
    "duration": 500,
    "start_time": "2022-06-11T13:40:49.784Z"
   },
   {
    "duration": 509,
    "start_time": "2022-06-11T13:40:50.289Z"
   },
   {
    "duration": 481,
    "start_time": "2022-06-11T13:40:50.800Z"
   },
   {
    "duration": 18,
    "start_time": "2022-06-11T13:40:51.283Z"
   },
   {
    "duration": 161,
    "start_time": "2022-06-11T13:40:51.303Z"
   },
   {
    "duration": 17,
    "start_time": "2022-06-11T13:40:51.466Z"
   },
   {
    "duration": 512,
    "start_time": "2022-06-11T13:40:51.484Z"
   },
   {
    "duration": 786,
    "start_time": "2022-06-11T13:40:52.002Z"
   },
   {
    "duration": 744,
    "start_time": "2022-06-11T13:40:52.790Z"
   },
   {
    "duration": 621,
    "start_time": "2022-06-11T13:40:53.536Z"
   },
   {
    "duration": 63,
    "start_time": "2022-06-11T13:40:54.158Z"
   },
   {
    "duration": 51,
    "start_time": "2022-06-11T13:40:54.223Z"
   },
   {
    "duration": 1289,
    "start_time": "2022-06-11T13:40:54.281Z"
   },
   {
    "duration": 7,
    "start_time": "2022-06-11T13:40:55.572Z"
   },
   {
    "duration": 0,
    "start_time": "2022-06-11T13:40:55.581Z"
   },
   {
    "duration": 0,
    "start_time": "2022-06-11T13:40:55.582Z"
   },
   {
    "duration": 0,
    "start_time": "2022-06-11T13:40:55.583Z"
   },
   {
    "duration": 0,
    "start_time": "2022-06-11T13:40:55.584Z"
   },
   {
    "duration": 0,
    "start_time": "2022-06-11T13:40:55.585Z"
   },
   {
    "duration": 1,
    "start_time": "2022-06-11T13:40:55.586Z"
   },
   {
    "duration": 0,
    "start_time": "2022-06-11T13:40:55.588Z"
   },
   {
    "duration": 0,
    "start_time": "2022-06-11T13:40:55.589Z"
   },
   {
    "duration": 0,
    "start_time": "2022-06-11T13:40:55.590Z"
   },
   {
    "duration": 0,
    "start_time": "2022-06-11T13:40:55.592Z"
   },
   {
    "duration": 0,
    "start_time": "2022-06-11T13:40:55.593Z"
   },
   {
    "duration": 0,
    "start_time": "2022-06-11T13:40:55.594Z"
   },
   {
    "duration": 0,
    "start_time": "2022-06-11T13:40:55.596Z"
   },
   {
    "duration": 0,
    "start_time": "2022-06-11T13:40:55.598Z"
   },
   {
    "duration": 0,
    "start_time": "2022-06-11T13:40:55.600Z"
   },
   {
    "duration": 0,
    "start_time": "2022-06-11T13:40:55.601Z"
   },
   {
    "duration": 0,
    "start_time": "2022-06-11T13:40:55.603Z"
   },
   {
    "duration": 0,
    "start_time": "2022-06-11T13:40:55.604Z"
   },
   {
    "duration": 0,
    "start_time": "2022-06-11T13:40:55.607Z"
   },
   {
    "duration": 0,
    "start_time": "2022-06-11T13:40:55.608Z"
   },
   {
    "duration": 0,
    "start_time": "2022-06-11T13:40:55.609Z"
   },
   {
    "duration": 0,
    "start_time": "2022-06-11T13:40:55.611Z"
   },
   {
    "duration": 0,
    "start_time": "2022-06-11T13:40:55.613Z"
   },
   {
    "duration": 0,
    "start_time": "2022-06-11T13:40:55.614Z"
   },
   {
    "duration": 73,
    "start_time": "2022-06-11T13:41:26.408Z"
   },
   {
    "duration": 1273,
    "start_time": "2022-06-11T13:41:32.422Z"
   },
   {
    "duration": 64,
    "start_time": "2022-06-11T13:45:51.091Z"
   },
   {
    "duration": 1060,
    "start_time": "2022-06-11T13:45:58.874Z"
   },
   {
    "duration": 27,
    "start_time": "2022-06-11T13:46:15.236Z"
   },
   {
    "duration": 51,
    "start_time": "2022-06-11T13:48:00.633Z"
   },
   {
    "duration": 992,
    "start_time": "2022-06-11T13:48:03.615Z"
   },
   {
    "duration": 1271,
    "start_time": "2022-06-11T13:50:44.414Z"
   },
   {
    "duration": 1076,
    "start_time": "2022-06-11T13:50:45.689Z"
   },
   {
    "duration": 149,
    "start_time": "2022-06-11T13:50:46.770Z"
   },
   {
    "duration": 152,
    "start_time": "2022-06-11T13:50:46.921Z"
   },
   {
    "duration": 179,
    "start_time": "2022-06-11T13:50:47.075Z"
   },
   {
    "duration": 25,
    "start_time": "2022-06-11T13:50:47.256Z"
   },
   {
    "duration": 64,
    "start_time": "2022-06-11T13:50:47.283Z"
   },
   {
    "duration": 27,
    "start_time": "2022-06-11T13:50:47.349Z"
   },
   {
    "duration": 144,
    "start_time": "2022-06-11T13:50:47.378Z"
   },
   {
    "duration": 840,
    "start_time": "2022-06-11T13:50:47.524Z"
   },
   {
    "duration": 1423,
    "start_time": "2022-06-11T13:50:48.370Z"
   },
   {
    "duration": 725,
    "start_time": "2022-06-11T13:50:49.795Z"
   },
   {
    "duration": 58,
    "start_time": "2022-06-11T13:50:50.522Z"
   },
   {
    "duration": 24,
    "start_time": "2022-06-11T13:50:50.583Z"
   },
   {
    "duration": 1069,
    "start_time": "2022-06-11T13:50:50.609Z"
   },
   {
    "duration": 340,
    "start_time": "2022-06-11T13:50:51.680Z"
   },
   {
    "duration": 0,
    "start_time": "2022-06-11T13:50:52.022Z"
   },
   {
    "duration": 0,
    "start_time": "2022-06-11T13:50:52.024Z"
   },
   {
    "duration": 0,
    "start_time": "2022-06-11T13:50:52.026Z"
   },
   {
    "duration": 0,
    "start_time": "2022-06-11T13:50:52.027Z"
   },
   {
    "duration": 0,
    "start_time": "2022-06-11T13:50:52.028Z"
   },
   {
    "duration": 0,
    "start_time": "2022-06-11T13:50:52.030Z"
   },
   {
    "duration": 0,
    "start_time": "2022-06-11T13:50:52.031Z"
   },
   {
    "duration": 0,
    "start_time": "2022-06-11T13:50:52.032Z"
   },
   {
    "duration": 0,
    "start_time": "2022-06-11T13:50:52.034Z"
   },
   {
    "duration": 0,
    "start_time": "2022-06-11T13:50:52.035Z"
   },
   {
    "duration": 0,
    "start_time": "2022-06-11T13:50:52.036Z"
   },
   {
    "duration": 0,
    "start_time": "2022-06-11T13:50:52.058Z"
   },
   {
    "duration": 0,
    "start_time": "2022-06-11T13:50:52.059Z"
   },
   {
    "duration": 0,
    "start_time": "2022-06-11T13:50:52.061Z"
   },
   {
    "duration": 0,
    "start_time": "2022-06-11T13:50:52.064Z"
   },
   {
    "duration": 0,
    "start_time": "2022-06-11T13:50:52.065Z"
   },
   {
    "duration": 0,
    "start_time": "2022-06-11T13:50:52.065Z"
   },
   {
    "duration": 0,
    "start_time": "2022-06-11T13:50:52.066Z"
   },
   {
    "duration": 0,
    "start_time": "2022-06-11T13:50:52.066Z"
   },
   {
    "duration": 0,
    "start_time": "2022-06-11T13:50:52.071Z"
   },
   {
    "duration": 0,
    "start_time": "2022-06-11T13:50:52.072Z"
   },
   {
    "duration": 0,
    "start_time": "2022-06-11T13:50:52.073Z"
   },
   {
    "duration": 1,
    "start_time": "2022-06-11T13:50:52.073Z"
   },
   {
    "duration": 0,
    "start_time": "2022-06-11T13:50:52.074Z"
   },
   {
    "duration": 0,
    "start_time": "2022-06-11T13:50:52.076Z"
   },
   {
    "duration": 0,
    "start_time": "2022-06-11T13:50:52.077Z"
   },
   {
    "duration": 0,
    "start_time": "2022-06-11T13:50:52.078Z"
   },
   {
    "duration": 0,
    "start_time": "2022-06-11T13:50:52.078Z"
   },
   {
    "duration": 29,
    "start_time": "2022-06-11T13:51:00.657Z"
   },
   {
    "duration": 1166,
    "start_time": "2022-06-11T13:53:40.010Z"
   },
   {
    "duration": 1098,
    "start_time": "2022-06-11T13:53:41.182Z"
   },
   {
    "duration": 157,
    "start_time": "2022-06-11T13:53:42.282Z"
   },
   {
    "duration": 154,
    "start_time": "2022-06-11T13:53:42.441Z"
   },
   {
    "duration": 179,
    "start_time": "2022-06-11T13:53:42.597Z"
   },
   {
    "duration": 13,
    "start_time": "2022-06-11T13:53:42.778Z"
   },
   {
    "duration": 59,
    "start_time": "2022-06-11T13:53:42.793Z"
   },
   {
    "duration": 30,
    "start_time": "2022-06-11T13:53:42.853Z"
   },
   {
    "duration": 145,
    "start_time": "2022-06-11T13:53:42.885Z"
   },
   {
    "duration": 1268,
    "start_time": "2022-06-11T13:53:43.033Z"
   },
   {
    "duration": 1176,
    "start_time": "2022-06-11T13:53:44.303Z"
   },
   {
    "duration": 559,
    "start_time": "2022-06-11T13:53:45.481Z"
   },
   {
    "duration": 57,
    "start_time": "2022-06-11T13:53:46.042Z"
   },
   {
    "duration": 29,
    "start_time": "2022-06-11T13:53:46.100Z"
   },
   {
    "duration": 1052,
    "start_time": "2022-06-11T13:53:46.131Z"
   },
   {
    "duration": 25,
    "start_time": "2022-06-11T13:53:47.185Z"
   },
   {
    "duration": 80,
    "start_time": "2022-06-11T13:53:47.212Z"
   },
   {
    "duration": 862,
    "start_time": "2022-06-11T13:53:47.294Z"
   },
   {
    "duration": 33,
    "start_time": "2022-06-11T13:53:48.158Z"
   },
   {
    "duration": 112,
    "start_time": "2022-06-11T13:53:48.193Z"
   },
   {
    "duration": 0,
    "start_time": "2022-06-11T13:53:48.307Z"
   },
   {
    "duration": 0,
    "start_time": "2022-06-11T13:53:48.308Z"
   },
   {
    "duration": 0,
    "start_time": "2022-06-11T13:53:48.309Z"
   },
   {
    "duration": 0,
    "start_time": "2022-06-11T13:53:48.310Z"
   },
   {
    "duration": 0,
    "start_time": "2022-06-11T13:53:48.311Z"
   },
   {
    "duration": 0,
    "start_time": "2022-06-11T13:53:48.312Z"
   },
   {
    "duration": 0,
    "start_time": "2022-06-11T13:53:48.313Z"
   },
   {
    "duration": 0,
    "start_time": "2022-06-11T13:53:48.314Z"
   },
   {
    "duration": 0,
    "start_time": "2022-06-11T13:53:48.315Z"
   },
   {
    "duration": 0,
    "start_time": "2022-06-11T13:53:48.316Z"
   },
   {
    "duration": 0,
    "start_time": "2022-06-11T13:53:48.317Z"
   },
   {
    "duration": 0,
    "start_time": "2022-06-11T13:53:48.318Z"
   },
   {
    "duration": 0,
    "start_time": "2022-06-11T13:53:48.319Z"
   },
   {
    "duration": 0,
    "start_time": "2022-06-11T13:53:48.320Z"
   },
   {
    "duration": 0,
    "start_time": "2022-06-11T13:53:48.321Z"
   },
   {
    "duration": 0,
    "start_time": "2022-06-11T13:53:48.322Z"
   },
   {
    "duration": 0,
    "start_time": "2022-06-11T13:53:48.323Z"
   },
   {
    "duration": 0,
    "start_time": "2022-06-11T13:53:48.324Z"
   },
   {
    "duration": 0,
    "start_time": "2022-06-11T13:53:48.325Z"
   },
   {
    "duration": 0,
    "start_time": "2022-06-11T13:53:48.326Z"
   },
   {
    "duration": 0,
    "start_time": "2022-06-11T13:53:48.361Z"
   },
   {
    "duration": 0,
    "start_time": "2022-06-11T13:53:48.362Z"
   },
   {
    "duration": 1336,
    "start_time": "2022-06-11T13:55:23.114Z"
   },
   {
    "duration": 1174,
    "start_time": "2022-06-11T13:55:24.452Z"
   },
   {
    "duration": 177,
    "start_time": "2022-06-11T13:55:25.631Z"
   },
   {
    "duration": 206,
    "start_time": "2022-06-11T13:55:25.812Z"
   },
   {
    "duration": 157,
    "start_time": "2022-06-11T13:55:26.020Z"
   },
   {
    "duration": 19,
    "start_time": "2022-06-11T13:55:26.181Z"
   },
   {
    "duration": 73,
    "start_time": "2022-06-11T13:55:26.203Z"
   },
   {
    "duration": 14,
    "start_time": "2022-06-11T13:55:26.279Z"
   },
   {
    "duration": 186,
    "start_time": "2022-06-11T13:55:26.298Z"
   },
   {
    "duration": 24,
    "start_time": "2022-06-11T13:55:26.486Z"
   },
   {
    "duration": 591,
    "start_time": "2022-06-11T13:55:26.511Z"
   },
   {
    "duration": 614,
    "start_time": "2022-06-11T13:55:27.103Z"
   },
   {
    "duration": 618,
    "start_time": "2022-06-11T13:55:27.719Z"
   },
   {
    "duration": 39,
    "start_time": "2022-06-11T13:55:28.339Z"
   },
   {
    "duration": 96,
    "start_time": "2022-06-11T13:55:28.380Z"
   },
   {
    "duration": 83,
    "start_time": "2022-06-11T13:55:28.477Z"
   },
   {
    "duration": 32,
    "start_time": "2022-06-11T13:55:28.563Z"
   },
   {
    "duration": 2361,
    "start_time": "2022-06-11T13:55:28.596Z"
   },
   {
    "duration": 35,
    "start_time": "2022-06-11T13:55:30.965Z"
   },
   {
    "duration": 70,
    "start_time": "2022-06-11T13:55:31.002Z"
   },
   {
    "duration": 922,
    "start_time": "2022-06-11T13:55:31.077Z"
   },
   {
    "duration": 35,
    "start_time": "2022-06-11T13:55:32.001Z"
   },
   {
    "duration": 160,
    "start_time": "2022-06-11T13:55:32.038Z"
   },
   {
    "duration": 0,
    "start_time": "2022-06-11T13:55:32.200Z"
   },
   {
    "duration": 0,
    "start_time": "2022-06-11T13:55:32.201Z"
   },
   {
    "duration": 0,
    "start_time": "2022-06-11T13:55:32.203Z"
   },
   {
    "duration": 0,
    "start_time": "2022-06-11T13:55:32.205Z"
   },
   {
    "duration": 0,
    "start_time": "2022-06-11T13:55:32.207Z"
   },
   {
    "duration": 0,
    "start_time": "2022-06-11T13:55:32.208Z"
   },
   {
    "duration": 0,
    "start_time": "2022-06-11T13:55:32.210Z"
   },
   {
    "duration": 0,
    "start_time": "2022-06-11T13:55:32.211Z"
   },
   {
    "duration": 0,
    "start_time": "2022-06-11T13:55:32.212Z"
   },
   {
    "duration": 0,
    "start_time": "2022-06-11T13:55:32.214Z"
   },
   {
    "duration": 0,
    "start_time": "2022-06-11T13:55:32.215Z"
   },
   {
    "duration": 0,
    "start_time": "2022-06-11T13:55:32.216Z"
   },
   {
    "duration": 0,
    "start_time": "2022-06-11T13:55:32.217Z"
   },
   {
    "duration": 0,
    "start_time": "2022-06-11T13:55:32.218Z"
   },
   {
    "duration": 0,
    "start_time": "2022-06-11T13:55:32.219Z"
   },
   {
    "duration": 0,
    "start_time": "2022-06-11T13:55:32.221Z"
   },
   {
    "duration": 0,
    "start_time": "2022-06-11T13:55:32.222Z"
   },
   {
    "duration": 0,
    "start_time": "2022-06-11T13:55:32.223Z"
   },
   {
    "duration": 0,
    "start_time": "2022-06-11T13:55:32.225Z"
   },
   {
    "duration": 0,
    "start_time": "2022-06-11T13:55:32.258Z"
   },
   {
    "duration": 0,
    "start_time": "2022-06-11T13:55:32.259Z"
   },
   {
    "duration": 0,
    "start_time": "2022-06-11T13:55:32.261Z"
   },
   {
    "duration": 1214,
    "start_time": "2022-06-11T13:56:43.745Z"
   },
   {
    "duration": 998,
    "start_time": "2022-06-11T13:56:44.970Z"
   },
   {
    "duration": 144,
    "start_time": "2022-06-11T13:56:45.972Z"
   },
   {
    "duration": 160,
    "start_time": "2022-06-11T13:56:46.118Z"
   },
   {
    "duration": 147,
    "start_time": "2022-06-11T13:56:46.280Z"
   },
   {
    "duration": 12,
    "start_time": "2022-06-11T13:56:46.429Z"
   },
   {
    "duration": 68,
    "start_time": "2022-06-11T13:56:46.442Z"
   },
   {
    "duration": 12,
    "start_time": "2022-06-11T13:56:46.511Z"
   },
   {
    "duration": 165,
    "start_time": "2022-06-11T13:56:46.525Z"
   },
   {
    "duration": 20,
    "start_time": "2022-06-11T13:56:46.693Z"
   },
   {
    "duration": 537,
    "start_time": "2022-06-11T13:56:46.715Z"
   },
   {
    "duration": 547,
    "start_time": "2022-06-11T13:56:47.269Z"
   },
   {
    "duration": 511,
    "start_time": "2022-06-11T13:56:47.818Z"
   },
   {
    "duration": 33,
    "start_time": "2022-06-11T13:56:48.331Z"
   },
   {
    "duration": 46,
    "start_time": "2022-06-11T13:56:48.366Z"
   },
   {
    "duration": 33,
    "start_time": "2022-06-11T13:56:48.413Z"
   },
   {
    "duration": 40,
    "start_time": "2022-06-11T13:56:48.448Z"
   },
   {
    "duration": 1506,
    "start_time": "2022-06-11T13:56:48.490Z"
   },
   {
    "duration": 82,
    "start_time": "2022-06-11T13:56:49.998Z"
   },
   {
    "duration": 106,
    "start_time": "2022-06-11T13:56:50.082Z"
   },
   {
    "duration": 1986,
    "start_time": "2022-06-11T13:56:50.190Z"
   },
   {
    "duration": 20,
    "start_time": "2022-06-11T13:56:52.178Z"
   },
   {
    "duration": 275,
    "start_time": "2022-06-11T13:56:52.199Z"
   },
   {
    "duration": 0,
    "start_time": "2022-06-11T13:56:52.476Z"
   },
   {
    "duration": 0,
    "start_time": "2022-06-11T13:56:52.478Z"
   },
   {
    "duration": 0,
    "start_time": "2022-06-11T13:56:52.478Z"
   },
   {
    "duration": 0,
    "start_time": "2022-06-11T13:56:52.479Z"
   },
   {
    "duration": 0,
    "start_time": "2022-06-11T13:56:52.480Z"
   },
   {
    "duration": 0,
    "start_time": "2022-06-11T13:56:52.481Z"
   },
   {
    "duration": 0,
    "start_time": "2022-06-11T13:56:52.482Z"
   },
   {
    "duration": 0,
    "start_time": "2022-06-11T13:56:52.483Z"
   },
   {
    "duration": 0,
    "start_time": "2022-06-11T13:56:52.483Z"
   },
   {
    "duration": 0,
    "start_time": "2022-06-11T13:56:52.485Z"
   },
   {
    "duration": 0,
    "start_time": "2022-06-11T13:56:52.486Z"
   },
   {
    "duration": 0,
    "start_time": "2022-06-11T13:56:52.486Z"
   },
   {
    "duration": 0,
    "start_time": "2022-06-11T13:56:52.487Z"
   },
   {
    "duration": 0,
    "start_time": "2022-06-11T13:56:52.488Z"
   },
   {
    "duration": 0,
    "start_time": "2022-06-11T13:56:52.489Z"
   },
   {
    "duration": 0,
    "start_time": "2022-06-11T13:56:52.490Z"
   },
   {
    "duration": 0,
    "start_time": "2022-06-11T13:56:52.491Z"
   },
   {
    "duration": 0,
    "start_time": "2022-06-11T13:56:52.492Z"
   },
   {
    "duration": 0,
    "start_time": "2022-06-11T13:56:52.493Z"
   },
   {
    "duration": 0,
    "start_time": "2022-06-11T13:56:52.494Z"
   },
   {
    "duration": 0,
    "start_time": "2022-06-11T13:56:52.495Z"
   },
   {
    "duration": 0,
    "start_time": "2022-06-11T13:56:52.496Z"
   },
   {
    "duration": 1198,
    "start_time": "2022-06-11T13:58:06.615Z"
   },
   {
    "duration": 1060,
    "start_time": "2022-06-11T13:58:07.815Z"
   },
   {
    "duration": 151,
    "start_time": "2022-06-11T13:58:08.877Z"
   },
   {
    "duration": 239,
    "start_time": "2022-06-11T13:58:09.031Z"
   },
   {
    "duration": 392,
    "start_time": "2022-06-11T13:58:09.272Z"
   },
   {
    "duration": 22,
    "start_time": "2022-06-11T13:58:09.666Z"
   },
   {
    "duration": 106,
    "start_time": "2022-06-11T13:58:09.690Z"
   },
   {
    "duration": 64,
    "start_time": "2022-06-11T13:58:09.798Z"
   },
   {
    "duration": 344,
    "start_time": "2022-06-11T13:58:09.865Z"
   },
   {
    "duration": 44,
    "start_time": "2022-06-11T13:58:10.259Z"
   },
   {
    "duration": 1233,
    "start_time": "2022-06-11T13:58:10.304Z"
   },
   {
    "duration": 648,
    "start_time": "2022-06-11T13:58:11.538Z"
   },
   {
    "duration": 617,
    "start_time": "2022-06-11T13:58:12.196Z"
   },
   {
    "duration": 28,
    "start_time": "2022-06-11T13:58:12.816Z"
   },
   {
    "duration": 91,
    "start_time": "2022-06-11T13:58:12.859Z"
   },
   {
    "duration": 42,
    "start_time": "2022-06-11T13:58:12.951Z"
   },
   {
    "duration": 196,
    "start_time": "2022-06-11T13:58:12.995Z"
   },
   {
    "duration": 1239,
    "start_time": "2022-06-11T13:58:13.194Z"
   },
   {
    "duration": 41,
    "start_time": "2022-06-11T13:58:14.435Z"
   },
   {
    "duration": 50,
    "start_time": "2022-06-11T13:58:14.478Z"
   },
   {
    "duration": 983,
    "start_time": "2022-06-11T13:58:14.530Z"
   },
   {
    "duration": 188,
    "start_time": "2022-06-11T13:58:15.515Z"
   },
   {
    "duration": 169,
    "start_time": "2022-06-11T13:58:15.706Z"
   },
   {
    "duration": 0,
    "start_time": "2022-06-11T13:58:15.878Z"
   },
   {
    "duration": 0,
    "start_time": "2022-06-11T13:58:15.879Z"
   },
   {
    "duration": 0,
    "start_time": "2022-06-11T13:58:15.880Z"
   },
   {
    "duration": 0,
    "start_time": "2022-06-11T13:58:15.881Z"
   },
   {
    "duration": 0,
    "start_time": "2022-06-11T13:58:15.881Z"
   },
   {
    "duration": 0,
    "start_time": "2022-06-11T13:58:15.882Z"
   },
   {
    "duration": 0,
    "start_time": "2022-06-11T13:58:15.885Z"
   },
   {
    "duration": 0,
    "start_time": "2022-06-11T13:58:15.886Z"
   },
   {
    "duration": 0,
    "start_time": "2022-06-11T13:58:15.887Z"
   },
   {
    "duration": 0,
    "start_time": "2022-06-11T13:58:15.889Z"
   },
   {
    "duration": 0,
    "start_time": "2022-06-11T13:58:15.890Z"
   },
   {
    "duration": 0,
    "start_time": "2022-06-11T13:58:15.892Z"
   },
   {
    "duration": 0,
    "start_time": "2022-06-11T13:58:15.893Z"
   },
   {
    "duration": 0,
    "start_time": "2022-06-11T13:58:15.894Z"
   },
   {
    "duration": 0,
    "start_time": "2022-06-11T13:58:15.896Z"
   },
   {
    "duration": 0,
    "start_time": "2022-06-11T13:58:15.897Z"
   },
   {
    "duration": 0,
    "start_time": "2022-06-11T13:58:15.898Z"
   },
   {
    "duration": 0,
    "start_time": "2022-06-11T13:58:15.899Z"
   },
   {
    "duration": 0,
    "start_time": "2022-06-11T13:58:15.900Z"
   },
   {
    "duration": 0,
    "start_time": "2022-06-11T13:58:15.901Z"
   },
   {
    "duration": 0,
    "start_time": "2022-06-11T13:58:15.903Z"
   },
   {
    "duration": 0,
    "start_time": "2022-06-11T13:58:15.905Z"
   },
   {
    "duration": 1332,
    "start_time": "2022-06-11T13:59:35.458Z"
   },
   {
    "duration": 2382,
    "start_time": "2022-06-11T13:59:36.792Z"
   },
   {
    "duration": 143,
    "start_time": "2022-06-11T13:59:39.176Z"
   },
   {
    "duration": 147,
    "start_time": "2022-06-11T13:59:39.321Z"
   },
   {
    "duration": 158,
    "start_time": "2022-06-11T13:59:39.470Z"
   },
   {
    "duration": 13,
    "start_time": "2022-06-11T13:59:39.629Z"
   },
   {
    "duration": 83,
    "start_time": "2022-06-11T13:59:39.644Z"
   },
   {
    "duration": 13,
    "start_time": "2022-06-11T13:59:39.729Z"
   },
   {
    "duration": 164,
    "start_time": "2022-06-11T13:59:39.744Z"
   },
   {
    "duration": 22,
    "start_time": "2022-06-11T13:59:39.912Z"
   },
   {
    "duration": 548,
    "start_time": "2022-06-11T13:59:39.936Z"
   },
   {
    "duration": 546,
    "start_time": "2022-06-11T13:59:40.486Z"
   },
   {
    "duration": 503,
    "start_time": "2022-06-11T13:59:41.034Z"
   },
   {
    "duration": 37,
    "start_time": "2022-06-11T13:59:41.539Z"
   },
   {
    "duration": 43,
    "start_time": "2022-06-11T13:59:41.578Z"
   },
   {
    "duration": 40,
    "start_time": "2022-06-11T13:59:41.622Z"
   },
   {
    "duration": 164,
    "start_time": "2022-06-11T13:59:41.671Z"
   },
   {
    "duration": 1087,
    "start_time": "2022-06-11T13:59:41.837Z"
   },
   {
    "duration": 15,
    "start_time": "2022-06-11T13:59:42.926Z"
   },
   {
    "duration": 64,
    "start_time": "2022-06-11T13:59:42.942Z"
   },
   {
    "duration": 869,
    "start_time": "2022-06-11T13:59:43.007Z"
   },
   {
    "duration": 123,
    "start_time": "2022-06-11T13:59:43.877Z"
   },
   {
    "duration": 127,
    "start_time": "2022-06-11T13:59:44.002Z"
   },
   {
    "duration": 0,
    "start_time": "2022-06-11T13:59:44.130Z"
   },
   {
    "duration": 0,
    "start_time": "2022-06-11T13:59:44.131Z"
   },
   {
    "duration": 0,
    "start_time": "2022-06-11T13:59:44.132Z"
   },
   {
    "duration": 0,
    "start_time": "2022-06-11T13:59:44.133Z"
   },
   {
    "duration": 0,
    "start_time": "2022-06-11T13:59:44.134Z"
   },
   {
    "duration": 0,
    "start_time": "2022-06-11T13:59:44.135Z"
   },
   {
    "duration": 0,
    "start_time": "2022-06-11T13:59:44.137Z"
   },
   {
    "duration": 0,
    "start_time": "2022-06-11T13:59:44.138Z"
   },
   {
    "duration": 0,
    "start_time": "2022-06-11T13:59:44.139Z"
   },
   {
    "duration": 0,
    "start_time": "2022-06-11T13:59:44.140Z"
   },
   {
    "duration": 0,
    "start_time": "2022-06-11T13:59:44.158Z"
   },
   {
    "duration": 0,
    "start_time": "2022-06-11T13:59:44.161Z"
   },
   {
    "duration": 0,
    "start_time": "2022-06-11T13:59:44.162Z"
   },
   {
    "duration": 0,
    "start_time": "2022-06-11T13:59:44.164Z"
   },
   {
    "duration": 0,
    "start_time": "2022-06-11T13:59:44.165Z"
   },
   {
    "duration": 0,
    "start_time": "2022-06-11T13:59:44.166Z"
   },
   {
    "duration": 0,
    "start_time": "2022-06-11T13:59:44.167Z"
   },
   {
    "duration": 0,
    "start_time": "2022-06-11T13:59:44.168Z"
   },
   {
    "duration": 0,
    "start_time": "2022-06-11T13:59:44.169Z"
   },
   {
    "duration": 0,
    "start_time": "2022-06-11T13:59:44.170Z"
   },
   {
    "duration": 0,
    "start_time": "2022-06-11T13:59:44.171Z"
   },
   {
    "duration": 0,
    "start_time": "2022-06-11T13:59:44.172Z"
   },
   {
    "duration": 1206,
    "start_time": "2022-06-11T14:19:18.937Z"
   },
   {
    "duration": 902,
    "start_time": "2022-06-11T14:19:20.145Z"
   },
   {
    "duration": 191,
    "start_time": "2022-06-11T14:19:21.048Z"
   },
   {
    "duration": 134,
    "start_time": "2022-06-11T14:19:21.241Z"
   },
   {
    "duration": 140,
    "start_time": "2022-06-11T14:19:21.378Z"
   },
   {
    "duration": 15,
    "start_time": "2022-06-11T14:19:21.520Z"
   },
   {
    "duration": 74,
    "start_time": "2022-06-11T14:19:21.537Z"
   },
   {
    "duration": 13,
    "start_time": "2022-06-11T14:19:21.613Z"
   },
   {
    "duration": 151,
    "start_time": "2022-06-11T14:19:21.628Z"
   },
   {
    "duration": 26,
    "start_time": "2022-06-11T14:19:21.782Z"
   },
   {
    "duration": 548,
    "start_time": "2022-06-11T14:19:21.810Z"
   },
   {
    "duration": 511,
    "start_time": "2022-06-11T14:19:22.359Z"
   },
   {
    "duration": 479,
    "start_time": "2022-06-11T14:19:22.871Z"
   },
   {
    "duration": 22,
    "start_time": "2022-06-11T14:19:23.353Z"
   },
   {
    "duration": 42,
    "start_time": "2022-06-11T14:19:23.377Z"
   },
   {
    "duration": 38,
    "start_time": "2022-06-11T14:19:23.421Z"
   },
   {
    "duration": 147,
    "start_time": "2022-06-11T14:19:23.461Z"
   },
   {
    "duration": 1013,
    "start_time": "2022-06-11T14:19:23.610Z"
   },
   {
    "duration": 13,
    "start_time": "2022-06-11T14:19:24.625Z"
   },
   {
    "duration": 52,
    "start_time": "2022-06-11T14:19:24.640Z"
   },
   {
    "duration": 999,
    "start_time": "2022-06-11T14:19:24.694Z"
   },
   {
    "duration": 269,
    "start_time": "2022-06-11T14:19:25.694Z"
   },
   {
    "duration": 94,
    "start_time": "2022-06-11T14:19:25.965Z"
   },
   {
    "duration": 335,
    "start_time": "2022-06-11T14:19:26.061Z"
   },
   {
    "duration": 261,
    "start_time": "2022-06-11T14:19:26.398Z"
   },
   {
    "duration": 20,
    "start_time": "2022-06-11T14:19:26.661Z"
   },
   {
    "duration": 103,
    "start_time": "2022-06-11T14:19:26.683Z"
   },
   {
    "duration": 271,
    "start_time": "2022-06-11T14:19:26.788Z"
   },
   {
    "duration": 213,
    "start_time": "2022-06-11T14:19:27.061Z"
   },
   {
    "duration": 0,
    "start_time": "2022-06-11T14:19:27.276Z"
   },
   {
    "duration": 0,
    "start_time": "2022-06-11T14:19:27.278Z"
   },
   {
    "duration": 0,
    "start_time": "2022-06-11T14:19:27.279Z"
   },
   {
    "duration": 0,
    "start_time": "2022-06-11T14:19:27.280Z"
   },
   {
    "duration": 0,
    "start_time": "2022-06-11T14:19:27.281Z"
   },
   {
    "duration": 0,
    "start_time": "2022-06-11T14:19:27.282Z"
   },
   {
    "duration": 0,
    "start_time": "2022-06-11T14:19:27.283Z"
   },
   {
    "duration": 0,
    "start_time": "2022-06-11T14:19:27.284Z"
   },
   {
    "duration": 0,
    "start_time": "2022-06-11T14:19:27.286Z"
   },
   {
    "duration": 0,
    "start_time": "2022-06-11T14:19:27.287Z"
   },
   {
    "duration": 0,
    "start_time": "2022-06-11T14:19:27.287Z"
   },
   {
    "duration": 0,
    "start_time": "2022-06-11T14:19:27.288Z"
   },
   {
    "duration": 0,
    "start_time": "2022-06-11T14:19:27.289Z"
   },
   {
    "duration": 0,
    "start_time": "2022-06-11T14:19:27.290Z"
   },
   {
    "duration": 0,
    "start_time": "2022-06-11T14:19:27.291Z"
   },
   {
    "duration": 60,
    "start_time": "2022-06-11T14:19:53.803Z"
   },
   {
    "duration": 10,
    "start_time": "2022-06-11T14:19:57.172Z"
   },
   {
    "duration": 12,
    "start_time": "2022-06-11T14:20:05.206Z"
   },
   {
    "duration": 11,
    "start_time": "2022-06-11T14:20:17.190Z"
   },
   {
    "duration": 1751,
    "start_time": "2022-06-11T14:20:18.366Z"
   },
   {
    "duration": 60,
    "start_time": "2022-06-11T14:20:24.152Z"
   },
   {
    "duration": 71,
    "start_time": "2022-06-11T14:20:25.259Z"
   },
   {
    "duration": 219,
    "start_time": "2022-06-11T14:20:34.113Z"
   },
   {
    "duration": 258,
    "start_time": "2022-06-11T14:21:10.950Z"
   },
   {
    "duration": 19,
    "start_time": "2022-06-11T14:21:19.503Z"
   },
   {
    "duration": 5,
    "start_time": "2022-06-11T14:23:58.933Z"
   },
   {
    "duration": 1281,
    "start_time": "2022-06-11T14:25:42.012Z"
   },
   {
    "duration": 1036,
    "start_time": "2022-06-11T14:25:43.295Z"
   },
   {
    "duration": 158,
    "start_time": "2022-06-11T14:25:44.335Z"
   },
   {
    "duration": 149,
    "start_time": "2022-06-11T14:25:44.495Z"
   },
   {
    "duration": 157,
    "start_time": "2022-06-11T14:25:44.646Z"
   },
   {
    "duration": 14,
    "start_time": "2022-06-11T14:25:44.805Z"
   },
   {
    "duration": 87,
    "start_time": "2022-06-11T14:25:44.821Z"
   },
   {
    "duration": 13,
    "start_time": "2022-06-11T14:25:44.910Z"
   },
   {
    "duration": 151,
    "start_time": "2022-06-11T14:25:44.926Z"
   },
   {
    "duration": 24,
    "start_time": "2022-06-11T14:25:45.079Z"
   },
   {
    "duration": 568,
    "start_time": "2022-06-11T14:25:45.105Z"
   },
   {
    "duration": 604,
    "start_time": "2022-06-11T14:25:45.675Z"
   },
   {
    "duration": 572,
    "start_time": "2022-06-11T14:25:46.281Z"
   },
   {
    "duration": 26,
    "start_time": "2022-06-11T14:25:46.855Z"
   },
   {
    "duration": 72,
    "start_time": "2022-06-11T14:25:46.883Z"
   },
   {
    "duration": 47,
    "start_time": "2022-06-11T14:25:46.964Z"
   },
   {
    "duration": 162,
    "start_time": "2022-06-11T14:25:47.013Z"
   },
   {
    "duration": 1041,
    "start_time": "2022-06-11T14:25:47.177Z"
   },
   {
    "duration": 14,
    "start_time": "2022-06-11T14:25:48.220Z"
   },
   {
    "duration": 62,
    "start_time": "2022-06-11T14:25:48.236Z"
   },
   {
    "duration": 901,
    "start_time": "2022-06-11T14:25:48.299Z"
   },
   {
    "duration": 120,
    "start_time": "2022-06-11T14:25:49.201Z"
   },
   {
    "duration": 56,
    "start_time": "2022-06-11T14:25:49.322Z"
   },
   {
    "duration": 167,
    "start_time": "2022-06-11T14:25:49.380Z"
   },
   {
    "duration": 120,
    "start_time": "2022-06-11T14:25:49.549Z"
   },
   {
    "duration": 29,
    "start_time": "2022-06-11T14:25:49.675Z"
   },
   {
    "duration": 66,
    "start_time": "2022-06-11T14:25:49.708Z"
   },
   {
    "duration": 121,
    "start_time": "2022-06-11T14:25:49.776Z"
   },
   {
    "duration": 77,
    "start_time": "2022-06-11T14:25:49.899Z"
   },
   {
    "duration": 10,
    "start_time": "2022-06-11T14:25:49.977Z"
   },
   {
    "duration": 1873,
    "start_time": "2022-06-11T14:25:49.988Z"
   },
   {
    "duration": 54,
    "start_time": "2022-06-11T14:25:51.865Z"
   },
   {
    "duration": 89,
    "start_time": "2022-06-11T14:25:51.921Z"
   },
   {
    "duration": 150,
    "start_time": "2022-06-11T14:25:52.013Z"
   },
   {
    "duration": 0,
    "start_time": "2022-06-11T14:25:52.169Z"
   },
   {
    "duration": 0,
    "start_time": "2022-06-11T14:25:52.170Z"
   },
   {
    "duration": 0,
    "start_time": "2022-06-11T14:25:52.170Z"
   },
   {
    "duration": 0,
    "start_time": "2022-06-11T14:25:52.172Z"
   },
   {
    "duration": 0,
    "start_time": "2022-06-11T14:25:52.173Z"
   },
   {
    "duration": 0,
    "start_time": "2022-06-11T14:25:52.174Z"
   },
   {
    "duration": 0,
    "start_time": "2022-06-11T14:25:52.179Z"
   },
   {
    "duration": 0,
    "start_time": "2022-06-11T14:25:52.181Z"
   },
   {
    "duration": 0,
    "start_time": "2022-06-11T14:25:52.182Z"
   },
   {
    "duration": 0,
    "start_time": "2022-06-11T14:25:52.183Z"
   },
   {
    "duration": 5,
    "start_time": "2022-06-11T14:26:08.824Z"
   },
   {
    "duration": 15,
    "start_time": "2022-06-11T14:26:22.099Z"
   },
   {
    "duration": 12,
    "start_time": "2022-06-11T14:36:56.390Z"
   },
   {
    "duration": 6,
    "start_time": "2022-06-11T14:37:10.393Z"
   },
   {
    "duration": 19,
    "start_time": "2022-06-11T14:37:18.437Z"
   },
   {
    "duration": 13,
    "start_time": "2022-06-11T14:38:10.741Z"
   },
   {
    "duration": 5,
    "start_time": "2022-06-11T14:38:20.584Z"
   },
   {
    "duration": 14,
    "start_time": "2022-06-11T14:41:15.629Z"
   },
   {
    "duration": 5,
    "start_time": "2022-06-11T14:41:27.833Z"
   },
   {
    "duration": 36,
    "start_time": "2022-06-11T14:44:25.240Z"
   },
   {
    "duration": 21,
    "start_time": "2022-06-11T14:45:59.556Z"
   },
   {
    "duration": 415,
    "start_time": "2022-06-11T14:46:00.888Z"
   },
   {
    "duration": 484,
    "start_time": "2022-06-11T14:46:04.607Z"
   },
   {
    "duration": 2242,
    "start_time": "2022-06-11T14:54:57.476Z"
   },
   {
    "duration": 2070,
    "start_time": "2022-06-11T14:54:59.758Z"
   },
   {
    "duration": 288,
    "start_time": "2022-06-11T14:55:01.840Z"
   },
   {
    "duration": 273,
    "start_time": "2022-06-11T14:55:02.134Z"
   },
   {
    "duration": 257,
    "start_time": "2022-06-11T14:55:02.410Z"
   },
   {
    "duration": 19,
    "start_time": "2022-06-11T14:55:02.670Z"
   },
   {
    "duration": 113,
    "start_time": "2022-06-11T14:55:02.692Z"
   },
   {
    "duration": 25,
    "start_time": "2022-06-11T14:55:02.813Z"
   },
   {
    "duration": 252,
    "start_time": "2022-06-11T14:55:02.842Z"
   },
   {
    "duration": 69,
    "start_time": "2022-06-11T14:55:03.096Z"
   },
   {
    "duration": 810,
    "start_time": "2022-06-11T14:55:03.168Z"
   },
   {
    "duration": 896,
    "start_time": "2022-06-11T14:55:03.991Z"
   },
   {
    "duration": 773,
    "start_time": "2022-06-11T14:55:04.895Z"
   },
   {
    "duration": 39,
    "start_time": "2022-06-11T14:55:05.680Z"
   },
   {
    "duration": 87,
    "start_time": "2022-06-11T14:55:05.721Z"
   },
   {
    "duration": 54,
    "start_time": "2022-06-11T14:55:05.810Z"
   },
   {
    "duration": 302,
    "start_time": "2022-06-11T14:55:05.867Z"
   },
   {
    "duration": 1459,
    "start_time": "2022-06-11T14:55:06.176Z"
   },
   {
    "duration": 15,
    "start_time": "2022-06-11T14:55:07.639Z"
   },
   {
    "duration": 61,
    "start_time": "2022-06-11T14:55:07.656Z"
   },
   {
    "duration": 1260,
    "start_time": "2022-06-11T14:55:07.723Z"
   },
   {
    "duration": 181,
    "start_time": "2022-06-11T14:55:08.985Z"
   },
   {
    "duration": 55,
    "start_time": "2022-06-11T14:55:09.168Z"
   },
   {
    "duration": 240,
    "start_time": "2022-06-11T14:55:09.225Z"
   },
   {
    "duration": 161,
    "start_time": "2022-06-11T14:55:09.467Z"
   },
   {
    "duration": 43,
    "start_time": "2022-06-11T14:55:09.630Z"
   },
   {
    "duration": 84,
    "start_time": "2022-06-11T14:55:09.679Z"
   },
   {
    "duration": 181,
    "start_time": "2022-06-11T14:55:09.767Z"
   },
   {
    "duration": 83,
    "start_time": "2022-06-11T14:55:09.950Z"
   },
   {
    "duration": 12,
    "start_time": "2022-06-11T14:55:10.035Z"
   },
   {
    "duration": 2794,
    "start_time": "2022-06-11T14:55:10.048Z"
   },
   {
    "duration": 86,
    "start_time": "2022-06-11T14:55:12.844Z"
   },
   {
    "duration": 193,
    "start_time": "2022-06-11T14:55:12.933Z"
   },
   {
    "duration": 0,
    "start_time": "2022-06-11T14:55:13.128Z"
   },
   {
    "duration": 0,
    "start_time": "2022-06-11T14:55:13.130Z"
   },
   {
    "duration": 0,
    "start_time": "2022-06-11T14:55:13.131Z"
   },
   {
    "duration": 0,
    "start_time": "2022-06-11T14:55:13.133Z"
   },
   {
    "duration": 0,
    "start_time": "2022-06-11T14:55:13.134Z"
   },
   {
    "duration": 0,
    "start_time": "2022-06-11T14:55:13.135Z"
   },
   {
    "duration": 0,
    "start_time": "2022-06-11T14:55:13.136Z"
   },
   {
    "duration": 0,
    "start_time": "2022-06-11T14:55:13.138Z"
   },
   {
    "duration": 0,
    "start_time": "2022-06-11T14:55:13.139Z"
   },
   {
    "duration": 0,
    "start_time": "2022-06-11T14:55:13.139Z"
   },
   {
    "duration": 0,
    "start_time": "2022-06-11T14:55:13.141Z"
   },
   {
    "duration": 0,
    "start_time": "2022-06-11T14:55:13.142Z"
   },
   {
    "duration": 0,
    "start_time": "2022-06-11T14:55:13.143Z"
   },
   {
    "duration": 94,
    "start_time": "2022-06-11T14:55:49.337Z"
   },
   {
    "duration": 549,
    "start_time": "2022-06-11T14:55:58.198Z"
   },
   {
    "duration": 17,
    "start_time": "2022-06-11T14:56:00.206Z"
   },
   {
    "duration": 87,
    "start_time": "2022-06-11T14:56:21.145Z"
   },
   {
    "duration": 1331,
    "start_time": "2022-06-11T14:58:56.200Z"
   },
   {
    "duration": 2381,
    "start_time": "2022-06-11T14:58:57.534Z"
   },
   {
    "duration": 503,
    "start_time": "2022-06-11T14:58:59.916Z"
   },
   {
    "duration": 289,
    "start_time": "2022-06-11T14:59:00.457Z"
   },
   {
    "duration": 202,
    "start_time": "2022-06-11T14:59:00.749Z"
   },
   {
    "duration": 24,
    "start_time": "2022-06-11T14:59:00.953Z"
   },
   {
    "duration": 94,
    "start_time": "2022-06-11T14:59:00.979Z"
   },
   {
    "duration": 16,
    "start_time": "2022-06-11T14:59:01.076Z"
   },
   {
    "duration": 225,
    "start_time": "2022-06-11T14:59:01.094Z"
   },
   {
    "duration": 24,
    "start_time": "2022-06-11T14:59:01.321Z"
   },
   {
    "duration": 717,
    "start_time": "2022-06-11T14:59:01.346Z"
   },
   {
    "duration": 849,
    "start_time": "2022-06-11T14:59:02.066Z"
   },
   {
    "duration": 680,
    "start_time": "2022-06-11T14:59:02.917Z"
   },
   {
    "duration": 31,
    "start_time": "2022-06-11T14:59:03.602Z"
   },
   {
    "duration": 87,
    "start_time": "2022-06-11T14:59:03.635Z"
   },
   {
    "duration": 58,
    "start_time": "2022-06-11T14:59:03.725Z"
   },
   {
    "duration": 262,
    "start_time": "2022-06-11T14:59:03.785Z"
   },
   {
    "duration": 1426,
    "start_time": "2022-06-11T14:59:04.049Z"
   },
   {
    "duration": 23,
    "start_time": "2022-06-11T14:59:05.483Z"
   },
   {
    "duration": 75,
    "start_time": "2022-06-11T14:59:05.509Z"
   },
   {
    "duration": 1153,
    "start_time": "2022-06-11T14:59:05.587Z"
   },
   {
    "duration": 174,
    "start_time": "2022-06-11T14:59:06.742Z"
   },
   {
    "duration": 77,
    "start_time": "2022-06-11T14:59:06.918Z"
   },
   {
    "duration": 223,
    "start_time": "2022-06-11T14:59:07.001Z"
   },
   {
    "duration": 159,
    "start_time": "2022-06-11T14:59:07.227Z"
   },
   {
    "duration": 29,
    "start_time": "2022-06-11T14:59:07.391Z"
   },
   {
    "duration": 82,
    "start_time": "2022-06-11T14:59:07.421Z"
   },
   {
    "duration": 142,
    "start_time": "2022-06-11T14:59:07.505Z"
   },
   {
    "duration": 89,
    "start_time": "2022-06-11T14:59:07.649Z"
   },
   {
    "duration": 28,
    "start_time": "2022-06-11T14:59:07.740Z"
   },
   {
    "duration": 2319,
    "start_time": "2022-06-11T14:59:07.770Z"
   },
   {
    "duration": 78,
    "start_time": "2022-06-11T14:59:10.094Z"
   },
   {
    "duration": 164,
    "start_time": "2022-06-11T14:59:10.174Z"
   },
   {
    "duration": 0,
    "start_time": "2022-06-11T14:59:10.340Z"
   },
   {
    "duration": 0,
    "start_time": "2022-06-11T14:59:10.341Z"
   },
   {
    "duration": 1,
    "start_time": "2022-06-11T14:59:10.342Z"
   },
   {
    "duration": 0,
    "start_time": "2022-06-11T14:59:10.344Z"
   },
   {
    "duration": 0,
    "start_time": "2022-06-11T14:59:10.345Z"
   },
   {
    "duration": 0,
    "start_time": "2022-06-11T14:59:10.368Z"
   },
   {
    "duration": 0,
    "start_time": "2022-06-11T14:59:10.371Z"
   },
   {
    "duration": 0,
    "start_time": "2022-06-11T14:59:10.373Z"
   },
   {
    "duration": 0,
    "start_time": "2022-06-11T14:59:10.374Z"
   },
   {
    "duration": 0,
    "start_time": "2022-06-11T14:59:10.375Z"
   },
   {
    "duration": 0,
    "start_time": "2022-06-11T14:59:10.377Z"
   },
   {
    "duration": 0,
    "start_time": "2022-06-11T14:59:10.378Z"
   },
   {
    "duration": 0,
    "start_time": "2022-06-11T14:59:10.380Z"
   },
   {
    "duration": 116,
    "start_time": "2022-06-11T14:59:14.890Z"
   },
   {
    "duration": 569,
    "start_time": "2022-06-11T14:59:33.339Z"
   },
   {
    "duration": 2438,
    "start_time": "2022-06-11T15:00:48.778Z"
   },
   {
    "duration": 2076,
    "start_time": "2022-06-11T15:00:51.220Z"
   },
   {
    "duration": 227,
    "start_time": "2022-06-11T15:00:53.306Z"
   },
   {
    "duration": 235,
    "start_time": "2022-06-11T15:00:53.535Z"
   },
   {
    "duration": 276,
    "start_time": "2022-06-11T15:00:53.774Z"
   },
   {
    "duration": 32,
    "start_time": "2022-06-11T15:00:54.051Z"
   },
   {
    "duration": 109,
    "start_time": "2022-06-11T15:00:54.085Z"
   },
   {
    "duration": 14,
    "start_time": "2022-06-11T15:00:54.203Z"
   },
   {
    "duration": 215,
    "start_time": "2022-06-11T15:00:54.219Z"
   },
   {
    "duration": 39,
    "start_time": "2022-06-11T15:00:54.437Z"
   },
   {
    "duration": 912,
    "start_time": "2022-06-11T15:00:54.478Z"
   },
   {
    "duration": 798,
    "start_time": "2022-06-11T15:00:55.392Z"
   },
   {
    "duration": 707,
    "start_time": "2022-06-11T15:00:56.193Z"
   },
   {
    "duration": 31,
    "start_time": "2022-06-11T15:00:56.904Z"
   },
   {
    "duration": 101,
    "start_time": "2022-06-11T15:00:56.937Z"
   },
   {
    "duration": 29,
    "start_time": "2022-06-11T15:00:57.040Z"
   },
   {
    "duration": 259,
    "start_time": "2022-06-11T15:00:57.071Z"
   },
   {
    "duration": 1437,
    "start_time": "2022-06-11T15:00:57.332Z"
   },
   {
    "duration": 18,
    "start_time": "2022-06-11T15:00:58.771Z"
   },
   {
    "duration": 89,
    "start_time": "2022-06-11T15:00:58.791Z"
   },
   {
    "duration": 1229,
    "start_time": "2022-06-11T15:00:58.883Z"
   },
   {
    "duration": 158,
    "start_time": "2022-06-11T15:01:00.117Z"
   },
   {
    "duration": 130,
    "start_time": "2022-06-11T15:01:00.279Z"
   },
   {
    "duration": 231,
    "start_time": "2022-06-11T15:01:00.411Z"
   },
   {
    "duration": 164,
    "start_time": "2022-06-11T15:01:00.644Z"
   },
   {
    "duration": 30,
    "start_time": "2022-06-11T15:01:00.811Z"
   },
   {
    "duration": 96,
    "start_time": "2022-06-11T15:01:00.843Z"
   },
   {
    "duration": 187,
    "start_time": "2022-06-11T15:01:00.941Z"
   },
   {
    "duration": 92,
    "start_time": "2022-06-11T15:01:01.130Z"
   },
   {
    "duration": 13,
    "start_time": "2022-06-11T15:01:01.224Z"
   },
   {
    "duration": 2977,
    "start_time": "2022-06-11T15:01:01.239Z"
   },
   {
    "duration": 77,
    "start_time": "2022-06-11T15:01:04.220Z"
   },
   {
    "duration": 184,
    "start_time": "2022-06-11T15:01:04.301Z"
   },
   {
    "duration": 0,
    "start_time": "2022-06-11T15:01:04.490Z"
   },
   {
    "duration": 0,
    "start_time": "2022-06-11T15:01:04.496Z"
   },
   {
    "duration": 0,
    "start_time": "2022-06-11T15:01:04.498Z"
   },
   {
    "duration": 0,
    "start_time": "2022-06-11T15:01:04.499Z"
   },
   {
    "duration": 0,
    "start_time": "2022-06-11T15:01:04.501Z"
   },
   {
    "duration": 0,
    "start_time": "2022-06-11T15:01:04.516Z"
   },
   {
    "duration": 0,
    "start_time": "2022-06-11T15:01:04.518Z"
   },
   {
    "duration": 0,
    "start_time": "2022-06-11T15:01:04.520Z"
   },
   {
    "duration": 0,
    "start_time": "2022-06-11T15:01:04.521Z"
   },
   {
    "duration": 0,
    "start_time": "2022-06-11T15:01:04.522Z"
   },
   {
    "duration": 0,
    "start_time": "2022-06-11T15:01:04.524Z"
   },
   {
    "duration": 0,
    "start_time": "2022-06-11T15:01:04.525Z"
   },
   {
    "duration": 0,
    "start_time": "2022-06-11T15:01:04.527Z"
   },
   {
    "duration": 107,
    "start_time": "2022-06-11T15:01:07.558Z"
   },
   {
    "duration": 533,
    "start_time": "2022-06-11T15:01:18.421Z"
   },
   {
    "duration": 670,
    "start_time": "2022-06-11T15:01:21.617Z"
   },
   {
    "duration": 1586,
    "start_time": "2022-06-11T15:04:32.438Z"
   },
   {
    "duration": 1257,
    "start_time": "2022-06-11T15:04:34.027Z"
   },
   {
    "duration": 195,
    "start_time": "2022-06-11T15:04:35.286Z"
   },
   {
    "duration": 216,
    "start_time": "2022-06-11T15:04:35.483Z"
   },
   {
    "duration": 197,
    "start_time": "2022-06-11T15:04:35.703Z"
   },
   {
    "duration": 30,
    "start_time": "2022-06-11T15:04:35.902Z"
   },
   {
    "duration": 85,
    "start_time": "2022-06-11T15:04:35.934Z"
   },
   {
    "duration": 21,
    "start_time": "2022-06-11T15:04:36.021Z"
   },
   {
    "duration": 224,
    "start_time": "2022-06-11T15:04:36.045Z"
   },
   {
    "duration": 35,
    "start_time": "2022-06-11T15:04:36.278Z"
   },
   {
    "duration": 703,
    "start_time": "2022-06-11T15:04:36.316Z"
   },
   {
    "duration": 694,
    "start_time": "2022-06-11T15:04:37.021Z"
   },
   {
    "duration": 691,
    "start_time": "2022-06-11T15:04:37.718Z"
   },
   {
    "duration": 34,
    "start_time": "2022-06-11T15:04:38.416Z"
   },
   {
    "duration": 136,
    "start_time": "2022-06-11T15:04:38.452Z"
   },
   {
    "duration": 63,
    "start_time": "2022-06-11T15:04:38.590Z"
   },
   {
    "duration": 248,
    "start_time": "2022-06-11T15:04:38.655Z"
   },
   {
    "duration": 1445,
    "start_time": "2022-06-11T15:04:38.906Z"
   },
   {
    "duration": 33,
    "start_time": "2022-06-11T15:04:40.353Z"
   },
   {
    "duration": 102,
    "start_time": "2022-06-11T15:04:40.389Z"
   },
   {
    "duration": 1163,
    "start_time": "2022-06-11T15:04:40.494Z"
   },
   {
    "duration": 180,
    "start_time": "2022-06-11T15:04:41.662Z"
   },
   {
    "duration": 66,
    "start_time": "2022-06-11T15:04:41.844Z"
   },
   {
    "duration": 262,
    "start_time": "2022-06-11T15:04:41.912Z"
   },
   {
    "duration": 179,
    "start_time": "2022-06-11T15:04:42.177Z"
   },
   {
    "duration": 41,
    "start_time": "2022-06-11T15:04:42.366Z"
   },
   {
    "duration": 129,
    "start_time": "2022-06-11T15:04:42.409Z"
   },
   {
    "duration": 205,
    "start_time": "2022-06-11T15:04:42.540Z"
   },
   {
    "duration": 84,
    "start_time": "2022-06-11T15:04:42.747Z"
   },
   {
    "duration": 10,
    "start_time": "2022-06-11T15:04:42.833Z"
   },
   {
    "duration": 2406,
    "start_time": "2022-06-11T15:04:42.846Z"
   },
   {
    "duration": 71,
    "start_time": "2022-06-11T15:04:45.254Z"
   },
   {
    "duration": 111,
    "start_time": "2022-06-11T15:04:45.326Z"
   },
   {
    "duration": 15,
    "start_time": "2022-06-11T15:04:45.438Z"
   },
   {
    "duration": 551,
    "start_time": "2022-06-11T15:04:45.459Z"
   },
   {
    "duration": 597,
    "start_time": "2022-06-11T15:04:46.017Z"
   },
   {
    "duration": 136,
    "start_time": "2022-06-11T15:04:46.617Z"
   },
   {
    "duration": 0,
    "start_time": "2022-06-11T15:04:46.759Z"
   },
   {
    "duration": 0,
    "start_time": "2022-06-11T15:04:46.760Z"
   },
   {
    "duration": 0,
    "start_time": "2022-06-11T15:04:46.761Z"
   },
   {
    "duration": 0,
    "start_time": "2022-06-11T15:04:46.762Z"
   },
   {
    "duration": 0,
    "start_time": "2022-06-11T15:04:46.763Z"
   },
   {
    "duration": 0,
    "start_time": "2022-06-11T15:04:46.764Z"
   },
   {
    "duration": 0,
    "start_time": "2022-06-11T15:04:46.768Z"
   },
   {
    "duration": 39,
    "start_time": "2022-06-11T15:09:57.247Z"
   },
   {
    "duration": 72,
    "start_time": "2022-06-11T15:12:53.434Z"
   },
   {
    "duration": 253426,
    "start_time": "2022-06-11T15:19:21.093Z"
   },
   {
    "duration": 11762,
    "start_time": "2022-06-11T16:23:45.104Z"
   },
   {
    "duration": 8,
    "start_time": "2022-06-11T16:45:50.368Z"
   },
   {
    "duration": 1284,
    "start_time": "2022-06-11T16:52:53.549Z"
   },
   {
    "duration": 2717,
    "start_time": "2022-06-11T16:52:54.835Z"
   },
   {
    "duration": 145,
    "start_time": "2022-06-11T16:52:57.554Z"
   },
   {
    "duration": 150,
    "start_time": "2022-06-11T16:52:57.702Z"
   },
   {
    "duration": 148,
    "start_time": "2022-06-11T16:52:57.853Z"
   },
   {
    "duration": 12,
    "start_time": "2022-06-11T16:52:58.003Z"
   },
   {
    "duration": 83,
    "start_time": "2022-06-11T16:52:58.016Z"
   },
   {
    "duration": 14,
    "start_time": "2022-06-11T16:52:58.101Z"
   },
   {
    "duration": 152,
    "start_time": "2022-06-11T16:52:58.117Z"
   },
   {
    "duration": 23,
    "start_time": "2022-06-11T16:52:58.273Z"
   },
   {
    "duration": 537,
    "start_time": "2022-06-11T16:52:58.298Z"
   },
   {
    "duration": 551,
    "start_time": "2022-06-11T16:52:58.837Z"
   },
   {
    "duration": 499,
    "start_time": "2022-06-11T16:52:59.390Z"
   },
   {
    "duration": 20,
    "start_time": "2022-06-11T16:52:59.891Z"
   },
   {
    "duration": 56,
    "start_time": "2022-06-11T16:52:59.913Z"
   },
   {
    "duration": 33,
    "start_time": "2022-06-11T16:52:59.970Z"
   },
   {
    "duration": 158,
    "start_time": "2022-06-11T16:53:00.006Z"
   },
   {
    "duration": 994,
    "start_time": "2022-06-11T16:53:00.165Z"
   },
   {
    "duration": 59,
    "start_time": "2022-06-11T16:53:01.161Z"
   },
   {
    "duration": 120,
    "start_time": "2022-06-11T16:53:01.222Z"
   },
   {
    "duration": 0,
    "start_time": "2022-06-11T16:53:01.345Z"
   },
   {
    "duration": 0,
    "start_time": "2022-06-11T16:53:01.346Z"
   },
   {
    "duration": 0,
    "start_time": "2022-06-11T16:53:01.347Z"
   },
   {
    "duration": 0,
    "start_time": "2022-06-11T16:53:01.348Z"
   },
   {
    "duration": 0,
    "start_time": "2022-06-11T16:53:01.358Z"
   },
   {
    "duration": 0,
    "start_time": "2022-06-11T16:53:01.359Z"
   },
   {
    "duration": 0,
    "start_time": "2022-06-11T16:53:01.360Z"
   },
   {
    "duration": 0,
    "start_time": "2022-06-11T16:53:01.361Z"
   },
   {
    "duration": 0,
    "start_time": "2022-06-11T16:53:01.362Z"
   },
   {
    "duration": 0,
    "start_time": "2022-06-11T16:53:01.363Z"
   },
   {
    "duration": 0,
    "start_time": "2022-06-11T16:53:01.365Z"
   },
   {
    "duration": 0,
    "start_time": "2022-06-11T16:53:01.366Z"
   },
   {
    "duration": 0,
    "start_time": "2022-06-11T16:53:01.367Z"
   },
   {
    "duration": 0,
    "start_time": "2022-06-11T16:53:01.367Z"
   },
   {
    "duration": 0,
    "start_time": "2022-06-11T16:53:01.368Z"
   },
   {
    "duration": 0,
    "start_time": "2022-06-11T16:53:01.370Z"
   },
   {
    "duration": 0,
    "start_time": "2022-06-11T16:53:01.370Z"
   },
   {
    "duration": 0,
    "start_time": "2022-06-11T16:53:01.371Z"
   },
   {
    "duration": 0,
    "start_time": "2022-06-11T16:53:01.372Z"
   },
   {
    "duration": 0,
    "start_time": "2022-06-11T16:53:01.373Z"
   },
   {
    "duration": 0,
    "start_time": "2022-06-11T16:53:01.374Z"
   },
   {
    "duration": 0,
    "start_time": "2022-06-11T16:53:01.376Z"
   },
   {
    "duration": 0,
    "start_time": "2022-06-11T16:53:01.377Z"
   },
   {
    "duration": 0,
    "start_time": "2022-06-11T16:53:01.378Z"
   },
   {
    "duration": 0,
    "start_time": "2022-06-11T16:53:01.378Z"
   },
   {
    "duration": 31,
    "start_time": "2022-06-11T16:54:43.637Z"
   },
   {
    "duration": 1237,
    "start_time": "2022-06-11T16:58:14.113Z"
   },
   {
    "duration": 1016,
    "start_time": "2022-06-11T16:58:15.352Z"
   },
   {
    "duration": 396,
    "start_time": "2022-06-11T16:58:16.369Z"
   },
   {
    "duration": 238,
    "start_time": "2022-06-11T16:58:16.767Z"
   },
   {
    "duration": 236,
    "start_time": "2022-06-11T16:58:17.059Z"
   },
   {
    "duration": 64,
    "start_time": "2022-06-11T16:58:17.296Z"
   },
   {
    "duration": 111,
    "start_time": "2022-06-11T16:58:17.362Z"
   },
   {
    "duration": 12,
    "start_time": "2022-06-11T16:58:17.475Z"
   },
   {
    "duration": 284,
    "start_time": "2022-06-11T16:58:17.489Z"
   },
   {
    "duration": 88,
    "start_time": "2022-06-11T16:58:17.777Z"
   },
   {
    "duration": 718,
    "start_time": "2022-06-11T16:58:17.867Z"
   },
   {
    "duration": 601,
    "start_time": "2022-06-11T16:58:18.587Z"
   },
   {
    "duration": 526,
    "start_time": "2022-06-11T16:58:19.190Z"
   },
   {
    "duration": 23,
    "start_time": "2022-06-11T16:58:19.717Z"
   },
   {
    "duration": 54,
    "start_time": "2022-06-11T16:58:19.742Z"
   },
   {
    "duration": 32,
    "start_time": "2022-06-11T16:58:19.798Z"
   },
   {
    "duration": 184,
    "start_time": "2022-06-11T16:58:19.832Z"
   },
   {
    "duration": 1006,
    "start_time": "2022-06-11T16:58:20.018Z"
   },
   {
    "duration": 40,
    "start_time": "2022-06-11T16:58:21.026Z"
   },
   {
    "duration": 195,
    "start_time": "2022-06-11T16:58:21.068Z"
   },
   {
    "duration": 110,
    "start_time": "2022-06-11T16:58:21.264Z"
   },
   {
    "duration": 0,
    "start_time": "2022-06-11T16:58:21.377Z"
   },
   {
    "duration": 0,
    "start_time": "2022-06-11T16:58:21.378Z"
   },
   {
    "duration": 0,
    "start_time": "2022-06-11T16:58:21.379Z"
   },
   {
    "duration": 0,
    "start_time": "2022-06-11T16:58:21.380Z"
   },
   {
    "duration": 0,
    "start_time": "2022-06-11T16:58:21.381Z"
   },
   {
    "duration": 0,
    "start_time": "2022-06-11T16:58:21.381Z"
   },
   {
    "duration": 0,
    "start_time": "2022-06-11T16:58:21.382Z"
   },
   {
    "duration": 0,
    "start_time": "2022-06-11T16:58:21.383Z"
   },
   {
    "duration": 0,
    "start_time": "2022-06-11T16:58:21.384Z"
   },
   {
    "duration": 0,
    "start_time": "2022-06-11T16:58:21.385Z"
   },
   {
    "duration": 0,
    "start_time": "2022-06-11T16:58:21.386Z"
   },
   {
    "duration": 0,
    "start_time": "2022-06-11T16:58:21.387Z"
   },
   {
    "duration": 0,
    "start_time": "2022-06-11T16:58:21.388Z"
   },
   {
    "duration": 0,
    "start_time": "2022-06-11T16:58:21.389Z"
   },
   {
    "duration": 0,
    "start_time": "2022-06-11T16:58:21.390Z"
   },
   {
    "duration": 0,
    "start_time": "2022-06-11T16:58:21.391Z"
   },
   {
    "duration": 0,
    "start_time": "2022-06-11T16:58:21.392Z"
   },
   {
    "duration": 0,
    "start_time": "2022-06-11T16:58:21.393Z"
   },
   {
    "duration": 0,
    "start_time": "2022-06-11T16:58:21.394Z"
   },
   {
    "duration": 0,
    "start_time": "2022-06-11T16:58:21.395Z"
   },
   {
    "duration": 0,
    "start_time": "2022-06-11T16:58:21.396Z"
   },
   {
    "duration": 0,
    "start_time": "2022-06-11T16:58:21.397Z"
   },
   {
    "duration": 0,
    "start_time": "2022-06-11T16:58:21.398Z"
   },
   {
    "duration": 0,
    "start_time": "2022-06-11T16:58:21.399Z"
   },
   {
    "duration": 0,
    "start_time": "2022-06-11T16:58:21.400Z"
   },
   {
    "duration": 178,
    "start_time": "2022-06-11T16:58:47.913Z"
   },
   {
    "duration": 903,
    "start_time": "2022-06-11T16:58:59.195Z"
   },
   {
    "duration": 242,
    "start_time": "2022-06-11T16:59:17.628Z"
   },
   {
    "duration": 890,
    "start_time": "2022-06-11T16:59:29.680Z"
   },
   {
    "duration": 50,
    "start_time": "2022-06-11T17:00:17.286Z"
   },
   {
    "duration": 920,
    "start_time": "2022-06-11T17:00:18.140Z"
   },
   {
    "duration": 154,
    "start_time": "2022-06-11T17:00:36.859Z"
   },
   {
    "duration": 57,
    "start_time": "2022-06-11T17:01:05.807Z"
   },
   {
    "duration": 793,
    "start_time": "2022-06-11T17:01:07.721Z"
   },
   {
    "duration": 111,
    "start_time": "2022-06-11T17:01:11.532Z"
   },
   {
    "duration": 1142,
    "start_time": "2022-06-11T17:01:50.301Z"
   },
   {
    "duration": 1005,
    "start_time": "2022-06-11T17:01:51.445Z"
   },
   {
    "duration": 176,
    "start_time": "2022-06-11T17:01:52.452Z"
   },
   {
    "duration": 138,
    "start_time": "2022-06-11T17:01:52.630Z"
   },
   {
    "duration": 145,
    "start_time": "2022-06-11T17:01:52.770Z"
   },
   {
    "duration": 12,
    "start_time": "2022-06-11T17:01:52.916Z"
   },
   {
    "duration": 71,
    "start_time": "2022-06-11T17:01:52.930Z"
   },
   {
    "duration": 13,
    "start_time": "2022-06-11T17:01:53.003Z"
   },
   {
    "duration": 149,
    "start_time": "2022-06-11T17:01:53.017Z"
   },
   {
    "duration": 21,
    "start_time": "2022-06-11T17:01:53.168Z"
   },
   {
    "duration": 514,
    "start_time": "2022-06-11T17:01:53.190Z"
   },
   {
    "duration": 543,
    "start_time": "2022-06-11T17:01:53.706Z"
   },
   {
    "duration": 500,
    "start_time": "2022-06-11T17:01:54.251Z"
   },
   {
    "duration": 20,
    "start_time": "2022-06-11T17:01:54.758Z"
   },
   {
    "duration": 53,
    "start_time": "2022-06-11T17:01:54.779Z"
   },
   {
    "duration": 43,
    "start_time": "2022-06-11T17:01:54.834Z"
   },
   {
    "duration": 149,
    "start_time": "2022-06-11T17:01:54.879Z"
   },
   {
    "duration": 990,
    "start_time": "2022-06-11T17:01:55.029Z"
   },
   {
    "duration": 29,
    "start_time": "2022-06-11T17:01:56.020Z"
   },
   {
    "duration": 114,
    "start_time": "2022-06-11T17:01:56.050Z"
   },
   {
    "duration": 0,
    "start_time": "2022-06-11T17:01:56.166Z"
   },
   {
    "duration": 0,
    "start_time": "2022-06-11T17:01:56.167Z"
   },
   {
    "duration": 0,
    "start_time": "2022-06-11T17:01:56.169Z"
   },
   {
    "duration": 0,
    "start_time": "2022-06-11T17:01:56.170Z"
   },
   {
    "duration": 0,
    "start_time": "2022-06-11T17:01:56.171Z"
   },
   {
    "duration": 0,
    "start_time": "2022-06-11T17:01:56.172Z"
   },
   {
    "duration": 0,
    "start_time": "2022-06-11T17:01:56.174Z"
   },
   {
    "duration": 0,
    "start_time": "2022-06-11T17:01:56.175Z"
   },
   {
    "duration": 0,
    "start_time": "2022-06-11T17:01:56.175Z"
   },
   {
    "duration": 0,
    "start_time": "2022-06-11T17:01:56.177Z"
   },
   {
    "duration": 0,
    "start_time": "2022-06-11T17:01:56.178Z"
   },
   {
    "duration": 0,
    "start_time": "2022-06-11T17:01:56.178Z"
   },
   {
    "duration": 0,
    "start_time": "2022-06-11T17:01:56.179Z"
   },
   {
    "duration": 0,
    "start_time": "2022-06-11T17:01:56.180Z"
   },
   {
    "duration": 0,
    "start_time": "2022-06-11T17:01:56.182Z"
   },
   {
    "duration": 0,
    "start_time": "2022-06-11T17:01:56.183Z"
   },
   {
    "duration": 0,
    "start_time": "2022-06-11T17:01:56.184Z"
   },
   {
    "duration": 0,
    "start_time": "2022-06-11T17:01:56.185Z"
   },
   {
    "duration": 0,
    "start_time": "2022-06-11T17:01:56.186Z"
   },
   {
    "duration": 0,
    "start_time": "2022-06-11T17:01:56.187Z"
   },
   {
    "duration": 0,
    "start_time": "2022-06-11T17:01:56.188Z"
   },
   {
    "duration": 0,
    "start_time": "2022-06-11T17:01:56.189Z"
   },
   {
    "duration": 0,
    "start_time": "2022-06-11T17:01:56.190Z"
   },
   {
    "duration": 0,
    "start_time": "2022-06-11T17:01:56.191Z"
   },
   {
    "duration": 0,
    "start_time": "2022-06-11T17:01:56.192Z"
   },
   {
    "duration": 0,
    "start_time": "2022-06-11T17:01:56.193Z"
   },
   {
    "duration": 0,
    "start_time": "2022-06-11T17:01:56.194Z"
   },
   {
    "duration": 0,
    "start_time": "2022-06-11T17:01:56.195Z"
   },
   {
    "duration": 13,
    "start_time": "2022-06-11T17:02:31.186Z"
   },
   {
    "duration": 63,
    "start_time": "2022-06-11T17:02:45.429Z"
   },
   {
    "duration": 23,
    "start_time": "2022-06-11T17:03:14.114Z"
   },
   {
    "duration": 12,
    "start_time": "2022-06-11T17:04:22.731Z"
   },
   {
    "duration": 23,
    "start_time": "2022-06-11T17:04:25.362Z"
   },
   {
    "duration": 15,
    "start_time": "2022-06-11T17:07:56.602Z"
   },
   {
    "duration": 1142,
    "start_time": "2022-06-11T17:09:43.306Z"
   },
   {
    "duration": 1925,
    "start_time": "2022-06-11T17:09:44.450Z"
   },
   {
    "duration": 137,
    "start_time": "2022-06-11T17:09:46.380Z"
   },
   {
    "duration": 141,
    "start_time": "2022-06-11T17:09:46.519Z"
   },
   {
    "duration": 140,
    "start_time": "2022-06-11T17:09:46.662Z"
   },
   {
    "duration": 12,
    "start_time": "2022-06-11T17:09:46.803Z"
   },
   {
    "duration": 74,
    "start_time": "2022-06-11T17:09:46.817Z"
   },
   {
    "duration": 12,
    "start_time": "2022-06-11T17:09:46.893Z"
   },
   {
    "duration": 149,
    "start_time": "2022-06-11T17:09:46.908Z"
   },
   {
    "duration": 21,
    "start_time": "2022-06-11T17:09:47.059Z"
   },
   {
    "duration": 499,
    "start_time": "2022-06-11T17:09:47.082Z"
   },
   {
    "duration": 544,
    "start_time": "2022-06-11T17:09:47.582Z"
   },
   {
    "duration": 495,
    "start_time": "2022-06-11T17:09:48.128Z"
   },
   {
    "duration": 22,
    "start_time": "2022-06-11T17:09:48.625Z"
   },
   {
    "duration": 43,
    "start_time": "2022-06-11T17:09:48.659Z"
   },
   {
    "duration": 36,
    "start_time": "2022-06-11T17:09:48.703Z"
   },
   {
    "duration": 153,
    "start_time": "2022-06-11T17:09:48.758Z"
   },
   {
    "duration": 963,
    "start_time": "2022-06-11T17:09:48.913Z"
   },
   {
    "duration": 117,
    "start_time": "2022-06-11T17:09:49.878Z"
   },
   {
    "duration": 0,
    "start_time": "2022-06-11T17:09:49.998Z"
   },
   {
    "duration": 0,
    "start_time": "2022-06-11T17:09:50.000Z"
   },
   {
    "duration": 0,
    "start_time": "2022-06-11T17:09:50.001Z"
   },
   {
    "duration": 0,
    "start_time": "2022-06-11T17:09:50.002Z"
   },
   {
    "duration": 0,
    "start_time": "2022-06-11T17:09:50.004Z"
   },
   {
    "duration": 0,
    "start_time": "2022-06-11T17:09:50.005Z"
   },
   {
    "duration": 0,
    "start_time": "2022-06-11T17:09:50.006Z"
   },
   {
    "duration": 0,
    "start_time": "2022-06-11T17:09:50.008Z"
   },
   {
    "duration": 0,
    "start_time": "2022-06-11T17:09:50.008Z"
   },
   {
    "duration": 0,
    "start_time": "2022-06-11T17:09:50.010Z"
   },
   {
    "duration": 0,
    "start_time": "2022-06-11T17:09:50.011Z"
   },
   {
    "duration": 0,
    "start_time": "2022-06-11T17:09:50.012Z"
   },
   {
    "duration": 0,
    "start_time": "2022-06-11T17:09:50.013Z"
   },
   {
    "duration": 0,
    "start_time": "2022-06-11T17:09:50.013Z"
   },
   {
    "duration": 0,
    "start_time": "2022-06-11T17:09:50.015Z"
   },
   {
    "duration": 0,
    "start_time": "2022-06-11T17:09:50.016Z"
   },
   {
    "duration": 0,
    "start_time": "2022-06-11T17:09:50.017Z"
   },
   {
    "duration": 0,
    "start_time": "2022-06-11T17:09:50.018Z"
   },
   {
    "duration": 0,
    "start_time": "2022-06-11T17:09:50.019Z"
   },
   {
    "duration": 0,
    "start_time": "2022-06-11T17:09:50.019Z"
   },
   {
    "duration": 0,
    "start_time": "2022-06-11T17:09:50.020Z"
   },
   {
    "duration": 0,
    "start_time": "2022-06-11T17:09:50.021Z"
   },
   {
    "duration": 0,
    "start_time": "2022-06-11T17:09:50.022Z"
   },
   {
    "duration": 0,
    "start_time": "2022-06-11T17:09:50.059Z"
   },
   {
    "duration": 0,
    "start_time": "2022-06-11T17:09:50.060Z"
   },
   {
    "duration": 69,
    "start_time": "2022-06-11T17:09:54.774Z"
   },
   {
    "duration": 909,
    "start_time": "2022-06-11T17:09:59.156Z"
   },
   {
    "duration": 50,
    "start_time": "2022-06-11T17:10:14.148Z"
   },
   {
    "duration": 921,
    "start_time": "2022-06-11T17:10:16.923Z"
   },
   {
    "duration": 54,
    "start_time": "2022-06-11T17:12:04.161Z"
   },
   {
    "duration": 12,
    "start_time": "2022-06-11T17:12:09.988Z"
   },
   {
    "duration": 61,
    "start_time": "2022-06-11T17:14:02.337Z"
   },
   {
    "duration": 13,
    "start_time": "2022-06-11T17:14:28.998Z"
   },
   {
    "duration": 11,
    "start_time": "2022-06-11T17:14:34.630Z"
   },
   {
    "duration": 62,
    "start_time": "2022-06-11T17:16:15.162Z"
   },
   {
    "duration": 899,
    "start_time": "2022-06-11T17:16:16.783Z"
   },
   {
    "duration": 27,
    "start_time": "2022-06-11T17:17:23.910Z"
   },
   {
    "duration": 157,
    "start_time": "2022-06-11T17:17:25.565Z"
   },
   {
    "duration": 1136,
    "start_time": "2022-06-11T17:18:53.709Z"
   },
   {
    "duration": 1038,
    "start_time": "2022-06-11T17:18:54.847Z"
   },
   {
    "duration": 133,
    "start_time": "2022-06-11T17:18:55.887Z"
   },
   {
    "duration": 142,
    "start_time": "2022-06-11T17:18:56.022Z"
   },
   {
    "duration": 150,
    "start_time": "2022-06-11T17:18:56.166Z"
   },
   {
    "duration": 12,
    "start_time": "2022-06-11T17:18:56.318Z"
   },
   {
    "duration": 74,
    "start_time": "2022-06-11T17:18:56.332Z"
   },
   {
    "duration": 12,
    "start_time": "2022-06-11T17:18:56.407Z"
   },
   {
    "duration": 149,
    "start_time": "2022-06-11T17:18:56.421Z"
   },
   {
    "duration": 22,
    "start_time": "2022-06-11T17:18:56.573Z"
   },
   {
    "duration": 529,
    "start_time": "2022-06-11T17:18:56.597Z"
   },
   {
    "duration": 554,
    "start_time": "2022-06-11T17:18:57.128Z"
   },
   {
    "duration": 792,
    "start_time": "2022-06-11T17:18:57.683Z"
   },
   {
    "duration": 20,
    "start_time": "2022-06-11T17:18:58.477Z"
   },
   {
    "duration": 95,
    "start_time": "2022-06-11T17:18:58.499Z"
   },
   {
    "duration": 81,
    "start_time": "2022-06-11T17:18:58.595Z"
   },
   {
    "duration": 295,
    "start_time": "2022-06-11T17:18:58.677Z"
   },
   {
    "duration": 1430,
    "start_time": "2022-06-11T17:18:58.973Z"
   },
   {
    "duration": 171,
    "start_time": "2022-06-11T17:19:00.405Z"
   },
   {
    "duration": 819,
    "start_time": "2022-06-11T17:19:00.577Z"
   },
   {
    "duration": 123,
    "start_time": "2022-06-11T17:19:01.399Z"
   },
   {
    "duration": 119,
    "start_time": "2022-06-11T17:19:01.523Z"
   },
   {
    "duration": 0,
    "start_time": "2022-06-11T17:19:01.644Z"
   },
   {
    "duration": 0,
    "start_time": "2022-06-11T17:19:01.645Z"
   },
   {
    "duration": 0,
    "start_time": "2022-06-11T17:19:01.647Z"
   },
   {
    "duration": 0,
    "start_time": "2022-06-11T17:19:01.648Z"
   },
   {
    "duration": 0,
    "start_time": "2022-06-11T17:19:01.658Z"
   },
   {
    "duration": 0,
    "start_time": "2022-06-11T17:19:01.660Z"
   },
   {
    "duration": 0,
    "start_time": "2022-06-11T17:19:01.661Z"
   },
   {
    "duration": 0,
    "start_time": "2022-06-11T17:19:01.663Z"
   },
   {
    "duration": 0,
    "start_time": "2022-06-11T17:19:01.665Z"
   },
   {
    "duration": 1,
    "start_time": "2022-06-11T17:19:01.666Z"
   },
   {
    "duration": 0,
    "start_time": "2022-06-11T17:19:01.668Z"
   },
   {
    "duration": 0,
    "start_time": "2022-06-11T17:19:01.670Z"
   },
   {
    "duration": 0,
    "start_time": "2022-06-11T17:19:01.671Z"
   },
   {
    "duration": 0,
    "start_time": "2022-06-11T17:19:01.672Z"
   },
   {
    "duration": 0,
    "start_time": "2022-06-11T17:19:01.674Z"
   },
   {
    "duration": 0,
    "start_time": "2022-06-11T17:19:01.676Z"
   },
   {
    "duration": 0,
    "start_time": "2022-06-11T17:19:01.677Z"
   },
   {
    "duration": 0,
    "start_time": "2022-06-11T17:19:01.679Z"
   },
   {
    "duration": 0,
    "start_time": "2022-06-11T17:19:01.681Z"
   },
   {
    "duration": 0,
    "start_time": "2022-06-11T17:19:01.683Z"
   },
   {
    "duration": 0,
    "start_time": "2022-06-11T17:19:01.684Z"
   },
   {
    "duration": 0,
    "start_time": "2022-06-11T17:19:01.685Z"
   },
   {
    "duration": 4,
    "start_time": "2022-06-11T18:05:23.356Z"
   },
   {
    "duration": 1148,
    "start_time": "2022-06-11T18:16:38.302Z"
   },
   {
    "duration": 997,
    "start_time": "2022-06-11T18:16:39.452Z"
   },
   {
    "duration": 135,
    "start_time": "2022-06-11T18:16:40.450Z"
   },
   {
    "duration": 138,
    "start_time": "2022-06-11T18:16:40.588Z"
   },
   {
    "duration": 140,
    "start_time": "2022-06-11T18:16:40.727Z"
   },
   {
    "duration": 13,
    "start_time": "2022-06-11T18:16:40.868Z"
   },
   {
    "duration": 77,
    "start_time": "2022-06-11T18:16:40.882Z"
   },
   {
    "duration": 14,
    "start_time": "2022-06-11T18:16:40.960Z"
   },
   {
    "duration": 139,
    "start_time": "2022-06-11T18:16:40.975Z"
   },
   {
    "duration": 30,
    "start_time": "2022-06-11T18:16:41.117Z"
   },
   {
    "duration": 512,
    "start_time": "2022-06-11T18:16:41.148Z"
   },
   {
    "duration": 623,
    "start_time": "2022-06-11T18:16:41.662Z"
   },
   {
    "duration": 510,
    "start_time": "2022-06-11T18:16:42.287Z"
   },
   {
    "duration": 26,
    "start_time": "2022-06-11T18:16:42.798Z"
   },
   {
    "duration": 63,
    "start_time": "2022-06-11T18:16:42.826Z"
   },
   {
    "duration": 32,
    "start_time": "2022-06-11T18:16:42.891Z"
   },
   {
    "duration": 158,
    "start_time": "2022-06-11T18:16:42.925Z"
   },
   {
    "duration": 1032,
    "start_time": "2022-06-11T18:16:43.085Z"
   },
   {
    "duration": 167,
    "start_time": "2022-06-11T18:16:44.119Z"
   },
   {
    "duration": 834,
    "start_time": "2022-06-11T18:16:44.289Z"
   },
   {
    "duration": 123,
    "start_time": "2022-06-11T18:16:45.125Z"
   },
   {
    "duration": 53,
    "start_time": "2022-06-11T18:16:45.249Z"
   },
   {
    "duration": 194,
    "start_time": "2022-06-11T18:16:45.304Z"
   },
   {
    "duration": 112,
    "start_time": "2022-06-11T18:16:45.500Z"
   },
   {
    "duration": 20,
    "start_time": "2022-06-11T18:16:45.614Z"
   },
   {
    "duration": 62,
    "start_time": "2022-06-11T18:16:45.636Z"
   },
   {
    "duration": 112,
    "start_time": "2022-06-11T18:16:45.700Z"
   },
   {
    "duration": 67,
    "start_time": "2022-06-11T18:16:45.816Z"
   },
   {
    "duration": 11,
    "start_time": "2022-06-11T18:16:45.885Z"
   },
   {
    "duration": 1846,
    "start_time": "2022-06-11T18:16:45.898Z"
   },
   {
    "duration": 60,
    "start_time": "2022-06-11T18:16:47.746Z"
   },
   {
    "duration": 80,
    "start_time": "2022-06-11T18:16:47.807Z"
   },
   {
    "duration": 12,
    "start_time": "2022-06-11T18:16:47.889Z"
   },
   {
    "duration": 381,
    "start_time": "2022-06-11T18:16:47.902Z"
   },
   {
    "duration": 422,
    "start_time": "2022-06-11T18:16:48.284Z"
   },
   {
    "duration": 111,
    "start_time": "2022-06-11T18:16:48.708Z"
   },
   {
    "duration": 0,
    "start_time": "2022-06-11T18:16:48.821Z"
   },
   {
    "duration": 0,
    "start_time": "2022-06-11T18:16:48.822Z"
   },
   {
    "duration": 0,
    "start_time": "2022-06-11T18:16:48.823Z"
   },
   {
    "duration": 0,
    "start_time": "2022-06-11T18:16:48.825Z"
   },
   {
    "duration": 0,
    "start_time": "2022-06-11T18:16:48.826Z"
   },
   {
    "duration": 0,
    "start_time": "2022-06-11T18:16:48.827Z"
   },
   {
    "duration": 0,
    "start_time": "2022-06-11T18:16:48.828Z"
   },
   {
    "duration": 39,
    "start_time": "2022-06-11T18:29:54.737Z"
   },
   {
    "duration": 12,
    "start_time": "2022-06-11T18:30:17.995Z"
   },
   {
    "duration": 11,
    "start_time": "2022-06-11T18:30:34.328Z"
   },
   {
    "duration": 15,
    "start_time": "2022-06-11T18:31:07.775Z"
   },
   {
    "duration": 1334,
    "start_time": "2022-06-12T08:12:38.674Z"
   },
   {
    "duration": 1376,
    "start_time": "2022-06-12T08:12:40.012Z"
   },
   {
    "duration": 165,
    "start_time": "2022-06-12T08:12:41.389Z"
   },
   {
    "duration": 168,
    "start_time": "2022-06-12T08:12:41.556Z"
   },
   {
    "duration": 479,
    "start_time": "2022-06-12T08:12:41.726Z"
   },
   {
    "duration": 22,
    "start_time": "2022-06-12T08:12:42.207Z"
   },
   {
    "duration": 115,
    "start_time": "2022-06-12T08:12:42.235Z"
   },
   {
    "duration": 17,
    "start_time": "2022-06-12T08:12:42.400Z"
   },
   {
    "duration": 418,
    "start_time": "2022-06-12T08:12:42.419Z"
   },
   {
    "duration": 81,
    "start_time": "2022-06-12T08:12:42.840Z"
   },
   {
    "duration": 1129,
    "start_time": "2022-06-12T08:12:42.924Z"
   },
   {
    "duration": 728,
    "start_time": "2022-06-12T08:12:44.055Z"
   },
   {
    "duration": 530,
    "start_time": "2022-06-12T08:12:44.786Z"
   },
   {
    "duration": 21,
    "start_time": "2022-06-12T08:12:45.318Z"
   },
   {
    "duration": 57,
    "start_time": "2022-06-12T08:12:45.340Z"
   },
   {
    "duration": 34,
    "start_time": "2022-06-12T08:12:45.399Z"
   },
   {
    "duration": 148,
    "start_time": "2022-06-12T08:12:45.434Z"
   },
   {
    "duration": 982,
    "start_time": "2022-06-12T08:12:45.594Z"
   },
   {
    "duration": 165,
    "start_time": "2022-06-12T08:12:46.578Z"
   },
   {
    "duration": 798,
    "start_time": "2022-06-12T08:12:46.745Z"
   },
   {
    "duration": 116,
    "start_time": "2022-06-12T08:12:47.544Z"
   },
   {
    "duration": 60,
    "start_time": "2022-06-12T08:12:47.661Z"
   },
   {
    "duration": 154,
    "start_time": "2022-06-12T08:12:47.722Z"
   },
   {
    "duration": 108,
    "start_time": "2022-06-12T08:12:47.877Z"
   },
   {
    "duration": 30,
    "start_time": "2022-06-12T08:12:47.987Z"
   },
   {
    "duration": 59,
    "start_time": "2022-06-12T08:12:48.018Z"
   },
   {
    "duration": 131,
    "start_time": "2022-06-12T08:12:48.078Z"
   },
   {
    "duration": 49,
    "start_time": "2022-06-12T08:12:48.213Z"
   },
   {
    "duration": 10,
    "start_time": "2022-06-12T08:12:48.263Z"
   },
   {
    "duration": 1928,
    "start_time": "2022-06-12T08:12:48.275Z"
   },
   {
    "duration": 50,
    "start_time": "2022-06-12T08:12:50.207Z"
   },
   {
    "duration": 87,
    "start_time": "2022-06-12T08:12:50.259Z"
   },
   {
    "duration": 12,
    "start_time": "2022-06-12T08:12:50.347Z"
   },
   {
    "duration": 396,
    "start_time": "2022-06-12T08:12:50.361Z"
   },
   {
    "duration": 425,
    "start_time": "2022-06-12T08:12:50.758Z"
   },
   {
    "duration": 24175,
    "start_time": "2022-06-12T08:12:51.185Z"
   },
   {
    "duration": 0,
    "start_time": "2022-06-12T08:13:15.362Z"
   },
   {
    "duration": 0,
    "start_time": "2022-06-12T08:13:15.362Z"
   },
   {
    "duration": 0,
    "start_time": "2022-06-12T08:13:15.364Z"
   },
   {
    "duration": 0,
    "start_time": "2022-06-12T08:13:15.365Z"
   },
   {
    "duration": 0,
    "start_time": "2022-06-12T08:13:15.366Z"
   },
   {
    "duration": 0,
    "start_time": "2022-06-12T08:13:15.366Z"
   },
   {
    "duration": 13,
    "start_time": "2022-06-12T08:14:02.186Z"
   },
   {
    "duration": 8,
    "start_time": "2022-06-12T08:14:38.002Z"
   },
   {
    "duration": 12,
    "start_time": "2022-06-12T08:15:18.447Z"
   },
   {
    "duration": 16,
    "start_time": "2022-06-12T08:15:33.156Z"
   },
   {
    "duration": 0,
    "start_time": "2022-06-12T08:38:44.066Z"
   },
   {
    "duration": 1202,
    "start_time": "2022-06-12T08:40:24.188Z"
   },
   {
    "duration": 973,
    "start_time": "2022-06-12T08:40:25.392Z"
   },
   {
    "duration": 151,
    "start_time": "2022-06-12T08:40:26.367Z"
   },
   {
    "duration": 130,
    "start_time": "2022-06-12T08:40:26.520Z"
   },
   {
    "duration": 156,
    "start_time": "2022-06-12T08:40:26.651Z"
   },
   {
    "duration": 11,
    "start_time": "2022-06-12T08:40:26.809Z"
   },
   {
    "duration": 64,
    "start_time": "2022-06-12T08:40:26.822Z"
   },
   {
    "duration": 21,
    "start_time": "2022-06-12T08:40:26.888Z"
   },
   {
    "duration": 150,
    "start_time": "2022-06-12T08:40:26.910Z"
   },
   {
    "duration": 19,
    "start_time": "2022-06-12T08:40:27.063Z"
   },
   {
    "duration": 491,
    "start_time": "2022-06-12T08:40:27.084Z"
   },
   {
    "duration": 527,
    "start_time": "2022-06-12T08:40:27.577Z"
   },
   {
    "duration": 499,
    "start_time": "2022-06-12T08:40:28.106Z"
   },
   {
    "duration": 22,
    "start_time": "2022-06-12T08:40:28.606Z"
   },
   {
    "duration": 51,
    "start_time": "2022-06-12T08:40:28.630Z"
   },
   {
    "duration": 48,
    "start_time": "2022-06-12T08:40:28.682Z"
   },
   {
    "duration": 146,
    "start_time": "2022-06-12T08:40:28.733Z"
   },
   {
    "duration": 1124,
    "start_time": "2022-06-12T08:40:28.884Z"
   },
   {
    "duration": 187,
    "start_time": "2022-06-12T08:40:30.010Z"
   },
   {
    "duration": 885,
    "start_time": "2022-06-12T08:40:30.199Z"
   },
   {
    "duration": 126,
    "start_time": "2022-06-12T08:40:31.085Z"
   },
   {
    "duration": 49,
    "start_time": "2022-06-12T08:40:31.213Z"
   },
   {
    "duration": 183,
    "start_time": "2022-06-12T08:40:31.264Z"
   },
   {
    "duration": 105,
    "start_time": "2022-06-12T08:40:31.448Z"
   },
   {
    "duration": 19,
    "start_time": "2022-06-12T08:40:31.555Z"
   },
   {
    "duration": 80,
    "start_time": "2022-06-12T08:40:31.576Z"
   },
   {
    "duration": 120,
    "start_time": "2022-06-12T08:40:31.658Z"
   },
   {
    "duration": 57,
    "start_time": "2022-06-12T08:40:31.782Z"
   },
   {
    "duration": 11,
    "start_time": "2022-06-12T08:40:31.841Z"
   },
   {
    "duration": 1790,
    "start_time": "2022-06-12T08:40:31.853Z"
   },
   {
    "duration": 63,
    "start_time": "2022-06-12T08:40:33.645Z"
   },
   {
    "duration": 71,
    "start_time": "2022-06-12T08:40:33.710Z"
   },
   {
    "duration": 24,
    "start_time": "2022-06-12T08:40:33.783Z"
   },
   {
    "duration": 356,
    "start_time": "2022-06-12T08:40:33.808Z"
   },
   {
    "duration": 412,
    "start_time": "2022-06-12T08:40:34.166Z"
   },
   {
    "duration": 2,
    "start_time": "2022-06-12T08:40:34.580Z"
   },
   {
    "duration": 3,
    "start_time": "2022-06-12T08:40:34.593Z"
   },
   {
    "duration": 180840,
    "start_time": "2022-06-12T08:40:34.597Z"
   },
   {
    "duration": 0,
    "start_time": "2022-06-12T08:43:35.439Z"
   },
   {
    "duration": 0,
    "start_time": "2022-06-12T08:43:35.440Z"
   },
   {
    "duration": 0,
    "start_time": "2022-06-12T08:43:35.441Z"
   },
   {
    "duration": 0,
    "start_time": "2022-06-12T08:43:35.442Z"
   },
   {
    "duration": 96918,
    "start_time": "2022-06-12T08:43:48.332Z"
   },
   {
    "duration": 205757,
    "start_time": "2022-06-12T08:46:36.124Z"
   },
   {
    "duration": 346247,
    "start_time": "2022-06-12T08:51:15.631Z"
   },
   {
    "duration": 474450,
    "start_time": "2022-06-12T09:35:49.424Z"
   },
   {
    "duration": 1155,
    "start_time": "2022-06-12T10:02:16.626Z"
   },
   {
    "duration": 1025,
    "start_time": "2022-06-12T10:02:17.783Z"
   },
   {
    "duration": 193,
    "start_time": "2022-06-12T10:02:18.817Z"
   },
   {
    "duration": 215,
    "start_time": "2022-06-12T10:02:19.012Z"
   },
   {
    "duration": 180,
    "start_time": "2022-06-12T10:02:19.232Z"
   },
   {
    "duration": 15,
    "start_time": "2022-06-12T10:02:19.418Z"
   },
   {
    "duration": 70,
    "start_time": "2022-06-12T10:02:19.435Z"
   },
   {
    "duration": 17,
    "start_time": "2022-06-12T10:02:19.507Z"
   },
   {
    "duration": 158,
    "start_time": "2022-06-12T10:02:19.526Z"
   },
   {
    "duration": 51,
    "start_time": "2022-06-12T10:02:19.686Z"
   },
   {
    "duration": 590,
    "start_time": "2022-06-12T10:02:19.739Z"
   },
   {
    "duration": 608,
    "start_time": "2022-06-12T10:02:20.334Z"
   },
   {
    "duration": 537,
    "start_time": "2022-06-12T10:02:20.944Z"
   },
   {
    "duration": 34,
    "start_time": "2022-06-12T10:02:21.484Z"
   },
   {
    "duration": 55,
    "start_time": "2022-06-12T10:02:21.522Z"
   },
   {
    "duration": 37,
    "start_time": "2022-06-12T10:02:21.579Z"
   },
   {
    "duration": 165,
    "start_time": "2022-06-12T10:02:21.618Z"
   },
   {
    "duration": 2616,
    "start_time": "2022-06-12T10:02:21.785Z"
   },
   {
    "duration": 324,
    "start_time": "2022-06-12T10:02:24.403Z"
   },
   {
    "duration": 887,
    "start_time": "2022-06-12T10:02:24.729Z"
   },
   {
    "duration": 126,
    "start_time": "2022-06-12T10:02:25.618Z"
   },
   {
    "duration": 60,
    "start_time": "2022-06-12T10:02:25.746Z"
   },
   {
    "duration": 177,
    "start_time": "2022-06-12T10:02:25.808Z"
   },
   {
    "duration": 126,
    "start_time": "2022-06-12T10:02:25.987Z"
   },
   {
    "duration": 23,
    "start_time": "2022-06-12T10:02:26.119Z"
   },
   {
    "duration": 57,
    "start_time": "2022-06-12T10:02:26.144Z"
   },
   {
    "duration": 137,
    "start_time": "2022-06-12T10:02:26.204Z"
   },
   {
    "duration": 59,
    "start_time": "2022-06-12T10:02:26.343Z"
   },
   {
    "duration": 14,
    "start_time": "2022-06-12T10:02:26.403Z"
   },
   {
    "duration": 1859,
    "start_time": "2022-06-12T10:02:26.421Z"
   },
   {
    "duration": 63,
    "start_time": "2022-06-12T10:02:28.282Z"
   },
   {
    "duration": 92,
    "start_time": "2022-06-12T10:02:28.346Z"
   },
   {
    "duration": 12,
    "start_time": "2022-06-12T10:02:28.439Z"
   },
   {
    "duration": 398,
    "start_time": "2022-06-12T10:02:28.452Z"
   },
   {
    "duration": 547,
    "start_time": "2022-06-12T10:02:28.852Z"
   },
   {
    "duration": 5,
    "start_time": "2022-06-12T10:02:29.410Z"
   },
   {
    "duration": 32,
    "start_time": "2022-06-12T10:02:29.417Z"
   },
   {
    "duration": 3001,
    "start_time": "2022-06-12T10:02:29.452Z"
   },
   {
    "duration": 0,
    "start_time": "2022-06-12T10:02:32.456Z"
   },
   {
    "duration": 0,
    "start_time": "2022-06-12T10:02:32.457Z"
   },
   {
    "duration": 0,
    "start_time": "2022-06-12T10:02:32.459Z"
   },
   {
    "duration": 0,
    "start_time": "2022-06-12T10:02:32.460Z"
   },
   {
    "duration": 2444,
    "start_time": "2022-06-12T10:03:05.917Z"
   },
   {
    "duration": 20959,
    "start_time": "2022-06-12T10:04:59.615Z"
   },
   {
    "duration": 263758,
    "start_time": "2022-06-12T10:10:22.864Z"
   },
   {
    "duration": 115904,
    "start_time": "2022-06-12T10:18:33.357Z"
   },
   {
    "duration": 8682,
    "start_time": "2022-06-12T10:20:35.184Z"
   },
   {
    "duration": 10715,
    "start_time": "2022-06-12T10:23:00.703Z"
   },
   {
    "duration": 291806,
    "start_time": "2022-06-12T10:24:42.944Z"
   },
   {
    "duration": 3154,
    "start_time": "2022-06-12T10:36:01.164Z"
   },
   {
    "duration": 1798,
    "start_time": "2022-06-12T10:36:04.321Z"
   },
   {
    "duration": 230,
    "start_time": "2022-06-12T10:36:06.121Z"
   },
   {
    "duration": 168,
    "start_time": "2022-06-12T10:36:06.354Z"
   },
   {
    "duration": 223,
    "start_time": "2022-06-12T10:36:06.524Z"
   },
   {
    "duration": 19,
    "start_time": "2022-06-12T10:36:06.749Z"
   },
   {
    "duration": 82,
    "start_time": "2022-06-12T10:36:06.770Z"
   },
   {
    "duration": 18,
    "start_time": "2022-06-12T10:36:06.854Z"
   },
   {
    "duration": 260,
    "start_time": "2022-06-12T10:36:06.874Z"
   },
   {
    "duration": 32,
    "start_time": "2022-06-12T10:36:07.139Z"
   },
   {
    "duration": 636,
    "start_time": "2022-06-12T10:36:07.173Z"
   },
   {
    "duration": 674,
    "start_time": "2022-06-12T10:36:07.813Z"
   },
   {
    "duration": 645,
    "start_time": "2022-06-12T10:36:08.489Z"
   },
   {
    "duration": 29,
    "start_time": "2022-06-12T10:36:09.138Z"
   },
   {
    "duration": 75,
    "start_time": "2022-06-12T10:36:09.170Z"
   },
   {
    "duration": 73,
    "start_time": "2022-06-12T10:36:09.247Z"
   },
   {
    "duration": 263,
    "start_time": "2022-06-12T10:36:09.322Z"
   },
   {
    "duration": 1645,
    "start_time": "2022-06-12T10:36:09.587Z"
   },
   {
    "duration": 234,
    "start_time": "2022-06-12T10:36:11.234Z"
   },
   {
    "duration": 1254,
    "start_time": "2022-06-12T10:36:11.469Z"
   },
   {
    "duration": 216,
    "start_time": "2022-06-12T10:36:12.731Z"
   },
   {
    "duration": 79,
    "start_time": "2022-06-12T10:36:12.949Z"
   },
   {
    "duration": 255,
    "start_time": "2022-06-12T10:36:13.031Z"
   },
   {
    "duration": 176,
    "start_time": "2022-06-12T10:36:13.295Z"
   },
   {
    "duration": 46,
    "start_time": "2022-06-12T10:36:13.473Z"
   },
   {
    "duration": 67,
    "start_time": "2022-06-12T10:36:13.521Z"
   },
   {
    "duration": 218,
    "start_time": "2022-06-12T10:36:13.590Z"
   },
   {
    "duration": 69,
    "start_time": "2022-06-12T10:36:13.821Z"
   },
   {
    "duration": 16,
    "start_time": "2022-06-12T10:36:13.893Z"
   },
   {
    "duration": 2685,
    "start_time": "2022-06-12T10:36:13.911Z"
   },
   {
    "duration": 57,
    "start_time": "2022-06-12T10:36:16.604Z"
   },
   {
    "duration": 98,
    "start_time": "2022-06-12T10:36:16.663Z"
   },
   {
    "duration": 16,
    "start_time": "2022-06-12T10:36:16.763Z"
   },
   {
    "duration": 429,
    "start_time": "2022-06-12T10:36:16.795Z"
   },
   {
    "duration": 474,
    "start_time": "2022-06-12T10:36:17.226Z"
   },
   {
    "duration": 239721,
    "start_time": "2022-06-12T10:36:17.702Z"
   },
   {
    "duration": 129,
    "start_time": "2022-06-12T10:40:17.427Z"
   },
   {
    "duration": 0,
    "start_time": "2022-06-12T10:40:17.558Z"
   },
   {
    "duration": 0,
    "start_time": "2022-06-12T10:40:17.559Z"
   },
   {
    "duration": 0,
    "start_time": "2022-06-12T10:40:17.561Z"
   },
   {
    "duration": 0,
    "start_time": "2022-06-12T10:40:17.563Z"
   },
   {
    "duration": 20,
    "start_time": "2022-06-12T10:43:14.101Z"
   },
   {
    "duration": 37688,
    "start_time": "2022-06-12T10:44:16.763Z"
   },
   {
    "duration": 9,
    "start_time": "2022-06-12T10:49:35.863Z"
   },
   {
    "duration": 1182,
    "start_time": "2022-06-12T10:49:55.789Z"
   },
   {
    "duration": 952,
    "start_time": "2022-06-12T10:49:56.973Z"
   },
   {
    "duration": 152,
    "start_time": "2022-06-12T10:49:57.927Z"
   },
   {
    "duration": 137,
    "start_time": "2022-06-12T10:49:58.082Z"
   },
   {
    "duration": 148,
    "start_time": "2022-06-12T10:49:58.221Z"
   },
   {
    "duration": 14,
    "start_time": "2022-06-12T10:49:58.371Z"
   },
   {
    "duration": 67,
    "start_time": "2022-06-12T10:49:58.386Z"
   },
   {
    "duration": 12,
    "start_time": "2022-06-12T10:49:58.454Z"
   },
   {
    "duration": 156,
    "start_time": "2022-06-12T10:49:58.467Z"
   },
   {
    "duration": 19,
    "start_time": "2022-06-12T10:49:58.626Z"
   },
   {
    "duration": 613,
    "start_time": "2022-06-12T10:49:58.647Z"
   },
   {
    "duration": 579,
    "start_time": "2022-06-12T10:49:59.262Z"
   },
   {
    "duration": 579,
    "start_time": "2022-06-12T10:49:59.843Z"
   },
   {
    "duration": 41,
    "start_time": "2022-06-12T10:50:00.424Z"
   },
   {
    "duration": 71,
    "start_time": "2022-06-12T10:50:00.467Z"
   },
   {
    "duration": 63,
    "start_time": "2022-06-12T10:50:00.543Z"
   },
   {
    "duration": 169,
    "start_time": "2022-06-12T10:50:00.609Z"
   },
   {
    "duration": 1168,
    "start_time": "2022-06-12T10:50:00.781Z"
   },
   {
    "duration": 203,
    "start_time": "2022-06-12T10:50:01.951Z"
   },
   {
    "duration": 918,
    "start_time": "2022-06-12T10:50:02.156Z"
   },
   {
    "duration": 149,
    "start_time": "2022-06-12T10:50:03.076Z"
   },
   {
    "duration": 51,
    "start_time": "2022-06-12T10:50:03.227Z"
   },
   {
    "duration": 186,
    "start_time": "2022-06-12T10:50:03.280Z"
   },
   {
    "duration": 115,
    "start_time": "2022-06-12T10:50:03.468Z"
   },
   {
    "duration": 29,
    "start_time": "2022-06-12T10:50:03.585Z"
   },
   {
    "duration": 51,
    "start_time": "2022-06-12T10:50:03.616Z"
   },
   {
    "duration": 138,
    "start_time": "2022-06-12T10:50:03.668Z"
   },
   {
    "duration": 53,
    "start_time": "2022-06-12T10:50:03.811Z"
   },
   {
    "duration": 11,
    "start_time": "2022-06-12T10:50:03.867Z"
   },
   {
    "duration": 1966,
    "start_time": "2022-06-12T10:50:03.880Z"
   },
   {
    "duration": 71,
    "start_time": "2022-06-12T10:50:05.848Z"
   },
   {
    "duration": 85,
    "start_time": "2022-06-12T10:50:05.922Z"
   },
   {
    "duration": 14,
    "start_time": "2022-06-12T10:50:06.016Z"
   },
   {
    "duration": 422,
    "start_time": "2022-06-12T10:50:06.032Z"
   },
   {
    "duration": 477,
    "start_time": "2022-06-12T10:50:06.457Z"
   },
   {
    "duration": 195439,
    "start_time": "2022-06-12T10:50:06.935Z"
   },
   {
    "duration": 131,
    "start_time": "2022-06-12T10:53:22.376Z"
   },
   {
    "duration": 0,
    "start_time": "2022-06-12T10:53:22.510Z"
   },
   {
    "duration": 0,
    "start_time": "2022-06-12T10:53:22.519Z"
   },
   {
    "duration": 0,
    "start_time": "2022-06-12T10:53:22.520Z"
   },
   {
    "duration": 0,
    "start_time": "2022-06-12T10:53:22.522Z"
   },
   {
    "duration": 0,
    "start_time": "2022-06-12T10:53:22.523Z"
   },
   {
    "duration": 9,
    "start_time": "2022-06-12T10:55:18.913Z"
   },
   {
    "duration": 4,
    "start_time": "2022-06-12T10:55:25.755Z"
   },
   {
    "duration": 401,
    "start_time": "2022-06-12T10:55:48.763Z"
   },
   {
    "duration": 25139,
    "start_time": "2022-06-12T10:58:31.670Z"
   },
   {
    "duration": 2214,
    "start_time": "2022-06-12T12:31:02.171Z"
   },
   {
    "duration": 3353,
    "start_time": "2022-06-12T12:31:04.387Z"
   },
   {
    "duration": 175,
    "start_time": "2022-06-12T12:31:07.742Z"
   },
   {
    "duration": 179,
    "start_time": "2022-06-12T12:31:07.918Z"
   },
   {
    "duration": 170,
    "start_time": "2022-06-12T12:31:08.099Z"
   },
   {
    "duration": 14,
    "start_time": "2022-06-12T12:31:08.274Z"
   },
   {
    "duration": 60,
    "start_time": "2022-06-12T12:31:08.290Z"
   },
   {
    "duration": 26,
    "start_time": "2022-06-12T12:31:08.351Z"
   },
   {
    "duration": 163,
    "start_time": "2022-06-12T12:31:08.378Z"
   },
   {
    "duration": 36,
    "start_time": "2022-06-12T12:31:08.544Z"
   },
   {
    "duration": 560,
    "start_time": "2022-06-12T12:31:08.582Z"
   },
   {
    "duration": 574,
    "start_time": "2022-06-12T12:31:09.143Z"
   },
   {
    "duration": 557,
    "start_time": "2022-06-12T12:31:09.719Z"
   },
   {
    "duration": 25,
    "start_time": "2022-06-12T12:31:10.280Z"
   },
   {
    "duration": 62,
    "start_time": "2022-06-12T12:31:10.306Z"
   },
   {
    "duration": 53,
    "start_time": "2022-06-12T12:31:10.371Z"
   },
   {
    "duration": 156,
    "start_time": "2022-06-12T12:31:10.426Z"
   },
   {
    "duration": 1102,
    "start_time": "2022-06-12T12:31:10.584Z"
   },
   {
    "duration": 173,
    "start_time": "2022-06-12T12:31:11.688Z"
   },
   {
    "duration": 918,
    "start_time": "2022-06-12T12:31:11.863Z"
   },
   {
    "duration": 133,
    "start_time": "2022-06-12T12:31:12.783Z"
   },
   {
    "duration": 67,
    "start_time": "2022-06-12T12:31:12.918Z"
   },
   {
    "duration": 174,
    "start_time": "2022-06-12T12:31:12.987Z"
   },
   {
    "duration": 119,
    "start_time": "2022-06-12T12:31:13.165Z"
   },
   {
    "duration": 24,
    "start_time": "2022-06-12T12:31:13.288Z"
   },
   {
    "duration": 80,
    "start_time": "2022-06-12T12:31:13.314Z"
   },
   {
    "duration": 122,
    "start_time": "2022-06-12T12:31:13.396Z"
   },
   {
    "duration": 65,
    "start_time": "2022-06-12T12:31:13.519Z"
   },
   {
    "duration": 10,
    "start_time": "2022-06-12T12:31:13.586Z"
   },
   {
    "duration": 1811,
    "start_time": "2022-06-12T12:31:13.598Z"
   },
   {
    "duration": 65,
    "start_time": "2022-06-12T12:31:15.410Z"
   },
   {
    "duration": 78,
    "start_time": "2022-06-12T12:31:15.478Z"
   },
   {
    "duration": 21,
    "start_time": "2022-06-12T12:31:15.557Z"
   },
   {
    "duration": 403,
    "start_time": "2022-06-12T12:31:15.580Z"
   },
   {
    "duration": 455,
    "start_time": "2022-06-12T12:31:15.985Z"
   },
   {
    "duration": 111265,
    "start_time": "2022-06-12T12:31:16.442Z"
   },
   {
    "duration": 0,
    "start_time": "2022-06-12T12:33:07.711Z"
   },
   {
    "duration": 0,
    "start_time": "2022-06-12T12:33:07.712Z"
   },
   {
    "duration": 0,
    "start_time": "2022-06-12T12:33:07.713Z"
   },
   {
    "duration": 0,
    "start_time": "2022-06-12T12:33:07.714Z"
   },
   {
    "duration": 0,
    "start_time": "2022-06-12T12:33:07.715Z"
   },
   {
    "duration": 76279,
    "start_time": "2022-06-12T12:33:53.062Z"
   },
   {
    "duration": 82689,
    "start_time": "2022-06-12T12:36:19.206Z"
   },
   {
    "duration": 1985,
    "start_time": "2022-06-12T13:02:41.495Z"
   },
   {
    "duration": 2166,
    "start_time": "2022-06-12T13:02:43.483Z"
   },
   {
    "duration": 175,
    "start_time": "2022-06-12T13:02:45.651Z"
   },
   {
    "duration": 176,
    "start_time": "2022-06-12T13:02:45.828Z"
   },
   {
    "duration": 171,
    "start_time": "2022-06-12T13:02:46.006Z"
   },
   {
    "duration": 17,
    "start_time": "2022-06-12T13:02:46.179Z"
   },
   {
    "duration": 85,
    "start_time": "2022-06-12T13:02:46.198Z"
   },
   {
    "duration": 16,
    "start_time": "2022-06-12T13:02:46.286Z"
   },
   {
    "duration": 182,
    "start_time": "2022-06-12T13:02:46.304Z"
   },
   {
    "duration": 33,
    "start_time": "2022-06-12T13:02:46.489Z"
   },
   {
    "duration": 579,
    "start_time": "2022-06-12T13:02:46.524Z"
   },
   {
    "duration": 619,
    "start_time": "2022-06-12T13:02:47.105Z"
   },
   {
    "duration": 563,
    "start_time": "2022-06-12T13:02:47.726Z"
   },
   {
    "duration": 25,
    "start_time": "2022-06-12T13:02:48.293Z"
   },
   {
    "duration": 59,
    "start_time": "2022-06-12T13:02:48.319Z"
   },
   {
    "duration": 37,
    "start_time": "2022-06-12T13:02:48.380Z"
   },
   {
    "duration": 195,
    "start_time": "2022-06-12T13:02:48.419Z"
   },
   {
    "duration": 1431,
    "start_time": "2022-06-12T13:02:48.617Z"
   },
   {
    "duration": 182,
    "start_time": "2022-06-12T13:02:50.050Z"
   },
   {
    "duration": 955,
    "start_time": "2022-06-12T13:02:50.234Z"
   },
   {
    "duration": 140,
    "start_time": "2022-06-12T13:02:51.191Z"
   },
   {
    "duration": 64,
    "start_time": "2022-06-12T13:02:51.333Z"
   },
   {
    "duration": 187,
    "start_time": "2022-06-12T13:02:51.400Z"
   },
   {
    "duration": 122,
    "start_time": "2022-06-12T13:02:51.590Z"
   },
   {
    "duration": 20,
    "start_time": "2022-06-12T13:02:51.714Z"
   },
   {
    "duration": 83,
    "start_time": "2022-06-12T13:02:51.736Z"
   },
   {
    "duration": 177,
    "start_time": "2022-06-12T13:02:51.821Z"
   },
   {
    "duration": 65,
    "start_time": "2022-06-12T13:02:52.003Z"
   },
   {
    "duration": 19,
    "start_time": "2022-06-12T13:02:52.072Z"
   },
   {
    "duration": 2034,
    "start_time": "2022-06-12T13:02:52.093Z"
   },
   {
    "duration": 71,
    "start_time": "2022-06-12T13:02:54.129Z"
   },
   {
    "duration": 83,
    "start_time": "2022-06-12T13:02:54.202Z"
   },
   {
    "duration": 13,
    "start_time": "2022-06-12T13:02:54.290Z"
   },
   {
    "duration": 414,
    "start_time": "2022-06-12T13:02:54.305Z"
   },
   {
    "duration": 475,
    "start_time": "2022-06-12T13:02:54.721Z"
   },
   {
    "duration": 84936,
    "start_time": "2022-06-12T13:02:55.198Z"
   },
   {
    "duration": 231616,
    "start_time": "2022-06-12T13:04:20.136Z"
   },
   {
    "duration": 29365,
    "start_time": "2022-06-12T13:08:11.754Z"
   },
   {
    "duration": 118,
    "start_time": "2022-06-12T13:08:41.120Z"
   },
   {
    "duration": 0,
    "start_time": "2022-06-12T13:08:41.240Z"
   },
   {
    "duration": 0,
    "start_time": "2022-06-12T13:08:41.242Z"
   },
   {
    "duration": 0,
    "start_time": "2022-06-12T13:08:41.243Z"
   },
   {
    "duration": 7,
    "start_time": "2022-06-12T13:12:13.201Z"
   },
   {
    "duration": 9,
    "start_time": "2022-06-12T13:35:40.124Z"
   },
   {
    "duration": 196672,
    "start_time": "2022-06-12T13:36:37.856Z"
   },
   {
    "duration": 9,
    "start_time": "2022-06-12T13:40:05.503Z"
   },
   {
    "duration": 4,
    "start_time": "2022-06-12T13:40:26.456Z"
   },
   {
    "duration": 388,
    "start_time": "2022-06-12T13:40:30.643Z"
   },
   {
    "duration": 5,
    "start_time": "2022-06-12T13:40:54.622Z"
   },
   {
    "duration": 6,
    "start_time": "2022-06-12T13:41:26.732Z"
   },
   {
    "duration": 296472,
    "start_time": "2022-06-12T13:50:47.295Z"
   },
   {
    "duration": 28,
    "start_time": "2022-06-12T14:11:55.855Z"
   },
   {
    "duration": 11,
    "start_time": "2022-06-12T14:11:59.410Z"
   },
   {
    "duration": 6030,
    "start_time": "2022-06-12T14:12:28.728Z"
   },
   {
    "duration": 266,
    "start_time": "2022-06-12T14:12:36.774Z"
   },
   {
    "duration": 29,
    "start_time": "2022-06-12T14:15:00.645Z"
   },
   {
    "duration": 117,
    "start_time": "2022-06-12T14:28:32.180Z"
   },
   {
    "duration": 169,
    "start_time": "2022-06-12T14:31:17.660Z"
   },
   {
    "duration": 39,
    "start_time": "2022-06-12T14:33:40.779Z"
   },
   {
    "duration": 88,
    "start_time": "2022-06-12T14:33:48.448Z"
   },
   {
    "duration": 195,
    "start_time": "2022-06-12T14:35:37.022Z"
   },
   {
    "duration": 101,
    "start_time": "2022-06-12T14:36:06.799Z"
   },
   {
    "duration": 184,
    "start_time": "2022-06-12T14:36:20.950Z"
   },
   {
    "duration": 74,
    "start_time": "2022-06-12T14:36:27.667Z"
   },
   {
    "duration": 186,
    "start_time": "2022-06-12T14:45:47.533Z"
   },
   {
    "duration": 75,
    "start_time": "2022-06-12T14:47:15.857Z"
   },
   {
    "duration": 224,
    "start_time": "2022-06-12T14:47:29.860Z"
   },
   {
    "duration": 122,
    "start_time": "2022-06-12T14:47:34.532Z"
   },
   {
    "duration": 72,
    "start_time": "2022-06-12T14:47:38.479Z"
   },
   {
    "duration": 186,
    "start_time": "2022-06-12T14:49:57.127Z"
   },
   {
    "duration": 76,
    "start_time": "2022-06-12T14:50:30.716Z"
   },
   {
    "duration": 173,
    "start_time": "2022-06-12T14:50:45.579Z"
   },
   {
    "duration": 87,
    "start_time": "2022-06-12T14:51:09.960Z"
   },
   {
    "duration": 199,
    "start_time": "2022-06-12T14:51:26.709Z"
   },
   {
    "duration": 82,
    "start_time": "2022-06-12T14:51:38.914Z"
   },
   {
    "duration": 183,
    "start_time": "2022-06-12T14:51:52.668Z"
   },
   {
    "duration": 98,
    "start_time": "2022-06-12T14:53:55.339Z"
   },
   {
    "duration": 17,
    "start_time": "2022-06-12T14:57:24.219Z"
   },
   {
    "duration": 199,
    "start_time": "2022-06-12T14:57:41.335Z"
   },
   {
    "duration": 88,
    "start_time": "2022-06-12T14:58:13.019Z"
   },
   {
    "duration": 13,
    "start_time": "2022-06-12T15:11:18.704Z"
   },
   {
    "duration": 802,
    "start_time": "2022-06-12T15:11:50.627Z"
   },
   {
    "duration": 98624,
    "start_time": "2022-06-12T15:12:48.080Z"
   },
   {
    "duration": 10760,
    "start_time": "2022-06-12T15:14:49.720Z"
   },
   {
    "duration": 3,
    "start_time": "2022-06-12T15:15:11.478Z"
   },
   {
    "duration": 2134,
    "start_time": "2022-06-12T15:15:11.483Z"
   },
   {
    "duration": 2948,
    "start_time": "2022-06-12T15:15:13.619Z"
   },
   {
    "duration": 142,
    "start_time": "2022-06-12T15:15:16.570Z"
   },
   {
    "duration": 158,
    "start_time": "2022-06-12T15:15:16.714Z"
   },
   {
    "duration": 159,
    "start_time": "2022-06-12T15:15:16.874Z"
   },
   {
    "duration": 13,
    "start_time": "2022-06-12T15:15:17.035Z"
   },
   {
    "duration": 62,
    "start_time": "2022-06-12T15:15:17.049Z"
   },
   {
    "duration": 13,
    "start_time": "2022-06-12T15:15:17.114Z"
   },
   {
    "duration": 257,
    "start_time": "2022-06-12T15:15:17.130Z"
   },
   {
    "duration": 33,
    "start_time": "2022-06-12T15:15:17.389Z"
   },
   {
    "duration": 560,
    "start_time": "2022-06-12T15:15:17.424Z"
   },
   {
    "duration": 563,
    "start_time": "2022-06-12T15:15:17.986Z"
   },
   {
    "duration": 545,
    "start_time": "2022-06-12T15:15:18.551Z"
   },
   {
    "duration": 24,
    "start_time": "2022-06-12T15:15:19.098Z"
   },
   {
    "duration": 60,
    "start_time": "2022-06-12T15:15:19.123Z"
   },
   {
    "duration": 32,
    "start_time": "2022-06-12T15:15:19.185Z"
   },
   {
    "duration": 174,
    "start_time": "2022-06-12T15:15:19.218Z"
   },
   {
    "duration": 1054,
    "start_time": "2022-06-12T15:15:19.395Z"
   },
   {
    "duration": 183,
    "start_time": "2022-06-12T15:15:20.451Z"
   },
   {
    "duration": 884,
    "start_time": "2022-06-12T15:15:20.636Z"
   },
   {
    "duration": 139,
    "start_time": "2022-06-12T15:15:21.522Z"
   },
   {
    "duration": 51,
    "start_time": "2022-06-12T15:15:21.663Z"
   },
   {
    "duration": 259,
    "start_time": "2022-06-12T15:15:21.717Z"
   },
   {
    "duration": 318,
    "start_time": "2022-06-12T15:15:21.978Z"
   },
   {
    "duration": 77,
    "start_time": "2022-06-12T15:15:22.299Z"
   },
   {
    "duration": 106,
    "start_time": "2022-06-12T15:15:22.378Z"
   },
   {
    "duration": 211,
    "start_time": "2022-06-12T15:15:22.486Z"
   },
   {
    "duration": 102,
    "start_time": "2022-06-12T15:15:22.698Z"
   },
   {
    "duration": 68,
    "start_time": "2022-06-12T15:15:22.801Z"
   },
   {
    "duration": 3300,
    "start_time": "2022-06-12T15:15:22.871Z"
   },
   {
    "duration": 65,
    "start_time": "2022-06-12T15:15:26.173Z"
   },
   {
    "duration": 97,
    "start_time": "2022-06-12T15:15:26.239Z"
   },
   {
    "duration": 12,
    "start_time": "2022-06-12T15:15:26.338Z"
   },
   {
    "duration": 368,
    "start_time": "2022-06-12T15:15:26.358Z"
   },
   {
    "duration": 412,
    "start_time": "2022-06-12T15:15:26.728Z"
   },
   {
    "duration": 136,
    "start_time": "2022-06-12T15:15:27.142Z"
   },
   {
    "duration": 0,
    "start_time": "2022-06-12T15:15:27.279Z"
   },
   {
    "duration": 0,
    "start_time": "2022-06-12T15:15:27.281Z"
   },
   {
    "duration": 0,
    "start_time": "2022-06-12T15:15:27.282Z"
   },
   {
    "duration": 0,
    "start_time": "2022-06-12T15:15:27.283Z"
   },
   {
    "duration": 0,
    "start_time": "2022-06-12T15:15:27.284Z"
   },
   {
    "duration": 0,
    "start_time": "2022-06-12T15:15:27.285Z"
   },
   {
    "duration": 0,
    "start_time": "2022-06-12T15:15:27.286Z"
   },
   {
    "duration": 0,
    "start_time": "2022-06-12T15:15:27.288Z"
   },
   {
    "duration": 18726,
    "start_time": "2022-06-12T15:15:34.494Z"
   },
   {
    "duration": 183429,
    "start_time": "2022-06-12T15:16:07.339Z"
   },
   {
    "duration": 245033,
    "start_time": "2022-06-12T15:22:02.981Z"
   },
   {
    "duration": 273169,
    "start_time": "2022-06-12T15:26:11.468Z"
   },
   {
    "duration": 123097,
    "start_time": "2022-06-12T15:30:56.636Z"
   },
   {
    "duration": 5,
    "start_time": "2022-06-12T15:36:29.948Z"
   },
   {
    "duration": 8,
    "start_time": "2022-06-12T15:37:00.250Z"
   },
   {
    "duration": 5,
    "start_time": "2022-06-12T15:37:15.948Z"
   },
   {
    "duration": 5,
    "start_time": "2022-06-12T15:37:27.238Z"
   },
   {
    "duration": 428,
    "start_time": "2022-06-12T15:37:42.351Z"
   },
   {
    "duration": 308,
    "start_time": "2022-06-12T15:39:52.139Z"
   },
   {
    "duration": 435,
    "start_time": "2022-06-12T15:40:46.739Z"
   },
   {
    "duration": 655,
    "start_time": "2022-06-12T15:41:30.375Z"
   },
   {
    "duration": 263,
    "start_time": "2022-06-12T15:42:06.778Z"
   },
   {
    "duration": 542,
    "start_time": "2022-06-12T15:43:04.273Z"
   },
   {
    "duration": 668,
    "start_time": "2022-06-12T15:55:09.801Z"
   },
   {
    "duration": 1318,
    "start_time": "2022-06-12T15:56:52.203Z"
   },
   {
    "duration": 63977,
    "start_time": "2022-06-12T15:58:03.607Z"
   },
   {
    "duration": 70341,
    "start_time": "2022-06-12T15:59:21.361Z"
   },
   {
    "duration": 87430,
    "start_time": "2022-06-12T16:01:45.766Z"
   },
   {
    "duration": 26659,
    "start_time": "2022-06-12T16:07:21.518Z"
   },
   {
    "duration": 4,
    "start_time": "2022-06-12T16:07:50.563Z"
   },
   {
    "duration": 7,
    "start_time": "2022-06-12T16:07:53.134Z"
   },
   {
    "duration": 3,
    "start_time": "2022-06-12T16:08:20.208Z"
   },
   {
    "duration": 2095,
    "start_time": "2022-06-12T16:08:20.213Z"
   },
   {
    "duration": 2771,
    "start_time": "2022-06-12T16:08:22.310Z"
   },
   {
    "duration": 146,
    "start_time": "2022-06-12T16:08:25.083Z"
   },
   {
    "duration": 137,
    "start_time": "2022-06-12T16:08:25.230Z"
   },
   {
    "duration": 147,
    "start_time": "2022-06-12T16:08:25.369Z"
   },
   {
    "duration": 12,
    "start_time": "2022-06-12T16:08:25.518Z"
   },
   {
    "duration": 74,
    "start_time": "2022-06-12T16:08:25.532Z"
   },
   {
    "duration": 13,
    "start_time": "2022-06-12T16:08:25.609Z"
   },
   {
    "duration": 159,
    "start_time": "2022-06-12T16:08:25.624Z"
   },
   {
    "duration": 25,
    "start_time": "2022-06-12T16:08:25.786Z"
   },
   {
    "duration": 558,
    "start_time": "2022-06-12T16:08:25.813Z"
   },
   {
    "duration": 561,
    "start_time": "2022-06-12T16:08:26.373Z"
   },
   {
    "duration": 496,
    "start_time": "2022-06-12T16:08:26.936Z"
   },
   {
    "duration": 27,
    "start_time": "2022-06-12T16:08:27.434Z"
   },
   {
    "duration": 45,
    "start_time": "2022-06-12T16:08:27.463Z"
   },
   {
    "duration": 30,
    "start_time": "2022-06-12T16:08:27.509Z"
   },
   {
    "duration": 142,
    "start_time": "2022-06-12T16:08:27.558Z"
   },
   {
    "duration": 984,
    "start_time": "2022-06-12T16:08:27.701Z"
   },
   {
    "duration": 171,
    "start_time": "2022-06-12T16:08:28.687Z"
   },
   {
    "duration": 824,
    "start_time": "2022-06-12T16:08:28.860Z"
   },
   {
    "duration": 128,
    "start_time": "2022-06-12T16:08:29.685Z"
   },
   {
    "duration": 54,
    "start_time": "2022-06-12T16:08:29.815Z"
   },
   {
    "duration": 163,
    "start_time": "2022-06-12T16:08:29.873Z"
   },
   {
    "duration": 115,
    "start_time": "2022-06-12T16:08:30.038Z"
   },
   {
    "duration": 20,
    "start_time": "2022-06-12T16:08:30.158Z"
   },
   {
    "duration": 60,
    "start_time": "2022-06-12T16:08:30.179Z"
   },
   {
    "duration": 122,
    "start_time": "2022-06-12T16:08:30.241Z"
   },
   {
    "duration": 50,
    "start_time": "2022-06-12T16:08:30.364Z"
   },
   {
    "duration": 15,
    "start_time": "2022-06-12T16:08:30.416Z"
   },
   {
    "duration": 1834,
    "start_time": "2022-06-12T16:08:30.433Z"
   },
   {
    "duration": 51,
    "start_time": "2022-06-12T16:08:32.268Z"
   },
   {
    "duration": 82,
    "start_time": "2022-06-12T16:08:32.321Z"
   },
   {
    "duration": 17,
    "start_time": "2022-06-12T16:08:32.405Z"
   },
   {
    "duration": 372,
    "start_time": "2022-06-12T16:08:32.424Z"
   },
   {
    "duration": 424,
    "start_time": "2022-06-12T16:08:32.798Z"
   },
   {
    "duration": 133,
    "start_time": "2022-06-12T16:08:33.223Z"
   },
   {
    "duration": 0,
    "start_time": "2022-06-12T16:08:33.359Z"
   },
   {
    "duration": 0,
    "start_time": "2022-06-12T16:08:33.360Z"
   },
   {
    "duration": 0,
    "start_time": "2022-06-12T16:08:33.362Z"
   },
   {
    "duration": 0,
    "start_time": "2022-06-12T16:08:33.363Z"
   },
   {
    "duration": 0,
    "start_time": "2022-06-12T16:08:33.365Z"
   },
   {
    "duration": 0,
    "start_time": "2022-06-12T16:08:33.367Z"
   },
   {
    "duration": 0,
    "start_time": "2022-06-12T16:08:33.369Z"
   },
   {
    "duration": 0,
    "start_time": "2022-06-12T16:08:33.370Z"
   },
   {
    "duration": 0,
    "start_time": "2022-06-12T16:08:33.371Z"
   },
   {
    "duration": 0,
    "start_time": "2022-06-12T16:08:33.373Z"
   },
   {
    "duration": 8884,
    "start_time": "2022-06-12T16:10:24.115Z"
   },
   {
    "duration": 14,
    "start_time": "2022-06-12T16:10:35.489Z"
   },
   {
    "duration": 5,
    "start_time": "2022-06-12T16:10:36.931Z"
   },
   {
    "duration": 13121,
    "start_time": "2022-06-12T16:10:48.660Z"
   },
   {
    "duration": 48686,
    "start_time": "2022-06-12T16:13:56.545Z"
   },
   {
    "duration": 4,
    "start_time": "2022-06-12T16:17:18.388Z"
   },
   {
    "duration": 2410,
    "start_time": "2022-06-12T16:17:18.394Z"
   },
   {
    "duration": 3094,
    "start_time": "2022-06-12T16:17:20.806Z"
   },
   {
    "duration": 286,
    "start_time": "2022-06-12T16:17:23.902Z"
   },
   {
    "duration": 290,
    "start_time": "2022-06-12T16:17:24.190Z"
   },
   {
    "duration": 287,
    "start_time": "2022-06-12T16:17:24.482Z"
   },
   {
    "duration": 13,
    "start_time": "2022-06-12T16:17:24.771Z"
   },
   {
    "duration": 118,
    "start_time": "2022-06-12T16:17:24.785Z"
   },
   {
    "duration": 59,
    "start_time": "2022-06-12T16:17:24.904Z"
   },
   {
    "duration": 166,
    "start_time": "2022-06-12T16:17:24.967Z"
   },
   {
    "duration": 34,
    "start_time": "2022-06-12T16:17:25.135Z"
   },
   {
    "duration": 998,
    "start_time": "2022-06-12T16:17:25.170Z"
   },
   {
    "duration": 1075,
    "start_time": "2022-06-12T16:17:26.170Z"
   },
   {
    "duration": 533,
    "start_time": "2022-06-12T16:17:27.247Z"
   },
   {
    "duration": 21,
    "start_time": "2022-06-12T16:17:27.782Z"
   },
   {
    "duration": 60,
    "start_time": "2022-06-12T16:17:27.804Z"
   },
   {
    "duration": 30,
    "start_time": "2022-06-12T16:17:27.866Z"
   },
   {
    "duration": 146,
    "start_time": "2022-06-12T16:17:27.898Z"
   },
   {
    "duration": 981,
    "start_time": "2022-06-12T16:17:28.059Z"
   },
   {
    "duration": 174,
    "start_time": "2022-06-12T16:17:29.042Z"
   },
   {
    "duration": 801,
    "start_time": "2022-06-12T16:17:29.218Z"
   },
   {
    "duration": 119,
    "start_time": "2022-06-12T16:17:30.021Z"
   },
   {
    "duration": 67,
    "start_time": "2022-06-12T16:17:30.142Z"
   },
   {
    "duration": 167,
    "start_time": "2022-06-12T16:17:30.211Z"
   },
   {
    "duration": 112,
    "start_time": "2022-06-12T16:17:30.381Z"
   },
   {
    "duration": 20,
    "start_time": "2022-06-12T16:17:30.495Z"
   },
   {
    "duration": 75,
    "start_time": "2022-06-12T16:17:30.517Z"
   },
   {
    "duration": 112,
    "start_time": "2022-06-12T16:17:30.596Z"
   },
   {
    "duration": 59,
    "start_time": "2022-06-12T16:17:30.710Z"
   },
   {
    "duration": 11,
    "start_time": "2022-06-12T16:17:30.770Z"
   },
   {
    "duration": 1856,
    "start_time": "2022-06-12T16:17:30.783Z"
   },
   {
    "duration": 58,
    "start_time": "2022-06-12T16:17:32.641Z"
   },
   {
    "duration": 81,
    "start_time": "2022-06-12T16:17:32.701Z"
   },
   {
    "duration": 11,
    "start_time": "2022-06-12T16:17:32.784Z"
   },
   {
    "duration": 386,
    "start_time": "2022-06-12T16:17:32.797Z"
   },
   {
    "duration": 437,
    "start_time": "2022-06-12T16:17:33.185Z"
   },
   {
    "duration": 148,
    "start_time": "2022-06-12T16:17:33.623Z"
   },
   {
    "duration": 0,
    "start_time": "2022-06-12T16:17:33.772Z"
   },
   {
    "duration": 0,
    "start_time": "2022-06-12T16:17:33.773Z"
   },
   {
    "duration": 0,
    "start_time": "2022-06-12T16:17:33.774Z"
   },
   {
    "duration": 0,
    "start_time": "2022-06-12T16:17:33.776Z"
   },
   {
    "duration": 0,
    "start_time": "2022-06-12T16:17:33.777Z"
   },
   {
    "duration": 0,
    "start_time": "2022-06-12T16:17:33.778Z"
   },
   {
    "duration": 0,
    "start_time": "2022-06-12T16:17:33.779Z"
   },
   {
    "duration": 0,
    "start_time": "2022-06-12T16:17:33.781Z"
   },
   {
    "duration": 0,
    "start_time": "2022-06-12T16:17:33.782Z"
   },
   {
    "duration": 0,
    "start_time": "2022-06-12T16:17:33.783Z"
   },
   {
    "duration": 50068,
    "start_time": "2022-06-12T16:17:52.173Z"
   },
   {
    "duration": 63794,
    "start_time": "2022-06-12T16:19:48.479Z"
   },
   {
    "duration": 56,
    "start_time": "2022-06-12T16:27:15.685Z"
   },
   {
    "duration": 4,
    "start_time": "2022-06-12T16:27:24.131Z"
   },
   {
    "duration": 2124,
    "start_time": "2022-06-12T16:27:24.138Z"
   },
   {
    "duration": 3177,
    "start_time": "2022-06-12T16:27:26.265Z"
   },
   {
    "duration": 142,
    "start_time": "2022-06-12T16:27:29.443Z"
   },
   {
    "duration": 135,
    "start_time": "2022-06-12T16:27:29.587Z"
   },
   {
    "duration": 141,
    "start_time": "2022-06-12T16:27:29.724Z"
   },
   {
    "duration": 13,
    "start_time": "2022-06-12T16:27:29.866Z"
   },
   {
    "duration": 59,
    "start_time": "2022-06-12T16:27:29.880Z"
   },
   {
    "duration": 28,
    "start_time": "2022-06-12T16:27:29.941Z"
   },
   {
    "duration": 139,
    "start_time": "2022-06-12T16:27:29.971Z"
   },
   {
    "duration": 23,
    "start_time": "2022-06-12T16:27:30.112Z"
   },
   {
    "duration": 539,
    "start_time": "2022-06-12T16:27:30.137Z"
   },
   {
    "duration": 569,
    "start_time": "2022-06-12T16:27:30.678Z"
   },
   {
    "duration": 546,
    "start_time": "2022-06-12T16:27:31.250Z"
   },
   {
    "duration": 31,
    "start_time": "2022-06-12T16:27:31.798Z"
   },
   {
    "duration": 64,
    "start_time": "2022-06-12T16:27:31.831Z"
   },
   {
    "duration": 39,
    "start_time": "2022-06-12T16:27:31.897Z"
   },
   {
    "duration": 228,
    "start_time": "2022-06-12T16:27:31.960Z"
   },
   {
    "duration": 1969,
    "start_time": "2022-06-12T16:27:32.190Z"
   },
   {
    "duration": 166,
    "start_time": "2022-06-12T16:27:34.160Z"
   },
   {
    "duration": 796,
    "start_time": "2022-06-12T16:27:34.328Z"
   },
   {
    "duration": 116,
    "start_time": "2022-06-12T16:27:35.126Z"
   },
   {
    "duration": 57,
    "start_time": "2022-06-12T16:27:35.243Z"
   },
   {
    "duration": 170,
    "start_time": "2022-06-12T16:27:35.302Z"
   },
   {
    "duration": 102,
    "start_time": "2022-06-12T16:27:35.474Z"
   },
   {
    "duration": 19,
    "start_time": "2022-06-12T16:27:35.578Z"
   },
   {
    "duration": 60,
    "start_time": "2022-06-12T16:27:35.598Z"
   },
   {
    "duration": 117,
    "start_time": "2022-06-12T16:27:35.660Z"
   },
   {
    "duration": 48,
    "start_time": "2022-06-12T16:27:35.778Z"
   },
   {
    "duration": 10,
    "start_time": "2022-06-12T16:27:35.827Z"
   },
   {
    "duration": 1776,
    "start_time": "2022-06-12T16:27:35.859Z"
   },
   {
    "duration": 57,
    "start_time": "2022-06-12T16:27:37.637Z"
   },
   {
    "duration": 87,
    "start_time": "2022-06-12T16:27:37.696Z"
   },
   {
    "duration": 16,
    "start_time": "2022-06-12T16:27:37.785Z"
   },
   {
    "duration": 443,
    "start_time": "2022-06-12T16:27:37.803Z"
   },
   {
    "duration": 426,
    "start_time": "2022-06-12T16:27:38.248Z"
   },
   {
    "duration": 130,
    "start_time": "2022-06-12T16:27:38.676Z"
   },
   {
    "duration": 0,
    "start_time": "2022-06-12T16:27:38.808Z"
   },
   {
    "duration": 0,
    "start_time": "2022-06-12T16:27:38.809Z"
   },
   {
    "duration": 0,
    "start_time": "2022-06-12T16:27:38.810Z"
   },
   {
    "duration": 0,
    "start_time": "2022-06-12T16:27:38.811Z"
   },
   {
    "duration": 0,
    "start_time": "2022-06-12T16:27:38.812Z"
   },
   {
    "duration": 0,
    "start_time": "2022-06-12T16:27:38.813Z"
   },
   {
    "duration": 0,
    "start_time": "2022-06-12T16:27:38.814Z"
   },
   {
    "duration": 0,
    "start_time": "2022-06-12T16:27:38.815Z"
   },
   {
    "duration": 0,
    "start_time": "2022-06-12T16:27:38.817Z"
   },
   {
    "duration": 0,
    "start_time": "2022-06-12T16:27:38.818Z"
   },
   {
    "duration": 61299,
    "start_time": "2022-06-12T16:27:48.867Z"
   },
   {
    "duration": 46928,
    "start_time": "2022-06-12T16:30:18.386Z"
   },
   {
    "duration": 52655,
    "start_time": "2022-06-12T16:31:14.563Z"
   },
   {
    "duration": 321,
    "start_time": "2022-06-12T16:32:36.160Z"
   },
   {
    "duration": 326,
    "start_time": "2022-06-12T16:32:56.822Z"
   },
   {
    "duration": 290,
    "start_time": "2022-06-12T16:33:07.050Z"
   },
   {
    "duration": 483227,
    "start_time": "2022-06-12T17:06:02.416Z"
   },
   {
    "duration": 4,
    "start_time": "2022-06-12T17:14:18.145Z"
   },
   {
    "duration": 1357,
    "start_time": "2022-06-12T17:14:18.151Z"
   },
   {
    "duration": 894,
    "start_time": "2022-06-12T17:14:19.510Z"
   },
   {
    "duration": 138,
    "start_time": "2022-06-12T17:14:20.406Z"
   },
   {
    "duration": 138,
    "start_time": "2022-06-12T17:14:20.546Z"
   },
   {
    "duration": 153,
    "start_time": "2022-06-12T17:14:20.686Z"
   },
   {
    "duration": 22,
    "start_time": "2022-06-12T17:14:20.841Z"
   },
   {
    "duration": 55,
    "start_time": "2022-06-12T17:14:20.865Z"
   },
   {
    "duration": 13,
    "start_time": "2022-06-12T17:14:20.922Z"
   },
   {
    "duration": 159,
    "start_time": "2022-06-12T17:14:20.936Z"
   },
   {
    "duration": 23,
    "start_time": "2022-06-12T17:14:21.096Z"
   },
   {
    "duration": 515,
    "start_time": "2022-06-12T17:14:21.121Z"
   },
   {
    "duration": 610,
    "start_time": "2022-06-12T17:14:21.638Z"
   },
   {
    "duration": 499,
    "start_time": "2022-06-12T17:14:22.250Z"
   },
   {
    "duration": 26,
    "start_time": "2022-06-12T17:14:22.751Z"
   },
   {
    "duration": 48,
    "start_time": "2022-06-12T17:14:22.779Z"
   },
   {
    "duration": 57,
    "start_time": "2022-06-12T17:14:22.830Z"
   },
   {
    "duration": 143,
    "start_time": "2022-06-12T17:14:22.889Z"
   },
   {
    "duration": 982,
    "start_time": "2022-06-12T17:14:23.034Z"
   },
   {
    "duration": 163,
    "start_time": "2022-06-12T17:14:24.020Z"
   },
   {
    "duration": 789,
    "start_time": "2022-06-12T17:14:24.185Z"
   },
   {
    "duration": 121,
    "start_time": "2022-06-12T17:14:24.976Z"
   },
   {
    "duration": 60,
    "start_time": "2022-06-12T17:14:25.099Z"
   },
   {
    "duration": 163,
    "start_time": "2022-06-12T17:14:25.164Z"
   },
   {
    "duration": 115,
    "start_time": "2022-06-12T17:14:25.329Z"
   },
   {
    "duration": 24,
    "start_time": "2022-06-12T17:14:25.446Z"
   },
   {
    "duration": 46,
    "start_time": "2022-06-12T17:14:25.472Z"
   },
   {
    "duration": 125,
    "start_time": "2022-06-12T17:14:25.520Z"
   },
   {
    "duration": 54,
    "start_time": "2022-06-12T17:14:25.647Z"
   },
   {
    "duration": 10,
    "start_time": "2022-06-12T17:14:25.702Z"
   },
   {
    "duration": 1801,
    "start_time": "2022-06-12T17:14:25.714Z"
   },
   {
    "duration": 65,
    "start_time": "2022-06-12T17:14:27.519Z"
   },
   {
    "duration": 85,
    "start_time": "2022-06-12T17:14:27.586Z"
   },
   {
    "duration": 16,
    "start_time": "2022-06-12T17:14:27.673Z"
   },
   {
    "duration": 393,
    "start_time": "2022-06-12T17:14:27.691Z"
   },
   {
    "duration": 423,
    "start_time": "2022-06-12T17:14:28.086Z"
   },
   {
    "duration": 134,
    "start_time": "2022-06-12T17:14:28.511Z"
   },
   {
    "duration": 0,
    "start_time": "2022-06-12T17:14:28.647Z"
   },
   {
    "duration": 0,
    "start_time": "2022-06-12T17:14:28.648Z"
   },
   {
    "duration": 0,
    "start_time": "2022-06-12T17:14:28.649Z"
   },
   {
    "duration": 0,
    "start_time": "2022-06-12T17:14:28.652Z"
   },
   {
    "duration": 0,
    "start_time": "2022-06-12T17:14:28.658Z"
   },
   {
    "duration": 0,
    "start_time": "2022-06-12T17:14:28.660Z"
   },
   {
    "duration": 0,
    "start_time": "2022-06-12T17:14:28.660Z"
   },
   {
    "duration": 0,
    "start_time": "2022-06-12T17:14:28.662Z"
   },
   {
    "duration": 0,
    "start_time": "2022-06-12T17:14:28.663Z"
   },
   {
    "duration": 0,
    "start_time": "2022-06-12T17:14:28.664Z"
   },
   {
    "duration": 7843,
    "start_time": "2022-06-12T17:14:52.946Z"
   },
   {
    "duration": 184807,
    "start_time": "2022-06-12T17:15:13.993Z"
   },
   {
    "duration": 9439,
    "start_time": "2022-06-12T17:18:23.213Z"
   },
   {
    "duration": 29,
    "start_time": "2022-06-12T17:19:01.582Z"
   },
   {
    "duration": 25,
    "start_time": "2022-06-12T17:19:07.068Z"
   },
   {
    "duration": 23629,
    "start_time": "2022-06-12T17:19:29.805Z"
   },
   {
    "duration": 9354,
    "start_time": "2022-06-12T17:20:45.551Z"
   },
   {
    "duration": 763800,
    "start_time": "2022-06-12T17:21:00.107Z"
   },
   {
    "duration": 216,
    "start_time": "2022-06-12T18:00:13.229Z"
   },
   {
    "duration": 10121,
    "start_time": "2022-06-12T18:00:55.035Z"
   },
   {
    "duration": 3,
    "start_time": "2022-06-13T08:29:21.663Z"
   },
   {
    "duration": 1376,
    "start_time": "2022-06-13T08:29:21.668Z"
   },
   {
    "duration": 0,
    "start_time": "2022-06-13T08:29:23.046Z"
   },
   {
    "duration": 0,
    "start_time": "2022-06-13T08:29:23.048Z"
   },
   {
    "duration": 0,
    "start_time": "2022-06-13T08:29:23.049Z"
   },
   {
    "duration": 0,
    "start_time": "2022-06-13T08:29:23.050Z"
   },
   {
    "duration": 0,
    "start_time": "2022-06-13T08:29:23.050Z"
   },
   {
    "duration": 0,
    "start_time": "2022-06-13T08:29:23.052Z"
   },
   {
    "duration": 0,
    "start_time": "2022-06-13T08:29:23.053Z"
   },
   {
    "duration": 0,
    "start_time": "2022-06-13T08:29:23.054Z"
   },
   {
    "duration": 0,
    "start_time": "2022-06-13T08:29:23.055Z"
   },
   {
    "duration": 0,
    "start_time": "2022-06-13T08:29:23.056Z"
   },
   {
    "duration": 0,
    "start_time": "2022-06-13T08:29:23.057Z"
   },
   {
    "duration": 0,
    "start_time": "2022-06-13T08:29:23.058Z"
   },
   {
    "duration": 0,
    "start_time": "2022-06-13T08:29:23.059Z"
   },
   {
    "duration": 0,
    "start_time": "2022-06-13T08:29:23.060Z"
   },
   {
    "duration": 0,
    "start_time": "2022-06-13T08:29:23.060Z"
   },
   {
    "duration": 0,
    "start_time": "2022-06-13T08:29:23.061Z"
   },
   {
    "duration": 0,
    "start_time": "2022-06-13T08:29:23.062Z"
   },
   {
    "duration": 0,
    "start_time": "2022-06-13T08:29:23.063Z"
   },
   {
    "duration": 0,
    "start_time": "2022-06-13T08:29:23.064Z"
   },
   {
    "duration": 0,
    "start_time": "2022-06-13T08:29:23.065Z"
   },
   {
    "duration": 0,
    "start_time": "2022-06-13T08:29:23.066Z"
   },
   {
    "duration": 0,
    "start_time": "2022-06-13T08:29:23.066Z"
   },
   {
    "duration": 0,
    "start_time": "2022-06-13T08:29:23.067Z"
   },
   {
    "duration": 0,
    "start_time": "2022-06-13T08:29:23.100Z"
   },
   {
    "duration": 0,
    "start_time": "2022-06-13T08:29:23.101Z"
   },
   {
    "duration": 0,
    "start_time": "2022-06-13T08:29:23.109Z"
   },
   {
    "duration": 0,
    "start_time": "2022-06-13T08:29:23.110Z"
   },
   {
    "duration": 0,
    "start_time": "2022-06-13T08:29:23.111Z"
   },
   {
    "duration": 0,
    "start_time": "2022-06-13T08:29:23.112Z"
   },
   {
    "duration": 0,
    "start_time": "2022-06-13T08:29:23.114Z"
   },
   {
    "duration": 0,
    "start_time": "2022-06-13T08:29:23.116Z"
   },
   {
    "duration": 0,
    "start_time": "2022-06-13T08:29:23.117Z"
   },
   {
    "duration": 0,
    "start_time": "2022-06-13T08:29:23.119Z"
   },
   {
    "duration": 0,
    "start_time": "2022-06-13T08:29:23.120Z"
   },
   {
    "duration": 0,
    "start_time": "2022-06-13T08:29:23.122Z"
   },
   {
    "duration": 0,
    "start_time": "2022-06-13T08:29:23.123Z"
   },
   {
    "duration": 0,
    "start_time": "2022-06-13T08:29:23.125Z"
   },
   {
    "duration": 0,
    "start_time": "2022-06-13T08:29:23.126Z"
   },
   {
    "duration": 0,
    "start_time": "2022-06-13T08:29:23.127Z"
   },
   {
    "duration": 0,
    "start_time": "2022-06-13T08:29:23.129Z"
   },
   {
    "duration": 0,
    "start_time": "2022-06-13T08:29:23.130Z"
   },
   {
    "duration": 0,
    "start_time": "2022-06-13T08:29:23.130Z"
   },
   {
    "duration": 0,
    "start_time": "2022-06-13T08:29:23.131Z"
   },
   {
    "duration": 0,
    "start_time": "2022-06-13T08:29:23.132Z"
   },
   {
    "duration": 8101,
    "start_time": "2022-06-13T08:29:43.948Z"
   },
   {
    "duration": 1806,
    "start_time": "2022-06-13T08:29:52.051Z"
   },
   {
    "duration": 1483,
    "start_time": "2022-06-13T08:29:53.859Z"
   },
   {
    "duration": 145,
    "start_time": "2022-06-13T08:29:55.344Z"
   },
   {
    "duration": 185,
    "start_time": "2022-06-13T08:29:55.491Z"
   },
   {
    "duration": 196,
    "start_time": "2022-06-13T08:29:55.678Z"
   },
   {
    "duration": 12,
    "start_time": "2022-06-13T08:29:55.876Z"
   },
   {
    "duration": 68,
    "start_time": "2022-06-13T08:29:55.890Z"
   },
   {
    "duration": 12,
    "start_time": "2022-06-13T08:29:55.959Z"
   },
   {
    "duration": 204,
    "start_time": "2022-06-13T08:29:55.974Z"
   },
   {
    "duration": 45,
    "start_time": "2022-06-13T08:29:56.180Z"
   },
   {
    "duration": 631,
    "start_time": "2022-06-13T08:29:56.227Z"
   },
   {
    "duration": 600,
    "start_time": "2022-06-13T08:29:56.860Z"
   },
   {
    "duration": 564,
    "start_time": "2022-06-13T08:29:57.462Z"
   },
   {
    "duration": 19,
    "start_time": "2022-06-13T08:29:58.028Z"
   },
   {
    "duration": 72,
    "start_time": "2022-06-13T08:29:58.049Z"
   },
   {
    "duration": 29,
    "start_time": "2022-06-13T08:29:58.124Z"
   },
   {
    "duration": 159,
    "start_time": "2022-06-13T08:29:58.154Z"
   },
   {
    "duration": 1140,
    "start_time": "2022-06-13T08:29:58.315Z"
   },
   {
    "duration": 179,
    "start_time": "2022-06-13T08:29:59.456Z"
   },
   {
    "duration": 896,
    "start_time": "2022-06-13T08:29:59.637Z"
   },
   {
    "duration": 130,
    "start_time": "2022-06-13T08:30:00.535Z"
   },
   {
    "duration": 69,
    "start_time": "2022-06-13T08:30:00.666Z"
   },
   {
    "duration": 212,
    "start_time": "2022-06-13T08:30:00.737Z"
   },
   {
    "duration": 126,
    "start_time": "2022-06-13T08:30:00.951Z"
   },
   {
    "duration": 40,
    "start_time": "2022-06-13T08:30:01.078Z"
   },
   {
    "duration": 58,
    "start_time": "2022-06-13T08:30:01.127Z"
   },
   {
    "duration": 135,
    "start_time": "2022-06-13T08:30:01.189Z"
   },
   {
    "duration": 96,
    "start_time": "2022-06-13T08:30:01.332Z"
   },
   {
    "duration": 28,
    "start_time": "2022-06-13T08:30:01.429Z"
   },
   {
    "duration": 2099,
    "start_time": "2022-06-13T08:30:01.459Z"
   },
   {
    "duration": 99,
    "start_time": "2022-06-13T08:30:03.560Z"
   },
   {
    "duration": 101,
    "start_time": "2022-06-13T08:30:03.661Z"
   },
   {
    "duration": 18,
    "start_time": "2022-06-13T08:30:03.763Z"
   },
   {
    "duration": 553,
    "start_time": "2022-06-13T08:30:03.784Z"
   },
   {
    "duration": 615,
    "start_time": "2022-06-13T08:30:04.339Z"
   },
   {
    "duration": 181,
    "start_time": "2022-06-13T08:30:04.957Z"
   },
   {
    "duration": 0,
    "start_time": "2022-06-13T08:30:05.139Z"
   },
   {
    "duration": 0,
    "start_time": "2022-06-13T08:30:05.140Z"
   },
   {
    "duration": 0,
    "start_time": "2022-06-13T08:30:05.141Z"
   },
   {
    "duration": 0,
    "start_time": "2022-06-13T08:30:05.142Z"
   },
   {
    "duration": 0,
    "start_time": "2022-06-13T08:30:05.144Z"
   },
   {
    "duration": 0,
    "start_time": "2022-06-13T08:30:05.145Z"
   },
   {
    "duration": 0,
    "start_time": "2022-06-13T08:30:05.146Z"
   },
   {
    "duration": 0,
    "start_time": "2022-06-13T08:30:05.148Z"
   },
   {
    "duration": 0,
    "start_time": "2022-06-13T08:30:05.149Z"
   },
   {
    "duration": 18,
    "start_time": "2022-06-13T08:30:29.028Z"
   },
   {
    "duration": 27,
    "start_time": "2022-06-13T08:30:54.593Z"
   },
   {
    "duration": 17,
    "start_time": "2022-06-13T08:31:11.902Z"
   },
   {
    "duration": 20,
    "start_time": "2022-06-13T08:41:52.918Z"
   },
   {
    "duration": 1124458,
    "start_time": "2022-06-13T08:41:57.720Z"
   },
   {
    "duration": 15,
    "start_time": "2022-06-13T09:35:51.993Z"
   },
   {
    "duration": 2098,
    "start_time": "2022-06-13T09:35:52.010Z"
   },
   {
    "duration": 1221,
    "start_time": "2022-06-13T09:35:54.110Z"
   },
   {
    "duration": 148,
    "start_time": "2022-06-13T09:35:55.333Z"
   },
   {
    "duration": 153,
    "start_time": "2022-06-13T09:35:55.483Z"
   },
   {
    "duration": 137,
    "start_time": "2022-06-13T09:35:55.638Z"
   },
   {
    "duration": 27,
    "start_time": "2022-06-13T09:35:55.777Z"
   },
   {
    "duration": 68,
    "start_time": "2022-06-13T09:35:55.806Z"
   },
   {
    "duration": 18,
    "start_time": "2022-06-13T09:35:55.876Z"
   },
   {
    "duration": 150,
    "start_time": "2022-06-13T09:35:55.897Z"
   },
   {
    "duration": 29,
    "start_time": "2022-06-13T09:35:56.048Z"
   },
   {
    "duration": 507,
    "start_time": "2022-06-13T09:35:56.079Z"
   },
   {
    "duration": 542,
    "start_time": "2022-06-13T09:35:56.588Z"
   },
   {
    "duration": 1098,
    "start_time": "2022-06-13T09:35:57.131Z"
   },
   {
    "duration": 78,
    "start_time": "2022-06-13T09:35:58.231Z"
   },
   {
    "duration": 94,
    "start_time": "2022-06-13T09:35:58.314Z"
   },
   {
    "duration": 88,
    "start_time": "2022-06-13T09:35:58.413Z"
   },
   {
    "duration": 310,
    "start_time": "2022-06-13T09:35:58.503Z"
   },
   {
    "duration": 1293,
    "start_time": "2022-06-13T09:35:58.815Z"
   },
   {
    "duration": 170,
    "start_time": "2022-06-13T09:36:00.112Z"
   },
   {
    "duration": 867,
    "start_time": "2022-06-13T09:36:00.284Z"
   },
   {
    "duration": 119,
    "start_time": "2022-06-13T09:36:01.153Z"
   },
   {
    "duration": 62,
    "start_time": "2022-06-13T09:36:01.273Z"
   },
   {
    "duration": 179,
    "start_time": "2022-06-13T09:36:01.337Z"
   },
   {
    "duration": 118,
    "start_time": "2022-06-13T09:36:01.518Z"
   },
   {
    "duration": 21,
    "start_time": "2022-06-13T09:36:01.638Z"
   },
   {
    "duration": 85,
    "start_time": "2022-06-13T09:36:01.661Z"
   },
   {
    "duration": 124,
    "start_time": "2022-06-13T09:36:01.750Z"
   },
   {
    "duration": 88,
    "start_time": "2022-06-13T09:36:01.876Z"
   },
   {
    "duration": 11,
    "start_time": "2022-06-13T09:36:01.966Z"
   },
   {
    "duration": 1890,
    "start_time": "2022-06-13T09:36:01.979Z"
   },
   {
    "duration": 65,
    "start_time": "2022-06-13T09:36:03.871Z"
   },
   {
    "duration": 97,
    "start_time": "2022-06-13T09:36:03.938Z"
   },
   {
    "duration": 16,
    "start_time": "2022-06-13T09:36:04.037Z"
   },
   {
    "duration": 446,
    "start_time": "2022-06-13T09:36:04.055Z"
   },
   {
    "duration": 421,
    "start_time": "2022-06-13T09:36:04.503Z"
   },
   {
    "duration": 130,
    "start_time": "2022-06-13T09:36:04.926Z"
   },
   {
    "duration": 0,
    "start_time": "2022-06-13T09:36:05.058Z"
   },
   {
    "duration": 0,
    "start_time": "2022-06-13T09:36:05.060Z"
   },
   {
    "duration": 0,
    "start_time": "2022-06-13T09:36:05.061Z"
   },
   {
    "duration": 0,
    "start_time": "2022-06-13T09:36:05.063Z"
   },
   {
    "duration": 0,
    "start_time": "2022-06-13T09:36:05.063Z"
   },
   {
    "duration": 0,
    "start_time": "2022-06-13T09:36:05.064Z"
   },
   {
    "duration": 0,
    "start_time": "2022-06-13T09:36:05.066Z"
   },
   {
    "duration": 0,
    "start_time": "2022-06-13T09:36:05.067Z"
   },
   {
    "duration": 0,
    "start_time": "2022-06-13T09:36:05.068Z"
   },
   {
    "duration": 6750,
    "start_time": "2022-06-13T10:09:33.840Z"
   },
   {
    "duration": 99604,
    "start_time": "2022-06-13T10:09:48.368Z"
   },
   {
    "duration": 4,
    "start_time": "2022-06-13T10:12:07.271Z"
   },
   {
    "duration": 15,
    "start_time": "2022-06-13T10:13:28.821Z"
   },
   {
    "duration": 156893,
    "start_time": "2022-06-13T10:14:23.622Z"
   },
   {
    "duration": 472127,
    "start_time": "2022-06-13T10:17:08.815Z"
   },
   {
    "duration": 5,
    "start_time": "2022-06-13T10:25:51.436Z"
   },
   {
    "duration": 504281,
    "start_time": "2022-06-13T10:27:31.029Z"
   },
   {
    "duration": 895404,
    "start_time": "2022-06-13T10:36:12.193Z"
   },
   {
    "duration": 1606469,
    "start_time": "2022-06-13T10:52:23.670Z"
   },
   {
    "duration": 191919,
    "start_time": "2022-06-13T12:02:17.041Z"
   },
   {
    "duration": 863188,
    "start_time": "2022-06-13T12:06:15.123Z"
   },
   {
    "duration": 3,
    "start_time": "2022-06-13T12:20:38.313Z"
   },
   {
    "duration": 40,
    "start_time": "2022-06-13T12:20:38.317Z"
   },
   {
    "duration": 97512,
    "start_time": "2022-06-13T12:36:52.394Z"
   },
   {
    "duration": 118230,
    "start_time": "2022-06-13T12:39:04.938Z"
   },
   {
    "duration": 506286,
    "start_time": "2022-06-13T12:41:07.848Z"
   },
   {
    "duration": 78549,
    "start_time": "2022-06-13T12:49:37.707Z"
   },
   {
    "duration": 4,
    "start_time": "2022-06-13T12:51:08.238Z"
   },
   {
    "duration": 2898,
    "start_time": "2022-06-13T12:51:08.245Z"
   },
   {
    "duration": 1339,
    "start_time": "2022-06-13T12:51:11.145Z"
   },
   {
    "duration": 227,
    "start_time": "2022-06-13T12:51:12.486Z"
   },
   {
    "duration": 156,
    "start_time": "2022-06-13T12:51:12.716Z"
   },
   {
    "duration": 163,
    "start_time": "2022-06-13T12:51:12.874Z"
   },
   {
    "duration": 12,
    "start_time": "2022-06-13T12:51:13.038Z"
   },
   {
    "duration": 76,
    "start_time": "2022-06-13T12:51:13.052Z"
   },
   {
    "duration": 13,
    "start_time": "2022-06-13T12:51:13.132Z"
   },
   {
    "duration": 175,
    "start_time": "2022-06-13T12:51:13.147Z"
   },
   {
    "duration": 21,
    "start_time": "2022-06-13T12:51:13.324Z"
   },
   {
    "duration": 555,
    "start_time": "2022-06-13T12:51:13.347Z"
   },
   {
    "duration": 613,
    "start_time": "2022-06-13T12:51:13.906Z"
   },
   {
    "duration": 601,
    "start_time": "2022-06-13T12:51:14.521Z"
   },
   {
    "duration": 22,
    "start_time": "2022-06-13T12:51:15.123Z"
   },
   {
    "duration": 65,
    "start_time": "2022-06-13T12:51:15.146Z"
   },
   {
    "duration": 33,
    "start_time": "2022-06-13T12:51:15.213Z"
   },
   {
    "duration": 162,
    "start_time": "2022-06-13T12:51:15.248Z"
   },
   {
    "duration": 1032,
    "start_time": "2022-06-13T12:51:15.414Z"
   },
   {
    "duration": 194,
    "start_time": "2022-06-13T12:51:16.448Z"
   },
   {
    "duration": 869,
    "start_time": "2022-06-13T12:51:16.644Z"
   },
   {
    "duration": 146,
    "start_time": "2022-06-13T12:51:17.515Z"
   },
   {
    "duration": 53,
    "start_time": "2022-06-13T12:51:17.663Z"
   },
   {
    "duration": 167,
    "start_time": "2022-06-13T12:51:17.720Z"
   },
   {
    "duration": 164,
    "start_time": "2022-06-13T12:51:17.895Z"
   },
   {
    "duration": 43,
    "start_time": "2022-06-13T12:51:18.061Z"
   },
   {
    "duration": 74,
    "start_time": "2022-06-13T12:51:18.106Z"
   },
   {
    "duration": 137,
    "start_time": "2022-06-13T12:51:18.182Z"
   },
   {
    "duration": 52,
    "start_time": "2022-06-13T12:51:18.322Z"
   },
   {
    "duration": 9,
    "start_time": "2022-06-13T12:51:18.377Z"
   },
   {
    "duration": 1986,
    "start_time": "2022-06-13T12:51:18.388Z"
   },
   {
    "duration": 67,
    "start_time": "2022-06-13T12:51:20.377Z"
   },
   {
    "duration": 81,
    "start_time": "2022-06-13T12:51:20.446Z"
   },
   {
    "duration": 11,
    "start_time": "2022-06-13T12:51:20.529Z"
   },
   {
    "duration": 419,
    "start_time": "2022-06-13T12:51:20.542Z"
   },
   {
    "duration": 449,
    "start_time": "2022-06-13T12:51:20.963Z"
   },
   {
    "duration": 3,
    "start_time": "2022-06-13T12:51:21.414Z"
   },
   {
    "duration": 21,
    "start_time": "2022-06-13T12:51:21.418Z"
   },
   {
    "duration": 144,
    "start_time": "2022-06-13T12:51:21.441Z"
   },
   {
    "duration": 0,
    "start_time": "2022-06-13T12:51:21.586Z"
   },
   {
    "duration": 0,
    "start_time": "2022-06-13T12:51:21.587Z"
   },
   {
    "duration": 0,
    "start_time": "2022-06-13T12:51:21.588Z"
   },
   {
    "duration": 0,
    "start_time": "2022-06-13T12:51:21.589Z"
   },
   {
    "duration": 0,
    "start_time": "2022-06-13T12:51:21.590Z"
   },
   {
    "duration": 0,
    "start_time": "2022-06-13T12:51:21.591Z"
   },
   {
    "duration": 0,
    "start_time": "2022-06-13T12:51:21.596Z"
   },
   {
    "duration": 0,
    "start_time": "2022-06-13T12:51:21.599Z"
   },
   {
    "duration": 90344,
    "start_time": "2022-06-13T12:51:54.622Z"
   },
   {
    "duration": 13893,
    "start_time": "2022-06-13T12:53:30.630Z"
   },
   {
    "duration": 10846,
    "start_time": "2022-06-13T12:55:16.321Z"
   },
   {
    "duration": 50,
    "start_time": "2022-06-13T13:05:36.072Z"
   },
   {
    "duration": 68354,
    "start_time": "2022-06-13T13:05:54.170Z"
   },
   {
    "duration": 7667,
    "start_time": "2022-06-13T13:07:03.846Z"
   },
   {
    "duration": 177734,
    "start_time": "2022-06-13T13:07:23.242Z"
   },
   {
    "duration": 43,
    "start_time": "2022-06-13T13:10:25.784Z"
   },
   {
    "duration": 7,
    "start_time": "2022-06-13T13:15:19.838Z"
   },
   {
    "duration": 14686,
    "start_time": "2022-06-13T13:15:34.334Z"
   },
   {
    "duration": 8087,
    "start_time": "2022-06-13T13:15:56.369Z"
   },
   {
    "duration": 95257,
    "start_time": "2022-06-13T13:16:04.977Z"
   },
   {
    "duration": 4,
    "start_time": "2022-06-13T14:43:54.635Z"
   },
   {
    "duration": 4425,
    "start_time": "2022-06-13T14:46:00.421Z"
   },
   {
    "duration": 2589,
    "start_time": "2022-06-13T14:46:04.849Z"
   },
   {
    "duration": 1309,
    "start_time": "2022-06-13T14:46:07.440Z"
   },
   {
    "duration": 163,
    "start_time": "2022-06-13T14:46:08.751Z"
   },
   {
    "duration": 193,
    "start_time": "2022-06-13T14:46:08.916Z"
   },
   {
    "duration": 198,
    "start_time": "2022-06-13T14:46:09.111Z"
   },
   {
    "duration": 52,
    "start_time": "2022-06-13T14:46:09.311Z"
   },
   {
    "duration": 138,
    "start_time": "2022-06-13T14:46:09.366Z"
   },
   {
    "duration": 21,
    "start_time": "2022-06-13T14:46:09.507Z"
   },
   {
    "duration": 189,
    "start_time": "2022-06-13T14:46:09.533Z"
   },
   {
    "duration": 24,
    "start_time": "2022-06-13T14:46:09.724Z"
   },
   {
    "duration": 651,
    "start_time": "2022-06-13T14:46:09.750Z"
   },
   {
    "duration": 649,
    "start_time": "2022-06-13T14:46:10.407Z"
   },
   {
    "duration": 549,
    "start_time": "2022-06-13T14:46:11.059Z"
   },
   {
    "duration": 22,
    "start_time": "2022-06-13T14:46:11.609Z"
   },
   {
    "duration": 65,
    "start_time": "2022-06-13T14:46:11.633Z"
   },
   {
    "duration": 38,
    "start_time": "2022-06-13T14:46:11.701Z"
   },
   {
    "duration": 181,
    "start_time": "2022-06-13T14:46:11.742Z"
   },
   {
    "duration": 1161,
    "start_time": "2022-06-13T14:46:11.925Z"
   },
   {
    "duration": 208,
    "start_time": "2022-06-13T14:46:13.088Z"
   },
   {
    "duration": 862,
    "start_time": "2022-06-13T14:46:13.299Z"
   },
   {
    "duration": 153,
    "start_time": "2022-06-13T14:46:14.163Z"
   },
   {
    "duration": 50,
    "start_time": "2022-06-13T14:46:14.319Z"
   },
   {
    "duration": 187,
    "start_time": "2022-06-13T14:46:14.371Z"
   },
   {
    "duration": 126,
    "start_time": "2022-06-13T14:46:14.560Z"
   },
   {
    "duration": 23,
    "start_time": "2022-06-13T14:46:14.688Z"
   },
   {
    "duration": 57,
    "start_time": "2022-06-13T14:46:14.713Z"
   },
   {
    "duration": 132,
    "start_time": "2022-06-13T14:46:14.774Z"
   },
   {
    "duration": 55,
    "start_time": "2022-06-13T14:46:14.909Z"
   },
   {
    "duration": 9,
    "start_time": "2022-06-13T14:46:14.966Z"
   },
   {
    "duration": 3855,
    "start_time": "2022-06-13T14:46:14.977Z"
   },
   {
    "duration": 80,
    "start_time": "2022-06-13T14:46:18.834Z"
   },
   {
    "duration": 88,
    "start_time": "2022-06-13T14:46:18.916Z"
   },
   {
    "duration": 21,
    "start_time": "2022-06-13T14:46:19.006Z"
   },
   {
    "duration": 629,
    "start_time": "2022-06-13T14:46:19.030Z"
   },
   {
    "duration": 538,
    "start_time": "2022-06-13T14:46:19.662Z"
   },
   {
    "duration": 14,
    "start_time": "2022-06-13T14:46:20.206Z"
   },
   {
    "duration": 12,
    "start_time": "2022-06-13T14:46:20.222Z"
   },
   {
    "duration": 601009,
    "start_time": "2022-06-13T14:46:20.237Z"
   },
   {
    "duration": 3,
    "start_time": "2022-06-13T14:56:21.248Z"
   },
   {
    "duration": 8,
    "start_time": "2022-06-13T14:56:21.254Z"
   },
   {
    "duration": 13,
    "start_time": "2022-06-13T14:56:21.264Z"
   },
   {
    "duration": 2079848,
    "start_time": "2022-06-13T14:56:21.280Z"
   },
   {
    "duration": 4,
    "start_time": "2022-06-13T15:31:01.131Z"
   },
   {
    "duration": 1490829,
    "start_time": "2022-06-13T15:31:01.137Z"
   },
   {
    "duration": 4483,
    "start_time": "2022-06-13T16:19:49.824Z"
   },
   {
    "duration": 4333,
    "start_time": "2022-06-13T16:20:26.930Z"
   },
   {
    "duration": 332579,
    "start_time": "2022-06-13T16:21:10.152Z"
   },
   {
    "duration": 5,
    "start_time": "2022-06-13T16:34:57.612Z"
   },
   {
    "duration": 1492,
    "start_time": "2022-06-13T16:34:57.620Z"
   },
   {
    "duration": 3421,
    "start_time": "2022-06-13T16:34:59.115Z"
   },
   {
    "duration": 185,
    "start_time": "2022-06-13T16:35:02.539Z"
   },
   {
    "duration": 172,
    "start_time": "2022-06-13T16:35:02.727Z"
   },
   {
    "duration": 163,
    "start_time": "2022-06-13T16:35:02.901Z"
   },
   {
    "duration": 15,
    "start_time": "2022-06-13T16:35:03.067Z"
   },
   {
    "duration": 61,
    "start_time": "2022-06-13T16:35:03.098Z"
   },
   {
    "duration": 63,
    "start_time": "2022-06-13T16:35:03.161Z"
   },
   {
    "duration": 191,
    "start_time": "2022-06-13T16:35:03.227Z"
   },
   {
    "duration": 659,
    "start_time": "2022-06-13T16:35:03.433Z"
   },
   {
    "duration": 678,
    "start_time": "2022-06-13T16:35:04.097Z"
   },
   {
    "duration": 642,
    "start_time": "2022-06-13T16:35:04.779Z"
   },
   {
    "duration": 73,
    "start_time": "2022-06-13T16:35:05.424Z"
   },
   {
    "duration": 47,
    "start_time": "2022-06-13T16:35:05.502Z"
   },
   {
    "duration": 189,
    "start_time": "2022-06-13T16:35:05.552Z"
   },
   {
    "duration": 1276,
    "start_time": "2022-06-13T16:35:05.743Z"
   },
   {
    "duration": 213,
    "start_time": "2022-06-13T16:35:07.021Z"
   },
   {
    "duration": 1002,
    "start_time": "2022-06-13T16:35:07.237Z"
   },
   {
    "duration": 231,
    "start_time": "2022-06-13T16:35:08.242Z"
   },
   {
    "duration": 44,
    "start_time": "2022-06-13T16:35:08.475Z"
   },
   {
    "duration": 247,
    "start_time": "2022-06-13T16:35:08.521Z"
   },
   {
    "duration": 174,
    "start_time": "2022-06-13T16:35:08.770Z"
   },
   {
    "duration": 63,
    "start_time": "2022-06-13T16:35:08.946Z"
   },
   {
    "duration": 121,
    "start_time": "2022-06-13T16:35:09.010Z"
   },
   {
    "duration": 286,
    "start_time": "2022-06-13T16:35:09.133Z"
   },
   {
    "duration": 87,
    "start_time": "2022-06-13T16:35:09.421Z"
   },
   {
    "duration": 38,
    "start_time": "2022-06-13T16:35:09.510Z"
   },
   {
    "duration": 2680,
    "start_time": "2022-06-13T16:35:09.553Z"
   },
   {
    "duration": 74,
    "start_time": "2022-06-13T16:35:12.235Z"
   },
   {
    "duration": 102,
    "start_time": "2022-06-13T16:35:12.311Z"
   },
   {
    "duration": 17,
    "start_time": "2022-06-13T16:35:12.415Z"
   },
   {
    "duration": 677,
    "start_time": "2022-06-13T16:35:12.436Z"
   },
   {
    "duration": 1020,
    "start_time": "2022-06-13T16:35:13.116Z"
   },
   {
    "duration": 56,
    "start_time": "2022-06-13T16:35:14.139Z"
   },
   {
    "duration": 3,
    "start_time": "2022-06-13T16:35:14.196Z"
   },
   {
    "duration": 589528,
    "start_time": "2022-06-13T16:35:14.203Z"
   },
   {
    "duration": 5,
    "start_time": "2022-06-13T16:45:03.734Z"
   },
   {
    "duration": 14,
    "start_time": "2022-06-13T16:45:03.742Z"
   },
   {
    "duration": 8,
    "start_time": "2022-06-13T16:45:03.758Z"
   },
   {
    "duration": 36,
    "start_time": "2022-06-13T16:45:03.795Z"
   },
   {
    "duration": 2083701,
    "start_time": "2022-06-13T16:45:03.834Z"
   },
   {
    "duration": 5,
    "start_time": "2022-06-13T17:19:47.542Z"
   },
   {
    "duration": 35143,
    "start_time": "2022-06-13T17:19:47.549Z"
   },
   {
    "duration": 203373,
    "start_time": "2022-06-13T17:20:22.694Z"
   },
   {
    "duration": 6,
    "start_time": "2022-06-14T07:50:56.773Z"
   },
   {
    "duration": 1350,
    "start_time": "2022-06-14T07:50:56.781Z"
   },
   {
    "duration": 0,
    "start_time": "2022-06-14T07:50:58.134Z"
   },
   {
    "duration": 0,
    "start_time": "2022-06-14T07:50:58.135Z"
   },
   {
    "duration": 0,
    "start_time": "2022-06-14T07:50:58.136Z"
   },
   {
    "duration": 0,
    "start_time": "2022-06-14T07:50:58.137Z"
   },
   {
    "duration": 0,
    "start_time": "2022-06-14T07:50:58.138Z"
   },
   {
    "duration": 0,
    "start_time": "2022-06-14T07:50:58.139Z"
   },
   {
    "duration": 0,
    "start_time": "2022-06-14T07:50:58.141Z"
   },
   {
    "duration": 0,
    "start_time": "2022-06-14T07:50:58.141Z"
   },
   {
    "duration": 0,
    "start_time": "2022-06-14T07:50:58.142Z"
   },
   {
    "duration": 0,
    "start_time": "2022-06-14T07:50:58.144Z"
   },
   {
    "duration": 0,
    "start_time": "2022-06-14T07:50:58.159Z"
   },
   {
    "duration": 0,
    "start_time": "2022-06-14T07:50:58.160Z"
   },
   {
    "duration": 0,
    "start_time": "2022-06-14T07:50:58.161Z"
   },
   {
    "duration": 0,
    "start_time": "2022-06-14T07:50:58.162Z"
   },
   {
    "duration": 0,
    "start_time": "2022-06-14T07:50:58.163Z"
   },
   {
    "duration": 0,
    "start_time": "2022-06-14T07:50:58.165Z"
   },
   {
    "duration": 0,
    "start_time": "2022-06-14T07:50:58.166Z"
   },
   {
    "duration": 0,
    "start_time": "2022-06-14T07:50:58.167Z"
   },
   {
    "duration": 0,
    "start_time": "2022-06-14T07:50:58.168Z"
   },
   {
    "duration": 0,
    "start_time": "2022-06-14T07:50:58.169Z"
   },
   {
    "duration": 0,
    "start_time": "2022-06-14T07:50:58.170Z"
   },
   {
    "duration": 0,
    "start_time": "2022-06-14T07:50:58.171Z"
   },
   {
    "duration": 0,
    "start_time": "2022-06-14T07:50:58.172Z"
   },
   {
    "duration": 0,
    "start_time": "2022-06-14T07:50:58.173Z"
   },
   {
    "duration": 0,
    "start_time": "2022-06-14T07:50:58.174Z"
   },
   {
    "duration": 0,
    "start_time": "2022-06-14T07:50:58.175Z"
   },
   {
    "duration": 0,
    "start_time": "2022-06-14T07:50:58.176Z"
   },
   {
    "duration": 0,
    "start_time": "2022-06-14T07:50:58.177Z"
   },
   {
    "duration": 0,
    "start_time": "2022-06-14T07:50:58.179Z"
   },
   {
    "duration": 0,
    "start_time": "2022-06-14T07:50:58.180Z"
   },
   {
    "duration": 0,
    "start_time": "2022-06-14T07:50:58.181Z"
   },
   {
    "duration": 0,
    "start_time": "2022-06-14T07:50:58.182Z"
   },
   {
    "duration": 0,
    "start_time": "2022-06-14T07:50:58.183Z"
   },
   {
    "duration": 0,
    "start_time": "2022-06-14T07:50:58.184Z"
   },
   {
    "duration": 0,
    "start_time": "2022-06-14T07:50:58.185Z"
   },
   {
    "duration": 0,
    "start_time": "2022-06-14T07:50:58.186Z"
   },
   {
    "duration": 0,
    "start_time": "2022-06-14T07:50:58.187Z"
   },
   {
    "duration": 0,
    "start_time": "2022-06-14T07:50:58.188Z"
   },
   {
    "duration": 0,
    "start_time": "2022-06-14T07:50:58.189Z"
   },
   {
    "duration": 0,
    "start_time": "2022-06-14T07:50:58.190Z"
   },
   {
    "duration": 0,
    "start_time": "2022-06-14T07:50:58.191Z"
   },
   {
    "duration": 0,
    "start_time": "2022-06-14T07:50:58.193Z"
   },
   {
    "duration": 0,
    "start_time": "2022-06-14T07:50:58.258Z"
   },
   {
    "duration": 0,
    "start_time": "2022-06-14T07:50:58.259Z"
   },
   {
    "duration": 7216,
    "start_time": "2022-06-14T07:51:06.891Z"
   },
   {
    "duration": 1423,
    "start_time": "2022-06-14T07:51:14.110Z"
   },
   {
    "duration": 2939,
    "start_time": "2022-06-14T07:51:15.535Z"
   },
   {
    "duration": 164,
    "start_time": "2022-06-14T07:51:18.477Z"
   },
   {
    "duration": 155,
    "start_time": "2022-06-14T07:51:18.643Z"
   },
   {
    "duration": 161,
    "start_time": "2022-06-14T07:51:18.800Z"
   },
   {
    "duration": 18,
    "start_time": "2022-06-14T07:51:18.963Z"
   },
   {
    "duration": 81,
    "start_time": "2022-06-14T07:51:18.983Z"
   },
   {
    "duration": 24,
    "start_time": "2022-06-14T07:51:19.066Z"
   },
   {
    "duration": 160,
    "start_time": "2022-06-14T07:51:19.093Z"
   },
   {
    "duration": 559,
    "start_time": "2022-06-14T07:51:19.259Z"
   },
   {
    "duration": 568,
    "start_time": "2022-06-14T07:51:19.820Z"
   },
   {
    "duration": 530,
    "start_time": "2022-06-14T07:51:20.390Z"
   },
   {
    "duration": 57,
    "start_time": "2022-06-14T07:51:20.922Z"
   },
   {
    "duration": 30,
    "start_time": "2022-06-14T07:51:20.982Z"
   },
   {
    "duration": 176,
    "start_time": "2022-06-14T07:51:21.014Z"
   },
   {
    "duration": 1180,
    "start_time": "2022-06-14T07:51:21.192Z"
   },
   {
    "duration": 178,
    "start_time": "2022-06-14T07:51:22.374Z"
   },
   {
    "duration": 908,
    "start_time": "2022-06-14T07:51:22.554Z"
   },
   {
    "duration": 123,
    "start_time": "2022-06-14T07:51:23.464Z"
   },
   {
    "duration": 19,
    "start_time": "2022-06-14T07:51:23.588Z"
   },
   {
    "duration": 209,
    "start_time": "2022-06-14T07:51:23.609Z"
   },
   {
    "duration": 118,
    "start_time": "2022-06-14T07:51:23.820Z"
   },
   {
    "duration": 27,
    "start_time": "2022-06-14T07:51:23.940Z"
   },
   {
    "duration": 95,
    "start_time": "2022-06-14T07:51:23.969Z"
   },
   {
    "duration": 126,
    "start_time": "2022-06-14T07:51:24.066Z"
   },
   {
    "duration": 81,
    "start_time": "2022-06-14T07:51:24.194Z"
   },
   {
    "duration": 11,
    "start_time": "2022-06-14T07:51:24.281Z"
   },
   {
    "duration": 3189,
    "start_time": "2022-06-14T07:51:24.293Z"
   },
   {
    "duration": 51,
    "start_time": "2022-06-14T07:51:27.485Z"
   },
   {
    "duration": 94,
    "start_time": "2022-06-14T07:51:27.538Z"
   },
   {
    "duration": 12,
    "start_time": "2022-06-14T07:51:27.634Z"
   },
   {
    "duration": 406,
    "start_time": "2022-06-14T07:51:27.658Z"
   },
   {
    "duration": 443,
    "start_time": "2022-06-14T07:51:28.067Z"
   },
   {
    "duration": 3,
    "start_time": "2022-06-14T07:51:28.511Z"
   },
   {
    "duration": 9,
    "start_time": "2022-06-14T07:51:28.516Z"
   },
   {
    "duration": 68410,
    "start_time": "2022-06-14T07:51:28.527Z"
   },
   {
    "duration": 11,
    "start_time": "2022-06-14T07:52:36.939Z"
   },
   {
    "duration": 0,
    "start_time": "2022-06-14T07:52:36.951Z"
   },
   {
    "duration": 0,
    "start_time": "2022-06-14T07:52:36.952Z"
   },
   {
    "duration": 0,
    "start_time": "2022-06-14T07:52:36.954Z"
   },
   {
    "duration": 0,
    "start_time": "2022-06-14T07:52:36.955Z"
   },
   {
    "duration": 0,
    "start_time": "2022-06-14T07:52:36.956Z"
   },
   {
    "duration": 0,
    "start_time": "2022-06-14T07:52:36.957Z"
   },
   {
    "duration": 0,
    "start_time": "2022-06-14T07:52:36.960Z"
   },
   {
    "duration": 0,
    "start_time": "2022-06-14T07:52:36.961Z"
   },
   {
    "duration": 3,
    "start_time": "2022-06-14T07:52:59.950Z"
   },
   {
    "duration": 1450,
    "start_time": "2022-06-14T07:52:59.955Z"
   },
   {
    "duration": 2093,
    "start_time": "2022-06-14T07:53:01.407Z"
   },
   {
    "duration": 235,
    "start_time": "2022-06-14T07:53:03.502Z"
   },
   {
    "duration": 153,
    "start_time": "2022-06-14T07:53:03.739Z"
   },
   {
    "duration": 142,
    "start_time": "2022-06-14T07:53:03.894Z"
   },
   {
    "duration": 13,
    "start_time": "2022-06-14T07:53:04.037Z"
   },
   {
    "duration": 73,
    "start_time": "2022-06-14T07:53:04.058Z"
   },
   {
    "duration": 20,
    "start_time": "2022-06-14T07:53:04.132Z"
   },
   {
    "duration": 198,
    "start_time": "2022-06-14T07:53:04.154Z"
   },
   {
    "duration": 513,
    "start_time": "2022-06-14T07:53:04.354Z"
   },
   {
    "duration": 639,
    "start_time": "2022-06-14T07:53:04.869Z"
   },
   {
    "duration": 553,
    "start_time": "2022-06-14T07:53:05.510Z"
   },
   {
    "duration": 45,
    "start_time": "2022-06-14T07:53:06.065Z"
   },
   {
    "duration": 50,
    "start_time": "2022-06-14T07:53:06.111Z"
   },
   {
    "duration": 191,
    "start_time": "2022-06-14T07:53:06.164Z"
   },
   {
    "duration": 1079,
    "start_time": "2022-06-14T07:53:06.357Z"
   },
   {
    "duration": 183,
    "start_time": "2022-06-14T07:53:07.438Z"
   },
   {
    "duration": 823,
    "start_time": "2022-06-14T07:53:07.623Z"
   },
   {
    "duration": 123,
    "start_time": "2022-06-14T07:53:08.448Z"
   },
   {
    "duration": 19,
    "start_time": "2022-06-14T07:53:08.573Z"
   },
   {
    "duration": 198,
    "start_time": "2022-06-14T07:53:08.594Z"
   },
   {
    "duration": 207,
    "start_time": "2022-06-14T07:53:08.794Z"
   },
   {
    "duration": 75,
    "start_time": "2022-06-14T07:53:09.002Z"
   },
   {
    "duration": 182,
    "start_time": "2022-06-14T07:53:09.079Z"
   },
   {
    "duration": 228,
    "start_time": "2022-06-14T07:53:09.263Z"
   },
   {
    "duration": 110,
    "start_time": "2022-06-14T07:53:09.493Z"
   },
   {
    "duration": 61,
    "start_time": "2022-06-14T07:53:09.605Z"
   },
   {
    "duration": 2542,
    "start_time": "2022-06-14T07:53:09.670Z"
   },
   {
    "duration": 59,
    "start_time": "2022-06-14T07:53:12.214Z"
   },
   {
    "duration": 83,
    "start_time": "2022-06-14T07:53:12.275Z"
   },
   {
    "duration": 17,
    "start_time": "2022-06-14T07:53:12.360Z"
   },
   {
    "duration": 420,
    "start_time": "2022-06-14T07:53:12.379Z"
   },
   {
    "duration": 418,
    "start_time": "2022-06-14T07:53:12.801Z"
   },
   {
    "duration": 2,
    "start_time": "2022-06-14T07:53:13.221Z"
   },
   {
    "duration": 18,
    "start_time": "2022-06-14T07:53:13.225Z"
   },
   {
    "duration": 170698,
    "start_time": "2022-06-14T07:53:13.245Z"
   },
   {
    "duration": 5,
    "start_time": "2022-06-14T07:56:03.945Z"
   },
   {
    "duration": 17,
    "start_time": "2022-06-14T07:56:03.952Z"
   },
   {
    "duration": 5,
    "start_time": "2022-06-14T07:56:03.971Z"
   },
   {
    "duration": 13,
    "start_time": "2022-06-14T07:56:03.978Z"
   },
   {
    "duration": 7,
    "start_time": "2022-06-14T07:56:03.992Z"
   },
   {
    "duration": 1438884,
    "start_time": "2022-06-14T07:56:04.002Z"
   },
   {
    "duration": 72,
    "start_time": "2022-06-14T08:20:02.888Z"
   },
   {
    "duration": 1417491,
    "start_time": "2022-06-14T08:20:02.963Z"
   },
   {
    "duration": 226465,
    "start_time": "2022-06-14T08:43:40.455Z"
   },
   {
    "duration": 7068428,
    "start_time": "2022-06-14T08:47:26.925Z"
   },
   {
    "duration": 7836,
    "start_time": "2022-06-14T12:35:09.934Z"
   },
   {
    "duration": 4,
    "start_time": "2022-06-15T12:27:15.034Z"
   },
   {
    "duration": 1414,
    "start_time": "2022-06-15T12:27:15.041Z"
   },
   {
    "duration": 0,
    "start_time": "2022-06-15T12:27:16.459Z"
   },
   {
    "duration": 0,
    "start_time": "2022-06-15T12:27:16.461Z"
   },
   {
    "duration": 0,
    "start_time": "2022-06-15T12:27:16.462Z"
   },
   {
    "duration": 0,
    "start_time": "2022-06-15T12:27:16.463Z"
   },
   {
    "duration": 0,
    "start_time": "2022-06-15T12:27:16.465Z"
   },
   {
    "duration": 0,
    "start_time": "2022-06-15T12:27:16.466Z"
   },
   {
    "duration": 0,
    "start_time": "2022-06-15T12:27:16.467Z"
   },
   {
    "duration": 0,
    "start_time": "2022-06-15T12:27:16.526Z"
   },
   {
    "duration": 0,
    "start_time": "2022-06-15T12:27:16.528Z"
   },
   {
    "duration": 0,
    "start_time": "2022-06-15T12:27:16.529Z"
   },
   {
    "duration": 0,
    "start_time": "2022-06-15T12:27:16.530Z"
   },
   {
    "duration": 0,
    "start_time": "2022-06-15T12:27:16.531Z"
   },
   {
    "duration": 0,
    "start_time": "2022-06-15T12:27:16.533Z"
   },
   {
    "duration": 1,
    "start_time": "2022-06-15T12:27:16.533Z"
   },
   {
    "duration": 0,
    "start_time": "2022-06-15T12:27:16.535Z"
   },
   {
    "duration": 0,
    "start_time": "2022-06-15T12:27:16.536Z"
   },
   {
    "duration": 0,
    "start_time": "2022-06-15T12:27:16.538Z"
   },
   {
    "duration": 0,
    "start_time": "2022-06-15T12:27:16.539Z"
   },
   {
    "duration": 0,
    "start_time": "2022-06-15T12:27:16.540Z"
   },
   {
    "duration": 0,
    "start_time": "2022-06-15T12:27:16.541Z"
   },
   {
    "duration": 0,
    "start_time": "2022-06-15T12:27:16.543Z"
   },
   {
    "duration": 0,
    "start_time": "2022-06-15T12:27:16.544Z"
   },
   {
    "duration": 0,
    "start_time": "2022-06-15T12:27:16.545Z"
   },
   {
    "duration": 0,
    "start_time": "2022-06-15T12:27:16.547Z"
   },
   {
    "duration": 0,
    "start_time": "2022-06-15T12:27:16.548Z"
   },
   {
    "duration": 0,
    "start_time": "2022-06-15T12:27:16.549Z"
   },
   {
    "duration": 0,
    "start_time": "2022-06-15T12:27:16.550Z"
   },
   {
    "duration": 0,
    "start_time": "2022-06-15T12:27:16.551Z"
   },
   {
    "duration": 0,
    "start_time": "2022-06-15T12:27:16.552Z"
   },
   {
    "duration": 0,
    "start_time": "2022-06-15T12:27:16.554Z"
   },
   {
    "duration": 0,
    "start_time": "2022-06-15T12:27:16.555Z"
   },
   {
    "duration": 0,
    "start_time": "2022-06-15T12:27:16.557Z"
   },
   {
    "duration": 1,
    "start_time": "2022-06-15T12:27:16.558Z"
   },
   {
    "duration": 0,
    "start_time": "2022-06-15T12:27:16.560Z"
   },
   {
    "duration": 0,
    "start_time": "2022-06-15T12:27:16.561Z"
   },
   {
    "duration": 0,
    "start_time": "2022-06-15T12:27:16.562Z"
   },
   {
    "duration": 0,
    "start_time": "2022-06-15T12:27:16.625Z"
   },
   {
    "duration": 0,
    "start_time": "2022-06-15T12:27:16.628Z"
   },
   {
    "duration": 0,
    "start_time": "2022-06-15T12:27:16.629Z"
   },
   {
    "duration": 0,
    "start_time": "2022-06-15T12:27:16.630Z"
   },
   {
    "duration": 0,
    "start_time": "2022-06-15T12:27:16.632Z"
   },
   {
    "duration": 0,
    "start_time": "2022-06-15T12:27:16.633Z"
   },
   {
    "duration": 0,
    "start_time": "2022-06-15T12:27:16.634Z"
   },
   {
    "duration": 0,
    "start_time": "2022-06-15T12:27:16.636Z"
   },
   {
    "duration": 0,
    "start_time": "2022-06-15T12:27:16.637Z"
   },
   {
    "duration": 0,
    "start_time": "2022-06-15T12:27:16.638Z"
   },
   {
    "duration": 0,
    "start_time": "2022-06-15T12:27:16.640Z"
   },
   {
    "duration": 6548,
    "start_time": "2022-06-15T12:27:26.856Z"
   },
   {
    "duration": 247,
    "start_time": "2022-06-15T12:27:33.610Z"
   },
   {
    "duration": 3,
    "start_time": "2022-06-15T12:27:44.928Z"
   },
   {
    "duration": 1341,
    "start_time": "2022-06-15T12:27:44.933Z"
   },
   {
    "duration": 1216,
    "start_time": "2022-06-15T12:27:46.276Z"
   },
   {
    "duration": 144,
    "start_time": "2022-06-15T12:27:47.494Z"
   },
   {
    "duration": 149,
    "start_time": "2022-06-15T12:27:47.642Z"
   },
   {
    "duration": 176,
    "start_time": "2022-06-15T12:27:47.793Z"
   },
   {
    "duration": 17,
    "start_time": "2022-06-15T12:27:47.971Z"
   },
   {
    "duration": 67,
    "start_time": "2022-06-15T12:27:47.989Z"
   },
   {
    "duration": 158,
    "start_time": "2022-06-15T12:27:48.058Z"
   },
   {
    "duration": 485,
    "start_time": "2022-06-15T12:27:48.218Z"
   },
   {
    "duration": 568,
    "start_time": "2022-06-15T12:27:48.704Z"
   },
   {
    "duration": 645,
    "start_time": "2022-06-15T12:27:49.274Z"
   },
   {
    "duration": 812,
    "start_time": "2022-06-15T12:27:49.921Z"
   },
   {
    "duration": 97,
    "start_time": "2022-06-15T12:27:50.737Z"
   },
   {
    "duration": 27,
    "start_time": "2022-06-15T12:27:50.836Z"
   },
   {
    "duration": 467,
    "start_time": "2022-06-15T12:27:50.866Z"
   },
   {
    "duration": 1883,
    "start_time": "2022-06-15T12:27:51.335Z"
   },
   {
    "duration": 181,
    "start_time": "2022-06-15T12:27:53.220Z"
   },
   {
    "duration": 801,
    "start_time": "2022-06-15T12:27:53.402Z"
   },
   {
    "duration": 125,
    "start_time": "2022-06-15T12:27:54.205Z"
   },
   {
    "duration": 20,
    "start_time": "2022-06-15T12:27:54.332Z"
   },
   {
    "duration": 214,
    "start_time": "2022-06-15T12:27:54.354Z"
   },
   {
    "duration": 140,
    "start_time": "2022-06-15T12:27:54.572Z"
   },
   {
    "duration": 27,
    "start_time": "2022-06-15T12:27:54.714Z"
   },
   {
    "duration": 65,
    "start_time": "2022-06-15T12:27:54.744Z"
   },
   {
    "duration": 124,
    "start_time": "2022-06-15T12:27:54.810Z"
   },
   {
    "duration": 71,
    "start_time": "2022-06-15T12:27:54.936Z"
   },
   {
    "duration": 11,
    "start_time": "2022-06-15T12:27:55.027Z"
   },
   {
    "duration": 1742,
    "start_time": "2022-06-15T12:27:55.040Z"
   },
   {
    "duration": 58,
    "start_time": "2022-06-15T12:27:56.784Z"
   },
   {
    "duration": 71,
    "start_time": "2022-06-15T12:27:56.843Z"
   },
   {
    "duration": 12,
    "start_time": "2022-06-15T12:27:56.925Z"
   },
   {
    "duration": 398,
    "start_time": "2022-06-15T12:27:56.939Z"
   },
   {
    "duration": 440,
    "start_time": "2022-06-15T12:27:57.339Z"
   },
   {
    "duration": 131,
    "start_time": "2022-06-15T12:27:57.781Z"
   },
   {
    "duration": 0,
    "start_time": "2022-06-15T12:27:57.914Z"
   },
   {
    "duration": 0,
    "start_time": "2022-06-15T12:27:57.915Z"
   },
   {
    "duration": 0,
    "start_time": "2022-06-15T12:27:57.926Z"
   },
   {
    "duration": 0,
    "start_time": "2022-06-15T12:27:57.927Z"
   },
   {
    "duration": 0,
    "start_time": "2022-06-15T12:27:57.929Z"
   },
   {
    "duration": 0,
    "start_time": "2022-06-15T12:27:57.931Z"
   },
   {
    "duration": 0,
    "start_time": "2022-06-15T12:27:57.932Z"
   },
   {
    "duration": 0,
    "start_time": "2022-06-15T12:27:57.933Z"
   },
   {
    "duration": 0,
    "start_time": "2022-06-15T12:27:57.934Z"
   },
   {
    "duration": 0,
    "start_time": "2022-06-15T12:27:57.935Z"
   },
   {
    "duration": 0,
    "start_time": "2022-06-15T12:27:57.937Z"
   },
   {
    "duration": 0,
    "start_time": "2022-06-15T12:27:57.939Z"
   },
   {
    "duration": 0,
    "start_time": "2022-06-15T12:27:57.940Z"
   },
   {
    "duration": 0,
    "start_time": "2022-06-15T12:27:57.941Z"
   },
   {
    "duration": 14,
    "start_time": "2022-06-15T12:28:41.137Z"
   },
   {
    "duration": 12,
    "start_time": "2022-06-15T12:28:51.880Z"
   },
   {
    "duration": 4,
    "start_time": "2022-06-15T12:41:49.420Z"
   },
   {
    "duration": 3070,
    "start_time": "2022-06-15T12:41:49.427Z"
   },
   {
    "duration": 1065,
    "start_time": "2022-06-15T12:41:52.503Z"
   },
   {
    "duration": 195,
    "start_time": "2022-06-15T12:41:53.570Z"
   },
   {
    "duration": 166,
    "start_time": "2022-06-15T12:41:53.767Z"
   },
   {
    "duration": 163,
    "start_time": "2022-06-15T12:41:53.935Z"
   },
   {
    "duration": 28,
    "start_time": "2022-06-15T12:41:54.100Z"
   },
   {
    "duration": 73,
    "start_time": "2022-06-15T12:41:54.131Z"
   },
   {
    "duration": 26,
    "start_time": "2022-06-15T12:41:54.206Z"
   },
   {
    "duration": 195,
    "start_time": "2022-06-15T12:41:54.235Z"
   },
   {
    "duration": 648,
    "start_time": "2022-06-15T12:41:54.432Z"
   },
   {
    "duration": 669,
    "start_time": "2022-06-15T12:41:55.082Z"
   },
   {
    "duration": 576,
    "start_time": "2022-06-15T12:41:55.756Z"
   },
   {
    "duration": 47,
    "start_time": "2022-06-15T12:41:56.334Z"
   },
   {
    "duration": 59,
    "start_time": "2022-06-15T12:41:56.384Z"
   },
   {
    "duration": 156,
    "start_time": "2022-06-15T12:41:56.445Z"
   },
   {
    "duration": 1089,
    "start_time": "2022-06-15T12:41:56.603Z"
   },
   {
    "duration": 198,
    "start_time": "2022-06-15T12:41:57.694Z"
   },
   {
    "duration": 912,
    "start_time": "2022-06-15T12:41:57.894Z"
   },
   {
    "duration": 135,
    "start_time": "2022-06-15T12:41:58.808Z"
   },
   {
    "duration": 25,
    "start_time": "2022-06-15T12:41:58.945Z"
   },
   {
    "duration": 187,
    "start_time": "2022-06-15T12:41:58.972Z"
   },
   {
    "duration": 116,
    "start_time": "2022-06-15T12:41:59.161Z"
   },
   {
    "duration": 29,
    "start_time": "2022-06-15T12:41:59.279Z"
   },
   {
    "duration": 74,
    "start_time": "2022-06-15T12:41:59.310Z"
   },
   {
    "duration": 128,
    "start_time": "2022-06-15T12:41:59.385Z"
   },
   {
    "duration": 66,
    "start_time": "2022-06-15T12:41:59.526Z"
   },
   {
    "duration": 11,
    "start_time": "2022-06-15T12:41:59.594Z"
   },
   {
    "duration": 2083,
    "start_time": "2022-06-15T12:41:59.607Z"
   },
   {
    "duration": 75,
    "start_time": "2022-06-15T12:42:01.692Z"
   },
   {
    "duration": 97,
    "start_time": "2022-06-15T12:42:01.769Z"
   },
   {
    "duration": 13,
    "start_time": "2022-06-15T12:42:01.869Z"
   },
   {
    "duration": 532,
    "start_time": "2022-06-15T12:42:01.885Z"
   },
   {
    "duration": 503,
    "start_time": "2022-06-15T12:42:02.418Z"
   },
   {
    "duration": 5,
    "start_time": "2022-06-15T12:42:02.923Z"
   },
   {
    "duration": 56,
    "start_time": "2022-06-15T12:42:02.930Z"
   },
   {
    "duration": 180228,
    "start_time": "2022-06-15T12:42:02.988Z"
   },
   {
    "duration": 5,
    "start_time": "2022-06-15T12:45:03.219Z"
   },
   {
    "duration": 45,
    "start_time": "2022-06-15T12:45:03.228Z"
   },
   {
    "duration": 163431,
    "start_time": "2022-06-15T12:45:03.275Z"
   },
   {
    "duration": 3,
    "start_time": "2022-06-15T12:47:46.708Z"
   },
   {
    "duration": 4,
    "start_time": "2022-06-15T12:51:24.880Z"
   },
   {
    "duration": 1563,
    "start_time": "2022-06-15T12:51:24.886Z"
   },
   {
    "duration": 2529,
    "start_time": "2022-06-15T12:51:26.451Z"
   },
   {
    "duration": 236,
    "start_time": "2022-06-15T12:51:28.983Z"
   },
   {
    "duration": 255,
    "start_time": "2022-06-15T12:51:29.221Z"
   },
   {
    "duration": 216,
    "start_time": "2022-06-15T12:51:29.478Z"
   },
   {
    "duration": 50,
    "start_time": "2022-06-15T12:51:29.697Z"
   },
   {
    "duration": 70,
    "start_time": "2022-06-15T12:51:29.750Z"
   },
   {
    "duration": 20,
    "start_time": "2022-06-15T12:51:29.823Z"
   },
   {
    "duration": 173,
    "start_time": "2022-06-15T12:51:29.845Z"
   },
   {
    "duration": 950,
    "start_time": "2022-06-15T12:51:30.021Z"
   },
   {
    "duration": 1675,
    "start_time": "2022-06-15T12:51:30.973Z"
   },
   {
    "duration": 963,
    "start_time": "2022-06-15T12:51:32.650Z"
   },
   {
    "duration": 67,
    "start_time": "2022-06-15T12:51:33.614Z"
   },
   {
    "duration": 59,
    "start_time": "2022-06-15T12:51:33.683Z"
   },
   {
    "duration": 172,
    "start_time": "2022-06-15T12:51:33.744Z"
   },
   {
    "duration": 1227,
    "start_time": "2022-06-15T12:51:33.918Z"
   },
   {
    "duration": 202,
    "start_time": "2022-06-15T12:51:35.148Z"
   },
   {
    "duration": 905,
    "start_time": "2022-06-15T12:51:35.352Z"
   },
   {
    "duration": 139,
    "start_time": "2022-06-15T12:51:36.258Z"
   },
   {
    "duration": 46,
    "start_time": "2022-06-15T12:51:36.399Z"
   },
   {
    "duration": 167,
    "start_time": "2022-06-15T12:51:36.447Z"
   },
   {
    "duration": 131,
    "start_time": "2022-06-15T12:51:36.616Z"
   },
   {
    "duration": 20,
    "start_time": "2022-06-15T12:51:36.750Z"
   },
   {
    "duration": 71,
    "start_time": "2022-06-15T12:51:36.772Z"
   },
   {
    "duration": 135,
    "start_time": "2022-06-15T12:51:36.845Z"
   },
   {
    "duration": 95,
    "start_time": "2022-06-15T12:51:36.981Z"
   },
   {
    "duration": 10,
    "start_time": "2022-06-15T12:51:37.078Z"
   },
   {
    "duration": 2020,
    "start_time": "2022-06-15T12:51:37.090Z"
   },
   {
    "duration": 63,
    "start_time": "2022-06-15T12:51:39.112Z"
   },
   {
    "duration": 92,
    "start_time": "2022-06-15T12:51:39.177Z"
   },
   {
    "duration": 15,
    "start_time": "2022-06-15T12:51:39.271Z"
   },
   {
    "duration": 430,
    "start_time": "2022-06-15T12:51:39.288Z"
   },
   {
    "duration": 475,
    "start_time": "2022-06-15T12:51:39.719Z"
   },
   {
    "duration": 3,
    "start_time": "2022-06-15T12:51:40.196Z"
   },
   {
    "duration": 12,
    "start_time": "2022-06-15T12:51:40.201Z"
   },
   {
    "duration": 190542,
    "start_time": "2022-06-15T12:51:40.214Z"
   },
   {
    "duration": 5,
    "start_time": "2022-06-15T12:54:50.757Z"
   },
   {
    "duration": 14,
    "start_time": "2022-06-15T12:54:50.764Z"
   },
   {
    "duration": 252362,
    "start_time": "2022-06-15T12:54:50.781Z"
   },
   {
    "duration": 83,
    "start_time": "2022-06-15T12:59:03.145Z"
   },
   {
    "duration": 2085179,
    "start_time": "2022-06-15T12:59:03.230Z"
   },
   {
    "duration": 165060,
    "start_time": "2022-06-15T13:33:48.412Z"
   },
   {
    "duration": 30,
    "start_time": "2022-06-15T13:36:33.480Z"
   },
   {
    "duration": 245218,
    "start_time": "2022-06-15T13:36:35.989Z"
   },
   {
    "duration": 56,
    "start_time": "2022-06-15T13:44:16.742Z"
   },
   {
    "duration": 29,
    "start_time": "2022-06-15T13:44:34.651Z"
   },
   {
    "duration": 19,
    "start_time": "2022-06-15T13:44:58.624Z"
   },
   {
    "duration": 12,
    "start_time": "2022-06-15T13:45:07.608Z"
   },
   {
    "duration": 5,
    "start_time": "2022-06-15T13:45:20.247Z"
   },
   {
    "duration": 9,
    "start_time": "2022-06-15T13:45:31.191Z"
   },
   {
    "duration": 5,
    "start_time": "2022-06-15T13:45:35.444Z"
   },
   {
    "duration": 7,
    "start_time": "2022-06-15T13:45:40.081Z"
   },
   {
    "duration": 5,
    "start_time": "2022-06-15T13:45:44.718Z"
   },
   {
    "duration": 47,
    "start_time": "2022-06-15T13:46:20.078Z"
   },
   {
    "duration": 6,
    "start_time": "2022-06-15T13:46:22.382Z"
   },
   {
    "duration": 19,
    "start_time": "2022-06-15T13:46:50.848Z"
   },
   {
    "duration": 16,
    "start_time": "2022-06-15T13:47:05.691Z"
   },
   {
    "duration": 7,
    "start_time": "2022-06-15T13:47:13.557Z"
   },
   {
    "duration": 62,
    "start_time": "2022-06-15T13:47:41.061Z"
   },
   {
    "duration": 6,
    "start_time": "2022-06-15T13:47:47.749Z"
   },
   {
    "duration": 14,
    "start_time": "2022-06-15T13:47:54.946Z"
   },
   {
    "duration": 16,
    "start_time": "2022-06-15T13:48:04.593Z"
   },
   {
    "duration": 69,
    "start_time": "2022-06-15T13:48:51.843Z"
   },
   {
    "duration": 15,
    "start_time": "2022-06-15T13:48:59.160Z"
   },
   {
    "duration": 13,
    "start_time": "2022-06-15T13:49:07.782Z"
   },
   {
    "duration": 16,
    "start_time": "2022-06-15T13:49:15.880Z"
   },
   {
    "duration": 17,
    "start_time": "2022-06-15T13:51:10.720Z"
   },
   {
    "duration": 4062,
    "start_time": "2022-06-15T13:51:10.739Z"
   },
   {
    "duration": 1168,
    "start_time": "2022-06-15T13:51:14.802Z"
   },
   {
    "duration": 136,
    "start_time": "2022-06-15T13:51:15.972Z"
   },
   {
    "duration": 136,
    "start_time": "2022-06-15T13:51:16.109Z"
   },
   {
    "duration": 160,
    "start_time": "2022-06-15T13:51:16.247Z"
   },
   {
    "duration": 23,
    "start_time": "2022-06-15T13:51:16.409Z"
   },
   {
    "duration": 64,
    "start_time": "2022-06-15T13:51:16.434Z"
   },
   {
    "duration": 28,
    "start_time": "2022-06-15T13:51:16.500Z"
   },
   {
    "duration": 161,
    "start_time": "2022-06-15T13:51:16.531Z"
   },
   {
    "duration": 555,
    "start_time": "2022-06-15T13:51:16.694Z"
   },
   {
    "duration": 596,
    "start_time": "2022-06-15T13:51:17.252Z"
   },
   {
    "duration": 518,
    "start_time": "2022-06-15T13:51:17.851Z"
   },
   {
    "duration": 41,
    "start_time": "2022-06-15T13:51:18.370Z"
   },
   {
    "duration": 41,
    "start_time": "2022-06-15T13:51:18.412Z"
   },
   {
    "duration": 173,
    "start_time": "2022-06-15T13:51:18.454Z"
   },
   {
    "duration": 2071,
    "start_time": "2022-06-15T13:51:18.629Z"
   },
   {
    "duration": 199,
    "start_time": "2022-06-15T13:51:20.702Z"
   },
   {
    "duration": 1010,
    "start_time": "2022-06-15T13:51:20.903Z"
   },
   {
    "duration": 135,
    "start_time": "2022-06-15T13:51:21.915Z"
   },
   {
    "duration": 23,
    "start_time": "2022-06-15T13:51:22.052Z"
   },
   {
    "duration": 197,
    "start_time": "2022-06-15T13:51:22.077Z"
   },
   {
    "duration": 113,
    "start_time": "2022-06-15T13:51:22.276Z"
   },
   {
    "duration": 20,
    "start_time": "2022-06-15T13:51:22.391Z"
   },
   {
    "duration": 55,
    "start_time": "2022-06-15T13:51:22.427Z"
   },
   {
    "duration": 120,
    "start_time": "2022-06-15T13:51:22.484Z"
   },
   {
    "duration": 79,
    "start_time": "2022-06-15T13:51:22.605Z"
   },
   {
    "duration": 10,
    "start_time": "2022-06-15T13:51:22.688Z"
   },
   {
    "duration": 1780,
    "start_time": "2022-06-15T13:51:22.700Z"
   },
   {
    "duration": 74,
    "start_time": "2022-06-15T13:51:24.483Z"
   },
   {
    "duration": 93,
    "start_time": "2022-06-15T13:51:24.560Z"
   },
   {
    "duration": 13,
    "start_time": "2022-06-15T13:51:24.655Z"
   },
   {
    "duration": 398,
    "start_time": "2022-06-15T13:51:24.671Z"
   },
   {
    "duration": 351,
    "start_time": "2022-06-15T13:51:25.070Z"
   },
   {
    "duration": 0,
    "start_time": "2022-06-15T13:51:25.422Z"
   },
   {
    "duration": 0,
    "start_time": "2022-06-15T13:51:25.423Z"
   },
   {
    "duration": 0,
    "start_time": "2022-06-15T13:51:25.426Z"
   },
   {
    "duration": 0,
    "start_time": "2022-06-15T13:51:25.428Z"
   },
   {
    "duration": 0,
    "start_time": "2022-06-15T13:51:25.429Z"
   },
   {
    "duration": 0,
    "start_time": "2022-06-15T13:51:25.430Z"
   },
   {
    "duration": 0,
    "start_time": "2022-06-15T13:51:25.431Z"
   },
   {
    "duration": 0,
    "start_time": "2022-06-15T13:51:25.433Z"
   },
   {
    "duration": 0,
    "start_time": "2022-06-15T13:51:25.435Z"
   },
   {
    "duration": 0,
    "start_time": "2022-06-15T13:51:25.436Z"
   },
   {
    "duration": 405,
    "start_time": "2022-06-15T13:52:58.690Z"
   },
   {
    "duration": 33,
    "start_time": "2022-06-15T13:53:05.406Z"
   },
   {
    "duration": 17,
    "start_time": "2022-06-15T13:53:28.509Z"
   },
   {
    "duration": 24,
    "start_time": "2022-06-15T13:53:36.414Z"
   },
   {
    "duration": 23,
    "start_time": "2022-06-15T13:53:41.297Z"
   },
   {
    "duration": 4,
    "start_time": "2022-06-15T13:55:19.591Z"
   },
   {
    "duration": 1581,
    "start_time": "2022-06-15T13:55:19.597Z"
   },
   {
    "duration": 1088,
    "start_time": "2022-06-15T13:55:21.180Z"
   },
   {
    "duration": 204,
    "start_time": "2022-06-15T13:55:22.274Z"
   },
   {
    "duration": 170,
    "start_time": "2022-06-15T13:55:22.481Z"
   },
   {
    "duration": 214,
    "start_time": "2022-06-15T13:55:22.653Z"
   },
   {
    "duration": 15,
    "start_time": "2022-06-15T13:55:22.869Z"
   },
   {
    "duration": 101,
    "start_time": "2022-06-15T13:55:22.886Z"
   },
   {
    "duration": 15,
    "start_time": "2022-06-15T13:55:22.990Z"
   },
   {
    "duration": 181,
    "start_time": "2022-06-15T13:55:23.007Z"
   },
   {
    "duration": 604,
    "start_time": "2022-06-15T13:55:23.190Z"
   },
   {
    "duration": 661,
    "start_time": "2022-06-15T13:55:23.796Z"
   },
   {
    "duration": 656,
    "start_time": "2022-06-15T13:55:24.460Z"
   },
   {
    "duration": 62,
    "start_time": "2022-06-15T13:55:25.119Z"
   },
   {
    "duration": 48,
    "start_time": "2022-06-15T13:55:25.183Z"
   },
   {
    "duration": 192,
    "start_time": "2022-06-15T13:55:25.234Z"
   },
   {
    "duration": 1096,
    "start_time": "2022-06-15T13:55:25.429Z"
   },
   {
    "duration": 205,
    "start_time": "2022-06-15T13:55:26.527Z"
   },
   {
    "duration": 920,
    "start_time": "2022-06-15T13:55:26.734Z"
   },
   {
    "duration": 127,
    "start_time": "2022-06-15T13:55:27.656Z"
   },
   {
    "duration": 49,
    "start_time": "2022-06-15T13:55:27.786Z"
   },
   {
    "duration": 184,
    "start_time": "2022-06-15T13:55:27.838Z"
   },
   {
    "duration": 119,
    "start_time": "2022-06-15T13:55:28.024Z"
   },
   {
    "duration": 20,
    "start_time": "2022-06-15T13:55:28.148Z"
   },
   {
    "duration": 69,
    "start_time": "2022-06-15T13:55:28.171Z"
   },
   {
    "duration": 125,
    "start_time": "2022-06-15T13:55:28.242Z"
   },
   {
    "duration": 81,
    "start_time": "2022-06-15T13:55:28.370Z"
   },
   {
    "duration": 10,
    "start_time": "2022-06-15T13:55:28.453Z"
   },
   {
    "duration": 1904,
    "start_time": "2022-06-15T13:55:28.465Z"
   },
   {
    "duration": 68,
    "start_time": "2022-06-15T13:55:30.371Z"
   },
   {
    "duration": 94,
    "start_time": "2022-06-15T13:55:30.441Z"
   },
   {
    "duration": 19,
    "start_time": "2022-06-15T13:55:30.537Z"
   },
   {
    "duration": 509,
    "start_time": "2022-06-15T13:55:30.559Z"
   },
   {
    "duration": 518,
    "start_time": "2022-06-15T13:55:31.071Z"
   },
   {
    "duration": 151,
    "start_time": "2022-06-15T13:55:31.591Z"
   },
   {
    "duration": 0,
    "start_time": "2022-06-15T13:55:31.744Z"
   },
   {
    "duration": 0,
    "start_time": "2022-06-15T13:55:31.746Z"
   },
   {
    "duration": 0,
    "start_time": "2022-06-15T13:55:31.747Z"
   },
   {
    "duration": 0,
    "start_time": "2022-06-15T13:55:31.749Z"
   },
   {
    "duration": 0,
    "start_time": "2022-06-15T13:55:31.750Z"
   },
   {
    "duration": 0,
    "start_time": "2022-06-15T13:55:31.751Z"
   },
   {
    "duration": 0,
    "start_time": "2022-06-15T13:55:31.752Z"
   },
   {
    "duration": 0,
    "start_time": "2022-06-15T13:55:31.754Z"
   },
   {
    "duration": 0,
    "start_time": "2022-06-15T13:55:31.755Z"
   },
   {
    "duration": 0,
    "start_time": "2022-06-15T13:55:31.756Z"
   },
   {
    "duration": 0,
    "start_time": "2022-06-15T13:55:31.757Z"
   },
   {
    "duration": 0,
    "start_time": "2022-06-15T13:55:31.759Z"
   },
   {
    "duration": 20,
    "start_time": "2022-06-15T13:55:47.102Z"
   },
   {
    "duration": 18,
    "start_time": "2022-06-15T13:55:53.838Z"
   },
   {
    "duration": 18,
    "start_time": "2022-06-15T13:56:00.522Z"
   },
   {
    "duration": 5,
    "start_time": "2022-06-15T14:22:13.994Z"
   },
   {
    "duration": 2556,
    "start_time": "2022-06-15T14:22:14.002Z"
   },
   {
    "duration": 1177,
    "start_time": "2022-06-15T14:22:16.563Z"
   },
   {
    "duration": 140,
    "start_time": "2022-06-15T14:22:17.742Z"
   },
   {
    "duration": 150,
    "start_time": "2022-06-15T14:22:17.884Z"
   },
   {
    "duration": 136,
    "start_time": "2022-06-15T14:22:18.036Z"
   },
   {
    "duration": 13,
    "start_time": "2022-06-15T14:22:18.174Z"
   },
   {
    "duration": 83,
    "start_time": "2022-06-15T14:22:18.189Z"
   },
   {
    "duration": 29,
    "start_time": "2022-06-15T14:22:18.276Z"
   },
   {
    "duration": 148,
    "start_time": "2022-06-15T14:22:18.307Z"
   },
   {
    "duration": 496,
    "start_time": "2022-06-15T14:22:18.457Z"
   },
   {
    "duration": 576,
    "start_time": "2022-06-15T14:22:18.954Z"
   },
   {
    "duration": 508,
    "start_time": "2022-06-15T14:22:19.532Z"
   },
   {
    "duration": 41,
    "start_time": "2022-06-15T14:22:20.042Z"
   },
   {
    "duration": 49,
    "start_time": "2022-06-15T14:22:20.086Z"
   },
   {
    "duration": 146,
    "start_time": "2022-06-15T14:22:20.137Z"
   },
   {
    "duration": 1100,
    "start_time": "2022-06-15T14:22:20.285Z"
   },
   {
    "duration": 198,
    "start_time": "2022-06-15T14:22:21.388Z"
   },
   {
    "duration": 914,
    "start_time": "2022-06-15T14:22:21.589Z"
   },
   {
    "duration": 132,
    "start_time": "2022-06-15T14:22:22.506Z"
   },
   {
    "duration": 36,
    "start_time": "2022-06-15T14:22:22.641Z"
   },
   {
    "duration": 181,
    "start_time": "2022-06-15T14:22:22.679Z"
   },
   {
    "duration": 110,
    "start_time": "2022-06-15T14:22:22.862Z"
   },
   {
    "duration": 22,
    "start_time": "2022-06-15T14:22:22.976Z"
   },
   {
    "duration": 71,
    "start_time": "2022-06-15T14:22:23.000Z"
   },
   {
    "duration": 120,
    "start_time": "2022-06-15T14:22:23.073Z"
   },
   {
    "duration": 80,
    "start_time": "2022-06-15T14:22:23.196Z"
   },
   {
    "duration": 11,
    "start_time": "2022-06-15T14:22:23.278Z"
   },
   {
    "duration": 2094,
    "start_time": "2022-06-15T14:22:23.291Z"
   },
   {
    "duration": 65,
    "start_time": "2022-06-15T14:22:25.387Z"
   },
   {
    "duration": 91,
    "start_time": "2022-06-15T14:22:25.454Z"
   },
   {
    "duration": 14,
    "start_time": "2022-06-15T14:22:25.547Z"
   },
   {
    "duration": 494,
    "start_time": "2022-06-15T14:22:25.564Z"
   },
   {
    "duration": 484,
    "start_time": "2022-06-15T14:22:26.060Z"
   },
   {
    "duration": 15,
    "start_time": "2022-06-15T14:22:26.546Z"
   },
   {
    "duration": 98046,
    "start_time": "2022-06-15T14:22:26.563Z"
   },
   {
    "duration": 6,
    "start_time": "2022-06-15T14:24:04.611Z"
   },
   {
    "duration": 138444,
    "start_time": "2022-06-15T14:24:04.619Z"
   },
   {
    "duration": 5,
    "start_time": "2022-06-15T14:26:23.065Z"
   },
   {
    "duration": 2050864,
    "start_time": "2022-06-15T14:26:23.073Z"
   },
   {
    "duration": 1189893,
    "start_time": "2022-06-15T15:00:33.940Z"
   },
   {
    "duration": 3463195,
    "start_time": "2022-06-15T15:20:23.836Z"
   },
   {
    "duration": 2621633,
    "start_time": "2022-06-15T16:18:07.033Z"
   },
   {
    "duration": 3,
    "start_time": "2022-06-15T17:01:48.669Z"
   },
   {
    "duration": 203,
    "start_time": "2022-06-15T17:01:48.674Z"
   },
   {
    "duration": 0,
    "start_time": "2022-06-15T17:01:48.879Z"
   },
   {
    "duration": 87843,
    "start_time": "2022-06-15T17:02:06.201Z"
   },
   {
    "duration": 4,
    "start_time": "2022-06-16T05:02:14.187Z"
   },
   {
    "duration": 1335,
    "start_time": "2022-06-16T05:02:14.194Z"
   },
   {
    "duration": 0,
    "start_time": "2022-06-16T05:02:15.531Z"
   },
   {
    "duration": 0,
    "start_time": "2022-06-16T05:02:15.533Z"
   },
   {
    "duration": 0,
    "start_time": "2022-06-16T05:02:15.534Z"
   },
   {
    "duration": 0,
    "start_time": "2022-06-16T05:02:15.535Z"
   },
   {
    "duration": 0,
    "start_time": "2022-06-16T05:02:15.535Z"
   },
   {
    "duration": 0,
    "start_time": "2022-06-16T05:02:15.536Z"
   },
   {
    "duration": 0,
    "start_time": "2022-06-16T05:02:15.537Z"
   },
   {
    "duration": 0,
    "start_time": "2022-06-16T05:02:15.539Z"
   },
   {
    "duration": 0,
    "start_time": "2022-06-16T05:02:15.539Z"
   },
   {
    "duration": 0,
    "start_time": "2022-06-16T05:02:15.540Z"
   },
   {
    "duration": 0,
    "start_time": "2022-06-16T05:02:15.541Z"
   },
   {
    "duration": 0,
    "start_time": "2022-06-16T05:02:15.542Z"
   },
   {
    "duration": 0,
    "start_time": "2022-06-16T05:02:15.543Z"
   },
   {
    "duration": 0,
    "start_time": "2022-06-16T05:02:15.544Z"
   },
   {
    "duration": 0,
    "start_time": "2022-06-16T05:02:15.545Z"
   },
   {
    "duration": 0,
    "start_time": "2022-06-16T05:02:15.565Z"
   },
   {
    "duration": 0,
    "start_time": "2022-06-16T05:02:15.566Z"
   },
   {
    "duration": 0,
    "start_time": "2022-06-16T05:02:15.567Z"
   },
   {
    "duration": 0,
    "start_time": "2022-06-16T05:02:15.568Z"
   },
   {
    "duration": 0,
    "start_time": "2022-06-16T05:02:15.569Z"
   },
   {
    "duration": 0,
    "start_time": "2022-06-16T05:02:15.570Z"
   },
   {
    "duration": 0,
    "start_time": "2022-06-16T05:02:15.571Z"
   },
   {
    "duration": 0,
    "start_time": "2022-06-16T05:02:15.572Z"
   },
   {
    "duration": 0,
    "start_time": "2022-06-16T05:02:15.573Z"
   },
   {
    "duration": 0,
    "start_time": "2022-06-16T05:02:15.574Z"
   },
   {
    "duration": 0,
    "start_time": "2022-06-16T05:02:15.575Z"
   },
   {
    "duration": 0,
    "start_time": "2022-06-16T05:02:15.576Z"
   },
   {
    "duration": 0,
    "start_time": "2022-06-16T05:02:15.577Z"
   },
   {
    "duration": 0,
    "start_time": "2022-06-16T05:02:15.578Z"
   },
   {
    "duration": 0,
    "start_time": "2022-06-16T05:02:15.579Z"
   },
   {
    "duration": 9,
    "start_time": "2022-06-16T05:03:01.815Z"
   },
   {
    "duration": 8,
    "start_time": "2022-06-16T05:03:15.190Z"
   },
   {
    "duration": 8,
    "start_time": "2022-06-16T05:03:23.147Z"
   },
   {
    "duration": 6736,
    "start_time": "2022-06-16T05:03:40.250Z"
   },
   {
    "duration": 2067,
    "start_time": "2022-06-16T05:03:56.124Z"
   },
   {
    "duration": 246,
    "start_time": "2022-06-16T05:03:58.193Z"
   },
   {
    "duration": 838,
    "start_time": "2022-06-16T05:03:58.440Z"
   },
   {
    "duration": 128,
    "start_time": "2022-06-16T05:03:59.280Z"
   },
   {
    "duration": 127,
    "start_time": "2022-06-16T05:03:59.411Z"
   },
   {
    "duration": 130,
    "start_time": "2022-06-16T05:03:59.540Z"
   },
   {
    "duration": 11,
    "start_time": "2022-06-16T05:03:59.671Z"
   },
   {
    "duration": 54,
    "start_time": "2022-06-16T05:03:59.684Z"
   },
   {
    "duration": 25,
    "start_time": "2022-06-16T05:03:59.740Z"
   },
   {
    "duration": 129,
    "start_time": "2022-06-16T05:03:59.767Z"
   },
   {
    "duration": 443,
    "start_time": "2022-06-16T05:03:59.898Z"
   },
   {
    "duration": 505,
    "start_time": "2022-06-16T05:04:00.343Z"
   },
   {
    "duration": 449,
    "start_time": "2022-06-16T05:04:00.850Z"
   },
   {
    "duration": 35,
    "start_time": "2022-06-16T05:04:01.302Z"
   },
   {
    "duration": 33,
    "start_time": "2022-06-16T05:04:01.339Z"
   },
   {
    "duration": 126,
    "start_time": "2022-06-16T05:04:01.373Z"
   },
   {
    "duration": 868,
    "start_time": "2022-06-16T05:04:01.501Z"
   },
   {
    "duration": 161,
    "start_time": "2022-06-16T05:04:02.372Z"
   },
   {
    "duration": 746,
    "start_time": "2022-06-16T05:04:02.535Z"
   },
   {
    "duration": 114,
    "start_time": "2022-06-16T05:04:03.283Z"
   },
   {
    "duration": 18,
    "start_time": "2022-06-16T05:04:03.400Z"
   },
   {
    "duration": 167,
    "start_time": "2022-06-16T05:04:03.420Z"
   },
   {
    "duration": 115,
    "start_time": "2022-06-16T05:04:03.588Z"
   },
   {
    "duration": 18,
    "start_time": "2022-06-16T05:04:03.705Z"
   },
   {
    "duration": 51,
    "start_time": "2022-06-16T05:04:03.725Z"
   },
   {
    "duration": 103,
    "start_time": "2022-06-16T05:04:03.777Z"
   },
   {
    "duration": 53,
    "start_time": "2022-06-16T05:04:03.882Z"
   },
   {
    "duration": 29,
    "start_time": "2022-06-16T05:04:03.936Z"
   },
   {
    "duration": 1513,
    "start_time": "2022-06-16T05:04:03.967Z"
   },
   {
    "duration": 48,
    "start_time": "2022-06-16T05:04:05.481Z"
   },
   {
    "duration": 77,
    "start_time": "2022-06-16T05:04:05.530Z"
   },
   {
    "duration": 11,
    "start_time": "2022-06-16T05:04:05.608Z"
   },
   {
    "duration": 23,
    "start_time": "2022-06-16T05:04:05.620Z"
   },
   {
    "duration": 4,
    "start_time": "2022-06-16T05:04:08.944Z"
   },
   {
    "duration": 2,
    "start_time": "2022-06-16T05:04:19.840Z"
   },
   {
    "duration": 314,
    "start_time": "2022-06-16T05:04:20.671Z"
   },
   {
    "duration": 2192,
    "start_time": "2022-06-16T05:05:54.593Z"
   },
   {
    "duration": 5,
    "start_time": "2022-06-16T05:05:56.787Z"
   },
   {
    "duration": 821,
    "start_time": "2022-06-16T05:05:56.794Z"
   },
   {
    "duration": 130,
    "start_time": "2022-06-16T05:05:57.616Z"
   },
   {
    "duration": 130,
    "start_time": "2022-06-16T05:05:57.749Z"
   },
   {
    "duration": 125,
    "start_time": "2022-06-16T05:05:57.880Z"
   },
   {
    "duration": 11,
    "start_time": "2022-06-16T05:05:58.006Z"
   },
   {
    "duration": 69,
    "start_time": "2022-06-16T05:05:58.019Z"
   },
   {
    "duration": 11,
    "start_time": "2022-06-16T05:05:58.090Z"
   },
   {
    "duration": 138,
    "start_time": "2022-06-16T05:05:58.103Z"
   },
   {
    "duration": 416,
    "start_time": "2022-06-16T05:05:58.243Z"
   },
   {
    "duration": 462,
    "start_time": "2022-06-16T05:05:58.664Z"
   },
   {
    "duration": 415,
    "start_time": "2022-06-16T05:05:59.128Z"
   },
   {
    "duration": 41,
    "start_time": "2022-06-16T05:05:59.546Z"
   },
   {
    "duration": 21,
    "start_time": "2022-06-16T05:05:59.588Z"
   },
   {
    "duration": 130,
    "start_time": "2022-06-16T05:05:59.610Z"
   },
   {
    "duration": 875,
    "start_time": "2022-06-16T05:05:59.742Z"
   },
   {
    "duration": 132,
    "start_time": "2022-06-16T05:06:00.619Z"
   },
   {
    "duration": 782,
    "start_time": "2022-06-16T05:06:00.754Z"
   },
   {
    "duration": 111,
    "start_time": "2022-06-16T05:06:01.537Z"
   },
   {
    "duration": 36,
    "start_time": "2022-06-16T05:06:01.649Z"
   },
   {
    "duration": 145,
    "start_time": "2022-06-16T05:06:01.686Z"
   },
   {
    "duration": 122,
    "start_time": "2022-06-16T05:06:01.833Z"
   },
   {
    "duration": 24,
    "start_time": "2022-06-16T05:06:01.956Z"
   },
   {
    "duration": 51,
    "start_time": "2022-06-16T05:06:01.982Z"
   },
   {
    "duration": 123,
    "start_time": "2022-06-16T05:06:02.034Z"
   },
   {
    "duration": 50,
    "start_time": "2022-06-16T05:06:02.165Z"
   },
   {
    "duration": 9,
    "start_time": "2022-06-16T05:06:02.217Z"
   },
   {
    "duration": 1651,
    "start_time": "2022-06-16T05:06:02.227Z"
   },
   {
    "duration": 52,
    "start_time": "2022-06-16T05:06:03.880Z"
   },
   {
    "duration": 89,
    "start_time": "2022-06-16T05:06:03.935Z"
   },
   {
    "duration": 12,
    "start_time": "2022-06-16T05:06:04.026Z"
   },
   {
    "duration": 323,
    "start_time": "2022-06-16T05:06:37.971Z"
   },
   {
    "duration": 16,
    "start_time": "2022-06-16T05:06:43.691Z"
   },
   {
    "duration": 2173,
    "start_time": "2022-06-16T05:12:52.593Z"
   },
   {
    "duration": 4,
    "start_time": "2022-06-16T05:12:54.769Z"
   },
   {
    "duration": 787,
    "start_time": "2022-06-16T05:12:54.774Z"
   },
   {
    "duration": 133,
    "start_time": "2022-06-16T05:12:55.563Z"
   },
   {
    "duration": 128,
    "start_time": "2022-06-16T05:12:55.698Z"
   },
   {
    "duration": 128,
    "start_time": "2022-06-16T05:12:55.828Z"
   },
   {
    "duration": 12,
    "start_time": "2022-06-16T05:12:55.964Z"
   },
   {
    "duration": 56,
    "start_time": "2022-06-16T05:12:55.978Z"
   },
   {
    "duration": 32,
    "start_time": "2022-06-16T05:12:56.036Z"
   },
   {
    "duration": 140,
    "start_time": "2022-06-16T05:12:56.070Z"
   },
   {
    "duration": 420,
    "start_time": "2022-06-16T05:12:56.212Z"
   },
   {
    "duration": 464,
    "start_time": "2022-06-16T05:12:56.633Z"
   },
   {
    "duration": 410,
    "start_time": "2022-06-16T05:12:57.098Z"
   },
   {
    "duration": 39,
    "start_time": "2022-06-16T05:12:57.511Z"
   },
   {
    "duration": 32,
    "start_time": "2022-06-16T05:12:57.551Z"
   },
   {
    "duration": 133,
    "start_time": "2022-06-16T05:12:57.585Z"
   },
   {
    "duration": 893,
    "start_time": "2022-06-16T05:12:57.719Z"
   },
   {
    "duration": 128,
    "start_time": "2022-06-16T05:12:58.614Z"
   },
   {
    "duration": 782,
    "start_time": "2022-06-16T05:12:58.744Z"
   },
   {
    "duration": 118,
    "start_time": "2022-06-16T05:12:59.528Z"
   },
   {
    "duration": 34,
    "start_time": "2022-06-16T05:12:59.648Z"
   },
   {
    "duration": 148,
    "start_time": "2022-06-16T05:12:59.684Z"
   },
   {
    "duration": 102,
    "start_time": "2022-06-16T05:12:59.834Z"
   },
   {
    "duration": 19,
    "start_time": "2022-06-16T05:12:59.938Z"
   },
   {
    "duration": 44,
    "start_time": "2022-06-16T05:12:59.965Z"
   },
   {
    "duration": 114,
    "start_time": "2022-06-16T05:13:00.011Z"
   },
   {
    "duration": 58,
    "start_time": "2022-06-16T05:13:00.127Z"
   },
   {
    "duration": 10,
    "start_time": "2022-06-16T05:13:00.186Z"
   },
   {
    "duration": 1624,
    "start_time": "2022-06-16T05:13:00.198Z"
   },
   {
    "duration": 64,
    "start_time": "2022-06-16T05:13:01.824Z"
   },
   {
    "duration": 76,
    "start_time": "2022-06-16T05:13:01.890Z"
   },
   {
    "duration": 12,
    "start_time": "2022-06-16T05:13:01.968Z"
   },
   {
    "duration": 364,
    "start_time": "2022-06-16T05:13:01.982Z"
   },
   {
    "duration": 393,
    "start_time": "2022-06-16T05:13:02.348Z"
   },
   {
    "duration": 10,
    "start_time": "2022-06-16T05:13:02.743Z"
   },
   {
    "duration": 17,
    "start_time": "2022-06-16T05:14:18.471Z"
   },
   {
    "duration": 7719,
    "start_time": "2022-08-23T15:35:00.204Z"
   },
   {
    "duration": 2607,
    "start_time": "2022-08-23T15:35:07.925Z"
   },
   {
    "duration": 2904,
    "start_time": "2022-08-23T15:35:10.533Z"
   },
   {
    "duration": 98,
    "start_time": "2022-08-23T15:35:13.439Z"
   },
   {
    "duration": 101,
    "start_time": "2022-08-23T15:35:13.539Z"
   },
   {
    "duration": 104,
    "start_time": "2022-08-23T15:35:13.641Z"
   },
   {
    "duration": 11,
    "start_time": "2022-08-23T15:35:13.746Z"
   },
   {
    "duration": 65,
    "start_time": "2022-08-23T15:35:13.759Z"
   },
   {
    "duration": 11,
    "start_time": "2022-08-23T15:35:13.825Z"
   },
   {
    "duration": 106,
    "start_time": "2022-08-23T15:35:13.839Z"
   },
   {
    "duration": 419,
    "start_time": "2022-08-23T15:35:13.947Z"
   },
   {
    "duration": 446,
    "start_time": "2022-08-23T15:35:14.368Z"
   },
   {
    "duration": 419,
    "start_time": "2022-08-23T15:35:14.815Z"
   },
   {
    "duration": 34,
    "start_time": "2022-08-23T15:35:15.236Z"
   },
   {
    "duration": 20,
    "start_time": "2022-08-23T15:35:15.271Z"
   },
   {
    "duration": 117,
    "start_time": "2022-08-23T15:35:15.307Z"
   },
   {
    "duration": 905,
    "start_time": "2022-08-23T15:35:15.426Z"
   },
   {
    "duration": 151,
    "start_time": "2022-08-23T15:35:16.332Z"
   },
   {
    "duration": 672,
    "start_time": "2022-08-23T15:35:16.485Z"
   },
   {
    "duration": 89,
    "start_time": "2022-08-23T15:35:17.159Z"
   },
   {
    "duration": 19,
    "start_time": "2022-08-23T15:35:17.250Z"
   },
   {
    "duration": 137,
    "start_time": "2022-08-23T15:35:17.270Z"
   },
   {
    "duration": 97,
    "start_time": "2022-08-23T15:35:17.409Z"
   },
   {
    "duration": 16,
    "start_time": "2022-08-23T15:35:17.508Z"
   },
   {
    "duration": 38,
    "start_time": "2022-08-23T15:35:17.526Z"
   },
   {
    "duration": 91,
    "start_time": "2022-08-23T15:35:17.566Z"
   },
   {
    "duration": 61,
    "start_time": "2022-08-23T15:35:17.658Z"
   },
   {
    "duration": 9,
    "start_time": "2022-08-23T15:35:17.722Z"
   },
   {
    "duration": 1481,
    "start_time": "2022-08-23T15:35:17.732Z"
   },
   {
    "duration": 50,
    "start_time": "2022-08-23T15:35:19.215Z"
   },
   {
    "duration": 79,
    "start_time": "2022-08-23T15:35:19.266Z"
   },
   {
    "duration": 12,
    "start_time": "2022-08-23T15:35:19.346Z"
   },
   {
    "duration": 327,
    "start_time": "2022-08-23T15:35:19.359Z"
   },
   {
    "duration": 353,
    "start_time": "2022-08-23T15:35:19.688Z"
   },
   {
    "duration": 13,
    "start_time": "2022-08-23T15:35:20.043Z"
   },
   {
    "duration": 15,
    "start_time": "2022-08-23T15:35:20.058Z"
   },
   {
    "duration": 10,
    "start_time": "2022-08-23T15:35:20.074Z"
   },
   {
    "duration": 14,
    "start_time": "2022-08-23T15:35:20.086Z"
   },
   {
    "duration": 16,
    "start_time": "2022-08-23T15:35:20.101Z"
   },
   {
    "duration": 19,
    "start_time": "2022-08-23T15:35:20.119Z"
   },
   {
    "duration": 2928187,
    "start_time": "2022-08-23T15:35:20.140Z"
   },
   {
    "duration": 2226016,
    "start_time": "2022-08-23T16:24:08.329Z"
   },
   {
    "duration": 6370,
    "start_time": "2022-08-23T17:01:14.346Z"
   }
  ],
  "kernelspec": {
   "display_name": "Python 3 (ipykernel)",
   "language": "python",
   "name": "python3"
  },
  "language_info": {
   "codemirror_mode": {
    "name": "ipython",
    "version": 3
   },
   "file_extension": ".py",
   "mimetype": "text/x-python",
   "name": "python",
   "nbconvert_exporter": "python",
   "pygments_lexer": "ipython3",
   "version": "3.8.8"
  },
  "toc": {
   "base_numbering": 1,
   "nav_menu": {
    "height": "374px",
    "width": "410px"
   },
   "number_sections": true,
   "sideBar": true,
   "skip_h1_title": true,
   "title_cell": "Table of Contents",
   "title_sidebar": "Contents",
   "toc_cell": false,
   "toc_position": {
    "height": "calc(100% - 180px)",
    "left": "10px",
    "top": "150px",
    "width": "260px"
   },
   "toc_section_display": true,
   "toc_window_display": true
  }
 },
 "nbformat": 4,
 "nbformat_minor": 2
}
