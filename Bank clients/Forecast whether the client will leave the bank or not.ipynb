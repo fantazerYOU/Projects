{
 "cells": [
  {
   "cell_type": "markdown",
   "metadata": {
    "toc": true
   },
   "source": [
    "<h1>Содержание<span class=\"tocSkip\"></span></h1>\n",
    "<div class=\"toc\"><ul class=\"toc-item\"><li><span><a href=\"#Подготовка-данных\" data-toc-modified-id=\"Подготовка-данных-1\"><span class=\"toc-item-num\">1&nbsp;&nbsp;</span>Подготовка данных</a></span></li><li><span><a href=\"#Исследование-задачи\" data-toc-modified-id=\"Исследование-задачи-2\"><span class=\"toc-item-num\">2&nbsp;&nbsp;</span>Исследование задачи</a></span></li><li><span><a href=\"#Борьба-с-дисбалансом\" data-toc-modified-id=\"Борьба-с-дисбалансом-3\"><span class=\"toc-item-num\">3&nbsp;&nbsp;</span>Борьба с дисбалансом</a></span><ul class=\"toc-item\"><li><span><a href=\"#Увеличение-выборки-применив-параметр-class_weight-=-'balanced'\" data-toc-modified-id=\"Увеличение-выборки-применив-параметр-class_weight-=-'balanced'-3.1\"><span class=\"toc-item-num\">3.1&nbsp;&nbsp;</span>Увеличение выборки применив параметр class_weight = 'balanced'</a></span><ul class=\"toc-item\"><li><span><a href=\"#Применение-параметра-class_weight-=-'balanced'-на-LogisticRegression\" data-toc-modified-id=\"Применение-параметра-class_weight-=-'balanced'-на-LogisticRegression-3.1.1\"><span class=\"toc-item-num\">3.1.1&nbsp;&nbsp;</span>Применение параметра class_weight = 'balanced' на LogisticRegression</a></span></li><li><span><a href=\"#Применение-параметра-class_weight-=-'balanced'-на-RandomForestClassifier\" data-toc-modified-id=\"Применение-параметра-class_weight-=-'balanced'-на-RandomForestClassifier-3.1.2\"><span class=\"toc-item-num\">3.1.2&nbsp;&nbsp;</span>Применение параметра class_weight = 'balanced' на RandomForestClassifier</a></span></li></ul></li><li><span><a href=\"#Увеличение-выборки-методом-upsampling\" data-toc-modified-id=\"Увеличение-выборки-методом-upsampling-3.2\"><span class=\"toc-item-num\">3.2&nbsp;&nbsp;</span>Увеличение выборки методом upsampling</a></span><ul class=\"toc-item\"><li><span><a href=\"#Применение-метода-upsampling-на-LogisticRegression\" data-toc-modified-id=\"Применение-метода-upsampling-на-LogisticRegression-3.2.1\"><span class=\"toc-item-num\">3.2.1&nbsp;&nbsp;</span>Применение метода upsampling на LogisticRegression</a></span></li><li><span><a href=\"#Применение-метода-upsampling-на-RandomForestClassifier\" data-toc-modified-id=\"Применение-метода-upsampling-на-RandomForestClassifier-3.2.2\"><span class=\"toc-item-num\">3.2.2&nbsp;&nbsp;</span>Применение метода upsampling на RandomForestClassifier</a></span></li></ul></li><li><span><a href=\"#Уменьшение-выборки-методом-downsampling-из-библиотеки-sklearn.utils\" data-toc-modified-id=\"Уменьшение-выборки-методом-downsampling-из-библиотеки-sklearn.utils-3.3\"><span class=\"toc-item-num\">3.3&nbsp;&nbsp;</span>Уменьшение выборки методом downsampling из библиотеки sklearn.utils</a></span><ul class=\"toc-item\"><li><span><a href=\"#Применение-метода-downsampling-на-LogisticRegression\" data-toc-modified-id=\"Применение-метода-downsampling-на-LogisticRegression-3.3.1\"><span class=\"toc-item-num\">3.3.1&nbsp;&nbsp;</span>Применение метода downsampling на LogisticRegression</a></span></li><li><span><a href=\"#Применение-метода-downsamp-на-RandomForestClassifier\" data-toc-modified-id=\"Применение-метода-downsamp-на-RandomForestClassifier-3.3.2\"><span class=\"toc-item-num\">3.3.2&nbsp;&nbsp;</span>Применение метода downsamp на RandomForestClassifier</a></span></li></ul></li></ul></li><li><span><a href=\"#Тестирование-модели\" data-toc-modified-id=\"Тестирование-модели-4\"><span class=\"toc-item-num\">4&nbsp;&nbsp;</span>Тестирование модели</a></span><ul class=\"toc-item\"><li><ul class=\"toc-item\"><li><span><a href=\"#Тестирование-модели-при-применении-метода-downsamp-на-RandomForestClassifier\" data-toc-modified-id=\"Тестирование-модели-при-применении-метода-downsamp-на-RandomForestClassifier-4.0.1\"><span class=\"toc-item-num\">4.0.1&nbsp;&nbsp;</span>Тестирование модели при применении метода downsamp на RandomForestClassifier</a></span></li></ul></li></ul></li><li><span><a href=\"#Вывод\" data-toc-modified-id=\"Вывод-5\"><span class=\"toc-item-num\">5&nbsp;&nbsp;</span>Вывод</a></span></li></ul></div>"
   ]
  },
  {
   "cell_type": "markdown",
   "metadata": {},
   "source": [
    "# Отток клиентов"
   ]
  },
  {
   "cell_type": "markdown",
   "metadata": {},
   "source": [
    "Из «Бета-Банка» стали уходить клиенты. Каждый месяц. Немного, но заметно. Банковские маркетологи посчитали: сохранять текущих клиентов дешевле, чем привлекать новых.\n",
    "\n",
    "Нужно спрогнозировать, уйдёт клиент из банка в ближайшее время или нет. Вам предоставлены исторические данные о поведении клиентов и расторжении договоров с банком. \n",
    "\n",
    "Постройте модель с предельно большим значением *F1*-меры. Чтобы сдать проект успешно, нужно довести метрику до 0.59. Проверьте *F1*-меру на тестовой выборке самостоятельно.\n",
    "\n",
    "Дополнительно измеряйте *AUC-ROC*, сравнивайте её значение с *F1*-мерой.\n",
    "\n",
    "Источник данных: [https://www.kaggle.com/barelydedicated/bank-customer-churn-modeling](https://www.kaggle.com/barelydedicated/bank-customer-churn-modeling)"
   ]
  },
  {
   "cell_type": "markdown",
   "metadata": {},
   "source": [
    "## Подготовка данных"
   ]
  },
  {
   "cell_type": "code",
   "execution_count": 1,
   "metadata": {},
   "outputs": [],
   "source": [
    "import pandas as pd\n",
    "from sklearn.preprocessing import OrdinalEncoder \n",
    "from sklearn.model_selection import train_test_split\n",
    "from sklearn.metrics import roc_auc_score\n",
    "from sklearn.metrics import f1_score\n",
    "from sklearn.linear_model import LogisticRegression\n",
    "from sklearn.ensemble import RandomForestClassifier \n",
    "import math\n",
    "from sklearn.utils import shuffle\n",
    "import numpy as np\n",
    "from sklearn.utils import resample\n",
    "from sklearn.metrics import roc_curve\n",
    "import matplotlib.pyplot as plt"
   ]
  },
  {
   "cell_type": "code",
   "execution_count": 4,
   "metadata": {},
   "outputs": [
    {
     "data": {
      "text/html": [
       "<div>\n",
       "<style scoped>\n",
       "    .dataframe tbody tr th:only-of-type {\n",
       "        vertical-align: middle;\n",
       "    }\n",
       "\n",
       "    .dataframe tbody tr th {\n",
       "        vertical-align: top;\n",
       "    }\n",
       "\n",
       "    .dataframe thead th {\n",
       "        text-align: right;\n",
       "    }\n",
       "</style>\n",
       "<table border=\"1\" class=\"dataframe\">\n",
       "  <thead>\n",
       "    <tr style=\"text-align: right;\">\n",
       "      <th></th>\n",
       "      <th>RowNumber</th>\n",
       "      <th>CustomerId</th>\n",
       "      <th>Surname</th>\n",
       "      <th>CreditScore</th>\n",
       "      <th>Geography</th>\n",
       "      <th>Gender</th>\n",
       "      <th>Age</th>\n",
       "      <th>Tenure</th>\n",
       "      <th>Balance</th>\n",
       "      <th>NumOfProducts</th>\n",
       "      <th>HasCrCard</th>\n",
       "      <th>IsActiveMember</th>\n",
       "      <th>EstimatedSalary</th>\n",
       "      <th>Exited</th>\n",
       "    </tr>\n",
       "  </thead>\n",
       "  <tbody>\n",
       "    <tr>\n",
       "      <th>0</th>\n",
       "      <td>1</td>\n",
       "      <td>15634602</td>\n",
       "      <td>Hargrave</td>\n",
       "      <td>619</td>\n",
       "      <td>France</td>\n",
       "      <td>Female</td>\n",
       "      <td>42</td>\n",
       "      <td>2.0</td>\n",
       "      <td>0.00</td>\n",
       "      <td>1</td>\n",
       "      <td>1</td>\n",
       "      <td>1</td>\n",
       "      <td>101348.88</td>\n",
       "      <td>1</td>\n",
       "    </tr>\n",
       "    <tr>\n",
       "      <th>1</th>\n",
       "      <td>2</td>\n",
       "      <td>15647311</td>\n",
       "      <td>Hill</td>\n",
       "      <td>608</td>\n",
       "      <td>Spain</td>\n",
       "      <td>Female</td>\n",
       "      <td>41</td>\n",
       "      <td>1.0</td>\n",
       "      <td>83807.86</td>\n",
       "      <td>1</td>\n",
       "      <td>0</td>\n",
       "      <td>1</td>\n",
       "      <td>112542.58</td>\n",
       "      <td>0</td>\n",
       "    </tr>\n",
       "  </tbody>\n",
       "</table>\n",
       "</div>"
      ],
      "text/plain": [
       "   RowNumber  CustomerId   Surname  CreditScore Geography  Gender  Age  \\\n",
       "0          1    15634602  Hargrave          619    France  Female   42   \n",
       "1          2    15647311      Hill          608     Spain  Female   41   \n",
       "\n",
       "   Tenure   Balance  NumOfProducts  HasCrCard  IsActiveMember  \\\n",
       "0     2.0      0.00              1          1               1   \n",
       "1     1.0  83807.86              1          0               1   \n",
       "\n",
       "   EstimatedSalary  Exited  \n",
       "0        101348.88       1  \n",
       "1        112542.58       0  "
      ]
     },
     "execution_count": 4,
     "metadata": {},
     "output_type": "execute_result"
    }
   ],
   "source": [
    "df = pd.read_csv('/datasets/Churn.csv')\n",
    "df.head(2)"
   ]
  },
  {
   "cell_type": "markdown",
   "metadata": {},
   "source": [
    "Всего 10,000 строк и 14 признаков, один из них целевой. У нас три признака категориальных. Будем их преобразовывать. "
   ]
  },
  {
   "cell_type": "code",
   "execution_count": 5,
   "metadata": {
    "scrolled": true
   },
   "outputs": [
    {
     "name": "stdout",
     "output_type": "stream",
     "text": [
      "<class 'pandas.core.frame.DataFrame'>\n",
      "RangeIndex: 10000 entries, 0 to 9999\n",
      "Data columns (total 14 columns):\n",
      " #   Column           Non-Null Count  Dtype  \n",
      "---  ------           --------------  -----  \n",
      " 0   RowNumber        10000 non-null  int64  \n",
      " 1   CustomerId       10000 non-null  int64  \n",
      " 2   Surname          10000 non-null  object \n",
      " 3   CreditScore      10000 non-null  int64  \n",
      " 4   Geography        10000 non-null  object \n",
      " 5   Gender           10000 non-null  object \n",
      " 6   Age              10000 non-null  int64  \n",
      " 7   Tenure           9091 non-null   float64\n",
      " 8   Balance          10000 non-null  float64\n",
      " 9   NumOfProducts    10000 non-null  int64  \n",
      " 10  HasCrCard        10000 non-null  int64  \n",
      " 11  IsActiveMember   10000 non-null  int64  \n",
      " 12  EstimatedSalary  10000 non-null  float64\n",
      " 13  Exited           10000 non-null  int64  \n",
      "dtypes: float64(3), int64(8), object(3)\n",
      "memory usage: 1.1+ MB\n"
     ]
    }
   ],
   "source": [
    "df.info()"
   ]
  },
  {
   "cell_type": "code",
   "execution_count": 6,
   "metadata": {},
   "outputs": [
    {
     "data": {
      "text/plain": [
       "0"
      ]
     },
     "execution_count": 6,
     "metadata": {},
     "output_type": "execute_result"
    }
   ],
   "source": [
    "df.duplicated().sum()"
   ]
  },
  {
   "cell_type": "code",
   "execution_count": 7,
   "metadata": {
    "scrolled": false
   },
   "outputs": [
    {
     "data": {
      "text/plain": [
       "RowNumber            0\n",
       "CustomerId           0\n",
       "Surname              0\n",
       "CreditScore          0\n",
       "Geography            0\n",
       "Gender               0\n",
       "Age                  0\n",
       "Tenure             909\n",
       "Balance              0\n",
       "NumOfProducts        0\n",
       "HasCrCard            0\n",
       "IsActiveMember       0\n",
       "EstimatedSalary      0\n",
       "Exited               0\n",
       "dtype: int64"
      ]
     },
     "execution_count": 7,
     "metadata": {},
     "output_type": "execute_result"
    }
   ],
   "source": [
    "df.isnull().sum()"
   ]
  },
  {
   "cell_type": "markdown",
   "metadata": {},
   "source": [
    "909 NaN в столбце \" Tenure \""
   ]
  },
  {
   "cell_type": "code",
   "execution_count": 8,
   "metadata": {
    "scrolled": true
   },
   "outputs": [
    {
     "name": "stdout",
     "output_type": "stream",
     "text": [
      "<class 'pandas.core.frame.DataFrame'>\n",
      "Int64Index: 9091 entries, 0 to 9998\n",
      "Data columns (total 14 columns):\n",
      " #   Column           Non-Null Count  Dtype  \n",
      "---  ------           --------------  -----  \n",
      " 0   RowNumber        9091 non-null   int64  \n",
      " 1   CustomerId       9091 non-null   int64  \n",
      " 2   Surname          9091 non-null   object \n",
      " 3   CreditScore      9091 non-null   int64  \n",
      " 4   Geography        9091 non-null   object \n",
      " 5   Gender           9091 non-null   object \n",
      " 6   Age              9091 non-null   int64  \n",
      " 7   Tenure           9091 non-null   float64\n",
      " 8   Balance          9091 non-null   float64\n",
      " 9   NumOfProducts    9091 non-null   int64  \n",
      " 10  HasCrCard        9091 non-null   int64  \n",
      " 11  IsActiveMember   9091 non-null   int64  \n",
      " 12  EstimatedSalary  9091 non-null   float64\n",
      " 13  Exited           9091 non-null   int64  \n",
      "dtypes: float64(3), int64(8), object(3)\n",
      "memory usage: 1.0+ MB\n"
     ]
    }
   ],
   "source": [
    "df = df[df['Tenure'].notna()]\n",
    "df.info()"
   ]
  },
  {
   "cell_type": "markdown",
   "metadata": {},
   "source": [
    "Удалил строки со значением NaN"
   ]
  },
  {
   "cell_type": "code",
   "execution_count": 9,
   "metadata": {},
   "outputs": [],
   "source": [
    "df.rename(columns = \n",
    "          {'RowNumber' : 'row_number',\n",
    "          'CustomerId' : 'customer_id',\n",
    "          'Surname' : 'surname',\n",
    "          'CreditScore' : 'credit_score',\n",
    "          'Geography' : 'geography',\n",
    "          'Gender' : 'gender',\n",
    "          'Age' : 'age',\n",
    "          'Tenure' : 'tenure',\n",
    "          'Balance' : 'balance',\n",
    "          'NumOfProducts' : 'num_of_products',\n",
    "          'HasCrCard' : 'has_cr_card',\n",
    "          'IsActiveMember' : 'is_active_member',\n",
    "          'EstimatedSalary' : 'estimated_salary',\n",
    "          'Exited' : 'exited'},\n",
    "          inplace=True\n",
    "         )"
   ]
  },
  {
   "cell_type": "markdown",
   "metadata": {},
   "source": [
    "Переименовываем столбцы"
   ]
  },
  {
   "cell_type": "code",
   "execution_count": 10,
   "metadata": {
    "scrolled": true
   },
   "outputs": [
    {
     "data": {
      "text/html": [
       "<div>\n",
       "<style scoped>\n",
       "    .dataframe tbody tr th:only-of-type {\n",
       "        vertical-align: middle;\n",
       "    }\n",
       "\n",
       "    .dataframe tbody tr th {\n",
       "        vertical-align: top;\n",
       "    }\n",
       "\n",
       "    .dataframe thead th {\n",
       "        text-align: right;\n",
       "    }\n",
       "</style>\n",
       "<table border=\"1\" class=\"dataframe\">\n",
       "  <thead>\n",
       "    <tr style=\"text-align: right;\">\n",
       "      <th></th>\n",
       "      <th>surname</th>\n",
       "      <th>geography</th>\n",
       "      <th>gender</th>\n",
       "    </tr>\n",
       "  </thead>\n",
       "  <tbody>\n",
       "    <tr>\n",
       "      <th>0</th>\n",
       "      <td>Hargrave</td>\n",
       "      <td>France</td>\n",
       "      <td>Female</td>\n",
       "    </tr>\n",
       "    <tr>\n",
       "      <th>1</th>\n",
       "      <td>Hill</td>\n",
       "      <td>Spain</td>\n",
       "      <td>Female</td>\n",
       "    </tr>\n",
       "    <tr>\n",
       "      <th>2</th>\n",
       "      <td>Onio</td>\n",
       "      <td>France</td>\n",
       "      <td>Female</td>\n",
       "    </tr>\n",
       "  </tbody>\n",
       "</table>\n",
       "</div>"
      ],
      "text/plain": [
       "    surname geography  gender\n",
       "0  Hargrave    France  Female\n",
       "1      Hill     Spain  Female\n",
       "2      Onio    France  Female"
      ]
     },
     "execution_count": 10,
     "metadata": {},
     "output_type": "execute_result"
    }
   ],
   "source": [
    "df_copy = df.select_dtypes(include=['object']).copy()\n",
    "df_copy.head(3)"
   ]
  },
  {
   "cell_type": "markdown",
   "metadata": {},
   "source": [
    "Выбираем столбцы с типом данных object в отдельную переменную для обработки"
   ]
  },
  {
   "cell_type": "code",
   "execution_count": 11,
   "metadata": {
    "scrolled": true
   },
   "outputs": [
    {
     "data": {
      "text/plain": [
       "Male      4974\n",
       "Female    4117\n",
       "Name: gender, dtype: int64"
      ]
     },
     "execution_count": 11,
     "metadata": {},
     "output_type": "execute_result"
    }
   ],
   "source": [
    "df_copy['gender'].value_counts()"
   ]
  },
  {
   "cell_type": "markdown",
   "metadata": {},
   "source": [
    "Кол-во классов в столбце 'gender'"
   ]
  },
  {
   "cell_type": "code",
   "execution_count": 12,
   "metadata": {
    "scrolled": false
   },
   "outputs": [
    {
     "data": {
      "text/plain": [
       "France     4550\n",
       "Germany    2293\n",
       "Spain      2248\n",
       "Name: geography, dtype: int64"
      ]
     },
     "execution_count": 12,
     "metadata": {},
     "output_type": "execute_result"
    }
   ],
   "source": [
    "df_copy['geography'].value_counts()"
   ]
  },
  {
   "cell_type": "markdown",
   "metadata": {},
   "source": [
    "Кол-во классов в столбце 'geography'"
   ]
  },
  {
   "cell_type": "code",
   "execution_count": 13,
   "metadata": {},
   "outputs": [
    {
     "data": {
      "text/plain": [
       "2787"
      ]
     },
     "execution_count": 13,
     "metadata": {},
     "output_type": "execute_result"
    }
   ],
   "source": [
    "df_copy['surname'].nunique()"
   ]
  },
  {
   "cell_type": "markdown",
   "metadata": {},
   "source": [
    "Кол-во классов в столбце 'surname'"
   ]
  },
  {
   "cell_type": "code",
   "execution_count": 14,
   "metadata": {
    "scrolled": true
   },
   "outputs": [],
   "source": [
    "df_copy = pd.get_dummies(df_copy, columns = ['gender', 'geography'], drop_first=True)"
   ]
  },
  {
   "cell_type": "code",
   "execution_count": 15,
   "metadata": {
    "scrolled": false
   },
   "outputs": [
    {
     "data": {
      "text/html": [
       "<div>\n",
       "<style scoped>\n",
       "    .dataframe tbody tr th:only-of-type {\n",
       "        vertical-align: middle;\n",
       "    }\n",
       "\n",
       "    .dataframe tbody tr th {\n",
       "        vertical-align: top;\n",
       "    }\n",
       "\n",
       "    .dataframe thead th {\n",
       "        text-align: right;\n",
       "    }\n",
       "</style>\n",
       "<table border=\"1\" class=\"dataframe\">\n",
       "  <thead>\n",
       "    <tr style=\"text-align: right;\">\n",
       "      <th></th>\n",
       "      <th>surname</th>\n",
       "      <th>gender_Male</th>\n",
       "      <th>geography_Germany</th>\n",
       "      <th>geography_Spain</th>\n",
       "    </tr>\n",
       "  </thead>\n",
       "  <tbody>\n",
       "    <tr>\n",
       "      <th>0</th>\n",
       "      <td>Hargrave</td>\n",
       "      <td>0</td>\n",
       "      <td>0</td>\n",
       "      <td>0</td>\n",
       "    </tr>\n",
       "    <tr>\n",
       "      <th>1</th>\n",
       "      <td>Hill</td>\n",
       "      <td>0</td>\n",
       "      <td>0</td>\n",
       "      <td>1</td>\n",
       "    </tr>\n",
       "    <tr>\n",
       "      <th>2</th>\n",
       "      <td>Onio</td>\n",
       "      <td>0</td>\n",
       "      <td>0</td>\n",
       "      <td>0</td>\n",
       "    </tr>\n",
       "    <tr>\n",
       "      <th>3</th>\n",
       "      <td>Boni</td>\n",
       "      <td>0</td>\n",
       "      <td>0</td>\n",
       "      <td>0</td>\n",
       "    </tr>\n",
       "    <tr>\n",
       "      <th>4</th>\n",
       "      <td>Mitchell</td>\n",
       "      <td>0</td>\n",
       "      <td>0</td>\n",
       "      <td>1</td>\n",
       "    </tr>\n",
       "  </tbody>\n",
       "</table>\n",
       "</div>"
      ],
      "text/plain": [
       "    surname  gender_Male  geography_Germany  geography_Spain\n",
       "0  Hargrave            0                  0                0\n",
       "1      Hill            0                  0                1\n",
       "2      Onio            0                  0                0\n",
       "3      Boni            0                  0                0\n",
       "4  Mitchell            0                  0                1"
      ]
     },
     "execution_count": 15,
     "metadata": {},
     "output_type": "execute_result"
    }
   ],
   "source": [
    "df_copy.head()"
   ]
  },
  {
   "cell_type": "markdown",
   "metadata": {},
   "source": [
    "Применяем прямое кодирование и удаляем некоторые столбцы, для избежания \"дамми-ловушки\"."
   ]
  },
  {
   "cell_type": "code",
   "execution_count": 16,
   "metadata": {},
   "outputs": [],
   "source": [
    "df_copy.columns = map(str.lower, df_copy.columns)"
   ]
  },
  {
   "cell_type": "markdown",
   "metadata": {},
   "source": [
    "При помощи pd.get_dummies кодировал признаки. Далее привел названия столбцов к нижнему регистру"
   ]
  },
  {
   "cell_type": "code",
   "execution_count": 17,
   "metadata": {},
   "outputs": [],
   "source": [
    "df_copy_join = df.join(df_copy, lsuffix = 'surname')"
   ]
  },
  {
   "cell_type": "markdown",
   "metadata": {},
   "source": [
    "Объеденил два df с помощью join по \" lsuffix = 'surname' \""
   ]
  },
  {
   "cell_type": "code",
   "execution_count": 18,
   "metadata": {},
   "outputs": [
    {
     "data": {
      "text/html": [
       "<div>\n",
       "<style scoped>\n",
       "    .dataframe tbody tr th:only-of-type {\n",
       "        vertical-align: middle;\n",
       "    }\n",
       "\n",
       "    .dataframe tbody tr th {\n",
       "        vertical-align: top;\n",
       "    }\n",
       "\n",
       "    .dataframe thead th {\n",
       "        text-align: right;\n",
       "    }\n",
       "</style>\n",
       "<table border=\"1\" class=\"dataframe\">\n",
       "  <thead>\n",
       "    <tr style=\"text-align: right;\">\n",
       "      <th></th>\n",
       "      <th>credit_score</th>\n",
       "      <th>age</th>\n",
       "      <th>tenure</th>\n",
       "      <th>balance</th>\n",
       "      <th>num_of_products</th>\n",
       "      <th>has_cr_card</th>\n",
       "      <th>is_active_member</th>\n",
       "      <th>estimated_salary</th>\n",
       "      <th>exited</th>\n",
       "      <th>gender_male</th>\n",
       "      <th>geography_germany</th>\n",
       "      <th>geography_spain</th>\n",
       "    </tr>\n",
       "  </thead>\n",
       "  <tbody>\n",
       "    <tr>\n",
       "      <th>0</th>\n",
       "      <td>619</td>\n",
       "      <td>42</td>\n",
       "      <td>2.0</td>\n",
       "      <td>0.00</td>\n",
       "      <td>1</td>\n",
       "      <td>1</td>\n",
       "      <td>1</td>\n",
       "      <td>101348.88</td>\n",
       "      <td>1</td>\n",
       "      <td>0</td>\n",
       "      <td>0</td>\n",
       "      <td>0</td>\n",
       "    </tr>\n",
       "    <tr>\n",
       "      <th>1</th>\n",
       "      <td>608</td>\n",
       "      <td>41</td>\n",
       "      <td>1.0</td>\n",
       "      <td>83807.86</td>\n",
       "      <td>1</td>\n",
       "      <td>0</td>\n",
       "      <td>1</td>\n",
       "      <td>112542.58</td>\n",
       "      <td>0</td>\n",
       "      <td>0</td>\n",
       "      <td>0</td>\n",
       "      <td>1</td>\n",
       "    </tr>\n",
       "  </tbody>\n",
       "</table>\n",
       "</div>"
      ],
      "text/plain": [
       "   credit_score  age  tenure   balance  num_of_products  has_cr_card  \\\n",
       "0           619   42     2.0      0.00                1            1   \n",
       "1           608   41     1.0  83807.86                1            0   \n",
       "\n",
       "   is_active_member  estimated_salary  exited  gender_male  geography_germany  \\\n",
       "0                 1         101348.88       1            0                  0   \n",
       "1                 1         112542.58       0            0                  0   \n",
       "\n",
       "   geography_spain  \n",
       "0                0  \n",
       "1                1  "
      ]
     },
     "execution_count": 18,
     "metadata": {},
     "output_type": "execute_result"
    }
   ],
   "source": [
    "df_copy_join = df_copy_join.drop(['surname', 'surnamesurname', 'geography', 'gender', 'row_number', 'customer_id'], axis = 1)\n",
    "df_copy_join.head(2)"
   ]
  },
  {
   "cell_type": "markdown",
   "metadata": {},
   "source": [
    "Удалил не нужные столбцы, чтобы модель их не запомнила."
   ]
  },
  {
   "cell_type": "code",
   "execution_count": 19,
   "metadata": {
    "scrolled": true
   },
   "outputs": [
    {
     "name": "stdout",
     "output_type": "stream",
     "text": [
      "<class 'pandas.core.frame.DataFrame'>\n",
      "Int64Index: 9091 entries, 0 to 9998\n",
      "Data columns (total 12 columns):\n",
      " #   Column             Non-Null Count  Dtype  \n",
      "---  ------             --------------  -----  \n",
      " 0   credit_score       9091 non-null   int64  \n",
      " 1   age                9091 non-null   int64  \n",
      " 2   tenure             9091 non-null   float64\n",
      " 3   balance            9091 non-null   float64\n",
      " 4   num_of_products    9091 non-null   int64  \n",
      " 5   has_cr_card        9091 non-null   int64  \n",
      " 6   is_active_member   9091 non-null   int64  \n",
      " 7   estimated_salary   9091 non-null   float64\n",
      " 8   exited             9091 non-null   int64  \n",
      " 9   gender_male        9091 non-null   uint8  \n",
      " 10  geography_germany  9091 non-null   uint8  \n",
      " 11  geography_spain    9091 non-null   uint8  \n",
      "dtypes: float64(3), int64(6), uint8(3)\n",
      "memory usage: 994.9 KB\n"
     ]
    }
   ],
   "source": [
    "df_copy_join.info()"
   ]
  },
  {
   "cell_type": "markdown",
   "metadata": {},
   "source": [
    "**Вывод**\n",
    "\n",
    "Ознакомился с данными, сделал предобработку, кодировал категориальные признаки, объеденил df."
   ]
  },
  {
   "cell_type": "markdown",
   "metadata": {},
   "source": [
    "## Исследование задачи"
   ]
  },
  {
   "cell_type": "code",
   "execution_count": 20,
   "metadata": {
    "scrolled": true
   },
   "outputs": [
    {
     "data": {
      "text/plain": [
       "0    7237\n",
       "1    1854\n",
       "Name: exited, dtype: int64"
      ]
     },
     "execution_count": 20,
     "metadata": {},
     "output_type": "execute_result"
    }
   ],
   "source": [
    "df_copy_join['exited'].value_counts()"
   ]
  },
  {
   "cell_type": "markdown",
   "metadata": {},
   "source": [
    "Соотношение классов не кретичное."
   ]
  },
  {
   "cell_type": "code",
   "execution_count": 21,
   "metadata": {},
   "outputs": [
    {
     "name": "stdout",
     "output_type": "stream",
     "text": [
      "<class 'pandas.core.frame.DataFrame'>\n",
      "Int64Index: 9091 entries, 0 to 9998\n",
      "Data columns (total 12 columns):\n",
      " #   Column             Non-Null Count  Dtype  \n",
      "---  ------             --------------  -----  \n",
      " 0   credit_score       9091 non-null   int64  \n",
      " 1   age                9091 non-null   int64  \n",
      " 2   tenure             9091 non-null   float64\n",
      " 3   balance            9091 non-null   float64\n",
      " 4   num_of_products    9091 non-null   int64  \n",
      " 5   has_cr_card        9091 non-null   int64  \n",
      " 6   is_active_member   9091 non-null   int64  \n",
      " 7   estimated_salary   9091 non-null   float64\n",
      " 8   exited             9091 non-null   int64  \n",
      " 9   gender_male        9091 non-null   uint8  \n",
      " 10  geography_germany  9091 non-null   uint8  \n",
      " 11  geography_spain    9091 non-null   uint8  \n",
      "dtypes: float64(3), int64(6), uint8(3)\n",
      "memory usage: 994.9 KB\n"
     ]
    }
   ],
   "source": [
    "df_copy_join.info()"
   ]
  },
  {
   "cell_type": "code",
   "execution_count": 22,
   "metadata": {},
   "outputs": [],
   "source": [
    "train, validate, test = np.split(df_copy_join.sample(frac=1, random_state=69), [int(.6*len(df_copy_join)), int(.8*len(df_copy_join))])"
   ]
  },
  {
   "cell_type": "markdown",
   "metadata": {},
   "source": [
    "Разбил df на отдельные df 60 / 20 / 20 на Валидационную, Тестовую и Обучающую выборку. .sample(frac=1) указал, чтобы примерно одинаковое кол-во 0 и 1 попало в df."
   ]
  },
  {
   "cell_type": "code",
   "execution_count": 23,
   "metadata": {},
   "outputs": [],
   "source": [
    "features_train = train.drop(['exited'], axis=1)\n",
    "target_train = train.exited\n",
    "\n",
    "features_validate = validate.drop(['exited'], axis=1)\n",
    "target_validate = validate.exited\n",
    "\n",
    "features_test = test.drop(['exited'], axis=1)\n",
    "target_test = test.exited"
   ]
  },
  {
   "cell_type": "code",
   "execution_count": 24,
   "metadata": {},
   "outputs": [
    {
     "data": {
      "text/plain": [
       "LogisticRegression(C=0.1, random_state=69, solver='liblinear')"
      ]
     },
     "execution_count": 24,
     "metadata": {},
     "output_type": "execute_result"
    }
   ],
   "source": [
    "best_model = None\n",
    "best_result = 0\n",
    "best_c = 0\n",
    "for c in np.arange(0.1, 10, 0.1):\n",
    "    model = LogisticRegression(random_state=69, solver='liblinear', C=c)          \n",
    "    model.fit(features_train, target_train)\n",
    "    predicted_valid = model.predict(features_validate) \n",
    "    result = f1_score(target_validate, predicted_valid)\n",
    "    \n",
    "    if result > best_result:\n",
    "        best_model = model\n",
    "        best_result = result\n",
    "        best_c = c\n",
    "\n",
    "best_model"
   ]
  },
  {
   "cell_type": "markdown",
   "metadata": {},
   "source": [
    "Лучший результат на C = 0.1"
   ]
  },
  {
   "cell_type": "code",
   "execution_count": 25,
   "metadata": {},
   "outputs": [
    {
     "data": {
      "text/plain": [
       "0.6643154051938003"
      ]
     },
     "execution_count": 25,
     "metadata": {},
     "output_type": "execute_result"
    }
   ],
   "source": [
    "roc_auc_score(target_validate, best_model.predict_proba(features_validate)[:, 1])"
   ]
  },
  {
   "cell_type": "code",
   "execution_count": 26,
   "metadata": {},
   "outputs": [
    {
     "data": {
      "text/plain": [
       "0.02557544757033248"
      ]
     },
     "execution_count": 26,
     "metadata": {},
     "output_type": "execute_result"
    }
   ],
   "source": [
    "f1_score(target_validate, best_model.predict(features_validate))"
   ]
  },
  {
   "cell_type": "markdown",
   "metadata": {},
   "source": [
    "По результатам в Логистической регрессии AUC-ROC = 0.66 и F-1  = 0.025. "
   ]
  },
  {
   "cell_type": "code",
   "execution_count": 27,
   "metadata": {
    "scrolled": true
   },
   "outputs": [
    {
     "name": "stdout",
     "output_type": "stream",
     "text": [
      "Наилучшая модель на валидационной выборке: RandomForestClassifier(max_depth=12, n_estimators=50, random_state=69) Количество деревьев: 50 Максимальная глубина: 12\n"
     ]
    }
   ],
   "source": [
    "best_model = None\n",
    "best_result = 0.1\n",
    "best_est = 0\n",
    "best_depth = 0\n",
    "for est in range(10, 71, 10):\n",
    "    for depth in range (1, 71):\n",
    "        model = RandomForestClassifier(random_state=69, n_estimators=est,  max_depth=depth)\n",
    "        model.fit(features_train, target_train)\n",
    "        predicted_valid = model.predict(features_validate)\n",
    "        result = f1_score(target_validate, predicted_valid)\n",
    "        \n",
    "        if result > best_result:\n",
    "            best_model = model\n",
    "            best_result = result\n",
    "            best_est = est\n",
    "            best_depth = depth\n",
    "\n",
    "print(\"Наилучшая модель на валидационной выборке:\", best_model, \n",
    "      \"Количество деревьев:\", best_est, \n",
    "      \"Максимальная глубина:\", best_depth)\n"
   ]
  },
  {
   "cell_type": "code",
   "execution_count": 28,
   "metadata": {},
   "outputs": [
    {
     "data": {
      "text/plain": [
       "0.5921052631578947"
      ]
     },
     "execution_count": 28,
     "metadata": {},
     "output_type": "execute_result"
    }
   ],
   "source": [
    "f1_score(target_validate, best_model.predict(features_validate))"
   ]
  },
  {
   "cell_type": "code",
   "execution_count": 29,
   "metadata": {},
   "outputs": [
    {
     "data": {
      "text/plain": [
       "0.8516504975420852"
      ]
     },
     "execution_count": 29,
     "metadata": {},
     "output_type": "execute_result"
    }
   ],
   "source": [
    "roc_auc_score(target_validate, best_model.predict_proba(features_validate)[:, 1])"
   ]
  },
  {
   "cell_type": "markdown",
   "metadata": {
    "scrolled": true
   },
   "source": [
    "По результатам в Лесе AUC-ROC = 0.85 показывает выше результат, чем F-1 = 0.59 мера."
   ]
  },
  {
   "cell_type": "markdown",
   "metadata": {},
   "source": [
    "**Вывод**\n",
    "\n",
    "Ознакомился с дисбалансом классов, он отличается, но не критично. Перебрал гиперпараметры Логистической регресии и Леса. Так же посмотрел AUC-ROC и F-1 на Логистической регресии и Лесе."
   ]
  },
  {
   "cell_type": "markdown",
   "metadata": {},
   "source": [
    "## Борьба с дисбалансом"
   ]
  },
  {
   "cell_type": "markdown",
   "metadata": {},
   "source": [
    "### Увеличение выборки применив параметр class_weight = 'balanced'"
   ]
  },
  {
   "cell_type": "markdown",
   "metadata": {},
   "source": [
    "#### Применение параметра class_weight = 'balanced' на LogisticRegression"
   ]
  },
  {
   "cell_type": "code",
   "execution_count": 30,
   "metadata": {
    "scrolled": true
   },
   "outputs": [
    {
     "data": {
      "text/plain": [
       "9.0"
      ]
     },
     "execution_count": 30,
     "metadata": {},
     "output_type": "execute_result"
    }
   ],
   "source": [
    "best_model = None\n",
    "best_result = 0\n",
    "best_c = 0\n",
    "for c in np.arange(0.1, 10, 0.1):\n",
    "    model = LogisticRegression(random_state=69, solver='liblinear', C=c, class_weight = 'balanced')          \n",
    "    model.fit(features_train, target_train)\n",
    "    predicted_valid = model.predict(features_validate) \n",
    "    result = f1_score(target_validate, predicted_valid)\n",
    "    \n",
    "    if result > best_result:\n",
    "        best_model = model\n",
    "        best_result = result\n",
    "        best_c = c\n",
    "\n",
    "best_c"
   ]
  },
  {
   "cell_type": "markdown",
   "metadata": {},
   "source": [
    "Лучший результат на C = 9.0"
   ]
  },
  {
   "cell_type": "code",
   "execution_count": 31,
   "metadata": {
    "scrolled": true
   },
   "outputs": [
    {
     "data": {
      "text/plain": [
       "0.7612018020429754"
      ]
     },
     "execution_count": 31,
     "metadata": {},
     "output_type": "execute_result"
    }
   ],
   "source": [
    "roc_auc_score(target_validate, best_model.predict_proba(features_validate)[:, 1])"
   ]
  },
  {
   "cell_type": "code",
   "execution_count": 32,
   "metadata": {},
   "outputs": [
    {
     "data": {
      "text/plain": [
       "0.484736355226642"
      ]
     },
     "execution_count": 32,
     "metadata": {},
     "output_type": "execute_result"
    }
   ],
   "source": [
    "f1_score(target_validate, best_model.predict(features_validate))"
   ]
  },
  {
   "cell_type": "markdown",
   "metadata": {},
   "source": [
    "При установки параметра \" class_weight = 'balanced' \", результат F-1 и AUC-ROC явно вырасли"
   ]
  },
  {
   "cell_type": "markdown",
   "metadata": {},
   "source": [
    "#### Применение параметра class_weight = 'balanced' на RandomForestClassifier"
   ]
  },
  {
   "cell_type": "code",
   "execution_count": 33,
   "metadata": {},
   "outputs": [
    {
     "name": "stdout",
     "output_type": "stream",
     "text": [
      "Наилучшая модель на валидационной выборке: RandomForestClassifier(class_weight='balanced', max_depth=10, n_estimators=70,\n",
      "                       random_state=69) Количество деревьев: 70 Максимальная глубина: 10\n"
     ]
    }
   ],
   "source": [
    "best_model = None\n",
    "best_result = 0\n",
    "best_est = 0\n",
    "best_depth = 0\n",
    "for est in range(10, 71, 10):\n",
    "    for depth in range (1, 71):\n",
    "        model = RandomForestClassifier(random_state=69, n_estimators=est,  max_depth=depth, class_weight = 'balanced')\n",
    "        model.fit(features_train, target_train)\n",
    "        predicted_valid = model.predict(features_validate)\n",
    "        result = f1_score(target_validate, predicted_valid)\n",
    "        \n",
    "        if result > best_result:\n",
    "            best_model = model\n",
    "            best_result = result\n",
    "            best_est = est\n",
    "            best_depth = depth\n",
    "\n",
    "print(\"Наилучшая модель на валидационной выборке:\", best_model, \n",
    "      \"Количество деревьев:\", best_est, \n",
    "      \"Максимальная глубина:\", best_depth)\n"
   ]
  },
  {
   "cell_type": "code",
   "execution_count": 34,
   "metadata": {},
   "outputs": [
    {
     "data": {
      "text/plain": [
       "0.6178010471204188"
      ]
     },
     "execution_count": 34,
     "metadata": {},
     "output_type": "execute_result"
    }
   ],
   "source": [
    "f1_score(target_validate, best_model.predict(features_validate))"
   ]
  },
  {
   "cell_type": "code",
   "execution_count": 35,
   "metadata": {},
   "outputs": [
    {
     "data": {
      "text/plain": [
       "0.849298013682178"
      ]
     },
     "execution_count": 35,
     "metadata": {},
     "output_type": "execute_result"
    }
   ],
   "source": [
    "roc_auc_score(target_validate, best_model.predict_proba(features_validate)[:, 1])\n"
   ]
  },
  {
   "cell_type": "markdown",
   "metadata": {},
   "source": [
    "При установки параметра \" class_weight = 'balanced' \", результат F-1 и AUC-ROC остались как и без параметра \" class_weight='balanced' \", изменения не значительны"
   ]
  },
  {
   "cell_type": "markdown",
   "metadata": {},
   "source": [
    "<a class=\"anchor\" id=\"21-bullet\">"
   ]
  },
  {
   "cell_type": "markdown",
   "metadata": {},
   "source": [
    "### Увеличение выборки методом upsampling"
   ]
  },
  {
   "cell_type": "code",
   "execution_count": 36,
   "metadata": {
    "scrolled": true
   },
   "outputs": [
    {
     "data": {
      "text/plain": [
       "0    7237\n",
       "1    1854\n",
       "Name: exited, dtype: int64"
      ]
     },
     "execution_count": 36,
     "metadata": {},
     "output_type": "execute_result"
    }
   ],
   "source": [
    "df_copy_join.exited.value_counts()"
   ]
  },
  {
   "cell_type": "code",
   "execution_count": 37,
   "metadata": {},
   "outputs": [
    {
     "data": {
      "image/png": "[encoded data removed]",
      "text/plain": [
       "<Figure size 432x432 with 1 Axes>"
      ]
     },
     "metadata": {},
     "output_type": "display_data"
    }
   ],
   "source": [
    "df_copy_join.groupby('exited').size().plot(kind='pie',\n",
    "                                       title = \"Распределение 0 и 1\",\n",
    "                                       label = \"Распределение 0 и 1\",\n",
    "                                       autopct='%1.1f%%',\n",
    "                                       figsize=(6, 6),\n",
    "                                       legend='exited');"
   ]
  },
  {
   "cell_type": "code",
   "execution_count": 38,
   "metadata": {},
   "outputs": [],
   "source": [
    "train_n, validate_e, test_t = np.split(df_copy_join.sample(frac=1, random_state=69), [int(.6*len(df_copy_join)), int(.8*len(df_copy_join))])"
   ]
  },
  {
   "cell_type": "code",
   "execution_count": 39,
   "metadata": {},
   "outputs": [
    {
     "data": {
      "text/plain": [
       "4"
      ]
     },
     "execution_count": 39,
     "metadata": {},
     "output_type": "execute_result"
    }
   ],
   "source": [
    "rat = len(train_n.loc[train_n['exited']==0])/len(train_n.loc[train_n['exited']==1])# отношение количества строк с 0 к 1 exited\n",
    "rat = math.ceil(rat)  \n",
    "rat"
   ]
  },
  {
   "cell_type": "markdown",
   "metadata": {},
   "source": [
    "Соотношение классов 0 и 1"
   ]
  },
  {
   "cell_type": "code",
   "execution_count": 40,
   "metadata": {},
   "outputs": [],
   "source": [
    "df_1 = train_n.loc[train_n['exited']==1]\n",
    "df_1 = df_1.loc[df_1.index.repeat(rat)]\n",
    "train_n_upsampling = pd.concat([train_n.loc[train_n['exited']==0], df_1]).sample(frac=1)"
   ]
  },
  {
   "cell_type": "markdown",
   "metadata": {},
   "source": [
    "Берем все данные с классом 1, продублируем его rat раз, присоединим к данным класса 0 продублированный класс 1 и перемещаем"
   ]
  },
  {
   "cell_type": "code",
   "execution_count": 41,
   "metadata": {
    "scrolled": true
   },
   "outputs": [
    {
     "data": {
      "text/plain": [
       "1    4524\n",
       "0    4323\n",
       "Name: exited, dtype: int64"
      ]
     },
     "execution_count": 41,
     "metadata": {},
     "output_type": "execute_result"
    }
   ],
   "source": [
    "train_n_upsampling.exited.value_counts()"
   ]
  },
  {
   "cell_type": "code",
   "execution_count": 42,
   "metadata": {},
   "outputs": [],
   "source": [
    "train_n_upsampling = shuffle(train_n_upsampling, random_state= 69)"
   ]
  },
  {
   "cell_type": "markdown",
   "metadata": {},
   "source": [
    "Перемешиваем строки"
   ]
  },
  {
   "cell_type": "code",
   "execution_count": 43,
   "metadata": {},
   "outputs": [],
   "source": [
    "features_train_upsampling = train_n_upsampling.drop(['exited'], axis=1)\n",
    "target_train_upsampling = train_n_upsampling.exited\n",
    "\n",
    "features_validate_upsampling = validate_e.drop(['exited'], axis=1)\n",
    "target_validate_upsampling = validate_e.exited\n",
    "\n",
    "features_test_upsampling = test_t.drop(['exited'], axis=1)\n",
    "target_test_upsampling = test_t.exited"
   ]
  },
  {
   "cell_type": "markdown",
   "metadata": {},
   "source": [
    "#### Применение метода upsampling на LogisticRegression"
   ]
  },
  {
   "cell_type": "code",
   "execution_count": 44,
   "metadata": {},
   "outputs": [
    {
     "data": {
      "text/plain": [
       "0.2"
      ]
     },
     "execution_count": 44,
     "metadata": {},
     "output_type": "execute_result"
    }
   ],
   "source": [
    "best_model = None\n",
    "best_result = 0\n",
    "best_c = 0\n",
    "for c in np.arange(0.1, 10, 0.1):\n",
    "    model = LogisticRegression(random_state=69, solver='liblinear', C=c)          \n",
    "    model.fit(features_train_upsampling, target_train_upsampling)\n",
    "    predicted_valid_d = model.predict(features_validate_upsampling) \n",
    "    result = f1_score(target_validate_upsampling, predicted_valid_d)\n",
    "    \n",
    "    if result > best_result:\n",
    "        best_model = model\n",
    "        best_result = result\n",
    "        best_c = c\n",
    "\n",
    "best_c"
   ]
  },
  {
   "cell_type": "markdown",
   "metadata": {},
   "source": [
    "Лучший результат на C = 0.3"
   ]
  },
  {
   "cell_type": "code",
   "execution_count": 45,
   "metadata": {
    "scrolled": false
   },
   "outputs": [
    {
     "data": {
      "text/plain": [
       "0.7189872767844865"
      ]
     },
     "execution_count": 45,
     "metadata": {},
     "output_type": "execute_result"
    }
   ],
   "source": [
    "roc_auc_score(target_validate_upsampling, best_model.predict_proba(features_validate_upsampling)[:, 1])"
   ]
  },
  {
   "cell_type": "code",
   "execution_count": 46,
   "metadata": {},
   "outputs": [
    {
     "data": {
      "text/plain": [
       "0.4512298558100086"
      ]
     },
     "execution_count": 46,
     "metadata": {},
     "output_type": "execute_result"
    }
   ],
   "source": [
    "f1_score(target_validate_upsampling, best_model.predict(features_validate_upsampling))"
   ]
  },
  {
   "cell_type": "markdown",
   "metadata": {},
   "source": [
    "При сбалансировании классов методом \"upsampling\", результат F-1 и AUC-ROC в LogisticRegression явно подрасли"
   ]
  },
  {
   "cell_type": "markdown",
   "metadata": {},
   "source": [
    "#### Применение метода upsampling на RandomForestClassifier"
   ]
  },
  {
   "cell_type": "code",
   "execution_count": 47,
   "metadata": {},
   "outputs": [
    {
     "name": "stdout",
     "output_type": "stream",
     "text": [
      "Наилучшая модель на валидационной выборке: RandomForestClassifier(max_depth=11, n_estimators=60, random_state=69) Количество деревьев: 60 Максимальная глубина: 11\n"
     ]
    }
   ],
   "source": [
    "best_model = None\n",
    "best_result = 0\n",
    "best_est = 0\n",
    "best_depth = 0\n",
    "for est in range(10, 71, 10):\n",
    "    for depth in range (1, 71):\n",
    "        model = RandomForestClassifier(random_state=69, n_estimators=est,  max_depth=depth)\n",
    "        model.fit(features_train_upsampling, target_train_upsampling)\n",
    "        predicted_valid_d = model.predict(features_validate_upsampling)\n",
    "        result = f1_score(target_validate_upsampling, predicted_valid_d)\n",
    "        \n",
    "        if result > best_result:\n",
    "            best_model = model\n",
    "            best_result = result\n",
    "            best_est = est\n",
    "            best_depth = depth\n",
    "\n",
    "print(\"Наилучшая модель на валидационной выборке:\", best_model, \n",
    "      \"Количество деревьев:\", best_est, \n",
    "      \"Максимальная глубина:\", best_depth)\n"
   ]
  },
  {
   "cell_type": "code",
   "execution_count": 48,
   "metadata": {},
   "outputs": [
    {
     "data": {
      "text/plain": [
       "0.6133333333333333"
      ]
     },
     "execution_count": 48,
     "metadata": {},
     "output_type": "execute_result"
    }
   ],
   "source": [
    "f1_score(target_validate_upsampling, best_model.predict(features_validate_upsampling))"
   ]
  },
  {
   "cell_type": "code",
   "execution_count": 50,
   "metadata": {
    "scrolled": true
   },
   "outputs": [
    {
     "data": {
      "text/plain": [
       "0.845687693557348"
      ]
     },
     "execution_count": 50,
     "metadata": {},
     "output_type": "execute_result"
    }
   ],
   "source": [
    "roc_auc_score(target_validate_upsampling, best_model.predict_proba(features_validate_upsampling)[:, 1])"
   ]
  },
  {
   "cell_type": "markdown",
   "metadata": {},
   "source": [
    "### Уменьшение выборки методом downsampling из библиотеки sklearn.utils"
   ]
  },
  {
   "cell_type": "code",
   "execution_count": 51,
   "metadata": {
    "scrolled": true
   },
   "outputs": [
    {
     "data": {
      "text/plain": [
       "0    7237\n",
       "1    1854\n",
       "Name: exited, dtype: int64"
      ]
     },
     "execution_count": 51,
     "metadata": {},
     "output_type": "execute_result"
    }
   ],
   "source": [
    "df_copy_join.exited.value_counts()"
   ]
  },
  {
   "cell_type": "code",
   "execution_count": 52,
   "metadata": {},
   "outputs": [],
   "source": [
    "train_downsampl, validate_downsampl, test_downsampl = np.split(df_copy_join.sample(frac=1, random_state=69), [int(.6*len(df_copy_join)), int(.8*len(df_copy_join))])"
   ]
  },
  {
   "cell_type": "markdown",
   "metadata": {},
   "source": [
    "Разбиваем df в соотношении 60 / 20 / 20"
   ]
  },
  {
   "cell_type": "code",
   "execution_count": 53,
   "metadata": {},
   "outputs": [
    {
     "data": {
      "text/plain": [
       "(4323, 12)"
      ]
     },
     "execution_count": 53,
     "metadata": {},
     "output_type": "execute_result"
    }
   ],
   "source": [
    "exited_1 = train_downsampl[train_downsampl[\"exited\"] == 1]\n",
    "exited_0 = train_downsampl[train_downsampl[\"exited\"] == 0]\n",
    "exited_0.shape"
   ]
  },
  {
   "cell_type": "markdown",
   "metadata": {},
   "source": [
    "Выбираем строки с 0 и 1 и записываем в соответствующие переменные"
   ]
  },
  {
   "cell_type": "code",
   "execution_count": 54,
   "metadata": {},
   "outputs": [
    {
     "data": {
      "text/plain": [
       "(1131, 12)"
      ]
     },
     "execution_count": 54,
     "metadata": {},
     "output_type": "execute_result"
    }
   ],
   "source": [
    "exited_1.shape"
   ]
  },
  {
   "cell_type": "code",
   "execution_count": 55,
   "metadata": {},
   "outputs": [
    {
     "data": {
      "text/plain": [
       "(1131, 12)"
      ]
     },
     "execution_count": 55,
     "metadata": {},
     "output_type": "execute_result"
    }
   ],
   "source": [
    "train_downsample = resample(exited_0,\n",
    "             replace=True,\n",
    "             n_samples=len(exited_1),\n",
    "             random_state=69)\n",
    "\n",
    "train_downsample.shape"
   ]
  },
  {
   "cell_type": "markdown",
   "metadata": {},
   "source": [
    "Понижаем больший класс до кол-ва меньшего класса"
   ]
  },
  {
   "cell_type": "code",
   "execution_count": 56,
   "metadata": {},
   "outputs": [
    {
     "data": {
      "text/plain": [
       "0    1131\n",
       "1    1131\n",
       "Name: exited, dtype: int64"
      ]
     },
     "execution_count": 56,
     "metadata": {},
     "output_type": "execute_result"
    }
   ],
   "source": [
    "train_downsample = pd.concat([train_downsample, exited_1])\n",
    "\n",
    "train_downsample[\"exited\"].value_counts()"
   ]
  },
  {
   "cell_type": "markdown",
   "metadata": {},
   "source": [
    "Объединяем 2 df с помощью concat"
   ]
  },
  {
   "cell_type": "code",
   "execution_count": 57,
   "metadata": {},
   "outputs": [],
   "source": [
    "train_downsample = shuffle(train_downsample, random_state= 69)"
   ]
  },
  {
   "cell_type": "markdown",
   "metadata": {},
   "source": [
    "Перемешиваем df"
   ]
  },
  {
   "cell_type": "code",
   "execution_count": 58,
   "metadata": {},
   "outputs": [],
   "source": [
    "features_train_downsamp = train_downsample.drop(['exited'], axis=1)\n",
    "target_train_downsamp = train_downsample.exited\n",
    "\n",
    "features_validate_downsamp = validate_downsampl.drop(['exited'], axis=1)\n",
    "target_validate_downsamp = validate_downsampl.exited\n",
    "\n",
    "features_test_downsamp = test_downsampl.drop(['exited'], axis=1)\n",
    "target_test_downsamp = test_downsampl.exited"
   ]
  },
  {
   "cell_type": "markdown",
   "metadata": {},
   "source": [
    "#### Применение метода downsampling на LogisticRegression"
   ]
  },
  {
   "cell_type": "code",
   "execution_count": 59,
   "metadata": {},
   "outputs": [
    {
     "data": {
      "text/plain": [
       "0.7000000000000001"
      ]
     },
     "execution_count": 59,
     "metadata": {},
     "output_type": "execute_result"
    }
   ],
   "source": [
    "best_model = None\n",
    "best_result = 0\n",
    "best_c = 0\n",
    "for c in np.arange(0.1, 10, 0.1):\n",
    "    model = LogisticRegression(random_state=69, solver='liblinear', C=c)          \n",
    "    model.fit(features_train_downsamp, target_train_downsamp)\n",
    "    predicted_valid_downsamp = model.predict(features_validate_downsamp) \n",
    "    result = f1_score(target_validate_downsamp, predicted_valid_downsamp)\n",
    "    \n",
    "    if result > best_result:\n",
    "        best_model = model\n",
    "        best_result = result\n",
    "        best_c = c\n",
    "\n",
    "best_c"
   ]
  },
  {
   "cell_type": "code",
   "execution_count": 60,
   "metadata": {},
   "outputs": [
    {
     "data": {
      "text/plain": [
       "0.7407262079170341"
      ]
     },
     "execution_count": 60,
     "metadata": {},
     "output_type": "execute_result"
    }
   ],
   "source": [
    "roc_auc_score(target_validate_downsamp, best_model.predict_proba(features_validate_downsamp)[:, 1])"
   ]
  },
  {
   "cell_type": "code",
   "execution_count": 61,
   "metadata": {},
   "outputs": [
    {
     "data": {
      "text/plain": [
       "0.472196900638104"
      ]
     },
     "execution_count": 61,
     "metadata": {},
     "output_type": "execute_result"
    }
   ],
   "source": [
    "f1_score(target_validate_downsamp, best_model.predict(features_validate_downsamp))"
   ]
  },
  {
   "cell_type": "markdown",
   "metadata": {},
   "source": [
    "#### Применение метода downsamp на RandomForestClassifier"
   ]
  },
  {
   "cell_type": "code",
   "execution_count": 62,
   "metadata": {},
   "outputs": [
    {
     "name": "stdout",
     "output_type": "stream",
     "text": [
      "Наилучшая модель на валидационной выборке: RandomForestClassifier(max_depth=6, n_estimators=60, random_state=69) Количество деревьев: 60 Максимальная глубина: 6\n"
     ]
    }
   ],
   "source": [
    "best_model = None\n",
    "best_result = 0\n",
    "best_est = 0\n",
    "best_depth = 0\n",
    "for est in range(10, 71, 10):\n",
    "    for depth in range (1, 71):\n",
    "        model = RandomForestClassifier(random_state=69, n_estimators=est,  max_depth=depth)\n",
    "        model.fit(features_train_downsamp, target_train_downsamp)\n",
    "        predicted_valid_downsamp = model.predict(features_validate_downsamp)\n",
    "        result = f1_score(target_validate_downsamp, predicted_valid_downsamp)\n",
    "        \n",
    "        if result > best_result:\n",
    "            best_model = model\n",
    "            best_result = result\n",
    "            best_est = est\n",
    "            best_depth = depth\n",
    "\n",
    "print(\"Наилучшая модель на валидационной выборке:\", best_model, \n",
    "      \"Количество деревьев:\", best_est, \n",
    "      \"Максимальная глубина:\", best_depth)\n"
   ]
  },
  {
   "cell_type": "code",
   "execution_count": 63,
   "metadata": {},
   "outputs": [
    {
     "data": {
      "text/plain": [
       "0.5816326530612245"
      ]
     },
     "execution_count": 63,
     "metadata": {},
     "output_type": "execute_result"
    }
   ],
   "source": [
    "f1_score(target_validate_downsamp, best_model.predict(features_validate_downsamp))"
   ]
  },
  {
   "cell_type": "code",
   "execution_count": 64,
   "metadata": {},
   "outputs": [
    {
     "data": {
      "text/plain": [
       "0.8481336900258717"
      ]
     },
     "execution_count": 64,
     "metadata": {},
     "output_type": "execute_result"
    }
   ],
   "source": [
    "roc_auc_score(target_validate_downsamp, best_model.predict_proba(features_validate_downsamp)[:, 1])"
   ]
  },
  {
   "cell_type": "markdown",
   "metadata": {
    "scrolled": true
   },
   "source": [
    "**Вывод**\n",
    "\n",
    "Обработали дисбаланс разными способами, обучил модели, подобрал гиперпараметры, вывел метрики roc_auc и f1 "
   ]
  },
  {
   "cell_type": "markdown",
   "metadata": {},
   "source": [
    "## Тестирование модели"
   ]
  },
  {
   "cell_type": "markdown",
   "metadata": {},
   "source": [
    "#### Тестирование модели при применении метода downsamp на RandomForestClassifier"
   ]
  },
  {
   "cell_type": "code",
   "execution_count": 65,
   "metadata": {},
   "outputs": [],
   "source": [
    "model = RandomForestClassifier(random_state=69, n_estimators=40,  max_depth=13)\n",
    "model.fit(features_train_upsampling, target_train_upsampling)\n",
    "predicted_valid_d = model.predict(features_test_upsampling)"
   ]
  },
  {
   "cell_type": "code",
   "execution_count": 66,
   "metadata": {},
   "outputs": [
    {
     "data": {
      "text/plain": [
       "0.6102635228848821"
      ]
     },
     "execution_count": 66,
     "metadata": {},
     "output_type": "execute_result"
    }
   ],
   "source": [
    "f1_score_rfc_downsamp = f1_score(target_test_upsampling, predicted_valid_d)\n",
    "f1_score_rfc_downsamp"
   ]
  },
  {
   "cell_type": "code",
   "execution_count": 67,
   "metadata": {},
   "outputs": [
    {
     "data": {
      "text/plain": [
       "0.8650689791091841"
      ]
     },
     "execution_count": 67,
     "metadata": {},
     "output_type": "execute_result"
    }
   ],
   "source": [
    "auc_roc_downsamp = roc_auc_score(target_test_upsampling, model.predict_proba(features_test_upsampling)[:, 1])\n",
    "auc_roc_downsamp"
   ]
  },
  {
   "cell_type": "code",
   "execution_count": 68,
   "metadata": {},
   "outputs": [
    {
     "data": {
      "image/png": "[encoded data removed]",
      "text/plain": [
       "<Figure size 432x288 with 1 Axes>"
      ]
     },
     "metadata": {
      "needs_background": "light"
     },
     "output_type": "display_data"
    }
   ],
   "source": [
    "fpr, tpr, thresholds = roc_curve(target_test_upsampling, model.predict_proba(features_test_upsampling)[:, 1])\n",
    "\n",
    "plt.figure()\n",
    "\n",
    "plt.plot(fpr, tpr)\n",
    "plt.xlabel('False Positive Rate')\n",
    "plt.ylabel('True Positive Rate')\n",
    "plt.ylim([0.0, 1.0])\n",
    "plt.xlim([0.0, 1.0])\n",
    "plt.title('ROC-кривая')\n",
    "\n",
    "plt.show()"
   ]
  },
  {
   "cell_type": "markdown",
   "metadata": {},
   "source": [
    "**Вывод**\n",
    "\n",
    "Финальное тестирование произведено успешно ! :) Метрика f1 0.61"
   ]
  },
  {
   "cell_type": "markdown",
   "metadata": {},
   "source": [
    "## Вывод"
   ]
  },
  {
   "cell_type": "markdown",
   "metadata": {},
   "source": [
    "Проект мы начали с изучения данных, посмотрели содержимое df в нем 10,000 строк и 14 столбцов. Data Frame содержит float64(3 столбца), int64(8 столцов) и object(3 столбца). Обработали NaN, переименовали столбцы, привели их в надлежащий вид. Применили прямое кодирование к типам столбцов object с последующим удаляем некоторые столбцы, для избежания \"дамми-ловушки\". Провели  обучение модели на данных без балансировки, после, применили балансировку, а именно примененили параметр class_weight = 'balanced', увеличели выборку методом upsampling и уменьшили выборки методом downsampling из библиотеки sklearn. Вывели метрику  f1 и auc_roc. С изначально поставленной задачей справились, метрика f1 0.61."
   ]
  },
  {
   "cell_type": "code",
   "execution_count": null,
   "metadata": {},
   "outputs": [],
   "source": []
  }
 ],
 "metadata": {
  "ExecuteTimeLog": [
   {
    "duration": 793,
    "start_time": "2021-12-21T16:27:28.297Z"
   },
   {
    "duration": 216,
    "start_time": "2021-12-21T16:28:07.422Z"
   },
   {
    "duration": 58,
    "start_time": "2021-12-21T16:28:21.504Z"
   },
   {
    "duration": 17,
    "start_time": "2021-12-21T16:28:32.190Z"
   },
   {
    "duration": 15,
    "start_time": "2021-12-21T16:38:28.756Z"
   },
   {
    "duration": 3,
    "start_time": "2021-12-21T16:38:56.948Z"
   },
   {
    "duration": 54,
    "start_time": "2021-12-21T16:38:56.954Z"
   },
   {
    "duration": 11,
    "start_time": "2021-12-21T16:38:57.011Z"
   },
   {
    "duration": 12,
    "start_time": "2021-12-21T16:38:57.025Z"
   },
   {
    "duration": 12,
    "start_time": "2021-12-21T16:38:57.059Z"
   },
   {
    "duration": 26,
    "start_time": "2021-12-21T16:41:47.667Z"
   },
   {
    "duration": 614,
    "start_time": "2021-12-21T16:42:05.395Z"
   },
   {
    "duration": 432,
    "start_time": "2021-12-21T16:42:11.725Z"
   },
   {
    "duration": 417,
    "start_time": "2021-12-21T16:42:22.192Z"
   },
   {
    "duration": 20,
    "start_time": "2021-12-21T16:42:47.490Z"
   },
   {
    "duration": 15,
    "start_time": "2021-12-21T16:44:17.318Z"
   },
   {
    "duration": 13,
    "start_time": "2021-12-21T16:44:29.629Z"
   },
   {
    "duration": 620,
    "start_time": "2021-12-21T16:47:57.047Z"
   },
   {
    "duration": 9,
    "start_time": "2021-12-21T16:48:18.437Z"
   },
   {
    "duration": 12,
    "start_time": "2021-12-21T16:48:38.904Z"
   },
   {
    "duration": 9,
    "start_time": "2021-12-21T16:48:51.373Z"
   },
   {
    "duration": 7,
    "start_time": "2021-12-21T16:49:09.280Z"
   },
   {
    "duration": 4,
    "start_time": "2021-12-21T17:06:43.145Z"
   },
   {
    "duration": 62,
    "start_time": "2021-12-21T17:06:43.153Z"
   },
   {
    "duration": 16,
    "start_time": "2021-12-21T17:06:43.219Z"
   },
   {
    "duration": 21,
    "start_time": "2021-12-21T17:06:43.239Z"
   },
   {
    "duration": 4,
    "start_time": "2021-12-21T17:06:43.263Z"
   },
   {
    "duration": 6,
    "start_time": "2021-12-21T17:06:43.270Z"
   },
   {
    "duration": 6,
    "start_time": "2021-12-21T17:06:43.278Z"
   },
   {
    "duration": 5,
    "start_time": "2021-12-21T17:06:43.287Z"
   },
   {
    "duration": 37,
    "start_time": "2021-12-21T17:07:32.568Z"
   },
   {
    "duration": 10485,
    "start_time": "2021-12-21T17:08:07.751Z"
   },
   {
    "duration": 390,
    "start_time": "2021-12-21T17:08:37.651Z"
   },
   {
    "duration": 16,
    "start_time": "2021-12-21T17:08:51.915Z"
   },
   {
    "duration": 10,
    "start_time": "2021-12-21T17:09:19.753Z"
   },
   {
    "duration": 832,
    "start_time": "2021-12-22T14:52:47.525Z"
   },
   {
    "duration": 1230,
    "start_time": "2021-12-22T14:53:05.763Z"
   },
   {
    "duration": 96,
    "start_time": "2021-12-22T14:53:06.994Z"
   },
   {
    "duration": 9,
    "start_time": "2021-12-22T14:53:07.092Z"
   },
   {
    "duration": 28,
    "start_time": "2021-12-22T14:53:07.102Z"
   },
   {
    "duration": 23,
    "start_time": "2021-12-22T14:53:07.131Z"
   },
   {
    "duration": 25,
    "start_time": "2021-12-22T14:53:07.156Z"
   },
   {
    "duration": 14,
    "start_time": "2021-12-22T14:53:07.182Z"
   },
   {
    "duration": 34,
    "start_time": "2021-12-22T14:53:07.198Z"
   },
   {
    "duration": 12,
    "start_time": "2021-12-22T14:53:07.234Z"
   },
   {
    "duration": 10,
    "start_time": "2021-12-22T14:57:22.644Z"
   },
   {
    "duration": 21,
    "start_time": "2021-12-22T15:32:29.389Z"
   },
   {
    "duration": 5,
    "start_time": "2021-12-22T15:32:52.076Z"
   },
   {
    "duration": 5,
    "start_time": "2021-12-22T15:33:10.017Z"
   },
   {
    "duration": 3,
    "start_time": "2021-12-22T15:41:39.733Z"
   },
   {
    "duration": 39,
    "start_time": "2021-12-22T15:41:39.737Z"
   },
   {
    "duration": 9,
    "start_time": "2021-12-22T15:41:39.778Z"
   },
   {
    "duration": 10,
    "start_time": "2021-12-22T15:41:39.789Z"
   },
   {
    "duration": 679,
    "start_time": "2021-12-22T15:41:39.801Z"
   },
   {
    "duration": -941,
    "start_time": "2021-12-22T15:41:41.423Z"
   },
   {
    "duration": -942,
    "start_time": "2021-12-22T15:41:41.425Z"
   },
   {
    "duration": -946,
    "start_time": "2021-12-22T15:41:41.430Z"
   },
   {
    "duration": -946,
    "start_time": "2021-12-22T15:41:41.431Z"
   },
   {
    "duration": 626,
    "start_time": "2021-12-22T15:42:34.323Z"
   },
   {
    "duration": 8,
    "start_time": "2021-12-22T15:44:08.183Z"
   },
   {
    "duration": 13,
    "start_time": "2021-12-22T15:44:12.533Z"
   },
   {
    "duration": 6,
    "start_time": "2021-12-22T15:44:12.790Z"
   },
   {
    "duration": 7,
    "start_time": "2021-12-22T15:44:13.895Z"
   },
   {
    "duration": 5,
    "start_time": "2021-12-22T15:44:14.125Z"
   },
   {
    "duration": 11,
    "start_time": "2021-12-22T15:54:35.907Z"
   },
   {
    "duration": 2,
    "start_time": "2021-12-22T15:54:47.700Z"
   },
   {
    "duration": 45,
    "start_time": "2021-12-22T15:54:47.704Z"
   },
   {
    "duration": 7,
    "start_time": "2021-12-22T15:54:47.751Z"
   },
   {
    "duration": 10,
    "start_time": "2021-12-22T15:54:47.760Z"
   },
   {
    "duration": 7,
    "start_time": "2021-12-22T15:54:47.771Z"
   },
   {
    "duration": 12,
    "start_time": "2021-12-22T15:54:47.780Z"
   },
   {
    "duration": 6,
    "start_time": "2021-12-22T15:54:47.793Z"
   },
   {
    "duration": 11,
    "start_time": "2021-12-22T15:54:47.801Z"
   },
   {
    "duration": 6,
    "start_time": "2021-12-22T15:54:47.815Z"
   },
   {
    "duration": 5,
    "start_time": "2021-12-22T16:08:31.490Z"
   },
   {
    "duration": 6,
    "start_time": "2021-12-22T16:08:35.378Z"
   },
   {
    "duration": 3,
    "start_time": "2021-12-22T16:09:54.087Z"
   },
   {
    "duration": 43,
    "start_time": "2021-12-22T16:09:54.092Z"
   },
   {
    "duration": 9,
    "start_time": "2021-12-22T16:09:54.137Z"
   },
   {
    "duration": 8,
    "start_time": "2021-12-22T16:09:54.148Z"
   },
   {
    "duration": 8,
    "start_time": "2021-12-22T16:09:54.158Z"
   },
   {
    "duration": 14,
    "start_time": "2021-12-22T16:09:54.167Z"
   },
   {
    "duration": 8,
    "start_time": "2021-12-22T16:09:54.183Z"
   },
   {
    "duration": 9,
    "start_time": "2021-12-22T16:09:54.194Z"
   },
   {
    "duration": 7,
    "start_time": "2021-12-22T16:09:54.205Z"
   },
   {
    "duration": 49,
    "start_time": "2021-12-22T16:09:54.214Z"
   },
   {
    "duration": 13,
    "start_time": "2021-12-22T16:09:54.265Z"
   },
   {
    "duration": 3,
    "start_time": "2021-12-22T16:10:10.108Z"
   },
   {
    "duration": 47,
    "start_time": "2021-12-22T16:10:10.113Z"
   },
   {
    "duration": 8,
    "start_time": "2021-12-22T16:10:10.161Z"
   },
   {
    "duration": 15,
    "start_time": "2021-12-22T16:10:10.171Z"
   },
   {
    "duration": 9,
    "start_time": "2021-12-22T16:10:10.187Z"
   },
   {
    "duration": 30,
    "start_time": "2021-12-22T16:10:10.198Z"
   },
   {
    "duration": 12,
    "start_time": "2021-12-22T16:10:10.230Z"
   },
   {
    "duration": 28,
    "start_time": "2021-12-22T16:10:10.244Z"
   },
   {
    "duration": 25,
    "start_time": "2021-12-22T16:10:10.275Z"
   },
   {
    "duration": 8597,
    "start_time": "2021-12-22T16:10:10.302Z"
   },
   {
    "duration": -1004,
    "start_time": "2021-12-22T16:10:19.904Z"
   },
   {
    "duration": 5,
    "start_time": "2021-12-22T16:10:49.199Z"
   },
   {
    "duration": 7,
    "start_time": "2021-12-22T16:10:50.940Z"
   },
   {
    "duration": 7,
    "start_time": "2021-12-22T16:11:12.865Z"
   },
   {
    "duration": -971,
    "start_time": "2021-12-22T16:11:44.544Z"
   },
   {
    "duration": -972,
    "start_time": "2021-12-22T16:11:44.546Z"
   },
   {
    "duration": -976,
    "start_time": "2021-12-22T16:11:44.551Z"
   },
   {
    "duration": -976,
    "start_time": "2021-12-22T16:11:44.552Z"
   },
   {
    "duration": -976,
    "start_time": "2021-12-22T16:11:44.553Z"
   },
   {
    "duration": -976,
    "start_time": "2021-12-22T16:11:44.554Z"
   },
   {
    "duration": -975,
    "start_time": "2021-12-22T16:11:44.555Z"
   },
   {
    "duration": -976,
    "start_time": "2021-12-22T16:11:44.557Z"
   },
   {
    "duration": -977,
    "start_time": "2021-12-22T16:11:44.558Z"
   },
   {
    "duration": -977,
    "start_time": "2021-12-22T16:11:44.559Z"
   },
   {
    "duration": -977,
    "start_time": "2021-12-22T16:11:44.560Z"
   },
   {
    "duration": 1069,
    "start_time": "2021-12-22T16:11:51.952Z"
   },
   {
    "duration": 97,
    "start_time": "2021-12-22T16:11:53.024Z"
   },
   {
    "duration": 8,
    "start_time": "2021-12-22T16:11:53.125Z"
   },
   {
    "duration": 26,
    "start_time": "2021-12-22T16:11:53.135Z"
   },
   {
    "duration": 6,
    "start_time": "2021-12-22T16:11:53.163Z"
   },
   {
    "duration": 17,
    "start_time": "2021-12-22T16:11:53.171Z"
   },
   {
    "duration": 14,
    "start_time": "2021-12-22T16:11:53.191Z"
   },
   {
    "duration": 14,
    "start_time": "2021-12-22T16:11:53.207Z"
   },
   {
    "duration": 13,
    "start_time": "2021-12-22T16:11:53.223Z"
   },
   {
    "duration": 27,
    "start_time": "2021-12-22T16:11:53.238Z"
   },
   {
    "duration": 12,
    "start_time": "2021-12-22T16:11:53.267Z"
   },
   {
    "duration": 321,
    "start_time": "2021-12-22T16:13:12.340Z"
   },
   {
    "duration": 217,
    "start_time": "2021-12-22T16:13:34.444Z"
   },
   {
    "duration": 3,
    "start_time": "2021-12-22T16:13:45.618Z"
   },
   {
    "duration": 39,
    "start_time": "2021-12-22T16:13:45.623Z"
   },
   {
    "duration": 9,
    "start_time": "2021-12-22T16:13:45.664Z"
   },
   {
    "duration": 7,
    "start_time": "2021-12-22T16:13:45.675Z"
   },
   {
    "duration": 8,
    "start_time": "2021-12-22T16:13:45.684Z"
   },
   {
    "duration": 12,
    "start_time": "2021-12-22T16:13:45.693Z"
   },
   {
    "duration": 8,
    "start_time": "2021-12-22T16:13:45.707Z"
   },
   {
    "duration": 47,
    "start_time": "2021-12-22T16:13:45.717Z"
   },
   {
    "duration": 7,
    "start_time": "2021-12-22T16:13:45.766Z"
   },
   {
    "duration": 233,
    "start_time": "2021-12-22T16:13:45.775Z"
   },
   {
    "duration": 9,
    "start_time": "2021-12-22T16:13:46.010Z"
   },
   {
    "duration": 3,
    "start_time": "2021-12-22T16:17:00.623Z"
   },
   {
    "duration": 65,
    "start_time": "2021-12-22T16:17:00.628Z"
   },
   {
    "duration": 16,
    "start_time": "2021-12-22T16:17:00.695Z"
   },
   {
    "duration": 22,
    "start_time": "2021-12-22T16:17:00.713Z"
   },
   {
    "duration": 32,
    "start_time": "2021-12-22T16:17:00.736Z"
   },
   {
    "duration": 38,
    "start_time": "2021-12-22T16:17:00.770Z"
   },
   {
    "duration": 13,
    "start_time": "2021-12-22T16:17:00.810Z"
   },
   {
    "duration": 12,
    "start_time": "2021-12-22T16:17:00.825Z"
   },
   {
    "duration": 24,
    "start_time": "2021-12-22T16:17:00.839Z"
   },
   {
    "duration": 32,
    "start_time": "2021-12-22T16:17:00.866Z"
   },
   {
    "duration": 12,
    "start_time": "2021-12-22T16:17:00.901Z"
   },
   {
    "duration": 3,
    "start_time": "2021-12-22T16:17:56.801Z"
   },
   {
    "duration": 39,
    "start_time": "2021-12-22T16:17:56.806Z"
   },
   {
    "duration": 9,
    "start_time": "2021-12-22T16:17:56.847Z"
   },
   {
    "duration": 7,
    "start_time": "2021-12-22T16:17:56.858Z"
   },
   {
    "duration": 8,
    "start_time": "2021-12-22T16:17:56.867Z"
   },
   {
    "duration": 11,
    "start_time": "2021-12-22T16:17:56.877Z"
   },
   {
    "duration": 11,
    "start_time": "2021-12-22T16:17:56.890Z"
   },
   {
    "duration": 10,
    "start_time": "2021-12-22T16:17:56.903Z"
   },
   {
    "duration": 6,
    "start_time": "2021-12-22T16:17:56.916Z"
   },
   {
    "duration": 42,
    "start_time": "2021-12-22T16:17:56.923Z"
   },
   {
    "duration": 12,
    "start_time": "2021-12-22T16:17:56.966Z"
   },
   {
    "duration": 8,
    "start_time": "2021-12-22T16:19:23.419Z"
   },
   {
    "duration": 258,
    "start_time": "2021-12-22T16:20:08.545Z"
   },
   {
    "duration": 258,
    "start_time": "2021-12-22T16:20:28.155Z"
   },
   {
    "duration": 353,
    "start_time": "2021-12-22T16:20:33.340Z"
   },
   {
    "duration": 3,
    "start_time": "2021-12-22T16:20:35.884Z"
   },
   {
    "duration": 62,
    "start_time": "2021-12-22T16:20:35.889Z"
   },
   {
    "duration": 9,
    "start_time": "2021-12-22T16:20:35.954Z"
   },
   {
    "duration": 13,
    "start_time": "2021-12-22T16:20:35.965Z"
   },
   {
    "duration": 10,
    "start_time": "2021-12-22T16:20:35.979Z"
   },
   {
    "duration": 20,
    "start_time": "2021-12-22T16:20:35.991Z"
   },
   {
    "duration": 11,
    "start_time": "2021-12-22T16:20:36.013Z"
   },
   {
    "duration": 10,
    "start_time": "2021-12-22T16:20:36.027Z"
   },
   {
    "duration": 31,
    "start_time": "2021-12-22T16:20:36.038Z"
   },
   {
    "duration": 14,
    "start_time": "2021-12-22T16:20:36.071Z"
   },
   {
    "duration": 13,
    "start_time": "2021-12-22T16:20:36.087Z"
   },
   {
    "duration": 8,
    "start_time": "2021-12-22T16:20:36.102Z"
   },
   {
    "duration": 10,
    "start_time": "2021-12-22T16:34:05.809Z"
   },
   {
    "duration": 5,
    "start_time": "2021-12-22T16:34:16.268Z"
   },
   {
    "duration": 255,
    "start_time": "2021-12-22T16:34:31.023Z"
   },
   {
    "duration": 3,
    "start_time": "2021-12-22T16:34:40.556Z"
   },
   {
    "duration": 46,
    "start_time": "2021-12-22T16:34:40.561Z"
   },
   {
    "duration": 12,
    "start_time": "2021-12-22T16:34:40.610Z"
   },
   {
    "duration": 9,
    "start_time": "2021-12-22T16:34:40.624Z"
   },
   {
    "duration": 28,
    "start_time": "2021-12-22T16:34:40.635Z"
   },
   {
    "duration": 11,
    "start_time": "2021-12-22T16:34:40.664Z"
   },
   {
    "duration": 6,
    "start_time": "2021-12-22T16:34:40.677Z"
   },
   {
    "duration": 12,
    "start_time": "2021-12-22T16:34:40.685Z"
   },
   {
    "duration": 8,
    "start_time": "2021-12-22T16:34:40.699Z"
   },
   {
    "duration": 54,
    "start_time": "2021-12-22T16:34:40.709Z"
   },
   {
    "duration": 12,
    "start_time": "2021-12-22T16:34:40.765Z"
   },
   {
    "duration": 8,
    "start_time": "2021-12-22T16:34:40.779Z"
   },
   {
    "duration": 7,
    "start_time": "2021-12-22T16:34:54.812Z"
   },
   {
    "duration": 3,
    "start_time": "2021-12-22T16:35:02.361Z"
   },
   {
    "duration": 41,
    "start_time": "2021-12-22T16:35:02.366Z"
   },
   {
    "duration": 8,
    "start_time": "2021-12-22T16:35:02.410Z"
   },
   {
    "duration": 10,
    "start_time": "2021-12-22T16:35:02.420Z"
   },
   {
    "duration": 29,
    "start_time": "2021-12-22T16:35:02.432Z"
   },
   {
    "duration": 15,
    "start_time": "2021-12-22T16:35:02.463Z"
   },
   {
    "duration": 15,
    "start_time": "2021-12-22T16:35:02.480Z"
   },
   {
    "duration": 13,
    "start_time": "2021-12-22T16:35:02.497Z"
   },
   {
    "duration": 8,
    "start_time": "2021-12-22T16:35:02.513Z"
   },
   {
    "duration": 44,
    "start_time": "2021-12-22T16:35:02.524Z"
   },
   {
    "duration": 10,
    "start_time": "2021-12-22T16:35:02.570Z"
   },
   {
    "duration": 10,
    "start_time": "2021-12-22T16:35:02.583Z"
   },
   {
    "duration": 263,
    "start_time": "2021-12-22T16:35:11.518Z"
   },
   {
    "duration": 3,
    "start_time": "2021-12-22T16:35:26.624Z"
   },
   {
    "duration": 35,
    "start_time": "2021-12-22T16:35:26.629Z"
   },
   {
    "duration": 8,
    "start_time": "2021-12-22T16:35:26.667Z"
   },
   {
    "duration": 8,
    "start_time": "2021-12-22T16:35:26.677Z"
   },
   {
    "duration": 6,
    "start_time": "2021-12-22T16:35:26.687Z"
   },
   {
    "duration": 14,
    "start_time": "2021-12-22T16:35:26.695Z"
   },
   {
    "duration": 8,
    "start_time": "2021-12-22T16:35:26.711Z"
   },
   {
    "duration": 41,
    "start_time": "2021-12-22T16:35:26.721Z"
   },
   {
    "duration": 10,
    "start_time": "2021-12-22T16:35:26.764Z"
   },
   {
    "duration": 15,
    "start_time": "2021-12-22T16:35:26.776Z"
   },
   {
    "duration": 12,
    "start_time": "2021-12-22T16:35:26.792Z"
   },
   {
    "duration": 10,
    "start_time": "2021-12-22T16:35:26.806Z"
   },
   {
    "duration": 2,
    "start_time": "2021-12-22T16:50:13.582Z"
   },
   {
    "duration": 56,
    "start_time": "2021-12-22T16:50:13.586Z"
   },
   {
    "duration": 13,
    "start_time": "2021-12-22T16:50:13.645Z"
   },
   {
    "duration": 12,
    "start_time": "2021-12-22T16:50:13.660Z"
   },
   {
    "duration": 16,
    "start_time": "2021-12-22T16:50:13.674Z"
   },
   {
    "duration": 22,
    "start_time": "2021-12-22T16:50:13.692Z"
   },
   {
    "duration": 24,
    "start_time": "2021-12-22T16:50:13.716Z"
   },
   {
    "duration": 17,
    "start_time": "2021-12-22T16:50:13.742Z"
   },
   {
    "duration": 25,
    "start_time": "2021-12-22T16:50:13.761Z"
   },
   {
    "duration": 15,
    "start_time": "2021-12-22T16:50:13.789Z"
   },
   {
    "duration": 10,
    "start_time": "2021-12-22T16:50:13.806Z"
   },
   {
    "duration": 14,
    "start_time": "2021-12-22T16:50:13.818Z"
   },
   {
    "duration": 3,
    "start_time": "2021-12-22T16:50:31.647Z"
   },
   {
    "duration": 78,
    "start_time": "2021-12-22T16:50:31.653Z"
   },
   {
    "duration": 10,
    "start_time": "2021-12-22T16:50:31.733Z"
   },
   {
    "duration": 20,
    "start_time": "2021-12-22T16:50:31.746Z"
   },
   {
    "duration": 19,
    "start_time": "2021-12-22T16:50:31.768Z"
   },
   {
    "duration": 79,
    "start_time": "2021-12-22T16:50:31.789Z"
   },
   {
    "duration": 11,
    "start_time": "2021-12-22T16:50:31.871Z"
   },
   {
    "duration": 15,
    "start_time": "2021-12-22T16:50:31.884Z"
   },
   {
    "duration": 18,
    "start_time": "2021-12-22T16:50:31.903Z"
   },
   {
    "duration": 22,
    "start_time": "2021-12-22T16:50:31.924Z"
   },
   {
    "duration": 11,
    "start_time": "2021-12-22T16:50:31.960Z"
   },
   {
    "duration": 29,
    "start_time": "2021-12-22T16:50:31.973Z"
   },
   {
    "duration": 3,
    "start_time": "2021-12-22T16:52:21.433Z"
   },
   {
    "duration": 38,
    "start_time": "2021-12-22T16:52:21.438Z"
   },
   {
    "duration": 10,
    "start_time": "2021-12-22T16:52:21.478Z"
   },
   {
    "duration": 11,
    "start_time": "2021-12-22T16:52:21.491Z"
   },
   {
    "duration": 8,
    "start_time": "2021-12-22T16:52:21.504Z"
   },
   {
    "duration": 22,
    "start_time": "2021-12-22T16:52:21.514Z"
   },
   {
    "duration": 9,
    "start_time": "2021-12-22T16:52:21.561Z"
   },
   {
    "duration": 10,
    "start_time": "2021-12-22T16:52:21.573Z"
   },
   {
    "duration": 9,
    "start_time": "2021-12-22T16:52:21.586Z"
   },
   {
    "duration": 15,
    "start_time": "2021-12-22T16:52:21.597Z"
   },
   {
    "duration": 11,
    "start_time": "2021-12-22T16:52:21.614Z"
   },
   {
    "duration": 40,
    "start_time": "2021-12-22T16:52:21.627Z"
   },
   {
    "duration": 2,
    "start_time": "2021-12-22T16:52:38.653Z"
   },
   {
    "duration": 44,
    "start_time": "2021-12-22T16:52:38.657Z"
   },
   {
    "duration": 12,
    "start_time": "2021-12-22T16:52:38.704Z"
   },
   {
    "duration": 9,
    "start_time": "2021-12-22T16:52:38.719Z"
   },
   {
    "duration": 8,
    "start_time": "2021-12-22T16:52:38.730Z"
   },
   {
    "duration": 30,
    "start_time": "2021-12-22T16:52:38.740Z"
   },
   {
    "duration": 12,
    "start_time": "2021-12-22T16:52:38.773Z"
   },
   {
    "duration": 10,
    "start_time": "2021-12-22T16:52:38.787Z"
   },
   {
    "duration": 12,
    "start_time": "2021-12-22T16:52:38.800Z"
   },
   {
    "duration": 11,
    "start_time": "2021-12-22T16:52:38.814Z"
   },
   {
    "duration": 38,
    "start_time": "2021-12-22T16:52:38.827Z"
   },
   {
    "duration": 9,
    "start_time": "2021-12-22T16:52:38.867Z"
   },
   {
    "duration": 4,
    "start_time": "2021-12-22T16:55:22.561Z"
   },
   {
    "duration": 3,
    "start_time": "2021-12-22T16:55:24.844Z"
   },
   {
    "duration": 40,
    "start_time": "2021-12-22T16:55:24.849Z"
   },
   {
    "duration": 8,
    "start_time": "2021-12-22T16:55:24.891Z"
   },
   {
    "duration": 7,
    "start_time": "2021-12-22T16:55:24.901Z"
   },
   {
    "duration": 5,
    "start_time": "2021-12-22T16:55:24.910Z"
   },
   {
    "duration": 14,
    "start_time": "2021-12-22T16:55:24.917Z"
   },
   {
    "duration": 34,
    "start_time": "2021-12-22T16:55:24.932Z"
   },
   {
    "duration": 11,
    "start_time": "2021-12-22T16:55:24.968Z"
   },
   {
    "duration": 7,
    "start_time": "2021-12-22T16:55:24.981Z"
   },
   {
    "duration": 11,
    "start_time": "2021-12-22T16:55:24.990Z"
   },
   {
    "duration": 10,
    "start_time": "2021-12-22T16:55:25.003Z"
   },
   {
    "duration": 46,
    "start_time": "2021-12-22T16:55:25.016Z"
   },
   {
    "duration": 14,
    "start_time": "2021-12-22T16:55:25.064Z"
   },
   {
    "duration": 2,
    "start_time": "2021-12-22T17:03:47.393Z"
   },
   {
    "duration": 49,
    "start_time": "2021-12-22T17:03:47.397Z"
   },
   {
    "duration": 8,
    "start_time": "2021-12-22T17:03:47.448Z"
   },
   {
    "duration": 7,
    "start_time": "2021-12-22T17:03:47.459Z"
   },
   {
    "duration": 9,
    "start_time": "2021-12-22T17:03:47.468Z"
   },
   {
    "duration": 13,
    "start_time": "2021-12-22T17:03:47.479Z"
   },
   {
    "duration": 6,
    "start_time": "2021-12-22T17:03:47.493Z"
   },
   {
    "duration": 9,
    "start_time": "2021-12-22T17:03:47.500Z"
   },
   {
    "duration": 6,
    "start_time": "2021-12-22T17:03:47.511Z"
   },
   {
    "duration": 47,
    "start_time": "2021-12-22T17:03:47.518Z"
   },
   {
    "duration": 8,
    "start_time": "2021-12-22T17:03:47.567Z"
   },
   {
    "duration": 40,
    "start_time": "2021-12-22T17:03:47.576Z"
   },
   {
    "duration": 16,
    "start_time": "2021-12-22T17:03:47.618Z"
   },
   {
    "duration": 8,
    "start_time": "2021-12-22T17:03:58.584Z"
   },
   {
    "duration": 292,
    "start_time": "2021-12-22T17:07:18.640Z"
   },
   {
    "duration": 256,
    "start_time": "2021-12-22T17:08:34.571Z"
   },
   {
    "duration": 7,
    "start_time": "2021-12-22T17:08:44.802Z"
   },
   {
    "duration": 26,
    "start_time": "2021-12-22T17:08:51.840Z"
   },
   {
    "duration": 22,
    "start_time": "2021-12-22T17:09:20.196Z"
   },
   {
    "duration": 3,
    "start_time": "2021-12-22T17:13:49.129Z"
   },
   {
    "duration": 34,
    "start_time": "2021-12-22T17:13:49.135Z"
   },
   {
    "duration": 10,
    "start_time": "2021-12-22T17:13:49.172Z"
   },
   {
    "duration": 8,
    "start_time": "2021-12-22T17:13:49.184Z"
   },
   {
    "duration": 8,
    "start_time": "2021-12-22T17:13:49.193Z"
   },
   {
    "duration": 13,
    "start_time": "2021-12-22T17:13:49.203Z"
   },
   {
    "duration": 47,
    "start_time": "2021-12-22T17:13:49.218Z"
   },
   {
    "duration": 12,
    "start_time": "2021-12-22T17:13:49.268Z"
   },
   {
    "duration": 16,
    "start_time": "2021-12-22T17:13:49.282Z"
   },
   {
    "duration": 9,
    "start_time": "2021-12-22T17:13:49.300Z"
   },
   {
    "duration": 14,
    "start_time": "2021-12-22T17:13:49.311Z"
   },
   {
    "duration": 9,
    "start_time": "2021-12-22T17:13:49.327Z"
   },
   {
    "duration": 22,
    "start_time": "2021-12-22T17:13:49.338Z"
   },
   {
    "duration": 259,
    "start_time": "2021-12-22T17:13:49.362Z"
   },
   {
    "duration": -1255,
    "start_time": "2021-12-22T17:13:50.878Z"
   },
   {
    "duration": -1255,
    "start_time": "2021-12-22T17:13:50.880Z"
   },
   {
    "duration": 8,
    "start_time": "2021-12-22T17:14:30.898Z"
   },
   {
    "duration": 9,
    "start_time": "2021-12-22T17:14:45.850Z"
   },
   {
    "duration": 3,
    "start_time": "2021-12-22T17:14:50.721Z"
   },
   {
    "duration": 33,
    "start_time": "2021-12-22T17:14:50.747Z"
   },
   {
    "duration": 8,
    "start_time": "2021-12-22T17:14:50.782Z"
   },
   {
    "duration": 10,
    "start_time": "2021-12-22T17:14:50.792Z"
   },
   {
    "duration": 15,
    "start_time": "2021-12-22T17:14:50.804Z"
   },
   {
    "duration": 20,
    "start_time": "2021-12-22T17:14:50.820Z"
   },
   {
    "duration": 24,
    "start_time": "2021-12-22T17:14:50.841Z"
   },
   {
    "duration": 9,
    "start_time": "2021-12-22T17:14:50.867Z"
   },
   {
    "duration": 10,
    "start_time": "2021-12-22T17:14:50.877Z"
   },
   {
    "duration": 9,
    "start_time": "2021-12-22T17:14:50.889Z"
   },
   {
    "duration": 7,
    "start_time": "2021-12-22T17:14:50.900Z"
   },
   {
    "duration": 7,
    "start_time": "2021-12-22T17:14:50.909Z"
   },
   {
    "duration": 45,
    "start_time": "2021-12-22T17:14:50.917Z"
   },
   {
    "duration": 10,
    "start_time": "2021-12-22T17:14:50.964Z"
   },
   {
    "duration": 8,
    "start_time": "2021-12-22T17:14:50.976Z"
   },
   {
    "duration": 272,
    "start_time": "2021-12-22T17:14:50.986Z"
   },
   {
    "duration": -1167,
    "start_time": "2021-12-22T17:14:52.427Z"
   },
   {
    "duration": -1168,
    "start_time": "2021-12-22T17:14:52.429Z"
   },
   {
    "duration": 7,
    "start_time": "2021-12-22T17:14:57.271Z"
   },
   {
    "duration": 3,
    "start_time": "2021-12-22T17:16:03.522Z"
   },
   {
    "duration": 45,
    "start_time": "2021-12-22T17:16:03.526Z"
   },
   {
    "duration": 7,
    "start_time": "2021-12-22T17:16:03.573Z"
   },
   {
    "duration": 21,
    "start_time": "2021-12-22T17:16:03.582Z"
   },
   {
    "duration": 15,
    "start_time": "2021-12-22T17:16:03.604Z"
   },
   {
    "duration": 16,
    "start_time": "2021-12-22T17:16:03.621Z"
   },
   {
    "duration": 23,
    "start_time": "2021-12-22T17:16:03.639Z"
   },
   {
    "duration": 18,
    "start_time": "2021-12-22T17:16:03.665Z"
   },
   {
    "duration": 30,
    "start_time": "2021-12-22T17:16:03.685Z"
   },
   {
    "duration": 14,
    "start_time": "2021-12-22T17:16:03.717Z"
   },
   {
    "duration": 25,
    "start_time": "2021-12-22T17:16:03.733Z"
   },
   {
    "duration": 27,
    "start_time": "2021-12-22T17:16:03.759Z"
   },
   {
    "duration": 34,
    "start_time": "2021-12-22T17:16:03.788Z"
   },
   {
    "duration": 36,
    "start_time": "2021-12-22T17:16:03.824Z"
   },
   {
    "duration": 72,
    "start_time": "2021-12-22T17:16:03.862Z"
   },
   {
    "duration": 40,
    "start_time": "2021-12-22T17:16:03.936Z"
   },
   {
    "duration": 3,
    "start_time": "2021-12-22T17:16:54.929Z"
   },
   {
    "duration": 64,
    "start_time": "2021-12-22T17:16:54.933Z"
   },
   {
    "duration": 8,
    "start_time": "2021-12-22T17:16:54.999Z"
   },
   {
    "duration": 27,
    "start_time": "2021-12-22T17:16:55.009Z"
   },
   {
    "duration": 10,
    "start_time": "2021-12-22T17:16:55.038Z"
   },
   {
    "duration": 45,
    "start_time": "2021-12-22T17:16:55.050Z"
   },
   {
    "duration": 16,
    "start_time": "2021-12-22T17:16:55.097Z"
   },
   {
    "duration": 17,
    "start_time": "2021-12-22T17:16:55.115Z"
   },
   {
    "duration": 16,
    "start_time": "2021-12-22T17:16:55.135Z"
   },
   {
    "duration": 15,
    "start_time": "2021-12-22T17:16:55.153Z"
   },
   {
    "duration": 16,
    "start_time": "2021-12-22T17:16:55.170Z"
   },
   {
    "duration": 13,
    "start_time": "2021-12-22T17:16:55.187Z"
   },
   {
    "duration": 27,
    "start_time": "2021-12-22T17:16:55.201Z"
   },
   {
    "duration": 39,
    "start_time": "2021-12-22T17:16:55.230Z"
   },
   {
    "duration": 20,
    "start_time": "2021-12-22T17:16:55.271Z"
   },
   {
    "duration": 305,
    "start_time": "2021-12-22T17:17:02.995Z"
   },
   {
    "duration": 3,
    "start_time": "2021-12-22T17:17:07.318Z"
   },
   {
    "duration": 38,
    "start_time": "2021-12-22T17:17:07.323Z"
   },
   {
    "duration": 10,
    "start_time": "2021-12-22T17:17:07.365Z"
   },
   {
    "duration": 10,
    "start_time": "2021-12-22T17:17:07.378Z"
   },
   {
    "duration": 8,
    "start_time": "2021-12-22T17:17:07.390Z"
   },
   {
    "duration": 17,
    "start_time": "2021-12-22T17:17:07.399Z"
   },
   {
    "duration": 44,
    "start_time": "2021-12-22T17:17:07.418Z"
   },
   {
    "duration": 8,
    "start_time": "2021-12-22T17:17:07.464Z"
   },
   {
    "duration": 7,
    "start_time": "2021-12-22T17:17:07.474Z"
   },
   {
    "duration": 13,
    "start_time": "2021-12-22T17:17:07.483Z"
   },
   {
    "duration": 10,
    "start_time": "2021-12-22T17:17:07.497Z"
   },
   {
    "duration": 6,
    "start_time": "2021-12-22T17:17:07.509Z"
   },
   {
    "duration": 47,
    "start_time": "2021-12-22T17:17:07.517Z"
   },
   {
    "duration": 33,
    "start_time": "2021-12-22T17:17:07.566Z"
   },
   {
    "duration": 15,
    "start_time": "2021-12-22T17:17:07.601Z"
   },
   {
    "duration": 249,
    "start_time": "2021-12-22T17:17:16.348Z"
   },
   {
    "duration": 2,
    "start_time": "2021-12-22T17:17:18.597Z"
   },
   {
    "duration": 42,
    "start_time": "2021-12-22T17:17:18.601Z"
   },
   {
    "duration": 12,
    "start_time": "2021-12-22T17:17:18.645Z"
   },
   {
    "duration": 10,
    "start_time": "2021-12-22T17:17:18.659Z"
   },
   {
    "duration": 7,
    "start_time": "2021-12-22T17:17:18.671Z"
   },
   {
    "duration": 15,
    "start_time": "2021-12-22T17:17:18.680Z"
   },
   {
    "duration": 10,
    "start_time": "2021-12-22T17:17:18.696Z"
   },
   {
    "duration": 12,
    "start_time": "2021-12-22T17:17:18.708Z"
   },
   {
    "duration": 6,
    "start_time": "2021-12-22T17:17:18.723Z"
   },
   {
    "duration": 9,
    "start_time": "2021-12-22T17:17:18.762Z"
   },
   {
    "duration": 14,
    "start_time": "2021-12-22T17:17:18.774Z"
   },
   {
    "duration": 8,
    "start_time": "2021-12-22T17:17:18.790Z"
   },
   {
    "duration": 10,
    "start_time": "2021-12-22T17:17:18.800Z"
   },
   {
    "duration": 59,
    "start_time": "2021-12-22T17:17:18.812Z"
   },
   {
    "duration": 27,
    "start_time": "2021-12-22T17:17:18.873Z"
   },
   {
    "duration": 2,
    "start_time": "2021-12-22T17:19:34.702Z"
   },
   {
    "duration": 37,
    "start_time": "2021-12-22T17:19:34.706Z"
   },
   {
    "duration": 8,
    "start_time": "2021-12-22T17:19:34.745Z"
   },
   {
    "duration": 6,
    "start_time": "2021-12-22T17:19:34.755Z"
   },
   {
    "duration": 6,
    "start_time": "2021-12-22T17:19:34.762Z"
   },
   {
    "duration": 12,
    "start_time": "2021-12-22T17:19:34.770Z"
   },
   {
    "duration": 10,
    "start_time": "2021-12-22T17:19:34.784Z"
   },
   {
    "duration": 13,
    "start_time": "2021-12-22T17:19:34.797Z"
   },
   {
    "duration": 7,
    "start_time": "2021-12-22T17:19:34.813Z"
   },
   {
    "duration": 45,
    "start_time": "2021-12-22T17:19:34.822Z"
   },
   {
    "duration": 11,
    "start_time": "2021-12-22T17:19:34.869Z"
   },
   {
    "duration": 6,
    "start_time": "2021-12-22T17:19:34.882Z"
   },
   {
    "duration": 10,
    "start_time": "2021-12-22T17:19:34.890Z"
   },
   {
    "duration": 60,
    "start_time": "2021-12-22T17:19:34.902Z"
   },
   {
    "duration": 24,
    "start_time": "2021-12-22T17:19:34.964Z"
   },
   {
    "duration": 10,
    "start_time": "2021-12-22T17:19:48.339Z"
   },
   {
    "duration": 2,
    "start_time": "2021-12-22T17:23:43.831Z"
   },
   {
    "duration": 40,
    "start_time": "2021-12-22T17:23:43.836Z"
   },
   {
    "duration": 8,
    "start_time": "2021-12-22T17:23:43.878Z"
   },
   {
    "duration": 9,
    "start_time": "2021-12-22T17:23:43.888Z"
   },
   {
    "duration": 6,
    "start_time": "2021-12-22T17:23:43.899Z"
   },
   {
    "duration": 10,
    "start_time": "2021-12-22T17:23:43.906Z"
   },
   {
    "duration": 45,
    "start_time": "2021-12-22T17:23:43.918Z"
   },
   {
    "duration": 7,
    "start_time": "2021-12-22T17:23:43.965Z"
   },
   {
    "duration": 6,
    "start_time": "2021-12-22T17:23:43.974Z"
   },
   {
    "duration": 7,
    "start_time": "2021-12-22T17:23:43.982Z"
   },
   {
    "duration": 7,
    "start_time": "2021-12-22T17:23:43.991Z"
   },
   {
    "duration": 2,
    "start_time": "2021-12-22T17:23:44.223Z"
   },
   {
    "duration": 10,
    "start_time": "2021-12-22T17:23:44.227Z"
   },
   {
    "duration": 23,
    "start_time": "2021-12-22T17:23:44.239Z"
   },
   {
    "duration": 18,
    "start_time": "2021-12-22T17:23:44.264Z"
   },
   {
    "duration": 7,
    "start_time": "2021-12-22T17:23:44.283Z"
   },
   {
    "duration": 251,
    "start_time": "2021-12-22T17:24:04.088Z"
   },
   {
    "duration": 3,
    "start_time": "2021-12-22T17:24:18.244Z"
   },
   {
    "duration": 47,
    "start_time": "2021-12-22T17:24:18.250Z"
   },
   {
    "duration": 9,
    "start_time": "2021-12-22T17:24:18.300Z"
   },
   {
    "duration": 9,
    "start_time": "2021-12-22T17:24:18.311Z"
   },
   {
    "duration": 11,
    "start_time": "2021-12-22T17:24:18.322Z"
   },
   {
    "duration": 32,
    "start_time": "2021-12-22T17:24:18.335Z"
   },
   {
    "duration": 6,
    "start_time": "2021-12-22T17:24:18.369Z"
   },
   {
    "duration": 13,
    "start_time": "2021-12-22T17:24:18.378Z"
   },
   {
    "duration": 13,
    "start_time": "2021-12-22T17:24:18.393Z"
   },
   {
    "duration": 15,
    "start_time": "2021-12-22T17:24:18.407Z"
   },
   {
    "duration": 42,
    "start_time": "2021-12-22T17:24:18.424Z"
   },
   {
    "duration": 5,
    "start_time": "2021-12-22T17:24:18.468Z"
   },
   {
    "duration": 14,
    "start_time": "2021-12-22T17:24:18.475Z"
   },
   {
    "duration": 23,
    "start_time": "2021-12-22T17:24:18.491Z"
   },
   {
    "duration": 8,
    "start_time": "2021-12-22T17:24:18.517Z"
   },
   {
    "duration": 6,
    "start_time": "2021-12-22T17:28:12.112Z"
   },
   {
    "duration": 79,
    "start_time": "2021-12-22T18:09:53.677Z"
   },
   {
    "duration": 42,
    "start_time": "2021-12-22T18:09:53.758Z"
   },
   {
    "duration": 8,
    "start_time": "2021-12-22T18:09:53.802Z"
   },
   {
    "duration": 7,
    "start_time": "2021-12-22T18:09:53.811Z"
   },
   {
    "duration": 6,
    "start_time": "2021-12-22T18:09:54.003Z"
   },
   {
    "duration": 17,
    "start_time": "2021-12-22T18:09:54.019Z"
   },
   {
    "duration": 11,
    "start_time": "2021-12-22T18:09:54.038Z"
   },
   {
    "duration": 11,
    "start_time": "2021-12-22T18:09:54.051Z"
   },
   {
    "duration": 6,
    "start_time": "2021-12-22T18:09:54.064Z"
   },
   {
    "duration": 13,
    "start_time": "2021-12-22T18:09:54.072Z"
   },
   {
    "duration": 8,
    "start_time": "2021-12-22T18:09:54.086Z"
   },
   {
    "duration": 5,
    "start_time": "2021-12-22T18:09:54.096Z"
   },
   {
    "duration": 9,
    "start_time": "2021-12-22T18:09:54.103Z"
   },
   {
    "duration": 23,
    "start_time": "2021-12-22T18:09:54.115Z"
   },
   {
    "duration": 10,
    "start_time": "2021-12-22T18:09:54.160Z"
   },
   {
    "duration": 7,
    "start_time": "2021-12-22T18:09:54.172Z"
   },
   {
    "duration": 10,
    "start_time": "2021-12-22T18:09:54.265Z"
   },
   {
    "duration": 25,
    "start_time": "2021-12-22T18:14:16.193Z"
   },
   {
    "duration": 6,
    "start_time": "2021-12-22T18:16:49.547Z"
   },
   {
    "duration": 7,
    "start_time": "2021-12-22T18:16:51.340Z"
   },
   {
    "duration": 3,
    "start_time": "2021-12-22T18:19:54.473Z"
   },
   {
    "duration": 4,
    "start_time": "2021-12-22T18:21:17.461Z"
   },
   {
    "duration": 256,
    "start_time": "2021-12-22T18:26:46.395Z"
   },
   {
    "duration": 3,
    "start_time": "2021-12-22T18:26:48.921Z"
   },
   {
    "duration": 39,
    "start_time": "2021-12-22T18:26:48.927Z"
   },
   {
    "duration": 8,
    "start_time": "2021-12-22T18:26:48.968Z"
   },
   {
    "duration": 6,
    "start_time": "2021-12-22T18:26:48.978Z"
   },
   {
    "duration": 9,
    "start_time": "2021-12-22T18:26:48.986Z"
   },
   {
    "duration": 13,
    "start_time": "2021-12-22T18:26:48.996Z"
   },
   {
    "duration": 7,
    "start_time": "2021-12-22T18:26:49.011Z"
   },
   {
    "duration": 50,
    "start_time": "2021-12-22T18:26:49.019Z"
   },
   {
    "duration": 10,
    "start_time": "2021-12-22T18:26:49.071Z"
   },
   {
    "duration": 8,
    "start_time": "2021-12-22T18:26:49.083Z"
   },
   {
    "duration": 7,
    "start_time": "2021-12-22T18:26:49.093Z"
   },
   {
    "duration": 4,
    "start_time": "2021-12-22T18:26:49.102Z"
   },
   {
    "duration": 7,
    "start_time": "2021-12-22T18:26:49.108Z"
   },
   {
    "duration": 51,
    "start_time": "2021-12-22T18:26:49.117Z"
   },
   {
    "duration": 7,
    "start_time": "2021-12-22T18:26:49.170Z"
   },
   {
    "duration": 6,
    "start_time": "2021-12-22T18:26:49.179Z"
   },
   {
    "duration": 8,
    "start_time": "2021-12-22T18:26:49.187Z"
   },
   {
    "duration": 259,
    "start_time": "2021-12-22T18:26:49.197Z"
   },
   {
    "duration": -1028,
    "start_time": "2021-12-22T18:26:50.486Z"
   },
   {
    "duration": 3,
    "start_time": "2021-12-22T18:43:06.963Z"
   },
   {
    "duration": 51,
    "start_time": "2021-12-22T18:43:06.968Z"
   },
   {
    "duration": 8,
    "start_time": "2021-12-22T18:43:07.021Z"
   },
   {
    "duration": 7,
    "start_time": "2021-12-22T18:43:07.031Z"
   },
   {
    "duration": 21,
    "start_time": "2021-12-22T18:43:07.040Z"
   },
   {
    "duration": 6,
    "start_time": "2021-12-22T18:43:07.063Z"
   },
   {
    "duration": 16,
    "start_time": "2021-12-22T18:43:07.071Z"
   },
   {
    "duration": 11,
    "start_time": "2021-12-22T18:43:07.089Z"
   },
   {
    "duration": 6,
    "start_time": "2021-12-22T18:43:07.103Z"
   },
   {
    "duration": 5,
    "start_time": "2021-12-22T18:43:07.111Z"
   },
   {
    "duration": 49,
    "start_time": "2021-12-22T18:43:07.118Z"
   },
   {
    "duration": 15,
    "start_time": "2021-12-22T18:43:07.169Z"
   },
   {
    "duration": 7,
    "start_time": "2021-12-22T18:43:07.186Z"
   },
   {
    "duration": 18,
    "start_time": "2021-12-22T18:43:07.195Z"
   },
   {
    "duration": 17,
    "start_time": "2021-12-22T18:43:07.215Z"
   },
   {
    "duration": 31,
    "start_time": "2021-12-22T18:43:07.234Z"
   },
   {
    "duration": 6,
    "start_time": "2021-12-22T18:43:07.266Z"
   },
   {
    "duration": 9,
    "start_time": "2021-12-22T18:43:07.273Z"
   },
   {
    "duration": 180,
    "start_time": "2021-12-22T18:43:07.284Z"
   },
   {
    "duration": 107,
    "start_time": "2021-12-22T18:43:07.466Z"
   },
   {
    "duration": 5,
    "start_time": "2021-12-24T16:09:24.285Z"
   },
   {
    "duration": 50,
    "start_time": "2021-12-24T16:09:24.292Z"
   },
   {
    "duration": 15,
    "start_time": "2021-12-24T16:09:24.346Z"
   },
   {
    "duration": 10,
    "start_time": "2021-12-24T16:09:24.364Z"
   },
   {
    "duration": 14,
    "start_time": "2021-12-24T16:09:24.376Z"
   },
   {
    "duration": 8,
    "start_time": "2021-12-24T16:09:24.392Z"
   },
   {
    "duration": 65,
    "start_time": "2021-12-24T16:09:24.403Z"
   },
   {
    "duration": 9,
    "start_time": "2021-12-24T16:09:24.472Z"
   },
   {
    "duration": 13,
    "start_time": "2021-12-24T16:09:24.485Z"
   },
   {
    "duration": 9,
    "start_time": "2021-12-24T16:09:24.500Z"
   },
   {
    "duration": 13,
    "start_time": "2021-12-24T16:09:24.560Z"
   },
   {
    "duration": 15,
    "start_time": "2021-12-24T16:09:24.575Z"
   },
   {
    "duration": 9,
    "start_time": "2021-12-24T16:09:24.593Z"
   },
   {
    "duration": 12,
    "start_time": "2021-12-24T16:09:24.604Z"
   },
   {
    "duration": 26,
    "start_time": "2021-12-24T16:09:24.661Z"
   },
   {
    "duration": 15,
    "start_time": "2021-12-24T16:09:24.690Z"
   },
   {
    "duration": 59,
    "start_time": "2021-12-24T16:09:24.708Z"
   },
   {
    "duration": 14,
    "start_time": "2021-12-24T16:09:24.770Z"
   },
   {
    "duration": 171,
    "start_time": "2021-12-24T16:09:24.787Z"
   },
   {
    "duration": 164,
    "start_time": "2021-12-24T16:09:24.962Z"
   },
   {
    "duration": 5,
    "start_time": "2021-12-24T16:22:41.865Z"
   },
   {
    "duration": 51,
    "start_time": "2021-12-24T16:22:41.873Z"
   },
   {
    "duration": 37,
    "start_time": "2021-12-24T16:22:41.927Z"
   },
   {
    "duration": 9,
    "start_time": "2021-12-24T16:22:41.966Z"
   },
   {
    "duration": 14,
    "start_time": "2021-12-24T16:22:41.977Z"
   },
   {
    "duration": 8,
    "start_time": "2021-12-24T16:22:41.993Z"
   },
   {
    "duration": 62,
    "start_time": "2021-12-24T16:22:42.003Z"
   },
   {
    "duration": 8,
    "start_time": "2021-12-24T16:22:42.067Z"
   },
   {
    "duration": 8,
    "start_time": "2021-12-24T16:22:42.079Z"
   },
   {
    "duration": 7,
    "start_time": "2021-12-24T16:22:42.090Z"
   },
   {
    "duration": 64,
    "start_time": "2021-12-24T16:22:42.099Z"
   },
   {
    "duration": 13,
    "start_time": "2021-12-24T16:22:42.165Z"
   },
   {
    "duration": 4,
    "start_time": "2021-12-24T16:22:42.180Z"
   },
   {
    "duration": 11,
    "start_time": "2021-12-24T16:22:42.187Z"
   },
   {
    "duration": 63,
    "start_time": "2021-12-24T16:22:42.201Z"
   },
   {
    "duration": 11,
    "start_time": "2021-12-24T16:22:42.266Z"
   },
   {
    "duration": 8,
    "start_time": "2021-12-24T16:22:42.279Z"
   },
   {
    "duration": 12,
    "start_time": "2021-12-24T16:22:42.289Z"
   },
   {
    "duration": 159,
    "start_time": "2021-12-24T16:22:42.303Z"
   },
   {
    "duration": 134,
    "start_time": "2021-12-24T16:22:42.465Z"
   },
   {
    "duration": 1119,
    "start_time": "2021-12-24T17:21:26.871Z"
   },
   {
    "duration": 5,
    "start_time": "2021-12-24T17:22:31.696Z"
   },
   {
    "duration": 1633,
    "start_time": "2021-12-24T17:27:29.962Z"
   },
   {
    "duration": 4,
    "start_time": "2021-12-24T17:27:50.533Z"
   },
   {
    "duration": 73,
    "start_time": "2021-12-24T17:27:50.540Z"
   },
   {
    "duration": 26,
    "start_time": "2021-12-24T17:27:50.617Z"
   },
   {
    "duration": 67,
    "start_time": "2021-12-24T17:27:50.647Z"
   },
   {
    "duration": 90,
    "start_time": "2021-12-24T17:27:50.717Z"
   },
   {
    "duration": 135,
    "start_time": "2021-12-24T17:27:50.810Z"
   },
   {
    "duration": 80,
    "start_time": "2021-12-24T17:27:50.948Z"
   },
   {
    "duration": 76,
    "start_time": "2021-12-24T17:27:51.031Z"
   },
   {
    "duration": 11,
    "start_time": "2021-12-24T17:27:51.113Z"
   },
   {
    "duration": 9,
    "start_time": "2021-12-24T17:27:51.127Z"
   },
   {
    "duration": 11,
    "start_time": "2021-12-24T17:27:51.139Z"
   },
   {
    "duration": 18,
    "start_time": "2021-12-24T17:27:51.153Z"
   },
   {
    "duration": 4,
    "start_time": "2021-12-24T17:27:51.173Z"
   },
   {
    "duration": 10,
    "start_time": "2021-12-24T17:27:51.179Z"
   },
   {
    "duration": 70,
    "start_time": "2021-12-24T17:27:51.192Z"
   },
   {
    "duration": 15,
    "start_time": "2021-12-24T17:27:51.265Z"
   },
   {
    "duration": 11,
    "start_time": "2021-12-24T17:27:51.283Z"
   },
   {
    "duration": 14,
    "start_time": "2021-12-24T17:27:51.297Z"
   },
   {
    "duration": 245,
    "start_time": "2021-12-24T17:27:51.314Z"
   },
   {
    "duration": 1468,
    "start_time": "2021-12-24T17:27:51.562Z"
   },
   {
    "duration": -821,
    "start_time": "2021-12-24T17:27:53.854Z"
   },
   {
    "duration": 1411,
    "start_time": "2021-12-24T17:28:51.025Z"
   },
   {
    "duration": 1651,
    "start_time": "2021-12-24T17:30:27.912Z"
   },
   {
    "duration": 1211,
    "start_time": "2021-12-24T17:32:40.784Z"
   },
   {
    "duration": 7,
    "start_time": "2021-12-24T17:33:12.473Z"
   },
   {
    "duration": 52,
    "start_time": "2021-12-24T17:33:12.483Z"
   },
   {
    "duration": 11,
    "start_time": "2021-12-24T17:33:12.538Z"
   },
   {
    "duration": 14,
    "start_time": "2021-12-24T17:33:12.551Z"
   },
   {
    "duration": 18,
    "start_time": "2021-12-24T17:33:12.568Z"
   },
   {
    "duration": 10,
    "start_time": "2021-12-24T17:33:12.589Z"
   },
   {
    "duration": 73,
    "start_time": "2021-12-24T17:33:12.602Z"
   },
   {
    "duration": 10,
    "start_time": "2021-12-24T17:33:12.678Z"
   },
   {
    "duration": 9,
    "start_time": "2021-12-24T17:33:12.691Z"
   },
   {
    "duration": 7,
    "start_time": "2021-12-24T17:33:12.702Z"
   },
   {
    "duration": 59,
    "start_time": "2021-12-24T17:33:12.711Z"
   },
   {
    "duration": 14,
    "start_time": "2021-12-24T17:33:12.773Z"
   },
   {
    "duration": 6,
    "start_time": "2021-12-24T17:33:12.789Z"
   },
   {
    "duration": 12,
    "start_time": "2021-12-24T17:33:12.798Z"
   },
   {
    "duration": 70,
    "start_time": "2021-12-24T17:33:12.812Z"
   },
   {
    "duration": 10,
    "start_time": "2021-12-24T17:33:12.884Z"
   },
   {
    "duration": 7,
    "start_time": "2021-12-24T17:33:12.897Z"
   },
   {
    "duration": 56,
    "start_time": "2021-12-24T17:33:12.907Z"
   },
   {
    "duration": 99,
    "start_time": "2021-12-24T17:33:12.966Z"
   },
   {
    "duration": 1271,
    "start_time": "2021-12-24T17:33:13.068Z"
   },
   {
    "duration": 137,
    "start_time": "2021-12-24T17:33:14.341Z"
   },
   {
    "duration": 1567,
    "start_time": "2021-12-24T17:33:39.369Z"
   },
   {
    "duration": 1621,
    "start_time": "2021-12-24T17:33:58.630Z"
   },
   {
    "duration": 4,
    "start_time": "2021-12-24T17:34:05.620Z"
   },
   {
    "duration": 65,
    "start_time": "2021-12-24T17:34:05.626Z"
   },
   {
    "duration": 11,
    "start_time": "2021-12-24T17:34:05.694Z"
   },
   {
    "duration": 10,
    "start_time": "2021-12-24T17:34:05.707Z"
   },
   {
    "duration": 49,
    "start_time": "2021-12-24T17:34:05.719Z"
   },
   {
    "duration": 11,
    "start_time": "2021-12-24T17:34:05.771Z"
   },
   {
    "duration": 32,
    "start_time": "2021-12-24T17:34:05.785Z"
   },
   {
    "duration": 10,
    "start_time": "2021-12-24T17:34:05.823Z"
   },
   {
    "duration": 40,
    "start_time": "2021-12-24T17:34:05.836Z"
   },
   {
    "duration": 13,
    "start_time": "2021-12-24T17:34:05.878Z"
   },
   {
    "duration": 12,
    "start_time": "2021-12-24T17:34:05.893Z"
   },
   {
    "duration": 60,
    "start_time": "2021-12-24T17:34:05.907Z"
   },
   {
    "duration": 17,
    "start_time": "2021-12-24T17:34:05.970Z"
   },
   {
    "duration": 16,
    "start_time": "2021-12-24T17:34:05.990Z"
   },
   {
    "duration": 62,
    "start_time": "2021-12-24T17:34:06.009Z"
   },
   {
    "duration": 16,
    "start_time": "2021-12-24T17:34:06.074Z"
   },
   {
    "duration": 10,
    "start_time": "2021-12-24T17:34:06.092Z"
   },
   {
    "duration": 12,
    "start_time": "2021-12-24T17:34:06.104Z"
   },
   {
    "duration": 147,
    "start_time": "2021-12-24T17:34:06.118Z"
   },
   {
    "duration": 1242,
    "start_time": "2021-12-24T17:34:06.270Z"
   },
   {
    "duration": 78,
    "start_time": "2021-12-24T17:34:07.515Z"
   },
   {
    "duration": 133,
    "start_time": "2021-12-24T17:34:07.595Z"
   },
   {
    "duration": 388,
    "start_time": "2021-12-24T18:12:21.651Z"
   },
   {
    "duration": 360,
    "start_time": "2021-12-24T18:12:36.086Z"
   },
   {
    "duration": 366,
    "start_time": "2021-12-24T18:13:11.228Z"
   },
   {
    "duration": 444,
    "start_time": "2021-12-24T18:13:44.386Z"
   },
   {
    "duration": 403,
    "start_time": "2021-12-24T18:13:49.924Z"
   },
   {
    "duration": 4,
    "start_time": "2021-12-24T18:16:55.998Z"
   },
   {
    "duration": 1456,
    "start_time": "2021-12-25T09:46:36.256Z"
   },
   {
    "duration": 5,
    "start_time": "2021-12-25T09:46:37.715Z"
   },
   {
    "duration": 72,
    "start_time": "2021-12-25T09:46:37.723Z"
   },
   {
    "duration": 14,
    "start_time": "2021-12-25T09:46:37.798Z"
   },
   {
    "duration": 10,
    "start_time": "2021-12-25T09:46:37.814Z"
   },
   {
    "duration": 47,
    "start_time": "2021-12-25T09:46:37.827Z"
   },
   {
    "duration": 9,
    "start_time": "2021-12-25T09:46:37.877Z"
   },
   {
    "duration": 18,
    "start_time": "2021-12-25T09:46:37.889Z"
   },
   {
    "duration": 14,
    "start_time": "2021-12-25T09:46:37.912Z"
   },
   {
    "duration": 42,
    "start_time": "2021-12-25T09:46:37.929Z"
   },
   {
    "duration": 12,
    "start_time": "2021-12-25T09:46:37.973Z"
   },
   {
    "duration": 12,
    "start_time": "2021-12-25T09:46:37.988Z"
   },
   {
    "duration": 13,
    "start_time": "2021-12-25T09:46:38.002Z"
   },
   {
    "duration": 8,
    "start_time": "2021-12-25T09:46:38.017Z"
   },
   {
    "duration": 45,
    "start_time": "2021-12-25T09:46:38.027Z"
   },
   {
    "duration": 23,
    "start_time": "2021-12-25T09:46:38.075Z"
   },
   {
    "duration": 12,
    "start_time": "2021-12-25T09:46:38.100Z"
   },
   {
    "duration": 8,
    "start_time": "2021-12-25T09:46:38.114Z"
   },
   {
    "duration": 49,
    "start_time": "2021-12-25T09:46:38.125Z"
   },
   {
    "duration": 96,
    "start_time": "2021-12-25T09:46:38.177Z"
   },
   {
    "duration": 1291,
    "start_time": "2021-12-25T09:46:38.277Z"
   },
   {
    "duration": 64,
    "start_time": "2021-12-25T09:46:39.571Z"
   },
   {
    "duration": 108,
    "start_time": "2021-12-25T09:46:39.637Z"
   },
   {
    "duration": 2709,
    "start_time": "2021-12-25T09:50:25.489Z"
   },
   {
    "duration": 2783,
    "start_time": "2021-12-25T09:56:18.203Z"
   },
   {
    "duration": 2502,
    "start_time": "2021-12-25T09:56:46.744Z"
   },
   {
    "duration": 2420,
    "start_time": "2021-12-25T09:57:23.139Z"
   },
   {
    "duration": 5,
    "start_time": "2021-12-25T10:02:14.757Z"
   },
   {
    "duration": 4,
    "start_time": "2021-12-25T10:10:12.909Z"
   },
   {
    "duration": 5,
    "start_time": "2021-12-25T10:10:12.916Z"
   },
   {
    "duration": 268,
    "start_time": "2021-12-25T10:10:12.925Z"
   },
   {
    "duration": 12,
    "start_time": "2021-12-25T10:10:13.196Z"
   },
   {
    "duration": 10,
    "start_time": "2021-12-25T10:10:13.210Z"
   },
   {
    "duration": 58,
    "start_time": "2021-12-25T10:10:13.222Z"
   },
   {
    "duration": 10,
    "start_time": "2021-12-25T10:10:13.283Z"
   },
   {
    "duration": 20,
    "start_time": "2021-12-25T10:10:13.296Z"
   },
   {
    "duration": 51,
    "start_time": "2021-12-25T10:10:13.321Z"
   },
   {
    "duration": 20,
    "start_time": "2021-12-25T10:10:13.377Z"
   },
   {
    "duration": 16,
    "start_time": "2021-12-25T10:10:13.400Z"
   },
   {
    "duration": 14,
    "start_time": "2021-12-25T10:10:13.418Z"
   },
   {
    "duration": 46,
    "start_time": "2021-12-25T10:10:13.435Z"
   },
   {
    "duration": 4,
    "start_time": "2021-12-25T10:10:13.485Z"
   },
   {
    "duration": 13,
    "start_time": "2021-12-25T10:10:13.492Z"
   },
   {
    "duration": 73,
    "start_time": "2021-12-25T10:10:13.507Z"
   },
   {
    "duration": 10,
    "start_time": "2021-12-25T10:10:13.583Z"
   },
   {
    "duration": 9,
    "start_time": "2021-12-25T10:10:13.599Z"
   },
   {
    "duration": 15,
    "start_time": "2021-12-25T10:10:13.610Z"
   },
   {
    "duration": 204,
    "start_time": "2021-12-25T10:10:13.667Z"
   },
   {
    "duration": 1345,
    "start_time": "2021-12-25T10:10:13.874Z"
   },
   {
    "duration": 101,
    "start_time": "2021-12-25T10:10:15.222Z"
   },
   {
    "duration": 88,
    "start_time": "2021-12-25T10:10:15.325Z"
   },
   {
    "duration": 47,
    "start_time": "2021-12-25T10:10:24.427Z"
   },
   {
    "duration": 515,
    "start_time": "2021-12-25T10:32:02.776Z"
   },
   {
    "duration": 70,
    "start_time": "2021-12-25T10:32:23.606Z"
   },
   {
    "duration": 95,
    "start_time": "2021-12-25T10:36:19.481Z"
   },
   {
    "duration": 179,
    "start_time": "2021-12-25T10:37:38.397Z"
   },
   {
    "duration": 5,
    "start_time": "2021-12-25T10:54:11.391Z"
   },
   {
    "duration": 5,
    "start_time": "2021-12-25T10:54:11.399Z"
   },
   {
    "duration": 59,
    "start_time": "2021-12-25T10:54:11.407Z"
   },
   {
    "duration": 16,
    "start_time": "2021-12-25T10:54:11.470Z"
   },
   {
    "duration": 11,
    "start_time": "2021-12-25T10:54:11.489Z"
   },
   {
    "duration": 13,
    "start_time": "2021-12-25T10:54:11.504Z"
   },
   {
    "duration": 13,
    "start_time": "2021-12-25T10:54:11.568Z"
   },
   {
    "duration": 21,
    "start_time": "2021-12-25T10:54:11.584Z"
   },
   {
    "duration": 59,
    "start_time": "2021-12-25T10:54:11.608Z"
   },
   {
    "duration": 15,
    "start_time": "2021-12-25T10:54:11.669Z"
   },
   {
    "duration": 7,
    "start_time": "2021-12-25T10:54:11.686Z"
   },
   {
    "duration": 13,
    "start_time": "2021-12-25T10:54:11.696Z"
   },
   {
    "duration": 61,
    "start_time": "2021-12-25T10:54:11.712Z"
   },
   {
    "duration": 5,
    "start_time": "2021-12-25T10:54:11.779Z"
   },
   {
    "duration": 16,
    "start_time": "2021-12-25T10:54:11.787Z"
   },
   {
    "duration": 25,
    "start_time": "2021-12-25T10:54:11.806Z"
   },
   {
    "duration": 14,
    "start_time": "2021-12-25T10:54:11.869Z"
   },
   {
    "duration": 7,
    "start_time": "2021-12-25T10:54:11.886Z"
   },
   {
    "duration": 12,
    "start_time": "2021-12-25T10:54:11.896Z"
   },
   {
    "duration": 173,
    "start_time": "2021-12-25T10:54:11.911Z"
   },
   {
    "duration": 92,
    "start_time": "2021-12-25T10:54:12.091Z"
   },
   {
    "duration": 1972,
    "start_time": "2021-12-25T10:54:12.186Z"
   },
   {
    "duration": -2028,
    "start_time": "2021-12-25T10:54:16.188Z"
   },
   {
    "duration": -2027,
    "start_time": "2021-12-25T10:54:16.189Z"
   },
   {
    "duration": 6,
    "start_time": "2021-12-25T10:54:41.219Z"
   },
   {
    "duration": 6,
    "start_time": "2021-12-25T10:54:41.229Z"
   },
   {
    "duration": 60,
    "start_time": "2021-12-25T10:54:41.239Z"
   },
   {
    "duration": 11,
    "start_time": "2021-12-25T10:54:41.302Z"
   },
   {
    "duration": 10,
    "start_time": "2021-12-25T10:54:41.315Z"
   },
   {
    "duration": 55,
    "start_time": "2021-12-25T10:54:41.327Z"
   },
   {
    "duration": 8,
    "start_time": "2021-12-25T10:54:41.384Z"
   },
   {
    "duration": 16,
    "start_time": "2021-12-25T10:54:41.395Z"
   },
   {
    "duration": 8,
    "start_time": "2021-12-25T10:54:41.416Z"
   },
   {
    "duration": 58,
    "start_time": "2021-12-25T10:54:41.427Z"
   },
   {
    "duration": 7,
    "start_time": "2021-12-25T10:54:41.488Z"
   },
   {
    "duration": 12,
    "start_time": "2021-12-25T10:54:41.497Z"
   },
   {
    "duration": 12,
    "start_time": "2021-12-25T10:54:41.512Z"
   },
   {
    "duration": 6,
    "start_time": "2021-12-25T10:54:41.568Z"
   },
   {
    "duration": 12,
    "start_time": "2021-12-25T10:54:41.579Z"
   },
   {
    "duration": 23,
    "start_time": "2021-12-25T10:54:41.593Z"
   },
   {
    "duration": 60,
    "start_time": "2021-12-25T10:54:41.618Z"
   },
   {
    "duration": 9,
    "start_time": "2021-12-25T10:54:41.685Z"
   },
   {
    "duration": 11,
    "start_time": "2021-12-25T10:54:41.696Z"
   },
   {
    "duration": 88,
    "start_time": "2021-12-25T10:54:41.709Z"
   },
   {
    "duration": 85,
    "start_time": "2021-12-25T10:54:41.800Z"
   },
   {
    "duration": 1196,
    "start_time": "2021-12-25T10:54:41.966Z"
   },
   {
    "duration": 71,
    "start_time": "2021-12-25T10:54:43.167Z"
   },
   {
    "duration": 95,
    "start_time": "2021-12-25T10:54:43.240Z"
   },
   {
    "duration": 129,
    "start_time": "2021-12-25T10:58:31.720Z"
   },
   {
    "duration": 168,
    "start_time": "2021-12-25T11:40:24.704Z"
   },
   {
    "duration": 257,
    "start_time": "2021-12-25T11:40:27.660Z"
   },
   {
    "duration": 4,
    "start_time": "2021-12-25T11:40:36.146Z"
   },
   {
    "duration": 12,
    "start_time": "2021-12-25T11:40:36.153Z"
   },
   {
    "duration": 51,
    "start_time": "2021-12-25T11:40:36.168Z"
   },
   {
    "duration": 13,
    "start_time": "2021-12-25T11:40:36.222Z"
   },
   {
    "duration": 36,
    "start_time": "2021-12-25T11:40:36.237Z"
   },
   {
    "duration": 15,
    "start_time": "2021-12-25T11:40:36.275Z"
   },
   {
    "duration": 9,
    "start_time": "2021-12-25T11:40:36.292Z"
   },
   {
    "duration": 66,
    "start_time": "2021-12-25T11:40:36.303Z"
   },
   {
    "duration": 9,
    "start_time": "2021-12-25T11:40:36.373Z"
   },
   {
    "duration": 10,
    "start_time": "2021-12-25T11:40:36.385Z"
   },
   {
    "duration": 7,
    "start_time": "2021-12-25T11:40:36.398Z"
   },
   {
    "duration": 59,
    "start_time": "2021-12-25T11:40:36.408Z"
   },
   {
    "duration": 13,
    "start_time": "2021-12-25T11:40:36.470Z"
   },
   {
    "duration": 5,
    "start_time": "2021-12-25T11:40:36.485Z"
   },
   {
    "duration": 16,
    "start_time": "2021-12-25T11:40:36.492Z"
   },
   {
    "duration": 68,
    "start_time": "2021-12-25T11:40:36.511Z"
   },
   {
    "duration": 10,
    "start_time": "2021-12-25T11:40:36.582Z"
   },
   {
    "duration": 8,
    "start_time": "2021-12-25T11:40:36.594Z"
   },
   {
    "duration": 12,
    "start_time": "2021-12-25T11:40:36.604Z"
   },
   {
    "duration": 257,
    "start_time": "2021-12-25T11:40:36.619Z"
   },
   {
    "duration": 9,
    "start_time": "2021-12-25T11:40:36.968Z"
   },
   {
    "duration": 1136,
    "start_time": "2021-12-25T11:40:36.979Z"
   },
   {
    "duration": 74,
    "start_time": "2021-12-25T11:40:38.117Z"
   },
   {
    "duration": 4,
    "start_time": "2021-12-25T13:39:16.843Z"
   },
   {
    "duration": 8,
    "start_time": "2021-12-25T13:39:16.849Z"
   },
   {
    "duration": 52,
    "start_time": "2021-12-25T13:39:16.860Z"
   },
   {
    "duration": 11,
    "start_time": "2021-12-25T13:39:16.915Z"
   },
   {
    "duration": 40,
    "start_time": "2021-12-25T13:39:16.928Z"
   },
   {
    "duration": 14,
    "start_time": "2021-12-25T13:39:16.971Z"
   },
   {
    "duration": 8,
    "start_time": "2021-12-25T13:39:16.987Z"
   },
   {
    "duration": 28,
    "start_time": "2021-12-25T13:39:16.998Z"
   },
   {
    "duration": 42,
    "start_time": "2021-12-25T13:39:17.031Z"
   },
   {
    "duration": 12,
    "start_time": "2021-12-25T13:39:17.077Z"
   },
   {
    "duration": 10,
    "start_time": "2021-12-25T13:39:17.092Z"
   },
   {
    "duration": 15,
    "start_time": "2021-12-25T13:39:17.104Z"
   },
   {
    "duration": 54,
    "start_time": "2021-12-25T13:39:17.122Z"
   },
   {
    "duration": 4,
    "start_time": "2021-12-25T13:39:17.179Z"
   },
   {
    "duration": 14,
    "start_time": "2021-12-25T13:39:17.186Z"
   },
   {
    "duration": 67,
    "start_time": "2021-12-25T13:39:17.202Z"
   },
   {
    "duration": 12,
    "start_time": "2021-12-25T13:39:17.271Z"
   },
   {
    "duration": 11,
    "start_time": "2021-12-25T13:39:17.285Z"
   },
   {
    "duration": 15,
    "start_time": "2021-12-25T13:39:17.299Z"
   },
   {
    "duration": 51,
    "start_time": "2021-12-25T13:39:17.316Z"
   },
   {
    "duration": 5,
    "start_time": "2021-12-25T13:39:17.370Z"
   },
   {
    "duration": 9,
    "start_time": "2021-12-25T13:39:17.378Z"
   },
   {
    "duration": 10,
    "start_time": "2021-12-25T13:39:17.390Z"
   },
   {
    "duration": 167,
    "start_time": "2021-12-25T13:39:17.402Z"
   },
   {
    "duration": 97,
    "start_time": "2021-12-25T13:39:17.572Z"
   },
   {
    "duration": 1197,
    "start_time": "2021-12-25T13:39:17.671Z"
   },
   {
    "duration": 64,
    "start_time": "2021-12-25T13:39:18.872Z"
   },
   {
    "duration": 4,
    "start_time": "2021-12-25T13:41:34.571Z"
   },
   {
    "duration": 15,
    "start_time": "2021-12-25T13:41:34.578Z"
   },
   {
    "duration": 52,
    "start_time": "2021-12-25T13:41:34.597Z"
   },
   {
    "duration": 12,
    "start_time": "2021-12-25T13:41:34.668Z"
   },
   {
    "duration": 18,
    "start_time": "2021-12-25T13:41:34.683Z"
   },
   {
    "duration": 9,
    "start_time": "2021-12-25T13:41:34.703Z"
   },
   {
    "duration": 59,
    "start_time": "2021-12-25T13:41:34.715Z"
   },
   {
    "duration": 8,
    "start_time": "2021-12-25T13:41:34.777Z"
   },
   {
    "duration": 22,
    "start_time": "2021-12-25T13:41:34.789Z"
   },
   {
    "duration": 53,
    "start_time": "2021-12-25T13:41:34.815Z"
   },
   {
    "duration": 9,
    "start_time": "2021-12-25T13:41:34.871Z"
   },
   {
    "duration": 9,
    "start_time": "2021-12-25T13:41:34.883Z"
   },
   {
    "duration": 17,
    "start_time": "2021-12-25T13:41:34.896Z"
   },
   {
    "duration": 60,
    "start_time": "2021-12-25T13:41:34.916Z"
   },
   {
    "duration": 6,
    "start_time": "2021-12-25T13:41:34.979Z"
   },
   {
    "duration": 18,
    "start_time": "2021-12-25T13:41:34.988Z"
   },
   {
    "duration": 59,
    "start_time": "2021-12-25T13:41:35.008Z"
   },
   {
    "duration": 10,
    "start_time": "2021-12-25T13:41:35.070Z"
   },
   {
    "duration": 8,
    "start_time": "2021-12-25T13:41:35.083Z"
   },
   {
    "duration": 12,
    "start_time": "2021-12-25T13:41:35.093Z"
   },
   {
    "duration": 8,
    "start_time": "2021-12-25T13:41:35.107Z"
   },
   {
    "duration": 54,
    "start_time": "2021-12-25T13:41:35.117Z"
   },
   {
    "duration": 8,
    "start_time": "2021-12-25T13:41:35.174Z"
   },
   {
    "duration": 12,
    "start_time": "2021-12-25T13:41:35.185Z"
   },
   {
    "duration": 171,
    "start_time": "2021-12-25T13:41:35.200Z"
   },
   {
    "duration": 99,
    "start_time": "2021-12-25T13:41:35.373Z"
   },
   {
    "duration": 1129,
    "start_time": "2021-12-25T13:41:35.477Z"
   },
   {
    "duration": 85,
    "start_time": "2021-12-25T13:41:36.609Z"
   },
   {
    "duration": 16,
    "start_time": "2021-12-25T13:41:48.918Z"
   },
   {
    "duration": 6,
    "start_time": "2021-12-25T13:41:52.987Z"
   },
   {
    "duration": 6,
    "start_time": "2021-12-25T13:41:52.997Z"
   },
   {
    "duration": 60,
    "start_time": "2021-12-25T13:41:53.007Z"
   },
   {
    "duration": 16,
    "start_time": "2021-12-25T13:41:53.071Z"
   },
   {
    "duration": 21,
    "start_time": "2021-12-25T13:41:53.090Z"
   },
   {
    "duration": 58,
    "start_time": "2021-12-25T13:41:53.114Z"
   },
   {
    "duration": 15,
    "start_time": "2021-12-25T13:41:53.174Z"
   },
   {
    "duration": 9,
    "start_time": "2021-12-25T13:41:53.192Z"
   },
   {
    "duration": 67,
    "start_time": "2021-12-25T13:41:53.204Z"
   },
   {
    "duration": 11,
    "start_time": "2021-12-25T13:41:53.274Z"
   },
   {
    "duration": 11,
    "start_time": "2021-12-25T13:41:53.288Z"
   },
   {
    "duration": 9,
    "start_time": "2021-12-25T13:41:53.301Z"
   },
   {
    "duration": 57,
    "start_time": "2021-12-25T13:41:53.313Z"
   },
   {
    "duration": 13,
    "start_time": "2021-12-25T13:41:53.372Z"
   },
   {
    "duration": 19,
    "start_time": "2021-12-25T13:41:53.387Z"
   },
   {
    "duration": 15,
    "start_time": "2021-12-25T13:41:53.409Z"
   },
   {
    "duration": 52,
    "start_time": "2021-12-25T13:41:53.427Z"
   },
   {
    "duration": 21,
    "start_time": "2021-12-25T13:41:53.482Z"
   },
   {
    "duration": 9,
    "start_time": "2021-12-25T13:41:53.506Z"
   },
   {
    "duration": 52,
    "start_time": "2021-12-25T13:41:53.518Z"
   },
   {
    "duration": 6,
    "start_time": "2021-12-25T13:41:53.573Z"
   },
   {
    "duration": 6,
    "start_time": "2021-12-25T13:41:53.582Z"
   },
   {
    "duration": 5,
    "start_time": "2021-12-25T13:41:53.593Z"
   },
   {
    "duration": 11,
    "start_time": "2021-12-25T13:41:53.601Z"
   },
   {
    "duration": 255,
    "start_time": "2021-12-25T13:41:53.615Z"
   },
   {
    "duration": 102,
    "start_time": "2021-12-25T13:41:53.873Z"
   },
   {
    "duration": 1150,
    "start_time": "2021-12-25T13:41:53.978Z"
   },
   {
    "duration": 85,
    "start_time": "2021-12-25T13:41:55.131Z"
   },
   {
    "duration": 6,
    "start_time": "2021-12-25T14:44:39.979Z"
   },
   {
    "duration": 14,
    "start_time": "2021-12-25T14:45:44.408Z"
   },
   {
    "duration": 8,
    "start_time": "2021-12-25T14:46:23.211Z"
   },
   {
    "duration": 9,
    "start_time": "2021-12-25T14:46:44.971Z"
   },
   {
    "duration": 6,
    "start_time": "2021-12-25T14:48:21.295Z"
   },
   {
    "duration": 5,
    "start_time": "2021-12-25T14:48:21.305Z"
   },
   {
    "duration": 55,
    "start_time": "2021-12-25T14:48:21.314Z"
   },
   {
    "duration": 18,
    "start_time": "2021-12-25T14:48:21.373Z"
   },
   {
    "duration": 22,
    "start_time": "2021-12-25T14:48:21.394Z"
   },
   {
    "duration": 51,
    "start_time": "2021-12-25T14:48:21.418Z"
   },
   {
    "duration": 15,
    "start_time": "2021-12-25T14:48:21.471Z"
   },
   {
    "duration": 8,
    "start_time": "2021-12-25T14:48:21.488Z"
   },
   {
    "duration": 19,
    "start_time": "2021-12-25T14:48:21.501Z"
   },
   {
    "duration": 51,
    "start_time": "2021-12-25T14:48:21.523Z"
   },
   {
    "duration": 11,
    "start_time": "2021-12-25T14:48:21.576Z"
   },
   {
    "duration": 10,
    "start_time": "2021-12-25T14:48:21.589Z"
   },
   {
    "duration": 16,
    "start_time": "2021-12-25T14:48:21.601Z"
   },
   {
    "duration": 58,
    "start_time": "2021-12-25T14:48:21.619Z"
   },
   {
    "duration": 6,
    "start_time": "2021-12-25T14:48:21.679Z"
   },
   {
    "duration": 12,
    "start_time": "2021-12-25T14:48:21.687Z"
   },
   {
    "duration": 23,
    "start_time": "2021-12-25T14:48:21.701Z"
   },
   {
    "duration": 49,
    "start_time": "2021-12-25T14:48:21.726Z"
   },
   {
    "duration": 9,
    "start_time": "2021-12-25T14:48:21.778Z"
   },
   {
    "duration": 15,
    "start_time": "2021-12-25T14:48:21.789Z"
   },
   {
    "duration": 6,
    "start_time": "2021-12-25T14:48:21.807Z"
   },
   {
    "duration": 55,
    "start_time": "2021-12-25T14:48:21.816Z"
   },
   {
    "duration": 11,
    "start_time": "2021-12-25T14:48:21.873Z"
   },
   {
    "duration": 8,
    "start_time": "2021-12-25T14:48:21.887Z"
   },
   {
    "duration": 173,
    "start_time": "2021-12-25T14:48:21.897Z"
   },
   {
    "duration": 100,
    "start_time": "2021-12-25T14:48:22.073Z"
   },
   {
    "duration": 1142,
    "start_time": "2021-12-25T14:48:22.177Z"
   },
   {
    "duration": 78,
    "start_time": "2021-12-25T14:48:23.322Z"
   },
   {
    "duration": 8,
    "start_time": "2021-12-25T14:48:23.403Z"
   },
   {
    "duration": 285,
    "start_time": "2021-12-25T14:48:23.414Z"
   },
   {
    "duration": 10,
    "start_time": "2021-12-25T14:50:11.108Z"
   },
   {
    "duration": 19,
    "start_time": "2021-12-25T14:50:13.353Z"
   },
   {
    "duration": 9,
    "start_time": "2021-12-25T14:53:13.610Z"
   },
   {
    "duration": 11,
    "start_time": "2021-12-25T14:54:01.413Z"
   },
   {
    "duration": 19,
    "start_time": "2021-12-25T14:54:03.166Z"
   },
   {
    "duration": 8,
    "start_time": "2021-12-25T14:54:05.355Z"
   },
   {
    "duration": 5,
    "start_time": "2021-12-25T14:54:09.662Z"
   },
   {
    "duration": 14,
    "start_time": "2021-12-25T14:54:09.670Z"
   },
   {
    "duration": 57,
    "start_time": "2021-12-25T14:54:09.688Z"
   },
   {
    "duration": 28,
    "start_time": "2021-12-25T14:54:09.748Z"
   },
   {
    "duration": 20,
    "start_time": "2021-12-25T14:54:09.779Z"
   },
   {
    "duration": 12,
    "start_time": "2021-12-25T14:54:09.803Z"
   },
   {
    "duration": 66,
    "start_time": "2021-12-25T14:54:09.818Z"
   },
   {
    "duration": 9,
    "start_time": "2021-12-25T14:54:09.888Z"
   },
   {
    "duration": 20,
    "start_time": "2021-12-25T14:54:09.902Z"
   },
   {
    "duration": 47,
    "start_time": "2021-12-25T14:54:09.926Z"
   },
   {
    "duration": 13,
    "start_time": "2021-12-25T14:54:09.976Z"
   },
   {
    "duration": 9,
    "start_time": "2021-12-25T14:54:09.991Z"
   },
   {
    "duration": 14,
    "start_time": "2021-12-25T14:54:10.002Z"
   },
   {
    "duration": 13,
    "start_time": "2021-12-25T14:54:10.068Z"
   },
   {
    "duration": 5,
    "start_time": "2021-12-25T14:54:10.083Z"
   },
   {
    "duration": 17,
    "start_time": "2021-12-25T14:54:10.090Z"
   },
   {
    "duration": 63,
    "start_time": "2021-12-25T14:54:10.110Z"
   },
   {
    "duration": 12,
    "start_time": "2021-12-25T14:54:10.175Z"
   },
   {
    "duration": 9,
    "start_time": "2021-12-25T14:54:10.190Z"
   },
   {
    "duration": 11,
    "start_time": "2021-12-25T14:54:10.201Z"
   },
   {
    "duration": 6,
    "start_time": "2021-12-25T14:54:10.215Z"
   },
   {
    "duration": 5,
    "start_time": "2021-12-25T14:54:10.268Z"
   },
   {
    "duration": 14,
    "start_time": "2021-12-25T14:54:10.275Z"
   },
   {
    "duration": 6,
    "start_time": "2021-12-25T14:54:10.292Z"
   },
   {
    "duration": 173,
    "start_time": "2021-12-25T14:54:10.301Z"
   },
   {
    "duration": 93,
    "start_time": "2021-12-25T14:54:10.477Z"
   },
   {
    "duration": 1199,
    "start_time": "2021-12-25T14:54:10.577Z"
   },
   {
    "duration": 62,
    "start_time": "2021-12-25T14:54:11.779Z"
   },
   {
    "duration": 28,
    "start_time": "2021-12-25T14:54:11.844Z"
   },
   {
    "duration": 12,
    "start_time": "2021-12-25T14:54:11.874Z"
   },
   {
    "duration": 28,
    "start_time": "2021-12-25T14:54:11.888Z"
   },
   {
    "duration": 8,
    "start_time": "2021-12-25T14:54:11.918Z"
   },
   {
    "duration": 4,
    "start_time": "2021-12-25T14:55:37.456Z"
   },
   {
    "duration": 9,
    "start_time": "2021-12-25T14:56:55.198Z"
   },
   {
    "duration": 11,
    "start_time": "2021-12-25T14:56:59.722Z"
   },
   {
    "duration": 20,
    "start_time": "2021-12-25T14:57:03.397Z"
   },
   {
    "duration": 9,
    "start_time": "2021-12-25T14:57:04.600Z"
   },
   {
    "duration": 14,
    "start_time": "2021-12-25T15:07:02.067Z"
   },
   {
    "duration": 5,
    "start_time": "2021-12-25T15:12:47.608Z"
   },
   {
    "duration": 316,
    "start_time": "2021-12-25T15:18:31.482Z"
   },
   {
    "duration": 326,
    "start_time": "2021-12-25T15:19:56.292Z"
   },
   {
    "duration": 5,
    "start_time": "2021-12-25T15:22:11.844Z"
   },
   {
    "duration": 7,
    "start_time": "2021-12-25T15:22:11.852Z"
   },
   {
    "duration": 55,
    "start_time": "2021-12-25T15:22:11.862Z"
   },
   {
    "duration": 11,
    "start_time": "2021-12-25T15:22:11.920Z"
   },
   {
    "duration": 48,
    "start_time": "2021-12-25T15:22:11.934Z"
   },
   {
    "duration": 11,
    "start_time": "2021-12-25T15:22:11.984Z"
   },
   {
    "duration": 15,
    "start_time": "2021-12-25T15:22:11.998Z"
   },
   {
    "duration": 55,
    "start_time": "2021-12-25T15:22:12.015Z"
   },
   {
    "duration": 19,
    "start_time": "2021-12-25T15:22:12.074Z"
   },
   {
    "duration": 9,
    "start_time": "2021-12-25T15:22:12.097Z"
   },
   {
    "duration": 21,
    "start_time": "2021-12-25T15:22:12.108Z"
   },
   {
    "duration": 41,
    "start_time": "2021-12-25T15:22:12.131Z"
   },
   {
    "duration": 19,
    "start_time": "2021-12-25T15:22:12.174Z"
   },
   {
    "duration": 14,
    "start_time": "2021-12-25T15:22:12.196Z"
   },
   {
    "duration": 8,
    "start_time": "2021-12-25T15:22:12.212Z"
   },
   {
    "duration": 52,
    "start_time": "2021-12-25T15:22:12.222Z"
   },
   {
    "duration": 29,
    "start_time": "2021-12-25T15:22:12.276Z"
   },
   {
    "duration": 11,
    "start_time": "2021-12-25T15:22:12.308Z"
   },
   {
    "duration": 49,
    "start_time": "2021-12-25T15:22:12.322Z"
   },
   {
    "duration": 12,
    "start_time": "2021-12-25T15:22:12.374Z"
   },
   {
    "duration": 5,
    "start_time": "2021-12-25T15:22:12.389Z"
   },
   {
    "duration": 7,
    "start_time": "2021-12-25T15:22:12.397Z"
   },
   {
    "duration": 59,
    "start_time": "2021-12-25T15:22:12.407Z"
   },
   {
    "duration": 4,
    "start_time": "2021-12-25T15:22:12.469Z"
   },
   {
    "duration": 194,
    "start_time": "2021-12-25T15:22:12.475Z"
   },
   {
    "duration": 97,
    "start_time": "2021-12-25T15:22:12.672Z"
   },
   {
    "duration": 1276,
    "start_time": "2021-12-25T15:22:12.775Z"
   },
   {
    "duration": 66,
    "start_time": "2021-12-25T15:22:14.054Z"
   },
   {
    "duration": 8,
    "start_time": "2021-12-25T15:22:14.122Z"
   },
   {
    "duration": 13,
    "start_time": "2021-12-25T15:22:14.132Z"
   },
   {
    "duration": 27,
    "start_time": "2021-12-25T15:22:14.148Z"
   },
   {
    "duration": 10,
    "start_time": "2021-12-25T15:22:14.178Z"
   },
   {
    "duration": 20,
    "start_time": "2021-12-25T15:22:14.191Z"
   },
   {
    "duration": 285,
    "start_time": "2021-12-25T15:30:36.690Z"
   },
   {
    "duration": 6,
    "start_time": "2021-12-25T15:33:06.115Z"
   },
   {
    "duration": 11,
    "start_time": "2021-12-25T15:33:06.124Z"
   },
   {
    "duration": 53,
    "start_time": "2021-12-25T15:33:06.139Z"
   },
   {
    "duration": 12,
    "start_time": "2021-12-25T15:33:06.194Z"
   },
   {
    "duration": 21,
    "start_time": "2021-12-25T15:33:06.208Z"
   },
   {
    "duration": 39,
    "start_time": "2021-12-25T15:33:06.231Z"
   },
   {
    "duration": 15,
    "start_time": "2021-12-25T15:33:06.273Z"
   },
   {
    "duration": 9,
    "start_time": "2021-12-25T15:33:06.291Z"
   },
   {
    "duration": 62,
    "start_time": "2021-12-25T15:33:06.305Z"
   },
   {
    "duration": 9,
    "start_time": "2021-12-25T15:33:06.371Z"
   },
   {
    "duration": 11,
    "start_time": "2021-12-25T15:33:06.383Z"
   },
   {
    "duration": 12,
    "start_time": "2021-12-25T15:33:06.397Z"
   },
   {
    "duration": 56,
    "start_time": "2021-12-25T15:33:06.412Z"
   },
   {
    "duration": 13,
    "start_time": "2021-12-25T15:33:06.471Z"
   },
   {
    "duration": 8,
    "start_time": "2021-12-25T15:33:06.487Z"
   },
   {
    "duration": 14,
    "start_time": "2021-12-25T15:33:06.498Z"
   },
   {
    "duration": 61,
    "start_time": "2021-12-25T15:33:06.514Z"
   },
   {
    "duration": 11,
    "start_time": "2021-12-25T15:33:06.577Z"
   },
   {
    "duration": 8,
    "start_time": "2021-12-25T15:33:06.591Z"
   },
   {
    "duration": 16,
    "start_time": "2021-12-25T15:33:06.601Z"
   },
   {
    "duration": 50,
    "start_time": "2021-12-25T15:33:06.619Z"
   },
   {
    "duration": 5,
    "start_time": "2021-12-25T15:33:06.671Z"
   },
   {
    "duration": 8,
    "start_time": "2021-12-25T15:33:06.679Z"
   },
   {
    "duration": 16,
    "start_time": "2021-12-25T15:33:06.691Z"
   },
   {
    "duration": 161,
    "start_time": "2021-12-25T15:33:06.710Z"
   },
   {
    "duration": 100,
    "start_time": "2021-12-25T15:33:06.876Z"
   },
   {
    "duration": 1139,
    "start_time": "2021-12-25T15:33:06.980Z"
   },
   {
    "duration": 81,
    "start_time": "2021-12-25T15:33:08.121Z"
   },
   {
    "duration": 8,
    "start_time": "2021-12-25T15:33:08.205Z"
   },
   {
    "duration": 11,
    "start_time": "2021-12-25T15:33:08.215Z"
   },
   {
    "duration": 52,
    "start_time": "2021-12-25T15:33:08.228Z"
   },
   {
    "duration": 8,
    "start_time": "2021-12-25T15:33:08.283Z"
   },
   {
    "duration": 14,
    "start_time": "2021-12-25T15:33:08.293Z"
   },
   {
    "duration": 4,
    "start_time": "2021-12-25T15:38:03.249Z"
   },
   {
    "duration": 7,
    "start_time": "2021-12-25T15:38:03.256Z"
   },
   {
    "duration": 54,
    "start_time": "2021-12-25T15:38:03.266Z"
   },
   {
    "duration": 12,
    "start_time": "2021-12-25T15:38:03.322Z"
   },
   {
    "duration": 41,
    "start_time": "2021-12-25T15:38:03.337Z"
   },
   {
    "duration": 11,
    "start_time": "2021-12-25T15:38:03.381Z"
   },
   {
    "duration": 16,
    "start_time": "2021-12-25T15:38:03.394Z"
   },
   {
    "duration": 54,
    "start_time": "2021-12-25T15:38:03.414Z"
   },
   {
    "duration": 20,
    "start_time": "2021-12-25T15:38:03.471Z"
   },
   {
    "duration": 12,
    "start_time": "2021-12-25T15:38:03.494Z"
   },
   {
    "duration": 11,
    "start_time": "2021-12-25T15:38:03.509Z"
   },
   {
    "duration": 49,
    "start_time": "2021-12-25T15:38:03.523Z"
   },
   {
    "duration": 20,
    "start_time": "2021-12-25T15:38:03.575Z"
   },
   {
    "duration": 14,
    "start_time": "2021-12-25T15:38:03.597Z"
   },
   {
    "duration": 5,
    "start_time": "2021-12-25T15:38:03.614Z"
   },
   {
    "duration": 48,
    "start_time": "2021-12-25T15:38:03.621Z"
   },
   {
    "duration": 21,
    "start_time": "2021-12-25T15:38:03.672Z"
   },
   {
    "duration": 11,
    "start_time": "2021-12-25T15:38:03.696Z"
   },
   {
    "duration": 58,
    "start_time": "2021-12-25T15:38:03.709Z"
   },
   {
    "duration": 12,
    "start_time": "2021-12-25T15:38:03.770Z"
   },
   {
    "duration": 11,
    "start_time": "2021-12-25T15:38:03.784Z"
   },
   {
    "duration": 8,
    "start_time": "2021-12-25T15:38:03.801Z"
   },
   {
    "duration": 19,
    "start_time": "2021-12-25T15:38:03.811Z"
   },
   {
    "duration": 38,
    "start_time": "2021-12-25T15:38:03.832Z"
   },
   {
    "duration": 193,
    "start_time": "2021-12-25T15:38:03.873Z"
   },
   {
    "duration": 99,
    "start_time": "2021-12-25T15:38:04.070Z"
   },
   {
    "duration": 1138,
    "start_time": "2021-12-25T15:38:04.172Z"
   },
   {
    "duration": 80,
    "start_time": "2021-12-25T15:38:05.312Z"
   },
   {
    "duration": 7,
    "start_time": "2021-12-25T15:38:05.394Z"
   },
   {
    "duration": 12,
    "start_time": "2021-12-25T15:38:05.404Z"
   },
   {
    "duration": 49,
    "start_time": "2021-12-25T15:38:05.419Z"
   },
   {
    "duration": 8,
    "start_time": "2021-12-25T15:38:05.471Z"
   },
   {
    "duration": 8,
    "start_time": "2021-12-25T15:38:05.481Z"
   },
   {
    "duration": 12,
    "start_time": "2021-12-25T15:38:05.492Z"
   },
   {
    "duration": 5,
    "start_time": "2021-12-25T15:41:23.152Z"
   },
   {
    "duration": 13,
    "start_time": "2021-12-25T15:41:23.159Z"
   },
   {
    "duration": 50,
    "start_time": "2021-12-25T15:41:23.176Z"
   },
   {
    "duration": 41,
    "start_time": "2021-12-25T15:41:23.229Z"
   },
   {
    "duration": 18,
    "start_time": "2021-12-25T15:41:23.272Z"
   },
   {
    "duration": 9,
    "start_time": "2021-12-25T15:41:23.292Z"
   },
   {
    "duration": 17,
    "start_time": "2021-12-25T15:41:23.303Z"
   },
   {
    "duration": 50,
    "start_time": "2021-12-25T15:41:23.322Z"
   },
   {
    "duration": 18,
    "start_time": "2021-12-25T15:41:23.375Z"
   },
   {
    "duration": 11,
    "start_time": "2021-12-25T15:41:23.396Z"
   },
   {
    "duration": 59,
    "start_time": "2021-12-25T15:41:23.410Z"
   },
   {
    "duration": 14,
    "start_time": "2021-12-25T15:41:23.471Z"
   },
   {
    "duration": 16,
    "start_time": "2021-12-25T15:41:23.488Z"
   },
   {
    "duration": 17,
    "start_time": "2021-12-25T15:41:23.508Z"
   },
   {
    "duration": 43,
    "start_time": "2021-12-25T15:41:23.527Z"
   },
   {
    "duration": 15,
    "start_time": "2021-12-25T15:41:23.573Z"
   },
   {
    "duration": 25,
    "start_time": "2021-12-25T15:41:23.590Z"
   },
   {
    "duration": 52,
    "start_time": "2021-12-25T15:41:23.617Z"
   },
   {
    "duration": 9,
    "start_time": "2021-12-25T15:41:23.672Z"
   },
   {
    "duration": 14,
    "start_time": "2021-12-25T15:41:23.684Z"
   },
   {
    "duration": 6,
    "start_time": "2021-12-25T15:41:23.700Z"
   },
   {
    "duration": 7,
    "start_time": "2021-12-25T15:41:23.708Z"
   },
   {
    "duration": 53,
    "start_time": "2021-12-25T15:41:23.718Z"
   },
   {
    "duration": 8,
    "start_time": "2021-12-25T15:41:23.773Z"
   },
   {
    "duration": 91,
    "start_time": "2021-12-25T15:41:23.783Z"
   },
   {
    "duration": 96,
    "start_time": "2021-12-25T15:41:23.876Z"
   },
   {
    "duration": 1231,
    "start_time": "2021-12-25T15:41:23.981Z"
   },
   {
    "duration": 88,
    "start_time": "2021-12-25T15:41:25.216Z"
   },
   {
    "duration": 8,
    "start_time": "2021-12-25T15:41:25.307Z"
   },
   {
    "duration": 12,
    "start_time": "2021-12-25T15:41:25.317Z"
   },
   {
    "duration": 49,
    "start_time": "2021-12-25T15:41:25.332Z"
   },
   {
    "duration": 9,
    "start_time": "2021-12-25T15:41:25.384Z"
   },
   {
    "duration": 13,
    "start_time": "2021-12-25T15:41:25.395Z"
   },
   {
    "duration": 61,
    "start_time": "2021-12-25T15:41:25.411Z"
   },
   {
    "duration": 5,
    "start_time": "2021-12-25T15:57:59.277Z"
   },
   {
    "duration": 11,
    "start_time": "2021-12-25T15:57:59.285Z"
   },
   {
    "duration": 95,
    "start_time": "2021-12-25T15:57:59.300Z"
   },
   {
    "duration": 16,
    "start_time": "2021-12-25T15:57:59.399Z"
   },
   {
    "duration": 51,
    "start_time": "2021-12-25T15:57:59.417Z"
   },
   {
    "duration": 11,
    "start_time": "2021-12-25T15:57:59.471Z"
   },
   {
    "duration": 31,
    "start_time": "2021-12-25T15:57:59.485Z"
   },
   {
    "duration": 8,
    "start_time": "2021-12-25T15:57:59.518Z"
   },
   {
    "duration": 55,
    "start_time": "2021-12-25T15:57:59.529Z"
   },
   {
    "duration": 10,
    "start_time": "2021-12-25T15:57:59.586Z"
   },
   {
    "duration": 18,
    "start_time": "2021-12-25T15:57:59.600Z"
   },
   {
    "duration": 53,
    "start_time": "2021-12-25T15:57:59.621Z"
   },
   {
    "duration": 18,
    "start_time": "2021-12-25T15:57:59.677Z"
   },
   {
    "duration": 15,
    "start_time": "2021-12-25T15:57:59.701Z"
   },
   {
    "duration": 51,
    "start_time": "2021-12-25T15:57:59.719Z"
   },
   {
    "duration": 15,
    "start_time": "2021-12-25T15:57:59.772Z"
   },
   {
    "duration": 77,
    "start_time": "2021-12-25T15:57:59.790Z"
   },
   {
    "duration": 12,
    "start_time": "2021-12-25T15:57:59.870Z"
   },
   {
    "duration": 11,
    "start_time": "2021-12-25T15:57:59.885Z"
   },
   {
    "duration": 23,
    "start_time": "2021-12-25T15:57:59.899Z"
   },
   {
    "duration": 44,
    "start_time": "2021-12-25T15:57:59.925Z"
   },
   {
    "duration": 9,
    "start_time": "2021-12-25T15:57:59.972Z"
   },
   {
    "duration": 10,
    "start_time": "2021-12-25T15:57:59.984Z"
   },
   {
    "duration": 28,
    "start_time": "2021-12-25T15:57:59.996Z"
   },
   {
    "duration": 143,
    "start_time": "2021-12-25T15:58:00.027Z"
   },
   {
    "duration": 97,
    "start_time": "2021-12-25T15:58:00.172Z"
   },
   {
    "duration": 1156,
    "start_time": "2021-12-25T15:58:00.273Z"
   },
   {
    "duration": 86,
    "start_time": "2021-12-25T15:58:01.433Z"
   },
   {
    "duration": 8,
    "start_time": "2021-12-25T15:58:01.521Z"
   },
   {
    "duration": 39,
    "start_time": "2021-12-25T15:58:01.532Z"
   },
   {
    "duration": 54,
    "start_time": "2021-12-25T15:58:01.573Z"
   },
   {
    "duration": 31,
    "start_time": "2021-12-25T15:58:01.629Z"
   },
   {
    "duration": 23,
    "start_time": "2021-12-25T15:58:01.663Z"
   },
   {
    "duration": 42,
    "start_time": "2021-12-25T15:58:01.689Z"
   },
   {
    "duration": 285,
    "start_time": "2021-12-25T16:11:23.275Z"
   },
   {
    "duration": 5,
    "start_time": "2021-12-25T16:21:25.642Z"
   },
   {
    "duration": 8,
    "start_time": "2021-12-25T16:21:25.650Z"
   },
   {
    "duration": 72,
    "start_time": "2021-12-25T16:21:25.663Z"
   },
   {
    "duration": 33,
    "start_time": "2021-12-25T16:21:25.737Z"
   },
   {
    "duration": 17,
    "start_time": "2021-12-25T16:21:25.773Z"
   },
   {
    "duration": 10,
    "start_time": "2021-12-25T16:21:25.793Z"
   },
   {
    "duration": 68,
    "start_time": "2021-12-25T16:21:25.805Z"
   },
   {
    "duration": 10,
    "start_time": "2021-12-25T16:21:25.877Z"
   },
   {
    "duration": 25,
    "start_time": "2021-12-25T16:21:25.893Z"
   },
   {
    "duration": 55,
    "start_time": "2021-12-25T16:21:25.921Z"
   },
   {
    "duration": 10,
    "start_time": "2021-12-25T16:21:25.978Z"
   },
   {
    "duration": 9,
    "start_time": "2021-12-25T16:21:25.991Z"
   },
   {
    "duration": 12,
    "start_time": "2021-12-25T16:21:26.002Z"
   },
   {
    "duration": 15,
    "start_time": "2021-12-25T16:21:26.068Z"
   },
   {
    "duration": 5,
    "start_time": "2021-12-25T16:21:26.085Z"
   },
   {
    "duration": 16,
    "start_time": "2021-12-25T16:21:26.092Z"
   },
   {
    "duration": 61,
    "start_time": "2021-12-25T16:21:26.111Z"
   },
   {
    "duration": 12,
    "start_time": "2021-12-25T16:21:26.174Z"
   },
   {
    "duration": 8,
    "start_time": "2021-12-25T16:21:26.189Z"
   },
   {
    "duration": 11,
    "start_time": "2021-12-25T16:21:26.199Z"
   },
   {
    "duration": 58,
    "start_time": "2021-12-25T16:21:26.213Z"
   },
   {
    "duration": 6,
    "start_time": "2021-12-25T16:21:26.276Z"
   },
   {
    "duration": 6,
    "start_time": "2021-12-25T16:21:26.285Z"
   },
   {
    "duration": 9,
    "start_time": "2021-12-25T16:21:26.294Z"
   },
   {
    "duration": 161,
    "start_time": "2021-12-25T16:21:26.306Z"
   },
   {
    "duration": 97,
    "start_time": "2021-12-25T16:21:26.471Z"
   },
   {
    "duration": 1180,
    "start_time": "2021-12-25T16:21:26.571Z"
   },
   {
    "duration": 90,
    "start_time": "2021-12-25T16:21:27.753Z"
   },
   {
    "duration": 29,
    "start_time": "2021-12-25T16:21:27.846Z"
   },
   {
    "duration": 15,
    "start_time": "2021-12-25T16:21:27.878Z"
   },
   {
    "duration": 22,
    "start_time": "2021-12-25T16:21:27.896Z"
   },
   {
    "duration": 56,
    "start_time": "2021-12-25T16:21:27.921Z"
   },
   {
    "duration": 11,
    "start_time": "2021-12-25T16:21:27.980Z"
   },
   {
    "duration": 14,
    "start_time": "2021-12-25T16:21:27.994Z"
   },
   {
    "duration": 319,
    "start_time": "2021-12-25T16:21:28.010Z"
   },
   {
    "duration": 288,
    "start_time": "2021-12-25T16:22:04.982Z"
   },
   {
    "duration": 2598,
    "start_time": "2021-12-25T16:22:15.218Z"
   },
   {
    "duration": 22388,
    "start_time": "2021-12-25T16:22:49.340Z"
   },
   {
    "duration": 6,
    "start_time": "2021-12-25T16:26:37.704Z"
   },
   {
    "duration": 5,
    "start_time": "2021-12-25T16:26:41.328Z"
   },
   {
    "duration": 11,
    "start_time": "2021-12-25T16:26:41.336Z"
   },
   {
    "duration": 57,
    "start_time": "2021-12-25T16:26:41.350Z"
   },
   {
    "duration": 18,
    "start_time": "2021-12-25T16:26:41.410Z"
   },
   {
    "duration": 52,
    "start_time": "2021-12-25T16:26:41.431Z"
   },
   {
    "duration": 12,
    "start_time": "2021-12-25T16:26:41.486Z"
   },
   {
    "duration": 16,
    "start_time": "2021-12-25T16:26:41.502Z"
   },
   {
    "duration": 9,
    "start_time": "2021-12-25T16:26:41.569Z"
   },
   {
    "duration": 21,
    "start_time": "2021-12-25T16:26:41.583Z"
   },
   {
    "duration": 9,
    "start_time": "2021-12-25T16:26:41.606Z"
   },
   {
    "duration": 53,
    "start_time": "2021-12-25T16:26:41.618Z"
   },
   {
    "duration": 9,
    "start_time": "2021-12-25T16:26:41.674Z"
   },
   {
    "duration": 17,
    "start_time": "2021-12-25T16:26:41.686Z"
   },
   {
    "duration": 65,
    "start_time": "2021-12-25T16:26:41.705Z"
   },
   {
    "duration": 4,
    "start_time": "2021-12-25T16:26:41.773Z"
   },
   {
    "duration": 14,
    "start_time": "2021-12-25T16:26:41.780Z"
   },
   {
    "duration": 22,
    "start_time": "2021-12-25T16:26:41.797Z"
   },
   {
    "duration": 50,
    "start_time": "2021-12-25T16:26:41.821Z"
   },
   {
    "duration": 11,
    "start_time": "2021-12-25T16:26:41.874Z"
   },
   {
    "duration": 17,
    "start_time": "2021-12-25T16:26:41.889Z"
   },
   {
    "duration": 62,
    "start_time": "2021-12-25T16:26:41.909Z"
   },
   {
    "duration": 7,
    "start_time": "2021-12-25T16:26:41.974Z"
   },
   {
    "duration": 7,
    "start_time": "2021-12-25T16:26:41.988Z"
   },
   {
    "duration": 7,
    "start_time": "2021-12-25T16:26:41.998Z"
   },
   {
    "duration": 263,
    "start_time": "2021-12-25T16:26:42.007Z"
   },
   {
    "duration": 99,
    "start_time": "2021-12-25T16:26:42.273Z"
   },
   {
    "duration": 1328,
    "start_time": "2021-12-25T16:26:42.375Z"
   },
   {
    "duration": 100,
    "start_time": "2021-12-25T16:26:43.706Z"
   },
   {
    "duration": 10,
    "start_time": "2021-12-25T16:26:43.809Z"
   },
   {
    "duration": 45,
    "start_time": "2021-12-25T16:26:43.822Z"
   },
   {
    "duration": 26,
    "start_time": "2021-12-25T16:26:43.870Z"
   },
   {
    "duration": 10,
    "start_time": "2021-12-25T16:26:43.899Z"
   },
   {
    "duration": 10,
    "start_time": "2021-12-25T16:26:43.912Z"
   },
   {
    "duration": 55,
    "start_time": "2021-12-25T16:26:43.925Z"
   },
   {
    "duration": 283,
    "start_time": "2021-12-25T16:26:43.983Z"
   },
   {
    "duration": 266,
    "start_time": "2021-12-25T16:30:08.593Z"
   },
   {
    "duration": 5,
    "start_time": "2021-12-25T16:30:12.189Z"
   },
   {
    "duration": 7,
    "start_time": "2021-12-25T16:30:12.197Z"
   },
   {
    "duration": 71,
    "start_time": "2021-12-25T16:30:12.207Z"
   },
   {
    "duration": 13,
    "start_time": "2021-12-25T16:30:12.280Z"
   },
   {
    "duration": 17,
    "start_time": "2021-12-25T16:30:12.296Z"
   },
   {
    "duration": 62,
    "start_time": "2021-12-25T16:30:12.316Z"
   },
   {
    "duration": 15,
    "start_time": "2021-12-25T16:30:12.381Z"
   },
   {
    "duration": 10,
    "start_time": "2021-12-25T16:30:12.399Z"
   },
   {
    "duration": 57,
    "start_time": "2021-12-25T16:30:12.412Z"
   },
   {
    "duration": 12,
    "start_time": "2021-12-25T16:30:12.472Z"
   },
   {
    "duration": 11,
    "start_time": "2021-12-25T16:30:12.487Z"
   },
   {
    "duration": 8,
    "start_time": "2021-12-25T16:30:12.501Z"
   },
   {
    "duration": 55,
    "start_time": "2021-12-25T16:30:12.512Z"
   },
   {
    "duration": 13,
    "start_time": "2021-12-25T16:30:12.569Z"
   },
   {
    "duration": 6,
    "start_time": "2021-12-25T16:30:12.584Z"
   },
   {
    "duration": 17,
    "start_time": "2021-12-25T16:30:12.593Z"
   },
   {
    "duration": 66,
    "start_time": "2021-12-25T16:30:12.613Z"
   },
   {
    "duration": 11,
    "start_time": "2021-12-25T16:30:12.681Z"
   },
   {
    "duration": 8,
    "start_time": "2021-12-25T16:30:12.695Z"
   },
   {
    "duration": 62,
    "start_time": "2021-12-25T16:30:12.707Z"
   },
   {
    "duration": 6,
    "start_time": "2021-12-25T16:30:12.772Z"
   },
   {
    "duration": 5,
    "start_time": "2021-12-25T16:30:12.783Z"
   },
   {
    "duration": 8,
    "start_time": "2021-12-25T16:30:12.790Z"
   },
   {
    "duration": 10,
    "start_time": "2021-12-25T16:30:12.800Z"
   },
   {
    "duration": 267,
    "start_time": "2021-12-25T16:30:12.812Z"
   },
   {
    "duration": 315,
    "start_time": "2021-12-25T16:30:13.169Z"
   },
   {
    "duration": -849,
    "start_time": "2021-12-25T16:30:14.336Z"
   },
   {
    "duration": -848,
    "start_time": "2021-12-25T16:30:14.337Z"
   },
   {
    "duration": -848,
    "start_time": "2021-12-25T16:30:14.339Z"
   },
   {
    "duration": -848,
    "start_time": "2021-12-25T16:30:14.341Z"
   },
   {
    "duration": -849,
    "start_time": "2021-12-25T16:30:14.343Z"
   },
   {
    "duration": -848,
    "start_time": "2021-12-25T16:30:14.344Z"
   },
   {
    "duration": -852,
    "start_time": "2021-12-25T16:30:14.350Z"
   },
   {
    "duration": -852,
    "start_time": "2021-12-25T16:30:14.352Z"
   },
   {
    "duration": -855,
    "start_time": "2021-12-25T16:30:14.357Z"
   },
   {
    "duration": -858,
    "start_time": "2021-12-25T16:30:14.362Z"
   },
   {
    "duration": 310,
    "start_time": "2021-12-25T16:30:32.450Z"
   },
   {
    "duration": 120,
    "start_time": "2021-12-25T16:31:57.454Z"
   },
   {
    "duration": 98,
    "start_time": "2021-12-25T16:32:20.172Z"
   },
   {
    "duration": 10,
    "start_time": "2021-12-25T16:32:42.735Z"
   },
   {
    "duration": 5,
    "start_time": "2021-12-25T16:32:48.884Z"
   },
   {
    "duration": 6,
    "start_time": "2021-12-25T16:32:48.892Z"
   },
   {
    "duration": 72,
    "start_time": "2021-12-25T16:32:48.902Z"
   },
   {
    "duration": 17,
    "start_time": "2021-12-25T16:32:48.977Z"
   },
   {
    "duration": 42,
    "start_time": "2021-12-25T16:32:48.996Z"
   },
   {
    "duration": 27,
    "start_time": "2021-12-25T16:32:49.040Z"
   },
   {
    "duration": 19,
    "start_time": "2021-12-25T16:32:49.070Z"
   },
   {
    "duration": 9,
    "start_time": "2021-12-25T16:32:49.095Z"
   },
   {
    "duration": 67,
    "start_time": "2021-12-25T16:32:49.108Z"
   },
   {
    "duration": 13,
    "start_time": "2021-12-25T16:32:49.178Z"
   },
   {
    "duration": 14,
    "start_time": "2021-12-25T16:32:49.195Z"
   },
   {
    "duration": 55,
    "start_time": "2021-12-25T16:32:49.212Z"
   },
   {
    "duration": 16,
    "start_time": "2021-12-25T16:32:49.269Z"
   },
   {
    "duration": 13,
    "start_time": "2021-12-25T16:32:49.288Z"
   },
   {
    "duration": 7,
    "start_time": "2021-12-25T16:32:49.304Z"
   },
   {
    "duration": 59,
    "start_time": "2021-12-25T16:32:49.314Z"
   },
   {
    "duration": 32,
    "start_time": "2021-12-25T16:32:49.376Z"
   },
   {
    "duration": 15,
    "start_time": "2021-12-25T16:32:49.411Z"
   },
   {
    "duration": 48,
    "start_time": "2021-12-25T16:32:49.429Z"
   },
   {
    "duration": 16,
    "start_time": "2021-12-25T16:32:49.480Z"
   },
   {
    "duration": 10,
    "start_time": "2021-12-25T16:32:49.499Z"
   },
   {
    "duration": 57,
    "start_time": "2021-12-25T16:32:49.513Z"
   },
   {
    "duration": 6,
    "start_time": "2021-12-25T16:32:49.577Z"
   },
   {
    "duration": 7,
    "start_time": "2021-12-25T16:32:49.586Z"
   },
   {
    "duration": 174,
    "start_time": "2021-12-25T16:32:49.596Z"
   },
   {
    "duration": 95,
    "start_time": "2021-12-25T16:32:49.774Z"
   },
   {
    "duration": 1517,
    "start_time": "2021-12-25T16:32:49.872Z"
   },
   {
    "duration": 98,
    "start_time": "2021-12-25T16:32:51.393Z"
   },
   {
    "duration": 8,
    "start_time": "2021-12-25T16:32:51.494Z"
   },
   {
    "duration": 14,
    "start_time": "2021-12-25T16:32:51.505Z"
   },
   {
    "duration": 59,
    "start_time": "2021-12-25T16:32:51.522Z"
   },
   {
    "duration": 11,
    "start_time": "2021-12-25T16:32:51.584Z"
   },
   {
    "duration": 13,
    "start_time": "2021-12-25T16:32:51.598Z"
   },
   {
    "duration": 55,
    "start_time": "2021-12-25T16:32:51.613Z"
   },
   {
    "duration": 197,
    "start_time": "2021-12-25T16:32:51.671Z"
   },
   {
    "duration": 694,
    "start_time": "2021-12-25T16:32:51.872Z"
   },
   {
    "duration": 100,
    "start_time": "2021-12-25T16:34:13.070Z"
   },
   {
    "duration": 357,
    "start_time": "2021-12-25T16:34:43.315Z"
   },
   {
    "duration": 5,
    "start_time": "2021-12-25T16:35:20.663Z"
   },
   {
    "duration": 5,
    "start_time": "2021-12-25T16:35:20.672Z"
   },
   {
    "duration": 90,
    "start_time": "2021-12-25T16:35:20.682Z"
   },
   {
    "duration": 17,
    "start_time": "2021-12-25T16:35:20.776Z"
   },
   {
    "duration": 26,
    "start_time": "2021-12-25T16:35:20.796Z"
   },
   {
    "duration": 45,
    "start_time": "2021-12-25T16:35:20.824Z"
   },
   {
    "duration": 14,
    "start_time": "2021-12-25T16:35:20.871Z"
   },
   {
    "duration": 10,
    "start_time": "2021-12-25T16:35:20.889Z"
   },
   {
    "duration": 67,
    "start_time": "2021-12-25T16:35:20.902Z"
   },
   {
    "duration": 9,
    "start_time": "2021-12-25T16:35:20.972Z"
   },
   {
    "duration": 21,
    "start_time": "2021-12-25T16:35:20.983Z"
   },
   {
    "duration": 11,
    "start_time": "2021-12-25T16:35:21.007Z"
   },
   {
    "duration": 54,
    "start_time": "2021-12-25T16:35:21.021Z"
   },
   {
    "duration": 12,
    "start_time": "2021-12-25T16:35:21.078Z"
   },
   {
    "duration": 6,
    "start_time": "2021-12-25T16:35:21.093Z"
   },
   {
    "duration": 16,
    "start_time": "2021-12-25T16:35:21.102Z"
   },
   {
    "duration": 66,
    "start_time": "2021-12-25T16:35:21.121Z"
   },
   {
    "duration": 12,
    "start_time": "2021-12-25T16:35:21.189Z"
   },
   {
    "duration": 11,
    "start_time": "2021-12-25T16:35:21.204Z"
   },
   {
    "duration": 56,
    "start_time": "2021-12-25T16:35:21.218Z"
   },
   {
    "duration": 6,
    "start_time": "2021-12-25T16:35:21.277Z"
   },
   {
    "duration": 6,
    "start_time": "2021-12-25T16:35:21.286Z"
   },
   {
    "duration": 5,
    "start_time": "2021-12-25T16:35:21.298Z"
   },
   {
    "duration": 5,
    "start_time": "2021-12-25T16:35:21.306Z"
   },
   {
    "duration": 156,
    "start_time": "2021-12-25T16:35:21.313Z"
   },
   {
    "duration": 198,
    "start_time": "2021-12-25T16:35:21.472Z"
   },
   {
    "duration": 1235,
    "start_time": "2021-12-25T16:35:21.674Z"
   },
   {
    "duration": 82,
    "start_time": "2021-12-25T16:35:22.911Z"
   },
   {
    "duration": 8,
    "start_time": "2021-12-25T16:35:22.996Z"
   },
   {
    "duration": 11,
    "start_time": "2021-12-25T16:35:23.006Z"
   },
   {
    "duration": 52,
    "start_time": "2021-12-25T16:35:23.019Z"
   },
   {
    "duration": 10,
    "start_time": "2021-12-25T16:35:23.073Z"
   },
   {
    "duration": 13,
    "start_time": "2021-12-25T16:35:23.086Z"
   },
   {
    "duration": 17,
    "start_time": "2021-12-25T16:35:23.102Z"
   },
   {
    "duration": 202,
    "start_time": "2021-12-25T16:35:23.166Z"
   },
   {
    "duration": 284,
    "start_time": "2021-12-25T16:35:23.371Z"
   },
   {
    "duration": 37,
    "start_time": "2021-12-25T16:36:10.631Z"
   },
   {
    "duration": 344,
    "start_time": "2021-12-25T16:36:12.526Z"
   },
   {
    "duration": 5,
    "start_time": "2021-12-25T16:36:17.363Z"
   },
   {
    "duration": 11,
    "start_time": "2021-12-25T16:36:17.371Z"
   },
   {
    "duration": 84,
    "start_time": "2021-12-25T16:36:17.385Z"
   },
   {
    "duration": 13,
    "start_time": "2021-12-25T16:36:17.472Z"
   },
   {
    "duration": 22,
    "start_time": "2021-12-25T16:36:17.487Z"
   },
   {
    "duration": 58,
    "start_time": "2021-12-25T16:36:17.512Z"
   },
   {
    "duration": 17,
    "start_time": "2021-12-25T16:36:17.573Z"
   },
   {
    "duration": 10,
    "start_time": "2021-12-25T16:36:17.596Z"
   },
   {
    "duration": 70,
    "start_time": "2021-12-25T16:36:17.610Z"
   },
   {
    "duration": 12,
    "start_time": "2021-12-25T16:36:17.683Z"
   },
   {
    "duration": 14,
    "start_time": "2021-12-25T16:36:17.698Z"
   },
   {
    "duration": 55,
    "start_time": "2021-12-25T16:36:17.716Z"
   },
   {
    "duration": 17,
    "start_time": "2021-12-25T16:36:17.774Z"
   },
   {
    "duration": 13,
    "start_time": "2021-12-25T16:36:17.793Z"
   },
   {
    "duration": 11,
    "start_time": "2021-12-25T16:36:17.808Z"
   },
   {
    "duration": 49,
    "start_time": "2021-12-25T16:36:17.822Z"
   },
   {
    "duration": 23,
    "start_time": "2021-12-25T16:36:17.873Z"
   },
   {
    "duration": 11,
    "start_time": "2021-12-25T16:36:17.898Z"
   },
   {
    "duration": 10,
    "start_time": "2021-12-25T16:36:17.912Z"
   },
   {
    "duration": 52,
    "start_time": "2021-12-25T16:36:17.924Z"
   },
   {
    "duration": 7,
    "start_time": "2021-12-25T16:36:17.979Z"
   },
   {
    "duration": 7,
    "start_time": "2021-12-25T16:36:17.989Z"
   },
   {
    "duration": 8,
    "start_time": "2021-12-25T16:36:18.001Z"
   },
   {
    "duration": 55,
    "start_time": "2021-12-25T16:36:18.012Z"
   },
   {
    "duration": 37,
    "start_time": "2021-12-25T16:36:18.070Z"
   },
   {
    "duration": 158,
    "start_time": "2021-12-25T16:36:18.110Z"
   },
   {
    "duration": 1250,
    "start_time": "2021-12-25T16:36:18.272Z"
   },
   {
    "duration": 78,
    "start_time": "2021-12-25T16:36:19.525Z"
   },
   {
    "duration": 8,
    "start_time": "2021-12-25T16:36:19.605Z"
   },
   {
    "duration": 12,
    "start_time": "2021-12-25T16:36:19.616Z"
   },
   {
    "duration": 48,
    "start_time": "2021-12-25T16:36:19.630Z"
   },
   {
    "duration": 9,
    "start_time": "2021-12-25T16:36:19.680Z"
   },
   {
    "duration": 10,
    "start_time": "2021-12-25T16:36:19.691Z"
   },
   {
    "duration": 13,
    "start_time": "2021-12-25T16:36:19.703Z"
   },
   {
    "duration": 158,
    "start_time": "2021-12-25T16:36:19.718Z"
   },
   {
    "duration": 280,
    "start_time": "2021-12-25T16:36:19.969Z"
   },
   {
    "duration": 464,
    "start_time": "2021-12-25T16:40:00.872Z"
   },
   {
    "duration": 306,
    "start_time": "2021-12-25T16:40:49.846Z"
   },
   {
    "duration": 5,
    "start_time": "2021-12-25T16:40:54.320Z"
   },
   {
    "duration": 5,
    "start_time": "2021-12-25T16:40:54.328Z"
   },
   {
    "duration": 54,
    "start_time": "2021-12-25T16:40:54.336Z"
   },
   {
    "duration": 12,
    "start_time": "2021-12-25T16:40:54.393Z"
   },
   {
    "duration": 16,
    "start_time": "2021-12-25T16:40:54.408Z"
   },
   {
    "duration": 46,
    "start_time": "2021-12-25T16:40:54.427Z"
   },
   {
    "duration": 15,
    "start_time": "2021-12-25T16:40:54.476Z"
   },
   {
    "duration": 9,
    "start_time": "2021-12-25T16:40:54.494Z"
   },
   {
    "duration": 21,
    "start_time": "2021-12-25T16:40:54.506Z"
   },
   {
    "duration": 11,
    "start_time": "2021-12-25T16:40:54.569Z"
   },
   {
    "duration": 11,
    "start_time": "2021-12-25T16:40:54.583Z"
   },
   {
    "duration": 10,
    "start_time": "2021-12-25T16:40:54.597Z"
   },
   {
    "duration": 58,
    "start_time": "2021-12-25T16:40:54.609Z"
   },
   {
    "duration": 13,
    "start_time": "2021-12-25T16:40:54.670Z"
   },
   {
    "duration": 7,
    "start_time": "2021-12-25T16:40:54.686Z"
   },
   {
    "duration": 11,
    "start_time": "2021-12-25T16:40:54.696Z"
   },
   {
    "duration": 71,
    "start_time": "2021-12-25T16:40:54.710Z"
   },
   {
    "duration": 15,
    "start_time": "2021-12-25T16:40:54.784Z"
   },
   {
    "duration": 10,
    "start_time": "2021-12-25T16:40:54.801Z"
   },
   {
    "duration": 55,
    "start_time": "2021-12-25T16:40:54.814Z"
   },
   {
    "duration": 5,
    "start_time": "2021-12-25T16:40:54.871Z"
   },
   {
    "duration": 10,
    "start_time": "2021-12-25T16:40:54.879Z"
   },
   {
    "duration": 5,
    "start_time": "2021-12-25T16:40:54.894Z"
   },
   {
    "duration": 6,
    "start_time": "2021-12-25T16:40:54.903Z"
   },
   {
    "duration": 84,
    "start_time": "2021-12-25T16:40:54.912Z"
   },
   {
    "duration": 170,
    "start_time": "2021-12-25T16:40:54.999Z"
   },
   {
    "duration": 1189,
    "start_time": "2021-12-25T16:40:55.171Z"
   },
   {
    "duration": 63,
    "start_time": "2021-12-25T16:40:56.363Z"
   },
   {
    "duration": 7,
    "start_time": "2021-12-25T16:40:56.429Z"
   },
   {
    "duration": 36,
    "start_time": "2021-12-25T16:40:56.439Z"
   },
   {
    "duration": 18,
    "start_time": "2021-12-25T16:40:56.478Z"
   },
   {
    "duration": 8,
    "start_time": "2021-12-25T16:40:56.499Z"
   },
   {
    "duration": 63,
    "start_time": "2021-12-25T16:40:56.510Z"
   },
   {
    "duration": 15,
    "start_time": "2021-12-25T16:40:56.575Z"
   },
   {
    "duration": 276,
    "start_time": "2021-12-25T16:40:56.593Z"
   },
   {
    "duration": 272,
    "start_time": "2021-12-25T16:40:56.873Z"
   },
   {
    "duration": 427,
    "start_time": "2021-12-25T16:41:03.930Z"
   },
   {
    "duration": 5,
    "start_time": "2021-12-25T16:41:07.517Z"
   },
   {
    "duration": 9,
    "start_time": "2021-12-25T16:41:07.524Z"
   },
   {
    "duration": 53,
    "start_time": "2021-12-25T16:41:07.536Z"
   },
   {
    "duration": 12,
    "start_time": "2021-12-25T16:41:07.592Z"
   },
   {
    "duration": 17,
    "start_time": "2021-12-25T16:41:07.607Z"
   },
   {
    "duration": 43,
    "start_time": "2021-12-25T16:41:07.627Z"
   },
   {
    "duration": 15,
    "start_time": "2021-12-25T16:41:07.672Z"
   },
   {
    "duration": 8,
    "start_time": "2021-12-25T16:41:07.690Z"
   },
   {
    "duration": 20,
    "start_time": "2021-12-25T16:41:07.702Z"
   },
   {
    "duration": 10,
    "start_time": "2021-12-25T16:41:07.766Z"
   },
   {
    "duration": 12,
    "start_time": "2021-12-25T16:41:07.778Z"
   },
   {
    "duration": 13,
    "start_time": "2021-12-25T16:41:07.792Z"
   },
   {
    "duration": 61,
    "start_time": "2021-12-25T16:41:07.807Z"
   },
   {
    "duration": 12,
    "start_time": "2021-12-25T16:41:07.870Z"
   },
   {
    "duration": 11,
    "start_time": "2021-12-25T16:41:07.885Z"
   },
   {
    "duration": 19,
    "start_time": "2021-12-25T16:41:07.898Z"
   },
   {
    "duration": 52,
    "start_time": "2021-12-25T16:41:07.920Z"
   },
   {
    "duration": 11,
    "start_time": "2021-12-25T16:41:07.974Z"
   },
   {
    "duration": 12,
    "start_time": "2021-12-25T16:41:07.988Z"
   },
   {
    "duration": 12,
    "start_time": "2021-12-25T16:41:08.003Z"
   },
   {
    "duration": 10,
    "start_time": "2021-12-25T16:41:08.068Z"
   },
   {
    "duration": 7,
    "start_time": "2021-12-25T16:41:08.081Z"
   },
   {
    "duration": 7,
    "start_time": "2021-12-25T16:41:08.090Z"
   },
   {
    "duration": 6,
    "start_time": "2021-12-25T16:41:08.099Z"
   },
   {
    "duration": 90,
    "start_time": "2021-12-25T16:41:08.108Z"
   },
   {
    "duration": 172,
    "start_time": "2021-12-25T16:41:08.200Z"
   },
   {
    "duration": 1375,
    "start_time": "2021-12-25T16:41:08.380Z"
   },
   {
    "duration": 70,
    "start_time": "2021-12-25T16:41:09.758Z"
   },
   {
    "duration": 38,
    "start_time": "2021-12-25T16:41:09.832Z"
   },
   {
    "duration": 11,
    "start_time": "2021-12-25T16:41:09.873Z"
   },
   {
    "duration": 19,
    "start_time": "2021-12-25T16:41:09.887Z"
   },
   {
    "duration": 8,
    "start_time": "2021-12-25T16:41:09.909Z"
   },
   {
    "duration": 7,
    "start_time": "2021-12-25T16:41:09.967Z"
   },
   {
    "duration": 14,
    "start_time": "2021-12-25T16:41:09.977Z"
   },
   {
    "duration": 180,
    "start_time": "2021-12-25T16:41:09.993Z"
   },
   {
    "duration": 562,
    "start_time": "2021-12-25T16:41:10.176Z"
   },
   {
    "duration": 130,
    "start_time": "2021-12-25T16:41:59.647Z"
   },
   {
    "duration": 174,
    "start_time": "2021-12-25T16:42:15.896Z"
   },
   {
    "duration": 259,
    "start_time": "2021-12-25T16:42:18.289Z"
   },
   {
    "duration": 6,
    "start_time": "2021-12-25T16:42:21.699Z"
   },
   {
    "duration": 10,
    "start_time": "2021-12-25T16:42:21.708Z"
   },
   {
    "duration": 52,
    "start_time": "2021-12-25T16:42:21.721Z"
   },
   {
    "duration": 12,
    "start_time": "2021-12-25T16:42:21.776Z"
   },
   {
    "duration": 30,
    "start_time": "2021-12-25T16:42:21.791Z"
   },
   {
    "duration": 9,
    "start_time": "2021-12-25T16:42:21.823Z"
   },
   {
    "duration": 43,
    "start_time": "2021-12-25T16:42:21.835Z"
   },
   {
    "duration": 9,
    "start_time": "2021-12-25T16:42:21.881Z"
   },
   {
    "duration": 21,
    "start_time": "2021-12-25T16:42:21.894Z"
   },
   {
    "duration": 54,
    "start_time": "2021-12-25T16:42:21.919Z"
   },
   {
    "duration": 19,
    "start_time": "2021-12-25T16:42:21.976Z"
   },
   {
    "duration": 11,
    "start_time": "2021-12-25T16:42:21.998Z"
   },
   {
    "duration": 11,
    "start_time": "2021-12-25T16:42:22.011Z"
   },
   {
    "duration": 48,
    "start_time": "2021-12-25T16:42:22.025Z"
   },
   {
    "duration": 18,
    "start_time": "2021-12-25T16:42:22.076Z"
   },
   {
    "duration": 12,
    "start_time": "2021-12-25T16:42:22.097Z"
   },
   {
    "duration": 22,
    "start_time": "2021-12-25T16:42:22.112Z"
   },
   {
    "duration": 39,
    "start_time": "2021-12-25T16:42:22.137Z"
   },
   {
    "duration": 9,
    "start_time": "2021-12-25T16:42:22.179Z"
   },
   {
    "duration": 10,
    "start_time": "2021-12-25T16:42:22.191Z"
   },
   {
    "duration": 8,
    "start_time": "2021-12-25T16:42:22.204Z"
   },
   {
    "duration": 55,
    "start_time": "2021-12-25T16:42:22.214Z"
   },
   {
    "duration": 10,
    "start_time": "2021-12-25T16:42:22.272Z"
   },
   {
    "duration": 13,
    "start_time": "2021-12-25T16:42:22.284Z"
   },
   {
    "duration": 177,
    "start_time": "2021-12-25T16:42:22.300Z"
   },
   {
    "duration": 100,
    "start_time": "2021-12-25T16:42:22.569Z"
   },
   {
    "duration": 1246,
    "start_time": "2021-12-25T16:42:22.674Z"
   },
   {
    "duration": 82,
    "start_time": "2021-12-25T16:42:23.923Z"
   },
   {
    "duration": 9,
    "start_time": "2021-12-25T16:42:24.007Z"
   },
   {
    "duration": 13,
    "start_time": "2021-12-25T16:42:24.018Z"
   },
   {
    "duration": 49,
    "start_time": "2021-12-25T16:42:24.033Z"
   },
   {
    "duration": 8,
    "start_time": "2021-12-25T16:42:24.084Z"
   },
   {
    "duration": 7,
    "start_time": "2021-12-25T16:42:24.094Z"
   },
   {
    "duration": 64,
    "start_time": "2021-12-25T16:42:24.103Z"
   },
   {
    "duration": 202,
    "start_time": "2021-12-25T16:42:24.170Z"
   },
   {
    "duration": 368,
    "start_time": "2021-12-25T16:42:24.375Z"
   },
   {
    "duration": 183,
    "start_time": "2021-12-25T16:44:33.489Z"
   },
   {
    "duration": 6,
    "start_time": "2021-12-25T16:44:38.788Z"
   },
   {
    "duration": 6,
    "start_time": "2021-12-25T16:44:38.797Z"
   },
   {
    "duration": 49,
    "start_time": "2021-12-25T16:44:38.806Z"
   },
   {
    "duration": 20,
    "start_time": "2021-12-25T16:44:38.857Z"
   },
   {
    "duration": 17,
    "start_time": "2021-12-25T16:44:38.880Z"
   },
   {
    "duration": 10,
    "start_time": "2021-12-25T16:44:38.900Z"
   },
   {
    "duration": 59,
    "start_time": "2021-12-25T16:44:38.913Z"
   },
   {
    "duration": 9,
    "start_time": "2021-12-25T16:44:38.975Z"
   },
   {
    "duration": 22,
    "start_time": "2021-12-25T16:44:38.988Z"
   },
   {
    "duration": 55,
    "start_time": "2021-12-25T16:44:39.014Z"
   },
   {
    "duration": 9,
    "start_time": "2021-12-25T16:44:39.071Z"
   },
   {
    "duration": 12,
    "start_time": "2021-12-25T16:44:39.083Z"
   },
   {
    "duration": 15,
    "start_time": "2021-12-25T16:44:39.097Z"
   },
   {
    "duration": 53,
    "start_time": "2021-12-25T16:44:39.115Z"
   },
   {
    "duration": 4,
    "start_time": "2021-12-25T16:44:39.171Z"
   },
   {
    "duration": 14,
    "start_time": "2021-12-25T16:44:39.177Z"
   },
   {
    "duration": 24,
    "start_time": "2021-12-25T16:44:39.193Z"
   },
   {
    "duration": 48,
    "start_time": "2021-12-25T16:44:39.219Z"
   },
   {
    "duration": 8,
    "start_time": "2021-12-25T16:44:39.270Z"
   },
   {
    "duration": 13,
    "start_time": "2021-12-25T16:44:39.281Z"
   },
   {
    "duration": 4,
    "start_time": "2021-12-25T16:44:39.297Z"
   },
   {
    "duration": 7,
    "start_time": "2021-12-25T16:44:39.304Z"
   },
   {
    "duration": 55,
    "start_time": "2021-12-25T16:44:39.313Z"
   },
   {
    "duration": 8,
    "start_time": "2021-12-25T16:44:39.370Z"
   },
   {
    "duration": 287,
    "start_time": "2021-12-25T16:44:39.381Z"
   },
   {
    "duration": 100,
    "start_time": "2021-12-25T16:44:39.673Z"
   },
   {
    "duration": 1243,
    "start_time": "2021-12-25T16:44:39.779Z"
   },
   {
    "duration": 78,
    "start_time": "2021-12-25T16:44:41.025Z"
   },
   {
    "duration": 7,
    "start_time": "2021-12-25T16:44:41.106Z"
   },
   {
    "duration": 10,
    "start_time": "2021-12-25T16:44:41.115Z"
   },
   {
    "duration": 50,
    "start_time": "2021-12-25T16:44:41.128Z"
   },
   {
    "duration": 8,
    "start_time": "2021-12-25T16:44:41.180Z"
   },
   {
    "duration": 12,
    "start_time": "2021-12-25T16:44:41.190Z"
   },
   {
    "duration": 12,
    "start_time": "2021-12-25T16:44:41.205Z"
   },
   {
    "duration": 157,
    "start_time": "2021-12-25T16:44:41.219Z"
   },
   {
    "duration": 283,
    "start_time": "2021-12-25T16:44:41.468Z"
   },
   {
    "duration": 5,
    "start_time": "2021-12-25T16:47:36.570Z"
   },
   {
    "duration": 10,
    "start_time": "2021-12-25T16:47:36.578Z"
   },
   {
    "duration": 94,
    "start_time": "2021-12-25T16:47:36.591Z"
   },
   {
    "duration": 13,
    "start_time": "2021-12-25T16:47:36.687Z"
   },
   {
    "duration": 20,
    "start_time": "2021-12-25T16:47:36.702Z"
   },
   {
    "duration": 52,
    "start_time": "2021-12-25T16:47:36.726Z"
   },
   {
    "duration": 23,
    "start_time": "2021-12-25T16:47:36.781Z"
   },
   {
    "duration": 11,
    "start_time": "2021-12-25T16:47:36.807Z"
   },
   {
    "duration": 65,
    "start_time": "2021-12-25T16:47:36.825Z"
   },
   {
    "duration": 11,
    "start_time": "2021-12-25T16:47:36.894Z"
   },
   {
    "duration": 19,
    "start_time": "2021-12-25T16:47:36.908Z"
   },
   {
    "duration": 40,
    "start_time": "2021-12-25T16:47:36.929Z"
   },
   {
    "duration": 15,
    "start_time": "2021-12-25T16:47:36.972Z"
   },
   {
    "duration": 15,
    "start_time": "2021-12-25T16:47:36.989Z"
   },
   {
    "duration": 22,
    "start_time": "2021-12-25T16:47:37.007Z"
   },
   {
    "duration": 43,
    "start_time": "2021-12-25T16:47:37.031Z"
   },
   {
    "duration": 23,
    "start_time": "2021-12-25T16:47:37.077Z"
   },
   {
    "duration": 14,
    "start_time": "2021-12-25T16:47:37.104Z"
   },
   {
    "duration": 53,
    "start_time": "2021-12-25T16:47:37.121Z"
   },
   {
    "duration": 15,
    "start_time": "2021-12-25T16:47:37.177Z"
   },
   {
    "duration": 7,
    "start_time": "2021-12-25T16:47:37.194Z"
   },
   {
    "duration": 7,
    "start_time": "2021-12-25T16:47:37.204Z"
   },
   {
    "duration": 57,
    "start_time": "2021-12-25T16:47:37.214Z"
   },
   {
    "duration": 9,
    "start_time": "2021-12-25T16:47:37.274Z"
   },
   {
    "duration": 101,
    "start_time": "2021-12-25T16:47:37.287Z"
   },
   {
    "duration": 11,
    "start_time": "2021-12-25T16:47:37.568Z"
   },
   {
    "duration": 1245,
    "start_time": "2021-12-25T16:47:37.583Z"
   },
   {
    "duration": 84,
    "start_time": "2021-12-25T16:47:38.831Z"
   },
   {
    "duration": 11,
    "start_time": "2021-12-25T16:47:38.918Z"
   },
   {
    "duration": 37,
    "start_time": "2021-12-25T16:47:38.932Z"
   },
   {
    "duration": 25,
    "start_time": "2021-12-25T16:47:38.972Z"
   },
   {
    "duration": 11,
    "start_time": "2021-12-25T16:47:38.999Z"
   },
   {
    "duration": 55,
    "start_time": "2021-12-25T16:47:39.013Z"
   },
   {
    "duration": 16,
    "start_time": "2021-12-25T16:47:39.072Z"
   },
   {
    "duration": 278,
    "start_time": "2021-12-25T16:47:39.090Z"
   },
   {
    "duration": 391,
    "start_time": "2021-12-25T16:47:39.372Z"
   },
   {
    "duration": 5,
    "start_time": "2021-12-25T16:47:53.746Z"
   },
   {
    "duration": 9,
    "start_time": "2021-12-25T16:47:53.754Z"
   },
   {
    "duration": 50,
    "start_time": "2021-12-25T16:47:53.768Z"
   },
   {
    "duration": 12,
    "start_time": "2021-12-25T16:47:53.821Z"
   },
   {
    "duration": 17,
    "start_time": "2021-12-25T16:47:53.868Z"
   },
   {
    "duration": 12,
    "start_time": "2021-12-25T16:47:53.887Z"
   },
   {
    "duration": 19,
    "start_time": "2021-12-25T16:47:53.902Z"
   },
   {
    "duration": 51,
    "start_time": "2021-12-25T16:47:53.923Z"
   },
   {
    "duration": 17,
    "start_time": "2021-12-25T16:47:53.978Z"
   },
   {
    "duration": 11,
    "start_time": "2021-12-25T16:47:53.998Z"
   },
   {
    "duration": 58,
    "start_time": "2021-12-25T16:47:54.011Z"
   },
   {
    "duration": 8,
    "start_time": "2021-12-25T16:47:54.072Z"
   },
   {
    "duration": 12,
    "start_time": "2021-12-25T16:47:54.082Z"
   },
   {
    "duration": 13,
    "start_time": "2021-12-25T16:47:54.096Z"
   },
   {
    "duration": 5,
    "start_time": "2021-12-25T16:47:54.111Z"
   },
   {
    "duration": 55,
    "start_time": "2021-12-25T16:47:54.119Z"
   },
   {
    "duration": 23,
    "start_time": "2021-12-25T16:47:54.177Z"
   },
   {
    "duration": 11,
    "start_time": "2021-12-25T16:47:54.203Z"
   },
   {
    "duration": 56,
    "start_time": "2021-12-25T16:47:54.216Z"
   },
   {
    "duration": 12,
    "start_time": "2021-12-25T16:47:54.275Z"
   },
   {
    "duration": 10,
    "start_time": "2021-12-25T16:47:54.290Z"
   },
   {
    "duration": 7,
    "start_time": "2021-12-25T16:47:54.303Z"
   },
   {
    "duration": 7,
    "start_time": "2021-12-25T16:47:54.312Z"
   },
   {
    "duration": 51,
    "start_time": "2021-12-25T16:47:54.321Z"
   },
   {
    "duration": 201,
    "start_time": "2021-12-25T16:47:54.375Z"
   },
   {
    "duration": 12,
    "start_time": "2021-12-25T16:47:54.668Z"
   },
   {
    "duration": 1270,
    "start_time": "2021-12-25T16:47:54.688Z"
   },
   {
    "duration": 66,
    "start_time": "2021-12-25T16:47:55.968Z"
   },
   {
    "duration": 35,
    "start_time": "2021-12-25T16:47:56.037Z"
   },
   {
    "duration": 13,
    "start_time": "2021-12-25T16:47:56.075Z"
   },
   {
    "duration": 22,
    "start_time": "2021-12-25T16:47:56.091Z"
   },
   {
    "duration": 55,
    "start_time": "2021-12-25T16:47:56.115Z"
   },
   {
    "duration": 8,
    "start_time": "2021-12-25T16:47:56.173Z"
   },
   {
    "duration": 13,
    "start_time": "2021-12-25T16:47:56.184Z"
   },
   {
    "duration": 273,
    "start_time": "2021-12-25T16:47:56.199Z"
   },
   {
    "duration": 370,
    "start_time": "2021-12-25T16:47:56.476Z"
   },
   {
    "duration": 139,
    "start_time": "2021-12-25T16:52:04.638Z"
   },
   {
    "duration": 314,
    "start_time": "2021-12-25T16:52:37.523Z"
   },
   {
    "duration": 327,
    "start_time": "2021-12-25T16:52:54.907Z"
   },
   {
    "duration": 291,
    "start_time": "2021-12-25T16:53:17.879Z"
   },
   {
    "duration": 5,
    "start_time": "2021-12-25T16:53:24.071Z"
   },
   {
    "duration": 15,
    "start_time": "2021-12-25T16:53:24.079Z"
   },
   {
    "duration": 72,
    "start_time": "2021-12-25T16:53:24.098Z"
   },
   {
    "duration": 14,
    "start_time": "2021-12-25T16:53:24.174Z"
   },
   {
    "duration": 25,
    "start_time": "2021-12-25T16:53:24.191Z"
   },
   {
    "duration": 48,
    "start_time": "2021-12-25T16:53:24.219Z"
   },
   {
    "duration": 14,
    "start_time": "2021-12-25T16:53:24.270Z"
   },
   {
    "duration": 8,
    "start_time": "2021-12-25T16:53:24.288Z"
   },
   {
    "duration": 22,
    "start_time": "2021-12-25T16:53:24.299Z"
   },
   {
    "duration": 12,
    "start_time": "2021-12-25T16:53:24.369Z"
   },
   {
    "duration": 14,
    "start_time": "2021-12-25T16:53:24.385Z"
   },
   {
    "duration": 16,
    "start_time": "2021-12-25T16:53:24.401Z"
   },
   {
    "duration": 56,
    "start_time": "2021-12-25T16:53:24.419Z"
   },
   {
    "duration": 12,
    "start_time": "2021-12-25T16:53:24.478Z"
   },
   {
    "duration": 9,
    "start_time": "2021-12-25T16:53:24.492Z"
   },
   {
    "duration": 21,
    "start_time": "2021-12-25T16:53:24.503Z"
   },
   {
    "duration": 23,
    "start_time": "2021-12-25T16:53:24.567Z"
   },
   {
    "duration": 12,
    "start_time": "2021-12-25T16:53:24.592Z"
   },
   {
    "duration": 8,
    "start_time": "2021-12-25T16:53:24.606Z"
   },
   {
    "duration": 57,
    "start_time": "2021-12-25T16:53:24.616Z"
   },
   {
    "duration": 20,
    "start_time": "2021-12-25T16:53:24.675Z"
   },
   {
    "duration": 7,
    "start_time": "2021-12-25T16:53:24.698Z"
   },
   {
    "duration": 9,
    "start_time": "2021-12-25T16:53:24.709Z"
   },
   {
    "duration": 28,
    "start_time": "2021-12-25T16:53:24.720Z"
   },
   {
    "duration": 218,
    "start_time": "2021-12-25T16:53:24.751Z"
   },
   {
    "duration": 95,
    "start_time": "2021-12-25T16:53:24.973Z"
   },
   {
    "duration": 1158,
    "start_time": "2021-12-25T16:53:25.070Z"
   },
   {
    "duration": 77,
    "start_time": "2021-12-25T16:53:26.230Z"
   },
   {
    "duration": 7,
    "start_time": "2021-12-25T16:53:26.310Z"
   },
   {
    "duration": 19,
    "start_time": "2021-12-25T16:53:26.319Z"
   },
   {
    "duration": 37,
    "start_time": "2021-12-25T16:53:26.341Z"
   },
   {
    "duration": 7,
    "start_time": "2021-12-25T16:53:26.381Z"
   },
   {
    "duration": 11,
    "start_time": "2021-12-25T16:53:26.391Z"
   },
   {
    "duration": 17,
    "start_time": "2021-12-25T16:53:26.404Z"
   },
   {
    "duration": 244,
    "start_time": "2021-12-25T16:53:26.423Z"
   },
   {
    "duration": 272,
    "start_time": "2021-12-25T16:53:26.670Z"
   },
   {
    "duration": 286,
    "start_time": "2021-12-25T16:54:11.097Z"
   },
   {
    "duration": 12,
    "start_time": "2021-12-25T16:54:19.378Z"
   },
   {
    "duration": 177,
    "start_time": "2021-12-25T16:54:19.990Z"
   },
   {
    "duration": 296,
    "start_time": "2021-12-25T16:54:21.304Z"
   },
   {
    "duration": 257,
    "start_time": "2021-12-25T16:54:42.985Z"
   },
   {
    "duration": 348,
    "start_time": "2021-12-25T16:55:36.720Z"
   },
   {
    "duration": 285,
    "start_time": "2021-12-25T16:55:37.619Z"
   },
   {
    "duration": 211,
    "start_time": "2021-12-25T17:00:25.562Z"
   },
   {
    "duration": 268,
    "start_time": "2021-12-25T17:00:26.468Z"
   },
   {
    "duration": 278,
    "start_time": "2021-12-25T17:00:52.851Z"
   },
   {
    "duration": 269,
    "start_time": "2021-12-25T17:00:55.742Z"
   },
   {
    "duration": 289,
    "start_time": "2021-12-25T17:01:02.701Z"
   },
   {
    "duration": 5,
    "start_time": "2021-12-25T17:01:25.772Z"
   },
   {
    "duration": 8,
    "start_time": "2021-12-25T17:01:25.779Z"
   },
   {
    "duration": 78,
    "start_time": "2021-12-25T17:01:25.790Z"
   },
   {
    "duration": 12,
    "start_time": "2021-12-25T17:01:25.871Z"
   },
   {
    "duration": 18,
    "start_time": "2021-12-25T17:01:25.886Z"
   },
   {
    "duration": 10,
    "start_time": "2021-12-25T17:01:25.906Z"
   },
   {
    "duration": 61,
    "start_time": "2021-12-25T17:01:25.918Z"
   },
   {
    "duration": 9,
    "start_time": "2021-12-25T17:01:25.981Z"
   },
   {
    "duration": 18,
    "start_time": "2021-12-25T17:01:25.994Z"
   },
   {
    "duration": 54,
    "start_time": "2021-12-25T17:01:26.015Z"
   },
   {
    "duration": 10,
    "start_time": "2021-12-25T17:01:26.072Z"
   },
   {
    "duration": 11,
    "start_time": "2021-12-25T17:01:26.084Z"
   },
   {
    "duration": 14,
    "start_time": "2021-12-25T17:01:26.097Z"
   },
   {
    "duration": 57,
    "start_time": "2021-12-25T17:01:26.113Z"
   },
   {
    "duration": 5,
    "start_time": "2021-12-25T17:01:26.172Z"
   },
   {
    "duration": 12,
    "start_time": "2021-12-25T17:01:26.180Z"
   },
   {
    "duration": 24,
    "start_time": "2021-12-25T17:01:26.194Z"
   },
   {
    "duration": 52,
    "start_time": "2021-12-25T17:01:26.220Z"
   },
   {
    "duration": 10,
    "start_time": "2021-12-25T17:01:26.275Z"
   },
   {
    "duration": 12,
    "start_time": "2021-12-25T17:01:26.287Z"
   },
   {
    "duration": 5,
    "start_time": "2021-12-25T17:01:26.301Z"
   },
   {
    "duration": 58,
    "start_time": "2021-12-25T17:01:26.309Z"
   },
   {
    "duration": 13,
    "start_time": "2021-12-25T17:01:26.371Z"
   },
   {
    "duration": 8,
    "start_time": "2021-12-25T17:01:26.387Z"
   },
   {
    "duration": 269,
    "start_time": "2021-12-25T17:01:26.398Z"
   },
   {
    "duration": 101,
    "start_time": "2021-12-25T17:01:26.670Z"
   },
   {
    "duration": 1147,
    "start_time": "2021-12-25T17:01:26.776Z"
   },
   {
    "duration": 80,
    "start_time": "2021-12-25T17:01:27.926Z"
   },
   {
    "duration": 8,
    "start_time": "2021-12-25T17:01:28.008Z"
   },
   {
    "duration": 13,
    "start_time": "2021-12-25T17:01:28.019Z"
   },
   {
    "duration": 21,
    "start_time": "2021-12-25T17:01:28.067Z"
   },
   {
    "duration": 11,
    "start_time": "2021-12-25T17:01:28.091Z"
   },
   {
    "duration": 12,
    "start_time": "2021-12-25T17:01:28.104Z"
   },
   {
    "duration": 52,
    "start_time": "2021-12-25T17:01:28.119Z"
   },
   {
    "duration": 299,
    "start_time": "2021-12-25T17:01:28.174Z"
   },
   {
    "duration": 378,
    "start_time": "2021-12-25T17:01:28.476Z"
   },
   {
    "duration": 279,
    "start_time": "2021-12-25T17:02:07.836Z"
   },
   {
    "duration": 238,
    "start_time": "2021-12-25T17:02:10.536Z"
   },
   {
    "duration": 262,
    "start_time": "2021-12-25T17:02:10.866Z"
   },
   {
    "duration": 138,
    "start_time": "2021-12-25T17:02:37.432Z"
   },
   {
    "duration": 278,
    "start_time": "2021-12-25T17:02:38.417Z"
   },
   {
    "duration": 270,
    "start_time": "2021-12-25T17:02:46.880Z"
   },
   {
    "duration": 253,
    "start_time": "2021-12-25T17:02:50.495Z"
   },
   {
    "duration": 118,
    "start_time": "2021-12-25T17:03:00.251Z"
   },
   {
    "duration": 280,
    "start_time": "2021-12-25T17:03:01.657Z"
   },
   {
    "duration": 189,
    "start_time": "2021-12-25T17:03:06.278Z"
   },
   {
    "duration": 407,
    "start_time": "2021-12-25T17:03:06.872Z"
   },
   {
    "duration": 77,
    "start_time": "2021-12-25T17:05:47.693Z"
   },
   {
    "duration": 266,
    "start_time": "2021-12-25T17:05:49.018Z"
   },
   {
    "duration": 12,
    "start_time": "2021-12-25T17:06:44.770Z"
   },
   {
    "duration": 197,
    "start_time": "2021-12-25T17:06:45.573Z"
   },
   {
    "duration": 261,
    "start_time": "2021-12-25T17:06:46.130Z"
   },
   {
    "duration": 343,
    "start_time": "2021-12-25T17:07:52.812Z"
   },
   {
    "duration": 323,
    "start_time": "2021-12-25T17:08:01.937Z"
   },
   {
    "duration": 288,
    "start_time": "2021-12-25T17:10:35.784Z"
   },
   {
    "duration": 281,
    "start_time": "2021-12-25T17:10:36.076Z"
   },
   {
    "duration": 5,
    "start_time": "2021-12-25T17:12:31.146Z"
   },
   {
    "duration": 17,
    "start_time": "2021-12-25T17:12:31.154Z"
   },
   {
    "duration": 58,
    "start_time": "2021-12-25T17:12:31.174Z"
   },
   {
    "duration": 33,
    "start_time": "2021-12-25T17:12:31.235Z"
   },
   {
    "duration": 28,
    "start_time": "2021-12-25T17:12:31.271Z"
   },
   {
    "duration": 13,
    "start_time": "2021-12-25T17:12:31.301Z"
   },
   {
    "duration": 19,
    "start_time": "2021-12-25T17:12:31.316Z"
   },
   {
    "duration": 33,
    "start_time": "2021-12-25T17:12:31.339Z"
   },
   {
    "duration": 39,
    "start_time": "2021-12-25T17:12:31.375Z"
   },
   {
    "duration": 9,
    "start_time": "2021-12-25T17:12:31.417Z"
   },
   {
    "duration": 39,
    "start_time": "2021-12-25T17:12:31.429Z"
   },
   {
    "duration": 6,
    "start_time": "2021-12-25T17:12:31.471Z"
   },
   {
    "duration": 13,
    "start_time": "2021-12-25T17:12:31.480Z"
   },
   {
    "duration": 12,
    "start_time": "2021-12-25T17:12:31.496Z"
   },
   {
    "duration": 4,
    "start_time": "2021-12-25T17:12:31.510Z"
   },
   {
    "duration": 60,
    "start_time": "2021-12-25T17:12:31.516Z"
   },
   {
    "duration": 21,
    "start_time": "2021-12-25T17:12:31.579Z"
   },
   {
    "duration": 12,
    "start_time": "2021-12-25T17:12:31.603Z"
   },
   {
    "duration": 53,
    "start_time": "2021-12-25T17:12:31.617Z"
   },
   {
    "duration": 17,
    "start_time": "2021-12-25T17:12:31.672Z"
   },
   {
    "duration": 8,
    "start_time": "2021-12-25T17:12:31.692Z"
   },
   {
    "duration": 20,
    "start_time": "2021-12-25T17:12:31.703Z"
   },
   {
    "duration": 6,
    "start_time": "2021-12-25T17:12:31.729Z"
   },
   {
    "duration": 5,
    "start_time": "2021-12-25T17:12:31.769Z"
   },
   {
    "duration": 199,
    "start_time": "2021-12-25T17:12:31.777Z"
   },
   {
    "duration": 8,
    "start_time": "2021-12-25T17:12:32.069Z"
   },
   {
    "duration": 1139,
    "start_time": "2021-12-25T17:12:32.080Z"
   },
   {
    "duration": 80,
    "start_time": "2021-12-25T17:12:33.221Z"
   },
   {
    "duration": 8,
    "start_time": "2021-12-25T17:12:33.303Z"
   },
   {
    "duration": 14,
    "start_time": "2021-12-25T17:12:33.314Z"
   },
   {
    "duration": 46,
    "start_time": "2021-12-25T17:12:33.335Z"
   },
   {
    "duration": 8,
    "start_time": "2021-12-25T17:12:33.384Z"
   },
   {
    "duration": 9,
    "start_time": "2021-12-25T17:12:33.394Z"
   },
   {
    "duration": 14,
    "start_time": "2021-12-25T17:12:33.405Z"
   },
   {
    "duration": 248,
    "start_time": "2021-12-25T17:12:33.422Z"
   },
   {
    "duration": 275,
    "start_time": "2021-12-25T17:12:33.673Z"
   },
   {
    "duration": -858,
    "start_time": "2021-12-25T17:12:34.808Z"
   },
   {
    "duration": 244,
    "start_time": "2021-12-25T17:15:40.925Z"
   },
   {
    "duration": 3,
    "start_time": "2021-12-25T17:15:42.021Z"
   },
   {
    "duration": 175,
    "start_time": "2021-12-25T17:20:36.209Z"
   },
   {
    "duration": 211,
    "start_time": "2021-12-25T17:20:45.358Z"
   },
   {
    "duration": 243,
    "start_time": "2021-12-25T17:24:01.926Z"
   },
   {
    "duration": 262,
    "start_time": "2021-12-25T17:24:02.903Z"
   },
   {
    "duration": 205,
    "start_time": "2021-12-25T17:24:19.669Z"
   },
   {
    "duration": 263,
    "start_time": "2021-12-25T17:24:20.645Z"
   },
   {
    "duration": 214,
    "start_time": "2021-12-25T17:24:33.756Z"
   },
   {
    "duration": 268,
    "start_time": "2021-12-25T17:24:34.094Z"
   },
   {
    "duration": 254,
    "start_time": "2021-12-25T17:24:45.815Z"
   },
   {
    "duration": 260,
    "start_time": "2021-12-25T17:24:47.551Z"
   },
   {
    "duration": 263,
    "start_time": "2021-12-25T17:24:52.703Z"
   },
   {
    "duration": 263,
    "start_time": "2021-12-25T17:24:58.461Z"
   },
   {
    "duration": 266,
    "start_time": "2021-12-25T17:25:05.908Z"
   },
   {
    "duration": 267,
    "start_time": "2021-12-25T17:25:32.882Z"
   },
   {
    "duration": 445,
    "start_time": "2021-12-25T17:25:34.168Z"
   },
   {
    "duration": 293,
    "start_time": "2021-12-25T17:25:34.772Z"
   },
   {
    "duration": 11,
    "start_time": "2021-12-25T17:25:39.908Z"
   },
   {
    "duration": 242,
    "start_time": "2021-12-25T17:25:40.227Z"
   },
   {
    "duration": 341,
    "start_time": "2021-12-25T17:25:40.978Z"
   },
   {
    "duration": 11,
    "start_time": "2021-12-25T17:26:05.540Z"
   },
   {
    "duration": 203,
    "start_time": "2021-12-25T17:26:06.166Z"
   },
   {
    "duration": 275,
    "start_time": "2021-12-25T17:26:06.549Z"
   },
   {
    "duration": 1096,
    "start_time": "2021-12-26T16:33:21.122Z"
   },
   {
    "duration": 2,
    "start_time": "2021-12-26T16:33:22.220Z"
   },
   {
    "duration": 41,
    "start_time": "2021-12-26T16:33:22.227Z"
   },
   {
    "duration": 8,
    "start_time": "2021-12-26T16:33:22.269Z"
   },
   {
    "duration": 10,
    "start_time": "2021-12-26T16:33:22.278Z"
   },
   {
    "duration": 6,
    "start_time": "2021-12-26T16:33:22.289Z"
   },
   {
    "duration": 8,
    "start_time": "2021-12-26T16:33:22.296Z"
   },
   {
    "duration": 23,
    "start_time": "2021-12-26T16:33:22.306Z"
   },
   {
    "duration": 13,
    "start_time": "2021-12-26T16:33:22.330Z"
   },
   {
    "duration": 5,
    "start_time": "2021-12-26T16:33:22.344Z"
   },
   {
    "duration": 5,
    "start_time": "2021-12-26T16:33:22.351Z"
   },
   {
    "duration": 5,
    "start_time": "2021-12-26T16:33:22.358Z"
   },
   {
    "duration": 7,
    "start_time": "2021-12-26T16:33:22.364Z"
   },
   {
    "duration": 6,
    "start_time": "2021-12-26T16:33:22.373Z"
   },
   {
    "duration": 4,
    "start_time": "2021-12-26T16:33:22.381Z"
   },
   {
    "duration": 44,
    "start_time": "2021-12-26T16:33:22.386Z"
   },
   {
    "duration": 15,
    "start_time": "2021-12-26T16:33:22.431Z"
   },
   {
    "duration": 6,
    "start_time": "2021-12-26T16:33:22.448Z"
   },
   {
    "duration": 4,
    "start_time": "2021-12-26T16:33:22.455Z"
   },
   {
    "duration": 7,
    "start_time": "2021-12-26T16:33:22.460Z"
   },
   {
    "duration": 5,
    "start_time": "2021-12-26T16:33:22.468Z"
   },
   {
    "duration": 6,
    "start_time": "2021-12-26T16:33:22.474Z"
   },
   {
    "duration": 4,
    "start_time": "2021-12-26T16:33:22.482Z"
   },
   {
    "duration": 3,
    "start_time": "2021-12-26T16:33:22.487Z"
   },
   {
    "duration": 534,
    "start_time": "2021-12-26T16:33:22.527Z"
   },
   {
    "duration": -821,
    "start_time": "2021-12-26T16:33:23.884Z"
   },
   {
    "duration": -823,
    "start_time": "2021-12-26T16:33:23.887Z"
   },
   {
    "duration": -837,
    "start_time": "2021-12-26T16:33:23.902Z"
   },
   {
    "duration": -838,
    "start_time": "2021-12-26T16:33:23.904Z"
   },
   {
    "duration": -841,
    "start_time": "2021-12-26T16:33:23.908Z"
   },
   {
    "duration": -842,
    "start_time": "2021-12-26T16:33:23.910Z"
   },
   {
    "duration": -842,
    "start_time": "2021-12-26T16:33:23.911Z"
   },
   {
    "duration": -843,
    "start_time": "2021-12-26T16:33:23.913Z"
   },
   {
    "duration": -844,
    "start_time": "2021-12-26T16:33:23.915Z"
   },
   {
    "duration": -845,
    "start_time": "2021-12-26T16:33:23.917Z"
   },
   {
    "duration": -846,
    "start_time": "2021-12-26T16:33:23.918Z"
   },
   {
    "duration": 4,
    "start_time": "2021-12-26T16:34:44.579Z"
   },
   {
    "duration": 4,
    "start_time": "2021-12-26T16:34:44.585Z"
   },
   {
    "duration": 38,
    "start_time": "2021-12-26T16:34:44.591Z"
   },
   {
    "duration": 8,
    "start_time": "2021-12-26T16:34:44.631Z"
   },
   {
    "duration": 10,
    "start_time": "2021-12-26T16:34:44.641Z"
   },
   {
    "duration": 7,
    "start_time": "2021-12-26T16:34:44.653Z"
   },
   {
    "duration": 10,
    "start_time": "2021-12-26T16:34:44.662Z"
   },
   {
    "duration": 5,
    "start_time": "2021-12-26T16:34:44.674Z"
   },
   {
    "duration": 47,
    "start_time": "2021-12-26T16:34:44.681Z"
   },
   {
    "duration": 6,
    "start_time": "2021-12-26T16:34:44.730Z"
   },
   {
    "duration": 7,
    "start_time": "2021-12-26T16:34:44.737Z"
   },
   {
    "duration": 5,
    "start_time": "2021-12-26T16:34:44.746Z"
   },
   {
    "duration": 8,
    "start_time": "2021-12-26T16:34:44.753Z"
   },
   {
    "duration": 8,
    "start_time": "2021-12-26T16:34:44.762Z"
   },
   {
    "duration": 3,
    "start_time": "2021-12-26T16:34:44.772Z"
   },
   {
    "duration": 7,
    "start_time": "2021-12-26T16:34:44.777Z"
   },
   {
    "duration": 55,
    "start_time": "2021-12-26T16:34:44.785Z"
   },
   {
    "duration": 7,
    "start_time": "2021-12-26T16:34:44.842Z"
   },
   {
    "duration": 5,
    "start_time": "2021-12-26T16:34:44.851Z"
   },
   {
    "duration": 8,
    "start_time": "2021-12-26T16:34:44.858Z"
   },
   {
    "duration": 3,
    "start_time": "2021-12-26T16:34:44.868Z"
   },
   {
    "duration": 4,
    "start_time": "2021-12-26T16:34:44.873Z"
   },
   {
    "duration": 3,
    "start_time": "2021-12-26T16:34:44.881Z"
   },
   {
    "duration": 3,
    "start_time": "2021-12-26T16:34:44.928Z"
   },
   {
    "duration": 104,
    "start_time": "2021-12-26T16:34:44.932Z"
   },
   {
    "duration": 6,
    "start_time": "2021-12-26T16:34:45.129Z"
   },
   {
    "duration": 770,
    "start_time": "2021-12-26T16:34:45.137Z"
   },
   {
    "duration": 48,
    "start_time": "2021-12-26T16:34:45.908Z"
   },
   {
    "duration": 8,
    "start_time": "2021-12-26T16:34:45.957Z"
   },
   {
    "duration": 18,
    "start_time": "2021-12-26T16:34:45.966Z"
   },
   {
    "duration": 13,
    "start_time": "2021-12-26T16:34:45.985Z"
   },
   {
    "duration": 5,
    "start_time": "2021-12-26T16:34:46.000Z"
   },
   {
    "duration": 21,
    "start_time": "2021-12-26T16:34:46.006Z"
   },
   {
    "duration": 8,
    "start_time": "2021-12-26T16:34:46.028Z"
   },
   {
    "duration": 567,
    "start_time": "2021-12-26T16:34:46.038Z"
   },
   {
    "duration": -833,
    "start_time": "2021-12-26T16:34:47.440Z"
   },
   {
    "duration": 141,
    "start_time": "2021-12-26T16:34:56.288Z"
   },
   {
    "duration": 355,
    "start_time": "2021-12-26T16:35:09.527Z"
   },
   {
    "duration": 110,
    "start_time": "2021-12-26T16:35:37.223Z"
   },
   {
    "duration": 351,
    "start_time": "2021-12-26T16:35:38.311Z"
   },
   {
    "duration": 3,
    "start_time": "2021-12-26T16:50:21.163Z"
   },
   {
    "duration": 107,
    "start_time": "2021-12-26T16:59:37.546Z"
   },
   {
    "duration": 4,
    "start_time": "2021-12-26T17:00:26.243Z"
   },
   {
    "duration": 3,
    "start_time": "2021-12-26T17:02:52.920Z"
   },
   {
    "duration": 17,
    "start_time": "2021-12-26T17:02:52.925Z"
   },
   {
    "duration": 40,
    "start_time": "2021-12-26T17:02:52.944Z"
   },
   {
    "duration": 7,
    "start_time": "2021-12-26T17:02:52.985Z"
   },
   {
    "duration": 9,
    "start_time": "2021-12-26T17:02:52.993Z"
   },
   {
    "duration": 5,
    "start_time": "2021-12-26T17:02:53.004Z"
   },
   {
    "duration": 23,
    "start_time": "2021-12-26T17:02:53.010Z"
   },
   {
    "duration": 5,
    "start_time": "2021-12-26T17:02:53.035Z"
   },
   {
    "duration": 11,
    "start_time": "2021-12-26T17:02:53.043Z"
   },
   {
    "duration": 6,
    "start_time": "2021-12-26T17:02:53.055Z"
   },
   {
    "duration": 5,
    "start_time": "2021-12-26T17:02:53.063Z"
   },
   {
    "duration": 7,
    "start_time": "2021-12-26T17:02:53.069Z"
   },
   {
    "duration": 52,
    "start_time": "2021-12-26T17:02:53.078Z"
   },
   {
    "duration": 7,
    "start_time": "2021-12-26T17:02:53.131Z"
   },
   {
    "duration": 4,
    "start_time": "2021-12-26T17:02:53.140Z"
   },
   {
    "duration": 7,
    "start_time": "2021-12-26T17:02:53.146Z"
   },
   {
    "duration": 16,
    "start_time": "2021-12-26T17:02:53.154Z"
   },
   {
    "duration": 6,
    "start_time": "2021-12-26T17:02:53.171Z"
   },
   {
    "duration": 5,
    "start_time": "2021-12-26T17:02:53.178Z"
   },
   {
    "duration": 47,
    "start_time": "2021-12-26T17:02:53.184Z"
   },
   {
    "duration": 3,
    "start_time": "2021-12-26T17:02:53.232Z"
   },
   {
    "duration": 5,
    "start_time": "2021-12-26T17:02:53.237Z"
   },
   {
    "duration": 5,
    "start_time": "2021-12-26T17:02:53.243Z"
   },
   {
    "duration": 7,
    "start_time": "2021-12-26T17:02:53.250Z"
   },
   {
    "duration": 172,
    "start_time": "2021-12-26T17:02:53.259Z"
   },
   {
    "duration": 96,
    "start_time": "2021-12-26T17:02:53.433Z"
   },
   {
    "duration": 690,
    "start_time": "2021-12-26T17:02:53.532Z"
   },
   {
    "duration": 40,
    "start_time": "2021-12-26T17:02:54.223Z"
   },
   {
    "duration": 5,
    "start_time": "2021-12-26T17:02:54.264Z"
   },
   {
    "duration": 8,
    "start_time": "2021-12-26T17:02:54.270Z"
   },
   {
    "duration": 48,
    "start_time": "2021-12-26T17:02:54.279Z"
   },
   {
    "duration": 5,
    "start_time": "2021-12-26T17:02:54.328Z"
   },
   {
    "duration": 7,
    "start_time": "2021-12-26T17:02:54.335Z"
   },
   {
    "duration": 8,
    "start_time": "2021-12-26T17:02:54.343Z"
   },
   {
    "duration": 181,
    "start_time": "2021-12-26T17:02:54.353Z"
   },
   {
    "duration": 91,
    "start_time": "2021-12-26T17:02:54.536Z"
   },
   {
    "duration": 164,
    "start_time": "2021-12-26T17:02:54.629Z"
   },
   {
    "duration": 235,
    "start_time": "2021-12-26T17:02:54.794Z"
   },
   {
    "duration": 1773993,
    "start_time": "2021-12-26T17:03:23.136Z"
   },
   {
    "duration": 7797,
    "start_time": "2021-12-26T17:48:05.428Z"
   },
   {
    "duration": 9,
    "start_time": "2021-12-26T17:48:29.765Z"
   },
   {
    "duration": 4,
    "start_time": "2021-12-26T17:49:43.610Z"
   },
   {
    "duration": 7,
    "start_time": "2021-12-26T17:49:43.616Z"
   },
   {
    "duration": 38,
    "start_time": "2021-12-26T17:49:43.625Z"
   },
   {
    "duration": 8,
    "start_time": "2021-12-26T17:49:43.665Z"
   },
   {
    "duration": 12,
    "start_time": "2021-12-26T17:49:43.674Z"
   },
   {
    "duration": 6,
    "start_time": "2021-12-26T17:49:43.687Z"
   },
   {
    "duration": 9,
    "start_time": "2021-12-26T17:49:43.727Z"
   },
   {
    "duration": 7,
    "start_time": "2021-12-26T17:49:43.738Z"
   },
   {
    "duration": 14,
    "start_time": "2021-12-26T17:49:43.747Z"
   },
   {
    "duration": 6,
    "start_time": "2021-12-26T17:49:43.763Z"
   },
   {
    "duration": 56,
    "start_time": "2021-12-26T17:49:43.771Z"
   },
   {
    "duration": 6,
    "start_time": "2021-12-26T17:49:43.830Z"
   },
   {
    "duration": 10,
    "start_time": "2021-12-26T17:49:43.838Z"
   },
   {
    "duration": 10,
    "start_time": "2021-12-26T17:49:43.850Z"
   },
   {
    "duration": 6,
    "start_time": "2021-12-26T17:49:43.862Z"
   },
   {
    "duration": 17,
    "start_time": "2021-12-26T17:49:43.869Z"
   },
   {
    "duration": 48,
    "start_time": "2021-12-26T17:49:43.887Z"
   },
   {
    "duration": 7,
    "start_time": "2021-12-26T17:49:43.937Z"
   },
   {
    "duration": 10,
    "start_time": "2021-12-26T17:49:43.947Z"
   },
   {
    "duration": 9,
    "start_time": "2021-12-26T17:49:43.959Z"
   },
   {
    "duration": 4,
    "start_time": "2021-12-26T17:49:43.969Z"
   },
   {
    "duration": 9,
    "start_time": "2021-12-26T17:49:43.975Z"
   },
   {
    "duration": 5,
    "start_time": "2021-12-26T17:49:44.029Z"
   },
   {
    "duration": 8,
    "start_time": "2021-12-26T17:49:44.037Z"
   },
   {
    "duration": 187,
    "start_time": "2021-12-26T17:49:44.047Z"
   },
   {
    "duration": 92,
    "start_time": "2021-12-26T17:49:44.237Z"
   },
   {
    "duration": 762,
    "start_time": "2021-12-26T17:49:44.331Z"
   },
   {
    "duration": 56,
    "start_time": "2021-12-26T17:49:45.095Z"
   },
   {
    "duration": 7,
    "start_time": "2021-12-26T17:49:45.153Z"
   },
   {
    "duration": 8,
    "start_time": "2021-12-26T17:49:45.162Z"
   },
   {
    "duration": 14,
    "start_time": "2021-12-26T17:49:45.172Z"
   },
   {
    "duration": 42,
    "start_time": "2021-12-26T17:49:45.188Z"
   },
   {
    "duration": 5,
    "start_time": "2021-12-26T17:49:45.232Z"
   },
   {
    "duration": 10,
    "start_time": "2021-12-26T17:49:45.239Z"
   },
   {
    "duration": 178,
    "start_time": "2021-12-26T17:49:45.251Z"
   },
   {
    "duration": 3,
    "start_time": "2021-12-26T17:49:45.431Z"
   },
   {
    "duration": 234,
    "start_time": "2021-12-26T17:49:45.436Z"
   },
   {
    "duration": 7819,
    "start_time": "2021-12-26T17:49:45.671Z"
   },
   {
    "duration": -875,
    "start_time": "2021-12-26T17:49:54.367Z"
   },
   {
    "duration": 7932,
    "start_time": "2021-12-26T17:50:06.255Z"
   },
   {
    "duration": 18,
    "start_time": "2021-12-26T17:50:29.195Z"
   },
   {
    "duration": 98,
    "start_time": "2021-12-26T18:08:37.131Z"
   },
   {
    "duration": 342,
    "start_time": "2021-12-26T18:08:38.025Z"
   },
   {
    "duration": 1113,
    "start_time": "2021-12-27T17:04:11.594Z"
   },
   {
    "duration": 2,
    "start_time": "2021-12-27T17:04:12.709Z"
   },
   {
    "duration": 59,
    "start_time": "2021-12-27T17:04:12.714Z"
   },
   {
    "duration": 10,
    "start_time": "2021-12-27T17:04:12.775Z"
   },
   {
    "duration": 17,
    "start_time": "2021-12-27T17:04:12.787Z"
   },
   {
    "duration": 12,
    "start_time": "2021-12-27T17:04:12.806Z"
   },
   {
    "duration": 46,
    "start_time": "2021-12-27T17:04:12.820Z"
   },
   {
    "duration": 6,
    "start_time": "2021-12-27T17:04:12.870Z"
   },
   {
    "duration": 17,
    "start_time": "2021-12-27T17:04:12.878Z"
   },
   {
    "duration": 13,
    "start_time": "2021-12-27T17:04:12.897Z"
   },
   {
    "duration": 17,
    "start_time": "2021-12-27T17:04:12.912Z"
   },
   {
    "duration": 34,
    "start_time": "2021-12-27T17:04:12.931Z"
   },
   {
    "duration": 12,
    "start_time": "2021-12-27T17:04:12.967Z"
   },
   {
    "duration": 10,
    "start_time": "2021-12-27T17:04:12.981Z"
   },
   {
    "duration": 3,
    "start_time": "2021-12-27T17:04:12.993Z"
   },
   {
    "duration": 10,
    "start_time": "2021-12-27T17:04:12.998Z"
   },
   {
    "duration": 56,
    "start_time": "2021-12-27T17:04:13.009Z"
   },
   {
    "duration": 11,
    "start_time": "2021-12-27T17:04:13.067Z"
   },
   {
    "duration": 7,
    "start_time": "2021-12-27T17:04:13.080Z"
   },
   {
    "duration": 13,
    "start_time": "2021-12-27T17:04:13.089Z"
   },
   {
    "duration": 4,
    "start_time": "2021-12-27T17:04:13.104Z"
   },
   {
    "duration": 8,
    "start_time": "2021-12-27T17:04:13.110Z"
   },
   {
    "duration": 41,
    "start_time": "2021-12-27T17:04:13.122Z"
   },
   {
    "duration": 8,
    "start_time": "2021-12-27T17:04:13.165Z"
   },
   {
    "duration": 94,
    "start_time": "2021-12-27T17:04:13.175Z"
   },
   {
    "duration": 6,
    "start_time": "2021-12-27T17:04:13.272Z"
   },
   {
    "duration": 944,
    "start_time": "2021-12-27T17:04:13.280Z"
   },
   {
    "duration": 55,
    "start_time": "2021-12-27T17:04:14.226Z"
   },
   {
    "duration": 5,
    "start_time": "2021-12-27T17:04:14.283Z"
   },
   {
    "duration": 10,
    "start_time": "2021-12-27T17:04:14.290Z"
   },
   {
    "duration": 17,
    "start_time": "2021-12-27T17:04:14.302Z"
   },
   {
    "duration": 5,
    "start_time": "2021-12-27T17:04:14.321Z"
   },
   {
    "duration": 37,
    "start_time": "2021-12-27T17:04:14.328Z"
   },
   {
    "duration": 11,
    "start_time": "2021-12-27T17:04:14.366Z"
   },
   {
    "duration": 381,
    "start_time": "2021-12-27T17:04:14.379Z"
   },
   {
    "duration": 895,
    "start_time": "2021-12-27T17:04:14.762Z"
   },
   {
    "duration": -22,
    "start_time": "2021-12-27T17:04:15.681Z"
   },
   {
    "duration": -22,
    "start_time": "2021-12-27T17:04:15.683Z"
   },
   {
    "duration": -28,
    "start_time": "2021-12-27T17:04:15.689Z"
   },
   {
    "duration": 6,
    "start_time": "2021-12-27T17:07:32.037Z"
   },
   {
    "duration": 5,
    "start_time": "2021-12-27T17:08:03.305Z"
   },
   {
    "duration": 204,
    "start_time": "2021-12-27T17:15:04.875Z"
   },
   {
    "duration": 291,
    "start_time": "2021-12-27T17:15:16.719Z"
   },
   {
    "duration": 184,
    "start_time": "2021-12-27T17:22:41.977Z"
   },
   {
    "duration": 258,
    "start_time": "2021-12-27T17:22:50.545Z"
   },
   {
    "duration": 215,
    "start_time": "2021-12-27T17:22:57.147Z"
   },
   {
    "duration": 254,
    "start_time": "2021-12-27T17:24:07.850Z"
   },
   {
    "duration": 253,
    "start_time": "2021-12-27T17:24:15.784Z"
   },
   {
    "duration": 4,
    "start_time": "2021-12-27T17:28:47.627Z"
   },
   {
    "duration": 24,
    "start_time": "2021-12-27T17:28:47.634Z"
   },
   {
    "duration": 65,
    "start_time": "2021-12-27T17:28:47.662Z"
   },
   {
    "duration": 13,
    "start_time": "2021-12-27T17:28:47.730Z"
   },
   {
    "duration": 18,
    "start_time": "2021-12-27T17:28:47.745Z"
   },
   {
    "duration": 14,
    "start_time": "2021-12-27T17:28:47.766Z"
   },
   {
    "duration": 25,
    "start_time": "2021-12-27T17:28:47.782Z"
   },
   {
    "duration": 15,
    "start_time": "2021-12-27T17:28:47.811Z"
   },
   {
    "duration": 29,
    "start_time": "2021-12-27T17:28:47.829Z"
   },
   {
    "duration": 30,
    "start_time": "2021-12-27T17:28:47.860Z"
   },
   {
    "duration": 31,
    "start_time": "2021-12-27T17:28:47.892Z"
   },
   {
    "duration": 35,
    "start_time": "2021-12-27T17:28:47.925Z"
   },
   {
    "duration": 24,
    "start_time": "2021-12-27T17:28:47.962Z"
   },
   {
    "duration": 25,
    "start_time": "2021-12-27T17:28:47.988Z"
   },
   {
    "duration": 30,
    "start_time": "2021-12-27T17:28:48.016Z"
   },
   {
    "duration": 27,
    "start_time": "2021-12-27T17:28:48.048Z"
   },
   {
    "duration": 48,
    "start_time": "2021-12-27T17:28:48.077Z"
   },
   {
    "duration": 20,
    "start_time": "2021-12-27T17:28:48.126Z"
   },
   {
    "duration": 34,
    "start_time": "2021-12-27T17:28:48.148Z"
   },
   {
    "duration": 26,
    "start_time": "2021-12-27T17:28:48.183Z"
   },
   {
    "duration": 26,
    "start_time": "2021-12-27T17:28:48.212Z"
   },
   {
    "duration": 14,
    "start_time": "2021-12-27T17:28:48.241Z"
   },
   {
    "duration": 36,
    "start_time": "2021-12-27T17:28:48.260Z"
   },
   {
    "duration": 30,
    "start_time": "2021-12-27T17:28:48.300Z"
   },
   {
    "duration": 131,
    "start_time": "2021-12-27T17:28:48.332Z"
   },
   {
    "duration": 9,
    "start_time": "2021-12-27T17:28:48.465Z"
   },
   {
    "duration": 880,
    "start_time": "2021-12-27T17:28:48.476Z"
   },
   {
    "duration": 44,
    "start_time": "2021-12-27T17:28:49.358Z"
   },
   {
    "duration": 6,
    "start_time": "2021-12-27T17:28:49.404Z"
   },
   {
    "duration": 28,
    "start_time": "2021-12-27T17:28:49.412Z"
   },
   {
    "duration": 28,
    "start_time": "2021-12-27T17:28:49.442Z"
   },
   {
    "duration": 6,
    "start_time": "2021-12-27T17:28:49.472Z"
   },
   {
    "duration": 15,
    "start_time": "2021-12-27T17:28:49.480Z"
   },
   {
    "duration": 10,
    "start_time": "2021-12-27T17:28:49.497Z"
   },
   {
    "duration": 154,
    "start_time": "2021-12-27T17:28:49.509Z"
   },
   {
    "duration": 323,
    "start_time": "2021-12-27T17:28:49.666Z"
   },
   {
    "duration": -40,
    "start_time": "2021-12-27T17:28:50.032Z"
   },
   {
    "duration": -41,
    "start_time": "2021-12-27T17:28:50.034Z"
   },
   {
    "duration": -44,
    "start_time": "2021-12-27T17:28:50.038Z"
   },
   {
    "duration": -48,
    "start_time": "2021-12-27T17:28:50.043Z"
   },
   {
    "duration": -48,
    "start_time": "2021-12-27T17:28:50.045Z"
   },
   {
    "duration": 4,
    "start_time": "2021-12-27T17:29:26.705Z"
   },
   {
    "duration": 21,
    "start_time": "2021-12-27T17:29:26.712Z"
   },
   {
    "duration": 47,
    "start_time": "2021-12-27T17:29:26.736Z"
   },
   {
    "duration": 9,
    "start_time": "2021-12-27T17:29:26.785Z"
   },
   {
    "duration": 28,
    "start_time": "2021-12-27T17:29:26.796Z"
   },
   {
    "duration": 24,
    "start_time": "2021-12-27T17:29:26.826Z"
   },
   {
    "duration": 30,
    "start_time": "2021-12-27T17:29:26.852Z"
   },
   {
    "duration": 16,
    "start_time": "2021-12-27T17:29:26.885Z"
   },
   {
    "duration": 35,
    "start_time": "2021-12-27T17:29:26.904Z"
   },
   {
    "duration": 10,
    "start_time": "2021-12-27T17:29:26.941Z"
   },
   {
    "duration": 23,
    "start_time": "2021-12-27T17:29:26.954Z"
   },
   {
    "duration": 19,
    "start_time": "2021-12-27T17:29:26.980Z"
   },
   {
    "duration": 29,
    "start_time": "2021-12-27T17:29:27.001Z"
   },
   {
    "duration": 37,
    "start_time": "2021-12-27T17:29:27.033Z"
   },
   {
    "duration": 24,
    "start_time": "2021-12-27T17:29:27.072Z"
   },
   {
    "duration": 29,
    "start_time": "2021-12-27T17:29:27.099Z"
   },
   {
    "duration": 42,
    "start_time": "2021-12-27T17:29:27.129Z"
   },
   {
    "duration": 21,
    "start_time": "2021-12-27T17:29:27.173Z"
   },
   {
    "duration": 28,
    "start_time": "2021-12-27T17:29:27.196Z"
   },
   {
    "duration": 24,
    "start_time": "2021-12-27T17:29:27.226Z"
   },
   {
    "duration": 23,
    "start_time": "2021-12-27T17:29:27.252Z"
   },
   {
    "duration": 24,
    "start_time": "2021-12-27T17:29:27.277Z"
   },
   {
    "duration": 24,
    "start_time": "2021-12-27T17:29:27.304Z"
   },
   {
    "duration": 33,
    "start_time": "2021-12-27T17:29:27.330Z"
   },
   {
    "duration": 297,
    "start_time": "2021-12-27T17:29:27.365Z"
   },
   {
    "duration": 7,
    "start_time": "2021-12-27T17:29:27.663Z"
   },
   {
    "duration": 796,
    "start_time": "2021-12-27T17:29:27.672Z"
   },
   {
    "duration": 43,
    "start_time": "2021-12-27T17:29:28.470Z"
   },
   {
    "duration": 7,
    "start_time": "2021-12-27T17:29:28.515Z"
   },
   {
    "duration": 43,
    "start_time": "2021-12-27T17:29:28.524Z"
   },
   {
    "duration": 42,
    "start_time": "2021-12-27T17:29:28.569Z"
   },
   {
    "duration": 35,
    "start_time": "2021-12-27T17:29:28.613Z"
   },
   {
    "duration": 31,
    "start_time": "2021-12-27T17:29:28.650Z"
   },
   {
    "duration": 36,
    "start_time": "2021-12-27T17:29:28.683Z"
   },
   {
    "duration": 145,
    "start_time": "2021-12-27T17:29:28.722Z"
   },
   {
    "duration": 291,
    "start_time": "2021-12-27T17:29:28.869Z"
   },
   {
    "duration": -150,
    "start_time": "2021-12-27T17:29:29.313Z"
   },
   {
    "duration": -151,
    "start_time": "2021-12-27T17:29:29.315Z"
   },
   {
    "duration": -152,
    "start_time": "2021-12-27T17:29:29.317Z"
   },
   {
    "duration": -157,
    "start_time": "2021-12-27T17:29:29.323Z"
   },
   {
    "duration": -157,
    "start_time": "2021-12-27T17:29:29.325Z"
   },
   {
    "duration": 13714,
    "start_time": "2021-12-27T17:30:08.933Z"
   },
   {
    "duration": 21,
    "start_time": "2021-12-27T17:30:27.554Z"
   },
   {
    "duration": 1095,
    "start_time": "2021-12-28T17:02:50.670Z"
   },
   {
    "duration": 2,
    "start_time": "2021-12-28T17:02:51.767Z"
   },
   {
    "duration": 5,
    "start_time": "2021-12-28T17:04:15.572Z"
   },
   {
    "duration": 8,
    "start_time": "2021-12-28T17:04:15.579Z"
   },
   {
    "duration": 41,
    "start_time": "2021-12-28T17:04:15.590Z"
   },
   {
    "duration": 11,
    "start_time": "2021-12-28T17:04:15.633Z"
   },
   {
    "duration": 14,
    "start_time": "2021-12-28T17:04:15.792Z"
   },
   {
    "duration": 8,
    "start_time": "2021-12-28T17:04:15.809Z"
   },
   {
    "duration": 11,
    "start_time": "2021-12-28T17:04:15.819Z"
   },
   {
    "duration": 5,
    "start_time": "2021-12-28T17:04:16.111Z"
   },
   {
    "duration": 15,
    "start_time": "2021-12-28T17:04:16.118Z"
   },
   {
    "duration": 7,
    "start_time": "2021-12-28T17:04:16.135Z"
   },
   {
    "duration": 8,
    "start_time": "2021-12-28T17:04:16.144Z"
   },
   {
    "duration": 16,
    "start_time": "2021-12-28T17:04:16.153Z"
   },
   {
    "duration": 9,
    "start_time": "2021-12-28T17:04:17.215Z"
   },
   {
    "duration": 13,
    "start_time": "2021-12-28T17:04:17.226Z"
   },
   {
    "duration": 19,
    "start_time": "2021-12-28T17:04:17.242Z"
   },
   {
    "duration": 9,
    "start_time": "2021-12-28T17:04:17.263Z"
   },
   {
    "duration": 14,
    "start_time": "2021-12-28T17:04:17.274Z"
   },
   {
    "duration": 6,
    "start_time": "2021-12-28T17:04:17.290Z"
   },
   {
    "duration": 11,
    "start_time": "2021-12-28T17:04:17.298Z"
   },
   {
    "duration": 8,
    "start_time": "2021-12-28T17:04:17.311Z"
   },
   {
    "duration": 20,
    "start_time": "2021-12-28T17:04:17.321Z"
   },
   {
    "duration": 4,
    "start_time": "2021-12-28T17:04:17.342Z"
   },
   {
    "duration": 7,
    "start_time": "2021-12-28T17:04:17.347Z"
   },
   {
    "duration": 8,
    "start_time": "2021-12-28T17:04:17.356Z"
   },
   {
    "duration": 180,
    "start_time": "2021-12-28T17:04:17.366Z"
   },
   {
    "duration": 98,
    "start_time": "2021-12-28T17:04:17.548Z"
   },
   {
    "duration": 959,
    "start_time": "2021-12-28T17:04:17.648Z"
   },
   {
    "duration": 66,
    "start_time": "2021-12-28T17:04:18.609Z"
   },
   {
    "duration": 7,
    "start_time": "2021-12-28T17:04:18.677Z"
   },
   {
    "duration": 9,
    "start_time": "2021-12-28T17:04:18.685Z"
   },
   {
    "duration": 13,
    "start_time": "2021-12-28T17:04:18.696Z"
   },
   {
    "duration": 31,
    "start_time": "2021-12-28T17:04:18.710Z"
   },
   {
    "duration": 7,
    "start_time": "2021-12-28T17:04:18.743Z"
   },
   {
    "duration": 10,
    "start_time": "2021-12-28T17:04:18.751Z"
   },
   {
    "duration": 281,
    "start_time": "2021-12-28T17:04:18.762Z"
   },
   {
    "duration": 259,
    "start_time": "2021-12-28T17:04:19.045Z"
   },
   {
    "duration": -62730,
    "start_time": "2021-12-28T17:05:22.036Z"
   },
   {
    "duration": -62736,
    "start_time": "2021-12-28T17:05:22.043Z"
   },
   {
    "duration": -62743,
    "start_time": "2021-12-28T17:05:22.051Z"
   },
   {
    "duration": -62748,
    "start_time": "2021-12-28T17:05:22.057Z"
   },
   {
    "duration": -62753,
    "start_time": "2021-12-28T17:05:22.063Z"
   },
   {
    "duration": 4,
    "start_time": "2021-12-28T17:09:29.223Z"
   },
   {
    "duration": 9,
    "start_time": "2021-12-28T17:09:29.229Z"
   },
   {
    "duration": 39,
    "start_time": "2021-12-28T17:09:29.240Z"
   },
   {
    "duration": 10,
    "start_time": "2021-12-28T17:09:29.281Z"
   },
   {
    "duration": 20,
    "start_time": "2021-12-28T17:09:29.292Z"
   },
   {
    "duration": 28,
    "start_time": "2021-12-28T17:09:29.315Z"
   },
   {
    "duration": 10,
    "start_time": "2021-12-28T17:09:29.346Z"
   },
   {
    "duration": 6,
    "start_time": "2021-12-28T17:09:29.358Z"
   },
   {
    "duration": 20,
    "start_time": "2021-12-28T17:09:29.365Z"
   },
   {
    "duration": 7,
    "start_time": "2021-12-28T17:09:29.387Z"
   },
   {
    "duration": 10,
    "start_time": "2021-12-28T17:09:29.396Z"
   },
   {
    "duration": 35,
    "start_time": "2021-12-28T17:09:29.407Z"
   },
   {
    "duration": 8,
    "start_time": "2021-12-28T17:09:29.444Z"
   },
   {
    "duration": 11,
    "start_time": "2021-12-28T17:09:29.453Z"
   },
   {
    "duration": 5,
    "start_time": "2021-12-28T17:09:29.465Z"
   },
   {
    "duration": 10,
    "start_time": "2021-12-28T17:09:29.471Z"
   },
   {
    "duration": 14,
    "start_time": "2021-12-28T17:09:29.483Z"
   },
   {
    "duration": 7,
    "start_time": "2021-12-28T17:09:29.498Z"
   },
   {
    "duration": 34,
    "start_time": "2021-12-28T17:09:29.508Z"
   },
   {
    "duration": 9,
    "start_time": "2021-12-28T17:09:29.545Z"
   },
   {
    "duration": 5,
    "start_time": "2021-12-28T17:09:29.555Z"
   },
   {
    "duration": 7,
    "start_time": "2021-12-28T17:09:29.562Z"
   },
   {
    "duration": 8,
    "start_time": "2021-12-28T17:09:29.571Z"
   },
   {
    "duration": 8,
    "start_time": "2021-12-28T17:09:29.581Z"
   },
   {
    "duration": 155,
    "start_time": "2021-12-28T17:09:29.591Z"
   },
   {
    "duration": 97,
    "start_time": "2021-12-28T17:09:29.748Z"
   },
   {
    "duration": 830,
    "start_time": "2021-12-28T17:09:29.847Z"
   },
   {
    "duration": 38,
    "start_time": "2021-12-28T17:09:30.679Z"
   },
   {
    "duration": 23,
    "start_time": "2021-12-28T17:09:30.719Z"
   },
   {
    "duration": 8,
    "start_time": "2021-12-28T17:09:30.743Z"
   },
   {
    "duration": 30,
    "start_time": "2021-12-28T17:09:30.753Z"
   },
   {
    "duration": 15,
    "start_time": "2021-12-28T17:09:30.785Z"
   },
   {
    "duration": 9,
    "start_time": "2021-12-28T17:09:30.801Z"
   },
   {
    "duration": 17,
    "start_time": "2021-12-28T17:09:30.812Z"
   },
   {
    "duration": 118,
    "start_time": "2021-12-28T17:09:30.830Z"
   },
   {
    "duration": 331,
    "start_time": "2021-12-28T17:09:30.950Z"
   },
   {
    "duration": -60,
    "start_time": "2021-12-28T17:09:31.343Z"
   },
   {
    "duration": -63,
    "start_time": "2021-12-28T17:09:31.347Z"
   },
   {
    "duration": -66,
    "start_time": "2021-12-28T17:09:31.351Z"
   },
   {
    "duration": -74,
    "start_time": "2021-12-28T17:09:31.360Z"
   },
   {
    "duration": -78,
    "start_time": "2021-12-28T17:09:31.364Z"
   },
   {
    "duration": 4,
    "start_time": "2021-12-28T17:10:29.174Z"
   },
   {
    "duration": 5,
    "start_time": "2021-12-28T17:10:29.182Z"
   },
   {
    "duration": 36,
    "start_time": "2021-12-28T17:10:29.191Z"
   },
   {
    "duration": 8,
    "start_time": "2021-12-28T17:10:29.229Z"
   },
   {
    "duration": 12,
    "start_time": "2021-12-28T17:10:29.239Z"
   },
   {
    "duration": 6,
    "start_time": "2021-12-28T17:10:29.253Z"
   },
   {
    "duration": 12,
    "start_time": "2021-12-28T17:10:29.260Z"
   },
   {
    "duration": 4,
    "start_time": "2021-12-28T17:10:29.273Z"
   },
   {
    "duration": 14,
    "start_time": "2021-12-28T17:10:29.279Z"
   },
   {
    "duration": 7,
    "start_time": "2021-12-28T17:10:29.295Z"
   },
   {
    "duration": 41,
    "start_time": "2021-12-28T17:10:29.305Z"
   },
   {
    "duration": 6,
    "start_time": "2021-12-28T17:10:29.348Z"
   },
   {
    "duration": 10,
    "start_time": "2021-12-28T17:10:29.355Z"
   },
   {
    "duration": 9,
    "start_time": "2021-12-28T17:10:29.366Z"
   },
   {
    "duration": 4,
    "start_time": "2021-12-28T17:10:29.377Z"
   },
   {
    "duration": 16,
    "start_time": "2021-12-28T17:10:29.383Z"
   },
   {
    "duration": 42,
    "start_time": "2021-12-28T17:10:29.401Z"
   },
   {
    "duration": 7,
    "start_time": "2021-12-28T17:10:29.445Z"
   },
   {
    "duration": 13,
    "start_time": "2021-12-28T17:10:29.453Z"
   },
   {
    "duration": 17,
    "start_time": "2021-12-28T17:10:29.468Z"
   },
   {
    "duration": 9,
    "start_time": "2021-12-28T17:10:29.486Z"
   },
   {
    "duration": 20,
    "start_time": "2021-12-28T17:10:29.497Z"
   },
   {
    "duration": 20,
    "start_time": "2021-12-28T17:10:29.518Z"
   },
   {
    "duration": 14,
    "start_time": "2021-12-28T17:10:29.540Z"
   },
   {
    "duration": 92,
    "start_time": "2021-12-28T17:10:29.556Z"
   },
   {
    "duration": 96,
    "start_time": "2021-12-28T17:10:29.651Z"
   },
   {
    "duration": 820,
    "start_time": "2021-12-28T17:10:29.750Z"
   },
   {
    "duration": 41,
    "start_time": "2021-12-28T17:10:30.572Z"
   },
   {
    "duration": 5,
    "start_time": "2021-12-28T17:10:30.616Z"
   },
   {
    "duration": 26,
    "start_time": "2021-12-28T17:10:30.623Z"
   },
   {
    "duration": 23,
    "start_time": "2021-12-28T17:10:30.651Z"
   },
   {
    "duration": 21,
    "start_time": "2021-12-28T17:10:30.676Z"
   },
   {
    "duration": 24,
    "start_time": "2021-12-28T17:10:30.698Z"
   },
   {
    "duration": 26,
    "start_time": "2021-12-28T17:10:30.724Z"
   },
   {
    "duration": 107,
    "start_time": "2021-12-28T17:10:30.751Z"
   },
   {
    "duration": 99,
    "start_time": "2021-12-28T17:10:30.942Z"
   },
   {
    "duration": 138,
    "start_time": "2021-12-28T17:10:31.043Z"
   },
   {
    "duration": 8283,
    "start_time": "2021-12-28T17:10:31.183Z"
   },
   {
    "duration": 9,
    "start_time": "2021-12-28T17:10:39.468Z"
   },
   {
    "duration": 102,
    "start_time": "2021-12-28T17:10:39.543Z"
   },
   {
    "duration": 6,
    "start_time": "2021-12-28T17:10:39.646Z"
   },
   {
    "duration": 4,
    "start_time": "2021-12-28T17:11:28.711Z"
   },
   {
    "duration": 8,
    "start_time": "2021-12-28T17:11:28.717Z"
   },
   {
    "duration": 43,
    "start_time": "2021-12-28T17:11:28.727Z"
   },
   {
    "duration": 8,
    "start_time": "2021-12-28T17:11:28.772Z"
   },
   {
    "duration": 13,
    "start_time": "2021-12-28T17:11:28.781Z"
   },
   {
    "duration": 7,
    "start_time": "2021-12-28T17:11:28.796Z"
   },
   {
    "duration": 42,
    "start_time": "2021-12-28T17:11:28.805Z"
   },
   {
    "duration": 1003,
    "start_time": "2021-12-28T17:12:26.766Z"
   },
   {
    "duration": 2,
    "start_time": "2021-12-28T17:12:27.771Z"
   },
   {
    "duration": 64,
    "start_time": "2021-12-28T17:12:27.775Z"
   },
   {
    "duration": 8,
    "start_time": "2021-12-28T17:12:27.840Z"
   },
   {
    "duration": 19,
    "start_time": "2021-12-28T17:12:27.849Z"
   },
   {
    "duration": 11,
    "start_time": "2021-12-28T17:12:27.870Z"
   },
   {
    "duration": 16,
    "start_time": "2021-12-28T17:12:27.882Z"
   },
   {
    "duration": 12,
    "start_time": "2021-12-28T17:12:27.901Z"
   },
   {
    "duration": 17,
    "start_time": "2021-12-28T17:12:27.915Z"
   },
   {
    "duration": 32,
    "start_time": "2021-12-28T17:12:27.934Z"
   },
   {
    "duration": 28,
    "start_time": "2021-12-28T17:12:27.967Z"
   },
   {
    "duration": 27,
    "start_time": "2021-12-28T17:12:27.996Z"
   },
   {
    "duration": 16,
    "start_time": "2021-12-28T17:12:28.024Z"
   },
   {
    "duration": 26,
    "start_time": "2021-12-28T17:12:28.042Z"
   },
   {
    "duration": 14,
    "start_time": "2021-12-28T17:12:28.069Z"
   },
   {
    "duration": 26,
    "start_time": "2021-12-28T17:12:28.084Z"
   },
   {
    "duration": 32,
    "start_time": "2021-12-28T17:12:28.111Z"
   },
   {
    "duration": 31,
    "start_time": "2021-12-28T17:12:28.145Z"
   },
   {
    "duration": 27,
    "start_time": "2021-12-28T17:12:28.178Z"
   },
   {
    "duration": 19,
    "start_time": "2021-12-28T17:12:28.207Z"
   },
   {
    "duration": 8,
    "start_time": "2021-12-28T17:12:28.228Z"
   },
   {
    "duration": 24,
    "start_time": "2021-12-28T17:12:28.238Z"
   },
   {
    "duration": 22,
    "start_time": "2021-12-28T17:12:28.265Z"
   },
   {
    "duration": 23,
    "start_time": "2021-12-28T17:12:28.289Z"
   },
   {
    "duration": 133,
    "start_time": "2021-12-28T17:12:28.313Z"
   },
   {
    "duration": 97,
    "start_time": "2021-12-28T17:12:28.448Z"
   },
   {
    "duration": 695,
    "start_time": "2021-12-28T17:12:28.547Z"
   },
   {
    "duration": 40,
    "start_time": "2021-12-28T17:12:29.244Z"
   },
   {
    "duration": 6,
    "start_time": "2021-12-28T17:12:29.286Z"
   },
   {
    "duration": 9,
    "start_time": "2021-12-28T17:12:29.294Z"
   },
   {
    "duration": 50,
    "start_time": "2021-12-28T17:12:29.304Z"
   },
   {
    "duration": 7,
    "start_time": "2021-12-28T17:12:29.355Z"
   },
   {
    "duration": 7,
    "start_time": "2021-12-28T17:12:29.364Z"
   },
   {
    "duration": 11,
    "start_time": "2021-12-28T17:12:29.372Z"
   },
   {
    "duration": 163,
    "start_time": "2021-12-28T17:12:29.385Z"
   },
   {
    "duration": 98,
    "start_time": "2021-12-28T17:12:29.550Z"
   },
   {
    "duration": 223,
    "start_time": "2021-12-28T17:12:29.650Z"
   },
   {
    "duration": 8467,
    "start_time": "2021-12-28T17:12:29.875Z"
   },
   {
    "duration": 13,
    "start_time": "2021-12-28T17:12:38.343Z"
   },
   {
    "duration": 127,
    "start_time": "2021-12-28T17:12:38.445Z"
   },
   {
    "duration": 23,
    "start_time": "2021-12-28T17:12:38.574Z"
   },
   {
    "duration": 4,
    "start_time": "2021-12-28T17:14:35.285Z"
   },
   {
    "duration": 7,
    "start_time": "2021-12-28T17:14:35.291Z"
   },
   {
    "duration": 42,
    "start_time": "2021-12-28T17:14:35.300Z"
   },
   {
    "duration": 7,
    "start_time": "2021-12-28T17:14:35.344Z"
   },
   {
    "duration": 14,
    "start_time": "2021-12-28T17:14:35.353Z"
   },
   {
    "duration": 6,
    "start_time": "2021-12-28T17:14:35.369Z"
   },
   {
    "duration": 14,
    "start_time": "2021-12-28T17:14:35.377Z"
   },
   {
    "duration": 4,
    "start_time": "2021-12-28T17:14:35.393Z"
   },
   {
    "duration": 44,
    "start_time": "2021-12-28T17:14:35.400Z"
   },
   {
    "duration": 7,
    "start_time": "2021-12-28T17:14:35.446Z"
   },
   {
    "duration": 8,
    "start_time": "2021-12-28T17:14:35.454Z"
   },
   {
    "duration": 10,
    "start_time": "2021-12-28T17:14:35.463Z"
   },
   {
    "duration": 10,
    "start_time": "2021-12-28T17:14:35.475Z"
   },
   {
    "duration": 10,
    "start_time": "2021-12-28T17:14:35.487Z"
   },
   {
    "duration": 12,
    "start_time": "2021-12-28T17:14:35.498Z"
   },
   {
    "duration": 11,
    "start_time": "2021-12-28T17:14:35.511Z"
   },
   {
    "duration": 26,
    "start_time": "2021-12-28T17:14:35.523Z"
   },
   {
    "duration": 1081,
    "start_time": "2021-12-28T17:14:49.800Z"
   },
   {
    "duration": 2,
    "start_time": "2021-12-28T17:14:50.883Z"
   },
   {
    "duration": 51,
    "start_time": "2021-12-28T17:14:50.887Z"
   },
   {
    "duration": 7,
    "start_time": "2021-12-28T17:14:50.940Z"
   },
   {
    "duration": 16,
    "start_time": "2021-12-28T17:14:50.948Z"
   },
   {
    "duration": 6,
    "start_time": "2021-12-28T17:14:50.966Z"
   },
   {
    "duration": 12,
    "start_time": "2021-12-28T17:14:50.973Z"
   },
   {
    "duration": 5,
    "start_time": "2021-12-28T17:14:50.987Z"
   },
   {
    "duration": 18,
    "start_time": "2021-12-28T17:14:50.994Z"
   },
   {
    "duration": 27,
    "start_time": "2021-12-28T17:14:51.014Z"
   },
   {
    "duration": 6,
    "start_time": "2021-12-28T17:14:51.043Z"
   },
   {
    "duration": 9,
    "start_time": "2021-12-28T17:14:51.050Z"
   },
   {
    "duration": 11,
    "start_time": "2021-12-28T17:14:51.060Z"
   },
   {
    "duration": 12,
    "start_time": "2021-12-28T17:14:51.073Z"
   },
   {
    "duration": 7,
    "start_time": "2021-12-28T17:14:51.087Z"
   },
   {
    "duration": 24,
    "start_time": "2021-12-28T17:14:51.096Z"
   },
   {
    "duration": 21,
    "start_time": "2021-12-28T17:14:51.121Z"
   },
   {
    "duration": 7,
    "start_time": "2021-12-28T17:14:51.144Z"
   },
   {
    "duration": 5,
    "start_time": "2021-12-28T17:14:51.153Z"
   },
   {
    "duration": 12,
    "start_time": "2021-12-28T17:14:51.160Z"
   },
   {
    "duration": 6,
    "start_time": "2021-12-28T17:14:51.173Z"
   },
   {
    "duration": 12,
    "start_time": "2021-12-28T17:14:51.181Z"
   },
   {
    "duration": 6,
    "start_time": "2021-12-28T17:14:51.196Z"
   },
   {
    "duration": 7,
    "start_time": "2021-12-28T17:14:51.204Z"
   },
   {
    "duration": 134,
    "start_time": "2021-12-28T17:14:51.212Z"
   },
   {
    "duration": 97,
    "start_time": "2021-12-28T17:14:51.348Z"
   },
   {
    "duration": 702,
    "start_time": "2021-12-28T17:14:51.447Z"
   },
   {
    "duration": 44,
    "start_time": "2021-12-28T17:14:52.151Z"
   },
   {
    "duration": 5,
    "start_time": "2021-12-28T17:14:52.197Z"
   },
   {
    "duration": 12,
    "start_time": "2021-12-28T17:14:52.203Z"
   },
   {
    "duration": 33,
    "start_time": "2021-12-28T17:14:52.216Z"
   },
   {
    "duration": 6,
    "start_time": "2021-12-28T17:14:52.251Z"
   },
   {
    "duration": 11,
    "start_time": "2021-12-28T17:14:52.258Z"
   },
   {
    "duration": 9,
    "start_time": "2021-12-28T17:14:52.270Z"
   },
   {
    "duration": 168,
    "start_time": "2021-12-28T17:14:52.280Z"
   },
   {
    "duration": 97,
    "start_time": "2021-12-28T17:14:52.450Z"
   },
   {
    "duration": 200,
    "start_time": "2021-12-28T17:14:52.549Z"
   },
   {
    "duration": 8443,
    "start_time": "2021-12-28T17:14:52.751Z"
   },
   {
    "duration": 55,
    "start_time": "2021-12-28T17:15:01.195Z"
   },
   {
    "duration": 15,
    "start_time": "2021-12-28T17:15:01.341Z"
   },
   {
    "duration": 13,
    "start_time": "2021-12-28T17:15:01.357Z"
   },
   {
    "duration": 84,
    "start_time": "2021-12-28T17:17:56.162Z"
   },
   {
    "duration": 3,
    "start_time": "2021-12-28T18:11:07.199Z"
   },
   {
    "duration": 7,
    "start_time": "2021-12-28T18:11:07.205Z"
   },
   {
    "duration": 38,
    "start_time": "2021-12-28T18:11:07.214Z"
   },
   {
    "duration": 7,
    "start_time": "2021-12-28T18:11:07.254Z"
   },
   {
    "duration": 13,
    "start_time": "2021-12-28T18:11:07.263Z"
   },
   {
    "duration": 6,
    "start_time": "2021-12-28T18:11:07.277Z"
   },
   {
    "duration": 10,
    "start_time": "2021-12-28T18:11:07.284Z"
   },
   {
    "duration": 47,
    "start_time": "2021-12-28T18:11:07.296Z"
   },
   {
    "duration": 11,
    "start_time": "2021-12-28T18:11:07.346Z"
   },
   {
    "duration": 6,
    "start_time": "2021-12-28T18:11:07.359Z"
   },
   {
    "duration": 8,
    "start_time": "2021-12-28T18:11:07.367Z"
   },
   {
    "duration": 11,
    "start_time": "2021-12-28T18:11:07.376Z"
   },
   {
    "duration": 10,
    "start_time": "2021-12-28T18:11:07.388Z"
   },
   {
    "duration": 46,
    "start_time": "2021-12-28T18:11:07.400Z"
   },
   {
    "duration": 4,
    "start_time": "2021-12-28T18:11:07.448Z"
   },
   {
    "duration": 11,
    "start_time": "2021-12-28T18:11:07.453Z"
   },
   {
    "duration": 17,
    "start_time": "2021-12-28T18:11:07.466Z"
   },
   {
    "duration": 8,
    "start_time": "2021-12-28T18:11:07.484Z"
   },
   {
    "duration": 8,
    "start_time": "2021-12-28T18:11:07.494Z"
   },
   {
    "duration": 10,
    "start_time": "2021-12-28T18:11:07.540Z"
   },
   {
    "duration": 4,
    "start_time": "2021-12-28T18:11:07.552Z"
   },
   {
    "duration": 4,
    "start_time": "2021-12-28T18:11:07.558Z"
   },
   {
    "duration": 7,
    "start_time": "2021-12-28T18:11:07.564Z"
   },
   {
    "duration": 8,
    "start_time": "2021-12-28T18:11:07.573Z"
   },
   {
    "duration": 162,
    "start_time": "2021-12-28T18:11:07.583Z"
   },
   {
    "duration": 96,
    "start_time": "2021-12-28T18:11:07.748Z"
   },
   {
    "duration": 714,
    "start_time": "2021-12-28T18:11:07.848Z"
   },
   {
    "duration": 42,
    "start_time": "2021-12-28T18:11:08.564Z"
   },
   {
    "duration": 6,
    "start_time": "2021-12-28T18:11:08.607Z"
   },
   {
    "duration": 31,
    "start_time": "2021-12-28T18:11:08.614Z"
   },
   {
    "duration": 32,
    "start_time": "2021-12-28T18:11:08.647Z"
   },
   {
    "duration": 14,
    "start_time": "2021-12-28T18:11:08.681Z"
   },
   {
    "duration": 18,
    "start_time": "2021-12-28T18:11:08.697Z"
   },
   {
    "duration": 30,
    "start_time": "2021-12-28T18:11:08.716Z"
   },
   {
    "duration": 103,
    "start_time": "2021-12-28T18:11:08.747Z"
   },
   {
    "duration": 101,
    "start_time": "2021-12-28T18:11:08.942Z"
   },
   {
    "duration": 146,
    "start_time": "2021-12-28T18:11:09.044Z"
   },
   {
    "duration": 8318,
    "start_time": "2021-12-28T18:11:09.192Z"
   },
   {
    "duration": 36,
    "start_time": "2021-12-28T18:11:17.512Z"
   },
   {
    "duration": 8563,
    "start_time": "2021-12-28T18:11:17.550Z"
   },
   {
    "duration": 1167,
    "start_time": "2021-12-28T18:18:32.533Z"
   },
   {
    "duration": 3,
    "start_time": "2021-12-28T18:18:33.702Z"
   },
   {
    "duration": 53,
    "start_time": "2021-12-28T18:18:33.709Z"
   },
   {
    "duration": 11,
    "start_time": "2021-12-28T18:18:33.764Z"
   },
   {
    "duration": 11,
    "start_time": "2021-12-28T18:18:33.777Z"
   },
   {
    "duration": 7,
    "start_time": "2021-12-28T18:18:33.790Z"
   },
   {
    "duration": 50,
    "start_time": "2021-12-28T18:18:33.800Z"
   },
   {
    "duration": 6,
    "start_time": "2021-12-28T18:18:33.852Z"
   },
   {
    "duration": 19,
    "start_time": "2021-12-28T18:18:33.859Z"
   },
   {
    "duration": 9,
    "start_time": "2021-12-28T18:18:33.879Z"
   },
   {
    "duration": 13,
    "start_time": "2021-12-28T18:18:33.889Z"
   },
   {
    "duration": 42,
    "start_time": "2021-12-28T18:18:33.904Z"
   },
   {
    "duration": 10,
    "start_time": "2021-12-28T18:18:33.948Z"
   },
   {
    "duration": 11,
    "start_time": "2021-12-28T18:18:33.960Z"
   },
   {
    "duration": 5,
    "start_time": "2021-12-28T18:18:33.973Z"
   },
   {
    "duration": 13,
    "start_time": "2021-12-28T18:18:33.979Z"
   },
   {
    "duration": 52,
    "start_time": "2021-12-28T18:18:33.994Z"
   },
   {
    "duration": 8,
    "start_time": "2021-12-28T18:18:34.047Z"
   },
   {
    "duration": 9,
    "start_time": "2021-12-28T18:18:34.056Z"
   },
   {
    "duration": 10,
    "start_time": "2021-12-28T18:18:34.066Z"
   },
   {
    "duration": 8,
    "start_time": "2021-12-28T18:18:34.078Z"
   },
   {
    "duration": 7,
    "start_time": "2021-12-28T18:18:34.089Z"
   },
   {
    "duration": 45,
    "start_time": "2021-12-28T18:18:34.098Z"
   },
   {
    "duration": 6,
    "start_time": "2021-12-28T18:18:34.145Z"
   },
   {
    "duration": 195,
    "start_time": "2021-12-28T18:18:34.152Z"
   },
   {
    "duration": 97,
    "start_time": "2021-12-28T18:18:34.349Z"
   },
   {
    "duration": 733,
    "start_time": "2021-12-28T18:18:34.447Z"
   },
   {
    "duration": 39,
    "start_time": "2021-12-28T18:18:35.182Z"
   },
   {
    "duration": 19,
    "start_time": "2021-12-28T18:18:35.223Z"
   },
   {
    "duration": 6,
    "start_time": "2021-12-28T18:18:35.244Z"
   },
   {
    "duration": 14,
    "start_time": "2021-12-28T18:18:35.252Z"
   },
   {
    "duration": 6,
    "start_time": "2021-12-28T18:18:35.268Z"
   },
   {
    "duration": 8,
    "start_time": "2021-12-28T18:18:35.275Z"
   },
   {
    "duration": 57,
    "start_time": "2021-12-28T18:18:35.284Z"
   },
   {
    "duration": 203,
    "start_time": "2021-12-28T18:18:35.343Z"
   },
   {
    "duration": 8,
    "start_time": "2021-12-28T18:18:35.548Z"
   },
   {
    "duration": 204,
    "start_time": "2021-12-28T18:18:35.558Z"
   },
   {
    "duration": 8477,
    "start_time": "2021-12-28T18:18:35.764Z"
   },
   {
    "duration": 8,
    "start_time": "2021-12-28T18:18:44.243Z"
   },
   {
    "duration": 8582,
    "start_time": "2021-12-28T18:18:44.253Z"
   },
   {
    "duration": 1100,
    "start_time": "2021-12-30T04:26:18.515Z"
   },
   {
    "duration": 2,
    "start_time": "2021-12-30T04:26:19.617Z"
   },
   {
    "duration": 48,
    "start_time": "2021-12-30T04:26:19.622Z"
   },
   {
    "duration": 9,
    "start_time": "2021-12-30T04:26:19.673Z"
   },
   {
    "duration": 11,
    "start_time": "2021-12-30T04:26:19.684Z"
   },
   {
    "duration": 7,
    "start_time": "2021-12-30T04:26:19.697Z"
   },
   {
    "duration": 35,
    "start_time": "2021-12-30T04:26:19.706Z"
   },
   {
    "duration": 6,
    "start_time": "2021-12-30T04:26:19.744Z"
   },
   {
    "duration": 12,
    "start_time": "2021-12-30T04:26:19.753Z"
   },
   {
    "duration": 11,
    "start_time": "2021-12-30T04:26:19.767Z"
   },
   {
    "duration": 8,
    "start_time": "2021-12-30T04:26:19.779Z"
   },
   {
    "duration": 9,
    "start_time": "2021-12-30T04:26:19.788Z"
   },
   {
    "duration": 42,
    "start_time": "2021-12-30T04:26:19.799Z"
   },
   {
    "duration": 9,
    "start_time": "2021-12-30T04:26:19.843Z"
   },
   {
    "duration": 8,
    "start_time": "2021-12-30T04:26:19.854Z"
   },
   {
    "duration": 10,
    "start_time": "2021-12-30T04:26:19.863Z"
   },
   {
    "duration": 15,
    "start_time": "2021-12-30T04:26:19.875Z"
   },
   {
    "duration": 7,
    "start_time": "2021-12-30T04:26:19.892Z"
   },
   {
    "duration": 12,
    "start_time": "2021-12-30T04:26:19.901Z"
   },
   {
    "duration": 31,
    "start_time": "2021-12-30T04:26:19.915Z"
   },
   {
    "duration": 5,
    "start_time": "2021-12-30T04:26:19.948Z"
   },
   {
    "duration": 12,
    "start_time": "2021-12-30T04:26:19.954Z"
   },
   {
    "duration": 10,
    "start_time": "2021-12-30T04:26:19.969Z"
   },
   {
    "duration": 8,
    "start_time": "2021-12-30T04:26:19.981Z"
   },
   {
    "duration": 78,
    "start_time": "2021-12-30T04:26:19.991Z"
   },
   {
    "duration": 8,
    "start_time": "2021-12-30T04:26:20.143Z"
   },
   {
    "duration": 684,
    "start_time": "2021-12-30T04:26:20.241Z"
   },
   {
    "duration": 45,
    "start_time": "2021-12-30T04:26:20.927Z"
   },
   {
    "duration": 7,
    "start_time": "2021-12-30T04:26:20.973Z"
   },
   {
    "duration": 12,
    "start_time": "2021-12-30T04:26:20.981Z"
   },
   {
    "duration": 14,
    "start_time": "2021-12-30T04:26:20.994Z"
   },
   {
    "duration": 32,
    "start_time": "2021-12-30T04:26:21.010Z"
   },
   {
    "duration": 6,
    "start_time": "2021-12-30T04:26:21.044Z"
   },
   {
    "duration": 9,
    "start_time": "2021-12-30T04:26:21.052Z"
   },
   {
    "duration": 84,
    "start_time": "2021-12-30T04:26:21.063Z"
   },
   {
    "duration": 94,
    "start_time": "2021-12-30T04:26:21.149Z"
   },
   {
    "duration": 184,
    "start_time": "2021-12-30T04:26:21.245Z"
   },
   {
    "duration": 8252,
    "start_time": "2021-12-30T04:26:21.431Z"
   },
   {
    "duration": 58,
    "start_time": "2021-12-30T04:26:29.685Z"
   },
   {
    "duration": 11997,
    "start_time": "2021-12-30T04:26:29.745Z"
   },
   {
    "duration": 314387,
    "start_time": "2021-12-30T05:10:04.677Z"
   },
   {
    "duration": 1103,
    "start_time": "2021-12-30T05:16:11.746Z"
   },
   {
    "duration": 3,
    "start_time": "2021-12-30T05:16:12.851Z"
   },
   {
    "duration": 36,
    "start_time": "2021-12-30T05:16:12.856Z"
   },
   {
    "duration": 24,
    "start_time": "2021-12-30T05:16:12.894Z"
   },
   {
    "duration": 47,
    "start_time": "2021-12-30T05:16:12.919Z"
   },
   {
    "duration": 8,
    "start_time": "2021-12-30T05:16:12.968Z"
   },
   {
    "duration": 11,
    "start_time": "2021-12-30T05:16:12.978Z"
   },
   {
    "duration": 6,
    "start_time": "2021-12-30T05:16:12.992Z"
   },
   {
    "duration": 11,
    "start_time": "2021-12-30T05:16:13.000Z"
   },
   {
    "duration": 30,
    "start_time": "2021-12-30T05:16:13.013Z"
   },
   {
    "duration": 13,
    "start_time": "2021-12-30T05:16:13.045Z"
   },
   {
    "duration": 7,
    "start_time": "2021-12-30T05:16:13.060Z"
   },
   {
    "duration": 10,
    "start_time": "2021-12-30T05:16:13.068Z"
   },
   {
    "duration": 8,
    "start_time": "2021-12-30T05:16:13.080Z"
   },
   {
    "duration": 10,
    "start_time": "2021-12-30T05:16:13.090Z"
   },
   {
    "duration": 10,
    "start_time": "2021-12-30T05:16:13.102Z"
   },
   {
    "duration": 27,
    "start_time": "2021-12-30T05:16:13.114Z"
   },
   {
    "duration": 8,
    "start_time": "2021-12-30T05:16:13.142Z"
   },
   {
    "duration": 14,
    "start_time": "2021-12-30T05:16:13.151Z"
   },
   {
    "duration": 7,
    "start_time": "2021-12-30T05:16:13.167Z"
   },
   {
    "duration": 8,
    "start_time": "2021-12-30T05:16:13.176Z"
   },
   {
    "duration": 10,
    "start_time": "2021-12-30T05:16:13.185Z"
   },
   {
    "duration": 5,
    "start_time": "2021-12-30T05:16:13.197Z"
   },
   {
    "duration": 8,
    "start_time": "2021-12-30T05:16:13.204Z"
   },
   {
    "duration": 29,
    "start_time": "2021-12-30T05:16:13.213Z"
   },
   {
    "duration": 6,
    "start_time": "2021-12-30T05:16:13.243Z"
   },
   {
    "duration": 97,
    "start_time": "2021-12-30T05:16:13.250Z"
   },
   {
    "duration": 94,
    "start_time": "2021-12-30T05:16:13.349Z"
   },
   {
    "duration": 785,
    "start_time": "2021-12-30T05:16:13.446Z"
   },
   {
    "duration": 48,
    "start_time": "2021-12-30T05:16:14.233Z"
   },
   {
    "duration": 5,
    "start_time": "2021-12-30T05:16:14.283Z"
   },
   {
    "duration": 12,
    "start_time": "2021-12-30T05:16:14.289Z"
   },
   {
    "duration": 13,
    "start_time": "2021-12-30T05:16:14.303Z"
   },
   {
    "duration": 23,
    "start_time": "2021-12-30T05:16:14.318Z"
   },
   {
    "duration": 5,
    "start_time": "2021-12-30T05:16:14.342Z"
   },
   {
    "duration": 9,
    "start_time": "2021-12-30T05:16:14.349Z"
   },
   {
    "duration": 181,
    "start_time": "2021-12-30T05:16:14.360Z"
   },
   {
    "duration": 9,
    "start_time": "2021-12-30T05:16:14.544Z"
   },
   {
    "duration": 1118,
    "start_time": "2021-12-30T05:16:14.642Z"
   },
   {
    "duration": 8135,
    "start_time": "2021-12-30T05:16:15.762Z"
   },
   {
    "duration": 44,
    "start_time": "2021-12-30T05:16:23.899Z"
   },
   {
    "duration": 8215,
    "start_time": "2021-12-30T05:16:23.945Z"
   },
   {
    "duration": 4,
    "start_time": "2021-12-30T05:37:23.757Z"
   },
   {
    "duration": 409,
    "start_time": "2021-12-30T05:46:27.470Z"
   },
   {
    "duration": 10,
    "start_time": "2021-12-30T05:50:40.880Z"
   },
   {
    "duration": 10,
    "start_time": "2021-12-30T05:50:48.747Z"
   },
   {
    "duration": 237,
    "start_time": "2021-12-30T05:50:55.972Z"
   },
   {
    "duration": 11,
    "start_time": "2021-12-30T05:51:01.491Z"
   },
   {
    "duration": 13,
    "start_time": "2021-12-30T05:51:47.099Z"
   },
   {
    "duration": 9,
    "start_time": "2021-12-30T05:52:05.261Z"
   },
   {
    "duration": 24,
    "start_time": "2021-12-30T05:57:04.711Z"
   },
   {
    "duration": 4,
    "start_time": "2021-12-30T06:09:06.327Z"
   },
   {
    "duration": 16,
    "start_time": "2021-12-30T06:32:01.764Z"
   },
   {
    "duration": 74,
    "start_time": "2021-12-30T06:38:24.948Z"
   },
   {
    "duration": 76,
    "start_time": "2021-12-30T06:38:55.962Z"
   },
   {
    "duration": 102,
    "start_time": "2021-12-30T06:39:15.167Z"
   },
   {
    "duration": 1085,
    "start_time": "2022-01-04T09:30:55.425Z"
   },
   {
    "duration": 3,
    "start_time": "2022-01-04T09:30:56.511Z"
   },
   {
    "duration": 10,
    "start_time": "2022-01-04T09:30:56.516Z"
   },
   {
    "duration": 2,
    "start_time": "2022-01-04T09:30:56.529Z"
   },
   {
    "duration": 47,
    "start_time": "2022-01-04T09:30:56.533Z"
   },
   {
    "duration": 7,
    "start_time": "2022-01-04T09:30:56.582Z"
   },
   {
    "duration": 10,
    "start_time": "2022-01-04T09:30:56.591Z"
   },
   {
    "duration": 8,
    "start_time": "2022-01-04T09:30:56.603Z"
   },
   {
    "duration": 10,
    "start_time": "2022-01-04T09:30:56.614Z"
   },
   {
    "duration": 36,
    "start_time": "2022-01-04T09:30:56.627Z"
   },
   {
    "duration": 12,
    "start_time": "2022-01-04T09:30:56.665Z"
   },
   {
    "duration": 7,
    "start_time": "2022-01-04T09:30:56.679Z"
   },
   {
    "duration": 8,
    "start_time": "2022-01-04T09:30:56.688Z"
   },
   {
    "duration": 6,
    "start_time": "2022-01-04T09:30:56.697Z"
   },
   {
    "duration": 9,
    "start_time": "2022-01-04T09:30:56.705Z"
   },
   {
    "duration": 49,
    "start_time": "2022-01-04T09:30:56.716Z"
   },
   {
    "duration": 5,
    "start_time": "2022-01-04T09:30:56.767Z"
   },
   {
    "duration": 10,
    "start_time": "2022-01-04T09:30:56.774Z"
   },
   {
    "duration": 12,
    "start_time": "2022-01-04T09:30:56.787Z"
   },
   {
    "duration": 22,
    "start_time": "2022-01-04T09:30:56.801Z"
   },
   {
    "duration": 38,
    "start_time": "2022-01-04T09:30:56.825Z"
   },
   {
    "duration": 5,
    "start_time": "2022-01-04T09:30:56.866Z"
   },
   {
    "duration": 9,
    "start_time": "2022-01-04T09:30:56.873Z"
   },
   {
    "duration": 6,
    "start_time": "2022-01-04T09:30:56.884Z"
   },
   {
    "duration": 5,
    "start_time": "2022-01-04T09:30:56.891Z"
   },
   {
    "duration": 5,
    "start_time": "2022-01-04T09:30:56.898Z"
   },
   {
    "duration": 3,
    "start_time": "2022-01-04T09:30:56.906Z"
   },
   {
    "duration": 5,
    "start_time": "2022-01-04T09:30:56.911Z"
   },
   {
    "duration": 147,
    "start_time": "2022-01-04T09:30:56.917Z"
   },
   {
    "duration": 97,
    "start_time": "2022-01-04T09:30:57.067Z"
   },
   {
    "duration": 738,
    "start_time": "2022-01-04T09:30:57.165Z"
   },
   {
    "duration": 41,
    "start_time": "2022-01-04T09:30:57.905Z"
   },
   {
    "duration": 16,
    "start_time": "2022-01-04T09:30:57.948Z"
   },
   {
    "duration": 19,
    "start_time": "2022-01-04T09:30:57.966Z"
   },
   {
    "duration": 25,
    "start_time": "2022-01-04T09:30:57.987Z"
   },
   {
    "duration": 9,
    "start_time": "2022-01-04T09:30:58.014Z"
   },
   {
    "duration": 19,
    "start_time": "2022-01-04T09:30:58.024Z"
   },
   {
    "duration": 23,
    "start_time": "2022-01-04T09:30:58.044Z"
   },
   {
    "duration": 97,
    "start_time": "2022-01-04T09:30:58.068Z"
   },
   {
    "duration": 98,
    "start_time": "2022-01-04T09:30:58.168Z"
   },
   {
    "duration": 147,
    "start_time": "2022-01-04T09:30:58.268Z"
   },
   {
    "duration": 8962,
    "start_time": "2022-01-04T09:30:58.417Z"
   },
   {
    "duration": 10,
    "start_time": "2022-01-04T09:31:07.380Z"
   },
   {
    "duration": 9459,
    "start_time": "2022-01-04T09:31:07.462Z"
   },
   {
    "duration": 4,
    "start_time": "2022-01-04T09:31:31.376Z"
   },
   {
    "duration": 6,
    "start_time": "2022-01-04T09:31:31.382Z"
   },
   {
    "duration": 8,
    "start_time": "2022-01-04T09:31:31.389Z"
   },
   {
    "duration": 3,
    "start_time": "2022-01-04T09:31:31.400Z"
   },
   {
    "duration": 45,
    "start_time": "2022-01-04T09:31:31.405Z"
   },
   {
    "duration": 9,
    "start_time": "2022-01-04T09:31:31.452Z"
   },
   {
    "duration": 17,
    "start_time": "2022-01-04T09:31:31.462Z"
   },
   {
    "duration": 6,
    "start_time": "2022-01-04T09:31:31.481Z"
   },
   {
    "duration": 9,
    "start_time": "2022-01-04T09:31:31.490Z"
   },
   {
    "duration": 4,
    "start_time": "2022-01-04T09:31:31.502Z"
   },
   {
    "duration": 14,
    "start_time": "2022-01-04T09:31:31.508Z"
   },
   {
    "duration": 39,
    "start_time": "2022-01-04T09:31:31.524Z"
   },
   {
    "duration": 6,
    "start_time": "2022-01-04T09:31:31.565Z"
   },
   {
    "duration": 7,
    "start_time": "2022-01-04T09:31:31.572Z"
   },
   {
    "duration": 7,
    "start_time": "2022-01-04T09:31:31.581Z"
   },
   {
    "duration": 11,
    "start_time": "2022-01-04T09:31:31.589Z"
   },
   {
    "duration": 9,
    "start_time": "2022-01-04T09:31:31.602Z"
   },
   {
    "duration": 4,
    "start_time": "2022-01-04T09:31:31.613Z"
   },
   {
    "duration": 9,
    "start_time": "2022-01-04T09:31:31.619Z"
   },
   {
    "duration": 39,
    "start_time": "2022-01-04T09:31:31.630Z"
   },
   {
    "duration": 16,
    "start_time": "2022-01-04T09:31:31.671Z"
   },
   {
    "duration": 6,
    "start_time": "2022-01-04T09:31:31.689Z"
   },
   {
    "duration": 5,
    "start_time": "2022-01-04T09:31:31.697Z"
   },
   {
    "duration": 8,
    "start_time": "2022-01-04T09:31:31.704Z"
   },
   {
    "duration": 5,
    "start_time": "2022-01-04T09:31:31.714Z"
   },
   {
    "duration": 39,
    "start_time": "2022-01-04T09:31:31.721Z"
   },
   {
    "duration": 4,
    "start_time": "2022-01-04T09:31:31.764Z"
   },
   {
    "duration": 5,
    "start_time": "2022-01-04T09:31:31.770Z"
   },
   {
    "duration": 10,
    "start_time": "2022-01-04T09:31:31.777Z"
   },
   {
    "duration": 174,
    "start_time": "2022-01-04T09:31:31.789Z"
   },
   {
    "duration": 98,
    "start_time": "2022-01-04T09:31:31.965Z"
   },
   {
    "duration": 847,
    "start_time": "2022-01-04T09:31:32.065Z"
   },
   {
    "duration": 51,
    "start_time": "2022-01-04T09:31:32.913Z"
   },
   {
    "duration": 6,
    "start_time": "2022-01-04T09:31:32.966Z"
   },
   {
    "duration": 9,
    "start_time": "2022-01-04T09:31:32.973Z"
   },
   {
    "duration": 13,
    "start_time": "2022-01-04T09:31:32.984Z"
   },
   {
    "duration": 6,
    "start_time": "2022-01-04T09:31:32.998Z"
   },
   {
    "duration": 7,
    "start_time": "2022-01-04T09:31:33.005Z"
   },
   {
    "duration": 9,
    "start_time": "2022-01-04T09:31:33.014Z"
   },
   {
    "duration": 145,
    "start_time": "2022-01-04T09:31:33.024Z"
   },
   {
    "duration": 94,
    "start_time": "2022-01-04T09:31:33.171Z"
   },
   {
    "duration": 168,
    "start_time": "2022-01-04T09:31:33.266Z"
   },
   {
    "duration": 10172,
    "start_time": "2022-01-04T09:31:33.436Z"
   },
   {
    "duration": 55,
    "start_time": "2022-01-04T09:31:43.609Z"
   },
   {
    "duration": 9528,
    "start_time": "2022-01-04T09:31:43.666Z"
   },
   {
    "duration": 5,
    "start_time": "2022-01-04T09:34:10.062Z"
   },
   {
    "duration": 5,
    "start_time": "2022-01-04T09:34:10.069Z"
   },
   {
    "duration": 6,
    "start_time": "2022-01-04T09:34:10.077Z"
   },
   {
    "duration": 3,
    "start_time": "2022-01-04T09:34:10.084Z"
   },
   {
    "duration": 35,
    "start_time": "2022-01-04T09:34:10.089Z"
   },
   {
    "duration": 39,
    "start_time": "2022-01-04T09:34:10.125Z"
   },
   {
    "duration": 10,
    "start_time": "2022-01-04T09:34:10.166Z"
   },
   {
    "duration": 7,
    "start_time": "2022-01-04T09:34:10.178Z"
   },
   {
    "duration": 8,
    "start_time": "2022-01-04T09:34:10.187Z"
   },
   {
    "duration": 4,
    "start_time": "2022-01-04T09:34:10.197Z"
   },
   {
    "duration": 13,
    "start_time": "2022-01-04T09:34:10.203Z"
   },
   {
    "duration": 5,
    "start_time": "2022-01-04T09:34:10.218Z"
   },
   {
    "duration": 40,
    "start_time": "2022-01-04T09:34:10.225Z"
   },
   {
    "duration": 6,
    "start_time": "2022-01-04T09:34:10.267Z"
   },
   {
    "duration": 8,
    "start_time": "2022-01-04T09:34:10.275Z"
   },
   {
    "duration": 7,
    "start_time": "2022-01-04T09:34:10.285Z"
   },
   {
    "duration": 4,
    "start_time": "2022-01-04T09:34:10.294Z"
   },
   {
    "duration": 8,
    "start_time": "2022-01-04T09:34:10.300Z"
   },
   {
    "duration": 10,
    "start_time": "2022-01-04T09:34:10.310Z"
   },
   {
    "duration": 14,
    "start_time": "2022-01-04T09:34:10.361Z"
   },
   {
    "duration": 6,
    "start_time": "2022-01-04T09:34:10.377Z"
   },
   {
    "duration": 5,
    "start_time": "2022-01-04T09:34:10.385Z"
   },
   {
    "duration": 7,
    "start_time": "2022-01-04T09:34:10.394Z"
   },
   {
    "duration": 4,
    "start_time": "2022-01-04T09:34:10.403Z"
   },
   {
    "duration": 5,
    "start_time": "2022-01-04T09:34:10.408Z"
   },
   {
    "duration": 4,
    "start_time": "2022-01-04T09:34:10.414Z"
   },
   {
    "duration": 3,
    "start_time": "2022-01-04T09:34:10.461Z"
   },
   {
    "duration": 5,
    "start_time": "2022-01-04T09:34:10.466Z"
   },
   {
    "duration": 97,
    "start_time": "2022-01-04T09:34:10.473Z"
   },
   {
    "duration": 8,
    "start_time": "2022-01-04T09:34:10.662Z"
   },
   {
    "duration": 815,
    "start_time": "2022-01-04T09:34:10.761Z"
   },
   {
    "duration": 40,
    "start_time": "2022-01-04T09:34:11.578Z"
   },
   {
    "duration": 6,
    "start_time": "2022-01-04T09:34:11.619Z"
   },
   {
    "duration": 12,
    "start_time": "2022-01-04T09:34:11.626Z"
   },
   {
    "duration": 30,
    "start_time": "2022-01-04T09:34:11.640Z"
   },
   {
    "duration": 5,
    "start_time": "2022-01-04T09:34:11.672Z"
   },
   {
    "duration": 7,
    "start_time": "2022-01-04T09:34:11.679Z"
   },
   {
    "duration": 7,
    "start_time": "2022-01-04T09:34:11.688Z"
   },
   {
    "duration": 165,
    "start_time": "2022-01-04T09:34:11.697Z"
   },
   {
    "duration": 99,
    "start_time": "2022-01-04T09:34:11.864Z"
   },
   {
    "duration": 147,
    "start_time": "2022-01-04T09:34:11.964Z"
   },
   {
    "duration": 9632,
    "start_time": "2022-01-04T09:34:12.112Z"
   },
   {
    "duration": 22,
    "start_time": "2022-01-04T09:34:21.746Z"
   },
   {
    "duration": 9459,
    "start_time": "2022-01-04T09:34:21.771Z"
   },
   {
    "duration": 7,
    "start_time": "2022-01-04T09:40:14.856Z"
   },
   {
    "duration": 4,
    "start_time": "2022-01-04T09:42:11.373Z"
   },
   {
    "duration": 19,
    "start_time": "2022-01-04T09:42:11.379Z"
   },
   {
    "duration": 20,
    "start_time": "2022-01-04T09:42:11.400Z"
   },
   {
    "duration": 11,
    "start_time": "2022-01-04T09:42:11.422Z"
   },
   {
    "duration": 37,
    "start_time": "2022-01-04T09:42:11.435Z"
   },
   {
    "duration": 7,
    "start_time": "2022-01-04T09:42:11.474Z"
   },
   {
    "duration": 10,
    "start_time": "2022-01-04T09:42:11.483Z"
   },
   {
    "duration": 6,
    "start_time": "2022-01-04T09:42:11.495Z"
   },
   {
    "duration": 9,
    "start_time": "2022-01-04T09:42:11.504Z"
   },
   {
    "duration": 4,
    "start_time": "2022-01-04T09:42:11.515Z"
   },
   {
    "duration": 41,
    "start_time": "2022-01-04T09:42:11.521Z"
   },
   {
    "duration": 7,
    "start_time": "2022-01-04T09:42:11.564Z"
   },
   {
    "duration": 8,
    "start_time": "2022-01-04T09:42:11.573Z"
   },
   {
    "duration": 5,
    "start_time": "2022-01-04T09:42:11.582Z"
   },
   {
    "duration": 7,
    "start_time": "2022-01-04T09:42:11.589Z"
   },
   {
    "duration": 7,
    "start_time": "2022-01-04T09:42:11.598Z"
   },
   {
    "duration": 3,
    "start_time": "2022-01-04T09:42:11.606Z"
   },
   {
    "duration": 11,
    "start_time": "2022-01-04T09:42:11.611Z"
   },
   {
    "duration": 45,
    "start_time": "2022-01-04T09:42:11.624Z"
   },
   {
    "duration": 9,
    "start_time": "2022-01-04T09:42:11.671Z"
   },
   {
    "duration": 18,
    "start_time": "2022-01-04T09:42:11.682Z"
   },
   {
    "duration": 391,
    "start_time": "2022-01-04T09:42:11.702Z"
   },
   {
    "duration": -3631,
    "start_time": "2022-01-04T09:42:15.726Z"
   },
   {
    "duration": -3632,
    "start_time": "2022-01-04T09:42:15.729Z"
   },
   {
    "duration": -3633,
    "start_time": "2022-01-04T09:42:15.731Z"
   },
   {
    "duration": -3634,
    "start_time": "2022-01-04T09:42:15.733Z"
   },
   {
    "duration": -3635,
    "start_time": "2022-01-04T09:42:15.735Z"
   },
   {
    "duration": -3637,
    "start_time": "2022-01-04T09:42:15.738Z"
   },
   {
    "duration": -3639,
    "start_time": "2022-01-04T09:42:15.740Z"
   },
   {
    "duration": -3640,
    "start_time": "2022-01-04T09:42:15.743Z"
   },
   {
    "duration": -3641,
    "start_time": "2022-01-04T09:42:15.745Z"
   },
   {
    "duration": -3643,
    "start_time": "2022-01-04T09:42:15.748Z"
   },
   {
    "duration": -3644,
    "start_time": "2022-01-04T09:42:15.750Z"
   },
   {
    "duration": -3649,
    "start_time": "2022-01-04T09:42:15.756Z"
   },
   {
    "duration": -3651,
    "start_time": "2022-01-04T09:42:15.758Z"
   },
   {
    "duration": -3653,
    "start_time": "2022-01-04T09:42:15.761Z"
   },
   {
    "duration": -3654,
    "start_time": "2022-01-04T09:42:15.763Z"
   },
   {
    "duration": -3655,
    "start_time": "2022-01-04T09:42:15.765Z"
   },
   {
    "duration": -3657,
    "start_time": "2022-01-04T09:42:15.768Z"
   },
   {
    "duration": -3659,
    "start_time": "2022-01-04T09:42:15.770Z"
   },
   {
    "duration": -3660,
    "start_time": "2022-01-04T09:42:15.772Z"
   },
   {
    "duration": -3661,
    "start_time": "2022-01-04T09:42:15.774Z"
   },
   {
    "duration": -3666,
    "start_time": "2022-01-04T09:42:15.780Z"
   },
   {
    "duration": -3668,
    "start_time": "2022-01-04T09:42:15.783Z"
   },
   {
    "duration": -3669,
    "start_time": "2022-01-04T09:42:15.785Z"
   },
   {
    "duration": -3671,
    "start_time": "2022-01-04T09:42:15.788Z"
   },
   {
    "duration": 13,
    "start_time": "2022-01-04T09:43:12.758Z"
   },
   {
    "duration": 13,
    "start_time": "2022-01-04T09:44:39.365Z"
   },
   {
    "duration": 8,
    "start_time": "2022-01-04T09:45:00.135Z"
   },
   {
    "duration": 7,
    "start_time": "2022-01-04T09:45:05.532Z"
   },
   {
    "duration": 276,
    "start_time": "2022-01-04T09:48:51.809Z"
   },
   {
    "duration": 3,
    "start_time": "2022-01-04T09:48:54.530Z"
   },
   {
    "duration": 5,
    "start_time": "2022-01-04T09:48:54.535Z"
   },
   {
    "duration": 7,
    "start_time": "2022-01-04T09:48:54.542Z"
   },
   {
    "duration": 7,
    "start_time": "2022-01-04T09:48:54.550Z"
   },
   {
    "duration": 40,
    "start_time": "2022-01-04T09:48:54.558Z"
   },
   {
    "duration": 8,
    "start_time": "2022-01-04T09:48:54.599Z"
   },
   {
    "duration": 10,
    "start_time": "2022-01-04T09:48:54.609Z"
   },
   {
    "duration": 7,
    "start_time": "2022-01-04T09:48:54.621Z"
   },
   {
    "duration": 38,
    "start_time": "2022-01-04T09:48:54.630Z"
   },
   {
    "duration": 5,
    "start_time": "2022-01-04T09:48:54.669Z"
   },
   {
    "duration": 14,
    "start_time": "2022-01-04T09:48:54.676Z"
   },
   {
    "duration": 5,
    "start_time": "2022-01-04T09:48:54.692Z"
   },
   {
    "duration": 7,
    "start_time": "2022-01-04T09:48:54.698Z"
   },
   {
    "duration": 7,
    "start_time": "2022-01-04T09:48:54.707Z"
   },
   {
    "duration": 7,
    "start_time": "2022-01-04T09:48:54.716Z"
   },
   {
    "duration": 37,
    "start_time": "2022-01-04T09:48:54.724Z"
   },
   {
    "duration": 3,
    "start_time": "2022-01-04T09:48:54.763Z"
   },
   {
    "duration": 9,
    "start_time": "2022-01-04T09:48:54.768Z"
   },
   {
    "duration": 10,
    "start_time": "2022-01-04T09:48:54.778Z"
   },
   {
    "duration": 13,
    "start_time": "2022-01-04T09:48:54.790Z"
   },
   {
    "duration": 7,
    "start_time": "2022-01-04T09:48:54.805Z"
   },
   {
    "duration": 6785,
    "start_time": "2022-01-04T09:48:54.815Z"
   },
   {
    "duration": -3637,
    "start_time": "2022-01-04T09:49:05.240Z"
   },
   {
    "duration": -3640,
    "start_time": "2022-01-04T09:49:05.245Z"
   },
   {
    "duration": -3642,
    "start_time": "2022-01-04T09:49:05.248Z"
   },
   {
    "duration": -3643,
    "start_time": "2022-01-04T09:49:05.251Z"
   },
   {
    "duration": -3644,
    "start_time": "2022-01-04T09:49:05.253Z"
   },
   {
    "duration": -3646,
    "start_time": "2022-01-04T09:49:05.256Z"
   },
   {
    "duration": -3648,
    "start_time": "2022-01-04T09:49:05.260Z"
   },
   {
    "duration": -3650,
    "start_time": "2022-01-04T09:49:05.263Z"
   },
   {
    "duration": -3651,
    "start_time": "2022-01-04T09:49:05.266Z"
   },
   {
    "duration": -3655,
    "start_time": "2022-01-04T09:49:05.271Z"
   },
   {
    "duration": -3656,
    "start_time": "2022-01-04T09:49:05.273Z"
   },
   {
    "duration": -3657,
    "start_time": "2022-01-04T09:49:05.276Z"
   },
   {
    "duration": -3658,
    "start_time": "2022-01-04T09:49:05.278Z"
   },
   {
    "duration": -3660,
    "start_time": "2022-01-04T09:49:05.281Z"
   },
   {
    "duration": -3660,
    "start_time": "2022-01-04T09:49:05.283Z"
   },
   {
    "duration": -3662,
    "start_time": "2022-01-04T09:49:05.286Z"
   },
   {
    "duration": -3663,
    "start_time": "2022-01-04T09:49:05.288Z"
   },
   {
    "duration": -3663,
    "start_time": "2022-01-04T09:49:05.290Z"
   },
   {
    "duration": -3664,
    "start_time": "2022-01-04T09:49:05.292Z"
   },
   {
    "duration": -3666,
    "start_time": "2022-01-04T09:49:05.295Z"
   },
   {
    "duration": -3666,
    "start_time": "2022-01-04T09:49:05.297Z"
   },
   {
    "duration": -3667,
    "start_time": "2022-01-04T09:49:05.299Z"
   },
   {
    "duration": 8,
    "start_time": "2022-01-04T09:55:35.952Z"
   },
   {
    "duration": 6,
    "start_time": "2022-01-04T09:57:22.517Z"
   },
   {
    "duration": 3,
    "start_time": "2022-01-04T10:02:20.098Z"
   },
   {
    "duration": 6,
    "start_time": "2022-01-04T10:02:20.103Z"
   },
   {
    "duration": 7,
    "start_time": "2022-01-04T10:02:20.111Z"
   },
   {
    "duration": 5,
    "start_time": "2022-01-04T10:02:20.119Z"
   },
   {
    "duration": 39,
    "start_time": "2022-01-04T10:02:20.125Z"
   },
   {
    "duration": 8,
    "start_time": "2022-01-04T10:02:20.166Z"
   },
   {
    "duration": 11,
    "start_time": "2022-01-04T10:02:20.176Z"
   },
   {
    "duration": 7,
    "start_time": "2022-01-04T10:02:20.189Z"
   },
   {
    "duration": 9,
    "start_time": "2022-01-04T10:02:20.198Z"
   },
   {
    "duration": 4,
    "start_time": "2022-01-04T10:02:20.209Z"
   },
   {
    "duration": 53,
    "start_time": "2022-01-04T10:02:20.215Z"
   },
   {
    "duration": 5,
    "start_time": "2022-01-04T10:02:20.270Z"
   },
   {
    "duration": 6,
    "start_time": "2022-01-04T10:02:20.277Z"
   },
   {
    "duration": 7,
    "start_time": "2022-01-04T10:02:20.285Z"
   },
   {
    "duration": 9,
    "start_time": "2022-01-04T10:02:20.293Z"
   },
   {
    "duration": 7,
    "start_time": "2022-01-04T10:02:20.303Z"
   },
   {
    "duration": 4,
    "start_time": "2022-01-04T10:02:20.312Z"
   },
   {
    "duration": 12,
    "start_time": "2022-01-04T10:02:20.318Z"
   },
   {
    "duration": 10,
    "start_time": "2022-01-04T10:02:20.360Z"
   },
   {
    "duration": 16,
    "start_time": "2022-01-04T10:02:20.372Z"
   },
   {
    "duration": 6,
    "start_time": "2022-01-04T10:02:20.390Z"
   },
   {
    "duration": 5,
    "start_time": "2022-01-04T10:02:20.398Z"
   },
   {
    "duration": 7,
    "start_time": "2022-01-04T10:02:20.406Z"
   },
   {
    "duration": 7,
    "start_time": "2022-01-04T10:02:20.415Z"
   },
   {
    "duration": 7,
    "start_time": "2022-01-04T10:02:20.423Z"
   },
   {
    "duration": 348,
    "start_time": "2022-01-04T10:02:20.461Z"
   },
   {
    "duration": -3629,
    "start_time": "2022-01-04T10:02:24.440Z"
   },
   {
    "duration": -3631,
    "start_time": "2022-01-04T10:02:24.443Z"
   },
   {
    "duration": -3632,
    "start_time": "2022-01-04T10:02:24.445Z"
   },
   {
    "duration": -3633,
    "start_time": "2022-01-04T10:02:24.447Z"
   },
   {
    "duration": -3634,
    "start_time": "2022-01-04T10:02:24.449Z"
   },
   {
    "duration": -3635,
    "start_time": "2022-01-04T10:02:24.451Z"
   },
   {
    "duration": -3637,
    "start_time": "2022-01-04T10:02:24.454Z"
   },
   {
    "duration": -3637,
    "start_time": "2022-01-04T10:02:24.456Z"
   },
   {
    "duration": -3639,
    "start_time": "2022-01-04T10:02:24.459Z"
   },
   {
    "duration": -3640,
    "start_time": "2022-01-04T10:02:24.461Z"
   },
   {
    "duration": -3645,
    "start_time": "2022-01-04T10:02:24.467Z"
   },
   {
    "duration": -3646,
    "start_time": "2022-01-04T10:02:24.469Z"
   },
   {
    "duration": -3647,
    "start_time": "2022-01-04T10:02:24.471Z"
   },
   {
    "duration": -3648,
    "start_time": "2022-01-04T10:02:24.473Z"
   },
   {
    "duration": -3650,
    "start_time": "2022-01-04T10:02:24.476Z"
   },
   {
    "duration": 5,
    "start_time": "2022-01-04T10:03:42.348Z"
   },
   {
    "duration": 3,
    "start_time": "2022-01-04T10:04:59.033Z"
   },
   {
    "duration": 5,
    "start_time": "2022-01-04T10:04:59.038Z"
   },
   {
    "duration": 8,
    "start_time": "2022-01-04T10:04:59.045Z"
   },
   {
    "duration": 3,
    "start_time": "2022-01-04T10:04:59.054Z"
   },
   {
    "duration": 38,
    "start_time": "2022-01-04T10:04:59.058Z"
   },
   {
    "duration": 9,
    "start_time": "2022-01-04T10:04:59.097Z"
   },
   {
    "duration": 11,
    "start_time": "2022-01-04T10:04:59.107Z"
   },
   {
    "duration": 7,
    "start_time": "2022-01-04T10:04:59.120Z"
   },
   {
    "duration": 38,
    "start_time": "2022-01-04T10:04:59.129Z"
   },
   {
    "duration": 6,
    "start_time": "2022-01-04T10:04:59.169Z"
   },
   {
    "duration": 14,
    "start_time": "2022-01-04T10:04:59.176Z"
   },
   {
    "duration": 8,
    "start_time": "2022-01-04T10:04:59.191Z"
   },
   {
    "duration": 6,
    "start_time": "2022-01-04T10:04:59.201Z"
   },
   {
    "duration": 6,
    "start_time": "2022-01-04T10:04:59.209Z"
   },
   {
    "duration": 8,
    "start_time": "2022-01-04T10:04:59.216Z"
   },
   {
    "duration": 37,
    "start_time": "2022-01-04T10:04:59.226Z"
   },
   {
    "duration": 5,
    "start_time": "2022-01-04T10:04:59.265Z"
   },
   {
    "duration": 8,
    "start_time": "2022-01-04T10:04:59.271Z"
   },
   {
    "duration": 11,
    "start_time": "2022-01-04T10:04:59.280Z"
   },
   {
    "duration": 15,
    "start_time": "2022-01-04T10:04:59.292Z"
   },
   {
    "duration": 7,
    "start_time": "2022-01-04T10:04:59.308Z"
   },
   {
    "duration": 5,
    "start_time": "2022-01-04T10:04:59.317Z"
   },
   {
    "duration": 40,
    "start_time": "2022-01-04T10:04:59.326Z"
   },
   {
    "duration": 5,
    "start_time": "2022-01-04T10:04:59.368Z"
   },
   {
    "duration": 7,
    "start_time": "2022-01-04T10:04:59.374Z"
   },
   {
    "duration": 6,
    "start_time": "2022-01-04T10:04:59.382Z"
   },
   {
    "duration": 6,
    "start_time": "2022-01-04T10:04:59.390Z"
   },
   {
    "duration": 4,
    "start_time": "2022-01-04T10:04:59.397Z"
   },
   {
    "duration": 369,
    "start_time": "2022-01-04T10:04:59.403Z"
   },
   {
    "duration": -3635,
    "start_time": "2022-01-04T10:05:03.409Z"
   },
   {
    "duration": -3635,
    "start_time": "2022-01-04T10:05:03.411Z"
   },
   {
    "duration": -3638,
    "start_time": "2022-01-04T10:05:03.414Z"
   },
   {
    "duration": -3640,
    "start_time": "2022-01-04T10:05:03.417Z"
   },
   {
    "duration": -3641,
    "start_time": "2022-01-04T10:05:03.419Z"
   },
   {
    "duration": -3642,
    "start_time": "2022-01-04T10:05:03.421Z"
   },
   {
    "duration": -3644,
    "start_time": "2022-01-04T10:05:03.424Z"
   },
   {
    "duration": -3646,
    "start_time": "2022-01-04T10:05:03.426Z"
   },
   {
    "duration": -3648,
    "start_time": "2022-01-04T10:05:03.429Z"
   },
   {
    "duration": -3649,
    "start_time": "2022-01-04T10:05:03.431Z"
   },
   {
    "duration": -3650,
    "start_time": "2022-01-04T10:05:03.433Z"
   },
   {
    "duration": -3655,
    "start_time": "2022-01-04T10:05:03.439Z"
   },
   {
    "duration": -3658,
    "start_time": "2022-01-04T10:05:03.442Z"
   },
   {
    "duration": -3659,
    "start_time": "2022-01-04T10:05:03.444Z"
   },
   {
    "duration": -3661,
    "start_time": "2022-01-04T10:05:03.447Z"
   },
   {
    "duration": 253,
    "start_time": "2022-01-04T11:22:36.318Z"
   },
   {
    "duration": 3,
    "start_time": "2022-01-04T11:23:18.029Z"
   },
   {
    "duration": 6,
    "start_time": "2022-01-04T11:23:37.234Z"
   },
   {
    "duration": 5,
    "start_time": "2022-01-04T11:24:21.666Z"
   },
   {
    "duration": 901,
    "start_time": "2022-01-04T11:31:15.093Z"
   },
   {
    "duration": 957,
    "start_time": "2022-01-04T11:31:32.006Z"
   },
   {
    "duration": 1079,
    "start_time": "2022-01-04T11:31:50.407Z"
   },
   {
    "duration": 625,
    "start_time": "2022-01-04T11:31:58.341Z"
   },
   {
    "duration": 721,
    "start_time": "2022-01-04T11:32:09.806Z"
   },
   {
    "duration": 92,
    "start_time": "2022-01-04T11:39:32.210Z"
   },
   {
    "duration": 282,
    "start_time": "2022-01-04T11:39:40.896Z"
   },
   {
    "duration": 4,
    "start_time": "2022-01-04T11:40:07.624Z"
   },
   {
    "duration": 7,
    "start_time": "2022-01-04T11:40:07.629Z"
   },
   {
    "duration": 5,
    "start_time": "2022-01-04T11:40:07.638Z"
   },
   {
    "duration": 4,
    "start_time": "2022-01-04T11:40:07.645Z"
   },
   {
    "duration": 39,
    "start_time": "2022-01-04T11:40:07.650Z"
   },
   {
    "duration": 7,
    "start_time": "2022-01-04T11:40:07.691Z"
   },
   {
    "duration": 10,
    "start_time": "2022-01-04T11:40:07.701Z"
   },
   {
    "duration": 29,
    "start_time": "2022-01-04T11:40:07.713Z"
   },
   {
    "duration": 41,
    "start_time": "2022-01-04T11:40:07.744Z"
   },
   {
    "duration": 15,
    "start_time": "2022-01-04T11:40:07.787Z"
   },
   {
    "duration": 114,
    "start_time": "2022-01-04T11:40:07.804Z"
   },
   {
    "duration": 73,
    "start_time": "2022-01-04T11:40:07.921Z"
   },
   {
    "duration": 106,
    "start_time": "2022-01-04T11:40:07.997Z"
   },
   {
    "duration": 87,
    "start_time": "2022-01-04T11:40:08.105Z"
   },
   {
    "duration": 41,
    "start_time": "2022-01-04T11:40:08.194Z"
   },
   {
    "duration": 10,
    "start_time": "2022-01-04T11:40:08.238Z"
   },
   {
    "duration": 3,
    "start_time": "2022-01-04T11:40:08.249Z"
   },
   {
    "duration": 15,
    "start_time": "2022-01-04T11:40:08.254Z"
   },
   {
    "duration": 14,
    "start_time": "2022-01-04T11:40:08.273Z"
   },
   {
    "duration": 19,
    "start_time": "2022-01-04T11:40:08.290Z"
   },
   {
    "duration": 9,
    "start_time": "2022-01-04T11:40:08.311Z"
   },
   {
    "duration": 7,
    "start_time": "2022-01-04T11:40:08.322Z"
   },
   {
    "duration": 36,
    "start_time": "2022-01-04T11:40:08.330Z"
   },
   {
    "duration": 7,
    "start_time": "2022-01-04T11:40:08.368Z"
   },
   {
    "duration": 8,
    "start_time": "2022-01-04T11:40:08.377Z"
   },
   {
    "duration": 6,
    "start_time": "2022-01-04T11:40:08.387Z"
   },
   {
    "duration": 6,
    "start_time": "2022-01-04T11:40:08.395Z"
   },
   {
    "duration": 6,
    "start_time": "2022-01-04T11:40:08.403Z"
   },
   {
    "duration": 301,
    "start_time": "2022-01-04T11:40:08.410Z"
   },
   {
    "duration": -3690,
    "start_time": "2022-01-04T11:40:12.403Z"
   },
   {
    "duration": -3692,
    "start_time": "2022-01-04T11:40:12.406Z"
   },
   {
    "duration": -3694,
    "start_time": "2022-01-04T11:40:12.409Z"
   },
   {
    "duration": -3695,
    "start_time": "2022-01-04T11:40:12.411Z"
   },
   {
    "duration": -3696,
    "start_time": "2022-01-04T11:40:12.413Z"
   },
   {
    "duration": -3698,
    "start_time": "2022-01-04T11:40:12.416Z"
   },
   {
    "duration": -3700,
    "start_time": "2022-01-04T11:40:12.419Z"
   },
   {
    "duration": -3702,
    "start_time": "2022-01-04T11:40:12.422Z"
   },
   {
    "duration": -3708,
    "start_time": "2022-01-04T11:40:12.429Z"
   },
   {
    "duration": -3709,
    "start_time": "2022-01-04T11:40:12.431Z"
   },
   {
    "duration": -3711,
    "start_time": "2022-01-04T11:40:12.434Z"
   },
   {
    "duration": -3712,
    "start_time": "2022-01-04T11:40:12.436Z"
   },
   {
    "duration": -3714,
    "start_time": "2022-01-04T11:40:12.438Z"
   },
   {
    "duration": -3716,
    "start_time": "2022-01-04T11:40:12.441Z"
   },
   {
    "duration": -3718,
    "start_time": "2022-01-04T11:40:12.444Z"
   },
   {
    "duration": 349,
    "start_time": "2022-01-04T11:40:39.247Z"
   },
   {
    "duration": 293,
    "start_time": "2022-01-04T11:41:01.659Z"
   },
   {
    "duration": 1055,
    "start_time": "2022-01-04T11:41:29.709Z"
   },
   {
    "duration": 351,
    "start_time": "2022-01-04T11:41:37.232Z"
   },
   {
    "duration": 4,
    "start_time": "2022-01-04T13:00:30.169Z"
   },
   {
    "duration": 22,
    "start_time": "2022-01-04T13:00:30.175Z"
   },
   {
    "duration": 14,
    "start_time": "2022-01-04T13:00:30.199Z"
   },
   {
    "duration": 17,
    "start_time": "2022-01-04T13:00:30.215Z"
   },
   {
    "duration": 74,
    "start_time": "2022-01-04T13:00:30.234Z"
   },
   {
    "duration": 12,
    "start_time": "2022-01-04T13:00:30.310Z"
   },
   {
    "duration": 12,
    "start_time": "2022-01-04T13:00:30.324Z"
   },
   {
    "duration": 7,
    "start_time": "2022-01-04T13:00:30.338Z"
   },
   {
    "duration": 18,
    "start_time": "2022-01-04T13:00:30.348Z"
   },
   {
    "duration": 14,
    "start_time": "2022-01-04T13:00:30.368Z"
   },
   {
    "duration": 27,
    "start_time": "2022-01-04T13:00:30.384Z"
   },
   {
    "duration": 27,
    "start_time": "2022-01-04T13:00:30.413Z"
   },
   {
    "duration": 14,
    "start_time": "2022-01-04T13:00:30.442Z"
   },
   {
    "duration": 23,
    "start_time": "2022-01-04T13:00:30.458Z"
   },
   {
    "duration": 18,
    "start_time": "2022-01-04T13:00:30.484Z"
   },
   {
    "duration": 25,
    "start_time": "2022-01-04T13:00:30.504Z"
   },
   {
    "duration": 14,
    "start_time": "2022-01-04T13:00:30.531Z"
   },
   {
    "duration": 16,
    "start_time": "2022-01-04T13:00:30.547Z"
   },
   {
    "duration": 18,
    "start_time": "2022-01-04T13:00:30.565Z"
   },
   {
    "duration": 25,
    "start_time": "2022-01-04T13:00:30.585Z"
   },
   {
    "duration": 9,
    "start_time": "2022-01-04T13:00:30.612Z"
   },
   {
    "duration": 14,
    "start_time": "2022-01-04T13:00:30.623Z"
   },
   {
    "duration": 18,
    "start_time": "2022-01-04T13:00:30.642Z"
   },
   {
    "duration": 7,
    "start_time": "2022-01-04T13:00:30.663Z"
   },
   {
    "duration": 7,
    "start_time": "2022-01-04T13:00:30.672Z"
   },
   {
    "duration": 8,
    "start_time": "2022-01-04T13:00:30.681Z"
   },
   {
    "duration": 9,
    "start_time": "2022-01-04T13:00:30.690Z"
   },
   {
    "duration": 9,
    "start_time": "2022-01-04T13:00:30.701Z"
   },
   {
    "duration": 302,
    "start_time": "2022-01-04T13:00:30.712Z"
   },
   {
    "duration": -3442,
    "start_time": "2022-01-04T13:00:34.457Z"
   },
   {
    "duration": -3446,
    "start_time": "2022-01-04T13:00:34.462Z"
   },
   {
    "duration": -3453,
    "start_time": "2022-01-04T13:00:34.470Z"
   },
   {
    "duration": -3460,
    "start_time": "2022-01-04T13:00:34.478Z"
   },
   {
    "duration": -3468,
    "start_time": "2022-01-04T13:00:34.487Z"
   },
   {
    "duration": -3475,
    "start_time": "2022-01-04T13:00:34.495Z"
   },
   {
    "duration": -3482,
    "start_time": "2022-01-04T13:00:34.503Z"
   },
   {
    "duration": -3490,
    "start_time": "2022-01-04T13:00:34.512Z"
   },
   {
    "duration": -3496,
    "start_time": "2022-01-04T13:00:34.519Z"
   },
   {
    "duration": -3504,
    "start_time": "2022-01-04T13:00:34.528Z"
   },
   {
    "duration": -3510,
    "start_time": "2022-01-04T13:00:34.535Z"
   },
   {
    "duration": -3517,
    "start_time": "2022-01-04T13:00:34.543Z"
   },
   {
    "duration": -3523,
    "start_time": "2022-01-04T13:00:34.550Z"
   },
   {
    "duration": -3525,
    "start_time": "2022-01-04T13:00:34.553Z"
   },
   {
    "duration": -3532,
    "start_time": "2022-01-04T13:00:34.561Z"
   },
   {
    "duration": 360,
    "start_time": "2022-01-04T13:09:50.149Z"
   },
   {
    "duration": 344,
    "start_time": "2022-01-04T13:10:23.176Z"
   },
   {
    "duration": 305,
    "start_time": "2022-01-04T13:14:06.578Z"
   },
   {
    "duration": 4,
    "start_time": "2022-01-04T13:15:45.750Z"
   },
   {
    "duration": 7,
    "start_time": "2022-01-04T13:15:45.757Z"
   },
   {
    "duration": 5,
    "start_time": "2022-01-04T13:15:45.765Z"
   },
   {
    "duration": 3,
    "start_time": "2022-01-04T13:15:45.772Z"
   },
   {
    "duration": 36,
    "start_time": "2022-01-04T13:15:45.777Z"
   },
   {
    "duration": 7,
    "start_time": "2022-01-04T13:15:45.815Z"
   },
   {
    "duration": 10,
    "start_time": "2022-01-04T13:15:45.824Z"
   },
   {
    "duration": 29,
    "start_time": "2022-01-04T13:15:45.836Z"
   },
   {
    "duration": 8,
    "start_time": "2022-01-04T13:15:45.868Z"
   },
   {
    "duration": 4,
    "start_time": "2022-01-04T13:15:45.878Z"
   },
   {
    "duration": 17,
    "start_time": "2022-01-04T13:15:45.883Z"
   },
   {
    "duration": 6,
    "start_time": "2022-01-04T13:15:45.902Z"
   },
   {
    "duration": 7,
    "start_time": "2022-01-04T13:15:45.909Z"
   },
   {
    "duration": 6,
    "start_time": "2022-01-04T13:15:45.917Z"
   },
   {
    "duration": 42,
    "start_time": "2022-01-04T13:15:45.925Z"
   },
   {
    "duration": 7,
    "start_time": "2022-01-04T13:15:45.968Z"
   },
   {
    "duration": 4,
    "start_time": "2022-01-04T13:15:45.977Z"
   },
   {
    "duration": 8,
    "start_time": "2022-01-04T13:15:45.983Z"
   },
   {
    "duration": 8,
    "start_time": "2022-01-04T13:15:45.993Z"
   },
   {
    "duration": 16,
    "start_time": "2022-01-04T13:15:46.003Z"
   },
   {
    "duration": 6,
    "start_time": "2022-01-04T13:15:46.020Z"
   },
   {
    "duration": 33,
    "start_time": "2022-01-04T13:15:46.028Z"
   },
   {
    "duration": 7,
    "start_time": "2022-01-04T13:15:46.064Z"
   },
   {
    "duration": 6,
    "start_time": "2022-01-04T13:15:46.072Z"
   },
   {
    "duration": 6,
    "start_time": "2022-01-04T13:15:46.079Z"
   },
   {
    "duration": 6,
    "start_time": "2022-01-04T13:15:46.087Z"
   },
   {
    "duration": 7,
    "start_time": "2022-01-04T13:15:46.094Z"
   },
   {
    "duration": 5,
    "start_time": "2022-01-04T13:15:46.103Z"
   },
   {
    "duration": 308,
    "start_time": "2022-01-04T13:15:46.109Z"
   },
   {
    "duration": -3504,
    "start_time": "2022-01-04T13:15:49.923Z"
   },
   {
    "duration": -3506,
    "start_time": "2022-01-04T13:15:49.926Z"
   },
   {
    "duration": -3513,
    "start_time": "2022-01-04T13:15:49.934Z"
   },
   {
    "duration": -3521,
    "start_time": "2022-01-04T13:15:49.943Z"
   },
   {
    "duration": -3528,
    "start_time": "2022-01-04T13:15:49.951Z"
   },
   {
    "duration": -3536,
    "start_time": "2022-01-04T13:15:49.960Z"
   },
   {
    "duration": -3543,
    "start_time": "2022-01-04T13:15:49.968Z"
   },
   {
    "duration": -3550,
    "start_time": "2022-01-04T13:15:49.976Z"
   },
   {
    "duration": -3558,
    "start_time": "2022-01-04T13:15:49.984Z"
   },
   {
    "duration": -3566,
    "start_time": "2022-01-04T13:15:49.993Z"
   },
   {
    "duration": -3573,
    "start_time": "2022-01-04T13:15:50.001Z"
   },
   {
    "duration": -3580,
    "start_time": "2022-01-04T13:15:50.009Z"
   },
   {
    "duration": -3587,
    "start_time": "2022-01-04T13:15:50.017Z"
   },
   {
    "duration": -3595,
    "start_time": "2022-01-04T13:15:50.026Z"
   },
   {
    "duration": -3602,
    "start_time": "2022-01-04T13:15:50.034Z"
   },
   {
    "duration": 302,
    "start_time": "2022-01-04T13:16:29.284Z"
   },
   {
    "duration": 15,
    "start_time": "2022-01-04T13:17:00.284Z"
   },
   {
    "duration": 5,
    "start_time": "2022-01-04T13:17:13.706Z"
   },
   {
    "duration": 17,
    "start_time": "2022-01-04T13:17:25.688Z"
   },
   {
    "duration": 5,
    "start_time": "2022-01-04T13:17:40.937Z"
   },
   {
    "duration": 17,
    "start_time": "2022-01-04T13:18:32.806Z"
   },
   {
    "duration": 369,
    "start_time": "2022-01-04T13:19:06.045Z"
   },
   {
    "duration": 7,
    "start_time": "2022-01-04T13:20:13.378Z"
   },
   {
    "duration": 7,
    "start_time": "2022-01-04T13:23:22.480Z"
   },
   {
    "duration": 6,
    "start_time": "2022-01-04T13:23:24.800Z"
   },
   {
    "duration": 7,
    "start_time": "2022-01-04T13:23:25.366Z"
   },
   {
    "duration": 6,
    "start_time": "2022-01-04T13:23:26.860Z"
   },
   {
    "duration": 7,
    "start_time": "2022-01-04T13:23:28.859Z"
   },
   {
    "duration": 9,
    "start_time": "2022-01-04T13:24:01.948Z"
   },
   {
    "duration": 5,
    "start_time": "2022-01-04T13:24:03.683Z"
   },
   {
    "duration": 17,
    "start_time": "2022-01-04T13:24:45.209Z"
   },
   {
    "duration": 271,
    "start_time": "2022-01-04T13:26:05.154Z"
   },
   {
    "duration": 4,
    "start_time": "2022-01-04T13:30:12.374Z"
   },
   {
    "duration": 261,
    "start_time": "2022-01-04T13:30:21.046Z"
   },
   {
    "duration": 248,
    "start_time": "2022-01-04T13:30:26.473Z"
   },
   {
    "duration": 12,
    "start_time": "2022-01-04T13:30:35.899Z"
   },
   {
    "duration": 7,
    "start_time": "2022-01-04T13:30:51.113Z"
   },
   {
    "duration": 8,
    "start_time": "2022-01-04T13:31:27.918Z"
   },
   {
    "duration": 4,
    "start_time": "2022-01-04T13:32:31.713Z"
   },
   {
    "duration": 5,
    "start_time": "2022-01-04T13:32:31.719Z"
   },
   {
    "duration": 7,
    "start_time": "2022-01-04T13:32:31.726Z"
   },
   {
    "duration": 5,
    "start_time": "2022-01-04T13:32:31.735Z"
   },
   {
    "duration": 39,
    "start_time": "2022-01-04T13:32:31.741Z"
   },
   {
    "duration": 7,
    "start_time": "2022-01-04T13:32:31.781Z"
   },
   {
    "duration": 12,
    "start_time": "2022-01-04T13:32:31.790Z"
   },
   {
    "duration": 8,
    "start_time": "2022-01-04T13:32:31.805Z"
   },
   {
    "duration": 48,
    "start_time": "2022-01-04T13:32:31.816Z"
   },
   {
    "duration": 4,
    "start_time": "2022-01-04T13:32:31.866Z"
   },
   {
    "duration": 18,
    "start_time": "2022-01-04T13:32:31.872Z"
   },
   {
    "duration": 10,
    "start_time": "2022-01-04T13:32:31.892Z"
   },
   {
    "duration": 11,
    "start_time": "2022-01-04T13:32:31.904Z"
   },
   {
    "duration": 5,
    "start_time": "2022-01-04T13:32:31.917Z"
   },
   {
    "duration": 9,
    "start_time": "2022-01-04T13:32:31.923Z"
   },
   {
    "duration": 28,
    "start_time": "2022-01-04T13:32:31.934Z"
   },
   {
    "duration": 10,
    "start_time": "2022-01-04T13:32:31.964Z"
   },
   {
    "duration": 8,
    "start_time": "2022-01-04T13:32:31.976Z"
   },
   {
    "duration": 12,
    "start_time": "2022-01-04T13:32:31.985Z"
   },
   {
    "duration": 15,
    "start_time": "2022-01-04T13:32:31.999Z"
   },
   {
    "duration": 7,
    "start_time": "2022-01-04T13:32:32.016Z"
   },
   {
    "duration": 8,
    "start_time": "2022-01-04T13:32:32.024Z"
   },
   {
    "duration": 29,
    "start_time": "2022-01-04T13:32:32.035Z"
   },
   {
    "duration": 9,
    "start_time": "2022-01-04T13:32:32.066Z"
   },
   {
    "duration": 9,
    "start_time": "2022-01-04T13:32:32.077Z"
   },
   {
    "duration": 6,
    "start_time": "2022-01-04T13:32:32.087Z"
   },
   {
    "duration": 8,
    "start_time": "2022-01-04T13:32:32.095Z"
   },
   {
    "duration": 10,
    "start_time": "2022-01-04T13:32:32.104Z"
   },
   {
    "duration": 11,
    "start_time": "2022-01-04T13:32:32.115Z"
   },
   {
    "duration": 6,
    "start_time": "2022-01-04T13:32:32.128Z"
   },
   {
    "duration": 30,
    "start_time": "2022-01-04T13:32:32.135Z"
   },
   {
    "duration": 4,
    "start_time": "2022-01-04T13:32:32.166Z"
   },
   {
    "duration": 16,
    "start_time": "2022-01-04T13:32:32.171Z"
   },
   {
    "duration": 287,
    "start_time": "2022-01-04T13:32:32.188Z"
   },
   {
    "duration": -3497,
    "start_time": "2022-01-04T13:32:35.974Z"
   },
   {
    "duration": -3512,
    "start_time": "2022-01-04T13:32:35.990Z"
   },
   {
    "duration": -3520,
    "start_time": "2022-01-04T13:32:35.999Z"
   },
   {
    "duration": -3528,
    "start_time": "2022-01-04T13:32:36.008Z"
   },
   {
    "duration": -3534,
    "start_time": "2022-01-04T13:32:36.015Z"
   },
   {
    "duration": -3542,
    "start_time": "2022-01-04T13:32:36.024Z"
   },
   {
    "duration": -3550,
    "start_time": "2022-01-04T13:32:36.033Z"
   },
   {
    "duration": -3563,
    "start_time": "2022-01-04T13:32:36.046Z"
   },
   {
    "duration": -3570,
    "start_time": "2022-01-04T13:32:36.054Z"
   },
   {
    "duration": -3578,
    "start_time": "2022-01-04T13:32:36.063Z"
   },
   {
    "duration": -3585,
    "start_time": "2022-01-04T13:32:36.071Z"
   },
   {
    "duration": -3593,
    "start_time": "2022-01-04T13:32:36.080Z"
   },
   {
    "duration": -3595,
    "start_time": "2022-01-04T13:32:36.083Z"
   },
   {
    "duration": -3608,
    "start_time": "2022-01-04T13:32:36.096Z"
   },
   {
    "duration": -3616,
    "start_time": "2022-01-04T13:32:36.105Z"
   },
   {
    "duration": 23,
    "start_time": "2022-01-04T13:32:45.739Z"
   },
   {
    "duration": 270,
    "start_time": "2022-01-04T13:32:55.686Z"
   },
   {
    "duration": 276,
    "start_time": "2022-01-04T13:33:04.921Z"
   },
   {
    "duration": 282,
    "start_time": "2022-01-04T13:33:17.648Z"
   },
   {
    "duration": 101,
    "start_time": "2022-01-04T13:33:59.562Z"
   },
   {
    "duration": 32,
    "start_time": "2022-01-04T13:34:47.683Z"
   },
   {
    "duration": 4,
    "start_time": "2022-01-04T13:34:53.420Z"
   },
   {
    "duration": 8,
    "start_time": "2022-01-04T13:34:53.425Z"
   },
   {
    "duration": 7,
    "start_time": "2022-01-04T13:34:53.435Z"
   },
   {
    "duration": 5,
    "start_time": "2022-01-04T13:34:53.443Z"
   },
   {
    "duration": 50,
    "start_time": "2022-01-04T13:34:53.450Z"
   },
   {
    "duration": 10,
    "start_time": "2022-01-04T13:34:53.502Z"
   },
   {
    "duration": 23,
    "start_time": "2022-01-04T13:34:53.514Z"
   },
   {
    "duration": 24,
    "start_time": "2022-01-04T13:34:53.541Z"
   },
   {
    "duration": 21,
    "start_time": "2022-01-04T13:34:53.567Z"
   },
   {
    "duration": 4,
    "start_time": "2022-01-04T13:34:53.589Z"
   },
   {
    "duration": 12,
    "start_time": "2022-01-04T13:34:53.595Z"
   },
   {
    "duration": 7,
    "start_time": "2022-01-04T13:34:53.609Z"
   },
   {
    "duration": 8,
    "start_time": "2022-01-04T13:34:53.617Z"
   },
   {
    "duration": 8,
    "start_time": "2022-01-04T13:34:53.626Z"
   },
   {
    "duration": 29,
    "start_time": "2022-01-04T13:34:53.635Z"
   },
   {
    "duration": 10,
    "start_time": "2022-01-04T13:34:53.665Z"
   },
   {
    "duration": 6,
    "start_time": "2022-01-04T13:34:53.677Z"
   },
   {
    "duration": 10,
    "start_time": "2022-01-04T13:34:53.685Z"
   },
   {
    "duration": 13,
    "start_time": "2022-01-04T13:34:53.697Z"
   },
   {
    "duration": 21,
    "start_time": "2022-01-04T13:34:53.712Z"
   },
   {
    "duration": 30,
    "start_time": "2022-01-04T13:34:53.735Z"
   },
   {
    "duration": 6,
    "start_time": "2022-01-04T13:34:53.767Z"
   },
   {
    "duration": 9,
    "start_time": "2022-01-04T13:34:53.776Z"
   },
   {
    "duration": 9,
    "start_time": "2022-01-04T13:34:53.787Z"
   },
   {
    "duration": 5,
    "start_time": "2022-01-04T13:34:53.798Z"
   },
   {
    "duration": 7,
    "start_time": "2022-01-04T13:34:53.805Z"
   },
   {
    "duration": 18,
    "start_time": "2022-01-04T13:34:53.813Z"
   },
   {
    "duration": 29,
    "start_time": "2022-01-04T13:34:53.833Z"
   },
   {
    "duration": 11,
    "start_time": "2022-01-04T13:34:53.863Z"
   },
   {
    "duration": 23,
    "start_time": "2022-01-04T13:34:53.876Z"
   },
   {
    "duration": 61,
    "start_time": "2022-01-04T13:34:53.901Z"
   },
   {
    "duration": 265,
    "start_time": "2022-01-04T13:34:53.964Z"
   },
   {
    "duration": -3502,
    "start_time": "2022-01-04T13:34:57.732Z"
   },
   {
    "duration": -3503,
    "start_time": "2022-01-04T13:34:57.735Z"
   },
   {
    "duration": -3505,
    "start_time": "2022-01-04T13:34:57.738Z"
   },
   {
    "duration": -3507,
    "start_time": "2022-01-04T13:34:57.741Z"
   },
   {
    "duration": -3509,
    "start_time": "2022-01-04T13:34:57.744Z"
   },
   {
    "duration": -3524,
    "start_time": "2022-01-04T13:34:57.760Z"
   },
   {
    "duration": -3526,
    "start_time": "2022-01-04T13:34:57.763Z"
   },
   {
    "duration": -3528,
    "start_time": "2022-01-04T13:34:57.766Z"
   },
   {
    "duration": -3529,
    "start_time": "2022-01-04T13:34:57.768Z"
   },
   {
    "duration": -3532,
    "start_time": "2022-01-04T13:34:57.772Z"
   },
   {
    "duration": -3533,
    "start_time": "2022-01-04T13:34:57.774Z"
   },
   {
    "duration": -3536,
    "start_time": "2022-01-04T13:34:57.777Z"
   },
   {
    "duration": -3538,
    "start_time": "2022-01-04T13:34:57.780Z"
   },
   {
    "duration": -3540,
    "start_time": "2022-01-04T13:34:57.783Z"
   },
   {
    "duration": 75,
    "start_time": "2022-01-04T13:35:18.799Z"
   },
   {
    "duration": 286,
    "start_time": "2022-01-04T13:35:41.566Z"
   },
   {
    "duration": 4,
    "start_time": "2022-01-04T13:36:14.158Z"
   },
   {
    "duration": 7,
    "start_time": "2022-01-04T13:36:14.164Z"
   },
   {
    "duration": 5,
    "start_time": "2022-01-04T13:36:14.173Z"
   },
   {
    "duration": 3,
    "start_time": "2022-01-04T13:36:14.180Z"
   },
   {
    "duration": 41,
    "start_time": "2022-01-04T13:36:14.184Z"
   },
   {
    "duration": 35,
    "start_time": "2022-01-04T13:36:14.226Z"
   },
   {
    "duration": 11,
    "start_time": "2022-01-04T13:36:14.262Z"
   },
   {
    "duration": 6,
    "start_time": "2022-01-04T13:36:14.276Z"
   },
   {
    "duration": 10,
    "start_time": "2022-01-04T13:36:14.284Z"
   },
   {
    "duration": 4,
    "start_time": "2022-01-04T13:36:14.296Z"
   },
   {
    "duration": 12,
    "start_time": "2022-01-04T13:36:14.302Z"
   },
   {
    "duration": 47,
    "start_time": "2022-01-04T13:36:14.316Z"
   },
   {
    "duration": 14,
    "start_time": "2022-01-04T13:36:14.365Z"
   },
   {
    "duration": 13,
    "start_time": "2022-01-04T13:36:14.381Z"
   },
   {
    "duration": 15,
    "start_time": "2022-01-04T13:36:14.396Z"
   },
   {
    "duration": 12,
    "start_time": "2022-01-04T13:36:14.413Z"
   },
   {
    "duration": 13,
    "start_time": "2022-01-04T13:36:14.427Z"
   },
   {
    "duration": 22,
    "start_time": "2022-01-04T13:36:14.442Z"
   },
   {
    "duration": 19,
    "start_time": "2022-01-04T13:36:14.466Z"
   },
   {
    "duration": 23,
    "start_time": "2022-01-04T13:36:14.487Z"
   },
   {
    "duration": 6,
    "start_time": "2022-01-04T13:36:14.512Z"
   },
   {
    "duration": 18,
    "start_time": "2022-01-04T13:36:14.520Z"
   },
   {
    "duration": 14,
    "start_time": "2022-01-04T13:36:14.542Z"
   },
   {
    "duration": 9,
    "start_time": "2022-01-04T13:36:14.560Z"
   },
   {
    "duration": 9,
    "start_time": "2022-01-04T13:36:14.571Z"
   },
   {
    "duration": 8,
    "start_time": "2022-01-04T13:36:14.582Z"
   },
   {
    "duration": 7,
    "start_time": "2022-01-04T13:36:14.592Z"
   },
   {
    "duration": 9,
    "start_time": "2022-01-04T13:36:14.602Z"
   },
   {
    "duration": 7,
    "start_time": "2022-01-04T13:36:14.613Z"
   },
   {
    "duration": 56,
    "start_time": "2022-01-04T13:36:14.622Z"
   },
   {
    "duration": 362,
    "start_time": "2022-01-04T13:36:14.680Z"
   },
   {
    "duration": -3444,
    "start_time": "2022-01-04T13:36:18.488Z"
   },
   {
    "duration": -3452,
    "start_time": "2022-01-04T13:36:18.497Z"
   },
   {
    "duration": -3454,
    "start_time": "2022-01-04T13:36:18.500Z"
   },
   {
    "duration": -3457,
    "start_time": "2022-01-04T13:36:18.504Z"
   },
   {
    "duration": -3459,
    "start_time": "2022-01-04T13:36:18.507Z"
   },
   {
    "duration": -3462,
    "start_time": "2022-01-04T13:36:18.510Z"
   },
   {
    "duration": -3464,
    "start_time": "2022-01-04T13:36:18.513Z"
   },
   {
    "duration": -3466,
    "start_time": "2022-01-04T13:36:18.516Z"
   },
   {
    "duration": -3468,
    "start_time": "2022-01-04T13:36:18.519Z"
   },
   {
    "duration": -3471,
    "start_time": "2022-01-04T13:36:18.522Z"
   },
   {
    "duration": -3473,
    "start_time": "2022-01-04T13:36:18.525Z"
   },
   {
    "duration": -3475,
    "start_time": "2022-01-04T13:36:18.528Z"
   },
   {
    "duration": -3477,
    "start_time": "2022-01-04T13:36:18.531Z"
   },
   {
    "duration": -3479,
    "start_time": "2022-01-04T13:36:18.534Z"
   },
   {
    "duration": -3481,
    "start_time": "2022-01-04T13:36:18.537Z"
   },
   {
    "duration": 290,
    "start_time": "2022-01-04T13:36:38.344Z"
   },
   {
    "duration": 4,
    "start_time": "2022-01-04T13:37:03.946Z"
   },
   {
    "duration": 5,
    "start_time": "2022-01-04T13:37:03.955Z"
   },
   {
    "duration": 7,
    "start_time": "2022-01-04T13:37:03.962Z"
   },
   {
    "duration": 4,
    "start_time": "2022-01-04T13:37:03.971Z"
   },
   {
    "duration": 37,
    "start_time": "2022-01-04T13:37:03.977Z"
   },
   {
    "duration": 7,
    "start_time": "2022-01-04T13:37:04.016Z"
   },
   {
    "duration": 12,
    "start_time": "2022-01-04T13:37:04.024Z"
   },
   {
    "duration": 27,
    "start_time": "2022-01-04T13:37:04.038Z"
   },
   {
    "duration": 9,
    "start_time": "2022-01-04T13:37:04.067Z"
   },
   {
    "duration": 4,
    "start_time": "2022-01-04T13:37:04.078Z"
   },
   {
    "duration": 12,
    "start_time": "2022-01-04T13:37:04.083Z"
   },
   {
    "duration": 6,
    "start_time": "2022-01-04T13:37:04.097Z"
   },
   {
    "duration": 8,
    "start_time": "2022-01-04T13:37:04.105Z"
   },
   {
    "duration": 6,
    "start_time": "2022-01-04T13:37:04.114Z"
   },
   {
    "duration": 8,
    "start_time": "2022-01-04T13:37:04.161Z"
   },
   {
    "duration": 7,
    "start_time": "2022-01-04T13:37:04.171Z"
   },
   {
    "duration": 4,
    "start_time": "2022-01-04T13:37:04.179Z"
   },
   {
    "duration": 8,
    "start_time": "2022-01-04T13:37:04.185Z"
   },
   {
    "duration": 8,
    "start_time": "2022-01-04T13:37:04.195Z"
   },
   {
    "duration": 14,
    "start_time": "2022-01-04T13:37:04.205Z"
   },
   {
    "duration": 5,
    "start_time": "2022-01-04T13:37:04.221Z"
   },
   {
    "duration": 6,
    "start_time": "2022-01-04T13:37:04.260Z"
   },
   {
    "duration": 6,
    "start_time": "2022-01-04T13:37:04.269Z"
   },
   {
    "duration": 6,
    "start_time": "2022-01-04T13:37:04.277Z"
   },
   {
    "duration": 4,
    "start_time": "2022-01-04T13:37:04.285Z"
   },
   {
    "duration": 7,
    "start_time": "2022-01-04T13:37:04.291Z"
   },
   {
    "duration": 5,
    "start_time": "2022-01-04T13:37:04.300Z"
   },
   {
    "duration": 6,
    "start_time": "2022-01-04T13:37:04.307Z"
   },
   {
    "duration": 5,
    "start_time": "2022-01-04T13:37:04.314Z"
   },
   {
    "duration": 51,
    "start_time": "2022-01-04T13:37:04.321Z"
   },
   {
    "duration": 350,
    "start_time": "2022-01-04T13:37:04.373Z"
   },
   {
    "duration": -3459,
    "start_time": "2022-01-04T13:37:08.183Z"
   },
   {
    "duration": -3462,
    "start_time": "2022-01-04T13:37:08.187Z"
   },
   {
    "duration": -3467,
    "start_time": "2022-01-04T13:37:08.193Z"
   },
   {
    "duration": -3469,
    "start_time": "2022-01-04T13:37:08.196Z"
   },
   {
    "duration": -3470,
    "start_time": "2022-01-04T13:37:08.198Z"
   },
   {
    "duration": -3472,
    "start_time": "2022-01-04T13:37:08.202Z"
   },
   {
    "duration": -3473,
    "start_time": "2022-01-04T13:37:08.204Z"
   },
   {
    "duration": -3475,
    "start_time": "2022-01-04T13:37:08.207Z"
   },
   {
    "duration": -3477,
    "start_time": "2022-01-04T13:37:08.210Z"
   },
   {
    "duration": -3478,
    "start_time": "2022-01-04T13:37:08.212Z"
   },
   {
    "duration": -3484,
    "start_time": "2022-01-04T13:37:08.219Z"
   },
   {
    "duration": -3486,
    "start_time": "2022-01-04T13:37:08.222Z"
   },
   {
    "duration": -3487,
    "start_time": "2022-01-04T13:37:08.224Z"
   },
   {
    "duration": -3489,
    "start_time": "2022-01-04T13:37:08.227Z"
   },
   {
    "duration": -3492,
    "start_time": "2022-01-04T13:37:08.230Z"
   },
   {
    "duration": 360,
    "start_time": "2022-01-04T13:38:09.968Z"
   },
   {
    "duration": 4,
    "start_time": "2022-01-04T13:39:08.276Z"
   },
   {
    "duration": 23,
    "start_time": "2022-01-04T13:39:08.282Z"
   },
   {
    "duration": 7,
    "start_time": "2022-01-04T13:39:08.307Z"
   },
   {
    "duration": 5,
    "start_time": "2022-01-04T13:39:08.316Z"
   },
   {
    "duration": 40,
    "start_time": "2022-01-04T13:39:08.322Z"
   },
   {
    "duration": 8,
    "start_time": "2022-01-04T13:39:08.363Z"
   },
   {
    "duration": 10,
    "start_time": "2022-01-04T13:39:08.373Z"
   },
   {
    "duration": 6,
    "start_time": "2022-01-04T13:39:08.386Z"
   },
   {
    "duration": 8,
    "start_time": "2022-01-04T13:39:08.395Z"
   },
   {
    "duration": 5,
    "start_time": "2022-01-04T13:39:08.405Z"
   },
   {
    "duration": 50,
    "start_time": "2022-01-04T13:39:08.412Z"
   },
   {
    "duration": 8,
    "start_time": "2022-01-04T13:39:08.464Z"
   },
   {
    "duration": 8,
    "start_time": "2022-01-04T13:39:08.474Z"
   },
   {
    "duration": 6,
    "start_time": "2022-01-04T13:39:08.484Z"
   },
   {
    "duration": 9,
    "start_time": "2022-01-04T13:39:08.492Z"
   },
   {
    "duration": 8,
    "start_time": "2022-01-04T13:39:08.503Z"
   },
   {
    "duration": 6,
    "start_time": "2022-01-04T13:39:08.513Z"
   },
   {
    "duration": 8,
    "start_time": "2022-01-04T13:39:08.561Z"
   },
   {
    "duration": 11,
    "start_time": "2022-01-04T13:39:08.571Z"
   },
   {
    "duration": 15,
    "start_time": "2022-01-04T13:39:08.584Z"
   },
   {
    "duration": 7,
    "start_time": "2022-01-04T13:39:08.600Z"
   },
   {
    "duration": 5,
    "start_time": "2022-01-04T13:39:08.608Z"
   },
   {
    "duration": 48,
    "start_time": "2022-01-04T13:39:08.616Z"
   },
   {
    "duration": 7,
    "start_time": "2022-01-04T13:39:08.666Z"
   },
   {
    "duration": 5,
    "start_time": "2022-01-04T13:39:08.675Z"
   },
   {
    "duration": 5,
    "start_time": "2022-01-04T13:39:08.682Z"
   },
   {
    "duration": 7,
    "start_time": "2022-01-04T13:39:08.689Z"
   },
   {
    "duration": 7,
    "start_time": "2022-01-04T13:39:08.697Z"
   },
   {
    "duration": 5,
    "start_time": "2022-01-04T13:39:08.705Z"
   },
   {
    "duration": 51,
    "start_time": "2022-01-04T13:39:08.712Z"
   },
   {
    "duration": 288,
    "start_time": "2022-01-04T13:39:08.765Z"
   },
   {
    "duration": -3454,
    "start_time": "2022-01-04T13:39:12.508Z"
   },
   {
    "duration": -3456,
    "start_time": "2022-01-04T13:39:12.511Z"
   },
   {
    "duration": -3458,
    "start_time": "2022-01-04T13:39:12.514Z"
   },
   {
    "duration": -3460,
    "start_time": "2022-01-04T13:39:12.517Z"
   },
   {
    "duration": -3466,
    "start_time": "2022-01-04T13:39:12.525Z"
   },
   {
    "duration": -3469,
    "start_time": "2022-01-04T13:39:12.529Z"
   },
   {
    "duration": -3471,
    "start_time": "2022-01-04T13:39:12.532Z"
   },
   {
    "duration": -3473,
    "start_time": "2022-01-04T13:39:12.535Z"
   },
   {
    "duration": -3474,
    "start_time": "2022-01-04T13:39:12.537Z"
   },
   {
    "duration": -3477,
    "start_time": "2022-01-04T13:39:12.541Z"
   },
   {
    "duration": -3479,
    "start_time": "2022-01-04T13:39:12.544Z"
   },
   {
    "duration": -3481,
    "start_time": "2022-01-04T13:39:12.547Z"
   },
   {
    "duration": -3482,
    "start_time": "2022-01-04T13:39:12.549Z"
   },
   {
    "duration": -3484,
    "start_time": "2022-01-04T13:39:12.552Z"
   },
   {
    "duration": -3486,
    "start_time": "2022-01-04T13:39:12.555Z"
   },
   {
    "duration": 288,
    "start_time": "2022-01-04T13:39:41.689Z"
   },
   {
    "duration": 5,
    "start_time": "2022-01-04T13:40:05.166Z"
   },
   {
    "duration": 3,
    "start_time": "2022-01-04T13:40:05.263Z"
   },
   {
    "duration": 95,
    "start_time": "2022-01-04T13:40:05.268Z"
   },
   {
    "duration": 4,
    "start_time": "2022-01-04T13:40:05.365Z"
   },
   {
    "duration": 40,
    "start_time": "2022-01-04T13:40:05.371Z"
   },
   {
    "duration": 10,
    "start_time": "2022-01-04T13:40:05.412Z"
   },
   {
    "duration": 13,
    "start_time": "2022-01-04T13:40:05.424Z"
   },
   {
    "duration": 8,
    "start_time": "2022-01-04T13:40:05.439Z"
   },
   {
    "duration": 9,
    "start_time": "2022-01-04T13:40:05.449Z"
   },
   {
    "duration": 5,
    "start_time": "2022-01-04T13:40:05.460Z"
   },
   {
    "duration": 17,
    "start_time": "2022-01-04T13:40:05.466Z"
   },
   {
    "duration": 6,
    "start_time": "2022-01-04T13:40:05.485Z"
   },
   {
    "duration": 9,
    "start_time": "2022-01-04T13:40:05.493Z"
   },
   {
    "duration": 25,
    "start_time": "2022-01-04T13:40:05.504Z"
   },
   {
    "duration": 13,
    "start_time": "2022-01-04T13:40:05.530Z"
   },
   {
    "duration": 15,
    "start_time": "2022-01-04T13:40:05.545Z"
   },
   {
    "duration": 5,
    "start_time": "2022-01-04T13:40:05.562Z"
   },
   {
    "duration": 12,
    "start_time": "2022-01-04T13:40:05.568Z"
   },
   {
    "duration": 9,
    "start_time": "2022-01-04T13:40:05.582Z"
   },
   {
    "duration": 15,
    "start_time": "2022-01-04T13:40:05.593Z"
   },
   {
    "duration": 6,
    "start_time": "2022-01-04T13:40:05.609Z"
   },
   {
    "duration": 5,
    "start_time": "2022-01-04T13:40:05.618Z"
   },
   {
    "duration": 14,
    "start_time": "2022-01-04T13:40:05.625Z"
   },
   {
    "duration": 7,
    "start_time": "2022-01-04T13:40:05.641Z"
   },
   {
    "duration": 5,
    "start_time": "2022-01-04T13:40:05.650Z"
   },
   {
    "duration": 7,
    "start_time": "2022-01-04T13:40:05.657Z"
   },
   {
    "duration": 6,
    "start_time": "2022-01-04T13:40:05.665Z"
   },
   {
    "duration": 6,
    "start_time": "2022-01-04T13:40:05.673Z"
   },
   {
    "duration": 6,
    "start_time": "2022-01-04T13:40:05.681Z"
   },
   {
    "duration": 16,
    "start_time": "2022-01-04T13:40:05.688Z"
   },
   {
    "duration": 19162,
    "start_time": "2022-01-04T13:40:05.705Z"
   },
   {
    "duration": 372,
    "start_time": "2022-01-04T13:40:24.869Z"
   },
   {
    "duration": -3456,
    "start_time": "2022-01-04T13:40:28.698Z"
   },
   {
    "duration": -3458,
    "start_time": "2022-01-04T13:40:28.701Z"
   },
   {
    "duration": -3472,
    "start_time": "2022-01-04T13:40:28.716Z"
   },
   {
    "duration": -3475,
    "start_time": "2022-01-04T13:40:28.720Z"
   },
   {
    "duration": -3478,
    "start_time": "2022-01-04T13:40:28.724Z"
   },
   {
    "duration": -3479,
    "start_time": "2022-01-04T13:40:28.727Z"
   },
   {
    "duration": -3483,
    "start_time": "2022-01-04T13:40:28.731Z"
   },
   {
    "duration": -3485,
    "start_time": "2022-01-04T13:40:28.734Z"
   },
   {
    "duration": -3488,
    "start_time": "2022-01-04T13:40:28.738Z"
   },
   {
    "duration": -3491,
    "start_time": "2022-01-04T13:40:28.742Z"
   },
   {
    "duration": -3493,
    "start_time": "2022-01-04T13:40:28.745Z"
   },
   {
    "duration": -3495,
    "start_time": "2022-01-04T13:40:28.748Z"
   },
   {
    "duration": -3498,
    "start_time": "2022-01-04T13:40:28.752Z"
   },
   {
    "duration": -3500,
    "start_time": "2022-01-04T13:40:28.755Z"
   },
   {
    "duration": 384,
    "start_time": "2022-01-04T13:50:28.761Z"
   },
   {
    "duration": 4,
    "start_time": "2022-01-04T13:50:34.272Z"
   },
   {
    "duration": 8,
    "start_time": "2022-01-04T13:50:34.278Z"
   },
   {
    "duration": 6,
    "start_time": "2022-01-04T13:50:34.288Z"
   },
   {
    "duration": 9,
    "start_time": "2022-01-04T13:50:34.296Z"
   },
   {
    "duration": 40,
    "start_time": "2022-01-04T13:50:34.307Z"
   },
   {
    "duration": 16,
    "start_time": "2022-01-04T13:50:34.349Z"
   },
   {
    "duration": 12,
    "start_time": "2022-01-04T13:50:34.368Z"
   },
   {
    "duration": 8,
    "start_time": "2022-01-04T13:50:34.382Z"
   },
   {
    "duration": 13,
    "start_time": "2022-01-04T13:50:34.392Z"
   },
   {
    "duration": 6,
    "start_time": "2022-01-04T13:50:34.407Z"
   },
   {
    "duration": 54,
    "start_time": "2022-01-04T13:50:34.414Z"
   },
   {
    "duration": 8,
    "start_time": "2022-01-04T13:50:34.469Z"
   },
   {
    "duration": 9,
    "start_time": "2022-01-04T13:50:34.478Z"
   },
   {
    "duration": 7,
    "start_time": "2022-01-04T13:50:34.489Z"
   },
   {
    "duration": 10,
    "start_time": "2022-01-04T13:50:34.498Z"
   },
   {
    "duration": 10,
    "start_time": "2022-01-04T13:50:34.510Z"
   },
   {
    "duration": 3,
    "start_time": "2022-01-04T13:50:34.523Z"
   },
   {
    "duration": 8,
    "start_time": "2022-01-04T13:50:34.561Z"
   },
   {
    "duration": 12,
    "start_time": "2022-01-04T13:50:34.573Z"
   },
   {
    "duration": 16,
    "start_time": "2022-01-04T13:50:34.588Z"
   },
   {
    "duration": 6,
    "start_time": "2022-01-04T13:50:34.606Z"
   },
   {
    "duration": 7,
    "start_time": "2022-01-04T13:50:34.614Z"
   },
   {
    "duration": 50,
    "start_time": "2022-01-04T13:50:34.623Z"
   },
   {
    "duration": 8,
    "start_time": "2022-01-04T13:50:34.675Z"
   },
   {
    "duration": 5,
    "start_time": "2022-01-04T13:50:34.685Z"
   },
   {
    "duration": 7,
    "start_time": "2022-01-04T13:50:34.692Z"
   },
   {
    "duration": 9,
    "start_time": "2022-01-04T13:50:34.701Z"
   },
   {
    "duration": 10,
    "start_time": "2022-01-04T13:50:34.711Z"
   },
   {
    "duration": 6,
    "start_time": "2022-01-04T13:50:34.722Z"
   },
   {
    "duration": 44,
    "start_time": "2022-01-04T13:50:34.729Z"
   },
   {
    "duration": 383,
    "start_time": "2022-01-04T13:50:34.775Z"
   },
   {
    "duration": -3455,
    "start_time": "2022-01-04T13:50:38.615Z"
   },
   {
    "duration": -3458,
    "start_time": "2022-01-04T13:50:38.619Z"
   },
   {
    "duration": -3460,
    "start_time": "2022-01-04T13:50:38.622Z"
   },
   {
    "duration": -3462,
    "start_time": "2022-01-04T13:50:38.625Z"
   },
   {
    "duration": -3464,
    "start_time": "2022-01-04T13:50:38.628Z"
   },
   {
    "duration": -3466,
    "start_time": "2022-01-04T13:50:38.631Z"
   },
   {
    "duration": -3468,
    "start_time": "2022-01-04T13:50:38.634Z"
   },
   {
    "duration": -3470,
    "start_time": "2022-01-04T13:50:38.637Z"
   },
   {
    "duration": -3472,
    "start_time": "2022-01-04T13:50:38.640Z"
   },
   {
    "duration": -3474,
    "start_time": "2022-01-04T13:50:38.643Z"
   },
   {
    "duration": -3476,
    "start_time": "2022-01-04T13:50:38.646Z"
   },
   {
    "duration": -3483,
    "start_time": "2022-01-04T13:50:38.654Z"
   },
   {
    "duration": -3484,
    "start_time": "2022-01-04T13:50:38.656Z"
   },
   {
    "duration": -3487,
    "start_time": "2022-01-04T13:50:38.660Z"
   },
   {
    "duration": -3489,
    "start_time": "2022-01-04T13:50:38.662Z"
   },
   {
    "duration": 81,
    "start_time": "2022-01-04T13:51:17.911Z"
   },
   {
    "duration": 495,
    "start_time": "2022-01-04T13:51:26.949Z"
   },
   {
    "duration": 276,
    "start_time": "2022-01-04T13:51:40.558Z"
   },
   {
    "duration": 437,
    "start_time": "2022-01-04T13:52:51.639Z"
   },
   {
    "duration": 3,
    "start_time": "2022-01-04T13:53:36.001Z"
   },
   {
    "duration": 4,
    "start_time": "2022-01-04T13:53:44.381Z"
   },
   {
    "duration": 4,
    "start_time": "2022-01-04T13:54:01.276Z"
   },
   {
    "duration": 4,
    "start_time": "2022-01-04T13:54:02.130Z"
   },
   {
    "duration": 344,
    "start_time": "2022-01-04T13:54:42.993Z"
   },
   {
    "duration": 321,
    "start_time": "2022-01-04T13:57:55.128Z"
   },
   {
    "duration": 36,
    "start_time": "2022-01-04T14:00:33.583Z"
   },
   {
    "duration": 36,
    "start_time": "2022-01-04T14:00:59.452Z"
   },
   {
    "duration": 35,
    "start_time": "2022-01-04T14:01:26.439Z"
   },
   {
    "duration": 4,
    "start_time": "2022-01-04T14:07:50.759Z"
   },
   {
    "duration": 4,
    "start_time": "2022-01-04T14:07:51.346Z"
   },
   {
    "duration": 4,
    "start_time": "2022-01-04T14:08:08.724Z"
   },
   {
    "duration": 11,
    "start_time": "2022-01-04T14:08:09.177Z"
   },
   {
    "duration": 4,
    "start_time": "2022-01-04T14:08:28.715Z"
   },
   {
    "duration": 5,
    "start_time": "2022-01-04T14:08:28.969Z"
   },
   {
    "duration": 33,
    "start_time": "2022-01-04T14:09:17.809Z"
   },
   {
    "duration": 313,
    "start_time": "2022-01-04T14:11:48.837Z"
   },
   {
    "duration": 19675,
    "start_time": "2022-01-04T14:11:57.610Z"
   },
   {
    "duration": 19475,
    "start_time": "2022-01-04T14:16:13.411Z"
   },
   {
    "duration": 19668,
    "start_time": "2022-01-04T14:16:57.822Z"
   },
   {
    "duration": 99660,
    "start_time": "2022-01-04T14:55:02.718Z"
   },
   {
    "duration": 39725,
    "start_time": "2022-01-04T14:56:49.536Z"
   },
   {
    "duration": 37962,
    "start_time": "2022-01-04T14:57:39.000Z"
   },
   {
    "duration": 38428,
    "start_time": "2022-01-04T14:58:52.144Z"
   },
   {
    "duration": 18666,
    "start_time": "2022-01-04T14:59:39.697Z"
   },
   {
    "duration": 263,
    "start_time": "2022-01-04T15:06:17.558Z"
   },
   {
    "duration": 4,
    "start_time": "2022-01-04T15:07:09.751Z"
   },
   {
    "duration": 45,
    "start_time": "2022-01-04T15:07:09.757Z"
   },
   {
    "duration": 38,
    "start_time": "2022-01-04T15:07:09.804Z"
   },
   {
    "duration": 35,
    "start_time": "2022-01-04T15:07:09.844Z"
   },
   {
    "duration": 71,
    "start_time": "2022-01-04T15:07:09.881Z"
   },
   {
    "duration": 26,
    "start_time": "2022-01-04T15:07:09.953Z"
   },
   {
    "duration": 33,
    "start_time": "2022-01-04T15:07:09.981Z"
   },
   {
    "duration": 41,
    "start_time": "2022-01-04T15:07:10.016Z"
   },
   {
    "duration": 36,
    "start_time": "2022-01-04T15:07:10.059Z"
   },
   {
    "duration": 42,
    "start_time": "2022-01-04T15:07:10.097Z"
   },
   {
    "duration": 35,
    "start_time": "2022-01-04T15:07:10.141Z"
   },
   {
    "duration": 47,
    "start_time": "2022-01-04T15:07:10.178Z"
   },
   {
    "duration": 41,
    "start_time": "2022-01-04T15:07:10.227Z"
   },
   {
    "duration": 46,
    "start_time": "2022-01-04T15:07:10.270Z"
   },
   {
    "duration": 58,
    "start_time": "2022-01-04T15:07:10.318Z"
   },
   {
    "duration": 33,
    "start_time": "2022-01-04T15:07:10.377Z"
   },
   {
    "duration": 53,
    "start_time": "2022-01-04T15:07:10.411Z"
   },
   {
    "duration": 79,
    "start_time": "2022-01-04T15:07:10.465Z"
   },
   {
    "duration": 34,
    "start_time": "2022-01-04T15:07:10.547Z"
   },
   {
    "duration": 61,
    "start_time": "2022-01-04T15:07:10.583Z"
   },
   {
    "duration": 27,
    "start_time": "2022-01-04T15:07:10.645Z"
   },
   {
    "duration": 24,
    "start_time": "2022-01-04T15:07:10.673Z"
   },
   {
    "duration": 49,
    "start_time": "2022-01-04T15:07:10.699Z"
   },
   {
    "duration": 13,
    "start_time": "2022-01-04T15:07:10.750Z"
   },
   {
    "duration": 7,
    "start_time": "2022-01-04T15:07:10.764Z"
   },
   {
    "duration": 7,
    "start_time": "2022-01-04T15:07:10.773Z"
   },
   {
    "duration": 4,
    "start_time": "2022-01-04T15:07:10.782Z"
   },
   {
    "duration": 19082,
    "start_time": "2022-01-04T15:07:10.788Z"
   },
   {
    "duration": 91,
    "start_time": "2022-01-04T15:07:29.872Z"
   },
   {
    "duration": 454,
    "start_time": "2022-01-04T15:07:29.965Z"
   },
   {
    "duration": -3499,
    "start_time": "2022-01-04T15:07:33.920Z"
   },
   {
    "duration": -3501,
    "start_time": "2022-01-04T15:07:33.923Z"
   },
   {
    "duration": -3503,
    "start_time": "2022-01-04T15:07:33.926Z"
   },
   {
    "duration": -3506,
    "start_time": "2022-01-04T15:07:33.929Z"
   },
   {
    "duration": -3508,
    "start_time": "2022-01-04T15:07:33.932Z"
   },
   {
    "duration": -3510,
    "start_time": "2022-01-04T15:07:33.935Z"
   },
   {
    "duration": -3512,
    "start_time": "2022-01-04T15:07:33.938Z"
   },
   {
    "duration": -3514,
    "start_time": "2022-01-04T15:07:33.941Z"
   },
   {
    "duration": -3524,
    "start_time": "2022-01-04T15:07:33.952Z"
   },
   {
    "duration": -3527,
    "start_time": "2022-01-04T15:07:33.956Z"
   },
   {
    "duration": -3528,
    "start_time": "2022-01-04T15:07:33.958Z"
   },
   {
    "duration": -3530,
    "start_time": "2022-01-04T15:07:33.961Z"
   },
   {
    "duration": -3532,
    "start_time": "2022-01-04T15:07:33.964Z"
   },
   {
    "duration": -3534,
    "start_time": "2022-01-04T15:07:33.967Z"
   },
   {
    "duration": 6,
    "start_time": "2022-01-04T15:08:02.407Z"
   },
   {
    "duration": 20988,
    "start_time": "2022-01-04T15:16:13.388Z"
   },
   {
    "duration": 6,
    "start_time": "2022-01-04T15:16:55.375Z"
   },
   {
    "duration": 6,
    "start_time": "2022-01-04T15:16:56.322Z"
   },
   {
    "duration": 250,
    "start_time": "2022-01-04T15:18:40.970Z"
   },
   {
    "duration": 123074,
    "start_time": "2022-01-04T15:18:55.119Z"
   },
   {
    "duration": 7,
    "start_time": "2022-01-04T15:24:37.391Z"
   },
   {
    "duration": 32,
    "start_time": "2022-01-04T15:24:38.492Z"
   },
   {
    "duration": 19134,
    "start_time": "2022-01-04T15:25:51.738Z"
   },
   {
    "duration": 12,
    "start_time": "2022-01-04T15:26:13.230Z"
   },
   {
    "duration": 6,
    "start_time": "2022-01-04T15:26:14.568Z"
   },
   {
    "duration": 4,
    "start_time": "2022-01-04T15:26:29.522Z"
   },
   {
    "duration": 19,
    "start_time": "2022-01-04T15:26:29.527Z"
   },
   {
    "duration": 11,
    "start_time": "2022-01-04T15:26:29.548Z"
   },
   {
    "duration": 16,
    "start_time": "2022-01-04T15:26:29.561Z"
   },
   {
    "duration": 66,
    "start_time": "2022-01-04T15:26:29.580Z"
   },
   {
    "duration": 7,
    "start_time": "2022-01-04T15:26:29.648Z"
   },
   {
    "duration": 22,
    "start_time": "2022-01-04T15:26:29.657Z"
   },
   {
    "duration": 17,
    "start_time": "2022-01-04T15:26:29.681Z"
   },
   {
    "duration": 18,
    "start_time": "2022-01-04T15:26:29.699Z"
   },
   {
    "duration": 20,
    "start_time": "2022-01-04T15:26:29.720Z"
   },
   {
    "duration": 35,
    "start_time": "2022-01-04T15:26:29.742Z"
   },
   {
    "duration": 18,
    "start_time": "2022-01-04T15:26:29.778Z"
   },
   {
    "duration": 27,
    "start_time": "2022-01-04T15:26:29.797Z"
   },
   {
    "duration": 21,
    "start_time": "2022-01-04T15:26:29.826Z"
   },
   {
    "duration": 13,
    "start_time": "2022-01-04T15:26:29.849Z"
   },
   {
    "duration": 30,
    "start_time": "2022-01-04T15:26:29.863Z"
   },
   {
    "duration": 25,
    "start_time": "2022-01-04T15:26:29.895Z"
   },
   {
    "duration": 30,
    "start_time": "2022-01-04T15:26:29.922Z"
   },
   {
    "duration": 18,
    "start_time": "2022-01-04T15:26:29.954Z"
   },
   {
    "duration": 29,
    "start_time": "2022-01-04T15:26:29.974Z"
   },
   {
    "duration": 19,
    "start_time": "2022-01-04T15:26:30.005Z"
   },
   {
    "duration": 36,
    "start_time": "2022-01-04T15:26:30.025Z"
   },
   {
    "duration": 25,
    "start_time": "2022-01-04T15:26:30.063Z"
   },
   {
    "duration": 25,
    "start_time": "2022-01-04T15:26:30.090Z"
   },
   {
    "duration": 25,
    "start_time": "2022-01-04T15:26:30.119Z"
   },
   {
    "duration": 20,
    "start_time": "2022-01-04T15:26:30.146Z"
   },
   {
    "duration": 23,
    "start_time": "2022-01-04T15:26:30.167Z"
   },
   {
    "duration": 18978,
    "start_time": "2022-01-04T15:26:30.192Z"
   },
   {
    "duration": 95,
    "start_time": "2022-01-04T15:26:49.172Z"
   },
   {
    "duration": 191,
    "start_time": "2022-01-04T15:26:49.270Z"
   },
   {
    "duration": 112750,
    "start_time": "2022-01-04T15:26:49.463Z"
   },
   {
    "duration": 5,
    "start_time": "2022-01-04T15:28:42.214Z"
   },
   {
    "duration": 43,
    "start_time": "2022-01-04T15:28:42.221Z"
   },
   {
    "duration": 93,
    "start_time": "2022-01-04T15:28:42.265Z"
   },
   {
    "duration": -3572,
    "start_time": "2022-01-04T15:28:45.932Z"
   },
   {
    "duration": -3574,
    "start_time": "2022-01-04T15:28:45.935Z"
   },
   {
    "duration": -3576,
    "start_time": "2022-01-04T15:28:45.938Z"
   },
   {
    "duration": -3583,
    "start_time": "2022-01-04T15:28:45.946Z"
   },
   {
    "duration": -3585,
    "start_time": "2022-01-04T15:28:45.949Z"
   },
   {
    "duration": -3587,
    "start_time": "2022-01-04T15:28:45.952Z"
   },
   {
    "duration": -3589,
    "start_time": "2022-01-04T15:28:45.955Z"
   },
   {
    "duration": -3596,
    "start_time": "2022-01-04T15:28:45.963Z"
   },
   {
    "duration": -3598,
    "start_time": "2022-01-04T15:28:45.966Z"
   },
   {
    "duration": -3600,
    "start_time": "2022-01-04T15:28:45.969Z"
   },
   {
    "duration": -3602,
    "start_time": "2022-01-04T15:28:45.972Z"
   },
   {
    "duration": 119487,
    "start_time": "2022-01-04T15:29:09.116Z"
   },
   {
    "duration": 4,
    "start_time": "2022-01-04T15:31:33.338Z"
   },
   {
    "duration": 6,
    "start_time": "2022-01-04T15:31:33.344Z"
   },
   {
    "duration": 6,
    "start_time": "2022-01-04T15:31:33.352Z"
   },
   {
    "duration": 3,
    "start_time": "2022-01-04T15:31:33.360Z"
   },
   {
    "duration": 37,
    "start_time": "2022-01-04T15:31:33.365Z"
   },
   {
    "duration": 8,
    "start_time": "2022-01-04T15:31:33.404Z"
   },
   {
    "duration": 11,
    "start_time": "2022-01-04T15:31:33.413Z"
   },
   {
    "duration": 35,
    "start_time": "2022-01-04T15:31:33.427Z"
   },
   {
    "duration": 9,
    "start_time": "2022-01-04T15:31:33.464Z"
   },
   {
    "duration": 4,
    "start_time": "2022-01-04T15:31:33.475Z"
   },
   {
    "duration": 12,
    "start_time": "2022-01-04T15:31:33.480Z"
   },
   {
    "duration": 6,
    "start_time": "2022-01-04T15:31:33.493Z"
   },
   {
    "duration": 6,
    "start_time": "2022-01-04T15:31:33.501Z"
   },
   {
    "duration": 5,
    "start_time": "2022-01-04T15:31:33.508Z"
   },
   {
    "duration": 46,
    "start_time": "2022-01-04T15:31:33.515Z"
   },
   {
    "duration": 8,
    "start_time": "2022-01-04T15:31:33.562Z"
   },
   {
    "duration": 7,
    "start_time": "2022-01-04T15:31:33.572Z"
   },
   {
    "duration": 10,
    "start_time": "2022-01-04T15:31:33.581Z"
   },
   {
    "duration": 10,
    "start_time": "2022-01-04T15:31:33.593Z"
   },
   {
    "duration": 15,
    "start_time": "2022-01-04T15:31:33.604Z"
   },
   {
    "duration": 7,
    "start_time": "2022-01-04T15:31:33.621Z"
   },
   {
    "duration": 36,
    "start_time": "2022-01-04T15:31:33.629Z"
   },
   {
    "duration": 6,
    "start_time": "2022-01-04T15:31:33.669Z"
   },
   {
    "duration": 7,
    "start_time": "2022-01-04T15:31:33.677Z"
   },
   {
    "duration": 6,
    "start_time": "2022-01-04T15:31:33.685Z"
   },
   {
    "duration": 19374,
    "start_time": "2022-01-04T15:31:33.693Z"
   },
   {
    "duration": 98,
    "start_time": "2022-01-04T15:31:53.069Z"
   },
   {
    "duration": 103,
    "start_time": "2022-01-04T15:31:53.169Z"
   },
   {
    "duration": 114104,
    "start_time": "2022-01-04T15:31:53.273Z"
   },
   {
    "duration": 5,
    "start_time": "2022-01-04T15:33:47.379Z"
   },
   {
    "duration": 34,
    "start_time": "2022-01-04T15:33:47.386Z"
   },
   {
    "duration": 79,
    "start_time": "2022-01-04T15:33:47.422Z"
   },
   {
    "duration": -3494,
    "start_time": "2022-01-04T15:33:50.997Z"
   },
   {
    "duration": -3498,
    "start_time": "2022-01-04T15:33:51.003Z"
   },
   {
    "duration": -3499,
    "start_time": "2022-01-04T15:33:51.005Z"
   },
   {
    "duration": -3501,
    "start_time": "2022-01-04T15:33:51.008Z"
   },
   {
    "duration": -3503,
    "start_time": "2022-01-04T15:33:51.011Z"
   },
   {
    "duration": -3505,
    "start_time": "2022-01-04T15:33:51.014Z"
   },
   {
    "duration": -3507,
    "start_time": "2022-01-04T15:33:51.017Z"
   },
   {
    "duration": -3510,
    "start_time": "2022-01-04T15:33:51.021Z"
   },
   {
    "duration": -3511,
    "start_time": "2022-01-04T15:33:51.023Z"
   },
   {
    "duration": -3513,
    "start_time": "2022-01-04T15:33:51.026Z"
   },
   {
    "duration": -3514,
    "start_time": "2022-01-04T15:33:51.029Z"
   },
   {
    "duration": 7,
    "start_time": "2022-01-04T15:40:18.506Z"
   },
   {
    "duration": 19745,
    "start_time": "2022-01-04T15:42:28.916Z"
   },
   {
    "duration": 10,
    "start_time": "2022-01-04T15:42:53.251Z"
   },
   {
    "duration": 8,
    "start_time": "2022-01-04T15:42:54.156Z"
   },
   {
    "duration": 7,
    "start_time": "2022-01-04T15:47:24.713Z"
   },
   {
    "duration": 8,
    "start_time": "2022-01-04T15:47:25.644Z"
   },
   {
    "duration": 12,
    "start_time": "2022-01-04T15:47:27.050Z"
   },
   {
    "duration": 6,
    "start_time": "2022-01-04T15:47:29.589Z"
   },
   {
    "duration": 108853,
    "start_time": "2022-01-04T15:55:45.296Z"
   },
   {
    "duration": 6,
    "start_time": "2022-01-04T15:57:58.811Z"
   },
   {
    "duration": 33,
    "start_time": "2022-01-04T15:57:59.684Z"
   },
   {
    "duration": 4,
    "start_time": "2022-01-04T15:59:02.676Z"
   },
   {
    "duration": 6,
    "start_time": "2022-01-04T15:59:02.683Z"
   },
   {
    "duration": 5,
    "start_time": "2022-01-04T15:59:02.691Z"
   },
   {
    "duration": 3,
    "start_time": "2022-01-04T15:59:02.698Z"
   },
   {
    "duration": 39,
    "start_time": "2022-01-04T15:59:02.703Z"
   },
   {
    "duration": 22,
    "start_time": "2022-01-04T15:59:02.743Z"
   },
   {
    "duration": 11,
    "start_time": "2022-01-04T15:59:02.766Z"
   },
   {
    "duration": 7,
    "start_time": "2022-01-04T15:59:02.779Z"
   },
   {
    "duration": 9,
    "start_time": "2022-01-04T15:59:02.789Z"
   },
   {
    "duration": 5,
    "start_time": "2022-01-04T15:59:02.801Z"
   },
   {
    "duration": 14,
    "start_time": "2022-01-04T15:59:02.807Z"
   },
   {
    "duration": 39,
    "start_time": "2022-01-04T15:59:02.823Z"
   },
   {
    "duration": 10,
    "start_time": "2022-01-04T15:59:02.863Z"
   },
   {
    "duration": 7,
    "start_time": "2022-01-04T15:59:02.875Z"
   },
   {
    "duration": 12,
    "start_time": "2022-01-04T15:59:02.884Z"
   },
   {
    "duration": 19,
    "start_time": "2022-01-04T15:59:02.897Z"
   },
   {
    "duration": 10,
    "start_time": "2022-01-04T15:59:02.918Z"
   },
   {
    "duration": 15,
    "start_time": "2022-01-04T15:59:02.930Z"
   },
   {
    "duration": 27,
    "start_time": "2022-01-04T15:59:02.947Z"
   },
   {
    "duration": 17,
    "start_time": "2022-01-04T15:59:02.976Z"
   },
   {
    "duration": 23,
    "start_time": "2022-01-04T15:59:02.995Z"
   },
   {
    "duration": 17,
    "start_time": "2022-01-04T15:59:03.020Z"
   },
   {
    "duration": 17,
    "start_time": "2022-01-04T15:59:03.038Z"
   },
   {
    "duration": 9,
    "start_time": "2022-01-04T15:59:03.057Z"
   },
   {
    "duration": 20,
    "start_time": "2022-01-04T15:59:03.068Z"
   },
   {
    "duration": 19090,
    "start_time": "2022-01-04T15:59:03.090Z"
   },
   {
    "duration": 103,
    "start_time": "2022-01-04T15:59:22.263Z"
   },
   {
    "duration": 97,
    "start_time": "2022-01-04T15:59:22.370Z"
   },
   {
    "duration": 114756,
    "start_time": "2022-01-04T15:59:22.469Z"
   },
   {
    "duration": 6,
    "start_time": "2022-01-04T16:01:17.227Z"
   },
   {
    "duration": 41,
    "start_time": "2022-01-04T16:01:17.235Z"
   },
   {
    "duration": 19610,
    "start_time": "2022-01-04T16:01:17.278Z"
   },
   {
    "duration": 173,
    "start_time": "2022-01-04T16:01:36.890Z"
   },
   {
    "duration": 100,
    "start_time": "2022-01-04T16:01:37.065Z"
   },
   {
    "duration": 110217,
    "start_time": "2022-01-04T16:01:37.167Z"
   },
   {
    "duration": 6,
    "start_time": "2022-01-04T16:03:27.386Z"
   },
   {
    "duration": 31,
    "start_time": "2022-01-04T16:03:27.393Z"
   },
   {
    "duration": 103,
    "start_time": "2022-01-04T16:03:27.426Z"
   },
   {
    "duration": -3519,
    "start_time": "2022-01-04T16:03:31.050Z"
   },
   {
    "duration": -3521,
    "start_time": "2022-01-04T16:03:31.053Z"
   },
   {
    "duration": -3528,
    "start_time": "2022-01-04T16:03:31.061Z"
   },
   {
    "duration": -3530,
    "start_time": "2022-01-04T16:03:31.064Z"
   },
   {
    "duration": -3533,
    "start_time": "2022-01-04T16:03:31.068Z"
   },
   {
    "duration": -3534,
    "start_time": "2022-01-04T16:03:31.070Z"
   },
   {
    "duration": -3541,
    "start_time": "2022-01-04T16:03:31.078Z"
   },
   {
    "duration": -3542,
    "start_time": "2022-01-04T16:03:31.081Z"
   },
   {
    "duration": -3545,
    "start_time": "2022-01-04T16:03:31.085Z"
   },
   {
    "duration": -3547,
    "start_time": "2022-01-04T16:03:31.088Z"
   },
   {
    "duration": -3549,
    "start_time": "2022-01-04T16:03:31.091Z"
   },
   {
    "duration": 6,
    "start_time": "2022-01-04T17:07:17.990Z"
   },
   {
    "duration": 8,
    "start_time": "2022-01-04T17:07:21.250Z"
   },
   {
    "duration": 13,
    "start_time": "2022-01-04T17:07:25.060Z"
   },
   {
    "duration": 6,
    "start_time": "2022-01-04T17:07:26.687Z"
   },
   {
    "duration": 5,
    "start_time": "2022-01-04T17:11:49.688Z"
   },
   {
    "duration": 8,
    "start_time": "2022-01-04T17:11:53.880Z"
   },
   {
    "duration": 7,
    "start_time": "2022-01-04T17:13:08.007Z"
   },
   {
    "duration": 4,
    "start_time": "2022-01-04T17:13:19.283Z"
   },
   {
    "duration": 4,
    "start_time": "2022-01-04T17:13:19.289Z"
   },
   {
    "duration": 5,
    "start_time": "2022-01-04T17:13:19.295Z"
   },
   {
    "duration": 3,
    "start_time": "2022-01-04T17:13:19.302Z"
   },
   {
    "duration": 36,
    "start_time": "2022-01-04T17:13:19.306Z"
   },
   {
    "duration": 7,
    "start_time": "2022-01-04T17:13:19.343Z"
   },
   {
    "duration": 14,
    "start_time": "2022-01-04T17:13:19.352Z"
   },
   {
    "duration": 5,
    "start_time": "2022-01-04T17:13:19.368Z"
   },
   {
    "duration": 10,
    "start_time": "2022-01-04T17:13:19.375Z"
   },
   {
    "duration": 4,
    "start_time": "2022-01-04T17:13:19.387Z"
   },
   {
    "duration": 17,
    "start_time": "2022-01-04T17:13:19.392Z"
   },
   {
    "duration": 6,
    "start_time": "2022-01-04T17:13:19.411Z"
   },
   {
    "duration": 6,
    "start_time": "2022-01-04T17:13:19.419Z"
   },
   {
    "duration": 35,
    "start_time": "2022-01-04T17:13:19.426Z"
   },
   {
    "duration": 7,
    "start_time": "2022-01-04T17:13:19.463Z"
   },
   {
    "duration": 6,
    "start_time": "2022-01-04T17:13:19.472Z"
   },
   {
    "duration": 3,
    "start_time": "2022-01-04T17:13:19.480Z"
   },
   {
    "duration": 6,
    "start_time": "2022-01-04T17:13:19.485Z"
   },
   {
    "duration": 10,
    "start_time": "2022-01-04T17:13:19.495Z"
   },
   {
    "duration": 14,
    "start_time": "2022-01-04T17:13:19.507Z"
   },
   {
    "duration": 46,
    "start_time": "2022-01-04T17:13:19.522Z"
   },
   {
    "duration": 7,
    "start_time": "2022-01-04T17:13:19.570Z"
   },
   {
    "duration": 14,
    "start_time": "2022-01-04T17:13:19.578Z"
   },
   {
    "duration": 7,
    "start_time": "2022-01-04T17:13:19.594Z"
   },
   {
    "duration": 7,
    "start_time": "2022-01-04T17:13:19.603Z"
   },
   {
    "duration": 19355,
    "start_time": "2022-01-04T17:13:19.612Z"
   },
   {
    "duration": 100,
    "start_time": "2022-01-04T17:13:38.969Z"
   },
   {
    "duration": 100,
    "start_time": "2022-01-04T17:13:39.071Z"
   },
   {
    "duration": 114621,
    "start_time": "2022-01-04T17:13:39.173Z"
   },
   {
    "duration": 6,
    "start_time": "2022-01-04T17:15:33.795Z"
   },
   {
    "duration": 32,
    "start_time": "2022-01-04T17:15:33.802Z"
   },
   {
    "duration": 19726,
    "start_time": "2022-01-04T17:15:33.835Z"
   },
   {
    "duration": 98,
    "start_time": "2022-01-04T17:15:53.564Z"
   },
   {
    "duration": 99,
    "start_time": "2022-01-04T17:15:53.665Z"
   },
   {
    "duration": 111387,
    "start_time": "2022-01-04T17:15:53.766Z"
   },
   {
    "duration": 6,
    "start_time": "2022-01-04T17:17:45.160Z"
   },
   {
    "duration": 35,
    "start_time": "2022-01-04T17:17:45.167Z"
   },
   {
    "duration": 5,
    "start_time": "2022-01-04T17:17:45.204Z"
   },
   {
    "duration": 8,
    "start_time": "2022-01-04T17:17:45.211Z"
   },
   {
    "duration": 13,
    "start_time": "2022-01-04T17:17:45.220Z"
   },
   {
    "duration": 28,
    "start_time": "2022-01-04T17:17:45.235Z"
   },
   {
    "duration": 10,
    "start_time": "2022-01-04T17:17:45.265Z"
   },
   {
    "duration": 12,
    "start_time": "2022-01-04T17:17:45.276Z"
   },
   {
    "duration": 7,
    "start_time": "2022-01-04T17:17:45.290Z"
   },
   {
    "duration": 19374,
    "start_time": "2022-01-04T17:17:45.299Z"
   },
   {
    "duration": 93,
    "start_time": "2022-01-04T17:18:04.675Z"
   },
   {
    "duration": 164,
    "start_time": "2022-01-04T17:18:04.770Z"
   },
   {
    "duration": 4000,
    "start_time": "2022-01-04T17:18:04.935Z"
   },
   {
    "duration": 257,
    "start_time": "2022-01-04T17:18:08.937Z"
   },
   {
    "duration": -3560,
    "start_time": "2022-01-04T17:18:12.755Z"
   },
   {
    "duration": 246,
    "start_time": "2022-01-04T17:18:41.031Z"
   },
   {
    "duration": 268,
    "start_time": "2022-01-04T17:19:04.668Z"
   },
   {
    "duration": 71,
    "start_time": "2022-01-04T17:19:07.992Z"
   },
   {
    "duration": 10,
    "start_time": "2022-01-04T17:19:11.116Z"
   },
   {
    "duration": 24,
    "start_time": "2022-01-04T17:21:18.840Z"
   },
   {
    "duration": 307,
    "start_time": "2022-01-04T17:21:19.581Z"
   },
   {
    "duration": 338,
    "start_time": "2022-01-04T17:21:28.408Z"
   },
   {
    "duration": 4,
    "start_time": "2022-01-04T17:21:59.741Z"
   },
   {
    "duration": 27,
    "start_time": "2022-01-04T17:21:59.747Z"
   },
   {
    "duration": 16,
    "start_time": "2022-01-04T17:21:59.777Z"
   },
   {
    "duration": 8,
    "start_time": "2022-01-04T17:21:59.795Z"
   },
   {
    "duration": 43,
    "start_time": "2022-01-04T17:21:59.805Z"
   },
   {
    "duration": 8,
    "start_time": "2022-01-04T17:21:59.850Z"
   },
   {
    "duration": 16,
    "start_time": "2022-01-04T17:21:59.861Z"
   },
   {
    "duration": 10,
    "start_time": "2022-01-04T17:21:59.880Z"
   },
   {
    "duration": 19,
    "start_time": "2022-01-04T17:21:59.892Z"
   },
   {
    "duration": 8,
    "start_time": "2022-01-04T17:21:59.913Z"
   },
   {
    "duration": 21,
    "start_time": "2022-01-04T17:21:59.923Z"
   },
   {
    "duration": 15,
    "start_time": "2022-01-04T17:21:59.946Z"
   },
   {
    "duration": 12,
    "start_time": "2022-01-04T17:21:59.963Z"
   },
   {
    "duration": 5,
    "start_time": "2022-01-04T17:21:59.977Z"
   },
   {
    "duration": 15,
    "start_time": "2022-01-04T17:21:59.984Z"
   },
   {
    "duration": 30,
    "start_time": "2022-01-04T17:22:00.001Z"
   },
   {
    "duration": 4,
    "start_time": "2022-01-04T17:22:00.033Z"
   },
   {
    "duration": 27,
    "start_time": "2022-01-04T17:22:00.038Z"
   },
   {
    "duration": 23,
    "start_time": "2022-01-04T17:22:00.069Z"
   },
   {
    "duration": 18,
    "start_time": "2022-01-04T17:22:00.095Z"
   },
   {
    "duration": 7,
    "start_time": "2022-01-04T17:22:00.114Z"
   },
   {
    "duration": 19,
    "start_time": "2022-01-04T17:22:00.122Z"
   },
   {
    "duration": 19,
    "start_time": "2022-01-04T17:22:00.143Z"
   },
   {
    "duration": 21,
    "start_time": "2022-01-04T17:22:00.163Z"
   },
   {
    "duration": 16,
    "start_time": "2022-01-04T17:22:00.186Z"
   },
   {
    "duration": 18976,
    "start_time": "2022-01-04T17:22:00.203Z"
   },
   {
    "duration": 177,
    "start_time": "2022-01-04T17:22:19.183Z"
   },
   {
    "duration": 8,
    "start_time": "2022-01-04T17:22:19.363Z"
   },
   {
    "duration": 114314,
    "start_time": "2022-01-04T17:22:19.373Z"
   },
   {
    "duration": 6,
    "start_time": "2022-01-04T17:24:13.688Z"
   },
   {
    "duration": 33,
    "start_time": "2022-01-04T17:24:13.696Z"
   },
   {
    "duration": 19731,
    "start_time": "2022-01-04T17:24:13.730Z"
   },
   {
    "duration": 98,
    "start_time": "2022-01-04T17:24:33.464Z"
   },
   {
    "duration": 101,
    "start_time": "2022-01-04T17:24:33.566Z"
   },
   {
    "duration": 109349,
    "start_time": "2022-01-04T17:24:33.669Z"
   },
   {
    "duration": 6,
    "start_time": "2022-01-04T17:26:23.020Z"
   },
   {
    "duration": 56,
    "start_time": "2022-01-04T17:26:23.028Z"
   },
   {
    "duration": 6,
    "start_time": "2022-01-04T17:26:23.086Z"
   },
   {
    "duration": 35,
    "start_time": "2022-01-04T17:26:23.094Z"
   },
   {
    "duration": 30,
    "start_time": "2022-01-04T17:26:23.130Z"
   },
   {
    "duration": 23,
    "start_time": "2022-01-04T17:26:23.162Z"
   },
   {
    "duration": 36,
    "start_time": "2022-01-04T17:26:23.186Z"
   },
   {
    "duration": 20,
    "start_time": "2022-01-04T17:26:23.223Z"
   },
   {
    "duration": 22,
    "start_time": "2022-01-04T17:26:23.245Z"
   },
   {
    "duration": 367,
    "start_time": "2022-01-04T17:26:23.269Z"
   },
   {
    "duration": -3563,
    "start_time": "2022-01-04T17:26:27.201Z"
   },
   {
    "duration": -3566,
    "start_time": "2022-01-04T17:26:27.205Z"
   },
   {
    "duration": -3568,
    "start_time": "2022-01-04T17:26:27.208Z"
   },
   {
    "duration": -3571,
    "start_time": "2022-01-04T17:26:27.211Z"
   },
   {
    "duration": -3574,
    "start_time": "2022-01-04T17:26:27.215Z"
   },
   {
    "duration": -3576,
    "start_time": "2022-01-04T17:26:27.218Z"
   },
   {
    "duration": 19698,
    "start_time": "2022-01-04T17:27:55.867Z"
   },
   {
    "duration": 80,
    "start_time": "2022-01-04T17:28:20.882Z"
   },
   {
    "duration": 6,
    "start_time": "2022-01-04T17:28:21.923Z"
   },
   {
    "duration": 168908,
    "start_time": "2022-01-04T17:42:00.819Z"
   },
   {
    "duration": 7,
    "start_time": "2022-01-04T17:45:30.396Z"
   },
   {
    "duration": 44,
    "start_time": "2022-01-04T17:45:33.156Z"
   },
   {
    "duration": 2,
    "start_time": "2022-01-04T18:16:18.606Z"
   },
   {
    "duration": 1135,
    "start_time": "2022-01-05T09:42:42.799Z"
   },
   {
    "duration": 2,
    "start_time": "2022-01-05T09:42:43.936Z"
   },
   {
    "duration": 12,
    "start_time": "2022-01-05T09:42:43.940Z"
   },
   {
    "duration": 7,
    "start_time": "2022-01-05T09:42:43.954Z"
   },
   {
    "duration": 40,
    "start_time": "2022-01-05T09:42:43.962Z"
   },
   {
    "duration": 8,
    "start_time": "2022-01-05T09:42:44.003Z"
   },
   {
    "duration": 12,
    "start_time": "2022-01-05T09:42:44.012Z"
   },
   {
    "duration": 6,
    "start_time": "2022-01-05T09:42:44.026Z"
   },
   {
    "duration": 27,
    "start_time": "2022-01-05T09:42:44.034Z"
   },
   {
    "duration": 4,
    "start_time": "2022-01-05T09:42:44.063Z"
   },
   {
    "duration": 11,
    "start_time": "2022-01-05T09:42:44.069Z"
   },
   {
    "duration": 7,
    "start_time": "2022-01-05T09:42:44.082Z"
   },
   {
    "duration": 7,
    "start_time": "2022-01-05T09:42:44.090Z"
   },
   {
    "duration": 7,
    "start_time": "2022-01-05T09:42:44.098Z"
   },
   {
    "duration": 7,
    "start_time": "2022-01-05T09:42:44.106Z"
   },
   {
    "duration": 7,
    "start_time": "2022-01-05T09:42:44.115Z"
   },
   {
    "duration": 39,
    "start_time": "2022-01-05T09:42:44.123Z"
   },
   {
    "duration": 9,
    "start_time": "2022-01-05T09:42:44.163Z"
   },
   {
    "duration": 9,
    "start_time": "2022-01-05T09:42:44.174Z"
   },
   {
    "duration": 14,
    "start_time": "2022-01-05T09:42:44.185Z"
   },
   {
    "duration": 6,
    "start_time": "2022-01-05T09:42:44.201Z"
   },
   {
    "duration": 5,
    "start_time": "2022-01-05T09:42:44.208Z"
   },
   {
    "duration": 5,
    "start_time": "2022-01-05T09:42:44.216Z"
   },
   {
    "duration": 41,
    "start_time": "2022-01-05T09:42:44.223Z"
   },
   {
    "duration": 6,
    "start_time": "2022-01-05T09:42:44.266Z"
   },
   {
    "duration": 18899,
    "start_time": "2022-01-05T09:42:44.273Z"
   },
   {
    "duration": 95,
    "start_time": "2022-01-05T09:43:03.175Z"
   },
   {
    "duration": 100,
    "start_time": "2022-01-05T09:43:03.274Z"
   },
   {
    "duration": 112173,
    "start_time": "2022-01-05T09:43:03.461Z"
   },
   {
    "duration": 5,
    "start_time": "2022-01-05T09:44:55.636Z"
   },
   {
    "duration": 42,
    "start_time": "2022-01-05T09:44:55.643Z"
   },
   {
    "duration": 19675,
    "start_time": "2022-01-05T09:44:55.686Z"
   },
   {
    "duration": 98,
    "start_time": "2022-01-05T09:45:15.364Z"
   },
   {
    "duration": 106,
    "start_time": "2022-01-05T09:45:15.465Z"
   },
   {
    "duration": 109135,
    "start_time": "2022-01-05T09:45:15.573Z"
   },
   {
    "duration": 6,
    "start_time": "2022-01-05T09:47:04.710Z"
   },
   {
    "duration": 45,
    "start_time": "2022-01-05T09:47:04.717Z"
   },
   {
    "duration": 6,
    "start_time": "2022-01-05T09:47:04.763Z"
   },
   {
    "duration": 7,
    "start_time": "2022-01-05T09:47:04.771Z"
   },
   {
    "duration": 13,
    "start_time": "2022-01-05T09:47:04.780Z"
   },
   {
    "duration": 5,
    "start_time": "2022-01-05T09:47:04.795Z"
   },
   {
    "duration": 5,
    "start_time": "2022-01-05T09:47:04.802Z"
   },
   {
    "duration": 16,
    "start_time": "2022-01-05T09:47:04.809Z"
   },
   {
    "duration": 40,
    "start_time": "2022-01-05T09:47:04.827Z"
   },
   {
    "duration": 19596,
    "start_time": "2022-01-05T09:47:04.869Z"
   },
   {
    "duration": 99,
    "start_time": "2022-01-05T09:47:24.467Z"
   },
   {
    "duration": 93,
    "start_time": "2022-01-05T09:47:24.569Z"
   },
   {
    "duration": 171841,
    "start_time": "2022-01-05T09:47:24.664Z"
   },
   {
    "duration": 6,
    "start_time": "2022-01-05T09:50:16.507Z"
   },
   {
    "duration": 61,
    "start_time": "2022-01-05T09:50:16.514Z"
   },
   {
    "duration": 4072,
    "start_time": "2022-01-05T09:50:16.577Z"
   },
   {
    "duration": 144,
    "start_time": "2022-01-05T09:50:22.066Z"
   },
   {
    "duration": 65,
    "start_time": "2022-01-05T09:50:34.578Z"
   },
   {
    "duration": 64,
    "start_time": "2022-01-05T09:51:21.436Z"
   },
   {
    "duration": 68,
    "start_time": "2022-01-05T09:54:49.874Z"
   },
   {
    "duration": 146,
    "start_time": "2022-01-05T09:54:57.977Z"
   },
   {
    "duration": 80,
    "start_time": "2022-01-05T09:55:27.126Z"
   },
   {
    "duration": 80,
    "start_time": "2022-01-05T09:55:35.717Z"
   },
   {
    "duration": 83,
    "start_time": "2022-01-05T09:55:45.959Z"
   },
   {
    "duration": 6,
    "start_time": "2022-01-05T09:55:50.931Z"
   },
   {
    "duration": 82,
    "start_time": "2022-01-05T09:55:51.361Z"
   },
   {
    "duration": 88,
    "start_time": "2022-01-05T09:59:03.285Z"
   },
   {
    "duration": 84,
    "start_time": "2022-01-05T09:59:22.247Z"
   },
   {
    "duration": 681,
    "start_time": "2022-01-05T10:00:28.162Z"
   },
   {
    "duration": 83,
    "start_time": "2022-01-05T10:00:35.252Z"
   },
   {
    "duration": 82,
    "start_time": "2022-01-05T10:00:51.100Z"
   },
   {
    "duration": 100,
    "start_time": "2022-01-05T10:01:03.076Z"
   },
   {
    "duration": 107,
    "start_time": "2022-01-05T10:04:03.384Z"
   },
   {
    "duration": 96,
    "start_time": "2022-01-05T10:04:10.122Z"
   },
   {
    "duration": 99,
    "start_time": "2022-01-05T10:04:13.347Z"
   },
   {
    "duration": 4,
    "start_time": "2022-01-05T10:07:11.724Z"
   },
   {
    "duration": 7,
    "start_time": "2022-01-05T10:11:57.953Z"
   },
   {
    "duration": 7,
    "start_time": "2022-01-05T10:12:15.954Z"
   },
   {
    "duration": 3,
    "start_time": "2022-01-05T10:12:30.876Z"
   },
   {
    "duration": 6,
    "start_time": "2022-01-05T10:12:33.688Z"
   },
   {
    "duration": 16,
    "start_time": "2022-01-05T10:12:52.609Z"
   },
   {
    "duration": 6,
    "start_time": "2022-01-05T10:14:02.449Z"
   },
   {
    "duration": 6,
    "start_time": "2022-01-05T10:14:07.708Z"
   },
   {
    "duration": 8,
    "start_time": "2022-01-05T10:14:08.321Z"
   },
   {
    "duration": 4,
    "start_time": "2022-01-05T10:14:08.943Z"
   },
   {
    "duration": 7,
    "start_time": "2022-01-05T10:17:01.262Z"
   },
   {
    "duration": 5,
    "start_time": "2022-01-05T10:17:01.694Z"
   },
   {
    "duration": 9,
    "start_time": "2022-01-05T10:17:07.022Z"
   },
   {
    "duration": 6,
    "start_time": "2022-01-05T10:17:20.978Z"
   },
   {
    "duration": 7,
    "start_time": "2022-01-05T10:17:46.611Z"
   },
   {
    "duration": 4,
    "start_time": "2022-01-05T10:17:47.425Z"
   },
   {
    "duration": 7,
    "start_time": "2022-01-05T10:19:28.144Z"
   },
   {
    "duration": 7,
    "start_time": "2022-01-05T10:20:08.235Z"
   },
   {
    "duration": 7,
    "start_time": "2022-01-05T10:21:36.369Z"
   },
   {
    "duration": 9,
    "start_time": "2022-01-05T10:26:16.473Z"
   },
   {
    "duration": 18,
    "start_time": "2022-01-05T10:26:22.724Z"
   },
   {
    "duration": 12,
    "start_time": "2022-01-05T10:27:04.669Z"
   },
   {
    "duration": 22,
    "start_time": "2022-01-05T10:27:09.372Z"
   },
   {
    "duration": 8,
    "start_time": "2022-01-05T10:27:56.356Z"
   },
   {
    "duration": 10,
    "start_time": "2022-01-05T10:27:57.005Z"
   },
   {
    "duration": 6,
    "start_time": "2022-01-05T10:27:57.781Z"
   },
   {
    "duration": 21,
    "start_time": "2022-01-05T10:27:59.843Z"
   },
   {
    "duration": 10,
    "start_time": "2022-01-05T10:29:20.930Z"
   },
   {
    "duration": 6,
    "start_time": "2022-01-05T10:29:29.336Z"
   },
   {
    "duration": 7,
    "start_time": "2022-01-05T10:37:16.621Z"
   },
   {
    "duration": 6,
    "start_time": "2022-01-05T10:38:23.400Z"
   },
   {
    "duration": 7,
    "start_time": "2022-01-05T10:38:24.101Z"
   },
   {
    "duration": 913,
    "start_time": "2022-01-05T10:42:02.827Z"
   },
   {
    "duration": 8,
    "start_time": "2022-01-05T10:42:08.426Z"
   },
   {
    "duration": 6,
    "start_time": "2022-01-05T10:42:09.468Z"
   },
   {
    "duration": 57629,
    "start_time": "2022-01-05T11:00:39.021Z"
   },
   {
    "duration": 6,
    "start_time": "2022-01-05T11:04:51.978Z"
   },
   {
    "duration": 20,
    "start_time": "2022-01-05T11:04:52.696Z"
   },
   {
    "duration": 7,
    "start_time": "2022-01-05T11:11:40.687Z"
   },
   {
    "duration": 5,
    "start_time": "2022-01-05T11:11:47.416Z"
   },
   {
    "duration": 380,
    "start_time": "2022-01-05T11:14:03.593Z"
   },
   {
    "duration": 1998,
    "start_time": "2022-01-05T11:16:57.130Z"
   },
   {
    "duration": 1717,
    "start_time": "2022-01-05T11:17:13.933Z"
   },
   {
    "duration": 4,
    "start_time": "2022-01-05T11:18:57.832Z"
   },
   {
    "duration": 1763,
    "start_time": "2022-01-05T11:21:19.250Z"
   },
   {
    "duration": 4,
    "start_time": "2022-01-05T11:21:34.318Z"
   },
   {
    "duration": 4,
    "start_time": "2022-01-05T11:28:26.766Z"
   },
   {
    "duration": 6,
    "start_time": "2022-01-05T11:28:26.772Z"
   },
   {
    "duration": 6,
    "start_time": "2022-01-05T11:28:26.780Z"
   },
   {
    "duration": 9,
    "start_time": "2022-01-05T11:28:26.788Z"
   },
   {
    "duration": 49,
    "start_time": "2022-01-05T11:28:26.799Z"
   },
   {
    "duration": 16,
    "start_time": "2022-01-05T11:28:26.850Z"
   },
   {
    "duration": 13,
    "start_time": "2022-01-05T11:28:26.869Z"
   },
   {
    "duration": 8,
    "start_time": "2022-01-05T11:28:26.884Z"
   },
   {
    "duration": 11,
    "start_time": "2022-01-05T11:28:26.894Z"
   },
   {
    "duration": 6,
    "start_time": "2022-01-05T11:28:26.907Z"
   },
   {
    "duration": 61,
    "start_time": "2022-01-05T11:28:26.914Z"
   },
   {
    "duration": 8,
    "start_time": "2022-01-05T11:28:26.977Z"
   },
   {
    "duration": 7,
    "start_time": "2022-01-05T11:28:26.986Z"
   },
   {
    "duration": 7,
    "start_time": "2022-01-05T11:28:26.995Z"
   },
   {
    "duration": 10,
    "start_time": "2022-01-05T11:28:27.004Z"
   },
   {
    "duration": 46,
    "start_time": "2022-01-05T11:28:27.016Z"
   },
   {
    "duration": 3,
    "start_time": "2022-01-05T11:28:27.064Z"
   },
   {
    "duration": 8,
    "start_time": "2022-01-05T11:28:27.069Z"
   },
   {
    "duration": 10,
    "start_time": "2022-01-05T11:28:27.081Z"
   },
   {
    "duration": 15,
    "start_time": "2022-01-05T11:28:27.093Z"
   },
   {
    "duration": 6,
    "start_time": "2022-01-05T11:28:27.110Z"
   },
   {
    "duration": 44,
    "start_time": "2022-01-05T11:28:27.118Z"
   },
   {
    "duration": 7,
    "start_time": "2022-01-05T11:28:27.163Z"
   },
   {
    "duration": 6,
    "start_time": "2022-01-05T11:28:27.172Z"
   },
   {
    "duration": 6,
    "start_time": "2022-01-05T11:28:27.179Z"
   },
   {
    "duration": 18287,
    "start_time": "2022-01-05T11:28:27.187Z"
   },
   {
    "duration": 184,
    "start_time": "2022-01-05T11:28:45.477Z"
   },
   {
    "duration": 101,
    "start_time": "2022-01-05T11:28:45.664Z"
   },
   {
    "duration": 113739,
    "start_time": "2022-01-05T11:28:45.767Z"
   },
   {
    "duration": 6,
    "start_time": "2022-01-05T11:30:39.507Z"
   },
   {
    "duration": 46,
    "start_time": "2022-01-05T11:30:39.514Z"
   },
   {
    "duration": 19703,
    "start_time": "2022-01-05T11:30:39.562Z"
   },
   {
    "duration": 100,
    "start_time": "2022-01-05T11:30:59.268Z"
   },
   {
    "duration": 10,
    "start_time": "2022-01-05T11:30:59.461Z"
   },
   {
    "duration": 108802,
    "start_time": "2022-01-05T11:30:59.474Z"
   },
   {
    "duration": 5,
    "start_time": "2022-01-05T11:32:48.278Z"
   },
   {
    "duration": 34,
    "start_time": "2022-01-05T11:32:48.285Z"
   },
   {
    "duration": 7,
    "start_time": "2022-01-05T11:32:48.321Z"
   },
   {
    "duration": 131,
    "start_time": "2022-01-05T11:32:48.329Z"
   },
   {
    "duration": 7,
    "start_time": "2022-01-05T11:32:48.462Z"
   },
   {
    "duration": 13,
    "start_time": "2022-01-05T11:32:48.471Z"
   },
   {
    "duration": 5,
    "start_time": "2022-01-05T11:32:48.485Z"
   },
   {
    "duration": 6,
    "start_time": "2022-01-05T11:32:48.492Z"
   },
   {
    "duration": 9,
    "start_time": "2022-01-05T11:32:48.500Z"
   },
   {
    "duration": 7,
    "start_time": "2022-01-05T11:32:48.510Z"
   },
   {
    "duration": 19744,
    "start_time": "2022-01-05T11:32:48.518Z"
   },
   {
    "duration": 99,
    "start_time": "2022-01-05T11:33:08.264Z"
   },
   {
    "duration": 101,
    "start_time": "2022-01-05T11:33:08.365Z"
   },
   {
    "duration": 177841,
    "start_time": "2022-01-05T11:33:08.468Z"
   },
   {
    "duration": 6,
    "start_time": "2022-01-05T11:36:06.311Z"
   },
   {
    "duration": 62,
    "start_time": "2022-01-05T11:36:06.318Z"
   },
   {
    "duration": 6,
    "start_time": "2022-01-05T11:36:06.382Z"
   },
   {
    "duration": 13,
    "start_time": "2022-01-05T11:36:06.389Z"
   },
   {
    "duration": 5,
    "start_time": "2022-01-05T11:36:06.403Z"
   },
   {
    "duration": 5,
    "start_time": "2022-01-05T11:36:06.412Z"
   },
   {
    "duration": 8,
    "start_time": "2022-01-05T11:36:06.419Z"
   },
   {
    "duration": 35,
    "start_time": "2022-01-05T11:36:06.428Z"
   },
   {
    "duration": 7,
    "start_time": "2022-01-05T11:36:06.465Z"
   },
   {
    "duration": 6,
    "start_time": "2022-01-05T11:36:06.474Z"
   },
   {
    "duration": 954,
    "start_time": "2022-01-05T11:36:06.482Z"
   },
   {
    "duration": 8,
    "start_time": "2022-01-05T11:36:07.438Z"
   },
   {
    "duration": 17,
    "start_time": "2022-01-05T11:36:07.447Z"
   },
   {
    "duration": 57562,
    "start_time": "2022-01-05T11:36:07.466Z"
   },
   {
    "duration": 5,
    "start_time": "2022-01-05T11:37:05.029Z"
   },
   {
    "duration": 35,
    "start_time": "2022-01-05T11:37:05.036Z"
   },
   {
    "duration": 3994,
    "start_time": "2022-01-05T11:37:05.073Z"
   },
   {
    "duration": 2544,
    "start_time": "2022-01-05T13:43:16.813Z"
   },
   {
    "duration": 5,
    "start_time": "2022-01-05T13:44:04.621Z"
   },
   {
    "duration": 4,
    "start_time": "2022-01-05T14:00:12.120Z"
   },
   {
    "duration": 14,
    "start_time": "2022-01-05T14:00:12.127Z"
   },
   {
    "duration": 35,
    "start_time": "2022-01-05T14:00:12.143Z"
   },
   {
    "duration": 27,
    "start_time": "2022-01-05T14:00:12.180Z"
   },
   {
    "duration": 73,
    "start_time": "2022-01-05T14:00:12.210Z"
   },
   {
    "duration": 12,
    "start_time": "2022-01-05T14:00:12.285Z"
   },
   {
    "duration": 36,
    "start_time": "2022-01-05T14:00:12.301Z"
   },
   {
    "duration": 14,
    "start_time": "2022-01-05T14:00:12.340Z"
   },
   {
    "duration": 37,
    "start_time": "2022-01-05T14:00:12.356Z"
   },
   {
    "duration": 22,
    "start_time": "2022-01-05T14:00:12.395Z"
   },
   {
    "duration": 57,
    "start_time": "2022-01-05T14:00:12.419Z"
   },
   {
    "duration": 40,
    "start_time": "2022-01-05T14:00:12.477Z"
   },
   {
    "duration": 30,
    "start_time": "2022-01-05T14:00:12.519Z"
   },
   {
    "duration": 39,
    "start_time": "2022-01-05T14:00:12.551Z"
   },
   {
    "duration": 24,
    "start_time": "2022-01-05T14:00:12.592Z"
   },
   {
    "duration": 50,
    "start_time": "2022-01-05T14:00:12.618Z"
   },
   {
    "duration": 41,
    "start_time": "2022-01-05T14:00:12.670Z"
   },
   {
    "duration": 41,
    "start_time": "2022-01-05T14:00:12.713Z"
   },
   {
    "duration": 33,
    "start_time": "2022-01-05T14:00:12.757Z"
   },
   {
    "duration": 26,
    "start_time": "2022-01-05T14:00:12.792Z"
   },
   {
    "duration": 12,
    "start_time": "2022-01-05T14:00:12.820Z"
   },
   {
    "duration": 38,
    "start_time": "2022-01-05T14:00:12.834Z"
   },
   {
    "duration": 36,
    "start_time": "2022-01-05T14:00:12.873Z"
   },
   {
    "duration": 41,
    "start_time": "2022-01-05T14:00:12.911Z"
   },
   {
    "duration": 22,
    "start_time": "2022-01-05T14:00:12.954Z"
   },
   {
    "duration": 19590,
    "start_time": "2022-01-05T14:00:12.978Z"
   },
   {
    "duration": 97,
    "start_time": "2022-01-05T14:00:32.570Z"
   },
   {
    "duration": 194,
    "start_time": "2022-01-05T14:00:32.669Z"
   },
   {
    "duration": 114376,
    "start_time": "2022-01-05T14:00:32.865Z"
   },
   {
    "duration": 5,
    "start_time": "2022-01-05T14:02:27.243Z"
   },
   {
    "duration": 30,
    "start_time": "2022-01-05T14:02:27.260Z"
   },
   {
    "duration": 19669,
    "start_time": "2022-01-05T14:02:27.292Z"
   },
   {
    "duration": 98,
    "start_time": "2022-01-05T14:02:46.964Z"
   },
   {
    "duration": 97,
    "start_time": "2022-01-05T14:02:47.064Z"
   },
   {
    "duration": 109955,
    "start_time": "2022-01-05T14:02:47.163Z"
   },
   {
    "duration": 7,
    "start_time": "2022-01-05T14:04:37.121Z"
   },
   {
    "duration": 52,
    "start_time": "2022-01-05T14:04:37.130Z"
   },
   {
    "duration": 7,
    "start_time": "2022-01-05T14:04:37.184Z"
   },
   {
    "duration": 112,
    "start_time": "2022-01-05T14:04:37.193Z"
   },
   {
    "duration": 9,
    "start_time": "2022-01-05T14:04:37.307Z"
   },
   {
    "duration": 13,
    "start_time": "2022-01-05T14:04:37.317Z"
   },
   {
    "duration": 6,
    "start_time": "2022-01-05T14:04:37.332Z"
   },
   {
    "duration": 6,
    "start_time": "2022-01-05T14:04:37.361Z"
   },
   {
    "duration": 8,
    "start_time": "2022-01-05T14:04:37.368Z"
   },
   {
    "duration": 7,
    "start_time": "2022-01-05T14:04:37.377Z"
   },
   {
    "duration": 19675,
    "start_time": "2022-01-05T14:04:37.386Z"
   },
   {
    "duration": 102,
    "start_time": "2022-01-05T14:04:57.064Z"
   },
   {
    "duration": 96,
    "start_time": "2022-01-05T14:04:57.169Z"
   },
   {
    "duration": 171153,
    "start_time": "2022-01-05T14:04:57.267Z"
   },
   {
    "duration": 7,
    "start_time": "2022-01-05T14:07:48.422Z"
   },
   {
    "duration": 58,
    "start_time": "2022-01-05T14:07:48.431Z"
   },
   {
    "duration": 6,
    "start_time": "2022-01-05T14:07:48.491Z"
   },
   {
    "duration": 8,
    "start_time": "2022-01-05T14:07:48.498Z"
   },
   {
    "duration": 4,
    "start_time": "2022-01-05T14:07:48.507Z"
   },
   {
    "duration": 5,
    "start_time": "2022-01-05T14:07:48.516Z"
   },
   {
    "duration": 38,
    "start_time": "2022-01-05T14:07:48.523Z"
   },
   {
    "duration": 5,
    "start_time": "2022-01-05T14:07:48.562Z"
   },
   {
    "duration": 8,
    "start_time": "2022-01-05T14:07:48.568Z"
   },
   {
    "duration": 6,
    "start_time": "2022-01-05T14:07:48.578Z"
   },
   {
    "duration": 947,
    "start_time": "2022-01-05T14:07:48.586Z"
   },
   {
    "duration": 5,
    "start_time": "2022-01-05T14:07:49.535Z"
   },
   {
    "duration": 19,
    "start_time": "2022-01-05T14:07:49.542Z"
   },
   {
    "duration": 57668,
    "start_time": "2022-01-05T14:07:49.563Z"
   },
   {
    "duration": 5,
    "start_time": "2022-01-05T14:08:47.232Z"
   },
   {
    "duration": 23,
    "start_time": "2022-01-05T14:08:47.238Z"
   },
   {
    "duration": 399,
    "start_time": "2022-01-05T14:08:47.263Z"
   },
   {
    "duration": -703,
    "start_time": "2022-01-05T14:08:48.367Z"
   },
   {
    "duration": 6,
    "start_time": "2022-01-05T14:20:08.966Z"
   },
   {
    "duration": 20,
    "start_time": "2022-01-05T14:20:09.879Z"
   },
   {
    "duration": 104,
    "start_time": "2022-01-05T14:21:50.493Z"
   },
   {
    "duration": 6,
    "start_time": "2022-01-05T14:21:51.743Z"
   },
   {
    "duration": 12,
    "start_time": "2022-01-05T14:21:52.420Z"
   },
   {
    "duration": 4,
    "start_time": "2022-01-05T14:37:48.390Z"
   },
   {
    "duration": 4,
    "start_time": "2022-01-05T14:37:48.397Z"
   },
   {
    "duration": 7,
    "start_time": "2022-01-05T14:37:48.402Z"
   },
   {
    "duration": 4,
    "start_time": "2022-01-05T14:37:48.411Z"
   },
   {
    "duration": 35,
    "start_time": "2022-01-05T14:37:48.417Z"
   },
   {
    "duration": 7,
    "start_time": "2022-01-05T14:37:48.454Z"
   },
   {
    "duration": 13,
    "start_time": "2022-01-05T14:37:48.463Z"
   },
   {
    "duration": 6,
    "start_time": "2022-01-05T14:37:48.477Z"
   },
   {
    "duration": 8,
    "start_time": "2022-01-05T14:37:48.486Z"
   },
   {
    "duration": 4,
    "start_time": "2022-01-05T14:37:48.496Z"
   },
   {
    "duration": 14,
    "start_time": "2022-01-05T14:37:48.502Z"
   },
   {
    "duration": 5,
    "start_time": "2022-01-05T14:37:48.518Z"
   },
   {
    "duration": 41,
    "start_time": "2022-01-05T14:37:48.524Z"
   },
   {
    "duration": 7,
    "start_time": "2022-01-05T14:37:48.567Z"
   },
   {
    "duration": 9,
    "start_time": "2022-01-05T14:37:48.575Z"
   },
   {
    "duration": 7,
    "start_time": "2022-01-05T14:37:48.585Z"
   },
   {
    "duration": 3,
    "start_time": "2022-01-05T14:37:48.594Z"
   },
   {
    "duration": 7,
    "start_time": "2022-01-05T14:37:48.599Z"
   },
   {
    "duration": 11,
    "start_time": "2022-01-05T14:37:48.608Z"
   },
   {
    "duration": 52,
    "start_time": "2022-01-05T14:37:48.620Z"
   },
   {
    "duration": 6,
    "start_time": "2022-01-05T14:37:48.674Z"
   },
   {
    "duration": 5,
    "start_time": "2022-01-05T14:37:48.682Z"
   },
   {
    "duration": 6,
    "start_time": "2022-01-05T14:37:48.691Z"
   },
   {
    "duration": 7,
    "start_time": "2022-01-05T14:37:48.699Z"
   },
   {
    "duration": 17,
    "start_time": "2022-01-05T14:37:48.708Z"
   },
   {
    "duration": 19145,
    "start_time": "2022-01-05T14:37:48.727Z"
   },
   {
    "duration": 202,
    "start_time": "2022-01-05T14:38:07.874Z"
   },
   {
    "duration": 8,
    "start_time": "2022-01-05T14:38:08.161Z"
   },
   {
    "duration": 112818,
    "start_time": "2022-01-05T14:38:08.170Z"
   },
   {
    "duration": 6,
    "start_time": "2022-01-05T14:40:00.990Z"
   },
   {
    "duration": 54,
    "start_time": "2022-01-05T14:40:00.998Z"
   },
   {
    "duration": 19710,
    "start_time": "2022-01-05T14:40:01.053Z"
   },
   {
    "duration": 102,
    "start_time": "2022-01-05T14:40:20.765Z"
   },
   {
    "duration": 97,
    "start_time": "2022-01-05T14:40:20.869Z"
   },
   {
    "duration": 110918,
    "start_time": "2022-01-05T14:40:20.968Z"
   },
   {
    "duration": 5,
    "start_time": "2022-01-05T14:42:11.888Z"
   },
   {
    "duration": 34,
    "start_time": "2022-01-05T14:42:11.895Z"
   },
   {
    "duration": 5,
    "start_time": "2022-01-05T14:42:11.931Z"
   },
   {
    "duration": 126,
    "start_time": "2022-01-05T14:42:11.938Z"
   },
   {
    "duration": 9,
    "start_time": "2022-01-05T14:42:12.066Z"
   },
   {
    "duration": 14,
    "start_time": "2022-01-05T14:42:12.077Z"
   },
   {
    "duration": 7,
    "start_time": "2022-01-05T14:42:12.093Z"
   },
   {
    "duration": 7,
    "start_time": "2022-01-05T14:42:12.101Z"
   },
   {
    "duration": 9,
    "start_time": "2022-01-05T14:42:12.109Z"
   },
   {
    "duration": 45,
    "start_time": "2022-01-05T14:42:12.120Z"
   },
   {
    "duration": 19623,
    "start_time": "2022-01-05T14:42:12.167Z"
   },
   {
    "duration": 170,
    "start_time": "2022-01-05T14:42:31.792Z"
   },
   {
    "duration": 97,
    "start_time": "2022-01-05T14:42:31.965Z"
   },
   {
    "duration": 171154,
    "start_time": "2022-01-05T14:42:32.064Z"
   },
   {
    "duration": 6,
    "start_time": "2022-01-05T14:45:23.220Z"
   },
   {
    "duration": 61,
    "start_time": "2022-01-05T14:45:23.227Z"
   },
   {
    "duration": 6,
    "start_time": "2022-01-05T14:45:23.289Z"
   },
   {
    "duration": 12,
    "start_time": "2022-01-05T14:45:23.296Z"
   },
   {
    "duration": 4,
    "start_time": "2022-01-05T14:45:23.310Z"
   },
   {
    "duration": 7,
    "start_time": "2022-01-05T14:45:23.316Z"
   },
   {
    "duration": 7,
    "start_time": "2022-01-05T14:45:23.325Z"
   },
   {
    "duration": 29,
    "start_time": "2022-01-05T14:45:23.334Z"
   },
   {
    "duration": 9,
    "start_time": "2022-01-05T14:45:23.365Z"
   },
   {
    "duration": 6,
    "start_time": "2022-01-05T14:45:23.376Z"
   },
   {
    "duration": 1078,
    "start_time": "2022-01-05T14:45:23.384Z"
   },
   {
    "duration": 6,
    "start_time": "2022-01-05T14:45:24.464Z"
   },
   {
    "duration": 11,
    "start_time": "2022-01-05T14:45:24.472Z"
   },
   {
    "duration": 58990,
    "start_time": "2022-01-05T14:45:24.484Z"
   },
   {
    "duration": 6,
    "start_time": "2022-01-05T14:46:23.476Z"
   },
   {
    "duration": 32,
    "start_time": "2022-01-05T14:46:23.487Z"
   },
   {
    "duration": 101,
    "start_time": "2022-01-05T14:46:23.521Z"
   },
   {
    "duration": 6,
    "start_time": "2022-01-05T14:46:23.624Z"
   },
   {
    "duration": 16,
    "start_time": "2022-01-05T14:46:23.632Z"
   },
   {
    "duration": 195,
    "start_time": "2022-01-05T15:03:55.374Z"
   },
   {
    "duration": 6,
    "start_time": "2022-01-05T15:03:57.924Z"
   },
   {
    "duration": 20,
    "start_time": "2022-01-05T15:03:58.568Z"
   },
   {
    "duration": 273,
    "start_time": "2022-01-05T17:15:14.115Z"
   },
   {
    "duration": 4,
    "start_time": "2022-01-05T17:15:55.769Z"
   },
   {
    "duration": 265,
    "start_time": "2022-01-05T17:16:08.613Z"
   },
   {
    "duration": 4,
    "start_time": "2022-01-05T17:16:30.151Z"
   },
   {
    "duration": 153,
    "start_time": "2022-01-05T17:16:34.055Z"
   },
   {
    "duration": 92,
    "start_time": "2022-01-05T17:17:27.383Z"
   },
   {
    "duration": 6,
    "start_time": "2022-01-05T17:17:27.972Z"
   },
   {
    "duration": 13,
    "start_time": "2022-01-05T17:17:28.435Z"
   },
   {
    "duration": 151,
    "start_time": "2022-01-05T17:17:28.997Z"
   },
   {
    "duration": 4,
    "start_time": "2022-01-05T17:18:16.171Z"
   },
   {
    "duration": 13,
    "start_time": "2022-01-05T17:18:16.177Z"
   },
   {
    "duration": 22,
    "start_time": "2022-01-05T17:18:16.192Z"
   },
   {
    "duration": 5,
    "start_time": "2022-01-05T17:18:16.216Z"
   },
   {
    "duration": 44,
    "start_time": "2022-01-05T17:18:16.223Z"
   },
   {
    "duration": 7,
    "start_time": "2022-01-05T17:18:16.269Z"
   },
   {
    "duration": 13,
    "start_time": "2022-01-05T17:18:16.279Z"
   },
   {
    "duration": 8,
    "start_time": "2022-01-05T17:18:16.294Z"
   },
   {
    "duration": 11,
    "start_time": "2022-01-05T17:18:16.304Z"
   },
   {
    "duration": 48,
    "start_time": "2022-01-05T17:18:16.317Z"
   },
   {
    "duration": 14,
    "start_time": "2022-01-05T17:18:16.367Z"
   },
   {
    "duration": 6,
    "start_time": "2022-01-05T17:18:16.383Z"
   },
   {
    "duration": 8,
    "start_time": "2022-01-05T17:18:16.391Z"
   },
   {
    "duration": 6,
    "start_time": "2022-01-05T17:18:16.401Z"
   },
   {
    "duration": 9,
    "start_time": "2022-01-05T17:18:16.409Z"
   },
   {
    "duration": 9,
    "start_time": "2022-01-05T17:18:16.461Z"
   },
   {
    "duration": 4,
    "start_time": "2022-01-05T17:18:16.472Z"
   },
   {
    "duration": 9,
    "start_time": "2022-01-05T17:18:16.478Z"
   },
   {
    "duration": 11,
    "start_time": "2022-01-05T17:18:16.492Z"
   },
   {
    "duration": 17,
    "start_time": "2022-01-05T17:18:16.505Z"
   },
   {
    "duration": 36,
    "start_time": "2022-01-05T17:18:16.524Z"
   },
   {
    "duration": 6,
    "start_time": "2022-01-05T17:18:16.562Z"
   },
   {
    "duration": 12,
    "start_time": "2022-01-05T17:18:16.570Z"
   },
   {
    "duration": 8,
    "start_time": "2022-01-05T17:18:16.584Z"
   },
   {
    "duration": 7,
    "start_time": "2022-01-05T17:18:16.593Z"
   },
   {
    "duration": 19280,
    "start_time": "2022-01-05T17:18:16.602Z"
   },
   {
    "duration": 101,
    "start_time": "2022-01-05T17:18:35.962Z"
   },
   {
    "duration": 100,
    "start_time": "2022-01-05T17:18:36.065Z"
   },
   {
    "duration": 113609,
    "start_time": "2022-01-05T17:18:36.166Z"
   },
   {
    "duration": 7,
    "start_time": "2022-01-05T17:20:29.776Z"
   },
   {
    "duration": 34,
    "start_time": "2022-01-05T17:20:29.784Z"
   },
   {
    "duration": 19839,
    "start_time": "2022-01-05T17:20:29.820Z"
   },
   {
    "duration": 9,
    "start_time": "2022-01-05T17:20:49.662Z"
   },
   {
    "duration": 93,
    "start_time": "2022-01-05T17:20:49.673Z"
   },
   {
    "duration": 112678,
    "start_time": "2022-01-05T17:20:49.768Z"
   },
   {
    "duration": 14,
    "start_time": "2022-01-05T17:22:42.448Z"
   },
   {
    "duration": 31,
    "start_time": "2022-01-05T17:22:42.463Z"
   },
   {
    "duration": 6,
    "start_time": "2022-01-05T17:22:42.496Z"
   },
   {
    "duration": 128,
    "start_time": "2022-01-05T17:22:42.503Z"
   },
   {
    "duration": 7,
    "start_time": "2022-01-05T17:22:42.633Z"
   },
   {
    "duration": 27,
    "start_time": "2022-01-05T17:22:42.642Z"
   },
   {
    "duration": 6,
    "start_time": "2022-01-05T17:22:42.670Z"
   },
   {
    "duration": 6,
    "start_time": "2022-01-05T17:22:42.678Z"
   },
   {
    "duration": 10,
    "start_time": "2022-01-05T17:22:42.685Z"
   },
   {
    "duration": 12,
    "start_time": "2022-01-05T17:22:42.697Z"
   },
   {
    "duration": 19750,
    "start_time": "2022-01-05T17:22:42.711Z"
   },
   {
    "duration": 104,
    "start_time": "2022-01-05T17:23:02.463Z"
   },
   {
    "duration": 99,
    "start_time": "2022-01-05T17:23:02.570Z"
   },
   {
    "duration": 173376,
    "start_time": "2022-01-05T17:23:02.671Z"
   },
   {
    "duration": 14,
    "start_time": "2022-01-05T17:25:56.049Z"
   },
   {
    "duration": 47,
    "start_time": "2022-01-05T17:25:56.064Z"
   },
   {
    "duration": 6,
    "start_time": "2022-01-05T17:25:56.113Z"
   },
   {
    "duration": 9,
    "start_time": "2022-01-05T17:25:56.120Z"
   },
   {
    "duration": 3,
    "start_time": "2022-01-05T17:25:56.131Z"
   },
   {
    "duration": 7,
    "start_time": "2022-01-05T17:25:56.164Z"
   },
   {
    "duration": 9,
    "start_time": "2022-01-05T17:25:56.173Z"
   },
   {
    "duration": 5,
    "start_time": "2022-01-05T17:25:56.184Z"
   },
   {
    "duration": 6,
    "start_time": "2022-01-05T17:25:56.191Z"
   },
   {
    "duration": 7,
    "start_time": "2022-01-05T17:25:56.198Z"
   },
   {
    "duration": 1090,
    "start_time": "2022-01-05T17:25:56.207Z"
   },
   {
    "duration": 6,
    "start_time": "2022-01-05T17:25:57.299Z"
   },
   {
    "duration": 4,
    "start_time": "2022-01-05T17:25:57.307Z"
   },
   {
    "duration": 58533,
    "start_time": "2022-01-05T17:25:57.313Z"
   },
   {
    "duration": 16,
    "start_time": "2022-01-05T17:26:55.848Z"
   },
   {
    "duration": 22,
    "start_time": "2022-01-05T17:26:55.866Z"
   },
   {
    "duration": 111,
    "start_time": "2022-01-05T17:26:55.889Z"
   },
   {
    "duration": 8,
    "start_time": "2022-01-05T17:26:56.002Z"
   },
   {
    "duration": 14,
    "start_time": "2022-01-05T17:26:56.012Z"
   },
   {
    "duration": 185,
    "start_time": "2022-01-05T17:26:56.028Z"
   },
   {
    "duration": 1184,
    "start_time": "2022-01-05T17:28:27.569Z"
   },
   {
    "duration": 2,
    "start_time": "2022-01-05T17:28:28.755Z"
   },
   {
    "duration": 8,
    "start_time": "2022-01-05T17:28:28.761Z"
   },
   {
    "duration": 11,
    "start_time": "2022-01-05T17:28:28.771Z"
   },
   {
    "duration": 43,
    "start_time": "2022-01-05T17:28:28.784Z"
   },
   {
    "duration": 8,
    "start_time": "2022-01-05T17:28:28.829Z"
   },
   {
    "duration": 13,
    "start_time": "2022-01-05T17:28:28.839Z"
   },
   {
    "duration": 10,
    "start_time": "2022-01-05T17:28:28.855Z"
   },
   {
    "duration": 15,
    "start_time": "2022-01-05T17:28:28.867Z"
   },
   {
    "duration": 5,
    "start_time": "2022-01-05T17:28:28.884Z"
   },
   {
    "duration": 13,
    "start_time": "2022-01-05T17:28:28.890Z"
   },
   {
    "duration": 7,
    "start_time": "2022-01-05T17:28:28.905Z"
   },
   {
    "duration": 7,
    "start_time": "2022-01-05T17:28:28.913Z"
   },
   {
    "duration": 43,
    "start_time": "2022-01-05T17:28:28.922Z"
   },
   {
    "duration": 8,
    "start_time": "2022-01-05T17:28:28.966Z"
   },
   {
    "duration": 7,
    "start_time": "2022-01-05T17:28:28.976Z"
   },
   {
    "duration": 5,
    "start_time": "2022-01-05T17:28:28.984Z"
   },
   {
    "duration": 8,
    "start_time": "2022-01-05T17:28:28.990Z"
   },
   {
    "duration": 10,
    "start_time": "2022-01-05T17:28:28.999Z"
   },
   {
    "duration": 15,
    "start_time": "2022-01-05T17:28:29.010Z"
   },
   {
    "duration": 39,
    "start_time": "2022-01-05T17:28:29.027Z"
   },
   {
    "duration": 5,
    "start_time": "2022-01-05T17:28:29.068Z"
   },
   {
    "duration": 6,
    "start_time": "2022-01-05T17:28:29.077Z"
   },
   {
    "duration": 6,
    "start_time": "2022-01-05T17:28:29.086Z"
   },
   {
    "duration": 7,
    "start_time": "2022-01-05T17:28:29.093Z"
   },
   {
    "duration": 19368,
    "start_time": "2022-01-05T17:28:29.101Z"
   },
   {
    "duration": 189,
    "start_time": "2022-01-05T17:28:48.472Z"
   },
   {
    "duration": 102,
    "start_time": "2022-01-05T17:28:48.664Z"
   },
   {
    "duration": 113211,
    "start_time": "2022-01-05T17:28:48.768Z"
   },
   {
    "duration": 5,
    "start_time": "2022-01-05T17:30:41.981Z"
   },
   {
    "duration": 35,
    "start_time": "2022-01-05T17:30:41.988Z"
   },
   {
    "duration": 19765,
    "start_time": "2022-01-05T17:30:42.025Z"
   },
   {
    "duration": 169,
    "start_time": "2022-01-05T17:31:01.792Z"
   },
   {
    "duration": 102,
    "start_time": "2022-01-05T17:31:01.963Z"
   },
   {
    "duration": 110918,
    "start_time": "2022-01-05T17:31:02.067Z"
   },
   {
    "duration": 5,
    "start_time": "2022-01-05T17:32:52.987Z"
   },
   {
    "duration": 43,
    "start_time": "2022-01-05T17:32:52.994Z"
   },
   {
    "duration": 6,
    "start_time": "2022-01-05T17:32:53.039Z"
   },
   {
    "duration": 123,
    "start_time": "2022-01-05T17:32:53.060Z"
   },
   {
    "duration": 9,
    "start_time": "2022-01-05T17:32:53.185Z"
   },
   {
    "duration": 29,
    "start_time": "2022-01-05T17:32:53.195Z"
   },
   {
    "duration": 6,
    "start_time": "2022-01-05T17:32:53.226Z"
   },
   {
    "duration": 25,
    "start_time": "2022-01-05T17:32:53.234Z"
   },
   {
    "duration": 22,
    "start_time": "2022-01-05T17:32:53.260Z"
   },
   {
    "duration": 20,
    "start_time": "2022-01-05T17:32:53.284Z"
   },
   {
    "duration": 19682,
    "start_time": "2022-01-05T17:32:53.306Z"
   },
   {
    "duration": 100,
    "start_time": "2022-01-05T17:33:13.060Z"
   },
   {
    "duration": 99,
    "start_time": "2022-01-05T17:33:13.163Z"
   },
   {
    "duration": 175409,
    "start_time": "2022-01-05T17:33:13.264Z"
   },
   {
    "duration": 6,
    "start_time": "2022-01-05T17:36:08.675Z"
   },
   {
    "duration": 42,
    "start_time": "2022-01-05T17:36:08.683Z"
   },
   {
    "duration": 5,
    "start_time": "2022-01-05T17:36:08.726Z"
   },
   {
    "duration": 29,
    "start_time": "2022-01-05T17:36:08.732Z"
   },
   {
    "duration": 5,
    "start_time": "2022-01-05T17:36:08.763Z"
   },
   {
    "duration": 6,
    "start_time": "2022-01-05T17:36:08.770Z"
   },
   {
    "duration": 8,
    "start_time": "2022-01-05T17:36:08.777Z"
   },
   {
    "duration": 9,
    "start_time": "2022-01-05T17:36:08.786Z"
   },
   {
    "duration": 18,
    "start_time": "2022-01-05T17:36:08.797Z"
   },
   {
    "duration": 6,
    "start_time": "2022-01-05T17:36:08.816Z"
   },
   {
    "duration": 971,
    "start_time": "2022-01-05T17:36:08.824Z"
   },
   {
    "duration": 6,
    "start_time": "2022-01-05T17:36:09.797Z"
   },
   {
    "duration": 6,
    "start_time": "2022-01-05T17:36:09.805Z"
   },
   {
    "duration": 56542,
    "start_time": "2022-01-05T17:36:09.812Z"
   },
   {
    "duration": 6,
    "start_time": "2022-01-05T17:37:06.360Z"
   },
   {
    "duration": 35,
    "start_time": "2022-01-05T17:37:06.367Z"
   },
   {
    "duration": 96,
    "start_time": "2022-01-05T17:37:06.404Z"
   },
   {
    "duration": 5,
    "start_time": "2022-01-05T17:37:06.502Z"
   },
   {
    "duration": 13,
    "start_time": "2022-01-05T17:37:06.512Z"
   },
   {
    "duration": 181,
    "start_time": "2022-01-05T17:37:06.527Z"
   },
   {
    "duration": 1595,
    "start_time": "2022-01-09T05:46:58.167Z"
   },
   {
    "duration": 3,
    "start_time": "2022-01-09T05:46:59.765Z"
   },
   {
    "duration": 10,
    "start_time": "2022-01-09T05:46:59.772Z"
   },
   {
    "duration": 4,
    "start_time": "2022-01-09T05:46:59.785Z"
   },
   {
    "duration": 52,
    "start_time": "2022-01-09T05:46:59.818Z"
   },
   {
    "duration": 14,
    "start_time": "2022-01-09T05:46:59.873Z"
   },
   {
    "duration": 44,
    "start_time": "2022-01-09T05:46:59.890Z"
   },
   {
    "duration": 11,
    "start_time": "2022-01-09T05:46:59.939Z"
   },
   {
    "duration": 14,
    "start_time": "2022-01-09T05:46:59.954Z"
   },
   {
    "duration": 49,
    "start_time": "2022-01-09T05:46:59.971Z"
   },
   {
    "duration": 22,
    "start_time": "2022-01-09T05:47:00.022Z"
   },
   {
    "duration": 9,
    "start_time": "2022-01-09T05:47:00.047Z"
   },
   {
    "duration": 11,
    "start_time": "2022-01-09T05:47:00.058Z"
   },
   {
    "duration": 11,
    "start_time": "2022-01-09T05:47:00.071Z"
   },
   {
    "duration": 12,
    "start_time": "2022-01-09T05:47:00.118Z"
   },
   {
    "duration": 11,
    "start_time": "2022-01-09T05:47:00.132Z"
   },
   {
    "duration": 6,
    "start_time": "2022-01-09T05:47:00.146Z"
   },
   {
    "duration": 18,
    "start_time": "2022-01-09T05:47:00.155Z"
   },
   {
    "duration": 43,
    "start_time": "2022-01-09T05:47:00.176Z"
   },
   {
    "duration": 26,
    "start_time": "2022-01-09T05:47:00.221Z"
   },
   {
    "duration": 9,
    "start_time": "2022-01-09T05:47:00.249Z"
   },
   {
    "duration": 9,
    "start_time": "2022-01-09T05:47:00.260Z"
   },
   {
    "duration": 49,
    "start_time": "2022-01-09T05:47:00.274Z"
   },
   {
    "duration": 9,
    "start_time": "2022-01-09T05:47:00.326Z"
   },
   {
    "duration": 11,
    "start_time": "2022-01-09T05:47:00.338Z"
   },
   {
    "duration": 19769,
    "start_time": "2022-01-09T05:47:00.351Z"
   },
   {
    "duration": 194,
    "start_time": "2022-01-09T05:47:20.123Z"
   },
   {
    "duration": 97,
    "start_time": "2022-01-09T05:47:20.321Z"
   },
   {
    "duration": 167426,
    "start_time": "2022-01-09T05:47:20.420Z"
   },
   {
    "duration": 7,
    "start_time": "2022-01-09T05:50:07.849Z"
   },
   {
    "duration": 62,
    "start_time": "2022-01-09T05:50:07.859Z"
   },
   {
    "duration": 19696,
    "start_time": "2022-01-09T05:50:07.923Z"
   },
   {
    "duration": 105,
    "start_time": "2022-01-09T05:50:27.622Z"
   },
   {
    "duration": 101,
    "start_time": "2022-01-09T05:50:27.818Z"
   },
   {
    "duration": 164346,
    "start_time": "2022-01-09T05:50:27.922Z"
   },
   {
    "duration": 7,
    "start_time": "2022-01-09T05:53:12.271Z"
   },
   {
    "duration": 61,
    "start_time": "2022-01-09T05:53:12.281Z"
   },
   {
    "duration": 7,
    "start_time": "2022-01-09T05:53:12.345Z"
   },
   {
    "duration": 186,
    "start_time": "2022-01-09T05:53:12.355Z"
   },
   {
    "duration": 10,
    "start_time": "2022-01-09T05:53:12.544Z"
   },
   {
    "duration": 19,
    "start_time": "2022-01-09T05:53:12.556Z"
   },
   {
    "duration": 7,
    "start_time": "2022-01-09T05:53:12.577Z"
   },
   {
    "duration": 7,
    "start_time": "2022-01-09T05:53:12.618Z"
   },
   {
    "duration": 10,
    "start_time": "2022-01-09T05:53:12.627Z"
   },
   {
    "duration": 11,
    "start_time": "2022-01-09T05:53:12.639Z"
   },
   {
    "duration": 19869,
    "start_time": "2022-01-09T05:53:12.652Z"
   },
   {
    "duration": 195,
    "start_time": "2022-01-09T05:53:32.524Z"
   },
   {
    "duration": 96,
    "start_time": "2022-01-09T05:53:32.723Z"
   },
   {
    "duration": 256706,
    "start_time": "2022-01-09T05:53:32.821Z"
   },
   {
    "duration": 8,
    "start_time": "2022-01-09T05:57:49.530Z"
   },
   {
    "duration": 81,
    "start_time": "2022-01-09T05:57:49.541Z"
   },
   {
    "duration": 9,
    "start_time": "2022-01-09T05:57:49.624Z"
   },
   {
    "duration": 10,
    "start_time": "2022-01-09T05:57:49.635Z"
   },
   {
    "duration": 5,
    "start_time": "2022-01-09T05:57:49.647Z"
   },
   {
    "duration": 7,
    "start_time": "2022-01-09T05:57:49.655Z"
   },
   {
    "duration": 58,
    "start_time": "2022-01-09T05:57:49.665Z"
   },
   {
    "duration": 7,
    "start_time": "2022-01-09T05:57:49.726Z"
   },
   {
    "duration": 8,
    "start_time": "2022-01-09T05:57:49.735Z"
   },
   {
    "duration": 9,
    "start_time": "2022-01-09T05:57:49.745Z"
   },
   {
    "duration": 2045,
    "start_time": "2022-01-09T05:57:49.757Z"
   },
   {
    "duration": 14,
    "start_time": "2022-01-09T05:57:51.804Z"
   },
   {
    "duration": 11,
    "start_time": "2022-01-09T05:57:51.821Z"
   },
   {
    "duration": 84927,
    "start_time": "2022-01-09T05:57:51.835Z"
   },
   {
    "duration": 7,
    "start_time": "2022-01-09T05:59:16.764Z"
   },
   {
    "duration": 49,
    "start_time": "2022-01-09T05:59:16.773Z"
   },
   {
    "duration": 146,
    "start_time": "2022-01-09T05:59:16.825Z"
   },
   {
    "duration": 8,
    "start_time": "2022-01-09T05:59:16.973Z"
   },
   {
    "duration": 38,
    "start_time": "2022-01-09T05:59:16.987Z"
   },
   {
    "duration": 268,
    "start_time": "2022-01-09T05:59:17.027Z"
   },
   {
    "duration": 6,
    "start_time": "2022-01-09T06:42:25.240Z"
   },
   {
    "duration": 6,
    "start_time": "2022-01-09T06:48:12.131Z"
   },
   {
    "duration": 1529,
    "start_time": "2022-01-09T06:55:17.216Z"
   },
   {
    "duration": 3,
    "start_time": "2022-01-09T06:55:18.748Z"
   },
   {
    "duration": 8,
    "start_time": "2022-01-09T06:55:18.754Z"
   },
   {
    "duration": 6,
    "start_time": "2022-01-09T06:55:18.765Z"
   },
   {
    "duration": 64,
    "start_time": "2022-01-09T06:55:18.774Z"
   },
   {
    "duration": 12,
    "start_time": "2022-01-09T06:55:18.840Z"
   },
   {
    "duration": 18,
    "start_time": "2022-01-09T06:55:18.854Z"
   },
   {
    "duration": 9,
    "start_time": "2022-01-09T06:55:18.874Z"
   },
   {
    "duration": 40,
    "start_time": "2022-01-09T06:55:18.887Z"
   },
   {
    "duration": 7,
    "start_time": "2022-01-09T06:55:18.930Z"
   },
   {
    "duration": 16,
    "start_time": "2022-01-09T06:55:18.940Z"
   },
   {
    "duration": 10,
    "start_time": "2022-01-09T06:55:18.958Z"
   },
   {
    "duration": 52,
    "start_time": "2022-01-09T06:55:18.970Z"
   },
   {
    "duration": 7,
    "start_time": "2022-01-09T06:55:19.025Z"
   },
   {
    "duration": 10,
    "start_time": "2022-01-09T06:55:19.035Z"
   },
   {
    "duration": 11,
    "start_time": "2022-01-09T06:55:19.048Z"
   },
   {
    "duration": 5,
    "start_time": "2022-01-09T06:55:19.061Z"
   },
   {
    "duration": 49,
    "start_time": "2022-01-09T06:55:19.068Z"
   },
   {
    "duration": 15,
    "start_time": "2022-01-09T06:55:19.119Z"
   },
   {
    "duration": 20,
    "start_time": "2022-01-09T06:55:19.136Z"
   },
   {
    "duration": 9,
    "start_time": "2022-01-09T06:55:19.158Z"
   },
   {
    "duration": 7,
    "start_time": "2022-01-09T06:55:19.170Z"
   },
   {
    "duration": 43,
    "start_time": "2022-01-09T06:55:19.179Z"
   },
   {
    "duration": 9,
    "start_time": "2022-01-09T06:55:19.224Z"
   },
   {
    "duration": 10,
    "start_time": "2022-01-09T06:55:19.235Z"
   },
   {
    "duration": 19673,
    "start_time": "2022-01-09T06:55:19.247Z"
   },
   {
    "duration": 14,
    "start_time": "2022-01-09T06:55:39.018Z"
   },
   {
    "duration": 183,
    "start_time": "2022-01-09T06:55:39.035Z"
   },
   {
    "duration": 166679,
    "start_time": "2022-01-09T06:55:39.220Z"
   },
   {
    "duration": 17,
    "start_time": "2022-01-09T06:58:25.901Z"
   },
   {
    "duration": 42,
    "start_time": "2022-01-09T06:58:25.920Z"
   },
   {
    "duration": 19956,
    "start_time": "2022-01-09T06:58:25.964Z"
   },
   {
    "duration": 105,
    "start_time": "2022-01-09T06:58:45.923Z"
   },
   {
    "duration": 9,
    "start_time": "2022-01-09T06:58:46.119Z"
   },
   {
    "duration": 163784,
    "start_time": "2022-01-09T06:58:46.131Z"
   },
   {
    "duration": 7,
    "start_time": "2022-01-09T07:01:29.917Z"
   },
   {
    "duration": 43,
    "start_time": "2022-01-09T07:01:29.926Z"
   },
   {
    "duration": 5,
    "start_time": "2022-01-09T07:01:29.972Z"
   },
   {
    "duration": 577,
    "start_time": "2022-01-09T07:01:29.979Z"
   },
   {
    "duration": -91,
    "start_time": "2022-01-09T07:01:30.650Z"
   },
   {
    "duration": -103,
    "start_time": "2022-01-09T07:01:30.663Z"
   },
   {
    "duration": -113,
    "start_time": "2022-01-09T07:01:30.674Z"
   },
   {
    "duration": -121,
    "start_time": "2022-01-09T07:01:30.683Z"
   },
   {
    "duration": -129,
    "start_time": "2022-01-09T07:01:30.693Z"
   },
   {
    "duration": -136,
    "start_time": "2022-01-09T07:01:30.701Z"
   },
   {
    "duration": -146,
    "start_time": "2022-01-09T07:01:30.712Z"
   },
   {
    "duration": -154,
    "start_time": "2022-01-09T07:01:30.721Z"
   },
   {
    "duration": -165,
    "start_time": "2022-01-09T07:01:30.733Z"
   },
   {
    "duration": -173,
    "start_time": "2022-01-09T07:01:30.742Z"
   },
   {
    "duration": -182,
    "start_time": "2022-01-09T07:01:30.753Z"
   },
   {
    "duration": -190,
    "start_time": "2022-01-09T07:01:30.762Z"
   },
   {
    "duration": -199,
    "start_time": "2022-01-09T07:01:30.772Z"
   },
   {
    "duration": -207,
    "start_time": "2022-01-09T07:01:30.781Z"
   },
   {
    "duration": -217,
    "start_time": "2022-01-09T07:01:30.792Z"
   },
   {
    "duration": -224,
    "start_time": "2022-01-09T07:01:30.800Z"
   },
   {
    "duration": -234,
    "start_time": "2022-01-09T07:01:30.812Z"
   },
   {
    "duration": -242,
    "start_time": "2022-01-09T07:01:30.821Z"
   },
   {
    "duration": -251,
    "start_time": "2022-01-09T07:01:30.831Z"
   },
   {
    "duration": -260,
    "start_time": "2022-01-09T07:01:30.841Z"
   },
   {
    "duration": -276,
    "start_time": "2022-01-09T07:01:30.858Z"
   },
   {
    "duration": -284,
    "start_time": "2022-01-09T07:01:30.867Z"
   },
   {
    "duration": -292,
    "start_time": "2022-01-09T07:01:30.876Z"
   },
   {
    "duration": -299,
    "start_time": "2022-01-09T07:01:30.884Z"
   },
   {
    "duration": -309,
    "start_time": "2022-01-09T07:01:30.896Z"
   },
   {
    "duration": -317,
    "start_time": "2022-01-09T07:01:30.905Z"
   },
   {
    "duration": -330,
    "start_time": "2022-01-09T07:01:30.919Z"
   },
   {
    "duration": -340,
    "start_time": "2022-01-09T07:01:30.930Z"
   },
   {
    "duration": -350,
    "start_time": "2022-01-09T07:01:30.941Z"
   },
   {
    "duration": -355,
    "start_time": "2022-01-09T07:01:30.948Z"
   },
   {
    "duration": -363,
    "start_time": "2022-01-09T07:01:30.957Z"
   },
   {
    "duration": -369,
    "start_time": "2022-01-09T07:01:30.964Z"
   },
   {
    "duration": -376,
    "start_time": "2022-01-09T07:01:30.972Z"
   },
   {
    "duration": -363,
    "start_time": "2022-01-09T07:01:30.980Z"
   },
   {
    "duration": 26,
    "start_time": "2022-01-09T07:07:09.663Z"
   },
   {
    "duration": 28,
    "start_time": "2022-01-09T07:07:10.644Z"
   },
   {
    "duration": 6,
    "start_time": "2022-01-09T07:07:11.535Z"
   },
   {
    "duration": 1130,
    "start_time": "2022-01-09T14:45:51.354Z"
   },
   {
    "duration": 3,
    "start_time": "2022-01-09T14:45:52.485Z"
   },
   {
    "duration": 8,
    "start_time": "2022-01-09T14:45:52.492Z"
   },
   {
    "duration": 3,
    "start_time": "2022-01-09T14:45:52.502Z"
   },
   {
    "duration": 39,
    "start_time": "2022-01-09T14:45:52.507Z"
   },
   {
    "duration": 8,
    "start_time": "2022-01-09T14:45:52.548Z"
   },
   {
    "duration": 12,
    "start_time": "2022-01-09T14:45:52.558Z"
   },
   {
    "duration": 8,
    "start_time": "2022-01-09T14:45:52.593Z"
   },
   {
    "duration": 13,
    "start_time": "2022-01-09T14:45:52.604Z"
   },
   {
    "duration": 4,
    "start_time": "2022-01-09T14:45:52.619Z"
   },
   {
    "duration": 15,
    "start_time": "2022-01-09T14:45:52.624Z"
   },
   {
    "duration": 6,
    "start_time": "2022-01-09T14:45:52.641Z"
   },
   {
    "duration": 7,
    "start_time": "2022-01-09T14:45:52.648Z"
   },
   {
    "duration": 38,
    "start_time": "2022-01-09T14:45:52.656Z"
   },
   {
    "duration": 10,
    "start_time": "2022-01-09T14:45:52.696Z"
   },
   {
    "duration": 7,
    "start_time": "2022-01-09T14:45:52.709Z"
   },
   {
    "duration": 4,
    "start_time": "2022-01-09T14:45:52.718Z"
   },
   {
    "duration": 10,
    "start_time": "2022-01-09T14:45:52.724Z"
   },
   {
    "duration": 10,
    "start_time": "2022-01-09T14:45:52.736Z"
   },
   {
    "duration": 16,
    "start_time": "2022-01-09T14:45:52.747Z"
   },
   {
    "duration": 34,
    "start_time": "2022-01-09T14:45:52.764Z"
   },
   {
    "duration": 13,
    "start_time": "2022-01-09T14:45:52.800Z"
   },
   {
    "duration": 6,
    "start_time": "2022-01-09T14:45:52.818Z"
   },
   {
    "duration": 5,
    "start_time": "2022-01-09T14:45:52.827Z"
   },
   {
    "duration": 7,
    "start_time": "2022-01-09T14:45:52.834Z"
   },
   {
    "duration": 15770,
    "start_time": "2022-01-09T14:45:52.842Z"
   },
   {
    "duration": 10,
    "start_time": "2022-01-09T14:46:08.692Z"
   },
   {
    "duration": 93,
    "start_time": "2022-01-09T14:46:08.706Z"
   },
   {
    "duration": 112847,
    "start_time": "2022-01-09T14:46:08.802Z"
   },
   {
    "duration": 6,
    "start_time": "2022-01-09T14:48:01.650Z"
   },
   {
    "duration": 45,
    "start_time": "2022-01-09T14:48:01.657Z"
   },
   {
    "duration": 19610,
    "start_time": "2022-01-09T14:48:01.704Z"
   },
   {
    "duration": 101,
    "start_time": "2022-01-09T14:48:21.393Z"
   },
   {
    "duration": 96,
    "start_time": "2022-01-09T14:48:21.497Z"
   },
   {
    "duration": 107738,
    "start_time": "2022-01-09T14:48:21.595Z"
   },
   {
    "duration": 5,
    "start_time": "2022-01-09T14:50:09.335Z"
   },
   {
    "duration": 31,
    "start_time": "2022-01-09T14:50:09.342Z"
   },
   {
    "duration": 19,
    "start_time": "2022-01-09T14:50:09.375Z"
   },
   {
    "duration": 20,
    "start_time": "2022-01-09T14:50:09.395Z"
   },
   {
    "duration": 17,
    "start_time": "2022-01-09T14:50:09.417Z"
   },
   {
    "duration": 3,
    "start_time": "2022-01-09T14:50:09.436Z"
   },
   {
    "duration": 7,
    "start_time": "2022-01-09T14:50:09.441Z"
   },
   {
    "duration": 134,
    "start_time": "2022-01-09T14:50:09.449Z"
   },
   {
    "duration": 11,
    "start_time": "2022-01-09T14:50:09.585Z"
   },
   {
    "duration": 14,
    "start_time": "2022-01-09T14:50:09.597Z"
   },
   {
    "duration": 5,
    "start_time": "2022-01-09T14:50:09.613Z"
   },
   {
    "duration": 6,
    "start_time": "2022-01-09T14:50:09.620Z"
   },
   {
    "duration": 8,
    "start_time": "2022-01-09T14:50:09.628Z"
   },
   {
    "duration": 7,
    "start_time": "2022-01-09T14:50:09.638Z"
   },
   {
    "duration": 19670,
    "start_time": "2022-01-09T14:50:09.646Z"
   },
   {
    "duration": 103,
    "start_time": "2022-01-09T14:50:29.392Z"
   },
   {
    "duration": 95,
    "start_time": "2022-01-09T14:50:29.498Z"
   },
   {
    "duration": 168702,
    "start_time": "2022-01-09T14:50:29.595Z"
   },
   {
    "duration": 7,
    "start_time": "2022-01-09T14:53:18.299Z"
   },
   {
    "duration": 45,
    "start_time": "2022-01-09T14:53:18.308Z"
   },
   {
    "duration": 7,
    "start_time": "2022-01-09T14:53:18.355Z"
   },
   {
    "duration": 34,
    "start_time": "2022-01-09T14:53:18.363Z"
   },
   {
    "duration": 3,
    "start_time": "2022-01-09T14:53:18.399Z"
   },
   {
    "duration": 6,
    "start_time": "2022-01-09T14:53:18.404Z"
   },
   {
    "duration": 7,
    "start_time": "2022-01-09T14:53:18.412Z"
   },
   {
    "duration": 4,
    "start_time": "2022-01-09T14:53:18.421Z"
   },
   {
    "duration": 6,
    "start_time": "2022-01-09T14:53:18.426Z"
   },
   {
    "duration": 6,
    "start_time": "2022-01-09T14:53:18.433Z"
   },
   {
    "duration": 993,
    "start_time": "2022-01-09T14:53:18.441Z"
   },
   {
    "duration": 6,
    "start_time": "2022-01-09T14:53:19.436Z"
   },
   {
    "duration": 5,
    "start_time": "2022-01-09T14:53:19.443Z"
   },
   {
    "duration": 57296,
    "start_time": "2022-01-09T14:53:19.450Z"
   },
   {
    "duration": 6,
    "start_time": "2022-01-09T14:54:16.750Z"
   },
   {
    "duration": 34,
    "start_time": "2022-01-09T14:54:16.758Z"
   },
   {
    "duration": 101,
    "start_time": "2022-01-09T14:54:16.793Z"
   },
   {
    "duration": 5,
    "start_time": "2022-01-09T14:54:16.896Z"
   },
   {
    "duration": 13,
    "start_time": "2022-01-09T14:54:16.903Z"
   },
   {
    "duration": 192,
    "start_time": "2022-01-09T14:54:16.918Z"
   },
   {
    "duration": 16483,
    "start_time": "2022-01-09T15:33:22.717Z"
   },
   {
    "duration": 11,
    "start_time": "2022-01-09T15:33:43.676Z"
   },
   {
    "duration": 10,
    "start_time": "2022-01-09T15:33:45.470Z"
   },
   {
    "duration": 119229,
    "start_time": "2022-01-09T15:35:20.454Z"
   },
   {
    "duration": 23,
    "start_time": "2022-01-09T15:37:25.238Z"
   },
   {
    "duration": 23,
    "start_time": "2022-01-09T15:37:26.286Z"
   },
   {
    "duration": 19682,
    "start_time": "2022-01-09T15:38:39.144Z"
   },
   {
    "duration": 9,
    "start_time": "2022-01-09T15:39:10.852Z"
   },
   {
    "duration": 10,
    "start_time": "2022-01-09T15:39:12.260Z"
   },
   {
    "duration": 115433,
    "start_time": "2022-01-09T15:40:34.096Z"
   },
   {
    "duration": 19,
    "start_time": "2022-01-09T15:43:40.237Z"
   },
   {
    "duration": 18,
    "start_time": "2022-01-09T15:43:42.422Z"
   },
   {
    "duration": 7,
    "start_time": "2022-01-09T15:48:05.421Z"
   },
   {
    "duration": 108,
    "start_time": "2022-01-09T15:48:06.499Z"
   },
   {
    "duration": 7,
    "start_time": "2022-01-09T15:48:09.053Z"
   },
   {
    "duration": 7,
    "start_time": "2022-01-09T15:48:52.108Z"
   },
   {
    "duration": 7,
    "start_time": "2022-01-09T15:48:54.378Z"
   },
   {
    "duration": 8,
    "start_time": "2022-01-09T15:48:56.331Z"
   },
   {
    "duration": 6,
    "start_time": "2022-01-09T15:49:26.947Z"
   },
   {
    "duration": 7,
    "start_time": "2022-01-09T15:54:42.969Z"
   },
   {
    "duration": 5,
    "start_time": "2022-01-09T16:01:01.521Z"
   },
   {
    "duration": 17,
    "start_time": "2022-01-09T16:01:01.528Z"
   },
   {
    "duration": 8,
    "start_time": "2022-01-09T16:01:01.549Z"
   },
   {
    "duration": 5,
    "start_time": "2022-01-09T16:01:01.559Z"
   },
   {
    "duration": 59,
    "start_time": "2022-01-09T16:01:01.566Z"
   },
   {
    "duration": 12,
    "start_time": "2022-01-09T16:01:01.627Z"
   },
   {
    "duration": 118,
    "start_time": "2022-01-09T16:01:01.643Z"
   },
   {
    "duration": 8,
    "start_time": "2022-01-09T16:01:01.764Z"
   },
   {
    "duration": 27,
    "start_time": "2022-01-09T16:01:01.774Z"
   },
   {
    "duration": 44,
    "start_time": "2022-01-09T16:01:01.805Z"
   },
   {
    "duration": 27,
    "start_time": "2022-01-09T16:01:01.852Z"
   },
   {
    "duration": 17,
    "start_time": "2022-01-09T16:01:01.882Z"
   },
   {
    "duration": 13,
    "start_time": "2022-01-09T16:01:01.901Z"
   },
   {
    "duration": 23,
    "start_time": "2022-01-09T16:01:01.916Z"
   },
   {
    "duration": 27,
    "start_time": "2022-01-09T16:01:01.941Z"
   },
   {
    "duration": 14,
    "start_time": "2022-01-09T16:01:01.970Z"
   },
   {
    "duration": 17,
    "start_time": "2022-01-09T16:01:01.986Z"
   },
   {
    "duration": 24,
    "start_time": "2022-01-09T16:01:02.005Z"
   },
   {
    "duration": 15,
    "start_time": "2022-01-09T16:01:02.036Z"
   },
   {
    "duration": 21,
    "start_time": "2022-01-09T16:01:02.054Z"
   },
   {
    "duration": 14,
    "start_time": "2022-01-09T16:01:02.077Z"
   },
   {
    "duration": 8,
    "start_time": "2022-01-09T16:01:02.094Z"
   },
   {
    "duration": 12,
    "start_time": "2022-01-09T16:01:02.104Z"
   },
   {
    "duration": 14,
    "start_time": "2022-01-09T16:01:02.118Z"
   },
   {
    "duration": 14,
    "start_time": "2022-01-09T16:01:02.135Z"
   },
   {
    "duration": 19341,
    "start_time": "2022-01-09T16:01:02.151Z"
   },
   {
    "duration": 101,
    "start_time": "2022-01-09T16:01:21.496Z"
   },
   {
    "duration": 100,
    "start_time": "2022-01-09T16:01:21.601Z"
   },
   {
    "duration": 118395,
    "start_time": "2022-01-09T16:01:21.704Z"
   },
   {
    "duration": 33,
    "start_time": "2022-01-09T16:03:20.101Z"
   },
   {
    "duration": 23,
    "start_time": "2022-01-09T16:03:20.137Z"
   },
   {
    "duration": 19665,
    "start_time": "2022-01-09T16:03:20.162Z"
   },
   {
    "duration": 74,
    "start_time": "2022-01-09T16:03:39.830Z"
   },
   {
    "duration": 189,
    "start_time": "2022-01-09T16:03:39.906Z"
   },
   {
    "duration": 117378,
    "start_time": "2022-01-09T16:03:40.101Z"
   },
   {
    "duration": 22,
    "start_time": "2022-01-09T16:05:37.481Z"
   },
   {
    "duration": 18,
    "start_time": "2022-01-09T16:05:37.505Z"
   },
   {
    "duration": 11,
    "start_time": "2022-01-09T16:05:37.525Z"
   },
   {
    "duration": 38,
    "start_time": "2022-01-09T16:05:37.538Z"
   },
   {
    "duration": 35,
    "start_time": "2022-01-09T16:05:37.578Z"
   },
   {
    "duration": 5,
    "start_time": "2022-01-09T16:05:37.615Z"
   },
   {
    "duration": 17,
    "start_time": "2022-01-09T16:05:37.622Z"
   },
   {
    "duration": 128,
    "start_time": "2022-01-09T16:05:37.641Z"
   },
   {
    "duration": 19,
    "start_time": "2022-01-09T16:05:37.772Z"
   },
   {
    "duration": 22,
    "start_time": "2022-01-09T16:05:37.793Z"
   },
   {
    "duration": 21,
    "start_time": "2022-01-09T16:05:37.817Z"
   },
   {
    "duration": 298,
    "start_time": "2022-01-09T16:05:37.840Z"
   },
   {
    "duration": -1027,
    "start_time": "2022-01-09T16:05:39.168Z"
   },
   {
    "duration": -1029,
    "start_time": "2022-01-09T16:05:39.171Z"
   },
   {
    "duration": -1033,
    "start_time": "2022-01-09T16:05:39.176Z"
   },
   {
    "duration": -1035,
    "start_time": "2022-01-09T16:05:39.179Z"
   },
   {
    "duration": -1037,
    "start_time": "2022-01-09T16:05:39.183Z"
   },
   {
    "duration": -1039,
    "start_time": "2022-01-09T16:05:39.186Z"
   },
   {
    "duration": -1043,
    "start_time": "2022-01-09T16:05:39.191Z"
   },
   {
    "duration": -1044,
    "start_time": "2022-01-09T16:05:39.194Z"
   },
   {
    "duration": -1047,
    "start_time": "2022-01-09T16:05:39.198Z"
   },
   {
    "duration": -1050,
    "start_time": "2022-01-09T16:05:39.202Z"
   },
   {
    "duration": -1053,
    "start_time": "2022-01-09T16:05:39.206Z"
   },
   {
    "duration": -1055,
    "start_time": "2022-01-09T16:05:39.209Z"
   },
   {
    "duration": -1058,
    "start_time": "2022-01-09T16:05:39.213Z"
   },
   {
    "duration": -1060,
    "start_time": "2022-01-09T16:05:39.217Z"
   },
   {
    "duration": -1063,
    "start_time": "2022-01-09T16:05:39.221Z"
   },
   {
    "duration": -1066,
    "start_time": "2022-01-09T16:05:39.225Z"
   },
   {
    "duration": -1069,
    "start_time": "2022-01-09T16:05:39.229Z"
   },
   {
    "duration": -1071,
    "start_time": "2022-01-09T16:05:39.232Z"
   },
   {
    "duration": -1074,
    "start_time": "2022-01-09T16:05:39.236Z"
   },
   {
    "duration": -1077,
    "start_time": "2022-01-09T16:05:39.240Z"
   },
   {
    "duration": -1080,
    "start_time": "2022-01-09T16:05:39.244Z"
   },
   {
    "duration": -1082,
    "start_time": "2022-01-09T16:05:39.247Z"
   },
   {
    "duration": -1085,
    "start_time": "2022-01-09T16:05:39.251Z"
   },
   {
    "duration": -1086,
    "start_time": "2022-01-09T16:05:39.254Z"
   },
   {
    "duration": -1089,
    "start_time": "2022-01-09T16:05:39.258Z"
   },
   {
    "duration": -1092,
    "start_time": "2022-01-09T16:05:39.262Z"
   },
   {
    "duration": 8,
    "start_time": "2022-01-09T16:09:56.847Z"
   },
   {
    "duration": 7,
    "start_time": "2022-01-09T16:10:18.998Z"
   },
   {
    "duration": 7,
    "start_time": "2022-01-09T16:11:15.138Z"
   },
   {
    "duration": 8,
    "start_time": "2022-01-09T16:11:34.953Z"
   },
   {
    "duration": 7,
    "start_time": "2022-01-09T16:15:24.476Z"
   },
   {
    "duration": 117,
    "start_time": "2022-01-09T16:15:25.044Z"
   },
   {
    "duration": 8,
    "start_time": "2022-01-09T16:15:27.303Z"
   },
   {
    "duration": 8,
    "start_time": "2022-01-09T16:15:29.096Z"
   },
   {
    "duration": 10,
    "start_time": "2022-01-09T16:15:36.236Z"
   },
   {
    "duration": 6,
    "start_time": "2022-01-09T16:15:40.002Z"
   },
   {
    "duration": 8,
    "start_time": "2022-01-09T16:16:16.754Z"
   },
   {
    "duration": 8,
    "start_time": "2022-01-09T16:16:18.657Z"
   },
   {
    "duration": 10,
    "start_time": "2022-01-09T16:17:05.983Z"
   },
   {
    "duration": 10,
    "start_time": "2022-01-09T16:17:07.075Z"
   },
   {
    "duration": 10,
    "start_time": "2022-01-09T16:17:07.573Z"
   },
   {
    "duration": 6,
    "start_time": "2022-01-09T16:17:08.921Z"
   },
   {
    "duration": 6,
    "start_time": "2022-01-09T16:17:09.970Z"
   },
   {
    "duration": 9,
    "start_time": "2022-01-09T16:17:10.957Z"
   },
   {
    "duration": 8,
    "start_time": "2022-01-09T16:18:04.676Z"
   },
   {
    "duration": 10,
    "start_time": "2022-01-09T16:18:05.019Z"
   },
   {
    "duration": 11,
    "start_time": "2022-01-09T16:18:06.047Z"
   },
   {
    "duration": 6,
    "start_time": "2022-01-09T16:18:08.497Z"
   },
   {
    "duration": 7,
    "start_time": "2022-01-09T16:18:09.435Z"
   },
   {
    "duration": 8,
    "start_time": "2022-01-09T16:18:12.964Z"
   },
   {
    "duration": 19683,
    "start_time": "2022-01-09T16:19:22.716Z"
   },
   {
    "duration": 10,
    "start_time": "2022-01-09T16:19:57.326Z"
   },
   {
    "duration": 13,
    "start_time": "2022-01-09T16:19:58.605Z"
   },
   {
    "duration": 161718,
    "start_time": "2022-01-09T16:21:14.517Z"
   },
   {
    "duration": 43,
    "start_time": "2022-01-09T16:24:16.398Z"
   },
   {
    "duration": 33,
    "start_time": "2022-01-09T16:24:18.089Z"
   },
   {
    "duration": 6,
    "start_time": "2022-01-09T16:32:36.587Z"
   },
   {
    "duration": 8,
    "start_time": "2022-01-09T16:34:05.596Z"
   },
   {
    "duration": 8,
    "start_time": "2022-01-09T16:35:17.877Z"
   },
   {
    "duration": 4,
    "start_time": "2022-01-09T16:35:42.233Z"
   },
   {
    "duration": 6,
    "start_time": "2022-01-09T16:37:11.389Z"
   },
   {
    "duration": 8,
    "start_time": "2022-01-09T16:37:12.025Z"
   },
   {
    "duration": 7,
    "start_time": "2022-01-09T16:37:13.778Z"
   },
   {
    "duration": 4,
    "start_time": "2022-01-09T16:37:14.904Z"
   },
   {
    "duration": 7,
    "start_time": "2022-01-09T16:37:16.638Z"
   },
   {
    "duration": 7,
    "start_time": "2022-01-09T16:41:10.600Z"
   },
   {
    "duration": 8,
    "start_time": "2022-01-09T16:41:11.962Z"
   },
   {
    "duration": 7,
    "start_time": "2022-01-09T16:41:14.102Z"
   },
   {
    "duration": 4,
    "start_time": "2022-01-09T16:41:16.387Z"
   },
   {
    "duration": 7,
    "start_time": "2022-01-09T16:41:18.527Z"
   },
   {
    "duration": 9,
    "start_time": "2022-01-09T16:41:24.002Z"
   },
   {
    "duration": 6,
    "start_time": "2022-01-09T16:41:32.239Z"
   },
   {
    "duration": 9,
    "start_time": "2022-01-09T16:42:37.148Z"
   },
   {
    "duration": 15205,
    "start_time": "2022-01-09T16:43:37.387Z"
   },
   {
    "duration": 10,
    "start_time": "2022-01-09T16:44:00.414Z"
   },
   {
    "duration": 10,
    "start_time": "2022-01-09T16:44:01.331Z"
   },
   {
    "duration": 110128,
    "start_time": "2022-01-09T16:46:23.744Z"
   },
   {
    "duration": 23,
    "start_time": "2022-01-09T16:48:29.976Z"
   },
   {
    "duration": 23,
    "start_time": "2022-01-09T16:48:31.950Z"
   },
   {
    "duration": 508,
    "start_time": "2022-01-09T16:52:51.427Z"
   },
   {
    "duration": 186,
    "start_time": "2022-01-09T16:52:53.508Z"
   },
   {
    "duration": 497,
    "start_time": "2022-01-09T16:53:17.517Z"
   },
   {
    "duration": 183,
    "start_time": "2022-01-09T16:53:18.311Z"
   },
   {
    "duration": 496,
    "start_time": "2022-01-09T16:54:59.134Z"
   },
   {
    "duration": 7,
    "start_time": "2022-01-09T16:55:00.458Z"
   },
   {
    "duration": 31,
    "start_time": "2022-01-09T16:55:01.534Z"
   },
   {
    "duration": 194,
    "start_time": "2022-01-09T16:55:06.108Z"
   },
   {
    "duration": 4,
    "start_time": "2022-01-09T16:55:29.110Z"
   },
   {
    "duration": 7,
    "start_time": "2022-01-09T16:55:29.116Z"
   },
   {
    "duration": 5,
    "start_time": "2022-01-09T16:55:29.125Z"
   },
   {
    "duration": 2,
    "start_time": "2022-01-09T16:55:29.152Z"
   },
   {
    "duration": 38,
    "start_time": "2022-01-09T16:55:29.156Z"
   },
   {
    "duration": 8,
    "start_time": "2022-01-09T16:55:29.196Z"
   },
   {
    "duration": 10,
    "start_time": "2022-01-09T16:55:29.206Z"
   },
   {
    "duration": 6,
    "start_time": "2022-01-09T16:55:29.218Z"
   },
   {
    "duration": 11,
    "start_time": "2022-01-09T16:55:29.226Z"
   },
   {
    "duration": 4,
    "start_time": "2022-01-09T16:55:29.238Z"
   },
   {
    "duration": 14,
    "start_time": "2022-01-09T16:55:29.244Z"
   },
   {
    "duration": 8,
    "start_time": "2022-01-09T16:55:29.294Z"
   },
   {
    "duration": 8,
    "start_time": "2022-01-09T16:55:29.305Z"
   },
   {
    "duration": 8,
    "start_time": "2022-01-09T16:55:29.315Z"
   },
   {
    "duration": 10,
    "start_time": "2022-01-09T16:55:29.324Z"
   },
   {
    "duration": 8,
    "start_time": "2022-01-09T16:55:29.336Z"
   },
   {
    "duration": 4,
    "start_time": "2022-01-09T16:55:29.392Z"
   },
   {
    "duration": 11,
    "start_time": "2022-01-09T16:55:29.398Z"
   },
   {
    "duration": 14,
    "start_time": "2022-01-09T16:55:29.410Z"
   },
   {
    "duration": 13,
    "start_time": "2022-01-09T16:55:29.433Z"
   },
   {
    "duration": 6,
    "start_time": "2022-01-09T16:55:29.448Z"
   },
   {
    "duration": 7,
    "start_time": "2022-01-09T16:55:29.456Z"
   },
   {
    "duration": 6,
    "start_time": "2022-01-09T16:55:29.491Z"
   },
   {
    "duration": 7,
    "start_time": "2022-01-09T16:55:29.499Z"
   },
   {
    "duration": 6,
    "start_time": "2022-01-09T16:55:29.508Z"
   },
   {
    "duration": 18983,
    "start_time": "2022-01-09T16:55:29.516Z"
   },
   {
    "duration": 93,
    "start_time": "2022-01-09T16:55:48.501Z"
   },
   {
    "duration": 100,
    "start_time": "2022-01-09T16:55:48.598Z"
   },
   {
    "duration": 1097,
    "start_time": "2022-01-09T16:55:56.294Z"
   },
   {
    "duration": 2,
    "start_time": "2022-01-09T16:55:57.393Z"
   },
   {
    "duration": 8,
    "start_time": "2022-01-09T16:55:57.397Z"
   },
   {
    "duration": 8,
    "start_time": "2022-01-09T16:55:57.407Z"
   },
   {
    "duration": 44,
    "start_time": "2022-01-09T16:55:57.416Z"
   },
   {
    "duration": 8,
    "start_time": "2022-01-09T16:55:57.462Z"
   },
   {
    "duration": 22,
    "start_time": "2022-01-09T16:55:57.472Z"
   },
   {
    "duration": 7,
    "start_time": "2022-01-09T16:55:57.497Z"
   },
   {
    "duration": 9,
    "start_time": "2022-01-09T16:55:57.506Z"
   },
   {
    "duration": 4,
    "start_time": "2022-01-09T16:55:57.517Z"
   },
   {
    "duration": 12,
    "start_time": "2022-01-09T16:55:57.524Z"
   },
   {
    "duration": 6,
    "start_time": "2022-01-09T16:55:57.538Z"
   },
   {
    "duration": 47,
    "start_time": "2022-01-09T16:55:57.545Z"
   },
   {
    "duration": 4,
    "start_time": "2022-01-09T16:55:57.594Z"
   },
   {
    "duration": 11,
    "start_time": "2022-01-09T16:55:57.600Z"
   },
   {
    "duration": 9,
    "start_time": "2022-01-09T16:55:57.613Z"
   },
   {
    "duration": 8,
    "start_time": "2022-01-09T16:55:57.624Z"
   },
   {
    "duration": 14,
    "start_time": "2022-01-09T16:55:57.633Z"
   },
   {
    "duration": 11,
    "start_time": "2022-01-09T16:55:57.649Z"
   },
   {
    "duration": 38,
    "start_time": "2022-01-09T16:55:57.662Z"
   },
   {
    "duration": 6,
    "start_time": "2022-01-09T16:55:57.702Z"
   },
   {
    "duration": 20,
    "start_time": "2022-01-09T16:55:57.709Z"
   },
   {
    "duration": 7,
    "start_time": "2022-01-09T16:55:57.733Z"
   },
   {
    "duration": 7,
    "start_time": "2022-01-09T16:55:57.742Z"
   },
   {
    "duration": 10,
    "start_time": "2022-01-09T16:55:57.751Z"
   },
   {
    "duration": 19335,
    "start_time": "2022-01-09T16:55:57.763Z"
   },
   {
    "duration": 97,
    "start_time": "2022-01-09T16:56:17.100Z"
   },
   {
    "duration": 102,
    "start_time": "2022-01-09T16:56:17.199Z"
   },
   {
    "duration": 111559,
    "start_time": "2022-01-09T16:56:17.303Z"
   },
   {
    "duration": 29,
    "start_time": "2022-01-09T16:58:08.864Z"
   },
   {
    "duration": 22,
    "start_time": "2022-01-09T16:58:08.895Z"
   },
   {
    "duration": 19599,
    "start_time": "2022-01-09T16:58:08.918Z"
   },
   {
    "duration": 102,
    "start_time": "2022-01-09T16:58:28.594Z"
   },
   {
    "duration": 100,
    "start_time": "2022-01-09T16:58:28.699Z"
   },
   {
    "duration": 107810,
    "start_time": "2022-01-09T16:58:28.801Z"
   },
   {
    "duration": 18,
    "start_time": "2022-01-09T17:00:16.613Z"
   },
   {
    "duration": 18,
    "start_time": "2022-01-09T17:00:16.633Z"
   },
   {
    "duration": 4,
    "start_time": "2022-01-09T17:00:16.653Z"
   },
   {
    "duration": 45,
    "start_time": "2022-01-09T17:00:16.659Z"
   },
   {
    "duration": 19,
    "start_time": "2022-01-09T17:00:16.706Z"
   },
   {
    "duration": 4,
    "start_time": "2022-01-09T17:00:16.727Z"
   },
   {
    "duration": 9,
    "start_time": "2022-01-09T17:00:16.733Z"
   },
   {
    "duration": 130,
    "start_time": "2022-01-09T17:00:16.744Z"
   },
   {
    "duration": 15,
    "start_time": "2022-01-09T17:00:16.876Z"
   },
   {
    "duration": 8,
    "start_time": "2022-01-09T17:00:16.893Z"
   },
   {
    "duration": 13,
    "start_time": "2022-01-09T17:00:16.903Z"
   },
   {
    "duration": 6,
    "start_time": "2022-01-09T17:00:16.918Z"
   },
   {
    "duration": 6,
    "start_time": "2022-01-09T17:00:16.926Z"
   },
   {
    "duration": 8,
    "start_time": "2022-01-09T17:00:16.933Z"
   },
   {
    "duration": 19749,
    "start_time": "2022-01-09T17:00:16.943Z"
   },
   {
    "duration": 99,
    "start_time": "2022-01-09T17:00:36.694Z"
   },
   {
    "duration": 101,
    "start_time": "2022-01-09T17:00:36.796Z"
   },
   {
    "duration": 152971,
    "start_time": "2022-01-09T17:00:36.900Z"
   },
   {
    "duration": 28,
    "start_time": "2022-01-09T17:03:09.873Z"
   },
   {
    "duration": 19,
    "start_time": "2022-01-09T17:03:09.903Z"
   },
   {
    "duration": 5,
    "start_time": "2022-01-09T17:03:09.924Z"
   },
   {
    "duration": 7,
    "start_time": "2022-01-09T17:03:09.930Z"
   },
   {
    "duration": 6,
    "start_time": "2022-01-09T17:03:09.939Z"
   },
   {
    "duration": 4,
    "start_time": "2022-01-09T17:03:09.946Z"
   },
   {
    "duration": 39,
    "start_time": "2022-01-09T17:03:09.952Z"
   },
   {
    "duration": 8,
    "start_time": "2022-01-09T17:03:09.993Z"
   },
   {
    "duration": 4,
    "start_time": "2022-01-09T17:03:10.003Z"
   },
   {
    "duration": 7,
    "start_time": "2022-01-09T17:03:10.009Z"
   },
   {
    "duration": 19583,
    "start_time": "2022-01-09T17:03:10.017Z"
   },
   {
    "duration": 189,
    "start_time": "2022-01-09T17:03:29.601Z"
   },
   {
    "duration": 8,
    "start_time": "2022-01-09T17:03:29.794Z"
   },
   {
    "duration": 109793,
    "start_time": "2022-01-09T17:03:29.893Z"
   },
   {
    "duration": 22,
    "start_time": "2022-01-09T17:05:19.694Z"
   },
   {
    "duration": 22,
    "start_time": "2022-01-09T17:05:19.718Z"
   },
   {
    "duration": 536,
    "start_time": "2022-01-09T17:05:19.742Z"
   },
   {
    "duration": 6,
    "start_time": "2022-01-09T17:05:20.280Z"
   },
   {
    "duration": 32,
    "start_time": "2022-01-09T17:05:20.292Z"
   },
   {
    "duration": 216,
    "start_time": "2022-01-09T17:05:20.326Z"
   },
   {
    "duration": 7,
    "start_time": "2022-01-09T17:25:36.836Z"
   },
   {
    "duration": 7,
    "start_time": "2022-01-09T17:25:37.523Z"
   },
   {
    "duration": 7,
    "start_time": "2022-01-09T17:25:38.622Z"
   },
   {
    "duration": 4,
    "start_time": "2022-01-09T17:25:40.017Z"
   },
   {
    "duration": 6,
    "start_time": "2022-01-09T17:25:40.876Z"
   },
   {
    "duration": 9,
    "start_time": "2022-01-09T17:25:43.160Z"
   },
   {
    "duration": 5,
    "start_time": "2022-01-09T17:25:45.432Z"
   },
   {
    "duration": 8,
    "start_time": "2022-01-09T17:25:47.774Z"
   },
   {
    "duration": 12978,
    "start_time": "2022-01-09T17:25:49.614Z"
   },
   {
    "duration": 13,
    "start_time": "2022-01-09T17:26:07.127Z"
   },
   {
    "duration": 10,
    "start_time": "2022-01-09T17:26:08.672Z"
   },
   {
    "duration": 59739,
    "start_time": "2022-01-09T17:26:50.655Z"
   },
   {
    "duration": 19,
    "start_time": "2022-01-09T17:27:56.561Z"
   },
   {
    "duration": 21,
    "start_time": "2022-01-09T17:27:57.470Z"
   },
   {
    "duration": 534,
    "start_time": "2022-01-09T17:28:05.688Z"
   },
   {
    "duration": 7,
    "start_time": "2022-01-09T17:28:09.470Z"
   },
   {
    "duration": 28,
    "start_time": "2022-01-09T17:28:10.800Z"
   },
   {
    "duration": 250,
    "start_time": "2022-01-09T17:28:11.865Z"
   },
   {
    "duration": 325,
    "start_time": "2022-01-09T17:29:02.500Z"
   },
   {
    "duration": 6,
    "start_time": "2022-01-09T17:29:03.429Z"
   },
   {
    "duration": 21,
    "start_time": "2022-01-09T17:29:05.375Z"
   },
   {
    "duration": 331,
    "start_time": "2022-01-09T17:29:10.019Z"
   },
   {
    "duration": 7,
    "start_time": "2022-01-09T17:29:10.880Z"
   },
   {
    "duration": 20,
    "start_time": "2022-01-09T17:29:11.670Z"
   },
   {
    "duration": 179,
    "start_time": "2022-01-09T17:29:13.193Z"
   },
   {
    "duration": 1541,
    "start_time": "2022-01-10T03:02:47.372Z"
   },
   {
    "duration": 3,
    "start_time": "2022-01-10T03:02:48.916Z"
   },
   {
    "duration": 9,
    "start_time": "2022-01-10T03:02:48.922Z"
   },
   {
    "duration": 5,
    "start_time": "2022-01-10T03:02:48.934Z"
   },
   {
    "duration": 72,
    "start_time": "2022-01-10T03:02:48.941Z"
   },
   {
    "duration": 12,
    "start_time": "2022-01-10T03:02:49.016Z"
   },
   {
    "duration": 36,
    "start_time": "2022-01-10T03:02:49.030Z"
   },
   {
    "duration": 10,
    "start_time": "2022-01-10T03:02:49.069Z"
   },
   {
    "duration": 14,
    "start_time": "2022-01-10T03:02:49.082Z"
   },
   {
    "duration": 7,
    "start_time": "2022-01-10T03:02:49.099Z"
   },
   {
    "duration": 54,
    "start_time": "2022-01-10T03:02:49.109Z"
   },
   {
    "duration": 10,
    "start_time": "2022-01-10T03:02:49.165Z"
   },
   {
    "duration": 19,
    "start_time": "2022-01-10T03:02:49.177Z"
   },
   {
    "duration": 13,
    "start_time": "2022-01-10T03:02:49.199Z"
   },
   {
    "duration": 48,
    "start_time": "2022-01-10T03:02:49.214Z"
   },
   {
    "duration": 12,
    "start_time": "2022-01-10T03:02:49.264Z"
   },
   {
    "duration": 12,
    "start_time": "2022-01-10T03:02:49.278Z"
   },
   {
    "duration": 14,
    "start_time": "2022-01-10T03:02:49.292Z"
   },
   {
    "duration": 16,
    "start_time": "2022-01-10T03:02:49.308Z"
   },
   {
    "duration": 57,
    "start_time": "2022-01-10T03:02:49.326Z"
   },
   {
    "duration": 10,
    "start_time": "2022-01-10T03:02:49.385Z"
   },
   {
    "duration": 8,
    "start_time": "2022-01-10T03:02:49.398Z"
   },
   {
    "duration": 50,
    "start_time": "2022-01-10T03:02:49.413Z"
   },
   {
    "duration": 9,
    "start_time": "2022-01-10T03:02:49.467Z"
   },
   {
    "duration": 11,
    "start_time": "2022-01-10T03:02:49.479Z"
   },
   {
    "duration": 19773,
    "start_time": "2022-01-10T03:02:49.492Z"
   },
   {
    "duration": 104,
    "start_time": "2022-01-10T03:03:09.268Z"
   },
   {
    "duration": 190,
    "start_time": "2022-01-10T03:03:09.375Z"
   },
   {
    "duration": 166902,
    "start_time": "2022-01-10T03:03:09.568Z"
   },
   {
    "duration": 31,
    "start_time": "2022-01-10T03:05:56.472Z"
   },
   {
    "duration": 31,
    "start_time": "2022-01-10T03:05:56.505Z"
   },
   {
    "duration": 19803,
    "start_time": "2022-01-10T03:05:56.563Z"
   },
   {
    "duration": 104,
    "start_time": "2022-01-10T03:06:16.370Z"
   },
   {
    "duration": 104,
    "start_time": "2022-01-10T03:06:16.562Z"
   },
   {
    "duration": 162218,
    "start_time": "2022-01-10T03:06:16.670Z"
   },
   {
    "duration": 26,
    "start_time": "2022-01-10T03:08:58.890Z"
   },
   {
    "duration": 46,
    "start_time": "2022-01-10T03:08:58.918Z"
   },
   {
    "duration": 5,
    "start_time": "2022-01-10T03:08:58.966Z"
   },
   {
    "duration": 29,
    "start_time": "2022-01-10T03:08:58.973Z"
   },
   {
    "duration": 25,
    "start_time": "2022-01-10T03:08:59.004Z"
   },
   {
    "duration": 33,
    "start_time": "2022-01-10T03:08:59.032Z"
   },
   {
    "duration": 9,
    "start_time": "2022-01-10T03:08:59.068Z"
   },
   {
    "duration": 243,
    "start_time": "2022-01-10T03:08:59.079Z"
   },
   {
    "duration": 14,
    "start_time": "2022-01-10T03:08:59.326Z"
   },
   {
    "duration": 30,
    "start_time": "2022-01-10T03:08:59.343Z"
   },
   {
    "duration": 23,
    "start_time": "2022-01-10T03:08:59.376Z"
   },
   {
    "duration": 10,
    "start_time": "2022-01-10T03:08:59.402Z"
   },
   {
    "duration": 8,
    "start_time": "2022-01-10T03:08:59.415Z"
   },
   {
    "duration": 14,
    "start_time": "2022-01-10T03:08:59.462Z"
   },
   {
    "duration": 19786,
    "start_time": "2022-01-10T03:08:59.480Z"
   },
   {
    "duration": 109,
    "start_time": "2022-01-10T03:09:19.269Z"
   },
   {
    "duration": 102,
    "start_time": "2022-01-10T03:09:19.465Z"
   },
   {
    "duration": 237295,
    "start_time": "2022-01-10T03:09:19.570Z"
   },
   {
    "duration": 44,
    "start_time": "2022-01-10T03:13:16.868Z"
   },
   {
    "duration": 73,
    "start_time": "2022-01-10T03:13:16.915Z"
   },
   {
    "duration": 11,
    "start_time": "2022-01-10T03:13:16.991Z"
   },
   {
    "duration": 13,
    "start_time": "2022-01-10T03:13:17.004Z"
   },
   {
    "duration": 44,
    "start_time": "2022-01-10T03:13:17.020Z"
   },
   {
    "duration": 7,
    "start_time": "2022-01-10T03:13:17.067Z"
   },
   {
    "duration": 8,
    "start_time": "2022-01-10T03:13:17.077Z"
   },
   {
    "duration": 11,
    "start_time": "2022-01-10T03:13:17.088Z"
   },
   {
    "duration": 6,
    "start_time": "2022-01-10T03:13:17.101Z"
   },
   {
    "duration": 58,
    "start_time": "2022-01-10T03:13:17.110Z"
   },
   {
    "duration": 19110,
    "start_time": "2022-01-10T03:13:17.170Z"
   },
   {
    "duration": 101,
    "start_time": "2022-01-10T03:13:36.365Z"
   },
   {
    "duration": 107,
    "start_time": "2022-01-10T03:13:36.470Z"
   },
   {
    "duration": 89737,
    "start_time": "2022-01-10T03:13:36.666Z"
   },
   {
    "duration": 29,
    "start_time": "2022-01-10T03:15:06.410Z"
   },
   {
    "duration": 46,
    "start_time": "2022-01-10T03:15:06.442Z"
   },
   {
    "duration": 530,
    "start_time": "2022-01-10T03:15:06.491Z"
   },
   {
    "duration": 8,
    "start_time": "2022-01-10T03:15:07.023Z"
   },
   {
    "duration": 49,
    "start_time": "2022-01-10T03:15:07.034Z"
   },
   {
    "duration": 280,
    "start_time": "2022-01-10T03:15:07.085Z"
   },
   {
    "duration": 1448,
    "start_time": "2022-02-05T09:03:16.729Z"
   },
   {
    "duration": 3,
    "start_time": "2022-02-05T09:03:18.179Z"
   },
   {
    "duration": 12,
    "start_time": "2022-02-05T09:03:18.184Z"
   },
   {
    "duration": 4,
    "start_time": "2022-02-05T09:03:18.198Z"
   },
   {
    "duration": 57,
    "start_time": "2022-02-05T09:03:18.205Z"
   },
   {
    "duration": 12,
    "start_time": "2022-02-05T09:03:18.265Z"
   },
   {
    "duration": 16,
    "start_time": "2022-02-05T09:03:18.279Z"
   },
   {
    "duration": 9,
    "start_time": "2022-02-05T09:03:18.298Z"
   },
   {
    "duration": 46,
    "start_time": "2022-02-05T09:03:18.310Z"
   },
   {
    "duration": 6,
    "start_time": "2022-02-05T09:03:18.359Z"
   },
   {
    "duration": 19,
    "start_time": "2022-02-05T09:03:18.367Z"
   },
   {
    "duration": 8,
    "start_time": "2022-02-05T09:03:18.389Z"
   },
   {
    "duration": 16,
    "start_time": "2022-02-05T09:03:18.399Z"
   },
   {
    "duration": 6,
    "start_time": "2022-02-05T09:03:18.450Z"
   },
   {
    "duration": 13,
    "start_time": "2022-02-05T09:03:18.458Z"
   },
   {
    "duration": 11,
    "start_time": "2022-02-05T09:03:18.473Z"
   },
   {
    "duration": 6,
    "start_time": "2022-02-05T09:03:18.486Z"
   },
   {
    "duration": 11,
    "start_time": "2022-02-05T09:03:18.495Z"
   },
   {
    "duration": 51,
    "start_time": "2022-02-05T09:03:18.508Z"
   },
   {
    "duration": 20,
    "start_time": "2022-02-05T09:03:18.561Z"
   },
   {
    "duration": 9,
    "start_time": "2022-02-05T09:03:18.584Z"
   },
   {
    "duration": 8,
    "start_time": "2022-02-05T09:03:18.595Z"
   },
   {
    "duration": 8,
    "start_time": "2022-02-05T09:03:18.649Z"
   },
   {
    "duration": 9,
    "start_time": "2022-02-05T09:03:18.661Z"
   },
   {
    "duration": 10,
    "start_time": "2022-02-05T09:03:18.672Z"
   },
   {
    "duration": 20067,
    "start_time": "2022-02-05T09:03:18.684Z"
   },
   {
    "duration": 193,
    "start_time": "2022-02-05T09:03:38.754Z"
   },
   {
    "duration": 99,
    "start_time": "2022-02-05T09:03:38.950Z"
   },
   {
    "duration": 1439,
    "start_time": "2022-02-05T09:04:05.323Z"
   },
   {
    "duration": 3,
    "start_time": "2022-02-05T09:04:06.765Z"
   },
   {
    "duration": 10,
    "start_time": "2022-02-05T09:04:06.770Z"
   },
   {
    "duration": 6,
    "start_time": "2022-02-05T09:04:06.783Z"
   },
   {
    "duration": 58,
    "start_time": "2022-02-05T09:04:06.791Z"
   },
   {
    "duration": 11,
    "start_time": "2022-02-05T09:04:06.852Z"
   },
   {
    "duration": 15,
    "start_time": "2022-02-05T09:04:06.865Z"
   },
   {
    "duration": 8,
    "start_time": "2022-02-05T09:04:06.883Z"
   },
   {
    "duration": 19,
    "start_time": "2022-02-05T09:04:06.894Z"
   },
   {
    "duration": 6,
    "start_time": "2022-02-05T09:04:06.948Z"
   },
   {
    "duration": 24,
    "start_time": "2022-02-05T09:04:06.957Z"
   },
   {
    "duration": 8,
    "start_time": "2022-02-05T09:04:06.984Z"
   },
   {
    "duration": 12,
    "start_time": "2022-02-05T09:04:06.994Z"
   },
   {
    "duration": 10,
    "start_time": "2022-02-05T09:04:07.008Z"
   },
   {
    "duration": 37,
    "start_time": "2022-02-05T09:04:07.020Z"
   },
   {
    "duration": 19,
    "start_time": "2022-02-05T09:04:07.060Z"
   },
   {
    "duration": 8,
    "start_time": "2022-02-05T09:04:07.082Z"
   },
   {
    "duration": 16,
    "start_time": "2022-02-05T09:04:07.093Z"
   },
   {
    "duration": 41,
    "start_time": "2022-02-05T09:04:07.111Z"
   },
   {
    "duration": 24,
    "start_time": "2022-02-05T09:04:07.154Z"
   },
   {
    "duration": 10,
    "start_time": "2022-02-05T09:04:07.181Z"
   },
   {
    "duration": 8,
    "start_time": "2022-02-05T09:04:07.194Z"
   },
   {
    "duration": 65,
    "start_time": "2022-02-05T09:04:07.208Z"
   },
   {
    "duration": 12,
    "start_time": "2022-02-05T09:04:07.277Z"
   },
   {
    "duration": 11,
    "start_time": "2022-02-05T09:04:07.291Z"
   },
   {
    "duration": 19755,
    "start_time": "2022-02-05T09:04:07.305Z"
   },
   {
    "duration": 15,
    "start_time": "2022-02-05T09:04:27.148Z"
   },
   {
    "duration": 198,
    "start_time": "2022-02-05T09:04:27.166Z"
   },
   {
    "duration": 1537,
    "start_time": "2022-02-13T12:26:50.544Z"
   },
   {
    "duration": 3,
    "start_time": "2022-02-13T12:26:52.084Z"
   },
   {
    "duration": 8,
    "start_time": "2022-02-13T12:26:52.090Z"
   },
   {
    "duration": 4,
    "start_time": "2022-02-13T12:26:52.101Z"
   },
   {
    "duration": 52,
    "start_time": "2022-02-13T12:26:52.125Z"
   },
   {
    "duration": 14,
    "start_time": "2022-02-13T12:26:52.180Z"
   },
   {
    "duration": 40,
    "start_time": "2022-02-13T12:26:52.197Z"
   },
   {
    "duration": 10,
    "start_time": "2022-02-13T12:26:52.240Z"
   },
   {
    "duration": 17,
    "start_time": "2022-02-13T12:26:52.253Z"
   },
   {
    "duration": 7,
    "start_time": "2022-02-13T12:26:52.273Z"
   },
   {
    "duration": 55,
    "start_time": "2022-02-13T12:26:52.283Z"
   },
   {
    "duration": 10,
    "start_time": "2022-02-13T12:26:52.341Z"
   },
   {
    "duration": 12,
    "start_time": "2022-02-13T12:26:52.354Z"
   },
   {
    "duration": 11,
    "start_time": "2022-02-13T12:26:52.369Z"
   },
   {
    "duration": 14,
    "start_time": "2022-02-13T12:26:52.423Z"
   },
   {
    "duration": 16,
    "start_time": "2022-02-13T12:26:52.439Z"
   },
   {
    "duration": 8,
    "start_time": "2022-02-13T12:26:52.458Z"
   },
   {
    "duration": 14,
    "start_time": "2022-02-13T12:26:52.468Z"
   },
   {
    "duration": 41,
    "start_time": "2022-02-13T12:26:52.484Z"
   },
   {
    "duration": 21,
    "start_time": "2022-02-13T12:26:52.527Z"
   },
   {
    "duration": 9,
    "start_time": "2022-02-13T12:26:52.550Z"
   },
   {
    "duration": 8,
    "start_time": "2022-02-13T12:26:52.561Z"
   },
   {
    "duration": 47,
    "start_time": "2022-02-13T12:26:52.576Z"
   },
   {
    "duration": 9,
    "start_time": "2022-02-13T12:26:52.627Z"
   },
   {
    "duration": 9,
    "start_time": "2022-02-13T12:26:52.638Z"
   },
   {
    "duration": 19683,
    "start_time": "2022-02-13T12:26:52.649Z"
   },
   {
    "duration": 107,
    "start_time": "2022-02-13T12:27:12.425Z"
   },
   {
    "duration": 104,
    "start_time": "2022-02-13T12:27:12.535Z"
   },
   {
    "duration": 180083,
    "start_time": "2022-02-13T12:27:12.723Z"
   },
   {
    "duration": 47,
    "start_time": "2022-02-13T12:30:12.809Z"
   },
   {
    "duration": 36,
    "start_time": "2022-02-13T12:30:12.859Z"
   },
   {
    "duration": 19802,
    "start_time": "2022-02-13T12:30:12.923Z"
   },
   {
    "duration": 97,
    "start_time": "2022-02-13T12:30:32.729Z"
   },
   {
    "duration": 120,
    "start_time": "2022-02-13T12:30:32.829Z"
   },
   {
    "duration": 184621,
    "start_time": "2022-02-13T12:30:32.953Z"
   },
   {
    "duration": 29,
    "start_time": "2022-02-13T12:33:37.577Z"
   },
   {
    "duration": 26,
    "start_time": "2022-02-13T12:33:37.624Z"
   },
   {
    "duration": 7,
    "start_time": "2022-02-13T12:33:37.653Z"
   },
   {
    "duration": 61,
    "start_time": "2022-02-13T12:33:37.663Z"
   },
   {
    "duration": 25,
    "start_time": "2022-02-13T12:33:37.727Z"
   },
   {
    "duration": 7,
    "start_time": "2022-02-13T12:33:37.754Z"
   },
   {
    "duration": 12,
    "start_time": "2022-02-13T12:33:37.764Z"
   },
   {
    "duration": 321,
    "start_time": "2022-02-13T12:33:37.779Z"
   },
   {
    "duration": 25,
    "start_time": "2022-02-13T12:33:38.104Z"
   },
   {
    "duration": 15,
    "start_time": "2022-02-13T12:33:38.132Z"
   },
   {
    "duration": 18,
    "start_time": "2022-02-13T12:33:38.172Z"
   },
   {
    "duration": 11,
    "start_time": "2022-02-13T12:33:38.194Z"
   },
   {
    "duration": 23,
    "start_time": "2022-02-13T12:33:38.207Z"
   },
   {
    "duration": 26,
    "start_time": "2022-02-13T12:33:38.233Z"
   },
   {
    "duration": 20978,
    "start_time": "2022-02-13T12:33:38.262Z"
   },
   {
    "duration": 178,
    "start_time": "2022-02-13T12:33:59.247Z"
   },
   {
    "duration": 113,
    "start_time": "2022-02-13T12:33:59.428Z"
   },
   {
    "duration": 268729,
    "start_time": "2022-02-13T12:33:59.546Z"
   },
   {
    "duration": 59,
    "start_time": "2022-02-13T12:38:28.278Z"
   },
   {
    "duration": 89,
    "start_time": "2022-02-13T12:38:28.340Z"
   },
   {
    "duration": -958,
    "start_time": "2022-02-13T12:38:29.390Z"
   },
   {
    "duration": -965,
    "start_time": "2022-02-13T12:38:29.398Z"
   },
   {
    "duration": -967,
    "start_time": "2022-02-13T12:38:29.402Z"
   },
   {
    "duration": -969,
    "start_time": "2022-02-13T12:38:29.405Z"
   },
   {
    "duration": -972,
    "start_time": "2022-02-13T12:38:29.409Z"
   },
   {
    "duration": -1053,
    "start_time": "2022-02-13T12:38:29.492Z"
   },
   {
    "duration": -1055,
    "start_time": "2022-02-13T12:38:29.496Z"
   },
   {
    "duration": -1058,
    "start_time": "2022-02-13T12:38:29.500Z"
   },
   {
    "duration": -1061,
    "start_time": "2022-02-13T12:38:29.504Z"
   },
   {
    "duration": -1063,
    "start_time": "2022-02-13T12:38:29.508Z"
   },
   {
    "duration": -1065,
    "start_time": "2022-02-13T12:38:29.512Z"
   },
   {
    "duration": -1068,
    "start_time": "2022-02-13T12:38:29.516Z"
   },
   {
    "duration": -1071,
    "start_time": "2022-02-13T12:38:29.520Z"
   },
   {
    "duration": -1073,
    "start_time": "2022-02-13T12:38:29.524Z"
   },
   {
    "duration": -1079,
    "start_time": "2022-02-13T12:38:29.531Z"
   },
   {
    "duration": -1080,
    "start_time": "2022-02-13T12:38:29.534Z"
   },
   {
    "duration": -1084,
    "start_time": "2022-02-13T12:38:29.539Z"
   },
   {
    "duration": -1086,
    "start_time": "2022-02-13T12:38:29.543Z"
   },
   {
    "duration": 2132,
    "start_time": "2022-03-27T09:42:41.756Z"
   },
   {
    "duration": 3,
    "start_time": "2022-03-27T09:42:43.890Z"
   },
   {
    "duration": 8,
    "start_time": "2022-03-27T09:42:43.894Z"
   },
   {
    "duration": 4,
    "start_time": "2022-03-27T09:42:43.904Z"
   },
   {
    "duration": 58,
    "start_time": "2022-03-27T09:42:43.909Z"
   },
   {
    "duration": 21,
    "start_time": "2022-03-27T09:42:43.968Z"
   },
   {
    "duration": 15,
    "start_time": "2022-03-27T09:42:43.990Z"
   },
   {
    "duration": 9,
    "start_time": "2022-03-27T09:42:44.006Z"
   },
   {
    "duration": 10,
    "start_time": "2022-03-27T09:42:44.016Z"
   },
   {
    "duration": 3,
    "start_time": "2022-03-27T09:42:44.028Z"
   },
   {
    "duration": 9,
    "start_time": "2022-03-27T09:42:44.033Z"
   },
   {
    "duration": 38,
    "start_time": "2022-03-27T09:42:44.044Z"
   },
   {
    "duration": 5,
    "start_time": "2022-03-27T09:42:44.083Z"
   },
   {
    "duration": 7,
    "start_time": "2022-03-27T09:42:44.089Z"
   },
   {
    "duration": 7,
    "start_time": "2022-03-27T09:42:44.097Z"
   },
   {
    "duration": 10,
    "start_time": "2022-03-27T09:42:44.105Z"
   },
   {
    "duration": 4,
    "start_time": "2022-03-27T09:42:44.116Z"
   },
   {
    "duration": 12,
    "start_time": "2022-03-27T09:42:44.121Z"
   },
   {
    "duration": 10,
    "start_time": "2022-03-27T09:42:44.134Z"
   },
   {
    "duration": 43,
    "start_time": "2022-03-27T09:42:44.146Z"
   },
   {
    "duration": 11,
    "start_time": "2022-03-27T09:42:44.190Z"
   },
   {
    "duration": 4,
    "start_time": "2022-03-27T09:42:44.203Z"
   },
   {
    "duration": 11,
    "start_time": "2022-03-27T09:42:44.208Z"
   },
   {
    "duration": 5,
    "start_time": "2022-03-27T09:42:44.220Z"
   },
   {
    "duration": 6,
    "start_time": "2022-03-27T09:42:44.226Z"
   },
   {
    "duration": 18353,
    "start_time": "2022-03-27T09:42:44.233Z"
   },
   {
    "duration": 107,
    "start_time": "2022-03-27T09:43:02.588Z"
   },
   {
    "duration": 109,
    "start_time": "2022-03-27T09:43:02.781Z"
   },
   {
    "duration": 107096,
    "start_time": "2022-03-27T09:43:02.892Z"
   },
   {
    "duration": 25,
    "start_time": "2022-03-27T09:44:49.989Z"
   },
   {
    "duration": 25,
    "start_time": "2022-03-27T09:44:50.016Z"
   },
   {
    "duration": 19560,
    "start_time": "2022-03-27T09:44:50.042Z"
   },
   {
    "duration": 84,
    "start_time": "2022-03-27T09:45:09.604Z"
   },
   {
    "duration": 97,
    "start_time": "2022-03-27T09:45:09.691Z"
   },
   {
    "duration": 106316,
    "start_time": "2022-03-27T09:45:09.790Z"
   },
   {
    "duration": 30,
    "start_time": "2022-03-27T09:46:56.108Z"
   },
   {
    "duration": 45,
    "start_time": "2022-03-27T09:46:56.140Z"
   },
   {
    "duration": 4,
    "start_time": "2022-03-27T09:46:56.187Z"
   },
   {
    "duration": 29,
    "start_time": "2022-03-27T09:46:56.193Z"
   },
   {
    "duration": 28,
    "start_time": "2022-03-27T09:46:56.224Z"
   },
   {
    "duration": 28,
    "start_time": "2022-03-27T09:46:56.253Z"
   },
   {
    "duration": 5,
    "start_time": "2022-03-27T09:46:56.282Z"
   },
   {
    "duration": 151,
    "start_time": "2022-03-27T09:46:56.289Z"
   },
   {
    "duration": 5,
    "start_time": "2022-03-27T09:46:56.441Z"
   },
   {
    "duration": 9,
    "start_time": "2022-03-27T09:46:56.447Z"
   },
   {
    "duration": 23,
    "start_time": "2022-03-27T09:46:56.458Z"
   },
   {
    "duration": 4,
    "start_time": "2022-03-27T09:46:56.482Z"
   },
   {
    "duration": 6,
    "start_time": "2022-03-27T09:46:56.487Z"
   },
   {
    "duration": 11,
    "start_time": "2022-03-27T09:46:56.494Z"
   },
   {
    "duration": 19591,
    "start_time": "2022-03-27T09:46:56.506Z"
   },
   {
    "duration": 88,
    "start_time": "2022-03-27T09:47:16.099Z"
   },
   {
    "duration": 192,
    "start_time": "2022-03-27T09:47:16.189Z"
   },
   {
    "duration": 181639,
    "start_time": "2022-03-27T09:47:16.384Z"
   },
   {
    "duration": 28,
    "start_time": "2022-03-27T09:50:18.024Z"
   },
   {
    "duration": 7,
    "start_time": "2022-03-27T09:50:18.054Z"
   },
   {
    "duration": 0,
    "start_time": "2022-03-27T09:50:18.062Z"
   },
   {
    "duration": 0,
    "start_time": "2022-03-27T09:50:18.063Z"
   },
   {
    "duration": 0,
    "start_time": "2022-03-27T09:50:18.080Z"
   },
   {
    "duration": 0,
    "start_time": "2022-03-27T09:50:18.081Z"
   },
   {
    "duration": 0,
    "start_time": "2022-03-27T09:50:18.082Z"
   },
   {
    "duration": 0,
    "start_time": "2022-03-27T09:50:18.083Z"
   },
   {
    "duration": 0,
    "start_time": "2022-03-27T09:50:18.084Z"
   },
   {
    "duration": 0,
    "start_time": "2022-03-27T09:50:18.085Z"
   },
   {
    "duration": 0,
    "start_time": "2022-03-27T09:50:18.086Z"
   },
   {
    "duration": 0,
    "start_time": "2022-03-27T09:50:18.086Z"
   },
   {
    "duration": 0,
    "start_time": "2022-03-27T09:50:18.087Z"
   },
   {
    "duration": 0,
    "start_time": "2022-03-27T09:50:18.088Z"
   },
   {
    "duration": 0,
    "start_time": "2022-03-27T09:50:18.089Z"
   },
   {
    "duration": 0,
    "start_time": "2022-03-27T09:50:18.091Z"
   },
   {
    "duration": 0,
    "start_time": "2022-03-27T09:50:18.092Z"
   },
   {
    "duration": 0,
    "start_time": "2022-03-27T09:50:18.093Z"
   },
   {
    "duration": 0,
    "start_time": "2022-03-27T09:50:18.094Z"
   },
   {
    "duration": 0,
    "start_time": "2022-03-27T09:50:18.095Z"
   },
   {
    "duration": 19174,
    "start_time": "2022-03-27T10:00:08.713Z"
   },
   {
    "duration": 97,
    "start_time": "2022-03-27T10:11:42.811Z"
   },
   {
    "duration": 8,
    "start_time": "2022-03-27T10:12:49.713Z"
   },
   {
    "duration": 1598,
    "start_time": "2022-03-27T10:13:20.084Z"
   },
   {
    "duration": 2,
    "start_time": "2022-03-27T10:13:21.684Z"
   },
   {
    "duration": 7,
    "start_time": "2022-03-27T10:13:21.688Z"
   },
   {
    "duration": 39,
    "start_time": "2022-03-27T10:13:21.698Z"
   },
   {
    "duration": 12,
    "start_time": "2022-03-27T10:13:21.738Z"
   },
   {
    "duration": 10,
    "start_time": "2022-03-27T10:13:21.752Z"
   },
   {
    "duration": 22,
    "start_time": "2022-03-27T10:13:21.764Z"
   },
   {
    "duration": 12,
    "start_time": "2022-03-27T10:13:21.787Z"
   },
   {
    "duration": 4,
    "start_time": "2022-03-27T10:13:21.800Z"
   },
   {
    "duration": 12,
    "start_time": "2022-03-27T10:13:21.806Z"
   },
   {
    "duration": 5,
    "start_time": "2022-03-27T10:13:21.820Z"
   },
   {
    "duration": 6,
    "start_time": "2022-03-27T10:13:21.827Z"
   },
   {
    "duration": 9,
    "start_time": "2022-03-27T10:13:21.835Z"
   },
   {
    "duration": 40,
    "start_time": "2022-03-27T10:13:21.846Z"
   },
   {
    "duration": 7,
    "start_time": "2022-03-27T10:13:21.887Z"
   },
   {
    "duration": 6,
    "start_time": "2022-03-27T10:13:21.895Z"
   },
   {
    "duration": 15,
    "start_time": "2022-03-27T10:13:21.902Z"
   },
   {
    "duration": 19,
    "start_time": "2022-03-27T10:13:21.918Z"
   },
   {
    "duration": 13,
    "start_time": "2022-03-27T10:13:21.938Z"
   },
   {
    "duration": 5,
    "start_time": "2022-03-27T10:13:21.953Z"
   },
   {
    "duration": 23,
    "start_time": "2022-03-27T10:13:21.959Z"
   },
   {
    "duration": 6,
    "start_time": "2022-03-27T10:13:21.983Z"
   },
   {
    "duration": 19,
    "start_time": "2022-03-27T10:13:21.990Z"
   },
   {
    "duration": 19177,
    "start_time": "2022-03-27T10:13:22.011Z"
   },
   {
    "duration": 100,
    "start_time": "2022-03-27T10:13:41.190Z"
   },
   {
    "duration": 13,
    "start_time": "2022-03-27T10:13:41.382Z"
   },
   {
    "duration": 108631,
    "start_time": "2022-03-27T10:13:41.485Z"
   },
   {
    "duration": 23,
    "start_time": "2022-03-27T10:15:30.120Z"
   },
   {
    "duration": 40,
    "start_time": "2022-03-27T10:15:30.144Z"
   },
   {
    "duration": 19702,
    "start_time": "2022-03-27T10:15:30.185Z"
   },
   {
    "duration": 194,
    "start_time": "2022-03-27T10:15:49.889Z"
   },
   {
    "duration": 113,
    "start_time": "2022-03-27T10:15:50.085Z"
   },
   {
    "duration": 111836,
    "start_time": "2022-03-27T10:15:50.200Z"
   },
   {
    "duration": 28,
    "start_time": "2022-03-27T10:17:42.037Z"
   },
   {
    "duration": 41,
    "start_time": "2022-03-27T10:17:42.067Z"
   },
   {
    "duration": 5,
    "start_time": "2022-03-27T10:17:42.109Z"
   },
   {
    "duration": 156,
    "start_time": "2022-03-27T10:17:42.116Z"
   },
   {
    "duration": 9,
    "start_time": "2022-03-27T10:17:42.274Z"
   },
   {
    "duration": 7,
    "start_time": "2022-03-27T10:17:42.285Z"
   },
   {
    "duration": 8,
    "start_time": "2022-03-27T10:17:42.293Z"
   },
   {
    "duration": 4,
    "start_time": "2022-03-27T10:17:42.303Z"
   },
   {
    "duration": 7,
    "start_time": "2022-03-27T10:17:42.309Z"
   },
   {
    "duration": 5,
    "start_time": "2022-03-27T10:17:42.318Z"
   },
   {
    "duration": 2313,
    "start_time": "2022-03-27T11:11:53.571Z"
   },
   {
    "duration": 4,
    "start_time": "2022-03-27T11:11:55.887Z"
   },
   {
    "duration": 12,
    "start_time": "2022-03-27T11:11:55.895Z"
   },
   {
    "duration": 75,
    "start_time": "2022-03-27T11:11:55.910Z"
   },
   {
    "duration": 20,
    "start_time": "2022-03-27T11:11:55.987Z"
   },
   {
    "duration": 20,
    "start_time": "2022-03-27T11:11:56.010Z"
   },
   {
    "duration": 49,
    "start_time": "2022-03-27T11:11:56.032Z"
   },
   {
    "duration": 19,
    "start_time": "2022-03-27T11:11:56.084Z"
   },
   {
    "duration": 6,
    "start_time": "2022-03-27T11:11:56.106Z"
   },
   {
    "duration": 61,
    "start_time": "2022-03-27T11:11:56.116Z"
   },
   {
    "duration": 10,
    "start_time": "2022-03-27T11:11:56.179Z"
   },
   {
    "duration": 11,
    "start_time": "2022-03-27T11:11:56.191Z"
   },
   {
    "duration": 9,
    "start_time": "2022-03-27T11:11:56.204Z"
   },
   {
    "duration": 63,
    "start_time": "2022-03-27T11:11:56.216Z"
   },
   {
    "duration": 13,
    "start_time": "2022-03-27T11:11:56.282Z"
   },
   {
    "duration": 11,
    "start_time": "2022-03-27T11:11:56.298Z"
   },
   {
    "duration": 12,
    "start_time": "2022-03-27T11:11:56.312Z"
   },
   {
    "duration": 54,
    "start_time": "2022-03-27T11:11:56.327Z"
   },
   {
    "duration": 17,
    "start_time": "2022-03-27T11:11:56.384Z"
   },
   {
    "duration": 8,
    "start_time": "2022-03-27T11:11:56.403Z"
   },
   {
    "duration": 18,
    "start_time": "2022-03-27T11:11:56.413Z"
   },
   {
    "duration": 46,
    "start_time": "2022-03-27T11:11:56.433Z"
   },
   {
    "duration": 10,
    "start_time": "2022-03-27T11:11:56.482Z"
   },
   {
    "duration": 19780,
    "start_time": "2022-03-27T11:11:56.495Z"
   },
   {
    "duration": 102,
    "start_time": "2022-03-27T11:12:16.278Z"
   },
   {
    "duration": 109,
    "start_time": "2022-03-27T11:12:16.385Z"
   },
   {
    "duration": 215426,
    "start_time": "2022-03-27T11:12:16.575Z"
   },
   {
    "duration": 46,
    "start_time": "2022-03-27T11:15:52.007Z"
   },
   {
    "duration": 38,
    "start_time": "2022-03-27T11:15:52.075Z"
   },
   {
    "duration": 19759,
    "start_time": "2022-03-27T11:15:52.115Z"
   },
   {
    "duration": 97,
    "start_time": "2022-03-27T11:16:11.879Z"
   },
   {
    "duration": 96,
    "start_time": "2022-03-27T11:16:11.986Z"
   },
   {
    "duration": 180512,
    "start_time": "2022-03-27T11:16:12.086Z"
   },
   {
    "duration": 42,
    "start_time": "2022-03-27T11:19:12.601Z"
   },
   {
    "duration": 62,
    "start_time": "2022-03-27T11:19:12.646Z"
   },
   {
    "duration": 7,
    "start_time": "2022-03-27T11:19:12.710Z"
   },
   {
    "duration": 307,
    "start_time": "2022-03-27T11:19:12.719Z"
   },
   {
    "duration": 9,
    "start_time": "2022-03-27T11:19:13.029Z"
   },
   {
    "duration": 11,
    "start_time": "2022-03-27T11:19:13.040Z"
   },
   {
    "duration": 15,
    "start_time": "2022-03-27T11:19:13.073Z"
   },
   {
    "duration": 9,
    "start_time": "2022-03-27T11:19:13.090Z"
   },
   {
    "duration": 8,
    "start_time": "2022-03-27T11:19:13.101Z"
   },
   {
    "duration": 14,
    "start_time": "2022-03-27T11:19:13.112Z"
   },
   {
    "duration": 19748,
    "start_time": "2022-03-27T11:19:13.128Z"
   },
   {
    "duration": 106,
    "start_time": "2022-03-27T11:19:32.880Z"
   },
   {
    "duration": 194,
    "start_time": "2022-03-27T11:19:32.989Z"
   },
   {
    "duration": 265944,
    "start_time": "2022-03-27T11:19:33.186Z"
   },
   {
    "duration": 53,
    "start_time": "2022-03-27T11:23:59.132Z"
   },
   {
    "duration": 174,
    "start_time": "2022-03-27T11:23:59.188Z"
   },
   {
    "duration": 0,
    "start_time": "2022-03-27T11:23:59.365Z"
   },
   {
    "duration": 0,
    "start_time": "2022-03-27T11:23:59.366Z"
   },
   {
    "duration": 0,
    "start_time": "2022-03-27T11:23:59.375Z"
   },
   {
    "duration": 0,
    "start_time": "2022-03-27T11:23:59.377Z"
   },
   {
    "duration": 0,
    "start_time": "2022-03-27T11:23:59.379Z"
   },
   {
    "duration": 0,
    "start_time": "2022-03-27T11:23:59.381Z"
   },
   {
    "duration": 0,
    "start_time": "2022-03-27T11:23:59.384Z"
   },
   {
    "duration": 0,
    "start_time": "2022-03-27T11:23:59.386Z"
   },
   {
    "duration": 0,
    "start_time": "2022-03-27T11:23:59.388Z"
   },
   {
    "duration": 0,
    "start_time": "2022-03-27T11:23:59.390Z"
   },
   {
    "duration": 0,
    "start_time": "2022-03-27T11:23:59.393Z"
   },
   {
    "duration": 0,
    "start_time": "2022-03-27T11:23:59.395Z"
   },
   {
    "duration": 0,
    "start_time": "2022-03-27T11:23:59.397Z"
   },
   {
    "duration": 0,
    "start_time": "2022-03-27T11:23:59.399Z"
   },
   {
    "duration": 0,
    "start_time": "2022-03-27T11:23:59.401Z"
   },
   {
    "duration": 0,
    "start_time": "2022-03-27T11:23:59.405Z"
   },
   {
    "duration": 0,
    "start_time": "2022-03-27T11:23:59.406Z"
   },
   {
    "duration": 0,
    "start_time": "2022-03-27T11:23:59.408Z"
   },
   {
    "duration": 44,
    "start_time": "2022-03-27T11:56:16.840Z"
   },
   {
    "duration": 7,
    "start_time": "2022-03-27T11:56:26.473Z"
   },
   {
    "duration": 10,
    "start_time": "2022-03-27T11:56:27.016Z"
   },
   {
    "duration": 10,
    "start_time": "2022-03-27T11:56:27.952Z"
   },
   {
    "duration": 6,
    "start_time": "2022-03-27T11:56:28.727Z"
   },
   {
    "duration": 14,
    "start_time": "2022-03-27T11:56:29.029Z"
   },
   {
    "duration": 12,
    "start_time": "2022-03-27T11:56:29.733Z"
   },
   {
    "duration": 7,
    "start_time": "2022-03-27T11:56:30.327Z"
   },
   {
    "duration": 9,
    "start_time": "2022-03-27T11:56:30.942Z"
   },
   {
    "duration": 18259,
    "start_time": "2022-03-27T11:56:31.528Z"
   },
   {
    "duration": 199,
    "start_time": "2022-03-27T11:56:49.875Z"
   },
   {
    "duration": 13,
    "start_time": "2022-03-27T11:56:50.077Z"
   },
   {
    "duration": 98099,
    "start_time": "2022-03-27T11:56:50.175Z"
   },
   {
    "duration": 34,
    "start_time": "2022-03-27T11:58:28.277Z"
   },
   {
    "duration": 31,
    "start_time": "2022-03-27T11:58:28.314Z"
   },
   {
    "duration": 618,
    "start_time": "2022-03-27T12:05:02.272Z"
   },
   {
    "duration": 8,
    "start_time": "2022-03-27T12:05:02.893Z"
   },
   {
    "duration": 31,
    "start_time": "2022-03-27T12:05:02.904Z"
   },
   {
    "duration": 203,
    "start_time": "2022-03-27T12:05:02.978Z"
   }
  ],
  "kernelspec": {
   "display_name": "Python 3 (ipykernel)",
   "language": "python",
   "name": "python3"
  },
  "language_info": {
   "codemirror_mode": {
    "name": "ipython",
    "version": 3
   },
   "file_extension": ".py",
   "mimetype": "text/x-python",
   "name": "python",
   "nbconvert_exporter": "python",
   "pygments_lexer": "ipython3",
   "version": "3.9.5"
  },
  "toc": {
   "base_numbering": 1,
   "nav_menu": {},
   "number_sections": true,
   "sideBar": true,
   "skip_h1_title": true,
   "title_cell": "Содержание",
   "title_sidebar": "Contents",
   "toc_cell": true,
   "toc_position": {
    "height": "calc(100% - 180px)",
    "left": "10px",
    "top": "150px",
    "width": "210.6px"
   },
   "toc_section_display": true,
   "toc_window_display": true
  }
 },
 "nbformat": 4,
 "nbformat_minor": 2
}
