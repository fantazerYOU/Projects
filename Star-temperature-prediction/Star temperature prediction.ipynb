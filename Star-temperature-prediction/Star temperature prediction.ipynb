{
 "cells": [
  {
   "cell_type": "markdown",
   "id": "fdc91807",
   "metadata": {},
   "source": [
    "# Введение"
   ]
  },
  {
   "cell_type": "markdown",
   "id": "67c78eaf",
   "metadata": {},
   "source": [
    "**Поставлена задача от обсерватории**, придумать, как с помощью нейросети определять температуру на поверхности обнаруженных звёзд. \n",
    "\n",
    "    Обычно для расчёта температуры учёные пользуются следующими методами:\n",
    "- Закон смещения Вина.\n",
    "- Закон Стефана-Больцмана.\n",
    "- Спектральный анализ.\n",
    "\n",
    "Обсерватория хочет внедрить технологии машинного обучения для предсказания температуры звёзд, надеясь, что этот метод будет наиболее точным и удобным.\n",
    "\n",
    "В проекте необходимо разработать нейронную сеть, которая поможет предсказывать абсолютную температуру на поверхности звезды."
   ]
  },
  {
   "cell_type": "markdown",
   "id": "corresponding-armstrong",
   "metadata": {
    "ExecuteTime": {
     "end_time": "2022-05-05T04:58:05.692448Z",
     "start_time": "2022-05-05T04:58:05.688565Z"
    }
   },
   "source": [
    "## 1 Загрузка данных"
   ]
  },
  {
   "cell_type": "code",
   "execution_count": 1,
   "id": "aca57c33",
   "metadata": {},
   "outputs": [],
   "source": [
    "#!pip install -U skorch"
   ]
  },
  {
   "cell_type": "code",
   "execution_count": 2,
   "id": "737e253f",
   "metadata": {},
   "outputs": [],
   "source": [
    "import pandas as pd\n",
    "import numpy as np\n",
    "import random\n",
    "from sklearn.model_selection import train_test_split\n",
    "\n",
    "from sklearn.preprocessing import StandardScaler\n",
    "from sklearn.metrics import mean_squared_error\n",
    "\n",
    "\n",
    "import plotly.express as px\n",
    "import matplotlib.pyplot as plt\n",
    "import seaborn as sns\n",
    "from plotly.offline import iplot\n",
    "import matplotlib.patches as mpatches\n",
    "\n",
    "\n",
    "from skorch import NeuralNetRegressor\n",
    "from sklearn.model_selection import GridSearchCV\n",
    "from torch import optim\n",
    "import torch.nn.functional as F\n",
    "import torch\n",
    "import torch.nn as nn\n",
    "import skorch"
   ]
  },
  {
   "cell_type": "code",
   "execution_count": 3,
   "id": "f862739c",
   "metadata": {
    "scrolled": true
   },
   "outputs": [
    {
     "data": {
      "text/html": [
       "<div>\n",
       "<style scoped>\n",
       "    .dataframe tbody tr th:only-of-type {\n",
       "        vertical-align: middle;\n",
       "    }\n",
       "\n",
       "    .dataframe tbody tr th {\n",
       "        vertical-align: top;\n",
       "    }\n",
       "\n",
       "    .dataframe thead th {\n",
       "        text-align: right;\n",
       "    }\n",
       "</style>\n",
       "<table border=\"1\" class=\"dataframe\">\n",
       "  <thead>\n",
       "    <tr style=\"text-align: right;\">\n",
       "      <th></th>\n",
       "      <th>Unnamed: 0</th>\n",
       "      <th>Temperature (K)</th>\n",
       "      <th>Luminosity(L/Lo)</th>\n",
       "      <th>Radius(R/Ro)</th>\n",
       "      <th>Absolute magnitude(Mv)</th>\n",
       "      <th>Star type</th>\n",
       "      <th>Star color</th>\n",
       "    </tr>\n",
       "  </thead>\n",
       "  <tbody>\n",
       "    <tr>\n",
       "      <th>0</th>\n",
       "      <td>0</td>\n",
       "      <td>3068</td>\n",
       "      <td>0.002400</td>\n",
       "      <td>0.1700</td>\n",
       "      <td>16.12</td>\n",
       "      <td>0</td>\n",
       "      <td>Red</td>\n",
       "    </tr>\n",
       "    <tr>\n",
       "      <th>1</th>\n",
       "      <td>1</td>\n",
       "      <td>3042</td>\n",
       "      <td>0.000500</td>\n",
       "      <td>0.1542</td>\n",
       "      <td>16.60</td>\n",
       "      <td>0</td>\n",
       "      <td>Red</td>\n",
       "    </tr>\n",
       "    <tr>\n",
       "      <th>2</th>\n",
       "      <td>2</td>\n",
       "      <td>2600</td>\n",
       "      <td>0.000300</td>\n",
       "      <td>0.1020</td>\n",
       "      <td>18.70</td>\n",
       "      <td>0</td>\n",
       "      <td>Red</td>\n",
       "    </tr>\n",
       "    <tr>\n",
       "      <th>3</th>\n",
       "      <td>3</td>\n",
       "      <td>2800</td>\n",
       "      <td>0.000200</td>\n",
       "      <td>0.1600</td>\n",
       "      <td>16.65</td>\n",
       "      <td>0</td>\n",
       "      <td>Red</td>\n",
       "    </tr>\n",
       "    <tr>\n",
       "      <th>4</th>\n",
       "      <td>4</td>\n",
       "      <td>1939</td>\n",
       "      <td>0.000138</td>\n",
       "      <td>0.1030</td>\n",
       "      <td>20.06</td>\n",
       "      <td>0</td>\n",
       "      <td>Red</td>\n",
       "    </tr>\n",
       "  </tbody>\n",
       "</table>\n",
       "</div>"
      ],
      "text/plain": [
       "   Unnamed: 0  Temperature (K)  Luminosity(L/Lo)  Radius(R/Ro)  \\\n",
       "0           0             3068          0.002400        0.1700   \n",
       "1           1             3042          0.000500        0.1542   \n",
       "2           2             2600          0.000300        0.1020   \n",
       "3           3             2800          0.000200        0.1600   \n",
       "4           4             1939          0.000138        0.1030   \n",
       "\n",
       "   Absolute magnitude(Mv)  Star type Star color  \n",
       "0                   16.12          0        Red  \n",
       "1                   16.60          0        Red  \n",
       "2                   18.70          0        Red  \n",
       "3                   16.65          0        Red  \n",
       "4                   20.06          0        Red  "
      ]
     },
     "execution_count": 3,
     "metadata": {},
     "output_type": "execute_result"
    }
   ],
   "source": [
    "df = pd.read_csv('/datasets/6_class.csv')\n",
    "df.head(5)"
   ]
  },
  {
   "cell_type": "code",
   "execution_count": 4,
   "id": "e2877a19",
   "metadata": {
    "scrolled": false
   },
   "outputs": [
    {
     "name": "stdout",
     "output_type": "stream",
     "text": [
      "<class 'pandas.core.frame.DataFrame'>\n",
      "RangeIndex: 240 entries, 0 to 239\n",
      "Data columns (total 7 columns):\n",
      " #   Column                  Non-Null Count  Dtype  \n",
      "---  ------                  --------------  -----  \n",
      " 0   Unnamed: 0              240 non-null    int64  \n",
      " 1   Temperature (K)         240 non-null    int64  \n",
      " 2   Luminosity(L/Lo)        240 non-null    float64\n",
      " 3   Radius(R/Ro)            240 non-null    float64\n",
      " 4   Absolute magnitude(Mv)  240 non-null    float64\n",
      " 5   Star type               240 non-null    int64  \n",
      " 6   Star color              240 non-null    object \n",
      "dtypes: float64(3), int64(3), object(1)\n",
      "memory usage: 13.2+ KB\n"
     ]
    }
   ],
   "source": [
    "df.info()"
   ]
  },
  {
   "cell_type": "markdown",
   "id": "638b4a65",
   "metadata": {},
   "source": [
    "В Data Frame 240 строк, 7 столбцов, значений NaN нет. Типы столбцов : int - 3 столбца, float - 3 столбца и object - столбец. Из первоначального осмотра Data Frame можно сделать вывод, что столбец Unnamed: 0 дублирует порядковый номер объектов в таблице. В предобработке его удалим."
   ]
  },
  {
   "cell_type": "markdown",
   "id": "simple-subdivision",
   "metadata": {},
   "source": [
    "## 2 Предобработка и анализ данных"
   ]
  },
  {
   "cell_type": "markdown",
   "id": "f6b66a6a",
   "metadata": {},
   "source": [
    "### 2.1 Переименовывание столбцов"
   ]
  },
  {
   "cell_type": "code",
   "execution_count": 5,
   "id": "686e3a18",
   "metadata": {},
   "outputs": [
    {
     "data": {
      "text/html": [
       "<div>\n",
       "<style scoped>\n",
       "    .dataframe tbody tr th:only-of-type {\n",
       "        vertical-align: middle;\n",
       "    }\n",
       "\n",
       "    .dataframe tbody tr th {\n",
       "        vertical-align: top;\n",
       "    }\n",
       "\n",
       "    .dataframe thead th {\n",
       "        text-align: right;\n",
       "    }\n",
       "</style>\n",
       "<table border=\"1\" class=\"dataframe\">\n",
       "  <thead>\n",
       "    <tr style=\"text-align: right;\">\n",
       "      <th></th>\n",
       "      <th>un_named_0</th>\n",
       "      <th>temperature_k</th>\n",
       "      <th>luminosity_l_lo</th>\n",
       "      <th>radius_r_ro</th>\n",
       "      <th>absolute_magnitude_mv</th>\n",
       "      <th>star_type</th>\n",
       "      <th>star_color</th>\n",
       "    </tr>\n",
       "  </thead>\n",
       "  <tbody>\n",
       "    <tr>\n",
       "      <th>0</th>\n",
       "      <td>0</td>\n",
       "      <td>3068</td>\n",
       "      <td>0.0024</td>\n",
       "      <td>0.1700</td>\n",
       "      <td>16.12</td>\n",
       "      <td>0</td>\n",
       "      <td>Red</td>\n",
       "    </tr>\n",
       "    <tr>\n",
       "      <th>1</th>\n",
       "      <td>1</td>\n",
       "      <td>3042</td>\n",
       "      <td>0.0005</td>\n",
       "      <td>0.1542</td>\n",
       "      <td>16.60</td>\n",
       "      <td>0</td>\n",
       "      <td>Red</td>\n",
       "    </tr>\n",
       "  </tbody>\n",
       "</table>\n",
       "</div>"
      ],
      "text/plain": [
       "   un_named_0  temperature_k  luminosity_l_lo  radius_r_ro  \\\n",
       "0           0           3068           0.0024       0.1700   \n",
       "1           1           3042           0.0005       0.1542   \n",
       "\n",
       "   absolute_magnitude_mv  star_type star_color  \n",
       "0                  16.12          0        Red  \n",
       "1                  16.60          0        Red  "
      ]
     },
     "execution_count": 5,
     "metadata": {},
     "output_type": "execute_result"
    }
   ],
   "source": [
    "df = df.rename(columns = \n",
    "              {'Temperature (K)' : 'temperature_k',\n",
    "               'Luminosity(L/Lo)' : 'luminosity_l_lo',\n",
    "               'Radius(R/Ro)' : 'radius_r_ro',\n",
    "               'Absolute magnitude(Mv)' : 'absolute_magnitude_mv',\n",
    "               'Star type' : 'star_type',\n",
    "               'Star color' : 'star_color',\n",
    "               'Unnamed: 0' : 'un_named_0'}\n",
    "              )\n",
    "\n",
    "df.head(2)"
   ]
  },
  {
   "cell_type": "markdown",
   "id": "58e983bc",
   "metadata": {},
   "source": [
    "### 2.2 Проверка Data Frame на дубликаты"
   ]
  },
  {
   "cell_type": "code",
   "execution_count": 6,
   "id": "2e2d3ab1",
   "metadata": {},
   "outputs": [
    {
     "data": {
      "text/html": [
       "<div>\n",
       "<style scoped>\n",
       "    .dataframe tbody tr th:only-of-type {\n",
       "        vertical-align: middle;\n",
       "    }\n",
       "\n",
       "    .dataframe tbody tr th {\n",
       "        vertical-align: top;\n",
       "    }\n",
       "\n",
       "    .dataframe thead th {\n",
       "        text-align: right;\n",
       "    }\n",
       "</style>\n",
       "<table border=\"1\" class=\"dataframe\">\n",
       "  <thead>\n",
       "    <tr style=\"text-align: right;\">\n",
       "      <th></th>\n",
       "      <th>un_named_0</th>\n",
       "      <th>temperature_k</th>\n",
       "      <th>luminosity_l_lo</th>\n",
       "      <th>radius_r_ro</th>\n",
       "      <th>absolute_magnitude_mv</th>\n",
       "      <th>star_type</th>\n",
       "      <th>star_color</th>\n",
       "    </tr>\n",
       "  </thead>\n",
       "  <tbody>\n",
       "  </tbody>\n",
       "</table>\n",
       "</div>"
      ],
      "text/plain": [
       "Empty DataFrame\n",
       "Columns: [un_named_0, temperature_k, luminosity_l_lo, radius_r_ro, absolute_magnitude_mv, star_type, star_color]\n",
       "Index: []"
      ]
     },
     "execution_count": 6,
     "metadata": {},
     "output_type": "execute_result"
    }
   ],
   "source": [
    "df.loc[df.duplicated()]"
   ]
  },
  {
   "cell_type": "markdown",
   "id": "5f10498d",
   "metadata": {},
   "source": [
    "Дубликатов в Data Frame нет"
   ]
  },
  {
   "cell_type": "code",
   "execution_count": 7,
   "id": "53f5fbe4",
   "metadata": {
    "scrolled": false
   },
   "outputs": [
    {
     "data": {
      "text/plain": [
       "Red                   112\n",
       "Blue                   55\n",
       "Blue-white             26\n",
       "Blue White             10\n",
       "yellow-white            8\n",
       "White                   7\n",
       "Blue white              3\n",
       "white                   3\n",
       "Yellowish White         3\n",
       "Whitish                 2\n",
       "yellowish               2\n",
       "Orange                  2\n",
       "Blue-White              1\n",
       "Orange-Red              1\n",
       "White-Yellow            1\n",
       "Yellowish               1\n",
       "Blue                    1\n",
       "Pale yellow orange      1\n",
       "Blue white              1\n",
       "Name: star_color, dtype: int64"
      ]
     },
     "execution_count": 7,
     "metadata": {},
     "output_type": "execute_result"
    }
   ],
   "source": [
    "df['star_color'].value_counts()"
   ]
  },
  {
   "cell_type": "code",
   "execution_count": 8,
   "id": "3e717c14",
   "metadata": {},
   "outputs": [],
   "source": [
    "df['star_color'] = df['star_color'].str.lower()"
   ]
  },
  {
   "cell_type": "markdown",
   "id": "21fcc1bc",
   "metadata": {},
   "source": [
    "Все строки в столбце 'star_color' привели к нижнему регистру."
   ]
  },
  {
   "cell_type": "code",
   "execution_count": 9,
   "id": "092e87a9",
   "metadata": {},
   "outputs": [],
   "source": [
    "df['star_color'] = df['star_color'].str.replace(r'.*blue-white.*', 'blue_white', regex= True)\n",
    "df['star_color'] = df['star_color'].str.replace(r'.*blue white.*', 'blue_white', regex= True)\n",
    "df['star_color'] = df['star_color'].str.replace(r'.*yellow-white.*', 'yellow_white', regex= True)\n",
    "df['star_color'] = df['star_color'].str.replace(r'.*yellowish white.*', 'yellowish_white', regex= True)\n",
    "df['star_color'] = df['star_color'].str.replace(r'.*pale yellow orange.*', 'pale_yellow_orange', regex= True)\n",
    "df['star_color'] = df['star_color'].str.replace(r'.*white-yellow.*', 'yellow_white', regex= True)\n",
    "df['star_color'] = df['star_color'].str.replace(r'.*orange-red.*', 'orange_red', regex= True)\n",
    "df['star_color'] = df['star_color'].str.replace(r'.*yellowish_white.*', 'yellow_white', regex= True)\n",
    "df['star_color'] = df['star_color'].str.replace(r'.*yellowish.*', 'yellow_white', regex= True)"
   ]
  },
  {
   "cell_type": "markdown",
   "id": "975ba299",
   "metadata": {},
   "source": [
    "Переименовали строки в столбце 'star_color', чтобы избавиться от повторов и комфортной работы с Data Frame"
   ]
  },
  {
   "cell_type": "code",
   "execution_count": 10,
   "id": "7f68b1db",
   "metadata": {},
   "outputs": [],
   "source": [
    "df[\"star_color\"] = df[\"star_color\"].map(str.strip)  # Удаляем пробелы в строках в столбце star_color"
   ]
  },
  {
   "cell_type": "code",
   "execution_count": 11,
   "id": "ef02c13e",
   "metadata": {
    "scrolled": true
   },
   "outputs": [
    {
     "data": {
      "text/plain": [
       "red                   112\n",
       "blue                   56\n",
       "blue_white             41\n",
       "yellow_white           15\n",
       "white                  10\n",
       "orange                  2\n",
       "whitish                 2\n",
       "orange_red              1\n",
       "pale_yellow_orange      1\n",
       "Name: star_color, dtype: int64"
      ]
     },
     "execution_count": 11,
     "metadata": {},
     "output_type": "execute_result"
    }
   ],
   "source": [
    "df['star_color'].value_counts()"
   ]
  },
  {
   "cell_type": "markdown",
   "id": "c4baf4dd",
   "metadata": {},
   "source": [
    "Лидирующую позицию занимают звезды, цвет которых \"red\", 2 и 3 место у \"blue\" и \"blue_white\", замыкает 5 лидеров звезды с цветом \"white\" и \"yellow_white\", остальных звезд в Data Frame очень мало."
   ]
  },
  {
   "cell_type": "markdown",
   "id": "13949017",
   "metadata": {},
   "source": [
    "### 2.3 Проверка Data Frame на отсутствующие значения"
   ]
  },
  {
   "cell_type": "code",
   "execution_count": 12,
   "id": "344e6857",
   "metadata": {
    "scrolled": true
   },
   "outputs": [
    {
     "data": {
      "text/plain": [
       "un_named_0               0\n",
       "temperature_k            0\n",
       "luminosity_l_lo          0\n",
       "radius_r_ro              0\n",
       "absolute_magnitude_mv    0\n",
       "star_type                0\n",
       "star_color               0\n",
       "dtype: int64"
      ]
     },
     "execution_count": 12,
     "metadata": {},
     "output_type": "execute_result"
    }
   ],
   "source": [
    "df.isnull().sum()"
   ]
  },
  {
   "cell_type": "markdown",
   "id": "eb0eeadb",
   "metadata": {},
   "source": [
    "Значений NaN в Data Frame нет."
   ]
  },
  {
   "cell_type": "markdown",
   "id": "930101bb",
   "metadata": {},
   "source": [
    "### 2.4 Распределение данных в Data Frame"
   ]
  },
  {
   "cell_type": "code",
   "execution_count": 13,
   "id": "9ac03113",
   "metadata": {
    "scrolled": true
   },
   "outputs": [
    {
     "data": {
      "text/html": [
       "<div>\n",
       "<style scoped>\n",
       "    .dataframe tbody tr th:only-of-type {\n",
       "        vertical-align: middle;\n",
       "    }\n",
       "\n",
       "    .dataframe tbody tr th {\n",
       "        vertical-align: top;\n",
       "    }\n",
       "\n",
       "    .dataframe thead th {\n",
       "        text-align: right;\n",
       "    }\n",
       "</style>\n",
       "<table border=\"1\" class=\"dataframe\">\n",
       "  <thead>\n",
       "    <tr style=\"text-align: right;\">\n",
       "      <th></th>\n",
       "      <th>un_named_0</th>\n",
       "      <th>temperature_k</th>\n",
       "      <th>luminosity_l_lo</th>\n",
       "      <th>radius_r_ro</th>\n",
       "      <th>absolute_magnitude_mv</th>\n",
       "      <th>star_type</th>\n",
       "    </tr>\n",
       "  </thead>\n",
       "  <tbody>\n",
       "    <tr>\n",
       "      <th>count</th>\n",
       "      <td>240.00000</td>\n",
       "      <td>240.000000</td>\n",
       "      <td>240.000000</td>\n",
       "      <td>240.000000</td>\n",
       "      <td>240.000000</td>\n",
       "      <td>240.000000</td>\n",
       "    </tr>\n",
       "    <tr>\n",
       "      <th>mean</th>\n",
       "      <td>119.50000</td>\n",
       "      <td>10497.462500</td>\n",
       "      <td>107188.361635</td>\n",
       "      <td>237.157781</td>\n",
       "      <td>4.382396</td>\n",
       "      <td>2.500000</td>\n",
       "    </tr>\n",
       "    <tr>\n",
       "      <th>std</th>\n",
       "      <td>69.42622</td>\n",
       "      <td>9552.425037</td>\n",
       "      <td>179432.244940</td>\n",
       "      <td>517.155763</td>\n",
       "      <td>10.532512</td>\n",
       "      <td>1.711394</td>\n",
       "    </tr>\n",
       "    <tr>\n",
       "      <th>min</th>\n",
       "      <td>0.00000</td>\n",
       "      <td>1939.000000</td>\n",
       "      <td>0.000080</td>\n",
       "      <td>0.008400</td>\n",
       "      <td>-11.920000</td>\n",
       "      <td>0.000000</td>\n",
       "    </tr>\n",
       "    <tr>\n",
       "      <th>25%</th>\n",
       "      <td>59.75000</td>\n",
       "      <td>3344.250000</td>\n",
       "      <td>0.000865</td>\n",
       "      <td>0.102750</td>\n",
       "      <td>-6.232500</td>\n",
       "      <td>1.000000</td>\n",
       "    </tr>\n",
       "    <tr>\n",
       "      <th>50%</th>\n",
       "      <td>119.50000</td>\n",
       "      <td>5776.000000</td>\n",
       "      <td>0.070500</td>\n",
       "      <td>0.762500</td>\n",
       "      <td>8.313000</td>\n",
       "      <td>2.500000</td>\n",
       "    </tr>\n",
       "    <tr>\n",
       "      <th>75%</th>\n",
       "      <td>179.25000</td>\n",
       "      <td>15055.500000</td>\n",
       "      <td>198050.000000</td>\n",
       "      <td>42.750000</td>\n",
       "      <td>13.697500</td>\n",
       "      <td>4.000000</td>\n",
       "    </tr>\n",
       "    <tr>\n",
       "      <th>max</th>\n",
       "      <td>239.00000</td>\n",
       "      <td>40000.000000</td>\n",
       "      <td>849420.000000</td>\n",
       "      <td>1948.500000</td>\n",
       "      <td>20.060000</td>\n",
       "      <td>5.000000</td>\n",
       "    </tr>\n",
       "  </tbody>\n",
       "</table>\n",
       "</div>"
      ],
      "text/plain": [
       "       un_named_0  temperature_k  luminosity_l_lo  radius_r_ro  \\\n",
       "count   240.00000     240.000000       240.000000   240.000000   \n",
       "mean    119.50000   10497.462500    107188.361635   237.157781   \n",
       "std      69.42622    9552.425037    179432.244940   517.155763   \n",
       "min       0.00000    1939.000000         0.000080     0.008400   \n",
       "25%      59.75000    3344.250000         0.000865     0.102750   \n",
       "50%     119.50000    5776.000000         0.070500     0.762500   \n",
       "75%     179.25000   15055.500000    198050.000000    42.750000   \n",
       "max     239.00000   40000.000000    849420.000000  1948.500000   \n",
       "\n",
       "       absolute_magnitude_mv   star_type  \n",
       "count             240.000000  240.000000  \n",
       "mean                4.382396    2.500000  \n",
       "std                10.532512    1.711394  \n",
       "min               -11.920000    0.000000  \n",
       "25%                -6.232500    1.000000  \n",
       "50%                 8.313000    2.500000  \n",
       "75%                13.697500    4.000000  \n",
       "max                20.060000    5.000000  "
      ]
     },
     "execution_count": 13,
     "metadata": {},
     "output_type": "execute_result"
    }
   ],
   "source": [
    "df.describe()"
   ]
  },
  {
   "cell_type": "markdown",
   "id": "9f654bb4",
   "metadata": {},
   "source": [
    "По распределению данных, никаких аномальных значений не наблюдается."
   ]
  },
  {
   "cell_type": "markdown",
   "id": "b80c36b4",
   "metadata": {},
   "source": [
    "### 2.5 Копируем Data Frame"
   ]
  },
  {
   "cell_type": "code",
   "execution_count": 15,
   "id": "2abf1d51",
   "metadata": {},
   "outputs": [],
   "source": [
    "df_copy = df.copy()"
   ]
  },
  {
   "cell_type": "markdown",
   "id": "441c81ab",
   "metadata": {},
   "source": [
    "Копируем Data Frame"
   ]
  },
  {
   "cell_type": "markdown",
   "id": "b517009d",
   "metadata": {},
   "source": [
    "### 2.6 Удаление ненужных столбцов"
   ]
  },
  {
   "cell_type": "code",
   "execution_count": 16,
   "id": "4fe36674",
   "metadata": {},
   "outputs": [
    {
     "data": {
      "text/html": [
       "<div>\n",
       "<style scoped>\n",
       "    .dataframe tbody tr th:only-of-type {\n",
       "        vertical-align: middle;\n",
       "    }\n",
       "\n",
       "    .dataframe tbody tr th {\n",
       "        vertical-align: top;\n",
       "    }\n",
       "\n",
       "    .dataframe thead th {\n",
       "        text-align: right;\n",
       "    }\n",
       "</style>\n",
       "<table border=\"1\" class=\"dataframe\">\n",
       "  <thead>\n",
       "    <tr style=\"text-align: right;\">\n",
       "      <th></th>\n",
       "      <th>temperature_k</th>\n",
       "      <th>luminosity_l_lo</th>\n",
       "      <th>radius_r_ro</th>\n",
       "      <th>absolute_magnitude_mv</th>\n",
       "      <th>star_type</th>\n",
       "      <th>star_color</th>\n",
       "    </tr>\n",
       "  </thead>\n",
       "  <tbody>\n",
       "    <tr>\n",
       "      <th>0</th>\n",
       "      <td>3068</td>\n",
       "      <td>0.0024</td>\n",
       "      <td>0.1700</td>\n",
       "      <td>16.12</td>\n",
       "      <td>0</td>\n",
       "      <td>red</td>\n",
       "    </tr>\n",
       "    <tr>\n",
       "      <th>1</th>\n",
       "      <td>3042</td>\n",
       "      <td>0.0005</td>\n",
       "      <td>0.1542</td>\n",
       "      <td>16.60</td>\n",
       "      <td>0</td>\n",
       "      <td>red</td>\n",
       "    </tr>\n",
       "  </tbody>\n",
       "</table>\n",
       "</div>"
      ],
      "text/plain": [
       "   temperature_k  luminosity_l_lo  radius_r_ro  absolute_magnitude_mv  \\\n",
       "0           3068           0.0024       0.1700                  16.12   \n",
       "1           3042           0.0005       0.1542                  16.60   \n",
       "\n",
       "   star_type star_color  \n",
       "0          0        red  \n",
       "1          0        red  "
      ]
     },
     "execution_count": 16,
     "metadata": {},
     "output_type": "execute_result"
    }
   ],
   "source": [
    "df = df.drop(['un_named_0'], axis=1)\n",
    "df.head(2)"
   ]
  },
  {
   "cell_type": "markdown",
   "id": "c55fcf26",
   "metadata": {},
   "source": [
    "Удалил ненужный столбец \"Unnamed: 0\""
   ]
  },
  {
   "cell_type": "markdown",
   "id": "2fd61795",
   "metadata": {},
   "source": [
    "### 2.7 Кодирование категориальных признаков"
   ]
  },
  {
   "cell_type": "code",
   "execution_count": 17,
   "id": "eb252d90",
   "metadata": {},
   "outputs": [
    {
     "data": {
      "text/html": [
       "<div>\n",
       "<style scoped>\n",
       "    .dataframe tbody tr th:only-of-type {\n",
       "        vertical-align: middle;\n",
       "    }\n",
       "\n",
       "    .dataframe tbody tr th {\n",
       "        vertical-align: top;\n",
       "    }\n",
       "\n",
       "    .dataframe thead th {\n",
       "        text-align: right;\n",
       "    }\n",
       "</style>\n",
       "<table border=\"1\" class=\"dataframe\">\n",
       "  <thead>\n",
       "    <tr style=\"text-align: right;\">\n",
       "      <th></th>\n",
       "      <th>temperature_k</th>\n",
       "      <th>luminosity_l_lo</th>\n",
       "      <th>radius_r_ro</th>\n",
       "      <th>absolute_magnitude_mv</th>\n",
       "      <th>star_color_blue_white</th>\n",
       "      <th>star_color_orange</th>\n",
       "      <th>star_color_orange_red</th>\n",
       "      <th>star_color_pale_yellow_orange</th>\n",
       "      <th>star_color_red</th>\n",
       "      <th>star_color_white</th>\n",
       "      <th>star_color_whitish</th>\n",
       "      <th>star_color_yellow_white</th>\n",
       "      <th>star_type_1</th>\n",
       "      <th>star_type_2</th>\n",
       "      <th>star_type_3</th>\n",
       "      <th>star_type_4</th>\n",
       "      <th>star_type_5</th>\n",
       "    </tr>\n",
       "  </thead>\n",
       "  <tbody>\n",
       "    <tr>\n",
       "      <th>0</th>\n",
       "      <td>3068</td>\n",
       "      <td>0.0024</td>\n",
       "      <td>0.1700</td>\n",
       "      <td>16.12</td>\n",
       "      <td>0</td>\n",
       "      <td>0</td>\n",
       "      <td>0</td>\n",
       "      <td>0</td>\n",
       "      <td>1</td>\n",
       "      <td>0</td>\n",
       "      <td>0</td>\n",
       "      <td>0</td>\n",
       "      <td>0</td>\n",
       "      <td>0</td>\n",
       "      <td>0</td>\n",
       "      <td>0</td>\n",
       "      <td>0</td>\n",
       "    </tr>\n",
       "    <tr>\n",
       "      <th>1</th>\n",
       "      <td>3042</td>\n",
       "      <td>0.0005</td>\n",
       "      <td>0.1542</td>\n",
       "      <td>16.60</td>\n",
       "      <td>0</td>\n",
       "      <td>0</td>\n",
       "      <td>0</td>\n",
       "      <td>0</td>\n",
       "      <td>1</td>\n",
       "      <td>0</td>\n",
       "      <td>0</td>\n",
       "      <td>0</td>\n",
       "      <td>0</td>\n",
       "      <td>0</td>\n",
       "      <td>0</td>\n",
       "      <td>0</td>\n",
       "      <td>0</td>\n",
       "    </tr>\n",
       "  </tbody>\n",
       "</table>\n",
       "</div>"
      ],
      "text/plain": [
       "   temperature_k  luminosity_l_lo  radius_r_ro  absolute_magnitude_mv  \\\n",
       "0           3068           0.0024       0.1700                  16.12   \n",
       "1           3042           0.0005       0.1542                  16.60   \n",
       "\n",
       "   star_color_blue_white  star_color_orange  star_color_orange_red  \\\n",
       "0                      0                  0                      0   \n",
       "1                      0                  0                      0   \n",
       "\n",
       "   star_color_pale_yellow_orange  star_color_red  star_color_white  \\\n",
       "0                              0               1                 0   \n",
       "1                              0               1                 0   \n",
       "\n",
       "   star_color_whitish  star_color_yellow_white  star_type_1  star_type_2  \\\n",
       "0                   0                        0            0            0   \n",
       "1                   0                        0            0            0   \n",
       "\n",
       "   star_type_3  star_type_4  star_type_5  \n",
       "0            0            0            0  \n",
       "1            0            0            0  "
      ]
     },
     "execution_count": 17,
     "metadata": {},
     "output_type": "execute_result"
    }
   ],
   "source": [
    "df = pd.get_dummies(df, columns=['star_color', 'star_type'], drop_first=True)\n",
    "df.head(2)"
   ]
  },
  {
   "cell_type": "markdown",
   "id": "03faf9db",
   "metadata": {},
   "source": [
    "Кодировали категориальные признаки с помощью pd.get_dummies"
   ]
  },
  {
   "cell_type": "markdown",
   "id": "3e915833",
   "metadata": {},
   "source": [
    "### 2.8 Разбиение признаков"
   ]
  },
  {
   "cell_type": "code",
   "execution_count": 18,
   "id": "flush-dream",
   "metadata": {},
   "outputs": [],
   "source": [
    "target_df = df['temperature_k']\n",
    "features_df = df.drop('temperature_k', axis=1)\n",
    "\n",
    "features_train_df, features_valid_df, target_train_df, target_valid_df = train_test_split(\n",
    "    features_df.copy(), target_df.copy(), test_size=0.25, shuffle=True, random_state=69)"
   ]
  },
  {
   "cell_type": "markdown",
   "id": "ffe45b2a",
   "metadata": {},
   "source": [
    "Разбили Data Frame в соотношении 75 / 25."
   ]
  },
  {
   "cell_type": "markdown",
   "id": "3faec3e4",
   "metadata": {},
   "source": [
    "### 2.9 Масштабирование количественных признаков"
   ]
  },
  {
   "cell_type": "code",
   "execution_count": 19,
   "id": "341524f4",
   "metadata": {},
   "outputs": [],
   "source": [
    "num_col = ['luminosity_l_lo', \n",
    "           'radius_r_ro', \n",
    "           'absolute_magnitude_mv'\n",
    "           ]\n",
    "\n",
    "\n",
    "scaler = StandardScaler()\n",
    "scaler.fit(features_train_df[num_col]) \n",
    "\n",
    "features_train_df[num_col] = scaler.transform(features_train_df[num_col])\n",
    "features_valid_df[num_col] = scaler.transform(features_valid_df[num_col])\n"
   ]
  },
  {
   "cell_type": "code",
   "execution_count": 20,
   "id": "03c828b6",
   "metadata": {
    "scrolled": true
   },
   "outputs": [
    {
     "data": {
      "text/html": [
       "<div>\n",
       "<style scoped>\n",
       "    .dataframe tbody tr th:only-of-type {\n",
       "        vertical-align: middle;\n",
       "    }\n",
       "\n",
       "    .dataframe tbody tr th {\n",
       "        vertical-align: top;\n",
       "    }\n",
       "\n",
       "    .dataframe thead th {\n",
       "        text-align: right;\n",
       "    }\n",
       "</style>\n",
       "<table border=\"1\" class=\"dataframe\">\n",
       "  <thead>\n",
       "    <tr style=\"text-align: right;\">\n",
       "      <th></th>\n",
       "      <th>luminosity_l_lo</th>\n",
       "      <th>radius_r_ro</th>\n",
       "      <th>absolute_magnitude_mv</th>\n",
       "      <th>star_color_blue_white</th>\n",
       "      <th>star_color_orange</th>\n",
       "      <th>star_color_orange_red</th>\n",
       "      <th>star_color_pale_yellow_orange</th>\n",
       "      <th>star_color_red</th>\n",
       "      <th>star_color_white</th>\n",
       "      <th>star_color_whitish</th>\n",
       "      <th>star_color_yellow_white</th>\n",
       "      <th>star_type_1</th>\n",
       "      <th>star_type_2</th>\n",
       "      <th>star_type_3</th>\n",
       "      <th>star_type_4</th>\n",
       "      <th>star_type_5</th>\n",
       "    </tr>\n",
       "  </thead>\n",
       "  <tbody>\n",
       "    <tr>\n",
       "      <th>125</th>\n",
       "      <td>-0.609825</td>\n",
       "      <td>-0.461207</td>\n",
       "      <td>1.472190</td>\n",
       "      <td>0</td>\n",
       "      <td>0</td>\n",
       "      <td>0</td>\n",
       "      <td>0</td>\n",
       "      <td>1</td>\n",
       "      <td>0</td>\n",
       "      <td>0</td>\n",
       "      <td>0</td>\n",
       "      <td>0</td>\n",
       "      <td>0</td>\n",
       "      <td>0</td>\n",
       "      <td>0</td>\n",
       "      <td>0</td>\n",
       "    </tr>\n",
       "    <tr>\n",
       "      <th>194</th>\n",
       "      <td>-0.609825</td>\n",
       "      <td>-0.460835</td>\n",
       "      <td>0.789068</td>\n",
       "      <td>0</td>\n",
       "      <td>0</td>\n",
       "      <td>0</td>\n",
       "      <td>0</td>\n",
       "      <td>1</td>\n",
       "      <td>0</td>\n",
       "      <td>0</td>\n",
       "      <td>0</td>\n",
       "      <td>1</td>\n",
       "      <td>0</td>\n",
       "      <td>0</td>\n",
       "      <td>0</td>\n",
       "      <td>0</td>\n",
       "    </tr>\n",
       "  </tbody>\n",
       "</table>\n",
       "</div>"
      ],
      "text/plain": [
       "     luminosity_l_lo  radius_r_ro  absolute_magnitude_mv  \\\n",
       "125        -0.609825    -0.461207               1.472190   \n",
       "194        -0.609825    -0.460835               0.789068   \n",
       "\n",
       "     star_color_blue_white  star_color_orange  star_color_orange_red  \\\n",
       "125                      0                  0                      0   \n",
       "194                      0                  0                      0   \n",
       "\n",
       "     star_color_pale_yellow_orange  star_color_red  star_color_white  \\\n",
       "125                              0               1                 0   \n",
       "194                              0               1                 0   \n",
       "\n",
       "     star_color_whitish  star_color_yellow_white  star_type_1  star_type_2  \\\n",
       "125                   0                        0            0            0   \n",
       "194                   0                        0            1            0   \n",
       "\n",
       "     star_type_3  star_type_4  star_type_5  \n",
       "125            0            0            0  \n",
       "194            0            0            0  "
      ]
     },
     "execution_count": 20,
     "metadata": {},
     "output_type": "execute_result"
    }
   ],
   "source": [
    "features_valid_df.head(2)  # Проверяем работу кода"
   ]
  },
  {
   "cell_type": "markdown",
   "id": "73af1de2",
   "metadata": {},
   "source": [
    "Масштабировали количественные признаки при помощи StandardScaler"
   ]
  },
  {
   "cell_type": "markdown",
   "id": "funded-electric",
   "metadata": {},
   "source": [
    "## 3 Построение базовой нейронной сети"
   ]
  },
  {
   "cell_type": "markdown",
   "id": "ff357053",
   "metadata": {},
   "source": [
    "### 3.1 Переводим признаки в torch"
   ]
  },
  {
   "cell_type": "code",
   "execution_count": 34,
   "id": "87f9b9fe",
   "metadata": {},
   "outputs": [],
   "source": [
    "X_train_df = torch.FloatTensor(features_train_df.values)\n",
    "X_test_df = torch.FloatTensor(features_valid_df.values)\n",
    "y_train_df = torch.FloatTensor(target_train_df.values)\n",
    "y_test_df = torch.FloatTensor(target_valid_df.values)"
   ]
  },
  {
   "cell_type": "markdown",
   "id": "6e3fa71f",
   "metadata": {},
   "source": [
    "Переводим признаки в тип torch"
   ]
  },
  {
   "cell_type": "code",
   "execution_count": 22,
   "id": "9d387ed5",
   "metadata": {},
   "outputs": [],
   "source": [
    "random.seed(0)\n",
    "np.random.seed(0)\n",
    "torch.manual_seed(0)\n",
    "torch.use_deterministic_algorithms(True)      \n",
    "\n",
    "\n",
    "n_in_neurons = 16\n",
    "n_hidden_neurons_1 = 14\n",
    "n_hidden_neurons_2 = 8\n",
    "n_out_neurons = 1"
   ]
  },
  {
   "cell_type": "markdown",
   "id": "9de695a1",
   "metadata": {},
   "source": [
    "Первые 4 строки в ячейке выше, делают наш код повторяемым выдавая одни и те же числа. 4 последние строки - кол-во наших нейронов, 16 нейронов - кол-во наших признаков на входе, 14 и 8 - случайное кол-во нейронов в скрытых слоях и 1 нейрон на выходе, т к задача регрессии в которой нужно предсказать одно число - температуру."
   ]
  },
  {
   "cell_type": "code",
   "execution_count": 23,
   "id": "f71737e5",
   "metadata": {},
   "outputs": [],
   "source": [
    "class Net(nn.Module):\n",
    "    def __init__(self, n_in_neurons, n_hidden_neurons_1, n_hidden_neurons_2, n_out_neurons, dropout=0.1):\n",
    "        super(Net, self).__init__()\n",
    "\n",
    "        self.fc1 = nn.Linear(16, 14)\n",
    "        self.act1 = nn.ReLU()\n",
    "        self.dropout = nn.Dropout(dropout)\n",
    "        \n",
    "        self.fc2 = nn.Linear(14, 8)\n",
    "        self.act2 = nn.ReLU()\n",
    "        self.dropout = nn.Dropout(dropout)\n",
    "\n",
    "        self.fc3 = nn.Linear(8, 1)\n",
    "        \n",
    "\n",
    "    def forward(self, x):\n",
    "        x = self.fc1(x)\n",
    "        x = self.act1(x)\n",
    "        x = self.fc2(x)\n",
    "        x = self.act2(x)\n",
    "        x = self.fc3(x)\n",
    "\n",
    "        return x\n"
   ]
  },
  {
   "cell_type": "code",
   "execution_count": 24,
   "id": "87e8e918",
   "metadata": {},
   "outputs": [],
   "source": [
    "class RMSELoss(torch.nn.Module):\n",
    "    def __init__(self):\n",
    "        super(RMSELoss,self).__init__()\n",
    "\n",
    "    def forward(self,x,y):\n",
    "        criterion = nn.MSELoss()\n",
    "        loss = torch.sqrt(criterion(x, y))\n",
    "        return loss"
   ]
  },
  {
   "cell_type": "markdown",
   "id": "e391314a",
   "metadata": {},
   "source": [
    "Создём класс, в котором считается RMSE"
   ]
  },
  {
   "cell_type": "code",
   "execution_count": 25,
   "id": "d885c372",
   "metadata": {},
   "outputs": [],
   "source": [
    "net = Net(n_in_neurons, n_hidden_neurons_1, n_hidden_neurons_2, n_out_neurons)\n",
    "\n",
    "optimizer = torch.optim.Adam(net.parameters(), lr=1e-3)\n",
    "\n",
    "loss = RMSELoss()       # В качестве функции потерь используем RMSE\n",
    "\n",
    "num_epochs = 6000"
   ]
  },
  {
   "cell_type": "code",
   "execution_count": 26,
   "id": "940de32e",
   "metadata": {
    "scrolled": true
   },
   "outputs": [
    {
     "name": "stdout",
     "output_type": "stream",
     "text": [
      "------------------------------------------------------------\n",
      "epoch 0, На обучающих данных loss 13711.4541015625\n",
      "epoch 0, На тестовых данных loss 15498.875\n",
      "------------------------------------------------------------\n",
      "epoch 500, На обучающих данных loss 13602.212890625\n",
      "epoch 500, На тестовых данных loss 15386.875\n",
      "------------------------------------------------------------\n",
      "epoch 1000, На обучающих данных loss 12885.1279296875\n",
      "epoch 1000, На тестовых данных loss 14639.5615234375\n",
      "------------------------------------------------------------\n",
      "epoch 1500, На обучающих данных loss 11398.9580078125\n",
      "epoch 1500, На тестовых данных loss 13026.6552734375\n",
      "------------------------------------------------------------\n",
      "epoch 2000, На обучающих данных loss 9568.2861328125\n",
      "epoch 2000, На тестовых данных loss 10854.998046875\n",
      "------------------------------------------------------------\n",
      "epoch 2500, На обучающих данных loss 8180.19873046875\n",
      "epoch 2500, На тестовых данных loss 8880.9990234375\n",
      "------------------------------------------------------------\n",
      "epoch 3000, На обучающих данных loss 7548.49609375\n",
      "epoch 3000, На тестовых данных loss 7839.4609375\n",
      "------------------------------------------------------------\n",
      "epoch 3500, На обучающих данных loss 7236.0185546875\n",
      "epoch 3500, На тестовых данных loss 7450.23828125\n",
      "------------------------------------------------------------\n",
      "epoch 4000, На обучающих данных loss 7007.65673828125\n",
      "epoch 4000, На тестовых данных loss 7264.9609375\n",
      "------------------------------------------------------------\n",
      "epoch 4500, На обучающих данных loss 6805.48974609375\n",
      "epoch 4500, На тестовых данных loss 7140.23095703125\n",
      "------------------------------------------------------------\n",
      "epoch 5000, На обучающих данных loss 6612.00927734375\n",
      "epoch 5000, На тестовых данных loss 7045.1953125\n",
      "------------------------------------------------------------\n",
      "epoch 5500, На обучающих данных loss 6411.88671875\n",
      "epoch 5500, На тестовых данных loss 6930.42724609375\n",
      "------------------------------------------------------------\n",
      "epoch 5999, На обучающих данных loss 6188.1279296875\n",
      "epoch 5999, На тестовых данных loss 6778.5732421875\n"
     ]
    }
   ],
   "source": [
    "for epoch in range(num_epochs):\n",
    "    optimizer.zero_grad()\n",
    "\n",
    "    preds = net.forward(X_train_df).flatten()\n",
    "\n",
    "    loss_value = loss(preds, y_train_df)\n",
    "\n",
    "    loss_value.backward()\n",
    "\n",
    "    optimizer.step()\n",
    "    \n",
    "        \n",
    "    if epoch % 500 == 0 or epoch == num_epochs - 1:\n",
    "        print('-' * 60)\n",
    "        print('epoch {}, На обучающих данных loss {}'.format(epoch, loss_value.data))\n",
    "  \n",
    "    if epoch % 500 == 0 or epoch == num_epochs - 1:\n",
    "        net.eval()\n",
    "        test_preds = net.forward(X_test_df).flatten()\n",
    "        rmse = loss(test_preds, y_test_df)\n",
    "        \n",
    "        \n",
    "        print('epoch {}, На тестовых данных loss {}'.format(epoch, rmse.data))"
   ]
  },
  {
   "cell_type": "markdown",
   "id": "73068dd4",
   "metadata": {},
   "source": [
    "Как видно из эпох на обучающих и тестовых данных, переобучения и недообучения нет."
   ]
  },
  {
   "cell_type": "code",
   "execution_count": 27,
   "id": "579eee49",
   "metadata": {},
   "outputs": [],
   "source": [
    "one_df = pd.DataFrame(df_copy['temperature_k'].iloc[target_valid_df.index]).reset_index(drop=True)\n",
    "tree_df = pd.DataFrame(df_copy['un_named_0'].iloc[target_valid_df.index]).reset_index(drop=True)\n",
    "two_df = pd.DataFrame(test_preds.detach().numpy(), columns = ['predict_temperature_k'])"
   ]
  },
  {
   "cell_type": "markdown",
   "id": "1dbb970f",
   "metadata": {},
   "source": [
    "Берем ранее скопированный Data Frame со столбцом temperature_k и находим к нему индексы в target_valid_df и делаем reset_index для последующего объединения с предсказанными. Столбец un_named_0 нам нужен для того, чтобы знать порядковый номер звёзд в изначальном Data Frame."
   ]
  },
  {
   "cell_type": "code",
   "execution_count": 28,
   "id": "34ef8844",
   "metadata": {},
   "outputs": [
    {
     "data": {
      "text/html": [
       "<div>\n",
       "<style scoped>\n",
       "    .dataframe tbody tr th:only-of-type {\n",
       "        vertical-align: middle;\n",
       "    }\n",
       "\n",
       "    .dataframe tbody tr th {\n",
       "        vertical-align: top;\n",
       "    }\n",
       "\n",
       "    .dataframe thead th {\n",
       "        text-align: right;\n",
       "    }\n",
       "</style>\n",
       "<table border=\"1\" class=\"dataframe\">\n",
       "  <thead>\n",
       "    <tr style=\"text-align: right;\">\n",
       "      <th></th>\n",
       "      <th>un_named_0</th>\n",
       "      <th>temperature_k</th>\n",
       "      <th>predict_temperature_k</th>\n",
       "    </tr>\n",
       "  </thead>\n",
       "  <tbody>\n",
       "    <tr>\n",
       "      <th>37</th>\n",
       "      <td>6</td>\n",
       "      <td>2637</td>\n",
       "      <td>2374.815918</td>\n",
       "    </tr>\n",
       "    <tr>\n",
       "      <th>18</th>\n",
       "      <td>8</td>\n",
       "      <td>2650</td>\n",
       "      <td>2370.227295</td>\n",
       "    </tr>\n",
       "    <tr>\n",
       "      <th>12</th>\n",
       "      <td>10</td>\n",
       "      <td>3600</td>\n",
       "      <td>3270.832764</td>\n",
       "    </tr>\n",
       "    <tr>\n",
       "      <th>16</th>\n",
       "      <td>13</td>\n",
       "      <td>3628</td>\n",
       "      <td>3282.279541</td>\n",
       "    </tr>\n",
       "    <tr>\n",
       "      <th>36</th>\n",
       "      <td>15</td>\n",
       "      <td>3340</td>\n",
       "      <td>3191.309814</td>\n",
       "    </tr>\n",
       "  </tbody>\n",
       "</table>\n",
       "</div>"
      ],
      "text/plain": [
       "    un_named_0  temperature_k  predict_temperature_k\n",
       "37           6           2637            2374.815918\n",
       "18           8           2650            2370.227295\n",
       "12          10           3600            3270.832764\n",
       "16          13           3628            3282.279541\n",
       "36          15           3340            3191.309814"
      ]
     },
     "execution_count": 28,
     "metadata": {},
     "output_type": "execute_result"
    }
   ],
   "source": [
    "df_pred_temper = pd.concat([tree_df, one_df, two_df], axis=1)          # Объединяем три Data Frame \n",
    "df_pred_temper.sort_values(by='un_named_0').head()"
   ]
  },
  {
   "cell_type": "markdown",
   "id": "44b6a8a3",
   "metadata": {},
   "source": [
    "В df_pred_temper в столбце un_named_0 содержатся старые индексы."
   ]
  },
  {
   "cell_type": "code",
   "execution_count": 29,
   "id": "164b10d6",
   "metadata": {},
   "outputs": [],
   "source": [
    "df_pred_temper['sequence_number'] = np.arange(df_pred_temper.shape[0])"
   ]
  },
  {
   "cell_type": "markdown",
   "id": "a88e0882",
   "metadata": {},
   "source": [
    "Сделали порядковый номер строк, для построения графика, т к если строить график по начальным индексам, график становится не читабельным, поэтому добавляем новый столбец \"sequence_number\""
   ]
  },
  {
   "cell_type": "code",
   "execution_count": 30,
   "id": "bf2d9198",
   "metadata": {
    "scrolled": true
   },
   "outputs": [
    {
     "data": {
      "image/png": "[encoded data removed]",
      "text/plain": [
       "<Figure size 1296x432 with 1 Axes>"
      ]
     },
     "metadata": {},
     "output_type": "display_data"
    }
   ],
   "source": [
    "np.random.seed(0)\n",
    "\n",
    "x = df_pred_temper.sequence_number\n",
    "y1 = df_pred_temper.temperature_k\n",
    "y2 = df_pred_temper.predict_temperature_k\n",
    "\n",
    "fig, ax = plt.subplots()\n",
    "\n",
    "ax.bar(x, y1, color = 'SteelBlue', width = 0.5)   \n",
    "ax.bar(x, y2, color = 'Chocolate', alpha=0.5)\n",
    "\n",
    "fig.set_figwidth(18)    \n",
    "fig.set_figheight(6)  \n",
    "fig.set_facecolor('Honeydew')\n",
    "ax.set_facecolor('seashell')\n",
    "ax.set_xlabel('Номер звезды в таблице данных', fontsize = 15, labelpad=18)\n",
    "ax.set_ylabel('Температура звезды', fontsize = 15, labelpad=18)\n",
    "plt.title('График «Факт — Прогноз»', fontsize=20,  y= 1.1)\n",
    "\n",
    "fact = mpatches.Patch(color='SteelBlue', label='Факт')\n",
    "forecast = mpatches.Patch(color='Chocolate', label='Прогноз')\n",
    "plt.legend(handles=[fact, forecast])\n",
    "\n",
    "plt.show()"
   ]
  },
  {
   "cell_type": "markdown",
   "id": "d3639d22",
   "metadata": {},
   "source": [
    "Из графика можно сделать вывод, что некоторые звезды (температура звезд) практически совпадают с известными температурами этих звезд, есть небольшая погрешность, но есть и звезды (температура звезд) которые очень разнятся с реальной температурой звезды. Будем улучшать результат на следующем шаге."
   ]
  },
  {
   "cell_type": "markdown",
   "id": "growing-supply",
   "metadata": {},
   "source": [
    "## 4 Улучшение нейронной сети"
   ]
  },
  {
   "cell_type": "code",
   "execution_count": 31,
   "id": "b805d838",
   "metadata": {},
   "outputs": [],
   "source": [
    "X_trf = X_train_df\n",
    "y_trf = y_train_df.reshape(-1, 1)"
   ]
  },
  {
   "cell_type": "markdown",
   "id": "371b71a2",
   "metadata": {},
   "source": [
    "Переводим target в 2-d массив"
   ]
  },
  {
   "cell_type": "code",
   "execution_count": 35,
   "id": "61843e90",
   "metadata": {},
   "outputs": [],
   "source": [
    "class Regressor(nn.Module):\n",
    "    def __init__(self):\n",
    "        super(Regressor, self).__init__()\n",
    "\n",
    "        self.fc1 = nn.Linear(16, 14)\n",
    "#        self.dp1 = nn.Dropout(p)\n",
    "        \n",
    "        self.fc2 = nn.Linear(14, 10)\n",
    "#        self.dp2 = nn.Dropout(p)\n",
    "        \n",
    "        self.fc3 = nn.Linear(10, 6)\n",
    "#        self.dp3 = nn.Dropout(p)\n",
    "        \n",
    "        self.fc4 = nn.Linear(6, 4)\n",
    "#        self.dp4 = nn.Dropout(p)\n",
    "\n",
    "        self.fc5 = nn.Linear(4, 1)\n",
    "\n",
    "    def forward(self, x):\n",
    "        x = F.relu(self.fc1(x))\n",
    "#        x = self.dp1(x)\n",
    "\n",
    "        x = F.relu(self.fc2(x))\n",
    "#        x = self.dp2(x)\n",
    "        \n",
    "        x = F.relu(self.fc3(x))\n",
    "#        x = self.dp3(x)\n",
    "        \n",
    "        x = F.relu(self.fc4(x))\n",
    "#        x = self.dp4(x)\n",
    "        \n",
    "        \n",
    "        return self.fc5(x)\n",
    "\n",
    "        \n",
    "skorch_regressor = NeuralNetRegressor(module=Regressor, verbose=0)"
   ]
  },
  {
   "cell_type": "markdown",
   "id": "fa184bf0",
   "metadata": {},
   "source": [
    "Добавляем еще скрытый слой, без Dropout, т к он в нашем случае вредит обучению, а именно, ухутшается метрика"
   ]
  },
  {
   "cell_type": "code",
   "execution_count": 36,
   "id": "43ba9236",
   "metadata": {},
   "outputs": [
    {
     "name": "stdout",
     "output_type": "stream",
     "text": [
      "CPU times: user 22.9 s, sys: 1.2 s, total: 24.1 s\n",
      "Wall time: 24.5 s\n"
     ]
    },
    {
     "data": {
      "text/plain": [
       "GridSearchCV(cv=3,\n",
       "             estimator=<class 'skorch.regressor.NeuralNetRegressor'>[uninitialized](\n",
       "  module=<class '__main__.Regressor'>,\n",
       "),\n",
       "             param_grid={'lr': [0.01, 0.02], 'max_epochs': [100, 300],\n",
       "                         'optimizer': [<class 'torch.optim.adam.Adam'>,\n",
       "                                       <class 'torch.optim.rmsprop.RMSprop'>]},\n",
       "             scoring='neg_mean_squared_error')"
      ]
     },
     "execution_count": 36,
     "metadata": {},
     "output_type": "execute_result"
    }
   ],
   "source": [
    "%%time\n",
    "params = {\n",
    "    \"lr\": [0.01, 0.02],\n",
    "    \"max_epochs\": [100, 300],\n",
    "    'optimizer': [optim.Adam, optim.RMSprop]\n",
    "}\n",
    "\n",
    "grid = GridSearchCV(skorch_regressor, params, scoring='neg_mean_squared_error', cv=3)\n",
    "\n",
    "grid.fit(X_trf, y_trf)"
   ]
  },
  {
   "cell_type": "markdown",
   "id": "1dc9836e",
   "metadata": {},
   "source": [
    "Перебираем гиперпараметры с помощью сетки и GridSearchCV, в качестве scoring, выбираем MSE"
   ]
  },
  {
   "cell_type": "code",
   "execution_count": 37,
   "id": "d3230d81",
   "metadata": {},
   "outputs": [
    {
     "data": {
      "text/plain": [
       "{'lr': 0.02, 'max_epochs': 300, 'optimizer': torch.optim.rmsprop.RMSprop}"
      ]
     },
     "execution_count": 37,
     "metadata": {},
     "output_type": "execute_result"
    }
   ],
   "source": [
    "grid.best_params_"
   ]
  },
  {
   "cell_type": "markdown",
   "id": "c0207a30",
   "metadata": {},
   "source": [
    "Лучшие гиперпараметры"
   ]
  },
  {
   "cell_type": "code",
   "execution_count": null,
   "id": "2e1e0946",
   "metadata": {},
   "outputs": [],
   "source": [
    "skorch_regressor = NeuralNetRegressor(module=Regressor, \n",
    "                                      lr=0.01,\n",
    "                                      optimizer=optim.Adam, \n",
    "                                      max_epochs=450, \n",
    "                                      optimizer__weight_decay=0.1,\n",
    "                                      train_split=skorch.dataset.ValidSplit(5),\n",
    "                                      verbose=0\n",
    "                                     )"
   ]
  },
  {
   "cell_type": "markdown",
   "id": "b7503940",
   "metadata": {},
   "source": [
    "Подставляем в нашу модель лучшие гиперпараметры. train_split=skorch.dataset.ValidSplit(5) - позволяет нам не делать валидационную выбороку."
   ]
  },
  {
   "cell_type": "code",
   "execution_count": null,
   "id": "cf437bb0",
   "metadata": {},
   "outputs": [],
   "source": [
    "skorch_regressor.fit(X_trf, y_trf)"
   ]
  },
  {
   "cell_type": "markdown",
   "id": "64acec4f",
   "metadata": {},
   "source": [
    "Обучаем модель"
   ]
  },
  {
   "cell_type": "code",
   "execution_count": null,
   "id": "9a5db224",
   "metadata": {},
   "outputs": [],
   "source": [
    "print(\"Train RMSE : {}\".format(mean_squared_error(y_train_df, skorch_regressor.predict(X_train_df).reshape(-1))**0.5))\n",
    "print(\"Test  RMSE : {}\".format(mean_squared_error(y_test_df, skorch_regressor.predict(X_test_df).reshape(-1))**0.5))"
   ]
  },
  {
   "cell_type": "markdown",
   "id": "f246e8bf",
   "metadata": {},
   "source": [
    "Делаем предсказания на обучающей и тестовой выборке"
   ]
  },
  {
   "cell_type": "markdown",
   "id": "accurate-infrastructure",
   "metadata": {},
   "source": [
    "## 5 Выводы"
   ]
  },
  {
   "cell_type": "markdown",
   "id": "febad394",
   "metadata": {},
   "source": [
    "В данном проекте использовали нейросеть для определения температуры на поверхности обнаруженных звёзд, исходя из существующих данных. В нашем Data Frame 240 строк, 7 столбцов, значений NaN нет. Типы столбцов : int - 3 столбца, float - 3 столбца и object - столбец. \n",
    "\n",
    "    Проделанные работы над нашим Data Frame: \n",
    "        - Переименовали столбцы.\n",
    "        - Проверили Data Frame на дубликаты.\n",
    "        - Проверили Data Frame на отсутствующие значения.\n",
    "        - Посмотрели распределение данных.\n",
    "        - Удалили ненужные столбцы.\n",
    "        - Кодировали категориальные признаки с помощью pd.get_dummies.\n",
    "        - Разбили признаки на обучающие и тестовые данные.\n",
    "        - Масштабировали колличественные признаки.\n",
    "        - Построили базовую нейронную сеть.\n",
    "        - Улучшили нашу нейронную сеть, приведя метрику RMSE до 4500.\n",
    "        \n",
    "В базовой нейронной сети мы использовали 2 скрытых слоя, в 1 слое 14 нейронов, а во 2 слое 8 нейронов. Использовали функцию активации ReLU. На обучающих данных RMSE = 6188.12 и На тестовых данных RMSE = 6778.57. \n",
    "\n",
    "Для улучшения нашей нейронной сети мы использовали увеличение кол-ва наших скрытых слоев до 4. В 1 слое 14 нейронов, во 2 слое 10 нейронов, в 3 слое 6 нейронов и в 4 - 4 нейрона. Использовали функцию активации ReLU на всех скрытых слоях. Dropout не использовали, т к в нашем случае, он вредил метрике."
   ]
  }
 ],
 "metadata": {
  "ExecuteTimeLog": [
   {
    "duration": 422,
    "start_time": "2022-08-03T11:32:39.181Z"
   },
   {
    "duration": 97,
    "start_time": "2022-08-03T11:33:09.441Z"
   },
   {
    "duration": 69,
    "start_time": "2022-08-03T11:33:58.430Z"
   },
   {
    "duration": 54,
    "start_time": "2022-08-03T11:34:04.982Z"
   },
   {
    "duration": 12,
    "start_time": "2022-08-03T12:37:39.052Z"
   },
   {
    "duration": 1195,
    "start_time": "2022-08-03T13:10:39.236Z"
   },
   {
    "duration": 284,
    "start_time": "2022-08-03T13:10:52.256Z"
   },
   {
    "duration": 3,
    "start_time": "2022-08-03T13:32:45.145Z"
   },
   {
    "duration": 41,
    "start_time": "2022-08-03T13:32:45.153Z"
   },
   {
    "duration": 13,
    "start_time": "2022-08-03T13:32:45.196Z"
   },
   {
    "duration": 47,
    "start_time": "2022-08-03T13:32:45.210Z"
   },
   {
    "duration": 13,
    "start_time": "2022-08-03T13:34:22.063Z"
   },
   {
    "duration": 11,
    "start_time": "2022-08-03T13:35:45.744Z"
   },
   {
    "duration": 28,
    "start_time": "2022-08-03T13:37:20.083Z"
   },
   {
    "duration": 16,
    "start_time": "2022-08-03T13:39:47.240Z"
   },
   {
    "duration": 17,
    "start_time": "2022-08-03T13:39:49.637Z"
   },
   {
    "duration": 14,
    "start_time": "2022-08-03T13:40:10.738Z"
   },
   {
    "duration": 36,
    "start_time": "2022-08-03T13:49:29.234Z"
   },
   {
    "duration": 211,
    "start_time": "2022-08-03T14:04:50.561Z"
   },
   {
    "duration": 76,
    "start_time": "2022-08-03T14:08:52.537Z"
   },
   {
    "duration": 742,
    "start_time": "2022-08-03T14:10:06.637Z"
   },
   {
    "duration": 487,
    "start_time": "2022-08-03T17:41:44.196Z"
   },
   {
    "duration": 112,
    "start_time": "2022-08-03T17:41:44.686Z"
   },
   {
    "duration": 12,
    "start_time": "2022-08-03T17:41:44.800Z"
   },
   {
    "duration": 16,
    "start_time": "2022-08-03T17:41:44.815Z"
   },
   {
    "duration": 12,
    "start_time": "2022-08-03T17:41:44.832Z"
   },
   {
    "duration": 7,
    "start_time": "2022-08-03T17:41:44.845Z"
   },
   {
    "duration": 18,
    "start_time": "2022-08-03T17:41:44.853Z"
   },
   {
    "duration": 24,
    "start_time": "2022-08-03T17:41:44.873Z"
   },
   {
    "duration": 475,
    "start_time": "2022-08-03T17:41:44.898Z"
   },
   {
    "duration": 6,
    "start_time": "2022-08-03T17:49:50.437Z"
   },
   {
    "duration": 127,
    "start_time": "2022-08-03T18:11:17.464Z"
   },
   {
    "duration": 5,
    "start_time": "2022-08-03T18:12:03.926Z"
   },
   {
    "duration": 7,
    "start_time": "2022-08-03T18:12:09.129Z"
   },
   {
    "duration": 4,
    "start_time": "2022-08-03T18:14:04.790Z"
   },
   {
    "duration": 7,
    "start_time": "2022-08-03T18:14:08.586Z"
   },
   {
    "duration": 10,
    "start_time": "2022-08-03T18:18:54.323Z"
   },
   {
    "duration": 6,
    "start_time": "2022-08-03T18:18:56.145Z"
   },
   {
    "duration": 11,
    "start_time": "2022-08-03T18:19:56.371Z"
   },
   {
    "duration": 6,
    "start_time": "2022-08-03T18:19:58.464Z"
   },
   {
    "duration": 542,
    "start_time": "2022-08-03T18:20:29.532Z"
   },
   {
    "duration": 91,
    "start_time": "2022-08-03T18:20:30.076Z"
   },
   {
    "duration": 15,
    "start_time": "2022-08-03T18:20:30.168Z"
   },
   {
    "duration": 14,
    "start_time": "2022-08-03T18:20:30.185Z"
   },
   {
    "duration": 12,
    "start_time": "2022-08-03T18:20:30.201Z"
   },
   {
    "duration": 6,
    "start_time": "2022-08-03T18:20:30.215Z"
   },
   {
    "duration": 7,
    "start_time": "2022-08-03T18:20:30.222Z"
   },
   {
    "duration": 41,
    "start_time": "2022-08-03T18:20:30.230Z"
   },
   {
    "duration": 22,
    "start_time": "2022-08-03T18:20:30.273Z"
   },
   {
    "duration": 12,
    "start_time": "2022-08-03T18:20:30.298Z"
   },
   {
    "duration": 19,
    "start_time": "2022-08-03T18:20:30.311Z"
   },
   {
    "duration": 32,
    "start_time": "2022-08-03T18:20:30.332Z"
   },
   {
    "duration": 433,
    "start_time": "2022-08-03T18:20:30.366Z"
   },
   {
    "duration": 12,
    "start_time": "2022-08-03T18:21:38.387Z"
   },
   {
    "duration": 526,
    "start_time": "2022-08-03T18:26:01.193Z"
   },
   {
    "duration": 90,
    "start_time": "2022-08-03T18:26:01.721Z"
   },
   {
    "duration": 14,
    "start_time": "2022-08-03T18:26:01.813Z"
   },
   {
    "duration": 33,
    "start_time": "2022-08-03T18:26:01.830Z"
   },
   {
    "duration": 26,
    "start_time": "2022-08-03T18:26:01.867Z"
   },
   {
    "duration": 21,
    "start_time": "2022-08-03T18:26:01.895Z"
   },
   {
    "duration": 20,
    "start_time": "2022-08-03T18:26:01.918Z"
   },
   {
    "duration": 45,
    "start_time": "2022-08-03T18:26:01.940Z"
   },
   {
    "duration": 35,
    "start_time": "2022-08-03T18:26:01.987Z"
   },
   {
    "duration": 21,
    "start_time": "2022-08-03T18:26:02.024Z"
   },
   {
    "duration": 21,
    "start_time": "2022-08-03T18:26:02.047Z"
   },
   {
    "duration": 38,
    "start_time": "2022-08-03T18:26:02.070Z"
   },
   {
    "duration": 492,
    "start_time": "2022-08-03T18:26:02.110Z"
   },
   {
    "duration": 3,
    "start_time": "2022-08-03T18:28:51.364Z"
   },
   {
    "duration": 41,
    "start_time": "2022-08-03T18:28:51.369Z"
   },
   {
    "duration": 11,
    "start_time": "2022-08-03T18:28:51.412Z"
   },
   {
    "duration": 13,
    "start_time": "2022-08-03T18:28:51.425Z"
   },
   {
    "duration": 13,
    "start_time": "2022-08-03T18:28:51.440Z"
   },
   {
    "duration": 14,
    "start_time": "2022-08-03T18:28:51.455Z"
   },
   {
    "duration": 4,
    "start_time": "2022-08-03T18:28:51.470Z"
   },
   {
    "duration": 13,
    "start_time": "2022-08-03T18:28:51.476Z"
   },
   {
    "duration": 26,
    "start_time": "2022-08-03T18:28:51.492Z"
   },
   {
    "duration": 22,
    "start_time": "2022-08-03T18:28:51.521Z"
   },
   {
    "duration": 8,
    "start_time": "2022-08-03T18:28:51.546Z"
   },
   {
    "duration": 17,
    "start_time": "2022-08-03T18:28:51.556Z"
   },
   {
    "duration": 30,
    "start_time": "2022-08-03T18:28:51.574Z"
   },
   {
    "duration": 105,
    "start_time": "2022-08-03T18:28:51.606Z"
   },
   {
    "duration": 6,
    "start_time": "2022-08-03T18:37:17.122Z"
   },
   {
    "duration": 130,
    "start_time": "2022-08-03T18:38:01.796Z"
   },
   {
    "duration": 528,
    "start_time": "2022-08-03T19:02:14.048Z"
   },
   {
    "duration": 87,
    "start_time": "2022-08-03T19:02:14.579Z"
   },
   {
    "duration": 13,
    "start_time": "2022-08-03T19:02:14.668Z"
   },
   {
    "duration": 14,
    "start_time": "2022-08-03T19:02:14.682Z"
   },
   {
    "duration": 11,
    "start_time": "2022-08-03T19:02:14.698Z"
   },
   {
    "duration": 5,
    "start_time": "2022-08-03T19:02:14.711Z"
   },
   {
    "duration": 5,
    "start_time": "2022-08-03T19:02:14.717Z"
   },
   {
    "duration": 45,
    "start_time": "2022-08-03T19:02:14.723Z"
   },
   {
    "duration": 7,
    "start_time": "2022-08-03T19:02:14.770Z"
   },
   {
    "duration": 26,
    "start_time": "2022-08-03T19:02:14.779Z"
   },
   {
    "duration": 14,
    "start_time": "2022-08-03T19:02:14.807Z"
   },
   {
    "duration": 23,
    "start_time": "2022-08-03T19:02:14.822Z"
   },
   {
    "duration": 31,
    "start_time": "2022-08-03T19:02:14.847Z"
   },
   {
    "duration": 419,
    "start_time": "2022-08-03T19:02:14.880Z"
   },
   {
    "duration": 24,
    "start_time": "2022-08-03T19:02:15.300Z"
   },
   {
    "duration": 142,
    "start_time": "2022-08-03T19:13:23.837Z"
   },
   {
    "duration": 734,
    "start_time": "2022-08-03T19:13:49.533Z"
   },
   {
    "duration": 10,
    "start_time": "2022-08-03T19:13:53.625Z"
   },
   {
    "duration": 18,
    "start_time": "2022-08-03T19:14:09.145Z"
   },
   {
    "duration": 7,
    "start_time": "2022-08-03T19:14:17.565Z"
   },
   {
    "duration": 34,
    "start_time": "2022-08-03T19:14:31.759Z"
   },
   {
    "duration": 1178,
    "start_time": "2022-08-03T20:06:00.829Z"
   },
   {
    "duration": 46,
    "start_time": "2022-08-03T20:06:02.009Z"
   },
   {
    "duration": 13,
    "start_time": "2022-08-03T20:06:02.057Z"
   },
   {
    "duration": 50,
    "start_time": "2022-08-03T20:06:02.072Z"
   },
   {
    "duration": 26,
    "start_time": "2022-08-03T20:06:02.124Z"
   },
   {
    "duration": 24,
    "start_time": "2022-08-03T20:06:02.152Z"
   },
   {
    "duration": 15,
    "start_time": "2022-08-03T20:06:02.178Z"
   },
   {
    "duration": 55,
    "start_time": "2022-08-03T20:06:02.195Z"
   },
   {
    "duration": 80,
    "start_time": "2022-08-03T20:06:02.252Z"
   },
   {
    "duration": 33,
    "start_time": "2022-08-03T20:06:02.334Z"
   },
   {
    "duration": 69,
    "start_time": "2022-08-03T20:06:02.369Z"
   },
   {
    "duration": 44,
    "start_time": "2022-08-03T20:06:02.440Z"
   },
   {
    "duration": 79,
    "start_time": "2022-08-03T20:06:02.486Z"
   },
   {
    "duration": 2250,
    "start_time": "2022-08-03T20:06:02.568Z"
   },
   {
    "duration": 16,
    "start_time": "2022-08-03T20:06:04.820Z"
   },
   {
    "duration": 57,
    "start_time": "2022-08-03T20:06:04.838Z"
   },
   {
    "duration": 3,
    "start_time": "2022-08-03T20:07:44.178Z"
   },
   {
    "duration": 160,
    "start_time": "2022-08-03T20:11:34.325Z"
   },
   {
    "duration": 15,
    "start_time": "2022-08-03T20:11:52.832Z"
   },
   {
    "duration": 20,
    "start_time": "2022-08-03T20:11:56.728Z"
   },
   {
    "duration": 1214,
    "start_time": "2022-08-03T20:12:51.978Z"
   },
   {
    "duration": 48,
    "start_time": "2022-08-03T20:12:53.194Z"
   },
   {
    "duration": 12,
    "start_time": "2022-08-03T20:12:53.245Z"
   },
   {
    "duration": 15,
    "start_time": "2022-08-03T20:12:53.259Z"
   },
   {
    "duration": 11,
    "start_time": "2022-08-03T20:12:53.277Z"
   },
   {
    "duration": 8,
    "start_time": "2022-08-03T20:12:53.290Z"
   },
   {
    "duration": 9,
    "start_time": "2022-08-03T20:12:53.300Z"
   },
   {
    "duration": 11,
    "start_time": "2022-08-03T20:12:53.311Z"
   },
   {
    "duration": 6,
    "start_time": "2022-08-03T20:12:53.324Z"
   },
   {
    "duration": 37,
    "start_time": "2022-08-03T20:12:53.332Z"
   },
   {
    "duration": 9,
    "start_time": "2022-08-03T20:12:53.371Z"
   },
   {
    "duration": 16,
    "start_time": "2022-08-03T20:12:53.382Z"
   },
   {
    "duration": 29,
    "start_time": "2022-08-03T20:12:53.400Z"
   },
   {
    "duration": 527,
    "start_time": "2022-08-03T20:12:53.432Z"
   },
   {
    "duration": 18,
    "start_time": "2022-08-03T20:12:53.960Z"
   },
   {
    "duration": 9,
    "start_time": "2022-08-03T20:12:53.980Z"
   },
   {
    "duration": 25,
    "start_time": "2022-08-03T20:12:53.993Z"
   },
   {
    "duration": 22,
    "start_time": "2022-08-03T20:12:54.068Z"
   },
   {
    "duration": 17,
    "start_time": "2022-08-03T20:22:27.910Z"
   },
   {
    "duration": 1212,
    "start_time": "2022-08-04T07:52:29.313Z"
   },
   {
    "duration": 104,
    "start_time": "2022-08-04T07:52:30.528Z"
   },
   {
    "duration": 11,
    "start_time": "2022-08-04T07:52:30.634Z"
   },
   {
    "duration": 26,
    "start_time": "2022-08-04T07:52:30.647Z"
   },
   {
    "duration": 26,
    "start_time": "2022-08-04T07:52:30.675Z"
   },
   {
    "duration": 32,
    "start_time": "2022-08-04T07:52:30.702Z"
   },
   {
    "duration": 22,
    "start_time": "2022-08-04T07:52:30.736Z"
   },
   {
    "duration": 21,
    "start_time": "2022-08-04T07:52:30.759Z"
   },
   {
    "duration": 24,
    "start_time": "2022-08-04T07:52:30.782Z"
   },
   {
    "duration": 45,
    "start_time": "2022-08-04T07:52:30.809Z"
   },
   {
    "duration": 14,
    "start_time": "2022-08-04T07:52:30.856Z"
   },
   {
    "duration": 23,
    "start_time": "2022-08-04T07:52:30.872Z"
   },
   {
    "duration": 47,
    "start_time": "2022-08-04T07:52:30.897Z"
   },
   {
    "duration": 544,
    "start_time": "2022-08-04T07:52:30.946Z"
   },
   {
    "duration": 31,
    "start_time": "2022-08-04T07:52:31.493Z"
   },
   {
    "duration": 32,
    "start_time": "2022-08-04T07:52:31.526Z"
   },
   {
    "duration": 63,
    "start_time": "2022-08-04T07:52:31.560Z"
   },
   {
    "duration": 87,
    "start_time": "2022-08-04T07:52:31.625Z"
   },
   {
    "duration": 515,
    "start_time": "2022-08-04T08:08:54.265Z"
   },
   {
    "duration": 5,
    "start_time": "2022-08-04T08:56:38.543Z"
   },
   {
    "duration": 3,
    "start_time": "2022-08-04T08:56:39.387Z"
   },
   {
    "duration": 3,
    "start_time": "2022-08-04T08:56:39.731Z"
   },
   {
    "duration": 3,
    "start_time": "2022-08-04T08:56:39.989Z"
   },
   {
    "duration": 61,
    "start_time": "2022-08-04T08:56:46.222Z"
   },
   {
    "duration": 8,
    "start_time": "2022-08-04T08:56:52.140Z"
   },
   {
    "duration": 5,
    "start_time": "2022-08-04T08:56:58.443Z"
   },
   {
    "duration": 4,
    "start_time": "2022-08-04T08:57:18.116Z"
   },
   {
    "duration": 7,
    "start_time": "2022-08-04T08:58:49.492Z"
   },
   {
    "duration": 3,
    "start_time": "2022-08-04T09:15:55.215Z"
   },
   {
    "duration": 47,
    "start_time": "2022-08-04T09:15:55.230Z"
   },
   {
    "duration": 9,
    "start_time": "2022-08-04T09:15:55.279Z"
   },
   {
    "duration": 11,
    "start_time": "2022-08-04T09:15:55.321Z"
   },
   {
    "duration": 27,
    "start_time": "2022-08-04T09:15:55.333Z"
   },
   {
    "duration": 19,
    "start_time": "2022-08-04T09:15:55.362Z"
   },
   {
    "duration": 15,
    "start_time": "2022-08-04T09:15:55.383Z"
   },
   {
    "duration": 10,
    "start_time": "2022-08-04T09:15:55.441Z"
   },
   {
    "duration": 38,
    "start_time": "2022-08-04T09:15:55.452Z"
   },
   {
    "duration": 10,
    "start_time": "2022-08-04T09:15:55.492Z"
   },
   {
    "duration": 17,
    "start_time": "2022-08-04T09:15:55.504Z"
   },
   {
    "duration": 33,
    "start_time": "2022-08-04T09:15:55.523Z"
   },
   {
    "duration": 19,
    "start_time": "2022-08-04T09:15:55.614Z"
   },
   {
    "duration": 86,
    "start_time": "2022-08-04T09:15:55.636Z"
   },
   {
    "duration": 15,
    "start_time": "2022-08-04T09:15:55.724Z"
   },
   {
    "duration": 12,
    "start_time": "2022-08-04T09:15:55.741Z"
   },
   {
    "duration": 21,
    "start_time": "2022-08-04T09:15:55.755Z"
   },
   {
    "duration": 35,
    "start_time": "2022-08-04T09:15:55.778Z"
   },
   {
    "duration": 22,
    "start_time": "2022-08-04T09:15:55.815Z"
   },
   {
    "duration": 3,
    "start_time": "2022-08-04T09:19:18.056Z"
   },
   {
    "duration": 4,
    "start_time": "2022-08-04T09:40:14.258Z"
   },
   {
    "duration": 191,
    "start_time": "2022-08-04T09:40:36.614Z"
   },
   {
    "duration": 3,
    "start_time": "2022-08-04T09:41:53.280Z"
   },
   {
    "duration": 11,
    "start_time": "2022-08-04T09:42:01.140Z"
   },
   {
    "duration": 7,
    "start_time": "2022-08-04T09:42:02.474Z"
   },
   {
    "duration": 12,
    "start_time": "2022-08-04T09:42:05.024Z"
   },
   {
    "duration": 11,
    "start_time": "2022-08-04T09:42:23.087Z"
   },
   {
    "duration": 12,
    "start_time": "2022-08-04T09:46:08.017Z"
   },
   {
    "duration": 5,
    "start_time": "2022-08-04T09:49:15.913Z"
   },
   {
    "duration": 1562,
    "start_time": "2022-08-04T11:46:45.944Z"
   },
   {
    "duration": 45,
    "start_time": "2022-08-04T11:46:47.507Z"
   },
   {
    "duration": 10,
    "start_time": "2022-08-04T11:46:47.553Z"
   },
   {
    "duration": 17,
    "start_time": "2022-08-04T11:46:47.565Z"
   },
   {
    "duration": 13,
    "start_time": "2022-08-04T11:46:47.583Z"
   },
   {
    "duration": 5,
    "start_time": "2022-08-04T11:46:47.597Z"
   },
   {
    "duration": 8,
    "start_time": "2022-08-04T11:46:47.603Z"
   },
   {
    "duration": 9,
    "start_time": "2022-08-04T11:46:47.612Z"
   },
   {
    "duration": 11,
    "start_time": "2022-08-04T11:46:47.622Z"
   },
   {
    "duration": 6,
    "start_time": "2022-08-04T11:46:47.635Z"
   },
   {
    "duration": 7,
    "start_time": "2022-08-04T11:46:47.643Z"
   },
   {
    "duration": 10,
    "start_time": "2022-08-04T11:46:47.652Z"
   },
   {
    "duration": 51,
    "start_time": "2022-08-04T11:46:47.663Z"
   },
   {
    "duration": 429,
    "start_time": "2022-08-04T11:46:47.716Z"
   },
   {
    "duration": 14,
    "start_time": "2022-08-04T11:46:48.146Z"
   },
   {
    "duration": 7,
    "start_time": "2022-08-04T11:46:48.161Z"
   },
   {
    "duration": 50,
    "start_time": "2022-08-04T11:46:48.169Z"
   },
   {
    "duration": 10,
    "start_time": "2022-08-04T11:46:48.220Z"
   },
   {
    "duration": 6,
    "start_time": "2022-08-04T11:46:48.232Z"
   },
   {
    "duration": 4,
    "start_time": "2022-08-04T11:46:48.239Z"
   },
   {
    "duration": 5,
    "start_time": "2022-08-04T11:46:48.245Z"
   },
   {
    "duration": 5,
    "start_time": "2022-08-04T11:46:48.251Z"
   },
   {
    "duration": 13,
    "start_time": "2022-08-04T11:46:48.312Z"
   },
   {
    "duration": 300,
    "start_time": "2022-08-04T11:46:48.326Z"
   },
   {
    "duration": 82,
    "start_time": "2022-08-04T11:49:06.572Z"
   },
   {
    "duration": 25,
    "start_time": "2022-08-04T11:51:44.554Z"
   },
   {
    "duration": 11,
    "start_time": "2022-08-04T11:52:28.538Z"
   },
   {
    "duration": 4,
    "start_time": "2022-08-04T11:52:36.661Z"
   },
   {
    "duration": 26,
    "start_time": "2022-08-04T11:52:37.618Z"
   },
   {
    "duration": 4,
    "start_time": "2022-08-04T11:52:58.818Z"
   },
   {
    "duration": 4,
    "start_time": "2022-08-04T11:54:22.931Z"
   },
   {
    "duration": 4,
    "start_time": "2022-08-04T11:54:24.120Z"
   },
   {
    "duration": 4,
    "start_time": "2022-08-04T11:54:25.030Z"
   },
   {
    "duration": 25,
    "start_time": "2022-08-04T11:54:25.668Z"
   },
   {
    "duration": 4,
    "start_time": "2022-08-04T11:54:51.611Z"
   },
   {
    "duration": 4,
    "start_time": "2022-08-04T11:54:52.619Z"
   },
   {
    "duration": 4,
    "start_time": "2022-08-04T11:54:52.952Z"
   },
   {
    "duration": 25,
    "start_time": "2022-08-04T11:54:53.838Z"
   },
   {
    "duration": 3,
    "start_time": "2022-08-04T11:57:20.716Z"
   },
   {
    "duration": 4,
    "start_time": "2022-08-04T11:57:21.838Z"
   },
   {
    "duration": 11,
    "start_time": "2022-08-04T11:57:22.360Z"
   },
   {
    "duration": 26,
    "start_time": "2022-08-04T11:57:23.118Z"
   },
   {
    "duration": 4,
    "start_time": "2022-08-04T11:57:47.822Z"
   },
   {
    "duration": 5,
    "start_time": "2022-08-04T11:57:48.078Z"
   },
   {
    "duration": 3,
    "start_time": "2022-08-04T11:57:48.928Z"
   },
   {
    "duration": 3,
    "start_time": "2022-08-04T11:57:49.293Z"
   },
   {
    "duration": 25,
    "start_time": "2022-08-04T11:57:50.280Z"
   },
   {
    "duration": 4,
    "start_time": "2022-08-04T11:59:35.567Z"
   },
   {
    "duration": 3,
    "start_time": "2022-08-04T11:59:36.167Z"
   },
   {
    "duration": 16,
    "start_time": "2022-08-04T11:59:37.864Z"
   },
   {
    "duration": 25,
    "start_time": "2022-08-04T11:59:38.125Z"
   },
   {
    "duration": 21,
    "start_time": "2022-08-04T12:01:42.221Z"
   },
   {
    "duration": 4,
    "start_time": "2022-08-04T12:01:42.620Z"
   },
   {
    "duration": 1632,
    "start_time": "2022-08-04T12:01:54.289Z"
   },
   {
    "duration": 44,
    "start_time": "2022-08-04T12:01:55.923Z"
   },
   {
    "duration": 10,
    "start_time": "2022-08-04T12:01:55.969Z"
   },
   {
    "duration": 11,
    "start_time": "2022-08-04T12:01:55.980Z"
   },
   {
    "duration": 11,
    "start_time": "2022-08-04T12:01:55.994Z"
   },
   {
    "duration": 8,
    "start_time": "2022-08-04T12:01:56.006Z"
   },
   {
    "duration": 8,
    "start_time": "2022-08-04T12:01:56.015Z"
   },
   {
    "duration": 11,
    "start_time": "2022-08-04T12:01:56.024Z"
   },
   {
    "duration": 6,
    "start_time": "2022-08-04T12:01:56.037Z"
   },
   {
    "duration": 9,
    "start_time": "2022-08-04T12:01:56.044Z"
   },
   {
    "duration": 14,
    "start_time": "2022-08-04T12:01:56.055Z"
   },
   {
    "duration": 14,
    "start_time": "2022-08-04T12:01:56.071Z"
   },
   {
    "duration": 39,
    "start_time": "2022-08-04T12:01:56.086Z"
   },
   {
    "duration": 451,
    "start_time": "2022-08-04T12:01:56.128Z"
   },
   {
    "duration": 34,
    "start_time": "2022-08-04T12:01:56.580Z"
   },
   {
    "duration": 7,
    "start_time": "2022-08-04T12:01:56.616Z"
   },
   {
    "duration": 13,
    "start_time": "2022-08-04T12:01:56.624Z"
   },
   {
    "duration": 10,
    "start_time": "2022-08-04T12:01:56.638Z"
   },
   {
    "duration": 63,
    "start_time": "2022-08-04T12:01:56.649Z"
   },
   {
    "duration": 4,
    "start_time": "2022-08-04T12:01:56.713Z"
   },
   {
    "duration": 5,
    "start_time": "2022-08-04T12:01:56.718Z"
   },
   {
    "duration": 13,
    "start_time": "2022-08-04T12:01:56.724Z"
   },
   {
    "duration": 12,
    "start_time": "2022-08-04T12:01:56.739Z"
   },
   {
    "duration": 286,
    "start_time": "2022-08-04T12:01:56.753Z"
   },
   {
    "duration": 4,
    "start_time": "2022-08-04T12:05:06.822Z"
   },
   {
    "duration": 4,
    "start_time": "2022-08-04T12:05:07.184Z"
   },
   {
    "duration": 4,
    "start_time": "2022-08-04T12:05:07.663Z"
   },
   {
    "duration": 4,
    "start_time": "2022-08-04T12:05:07.942Z"
   },
   {
    "duration": 35,
    "start_time": "2022-08-04T12:05:08.573Z"
   },
   {
    "duration": 11,
    "start_time": "2022-08-04T12:20:02.160Z"
   },
   {
    "duration": 1612,
    "start_time": "2022-08-04T12:21:07.126Z"
   },
   {
    "duration": 47,
    "start_time": "2022-08-04T12:21:08.740Z"
   },
   {
    "duration": 11,
    "start_time": "2022-08-04T12:21:08.788Z"
   },
   {
    "duration": 13,
    "start_time": "2022-08-04T12:21:08.800Z"
   },
   {
    "duration": 12,
    "start_time": "2022-08-04T12:21:08.815Z"
   },
   {
    "duration": 4,
    "start_time": "2022-08-04T12:21:08.829Z"
   },
   {
    "duration": 7,
    "start_time": "2022-08-04T12:21:08.835Z"
   },
   {
    "duration": 10,
    "start_time": "2022-08-04T12:21:08.844Z"
   },
   {
    "duration": 9,
    "start_time": "2022-08-04T12:21:08.856Z"
   },
   {
    "duration": 15,
    "start_time": "2022-08-04T12:21:08.867Z"
   },
   {
    "duration": 8,
    "start_time": "2022-08-04T12:21:08.884Z"
   },
   {
    "duration": 12,
    "start_time": "2022-08-04T12:21:08.911Z"
   },
   {
    "duration": 25,
    "start_time": "2022-08-04T12:21:08.925Z"
   },
   {
    "duration": 1503,
    "start_time": "2022-08-04T12:22:24.750Z"
   },
   {
    "duration": 44,
    "start_time": "2022-08-04T12:22:26.255Z"
   },
   {
    "duration": 10,
    "start_time": "2022-08-04T12:22:26.301Z"
   },
   {
    "duration": 13,
    "start_time": "2022-08-04T12:22:26.313Z"
   },
   {
    "duration": 10,
    "start_time": "2022-08-04T12:22:26.327Z"
   },
   {
    "duration": 7,
    "start_time": "2022-08-04T12:22:26.338Z"
   },
   {
    "duration": 7,
    "start_time": "2022-08-04T12:22:26.346Z"
   },
   {
    "duration": 15,
    "start_time": "2022-08-04T12:22:26.354Z"
   },
   {
    "duration": 8,
    "start_time": "2022-08-04T12:22:26.370Z"
   },
   {
    "duration": 32,
    "start_time": "2022-08-04T12:22:26.380Z"
   },
   {
    "duration": 6,
    "start_time": "2022-08-04T12:22:26.413Z"
   },
   {
    "duration": 11,
    "start_time": "2022-08-04T12:22:26.420Z"
   },
   {
    "duration": 19,
    "start_time": "2022-08-04T12:22:26.433Z"
   },
   {
    "duration": 456,
    "start_time": "2022-08-04T12:22:26.454Z"
   },
   {
    "duration": 17,
    "start_time": "2022-08-04T12:22:26.912Z"
   },
   {
    "duration": 8,
    "start_time": "2022-08-04T12:22:26.931Z"
   },
   {
    "duration": 16,
    "start_time": "2022-08-04T12:22:26.940Z"
   },
   {
    "duration": 12,
    "start_time": "2022-08-04T12:22:27.010Z"
   },
   {
    "duration": 17,
    "start_time": "2022-08-04T12:22:27.024Z"
   },
   {
    "duration": 8,
    "start_time": "2022-08-04T12:22:27.044Z"
   },
   {
    "duration": 10,
    "start_time": "2022-08-04T12:22:27.053Z"
   },
   {
    "duration": 4,
    "start_time": "2022-08-04T12:22:27.064Z"
   },
   {
    "duration": 45,
    "start_time": "2022-08-04T12:22:27.069Z"
   },
   {
    "duration": 510,
    "start_time": "2022-08-04T12:22:27.115Z"
   },
   {
    "duration": 1588,
    "start_time": "2022-08-04T12:24:03.158Z"
   },
   {
    "duration": 45,
    "start_time": "2022-08-04T12:24:04.748Z"
   },
   {
    "duration": 11,
    "start_time": "2022-08-04T12:24:04.795Z"
   },
   {
    "duration": 11,
    "start_time": "2022-08-04T12:24:04.808Z"
   },
   {
    "duration": 8,
    "start_time": "2022-08-04T12:24:04.821Z"
   },
   {
    "duration": 5,
    "start_time": "2022-08-04T12:24:04.830Z"
   },
   {
    "duration": 16,
    "start_time": "2022-08-04T12:24:04.837Z"
   },
   {
    "duration": 12,
    "start_time": "2022-08-04T12:24:04.855Z"
   },
   {
    "duration": 9,
    "start_time": "2022-08-04T12:24:04.868Z"
   },
   {
    "duration": 6,
    "start_time": "2022-08-04T12:24:04.880Z"
   },
   {
    "duration": 6,
    "start_time": "2022-08-04T12:24:04.911Z"
   },
   {
    "duration": 12,
    "start_time": "2022-08-04T12:24:04.918Z"
   },
   {
    "duration": 21,
    "start_time": "2022-08-04T12:24:04.931Z"
   },
   {
    "duration": 444,
    "start_time": "2022-08-04T12:24:04.953Z"
   },
   {
    "duration": 18,
    "start_time": "2022-08-04T12:24:05.399Z"
   },
   {
    "duration": 8,
    "start_time": "2022-08-04T12:24:05.418Z"
   },
   {
    "duration": 17,
    "start_time": "2022-08-04T12:24:05.428Z"
   },
   {
    "duration": 13,
    "start_time": "2022-08-04T12:24:05.447Z"
   },
   {
    "duration": 4,
    "start_time": "2022-08-04T12:24:05.512Z"
   },
   {
    "duration": 6,
    "start_time": "2022-08-04T12:24:05.518Z"
   },
   {
    "duration": 7,
    "start_time": "2022-08-04T12:24:05.526Z"
   },
   {
    "duration": 5,
    "start_time": "2022-08-04T12:24:05.534Z"
   },
   {
    "duration": 6,
    "start_time": "2022-08-04T12:24:05.541Z"
   },
   {
    "duration": 379,
    "start_time": "2022-08-04T12:24:05.548Z"
   },
   {
    "duration": 4,
    "start_time": "2022-08-04T12:26:59.326Z"
   },
   {
    "duration": 4,
    "start_time": "2022-08-04T12:26:59.520Z"
   },
   {
    "duration": 3,
    "start_time": "2022-08-04T12:27:05.866Z"
   },
   {
    "duration": 3,
    "start_time": "2022-08-04T12:27:06.885Z"
   },
   {
    "duration": 303,
    "start_time": "2022-08-04T12:27:07.715Z"
   },
   {
    "duration": 9,
    "start_time": "2022-08-04T12:31:27.997Z"
   },
   {
    "duration": 4,
    "start_time": "2022-08-04T12:45:09.943Z"
   },
   {
    "duration": 5,
    "start_time": "2022-08-04T12:45:11.433Z"
   },
   {
    "duration": 4,
    "start_time": "2022-08-04T12:45:12.550Z"
   },
   {
    "duration": 5,
    "start_time": "2022-08-04T12:45:13.322Z"
   },
   {
    "duration": 288,
    "start_time": "2022-08-04T12:45:14.734Z"
   },
   {
    "duration": 5,
    "start_time": "2022-08-04T12:47:39.363Z"
   },
   {
    "duration": 6,
    "start_time": "2022-08-04T12:47:40.915Z"
   },
   {
    "duration": 3,
    "start_time": "2022-08-04T12:47:41.814Z"
   },
   {
    "duration": 6,
    "start_time": "2022-08-04T12:47:42.716Z"
   },
   {
    "duration": 317,
    "start_time": "2022-08-04T12:47:43.114Z"
   },
   {
    "duration": 4,
    "start_time": "2022-08-04T12:48:03.022Z"
   },
   {
    "duration": 4,
    "start_time": "2022-08-04T12:48:03.552Z"
   },
   {
    "duration": 4,
    "start_time": "2022-08-04T12:48:04.422Z"
   },
   {
    "duration": 5,
    "start_time": "2022-08-04T12:48:04.980Z"
   },
   {
    "duration": 253,
    "start_time": "2022-08-04T12:48:05.171Z"
   },
   {
    "duration": 4,
    "start_time": "2022-08-04T12:52:54.045Z"
   },
   {
    "duration": 4,
    "start_time": "2022-08-04T12:52:55.343Z"
   },
   {
    "duration": 3,
    "start_time": "2022-08-04T12:52:56.321Z"
   },
   {
    "duration": 4,
    "start_time": "2022-08-04T12:52:56.822Z"
   },
   {
    "duration": 309,
    "start_time": "2022-08-04T12:52:57.216Z"
   },
   {
    "duration": 5,
    "start_time": "2022-08-04T12:53:13.416Z"
   },
   {
    "duration": 4,
    "start_time": "2022-08-04T12:53:14.363Z"
   },
   {
    "duration": 4,
    "start_time": "2022-08-04T12:53:15.392Z"
   },
   {
    "duration": 4,
    "start_time": "2022-08-04T12:53:16.043Z"
   },
   {
    "duration": 354,
    "start_time": "2022-08-04T12:53:16.962Z"
   },
   {
    "duration": 4,
    "start_time": "2022-08-04T12:53:33.827Z"
   },
   {
    "duration": 4,
    "start_time": "2022-08-04T12:53:34.880Z"
   },
   {
    "duration": 3,
    "start_time": "2022-08-04T12:53:36.865Z"
   },
   {
    "duration": 5,
    "start_time": "2022-08-04T12:53:37.596Z"
   },
   {
    "duration": 226,
    "start_time": "2022-08-04T12:53:38.290Z"
   },
   {
    "duration": 1608,
    "start_time": "2022-08-04T13:02:00.061Z"
   },
   {
    "duration": 46,
    "start_time": "2022-08-04T13:02:01.672Z"
   },
   {
    "duration": 10,
    "start_time": "2022-08-04T13:02:01.720Z"
   },
   {
    "duration": 23,
    "start_time": "2022-08-04T13:02:01.732Z"
   },
   {
    "duration": 31,
    "start_time": "2022-08-04T13:02:01.756Z"
   },
   {
    "duration": 29,
    "start_time": "2022-08-04T13:02:01.788Z"
   },
   {
    "duration": 48,
    "start_time": "2022-08-04T13:02:01.819Z"
   },
   {
    "duration": 25,
    "start_time": "2022-08-04T13:02:01.868Z"
   },
   {
    "duration": 28,
    "start_time": "2022-08-04T13:02:01.895Z"
   },
   {
    "duration": 16,
    "start_time": "2022-08-04T13:02:01.926Z"
   },
   {
    "duration": 27,
    "start_time": "2022-08-04T13:02:01.944Z"
   },
   {
    "duration": 19,
    "start_time": "2022-08-04T13:02:01.973Z"
   },
   {
    "duration": 40,
    "start_time": "2022-08-04T13:02:01.993Z"
   },
   {
    "duration": 441,
    "start_time": "2022-08-04T13:02:02.034Z"
   },
   {
    "duration": 40,
    "start_time": "2022-08-04T13:02:02.477Z"
   },
   {
    "duration": 8,
    "start_time": "2022-08-04T13:02:02.519Z"
   },
   {
    "duration": 19,
    "start_time": "2022-08-04T13:02:02.529Z"
   },
   {
    "duration": 90,
    "start_time": "2022-08-04T13:02:02.550Z"
   },
   {
    "duration": 21,
    "start_time": "2022-08-04T13:02:02.642Z"
   },
   {
    "duration": 16,
    "start_time": "2022-08-04T13:02:02.665Z"
   },
   {
    "duration": 12,
    "start_time": "2022-08-04T13:02:02.683Z"
   },
   {
    "duration": 15,
    "start_time": "2022-08-04T13:02:02.697Z"
   },
   {
    "duration": 19,
    "start_time": "2022-08-04T13:02:02.714Z"
   },
   {
    "duration": 214,
    "start_time": "2022-08-04T13:02:02.734Z"
   },
   {
    "duration": 4,
    "start_time": "2022-08-04T13:03:10.632Z"
   },
   {
    "duration": 5,
    "start_time": "2022-08-04T13:03:11.890Z"
   },
   {
    "duration": 4,
    "start_time": "2022-08-04T13:03:12.861Z"
   },
   {
    "duration": 4,
    "start_time": "2022-08-04T13:03:13.623Z"
   },
   {
    "duration": 18,
    "start_time": "2022-08-04T13:03:14.454Z"
   },
   {
    "duration": 26,
    "start_time": "2022-08-04T13:06:06.098Z"
   },
   {
    "duration": 4,
    "start_time": "2022-08-04T13:09:17.389Z"
   },
   {
    "duration": 4,
    "start_time": "2022-08-04T13:09:18.150Z"
   },
   {
    "duration": 3,
    "start_time": "2022-08-04T13:09:19.230Z"
   },
   {
    "duration": 3,
    "start_time": "2022-08-04T13:09:19.939Z"
   },
   {
    "duration": 265,
    "start_time": "2022-08-04T13:09:20.759Z"
   },
   {
    "duration": 1600,
    "start_time": "2022-08-04T13:10:22.768Z"
   },
   {
    "duration": 44,
    "start_time": "2022-08-04T13:10:24.370Z"
   },
   {
    "duration": 11,
    "start_time": "2022-08-04T13:10:24.415Z"
   },
   {
    "duration": 11,
    "start_time": "2022-08-04T13:10:24.428Z"
   },
   {
    "duration": 11,
    "start_time": "2022-08-04T13:10:24.441Z"
   },
   {
    "duration": 4,
    "start_time": "2022-08-04T13:10:24.454Z"
   },
   {
    "duration": 4,
    "start_time": "2022-08-04T13:10:24.460Z"
   },
   {
    "duration": 46,
    "start_time": "2022-08-04T13:10:24.465Z"
   },
   {
    "duration": 4,
    "start_time": "2022-08-04T13:10:24.513Z"
   },
   {
    "duration": 6,
    "start_time": "2022-08-04T13:10:24.519Z"
   },
   {
    "duration": 7,
    "start_time": "2022-08-04T13:10:24.526Z"
   },
   {
    "duration": 12,
    "start_time": "2022-08-04T13:10:24.535Z"
   },
   {
    "duration": 20,
    "start_time": "2022-08-04T13:10:24.548Z"
   },
   {
    "duration": 467,
    "start_time": "2022-08-04T13:10:24.570Z"
   },
   {
    "duration": 18,
    "start_time": "2022-08-04T13:10:25.039Z"
   },
   {
    "duration": 7,
    "start_time": "2022-08-04T13:10:25.059Z"
   },
   {
    "duration": 49,
    "start_time": "2022-08-04T13:10:25.067Z"
   },
   {
    "duration": 13,
    "start_time": "2022-08-04T13:10:25.117Z"
   },
   {
    "duration": 7,
    "start_time": "2022-08-04T13:10:25.132Z"
   },
   {
    "duration": 4,
    "start_time": "2022-08-04T13:10:25.141Z"
   },
   {
    "duration": 17,
    "start_time": "2022-08-04T13:10:25.147Z"
   },
   {
    "duration": 47,
    "start_time": "2022-08-04T13:10:25.166Z"
   },
   {
    "duration": 13,
    "start_time": "2022-08-04T13:10:25.214Z"
   },
   {
    "duration": 393,
    "start_time": "2022-08-04T13:10:25.229Z"
   },
   {
    "duration": 1671,
    "start_time": "2022-08-04T13:11:42.028Z"
   },
   {
    "duration": 44,
    "start_time": "2022-08-04T13:11:43.701Z"
   },
   {
    "duration": 10,
    "start_time": "2022-08-04T13:11:43.746Z"
   },
   {
    "duration": 19,
    "start_time": "2022-08-04T13:11:43.758Z"
   },
   {
    "duration": 16,
    "start_time": "2022-08-04T13:11:43.779Z"
   },
   {
    "duration": 5,
    "start_time": "2022-08-04T13:11:43.797Z"
   },
   {
    "duration": 8,
    "start_time": "2022-08-04T13:11:43.803Z"
   },
   {
    "duration": 18,
    "start_time": "2022-08-04T13:11:43.813Z"
   },
   {
    "duration": 8,
    "start_time": "2022-08-04T13:11:43.833Z"
   },
   {
    "duration": 6,
    "start_time": "2022-08-04T13:11:43.845Z"
   },
   {
    "duration": 8,
    "start_time": "2022-08-04T13:11:43.852Z"
   },
   {
    "duration": 14,
    "start_time": "2022-08-04T13:11:43.862Z"
   },
   {
    "duration": 23,
    "start_time": "2022-08-04T13:11:43.878Z"
   },
   {
    "duration": 463,
    "start_time": "2022-08-04T13:11:43.902Z"
   },
   {
    "duration": 15,
    "start_time": "2022-08-04T13:11:44.367Z"
   },
   {
    "duration": 29,
    "start_time": "2022-08-04T13:11:44.384Z"
   },
   {
    "duration": 16,
    "start_time": "2022-08-04T13:11:44.414Z"
   },
   {
    "duration": 14,
    "start_time": "2022-08-04T13:11:44.432Z"
   },
   {
    "duration": 9,
    "start_time": "2022-08-04T13:11:44.447Z"
   },
   {
    "duration": 11,
    "start_time": "2022-08-04T13:11:44.510Z"
   },
   {
    "duration": 7,
    "start_time": "2022-08-04T13:11:44.523Z"
   },
   {
    "duration": 6,
    "start_time": "2022-08-04T13:11:44.532Z"
   },
   {
    "duration": 6,
    "start_time": "2022-08-04T13:11:44.540Z"
   },
   {
    "duration": 378,
    "start_time": "2022-08-04T13:11:44.548Z"
   },
   {
    "duration": 4,
    "start_time": "2022-08-04T13:18:41.973Z"
   },
   {
    "duration": 1778,
    "start_time": "2022-08-04T13:18:43.134Z"
   },
   {
    "duration": 5,
    "start_time": "2022-08-04T13:18:57.615Z"
   },
   {
    "duration": 315,
    "start_time": "2022-08-04T13:18:58.216Z"
   },
   {
    "duration": 4,
    "start_time": "2022-08-04T13:19:11.256Z"
   },
   {
    "duration": 1981,
    "start_time": "2022-08-04T13:19:11.654Z"
   },
   {
    "duration": 1557,
    "start_time": "2022-08-04T13:19:42.175Z"
   },
   {
    "duration": 1541,
    "start_time": "2022-08-04T13:36:17.328Z"
   },
   {
    "duration": 44,
    "start_time": "2022-08-04T13:36:18.870Z"
   },
   {
    "duration": 10,
    "start_time": "2022-08-04T13:36:18.916Z"
   },
   {
    "duration": 10,
    "start_time": "2022-08-04T13:36:18.929Z"
   },
   {
    "duration": 11,
    "start_time": "2022-08-04T13:36:18.940Z"
   },
   {
    "duration": 5,
    "start_time": "2022-08-04T13:36:18.952Z"
   },
   {
    "duration": 4,
    "start_time": "2022-08-04T13:36:18.958Z"
   },
   {
    "duration": 12,
    "start_time": "2022-08-04T13:36:18.964Z"
   },
   {
    "duration": 7,
    "start_time": "2022-08-04T13:36:18.977Z"
   },
   {
    "duration": 4,
    "start_time": "2022-08-04T13:36:19.012Z"
   },
   {
    "duration": 18,
    "start_time": "2022-08-04T13:36:19.018Z"
   },
   {
    "duration": 9,
    "start_time": "2022-08-04T13:36:19.038Z"
   },
   {
    "duration": 22,
    "start_time": "2022-08-04T13:36:19.048Z"
   },
   {
    "duration": 435,
    "start_time": "2022-08-04T13:36:19.071Z"
   },
   {
    "duration": 16,
    "start_time": "2022-08-04T13:36:19.507Z"
   },
   {
    "duration": 8,
    "start_time": "2022-08-04T13:36:19.525Z"
   },
   {
    "duration": 11,
    "start_time": "2022-08-04T13:36:19.534Z"
   },
   {
    "duration": 67,
    "start_time": "2022-08-04T13:36:19.547Z"
   },
   {
    "duration": 5,
    "start_time": "2022-08-04T13:36:19.616Z"
   },
   {
    "duration": 5,
    "start_time": "2022-08-04T13:36:19.622Z"
   },
   {
    "duration": 4,
    "start_time": "2022-08-04T13:36:19.629Z"
   },
   {
    "duration": 6,
    "start_time": "2022-08-04T13:36:19.635Z"
   },
   {
    "duration": 4,
    "start_time": "2022-08-04T13:36:19.643Z"
   },
   {
    "duration": 1678,
    "start_time": "2022-08-04T13:36:19.649Z"
   },
   {
    "duration": 1695,
    "start_time": "2022-08-04T13:39:01.724Z"
   },
   {
    "duration": 1434,
    "start_time": "2022-08-04T13:39:23.995Z"
   },
   {
    "duration": 1705,
    "start_time": "2022-08-04T13:40:25.214Z"
   },
   {
    "duration": 1722,
    "start_time": "2022-08-04T13:41:31.966Z"
   },
   {
    "duration": 45,
    "start_time": "2022-08-04T13:41:33.690Z"
   },
   {
    "duration": 10,
    "start_time": "2022-08-04T13:41:33.736Z"
   },
   {
    "duration": 30,
    "start_time": "2022-08-04T13:41:33.749Z"
   },
   {
    "duration": 28,
    "start_time": "2022-08-04T13:41:33.781Z"
   },
   {
    "duration": 24,
    "start_time": "2022-08-04T13:41:33.811Z"
   },
   {
    "duration": 28,
    "start_time": "2022-08-04T13:41:33.837Z"
   },
   {
    "duration": 23,
    "start_time": "2022-08-04T13:41:33.868Z"
   },
   {
    "duration": 22,
    "start_time": "2022-08-04T13:41:33.893Z"
   },
   {
    "duration": 18,
    "start_time": "2022-08-04T13:41:33.918Z"
   },
   {
    "duration": 20,
    "start_time": "2022-08-04T13:41:33.937Z"
   },
   {
    "duration": 40,
    "start_time": "2022-08-04T13:41:33.959Z"
   },
   {
    "duration": 40,
    "start_time": "2022-08-04T13:41:34.001Z"
   },
   {
    "duration": 445,
    "start_time": "2022-08-04T13:41:34.043Z"
   },
   {
    "duration": 30,
    "start_time": "2022-08-04T13:41:34.489Z"
   },
   {
    "duration": 16,
    "start_time": "2022-08-04T13:41:34.521Z"
   },
   {
    "duration": 75,
    "start_time": "2022-08-04T13:41:34.539Z"
   },
   {
    "duration": 15,
    "start_time": "2022-08-04T13:41:34.616Z"
   },
   {
    "duration": 20,
    "start_time": "2022-08-04T13:41:34.632Z"
   },
   {
    "duration": 57,
    "start_time": "2022-08-04T13:41:34.654Z"
   },
   {
    "duration": 20,
    "start_time": "2022-08-04T13:41:34.713Z"
   },
   {
    "duration": 15,
    "start_time": "2022-08-04T13:41:34.735Z"
   },
   {
    "duration": 18,
    "start_time": "2022-08-04T13:41:34.752Z"
   },
   {
    "duration": 1652,
    "start_time": "2022-08-04T13:41:34.771Z"
   },
   {
    "duration": 1642,
    "start_time": "2022-08-04T13:44:25.442Z"
   },
   {
    "duration": 45,
    "start_time": "2022-08-04T13:44:27.086Z"
   },
   {
    "duration": 13,
    "start_time": "2022-08-04T13:44:27.133Z"
   },
   {
    "duration": 21,
    "start_time": "2022-08-04T13:44:27.147Z"
   },
   {
    "duration": 13,
    "start_time": "2022-08-04T13:44:27.170Z"
   },
   {
    "duration": 6,
    "start_time": "2022-08-04T13:44:27.184Z"
   },
   {
    "duration": 22,
    "start_time": "2022-08-04T13:44:27.192Z"
   },
   {
    "duration": 19,
    "start_time": "2022-08-04T13:44:27.216Z"
   },
   {
    "duration": 21,
    "start_time": "2022-08-04T13:44:27.237Z"
   },
   {
    "duration": 13,
    "start_time": "2022-08-04T13:44:27.260Z"
   },
   {
    "duration": 10,
    "start_time": "2022-08-04T13:44:27.275Z"
   },
   {
    "duration": 26,
    "start_time": "2022-08-04T13:44:27.287Z"
   },
   {
    "duration": 45,
    "start_time": "2022-08-04T13:44:27.315Z"
   },
   {
    "duration": 466,
    "start_time": "2022-08-04T13:44:27.362Z"
   },
   {
    "duration": 18,
    "start_time": "2022-08-04T13:44:27.830Z"
   },
   {
    "duration": 8,
    "start_time": "2022-08-04T13:44:27.850Z"
   },
   {
    "duration": 16,
    "start_time": "2022-08-04T13:44:27.911Z"
   },
   {
    "duration": 16,
    "start_time": "2022-08-04T13:44:27.929Z"
   },
   {
    "duration": 6,
    "start_time": "2022-08-04T13:44:27.947Z"
   },
   {
    "duration": 57,
    "start_time": "2022-08-04T13:44:27.955Z"
   },
   {
    "duration": 8,
    "start_time": "2022-08-04T13:44:28.014Z"
   },
   {
    "duration": 6,
    "start_time": "2022-08-04T13:44:28.024Z"
   },
   {
    "duration": 8,
    "start_time": "2022-08-04T13:44:28.033Z"
   },
   {
    "duration": 1689,
    "start_time": "2022-08-04T13:44:28.043Z"
   },
   {
    "duration": 1831,
    "start_time": "2022-08-04T13:44:49.325Z"
   },
   {
    "duration": 46,
    "start_time": "2022-08-04T13:44:51.158Z"
   },
   {
    "duration": 19,
    "start_time": "2022-08-04T13:44:51.206Z"
   },
   {
    "duration": 17,
    "start_time": "2022-08-04T13:44:51.229Z"
   },
   {
    "duration": 12,
    "start_time": "2022-08-04T13:44:51.248Z"
   },
   {
    "duration": 11,
    "start_time": "2022-08-04T13:44:51.262Z"
   },
   {
    "duration": 9,
    "start_time": "2022-08-04T13:44:51.275Z"
   },
   {
    "duration": 37,
    "start_time": "2022-08-04T13:44:51.287Z"
   },
   {
    "duration": 24,
    "start_time": "2022-08-04T13:44:51.327Z"
   },
   {
    "duration": 7,
    "start_time": "2022-08-04T13:44:51.355Z"
   },
   {
    "duration": 13,
    "start_time": "2022-08-04T13:44:51.365Z"
   },
   {
    "duration": 19,
    "start_time": "2022-08-04T13:44:51.380Z"
   },
   {
    "duration": 30,
    "start_time": "2022-08-04T13:44:51.401Z"
   },
   {
    "duration": 515,
    "start_time": "2022-08-04T13:44:51.435Z"
   },
   {
    "duration": 17,
    "start_time": "2022-08-04T13:44:51.952Z"
   },
   {
    "duration": 45,
    "start_time": "2022-08-04T13:44:51.971Z"
   },
   {
    "duration": 18,
    "start_time": "2022-08-04T13:44:52.018Z"
   },
   {
    "duration": 13,
    "start_time": "2022-08-04T13:44:52.038Z"
   },
   {
    "duration": 58,
    "start_time": "2022-08-04T13:44:52.053Z"
   },
   {
    "duration": 4,
    "start_time": "2022-08-04T13:44:52.113Z"
   },
   {
    "duration": 8,
    "start_time": "2022-08-04T13:44:52.118Z"
   },
   {
    "duration": 11,
    "start_time": "2022-08-04T13:44:52.127Z"
   },
   {
    "duration": 8,
    "start_time": "2022-08-04T13:44:52.140Z"
   },
   {
    "duration": 2675,
    "start_time": "2022-08-04T13:44:52.151Z"
   },
   {
    "duration": 1650,
    "start_time": "2022-08-04T14:01:16.628Z"
   },
   {
    "duration": 44,
    "start_time": "2022-08-04T14:01:18.280Z"
   },
   {
    "duration": 10,
    "start_time": "2022-08-04T14:01:18.326Z"
   },
   {
    "duration": 16,
    "start_time": "2022-08-04T14:01:18.337Z"
   },
   {
    "duration": 32,
    "start_time": "2022-08-04T14:01:18.355Z"
   },
   {
    "duration": 5,
    "start_time": "2022-08-04T14:01:18.389Z"
   },
   {
    "duration": 10,
    "start_time": "2022-08-04T14:01:18.395Z"
   },
   {
    "duration": 16,
    "start_time": "2022-08-04T14:01:18.406Z"
   },
   {
    "duration": 9,
    "start_time": "2022-08-04T14:01:18.423Z"
   },
   {
    "duration": 11,
    "start_time": "2022-08-04T14:01:18.434Z"
   },
   {
    "duration": 8,
    "start_time": "2022-08-04T14:01:18.446Z"
   },
   {
    "duration": 11,
    "start_time": "2022-08-04T14:01:18.455Z"
   },
   {
    "duration": 23,
    "start_time": "2022-08-04T14:01:18.467Z"
   },
   {
    "duration": 1664,
    "start_time": "2022-08-04T14:14:24.917Z"
   },
   {
    "duration": 59,
    "start_time": "2022-08-04T14:14:26.583Z"
   },
   {
    "duration": 14,
    "start_time": "2022-08-04T14:14:26.644Z"
   },
   {
    "duration": 13,
    "start_time": "2022-08-04T14:14:26.660Z"
   },
   {
    "duration": 30,
    "start_time": "2022-08-04T14:14:26.675Z"
   },
   {
    "duration": 18,
    "start_time": "2022-08-04T14:14:26.707Z"
   },
   {
    "duration": 31,
    "start_time": "2022-08-04T14:14:26.726Z"
   },
   {
    "duration": 33,
    "start_time": "2022-08-04T14:14:26.759Z"
   },
   {
    "duration": 35,
    "start_time": "2022-08-04T14:14:26.793Z"
   },
   {
    "duration": 33,
    "start_time": "2022-08-04T14:14:26.831Z"
   },
   {
    "duration": 25,
    "start_time": "2022-08-04T14:14:26.867Z"
   },
   {
    "duration": 33,
    "start_time": "2022-08-04T14:14:26.894Z"
   },
   {
    "duration": 64,
    "start_time": "2022-08-04T14:14:26.929Z"
   },
   {
    "duration": 437,
    "start_time": "2022-08-04T14:14:26.994Z"
   },
   {
    "duration": 18,
    "start_time": "2022-08-04T14:14:27.439Z"
   },
   {
    "duration": 56,
    "start_time": "2022-08-04T14:14:27.459Z"
   },
   {
    "duration": 31,
    "start_time": "2022-08-04T14:14:27.517Z"
   },
   {
    "duration": 25,
    "start_time": "2022-08-04T14:14:27.550Z"
   },
   {
    "duration": 28,
    "start_time": "2022-08-04T14:14:27.576Z"
   },
   {
    "duration": 29,
    "start_time": "2022-08-04T14:14:27.606Z"
   },
   {
    "duration": 27,
    "start_time": "2022-08-04T14:14:27.637Z"
   },
   {
    "duration": 27,
    "start_time": "2022-08-04T14:14:27.666Z"
   },
   {
    "duration": 34,
    "start_time": "2022-08-04T14:14:27.694Z"
   },
   {
    "duration": 1891,
    "start_time": "2022-08-04T14:14:27.730Z"
   },
   {
    "duration": 15,
    "start_time": "2022-08-04T14:14:29.623Z"
   },
   {
    "duration": 74,
    "start_time": "2022-08-04T14:14:29.640Z"
   },
   {
    "duration": 1567,
    "start_time": "2022-08-04T14:15:38.049Z"
   },
   {
    "duration": 1796,
    "start_time": "2022-08-04T17:14:42.404Z"
   },
   {
    "duration": 106,
    "start_time": "2022-08-04T17:14:44.202Z"
   },
   {
    "duration": 18,
    "start_time": "2022-08-04T17:14:44.310Z"
   },
   {
    "duration": 24,
    "start_time": "2022-08-04T17:14:44.330Z"
   },
   {
    "duration": 13,
    "start_time": "2022-08-04T17:14:44.356Z"
   },
   {
    "duration": 5,
    "start_time": "2022-08-04T17:14:44.370Z"
   },
   {
    "duration": 7,
    "start_time": "2022-08-04T17:14:44.377Z"
   },
   {
    "duration": 12,
    "start_time": "2022-08-04T17:14:44.385Z"
   },
   {
    "duration": 32,
    "start_time": "2022-08-04T17:14:44.411Z"
   },
   {
    "duration": 9,
    "start_time": "2022-08-04T17:14:44.445Z"
   },
   {
    "duration": 8,
    "start_time": "2022-08-04T17:14:44.456Z"
   },
   {
    "duration": 10,
    "start_time": "2022-08-04T17:14:44.466Z"
   },
   {
    "duration": 22,
    "start_time": "2022-08-04T17:14:44.478Z"
   },
   {
    "duration": 578,
    "start_time": "2022-08-04T17:14:44.503Z"
   },
   {
    "duration": 34,
    "start_time": "2022-08-04T17:14:45.083Z"
   },
   {
    "duration": 51,
    "start_time": "2022-08-04T17:14:45.120Z"
   },
   {
    "duration": 18,
    "start_time": "2022-08-04T17:14:45.173Z"
   },
   {
    "duration": 24,
    "start_time": "2022-08-04T17:14:45.208Z"
   },
   {
    "duration": 19,
    "start_time": "2022-08-04T17:14:45.236Z"
   },
   {
    "duration": 12,
    "start_time": "2022-08-04T17:14:45.258Z"
   },
   {
    "duration": 5,
    "start_time": "2022-08-04T17:14:45.273Z"
   },
   {
    "duration": 37,
    "start_time": "2022-08-04T17:14:45.308Z"
   },
   {
    "duration": 13,
    "start_time": "2022-08-04T17:14:45.348Z"
   },
   {
    "duration": 35649,
    "start_time": "2022-08-04T17:14:45.363Z"
   },
   {
    "duration": 82,
    "start_time": "2022-08-04T17:15:21.014Z"
   },
   {
    "duration": 5,
    "start_time": "2022-08-04T17:15:21.098Z"
   },
   {
    "duration": 17,
    "start_time": "2022-08-04T17:36:26.511Z"
   },
   {
    "duration": 193,
    "start_time": "2022-08-04T17:59:53.288Z"
   },
   {
    "duration": 20013,
    "start_time": "2022-08-04T18:00:16.649Z"
   },
   {
    "duration": 2112,
    "start_time": "2022-08-04T18:00:57.231Z"
   },
   {
    "duration": 46,
    "start_time": "2022-08-04T18:00:59.345Z"
   },
   {
    "duration": 12,
    "start_time": "2022-08-04T18:00:59.393Z"
   },
   {
    "duration": 43,
    "start_time": "2022-08-04T18:00:59.408Z"
   },
   {
    "duration": 17,
    "start_time": "2022-08-04T18:00:59.453Z"
   },
   {
    "duration": 7,
    "start_time": "2022-08-04T18:00:59.472Z"
   },
   {
    "duration": 11,
    "start_time": "2022-08-04T18:00:59.481Z"
   },
   {
    "duration": 16,
    "start_time": "2022-08-04T18:00:59.494Z"
   },
   {
    "duration": 5,
    "start_time": "2022-08-04T18:00:59.513Z"
   },
   {
    "duration": 31,
    "start_time": "2022-08-04T18:00:59.521Z"
   },
   {
    "duration": 12,
    "start_time": "2022-08-04T18:00:59.554Z"
   },
   {
    "duration": 18,
    "start_time": "2022-08-04T18:00:59.568Z"
   },
   {
    "duration": 38,
    "start_time": "2022-08-04T18:00:59.588Z"
   },
   {
    "duration": 546,
    "start_time": "2022-08-04T18:00:59.628Z"
   },
   {
    "duration": 47,
    "start_time": "2022-08-04T18:01:00.177Z"
   },
   {
    "duration": 13,
    "start_time": "2022-08-04T18:01:00.228Z"
   },
   {
    "duration": 77,
    "start_time": "2022-08-04T18:01:00.243Z"
   },
   {
    "duration": 38,
    "start_time": "2022-08-04T18:01:00.322Z"
   },
   {
    "duration": 13,
    "start_time": "2022-08-04T18:01:00.362Z"
   },
   {
    "duration": 29,
    "start_time": "2022-08-04T18:01:00.378Z"
   },
   {
    "duration": 31,
    "start_time": "2022-08-04T18:01:00.409Z"
   },
   {
    "duration": 31,
    "start_time": "2022-08-04T18:01:00.442Z"
   },
   {
    "duration": 51,
    "start_time": "2022-08-04T18:01:00.476Z"
   },
   {
    "duration": 32183,
    "start_time": "2022-08-04T18:01:00.530Z"
   },
   {
    "duration": 181,
    "start_time": "2022-08-04T18:01:32.714Z"
   },
   {
    "duration": 453,
    "start_time": "2022-08-04T18:02:27.930Z"
   },
   {
    "duration": 135,
    "start_time": "2022-08-04T18:02:52.868Z"
   },
   {
    "duration": 31840,
    "start_time": "2022-08-04T18:03:53.295Z"
   },
   {
    "duration": 168,
    "start_time": "2022-08-04T18:04:28.376Z"
   },
   {
    "duration": 1943,
    "start_time": "2022-08-04T18:05:20.292Z"
   },
   {
    "duration": 125,
    "start_time": "2022-08-04T18:05:22.237Z"
   },
   {
    "duration": 11,
    "start_time": "2022-08-04T18:05:22.363Z"
   },
   {
    "duration": 10,
    "start_time": "2022-08-04T18:05:22.377Z"
   },
   {
    "duration": 45,
    "start_time": "2022-08-04T18:05:22.389Z"
   },
   {
    "duration": 10,
    "start_time": "2022-08-04T18:05:22.435Z"
   },
   {
    "duration": 12,
    "start_time": "2022-08-04T18:05:22.447Z"
   },
   {
    "duration": 10,
    "start_time": "2022-08-04T18:05:22.461Z"
   },
   {
    "duration": 7,
    "start_time": "2022-08-04T18:05:22.473Z"
   },
   {
    "duration": 10,
    "start_time": "2022-08-04T18:05:22.482Z"
   },
   {
    "duration": 10,
    "start_time": "2022-08-04T18:05:22.494Z"
   },
   {
    "duration": 34,
    "start_time": "2022-08-04T18:05:22.506Z"
   },
   {
    "duration": 45,
    "start_time": "2022-08-04T18:05:22.542Z"
   },
   {
    "duration": 439,
    "start_time": "2022-08-04T18:05:22.589Z"
   },
   {
    "duration": 19,
    "start_time": "2022-08-04T18:05:23.033Z"
   },
   {
    "duration": 11,
    "start_time": "2022-08-04T18:05:23.055Z"
   },
   {
    "duration": 64,
    "start_time": "2022-08-04T18:05:23.068Z"
   },
   {
    "duration": 18,
    "start_time": "2022-08-04T18:05:23.134Z"
   },
   {
    "duration": 9,
    "start_time": "2022-08-04T18:05:23.155Z"
   },
   {
    "duration": 7,
    "start_time": "2022-08-04T18:05:23.211Z"
   },
   {
    "duration": 20,
    "start_time": "2022-08-04T18:05:23.220Z"
   },
   {
    "duration": 7,
    "start_time": "2022-08-04T18:05:23.242Z"
   },
   {
    "duration": 10,
    "start_time": "2022-08-04T18:05:23.250Z"
   },
   {
    "duration": 29853,
    "start_time": "2022-08-04T18:05:23.261Z"
   },
   {
    "duration": 338,
    "start_time": "2022-08-04T18:05:53.115Z"
   },
   {
    "duration": 45802,
    "start_time": "2022-08-04T18:06:54.840Z"
   },
   {
    "duration": 1834,
    "start_time": "2022-08-04T18:11:07.666Z"
   },
   {
    "duration": 132,
    "start_time": "2022-08-04T18:11:09.502Z"
   },
   {
    "duration": 13,
    "start_time": "2022-08-04T18:11:09.636Z"
   },
   {
    "duration": 15,
    "start_time": "2022-08-04T18:11:09.651Z"
   },
   {
    "duration": 14,
    "start_time": "2022-08-04T18:11:09.668Z"
   },
   {
    "duration": 26,
    "start_time": "2022-08-04T18:11:09.684Z"
   },
   {
    "duration": 6,
    "start_time": "2022-08-04T18:11:09.717Z"
   },
   {
    "duration": 15,
    "start_time": "2022-08-04T18:11:09.726Z"
   },
   {
    "duration": 7,
    "start_time": "2022-08-04T18:11:09.743Z"
   },
   {
    "duration": 10,
    "start_time": "2022-08-04T18:11:09.752Z"
   },
   {
    "duration": 8,
    "start_time": "2022-08-04T18:11:09.763Z"
   },
   {
    "duration": 10,
    "start_time": "2022-08-04T18:11:09.773Z"
   },
   {
    "duration": 40,
    "start_time": "2022-08-04T18:11:09.785Z"
   },
   {
    "duration": 433,
    "start_time": "2022-08-04T18:11:09.827Z"
   },
   {
    "duration": 18,
    "start_time": "2022-08-04T18:11:10.262Z"
   },
   {
    "duration": 11,
    "start_time": "2022-08-04T18:11:10.282Z"
   },
   {
    "duration": 37,
    "start_time": "2022-08-04T18:11:10.295Z"
   },
   {
    "duration": 16,
    "start_time": "2022-08-04T18:11:10.334Z"
   },
   {
    "duration": 10,
    "start_time": "2022-08-04T18:11:10.352Z"
   },
   {
    "duration": 11,
    "start_time": "2022-08-04T18:11:10.408Z"
   },
   {
    "duration": 25,
    "start_time": "2022-08-04T18:11:10.420Z"
   },
   {
    "duration": 10,
    "start_time": "2022-08-04T18:11:10.447Z"
   },
   {
    "duration": 11,
    "start_time": "2022-08-04T18:11:10.458Z"
   },
   {
    "duration": 40365,
    "start_time": "2022-08-04T18:11:10.470Z"
   },
   {
    "duration": 1889,
    "start_time": "2022-08-04T18:14:08.096Z"
   },
   {
    "duration": 126,
    "start_time": "2022-08-04T18:14:09.986Z"
   },
   {
    "duration": 14,
    "start_time": "2022-08-04T18:14:10.114Z"
   },
   {
    "duration": 13,
    "start_time": "2022-08-04T18:14:10.130Z"
   },
   {
    "duration": 10,
    "start_time": "2022-08-04T18:14:10.144Z"
   },
   {
    "duration": 5,
    "start_time": "2022-08-04T18:14:10.156Z"
   },
   {
    "duration": 5,
    "start_time": "2022-08-04T18:14:10.162Z"
   },
   {
    "duration": 12,
    "start_time": "2022-08-04T18:14:10.169Z"
   },
   {
    "duration": 13,
    "start_time": "2022-08-04T18:14:10.212Z"
   },
   {
    "duration": 10,
    "start_time": "2022-08-04T18:14:10.228Z"
   },
   {
    "duration": 12,
    "start_time": "2022-08-04T18:14:10.240Z"
   },
   {
    "duration": 14,
    "start_time": "2022-08-04T18:14:10.253Z"
   },
   {
    "duration": 28,
    "start_time": "2022-08-04T18:14:10.269Z"
   },
   {
    "duration": 465,
    "start_time": "2022-08-04T18:14:10.299Z"
   },
   {
    "duration": 17,
    "start_time": "2022-08-04T18:14:10.765Z"
   },
   {
    "duration": 7,
    "start_time": "2022-08-04T18:14:10.784Z"
   },
   {
    "duration": 32,
    "start_time": "2022-08-04T18:14:10.793Z"
   },
   {
    "duration": 19,
    "start_time": "2022-08-04T18:14:10.827Z"
   },
   {
    "duration": 8,
    "start_time": "2022-08-04T18:14:10.848Z"
   },
   {
    "duration": 56,
    "start_time": "2022-08-04T18:14:10.858Z"
   },
   {
    "duration": 24,
    "start_time": "2022-08-04T18:14:10.915Z"
   },
   {
    "duration": 6,
    "start_time": "2022-08-04T18:14:10.940Z"
   },
   {
    "duration": 9,
    "start_time": "2022-08-04T18:14:10.948Z"
   },
   {
    "duration": 1991,
    "start_time": "2022-08-04T18:17:34.357Z"
   },
   {
    "duration": 131,
    "start_time": "2022-08-04T18:17:36.350Z"
   },
   {
    "duration": 11,
    "start_time": "2022-08-04T18:17:36.483Z"
   },
   {
    "duration": 32,
    "start_time": "2022-08-04T18:17:36.496Z"
   },
   {
    "duration": 12,
    "start_time": "2022-08-04T18:17:36.534Z"
   },
   {
    "duration": 6,
    "start_time": "2022-08-04T18:17:36.548Z"
   },
   {
    "duration": 8,
    "start_time": "2022-08-04T18:17:36.556Z"
   },
   {
    "duration": 13,
    "start_time": "2022-08-04T18:17:36.566Z"
   },
   {
    "duration": 10,
    "start_time": "2022-08-04T18:17:36.581Z"
   },
   {
    "duration": 28,
    "start_time": "2022-08-04T18:17:36.592Z"
   },
   {
    "duration": 19,
    "start_time": "2022-08-04T18:17:36.623Z"
   },
   {
    "duration": 15,
    "start_time": "2022-08-04T18:17:36.644Z"
   },
   {
    "duration": 27,
    "start_time": "2022-08-04T18:17:36.661Z"
   },
   {
    "duration": 453,
    "start_time": "2022-08-04T18:17:36.691Z"
   },
   {
    "duration": 22,
    "start_time": "2022-08-04T18:17:37.147Z"
   },
   {
    "duration": 46,
    "start_time": "2022-08-04T18:17:37.171Z"
   },
   {
    "duration": 42,
    "start_time": "2022-08-04T18:17:37.219Z"
   },
   {
    "duration": 60,
    "start_time": "2022-08-04T18:17:37.263Z"
   },
   {
    "duration": 5,
    "start_time": "2022-08-04T18:17:37.325Z"
   },
   {
    "duration": 32,
    "start_time": "2022-08-04T18:17:37.332Z"
   },
   {
    "duration": 38,
    "start_time": "2022-08-04T18:17:37.367Z"
   },
   {
    "duration": 41,
    "start_time": "2022-08-04T18:17:37.407Z"
   },
   {
    "duration": 20,
    "start_time": "2022-08-04T18:17:37.450Z"
   },
   {
    "duration": 55545,
    "start_time": "2022-08-04T18:17:37.472Z"
   },
   {
    "duration": 1916,
    "start_time": "2022-08-04T18:19:18.053Z"
   },
   {
    "duration": 129,
    "start_time": "2022-08-04T18:19:19.971Z"
   },
   {
    "duration": 19,
    "start_time": "2022-08-04T18:19:20.102Z"
   },
   {
    "duration": 34,
    "start_time": "2022-08-04T18:19:20.123Z"
   },
   {
    "duration": 18,
    "start_time": "2022-08-04T18:19:20.160Z"
   },
   {
    "duration": 6,
    "start_time": "2022-08-04T18:19:20.179Z"
   },
   {
    "duration": 4,
    "start_time": "2022-08-04T18:19:20.187Z"
   },
   {
    "duration": 14,
    "start_time": "2022-08-04T18:19:20.193Z"
   },
   {
    "duration": 25,
    "start_time": "2022-08-04T18:19:20.212Z"
   },
   {
    "duration": 9,
    "start_time": "2022-08-04T18:19:20.239Z"
   },
   {
    "duration": 13,
    "start_time": "2022-08-04T18:19:20.249Z"
   },
   {
    "duration": 13,
    "start_time": "2022-08-04T18:19:20.264Z"
   },
   {
    "duration": 35,
    "start_time": "2022-08-04T18:19:20.279Z"
   },
   {
    "duration": 1844,
    "start_time": "2022-08-04T18:26:33.278Z"
   },
   {
    "duration": 120,
    "start_time": "2022-08-04T18:26:35.124Z"
   },
   {
    "duration": 12,
    "start_time": "2022-08-04T18:26:35.246Z"
   },
   {
    "duration": 13,
    "start_time": "2022-08-04T18:26:35.260Z"
   },
   {
    "duration": 10,
    "start_time": "2022-08-04T18:26:35.276Z"
   },
   {
    "duration": 21,
    "start_time": "2022-08-04T18:26:35.293Z"
   },
   {
    "duration": 14,
    "start_time": "2022-08-04T18:26:35.317Z"
   },
   {
    "duration": 12,
    "start_time": "2022-08-04T18:26:35.333Z"
   },
   {
    "duration": 10,
    "start_time": "2022-08-04T18:26:35.347Z"
   },
   {
    "duration": 7,
    "start_time": "2022-08-04T18:26:35.359Z"
   },
   {
    "duration": 9,
    "start_time": "2022-08-04T18:26:35.368Z"
   },
   {
    "duration": 13,
    "start_time": "2022-08-04T18:26:35.378Z"
   },
   {
    "duration": 35,
    "start_time": "2022-08-04T18:26:35.393Z"
   },
   {
    "duration": 457,
    "start_time": "2022-08-04T18:26:35.431Z"
   },
   {
    "duration": 31,
    "start_time": "2022-08-04T18:26:35.890Z"
   },
   {
    "duration": 29,
    "start_time": "2022-08-04T18:26:35.925Z"
   },
   {
    "duration": 69,
    "start_time": "2022-08-04T18:26:35.956Z"
   },
   {
    "duration": 26,
    "start_time": "2022-08-04T18:26:36.030Z"
   },
   {
    "duration": 18,
    "start_time": "2022-08-04T18:26:36.058Z"
   },
   {
    "duration": 10,
    "start_time": "2022-08-04T18:26:36.078Z"
   },
   {
    "duration": 5,
    "start_time": "2022-08-04T18:26:36.091Z"
   },
   {
    "duration": 9,
    "start_time": "2022-08-04T18:26:36.098Z"
   },
   {
    "duration": 24,
    "start_time": "2022-08-04T18:26:36.110Z"
   },
   {
    "duration": 49196,
    "start_time": "2022-08-04T18:26:36.136Z"
   },
   {
    "duration": 1958,
    "start_time": "2022-08-04T18:28:46.442Z"
   },
   {
    "duration": 132,
    "start_time": "2022-08-04T18:28:48.403Z"
   },
   {
    "duration": 12,
    "start_time": "2022-08-04T18:28:48.536Z"
   },
   {
    "duration": 19,
    "start_time": "2022-08-04T18:28:48.550Z"
   },
   {
    "duration": 14,
    "start_time": "2022-08-04T18:28:48.570Z"
   },
   {
    "duration": 31,
    "start_time": "2022-08-04T18:28:48.585Z"
   },
   {
    "duration": 12,
    "start_time": "2022-08-04T18:28:48.619Z"
   },
   {
    "duration": 16,
    "start_time": "2022-08-04T18:28:48.633Z"
   },
   {
    "duration": 16,
    "start_time": "2022-08-04T18:28:48.650Z"
   },
   {
    "duration": 9,
    "start_time": "2022-08-04T18:28:48.668Z"
   },
   {
    "duration": 13,
    "start_time": "2022-08-04T18:28:48.679Z"
   },
   {
    "duration": 17,
    "start_time": "2022-08-04T18:28:48.693Z"
   },
   {
    "duration": 30,
    "start_time": "2022-08-04T18:28:48.721Z"
   },
   {
    "duration": 1926,
    "start_time": "2022-08-04T18:29:52.995Z"
   },
   {
    "duration": 123,
    "start_time": "2022-08-04T18:29:54.924Z"
   },
   {
    "duration": 12,
    "start_time": "2022-08-04T18:29:55.048Z"
   },
   {
    "duration": 16,
    "start_time": "2022-08-04T18:29:55.062Z"
   },
   {
    "duration": 10,
    "start_time": "2022-08-04T18:29:55.080Z"
   },
   {
    "duration": 27,
    "start_time": "2022-08-04T18:29:55.091Z"
   },
   {
    "duration": 7,
    "start_time": "2022-08-04T18:29:55.126Z"
   },
   {
    "duration": 15,
    "start_time": "2022-08-04T18:29:55.135Z"
   },
   {
    "duration": 12,
    "start_time": "2022-08-04T18:29:55.151Z"
   },
   {
    "duration": 12,
    "start_time": "2022-08-04T18:29:55.165Z"
   },
   {
    "duration": 9,
    "start_time": "2022-08-04T18:29:55.179Z"
   },
   {
    "duration": 31,
    "start_time": "2022-08-04T18:29:55.190Z"
   },
   {
    "duration": 25,
    "start_time": "2022-08-04T18:29:55.224Z"
   },
   {
    "duration": 430,
    "start_time": "2022-08-04T18:29:55.252Z"
   },
   {
    "duration": 34,
    "start_time": "2022-08-04T18:29:55.683Z"
   },
   {
    "duration": 25,
    "start_time": "2022-08-04T18:29:55.719Z"
   },
   {
    "duration": 14,
    "start_time": "2022-08-04T18:29:55.746Z"
   },
   {
    "duration": 62,
    "start_time": "2022-08-04T18:29:55.762Z"
   },
   {
    "duration": 5,
    "start_time": "2022-08-04T18:29:55.827Z"
   },
   {
    "duration": 10,
    "start_time": "2022-08-04T18:29:55.835Z"
   },
   {
    "duration": 9,
    "start_time": "2022-08-04T18:29:55.847Z"
   },
   {
    "duration": 18,
    "start_time": "2022-08-04T18:29:55.858Z"
   },
   {
    "duration": 22,
    "start_time": "2022-08-04T18:29:55.879Z"
   },
   {
    "duration": 30008,
    "start_time": "2022-08-04T18:29:55.903Z"
   },
   {
    "duration": 145,
    "start_time": "2022-08-04T18:32:41.476Z"
   },
   {
    "duration": 2044,
    "start_time": "2022-08-04T18:34:14.243Z"
   },
   {
    "duration": 149,
    "start_time": "2022-08-04T18:34:16.289Z"
   },
   {
    "duration": 11,
    "start_time": "2022-08-04T18:34:16.440Z"
   },
   {
    "duration": 17,
    "start_time": "2022-08-04T18:34:16.453Z"
   },
   {
    "duration": 12,
    "start_time": "2022-08-04T18:34:16.472Z"
   },
   {
    "duration": 5,
    "start_time": "2022-08-04T18:34:16.486Z"
   },
   {
    "duration": 22,
    "start_time": "2022-08-04T18:34:16.492Z"
   },
   {
    "duration": 22,
    "start_time": "2022-08-04T18:34:16.516Z"
   },
   {
    "duration": 8,
    "start_time": "2022-08-04T18:34:16.539Z"
   },
   {
    "duration": 6,
    "start_time": "2022-08-04T18:34:16.550Z"
   },
   {
    "duration": 7,
    "start_time": "2022-08-04T18:34:16.558Z"
   },
   {
    "duration": 12,
    "start_time": "2022-08-04T18:34:16.566Z"
   },
   {
    "duration": 38,
    "start_time": "2022-08-04T18:34:16.580Z"
   },
   {
    "duration": 4,
    "start_time": "2022-08-04T18:34:16.620Z"
   },
   {
    "duration": 29,
    "start_time": "2022-08-04T18:34:16.626Z"
   },
   {
    "duration": 8,
    "start_time": "2022-08-04T18:34:16.657Z"
   },
   {
    "duration": 15,
    "start_time": "2022-08-04T18:34:16.667Z"
   },
   {
    "duration": 37,
    "start_time": "2022-08-04T18:34:16.684Z"
   },
   {
    "duration": 11,
    "start_time": "2022-08-04T18:34:16.723Z"
   },
   {
    "duration": 9,
    "start_time": "2022-08-04T18:34:16.735Z"
   },
   {
    "duration": 7,
    "start_time": "2022-08-04T18:34:16.746Z"
   },
   {
    "duration": 7,
    "start_time": "2022-08-04T18:34:16.754Z"
   },
   {
    "duration": 7,
    "start_time": "2022-08-04T18:34:16.763Z"
   },
   {
    "duration": 171,
    "start_time": "2022-08-04T18:34:16.771Z"
   },
   {
    "duration": 0,
    "start_time": "2022-08-04T18:34:16.944Z"
   },
   {
    "duration": 64683,
    "start_time": "2022-08-04T18:34:35.845Z"
   },
   {
    "duration": 132,
    "start_time": "2022-08-04T18:35:50.044Z"
   },
   {
    "duration": 2034,
    "start_time": "2022-08-04T18:37:44.345Z"
   },
   {
    "duration": 137,
    "start_time": "2022-08-04T18:37:46.381Z"
   },
   {
    "duration": 19,
    "start_time": "2022-08-04T18:37:46.520Z"
   },
   {
    "duration": 14,
    "start_time": "2022-08-04T18:37:46.541Z"
   },
   {
    "duration": 15,
    "start_time": "2022-08-04T18:37:46.557Z"
   },
   {
    "duration": 6,
    "start_time": "2022-08-04T18:37:46.573Z"
   },
   {
    "duration": 7,
    "start_time": "2022-08-04T18:37:46.580Z"
   },
   {
    "duration": 53,
    "start_time": "2022-08-04T18:37:46.589Z"
   },
   {
    "duration": 7,
    "start_time": "2022-08-04T18:37:46.644Z"
   },
   {
    "duration": 8,
    "start_time": "2022-08-04T18:37:46.654Z"
   },
   {
    "duration": 11,
    "start_time": "2022-08-04T18:37:46.664Z"
   },
   {
    "duration": 17,
    "start_time": "2022-08-04T18:37:46.677Z"
   },
   {
    "duration": 38,
    "start_time": "2022-08-04T18:37:46.695Z"
   },
   {
    "duration": 3,
    "start_time": "2022-08-04T18:37:46.735Z"
   },
   {
    "duration": 18,
    "start_time": "2022-08-04T18:37:46.740Z"
   },
   {
    "duration": 8,
    "start_time": "2022-08-04T18:37:46.761Z"
   },
   {
    "duration": 22,
    "start_time": "2022-08-04T18:37:46.771Z"
   },
   {
    "duration": 20,
    "start_time": "2022-08-04T18:37:46.810Z"
   },
   {
    "duration": 9,
    "start_time": "2022-08-04T18:37:46.832Z"
   },
   {
    "duration": 8,
    "start_time": "2022-08-04T18:37:46.843Z"
   },
   {
    "duration": 9,
    "start_time": "2022-08-04T18:37:46.853Z"
   },
   {
    "duration": 5,
    "start_time": "2022-08-04T18:37:46.864Z"
   },
   {
    "duration": 37,
    "start_time": "2022-08-04T18:37:46.872Z"
   },
   {
    "duration": 24999,
    "start_time": "2022-08-04T18:37:46.912Z"
   },
   {
    "duration": 0,
    "start_time": "2022-08-04T18:38:11.913Z"
   },
   {
    "duration": 0,
    "start_time": "2022-08-04T18:38:11.914Z"
   },
   {
    "duration": 1990,
    "start_time": "2022-08-04T18:38:38.028Z"
   },
   {
    "duration": 135,
    "start_time": "2022-08-04T18:38:40.020Z"
   },
   {
    "duration": 12,
    "start_time": "2022-08-04T18:38:40.157Z"
   },
   {
    "duration": 15,
    "start_time": "2022-08-04T18:38:40.171Z"
   },
   {
    "duration": 49,
    "start_time": "2022-08-04T18:38:40.189Z"
   },
   {
    "duration": 6,
    "start_time": "2022-08-04T18:38:40.240Z"
   },
   {
    "duration": 6,
    "start_time": "2022-08-04T18:38:40.248Z"
   },
   {
    "duration": 14,
    "start_time": "2022-08-04T18:38:40.256Z"
   },
   {
    "duration": 10,
    "start_time": "2022-08-04T18:38:40.272Z"
   },
   {
    "duration": 10,
    "start_time": "2022-08-04T18:38:40.284Z"
   },
   {
    "duration": 31,
    "start_time": "2022-08-04T18:38:40.309Z"
   },
   {
    "duration": 14,
    "start_time": "2022-08-04T18:38:40.342Z"
   },
   {
    "duration": 34,
    "start_time": "2022-08-04T18:38:40.359Z"
   },
   {
    "duration": 2,
    "start_time": "2022-08-04T18:38:40.397Z"
   },
   {
    "duration": 31,
    "start_time": "2022-08-04T18:38:40.402Z"
   },
   {
    "duration": 18,
    "start_time": "2022-08-04T18:38:40.435Z"
   },
   {
    "duration": 22,
    "start_time": "2022-08-04T18:38:40.455Z"
   },
   {
    "duration": 26,
    "start_time": "2022-08-04T18:38:40.479Z"
   },
   {
    "duration": 26,
    "start_time": "2022-08-04T18:38:40.510Z"
   },
   {
    "duration": 10,
    "start_time": "2022-08-04T18:38:40.539Z"
   },
   {
    "duration": 14,
    "start_time": "2022-08-04T18:38:40.551Z"
   },
   {
    "duration": 10,
    "start_time": "2022-08-04T18:38:40.566Z"
   },
   {
    "duration": 11,
    "start_time": "2022-08-04T18:38:40.578Z"
   },
   {
    "duration": 30736,
    "start_time": "2022-08-04T18:38:40.590Z"
   },
   {
    "duration": 0,
    "start_time": "2022-08-04T18:39:11.328Z"
   },
   {
    "duration": 0,
    "start_time": "2022-08-04T18:39:11.329Z"
   },
   {
    "duration": 1955,
    "start_time": "2022-08-04T18:39:54.152Z"
   },
   {
    "duration": 139,
    "start_time": "2022-08-04T18:39:56.113Z"
   },
   {
    "duration": 12,
    "start_time": "2022-08-04T18:39:56.254Z"
   },
   {
    "duration": 13,
    "start_time": "2022-08-04T18:39:56.268Z"
   },
   {
    "duration": 42,
    "start_time": "2022-08-04T18:39:56.283Z"
   },
   {
    "duration": 6,
    "start_time": "2022-08-04T18:39:56.327Z"
   },
   {
    "duration": 7,
    "start_time": "2022-08-04T18:39:56.334Z"
   },
   {
    "duration": 10,
    "start_time": "2022-08-04T18:39:56.343Z"
   },
   {
    "duration": 12,
    "start_time": "2022-08-04T18:39:56.355Z"
   },
   {
    "duration": 8,
    "start_time": "2022-08-04T18:39:56.369Z"
   },
   {
    "duration": 13,
    "start_time": "2022-08-04T18:39:56.378Z"
   },
   {
    "duration": 31,
    "start_time": "2022-08-04T18:39:56.393Z"
   },
   {
    "duration": 28,
    "start_time": "2022-08-04T18:39:56.426Z"
   },
   {
    "duration": 3,
    "start_time": "2022-08-04T18:39:56.457Z"
   },
   {
    "duration": 20,
    "start_time": "2022-08-04T18:39:56.461Z"
   },
   {
    "duration": 17,
    "start_time": "2022-08-04T18:39:56.482Z"
   },
   {
    "duration": 24,
    "start_time": "2022-08-04T18:39:56.501Z"
   },
   {
    "duration": 18,
    "start_time": "2022-08-04T18:39:56.528Z"
   },
   {
    "duration": 9,
    "start_time": "2022-08-04T18:39:56.548Z"
   },
   {
    "duration": 14,
    "start_time": "2022-08-04T18:39:56.559Z"
   },
   {
    "duration": 8,
    "start_time": "2022-08-04T18:39:56.575Z"
   },
   {
    "duration": 6,
    "start_time": "2022-08-04T18:39:56.585Z"
   },
   {
    "duration": 39,
    "start_time": "2022-08-04T18:39:56.593Z"
   },
   {
    "duration": 32775,
    "start_time": "2022-08-04T18:39:56.634Z"
   },
   {
    "duration": 269,
    "start_time": "2022-08-04T18:40:29.411Z"
   },
   {
    "duration": 0,
    "start_time": "2022-08-04T18:40:29.682Z"
   },
   {
    "duration": 1922,
    "start_time": "2022-08-04T18:41:02.466Z"
   },
   {
    "duration": 137,
    "start_time": "2022-08-04T18:41:04.390Z"
   },
   {
    "duration": 12,
    "start_time": "2022-08-04T18:41:04.529Z"
   },
   {
    "duration": 13,
    "start_time": "2022-08-04T18:41:04.543Z"
   },
   {
    "duration": 14,
    "start_time": "2022-08-04T18:41:04.559Z"
   },
   {
    "duration": 7,
    "start_time": "2022-08-04T18:41:04.575Z"
   },
   {
    "duration": 29,
    "start_time": "2022-08-04T18:41:04.583Z"
   },
   {
    "duration": 26,
    "start_time": "2022-08-04T18:41:04.614Z"
   },
   {
    "duration": 8,
    "start_time": "2022-08-04T18:41:04.642Z"
   },
   {
    "duration": 12,
    "start_time": "2022-08-04T18:41:04.652Z"
   },
   {
    "duration": 13,
    "start_time": "2022-08-04T18:41:04.666Z"
   },
   {
    "duration": 14,
    "start_time": "2022-08-04T18:41:04.680Z"
   },
   {
    "duration": 37,
    "start_time": "2022-08-04T18:41:04.695Z"
   },
   {
    "duration": 4,
    "start_time": "2022-08-04T18:41:04.735Z"
   },
   {
    "duration": 19,
    "start_time": "2022-08-04T18:41:04.741Z"
   },
   {
    "duration": 7,
    "start_time": "2022-08-04T18:41:04.762Z"
   },
   {
    "duration": 13,
    "start_time": "2022-08-04T18:41:04.770Z"
   },
   {
    "duration": 40,
    "start_time": "2022-08-04T18:41:04.785Z"
   },
   {
    "duration": 11,
    "start_time": "2022-08-04T18:41:04.828Z"
   },
   {
    "duration": 15,
    "start_time": "2022-08-04T18:41:04.840Z"
   },
   {
    "duration": 5,
    "start_time": "2022-08-04T18:41:04.857Z"
   },
   {
    "duration": 5,
    "start_time": "2022-08-04T18:41:04.864Z"
   },
   {
    "duration": 9,
    "start_time": "2022-08-04T18:41:04.871Z"
   },
   {
    "duration": 35745,
    "start_time": "2022-08-04T18:41:04.882Z"
   },
   {
    "duration": 17755,
    "start_time": "2022-08-04T18:42:01.711Z"
   },
   {
    "duration": 9067,
    "start_time": "2022-08-04T18:42:26.468Z"
   },
   {
    "duration": 8785,
    "start_time": "2022-08-04T18:42:36.843Z"
   },
   {
    "duration": 24983,
    "start_time": "2022-08-04T18:42:53.045Z"
   },
   {
    "duration": 2030,
    "start_time": "2022-08-04T18:43:30.380Z"
   },
   {
    "duration": 121,
    "start_time": "2022-08-04T18:43:32.412Z"
   },
   {
    "duration": 11,
    "start_time": "2022-08-04T18:43:32.535Z"
   },
   {
    "duration": 14,
    "start_time": "2022-08-04T18:43:32.548Z"
   },
   {
    "duration": 14,
    "start_time": "2022-08-04T18:43:32.564Z"
   },
   {
    "duration": 7,
    "start_time": "2022-08-04T18:43:32.580Z"
   },
   {
    "duration": 6,
    "start_time": "2022-08-04T18:43:32.609Z"
   },
   {
    "duration": 27,
    "start_time": "2022-08-04T18:43:32.617Z"
   },
   {
    "duration": 6,
    "start_time": "2022-08-04T18:43:32.646Z"
   },
   {
    "duration": 11,
    "start_time": "2022-08-04T18:43:32.653Z"
   },
   {
    "duration": 16,
    "start_time": "2022-08-04T18:43:32.666Z"
   },
   {
    "duration": 13,
    "start_time": "2022-08-04T18:43:32.684Z"
   },
   {
    "duration": 33,
    "start_time": "2022-08-04T18:43:32.699Z"
   },
   {
    "duration": 3,
    "start_time": "2022-08-04T18:43:32.734Z"
   },
   {
    "duration": 22,
    "start_time": "2022-08-04T18:43:32.738Z"
   },
   {
    "duration": 10,
    "start_time": "2022-08-04T18:43:32.761Z"
   },
   {
    "duration": 13,
    "start_time": "2022-08-04T18:43:32.773Z"
   },
   {
    "duration": 31,
    "start_time": "2022-08-04T18:43:32.788Z"
   },
   {
    "duration": 13,
    "start_time": "2022-08-04T18:43:32.821Z"
   },
   {
    "duration": 5,
    "start_time": "2022-08-04T18:43:32.836Z"
   },
   {
    "duration": 6,
    "start_time": "2022-08-04T18:43:32.842Z"
   },
   {
    "duration": 7,
    "start_time": "2022-08-04T18:43:32.849Z"
   },
   {
    "duration": 9,
    "start_time": "2022-08-04T18:43:32.858Z"
   },
   {
    "duration": 32547,
    "start_time": "2022-08-04T18:43:32.868Z"
   },
   {
    "duration": 6,
    "start_time": "2022-08-04T18:51:15.771Z"
   },
   {
    "duration": 4,
    "start_time": "2022-08-04T18:51:24.262Z"
   },
   {
    "duration": 145,
    "start_time": "2022-08-04T18:52:46.241Z"
   },
   {
    "duration": 12,
    "start_time": "2022-08-04T18:54:08.781Z"
   },
   {
    "duration": 3,
    "start_time": "2022-08-04T18:55:10.063Z"
   },
   {
    "duration": 5,
    "start_time": "2022-08-04T18:55:12.852Z"
   },
   {
    "duration": 3,
    "start_time": "2022-08-04T19:04:46.148Z"
   },
   {
    "duration": 12,
    "start_time": "2022-08-04T19:04:47.384Z"
   },
   {
    "duration": 14,
    "start_time": "2022-08-04T19:10:30.626Z"
   },
   {
    "duration": 11,
    "start_time": "2022-08-04T19:11:12.787Z"
   },
   {
    "duration": 10,
    "start_time": "2022-08-04T19:11:26.929Z"
   },
   {
    "duration": 25,
    "start_time": "2022-08-04T19:11:53.829Z"
   },
   {
    "duration": 971,
    "start_time": "2022-08-04T19:17:01.045Z"
   },
   {
    "duration": 6,
    "start_time": "2022-08-04T19:20:29.755Z"
   },
   {
    "duration": 11,
    "start_time": "2022-08-04T19:20:36.186Z"
   },
   {
    "duration": 7,
    "start_time": "2022-08-04T19:21:37.705Z"
   },
   {
    "duration": 10,
    "start_time": "2022-08-04T19:21:38.463Z"
   },
   {
    "duration": 7,
    "start_time": "2022-08-04T19:22:18.025Z"
   },
   {
    "duration": 16,
    "start_time": "2022-08-04T19:22:18.506Z"
   },
   {
    "duration": 1850,
    "start_time": "2022-08-04T19:22:26.444Z"
   },
   {
    "duration": 122,
    "start_time": "2022-08-04T19:22:28.296Z"
   },
   {
    "duration": 11,
    "start_time": "2022-08-04T19:22:28.419Z"
   },
   {
    "duration": 14,
    "start_time": "2022-08-04T19:22:28.432Z"
   },
   {
    "duration": 10,
    "start_time": "2022-08-04T19:22:28.447Z"
   },
   {
    "duration": 5,
    "start_time": "2022-08-04T19:22:28.459Z"
   },
   {
    "duration": 7,
    "start_time": "2022-08-04T19:22:28.465Z"
   },
   {
    "duration": 11,
    "start_time": "2022-08-04T19:22:28.474Z"
   },
   {
    "duration": 4,
    "start_time": "2022-08-04T19:22:28.509Z"
   },
   {
    "duration": 9,
    "start_time": "2022-08-04T19:22:28.516Z"
   },
   {
    "duration": 14,
    "start_time": "2022-08-04T19:22:28.526Z"
   },
   {
    "duration": 12,
    "start_time": "2022-08-04T19:22:28.542Z"
   },
   {
    "duration": 24,
    "start_time": "2022-08-04T19:22:28.555Z"
   },
   {
    "duration": 2,
    "start_time": "2022-08-04T19:22:28.581Z"
   },
   {
    "duration": 32,
    "start_time": "2022-08-04T19:22:28.585Z"
   },
   {
    "duration": 10,
    "start_time": "2022-08-04T19:22:28.618Z"
   },
   {
    "duration": 15,
    "start_time": "2022-08-04T19:22:28.629Z"
   },
   {
    "duration": 17,
    "start_time": "2022-08-04T19:22:28.645Z"
   },
   {
    "duration": 14,
    "start_time": "2022-08-04T19:22:28.663Z"
   },
   {
    "duration": 7,
    "start_time": "2022-08-04T19:22:28.679Z"
   },
   {
    "duration": 8,
    "start_time": "2022-08-04T19:22:28.687Z"
   },
   {
    "duration": 19,
    "start_time": "2022-08-04T19:22:28.696Z"
   },
   {
    "duration": 10,
    "start_time": "2022-08-04T19:22:28.716Z"
   },
   {
    "duration": 21703,
    "start_time": "2022-08-04T19:22:28.727Z"
   },
   {
    "duration": 80,
    "start_time": "2022-08-04T19:22:50.432Z"
   },
   {
    "duration": 9,
    "start_time": "2022-08-04T19:22:50.514Z"
   },
   {
    "duration": 12,
    "start_time": "2022-08-04T19:22:50.524Z"
   },
   {
    "duration": 145,
    "start_time": "2022-08-04T19:22:50.538Z"
   },
   {
    "duration": 4,
    "start_time": "2022-08-04T19:23:24.605Z"
   },
   {
    "duration": 3,
    "start_time": "2022-08-04T19:24:18.115Z"
   },
   {
    "duration": 10,
    "start_time": "2022-08-04T19:24:24.034Z"
   },
   {
    "duration": 7,
    "start_time": "2022-08-04T19:25:32.704Z"
   },
   {
    "duration": 11,
    "start_time": "2022-08-04T19:25:37.133Z"
   },
   {
    "duration": 6,
    "start_time": "2022-08-04T19:26:13.376Z"
   },
   {
    "duration": 9,
    "start_time": "2022-08-04T19:26:16.862Z"
   },
   {
    "duration": 2790,
    "start_time": "2022-08-04T19:29:05.724Z"
   },
   {
    "duration": 232,
    "start_time": "2022-08-04T19:29:08.518Z"
   },
   {
    "duration": 73,
    "start_time": "2022-08-04T19:29:08.751Z"
   },
   {
    "duration": 4,
    "start_time": "2022-08-04T19:29:08.827Z"
   },
   {
    "duration": 12,
    "start_time": "2022-08-04T19:29:08.832Z"
   },
   {
    "duration": 10,
    "start_time": "2022-08-04T19:29:08.845Z"
   },
   {
    "duration": 63,
    "start_time": "2022-08-04T19:29:08.857Z"
   },
   {
    "duration": 4,
    "start_time": "2022-08-04T19:29:08.923Z"
   },
   {
    "duration": 11,
    "start_time": "2022-08-04T19:29:08.929Z"
   },
   {
    "duration": 8,
    "start_time": "2022-08-04T19:29:08.942Z"
   },
   {
    "duration": 8,
    "start_time": "2022-08-04T19:29:08.952Z"
   },
   {
    "duration": 59,
    "start_time": "2022-08-04T19:29:08.961Z"
   },
   {
    "duration": 10,
    "start_time": "2022-08-04T19:29:09.022Z"
   },
   {
    "duration": 23,
    "start_time": "2022-08-04T19:29:09.033Z"
   },
   {
    "duration": 2,
    "start_time": "2022-08-04T19:29:09.057Z"
   },
   {
    "duration": 70,
    "start_time": "2022-08-04T19:29:09.060Z"
   },
   {
    "duration": 6,
    "start_time": "2022-08-04T19:29:09.132Z"
   },
   {
    "duration": 15,
    "start_time": "2022-08-04T19:29:09.140Z"
   },
   {
    "duration": 64,
    "start_time": "2022-08-04T19:29:09.156Z"
   },
   {
    "duration": 7,
    "start_time": "2022-08-04T19:29:09.222Z"
   },
   {
    "duration": 7,
    "start_time": "2022-08-04T19:29:09.231Z"
   },
   {
    "duration": 4,
    "start_time": "2022-08-04T19:29:09.239Z"
   },
   {
    "duration": 5,
    "start_time": "2022-08-04T19:29:09.245Z"
   },
   {
    "duration": 7,
    "start_time": "2022-08-04T19:29:09.252Z"
   },
   {
    "duration": 29368,
    "start_time": "2022-08-04T19:29:09.260Z"
   },
   {
    "duration": 5,
    "start_time": "2022-08-04T19:29:38.630Z"
   },
   {
    "duration": 4,
    "start_time": "2022-08-04T19:29:38.710Z"
   },
   {
    "duration": 4,
    "start_time": "2022-08-04T19:29:38.717Z"
   },
   {
    "duration": 12,
    "start_time": "2022-08-04T19:29:38.723Z"
   },
   {
    "duration": 147,
    "start_time": "2022-08-04T19:29:38.737Z"
   },
   {
    "duration": 1807,
    "start_time": "2022-08-04T19:31:12.029Z"
   },
   {
    "duration": 115,
    "start_time": "2022-08-04T19:31:13.837Z"
   },
   {
    "duration": 11,
    "start_time": "2022-08-04T19:31:13.953Z"
   },
   {
    "duration": 12,
    "start_time": "2022-08-04T19:31:13.966Z"
   },
   {
    "duration": 10,
    "start_time": "2022-08-04T19:31:13.980Z"
   },
   {
    "duration": 20,
    "start_time": "2022-08-04T19:31:13.992Z"
   },
   {
    "duration": 6,
    "start_time": "2022-08-04T19:31:14.014Z"
   },
   {
    "duration": 13,
    "start_time": "2022-08-04T19:31:14.021Z"
   },
   {
    "duration": 10,
    "start_time": "2022-08-04T19:31:14.036Z"
   },
   {
    "duration": 9,
    "start_time": "2022-08-04T19:31:14.048Z"
   },
   {
    "duration": 8,
    "start_time": "2022-08-04T19:31:14.059Z"
   },
   {
    "duration": 12,
    "start_time": "2022-08-04T19:31:14.069Z"
   },
   {
    "duration": 41,
    "start_time": "2022-08-04T19:31:14.083Z"
   },
   {
    "duration": 2,
    "start_time": "2022-08-04T19:31:14.128Z"
   },
   {
    "duration": 5,
    "start_time": "2022-08-04T19:31:14.132Z"
   },
   {
    "duration": 18,
    "start_time": "2022-08-04T19:31:14.139Z"
   },
   {
    "duration": 7,
    "start_time": "2022-08-04T19:31:14.159Z"
   },
   {
    "duration": 44,
    "start_time": "2022-08-04T19:31:14.167Z"
   },
   {
    "duration": 12,
    "start_time": "2022-08-04T19:31:14.212Z"
   },
   {
    "duration": 8,
    "start_time": "2022-08-04T19:31:14.226Z"
   },
   {
    "duration": 14,
    "start_time": "2022-08-04T19:31:14.236Z"
   },
   {
    "duration": 5,
    "start_time": "2022-08-04T19:31:14.252Z"
   },
   {
    "duration": 7,
    "start_time": "2022-08-04T19:31:14.259Z"
   },
   {
    "duration": 7,
    "start_time": "2022-08-04T19:31:14.267Z"
   },
   {
    "duration": 25034,
    "start_time": "2022-08-04T19:31:14.275Z"
   },
   {
    "duration": 5,
    "start_time": "2022-08-04T19:31:39.311Z"
   },
   {
    "duration": 16,
    "start_time": "2022-08-04T19:31:39.318Z"
   },
   {
    "duration": 10,
    "start_time": "2022-08-04T19:31:39.336Z"
   },
   {
    "duration": 21,
    "start_time": "2022-08-04T19:31:39.349Z"
   },
   {
    "duration": 147,
    "start_time": "2022-08-04T19:31:39.371Z"
   },
   {
    "duration": 45,
    "start_time": "2022-08-04T19:42:51.360Z"
   },
   {
    "duration": 6,
    "start_time": "2022-08-04T19:42:57.327Z"
   },
   {
    "duration": 2108,
    "start_time": "2022-08-04T19:44:05.442Z"
   },
   {
    "duration": 126,
    "start_time": "2022-08-04T19:44:07.552Z"
   },
   {
    "duration": 12,
    "start_time": "2022-08-04T19:44:07.679Z"
   },
   {
    "duration": 27,
    "start_time": "2022-08-04T19:44:07.693Z"
   },
   {
    "duration": 20,
    "start_time": "2022-08-04T19:44:07.724Z"
   },
   {
    "duration": 5,
    "start_time": "2022-08-04T19:44:07.745Z"
   },
   {
    "duration": 6,
    "start_time": "2022-08-04T19:44:07.752Z"
   },
   {
    "duration": 14,
    "start_time": "2022-08-04T19:44:07.759Z"
   },
   {
    "duration": 7,
    "start_time": "2022-08-04T19:44:07.774Z"
   },
   {
    "duration": 8,
    "start_time": "2022-08-04T19:44:07.782Z"
   },
   {
    "duration": 10,
    "start_time": "2022-08-04T19:44:07.791Z"
   },
   {
    "duration": 14,
    "start_time": "2022-08-04T19:44:07.802Z"
   },
   {
    "duration": 30,
    "start_time": "2022-08-04T19:44:07.818Z"
   },
   {
    "duration": 2,
    "start_time": "2022-08-04T19:44:07.851Z"
   },
   {
    "duration": 7,
    "start_time": "2022-08-04T19:44:07.855Z"
   },
   {
    "duration": 17,
    "start_time": "2022-08-04T19:44:07.863Z"
   },
   {
    "duration": 6,
    "start_time": "2022-08-04T19:44:07.881Z"
   },
   {
    "duration": 31,
    "start_time": "2022-08-04T19:44:07.889Z"
   },
   {
    "duration": 14,
    "start_time": "2022-08-04T19:44:07.923Z"
   },
   {
    "duration": 9,
    "start_time": "2022-08-04T19:44:07.938Z"
   },
   {
    "duration": 5,
    "start_time": "2022-08-04T19:44:07.948Z"
   },
   {
    "duration": 5,
    "start_time": "2022-08-04T19:44:07.954Z"
   },
   {
    "duration": 6,
    "start_time": "2022-08-04T19:44:07.961Z"
   },
   {
    "duration": 6,
    "start_time": "2022-08-04T19:44:07.969Z"
   },
   {
    "duration": 35254,
    "start_time": "2022-08-04T19:44:07.977Z"
   },
   {
    "duration": 86,
    "start_time": "2022-08-04T19:44:43.233Z"
   },
   {
    "duration": 14,
    "start_time": "2022-08-04T19:44:43.321Z"
   },
   {
    "duration": 162,
    "start_time": "2022-08-04T19:44:43.336Z"
   },
   {
    "duration": 0,
    "start_time": "2022-08-04T19:44:43.500Z"
   },
   {
    "duration": 6,
    "start_time": "2022-08-04T19:45:11.203Z"
   },
   {
    "duration": 14,
    "start_time": "2022-08-04T19:45:12.830Z"
   },
   {
    "duration": 13,
    "start_time": "2022-08-04T19:45:37.319Z"
   },
   {
    "duration": 57,
    "start_time": "2022-08-04T19:47:15.129Z"
   },
   {
    "duration": 46,
    "start_time": "2022-08-04T19:47:29.802Z"
   },
   {
    "duration": 17,
    "start_time": "2022-08-04T19:48:20.841Z"
   },
   {
    "duration": 4,
    "start_time": "2022-08-04T19:50:40.680Z"
   },
   {
    "duration": 22,
    "start_time": "2022-08-04T19:51:16.440Z"
   },
   {
    "duration": 4,
    "start_time": "2022-08-04T19:51:24.969Z"
   },
   {
    "duration": 1792,
    "start_time": "2022-08-04T19:52:39.820Z"
   },
   {
    "duration": 125,
    "start_time": "2022-08-04T19:52:41.614Z"
   },
   {
    "duration": 11,
    "start_time": "2022-08-04T19:52:41.740Z"
   },
   {
    "duration": 13,
    "start_time": "2022-08-04T19:52:41.753Z"
   },
   {
    "duration": 10,
    "start_time": "2022-08-04T19:52:41.769Z"
   },
   {
    "duration": 5,
    "start_time": "2022-08-04T19:52:41.781Z"
   },
   {
    "duration": 3,
    "start_time": "2022-08-04T19:52:41.810Z"
   },
   {
    "duration": 11,
    "start_time": "2022-08-04T19:52:41.815Z"
   },
   {
    "duration": 6,
    "start_time": "2022-08-04T19:52:41.827Z"
   },
   {
    "duration": 7,
    "start_time": "2022-08-04T19:52:41.835Z"
   },
   {
    "duration": 7,
    "start_time": "2022-08-04T19:52:41.844Z"
   },
   {
    "duration": 13,
    "start_time": "2022-08-04T19:52:41.852Z"
   },
   {
    "duration": 48,
    "start_time": "2022-08-04T19:52:41.866Z"
   },
   {
    "duration": 2,
    "start_time": "2022-08-04T19:52:41.917Z"
   },
   {
    "duration": 7,
    "start_time": "2022-08-04T19:52:41.920Z"
   },
   {
    "duration": 18,
    "start_time": "2022-08-04T19:52:41.928Z"
   },
   {
    "duration": 8,
    "start_time": "2022-08-04T19:52:41.947Z"
   },
   {
    "duration": 13,
    "start_time": "2022-08-04T19:52:41.956Z"
   },
   {
    "duration": 16,
    "start_time": "2022-08-04T19:52:41.970Z"
   },
   {
    "duration": 5,
    "start_time": "2022-08-04T19:52:42.014Z"
   },
   {
    "duration": 10,
    "start_time": "2022-08-04T19:52:42.021Z"
   },
   {
    "duration": 4,
    "start_time": "2022-08-04T19:52:42.033Z"
   },
   {
    "duration": 8,
    "start_time": "2022-08-04T19:52:42.039Z"
   },
   {
    "duration": 5,
    "start_time": "2022-08-04T19:52:42.049Z"
   },
   {
    "duration": 23562,
    "start_time": "2022-08-04T19:52:42.056Z"
   },
   {
    "duration": 5,
    "start_time": "2022-08-04T19:53:05.619Z"
   },
   {
    "duration": 7,
    "start_time": "2022-08-04T19:53:05.626Z"
   },
   {
    "duration": 177,
    "start_time": "2022-08-04T19:53:05.635Z"
   },
   {
    "duration": 0,
    "start_time": "2022-08-04T19:53:05.813Z"
   },
   {
    "duration": 12,
    "start_time": "2022-08-04T19:53:25.330Z"
   },
   {
    "duration": 2015,
    "start_time": "2022-08-04T19:57:25.839Z"
   },
   {
    "duration": 130,
    "start_time": "2022-08-04T19:57:27.856Z"
   },
   {
    "duration": 23,
    "start_time": "2022-08-04T19:57:27.988Z"
   },
   {
    "duration": 18,
    "start_time": "2022-08-04T19:57:28.014Z"
   },
   {
    "duration": 12,
    "start_time": "2022-08-04T19:57:28.034Z"
   },
   {
    "duration": 6,
    "start_time": "2022-08-04T19:57:28.049Z"
   },
   {
    "duration": 7,
    "start_time": "2022-08-04T19:57:28.057Z"
   },
   {
    "duration": 14,
    "start_time": "2022-08-04T19:57:28.066Z"
   },
   {
    "duration": 30,
    "start_time": "2022-08-04T19:57:28.082Z"
   },
   {
    "duration": 10,
    "start_time": "2022-08-04T19:57:28.115Z"
   },
   {
    "duration": 16,
    "start_time": "2022-08-04T19:57:28.127Z"
   },
   {
    "duration": 13,
    "start_time": "2022-08-04T19:57:28.145Z"
   },
   {
    "duration": 27,
    "start_time": "2022-08-04T19:57:28.159Z"
   },
   {
    "duration": 23,
    "start_time": "2022-08-04T19:57:28.188Z"
   },
   {
    "duration": 9,
    "start_time": "2022-08-04T19:57:28.213Z"
   },
   {
    "duration": 25,
    "start_time": "2022-08-04T19:57:28.224Z"
   },
   {
    "duration": 9,
    "start_time": "2022-08-04T19:57:28.251Z"
   },
   {
    "duration": 47,
    "start_time": "2022-08-04T19:57:28.262Z"
   },
   {
    "duration": 18,
    "start_time": "2022-08-04T19:57:28.311Z"
   },
   {
    "duration": 7,
    "start_time": "2022-08-04T19:57:28.331Z"
   },
   {
    "duration": 9,
    "start_time": "2022-08-04T19:57:28.340Z"
   },
   {
    "duration": 7,
    "start_time": "2022-08-04T19:57:28.350Z"
   },
   {
    "duration": 11,
    "start_time": "2022-08-04T19:57:28.359Z"
   },
   {
    "duration": 8,
    "start_time": "2022-08-04T19:57:28.372Z"
   },
   {
    "duration": 25439,
    "start_time": "2022-08-04T19:57:28.382Z"
   },
   {
    "duration": 6,
    "start_time": "2022-08-04T19:57:53.823Z"
   },
   {
    "duration": 20,
    "start_time": "2022-08-04T19:57:53.831Z"
   },
   {
    "duration": 64,
    "start_time": "2022-08-04T19:57:53.854Z"
   },
   {
    "duration": 1922,
    "start_time": "2022-08-04T20:01:26.560Z"
   },
   {
    "duration": 127,
    "start_time": "2022-08-04T20:01:28.483Z"
   },
   {
    "duration": 18,
    "start_time": "2022-08-04T20:01:28.612Z"
   },
   {
    "duration": 16,
    "start_time": "2022-08-04T20:01:28.632Z"
   },
   {
    "duration": 29,
    "start_time": "2022-08-04T20:01:28.651Z"
   },
   {
    "duration": 29,
    "start_time": "2022-08-04T20:01:28.682Z"
   },
   {
    "duration": 5,
    "start_time": "2022-08-04T20:01:28.714Z"
   },
   {
    "duration": 17,
    "start_time": "2022-08-04T20:01:28.722Z"
   },
   {
    "duration": 6,
    "start_time": "2022-08-04T20:01:28.740Z"
   },
   {
    "duration": 8,
    "start_time": "2022-08-04T20:01:28.747Z"
   },
   {
    "duration": 10,
    "start_time": "2022-08-04T20:01:28.757Z"
   },
   {
    "duration": 55,
    "start_time": "2022-08-04T20:01:28.769Z"
   },
   {
    "duration": 3,
    "start_time": "2022-08-04T20:01:28.826Z"
   },
   {
    "duration": 13,
    "start_time": "2022-08-04T20:01:28.833Z"
   },
   {
    "duration": 23,
    "start_time": "2022-08-04T20:01:28.848Z"
   },
   {
    "duration": 28,
    "start_time": "2022-08-04T20:01:28.873Z"
   },
   {
    "duration": 18,
    "start_time": "2022-08-04T20:01:28.903Z"
   },
   {
    "duration": 18,
    "start_time": "2022-08-04T20:01:28.923Z"
   },
   {
    "duration": 26,
    "start_time": "2022-08-04T20:01:28.943Z"
   },
   {
    "duration": 9,
    "start_time": "2022-08-04T20:01:28.972Z"
   },
   {
    "duration": 7,
    "start_time": "2022-08-04T20:01:28.983Z"
   },
   {
    "duration": 6,
    "start_time": "2022-08-04T20:01:28.991Z"
   },
   {
    "duration": 8,
    "start_time": "2022-08-04T20:01:29.009Z"
   },
   {
    "duration": 7,
    "start_time": "2022-08-04T20:01:29.019Z"
   },
   {
    "duration": 22694,
    "start_time": "2022-08-04T20:01:29.027Z"
   },
   {
    "duration": 982,
    "start_time": "2022-08-04T20:01:51.723Z"
   },
   {
    "duration": 0,
    "start_time": "2022-08-04T20:01:52.707Z"
   },
   {
    "duration": 5,
    "start_time": "2022-08-04T20:04:32.119Z"
   },
   {
    "duration": 11,
    "start_time": "2022-08-04T20:04:33.929Z"
   },
   {
    "duration": 36,
    "start_time": "2022-08-04T20:05:18.117Z"
   },
   {
    "duration": 1849,
    "start_time": "2022-08-04T20:07:48.635Z"
   },
   {
    "duration": 120,
    "start_time": "2022-08-04T20:07:50.486Z"
   },
   {
    "duration": 13,
    "start_time": "2022-08-04T20:07:50.607Z"
   },
   {
    "duration": 17,
    "start_time": "2022-08-04T20:07:50.622Z"
   },
   {
    "duration": 14,
    "start_time": "2022-08-04T20:07:50.642Z"
   },
   {
    "duration": 6,
    "start_time": "2022-08-04T20:07:50.658Z"
   },
   {
    "duration": 8,
    "start_time": "2022-08-04T20:07:50.665Z"
   },
   {
    "duration": 39,
    "start_time": "2022-08-04T20:07:50.674Z"
   },
   {
    "duration": 27,
    "start_time": "2022-08-04T20:07:50.714Z"
   },
   {
    "duration": 11,
    "start_time": "2022-08-04T20:07:50.743Z"
   },
   {
    "duration": 8,
    "start_time": "2022-08-04T20:07:50.756Z"
   },
   {
    "duration": 27,
    "start_time": "2022-08-04T20:07:50.766Z"
   },
   {
    "duration": 2,
    "start_time": "2022-08-04T20:07:50.795Z"
   },
   {
    "duration": 9,
    "start_time": "2022-08-04T20:07:50.800Z"
   },
   {
    "duration": 141,
    "start_time": "2022-08-04T20:07:50.811Z"
   },
   {
    "duration": 0,
    "start_time": "2022-08-04T20:07:50.954Z"
   },
   {
    "duration": 0,
    "start_time": "2022-08-04T20:07:50.955Z"
   },
   {
    "duration": 0,
    "start_time": "2022-08-04T20:07:50.956Z"
   },
   {
    "duration": 0,
    "start_time": "2022-08-04T20:07:50.957Z"
   },
   {
    "duration": 0,
    "start_time": "2022-08-04T20:07:50.958Z"
   },
   {
    "duration": 0,
    "start_time": "2022-08-04T20:07:50.959Z"
   },
   {
    "duration": 0,
    "start_time": "2022-08-04T20:07:50.960Z"
   },
   {
    "duration": 0,
    "start_time": "2022-08-04T20:07:50.961Z"
   },
   {
    "duration": 0,
    "start_time": "2022-08-04T20:07:50.962Z"
   },
   {
    "duration": 0,
    "start_time": "2022-08-04T20:07:50.963Z"
   },
   {
    "duration": 0,
    "start_time": "2022-08-04T20:07:50.964Z"
   },
   {
    "duration": 0,
    "start_time": "2022-08-04T20:07:50.965Z"
   },
   {
    "duration": 1936,
    "start_time": "2022-08-04T20:08:19.485Z"
   },
   {
    "duration": 121,
    "start_time": "2022-08-04T20:08:21.423Z"
   },
   {
    "duration": 11,
    "start_time": "2022-08-04T20:08:21.546Z"
   },
   {
    "duration": 16,
    "start_time": "2022-08-04T20:08:21.558Z"
   },
   {
    "duration": 11,
    "start_time": "2022-08-04T20:08:21.576Z"
   },
   {
    "duration": 21,
    "start_time": "2022-08-04T20:08:21.589Z"
   },
   {
    "duration": 7,
    "start_time": "2022-08-04T20:08:21.612Z"
   },
   {
    "duration": 18,
    "start_time": "2022-08-04T20:08:21.621Z"
   },
   {
    "duration": 8,
    "start_time": "2022-08-04T20:08:21.642Z"
   },
   {
    "duration": 12,
    "start_time": "2022-08-04T20:08:21.653Z"
   },
   {
    "duration": 14,
    "start_time": "2022-08-04T20:08:21.667Z"
   },
   {
    "duration": 55,
    "start_time": "2022-08-04T20:08:21.683Z"
   },
   {
    "duration": 2,
    "start_time": "2022-08-04T20:08:21.741Z"
   },
   {
    "duration": 6,
    "start_time": "2022-08-04T20:08:21.745Z"
   },
   {
    "duration": 13,
    "start_time": "2022-08-04T20:08:21.753Z"
   },
   {
    "duration": 19,
    "start_time": "2022-08-04T20:08:21.767Z"
   },
   {
    "duration": 26,
    "start_time": "2022-08-04T20:08:21.788Z"
   },
   {
    "duration": 14,
    "start_time": "2022-08-04T20:08:21.816Z"
   },
   {
    "duration": 14,
    "start_time": "2022-08-04T20:08:21.832Z"
   },
   {
    "duration": 9,
    "start_time": "2022-08-04T20:08:21.848Z"
   },
   {
    "duration": 5,
    "start_time": "2022-08-04T20:08:21.859Z"
   },
   {
    "duration": 8,
    "start_time": "2022-08-04T20:08:21.866Z"
   },
   {
    "duration": 8,
    "start_time": "2022-08-04T20:08:21.875Z"
   },
   {
    "duration": 24,
    "start_time": "2022-08-04T20:08:21.885Z"
   },
   {
    "duration": 23398,
    "start_time": "2022-08-04T20:08:21.911Z"
   },
   {
    "duration": 1003,
    "start_time": "2022-08-04T20:08:45.311Z"
   },
   {
    "duration": 0,
    "start_time": "2022-08-04T20:08:46.316Z"
   },
   {
    "duration": 6,
    "start_time": "2022-08-04T20:09:02.003Z"
   },
   {
    "duration": 11,
    "start_time": "2022-08-04T20:09:03.562Z"
   },
   {
    "duration": 17,
    "start_time": "2022-08-04T20:14:48.902Z"
   },
   {
    "duration": 13,
    "start_time": "2022-08-04T20:15:46.733Z"
   },
   {
    "duration": 9,
    "start_time": "2022-08-04T20:19:44.726Z"
   },
   {
    "duration": 11,
    "start_time": "2022-08-04T20:19:54.854Z"
   },
   {
    "duration": 13,
    "start_time": "2022-08-04T20:20:02.171Z"
   },
   {
    "duration": 10,
    "start_time": "2022-08-04T20:20:51.931Z"
   },
   {
    "duration": 14,
    "start_time": "2022-08-04T20:23:00.543Z"
   },
   {
    "duration": 46,
    "start_time": "2022-08-04T20:23:25.935Z"
   },
   {
    "duration": 13,
    "start_time": "2022-08-04T20:24:30.256Z"
   },
   {
    "duration": 14,
    "start_time": "2022-08-04T20:24:52.464Z"
   },
   {
    "duration": 460,
    "start_time": "2022-08-04T20:25:01.515Z"
   },
   {
    "duration": 57,
    "start_time": "2022-08-04T20:25:54.815Z"
   },
   {
    "duration": 63,
    "start_time": "2022-08-04T20:32:37.825Z"
   },
   {
    "duration": 45,
    "start_time": "2022-08-04T20:33:01.899Z"
   },
   {
    "duration": 23,
    "start_time": "2022-08-04T20:33:06.621Z"
   },
   {
    "duration": 203,
    "start_time": "2022-08-04T20:33:16.778Z"
   },
   {
    "duration": 19,
    "start_time": "2022-08-04T20:40:03.071Z"
   },
   {
    "duration": 17,
    "start_time": "2022-08-04T20:40:30.777Z"
   },
   {
    "duration": 16,
    "start_time": "2022-08-04T20:40:51.578Z"
   },
   {
    "duration": 18,
    "start_time": "2022-08-04T20:40:59.778Z"
   },
   {
    "duration": 15,
    "start_time": "2022-08-04T20:41:37.497Z"
   },
   {
    "duration": 33,
    "start_time": "2022-08-04T20:42:00.628Z"
   },
   {
    "duration": 16,
    "start_time": "2022-08-04T20:51:00.535Z"
   },
   {
    "duration": 480,
    "start_time": "2022-08-04T20:51:23.735Z"
   },
   {
    "duration": 14,
    "start_time": "2022-08-04T20:51:43.575Z"
   },
   {
    "duration": 189,
    "start_time": "2022-08-04T20:51:50.774Z"
   },
   {
    "duration": 241,
    "start_time": "2022-08-04T20:54:34.224Z"
   },
   {
    "duration": 268,
    "start_time": "2022-08-04T20:54:40.575Z"
   },
   {
    "duration": 23,
    "start_time": "2022-08-04T20:57:47.135Z"
   },
   {
    "duration": 4,
    "start_time": "2022-08-04T20:58:05.456Z"
   },
   {
    "duration": 15,
    "start_time": "2022-08-04T20:58:09.333Z"
   },
   {
    "duration": 16,
    "start_time": "2022-08-04T20:58:17.734Z"
   },
   {
    "duration": 4,
    "start_time": "2022-08-04T20:58:22.580Z"
   },
   {
    "duration": 13,
    "start_time": "2022-08-04T21:02:54.424Z"
   },
   {
    "duration": 20,
    "start_time": "2022-08-04T21:04:58.625Z"
   },
   {
    "duration": 21,
    "start_time": "2022-08-04T21:05:42.934Z"
   },
   {
    "duration": 27,
    "start_time": "2022-08-04T21:05:47.116Z"
   },
   {
    "duration": 1937,
    "start_time": "2022-08-05T12:30:48.912Z"
   },
   {
    "duration": 76,
    "start_time": "2022-08-05T12:30:50.851Z"
   },
   {
    "duration": 12,
    "start_time": "2022-08-05T12:30:50.929Z"
   },
   {
    "duration": 22,
    "start_time": "2022-08-05T12:30:50.943Z"
   },
   {
    "duration": 9,
    "start_time": "2022-08-05T12:30:50.967Z"
   },
   {
    "duration": 28,
    "start_time": "2022-08-05T12:30:50.977Z"
   },
   {
    "duration": 12,
    "start_time": "2022-08-05T12:30:51.006Z"
   },
   {
    "duration": 10,
    "start_time": "2022-08-05T12:30:51.019Z"
   },
   {
    "duration": 5,
    "start_time": "2022-08-05T12:30:51.031Z"
   },
   {
    "duration": 7,
    "start_time": "2022-08-05T12:30:51.038Z"
   },
   {
    "duration": 8,
    "start_time": "2022-08-05T12:30:51.046Z"
   },
   {
    "duration": 24,
    "start_time": "2022-08-05T12:30:51.056Z"
   },
   {
    "duration": 3,
    "start_time": "2022-08-05T12:30:51.082Z"
   },
   {
    "duration": 6,
    "start_time": "2022-08-05T12:30:51.088Z"
   },
   {
    "duration": 14,
    "start_time": "2022-08-05T12:30:51.096Z"
   },
   {
    "duration": 17,
    "start_time": "2022-08-05T12:30:51.111Z"
   },
   {
    "duration": 6,
    "start_time": "2022-08-05T12:30:51.130Z"
   },
   {
    "duration": 13,
    "start_time": "2022-08-05T12:30:51.157Z"
   },
   {
    "duration": 16,
    "start_time": "2022-08-05T12:30:51.171Z"
   },
   {
    "duration": 27,
    "start_time": "2022-08-05T12:30:51.189Z"
   },
   {
    "duration": 30,
    "start_time": "2022-08-05T12:30:51.218Z"
   },
   {
    "duration": 6,
    "start_time": "2022-08-05T12:30:51.250Z"
   },
   {
    "duration": 34,
    "start_time": "2022-08-05T12:30:51.258Z"
   },
   {
    "duration": 15,
    "start_time": "2022-08-05T12:30:51.293Z"
   },
   {
    "duration": 23547,
    "start_time": "2022-08-05T12:30:51.310Z"
   },
   {
    "duration": 5,
    "start_time": "2022-08-05T12:31:14.860Z"
   },
   {
    "duration": 14,
    "start_time": "2022-08-05T12:31:14.867Z"
   },
   {
    "duration": 151,
    "start_time": "2022-08-05T12:31:14.882Z"
   },
   {
    "duration": 292,
    "start_time": "2022-08-05T12:35:38.473Z"
   },
   {
    "duration": 298,
    "start_time": "2022-08-05T12:36:24.834Z"
   },
   {
    "duration": 5,
    "start_time": "2022-08-05T12:38:27.880Z"
   },
   {
    "duration": 16,
    "start_time": "2022-08-05T12:38:30.959Z"
   },
   {
    "duration": 5,
    "start_time": "2022-08-05T12:38:47.414Z"
   },
   {
    "duration": 11,
    "start_time": "2022-08-05T12:38:48.551Z"
   },
   {
    "duration": 1885,
    "start_time": "2022-08-05T12:39:04.036Z"
   },
   {
    "duration": 35,
    "start_time": "2022-08-05T12:39:05.922Z"
   },
   {
    "duration": 11,
    "start_time": "2022-08-05T12:39:05.958Z"
   },
   {
    "duration": 16,
    "start_time": "2022-08-05T12:39:05.971Z"
   },
   {
    "duration": 15,
    "start_time": "2022-08-05T12:39:05.990Z"
   },
   {
    "duration": 6,
    "start_time": "2022-08-05T12:39:06.007Z"
   },
   {
    "duration": 11,
    "start_time": "2022-08-05T12:39:06.014Z"
   },
   {
    "duration": 26,
    "start_time": "2022-08-05T12:39:06.026Z"
   },
   {
    "duration": 14,
    "start_time": "2022-08-05T12:39:06.053Z"
   },
   {
    "duration": 13,
    "start_time": "2022-08-05T12:39:06.068Z"
   },
   {
    "duration": 13,
    "start_time": "2022-08-05T12:39:06.083Z"
   },
   {
    "duration": 33,
    "start_time": "2022-08-05T12:39:06.097Z"
   },
   {
    "duration": 2,
    "start_time": "2022-08-05T12:39:06.132Z"
   },
   {
    "duration": 15,
    "start_time": "2022-08-05T12:39:06.136Z"
   },
   {
    "duration": 14,
    "start_time": "2022-08-05T12:39:06.152Z"
   },
   {
    "duration": 16,
    "start_time": "2022-08-05T12:39:06.168Z"
   },
   {
    "duration": 7,
    "start_time": "2022-08-05T12:39:06.185Z"
   },
   {
    "duration": 16,
    "start_time": "2022-08-05T12:39:06.193Z"
   },
   {
    "duration": 12,
    "start_time": "2022-08-05T12:39:06.210Z"
   },
   {
    "duration": 6,
    "start_time": "2022-08-05T12:39:06.223Z"
   },
   {
    "duration": 14,
    "start_time": "2022-08-05T12:39:06.231Z"
   },
   {
    "duration": 14,
    "start_time": "2022-08-05T12:39:06.246Z"
   },
   {
    "duration": 31,
    "start_time": "2022-08-05T12:39:06.262Z"
   },
   {
    "duration": 11,
    "start_time": "2022-08-05T12:39:06.295Z"
   },
   {
    "duration": 23268,
    "start_time": "2022-08-05T12:39:06.307Z"
   },
   {
    "duration": 5,
    "start_time": "2022-08-05T12:39:29.577Z"
   },
   {
    "duration": 196,
    "start_time": "2022-08-05T12:39:29.584Z"
   },
   {
    "duration": 0,
    "start_time": "2022-08-05T12:39:29.781Z"
   },
   {
    "duration": 9,
    "start_time": "2022-08-05T12:40:28.757Z"
   },
   {
    "duration": 13,
    "start_time": "2022-08-05T12:40:55.595Z"
   },
   {
    "duration": 4,
    "start_time": "2022-08-05T12:44:23.237Z"
   },
   {
    "duration": 15,
    "start_time": "2022-08-05T12:44:27.684Z"
   },
   {
    "duration": 316,
    "start_time": "2022-08-05T12:46:11.557Z"
   },
   {
    "duration": 135,
    "start_time": "2022-08-05T12:48:15.558Z"
   },
   {
    "duration": 272,
    "start_time": "2022-08-05T12:49:02.596Z"
   },
   {
    "duration": 348,
    "start_time": "2022-08-05T12:49:55.237Z"
   },
   {
    "duration": 293,
    "start_time": "2022-08-05T12:50:29.148Z"
   },
   {
    "duration": 422,
    "start_time": "2022-08-05T12:51:10.045Z"
   },
   {
    "duration": 274,
    "start_time": "2022-08-05T12:51:18.917Z"
   },
   {
    "duration": 293,
    "start_time": "2022-08-05T12:53:15.997Z"
   },
   {
    "duration": 290,
    "start_time": "2022-08-05T12:53:22.078Z"
   },
   {
    "duration": 306,
    "start_time": "2022-08-05T12:53:58.078Z"
   },
   {
    "duration": 401,
    "start_time": "2022-08-05T12:54:33.198Z"
   },
   {
    "duration": 325,
    "start_time": "2022-08-05T12:54:43.085Z"
   },
   {
    "duration": 313,
    "start_time": "2022-08-05T12:54:52.637Z"
   },
   {
    "duration": 318,
    "start_time": "2022-08-05T12:55:11.198Z"
   },
   {
    "duration": 293,
    "start_time": "2022-08-05T12:55:22.214Z"
   },
   {
    "duration": 294,
    "start_time": "2022-08-05T12:57:06.452Z"
   },
   {
    "duration": 394,
    "start_time": "2022-08-05T12:57:16.783Z"
   },
   {
    "duration": 298,
    "start_time": "2022-08-05T12:57:20.873Z"
   },
   {
    "duration": 303,
    "start_time": "2022-08-05T12:57:26.484Z"
   },
   {
    "duration": 350,
    "start_time": "2022-08-05T12:57:34.972Z"
   },
   {
    "duration": 345,
    "start_time": "2022-08-05T12:57:40.122Z"
   },
   {
    "duration": 420,
    "start_time": "2022-08-05T12:57:51.862Z"
   },
   {
    "duration": 292,
    "start_time": "2022-08-05T12:57:59.345Z"
   },
   {
    "duration": 5,
    "start_time": "2022-08-05T13:01:13.404Z"
   },
   {
    "duration": 303,
    "start_time": "2022-08-05T13:02:41.934Z"
   },
   {
    "duration": 306,
    "start_time": "2022-08-05T13:02:48.134Z"
   },
   {
    "duration": 303,
    "start_time": "2022-08-05T13:02:51.112Z"
   },
   {
    "duration": 364,
    "start_time": "2022-08-05T13:02:55.022Z"
   },
   {
    "duration": 1095,
    "start_time": "2022-08-05T13:03:26.324Z"
   },
   {
    "duration": 306,
    "start_time": "2022-08-05T13:03:40.324Z"
   },
   {
    "duration": 816,
    "start_time": "2022-08-05T13:05:24.633Z"
   },
   {
    "duration": 131,
    "start_time": "2022-08-05T13:05:37.812Z"
   },
   {
    "duration": 111,
    "start_time": "2022-08-05T13:05:52.012Z"
   },
   {
    "duration": 60,
    "start_time": "2022-08-05T13:07:00.228Z"
   },
   {
    "duration": 55,
    "start_time": "2022-08-05T13:07:06.013Z"
   },
   {
    "duration": 103,
    "start_time": "2022-08-05T13:07:10.894Z"
   },
   {
    "duration": 111,
    "start_time": "2022-08-05T13:07:27.211Z"
   },
   {
    "duration": 299,
    "start_time": "2022-08-05T13:07:37.204Z"
   },
   {
    "duration": 109,
    "start_time": "2022-08-05T13:08:50.559Z"
   },
   {
    "duration": 109,
    "start_time": "2022-08-05T13:09:08.426Z"
   },
   {
    "duration": 118,
    "start_time": "2022-08-05T13:09:19.109Z"
   },
   {
    "duration": 232,
    "start_time": "2022-08-05T13:09:24.381Z"
   },
   {
    "duration": 321,
    "start_time": "2022-08-05T13:13:27.615Z"
   },
   {
    "duration": 303,
    "start_time": "2022-08-05T13:13:44.465Z"
   },
   {
    "duration": 304,
    "start_time": "2022-08-05T13:14:23.722Z"
   },
   {
    "duration": 306,
    "start_time": "2022-08-05T13:14:41.427Z"
   },
   {
    "duration": 297,
    "start_time": "2022-08-05T13:14:54.239Z"
   },
   {
    "duration": 299,
    "start_time": "2022-08-05T13:15:49.552Z"
   },
   {
    "duration": 311,
    "start_time": "2022-08-05T13:16:01.522Z"
   },
   {
    "duration": 291,
    "start_time": "2022-08-05T13:16:19.324Z"
   },
   {
    "duration": 309,
    "start_time": "2022-08-05T13:16:24.226Z"
   },
   {
    "duration": 304,
    "start_time": "2022-08-05T13:16:50.582Z"
   },
   {
    "duration": 445,
    "start_time": "2022-08-05T13:17:27.396Z"
   },
   {
    "duration": 315,
    "start_time": "2022-08-05T13:17:42.521Z"
   },
   {
    "duration": 326,
    "start_time": "2022-08-05T13:18:18.320Z"
   },
   {
    "duration": 312,
    "start_time": "2022-08-05T13:18:27.126Z"
   },
   {
    "duration": 315,
    "start_time": "2022-08-05T13:18:31.053Z"
   },
   {
    "duration": 305,
    "start_time": "2022-08-05T13:18:45.722Z"
   },
   {
    "duration": 402,
    "start_time": "2022-08-05T13:18:49.730Z"
   },
   {
    "duration": 318,
    "start_time": "2022-08-05T13:23:43.695Z"
   },
   {
    "duration": 361,
    "start_time": "2022-08-05T13:23:59.997Z"
   },
   {
    "duration": 4,
    "start_time": "2022-08-05T13:24:38.077Z"
   },
   {
    "duration": 339,
    "start_time": "2022-08-05T13:26:08.111Z"
   },
   {
    "duration": 2977,
    "start_time": "2022-08-05T18:02:20.726Z"
   },
   {
    "duration": 89,
    "start_time": "2022-08-05T18:02:23.705Z"
   },
   {
    "duration": 12,
    "start_time": "2022-08-05T18:02:23.796Z"
   },
   {
    "duration": 16,
    "start_time": "2022-08-05T18:02:23.810Z"
   },
   {
    "duration": 17,
    "start_time": "2022-08-05T18:02:23.827Z"
   },
   {
    "duration": 15,
    "start_time": "2022-08-05T18:02:23.845Z"
   },
   {
    "duration": 31,
    "start_time": "2022-08-05T18:02:23.862Z"
   },
   {
    "duration": 13,
    "start_time": "2022-08-05T18:02:23.894Z"
   },
   {
    "duration": 11,
    "start_time": "2022-08-05T18:02:23.909Z"
   },
   {
    "duration": 10,
    "start_time": "2022-08-05T18:02:23.923Z"
   },
   {
    "duration": 10,
    "start_time": "2022-08-05T18:02:23.934Z"
   },
   {
    "duration": 48,
    "start_time": "2022-08-05T18:02:23.946Z"
   },
   {
    "duration": 3,
    "start_time": "2022-08-05T18:02:23.996Z"
   },
   {
    "duration": 20,
    "start_time": "2022-08-05T18:02:24.001Z"
   },
   {
    "duration": 25,
    "start_time": "2022-08-05T18:02:24.023Z"
   },
   {
    "duration": 27,
    "start_time": "2022-08-05T18:02:24.050Z"
   },
   {
    "duration": 9,
    "start_time": "2022-08-05T18:02:24.079Z"
   },
   {
    "duration": 16,
    "start_time": "2022-08-05T18:02:24.090Z"
   },
   {
    "duration": 21,
    "start_time": "2022-08-05T18:02:24.108Z"
   },
   {
    "duration": 12,
    "start_time": "2022-08-05T18:02:24.131Z"
   },
   {
    "duration": 9,
    "start_time": "2022-08-05T18:02:24.145Z"
   },
   {
    "duration": 7,
    "start_time": "2022-08-05T18:02:24.156Z"
   },
   {
    "duration": 11,
    "start_time": "2022-08-05T18:02:24.165Z"
   },
   {
    "duration": 9,
    "start_time": "2022-08-05T18:02:24.178Z"
   },
   {
    "duration": 25339,
    "start_time": "2022-08-05T18:02:24.188Z"
   },
   {
    "duration": 6,
    "start_time": "2022-08-05T18:02:49.529Z"
   },
   {
    "duration": 82,
    "start_time": "2022-08-05T18:02:49.537Z"
   },
   {
    "duration": 6,
    "start_time": "2022-08-05T18:02:49.623Z"
   },
   {
    "duration": 439,
    "start_time": "2022-08-05T18:02:49.631Z"
   },
   {
    "duration": 4,
    "start_time": "2022-08-05T18:02:50.072Z"
   },
   {
    "duration": 22188,
    "start_time": "2022-08-05T18:38:35.915Z"
   },
   {
    "duration": 4,
    "start_time": "2022-08-05T18:39:35.758Z"
   },
   {
    "duration": 21862,
    "start_time": "2022-08-05T18:40:23.677Z"
   },
   {
    "duration": 26,
    "start_time": "2022-08-05T18:41:00.684Z"
   },
   {
    "duration": 4,
    "start_time": "2022-08-05T18:42:04.596Z"
   },
   {
    "duration": 139,
    "start_time": "2022-08-05T18:42:09.796Z"
   },
   {
    "duration": 1899,
    "start_time": "2022-08-05T18:43:03.159Z"
   },
   {
    "duration": 37,
    "start_time": "2022-08-05T18:43:05.060Z"
   },
   {
    "duration": 11,
    "start_time": "2022-08-05T18:43:05.099Z"
   },
   {
    "duration": 17,
    "start_time": "2022-08-05T18:43:05.111Z"
   },
   {
    "duration": 13,
    "start_time": "2022-08-05T18:43:05.130Z"
   },
   {
    "duration": 5,
    "start_time": "2022-08-05T18:43:05.145Z"
   },
   {
    "duration": 9,
    "start_time": "2022-08-05T18:43:05.151Z"
   },
   {
    "duration": 13,
    "start_time": "2022-08-05T18:43:05.162Z"
   },
   {
    "duration": 19,
    "start_time": "2022-08-05T18:43:05.176Z"
   },
   {
    "duration": 12,
    "start_time": "2022-08-05T18:43:05.196Z"
   },
   {
    "duration": 11,
    "start_time": "2022-08-05T18:43:05.210Z"
   },
   {
    "duration": 25,
    "start_time": "2022-08-05T18:43:05.222Z"
   },
   {
    "duration": 2,
    "start_time": "2022-08-05T18:43:05.249Z"
   },
   {
    "duration": 12,
    "start_time": "2022-08-05T18:43:05.254Z"
   },
   {
    "duration": 12,
    "start_time": "2022-08-05T18:43:05.268Z"
   },
   {
    "duration": 19,
    "start_time": "2022-08-05T18:43:05.281Z"
   },
   {
    "duration": 14,
    "start_time": "2022-08-05T18:43:05.309Z"
   },
   {
    "duration": 16,
    "start_time": "2022-08-05T18:43:05.324Z"
   },
   {
    "duration": 25,
    "start_time": "2022-08-05T18:43:05.342Z"
   },
   {
    "duration": 6,
    "start_time": "2022-08-05T18:43:05.369Z"
   },
   {
    "duration": 6,
    "start_time": "2022-08-05T18:43:05.377Z"
   },
   {
    "duration": 8,
    "start_time": "2022-08-05T18:43:05.384Z"
   },
   {
    "duration": 12,
    "start_time": "2022-08-05T18:43:05.393Z"
   },
   {
    "duration": 10,
    "start_time": "2022-08-05T18:43:05.406Z"
   },
   {
    "duration": 22592,
    "start_time": "2022-08-05T18:43:05.417Z"
   },
   {
    "duration": 5,
    "start_time": "2022-08-05T18:43:28.011Z"
   },
   {
    "duration": 19,
    "start_time": "2022-08-05T18:43:28.018Z"
   },
   {
    "duration": 4,
    "start_time": "2022-08-05T18:43:28.039Z"
   },
   {
    "duration": 385,
    "start_time": "2022-08-05T18:43:28.045Z"
   },
   {
    "duration": 51,
    "start_time": "2022-08-05T19:29:32.741Z"
   },
   {
    "duration": 110560,
    "start_time": "2022-08-05T19:30:05.712Z"
   },
   {
    "duration": 19721,
    "start_time": "2022-08-05T19:32:39.205Z"
   },
   {
    "duration": 1977,
    "start_time": "2022-08-05T19:33:04.794Z"
   },
   {
    "duration": 37,
    "start_time": "2022-08-05T19:33:06.773Z"
   },
   {
    "duration": 11,
    "start_time": "2022-08-05T19:33:06.812Z"
   },
   {
    "duration": 13,
    "start_time": "2022-08-05T19:33:06.826Z"
   },
   {
    "duration": 16,
    "start_time": "2022-08-05T19:33:06.841Z"
   },
   {
    "duration": 5,
    "start_time": "2022-08-05T19:33:06.858Z"
   },
   {
    "duration": 6,
    "start_time": "2022-08-05T19:33:06.864Z"
   },
   {
    "duration": 10,
    "start_time": "2022-08-05T19:33:06.872Z"
   },
   {
    "duration": 28,
    "start_time": "2022-08-05T19:33:06.883Z"
   },
   {
    "duration": 7,
    "start_time": "2022-08-05T19:33:06.914Z"
   },
   {
    "duration": 11,
    "start_time": "2022-08-05T19:33:06.923Z"
   },
   {
    "duration": 29,
    "start_time": "2022-08-05T19:33:06.936Z"
   },
   {
    "duration": 2,
    "start_time": "2022-08-05T19:33:06.966Z"
   },
   {
    "duration": 12,
    "start_time": "2022-08-05T19:33:06.970Z"
   },
   {
    "duration": 29,
    "start_time": "2022-08-05T19:33:06.983Z"
   },
   {
    "duration": 33,
    "start_time": "2022-08-05T19:33:07.014Z"
   },
   {
    "duration": 10,
    "start_time": "2022-08-05T19:33:07.049Z"
   },
   {
    "duration": 16,
    "start_time": "2022-08-05T19:33:07.061Z"
   },
   {
    "duration": 17,
    "start_time": "2022-08-05T19:33:07.079Z"
   },
   {
    "duration": 7,
    "start_time": "2022-08-05T19:33:07.097Z"
   },
   {
    "duration": 5,
    "start_time": "2022-08-05T19:33:07.105Z"
   },
   {
    "duration": 6,
    "start_time": "2022-08-05T19:33:07.112Z"
   },
   {
    "duration": 10,
    "start_time": "2022-08-05T19:33:07.120Z"
   },
   {
    "duration": 18,
    "start_time": "2022-08-05T19:33:07.136Z"
   },
   {
    "duration": 22370,
    "start_time": "2022-08-05T19:33:07.156Z"
   },
   {
    "duration": 5,
    "start_time": "2022-08-05T19:33:29.527Z"
   },
   {
    "duration": 78,
    "start_time": "2022-08-05T19:33:29.534Z"
   },
   {
    "duration": 28,
    "start_time": "2022-08-05T19:33:29.615Z"
   },
   {
    "duration": 431,
    "start_time": "2022-08-05T19:33:29.645Z"
   },
   {
    "duration": 64270,
    "start_time": "2022-08-05T19:33:30.077Z"
   },
   {
    "duration": 18374,
    "start_time": "2022-08-05T19:34:43.352Z"
   },
   {
    "duration": 1845,
    "start_time": "2022-08-05T19:35:53.636Z"
   },
   {
    "duration": 37,
    "start_time": "2022-08-05T19:35:55.483Z"
   },
   {
    "duration": 11,
    "start_time": "2022-08-05T19:35:55.522Z"
   },
   {
    "duration": 15,
    "start_time": "2022-08-05T19:35:55.535Z"
   },
   {
    "duration": 12,
    "start_time": "2022-08-05T19:35:55.552Z"
   },
   {
    "duration": 6,
    "start_time": "2022-08-05T19:35:55.566Z"
   },
   {
    "duration": 6,
    "start_time": "2022-08-05T19:35:55.574Z"
   },
   {
    "duration": 32,
    "start_time": "2022-08-05T19:35:55.582Z"
   },
   {
    "duration": 7,
    "start_time": "2022-08-05T19:35:55.616Z"
   },
   {
    "duration": 8,
    "start_time": "2022-08-05T19:35:55.624Z"
   },
   {
    "duration": 26,
    "start_time": "2022-08-05T19:35:55.634Z"
   },
   {
    "duration": 25,
    "start_time": "2022-08-05T19:35:55.661Z"
   },
   {
    "duration": 3,
    "start_time": "2022-08-05T19:35:55.688Z"
   },
   {
    "duration": 9,
    "start_time": "2022-08-05T19:35:55.694Z"
   },
   {
    "duration": 19,
    "start_time": "2022-08-05T19:35:55.704Z"
   },
   {
    "duration": 20,
    "start_time": "2022-08-05T19:35:55.724Z"
   },
   {
    "duration": 7,
    "start_time": "2022-08-05T19:35:55.745Z"
   },
   {
    "duration": 14,
    "start_time": "2022-08-05T19:35:55.753Z"
   },
   {
    "duration": 17,
    "start_time": "2022-08-05T19:35:55.769Z"
   },
   {
    "duration": 21,
    "start_time": "2022-08-05T19:35:55.788Z"
   },
   {
    "duration": 6,
    "start_time": "2022-08-05T19:35:55.810Z"
   },
   {
    "duration": 6,
    "start_time": "2022-08-05T19:35:55.817Z"
   },
   {
    "duration": 6,
    "start_time": "2022-08-05T19:35:55.824Z"
   },
   {
    "duration": 8,
    "start_time": "2022-08-05T19:35:55.831Z"
   },
   {
    "duration": 22283,
    "start_time": "2022-08-05T19:35:55.840Z"
   },
   {
    "duration": 6,
    "start_time": "2022-08-05T19:36:18.124Z"
   },
   {
    "duration": 13,
    "start_time": "2022-08-05T19:36:18.131Z"
   },
   {
    "duration": 5,
    "start_time": "2022-08-05T19:36:18.146Z"
   },
   {
    "duration": 376,
    "start_time": "2022-08-05T19:36:18.209Z"
   },
   {
    "duration": 39839,
    "start_time": "2022-08-05T19:36:18.587Z"
   },
   {
    "duration": 4,
    "start_time": "2022-08-05T19:38:01.424Z"
   },
   {
    "duration": 1962,
    "start_time": "2022-08-05T19:38:15.962Z"
   },
   {
    "duration": 39,
    "start_time": "2022-08-05T19:38:17.925Z"
   },
   {
    "duration": 13,
    "start_time": "2022-08-05T19:38:17.965Z"
   },
   {
    "duration": 26,
    "start_time": "2022-08-05T19:38:17.979Z"
   },
   {
    "duration": 16,
    "start_time": "2022-08-05T19:38:18.007Z"
   },
   {
    "duration": 6,
    "start_time": "2022-08-05T19:38:18.024Z"
   },
   {
    "duration": 8,
    "start_time": "2022-08-05T19:38:18.031Z"
   },
   {
    "duration": 13,
    "start_time": "2022-08-05T19:38:18.041Z"
   },
   {
    "duration": 9,
    "start_time": "2022-08-05T19:38:18.056Z"
   },
   {
    "duration": 10,
    "start_time": "2022-08-05T19:38:18.066Z"
   },
   {
    "duration": 10,
    "start_time": "2022-08-05T19:38:18.078Z"
   },
   {
    "duration": 55,
    "start_time": "2022-08-05T19:38:18.090Z"
   },
   {
    "duration": 3,
    "start_time": "2022-08-05T19:38:18.147Z"
   },
   {
    "duration": 8,
    "start_time": "2022-08-05T19:38:18.153Z"
   },
   {
    "duration": 15,
    "start_time": "2022-08-05T19:38:18.163Z"
   },
   {
    "duration": 24,
    "start_time": "2022-08-05T19:38:18.180Z"
   },
   {
    "duration": 10,
    "start_time": "2022-08-05T19:38:18.205Z"
   },
   {
    "duration": 19,
    "start_time": "2022-08-05T19:38:18.217Z"
   },
   {
    "duration": 15,
    "start_time": "2022-08-05T19:38:18.238Z"
   },
   {
    "duration": 12,
    "start_time": "2022-08-05T19:38:18.254Z"
   },
   {
    "duration": 6,
    "start_time": "2022-08-05T19:38:18.267Z"
   },
   {
    "duration": 8,
    "start_time": "2022-08-05T19:38:18.275Z"
   },
   {
    "duration": 9,
    "start_time": "2022-08-05T19:38:18.285Z"
   },
   {
    "duration": 8,
    "start_time": "2022-08-05T19:38:18.296Z"
   },
   {
    "duration": 23715,
    "start_time": "2022-08-05T19:38:18.306Z"
   },
   {
    "duration": 5,
    "start_time": "2022-08-05T19:38:42.023Z"
   },
   {
    "duration": 12,
    "start_time": "2022-08-05T19:38:42.030Z"
   },
   {
    "duration": 9,
    "start_time": "2022-08-05T19:38:42.044Z"
   },
   {
    "duration": 438,
    "start_time": "2022-08-05T19:38:42.054Z"
   },
   {
    "duration": 41626,
    "start_time": "2022-08-05T19:38:42.493Z"
   },
   {
    "duration": 5,
    "start_time": "2022-08-05T19:39:24.120Z"
   },
   {
    "duration": 45,
    "start_time": "2022-08-05T19:43:45.297Z"
   },
   {
    "duration": 2928,
    "start_time": "2022-08-05T19:47:36.281Z"
   },
   {
    "duration": 38,
    "start_time": "2022-08-05T19:47:39.211Z"
   },
   {
    "duration": 58,
    "start_time": "2022-08-05T19:47:39.251Z"
   },
   {
    "duration": 27,
    "start_time": "2022-08-05T19:47:39.311Z"
   },
   {
    "duration": 29,
    "start_time": "2022-08-05T19:47:39.339Z"
   },
   {
    "duration": 42,
    "start_time": "2022-08-05T19:47:39.370Z"
   },
   {
    "duration": 22,
    "start_time": "2022-08-05T19:47:39.414Z"
   },
   {
    "duration": 71,
    "start_time": "2022-08-05T19:47:39.438Z"
   },
   {
    "duration": 6,
    "start_time": "2022-08-05T19:47:39.511Z"
   },
   {
    "duration": 13,
    "start_time": "2022-08-05T19:47:39.520Z"
   },
   {
    "duration": 12,
    "start_time": "2022-08-05T19:47:39.535Z"
   },
   {
    "duration": 87,
    "start_time": "2022-08-05T19:47:39.549Z"
   },
   {
    "duration": 522,
    "start_time": "2022-08-05T19:47:39.638Z"
   },
   {
    "duration": 3,
    "start_time": "2022-08-05T19:47:40.162Z"
   },
   {
    "duration": 59,
    "start_time": "2022-08-05T19:47:40.166Z"
   },
   {
    "duration": 27,
    "start_time": "2022-08-05T19:47:40.227Z"
   },
   {
    "duration": 57,
    "start_time": "2022-08-05T19:47:40.257Z"
   },
   {
    "duration": 23,
    "start_time": "2022-08-05T19:47:40.316Z"
   },
   {
    "duration": 13,
    "start_time": "2022-08-05T19:47:40.342Z"
   },
   {
    "duration": 54,
    "start_time": "2022-08-05T19:47:40.357Z"
   },
   {
    "duration": 7,
    "start_time": "2022-08-05T19:47:40.413Z"
   },
   {
    "duration": 8,
    "start_time": "2022-08-05T19:47:40.422Z"
   },
   {
    "duration": 14,
    "start_time": "2022-08-05T19:47:40.431Z"
   },
   {
    "duration": 17,
    "start_time": "2022-08-05T19:47:40.447Z"
   },
   {
    "duration": 26048,
    "start_time": "2022-08-05T19:47:40.466Z"
   },
   {
    "duration": 5,
    "start_time": "2022-08-05T19:48:06.516Z"
   },
   {
    "duration": 26,
    "start_time": "2022-08-05T19:48:06.523Z"
   },
   {
    "duration": 11,
    "start_time": "2022-08-05T19:48:06.552Z"
   },
   {
    "duration": 387,
    "start_time": "2022-08-05T19:48:06.565Z"
   },
   {
    "duration": 49970,
    "start_time": "2022-08-05T19:48:06.955Z"
   },
   {
    "duration": 4,
    "start_time": "2022-08-05T19:48:56.927Z"
   },
   {
    "duration": 2152,
    "start_time": "2022-08-09T16:18:09.565Z"
   },
   {
    "duration": 94,
    "start_time": "2022-08-09T16:18:11.719Z"
   },
   {
    "duration": 11,
    "start_time": "2022-08-09T16:18:11.815Z"
   },
   {
    "duration": 15,
    "start_time": "2022-08-09T16:18:11.828Z"
   },
   {
    "duration": 19,
    "start_time": "2022-08-09T16:18:11.845Z"
   },
   {
    "duration": 8,
    "start_time": "2022-08-09T16:18:11.866Z"
   },
   {
    "duration": 12,
    "start_time": "2022-08-09T16:18:11.875Z"
   },
   {
    "duration": 12,
    "start_time": "2022-08-09T16:18:11.888Z"
   },
   {
    "duration": 7,
    "start_time": "2022-08-09T16:18:11.902Z"
   },
   {
    "duration": 8,
    "start_time": "2022-08-09T16:18:11.911Z"
   },
   {
    "duration": 17,
    "start_time": "2022-08-09T16:18:11.921Z"
   },
   {
    "duration": 25,
    "start_time": "2022-08-09T16:18:11.940Z"
   },
   {
    "duration": 436,
    "start_time": "2022-08-09T16:18:11.967Z"
   },
   {
    "duration": 3,
    "start_time": "2022-08-09T16:18:12.406Z"
   },
   {
    "duration": 15,
    "start_time": "2022-08-09T16:18:12.410Z"
   },
   {
    "duration": 18,
    "start_time": "2022-08-09T16:18:12.427Z"
   },
   {
    "duration": 7,
    "start_time": "2022-08-09T16:18:12.487Z"
   },
   {
    "duration": 13,
    "start_time": "2022-08-09T16:18:12.496Z"
   },
   {
    "duration": 14,
    "start_time": "2022-08-09T16:18:12.511Z"
   },
   {
    "duration": 13,
    "start_time": "2022-08-09T16:18:12.526Z"
   },
   {
    "duration": 49,
    "start_time": "2022-08-09T16:18:12.540Z"
   },
   {
    "duration": 5,
    "start_time": "2022-08-09T16:18:12.591Z"
   },
   {
    "duration": 10,
    "start_time": "2022-08-09T16:18:12.597Z"
   },
   {
    "duration": 8,
    "start_time": "2022-08-09T16:18:12.608Z"
   },
   {
    "duration": 209,
    "start_time": "2022-08-09T16:18:12.617Z"
   },
   {
    "duration": 0,
    "start_time": "2022-08-09T16:18:12.827Z"
   },
   {
    "duration": 0,
    "start_time": "2022-08-09T16:18:12.828Z"
   },
   {
    "duration": 0,
    "start_time": "2022-08-09T16:18:12.829Z"
   },
   {
    "duration": 0,
    "start_time": "2022-08-09T16:18:12.831Z"
   },
   {
    "duration": 0,
    "start_time": "2022-08-09T16:18:12.831Z"
   },
   {
    "duration": 0,
    "start_time": "2022-08-09T16:18:12.832Z"
   },
   {
    "duration": 2211,
    "start_time": "2022-08-09T16:19:45.081Z"
   },
   {
    "duration": 40,
    "start_time": "2022-08-09T16:19:47.294Z"
   },
   {
    "duration": 52,
    "start_time": "2022-08-09T16:19:47.335Z"
   },
   {
    "duration": 11,
    "start_time": "2022-08-09T16:19:47.388Z"
   },
   {
    "duration": 14,
    "start_time": "2022-08-09T16:19:47.401Z"
   },
   {
    "duration": 7,
    "start_time": "2022-08-09T16:19:47.417Z"
   },
   {
    "duration": 61,
    "start_time": "2022-08-09T16:19:47.426Z"
   },
   {
    "duration": 19,
    "start_time": "2022-08-09T16:19:47.489Z"
   },
   {
    "duration": 6,
    "start_time": "2022-08-09T16:19:47.510Z"
   },
   {
    "duration": 8,
    "start_time": "2022-08-09T16:19:47.518Z"
   },
   {
    "duration": 62,
    "start_time": "2022-08-09T16:19:47.528Z"
   },
   {
    "duration": 41,
    "start_time": "2022-08-09T16:19:47.591Z"
   },
   {
    "duration": 805,
    "start_time": "2022-08-09T16:19:47.687Z"
   },
   {
    "duration": 3,
    "start_time": "2022-08-09T16:19:48.494Z"
   },
   {
    "duration": 15,
    "start_time": "2022-08-09T16:19:48.498Z"
   },
   {
    "duration": 18,
    "start_time": "2022-08-09T16:19:48.514Z"
   },
   {
    "duration": 54,
    "start_time": "2022-08-09T16:19:48.534Z"
   },
   {
    "duration": 13,
    "start_time": "2022-08-09T16:19:48.590Z"
   },
   {
    "duration": 13,
    "start_time": "2022-08-09T16:19:48.604Z"
   },
   {
    "duration": 9,
    "start_time": "2022-08-09T16:19:48.619Z"
   },
   {
    "duration": 5,
    "start_time": "2022-08-09T16:19:48.630Z"
   },
   {
    "duration": 5,
    "start_time": "2022-08-09T16:19:48.686Z"
   },
   {
    "duration": 8,
    "start_time": "2022-08-09T16:19:48.693Z"
   },
   {
    "duration": 7,
    "start_time": "2022-08-09T16:19:48.702Z"
   },
   {
    "duration": 244,
    "start_time": "2022-08-09T16:19:48.710Z"
   },
   {
    "duration": 0,
    "start_time": "2022-08-09T16:19:48.955Z"
   },
   {
    "duration": 0,
    "start_time": "2022-08-09T16:19:48.957Z"
   },
   {
    "duration": 0,
    "start_time": "2022-08-09T16:19:48.958Z"
   },
   {
    "duration": 0,
    "start_time": "2022-08-09T16:19:48.959Z"
   },
   {
    "duration": 0,
    "start_time": "2022-08-09T16:19:48.960Z"
   },
   {
    "duration": 0,
    "start_time": "2022-08-09T16:19:48.962Z"
   },
   {
    "duration": 2071,
    "start_time": "2022-08-09T16:20:12.638Z"
   },
   {
    "duration": 82,
    "start_time": "2022-08-09T16:20:14.711Z"
   },
   {
    "duration": 10,
    "start_time": "2022-08-09T16:20:14.795Z"
   },
   {
    "duration": 11,
    "start_time": "2022-08-09T16:20:14.807Z"
   },
   {
    "duration": 12,
    "start_time": "2022-08-09T16:20:14.820Z"
   },
   {
    "duration": 57,
    "start_time": "2022-08-09T16:20:14.834Z"
   },
   {
    "duration": 6,
    "start_time": "2022-08-09T16:20:14.892Z"
   },
   {
    "duration": 13,
    "start_time": "2022-08-09T16:20:14.900Z"
   },
   {
    "duration": 6,
    "start_time": "2022-08-09T16:20:14.915Z"
   },
   {
    "duration": 8,
    "start_time": "2022-08-09T16:20:14.923Z"
   },
   {
    "duration": 56,
    "start_time": "2022-08-09T16:20:14.932Z"
   },
   {
    "duration": 29,
    "start_time": "2022-08-09T16:20:14.990Z"
   },
   {
    "duration": 769,
    "start_time": "2022-08-09T16:20:15.020Z"
   },
   {
    "duration": 2,
    "start_time": "2022-08-09T16:20:15.791Z"
   },
   {
    "duration": 17,
    "start_time": "2022-08-09T16:20:15.795Z"
   },
   {
    "duration": 16,
    "start_time": "2022-08-09T16:20:15.813Z"
   },
   {
    "duration": 61,
    "start_time": "2022-08-09T16:20:15.830Z"
   },
   {
    "duration": 13,
    "start_time": "2022-08-09T16:20:15.893Z"
   },
   {
    "duration": 17,
    "start_time": "2022-08-09T16:20:15.908Z"
   },
   {
    "duration": 6,
    "start_time": "2022-08-09T16:20:15.926Z"
   },
   {
    "duration": 53,
    "start_time": "2022-08-09T16:20:15.934Z"
   },
   {
    "duration": 6,
    "start_time": "2022-08-09T16:20:15.989Z"
   },
   {
    "duration": 11,
    "start_time": "2022-08-09T16:20:15.996Z"
   },
   {
    "duration": 17,
    "start_time": "2022-08-09T16:20:16.009Z"
   },
   {
    "duration": 24473,
    "start_time": "2022-08-09T16:20:16.028Z"
   },
   {
    "duration": 5,
    "start_time": "2022-08-09T16:20:40.503Z"
   },
   {
    "duration": 15,
    "start_time": "2022-08-09T16:20:40.510Z"
   },
   {
    "duration": 4,
    "start_time": "2022-08-09T16:20:40.586Z"
   },
   {
    "duration": 372,
    "start_time": "2022-08-09T16:20:40.592Z"
   },
   {
    "duration": 9830,
    "start_time": "2022-08-09T16:20:40.966Z"
   },
   {
    "duration": 0,
    "start_time": "2022-08-09T16:20:50.798Z"
   },
   {
    "duration": 7918,
    "start_time": "2022-08-09T16:21:52.475Z"
   },
   {
    "duration": 1950,
    "start_time": "2022-08-09T16:22:05.530Z"
   },
   {
    "duration": 39,
    "start_time": "2022-08-09T16:22:07.482Z"
   },
   {
    "duration": 11,
    "start_time": "2022-08-09T16:22:07.523Z"
   },
   {
    "duration": 27,
    "start_time": "2022-08-09T16:22:07.537Z"
   },
   {
    "duration": 18,
    "start_time": "2022-08-09T16:22:07.566Z"
   },
   {
    "duration": 13,
    "start_time": "2022-08-09T16:22:07.585Z"
   },
   {
    "duration": 30,
    "start_time": "2022-08-09T16:22:07.599Z"
   },
   {
    "duration": 27,
    "start_time": "2022-08-09T16:22:07.632Z"
   },
   {
    "duration": 14,
    "start_time": "2022-08-09T16:22:07.661Z"
   },
   {
    "duration": 9,
    "start_time": "2022-08-09T16:22:07.678Z"
   },
   {
    "duration": 12,
    "start_time": "2022-08-09T16:22:07.688Z"
   },
   {
    "duration": 27,
    "start_time": "2022-08-09T16:22:07.702Z"
   },
   {
    "duration": 393,
    "start_time": "2022-08-09T16:22:07.731Z"
   },
   {
    "duration": 3,
    "start_time": "2022-08-09T16:22:08.126Z"
   },
   {
    "duration": 25,
    "start_time": "2022-08-09T16:22:08.130Z"
   },
   {
    "duration": 37,
    "start_time": "2022-08-09T16:22:08.157Z"
   },
   {
    "duration": 8,
    "start_time": "2022-08-09T16:22:08.195Z"
   },
   {
    "duration": 13,
    "start_time": "2022-08-09T16:22:08.204Z"
   },
   {
    "duration": 14,
    "start_time": "2022-08-09T16:22:08.219Z"
   },
   {
    "duration": 6,
    "start_time": "2022-08-09T16:22:08.235Z"
   },
   {
    "duration": 5,
    "start_time": "2022-08-09T16:22:08.243Z"
   },
   {
    "duration": 38,
    "start_time": "2022-08-09T16:22:08.250Z"
   },
   {
    "duration": 10,
    "start_time": "2022-08-09T16:22:08.290Z"
   },
   {
    "duration": 7,
    "start_time": "2022-08-09T16:22:08.301Z"
   },
   {
    "duration": 23384,
    "start_time": "2022-08-09T16:22:08.309Z"
   },
   {
    "duration": 6,
    "start_time": "2022-08-09T16:22:31.695Z"
   },
   {
    "duration": 18,
    "start_time": "2022-08-09T16:22:31.702Z"
   },
   {
    "duration": 6,
    "start_time": "2022-08-09T16:22:31.723Z"
   },
   {
    "duration": 398,
    "start_time": "2022-08-09T16:22:31.730Z"
   },
   {
    "duration": 665761,
    "start_time": "2022-08-09T16:22:32.129Z"
   },
   {
    "duration": 3,
    "start_time": "2022-08-09T16:33:37.892Z"
   },
   {
    "duration": 3,
    "start_time": "2022-08-09T16:35:05.217Z"
   },
   {
    "duration": 2285,
    "start_time": "2022-08-10T15:26:46.879Z"
   },
   {
    "duration": 1967,
    "start_time": "2022-08-10T15:26:49.166Z"
   },
   {
    "duration": 41,
    "start_time": "2022-08-10T15:26:51.135Z"
   },
   {
    "duration": 11,
    "start_time": "2022-08-10T15:26:51.178Z"
   },
   {
    "duration": 11,
    "start_time": "2022-08-10T15:26:51.190Z"
   },
   {
    "duration": 28,
    "start_time": "2022-08-10T15:26:51.202Z"
   },
   {
    "duration": 4,
    "start_time": "2022-08-10T15:26:51.232Z"
   },
   {
    "duration": 4,
    "start_time": "2022-08-10T15:26:51.238Z"
   },
   {
    "duration": 14,
    "start_time": "2022-08-10T15:26:51.244Z"
   },
   {
    "duration": 4,
    "start_time": "2022-08-10T15:26:51.261Z"
   },
   {
    "duration": 7,
    "start_time": "2022-08-10T15:26:51.267Z"
   },
   {
    "duration": 7,
    "start_time": "2022-08-10T15:26:51.275Z"
   },
   {
    "duration": 39,
    "start_time": "2022-08-10T15:26:51.284Z"
   },
   {
    "duration": 408,
    "start_time": "2022-08-10T15:26:51.325Z"
   },
   {
    "duration": 3,
    "start_time": "2022-08-10T15:26:51.735Z"
   },
   {
    "duration": 21,
    "start_time": "2022-08-10T15:26:51.741Z"
   },
   {
    "duration": 61,
    "start_time": "2022-08-10T15:26:51.764Z"
   },
   {
    "duration": 8,
    "start_time": "2022-08-10T15:26:51.826Z"
   },
   {
    "duration": 73,
    "start_time": "2022-08-10T15:26:51.836Z"
   },
   {
    "duration": 15,
    "start_time": "2022-08-10T15:26:51.911Z"
   },
   {
    "duration": 17,
    "start_time": "2022-08-10T15:26:51.928Z"
   },
   {
    "duration": 5,
    "start_time": "2022-08-10T15:26:51.947Z"
   },
   {
    "duration": 6,
    "start_time": "2022-08-10T15:26:51.954Z"
   },
   {
    "duration": 5,
    "start_time": "2022-08-10T15:26:51.962Z"
   },
   {
    "duration": 7,
    "start_time": "2022-08-10T15:26:51.969Z"
   },
   {
    "duration": 31853,
    "start_time": "2022-08-10T15:26:51.977Z"
   },
   {
    "duration": 5,
    "start_time": "2022-08-10T15:27:23.832Z"
   },
   {
    "duration": 9,
    "start_time": "2022-08-10T15:27:23.841Z"
   },
   {
    "duration": 4,
    "start_time": "2022-08-10T15:27:23.912Z"
   },
   {
    "duration": 366,
    "start_time": "2022-08-10T15:27:23.918Z"
   },
   {
    "duration": 13,
    "start_time": "2022-08-10T15:56:14.918Z"
   },
   {
    "duration": 4,
    "start_time": "2022-08-10T15:56:36.124Z"
   },
   {
    "duration": 4,
    "start_time": "2022-08-10T15:57:13.673Z"
   },
   {
    "duration": 4,
    "start_time": "2022-08-10T16:01:26.367Z"
   },
   {
    "duration": 87,
    "start_time": "2022-08-10T16:01:27.668Z"
   },
   {
    "duration": 170,
    "start_time": "2022-08-10T16:01:39.825Z"
   },
   {
    "duration": 4,
    "start_time": "2022-08-10T16:01:57.669Z"
   },
   {
    "duration": 18,
    "start_time": "2022-08-10T16:02:02.606Z"
   },
   {
    "duration": 4,
    "start_time": "2022-08-10T16:03:34.368Z"
   },
   {
    "duration": 352,
    "start_time": "2022-08-10T16:04:42.874Z"
   },
   {
    "duration": 4,
    "start_time": "2022-08-10T16:07:53.039Z"
   },
   {
    "duration": 15,
    "start_time": "2022-08-10T16:09:47.085Z"
   },
   {
    "duration": 2,
    "start_time": "2022-08-10T16:09:58.122Z"
   },
   {
    "duration": 15,
    "start_time": "2022-08-10T16:09:59.519Z"
   },
   {
    "duration": 4,
    "start_time": "2022-08-10T16:10:09.199Z"
   },
   {
    "duration": 457,
    "start_time": "2022-08-10T16:10:11.476Z"
   },
   {
    "duration": 3,
    "start_time": "2022-08-10T16:10:48.876Z"
   },
   {
    "duration": 2031,
    "start_time": "2022-08-10T16:10:48.881Z"
   },
   {
    "duration": 43,
    "start_time": "2022-08-10T16:10:50.914Z"
   },
   {
    "duration": 11,
    "start_time": "2022-08-10T16:10:50.959Z"
   },
   {
    "duration": 11,
    "start_time": "2022-08-10T16:10:50.972Z"
   },
   {
    "duration": 14,
    "start_time": "2022-08-10T16:10:50.984Z"
   },
   {
    "duration": 8,
    "start_time": "2022-08-10T16:10:51.000Z"
   },
   {
    "duration": 11,
    "start_time": "2022-08-10T16:10:51.014Z"
   },
   {
    "duration": 15,
    "start_time": "2022-08-10T16:10:51.027Z"
   },
   {
    "duration": 6,
    "start_time": "2022-08-10T16:10:51.043Z"
   },
   {
    "duration": 7,
    "start_time": "2022-08-10T16:10:51.052Z"
   },
   {
    "duration": 7,
    "start_time": "2022-08-10T16:10:51.060Z"
   },
   {
    "duration": 23,
    "start_time": "2022-08-10T16:10:51.068Z"
   },
   {
    "duration": 400,
    "start_time": "2022-08-10T16:10:51.106Z"
   },
   {
    "duration": 3,
    "start_time": "2022-08-10T16:10:51.508Z"
   },
   {
    "duration": 14,
    "start_time": "2022-08-10T16:10:51.512Z"
   },
   {
    "duration": 17,
    "start_time": "2022-08-10T16:10:51.527Z"
   },
   {
    "duration": 7,
    "start_time": "2022-08-10T16:10:51.546Z"
   },
   {
    "duration": 62,
    "start_time": "2022-08-10T16:10:51.554Z"
   },
   {
    "duration": 18,
    "start_time": "2022-08-10T16:10:51.617Z"
   },
   {
    "duration": 6,
    "start_time": "2022-08-10T16:10:51.636Z"
   },
   {
    "duration": 6,
    "start_time": "2022-08-10T16:10:51.643Z"
   },
   {
    "duration": 6,
    "start_time": "2022-08-10T16:10:51.650Z"
   },
   {
    "duration": 52,
    "start_time": "2022-08-10T16:10:51.657Z"
   },
   {
    "duration": 12,
    "start_time": "2022-08-10T16:10:51.711Z"
   },
   {
    "duration": 35682,
    "start_time": "2022-08-10T16:10:51.724Z"
   },
   {
    "duration": 7,
    "start_time": "2022-08-10T16:11:27.409Z"
   },
   {
    "duration": 16,
    "start_time": "2022-08-10T16:11:27.418Z"
   },
   {
    "duration": 2,
    "start_time": "2022-08-10T16:11:27.437Z"
   },
   {
    "duration": 366,
    "start_time": "2022-08-10T16:11:27.441Z"
   },
   {
    "duration": 5,
    "start_time": "2022-08-10T16:11:27.809Z"
   },
   {
    "duration": 7,
    "start_time": "2022-08-10T16:11:27.815Z"
   },
   {
    "duration": 6,
    "start_time": "2022-08-10T16:11:27.824Z"
   },
   {
    "duration": 541,
    "start_time": "2022-08-10T16:11:27.832Z"
   },
   {
    "duration": 0,
    "start_time": "2022-08-10T16:11:28.374Z"
   },
   {
    "duration": 459,
    "start_time": "2022-08-10T16:12:22.317Z"
   },
   {
    "duration": 3,
    "start_time": "2022-08-10T16:12:46.973Z"
   },
   {
    "duration": 349,
    "start_time": "2022-08-10T16:12:48.035Z"
   },
   {
    "duration": 4,
    "start_time": "2022-08-10T16:12:55.120Z"
   },
   {
    "duration": 13,
    "start_time": "2022-08-10T16:13:51.147Z"
   },
   {
    "duration": 13,
    "start_time": "2022-08-10T16:15:10.664Z"
   },
   {
    "duration": 14,
    "start_time": "2022-08-10T16:17:32.976Z"
   },
   {
    "duration": 16,
    "start_time": "2022-08-10T16:22:04.199Z"
   },
   {
    "duration": 13,
    "start_time": "2022-08-10T16:23:04.991Z"
   },
   {
    "duration": 16,
    "start_time": "2022-08-10T16:23:17.661Z"
   },
   {
    "duration": 4,
    "start_time": "2022-08-10T16:23:53.574Z"
   },
   {
    "duration": 5,
    "start_time": "2022-08-10T16:24:22.357Z"
   },
   {
    "duration": 5,
    "start_time": "2022-08-10T16:25:07.839Z"
   },
   {
    "duration": 83,
    "start_time": "2022-08-10T16:26:45.630Z"
   },
   {
    "duration": 14,
    "start_time": "2022-08-10T16:26:54.759Z"
   },
   {
    "duration": 17,
    "start_time": "2022-08-10T16:27:16.776Z"
   },
   {
    "duration": 25,
    "start_time": "2022-08-10T16:28:06.071Z"
   },
   {
    "duration": 150,
    "start_time": "2022-08-10T16:30:39.642Z"
   },
   {
    "duration": 3,
    "start_time": "2022-08-10T16:31:06.521Z"
   },
   {
    "duration": 14,
    "start_time": "2022-08-10T16:31:07.350Z"
   },
   {
    "duration": 4,
    "start_time": "2022-08-10T16:31:13.973Z"
   },
   {
    "duration": 3,
    "start_time": "2022-08-10T16:31:17.277Z"
   },
   {
    "duration": 6,
    "start_time": "2022-08-10T16:31:17.730Z"
   },
   {
    "duration": 147,
    "start_time": "2022-08-10T16:31:22.480Z"
   },
   {
    "duration": 12,
    "start_time": "2022-08-10T16:32:02.680Z"
   },
   {
    "duration": 4,
    "start_time": "2022-08-10T16:32:06.706Z"
   },
   {
    "duration": 4,
    "start_time": "2022-08-10T16:32:21.288Z"
   },
   {
    "duration": 157,
    "start_time": "2022-08-10T16:32:24.773Z"
   },
   {
    "duration": 4,
    "start_time": "2022-08-10T16:34:36.779Z"
   },
   {
    "duration": 141,
    "start_time": "2022-08-10T16:34:41.819Z"
   },
   {
    "duration": 19,
    "start_time": "2022-08-10T16:41:03.776Z"
   },
   {
    "duration": 19,
    "start_time": "2022-08-10T16:41:34.317Z"
   },
   {
    "duration": 16,
    "start_time": "2022-08-10T16:48:58.122Z"
   },
   {
    "duration": 4,
    "start_time": "2022-08-10T16:49:01.148Z"
   },
   {
    "duration": 3,
    "start_time": "2022-08-10T16:49:05.278Z"
   },
   {
    "duration": 5,
    "start_time": "2022-08-10T16:49:05.716Z"
   },
   {
    "duration": 4,
    "start_time": "2022-08-10T17:04:34.731Z"
   },
   {
    "duration": 2,
    "start_time": "2022-08-10T17:06:45.985Z"
   },
   {
    "duration": 714,
    "start_time": "2022-08-10T17:06:47.219Z"
   },
   {
    "duration": 3,
    "start_time": "2022-08-10T17:07:07.783Z"
   },
   {
    "duration": 5,
    "start_time": "2022-08-10T17:07:10.875Z"
   },
   {
    "duration": 3,
    "start_time": "2022-08-10T17:07:12.690Z"
   },
   {
    "duration": 652,
    "start_time": "2022-08-10T17:07:13.272Z"
   },
   {
    "duration": 4,
    "start_time": "2022-08-10T17:09:27.478Z"
   },
   {
    "duration": 2,
    "start_time": "2022-08-10T17:09:28.519Z"
   },
   {
    "duration": 1053,
    "start_time": "2022-08-10T17:09:29.738Z"
   },
   {
    "duration": 4,
    "start_time": "2022-08-10T17:10:58.867Z"
   },
   {
    "duration": 4,
    "start_time": "2022-08-10T17:12:35.082Z"
   },
   {
    "duration": 1993,
    "start_time": "2022-08-10T17:12:35.090Z"
   },
   {
    "duration": 47,
    "start_time": "2022-08-10T17:12:37.084Z"
   },
   {
    "duration": 10,
    "start_time": "2022-08-10T17:12:37.133Z"
   },
   {
    "duration": 11,
    "start_time": "2022-08-10T17:12:37.144Z"
   },
   {
    "duration": 11,
    "start_time": "2022-08-10T17:12:37.156Z"
   },
   {
    "duration": 5,
    "start_time": "2022-08-10T17:12:37.168Z"
   },
   {
    "duration": 5,
    "start_time": "2022-08-10T17:12:37.174Z"
   },
   {
    "duration": 14,
    "start_time": "2022-08-10T17:12:37.181Z"
   },
   {
    "duration": 10,
    "start_time": "2022-08-10T17:12:37.197Z"
   },
   {
    "duration": 8,
    "start_time": "2022-08-10T17:12:37.209Z"
   },
   {
    "duration": 14,
    "start_time": "2022-08-10T17:12:37.218Z"
   },
   {
    "duration": 30,
    "start_time": "2022-08-10T17:12:37.234Z"
   },
   {
    "duration": 406,
    "start_time": "2022-08-10T17:12:37.266Z"
   },
   {
    "duration": 3,
    "start_time": "2022-08-10T17:12:37.673Z"
   },
   {
    "duration": 42,
    "start_time": "2022-08-10T17:12:37.677Z"
   },
   {
    "duration": 19,
    "start_time": "2022-08-10T17:12:37.720Z"
   },
   {
    "duration": 6,
    "start_time": "2022-08-10T17:12:37.741Z"
   },
   {
    "duration": 58,
    "start_time": "2022-08-10T17:12:37.748Z"
   },
   {
    "duration": 13,
    "start_time": "2022-08-10T17:12:37.808Z"
   },
   {
    "duration": 7,
    "start_time": "2022-08-10T17:12:37.822Z"
   },
   {
    "duration": 6,
    "start_time": "2022-08-10T17:12:37.830Z"
   },
   {
    "duration": 5,
    "start_time": "2022-08-10T17:12:37.838Z"
   },
   {
    "duration": 6,
    "start_time": "2022-08-10T17:12:37.844Z"
   },
   {
    "duration": 55,
    "start_time": "2022-08-10T17:12:37.851Z"
   },
   {
    "duration": 25819,
    "start_time": "2022-08-10T17:12:37.907Z"
   },
   {
    "duration": 6,
    "start_time": "2022-08-10T17:13:03.728Z"
   },
   {
    "duration": 13,
    "start_time": "2022-08-10T17:13:03.735Z"
   },
   {
    "duration": 4,
    "start_time": "2022-08-10T17:13:03.749Z"
   },
   {
    "duration": 408,
    "start_time": "2022-08-10T17:13:03.754Z"
   },
   {
    "duration": 2,
    "start_time": "2022-08-10T17:13:04.163Z"
   },
   {
    "duration": 16,
    "start_time": "2022-08-10T17:13:04.167Z"
   },
   {
    "duration": 13,
    "start_time": "2022-08-10T17:13:04.184Z"
   },
   {
    "duration": 11,
    "start_time": "2022-08-10T17:13:04.198Z"
   },
   {
    "duration": 3,
    "start_time": "2022-08-10T17:15:26.460Z"
   },
   {
    "duration": 2013,
    "start_time": "2022-08-10T17:15:26.508Z"
   },
   {
    "duration": 37,
    "start_time": "2022-08-10T17:15:28.526Z"
   },
   {
    "duration": 11,
    "start_time": "2022-08-10T17:15:28.564Z"
   },
   {
    "duration": 11,
    "start_time": "2022-08-10T17:15:28.576Z"
   },
   {
    "duration": 8,
    "start_time": "2022-08-10T17:15:28.588Z"
   },
   {
    "duration": 9,
    "start_time": "2022-08-10T17:15:28.598Z"
   },
   {
    "duration": 7,
    "start_time": "2022-08-10T17:15:28.608Z"
   },
   {
    "duration": 13,
    "start_time": "2022-08-10T17:15:28.617Z"
   },
   {
    "duration": 5,
    "start_time": "2022-08-10T17:15:28.632Z"
   },
   {
    "duration": 9,
    "start_time": "2022-08-10T17:15:28.639Z"
   },
   {
    "duration": 8,
    "start_time": "2022-08-10T17:15:28.650Z"
   },
   {
    "duration": 26,
    "start_time": "2022-08-10T17:15:28.659Z"
   },
   {
    "duration": 378,
    "start_time": "2022-08-10T17:15:28.686Z"
   },
   {
    "duration": 3,
    "start_time": "2022-08-10T17:15:29.066Z"
   },
   {
    "duration": 37,
    "start_time": "2022-08-10T17:15:29.070Z"
   },
   {
    "duration": 15,
    "start_time": "2022-08-10T17:15:29.108Z"
   },
   {
    "duration": 8,
    "start_time": "2022-08-10T17:15:29.125Z"
   },
   {
    "duration": 12,
    "start_time": "2022-08-10T17:15:29.135Z"
   },
   {
    "duration": 71,
    "start_time": "2022-08-10T17:15:29.149Z"
   },
   {
    "duration": 5,
    "start_time": "2022-08-10T17:15:29.222Z"
   },
   {
    "duration": 4,
    "start_time": "2022-08-10T17:15:29.228Z"
   },
   {
    "duration": 6,
    "start_time": "2022-08-10T17:15:29.234Z"
   },
   {
    "duration": 4,
    "start_time": "2022-08-10T17:15:29.242Z"
   },
   {
    "duration": 7,
    "start_time": "2022-08-10T17:15:29.248Z"
   },
   {
    "duration": 25853,
    "start_time": "2022-08-10T17:15:29.256Z"
   },
   {
    "duration": 5,
    "start_time": "2022-08-10T17:15:55.113Z"
   },
   {
    "duration": 13,
    "start_time": "2022-08-10T17:15:55.119Z"
   },
   {
    "duration": 7,
    "start_time": "2022-08-10T17:15:55.133Z"
   },
   {
    "duration": 398,
    "start_time": "2022-08-10T17:15:55.141Z"
   },
   {
    "duration": 3,
    "start_time": "2022-08-10T17:15:55.540Z"
   },
   {
    "duration": 6,
    "start_time": "2022-08-10T17:15:55.545Z"
   },
   {
    "duration": 5,
    "start_time": "2022-08-10T17:15:55.552Z"
   },
   {
    "duration": 10,
    "start_time": "2022-08-10T17:15:55.559Z"
   },
   {
    "duration": 204,
    "start_time": "2022-08-10T17:15:55.571Z"
   },
   {
    "duration": 0,
    "start_time": "2022-08-10T17:15:55.777Z"
   },
   {
    "duration": 0,
    "start_time": "2022-08-10T17:15:55.778Z"
   },
   {
    "duration": 0,
    "start_time": "2022-08-10T17:15:55.779Z"
   },
   {
    "duration": 3,
    "start_time": "2022-08-10T17:27:48.869Z"
   },
   {
    "duration": 2200,
    "start_time": "2022-08-10T17:27:48.911Z"
   },
   {
    "duration": 44,
    "start_time": "2022-08-10T17:27:51.114Z"
   },
   {
    "duration": 10,
    "start_time": "2022-08-10T17:27:51.160Z"
   },
   {
    "duration": 13,
    "start_time": "2022-08-10T17:27:51.171Z"
   },
   {
    "duration": 11,
    "start_time": "2022-08-10T17:27:51.186Z"
   },
   {
    "duration": 5,
    "start_time": "2022-08-10T17:27:51.198Z"
   },
   {
    "duration": 5,
    "start_time": "2022-08-10T17:27:51.204Z"
   },
   {
    "duration": 13,
    "start_time": "2022-08-10T17:27:51.211Z"
   },
   {
    "duration": 5,
    "start_time": "2022-08-10T17:27:51.226Z"
   },
   {
    "duration": 8,
    "start_time": "2022-08-10T17:27:51.232Z"
   },
   {
    "duration": 10,
    "start_time": "2022-08-10T17:27:51.241Z"
   },
   {
    "duration": 27,
    "start_time": "2022-08-10T17:27:51.253Z"
   },
   {
    "duration": 374,
    "start_time": "2022-08-10T17:27:51.281Z"
   },
   {
    "duration": 2,
    "start_time": "2022-08-10T17:27:51.658Z"
   },
   {
    "duration": 11,
    "start_time": "2022-08-10T17:27:51.662Z"
   },
   {
    "duration": 42,
    "start_time": "2022-08-10T17:27:51.674Z"
   },
   {
    "duration": 6,
    "start_time": "2022-08-10T17:27:51.717Z"
   },
   {
    "duration": 15,
    "start_time": "2022-08-10T17:27:51.724Z"
   },
   {
    "duration": 14,
    "start_time": "2022-08-10T17:27:51.740Z"
   },
   {
    "duration": 6,
    "start_time": "2022-08-10T17:27:51.805Z"
   },
   {
    "duration": 13,
    "start_time": "2022-08-10T17:27:51.812Z"
   },
   {
    "duration": 5,
    "start_time": "2022-08-10T17:27:51.827Z"
   },
   {
    "duration": 5,
    "start_time": "2022-08-10T17:27:51.833Z"
   },
   {
    "duration": 5,
    "start_time": "2022-08-10T17:27:51.840Z"
   },
   {
    "duration": 23051,
    "start_time": "2022-08-10T17:27:51.847Z"
   },
   {
    "duration": 0,
    "start_time": "2022-08-10T17:28:14.900Z"
   },
   {
    "duration": 0,
    "start_time": "2022-08-10T17:28:14.906Z"
   },
   {
    "duration": 0,
    "start_time": "2022-08-10T17:28:14.908Z"
   },
   {
    "duration": 0,
    "start_time": "2022-08-10T17:28:14.909Z"
   },
   {
    "duration": 0,
    "start_time": "2022-08-10T17:28:14.911Z"
   },
   {
    "duration": 0,
    "start_time": "2022-08-10T17:28:14.912Z"
   },
   {
    "duration": 1,
    "start_time": "2022-08-10T17:28:14.913Z"
   },
   {
    "duration": 0,
    "start_time": "2022-08-10T17:28:14.915Z"
   },
   {
    "duration": 0,
    "start_time": "2022-08-10T17:28:14.916Z"
   },
   {
    "duration": 0,
    "start_time": "2022-08-10T17:28:14.918Z"
   },
   {
    "duration": 0,
    "start_time": "2022-08-10T17:28:14.919Z"
   },
   {
    "duration": 0,
    "start_time": "2022-08-10T17:28:14.920Z"
   },
   {
    "duration": 4,
    "start_time": "2022-08-10T17:28:30.269Z"
   },
   {
    "duration": 2259,
    "start_time": "2022-08-10T17:28:30.275Z"
   },
   {
    "duration": 73,
    "start_time": "2022-08-10T17:28:32.536Z"
   },
   {
    "duration": 14,
    "start_time": "2022-08-10T17:28:32.612Z"
   },
   {
    "duration": 12,
    "start_time": "2022-08-10T17:28:32.627Z"
   },
   {
    "duration": 11,
    "start_time": "2022-08-10T17:28:32.640Z"
   },
   {
    "duration": 58,
    "start_time": "2022-08-10T17:28:32.652Z"
   },
   {
    "duration": 6,
    "start_time": "2022-08-10T17:28:32.711Z"
   },
   {
    "duration": 13,
    "start_time": "2022-08-10T17:28:32.718Z"
   },
   {
    "duration": 9,
    "start_time": "2022-08-10T17:28:32.734Z"
   },
   {
    "duration": 7,
    "start_time": "2022-08-10T17:28:32.745Z"
   },
   {
    "duration": 54,
    "start_time": "2022-08-10T17:28:32.754Z"
   },
   {
    "duration": 26,
    "start_time": "2022-08-10T17:28:32.809Z"
   },
   {
    "duration": 703,
    "start_time": "2022-08-10T17:28:32.836Z"
   },
   {
    "duration": 2,
    "start_time": "2022-08-10T17:28:33.541Z"
   },
   {
    "duration": 66,
    "start_time": "2022-08-10T17:28:33.545Z"
   },
   {
    "duration": 25,
    "start_time": "2022-08-10T17:28:33.613Z"
   },
   {
    "duration": 7,
    "start_time": "2022-08-10T17:28:33.640Z"
   },
   {
    "duration": 65,
    "start_time": "2022-08-10T17:28:33.649Z"
   },
   {
    "duration": 10,
    "start_time": "2022-08-10T17:28:33.716Z"
   },
   {
    "duration": 18,
    "start_time": "2022-08-10T17:28:33.728Z"
   },
   {
    "duration": 7,
    "start_time": "2022-08-10T17:28:33.748Z"
   },
   {
    "duration": 4,
    "start_time": "2022-08-10T17:28:33.806Z"
   },
   {
    "duration": 5,
    "start_time": "2022-08-10T17:28:33.812Z"
   },
   {
    "duration": 8,
    "start_time": "2022-08-10T17:28:33.818Z"
   },
   {
    "duration": 27088,
    "start_time": "2022-08-10T17:28:33.828Z"
   },
   {
    "duration": 6,
    "start_time": "2022-08-10T17:29:00.918Z"
   },
   {
    "duration": 12,
    "start_time": "2022-08-10T17:29:00.927Z"
   },
   {
    "duration": 9,
    "start_time": "2022-08-10T17:29:00.940Z"
   },
   {
    "duration": 414,
    "start_time": "2022-08-10T17:29:00.951Z"
   },
   {
    "duration": 3,
    "start_time": "2022-08-10T17:29:01.366Z"
   },
   {
    "duration": 19,
    "start_time": "2022-08-10T17:29:01.370Z"
   },
   {
    "duration": 6,
    "start_time": "2022-08-10T17:29:01.390Z"
   },
   {
    "duration": 20,
    "start_time": "2022-08-10T17:29:01.398Z"
   },
   {
    "duration": 173,
    "start_time": "2022-08-10T17:29:01.420Z"
   },
   {
    "duration": 0,
    "start_time": "2022-08-10T17:29:01.595Z"
   },
   {
    "duration": 0,
    "start_time": "2022-08-10T17:29:01.596Z"
   },
   {
    "duration": 0,
    "start_time": "2022-08-10T17:29:01.597Z"
   },
   {
    "duration": 100283,
    "start_time": "2022-08-10T17:29:16.180Z"
   },
   {
    "duration": 3,
    "start_time": "2022-08-10T17:32:00.979Z"
   },
   {
    "duration": 3,
    "start_time": "2022-08-10T17:35:15.118Z"
   },
   {
    "duration": 2726,
    "start_time": "2022-08-10T17:35:15.124Z"
   },
   {
    "duration": 77,
    "start_time": "2022-08-10T17:35:17.852Z"
   },
   {
    "duration": 10,
    "start_time": "2022-08-10T17:35:17.931Z"
   },
   {
    "duration": 15,
    "start_time": "2022-08-10T17:35:17.942Z"
   },
   {
    "duration": 11,
    "start_time": "2022-08-10T17:35:17.959Z"
   },
   {
    "duration": 35,
    "start_time": "2022-08-10T17:35:17.972Z"
   },
   {
    "duration": 5,
    "start_time": "2022-08-10T17:35:18.009Z"
   },
   {
    "duration": 13,
    "start_time": "2022-08-10T17:35:18.015Z"
   },
   {
    "duration": 6,
    "start_time": "2022-08-10T17:35:18.030Z"
   },
   {
    "duration": 7,
    "start_time": "2022-08-10T17:35:18.038Z"
   },
   {
    "duration": 13,
    "start_time": "2022-08-10T17:35:18.047Z"
   },
   {
    "duration": 32,
    "start_time": "2022-08-10T17:35:18.062Z"
   },
   {
    "duration": 510,
    "start_time": "2022-08-10T17:35:18.097Z"
   },
   {
    "duration": 3,
    "start_time": "2022-08-10T17:35:18.609Z"
   },
   {
    "duration": 13,
    "start_time": "2022-08-10T17:35:18.614Z"
   },
   {
    "duration": 17,
    "start_time": "2022-08-10T17:35:18.629Z"
   },
   {
    "duration": 61,
    "start_time": "2022-08-10T17:35:18.648Z"
   },
   {
    "duration": 17,
    "start_time": "2022-08-10T17:35:18.711Z"
   },
   {
    "duration": 14,
    "start_time": "2022-08-10T17:35:18.730Z"
   },
   {
    "duration": 5,
    "start_time": "2022-08-10T17:35:18.746Z"
   },
   {
    "duration": 53,
    "start_time": "2022-08-10T17:35:18.753Z"
   },
   {
    "duration": 4,
    "start_time": "2022-08-10T17:35:18.808Z"
   },
   {
    "duration": 6,
    "start_time": "2022-08-10T17:35:18.814Z"
   },
   {
    "duration": 9,
    "start_time": "2022-08-10T17:35:18.822Z"
   },
   {
    "duration": 23996,
    "start_time": "2022-08-10T17:35:18.833Z"
   },
   {
    "duration": 79,
    "start_time": "2022-08-10T17:35:42.830Z"
   },
   {
    "duration": 11,
    "start_time": "2022-08-10T17:35:42.911Z"
   },
   {
    "duration": 5,
    "start_time": "2022-08-10T17:35:42.924Z"
   },
   {
    "duration": 366,
    "start_time": "2022-08-10T17:35:42.930Z"
   },
   {
    "duration": 8,
    "start_time": "2022-08-10T17:35:43.297Z"
   },
   {
    "duration": 5,
    "start_time": "2022-08-10T17:35:43.307Z"
   },
   {
    "duration": 5,
    "start_time": "2022-08-10T17:35:43.314Z"
   },
   {
    "duration": 5,
    "start_time": "2022-08-10T17:35:43.320Z"
   },
   {
    "duration": 5,
    "start_time": "2022-08-10T17:35:43.326Z"
   },
   {
    "duration": 6,
    "start_time": "2022-08-10T17:35:43.332Z"
   },
   {
    "duration": 178,
    "start_time": "2022-08-10T17:35:43.340Z"
   },
   {
    "duration": 0,
    "start_time": "2022-08-10T17:35:43.520Z"
   },
   {
    "duration": 0,
    "start_time": "2022-08-10T17:35:43.521Z"
   },
   {
    "duration": 0,
    "start_time": "2022-08-10T17:35:43.522Z"
   },
   {
    "duration": 5,
    "start_time": "2022-08-10T17:40:09.393Z"
   },
   {
    "duration": 382,
    "start_time": "2022-08-10T17:40:41.508Z"
   },
   {
    "duration": 4,
    "start_time": "2022-08-10T17:42:42.910Z"
   },
   {
    "duration": 314,
    "start_time": "2022-08-10T17:42:44.300Z"
   },
   {
    "duration": 4,
    "start_time": "2022-08-10T17:43:19.778Z"
   },
   {
    "duration": 195,
    "start_time": "2022-08-10T17:43:21.179Z"
   },
   {
    "duration": 4,
    "start_time": "2022-08-10T17:44:35.693Z"
   },
   {
    "duration": 169,
    "start_time": "2022-08-10T17:44:36.521Z"
   },
   {
    "duration": 4,
    "start_time": "2022-08-10T17:44:41.788Z"
   },
   {
    "duration": 191,
    "start_time": "2022-08-10T17:44:48.373Z"
   },
   {
    "duration": 5,
    "start_time": "2022-08-10T17:45:42.754Z"
   },
   {
    "duration": 3,
    "start_time": "2022-08-10T17:45:45.461Z"
   },
   {
    "duration": 3,
    "start_time": "2022-08-10T17:45:46.256Z"
   },
   {
    "duration": 4,
    "start_time": "2022-08-10T17:45:46.604Z"
   },
   {
    "duration": 159,
    "start_time": "2022-08-10T17:45:47.547Z"
   },
   {
    "duration": 4,
    "start_time": "2022-08-10T17:46:32.905Z"
   },
   {
    "duration": 160,
    "start_time": "2022-08-10T17:46:33.803Z"
   },
   {
    "duration": 4,
    "start_time": "2022-08-10T17:47:13.746Z"
   },
   {
    "duration": 54,
    "start_time": "2022-08-10T17:47:14.221Z"
   },
   {
    "duration": 3,
    "start_time": "2022-08-10T17:47:19.542Z"
   },
   {
    "duration": 37,
    "start_time": "2022-08-10T17:47:20.026Z"
   },
   {
    "duration": 5,
    "start_time": "2022-08-10T17:47:29.327Z"
   },
   {
    "duration": 177,
    "start_time": "2022-08-10T17:47:29.715Z"
   },
   {
    "duration": 4,
    "start_time": "2022-08-10T17:47:35.123Z"
   },
   {
    "duration": 4,
    "start_time": "2022-08-10T17:47:41.416Z"
   },
   {
    "duration": 169,
    "start_time": "2022-08-10T17:47:41.915Z"
   },
   {
    "duration": 15,
    "start_time": "2022-08-10T17:47:53.367Z"
   },
   {
    "duration": 4,
    "start_time": "2022-08-10T17:47:57.066Z"
   },
   {
    "duration": 4,
    "start_time": "2022-08-10T17:48:02.889Z"
   },
   {
    "duration": 3,
    "start_time": "2022-08-10T17:48:05.214Z"
   },
   {
    "duration": 2,
    "start_time": "2022-08-10T17:48:06.476Z"
   },
   {
    "duration": 4,
    "start_time": "2022-08-10T17:48:07.163Z"
   },
   {
    "duration": 157,
    "start_time": "2022-08-10T17:48:08.593Z"
   },
   {
    "duration": 3,
    "start_time": "2022-08-10T17:48:35.075Z"
   },
   {
    "duration": 29,
    "start_time": "2022-08-10T17:48:44.787Z"
   },
   {
    "duration": 28,
    "start_time": "2022-08-10T17:49:13.618Z"
   },
   {
    "duration": 4,
    "start_time": "2022-08-10T17:51:52.919Z"
   },
   {
    "duration": 54,
    "start_time": "2022-08-10T17:51:55.126Z"
   },
   {
    "duration": 4,
    "start_time": "2022-08-10T17:52:35.352Z"
   },
   {
    "duration": 4,
    "start_time": "2022-08-10T17:52:43.232Z"
   },
   {
    "duration": 3,
    "start_time": "2022-08-10T17:52:44.893Z"
   },
   {
    "duration": 2,
    "start_time": "2022-08-10T17:52:45.985Z"
   },
   {
    "duration": 4,
    "start_time": "2022-08-10T17:52:46.350Z"
   },
   {
    "duration": 54,
    "start_time": "2022-08-10T17:52:47.243Z"
   },
   {
    "duration": 2,
    "start_time": "2022-08-10T17:53:22.347Z"
   },
   {
    "duration": 3,
    "start_time": "2022-08-10T17:53:22.829Z"
   },
   {
    "duration": 72,
    "start_time": "2022-08-10T17:53:23.196Z"
   },
   {
    "duration": 4,
    "start_time": "2022-08-10T17:53:27.188Z"
   },
   {
    "duration": 4,
    "start_time": "2022-08-10T17:54:34.229Z"
   },
   {
    "duration": 1914,
    "start_time": "2022-08-10T17:54:34.235Z"
   },
   {
    "duration": 41,
    "start_time": "2022-08-10T17:54:36.151Z"
   },
   {
    "duration": 13,
    "start_time": "2022-08-10T17:54:36.195Z"
   },
   {
    "duration": 31,
    "start_time": "2022-08-10T17:54:36.210Z"
   },
   {
    "duration": 23,
    "start_time": "2022-08-10T17:54:36.243Z"
   },
   {
    "duration": 10,
    "start_time": "2022-08-10T17:54:36.268Z"
   },
   {
    "duration": 13,
    "start_time": "2022-08-10T17:54:36.280Z"
   },
   {
    "duration": 15,
    "start_time": "2022-08-10T17:54:36.295Z"
   },
   {
    "duration": 10,
    "start_time": "2022-08-10T17:54:36.312Z"
   },
   {
    "duration": 12,
    "start_time": "2022-08-10T17:54:36.323Z"
   },
   {
    "duration": 8,
    "start_time": "2022-08-10T17:54:36.337Z"
   },
   {
    "duration": 34,
    "start_time": "2022-08-10T17:54:36.347Z"
   },
   {
    "duration": 346,
    "start_time": "2022-08-10T17:54:36.383Z"
   },
   {
    "duration": 3,
    "start_time": "2022-08-10T17:54:36.730Z"
   },
   {
    "duration": 13,
    "start_time": "2022-08-10T17:54:36.734Z"
   },
   {
    "duration": 16,
    "start_time": "2022-08-10T17:54:36.748Z"
   },
   {
    "duration": 6,
    "start_time": "2022-08-10T17:54:36.807Z"
   },
   {
    "duration": 15,
    "start_time": "2022-08-10T17:54:36.815Z"
   },
   {
    "duration": 12,
    "start_time": "2022-08-10T17:54:36.832Z"
   },
   {
    "duration": 5,
    "start_time": "2022-08-10T17:54:36.845Z"
   },
   {
    "duration": 3,
    "start_time": "2022-08-10T17:54:36.852Z"
   },
   {
    "duration": 4,
    "start_time": "2022-08-10T17:54:36.906Z"
   },
   {
    "duration": 8,
    "start_time": "2022-08-10T17:54:36.912Z"
   },
   {
    "duration": 6,
    "start_time": "2022-08-10T17:54:36.922Z"
   },
   {
    "duration": 28198,
    "start_time": "2022-08-10T17:54:36.930Z"
   },
   {
    "duration": 76,
    "start_time": "2022-08-10T17:55:05.130Z"
   },
   {
    "duration": 11,
    "start_time": "2022-08-10T17:55:05.211Z"
   },
   {
    "duration": 4,
    "start_time": "2022-08-10T17:55:05.224Z"
   },
   {
    "duration": 377,
    "start_time": "2022-08-10T17:55:05.230Z"
   },
   {
    "duration": 3,
    "start_time": "2022-08-10T17:55:05.609Z"
   },
   {
    "duration": 6,
    "start_time": "2022-08-10T17:55:05.614Z"
   },
   {
    "duration": 5,
    "start_time": "2022-08-10T17:55:05.622Z"
   },
   {
    "duration": 5,
    "start_time": "2022-08-10T17:55:05.628Z"
   },
   {
    "duration": 5,
    "start_time": "2022-08-10T17:55:05.634Z"
   },
   {
    "duration": 182,
    "start_time": "2022-08-10T17:55:05.641Z"
   },
   {
    "duration": 185,
    "start_time": "2022-08-10T17:55:05.825Z"
   },
   {
    "duration": 0,
    "start_time": "2022-08-10T17:55:06.012Z"
   },
   {
    "duration": 0,
    "start_time": "2022-08-10T17:55:06.016Z"
   },
   {
    "duration": 0,
    "start_time": "2022-08-10T17:55:06.017Z"
   },
   {
    "duration": 0,
    "start_time": "2022-08-10T17:55:06.019Z"
   },
   {
    "duration": 4,
    "start_time": "2022-08-10T17:57:24.574Z"
   },
   {
    "duration": 3,
    "start_time": "2022-08-10T18:03:14.457Z"
   },
   {
    "duration": 2072,
    "start_time": "2022-08-10T18:03:14.462Z"
   },
   {
    "duration": 80,
    "start_time": "2022-08-10T18:03:16.536Z"
   },
   {
    "duration": 11,
    "start_time": "2022-08-10T18:03:16.618Z"
   },
   {
    "duration": 25,
    "start_time": "2022-08-10T18:03:16.630Z"
   },
   {
    "duration": 56,
    "start_time": "2022-08-10T18:03:16.656Z"
   },
   {
    "duration": 5,
    "start_time": "2022-08-10T18:03:16.714Z"
   },
   {
    "duration": 8,
    "start_time": "2022-08-10T18:03:16.720Z"
   },
   {
    "duration": 13,
    "start_time": "2022-08-10T18:03:16.729Z"
   },
   {
    "duration": 7,
    "start_time": "2022-08-10T18:03:16.744Z"
   },
   {
    "duration": 54,
    "start_time": "2022-08-10T18:03:16.753Z"
   },
   {
    "duration": 7,
    "start_time": "2022-08-10T18:03:16.808Z"
   },
   {
    "duration": 24,
    "start_time": "2022-08-10T18:03:16.817Z"
   },
   {
    "duration": 699,
    "start_time": "2022-08-10T18:03:16.843Z"
   },
   {
    "duration": 4,
    "start_time": "2022-08-10T18:03:17.543Z"
   },
   {
    "duration": 68,
    "start_time": "2022-08-10T18:03:17.548Z"
   },
   {
    "duration": 24,
    "start_time": "2022-08-10T18:03:17.618Z"
   },
   {
    "duration": 7,
    "start_time": "2022-08-10T18:03:17.644Z"
   },
   {
    "duration": 17,
    "start_time": "2022-08-10T18:03:17.707Z"
   },
   {
    "duration": 20,
    "start_time": "2022-08-10T18:03:17.726Z"
   },
   {
    "duration": 5,
    "start_time": "2022-08-10T18:03:17.748Z"
   },
   {
    "duration": 4,
    "start_time": "2022-08-10T18:03:17.806Z"
   },
   {
    "duration": 4,
    "start_time": "2022-08-10T18:03:17.812Z"
   },
   {
    "duration": 4,
    "start_time": "2022-08-10T18:03:17.818Z"
   },
   {
    "duration": 6,
    "start_time": "2022-08-10T18:03:17.824Z"
   },
   {
    "duration": 27583,
    "start_time": "2022-08-10T18:03:17.831Z"
   },
   {
    "duration": 5,
    "start_time": "2022-08-10T18:03:45.416Z"
   },
   {
    "duration": 12,
    "start_time": "2022-08-10T18:03:45.422Z"
   },
   {
    "duration": 3,
    "start_time": "2022-08-10T18:03:45.437Z"
   },
   {
    "duration": 400,
    "start_time": "2022-08-10T18:03:45.442Z"
   },
   {
    "duration": 3,
    "start_time": "2022-08-10T18:03:45.844Z"
   },
   {
    "duration": 9,
    "start_time": "2022-08-10T18:03:45.848Z"
   },
   {
    "duration": 5,
    "start_time": "2022-08-10T18:03:45.859Z"
   },
   {
    "duration": 5,
    "start_time": "2022-08-10T18:03:45.865Z"
   },
   {
    "duration": 6,
    "start_time": "2022-08-10T18:03:45.872Z"
   },
   {
    "duration": 347,
    "start_time": "2022-08-10T18:03:45.880Z"
   },
   {
    "duration": 188,
    "start_time": "2022-08-10T18:03:46.229Z"
   },
   {
    "duration": 0,
    "start_time": "2022-08-10T18:03:46.419Z"
   },
   {
    "duration": 0,
    "start_time": "2022-08-10T18:03:46.420Z"
   },
   {
    "duration": 0,
    "start_time": "2022-08-10T18:03:46.421Z"
   },
   {
    "duration": 0,
    "start_time": "2022-08-10T18:03:46.422Z"
   },
   {
    "duration": 4,
    "start_time": "2022-08-10T18:03:59.613Z"
   },
   {
    "duration": 29,
    "start_time": "2022-08-10T18:04:00.756Z"
   },
   {
    "duration": 3,
    "start_time": "2022-08-10T18:06:53.961Z"
   },
   {
    "duration": 24,
    "start_time": "2022-08-10T18:06:54.365Z"
   },
   {
    "duration": 3,
    "start_time": "2022-08-10T18:07:10.637Z"
   },
   {
    "duration": 27,
    "start_time": "2022-08-10T18:07:10.968Z"
   },
   {
    "duration": 3,
    "start_time": "2022-08-10T18:11:54.520Z"
   },
   {
    "duration": 244,
    "start_time": "2022-08-10T18:11:54.844Z"
   },
   {
    "duration": 14,
    "start_time": "2022-08-10T18:13:15.779Z"
   },
   {
    "duration": 4,
    "start_time": "2022-08-10T18:13:24.757Z"
   },
   {
    "duration": 6,
    "start_time": "2022-08-10T18:13:27.600Z"
   },
   {
    "duration": 3,
    "start_time": "2022-08-10T18:13:29.711Z"
   },
   {
    "duration": 7,
    "start_time": "2022-08-10T18:13:30.068Z"
   },
   {
    "duration": 4,
    "start_time": "2022-08-10T18:13:31.161Z"
   },
   {
    "duration": 2,
    "start_time": "2022-08-10T18:14:29.186Z"
   },
   {
    "duration": 15,
    "start_time": "2022-08-10T18:14:29.633Z"
   },
   {
    "duration": 4,
    "start_time": "2022-08-10T18:14:34.386Z"
   },
   {
    "duration": 4,
    "start_time": "2022-08-10T18:14:37.909Z"
   },
   {
    "duration": 3,
    "start_time": "2022-08-10T18:14:39.835Z"
   },
   {
    "duration": 3,
    "start_time": "2022-08-10T18:14:40.485Z"
   },
   {
    "duration": 3,
    "start_time": "2022-08-10T18:14:40.756Z"
   },
   {
    "duration": 279,
    "start_time": "2022-08-10T18:14:41.573Z"
   },
   {
    "duration": 4,
    "start_time": "2022-08-10T18:22:13.474Z"
   },
   {
    "duration": 267,
    "start_time": "2022-08-10T18:22:13.739Z"
   },
   {
    "duration": 4,
    "start_time": "2022-08-10T18:22:20.322Z"
   },
   {
    "duration": 5,
    "start_time": "2022-08-10T18:22:25.264Z"
   },
   {
    "duration": 2,
    "start_time": "2022-08-10T18:22:26.751Z"
   },
   {
    "duration": 2,
    "start_time": "2022-08-10T18:22:27.108Z"
   },
   {
    "duration": 4,
    "start_time": "2022-08-10T18:22:27.946Z"
   },
   {
    "duration": 257,
    "start_time": "2022-08-10T18:22:28.554Z"
   },
   {
    "duration": 4,
    "start_time": "2022-08-10T18:24:15.357Z"
   },
   {
    "duration": 275,
    "start_time": "2022-08-10T18:24:15.746Z"
   },
   {
    "duration": 4,
    "start_time": "2022-08-10T18:24:43.289Z"
   },
   {
    "duration": 1915,
    "start_time": "2022-08-10T18:24:43.294Z"
   },
   {
    "duration": 41,
    "start_time": "2022-08-10T18:24:45.210Z"
   },
   {
    "duration": 13,
    "start_time": "2022-08-10T18:24:45.253Z"
   },
   {
    "duration": 17,
    "start_time": "2022-08-10T18:24:45.268Z"
   },
   {
    "duration": 15,
    "start_time": "2022-08-10T18:24:45.287Z"
   },
   {
    "duration": 7,
    "start_time": "2022-08-10T18:24:45.304Z"
   },
   {
    "duration": 8,
    "start_time": "2022-08-10T18:24:45.313Z"
   },
   {
    "duration": 14,
    "start_time": "2022-08-10T18:24:45.323Z"
   },
   {
    "duration": 7,
    "start_time": "2022-08-10T18:24:45.339Z"
   },
   {
    "duration": 15,
    "start_time": "2022-08-10T18:24:45.348Z"
   },
   {
    "duration": 9,
    "start_time": "2022-08-10T18:24:45.364Z"
   },
   {
    "duration": 42,
    "start_time": "2022-08-10T18:24:45.375Z"
   },
   {
    "duration": 360,
    "start_time": "2022-08-10T18:24:45.420Z"
   },
   {
    "duration": 2,
    "start_time": "2022-08-10T18:24:45.782Z"
   },
   {
    "duration": 20,
    "start_time": "2022-08-10T18:24:45.786Z"
   },
   {
    "duration": 15,
    "start_time": "2022-08-10T18:24:45.808Z"
   },
   {
    "duration": 16,
    "start_time": "2022-08-10T18:24:45.824Z"
   },
   {
    "duration": 68,
    "start_time": "2022-08-10T18:24:45.842Z"
   },
   {
    "duration": 20,
    "start_time": "2022-08-10T18:24:45.912Z"
   },
   {
    "duration": 5,
    "start_time": "2022-08-10T18:24:45.934Z"
   },
   {
    "duration": 6,
    "start_time": "2022-08-10T18:24:45.940Z"
   },
   {
    "duration": 252,
    "start_time": "2022-08-10T18:24:45.947Z"
   },
   {
    "duration": 0,
    "start_time": "2022-08-10T18:24:46.202Z"
   },
   {
    "duration": 0,
    "start_time": "2022-08-10T18:24:46.204Z"
   },
   {
    "duration": 0,
    "start_time": "2022-08-10T18:24:46.205Z"
   },
   {
    "duration": 0,
    "start_time": "2022-08-10T18:24:46.206Z"
   },
   {
    "duration": 0,
    "start_time": "2022-08-10T18:24:46.208Z"
   },
   {
    "duration": 0,
    "start_time": "2022-08-10T18:24:46.209Z"
   },
   {
    "duration": 0,
    "start_time": "2022-08-10T18:24:46.210Z"
   },
   {
    "duration": 0,
    "start_time": "2022-08-10T18:24:46.212Z"
   },
   {
    "duration": 0,
    "start_time": "2022-08-10T18:24:46.214Z"
   },
   {
    "duration": 0,
    "start_time": "2022-08-10T18:24:46.215Z"
   },
   {
    "duration": 0,
    "start_time": "2022-08-10T18:24:46.216Z"
   },
   {
    "duration": 0,
    "start_time": "2022-08-10T18:24:46.218Z"
   },
   {
    "duration": 0,
    "start_time": "2022-08-10T18:24:46.219Z"
   },
   {
    "duration": 0,
    "start_time": "2022-08-10T18:24:46.220Z"
   },
   {
    "duration": 0,
    "start_time": "2022-08-10T18:24:46.222Z"
   },
   {
    "duration": 5,
    "start_time": "2022-08-10T18:24:57.145Z"
   },
   {
    "duration": 3,
    "start_time": "2022-08-10T18:24:58.773Z"
   },
   {
    "duration": 2,
    "start_time": "2022-08-10T18:24:59.285Z"
   },
   {
    "duration": 19,
    "start_time": "2022-08-10T18:25:00.244Z"
   },
   {
    "duration": 3,
    "start_time": "2022-08-10T18:25:23.940Z"
   },
   {
    "duration": 229,
    "start_time": "2022-08-10T18:25:26.145Z"
   },
   {
    "duration": 4,
    "start_time": "2022-08-10T18:28:09.304Z"
   },
   {
    "duration": 2727,
    "start_time": "2022-08-10T18:28:09.310Z"
   },
   {
    "duration": 74,
    "start_time": "2022-08-10T18:28:12.039Z"
   },
   {
    "duration": 12,
    "start_time": "2022-08-10T18:28:12.114Z"
   },
   {
    "duration": 11,
    "start_time": "2022-08-10T18:28:12.128Z"
   },
   {
    "duration": 13,
    "start_time": "2022-08-10T18:28:12.140Z"
   },
   {
    "duration": 56,
    "start_time": "2022-08-10T18:28:12.154Z"
   },
   {
    "duration": 5,
    "start_time": "2022-08-10T18:28:12.212Z"
   },
   {
    "duration": 12,
    "start_time": "2022-08-10T18:28:12.218Z"
   },
   {
    "duration": 9,
    "start_time": "2022-08-10T18:28:12.232Z"
   },
   {
    "duration": 8,
    "start_time": "2022-08-10T18:28:12.242Z"
   },
   {
    "duration": 55,
    "start_time": "2022-08-10T18:28:12.252Z"
   },
   {
    "duration": 41,
    "start_time": "2022-08-10T18:28:12.309Z"
   },
   {
    "duration": 682,
    "start_time": "2022-08-10T18:28:12.352Z"
   },
   {
    "duration": 3,
    "start_time": "2022-08-10T18:28:13.035Z"
   },
   {
    "duration": 71,
    "start_time": "2022-08-10T18:28:13.039Z"
   },
   {
    "duration": 14,
    "start_time": "2022-08-10T18:28:13.112Z"
   },
   {
    "duration": 6,
    "start_time": "2022-08-10T18:28:13.128Z"
   },
   {
    "duration": 70,
    "start_time": "2022-08-10T18:28:13.136Z"
   },
   {
    "duration": 15,
    "start_time": "2022-08-10T18:28:13.208Z"
   },
   {
    "duration": 5,
    "start_time": "2022-08-10T18:28:13.224Z"
   },
   {
    "duration": 7,
    "start_time": "2022-08-10T18:28:13.231Z"
   },
   {
    "duration": 5,
    "start_time": "2022-08-10T18:28:13.240Z"
   },
   {
    "duration": 4,
    "start_time": "2022-08-10T18:28:13.247Z"
   },
   {
    "duration": 57,
    "start_time": "2022-08-10T18:28:13.252Z"
   },
   {
    "duration": 25499,
    "start_time": "2022-08-10T18:28:13.311Z"
   },
   {
    "duration": 6,
    "start_time": "2022-08-10T18:28:38.812Z"
   },
   {
    "duration": 13,
    "start_time": "2022-08-10T18:28:38.822Z"
   },
   {
    "duration": 5,
    "start_time": "2022-08-10T18:28:38.836Z"
   },
   {
    "duration": 394,
    "start_time": "2022-08-10T18:28:38.842Z"
   },
   {
    "duration": 2,
    "start_time": "2022-08-10T18:28:39.237Z"
   },
   {
    "duration": 5,
    "start_time": "2022-08-10T18:28:39.241Z"
   },
   {
    "duration": 5,
    "start_time": "2022-08-10T18:28:39.247Z"
   },
   {
    "duration": 5,
    "start_time": "2022-08-10T18:28:39.253Z"
   },
   {
    "duration": 6,
    "start_time": "2022-08-10T18:28:39.259Z"
   },
   {
    "duration": 369,
    "start_time": "2022-08-10T18:28:39.266Z"
   },
   {
    "duration": 4,
    "start_time": "2022-08-10T18:28:39.636Z"
   },
   {
    "duration": 4,
    "start_time": "2022-08-11T13:58:57.133Z"
   },
   {
    "duration": 3916,
    "start_time": "2022-08-11T13:58:57.139Z"
   },
   {
    "duration": 0,
    "start_time": "2022-08-11T13:59:01.058Z"
   },
   {
    "duration": 0,
    "start_time": "2022-08-11T13:59:01.059Z"
   },
   {
    "duration": 0,
    "start_time": "2022-08-11T13:59:01.061Z"
   },
   {
    "duration": 0,
    "start_time": "2022-08-11T13:59:01.062Z"
   },
   {
    "duration": 0,
    "start_time": "2022-08-11T13:59:01.063Z"
   },
   {
    "duration": 0,
    "start_time": "2022-08-11T13:59:01.111Z"
   },
   {
    "duration": 0,
    "start_time": "2022-08-11T13:59:01.114Z"
   },
   {
    "duration": 0,
    "start_time": "2022-08-11T13:59:01.115Z"
   },
   {
    "duration": 0,
    "start_time": "2022-08-11T13:59:01.116Z"
   },
   {
    "duration": 0,
    "start_time": "2022-08-11T13:59:01.117Z"
   },
   {
    "duration": 0,
    "start_time": "2022-08-11T13:59:01.118Z"
   },
   {
    "duration": 0,
    "start_time": "2022-08-11T13:59:01.119Z"
   },
   {
    "duration": 0,
    "start_time": "2022-08-11T13:59:01.120Z"
   },
   {
    "duration": 0,
    "start_time": "2022-08-11T13:59:01.121Z"
   },
   {
    "duration": 0,
    "start_time": "2022-08-11T13:59:01.122Z"
   },
   {
    "duration": 0,
    "start_time": "2022-08-11T13:59:01.123Z"
   },
   {
    "duration": 0,
    "start_time": "2022-08-11T13:59:01.124Z"
   },
   {
    "duration": 0,
    "start_time": "2022-08-11T13:59:01.125Z"
   },
   {
    "duration": 0,
    "start_time": "2022-08-11T13:59:01.126Z"
   },
   {
    "duration": 0,
    "start_time": "2022-08-11T13:59:01.127Z"
   },
   {
    "duration": 0,
    "start_time": "2022-08-11T13:59:01.128Z"
   },
   {
    "duration": 0,
    "start_time": "2022-08-11T13:59:01.129Z"
   },
   {
    "duration": 0,
    "start_time": "2022-08-11T13:59:01.130Z"
   },
   {
    "duration": 0,
    "start_time": "2022-08-11T13:59:01.131Z"
   },
   {
    "duration": 0,
    "start_time": "2022-08-11T13:59:01.132Z"
   },
   {
    "duration": 0,
    "start_time": "2022-08-11T13:59:01.133Z"
   },
   {
    "duration": 0,
    "start_time": "2022-08-11T13:59:01.134Z"
   },
   {
    "duration": 0,
    "start_time": "2022-08-11T13:59:01.135Z"
   },
   {
    "duration": 0,
    "start_time": "2022-08-11T13:59:01.136Z"
   },
   {
    "duration": 0,
    "start_time": "2022-08-11T13:59:01.137Z"
   },
   {
    "duration": 0,
    "start_time": "2022-08-11T13:59:01.138Z"
   },
   {
    "duration": 0,
    "start_time": "2022-08-11T13:59:01.139Z"
   },
   {
    "duration": 1,
    "start_time": "2022-08-11T13:59:01.140Z"
   },
   {
    "duration": 3,
    "start_time": "2022-08-11T13:59:38.188Z"
   },
   {
    "duration": 2940,
    "start_time": "2022-08-11T13:59:38.192Z"
   },
   {
    "duration": 0,
    "start_time": "2022-08-11T13:59:41.135Z"
   },
   {
    "duration": 0,
    "start_time": "2022-08-11T13:59:41.136Z"
   },
   {
    "duration": 0,
    "start_time": "2022-08-11T13:59:41.137Z"
   },
   {
    "duration": 0,
    "start_time": "2022-08-11T13:59:41.138Z"
   },
   {
    "duration": 0,
    "start_time": "2022-08-11T13:59:41.139Z"
   },
   {
    "duration": 0,
    "start_time": "2022-08-11T13:59:41.140Z"
   },
   {
    "duration": 0,
    "start_time": "2022-08-11T13:59:41.141Z"
   },
   {
    "duration": 0,
    "start_time": "2022-08-11T13:59:41.142Z"
   },
   {
    "duration": 0,
    "start_time": "2022-08-11T13:59:41.142Z"
   },
   {
    "duration": 0,
    "start_time": "2022-08-11T13:59:41.143Z"
   },
   {
    "duration": 0,
    "start_time": "2022-08-11T13:59:41.144Z"
   },
   {
    "duration": 0,
    "start_time": "2022-08-11T13:59:41.144Z"
   },
   {
    "duration": 0,
    "start_time": "2022-08-11T13:59:41.145Z"
   },
   {
    "duration": 0,
    "start_time": "2022-08-11T13:59:41.146Z"
   },
   {
    "duration": 0,
    "start_time": "2022-08-11T13:59:41.147Z"
   },
   {
    "duration": 0,
    "start_time": "2022-08-11T13:59:41.147Z"
   },
   {
    "duration": 0,
    "start_time": "2022-08-11T13:59:41.148Z"
   },
   {
    "duration": 0,
    "start_time": "2022-08-11T13:59:41.149Z"
   },
   {
    "duration": 0,
    "start_time": "2022-08-11T13:59:41.150Z"
   },
   {
    "duration": 0,
    "start_time": "2022-08-11T13:59:41.151Z"
   },
   {
    "duration": 0,
    "start_time": "2022-08-11T13:59:41.152Z"
   },
   {
    "duration": 0,
    "start_time": "2022-08-11T13:59:41.152Z"
   },
   {
    "duration": 0,
    "start_time": "2022-08-11T13:59:41.153Z"
   },
   {
    "duration": 0,
    "start_time": "2022-08-11T13:59:41.154Z"
   },
   {
    "duration": 0,
    "start_time": "2022-08-11T13:59:41.211Z"
   },
   {
    "duration": 0,
    "start_time": "2022-08-11T13:59:41.212Z"
   },
   {
    "duration": 0,
    "start_time": "2022-08-11T13:59:41.213Z"
   },
   {
    "duration": 0,
    "start_time": "2022-08-11T13:59:41.214Z"
   },
   {
    "duration": 0,
    "start_time": "2022-08-11T13:59:41.215Z"
   },
   {
    "duration": 0,
    "start_time": "2022-08-11T13:59:41.216Z"
   },
   {
    "duration": 0,
    "start_time": "2022-08-11T13:59:41.216Z"
   },
   {
    "duration": 0,
    "start_time": "2022-08-11T13:59:41.217Z"
   },
   {
    "duration": 0,
    "start_time": "2022-08-11T13:59:41.218Z"
   },
   {
    "duration": 3214,
    "start_time": "2022-08-11T13:59:53.337Z"
   },
   {
    "duration": 3,
    "start_time": "2022-08-11T14:00:04.112Z"
   },
   {
    "duration": 1812,
    "start_time": "2022-08-11T14:00:04.117Z"
   },
   {
    "duration": 81,
    "start_time": "2022-08-11T14:00:05.930Z"
   },
   {
    "duration": 9,
    "start_time": "2022-08-11T14:00:06.013Z"
   },
   {
    "duration": 10,
    "start_time": "2022-08-11T14:00:06.024Z"
   },
   {
    "duration": 12,
    "start_time": "2022-08-11T14:00:06.035Z"
   },
   {
    "duration": 5,
    "start_time": "2022-08-11T14:00:06.048Z"
   },
   {
    "duration": 7,
    "start_time": "2022-08-11T14:00:06.054Z"
   },
   {
    "duration": 13,
    "start_time": "2022-08-11T14:00:06.062Z"
   },
   {
    "duration": 7,
    "start_time": "2022-08-11T14:00:06.076Z"
   },
   {
    "duration": 28,
    "start_time": "2022-08-11T14:00:06.085Z"
   },
   {
    "duration": 14,
    "start_time": "2022-08-11T14:00:06.115Z"
   },
   {
    "duration": 22,
    "start_time": "2022-08-11T14:00:06.131Z"
   },
   {
    "duration": 374,
    "start_time": "2022-08-11T14:00:06.156Z"
   },
   {
    "duration": 3,
    "start_time": "2022-08-11T14:00:06.531Z"
   },
   {
    "duration": 19,
    "start_time": "2022-08-11T14:00:06.535Z"
   },
   {
    "duration": 57,
    "start_time": "2022-08-11T14:00:06.555Z"
   },
   {
    "duration": 6,
    "start_time": "2022-08-11T14:00:06.613Z"
   },
   {
    "duration": 14,
    "start_time": "2022-08-11T14:00:06.621Z"
   },
   {
    "duration": 15,
    "start_time": "2022-08-11T14:00:06.636Z"
   },
   {
    "duration": 42,
    "start_time": "2022-08-11T14:00:06.652Z"
   },
   {
    "duration": 16,
    "start_time": "2022-08-11T14:00:06.695Z"
   },
   {
    "duration": 4,
    "start_time": "2022-08-11T14:00:06.712Z"
   },
   {
    "duration": 6,
    "start_time": "2022-08-11T14:00:06.718Z"
   },
   {
    "duration": 221,
    "start_time": "2022-08-11T14:00:06.726Z"
   },
   {
    "duration": 0,
    "start_time": "2022-08-11T14:00:06.949Z"
   },
   {
    "duration": 0,
    "start_time": "2022-08-11T14:00:06.950Z"
   },
   {
    "duration": 0,
    "start_time": "2022-08-11T14:00:06.952Z"
   },
   {
    "duration": 0,
    "start_time": "2022-08-11T14:00:06.953Z"
   },
   {
    "duration": 0,
    "start_time": "2022-08-11T14:00:06.954Z"
   },
   {
    "duration": 1,
    "start_time": "2022-08-11T14:00:06.955Z"
   },
   {
    "duration": 0,
    "start_time": "2022-08-11T14:00:06.957Z"
   },
   {
    "duration": 0,
    "start_time": "2022-08-11T14:00:06.958Z"
   },
   {
    "duration": 0,
    "start_time": "2022-08-11T14:00:06.959Z"
   },
   {
    "duration": 0,
    "start_time": "2022-08-11T14:00:06.960Z"
   },
   {
    "duration": 3,
    "start_time": "2022-08-11T14:02:07.953Z"
   },
   {
    "duration": 1764,
    "start_time": "2022-08-11T14:02:07.958Z"
   },
   {
    "duration": 47,
    "start_time": "2022-08-11T14:02:09.724Z"
   },
   {
    "duration": 10,
    "start_time": "2022-08-11T14:02:09.773Z"
   },
   {
    "duration": 14,
    "start_time": "2022-08-11T14:02:09.784Z"
   },
   {
    "duration": 29,
    "start_time": "2022-08-11T14:02:09.799Z"
   },
   {
    "duration": 19,
    "start_time": "2022-08-11T14:02:09.830Z"
   },
   {
    "duration": 24,
    "start_time": "2022-08-11T14:02:09.850Z"
   },
   {
    "duration": 27,
    "start_time": "2022-08-11T14:02:09.875Z"
   },
   {
    "duration": 20,
    "start_time": "2022-08-11T14:02:09.905Z"
   },
   {
    "duration": 23,
    "start_time": "2022-08-11T14:02:09.926Z"
   },
   {
    "duration": 9,
    "start_time": "2022-08-11T14:02:09.950Z"
   },
   {
    "duration": 38,
    "start_time": "2022-08-11T14:02:09.960Z"
   },
   {
    "duration": 382,
    "start_time": "2022-08-11T14:02:10.000Z"
   },
   {
    "duration": 3,
    "start_time": "2022-08-11T14:02:10.383Z"
   },
   {
    "duration": 30,
    "start_time": "2022-08-11T14:02:10.387Z"
   },
   {
    "duration": 32,
    "start_time": "2022-08-11T14:02:10.418Z"
   },
   {
    "duration": 8,
    "start_time": "2022-08-11T14:02:10.452Z"
   },
   {
    "duration": 53,
    "start_time": "2022-08-11T14:02:10.462Z"
   },
   {
    "duration": 17,
    "start_time": "2022-08-11T14:02:10.517Z"
   },
   {
    "duration": 11,
    "start_time": "2022-08-11T14:02:10.535Z"
   },
   {
    "duration": 27,
    "start_time": "2022-08-11T14:02:10.547Z"
   },
   {
    "duration": 11,
    "start_time": "2022-08-11T14:02:10.576Z"
   },
   {
    "duration": 24,
    "start_time": "2022-08-11T14:02:10.588Z"
   },
   {
    "duration": 22,
    "start_time": "2022-08-11T14:02:10.613Z"
   },
   {
    "duration": 18881,
    "start_time": "2022-08-11T14:02:10.636Z"
   },
   {
    "duration": 6,
    "start_time": "2022-08-11T14:02:29.518Z"
   },
   {
    "duration": 12,
    "start_time": "2022-08-11T14:02:29.527Z"
   },
   {
    "duration": 9,
    "start_time": "2022-08-11T14:02:29.541Z"
   },
   {
    "duration": 395,
    "start_time": "2022-08-11T14:02:29.551Z"
   },
   {
    "duration": 5,
    "start_time": "2022-08-11T14:02:29.947Z"
   },
   {
    "duration": 8,
    "start_time": "2022-08-11T14:02:29.954Z"
   },
   {
    "duration": 5,
    "start_time": "2022-08-11T14:02:29.963Z"
   },
   {
    "duration": 259,
    "start_time": "2022-08-11T14:02:29.970Z"
   },
   {
    "duration": 3,
    "start_time": "2022-08-11T14:02:30.230Z"
   },
   {
    "duration": 3,
    "start_time": "2022-08-11T14:04:00.686Z"
   },
   {
    "duration": 1840,
    "start_time": "2022-08-11T14:04:00.691Z"
   },
   {
    "duration": 55,
    "start_time": "2022-08-11T14:04:02.532Z"
   },
   {
    "duration": 12,
    "start_time": "2022-08-11T14:04:02.591Z"
   },
   {
    "duration": 18,
    "start_time": "2022-08-11T14:04:02.605Z"
   },
   {
    "duration": 21,
    "start_time": "2022-08-11T14:04:02.626Z"
   },
   {
    "duration": 10,
    "start_time": "2022-08-11T14:04:02.649Z"
   },
   {
    "duration": 13,
    "start_time": "2022-08-11T14:04:02.660Z"
   },
   {
    "duration": 24,
    "start_time": "2022-08-11T14:04:02.674Z"
   },
   {
    "duration": 25,
    "start_time": "2022-08-11T14:04:02.701Z"
   },
   {
    "duration": 14,
    "start_time": "2022-08-11T14:04:02.727Z"
   },
   {
    "duration": 13,
    "start_time": "2022-08-11T14:04:02.743Z"
   },
   {
    "duration": 45,
    "start_time": "2022-08-11T14:04:02.758Z"
   },
   {
    "duration": 357,
    "start_time": "2022-08-11T14:04:02.804Z"
   },
   {
    "duration": 3,
    "start_time": "2022-08-11T14:04:03.162Z"
   },
   {
    "duration": 46,
    "start_time": "2022-08-11T14:04:03.166Z"
   },
   {
    "duration": 18,
    "start_time": "2022-08-11T14:04:03.213Z"
   },
   {
    "duration": 7,
    "start_time": "2022-08-11T14:04:03.233Z"
   },
   {
    "duration": 12,
    "start_time": "2022-08-11T14:04:03.241Z"
   },
   {
    "duration": 61,
    "start_time": "2022-08-11T14:04:03.255Z"
   },
   {
    "duration": 11,
    "start_time": "2022-08-11T14:04:03.318Z"
   },
   {
    "duration": 3,
    "start_time": "2022-08-11T14:04:03.331Z"
   },
   {
    "duration": 4,
    "start_time": "2022-08-11T14:04:03.336Z"
   },
   {
    "duration": 7,
    "start_time": "2022-08-11T14:04:03.341Z"
   },
   {
    "duration": 209,
    "start_time": "2022-08-11T14:04:03.349Z"
   },
   {
    "duration": 0,
    "start_time": "2022-08-11T14:04:03.560Z"
   },
   {
    "duration": 0,
    "start_time": "2022-08-11T14:04:03.561Z"
   },
   {
    "duration": 0,
    "start_time": "2022-08-11T14:04:03.562Z"
   },
   {
    "duration": 0,
    "start_time": "2022-08-11T14:04:03.563Z"
   },
   {
    "duration": 0,
    "start_time": "2022-08-11T14:04:03.564Z"
   },
   {
    "duration": 0,
    "start_time": "2022-08-11T14:04:03.565Z"
   },
   {
    "duration": 0,
    "start_time": "2022-08-11T14:04:03.566Z"
   },
   {
    "duration": 0,
    "start_time": "2022-08-11T14:04:03.567Z"
   },
   {
    "duration": 1,
    "start_time": "2022-08-11T14:04:03.567Z"
   },
   {
    "duration": 0,
    "start_time": "2022-08-11T14:04:03.568Z"
   },
   {
    "duration": 11,
    "start_time": "2022-08-11T14:04:28.421Z"
   },
   {
    "duration": 5,
    "start_time": "2022-08-11T14:04:58.995Z"
   },
   {
    "duration": 18629,
    "start_time": "2022-08-11T14:05:00.286Z"
   },
   {
    "duration": 5,
    "start_time": "2022-08-11T14:09:33.197Z"
   },
   {
    "duration": 8,
    "start_time": "2022-08-11T14:09:33.651Z"
   },
   {
    "duration": 3,
    "start_time": "2022-08-11T14:09:34.135Z"
   },
   {
    "duration": 338,
    "start_time": "2022-08-11T14:09:34.634Z"
   },
   {
    "duration": 2,
    "start_time": "2022-08-11T14:09:36.187Z"
   },
   {
    "duration": 2,
    "start_time": "2022-08-11T14:09:36.995Z"
   },
   {
    "duration": 4,
    "start_time": "2022-08-11T14:09:37.452Z"
   },
   {
    "duration": 334,
    "start_time": "2022-08-11T14:09:38.811Z"
   },
   {
    "duration": 14,
    "start_time": "2022-08-11T14:10:21.173Z"
   },
   {
    "duration": 327,
    "start_time": "2022-08-11T14:10:26.156Z"
   },
   {
    "duration": 8,
    "start_time": "2022-08-11T14:27:29.314Z"
   },
   {
    "duration": 4,
    "start_time": "2022-08-11T14:33:44.085Z"
   },
   {
    "duration": 1824,
    "start_time": "2022-08-11T14:33:44.091Z"
   },
   {
    "duration": 37,
    "start_time": "2022-08-11T14:33:45.917Z"
   },
   {
    "duration": 9,
    "start_time": "2022-08-11T14:33:45.956Z"
   },
   {
    "duration": 139,
    "start_time": "2022-08-11T14:33:45.966Z"
   },
   {
    "duration": 0,
    "start_time": "2022-08-11T14:33:46.108Z"
   },
   {
    "duration": 1,
    "start_time": "2022-08-11T14:33:46.110Z"
   },
   {
    "duration": 0,
    "start_time": "2022-08-11T14:33:46.112Z"
   },
   {
    "duration": 0,
    "start_time": "2022-08-11T14:33:46.113Z"
   },
   {
    "duration": 0,
    "start_time": "2022-08-11T14:33:46.114Z"
   },
   {
    "duration": 0,
    "start_time": "2022-08-11T14:33:46.116Z"
   },
   {
    "duration": 0,
    "start_time": "2022-08-11T14:33:46.117Z"
   },
   {
    "duration": 0,
    "start_time": "2022-08-11T14:33:46.119Z"
   },
   {
    "duration": 0,
    "start_time": "2022-08-11T14:33:46.120Z"
   },
   {
    "duration": 0,
    "start_time": "2022-08-11T14:33:46.121Z"
   },
   {
    "duration": 0,
    "start_time": "2022-08-11T14:33:46.123Z"
   },
   {
    "duration": 0,
    "start_time": "2022-08-11T14:33:46.124Z"
   },
   {
    "duration": 0,
    "start_time": "2022-08-11T14:33:46.125Z"
   },
   {
    "duration": 0,
    "start_time": "2022-08-11T14:33:46.126Z"
   },
   {
    "duration": 0,
    "start_time": "2022-08-11T14:33:46.128Z"
   },
   {
    "duration": 0,
    "start_time": "2022-08-11T14:33:46.129Z"
   },
   {
    "duration": 0,
    "start_time": "2022-08-11T14:33:46.130Z"
   },
   {
    "duration": 0,
    "start_time": "2022-08-11T14:33:46.131Z"
   },
   {
    "duration": 0,
    "start_time": "2022-08-11T14:33:46.132Z"
   },
   {
    "duration": 0,
    "start_time": "2022-08-11T14:33:46.134Z"
   },
   {
    "duration": 0,
    "start_time": "2022-08-11T14:33:46.135Z"
   },
   {
    "duration": 0,
    "start_time": "2022-08-11T14:33:46.136Z"
   },
   {
    "duration": 0,
    "start_time": "2022-08-11T14:33:46.138Z"
   },
   {
    "duration": 0,
    "start_time": "2022-08-11T14:33:46.139Z"
   },
   {
    "duration": 0,
    "start_time": "2022-08-11T14:33:46.141Z"
   },
   {
    "duration": 0,
    "start_time": "2022-08-11T14:33:46.142Z"
   },
   {
    "duration": 0,
    "start_time": "2022-08-11T14:33:46.143Z"
   },
   {
    "duration": 0,
    "start_time": "2022-08-11T14:33:46.145Z"
   },
   {
    "duration": 0,
    "start_time": "2022-08-11T14:33:46.146Z"
   },
   {
    "duration": 0,
    "start_time": "2022-08-11T14:33:46.147Z"
   },
   {
    "duration": 1,
    "start_time": "2022-08-11T14:33:46.147Z"
   },
   {
    "duration": 0,
    "start_time": "2022-08-11T14:33:46.148Z"
   },
   {
    "duration": 4,
    "start_time": "2022-08-11T14:54:38.417Z"
   },
   {
    "duration": 1820,
    "start_time": "2022-08-11T14:54:38.422Z"
   },
   {
    "duration": 38,
    "start_time": "2022-08-11T14:54:40.244Z"
   },
   {
    "duration": 8,
    "start_time": "2022-08-11T14:54:40.284Z"
   },
   {
    "duration": 152,
    "start_time": "2022-08-11T14:54:40.293Z"
   },
   {
    "duration": 0,
    "start_time": "2022-08-11T14:54:40.447Z"
   },
   {
    "duration": 0,
    "start_time": "2022-08-11T14:54:40.448Z"
   },
   {
    "duration": 0,
    "start_time": "2022-08-11T14:54:40.449Z"
   },
   {
    "duration": 0,
    "start_time": "2022-08-11T14:54:40.450Z"
   },
   {
    "duration": 0,
    "start_time": "2022-08-11T14:54:40.451Z"
   },
   {
    "duration": 0,
    "start_time": "2022-08-11T14:54:40.452Z"
   },
   {
    "duration": 0,
    "start_time": "2022-08-11T14:54:40.453Z"
   },
   {
    "duration": 0,
    "start_time": "2022-08-11T14:54:40.454Z"
   },
   {
    "duration": 0,
    "start_time": "2022-08-11T14:54:40.455Z"
   },
   {
    "duration": 0,
    "start_time": "2022-08-11T14:54:40.456Z"
   },
   {
    "duration": 0,
    "start_time": "2022-08-11T14:54:40.457Z"
   },
   {
    "duration": 1,
    "start_time": "2022-08-11T14:54:40.457Z"
   },
   {
    "duration": 0,
    "start_time": "2022-08-11T14:54:40.459Z"
   },
   {
    "duration": 0,
    "start_time": "2022-08-11T14:54:40.460Z"
   },
   {
    "duration": 0,
    "start_time": "2022-08-11T14:54:40.461Z"
   },
   {
    "duration": 0,
    "start_time": "2022-08-11T14:54:40.462Z"
   },
   {
    "duration": 0,
    "start_time": "2022-08-11T14:54:40.463Z"
   },
   {
    "duration": 0,
    "start_time": "2022-08-11T14:54:40.464Z"
   },
   {
    "duration": 1,
    "start_time": "2022-08-11T14:54:40.464Z"
   },
   {
    "duration": 0,
    "start_time": "2022-08-11T14:54:40.466Z"
   },
   {
    "duration": 0,
    "start_time": "2022-08-11T14:54:40.467Z"
   },
   {
    "duration": 0,
    "start_time": "2022-08-11T14:54:40.467Z"
   },
   {
    "duration": 0,
    "start_time": "2022-08-11T14:54:40.468Z"
   },
   {
    "duration": 0,
    "start_time": "2022-08-11T14:54:40.469Z"
   },
   {
    "duration": 0,
    "start_time": "2022-08-11T14:54:40.471Z"
   },
   {
    "duration": 0,
    "start_time": "2022-08-11T14:54:40.472Z"
   },
   {
    "duration": 0,
    "start_time": "2022-08-11T14:54:40.511Z"
   },
   {
    "duration": 0,
    "start_time": "2022-08-11T14:54:40.512Z"
   },
   {
    "duration": 0,
    "start_time": "2022-08-11T14:54:40.513Z"
   },
   {
    "duration": 0,
    "start_time": "2022-08-11T14:54:40.514Z"
   },
   {
    "duration": 0,
    "start_time": "2022-08-11T14:54:40.515Z"
   },
   {
    "duration": 0,
    "start_time": "2022-08-11T14:54:40.516Z"
   },
   {
    "duration": 3,
    "start_time": "2022-08-11T15:09:47.217Z"
   },
   {
    "duration": 1827,
    "start_time": "2022-08-11T15:09:47.222Z"
   },
   {
    "duration": 37,
    "start_time": "2022-08-11T15:09:49.050Z"
   },
   {
    "duration": 10,
    "start_time": "2022-08-11T15:09:49.089Z"
   },
   {
    "duration": 14,
    "start_time": "2022-08-11T15:09:49.101Z"
   },
   {
    "duration": 9,
    "start_time": "2022-08-11T15:09:49.116Z"
   },
   {
    "duration": 6,
    "start_time": "2022-08-11T15:09:49.126Z"
   },
   {
    "duration": 8,
    "start_time": "2022-08-11T15:09:49.133Z"
   },
   {
    "duration": 12,
    "start_time": "2022-08-11T15:09:49.142Z"
   },
   {
    "duration": 9,
    "start_time": "2022-08-11T15:09:49.155Z"
   },
   {
    "duration": 9,
    "start_time": "2022-08-11T15:09:49.165Z"
   },
   {
    "duration": 7,
    "start_time": "2022-08-11T15:09:49.176Z"
   },
   {
    "duration": 29,
    "start_time": "2022-08-11T15:09:49.185Z"
   },
   {
    "duration": 351,
    "start_time": "2022-08-11T15:09:49.216Z"
   },
   {
    "duration": 2,
    "start_time": "2022-08-11T15:09:49.569Z"
   },
   {
    "duration": 45,
    "start_time": "2022-08-11T15:09:49.573Z"
   },
   {
    "duration": 22,
    "start_time": "2022-08-11T15:09:49.620Z"
   },
   {
    "duration": 8,
    "start_time": "2022-08-11T15:09:49.644Z"
   },
   {
    "duration": 60,
    "start_time": "2022-08-11T15:09:49.653Z"
   },
   {
    "duration": 13,
    "start_time": "2022-08-11T15:09:49.715Z"
   },
   {
    "duration": 11,
    "start_time": "2022-08-11T15:09:49.729Z"
   },
   {
    "duration": 6,
    "start_time": "2022-08-11T15:09:49.741Z"
   },
   {
    "duration": 5,
    "start_time": "2022-08-11T15:09:49.748Z"
   },
   {
    "duration": 56,
    "start_time": "2022-08-11T15:09:49.755Z"
   },
   {
    "duration": 9,
    "start_time": "2022-08-11T15:09:49.813Z"
   },
   {
    "duration": 20803,
    "start_time": "2022-08-11T15:09:49.823Z"
   },
   {
    "duration": 6,
    "start_time": "2022-08-11T15:10:10.627Z"
   },
   {
    "duration": 84,
    "start_time": "2022-08-11T15:10:10.634Z"
   },
   {
    "duration": 9,
    "start_time": "2022-08-11T15:10:10.720Z"
   },
   {
    "duration": 345,
    "start_time": "2022-08-11T15:10:10.730Z"
   },
   {
    "duration": 3,
    "start_time": "2022-08-11T15:10:11.076Z"
   },
   {
    "duration": 6,
    "start_time": "2022-08-11T15:10:11.080Z"
   },
   {
    "duration": 7,
    "start_time": "2022-08-11T15:10:11.087Z"
   },
   {
    "duration": 337,
    "start_time": "2022-08-11T15:10:11.096Z"
   },
   {
    "duration": 5,
    "start_time": "2022-08-11T15:10:11.435Z"
   },
   {
    "duration": 3,
    "start_time": "2022-08-11T15:54:15.369Z"
   },
   {
    "duration": 1811,
    "start_time": "2022-08-11T15:54:15.374Z"
   },
   {
    "duration": 38,
    "start_time": "2022-08-11T15:54:17.187Z"
   },
   {
    "duration": 10,
    "start_time": "2022-08-11T15:54:17.227Z"
   },
   {
    "duration": 10,
    "start_time": "2022-08-11T15:54:17.239Z"
   },
   {
    "duration": 9,
    "start_time": "2022-08-11T15:54:17.251Z"
   },
   {
    "duration": 5,
    "start_time": "2022-08-11T15:54:17.261Z"
   },
   {
    "duration": 4,
    "start_time": "2022-08-11T15:54:17.268Z"
   },
   {
    "duration": 10,
    "start_time": "2022-08-11T15:54:17.274Z"
   },
   {
    "duration": 6,
    "start_time": "2022-08-11T15:54:17.310Z"
   },
   {
    "duration": 8,
    "start_time": "2022-08-11T15:54:17.318Z"
   },
   {
    "duration": 8,
    "start_time": "2022-08-11T15:54:17.327Z"
   },
   {
    "duration": 21,
    "start_time": "2022-08-11T15:54:17.336Z"
   },
   {
    "duration": 374,
    "start_time": "2022-08-11T15:54:17.359Z"
   },
   {
    "duration": 3,
    "start_time": "2022-08-11T15:54:17.734Z"
   },
   {
    "duration": 17,
    "start_time": "2022-08-11T15:54:17.739Z"
   },
   {
    "duration": 63,
    "start_time": "2022-08-11T15:54:17.758Z"
   },
   {
    "duration": 8,
    "start_time": "2022-08-11T15:54:17.823Z"
   },
   {
    "duration": 18,
    "start_time": "2022-08-11T15:54:17.833Z"
   },
   {
    "duration": 65,
    "start_time": "2022-08-11T15:54:17.852Z"
   },
   {
    "duration": 7,
    "start_time": "2022-08-11T15:54:17.919Z"
   },
   {
    "duration": 4,
    "start_time": "2022-08-11T15:54:17.928Z"
   },
   {
    "duration": 6,
    "start_time": "2022-08-11T15:54:17.934Z"
   },
   {
    "duration": 8,
    "start_time": "2022-08-11T15:54:17.944Z"
   },
   {
    "duration": 13,
    "start_time": "2022-08-11T15:54:17.953Z"
   },
   {
    "duration": 22864,
    "start_time": "2022-08-11T15:54:17.968Z"
   },
   {
    "duration": 6,
    "start_time": "2022-08-11T15:54:40.911Z"
   },
   {
    "duration": 20,
    "start_time": "2022-08-11T15:54:40.919Z"
   },
   {
    "duration": 7,
    "start_time": "2022-08-11T15:54:40.941Z"
   },
   {
    "duration": 348,
    "start_time": "2022-08-11T15:54:40.949Z"
   },
   {
    "duration": 3,
    "start_time": "2022-08-11T15:54:41.298Z"
   },
   {
    "duration": 3,
    "start_time": "2022-08-11T15:54:41.310Z"
   },
   {
    "duration": 6,
    "start_time": "2022-08-11T15:54:41.314Z"
   },
   {
    "duration": 260,
    "start_time": "2022-08-11T15:54:41.321Z"
   },
   {
    "duration": 3,
    "start_time": "2022-08-11T15:54:41.582Z"
   },
   {
    "duration": 2,
    "start_time": "2022-08-11T16:05:50.247Z"
   },
   {
    "duration": 2029,
    "start_time": "2022-08-11T16:05:50.251Z"
   },
   {
    "duration": 37,
    "start_time": "2022-08-11T16:05:52.282Z"
   },
   {
    "duration": 11,
    "start_time": "2022-08-11T16:05:52.321Z"
   },
   {
    "duration": 10,
    "start_time": "2022-08-11T16:05:52.333Z"
   },
   {
    "duration": 10,
    "start_time": "2022-08-11T16:05:52.344Z"
   },
   {
    "duration": 4,
    "start_time": "2022-08-11T16:05:52.355Z"
   },
   {
    "duration": 6,
    "start_time": "2022-08-11T16:05:52.361Z"
   },
   {
    "duration": 43,
    "start_time": "2022-08-11T16:05:52.368Z"
   },
   {
    "duration": 9,
    "start_time": "2022-08-11T16:05:52.414Z"
   },
   {
    "duration": 16,
    "start_time": "2022-08-11T16:05:52.424Z"
   },
   {
    "duration": 12,
    "start_time": "2022-08-11T16:05:52.442Z"
   },
   {
    "duration": 37,
    "start_time": "2022-08-11T16:05:52.456Z"
   },
   {
    "duration": 489,
    "start_time": "2022-08-11T16:05:52.494Z"
   },
   {
    "duration": 3,
    "start_time": "2022-08-11T16:05:52.984Z"
   },
   {
    "duration": 17,
    "start_time": "2022-08-11T16:05:52.988Z"
   },
   {
    "duration": 19,
    "start_time": "2022-08-11T16:05:53.006Z"
   },
   {
    "duration": 6,
    "start_time": "2022-08-11T16:05:53.027Z"
   },
   {
    "duration": 17,
    "start_time": "2022-08-11T16:05:53.035Z"
   },
   {
    "duration": 17,
    "start_time": "2022-08-11T16:05:53.054Z"
   },
   {
    "duration": 7,
    "start_time": "2022-08-11T16:05:53.073Z"
   },
   {
    "duration": 5,
    "start_time": "2022-08-11T16:05:53.081Z"
   },
   {
    "duration": 7,
    "start_time": "2022-08-11T16:05:53.087Z"
   },
   {
    "duration": 6,
    "start_time": "2022-08-11T16:05:53.096Z"
   },
   {
    "duration": 7,
    "start_time": "2022-08-11T16:05:53.104Z"
   },
   {
    "duration": 21002,
    "start_time": "2022-08-11T16:05:53.112Z"
   },
   {
    "duration": 5,
    "start_time": "2022-08-11T16:06:14.115Z"
   },
   {
    "duration": 15,
    "start_time": "2022-08-11T16:06:14.123Z"
   },
   {
    "duration": 8,
    "start_time": "2022-08-11T16:06:14.139Z"
   },
   {
    "duration": 388,
    "start_time": "2022-08-11T16:06:14.148Z"
   },
   {
    "duration": 3,
    "start_time": "2022-08-11T16:06:14.538Z"
   },
   {
    "duration": 8,
    "start_time": "2022-08-11T16:06:14.543Z"
   },
   {
    "duration": 9,
    "start_time": "2022-08-11T16:06:14.553Z"
   },
   {
    "duration": 172,
    "start_time": "2022-08-11T16:06:14.563Z"
   },
   {
    "duration": 3,
    "start_time": "2022-08-11T16:06:14.737Z"
   },
   {
    "duration": 190,
    "start_time": "2022-08-11T17:06:47.106Z"
   },
   {
    "duration": 4,
    "start_time": "2022-08-11T17:07:00.521Z"
   },
   {
    "duration": 2314,
    "start_time": "2022-08-11T17:07:00.527Z"
   },
   {
    "duration": 75,
    "start_time": "2022-08-11T17:07:02.843Z"
   },
   {
    "duration": 10,
    "start_time": "2022-08-11T17:07:02.920Z"
   },
   {
    "duration": 13,
    "start_time": "2022-08-11T17:07:02.931Z"
   },
   {
    "duration": 10,
    "start_time": "2022-08-11T17:07:02.946Z"
   },
   {
    "duration": 55,
    "start_time": "2022-08-11T17:07:02.957Z"
   },
   {
    "duration": 7,
    "start_time": "2022-08-11T17:07:03.014Z"
   },
   {
    "duration": 11,
    "start_time": "2022-08-11T17:07:03.023Z"
   },
   {
    "duration": 5,
    "start_time": "2022-08-11T17:07:03.037Z"
   },
   {
    "duration": 9,
    "start_time": "2022-08-11T17:07:03.044Z"
   },
   {
    "duration": 58,
    "start_time": "2022-08-11T17:07:03.055Z"
   },
   {
    "duration": 26,
    "start_time": "2022-08-11T17:07:03.115Z"
   },
   {
    "duration": 677,
    "start_time": "2022-08-11T17:07:03.143Z"
   },
   {
    "duration": 2,
    "start_time": "2022-08-11T17:07:03.822Z"
   },
   {
    "duration": 13,
    "start_time": "2022-08-11T17:07:03.825Z"
   },
   {
    "duration": 22,
    "start_time": "2022-08-11T17:07:03.839Z"
   },
   {
    "duration": 55,
    "start_time": "2022-08-11T17:07:03.863Z"
   },
   {
    "duration": 17,
    "start_time": "2022-08-11T17:07:03.919Z"
   },
   {
    "duration": 28,
    "start_time": "2022-08-11T17:07:03.938Z"
   },
   {
    "duration": 8,
    "start_time": "2022-08-11T17:07:03.968Z"
   },
   {
    "duration": 39,
    "start_time": "2022-08-11T17:07:03.977Z"
   },
   {
    "duration": 6,
    "start_time": "2022-08-11T17:07:04.018Z"
   },
   {
    "duration": 5,
    "start_time": "2022-08-11T17:07:04.026Z"
   },
   {
    "duration": 17,
    "start_time": "2022-08-11T17:07:04.032Z"
   },
   {
    "duration": 19679,
    "start_time": "2022-08-11T17:07:04.051Z"
   },
   {
    "duration": 82,
    "start_time": "2022-08-11T17:07:23.732Z"
   },
   {
    "duration": 10,
    "start_time": "2022-08-11T17:07:23.818Z"
   },
   {
    "duration": 3,
    "start_time": "2022-08-11T17:07:23.830Z"
   },
   {
    "duration": 368,
    "start_time": "2022-08-11T17:07:23.834Z"
   },
   {
    "duration": 9,
    "start_time": "2022-08-11T17:07:24.203Z"
   },
   {
    "duration": 18,
    "start_time": "2022-08-11T17:07:24.213Z"
   },
   {
    "duration": 713,
    "start_time": "2022-08-11T17:07:24.232Z"
   },
   {
    "duration": 0,
    "start_time": "2022-08-11T17:07:24.947Z"
   },
   {
    "duration": 0,
    "start_time": "2022-08-11T17:07:24.948Z"
   },
   {
    "duration": 0,
    "start_time": "2022-08-11T17:07:24.949Z"
   },
   {
    "duration": 5,
    "start_time": "2022-08-11T17:10:55.220Z"
   },
   {
    "duration": 611,
    "start_time": "2022-08-11T17:10:56.365Z"
   },
   {
    "duration": 3,
    "start_time": "2022-08-11T17:17:09.933Z"
   },
   {
    "duration": 5,
    "start_time": "2022-08-11T17:17:10.310Z"
   },
   {
    "duration": 535,
    "start_time": "2022-08-11T17:17:10.659Z"
   },
   {
    "duration": 4,
    "start_time": "2022-08-11T17:33:47.247Z"
   },
   {
    "duration": 2555,
    "start_time": "2022-08-11T17:33:47.253Z"
   },
   {
    "duration": 38,
    "start_time": "2022-08-11T17:33:49.809Z"
   },
   {
    "duration": 10,
    "start_time": "2022-08-11T17:33:49.848Z"
   },
   {
    "duration": 12,
    "start_time": "2022-08-11T17:33:49.859Z"
   },
   {
    "duration": 11,
    "start_time": "2022-08-11T17:33:49.872Z"
   },
   {
    "duration": 4,
    "start_time": "2022-08-11T17:33:49.885Z"
   },
   {
    "duration": 5,
    "start_time": "2022-08-11T17:33:49.890Z"
   },
   {
    "duration": 14,
    "start_time": "2022-08-11T17:33:49.897Z"
   },
   {
    "duration": 5,
    "start_time": "2022-08-11T17:33:49.913Z"
   },
   {
    "duration": 8,
    "start_time": "2022-08-11T17:33:49.919Z"
   },
   {
    "duration": 8,
    "start_time": "2022-08-11T17:33:49.928Z"
   },
   {
    "duration": 24,
    "start_time": "2022-08-11T17:33:49.937Z"
   },
   {
    "duration": 357,
    "start_time": "2022-08-11T17:33:49.962Z"
   },
   {
    "duration": 2,
    "start_time": "2022-08-11T17:33:50.321Z"
   },
   {
    "duration": 15,
    "start_time": "2022-08-11T17:33:50.324Z"
   },
   {
    "duration": 15,
    "start_time": "2022-08-11T17:33:50.340Z"
   },
   {
    "duration": 5,
    "start_time": "2022-08-11T17:33:50.356Z"
   },
   {
    "duration": 54,
    "start_time": "2022-08-11T17:33:50.363Z"
   },
   {
    "duration": 10,
    "start_time": "2022-08-11T17:33:50.418Z"
   },
   {
    "duration": 5,
    "start_time": "2022-08-11T17:33:50.430Z"
   },
   {
    "duration": 9,
    "start_time": "2022-08-11T17:33:50.436Z"
   },
   {
    "duration": 8,
    "start_time": "2022-08-11T17:33:50.446Z"
   },
   {
    "duration": 5,
    "start_time": "2022-08-11T17:33:50.455Z"
   },
   {
    "duration": 52,
    "start_time": "2022-08-11T17:33:50.461Z"
   },
   {
    "duration": 18806,
    "start_time": "2022-08-11T17:33:50.515Z"
   },
   {
    "duration": 5,
    "start_time": "2022-08-11T17:34:09.323Z"
   },
   {
    "duration": 10,
    "start_time": "2022-08-11T17:34:09.331Z"
   },
   {
    "duration": 6,
    "start_time": "2022-08-11T17:34:09.343Z"
   },
   {
    "duration": 403,
    "start_time": "2022-08-11T17:34:09.350Z"
   },
   {
    "duration": 3,
    "start_time": "2022-08-11T17:34:09.755Z"
   },
   {
    "duration": 101,
    "start_time": "2022-08-11T17:34:09.760Z"
   },
   {
    "duration": 771,
    "start_time": "2022-08-11T17:34:09.863Z"
   },
   {
    "duration": 0,
    "start_time": "2022-08-11T17:34:10.635Z"
   },
   {
    "duration": 0,
    "start_time": "2022-08-11T17:34:10.636Z"
   },
   {
    "duration": 0,
    "start_time": "2022-08-11T17:34:10.637Z"
   },
   {
    "duration": 0,
    "start_time": "2022-08-11T17:34:10.638Z"
   },
   {
    "duration": 572,
    "start_time": "2022-08-11T17:38:20.678Z"
   },
   {
    "duration": 320,
    "start_time": "2022-08-11T17:38:56.333Z"
   },
   {
    "duration": 3,
    "start_time": "2022-08-13T17:50:45.298Z"
   },
   {
    "duration": 1497,
    "start_time": "2022-08-13T17:50:45.302Z"
   },
   {
    "duration": 0,
    "start_time": "2022-08-13T17:50:46.801Z"
   },
   {
    "duration": 0,
    "start_time": "2022-08-13T17:50:46.802Z"
   },
   {
    "duration": 0,
    "start_time": "2022-08-13T17:50:46.803Z"
   },
   {
    "duration": 0,
    "start_time": "2022-08-13T17:50:46.804Z"
   },
   {
    "duration": 0,
    "start_time": "2022-08-13T17:50:46.805Z"
   },
   {
    "duration": 0,
    "start_time": "2022-08-13T17:50:46.806Z"
   },
   {
    "duration": 0,
    "start_time": "2022-08-13T17:50:46.807Z"
   },
   {
    "duration": 0,
    "start_time": "2022-08-13T17:50:46.808Z"
   },
   {
    "duration": 0,
    "start_time": "2022-08-13T17:50:46.809Z"
   },
   {
    "duration": 0,
    "start_time": "2022-08-13T17:50:46.810Z"
   },
   {
    "duration": 0,
    "start_time": "2022-08-13T17:50:46.811Z"
   },
   {
    "duration": 0,
    "start_time": "2022-08-13T17:50:46.811Z"
   },
   {
    "duration": 0,
    "start_time": "2022-08-13T17:50:46.812Z"
   },
   {
    "duration": 0,
    "start_time": "2022-08-13T17:50:46.813Z"
   },
   {
    "duration": 0,
    "start_time": "2022-08-13T17:50:46.814Z"
   },
   {
    "duration": 0,
    "start_time": "2022-08-13T17:50:46.815Z"
   },
   {
    "duration": 1,
    "start_time": "2022-08-13T17:50:46.815Z"
   },
   {
    "duration": 0,
    "start_time": "2022-08-13T17:50:46.817Z"
   },
   {
    "duration": 0,
    "start_time": "2022-08-13T17:50:46.817Z"
   },
   {
    "duration": 0,
    "start_time": "2022-08-13T17:50:46.818Z"
   },
   {
    "duration": 0,
    "start_time": "2022-08-13T17:50:46.819Z"
   },
   {
    "duration": 0,
    "start_time": "2022-08-13T17:50:46.820Z"
   },
   {
    "duration": 0,
    "start_time": "2022-08-13T17:50:46.821Z"
   },
   {
    "duration": 0,
    "start_time": "2022-08-13T17:50:46.822Z"
   },
   {
    "duration": 0,
    "start_time": "2022-08-13T17:50:46.823Z"
   },
   {
    "duration": 0,
    "start_time": "2022-08-13T17:50:46.824Z"
   },
   {
    "duration": 0,
    "start_time": "2022-08-13T17:50:46.824Z"
   },
   {
    "duration": 0,
    "start_time": "2022-08-13T17:50:46.826Z"
   },
   {
    "duration": 0,
    "start_time": "2022-08-13T17:50:46.827Z"
   },
   {
    "duration": 0,
    "start_time": "2022-08-13T17:50:46.828Z"
   },
   {
    "duration": 0,
    "start_time": "2022-08-13T17:50:46.829Z"
   },
   {
    "duration": 0,
    "start_time": "2022-08-13T17:50:46.830Z"
   },
   {
    "duration": 0,
    "start_time": "2022-08-13T17:50:46.831Z"
   },
   {
    "duration": 2920,
    "start_time": "2022-08-13T17:50:57.522Z"
   },
   {
    "duration": 3,
    "start_time": "2022-08-13T17:51:08.773Z"
   },
   {
    "duration": 1802,
    "start_time": "2022-08-13T17:51:08.777Z"
   },
   {
    "duration": 81,
    "start_time": "2022-08-13T17:51:10.580Z"
   },
   {
    "duration": 10,
    "start_time": "2022-08-13T17:51:10.662Z"
   },
   {
    "duration": 11,
    "start_time": "2022-08-13T17:51:10.673Z"
   },
   {
    "duration": 8,
    "start_time": "2022-08-13T17:51:10.685Z"
   },
   {
    "duration": 4,
    "start_time": "2022-08-13T17:51:10.694Z"
   },
   {
    "duration": 4,
    "start_time": "2022-08-13T17:51:10.699Z"
   },
   {
    "duration": 10,
    "start_time": "2022-08-13T17:51:10.704Z"
   },
   {
    "duration": 7,
    "start_time": "2022-08-13T17:51:10.716Z"
   },
   {
    "duration": 6,
    "start_time": "2022-08-13T17:51:10.725Z"
   },
   {
    "duration": 6,
    "start_time": "2022-08-13T17:51:10.733Z"
   },
   {
    "duration": 20,
    "start_time": "2022-08-13T17:51:10.740Z"
   },
   {
    "duration": 360,
    "start_time": "2022-08-13T17:51:10.762Z"
   },
   {
    "duration": 2,
    "start_time": "2022-08-13T17:51:11.123Z"
   },
   {
    "duration": 19,
    "start_time": "2022-08-13T17:51:11.126Z"
   },
   {
    "duration": 18,
    "start_time": "2022-08-13T17:51:11.147Z"
   },
   {
    "duration": 31,
    "start_time": "2022-08-13T17:51:11.167Z"
   },
   {
    "duration": 11,
    "start_time": "2022-08-13T17:51:11.199Z"
   },
   {
    "duration": 12,
    "start_time": "2022-08-13T17:51:11.211Z"
   },
   {
    "duration": 11,
    "start_time": "2022-08-13T17:51:11.224Z"
   },
   {
    "duration": 6,
    "start_time": "2022-08-13T17:51:11.236Z"
   },
   {
    "duration": 4,
    "start_time": "2022-08-13T17:51:11.243Z"
   },
   {
    "duration": 5,
    "start_time": "2022-08-13T17:51:11.248Z"
   },
   {
    "duration": 5,
    "start_time": "2022-08-13T17:51:11.254Z"
   },
   {
    "duration": 18348,
    "start_time": "2022-08-13T17:51:11.260Z"
   },
   {
    "duration": 5,
    "start_time": "2022-08-13T17:51:29.610Z"
   },
   {
    "duration": 11,
    "start_time": "2022-08-13T17:51:29.618Z"
   },
   {
    "duration": 10,
    "start_time": "2022-08-13T17:51:29.630Z"
   },
   {
    "duration": 364,
    "start_time": "2022-08-13T17:51:29.641Z"
   },
   {
    "duration": 172,
    "start_time": "2022-08-13T17:51:30.006Z"
   },
   {
    "duration": 0,
    "start_time": "2022-08-13T17:51:30.180Z"
   },
   {
    "duration": 0,
    "start_time": "2022-08-13T17:51:30.180Z"
   },
   {
    "duration": 0,
    "start_time": "2022-08-13T17:51:30.181Z"
   },
   {
    "duration": 0,
    "start_time": "2022-08-13T17:51:30.182Z"
   },
   {
    "duration": 3,
    "start_time": "2022-08-13T17:56:16.870Z"
   },
   {
    "duration": 2426,
    "start_time": "2022-08-13T17:56:16.874Z"
   },
   {
    "duration": 37,
    "start_time": "2022-08-13T17:56:19.301Z"
   },
   {
    "duration": 9,
    "start_time": "2022-08-13T17:56:19.339Z"
   },
   {
    "duration": 9,
    "start_time": "2022-08-13T17:56:19.350Z"
   },
   {
    "duration": 7,
    "start_time": "2022-08-13T17:56:19.361Z"
   },
   {
    "duration": 4,
    "start_time": "2022-08-13T17:56:19.369Z"
   },
   {
    "duration": 3,
    "start_time": "2022-08-13T17:56:19.375Z"
   },
   {
    "duration": 10,
    "start_time": "2022-08-13T17:56:19.380Z"
   },
   {
    "duration": 11,
    "start_time": "2022-08-13T17:56:19.391Z"
   },
   {
    "duration": 6,
    "start_time": "2022-08-13T17:56:19.403Z"
   },
   {
    "duration": 6,
    "start_time": "2022-08-13T17:56:19.411Z"
   },
   {
    "duration": 25,
    "start_time": "2022-08-13T17:56:19.418Z"
   },
   {
    "duration": 359,
    "start_time": "2022-08-13T17:56:19.446Z"
   },
   {
    "duration": 2,
    "start_time": "2022-08-13T17:56:19.807Z"
   },
   {
    "duration": 12,
    "start_time": "2022-08-13T17:56:19.810Z"
   },
   {
    "duration": 15,
    "start_time": "2022-08-13T17:56:19.823Z"
   },
   {
    "duration": 5,
    "start_time": "2022-08-13T17:56:19.839Z"
   },
   {
    "duration": 58,
    "start_time": "2022-08-13T17:56:19.846Z"
   },
   {
    "duration": 9,
    "start_time": "2022-08-13T17:56:19.906Z"
   },
   {
    "duration": 6,
    "start_time": "2022-08-13T17:56:19.916Z"
   },
   {
    "duration": 4,
    "start_time": "2022-08-13T17:56:19.923Z"
   },
   {
    "duration": 4,
    "start_time": "2022-08-13T17:56:19.928Z"
   },
   {
    "duration": 6,
    "start_time": "2022-08-13T17:56:19.933Z"
   },
   {
    "duration": 58,
    "start_time": "2022-08-13T17:56:19.940Z"
   },
   {
    "duration": 18212,
    "start_time": "2022-08-13T17:56:20.000Z"
   },
   {
    "duration": 4,
    "start_time": "2022-08-13T17:56:38.214Z"
   },
   {
    "duration": 10,
    "start_time": "2022-08-13T17:56:38.220Z"
   },
   {
    "duration": 67,
    "start_time": "2022-08-13T17:56:38.232Z"
   },
   {
    "duration": 366,
    "start_time": "2022-08-13T17:56:38.300Z"
   },
   {
    "duration": 185,
    "start_time": "2022-08-13T17:56:38.667Z"
   },
   {
    "duration": 0,
    "start_time": "2022-08-13T17:56:38.854Z"
   },
   {
    "duration": 0,
    "start_time": "2022-08-13T17:56:38.855Z"
   },
   {
    "duration": 0,
    "start_time": "2022-08-13T17:56:38.857Z"
   },
   {
    "duration": 0,
    "start_time": "2022-08-13T17:56:38.858Z"
   },
   {
    "duration": 0,
    "start_time": "2022-08-13T17:56:38.859Z"
   },
   {
    "duration": 0,
    "start_time": "2022-08-13T17:56:38.863Z"
   },
   {
    "duration": 0,
    "start_time": "2022-08-13T17:56:38.864Z"
   },
   {
    "duration": 2,
    "start_time": "2022-08-13T17:57:39.749Z"
   },
   {
    "duration": 4,
    "start_time": "2022-08-13T17:57:40.221Z"
   },
   {
    "duration": 3,
    "start_time": "2022-08-13T17:57:44.321Z"
   },
   {
    "duration": 9043,
    "start_time": "2022-08-13T17:57:44.976Z"
   },
   {
    "duration": 12,
    "start_time": "2022-08-13T17:57:54.021Z"
   },
   {
    "duration": 3,
    "start_time": "2022-08-13T17:58:12.624Z"
   },
   {
    "duration": 15,
    "start_time": "2022-08-13T17:58:19.205Z"
   },
   {
    "duration": 3,
    "start_time": "2022-08-13T18:01:56.969Z"
   },
   {
    "duration": 1723,
    "start_time": "2022-08-13T18:01:56.974Z"
   },
   {
    "duration": 35,
    "start_time": "2022-08-13T18:01:58.699Z"
   },
   {
    "duration": 9,
    "start_time": "2022-08-13T18:01:58.736Z"
   },
   {
    "duration": 9,
    "start_time": "2022-08-13T18:01:58.747Z"
   },
   {
    "duration": 12,
    "start_time": "2022-08-13T18:01:58.760Z"
   },
   {
    "duration": 4,
    "start_time": "2022-08-13T18:01:58.773Z"
   },
   {
    "duration": 5,
    "start_time": "2022-08-13T18:01:58.778Z"
   },
   {
    "duration": 12,
    "start_time": "2022-08-13T18:01:58.785Z"
   },
   {
    "duration": 9,
    "start_time": "2022-08-13T18:01:58.799Z"
   },
   {
    "duration": 13,
    "start_time": "2022-08-13T18:01:58.810Z"
   },
   {
    "duration": 7,
    "start_time": "2022-08-13T18:01:58.826Z"
   },
   {
    "duration": 34,
    "start_time": "2022-08-13T18:01:58.835Z"
   },
   {
    "duration": 347,
    "start_time": "2022-08-13T18:01:58.871Z"
   },
   {
    "duration": 2,
    "start_time": "2022-08-13T18:01:59.219Z"
   },
   {
    "duration": 13,
    "start_time": "2022-08-13T18:01:59.223Z"
   },
   {
    "duration": 16,
    "start_time": "2022-08-13T18:01:59.238Z"
   },
   {
    "duration": 8,
    "start_time": "2022-08-13T18:01:59.255Z"
   },
   {
    "duration": 44,
    "start_time": "2022-08-13T18:01:59.264Z"
   },
   {
    "duration": 15,
    "start_time": "2022-08-13T18:01:59.310Z"
   },
   {
    "duration": 6,
    "start_time": "2022-08-13T18:01:59.326Z"
   },
   {
    "duration": 8,
    "start_time": "2022-08-13T18:01:59.333Z"
   },
   {
    "duration": 7,
    "start_time": "2022-08-13T18:01:59.342Z"
   },
   {
    "duration": 5,
    "start_time": "2022-08-13T18:01:59.350Z"
   },
   {
    "duration": 6,
    "start_time": "2022-08-13T18:01:59.356Z"
   },
   {
    "duration": 17937,
    "start_time": "2022-08-13T18:01:59.363Z"
   },
   {
    "duration": 188,
    "start_time": "2022-08-13T18:02:17.302Z"
   },
   {
    "duration": 0,
    "start_time": "2022-08-13T18:02:17.492Z"
   },
   {
    "duration": 0,
    "start_time": "2022-08-13T18:02:17.493Z"
   },
   {
    "duration": 0,
    "start_time": "2022-08-13T18:02:17.494Z"
   },
   {
    "duration": 0,
    "start_time": "2022-08-13T18:02:17.498Z"
   },
   {
    "duration": 0,
    "start_time": "2022-08-13T18:02:17.499Z"
   },
   {
    "duration": 0,
    "start_time": "2022-08-13T18:02:17.500Z"
   },
   {
    "duration": 0,
    "start_time": "2022-08-13T18:02:17.502Z"
   },
   {
    "duration": 0,
    "start_time": "2022-08-13T18:02:17.503Z"
   },
   {
    "duration": 0,
    "start_time": "2022-08-13T18:02:17.504Z"
   },
   {
    "duration": 0,
    "start_time": "2022-08-13T18:02:17.505Z"
   },
   {
    "duration": 0,
    "start_time": "2022-08-13T18:02:17.506Z"
   },
   {
    "duration": 3,
    "start_time": "2022-08-13T18:03:12.845Z"
   },
   {
    "duration": 1750,
    "start_time": "2022-08-13T18:03:12.849Z"
   },
   {
    "duration": 35,
    "start_time": "2022-08-13T18:03:14.601Z"
   },
   {
    "duration": 9,
    "start_time": "2022-08-13T18:03:14.638Z"
   },
   {
    "duration": 17,
    "start_time": "2022-08-13T18:03:14.648Z"
   },
   {
    "duration": 20,
    "start_time": "2022-08-13T18:03:14.666Z"
   },
   {
    "duration": 7,
    "start_time": "2022-08-13T18:03:14.687Z"
   },
   {
    "duration": 12,
    "start_time": "2022-08-13T18:03:14.695Z"
   },
   {
    "duration": 10,
    "start_time": "2022-08-13T18:03:14.709Z"
   },
   {
    "duration": 5,
    "start_time": "2022-08-13T18:03:14.720Z"
   },
   {
    "duration": 7,
    "start_time": "2022-08-13T18:03:14.726Z"
   },
   {
    "duration": 5,
    "start_time": "2022-08-13T18:03:14.734Z"
   },
   {
    "duration": 19,
    "start_time": "2022-08-13T18:03:14.740Z"
   },
   {
    "duration": 380,
    "start_time": "2022-08-13T18:03:14.760Z"
   },
   {
    "duration": 3,
    "start_time": "2022-08-13T18:03:15.141Z"
   },
   {
    "duration": 24,
    "start_time": "2022-08-13T18:03:15.145Z"
   },
   {
    "duration": 30,
    "start_time": "2022-08-13T18:03:15.170Z"
   },
   {
    "duration": 11,
    "start_time": "2022-08-13T18:03:15.201Z"
   },
   {
    "duration": 22,
    "start_time": "2022-08-13T18:03:15.213Z"
   },
   {
    "duration": 27,
    "start_time": "2022-08-13T18:03:15.237Z"
   },
   {
    "duration": 33,
    "start_time": "2022-08-13T18:03:15.265Z"
   },
   {
    "duration": 4,
    "start_time": "2022-08-13T18:03:15.299Z"
   },
   {
    "duration": 8,
    "start_time": "2022-08-13T18:03:15.304Z"
   },
   {
    "duration": 11,
    "start_time": "2022-08-13T18:03:15.315Z"
   },
   {
    "duration": 5,
    "start_time": "2022-08-13T18:03:15.327Z"
   },
   {
    "duration": 17682,
    "start_time": "2022-08-13T18:03:15.333Z"
   },
   {
    "duration": 78,
    "start_time": "2022-08-13T18:03:33.023Z"
   },
   {
    "duration": 11,
    "start_time": "2022-08-13T18:03:33.102Z"
   },
   {
    "duration": 4,
    "start_time": "2022-08-13T18:03:33.114Z"
   },
   {
    "duration": 335,
    "start_time": "2022-08-13T18:03:33.119Z"
   },
   {
    "duration": 178,
    "start_time": "2022-08-13T18:03:33.455Z"
   },
   {
    "duration": 0,
    "start_time": "2022-08-13T18:03:33.635Z"
   },
   {
    "duration": 0,
    "start_time": "2022-08-13T18:03:33.635Z"
   },
   {
    "duration": 0,
    "start_time": "2022-08-13T18:03:33.637Z"
   },
   {
    "duration": 0,
    "start_time": "2022-08-13T18:03:33.637Z"
   },
   {
    "duration": 0,
    "start_time": "2022-08-13T18:03:33.638Z"
   },
   {
    "duration": 0,
    "start_time": "2022-08-13T18:03:33.639Z"
   },
   {
    "duration": 0,
    "start_time": "2022-08-13T18:03:33.640Z"
   },
   {
    "duration": 3,
    "start_time": "2022-08-13T18:03:39.879Z"
   },
   {
    "duration": 4,
    "start_time": "2022-08-13T18:03:40.088Z"
   },
   {
    "duration": 12,
    "start_time": "2022-08-13T18:03:45.567Z"
   },
   {
    "duration": 258,
    "start_time": "2022-08-13T18:03:45.842Z"
   },
   {
    "duration": 4,
    "start_time": "2022-08-13T18:04:12.265Z"
   },
   {
    "duration": 4,
    "start_time": "2022-08-13T18:04:21.014Z"
   },
   {
    "duration": 9798,
    "start_time": "2022-08-13T18:04:21.718Z"
   },
   {
    "duration": 12,
    "start_time": "2022-08-13T18:04:31.518Z"
   },
   {
    "duration": 3,
    "start_time": "2022-08-13T18:34:21.572Z"
   },
   {
    "duration": 1738,
    "start_time": "2022-08-13T18:34:21.577Z"
   },
   {
    "duration": 36,
    "start_time": "2022-08-13T18:34:23.317Z"
   },
   {
    "duration": 10,
    "start_time": "2022-08-13T18:34:23.354Z"
   },
   {
    "duration": 10,
    "start_time": "2022-08-13T18:34:23.365Z"
   },
   {
    "duration": 8,
    "start_time": "2022-08-13T18:34:23.377Z"
   },
   {
    "duration": 4,
    "start_time": "2022-08-13T18:34:23.386Z"
   },
   {
    "duration": 5,
    "start_time": "2022-08-13T18:34:23.391Z"
   },
   {
    "duration": 18,
    "start_time": "2022-08-13T18:34:23.397Z"
   },
   {
    "duration": 7,
    "start_time": "2022-08-13T18:34:23.416Z"
   },
   {
    "duration": 7,
    "start_time": "2022-08-13T18:34:23.424Z"
   },
   {
    "duration": 6,
    "start_time": "2022-08-13T18:34:23.432Z"
   },
   {
    "duration": 26,
    "start_time": "2022-08-13T18:34:23.440Z"
   },
   {
    "duration": 361,
    "start_time": "2022-08-13T18:34:23.467Z"
   },
   {
    "duration": 3,
    "start_time": "2022-08-13T18:34:23.829Z"
   },
   {
    "duration": 11,
    "start_time": "2022-08-13T18:34:23.833Z"
   },
   {
    "duration": 13,
    "start_time": "2022-08-13T18:34:23.845Z"
   },
   {
    "duration": 5,
    "start_time": "2022-08-13T18:34:23.859Z"
   },
   {
    "duration": 35,
    "start_time": "2022-08-13T18:34:23.866Z"
   },
   {
    "duration": 8,
    "start_time": "2022-08-13T18:34:23.903Z"
   },
   {
    "duration": 4,
    "start_time": "2022-08-13T18:34:23.912Z"
   },
   {
    "duration": 4,
    "start_time": "2022-08-13T18:34:23.918Z"
   },
   {
    "duration": 4,
    "start_time": "2022-08-13T18:34:23.923Z"
   },
   {
    "duration": 4,
    "start_time": "2022-08-13T18:34:23.928Z"
   },
   {
    "duration": 5,
    "start_time": "2022-08-13T18:34:23.933Z"
   },
   {
    "duration": 17972,
    "start_time": "2022-08-13T18:34:23.939Z"
   },
   {
    "duration": 6,
    "start_time": "2022-08-13T18:34:41.912Z"
   },
   {
    "duration": 10,
    "start_time": "2022-08-13T18:34:41.919Z"
   },
   {
    "duration": 3,
    "start_time": "2022-08-13T18:34:41.999Z"
   },
   {
    "duration": 317,
    "start_time": "2022-08-13T18:34:42.003Z"
   },
   {
    "duration": 177,
    "start_time": "2022-08-13T18:34:42.322Z"
   },
   {
    "duration": 0,
    "start_time": "2022-08-13T18:34:42.500Z"
   },
   {
    "duration": 0,
    "start_time": "2022-08-13T18:34:42.501Z"
   },
   {
    "duration": 0,
    "start_time": "2022-08-13T18:34:42.502Z"
   },
   {
    "duration": 0,
    "start_time": "2022-08-13T18:34:42.503Z"
   },
   {
    "duration": 0,
    "start_time": "2022-08-13T18:34:42.503Z"
   },
   {
    "duration": 0,
    "start_time": "2022-08-13T18:34:42.504Z"
   },
   {
    "duration": 0,
    "start_time": "2022-08-13T18:34:42.505Z"
   },
   {
    "duration": 3,
    "start_time": "2022-08-13T18:34:48.473Z"
   },
   {
    "duration": 4,
    "start_time": "2022-08-13T18:34:50.126Z"
   },
   {
    "duration": 3,
    "start_time": "2022-08-13T18:34:58.059Z"
   },
   {
    "duration": 9206,
    "start_time": "2022-08-13T18:34:59.810Z"
   },
   {
    "duration": 9,
    "start_time": "2022-08-13T18:35:09.017Z"
   },
   {
    "duration": 5,
    "start_time": "2022-08-21T11:13:02.930Z"
   },
   {
    "duration": 1891,
    "start_time": "2022-08-21T11:13:02.937Z"
   },
   {
    "duration": 0,
    "start_time": "2022-08-21T11:13:04.831Z"
   },
   {
    "duration": 0,
    "start_time": "2022-08-21T11:13:04.832Z"
   },
   {
    "duration": 0,
    "start_time": "2022-08-21T11:13:04.834Z"
   },
   {
    "duration": 0,
    "start_time": "2022-08-21T11:13:04.835Z"
   },
   {
    "duration": 0,
    "start_time": "2022-08-21T11:13:04.836Z"
   },
   {
    "duration": 0,
    "start_time": "2022-08-21T11:13:04.838Z"
   },
   {
    "duration": 0,
    "start_time": "2022-08-21T11:13:04.839Z"
   },
   {
    "duration": 0,
    "start_time": "2022-08-21T11:13:04.841Z"
   },
   {
    "duration": 0,
    "start_time": "2022-08-21T11:13:04.842Z"
   },
   {
    "duration": 0,
    "start_time": "2022-08-21T11:13:04.843Z"
   },
   {
    "duration": 0,
    "start_time": "2022-08-21T11:13:04.844Z"
   },
   {
    "duration": 0,
    "start_time": "2022-08-21T11:13:04.868Z"
   },
   {
    "duration": 0,
    "start_time": "2022-08-21T11:13:04.870Z"
   },
   {
    "duration": 0,
    "start_time": "2022-08-21T11:13:04.871Z"
   },
   {
    "duration": 0,
    "start_time": "2022-08-21T11:13:04.872Z"
   },
   {
    "duration": 0,
    "start_time": "2022-08-21T11:13:04.873Z"
   },
   {
    "duration": 0,
    "start_time": "2022-08-21T11:13:04.874Z"
   },
   {
    "duration": 0,
    "start_time": "2022-08-21T11:13:04.876Z"
   },
   {
    "duration": 0,
    "start_time": "2022-08-21T11:13:04.877Z"
   },
   {
    "duration": 0,
    "start_time": "2022-08-21T11:13:04.878Z"
   },
   {
    "duration": 0,
    "start_time": "2022-08-21T11:13:04.879Z"
   },
   {
    "duration": 0,
    "start_time": "2022-08-21T11:13:04.880Z"
   },
   {
    "duration": 0,
    "start_time": "2022-08-21T11:13:04.882Z"
   },
   {
    "duration": 0,
    "start_time": "2022-08-21T11:13:04.883Z"
   },
   {
    "duration": 0,
    "start_time": "2022-08-21T11:13:04.884Z"
   },
   {
    "duration": 0,
    "start_time": "2022-08-21T11:13:04.885Z"
   },
   {
    "duration": 0,
    "start_time": "2022-08-21T11:13:04.886Z"
   },
   {
    "duration": 0,
    "start_time": "2022-08-21T11:13:04.887Z"
   },
   {
    "duration": 0,
    "start_time": "2022-08-21T11:13:04.888Z"
   },
   {
    "duration": 0,
    "start_time": "2022-08-21T11:13:04.889Z"
   },
   {
    "duration": 0,
    "start_time": "2022-08-21T11:13:04.891Z"
   },
   {
    "duration": 0,
    "start_time": "2022-08-21T11:13:04.892Z"
   },
   {
    "duration": 0,
    "start_time": "2022-08-21T11:13:04.893Z"
   },
   {
    "duration": 0,
    "start_time": "2022-08-21T11:13:04.894Z"
   },
   {
    "duration": 0,
    "start_time": "2022-08-21T11:13:04.895Z"
   },
   {
    "duration": 3625,
    "start_time": "2022-08-21T11:13:21.398Z"
   },
   {
    "duration": 3,
    "start_time": "2022-08-21T11:13:31.846Z"
   },
   {
    "duration": 2973,
    "start_time": "2022-08-21T11:13:31.852Z"
   },
   {
    "duration": 78,
    "start_time": "2022-08-21T11:13:34.828Z"
   },
   {
    "duration": 13,
    "start_time": "2022-08-21T11:13:34.907Z"
   },
   {
    "duration": 15,
    "start_time": "2022-08-21T11:13:34.923Z"
   },
   {
    "duration": 13,
    "start_time": "2022-08-21T11:13:34.940Z"
   },
   {
    "duration": 6,
    "start_time": "2022-08-21T11:13:34.956Z"
   },
   {
    "duration": 8,
    "start_time": "2022-08-21T11:13:34.963Z"
   },
   {
    "duration": 14,
    "start_time": "2022-08-21T11:13:34.972Z"
   },
   {
    "duration": 10,
    "start_time": "2022-08-21T11:13:34.988Z"
   },
   {
    "duration": 9,
    "start_time": "2022-08-21T11:13:35.000Z"
   },
   {
    "duration": 13,
    "start_time": "2022-08-21T11:13:35.011Z"
   },
   {
    "duration": 48,
    "start_time": "2022-08-21T11:13:35.026Z"
   },
   {
    "duration": 475,
    "start_time": "2022-08-21T11:13:35.077Z"
   },
   {
    "duration": 3,
    "start_time": "2022-08-21T11:13:35.554Z"
   },
   {
    "duration": 14,
    "start_time": "2022-08-21T11:13:35.559Z"
   },
   {
    "duration": 21,
    "start_time": "2022-08-21T11:13:35.575Z"
   },
   {
    "duration": 9,
    "start_time": "2022-08-21T11:13:35.598Z"
   },
   {
    "duration": 68,
    "start_time": "2022-08-21T11:13:35.609Z"
   },
   {
    "duration": 24,
    "start_time": "2022-08-21T11:13:35.679Z"
   },
   {
    "duration": 93,
    "start_time": "2022-08-21T11:13:35.705Z"
   },
   {
    "duration": 10,
    "start_time": "2022-08-21T11:13:35.799Z"
   },
   {
    "duration": 6,
    "start_time": "2022-08-21T11:13:35.811Z"
   },
   {
    "duration": 6,
    "start_time": "2022-08-21T11:13:35.818Z"
   },
   {
    "duration": 63,
    "start_time": "2022-08-21T11:13:35.826Z"
   },
   {
    "duration": 29789,
    "start_time": "2022-08-21T11:13:35.891Z"
   },
   {
    "duration": 9,
    "start_time": "2022-08-21T11:14:05.682Z"
   },
   {
    "duration": 19,
    "start_time": "2022-08-21T11:14:05.693Z"
   },
   {
    "duration": 7,
    "start_time": "2022-08-21T11:14:05.714Z"
   },
   {
    "duration": 532,
    "start_time": "2022-08-21T11:14:05.768Z"
   },
   {
    "duration": 4,
    "start_time": "2022-08-21T11:14:06.302Z"
   },
   {
    "duration": 11,
    "start_time": "2022-08-21T11:14:06.307Z"
   },
   {
    "duration": 860,
    "start_time": "2022-08-21T11:14:06.320Z"
   },
   {
    "duration": 0,
    "start_time": "2022-08-21T11:14:07.182Z"
   },
   {
    "duration": 0,
    "start_time": "2022-08-21T11:14:07.183Z"
   },
   {
    "duration": 0,
    "start_time": "2022-08-21T11:14:07.184Z"
   },
   {
    "duration": 0,
    "start_time": "2022-08-21T11:14:07.185Z"
   },
   {
    "duration": 4,
    "start_time": "2022-08-21T12:48:09.629Z"
   },
   {
    "duration": 6,
    "start_time": "2022-08-21T15:20:39.825Z"
   },
   {
    "duration": 24485,
    "start_time": "2022-08-21T15:20:41.014Z"
   },
   {
    "duration": 5,
    "start_time": "2022-08-21T15:21:27.622Z"
   }
  ],
  "kernelspec": {
   "display_name": "Python 3",
   "language": "python",
   "name": "python3"
  },
  "language_info": {
   "codemirror_mode": {
    "name": "ipython",
    "version": 3
   },
   "file_extension": ".py",
   "mimetype": "text/x-python",
   "name": "python",
   "nbconvert_exporter": "python",
   "pygments_lexer": "ipython3",
   "version": "3.8.8"
  },
  "toc": {
   "base_numbering": 1,
   "nav_menu": {},
   "number_sections": false,
   "sideBar": true,
   "skip_h1_title": false,
   "title_cell": "Table of Contents",
   "title_sidebar": "Contents",
   "toc_cell": false,
   "toc_position": {
    "height": "calc(100% - 180px)",
    "left": "10px",
    "top": "150px",
    "width": "272.6px"
   },
   "toc_section_display": true,
   "toc_window_display": true
  },
  "varInspector": {
   "cols": {
    "lenName": 16,
    "lenType": 16,
    "lenVar": 40
   },
   "kernels_config": {
    "python": {
     "delete_cmd_postfix": "",
     "delete_cmd_prefix": "del ",
     "library": "var_list.py",
     "varRefreshCmd": "print(var_dic_list())"
    },
    "r": {
     "delete_cmd_postfix": ") ",
     "delete_cmd_prefix": "rm(",
     "library": "var_list.r",
     "varRefreshCmd": "cat(var_dic_list()) "
    }
   },
   "types_to_exclude": [
    "module",
    "function",
    "builtin_function_or_method",
    "instance",
    "_Feature"
   ],
   "window_display": false
  }
 },
 "nbformat": 4,
 "nbformat_minor": 5
}
