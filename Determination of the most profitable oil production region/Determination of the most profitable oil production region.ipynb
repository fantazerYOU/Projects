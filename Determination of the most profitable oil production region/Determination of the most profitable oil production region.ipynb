{
 "cells": [
  {
   "cell_type": "markdown",
   "metadata": {},
   "source": [
    "# Выбор локации для скважины"
   ]
  },
  {
   "cell_type": "markdown",
   "metadata": {},
   "source": [
    "Допустим, вы работаете в добывающей компании «ГРГНефть». Нужно решить, где бурить новую скважину.\n",
    "\n",
    "Вам предоставлены пробы нефти в трёх регионах: в каждом 10 000 месторождений, где измерили качество нефти и объём её запасов. Постройте модель машинного обучения, которая поможет определить регион, где добыча принесёт наибольшую прибыль. Проанализируйте возможную прибыль и риски техникой *Bootstrap.*"
   ]
  },
  {
   "cell_type": "markdown",
   "metadata": {},
   "source": [
    "## Загрузка и подготовка данных"
   ]
  },
  {
   "cell_type": "code",
   "execution_count": 1,
   "metadata": {},
   "outputs": [],
   "source": [
    "import pandas as pd\n",
    "import numpy as np\n",
    "from sklearn.linear_model import LinearRegression\n",
    "from sklearn.model_selection import train_test_split\n",
    "from sklearn.metrics import mean_squared_error\n",
    "from sklearn.preprocessing import StandardScaler \n",
    "from scipy import stats as st\n",
    "import seaborn as sns\n",
    "import matplotlib.pyplot as plt"
   ]
  },
  {
   "cell_type": "code",
   "execution_count": 2,
   "metadata": {},
   "outputs": [],
   "source": [
    "df_geo_data_0 = pd.read_csv('/datasets/geo_data_0.csv')\n",
    "df_geo_data_1 = pd.read_csv('/datasets/geo_data_1.csv')\n",
    "df_geo_data_2 = pd.read_csv('/datasets/geo_data_2.csv')"
   ]
  },
  {
   "cell_type": "code",
   "execution_count": 3,
   "metadata": {},
   "outputs": [
    {
     "name": "stdout",
     "output_type": "stream",
     "text": [
      "<class 'pandas.core.frame.DataFrame'>\n",
      "RangeIndex: 100000 entries, 0 to 99999\n",
      "Data columns (total 5 columns):\n",
      " #   Column   Non-Null Count   Dtype  \n",
      "---  ------   --------------   -----  \n",
      " 0   id       100000 non-null  object \n",
      " 1   f0       100000 non-null  float64\n",
      " 2   f1       100000 non-null  float64\n",
      " 3   f2       100000 non-null  float64\n",
      " 4   product  100000 non-null  float64\n",
      "dtypes: float64(4), object(1)\n",
      "memory usage: 3.8+ MB\n"
     ]
    }
   ],
   "source": [
    "df_geo_data_0.info()"
   ]
  },
  {
   "cell_type": "code",
   "execution_count": 4,
   "metadata": {},
   "outputs": [
    {
     "data": {
      "text/html": [
       "<div>\n",
       "<style scoped>\n",
       "    .dataframe tbody tr th:only-of-type {\n",
       "        vertical-align: middle;\n",
       "    }\n",
       "\n",
       "    .dataframe tbody tr th {\n",
       "        vertical-align: top;\n",
       "    }\n",
       "\n",
       "    .dataframe thead th {\n",
       "        text-align: right;\n",
       "    }\n",
       "</style>\n",
       "<table border=\"1\" class=\"dataframe\">\n",
       "  <thead>\n",
       "    <tr style=\"text-align: right;\">\n",
       "      <th></th>\n",
       "      <th>id</th>\n",
       "      <th>f0</th>\n",
       "      <th>f1</th>\n",
       "      <th>f2</th>\n",
       "      <th>product</th>\n",
       "    </tr>\n",
       "  </thead>\n",
       "  <tbody>\n",
       "    <tr>\n",
       "      <th>0</th>\n",
       "      <td>txEyH</td>\n",
       "      <td>0.705745</td>\n",
       "      <td>-0.497823</td>\n",
       "      <td>1.22117</td>\n",
       "      <td>105.280062</td>\n",
       "    </tr>\n",
       "    <tr>\n",
       "      <th>1</th>\n",
       "      <td>2acmU</td>\n",
       "      <td>1.334711</td>\n",
       "      <td>-0.340164</td>\n",
       "      <td>4.36508</td>\n",
       "      <td>73.037750</td>\n",
       "    </tr>\n",
       "  </tbody>\n",
       "</table>\n",
       "</div>"
      ],
      "text/plain": [
       "      id        f0        f1       f2     product\n",
       "0  txEyH  0.705745 -0.497823  1.22117  105.280062\n",
       "1  2acmU  1.334711 -0.340164  4.36508   73.037750"
      ]
     },
     "execution_count": 4,
     "metadata": {},
     "output_type": "execute_result"
    }
   ],
   "source": [
    "df_geo_data_0.head(2)"
   ]
  },
  {
   "cell_type": "code",
   "execution_count": 5,
   "metadata": {},
   "outputs": [
    {
     "name": "stdout",
     "output_type": "stream",
     "text": [
      "<class 'pandas.core.frame.DataFrame'>\n",
      "RangeIndex: 100000 entries, 0 to 99999\n",
      "Data columns (total 5 columns):\n",
      " #   Column   Non-Null Count   Dtype  \n",
      "---  ------   --------------   -----  \n",
      " 0   id       100000 non-null  object \n",
      " 1   f0       100000 non-null  float64\n",
      " 2   f1       100000 non-null  float64\n",
      " 3   f2       100000 non-null  float64\n",
      " 4   product  100000 non-null  float64\n",
      "dtypes: float64(4), object(1)\n",
      "memory usage: 3.8+ MB\n"
     ]
    }
   ],
   "source": [
    "df_geo_data_1.info()"
   ]
  },
  {
   "cell_type": "code",
   "execution_count": 6,
   "metadata": {
    "scrolled": true
   },
   "outputs": [
    {
     "data": {
      "text/html": [
       "<div>\n",
       "<style scoped>\n",
       "    .dataframe tbody tr th:only-of-type {\n",
       "        vertical-align: middle;\n",
       "    }\n",
       "\n",
       "    .dataframe tbody tr th {\n",
       "        vertical-align: top;\n",
       "    }\n",
       "\n",
       "    .dataframe thead th {\n",
       "        text-align: right;\n",
       "    }\n",
       "</style>\n",
       "<table border=\"1\" class=\"dataframe\">\n",
       "  <thead>\n",
       "    <tr style=\"text-align: right;\">\n",
       "      <th></th>\n",
       "      <th>id</th>\n",
       "      <th>f0</th>\n",
       "      <th>f1</th>\n",
       "      <th>f2</th>\n",
       "      <th>product</th>\n",
       "    </tr>\n",
       "  </thead>\n",
       "  <tbody>\n",
       "    <tr>\n",
       "      <th>0</th>\n",
       "      <td>kBEdx</td>\n",
       "      <td>-15.001348</td>\n",
       "      <td>-8.276000</td>\n",
       "      <td>-0.005876</td>\n",
       "      <td>3.179103</td>\n",
       "    </tr>\n",
       "    <tr>\n",
       "      <th>1</th>\n",
       "      <td>62mP7</td>\n",
       "      <td>14.272088</td>\n",
       "      <td>-3.475083</td>\n",
       "      <td>0.999183</td>\n",
       "      <td>26.953261</td>\n",
       "    </tr>\n",
       "  </tbody>\n",
       "</table>\n",
       "</div>"
      ],
      "text/plain": [
       "      id         f0        f1        f2    product\n",
       "0  kBEdx -15.001348 -8.276000 -0.005876   3.179103\n",
       "1  62mP7  14.272088 -3.475083  0.999183  26.953261"
      ]
     },
     "execution_count": 6,
     "metadata": {},
     "output_type": "execute_result"
    }
   ],
   "source": [
    "df_geo_data_1.head(2)"
   ]
  },
  {
   "cell_type": "code",
   "execution_count": 7,
   "metadata": {},
   "outputs": [
    {
     "name": "stdout",
     "output_type": "stream",
     "text": [
      "<class 'pandas.core.frame.DataFrame'>\n",
      "RangeIndex: 100000 entries, 0 to 99999\n",
      "Data columns (total 5 columns):\n",
      " #   Column   Non-Null Count   Dtype  \n",
      "---  ------   --------------   -----  \n",
      " 0   id       100000 non-null  object \n",
      " 1   f0       100000 non-null  float64\n",
      " 2   f1       100000 non-null  float64\n",
      " 3   f2       100000 non-null  float64\n",
      " 4   product  100000 non-null  float64\n",
      "dtypes: float64(4), object(1)\n",
      "memory usage: 3.8+ MB\n"
     ]
    }
   ],
   "source": [
    "df_geo_data_2.info()"
   ]
  },
  {
   "cell_type": "code",
   "execution_count": 8,
   "metadata": {
    "scrolled": true
   },
   "outputs": [
    {
     "data": {
      "text/html": [
       "<div>\n",
       "<style scoped>\n",
       "    .dataframe tbody tr th:only-of-type {\n",
       "        vertical-align: middle;\n",
       "    }\n",
       "\n",
       "    .dataframe tbody tr th {\n",
       "        vertical-align: top;\n",
       "    }\n",
       "\n",
       "    .dataframe thead th {\n",
       "        text-align: right;\n",
       "    }\n",
       "</style>\n",
       "<table border=\"1\" class=\"dataframe\">\n",
       "  <thead>\n",
       "    <tr style=\"text-align: right;\">\n",
       "      <th></th>\n",
       "      <th>id</th>\n",
       "      <th>f0</th>\n",
       "      <th>f1</th>\n",
       "      <th>f2</th>\n",
       "      <th>product</th>\n",
       "    </tr>\n",
       "  </thead>\n",
       "  <tbody>\n",
       "    <tr>\n",
       "      <th>0</th>\n",
       "      <td>fwXo0</td>\n",
       "      <td>-1.146987</td>\n",
       "      <td>0.963328</td>\n",
       "      <td>-0.828965</td>\n",
       "      <td>27.758673</td>\n",
       "    </tr>\n",
       "    <tr>\n",
       "      <th>1</th>\n",
       "      <td>WJtFt</td>\n",
       "      <td>0.262778</td>\n",
       "      <td>0.269839</td>\n",
       "      <td>-2.530187</td>\n",
       "      <td>56.069697</td>\n",
       "    </tr>\n",
       "  </tbody>\n",
       "</table>\n",
       "</div>"
      ],
      "text/plain": [
       "      id        f0        f1        f2    product\n",
       "0  fwXo0 -1.146987  0.963328 -0.828965  27.758673\n",
       "1  WJtFt  0.262778  0.269839 -2.530187  56.069697"
      ]
     },
     "execution_count": 8,
     "metadata": {},
     "output_type": "execute_result"
    }
   ],
   "source": [
    "df_geo_data_2.head(2)"
   ]
  },
  {
   "cell_type": "code",
   "execution_count": 9,
   "metadata": {},
   "outputs": [
    {
     "data": {
      "text/plain": [
       "0"
      ]
     },
     "execution_count": 9,
     "metadata": {},
     "output_type": "execute_result"
    }
   ],
   "source": [
    "df_geo_data_0.duplicated().sum()"
   ]
  },
  {
   "cell_type": "code",
   "execution_count": 10,
   "metadata": {
    "scrolled": true
   },
   "outputs": [
    {
     "data": {
      "text/plain": [
       "A5aEY    2\n",
       "TtcGQ    2\n",
       "Tdehs    2\n",
       "HZww2    2\n",
       "bsk9y    2\n",
       "QcMuo    2\n",
       "bxg6G    2\n",
       "AGS9W    2\n",
       "74z30    2\n",
       "fiKDv    2\n",
       "MpQQj    1\n",
       "Name: id, dtype: int64"
      ]
     },
     "execution_count": 10,
     "metadata": {},
     "output_type": "execute_result"
    }
   ],
   "source": [
    "df_geo_data_0['id'].value_counts().head(11)"
   ]
  },
  {
   "cell_type": "code",
   "execution_count": 11,
   "metadata": {},
   "outputs": [
    {
     "data": {
      "text/html": [
       "<div>\n",
       "<style scoped>\n",
       "    .dataframe tbody tr th:only-of-type {\n",
       "        vertical-align: middle;\n",
       "    }\n",
       "\n",
       "    .dataframe tbody tr th {\n",
       "        vertical-align: top;\n",
       "    }\n",
       "\n",
       "    .dataframe thead th {\n",
       "        text-align: right;\n",
       "    }\n",
       "</style>\n",
       "<table border=\"1\" class=\"dataframe\">\n",
       "  <thead>\n",
       "    <tr style=\"text-align: right;\">\n",
       "      <th></th>\n",
       "      <th>id</th>\n",
       "      <th>f0</th>\n",
       "      <th>f1</th>\n",
       "      <th>f2</th>\n",
       "      <th>product</th>\n",
       "    </tr>\n",
       "  </thead>\n",
       "  <tbody>\n",
       "    <tr>\n",
       "      <th>931</th>\n",
       "      <td>HZww2</td>\n",
       "      <td>0.755284</td>\n",
       "      <td>0.368511</td>\n",
       "      <td>1.863211</td>\n",
       "      <td>30.681774</td>\n",
       "    </tr>\n",
       "    <tr>\n",
       "      <th>7530</th>\n",
       "      <td>HZww2</td>\n",
       "      <td>1.061194</td>\n",
       "      <td>-0.373969</td>\n",
       "      <td>10.430210</td>\n",
       "      <td>158.828695</td>\n",
       "    </tr>\n",
       "  </tbody>\n",
       "</table>\n",
       "</div>"
      ],
      "text/plain": [
       "         id        f0        f1         f2     product\n",
       "931   HZww2  0.755284  0.368511   1.863211   30.681774\n",
       "7530  HZww2  1.061194 -0.373969  10.430210  158.828695"
      ]
     },
     "execution_count": 11,
     "metadata": {},
     "output_type": "execute_result"
    }
   ],
   "source": [
    "df_geo_data_0[df_geo_data_0['id'] == 'HZww2']"
   ]
  },
  {
   "cell_type": "markdown",
   "metadata": {},
   "source": [
    "Одинаковые id  решил оставить т к их не так много"
   ]
  },
  {
   "cell_type": "code",
   "execution_count": 12,
   "metadata": {},
   "outputs": [
    {
     "data": {
      "text/plain": [
       "0"
      ]
     },
     "execution_count": 12,
     "metadata": {},
     "output_type": "execute_result"
    }
   ],
   "source": [
    "df_geo_data_1.duplicated().sum()"
   ]
  },
  {
   "cell_type": "code",
   "execution_count": 13,
   "metadata": {},
   "outputs": [
    {
     "data": {
      "text/plain": [
       "0"
      ]
     },
     "execution_count": 13,
     "metadata": {},
     "output_type": "execute_result"
    }
   ],
   "source": [
    "df_geo_data_2.duplicated().sum()"
   ]
  },
  {
   "cell_type": "code",
   "execution_count": 14,
   "metadata": {
    "scrolled": true
   },
   "outputs": [
    {
     "data": {
      "text/plain": [
       "count    100000.000000\n",
       "mean         92.500000\n",
       "std          44.288691\n",
       "min           0.000000\n",
       "25%          56.497507\n",
       "50%          91.849972\n",
       "75%         128.564089\n",
       "max         185.364347\n",
       "Name: product, dtype: float64"
      ]
     },
     "execution_count": 14,
     "metadata": {},
     "output_type": "execute_result"
    }
   ],
   "source": [
    "df_geo_data_0['product'].describe()"
   ]
  },
  {
   "cell_type": "code",
   "execution_count": 15,
   "metadata": {},
   "outputs": [
    {
     "data": {
      "text/plain": [
       "count    100000.000000\n",
       "mean         68.825000\n",
       "std          45.944423\n",
       "min           0.000000\n",
       "25%          26.953261\n",
       "50%          57.085625\n",
       "75%         107.813044\n",
       "max         137.945408\n",
       "Name: product, dtype: float64"
      ]
     },
     "execution_count": 15,
     "metadata": {},
     "output_type": "execute_result"
    }
   ],
   "source": [
    "df_geo_data_1['product'].describe()"
   ]
  },
  {
   "cell_type": "code",
   "execution_count": 16,
   "metadata": {},
   "outputs": [
    {
     "data": {
      "text/plain": [
       "count    100000.000000\n",
       "mean         95.000000\n",
       "std          44.749921\n",
       "min           0.000000\n",
       "25%          59.450441\n",
       "50%          94.925613\n",
       "75%         130.595027\n",
       "max         190.029838\n",
       "Name: product, dtype: float64"
      ]
     },
     "execution_count": 16,
     "metadata": {},
     "output_type": "execute_result"
    }
   ],
   "source": [
    "df_geo_data_2['product'].describe()"
   ]
  },
  {
   "cell_type": "markdown",
   "metadata": {},
   "source": [
    "Дубликатов в df не обнаружено. **NaN** тоже не обнаружено. так же посмотрели описательную статистику с помощью **describe()**."
   ]
  },
  {
   "cell_type": "markdown",
   "metadata": {},
   "source": [
    "## Обучение и проверка модели"
   ]
  },
  {
   "cell_type": "code",
   "execution_count": 17,
   "metadata": {},
   "outputs": [
    {
     "data": {
      "text/html": [
       "<div>\n",
       "<style scoped>\n",
       "    .dataframe tbody tr th:only-of-type {\n",
       "        vertical-align: middle;\n",
       "    }\n",
       "\n",
       "    .dataframe tbody tr th {\n",
       "        vertical-align: top;\n",
       "    }\n",
       "\n",
       "    .dataframe thead th {\n",
       "        text-align: right;\n",
       "    }\n",
       "</style>\n",
       "<table border=\"1\" class=\"dataframe\">\n",
       "  <thead>\n",
       "    <tr style=\"text-align: right;\">\n",
       "      <th></th>\n",
       "      <th>f0</th>\n",
       "      <th>f1</th>\n",
       "      <th>f2</th>\n",
       "      <th>product</th>\n",
       "    </tr>\n",
       "  </thead>\n",
       "  <tbody>\n",
       "    <tr>\n",
       "      <th>0</th>\n",
       "      <td>0.705745</td>\n",
       "      <td>-0.497823</td>\n",
       "      <td>1.22117</td>\n",
       "      <td>105.280062</td>\n",
       "    </tr>\n",
       "    <tr>\n",
       "      <th>1</th>\n",
       "      <td>1.334711</td>\n",
       "      <td>-0.340164</td>\n",
       "      <td>4.36508</td>\n",
       "      <td>73.037750</td>\n",
       "    </tr>\n",
       "  </tbody>\n",
       "</table>\n",
       "</div>"
      ],
      "text/plain": [
       "         f0        f1       f2     product\n",
       "0  0.705745 -0.497823  1.22117  105.280062\n",
       "1  1.334711 -0.340164  4.36508   73.037750"
      ]
     },
     "execution_count": 17,
     "metadata": {},
     "output_type": "execute_result"
    }
   ],
   "source": [
    "df_geo_data_0 = df_geo_data_0.drop(['id'], axis = 1)\n",
    "df_geo_data_0.head(2)"
   ]
  },
  {
   "cell_type": "code",
   "execution_count": 18,
   "metadata": {},
   "outputs": [
    {
     "data": {
      "text/html": [
       "<div>\n",
       "<style scoped>\n",
       "    .dataframe tbody tr th:only-of-type {\n",
       "        vertical-align: middle;\n",
       "    }\n",
       "\n",
       "    .dataframe tbody tr th {\n",
       "        vertical-align: top;\n",
       "    }\n",
       "\n",
       "    .dataframe thead th {\n",
       "        text-align: right;\n",
       "    }\n",
       "</style>\n",
       "<table border=\"1\" class=\"dataframe\">\n",
       "  <thead>\n",
       "    <tr style=\"text-align: right;\">\n",
       "      <th></th>\n",
       "      <th>f0</th>\n",
       "      <th>f1</th>\n",
       "      <th>f2</th>\n",
       "      <th>product</th>\n",
       "    </tr>\n",
       "  </thead>\n",
       "  <tbody>\n",
       "    <tr>\n",
       "      <th>0</th>\n",
       "      <td>-15.001348</td>\n",
       "      <td>-8.276000</td>\n",
       "      <td>-0.005876</td>\n",
       "      <td>3.179103</td>\n",
       "    </tr>\n",
       "    <tr>\n",
       "      <th>1</th>\n",
       "      <td>14.272088</td>\n",
       "      <td>-3.475083</td>\n",
       "      <td>0.999183</td>\n",
       "      <td>26.953261</td>\n",
       "    </tr>\n",
       "  </tbody>\n",
       "</table>\n",
       "</div>"
      ],
      "text/plain": [
       "          f0        f1        f2    product\n",
       "0 -15.001348 -8.276000 -0.005876   3.179103\n",
       "1  14.272088 -3.475083  0.999183  26.953261"
      ]
     },
     "execution_count": 18,
     "metadata": {},
     "output_type": "execute_result"
    }
   ],
   "source": [
    "df_geo_data_1 = df_geo_data_1.drop(['id'], axis = 1)\n",
    "df_geo_data_1.head(2)"
   ]
  },
  {
   "cell_type": "code",
   "execution_count": 19,
   "metadata": {},
   "outputs": [
    {
     "data": {
      "text/html": [
       "<div>\n",
       "<style scoped>\n",
       "    .dataframe tbody tr th:only-of-type {\n",
       "        vertical-align: middle;\n",
       "    }\n",
       "\n",
       "    .dataframe tbody tr th {\n",
       "        vertical-align: top;\n",
       "    }\n",
       "\n",
       "    .dataframe thead th {\n",
       "        text-align: right;\n",
       "    }\n",
       "</style>\n",
       "<table border=\"1\" class=\"dataframe\">\n",
       "  <thead>\n",
       "    <tr style=\"text-align: right;\">\n",
       "      <th></th>\n",
       "      <th>f0</th>\n",
       "      <th>f1</th>\n",
       "      <th>f2</th>\n",
       "      <th>product</th>\n",
       "    </tr>\n",
       "  </thead>\n",
       "  <tbody>\n",
       "    <tr>\n",
       "      <th>0</th>\n",
       "      <td>-1.146987</td>\n",
       "      <td>0.963328</td>\n",
       "      <td>-0.828965</td>\n",
       "      <td>27.758673</td>\n",
       "    </tr>\n",
       "    <tr>\n",
       "      <th>1</th>\n",
       "      <td>0.262778</td>\n",
       "      <td>0.269839</td>\n",
       "      <td>-2.530187</td>\n",
       "      <td>56.069697</td>\n",
       "    </tr>\n",
       "  </tbody>\n",
       "</table>\n",
       "</div>"
      ],
      "text/plain": [
       "         f0        f1        f2    product\n",
       "0 -1.146987  0.963328 -0.828965  27.758673\n",
       "1  0.262778  0.269839 -2.530187  56.069697"
      ]
     },
     "execution_count": 19,
     "metadata": {},
     "output_type": "execute_result"
    }
   ],
   "source": [
    "df_geo_data_2 = df_geo_data_2.drop(['id'], axis = 1)\n",
    "df_geo_data_2.head(2)"
   ]
  },
  {
   "cell_type": "markdown",
   "metadata": {},
   "source": [
    "Удалил столбцы с типом данных **object** "
   ]
  },
  {
   "cell_type": "code",
   "execution_count": 20,
   "metadata": {},
   "outputs": [],
   "source": [
    "def we_keep_signs(df_geo_data):\n",
    "    target = df_geo_data['product']  # Cохраняем целевой признак.\n",
    "    features = df_geo_data.drop(['product'], axis=1)  # Cохраняем оставшиеся признаки, без целевого.\n",
    "    \n",
    "    return (target, features)"
   ]
  },
  {
   "cell_type": "code",
   "execution_count": 21,
   "metadata": {},
   "outputs": [],
   "source": [
    "target_0, features_0 = we_keep_signs(df_geo_data_0)"
   ]
  },
  {
   "cell_type": "code",
   "execution_count": 22,
   "metadata": {},
   "outputs": [],
   "source": [
    "target_1, features_1 = we_keep_signs(df_geo_data_1)"
   ]
  },
  {
   "cell_type": "code",
   "execution_count": 23,
   "metadata": {},
   "outputs": [],
   "source": [
    "target_2, features_2 = we_keep_signs(df_geo_data_2)"
   ]
  },
  {
   "cell_type": "code",
   "execution_count": 24,
   "metadata": {},
   "outputs": [],
   "source": [
    "features_train_0, features_valid_0, target_train_0, target_valid_0 = train_test_split(\n",
    "    features_0, target_0, test_size=0.25, random_state=69) # разбиваем df в соотношении 75 / 25"
   ]
  },
  {
   "cell_type": "code",
   "execution_count": 25,
   "metadata": {},
   "outputs": [],
   "source": [
    "features_train_1, features_valid_1, target_train_1, target_valid_1 = train_test_split(\n",
    "    features_1, target_1, test_size=0.25, random_state=69) # разбиваем df в соотношении 75 / 25"
   ]
  },
  {
   "cell_type": "code",
   "execution_count": 26,
   "metadata": {},
   "outputs": [],
   "source": [
    "features_train_2, features_valid_2, target_train_2, target_valid_2 = train_test_split(\n",
    "    features_2, target_2, test_size=0.25, random_state=69) # разбиваем df в соотношении 75 / 25"
   ]
  },
  {
   "cell_type": "markdown",
   "metadata": {},
   "source": [
    "Масштабируем признаки :"
   ]
  },
  {
   "cell_type": "code",
   "execution_count": 27,
   "metadata": {},
   "outputs": [],
   "source": [
    "def scaling_signs(features_train, features_valid):\n",
    "    numeric = ['f0', 'f1', 'f2'] # Список признаков\n",
    "\n",
    "    scaler = StandardScaler() # Создаём объект структуры \n",
    "    scaler.fit(features_train[numeric]) # Настроим его на обучающих данных\n",
    "\n",
    "    features_train[numeric] = scaler.transform(features_train[numeric]) # Преобразуем обучающую выборку функцией transform()\n",
    "    features_valid[numeric] = scaler.transform(features_valid[numeric]) # Преобразуем валидационную выборку функцией transform()\n",
    "    pd.options.mode.chained_assignment = None\n",
    "    \n",
    "    return(features_train, features_valid)"
   ]
  },
  {
   "cell_type": "code",
   "execution_count": 28,
   "metadata": {},
   "outputs": [
    {
     "name": "stderr",
     "output_type": "stream",
     "text": [
      "/tmp/ipykernel_83/2346915363.py:7: SettingWithCopyWarning: \n",
      "A value is trying to be set on a copy of a slice from a DataFrame.\n",
      "Try using .loc[row_indexer,col_indexer] = value instead\n",
      "\n",
      "See the caveats in the documentation: https://pandas.pydata.org/pandas-docs/stable/user_guide/indexing.html#returning-a-view-versus-a-copy\n",
      "  features_train[numeric] = scaler.transform(features_train[numeric]) # Преобразуем обучающую выборку функцией transform()\n",
      "/opt/conda/lib/python3.9/site-packages/pandas/core/indexing.py:1637: SettingWithCopyWarning: \n",
      "A value is trying to be set on a copy of a slice from a DataFrame\n",
      "\n",
      "See the caveats in the documentation: https://pandas.pydata.org/pandas-docs/stable/user_guide/indexing.html#returning-a-view-versus-a-copy\n",
      "  self._setitem_single_block(indexer, value, name)\n",
      "/opt/conda/lib/python3.9/site-packages/pandas/core/indexing.py:692: SettingWithCopyWarning: \n",
      "A value is trying to be set on a copy of a slice from a DataFrame\n",
      "\n",
      "See the caveats in the documentation: https://pandas.pydata.org/pandas-docs/stable/user_guide/indexing.html#returning-a-view-versus-a-copy\n",
      "  iloc._setitem_with_indexer(indexer, value, self.name)\n",
      "/tmp/ipykernel_83/2346915363.py:8: SettingWithCopyWarning: \n",
      "A value is trying to be set on a copy of a slice from a DataFrame.\n",
      "Try using .loc[row_indexer,col_indexer] = value instead\n",
      "\n",
      "See the caveats in the documentation: https://pandas.pydata.org/pandas-docs/stable/user_guide/indexing.html#returning-a-view-versus-a-copy\n",
      "  features_valid[numeric] = scaler.transform(features_valid[numeric]) # Преобразуем валидационную выборку функцией transform()\n",
      "/opt/conda/lib/python3.9/site-packages/pandas/core/indexing.py:1637: SettingWithCopyWarning: \n",
      "A value is trying to be set on a copy of a slice from a DataFrame\n",
      "\n",
      "See the caveats in the documentation: https://pandas.pydata.org/pandas-docs/stable/user_guide/indexing.html#returning-a-view-versus-a-copy\n",
      "  self._setitem_single_block(indexer, value, name)\n",
      "/opt/conda/lib/python3.9/site-packages/pandas/core/indexing.py:692: SettingWithCopyWarning: \n",
      "A value is trying to be set on a copy of a slice from a DataFrame\n",
      "\n",
      "See the caveats in the documentation: https://pandas.pydata.org/pandas-docs/stable/user_guide/indexing.html#returning-a-view-versus-a-copy\n",
      "  iloc._setitem_with_indexer(indexer, value, self.name)\n"
     ]
    }
   ],
   "source": [
    "features_train_0, features_valid_0 = scaling_signs(features_train_0, features_valid_0)"
   ]
  },
  {
   "cell_type": "code",
   "execution_count": 29,
   "metadata": {},
   "outputs": [],
   "source": [
    "features_train_1, features_valid_1 = scaling_signs(features_train_1, features_valid_1)"
   ]
  },
  {
   "cell_type": "code",
   "execution_count": 30,
   "metadata": {},
   "outputs": [],
   "source": [
    "features_train_2, features_valid_2 = scaling_signs(features_train_2, features_valid_2)"
   ]
  },
  {
   "cell_type": "code",
   "execution_count": 31,
   "metadata": {},
   "outputs": [],
   "source": [
    "def model_training(features_train, target_train, features_valid, target_valid, df):\n",
    "    model = LinearRegression()\n",
    "    model.fit(features_train, target_train) # обучаем модель\n",
    "    predicted_valid = model.predict(features_valid) # предсказываем и сохраняем в переменную\n",
    "\n",
    "    target_valid # правильные ответы для валидационной выборки \n",
    "    rmse = (mean_squared_error(target_valid, predicted_valid)) ** 0.5 # считаем rmse\n",
    "\n",
    "    return predicted_valid"
   ]
  },
  {
   "cell_type": "code",
   "execution_count": 32,
   "metadata": {},
   "outputs": [],
   "source": [
    "predicted_valid_0 = model_training(features_train_0, target_train_0, features_valid_0, target_valid_0, 'df_0')"
   ]
  },
  {
   "cell_type": "code",
   "execution_count": 33,
   "metadata": {
    "scrolled": true
   },
   "outputs": [
    {
     "data": {
      "text/plain": [
       "'Cредний запас предсказанного сырья для df_0: 92.55032321882531'"
      ]
     },
     "metadata": {},
     "output_type": "display_data"
    },
    {
     "data": {
      "text/plain": [
       "'RMSE для df_0: 37.71381030960315'"
      ]
     },
     "metadata": {},
     "output_type": "display_data"
    }
   ],
   "source": [
    "display(f'Cредний запас предсказанного сырья для df_0: {predicted_valid_0.mean()}')\n",
    "display(f'RMSE для df_0: {mean_squared_error(target_valid_0, predicted_valid_0) ** 0.5}') "
   ]
  },
  {
   "cell_type": "code",
   "execution_count": 34,
   "metadata": {},
   "outputs": [],
   "source": [
    "predicted_valid_1 = model_training(features_train_1, target_train_1, features_valid_1, target_valid_1, 'df_1')"
   ]
  },
  {
   "cell_type": "code",
   "execution_count": 35,
   "metadata": {},
   "outputs": [
    {
     "data": {
      "text/plain": [
       "'Cредний запас предсказанного сырья для df_1: 69.00041524920387'"
      ]
     },
     "metadata": {},
     "output_type": "display_data"
    },
    {
     "data": {
      "text/plain": [
       "'RMSE для df_1: 0.8917870911060644'"
      ]
     },
     "metadata": {},
     "output_type": "display_data"
    }
   ],
   "source": [
    "display(f'Cредний запас предсказанного сырья для df_1: {predicted_valid_1.mean()}')\n",
    "display(f'RMSE для df_1: {mean_squared_error(target_valid_1, predicted_valid_1) ** 0.5}') "
   ]
  },
  {
   "cell_type": "code",
   "execution_count": 36,
   "metadata": {
    "scrolled": true
   },
   "outputs": [],
   "source": [
    "predicted_valid_2 = model_training(features_train_2, target_train_2, features_valid_2, target_valid_2, 'df_2')"
   ]
  },
  {
   "cell_type": "code",
   "execution_count": 37,
   "metadata": {},
   "outputs": [
    {
     "data": {
      "text/plain": [
       "'Cредний запас предсказанного сырья для df_2: 94.90813348489972'"
      ]
     },
     "metadata": {},
     "output_type": "display_data"
    },
    {
     "data": {
      "text/plain": [
       "'RMSE для df_2: 40.211342245620976'"
      ]
     },
     "metadata": {},
     "output_type": "display_data"
    }
   ],
   "source": [
    "display(f'Cредний запас предсказанного сырья для df_2: {predicted_valid_2.mean()}')\n",
    "display(f'RMSE для df_2: {mean_squared_error(target_valid_2, predicted_valid_2) ** 0.5}') "
   ]
  },
  {
   "cell_type": "code",
   "execution_count": 38,
   "metadata": {},
   "outputs": [],
   "source": [
    "def rmse_on_random_model(target_train, df):                                          # RMSE на рандомной модели\n",
    "    predictions = pd.Series(target_train.mean(), index=target_train.index)\n",
    "    rmse = (mean_squared_error(target_train, predictions)) ** 0.5\n",
    "\n",
    "    return display(f'RMSE для {df}: {rmse}')"
   ]
  },
  {
   "cell_type": "code",
   "execution_count": 39,
   "metadata": {},
   "outputs": [
    {
     "data": {
      "text/plain": [
       "'RMSE для df_0: 44.28634389383188'"
      ]
     },
     "metadata": {},
     "output_type": "display_data"
    }
   ],
   "source": [
    "random_model_df_0 = rmse_on_random_model(target_train_0, 'df_0')"
   ]
  },
  {
   "cell_type": "code",
   "execution_count": 40,
   "metadata": {},
   "outputs": [
    {
     "data": {
      "text/plain": [
       "'RMSE для df_1: 45.950655877177255'"
      ]
     },
     "metadata": {},
     "output_type": "display_data"
    }
   ],
   "source": [
    "random_model_df_1 = rmse_on_random_model(target_train_1, 'df_1')"
   ]
  },
  {
   "cell_type": "code",
   "execution_count": 41,
   "metadata": {},
   "outputs": [
    {
     "data": {
      "text/plain": [
       "'RMSE для df_2: 44.72788288992564'"
      ]
     },
     "metadata": {},
     "output_type": "display_data"
    }
   ],
   "source": [
    "random_model_df_2 = rmse_on_random_model(target_train_2, 'df_2')"
   ]
  },
  {
   "cell_type": "markdown",
   "metadata": {},
   "source": [
    "Очень большие **RMSE** в 0 и 2 регионах, в 1 регионе ошибка намного меньше чем в двух других. На рандомных и нормальных моделя, показатели по **RMSE** примерно одинаковы, но показатель **RMSE** в нормальной модели в 1 регионе, всего **1.53**, намного лучше всех остальных."
   ]
  },
  {
   "cell_type": "markdown",
   "metadata": {},
   "source": [
    "## Подготовка к расчёту прибыли"
   ]
  },
  {
   "cell_type": "code",
   "execution_count": 42,
   "metadata": {},
   "outputs": [
    {
     "data": {
      "text/plain": [
       "111.11111111111111"
      ]
     },
     "execution_count": 42,
     "metadata": {},
     "output_type": "execute_result"
    }
   ],
   "source": [
    "BUDGET = 10 ** 10\n",
    "REVENUE_PER_UNIT_OF_PRODUCT = 450000\n",
    "NUMBER_WELLS = 200\n",
    "\n",
    "costs_per_1_well = BUDGET / NUMBER_WELLS # расходы на 1 скважину\n",
    "budget = costs_per_1_well / REVENUE_PER_UNIT_OF_PRODUCT # бюджет на 1 скважину (тыс. баррелей)\n",
    "budget"
   ]
  },
  {
   "cell_type": "markdown",
   "metadata": {},
   "source": [
    "Вывод только один, что среднее сильно отличается от расчётного бюджета на 1 скважину, особенно во 2 регионе"
   ]
  },
  {
   "cell_type": "code",
   "execution_count": 43,
   "metadata": {
    "scrolled": true
   },
   "outputs": [
    {
     "data": {
      "text/plain": [
       "92.55032321882531"
      ]
     },
     "execution_count": 43,
     "metadata": {},
     "output_type": "execute_result"
    }
   ],
   "source": [
    "predicted_valid_0.mean()"
   ]
  },
  {
   "cell_type": "code",
   "execution_count": 44,
   "metadata": {},
   "outputs": [
    {
     "data": {
      "text/plain": [
       "69.00041524920387"
      ]
     },
     "execution_count": 44,
     "metadata": {},
     "output_type": "execute_result"
    }
   ],
   "source": [
    "predicted_valid_1.mean()"
   ]
  },
  {
   "cell_type": "code",
   "execution_count": 45,
   "metadata": {
    "scrolled": true
   },
   "outputs": [
    {
     "data": {
      "text/plain": [
       "94.90813348489972"
      ]
     },
     "execution_count": 45,
     "metadata": {},
     "output_type": "execute_result"
    }
   ],
   "source": [
    "predicted_valid_2.mean()"
   ]
  },
  {
   "cell_type": "code",
   "execution_count": 46,
   "metadata": {},
   "outputs": [],
   "source": [
    "def profit_calculation(target_valid, predicted_valid):\n",
    "    predicted_valid = pd.Series(predicted_valid).nlargest(NUMBER_WELLS)  # выбираем 200 лучших скважин\n",
    "    result = target_valid.reset_index(drop=True)[predicted_valid.index]  # соотносим две таблицы по индексам\n",
    "    return (result * REVENUE_PER_UNIT_OF_PRODUCT).sum() - BUDGET  # суммируем и рассчитываем прибыль для полученного объёма сырья"
   ]
  },
  {
   "cell_type": "markdown",
   "metadata": {},
   "source": [
    "Функция, для подсчета прибыли "
   ]
  },
  {
   "cell_type": "markdown",
   "metadata": {},
   "source": [
    "## Расчёт прибыли и рисков "
   ]
  },
  {
   "cell_type": "code",
   "execution_count": 47,
   "metadata": {
    "scrolled": true
   },
   "outputs": [],
   "source": [
    "def bootstrap_one(target, predict, name_col, name_col_risk_of_losses):\n",
    "    state = np.random.RandomState(69)\n",
    "    values = []\n",
    "    bootstrap_samples = 1000\n",
    "    \n",
    "    for i in range(bootstrap_samples):\n",
    "        predict_subsample = pd.Series(predict).sample(500, replace=False, random_state=state)\n",
    "        values.append(profit_calculation(target, predict_subsample))\n",
    "    \n",
    "    values = pd.DataFrame(values, columns=[name_col])  # Делаем из списка DataFrame.\n",
    "    df_negative_values = values[values[name_col] < 0]  # Выбираем значения меньше 0.\n",
    "    df_positive_values = values.mean()  # Cчитаем среднее.\n",
    "        \n",
    "    lower = float(values.quantile(0.025))  \n",
    "    upper = float(values.quantile(0.975))  \n",
    "    \n",
    "    risk_of_losses = df_negative_values.count() / values.count() # Считаем риск убытков.\n",
    "    risk_of_losses = f'{float(risk_of_losses):.2%}'  # Переводим в проценты.\n",
    "    \n",
    "        \n",
    "    return (lower, upper, df_positive_values, risk_of_losses)"
   ]
  },
  {
   "cell_type": "code",
   "execution_count": 48,
   "metadata": {
    "scrolled": true
   },
   "outputs": [],
   "source": [
    "lower_0, upper_0, df_positive_values_0, risk_of_losses_0 = bootstrap_one(target_valid_0, predicted_valid_0, 'df_0', 'df_0')"
   ]
  },
  {
   "cell_type": "code",
   "execution_count": 49,
   "metadata": {},
   "outputs": [],
   "source": [
    "lower_1, upper_1, df_positive_values_1, risk_of_losses_1 = bootstrap_one(target_valid_1, predicted_valid_1, 'df_1', 'df_1')"
   ]
  },
  {
   "cell_type": "code",
   "execution_count": 50,
   "metadata": {},
   "outputs": [],
   "source": [
    "lower_2, upper_2, df_positive_values_2, risk_of_losses_2 = bootstrap_one(target_valid_2, predicted_valid_2, 'df_2', 'df_2')"
   ]
  },
  {
   "cell_type": "code",
   "execution_count": 51,
   "metadata": {
    "scrolled": true
   },
   "outputs": [
    {
     "data": {
      "text/html": [
       "<div>\n",
       "<style scoped>\n",
       "    .dataframe tbody tr th:only-of-type {\n",
       "        vertical-align: middle;\n",
       "    }\n",
       "\n",
       "    .dataframe tbody tr th {\n",
       "        vertical-align: top;\n",
       "    }\n",
       "\n",
       "    .dataframe thead th {\n",
       "        text-align: right;\n",
       "    }\n",
       "</style>\n",
       "<table border=\"1\" class=\"dataframe\">\n",
       "  <thead>\n",
       "    <tr style=\"text-align: right;\">\n",
       "      <th></th>\n",
       "      <th>df_0</th>\n",
       "      <th>df_1</th>\n",
       "      <th>df_2</th>\n",
       "    </tr>\n",
       "  </thead>\n",
       "  <tbody>\n",
       "    <tr>\n",
       "      <th>0.025</th>\n",
       "      <td>-8.800263e+07</td>\n",
       "      <td>8.851749e+07</td>\n",
       "      <td>-1.075670e+08</td>\n",
       "    </tr>\n",
       "    <tr>\n",
       "      <th>0.975</th>\n",
       "      <td>8.865179e+08</td>\n",
       "      <td>8.701408e+08</td>\n",
       "      <td>9.096743e+08</td>\n",
       "    </tr>\n",
       "  </tbody>\n",
       "</table>\n",
       "</div>"
      ],
      "text/plain": [
       "               df_0          df_1          df_2\n",
       "0.025 -8.800263e+07  8.851749e+07 -1.075670e+08\n",
       "0.975  8.865179e+08  8.701408e+08  9.096743e+08"
      ]
     },
     "execution_count": 51,
     "metadata": {},
     "output_type": "execute_result"
    }
   ],
   "source": [
    "preparation_quantile = {'df_0': [lower_0, upper_0], 'df_1': [lower_1, upper_1], 'df_2': [lower_2, upper_2]}\n",
    "pd.DataFrame(preparation_quantile, index=[\"0.025\", \"0.975\"])"
   ]
  },
  {
   "cell_type": "markdown",
   "metadata": {},
   "source": [
    "95%-й доверительный интервал трёх регионов"
   ]
  },
  {
   "cell_type": "code",
   "execution_count": 52,
   "metadata": {},
   "outputs": [
    {
     "data": {
      "text/html": [
       "<div>\n",
       "<style scoped>\n",
       "    .dataframe tbody tr th:only-of-type {\n",
       "        vertical-align: middle;\n",
       "    }\n",
       "\n",
       "    .dataframe tbody tr th {\n",
       "        vertical-align: top;\n",
       "    }\n",
       "\n",
       "    .dataframe thead th {\n",
       "        text-align: right;\n",
       "    }\n",
       "</style>\n",
       "<table border=\"1\" class=\"dataframe\">\n",
       "  <thead>\n",
       "    <tr style=\"text-align: right;\">\n",
       "      <th></th>\n",
       "      <th>df_0</th>\n",
       "      <th>df_1</th>\n",
       "      <th>df_2</th>\n",
       "    </tr>\n",
       "  </thead>\n",
       "  <tbody>\n",
       "    <tr>\n",
       "      <th>Риск убытков</th>\n",
       "      <td>6.20%</td>\n",
       "      <td>1.30%</td>\n",
       "      <td>5.30%</td>\n",
       "    </tr>\n",
       "  </tbody>\n",
       "</table>\n",
       "</div>"
      ],
      "text/plain": [
       "               df_0   df_1   df_2\n",
       "Риск убытков  6.20%  1.30%  5.30%"
      ]
     },
     "execution_count": 52,
     "metadata": {},
     "output_type": "execute_result"
    }
   ],
   "source": [
    "preparation_risk = {'df_0': [risk_of_losses_0], 'df_1': [risk_of_losses_1], 'df_2': [risk_of_losses_2]}\n",
    "pd.DataFrame(preparation_risk, index=[\"Риск убытков\"])"
   ]
  },
  {
   "cell_type": "markdown",
   "metadata": {},
   "source": [
    "Риски убытков по трём регионам"
   ]
  },
  {
   "cell_type": "code",
   "execution_count": 53,
   "metadata": {},
   "outputs": [
    {
     "data": {
      "text/html": [
       "<div>\n",
       "<style scoped>\n",
       "    .dataframe tbody tr th:only-of-type {\n",
       "        vertical-align: middle;\n",
       "    }\n",
       "\n",
       "    .dataframe tbody tr th {\n",
       "        vertical-align: top;\n",
       "    }\n",
       "\n",
       "    .dataframe thead th {\n",
       "        text-align: right;\n",
       "    }\n",
       "</style>\n",
       "<table border=\"1\" class=\"dataframe\">\n",
       "  <thead>\n",
       "    <tr style=\"text-align: right;\">\n",
       "      <th></th>\n",
       "      <th>Средняя прибыль</th>\n",
       "    </tr>\n",
       "  </thead>\n",
       "  <tbody>\n",
       "    <tr>\n",
       "      <th>df_0</th>\n",
       "      <td>3.776999e+08</td>\n",
       "    </tr>\n",
       "    <tr>\n",
       "      <th>df_1</th>\n",
       "      <td>4.728763e+08</td>\n",
       "    </tr>\n",
       "    <tr>\n",
       "      <th>df_2</th>\n",
       "      <td>4.037946e+08</td>\n",
       "    </tr>\n",
       "  </tbody>\n",
       "</table>\n",
       "</div>"
      ],
      "text/plain": [
       "      Средняя прибыль\n",
       "df_0     3.776999e+08\n",
       "df_1     4.728763e+08\n",
       "df_2     4.037946e+08"
      ]
     },
     "execution_count": 53,
     "metadata": {},
     "output_type": "execute_result"
    }
   ],
   "source": [
    "pd.concat([df_positive_values_0, df_positive_values_1, df_positive_values_2]).to_frame(name='Средняя прибыль')"
   ]
  },
  {
   "cell_type": "markdown",
   "metadata": {},
   "source": [
    "Средняя прибыль про трём регионам"
   ]
  },
  {
   "cell_type": "markdown",
   "metadata": {},
   "source": [
    "## Вывод"
   ]
  },
  {
   "cell_type": "markdown",
   "metadata": {},
   "source": [
    "В данном проекте работа велась над предсказанием прибыльности регионов, а так же скважин. В данной работе я сделал : \n",
    "- Разбил данные на обучающую и валидационную выборки в соотношении 75:25.\n",
    "- Обучил модель и сделайте предсказания на валидационной выборке.\n",
    "- Сохранил предсказания и правильные ответы на валидационной выборке.\n",
    "- Напечатал на экране средний запас предсказанного сырья и RMSE модели.\n",
    "\n",
    "Только RMSE для df_1: 0.8917870911060632 показал обнадеживающие результаты. Далее я :\n",
    "\n",
    "- Рассчитал достаточный объём сырья для безубыточной разработки новой скважины. Сравнил полученный объём сырья со средним запасом в каждом регионе.\n",
    "- Написал функцию для расчёта прибыли по выбранным скважинам и предсказаниям модели.\n",
    "\n",
    "\n",
    "- Посчитал риски и прибыль для каждого региона:\n",
    "\n",
    "- Применив технику Bootstrap с 1000 выборок, чтобы найти распределение прибыли.\n",
    "- Нашел среднюю прибыль, 95%-й доверительный интервал и риск убытков. \n",
    "\n",
    "Из всего, можно сделать вывод, что район под названием df_1, можно выбрать для разработки скважин, т к Средняя прибыль на нем наибольшая - 4.803535e+08, Риск убытков самый маленький - 1.30%."
   ]
  },
  {
   "cell_type": "code",
   "execution_count": null,
   "metadata": {},
   "outputs": [],
   "source": []
  }
 ],
 "metadata": {
  "ExecuteTimeLog": [
   {
    "duration": 499,
    "start_time": "2022-01-19T14:46:21.056Z"
   },
   {
    "duration": 316,
    "start_time": "2022-01-19T14:47:52.477Z"
   },
   {
    "duration": 14,
    "start_time": "2022-01-19T14:48:29.256Z"
   },
   {
    "duration": 9,
    "start_time": "2022-01-19T14:48:29.957Z"
   },
   {
    "duration": 10,
    "start_time": "2022-01-19T14:48:30.225Z"
   },
   {
    "duration": 10,
    "start_time": "2022-01-19T14:48:53.988Z"
   },
   {
    "duration": 7,
    "start_time": "2022-01-19T14:48:59.497Z"
   },
   {
    "duration": 9,
    "start_time": "2022-01-19T14:49:09.309Z"
   },
   {
    "duration": 8,
    "start_time": "2022-01-19T14:51:39.845Z"
   },
   {
    "duration": 7,
    "start_time": "2022-01-19T14:51:50.401Z"
   },
   {
    "duration": 2,
    "start_time": "2022-01-19T14:52:04.572Z"
   },
   {
    "duration": 321,
    "start_time": "2022-01-19T14:52:04.915Z"
   },
   {
    "duration": 8,
    "start_time": "2022-01-19T14:52:05.237Z"
   },
   {
    "duration": 7,
    "start_time": "2022-01-19T14:52:05.586Z"
   },
   {
    "duration": 630,
    "start_time": "2022-01-20T14:57:24.783Z"
   },
   {
    "duration": 403,
    "start_time": "2022-01-20T14:57:25.415Z"
   },
   {
    "duration": 16,
    "start_time": "2022-01-20T14:57:25.820Z"
   },
   {
    "duration": 71,
    "start_time": "2022-01-20T14:57:25.838Z"
   },
   {
    "duration": 70,
    "start_time": "2022-01-20T14:57:25.911Z"
   },
   {
    "duration": 353,
    "start_time": "2022-01-20T15:18:23.356Z"
   },
   {
    "duration": 263,
    "start_time": "2022-01-20T15:21:47.185Z"
   },
   {
    "duration": 12,
    "start_time": "2022-01-20T15:26:49.638Z"
   },
   {
    "duration": 12,
    "start_time": "2022-01-20T15:27:06.821Z"
   },
   {
    "duration": 11,
    "start_time": "2022-01-20T15:27:16.583Z"
   },
   {
    "duration": 45,
    "start_time": "2022-01-20T15:27:42.336Z"
   },
   {
    "duration": 40,
    "start_time": "2022-01-20T15:27:50.126Z"
   },
   {
    "duration": 44,
    "start_time": "2022-01-20T15:27:54.374Z"
   },
   {
    "duration": 291,
    "start_time": "2022-01-20T15:29:00.755Z"
   },
   {
    "duration": 314,
    "start_time": "2022-01-20T15:32:10.376Z"
   },
   {
    "duration": 6851,
    "start_time": "2022-01-20T15:32:40.804Z"
   },
   {
    "duration": 8106,
    "start_time": "2022-01-20T15:35:25.524Z"
   },
   {
    "duration": 6752,
    "start_time": "2022-01-20T15:36:00.326Z"
   },
   {
    "duration": 7878,
    "start_time": "2022-01-20T15:37:15.548Z"
   },
   {
    "duration": 2,
    "start_time": "2022-01-20T15:37:26.149Z"
   },
   {
    "duration": 420,
    "start_time": "2022-01-20T15:37:26.153Z"
   },
   {
    "duration": 9,
    "start_time": "2022-01-20T15:37:26.576Z"
   },
   {
    "duration": 33,
    "start_time": "2022-01-20T15:37:26.587Z"
   },
   {
    "duration": 23,
    "start_time": "2022-01-20T15:37:26.622Z"
   },
   {
    "duration": 40,
    "start_time": "2022-01-20T15:37:26.647Z"
   },
   {
    "duration": 28,
    "start_time": "2022-01-20T15:37:26.689Z"
   },
   {
    "duration": 37,
    "start_time": "2022-01-20T15:37:26.719Z"
   },
   {
    "duration": 55,
    "start_time": "2022-01-20T15:37:26.759Z"
   },
   {
    "duration": 36,
    "start_time": "2022-01-20T15:37:26.816Z"
   },
   {
    "duration": 40,
    "start_time": "2022-01-20T15:37:26.853Z"
   },
   {
    "duration": 7015,
    "start_time": "2022-01-20T15:37:26.895Z"
   },
   {
    "duration": 2,
    "start_time": "2022-01-20T15:38:21.901Z"
   },
   {
    "duration": 7252,
    "start_time": "2022-01-20T15:38:36.071Z"
   },
   {
    "duration": 6788,
    "start_time": "2022-01-20T15:40:07.030Z"
   },
   {
    "duration": 6914,
    "start_time": "2022-01-20T15:40:46.958Z"
   },
   {
    "duration": 7665,
    "start_time": "2022-01-20T15:41:02.199Z"
   },
   {
    "duration": 4,
    "start_time": "2022-01-20T15:41:48.290Z"
   },
   {
    "duration": 13,
    "start_time": "2022-01-20T15:42:01.475Z"
   },
   {
    "duration": 6948,
    "start_time": "2022-01-20T15:43:06.314Z"
   },
   {
    "duration": 2,
    "start_time": "2022-01-20T15:43:27.382Z"
   },
   {
    "duration": 14,
    "start_time": "2022-01-20T15:44:23.333Z"
   },
   {
    "duration": 7,
    "start_time": "2022-01-20T15:45:03.808Z"
   },
   {
    "duration": 8,
    "start_time": "2022-01-20T15:45:04.288Z"
   },
   {
    "duration": 15,
    "start_time": "2022-01-20T15:45:05.985Z"
   },
   {
    "duration": 7,
    "start_time": "2022-01-20T15:45:09.679Z"
   },
   {
    "duration": 13,
    "start_time": "2022-01-20T15:45:39.170Z"
   },
   {
    "duration": 13,
    "start_time": "2022-01-20T15:45:39.880Z"
   },
   {
    "duration": 11,
    "start_time": "2022-01-20T15:45:40.200Z"
   },
   {
    "duration": 13,
    "start_time": "2022-01-20T16:01:55.772Z"
   },
   {
    "duration": 12,
    "start_time": "2022-01-20T16:01:57.314Z"
   },
   {
    "duration": 11,
    "start_time": "2022-01-20T16:01:57.521Z"
   },
   {
    "duration": 475,
    "start_time": "2022-01-20T16:08:49.655Z"
   },
   {
    "duration": 348,
    "start_time": "2022-01-20T16:15:26.060Z"
   },
   {
    "duration": 10,
    "start_time": "2022-01-20T16:15:37.954Z"
   },
   {
    "duration": 12,
    "start_time": "2022-01-20T16:15:59.424Z"
   },
   {
    "duration": 11,
    "start_time": "2022-01-20T16:16:00.733Z"
   },
   {
    "duration": 7288,
    "start_time": "2022-01-20T16:38:34.599Z"
   },
   {
    "duration": 8236,
    "start_time": "2022-01-20T16:38:58.079Z"
   },
   {
    "duration": 3,
    "start_time": "2022-01-20T16:40:34.659Z"
   },
   {
    "duration": 413,
    "start_time": "2022-01-20T16:40:34.664Z"
   },
   {
    "duration": 10,
    "start_time": "2022-01-20T16:40:35.080Z"
   },
   {
    "duration": 29,
    "start_time": "2022-01-20T16:40:35.092Z"
   },
   {
    "duration": 41,
    "start_time": "2022-01-20T16:40:35.123Z"
   },
   {
    "duration": 39,
    "start_time": "2022-01-20T16:40:35.167Z"
   },
   {
    "duration": 46,
    "start_time": "2022-01-20T16:40:35.208Z"
   },
   {
    "duration": 40,
    "start_time": "2022-01-20T16:40:35.256Z"
   },
   {
    "duration": 87,
    "start_time": "2022-01-20T16:40:35.298Z"
   },
   {
    "duration": 302,
    "start_time": "2022-01-20T16:40:35.388Z"
   },
   {
    "duration": -1288,
    "start_time": "2022-01-20T16:40:36.979Z"
   },
   {
    "duration": -1288,
    "start_time": "2022-01-20T16:40:36.980Z"
   },
   {
    "duration": -1288,
    "start_time": "2022-01-20T16:40:36.981Z"
   },
   {
    "duration": -1289,
    "start_time": "2022-01-20T16:40:36.983Z"
   },
   {
    "duration": -1291,
    "start_time": "2022-01-20T16:40:36.987Z"
   },
   {
    "duration": -1292,
    "start_time": "2022-01-20T16:40:36.988Z"
   },
   {
    "duration": -1292,
    "start_time": "2022-01-20T16:40:36.989Z"
   },
   {
    "duration": -1292,
    "start_time": "2022-01-20T16:40:36.990Z"
   },
   {
    "duration": -1295,
    "start_time": "2022-01-20T16:40:36.994Z"
   },
   {
    "duration": -1296,
    "start_time": "2022-01-20T16:40:36.996Z"
   },
   {
    "duration": -1296,
    "start_time": "2022-01-20T16:40:36.997Z"
   },
   {
    "duration": 69,
    "start_time": "2022-01-20T16:40:44.912Z"
   },
   {
    "duration": 14,
    "start_time": "2022-01-20T16:42:19.154Z"
   },
   {
    "duration": 15,
    "start_time": "2022-01-20T16:42:47.389Z"
   },
   {
    "duration": 16,
    "start_time": "2022-01-20T16:44:00.136Z"
   },
   {
    "duration": 58,
    "start_time": "2022-01-20T16:51:03.356Z"
   },
   {
    "duration": 53,
    "start_time": "2022-01-20T16:51:34.660Z"
   },
   {
    "duration": 49,
    "start_time": "2022-01-20T16:51:40.277Z"
   },
   {
    "duration": 3,
    "start_time": "2022-01-20T17:01:36.737Z"
   },
   {
    "duration": 411,
    "start_time": "2022-01-20T17:01:36.742Z"
   },
   {
    "duration": 13,
    "start_time": "2022-01-20T17:01:37.156Z"
   },
   {
    "duration": 9,
    "start_time": "2022-01-20T17:01:37.172Z"
   },
   {
    "duration": 13,
    "start_time": "2022-01-20T17:01:37.182Z"
   },
   {
    "duration": 10,
    "start_time": "2022-01-20T17:01:37.197Z"
   },
   {
    "duration": 53,
    "start_time": "2022-01-20T17:01:37.209Z"
   },
   {
    "duration": 9,
    "start_time": "2022-01-20T17:01:37.265Z"
   },
   {
    "duration": 48,
    "start_time": "2022-01-20T17:01:37.276Z"
   },
   {
    "duration": 79,
    "start_time": "2022-01-20T17:01:37.326Z"
   },
   {
    "duration": 33,
    "start_time": "2022-01-20T17:01:37.407Z"
   },
   {
    "duration": 60,
    "start_time": "2022-01-20T17:01:37.442Z"
   },
   {
    "duration": 47,
    "start_time": "2022-01-20T17:01:37.503Z"
   },
   {
    "duration": 26,
    "start_time": "2022-01-20T17:01:37.551Z"
   },
   {
    "duration": 40,
    "start_time": "2022-01-20T17:01:37.579Z"
   },
   {
    "duration": 39,
    "start_time": "2022-01-20T17:01:37.621Z"
   },
   {
    "duration": 26,
    "start_time": "2022-01-20T17:01:37.662Z"
   },
   {
    "duration": 24,
    "start_time": "2022-01-20T17:01:37.690Z"
   },
   {
    "duration": 57,
    "start_time": "2022-01-20T17:01:37.717Z"
   },
   {
    "duration": 14,
    "start_time": "2022-01-20T17:01:37.776Z"
   },
   {
    "duration": 26,
    "start_time": "2022-01-20T17:01:37.792Z"
   },
   {
    "duration": 18,
    "start_time": "2022-01-20T17:01:37.819Z"
   },
   {
    "duration": 3,
    "start_time": "2022-01-20T17:20:13.931Z"
   },
   {
    "duration": 644,
    "start_time": "2022-01-20T17:26:58.805Z"
   },
   {
    "duration": 6,
    "start_time": "2022-01-20T17:27:54.441Z"
   },
   {
    "duration": 6,
    "start_time": "2022-01-20T17:28:28.210Z"
   },
   {
    "duration": 5,
    "start_time": "2022-01-20T17:28:28.490Z"
   },
   {
    "duration": 6,
    "start_time": "2022-01-20T17:28:28.743Z"
   },
   {
    "duration": 15,
    "start_time": "2022-01-20T17:31:22.501Z"
   },
   {
    "duration": 16,
    "start_time": "2022-01-20T17:31:22.776Z"
   },
   {
    "duration": 17,
    "start_time": "2022-01-20T17:31:23.030Z"
   },
   {
    "duration": 315,
    "start_time": "2022-01-20T17:39:05.731Z"
   },
   {
    "duration": 321,
    "start_time": "2022-01-20T17:39:14.311Z"
   },
   {
    "duration": 3,
    "start_time": "2022-01-20T17:39:39.028Z"
   },
   {
    "duration": 15,
    "start_time": "2022-01-20T17:39:45.554Z"
   },
   {
    "duration": 73,
    "start_time": "2022-01-20T17:39:46.588Z"
   },
   {
    "duration": 11,
    "start_time": "2022-01-20T17:39:47.359Z"
   },
   {
    "duration": 3,
    "start_time": "2022-01-20T18:06:07.740Z"
   },
   {
    "duration": 17,
    "start_time": "2022-01-20T18:09:33.984Z"
   },
   {
    "duration": 3,
    "start_time": "2022-01-20T18:09:38.321Z"
   },
   {
    "duration": 282,
    "start_time": "2022-01-20T18:10:00.104Z"
   },
   {
    "duration": 27,
    "start_time": "2022-01-20T18:10:10.539Z"
   },
   {
    "duration": 25,
    "start_time": "2022-01-20T18:10:34.713Z"
   },
   {
    "duration": 3,
    "start_time": "2022-01-20T18:11:53.331Z"
   },
   {
    "duration": 385,
    "start_time": "2022-01-20T18:11:53.336Z"
   },
   {
    "duration": 11,
    "start_time": "2022-01-20T18:11:53.724Z"
   },
   {
    "duration": 32,
    "start_time": "2022-01-20T18:11:53.737Z"
   },
   {
    "duration": 26,
    "start_time": "2022-01-20T18:11:53.771Z"
   },
   {
    "duration": 22,
    "start_time": "2022-01-20T18:11:53.799Z"
   },
   {
    "duration": 52,
    "start_time": "2022-01-20T18:11:53.823Z"
   },
   {
    "duration": 30,
    "start_time": "2022-01-20T18:11:53.877Z"
   },
   {
    "duration": 61,
    "start_time": "2022-01-20T18:11:53.910Z"
   },
   {
    "duration": 53,
    "start_time": "2022-01-20T18:11:53.974Z"
   },
   {
    "duration": 43,
    "start_time": "2022-01-20T18:11:54.029Z"
   },
   {
    "duration": 72,
    "start_time": "2022-01-20T18:11:54.074Z"
   },
   {
    "duration": 38,
    "start_time": "2022-01-20T18:11:54.148Z"
   },
   {
    "duration": 15,
    "start_time": "2022-01-20T18:11:54.189Z"
   },
   {
    "duration": 14,
    "start_time": "2022-01-20T18:11:54.205Z"
   },
   {
    "duration": 46,
    "start_time": "2022-01-20T18:11:54.222Z"
   },
   {
    "duration": 13,
    "start_time": "2022-01-20T18:11:54.270Z"
   },
   {
    "duration": 14,
    "start_time": "2022-01-20T18:11:54.285Z"
   },
   {
    "duration": 11,
    "start_time": "2022-01-20T18:11:54.301Z"
   },
   {
    "duration": 9,
    "start_time": "2022-01-20T18:11:54.314Z"
   },
   {
    "duration": 10,
    "start_time": "2022-01-20T18:11:54.360Z"
   },
   {
    "duration": 13,
    "start_time": "2022-01-20T18:11:54.372Z"
   },
   {
    "duration": 11,
    "start_time": "2022-01-20T18:11:54.387Z"
   },
   {
    "duration": 9,
    "start_time": "2022-01-20T18:11:54.400Z"
   },
   {
    "duration": 8,
    "start_time": "2022-01-20T18:11:54.410Z"
   },
   {
    "duration": 41,
    "start_time": "2022-01-20T18:11:54.420Z"
   },
   {
    "duration": 13,
    "start_time": "2022-01-20T18:11:54.464Z"
   },
   {
    "duration": 13,
    "start_time": "2022-01-20T18:11:54.479Z"
   },
   {
    "duration": 24,
    "start_time": "2022-01-20T18:11:54.494Z"
   },
   {
    "duration": 51,
    "start_time": "2022-01-20T18:11:54.519Z"
   },
   {
    "duration": 101,
    "start_time": "2022-01-20T18:11:54.662Z"
   },
   {
    "duration": 102,
    "start_time": "2022-01-20T18:11:54.766Z"
   },
   {
    "duration": 24,
    "start_time": "2022-01-20T18:12:27.871Z"
   },
   {
    "duration": 3,
    "start_time": "2022-01-20T18:21:31.222Z"
   },
   {
    "duration": 383,
    "start_time": "2022-01-20T18:21:31.227Z"
   },
   {
    "duration": 12,
    "start_time": "2022-01-20T18:21:31.612Z"
   },
   {
    "duration": 9,
    "start_time": "2022-01-20T18:21:31.626Z"
   },
   {
    "duration": 32,
    "start_time": "2022-01-20T18:21:31.637Z"
   },
   {
    "duration": 10,
    "start_time": "2022-01-20T18:21:31.671Z"
   },
   {
    "duration": 14,
    "start_time": "2022-01-20T18:21:31.683Z"
   },
   {
    "duration": 9,
    "start_time": "2022-01-20T18:21:31.699Z"
   },
   {
    "duration": 76,
    "start_time": "2022-01-20T18:21:31.711Z"
   },
   {
    "duration": 54,
    "start_time": "2022-01-20T18:21:31.790Z"
   },
   {
    "duration": 15,
    "start_time": "2022-01-20T18:21:31.861Z"
   },
   {
    "duration": 53,
    "start_time": "2022-01-20T18:21:31.877Z"
   },
   {
    "duration": 45,
    "start_time": "2022-01-20T18:21:31.932Z"
   },
   {
    "duration": 11,
    "start_time": "2022-01-20T18:21:31.979Z"
   },
   {
    "duration": 30,
    "start_time": "2022-01-20T18:21:31.992Z"
   },
   {
    "duration": 30,
    "start_time": "2022-01-20T18:21:32.023Z"
   },
   {
    "duration": 21,
    "start_time": "2022-01-20T18:21:32.055Z"
   },
   {
    "duration": 21,
    "start_time": "2022-01-20T18:21:32.078Z"
   },
   {
    "duration": 37,
    "start_time": "2022-01-20T18:21:32.101Z"
   },
   {
    "duration": 34,
    "start_time": "2022-01-20T18:21:32.140Z"
   },
   {
    "duration": 25,
    "start_time": "2022-01-20T18:21:32.176Z"
   },
   {
    "duration": 29,
    "start_time": "2022-01-20T18:21:32.203Z"
   },
   {
    "duration": 21,
    "start_time": "2022-01-20T18:21:32.233Z"
   },
   {
    "duration": 14,
    "start_time": "2022-01-20T18:21:32.256Z"
   },
   {
    "duration": 20,
    "start_time": "2022-01-20T18:21:32.271Z"
   },
   {
    "duration": 19,
    "start_time": "2022-01-20T18:21:32.293Z"
   },
   {
    "duration": 13,
    "start_time": "2022-01-20T18:21:32.315Z"
   },
   {
    "duration": 12,
    "start_time": "2022-01-20T18:21:32.330Z"
   },
   {
    "duration": 11,
    "start_time": "2022-01-20T18:21:32.344Z"
   },
   {
    "duration": 24,
    "start_time": "2022-01-20T18:21:32.357Z"
   },
   {
    "duration": 80,
    "start_time": "2022-01-20T18:21:32.383Z"
   },
   {
    "duration": 108,
    "start_time": "2022-01-20T18:21:32.465Z"
   },
   {
    "duration": 96,
    "start_time": "2022-01-20T18:21:32.580Z"
   },
   {
    "duration": 16,
    "start_time": "2022-01-20T18:24:22.531Z"
   },
   {
    "duration": 4,
    "start_time": "2022-01-20T18:26:04.793Z"
   },
   {
    "duration": 482,
    "start_time": "2022-01-20T18:26:04.799Z"
   },
   {
    "duration": 16,
    "start_time": "2022-01-20T18:26:05.284Z"
   },
   {
    "duration": 44,
    "start_time": "2022-01-20T18:26:05.302Z"
   },
   {
    "duration": 44,
    "start_time": "2022-01-20T18:26:05.348Z"
   },
   {
    "duration": 31,
    "start_time": "2022-01-20T18:26:05.394Z"
   },
   {
    "duration": 43,
    "start_time": "2022-01-20T18:26:05.427Z"
   },
   {
    "duration": 34,
    "start_time": "2022-01-20T18:26:05.472Z"
   },
   {
    "duration": 54,
    "start_time": "2022-01-20T18:26:05.508Z"
   },
   {
    "duration": 52,
    "start_time": "2022-01-20T18:26:05.564Z"
   },
   {
    "duration": 28,
    "start_time": "2022-01-20T18:26:05.618Z"
   },
   {
    "duration": 71,
    "start_time": "2022-01-20T18:26:05.648Z"
   },
   {
    "duration": 40,
    "start_time": "2022-01-20T18:26:05.721Z"
   },
   {
    "duration": 12,
    "start_time": "2022-01-20T18:26:05.762Z"
   },
   {
    "duration": 22,
    "start_time": "2022-01-20T18:26:05.776Z"
   },
   {
    "duration": 50,
    "start_time": "2022-01-20T18:26:05.800Z"
   },
   {
    "duration": 55,
    "start_time": "2022-01-20T18:26:05.852Z"
   },
   {
    "duration": 24,
    "start_time": "2022-01-20T18:26:05.908Z"
   },
   {
    "duration": 42,
    "start_time": "2022-01-20T18:26:05.934Z"
   },
   {
    "duration": 40,
    "start_time": "2022-01-20T18:26:05.978Z"
   },
   {
    "duration": 67,
    "start_time": "2022-01-20T18:26:06.019Z"
   },
   {
    "duration": 40,
    "start_time": "2022-01-20T18:26:06.089Z"
   },
   {
    "duration": 43,
    "start_time": "2022-01-20T18:26:06.134Z"
   },
   {
    "duration": 50,
    "start_time": "2022-01-20T18:26:06.180Z"
   },
   {
    "duration": 39,
    "start_time": "2022-01-20T18:26:06.232Z"
   },
   {
    "duration": 48,
    "start_time": "2022-01-20T18:26:06.272Z"
   },
   {
    "duration": 50,
    "start_time": "2022-01-20T18:26:06.322Z"
   },
   {
    "duration": 29,
    "start_time": "2022-01-20T18:26:06.374Z"
   },
   {
    "duration": 31,
    "start_time": "2022-01-20T18:26:06.404Z"
   },
   {
    "duration": 39,
    "start_time": "2022-01-20T18:26:06.437Z"
   },
   {
    "duration": 39,
    "start_time": "2022-01-20T18:26:06.478Z"
   },
   {
    "duration": 51,
    "start_time": "2022-01-20T18:26:06.519Z"
   },
   {
    "duration": 190,
    "start_time": "2022-01-20T18:26:06.573Z"
   },
   {
    "duration": 201,
    "start_time": "2022-01-20T18:26:06.765Z"
   },
   {
    "duration": 20,
    "start_time": "2022-01-20T18:29:48.471Z"
   },
   {
    "duration": 5,
    "start_time": "2022-01-20T18:37:22.610Z"
   },
   {
    "duration": 42,
    "start_time": "2022-01-20T18:41:32.120Z"
   },
   {
    "duration": 86,
    "start_time": "2022-01-20T18:42:09.781Z"
   },
   {
    "duration": 14,
    "start_time": "2022-01-20T18:42:15.089Z"
   },
   {
    "duration": 14,
    "start_time": "2022-01-20T18:42:20.122Z"
   },
   {
    "duration": 13,
    "start_time": "2022-01-20T18:42:27.315Z"
   },
   {
    "duration": 16,
    "start_time": "2022-01-20T18:42:33.172Z"
   },
   {
    "duration": 15,
    "start_time": "2022-01-20T18:43:15.754Z"
   },
   {
    "duration": 18,
    "start_time": "2022-01-20T18:43:29.668Z"
   },
   {
    "duration": 22,
    "start_time": "2022-01-20T18:43:36.362Z"
   },
   {
    "duration": 15,
    "start_time": "2022-01-20T18:43:47.233Z"
   },
   {
    "duration": 17,
    "start_time": "2022-01-20T18:43:51.864Z"
   },
   {
    "duration": 16,
    "start_time": "2022-01-20T18:44:19.025Z"
   },
   {
    "duration": 16,
    "start_time": "2022-01-20T18:44:34.009Z"
   },
   {
    "duration": 3,
    "start_time": "2022-01-20T18:49:58.146Z"
   },
   {
    "duration": 410,
    "start_time": "2022-01-20T18:49:58.151Z"
   },
   {
    "duration": 11,
    "start_time": "2022-01-20T18:49:58.563Z"
   },
   {
    "duration": 34,
    "start_time": "2022-01-20T18:49:58.576Z"
   },
   {
    "duration": 48,
    "start_time": "2022-01-20T18:49:58.612Z"
   },
   {
    "duration": 21,
    "start_time": "2022-01-20T18:49:58.662Z"
   },
   {
    "duration": 49,
    "start_time": "2022-01-20T18:49:58.685Z"
   },
   {
    "duration": 35,
    "start_time": "2022-01-20T18:49:58.736Z"
   },
   {
    "duration": 74,
    "start_time": "2022-01-20T18:49:58.773Z"
   },
   {
    "duration": 50,
    "start_time": "2022-01-20T18:49:58.849Z"
   },
   {
    "duration": 37,
    "start_time": "2022-01-20T18:49:58.900Z"
   },
   {
    "duration": 59,
    "start_time": "2022-01-20T18:49:58.939Z"
   },
   {
    "duration": 36,
    "start_time": "2022-01-20T18:49:58.999Z"
   },
   {
    "duration": 26,
    "start_time": "2022-01-20T18:49:59.036Z"
   },
   {
    "duration": 15,
    "start_time": "2022-01-20T18:49:59.063Z"
   },
   {
    "duration": 34,
    "start_time": "2022-01-20T18:49:59.079Z"
   },
   {
    "duration": 31,
    "start_time": "2022-01-20T18:49:59.115Z"
   },
   {
    "duration": 22,
    "start_time": "2022-01-20T18:49:59.148Z"
   },
   {
    "duration": 29,
    "start_time": "2022-01-20T18:49:59.171Z"
   },
   {
    "duration": 35,
    "start_time": "2022-01-20T18:49:59.202Z"
   },
   {
    "duration": 39,
    "start_time": "2022-01-20T18:49:59.239Z"
   },
   {
    "duration": 40,
    "start_time": "2022-01-20T18:49:59.280Z"
   },
   {
    "duration": 40,
    "start_time": "2022-01-20T18:49:59.323Z"
   },
   {
    "duration": 64,
    "start_time": "2022-01-20T18:49:59.365Z"
   },
   {
    "duration": 38,
    "start_time": "2022-01-20T18:49:59.431Z"
   },
   {
    "duration": 49,
    "start_time": "2022-01-20T18:49:59.471Z"
   },
   {
    "duration": 47,
    "start_time": "2022-01-20T18:49:59.522Z"
   },
   {
    "duration": 55,
    "start_time": "2022-01-20T18:49:59.571Z"
   },
   {
    "duration": 54,
    "start_time": "2022-01-20T18:49:59.627Z"
   },
   {
    "duration": 38,
    "start_time": "2022-01-20T18:49:59.683Z"
   },
   {
    "duration": 36,
    "start_time": "2022-01-20T18:49:59.723Z"
   },
   {
    "duration": 100,
    "start_time": "2022-01-20T18:49:59.761Z"
   },
   {
    "duration": 124,
    "start_time": "2022-01-20T18:49:59.863Z"
   },
   {
    "duration": 213,
    "start_time": "2022-01-20T18:49:59.989Z"
   },
   {
    "duration": 6,
    "start_time": "2022-01-20T19:06:56.669Z"
   },
   {
    "duration": 7,
    "start_time": "2022-01-20T19:07:02.284Z"
   },
   {
    "duration": 7,
    "start_time": "2022-01-20T19:08:28.524Z"
   },
   {
    "duration": 7,
    "start_time": "2022-01-20T19:09:22.627Z"
   },
   {
    "duration": 79,
    "start_time": "2022-01-20T19:09:24.381Z"
   },
   {
    "duration": 7,
    "start_time": "2022-01-20T19:09:25.123Z"
   },
   {
    "duration": 7,
    "start_time": "2022-01-20T19:10:14.884Z"
   },
   {
    "duration": 6,
    "start_time": "2022-01-20T19:10:37.409Z"
   },
   {
    "duration": 3,
    "start_time": "2022-01-20T19:10:48.480Z"
   },
   {
    "duration": 392,
    "start_time": "2022-01-20T19:10:48.485Z"
   },
   {
    "duration": 11,
    "start_time": "2022-01-20T19:10:48.879Z"
   },
   {
    "duration": 9,
    "start_time": "2022-01-20T19:10:48.892Z"
   },
   {
    "duration": 14,
    "start_time": "2022-01-20T19:10:48.903Z"
   },
   {
    "duration": 10,
    "start_time": "2022-01-20T19:10:48.919Z"
   },
   {
    "duration": 39,
    "start_time": "2022-01-20T19:10:48.931Z"
   },
   {
    "duration": 8,
    "start_time": "2022-01-20T19:10:48.972Z"
   },
   {
    "duration": 47,
    "start_time": "2022-01-20T19:10:48.982Z"
   },
   {
    "duration": 70,
    "start_time": "2022-01-20T19:10:49.032Z"
   },
   {
    "duration": 25,
    "start_time": "2022-01-20T19:10:49.104Z"
   },
   {
    "duration": 48,
    "start_time": "2022-01-20T19:10:49.131Z"
   },
   {
    "duration": 37,
    "start_time": "2022-01-20T19:10:49.181Z"
   },
   {
    "duration": 11,
    "start_time": "2022-01-20T19:10:49.220Z"
   },
   {
    "duration": 37,
    "start_time": "2022-01-20T19:10:49.233Z"
   },
   {
    "duration": 22,
    "start_time": "2022-01-20T19:10:49.273Z"
   },
   {
    "duration": 11,
    "start_time": "2022-01-20T19:10:49.297Z"
   },
   {
    "duration": 10,
    "start_time": "2022-01-20T19:10:49.309Z"
   },
   {
    "duration": 41,
    "start_time": "2022-01-20T19:10:49.321Z"
   },
   {
    "duration": 9,
    "start_time": "2022-01-20T19:10:49.364Z"
   },
   {
    "duration": 91,
    "start_time": "2022-01-20T19:10:49.375Z"
   },
   {
    "duration": 14,
    "start_time": "2022-01-20T19:10:49.468Z"
   },
   {
    "duration": 30,
    "start_time": "2022-01-20T19:10:49.484Z"
   },
   {
    "duration": 22,
    "start_time": "2022-01-20T19:10:49.516Z"
   },
   {
    "duration": 32,
    "start_time": "2022-01-20T19:10:49.540Z"
   },
   {
    "duration": 31,
    "start_time": "2022-01-20T19:10:49.574Z"
   },
   {
    "duration": 16,
    "start_time": "2022-01-20T19:10:49.609Z"
   },
   {
    "duration": 18,
    "start_time": "2022-01-20T19:10:49.628Z"
   },
   {
    "duration": 48,
    "start_time": "2022-01-20T19:10:49.648Z"
   },
   {
    "duration": 18,
    "start_time": "2022-01-20T19:10:49.698Z"
   },
   {
    "duration": 26,
    "start_time": "2022-01-20T19:10:49.718Z"
   },
   {
    "duration": 115,
    "start_time": "2022-01-20T19:10:49.746Z"
   },
   {
    "duration": 99,
    "start_time": "2022-01-20T19:10:49.863Z"
   },
   {
    "duration": 17,
    "start_time": "2022-01-20T19:10:49.963Z"
   },
   {
    "duration": 184,
    "start_time": "2022-01-20T19:10:49.982Z"
   },
   {
    "duration": 18,
    "start_time": "2022-01-20T19:10:50.168Z"
   },
   {
    "duration": 103,
    "start_time": "2022-01-20T19:10:50.262Z"
   },
   {
    "duration": 995,
    "start_time": "2022-01-22T07:17:33.477Z"
   },
   {
    "duration": 350,
    "start_time": "2022-01-22T07:17:34.473Z"
   },
   {
    "duration": 12,
    "start_time": "2022-01-22T07:17:34.826Z"
   },
   {
    "duration": 15,
    "start_time": "2022-01-22T07:17:34.840Z"
   },
   {
    "duration": 24,
    "start_time": "2022-01-22T07:17:34.856Z"
   },
   {
    "duration": 8,
    "start_time": "2022-01-22T07:17:34.882Z"
   },
   {
    "duration": 11,
    "start_time": "2022-01-22T07:17:34.892Z"
   },
   {
    "duration": 8,
    "start_time": "2022-01-22T07:17:34.904Z"
   },
   {
    "duration": 70,
    "start_time": "2022-01-22T07:17:34.915Z"
   },
   {
    "duration": 50,
    "start_time": "2022-01-22T07:17:34.987Z"
   },
   {
    "duration": 14,
    "start_time": "2022-01-22T07:17:35.038Z"
   },
   {
    "duration": 54,
    "start_time": "2022-01-22T07:17:35.053Z"
   },
   {
    "duration": 35,
    "start_time": "2022-01-22T07:17:35.108Z"
   },
   {
    "duration": 27,
    "start_time": "2022-01-22T07:17:35.145Z"
   },
   {
    "duration": 11,
    "start_time": "2022-01-22T07:17:35.174Z"
   },
   {
    "duration": 10,
    "start_time": "2022-01-22T07:17:35.186Z"
   },
   {
    "duration": 10,
    "start_time": "2022-01-22T07:17:35.198Z"
   },
   {
    "duration": 8,
    "start_time": "2022-01-22T07:17:35.210Z"
   },
   {
    "duration": 9,
    "start_time": "2022-01-22T07:17:35.220Z"
   },
   {
    "duration": 47,
    "start_time": "2022-01-22T07:17:35.230Z"
   },
   {
    "duration": 11,
    "start_time": "2022-01-22T07:17:35.278Z"
   },
   {
    "duration": 16,
    "start_time": "2022-01-22T07:17:35.291Z"
   },
   {
    "duration": 5,
    "start_time": "2022-01-22T07:17:35.308Z"
   },
   {
    "duration": 9,
    "start_time": "2022-01-22T07:17:35.314Z"
   },
   {
    "duration": 6,
    "start_time": "2022-01-22T07:17:35.325Z"
   },
   {
    "duration": 17,
    "start_time": "2022-01-22T07:17:35.333Z"
   },
   {
    "duration": 31,
    "start_time": "2022-01-22T07:17:35.353Z"
   },
   {
    "duration": 15,
    "start_time": "2022-01-22T07:17:35.386Z"
   },
   {
    "duration": 27,
    "start_time": "2022-01-22T07:17:35.403Z"
   },
   {
    "duration": 51,
    "start_time": "2022-01-22T07:17:35.432Z"
   },
   {
    "duration": 15,
    "start_time": "2022-01-22T07:17:35.485Z"
   },
   {
    "duration": 73,
    "start_time": "2022-01-22T07:17:35.502Z"
   },
   {
    "duration": 97,
    "start_time": "2022-01-22T07:17:35.576Z"
   },
   {
    "duration": 100,
    "start_time": "2022-01-22T07:17:35.674Z"
   },
   {
    "duration": 97,
    "start_time": "2022-01-22T07:17:35.776Z"
   },
   {
    "duration": 13,
    "start_time": "2022-01-22T07:17:35.875Z"
   },
   {
    "duration": 83,
    "start_time": "2022-01-22T07:17:35.891Z"
   },
   {
    "duration": 3,
    "start_time": "2022-01-22T08:03:17.762Z"
   },
   {
    "duration": 767,
    "start_time": "2022-01-22T08:19:50.995Z"
   },
   {
    "duration": 3,
    "start_time": "2022-01-22T08:20:03.931Z"
   },
   {
    "duration": 309,
    "start_time": "2022-01-22T08:46:51.151Z"
   },
   {
    "duration": 2,
    "start_time": "2022-01-22T08:47:07.765Z"
   },
   {
    "duration": 346,
    "start_time": "2022-01-22T08:47:07.769Z"
   },
   {
    "duration": 9,
    "start_time": "2022-01-22T08:47:08.117Z"
   },
   {
    "duration": 6,
    "start_time": "2022-01-22T08:47:08.128Z"
   },
   {
    "duration": 9,
    "start_time": "2022-01-22T08:47:08.136Z"
   },
   {
    "duration": 28,
    "start_time": "2022-01-22T08:47:08.147Z"
   },
   {
    "duration": 10,
    "start_time": "2022-01-22T08:47:08.176Z"
   },
   {
    "duration": 6,
    "start_time": "2022-01-22T08:47:08.188Z"
   },
   {
    "duration": 35,
    "start_time": "2022-01-22T08:47:08.196Z"
   },
   {
    "duration": 73,
    "start_time": "2022-01-22T08:47:08.233Z"
   },
   {
    "duration": 13,
    "start_time": "2022-01-22T08:47:08.308Z"
   },
   {
    "duration": 61,
    "start_time": "2022-01-22T08:47:08.322Z"
   },
   {
    "duration": 36,
    "start_time": "2022-01-22T08:47:08.385Z"
   },
   {
    "duration": 12,
    "start_time": "2022-01-22T08:47:08.423Z"
   },
   {
    "duration": 37,
    "start_time": "2022-01-22T08:47:08.436Z"
   },
   {
    "duration": 12,
    "start_time": "2022-01-22T08:47:08.474Z"
   },
   {
    "duration": 10,
    "start_time": "2022-01-22T08:47:08.487Z"
   },
   {
    "duration": 9,
    "start_time": "2022-01-22T08:47:08.499Z"
   },
   {
    "duration": 10,
    "start_time": "2022-01-22T08:47:08.510Z"
   },
   {
    "duration": 9,
    "start_time": "2022-01-22T08:47:08.521Z"
   },
   {
    "duration": 9,
    "start_time": "2022-01-22T08:47:08.572Z"
   },
   {
    "duration": 10,
    "start_time": "2022-01-22T08:47:08.583Z"
   },
   {
    "duration": 5,
    "start_time": "2022-01-22T08:47:08.594Z"
   },
   {
    "duration": 4,
    "start_time": "2022-01-22T08:47:08.601Z"
   },
   {
    "duration": 5,
    "start_time": "2022-01-22T08:47:08.607Z"
   },
   {
    "duration": 18,
    "start_time": "2022-01-22T08:47:08.614Z"
   },
   {
    "duration": 47,
    "start_time": "2022-01-22T08:47:08.635Z"
   },
   {
    "duration": 11,
    "start_time": "2022-01-22T08:47:08.684Z"
   },
   {
    "duration": 20,
    "start_time": "2022-01-22T08:47:08.697Z"
   },
   {
    "duration": 13,
    "start_time": "2022-01-22T08:47:08.718Z"
   },
   {
    "duration": 40,
    "start_time": "2022-01-22T08:47:08.733Z"
   },
   {
    "duration": 106,
    "start_time": "2022-01-22T08:47:08.774Z"
   },
   {
    "duration": 94,
    "start_time": "2022-01-22T08:47:08.883Z"
   },
   {
    "duration": 13,
    "start_time": "2022-01-22T08:47:08.978Z"
   },
   {
    "duration": 9,
    "start_time": "2022-01-22T08:47:09.072Z"
   },
   {
    "duration": 14,
    "start_time": "2022-01-22T08:47:09.172Z"
   },
   {
    "duration": 85,
    "start_time": "2022-01-22T08:47:09.188Z"
   },
   {
    "duration": 301,
    "start_time": "2022-01-22T08:47:09.276Z"
   },
   {
    "duration": -1158,
    "start_time": "2022-01-22T08:47:10.736Z"
   },
   {
    "duration": -1159,
    "start_time": "2022-01-22T08:47:10.738Z"
   },
   {
    "duration": 4,
    "start_time": "2022-01-22T08:47:26.137Z"
   },
   {
    "duration": 292,
    "start_time": "2022-01-22T08:47:27.003Z"
   },
   {
    "duration": -1152,
    "start_time": "2022-01-22T08:47:28.449Z"
   },
   {
    "duration": 4,
    "start_time": "2022-01-22T08:47:32.340Z"
   },
   {
    "duration": 4,
    "start_time": "2022-01-22T08:47:35.267Z"
   },
   {
    "duration": 303,
    "start_time": "2022-01-22T08:47:42.627Z"
   },
   {
    "duration": 295,
    "start_time": "2022-01-22T08:47:58.149Z"
   },
   {
    "duration": 3,
    "start_time": "2022-01-22T08:48:09.307Z"
   },
   {
    "duration": 4,
    "start_time": "2022-01-22T09:23:17.256Z"
   },
   {
    "duration": 3,
    "start_time": "2022-01-22T09:23:33.840Z"
   },
   {
    "duration": 5,
    "start_time": "2022-01-22T09:24:01.536Z"
   },
   {
    "duration": 3,
    "start_time": "2022-01-22T09:30:12.223Z"
   },
   {
    "duration": 3,
    "start_time": "2022-01-22T09:30:13.116Z"
   },
   {
    "duration": 3,
    "start_time": "2022-01-22T09:30:13.577Z"
   },
   {
    "duration": 2,
    "start_time": "2022-01-22T09:34:07.219Z"
   },
   {
    "duration": 4,
    "start_time": "2022-01-22T09:34:11.700Z"
   },
   {
    "duration": 328,
    "start_time": "2022-01-22T09:38:30.967Z"
   },
   {
    "duration": 3,
    "start_time": "2022-01-22T09:48:36.607Z"
   },
   {
    "duration": 294,
    "start_time": "2022-01-22T09:49:06.625Z"
   },
   {
    "duration": 4,
    "start_time": "2022-01-22T09:57:00.783Z"
   },
   {
    "duration": 4,
    "start_time": "2022-01-22T10:10:09.422Z"
   },
   {
    "duration": 4,
    "start_time": "2022-01-22T10:10:40.038Z"
   },
   {
    "duration": 4,
    "start_time": "2022-01-22T10:12:00.243Z"
   },
   {
    "duration": 4,
    "start_time": "2022-01-22T10:13:30.079Z"
   },
   {
    "duration": 4,
    "start_time": "2022-01-22T10:14:02.199Z"
   },
   {
    "duration": 4,
    "start_time": "2022-01-22T10:15:00.143Z"
   },
   {
    "duration": 5,
    "start_time": "2022-01-22T10:15:00.458Z"
   },
   {
    "duration": 4,
    "start_time": "2022-01-22T10:15:00.766Z"
   },
   {
    "duration": 4,
    "start_time": "2022-01-22T10:15:20.339Z"
   },
   {
    "duration": 4,
    "start_time": "2022-01-22T10:15:26.158Z"
   },
   {
    "duration": 4,
    "start_time": "2022-01-22T10:15:28.397Z"
   },
   {
    "duration": 2,
    "start_time": "2022-01-22T10:19:54.312Z"
   },
   {
    "duration": 3,
    "start_time": "2022-01-22T10:19:54.658Z"
   },
   {
    "duration": 3,
    "start_time": "2022-01-22T10:19:54.936Z"
   },
   {
    "duration": 6,
    "start_time": "2022-01-22T10:24:00.954Z"
   },
   {
    "duration": 2,
    "start_time": "2022-01-22T10:24:05.705Z"
   },
   {
    "duration": 4,
    "start_time": "2022-01-22T10:24:11.903Z"
   },
   {
    "duration": 6,
    "start_time": "2022-01-22T10:24:32.442Z"
   },
   {
    "duration": 3,
    "start_time": "2022-01-22T10:25:54.612Z"
   },
   {
    "duration": 6,
    "start_time": "2022-01-22T10:25:59.398Z"
   },
   {
    "duration": 5,
    "start_time": "2022-01-22T10:26:22.824Z"
   },
   {
    "duration": 6,
    "start_time": "2022-01-22T10:26:35.332Z"
   },
   {
    "duration": 5,
    "start_time": "2022-01-22T10:26:42.964Z"
   },
   {
    "duration": 6,
    "start_time": "2022-01-22T10:26:46.308Z"
   },
   {
    "duration": 327,
    "start_time": "2022-01-22T10:29:04.198Z"
   },
   {
    "duration": 5,
    "start_time": "2022-01-22T10:29:20.047Z"
   },
   {
    "duration": 7,
    "start_time": "2022-01-22T10:29:43.881Z"
   },
   {
    "duration": 312,
    "start_time": "2022-01-22T10:29:57.546Z"
   },
   {
    "duration": 7,
    "start_time": "2022-01-22T10:30:05.225Z"
   },
   {
    "duration": 3,
    "start_time": "2022-01-22T10:30:25.008Z"
   },
   {
    "duration": 344,
    "start_time": "2022-01-22T10:30:25.013Z"
   },
   {
    "duration": 9,
    "start_time": "2022-01-22T10:30:25.359Z"
   },
   {
    "duration": 8,
    "start_time": "2022-01-22T10:30:25.371Z"
   },
   {
    "duration": 10,
    "start_time": "2022-01-22T10:30:25.381Z"
   },
   {
    "duration": 8,
    "start_time": "2022-01-22T10:30:25.392Z"
   },
   {
    "duration": 10,
    "start_time": "2022-01-22T10:30:25.401Z"
   },
   {
    "duration": 10,
    "start_time": "2022-01-22T10:30:25.413Z"
   },
   {
    "duration": 78,
    "start_time": "2022-01-22T10:30:25.427Z"
   },
   {
    "duration": 74,
    "start_time": "2022-01-22T10:30:25.507Z"
   },
   {
    "duration": 15,
    "start_time": "2022-01-22T10:30:25.584Z"
   },
   {
    "duration": 39,
    "start_time": "2022-01-22T10:30:25.601Z"
   },
   {
    "duration": 67,
    "start_time": "2022-01-22T10:30:25.642Z"
   },
   {
    "duration": 15,
    "start_time": "2022-01-22T10:30:25.711Z"
   },
   {
    "duration": 47,
    "start_time": "2022-01-22T10:30:25.728Z"
   },
   {
    "duration": 15,
    "start_time": "2022-01-22T10:30:25.777Z"
   },
   {
    "duration": 10,
    "start_time": "2022-01-22T10:30:25.794Z"
   },
   {
    "duration": 10,
    "start_time": "2022-01-22T10:30:25.806Z"
   },
   {
    "duration": 11,
    "start_time": "2022-01-22T10:30:25.817Z"
   },
   {
    "duration": 51,
    "start_time": "2022-01-22T10:30:25.829Z"
   },
   {
    "duration": 10,
    "start_time": "2022-01-22T10:30:25.882Z"
   },
   {
    "duration": 10,
    "start_time": "2022-01-22T10:30:25.894Z"
   },
   {
    "duration": 4,
    "start_time": "2022-01-22T10:30:25.906Z"
   },
   {
    "duration": 6,
    "start_time": "2022-01-22T10:30:25.911Z"
   },
   {
    "duration": 6,
    "start_time": "2022-01-22T10:30:25.919Z"
   },
   {
    "duration": 55,
    "start_time": "2022-01-22T10:30:25.926Z"
   },
   {
    "duration": 11,
    "start_time": "2022-01-22T10:30:25.984Z"
   },
   {
    "duration": 11,
    "start_time": "2022-01-22T10:30:25.997Z"
   },
   {
    "duration": 24,
    "start_time": "2022-01-22T10:30:26.010Z"
   },
   {
    "duration": 43,
    "start_time": "2022-01-22T10:30:26.035Z"
   },
   {
    "duration": 13,
    "start_time": "2022-01-22T10:30:26.079Z"
   },
   {
    "duration": 83,
    "start_time": "2022-01-22T10:30:26.094Z"
   },
   {
    "duration": 92,
    "start_time": "2022-01-22T10:30:26.179Z"
   },
   {
    "duration": 14,
    "start_time": "2022-01-22T10:30:26.273Z"
   },
   {
    "duration": 187,
    "start_time": "2022-01-22T10:30:26.289Z"
   },
   {
    "duration": 99,
    "start_time": "2022-01-22T10:30:26.478Z"
   },
   {
    "duration": 93,
    "start_time": "2022-01-22T10:30:26.580Z"
   },
   {
    "duration": 4,
    "start_time": "2022-01-22T10:30:26.675Z"
   },
   {
    "duration": 4,
    "start_time": "2022-01-22T10:30:26.681Z"
   },
   {
    "duration": 6,
    "start_time": "2022-01-22T10:30:26.686Z"
   },
   {
    "duration": 7,
    "start_time": "2022-01-22T10:30:26.694Z"
   },
   {
    "duration": 7,
    "start_time": "2022-01-22T10:30:26.702Z"
   },
   {
    "duration": 7,
    "start_time": "2022-01-22T10:30:26.711Z"
   },
   {
    "duration": 57,
    "start_time": "2022-01-22T10:30:26.719Z"
   },
   {
    "duration": 10,
    "start_time": "2022-01-22T10:31:28.748Z"
   },
   {
    "duration": 9,
    "start_time": "2022-01-22T10:32:51.549Z"
   },
   {
    "duration": 7,
    "start_time": "2022-01-22T10:34:12.392Z"
   },
   {
    "duration": 7,
    "start_time": "2022-01-22T10:34:17.261Z"
   },
   {
    "duration": 6,
    "start_time": "2022-01-22T11:01:42.895Z"
   },
   {
    "duration": 8,
    "start_time": "2022-01-22T11:06:08.537Z"
   },
   {
    "duration": 302,
    "start_time": "2022-01-22T13:31:27.752Z"
   },
   {
    "duration": 5,
    "start_time": "2022-01-22T13:31:40.613Z"
   },
   {
    "duration": 6,
    "start_time": "2022-01-22T13:31:56.564Z"
   },
   {
    "duration": 7,
    "start_time": "2022-01-22T13:32:53.139Z"
   },
   {
    "duration": 7,
    "start_time": "2022-01-22T13:32:59.879Z"
   },
   {
    "duration": 7,
    "start_time": "2022-01-22T13:33:12.456Z"
   },
   {
    "duration": 7,
    "start_time": "2022-01-22T13:33:29.065Z"
   },
   {
    "duration": 4,
    "start_time": "2022-01-22T13:33:43.307Z"
   },
   {
    "duration": 336,
    "start_time": "2022-01-22T13:33:43.313Z"
   },
   {
    "duration": 9,
    "start_time": "2022-01-22T13:33:43.651Z"
   },
   {
    "duration": 11,
    "start_time": "2022-01-22T13:33:43.661Z"
   },
   {
    "duration": 9,
    "start_time": "2022-01-22T13:33:43.674Z"
   },
   {
    "duration": 7,
    "start_time": "2022-01-22T13:33:43.685Z"
   },
   {
    "duration": 13,
    "start_time": "2022-01-22T13:33:43.693Z"
   },
   {
    "duration": 8,
    "start_time": "2022-01-22T13:33:43.708Z"
   },
   {
    "duration": 82,
    "start_time": "2022-01-22T13:33:43.719Z"
   },
   {
    "duration": 46,
    "start_time": "2022-01-22T13:33:43.803Z"
   },
   {
    "duration": 15,
    "start_time": "2022-01-22T13:33:43.871Z"
   },
   {
    "duration": 38,
    "start_time": "2022-01-22T13:33:43.887Z"
   },
   {
    "duration": 62,
    "start_time": "2022-01-22T13:33:43.926Z"
   },
   {
    "duration": 13,
    "start_time": "2022-01-22T13:33:43.990Z"
   },
   {
    "duration": 14,
    "start_time": "2022-01-22T13:33:44.005Z"
   },
   {
    "duration": 12,
    "start_time": "2022-01-22T13:33:44.021Z"
   },
   {
    "duration": 47,
    "start_time": "2022-01-22T13:33:44.034Z"
   },
   {
    "duration": 10,
    "start_time": "2022-01-22T13:33:44.082Z"
   },
   {
    "duration": 9,
    "start_time": "2022-01-22T13:33:44.093Z"
   },
   {
    "duration": 9,
    "start_time": "2022-01-22T13:33:44.104Z"
   },
   {
    "duration": 11,
    "start_time": "2022-01-22T13:33:44.114Z"
   },
   {
    "duration": 50,
    "start_time": "2022-01-22T13:33:44.126Z"
   },
   {
    "duration": 5,
    "start_time": "2022-01-22T13:33:44.177Z"
   },
   {
    "duration": 5,
    "start_time": "2022-01-22T13:33:44.184Z"
   },
   {
    "duration": 7,
    "start_time": "2022-01-22T13:33:44.191Z"
   },
   {
    "duration": 14,
    "start_time": "2022-01-22T13:33:44.199Z"
   },
   {
    "duration": 13,
    "start_time": "2022-01-22T13:33:44.217Z"
   },
   {
    "duration": 46,
    "start_time": "2022-01-22T13:33:44.232Z"
   },
   {
    "duration": 20,
    "start_time": "2022-01-22T13:33:44.280Z"
   },
   {
    "duration": 14,
    "start_time": "2022-01-22T13:33:44.302Z"
   },
   {
    "duration": 54,
    "start_time": "2022-01-22T13:33:44.318Z"
   },
   {
    "duration": 99,
    "start_time": "2022-01-22T13:33:44.373Z"
   },
   {
    "duration": 98,
    "start_time": "2022-01-22T13:33:44.474Z"
   },
   {
    "duration": 15,
    "start_time": "2022-01-22T13:33:44.574Z"
   },
   {
    "duration": 85,
    "start_time": "2022-01-22T13:33:44.591Z"
   },
   {
    "duration": 104,
    "start_time": "2022-01-22T13:33:44.679Z"
   },
   {
    "duration": 90,
    "start_time": "2022-01-22T13:33:44.786Z"
   },
   {
    "duration": 94,
    "start_time": "2022-01-22T13:33:44.879Z"
   },
   {
    "duration": 6,
    "start_time": "2022-01-22T13:33:44.975Z"
   },
   {
    "duration": 4,
    "start_time": "2022-01-22T13:33:44.983Z"
   },
   {
    "duration": 4,
    "start_time": "2022-01-22T13:33:44.989Z"
   },
   {
    "duration": 8,
    "start_time": "2022-01-22T13:33:44.994Z"
   },
   {
    "duration": 7,
    "start_time": "2022-01-22T13:33:45.004Z"
   },
   {
    "duration": 13,
    "start_time": "2022-01-22T13:33:45.013Z"
   },
   {
    "duration": 4,
    "start_time": "2022-01-22T13:33:45.027Z"
   },
   {
    "duration": 10,
    "start_time": "2022-01-22T13:33:45.072Z"
   },
   {
    "duration": 10,
    "start_time": "2022-01-22T13:33:45.084Z"
   },
   {
    "duration": 7,
    "start_time": "2022-01-22T13:36:15.968Z"
   },
   {
    "duration": 3,
    "start_time": "2022-01-22T13:36:31.188Z"
   },
   {
    "duration": 354,
    "start_time": "2022-01-22T13:36:31.193Z"
   },
   {
    "duration": 12,
    "start_time": "2022-01-22T13:36:31.549Z"
   },
   {
    "duration": 16,
    "start_time": "2022-01-22T13:36:31.563Z"
   },
   {
    "duration": 13,
    "start_time": "2022-01-22T13:36:31.581Z"
   },
   {
    "duration": 8,
    "start_time": "2022-01-22T13:36:31.595Z"
   },
   {
    "duration": 12,
    "start_time": "2022-01-22T13:36:31.605Z"
   },
   {
    "duration": 9,
    "start_time": "2022-01-22T13:36:31.619Z"
   },
   {
    "duration": 74,
    "start_time": "2022-01-22T13:36:31.630Z"
   },
   {
    "duration": 66,
    "start_time": "2022-01-22T13:36:31.706Z"
   },
   {
    "duration": 13,
    "start_time": "2022-01-22T13:36:31.774Z"
   },
   {
    "duration": 34,
    "start_time": "2022-01-22T13:36:31.788Z"
   },
   {
    "duration": 60,
    "start_time": "2022-01-22T13:36:31.824Z"
   },
   {
    "duration": 15,
    "start_time": "2022-01-22T13:36:31.886Z"
   },
   {
    "duration": 14,
    "start_time": "2022-01-22T13:36:31.903Z"
   },
   {
    "duration": 14,
    "start_time": "2022-01-22T13:36:31.919Z"
   },
   {
    "duration": 48,
    "start_time": "2022-01-22T13:36:31.935Z"
   },
   {
    "duration": 10,
    "start_time": "2022-01-22T13:36:31.985Z"
   },
   {
    "duration": 9,
    "start_time": "2022-01-22T13:36:31.996Z"
   },
   {
    "duration": 9,
    "start_time": "2022-01-22T13:36:32.007Z"
   },
   {
    "duration": 11,
    "start_time": "2022-01-22T13:36:32.018Z"
   },
   {
    "duration": 50,
    "start_time": "2022-01-22T13:36:32.030Z"
   },
   {
    "duration": 8,
    "start_time": "2022-01-22T13:36:32.081Z"
   },
   {
    "duration": 5,
    "start_time": "2022-01-22T13:36:32.090Z"
   },
   {
    "duration": 6,
    "start_time": "2022-01-22T13:36:32.096Z"
   },
   {
    "duration": 13,
    "start_time": "2022-01-22T13:36:32.104Z"
   },
   {
    "duration": 10,
    "start_time": "2022-01-22T13:36:32.120Z"
   },
   {
    "duration": 46,
    "start_time": "2022-01-22T13:36:32.132Z"
   },
   {
    "duration": 18,
    "start_time": "2022-01-22T13:36:32.180Z"
   },
   {
    "duration": 12,
    "start_time": "2022-01-22T13:36:32.200Z"
   },
   {
    "duration": 12,
    "start_time": "2022-01-22T13:36:32.214Z"
   },
   {
    "duration": 11,
    "start_time": "2022-01-22T13:36:32.227Z"
   },
   {
    "duration": 8,
    "start_time": "2022-01-22T13:36:32.272Z"
   },
   {
    "duration": 16,
    "start_time": "2022-01-22T13:36:32.372Z"
   },
   {
    "duration": 99,
    "start_time": "2022-01-22T13:36:32.473Z"
   },
   {
    "duration": 99,
    "start_time": "2022-01-22T13:36:32.574Z"
   },
   {
    "duration": 8,
    "start_time": "2022-01-22T13:36:32.675Z"
   },
   {
    "duration": 4,
    "start_time": "2022-01-22T13:36:32.772Z"
   },
   {
    "duration": 6,
    "start_time": "2022-01-22T13:36:32.778Z"
   },
   {
    "duration": 9,
    "start_time": "2022-01-22T13:36:32.786Z"
   },
   {
    "duration": 14,
    "start_time": "2022-01-22T13:36:32.796Z"
   },
   {
    "duration": 19,
    "start_time": "2022-01-22T13:36:32.811Z"
   },
   {
    "duration": 17,
    "start_time": "2022-01-22T13:36:32.832Z"
   },
   {
    "duration": 6,
    "start_time": "2022-01-22T13:36:32.851Z"
   },
   {
    "duration": 4,
    "start_time": "2022-01-22T13:36:32.859Z"
   },
   {
    "duration": 14,
    "start_time": "2022-01-22T13:36:32.865Z"
   },
   {
    "duration": 6,
    "start_time": "2022-01-22T13:36:32.881Z"
   },
   {
    "duration": 17,
    "start_time": "2022-01-22T13:36:32.888Z"
   },
   {
    "duration": 3,
    "start_time": "2022-01-22T13:39:07.892Z"
   },
   {
    "duration": 355,
    "start_time": "2022-01-22T13:39:07.897Z"
   },
   {
    "duration": 10,
    "start_time": "2022-01-22T13:39:08.255Z"
   },
   {
    "duration": 8,
    "start_time": "2022-01-22T13:39:08.271Z"
   },
   {
    "duration": 28,
    "start_time": "2022-01-22T13:39:08.280Z"
   },
   {
    "duration": 7,
    "start_time": "2022-01-22T13:39:08.310Z"
   },
   {
    "duration": 10,
    "start_time": "2022-01-22T13:39:08.319Z"
   },
   {
    "duration": 7,
    "start_time": "2022-01-22T13:39:08.331Z"
   },
   {
    "duration": 61,
    "start_time": "2022-01-22T13:39:08.341Z"
   },
   {
    "duration": 45,
    "start_time": "2022-01-22T13:39:08.404Z"
   },
   {
    "duration": 31,
    "start_time": "2022-01-22T13:39:08.451Z"
   },
   {
    "duration": 45,
    "start_time": "2022-01-22T13:39:08.484Z"
   },
   {
    "duration": 57,
    "start_time": "2022-01-22T13:39:08.531Z"
   },
   {
    "duration": 14,
    "start_time": "2022-01-22T13:39:08.589Z"
   },
   {
    "duration": 19,
    "start_time": "2022-01-22T13:39:08.604Z"
   },
   {
    "duration": 18,
    "start_time": "2022-01-22T13:39:08.624Z"
   },
   {
    "duration": 37,
    "start_time": "2022-01-22T13:39:08.644Z"
   },
   {
    "duration": 19,
    "start_time": "2022-01-22T13:39:08.682Z"
   },
   {
    "duration": 15,
    "start_time": "2022-01-22T13:39:08.703Z"
   },
   {
    "duration": 10,
    "start_time": "2022-01-22T13:39:08.720Z"
   },
   {
    "duration": 45,
    "start_time": "2022-01-22T13:39:08.731Z"
   },
   {
    "duration": 11,
    "start_time": "2022-01-22T13:39:08.778Z"
   },
   {
    "duration": 22,
    "start_time": "2022-01-22T13:39:08.790Z"
   },
   {
    "duration": 7,
    "start_time": "2022-01-22T13:39:08.813Z"
   },
   {
    "duration": 12,
    "start_time": "2022-01-22T13:39:08.822Z"
   },
   {
    "duration": 20,
    "start_time": "2022-01-22T13:39:08.836Z"
   },
   {
    "duration": 12,
    "start_time": "2022-01-22T13:39:08.871Z"
   },
   {
    "duration": 14,
    "start_time": "2022-01-22T13:39:08.885Z"
   },
   {
    "duration": 29,
    "start_time": "2022-01-22T13:39:08.901Z"
   },
   {
    "duration": 14,
    "start_time": "2022-01-22T13:39:08.932Z"
   },
   {
    "duration": 31,
    "start_time": "2022-01-22T13:39:08.948Z"
   },
   {
    "duration": 191,
    "start_time": "2022-01-22T13:39:08.981Z"
   },
   {
    "duration": 6,
    "start_time": "2022-01-22T13:39:09.174Z"
   },
   {
    "duration": 95,
    "start_time": "2022-01-22T13:39:09.181Z"
   },
   {
    "duration": 97,
    "start_time": "2022-01-22T13:39:09.278Z"
   },
   {
    "duration": 104,
    "start_time": "2022-01-22T13:39:09.377Z"
   },
   {
    "duration": 91,
    "start_time": "2022-01-22T13:39:09.483Z"
   },
   {
    "duration": 9,
    "start_time": "2022-01-22T13:39:09.576Z"
   },
   {
    "duration": 12,
    "start_time": "2022-01-22T13:39:09.586Z"
   },
   {
    "duration": 10,
    "start_time": "2022-01-22T13:39:09.600Z"
   },
   {
    "duration": 14,
    "start_time": "2022-01-22T13:39:09.612Z"
   },
   {
    "duration": 10,
    "start_time": "2022-01-22T13:39:09.627Z"
   },
   {
    "duration": 39,
    "start_time": "2022-01-22T13:39:09.638Z"
   },
   {
    "duration": 11,
    "start_time": "2022-01-22T13:39:09.679Z"
   },
   {
    "duration": 2,
    "start_time": "2022-01-22T13:39:09.692Z"
   },
   {
    "duration": 14,
    "start_time": "2022-01-22T13:39:09.696Z"
   },
   {
    "duration": 21,
    "start_time": "2022-01-22T13:39:09.711Z"
   },
   {
    "duration": 4,
    "start_time": "2022-01-22T13:59:25.160Z"
   },
   {
    "duration": 364,
    "start_time": "2022-01-22T13:59:25.166Z"
   },
   {
    "duration": 10,
    "start_time": "2022-01-22T13:59:25.532Z"
   },
   {
    "duration": 7,
    "start_time": "2022-01-22T13:59:25.544Z"
   },
   {
    "duration": 26,
    "start_time": "2022-01-22T13:59:25.553Z"
   },
   {
    "duration": 7,
    "start_time": "2022-01-22T13:59:25.581Z"
   },
   {
    "duration": 10,
    "start_time": "2022-01-22T13:59:25.589Z"
   },
   {
    "duration": 8,
    "start_time": "2022-01-22T13:59:25.601Z"
   },
   {
    "duration": 69,
    "start_time": "2022-01-22T13:59:25.611Z"
   },
   {
    "duration": 46,
    "start_time": "2022-01-22T13:59:25.683Z"
   },
   {
    "duration": 14,
    "start_time": "2022-01-22T13:59:25.731Z"
   },
   {
    "duration": 57,
    "start_time": "2022-01-22T13:59:25.747Z"
   },
   {
    "duration": 40,
    "start_time": "2022-01-22T13:59:25.806Z"
   },
   {
    "duration": 15,
    "start_time": "2022-01-22T13:59:25.872Z"
   },
   {
    "duration": 12,
    "start_time": "2022-01-22T13:59:25.889Z"
   },
   {
    "duration": 12,
    "start_time": "2022-01-22T13:59:25.903Z"
   },
   {
    "duration": 57,
    "start_time": "2022-01-22T13:59:25.917Z"
   },
   {
    "duration": 13,
    "start_time": "2022-01-22T13:59:25.976Z"
   },
   {
    "duration": 11,
    "start_time": "2022-01-22T13:59:25.990Z"
   },
   {
    "duration": 10,
    "start_time": "2022-01-22T13:59:26.003Z"
   },
   {
    "duration": 11,
    "start_time": "2022-01-22T13:59:26.014Z"
   },
   {
    "duration": 51,
    "start_time": "2022-01-22T13:59:26.027Z"
   },
   {
    "duration": 5,
    "start_time": "2022-01-22T13:59:26.080Z"
   },
   {
    "duration": 8,
    "start_time": "2022-01-22T13:59:26.086Z"
   },
   {
    "duration": 8,
    "start_time": "2022-01-22T13:59:26.096Z"
   },
   {
    "duration": 13,
    "start_time": "2022-01-22T13:59:26.105Z"
   },
   {
    "duration": 11,
    "start_time": "2022-01-22T13:59:26.122Z"
   },
   {
    "duration": 43,
    "start_time": "2022-01-22T13:59:26.134Z"
   },
   {
    "duration": 22,
    "start_time": "2022-01-22T13:59:26.179Z"
   },
   {
    "duration": 14,
    "start_time": "2022-01-22T13:59:26.203Z"
   },
   {
    "duration": 15,
    "start_time": "2022-01-22T13:59:26.219Z"
   },
   {
    "duration": 139,
    "start_time": "2022-01-22T13:59:26.236Z"
   },
   {
    "duration": 95,
    "start_time": "2022-01-22T13:59:26.378Z"
   },
   {
    "duration": 14,
    "start_time": "2022-01-22T13:59:26.475Z"
   },
   {
    "duration": 85,
    "start_time": "2022-01-22T13:59:26.492Z"
   },
   {
    "duration": 100,
    "start_time": "2022-01-22T13:59:26.579Z"
   },
   {
    "duration": 92,
    "start_time": "2022-01-22T13:59:26.681Z"
   },
   {
    "duration": 96,
    "start_time": "2022-01-22T13:59:26.776Z"
   },
   {
    "duration": 5,
    "start_time": "2022-01-22T13:59:26.874Z"
   },
   {
    "duration": 7,
    "start_time": "2022-01-22T13:59:26.880Z"
   },
   {
    "duration": 4,
    "start_time": "2022-01-22T13:59:26.888Z"
   },
   {
    "duration": 6,
    "start_time": "2022-01-22T13:59:26.894Z"
   },
   {
    "duration": 8,
    "start_time": "2022-01-22T13:59:26.902Z"
   },
   {
    "duration": 61,
    "start_time": "2022-01-22T13:59:26.912Z"
   },
   {
    "duration": 4,
    "start_time": "2022-01-22T13:59:26.975Z"
   },
   {
    "duration": 4,
    "start_time": "2022-01-22T13:59:26.980Z"
   },
   {
    "duration": 9,
    "start_time": "2022-01-22T13:59:26.986Z"
   },
   {
    "duration": 642,
    "start_time": "2022-01-22T13:59:58.453Z"
   },
   {
    "duration": 3,
    "start_time": "2022-01-22T14:02:31.538Z"
   },
   {
    "duration": 13,
    "start_time": "2022-01-22T14:02:32.325Z"
   },
   {
    "duration": 9,
    "start_time": "2022-01-22T14:02:55.616Z"
   },
   {
    "duration": 326,
    "start_time": "2022-01-22T14:09:11.953Z"
   },
   {
    "duration": 3,
    "start_time": "2022-01-22T14:09:29.170Z"
   },
   {
    "duration": 374,
    "start_time": "2022-01-22T14:09:29.175Z"
   },
   {
    "duration": 21,
    "start_time": "2022-01-22T14:09:29.551Z"
   },
   {
    "duration": 20,
    "start_time": "2022-01-22T14:09:29.574Z"
   },
   {
    "duration": 23,
    "start_time": "2022-01-22T14:09:29.596Z"
   },
   {
    "duration": 20,
    "start_time": "2022-01-22T14:09:29.621Z"
   },
   {
    "duration": 19,
    "start_time": "2022-01-22T14:09:29.643Z"
   },
   {
    "duration": 9,
    "start_time": "2022-01-22T14:09:29.665Z"
   },
   {
    "duration": 47,
    "start_time": "2022-01-22T14:09:29.677Z"
   },
   {
    "duration": 56,
    "start_time": "2022-01-22T14:09:29.727Z"
   },
   {
    "duration": 31,
    "start_time": "2022-01-22T14:09:29.785Z"
   },
   {
    "duration": 38,
    "start_time": "2022-01-22T14:09:29.818Z"
   },
   {
    "duration": 45,
    "start_time": "2022-01-22T14:09:29.858Z"
   },
   {
    "duration": 12,
    "start_time": "2022-01-22T14:09:29.905Z"
   },
   {
    "duration": 12,
    "start_time": "2022-01-22T14:09:29.918Z"
   },
   {
    "duration": 21,
    "start_time": "2022-01-22T14:09:29.932Z"
   },
   {
    "duration": 24,
    "start_time": "2022-01-22T14:09:29.955Z"
   },
   {
    "duration": 15,
    "start_time": "2022-01-22T14:09:29.981Z"
   },
   {
    "duration": 17,
    "start_time": "2022-01-22T14:09:29.997Z"
   },
   {
    "duration": 33,
    "start_time": "2022-01-22T14:09:30.015Z"
   },
   {
    "duration": 16,
    "start_time": "2022-01-22T14:09:30.050Z"
   },
   {
    "duration": 16,
    "start_time": "2022-01-22T14:09:30.071Z"
   },
   {
    "duration": 6,
    "start_time": "2022-01-22T14:09:30.090Z"
   },
   {
    "duration": 5,
    "start_time": "2022-01-22T14:09:30.098Z"
   },
   {
    "duration": 6,
    "start_time": "2022-01-22T14:09:30.105Z"
   },
   {
    "duration": 22,
    "start_time": "2022-01-22T14:09:30.112Z"
   },
   {
    "duration": 10,
    "start_time": "2022-01-22T14:09:30.136Z"
   },
   {
    "duration": 32,
    "start_time": "2022-01-22T14:09:30.148Z"
   },
   {
    "duration": 22,
    "start_time": "2022-01-22T14:09:30.182Z"
   },
   {
    "duration": 13,
    "start_time": "2022-01-22T14:09:30.205Z"
   },
   {
    "duration": 12,
    "start_time": "2022-01-22T14:09:30.220Z"
   },
   {
    "duration": 138,
    "start_time": "2022-01-22T14:09:30.234Z"
   },
   {
    "duration": 99,
    "start_time": "2022-01-22T14:09:30.374Z"
   },
   {
    "duration": 14,
    "start_time": "2022-01-22T14:09:30.475Z"
   },
   {
    "duration": 85,
    "start_time": "2022-01-22T14:09:30.490Z"
   },
   {
    "duration": 113,
    "start_time": "2022-01-22T14:09:30.577Z"
   },
   {
    "duration": 98,
    "start_time": "2022-01-22T14:09:30.776Z"
   },
   {
    "duration": 4,
    "start_time": "2022-01-22T14:09:30.876Z"
   },
   {
    "duration": 8,
    "start_time": "2022-01-22T14:09:30.881Z"
   },
   {
    "duration": 9,
    "start_time": "2022-01-22T14:09:30.890Z"
   },
   {
    "duration": 8,
    "start_time": "2022-01-22T14:09:30.901Z"
   },
   {
    "duration": 7,
    "start_time": "2022-01-22T14:09:30.911Z"
   },
   {
    "duration": 14,
    "start_time": "2022-01-22T14:09:30.920Z"
   },
   {
    "duration": 40,
    "start_time": "2022-01-22T14:09:30.936Z"
   },
   {
    "duration": 3,
    "start_time": "2022-01-22T14:09:30.977Z"
   },
   {
    "duration": 659,
    "start_time": "2022-01-22T14:09:30.982Z"
   },
   {
    "duration": -1331,
    "start_time": "2022-01-22T14:09:32.973Z"
   },
   {
    "duration": -1336,
    "start_time": "2022-01-22T14:09:32.979Z"
   },
   {
    "duration": 104,
    "start_time": "2022-01-22T14:14:26.425Z"
   },
   {
    "duration": 100,
    "start_time": "2022-01-22T14:15:09.338Z"
   },
   {
    "duration": 300,
    "start_time": "2022-01-22T14:16:59.508Z"
   },
   {
    "duration": 3,
    "start_time": "2022-01-22T14:17:12.406Z"
   },
   {
    "duration": 709,
    "start_time": "2022-01-22T14:17:19.936Z"
   },
   {
    "duration": 3,
    "start_time": "2022-01-22T14:18:30.548Z"
   },
   {
    "duration": 378,
    "start_time": "2022-01-22T14:18:30.553Z"
   },
   {
    "duration": 10,
    "start_time": "2022-01-22T14:18:30.933Z"
   },
   {
    "duration": 11,
    "start_time": "2022-01-22T14:18:30.945Z"
   },
   {
    "duration": 23,
    "start_time": "2022-01-22T14:18:30.957Z"
   },
   {
    "duration": 16,
    "start_time": "2022-01-22T14:18:30.982Z"
   },
   {
    "duration": 14,
    "start_time": "2022-01-22T14:18:31.000Z"
   },
   {
    "duration": 13,
    "start_time": "2022-01-22T14:18:31.016Z"
   },
   {
    "duration": 87,
    "start_time": "2022-01-22T14:18:31.032Z"
   },
   {
    "duration": 98,
    "start_time": "2022-01-22T14:18:31.122Z"
   },
   {
    "duration": 18,
    "start_time": "2022-01-22T14:18:31.222Z"
   },
   {
    "duration": 75,
    "start_time": "2022-01-22T14:18:31.242Z"
   },
   {
    "duration": 63,
    "start_time": "2022-01-22T14:18:31.319Z"
   },
   {
    "duration": 16,
    "start_time": "2022-01-22T14:18:31.384Z"
   },
   {
    "duration": 17,
    "start_time": "2022-01-22T14:18:31.402Z"
   },
   {
    "duration": 17,
    "start_time": "2022-01-22T14:18:31.421Z"
   },
   {
    "duration": 42,
    "start_time": "2022-01-22T14:18:31.440Z"
   },
   {
    "duration": 12,
    "start_time": "2022-01-22T14:18:31.485Z"
   },
   {
    "duration": 10,
    "start_time": "2022-01-22T14:18:31.498Z"
   },
   {
    "duration": 9,
    "start_time": "2022-01-22T14:18:31.510Z"
   },
   {
    "duration": 12,
    "start_time": "2022-01-22T14:18:31.520Z"
   },
   {
    "duration": 48,
    "start_time": "2022-01-22T14:18:31.533Z"
   },
   {
    "duration": 10,
    "start_time": "2022-01-22T14:18:31.583Z"
   },
   {
    "duration": 7,
    "start_time": "2022-01-22T14:18:31.594Z"
   },
   {
    "duration": 8,
    "start_time": "2022-01-22T14:18:31.602Z"
   },
   {
    "duration": 14,
    "start_time": "2022-01-22T14:18:31.611Z"
   },
   {
    "duration": 45,
    "start_time": "2022-01-22T14:18:31.629Z"
   },
   {
    "duration": 12,
    "start_time": "2022-01-22T14:18:31.676Z"
   },
   {
    "duration": 22,
    "start_time": "2022-01-22T14:18:31.690Z"
   },
   {
    "duration": 16,
    "start_time": "2022-01-22T14:18:31.714Z"
   },
   {
    "duration": 54,
    "start_time": "2022-01-22T14:18:31.731Z"
   },
   {
    "duration": 186,
    "start_time": "2022-01-22T14:18:31.787Z"
   },
   {
    "duration": 7,
    "start_time": "2022-01-22T14:18:31.975Z"
   },
   {
    "duration": 16,
    "start_time": "2022-01-22T14:18:31.984Z"
   },
   {
    "duration": 8,
    "start_time": "2022-01-22T14:18:32.073Z"
   },
   {
    "duration": 189,
    "start_time": "2022-01-22T14:18:32.084Z"
   },
   {
    "duration": 7,
    "start_time": "2022-01-22T14:18:32.276Z"
   },
   {
    "duration": 5,
    "start_time": "2022-01-22T14:18:32.372Z"
   },
   {
    "duration": 10,
    "start_time": "2022-01-22T14:18:32.378Z"
   },
   {
    "duration": 10,
    "start_time": "2022-01-22T14:18:32.389Z"
   },
   {
    "duration": 8,
    "start_time": "2022-01-22T14:18:32.401Z"
   },
   {
    "duration": 10,
    "start_time": "2022-01-22T14:18:32.410Z"
   },
   {
    "duration": 9,
    "start_time": "2022-01-22T14:18:32.421Z"
   },
   {
    "duration": 40,
    "start_time": "2022-01-22T14:18:32.432Z"
   },
   {
    "duration": 3,
    "start_time": "2022-01-22T14:18:32.474Z"
   },
   {
    "duration": 1365,
    "start_time": "2022-01-22T14:18:32.479Z"
   },
   {
    "duration": -2038,
    "start_time": "2022-01-22T14:18:35.884Z"
   },
   {
    "duration": -2039,
    "start_time": "2022-01-22T14:18:35.886Z"
   },
   {
    "duration": 302,
    "start_time": "2022-01-22T14:19:25.907Z"
   },
   {
    "duration": 359,
    "start_time": "2022-01-22T14:19:26.882Z"
   },
   {
    "duration": 3,
    "start_time": "2022-01-22T14:19:34.193Z"
   },
   {
    "duration": 496,
    "start_time": "2022-01-22T14:19:34.199Z"
   },
   {
    "duration": 16,
    "start_time": "2022-01-22T14:19:34.697Z"
   },
   {
    "duration": 11,
    "start_time": "2022-01-22T14:19:34.715Z"
   },
   {
    "duration": 16,
    "start_time": "2022-01-22T14:19:34.728Z"
   },
   {
    "duration": 12,
    "start_time": "2022-01-22T14:19:34.773Z"
   },
   {
    "duration": 16,
    "start_time": "2022-01-22T14:19:34.787Z"
   },
   {
    "duration": 12,
    "start_time": "2022-01-22T14:19:34.805Z"
   },
   {
    "duration": 69,
    "start_time": "2022-01-22T14:19:34.819Z"
   },
   {
    "duration": 42,
    "start_time": "2022-01-22T14:19:34.891Z"
   },
   {
    "duration": 13,
    "start_time": "2022-01-22T14:19:34.935Z"
   },
   {
    "duration": 53,
    "start_time": "2022-01-22T14:19:34.950Z"
   },
   {
    "duration": 35,
    "start_time": "2022-01-22T14:19:35.005Z"
   },
   {
    "duration": 33,
    "start_time": "2022-01-22T14:19:35.041Z"
   },
   {
    "duration": 13,
    "start_time": "2022-01-22T14:19:35.076Z"
   },
   {
    "duration": 14,
    "start_time": "2022-01-22T14:19:35.091Z"
   },
   {
    "duration": 12,
    "start_time": "2022-01-22T14:19:35.107Z"
   },
   {
    "duration": 57,
    "start_time": "2022-01-22T14:19:35.121Z"
   },
   {
    "duration": 12,
    "start_time": "2022-01-22T14:19:35.180Z"
   },
   {
    "duration": 11,
    "start_time": "2022-01-22T14:19:35.194Z"
   },
   {
    "duration": 13,
    "start_time": "2022-01-22T14:19:35.207Z"
   },
   {
    "duration": 52,
    "start_time": "2022-01-22T14:19:35.221Z"
   },
   {
    "duration": 8,
    "start_time": "2022-01-22T14:19:35.274Z"
   },
   {
    "duration": 7,
    "start_time": "2022-01-22T14:19:35.284Z"
   },
   {
    "duration": 6,
    "start_time": "2022-01-22T14:19:35.292Z"
   },
   {
    "duration": 15,
    "start_time": "2022-01-22T14:19:35.300Z"
   },
   {
    "duration": 12,
    "start_time": "2022-01-22T14:19:35.318Z"
   },
   {
    "duration": 40,
    "start_time": "2022-01-22T14:19:35.332Z"
   },
   {
    "duration": 19,
    "start_time": "2022-01-22T14:19:35.374Z"
   },
   {
    "duration": 13,
    "start_time": "2022-01-22T14:19:35.394Z"
   },
   {
    "duration": 13,
    "start_time": "2022-01-22T14:19:35.408Z"
   },
   {
    "duration": 61,
    "start_time": "2022-01-22T14:19:35.422Z"
   },
   {
    "duration": 91,
    "start_time": "2022-01-22T14:19:35.485Z"
   },
   {
    "duration": 16,
    "start_time": "2022-01-22T14:19:35.578Z"
   },
   {
    "duration": 99,
    "start_time": "2022-01-22T14:19:35.675Z"
   },
   {
    "duration": 16,
    "start_time": "2022-01-22T14:19:35.776Z"
   },
   {
    "duration": 9,
    "start_time": "2022-01-22T14:19:35.872Z"
   },
   {
    "duration": 93,
    "start_time": "2022-01-22T14:19:35.883Z"
   },
   {
    "duration": 13,
    "start_time": "2022-01-22T14:19:35.978Z"
   },
   {
    "duration": 6,
    "start_time": "2022-01-22T14:19:35.993Z"
   },
   {
    "duration": 7,
    "start_time": "2022-01-22T14:19:36.001Z"
   },
   {
    "duration": 10,
    "start_time": "2022-01-22T14:19:36.010Z"
   },
   {
    "duration": 52,
    "start_time": "2022-01-22T14:19:36.022Z"
   },
   {
    "duration": 8,
    "start_time": "2022-01-22T14:19:36.075Z"
   },
   {
    "duration": 3,
    "start_time": "2022-01-22T14:19:36.084Z"
   },
   {
    "duration": 1112,
    "start_time": "2022-01-22T14:19:36.089Z"
   },
   {
    "duration": -1326,
    "start_time": "2022-01-22T14:19:38.529Z"
   },
   {
    "duration": -1330,
    "start_time": "2022-01-22T14:19:38.534Z"
   },
   {
    "duration": -1332,
    "start_time": "2022-01-22T14:19:38.537Z"
   },
   {
    "duration": -1336,
    "start_time": "2022-01-22T14:19:38.542Z"
   },
   {
    "duration": 3,
    "start_time": "2022-01-22T14:20:11.006Z"
   },
   {
    "duration": 372,
    "start_time": "2022-01-22T14:20:11.011Z"
   },
   {
    "duration": 9,
    "start_time": "2022-01-22T14:20:11.385Z"
   },
   {
    "duration": 8,
    "start_time": "2022-01-22T14:20:11.396Z"
   },
   {
    "duration": 13,
    "start_time": "2022-01-22T14:20:11.406Z"
   },
   {
    "duration": 7,
    "start_time": "2022-01-22T14:20:11.420Z"
   },
   {
    "duration": 11,
    "start_time": "2022-01-22T14:20:11.429Z"
   },
   {
    "duration": 7,
    "start_time": "2022-01-22T14:20:11.471Z"
   },
   {
    "duration": 38,
    "start_time": "2022-01-22T14:20:11.481Z"
   },
   {
    "duration": 76,
    "start_time": "2022-01-22T14:20:11.521Z"
   },
   {
    "duration": 13,
    "start_time": "2022-01-22T14:20:11.598Z"
   },
   {
    "duration": 35,
    "start_time": "2022-01-22T14:20:11.613Z"
   },
   {
    "duration": 59,
    "start_time": "2022-01-22T14:20:11.650Z"
   },
   {
    "duration": 13,
    "start_time": "2022-01-22T14:20:11.710Z"
   },
   {
    "duration": 12,
    "start_time": "2022-01-22T14:20:11.725Z"
   },
   {
    "duration": 41,
    "start_time": "2022-01-22T14:20:11.739Z"
   },
   {
    "duration": 10,
    "start_time": "2022-01-22T14:20:11.783Z"
   },
   {
    "duration": 10,
    "start_time": "2022-01-22T14:20:11.794Z"
   },
   {
    "duration": 9,
    "start_time": "2022-01-22T14:20:11.805Z"
   },
   {
    "duration": 10,
    "start_time": "2022-01-22T14:20:11.815Z"
   },
   {
    "duration": 48,
    "start_time": "2022-01-22T14:20:11.826Z"
   },
   {
    "duration": 12,
    "start_time": "2022-01-22T14:20:11.876Z"
   },
   {
    "duration": 8,
    "start_time": "2022-01-22T14:20:11.890Z"
   },
   {
    "duration": 6,
    "start_time": "2022-01-22T14:20:11.899Z"
   },
   {
    "duration": 6,
    "start_time": "2022-01-22T14:20:11.906Z"
   },
   {
    "duration": 16,
    "start_time": "2022-01-22T14:20:11.914Z"
   },
   {
    "duration": 12,
    "start_time": "2022-01-22T14:20:11.971Z"
   },
   {
    "duration": 11,
    "start_time": "2022-01-22T14:20:11.986Z"
   },
   {
    "duration": 20,
    "start_time": "2022-01-22T14:20:11.999Z"
   },
   {
    "duration": 18,
    "start_time": "2022-01-22T14:20:12.022Z"
   },
   {
    "duration": 47,
    "start_time": "2022-01-22T14:20:12.041Z"
   },
   {
    "duration": 89,
    "start_time": "2022-01-22T14:20:12.090Z"
   },
   {
    "duration": 95,
    "start_time": "2022-01-22T14:20:12.182Z"
   },
   {
    "duration": 18,
    "start_time": "2022-01-22T14:20:12.279Z"
   },
   {
    "duration": 11,
    "start_time": "2022-01-22T14:20:12.373Z"
   },
   {
    "duration": 103,
    "start_time": "2022-01-22T14:20:12.474Z"
   },
   {
    "duration": 9,
    "start_time": "2022-01-22T14:20:12.579Z"
   },
   {
    "duration": 7,
    "start_time": "2022-01-22T14:20:12.673Z"
   },
   {
    "duration": 4,
    "start_time": "2022-01-22T14:20:12.682Z"
   },
   {
    "duration": 13,
    "start_time": "2022-01-22T14:20:12.688Z"
   },
   {
    "duration": 9,
    "start_time": "2022-01-22T14:20:12.703Z"
   },
   {
    "duration": 17,
    "start_time": "2022-01-22T14:20:12.714Z"
   },
   {
    "duration": 40,
    "start_time": "2022-01-22T14:20:12.733Z"
   },
   {
    "duration": 8,
    "start_time": "2022-01-22T14:20:12.774Z"
   },
   {
    "duration": 1052,
    "start_time": "2022-01-22T14:20:12.785Z"
   },
   {
    "duration": -1326,
    "start_time": "2022-01-22T14:20:15.165Z"
   },
   {
    "duration": -1329,
    "start_time": "2022-01-22T14:20:15.169Z"
   },
   {
    "duration": -1330,
    "start_time": "2022-01-22T14:20:15.171Z"
   },
   {
    "duration": -1331,
    "start_time": "2022-01-22T14:20:15.173Z"
   },
   {
    "duration": -1335,
    "start_time": "2022-01-22T14:20:15.178Z"
   },
   {
    "duration": 5,
    "start_time": "2022-01-22T14:20:22.972Z"
   },
   {
    "duration": 314,
    "start_time": "2022-01-22T14:20:27.667Z"
   },
   {
    "duration": 5,
    "start_time": "2022-01-22T14:20:30.809Z"
   },
   {
    "duration": 3,
    "start_time": "2022-01-22T14:21:08.078Z"
   },
   {
    "duration": 5,
    "start_time": "2022-01-22T14:21:12.834Z"
   },
   {
    "duration": 3,
    "start_time": "2022-01-22T14:21:25.188Z"
   },
   {
    "duration": 441,
    "start_time": "2022-01-22T14:21:25.194Z"
   },
   {
    "duration": 9,
    "start_time": "2022-01-22T14:21:25.637Z"
   },
   {
    "duration": 8,
    "start_time": "2022-01-22T14:21:25.648Z"
   },
   {
    "duration": 19,
    "start_time": "2022-01-22T14:21:25.657Z"
   },
   {
    "duration": 8,
    "start_time": "2022-01-22T14:21:25.677Z"
   },
   {
    "duration": 10,
    "start_time": "2022-01-22T14:21:25.686Z"
   },
   {
    "duration": 7,
    "start_time": "2022-01-22T14:21:25.698Z"
   },
   {
    "duration": 92,
    "start_time": "2022-01-22T14:21:25.707Z"
   },
   {
    "duration": 47,
    "start_time": "2022-01-22T14:21:25.801Z"
   },
   {
    "duration": 29,
    "start_time": "2022-01-22T14:21:25.850Z"
   },
   {
    "duration": 34,
    "start_time": "2022-01-22T14:21:25.881Z"
   },
   {
    "duration": 72,
    "start_time": "2022-01-22T14:21:25.916Z"
   },
   {
    "duration": 16,
    "start_time": "2022-01-22T14:21:25.991Z"
   },
   {
    "duration": 13,
    "start_time": "2022-01-22T14:21:26.009Z"
   },
   {
    "duration": 49,
    "start_time": "2022-01-22T14:21:26.023Z"
   },
   {
    "duration": 11,
    "start_time": "2022-01-22T14:21:26.074Z"
   },
   {
    "duration": 10,
    "start_time": "2022-01-22T14:21:26.086Z"
   },
   {
    "duration": 10,
    "start_time": "2022-01-22T14:21:26.098Z"
   },
   {
    "duration": 9,
    "start_time": "2022-01-22T14:21:26.109Z"
   },
   {
    "duration": 57,
    "start_time": "2022-01-22T14:21:26.120Z"
   },
   {
    "duration": 10,
    "start_time": "2022-01-22T14:21:26.178Z"
   },
   {
    "duration": 4,
    "start_time": "2022-01-22T14:21:26.192Z"
   },
   {
    "duration": 5,
    "start_time": "2022-01-22T14:21:26.198Z"
   },
   {
    "duration": 9,
    "start_time": "2022-01-22T14:21:26.204Z"
   },
   {
    "duration": 58,
    "start_time": "2022-01-22T14:21:26.214Z"
   },
   {
    "duration": 11,
    "start_time": "2022-01-22T14:21:26.274Z"
   },
   {
    "duration": 11,
    "start_time": "2022-01-22T14:21:26.287Z"
   },
   {
    "duration": 20,
    "start_time": "2022-01-22T14:21:26.300Z"
   },
   {
    "duration": 56,
    "start_time": "2022-01-22T14:21:26.322Z"
   },
   {
    "duration": 15,
    "start_time": "2022-01-22T14:21:26.379Z"
   },
   {
    "duration": 77,
    "start_time": "2022-01-22T14:21:26.395Z"
   },
   {
    "duration": 8,
    "start_time": "2022-01-22T14:21:26.475Z"
   },
   {
    "duration": 98,
    "start_time": "2022-01-22T14:21:26.486Z"
   },
   {
    "duration": 92,
    "start_time": "2022-01-22T14:21:26.586Z"
   },
   {
    "duration": 192,
    "start_time": "2022-01-22T14:21:26.681Z"
   },
   {
    "duration": 98,
    "start_time": "2022-01-22T14:21:26.875Z"
   },
   {
    "duration": 5,
    "start_time": "2022-01-22T14:21:26.975Z"
   },
   {
    "duration": 9,
    "start_time": "2022-01-22T14:21:26.981Z"
   },
   {
    "duration": 5,
    "start_time": "2022-01-22T14:21:26.991Z"
   },
   {
    "duration": 5,
    "start_time": "2022-01-22T14:21:26.998Z"
   },
   {
    "duration": 9,
    "start_time": "2022-01-22T14:21:27.004Z"
   },
   {
    "duration": 60,
    "start_time": "2022-01-22T14:21:27.014Z"
   },
   {
    "duration": 8,
    "start_time": "2022-01-22T14:21:27.075Z"
   },
   {
    "duration": 4,
    "start_time": "2022-01-22T14:21:27.084Z"
   },
   {
    "duration": 6,
    "start_time": "2022-01-22T14:21:27.090Z"
   },
   {
    "duration": 8,
    "start_time": "2022-01-22T14:21:27.097Z"
   },
   {
    "duration": 604,
    "start_time": "2022-01-22T14:21:27.107Z"
   },
   {
    "duration": -1328,
    "start_time": "2022-01-22T14:21:29.041Z"
   },
   {
    "duration": -1329,
    "start_time": "2022-01-22T14:21:29.043Z"
   },
   {
    "duration": 3,
    "start_time": "2022-01-22T14:22:36.440Z"
   },
   {
    "duration": 365,
    "start_time": "2022-01-22T14:22:36.446Z"
   },
   {
    "duration": 13,
    "start_time": "2022-01-22T14:22:36.814Z"
   },
   {
    "duration": 10,
    "start_time": "2022-01-22T14:22:36.829Z"
   },
   {
    "duration": 35,
    "start_time": "2022-01-22T14:22:36.841Z"
   },
   {
    "duration": 8,
    "start_time": "2022-01-22T14:22:36.877Z"
   },
   {
    "duration": 11,
    "start_time": "2022-01-22T14:22:36.887Z"
   },
   {
    "duration": 7,
    "start_time": "2022-01-22T14:22:36.899Z"
   },
   {
    "duration": 62,
    "start_time": "2022-01-22T14:22:36.909Z"
   },
   {
    "duration": 52,
    "start_time": "2022-01-22T14:22:36.974Z"
   },
   {
    "duration": 14,
    "start_time": "2022-01-22T14:22:37.028Z"
   },
   {
    "duration": 60,
    "start_time": "2022-01-22T14:22:37.044Z"
   },
   {
    "duration": 36,
    "start_time": "2022-01-22T14:22:37.106Z"
   },
   {
    "duration": 38,
    "start_time": "2022-01-22T14:22:37.144Z"
   },
   {
    "duration": 13,
    "start_time": "2022-01-22T14:22:37.185Z"
   },
   {
    "duration": 13,
    "start_time": "2022-01-22T14:22:37.200Z"
   },
   {
    "duration": 12,
    "start_time": "2022-01-22T14:22:37.215Z"
   },
   {
    "duration": 52,
    "start_time": "2022-01-22T14:22:37.228Z"
   },
   {
    "duration": 11,
    "start_time": "2022-01-22T14:22:37.282Z"
   },
   {
    "duration": 10,
    "start_time": "2022-01-22T14:22:37.295Z"
   },
   {
    "duration": 12,
    "start_time": "2022-01-22T14:22:37.307Z"
   },
   {
    "duration": 13,
    "start_time": "2022-01-22T14:22:37.320Z"
   },
   {
    "duration": 7,
    "start_time": "2022-01-22T14:22:37.372Z"
   },
   {
    "duration": 5,
    "start_time": "2022-01-22T14:22:37.381Z"
   },
   {
    "duration": 5,
    "start_time": "2022-01-22T14:22:37.388Z"
   },
   {
    "duration": 14,
    "start_time": "2022-01-22T14:22:37.395Z"
   },
   {
    "duration": 11,
    "start_time": "2022-01-22T14:22:37.413Z"
   },
   {
    "duration": 48,
    "start_time": "2022-01-22T14:22:37.426Z"
   },
   {
    "duration": 22,
    "start_time": "2022-01-22T14:22:37.476Z"
   },
   {
    "duration": 15,
    "start_time": "2022-01-22T14:22:37.500Z"
   },
   {
    "duration": 13,
    "start_time": "2022-01-22T14:22:37.516Z"
   },
   {
    "duration": 49,
    "start_time": "2022-01-22T14:22:37.531Z"
   },
   {
    "duration": 7,
    "start_time": "2022-01-22T14:22:37.673Z"
   },
   {
    "duration": 93,
    "start_time": "2022-01-22T14:22:37.682Z"
   },
   {
    "duration": 8,
    "start_time": "2022-01-22T14:22:37.777Z"
   },
   {
    "duration": 22,
    "start_time": "2022-01-22T14:22:37.872Z"
   },
   {
    "duration": 89,
    "start_time": "2022-01-22T14:22:37.897Z"
   },
   {
    "duration": 6,
    "start_time": "2022-01-22T14:22:38.072Z"
   },
   {
    "duration": 27,
    "start_time": "2022-01-22T14:22:38.079Z"
   },
   {
    "duration": 34,
    "start_time": "2022-01-22T14:22:38.107Z"
   },
   {
    "duration": 23,
    "start_time": "2022-01-22T14:22:38.143Z"
   },
   {
    "duration": 34,
    "start_time": "2022-01-22T14:22:38.167Z"
   },
   {
    "duration": 35,
    "start_time": "2022-01-22T14:22:38.202Z"
   },
   {
    "duration": 14,
    "start_time": "2022-01-22T14:22:38.239Z"
   },
   {
    "duration": 35,
    "start_time": "2022-01-22T14:22:38.254Z"
   },
   {
    "duration": 32,
    "start_time": "2022-01-22T14:22:38.290Z"
   },
   {
    "duration": 35,
    "start_time": "2022-01-22T14:22:38.324Z"
   },
   {
    "duration": 887,
    "start_time": "2022-01-22T14:22:38.361Z"
   },
   {
    "duration": -1330,
    "start_time": "2022-01-22T14:22:40.580Z"
   },
   {
    "duration": -1332,
    "start_time": "2022-01-22T14:22:40.583Z"
   },
   {
    "duration": 3,
    "start_time": "2022-01-22T14:23:03.863Z"
   },
   {
    "duration": 351,
    "start_time": "2022-01-22T14:23:03.868Z"
   },
   {
    "duration": 10,
    "start_time": "2022-01-22T14:23:04.221Z"
   },
   {
    "duration": 8,
    "start_time": "2022-01-22T14:23:04.232Z"
   },
   {
    "duration": 34,
    "start_time": "2022-01-22T14:23:04.242Z"
   },
   {
    "duration": 9,
    "start_time": "2022-01-22T14:23:04.278Z"
   },
   {
    "duration": 12,
    "start_time": "2022-01-22T14:23:04.289Z"
   },
   {
    "duration": 9,
    "start_time": "2022-01-22T14:23:04.304Z"
   },
   {
    "duration": 86,
    "start_time": "2022-01-22T14:23:04.315Z"
   },
   {
    "duration": 50,
    "start_time": "2022-01-22T14:23:04.403Z"
   },
   {
    "duration": 31,
    "start_time": "2022-01-22T14:23:04.454Z"
   },
   {
    "duration": 36,
    "start_time": "2022-01-22T14:23:04.487Z"
   },
   {
    "duration": 63,
    "start_time": "2022-01-22T14:23:04.525Z"
   },
   {
    "duration": 12,
    "start_time": "2022-01-22T14:23:04.590Z"
   },
   {
    "duration": 13,
    "start_time": "2022-01-22T14:23:04.604Z"
   },
   {
    "duration": 12,
    "start_time": "2022-01-22T14:23:04.619Z"
   },
   {
    "duration": 43,
    "start_time": "2022-01-22T14:23:04.632Z"
   },
   {
    "duration": 12,
    "start_time": "2022-01-22T14:23:04.676Z"
   },
   {
    "duration": 12,
    "start_time": "2022-01-22T14:23:04.690Z"
   },
   {
    "duration": 11,
    "start_time": "2022-01-22T14:23:04.705Z"
   },
   {
    "duration": 11,
    "start_time": "2022-01-22T14:23:04.717Z"
   },
   {
    "duration": 52,
    "start_time": "2022-01-22T14:23:04.730Z"
   },
   {
    "duration": 5,
    "start_time": "2022-01-22T14:23:04.787Z"
   },
   {
    "duration": 6,
    "start_time": "2022-01-22T14:23:04.794Z"
   },
   {
    "duration": 6,
    "start_time": "2022-01-22T14:23:04.802Z"
   },
   {
    "duration": 13,
    "start_time": "2022-01-22T14:23:04.809Z"
   },
   {
    "duration": 50,
    "start_time": "2022-01-22T14:23:04.824Z"
   },
   {
    "duration": 11,
    "start_time": "2022-01-22T14:23:04.876Z"
   },
   {
    "duration": 20,
    "start_time": "2022-01-22T14:23:04.889Z"
   },
   {
    "duration": 13,
    "start_time": "2022-01-22T14:23:04.910Z"
   },
   {
    "duration": 13,
    "start_time": "2022-01-22T14:23:04.924Z"
   },
   {
    "duration": 139,
    "start_time": "2022-01-22T14:23:04.939Z"
   },
   {
    "duration": 96,
    "start_time": "2022-01-22T14:23:05.080Z"
   },
   {
    "duration": 93,
    "start_time": "2022-01-22T14:23:05.179Z"
   },
   {
    "duration": 10,
    "start_time": "2022-01-22T14:23:05.274Z"
   },
   {
    "duration": 16,
    "start_time": "2022-01-22T14:23:05.373Z"
   },
   {
    "duration": 83,
    "start_time": "2022-01-22T14:23:05.391Z"
   },
   {
    "duration": 96,
    "start_time": "2022-01-22T14:23:05.476Z"
   },
   {
    "duration": 4,
    "start_time": "2022-01-22T14:23:05.574Z"
   },
   {
    "duration": 5,
    "start_time": "2022-01-22T14:23:05.579Z"
   },
   {
    "duration": 4,
    "start_time": "2022-01-22T14:23:05.586Z"
   },
   {
    "duration": 8,
    "start_time": "2022-01-22T14:23:05.591Z"
   },
   {
    "duration": 7,
    "start_time": "2022-01-22T14:23:05.600Z"
   },
   {
    "duration": 7,
    "start_time": "2022-01-22T14:23:05.608Z"
   },
   {
    "duration": 56,
    "start_time": "2022-01-22T14:23:05.617Z"
   },
   {
    "duration": 4,
    "start_time": "2022-01-22T14:23:05.676Z"
   },
   {
    "duration": 5,
    "start_time": "2022-01-22T14:23:05.682Z"
   },
   {
    "duration": 1115,
    "start_time": "2022-01-22T14:23:05.689Z"
   },
   {
    "duration": -1334,
    "start_time": "2022-01-22T14:23:08.140Z"
   },
   {
    "duration": -1337,
    "start_time": "2022-01-22T14:23:08.145Z"
   },
   {
    "duration": 3,
    "start_time": "2022-01-22T14:26:12.107Z"
   },
   {
    "duration": 338,
    "start_time": "2022-01-22T14:26:12.112Z"
   },
   {
    "duration": 11,
    "start_time": "2022-01-22T14:26:12.452Z"
   },
   {
    "duration": 8,
    "start_time": "2022-01-22T14:26:12.471Z"
   },
   {
    "duration": 23,
    "start_time": "2022-01-22T14:26:12.480Z"
   },
   {
    "duration": 19,
    "start_time": "2022-01-22T14:26:12.505Z"
   },
   {
    "duration": 15,
    "start_time": "2022-01-22T14:26:12.526Z"
   },
   {
    "duration": 17,
    "start_time": "2022-01-22T14:26:12.543Z"
   },
   {
    "duration": 52,
    "start_time": "2022-01-22T14:26:12.563Z"
   },
   {
    "duration": 46,
    "start_time": "2022-01-22T14:26:12.617Z"
   },
   {
    "duration": 20,
    "start_time": "2022-01-22T14:26:12.666Z"
   },
   {
    "duration": 60,
    "start_time": "2022-01-22T14:26:12.688Z"
   },
   {
    "duration": 37,
    "start_time": "2022-01-22T14:26:12.750Z"
   },
   {
    "duration": 14,
    "start_time": "2022-01-22T14:26:12.788Z"
   },
   {
    "duration": 15,
    "start_time": "2022-01-22T14:26:12.804Z"
   },
   {
    "duration": 13,
    "start_time": "2022-01-22T14:26:12.820Z"
   },
   {
    "duration": 42,
    "start_time": "2022-01-22T14:26:12.835Z"
   },
   {
    "duration": 9,
    "start_time": "2022-01-22T14:26:12.879Z"
   },
   {
    "duration": 9,
    "start_time": "2022-01-22T14:26:12.890Z"
   },
   {
    "duration": 12,
    "start_time": "2022-01-22T14:26:12.901Z"
   },
   {
    "duration": 11,
    "start_time": "2022-01-22T14:26:12.915Z"
   },
   {
    "duration": 55,
    "start_time": "2022-01-22T14:26:12.928Z"
   },
   {
    "duration": 6,
    "start_time": "2022-01-22T14:26:12.985Z"
   },
   {
    "duration": 5,
    "start_time": "2022-01-22T14:26:12.992Z"
   },
   {
    "duration": 7,
    "start_time": "2022-01-22T14:26:12.999Z"
   },
   {
    "duration": 16,
    "start_time": "2022-01-22T14:26:13.007Z"
   },
   {
    "duration": 10,
    "start_time": "2022-01-22T14:26:13.026Z"
   },
   {
    "duration": 40,
    "start_time": "2022-01-22T14:26:13.038Z"
   },
   {
    "duration": 19,
    "start_time": "2022-01-22T14:26:13.080Z"
   },
   {
    "duration": 13,
    "start_time": "2022-01-22T14:26:13.100Z"
   },
   {
    "duration": 16,
    "start_time": "2022-01-22T14:26:13.115Z"
   },
   {
    "duration": 144,
    "start_time": "2022-01-22T14:26:13.133Z"
   },
   {
    "duration": 94,
    "start_time": "2022-01-22T14:26:13.279Z"
   },
   {
    "duration": 17,
    "start_time": "2022-01-22T14:26:13.375Z"
   },
   {
    "duration": 82,
    "start_time": "2022-01-22T14:26:13.393Z"
   },
   {
    "duration": 112,
    "start_time": "2022-01-22T14:26:13.478Z"
   },
   {
    "duration": 99,
    "start_time": "2022-01-22T14:26:13.673Z"
   },
   {
    "duration": 5,
    "start_time": "2022-01-22T14:26:13.773Z"
   },
   {
    "duration": 5,
    "start_time": "2022-01-22T14:26:13.779Z"
   },
   {
    "duration": 4,
    "start_time": "2022-01-22T14:26:13.786Z"
   },
   {
    "duration": 4,
    "start_time": "2022-01-22T14:26:13.792Z"
   },
   {
    "duration": 8,
    "start_time": "2022-01-22T14:26:13.797Z"
   },
   {
    "duration": 7,
    "start_time": "2022-01-22T14:26:13.806Z"
   },
   {
    "duration": 8,
    "start_time": "2022-01-22T14:26:13.814Z"
   },
   {
    "duration": 2,
    "start_time": "2022-01-22T14:26:13.872Z"
   },
   {
    "duration": 4,
    "start_time": "2022-01-22T14:26:13.876Z"
   },
   {
    "duration": 5,
    "start_time": "2022-01-22T14:26:13.882Z"
   },
   {
    "duration": 571,
    "start_time": "2022-01-22T14:26:13.888Z"
   },
   {
    "duration": -1328,
    "start_time": "2022-01-22T14:26:15.789Z"
   },
   {
    "duration": -1329,
    "start_time": "2022-01-22T14:26:15.791Z"
   },
   {
    "duration": 3,
    "start_time": "2022-01-22T14:27:24.721Z"
   },
   {
    "duration": 439,
    "start_time": "2022-01-22T14:27:24.726Z"
   },
   {
    "duration": 16,
    "start_time": "2022-01-22T14:27:25.168Z"
   },
   {
    "duration": 11,
    "start_time": "2022-01-22T14:27:25.186Z"
   },
   {
    "duration": 14,
    "start_time": "2022-01-22T14:27:25.199Z"
   },
   {
    "duration": 8,
    "start_time": "2022-01-22T14:27:25.215Z"
   },
   {
    "duration": 47,
    "start_time": "2022-01-22T14:27:25.225Z"
   },
   {
    "duration": 9,
    "start_time": "2022-01-22T14:27:25.274Z"
   },
   {
    "duration": 40,
    "start_time": "2022-01-22T14:27:25.286Z"
   },
   {
    "duration": 77,
    "start_time": "2022-01-22T14:27:25.328Z"
   },
   {
    "duration": 13,
    "start_time": "2022-01-22T14:27:25.407Z"
   },
   {
    "duration": 69,
    "start_time": "2022-01-22T14:27:25.422Z"
   },
   {
    "duration": 43,
    "start_time": "2022-01-22T14:27:25.493Z"
   },
   {
    "duration": 39,
    "start_time": "2022-01-22T14:27:25.537Z"
   },
   {
    "duration": 13,
    "start_time": "2022-01-22T14:27:25.578Z"
   },
   {
    "duration": 14,
    "start_time": "2022-01-22T14:27:25.593Z"
   },
   {
    "duration": 11,
    "start_time": "2022-01-22T14:27:25.609Z"
   },
   {
    "duration": 11,
    "start_time": "2022-01-22T14:27:25.621Z"
   },
   {
    "duration": 52,
    "start_time": "2022-01-22T14:27:25.633Z"
   },
   {
    "duration": 10,
    "start_time": "2022-01-22T14:27:25.687Z"
   },
   {
    "duration": 13,
    "start_time": "2022-01-22T14:27:25.699Z"
   },
   {
    "duration": 11,
    "start_time": "2022-01-22T14:27:25.714Z"
   },
   {
    "duration": 6,
    "start_time": "2022-01-22T14:27:25.727Z"
   },
   {
    "duration": 37,
    "start_time": "2022-01-22T14:27:25.735Z"
   },
   {
    "duration": 6,
    "start_time": "2022-01-22T14:27:25.774Z"
   },
   {
    "duration": 14,
    "start_time": "2022-01-22T14:27:25.782Z"
   },
   {
    "duration": 11,
    "start_time": "2022-01-22T14:27:25.800Z"
   },
   {
    "duration": 11,
    "start_time": "2022-01-22T14:27:25.813Z"
   },
   {
    "duration": 63,
    "start_time": "2022-01-22T14:27:25.826Z"
   },
   {
    "duration": 17,
    "start_time": "2022-01-22T14:27:25.891Z"
   },
   {
    "duration": 19,
    "start_time": "2022-01-22T14:27:25.910Z"
   },
   {
    "duration": 146,
    "start_time": "2022-01-22T14:27:25.931Z"
   },
   {
    "duration": 93,
    "start_time": "2022-01-22T14:27:26.080Z"
   },
   {
    "duration": 17,
    "start_time": "2022-01-22T14:27:26.175Z"
   },
   {
    "duration": 88,
    "start_time": "2022-01-22T14:27:26.194Z"
   },
   {
    "duration": 99,
    "start_time": "2022-01-22T14:27:26.285Z"
   },
   {
    "duration": 187,
    "start_time": "2022-01-22T14:27:26.386Z"
   },
   {
    "duration": 4,
    "start_time": "2022-01-22T14:27:26.576Z"
   },
   {
    "duration": 6,
    "start_time": "2022-01-22T14:27:26.582Z"
   },
   {
    "duration": 6,
    "start_time": "2022-01-22T14:27:26.589Z"
   },
   {
    "duration": 13,
    "start_time": "2022-01-22T14:27:26.597Z"
   },
   {
    "duration": 15,
    "start_time": "2022-01-22T14:27:26.612Z"
   },
   {
    "duration": 17,
    "start_time": "2022-01-22T14:27:26.629Z"
   },
   {
    "duration": 33,
    "start_time": "2022-01-22T14:27:26.647Z"
   },
   {
    "duration": 3,
    "start_time": "2022-01-22T14:27:26.682Z"
   },
   {
    "duration": 6,
    "start_time": "2022-01-22T14:27:26.687Z"
   },
   {
    "duration": 12,
    "start_time": "2022-01-22T14:27:26.695Z"
   },
   {
    "duration": 610,
    "start_time": "2022-01-22T14:27:26.709Z"
   },
   {
    "duration": -1338,
    "start_time": "2022-01-22T14:27:28.659Z"
   },
   {
    "duration": -1338,
    "start_time": "2022-01-22T14:27:28.661Z"
   },
   {
    "duration": 4,
    "start_time": "2022-01-22T14:28:35.028Z"
   },
   {
    "duration": 530,
    "start_time": "2022-01-22T14:28:35.035Z"
   },
   {
    "duration": 16,
    "start_time": "2022-01-22T14:28:35.569Z"
   },
   {
    "duration": 12,
    "start_time": "2022-01-22T14:28:35.588Z"
   },
   {
    "duration": 14,
    "start_time": "2022-01-22T14:28:35.603Z"
   },
   {
    "duration": 17,
    "start_time": "2022-01-22T14:28:35.619Z"
   },
   {
    "duration": 39,
    "start_time": "2022-01-22T14:28:35.637Z"
   },
   {
    "duration": 21,
    "start_time": "2022-01-22T14:28:35.678Z"
   },
   {
    "duration": 75,
    "start_time": "2022-01-22T14:28:35.702Z"
   },
   {
    "duration": 114,
    "start_time": "2022-01-22T14:28:35.780Z"
   },
   {
    "duration": 22,
    "start_time": "2022-01-22T14:28:35.896Z"
   },
   {
    "duration": 78,
    "start_time": "2022-01-22T14:28:35.920Z"
   },
   {
    "duration": 40,
    "start_time": "2022-01-22T14:28:36.000Z"
   },
   {
    "duration": 35,
    "start_time": "2022-01-22T14:28:36.042Z"
   },
   {
    "duration": 14,
    "start_time": "2022-01-22T14:28:36.078Z"
   },
   {
    "duration": 22,
    "start_time": "2022-01-22T14:28:36.094Z"
   },
   {
    "duration": 20,
    "start_time": "2022-01-22T14:28:36.118Z"
   },
   {
    "duration": 46,
    "start_time": "2022-01-22T14:28:36.140Z"
   },
   {
    "duration": 11,
    "start_time": "2022-01-22T14:28:36.188Z"
   },
   {
    "duration": 12,
    "start_time": "2022-01-22T14:28:36.200Z"
   },
   {
    "duration": 23,
    "start_time": "2022-01-22T14:28:36.214Z"
   },
   {
    "duration": 10,
    "start_time": "2022-01-22T14:28:36.273Z"
   },
   {
    "duration": 22,
    "start_time": "2022-01-22T14:28:36.289Z"
   },
   {
    "duration": 14,
    "start_time": "2022-01-22T14:28:36.314Z"
   },
   {
    "duration": 17,
    "start_time": "2022-01-22T14:28:36.330Z"
   },
   {
    "duration": 25,
    "start_time": "2022-01-22T14:28:36.349Z"
   },
   {
    "duration": 15,
    "start_time": "2022-01-22T14:28:36.376Z"
   },
   {
    "duration": 12,
    "start_time": "2022-01-22T14:28:36.393Z"
   },
   {
    "duration": 21,
    "start_time": "2022-01-22T14:28:36.407Z"
   },
   {
    "duration": 44,
    "start_time": "2022-01-22T14:28:36.430Z"
   },
   {
    "duration": 15,
    "start_time": "2022-01-22T14:28:36.476Z"
   },
   {
    "duration": 85,
    "start_time": "2022-01-22T14:28:36.493Z"
   },
   {
    "duration": 92,
    "start_time": "2022-01-22T14:28:36.584Z"
   },
   {
    "duration": 96,
    "start_time": "2022-01-22T14:28:36.678Z"
   },
   {
    "duration": 95,
    "start_time": "2022-01-22T14:28:36.776Z"
   },
   {
    "duration": 99,
    "start_time": "2022-01-22T14:28:36.873Z"
   },
   {
    "duration": 9,
    "start_time": "2022-01-22T14:28:36.975Z"
   },
   {
    "duration": 89,
    "start_time": "2022-01-22T14:28:36.986Z"
   },
   {
    "duration": 10,
    "start_time": "2022-01-22T14:28:37.077Z"
   },
   {
    "duration": 24,
    "start_time": "2022-01-22T14:28:37.089Z"
   },
   {
    "duration": 4,
    "start_time": "2022-01-22T14:28:37.116Z"
   },
   {
    "duration": 14,
    "start_time": "2022-01-22T14:28:37.122Z"
   },
   {
    "duration": 36,
    "start_time": "2022-01-22T14:28:37.138Z"
   },
   {
    "duration": 8,
    "start_time": "2022-01-22T14:28:37.176Z"
   },
   {
    "duration": 2,
    "start_time": "2022-01-22T14:28:37.186Z"
   },
   {
    "duration": 7,
    "start_time": "2022-01-22T14:28:37.190Z"
   },
   {
    "duration": 19,
    "start_time": "2022-01-22T14:28:37.198Z"
   },
   {
    "duration": 25,
    "start_time": "2022-01-22T14:28:37.219Z"
   },
   {
    "duration": 392,
    "start_time": "2022-01-22T14:28:37.245Z"
   },
   {
    "duration": -1369,
    "start_time": "2022-01-22T14:28:39.008Z"
   },
   {
    "duration": 10,
    "start_time": "2022-01-22T14:29:28.367Z"
   },
   {
    "duration": 3,
    "start_time": "2022-01-22T14:30:00.047Z"
   },
   {
    "duration": 382,
    "start_time": "2022-01-22T14:30:00.052Z"
   },
   {
    "duration": 10,
    "start_time": "2022-01-22T14:30:00.436Z"
   },
   {
    "duration": 35,
    "start_time": "2022-01-22T14:30:00.448Z"
   },
   {
    "duration": 33,
    "start_time": "2022-01-22T14:30:00.485Z"
   },
   {
    "duration": 23,
    "start_time": "2022-01-22T14:30:00.520Z"
   },
   {
    "duration": 23,
    "start_time": "2022-01-22T14:30:00.544Z"
   },
   {
    "duration": 18,
    "start_time": "2022-01-22T14:30:00.569Z"
   },
   {
    "duration": 46,
    "start_time": "2022-01-22T14:30:00.590Z"
   },
   {
    "duration": 63,
    "start_time": "2022-01-22T14:30:00.638Z"
   },
   {
    "duration": 21,
    "start_time": "2022-01-22T14:30:00.703Z"
   },
   {
    "duration": 61,
    "start_time": "2022-01-22T14:30:00.726Z"
   },
   {
    "duration": 40,
    "start_time": "2022-01-22T14:30:00.788Z"
   },
   {
    "duration": 13,
    "start_time": "2022-01-22T14:30:00.830Z"
   },
   {
    "duration": 34,
    "start_time": "2022-01-22T14:30:00.845Z"
   },
   {
    "duration": 23,
    "start_time": "2022-01-22T14:30:00.881Z"
   },
   {
    "duration": 21,
    "start_time": "2022-01-22T14:30:00.906Z"
   },
   {
    "duration": 23,
    "start_time": "2022-01-22T14:30:00.928Z"
   },
   {
    "duration": 19,
    "start_time": "2022-01-22T14:30:00.952Z"
   },
   {
    "duration": 33,
    "start_time": "2022-01-22T14:30:00.972Z"
   },
   {
    "duration": 36,
    "start_time": "2022-01-22T14:30:01.006Z"
   },
   {
    "duration": 33,
    "start_time": "2022-01-22T14:30:01.045Z"
   },
   {
    "duration": 29,
    "start_time": "2022-01-22T14:30:01.080Z"
   },
   {
    "duration": 25,
    "start_time": "2022-01-22T14:30:01.111Z"
   },
   {
    "duration": 26,
    "start_time": "2022-01-22T14:30:01.138Z"
   },
   {
    "duration": 35,
    "start_time": "2022-01-22T14:30:01.166Z"
   },
   {
    "duration": 11,
    "start_time": "2022-01-22T14:30:01.205Z"
   },
   {
    "duration": 27,
    "start_time": "2022-01-22T14:30:01.218Z"
   },
   {
    "duration": 39,
    "start_time": "2022-01-22T14:30:01.247Z"
   },
   {
    "duration": 31,
    "start_time": "2022-01-22T14:30:01.287Z"
   },
   {
    "duration": 33,
    "start_time": "2022-01-22T14:30:01.320Z"
   },
   {
    "duration": 123,
    "start_time": "2022-01-22T14:30:01.354Z"
   },
   {
    "duration": 120,
    "start_time": "2022-01-22T14:30:01.479Z"
   },
   {
    "duration": 31,
    "start_time": "2022-01-22T14:30:01.600Z"
   },
   {
    "duration": 100,
    "start_time": "2022-01-22T14:30:01.673Z"
   },
   {
    "duration": 30,
    "start_time": "2022-01-22T14:30:01.775Z"
   },
   {
    "duration": 104,
    "start_time": "2022-01-22T14:30:01.872Z"
   },
   {
    "duration": 18,
    "start_time": "2022-01-22T14:30:01.978Z"
   },
   {
    "duration": 27,
    "start_time": "2022-01-22T14:30:01.997Z"
   },
   {
    "duration": 29,
    "start_time": "2022-01-22T14:30:02.025Z"
   },
   {
    "duration": 24,
    "start_time": "2022-01-22T14:30:02.056Z"
   },
   {
    "duration": 23,
    "start_time": "2022-01-22T14:30:02.081Z"
   },
   {
    "duration": 11,
    "start_time": "2022-01-22T14:30:02.106Z"
   },
   {
    "duration": 29,
    "start_time": "2022-01-22T14:30:02.118Z"
   },
   {
    "duration": 8,
    "start_time": "2022-01-22T14:30:02.148Z"
   },
   {
    "duration": 23,
    "start_time": "2022-01-22T14:30:02.157Z"
   },
   {
    "duration": 340,
    "start_time": "2022-01-22T14:30:02.182Z"
   },
   {
    "duration": -1332,
    "start_time": "2022-01-22T14:30:03.856Z"
   },
   {
    "duration": -1333,
    "start_time": "2022-01-22T14:30:03.858Z"
   },
   {
    "duration": -1334,
    "start_time": "2022-01-22T14:30:03.860Z"
   },
   {
    "duration": -1335,
    "start_time": "2022-01-22T14:30:03.862Z"
   },
   {
    "duration": 6,
    "start_time": "2022-01-22T14:30:17.922Z"
   },
   {
    "duration": 3,
    "start_time": "2022-01-22T14:34:43.310Z"
   },
   {
    "duration": 11,
    "start_time": "2022-01-22T14:34:44.996Z"
   },
   {
    "duration": 13,
    "start_time": "2022-01-22T14:34:56.222Z"
   },
   {
    "duration": 3,
    "start_time": "2022-01-22T14:36:58.744Z"
   },
   {
    "duration": 355,
    "start_time": "2022-01-22T14:36:58.748Z"
   },
   {
    "duration": 10,
    "start_time": "2022-01-22T14:36:59.105Z"
   },
   {
    "duration": 7,
    "start_time": "2022-01-22T14:36:59.116Z"
   },
   {
    "duration": 10,
    "start_time": "2022-01-22T14:36:59.125Z"
   },
   {
    "duration": 7,
    "start_time": "2022-01-22T14:36:59.136Z"
   },
   {
    "duration": 38,
    "start_time": "2022-01-22T14:36:59.144Z"
   },
   {
    "duration": 7,
    "start_time": "2022-01-22T14:36:59.184Z"
   },
   {
    "duration": 36,
    "start_time": "2022-01-22T14:36:59.193Z"
   },
   {
    "duration": 77,
    "start_time": "2022-01-22T14:36:59.231Z"
   },
   {
    "duration": 14,
    "start_time": "2022-01-22T14:36:59.310Z"
   },
   {
    "duration": 59,
    "start_time": "2022-01-22T14:36:59.325Z"
   },
   {
    "duration": 39,
    "start_time": "2022-01-22T14:36:59.385Z"
   },
   {
    "duration": 13,
    "start_time": "2022-01-22T14:36:59.425Z"
   },
   {
    "duration": 36,
    "start_time": "2022-01-22T14:36:59.440Z"
   },
   {
    "duration": 13,
    "start_time": "2022-01-22T14:36:59.478Z"
   },
   {
    "duration": 11,
    "start_time": "2022-01-22T14:36:59.492Z"
   },
   {
    "duration": 11,
    "start_time": "2022-01-22T14:36:59.505Z"
   },
   {
    "duration": 10,
    "start_time": "2022-01-22T14:36:59.517Z"
   },
   {
    "duration": 51,
    "start_time": "2022-01-22T14:36:59.529Z"
   },
   {
    "duration": 10,
    "start_time": "2022-01-22T14:36:59.582Z"
   },
   {
    "duration": 9,
    "start_time": "2022-01-22T14:36:59.594Z"
   },
   {
    "duration": 6,
    "start_time": "2022-01-22T14:36:59.605Z"
   },
   {
    "duration": 5,
    "start_time": "2022-01-22T14:36:59.612Z"
   },
   {
    "duration": 7,
    "start_time": "2022-01-22T14:36:59.618Z"
   },
   {
    "duration": 50,
    "start_time": "2022-01-22T14:36:59.627Z"
   },
   {
    "duration": 10,
    "start_time": "2022-01-22T14:36:59.681Z"
   },
   {
    "duration": 12,
    "start_time": "2022-01-22T14:36:59.693Z"
   },
   {
    "duration": 20,
    "start_time": "2022-01-22T14:36:59.707Z"
   },
   {
    "duration": 51,
    "start_time": "2022-01-22T14:36:59.729Z"
   },
   {
    "duration": 14,
    "start_time": "2022-01-22T14:36:59.781Z"
   },
   {
    "duration": 81,
    "start_time": "2022-01-22T14:36:59.796Z"
   },
   {
    "duration": 95,
    "start_time": "2022-01-22T14:36:59.880Z"
   },
   {
    "duration": 103,
    "start_time": "2022-01-22T14:36:59.977Z"
   },
   {
    "duration": 92,
    "start_time": "2022-01-22T14:37:00.083Z"
   },
   {
    "duration": 95,
    "start_time": "2022-01-22T14:37:00.177Z"
   },
   {
    "duration": 99,
    "start_time": "2022-01-22T14:37:00.274Z"
   },
   {
    "duration": 5,
    "start_time": "2022-01-22T14:37:00.375Z"
   },
   {
    "duration": 8,
    "start_time": "2022-01-22T14:37:00.381Z"
   },
   {
    "duration": 4,
    "start_time": "2022-01-22T14:37:00.391Z"
   },
   {
    "duration": 5,
    "start_time": "2022-01-22T14:37:00.397Z"
   },
   {
    "duration": 11,
    "start_time": "2022-01-22T14:37:00.403Z"
   },
   {
    "duration": 7,
    "start_time": "2022-01-22T14:37:00.415Z"
   },
   {
    "duration": 51,
    "start_time": "2022-01-22T14:37:00.424Z"
   },
   {
    "duration": 6,
    "start_time": "2022-01-22T14:37:00.477Z"
   },
   {
    "duration": 8,
    "start_time": "2022-01-22T14:37:00.484Z"
   },
   {
    "duration": 15,
    "start_time": "2022-01-22T14:37:00.494Z"
   },
   {
    "duration": 3,
    "start_time": "2022-01-22T14:37:00.511Z"
   },
   {
    "duration": 16,
    "start_time": "2022-01-22T14:37:00.516Z"
   },
   {
    "duration": 322,
    "start_time": "2022-01-22T14:37:00.533Z"
   },
   {
    "duration": -1343,
    "start_time": "2022-01-22T14:37:02.199Z"
   },
   {
    "duration": 3,
    "start_time": "2022-01-22T14:38:32.107Z"
   },
   {
    "duration": 387,
    "start_time": "2022-01-22T14:38:32.112Z"
   },
   {
    "duration": 9,
    "start_time": "2022-01-22T14:38:32.501Z"
   },
   {
    "duration": 23,
    "start_time": "2022-01-22T14:38:32.512Z"
   },
   {
    "duration": 33,
    "start_time": "2022-01-22T14:38:32.537Z"
   },
   {
    "duration": 16,
    "start_time": "2022-01-22T14:38:32.572Z"
   },
   {
    "duration": 28,
    "start_time": "2022-01-22T14:38:32.590Z"
   },
   {
    "duration": 16,
    "start_time": "2022-01-22T14:38:32.621Z"
   },
   {
    "duration": 61,
    "start_time": "2022-01-22T14:38:32.639Z"
   },
   {
    "duration": 46,
    "start_time": "2022-01-22T14:38:32.701Z"
   },
   {
    "duration": 14,
    "start_time": "2022-01-22T14:38:32.748Z"
   },
   {
    "duration": 49,
    "start_time": "2022-01-22T14:38:32.763Z"
   },
   {
    "duration": 41,
    "start_time": "2022-01-22T14:38:32.814Z"
   },
   {
    "duration": 13,
    "start_time": "2022-01-22T14:38:32.856Z"
   },
   {
    "duration": 15,
    "start_time": "2022-01-22T14:38:32.870Z"
   },
   {
    "duration": 22,
    "start_time": "2022-01-22T14:38:32.887Z"
   },
   {
    "duration": 13,
    "start_time": "2022-01-22T14:38:32.911Z"
   },
   {
    "duration": 18,
    "start_time": "2022-01-22T14:38:32.925Z"
   },
   {
    "duration": 24,
    "start_time": "2022-01-22T14:38:32.944Z"
   },
   {
    "duration": 25,
    "start_time": "2022-01-22T14:38:32.969Z"
   },
   {
    "duration": 25,
    "start_time": "2022-01-22T14:38:32.996Z"
   },
   {
    "duration": 20,
    "start_time": "2022-01-22T14:38:33.023Z"
   },
   {
    "duration": 20,
    "start_time": "2022-01-22T14:38:33.048Z"
   },
   {
    "duration": 10,
    "start_time": "2022-01-22T14:38:33.071Z"
   },
   {
    "duration": 11,
    "start_time": "2022-01-22T14:38:33.083Z"
   },
   {
    "duration": 31,
    "start_time": "2022-01-22T14:38:33.096Z"
   },
   {
    "duration": 12,
    "start_time": "2022-01-22T14:38:33.131Z"
   },
   {
    "duration": 23,
    "start_time": "2022-01-22T14:38:33.144Z"
   },
   {
    "duration": 29,
    "start_time": "2022-01-22T14:38:33.169Z"
   },
   {
    "duration": 15,
    "start_time": "2022-01-22T14:38:33.200Z"
   },
   {
    "duration": 27,
    "start_time": "2022-01-22T14:38:33.216Z"
   },
   {
    "duration": 32,
    "start_time": "2022-01-22T14:38:33.245Z"
   },
   {
    "duration": 196,
    "start_time": "2022-01-22T14:38:33.280Z"
   },
   {
    "duration": 17,
    "start_time": "2022-01-22T14:38:33.477Z"
   },
   {
    "duration": 81,
    "start_time": "2022-01-22T14:38:33.496Z"
   },
   {
    "duration": 116,
    "start_time": "2022-01-22T14:38:33.579Z"
   },
   {
    "duration": 80,
    "start_time": "2022-01-22T14:38:33.696Z"
   },
   {
    "duration": 116,
    "start_time": "2022-01-22T14:38:33.778Z"
   },
   {
    "duration": 37,
    "start_time": "2022-01-22T14:38:33.896Z"
   },
   {
    "duration": 7,
    "start_time": "2022-01-22T14:38:33.934Z"
   },
   {
    "duration": 6,
    "start_time": "2022-01-22T14:38:33.943Z"
   },
   {
    "duration": 10,
    "start_time": "2022-01-22T14:38:33.950Z"
   },
   {
    "duration": 8,
    "start_time": "2022-01-22T14:38:33.961Z"
   },
   {
    "duration": 10,
    "start_time": "2022-01-22T14:38:33.970Z"
   },
   {
    "duration": 8,
    "start_time": "2022-01-22T14:38:33.981Z"
   },
   {
    "duration": 11,
    "start_time": "2022-01-22T14:38:33.990Z"
   },
   {
    "duration": 19,
    "start_time": "2022-01-22T14:38:34.003Z"
   },
   {
    "duration": 8,
    "start_time": "2022-01-22T14:38:34.023Z"
   },
   {
    "duration": 21,
    "start_time": "2022-01-22T14:38:34.033Z"
   },
   {
    "duration": 417,
    "start_time": "2022-01-22T14:38:34.055Z"
   },
   {
    "duration": -1355,
    "start_time": "2022-01-22T14:38:35.829Z"
   },
   {
    "duration": 8,
    "start_time": "2022-01-22T14:38:45.330Z"
   },
   {
    "duration": 3,
    "start_time": "2022-01-22T14:39:56.231Z"
   },
   {
    "duration": 382,
    "start_time": "2022-01-22T14:39:56.236Z"
   },
   {
    "duration": 12,
    "start_time": "2022-01-22T14:39:56.620Z"
   },
   {
    "duration": 8,
    "start_time": "2022-01-22T14:39:56.634Z"
   },
   {
    "duration": 39,
    "start_time": "2022-01-22T14:39:56.643Z"
   },
   {
    "duration": 12,
    "start_time": "2022-01-22T14:39:56.684Z"
   },
   {
    "duration": 20,
    "start_time": "2022-01-22T14:39:56.698Z"
   },
   {
    "duration": 17,
    "start_time": "2022-01-22T14:39:56.721Z"
   },
   {
    "duration": 46,
    "start_time": "2022-01-22T14:39:56.740Z"
   },
   {
    "duration": 45,
    "start_time": "2022-01-22T14:39:56.788Z"
   },
   {
    "duration": 13,
    "start_time": "2022-01-22T14:39:56.835Z"
   },
   {
    "duration": 53,
    "start_time": "2022-01-22T14:39:56.849Z"
   },
   {
    "duration": 37,
    "start_time": "2022-01-22T14:39:56.904Z"
   },
   {
    "duration": 33,
    "start_time": "2022-01-22T14:39:56.942Z"
   },
   {
    "duration": 15,
    "start_time": "2022-01-22T14:39:56.977Z"
   },
   {
    "duration": 15,
    "start_time": "2022-01-22T14:39:56.994Z"
   },
   {
    "duration": 28,
    "start_time": "2022-01-22T14:39:57.011Z"
   },
   {
    "duration": 37,
    "start_time": "2022-01-22T14:39:57.041Z"
   },
   {
    "duration": 11,
    "start_time": "2022-01-22T14:39:57.080Z"
   },
   {
    "duration": 19,
    "start_time": "2022-01-22T14:39:57.093Z"
   },
   {
    "duration": 20,
    "start_time": "2022-01-22T14:39:57.113Z"
   },
   {
    "duration": 36,
    "start_time": "2022-01-22T14:39:57.134Z"
   },
   {
    "duration": 9,
    "start_time": "2022-01-22T14:39:57.175Z"
   },
   {
    "duration": 13,
    "start_time": "2022-01-22T14:39:57.187Z"
   },
   {
    "duration": 6,
    "start_time": "2022-01-22T14:39:57.201Z"
   },
   {
    "duration": 13,
    "start_time": "2022-01-22T14:39:57.209Z"
   },
   {
    "duration": 13,
    "start_time": "2022-01-22T14:39:57.224Z"
   },
   {
    "duration": 41,
    "start_time": "2022-01-22T14:39:57.239Z"
   },
   {
    "duration": 22,
    "start_time": "2022-01-22T14:39:57.281Z"
   },
   {
    "duration": 13,
    "start_time": "2022-01-22T14:39:57.304Z"
   },
   {
    "duration": 12,
    "start_time": "2022-01-22T14:39:57.319Z"
   },
   {
    "duration": 141,
    "start_time": "2022-01-22T14:39:57.332Z"
   },
   {
    "duration": 98,
    "start_time": "2022-01-22T14:39:57.475Z"
   },
   {
    "duration": 13,
    "start_time": "2022-01-22T14:39:57.575Z"
   },
   {
    "duration": 99,
    "start_time": "2022-01-22T14:39:57.590Z"
   },
   {
    "duration": 13,
    "start_time": "2022-01-22T14:39:57.772Z"
   },
   {
    "duration": 92,
    "start_time": "2022-01-22T14:39:57.787Z"
   },
   {
    "duration": 108,
    "start_time": "2022-01-22T14:39:57.881Z"
   },
   {
    "duration": 20,
    "start_time": "2022-01-22T14:39:57.991Z"
   },
   {
    "duration": 11,
    "start_time": "2022-01-22T14:39:58.013Z"
   },
   {
    "duration": 21,
    "start_time": "2022-01-22T14:39:58.025Z"
   },
   {
    "duration": 14,
    "start_time": "2022-01-22T14:39:58.048Z"
   },
   {
    "duration": 8,
    "start_time": "2022-01-22T14:39:58.063Z"
   },
   {
    "duration": 17,
    "start_time": "2022-01-22T14:39:58.073Z"
   },
   {
    "duration": 11,
    "start_time": "2022-01-22T14:39:58.091Z"
   },
   {
    "duration": 15,
    "start_time": "2022-01-22T14:39:58.104Z"
   },
   {
    "duration": 23,
    "start_time": "2022-01-22T14:39:58.120Z"
   },
   {
    "duration": 11,
    "start_time": "2022-01-22T14:39:58.145Z"
   },
   {
    "duration": 683,
    "start_time": "2022-01-22T14:39:58.158Z"
   },
   {
    "duration": -1342,
    "start_time": "2022-01-22T14:40:00.185Z"
   },
   {
    "duration": -1342,
    "start_time": "2022-01-22T14:40:00.187Z"
   },
   {
    "duration": 3,
    "start_time": "2022-01-22T14:40:37.775Z"
   },
   {
    "duration": 372,
    "start_time": "2022-01-22T14:40:37.780Z"
   },
   {
    "duration": 11,
    "start_time": "2022-01-22T14:40:38.155Z"
   },
   {
    "duration": 10,
    "start_time": "2022-01-22T14:40:38.172Z"
   },
   {
    "duration": 13,
    "start_time": "2022-01-22T14:40:38.183Z"
   },
   {
    "duration": 8,
    "start_time": "2022-01-22T14:40:38.197Z"
   },
   {
    "duration": 10,
    "start_time": "2022-01-22T14:40:38.206Z"
   },
   {
    "duration": 7,
    "start_time": "2022-01-22T14:40:38.218Z"
   },
   {
    "duration": 73,
    "start_time": "2022-01-22T14:40:38.228Z"
   },
   {
    "duration": 49,
    "start_time": "2022-01-22T14:40:38.304Z"
   },
   {
    "duration": 13,
    "start_time": "2022-01-22T14:40:38.372Z"
   },
   {
    "duration": 38,
    "start_time": "2022-01-22T14:40:38.387Z"
   },
   {
    "duration": 61,
    "start_time": "2022-01-22T14:40:38.426Z"
   },
   {
    "duration": 13,
    "start_time": "2022-01-22T14:40:38.489Z"
   },
   {
    "duration": 13,
    "start_time": "2022-01-22T14:40:38.503Z"
   },
   {
    "duration": 12,
    "start_time": "2022-01-22T14:40:38.517Z"
   },
   {
    "duration": 47,
    "start_time": "2022-01-22T14:40:38.530Z"
   },
   {
    "duration": 11,
    "start_time": "2022-01-22T14:40:38.578Z"
   },
   {
    "duration": 10,
    "start_time": "2022-01-22T14:40:38.590Z"
   },
   {
    "duration": 11,
    "start_time": "2022-01-22T14:40:38.601Z"
   },
   {
    "duration": 12,
    "start_time": "2022-01-22T14:40:38.613Z"
   },
   {
    "duration": 46,
    "start_time": "2022-01-22T14:40:38.627Z"
   },
   {
    "duration": 5,
    "start_time": "2022-01-22T14:40:38.675Z"
   },
   {
    "duration": 5,
    "start_time": "2022-01-22T14:40:38.682Z"
   },
   {
    "duration": 8,
    "start_time": "2022-01-22T14:40:38.688Z"
   },
   {
    "duration": 18,
    "start_time": "2022-01-22T14:40:38.698Z"
   },
   {
    "duration": 10,
    "start_time": "2022-01-22T14:40:38.719Z"
   },
   {
    "duration": 11,
    "start_time": "2022-01-22T14:40:38.731Z"
   },
   {
    "duration": 20,
    "start_time": "2022-01-22T14:40:38.772Z"
   },
   {
    "duration": 13,
    "start_time": "2022-01-22T14:40:38.793Z"
   },
   {
    "duration": 12,
    "start_time": "2022-01-22T14:40:38.807Z"
   },
   {
    "duration": 56,
    "start_time": "2022-01-22T14:40:38.821Z"
   },
   {
    "duration": 94,
    "start_time": "2022-01-22T14:40:38.879Z"
   },
   {
    "duration": 97,
    "start_time": "2022-01-22T14:40:38.975Z"
   },
   {
    "duration": 8,
    "start_time": "2022-01-22T14:40:39.074Z"
   },
   {
    "duration": 19,
    "start_time": "2022-01-22T14:40:39.172Z"
   },
   {
    "duration": 101,
    "start_time": "2022-01-22T14:40:39.272Z"
   },
   {
    "duration": 5,
    "start_time": "2022-01-22T14:40:39.375Z"
   },
   {
    "duration": 5,
    "start_time": "2022-01-22T14:40:39.382Z"
   },
   {
    "duration": 5,
    "start_time": "2022-01-22T14:40:39.389Z"
   },
   {
    "duration": 4,
    "start_time": "2022-01-22T14:40:39.396Z"
   },
   {
    "duration": 10,
    "start_time": "2022-01-22T14:40:39.401Z"
   },
   {
    "duration": 61,
    "start_time": "2022-01-22T14:40:39.413Z"
   },
   {
    "duration": 7,
    "start_time": "2022-01-22T14:40:39.475Z"
   },
   {
    "duration": 2,
    "start_time": "2022-01-22T14:40:39.483Z"
   },
   {
    "duration": 3,
    "start_time": "2022-01-22T14:40:39.487Z"
   },
   {
    "duration": 13,
    "start_time": "2022-01-22T14:40:39.492Z"
   },
   {
    "duration": 5,
    "start_time": "2022-01-22T14:40:39.506Z"
   },
   {
    "duration": 17,
    "start_time": "2022-01-22T14:40:39.512Z"
   },
   {
    "duration": 310,
    "start_time": "2022-01-22T14:40:39.530Z"
   },
   {
    "duration": -1343,
    "start_time": "2022-01-22T14:40:41.185Z"
   },
   {
    "duration": 4,
    "start_time": "2022-01-22T14:43:00.246Z"
   },
   {
    "duration": 389,
    "start_time": "2022-01-22T14:43:00.251Z"
   },
   {
    "duration": 9,
    "start_time": "2022-01-22T14:43:00.642Z"
   },
   {
    "duration": 20,
    "start_time": "2022-01-22T14:43:00.653Z"
   },
   {
    "duration": 17,
    "start_time": "2022-01-22T14:43:00.675Z"
   },
   {
    "duration": 25,
    "start_time": "2022-01-22T14:43:00.694Z"
   },
   {
    "duration": 25,
    "start_time": "2022-01-22T14:43:00.721Z"
   },
   {
    "duration": 23,
    "start_time": "2022-01-22T14:43:00.749Z"
   },
   {
    "duration": 49,
    "start_time": "2022-01-22T14:43:00.774Z"
   },
   {
    "duration": 59,
    "start_time": "2022-01-22T14:43:00.825Z"
   },
   {
    "duration": 19,
    "start_time": "2022-01-22T14:43:00.886Z"
   },
   {
    "duration": 38,
    "start_time": "2022-01-22T14:43:00.907Z"
   },
   {
    "duration": 60,
    "start_time": "2022-01-22T14:43:00.946Z"
   },
   {
    "duration": 13,
    "start_time": "2022-01-22T14:43:01.007Z"
   },
   {
    "duration": 26,
    "start_time": "2022-01-22T14:43:01.022Z"
   },
   {
    "duration": 26,
    "start_time": "2022-01-22T14:43:01.050Z"
   },
   {
    "duration": 10,
    "start_time": "2022-01-22T14:43:01.078Z"
   },
   {
    "duration": 21,
    "start_time": "2022-01-22T14:43:01.090Z"
   },
   {
    "duration": 25,
    "start_time": "2022-01-22T14:43:01.112Z"
   },
   {
    "duration": 20,
    "start_time": "2022-01-22T14:43:01.139Z"
   },
   {
    "duration": 20,
    "start_time": "2022-01-22T14:43:01.161Z"
   },
   {
    "duration": 35,
    "start_time": "2022-01-22T14:43:01.183Z"
   },
   {
    "duration": 14,
    "start_time": "2022-01-22T14:43:01.222Z"
   },
   {
    "duration": 11,
    "start_time": "2022-01-22T14:43:01.238Z"
   },
   {
    "duration": 31,
    "start_time": "2022-01-22T14:43:01.251Z"
   },
   {
    "duration": 24,
    "start_time": "2022-01-22T14:43:01.284Z"
   },
   {
    "duration": 21,
    "start_time": "2022-01-22T14:43:01.310Z"
   },
   {
    "duration": 17,
    "start_time": "2022-01-22T14:43:01.333Z"
   },
   {
    "duration": 29,
    "start_time": "2022-01-22T14:43:01.352Z"
   },
   {
    "duration": 32,
    "start_time": "2022-01-22T14:43:01.383Z"
   },
   {
    "duration": 37,
    "start_time": "2022-01-22T14:43:01.417Z"
   },
   {
    "duration": 23,
    "start_time": "2022-01-22T14:43:01.456Z"
   },
   {
    "duration": 98,
    "start_time": "2022-01-22T14:43:01.481Z"
   },
   {
    "duration": 116,
    "start_time": "2022-01-22T14:43:01.581Z"
   },
   {
    "duration": 79,
    "start_time": "2022-01-22T14:43:01.701Z"
   },
   {
    "duration": 110,
    "start_time": "2022-01-22T14:43:01.782Z"
   },
   {
    "duration": 179,
    "start_time": "2022-01-22T14:43:01.896Z"
   },
   {
    "duration": 7,
    "start_time": "2022-01-22T14:43:02.077Z"
   },
   {
    "duration": 18,
    "start_time": "2022-01-22T14:43:02.085Z"
   },
   {
    "duration": 23,
    "start_time": "2022-01-22T14:43:02.104Z"
   },
   {
    "duration": 12,
    "start_time": "2022-01-22T14:43:02.129Z"
   },
   {
    "duration": 21,
    "start_time": "2022-01-22T14:43:02.142Z"
   },
   {
    "duration": 17,
    "start_time": "2022-01-22T14:43:02.164Z"
   },
   {
    "duration": 12,
    "start_time": "2022-01-22T14:43:02.182Z"
   },
   {
    "duration": 9,
    "start_time": "2022-01-22T14:43:02.196Z"
   },
   {
    "duration": 5,
    "start_time": "2022-01-22T14:43:02.207Z"
   },
   {
    "duration": 24,
    "start_time": "2022-01-22T14:43:02.214Z"
   },
   {
    "duration": 18,
    "start_time": "2022-01-22T14:43:02.239Z"
   },
   {
    "duration": 364,
    "start_time": "2022-01-22T14:43:02.258Z"
   },
   {
    "duration": -1344,
    "start_time": "2022-01-22T14:43:03.967Z"
   },
   {
    "duration": -1345,
    "start_time": "2022-01-22T14:43:03.969Z"
   },
   {
    "duration": 3,
    "start_time": "2022-01-22T14:43:27.007Z"
   },
   {
    "duration": 351,
    "start_time": "2022-01-22T14:43:27.012Z"
   },
   {
    "duration": 10,
    "start_time": "2022-01-22T14:43:27.366Z"
   },
   {
    "duration": 7,
    "start_time": "2022-01-22T14:43:27.378Z"
   },
   {
    "duration": 21,
    "start_time": "2022-01-22T14:43:27.387Z"
   },
   {
    "duration": 12,
    "start_time": "2022-01-22T14:43:27.409Z"
   },
   {
    "duration": 27,
    "start_time": "2022-01-22T14:43:27.423Z"
   },
   {
    "duration": 8,
    "start_time": "2022-01-22T14:43:27.452Z"
   },
   {
    "duration": 39,
    "start_time": "2022-01-22T14:43:27.471Z"
   },
   {
    "duration": 59,
    "start_time": "2022-01-22T14:43:27.512Z"
   },
   {
    "duration": 13,
    "start_time": "2022-01-22T14:43:27.573Z"
   },
   {
    "duration": 36,
    "start_time": "2022-01-22T14:43:27.588Z"
   },
   {
    "duration": 61,
    "start_time": "2022-01-22T14:43:27.626Z"
   },
   {
    "duration": 12,
    "start_time": "2022-01-22T14:43:27.688Z"
   },
   {
    "duration": 13,
    "start_time": "2022-01-22T14:43:27.701Z"
   },
   {
    "duration": 13,
    "start_time": "2022-01-22T14:43:27.715Z"
   },
   {
    "duration": 44,
    "start_time": "2022-01-22T14:43:27.729Z"
   },
   {
    "duration": 11,
    "start_time": "2022-01-22T14:43:27.774Z"
   },
   {
    "duration": 10,
    "start_time": "2022-01-22T14:43:27.787Z"
   },
   {
    "duration": 10,
    "start_time": "2022-01-22T14:43:27.799Z"
   },
   {
    "duration": 13,
    "start_time": "2022-01-22T14:43:27.810Z"
   },
   {
    "duration": 49,
    "start_time": "2022-01-22T14:43:27.824Z"
   },
   {
    "duration": 5,
    "start_time": "2022-01-22T14:43:27.874Z"
   },
   {
    "duration": 5,
    "start_time": "2022-01-22T14:43:27.881Z"
   },
   {
    "duration": 8,
    "start_time": "2022-01-22T14:43:27.888Z"
   },
   {
    "duration": 13,
    "start_time": "2022-01-22T14:43:27.897Z"
   },
   {
    "duration": 11,
    "start_time": "2022-01-22T14:43:27.913Z"
   },
   {
    "duration": 11,
    "start_time": "2022-01-22T14:43:27.926Z"
   },
   {
    "duration": 50,
    "start_time": "2022-01-22T14:43:27.939Z"
   },
   {
    "duration": 14,
    "start_time": "2022-01-22T14:43:27.991Z"
   },
   {
    "duration": 14,
    "start_time": "2022-01-22T14:43:28.006Z"
   },
   {
    "duration": 151,
    "start_time": "2022-01-22T14:43:28.022Z"
   },
   {
    "duration": 5,
    "start_time": "2022-01-22T14:43:28.175Z"
   },
   {
    "duration": 14,
    "start_time": "2022-01-22T14:43:28.182Z"
   },
   {
    "duration": 176,
    "start_time": "2022-01-22T14:43:28.197Z"
   },
   {
    "duration": 15,
    "start_time": "2022-01-22T14:43:28.375Z"
   },
   {
    "duration": 10,
    "start_time": "2022-01-22T14:43:28.472Z"
   },
   {
    "duration": 4,
    "start_time": "2022-01-22T14:43:28.572Z"
   },
   {
    "duration": 6,
    "start_time": "2022-01-22T14:43:28.577Z"
   },
   {
    "duration": 6,
    "start_time": "2022-01-22T14:43:28.585Z"
   },
   {
    "duration": 4,
    "start_time": "2022-01-22T14:43:28.592Z"
   },
   {
    "duration": 8,
    "start_time": "2022-01-22T14:43:28.598Z"
   },
   {
    "duration": 7,
    "start_time": "2022-01-22T14:43:28.607Z"
   },
   {
    "duration": 58,
    "start_time": "2022-01-22T14:43:28.615Z"
   },
   {
    "duration": 2,
    "start_time": "2022-01-22T14:43:28.675Z"
   },
   {
    "duration": 5,
    "start_time": "2022-01-22T14:43:28.678Z"
   },
   {
    "duration": 11,
    "start_time": "2022-01-22T14:43:28.685Z"
   },
   {
    "duration": 4,
    "start_time": "2022-01-22T14:43:28.697Z"
   },
   {
    "duration": 21,
    "start_time": "2022-01-22T14:43:28.703Z"
   },
   {
    "duration": 291,
    "start_time": "2022-01-22T14:43:28.725Z"
   },
   {
    "duration": -1333,
    "start_time": "2022-01-22T14:43:30.350Z"
   },
   {
    "duration": 4,
    "start_time": "2022-01-22T14:44:18.804Z"
   },
   {
    "duration": 357,
    "start_time": "2022-01-22T14:44:18.810Z"
   },
   {
    "duration": 11,
    "start_time": "2022-01-22T14:44:19.169Z"
   },
   {
    "duration": 89,
    "start_time": "2022-01-22T14:44:19.182Z"
   },
   {
    "duration": 17,
    "start_time": "2022-01-22T14:44:19.272Z"
   },
   {
    "duration": 8,
    "start_time": "2022-01-22T14:44:19.291Z"
   },
   {
    "duration": 39,
    "start_time": "2022-01-22T14:44:19.300Z"
   },
   {
    "duration": 28,
    "start_time": "2022-01-22T14:44:19.341Z"
   },
   {
    "duration": 65,
    "start_time": "2022-01-22T14:44:19.370Z"
   },
   {
    "duration": 60,
    "start_time": "2022-01-22T14:44:19.437Z"
   },
   {
    "duration": 25,
    "start_time": "2022-01-22T14:44:19.498Z"
   },
   {
    "duration": 61,
    "start_time": "2022-01-22T14:44:19.525Z"
   },
   {
    "duration": 37,
    "start_time": "2022-01-22T14:44:19.587Z"
   },
   {
    "duration": 13,
    "start_time": "2022-01-22T14:44:19.625Z"
   },
   {
    "duration": 37,
    "start_time": "2022-01-22T14:44:19.639Z"
   },
   {
    "duration": 13,
    "start_time": "2022-01-22T14:44:19.678Z"
   },
   {
    "duration": 10,
    "start_time": "2022-01-22T14:44:19.692Z"
   },
   {
    "duration": 10,
    "start_time": "2022-01-22T14:44:19.704Z"
   },
   {
    "duration": 9,
    "start_time": "2022-01-22T14:44:19.716Z"
   },
   {
    "duration": 55,
    "start_time": "2022-01-22T14:44:19.727Z"
   },
   {
    "duration": 10,
    "start_time": "2022-01-22T14:44:19.784Z"
   },
   {
    "duration": 10,
    "start_time": "2022-01-22T14:44:19.796Z"
   },
   {
    "duration": 5,
    "start_time": "2022-01-22T14:44:19.809Z"
   },
   {
    "duration": 7,
    "start_time": "2022-01-22T14:44:19.816Z"
   },
   {
    "duration": 47,
    "start_time": "2022-01-22T14:44:19.825Z"
   },
   {
    "duration": 12,
    "start_time": "2022-01-22T14:44:19.873Z"
   },
   {
    "duration": 11,
    "start_time": "2022-01-22T14:44:19.886Z"
   },
   {
    "duration": 11,
    "start_time": "2022-01-22T14:44:19.899Z"
   },
   {
    "duration": 21,
    "start_time": "2022-01-22T14:44:19.911Z"
   },
   {
    "duration": 48,
    "start_time": "2022-01-22T14:44:19.934Z"
   },
   {
    "duration": 15,
    "start_time": "2022-01-22T14:44:19.984Z"
   },
   {
    "duration": 81,
    "start_time": "2022-01-22T14:44:20.001Z"
   },
   {
    "duration": 98,
    "start_time": "2022-01-22T14:44:20.084Z"
   },
   {
    "duration": 90,
    "start_time": "2022-01-22T14:44:20.184Z"
   },
   {
    "duration": 95,
    "start_time": "2022-01-22T14:44:20.278Z"
   },
   {
    "duration": 19,
    "start_time": "2022-01-22T14:44:20.375Z"
   },
   {
    "duration": 11,
    "start_time": "2022-01-22T14:44:20.473Z"
   },
   {
    "duration": 6,
    "start_time": "2022-01-22T14:44:20.574Z"
   },
   {
    "duration": 5,
    "start_time": "2022-01-22T14:44:20.582Z"
   },
   {
    "duration": 4,
    "start_time": "2022-01-22T14:44:20.589Z"
   },
   {
    "duration": 4,
    "start_time": "2022-01-22T14:44:20.594Z"
   },
   {
    "duration": 8,
    "start_time": "2022-01-22T14:44:20.600Z"
   },
   {
    "duration": 8,
    "start_time": "2022-01-22T14:44:20.610Z"
   },
   {
    "duration": 58,
    "start_time": "2022-01-22T14:44:20.620Z"
   },
   {
    "duration": 3,
    "start_time": "2022-01-22T14:44:20.680Z"
   },
   {
    "duration": 3,
    "start_time": "2022-01-22T14:44:20.685Z"
   },
   {
    "duration": 18,
    "start_time": "2022-01-22T14:44:20.690Z"
   },
   {
    "duration": 3,
    "start_time": "2022-01-22T14:44:20.710Z"
   },
   {
    "duration": 27,
    "start_time": "2022-01-22T14:44:20.715Z"
   },
   {
    "duration": 344,
    "start_time": "2022-01-22T14:44:20.744Z"
   },
   {
    "duration": -1348,
    "start_time": "2022-01-22T14:44:22.438Z"
   },
   {
    "duration": 4,
    "start_time": "2022-01-22T14:46:55.884Z"
   },
   {
    "duration": 355,
    "start_time": "2022-01-22T14:46:55.890Z"
   },
   {
    "duration": 10,
    "start_time": "2022-01-22T14:46:56.247Z"
   },
   {
    "duration": 16,
    "start_time": "2022-01-22T14:46:56.259Z"
   },
   {
    "duration": 21,
    "start_time": "2022-01-22T14:46:56.277Z"
   },
   {
    "duration": 10,
    "start_time": "2022-01-22T14:46:56.300Z"
   },
   {
    "duration": 26,
    "start_time": "2022-01-22T14:46:56.311Z"
   },
   {
    "duration": 12,
    "start_time": "2022-01-22T14:46:56.341Z"
   },
   {
    "duration": 41,
    "start_time": "2022-01-22T14:46:56.372Z"
   },
   {
    "duration": 65,
    "start_time": "2022-01-22T14:46:56.414Z"
   },
   {
    "duration": 14,
    "start_time": "2022-01-22T14:46:56.480Z"
   },
   {
    "duration": 48,
    "start_time": "2022-01-22T14:46:56.495Z"
   },
   {
    "duration": 48,
    "start_time": "2022-01-22T14:46:56.545Z"
   },
   {
    "duration": 11,
    "start_time": "2022-01-22T14:46:56.595Z"
   },
   {
    "duration": 12,
    "start_time": "2022-01-22T14:46:56.608Z"
   },
   {
    "duration": 16,
    "start_time": "2022-01-22T14:46:56.621Z"
   },
   {
    "duration": 38,
    "start_time": "2022-01-22T14:46:56.639Z"
   },
   {
    "duration": 11,
    "start_time": "2022-01-22T14:46:56.679Z"
   },
   {
    "duration": 11,
    "start_time": "2022-01-22T14:46:56.691Z"
   },
   {
    "duration": 10,
    "start_time": "2022-01-22T14:46:56.703Z"
   },
   {
    "duration": 11,
    "start_time": "2022-01-22T14:46:56.715Z"
   },
   {
    "duration": 50,
    "start_time": "2022-01-22T14:46:56.727Z"
   },
   {
    "duration": 6,
    "start_time": "2022-01-22T14:46:56.780Z"
   },
   {
    "duration": 6,
    "start_time": "2022-01-22T14:46:56.788Z"
   },
   {
    "duration": 10,
    "start_time": "2022-01-22T14:46:56.795Z"
   },
   {
    "duration": 18,
    "start_time": "2022-01-22T14:46:56.807Z"
   },
   {
    "duration": 11,
    "start_time": "2022-01-22T14:46:56.827Z"
   },
   {
    "duration": 31,
    "start_time": "2022-01-22T14:46:56.840Z"
   },
   {
    "duration": 21,
    "start_time": "2022-01-22T14:46:56.873Z"
   },
   {
    "duration": 13,
    "start_time": "2022-01-22T14:46:56.895Z"
   },
   {
    "duration": 13,
    "start_time": "2022-01-22T14:46:56.910Z"
   },
   {
    "duration": 60,
    "start_time": "2022-01-22T14:46:56.924Z"
   },
   {
    "duration": 87,
    "start_time": "2022-01-22T14:46:56.986Z"
   },
   {
    "duration": 15,
    "start_time": "2022-01-22T14:46:57.075Z"
   },
   {
    "duration": 85,
    "start_time": "2022-01-22T14:46:57.093Z"
   },
   {
    "duration": 102,
    "start_time": "2022-01-22T14:46:57.180Z"
   },
   {
    "duration": 93,
    "start_time": "2022-01-22T14:46:57.284Z"
   },
   {
    "duration": 92,
    "start_time": "2022-01-22T14:46:57.380Z"
   },
   {
    "duration": 4,
    "start_time": "2022-01-22T14:46:57.474Z"
   },
   {
    "duration": 4,
    "start_time": "2022-01-22T14:46:57.480Z"
   },
   {
    "duration": 4,
    "start_time": "2022-01-22T14:46:57.486Z"
   },
   {
    "duration": 8,
    "start_time": "2022-01-22T14:46:57.491Z"
   },
   {
    "duration": 7,
    "start_time": "2022-01-22T14:46:57.500Z"
   },
   {
    "duration": 7,
    "start_time": "2022-01-22T14:46:57.508Z"
   },
   {
    "duration": 56,
    "start_time": "2022-01-22T14:46:57.517Z"
   },
   {
    "duration": 383,
    "start_time": "2022-01-22T14:46:57.574Z"
   },
   {
    "duration": -1345,
    "start_time": "2022-01-22T14:46:59.303Z"
   },
   {
    "duration": -1347,
    "start_time": "2022-01-22T14:46:59.306Z"
   },
   {
    "duration": -1348,
    "start_time": "2022-01-22T14:46:59.308Z"
   },
   {
    "duration": -1349,
    "start_time": "2022-01-22T14:46:59.310Z"
   },
   {
    "duration": -1350,
    "start_time": "2022-01-22T14:46:59.312Z"
   },
   {
    "duration": -1352,
    "start_time": "2022-01-22T14:46:59.315Z"
   },
   {
    "duration": 3,
    "start_time": "2022-01-22T14:57:46.393Z"
   },
   {
    "duration": 354,
    "start_time": "2022-01-22T14:57:46.398Z"
   },
   {
    "duration": 10,
    "start_time": "2022-01-22T14:57:46.754Z"
   },
   {
    "duration": 7,
    "start_time": "2022-01-22T14:57:46.771Z"
   },
   {
    "duration": 11,
    "start_time": "2022-01-22T14:57:46.780Z"
   },
   {
    "duration": 10,
    "start_time": "2022-01-22T14:57:46.793Z"
   },
   {
    "duration": 16,
    "start_time": "2022-01-22T14:57:46.805Z"
   },
   {
    "duration": 8,
    "start_time": "2022-01-22T14:57:46.823Z"
   },
   {
    "duration": 52,
    "start_time": "2022-01-22T14:57:46.871Z"
   },
   {
    "duration": 77,
    "start_time": "2022-01-22T14:57:46.926Z"
   },
   {
    "duration": 89,
    "start_time": "2022-01-22T14:57:47.005Z"
   },
   {
    "duration": 34,
    "start_time": "2022-01-22T14:57:47.097Z"
   },
   {
    "duration": 46,
    "start_time": "2022-01-22T14:57:47.133Z"
   },
   {
    "duration": 14,
    "start_time": "2022-01-22T14:57:47.181Z"
   },
   {
    "duration": 28,
    "start_time": "2022-01-22T14:57:47.196Z"
   },
   {
    "duration": 24,
    "start_time": "2022-01-22T14:57:47.226Z"
   },
   {
    "duration": 26,
    "start_time": "2022-01-22T14:57:47.252Z"
   },
   {
    "duration": 10,
    "start_time": "2022-01-22T14:57:47.280Z"
   },
   {
    "duration": 13,
    "start_time": "2022-01-22T14:57:47.291Z"
   },
   {
    "duration": 31,
    "start_time": "2022-01-22T14:57:47.306Z"
   },
   {
    "duration": 28,
    "start_time": "2022-01-22T14:57:47.339Z"
   },
   {
    "duration": 34,
    "start_time": "2022-01-22T14:57:47.369Z"
   },
   {
    "duration": 9,
    "start_time": "2022-01-22T14:57:47.405Z"
   },
   {
    "duration": 9,
    "start_time": "2022-01-22T14:57:47.416Z"
   },
   {
    "duration": 10,
    "start_time": "2022-01-22T14:57:47.427Z"
   },
   {
    "duration": 23,
    "start_time": "2022-01-22T14:57:47.438Z"
   },
   {
    "duration": 11,
    "start_time": "2022-01-22T14:57:47.464Z"
   },
   {
    "duration": 11,
    "start_time": "2022-01-22T14:57:47.477Z"
   },
   {
    "duration": 22,
    "start_time": "2022-01-22T14:57:47.490Z"
   },
   {
    "duration": 14,
    "start_time": "2022-01-22T14:57:47.513Z"
   },
   {
    "duration": 51,
    "start_time": "2022-01-22T14:57:47.528Z"
   },
   {
    "duration": 94,
    "start_time": "2022-01-22T14:57:47.580Z"
   },
   {
    "duration": 98,
    "start_time": "2022-01-22T14:57:47.676Z"
   },
   {
    "duration": 97,
    "start_time": "2022-01-22T14:57:47.776Z"
   },
   {
    "duration": 8,
    "start_time": "2022-01-22T14:57:47.876Z"
   },
   {
    "duration": 14,
    "start_time": "2022-01-22T14:57:47.972Z"
   },
   {
    "duration": 9,
    "start_time": "2022-01-22T14:57:48.071Z"
   },
   {
    "duration": 8,
    "start_time": "2022-01-22T14:57:48.172Z"
   },
   {
    "duration": 18,
    "start_time": "2022-01-22T14:57:48.182Z"
   },
   {
    "duration": 7,
    "start_time": "2022-01-22T14:57:48.201Z"
   },
   {
    "duration": 19,
    "start_time": "2022-01-22T14:57:48.210Z"
   },
   {
    "duration": 9,
    "start_time": "2022-01-22T14:57:48.231Z"
   },
   {
    "duration": 19,
    "start_time": "2022-01-22T14:57:48.242Z"
   },
   {
    "duration": 22,
    "start_time": "2022-01-22T14:57:48.263Z"
   },
   {
    "duration": 6,
    "start_time": "2022-01-22T14:57:48.286Z"
   },
   {
    "duration": 36,
    "start_time": "2022-01-22T14:57:48.294Z"
   },
   {
    "duration": 410,
    "start_time": "2022-01-22T14:57:48.332Z"
   },
   {
    "duration": -1349,
    "start_time": "2022-01-22T14:57:50.093Z"
   },
   {
    "duration": 4,
    "start_time": "2022-01-22T15:07:09.488Z"
   },
   {
    "duration": 375,
    "start_time": "2022-01-22T15:07:09.493Z"
   },
   {
    "duration": 10,
    "start_time": "2022-01-22T15:07:09.870Z"
   },
   {
    "duration": 19,
    "start_time": "2022-01-22T15:07:09.882Z"
   },
   {
    "duration": 27,
    "start_time": "2022-01-22T15:07:09.903Z"
   },
   {
    "duration": 8,
    "start_time": "2022-01-22T15:07:09.932Z"
   },
   {
    "duration": 9,
    "start_time": "2022-01-22T15:07:09.942Z"
   },
   {
    "duration": 12,
    "start_time": "2022-01-22T15:07:09.952Z"
   },
   {
    "duration": 41,
    "start_time": "2022-01-22T15:07:09.971Z"
   },
   {
    "duration": 61,
    "start_time": "2022-01-22T15:07:10.015Z"
   },
   {
    "duration": 17,
    "start_time": "2022-01-22T15:07:10.078Z"
   },
   {
    "duration": 44,
    "start_time": "2022-01-22T15:07:10.097Z"
   },
   {
    "duration": 52,
    "start_time": "2022-01-22T15:07:10.143Z"
   },
   {
    "duration": 14,
    "start_time": "2022-01-22T15:07:10.196Z"
   },
   {
    "duration": 20,
    "start_time": "2022-01-22T15:07:10.211Z"
   },
   {
    "duration": 22,
    "start_time": "2022-01-22T15:07:10.233Z"
   },
   {
    "duration": 24,
    "start_time": "2022-01-22T15:07:10.256Z"
   },
   {
    "duration": 10,
    "start_time": "2022-01-22T15:07:10.282Z"
   },
   {
    "duration": 20,
    "start_time": "2022-01-22T15:07:10.294Z"
   },
   {
    "duration": 28,
    "start_time": "2022-01-22T15:07:10.315Z"
   },
   {
    "duration": 42,
    "start_time": "2022-01-22T15:07:10.345Z"
   },
   {
    "duration": 36,
    "start_time": "2022-01-22T15:07:10.388Z"
   },
   {
    "duration": 10,
    "start_time": "2022-01-22T15:07:10.426Z"
   },
   {
    "duration": 5,
    "start_time": "2022-01-22T15:07:10.438Z"
   },
   {
    "duration": 6,
    "start_time": "2022-01-22T15:07:10.445Z"
   },
   {
    "duration": 15,
    "start_time": "2022-01-22T15:07:10.453Z"
   },
   {
    "duration": 11,
    "start_time": "2022-01-22T15:07:10.471Z"
   },
   {
    "duration": 15,
    "start_time": "2022-01-22T15:07:10.484Z"
   },
   {
    "duration": 20,
    "start_time": "2022-01-22T15:07:10.501Z"
   },
   {
    "duration": 13,
    "start_time": "2022-01-22T15:07:10.523Z"
   },
   {
    "duration": 43,
    "start_time": "2022-01-22T15:07:10.538Z"
   },
   {
    "duration": 89,
    "start_time": "2022-01-22T15:07:10.583Z"
   },
   {
    "duration": 8,
    "start_time": "2022-01-22T15:07:10.675Z"
   },
   {
    "duration": 17,
    "start_time": "2022-01-22T15:07:10.772Z"
   },
   {
    "duration": 87,
    "start_time": "2022-01-22T15:07:10.790Z"
   },
   {
    "duration": 106,
    "start_time": "2022-01-22T15:07:10.880Z"
   },
   {
    "duration": 183,
    "start_time": "2022-01-22T15:07:10.988Z"
   },
   {
    "duration": 4,
    "start_time": "2022-01-22T15:07:11.173Z"
   },
   {
    "duration": 7,
    "start_time": "2022-01-22T15:07:11.179Z"
   },
   {
    "duration": 5,
    "start_time": "2022-01-22T15:07:11.187Z"
   },
   {
    "duration": 9,
    "start_time": "2022-01-22T15:07:11.193Z"
   },
   {
    "duration": 7,
    "start_time": "2022-01-22T15:07:11.204Z"
   },
   {
    "duration": 8,
    "start_time": "2022-01-22T15:07:11.212Z"
   },
   {
    "duration": 51,
    "start_time": "2022-01-22T15:07:11.222Z"
   },
   {
    "duration": 4,
    "start_time": "2022-01-22T15:07:11.275Z"
   },
   {
    "duration": 10,
    "start_time": "2022-01-22T15:07:11.280Z"
   },
   {
    "duration": 302,
    "start_time": "2022-01-22T15:07:11.292Z"
   },
   {
    "duration": -1376,
    "start_time": "2022-01-22T15:07:12.971Z"
   },
   {
    "duration": 4,
    "start_time": "2022-01-22T15:08:30.547Z"
   },
   {
    "duration": 391,
    "start_time": "2022-01-22T15:08:30.553Z"
   },
   {
    "duration": 10,
    "start_time": "2022-01-22T15:08:30.946Z"
   },
   {
    "duration": 18,
    "start_time": "2022-01-22T15:08:30.958Z"
   },
   {
    "duration": 13,
    "start_time": "2022-01-22T15:08:30.978Z"
   },
   {
    "duration": 11,
    "start_time": "2022-01-22T15:08:30.994Z"
   },
   {
    "duration": 17,
    "start_time": "2022-01-22T15:08:31.007Z"
   },
   {
    "duration": 9,
    "start_time": "2022-01-22T15:08:31.026Z"
   },
   {
    "duration": 41,
    "start_time": "2022-01-22T15:08:31.074Z"
   },
   {
    "duration": 95,
    "start_time": "2022-01-22T15:08:31.118Z"
   },
   {
    "duration": 21,
    "start_time": "2022-01-22T15:08:31.216Z"
   },
   {
    "duration": 78,
    "start_time": "2022-01-22T15:08:31.239Z"
   },
   {
    "duration": 67,
    "start_time": "2022-01-22T15:08:31.319Z"
   },
   {
    "duration": 16,
    "start_time": "2022-01-22T15:08:31.388Z"
   },
   {
    "duration": 33,
    "start_time": "2022-01-22T15:08:31.406Z"
   },
   {
    "duration": 13,
    "start_time": "2022-01-22T15:08:31.441Z"
   },
   {
    "duration": 22,
    "start_time": "2022-01-22T15:08:31.456Z"
   },
   {
    "duration": 17,
    "start_time": "2022-01-22T15:08:31.480Z"
   },
   {
    "duration": 10,
    "start_time": "2022-01-22T15:08:31.498Z"
   },
   {
    "duration": 18,
    "start_time": "2022-01-22T15:08:31.510Z"
   },
   {
    "duration": 42,
    "start_time": "2022-01-22T15:08:31.530Z"
   },
   {
    "duration": 15,
    "start_time": "2022-01-22T15:08:31.574Z"
   },
   {
    "duration": 16,
    "start_time": "2022-01-22T15:08:31.591Z"
   },
   {
    "duration": 19,
    "start_time": "2022-01-22T15:08:31.608Z"
   },
   {
    "duration": 27,
    "start_time": "2022-01-22T15:08:31.629Z"
   },
   {
    "duration": 45,
    "start_time": "2022-01-22T15:08:31.657Z"
   },
   {
    "duration": 14,
    "start_time": "2022-01-22T15:08:31.705Z"
   },
   {
    "duration": 15,
    "start_time": "2022-01-22T15:08:31.721Z"
   },
   {
    "duration": 32,
    "start_time": "2022-01-22T15:08:31.738Z"
   },
   {
    "duration": 19,
    "start_time": "2022-01-22T15:08:31.772Z"
   },
   {
    "duration": 36,
    "start_time": "2022-01-22T15:08:31.793Z"
   },
   {
    "duration": 44,
    "start_time": "2022-01-22T15:08:31.831Z"
   },
   {
    "duration": 105,
    "start_time": "2022-01-22T15:08:31.878Z"
   },
   {
    "duration": 89,
    "start_time": "2022-01-22T15:08:31.985Z"
   },
   {
    "duration": 8,
    "start_time": "2022-01-22T15:08:32.076Z"
   },
   {
    "duration": 93,
    "start_time": "2022-01-22T15:08:32.086Z"
   },
   {
    "duration": 95,
    "start_time": "2022-01-22T15:08:32.181Z"
   },
   {
    "duration": 95,
    "start_time": "2022-01-22T15:08:32.279Z"
   },
   {
    "duration": 6,
    "start_time": "2022-01-22T15:08:32.376Z"
   },
   {
    "duration": 6,
    "start_time": "2022-01-22T15:08:32.384Z"
   },
   {
    "duration": 4,
    "start_time": "2022-01-22T15:08:32.392Z"
   },
   {
    "duration": 10,
    "start_time": "2022-01-22T15:08:32.398Z"
   },
   {
    "duration": 8,
    "start_time": "2022-01-22T15:08:32.410Z"
   },
   {
    "duration": 9,
    "start_time": "2022-01-22T15:08:32.473Z"
   },
   {
    "duration": 3,
    "start_time": "2022-01-22T15:08:32.483Z"
   },
   {
    "duration": 16,
    "start_time": "2022-01-22T15:08:32.488Z"
   },
   {
    "duration": 432,
    "start_time": "2022-01-22T15:08:32.506Z"
   },
   {
    "duration": -2503,
    "start_time": "2022-01-22T15:08:35.443Z"
   },
   {
    "duration": 4,
    "start_time": "2022-01-22T15:08:42.333Z"
   },
   {
    "duration": 347,
    "start_time": "2022-01-22T15:08:42.339Z"
   },
   {
    "duration": 15,
    "start_time": "2022-01-22T15:08:42.689Z"
   },
   {
    "duration": 11,
    "start_time": "2022-01-22T15:08:42.706Z"
   },
   {
    "duration": 14,
    "start_time": "2022-01-22T15:08:42.719Z"
   },
   {
    "duration": 37,
    "start_time": "2022-01-22T15:08:42.735Z"
   },
   {
    "duration": 15,
    "start_time": "2022-01-22T15:08:42.773Z"
   },
   {
    "duration": 11,
    "start_time": "2022-01-22T15:08:42.789Z"
   },
   {
    "duration": 81,
    "start_time": "2022-01-22T15:08:42.803Z"
   },
   {
    "duration": 87,
    "start_time": "2022-01-22T15:08:42.886Z"
   },
   {
    "duration": 24,
    "start_time": "2022-01-22T15:08:42.974Z"
   },
   {
    "duration": 37,
    "start_time": "2022-01-22T15:08:43.000Z"
   },
   {
    "duration": 63,
    "start_time": "2022-01-22T15:08:43.038Z"
   },
   {
    "duration": 13,
    "start_time": "2022-01-22T15:08:43.102Z"
   },
   {
    "duration": 13,
    "start_time": "2022-01-22T15:08:43.116Z"
   },
   {
    "duration": 50,
    "start_time": "2022-01-22T15:08:43.131Z"
   },
   {
    "duration": 15,
    "start_time": "2022-01-22T15:08:43.183Z"
   },
   {
    "duration": 13,
    "start_time": "2022-01-22T15:08:43.200Z"
   },
   {
    "duration": 10,
    "start_time": "2022-01-22T15:08:43.215Z"
   },
   {
    "duration": 47,
    "start_time": "2022-01-22T15:08:43.226Z"
   },
   {
    "duration": 11,
    "start_time": "2022-01-22T15:08:43.274Z"
   },
   {
    "duration": 10,
    "start_time": "2022-01-22T15:08:43.287Z"
   },
   {
    "duration": 6,
    "start_time": "2022-01-22T15:08:43.299Z"
   },
   {
    "duration": 6,
    "start_time": "2022-01-22T15:08:43.307Z"
   },
   {
    "duration": 5,
    "start_time": "2022-01-22T15:08:43.314Z"
   },
   {
    "duration": 61,
    "start_time": "2022-01-22T15:08:43.321Z"
   },
   {
    "duration": 11,
    "start_time": "2022-01-22T15:08:43.386Z"
   },
   {
    "duration": 10,
    "start_time": "2022-01-22T15:08:43.399Z"
   },
   {
    "duration": 19,
    "start_time": "2022-01-22T15:08:43.411Z"
   },
   {
    "duration": 41,
    "start_time": "2022-01-22T15:08:43.432Z"
   },
   {
    "duration": 15,
    "start_time": "2022-01-22T15:08:43.474Z"
   },
   {
    "duration": 182,
    "start_time": "2022-01-22T15:08:43.490Z"
   },
   {
    "duration": 5,
    "start_time": "2022-01-22T15:08:43.674Z"
   },
   {
    "duration": 32,
    "start_time": "2022-01-22T15:08:43.681Z"
   },
   {
    "duration": 67,
    "start_time": "2022-01-22T15:08:43.714Z"
   },
   {
    "duration": 111,
    "start_time": "2022-01-22T15:08:43.783Z"
   },
   {
    "duration": 100,
    "start_time": "2022-01-22T15:08:43.973Z"
   },
   {
    "duration": 4,
    "start_time": "2022-01-22T15:08:44.075Z"
   },
   {
    "duration": 6,
    "start_time": "2022-01-22T15:08:44.081Z"
   },
   {
    "duration": 4,
    "start_time": "2022-01-22T15:08:44.089Z"
   },
   {
    "duration": 6,
    "start_time": "2022-01-22T15:08:44.094Z"
   },
   {
    "duration": 11,
    "start_time": "2022-01-22T15:08:44.101Z"
   },
   {
    "duration": 8,
    "start_time": "2022-01-22T15:08:44.114Z"
   },
   {
    "duration": 8,
    "start_time": "2022-01-22T15:08:44.172Z"
   },
   {
    "duration": 3,
    "start_time": "2022-01-22T15:08:44.181Z"
   },
   {
    "duration": 16,
    "start_time": "2022-01-22T15:08:44.185Z"
   },
   {
    "duration": 719,
    "start_time": "2022-01-22T15:08:44.203Z"
   },
   {
    "duration": -1354,
    "start_time": "2022-01-22T15:08:46.278Z"
   },
   {
    "duration": 1129,
    "start_time": "2022-01-23T08:27:13.794Z"
   },
   {
    "duration": 384,
    "start_time": "2022-01-23T08:27:14.926Z"
   },
   {
    "duration": 11,
    "start_time": "2022-01-23T08:27:15.312Z"
   },
   {
    "duration": 28,
    "start_time": "2022-01-23T08:27:15.325Z"
   },
   {
    "duration": 36,
    "start_time": "2022-01-23T08:27:15.355Z"
   },
   {
    "duration": 25,
    "start_time": "2022-01-23T08:27:15.392Z"
   },
   {
    "duration": 37,
    "start_time": "2022-01-23T08:27:15.418Z"
   },
   {
    "duration": 16,
    "start_time": "2022-01-23T08:27:15.457Z"
   },
   {
    "duration": 58,
    "start_time": "2022-01-23T08:27:15.475Z"
   },
   {
    "duration": 56,
    "start_time": "2022-01-23T08:27:15.535Z"
   },
   {
    "duration": 38,
    "start_time": "2022-01-23T08:27:15.593Z"
   },
   {
    "duration": 56,
    "start_time": "2022-01-23T08:27:15.633Z"
   },
   {
    "duration": 40,
    "start_time": "2022-01-23T08:27:15.690Z"
   },
   {
    "duration": 29,
    "start_time": "2022-01-23T08:27:15.732Z"
   },
   {
    "duration": 32,
    "start_time": "2022-01-23T08:27:15.763Z"
   },
   {
    "duration": 39,
    "start_time": "2022-01-23T08:27:15.796Z"
   },
   {
    "duration": 44,
    "start_time": "2022-01-23T08:27:15.837Z"
   },
   {
    "duration": 32,
    "start_time": "2022-01-23T08:27:15.883Z"
   },
   {
    "duration": 19,
    "start_time": "2022-01-23T08:27:15.917Z"
   },
   {
    "duration": 18,
    "start_time": "2022-01-23T08:27:15.938Z"
   },
   {
    "duration": 43,
    "start_time": "2022-01-23T08:27:15.958Z"
   },
   {
    "duration": 26,
    "start_time": "2022-01-23T08:27:16.003Z"
   },
   {
    "duration": 31,
    "start_time": "2022-01-23T08:27:16.033Z"
   },
   {
    "duration": 18,
    "start_time": "2022-01-23T08:27:16.066Z"
   },
   {
    "duration": 27,
    "start_time": "2022-01-23T08:27:16.086Z"
   },
   {
    "duration": 48,
    "start_time": "2022-01-23T08:27:16.115Z"
   },
   {
    "duration": 25,
    "start_time": "2022-01-23T08:27:16.165Z"
   },
   {
    "duration": 28,
    "start_time": "2022-01-23T08:27:16.192Z"
   },
   {
    "duration": 45,
    "start_time": "2022-01-23T08:27:16.221Z"
   },
   {
    "duration": 21,
    "start_time": "2022-01-23T08:27:16.268Z"
   },
   {
    "duration": 39,
    "start_time": "2022-01-23T08:27:16.291Z"
   },
   {
    "duration": 39,
    "start_time": "2022-01-23T08:27:16.332Z"
   },
   {
    "duration": 188,
    "start_time": "2022-01-23T08:27:16.374Z"
   },
   {
    "duration": 97,
    "start_time": "2022-01-23T08:27:16.564Z"
   },
   {
    "duration": 108,
    "start_time": "2022-01-23T08:27:16.664Z"
   },
   {
    "duration": 88,
    "start_time": "2022-01-23T08:27:16.774Z"
   },
   {
    "duration": 97,
    "start_time": "2022-01-23T08:27:16.865Z"
   },
   {
    "duration": 40,
    "start_time": "2022-01-23T08:27:16.964Z"
   },
   {
    "duration": 40,
    "start_time": "2022-01-23T08:27:17.006Z"
   },
   {
    "duration": 33,
    "start_time": "2022-01-23T08:27:17.048Z"
   },
   {
    "duration": 23,
    "start_time": "2022-01-23T08:27:17.083Z"
   },
   {
    "duration": 48,
    "start_time": "2022-01-23T08:27:17.108Z"
   },
   {
    "duration": 43,
    "start_time": "2022-01-23T08:27:17.157Z"
   },
   {
    "duration": 48,
    "start_time": "2022-01-23T08:27:17.202Z"
   },
   {
    "duration": 39,
    "start_time": "2022-01-23T08:27:17.251Z"
   },
   {
    "duration": 437,
    "start_time": "2022-01-23T08:27:17.292Z"
   },
   {
    "duration": -776,
    "start_time": "2022-01-23T08:27:18.506Z"
   },
   {
    "duration": -783,
    "start_time": "2022-01-23T08:27:18.514Z"
   },
   {
    "duration": 4,
    "start_time": "2022-01-23T08:28:26.620Z"
   },
   {
    "duration": 440,
    "start_time": "2022-01-23T08:28:26.626Z"
   },
   {
    "duration": 10,
    "start_time": "2022-01-23T08:28:27.069Z"
   },
   {
    "duration": 17,
    "start_time": "2022-01-23T08:28:27.081Z"
   },
   {
    "duration": 25,
    "start_time": "2022-01-23T08:28:27.099Z"
   },
   {
    "duration": 16,
    "start_time": "2022-01-23T08:28:27.126Z"
   },
   {
    "duration": 33,
    "start_time": "2022-01-23T08:28:27.143Z"
   },
   {
    "duration": 24,
    "start_time": "2022-01-23T08:28:27.178Z"
   },
   {
    "duration": 50,
    "start_time": "2022-01-23T08:28:27.205Z"
   },
   {
    "duration": 62,
    "start_time": "2022-01-23T08:28:27.258Z"
   },
   {
    "duration": 13,
    "start_time": "2022-01-23T08:28:27.322Z"
   },
   {
    "duration": 60,
    "start_time": "2022-01-23T08:28:27.337Z"
   },
   {
    "duration": 41,
    "start_time": "2022-01-23T08:28:27.399Z"
   },
   {
    "duration": 23,
    "start_time": "2022-01-23T08:28:27.442Z"
   },
   {
    "duration": 12,
    "start_time": "2022-01-23T08:28:27.467Z"
   },
   {
    "duration": 23,
    "start_time": "2022-01-23T08:28:27.481Z"
   },
   {
    "duration": 20,
    "start_time": "2022-01-23T08:28:27.507Z"
   },
   {
    "duration": 34,
    "start_time": "2022-01-23T08:28:27.529Z"
   },
   {
    "duration": 12,
    "start_time": "2022-01-23T08:28:27.566Z"
   },
   {
    "duration": 20,
    "start_time": "2022-01-23T08:28:27.580Z"
   },
   {
    "duration": 22,
    "start_time": "2022-01-23T08:28:27.602Z"
   },
   {
    "duration": 27,
    "start_time": "2022-01-23T08:28:27.626Z"
   },
   {
    "duration": 26,
    "start_time": "2022-01-23T08:28:27.656Z"
   },
   {
    "duration": 15,
    "start_time": "2022-01-23T08:28:27.684Z"
   },
   {
    "duration": 30,
    "start_time": "2022-01-23T08:28:27.701Z"
   },
   {
    "duration": 32,
    "start_time": "2022-01-23T08:28:27.733Z"
   },
   {
    "duration": 14,
    "start_time": "2022-01-23T08:28:27.770Z"
   },
   {
    "duration": 25,
    "start_time": "2022-01-23T08:28:27.786Z"
   },
   {
    "duration": 28,
    "start_time": "2022-01-23T08:28:27.813Z"
   },
   {
    "duration": 28,
    "start_time": "2022-01-23T08:28:27.843Z"
   },
   {
    "duration": 46,
    "start_time": "2022-01-23T08:28:27.873Z"
   },
   {
    "duration": 43,
    "start_time": "2022-01-23T08:28:27.921Z"
   },
   {
    "duration": 101,
    "start_time": "2022-01-23T08:28:27.966Z"
   },
   {
    "duration": 94,
    "start_time": "2022-01-23T08:28:28.070Z"
   },
   {
    "duration": 112,
    "start_time": "2022-01-23T08:28:28.166Z"
   },
   {
    "duration": 45,
    "start_time": "2022-01-23T08:28:28.280Z"
   },
   {
    "duration": 138,
    "start_time": "2022-01-23T08:28:28.327Z"
   },
   {
    "duration": 30,
    "start_time": "2022-01-23T08:28:28.467Z"
   },
   {
    "duration": 29,
    "start_time": "2022-01-23T08:28:28.499Z"
   },
   {
    "duration": 14,
    "start_time": "2022-01-23T08:28:28.530Z"
   },
   {
    "duration": 11,
    "start_time": "2022-01-23T08:28:28.546Z"
   },
   {
    "duration": 21,
    "start_time": "2022-01-23T08:28:28.558Z"
   },
   {
    "duration": 17,
    "start_time": "2022-01-23T08:28:28.581Z"
   },
   {
    "duration": 29,
    "start_time": "2022-01-23T08:28:28.600Z"
   },
   {
    "duration": 16,
    "start_time": "2022-01-23T08:28:28.630Z"
   },
   {
    "duration": 34,
    "start_time": "2022-01-23T08:28:28.648Z"
   },
   {
    "duration": 249,
    "start_time": "2022-01-23T08:28:28.684Z"
   },
   {
    "duration": -786,
    "start_time": "2022-01-23T08:28:29.721Z"
   },
   {
    "duration": 3,
    "start_time": "2022-01-23T08:29:12.257Z"
   },
   {
    "duration": 626,
    "start_time": "2022-01-23T08:29:16.680Z"
   },
   {
    "duration": 3,
    "start_time": "2022-01-23T08:29:32.145Z"
   },
   {
    "duration": 502,
    "start_time": "2022-01-23T08:29:32.998Z"
   },
   {
    "duration": 3,
    "start_time": "2022-01-23T08:31:09.728Z"
   },
   {
    "duration": 406,
    "start_time": "2022-01-23T08:31:09.733Z"
   },
   {
    "duration": 10,
    "start_time": "2022-01-23T08:31:10.141Z"
   },
   {
    "duration": 25,
    "start_time": "2022-01-23T08:31:10.161Z"
   },
   {
    "duration": 33,
    "start_time": "2022-01-23T08:31:10.188Z"
   },
   {
    "duration": 26,
    "start_time": "2022-01-23T08:31:10.224Z"
   },
   {
    "duration": 49,
    "start_time": "2022-01-23T08:31:10.251Z"
   },
   {
    "duration": 38,
    "start_time": "2022-01-23T08:31:10.302Z"
   },
   {
    "duration": 69,
    "start_time": "2022-01-23T08:31:10.343Z"
   },
   {
    "duration": 60,
    "start_time": "2022-01-23T08:31:10.414Z"
   },
   {
    "duration": 21,
    "start_time": "2022-01-23T08:31:10.476Z"
   },
   {
    "duration": 118,
    "start_time": "2022-01-23T08:31:10.500Z"
   },
   {
    "duration": 61,
    "start_time": "2022-01-23T08:31:10.620Z"
   },
   {
    "duration": 15,
    "start_time": "2022-01-23T08:31:10.683Z"
   },
   {
    "duration": 22,
    "start_time": "2022-01-23T08:31:10.700Z"
   },
   {
    "duration": 30,
    "start_time": "2022-01-23T08:31:10.724Z"
   },
   {
    "duration": 40,
    "start_time": "2022-01-23T08:31:10.756Z"
   },
   {
    "duration": 26,
    "start_time": "2022-01-23T08:31:10.800Z"
   },
   {
    "duration": 28,
    "start_time": "2022-01-23T08:31:10.828Z"
   },
   {
    "duration": 36,
    "start_time": "2022-01-23T08:31:10.858Z"
   },
   {
    "duration": 38,
    "start_time": "2022-01-23T08:31:10.896Z"
   },
   {
    "duration": 46,
    "start_time": "2022-01-23T08:31:10.936Z"
   },
   {
    "duration": 13,
    "start_time": "2022-01-23T08:31:10.987Z"
   },
   {
    "duration": 29,
    "start_time": "2022-01-23T08:31:11.003Z"
   },
   {
    "duration": 22,
    "start_time": "2022-01-23T08:31:11.034Z"
   },
   {
    "duration": 34,
    "start_time": "2022-01-23T08:31:11.058Z"
   },
   {
    "duration": 37,
    "start_time": "2022-01-23T08:31:11.096Z"
   },
   {
    "duration": 39,
    "start_time": "2022-01-23T08:31:11.135Z"
   },
   {
    "duration": 41,
    "start_time": "2022-01-23T08:31:11.176Z"
   },
   {
    "duration": 24,
    "start_time": "2022-01-23T08:31:11.219Z"
   },
   {
    "duration": 15,
    "start_time": "2022-01-23T08:31:11.245Z"
   },
   {
    "duration": 22,
    "start_time": "2022-01-23T08:31:11.261Z"
   },
   {
    "duration": 87,
    "start_time": "2022-01-23T08:31:11.285Z"
   },
   {
    "duration": 96,
    "start_time": "2022-01-23T08:31:11.375Z"
   },
   {
    "duration": 196,
    "start_time": "2022-01-23T08:31:11.474Z"
   },
   {
    "duration": 17,
    "start_time": "2022-01-23T08:31:11.672Z"
   },
   {
    "duration": 71,
    "start_time": "2022-01-23T08:31:11.691Z"
   },
   {
    "duration": 15,
    "start_time": "2022-01-23T08:31:11.765Z"
   },
   {
    "duration": 5,
    "start_time": "2022-01-23T08:31:11.861Z"
   },
   {
    "duration": 10,
    "start_time": "2022-01-23T08:31:11.868Z"
   },
   {
    "duration": 4,
    "start_time": "2022-01-23T08:31:11.880Z"
   },
   {
    "duration": 13,
    "start_time": "2022-01-23T08:31:11.886Z"
   },
   {
    "duration": 8,
    "start_time": "2022-01-23T08:31:11.902Z"
   },
   {
    "duration": 9,
    "start_time": "2022-01-23T08:31:11.912Z"
   },
   {
    "duration": 42,
    "start_time": "2022-01-23T08:31:11.923Z"
   },
   {
    "duration": 15,
    "start_time": "2022-01-23T08:31:11.967Z"
   },
   {
    "duration": 606,
    "start_time": "2022-01-23T08:31:11.983Z"
   },
   {
    "duration": 4,
    "start_time": "2022-01-23T08:34:49.174Z"
   },
   {
    "duration": 584,
    "start_time": "2022-01-23T08:34:49.180Z"
   },
   {
    "duration": 17,
    "start_time": "2022-01-23T08:34:49.767Z"
   },
   {
    "duration": 10,
    "start_time": "2022-01-23T08:34:49.786Z"
   },
   {
    "duration": 16,
    "start_time": "2022-01-23T08:34:49.798Z"
   },
   {
    "duration": 9,
    "start_time": "2022-01-23T08:34:49.815Z"
   },
   {
    "duration": 44,
    "start_time": "2022-01-23T08:34:49.826Z"
   },
   {
    "duration": 8,
    "start_time": "2022-01-23T08:34:49.874Z"
   },
   {
    "duration": 44,
    "start_time": "2022-01-23T08:34:49.885Z"
   },
   {
    "duration": 82,
    "start_time": "2022-01-23T08:34:49.931Z"
   },
   {
    "duration": 16,
    "start_time": "2022-01-23T08:34:50.016Z"
   },
   {
    "duration": 70,
    "start_time": "2022-01-23T08:34:50.034Z"
   },
   {
    "duration": 60,
    "start_time": "2022-01-23T08:34:50.106Z"
   },
   {
    "duration": 14,
    "start_time": "2022-01-23T08:34:50.168Z"
   },
   {
    "duration": 15,
    "start_time": "2022-01-23T08:34:50.185Z"
   },
   {
    "duration": 14,
    "start_time": "2022-01-23T08:34:50.202Z"
   },
   {
    "duration": 50,
    "start_time": "2022-01-23T08:34:50.218Z"
   },
   {
    "duration": 14,
    "start_time": "2022-01-23T08:34:50.270Z"
   },
   {
    "duration": 14,
    "start_time": "2022-01-23T08:34:50.286Z"
   },
   {
    "duration": 15,
    "start_time": "2022-01-23T08:34:50.302Z"
   },
   {
    "duration": 43,
    "start_time": "2022-01-23T08:34:50.319Z"
   },
   {
    "duration": 17,
    "start_time": "2022-01-23T08:34:50.364Z"
   },
   {
    "duration": 7,
    "start_time": "2022-01-23T08:34:50.385Z"
   },
   {
    "duration": 7,
    "start_time": "2022-01-23T08:34:50.395Z"
   },
   {
    "duration": 10,
    "start_time": "2022-01-23T08:34:50.404Z"
   },
   {
    "duration": 22,
    "start_time": "2022-01-23T08:34:50.416Z"
   },
   {
    "duration": 36,
    "start_time": "2022-01-23T08:34:50.440Z"
   },
   {
    "duration": 21,
    "start_time": "2022-01-23T08:34:50.478Z"
   },
   {
    "duration": 29,
    "start_time": "2022-01-23T08:34:50.501Z"
   },
   {
    "duration": 38,
    "start_time": "2022-01-23T08:34:50.532Z"
   },
   {
    "duration": 15,
    "start_time": "2022-01-23T08:34:50.572Z"
   },
   {
    "duration": 19,
    "start_time": "2022-01-23T08:34:50.589Z"
   },
   {
    "duration": 10,
    "start_time": "2022-01-23T08:34:50.663Z"
   },
   {
    "duration": 101,
    "start_time": "2022-01-23T08:34:50.675Z"
   },
   {
    "duration": 91,
    "start_time": "2022-01-23T08:34:50.779Z"
   },
   {
    "duration": 110,
    "start_time": "2022-01-23T08:34:50.875Z"
   },
   {
    "duration": 10,
    "start_time": "2022-01-23T08:34:51.061Z"
   },
   {
    "duration": 92,
    "start_time": "2022-01-23T08:34:51.073Z"
   },
   {
    "duration": 9,
    "start_time": "2022-01-23T08:34:51.167Z"
   },
   {
    "duration": 32,
    "start_time": "2022-01-23T08:34:51.178Z"
   },
   {
    "duration": 14,
    "start_time": "2022-01-23T08:34:51.212Z"
   },
   {
    "duration": 16,
    "start_time": "2022-01-23T08:34:51.228Z"
   },
   {
    "duration": 11,
    "start_time": "2022-01-23T08:34:51.246Z"
   },
   {
    "duration": 10,
    "start_time": "2022-01-23T08:34:51.259Z"
   },
   {
    "duration": 3,
    "start_time": "2022-01-23T08:34:51.271Z"
   },
   {
    "duration": 6,
    "start_time": "2022-01-23T08:34:51.276Z"
   },
   {
    "duration": 567,
    "start_time": "2022-01-23T08:34:51.283Z"
   },
   {
    "duration": 3,
    "start_time": "2022-01-23T08:36:58.193Z"
   },
   {
    "duration": 404,
    "start_time": "2022-01-23T08:36:58.198Z"
   },
   {
    "duration": 12,
    "start_time": "2022-01-23T08:36:58.604Z"
   },
   {
    "duration": 8,
    "start_time": "2022-01-23T08:36:58.617Z"
   },
   {
    "duration": 13,
    "start_time": "2022-01-23T08:36:58.627Z"
   },
   {
    "duration": 23,
    "start_time": "2022-01-23T08:36:58.642Z"
   },
   {
    "duration": 16,
    "start_time": "2022-01-23T08:36:58.667Z"
   },
   {
    "duration": 9,
    "start_time": "2022-01-23T08:36:58.684Z"
   },
   {
    "duration": 88,
    "start_time": "2022-01-23T08:36:58.697Z"
   },
   {
    "duration": 103,
    "start_time": "2022-01-23T08:36:58.788Z"
   },
   {
    "duration": 22,
    "start_time": "2022-01-23T08:36:58.893Z"
   },
   {
    "duration": 84,
    "start_time": "2022-01-23T08:36:58.917Z"
   },
   {
    "duration": 67,
    "start_time": "2022-01-23T08:36:59.003Z"
   },
   {
    "duration": 20,
    "start_time": "2022-01-23T08:36:59.072Z"
   },
   {
    "duration": 29,
    "start_time": "2022-01-23T08:36:59.094Z"
   },
   {
    "duration": 19,
    "start_time": "2022-01-23T08:36:59.125Z"
   },
   {
    "duration": 18,
    "start_time": "2022-01-23T08:36:59.161Z"
   },
   {
    "duration": 25,
    "start_time": "2022-01-23T08:36:59.181Z"
   },
   {
    "duration": 11,
    "start_time": "2022-01-23T08:36:59.208Z"
   },
   {
    "duration": 19,
    "start_time": "2022-01-23T08:36:59.221Z"
   },
   {
    "duration": 24,
    "start_time": "2022-01-23T08:36:59.241Z"
   },
   {
    "duration": 18,
    "start_time": "2022-01-23T08:36:59.267Z"
   },
   {
    "duration": 18,
    "start_time": "2022-01-23T08:36:59.287Z"
   },
   {
    "duration": 20,
    "start_time": "2022-01-23T08:36:59.306Z"
   },
   {
    "duration": 21,
    "start_time": "2022-01-23T08:36:59.327Z"
   },
   {
    "duration": 20,
    "start_time": "2022-01-23T08:36:59.349Z"
   },
   {
    "duration": 12,
    "start_time": "2022-01-23T08:36:59.372Z"
   },
   {
    "duration": 12,
    "start_time": "2022-01-23T08:36:59.386Z"
   },
   {
    "duration": 27,
    "start_time": "2022-01-23T08:36:59.400Z"
   },
   {
    "duration": 40,
    "start_time": "2022-01-23T08:36:59.429Z"
   },
   {
    "duration": 18,
    "start_time": "2022-01-23T08:36:59.471Z"
   },
   {
    "duration": 77,
    "start_time": "2022-01-23T08:36:59.492Z"
   },
   {
    "duration": 93,
    "start_time": "2022-01-23T08:36:59.571Z"
   },
   {
    "duration": 96,
    "start_time": "2022-01-23T08:36:59.666Z"
   },
   {
    "duration": 97,
    "start_time": "2022-01-23T08:36:59.765Z"
   },
   {
    "duration": 18,
    "start_time": "2022-01-23T08:36:59.864Z"
   },
   {
    "duration": 84,
    "start_time": "2022-01-23T08:36:59.885Z"
   },
   {
    "duration": 11,
    "start_time": "2022-01-23T08:37:00.061Z"
   },
   {
    "duration": 10,
    "start_time": "2022-01-23T08:37:00.074Z"
   },
   {
    "duration": 11,
    "start_time": "2022-01-23T08:37:00.086Z"
   },
   {
    "duration": 11,
    "start_time": "2022-01-23T08:37:00.099Z"
   },
   {
    "duration": 13,
    "start_time": "2022-01-23T08:37:00.112Z"
   },
   {
    "duration": 7,
    "start_time": "2022-01-23T08:37:00.127Z"
   },
   {
    "duration": 25,
    "start_time": "2022-01-23T08:37:00.136Z"
   },
   {
    "duration": 3,
    "start_time": "2022-01-23T08:37:00.162Z"
   },
   {
    "duration": 5,
    "start_time": "2022-01-23T08:37:00.167Z"
   },
   {
    "duration": 522,
    "start_time": "2022-01-23T08:37:00.174Z"
   },
   {
    "duration": 4,
    "start_time": "2022-01-23T08:37:47.885Z"
   },
   {
    "duration": 554,
    "start_time": "2022-01-23T08:37:47.892Z"
   },
   {
    "duration": 20,
    "start_time": "2022-01-23T08:37:48.448Z"
   },
   {
    "duration": 10,
    "start_time": "2022-01-23T08:37:48.471Z"
   },
   {
    "duration": 16,
    "start_time": "2022-01-23T08:37:48.483Z"
   },
   {
    "duration": 11,
    "start_time": "2022-01-23T08:37:48.501Z"
   },
   {
    "duration": 16,
    "start_time": "2022-01-23T08:37:48.514Z"
   },
   {
    "duration": 11,
    "start_time": "2022-01-23T08:37:48.563Z"
   },
   {
    "duration": 40,
    "start_time": "2022-01-23T08:37:48.576Z"
   },
   {
    "duration": 74,
    "start_time": "2022-01-23T08:37:48.618Z"
   },
   {
    "duration": 15,
    "start_time": "2022-01-23T08:37:48.694Z"
   },
   {
    "duration": 55,
    "start_time": "2022-01-23T08:37:48.710Z"
   },
   {
    "duration": 43,
    "start_time": "2022-01-23T08:37:48.766Z"
   },
   {
    "duration": 14,
    "start_time": "2022-01-23T08:37:48.810Z"
   },
   {
    "duration": 37,
    "start_time": "2022-01-23T08:37:48.825Z"
   },
   {
    "duration": 14,
    "start_time": "2022-01-23T08:37:48.863Z"
   },
   {
    "duration": 11,
    "start_time": "2022-01-23T08:37:48.879Z"
   },
   {
    "duration": 12,
    "start_time": "2022-01-23T08:37:48.891Z"
   },
   {
    "duration": 10,
    "start_time": "2022-01-23T08:37:48.904Z"
   },
   {
    "duration": 52,
    "start_time": "2022-01-23T08:37:48.915Z"
   },
   {
    "duration": 11,
    "start_time": "2022-01-23T08:37:48.969Z"
   },
   {
    "duration": 11,
    "start_time": "2022-01-23T08:37:48.982Z"
   },
   {
    "duration": 17,
    "start_time": "2022-01-23T08:37:48.996Z"
   },
   {
    "duration": 7,
    "start_time": "2022-01-23T08:37:49.015Z"
   },
   {
    "duration": 7,
    "start_time": "2022-01-23T08:37:49.024Z"
   },
   {
    "duration": 36,
    "start_time": "2022-01-23T08:37:49.032Z"
   },
   {
    "duration": 13,
    "start_time": "2022-01-23T08:37:49.070Z"
   },
   {
    "duration": 12,
    "start_time": "2022-01-23T08:37:49.084Z"
   },
   {
    "duration": 22,
    "start_time": "2022-01-23T08:37:49.097Z"
   },
   {
    "duration": 47,
    "start_time": "2022-01-23T08:37:49.120Z"
   },
   {
    "duration": 14,
    "start_time": "2022-01-23T08:37:49.169Z"
   },
   {
    "duration": 82,
    "start_time": "2022-01-23T08:37:49.185Z"
   },
   {
    "duration": 97,
    "start_time": "2022-01-23T08:37:49.269Z"
   },
   {
    "duration": 13,
    "start_time": "2022-01-23T08:37:49.368Z"
   },
   {
    "duration": 179,
    "start_time": "2022-01-23T08:37:49.383Z"
   },
   {
    "duration": 15,
    "start_time": "2022-01-23T08:37:49.564Z"
   },
   {
    "duration": 180,
    "start_time": "2022-01-23T08:37:49.582Z"
   },
   {
    "duration": 4,
    "start_time": "2022-01-23T08:37:49.765Z"
   },
   {
    "duration": 19,
    "start_time": "2022-01-23T08:37:49.771Z"
   },
   {
    "duration": 19,
    "start_time": "2022-01-23T08:37:49.792Z"
   },
   {
    "duration": 9,
    "start_time": "2022-01-23T08:37:49.813Z"
   },
   {
    "duration": 21,
    "start_time": "2022-01-23T08:37:49.824Z"
   },
   {
    "duration": 23,
    "start_time": "2022-01-23T08:37:49.847Z"
   },
   {
    "duration": 17,
    "start_time": "2022-01-23T08:37:49.872Z"
   },
   {
    "duration": 15,
    "start_time": "2022-01-23T08:37:49.890Z"
   },
   {
    "duration": 5,
    "start_time": "2022-01-23T08:37:49.907Z"
   },
   {
    "duration": 489,
    "start_time": "2022-01-23T08:37:49.913Z"
   },
   {
    "duration": 4,
    "start_time": "2022-01-23T08:38:04.826Z"
   },
   {
    "duration": 442,
    "start_time": "2022-01-23T08:38:04.833Z"
   },
   {
    "duration": 11,
    "start_time": "2022-01-23T08:38:05.278Z"
   },
   {
    "duration": 46,
    "start_time": "2022-01-23T08:38:05.291Z"
   },
   {
    "duration": 41,
    "start_time": "2022-01-23T08:38:05.339Z"
   },
   {
    "duration": 25,
    "start_time": "2022-01-23T08:38:05.382Z"
   },
   {
    "duration": 32,
    "start_time": "2022-01-23T08:38:05.409Z"
   },
   {
    "duration": 16,
    "start_time": "2022-01-23T08:38:05.442Z"
   },
   {
    "duration": 66,
    "start_time": "2022-01-23T08:38:05.462Z"
   },
   {
    "duration": 71,
    "start_time": "2022-01-23T08:38:05.531Z"
   },
   {
    "duration": 39,
    "start_time": "2022-01-23T08:38:05.604Z"
   },
   {
    "duration": 76,
    "start_time": "2022-01-23T08:38:05.644Z"
   },
   {
    "duration": 47,
    "start_time": "2022-01-23T08:38:05.722Z"
   },
   {
    "duration": 17,
    "start_time": "2022-01-23T08:38:05.771Z"
   },
   {
    "duration": 23,
    "start_time": "2022-01-23T08:38:05.790Z"
   },
   {
    "duration": 38,
    "start_time": "2022-01-23T08:38:05.815Z"
   },
   {
    "duration": 33,
    "start_time": "2022-01-23T08:38:05.855Z"
   },
   {
    "duration": 24,
    "start_time": "2022-01-23T08:38:05.890Z"
   },
   {
    "duration": 27,
    "start_time": "2022-01-23T08:38:05.916Z"
   },
   {
    "duration": 47,
    "start_time": "2022-01-23T08:38:05.945Z"
   },
   {
    "duration": 45,
    "start_time": "2022-01-23T08:38:05.993Z"
   },
   {
    "duration": 36,
    "start_time": "2022-01-23T08:38:06.039Z"
   },
   {
    "duration": 29,
    "start_time": "2022-01-23T08:38:06.077Z"
   },
   {
    "duration": 40,
    "start_time": "2022-01-23T08:38:06.109Z"
   },
   {
    "duration": 51,
    "start_time": "2022-01-23T08:38:06.152Z"
   },
   {
    "duration": 71,
    "start_time": "2022-01-23T08:38:06.205Z"
   },
   {
    "duration": 28,
    "start_time": "2022-01-23T08:38:06.281Z"
   },
   {
    "duration": 31,
    "start_time": "2022-01-23T08:38:06.312Z"
   },
   {
    "duration": 48,
    "start_time": "2022-01-23T08:38:06.345Z"
   },
   {
    "duration": 20,
    "start_time": "2022-01-23T08:38:06.395Z"
   },
   {
    "duration": 33,
    "start_time": "2022-01-23T08:38:06.417Z"
   },
   {
    "duration": 41,
    "start_time": "2022-01-23T08:38:06.452Z"
   },
   {
    "duration": 172,
    "start_time": "2022-01-23T08:38:06.495Z"
   },
   {
    "duration": 99,
    "start_time": "2022-01-23T08:38:06.670Z"
   },
   {
    "duration": 107,
    "start_time": "2022-01-23T08:38:06.778Z"
   },
   {
    "duration": 74,
    "start_time": "2022-01-23T08:38:06.887Z"
   },
   {
    "duration": 13,
    "start_time": "2022-01-23T08:38:06.969Z"
   },
   {
    "duration": 28,
    "start_time": "2022-01-23T08:38:07.060Z"
   },
   {
    "duration": 19,
    "start_time": "2022-01-23T08:38:07.089Z"
   },
   {
    "duration": 34,
    "start_time": "2022-01-23T08:38:07.110Z"
   },
   {
    "duration": 30,
    "start_time": "2022-01-23T08:38:07.146Z"
   },
   {
    "duration": 31,
    "start_time": "2022-01-23T08:38:07.179Z"
   },
   {
    "duration": 37,
    "start_time": "2022-01-23T08:38:07.212Z"
   },
   {
    "duration": 42,
    "start_time": "2022-01-23T08:38:07.252Z"
   },
   {
    "duration": 18,
    "start_time": "2022-01-23T08:38:07.296Z"
   },
   {
    "duration": 34,
    "start_time": "2022-01-23T08:38:07.316Z"
   },
   {
    "duration": 624,
    "start_time": "2022-01-23T08:38:07.352Z"
   },
   {
    "duration": 4,
    "start_time": "2022-01-23T08:38:22.029Z"
   },
   {
    "duration": 586,
    "start_time": "2022-01-23T08:38:22.034Z"
   },
   {
    "duration": 17,
    "start_time": "2022-01-23T08:38:22.623Z"
   },
   {
    "duration": 22,
    "start_time": "2022-01-23T08:38:22.642Z"
   },
   {
    "duration": 23,
    "start_time": "2022-01-23T08:38:22.666Z"
   },
   {
    "duration": 8,
    "start_time": "2022-01-23T08:38:22.691Z"
   },
   {
    "duration": 13,
    "start_time": "2022-01-23T08:38:22.701Z"
   },
   {
    "duration": 8,
    "start_time": "2022-01-23T08:38:22.716Z"
   },
   {
    "duration": 75,
    "start_time": "2022-01-23T08:38:22.727Z"
   },
   {
    "duration": 75,
    "start_time": "2022-01-23T08:38:22.805Z"
   },
   {
    "duration": 17,
    "start_time": "2022-01-23T08:38:22.882Z"
   },
   {
    "duration": 61,
    "start_time": "2022-01-23T08:38:22.901Z"
   },
   {
    "duration": 53,
    "start_time": "2022-01-23T08:38:22.965Z"
   },
   {
    "duration": 16,
    "start_time": "2022-01-23T08:38:23.020Z"
   },
   {
    "duration": 21,
    "start_time": "2022-01-23T08:38:23.062Z"
   },
   {
    "duration": 16,
    "start_time": "2022-01-23T08:38:23.085Z"
   },
   {
    "duration": 13,
    "start_time": "2022-01-23T08:38:23.104Z"
   },
   {
    "duration": 43,
    "start_time": "2022-01-23T08:38:23.119Z"
   },
   {
    "duration": 14,
    "start_time": "2022-01-23T08:38:23.173Z"
   },
   {
    "duration": 11,
    "start_time": "2022-01-23T08:38:23.189Z"
   },
   {
    "duration": 15,
    "start_time": "2022-01-23T08:38:23.202Z"
   },
   {
    "duration": 11,
    "start_time": "2022-01-23T08:38:23.219Z"
   },
   {
    "duration": 34,
    "start_time": "2022-01-23T08:38:23.232Z"
   },
   {
    "duration": 17,
    "start_time": "2022-01-23T08:38:23.269Z"
   },
   {
    "duration": 12,
    "start_time": "2022-01-23T08:38:23.287Z"
   },
   {
    "duration": 14,
    "start_time": "2022-01-23T08:38:23.301Z"
   },
   {
    "duration": 12,
    "start_time": "2022-01-23T08:38:23.319Z"
   },
   {
    "duration": 27,
    "start_time": "2022-01-23T08:38:23.333Z"
   },
   {
    "duration": 27,
    "start_time": "2022-01-23T08:38:23.362Z"
   },
   {
    "duration": 16,
    "start_time": "2022-01-23T08:38:23.391Z"
   },
   {
    "duration": 14,
    "start_time": "2022-01-23T08:38:23.409Z"
   },
   {
    "duration": 55,
    "start_time": "2022-01-23T08:38:23.425Z"
   },
   {
    "duration": 85,
    "start_time": "2022-01-23T08:38:23.483Z"
   },
   {
    "duration": 41,
    "start_time": "2022-01-23T08:38:23.570Z"
   },
   {
    "duration": 107,
    "start_time": "2022-01-23T08:38:23.661Z"
   },
   {
    "duration": 34,
    "start_time": "2022-01-23T08:38:23.771Z"
   },
   {
    "duration": 108,
    "start_time": "2022-01-23T08:38:23.862Z"
   },
   {
    "duration": 9,
    "start_time": "2022-01-23T08:38:23.972Z"
   },
   {
    "duration": 7,
    "start_time": "2022-01-23T08:38:23.982Z"
   },
   {
    "duration": 9,
    "start_time": "2022-01-23T08:38:23.990Z"
   },
   {
    "duration": 6,
    "start_time": "2022-01-23T08:38:24.000Z"
   },
   {
    "duration": 9,
    "start_time": "2022-01-23T08:38:24.008Z"
   },
   {
    "duration": 43,
    "start_time": "2022-01-23T08:38:24.019Z"
   },
   {
    "duration": 11,
    "start_time": "2022-01-23T08:38:24.065Z"
   },
   {
    "duration": 15,
    "start_time": "2022-01-23T08:38:24.079Z"
   },
   {
    "duration": 6,
    "start_time": "2022-01-23T08:38:24.096Z"
   },
   {
    "duration": 19,
    "start_time": "2022-01-23T08:38:24.104Z"
   },
   {
    "duration": 4,
    "start_time": "2022-01-23T08:38:58.813Z"
   },
   {
    "duration": 433,
    "start_time": "2022-01-23T08:38:58.819Z"
   },
   {
    "duration": 13,
    "start_time": "2022-01-23T08:38:59.255Z"
   },
   {
    "duration": 14,
    "start_time": "2022-01-23T08:38:59.270Z"
   },
   {
    "duration": 17,
    "start_time": "2022-01-23T08:38:59.286Z"
   },
   {
    "duration": 7,
    "start_time": "2022-01-23T08:38:59.305Z"
   },
   {
    "duration": 12,
    "start_time": "2022-01-23T08:38:59.314Z"
   },
   {
    "duration": 41,
    "start_time": "2022-01-23T08:38:59.329Z"
   },
   {
    "duration": 91,
    "start_time": "2022-01-23T08:38:59.374Z"
   },
   {
    "duration": 70,
    "start_time": "2022-01-23T08:38:59.468Z"
   },
   {
    "duration": 19,
    "start_time": "2022-01-23T08:38:59.541Z"
   },
   {
    "duration": 63,
    "start_time": "2022-01-23T08:38:59.563Z"
   },
   {
    "duration": 54,
    "start_time": "2022-01-23T08:38:59.628Z"
   },
   {
    "duration": 15,
    "start_time": "2022-01-23T08:38:59.684Z"
   },
   {
    "duration": 15,
    "start_time": "2022-01-23T08:38:59.701Z"
   },
   {
    "duration": 45,
    "start_time": "2022-01-23T08:38:59.718Z"
   },
   {
    "duration": 16,
    "start_time": "2022-01-23T08:38:59.765Z"
   },
   {
    "duration": 41,
    "start_time": "2022-01-23T08:38:59.783Z"
   },
   {
    "duration": 24,
    "start_time": "2022-01-23T08:38:59.825Z"
   },
   {
    "duration": 47,
    "start_time": "2022-01-23T08:38:59.851Z"
   },
   {
    "duration": 37,
    "start_time": "2022-01-23T08:38:59.900Z"
   },
   {
    "duration": 52,
    "start_time": "2022-01-23T08:38:59.939Z"
   },
   {
    "duration": 47,
    "start_time": "2022-01-23T08:38:59.994Z"
   },
   {
    "duration": 63,
    "start_time": "2022-01-23T08:39:00.044Z"
   },
   {
    "duration": 48,
    "start_time": "2022-01-23T08:39:00.109Z"
   },
   {
    "duration": 99,
    "start_time": "2022-01-23T08:39:00.158Z"
   },
   {
    "duration": 112,
    "start_time": "2022-01-23T08:39:00.260Z"
   },
   {
    "duration": 40,
    "start_time": "2022-01-23T08:39:00.374Z"
   },
   {
    "duration": 76,
    "start_time": "2022-01-23T08:39:00.416Z"
   },
   {
    "duration": 73,
    "start_time": "2022-01-23T08:39:00.494Z"
   },
   {
    "duration": 40,
    "start_time": "2022-01-23T08:39:00.569Z"
   },
   {
    "duration": 57,
    "start_time": "2022-01-23T08:39:00.611Z"
   },
   {
    "duration": 98,
    "start_time": "2022-01-23T08:39:00.671Z"
   },
   {
    "duration": 90,
    "start_time": "2022-01-23T08:39:00.775Z"
   },
   {
    "duration": 147,
    "start_time": "2022-01-23T08:39:00.868Z"
   },
   {
    "duration": 143,
    "start_time": "2022-01-23T08:39:01.017Z"
   },
   {
    "duration": 120,
    "start_time": "2022-01-23T08:39:01.165Z"
   },
   {
    "duration": 39,
    "start_time": "2022-01-23T08:39:01.286Z"
   },
   {
    "duration": 44,
    "start_time": "2022-01-23T08:39:01.326Z"
   },
   {
    "duration": 55,
    "start_time": "2022-01-23T08:39:01.373Z"
   },
   {
    "duration": 41,
    "start_time": "2022-01-23T08:39:01.430Z"
   },
   {
    "duration": 40,
    "start_time": "2022-01-23T08:39:01.474Z"
   },
   {
    "duration": 58,
    "start_time": "2022-01-23T08:39:01.516Z"
   },
   {
    "duration": 33,
    "start_time": "2022-01-23T08:39:01.576Z"
   },
   {
    "duration": 30,
    "start_time": "2022-01-23T08:39:01.611Z"
   },
   {
    "duration": 19,
    "start_time": "2022-01-23T08:39:01.644Z"
   },
   {
    "duration": 74,
    "start_time": "2022-01-23T08:39:01.666Z"
   },
   {
    "duration": 5,
    "start_time": "2022-01-23T08:41:45.733Z"
   },
   {
    "duration": 5,
    "start_time": "2022-01-23T08:42:00.197Z"
   },
   {
    "duration": 7,
    "start_time": "2022-01-23T08:42:24.003Z"
   },
   {
    "duration": 3,
    "start_time": "2022-01-23T08:42:38.596Z"
   },
   {
    "duration": 414,
    "start_time": "2022-01-23T08:42:38.601Z"
   },
   {
    "duration": 10,
    "start_time": "2022-01-23T08:42:39.018Z"
   },
   {
    "duration": 9,
    "start_time": "2022-01-23T08:42:39.030Z"
   },
   {
    "duration": 31,
    "start_time": "2022-01-23T08:42:39.041Z"
   },
   {
    "duration": 9,
    "start_time": "2022-01-23T08:42:39.078Z"
   },
   {
    "duration": 16,
    "start_time": "2022-01-23T08:42:39.089Z"
   },
   {
    "duration": 9,
    "start_time": "2022-01-23T08:42:39.106Z"
   },
   {
    "duration": 78,
    "start_time": "2022-01-23T08:42:39.118Z"
   },
   {
    "duration": 71,
    "start_time": "2022-01-23T08:42:39.198Z"
   },
   {
    "duration": 17,
    "start_time": "2022-01-23T08:42:39.272Z"
   },
   {
    "duration": 40,
    "start_time": "2022-01-23T08:42:39.290Z"
   },
   {
    "duration": 71,
    "start_time": "2022-01-23T08:42:39.332Z"
   },
   {
    "duration": 14,
    "start_time": "2022-01-23T08:42:39.405Z"
   },
   {
    "duration": 14,
    "start_time": "2022-01-23T08:42:39.421Z"
   },
   {
    "duration": 35,
    "start_time": "2022-01-23T08:42:39.437Z"
   },
   {
    "duration": 14,
    "start_time": "2022-01-23T08:42:39.474Z"
   },
   {
    "duration": 15,
    "start_time": "2022-01-23T08:42:39.490Z"
   },
   {
    "duration": 16,
    "start_time": "2022-01-23T08:42:39.507Z"
   },
   {
    "duration": 17,
    "start_time": "2022-01-23T08:42:39.561Z"
   },
   {
    "duration": 15,
    "start_time": "2022-01-23T08:42:39.580Z"
   },
   {
    "duration": 15,
    "start_time": "2022-01-23T08:42:39.597Z"
   },
   {
    "duration": 7,
    "start_time": "2022-01-23T08:42:39.614Z"
   },
   {
    "duration": 7,
    "start_time": "2022-01-23T08:42:39.623Z"
   },
   {
    "duration": 12,
    "start_time": "2022-01-23T08:42:39.662Z"
   },
   {
    "duration": 23,
    "start_time": "2022-01-23T08:42:39.677Z"
   },
   {
    "duration": 13,
    "start_time": "2022-01-23T08:42:39.703Z"
   },
   {
    "duration": 13,
    "start_time": "2022-01-23T08:42:39.718Z"
   },
   {
    "duration": 49,
    "start_time": "2022-01-23T08:42:39.733Z"
   },
   {
    "duration": 15,
    "start_time": "2022-01-23T08:42:39.784Z"
   },
   {
    "duration": 15,
    "start_time": "2022-01-23T08:42:39.801Z"
   },
   {
    "duration": 48,
    "start_time": "2022-01-23T08:42:39.818Z"
   },
   {
    "duration": 105,
    "start_time": "2022-01-23T08:42:39.870Z"
   },
   {
    "duration": 96,
    "start_time": "2022-01-23T08:42:39.978Z"
   },
   {
    "duration": 114,
    "start_time": "2022-01-23T08:42:40.077Z"
   },
   {
    "duration": 33,
    "start_time": "2022-01-23T08:42:40.193Z"
   },
   {
    "duration": 117,
    "start_time": "2022-01-23T08:42:40.260Z"
   },
   {
    "duration": 6,
    "start_time": "2022-01-23T08:42:40.380Z"
   },
   {
    "duration": 10,
    "start_time": "2022-01-23T08:42:40.388Z"
   },
   {
    "duration": 11,
    "start_time": "2022-01-23T08:42:40.400Z"
   },
   {
    "duration": 7,
    "start_time": "2022-01-23T08:42:40.413Z"
   },
   {
    "duration": 10,
    "start_time": "2022-01-23T08:42:40.422Z"
   },
   {
    "duration": 27,
    "start_time": "2022-01-23T08:42:40.434Z"
   },
   {
    "duration": 9,
    "start_time": "2022-01-23T08:42:40.463Z"
   },
   {
    "duration": 13,
    "start_time": "2022-01-23T08:42:40.475Z"
   },
   {
    "duration": 22,
    "start_time": "2022-01-23T08:42:40.490Z"
   },
   {
    "duration": 7,
    "start_time": "2022-01-23T08:42:40.514Z"
   },
   {
    "duration": 20,
    "start_time": "2022-01-23T08:42:40.523Z"
   },
   {
    "duration": 26,
    "start_time": "2022-01-23T08:42:40.545Z"
   },
   {
    "duration": 3,
    "start_time": "2022-01-23T08:43:36.549Z"
   },
   {
    "duration": 496,
    "start_time": "2022-01-23T08:43:36.554Z"
   },
   {
    "duration": 22,
    "start_time": "2022-01-23T08:43:37.052Z"
   },
   {
    "duration": 22,
    "start_time": "2022-01-23T08:43:37.077Z"
   },
   {
    "duration": 33,
    "start_time": "2022-01-23T08:43:37.101Z"
   },
   {
    "duration": 26,
    "start_time": "2022-01-23T08:43:37.138Z"
   },
   {
    "duration": 54,
    "start_time": "2022-01-23T08:43:37.166Z"
   },
   {
    "duration": 15,
    "start_time": "2022-01-23T08:43:37.222Z"
   },
   {
    "duration": 76,
    "start_time": "2022-01-23T08:43:37.241Z"
   },
   {
    "duration": 67,
    "start_time": "2022-01-23T08:43:37.320Z"
   },
   {
    "duration": 28,
    "start_time": "2022-01-23T08:43:37.389Z"
   },
   {
    "duration": 71,
    "start_time": "2022-01-23T08:43:37.419Z"
   },
   {
    "duration": 43,
    "start_time": "2022-01-23T08:43:37.492Z"
   },
   {
    "duration": 27,
    "start_time": "2022-01-23T08:43:37.536Z"
   },
   {
    "duration": 23,
    "start_time": "2022-01-23T08:43:37.565Z"
   },
   {
    "duration": 21,
    "start_time": "2022-01-23T08:43:37.591Z"
   },
   {
    "duration": 33,
    "start_time": "2022-01-23T08:43:37.614Z"
   },
   {
    "duration": 13,
    "start_time": "2022-01-23T08:43:37.649Z"
   },
   {
    "duration": 16,
    "start_time": "2022-01-23T08:43:37.667Z"
   },
   {
    "duration": 11,
    "start_time": "2022-01-23T08:43:37.685Z"
   },
   {
    "duration": 12,
    "start_time": "2022-01-23T08:43:37.698Z"
   },
   {
    "duration": 17,
    "start_time": "2022-01-23T08:43:37.712Z"
   },
   {
    "duration": 30,
    "start_time": "2022-01-23T08:43:37.731Z"
   },
   {
    "duration": 13,
    "start_time": "2022-01-23T08:43:37.764Z"
   },
   {
    "duration": 11,
    "start_time": "2022-01-23T08:43:37.779Z"
   },
   {
    "duration": 15,
    "start_time": "2022-01-23T08:43:37.792Z"
   },
   {
    "duration": 13,
    "start_time": "2022-01-23T08:43:37.810Z"
   },
   {
    "duration": 12,
    "start_time": "2022-01-23T08:43:37.825Z"
   },
   {
    "duration": 51,
    "start_time": "2022-01-23T08:43:37.838Z"
   },
   {
    "duration": 16,
    "start_time": "2022-01-23T08:43:37.891Z"
   },
   {
    "duration": 16,
    "start_time": "2022-01-23T08:43:37.908Z"
   },
   {
    "duration": 40,
    "start_time": "2022-01-23T08:43:37.926Z"
   },
   {
    "duration": 99,
    "start_time": "2022-01-23T08:43:37.968Z"
   },
   {
    "duration": 105,
    "start_time": "2022-01-23T08:43:38.069Z"
   },
   {
    "duration": 106,
    "start_time": "2022-01-23T08:43:38.176Z"
   },
   {
    "duration": 14,
    "start_time": "2022-01-23T08:43:38.284Z"
   },
   {
    "duration": 14,
    "start_time": "2022-01-23T08:43:38.368Z"
   },
   {
    "duration": 84,
    "start_time": "2022-01-23T08:43:38.385Z"
   },
   {
    "duration": 13,
    "start_time": "2022-01-23T08:43:38.473Z"
   },
   {
    "duration": 9,
    "start_time": "2022-01-23T08:43:38.488Z"
   },
   {
    "duration": 5,
    "start_time": "2022-01-23T08:43:38.498Z"
   },
   {
    "duration": 10,
    "start_time": "2022-01-23T08:43:38.504Z"
   },
   {
    "duration": 7,
    "start_time": "2022-01-23T08:43:38.515Z"
   },
   {
    "duration": 6,
    "start_time": "2022-01-23T08:43:38.524Z"
   },
   {
    "duration": 3,
    "start_time": "2022-01-23T08:43:38.561Z"
   },
   {
    "duration": 14,
    "start_time": "2022-01-23T08:43:38.567Z"
   },
   {
    "duration": 4,
    "start_time": "2022-01-23T08:43:38.584Z"
   },
   {
    "duration": 15,
    "start_time": "2022-01-23T08:43:38.589Z"
   },
   {
    "duration": 3,
    "start_time": "2022-01-23T08:43:56.577Z"
   },
   {
    "duration": 433,
    "start_time": "2022-01-23T08:43:56.582Z"
   },
   {
    "duration": 10,
    "start_time": "2022-01-23T08:43:57.017Z"
   },
   {
    "duration": 12,
    "start_time": "2022-01-23T08:43:57.029Z"
   },
   {
    "duration": 33,
    "start_time": "2022-01-23T08:43:57.042Z"
   },
   {
    "duration": 14,
    "start_time": "2022-01-23T08:43:57.077Z"
   },
   {
    "duration": 26,
    "start_time": "2022-01-23T08:43:57.092Z"
   },
   {
    "duration": 15,
    "start_time": "2022-01-23T08:43:57.119Z"
   },
   {
    "duration": 58,
    "start_time": "2022-01-23T08:43:57.137Z"
   },
   {
    "duration": 52,
    "start_time": "2022-01-23T08:43:57.198Z"
   },
   {
    "duration": 22,
    "start_time": "2022-01-23T08:43:57.261Z"
   },
   {
    "duration": 64,
    "start_time": "2022-01-23T08:43:57.284Z"
   },
   {
    "duration": 45,
    "start_time": "2022-01-23T08:43:57.350Z"
   },
   {
    "duration": 14,
    "start_time": "2022-01-23T08:43:57.397Z"
   },
   {
    "duration": 22,
    "start_time": "2022-01-23T08:43:57.412Z"
   },
   {
    "duration": 32,
    "start_time": "2022-01-23T08:43:57.436Z"
   },
   {
    "duration": 17,
    "start_time": "2022-01-23T08:43:57.471Z"
   },
   {
    "duration": 11,
    "start_time": "2022-01-23T08:43:57.490Z"
   },
   {
    "duration": 30,
    "start_time": "2022-01-23T08:43:57.503Z"
   },
   {
    "duration": 38,
    "start_time": "2022-01-23T08:43:57.535Z"
   },
   {
    "duration": 30,
    "start_time": "2022-01-23T08:43:57.575Z"
   },
   {
    "duration": 47,
    "start_time": "2022-01-23T08:43:57.607Z"
   },
   {
    "duration": 22,
    "start_time": "2022-01-23T08:43:57.656Z"
   },
   {
    "duration": 22,
    "start_time": "2022-01-23T08:43:57.680Z"
   },
   {
    "duration": 22,
    "start_time": "2022-01-23T08:43:57.704Z"
   },
   {
    "duration": 25,
    "start_time": "2022-01-23T08:43:57.728Z"
   },
   {
    "duration": 29,
    "start_time": "2022-01-23T08:43:57.756Z"
   },
   {
    "duration": 27,
    "start_time": "2022-01-23T08:43:57.787Z"
   },
   {
    "duration": 21,
    "start_time": "2022-01-23T08:43:57.816Z"
   },
   {
    "duration": 13,
    "start_time": "2022-01-23T08:43:57.839Z"
   },
   {
    "duration": 21,
    "start_time": "2022-01-23T08:43:57.854Z"
   },
   {
    "duration": 86,
    "start_time": "2022-01-23T08:43:57.877Z"
   },
   {
    "duration": 8,
    "start_time": "2022-01-23T08:43:57.965Z"
   },
   {
    "duration": 118,
    "start_time": "2022-01-23T08:43:57.975Z"
   },
   {
    "duration": 78,
    "start_time": "2022-01-23T08:43:58.096Z"
   },
   {
    "duration": 183,
    "start_time": "2022-01-23T08:43:58.180Z"
   },
   {
    "duration": 101,
    "start_time": "2022-01-23T08:43:58.366Z"
   },
   {
    "duration": 32,
    "start_time": "2022-01-23T08:43:58.469Z"
   },
   {
    "duration": 49,
    "start_time": "2022-01-23T08:43:58.503Z"
   },
   {
    "duration": 70,
    "start_time": "2022-01-23T08:43:58.554Z"
   },
   {
    "duration": 29,
    "start_time": "2022-01-23T08:43:58.626Z"
   },
   {
    "duration": 52,
    "start_time": "2022-01-23T08:43:58.657Z"
   },
   {
    "duration": 39,
    "start_time": "2022-01-23T08:43:58.710Z"
   },
   {
    "duration": 46,
    "start_time": "2022-01-23T08:43:58.751Z"
   },
   {
    "duration": 13,
    "start_time": "2022-01-23T08:43:58.799Z"
   },
   {
    "duration": 27,
    "start_time": "2022-01-23T08:43:58.814Z"
   },
   {
    "duration": 11,
    "start_time": "2022-01-23T08:43:58.843Z"
   },
   {
    "duration": 40,
    "start_time": "2022-01-23T08:43:58.855Z"
   },
   {
    "duration": 3,
    "start_time": "2022-01-23T08:45:01.106Z"
   },
   {
    "duration": 5,
    "start_time": "2022-01-23T08:45:03.752Z"
   },
   {
    "duration": 425,
    "start_time": "2022-01-23T08:45:03.759Z"
   },
   {
    "duration": 12,
    "start_time": "2022-01-23T08:45:04.187Z"
   },
   {
    "duration": 31,
    "start_time": "2022-01-23T08:45:04.201Z"
   },
   {
    "duration": 28,
    "start_time": "2022-01-23T08:45:04.234Z"
   },
   {
    "duration": 24,
    "start_time": "2022-01-23T08:45:04.265Z"
   },
   {
    "duration": 35,
    "start_time": "2022-01-23T08:45:04.291Z"
   },
   {
    "duration": 11,
    "start_time": "2022-01-23T08:45:04.329Z"
   },
   {
    "duration": 74,
    "start_time": "2022-01-23T08:45:04.343Z"
   },
   {
    "duration": 103,
    "start_time": "2022-01-23T08:45:04.420Z"
   },
   {
    "duration": 22,
    "start_time": "2022-01-23T08:45:04.525Z"
   },
   {
    "duration": 71,
    "start_time": "2022-01-23T08:45:04.548Z"
   },
   {
    "duration": 76,
    "start_time": "2022-01-23T08:45:04.621Z"
   },
   {
    "duration": 18,
    "start_time": "2022-01-23T08:45:04.699Z"
   },
   {
    "duration": 19,
    "start_time": "2022-01-23T08:45:04.719Z"
   },
   {
    "duration": 38,
    "start_time": "2022-01-23T08:45:04.740Z"
   },
   {
    "duration": 30,
    "start_time": "2022-01-23T08:45:04.780Z"
   },
   {
    "duration": 22,
    "start_time": "2022-01-23T08:45:04.812Z"
   },
   {
    "duration": 45,
    "start_time": "2022-01-23T08:45:04.836Z"
   },
   {
    "duration": 29,
    "start_time": "2022-01-23T08:45:04.884Z"
   },
   {
    "duration": 34,
    "start_time": "2022-01-23T08:45:04.915Z"
   },
   {
    "duration": 40,
    "start_time": "2022-01-23T08:45:04.950Z"
   },
   {
    "duration": 166,
    "start_time": "2022-01-23T08:45:04.991Z"
   },
   {
    "duration": 131,
    "start_time": "2022-01-23T08:45:05.161Z"
   },
   {
    "duration": 72,
    "start_time": "2022-01-23T08:45:05.295Z"
   },
   {
    "duration": 201,
    "start_time": "2022-01-23T08:45:05.369Z"
   },
   {
    "duration": 123,
    "start_time": "2022-01-23T08:45:05.576Z"
   },
   {
    "duration": 90,
    "start_time": "2022-01-23T08:45:05.702Z"
   },
   {
    "duration": 38,
    "start_time": "2022-01-23T08:45:05.794Z"
   },
   {
    "duration": 23,
    "start_time": "2022-01-23T08:45:05.834Z"
   },
   {
    "duration": 51,
    "start_time": "2022-01-23T08:45:05.859Z"
   },
   {
    "duration": 17,
    "start_time": "2022-01-23T08:45:05.912Z"
   },
   {
    "duration": 137,
    "start_time": "2022-01-23T08:45:05.931Z"
   },
   {
    "duration": 102,
    "start_time": "2022-01-23T08:45:06.071Z"
   },
   {
    "duration": 90,
    "start_time": "2022-01-23T08:45:06.177Z"
   },
   {
    "duration": 98,
    "start_time": "2022-01-23T08:45:06.270Z"
   },
   {
    "duration": 94,
    "start_time": "2022-01-23T08:45:06.372Z"
   },
   {
    "duration": 31,
    "start_time": "2022-01-23T08:45:06.467Z"
   },
   {
    "duration": 38,
    "start_time": "2022-01-23T08:45:06.500Z"
   },
   {
    "duration": 24,
    "start_time": "2022-01-23T08:45:06.540Z"
   },
   {
    "duration": 47,
    "start_time": "2022-01-23T08:45:06.566Z"
   },
   {
    "duration": 28,
    "start_time": "2022-01-23T08:45:06.616Z"
   },
   {
    "duration": 39,
    "start_time": "2022-01-23T08:45:06.646Z"
   },
   {
    "duration": 9,
    "start_time": "2022-01-23T08:45:06.688Z"
   },
   {
    "duration": 22,
    "start_time": "2022-01-23T08:45:06.698Z"
   },
   {
    "duration": 381,
    "start_time": "2022-01-23T08:45:06.722Z"
   },
   {
    "duration": -784,
    "start_time": "2022-01-23T08:45:07.889Z"
   },
   {
    "duration": -784,
    "start_time": "2022-01-23T08:45:07.890Z"
   },
   {
    "duration": 3,
    "start_time": "2022-01-23T08:46:51.177Z"
   },
   {
    "duration": 408,
    "start_time": "2022-01-23T08:46:51.182Z"
   },
   {
    "duration": 10,
    "start_time": "2022-01-23T08:46:51.592Z"
   },
   {
    "duration": 12,
    "start_time": "2022-01-23T08:46:51.604Z"
   },
   {
    "duration": 18,
    "start_time": "2022-01-23T08:46:51.618Z"
   },
   {
    "duration": 24,
    "start_time": "2022-01-23T08:46:51.638Z"
   },
   {
    "duration": 16,
    "start_time": "2022-01-23T08:46:51.664Z"
   },
   {
    "duration": 15,
    "start_time": "2022-01-23T08:46:51.684Z"
   },
   {
    "duration": 68,
    "start_time": "2022-01-23T08:46:51.702Z"
   },
   {
    "duration": 60,
    "start_time": "2022-01-23T08:46:51.772Z"
   },
   {
    "duration": 30,
    "start_time": "2022-01-23T08:46:51.834Z"
   },
   {
    "duration": 53,
    "start_time": "2022-01-23T08:46:51.867Z"
   },
   {
    "duration": 77,
    "start_time": "2022-01-23T08:46:51.922Z"
   },
   {
    "duration": 16,
    "start_time": "2022-01-23T08:46:52.001Z"
   },
   {
    "duration": 16,
    "start_time": "2022-01-23T08:46:52.019Z"
   },
   {
    "duration": 48,
    "start_time": "2022-01-23T08:46:52.037Z"
   },
   {
    "duration": 12,
    "start_time": "2022-01-23T08:46:52.087Z"
   },
   {
    "duration": 12,
    "start_time": "2022-01-23T08:46:52.101Z"
   },
   {
    "duration": 15,
    "start_time": "2022-01-23T08:46:52.115Z"
   },
   {
    "duration": 43,
    "start_time": "2022-01-23T08:46:52.132Z"
   },
   {
    "duration": 16,
    "start_time": "2022-01-23T08:46:52.177Z"
   },
   {
    "duration": 14,
    "start_time": "2022-01-23T08:46:52.195Z"
   },
   {
    "duration": 8,
    "start_time": "2022-01-23T08:46:52.212Z"
   },
   {
    "duration": 10,
    "start_time": "2022-01-23T08:46:52.221Z"
   },
   {
    "duration": 29,
    "start_time": "2022-01-23T08:46:52.232Z"
   },
   {
    "duration": 22,
    "start_time": "2022-01-23T08:46:52.265Z"
   },
   {
    "duration": 12,
    "start_time": "2022-01-23T08:46:52.289Z"
   },
   {
    "duration": 13,
    "start_time": "2022-01-23T08:46:52.303Z"
   },
   {
    "duration": 46,
    "start_time": "2022-01-23T08:46:52.318Z"
   },
   {
    "duration": 21,
    "start_time": "2022-01-23T08:46:52.366Z"
   },
   {
    "duration": 14,
    "start_time": "2022-01-23T08:46:52.389Z"
   },
   {
    "duration": 66,
    "start_time": "2022-01-23T08:46:52.405Z"
   },
   {
    "duration": 98,
    "start_time": "2022-01-23T08:46:52.474Z"
   },
   {
    "duration": 19,
    "start_time": "2022-01-23T08:46:52.574Z"
   },
   {
    "duration": 78,
    "start_time": "2022-01-23T08:46:52.596Z"
   },
   {
    "duration": 117,
    "start_time": "2022-01-23T08:46:52.676Z"
   },
   {
    "duration": 13,
    "start_time": "2022-01-23T08:46:52.865Z"
   },
   {
    "duration": 94,
    "start_time": "2022-01-23T08:46:52.881Z"
   },
   {
    "duration": 12,
    "start_time": "2022-01-23T08:46:52.977Z"
   },
   {
    "duration": 7,
    "start_time": "2022-01-23T08:46:52.990Z"
   },
   {
    "duration": 6,
    "start_time": "2022-01-23T08:46:52.999Z"
   },
   {
    "duration": 9,
    "start_time": "2022-01-23T08:46:53.007Z"
   },
   {
    "duration": 10,
    "start_time": "2022-01-23T08:46:53.018Z"
   },
   {
    "duration": 42,
    "start_time": "2022-01-23T08:46:53.030Z"
   },
   {
    "duration": 5,
    "start_time": "2022-01-23T08:46:53.075Z"
   },
   {
    "duration": 263,
    "start_time": "2022-01-23T08:46:53.083Z"
   },
   {
    "duration": -785,
    "start_time": "2022-01-23T08:46:54.133Z"
   },
   {
    "duration": -786,
    "start_time": "2022-01-23T08:46:54.135Z"
   },
   {
    "duration": 4,
    "start_time": "2022-01-23T08:47:04.353Z"
   },
   {
    "duration": 24,
    "start_time": "2022-01-23T08:47:06.068Z"
   },
   {
    "duration": 533,
    "start_time": "2022-01-23T08:47:07.287Z"
   },
   {
    "duration": 8,
    "start_time": "2022-01-23T08:47:26.114Z"
   },
   {
    "duration": 247,
    "start_time": "2022-01-23T08:47:38.506Z"
   },
   {
    "duration": 3,
    "start_time": "2022-01-23T08:47:44.921Z"
   },
   {
    "duration": 390,
    "start_time": "2022-01-23T08:47:44.926Z"
   },
   {
    "duration": 10,
    "start_time": "2022-01-23T08:47:45.318Z"
   },
   {
    "duration": 22,
    "start_time": "2022-01-23T08:47:45.330Z"
   },
   {
    "duration": 39,
    "start_time": "2022-01-23T08:47:45.353Z"
   },
   {
    "duration": 13,
    "start_time": "2022-01-23T08:47:45.393Z"
   },
   {
    "duration": 29,
    "start_time": "2022-01-23T08:47:45.407Z"
   },
   {
    "duration": 33,
    "start_time": "2022-01-23T08:47:45.437Z"
   },
   {
    "duration": 54,
    "start_time": "2022-01-23T08:47:45.473Z"
   },
   {
    "duration": 54,
    "start_time": "2022-01-23T08:47:45.529Z"
   },
   {
    "duration": 16,
    "start_time": "2022-01-23T08:47:45.585Z"
   },
   {
    "duration": 61,
    "start_time": "2022-01-23T08:47:45.603Z"
   },
   {
    "duration": 40,
    "start_time": "2022-01-23T08:47:45.665Z"
   },
   {
    "duration": 13,
    "start_time": "2022-01-23T08:47:45.707Z"
   },
   {
    "duration": 40,
    "start_time": "2022-01-23T08:47:45.722Z"
   },
   {
    "duration": 16,
    "start_time": "2022-01-23T08:47:45.764Z"
   },
   {
    "duration": 12,
    "start_time": "2022-01-23T08:47:45.782Z"
   },
   {
    "duration": 12,
    "start_time": "2022-01-23T08:47:45.796Z"
   },
   {
    "duration": 12,
    "start_time": "2022-01-23T08:47:45.810Z"
   },
   {
    "duration": 13,
    "start_time": "2022-01-23T08:47:45.861Z"
   },
   {
    "duration": 12,
    "start_time": "2022-01-23T08:47:45.877Z"
   },
   {
    "duration": 16,
    "start_time": "2022-01-23T08:47:45.891Z"
   },
   {
    "duration": 8,
    "start_time": "2022-01-23T08:47:45.909Z"
   },
   {
    "duration": 8,
    "start_time": "2022-01-23T08:47:45.919Z"
   },
   {
    "duration": 35,
    "start_time": "2022-01-23T08:47:45.929Z"
   },
   {
    "duration": 16,
    "start_time": "2022-01-23T08:47:45.966Z"
   },
   {
    "duration": 12,
    "start_time": "2022-01-23T08:47:45.986Z"
   },
   {
    "duration": 13,
    "start_time": "2022-01-23T08:47:46.000Z"
   },
   {
    "duration": 52,
    "start_time": "2022-01-23T08:47:46.015Z"
   },
   {
    "duration": 15,
    "start_time": "2022-01-23T08:47:46.069Z"
   },
   {
    "duration": 14,
    "start_time": "2022-01-23T08:47:46.085Z"
   },
   {
    "duration": 66,
    "start_time": "2022-01-23T08:47:46.101Z"
   },
   {
    "duration": 97,
    "start_time": "2022-01-23T08:47:46.169Z"
   },
   {
    "duration": 20,
    "start_time": "2022-01-23T08:47:46.268Z"
   },
   {
    "duration": 78,
    "start_time": "2022-01-23T08:47:46.290Z"
   },
   {
    "duration": 106,
    "start_time": "2022-01-23T08:47:46.370Z"
   },
   {
    "duration": 183,
    "start_time": "2022-01-23T08:47:46.479Z"
   },
   {
    "duration": 5,
    "start_time": "2022-01-23T08:47:46.664Z"
   },
   {
    "duration": 5,
    "start_time": "2022-01-23T08:47:46.671Z"
   },
   {
    "duration": 6,
    "start_time": "2022-01-23T08:47:46.678Z"
   },
   {
    "duration": 11,
    "start_time": "2022-01-23T08:47:46.685Z"
   },
   {
    "duration": 11,
    "start_time": "2022-01-23T08:47:46.698Z"
   },
   {
    "duration": 8,
    "start_time": "2022-01-23T08:47:46.711Z"
   },
   {
    "duration": 8,
    "start_time": "2022-01-23T08:47:46.720Z"
   },
   {
    "duration": 9,
    "start_time": "2022-01-23T08:47:46.761Z"
   },
   {
    "duration": 12,
    "start_time": "2022-01-23T08:47:46.772Z"
   },
   {
    "duration": 4,
    "start_time": "2022-01-23T08:47:46.786Z"
   },
   {
    "duration": 500,
    "start_time": "2022-01-23T08:47:46.791Z"
   },
   {
    "duration": 3,
    "start_time": "2022-01-23T08:49:25.317Z"
   },
   {
    "duration": 393,
    "start_time": "2022-01-23T08:49:25.322Z"
   },
   {
    "duration": 10,
    "start_time": "2022-01-23T08:49:25.717Z"
   },
   {
    "duration": 21,
    "start_time": "2022-01-23T08:49:25.729Z"
   },
   {
    "duration": 25,
    "start_time": "2022-01-23T08:49:25.751Z"
   },
   {
    "duration": 19,
    "start_time": "2022-01-23T08:49:25.777Z"
   },
   {
    "duration": 18,
    "start_time": "2022-01-23T08:49:25.798Z"
   },
   {
    "duration": 24,
    "start_time": "2022-01-23T08:49:25.818Z"
   },
   {
    "duration": 66,
    "start_time": "2022-01-23T08:49:25.845Z"
   },
   {
    "duration": 54,
    "start_time": "2022-01-23T08:49:25.914Z"
   },
   {
    "duration": 32,
    "start_time": "2022-01-23T08:49:25.970Z"
   },
   {
    "duration": 50,
    "start_time": "2022-01-23T08:49:26.003Z"
   },
   {
    "duration": 35,
    "start_time": "2022-01-23T08:49:26.055Z"
   },
   {
    "duration": 11,
    "start_time": "2022-01-23T08:49:26.091Z"
   },
   {
    "duration": 19,
    "start_time": "2022-01-23T08:49:26.104Z"
   },
   {
    "duration": 27,
    "start_time": "2022-01-23T08:49:26.125Z"
   },
   {
    "duration": 13,
    "start_time": "2022-01-23T08:49:26.154Z"
   },
   {
    "duration": 26,
    "start_time": "2022-01-23T08:49:26.169Z"
   },
   {
    "duration": 28,
    "start_time": "2022-01-23T08:49:26.196Z"
   },
   {
    "duration": 15,
    "start_time": "2022-01-23T08:49:26.226Z"
   },
   {
    "duration": 34,
    "start_time": "2022-01-23T08:49:26.243Z"
   },
   {
    "duration": 48,
    "start_time": "2022-01-23T08:49:26.278Z"
   },
   {
    "duration": 22,
    "start_time": "2022-01-23T08:49:26.327Z"
   },
   {
    "duration": 16,
    "start_time": "2022-01-23T08:49:26.351Z"
   },
   {
    "duration": 28,
    "start_time": "2022-01-23T08:49:26.369Z"
   },
   {
    "duration": 32,
    "start_time": "2022-01-23T08:49:26.399Z"
   },
   {
    "duration": 14,
    "start_time": "2022-01-23T08:49:26.434Z"
   },
   {
    "duration": 19,
    "start_time": "2022-01-23T08:49:26.450Z"
   },
   {
    "duration": 38,
    "start_time": "2022-01-23T08:49:26.471Z"
   },
   {
    "duration": 21,
    "start_time": "2022-01-23T08:49:26.510Z"
   },
   {
    "duration": 16,
    "start_time": "2022-01-23T08:49:26.533Z"
   },
   {
    "duration": 40,
    "start_time": "2022-01-23T08:49:26.550Z"
   },
   {
    "duration": 76,
    "start_time": "2022-01-23T08:49:26.593Z"
   },
   {
    "duration": 109,
    "start_time": "2022-01-23T08:49:26.670Z"
   },
   {
    "duration": 187,
    "start_time": "2022-01-23T08:49:26.782Z"
   },
   {
    "duration": 31,
    "start_time": "2022-01-23T08:49:26.971Z"
   },
   {
    "duration": 161,
    "start_time": "2022-01-23T08:49:27.004Z"
   },
   {
    "duration": 31,
    "start_time": "2022-01-23T08:49:27.167Z"
   },
   {
    "duration": 29,
    "start_time": "2022-01-23T08:49:27.199Z"
   },
   {
    "duration": 13,
    "start_time": "2022-01-23T08:49:27.229Z"
   },
   {
    "duration": 23,
    "start_time": "2022-01-23T08:49:27.244Z"
   },
   {
    "duration": 27,
    "start_time": "2022-01-23T08:49:27.268Z"
   },
   {
    "duration": 13,
    "start_time": "2022-01-23T08:49:27.296Z"
   },
   {
    "duration": 17,
    "start_time": "2022-01-23T08:49:27.311Z"
   },
   {
    "duration": 21,
    "start_time": "2022-01-23T08:49:27.330Z"
   },
   {
    "duration": 23,
    "start_time": "2022-01-23T08:49:27.353Z"
   },
   {
    "duration": 19,
    "start_time": "2022-01-23T08:49:27.377Z"
   },
   {
    "duration": 6549,
    "start_time": "2022-01-23T08:49:27.398Z"
   },
   {
    "duration": 3,
    "start_time": "2022-01-23T08:50:04.030Z"
   },
   {
    "duration": 409,
    "start_time": "2022-01-23T08:50:04.036Z"
   },
   {
    "duration": 15,
    "start_time": "2022-01-23T08:50:04.448Z"
   },
   {
    "duration": 25,
    "start_time": "2022-01-23T08:50:04.465Z"
   },
   {
    "duration": 31,
    "start_time": "2022-01-23T08:50:04.492Z"
   },
   {
    "duration": 22,
    "start_time": "2022-01-23T08:50:04.525Z"
   },
   {
    "duration": 29,
    "start_time": "2022-01-23T08:50:04.549Z"
   },
   {
    "duration": 19,
    "start_time": "2022-01-23T08:50:04.580Z"
   },
   {
    "duration": 78,
    "start_time": "2022-01-23T08:50:04.603Z"
   },
   {
    "duration": 81,
    "start_time": "2022-01-23T08:50:04.683Z"
   },
   {
    "duration": 19,
    "start_time": "2022-01-23T08:50:04.766Z"
   },
   {
    "duration": 51,
    "start_time": "2022-01-23T08:50:04.787Z"
   },
   {
    "duration": 68,
    "start_time": "2022-01-23T08:50:04.840Z"
   },
   {
    "duration": 16,
    "start_time": "2022-01-23T08:50:04.910Z"
   },
   {
    "duration": 46,
    "start_time": "2022-01-23T08:50:04.929Z"
   },
   {
    "duration": 21,
    "start_time": "2022-01-23T08:50:04.978Z"
   },
   {
    "duration": 16,
    "start_time": "2022-01-23T08:50:05.001Z"
   },
   {
    "duration": 17,
    "start_time": "2022-01-23T08:50:05.018Z"
   },
   {
    "duration": 32,
    "start_time": "2022-01-23T08:50:05.037Z"
   },
   {
    "duration": 39,
    "start_time": "2022-01-23T08:50:05.070Z"
   },
   {
    "duration": 33,
    "start_time": "2022-01-23T08:50:05.111Z"
   },
   {
    "duration": 44,
    "start_time": "2022-01-23T08:50:05.146Z"
   },
   {
    "duration": 35,
    "start_time": "2022-01-23T08:50:05.192Z"
   },
   {
    "duration": 23,
    "start_time": "2022-01-23T08:50:05.229Z"
   },
   {
    "duration": 19,
    "start_time": "2022-01-23T08:50:05.253Z"
   },
   {
    "duration": 28,
    "start_time": "2022-01-23T08:50:05.274Z"
   },
   {
    "duration": 31,
    "start_time": "2022-01-23T08:50:05.306Z"
   },
   {
    "duration": 28,
    "start_time": "2022-01-23T08:50:05.339Z"
   },
   {
    "duration": 28,
    "start_time": "2022-01-23T08:50:05.369Z"
   },
   {
    "duration": 29,
    "start_time": "2022-01-23T08:50:05.399Z"
   },
   {
    "duration": 34,
    "start_time": "2022-01-23T08:50:05.429Z"
   },
   {
    "duration": 104,
    "start_time": "2022-01-23T08:50:05.464Z"
   },
   {
    "duration": 115,
    "start_time": "2022-01-23T08:50:05.572Z"
   },
   {
    "duration": 74,
    "start_time": "2022-01-23T08:50:05.690Z"
   },
   {
    "duration": 99,
    "start_time": "2022-01-23T08:50:05.766Z"
   },
   {
    "duration": 47,
    "start_time": "2022-01-23T08:50:05.867Z"
   },
   {
    "duration": 150,
    "start_time": "2022-01-23T08:50:05.916Z"
   },
   {
    "duration": 35,
    "start_time": "2022-01-23T08:50:06.068Z"
   },
   {
    "duration": 27,
    "start_time": "2022-01-23T08:50:06.105Z"
   },
   {
    "duration": 29,
    "start_time": "2022-01-23T08:50:06.134Z"
   },
   {
    "duration": 36,
    "start_time": "2022-01-23T08:50:06.164Z"
   },
   {
    "duration": 31,
    "start_time": "2022-01-23T08:50:06.202Z"
   },
   {
    "duration": 26,
    "start_time": "2022-01-23T08:50:06.234Z"
   },
   {
    "duration": 28,
    "start_time": "2022-01-23T08:50:06.262Z"
   },
   {
    "duration": 27,
    "start_time": "2022-01-23T08:50:06.292Z"
   },
   {
    "duration": 59,
    "start_time": "2022-01-23T08:50:06.321Z"
   },
   {
    "duration": 24,
    "start_time": "2022-01-23T08:50:06.382Z"
   },
   {
    "duration": 6563,
    "start_time": "2022-01-23T08:50:06.408Z"
   },
   {
    "duration": 5,
    "start_time": "2022-01-23T08:51:11.036Z"
   },
   {
    "duration": 410,
    "start_time": "2022-01-23T08:51:11.043Z"
   },
   {
    "duration": 11,
    "start_time": "2022-01-23T08:51:11.455Z"
   },
   {
    "duration": 9,
    "start_time": "2022-01-23T08:51:11.468Z"
   },
   {
    "duration": 15,
    "start_time": "2022-01-23T08:51:11.478Z"
   },
   {
    "duration": 8,
    "start_time": "2022-01-23T08:51:11.494Z"
   },
   {
    "duration": 12,
    "start_time": "2022-01-23T08:51:11.504Z"
   },
   {
    "duration": 47,
    "start_time": "2022-01-23T08:51:11.518Z"
   },
   {
    "duration": 46,
    "start_time": "2022-01-23T08:51:11.568Z"
   },
   {
    "duration": 85,
    "start_time": "2022-01-23T08:51:11.617Z"
   },
   {
    "duration": 23,
    "start_time": "2022-01-23T08:51:11.704Z"
   },
   {
    "duration": 59,
    "start_time": "2022-01-23T08:51:11.729Z"
   },
   {
    "duration": 43,
    "start_time": "2022-01-23T08:51:11.790Z"
   },
   {
    "duration": 31,
    "start_time": "2022-01-23T08:51:11.834Z"
   },
   {
    "duration": 16,
    "start_time": "2022-01-23T08:51:11.867Z"
   },
   {
    "duration": 22,
    "start_time": "2022-01-23T08:51:11.885Z"
   },
   {
    "duration": 16,
    "start_time": "2022-01-23T08:51:11.909Z"
   },
   {
    "duration": 42,
    "start_time": "2022-01-23T08:51:11.927Z"
   },
   {
    "duration": 14,
    "start_time": "2022-01-23T08:51:11.971Z"
   },
   {
    "duration": 14,
    "start_time": "2022-01-23T08:51:11.987Z"
   },
   {
    "duration": 13,
    "start_time": "2022-01-23T08:51:12.003Z"
   },
   {
    "duration": 44,
    "start_time": "2022-01-23T08:51:12.018Z"
   },
   {
    "duration": 6,
    "start_time": "2022-01-23T08:51:12.064Z"
   },
   {
    "duration": 8,
    "start_time": "2022-01-23T08:51:12.072Z"
   },
   {
    "duration": 11,
    "start_time": "2022-01-23T08:51:12.082Z"
   },
   {
    "duration": 17,
    "start_time": "2022-01-23T08:51:12.094Z"
   },
   {
    "duration": 13,
    "start_time": "2022-01-23T08:51:12.115Z"
   },
   {
    "duration": 38,
    "start_time": "2022-01-23T08:51:12.130Z"
   },
   {
    "duration": 23,
    "start_time": "2022-01-23T08:51:12.170Z"
   },
   {
    "duration": 17,
    "start_time": "2022-01-23T08:51:12.195Z"
   },
   {
    "duration": 17,
    "start_time": "2022-01-23T08:51:12.213Z"
   },
   {
    "duration": 129,
    "start_time": "2022-01-23T08:51:12.232Z"
   },
   {
    "duration": 8,
    "start_time": "2022-01-23T08:51:12.364Z"
   },
   {
    "duration": 107,
    "start_time": "2022-01-23T08:51:12.373Z"
   },
   {
    "duration": 80,
    "start_time": "2022-01-23T08:51:12.483Z"
   },
   {
    "duration": 105,
    "start_time": "2022-01-23T08:51:12.566Z"
   },
   {
    "duration": 94,
    "start_time": "2022-01-23T08:51:12.674Z"
   },
   {
    "duration": 93,
    "start_time": "2022-01-23T08:51:12.771Z"
   },
   {
    "duration": 6,
    "start_time": "2022-01-23T08:51:12.866Z"
   },
   {
    "duration": 5,
    "start_time": "2022-01-23T08:51:12.873Z"
   },
   {
    "duration": 6,
    "start_time": "2022-01-23T08:51:12.880Z"
   },
   {
    "duration": 9,
    "start_time": "2022-01-23T08:51:12.887Z"
   },
   {
    "duration": 9,
    "start_time": "2022-01-23T08:51:12.898Z"
   },
   {
    "duration": 53,
    "start_time": "2022-01-23T08:51:12.909Z"
   },
   {
    "duration": 10,
    "start_time": "2022-01-23T08:51:12.964Z"
   },
   {
    "duration": 13,
    "start_time": "2022-01-23T08:51:12.976Z"
   },
   {
    "duration": 7,
    "start_time": "2022-01-23T08:51:12.991Z"
   },
   {
    "duration": 5759,
    "start_time": "2022-01-23T08:51:12.999Z"
   },
   {
    "duration": 4,
    "start_time": "2022-01-23T08:52:20.565Z"
   },
   {
    "duration": 400,
    "start_time": "2022-01-23T08:52:20.571Z"
   },
   {
    "duration": 10,
    "start_time": "2022-01-23T08:52:20.974Z"
   },
   {
    "duration": 21,
    "start_time": "2022-01-23T08:52:20.986Z"
   },
   {
    "duration": 33,
    "start_time": "2022-01-23T08:52:21.010Z"
   },
   {
    "duration": 18,
    "start_time": "2022-01-23T08:52:21.046Z"
   },
   {
    "duration": 27,
    "start_time": "2022-01-23T08:52:21.066Z"
   },
   {
    "duration": 20,
    "start_time": "2022-01-23T08:52:21.095Z"
   },
   {
    "duration": 60,
    "start_time": "2022-01-23T08:52:21.119Z"
   },
   {
    "duration": 54,
    "start_time": "2022-01-23T08:52:21.182Z"
   },
   {
    "duration": 28,
    "start_time": "2022-01-23T08:52:21.239Z"
   },
   {
    "duration": 40,
    "start_time": "2022-01-23T08:52:21.269Z"
   },
   {
    "duration": 52,
    "start_time": "2022-01-23T08:52:21.311Z"
   },
   {
    "duration": 14,
    "start_time": "2022-01-23T08:52:21.364Z"
   },
   {
    "duration": 14,
    "start_time": "2022-01-23T08:52:21.380Z"
   },
   {
    "duration": 14,
    "start_time": "2022-01-23T08:52:21.395Z"
   },
   {
    "duration": 11,
    "start_time": "2022-01-23T08:52:21.410Z"
   },
   {
    "duration": 44,
    "start_time": "2022-01-23T08:52:21.422Z"
   },
   {
    "duration": 12,
    "start_time": "2022-01-23T08:52:21.467Z"
   },
   {
    "duration": 11,
    "start_time": "2022-01-23T08:52:21.481Z"
   },
   {
    "duration": 15,
    "start_time": "2022-01-23T08:52:21.494Z"
   },
   {
    "duration": 19,
    "start_time": "2022-01-23T08:52:21.511Z"
   },
   {
    "duration": 29,
    "start_time": "2022-01-23T08:52:21.532Z"
   },
   {
    "duration": 10,
    "start_time": "2022-01-23T08:52:21.563Z"
   },
   {
    "duration": 13,
    "start_time": "2022-01-23T08:52:21.574Z"
   },
   {
    "duration": 30,
    "start_time": "2022-01-23T08:52:21.589Z"
   },
   {
    "duration": 26,
    "start_time": "2022-01-23T08:52:21.624Z"
   },
   {
    "duration": 19,
    "start_time": "2022-01-23T08:52:21.652Z"
   },
   {
    "duration": 25,
    "start_time": "2022-01-23T08:52:21.674Z"
   },
   {
    "duration": 14,
    "start_time": "2022-01-23T08:52:21.701Z"
   },
   {
    "duration": 31,
    "start_time": "2022-01-23T08:52:21.717Z"
   },
   {
    "duration": 119,
    "start_time": "2022-01-23T08:52:21.750Z"
   },
   {
    "duration": 103,
    "start_time": "2022-01-23T08:52:21.873Z"
   },
   {
    "duration": 19,
    "start_time": "2022-01-23T08:52:21.978Z"
   },
   {
    "duration": 63,
    "start_time": "2022-01-23T08:52:22.000Z"
   },
   {
    "duration": 110,
    "start_time": "2022-01-23T08:52:22.067Z"
   },
   {
    "duration": 185,
    "start_time": "2022-01-23T08:52:22.180Z"
   },
   {
    "duration": 6,
    "start_time": "2022-01-23T08:52:22.367Z"
   },
   {
    "duration": 12,
    "start_time": "2022-01-23T08:52:22.374Z"
   },
   {
    "duration": 9,
    "start_time": "2022-01-23T08:52:22.388Z"
   },
   {
    "duration": 5,
    "start_time": "2022-01-23T08:52:22.399Z"
   },
   {
    "duration": 14,
    "start_time": "2022-01-23T08:52:22.406Z"
   },
   {
    "duration": 9,
    "start_time": "2022-01-23T08:52:22.422Z"
   },
   {
    "duration": 34,
    "start_time": "2022-01-23T08:52:22.433Z"
   },
   {
    "duration": 12,
    "start_time": "2022-01-23T08:52:22.470Z"
   },
   {
    "duration": 16,
    "start_time": "2022-01-23T08:52:22.484Z"
   },
   {
    "duration": 11,
    "start_time": "2022-01-23T08:52:22.502Z"
   },
   {
    "duration": 514,
    "start_time": "2022-01-23T08:52:22.515Z"
   },
   {
    "duration": 4,
    "start_time": "2022-01-23T08:55:21.349Z"
   },
   {
    "duration": 411,
    "start_time": "2022-01-23T08:55:21.355Z"
   },
   {
    "duration": 12,
    "start_time": "2022-01-23T08:55:21.768Z"
   },
   {
    "duration": 27,
    "start_time": "2022-01-23T08:55:21.781Z"
   },
   {
    "duration": 24,
    "start_time": "2022-01-23T08:55:21.810Z"
   },
   {
    "duration": 12,
    "start_time": "2022-01-23T08:55:21.837Z"
   },
   {
    "duration": 36,
    "start_time": "2022-01-23T08:55:21.851Z"
   },
   {
    "duration": 22,
    "start_time": "2022-01-23T08:55:21.888Z"
   },
   {
    "duration": 70,
    "start_time": "2022-01-23T08:55:21.913Z"
   },
   {
    "duration": 77,
    "start_time": "2022-01-23T08:55:21.985Z"
   },
   {
    "duration": 25,
    "start_time": "2022-01-23T08:55:22.064Z"
   },
   {
    "duration": 78,
    "start_time": "2022-01-23T08:55:22.092Z"
   },
   {
    "duration": 63,
    "start_time": "2022-01-23T08:55:22.173Z"
   },
   {
    "duration": 33,
    "start_time": "2022-01-23T08:55:22.238Z"
   },
   {
    "duration": 22,
    "start_time": "2022-01-23T08:55:22.274Z"
   },
   {
    "duration": 31,
    "start_time": "2022-01-23T08:55:22.298Z"
   },
   {
    "duration": 15,
    "start_time": "2022-01-23T08:55:22.331Z"
   },
   {
    "duration": 28,
    "start_time": "2022-01-23T08:55:22.348Z"
   },
   {
    "duration": 21,
    "start_time": "2022-01-23T08:55:22.378Z"
   },
   {
    "duration": 15,
    "start_time": "2022-01-23T08:55:22.401Z"
   },
   {
    "duration": 50,
    "start_time": "2022-01-23T08:55:22.418Z"
   },
   {
    "duration": 31,
    "start_time": "2022-01-23T08:55:22.470Z"
   },
   {
    "duration": 37,
    "start_time": "2022-01-23T08:55:22.503Z"
   },
   {
    "duration": 34,
    "start_time": "2022-01-23T08:55:22.542Z"
   },
   {
    "duration": 32,
    "start_time": "2022-01-23T08:55:22.578Z"
   },
   {
    "duration": 31,
    "start_time": "2022-01-23T08:55:22.612Z"
   },
   {
    "duration": 20,
    "start_time": "2022-01-23T08:55:22.647Z"
   },
   {
    "duration": 13,
    "start_time": "2022-01-23T08:55:22.670Z"
   },
   {
    "duration": 28,
    "start_time": "2022-01-23T08:55:22.685Z"
   },
   {
    "duration": 27,
    "start_time": "2022-01-23T08:55:22.715Z"
   },
   {
    "duration": 33,
    "start_time": "2022-01-23T08:55:22.744Z"
   },
   {
    "duration": 82,
    "start_time": "2022-01-23T08:55:22.779Z"
   },
   {
    "duration": 108,
    "start_time": "2022-01-23T08:55:22.864Z"
   },
   {
    "duration": 44,
    "start_time": "2022-01-23T08:55:22.974Z"
   },
   {
    "duration": 36,
    "start_time": "2022-01-23T08:55:23.786Z"
   },
   {
    "duration": 405,
    "start_time": "2022-01-23T08:55:23.824Z"
   },
   {
    "duration": 12,
    "start_time": "2022-01-23T08:55:24.230Z"
   },
   {
    "duration": 17,
    "start_time": "2022-01-23T08:55:24.244Z"
   },
   {
    "duration": 10,
    "start_time": "2022-01-23T08:55:24.263Z"
   },
   {
    "duration": 16,
    "start_time": "2022-01-23T08:55:24.275Z"
   },
   {
    "duration": 23,
    "start_time": "2022-01-23T08:55:24.293Z"
   },
   {
    "duration": 23,
    "start_time": "2022-01-23T08:55:24.317Z"
   },
   {
    "duration": 54,
    "start_time": "2022-01-23T08:55:24.341Z"
   },
   {
    "duration": 66,
    "start_time": "2022-01-23T08:55:24.396Z"
   },
   {
    "duration": 15,
    "start_time": "2022-01-23T08:55:24.463Z"
   },
   {
    "duration": 59,
    "start_time": "2022-01-23T08:55:24.479Z"
   },
   {
    "duration": 55,
    "start_time": "2022-01-23T08:55:24.540Z"
   },
   {
    "duration": 14,
    "start_time": "2022-01-23T08:55:24.597Z"
   },
   {
    "duration": 19,
    "start_time": "2022-01-23T08:55:24.613Z"
   },
   {
    "duration": 31,
    "start_time": "2022-01-23T08:55:24.634Z"
   },
   {
    "duration": 19,
    "start_time": "2022-01-23T08:55:24.667Z"
   },
   {
    "duration": 28,
    "start_time": "2022-01-23T08:55:24.688Z"
   },
   {
    "duration": 16,
    "start_time": "2022-01-23T08:55:24.717Z"
   },
   {
    "duration": 23,
    "start_time": "2022-01-23T08:55:24.735Z"
   },
   {
    "duration": 36,
    "start_time": "2022-01-23T08:55:24.760Z"
   },
   {
    "duration": 25,
    "start_time": "2022-01-23T08:55:24.798Z"
   },
   {
    "duration": 29,
    "start_time": "2022-01-23T08:55:24.825Z"
   },
   {
    "duration": 19,
    "start_time": "2022-01-23T08:55:24.856Z"
   },
   {
    "duration": 31,
    "start_time": "2022-01-23T08:55:24.877Z"
   },
   {
    "duration": 36,
    "start_time": "2022-01-23T08:55:24.909Z"
   },
   {
    "duration": 23,
    "start_time": "2022-01-23T08:55:24.947Z"
   },
   {
    "duration": 12,
    "start_time": "2022-01-23T08:55:24.972Z"
   },
   {
    "duration": 44,
    "start_time": "2022-01-23T08:55:24.986Z"
   },
   {
    "duration": 22,
    "start_time": "2022-01-23T08:55:25.032Z"
   },
   {
    "duration": 31,
    "start_time": "2022-01-23T08:55:25.056Z"
   },
   {
    "duration": 36,
    "start_time": "2022-01-23T08:55:25.092Z"
   },
   {
    "duration": 135,
    "start_time": "2022-01-23T08:55:25.131Z"
   },
   {
    "duration": 44,
    "start_time": "2022-01-23T08:55:25.268Z"
   },
   {
    "duration": 53,
    "start_time": "2022-01-23T08:55:25.314Z"
   },
   {
    "duration": 114,
    "start_time": "2022-01-23T08:55:25.369Z"
   },
   {
    "duration": 175,
    "start_time": "2022-01-23T08:55:25.486Z"
   },
   {
    "duration": 30,
    "start_time": "2022-01-23T08:55:25.663Z"
   },
   {
    "duration": 31,
    "start_time": "2022-01-23T08:55:25.695Z"
   },
   {
    "duration": 15,
    "start_time": "2022-01-23T08:55:25.728Z"
   },
   {
    "duration": 19,
    "start_time": "2022-01-23T08:55:25.745Z"
   },
   {
    "duration": 18,
    "start_time": "2022-01-23T08:55:25.766Z"
   },
   {
    "duration": 18,
    "start_time": "2022-01-23T08:55:25.786Z"
   },
   {
    "duration": 18,
    "start_time": "2022-01-23T08:55:25.806Z"
   },
   {
    "duration": 15,
    "start_time": "2022-01-23T08:55:25.826Z"
   },
   {
    "duration": 24,
    "start_time": "2022-01-23T08:55:25.843Z"
   },
   {
    "duration": 27,
    "start_time": "2022-01-23T08:55:25.869Z"
   },
   {
    "duration": 508,
    "start_time": "2022-01-23T08:55:25.898Z"
   },
   {
    "duration": 4,
    "start_time": "2022-01-23T08:59:51.352Z"
   },
   {
    "duration": 403,
    "start_time": "2022-01-23T08:59:51.358Z"
   },
   {
    "duration": 12,
    "start_time": "2022-01-23T08:59:51.764Z"
   },
   {
    "duration": 15,
    "start_time": "2022-01-23T08:59:51.779Z"
   },
   {
    "duration": 16,
    "start_time": "2022-01-23T08:59:51.796Z"
   },
   {
    "duration": 13,
    "start_time": "2022-01-23T08:59:51.813Z"
   },
   {
    "duration": 33,
    "start_time": "2022-01-23T08:59:51.828Z"
   },
   {
    "duration": 10,
    "start_time": "2022-01-23T08:59:51.863Z"
   },
   {
    "duration": 44,
    "start_time": "2022-01-23T08:59:51.876Z"
   },
   {
    "duration": 82,
    "start_time": "2022-01-23T08:59:51.922Z"
   },
   {
    "duration": 15,
    "start_time": "2022-01-23T08:59:52.006Z"
   },
   {
    "duration": 61,
    "start_time": "2022-01-23T08:59:52.023Z"
   },
   {
    "duration": 43,
    "start_time": "2022-01-23T08:59:52.086Z"
   },
   {
    "duration": 33,
    "start_time": "2022-01-23T08:59:52.131Z"
   },
   {
    "duration": 16,
    "start_time": "2022-01-23T08:59:52.167Z"
   },
   {
    "duration": 16,
    "start_time": "2022-01-23T08:59:52.185Z"
   },
   {
    "duration": 11,
    "start_time": "2022-01-23T08:59:52.203Z"
   },
   {
    "duration": 47,
    "start_time": "2022-01-23T08:59:52.215Z"
   },
   {
    "duration": 11,
    "start_time": "2022-01-23T08:59:52.264Z"
   },
   {
    "duration": 11,
    "start_time": "2022-01-23T08:59:52.277Z"
   },
   {
    "duration": 18,
    "start_time": "2022-01-23T08:59:52.290Z"
   },
   {
    "duration": 17,
    "start_time": "2022-01-23T08:59:52.310Z"
   },
   {
    "duration": 32,
    "start_time": "2022-01-23T08:59:52.329Z"
   },
   {
    "duration": 6,
    "start_time": "2022-01-23T08:59:52.363Z"
   },
   {
    "duration": 10,
    "start_time": "2022-01-23T08:59:52.372Z"
   },
   {
    "duration": 21,
    "start_time": "2022-01-23T08:59:52.384Z"
   },
   {
    "duration": 18,
    "start_time": "2022-01-23T08:59:52.410Z"
   },
   {
    "duration": 40,
    "start_time": "2022-01-23T08:59:52.430Z"
   },
   {
    "duration": 28,
    "start_time": "2022-01-23T08:59:52.472Z"
   },
   {
    "duration": 19,
    "start_time": "2022-01-23T08:59:52.503Z"
   },
   {
    "duration": 40,
    "start_time": "2022-01-23T08:59:52.525Z"
   },
   {
    "duration": 21,
    "start_time": "2022-01-23T08:59:52.568Z"
   },
   {
    "duration": 12,
    "start_time": "2022-01-23T08:59:52.662Z"
   },
   {
    "duration": 18,
    "start_time": "2022-01-23T08:59:52.762Z"
   },
   {
    "duration": 89,
    "start_time": "2022-01-23T08:59:52.783Z"
   },
   {
    "duration": 113,
    "start_time": "2022-01-23T08:59:52.875Z"
   },
   {
    "duration": 77,
    "start_time": "2022-01-23T08:59:52.990Z"
   },
   {
    "duration": 99,
    "start_time": "2022-01-23T08:59:53.069Z"
   },
   {
    "duration": 44,
    "start_time": "2022-01-23T08:59:53.170Z"
   },
   {
    "duration": 27,
    "start_time": "2022-01-23T08:59:53.215Z"
   },
   {
    "duration": 35,
    "start_time": "2022-01-23T08:59:53.244Z"
   },
   {
    "duration": 15,
    "start_time": "2022-01-23T08:59:53.281Z"
   },
   {
    "duration": 22,
    "start_time": "2022-01-23T08:59:53.298Z"
   },
   {
    "duration": 33,
    "start_time": "2022-01-23T08:59:53.322Z"
   },
   {
    "duration": 9,
    "start_time": "2022-01-23T08:59:53.357Z"
   },
   {
    "duration": 5,
    "start_time": "2022-01-23T08:59:53.368Z"
   },
   {
    "duration": 30,
    "start_time": "2022-01-23T08:59:53.374Z"
   },
   {
    "duration": 570,
    "start_time": "2022-01-23T08:59:53.405Z"
   },
   {
    "duration": 4,
    "start_time": "2022-01-23T09:00:02.628Z"
   },
   {
    "duration": 248,
    "start_time": "2022-01-23T09:00:29.670Z"
   },
   {
    "duration": 4,
    "start_time": "2022-01-23T09:00:32.590Z"
   },
   {
    "duration": 398,
    "start_time": "2022-01-23T09:00:32.596Z"
   },
   {
    "duration": 11,
    "start_time": "2022-01-23T09:00:32.996Z"
   },
   {
    "duration": 9,
    "start_time": "2022-01-23T09:00:33.009Z"
   },
   {
    "duration": 20,
    "start_time": "2022-01-23T09:00:33.019Z"
   },
   {
    "duration": 19,
    "start_time": "2022-01-23T09:00:33.041Z"
   },
   {
    "duration": 11,
    "start_time": "2022-01-23T09:00:33.062Z"
   },
   {
    "duration": 9,
    "start_time": "2022-01-23T09:00:33.075Z"
   },
   {
    "duration": 45,
    "start_time": "2022-01-23T09:00:33.087Z"
   },
   {
    "duration": 101,
    "start_time": "2022-01-23T09:00:33.135Z"
   },
   {
    "duration": 29,
    "start_time": "2022-01-23T09:00:33.238Z"
   },
   {
    "duration": 41,
    "start_time": "2022-01-23T09:00:33.269Z"
   },
   {
    "duration": 61,
    "start_time": "2022-01-23T09:00:33.311Z"
   },
   {
    "duration": 15,
    "start_time": "2022-01-23T09:00:33.374Z"
   },
   {
    "duration": 14,
    "start_time": "2022-01-23T09:00:33.390Z"
   },
   {
    "duration": 12,
    "start_time": "2022-01-23T09:00:33.406Z"
   },
   {
    "duration": 42,
    "start_time": "2022-01-23T09:00:33.420Z"
   },
   {
    "duration": 13,
    "start_time": "2022-01-23T09:00:33.464Z"
   },
   {
    "duration": 11,
    "start_time": "2022-01-23T09:00:33.479Z"
   },
   {
    "duration": 14,
    "start_time": "2022-01-23T09:00:33.492Z"
   },
   {
    "duration": 24,
    "start_time": "2022-01-23T09:00:33.508Z"
   },
   {
    "duration": 33,
    "start_time": "2022-01-23T09:00:33.534Z"
   },
   {
    "duration": 12,
    "start_time": "2022-01-23T09:00:33.569Z"
   },
   {
    "duration": 7,
    "start_time": "2022-01-23T09:00:33.583Z"
   },
   {
    "duration": 21,
    "start_time": "2022-01-23T09:00:33.592Z"
   },
   {
    "duration": 16,
    "start_time": "2022-01-23T09:00:33.614Z"
   },
   {
    "duration": 15,
    "start_time": "2022-01-23T09:00:33.634Z"
   },
   {
    "duration": 16,
    "start_time": "2022-01-23T09:00:33.651Z"
   },
   {
    "duration": 35,
    "start_time": "2022-01-23T09:00:33.669Z"
   },
   {
    "duration": 14,
    "start_time": "2022-01-23T09:00:33.706Z"
   },
   {
    "duration": 21,
    "start_time": "2022-01-23T09:00:33.721Z"
   },
   {
    "duration": 129,
    "start_time": "2022-01-23T09:00:33.743Z"
   },
   {
    "duration": 88,
    "start_time": "2022-01-23T09:00:33.874Z"
   },
   {
    "duration": 107,
    "start_time": "2022-01-23T09:00:33.964Z"
   },
   {
    "duration": 8,
    "start_time": "2022-01-23T09:00:34.161Z"
   },
   {
    "duration": 98,
    "start_time": "2022-01-23T09:00:34.171Z"
   },
   {
    "duration": 16,
    "start_time": "2022-01-23T09:00:34.361Z"
   },
   {
    "duration": 10,
    "start_time": "2022-01-23T09:00:34.379Z"
   },
   {
    "duration": 49,
    "start_time": "2022-01-23T09:00:34.390Z"
   },
   {
    "duration": 18,
    "start_time": "2022-01-23T09:00:34.440Z"
   },
   {
    "duration": 29,
    "start_time": "2022-01-23T09:00:34.460Z"
   },
   {
    "duration": 19,
    "start_time": "2022-01-23T09:00:34.491Z"
   },
   {
    "duration": 39,
    "start_time": "2022-01-23T09:00:34.511Z"
   },
   {
    "duration": 17,
    "start_time": "2022-01-23T09:00:34.552Z"
   },
   {
    "duration": 19,
    "start_time": "2022-01-23T09:00:34.571Z"
   },
   {
    "duration": 339,
    "start_time": "2022-01-23T09:00:34.592Z"
   },
   {
    "duration": -795,
    "start_time": "2022-01-23T09:00:35.729Z"
   },
   {
    "duration": -799,
    "start_time": "2022-01-23T09:00:35.734Z"
   },
   {
    "duration": -799,
    "start_time": "2022-01-23T09:00:35.736Z"
   },
   {
    "duration": 6,
    "start_time": "2022-01-23T09:01:14.004Z"
   },
   {
    "duration": 4,
    "start_time": "2022-01-23T09:01:20.358Z"
   },
   {
    "duration": 401,
    "start_time": "2022-01-23T09:01:20.364Z"
   },
   {
    "duration": 11,
    "start_time": "2022-01-23T09:01:20.767Z"
   },
   {
    "duration": 11,
    "start_time": "2022-01-23T09:01:20.780Z"
   },
   {
    "duration": 14,
    "start_time": "2022-01-23T09:01:20.793Z"
   },
   {
    "duration": 8,
    "start_time": "2022-01-23T09:01:20.809Z"
   },
   {
    "duration": 14,
    "start_time": "2022-01-23T09:01:20.819Z"
   },
   {
    "duration": 34,
    "start_time": "2022-01-23T09:01:20.835Z"
   },
   {
    "duration": 46,
    "start_time": "2022-01-23T09:01:20.871Z"
   },
   {
    "duration": 67,
    "start_time": "2022-01-23T09:01:20.919Z"
   },
   {
    "duration": 16,
    "start_time": "2022-01-23T09:01:20.988Z"
   },
   {
    "duration": 61,
    "start_time": "2022-01-23T09:01:21.005Z"
   },
   {
    "duration": 42,
    "start_time": "2022-01-23T09:01:21.068Z"
   },
   {
    "duration": 13,
    "start_time": "2022-01-23T09:01:21.112Z"
   },
   {
    "duration": 34,
    "start_time": "2022-01-23T09:01:21.127Z"
   },
   {
    "duration": 14,
    "start_time": "2022-01-23T09:01:21.163Z"
   },
   {
    "duration": 11,
    "start_time": "2022-01-23T09:01:21.179Z"
   },
   {
    "duration": 11,
    "start_time": "2022-01-23T09:01:21.192Z"
   },
   {
    "duration": 11,
    "start_time": "2022-01-23T09:01:21.204Z"
   },
   {
    "duration": 44,
    "start_time": "2022-01-23T09:01:21.217Z"
   },
   {
    "duration": 13,
    "start_time": "2022-01-23T09:01:21.263Z"
   },
   {
    "duration": 16,
    "start_time": "2022-01-23T09:01:21.277Z"
   },
   {
    "duration": 14,
    "start_time": "2022-01-23T09:01:21.294Z"
   },
   {
    "duration": 11,
    "start_time": "2022-01-23T09:01:21.309Z"
   },
   {
    "duration": 8,
    "start_time": "2022-01-23T09:01:21.322Z"
   },
   {
    "duration": 32,
    "start_time": "2022-01-23T09:01:21.331Z"
   },
   {
    "duration": 12,
    "start_time": "2022-01-23T09:01:21.367Z"
   },
   {
    "duration": 12,
    "start_time": "2022-01-23T09:01:21.381Z"
   },
   {
    "duration": 20,
    "start_time": "2022-01-23T09:01:21.395Z"
   },
   {
    "duration": 14,
    "start_time": "2022-01-23T09:01:21.417Z"
   },
   {
    "duration": 39,
    "start_time": "2022-01-23T09:01:21.433Z"
   },
   {
    "duration": 18,
    "start_time": "2022-01-23T09:01:21.474Z"
   },
   {
    "duration": 73,
    "start_time": "2022-01-23T09:01:21.494Z"
   },
   {
    "duration": 103,
    "start_time": "2022-01-23T09:01:21.570Z"
   },
   {
    "duration": 193,
    "start_time": "2022-01-23T09:01:21.677Z"
   },
   {
    "duration": 17,
    "start_time": "2022-01-23T09:01:21.872Z"
   },
   {
    "duration": 84,
    "start_time": "2022-01-23T09:01:21.891Z"
   },
   {
    "duration": 5,
    "start_time": "2022-01-23T09:01:22.061Z"
   },
   {
    "duration": 6,
    "start_time": "2022-01-23T09:01:22.068Z"
   },
   {
    "duration": 9,
    "start_time": "2022-01-23T09:01:22.075Z"
   },
   {
    "duration": 5,
    "start_time": "2022-01-23T09:01:22.085Z"
   },
   {
    "duration": 15,
    "start_time": "2022-01-23T09:01:22.091Z"
   },
   {
    "duration": 7,
    "start_time": "2022-01-23T09:01:22.108Z"
   },
   {
    "duration": 7,
    "start_time": "2022-01-23T09:01:22.116Z"
   },
   {
    "duration": 9,
    "start_time": "2022-01-23T09:01:22.161Z"
   },
   {
    "duration": 18,
    "start_time": "2022-01-23T09:01:22.172Z"
   },
   {
    "duration": 244,
    "start_time": "2022-01-23T09:01:22.192Z"
   },
   {
    "duration": -784,
    "start_time": "2022-01-23T09:01:23.222Z"
   },
   {
    "duration": -785,
    "start_time": "2022-01-23T09:01:23.224Z"
   },
   {
    "duration": 454,
    "start_time": "2022-01-23T09:01:35.127Z"
   },
   {
    "duration": 4,
    "start_time": "2022-01-23T09:02:22.186Z"
   },
   {
    "duration": 427,
    "start_time": "2022-01-23T09:02:22.192Z"
   },
   {
    "duration": 11,
    "start_time": "2022-01-23T09:02:22.622Z"
   },
   {
    "duration": 24,
    "start_time": "2022-01-23T09:02:22.635Z"
   },
   {
    "duration": 28,
    "start_time": "2022-01-23T09:02:22.661Z"
   },
   {
    "duration": 19,
    "start_time": "2022-01-23T09:02:22.691Z"
   },
   {
    "duration": 28,
    "start_time": "2022-01-23T09:02:22.712Z"
   },
   {
    "duration": 17,
    "start_time": "2022-01-23T09:02:22.741Z"
   },
   {
    "duration": 61,
    "start_time": "2022-01-23T09:02:22.760Z"
   },
   {
    "duration": 59,
    "start_time": "2022-01-23T09:02:22.824Z"
   },
   {
    "duration": 25,
    "start_time": "2022-01-23T09:02:22.885Z"
   },
   {
    "duration": 67,
    "start_time": "2022-01-23T09:02:22.912Z"
   },
   {
    "duration": 56,
    "start_time": "2022-01-23T09:02:22.981Z"
   },
   {
    "duration": 27,
    "start_time": "2022-01-23T09:02:23.040Z"
   },
   {
    "duration": 37,
    "start_time": "2022-01-23T09:02:23.069Z"
   },
   {
    "duration": 29,
    "start_time": "2022-01-23T09:02:23.108Z"
   },
   {
    "duration": 19,
    "start_time": "2022-01-23T09:02:23.139Z"
   },
   {
    "duration": 24,
    "start_time": "2022-01-23T09:02:23.160Z"
   },
   {
    "duration": 31,
    "start_time": "2022-01-23T09:02:23.186Z"
   },
   {
    "duration": 16,
    "start_time": "2022-01-23T09:02:23.218Z"
   },
   {
    "duration": 29,
    "start_time": "2022-01-23T09:02:23.235Z"
   },
   {
    "duration": 30,
    "start_time": "2022-01-23T09:02:23.266Z"
   },
   {
    "duration": 25,
    "start_time": "2022-01-23T09:02:23.298Z"
   },
   {
    "duration": 35,
    "start_time": "2022-01-23T09:02:23.325Z"
   },
   {
    "duration": 32,
    "start_time": "2022-01-23T09:02:23.362Z"
   },
   {
    "duration": 29,
    "start_time": "2022-01-23T09:02:23.396Z"
   },
   {
    "duration": 31,
    "start_time": "2022-01-23T09:02:23.429Z"
   },
   {
    "duration": 18,
    "start_time": "2022-01-23T09:02:23.462Z"
   },
   {
    "duration": 46,
    "start_time": "2022-01-23T09:02:23.482Z"
   },
   {
    "duration": 16,
    "start_time": "2022-01-23T09:02:23.530Z"
   },
   {
    "duration": 33,
    "start_time": "2022-01-23T09:02:23.548Z"
   },
   {
    "duration": 80,
    "start_time": "2022-01-23T09:02:23.583Z"
   },
   {
    "duration": 115,
    "start_time": "2022-01-23T09:02:23.665Z"
   },
   {
    "duration": 36,
    "start_time": "2022-01-23T09:02:23.781Z"
   },
   {
    "duration": 146,
    "start_time": "2022-01-23T09:02:23.819Z"
   },
   {
    "duration": 54,
    "start_time": "2022-01-23T09:02:23.967Z"
   },
   {
    "duration": 141,
    "start_time": "2022-01-23T09:02:24.024Z"
   },
   {
    "duration": 40,
    "start_time": "2022-01-23T09:02:24.167Z"
   },
   {
    "duration": 42,
    "start_time": "2022-01-23T09:02:24.210Z"
   },
   {
    "duration": 24,
    "start_time": "2022-01-23T09:02:24.254Z"
   },
   {
    "duration": 18,
    "start_time": "2022-01-23T09:02:24.279Z"
   },
   {
    "duration": 18,
    "start_time": "2022-01-23T09:02:24.299Z"
   },
   {
    "duration": 19,
    "start_time": "2022-01-23T09:02:24.319Z"
   },
   {
    "duration": 12,
    "start_time": "2022-01-23T09:02:24.340Z"
   },
   {
    "duration": 27,
    "start_time": "2022-01-23T09:02:24.354Z"
   },
   {
    "duration": 535,
    "start_time": "2022-01-23T09:02:24.384Z"
   },
   {
    "duration": -795,
    "start_time": "2022-01-23T09:02:25.716Z"
   },
   {
    "duration": -796,
    "start_time": "2022-01-23T09:02:25.718Z"
   },
   {
    "duration": -799,
    "start_time": "2022-01-23T09:02:25.723Z"
   },
   {
    "duration": 450,
    "start_time": "2022-01-23T09:02:31.919Z"
   },
   {
    "duration": 6,
    "start_time": "2022-01-23T09:02:38.016Z"
   },
   {
    "duration": 7,
    "start_time": "2022-01-23T09:02:46.495Z"
   },
   {
    "duration": 4,
    "start_time": "2022-01-23T09:02:59.094Z"
   },
   {
    "duration": 401,
    "start_time": "2022-01-23T09:02:59.100Z"
   },
   {
    "duration": 10,
    "start_time": "2022-01-23T09:02:59.503Z"
   },
   {
    "duration": 20,
    "start_time": "2022-01-23T09:02:59.515Z"
   },
   {
    "duration": 23,
    "start_time": "2022-01-23T09:02:59.537Z"
   },
   {
    "duration": 12,
    "start_time": "2022-01-23T09:02:59.563Z"
   },
   {
    "duration": 22,
    "start_time": "2022-01-23T09:02:59.578Z"
   },
   {
    "duration": 11,
    "start_time": "2022-01-23T09:02:59.604Z"
   },
   {
    "duration": 85,
    "start_time": "2022-01-23T09:02:59.618Z"
   },
   {
    "duration": 84,
    "start_time": "2022-01-23T09:02:59.706Z"
   },
   {
    "duration": 15,
    "start_time": "2022-01-23T09:02:59.792Z"
   },
   {
    "duration": 67,
    "start_time": "2022-01-23T09:02:59.809Z"
   },
   {
    "duration": 42,
    "start_time": "2022-01-23T09:02:59.878Z"
   },
   {
    "duration": 16,
    "start_time": "2022-01-23T09:02:59.922Z"
   },
   {
    "duration": 36,
    "start_time": "2022-01-23T09:02:59.940Z"
   },
   {
    "duration": 20,
    "start_time": "2022-01-23T09:02:59.978Z"
   },
   {
    "duration": 17,
    "start_time": "2022-01-23T09:03:00.000Z"
   },
   {
    "duration": 45,
    "start_time": "2022-01-23T09:03:00.020Z"
   },
   {
    "duration": 12,
    "start_time": "2022-01-23T09:03:00.068Z"
   },
   {
    "duration": 12,
    "start_time": "2022-01-23T09:03:00.082Z"
   },
   {
    "duration": 13,
    "start_time": "2022-01-23T09:03:00.096Z"
   },
   {
    "duration": 17,
    "start_time": "2022-01-23T09:03:00.111Z"
   },
   {
    "duration": 8,
    "start_time": "2022-01-23T09:03:00.161Z"
   },
   {
    "duration": 10,
    "start_time": "2022-01-23T09:03:00.171Z"
   },
   {
    "duration": 26,
    "start_time": "2022-01-23T09:03:00.183Z"
   },
   {
    "duration": 27,
    "start_time": "2022-01-23T09:03:00.211Z"
   },
   {
    "duration": 13,
    "start_time": "2022-01-23T09:03:00.242Z"
   },
   {
    "duration": 13,
    "start_time": "2022-01-23T09:03:00.257Z"
   },
   {
    "duration": 22,
    "start_time": "2022-01-23T09:03:00.271Z"
   },
   {
    "duration": 16,
    "start_time": "2022-01-23T09:03:00.295Z"
   },
   {
    "duration": 17,
    "start_time": "2022-01-23T09:03:00.313Z"
   },
   {
    "duration": 104,
    "start_time": "2022-01-23T09:03:00.360Z"
   },
   {
    "duration": 98,
    "start_time": "2022-01-23T09:03:00.467Z"
   },
   {
    "duration": 23,
    "start_time": "2022-01-23T09:03:00.567Z"
   },
   {
    "duration": 11,
    "start_time": "2022-01-23T09:03:00.661Z"
   },
   {
    "duration": 116,
    "start_time": "2022-01-23T09:03:00.674Z"
   },
   {
    "duration": 176,
    "start_time": "2022-01-23T09:03:00.792Z"
   },
   {
    "duration": 14,
    "start_time": "2022-01-23T09:03:00.970Z"
   },
   {
    "duration": 54,
    "start_time": "2022-01-23T09:03:00.986Z"
   },
   {
    "duration": 18,
    "start_time": "2022-01-23T09:03:01.042Z"
   },
   {
    "duration": 19,
    "start_time": "2022-01-23T09:03:01.062Z"
   },
   {
    "duration": 12,
    "start_time": "2022-01-23T09:03:01.083Z"
   },
   {
    "duration": 18,
    "start_time": "2022-01-23T09:03:01.097Z"
   },
   {
    "duration": 30,
    "start_time": "2022-01-23T09:03:01.117Z"
   },
   {
    "duration": 16,
    "start_time": "2022-01-23T09:03:01.150Z"
   },
   {
    "duration": 22,
    "start_time": "2022-01-23T09:03:01.168Z"
   },
   {
    "duration": 270,
    "start_time": "2022-01-23T09:03:01.192Z"
   },
   {
    "duration": -799,
    "start_time": "2022-01-23T09:03:02.263Z"
   },
   {
    "duration": -800,
    "start_time": "2022-01-23T09:03:02.265Z"
   },
   {
    "duration": 8,
    "start_time": "2022-01-23T09:03:18.534Z"
   },
   {
    "duration": 260,
    "start_time": "2022-01-23T09:03:26.027Z"
   },
   {
    "duration": 293,
    "start_time": "2022-01-23T09:03:42.621Z"
   },
   {
    "duration": 3,
    "start_time": "2022-01-23T09:03:44.988Z"
   },
   {
    "duration": 434,
    "start_time": "2022-01-23T09:03:44.993Z"
   },
   {
    "duration": 11,
    "start_time": "2022-01-23T09:03:45.430Z"
   },
   {
    "duration": 33,
    "start_time": "2022-01-23T09:03:45.443Z"
   },
   {
    "duration": 33,
    "start_time": "2022-01-23T09:03:45.478Z"
   },
   {
    "duration": 30,
    "start_time": "2022-01-23T09:03:45.513Z"
   },
   {
    "duration": 36,
    "start_time": "2022-01-23T09:03:45.545Z"
   },
   {
    "duration": 15,
    "start_time": "2022-01-23T09:03:45.582Z"
   },
   {
    "duration": 61,
    "start_time": "2022-01-23T09:03:45.601Z"
   },
   {
    "duration": 55,
    "start_time": "2022-01-23T09:03:45.664Z"
   },
   {
    "duration": 39,
    "start_time": "2022-01-23T09:03:45.721Z"
   },
   {
    "duration": 40,
    "start_time": "2022-01-23T09:03:45.762Z"
   },
   {
    "duration": 58,
    "start_time": "2022-01-23T09:03:45.804Z"
   },
   {
    "duration": 17,
    "start_time": "2022-01-23T09:03:45.863Z"
   },
   {
    "duration": 42,
    "start_time": "2022-01-23T09:03:45.882Z"
   },
   {
    "duration": 45,
    "start_time": "2022-01-23T09:03:45.927Z"
   },
   {
    "duration": 26,
    "start_time": "2022-01-23T09:03:45.975Z"
   },
   {
    "duration": 27,
    "start_time": "2022-01-23T09:03:46.003Z"
   },
   {
    "duration": 17,
    "start_time": "2022-01-23T09:03:46.032Z"
   },
   {
    "duration": 18,
    "start_time": "2022-01-23T09:03:46.051Z"
   },
   {
    "duration": 28,
    "start_time": "2022-01-23T09:03:46.070Z"
   },
   {
    "duration": 22,
    "start_time": "2022-01-23T09:03:46.099Z"
   },
   {
    "duration": 17,
    "start_time": "2022-01-23T09:03:46.123Z"
   },
   {
    "duration": 13,
    "start_time": "2022-01-23T09:03:46.142Z"
   },
   {
    "duration": 11,
    "start_time": "2022-01-23T09:03:46.157Z"
   },
   {
    "duration": 18,
    "start_time": "2022-01-23T09:03:46.170Z"
   },
   {
    "duration": 15,
    "start_time": "2022-01-23T09:03:46.191Z"
   },
   {
    "duration": 13,
    "start_time": "2022-01-23T09:03:46.208Z"
   },
   {
    "duration": 37,
    "start_time": "2022-01-23T09:03:46.223Z"
   },
   {
    "duration": 16,
    "start_time": "2022-01-23T09:03:46.262Z"
   },
   {
    "duration": 17,
    "start_time": "2022-01-23T09:03:46.279Z"
   },
   {
    "duration": 71,
    "start_time": "2022-01-23T09:03:46.298Z"
   },
   {
    "duration": 91,
    "start_time": "2022-01-23T09:03:46.371Z"
   },
   {
    "duration": 98,
    "start_time": "2022-01-23T09:03:46.464Z"
   },
   {
    "duration": 97,
    "start_time": "2022-01-23T09:03:46.564Z"
   },
   {
    "duration": 15,
    "start_time": "2022-01-23T09:03:46.663Z"
   },
   {
    "duration": 184,
    "start_time": "2022-01-23T09:03:46.681Z"
   },
   {
    "duration": 22,
    "start_time": "2022-01-23T09:03:46.867Z"
   },
   {
    "duration": 33,
    "start_time": "2022-01-23T09:03:46.891Z"
   },
   {
    "duration": 29,
    "start_time": "2022-01-23T09:03:46.927Z"
   },
   {
    "duration": 11,
    "start_time": "2022-01-23T09:03:46.959Z"
   },
   {
    "duration": 17,
    "start_time": "2022-01-23T09:03:46.972Z"
   },
   {
    "duration": 30,
    "start_time": "2022-01-23T09:03:46.991Z"
   },
   {
    "duration": 13,
    "start_time": "2022-01-23T09:03:47.023Z"
   },
   {
    "duration": 41,
    "start_time": "2022-01-23T09:03:47.038Z"
   },
   {
    "duration": 40,
    "start_time": "2022-01-23T09:03:47.081Z"
   },
   {
    "duration": 339,
    "start_time": "2022-01-23T09:03:47.123Z"
   },
   {
    "duration": -803,
    "start_time": "2022-01-23T09:03:48.266Z"
   },
   {
    "duration": -805,
    "start_time": "2022-01-23T09:03:48.269Z"
   },
   {
    "duration": 4,
    "start_time": "2022-01-23T09:04:17.583Z"
   },
   {
    "duration": 390,
    "start_time": "2022-01-23T09:04:17.588Z"
   },
   {
    "duration": 11,
    "start_time": "2022-01-23T09:04:17.980Z"
   },
   {
    "duration": 14,
    "start_time": "2022-01-23T09:04:17.993Z"
   },
   {
    "duration": 23,
    "start_time": "2022-01-23T09:04:18.009Z"
   },
   {
    "duration": 8,
    "start_time": "2022-01-23T09:04:18.034Z"
   },
   {
    "duration": 26,
    "start_time": "2022-01-23T09:04:18.044Z"
   },
   {
    "duration": 9,
    "start_time": "2022-01-23T09:04:18.071Z"
   },
   {
    "duration": 41,
    "start_time": "2022-01-23T09:04:18.082Z"
   },
   {
    "duration": 80,
    "start_time": "2022-01-23T09:04:18.125Z"
   },
   {
    "duration": 15,
    "start_time": "2022-01-23T09:04:18.207Z"
   },
   {
    "duration": 62,
    "start_time": "2022-01-23T09:04:18.224Z"
   },
   {
    "duration": 43,
    "start_time": "2022-01-23T09:04:18.288Z"
   },
   {
    "duration": 28,
    "start_time": "2022-01-23T09:04:18.332Z"
   },
   {
    "duration": 15,
    "start_time": "2022-01-23T09:04:18.362Z"
   },
   {
    "duration": 28,
    "start_time": "2022-01-23T09:04:18.379Z"
   },
   {
    "duration": 21,
    "start_time": "2022-01-23T09:04:18.408Z"
   },
   {
    "duration": 21,
    "start_time": "2022-01-23T09:04:18.431Z"
   },
   {
    "duration": 20,
    "start_time": "2022-01-23T09:04:18.455Z"
   },
   {
    "duration": 26,
    "start_time": "2022-01-23T09:04:18.477Z"
   },
   {
    "duration": 27,
    "start_time": "2022-01-23T09:04:18.505Z"
   },
   {
    "duration": 31,
    "start_time": "2022-01-23T09:04:18.534Z"
   },
   {
    "duration": 18,
    "start_time": "2022-01-23T09:04:18.567Z"
   },
   {
    "duration": 19,
    "start_time": "2022-01-23T09:04:18.587Z"
   },
   {
    "duration": 29,
    "start_time": "2022-01-23T09:04:18.608Z"
   },
   {
    "duration": 27,
    "start_time": "2022-01-23T09:04:18.638Z"
   },
   {
    "duration": 13,
    "start_time": "2022-01-23T09:04:18.669Z"
   },
   {
    "duration": 13,
    "start_time": "2022-01-23T09:04:18.685Z"
   },
   {
    "duration": 22,
    "start_time": "2022-01-23T09:04:18.700Z"
   },
   {
    "duration": 44,
    "start_time": "2022-01-23T09:04:18.724Z"
   },
   {
    "duration": 15,
    "start_time": "2022-01-23T09:04:18.771Z"
   },
   {
    "duration": 77,
    "start_time": "2022-01-23T09:04:18.787Z"
   },
   {
    "duration": 95,
    "start_time": "2022-01-23T09:04:18.868Z"
   },
   {
    "duration": 16,
    "start_time": "2022-01-23T09:04:18.965Z"
   },
   {
    "duration": 81,
    "start_time": "2022-01-23T09:04:18.983Z"
   },
   {
    "duration": 198,
    "start_time": "2022-01-23T09:04:19.066Z"
   },
   {
    "duration": 113,
    "start_time": "2022-01-23T09:04:19.266Z"
   },
   {
    "duration": 14,
    "start_time": "2022-01-23T09:04:19.380Z"
   },
   {
    "duration": 20,
    "start_time": "2022-01-23T09:04:19.395Z"
   },
   {
    "duration": 15,
    "start_time": "2022-01-23T09:04:19.417Z"
   },
   {
    "duration": 18,
    "start_time": "2022-01-23T09:04:19.434Z"
   },
   {
    "duration": 13,
    "start_time": "2022-01-23T09:04:19.454Z"
   },
   {
    "duration": 25,
    "start_time": "2022-01-23T09:04:19.468Z"
   },
   {
    "duration": 26,
    "start_time": "2022-01-23T09:04:19.495Z"
   },
   {
    "duration": 13,
    "start_time": "2022-01-23T09:04:19.523Z"
   },
   {
    "duration": 36,
    "start_time": "2022-01-23T09:04:19.537Z"
   },
   {
    "duration": 18,
    "start_time": "2022-01-23T09:04:19.574Z"
   },
   {
    "duration": 790,
    "start_time": "2022-01-23T09:04:19.594Z"
   },
   {
    "duration": 3,
    "start_time": "2022-01-23T09:06:56.492Z"
   },
   {
    "duration": 420,
    "start_time": "2022-01-23T09:06:56.497Z"
   },
   {
    "duration": 11,
    "start_time": "2022-01-23T09:06:56.920Z"
   },
   {
    "duration": 19,
    "start_time": "2022-01-23T09:06:56.933Z"
   },
   {
    "duration": 24,
    "start_time": "2022-01-23T09:06:56.954Z"
   },
   {
    "duration": 11,
    "start_time": "2022-01-23T09:06:56.980Z"
   },
   {
    "duration": 15,
    "start_time": "2022-01-23T09:06:56.993Z"
   },
   {
    "duration": 10,
    "start_time": "2022-01-23T09:06:57.011Z"
   },
   {
    "duration": 77,
    "start_time": "2022-01-23T09:06:57.023Z"
   },
   {
    "duration": 69,
    "start_time": "2022-01-23T09:06:57.102Z"
   },
   {
    "duration": 15,
    "start_time": "2022-01-23T09:06:57.173Z"
   },
   {
    "duration": 42,
    "start_time": "2022-01-23T09:06:57.190Z"
   },
   {
    "duration": 65,
    "start_time": "2022-01-23T09:06:57.234Z"
   },
   {
    "duration": 14,
    "start_time": "2022-01-23T09:06:57.300Z"
   },
   {
    "duration": 14,
    "start_time": "2022-01-23T09:06:57.316Z"
   },
   {
    "duration": 37,
    "start_time": "2022-01-23T09:06:57.332Z"
   },
   {
    "duration": 11,
    "start_time": "2022-01-23T09:06:57.371Z"
   },
   {
    "duration": 13,
    "start_time": "2022-01-23T09:06:57.383Z"
   },
   {
    "duration": 27,
    "start_time": "2022-01-23T09:06:57.398Z"
   },
   {
    "duration": 13,
    "start_time": "2022-01-23T09:06:57.427Z"
   },
   {
    "duration": 30,
    "start_time": "2022-01-23T09:06:57.442Z"
   },
   {
    "duration": 50,
    "start_time": "2022-01-23T09:06:57.474Z"
   },
   {
    "duration": 27,
    "start_time": "2022-01-23T09:06:57.527Z"
   },
   {
    "duration": 38,
    "start_time": "2022-01-23T09:06:57.556Z"
   },
   {
    "duration": 39,
    "start_time": "2022-01-23T09:06:57.596Z"
   },
   {
    "duration": 38,
    "start_time": "2022-01-23T09:06:57.637Z"
   },
   {
    "duration": 34,
    "start_time": "2022-01-23T09:06:57.677Z"
   },
   {
    "duration": 37,
    "start_time": "2022-01-23T09:06:57.713Z"
   },
   {
    "duration": 39,
    "start_time": "2022-01-23T09:06:57.752Z"
   },
   {
    "duration": 32,
    "start_time": "2022-01-23T09:06:57.793Z"
   },
   {
    "duration": 29,
    "start_time": "2022-01-23T09:06:57.827Z"
   },
   {
    "duration": 103,
    "start_time": "2022-01-23T09:06:57.858Z"
   },
   {
    "duration": 110,
    "start_time": "2022-01-23T09:06:57.963Z"
   },
   {
    "duration": 31,
    "start_time": "2022-01-23T09:06:58.075Z"
   },
   {
    "duration": 156,
    "start_time": "2022-01-23T09:06:58.109Z"
   },
   {
    "duration": 50,
    "start_time": "2022-01-23T09:06:58.266Z"
   },
   {
    "duration": 147,
    "start_time": "2022-01-23T09:06:58.318Z"
   },
   {
    "duration": 33,
    "start_time": "2022-01-23T09:06:58.468Z"
   },
   {
    "duration": 31,
    "start_time": "2022-01-23T09:06:58.503Z"
   },
   {
    "duration": 41,
    "start_time": "2022-01-23T09:06:58.535Z"
   },
   {
    "duration": 28,
    "start_time": "2022-01-23T09:06:58.578Z"
   },
   {
    "duration": 32,
    "start_time": "2022-01-23T09:06:58.608Z"
   },
   {
    "duration": 37,
    "start_time": "2022-01-23T09:06:58.642Z"
   },
   {
    "duration": 24,
    "start_time": "2022-01-23T09:06:58.681Z"
   },
   {
    "duration": 30,
    "start_time": "2022-01-23T09:06:58.707Z"
   },
   {
    "duration": 48,
    "start_time": "2022-01-23T09:06:58.738Z"
   },
   {
    "duration": 24,
    "start_time": "2022-01-23T09:06:58.788Z"
   },
   {
    "duration": 693,
    "start_time": "2022-01-23T09:06:58.814Z"
   },
   {
    "duration": 3,
    "start_time": "2022-01-23T09:07:16.250Z"
   },
   {
    "duration": 420,
    "start_time": "2022-01-23T09:07:16.255Z"
   },
   {
    "duration": 10,
    "start_time": "2022-01-23T09:07:16.678Z"
   },
   {
    "duration": 23,
    "start_time": "2022-01-23T09:07:16.690Z"
   },
   {
    "duration": 21,
    "start_time": "2022-01-23T09:07:16.716Z"
   },
   {
    "duration": 15,
    "start_time": "2022-01-23T09:07:16.739Z"
   },
   {
    "duration": 28,
    "start_time": "2022-01-23T09:07:16.760Z"
   },
   {
    "duration": 11,
    "start_time": "2022-01-23T09:07:16.790Z"
   },
   {
    "duration": 75,
    "start_time": "2022-01-23T09:07:16.805Z"
   },
   {
    "duration": 106,
    "start_time": "2022-01-23T09:07:16.883Z"
   },
   {
    "duration": 22,
    "start_time": "2022-01-23T09:07:16.992Z"
   },
   {
    "duration": 75,
    "start_time": "2022-01-23T09:07:17.016Z"
   },
   {
    "duration": 54,
    "start_time": "2022-01-23T09:07:17.094Z"
   },
   {
    "duration": 26,
    "start_time": "2022-01-23T09:07:17.150Z"
   },
   {
    "duration": 18,
    "start_time": "2022-01-23T09:07:17.177Z"
   },
   {
    "duration": 20,
    "start_time": "2022-01-23T09:07:17.197Z"
   },
   {
    "duration": 17,
    "start_time": "2022-01-23T09:07:17.218Z"
   },
   {
    "duration": 35,
    "start_time": "2022-01-23T09:07:17.236Z"
   },
   {
    "duration": 30,
    "start_time": "2022-01-23T09:07:17.272Z"
   },
   {
    "duration": 19,
    "start_time": "2022-01-23T09:07:17.303Z"
   },
   {
    "duration": 31,
    "start_time": "2022-01-23T09:07:17.323Z"
   },
   {
    "duration": 29,
    "start_time": "2022-01-23T09:07:17.356Z"
   },
   {
    "duration": 27,
    "start_time": "2022-01-23T09:07:17.387Z"
   },
   {
    "duration": 35,
    "start_time": "2022-01-23T09:07:17.416Z"
   },
   {
    "duration": 35,
    "start_time": "2022-01-23T09:07:17.453Z"
   },
   {
    "duration": 47,
    "start_time": "2022-01-23T09:07:17.490Z"
   },
   {
    "duration": 50,
    "start_time": "2022-01-23T09:07:17.541Z"
   },
   {
    "duration": 28,
    "start_time": "2022-01-23T09:07:17.593Z"
   },
   {
    "duration": 60,
    "start_time": "2022-01-23T09:07:17.623Z"
   },
   {
    "duration": 44,
    "start_time": "2022-01-23T09:07:17.685Z"
   },
   {
    "duration": 34,
    "start_time": "2022-01-23T09:07:17.731Z"
   },
   {
    "duration": 98,
    "start_time": "2022-01-23T09:07:17.767Z"
   },
   {
    "duration": 97,
    "start_time": "2022-01-23T09:07:17.868Z"
   },
   {
    "duration": 42,
    "start_time": "2022-01-23T09:07:17.967Z"
   },
   {
    "duration": 60,
    "start_time": "2022-01-23T09:07:18.011Z"
   },
   {
    "duration": 39,
    "start_time": "2022-01-23T09:07:18.162Z"
   },
   {
    "duration": 137,
    "start_time": "2022-01-23T09:07:18.262Z"
   },
   {
    "duration": 13,
    "start_time": "2022-01-23T09:07:18.401Z"
   },
   {
    "duration": 25,
    "start_time": "2022-01-23T09:07:18.416Z"
   },
   {
    "duration": 26,
    "start_time": "2022-01-23T09:07:18.443Z"
   },
   {
    "duration": 42,
    "start_time": "2022-01-23T09:07:18.471Z"
   },
   {
    "duration": 27,
    "start_time": "2022-01-23T09:07:18.514Z"
   },
   {
    "duration": 34,
    "start_time": "2022-01-23T09:07:18.542Z"
   },
   {
    "duration": 20,
    "start_time": "2022-01-23T09:07:18.578Z"
   },
   {
    "duration": 21,
    "start_time": "2022-01-23T09:07:18.600Z"
   },
   {
    "duration": 33,
    "start_time": "2022-01-23T09:07:18.622Z"
   },
   {
    "duration": 29,
    "start_time": "2022-01-23T09:07:18.656Z"
   },
   {
    "duration": 1606,
    "start_time": "2022-01-23T09:07:18.687Z"
   },
   {
    "duration": 4,
    "start_time": "2022-01-23T09:07:35.422Z"
   },
   {
    "duration": 412,
    "start_time": "2022-01-23T09:07:35.429Z"
   },
   {
    "duration": 18,
    "start_time": "2022-01-23T09:07:35.843Z"
   },
   {
    "duration": 9,
    "start_time": "2022-01-23T09:07:35.862Z"
   },
   {
    "duration": 14,
    "start_time": "2022-01-23T09:07:35.873Z"
   },
   {
    "duration": 8,
    "start_time": "2022-01-23T09:07:35.889Z"
   },
   {
    "duration": 12,
    "start_time": "2022-01-23T09:07:35.899Z"
   },
   {
    "duration": 7,
    "start_time": "2022-01-23T09:07:35.913Z"
   },
   {
    "duration": 72,
    "start_time": "2022-01-23T09:07:35.923Z"
   },
   {
    "duration": 72,
    "start_time": "2022-01-23T09:07:35.998Z"
   },
   {
    "duration": 14,
    "start_time": "2022-01-23T09:07:36.072Z"
   },
   {
    "duration": 42,
    "start_time": "2022-01-23T09:07:36.088Z"
   },
   {
    "duration": 63,
    "start_time": "2022-01-23T09:07:36.131Z"
   },
   {
    "duration": 15,
    "start_time": "2022-01-23T09:07:36.196Z"
   },
   {
    "duration": 41,
    "start_time": "2022-01-23T09:07:36.213Z"
   },
   {
    "duration": 14,
    "start_time": "2022-01-23T09:07:36.256Z"
   },
   {
    "duration": 38,
    "start_time": "2022-01-23T09:07:36.271Z"
   },
   {
    "duration": 30,
    "start_time": "2022-01-23T09:07:36.310Z"
   },
   {
    "duration": 46,
    "start_time": "2022-01-23T09:07:36.342Z"
   },
   {
    "duration": 20,
    "start_time": "2022-01-23T09:07:36.390Z"
   },
   {
    "duration": 43,
    "start_time": "2022-01-23T09:07:36.411Z"
   },
   {
    "duration": 38,
    "start_time": "2022-01-23T09:07:36.456Z"
   },
   {
    "duration": 24,
    "start_time": "2022-01-23T09:07:36.496Z"
   },
   {
    "duration": 34,
    "start_time": "2022-01-23T09:07:36.522Z"
   },
   {
    "duration": 44,
    "start_time": "2022-01-23T09:07:36.559Z"
   },
   {
    "duration": 39,
    "start_time": "2022-01-23T09:07:36.605Z"
   },
   {
    "duration": 23,
    "start_time": "2022-01-23T09:07:36.648Z"
   },
   {
    "duration": 17,
    "start_time": "2022-01-23T09:07:36.674Z"
   },
   {
    "duration": 29,
    "start_time": "2022-01-23T09:07:36.693Z"
   },
   {
    "duration": 39,
    "start_time": "2022-01-23T09:07:36.724Z"
   },
   {
    "duration": 19,
    "start_time": "2022-01-23T09:07:36.765Z"
   },
   {
    "duration": 176,
    "start_time": "2022-01-23T09:07:36.786Z"
   },
   {
    "duration": 12,
    "start_time": "2022-01-23T09:07:36.964Z"
   },
   {
    "duration": 35,
    "start_time": "2022-01-23T09:07:36.977Z"
   },
   {
    "duration": 103,
    "start_time": "2022-01-23T09:07:37.061Z"
   },
   {
    "duration": 19,
    "start_time": "2022-01-23T09:07:37.166Z"
   },
   {
    "duration": 103,
    "start_time": "2022-01-23T09:07:37.264Z"
   },
   {
    "duration": 9,
    "start_time": "2022-01-23T09:07:37.369Z"
   },
   {
    "duration": 14,
    "start_time": "2022-01-23T09:07:37.380Z"
   },
   {
    "duration": 35,
    "start_time": "2022-01-23T09:07:37.396Z"
   },
   {
    "duration": 11,
    "start_time": "2022-01-23T09:07:37.433Z"
   },
   {
    "duration": 19,
    "start_time": "2022-01-23T09:07:37.445Z"
   },
   {
    "duration": 22,
    "start_time": "2022-01-23T09:07:37.466Z"
   },
   {
    "duration": 16,
    "start_time": "2022-01-23T09:07:37.489Z"
   },
   {
    "duration": 25,
    "start_time": "2022-01-23T09:07:37.507Z"
   },
   {
    "duration": 36,
    "start_time": "2022-01-23T09:07:37.534Z"
   },
   {
    "duration": 12,
    "start_time": "2022-01-23T09:07:37.572Z"
   },
   {
    "duration": 527,
    "start_time": "2022-01-23T09:07:37.586Z"
   },
   {
    "duration": 4,
    "start_time": "2022-01-23T09:10:43.342Z"
   },
   {
    "duration": 540,
    "start_time": "2022-01-23T09:10:45.700Z"
   },
   {
    "duration": 3,
    "start_time": "2022-01-23T09:11:16.932Z"
   },
   {
    "duration": 448,
    "start_time": "2022-01-23T09:11:16.937Z"
   },
   {
    "duration": 12,
    "start_time": "2022-01-23T09:11:17.388Z"
   },
   {
    "duration": 37,
    "start_time": "2022-01-23T09:11:17.402Z"
   },
   {
    "duration": 34,
    "start_time": "2022-01-23T09:11:17.441Z"
   },
   {
    "duration": 29,
    "start_time": "2022-01-23T09:11:17.477Z"
   },
   {
    "duration": 58,
    "start_time": "2022-01-23T09:11:17.508Z"
   },
   {
    "duration": 32,
    "start_time": "2022-01-23T09:11:17.568Z"
   },
   {
    "duration": 96,
    "start_time": "2022-01-23T09:11:17.603Z"
   },
   {
    "duration": 68,
    "start_time": "2022-01-23T09:11:17.702Z"
   },
   {
    "duration": 40,
    "start_time": "2022-01-23T09:11:17.772Z"
   },
   {
    "duration": 75,
    "start_time": "2022-01-23T09:11:17.814Z"
   },
   {
    "duration": 49,
    "start_time": "2022-01-23T09:11:17.891Z"
   },
   {
    "duration": 27,
    "start_time": "2022-01-23T09:11:17.943Z"
   },
   {
    "duration": 28,
    "start_time": "2022-01-23T09:11:17.972Z"
   },
   {
    "duration": 45,
    "start_time": "2022-01-23T09:11:18.002Z"
   },
   {
    "duration": 34,
    "start_time": "2022-01-23T09:11:18.049Z"
   },
   {
    "duration": 35,
    "start_time": "2022-01-23T09:11:18.085Z"
   },
   {
    "duration": 37,
    "start_time": "2022-01-23T09:11:18.122Z"
   },
   {
    "duration": 29,
    "start_time": "2022-01-23T09:11:18.161Z"
   },
   {
    "duration": 35,
    "start_time": "2022-01-23T09:11:18.191Z"
   },
   {
    "duration": 18,
    "start_time": "2022-01-23T09:11:18.228Z"
   },
   {
    "duration": 27,
    "start_time": "2022-01-23T09:11:18.248Z"
   },
   {
    "duration": 29,
    "start_time": "2022-01-23T09:11:18.279Z"
   },
   {
    "duration": 27,
    "start_time": "2022-01-23T09:11:18.310Z"
   },
   {
    "duration": 51,
    "start_time": "2022-01-23T09:11:18.339Z"
   },
   {
    "duration": 27,
    "start_time": "2022-01-23T09:11:18.393Z"
   },
   {
    "duration": 30,
    "start_time": "2022-01-23T09:11:18.422Z"
   },
   {
    "duration": 58,
    "start_time": "2022-01-23T09:11:18.454Z"
   },
   {
    "duration": 22,
    "start_time": "2022-01-23T09:11:18.514Z"
   },
   {
    "duration": 18,
    "start_time": "2022-01-23T09:11:18.538Z"
   },
   {
    "duration": 106,
    "start_time": "2022-01-23T09:11:18.557Z"
   },
   {
    "duration": 119,
    "start_time": "2022-01-23T09:11:18.664Z"
   },
   {
    "duration": 33,
    "start_time": "2022-01-23T09:11:18.785Z"
   },
   {
    "duration": 146,
    "start_time": "2022-01-23T09:11:18.820Z"
   },
   {
    "duration": 36,
    "start_time": "2022-01-23T09:11:18.976Z"
   },
   {
    "duration": 95,
    "start_time": "2022-01-23T09:11:19.067Z"
   },
   {
    "duration": 6,
    "start_time": "2022-01-23T09:11:19.164Z"
   },
   {
    "duration": 31,
    "start_time": "2022-01-23T09:11:19.172Z"
   },
   {
    "duration": 28,
    "start_time": "2022-01-23T09:11:19.205Z"
   },
   {
    "duration": 27,
    "start_time": "2022-01-23T09:11:19.235Z"
   },
   {
    "duration": 34,
    "start_time": "2022-01-23T09:11:19.264Z"
   },
   {
    "duration": 20,
    "start_time": "2022-01-23T09:11:19.300Z"
   },
   {
    "duration": 31,
    "start_time": "2022-01-23T09:11:19.322Z"
   },
   {
    "duration": 22,
    "start_time": "2022-01-23T09:11:19.356Z"
   },
   {
    "duration": 29,
    "start_time": "2022-01-23T09:11:19.381Z"
   },
   {
    "duration": 14,
    "start_time": "2022-01-23T09:11:19.412Z"
   },
   {
    "duration": 536,
    "start_time": "2022-01-23T09:11:19.428Z"
   },
   {
    "duration": 3,
    "start_time": "2022-01-23T09:11:53.864Z"
   },
   {
    "duration": 425,
    "start_time": "2022-01-23T09:11:53.869Z"
   },
   {
    "duration": 11,
    "start_time": "2022-01-23T09:11:54.296Z"
   },
   {
    "duration": 18,
    "start_time": "2022-01-23T09:11:54.309Z"
   },
   {
    "duration": 46,
    "start_time": "2022-01-23T09:11:54.329Z"
   },
   {
    "duration": 39,
    "start_time": "2022-01-23T09:11:54.377Z"
   },
   {
    "duration": 42,
    "start_time": "2022-01-23T09:11:54.418Z"
   },
   {
    "duration": 43,
    "start_time": "2022-01-23T09:11:54.462Z"
   },
   {
    "duration": 72,
    "start_time": "2022-01-23T09:11:54.509Z"
   },
   {
    "duration": 61,
    "start_time": "2022-01-23T09:11:54.584Z"
   },
   {
    "duration": 16,
    "start_time": "2022-01-23T09:11:54.661Z"
   },
   {
    "duration": 76,
    "start_time": "2022-01-23T09:11:54.679Z"
   },
   {
    "duration": 40,
    "start_time": "2022-01-23T09:11:54.757Z"
   },
   {
    "duration": 14,
    "start_time": "2022-01-23T09:11:54.798Z"
   },
   {
    "duration": 52,
    "start_time": "2022-01-23T09:11:54.814Z"
   },
   {
    "duration": 29,
    "start_time": "2022-01-23T09:11:54.868Z"
   },
   {
    "duration": 30,
    "start_time": "2022-01-23T09:11:54.899Z"
   },
   {
    "duration": 46,
    "start_time": "2022-01-23T09:11:54.931Z"
   },
   {
    "duration": 26,
    "start_time": "2022-01-23T09:11:54.979Z"
   },
   {
    "duration": 44,
    "start_time": "2022-01-23T09:11:55.007Z"
   },
   {
    "duration": 40,
    "start_time": "2022-01-23T09:11:55.053Z"
   },
   {
    "duration": 41,
    "start_time": "2022-01-23T09:11:55.096Z"
   },
   {
    "duration": 37,
    "start_time": "2022-01-23T09:11:55.139Z"
   },
   {
    "duration": 24,
    "start_time": "2022-01-23T09:11:55.178Z"
   },
   {
    "duration": 40,
    "start_time": "2022-01-23T09:11:55.204Z"
   },
   {
    "duration": 44,
    "start_time": "2022-01-23T09:11:55.246Z"
   },
   {
    "duration": 36,
    "start_time": "2022-01-23T09:11:55.294Z"
   },
   {
    "duration": 32,
    "start_time": "2022-01-23T09:11:55.333Z"
   },
   {
    "duration": 53,
    "start_time": "2022-01-23T09:11:55.367Z"
   },
   {
    "duration": 17,
    "start_time": "2022-01-23T09:11:55.422Z"
   },
   {
    "duration": 32,
    "start_time": "2022-01-23T09:11:55.441Z"
   },
   {
    "duration": 90,
    "start_time": "2022-01-23T09:11:55.475Z"
   },
   {
    "duration": 114,
    "start_time": "2022-01-23T09:11:55.567Z"
   },
   {
    "duration": 49,
    "start_time": "2022-01-23T09:11:55.683Z"
   },
   {
    "duration": 131,
    "start_time": "2022-01-23T09:11:55.735Z"
   },
   {
    "duration": 31,
    "start_time": "2022-01-23T09:11:55.868Z"
   },
   {
    "duration": 102,
    "start_time": "2022-01-23T09:11:55.962Z"
   },
   {
    "duration": 5,
    "start_time": "2022-01-23T09:11:56.066Z"
   },
   {
    "duration": 22,
    "start_time": "2022-01-23T09:11:56.073Z"
   },
   {
    "duration": 21,
    "start_time": "2022-01-23T09:11:56.097Z"
   },
   {
    "duration": 18,
    "start_time": "2022-01-23T09:11:56.119Z"
   },
   {
    "duration": 19,
    "start_time": "2022-01-23T09:11:56.138Z"
   },
   {
    "duration": 13,
    "start_time": "2022-01-23T09:11:56.159Z"
   },
   {
    "duration": 24,
    "start_time": "2022-01-23T09:11:56.173Z"
   },
   {
    "duration": 33,
    "start_time": "2022-01-23T09:11:56.199Z"
   },
   {
    "duration": 17,
    "start_time": "2022-01-23T09:11:56.234Z"
   },
   {
    "duration": 21,
    "start_time": "2022-01-23T09:11:56.253Z"
   },
   {
    "duration": 531,
    "start_time": "2022-01-23T09:11:56.275Z"
   },
   {
    "duration": 4,
    "start_time": "2022-01-23T09:12:19.406Z"
   },
   {
    "duration": 419,
    "start_time": "2022-01-23T09:12:19.412Z"
   },
   {
    "duration": 10,
    "start_time": "2022-01-23T09:12:19.834Z"
   },
   {
    "duration": 24,
    "start_time": "2022-01-23T09:12:19.846Z"
   },
   {
    "duration": 40,
    "start_time": "2022-01-23T09:12:19.872Z"
   },
   {
    "duration": 28,
    "start_time": "2022-01-23T09:12:19.914Z"
   },
   {
    "duration": 39,
    "start_time": "2022-01-23T09:12:19.943Z"
   },
   {
    "duration": 29,
    "start_time": "2022-01-23T09:12:19.984Z"
   },
   {
    "duration": 81,
    "start_time": "2022-01-23T09:12:20.017Z"
   },
   {
    "duration": 67,
    "start_time": "2022-01-23T09:12:20.101Z"
   },
   {
    "duration": 25,
    "start_time": "2022-01-23T09:12:20.170Z"
   },
   {
    "duration": 64,
    "start_time": "2022-01-23T09:12:20.197Z"
   },
   {
    "duration": 39,
    "start_time": "2022-01-23T09:12:20.262Z"
   },
   {
    "duration": 13,
    "start_time": "2022-01-23T09:12:20.302Z"
   },
   {
    "duration": 37,
    "start_time": "2022-01-23T09:12:20.316Z"
   },
   {
    "duration": 28,
    "start_time": "2022-01-23T09:12:20.355Z"
   },
   {
    "duration": 32,
    "start_time": "2022-01-23T09:12:20.385Z"
   },
   {
    "duration": 35,
    "start_time": "2022-01-23T09:12:20.419Z"
   },
   {
    "duration": 34,
    "start_time": "2022-01-23T09:12:20.455Z"
   },
   {
    "duration": 38,
    "start_time": "2022-01-23T09:12:20.491Z"
   },
   {
    "duration": 42,
    "start_time": "2022-01-23T09:12:20.531Z"
   },
   {
    "duration": 44,
    "start_time": "2022-01-23T09:12:20.576Z"
   },
   {
    "duration": 38,
    "start_time": "2022-01-23T09:12:20.621Z"
   },
   {
    "duration": 38,
    "start_time": "2022-01-23T09:12:20.661Z"
   },
   {
    "duration": 36,
    "start_time": "2022-01-23T09:12:20.701Z"
   },
   {
    "duration": 41,
    "start_time": "2022-01-23T09:12:20.739Z"
   },
   {
    "duration": 45,
    "start_time": "2022-01-23T09:12:20.784Z"
   },
   {
    "duration": 40,
    "start_time": "2022-01-23T09:12:20.831Z"
   },
   {
    "duration": 46,
    "start_time": "2022-01-23T09:12:20.873Z"
   },
   {
    "duration": 32,
    "start_time": "2022-01-23T09:12:20.921Z"
   },
   {
    "duration": 47,
    "start_time": "2022-01-23T09:12:20.955Z"
   },
   {
    "duration": 67,
    "start_time": "2022-01-23T09:12:21.004Z"
   },
   {
    "duration": 200,
    "start_time": "2022-01-23T09:12:21.073Z"
   },
   {
    "duration": 39,
    "start_time": "2022-01-23T09:12:21.275Z"
   },
   {
    "duration": 149,
    "start_time": "2022-01-23T09:12:21.316Z"
   },
   {
    "duration": 44,
    "start_time": "2022-01-23T09:12:21.467Z"
   },
   {
    "duration": 101,
    "start_time": "2022-01-23T09:12:21.561Z"
   },
   {
    "duration": 5,
    "start_time": "2022-01-23T09:12:21.664Z"
   },
   {
    "duration": 22,
    "start_time": "2022-01-23T09:12:21.671Z"
   },
   {
    "duration": 54,
    "start_time": "2022-01-23T09:12:21.695Z"
   },
   {
    "duration": 36,
    "start_time": "2022-01-23T09:12:21.751Z"
   },
   {
    "duration": 24,
    "start_time": "2022-01-23T09:12:21.789Z"
   },
   {
    "duration": 26,
    "start_time": "2022-01-23T09:12:21.815Z"
   },
   {
    "duration": 31,
    "start_time": "2022-01-23T09:12:21.843Z"
   },
   {
    "duration": 9,
    "start_time": "2022-01-23T09:12:21.876Z"
   },
   {
    "duration": 11,
    "start_time": "2022-01-23T09:12:21.887Z"
   },
   {
    "duration": 5,
    "start_time": "2022-01-23T09:12:21.900Z"
   },
   {
    "duration": 530,
    "start_time": "2022-01-23T09:12:21.906Z"
   },
   {
    "duration": 5,
    "start_time": "2022-01-23T09:12:58.616Z"
   },
   {
    "duration": 7,
    "start_time": "2022-01-23T09:14:01.766Z"
   },
   {
    "duration": 3,
    "start_time": "2022-01-23T09:14:06.873Z"
   },
   {
    "duration": 411,
    "start_time": "2022-01-23T09:14:06.878Z"
   },
   {
    "duration": 11,
    "start_time": "2022-01-23T09:14:07.291Z"
   },
   {
    "duration": 9,
    "start_time": "2022-01-23T09:14:07.304Z"
   },
   {
    "duration": 12,
    "start_time": "2022-01-23T09:14:07.314Z"
   },
   {
    "duration": 8,
    "start_time": "2022-01-23T09:14:07.327Z"
   },
   {
    "duration": 10,
    "start_time": "2022-01-23T09:14:07.361Z"
   },
   {
    "duration": 7,
    "start_time": "2022-01-23T09:14:07.373Z"
   },
   {
    "duration": 43,
    "start_time": "2022-01-23T09:14:07.383Z"
   },
   {
    "duration": 91,
    "start_time": "2022-01-23T09:14:07.428Z"
   },
   {
    "duration": 14,
    "start_time": "2022-01-23T09:14:07.521Z"
   },
   {
    "duration": 65,
    "start_time": "2022-01-23T09:14:07.536Z"
   },
   {
    "duration": 42,
    "start_time": "2022-01-23T09:14:07.603Z"
   },
   {
    "duration": 21,
    "start_time": "2022-01-23T09:14:07.647Z"
   },
   {
    "duration": 15,
    "start_time": "2022-01-23T09:14:07.670Z"
   },
   {
    "duration": 21,
    "start_time": "2022-01-23T09:14:07.687Z"
   },
   {
    "duration": 16,
    "start_time": "2022-01-23T09:14:07.710Z"
   },
   {
    "duration": 35,
    "start_time": "2022-01-23T09:14:07.728Z"
   },
   {
    "duration": 11,
    "start_time": "2022-01-23T09:14:07.765Z"
   },
   {
    "duration": 12,
    "start_time": "2022-01-23T09:14:07.778Z"
   },
   {
    "duration": 32,
    "start_time": "2022-01-23T09:14:07.792Z"
   },
   {
    "duration": 23,
    "start_time": "2022-01-23T09:14:07.826Z"
   },
   {
    "duration": 32,
    "start_time": "2022-01-23T09:14:07.851Z"
   },
   {
    "duration": 29,
    "start_time": "2022-01-23T09:14:07.885Z"
   },
   {
    "duration": 14,
    "start_time": "2022-01-23T09:14:07.915Z"
   },
   {
    "duration": 44,
    "start_time": "2022-01-23T09:14:07.931Z"
   },
   {
    "duration": 32,
    "start_time": "2022-01-23T09:14:07.979Z"
   },
   {
    "duration": 26,
    "start_time": "2022-01-23T09:14:08.013Z"
   },
   {
    "duration": 22,
    "start_time": "2022-01-23T09:14:08.041Z"
   },
   {
    "duration": 21,
    "start_time": "2022-01-23T09:14:08.064Z"
   },
   {
    "duration": 25,
    "start_time": "2022-01-23T09:14:08.087Z"
   },
   {
    "duration": 149,
    "start_time": "2022-01-23T09:14:08.114Z"
   },
   {
    "duration": 6,
    "start_time": "2022-01-23T09:14:08.264Z"
   },
   {
    "duration": 20,
    "start_time": "2022-01-23T09:14:08.272Z"
   },
   {
    "duration": 99,
    "start_time": "2022-01-23T09:14:08.362Z"
   },
   {
    "duration": 14,
    "start_time": "2022-01-23T09:14:08.463Z"
   },
   {
    "duration": 105,
    "start_time": "2022-01-23T09:14:08.562Z"
   },
   {
    "duration": 8,
    "start_time": "2022-01-23T09:14:08.669Z"
   },
   {
    "duration": 15,
    "start_time": "2022-01-23T09:14:08.678Z"
   },
   {
    "duration": 12,
    "start_time": "2022-01-23T09:14:08.695Z"
   },
   {
    "duration": 6,
    "start_time": "2022-01-23T09:14:08.709Z"
   },
   {
    "duration": 6,
    "start_time": "2022-01-23T09:14:08.717Z"
   },
   {
    "duration": 8,
    "start_time": "2022-01-23T09:14:08.725Z"
   },
   {
    "duration": 8,
    "start_time": "2022-01-23T09:14:08.735Z"
   },
   {
    "duration": 14,
    "start_time": "2022-01-23T09:14:08.744Z"
   },
   {
    "duration": 10,
    "start_time": "2022-01-23T09:14:08.760Z"
   },
   {
    "duration": 5,
    "start_time": "2022-01-23T09:14:08.772Z"
   },
   {
    "duration": 619,
    "start_time": "2022-01-23T09:14:08.779Z"
   },
   {
    "duration": 3,
    "start_time": "2022-01-23T09:17:14.257Z"
   },
   {
    "duration": 466,
    "start_time": "2022-01-23T09:17:14.263Z"
   },
   {
    "duration": 10,
    "start_time": "2022-01-23T09:17:14.731Z"
   },
   {
    "duration": 39,
    "start_time": "2022-01-23T09:17:14.743Z"
   },
   {
    "duration": 68,
    "start_time": "2022-01-23T09:17:14.784Z"
   },
   {
    "duration": 34,
    "start_time": "2022-01-23T09:17:14.854Z"
   },
   {
    "duration": 81,
    "start_time": "2022-01-23T09:17:14.890Z"
   },
   {
    "duration": 26,
    "start_time": "2022-01-23T09:17:14.973Z"
   },
   {
    "duration": 116,
    "start_time": "2022-01-23T09:17:15.002Z"
   },
   {
    "duration": 86,
    "start_time": "2022-01-23T09:17:15.121Z"
   },
   {
    "duration": 14,
    "start_time": "2022-01-23T09:17:15.208Z"
   },
   {
    "duration": 70,
    "start_time": "2022-01-23T09:17:15.224Z"
   },
   {
    "duration": 47,
    "start_time": "2022-01-23T09:17:15.296Z"
   },
   {
    "duration": 22,
    "start_time": "2022-01-23T09:17:15.345Z"
   },
   {
    "duration": 37,
    "start_time": "2022-01-23T09:17:15.368Z"
   },
   {
    "duration": 25,
    "start_time": "2022-01-23T09:17:15.407Z"
   },
   {
    "duration": 50,
    "start_time": "2022-01-23T09:17:15.433Z"
   },
   {
    "duration": 44,
    "start_time": "2022-01-23T09:17:15.485Z"
   },
   {
    "duration": 63,
    "start_time": "2022-01-23T09:17:15.532Z"
   },
   {
    "duration": 69,
    "start_time": "2022-01-23T09:17:15.597Z"
   },
   {
    "duration": 115,
    "start_time": "2022-01-23T09:17:15.668Z"
   },
   {
    "duration": 134,
    "start_time": "2022-01-23T09:17:15.786Z"
   },
   {
    "duration": 102,
    "start_time": "2022-01-23T09:17:15.922Z"
   },
   {
    "duration": 91,
    "start_time": "2022-01-23T09:17:16.027Z"
   },
   {
    "duration": 42,
    "start_time": "2022-01-23T09:17:16.120Z"
   },
   {
    "duration": 46,
    "start_time": "2022-01-23T09:17:16.168Z"
   },
   {
    "duration": 14,
    "start_time": "2022-01-23T09:17:16.217Z"
   },
   {
    "duration": 38,
    "start_time": "2022-01-23T09:17:16.233Z"
   },
   {
    "duration": 53,
    "start_time": "2022-01-23T09:17:16.273Z"
   },
   {
    "duration": 20,
    "start_time": "2022-01-23T09:17:16.328Z"
   },
   {
    "duration": 70,
    "start_time": "2022-01-23T09:17:16.350Z"
   },
   {
    "duration": 47,
    "start_time": "2022-01-23T09:17:16.422Z"
   },
   {
    "duration": 92,
    "start_time": "2022-01-23T09:17:16.475Z"
   },
   {
    "duration": 102,
    "start_time": "2022-01-23T09:17:16.569Z"
   },
   {
    "duration": 90,
    "start_time": "2022-01-23T09:17:16.680Z"
   },
   {
    "duration": 38,
    "start_time": "2022-01-23T09:17:16.772Z"
   },
   {
    "duration": 14,
    "start_time": "2022-01-23T09:17:16.864Z"
   },
   {
    "duration": 87,
    "start_time": "2022-01-23T09:17:16.881Z"
   },
   {
    "duration": 30,
    "start_time": "2022-01-23T09:17:16.975Z"
   },
   {
    "duration": 36,
    "start_time": "2022-01-23T09:17:17.007Z"
   },
   {
    "duration": 15,
    "start_time": "2022-01-23T09:17:17.045Z"
   },
   {
    "duration": 36,
    "start_time": "2022-01-23T09:17:17.065Z"
   },
   {
    "duration": 33,
    "start_time": "2022-01-23T09:17:17.103Z"
   },
   {
    "duration": 44,
    "start_time": "2022-01-23T09:17:17.138Z"
   },
   {
    "duration": 19,
    "start_time": "2022-01-23T09:17:17.184Z"
   },
   {
    "duration": 33,
    "start_time": "2022-01-23T09:17:17.205Z"
   },
   {
    "duration": 58,
    "start_time": "2022-01-23T09:17:17.239Z"
   },
   {
    "duration": 693,
    "start_time": "2022-01-23T09:17:17.299Z"
   },
   {
    "duration": 5,
    "start_time": "2022-01-23T09:17:38.412Z"
   },
   {
    "duration": 7,
    "start_time": "2022-01-23T09:18:22.910Z"
   },
   {
    "duration": 1340,
    "start_time": "2022-01-23T12:50:29.581Z"
   },
   {
    "duration": 980,
    "start_time": "2022-01-23T12:50:30.924Z"
   },
   {
    "duration": 15,
    "start_time": "2022-01-23T12:50:31.907Z"
   },
   {
    "duration": 39,
    "start_time": "2022-01-23T12:50:31.925Z"
   },
   {
    "duration": 14,
    "start_time": "2022-01-23T12:50:31.967Z"
   },
   {
    "duration": 12,
    "start_time": "2022-01-23T12:50:31.983Z"
   },
   {
    "duration": 20,
    "start_time": "2022-01-23T12:50:31.998Z"
   },
   {
    "duration": 44,
    "start_time": "2022-01-23T12:50:32.021Z"
   },
   {
    "duration": 65,
    "start_time": "2022-01-23T12:50:32.069Z"
   },
   {
    "duration": 82,
    "start_time": "2022-01-23T12:50:32.137Z"
   },
   {
    "duration": 45,
    "start_time": "2022-01-23T12:50:32.222Z"
   },
   {
    "duration": 64,
    "start_time": "2022-01-23T12:50:32.270Z"
   },
   {
    "duration": 84,
    "start_time": "2022-01-23T12:50:32.337Z"
   },
   {
    "duration": 15,
    "start_time": "2022-01-23T12:50:32.424Z"
   },
   {
    "duration": 35,
    "start_time": "2022-01-23T12:50:32.441Z"
   },
   {
    "duration": 17,
    "start_time": "2022-01-23T12:50:32.478Z"
   },
   {
    "duration": 16,
    "start_time": "2022-01-23T12:50:32.497Z"
   },
   {
    "duration": 50,
    "start_time": "2022-01-23T12:50:32.516Z"
   },
   {
    "duration": 14,
    "start_time": "2022-01-23T12:50:32.569Z"
   },
   {
    "duration": 16,
    "start_time": "2022-01-23T12:50:32.585Z"
   },
   {
    "duration": 11,
    "start_time": "2022-01-23T12:50:32.603Z"
   },
   {
    "duration": 11,
    "start_time": "2022-01-23T12:50:32.617Z"
   },
   {
    "duration": 45,
    "start_time": "2022-01-23T12:50:32.634Z"
   },
   {
    "duration": 25,
    "start_time": "2022-01-23T12:50:32.684Z"
   },
   {
    "duration": 26,
    "start_time": "2022-01-23T12:50:32.713Z"
   },
   {
    "duration": 71,
    "start_time": "2022-01-23T12:50:32.742Z"
   },
   {
    "duration": 57,
    "start_time": "2022-01-23T12:50:32.816Z"
   },
   {
    "duration": 28,
    "start_time": "2022-01-23T12:50:32.876Z"
   },
   {
    "duration": 70,
    "start_time": "2022-01-23T12:50:32.907Z"
   },
   {
    "duration": 93,
    "start_time": "2022-01-23T12:50:32.980Z"
   },
   {
    "duration": 102,
    "start_time": "2022-01-23T12:50:33.076Z"
   },
   {
    "duration": 12,
    "start_time": "2022-01-23T12:50:33.266Z"
   },
   {
    "duration": 88,
    "start_time": "2022-01-23T12:50:33.282Z"
   },
   {
    "duration": 96,
    "start_time": "2022-01-23T12:50:33.373Z"
   },
   {
    "duration": 8,
    "start_time": "2022-01-23T12:50:33.471Z"
   },
   {
    "duration": 7,
    "start_time": "2022-01-23T12:50:33.482Z"
   },
   {
    "duration": 16,
    "start_time": "2022-01-23T12:50:33.492Z"
   },
   {
    "duration": 11,
    "start_time": "2022-01-23T12:50:33.510Z"
   },
   {
    "duration": 41,
    "start_time": "2022-01-23T12:50:33.524Z"
   },
   {
    "duration": 3,
    "start_time": "2022-01-23T12:50:33.568Z"
   },
   {
    "duration": 8,
    "start_time": "2022-01-23T12:50:33.574Z"
   },
   {
    "duration": 16,
    "start_time": "2022-01-23T12:50:33.585Z"
   },
   {
    "duration": 8,
    "start_time": "2022-01-23T12:50:33.604Z"
   },
   {
    "duration": 5,
    "start_time": "2022-01-23T12:50:33.615Z"
   },
   {
    "duration": 733,
    "start_time": "2022-01-23T12:50:33.622Z"
   },
   {
    "duration": 5,
    "start_time": "2022-01-23T12:56:21.825Z"
   },
   {
    "duration": 5,
    "start_time": "2022-01-23T12:56:28.790Z"
   },
   {
    "duration": 6,
    "start_time": "2022-01-23T12:59:02.977Z"
   },
   {
    "duration": 5,
    "start_time": "2022-01-23T13:20:21.394Z"
   },
   {
    "duration": 474,
    "start_time": "2022-01-23T13:20:21.402Z"
   },
   {
    "duration": 19,
    "start_time": "2022-01-23T13:20:21.879Z"
   },
   {
    "duration": 12,
    "start_time": "2022-01-23T13:20:21.900Z"
   },
   {
    "duration": 21,
    "start_time": "2022-01-23T13:20:21.914Z"
   },
   {
    "duration": 11,
    "start_time": "2022-01-23T13:20:21.966Z"
   },
   {
    "duration": 20,
    "start_time": "2022-01-23T13:20:21.980Z"
   },
   {
    "duration": 17,
    "start_time": "2022-01-23T13:20:22.004Z"
   },
   {
    "duration": 97,
    "start_time": "2022-01-23T13:20:22.025Z"
   },
   {
    "duration": 73,
    "start_time": "2022-01-23T13:20:22.124Z"
   },
   {
    "duration": 19,
    "start_time": "2022-01-23T13:20:22.200Z"
   },
   {
    "duration": 84,
    "start_time": "2022-01-23T13:20:22.221Z"
   },
   {
    "duration": 80,
    "start_time": "2022-01-23T13:20:22.307Z"
   },
   {
    "duration": 14,
    "start_time": "2022-01-23T13:20:22.390Z"
   },
   {
    "duration": 21,
    "start_time": "2022-01-23T13:20:22.407Z"
   },
   {
    "duration": 40,
    "start_time": "2022-01-23T13:20:22.431Z"
   },
   {
    "duration": 15,
    "start_time": "2022-01-23T13:20:22.473Z"
   },
   {
    "duration": 36,
    "start_time": "2022-01-23T13:20:22.491Z"
   },
   {
    "duration": 16,
    "start_time": "2022-01-23T13:20:22.530Z"
   },
   {
    "duration": 20,
    "start_time": "2022-01-23T13:20:22.549Z"
   },
   {
    "duration": 9,
    "start_time": "2022-01-23T13:20:22.572Z"
   },
   {
    "duration": 11,
    "start_time": "2022-01-23T13:20:22.583Z"
   },
   {
    "duration": 20,
    "start_time": "2022-01-23T13:20:22.600Z"
   },
   {
    "duration": 51,
    "start_time": "2022-01-23T13:20:22.624Z"
   },
   {
    "duration": 17,
    "start_time": "2022-01-23T13:20:22.677Z"
   },
   {
    "duration": 28,
    "start_time": "2022-01-23T13:20:22.697Z"
   },
   {
    "duration": 48,
    "start_time": "2022-01-23T13:20:22.727Z"
   },
   {
    "duration": 20,
    "start_time": "2022-01-23T13:20:22.778Z"
   },
   {
    "duration": 71,
    "start_time": "2022-01-23T13:20:22.801Z"
   },
   {
    "duration": 94,
    "start_time": "2022-01-23T13:20:22.876Z"
   },
   {
    "duration": 21,
    "start_time": "2022-01-23T13:20:22.975Z"
   },
   {
    "duration": 172,
    "start_time": "2022-01-23T13:20:22.999Z"
   },
   {
    "duration": 94,
    "start_time": "2022-01-23T13:20:23.175Z"
   },
   {
    "duration": 95,
    "start_time": "2022-01-23T13:20:23.273Z"
   },
   {
    "duration": 7,
    "start_time": "2022-01-23T13:20:23.371Z"
   },
   {
    "duration": 7,
    "start_time": "2022-01-23T13:20:23.381Z"
   },
   {
    "duration": 13,
    "start_time": "2022-01-23T13:20:23.390Z"
   },
   {
    "duration": 9,
    "start_time": "2022-01-23T13:20:23.405Z"
   },
   {
    "duration": 54,
    "start_time": "2022-01-23T13:20:23.417Z"
   },
   {
    "duration": 14,
    "start_time": "2022-01-23T13:20:23.474Z"
   },
   {
    "duration": 7,
    "start_time": "2022-01-23T13:20:23.491Z"
   },
   {
    "duration": 23,
    "start_time": "2022-01-23T13:20:23.502Z"
   },
   {
    "duration": 6,
    "start_time": "2022-01-23T13:20:39.971Z"
   },
   {
    "duration": 748,
    "start_time": "2022-01-23T13:20:39.980Z"
   },
   {
    "duration": 13,
    "start_time": "2022-01-23T13:20:40.732Z"
   },
   {
    "duration": 27,
    "start_time": "2022-01-23T13:20:40.748Z"
   },
   {
    "duration": 18,
    "start_time": "2022-01-23T13:20:40.777Z"
   },
   {
    "duration": 12,
    "start_time": "2022-01-23T13:20:40.798Z"
   },
   {
    "duration": 60,
    "start_time": "2022-01-23T13:20:40.813Z"
   },
   {
    "duration": 14,
    "start_time": "2022-01-23T13:20:40.877Z"
   },
   {
    "duration": 104,
    "start_time": "2022-01-23T13:20:40.894Z"
   },
   {
    "duration": 130,
    "start_time": "2022-01-23T13:20:41.002Z"
   },
   {
    "duration": 46,
    "start_time": "2022-01-23T13:20:41.135Z"
   },
   {
    "duration": 101,
    "start_time": "2022-01-23T13:20:41.185Z"
   },
   {
    "duration": 109,
    "start_time": "2022-01-23T13:20:41.290Z"
   },
   {
    "duration": 20,
    "start_time": "2022-01-23T13:20:41.403Z"
   },
   {
    "duration": 44,
    "start_time": "2022-01-23T13:20:41.426Z"
   },
   {
    "duration": 21,
    "start_time": "2022-01-23T13:20:41.474Z"
   },
   {
    "duration": 22,
    "start_time": "2022-01-23T13:20:41.498Z"
   },
   {
    "duration": 56,
    "start_time": "2022-01-23T13:20:41.524Z"
   },
   {
    "duration": 21,
    "start_time": "2022-01-23T13:20:41.583Z"
   },
   {
    "duration": 9,
    "start_time": "2022-01-23T13:20:41.606Z"
   },
   {
    "duration": 17,
    "start_time": "2022-01-23T13:20:41.618Z"
   },
   {
    "duration": 32,
    "start_time": "2022-01-23T13:20:41.638Z"
   },
   {
    "duration": 18,
    "start_time": "2022-01-23T13:20:41.678Z"
   },
   {
    "duration": 19,
    "start_time": "2022-01-23T13:20:41.699Z"
   },
   {
    "duration": 60,
    "start_time": "2022-01-23T13:20:41.721Z"
   },
   {
    "duration": 31,
    "start_time": "2022-01-23T13:20:41.784Z"
   },
   {
    "duration": 51,
    "start_time": "2022-01-23T13:20:41.819Z"
   },
   {
    "duration": 21,
    "start_time": "2022-01-23T13:20:41.872Z"
   },
   {
    "duration": 80,
    "start_time": "2022-01-23T13:20:41.895Z"
   },
   {
    "duration": 11,
    "start_time": "2022-01-23T13:20:42.068Z"
   },
   {
    "duration": 84,
    "start_time": "2022-01-23T13:20:42.082Z"
   },
   {
    "duration": 95,
    "start_time": "2022-01-23T13:20:42.171Z"
   },
   {
    "duration": 99,
    "start_time": "2022-01-23T13:20:42.268Z"
   },
   {
    "duration": 97,
    "start_time": "2022-01-23T13:20:42.370Z"
   },
   {
    "duration": 7,
    "start_time": "2022-01-23T13:20:42.470Z"
   },
   {
    "duration": 11,
    "start_time": "2022-01-23T13:20:42.480Z"
   },
   {
    "duration": 11,
    "start_time": "2022-01-23T13:20:42.493Z"
   },
   {
    "duration": 6,
    "start_time": "2022-01-23T13:20:42.507Z"
   },
   {
    "duration": 51,
    "start_time": "2022-01-23T13:20:42.516Z"
   },
   {
    "duration": 11,
    "start_time": "2022-01-23T13:20:42.569Z"
   },
   {
    "duration": 6,
    "start_time": "2022-01-23T13:20:42.583Z"
   },
   {
    "duration": 12,
    "start_time": "2022-01-23T13:20:42.591Z"
   },
   {
    "duration": 6,
    "start_time": "2022-01-23T13:21:24.843Z"
   },
   {
    "duration": 514,
    "start_time": "2022-01-23T13:21:24.852Z"
   },
   {
    "duration": 20,
    "start_time": "2022-01-23T13:21:25.369Z"
   },
   {
    "duration": 15,
    "start_time": "2022-01-23T13:21:25.391Z"
   },
   {
    "duration": 39,
    "start_time": "2022-01-23T13:21:25.409Z"
   },
   {
    "duration": 22,
    "start_time": "2022-01-23T13:21:25.450Z"
   },
   {
    "duration": 37,
    "start_time": "2022-01-23T13:21:25.474Z"
   },
   {
    "duration": 12,
    "start_time": "2022-01-23T13:21:25.513Z"
   },
   {
    "duration": 89,
    "start_time": "2022-01-23T13:21:25.528Z"
   },
   {
    "duration": 67,
    "start_time": "2022-01-23T13:21:25.620Z"
   },
   {
    "duration": 19,
    "start_time": "2022-01-23T13:21:25.689Z"
   },
   {
    "duration": 87,
    "start_time": "2022-01-23T13:21:25.711Z"
   },
   {
    "duration": 77,
    "start_time": "2022-01-23T13:21:25.800Z"
   },
   {
    "duration": 14,
    "start_time": "2022-01-23T13:21:25.879Z"
   },
   {
    "duration": 13,
    "start_time": "2022-01-23T13:21:25.895Z"
   },
   {
    "duration": 13,
    "start_time": "2022-01-23T13:21:25.911Z"
   },
   {
    "duration": 47,
    "start_time": "2022-01-23T13:21:25.926Z"
   },
   {
    "duration": 20,
    "start_time": "2022-01-23T13:21:25.976Z"
   },
   {
    "duration": 19,
    "start_time": "2022-01-23T13:21:25.998Z"
   },
   {
    "duration": 7,
    "start_time": "2022-01-23T13:21:26.020Z"
   },
   {
    "duration": 35,
    "start_time": "2022-01-23T13:21:26.030Z"
   },
   {
    "duration": 14,
    "start_time": "2022-01-23T13:21:26.067Z"
   },
   {
    "duration": 25,
    "start_time": "2022-01-23T13:21:26.083Z"
   },
   {
    "duration": 17,
    "start_time": "2022-01-23T13:21:26.110Z"
   },
   {
    "duration": 37,
    "start_time": "2022-01-23T13:21:26.129Z"
   },
   {
    "duration": 29,
    "start_time": "2022-01-23T13:21:26.168Z"
   },
   {
    "duration": 22,
    "start_time": "2022-01-23T13:21:26.205Z"
   },
   {
    "duration": 49,
    "start_time": "2022-01-23T13:21:26.231Z"
   },
   {
    "duration": 89,
    "start_time": "2022-01-23T13:21:26.283Z"
   },
   {
    "duration": 94,
    "start_time": "2022-01-23T13:21:26.376Z"
   },
   {
    "duration": 96,
    "start_time": "2022-01-23T13:21:26.473Z"
   },
   {
    "duration": 95,
    "start_time": "2022-01-23T13:21:26.573Z"
   },
   {
    "duration": 103,
    "start_time": "2022-01-23T13:21:26.670Z"
   },
   {
    "duration": 94,
    "start_time": "2022-01-23T13:21:26.777Z"
   },
   {
    "duration": 15,
    "start_time": "2022-01-23T13:21:26.874Z"
   },
   {
    "duration": 12,
    "start_time": "2022-01-23T13:21:26.891Z"
   },
   {
    "duration": 23,
    "start_time": "2022-01-23T13:21:26.905Z"
   },
   {
    "duration": 18,
    "start_time": "2022-01-23T13:21:26.930Z"
   },
   {
    "duration": 18,
    "start_time": "2022-01-23T13:21:26.950Z"
   },
   {
    "duration": 7,
    "start_time": "2022-01-23T13:21:26.970Z"
   },
   {
    "duration": 4,
    "start_time": "2022-01-23T13:21:26.980Z"
   },
   {
    "duration": 13,
    "start_time": "2022-01-23T13:21:26.987Z"
   },
   {
    "duration": 373,
    "start_time": "2022-01-23T13:24:53.829Z"
   },
   {
    "duration": 305,
    "start_time": "2022-01-23T13:24:57.980Z"
   },
   {
    "duration": 18,
    "start_time": "2022-01-23T13:28:26.538Z"
   },
   {
    "duration": 12,
    "start_time": "2022-01-23T13:30:57.093Z"
   },
   {
    "duration": 13,
    "start_time": "2022-01-23T13:31:12.461Z"
   },
   {
    "duration": 346,
    "start_time": "2022-01-23T13:31:32.923Z"
   },
   {
    "duration": 677,
    "start_time": "2022-01-23T13:32:22.013Z"
   },
   {
    "duration": 297,
    "start_time": "2022-01-23T13:32:50.488Z"
   },
   {
    "duration": 13,
    "start_time": "2022-01-23T13:33:55.671Z"
   },
   {
    "duration": 16,
    "start_time": "2022-01-23T13:35:18.706Z"
   },
   {
    "duration": 5,
    "start_time": "2022-01-23T13:41:42.116Z"
   },
   {
    "duration": 545,
    "start_time": "2022-01-23T13:41:42.126Z"
   },
   {
    "duration": 15,
    "start_time": "2022-01-23T13:41:42.674Z"
   },
   {
    "duration": 12,
    "start_time": "2022-01-23T13:41:42.693Z"
   },
   {
    "duration": 22,
    "start_time": "2022-01-23T13:41:42.708Z"
   },
   {
    "duration": 43,
    "start_time": "2022-01-23T13:41:42.733Z"
   },
   {
    "duration": 24,
    "start_time": "2022-01-23T13:41:42.779Z"
   },
   {
    "duration": 13,
    "start_time": "2022-01-23T13:41:42.809Z"
   },
   {
    "duration": 104,
    "start_time": "2022-01-23T13:41:42.826Z"
   },
   {
    "duration": 84,
    "start_time": "2022-01-23T13:41:42.934Z"
   },
   {
    "duration": 19,
    "start_time": "2022-01-23T13:41:43.021Z"
   },
   {
    "duration": 67,
    "start_time": "2022-01-23T13:41:43.065Z"
   },
   {
    "duration": 86,
    "start_time": "2022-01-23T13:41:43.134Z"
   },
   {
    "duration": 16,
    "start_time": "2022-01-23T13:41:43.222Z"
   },
   {
    "duration": 34,
    "start_time": "2022-01-23T13:41:43.241Z"
   },
   {
    "duration": 15,
    "start_time": "2022-01-23T13:41:43.278Z"
   },
   {
    "duration": 13,
    "start_time": "2022-01-23T13:41:43.296Z"
   },
   {
    "duration": 18,
    "start_time": "2022-01-23T13:41:43.311Z"
   },
   {
    "duration": 16,
    "start_time": "2022-01-23T13:41:43.365Z"
   },
   {
    "duration": 11,
    "start_time": "2022-01-23T13:41:43.383Z"
   },
   {
    "duration": 15,
    "start_time": "2022-01-23T13:41:43.396Z"
   },
   {
    "duration": 11,
    "start_time": "2022-01-23T13:41:43.413Z"
   },
   {
    "duration": 42,
    "start_time": "2022-01-23T13:41:43.433Z"
   },
   {
    "duration": 17,
    "start_time": "2022-01-23T13:41:43.478Z"
   },
   {
    "duration": 17,
    "start_time": "2022-01-23T13:41:43.497Z"
   },
   {
    "duration": 56,
    "start_time": "2022-01-23T13:41:43.517Z"
   },
   {
    "duration": 18,
    "start_time": "2022-01-23T13:41:43.576Z"
   },
   {
    "duration": 18,
    "start_time": "2022-01-23T13:41:43.597Z"
   },
   {
    "duration": 153,
    "start_time": "2022-01-23T13:41:43.618Z"
   },
   {
    "duration": 91,
    "start_time": "2022-01-23T13:41:43.774Z"
   },
   {
    "duration": 103,
    "start_time": "2022-01-23T13:41:43.867Z"
   },
   {
    "duration": 93,
    "start_time": "2022-01-23T13:41:43.974Z"
   },
   {
    "duration": 23,
    "start_time": "2022-01-23T13:41:44.070Z"
   },
   {
    "duration": 183,
    "start_time": "2022-01-23T13:41:44.096Z"
   },
   {
    "duration": 7,
    "start_time": "2022-01-23T13:41:44.282Z"
   },
   {
    "duration": 12,
    "start_time": "2022-01-23T13:41:44.292Z"
   },
   {
    "duration": 8,
    "start_time": "2022-01-23T13:41:44.307Z"
   },
   {
    "duration": 9,
    "start_time": "2022-01-23T13:41:44.318Z"
   },
   {
    "duration": 42,
    "start_time": "2022-01-23T13:41:44.329Z"
   },
   {
    "duration": 8,
    "start_time": "2022-01-23T13:41:44.374Z"
   },
   {
    "duration": 10,
    "start_time": "2022-01-23T13:41:44.385Z"
   },
   {
    "duration": 21,
    "start_time": "2022-01-23T13:41:44.398Z"
   },
   {
    "duration": 5,
    "start_time": "2022-01-23T13:47:34.811Z"
   },
   {
    "duration": 544,
    "start_time": "2022-01-23T13:47:34.819Z"
   },
   {
    "duration": 22,
    "start_time": "2022-01-23T13:47:35.368Z"
   },
   {
    "duration": 18,
    "start_time": "2022-01-23T13:47:35.394Z"
   },
   {
    "duration": 20,
    "start_time": "2022-01-23T13:47:35.415Z"
   },
   {
    "duration": 13,
    "start_time": "2022-01-23T13:47:35.465Z"
   },
   {
    "duration": 18,
    "start_time": "2022-01-23T13:47:35.481Z"
   },
   {
    "duration": 15,
    "start_time": "2022-01-23T13:47:35.501Z"
   },
   {
    "duration": 116,
    "start_time": "2022-01-23T13:47:35.522Z"
   },
   {
    "duration": 100,
    "start_time": "2022-01-23T13:47:35.642Z"
   },
   {
    "duration": 32,
    "start_time": "2022-01-23T13:47:35.745Z"
   },
   {
    "duration": 85,
    "start_time": "2022-01-23T13:47:35.781Z"
   },
   {
    "duration": 63,
    "start_time": "2022-01-23T13:47:35.869Z"
   },
   {
    "duration": 36,
    "start_time": "2022-01-23T13:47:35.935Z"
   },
   {
    "duration": 15,
    "start_time": "2022-01-23T13:47:35.973Z"
   },
   {
    "duration": 13,
    "start_time": "2022-01-23T13:47:35.991Z"
   },
   {
    "duration": 14,
    "start_time": "2022-01-23T13:47:36.007Z"
   },
   {
    "duration": 61,
    "start_time": "2022-01-23T13:47:36.024Z"
   },
   {
    "duration": 19,
    "start_time": "2022-01-23T13:47:36.088Z"
   },
   {
    "duration": 12,
    "start_time": "2022-01-23T13:47:36.110Z"
   },
   {
    "duration": 13,
    "start_time": "2022-01-23T13:47:36.125Z"
   },
   {
    "duration": 7,
    "start_time": "2022-01-23T13:47:36.164Z"
   },
   {
    "duration": 26,
    "start_time": "2022-01-23T13:47:36.174Z"
   },
   {
    "duration": 23,
    "start_time": "2022-01-23T13:47:36.203Z"
   },
   {
    "duration": 48,
    "start_time": "2022-01-23T13:47:36.230Z"
   },
   {
    "duration": 29,
    "start_time": "2022-01-23T13:47:36.281Z"
   },
   {
    "duration": 18,
    "start_time": "2022-01-23T13:47:36.315Z"
   },
   {
    "duration": 43,
    "start_time": "2022-01-23T13:47:36.336Z"
   },
   {
    "duration": 91,
    "start_time": "2022-01-23T13:47:36.381Z"
   },
   {
    "duration": 99,
    "start_time": "2022-01-23T13:47:36.475Z"
   },
   {
    "duration": 88,
    "start_time": "2022-01-23T13:47:36.577Z"
   },
   {
    "duration": 98,
    "start_time": "2022-01-23T13:47:36.669Z"
   },
   {
    "duration": 23,
    "start_time": "2022-01-23T13:47:36.770Z"
   },
   {
    "duration": 97,
    "start_time": "2022-01-23T13:47:36.868Z"
   },
   {
    "duration": 7,
    "start_time": "2022-01-23T13:47:36.967Z"
   },
   {
    "duration": 7,
    "start_time": "2022-01-23T13:47:36.977Z"
   },
   {
    "duration": 10,
    "start_time": "2022-01-23T13:47:36.986Z"
   },
   {
    "duration": 10,
    "start_time": "2022-01-23T13:47:36.999Z"
   },
   {
    "duration": 54,
    "start_time": "2022-01-23T13:47:37.011Z"
   },
   {
    "duration": 23,
    "start_time": "2022-01-23T13:47:37.068Z"
   },
   {
    "duration": 4,
    "start_time": "2022-01-23T13:49:18.218Z"
   },
   {
    "duration": 460,
    "start_time": "2022-01-23T13:49:18.225Z"
   },
   {
    "duration": 14,
    "start_time": "2022-01-23T13:49:18.688Z"
   },
   {
    "duration": 12,
    "start_time": "2022-01-23T13:49:18.705Z"
   },
   {
    "duration": 49,
    "start_time": "2022-01-23T13:49:18.720Z"
   },
   {
    "duration": 15,
    "start_time": "2022-01-23T13:49:18.772Z"
   },
   {
    "duration": 20,
    "start_time": "2022-01-23T13:49:18.791Z"
   },
   {
    "duration": 14,
    "start_time": "2022-01-23T13:49:18.815Z"
   },
   {
    "duration": 107,
    "start_time": "2022-01-23T13:49:18.835Z"
   },
   {
    "duration": 80,
    "start_time": "2022-01-23T13:49:18.946Z"
   },
   {
    "duration": 43,
    "start_time": "2022-01-23T13:49:19.030Z"
   },
   {
    "duration": 89,
    "start_time": "2022-01-23T13:49:19.076Z"
   },
   {
    "duration": 96,
    "start_time": "2022-01-23T13:49:19.168Z"
   },
   {
    "duration": 15,
    "start_time": "2022-01-23T13:49:19.267Z"
   },
   {
    "duration": 14,
    "start_time": "2022-01-23T13:49:19.285Z"
   },
   {
    "duration": 15,
    "start_time": "2022-01-23T13:49:19.302Z"
   },
   {
    "duration": 55,
    "start_time": "2022-01-23T13:49:19.319Z"
   },
   {
    "duration": 22,
    "start_time": "2022-01-23T13:49:19.377Z"
   },
   {
    "duration": 18,
    "start_time": "2022-01-23T13:49:19.401Z"
   },
   {
    "duration": 6,
    "start_time": "2022-01-23T13:49:19.421Z"
   },
   {
    "duration": 39,
    "start_time": "2022-01-23T13:49:19.430Z"
   },
   {
    "duration": 19,
    "start_time": "2022-01-23T13:49:19.471Z"
   },
   {
    "duration": 27,
    "start_time": "2022-01-23T13:49:19.492Z"
   },
   {
    "duration": 17,
    "start_time": "2022-01-23T13:49:19.521Z"
   },
   {
    "duration": 29,
    "start_time": "2022-01-23T13:49:19.540Z"
   },
   {
    "duration": 29,
    "start_time": "2022-01-23T13:49:19.571Z"
   },
   {
    "duration": 18,
    "start_time": "2022-01-23T13:49:19.606Z"
   },
   {
    "duration": 51,
    "start_time": "2022-01-23T13:49:19.627Z"
   },
   {
    "duration": 86,
    "start_time": "2022-01-23T13:49:19.680Z"
   },
   {
    "duration": 98,
    "start_time": "2022-01-23T13:49:19.769Z"
   },
   {
    "duration": 100,
    "start_time": "2022-01-23T13:49:19.869Z"
   },
   {
    "duration": 99,
    "start_time": "2022-01-23T13:49:19.972Z"
   },
   {
    "duration": 99,
    "start_time": "2022-01-23T13:49:20.074Z"
   },
   {
    "duration": 95,
    "start_time": "2022-01-23T13:49:20.177Z"
   },
   {
    "duration": 9,
    "start_time": "2022-01-23T13:49:20.275Z"
   },
   {
    "duration": 17,
    "start_time": "2022-01-23T13:49:20.286Z"
   },
   {
    "duration": 9,
    "start_time": "2022-01-23T13:49:20.306Z"
   },
   {
    "duration": 10,
    "start_time": "2022-01-23T13:49:20.318Z"
   },
   {
    "duration": 37,
    "start_time": "2022-01-23T13:49:20.331Z"
   },
   {
    "duration": 512,
    "start_time": "2022-01-23T13:49:20.371Z"
   },
   {
    "duration": 4,
    "start_time": "2022-01-23T13:49:31.716Z"
   },
   {
    "duration": 454,
    "start_time": "2022-01-23T13:49:31.723Z"
   },
   {
    "duration": 14,
    "start_time": "2022-01-23T13:49:32.180Z"
   },
   {
    "duration": 16,
    "start_time": "2022-01-23T13:49:32.196Z"
   },
   {
    "duration": 15,
    "start_time": "2022-01-23T13:49:32.215Z"
   },
   {
    "duration": 37,
    "start_time": "2022-01-23T13:49:32.232Z"
   },
   {
    "duration": 17,
    "start_time": "2022-01-23T13:49:32.271Z"
   },
   {
    "duration": 12,
    "start_time": "2022-01-23T13:49:32.291Z"
   },
   {
    "duration": 103,
    "start_time": "2022-01-23T13:49:32.307Z"
   },
   {
    "duration": 66,
    "start_time": "2022-01-23T13:49:32.414Z"
   },
   {
    "duration": 19,
    "start_time": "2022-01-23T13:49:32.482Z"
   },
   {
    "duration": 93,
    "start_time": "2022-01-23T13:49:32.503Z"
   },
   {
    "duration": 76,
    "start_time": "2022-01-23T13:49:32.599Z"
   },
   {
    "duration": 18,
    "start_time": "2022-01-23T13:49:32.679Z"
   },
   {
    "duration": 17,
    "start_time": "2022-01-23T13:49:32.700Z"
   },
   {
    "duration": 51,
    "start_time": "2022-01-23T13:49:32.720Z"
   },
   {
    "duration": 15,
    "start_time": "2022-01-23T13:49:32.773Z"
   },
   {
    "duration": 15,
    "start_time": "2022-01-23T13:49:32.791Z"
   },
   {
    "duration": 14,
    "start_time": "2022-01-23T13:49:32.808Z"
   },
   {
    "duration": 44,
    "start_time": "2022-01-23T13:49:32.825Z"
   },
   {
    "duration": 11,
    "start_time": "2022-01-23T13:49:32.872Z"
   },
   {
    "duration": 8,
    "start_time": "2022-01-23T13:49:32.886Z"
   },
   {
    "duration": 23,
    "start_time": "2022-01-23T13:49:32.896Z"
   },
   {
    "duration": 54,
    "start_time": "2022-01-23T13:49:32.922Z"
   },
   {
    "duration": 17,
    "start_time": "2022-01-23T13:49:32.978Z"
   },
   {
    "duration": 28,
    "start_time": "2022-01-23T13:49:32.998Z"
   },
   {
    "duration": 44,
    "start_time": "2022-01-23T13:49:33.031Z"
   },
   {
    "duration": 20,
    "start_time": "2022-01-23T13:49:33.078Z"
   },
   {
    "duration": 164,
    "start_time": "2022-01-23T13:49:33.101Z"
   },
   {
    "duration": 8,
    "start_time": "2022-01-23T13:49:33.268Z"
   },
   {
    "duration": 189,
    "start_time": "2022-01-23T13:49:33.278Z"
   },
   {
    "duration": 10,
    "start_time": "2022-01-23T13:49:33.470Z"
   },
   {
    "duration": 87,
    "start_time": "2022-01-23T13:49:33.483Z"
   },
   {
    "duration": 94,
    "start_time": "2022-01-23T13:49:33.573Z"
   },
   {
    "duration": 6,
    "start_time": "2022-01-23T13:49:33.670Z"
   },
   {
    "duration": 10,
    "start_time": "2022-01-23T13:49:33.679Z"
   },
   {
    "duration": 7,
    "start_time": "2022-01-23T13:49:33.691Z"
   },
   {
    "duration": 8,
    "start_time": "2022-01-23T13:49:33.700Z"
   },
   {
    "duration": 54,
    "start_time": "2022-01-23T13:49:33.711Z"
   },
   {
    "duration": 12,
    "start_time": "2022-01-23T13:49:33.767Z"
   },
   {
    "duration": 5,
    "start_time": "2022-01-23T14:03:59.995Z"
   },
   {
    "duration": 500,
    "start_time": "2022-01-23T14:04:00.003Z"
   },
   {
    "duration": 13,
    "start_time": "2022-01-23T14:04:00.507Z"
   },
   {
    "duration": 19,
    "start_time": "2022-01-23T14:04:00.523Z"
   },
   {
    "duration": 14,
    "start_time": "2022-01-23T14:04:00.565Z"
   },
   {
    "duration": 16,
    "start_time": "2022-01-23T14:04:00.582Z"
   },
   {
    "duration": 26,
    "start_time": "2022-01-23T14:04:00.601Z"
   },
   {
    "duration": 41,
    "start_time": "2022-01-23T14:04:00.630Z"
   },
   {
    "duration": 68,
    "start_time": "2022-01-23T14:04:00.676Z"
   },
   {
    "duration": 67,
    "start_time": "2022-01-23T14:04:00.766Z"
   },
   {
    "duration": 38,
    "start_time": "2022-01-23T14:04:00.836Z"
   },
   {
    "duration": 60,
    "start_time": "2022-01-23T14:04:00.877Z"
   },
   {
    "duration": 82,
    "start_time": "2022-01-23T14:04:00.939Z"
   },
   {
    "duration": 15,
    "start_time": "2022-01-23T14:04:01.023Z"
   },
   {
    "duration": 34,
    "start_time": "2022-01-23T14:04:01.040Z"
   },
   {
    "duration": 14,
    "start_time": "2022-01-23T14:04:01.077Z"
   },
   {
    "duration": 32,
    "start_time": "2022-01-23T14:04:01.093Z"
   },
   {
    "duration": 20,
    "start_time": "2022-01-23T14:04:01.127Z"
   },
   {
    "duration": 34,
    "start_time": "2022-01-23T14:04:01.149Z"
   },
   {
    "duration": 15,
    "start_time": "2022-01-23T14:04:01.186Z"
   },
   {
    "duration": 38,
    "start_time": "2022-01-23T14:04:01.203Z"
   },
   {
    "duration": 23,
    "start_time": "2022-01-23T14:04:01.244Z"
   },
   {
    "duration": 39,
    "start_time": "2022-01-23T14:04:01.269Z"
   },
   {
    "duration": 29,
    "start_time": "2022-01-23T14:04:01.311Z"
   },
   {
    "duration": 17,
    "start_time": "2022-01-23T14:04:01.343Z"
   },
   {
    "duration": 45,
    "start_time": "2022-01-23T14:04:01.363Z"
   },
   {
    "duration": 18,
    "start_time": "2022-01-23T14:04:01.413Z"
   },
   {
    "duration": 33,
    "start_time": "2022-01-23T14:04:01.433Z"
   },
   {
    "duration": 98,
    "start_time": "2022-01-23T14:04:01.469Z"
   },
   {
    "duration": 100,
    "start_time": "2022-01-23T14:04:01.570Z"
   },
   {
    "duration": 93,
    "start_time": "2022-01-23T14:04:01.672Z"
   },
   {
    "duration": 99,
    "start_time": "2022-01-23T14:04:01.769Z"
   },
   {
    "duration": 96,
    "start_time": "2022-01-23T14:04:01.870Z"
   },
   {
    "duration": 100,
    "start_time": "2022-01-23T14:04:01.969Z"
   },
   {
    "duration": 30,
    "start_time": "2022-01-23T14:04:02.072Z"
   },
   {
    "duration": 31,
    "start_time": "2022-01-23T14:04:02.105Z"
   },
   {
    "duration": 21,
    "start_time": "2022-01-23T14:04:02.138Z"
   },
   {
    "duration": 21,
    "start_time": "2022-01-23T14:04:02.161Z"
   },
   {
    "duration": 19,
    "start_time": "2022-01-23T14:04:02.184Z"
   },
   {
    "duration": 21,
    "start_time": "2022-01-23T14:04:02.205Z"
   },
   {
    "duration": 14,
    "start_time": "2022-01-23T14:04:11.654Z"
   },
   {
    "duration": 4,
    "start_time": "2022-01-23T14:04:34.690Z"
   },
   {
    "duration": 463,
    "start_time": "2022-01-23T14:04:34.698Z"
   },
   {
    "duration": 17,
    "start_time": "2022-01-23T14:04:35.164Z"
   },
   {
    "duration": 12,
    "start_time": "2022-01-23T14:04:35.185Z"
   },
   {
    "duration": 18,
    "start_time": "2022-01-23T14:04:35.200Z"
   },
   {
    "duration": 51,
    "start_time": "2022-01-23T14:04:35.220Z"
   },
   {
    "duration": 18,
    "start_time": "2022-01-23T14:04:35.273Z"
   },
   {
    "duration": 12,
    "start_time": "2022-01-23T14:04:35.294Z"
   },
   {
    "duration": 97,
    "start_time": "2022-01-23T14:04:35.310Z"
   },
   {
    "duration": 77,
    "start_time": "2022-01-23T14:04:35.411Z"
   },
   {
    "duration": 19,
    "start_time": "2022-01-23T14:04:35.490Z"
   },
   {
    "duration": 96,
    "start_time": "2022-01-23T14:04:35.512Z"
   },
   {
    "duration": 73,
    "start_time": "2022-01-23T14:04:35.611Z"
   },
   {
    "duration": 15,
    "start_time": "2022-01-23T14:04:35.686Z"
   },
   {
    "duration": 13,
    "start_time": "2022-01-23T14:04:35.703Z"
   },
   {
    "duration": 47,
    "start_time": "2022-01-23T14:04:35.719Z"
   },
   {
    "duration": 16,
    "start_time": "2022-01-23T14:04:35.769Z"
   },
   {
    "duration": 19,
    "start_time": "2022-01-23T14:04:35.788Z"
   },
   {
    "duration": 20,
    "start_time": "2022-01-23T14:04:35.810Z"
   },
   {
    "duration": 32,
    "start_time": "2022-01-23T14:04:35.833Z"
   },
   {
    "duration": 11,
    "start_time": "2022-01-23T14:04:35.867Z"
   },
   {
    "duration": 11,
    "start_time": "2022-01-23T14:04:35.881Z"
   },
   {
    "duration": 24,
    "start_time": "2022-01-23T14:04:35.894Z"
   },
   {
    "duration": 16,
    "start_time": "2022-01-23T14:04:35.921Z"
   },
   {
    "duration": 17,
    "start_time": "2022-01-23T14:04:35.964Z"
   },
   {
    "duration": 28,
    "start_time": "2022-01-23T14:04:35.984Z"
   },
   {
    "duration": 17,
    "start_time": "2022-01-23T14:04:36.017Z"
   },
   {
    "duration": 19,
    "start_time": "2022-01-23T14:04:36.065Z"
   },
   {
    "duration": 178,
    "start_time": "2022-01-23T14:04:36.087Z"
   },
   {
    "duration": 8,
    "start_time": "2022-01-23T14:04:36.267Z"
   },
   {
    "duration": 89,
    "start_time": "2022-01-23T14:04:36.278Z"
   },
   {
    "duration": 100,
    "start_time": "2022-01-23T14:04:36.371Z"
   },
   {
    "duration": 99,
    "start_time": "2022-01-23T14:04:36.474Z"
   },
   {
    "duration": 9,
    "start_time": "2022-01-23T14:04:36.666Z"
   },
   {
    "duration": 9,
    "start_time": "2022-01-23T14:04:36.677Z"
   },
   {
    "duration": 11,
    "start_time": "2022-01-23T14:04:36.688Z"
   },
   {
    "duration": 11,
    "start_time": "2022-01-23T14:04:36.701Z"
   },
   {
    "duration": 10,
    "start_time": "2022-01-23T14:04:36.715Z"
   },
   {
    "duration": 39,
    "start_time": "2022-01-23T14:04:36.727Z"
   },
   {
    "duration": 33,
    "start_time": "2022-01-23T14:04:36.768Z"
   },
   {
    "duration": 6,
    "start_time": "2022-01-23T14:13:18.128Z"
   },
   {
    "duration": 487,
    "start_time": "2022-01-23T14:13:18.137Z"
   },
   {
    "duration": 14,
    "start_time": "2022-01-23T14:13:18.628Z"
   },
   {
    "duration": 28,
    "start_time": "2022-01-23T14:13:18.646Z"
   },
   {
    "duration": 16,
    "start_time": "2022-01-23T14:13:18.677Z"
   },
   {
    "duration": 13,
    "start_time": "2022-01-23T14:13:18.696Z"
   },
   {
    "duration": 54,
    "start_time": "2022-01-23T14:13:18.712Z"
   },
   {
    "duration": 13,
    "start_time": "2022-01-23T14:13:18.769Z"
   },
   {
    "duration": 96,
    "start_time": "2022-01-23T14:13:18.786Z"
   },
   {
    "duration": 63,
    "start_time": "2022-01-23T14:13:18.885Z"
   },
   {
    "duration": 33,
    "start_time": "2022-01-23T14:13:18.950Z"
   },
   {
    "duration": 89,
    "start_time": "2022-01-23T14:13:18.986Z"
   },
   {
    "duration": 67,
    "start_time": "2022-01-23T14:13:19.078Z"
   },
   {
    "duration": 15,
    "start_time": "2022-01-23T14:13:19.164Z"
   },
   {
    "duration": 16,
    "start_time": "2022-01-23T14:13:19.182Z"
   },
   {
    "duration": 21,
    "start_time": "2022-01-23T14:13:19.201Z"
   },
   {
    "duration": 57,
    "start_time": "2022-01-23T14:13:19.225Z"
   },
   {
    "duration": 36,
    "start_time": "2022-01-23T14:13:19.285Z"
   },
   {
    "duration": 47,
    "start_time": "2022-01-23T14:13:19.324Z"
   },
   {
    "duration": 31,
    "start_time": "2022-01-23T14:13:19.374Z"
   },
   {
    "duration": 32,
    "start_time": "2022-01-23T14:13:19.408Z"
   },
   {
    "duration": 13,
    "start_time": "2022-01-23T14:13:19.443Z"
   },
   {
    "duration": 29,
    "start_time": "2022-01-23T14:13:19.459Z"
   },
   {
    "duration": 35,
    "start_time": "2022-01-23T14:13:19.490Z"
   },
   {
    "duration": 19,
    "start_time": "2022-01-23T14:13:19.528Z"
   },
   {
    "duration": 45,
    "start_time": "2022-01-23T14:13:19.549Z"
   },
   {
    "duration": 20,
    "start_time": "2022-01-23T14:13:19.599Z"
   },
   {
    "duration": 20,
    "start_time": "2022-01-23T14:13:19.622Z"
   },
   {
    "duration": 128,
    "start_time": "2022-01-23T14:13:19.645Z"
   },
   {
    "duration": 111,
    "start_time": "2022-01-23T14:13:19.776Z"
   },
   {
    "duration": 85,
    "start_time": "2022-01-23T14:13:19.889Z"
   },
   {
    "duration": 25,
    "start_time": "2022-01-23T14:13:20.064Z"
   },
   {
    "duration": 85,
    "start_time": "2022-01-23T14:13:20.092Z"
   },
   {
    "duration": 91,
    "start_time": "2022-01-23T14:13:20.180Z"
   },
   {
    "duration": 12,
    "start_time": "2022-01-23T14:13:20.274Z"
   },
   {
    "duration": 29,
    "start_time": "2022-01-23T14:13:20.289Z"
   },
   {
    "duration": 11,
    "start_time": "2022-01-23T14:13:20.321Z"
   },
   {
    "duration": 19,
    "start_time": "2022-01-23T14:13:20.335Z"
   },
   {
    "duration": 10,
    "start_time": "2022-01-23T14:13:20.366Z"
   },
   {
    "duration": 685,
    "start_time": "2022-01-23T14:13:20.379Z"
   },
   {
    "duration": 7,
    "start_time": "2022-01-23T14:14:56.198Z"
   },
   {
    "duration": 475,
    "start_time": "2022-01-23T14:14:56.208Z"
   },
   {
    "duration": 14,
    "start_time": "2022-01-23T14:14:56.687Z"
   },
   {
    "duration": 12,
    "start_time": "2022-01-23T14:14:56.704Z"
   },
   {
    "duration": 16,
    "start_time": "2022-01-23T14:14:56.719Z"
   },
   {
    "duration": 13,
    "start_time": "2022-01-23T14:14:56.766Z"
   },
   {
    "duration": 15,
    "start_time": "2022-01-23T14:14:56.781Z"
   },
   {
    "duration": 11,
    "start_time": "2022-01-23T14:14:56.798Z"
   },
   {
    "duration": 101,
    "start_time": "2022-01-23T14:14:56.813Z"
   },
   {
    "duration": 77,
    "start_time": "2022-01-23T14:14:56.917Z"
   },
   {
    "duration": 20,
    "start_time": "2022-01-23T14:14:56.996Z"
   },
   {
    "duration": 98,
    "start_time": "2022-01-23T14:14:57.019Z"
   },
   {
    "duration": 69,
    "start_time": "2022-01-23T14:14:57.119Z"
   },
   {
    "duration": 14,
    "start_time": "2022-01-23T14:14:57.191Z"
   },
   {
    "duration": 14,
    "start_time": "2022-01-23T14:14:57.207Z"
   },
   {
    "duration": 46,
    "start_time": "2022-01-23T14:14:57.223Z"
   },
   {
    "duration": 15,
    "start_time": "2022-01-23T14:14:57.271Z"
   },
   {
    "duration": 22,
    "start_time": "2022-01-23T14:14:57.288Z"
   },
   {
    "duration": 14,
    "start_time": "2022-01-23T14:14:57.313Z"
   },
   {
    "duration": 36,
    "start_time": "2022-01-23T14:14:57.329Z"
   },
   {
    "duration": 12,
    "start_time": "2022-01-23T14:14:57.367Z"
   },
   {
    "duration": 9,
    "start_time": "2022-01-23T14:14:57.381Z"
   },
   {
    "duration": 21,
    "start_time": "2022-01-23T14:14:57.392Z"
   },
   {
    "duration": 19,
    "start_time": "2022-01-23T14:14:57.415Z"
   },
   {
    "duration": 43,
    "start_time": "2022-01-23T14:14:57.437Z"
   },
   {
    "duration": 28,
    "start_time": "2022-01-23T14:14:57.482Z"
   },
   {
    "duration": 19,
    "start_time": "2022-01-23T14:14:57.515Z"
   },
   {
    "duration": 23,
    "start_time": "2022-01-23T14:14:57.566Z"
   },
   {
    "duration": 74,
    "start_time": "2022-01-23T14:14:57.591Z"
   },
   {
    "duration": 99,
    "start_time": "2022-01-23T14:14:57.669Z"
   },
   {
    "duration": 99,
    "start_time": "2022-01-23T14:14:57.771Z"
   },
   {
    "duration": 97,
    "start_time": "2022-01-23T14:14:57.875Z"
   },
   {
    "duration": 91,
    "start_time": "2022-01-23T14:14:57.976Z"
   },
   {
    "duration": 95,
    "start_time": "2022-01-23T14:14:58.074Z"
   },
   {
    "duration": 8,
    "start_time": "2022-01-23T14:14:58.172Z"
   },
   {
    "duration": 10,
    "start_time": "2022-01-23T14:14:58.183Z"
   },
   {
    "duration": 6,
    "start_time": "2022-01-23T14:14:58.196Z"
   },
   {
    "duration": 59,
    "start_time": "2022-01-23T14:14:58.205Z"
   },
   {
    "duration": 6,
    "start_time": "2022-01-23T14:14:58.267Z"
   },
   {
    "duration": 700,
    "start_time": "2022-01-23T14:14:58.276Z"
   },
   {
    "duration": 9,
    "start_time": "2022-01-23T14:15:22.346Z"
   },
   {
    "duration": 5,
    "start_time": "2022-01-23T14:16:44.656Z"
   },
   {
    "duration": 470,
    "start_time": "2022-01-23T14:16:44.664Z"
   },
   {
    "duration": 13,
    "start_time": "2022-01-23T14:16:45.137Z"
   },
   {
    "duration": 21,
    "start_time": "2022-01-23T14:16:45.153Z"
   },
   {
    "duration": 19,
    "start_time": "2022-01-23T14:16:45.176Z"
   },
   {
    "duration": 12,
    "start_time": "2022-01-23T14:16:45.197Z"
   },
   {
    "duration": 21,
    "start_time": "2022-01-23T14:16:45.211Z"
   },
   {
    "duration": 12,
    "start_time": "2022-01-23T14:16:45.266Z"
   },
   {
    "duration": 89,
    "start_time": "2022-01-23T14:16:45.282Z"
   },
   {
    "duration": 58,
    "start_time": "2022-01-23T14:16:45.374Z"
   },
   {
    "duration": 39,
    "start_time": "2022-01-23T14:16:45.434Z"
   },
   {
    "duration": 59,
    "start_time": "2022-01-23T14:16:45.475Z"
   },
   {
    "duration": 80,
    "start_time": "2022-01-23T14:16:45.536Z"
   },
   {
    "duration": 15,
    "start_time": "2022-01-23T14:16:45.618Z"
   },
   {
    "duration": 38,
    "start_time": "2022-01-23T14:16:45.636Z"
   },
   {
    "duration": 14,
    "start_time": "2022-01-23T14:16:45.676Z"
   },
   {
    "duration": 15,
    "start_time": "2022-01-23T14:16:45.693Z"
   },
   {
    "duration": 24,
    "start_time": "2022-01-23T14:16:45.710Z"
   },
   {
    "duration": 15,
    "start_time": "2022-01-23T14:16:45.764Z"
   },
   {
    "duration": 14,
    "start_time": "2022-01-23T14:16:45.781Z"
   },
   {
    "duration": 8,
    "start_time": "2022-01-23T14:16:45.798Z"
   },
   {
    "duration": 9,
    "start_time": "2022-01-23T14:16:45.808Z"
   },
   {
    "duration": 45,
    "start_time": "2022-01-23T14:16:45.819Z"
   },
   {
    "duration": 17,
    "start_time": "2022-01-23T14:16:45.867Z"
   },
   {
    "duration": 17,
    "start_time": "2022-01-23T14:16:45.886Z"
   },
   {
    "duration": 30,
    "start_time": "2022-01-23T14:16:45.905Z"
   },
   {
    "duration": 21,
    "start_time": "2022-01-23T14:16:45.964Z"
   },
   {
    "duration": 22,
    "start_time": "2022-01-23T14:16:45.988Z"
   },
   {
    "duration": 155,
    "start_time": "2022-01-23T14:16:46.012Z"
   },
   {
    "duration": 10,
    "start_time": "2022-01-23T14:16:46.170Z"
   },
   {
    "duration": 184,
    "start_time": "2022-01-23T14:16:46.183Z"
   },
   {
    "duration": 12,
    "start_time": "2022-01-23T14:16:46.371Z"
   },
   {
    "duration": 93,
    "start_time": "2022-01-23T14:16:46.386Z"
   },
   {
    "duration": 100,
    "start_time": "2022-01-23T14:16:46.567Z"
   },
   {
    "duration": 14,
    "start_time": "2022-01-23T14:16:46.669Z"
   },
   {
    "duration": 30,
    "start_time": "2022-01-23T14:16:46.685Z"
   },
   {
    "duration": 15,
    "start_time": "2022-01-23T14:16:46.717Z"
   },
   {
    "duration": 25,
    "start_time": "2022-01-23T14:16:46.734Z"
   },
   {
    "duration": 18,
    "start_time": "2022-01-23T14:16:46.762Z"
   },
   {
    "duration": 34,
    "start_time": "2022-01-23T14:16:46.782Z"
   },
   {
    "duration": 5,
    "start_time": "2022-01-23T14:17:00.609Z"
   },
   {
    "duration": 466,
    "start_time": "2022-01-23T14:17:00.618Z"
   },
   {
    "duration": 14,
    "start_time": "2022-01-23T14:17:01.087Z"
   },
   {
    "duration": 13,
    "start_time": "2022-01-23T14:17:01.104Z"
   },
   {
    "duration": 27,
    "start_time": "2022-01-23T14:17:01.120Z"
   },
   {
    "duration": 13,
    "start_time": "2022-01-23T14:17:01.166Z"
   },
   {
    "duration": 25,
    "start_time": "2022-01-23T14:17:01.182Z"
   },
   {
    "duration": 12,
    "start_time": "2022-01-23T14:17:01.210Z"
   },
   {
    "duration": 103,
    "start_time": "2022-01-23T14:17:01.227Z"
   },
   {
    "duration": 80,
    "start_time": "2022-01-23T14:17:01.333Z"
   },
   {
    "duration": 19,
    "start_time": "2022-01-23T14:17:01.416Z"
   },
   {
    "duration": 75,
    "start_time": "2022-01-23T14:17:01.438Z"
   },
   {
    "duration": 80,
    "start_time": "2022-01-23T14:17:01.515Z"
   },
   {
    "duration": 14,
    "start_time": "2022-01-23T14:17:01.597Z"
   },
   {
    "duration": 13,
    "start_time": "2022-01-23T14:17:01.614Z"
   },
   {
    "duration": 45,
    "start_time": "2022-01-23T14:17:01.629Z"
   },
   {
    "duration": 16,
    "start_time": "2022-01-23T14:17:01.676Z"
   },
   {
    "duration": 20,
    "start_time": "2022-01-23T14:17:01.695Z"
   },
   {
    "duration": 22,
    "start_time": "2022-01-23T14:17:01.717Z"
   },
   {
    "duration": 7,
    "start_time": "2022-01-23T14:17:01.764Z"
   },
   {
    "duration": 67,
    "start_time": "2022-01-23T14:17:01.773Z"
   },
   {
    "duration": 16,
    "start_time": "2022-01-23T14:17:01.842Z"
   },
   {
    "duration": 20,
    "start_time": "2022-01-23T14:17:01.860Z"
   },
   {
    "duration": 17,
    "start_time": "2022-01-23T14:17:01.882Z"
   },
   {
    "duration": 17,
    "start_time": "2022-01-23T14:17:01.902Z"
   },
   {
    "duration": 63,
    "start_time": "2022-01-23T14:17:01.921Z"
   },
   {
    "duration": 19,
    "start_time": "2022-01-23T14:17:01.989Z"
   },
   {
    "duration": 24,
    "start_time": "2022-01-23T14:17:02.011Z"
   },
   {
    "duration": 131,
    "start_time": "2022-01-23T14:17:02.037Z"
   },
   {
    "duration": 98,
    "start_time": "2022-01-23T14:17:02.171Z"
   },
   {
    "duration": 25,
    "start_time": "2022-01-23T14:17:02.272Z"
   },
   {
    "duration": 10,
    "start_time": "2022-01-23T14:17:02.366Z"
   },
   {
    "duration": 19,
    "start_time": "2022-01-23T14:17:02.466Z"
   },
   {
    "duration": 84,
    "start_time": "2022-01-23T14:17:02.488Z"
   },
   {
    "duration": 99,
    "start_time": "2022-01-23T14:17:02.575Z"
   },
   {
    "duration": 16,
    "start_time": "2022-01-23T14:17:02.676Z"
   },
   {
    "duration": 12,
    "start_time": "2022-01-23T14:17:02.694Z"
   },
   {
    "duration": 7,
    "start_time": "2022-01-23T14:17:02.709Z"
   },
   {
    "duration": 5,
    "start_time": "2022-01-23T14:17:02.719Z"
   },
   {
    "duration": 40,
    "start_time": "2022-01-23T14:17:02.726Z"
   },
   {
    "duration": 4,
    "start_time": "2022-01-23T14:26:52.369Z"
   },
   {
    "duration": 471,
    "start_time": "2022-01-23T14:26:52.376Z"
   },
   {
    "duration": 22,
    "start_time": "2022-01-23T14:26:52.851Z"
   },
   {
    "duration": 12,
    "start_time": "2022-01-23T14:26:52.876Z"
   },
   {
    "duration": 16,
    "start_time": "2022-01-23T14:26:52.890Z"
   },
   {
    "duration": 54,
    "start_time": "2022-01-23T14:26:52.910Z"
   },
   {
    "duration": 14,
    "start_time": "2022-01-23T14:26:52.967Z"
   },
   {
    "duration": 13,
    "start_time": "2022-01-23T14:26:52.984Z"
   },
   {
    "duration": 103,
    "start_time": "2022-01-23T14:26:53.003Z"
   },
   {
    "duration": 88,
    "start_time": "2022-01-23T14:26:53.110Z"
   },
   {
    "duration": 28,
    "start_time": "2022-01-23T14:26:53.201Z"
   },
   {
    "duration": 79,
    "start_time": "2022-01-23T14:26:53.231Z"
   },
   {
    "duration": 85,
    "start_time": "2022-01-23T14:26:53.313Z"
   },
   {
    "duration": 15,
    "start_time": "2022-01-23T14:26:53.401Z"
   },
   {
    "duration": 16,
    "start_time": "2022-01-23T14:26:53.419Z"
   },
   {
    "duration": 40,
    "start_time": "2022-01-23T14:26:53.437Z"
   },
   {
    "duration": 15,
    "start_time": "2022-01-23T14:26:53.479Z"
   },
   {
    "duration": 18,
    "start_time": "2022-01-23T14:26:53.497Z"
   },
   {
    "duration": 52,
    "start_time": "2022-01-23T14:26:53.518Z"
   },
   {
    "duration": 7,
    "start_time": "2022-01-23T14:26:53.573Z"
   },
   {
    "duration": 12,
    "start_time": "2022-01-23T14:26:53.582Z"
   },
   {
    "duration": 8,
    "start_time": "2022-01-23T14:26:53.596Z"
   },
   {
    "duration": 18,
    "start_time": "2022-01-23T14:26:53.606Z"
   },
   {
    "duration": 52,
    "start_time": "2022-01-23T14:26:53.627Z"
   },
   {
    "duration": 18,
    "start_time": "2022-01-23T14:26:53.682Z"
   },
   {
    "duration": 30,
    "start_time": "2022-01-23T14:26:53.703Z"
   },
   {
    "duration": 44,
    "start_time": "2022-01-23T14:26:53.738Z"
   },
   {
    "duration": 19,
    "start_time": "2022-01-23T14:26:53.784Z"
   },
   {
    "duration": 159,
    "start_time": "2022-01-23T14:26:53.806Z"
   },
   {
    "duration": 10,
    "start_time": "2022-01-23T14:26:53.968Z"
   },
   {
    "duration": 186,
    "start_time": "2022-01-23T14:26:53.981Z"
   },
   {
    "duration": 11,
    "start_time": "2022-01-23T14:26:54.170Z"
   },
   {
    "duration": 86,
    "start_time": "2022-01-23T14:26:54.184Z"
   },
   {
    "duration": 93,
    "start_time": "2022-01-23T14:26:54.274Z"
   },
   {
    "duration": 7,
    "start_time": "2022-01-23T14:26:54.370Z"
   },
   {
    "duration": 12,
    "start_time": "2022-01-23T14:26:54.379Z"
   },
   {
    "duration": 7,
    "start_time": "2022-01-23T14:26:54.394Z"
   },
   {
    "duration": 7,
    "start_time": "2022-01-23T14:26:54.404Z"
   },
   {
    "duration": 58,
    "start_time": "2022-01-23T14:26:54.413Z"
   },
   {
    "duration": 14,
    "start_time": "2022-01-23T14:26:54.473Z"
   },
   {
    "duration": 5,
    "start_time": "2022-01-23T14:43:13.486Z"
   },
   {
    "duration": 5,
    "start_time": "2022-01-23T14:48:38.474Z"
   },
   {
    "duration": 563,
    "start_time": "2022-01-23T14:48:38.482Z"
   },
   {
    "duration": 25,
    "start_time": "2022-01-23T14:48:39.048Z"
   },
   {
    "duration": 11,
    "start_time": "2022-01-23T14:48:39.076Z"
   },
   {
    "duration": 17,
    "start_time": "2022-01-23T14:48:39.089Z"
   },
   {
    "duration": 12,
    "start_time": "2022-01-23T14:48:39.108Z"
   },
   {
    "duration": 48,
    "start_time": "2022-01-23T14:48:39.122Z"
   },
   {
    "duration": 12,
    "start_time": "2022-01-23T14:48:39.173Z"
   },
   {
    "duration": 83,
    "start_time": "2022-01-23T14:48:39.189Z"
   },
   {
    "duration": 58,
    "start_time": "2022-01-23T14:48:39.276Z"
   },
   {
    "duration": 39,
    "start_time": "2022-01-23T14:48:39.337Z"
   },
   {
    "duration": 55,
    "start_time": "2022-01-23T14:48:39.378Z"
   },
   {
    "duration": 80,
    "start_time": "2022-01-23T14:48:39.436Z"
   },
   {
    "duration": 15,
    "start_time": "2022-01-23T14:48:39.519Z"
   },
   {
    "duration": 34,
    "start_time": "2022-01-23T14:48:39.537Z"
   },
   {
    "duration": 14,
    "start_time": "2022-01-23T14:48:39.574Z"
   },
   {
    "duration": 14,
    "start_time": "2022-01-23T14:48:39.590Z"
   },
   {
    "duration": 17,
    "start_time": "2022-01-23T14:48:39.607Z"
   },
   {
    "duration": 16,
    "start_time": "2022-01-23T14:48:39.664Z"
   },
   {
    "duration": 8,
    "start_time": "2022-01-23T14:48:39.682Z"
   },
   {
    "duration": 8,
    "start_time": "2022-01-23T14:48:39.693Z"
   },
   {
    "duration": 9,
    "start_time": "2022-01-23T14:48:39.704Z"
   },
   {
    "duration": 52,
    "start_time": "2022-01-23T14:48:39.715Z"
   },
   {
    "duration": 16,
    "start_time": "2022-01-23T14:48:39.770Z"
   },
   {
    "duration": 17,
    "start_time": "2022-01-23T14:48:39.789Z"
   },
   {
    "duration": 27,
    "start_time": "2022-01-23T14:48:39.808Z"
   },
   {
    "duration": 20,
    "start_time": "2022-01-23T14:48:39.867Z"
   },
   {
    "duration": 19,
    "start_time": "2022-01-23T14:48:39.890Z"
   },
   {
    "duration": 65,
    "start_time": "2022-01-23T14:48:39.912Z"
   },
   {
    "duration": 88,
    "start_time": "2022-01-23T14:48:39.980Z"
   },
   {
    "duration": 104,
    "start_time": "2022-01-23T14:48:40.071Z"
   },
   {
    "duration": 97,
    "start_time": "2022-01-23T14:48:40.178Z"
   },
   {
    "duration": 90,
    "start_time": "2022-01-23T14:48:40.278Z"
   },
   {
    "duration": 95,
    "start_time": "2022-01-23T14:48:40.371Z"
   },
   {
    "duration": 7,
    "start_time": "2022-01-23T14:48:40.468Z"
   },
   {
    "duration": 6,
    "start_time": "2022-01-23T14:48:40.478Z"
   },
   {
    "duration": 13,
    "start_time": "2022-01-23T14:48:40.486Z"
   },
   {
    "duration": 7,
    "start_time": "2022-01-23T14:48:40.501Z"
   },
   {
    "duration": 5,
    "start_time": "2022-01-23T14:48:40.511Z"
   },
   {
    "duration": 246,
    "start_time": "2022-01-23T14:48:40.518Z"
   },
   {
    "duration": -570,
    "start_time": "2022-01-23T14:48:41.337Z"
   },
   {
    "duration": 5,
    "start_time": "2022-01-23T14:48:47.736Z"
   },
   {
    "duration": 578,
    "start_time": "2022-01-23T14:48:49.697Z"
   },
   {
    "duration": 5,
    "start_time": "2022-01-23T14:49:09.462Z"
   },
   {
    "duration": 3451,
    "start_time": "2022-01-23T14:49:10.779Z"
   },
   {
    "duration": 5,
    "start_time": "2022-01-23T14:49:47.783Z"
   },
   {
    "duration": 444,
    "start_time": "2022-01-23T14:49:47.791Z"
   },
   {
    "duration": 14,
    "start_time": "2022-01-23T14:49:48.238Z"
   },
   {
    "duration": 19,
    "start_time": "2022-01-23T14:49:48.255Z"
   },
   {
    "duration": 15,
    "start_time": "2022-01-23T14:49:48.276Z"
   },
   {
    "duration": 11,
    "start_time": "2022-01-23T14:49:48.294Z"
   },
   {
    "duration": 17,
    "start_time": "2022-01-23T14:49:48.307Z"
   },
   {
    "duration": 44,
    "start_time": "2022-01-23T14:49:48.326Z"
   },
   {
    "duration": 60,
    "start_time": "2022-01-23T14:49:48.374Z"
   },
   {
    "duration": 79,
    "start_time": "2022-01-23T14:49:48.437Z"
   },
   {
    "duration": 18,
    "start_time": "2022-01-23T14:49:48.518Z"
   },
   {
    "duration": 83,
    "start_time": "2022-01-23T14:49:48.538Z"
   },
   {
    "duration": 74,
    "start_time": "2022-01-23T14:49:48.624Z"
   },
   {
    "duration": 15,
    "start_time": "2022-01-23T14:49:48.700Z"
   },
   {
    "duration": 13,
    "start_time": "2022-01-23T14:49:48.718Z"
   },
   {
    "duration": 43,
    "start_time": "2022-01-23T14:49:48.734Z"
   },
   {
    "duration": 13,
    "start_time": "2022-01-23T14:49:48.779Z"
   },
   {
    "duration": 16,
    "start_time": "2022-01-23T14:49:48.794Z"
   },
   {
    "duration": 20,
    "start_time": "2022-01-23T14:49:48.813Z"
   },
   {
    "duration": 7,
    "start_time": "2022-01-23T14:49:48.865Z"
   },
   {
    "duration": 11,
    "start_time": "2022-01-23T14:49:48.875Z"
   },
   {
    "duration": 23,
    "start_time": "2022-01-23T14:49:48.888Z"
   },
   {
    "duration": 27,
    "start_time": "2022-01-23T14:49:48.914Z"
   },
   {
    "duration": 24,
    "start_time": "2022-01-23T14:49:48.944Z"
   },
   {
    "duration": 24,
    "start_time": "2022-01-23T14:49:48.970Z"
   },
   {
    "duration": 30,
    "start_time": "2022-01-23T14:49:48.997Z"
   },
   {
    "duration": 44,
    "start_time": "2022-01-23T14:49:49.032Z"
   },
   {
    "duration": 19,
    "start_time": "2022-01-23T14:49:49.079Z"
   },
   {
    "duration": 72,
    "start_time": "2022-01-23T14:49:49.100Z"
   },
   {
    "duration": 98,
    "start_time": "2022-01-23T14:49:49.174Z"
   },
   {
    "duration": 91,
    "start_time": "2022-01-23T14:49:49.275Z"
   },
   {
    "duration": 104,
    "start_time": "2022-01-23T14:49:49.370Z"
   },
   {
    "duration": 94,
    "start_time": "2022-01-23T14:49:49.477Z"
   },
   {
    "duration": 103,
    "start_time": "2022-01-23T14:49:49.574Z"
   },
   {
    "duration": 7,
    "start_time": "2022-01-23T14:49:49.679Z"
   },
   {
    "duration": 11,
    "start_time": "2022-01-23T14:49:49.688Z"
   },
   {
    "duration": 7,
    "start_time": "2022-01-23T14:49:49.702Z"
   },
   {
    "duration": 9,
    "start_time": "2022-01-23T14:49:49.711Z"
   },
   {
    "duration": 42,
    "start_time": "2022-01-23T14:49:49.722Z"
   },
   {
    "duration": 5,
    "start_time": "2022-01-23T14:49:49.767Z"
   },
   {
    "duration": 3899,
    "start_time": "2022-01-23T14:49:49.775Z"
   },
   {
    "duration": 5,
    "start_time": "2022-01-23T14:51:03.053Z"
   },
   {
    "duration": 485,
    "start_time": "2022-01-23T14:51:03.061Z"
   },
   {
    "duration": 23,
    "start_time": "2022-01-23T14:51:03.550Z"
   },
   {
    "duration": 14,
    "start_time": "2022-01-23T14:51:03.577Z"
   },
   {
    "duration": 20,
    "start_time": "2022-01-23T14:51:03.594Z"
   },
   {
    "duration": 14,
    "start_time": "2022-01-23T14:51:03.617Z"
   },
   {
    "duration": 14,
    "start_time": "2022-01-23T14:51:03.665Z"
   },
   {
    "duration": 23,
    "start_time": "2022-01-23T14:51:03.682Z"
   },
   {
    "duration": 82,
    "start_time": "2022-01-23T14:51:03.709Z"
   },
   {
    "duration": 79,
    "start_time": "2022-01-23T14:51:03.795Z"
   },
   {
    "duration": 19,
    "start_time": "2022-01-23T14:51:03.876Z"
   },
   {
    "duration": 86,
    "start_time": "2022-01-23T14:51:03.898Z"
   },
   {
    "duration": 61,
    "start_time": "2022-01-23T14:51:03.987Z"
   },
   {
    "duration": 15,
    "start_time": "2022-01-23T14:51:04.064Z"
   },
   {
    "duration": 24,
    "start_time": "2022-01-23T14:51:04.082Z"
   },
   {
    "duration": 16,
    "start_time": "2022-01-23T14:51:04.108Z"
   },
   {
    "duration": 46,
    "start_time": "2022-01-23T14:51:04.127Z"
   },
   {
    "duration": 22,
    "start_time": "2022-01-23T14:51:04.176Z"
   },
   {
    "duration": 28,
    "start_time": "2022-01-23T14:51:04.201Z"
   },
   {
    "duration": 22,
    "start_time": "2022-01-23T14:51:04.231Z"
   },
   {
    "duration": 18,
    "start_time": "2022-01-23T14:51:04.256Z"
   },
   {
    "duration": 38,
    "start_time": "2022-01-23T14:51:04.277Z"
   },
   {
    "duration": 40,
    "start_time": "2022-01-23T14:51:04.318Z"
   },
   {
    "duration": 38,
    "start_time": "2022-01-23T14:51:04.361Z"
   },
   {
    "duration": 23,
    "start_time": "2022-01-23T14:51:04.402Z"
   },
   {
    "duration": 53,
    "start_time": "2022-01-23T14:51:04.427Z"
   },
   {
    "duration": 21,
    "start_time": "2022-01-23T14:51:04.485Z"
   },
   {
    "duration": 22,
    "start_time": "2022-01-23T14:51:04.508Z"
   },
   {
    "duration": 141,
    "start_time": "2022-01-23T14:51:04.532Z"
   },
   {
    "duration": 90,
    "start_time": "2022-01-23T14:51:04.679Z"
   },
   {
    "duration": 97,
    "start_time": "2022-01-23T14:51:04.772Z"
   },
   {
    "duration": 97,
    "start_time": "2022-01-23T14:51:04.872Z"
   },
   {
    "duration": 101,
    "start_time": "2022-01-23T14:51:04.972Z"
   },
   {
    "duration": 9,
    "start_time": "2022-01-23T14:51:05.165Z"
   },
   {
    "duration": 14,
    "start_time": "2022-01-23T14:51:05.177Z"
   },
   {
    "duration": 25,
    "start_time": "2022-01-23T14:51:05.194Z"
   },
   {
    "duration": 12,
    "start_time": "2022-01-23T14:51:05.221Z"
   },
   {
    "duration": 27,
    "start_time": "2022-01-23T14:51:05.236Z"
   },
   {
    "duration": 21,
    "start_time": "2022-01-23T14:51:05.265Z"
   },
   {
    "duration": 12,
    "start_time": "2022-01-23T14:51:05.288Z"
   },
   {
    "duration": 3481,
    "start_time": "2022-01-23T14:51:05.303Z"
   },
   {
    "duration": 5,
    "start_time": "2022-01-23T14:51:44.008Z"
   },
   {
    "duration": 449,
    "start_time": "2022-01-23T14:51:44.016Z"
   },
   {
    "duration": 14,
    "start_time": "2022-01-23T14:51:44.468Z"
   },
   {
    "duration": 11,
    "start_time": "2022-01-23T14:51:44.485Z"
   },
   {
    "duration": 19,
    "start_time": "2022-01-23T14:51:44.498Z"
   },
   {
    "duration": 11,
    "start_time": "2022-01-23T14:51:44.519Z"
   },
   {
    "duration": 43,
    "start_time": "2022-01-23T14:51:44.533Z"
   },
   {
    "duration": 12,
    "start_time": "2022-01-23T14:51:44.580Z"
   },
   {
    "duration": 100,
    "start_time": "2022-01-23T14:51:44.595Z"
   },
   {
    "duration": 74,
    "start_time": "2022-01-23T14:51:44.697Z"
   },
   {
    "duration": 20,
    "start_time": "2022-01-23T14:51:44.774Z"
   },
   {
    "duration": 84,
    "start_time": "2022-01-23T14:51:44.796Z"
   },
   {
    "duration": 65,
    "start_time": "2022-01-23T14:51:44.883Z"
   },
   {
    "duration": 16,
    "start_time": "2022-01-23T14:51:44.964Z"
   },
   {
    "duration": 14,
    "start_time": "2022-01-23T14:51:44.982Z"
   },
   {
    "duration": 16,
    "start_time": "2022-01-23T14:51:44.998Z"
   },
   {
    "duration": 57,
    "start_time": "2022-01-23T14:51:45.017Z"
   },
   {
    "duration": 24,
    "start_time": "2022-01-23T14:51:45.077Z"
   },
   {
    "duration": 24,
    "start_time": "2022-01-23T14:51:45.104Z"
   },
   {
    "duration": 12,
    "start_time": "2022-01-23T14:51:45.131Z"
   },
   {
    "duration": 21,
    "start_time": "2022-01-23T14:51:45.145Z"
   },
   {
    "duration": 13,
    "start_time": "2022-01-23T14:51:45.168Z"
   },
   {
    "duration": 29,
    "start_time": "2022-01-23T14:51:45.186Z"
   },
   {
    "duration": 18,
    "start_time": "2022-01-23T14:51:45.218Z"
   },
   {
    "duration": 29,
    "start_time": "2022-01-23T14:51:45.239Z"
   },
   {
    "duration": 29,
    "start_time": "2022-01-23T14:51:45.271Z"
   },
   {
    "duration": 28,
    "start_time": "2022-01-23T14:51:45.304Z"
   },
   {
    "duration": 48,
    "start_time": "2022-01-23T14:51:45.335Z"
   },
   {
    "duration": 89,
    "start_time": "2022-01-23T14:51:45.385Z"
   },
   {
    "duration": 8,
    "start_time": "2022-01-23T14:51:45.565Z"
   },
   {
    "duration": 91,
    "start_time": "2022-01-23T14:51:45.575Z"
   },
   {
    "duration": 102,
    "start_time": "2022-01-23T14:51:45.669Z"
   },
   {
    "duration": 96,
    "start_time": "2022-01-23T14:51:45.773Z"
   },
   {
    "duration": 97,
    "start_time": "2022-01-23T14:51:45.872Z"
   },
   {
    "duration": 6,
    "start_time": "2022-01-23T14:51:45.972Z"
   },
   {
    "duration": 7,
    "start_time": "2022-01-23T14:51:45.980Z"
   },
   {
    "duration": 5,
    "start_time": "2022-01-23T14:51:45.989Z"
   },
   {
    "duration": 6,
    "start_time": "2022-01-23T14:51:45.997Z"
   },
   {
    "duration": 6,
    "start_time": "2022-01-23T14:51:46.005Z"
   },
   {
    "duration": 55,
    "start_time": "2022-01-23T14:51:46.014Z"
   },
   {
    "duration": 3740,
    "start_time": "2022-01-23T14:51:46.072Z"
   },
   {
    "duration": 5,
    "start_time": "2022-01-23T14:52:41.379Z"
   },
   {
    "duration": 450,
    "start_time": "2022-01-23T14:52:41.388Z"
   },
   {
    "duration": 23,
    "start_time": "2022-01-23T14:52:41.842Z"
   },
   {
    "duration": 12,
    "start_time": "2022-01-23T14:52:41.868Z"
   },
   {
    "duration": 15,
    "start_time": "2022-01-23T14:52:41.883Z"
   },
   {
    "duration": 12,
    "start_time": "2022-01-23T14:52:41.900Z"
   },
   {
    "duration": 53,
    "start_time": "2022-01-23T14:52:41.914Z"
   },
   {
    "duration": 12,
    "start_time": "2022-01-23T14:52:41.969Z"
   },
   {
    "duration": 94,
    "start_time": "2022-01-23T14:52:41.988Z"
   },
   {
    "duration": 80,
    "start_time": "2022-01-23T14:52:42.086Z"
   },
   {
    "duration": 22,
    "start_time": "2022-01-23T14:52:42.169Z"
   },
   {
    "duration": 86,
    "start_time": "2022-01-23T14:52:42.195Z"
   },
   {
    "duration": 80,
    "start_time": "2022-01-23T14:52:42.284Z"
   },
   {
    "duration": 15,
    "start_time": "2022-01-23T14:52:42.367Z"
   },
   {
    "duration": 14,
    "start_time": "2022-01-23T14:52:42.384Z"
   },
   {
    "duration": 14,
    "start_time": "2022-01-23T14:52:42.400Z"
   },
   {
    "duration": 50,
    "start_time": "2022-01-23T14:52:42.416Z"
   },
   {
    "duration": 17,
    "start_time": "2022-01-23T14:52:42.469Z"
   },
   {
    "duration": 19,
    "start_time": "2022-01-23T14:52:42.488Z"
   },
   {
    "duration": 12,
    "start_time": "2022-01-23T14:52:42.510Z"
   },
   {
    "duration": 8,
    "start_time": "2022-01-23T14:52:42.524Z"
   },
   {
    "duration": 34,
    "start_time": "2022-01-23T14:52:42.535Z"
   },
   {
    "duration": 23,
    "start_time": "2022-01-23T14:52:42.572Z"
   },
   {
    "duration": 17,
    "start_time": "2022-01-23T14:52:42.597Z"
   },
   {
    "duration": 17,
    "start_time": "2022-01-23T14:52:42.616Z"
   },
   {
    "duration": 28,
    "start_time": "2022-01-23T14:52:42.664Z"
   },
   {
    "duration": 18,
    "start_time": "2022-01-23T14:52:42.697Z"
   },
   {
    "duration": 46,
    "start_time": "2022-01-23T14:52:42.718Z"
   },
   {
    "duration": 101,
    "start_time": "2022-01-23T14:52:42.768Z"
   },
   {
    "duration": 102,
    "start_time": "2022-01-23T14:52:42.872Z"
   },
   {
    "duration": 88,
    "start_time": "2022-01-23T14:52:42.977Z"
   },
   {
    "duration": 99,
    "start_time": "2022-01-23T14:52:43.071Z"
   },
   {
    "duration": 91,
    "start_time": "2022-01-23T14:52:43.174Z"
   },
   {
    "duration": 101,
    "start_time": "2022-01-23T14:52:43.269Z"
   },
   {
    "duration": 6,
    "start_time": "2022-01-23T14:52:43.373Z"
   },
   {
    "duration": 23,
    "start_time": "2022-01-23T14:52:43.381Z"
   },
   {
    "duration": 25,
    "start_time": "2022-01-23T14:52:43.406Z"
   },
   {
    "duration": 26,
    "start_time": "2022-01-23T14:52:43.433Z"
   },
   {
    "duration": 8,
    "start_time": "2022-01-23T14:52:43.462Z"
   },
   {
    "duration": 28,
    "start_time": "2022-01-23T14:52:43.472Z"
   },
   {
    "duration": 19,
    "start_time": "2022-01-23T14:52:43.503Z"
   },
   {
    "duration": 5,
    "start_time": "2022-01-23T14:53:27.226Z"
   },
   {
    "duration": 445,
    "start_time": "2022-01-23T14:53:27.234Z"
   },
   {
    "duration": 14,
    "start_time": "2022-01-23T14:53:27.682Z"
   },
   {
    "duration": 12,
    "start_time": "2022-01-23T14:53:27.699Z"
   },
   {
    "duration": 14,
    "start_time": "2022-01-23T14:53:27.714Z"
   },
   {
    "duration": 13,
    "start_time": "2022-01-23T14:53:27.765Z"
   },
   {
    "duration": 19,
    "start_time": "2022-01-23T14:53:27.780Z"
   },
   {
    "duration": 11,
    "start_time": "2022-01-23T14:53:27.803Z"
   },
   {
    "duration": 97,
    "start_time": "2022-01-23T14:53:27.818Z"
   },
   {
    "duration": 62,
    "start_time": "2022-01-23T14:53:27.918Z"
   },
   {
    "duration": 18,
    "start_time": "2022-01-23T14:53:27.983Z"
   },
   {
    "duration": 88,
    "start_time": "2022-01-23T14:53:28.003Z"
   },
   {
    "duration": 73,
    "start_time": "2022-01-23T14:53:28.094Z"
   },
   {
    "duration": 14,
    "start_time": "2022-01-23T14:53:28.169Z"
   },
   {
    "duration": 20,
    "start_time": "2022-01-23T14:53:28.185Z"
   },
   {
    "duration": 14,
    "start_time": "2022-01-23T14:53:28.207Z"
   },
   {
    "duration": 47,
    "start_time": "2022-01-23T14:53:28.223Z"
   },
   {
    "duration": 15,
    "start_time": "2022-01-23T14:53:28.272Z"
   },
   {
    "duration": 15,
    "start_time": "2022-01-23T14:53:28.290Z"
   },
   {
    "duration": 6,
    "start_time": "2022-01-23T14:53:28.308Z"
   },
   {
    "duration": 48,
    "start_time": "2022-01-23T14:53:28.316Z"
   },
   {
    "duration": 12,
    "start_time": "2022-01-23T14:53:28.367Z"
   },
   {
    "duration": 25,
    "start_time": "2022-01-23T14:53:28.386Z"
   },
   {
    "duration": 29,
    "start_time": "2022-01-23T14:53:28.414Z"
   },
   {
    "duration": 28,
    "start_time": "2022-01-23T14:53:28.446Z"
   },
   {
    "duration": 30,
    "start_time": "2022-01-23T14:53:28.476Z"
   },
   {
    "duration": 18,
    "start_time": "2022-01-23T14:53:28.509Z"
   },
   {
    "duration": 44,
    "start_time": "2022-01-23T14:53:28.529Z"
   },
   {
    "duration": 95,
    "start_time": "2022-01-23T14:53:28.576Z"
   },
   {
    "duration": 97,
    "start_time": "2022-01-23T14:53:28.675Z"
   },
   {
    "duration": 90,
    "start_time": "2022-01-23T14:53:28.775Z"
   },
   {
    "duration": 98,
    "start_time": "2022-01-23T14:53:28.868Z"
   },
   {
    "duration": 19,
    "start_time": "2022-01-23T14:53:28.969Z"
   },
   {
    "duration": 102,
    "start_time": "2022-01-23T14:53:29.065Z"
   },
   {
    "duration": 8,
    "start_time": "2022-01-23T14:53:29.170Z"
   },
   {
    "duration": 18,
    "start_time": "2022-01-23T14:53:29.180Z"
   },
   {
    "duration": 11,
    "start_time": "2022-01-23T14:53:29.200Z"
   },
   {
    "duration": 27,
    "start_time": "2022-01-23T14:53:29.214Z"
   },
   {
    "duration": 4,
    "start_time": "2022-01-23T14:53:29.244Z"
   },
   {
    "duration": 11,
    "start_time": "2022-01-23T14:53:29.265Z"
   },
   {
    "duration": 26,
    "start_time": "2022-01-23T14:53:29.279Z"
   },
   {
    "duration": 5,
    "start_time": "2022-01-23T14:53:37.631Z"
   },
   {
    "duration": 640,
    "start_time": "2022-01-23T14:53:37.639Z"
   },
   {
    "duration": 21,
    "start_time": "2022-01-23T14:53:38.284Z"
   },
   {
    "duration": 18,
    "start_time": "2022-01-23T14:53:38.309Z"
   },
   {
    "duration": 54,
    "start_time": "2022-01-23T14:53:38.330Z"
   },
   {
    "duration": 18,
    "start_time": "2022-01-23T14:53:38.387Z"
   },
   {
    "duration": 22,
    "start_time": "2022-01-23T14:53:38.408Z"
   },
   {
    "duration": 44,
    "start_time": "2022-01-23T14:53:38.436Z"
   },
   {
    "duration": 100,
    "start_time": "2022-01-23T14:53:38.485Z"
   },
   {
    "duration": 129,
    "start_time": "2022-01-23T14:53:38.588Z"
   },
   {
    "duration": 21,
    "start_time": "2022-01-23T14:53:38.720Z"
   },
   {
    "duration": 80,
    "start_time": "2022-01-23T14:53:38.743Z"
   },
   {
    "duration": 85,
    "start_time": "2022-01-23T14:53:38.826Z"
   },
   {
    "duration": 15,
    "start_time": "2022-01-23T14:53:38.913Z"
   },
   {
    "duration": 39,
    "start_time": "2022-01-23T14:53:38.931Z"
   },
   {
    "duration": 15,
    "start_time": "2022-01-23T14:53:38.972Z"
   },
   {
    "duration": 15,
    "start_time": "2022-01-23T14:53:38.989Z"
   },
   {
    "duration": 59,
    "start_time": "2022-01-23T14:53:39.007Z"
   },
   {
    "duration": 15,
    "start_time": "2022-01-23T14:53:39.069Z"
   },
   {
    "duration": 8,
    "start_time": "2022-01-23T14:53:39.087Z"
   },
   {
    "duration": 9,
    "start_time": "2022-01-23T14:53:39.098Z"
   },
   {
    "duration": 16,
    "start_time": "2022-01-23T14:53:39.110Z"
   },
   {
    "duration": 50,
    "start_time": "2022-01-23T14:53:39.131Z"
   },
   {
    "duration": 19,
    "start_time": "2022-01-23T14:53:39.184Z"
   },
   {
    "duration": 21,
    "start_time": "2022-01-23T14:53:39.206Z"
   },
   {
    "duration": 61,
    "start_time": "2022-01-23T14:53:39.230Z"
   },
   {
    "duration": 19,
    "start_time": "2022-01-23T14:53:39.294Z"
   },
   {
    "duration": 48,
    "start_time": "2022-01-23T14:53:39.316Z"
   },
   {
    "duration": 200,
    "start_time": "2022-01-23T14:53:39.367Z"
   },
   {
    "duration": 9,
    "start_time": "2022-01-23T14:53:39.570Z"
   },
   {
    "duration": 88,
    "start_time": "2022-01-23T14:53:39.582Z"
   },
   {
    "duration": 93,
    "start_time": "2022-01-23T14:53:39.674Z"
   },
   {
    "duration": 103,
    "start_time": "2022-01-23T14:53:39.770Z"
   },
   {
    "duration": 96,
    "start_time": "2022-01-23T14:53:39.876Z"
   },
   {
    "duration": 7,
    "start_time": "2022-01-23T14:53:39.975Z"
   },
   {
    "duration": 17,
    "start_time": "2022-01-23T14:53:39.985Z"
   },
   {
    "duration": 16,
    "start_time": "2022-01-23T14:53:40.005Z"
   },
   {
    "duration": 41,
    "start_time": "2022-01-23T14:53:40.024Z"
   },
   {
    "duration": 10,
    "start_time": "2022-01-23T14:53:40.068Z"
   },
   {
    "duration": 10,
    "start_time": "2022-01-23T14:53:40.081Z"
   },
   {
    "duration": 4032,
    "start_time": "2022-01-23T14:53:40.093Z"
   },
   {
    "duration": 5,
    "start_time": "2022-01-23T14:56:01.613Z"
   },
   {
    "duration": 499,
    "start_time": "2022-01-23T14:56:01.622Z"
   },
   {
    "duration": 14,
    "start_time": "2022-01-23T14:56:02.124Z"
   },
   {
    "duration": 26,
    "start_time": "2022-01-23T14:56:02.141Z"
   },
   {
    "duration": 18,
    "start_time": "2022-01-23T14:56:02.170Z"
   },
   {
    "duration": 12,
    "start_time": "2022-01-23T14:56:02.191Z"
   },
   {
    "duration": 15,
    "start_time": "2022-01-23T14:56:02.206Z"
   },
   {
    "duration": 47,
    "start_time": "2022-01-23T14:56:02.225Z"
   },
   {
    "duration": 84,
    "start_time": "2022-01-23T14:56:02.275Z"
   },
   {
    "duration": 64,
    "start_time": "2022-01-23T14:56:02.362Z"
   },
   {
    "duration": 45,
    "start_time": "2022-01-23T14:56:02.429Z"
   },
   {
    "duration": 63,
    "start_time": "2022-01-23T14:56:02.477Z"
   },
   {
    "duration": 81,
    "start_time": "2022-01-23T14:56:02.543Z"
   },
   {
    "duration": 14,
    "start_time": "2022-01-23T14:56:02.627Z"
   },
   {
    "duration": 16,
    "start_time": "2022-01-23T14:56:02.664Z"
   },
   {
    "duration": 32,
    "start_time": "2022-01-23T14:56:02.683Z"
   },
   {
    "duration": 15,
    "start_time": "2022-01-23T14:56:02.718Z"
   },
   {
    "duration": 45,
    "start_time": "2022-01-23T14:56:02.736Z"
   },
   {
    "duration": 22,
    "start_time": "2022-01-23T14:56:02.784Z"
   },
   {
    "duration": 7,
    "start_time": "2022-01-23T14:56:02.809Z"
   },
   {
    "duration": 13,
    "start_time": "2022-01-23T14:56:02.818Z"
   },
   {
    "duration": 31,
    "start_time": "2022-01-23T14:56:02.834Z"
   },
   {
    "duration": 19,
    "start_time": "2022-01-23T14:56:02.870Z"
   },
   {
    "duration": 17,
    "start_time": "2022-01-23T14:56:02.892Z"
   },
   {
    "duration": 52,
    "start_time": "2022-01-23T14:56:02.912Z"
   },
   {
    "duration": 30,
    "start_time": "2022-01-23T14:56:02.967Z"
   },
   {
    "duration": 20,
    "start_time": "2022-01-23T14:56:03.000Z"
   },
   {
    "duration": 53,
    "start_time": "2022-01-23T14:56:03.022Z"
   },
   {
    "duration": 187,
    "start_time": "2022-01-23T14:56:03.079Z"
   },
   {
    "duration": 10,
    "start_time": "2022-01-23T14:56:03.269Z"
   },
   {
    "duration": 87,
    "start_time": "2022-01-23T14:56:03.281Z"
   },
   {
    "duration": 98,
    "start_time": "2022-01-23T14:56:03.372Z"
   },
   {
    "duration": 107,
    "start_time": "2022-01-23T14:56:03.473Z"
   },
   {
    "duration": 88,
    "start_time": "2022-01-23T14:56:03.583Z"
   },
   {
    "duration": 7,
    "start_time": "2022-01-23T14:56:03.674Z"
   },
   {
    "duration": 8,
    "start_time": "2022-01-23T14:56:03.683Z"
   },
   {
    "duration": 9,
    "start_time": "2022-01-23T14:56:03.694Z"
   },
   {
    "duration": 6,
    "start_time": "2022-01-23T14:56:03.705Z"
   },
   {
    "duration": 54,
    "start_time": "2022-01-23T14:56:03.714Z"
   },
   {
    "duration": 9,
    "start_time": "2022-01-23T14:56:03.770Z"
   },
   {
    "duration": 3965,
    "start_time": "2022-01-23T14:56:03.782Z"
   },
   {
    "duration": 5,
    "start_time": "2022-01-23T14:57:24.283Z"
   },
   {
    "duration": 459,
    "start_time": "2022-01-23T14:57:24.291Z"
   },
   {
    "duration": 14,
    "start_time": "2022-01-23T14:57:24.754Z"
   },
   {
    "duration": 18,
    "start_time": "2022-01-23T14:57:24.772Z"
   },
   {
    "duration": 24,
    "start_time": "2022-01-23T14:57:24.793Z"
   },
   {
    "duration": 16,
    "start_time": "2022-01-23T14:57:24.820Z"
   },
   {
    "duration": 35,
    "start_time": "2022-01-23T14:57:24.839Z"
   },
   {
    "duration": 14,
    "start_time": "2022-01-23T14:57:24.878Z"
   },
   {
    "duration": 91,
    "start_time": "2022-01-23T14:57:24.896Z"
   },
   {
    "duration": 86,
    "start_time": "2022-01-23T14:57:24.990Z"
   },
   {
    "duration": 20,
    "start_time": "2022-01-23T14:57:25.079Z"
   },
   {
    "duration": 98,
    "start_time": "2022-01-23T14:57:25.102Z"
   },
   {
    "duration": 84,
    "start_time": "2022-01-23T14:57:25.203Z"
   },
   {
    "duration": 21,
    "start_time": "2022-01-23T14:57:25.291Z"
   },
   {
    "duration": 20,
    "start_time": "2022-01-23T14:57:25.315Z"
   },
   {
    "duration": 19,
    "start_time": "2022-01-23T14:57:25.366Z"
   },
   {
    "duration": 17,
    "start_time": "2022-01-23T14:57:25.388Z"
   },
   {
    "duration": 18,
    "start_time": "2022-01-23T14:57:25.408Z"
   },
   {
    "duration": 48,
    "start_time": "2022-01-23T14:57:25.429Z"
   },
   {
    "duration": 9,
    "start_time": "2022-01-23T14:57:25.480Z"
   },
   {
    "duration": 12,
    "start_time": "2022-01-23T14:57:25.492Z"
   },
   {
    "duration": 11,
    "start_time": "2022-01-23T14:57:25.506Z"
   },
   {
    "duration": 42,
    "start_time": "2022-01-23T14:57:25.523Z"
   },
   {
    "duration": 18,
    "start_time": "2022-01-23T14:57:25.568Z"
   },
   {
    "duration": 18,
    "start_time": "2022-01-23T14:57:25.589Z"
   },
   {
    "duration": 59,
    "start_time": "2022-01-23T14:57:25.610Z"
   },
   {
    "duration": 20,
    "start_time": "2022-01-23T14:57:25.671Z"
   },
   {
    "duration": 25,
    "start_time": "2022-01-23T14:57:25.694Z"
   },
   {
    "duration": 55,
    "start_time": "2022-01-23T14:57:25.721Z"
   },
   {
    "duration": 95,
    "start_time": "2022-01-23T14:57:25.779Z"
   },
   {
    "duration": 95,
    "start_time": "2022-01-23T14:57:25.878Z"
   },
   {
    "duration": 95,
    "start_time": "2022-01-23T14:57:25.976Z"
   },
   {
    "duration": 96,
    "start_time": "2022-01-23T14:57:26.074Z"
   },
   {
    "duration": 100,
    "start_time": "2022-01-23T14:57:26.174Z"
   },
   {
    "duration": 8,
    "start_time": "2022-01-23T14:57:26.276Z"
   },
   {
    "duration": 9,
    "start_time": "2022-01-23T14:57:26.289Z"
   },
   {
    "duration": 7,
    "start_time": "2022-01-23T14:57:26.300Z"
   },
   {
    "duration": 7,
    "start_time": "2022-01-23T14:57:26.309Z"
   },
   {
    "duration": 5,
    "start_time": "2022-01-23T14:57:26.364Z"
   },
   {
    "duration": 15,
    "start_time": "2022-01-23T14:57:26.371Z"
   },
   {
    "duration": 6407,
    "start_time": "2022-01-23T14:57:26.388Z"
   },
   {
    "duration": 6,
    "start_time": "2022-01-23T14:58:24.747Z"
   },
   {
    "duration": 536,
    "start_time": "2022-01-23T14:58:24.756Z"
   },
   {
    "duration": 18,
    "start_time": "2022-01-23T14:58:25.296Z"
   },
   {
    "duration": 13,
    "start_time": "2022-01-23T14:58:25.317Z"
   },
   {
    "duration": 50,
    "start_time": "2022-01-23T14:58:25.333Z"
   },
   {
    "duration": 15,
    "start_time": "2022-01-23T14:58:25.386Z"
   },
   {
    "duration": 22,
    "start_time": "2022-01-23T14:58:25.404Z"
   },
   {
    "duration": 46,
    "start_time": "2022-01-23T14:58:25.432Z"
   },
   {
    "duration": 85,
    "start_time": "2022-01-23T14:58:25.483Z"
   },
   {
    "duration": 63,
    "start_time": "2022-01-23T14:58:25.571Z"
   },
   {
    "duration": 38,
    "start_time": "2022-01-23T14:58:25.636Z"
   },
   {
    "duration": 62,
    "start_time": "2022-01-23T14:58:25.677Z"
   },
   {
    "duration": 86,
    "start_time": "2022-01-23T14:58:25.741Z"
   },
   {
    "duration": 36,
    "start_time": "2022-01-23T14:58:25.830Z"
   },
   {
    "duration": 16,
    "start_time": "2022-01-23T14:58:25.869Z"
   },
   {
    "duration": 16,
    "start_time": "2022-01-23T14:58:25.887Z"
   },
   {
    "duration": 16,
    "start_time": "2022-01-23T14:58:25.905Z"
   },
   {
    "duration": 53,
    "start_time": "2022-01-23T14:58:25.924Z"
   },
   {
    "duration": 19,
    "start_time": "2022-01-23T14:58:25.980Z"
   },
   {
    "duration": 8,
    "start_time": "2022-01-23T14:58:26.001Z"
   },
   {
    "duration": 9,
    "start_time": "2022-01-23T14:58:26.011Z"
   },
   {
    "duration": 9,
    "start_time": "2022-01-23T14:58:26.022Z"
   },
   {
    "duration": 17,
    "start_time": "2022-01-23T14:58:26.068Z"
   },
   {
    "duration": 16,
    "start_time": "2022-01-23T14:58:26.088Z"
   },
   {
    "duration": 16,
    "start_time": "2022-01-23T14:58:26.107Z"
   },
   {
    "duration": 58,
    "start_time": "2022-01-23T14:58:26.125Z"
   },
   {
    "duration": 19,
    "start_time": "2022-01-23T14:58:26.185Z"
   },
   {
    "duration": 18,
    "start_time": "2022-01-23T14:58:26.206Z"
   },
   {
    "duration": 147,
    "start_time": "2022-01-23T14:58:26.226Z"
   },
   {
    "duration": 94,
    "start_time": "2022-01-23T14:58:26.375Z"
   },
   {
    "duration": 101,
    "start_time": "2022-01-23T14:58:26.472Z"
   },
   {
    "duration": 8,
    "start_time": "2022-01-23T14:58:26.665Z"
   },
   {
    "duration": 89,
    "start_time": "2022-01-23T14:58:26.676Z"
   },
   {
    "duration": 98,
    "start_time": "2022-01-23T14:58:26.769Z"
   },
   {
    "duration": 7,
    "start_time": "2022-01-23T14:58:26.869Z"
   },
   {
    "duration": 7,
    "start_time": "2022-01-23T14:58:26.879Z"
   },
   {
    "duration": 5,
    "start_time": "2022-01-23T14:58:26.889Z"
   },
   {
    "duration": 6,
    "start_time": "2022-01-23T14:58:26.896Z"
   },
   {
    "duration": 8,
    "start_time": "2022-01-23T14:58:26.904Z"
   },
   {
    "duration": 5,
    "start_time": "2022-01-23T14:58:26.965Z"
   },
   {
    "duration": 4077,
    "start_time": "2022-01-23T14:58:26.973Z"
   },
   {
    "duration": 6,
    "start_time": "2022-01-23T14:58:53.624Z"
   },
   {
    "duration": 524,
    "start_time": "2022-01-23T14:58:53.633Z"
   },
   {
    "duration": 23,
    "start_time": "2022-01-23T14:58:54.161Z"
   },
   {
    "duration": 17,
    "start_time": "2022-01-23T14:58:54.188Z"
   },
   {
    "duration": 14,
    "start_time": "2022-01-23T14:58:54.208Z"
   },
   {
    "duration": 50,
    "start_time": "2022-01-23T14:58:54.225Z"
   },
   {
    "duration": 18,
    "start_time": "2022-01-23T14:58:54.277Z"
   },
   {
    "duration": 11,
    "start_time": "2022-01-23T14:58:54.298Z"
   },
   {
    "duration": 115,
    "start_time": "2022-01-23T14:58:54.312Z"
   },
   {
    "duration": 71,
    "start_time": "2022-01-23T14:58:54.429Z"
   },
   {
    "duration": 22,
    "start_time": "2022-01-23T14:58:54.502Z"
   },
   {
    "duration": 95,
    "start_time": "2022-01-23T14:58:54.526Z"
   },
   {
    "duration": 78,
    "start_time": "2022-01-23T14:58:54.624Z"
   },
   {
    "duration": 16,
    "start_time": "2022-01-23T14:58:54.704Z"
   },
   {
    "duration": 42,
    "start_time": "2022-01-23T14:58:54.723Z"
   },
   {
    "duration": 16,
    "start_time": "2022-01-23T14:58:54.767Z"
   },
   {
    "duration": 14,
    "start_time": "2022-01-23T14:58:54.786Z"
   },
   {
    "duration": 16,
    "start_time": "2022-01-23T14:58:54.803Z"
   },
   {
    "duration": 55,
    "start_time": "2022-01-23T14:58:54.821Z"
   },
   {
    "duration": 20,
    "start_time": "2022-01-23T14:58:54.879Z"
   },
   {
    "duration": 16,
    "start_time": "2022-01-23T14:58:54.901Z"
   },
   {
    "duration": 18,
    "start_time": "2022-01-23T14:58:54.919Z"
   },
   {
    "duration": 32,
    "start_time": "2022-01-23T14:58:54.942Z"
   },
   {
    "duration": 17,
    "start_time": "2022-01-23T14:58:54.977Z"
   },
   {
    "duration": 17,
    "start_time": "2022-01-23T14:58:54.996Z"
   },
   {
    "duration": 57,
    "start_time": "2022-01-23T14:58:55.015Z"
   },
   {
    "duration": 21,
    "start_time": "2022-01-23T14:58:55.074Z"
   },
   {
    "duration": 20,
    "start_time": "2022-01-23T14:58:55.098Z"
   },
   {
    "duration": 152,
    "start_time": "2022-01-23T14:58:55.121Z"
   },
   {
    "duration": 95,
    "start_time": "2022-01-23T14:58:55.277Z"
   },
   {
    "duration": 94,
    "start_time": "2022-01-23T14:58:55.376Z"
   },
   {
    "duration": 99,
    "start_time": "2022-01-23T14:58:55.473Z"
   },
   {
    "duration": 95,
    "start_time": "2022-01-23T14:58:55.575Z"
   },
   {
    "duration": 8,
    "start_time": "2022-01-23T14:58:55.764Z"
   },
   {
    "duration": 6,
    "start_time": "2022-01-23T14:58:55.774Z"
   },
   {
    "duration": 24,
    "start_time": "2022-01-23T14:58:55.783Z"
   },
   {
    "duration": 8,
    "start_time": "2022-01-23T14:58:55.809Z"
   },
   {
    "duration": 7,
    "start_time": "2022-01-23T14:58:55.819Z"
   },
   {
    "duration": 37,
    "start_time": "2022-01-23T14:58:55.828Z"
   },
   {
    "duration": 12,
    "start_time": "2022-01-23T14:58:55.868Z"
   },
   {
    "duration": 3413,
    "start_time": "2022-01-23T14:58:55.882Z"
   },
   {
    "duration": 5,
    "start_time": "2022-01-23T14:59:10.364Z"
   },
   {
    "duration": 469,
    "start_time": "2022-01-23T14:59:10.372Z"
   },
   {
    "duration": 21,
    "start_time": "2022-01-23T14:59:10.844Z"
   },
   {
    "duration": 26,
    "start_time": "2022-01-23T14:59:10.867Z"
   },
   {
    "duration": 16,
    "start_time": "2022-01-23T14:59:10.896Z"
   },
   {
    "duration": 24,
    "start_time": "2022-01-23T14:59:10.915Z"
   },
   {
    "duration": 30,
    "start_time": "2022-01-23T14:59:10.942Z"
   },
   {
    "duration": 13,
    "start_time": "2022-01-23T14:59:10.975Z"
   },
   {
    "duration": 90,
    "start_time": "2022-01-23T14:59:10.992Z"
   },
   {
    "duration": 59,
    "start_time": "2022-01-23T14:59:11.086Z"
   },
   {
    "duration": 19,
    "start_time": "2022-01-23T14:59:11.164Z"
   },
   {
    "duration": 80,
    "start_time": "2022-01-23T14:59:11.186Z"
   },
   {
    "duration": 61,
    "start_time": "2022-01-23T14:59:11.268Z"
   },
   {
    "duration": 34,
    "start_time": "2022-01-23T14:59:11.332Z"
   },
   {
    "duration": 15,
    "start_time": "2022-01-23T14:59:11.368Z"
   },
   {
    "duration": 13,
    "start_time": "2022-01-23T14:59:11.385Z"
   },
   {
    "duration": 14,
    "start_time": "2022-01-23T14:59:11.401Z"
   },
   {
    "duration": 55,
    "start_time": "2022-01-23T14:59:11.418Z"
   },
   {
    "duration": 45,
    "start_time": "2022-01-23T14:59:11.476Z"
   },
   {
    "duration": 18,
    "start_time": "2022-01-23T14:59:11.524Z"
   },
   {
    "duration": 10,
    "start_time": "2022-01-23T14:59:11.544Z"
   },
   {
    "duration": 11,
    "start_time": "2022-01-23T14:59:11.557Z"
   },
   {
    "duration": 34,
    "start_time": "2022-01-23T14:59:11.571Z"
   },
   {
    "duration": 29,
    "start_time": "2022-01-23T14:59:11.608Z"
   },
   {
    "duration": 18,
    "start_time": "2022-01-23T14:59:11.639Z"
   },
   {
    "duration": 32,
    "start_time": "2022-01-23T14:59:11.659Z"
   },
   {
    "duration": 24,
    "start_time": "2022-01-23T14:59:11.697Z"
   },
   {
    "duration": 40,
    "start_time": "2022-01-23T14:59:11.725Z"
   },
   {
    "duration": 99,
    "start_time": "2022-01-23T14:59:11.768Z"
   },
   {
    "duration": 99,
    "start_time": "2022-01-23T14:59:11.871Z"
   },
   {
    "duration": 22,
    "start_time": "2022-01-23T14:59:11.973Z"
   },
   {
    "duration": 169,
    "start_time": "2022-01-23T14:59:11.998Z"
   },
   {
    "duration": 94,
    "start_time": "2022-01-23T14:59:12.170Z"
   },
   {
    "duration": 103,
    "start_time": "2022-01-23T14:59:12.267Z"
   },
   {
    "duration": 7,
    "start_time": "2022-01-23T14:59:12.374Z"
   },
   {
    "duration": 6,
    "start_time": "2022-01-23T14:59:12.384Z"
   },
   {
    "duration": 6,
    "start_time": "2022-01-23T14:59:12.393Z"
   },
   {
    "duration": 9,
    "start_time": "2022-01-23T14:59:12.401Z"
   },
   {
    "duration": 54,
    "start_time": "2022-01-23T14:59:12.412Z"
   },
   {
    "duration": 8,
    "start_time": "2022-01-23T14:59:12.468Z"
   },
   {
    "duration": 3562,
    "start_time": "2022-01-23T14:59:12.478Z"
   },
   {
    "duration": 4,
    "start_time": "2022-01-23T14:59:37.793Z"
   },
   {
    "duration": 432,
    "start_time": "2022-01-23T14:59:37.800Z"
   },
   {
    "duration": 12,
    "start_time": "2022-01-23T14:59:38.235Z"
   },
   {
    "duration": 20,
    "start_time": "2022-01-23T14:59:38.250Z"
   },
   {
    "duration": 14,
    "start_time": "2022-01-23T14:59:38.273Z"
   },
   {
    "duration": 12,
    "start_time": "2022-01-23T14:59:38.289Z"
   },
   {
    "duration": 24,
    "start_time": "2022-01-23T14:59:38.303Z"
   },
   {
    "duration": 44,
    "start_time": "2022-01-23T14:59:38.330Z"
   },
   {
    "duration": 85,
    "start_time": "2022-01-23T14:59:38.379Z"
   },
   {
    "duration": 60,
    "start_time": "2022-01-23T14:59:38.467Z"
   },
   {
    "duration": 40,
    "start_time": "2022-01-23T14:59:38.529Z"
   },
   {
    "duration": 62,
    "start_time": "2022-01-23T14:59:38.572Z"
   },
   {
    "duration": 81,
    "start_time": "2022-01-23T14:59:38.637Z"
   },
   {
    "duration": 14,
    "start_time": "2022-01-23T14:59:38.720Z"
   },
   {
    "duration": 39,
    "start_time": "2022-01-23T14:59:38.737Z"
   },
   {
    "duration": 14,
    "start_time": "2022-01-23T14:59:38.778Z"
   },
   {
    "duration": 15,
    "start_time": "2022-01-23T14:59:38.794Z"
   },
   {
    "duration": 15,
    "start_time": "2022-01-23T14:59:38.812Z"
   },
   {
    "duration": 15,
    "start_time": "2022-01-23T14:59:38.865Z"
   },
   {
    "duration": 19,
    "start_time": "2022-01-23T14:59:38.883Z"
   },
   {
    "duration": 13,
    "start_time": "2022-01-23T14:59:38.905Z"
   },
   {
    "duration": 21,
    "start_time": "2022-01-23T14:59:38.920Z"
   },
   {
    "duration": 22,
    "start_time": "2022-01-23T14:59:38.944Z"
   },
   {
    "duration": 17,
    "start_time": "2022-01-23T14:59:38.969Z"
   },
   {
    "duration": 16,
    "start_time": "2022-01-23T14:59:38.988Z"
   },
   {
    "duration": 26,
    "start_time": "2022-01-23T14:59:39.006Z"
   },
   {
    "duration": 19,
    "start_time": "2022-01-23T14:59:39.066Z"
   },
   {
    "duration": 18,
    "start_time": "2022-01-23T14:59:39.088Z"
   },
   {
    "duration": 157,
    "start_time": "2022-01-23T14:59:39.108Z"
   },
   {
    "duration": 8,
    "start_time": "2022-01-23T14:59:39.268Z"
   },
   {
    "duration": 93,
    "start_time": "2022-01-23T14:59:39.279Z"
   },
   {
    "duration": 93,
    "start_time": "2022-01-23T14:59:39.375Z"
   },
   {
    "duration": 99,
    "start_time": "2022-01-23T14:59:39.471Z"
   },
   {
    "duration": 94,
    "start_time": "2022-01-23T14:59:39.573Z"
   },
   {
    "duration": 7,
    "start_time": "2022-01-23T14:59:39.669Z"
   },
   {
    "duration": 20,
    "start_time": "2022-01-23T14:59:39.679Z"
   },
   {
    "duration": 6,
    "start_time": "2022-01-23T14:59:39.702Z"
   },
   {
    "duration": 7,
    "start_time": "2022-01-23T14:59:39.711Z"
   },
   {
    "duration": 45,
    "start_time": "2022-01-23T14:59:39.720Z"
   },
   {
    "duration": 8,
    "start_time": "2022-01-23T14:59:39.767Z"
   },
   {
    "duration": 3600,
    "start_time": "2022-01-23T14:59:39.777Z"
   },
   {
    "duration": 6,
    "start_time": "2022-01-23T15:00:39.744Z"
   },
   {
    "duration": 714,
    "start_time": "2022-01-23T15:00:39.753Z"
   },
   {
    "duration": 15,
    "start_time": "2022-01-23T15:00:40.471Z"
   },
   {
    "duration": 17,
    "start_time": "2022-01-23T15:00:40.490Z"
   },
   {
    "duration": 55,
    "start_time": "2022-01-23T15:00:40.510Z"
   },
   {
    "duration": 13,
    "start_time": "2022-01-23T15:00:40.568Z"
   },
   {
    "duration": 31,
    "start_time": "2022-01-23T15:00:40.585Z"
   },
   {
    "duration": 14,
    "start_time": "2022-01-23T15:00:40.619Z"
   },
   {
    "duration": 67,
    "start_time": "2022-01-23T15:00:40.670Z"
   },
   {
    "duration": 89,
    "start_time": "2022-01-23T15:00:40.741Z"
   },
   {
    "duration": 41,
    "start_time": "2022-01-23T15:00:40.832Z"
   },
   {
    "duration": 68,
    "start_time": "2022-01-23T15:00:40.876Z"
   },
   {
    "duration": 105,
    "start_time": "2022-01-23T15:00:40.947Z"
   },
   {
    "duration": 16,
    "start_time": "2022-01-23T15:00:41.064Z"
   },
   {
    "duration": 16,
    "start_time": "2022-01-23T15:00:41.083Z"
   },
   {
    "duration": 15,
    "start_time": "2022-01-23T15:00:41.102Z"
   },
   {
    "duration": 58,
    "start_time": "2022-01-23T15:00:41.120Z"
   },
   {
    "duration": 17,
    "start_time": "2022-01-23T15:00:41.181Z"
   },
   {
    "duration": 17,
    "start_time": "2022-01-23T15:00:41.201Z"
   },
   {
    "duration": 45,
    "start_time": "2022-01-23T15:00:41.222Z"
   },
   {
    "duration": 8,
    "start_time": "2022-01-23T15:00:41.270Z"
   },
   {
    "duration": 16,
    "start_time": "2022-01-23T15:00:41.280Z"
   },
   {
    "duration": 25,
    "start_time": "2022-01-23T15:00:41.299Z"
   },
   {
    "duration": 44,
    "start_time": "2022-01-23T15:00:41.326Z"
   },
   {
    "duration": 22,
    "start_time": "2022-01-23T15:00:41.373Z"
   },
   {
    "duration": 32,
    "start_time": "2022-01-23T15:00:41.397Z"
   },
   {
    "duration": 22,
    "start_time": "2022-01-23T15:00:41.465Z"
   },
   {
    "duration": 22,
    "start_time": "2022-01-23T15:00:41.492Z"
   },
   {
    "duration": 150,
    "start_time": "2022-01-23T15:00:41.517Z"
   },
   {
    "duration": 8,
    "start_time": "2022-01-23T15:00:41.672Z"
   },
   {
    "duration": 186,
    "start_time": "2022-01-23T15:00:41.683Z"
   },
   {
    "duration": 100,
    "start_time": "2022-01-23T15:00:41.871Z"
   },
   {
    "duration": 97,
    "start_time": "2022-01-23T15:00:41.974Z"
   },
   {
    "duration": 100,
    "start_time": "2022-01-23T15:00:42.075Z"
   },
   {
    "duration": 27,
    "start_time": "2022-01-23T15:00:42.180Z"
   },
   {
    "duration": 18,
    "start_time": "2022-01-23T15:00:42.210Z"
   },
   {
    "duration": 18,
    "start_time": "2022-01-23T15:00:42.230Z"
   },
   {
    "duration": 8,
    "start_time": "2022-01-23T15:00:42.251Z"
   },
   {
    "duration": 21,
    "start_time": "2022-01-23T15:00:42.261Z"
   },
   {
    "duration": 13,
    "start_time": "2022-01-23T15:00:42.284Z"
   },
   {
    "duration": 4057,
    "start_time": "2022-01-23T15:00:42.299Z"
   },
   {
    "duration": 5,
    "start_time": "2022-01-23T15:01:35.822Z"
   },
   {
    "duration": 468,
    "start_time": "2022-01-23T15:01:35.836Z"
   },
   {
    "duration": 13,
    "start_time": "2022-01-23T15:01:36.307Z"
   },
   {
    "duration": 11,
    "start_time": "2022-01-23T15:01:36.324Z"
   },
   {
    "duration": 39,
    "start_time": "2022-01-23T15:01:36.339Z"
   },
   {
    "duration": 11,
    "start_time": "2022-01-23T15:01:36.381Z"
   },
   {
    "duration": 16,
    "start_time": "2022-01-23T15:01:36.394Z"
   },
   {
    "duration": 13,
    "start_time": "2022-01-23T15:01:36.413Z"
   },
   {
    "duration": 106,
    "start_time": "2022-01-23T15:01:36.428Z"
   },
   {
    "duration": 128,
    "start_time": "2022-01-23T15:01:36.538Z"
   },
   {
    "duration": 22,
    "start_time": "2022-01-23T15:01:36.669Z"
   },
   {
    "duration": 90,
    "start_time": "2022-01-23T15:01:36.694Z"
   },
   {
    "duration": 103,
    "start_time": "2022-01-23T15:01:36.786Z"
   },
   {
    "duration": 18,
    "start_time": "2022-01-23T15:01:36.892Z"
   },
   {
    "duration": 18,
    "start_time": "2022-01-23T15:01:36.913Z"
   },
   {
    "duration": 48,
    "start_time": "2022-01-23T15:01:36.934Z"
   },
   {
    "duration": 25,
    "start_time": "2022-01-23T15:01:36.985Z"
   },
   {
    "duration": 64,
    "start_time": "2022-01-23T15:01:37.013Z"
   },
   {
    "duration": 34,
    "start_time": "2022-01-23T15:01:37.081Z"
   },
   {
    "duration": 17,
    "start_time": "2022-01-23T15:01:37.118Z"
   },
   {
    "duration": 15,
    "start_time": "2022-01-23T15:01:37.138Z"
   },
   {
    "duration": 14,
    "start_time": "2022-01-23T15:01:37.156Z"
   },
   {
    "duration": 26,
    "start_time": "2022-01-23T15:01:37.174Z"
   },
   {
    "duration": 21,
    "start_time": "2022-01-23T15:01:37.204Z"
   },
   {
    "duration": 55,
    "start_time": "2022-01-23T15:01:37.230Z"
   },
   {
    "duration": 32,
    "start_time": "2022-01-23T15:01:37.288Z"
   },
   {
    "duration": 56,
    "start_time": "2022-01-23T15:01:37.323Z"
   },
   {
    "duration": 24,
    "start_time": "2022-01-23T15:01:37.384Z"
   },
   {
    "duration": 66,
    "start_time": "2022-01-23T15:01:37.411Z"
   },
   {
    "duration": 96,
    "start_time": "2022-01-23T15:01:37.480Z"
   },
   {
    "duration": 110,
    "start_time": "2022-01-23T15:01:37.579Z"
   },
   {
    "duration": 13,
    "start_time": "2022-01-23T15:01:37.766Z"
   },
   {
    "duration": 22,
    "start_time": "2022-01-23T15:01:37.866Z"
   },
   {
    "duration": 174,
    "start_time": "2022-01-23T15:01:37.891Z"
   },
   {
    "duration": 24,
    "start_time": "2022-01-23T15:01:38.068Z"
   },
   {
    "duration": 39,
    "start_time": "2022-01-23T15:01:38.094Z"
   },
   {
    "duration": 24,
    "start_time": "2022-01-23T15:01:38.136Z"
   },
   {
    "duration": 40,
    "start_time": "2022-01-23T15:01:38.162Z"
   },
   {
    "duration": 21,
    "start_time": "2022-01-23T15:01:38.205Z"
   },
   {
    "duration": 17,
    "start_time": "2022-01-23T15:01:38.230Z"
   },
   {
    "duration": 4558,
    "start_time": "2022-01-23T15:01:38.252Z"
   },
   {
    "duration": 6,
    "start_time": "2022-01-23T15:03:49.911Z"
   },
   {
    "duration": 599,
    "start_time": "2022-01-23T15:03:49.920Z"
   },
   {
    "duration": 21,
    "start_time": "2022-01-23T15:03:50.524Z"
   },
   {
    "duration": 31,
    "start_time": "2022-01-23T15:03:50.550Z"
   },
   {
    "duration": 20,
    "start_time": "2022-01-23T15:03:50.585Z"
   },
   {
    "duration": 12,
    "start_time": "2022-01-23T15:03:50.608Z"
   },
   {
    "duration": 52,
    "start_time": "2022-01-23T15:03:50.622Z"
   },
   {
    "duration": 14,
    "start_time": "2022-01-23T15:03:50.677Z"
   },
   {
    "duration": 98,
    "start_time": "2022-01-23T15:03:50.700Z"
   },
   {
    "duration": 79,
    "start_time": "2022-01-23T15:03:50.802Z"
   },
   {
    "duration": 20,
    "start_time": "2022-01-23T15:03:50.884Z"
   },
   {
    "duration": 94,
    "start_time": "2022-01-23T15:03:50.908Z"
   },
   {
    "duration": 80,
    "start_time": "2022-01-23T15:03:51.004Z"
   },
   {
    "duration": 17,
    "start_time": "2022-01-23T15:03:51.087Z"
   },
   {
    "duration": 17,
    "start_time": "2022-01-23T15:03:51.107Z"
   },
   {
    "duration": 43,
    "start_time": "2022-01-23T15:03:51.127Z"
   },
   {
    "duration": 21,
    "start_time": "2022-01-23T15:03:51.172Z"
   },
   {
    "duration": 25,
    "start_time": "2022-01-23T15:03:51.196Z"
   },
   {
    "duration": 51,
    "start_time": "2022-01-23T15:03:51.224Z"
   },
   {
    "duration": 16,
    "start_time": "2022-01-23T15:03:51.278Z"
   },
   {
    "duration": 11,
    "start_time": "2022-01-23T15:03:51.297Z"
   },
   {
    "duration": 25,
    "start_time": "2022-01-23T15:03:51.311Z"
   },
   {
    "duration": 30,
    "start_time": "2022-01-23T15:03:51.338Z"
   },
   {
    "duration": 18,
    "start_time": "2022-01-23T15:03:51.371Z"
   },
   {
    "duration": 25,
    "start_time": "2022-01-23T15:03:51.392Z"
   },
   {
    "duration": 56,
    "start_time": "2022-01-23T15:03:51.421Z"
   },
   {
    "duration": 28,
    "start_time": "2022-01-23T15:03:51.486Z"
   },
   {
    "duration": 51,
    "start_time": "2022-01-23T15:03:51.518Z"
   },
   {
    "duration": 95,
    "start_time": "2022-01-23T15:03:51.572Z"
   },
   {
    "duration": 100,
    "start_time": "2022-01-23T15:03:51.671Z"
   },
   {
    "duration": 95,
    "start_time": "2022-01-23T15:03:51.774Z"
   },
   {
    "duration": 99,
    "start_time": "2022-01-23T15:03:51.872Z"
   },
   {
    "duration": 92,
    "start_time": "2022-01-23T15:03:51.974Z"
   },
   {
    "duration": 97,
    "start_time": "2022-01-23T15:03:52.070Z"
   },
   {
    "duration": 21,
    "start_time": "2022-01-23T15:03:52.171Z"
   },
   {
    "duration": 8,
    "start_time": "2022-01-23T15:03:52.195Z"
   },
   {
    "duration": 8,
    "start_time": "2022-01-23T15:03:52.205Z"
   },
   {
    "duration": 7,
    "start_time": "2022-01-23T15:03:52.215Z"
   },
   {
    "duration": 40,
    "start_time": "2022-01-23T15:03:52.224Z"
   },
   {
    "duration": 9,
    "start_time": "2022-01-23T15:03:52.267Z"
   },
   {
    "duration": 3932,
    "start_time": "2022-01-23T15:03:52.278Z"
   },
   {
    "duration": 5,
    "start_time": "2022-01-23T15:07:20.121Z"
   },
   {
    "duration": 477,
    "start_time": "2022-01-23T15:07:20.129Z"
   },
   {
    "duration": 16,
    "start_time": "2022-01-23T15:07:20.609Z"
   },
   {
    "duration": 14,
    "start_time": "2022-01-23T15:07:20.628Z"
   },
   {
    "duration": 14,
    "start_time": "2022-01-23T15:07:20.666Z"
   },
   {
    "duration": 12,
    "start_time": "2022-01-23T15:07:20.683Z"
   },
   {
    "duration": 23,
    "start_time": "2022-01-23T15:07:20.698Z"
   },
   {
    "duration": 41,
    "start_time": "2022-01-23T15:07:20.726Z"
   },
   {
    "duration": 70,
    "start_time": "2022-01-23T15:07:20.771Z"
   },
   {
    "duration": 84,
    "start_time": "2022-01-23T15:07:20.844Z"
   },
   {
    "duration": 37,
    "start_time": "2022-01-23T15:07:20.930Z"
   },
   {
    "duration": 63,
    "start_time": "2022-01-23T15:07:20.969Z"
   },
   {
    "duration": 83,
    "start_time": "2022-01-23T15:07:21.034Z"
   },
   {
    "duration": 15,
    "start_time": "2022-01-23T15:07:21.119Z"
   },
   {
    "duration": 43,
    "start_time": "2022-01-23T15:07:21.136Z"
   },
   {
    "duration": 16,
    "start_time": "2022-01-23T15:07:21.182Z"
   },
   {
    "duration": 16,
    "start_time": "2022-01-23T15:07:21.201Z"
   },
   {
    "duration": 52,
    "start_time": "2022-01-23T15:07:21.220Z"
   },
   {
    "duration": 19,
    "start_time": "2022-01-23T15:07:21.275Z"
   },
   {
    "duration": 11,
    "start_time": "2022-01-23T15:07:21.297Z"
   },
   {
    "duration": 17,
    "start_time": "2022-01-23T15:07:21.310Z"
   },
   {
    "duration": 11,
    "start_time": "2022-01-23T15:07:21.330Z"
   },
   {
    "duration": 34,
    "start_time": "2022-01-23T15:07:21.347Z"
   },
   {
    "duration": 17,
    "start_time": "2022-01-23T15:07:21.384Z"
   },
   {
    "duration": 17,
    "start_time": "2022-01-23T15:07:21.403Z"
   },
   {
    "duration": 61,
    "start_time": "2022-01-23T15:07:21.422Z"
   },
   {
    "duration": 19,
    "start_time": "2022-01-23T15:07:21.486Z"
   },
   {
    "duration": 19,
    "start_time": "2022-01-23T15:07:21.507Z"
   },
   {
    "duration": 139,
    "start_time": "2022-01-23T15:07:21.529Z"
   },
   {
    "duration": 104,
    "start_time": "2022-01-23T15:07:21.671Z"
   },
   {
    "duration": 89,
    "start_time": "2022-01-23T15:07:21.777Z"
   },
   {
    "duration": 107,
    "start_time": "2022-01-23T15:07:21.869Z"
   },
   {
    "duration": 90,
    "start_time": "2022-01-23T15:07:21.979Z"
   },
   {
    "duration": 97,
    "start_time": "2022-01-23T15:07:22.073Z"
   },
   {
    "duration": 9,
    "start_time": "2022-01-23T15:07:22.173Z"
   },
   {
    "duration": 16,
    "start_time": "2022-01-23T15:07:22.184Z"
   },
   {
    "duration": 13,
    "start_time": "2022-01-23T15:07:22.203Z"
   },
   {
    "duration": 9,
    "start_time": "2022-01-23T15:07:22.219Z"
   },
   {
    "duration": 35,
    "start_time": "2022-01-23T15:07:22.230Z"
   },
   {
    "duration": 11,
    "start_time": "2022-01-23T15:07:22.267Z"
   },
   {
    "duration": 3452,
    "start_time": "2022-01-23T15:07:22.280Z"
   },
   {
    "duration": 5,
    "start_time": "2022-01-23T15:08:21.284Z"
   },
   {
    "duration": 461,
    "start_time": "2022-01-23T15:08:21.292Z"
   },
   {
    "duration": 17,
    "start_time": "2022-01-23T15:08:21.756Z"
   },
   {
    "duration": 12,
    "start_time": "2022-01-23T15:08:21.776Z"
   },
   {
    "duration": 16,
    "start_time": "2022-01-23T15:08:21.790Z"
   },
   {
    "duration": 11,
    "start_time": "2022-01-23T15:08:21.808Z"
   },
   {
    "duration": 52,
    "start_time": "2022-01-23T15:08:21.821Z"
   },
   {
    "duration": 12,
    "start_time": "2022-01-23T15:08:21.876Z"
   },
   {
    "duration": 89,
    "start_time": "2022-01-23T15:08:21.893Z"
   },
   {
    "duration": 78,
    "start_time": "2022-01-23T15:08:21.986Z"
   },
   {
    "duration": 20,
    "start_time": "2022-01-23T15:08:22.067Z"
   },
   {
    "duration": 84,
    "start_time": "2022-01-23T15:08:22.089Z"
   },
   {
    "duration": 68,
    "start_time": "2022-01-23T15:08:22.175Z"
   },
   {
    "duration": 31,
    "start_time": "2022-01-23T15:08:22.245Z"
   },
   {
    "duration": 14,
    "start_time": "2022-01-23T15:08:22.278Z"
   },
   {
    "duration": 14,
    "start_time": "2022-01-23T15:08:22.295Z"
   },
   {
    "duration": 16,
    "start_time": "2022-01-23T15:08:22.311Z"
   },
   {
    "duration": 16,
    "start_time": "2022-01-23T15:08:22.365Z"
   },
   {
    "duration": 20,
    "start_time": "2022-01-23T15:08:22.384Z"
   },
   {
    "duration": 9,
    "start_time": "2022-01-23T15:08:22.406Z"
   },
   {
    "duration": 12,
    "start_time": "2022-01-23T15:08:22.417Z"
   },
   {
    "duration": 34,
    "start_time": "2022-01-23T15:08:22.431Z"
   },
   {
    "duration": 23,
    "start_time": "2022-01-23T15:08:22.467Z"
   },
   {
    "duration": 17,
    "start_time": "2022-01-23T15:08:22.492Z"
   },
   {
    "duration": 18,
    "start_time": "2022-01-23T15:08:22.511Z"
   },
   {
    "duration": 59,
    "start_time": "2022-01-23T15:08:22.531Z"
   },
   {
    "duration": 18,
    "start_time": "2022-01-23T15:08:22.595Z"
   },
   {
    "duration": 18,
    "start_time": "2022-01-23T15:08:22.617Z"
   },
   {
    "duration": 127,
    "start_time": "2022-01-23T15:08:22.638Z"
   },
   {
    "duration": 103,
    "start_time": "2022-01-23T15:08:22.768Z"
   },
   {
    "duration": 92,
    "start_time": "2022-01-23T15:08:22.874Z"
   },
   {
    "duration": 102,
    "start_time": "2022-01-23T15:08:22.969Z"
   },
   {
    "duration": 99,
    "start_time": "2022-01-23T15:08:23.074Z"
   },
   {
    "duration": 9,
    "start_time": "2022-01-23T15:08:23.264Z"
   },
   {
    "duration": 6,
    "start_time": "2022-01-23T15:08:23.275Z"
   },
   {
    "duration": 10,
    "start_time": "2022-01-23T15:08:23.283Z"
   },
   {
    "duration": 11,
    "start_time": "2022-01-23T15:08:23.295Z"
   },
   {
    "duration": 7,
    "start_time": "2022-01-23T15:08:23.308Z"
   },
   {
    "duration": 49,
    "start_time": "2022-01-23T15:08:23.317Z"
   },
   {
    "duration": 9,
    "start_time": "2022-01-23T15:08:23.368Z"
   },
   {
    "duration": 4327,
    "start_time": "2022-01-23T15:08:23.379Z"
   },
   {
    "duration": 4102,
    "start_time": "2022-01-23T15:08:46.866Z"
   },
   {
    "duration": 613,
    "start_time": "2022-01-23T15:09:07.052Z"
   },
   {
    "duration": 5,
    "start_time": "2022-01-23T15:09:11.864Z"
   },
   {
    "duration": 4740,
    "start_time": "2022-01-23T15:09:13.850Z"
   },
   {
    "duration": 5,
    "start_time": "2022-01-23T15:09:24.426Z"
   },
   {
    "duration": 4113,
    "start_time": "2022-01-23T15:09:25.012Z"
   },
   {
    "duration": 6,
    "start_time": "2022-01-23T15:09:38.041Z"
   },
   {
    "duration": 4180,
    "start_time": "2022-01-23T15:09:38.334Z"
   },
   {
    "duration": 5,
    "start_time": "2022-01-23T15:10:45.581Z"
   },
   {
    "duration": 472,
    "start_time": "2022-01-23T15:10:45.589Z"
   },
   {
    "duration": 16,
    "start_time": "2022-01-23T15:10:46.067Z"
   },
   {
    "duration": 11,
    "start_time": "2022-01-23T15:10:46.087Z"
   },
   {
    "duration": 17,
    "start_time": "2022-01-23T15:10:46.101Z"
   },
   {
    "duration": 51,
    "start_time": "2022-01-23T15:10:46.121Z"
   },
   {
    "duration": 16,
    "start_time": "2022-01-23T15:10:46.174Z"
   },
   {
    "duration": 11,
    "start_time": "2022-01-23T15:10:46.194Z"
   },
   {
    "duration": 108,
    "start_time": "2022-01-23T15:10:46.208Z"
   },
   {
    "duration": 75,
    "start_time": "2022-01-23T15:10:46.319Z"
   },
   {
    "duration": 20,
    "start_time": "2022-01-23T15:10:46.397Z"
   },
   {
    "duration": 87,
    "start_time": "2022-01-23T15:10:46.420Z"
   },
   {
    "duration": 76,
    "start_time": "2022-01-23T15:10:46.509Z"
   },
   {
    "duration": 17,
    "start_time": "2022-01-23T15:10:46.588Z"
   },
   {
    "duration": 15,
    "start_time": "2022-01-23T15:10:46.607Z"
   },
   {
    "duration": 47,
    "start_time": "2022-01-23T15:10:46.624Z"
   },
   {
    "duration": 16,
    "start_time": "2022-01-23T15:10:46.673Z"
   },
   {
    "duration": 19,
    "start_time": "2022-01-23T15:10:46.691Z"
   },
   {
    "duration": 15,
    "start_time": "2022-01-23T15:10:46.712Z"
   },
   {
    "duration": 36,
    "start_time": "2022-01-23T15:10:46.729Z"
   },
   {
    "duration": 11,
    "start_time": "2022-01-23T15:10:46.768Z"
   },
   {
    "duration": 10,
    "start_time": "2022-01-23T15:10:46.782Z"
   },
   {
    "duration": 17,
    "start_time": "2022-01-23T15:10:46.797Z"
   },
   {
    "duration": 17,
    "start_time": "2022-01-23T15:10:46.817Z"
   },
   {
    "duration": 18,
    "start_time": "2022-01-23T15:10:46.864Z"
   },
   {
    "duration": 28,
    "start_time": "2022-01-23T15:10:46.885Z"
   },
   {
    "duration": 50,
    "start_time": "2022-01-23T15:10:46.915Z"
   },
   {
    "duration": 18,
    "start_time": "2022-01-23T15:10:46.968Z"
   },
   {
    "duration": 176,
    "start_time": "2022-01-23T15:10:46.989Z"
   },
   {
    "duration": 8,
    "start_time": "2022-01-23T15:10:47.167Z"
   },
   {
    "duration": 93,
    "start_time": "2022-01-23T15:10:47.178Z"
   },
   {
    "duration": 94,
    "start_time": "2022-01-23T15:10:47.275Z"
   },
   {
    "duration": 94,
    "start_time": "2022-01-23T15:10:47.371Z"
   },
   {
    "duration": 101,
    "start_time": "2022-01-23T15:10:47.469Z"
   },
   {
    "duration": 8,
    "start_time": "2022-01-23T15:10:47.572Z"
   },
   {
    "duration": 10,
    "start_time": "2022-01-23T15:10:47.583Z"
   },
   {
    "duration": 7,
    "start_time": "2022-01-23T15:10:47.595Z"
   },
   {
    "duration": 15,
    "start_time": "2022-01-23T15:10:47.604Z"
   },
   {
    "duration": 6,
    "start_time": "2022-01-23T15:10:47.622Z"
   },
   {
    "duration": 38,
    "start_time": "2022-01-23T15:10:47.630Z"
   },
   {
    "duration": 4066,
    "start_time": "2022-01-23T15:10:47.670Z"
   },
   {
    "duration": 5,
    "start_time": "2022-01-23T15:13:43.960Z"
   },
   {
    "duration": 508,
    "start_time": "2022-01-23T15:13:43.968Z"
   },
   {
    "duration": 16,
    "start_time": "2022-01-23T15:13:44.481Z"
   },
   {
    "duration": 16,
    "start_time": "2022-01-23T15:13:44.501Z"
   },
   {
    "duration": 45,
    "start_time": "2022-01-23T15:13:44.520Z"
   },
   {
    "duration": 13,
    "start_time": "2022-01-23T15:13:44.568Z"
   },
   {
    "duration": 18,
    "start_time": "2022-01-23T15:13:44.584Z"
   },
   {
    "duration": 13,
    "start_time": "2022-01-23T15:13:44.605Z"
   },
   {
    "duration": 109,
    "start_time": "2022-01-23T15:13:44.623Z"
   },
   {
    "duration": 89,
    "start_time": "2022-01-23T15:13:44.735Z"
   },
   {
    "duration": 42,
    "start_time": "2022-01-23T15:13:44.826Z"
   },
   {
    "duration": 66,
    "start_time": "2022-01-23T15:13:44.871Z"
   },
   {
    "duration": 94,
    "start_time": "2022-01-23T15:13:44.940Z"
   },
   {
    "duration": 29,
    "start_time": "2022-01-23T15:13:45.036Z"
   },
   {
    "duration": 17,
    "start_time": "2022-01-23T15:13:45.069Z"
   },
   {
    "duration": 19,
    "start_time": "2022-01-23T15:13:45.090Z"
   },
   {
    "duration": 53,
    "start_time": "2022-01-23T15:13:45.112Z"
   },
   {
    "duration": 19,
    "start_time": "2022-01-23T15:13:45.168Z"
   },
   {
    "duration": 19,
    "start_time": "2022-01-23T15:13:45.190Z"
   },
   {
    "duration": 9,
    "start_time": "2022-01-23T15:13:45.213Z"
   },
   {
    "duration": 41,
    "start_time": "2022-01-23T15:13:45.224Z"
   },
   {
    "duration": 10,
    "start_time": "2022-01-23T15:13:45.267Z"
   },
   {
    "duration": 21,
    "start_time": "2022-01-23T15:13:45.279Z"
   },
   {
    "duration": 18,
    "start_time": "2022-01-23T15:13:45.302Z"
   },
   {
    "duration": 46,
    "start_time": "2022-01-23T15:13:45.323Z"
   },
   {
    "duration": 31,
    "start_time": "2022-01-23T15:13:45.372Z"
   },
   {
    "duration": 19,
    "start_time": "2022-01-23T15:13:45.409Z"
   },
   {
    "duration": 48,
    "start_time": "2022-01-23T15:13:45.430Z"
   },
   {
    "duration": 84,
    "start_time": "2022-01-23T15:13:45.481Z"
   },
   {
    "duration": 98,
    "start_time": "2022-01-23T15:13:45.569Z"
   },
   {
    "duration": 95,
    "start_time": "2022-01-23T15:13:45.670Z"
   },
   {
    "duration": 102,
    "start_time": "2022-01-23T15:13:45.770Z"
   },
   {
    "duration": 96,
    "start_time": "2022-01-23T15:13:45.875Z"
   },
   {
    "duration": 98,
    "start_time": "2022-01-23T15:13:45.974Z"
   },
   {
    "duration": 6,
    "start_time": "2022-01-23T15:13:46.076Z"
   },
   {
    "duration": 9,
    "start_time": "2022-01-23T15:13:46.085Z"
   },
   {
    "duration": 7,
    "start_time": "2022-01-23T15:13:46.097Z"
   },
   {
    "duration": 6,
    "start_time": "2022-01-23T15:13:46.106Z"
   },
   {
    "duration": 53,
    "start_time": "2022-01-23T15:13:46.114Z"
   },
   {
    "duration": 12,
    "start_time": "2022-01-23T15:13:46.169Z"
   },
   {
    "duration": 4402,
    "start_time": "2022-01-23T15:13:46.184Z"
   },
   {
    "duration": 7,
    "start_time": "2022-01-23T15:36:06.529Z"
   },
   {
    "duration": 1004,
    "start_time": "2022-01-23T15:36:06.539Z"
   },
   {
    "duration": 18,
    "start_time": "2022-01-23T15:36:07.546Z"
   },
   {
    "duration": 12,
    "start_time": "2022-01-23T15:36:07.567Z"
   },
   {
    "duration": 20,
    "start_time": "2022-01-23T15:36:07.581Z"
   },
   {
    "duration": 11,
    "start_time": "2022-01-23T15:36:07.603Z"
   },
   {
    "duration": 19,
    "start_time": "2022-01-23T15:36:07.616Z"
   },
   {
    "duration": 13,
    "start_time": "2022-01-23T15:36:07.665Z"
   },
   {
    "duration": 65,
    "start_time": "2022-01-23T15:36:07.682Z"
   },
   {
    "duration": 64,
    "start_time": "2022-01-23T15:36:07.766Z"
   },
   {
    "duration": 39,
    "start_time": "2022-01-23T15:36:07.833Z"
   },
   {
    "duration": 61,
    "start_time": "2022-01-23T15:36:07.875Z"
   },
   {
    "duration": 85,
    "start_time": "2022-01-23T15:36:07.939Z"
   },
   {
    "duration": 14,
    "start_time": "2022-01-23T15:36:08.027Z"
   },
   {
    "duration": 14,
    "start_time": "2022-01-23T15:36:08.065Z"
   },
   {
    "duration": 14,
    "start_time": "2022-01-23T15:36:08.081Z"
   },
   {
    "duration": 15,
    "start_time": "2022-01-23T15:36:08.097Z"
   },
   {
    "duration": 53,
    "start_time": "2022-01-23T15:36:08.114Z"
   },
   {
    "duration": 17,
    "start_time": "2022-01-23T15:36:08.169Z"
   },
   {
    "duration": 9,
    "start_time": "2022-01-23T15:36:08.188Z"
   },
   {
    "duration": 8,
    "start_time": "2022-01-23T15:36:08.199Z"
   },
   {
    "duration": 12,
    "start_time": "2022-01-23T15:36:08.210Z"
   },
   {
    "duration": 47,
    "start_time": "2022-01-23T15:36:08.225Z"
   },
   {
    "duration": 17,
    "start_time": "2022-01-23T15:36:08.275Z"
   },
   {
    "duration": 17,
    "start_time": "2022-01-23T15:36:08.295Z"
   },
   {
    "duration": 53,
    "start_time": "2022-01-23T15:36:08.314Z"
   },
   {
    "duration": 19,
    "start_time": "2022-01-23T15:36:08.372Z"
   },
   {
    "duration": 18,
    "start_time": "2022-01-23T15:36:08.394Z"
   },
   {
    "duration": 151,
    "start_time": "2022-01-23T15:36:08.414Z"
   },
   {
    "duration": 9,
    "start_time": "2022-01-23T15:36:08.568Z"
   },
   {
    "duration": 90,
    "start_time": "2022-01-23T15:36:08.580Z"
   },
   {
    "duration": 99,
    "start_time": "2022-01-23T15:36:08.673Z"
   },
   {
    "duration": 94,
    "start_time": "2022-01-23T15:36:08.775Z"
   },
   {
    "duration": 97,
    "start_time": "2022-01-23T15:36:08.873Z"
   },
   {
    "duration": 6,
    "start_time": "2022-01-23T15:36:08.973Z"
   },
   {
    "duration": 11,
    "start_time": "2022-01-23T15:36:08.982Z"
   },
   {
    "duration": 5,
    "start_time": "2022-01-23T15:36:08.996Z"
   },
   {
    "duration": 6,
    "start_time": "2022-01-23T15:36:09.004Z"
   },
   {
    "duration": 52,
    "start_time": "2022-01-23T15:36:09.013Z"
   },
   {
    "duration": 5,
    "start_time": "2022-01-23T15:36:09.067Z"
   },
   {
    "duration": 4410,
    "start_time": "2022-01-23T15:36:09.075Z"
   },
   {
    "duration": 5,
    "start_time": "2022-01-23T15:36:27.616Z"
   },
   {
    "duration": 456,
    "start_time": "2022-01-23T15:36:27.624Z"
   },
   {
    "duration": 15,
    "start_time": "2022-01-23T15:36:28.084Z"
   },
   {
    "duration": 11,
    "start_time": "2022-01-23T15:36:28.102Z"
   },
   {
    "duration": 14,
    "start_time": "2022-01-23T15:36:28.116Z"
   },
   {
    "duration": 43,
    "start_time": "2022-01-23T15:36:28.133Z"
   },
   {
    "duration": 24,
    "start_time": "2022-01-23T15:36:28.179Z"
   },
   {
    "duration": 13,
    "start_time": "2022-01-23T15:36:28.205Z"
   },
   {
    "duration": 94,
    "start_time": "2022-01-23T15:36:28.222Z"
   },
   {
    "duration": 70,
    "start_time": "2022-01-23T15:36:28.319Z"
   },
   {
    "duration": 19,
    "start_time": "2022-01-23T15:36:28.392Z"
   },
   {
    "duration": 92,
    "start_time": "2022-01-23T15:36:28.413Z"
   },
   {
    "duration": 72,
    "start_time": "2022-01-23T15:36:28.507Z"
   },
   {
    "duration": 16,
    "start_time": "2022-01-23T15:36:28.582Z"
   },
   {
    "duration": 14,
    "start_time": "2022-01-23T15:36:28.600Z"
   },
   {
    "duration": 13,
    "start_time": "2022-01-23T15:36:28.616Z"
   },
   {
    "duration": 16,
    "start_time": "2022-01-23T15:36:28.665Z"
   },
   {
    "duration": 14,
    "start_time": "2022-01-23T15:36:28.684Z"
   },
   {
    "duration": 15,
    "start_time": "2022-01-23T15:36:28.701Z"
   },
   {
    "duration": 10,
    "start_time": "2022-01-23T15:36:28.718Z"
   },
   {
    "duration": 37,
    "start_time": "2022-01-23T15:36:28.731Z"
   },
   {
    "duration": 7,
    "start_time": "2022-01-23T15:36:28.771Z"
   },
   {
    "duration": 19,
    "start_time": "2022-01-23T15:36:28.780Z"
   },
   {
    "duration": 17,
    "start_time": "2022-01-23T15:36:28.802Z"
   },
   {
    "duration": 49,
    "start_time": "2022-01-23T15:36:28.822Z"
   },
   {
    "duration": 28,
    "start_time": "2022-01-23T15:36:28.873Z"
   },
   {
    "duration": 19,
    "start_time": "2022-01-23T15:36:28.906Z"
   },
   {
    "duration": 46,
    "start_time": "2022-01-23T15:36:28.928Z"
   },
   {
    "duration": 190,
    "start_time": "2022-01-23T15:36:28.977Z"
   },
   {
    "duration": 9,
    "start_time": "2022-01-23T15:36:29.169Z"
   },
   {
    "duration": 184,
    "start_time": "2022-01-23T15:36:29.180Z"
   },
   {
    "duration": 9,
    "start_time": "2022-01-23T15:36:29.367Z"
   },
   {
    "duration": 90,
    "start_time": "2022-01-23T15:36:29.379Z"
   },
   {
    "duration": 98,
    "start_time": "2022-01-23T15:36:29.473Z"
   },
   {
    "duration": 7,
    "start_time": "2022-01-23T15:36:29.574Z"
   },
   {
    "duration": 11,
    "start_time": "2022-01-23T15:36:29.583Z"
   },
   {
    "duration": 8,
    "start_time": "2022-01-23T15:36:29.596Z"
   },
   {
    "duration": 6,
    "start_time": "2022-01-23T15:36:29.606Z"
   },
   {
    "duration": 51,
    "start_time": "2022-01-23T15:36:29.614Z"
   },
   {
    "duration": 5,
    "start_time": "2022-01-23T15:36:29.667Z"
   },
   {
    "duration": 4141,
    "start_time": "2022-01-23T15:36:29.675Z"
   },
   {
    "duration": 6,
    "start_time": "2022-01-23T15:41:07.780Z"
   },
   {
    "duration": 491,
    "start_time": "2022-01-23T15:41:07.790Z"
   },
   {
    "duration": 21,
    "start_time": "2022-01-23T15:41:08.286Z"
   },
   {
    "duration": 21,
    "start_time": "2022-01-23T15:41:08.311Z"
   },
   {
    "duration": 40,
    "start_time": "2022-01-23T15:41:08.335Z"
   },
   {
    "duration": 18,
    "start_time": "2022-01-23T15:41:08.379Z"
   },
   {
    "duration": 17,
    "start_time": "2022-01-23T15:41:08.399Z"
   },
   {
    "duration": 12,
    "start_time": "2022-01-23T15:41:08.419Z"
   },
   {
    "duration": 71,
    "start_time": "2022-01-23T15:41:08.468Z"
   },
   {
    "duration": 66,
    "start_time": "2022-01-23T15:41:08.566Z"
   },
   {
    "duration": 43,
    "start_time": "2022-01-23T15:41:08.634Z"
   },
   {
    "duration": 89,
    "start_time": "2022-01-23T15:41:08.680Z"
   },
   {
    "duration": 72,
    "start_time": "2022-01-23T15:41:08.773Z"
   },
   {
    "duration": 30,
    "start_time": "2022-01-23T15:41:08.848Z"
   },
   {
    "duration": 24,
    "start_time": "2022-01-23T15:41:08.881Z"
   },
   {
    "duration": 15,
    "start_time": "2022-01-23T15:41:08.907Z"
   },
   {
    "duration": 27,
    "start_time": "2022-01-23T15:41:08.965Z"
   },
   {
    "duration": 18,
    "start_time": "2022-01-23T15:41:08.996Z"
   },
   {
    "duration": 55,
    "start_time": "2022-01-23T15:41:09.017Z"
   },
   {
    "duration": 9,
    "start_time": "2022-01-23T15:41:09.076Z"
   },
   {
    "duration": 16,
    "start_time": "2022-01-23T15:41:09.089Z"
   },
   {
    "duration": 15,
    "start_time": "2022-01-23T15:41:09.109Z"
   },
   {
    "duration": 23,
    "start_time": "2022-01-23T15:41:09.126Z"
   },
   {
    "duration": 31,
    "start_time": "2022-01-23T15:41:09.151Z"
   },
   {
    "duration": 20,
    "start_time": "2022-01-23T15:41:09.185Z"
   },
   {
    "duration": 64,
    "start_time": "2022-01-23T15:41:09.207Z"
   },
   {
    "duration": 22,
    "start_time": "2022-01-23T15:41:09.277Z"
   },
   {
    "duration": 21,
    "start_time": "2022-01-23T15:41:09.303Z"
   },
   {
    "duration": 143,
    "start_time": "2022-01-23T15:41:09.326Z"
   },
   {
    "duration": 94,
    "start_time": "2022-01-23T15:41:09.476Z"
   },
   {
    "duration": 100,
    "start_time": "2022-01-23T15:41:09.573Z"
   },
   {
    "duration": 90,
    "start_time": "2022-01-23T15:41:09.677Z"
   },
   {
    "duration": 111,
    "start_time": "2022-01-23T15:41:09.770Z"
   },
   {
    "duration": 83,
    "start_time": "2022-01-23T15:41:09.889Z"
   },
   {
    "duration": 20,
    "start_time": "2022-01-23T15:41:09.975Z"
   },
   {
    "duration": 14,
    "start_time": "2022-01-23T15:41:09.998Z"
   },
   {
    "duration": 15,
    "start_time": "2022-01-23T15:41:10.015Z"
   },
   {
    "duration": 33,
    "start_time": "2022-01-23T15:41:10.032Z"
   },
   {
    "duration": 29,
    "start_time": "2022-01-23T15:41:10.068Z"
   },
   {
    "duration": 12,
    "start_time": "2022-01-23T15:41:10.100Z"
   },
   {
    "duration": 4568,
    "start_time": "2022-01-23T15:41:10.114Z"
   },
   {
    "duration": 4,
    "start_time": "2022-01-23T15:47:19.962Z"
   },
   {
    "duration": 490,
    "start_time": "2022-01-23T15:47:19.969Z"
   },
   {
    "duration": 13,
    "start_time": "2022-01-23T15:47:20.465Z"
   },
   {
    "duration": 12,
    "start_time": "2022-01-23T15:47:20.481Z"
   },
   {
    "duration": 15,
    "start_time": "2022-01-23T15:47:20.496Z"
   },
   {
    "duration": 11,
    "start_time": "2022-01-23T15:47:20.513Z"
   },
   {
    "duration": 14,
    "start_time": "2022-01-23T15:47:20.566Z"
   },
   {
    "duration": 12,
    "start_time": "2022-01-23T15:47:20.584Z"
   },
   {
    "duration": 90,
    "start_time": "2022-01-23T15:47:20.600Z"
   },
   {
    "duration": 72,
    "start_time": "2022-01-23T15:47:20.693Z"
   },
   {
    "duration": 21,
    "start_time": "2022-01-23T15:47:20.767Z"
   },
   {
    "duration": 87,
    "start_time": "2022-01-23T15:47:20.791Z"
   },
   {
    "duration": 67,
    "start_time": "2022-01-23T15:47:20.881Z"
   },
   {
    "duration": 27,
    "start_time": "2022-01-23T15:47:20.950Z"
   },
   {
    "duration": 14,
    "start_time": "2022-01-23T15:47:20.979Z"
   },
   {
    "duration": 14,
    "start_time": "2022-01-23T15:47:20.995Z"
   },
   {
    "duration": 15,
    "start_time": "2022-01-23T15:47:21.012Z"
   },
   {
    "duration": 21,
    "start_time": "2022-01-23T15:47:21.065Z"
   },
   {
    "duration": 19,
    "start_time": "2022-01-23T15:47:21.089Z"
   },
   {
    "duration": 12,
    "start_time": "2022-01-23T15:47:21.111Z"
   },
   {
    "duration": 43,
    "start_time": "2022-01-23T15:47:21.125Z"
   },
   {
    "duration": 10,
    "start_time": "2022-01-23T15:47:21.171Z"
   },
   {
    "duration": 19,
    "start_time": "2022-01-23T15:47:21.186Z"
   },
   {
    "duration": 18,
    "start_time": "2022-01-23T15:47:21.207Z"
   },
   {
    "duration": 47,
    "start_time": "2022-01-23T15:47:21.228Z"
   },
   {
    "duration": 32,
    "start_time": "2022-01-23T15:47:21.278Z"
   },
   {
    "duration": 19,
    "start_time": "2022-01-23T15:47:21.312Z"
   },
   {
    "duration": 44,
    "start_time": "2022-01-23T15:47:21.334Z"
   },
   {
    "duration": 87,
    "start_time": "2022-01-23T15:47:21.381Z"
   },
   {
    "duration": 98,
    "start_time": "2022-01-23T15:47:21.473Z"
   },
   {
    "duration": 94,
    "start_time": "2022-01-23T15:47:21.573Z"
   },
   {
    "duration": 101,
    "start_time": "2022-01-23T15:47:21.670Z"
   },
   {
    "duration": 97,
    "start_time": "2022-01-23T15:47:21.774Z"
   },
   {
    "duration": 102,
    "start_time": "2022-01-23T15:47:21.875Z"
   },
   {
    "duration": 7,
    "start_time": "2022-01-23T15:47:21.979Z"
   },
   {
    "duration": 7,
    "start_time": "2022-01-23T15:47:21.989Z"
   },
   {
    "duration": 8,
    "start_time": "2022-01-23T15:47:21.998Z"
   },
   {
    "duration": 12,
    "start_time": "2022-01-23T15:47:22.009Z"
   },
   {
    "duration": 47,
    "start_time": "2022-01-23T15:47:22.024Z"
   },
   {
    "duration": 17,
    "start_time": "2022-01-23T15:47:22.074Z"
   },
   {
    "duration": 4159,
    "start_time": "2022-01-23T15:47:22.093Z"
   },
   {
    "duration": 6,
    "start_time": "2022-01-23T17:14:58.514Z"
   },
   {
    "duration": 727,
    "start_time": "2022-01-23T17:14:58.524Z"
   },
   {
    "duration": 24,
    "start_time": "2022-01-23T17:14:59.255Z"
   },
   {
    "duration": 19,
    "start_time": "2022-01-23T17:14:59.284Z"
   },
   {
    "duration": 22,
    "start_time": "2022-01-23T17:14:59.306Z"
   },
   {
    "duration": 41,
    "start_time": "2022-01-23T17:14:59.330Z"
   },
   {
    "duration": 23,
    "start_time": "2022-01-23T17:14:59.375Z"
   },
   {
    "duration": 17,
    "start_time": "2022-01-23T17:14:59.401Z"
   },
   {
    "duration": 118,
    "start_time": "2022-01-23T17:14:59.425Z"
   },
   {
    "duration": 68,
    "start_time": "2022-01-23T17:14:59.547Z"
   },
   {
    "duration": 20,
    "start_time": "2022-01-23T17:14:59.618Z"
   },
   {
    "duration": 90,
    "start_time": "2022-01-23T17:14:59.640Z"
   },
   {
    "duration": 84,
    "start_time": "2022-01-23T17:14:59.732Z"
   },
   {
    "duration": 13,
    "start_time": "2022-01-23T17:14:59.819Z"
   },
   {
    "duration": 31,
    "start_time": "2022-01-23T17:14:59.835Z"
   },
   {
    "duration": 19,
    "start_time": "2022-01-23T17:14:59.869Z"
   },
   {
    "duration": 16,
    "start_time": "2022-01-23T17:14:59.891Z"
   },
   {
    "duration": 56,
    "start_time": "2022-01-23T17:14:59.909Z"
   },
   {
    "duration": 20,
    "start_time": "2022-01-23T17:14:59.969Z"
   },
   {
    "duration": 10,
    "start_time": "2022-01-23T17:14:59.992Z"
   },
   {
    "duration": 15,
    "start_time": "2022-01-23T17:15:00.005Z"
   },
   {
    "duration": 24,
    "start_time": "2022-01-23T17:15:00.022Z"
   },
   {
    "duration": 28,
    "start_time": "2022-01-23T17:15:00.049Z"
   },
   {
    "duration": 36,
    "start_time": "2022-01-23T17:15:00.079Z"
   },
   {
    "duration": 19,
    "start_time": "2022-01-23T17:15:00.118Z"
   },
   {
    "duration": 53,
    "start_time": "2022-01-23T17:15:00.140Z"
   },
   {
    "duration": 20,
    "start_time": "2022-01-23T17:15:00.198Z"
   },
   {
    "duration": 48,
    "start_time": "2022-01-23T17:15:00.221Z"
   },
   {
    "duration": 104,
    "start_time": "2022-01-23T17:15:00.272Z"
   },
   {
    "duration": 92,
    "start_time": "2022-01-23T17:15:00.379Z"
   },
   {
    "duration": 89,
    "start_time": "2022-01-23T17:15:00.480Z"
   },
   {
    "duration": 128,
    "start_time": "2022-01-23T17:15:00.573Z"
   },
   {
    "duration": 88,
    "start_time": "2022-01-23T17:15:00.704Z"
   },
   {
    "duration": 169,
    "start_time": "2022-01-23T17:15:00.796Z"
   },
   {
    "duration": 20,
    "start_time": "2022-01-23T17:15:00.969Z"
   },
   {
    "duration": 19,
    "start_time": "2022-01-23T17:15:00.992Z"
   },
   {
    "duration": 14,
    "start_time": "2022-01-23T17:15:01.013Z"
   },
   {
    "duration": 22,
    "start_time": "2022-01-23T17:15:01.029Z"
   },
   {
    "duration": 23,
    "start_time": "2022-01-23T17:15:01.055Z"
   },
   {
    "duration": 16,
    "start_time": "2022-01-23T17:15:01.081Z"
   },
   {
    "duration": 1679,
    "start_time": "2022-01-23T17:15:01.100Z"
   },
   {
    "duration": 5,
    "start_time": "2022-01-23T17:15:15.680Z"
   },
   {
    "duration": 4454,
    "start_time": "2022-01-23T17:15:18.729Z"
   },
   {
    "duration": 960,
    "start_time": "2022-01-24T14:04:17.361Z"
   },
   {
    "duration": 319,
    "start_time": "2022-01-24T14:04:18.323Z"
   },
   {
    "duration": 10,
    "start_time": "2022-01-24T14:04:18.644Z"
   },
   {
    "duration": 12,
    "start_time": "2022-01-24T14:04:18.655Z"
   },
   {
    "duration": 8,
    "start_time": "2022-01-24T14:04:18.669Z"
   },
   {
    "duration": 6,
    "start_time": "2022-01-24T14:04:18.679Z"
   },
   {
    "duration": 41,
    "start_time": "2022-01-24T14:04:18.687Z"
   },
   {
    "duration": 7,
    "start_time": "2022-01-24T14:04:18.730Z"
   },
   {
    "duration": 40,
    "start_time": "2022-01-24T14:04:18.739Z"
   },
   {
    "duration": 59,
    "start_time": "2022-01-24T14:04:18.781Z"
   },
   {
    "duration": 11,
    "start_time": "2022-01-24T14:04:18.841Z"
   },
   {
    "duration": 40,
    "start_time": "2022-01-24T14:04:18.854Z"
   },
   {
    "duration": 51,
    "start_time": "2022-01-24T14:04:18.895Z"
   },
   {
    "duration": 12,
    "start_time": "2022-01-24T14:04:18.947Z"
   },
   {
    "duration": 11,
    "start_time": "2022-01-24T14:04:18.960Z"
   },
   {
    "duration": 10,
    "start_time": "2022-01-24T14:04:18.973Z"
   },
   {
    "duration": 48,
    "start_time": "2022-01-24T14:04:18.985Z"
   },
   {
    "duration": 13,
    "start_time": "2022-01-24T14:04:19.034Z"
   },
   {
    "duration": 12,
    "start_time": "2022-01-24T14:04:19.049Z"
   },
   {
    "duration": 6,
    "start_time": "2022-01-24T14:04:19.063Z"
   },
   {
    "duration": 7,
    "start_time": "2022-01-24T14:04:19.071Z"
   },
   {
    "duration": 9,
    "start_time": "2022-01-24T14:04:19.079Z"
   },
   {
    "duration": 44,
    "start_time": "2022-01-24T14:04:19.092Z"
   },
   {
    "duration": 15,
    "start_time": "2022-01-24T14:04:19.138Z"
   },
   {
    "duration": 15,
    "start_time": "2022-01-24T14:04:19.154Z"
   },
   {
    "duration": 60,
    "start_time": "2022-01-24T14:04:19.170Z"
   },
   {
    "duration": 20,
    "start_time": "2022-01-24T14:04:19.232Z"
   },
   {
    "duration": 13,
    "start_time": "2022-01-24T14:04:19.253Z"
   },
   {
    "duration": 70,
    "start_time": "2022-01-24T14:04:19.268Z"
   },
   {
    "duration": 92,
    "start_time": "2022-01-24T14:04:19.339Z"
   },
   {
    "duration": 12,
    "start_time": "2022-01-24T14:04:19.433Z"
   },
   {
    "duration": 83,
    "start_time": "2022-01-24T14:04:19.447Z"
   },
   {
    "duration": 104,
    "start_time": "2022-01-24T14:04:19.533Z"
   },
   {
    "duration": 95,
    "start_time": "2022-01-24T14:04:19.639Z"
   },
   {
    "duration": 92,
    "start_time": "2022-01-24T14:04:19.736Z"
   },
   {
    "duration": 10,
    "start_time": "2022-01-24T14:04:19.830Z"
   },
   {
    "duration": 10,
    "start_time": "2022-01-24T14:04:19.842Z"
   },
   {
    "duration": 12,
    "start_time": "2022-01-24T14:04:19.853Z"
   },
   {
    "duration": 8,
    "start_time": "2022-01-24T14:04:19.866Z"
   },
   {
    "duration": 13,
    "start_time": "2022-01-24T14:04:19.875Z"
   },
   {
    "duration": 2313,
    "start_time": "2022-01-24T14:04:19.889Z"
   },
   {
    "duration": 3,
    "start_time": "2022-01-24T14:05:38.301Z"
   },
   {
    "duration": 324,
    "start_time": "2022-01-24T14:05:38.306Z"
   },
   {
    "duration": 9,
    "start_time": "2022-01-24T14:05:38.632Z"
   },
   {
    "duration": 7,
    "start_time": "2022-01-24T14:05:38.643Z"
   },
   {
    "duration": 9,
    "start_time": "2022-01-24T14:05:38.651Z"
   },
   {
    "duration": 6,
    "start_time": "2022-01-24T14:05:38.662Z"
   },
   {
    "duration": 9,
    "start_time": "2022-01-24T14:05:38.670Z"
   },
   {
    "duration": 46,
    "start_time": "2022-01-24T14:05:38.681Z"
   },
   {
    "duration": 34,
    "start_time": "2022-01-24T14:05:38.729Z"
   },
   {
    "duration": 63,
    "start_time": "2022-01-24T14:05:38.765Z"
   },
   {
    "duration": 12,
    "start_time": "2022-01-24T14:05:38.829Z"
   },
   {
    "duration": 36,
    "start_time": "2022-01-24T14:05:38.842Z"
   },
   {
    "duration": 62,
    "start_time": "2022-01-24T14:05:38.879Z"
   },
   {
    "duration": 10,
    "start_time": "2022-01-24T14:05:38.942Z"
   },
   {
    "duration": 9,
    "start_time": "2022-01-24T14:05:38.953Z"
   },
   {
    "duration": 9,
    "start_time": "2022-01-24T14:05:38.963Z"
   },
   {
    "duration": 9,
    "start_time": "2022-01-24T14:05:38.974Z"
   },
   {
    "duration": 44,
    "start_time": "2022-01-24T14:05:38.985Z"
   },
   {
    "duration": 11,
    "start_time": "2022-01-24T14:05:39.031Z"
   },
   {
    "duration": 7,
    "start_time": "2022-01-24T14:05:39.043Z"
   },
   {
    "duration": 6,
    "start_time": "2022-01-24T14:05:39.052Z"
   },
   {
    "duration": 5,
    "start_time": "2022-01-24T14:05:39.060Z"
   },
   {
    "duration": 15,
    "start_time": "2022-01-24T14:05:39.068Z"
   },
   {
    "duration": 45,
    "start_time": "2022-01-24T14:05:39.085Z"
   },
   {
    "duration": 12,
    "start_time": "2022-01-24T14:05:39.131Z"
   },
   {
    "duration": 19,
    "start_time": "2022-01-24T14:05:39.144Z"
   },
   {
    "duration": 12,
    "start_time": "2022-01-24T14:05:39.164Z"
   },
   {
    "duration": 11,
    "start_time": "2022-01-24T14:05:39.177Z"
   },
   {
    "duration": 144,
    "start_time": "2022-01-24T14:05:39.190Z"
   },
   {
    "duration": 92,
    "start_time": "2022-01-24T14:05:39.336Z"
   },
   {
    "duration": 14,
    "start_time": "2022-01-24T14:05:39.429Z"
   },
   {
    "duration": 92,
    "start_time": "2022-01-24T14:05:39.445Z"
   },
   {
    "duration": 13,
    "start_time": "2022-01-24T14:05:39.628Z"
   },
   {
    "duration": 90,
    "start_time": "2022-01-24T14:05:39.643Z"
   },
   {
    "duration": 97,
    "start_time": "2022-01-24T14:05:39.735Z"
   },
   {
    "duration": 6,
    "start_time": "2022-01-24T14:05:39.834Z"
   },
   {
    "duration": 7,
    "start_time": "2022-01-24T14:05:39.842Z"
   },
   {
    "duration": 10,
    "start_time": "2022-01-24T14:05:39.851Z"
   },
   {
    "duration": 8,
    "start_time": "2022-01-24T14:05:39.862Z"
   },
   {
    "duration": 7,
    "start_time": "2022-01-24T14:05:39.871Z"
   },
   {
    "duration": 757,
    "start_time": "2022-01-24T14:05:39.879Z"
   },
   {
    "duration": 3,
    "start_time": "2022-01-24T14:06:42.144Z"
   },
   {
    "duration": 332,
    "start_time": "2022-01-24T14:06:42.149Z"
   },
   {
    "duration": 10,
    "start_time": "2022-01-24T14:06:42.482Z"
   },
   {
    "duration": 7,
    "start_time": "2022-01-24T14:06:42.493Z"
   },
   {
    "duration": 11,
    "start_time": "2022-01-24T14:06:42.501Z"
   },
   {
    "duration": 19,
    "start_time": "2022-01-24T14:06:42.514Z"
   },
   {
    "duration": 12,
    "start_time": "2022-01-24T14:06:42.534Z"
   },
   {
    "duration": 7,
    "start_time": "2022-01-24T14:06:42.548Z"
   },
   {
    "duration": 37,
    "start_time": "2022-01-24T14:06:42.556Z"
   },
   {
    "duration": 72,
    "start_time": "2022-01-24T14:06:42.594Z"
   },
   {
    "duration": 12,
    "start_time": "2022-01-24T14:06:42.667Z"
   },
   {
    "duration": 53,
    "start_time": "2022-01-24T14:06:42.680Z"
   },
   {
    "duration": 36,
    "start_time": "2022-01-24T14:06:42.735Z"
   },
   {
    "duration": 10,
    "start_time": "2022-01-24T14:06:42.772Z"
   },
   {
    "duration": 9,
    "start_time": "2022-01-24T14:06:42.784Z"
   },
   {
    "duration": 35,
    "start_time": "2022-01-24T14:06:42.795Z"
   },
   {
    "duration": 10,
    "start_time": "2022-01-24T14:06:42.831Z"
   },
   {
    "duration": 13,
    "start_time": "2022-01-24T14:06:42.842Z"
   },
   {
    "duration": 11,
    "start_time": "2022-01-24T14:06:42.857Z"
   },
   {
    "duration": 6,
    "start_time": "2022-01-24T14:06:42.870Z"
   },
   {
    "duration": 9,
    "start_time": "2022-01-24T14:06:42.877Z"
   },
   {
    "duration": 40,
    "start_time": "2022-01-24T14:06:42.887Z"
   },
   {
    "duration": 11,
    "start_time": "2022-01-24T14:06:42.931Z"
   },
   {
    "duration": 10,
    "start_time": "2022-01-24T14:06:42.944Z"
   },
   {
    "duration": 10,
    "start_time": "2022-01-24T14:06:42.956Z"
   },
   {
    "duration": 20,
    "start_time": "2022-01-24T14:06:42.968Z"
   },
   {
    "duration": 47,
    "start_time": "2022-01-24T14:06:42.989Z"
   },
   {
    "duration": 12,
    "start_time": "2022-01-24T14:06:43.038Z"
   },
   {
    "duration": 82,
    "start_time": "2022-01-24T14:06:43.051Z"
   },
   {
    "duration": 94,
    "start_time": "2022-01-24T14:06:43.135Z"
   },
   {
    "duration": 20,
    "start_time": "2022-01-24T14:06:43.231Z"
   },
   {
    "duration": 80,
    "start_time": "2022-01-24T14:06:43.253Z"
   },
   {
    "duration": 107,
    "start_time": "2022-01-24T14:06:43.336Z"
   },
   {
    "duration": 90,
    "start_time": "2022-01-24T14:06:43.445Z"
   },
   {
    "duration": 95,
    "start_time": "2022-01-24T14:06:43.538Z"
   },
   {
    "duration": 7,
    "start_time": "2022-01-24T14:06:43.635Z"
   },
   {
    "duration": 6,
    "start_time": "2022-01-24T14:06:43.643Z"
   },
   {
    "duration": 4,
    "start_time": "2022-01-24T14:06:43.650Z"
   },
   {
    "duration": 4,
    "start_time": "2022-01-24T14:06:43.656Z"
   },
   {
    "duration": 5,
    "start_time": "2022-01-24T14:06:43.661Z"
   },
   {
    "duration": 368,
    "start_time": "2022-01-24T14:06:43.668Z"
   },
   {
    "duration": 3,
    "start_time": "2022-01-24T14:07:08.758Z"
   },
   {
    "duration": 334,
    "start_time": "2022-01-24T14:07:08.762Z"
   },
   {
    "duration": 9,
    "start_time": "2022-01-24T14:07:09.098Z"
   },
   {
    "duration": 6,
    "start_time": "2022-01-24T14:07:09.109Z"
   },
   {
    "duration": 18,
    "start_time": "2022-01-24T14:07:09.117Z"
   },
   {
    "duration": 8,
    "start_time": "2022-01-24T14:07:09.136Z"
   },
   {
    "duration": 19,
    "start_time": "2022-01-24T14:07:09.145Z"
   },
   {
    "duration": 8,
    "start_time": "2022-01-24T14:07:09.166Z"
   },
   {
    "duration": 68,
    "start_time": "2022-01-24T14:07:09.178Z"
   },
   {
    "duration": 43,
    "start_time": "2022-01-24T14:07:09.249Z"
   },
   {
    "duration": 12,
    "start_time": "2022-01-24T14:07:09.294Z"
   },
   {
    "duration": 32,
    "start_time": "2022-01-24T14:07:09.327Z"
   },
   {
    "duration": 34,
    "start_time": "2022-01-24T14:07:09.360Z"
   },
   {
    "duration": 32,
    "start_time": "2022-01-24T14:07:09.396Z"
   },
   {
    "duration": 9,
    "start_time": "2022-01-24T14:07:09.429Z"
   },
   {
    "duration": 9,
    "start_time": "2022-01-24T14:07:09.440Z"
   },
   {
    "duration": 9,
    "start_time": "2022-01-24T14:07:09.451Z"
   },
   {
    "duration": 10,
    "start_time": "2022-01-24T14:07:09.461Z"
   },
   {
    "duration": 11,
    "start_time": "2022-01-24T14:07:09.472Z"
   },
   {
    "duration": 43,
    "start_time": "2022-01-24T14:07:09.484Z"
   },
   {
    "duration": 3,
    "start_time": "2022-01-24T14:07:09.529Z"
   },
   {
    "duration": 7,
    "start_time": "2022-01-24T14:07:09.534Z"
   },
   {
    "duration": 15,
    "start_time": "2022-01-24T14:07:09.542Z"
   },
   {
    "duration": 10,
    "start_time": "2022-01-24T14:07:09.558Z"
   },
   {
    "duration": 10,
    "start_time": "2022-01-24T14:07:09.570Z"
   },
   {
    "duration": 17,
    "start_time": "2022-01-24T14:07:09.581Z"
   },
   {
    "duration": 13,
    "start_time": "2022-01-24T14:07:09.629Z"
   },
   {
    "duration": 12,
    "start_time": "2022-01-24T14:07:09.643Z"
   },
   {
    "duration": 77,
    "start_time": "2022-01-24T14:07:09.656Z"
   },
   {
    "duration": 96,
    "start_time": "2022-01-24T14:07:09.735Z"
   },
   {
    "duration": 14,
    "start_time": "2022-01-24T14:07:09.833Z"
   },
   {
    "duration": 101,
    "start_time": "2022-01-24T14:07:09.928Z"
   },
   {
    "duration": 18,
    "start_time": "2022-01-24T14:07:10.030Z"
   },
   {
    "duration": 181,
    "start_time": "2022-01-24T14:07:10.050Z"
   },
   {
    "duration": 4,
    "start_time": "2022-01-24T14:07:10.233Z"
   },
   {
    "duration": 5,
    "start_time": "2022-01-24T14:07:10.238Z"
   },
   {
    "duration": 4,
    "start_time": "2022-01-24T14:07:10.244Z"
   },
   {
    "duration": 4,
    "start_time": "2022-01-24T14:07:10.250Z"
   },
   {
    "duration": 3,
    "start_time": "2022-01-24T14:07:10.256Z"
   },
   {
    "duration": 4,
    "start_time": "2022-01-24T14:07:10.260Z"
   },
   {
    "duration": 682,
    "start_time": "2022-01-24T14:07:10.266Z"
   },
   {
    "duration": 3,
    "start_time": "2022-01-24T14:07:21.650Z"
   },
   {
    "duration": 335,
    "start_time": "2022-01-24T14:07:21.655Z"
   },
   {
    "duration": 8,
    "start_time": "2022-01-24T14:07:21.992Z"
   },
   {
    "duration": 11,
    "start_time": "2022-01-24T14:07:22.002Z"
   },
   {
    "duration": 16,
    "start_time": "2022-01-24T14:07:22.014Z"
   },
   {
    "duration": 7,
    "start_time": "2022-01-24T14:07:22.032Z"
   },
   {
    "duration": 10,
    "start_time": "2022-01-24T14:07:22.041Z"
   },
   {
    "duration": 7,
    "start_time": "2022-01-24T14:07:22.052Z"
   },
   {
    "duration": 38,
    "start_time": "2022-01-24T14:07:22.061Z"
   },
   {
    "duration": 40,
    "start_time": "2022-01-24T14:07:22.127Z"
   },
   {
    "duration": 11,
    "start_time": "2022-01-24T14:07:22.169Z"
   },
   {
    "duration": 50,
    "start_time": "2022-01-24T14:07:22.181Z"
   },
   {
    "duration": 31,
    "start_time": "2022-01-24T14:07:22.233Z"
   },
   {
    "duration": 10,
    "start_time": "2022-01-24T14:07:22.265Z"
   },
   {
    "duration": 8,
    "start_time": "2022-01-24T14:07:22.277Z"
   },
   {
    "duration": 41,
    "start_time": "2022-01-24T14:07:22.287Z"
   },
   {
    "duration": 8,
    "start_time": "2022-01-24T14:07:22.329Z"
   },
   {
    "duration": 14,
    "start_time": "2022-01-24T14:07:22.338Z"
   },
   {
    "duration": 9,
    "start_time": "2022-01-24T14:07:22.353Z"
   },
   {
    "duration": 5,
    "start_time": "2022-01-24T14:07:22.364Z"
   },
   {
    "duration": 12,
    "start_time": "2022-01-24T14:07:22.370Z"
   },
   {
    "duration": 12,
    "start_time": "2022-01-24T14:07:22.383Z"
   },
   {
    "duration": 30,
    "start_time": "2022-01-24T14:07:22.397Z"
   },
   {
    "duration": 10,
    "start_time": "2022-01-24T14:07:22.428Z"
   },
   {
    "duration": 17,
    "start_time": "2022-01-24T14:07:22.440Z"
   },
   {
    "duration": 23,
    "start_time": "2022-01-24T14:07:22.459Z"
   },
   {
    "duration": 15,
    "start_time": "2022-01-24T14:07:22.485Z"
   },
   {
    "duration": 18,
    "start_time": "2022-01-24T14:07:22.502Z"
   },
   {
    "duration": 101,
    "start_time": "2022-01-24T14:07:22.527Z"
   },
   {
    "duration": 97,
    "start_time": "2022-01-24T14:07:22.630Z"
   },
   {
    "duration": 13,
    "start_time": "2022-01-24T14:07:22.729Z"
   },
   {
    "duration": 90,
    "start_time": "2022-01-24T14:07:22.744Z"
   },
   {
    "duration": 110,
    "start_time": "2022-01-24T14:07:22.836Z"
   },
   {
    "duration": 179,
    "start_time": "2022-01-24T14:07:22.948Z"
   },
   {
    "duration": 4,
    "start_time": "2022-01-24T14:07:23.129Z"
   },
   {
    "duration": 11,
    "start_time": "2022-01-24T14:07:23.134Z"
   },
   {
    "duration": 5,
    "start_time": "2022-01-24T14:07:23.147Z"
   },
   {
    "duration": 4,
    "start_time": "2022-01-24T14:07:23.153Z"
   },
   {
    "duration": 3,
    "start_time": "2022-01-24T14:07:23.159Z"
   },
   {
    "duration": 5,
    "start_time": "2022-01-24T14:07:23.163Z"
   },
   {
    "duration": 2369,
    "start_time": "2022-01-24T14:07:23.169Z"
   },
   {
    "duration": 2326,
    "start_time": "2022-01-24T14:20:02.779Z"
   },
   {
    "duration": 2674,
    "start_time": "2022-01-24T14:20:32.425Z"
   },
   {
    "duration": 3,
    "start_time": "2022-01-24T15:19:17.235Z"
   },
   {
    "duration": 336,
    "start_time": "2022-01-24T15:19:17.240Z"
   },
   {
    "duration": 9,
    "start_time": "2022-01-24T15:19:17.578Z"
   },
   {
    "duration": 7,
    "start_time": "2022-01-24T15:19:17.589Z"
   },
   {
    "duration": 11,
    "start_time": "2022-01-24T15:19:17.597Z"
   },
   {
    "duration": 25,
    "start_time": "2022-01-24T15:19:17.609Z"
   },
   {
    "duration": 11,
    "start_time": "2022-01-24T15:19:17.635Z"
   },
   {
    "duration": 7,
    "start_time": "2022-01-24T15:19:17.648Z"
   },
   {
    "duration": 36,
    "start_time": "2022-01-24T15:19:17.658Z"
   },
   {
    "duration": 74,
    "start_time": "2022-01-24T15:19:17.696Z"
   },
   {
    "duration": 14,
    "start_time": "2022-01-24T15:19:17.772Z"
   },
   {
    "duration": 57,
    "start_time": "2022-01-24T15:19:17.788Z"
   },
   {
    "duration": 37,
    "start_time": "2022-01-24T15:19:17.847Z"
   },
   {
    "duration": 10,
    "start_time": "2022-01-24T15:19:17.886Z"
   },
   {
    "duration": 34,
    "start_time": "2022-01-24T15:19:17.897Z"
   },
   {
    "duration": 9,
    "start_time": "2022-01-24T15:19:17.933Z"
   },
   {
    "duration": 10,
    "start_time": "2022-01-24T15:19:17.943Z"
   },
   {
    "duration": 11,
    "start_time": "2022-01-24T15:19:17.954Z"
   },
   {
    "duration": 12,
    "start_time": "2022-01-24T15:19:17.967Z"
   },
   {
    "duration": 5,
    "start_time": "2022-01-24T15:19:17.980Z"
   },
   {
    "duration": 40,
    "start_time": "2022-01-24T15:19:17.987Z"
   },
   {
    "duration": 7,
    "start_time": "2022-01-24T15:19:18.029Z"
   },
   {
    "duration": 13,
    "start_time": "2022-01-24T15:19:18.038Z"
   },
   {
    "duration": 10,
    "start_time": "2022-01-24T15:19:18.053Z"
   },
   {
    "duration": 12,
    "start_time": "2022-01-24T15:19:18.064Z"
   },
   {
    "duration": 20,
    "start_time": "2022-01-24T15:19:18.077Z"
   },
   {
    "duration": 13,
    "start_time": "2022-01-24T15:19:18.128Z"
   },
   {
    "duration": 12,
    "start_time": "2022-01-24T15:19:18.143Z"
   },
   {
    "duration": 76,
    "start_time": "2022-01-24T15:19:18.157Z"
   },
   {
    "duration": 96,
    "start_time": "2022-01-24T15:19:18.235Z"
   },
   {
    "duration": 100,
    "start_time": "2022-01-24T15:19:18.333Z"
   },
   {
    "duration": 97,
    "start_time": "2022-01-24T15:19:18.434Z"
   },
   {
    "duration": 15,
    "start_time": "2022-01-24T15:19:18.532Z"
   },
   {
    "duration": 84,
    "start_time": "2022-01-24T15:19:18.550Z"
   },
   {
    "duration": 93,
    "start_time": "2022-01-24T15:19:18.636Z"
   },
   {
    "duration": 4,
    "start_time": "2022-01-24T15:19:18.731Z"
   },
   {
    "duration": 5,
    "start_time": "2022-01-24T15:19:18.737Z"
   },
   {
    "duration": 5,
    "start_time": "2022-01-24T15:19:18.743Z"
   },
   {
    "duration": 5,
    "start_time": "2022-01-24T15:19:18.749Z"
   },
   {
    "duration": 5,
    "start_time": "2022-01-24T15:19:18.755Z"
   },
   {
    "duration": 3112,
    "start_time": "2022-01-24T15:19:18.761Z"
   },
   {
    "duration": 3,
    "start_time": "2022-01-24T15:21:11.351Z"
   },
   {
    "duration": 333,
    "start_time": "2022-01-24T15:21:11.356Z"
   },
   {
    "duration": 9,
    "start_time": "2022-01-24T15:21:11.691Z"
   },
   {
    "duration": 8,
    "start_time": "2022-01-24T15:21:11.702Z"
   },
   {
    "duration": 11,
    "start_time": "2022-01-24T15:21:11.727Z"
   },
   {
    "duration": 8,
    "start_time": "2022-01-24T15:21:11.740Z"
   },
   {
    "duration": 11,
    "start_time": "2022-01-24T15:21:11.750Z"
   },
   {
    "duration": 8,
    "start_time": "2022-01-24T15:21:11.763Z"
   },
   {
    "duration": 83,
    "start_time": "2022-01-24T15:21:11.773Z"
   },
   {
    "duration": 42,
    "start_time": "2022-01-24T15:21:11.858Z"
   },
   {
    "duration": 27,
    "start_time": "2022-01-24T15:21:11.901Z"
   },
   {
    "duration": 33,
    "start_time": "2022-01-24T15:21:11.929Z"
   },
   {
    "duration": 37,
    "start_time": "2022-01-24T15:21:11.964Z"
   },
   {
    "duration": 32,
    "start_time": "2022-01-24T15:21:12.003Z"
   },
   {
    "duration": 9,
    "start_time": "2022-01-24T15:21:12.037Z"
   },
   {
    "duration": 9,
    "start_time": "2022-01-24T15:21:12.048Z"
   },
   {
    "duration": 9,
    "start_time": "2022-01-24T15:21:12.059Z"
   },
   {
    "duration": 10,
    "start_time": "2022-01-24T15:21:12.070Z"
   },
   {
    "duration": 51,
    "start_time": "2022-01-24T15:21:12.082Z"
   },
   {
    "duration": 6,
    "start_time": "2022-01-24T15:21:12.134Z"
   },
   {
    "duration": 8,
    "start_time": "2022-01-24T15:21:12.142Z"
   },
   {
    "duration": 6,
    "start_time": "2022-01-24T15:21:12.151Z"
   },
   {
    "duration": 15,
    "start_time": "2022-01-24T15:21:12.158Z"
   },
   {
    "duration": 10,
    "start_time": "2022-01-24T15:21:12.175Z"
   },
   {
    "duration": 10,
    "start_time": "2022-01-24T15:21:12.187Z"
   },
   {
    "duration": 19,
    "start_time": "2022-01-24T15:21:12.226Z"
   },
   {
    "duration": 12,
    "start_time": "2022-01-24T15:21:12.248Z"
   },
   {
    "duration": 12,
    "start_time": "2022-01-24T15:21:12.262Z"
   },
   {
    "duration": 61,
    "start_time": "2022-01-24T15:21:12.276Z"
   },
   {
    "duration": 91,
    "start_time": "2022-01-24T15:21:12.339Z"
   },
   {
    "duration": 12,
    "start_time": "2022-01-24T15:21:12.432Z"
   },
   {
    "duration": 86,
    "start_time": "2022-01-24T15:21:12.446Z"
   },
   {
    "duration": 111,
    "start_time": "2022-01-24T15:21:12.535Z"
   },
   {
    "duration": 81,
    "start_time": "2022-01-24T15:21:12.648Z"
   },
   {
    "duration": 98,
    "start_time": "2022-01-24T15:21:12.731Z"
   },
   {
    "duration": 9,
    "start_time": "2022-01-24T15:21:12.831Z"
   },
   {
    "duration": 3,
    "start_time": "2022-01-24T15:21:12.842Z"
   },
   {
    "duration": 6,
    "start_time": "2022-01-24T15:21:12.847Z"
   },
   {
    "duration": 3,
    "start_time": "2022-01-24T15:21:12.854Z"
   },
   {
    "duration": 137,
    "start_time": "2022-01-24T15:21:12.859Z"
   },
   {
    "duration": -1503,
    "start_time": "2022-01-24T15:21:14.500Z"
   },
   {
    "duration": 3,
    "start_time": "2022-01-24T15:21:22.839Z"
   },
   {
    "duration": 336,
    "start_time": "2022-01-24T15:21:22.844Z"
   },
   {
    "duration": 9,
    "start_time": "2022-01-24T15:21:23.182Z"
   },
   {
    "duration": 7,
    "start_time": "2022-01-24T15:21:23.193Z"
   },
   {
    "duration": 31,
    "start_time": "2022-01-24T15:21:23.202Z"
   },
   {
    "duration": 7,
    "start_time": "2022-01-24T15:21:23.235Z"
   },
   {
    "duration": 13,
    "start_time": "2022-01-24T15:21:23.243Z"
   },
   {
    "duration": 10,
    "start_time": "2022-01-24T15:21:23.259Z"
   },
   {
    "duration": 70,
    "start_time": "2022-01-24T15:21:23.270Z"
   },
   {
    "duration": 44,
    "start_time": "2022-01-24T15:21:23.341Z"
   },
   {
    "duration": 12,
    "start_time": "2022-01-24T15:21:23.387Z"
   },
   {
    "duration": 59,
    "start_time": "2022-01-24T15:21:23.400Z"
   },
   {
    "duration": 68,
    "start_time": "2022-01-24T15:21:23.461Z"
   },
   {
    "duration": 13,
    "start_time": "2022-01-24T15:21:23.531Z"
   },
   {
    "duration": 11,
    "start_time": "2022-01-24T15:21:23.545Z"
   },
   {
    "duration": 9,
    "start_time": "2022-01-24T15:21:23.558Z"
   },
   {
    "duration": 11,
    "start_time": "2022-01-24T15:21:23.568Z"
   },
   {
    "duration": 48,
    "start_time": "2022-01-24T15:21:23.580Z"
   },
   {
    "duration": 10,
    "start_time": "2022-01-24T15:21:23.630Z"
   },
   {
    "duration": 7,
    "start_time": "2022-01-24T15:21:23.641Z"
   },
   {
    "duration": 5,
    "start_time": "2022-01-24T15:21:23.649Z"
   },
   {
    "duration": 14,
    "start_time": "2022-01-24T15:21:23.656Z"
   },
   {
    "duration": 11,
    "start_time": "2022-01-24T15:21:23.673Z"
   },
   {
    "duration": 10,
    "start_time": "2022-01-24T15:21:23.686Z"
   },
   {
    "duration": 11,
    "start_time": "2022-01-24T15:21:23.727Z"
   },
   {
    "duration": 18,
    "start_time": "2022-01-24T15:21:23.739Z"
   },
   {
    "duration": 12,
    "start_time": "2022-01-24T15:21:23.759Z"
   },
   {
    "duration": 15,
    "start_time": "2022-01-24T15:21:23.773Z"
   },
   {
    "duration": 53,
    "start_time": "2022-01-24T15:21:23.790Z"
   },
   {
    "duration": 89,
    "start_time": "2022-01-24T15:21:23.845Z"
   },
   {
    "duration": 105,
    "start_time": "2022-01-24T15:21:23.936Z"
   },
   {
    "duration": 190,
    "start_time": "2022-01-24T15:21:24.043Z"
   },
   {
    "duration": 94,
    "start_time": "2022-01-24T15:21:24.235Z"
   },
   {
    "duration": 114,
    "start_time": "2022-01-24T15:21:24.330Z"
   },
   {
    "duration": 4,
    "start_time": "2022-01-24T15:21:24.445Z"
   },
   {
    "duration": 7,
    "start_time": "2022-01-24T15:21:24.451Z"
   },
   {
    "duration": 5,
    "start_time": "2022-01-24T15:21:24.459Z"
   },
   {
    "duration": 5,
    "start_time": "2022-01-24T15:21:24.466Z"
   },
   {
    "duration": 6,
    "start_time": "2022-01-24T15:21:24.473Z"
   },
   {
    "duration": 120,
    "start_time": "2022-01-24T15:21:24.481Z"
   },
   {
    "duration": -1946,
    "start_time": "2022-01-24T15:21:26.549Z"
   },
   {
    "duration": 3,
    "start_time": "2022-01-24T15:21:58.295Z"
   },
   {
    "duration": 334,
    "start_time": "2022-01-24T15:21:58.300Z"
   },
   {
    "duration": 9,
    "start_time": "2022-01-24T15:21:58.636Z"
   },
   {
    "duration": 8,
    "start_time": "2022-01-24T15:21:58.647Z"
   },
   {
    "duration": 10,
    "start_time": "2022-01-24T15:21:58.656Z"
   },
   {
    "duration": 6,
    "start_time": "2022-01-24T15:21:58.668Z"
   },
   {
    "duration": 11,
    "start_time": "2022-01-24T15:21:58.676Z"
   },
   {
    "duration": 44,
    "start_time": "2022-01-24T15:21:58.689Z"
   },
   {
    "duration": 38,
    "start_time": "2022-01-24T15:21:58.735Z"
   },
   {
    "duration": 61,
    "start_time": "2022-01-24T15:21:58.775Z"
   },
   {
    "duration": 13,
    "start_time": "2022-01-24T15:21:58.837Z"
   },
   {
    "duration": 37,
    "start_time": "2022-01-24T15:21:58.852Z"
   },
   {
    "duration": 61,
    "start_time": "2022-01-24T15:21:58.891Z"
   },
   {
    "duration": 11,
    "start_time": "2022-01-24T15:21:58.953Z"
   },
   {
    "duration": 20,
    "start_time": "2022-01-24T15:21:58.965Z"
   },
   {
    "duration": 14,
    "start_time": "2022-01-24T15:21:58.987Z"
   },
   {
    "duration": 26,
    "start_time": "2022-01-24T15:21:59.002Z"
   },
   {
    "duration": 19,
    "start_time": "2022-01-24T15:21:59.030Z"
   },
   {
    "duration": 19,
    "start_time": "2022-01-24T15:21:59.051Z"
   },
   {
    "duration": 15,
    "start_time": "2022-01-24T15:21:59.072Z"
   },
   {
    "duration": 22,
    "start_time": "2022-01-24T15:21:59.089Z"
   },
   {
    "duration": 17,
    "start_time": "2022-01-24T15:21:59.113Z"
   },
   {
    "duration": 15,
    "start_time": "2022-01-24T15:21:59.133Z"
   },
   {
    "duration": 15,
    "start_time": "2022-01-24T15:21:59.150Z"
   },
   {
    "duration": 13,
    "start_time": "2022-01-24T15:21:59.166Z"
   },
   {
    "duration": 22,
    "start_time": "2022-01-24T15:21:59.180Z"
   },
   {
    "duration": 29,
    "start_time": "2022-01-24T15:21:59.204Z"
   },
   {
    "duration": 13,
    "start_time": "2022-01-24T15:21:59.235Z"
   },
   {
    "duration": 179,
    "start_time": "2022-01-24T15:21:59.250Z"
   },
   {
    "duration": 6,
    "start_time": "2022-01-24T15:21:59.431Z"
   },
   {
    "duration": 90,
    "start_time": "2022-01-24T15:21:59.439Z"
   },
   {
    "duration": 8,
    "start_time": "2022-01-24T15:21:59.530Z"
   },
   {
    "duration": 17,
    "start_time": "2022-01-24T15:21:59.627Z"
   },
   {
    "duration": 83,
    "start_time": "2022-01-24T15:21:59.645Z"
   },
   {
    "duration": 11,
    "start_time": "2022-01-24T15:21:59.730Z"
   },
   {
    "duration": 4,
    "start_time": "2022-01-24T15:21:59.828Z"
   },
   {
    "duration": 10,
    "start_time": "2022-01-24T15:21:59.834Z"
   },
   {
    "duration": 4,
    "start_time": "2022-01-24T15:21:59.846Z"
   },
   {
    "duration": 4,
    "start_time": "2022-01-24T15:21:59.852Z"
   },
   {
    "duration": 5,
    "start_time": "2022-01-24T15:21:59.858Z"
   },
   {
    "duration": 3047,
    "start_time": "2022-01-24T15:21:59.865Z"
   },
   {
    "duration": 3,
    "start_time": "2022-01-24T15:23:24.055Z"
   },
   {
    "duration": 339,
    "start_time": "2022-01-24T15:23:24.059Z"
   },
   {
    "duration": 9,
    "start_time": "2022-01-24T15:23:24.400Z"
   },
   {
    "duration": 16,
    "start_time": "2022-01-24T15:23:24.411Z"
   },
   {
    "duration": 9,
    "start_time": "2022-01-24T15:23:24.429Z"
   },
   {
    "duration": 7,
    "start_time": "2022-01-24T15:23:24.440Z"
   },
   {
    "duration": 9,
    "start_time": "2022-01-24T15:23:24.449Z"
   },
   {
    "duration": 6,
    "start_time": "2022-01-24T15:23:24.461Z"
   },
   {
    "duration": 73,
    "start_time": "2022-01-24T15:23:24.469Z"
   },
   {
    "duration": 44,
    "start_time": "2022-01-24T15:23:24.544Z"
   },
   {
    "duration": 12,
    "start_time": "2022-01-24T15:23:24.590Z"
   },
   {
    "duration": 54,
    "start_time": "2022-01-24T15:23:24.604Z"
   },
   {
    "duration": 37,
    "start_time": "2022-01-24T15:23:24.660Z"
   },
   {
    "duration": 36,
    "start_time": "2022-01-24T15:23:24.699Z"
   },
   {
    "duration": 11,
    "start_time": "2022-01-24T15:23:24.737Z"
   },
   {
    "duration": 12,
    "start_time": "2022-01-24T15:23:24.750Z"
   },
   {
    "duration": 9,
    "start_time": "2022-01-24T15:23:24.764Z"
   },
   {
    "duration": 10,
    "start_time": "2022-01-24T15:23:24.775Z"
   },
   {
    "duration": 48,
    "start_time": "2022-01-24T15:23:24.787Z"
   },
   {
    "duration": 6,
    "start_time": "2022-01-24T15:23:24.837Z"
   },
   {
    "duration": 6,
    "start_time": "2022-01-24T15:23:24.844Z"
   },
   {
    "duration": 6,
    "start_time": "2022-01-24T15:23:24.851Z"
   },
   {
    "duration": 17,
    "start_time": "2022-01-24T15:23:24.861Z"
   },
   {
    "duration": 11,
    "start_time": "2022-01-24T15:23:24.880Z"
   },
   {
    "duration": 44,
    "start_time": "2022-01-24T15:23:24.892Z"
   },
   {
    "duration": 17,
    "start_time": "2022-01-24T15:23:24.938Z"
   },
   {
    "duration": 13,
    "start_time": "2022-01-24T15:23:24.957Z"
   },
   {
    "duration": 14,
    "start_time": "2022-01-24T15:23:24.972Z"
   },
   {
    "duration": 52,
    "start_time": "2022-01-24T15:23:24.988Z"
   },
   {
    "duration": 92,
    "start_time": "2022-01-24T15:23:25.042Z"
   },
   {
    "duration": 198,
    "start_time": "2022-01-24T15:23:25.136Z"
   },
   {
    "duration": 95,
    "start_time": "2022-01-24T15:23:25.338Z"
   },
   {
    "duration": 94,
    "start_time": "2022-01-24T15:23:25.435Z"
   },
   {
    "duration": 98,
    "start_time": "2022-01-24T15:23:25.531Z"
   },
   {
    "duration": 4,
    "start_time": "2022-01-24T15:23:25.631Z"
   },
   {
    "duration": 8,
    "start_time": "2022-01-24T15:23:25.637Z"
   },
   {
    "duration": 9,
    "start_time": "2022-01-24T15:23:25.647Z"
   },
   {
    "duration": 5,
    "start_time": "2022-01-24T15:23:25.658Z"
   },
   {
    "duration": 5,
    "start_time": "2022-01-24T15:23:25.664Z"
   },
   {
    "duration": 8,
    "start_time": "2022-01-24T15:23:25.670Z"
   },
   {
    "duration": 3044,
    "start_time": "2022-01-24T15:23:25.679Z"
   },
   {
    "duration": 3,
    "start_time": "2022-01-24T15:24:05.259Z"
   },
   {
    "duration": 437,
    "start_time": "2022-01-24T15:24:05.264Z"
   },
   {
    "duration": 23,
    "start_time": "2022-01-24T15:24:05.704Z"
   },
   {
    "duration": 8,
    "start_time": "2022-01-24T15:24:05.729Z"
   },
   {
    "duration": 13,
    "start_time": "2022-01-24T15:24:05.739Z"
   },
   {
    "duration": 9,
    "start_time": "2022-01-24T15:24:05.754Z"
   },
   {
    "duration": 10,
    "start_time": "2022-01-24T15:24:05.765Z"
   },
   {
    "duration": 7,
    "start_time": "2022-01-24T15:24:05.777Z"
   },
   {
    "duration": 75,
    "start_time": "2022-01-24T15:24:05.786Z"
   },
   {
    "duration": 78,
    "start_time": "2022-01-24T15:24:05.863Z"
   },
   {
    "duration": 14,
    "start_time": "2022-01-24T15:24:05.943Z"
   },
   {
    "duration": 37,
    "start_time": "2022-01-24T15:24:05.959Z"
   },
   {
    "duration": 58,
    "start_time": "2022-01-24T15:24:05.997Z"
   },
   {
    "duration": 13,
    "start_time": "2022-01-24T15:24:06.057Z"
   },
   {
    "duration": 10,
    "start_time": "2022-01-24T15:24:06.072Z"
   },
   {
    "duration": 48,
    "start_time": "2022-01-24T15:24:06.083Z"
   },
   {
    "duration": 9,
    "start_time": "2022-01-24T15:24:06.133Z"
   },
   {
    "duration": 11,
    "start_time": "2022-01-24T15:24:06.144Z"
   },
   {
    "duration": 13,
    "start_time": "2022-01-24T15:24:06.157Z"
   },
   {
    "duration": 8,
    "start_time": "2022-01-24T15:24:06.172Z"
   },
   {
    "duration": 8,
    "start_time": "2022-01-24T15:24:06.181Z"
   },
   {
    "duration": 7,
    "start_time": "2022-01-24T15:24:06.191Z"
   },
   {
    "duration": 37,
    "start_time": "2022-01-24T15:24:06.199Z"
   },
   {
    "duration": 13,
    "start_time": "2022-01-24T15:24:06.237Z"
   },
   {
    "duration": 11,
    "start_time": "2022-01-24T15:24:06.251Z"
   },
   {
    "duration": 19,
    "start_time": "2022-01-24T15:24:06.263Z"
   },
   {
    "duration": 47,
    "start_time": "2022-01-24T15:24:06.284Z"
   },
   {
    "duration": 15,
    "start_time": "2022-01-24T15:24:06.333Z"
   },
   {
    "duration": 84,
    "start_time": "2022-01-24T15:24:06.349Z"
   },
   {
    "duration": 93,
    "start_time": "2022-01-24T15:24:06.436Z"
   },
   {
    "duration": 101,
    "start_time": "2022-01-24T15:24:06.531Z"
   },
   {
    "duration": 92,
    "start_time": "2022-01-24T15:24:06.636Z"
   },
   {
    "duration": 100,
    "start_time": "2022-01-24T15:24:06.730Z"
   },
   {
    "duration": 95,
    "start_time": "2022-01-24T15:24:06.832Z"
   },
   {
    "duration": 6,
    "start_time": "2022-01-24T15:24:06.929Z"
   },
   {
    "duration": 13,
    "start_time": "2022-01-24T15:24:06.936Z"
   },
   {
    "duration": 6,
    "start_time": "2022-01-24T15:24:06.951Z"
   },
   {
    "duration": 9,
    "start_time": "2022-01-24T15:24:06.959Z"
   },
   {
    "duration": 3,
    "start_time": "2022-01-24T15:24:06.970Z"
   },
   {
    "duration": 5,
    "start_time": "2022-01-24T15:24:06.975Z"
   },
   {
    "duration": 3354,
    "start_time": "2022-01-24T15:24:06.982Z"
   },
   {
    "duration": 7,
    "start_time": "2022-01-24T15:24:23.455Z"
   },
   {
    "duration": 648,
    "start_time": "2022-01-24T15:24:23.471Z"
   },
   {
    "duration": 16,
    "start_time": "2022-01-24T15:24:24.121Z"
   },
   {
    "duration": 8,
    "start_time": "2022-01-24T15:24:24.139Z"
   },
   {
    "duration": 16,
    "start_time": "2022-01-24T15:24:24.149Z"
   },
   {
    "duration": 10,
    "start_time": "2022-01-24T15:24:24.167Z"
   },
   {
    "duration": 50,
    "start_time": "2022-01-24T15:24:24.179Z"
   },
   {
    "duration": 9,
    "start_time": "2022-01-24T15:24:24.232Z"
   },
   {
    "duration": 39,
    "start_time": "2022-01-24T15:24:24.243Z"
   },
   {
    "duration": 87,
    "start_time": "2022-01-24T15:24:24.285Z"
   },
   {
    "duration": 12,
    "start_time": "2022-01-24T15:24:24.374Z"
   },
   {
    "duration": 54,
    "start_time": "2022-01-24T15:24:24.388Z"
   },
   {
    "duration": 43,
    "start_time": "2022-01-24T15:24:24.444Z"
   },
   {
    "duration": 11,
    "start_time": "2022-01-24T15:24:24.490Z"
   },
   {
    "duration": 12,
    "start_time": "2022-01-24T15:24:24.527Z"
   },
   {
    "duration": 10,
    "start_time": "2022-01-24T15:24:24.541Z"
   },
   {
    "duration": 10,
    "start_time": "2022-01-24T15:24:24.553Z"
   },
   {
    "duration": 13,
    "start_time": "2022-01-24T15:24:24.565Z"
   },
   {
    "duration": 49,
    "start_time": "2022-01-24T15:24:24.580Z"
   },
   {
    "duration": 6,
    "start_time": "2022-01-24T15:24:24.631Z"
   },
   {
    "duration": 9,
    "start_time": "2022-01-24T15:24:24.639Z"
   },
   {
    "duration": 9,
    "start_time": "2022-01-24T15:24:24.650Z"
   },
   {
    "duration": 29,
    "start_time": "2022-01-24T15:24:24.661Z"
   },
   {
    "duration": 12,
    "start_time": "2022-01-24T15:24:24.692Z"
   },
   {
    "duration": 23,
    "start_time": "2022-01-24T15:24:24.705Z"
   },
   {
    "duration": 20,
    "start_time": "2022-01-24T15:24:24.730Z"
   },
   {
    "duration": 16,
    "start_time": "2022-01-24T15:24:24.752Z"
   },
   {
    "duration": 14,
    "start_time": "2022-01-24T15:24:24.772Z"
   },
   {
    "duration": 54,
    "start_time": "2022-01-24T15:24:24.788Z"
   },
   {
    "duration": 88,
    "start_time": "2022-01-24T15:24:24.844Z"
   },
   {
    "duration": 199,
    "start_time": "2022-01-24T15:24:24.933Z"
   },
   {
    "duration": 94,
    "start_time": "2022-01-24T15:24:25.135Z"
   },
   {
    "duration": 23,
    "start_time": "2022-01-24T15:24:25.231Z"
   },
   {
    "duration": 88,
    "start_time": "2022-01-24T15:24:25.344Z"
   },
   {
    "duration": 5,
    "start_time": "2022-01-24T15:24:25.434Z"
   },
   {
    "duration": 10,
    "start_time": "2022-01-24T15:24:25.441Z"
   },
   {
    "duration": 9,
    "start_time": "2022-01-24T15:24:25.453Z"
   },
   {
    "duration": 5,
    "start_time": "2022-01-24T15:24:25.463Z"
   },
   {
    "duration": 12,
    "start_time": "2022-01-24T15:24:25.470Z"
   },
   {
    "duration": 6,
    "start_time": "2022-01-24T15:24:25.483Z"
   },
   {
    "duration": 3830,
    "start_time": "2022-01-24T15:24:25.527Z"
   },
   {
    "duration": 3,
    "start_time": "2022-01-24T15:25:15.147Z"
   },
   {
    "duration": 377,
    "start_time": "2022-01-24T15:25:15.152Z"
   },
   {
    "duration": 10,
    "start_time": "2022-01-24T15:25:15.531Z"
   },
   {
    "duration": 11,
    "start_time": "2022-01-24T15:25:15.543Z"
   },
   {
    "duration": 11,
    "start_time": "2022-01-24T15:25:15.556Z"
   },
   {
    "duration": 9,
    "start_time": "2022-01-24T15:25:15.568Z"
   },
   {
    "duration": 48,
    "start_time": "2022-01-24T15:25:15.579Z"
   },
   {
    "duration": 8,
    "start_time": "2022-01-24T15:25:15.629Z"
   },
   {
    "duration": 41,
    "start_time": "2022-01-24T15:25:15.640Z"
   },
   {
    "duration": 64,
    "start_time": "2022-01-24T15:25:15.684Z"
   },
   {
    "duration": 12,
    "start_time": "2022-01-24T15:25:15.750Z"
   },
   {
    "duration": 34,
    "start_time": "2022-01-24T15:25:15.764Z"
   },
   {
    "duration": 37,
    "start_time": "2022-01-24T15:25:15.828Z"
   },
   {
    "duration": 14,
    "start_time": "2022-01-24T15:25:15.867Z"
   },
   {
    "duration": 11,
    "start_time": "2022-01-24T15:25:15.882Z"
   },
   {
    "duration": 13,
    "start_time": "2022-01-24T15:25:15.927Z"
   },
   {
    "duration": 12,
    "start_time": "2022-01-24T15:25:15.942Z"
   },
   {
    "duration": 11,
    "start_time": "2022-01-24T15:25:15.956Z"
   },
   {
    "duration": 12,
    "start_time": "2022-01-24T15:25:15.969Z"
   },
   {
    "duration": 7,
    "start_time": "2022-01-24T15:25:15.982Z"
   },
   {
    "duration": 4,
    "start_time": "2022-01-24T15:25:16.028Z"
   },
   {
    "duration": 8,
    "start_time": "2022-01-24T15:25:16.033Z"
   },
   {
    "duration": 21,
    "start_time": "2022-01-24T15:25:16.043Z"
   },
   {
    "duration": 14,
    "start_time": "2022-01-24T15:25:16.066Z"
   },
   {
    "duration": 13,
    "start_time": "2022-01-24T15:25:16.082Z"
   },
   {
    "duration": 44,
    "start_time": "2022-01-24T15:25:16.097Z"
   },
   {
    "duration": 13,
    "start_time": "2022-01-24T15:25:16.146Z"
   },
   {
    "duration": 12,
    "start_time": "2022-01-24T15:25:16.161Z"
   },
   {
    "duration": 57,
    "start_time": "2022-01-24T15:25:16.175Z"
   },
   {
    "duration": 7,
    "start_time": "2022-01-24T15:25:16.233Z"
   },
   {
    "duration": 109,
    "start_time": "2022-01-24T15:25:16.242Z"
   },
   {
    "duration": 84,
    "start_time": "2022-01-24T15:25:16.352Z"
   },
   {
    "duration": 107,
    "start_time": "2022-01-24T15:25:16.439Z"
   },
   {
    "duration": 184,
    "start_time": "2022-01-24T15:25:16.548Z"
   },
   {
    "duration": 4,
    "start_time": "2022-01-24T15:25:16.734Z"
   },
   {
    "duration": 7,
    "start_time": "2022-01-24T15:25:16.740Z"
   },
   {
    "duration": 5,
    "start_time": "2022-01-24T15:25:16.749Z"
   },
   {
    "duration": 5,
    "start_time": "2022-01-24T15:25:16.756Z"
   },
   {
    "duration": 3,
    "start_time": "2022-01-24T15:25:16.763Z"
   },
   {
    "duration": 10,
    "start_time": "2022-01-24T15:25:16.767Z"
   },
   {
    "duration": 3029,
    "start_time": "2022-01-24T15:25:16.778Z"
   },
   {
    "duration": 3,
    "start_time": "2022-01-24T15:25:46.043Z"
   },
   {
    "duration": 341,
    "start_time": "2022-01-24T15:25:46.048Z"
   },
   {
    "duration": 10,
    "start_time": "2022-01-24T15:25:46.391Z"
   },
   {
    "duration": 8,
    "start_time": "2022-01-24T15:25:46.402Z"
   },
   {
    "duration": 24,
    "start_time": "2022-01-24T15:25:46.411Z"
   },
   {
    "duration": 9,
    "start_time": "2022-01-24T15:25:46.436Z"
   },
   {
    "duration": 10,
    "start_time": "2022-01-24T15:25:46.447Z"
   },
   {
    "duration": 7,
    "start_time": "2022-01-24T15:25:46.459Z"
   },
   {
    "duration": 66,
    "start_time": "2022-01-24T15:25:46.468Z"
   },
   {
    "duration": 44,
    "start_time": "2022-01-24T15:25:46.536Z"
   },
   {
    "duration": 14,
    "start_time": "2022-01-24T15:25:46.581Z"
   },
   {
    "duration": 67,
    "start_time": "2022-01-24T15:25:46.597Z"
   },
   {
    "duration": 35,
    "start_time": "2022-01-24T15:25:46.665Z"
   },
   {
    "duration": 30,
    "start_time": "2022-01-24T15:25:46.701Z"
   },
   {
    "duration": 9,
    "start_time": "2022-01-24T15:25:46.733Z"
   },
   {
    "duration": 10,
    "start_time": "2022-01-24T15:25:46.744Z"
   },
   {
    "duration": 10,
    "start_time": "2022-01-24T15:25:46.756Z"
   },
   {
    "duration": 13,
    "start_time": "2022-01-24T15:25:46.767Z"
   },
   {
    "duration": 11,
    "start_time": "2022-01-24T15:25:46.781Z"
   },
   {
    "duration": 37,
    "start_time": "2022-01-24T15:25:46.793Z"
   },
   {
    "duration": 7,
    "start_time": "2022-01-24T15:25:46.832Z"
   },
   {
    "duration": 6,
    "start_time": "2022-01-24T15:25:46.840Z"
   },
   {
    "duration": 13,
    "start_time": "2022-01-24T15:25:46.850Z"
   },
   {
    "duration": 11,
    "start_time": "2022-01-24T15:25:46.865Z"
   },
   {
    "duration": 49,
    "start_time": "2022-01-24T15:25:46.878Z"
   },
   {
    "duration": 18,
    "start_time": "2022-01-24T15:25:46.929Z"
   },
   {
    "duration": 15,
    "start_time": "2022-01-24T15:25:46.949Z"
   },
   {
    "duration": 13,
    "start_time": "2022-01-24T15:25:46.965Z"
   },
   {
    "duration": 150,
    "start_time": "2022-01-24T15:25:46.980Z"
   },
   {
    "duration": 7,
    "start_time": "2022-01-24T15:25:47.132Z"
   },
   {
    "duration": 93,
    "start_time": "2022-01-24T15:25:47.142Z"
   },
   {
    "duration": 94,
    "start_time": "2022-01-24T15:25:47.237Z"
   },
   {
    "duration": 94,
    "start_time": "2022-01-24T15:25:47.333Z"
   },
   {
    "duration": 105,
    "start_time": "2022-01-24T15:25:47.429Z"
   },
   {
    "duration": 4,
    "start_time": "2022-01-24T15:25:47.536Z"
   },
   {
    "duration": 10,
    "start_time": "2022-01-24T15:25:47.542Z"
   },
   {
    "duration": 7,
    "start_time": "2022-01-24T15:25:47.553Z"
   },
   {
    "duration": 6,
    "start_time": "2022-01-24T15:25:47.561Z"
   },
   {
    "duration": 6,
    "start_time": "2022-01-24T15:25:47.569Z"
   },
   {
    "duration": 5,
    "start_time": "2022-01-24T15:25:47.577Z"
   },
   {
    "duration": 2372,
    "start_time": "2022-01-24T15:25:47.584Z"
   },
   {
    "duration": 4,
    "start_time": "2022-01-24T15:26:58.144Z"
   },
   {
    "duration": 389,
    "start_time": "2022-01-24T15:26:58.150Z"
   },
   {
    "duration": 12,
    "start_time": "2022-01-24T15:26:58.544Z"
   },
   {
    "duration": 12,
    "start_time": "2022-01-24T15:26:58.558Z"
   },
   {
    "duration": 19,
    "start_time": "2022-01-24T15:26:58.572Z"
   },
   {
    "duration": 37,
    "start_time": "2022-01-24T15:26:58.593Z"
   },
   {
    "duration": 12,
    "start_time": "2022-01-24T15:26:58.632Z"
   },
   {
    "duration": 10,
    "start_time": "2022-01-24T15:26:58.646Z"
   },
   {
    "duration": 77,
    "start_time": "2022-01-24T15:26:58.659Z"
   },
   {
    "duration": 64,
    "start_time": "2022-01-24T15:26:58.739Z"
   },
   {
    "duration": 31,
    "start_time": "2022-01-24T15:26:58.805Z"
   },
   {
    "duration": 37,
    "start_time": "2022-01-24T15:26:58.838Z"
   },
   {
    "duration": 64,
    "start_time": "2022-01-24T15:26:58.877Z"
   },
   {
    "duration": 15,
    "start_time": "2022-01-24T15:26:58.943Z"
   },
   {
    "duration": 16,
    "start_time": "2022-01-24T15:26:58.960Z"
   },
   {
    "duration": 12,
    "start_time": "2022-01-24T15:26:58.978Z"
   },
   {
    "duration": 47,
    "start_time": "2022-01-24T15:26:58.992Z"
   },
   {
    "duration": 12,
    "start_time": "2022-01-24T15:26:59.041Z"
   },
   {
    "duration": 27,
    "start_time": "2022-01-24T15:26:59.055Z"
   },
   {
    "duration": 23,
    "start_time": "2022-01-24T15:26:59.084Z"
   },
   {
    "duration": 25,
    "start_time": "2022-01-24T15:26:59.109Z"
   },
   {
    "duration": 22,
    "start_time": "2022-01-24T15:26:59.136Z"
   },
   {
    "duration": 27,
    "start_time": "2022-01-24T15:26:59.160Z"
   },
   {
    "duration": 16,
    "start_time": "2022-01-24T15:26:59.189Z"
   },
   {
    "duration": 15,
    "start_time": "2022-01-24T15:26:59.207Z"
   },
   {
    "duration": 24,
    "start_time": "2022-01-24T15:26:59.224Z"
   },
   {
    "duration": 19,
    "start_time": "2022-01-24T15:26:59.252Z"
   },
   {
    "duration": 21,
    "start_time": "2022-01-24T15:26:59.273Z"
   },
   {
    "duration": 141,
    "start_time": "2022-01-24T15:26:59.299Z"
   },
   {
    "duration": 7,
    "start_time": "2022-01-24T15:26:59.441Z"
   },
   {
    "duration": 102,
    "start_time": "2022-01-24T15:26:59.528Z"
   },
   {
    "duration": 9,
    "start_time": "2022-01-24T15:26:59.632Z"
   },
   {
    "duration": 187,
    "start_time": "2022-01-24T15:26:59.642Z"
   },
   {
    "duration": 99,
    "start_time": "2022-01-24T15:26:59.831Z"
   },
   {
    "duration": 4,
    "start_time": "2022-01-24T15:26:59.932Z"
   },
   {
    "duration": 7,
    "start_time": "2022-01-24T15:26:59.938Z"
   },
   {
    "duration": 6,
    "start_time": "2022-01-24T15:26:59.946Z"
   },
   {
    "duration": 6,
    "start_time": "2022-01-24T15:26:59.953Z"
   },
   {
    "duration": 5,
    "start_time": "2022-01-24T15:26:59.960Z"
   },
   {
    "duration": 6,
    "start_time": "2022-01-24T15:26:59.966Z"
   },
   {
    "duration": 2753,
    "start_time": "2022-01-24T15:26:59.974Z"
   },
   {
    "duration": 2307,
    "start_time": "2022-01-24T15:27:55.964Z"
   },
   {
    "duration": 5,
    "start_time": "2022-01-24T15:28:04.737Z"
   },
   {
    "duration": 4,
    "start_time": "2022-01-24T15:28:15.314Z"
   },
   {
    "duration": 5,
    "start_time": "2022-01-24T15:28:22.149Z"
   },
   {
    "duration": 4,
    "start_time": "2022-01-24T15:29:56.575Z"
   },
   {
    "duration": 378,
    "start_time": "2022-01-24T15:29:56.581Z"
   },
   {
    "duration": 10,
    "start_time": "2022-01-24T15:29:56.960Z"
   },
   {
    "duration": 9,
    "start_time": "2022-01-24T15:29:56.972Z"
   },
   {
    "duration": 16,
    "start_time": "2022-01-24T15:29:56.983Z"
   },
   {
    "duration": 10,
    "start_time": "2022-01-24T15:29:57.027Z"
   },
   {
    "duration": 12,
    "start_time": "2022-01-24T15:29:57.039Z"
   },
   {
    "duration": 10,
    "start_time": "2022-01-24T15:29:57.053Z"
   },
   {
    "duration": 72,
    "start_time": "2022-01-24T15:29:57.064Z"
   },
   {
    "duration": 45,
    "start_time": "2022-01-24T15:29:57.137Z"
   },
   {
    "duration": 12,
    "start_time": "2022-01-24T15:29:57.183Z"
   },
   {
    "duration": 63,
    "start_time": "2022-01-24T15:29:57.197Z"
   },
   {
    "duration": 40,
    "start_time": "2022-01-24T15:29:57.261Z"
   },
   {
    "duration": 33,
    "start_time": "2022-01-24T15:29:57.303Z"
   },
   {
    "duration": 9,
    "start_time": "2022-01-24T15:29:57.338Z"
   },
   {
    "duration": 10,
    "start_time": "2022-01-24T15:29:57.349Z"
   },
   {
    "duration": 9,
    "start_time": "2022-01-24T15:29:57.361Z"
   },
   {
    "duration": 12,
    "start_time": "2022-01-24T15:29:57.372Z"
   },
   {
    "duration": 9,
    "start_time": "2022-01-24T15:29:57.428Z"
   },
   {
    "duration": 6,
    "start_time": "2022-01-24T15:29:57.439Z"
   },
   {
    "duration": 6,
    "start_time": "2022-01-24T15:29:57.446Z"
   },
   {
    "duration": 6,
    "start_time": "2022-01-24T15:29:57.454Z"
   },
   {
    "duration": 13,
    "start_time": "2022-01-24T15:29:57.461Z"
   },
   {
    "duration": 15,
    "start_time": "2022-01-24T15:29:57.476Z"
   },
   {
    "duration": 15,
    "start_time": "2022-01-24T15:29:57.529Z"
   },
   {
    "duration": 26,
    "start_time": "2022-01-24T15:29:57.546Z"
   },
   {
    "duration": 17,
    "start_time": "2022-01-24T15:29:57.574Z"
   },
   {
    "duration": 50,
    "start_time": "2022-01-24T15:29:57.593Z"
   },
   {
    "duration": 98,
    "start_time": "2022-01-24T15:29:57.645Z"
   },
   {
    "duration": 88,
    "start_time": "2022-01-24T15:29:57.746Z"
   },
   {
    "duration": 17,
    "start_time": "2022-01-24T15:29:57.836Z"
   },
   {
    "duration": 83,
    "start_time": "2022-01-24T15:29:57.855Z"
   },
   {
    "duration": 84,
    "start_time": "2022-01-24T15:29:57.959Z"
   },
   {
    "duration": 90,
    "start_time": "2022-01-24T15:29:58.045Z"
   },
   {
    "duration": 97,
    "start_time": "2022-01-24T15:29:58.137Z"
   },
   {
    "duration": 4,
    "start_time": "2022-01-24T15:29:58.236Z"
   },
   {
    "duration": 7,
    "start_time": "2022-01-24T15:29:58.241Z"
   },
   {
    "duration": 5,
    "start_time": "2022-01-24T15:29:58.249Z"
   },
   {
    "duration": 5,
    "start_time": "2022-01-24T15:29:58.255Z"
   },
   {
    "duration": 133,
    "start_time": "2022-01-24T15:29:58.261Z"
   },
   {
    "duration": -1364,
    "start_time": "2022-01-24T15:29:59.761Z"
   },
   {
    "duration": -1367,
    "start_time": "2022-01-24T15:29:59.765Z"
   },
   {
    "duration": -1379,
    "start_time": "2022-01-24T15:29:59.778Z"
   },
   {
    "duration": -1383,
    "start_time": "2022-01-24T15:29:59.783Z"
   },
   {
    "duration": 4,
    "start_time": "2022-01-24T15:30:14.284Z"
   },
   {
    "duration": 377,
    "start_time": "2022-01-24T15:30:14.290Z"
   },
   {
    "duration": 11,
    "start_time": "2022-01-24T15:30:14.670Z"
   },
   {
    "duration": 9,
    "start_time": "2022-01-24T15:30:14.683Z"
   },
   {
    "duration": 11,
    "start_time": "2022-01-24T15:30:14.693Z"
   },
   {
    "duration": 8,
    "start_time": "2022-01-24T15:30:14.727Z"
   },
   {
    "duration": 16,
    "start_time": "2022-01-24T15:30:14.737Z"
   },
   {
    "duration": 9,
    "start_time": "2022-01-24T15:30:14.755Z"
   },
   {
    "duration": 70,
    "start_time": "2022-01-24T15:30:14.766Z"
   },
   {
    "duration": 71,
    "start_time": "2022-01-24T15:30:14.837Z"
   },
   {
    "duration": 33,
    "start_time": "2022-01-24T15:30:14.910Z"
   },
   {
    "duration": 45,
    "start_time": "2022-01-24T15:30:14.944Z"
   },
   {
    "duration": 69,
    "start_time": "2022-01-24T15:30:14.990Z"
   },
   {
    "duration": 10,
    "start_time": "2022-01-24T15:30:15.061Z"
   },
   {
    "duration": 15,
    "start_time": "2022-01-24T15:30:15.072Z"
   },
   {
    "duration": 11,
    "start_time": "2022-01-24T15:30:15.089Z"
   },
   {
    "duration": 12,
    "start_time": "2022-01-24T15:30:15.127Z"
   },
   {
    "duration": 12,
    "start_time": "2022-01-24T15:30:15.141Z"
   },
   {
    "duration": 16,
    "start_time": "2022-01-24T15:30:15.155Z"
   },
   {
    "duration": 8,
    "start_time": "2022-01-24T15:30:15.172Z"
   },
   {
    "duration": 8,
    "start_time": "2022-01-24T15:30:15.182Z"
   },
   {
    "duration": 35,
    "start_time": "2022-01-24T15:30:15.192Z"
   },
   {
    "duration": 12,
    "start_time": "2022-01-24T15:30:15.230Z"
   },
   {
    "duration": 13,
    "start_time": "2022-01-24T15:30:15.244Z"
   },
   {
    "duration": 12,
    "start_time": "2022-01-24T15:30:15.258Z"
   },
   {
    "duration": 21,
    "start_time": "2022-01-24T15:30:15.272Z"
   },
   {
    "duration": 43,
    "start_time": "2022-01-24T15:30:15.294Z"
   },
   {
    "duration": 14,
    "start_time": "2022-01-24T15:30:15.339Z"
   },
   {
    "duration": 84,
    "start_time": "2022-01-24T15:30:15.355Z"
   },
   {
    "duration": 89,
    "start_time": "2022-01-24T15:30:15.440Z"
   },
   {
    "duration": 22,
    "start_time": "2022-01-24T15:30:15.531Z"
   },
   {
    "duration": 173,
    "start_time": "2022-01-24T15:30:15.555Z"
   },
   {
    "duration": 16,
    "start_time": "2022-01-24T15:30:15.730Z"
   },
   {
    "duration": 183,
    "start_time": "2022-01-24T15:30:15.748Z"
   },
   {
    "duration": 4,
    "start_time": "2022-01-24T15:30:15.933Z"
   },
   {
    "duration": 5,
    "start_time": "2022-01-24T15:30:15.938Z"
   },
   {
    "duration": 5,
    "start_time": "2022-01-24T15:30:15.945Z"
   },
   {
    "duration": 6,
    "start_time": "2022-01-24T15:30:15.952Z"
   },
   {
    "duration": 9,
    "start_time": "2022-01-24T15:30:15.959Z"
   },
   {
    "duration": 7,
    "start_time": "2022-01-24T15:30:15.970Z"
   },
   {
    "duration": 7469,
    "start_time": "2022-01-24T15:30:15.979Z"
   },
   {
    "duration": -1399,
    "start_time": "2022-01-24T15:30:24.850Z"
   },
   {
    "duration": -1401,
    "start_time": "2022-01-24T15:30:24.853Z"
   },
   {
    "duration": -1406,
    "start_time": "2022-01-24T15:30:24.859Z"
   },
   {
    "duration": 2,
    "start_time": "2022-01-24T15:31:23.004Z"
   },
   {
    "duration": 401,
    "start_time": "2022-01-24T15:31:23.009Z"
   },
   {
    "duration": 20,
    "start_time": "2022-01-24T15:31:23.412Z"
   },
   {
    "duration": 9,
    "start_time": "2022-01-24T15:31:23.434Z"
   },
   {
    "duration": 12,
    "start_time": "2022-01-24T15:31:23.445Z"
   },
   {
    "duration": 8,
    "start_time": "2022-01-24T15:31:23.458Z"
   },
   {
    "duration": 12,
    "start_time": "2022-01-24T15:31:23.468Z"
   },
   {
    "duration": 49,
    "start_time": "2022-01-24T15:31:23.482Z"
   },
   {
    "duration": 38,
    "start_time": "2022-01-24T15:31:23.533Z"
   },
   {
    "duration": 62,
    "start_time": "2022-01-24T15:31:23.573Z"
   },
   {
    "duration": 13,
    "start_time": "2022-01-24T15:31:23.636Z"
   },
   {
    "duration": 37,
    "start_time": "2022-01-24T15:31:23.651Z"
   },
   {
    "duration": 62,
    "start_time": "2022-01-24T15:31:23.690Z"
   },
   {
    "duration": 10,
    "start_time": "2022-01-24T15:31:23.753Z"
   },
   {
    "duration": 10,
    "start_time": "2022-01-24T15:31:23.765Z"
   },
   {
    "duration": 9,
    "start_time": "2022-01-24T15:31:23.776Z"
   },
   {
    "duration": 51,
    "start_time": "2022-01-24T15:31:23.787Z"
   },
   {
    "duration": 11,
    "start_time": "2022-01-24T15:31:23.839Z"
   },
   {
    "duration": 23,
    "start_time": "2022-01-24T15:31:23.851Z"
   },
   {
    "duration": 7,
    "start_time": "2022-01-24T15:31:23.876Z"
   },
   {
    "duration": 16,
    "start_time": "2022-01-24T15:31:23.885Z"
   },
   {
    "duration": 16,
    "start_time": "2022-01-24T15:31:23.902Z"
   },
   {
    "duration": 17,
    "start_time": "2022-01-24T15:31:23.919Z"
   },
   {
    "duration": 24,
    "start_time": "2022-01-24T15:31:23.937Z"
   },
   {
    "duration": 13,
    "start_time": "2022-01-24T15:31:23.963Z"
   },
   {
    "duration": 20,
    "start_time": "2022-01-24T15:31:23.978Z"
   },
   {
    "duration": 30,
    "start_time": "2022-01-24T15:31:24.002Z"
   },
   {
    "duration": 13,
    "start_time": "2022-01-24T15:31:24.034Z"
   },
   {
    "duration": 81,
    "start_time": "2022-01-24T15:31:24.049Z"
   },
   {
    "duration": 101,
    "start_time": "2022-01-24T15:31:24.132Z"
   },
   {
    "duration": 91,
    "start_time": "2022-01-24T15:31:24.235Z"
   },
   {
    "duration": 102,
    "start_time": "2022-01-24T15:31:24.329Z"
   },
   {
    "duration": 20,
    "start_time": "2022-01-24T15:31:24.433Z"
   },
   {
    "duration": 75,
    "start_time": "2022-01-24T15:31:24.454Z"
   },
   {
    "duration": 10,
    "start_time": "2022-01-24T15:31:24.531Z"
   },
   {
    "duration": 8,
    "start_time": "2022-01-24T15:31:24.627Z"
   },
   {
    "duration": 7,
    "start_time": "2022-01-24T15:31:24.637Z"
   },
   {
    "duration": 6,
    "start_time": "2022-01-24T15:31:24.645Z"
   },
   {
    "duration": 4,
    "start_time": "2022-01-24T15:31:24.652Z"
   },
   {
    "duration": 4,
    "start_time": "2022-01-24T15:31:24.658Z"
   },
   {
    "duration": 7444,
    "start_time": "2022-01-24T15:31:24.663Z"
   },
   {
    "duration": -1397,
    "start_time": "2022-01-24T15:31:33.506Z"
   },
   {
    "duration": -1398,
    "start_time": "2022-01-24T15:31:33.508Z"
   },
   {
    "duration": -1400,
    "start_time": "2022-01-24T15:31:33.511Z"
   },
   {
    "duration": 3,
    "start_time": "2022-01-24T15:32:54.498Z"
   },
   {
    "duration": 349,
    "start_time": "2022-01-24T15:32:54.503Z"
   },
   {
    "duration": 12,
    "start_time": "2022-01-24T15:32:54.854Z"
   },
   {
    "duration": 7,
    "start_time": "2022-01-24T15:32:54.868Z"
   },
   {
    "duration": 12,
    "start_time": "2022-01-24T15:32:54.877Z"
   },
   {
    "duration": 37,
    "start_time": "2022-01-24T15:32:54.891Z"
   },
   {
    "duration": 11,
    "start_time": "2022-01-24T15:32:54.931Z"
   },
   {
    "duration": 7,
    "start_time": "2022-01-24T15:32:54.944Z"
   },
   {
    "duration": 42,
    "start_time": "2022-01-24T15:32:54.953Z"
   },
   {
    "duration": 74,
    "start_time": "2022-01-24T15:32:54.997Z"
   },
   {
    "duration": 12,
    "start_time": "2022-01-24T15:32:55.073Z"
   },
   {
    "duration": 57,
    "start_time": "2022-01-24T15:32:55.087Z"
   },
   {
    "duration": 36,
    "start_time": "2022-01-24T15:32:55.146Z"
   },
   {
    "duration": 10,
    "start_time": "2022-01-24T15:32:55.183Z"
   },
   {
    "duration": 35,
    "start_time": "2022-01-24T15:32:55.194Z"
   },
   {
    "duration": 9,
    "start_time": "2022-01-24T15:32:55.231Z"
   },
   {
    "duration": 9,
    "start_time": "2022-01-24T15:32:55.242Z"
   },
   {
    "duration": 16,
    "start_time": "2022-01-24T15:32:55.253Z"
   },
   {
    "duration": 10,
    "start_time": "2022-01-24T15:32:55.271Z"
   },
   {
    "duration": 5,
    "start_time": "2022-01-24T15:32:55.283Z"
   },
   {
    "duration": 39,
    "start_time": "2022-01-24T15:32:55.290Z"
   },
   {
    "duration": 6,
    "start_time": "2022-01-24T15:32:55.331Z"
   },
   {
    "duration": 14,
    "start_time": "2022-01-24T15:32:55.338Z"
   },
   {
    "duration": 10,
    "start_time": "2022-01-24T15:32:55.354Z"
   },
   {
    "duration": 11,
    "start_time": "2022-01-24T15:32:55.365Z"
   },
   {
    "duration": 61,
    "start_time": "2022-01-24T15:32:55.377Z"
   },
   {
    "duration": 11,
    "start_time": "2022-01-24T15:32:55.439Z"
   },
   {
    "duration": 17,
    "start_time": "2022-01-24T15:32:55.452Z"
   },
   {
    "duration": 59,
    "start_time": "2022-01-24T15:32:55.471Z"
   },
   {
    "duration": 7,
    "start_time": "2022-01-24T15:32:55.532Z"
   },
   {
    "duration": 97,
    "start_time": "2022-01-24T15:32:55.541Z"
   },
   {
    "duration": 92,
    "start_time": "2022-01-24T15:32:55.641Z"
   },
   {
    "duration": 106,
    "start_time": "2022-01-24T15:32:55.735Z"
   },
   {
    "duration": 87,
    "start_time": "2022-01-24T15:32:55.842Z"
   },
   {
    "duration": 102,
    "start_time": "2022-01-24T15:32:55.931Z"
   },
   {
    "duration": 6,
    "start_time": "2022-01-24T15:32:56.034Z"
   },
   {
    "duration": 9,
    "start_time": "2022-01-24T15:32:56.041Z"
   },
   {
    "duration": 6,
    "start_time": "2022-01-24T15:32:56.051Z"
   },
   {
    "duration": 7,
    "start_time": "2022-01-24T15:32:56.059Z"
   },
   {
    "duration": 7,
    "start_time": "2022-01-24T15:32:56.068Z"
   },
   {
    "duration": 2731,
    "start_time": "2022-01-24T15:32:56.077Z"
   },
   {
    "duration": -1369,
    "start_time": "2022-01-24T15:33:00.179Z"
   },
   {
    "duration": -1375,
    "start_time": "2022-01-24T15:33:00.185Z"
   },
   {
    "duration": -1376,
    "start_time": "2022-01-24T15:33:00.187Z"
   },
   {
    "duration": 3,
    "start_time": "2022-01-24T15:33:08.508Z"
   },
   {
    "duration": 398,
    "start_time": "2022-01-24T15:33:08.512Z"
   },
   {
    "duration": 16,
    "start_time": "2022-01-24T15:33:08.912Z"
   },
   {
    "duration": 9,
    "start_time": "2022-01-24T15:33:08.930Z"
   },
   {
    "duration": 12,
    "start_time": "2022-01-24T15:33:08.941Z"
   },
   {
    "duration": 7,
    "start_time": "2022-01-24T15:33:08.954Z"
   },
   {
    "duration": 11,
    "start_time": "2022-01-24T15:33:08.962Z"
   },
   {
    "duration": 52,
    "start_time": "2022-01-24T15:33:08.976Z"
   },
   {
    "duration": 52,
    "start_time": "2022-01-24T15:33:09.031Z"
   },
   {
    "duration": 103,
    "start_time": "2022-01-24T15:33:09.085Z"
   },
   {
    "duration": 19,
    "start_time": "2022-01-24T15:33:09.190Z"
   },
   {
    "duration": 49,
    "start_time": "2022-01-24T15:33:09.228Z"
   },
   {
    "duration": 68,
    "start_time": "2022-01-24T15:33:09.279Z"
   },
   {
    "duration": 10,
    "start_time": "2022-01-24T15:33:09.349Z"
   },
   {
    "duration": 10,
    "start_time": "2022-01-24T15:33:09.361Z"
   },
   {
    "duration": 10,
    "start_time": "2022-01-24T15:33:09.372Z"
   },
   {
    "duration": 10,
    "start_time": "2022-01-24T15:33:09.383Z"
   },
   {
    "duration": 43,
    "start_time": "2022-01-24T15:33:09.395Z"
   },
   {
    "duration": 10,
    "start_time": "2022-01-24T15:33:09.440Z"
   },
   {
    "duration": 5,
    "start_time": "2022-01-24T15:33:09.452Z"
   },
   {
    "duration": 5,
    "start_time": "2022-01-24T15:33:09.459Z"
   },
   {
    "duration": 5,
    "start_time": "2022-01-24T15:33:09.466Z"
   },
   {
    "duration": 13,
    "start_time": "2022-01-24T15:33:09.474Z"
   },
   {
    "duration": 49,
    "start_time": "2022-01-24T15:33:09.488Z"
   },
   {
    "duration": 11,
    "start_time": "2022-01-24T15:33:09.538Z"
   },
   {
    "duration": 18,
    "start_time": "2022-01-24T15:33:09.550Z"
   },
   {
    "duration": 12,
    "start_time": "2022-01-24T15:33:09.569Z"
   },
   {
    "duration": 11,
    "start_time": "2022-01-24T15:33:09.582Z"
   },
   {
    "duration": 135,
    "start_time": "2022-01-24T15:33:09.595Z"
   },
   {
    "duration": 99,
    "start_time": "2022-01-24T15:33:09.732Z"
   },
   {
    "duration": 99,
    "start_time": "2022-01-24T15:33:09.832Z"
   },
   {
    "duration": 97,
    "start_time": "2022-01-24T15:33:09.933Z"
   },
   {
    "duration": 18,
    "start_time": "2022-01-24T15:33:10.032Z"
   },
   {
    "duration": 8,
    "start_time": "2022-01-24T15:33:10.128Z"
   },
   {
    "duration": 94,
    "start_time": "2022-01-24T15:33:10.138Z"
   },
   {
    "duration": 7,
    "start_time": "2022-01-24T15:33:10.234Z"
   },
   {
    "duration": 6,
    "start_time": "2022-01-24T15:33:10.243Z"
   },
   {
    "duration": 5,
    "start_time": "2022-01-24T15:33:10.250Z"
   },
   {
    "duration": 6,
    "start_time": "2022-01-24T15:33:10.257Z"
   },
   {
    "duration": 6,
    "start_time": "2022-01-24T15:33:10.264Z"
   },
   {
    "duration": 2457,
    "start_time": "2022-01-24T15:33:10.271Z"
   },
   {
    "duration": 4,
    "start_time": "2022-01-24T15:33:12.729Z"
   },
   {
    "duration": 5,
    "start_time": "2022-01-24T15:33:12.734Z"
   },
   {
    "duration": 8,
    "start_time": "2022-01-24T15:33:12.741Z"
   },
   {
    "duration": 2,
    "start_time": "2022-01-24T15:38:23.284Z"
   },
   {
    "duration": 348,
    "start_time": "2022-01-24T15:38:23.288Z"
   },
   {
    "duration": 10,
    "start_time": "2022-01-24T15:38:23.639Z"
   },
   {
    "duration": 7,
    "start_time": "2022-01-24T15:38:23.652Z"
   },
   {
    "duration": 9,
    "start_time": "2022-01-24T15:38:23.661Z"
   },
   {
    "duration": 6,
    "start_time": "2022-01-24T15:38:23.672Z"
   },
   {
    "duration": 15,
    "start_time": "2022-01-24T15:38:23.680Z"
   },
   {
    "duration": 31,
    "start_time": "2022-01-24T15:38:23.697Z"
   },
   {
    "duration": 33,
    "start_time": "2022-01-24T15:38:23.731Z"
   },
   {
    "duration": 73,
    "start_time": "2022-01-24T15:38:23.767Z"
   },
   {
    "duration": 18,
    "start_time": "2022-01-24T15:38:23.841Z"
   },
   {
    "duration": 47,
    "start_time": "2022-01-24T15:38:23.860Z"
   },
   {
    "duration": 48,
    "start_time": "2022-01-24T15:38:23.909Z"
   },
   {
    "duration": 10,
    "start_time": "2022-01-24T15:38:23.958Z"
   },
   {
    "duration": 9,
    "start_time": "2022-01-24T15:38:23.969Z"
   },
   {
    "duration": 50,
    "start_time": "2022-01-24T15:38:23.979Z"
   },
   {
    "duration": 8,
    "start_time": "2022-01-24T15:38:24.030Z"
   },
   {
    "duration": 23,
    "start_time": "2022-01-24T15:38:24.040Z"
   },
   {
    "duration": 13,
    "start_time": "2022-01-24T15:38:24.065Z"
   },
   {
    "duration": 6,
    "start_time": "2022-01-24T15:38:24.080Z"
   },
   {
    "duration": 8,
    "start_time": "2022-01-24T15:38:24.088Z"
   },
   {
    "duration": 33,
    "start_time": "2022-01-24T15:38:24.098Z"
   },
   {
    "duration": 15,
    "start_time": "2022-01-24T15:38:24.133Z"
   },
   {
    "duration": 12,
    "start_time": "2022-01-24T15:38:24.150Z"
   },
   {
    "duration": 11,
    "start_time": "2022-01-24T15:38:24.164Z"
   },
   {
    "duration": 18,
    "start_time": "2022-01-24T15:38:24.176Z"
   },
   {
    "duration": 43,
    "start_time": "2022-01-24T15:38:24.197Z"
   },
   {
    "duration": 14,
    "start_time": "2022-01-24T15:38:24.242Z"
   },
   {
    "duration": 77,
    "start_time": "2022-01-24T15:38:24.257Z"
   },
   {
    "duration": 93,
    "start_time": "2022-01-24T15:38:24.336Z"
   },
   {
    "duration": 199,
    "start_time": "2022-01-24T15:38:24.431Z"
   },
   {
    "duration": 5,
    "start_time": "2022-01-24T15:38:24.631Z"
   },
   {
    "duration": 91,
    "start_time": "2022-01-24T15:38:24.638Z"
   },
   {
    "duration": 98,
    "start_time": "2022-01-24T15:38:24.731Z"
   },
   {
    "duration": 6,
    "start_time": "2022-01-24T15:38:24.831Z"
   },
   {
    "duration": 6,
    "start_time": "2022-01-24T15:38:24.839Z"
   },
   {
    "duration": 5,
    "start_time": "2022-01-24T15:38:24.847Z"
   },
   {
    "duration": 4,
    "start_time": "2022-01-24T15:38:24.854Z"
   },
   {
    "duration": 4,
    "start_time": "2022-01-24T15:38:24.860Z"
   },
   {
    "duration": 6,
    "start_time": "2022-01-24T15:38:24.866Z"
   },
   {
    "duration": 3188,
    "start_time": "2022-01-24T15:38:24.874Z"
   },
   {
    "duration": -1377,
    "start_time": "2022-01-24T15:38:29.440Z"
   },
   {
    "duration": -1378,
    "start_time": "2022-01-24T15:38:29.442Z"
   },
   {
    "duration": -1379,
    "start_time": "2022-01-24T15:38:29.444Z"
   },
   {
    "duration": 3,
    "start_time": "2022-01-24T15:41:10.236Z"
   },
   {
    "duration": 332,
    "start_time": "2022-01-24T15:41:10.241Z"
   },
   {
    "duration": 9,
    "start_time": "2022-01-24T15:41:10.575Z"
   },
   {
    "duration": 7,
    "start_time": "2022-01-24T15:41:10.586Z"
   },
   {
    "duration": 11,
    "start_time": "2022-01-24T15:41:10.594Z"
   },
   {
    "duration": 22,
    "start_time": "2022-01-24T15:41:10.606Z"
   },
   {
    "duration": 9,
    "start_time": "2022-01-24T15:41:10.629Z"
   },
   {
    "duration": 7,
    "start_time": "2022-01-24T15:41:10.639Z"
   },
   {
    "duration": 35,
    "start_time": "2022-01-24T15:41:10.648Z"
   },
   {
    "duration": 73,
    "start_time": "2022-01-24T15:41:10.685Z"
   },
   {
    "duration": 13,
    "start_time": "2022-01-24T15:41:10.759Z"
   },
   {
    "duration": 55,
    "start_time": "2022-01-24T15:41:10.773Z"
   },
   {
    "duration": 34,
    "start_time": "2022-01-24T15:41:10.829Z"
   },
   {
    "duration": 11,
    "start_time": "2022-01-24T15:41:10.864Z"
   },
   {
    "duration": 9,
    "start_time": "2022-01-24T15:41:10.877Z"
   },
   {
    "duration": 43,
    "start_time": "2022-01-24T15:41:10.887Z"
   },
   {
    "duration": 9,
    "start_time": "2022-01-24T15:41:10.931Z"
   },
   {
    "duration": 12,
    "start_time": "2022-01-24T15:41:10.942Z"
   },
   {
    "duration": 10,
    "start_time": "2022-01-24T15:41:10.955Z"
   },
   {
    "duration": 5,
    "start_time": "2022-01-24T15:41:10.967Z"
   },
   {
    "duration": 6,
    "start_time": "2022-01-24T15:41:10.973Z"
   },
   {
    "duration": 6,
    "start_time": "2022-01-24T15:41:10.981Z"
   },
   {
    "duration": 48,
    "start_time": "2022-01-24T15:41:10.988Z"
   },
   {
    "duration": 10,
    "start_time": "2022-01-24T15:41:11.038Z"
   },
   {
    "duration": 11,
    "start_time": "2022-01-24T15:41:11.049Z"
   },
   {
    "duration": 22,
    "start_time": "2022-01-24T15:41:11.061Z"
   },
   {
    "duration": 12,
    "start_time": "2022-01-24T15:41:11.087Z"
   },
   {
    "duration": 37,
    "start_time": "2022-01-24T15:41:11.100Z"
   },
   {
    "duration": 93,
    "start_time": "2022-01-24T15:41:11.139Z"
   },
   {
    "duration": 97,
    "start_time": "2022-01-24T15:41:11.235Z"
   },
   {
    "duration": 16,
    "start_time": "2022-01-24T15:41:11.334Z"
   },
   {
    "duration": 102,
    "start_time": "2022-01-24T15:41:11.429Z"
   },
   {
    "duration": 11,
    "start_time": "2022-01-24T15:41:11.533Z"
   },
   {
    "duration": 82,
    "start_time": "2022-01-24T15:41:11.546Z"
   },
   {
    "duration": 4,
    "start_time": "2022-01-24T15:41:11.630Z"
   },
   {
    "duration": 93,
    "start_time": "2022-01-24T15:41:11.636Z"
   },
   {
    "duration": 6,
    "start_time": "2022-01-24T15:41:11.730Z"
   },
   {
    "duration": 5,
    "start_time": "2022-01-24T15:41:11.737Z"
   },
   {
    "duration": 3,
    "start_time": "2022-01-24T15:41:11.743Z"
   },
   {
    "duration": 13,
    "start_time": "2022-01-24T15:41:11.748Z"
   },
   {
    "duration": 2325,
    "start_time": "2022-01-24T15:41:11.763Z"
   },
   {
    "duration": 4,
    "start_time": "2022-01-24T15:41:14.089Z"
   },
   {
    "duration": 6,
    "start_time": "2022-01-24T15:41:14.094Z"
   },
   {
    "duration": 3,
    "start_time": "2022-01-24T15:41:14.102Z"
   },
   {
    "duration": 2,
    "start_time": "2022-01-24T15:41:55.525Z"
   },
   {
    "duration": 338,
    "start_time": "2022-01-24T15:41:55.529Z"
   },
   {
    "duration": 10,
    "start_time": "2022-01-24T15:41:55.869Z"
   },
   {
    "duration": 7,
    "start_time": "2022-01-24T15:41:55.880Z"
   },
   {
    "duration": 10,
    "start_time": "2022-01-24T15:41:55.889Z"
   },
   {
    "duration": 26,
    "start_time": "2022-01-24T15:41:55.901Z"
   },
   {
    "duration": 9,
    "start_time": "2022-01-24T15:41:55.929Z"
   },
   {
    "duration": 6,
    "start_time": "2022-01-24T15:41:55.940Z"
   },
   {
    "duration": 34,
    "start_time": "2022-01-24T15:41:55.949Z"
   },
   {
    "duration": 83,
    "start_time": "2022-01-24T15:41:55.985Z"
   },
   {
    "duration": 12,
    "start_time": "2022-01-24T15:41:56.070Z"
   },
   {
    "duration": 51,
    "start_time": "2022-01-24T15:41:56.084Z"
   },
   {
    "duration": 33,
    "start_time": "2022-01-24T15:41:56.137Z"
   },
   {
    "duration": 11,
    "start_time": "2022-01-24T15:41:56.171Z"
   },
   {
    "duration": 9,
    "start_time": "2022-01-24T15:41:56.184Z"
   },
   {
    "duration": 39,
    "start_time": "2022-01-24T15:41:56.194Z"
   },
   {
    "duration": 10,
    "start_time": "2022-01-24T15:41:56.235Z"
   },
   {
    "duration": 11,
    "start_time": "2022-01-24T15:41:56.246Z"
   },
   {
    "duration": 10,
    "start_time": "2022-01-24T15:41:56.259Z"
   },
   {
    "duration": 5,
    "start_time": "2022-01-24T15:41:56.270Z"
   },
   {
    "duration": 5,
    "start_time": "2022-01-24T15:41:56.277Z"
   },
   {
    "duration": 43,
    "start_time": "2022-01-24T15:41:56.284Z"
   },
   {
    "duration": 12,
    "start_time": "2022-01-24T15:41:56.328Z"
   },
   {
    "duration": 11,
    "start_time": "2022-01-24T15:41:56.341Z"
   },
   {
    "duration": 11,
    "start_time": "2022-01-24T15:41:56.353Z"
   },
   {
    "duration": 19,
    "start_time": "2022-01-24T15:41:56.365Z"
   },
   {
    "duration": 45,
    "start_time": "2022-01-24T15:41:56.386Z"
   },
   {
    "duration": 12,
    "start_time": "2022-01-24T15:41:56.433Z"
   },
   {
    "duration": 180,
    "start_time": "2022-01-24T15:41:56.447Z"
   },
   {
    "duration": 5,
    "start_time": "2022-01-24T15:41:56.629Z"
   },
   {
    "duration": 13,
    "start_time": "2022-01-24T15:41:56.635Z"
   },
   {
    "duration": 88,
    "start_time": "2022-01-24T15:41:56.650Z"
   },
   {
    "duration": 99,
    "start_time": "2022-01-24T15:41:56.740Z"
   },
   {
    "duration": 190,
    "start_time": "2022-01-24T15:41:56.841Z"
   },
   {
    "duration": 4,
    "start_time": "2022-01-24T15:41:57.033Z"
   },
   {
    "duration": 5,
    "start_time": "2022-01-24T15:41:57.038Z"
   },
   {
    "duration": 5,
    "start_time": "2022-01-24T15:41:57.045Z"
   },
   {
    "duration": 4,
    "start_time": "2022-01-24T15:41:57.052Z"
   },
   {
    "duration": 5,
    "start_time": "2022-01-24T15:41:57.057Z"
   },
   {
    "duration": 114,
    "start_time": "2022-01-24T15:41:57.064Z"
   },
   {
    "duration": -1372,
    "start_time": "2022-01-24T15:41:58.552Z"
   },
   {
    "duration": -1376,
    "start_time": "2022-01-24T15:41:58.557Z"
   },
   {
    "duration": -1378,
    "start_time": "2022-01-24T15:41:58.560Z"
   },
   {
    "duration": -1379,
    "start_time": "2022-01-24T15:41:58.562Z"
   },
   {
    "duration": 3,
    "start_time": "2022-01-24T15:42:13.208Z"
   },
   {
    "duration": 340,
    "start_time": "2022-01-24T15:42:13.217Z"
   },
   {
    "duration": 8,
    "start_time": "2022-01-24T15:42:13.559Z"
   },
   {
    "duration": 7,
    "start_time": "2022-01-24T15:42:13.569Z"
   },
   {
    "duration": 12,
    "start_time": "2022-01-24T15:42:13.577Z"
   },
   {
    "duration": 7,
    "start_time": "2022-01-24T15:42:13.590Z"
   },
   {
    "duration": 36,
    "start_time": "2022-01-24T15:42:13.599Z"
   },
   {
    "duration": 7,
    "start_time": "2022-01-24T15:42:13.636Z"
   },
   {
    "duration": 35,
    "start_time": "2022-01-24T15:42:13.644Z"
   },
   {
    "duration": 62,
    "start_time": "2022-01-24T15:42:13.681Z"
   },
   {
    "duration": 11,
    "start_time": "2022-01-24T15:42:13.745Z"
   },
   {
    "duration": 33,
    "start_time": "2022-01-24T15:42:13.758Z"
   },
   {
    "duration": 59,
    "start_time": "2022-01-24T15:42:13.792Z"
   },
   {
    "duration": 10,
    "start_time": "2022-01-24T15:42:13.852Z"
   },
   {
    "duration": 9,
    "start_time": "2022-01-24T15:42:13.863Z"
   },
   {
    "duration": 8,
    "start_time": "2022-01-24T15:42:13.874Z"
   },
   {
    "duration": 8,
    "start_time": "2022-01-24T15:42:13.884Z"
   },
   {
    "duration": 39,
    "start_time": "2022-01-24T15:42:13.893Z"
   },
   {
    "duration": 8,
    "start_time": "2022-01-24T15:42:13.934Z"
   },
   {
    "duration": 5,
    "start_time": "2022-01-24T15:42:13.944Z"
   },
   {
    "duration": 9,
    "start_time": "2022-01-24T15:42:13.951Z"
   },
   {
    "duration": 5,
    "start_time": "2022-01-24T15:42:13.962Z"
   },
   {
    "duration": 13,
    "start_time": "2022-01-24T15:42:13.968Z"
   },
   {
    "duration": 10,
    "start_time": "2022-01-24T15:42:13.982Z"
   },
   {
    "duration": 46,
    "start_time": "2022-01-24T15:42:13.993Z"
   },
   {
    "duration": 18,
    "start_time": "2022-01-24T15:42:14.040Z"
   },
   {
    "duration": 12,
    "start_time": "2022-01-24T15:42:14.060Z"
   },
   {
    "duration": 12,
    "start_time": "2022-01-24T15:42:14.075Z"
   },
   {
    "duration": 45,
    "start_time": "2022-01-24T15:42:14.089Z"
   },
   {
    "duration": 6,
    "start_time": "2022-01-24T15:42:14.136Z"
   },
   {
    "duration": 103,
    "start_time": "2022-01-24T15:42:14.229Z"
   },
   {
    "duration": 97,
    "start_time": "2022-01-24T15:42:14.334Z"
   },
   {
    "duration": 19,
    "start_time": "2022-01-24T15:42:14.432Z"
   },
   {
    "duration": 8,
    "start_time": "2022-01-24T15:42:14.526Z"
   },
   {
    "duration": 94,
    "start_time": "2022-01-24T15:42:14.536Z"
   },
   {
    "duration": 6,
    "start_time": "2022-01-24T15:42:14.632Z"
   },
   {
    "duration": 5,
    "start_time": "2022-01-24T15:42:14.639Z"
   },
   {
    "duration": 4,
    "start_time": "2022-01-24T15:42:14.645Z"
   },
   {
    "duration": 4,
    "start_time": "2022-01-24T15:42:14.651Z"
   },
   {
    "duration": 5,
    "start_time": "2022-01-24T15:42:14.657Z"
   },
   {
    "duration": 2365,
    "start_time": "2022-01-24T15:42:14.664Z"
   },
   {
    "duration": 5,
    "start_time": "2022-01-24T15:42:17.031Z"
   },
   {
    "duration": 6,
    "start_time": "2022-01-24T15:42:17.038Z"
   },
   {
    "duration": 13,
    "start_time": "2022-01-24T15:42:17.045Z"
   },
   {
    "duration": 4,
    "start_time": "2022-01-24T15:50:40.294Z"
   },
   {
    "duration": 362,
    "start_time": "2022-01-24T15:50:40.300Z"
   },
   {
    "duration": 12,
    "start_time": "2022-01-24T15:50:40.664Z"
   },
   {
    "duration": 8,
    "start_time": "2022-01-24T15:50:40.678Z"
   },
   {
    "duration": 11,
    "start_time": "2022-01-24T15:50:40.688Z"
   },
   {
    "duration": 9,
    "start_time": "2022-01-24T15:50:40.728Z"
   },
   {
    "duration": 12,
    "start_time": "2022-01-24T15:50:40.738Z"
   },
   {
    "duration": 7,
    "start_time": "2022-01-24T15:50:40.752Z"
   },
   {
    "duration": 78,
    "start_time": "2022-01-24T15:50:40.763Z"
   },
   {
    "duration": 49,
    "start_time": "2022-01-24T15:50:40.844Z"
   },
   {
    "duration": 35,
    "start_time": "2022-01-24T15:50:40.895Z"
   },
   {
    "duration": 34,
    "start_time": "2022-01-24T15:50:40.932Z"
   },
   {
    "duration": 61,
    "start_time": "2022-01-24T15:50:40.968Z"
   },
   {
    "duration": 12,
    "start_time": "2022-01-24T15:50:41.031Z"
   },
   {
    "duration": 11,
    "start_time": "2022-01-24T15:50:41.044Z"
   },
   {
    "duration": 10,
    "start_time": "2022-01-24T15:50:41.057Z"
   },
   {
    "duration": 11,
    "start_time": "2022-01-24T15:50:41.069Z"
   },
   {
    "duration": 52,
    "start_time": "2022-01-24T15:50:41.081Z"
   },
   {
    "duration": 13,
    "start_time": "2022-01-24T15:50:41.135Z"
   },
   {
    "duration": 11,
    "start_time": "2022-01-24T15:50:41.150Z"
   },
   {
    "duration": 9,
    "start_time": "2022-01-24T15:50:41.162Z"
   },
   {
    "duration": 7,
    "start_time": "2022-01-24T15:50:41.173Z"
   },
   {
    "duration": 20,
    "start_time": "2022-01-24T15:50:41.182Z"
   },
   {
    "duration": 30,
    "start_time": "2022-01-24T15:50:41.203Z"
   },
   {
    "duration": 10,
    "start_time": "2022-01-24T15:50:41.234Z"
   },
   {
    "duration": 39,
    "start_time": "2022-01-24T15:50:41.246Z"
   },
   {
    "duration": 12,
    "start_time": "2022-01-24T15:50:41.288Z"
   },
   {
    "duration": 11,
    "start_time": "2022-01-24T15:50:41.302Z"
   },
   {
    "duration": 32,
    "start_time": "2022-01-24T15:50:41.314Z"
   },
   {
    "duration": 180,
    "start_time": "2022-01-24T15:50:41.348Z"
   },
   {
    "duration": 16,
    "start_time": "2022-01-24T15:50:41.530Z"
   },
   {
    "duration": 84,
    "start_time": "2022-01-24T15:50:41.548Z"
   },
   {
    "duration": 119,
    "start_time": "2022-01-24T15:50:41.634Z"
   },
   {
    "duration": 173,
    "start_time": "2022-01-24T15:50:41.755Z"
   },
   {
    "duration": 7,
    "start_time": "2022-01-24T15:50:41.930Z"
   },
   {
    "duration": 12,
    "start_time": "2022-01-24T15:50:41.938Z"
   },
   {
    "duration": 32,
    "start_time": "2022-01-24T15:50:41.952Z"
   },
   {
    "duration": 11,
    "start_time": "2022-01-24T15:50:41.985Z"
   },
   {
    "duration": 15,
    "start_time": "2022-01-24T15:50:41.997Z"
   },
   {
    "duration": 5,
    "start_time": "2022-01-24T15:50:42.014Z"
   },
   {
    "duration": 2390,
    "start_time": "2022-01-24T15:50:42.021Z"
   },
   {
    "duration": 3,
    "start_time": "2022-01-24T15:50:44.412Z"
   },
   {
    "duration": 8,
    "start_time": "2022-01-24T15:50:44.427Z"
   },
   {
    "duration": 12,
    "start_time": "2022-01-24T15:50:44.436Z"
   },
   {
    "duration": 20,
    "start_time": "2022-01-24T15:50:44.450Z"
   },
   {
    "duration": 3,
    "start_time": "2022-01-24T15:51:21.877Z"
   },
   {
    "duration": 347,
    "start_time": "2022-01-24T15:51:21.882Z"
   },
   {
    "duration": 8,
    "start_time": "2022-01-24T15:51:22.231Z"
   },
   {
    "duration": 7,
    "start_time": "2022-01-24T15:51:22.241Z"
   },
   {
    "duration": 14,
    "start_time": "2022-01-24T15:51:22.250Z"
   },
   {
    "duration": 7,
    "start_time": "2022-01-24T15:51:22.265Z"
   },
   {
    "duration": 10,
    "start_time": "2022-01-24T15:51:22.273Z"
   },
   {
    "duration": 6,
    "start_time": "2022-01-24T15:51:22.285Z"
   },
   {
    "duration": 66,
    "start_time": "2022-01-24T15:51:22.293Z"
   },
   {
    "duration": 42,
    "start_time": "2022-01-24T15:51:22.360Z"
   },
   {
    "duration": 33,
    "start_time": "2022-01-24T15:51:22.403Z"
   },
   {
    "duration": 32,
    "start_time": "2022-01-24T15:51:22.437Z"
   },
   {
    "duration": 31,
    "start_time": "2022-01-24T15:51:22.470Z"
   },
   {
    "duration": 33,
    "start_time": "2022-01-24T15:51:22.502Z"
   },
   {
    "duration": 9,
    "start_time": "2022-01-24T15:51:22.536Z"
   },
   {
    "duration": 9,
    "start_time": "2022-01-24T15:51:22.546Z"
   },
   {
    "duration": 8,
    "start_time": "2022-01-24T15:51:22.556Z"
   },
   {
    "duration": 11,
    "start_time": "2022-01-24T15:51:22.565Z"
   },
   {
    "duration": 12,
    "start_time": "2022-01-24T15:51:22.577Z"
   },
   {
    "duration": 4,
    "start_time": "2022-01-24T15:51:22.627Z"
   },
   {
    "duration": 6,
    "start_time": "2022-01-24T15:51:22.633Z"
   },
   {
    "duration": 7,
    "start_time": "2022-01-24T15:51:22.640Z"
   },
   {
    "duration": 14,
    "start_time": "2022-01-24T15:51:22.648Z"
   },
   {
    "duration": 10,
    "start_time": "2022-01-24T15:51:22.663Z"
   },
   {
    "duration": 10,
    "start_time": "2022-01-24T15:51:22.675Z"
   },
   {
    "duration": 50,
    "start_time": "2022-01-24T15:51:22.686Z"
   },
   {
    "duration": 11,
    "start_time": "2022-01-24T15:51:22.739Z"
   },
   {
    "duration": 11,
    "start_time": "2022-01-24T15:51:22.752Z"
   },
   {
    "duration": 67,
    "start_time": "2022-01-24T15:51:22.765Z"
   },
   {
    "duration": 95,
    "start_time": "2022-01-24T15:51:22.834Z"
   },
   {
    "duration": 13,
    "start_time": "2022-01-24T15:51:22.930Z"
   },
   {
    "duration": 8,
    "start_time": "2022-01-24T15:51:23.028Z"
   },
   {
    "duration": 106,
    "start_time": "2022-01-24T15:51:23.037Z"
   },
   {
    "duration": 85,
    "start_time": "2022-01-24T15:51:23.145Z"
   },
   {
    "duration": 99,
    "start_time": "2022-01-24T15:51:23.232Z"
   },
   {
    "duration": 4,
    "start_time": "2022-01-24T15:51:23.333Z"
   },
   {
    "duration": 7,
    "start_time": "2022-01-24T15:51:23.338Z"
   },
   {
    "duration": 5,
    "start_time": "2022-01-24T15:51:23.346Z"
   },
   {
    "duration": 8,
    "start_time": "2022-01-24T15:51:23.352Z"
   },
   {
    "duration": 5,
    "start_time": "2022-01-24T15:51:23.361Z"
   },
   {
    "duration": 2323,
    "start_time": "2022-01-24T15:51:23.367Z"
   },
   {
    "duration": 4,
    "start_time": "2022-01-24T15:51:25.691Z"
   },
   {
    "duration": 6,
    "start_time": "2022-01-24T15:51:25.696Z"
   },
   {
    "duration": 25,
    "start_time": "2022-01-24T15:51:25.703Z"
   },
   {
    "duration": 4,
    "start_time": "2022-01-24T15:51:25.729Z"
   },
   {
    "duration": 4,
    "start_time": "2022-01-24T15:58:38.688Z"
   },
   {
    "duration": 328,
    "start_time": "2022-01-24T15:58:38.693Z"
   },
   {
    "duration": 9,
    "start_time": "2022-01-24T15:58:39.023Z"
   },
   {
    "duration": 7,
    "start_time": "2022-01-24T15:58:39.034Z"
   },
   {
    "duration": 14,
    "start_time": "2022-01-24T15:58:39.042Z"
   },
   {
    "duration": 9,
    "start_time": "2022-01-24T15:58:39.058Z"
   },
   {
    "duration": 13,
    "start_time": "2022-01-24T15:58:39.069Z"
   },
   {
    "duration": 8,
    "start_time": "2022-01-24T15:58:39.129Z"
   },
   {
    "duration": 37,
    "start_time": "2022-01-24T15:58:39.140Z"
   },
   {
    "duration": 69,
    "start_time": "2022-01-24T15:58:39.180Z"
   },
   {
    "duration": 12,
    "start_time": "2022-01-24T15:58:39.251Z"
   },
   {
    "duration": 71,
    "start_time": "2022-01-24T15:58:39.265Z"
   },
   {
    "duration": 33,
    "start_time": "2022-01-24T15:58:39.337Z"
   },
   {
    "duration": 10,
    "start_time": "2022-01-24T15:58:39.371Z"
   },
   {
    "duration": 13,
    "start_time": "2022-01-24T15:58:39.383Z"
   },
   {
    "duration": 34,
    "start_time": "2022-01-24T15:58:39.397Z"
   },
   {
    "duration": 10,
    "start_time": "2022-01-24T15:58:39.432Z"
   },
   {
    "duration": 11,
    "start_time": "2022-01-24T15:58:39.443Z"
   },
   {
    "duration": 11,
    "start_time": "2022-01-24T15:58:39.455Z"
   },
   {
    "duration": 6,
    "start_time": "2022-01-24T15:58:39.467Z"
   },
   {
    "duration": 6,
    "start_time": "2022-01-24T15:58:39.474Z"
   },
   {
    "duration": 6,
    "start_time": "2022-01-24T15:58:39.482Z"
   },
   {
    "duration": 11,
    "start_time": "2022-01-24T15:58:39.529Z"
   },
   {
    "duration": 11,
    "start_time": "2022-01-24T15:58:39.541Z"
   },
   {
    "duration": 10,
    "start_time": "2022-01-24T15:58:39.553Z"
   },
   {
    "duration": 19,
    "start_time": "2022-01-24T15:58:39.565Z"
   },
   {
    "duration": 48,
    "start_time": "2022-01-24T15:58:39.585Z"
   },
   {
    "duration": 13,
    "start_time": "2022-01-24T15:58:39.635Z"
   },
   {
    "duration": 81,
    "start_time": "2022-01-24T15:58:39.649Z"
   },
   {
    "duration": 97,
    "start_time": "2022-01-24T15:58:39.731Z"
   },
   {
    "duration": 14,
    "start_time": "2022-01-24T15:58:39.830Z"
   },
   {
    "duration": 83,
    "start_time": "2022-01-24T15:58:39.845Z"
   },
   {
    "duration": 199,
    "start_time": "2022-01-24T15:58:39.930Z"
   },
   {
    "duration": 7,
    "start_time": "2022-01-24T15:58:40.131Z"
   },
   {
    "duration": 90,
    "start_time": "2022-01-24T15:58:40.140Z"
   },
   {
    "duration": 7,
    "start_time": "2022-01-24T15:58:40.231Z"
   },
   {
    "duration": 7,
    "start_time": "2022-01-24T15:58:40.240Z"
   },
   {
    "duration": 5,
    "start_time": "2022-01-24T15:58:40.248Z"
   },
   {
    "duration": 6,
    "start_time": "2022-01-24T15:58:40.254Z"
   },
   {
    "duration": 5,
    "start_time": "2022-01-24T15:58:40.261Z"
   },
   {
    "duration": 3020,
    "start_time": "2022-01-24T15:58:40.268Z"
   },
   {
    "duration": -1388,
    "start_time": "2022-01-24T15:58:44.678Z"
   },
   {
    "duration": -1390,
    "start_time": "2022-01-24T15:58:44.680Z"
   },
   {
    "duration": -1391,
    "start_time": "2022-01-24T15:58:44.682Z"
   },
   {
    "duration": -1392,
    "start_time": "2022-01-24T15:58:44.684Z"
   },
   {
    "duration": 3,
    "start_time": "2022-01-24T16:00:42.037Z"
   },
   {
    "duration": 345,
    "start_time": "2022-01-24T16:00:42.042Z"
   },
   {
    "duration": 11,
    "start_time": "2022-01-24T16:00:42.389Z"
   },
   {
    "duration": 25,
    "start_time": "2022-01-24T16:00:42.403Z"
   },
   {
    "duration": 12,
    "start_time": "2022-01-24T16:00:42.430Z"
   },
   {
    "duration": 7,
    "start_time": "2022-01-24T16:00:42.443Z"
   },
   {
    "duration": 11,
    "start_time": "2022-01-24T16:00:42.452Z"
   },
   {
    "duration": 8,
    "start_time": "2022-01-24T16:00:42.466Z"
   },
   {
    "duration": 80,
    "start_time": "2022-01-24T16:00:42.477Z"
   },
   {
    "duration": 80,
    "start_time": "2022-01-24T16:00:42.558Z"
   },
   {
    "duration": 15,
    "start_time": "2022-01-24T16:00:42.640Z"
   },
   {
    "duration": 38,
    "start_time": "2022-01-24T16:00:42.657Z"
   },
   {
    "duration": 58,
    "start_time": "2022-01-24T16:00:42.696Z"
   },
   {
    "duration": 9,
    "start_time": "2022-01-24T16:00:42.756Z"
   },
   {
    "duration": 11,
    "start_time": "2022-01-24T16:00:42.766Z"
   },
   {
    "duration": 9,
    "start_time": "2022-01-24T16:00:42.779Z"
   },
   {
    "duration": 43,
    "start_time": "2022-01-24T16:00:42.789Z"
   },
   {
    "duration": 12,
    "start_time": "2022-01-24T16:00:42.833Z"
   },
   {
    "duration": 10,
    "start_time": "2022-01-24T16:00:42.846Z"
   },
   {
    "duration": 5,
    "start_time": "2022-01-24T16:00:42.858Z"
   },
   {
    "duration": 6,
    "start_time": "2022-01-24T16:00:42.864Z"
   },
   {
    "duration": 6,
    "start_time": "2022-01-24T16:00:42.872Z"
   },
   {
    "duration": 12,
    "start_time": "2022-01-24T16:00:42.881Z"
   },
   {
    "duration": 12,
    "start_time": "2022-01-24T16:00:42.926Z"
   },
   {
    "duration": 10,
    "start_time": "2022-01-24T16:00:42.939Z"
   },
   {
    "duration": 21,
    "start_time": "2022-01-24T16:00:42.951Z"
   },
   {
    "duration": 15,
    "start_time": "2022-01-24T16:00:42.973Z"
   },
   {
    "duration": 44,
    "start_time": "2022-01-24T16:00:42.989Z"
   },
   {
    "duration": 92,
    "start_time": "2022-01-24T16:00:43.035Z"
   },
   {
    "duration": 97,
    "start_time": "2022-01-24T16:00:43.130Z"
   },
   {
    "duration": 16,
    "start_time": "2022-01-24T16:00:43.229Z"
   },
   {
    "duration": 181,
    "start_time": "2022-01-24T16:00:43.247Z"
   },
   {
    "duration": 13,
    "start_time": "2022-01-24T16:00:43.430Z"
   },
   {
    "duration": 90,
    "start_time": "2022-01-24T16:00:43.445Z"
   },
   {
    "duration": 98,
    "start_time": "2022-01-24T16:00:43.537Z"
   },
   {
    "duration": 17,
    "start_time": "2022-01-24T16:00:43.636Z"
   },
   {
    "duration": 10,
    "start_time": "2022-01-24T16:00:43.654Z"
   },
   {
    "duration": 4,
    "start_time": "2022-01-24T16:00:43.666Z"
   },
   {
    "duration": 9,
    "start_time": "2022-01-24T16:00:43.672Z"
   },
   {
    "duration": 8,
    "start_time": "2022-01-24T16:00:43.683Z"
   },
   {
    "duration": 2337,
    "start_time": "2022-01-24T16:00:43.692Z"
   },
   {
    "duration": 4,
    "start_time": "2022-01-24T16:00:46.030Z"
   },
   {
    "duration": 7,
    "start_time": "2022-01-24T16:00:46.036Z"
   },
   {
    "duration": 8,
    "start_time": "2022-01-24T16:00:46.045Z"
   },
   {
    "duration": 8,
    "start_time": "2022-01-24T16:00:46.054Z"
   },
   {
    "duration": 3,
    "start_time": "2022-01-24T16:03:30.430Z"
   },
   {
    "duration": 349,
    "start_time": "2022-01-24T16:03:30.435Z"
   },
   {
    "duration": 9,
    "start_time": "2022-01-24T16:03:30.786Z"
   },
   {
    "duration": 8,
    "start_time": "2022-01-24T16:03:30.797Z"
   },
   {
    "duration": 24,
    "start_time": "2022-01-24T16:03:30.807Z"
   },
   {
    "duration": 14,
    "start_time": "2022-01-24T16:03:30.833Z"
   },
   {
    "duration": 26,
    "start_time": "2022-01-24T16:03:30.848Z"
   },
   {
    "duration": 7,
    "start_time": "2022-01-24T16:03:30.875Z"
   },
   {
    "duration": 38,
    "start_time": "2022-01-24T16:03:30.884Z"
   },
   {
    "duration": 45,
    "start_time": "2022-01-24T16:03:30.927Z"
   },
   {
    "duration": 13,
    "start_time": "2022-01-24T16:03:30.973Z"
   },
   {
    "duration": 61,
    "start_time": "2022-01-24T16:03:30.987Z"
   },
   {
    "duration": 37,
    "start_time": "2022-01-24T16:03:31.049Z"
   },
   {
    "duration": 10,
    "start_time": "2022-01-24T16:03:31.087Z"
   },
   {
    "duration": 34,
    "start_time": "2022-01-24T16:03:31.099Z"
   },
   {
    "duration": 10,
    "start_time": "2022-01-24T16:03:31.135Z"
   },
   {
    "duration": 20,
    "start_time": "2022-01-24T16:03:31.147Z"
   },
   {
    "duration": 20,
    "start_time": "2022-01-24T16:03:31.168Z"
   },
   {
    "duration": 15,
    "start_time": "2022-01-24T16:03:31.190Z"
   },
   {
    "duration": 24,
    "start_time": "2022-01-24T16:03:31.206Z"
   },
   {
    "duration": 17,
    "start_time": "2022-01-24T16:03:31.231Z"
   },
   {
    "duration": 20,
    "start_time": "2022-01-24T16:03:31.250Z"
   },
   {
    "duration": 18,
    "start_time": "2022-01-24T16:03:31.272Z"
   },
   {
    "duration": 10,
    "start_time": "2022-01-24T16:03:31.292Z"
   },
   {
    "duration": 17,
    "start_time": "2022-01-24T16:03:31.304Z"
   },
   {
    "duration": 29,
    "start_time": "2022-01-24T16:03:31.322Z"
   },
   {
    "duration": 12,
    "start_time": "2022-01-24T16:03:31.354Z"
   },
   {
    "duration": 13,
    "start_time": "2022-01-24T16:03:31.367Z"
   },
   {
    "duration": 146,
    "start_time": "2022-01-24T16:03:31.381Z"
   },
   {
    "duration": 6,
    "start_time": "2022-01-24T16:03:31.529Z"
   },
   {
    "duration": 14,
    "start_time": "2022-01-24T16:03:31.536Z"
   },
   {
    "duration": 8,
    "start_time": "2022-01-24T16:03:31.628Z"
   },
   {
    "duration": 13,
    "start_time": "2022-01-24T16:03:31.728Z"
   },
   {
    "duration": 91,
    "start_time": "2022-01-24T16:03:31.743Z"
   },
   {
    "duration": 99,
    "start_time": "2022-01-24T16:03:31.836Z"
   },
   {
    "duration": 6,
    "start_time": "2022-01-24T16:03:31.936Z"
   },
   {
    "duration": 7,
    "start_time": "2022-01-24T16:03:31.944Z"
   },
   {
    "duration": 6,
    "start_time": "2022-01-24T16:03:31.953Z"
   },
   {
    "duration": 4,
    "start_time": "2022-01-24T16:03:31.960Z"
   },
   {
    "duration": 14,
    "start_time": "2022-01-24T16:03:31.966Z"
   },
   {
    "duration": 3026,
    "start_time": "2022-01-24T16:03:31.981Z"
   },
   {
    "duration": -1406,
    "start_time": "2022-01-24T16:03:36.415Z"
   },
   {
    "duration": -1408,
    "start_time": "2022-01-24T16:03:36.418Z"
   },
   {
    "duration": -1409,
    "start_time": "2022-01-24T16:03:36.420Z"
   },
   {
    "duration": -1414,
    "start_time": "2022-01-24T16:03:36.426Z"
   },
   {
    "duration": 3,
    "start_time": "2022-01-24T16:07:58.613Z"
   },
   {
    "duration": 339,
    "start_time": "2022-01-24T16:07:58.622Z"
   },
   {
    "duration": 9,
    "start_time": "2022-01-24T16:07:58.963Z"
   },
   {
    "duration": 7,
    "start_time": "2022-01-24T16:07:58.974Z"
   },
   {
    "duration": 13,
    "start_time": "2022-01-24T16:07:58.982Z"
   },
   {
    "duration": 35,
    "start_time": "2022-01-24T16:07:58.996Z"
   },
   {
    "duration": 14,
    "start_time": "2022-01-24T16:07:59.032Z"
   },
   {
    "duration": 7,
    "start_time": "2022-01-24T16:07:59.048Z"
   },
   {
    "duration": 40,
    "start_time": "2022-01-24T16:07:59.057Z"
   },
   {
    "duration": 73,
    "start_time": "2022-01-24T16:07:59.100Z"
   },
   {
    "duration": 12,
    "start_time": "2022-01-24T16:07:59.175Z"
   },
   {
    "duration": 64,
    "start_time": "2022-01-24T16:07:59.189Z"
   },
   {
    "duration": 38,
    "start_time": "2022-01-24T16:07:59.255Z"
   },
   {
    "duration": 11,
    "start_time": "2022-01-24T16:07:59.294Z"
   },
   {
    "duration": 12,
    "start_time": "2022-01-24T16:07:59.327Z"
   },
   {
    "duration": 10,
    "start_time": "2022-01-24T16:07:59.340Z"
   },
   {
    "duration": 11,
    "start_time": "2022-01-24T16:07:59.351Z"
   },
   {
    "duration": 11,
    "start_time": "2022-01-24T16:07:59.363Z"
   },
   {
    "duration": 10,
    "start_time": "2022-01-24T16:07:59.376Z"
   },
   {
    "duration": 42,
    "start_time": "2022-01-24T16:07:59.388Z"
   },
   {
    "duration": 6,
    "start_time": "2022-01-24T16:07:59.431Z"
   },
   {
    "duration": 6,
    "start_time": "2022-01-24T16:07:59.439Z"
   },
   {
    "duration": 13,
    "start_time": "2022-01-24T16:07:59.446Z"
   },
   {
    "duration": 11,
    "start_time": "2022-01-24T16:07:59.460Z"
   },
   {
    "duration": 10,
    "start_time": "2022-01-24T16:07:59.472Z"
   },
   {
    "duration": 56,
    "start_time": "2022-01-24T16:07:59.484Z"
   },
   {
    "duration": 12,
    "start_time": "2022-01-24T16:07:59.541Z"
   },
   {
    "duration": 12,
    "start_time": "2022-01-24T16:07:59.556Z"
   },
   {
    "duration": 67,
    "start_time": "2022-01-24T16:07:59.570Z"
   },
   {
    "duration": 5,
    "start_time": "2022-01-24T16:07:59.728Z"
   },
   {
    "duration": 13,
    "start_time": "2022-01-24T16:07:59.735Z"
   },
   {
    "duration": 9,
    "start_time": "2022-01-24T16:07:59.827Z"
   },
   {
    "duration": 13,
    "start_time": "2022-01-24T16:07:59.928Z"
   },
   {
    "duration": 89,
    "start_time": "2022-01-24T16:07:59.943Z"
   },
   {
    "duration": 99,
    "start_time": "2022-01-24T16:08:00.034Z"
   },
   {
    "duration": 5,
    "start_time": "2022-01-24T16:08:00.134Z"
   },
   {
    "duration": 8,
    "start_time": "2022-01-24T16:08:00.141Z"
   },
   {
    "duration": 5,
    "start_time": "2022-01-24T16:08:00.151Z"
   },
   {
    "duration": 4,
    "start_time": "2022-01-24T16:08:00.158Z"
   },
   {
    "duration": 6,
    "start_time": "2022-01-24T16:08:00.163Z"
   },
   {
    "duration": 3016,
    "start_time": "2022-01-24T16:08:00.171Z"
   },
   {
    "duration": -1488,
    "start_time": "2022-01-24T16:08:04.676Z"
   },
   {
    "duration": -1489,
    "start_time": "2022-01-24T16:08:04.678Z"
   },
   {
    "duration": -1495,
    "start_time": "2022-01-24T16:08:04.685Z"
   },
   {
    "duration": -1499,
    "start_time": "2022-01-24T16:08:04.690Z"
   },
   {
    "duration": 3,
    "start_time": "2022-01-24T16:08:58.481Z"
   },
   {
    "duration": 328,
    "start_time": "2022-01-24T16:08:58.486Z"
   },
   {
    "duration": 9,
    "start_time": "2022-01-24T16:08:58.816Z"
   },
   {
    "duration": 7,
    "start_time": "2022-01-24T16:08:58.826Z"
   },
   {
    "duration": 17,
    "start_time": "2022-01-24T16:08:58.834Z"
   },
   {
    "duration": 6,
    "start_time": "2022-01-24T16:08:58.852Z"
   },
   {
    "duration": 10,
    "start_time": "2022-01-24T16:08:58.860Z"
   },
   {
    "duration": 6,
    "start_time": "2022-01-24T16:08:58.872Z"
   },
   {
    "duration": 64,
    "start_time": "2022-01-24T16:08:58.880Z"
   },
   {
    "duration": 46,
    "start_time": "2022-01-24T16:08:58.945Z"
   },
   {
    "duration": 12,
    "start_time": "2022-01-24T16:08:58.992Z"
   },
   {
    "duration": 53,
    "start_time": "2022-01-24T16:08:59.006Z"
   },
   {
    "duration": 46,
    "start_time": "2022-01-24T16:08:59.060Z"
   },
   {
    "duration": 27,
    "start_time": "2022-01-24T16:08:59.108Z"
   },
   {
    "duration": 9,
    "start_time": "2022-01-24T16:08:59.137Z"
   },
   {
    "duration": 10,
    "start_time": "2022-01-24T16:08:59.147Z"
   },
   {
    "duration": 9,
    "start_time": "2022-01-24T16:08:59.158Z"
   },
   {
    "duration": 11,
    "start_time": "2022-01-24T16:08:59.169Z"
   },
   {
    "duration": 46,
    "start_time": "2022-01-24T16:08:59.182Z"
   },
   {
    "duration": 4,
    "start_time": "2022-01-24T16:08:59.230Z"
   },
   {
    "duration": 6,
    "start_time": "2022-01-24T16:08:59.235Z"
   },
   {
    "duration": 5,
    "start_time": "2022-01-24T16:08:59.242Z"
   },
   {
    "duration": 14,
    "start_time": "2022-01-24T16:08:59.250Z"
   },
   {
    "duration": 11,
    "start_time": "2022-01-24T16:08:59.265Z"
   },
   {
    "duration": 10,
    "start_time": "2022-01-24T16:08:59.277Z"
   },
   {
    "duration": 52,
    "start_time": "2022-01-24T16:08:59.289Z"
   },
   {
    "duration": 11,
    "start_time": "2022-01-24T16:08:59.343Z"
   },
   {
    "duration": 13,
    "start_time": "2022-01-24T16:08:59.356Z"
   },
   {
    "duration": 57,
    "start_time": "2022-01-24T16:08:59.371Z"
   },
   {
    "duration": 97,
    "start_time": "2022-01-24T16:08:59.430Z"
   },
   {
    "duration": 13,
    "start_time": "2022-01-24T16:08:59.529Z"
   },
   {
    "duration": 92,
    "start_time": "2022-01-24T16:08:59.544Z"
   },
   {
    "duration": 14,
    "start_time": "2022-01-24T16:08:59.728Z"
   },
   {
    "duration": 85,
    "start_time": "2022-01-24T16:08:59.744Z"
   },
   {
    "duration": 98,
    "start_time": "2022-01-24T16:08:59.831Z"
   },
   {
    "duration": 6,
    "start_time": "2022-01-24T16:08:59.931Z"
   },
   {
    "duration": 7,
    "start_time": "2022-01-24T16:08:59.939Z"
   },
   {
    "duration": 6,
    "start_time": "2022-01-24T16:08:59.947Z"
   },
   {
    "duration": 4,
    "start_time": "2022-01-24T16:08:59.954Z"
   },
   {
    "duration": 6,
    "start_time": "2022-01-24T16:08:59.960Z"
   },
   {
    "duration": 3129,
    "start_time": "2022-01-24T16:08:59.968Z"
   },
   {
    "duration": -1392,
    "start_time": "2022-01-24T16:09:04.490Z"
   },
   {
    "duration": -1394,
    "start_time": "2022-01-24T16:09:04.493Z"
   },
   {
    "duration": -1395,
    "start_time": "2022-01-24T16:09:04.495Z"
   },
   {
    "duration": -1396,
    "start_time": "2022-01-24T16:09:04.497Z"
   },
   {
    "duration": 3,
    "start_time": "2022-01-24T16:09:45.521Z"
   },
   {
    "duration": 346,
    "start_time": "2022-01-24T16:09:45.527Z"
   },
   {
    "duration": 10,
    "start_time": "2022-01-24T16:09:45.875Z"
   },
   {
    "duration": 8,
    "start_time": "2022-01-24T16:09:45.886Z"
   },
   {
    "duration": 11,
    "start_time": "2022-01-24T16:09:45.895Z"
   },
   {
    "duration": 23,
    "start_time": "2022-01-24T16:09:45.907Z"
   },
   {
    "duration": 12,
    "start_time": "2022-01-24T16:09:45.931Z"
   },
   {
    "duration": 6,
    "start_time": "2022-01-24T16:09:45.945Z"
   },
   {
    "duration": 36,
    "start_time": "2022-01-24T16:09:45.953Z"
   },
   {
    "duration": 71,
    "start_time": "2022-01-24T16:09:45.990Z"
   },
   {
    "duration": 13,
    "start_time": "2022-01-24T16:09:46.062Z"
   },
   {
    "duration": 55,
    "start_time": "2022-01-24T16:09:46.077Z"
   },
   {
    "duration": 33,
    "start_time": "2022-01-24T16:09:46.133Z"
   },
   {
    "duration": 10,
    "start_time": "2022-01-24T16:09:46.168Z"
   },
   {
    "duration": 9,
    "start_time": "2022-01-24T16:09:46.179Z"
   },
   {
    "duration": 41,
    "start_time": "2022-01-24T16:09:46.189Z"
   },
   {
    "duration": 9,
    "start_time": "2022-01-24T16:09:46.232Z"
   },
   {
    "duration": 12,
    "start_time": "2022-01-24T16:09:46.242Z"
   },
   {
    "duration": 10,
    "start_time": "2022-01-24T16:09:46.256Z"
   },
   {
    "duration": 6,
    "start_time": "2022-01-24T16:09:46.267Z"
   },
   {
    "duration": 5,
    "start_time": "2022-01-24T16:09:46.275Z"
   },
   {
    "duration": 5,
    "start_time": "2022-01-24T16:09:46.282Z"
   },
   {
    "duration": 43,
    "start_time": "2022-01-24T16:09:46.290Z"
   },
   {
    "duration": 11,
    "start_time": "2022-01-24T16:09:46.335Z"
   },
   {
    "duration": 12,
    "start_time": "2022-01-24T16:09:46.347Z"
   },
   {
    "duration": 19,
    "start_time": "2022-01-24T16:09:46.360Z"
   },
   {
    "duration": 12,
    "start_time": "2022-01-24T16:09:46.380Z"
   },
   {
    "duration": 46,
    "start_time": "2022-01-24T16:09:46.393Z"
   },
   {
    "duration": 91,
    "start_time": "2022-01-24T16:09:46.441Z"
   },
   {
    "duration": 94,
    "start_time": "2022-01-24T16:09:46.534Z"
   },
   {
    "duration": 12,
    "start_time": "2022-01-24T16:09:46.630Z"
   },
   {
    "duration": 182,
    "start_time": "2022-01-24T16:09:46.645Z"
   },
   {
    "duration": 12,
    "start_time": "2022-01-24T16:09:46.829Z"
   },
   {
    "duration": 89,
    "start_time": "2022-01-24T16:09:46.843Z"
   },
   {
    "duration": 98,
    "start_time": "2022-01-24T16:09:46.934Z"
   },
   {
    "duration": 6,
    "start_time": "2022-01-24T16:09:47.034Z"
   },
   {
    "duration": 6,
    "start_time": "2022-01-24T16:09:47.042Z"
   },
   {
    "duration": 7,
    "start_time": "2022-01-24T16:09:47.050Z"
   },
   {
    "duration": 5,
    "start_time": "2022-01-24T16:09:47.059Z"
   },
   {
    "duration": 8,
    "start_time": "2022-01-24T16:09:47.065Z"
   },
   {
    "duration": 3049,
    "start_time": "2022-01-24T16:09:47.074Z"
   },
   {
    "duration": -1409,
    "start_time": "2022-01-24T16:09:51.534Z"
   },
   {
    "duration": -1411,
    "start_time": "2022-01-24T16:09:51.537Z"
   },
   {
    "duration": -1416,
    "start_time": "2022-01-24T16:09:51.543Z"
   },
   {
    "duration": -1421,
    "start_time": "2022-01-24T16:09:51.548Z"
   },
   {
    "duration": 3,
    "start_time": "2022-01-24T16:11:51.888Z"
   },
   {
    "duration": 358,
    "start_time": "2022-01-24T16:11:51.893Z"
   },
   {
    "duration": 10,
    "start_time": "2022-01-24T16:11:52.253Z"
   },
   {
    "duration": 15,
    "start_time": "2022-01-24T16:11:52.264Z"
   },
   {
    "duration": 17,
    "start_time": "2022-01-24T16:11:52.281Z"
   },
   {
    "duration": 14,
    "start_time": "2022-01-24T16:11:52.300Z"
   },
   {
    "duration": 18,
    "start_time": "2022-01-24T16:11:52.316Z"
   },
   {
    "duration": 9,
    "start_time": "2022-01-24T16:11:52.335Z"
   },
   {
    "duration": 36,
    "start_time": "2022-01-24T16:11:52.346Z"
   },
   {
    "duration": 64,
    "start_time": "2022-01-24T16:11:52.384Z"
   },
   {
    "duration": 12,
    "start_time": "2022-01-24T16:11:52.450Z"
   },
   {
    "duration": 39,
    "start_time": "2022-01-24T16:11:52.464Z"
   },
   {
    "duration": 57,
    "start_time": "2022-01-24T16:11:52.504Z"
   },
   {
    "duration": 10,
    "start_time": "2022-01-24T16:11:52.563Z"
   },
   {
    "duration": 9,
    "start_time": "2022-01-24T16:11:52.574Z"
   },
   {
    "duration": 9,
    "start_time": "2022-01-24T16:11:52.584Z"
   },
   {
    "duration": 11,
    "start_time": "2022-01-24T16:11:52.627Z"
   },
   {
    "duration": 15,
    "start_time": "2022-01-24T16:11:52.639Z"
   },
   {
    "duration": 16,
    "start_time": "2022-01-24T16:11:52.655Z"
   },
   {
    "duration": 7,
    "start_time": "2022-01-24T16:11:52.673Z"
   },
   {
    "duration": 6,
    "start_time": "2022-01-24T16:11:52.681Z"
   },
   {
    "duration": 6,
    "start_time": "2022-01-24T16:11:52.689Z"
   },
   {
    "duration": 38,
    "start_time": "2022-01-24T16:11:52.696Z"
   },
   {
    "duration": 10,
    "start_time": "2022-01-24T16:11:52.736Z"
   },
   {
    "duration": 11,
    "start_time": "2022-01-24T16:11:52.748Z"
   },
   {
    "duration": 19,
    "start_time": "2022-01-24T16:11:52.760Z"
   },
   {
    "duration": 45,
    "start_time": "2022-01-24T16:11:52.782Z"
   },
   {
    "duration": 13,
    "start_time": "2022-01-24T16:11:52.829Z"
   },
   {
    "duration": 14,
    "start_time": "2022-01-24T16:11:52.844Z"
   },
   {
    "duration": 100,
    "start_time": "2022-01-24T16:11:52.928Z"
   },
   {
    "duration": 101,
    "start_time": "2022-01-24T16:11:53.030Z"
   },
   {
    "duration": 95,
    "start_time": "2022-01-24T16:11:53.133Z"
   },
   {
    "duration": 13,
    "start_time": "2022-01-24T16:11:53.230Z"
   },
   {
    "duration": 92,
    "start_time": "2022-01-24T16:11:53.245Z"
   },
   {
    "duration": 7,
    "start_time": "2022-01-24T16:11:53.428Z"
   },
   {
    "duration": 5,
    "start_time": "2022-01-24T16:11:53.436Z"
   },
   {
    "duration": 6,
    "start_time": "2022-01-24T16:11:53.442Z"
   },
   {
    "duration": 5,
    "start_time": "2022-01-24T16:11:53.450Z"
   },
   {
    "duration": 7,
    "start_time": "2022-01-24T16:11:53.456Z"
   },
   {
    "duration": 121,
    "start_time": "2022-01-24T16:11:53.464Z"
   },
   {
    "duration": -1387,
    "start_time": "2022-01-24T16:11:54.974Z"
   },
   {
    "duration": -1389,
    "start_time": "2022-01-24T16:11:54.977Z"
   },
   {
    "duration": -1392,
    "start_time": "2022-01-24T16:11:54.982Z"
   },
   {
    "duration": -1393,
    "start_time": "2022-01-24T16:11:54.984Z"
   },
   {
    "duration": -1394,
    "start_time": "2022-01-24T16:11:54.986Z"
   },
   {
    "duration": 3,
    "start_time": "2022-01-24T16:13:47.987Z"
   },
   {
    "duration": 360,
    "start_time": "2022-01-24T16:13:47.992Z"
   },
   {
    "duration": 9,
    "start_time": "2022-01-24T16:13:48.354Z"
   },
   {
    "duration": 8,
    "start_time": "2022-01-24T16:13:48.364Z"
   },
   {
    "duration": 13,
    "start_time": "2022-01-24T16:13:48.373Z"
   },
   {
    "duration": 6,
    "start_time": "2022-01-24T16:13:48.387Z"
   },
   {
    "duration": 11,
    "start_time": "2022-01-24T16:13:48.395Z"
   },
   {
    "duration": 7,
    "start_time": "2022-01-24T16:13:48.427Z"
   },
   {
    "duration": 34,
    "start_time": "2022-01-24T16:13:48.436Z"
   },
   {
    "duration": 66,
    "start_time": "2022-01-24T16:13:48.471Z"
   },
   {
    "duration": 12,
    "start_time": "2022-01-24T16:13:48.538Z"
   },
   {
    "duration": 34,
    "start_time": "2022-01-24T16:13:48.551Z"
   },
   {
    "duration": 55,
    "start_time": "2022-01-24T16:13:48.587Z"
   },
   {
    "duration": 10,
    "start_time": "2022-01-24T16:13:48.643Z"
   },
   {
    "duration": 9,
    "start_time": "2022-01-24T16:13:48.655Z"
   },
   {
    "duration": 9,
    "start_time": "2022-01-24T16:13:48.665Z"
   },
   {
    "duration": 8,
    "start_time": "2022-01-24T16:13:48.675Z"
   },
   {
    "duration": 44,
    "start_time": "2022-01-24T16:13:48.684Z"
   },
   {
    "duration": 9,
    "start_time": "2022-01-24T16:13:48.730Z"
   },
   {
    "duration": 6,
    "start_time": "2022-01-24T16:13:48.741Z"
   },
   {
    "duration": 6,
    "start_time": "2022-01-24T16:13:48.749Z"
   },
   {
    "duration": 5,
    "start_time": "2022-01-24T16:13:48.756Z"
   },
   {
    "duration": 13,
    "start_time": "2022-01-24T16:13:48.763Z"
   },
   {
    "duration": 10,
    "start_time": "2022-01-24T16:13:48.777Z"
   },
   {
    "duration": 43,
    "start_time": "2022-01-24T16:13:48.789Z"
   },
   {
    "duration": 18,
    "start_time": "2022-01-24T16:13:48.834Z"
   },
   {
    "duration": 12,
    "start_time": "2022-01-24T16:13:48.855Z"
   },
   {
    "duration": 11,
    "start_time": "2022-01-24T16:13:48.869Z"
   },
   {
    "duration": 58,
    "start_time": "2022-01-24T16:13:48.882Z"
   },
   {
    "duration": 5,
    "start_time": "2022-01-24T16:13:49.028Z"
   },
   {
    "duration": 96,
    "start_time": "2022-01-24T16:13:49.035Z"
   },
   {
    "duration": 99,
    "start_time": "2022-01-24T16:13:49.133Z"
   },
   {
    "duration": 96,
    "start_time": "2022-01-24T16:13:49.234Z"
   },
   {
    "duration": 96,
    "start_time": "2022-01-24T16:13:49.332Z"
   },
   {
    "duration": 5,
    "start_time": "2022-01-24T16:13:49.430Z"
   },
   {
    "duration": 5,
    "start_time": "2022-01-24T16:13:49.436Z"
   },
   {
    "duration": 8,
    "start_time": "2022-01-24T16:13:49.442Z"
   },
   {
    "duration": 6,
    "start_time": "2022-01-24T16:13:49.451Z"
   },
   {
    "duration": 6,
    "start_time": "2022-01-24T16:13:49.458Z"
   },
   {
    "duration": 119,
    "start_time": "2022-01-24T16:13:49.465Z"
   },
   {
    "duration": -1858,
    "start_time": "2022-01-24T16:13:51.444Z"
   },
   {
    "duration": -1859,
    "start_time": "2022-01-24T16:13:51.446Z"
   },
   {
    "duration": -1864,
    "start_time": "2022-01-24T16:13:51.452Z"
   },
   {
    "duration": -1866,
    "start_time": "2022-01-24T16:13:51.454Z"
   },
   {
    "duration": -1867,
    "start_time": "2022-01-24T16:13:51.456Z"
   },
   {
    "duration": 3,
    "start_time": "2022-01-24T16:14:21.238Z"
   },
   {
    "duration": 333,
    "start_time": "2022-01-24T16:14:21.242Z"
   },
   {
    "duration": 9,
    "start_time": "2022-01-24T16:14:21.577Z"
   },
   {
    "duration": 6,
    "start_time": "2022-01-24T16:14:21.588Z"
   },
   {
    "duration": 10,
    "start_time": "2022-01-24T16:14:21.596Z"
   },
   {
    "duration": 23,
    "start_time": "2022-01-24T16:14:21.607Z"
   },
   {
    "duration": 11,
    "start_time": "2022-01-24T16:14:21.631Z"
   },
   {
    "duration": 8,
    "start_time": "2022-01-24T16:14:21.644Z"
   },
   {
    "duration": 36,
    "start_time": "2022-01-24T16:14:21.655Z"
   },
   {
    "duration": 72,
    "start_time": "2022-01-24T16:14:21.693Z"
   },
   {
    "duration": 11,
    "start_time": "2022-01-24T16:14:21.767Z"
   },
   {
    "duration": 54,
    "start_time": "2022-01-24T16:14:21.780Z"
   },
   {
    "duration": 35,
    "start_time": "2022-01-24T16:14:21.835Z"
   },
   {
    "duration": 9,
    "start_time": "2022-01-24T16:14:21.872Z"
   },
   {
    "duration": 10,
    "start_time": "2022-01-24T16:14:21.882Z"
   },
   {
    "duration": 38,
    "start_time": "2022-01-24T16:14:21.893Z"
   },
   {
    "duration": 10,
    "start_time": "2022-01-24T16:14:21.932Z"
   },
   {
    "duration": 14,
    "start_time": "2022-01-24T16:14:21.944Z"
   },
   {
    "duration": 12,
    "start_time": "2022-01-24T16:14:21.960Z"
   },
   {
    "duration": 5,
    "start_time": "2022-01-24T16:14:21.973Z"
   },
   {
    "duration": 6,
    "start_time": "2022-01-24T16:14:21.980Z"
   },
   {
    "duration": 9,
    "start_time": "2022-01-24T16:14:21.987Z"
   },
   {
    "duration": 39,
    "start_time": "2022-01-24T16:14:21.997Z"
   },
   {
    "duration": 10,
    "start_time": "2022-01-24T16:14:22.038Z"
   },
   {
    "duration": 10,
    "start_time": "2022-01-24T16:14:22.050Z"
   },
   {
    "duration": 19,
    "start_time": "2022-01-24T16:14:22.061Z"
   },
   {
    "duration": 46,
    "start_time": "2022-01-24T16:14:22.083Z"
   },
   {
    "duration": 13,
    "start_time": "2022-01-24T16:14:22.131Z"
   },
   {
    "duration": 12,
    "start_time": "2022-01-24T16:14:22.145Z"
   },
   {
    "duration": 8,
    "start_time": "2022-01-24T16:14:22.228Z"
   },
   {
    "duration": 15,
    "start_time": "2022-01-24T16:14:22.328Z"
   },
   {
    "duration": 90,
    "start_time": "2022-01-24T16:14:22.345Z"
   },
   {
    "duration": 105,
    "start_time": "2022-01-24T16:14:22.437Z"
   },
   {
    "duration": 85,
    "start_time": "2022-01-24T16:14:22.544Z"
   },
   {
    "duration": 98,
    "start_time": "2022-01-24T16:14:22.631Z"
   },
   {
    "duration": 5,
    "start_time": "2022-01-24T16:14:22.730Z"
   },
   {
    "duration": 6,
    "start_time": "2022-01-24T16:14:22.737Z"
   },
   {
    "duration": 5,
    "start_time": "2022-01-24T16:14:22.744Z"
   },
   {
    "duration": 5,
    "start_time": "2022-01-24T16:14:22.751Z"
   },
   {
    "duration": 4,
    "start_time": "2022-01-24T16:14:22.757Z"
   },
   {
    "duration": 3057,
    "start_time": "2022-01-24T16:14:22.763Z"
   },
   {
    "duration": -1432,
    "start_time": "2022-01-24T16:14:27.253Z"
   },
   {
    "duration": -1434,
    "start_time": "2022-01-24T16:14:27.256Z"
   },
   {
    "duration": -1434,
    "start_time": "2022-01-24T16:14:27.257Z"
   },
   {
    "duration": -1435,
    "start_time": "2022-01-24T16:14:27.259Z"
   },
   {
    "duration": 3,
    "start_time": "2022-01-24T16:15:00.953Z"
   },
   {
    "duration": 352,
    "start_time": "2022-01-24T16:15:00.958Z"
   },
   {
    "duration": 10,
    "start_time": "2022-01-24T16:15:01.312Z"
   },
   {
    "duration": 7,
    "start_time": "2022-01-24T16:15:01.328Z"
   },
   {
    "duration": 18,
    "start_time": "2022-01-24T16:15:01.336Z"
   },
   {
    "duration": 6,
    "start_time": "2022-01-24T16:15:01.356Z"
   },
   {
    "duration": 16,
    "start_time": "2022-01-24T16:15:01.364Z"
   },
   {
    "duration": 7,
    "start_time": "2022-01-24T16:15:01.382Z"
   },
   {
    "duration": 67,
    "start_time": "2022-01-24T16:15:01.391Z"
   },
   {
    "duration": 48,
    "start_time": "2022-01-24T16:15:01.459Z"
   },
   {
    "duration": 28,
    "start_time": "2022-01-24T16:15:01.509Z"
   },
   {
    "duration": 33,
    "start_time": "2022-01-24T16:15:01.539Z"
   },
   {
    "duration": 58,
    "start_time": "2022-01-24T16:15:01.573Z"
   },
   {
    "duration": 11,
    "start_time": "2022-01-24T16:15:01.632Z"
   },
   {
    "duration": 21,
    "start_time": "2022-01-24T16:15:01.644Z"
   },
   {
    "duration": 9,
    "start_time": "2022-01-24T16:15:01.667Z"
   },
   {
    "duration": 10,
    "start_time": "2022-01-24T16:15:01.678Z"
   },
   {
    "duration": 38,
    "start_time": "2022-01-24T16:15:01.690Z"
   },
   {
    "duration": 10,
    "start_time": "2022-01-24T16:15:01.731Z"
   },
   {
    "duration": 15,
    "start_time": "2022-01-24T16:15:01.743Z"
   },
   {
    "duration": 10,
    "start_time": "2022-01-24T16:15:01.760Z"
   },
   {
    "duration": 9,
    "start_time": "2022-01-24T16:15:01.772Z"
   },
   {
    "duration": 25,
    "start_time": "2022-01-24T16:15:01.783Z"
   },
   {
    "duration": 11,
    "start_time": "2022-01-24T16:15:01.810Z"
   },
   {
    "duration": 14,
    "start_time": "2022-01-24T16:15:01.822Z"
   },
   {
    "duration": 18,
    "start_time": "2022-01-24T16:15:01.838Z"
   },
   {
    "duration": 13,
    "start_time": "2022-01-24T16:15:01.857Z"
   },
   {
    "duration": 13,
    "start_time": "2022-01-24T16:15:01.871Z"
   },
   {
    "duration": 142,
    "start_time": "2022-01-24T16:15:01.885Z"
   },
   {
    "duration": 97,
    "start_time": "2022-01-24T16:15:02.030Z"
   },
   {
    "duration": 15,
    "start_time": "2022-01-24T16:15:02.129Z"
   },
   {
    "duration": 103,
    "start_time": "2022-01-24T16:15:02.228Z"
   },
   {
    "duration": 14,
    "start_time": "2022-01-24T16:15:02.333Z"
   },
   {
    "duration": 103,
    "start_time": "2022-01-24T16:15:02.428Z"
   },
   {
    "duration": 4,
    "start_time": "2022-01-24T16:15:02.533Z"
   },
   {
    "duration": 7,
    "start_time": "2022-01-24T16:15:02.538Z"
   },
   {
    "duration": 8,
    "start_time": "2022-01-24T16:15:02.546Z"
   },
   {
    "duration": 8,
    "start_time": "2022-01-24T16:15:02.555Z"
   },
   {
    "duration": 7,
    "start_time": "2022-01-24T16:15:02.564Z"
   },
   {
    "duration": 5,
    "start_time": "2022-01-24T16:15:02.572Z"
   },
   {
    "duration": 3096,
    "start_time": "2022-01-24T16:15:02.578Z"
   },
   {
    "duration": -1402,
    "start_time": "2022-01-24T16:15:07.077Z"
   },
   {
    "duration": -1403,
    "start_time": "2022-01-24T16:15:07.079Z"
   },
   {
    "duration": -1405,
    "start_time": "2022-01-24T16:15:07.082Z"
   },
   {
    "duration": -1407,
    "start_time": "2022-01-24T16:15:07.085Z"
   },
   {
    "duration": 3,
    "start_time": "2022-01-24T16:16:16.143Z"
   },
   {
    "duration": 330,
    "start_time": "2022-01-24T16:16:16.147Z"
   },
   {
    "duration": 8,
    "start_time": "2022-01-24T16:16:16.479Z"
   },
   {
    "duration": 7,
    "start_time": "2022-01-24T16:16:16.489Z"
   },
   {
    "duration": 9,
    "start_time": "2022-01-24T16:16:16.497Z"
   },
   {
    "duration": 23,
    "start_time": "2022-01-24T16:16:16.508Z"
   },
   {
    "duration": 10,
    "start_time": "2022-01-24T16:16:16.532Z"
   },
   {
    "duration": 6,
    "start_time": "2022-01-24T16:16:16.544Z"
   },
   {
    "duration": 33,
    "start_time": "2022-01-24T16:16:16.552Z"
   },
   {
    "duration": 68,
    "start_time": "2022-01-24T16:16:16.587Z"
   },
   {
    "duration": 14,
    "start_time": "2022-01-24T16:16:16.656Z"
   },
   {
    "duration": 56,
    "start_time": "2022-01-24T16:16:16.672Z"
   },
   {
    "duration": 36,
    "start_time": "2022-01-24T16:16:16.730Z"
   },
   {
    "duration": 10,
    "start_time": "2022-01-24T16:16:16.768Z"
   },
   {
    "duration": 9,
    "start_time": "2022-01-24T16:16:16.780Z"
   },
   {
    "duration": 43,
    "start_time": "2022-01-24T16:16:16.791Z"
   },
   {
    "duration": 10,
    "start_time": "2022-01-24T16:16:16.835Z"
   },
   {
    "duration": 11,
    "start_time": "2022-01-24T16:16:16.846Z"
   },
   {
    "duration": 11,
    "start_time": "2022-01-24T16:16:16.858Z"
   },
   {
    "duration": 7,
    "start_time": "2022-01-24T16:16:16.870Z"
   },
   {
    "duration": 6,
    "start_time": "2022-01-24T16:16:16.878Z"
   },
   {
    "duration": 42,
    "start_time": "2022-01-24T16:16:16.885Z"
   },
   {
    "duration": 11,
    "start_time": "2022-01-24T16:16:16.929Z"
   },
   {
    "duration": 10,
    "start_time": "2022-01-24T16:16:16.942Z"
   },
   {
    "duration": 10,
    "start_time": "2022-01-24T16:16:16.954Z"
   },
   {
    "duration": 19,
    "start_time": "2022-01-24T16:16:16.966Z"
   },
   {
    "duration": 47,
    "start_time": "2022-01-24T16:16:16.988Z"
   },
   {
    "duration": 12,
    "start_time": "2022-01-24T16:16:17.037Z"
   },
   {
    "duration": 78,
    "start_time": "2022-01-24T16:16:17.050Z"
   },
   {
    "duration": 8,
    "start_time": "2022-01-24T16:16:17.129Z"
   },
   {
    "duration": 105,
    "start_time": "2022-01-24T16:16:17.139Z"
   },
   {
    "duration": 83,
    "start_time": "2022-01-24T16:16:17.246Z"
   },
   {
    "duration": 111,
    "start_time": "2022-01-24T16:16:17.332Z"
   },
   {
    "duration": 84,
    "start_time": "2022-01-24T16:16:17.445Z"
   },
   {
    "duration": 101,
    "start_time": "2022-01-24T16:16:17.532Z"
   },
   {
    "duration": 6,
    "start_time": "2022-01-24T16:16:17.635Z"
   },
   {
    "duration": 6,
    "start_time": "2022-01-24T16:16:17.643Z"
   },
   {
    "duration": 5,
    "start_time": "2022-01-24T16:16:17.650Z"
   },
   {
    "duration": 3,
    "start_time": "2022-01-24T16:16:17.657Z"
   },
   {
    "duration": 6,
    "start_time": "2022-01-24T16:16:17.662Z"
   },
   {
    "duration": 3009,
    "start_time": "2022-01-24T16:16:17.670Z"
   },
   {
    "duration": -1395,
    "start_time": "2022-01-24T16:16:22.076Z"
   },
   {
    "duration": -1396,
    "start_time": "2022-01-24T16:16:22.078Z"
   },
   {
    "duration": -1398,
    "start_time": "2022-01-24T16:16:22.080Z"
   },
   {
    "duration": -1399,
    "start_time": "2022-01-24T16:16:22.082Z"
   },
   {
    "duration": 3,
    "start_time": "2022-01-24T16:16:57.671Z"
   },
   {
    "duration": 353,
    "start_time": "2022-01-24T16:16:57.676Z"
   },
   {
    "duration": 10,
    "start_time": "2022-01-24T16:16:58.031Z"
   },
   {
    "duration": 11,
    "start_time": "2022-01-24T16:16:58.043Z"
   },
   {
    "duration": 17,
    "start_time": "2022-01-24T16:16:58.056Z"
   },
   {
    "duration": 17,
    "start_time": "2022-01-24T16:16:58.074Z"
   },
   {
    "duration": 15,
    "start_time": "2022-01-24T16:16:58.093Z"
   },
   {
    "duration": 19,
    "start_time": "2022-01-24T16:16:58.109Z"
   },
   {
    "duration": 42,
    "start_time": "2022-01-24T16:16:58.130Z"
   },
   {
    "duration": 65,
    "start_time": "2022-01-24T16:16:58.174Z"
   },
   {
    "duration": 15,
    "start_time": "2022-01-24T16:16:58.241Z"
   },
   {
    "duration": 37,
    "start_time": "2022-01-24T16:16:58.257Z"
   },
   {
    "duration": 56,
    "start_time": "2022-01-24T16:16:58.296Z"
   },
   {
    "duration": 10,
    "start_time": "2022-01-24T16:16:58.354Z"
   },
   {
    "duration": 23,
    "start_time": "2022-01-24T16:16:58.366Z"
   },
   {
    "duration": 24,
    "start_time": "2022-01-24T16:16:58.391Z"
   },
   {
    "duration": 20,
    "start_time": "2022-01-24T16:16:58.427Z"
   },
   {
    "duration": 22,
    "start_time": "2022-01-24T16:16:58.449Z"
   },
   {
    "duration": 34,
    "start_time": "2022-01-24T16:16:58.472Z"
   },
   {
    "duration": 13,
    "start_time": "2022-01-24T16:16:58.508Z"
   },
   {
    "duration": 14,
    "start_time": "2022-01-24T16:16:58.523Z"
   },
   {
    "duration": 28,
    "start_time": "2022-01-24T16:16:58.538Z"
   },
   {
    "duration": 23,
    "start_time": "2022-01-24T16:16:58.568Z"
   },
   {
    "duration": 21,
    "start_time": "2022-01-24T16:16:58.593Z"
   },
   {
    "duration": 20,
    "start_time": "2022-01-24T16:16:58.615Z"
   },
   {
    "duration": 25,
    "start_time": "2022-01-24T16:16:58.637Z"
   },
   {
    "duration": 12,
    "start_time": "2022-01-24T16:16:58.666Z"
   },
   {
    "duration": 13,
    "start_time": "2022-01-24T16:16:58.680Z"
   },
   {
    "duration": 133,
    "start_time": "2022-01-24T16:16:58.694Z"
   },
   {
    "duration": 105,
    "start_time": "2022-01-24T16:16:58.830Z"
   },
   {
    "duration": 24,
    "start_time": "2022-01-24T16:16:58.937Z"
   },
   {
    "duration": 168,
    "start_time": "2022-01-24T16:16:58.963Z"
   },
   {
    "duration": 52,
    "start_time": "2022-01-24T16:16:59.133Z"
   },
   {
    "duration": 106,
    "start_time": "2022-01-24T16:16:59.231Z"
   },
   {
    "duration": 16,
    "start_time": "2022-01-24T16:16:59.339Z"
   },
   {
    "duration": 22,
    "start_time": "2022-01-24T16:16:59.357Z"
   },
   {
    "duration": 22,
    "start_time": "2022-01-24T16:16:59.381Z"
   },
   {
    "duration": 25,
    "start_time": "2022-01-24T16:16:59.405Z"
   },
   {
    "duration": 8,
    "start_time": "2022-01-24T16:16:59.432Z"
   },
   {
    "duration": 22,
    "start_time": "2022-01-24T16:16:59.441Z"
   },
   {
    "duration": 3055,
    "start_time": "2022-01-24T16:16:59.464Z"
   },
   {
    "duration": -1496,
    "start_time": "2022-01-24T16:17:04.016Z"
   },
   {
    "duration": -1498,
    "start_time": "2022-01-24T16:17:04.019Z"
   },
   {
    "duration": -1499,
    "start_time": "2022-01-24T16:17:04.021Z"
   },
   {
    "duration": -1505,
    "start_time": "2022-01-24T16:17:04.028Z"
   },
   {
    "duration": 3,
    "start_time": "2022-01-24T16:17:21.883Z"
   },
   {
    "duration": 344,
    "start_time": "2022-01-24T16:17:21.888Z"
   },
   {
    "duration": 9,
    "start_time": "2022-01-24T16:17:22.233Z"
   },
   {
    "duration": 7,
    "start_time": "2022-01-24T16:17:22.244Z"
   },
   {
    "duration": 11,
    "start_time": "2022-01-24T16:17:22.252Z"
   },
   {
    "duration": 8,
    "start_time": "2022-01-24T16:17:22.264Z"
   },
   {
    "duration": 10,
    "start_time": "2022-01-24T16:17:22.274Z"
   },
   {
    "duration": 6,
    "start_time": "2022-01-24T16:17:22.286Z"
   },
   {
    "duration": 66,
    "start_time": "2022-01-24T16:17:22.295Z"
   },
   {
    "duration": 65,
    "start_time": "2022-01-24T16:17:22.363Z"
   },
   {
    "duration": 15,
    "start_time": "2022-01-24T16:17:22.430Z"
   },
   {
    "duration": 36,
    "start_time": "2022-01-24T16:17:22.446Z"
   },
   {
    "duration": 58,
    "start_time": "2022-01-24T16:17:22.484Z"
   },
   {
    "duration": 10,
    "start_time": "2022-01-24T16:17:22.543Z"
   },
   {
    "duration": 9,
    "start_time": "2022-01-24T16:17:22.554Z"
   },
   {
    "duration": 9,
    "start_time": "2022-01-24T16:17:22.564Z"
   },
   {
    "duration": 9,
    "start_time": "2022-01-24T16:17:22.575Z"
   },
   {
    "duration": 45,
    "start_time": "2022-01-24T16:17:22.585Z"
   },
   {
    "duration": 9,
    "start_time": "2022-01-24T16:17:22.631Z"
   },
   {
    "duration": 7,
    "start_time": "2022-01-24T16:17:22.642Z"
   },
   {
    "duration": 6,
    "start_time": "2022-01-24T16:17:22.651Z"
   },
   {
    "duration": 11,
    "start_time": "2022-01-24T16:17:22.659Z"
   },
   {
    "duration": 13,
    "start_time": "2022-01-24T16:17:22.672Z"
   },
   {
    "duration": 9,
    "start_time": "2022-01-24T16:17:22.687Z"
   },
   {
    "duration": 30,
    "start_time": "2022-01-24T16:17:22.698Z"
   },
   {
    "duration": 18,
    "start_time": "2022-01-24T16:17:22.730Z"
   },
   {
    "duration": 13,
    "start_time": "2022-01-24T16:17:22.751Z"
   },
   {
    "duration": 14,
    "start_time": "2022-01-24T16:17:22.765Z"
   },
   {
    "duration": 145,
    "start_time": "2022-01-24T16:17:22.781Z"
   },
   {
    "duration": 5,
    "start_time": "2022-01-24T16:17:22.928Z"
   },
   {
    "duration": 16,
    "start_time": "2022-01-24T16:17:22.935Z"
   },
   {
    "duration": 101,
    "start_time": "2022-01-24T16:17:23.027Z"
   },
   {
    "duration": 13,
    "start_time": "2022-01-24T16:17:23.130Z"
   },
   {
    "duration": 89,
    "start_time": "2022-01-24T16:17:23.144Z"
   },
   {
    "duration": 99,
    "start_time": "2022-01-24T16:17:23.235Z"
   },
   {
    "duration": 4,
    "start_time": "2022-01-24T16:17:23.336Z"
   },
   {
    "duration": 7,
    "start_time": "2022-01-24T16:17:23.341Z"
   },
   {
    "duration": 5,
    "start_time": "2022-01-24T16:17:23.349Z"
   },
   {
    "duration": 3,
    "start_time": "2022-01-24T16:17:23.356Z"
   },
   {
    "duration": 6,
    "start_time": "2022-01-24T16:17:23.361Z"
   },
   {
    "duration": 3076,
    "start_time": "2022-01-24T16:17:23.369Z"
   },
   {
    "duration": -1394,
    "start_time": "2022-01-24T16:17:27.841Z"
   },
   {
    "duration": -1399,
    "start_time": "2022-01-24T16:17:27.846Z"
   },
   {
    "duration": -1400,
    "start_time": "2022-01-24T16:17:27.848Z"
   },
   {
    "duration": -1401,
    "start_time": "2022-01-24T16:17:27.850Z"
   },
   {
    "duration": 3,
    "start_time": "2022-01-24T16:18:50.792Z"
   },
   {
    "duration": 339,
    "start_time": "2022-01-24T16:18:50.797Z"
   },
   {
    "duration": 10,
    "start_time": "2022-01-24T16:18:51.138Z"
   },
   {
    "duration": 7,
    "start_time": "2022-01-24T16:18:51.150Z"
   },
   {
    "duration": 10,
    "start_time": "2022-01-24T16:18:51.159Z"
   },
   {
    "duration": 6,
    "start_time": "2022-01-24T16:18:51.171Z"
   },
   {
    "duration": 10,
    "start_time": "2022-01-24T16:18:51.179Z"
   },
   {
    "duration": 37,
    "start_time": "2022-01-24T16:18:51.191Z"
   },
   {
    "duration": 32,
    "start_time": "2022-01-24T16:18:51.230Z"
   },
   {
    "duration": 64,
    "start_time": "2022-01-24T16:18:51.264Z"
   },
   {
    "duration": 13,
    "start_time": "2022-01-24T16:18:51.329Z"
   },
   {
    "duration": 33,
    "start_time": "2022-01-24T16:18:51.343Z"
   },
   {
    "duration": 50,
    "start_time": "2022-01-24T16:18:51.378Z"
   },
   {
    "duration": 10,
    "start_time": "2022-01-24T16:18:51.429Z"
   },
   {
    "duration": 9,
    "start_time": "2022-01-24T16:18:51.440Z"
   },
   {
    "duration": 9,
    "start_time": "2022-01-24T16:18:51.451Z"
   },
   {
    "duration": 10,
    "start_time": "2022-01-24T16:18:51.461Z"
   },
   {
    "duration": 10,
    "start_time": "2022-01-24T16:18:51.472Z"
   },
   {
    "duration": 47,
    "start_time": "2022-01-24T16:18:51.484Z"
   },
   {
    "duration": 5,
    "start_time": "2022-01-24T16:18:51.533Z"
   },
   {
    "duration": 6,
    "start_time": "2022-01-24T16:18:51.539Z"
   },
   {
    "duration": 9,
    "start_time": "2022-01-24T16:18:51.547Z"
   },
   {
    "duration": 21,
    "start_time": "2022-01-24T16:18:51.557Z"
   },
   {
    "duration": 12,
    "start_time": "2022-01-24T16:18:51.580Z"
   },
   {
    "duration": 39,
    "start_time": "2022-01-24T16:18:51.594Z"
   },
   {
    "duration": 18,
    "start_time": "2022-01-24T16:18:51.635Z"
   },
   {
    "duration": 13,
    "start_time": "2022-01-24T16:18:51.656Z"
   },
   {
    "duration": 13,
    "start_time": "2022-01-24T16:18:51.671Z"
   },
   {
    "duration": 144,
    "start_time": "2022-01-24T16:18:51.686Z"
   },
   {
    "duration": 99,
    "start_time": "2022-01-24T16:18:51.832Z"
   },
   {
    "duration": 16,
    "start_time": "2022-01-24T16:18:51.933Z"
   },
   {
    "duration": 100,
    "start_time": "2022-01-24T16:18:52.028Z"
   },
   {
    "duration": 99,
    "start_time": "2022-01-24T16:18:52.130Z"
   },
   {
    "duration": 97,
    "start_time": "2022-01-24T16:18:52.231Z"
   },
   {
    "duration": 8,
    "start_time": "2022-01-24T16:18:52.330Z"
   },
   {
    "duration": 5,
    "start_time": "2022-01-24T16:18:52.339Z"
   },
   {
    "duration": 6,
    "start_time": "2022-01-24T16:18:52.346Z"
   },
   {
    "duration": 4,
    "start_time": "2022-01-24T16:18:52.354Z"
   },
   {
    "duration": 4,
    "start_time": "2022-01-24T16:18:52.360Z"
   },
   {
    "duration": 5,
    "start_time": "2022-01-24T16:18:52.365Z"
   },
   {
    "duration": 2553,
    "start_time": "2022-01-24T16:18:52.371Z"
   },
   {
    "duration": 4,
    "start_time": "2022-01-24T16:18:54.927Z"
   },
   {
    "duration": 6,
    "start_time": "2022-01-24T16:18:54.932Z"
   },
   {
    "duration": 7,
    "start_time": "2022-01-24T16:18:54.939Z"
   },
   {
    "duration": 11,
    "start_time": "2022-01-24T16:18:54.948Z"
   },
   {
    "duration": 3,
    "start_time": "2022-01-24T16:19:53.616Z"
   },
   {
    "duration": 346,
    "start_time": "2022-01-24T16:19:53.620Z"
   },
   {
    "duration": 9,
    "start_time": "2022-01-24T16:19:53.968Z"
   },
   {
    "duration": 7,
    "start_time": "2022-01-24T16:19:53.979Z"
   },
   {
    "duration": 14,
    "start_time": "2022-01-24T16:19:53.987Z"
   },
   {
    "duration": 6,
    "start_time": "2022-01-24T16:19:54.003Z"
   },
   {
    "duration": 23,
    "start_time": "2022-01-24T16:19:54.011Z"
   },
   {
    "duration": 7,
    "start_time": "2022-01-24T16:19:54.037Z"
   },
   {
    "duration": 38,
    "start_time": "2022-01-24T16:19:54.046Z"
   },
   {
    "duration": 74,
    "start_time": "2022-01-24T16:19:54.085Z"
   },
   {
    "duration": 12,
    "start_time": "2022-01-24T16:19:54.161Z"
   },
   {
    "duration": 60,
    "start_time": "2022-01-24T16:19:54.175Z"
   },
   {
    "duration": 50,
    "start_time": "2022-01-24T16:19:54.236Z"
   },
   {
    "duration": 12,
    "start_time": "2022-01-24T16:19:54.288Z"
   },
   {
    "duration": 35,
    "start_time": "2022-01-24T16:19:54.302Z"
   },
   {
    "duration": 12,
    "start_time": "2022-01-24T16:19:54.339Z"
   },
   {
    "duration": 12,
    "start_time": "2022-01-24T16:19:54.353Z"
   },
   {
    "duration": 12,
    "start_time": "2022-01-24T16:19:54.367Z"
   },
   {
    "duration": 47,
    "start_time": "2022-01-24T16:19:54.381Z"
   },
   {
    "duration": 4,
    "start_time": "2022-01-24T16:19:54.430Z"
   },
   {
    "duration": 7,
    "start_time": "2022-01-24T16:19:54.435Z"
   },
   {
    "duration": 7,
    "start_time": "2022-01-24T16:19:54.443Z"
   },
   {
    "duration": 11,
    "start_time": "2022-01-24T16:19:54.453Z"
   },
   {
    "duration": 11,
    "start_time": "2022-01-24T16:19:54.466Z"
   },
   {
    "duration": 11,
    "start_time": "2022-01-24T16:19:54.478Z"
   },
   {
    "duration": 53,
    "start_time": "2022-01-24T16:19:54.491Z"
   },
   {
    "duration": 15,
    "start_time": "2022-01-24T16:19:54.546Z"
   },
   {
    "duration": 14,
    "start_time": "2022-01-24T16:19:54.562Z"
   },
   {
    "duration": 59,
    "start_time": "2022-01-24T16:19:54.578Z"
   },
   {
    "duration": 91,
    "start_time": "2022-01-24T16:19:54.639Z"
   },
   {
    "duration": 15,
    "start_time": "2022-01-24T16:19:54.731Z"
   },
   {
    "duration": 104,
    "start_time": "2022-01-24T16:19:54.827Z"
   },
   {
    "duration": 15,
    "start_time": "2022-01-24T16:19:54.933Z"
   },
   {
    "duration": 79,
    "start_time": "2022-01-24T16:19:54.950Z"
   },
   {
    "duration": 99,
    "start_time": "2022-01-24T16:19:55.031Z"
   },
   {
    "duration": 5,
    "start_time": "2022-01-24T16:19:55.131Z"
   },
   {
    "duration": 7,
    "start_time": "2022-01-24T16:19:55.137Z"
   },
   {
    "duration": 5,
    "start_time": "2022-01-24T16:19:55.146Z"
   },
   {
    "duration": 3,
    "start_time": "2022-01-24T16:19:55.153Z"
   },
   {
    "duration": 5,
    "start_time": "2022-01-24T16:19:55.158Z"
   },
   {
    "duration": 3015,
    "start_time": "2022-01-24T16:19:55.164Z"
   },
   {
    "duration": -1395,
    "start_time": "2022-01-24T16:19:59.575Z"
   },
   {
    "duration": -1396,
    "start_time": "2022-01-24T16:19:59.577Z"
   },
   {
    "duration": -1397,
    "start_time": "2022-01-24T16:19:59.579Z"
   },
   {
    "duration": -1398,
    "start_time": "2022-01-24T16:19:59.581Z"
   },
   {
    "duration": 3,
    "start_time": "2022-01-24T16:20:39.896Z"
   },
   {
    "duration": 330,
    "start_time": "2022-01-24T16:20:39.901Z"
   },
   {
    "duration": 10,
    "start_time": "2022-01-24T16:20:40.232Z"
   },
   {
    "duration": 14,
    "start_time": "2022-01-24T16:20:40.243Z"
   },
   {
    "duration": 14,
    "start_time": "2022-01-24T16:20:40.258Z"
   },
   {
    "duration": 10,
    "start_time": "2022-01-24T16:20:40.273Z"
   },
   {
    "duration": 10,
    "start_time": "2022-01-24T16:20:40.285Z"
   },
   {
    "duration": 6,
    "start_time": "2022-01-24T16:20:40.297Z"
   },
   {
    "duration": 54,
    "start_time": "2022-01-24T16:20:40.304Z"
   },
   {
    "duration": 77,
    "start_time": "2022-01-24T16:20:40.360Z"
   },
   {
    "duration": 12,
    "start_time": "2022-01-24T16:20:40.438Z"
   },
   {
    "duration": 45,
    "start_time": "2022-01-24T16:20:40.452Z"
   },
   {
    "duration": 53,
    "start_time": "2022-01-24T16:20:40.498Z"
   },
   {
    "duration": 10,
    "start_time": "2022-01-24T16:20:40.552Z"
   },
   {
    "duration": 9,
    "start_time": "2022-01-24T16:20:40.563Z"
   },
   {
    "duration": 10,
    "start_time": "2022-01-24T16:20:40.573Z"
   },
   {
    "duration": 9,
    "start_time": "2022-01-24T16:20:40.585Z"
   },
   {
    "duration": 9,
    "start_time": "2022-01-24T16:20:40.628Z"
   },
   {
    "duration": 12,
    "start_time": "2022-01-24T16:20:40.638Z"
   },
   {
    "duration": 5,
    "start_time": "2022-01-24T16:20:40.652Z"
   },
   {
    "duration": 7,
    "start_time": "2022-01-24T16:20:40.659Z"
   },
   {
    "duration": 5,
    "start_time": "2022-01-24T16:20:40.668Z"
   },
   {
    "duration": 13,
    "start_time": "2022-01-24T16:20:40.675Z"
   },
   {
    "duration": 39,
    "start_time": "2022-01-24T16:20:40.689Z"
   },
   {
    "duration": 11,
    "start_time": "2022-01-24T16:20:40.729Z"
   },
   {
    "duration": 18,
    "start_time": "2022-01-24T16:20:40.741Z"
   },
   {
    "duration": 12,
    "start_time": "2022-01-24T16:20:40.761Z"
   },
   {
    "duration": 12,
    "start_time": "2022-01-24T16:20:40.775Z"
   },
   {
    "duration": 141,
    "start_time": "2022-01-24T16:20:40.788Z"
   },
   {
    "duration": 7,
    "start_time": "2022-01-24T16:20:40.931Z"
   },
   {
    "duration": 29,
    "start_time": "2022-01-24T16:20:41.026Z"
   },
   {
    "duration": 174,
    "start_time": "2022-01-24T16:20:41.057Z"
   },
   {
    "duration": 30,
    "start_time": "2022-01-24T16:20:41.233Z"
   },
   {
    "duration": 163,
    "start_time": "2022-01-24T16:20:41.267Z"
   },
   {
    "duration": 35,
    "start_time": "2022-01-24T16:20:41.432Z"
   },
   {
    "duration": 28,
    "start_time": "2022-01-24T16:20:41.469Z"
   },
   {
    "duration": 51,
    "start_time": "2022-01-24T16:20:41.498Z"
   },
   {
    "duration": 26,
    "start_time": "2022-01-24T16:20:41.550Z"
   },
   {
    "duration": 30,
    "start_time": "2022-01-24T16:20:41.577Z"
   },
   {
    "duration": 23,
    "start_time": "2022-01-24T16:20:41.609Z"
   },
   {
    "duration": 2992,
    "start_time": "2022-01-24T16:20:41.634Z"
   },
   {
    "duration": -1398,
    "start_time": "2022-01-24T16:20:46.025Z"
   },
   {
    "duration": -1399,
    "start_time": "2022-01-24T16:20:46.027Z"
   },
   {
    "duration": -1400,
    "start_time": "2022-01-24T16:20:46.029Z"
   },
   {
    "duration": -1401,
    "start_time": "2022-01-24T16:20:46.031Z"
   },
   {
    "duration": 3,
    "start_time": "2022-01-24T16:20:52.435Z"
   },
   {
    "duration": 342,
    "start_time": "2022-01-24T16:20:52.440Z"
   },
   {
    "duration": 9,
    "start_time": "2022-01-24T16:20:52.784Z"
   },
   {
    "duration": 7,
    "start_time": "2022-01-24T16:20:52.796Z"
   },
   {
    "duration": 30,
    "start_time": "2022-01-24T16:20:52.805Z"
   },
   {
    "duration": 9,
    "start_time": "2022-01-24T16:20:52.837Z"
   },
   {
    "duration": 11,
    "start_time": "2022-01-24T16:20:52.848Z"
   },
   {
    "duration": 7,
    "start_time": "2022-01-24T16:20:52.863Z"
   },
   {
    "duration": 83,
    "start_time": "2022-01-24T16:20:52.872Z"
   },
   {
    "duration": 46,
    "start_time": "2022-01-24T16:20:52.957Z"
   },
   {
    "duration": 33,
    "start_time": "2022-01-24T16:20:53.004Z"
   },
   {
    "duration": 33,
    "start_time": "2022-01-24T16:20:53.038Z"
   },
   {
    "duration": 54,
    "start_time": "2022-01-24T16:20:53.073Z"
   },
   {
    "duration": 9,
    "start_time": "2022-01-24T16:20:53.129Z"
   },
   {
    "duration": 9,
    "start_time": "2022-01-24T16:20:53.140Z"
   },
   {
    "duration": 9,
    "start_time": "2022-01-24T16:20:53.150Z"
   },
   {
    "duration": 12,
    "start_time": "2022-01-24T16:20:53.161Z"
   },
   {
    "duration": 12,
    "start_time": "2022-01-24T16:20:53.175Z"
   },
   {
    "duration": 44,
    "start_time": "2022-01-24T16:20:53.189Z"
   },
   {
    "duration": 7,
    "start_time": "2022-01-24T16:20:53.234Z"
   },
   {
    "duration": 7,
    "start_time": "2022-01-24T16:20:53.242Z"
   },
   {
    "duration": 10,
    "start_time": "2022-01-24T16:20:53.250Z"
   },
   {
    "duration": 16,
    "start_time": "2022-01-24T16:20:53.263Z"
   },
   {
    "duration": 12,
    "start_time": "2022-01-24T16:20:53.281Z"
   },
   {
    "duration": 36,
    "start_time": "2022-01-24T16:20:53.295Z"
   },
   {
    "duration": 20,
    "start_time": "2022-01-24T16:20:53.333Z"
   },
   {
    "duration": 13,
    "start_time": "2022-01-24T16:20:53.355Z"
   },
   {
    "duration": 14,
    "start_time": "2022-01-24T16:20:53.370Z"
   },
   {
    "duration": 141,
    "start_time": "2022-01-24T16:20:53.385Z"
   },
   {
    "duration": 7,
    "start_time": "2022-01-24T16:20:53.529Z"
   },
   {
    "duration": 16,
    "start_time": "2022-01-24T16:20:53.628Z"
   },
   {
    "duration": 86,
    "start_time": "2022-01-24T16:20:53.646Z"
   },
   {
    "duration": 101,
    "start_time": "2022-01-24T16:20:53.734Z"
   },
   {
    "duration": 95,
    "start_time": "2022-01-24T16:20:53.837Z"
   },
   {
    "duration": 95,
    "start_time": "2022-01-24T16:20:53.934Z"
   },
   {
    "duration": 6,
    "start_time": "2022-01-24T16:20:54.031Z"
   },
   {
    "duration": 8,
    "start_time": "2022-01-24T16:20:54.038Z"
   },
   {
    "duration": 7,
    "start_time": "2022-01-24T16:20:54.048Z"
   },
   {
    "duration": 3,
    "start_time": "2022-01-24T16:20:54.057Z"
   },
   {
    "duration": 6,
    "start_time": "2022-01-24T16:20:54.062Z"
   },
   {
    "duration": 3310,
    "start_time": "2022-01-24T16:20:54.070Z"
   },
   {
    "duration": -1398,
    "start_time": "2022-01-24T16:20:58.779Z"
   },
   {
    "duration": -1402,
    "start_time": "2022-01-24T16:20:58.784Z"
   },
   {
    "duration": -1403,
    "start_time": "2022-01-24T16:20:58.786Z"
   },
   {
    "duration": -1405,
    "start_time": "2022-01-24T16:20:58.788Z"
   },
   {
    "duration": 3,
    "start_time": "2022-01-24T16:23:06.276Z"
   },
   {
    "duration": 331,
    "start_time": "2022-01-24T16:23:06.281Z"
   },
   {
    "duration": 12,
    "start_time": "2022-01-24T16:23:06.614Z"
   },
   {
    "duration": 7,
    "start_time": "2022-01-24T16:23:06.628Z"
   },
   {
    "duration": 16,
    "start_time": "2022-01-24T16:23:06.636Z"
   },
   {
    "duration": 7,
    "start_time": "2022-01-24T16:23:06.653Z"
   },
   {
    "duration": 11,
    "start_time": "2022-01-24T16:23:06.661Z"
   },
   {
    "duration": 6,
    "start_time": "2022-01-24T16:23:06.673Z"
   },
   {
    "duration": 62,
    "start_time": "2022-01-24T16:23:06.682Z"
   },
   {
    "duration": 43,
    "start_time": "2022-01-24T16:23:06.746Z"
   },
   {
    "duration": 12,
    "start_time": "2022-01-24T16:23:06.790Z"
   },
   {
    "duration": 50,
    "start_time": "2022-01-24T16:23:06.803Z"
   },
   {
    "duration": 33,
    "start_time": "2022-01-24T16:23:06.855Z"
   },
   {
    "duration": 10,
    "start_time": "2022-01-24T16:23:06.890Z"
   },
   {
    "duration": 9,
    "start_time": "2022-01-24T16:23:06.927Z"
   },
   {
    "duration": 9,
    "start_time": "2022-01-24T16:23:06.938Z"
   },
   {
    "duration": 9,
    "start_time": "2022-01-24T16:23:06.948Z"
   },
   {
    "duration": 12,
    "start_time": "2022-01-24T16:23:06.959Z"
   },
   {
    "duration": 13,
    "start_time": "2022-01-24T16:23:06.972Z"
   },
   {
    "duration": 41,
    "start_time": "2022-01-24T16:23:06.986Z"
   },
   {
    "duration": 7,
    "start_time": "2022-01-24T16:23:07.029Z"
   },
   {
    "duration": 7,
    "start_time": "2022-01-24T16:23:07.037Z"
   },
   {
    "duration": 12,
    "start_time": "2022-01-24T16:23:07.045Z"
   },
   {
    "duration": 10,
    "start_time": "2022-01-24T16:23:07.059Z"
   },
   {
    "duration": 10,
    "start_time": "2022-01-24T16:23:07.070Z"
   },
   {
    "duration": 45,
    "start_time": "2022-01-24T16:23:07.082Z"
   },
   {
    "duration": 13,
    "start_time": "2022-01-24T16:23:07.130Z"
   },
   {
    "duration": 12,
    "start_time": "2022-01-24T16:23:07.144Z"
   },
   {
    "duration": 76,
    "start_time": "2022-01-24T16:23:07.157Z"
   },
   {
    "duration": 95,
    "start_time": "2022-01-24T16:23:07.234Z"
   },
   {
    "duration": 13,
    "start_time": "2022-01-24T16:23:07.330Z"
   },
   {
    "duration": 185,
    "start_time": "2022-01-24T16:23:07.344Z"
   },
   {
    "duration": 13,
    "start_time": "2022-01-24T16:23:07.530Z"
   },
   {
    "duration": 86,
    "start_time": "2022-01-24T16:23:07.545Z"
   },
   {
    "duration": 95,
    "start_time": "2022-01-24T16:23:07.633Z"
   },
   {
    "duration": 3,
    "start_time": "2022-01-24T16:23:07.730Z"
   },
   {
    "duration": 14,
    "start_time": "2022-01-24T16:23:07.734Z"
   },
   {
    "duration": 8,
    "start_time": "2022-01-24T16:23:07.749Z"
   },
   {
    "duration": 4,
    "start_time": "2022-01-24T16:23:07.758Z"
   },
   {
    "duration": 113,
    "start_time": "2022-01-24T16:23:07.763Z"
   },
   {
    "duration": -1592,
    "start_time": "2022-01-24T16:23:09.469Z"
   },
   {
    "duration": -1593,
    "start_time": "2022-01-24T16:23:09.471Z"
   },
   {
    "duration": -1594,
    "start_time": "2022-01-24T16:23:09.473Z"
   },
   {
    "duration": -1595,
    "start_time": "2022-01-24T16:23:09.475Z"
   },
   {
    "duration": -1600,
    "start_time": "2022-01-24T16:23:09.481Z"
   },
   {
    "duration": 3,
    "start_time": "2022-01-24T16:24:05.156Z"
   },
   {
    "duration": 329,
    "start_time": "2022-01-24T16:24:05.160Z"
   },
   {
    "duration": 9,
    "start_time": "2022-01-24T16:24:05.491Z"
   },
   {
    "duration": 7,
    "start_time": "2022-01-24T16:24:05.502Z"
   },
   {
    "duration": 19,
    "start_time": "2022-01-24T16:24:05.510Z"
   },
   {
    "duration": 7,
    "start_time": "2022-01-24T16:24:05.530Z"
   },
   {
    "duration": 12,
    "start_time": "2022-01-24T16:24:05.538Z"
   },
   {
    "duration": 6,
    "start_time": "2022-01-24T16:24:05.551Z"
   },
   {
    "duration": 36,
    "start_time": "2022-01-24T16:24:05.560Z"
   },
   {
    "duration": 67,
    "start_time": "2022-01-24T16:24:05.598Z"
   },
   {
    "duration": 12,
    "start_time": "2022-01-24T16:24:05.667Z"
   },
   {
    "duration": 58,
    "start_time": "2022-01-24T16:24:05.680Z"
   },
   {
    "duration": 34,
    "start_time": "2022-01-24T16:24:05.739Z"
   },
   {
    "duration": 9,
    "start_time": "2022-01-24T16:24:05.775Z"
   },
   {
    "duration": 9,
    "start_time": "2022-01-24T16:24:05.786Z"
   },
   {
    "duration": 34,
    "start_time": "2022-01-24T16:24:05.796Z"
   },
   {
    "duration": 10,
    "start_time": "2022-01-24T16:24:05.831Z"
   },
   {
    "duration": 12,
    "start_time": "2022-01-24T16:24:05.842Z"
   },
   {
    "duration": 9,
    "start_time": "2022-01-24T16:24:05.855Z"
   },
   {
    "duration": 7,
    "start_time": "2022-01-24T16:24:05.865Z"
   },
   {
    "duration": 6,
    "start_time": "2022-01-24T16:24:05.873Z"
   },
   {
    "duration": 5,
    "start_time": "2022-01-24T16:24:05.881Z"
   },
   {
    "duration": 45,
    "start_time": "2022-01-24T16:24:05.888Z"
   },
   {
    "duration": 10,
    "start_time": "2022-01-24T16:24:05.935Z"
   },
   {
    "duration": 10,
    "start_time": "2022-01-24T16:24:05.947Z"
   },
   {
    "duration": 19,
    "start_time": "2022-01-24T16:24:05.958Z"
   },
   {
    "duration": 51,
    "start_time": "2022-01-24T16:24:05.979Z"
   },
   {
    "duration": 13,
    "start_time": "2022-01-24T16:24:06.031Z"
   },
   {
    "duration": 84,
    "start_time": "2022-01-24T16:24:06.046Z"
   },
   {
    "duration": 96,
    "start_time": "2022-01-24T16:24:06.133Z"
   },
   {
    "duration": 16,
    "start_time": "2022-01-24T16:24:06.230Z"
   },
   {
    "duration": 180,
    "start_time": "2022-01-24T16:24:06.247Z"
   },
   {
    "duration": 14,
    "start_time": "2022-01-24T16:24:06.429Z"
   },
   {
    "duration": 186,
    "start_time": "2022-01-24T16:24:06.445Z"
   },
   {
    "duration": 3,
    "start_time": "2022-01-24T16:24:06.633Z"
   },
   {
    "duration": 6,
    "start_time": "2022-01-24T16:24:06.638Z"
   },
   {
    "duration": 7,
    "start_time": "2022-01-24T16:24:06.645Z"
   },
   {
    "duration": 5,
    "start_time": "2022-01-24T16:24:06.654Z"
   },
   {
    "duration": 5,
    "start_time": "2022-01-24T16:24:06.660Z"
   },
   {
    "duration": 6,
    "start_time": "2022-01-24T16:24:06.667Z"
   },
   {
    "duration": 3229,
    "start_time": "2022-01-24T16:24:06.675Z"
   },
   {
    "duration": -1404,
    "start_time": "2022-01-24T16:24:11.310Z"
   },
   {
    "duration": -1405,
    "start_time": "2022-01-24T16:24:11.312Z"
   },
   {
    "duration": -1407,
    "start_time": "2022-01-24T16:24:11.315Z"
   },
   {
    "duration": -1408,
    "start_time": "2022-01-24T16:24:11.317Z"
   },
   {
    "duration": 3,
    "start_time": "2022-01-24T16:24:19.191Z"
   },
   {
    "duration": 347,
    "start_time": "2022-01-24T16:24:19.196Z"
   },
   {
    "duration": 10,
    "start_time": "2022-01-24T16:24:19.545Z"
   },
   {
    "duration": 7,
    "start_time": "2022-01-24T16:24:19.557Z"
   },
   {
    "duration": 10,
    "start_time": "2022-01-24T16:24:19.565Z"
   },
   {
    "duration": 7,
    "start_time": "2022-01-24T16:24:19.576Z"
   },
   {
    "duration": 9,
    "start_time": "2022-01-24T16:24:19.585Z"
   },
   {
    "duration": 36,
    "start_time": "2022-01-24T16:24:19.596Z"
   },
   {
    "duration": 34,
    "start_time": "2022-01-24T16:24:19.635Z"
   },
   {
    "duration": 72,
    "start_time": "2022-01-24T16:24:19.671Z"
   },
   {
    "duration": 19,
    "start_time": "2022-01-24T16:24:19.745Z"
   },
   {
    "duration": 40,
    "start_time": "2022-01-24T16:24:19.765Z"
   },
   {
    "duration": 52,
    "start_time": "2022-01-24T16:24:19.807Z"
   },
   {
    "duration": 11,
    "start_time": "2022-01-24T16:24:19.860Z"
   },
   {
    "duration": 12,
    "start_time": "2022-01-24T16:24:19.872Z"
   },
   {
    "duration": 47,
    "start_time": "2022-01-24T16:24:19.885Z"
   },
   {
    "duration": 9,
    "start_time": "2022-01-24T16:24:19.933Z"
   },
   {
    "duration": 11,
    "start_time": "2022-01-24T16:24:19.944Z"
   },
   {
    "duration": 16,
    "start_time": "2022-01-24T16:24:19.956Z"
   },
   {
    "duration": 6,
    "start_time": "2022-01-24T16:24:19.973Z"
   },
   {
    "duration": 7,
    "start_time": "2022-01-24T16:24:19.981Z"
   },
   {
    "duration": 14,
    "start_time": "2022-01-24T16:24:19.990Z"
   },
   {
    "duration": 25,
    "start_time": "2022-01-24T16:24:20.008Z"
   },
   {
    "duration": 11,
    "start_time": "2022-01-24T16:24:20.035Z"
   },
   {
    "duration": 11,
    "start_time": "2022-01-24T16:24:20.048Z"
   },
   {
    "duration": 18,
    "start_time": "2022-01-24T16:24:20.060Z"
   },
   {
    "duration": 13,
    "start_time": "2022-01-24T16:24:20.079Z"
   },
   {
    "duration": 46,
    "start_time": "2022-01-24T16:24:20.093Z"
   },
   {
    "duration": 90,
    "start_time": "2022-01-24T16:24:20.141Z"
   },
   {
    "duration": 97,
    "start_time": "2022-01-24T16:24:20.232Z"
   },
   {
    "duration": 97,
    "start_time": "2022-01-24T16:24:20.330Z"
   },
   {
    "duration": 101,
    "start_time": "2022-01-24T16:24:20.430Z"
   },
   {
    "duration": 25,
    "start_time": "2022-01-24T16:24:20.533Z"
   },
   {
    "duration": 171,
    "start_time": "2022-01-24T16:24:20.560Z"
   },
   {
    "duration": 7,
    "start_time": "2022-01-24T16:24:20.733Z"
   },
   {
    "duration": 12,
    "start_time": "2022-01-24T16:24:20.741Z"
   },
   {
    "duration": 14,
    "start_time": "2022-01-24T16:24:20.755Z"
   },
   {
    "duration": 11,
    "start_time": "2022-01-24T16:24:20.770Z"
   },
   {
    "duration": 15,
    "start_time": "2022-01-24T16:24:20.782Z"
   },
   {
    "duration": 10,
    "start_time": "2022-01-24T16:24:20.799Z"
   },
   {
    "duration": 3068,
    "start_time": "2022-01-24T16:24:20.811Z"
   },
   {
    "duration": -1456,
    "start_time": "2022-01-24T16:24:25.337Z"
   },
   {
    "duration": -1462,
    "start_time": "2022-01-24T16:24:25.344Z"
   },
   {
    "duration": -1463,
    "start_time": "2022-01-24T16:24:25.346Z"
   },
   {
    "duration": -1464,
    "start_time": "2022-01-24T16:24:25.348Z"
   },
   {
    "duration": 3,
    "start_time": "2022-01-24T16:25:54.608Z"
   },
   {
    "duration": 337,
    "start_time": "2022-01-24T16:25:54.613Z"
   },
   {
    "duration": 9,
    "start_time": "2022-01-24T16:25:54.951Z"
   },
   {
    "duration": 7,
    "start_time": "2022-01-24T16:25:54.962Z"
   },
   {
    "duration": 11,
    "start_time": "2022-01-24T16:25:54.971Z"
   },
   {
    "duration": 8,
    "start_time": "2022-01-24T16:25:54.984Z"
   },
   {
    "duration": 9,
    "start_time": "2022-01-24T16:25:55.027Z"
   },
   {
    "duration": 7,
    "start_time": "2022-01-24T16:25:55.039Z"
   },
   {
    "duration": 37,
    "start_time": "2022-01-24T16:25:55.048Z"
   },
   {
    "duration": 74,
    "start_time": "2022-01-24T16:25:55.086Z"
   },
   {
    "duration": 12,
    "start_time": "2022-01-24T16:25:55.162Z"
   },
   {
    "duration": 55,
    "start_time": "2022-01-24T16:25:55.176Z"
   },
   {
    "duration": 35,
    "start_time": "2022-01-24T16:25:55.232Z"
   },
   {
    "duration": 10,
    "start_time": "2022-01-24T16:25:55.268Z"
   },
   {
    "duration": 9,
    "start_time": "2022-01-24T16:25:55.280Z"
   },
   {
    "duration": 41,
    "start_time": "2022-01-24T16:25:55.291Z"
   },
   {
    "duration": 10,
    "start_time": "2022-01-24T16:25:55.333Z"
   },
   {
    "duration": 12,
    "start_time": "2022-01-24T16:25:55.344Z"
   },
   {
    "duration": 10,
    "start_time": "2022-01-24T16:25:55.358Z"
   },
   {
    "duration": 6,
    "start_time": "2022-01-24T16:25:55.369Z"
   },
   {
    "duration": 7,
    "start_time": "2022-01-24T16:25:55.376Z"
   },
   {
    "duration": 6,
    "start_time": "2022-01-24T16:25:55.384Z"
   },
   {
    "duration": 40,
    "start_time": "2022-01-24T16:25:55.393Z"
   },
   {
    "duration": 10,
    "start_time": "2022-01-24T16:25:55.435Z"
   },
   {
    "duration": 10,
    "start_time": "2022-01-24T16:25:55.446Z"
   },
   {
    "duration": 19,
    "start_time": "2022-01-24T16:25:55.457Z"
   },
   {
    "duration": 11,
    "start_time": "2022-01-24T16:25:55.478Z"
   },
   {
    "duration": 44,
    "start_time": "2022-01-24T16:25:55.491Z"
   },
   {
    "duration": 90,
    "start_time": "2022-01-24T16:25:55.537Z"
   },
   {
    "duration": 7,
    "start_time": "2022-01-24T16:25:55.629Z"
   },
   {
    "duration": 15,
    "start_time": "2022-01-24T16:25:55.727Z"
   },
   {
    "duration": 89,
    "start_time": "2022-01-24T16:25:55.744Z"
   },
   {
    "duration": 103,
    "start_time": "2022-01-24T16:25:55.835Z"
   },
   {
    "duration": 96,
    "start_time": "2022-01-24T16:25:55.940Z"
   },
   {
    "duration": 5,
    "start_time": "2022-01-24T16:25:56.128Z"
   },
   {
    "duration": 4,
    "start_time": "2022-01-24T16:25:56.135Z"
   },
   {
    "duration": 14,
    "start_time": "2022-01-24T16:25:56.141Z"
   },
   {
    "duration": 5,
    "start_time": "2022-01-24T16:25:56.157Z"
   },
   {
    "duration": 5,
    "start_time": "2022-01-24T16:25:56.163Z"
   },
   {
    "duration": 4,
    "start_time": "2022-01-24T16:25:56.169Z"
   },
   {
    "duration": 2977,
    "start_time": "2022-01-24T16:25:56.175Z"
   },
   {
    "duration": -1403,
    "start_time": "2022-01-24T16:26:00.556Z"
   },
   {
    "duration": -1405,
    "start_time": "2022-01-24T16:26:00.559Z"
   },
   {
    "duration": -1406,
    "start_time": "2022-01-24T16:26:00.561Z"
   },
   {
    "duration": -1407,
    "start_time": "2022-01-24T16:26:00.563Z"
   },
   {
    "duration": 3,
    "start_time": "2022-01-24T16:26:13.292Z"
   },
   {
    "duration": 326,
    "start_time": "2022-01-24T16:26:13.296Z"
   },
   {
    "duration": 9,
    "start_time": "2022-01-24T16:26:13.624Z"
   },
   {
    "duration": 7,
    "start_time": "2022-01-24T16:26:13.635Z"
   },
   {
    "duration": 11,
    "start_time": "2022-01-24T16:26:13.643Z"
   },
   {
    "duration": 7,
    "start_time": "2022-01-24T16:26:13.656Z"
   },
   {
    "duration": 10,
    "start_time": "2022-01-24T16:26:13.664Z"
   },
   {
    "duration": 7,
    "start_time": "2022-01-24T16:26:13.675Z"
   },
   {
    "duration": 78,
    "start_time": "2022-01-24T16:26:13.684Z"
   },
   {
    "duration": 42,
    "start_time": "2022-01-24T16:26:13.764Z"
   },
   {
    "duration": 30,
    "start_time": "2022-01-24T16:26:13.807Z"
   },
   {
    "duration": 35,
    "start_time": "2022-01-24T16:26:13.839Z"
   },
   {
    "duration": 60,
    "start_time": "2022-01-24T16:26:13.876Z"
   },
   {
    "duration": 10,
    "start_time": "2022-01-24T16:26:13.937Z"
   },
   {
    "duration": 9,
    "start_time": "2022-01-24T16:26:13.948Z"
   },
   {
    "duration": 9,
    "start_time": "2022-01-24T16:26:13.959Z"
   },
   {
    "duration": 10,
    "start_time": "2022-01-24T16:26:13.969Z"
   },
   {
    "duration": 10,
    "start_time": "2022-01-24T16:26:13.980Z"
   },
   {
    "duration": 43,
    "start_time": "2022-01-24T16:26:13.992Z"
   },
   {
    "duration": 6,
    "start_time": "2022-01-24T16:26:14.036Z"
   },
   {
    "duration": 6,
    "start_time": "2022-01-24T16:26:14.044Z"
   },
   {
    "duration": 8,
    "start_time": "2022-01-24T16:26:14.052Z"
   },
   {
    "duration": 12,
    "start_time": "2022-01-24T16:26:14.062Z"
   },
   {
    "duration": 11,
    "start_time": "2022-01-24T16:26:14.076Z"
   },
   {
    "duration": 45,
    "start_time": "2022-01-24T16:26:14.088Z"
   },
   {
    "duration": 19,
    "start_time": "2022-01-24T16:26:14.135Z"
   },
   {
    "duration": 12,
    "start_time": "2022-01-24T16:26:14.157Z"
   },
   {
    "duration": 12,
    "start_time": "2022-01-24T16:26:14.171Z"
   },
   {
    "duration": 143,
    "start_time": "2022-01-24T16:26:14.185Z"
   },
   {
    "duration": 6,
    "start_time": "2022-01-24T16:26:14.330Z"
   },
   {
    "duration": 12,
    "start_time": "2022-01-24T16:26:14.337Z"
   },
   {
    "duration": 180,
    "start_time": "2022-01-24T16:26:14.351Z"
   },
   {
    "duration": 12,
    "start_time": "2022-01-24T16:26:14.533Z"
   },
   {
    "duration": 182,
    "start_time": "2022-01-24T16:26:14.547Z"
   },
   {
    "duration": 4,
    "start_time": "2022-01-24T16:26:14.730Z"
   },
   {
    "duration": 8,
    "start_time": "2022-01-24T16:26:14.735Z"
   },
   {
    "duration": 6,
    "start_time": "2022-01-24T16:26:14.744Z"
   },
   {
    "duration": 4,
    "start_time": "2022-01-24T16:26:14.752Z"
   },
   {
    "duration": 4,
    "start_time": "2022-01-24T16:26:14.758Z"
   },
   {
    "duration": 4,
    "start_time": "2022-01-24T16:26:14.764Z"
   },
   {
    "duration": 2405,
    "start_time": "2022-01-24T16:26:14.769Z"
   },
   {
    "duration": 4,
    "start_time": "2022-01-24T16:26:17.176Z"
   },
   {
    "duration": 17,
    "start_time": "2022-01-24T16:26:17.182Z"
   },
   {
    "duration": 16,
    "start_time": "2022-01-24T16:26:17.201Z"
   },
   {
    "duration": 9,
    "start_time": "2022-01-24T16:26:17.219Z"
   },
   {
    "duration": 4,
    "start_time": "2022-01-24T16:27:53.305Z"
   },
   {
    "duration": 344,
    "start_time": "2022-01-24T16:27:53.311Z"
   },
   {
    "duration": 9,
    "start_time": "2022-01-24T16:27:53.657Z"
   },
   {
    "duration": 7,
    "start_time": "2022-01-24T16:27:53.668Z"
   },
   {
    "duration": 10,
    "start_time": "2022-01-24T16:27:53.676Z"
   },
   {
    "duration": 7,
    "start_time": "2022-01-24T16:27:53.687Z"
   },
   {
    "duration": 35,
    "start_time": "2022-01-24T16:27:53.695Z"
   },
   {
    "duration": 6,
    "start_time": "2022-01-24T16:27:53.732Z"
   },
   {
    "duration": 33,
    "start_time": "2022-01-24T16:27:53.741Z"
   },
   {
    "duration": 64,
    "start_time": "2022-01-24T16:27:53.776Z"
   },
   {
    "duration": 12,
    "start_time": "2022-01-24T16:27:53.842Z"
   },
   {
    "duration": 40,
    "start_time": "2022-01-24T16:27:53.856Z"
   },
   {
    "duration": 52,
    "start_time": "2022-01-24T16:27:53.897Z"
   },
   {
    "duration": 10,
    "start_time": "2022-01-24T16:27:53.951Z"
   },
   {
    "duration": 10,
    "start_time": "2022-01-24T16:27:53.962Z"
   },
   {
    "duration": 9,
    "start_time": "2022-01-24T16:27:53.973Z"
   },
   {
    "duration": 9,
    "start_time": "2022-01-24T16:27:53.983Z"
   },
   {
    "duration": 42,
    "start_time": "2022-01-24T16:27:53.993Z"
   },
   {
    "duration": 14,
    "start_time": "2022-01-24T16:27:54.037Z"
   },
   {
    "duration": 6,
    "start_time": "2022-01-24T16:27:54.052Z"
   },
   {
    "duration": 6,
    "start_time": "2022-01-24T16:27:54.059Z"
   },
   {
    "duration": 6,
    "start_time": "2022-01-24T16:27:54.066Z"
   },
   {
    "duration": 14,
    "start_time": "2022-01-24T16:27:54.074Z"
   },
   {
    "duration": 39,
    "start_time": "2022-01-24T16:27:54.089Z"
   },
   {
    "duration": 12,
    "start_time": "2022-01-24T16:27:54.129Z"
   },
   {
    "duration": 19,
    "start_time": "2022-01-24T16:27:54.142Z"
   },
   {
    "duration": 13,
    "start_time": "2022-01-24T16:27:54.164Z"
   },
   {
    "duration": 54,
    "start_time": "2022-01-24T16:27:54.178Z"
   },
   {
    "duration": 13,
    "start_time": "2022-01-24T16:27:54.234Z"
   },
   {
    "duration": 83,
    "start_time": "2022-01-24T16:27:54.249Z"
   },
   {
    "duration": 199,
    "start_time": "2022-01-24T16:27:54.334Z"
   },
   {
    "duration": 7,
    "start_time": "2022-01-24T16:27:54.535Z"
   },
   {
    "duration": 14,
    "start_time": "2022-01-24T16:27:54.628Z"
   },
   {
    "duration": 85,
    "start_time": "2022-01-24T16:27:54.644Z"
   },
   {
    "duration": 97,
    "start_time": "2022-01-24T16:27:54.731Z"
   },
   {
    "duration": 5,
    "start_time": "2022-01-24T16:27:54.830Z"
   },
   {
    "duration": 8,
    "start_time": "2022-01-24T16:27:54.836Z"
   },
   {
    "duration": 5,
    "start_time": "2022-01-24T16:27:54.845Z"
   },
   {
    "duration": 4,
    "start_time": "2022-01-24T16:27:54.851Z"
   },
   {
    "duration": 5,
    "start_time": "2022-01-24T16:27:54.856Z"
   },
   {
    "duration": 2972,
    "start_time": "2022-01-24T16:27:54.862Z"
   },
   {
    "duration": -1405,
    "start_time": "2022-01-24T16:27:59.240Z"
   },
   {
    "duration": -1407,
    "start_time": "2022-01-24T16:27:59.243Z"
   },
   {
    "duration": -1408,
    "start_time": "2022-01-24T16:27:59.245Z"
   },
   {
    "duration": -1409,
    "start_time": "2022-01-24T16:27:59.247Z"
   },
   {
    "duration": 3,
    "start_time": "2022-01-24T16:29:29.180Z"
   },
   {
    "duration": 328,
    "start_time": "2022-01-24T16:29:29.185Z"
   },
   {
    "duration": 12,
    "start_time": "2022-01-24T16:29:29.515Z"
   },
   {
    "duration": 7,
    "start_time": "2022-01-24T16:29:29.529Z"
   },
   {
    "duration": 10,
    "start_time": "2022-01-24T16:29:29.537Z"
   },
   {
    "duration": 6,
    "start_time": "2022-01-24T16:29:29.549Z"
   },
   {
    "duration": 10,
    "start_time": "2022-01-24T16:29:29.557Z"
   },
   {
    "duration": 7,
    "start_time": "2022-01-24T16:29:29.569Z"
   },
   {
    "duration": 70,
    "start_time": "2022-01-24T16:29:29.578Z"
   },
   {
    "duration": 42,
    "start_time": "2022-01-24T16:29:29.649Z"
   },
   {
    "duration": 36,
    "start_time": "2022-01-24T16:29:29.692Z"
   },
   {
    "duration": 33,
    "start_time": "2022-01-24T16:29:29.730Z"
   },
   {
    "duration": 36,
    "start_time": "2022-01-24T16:29:29.765Z"
   },
   {
    "duration": 33,
    "start_time": "2022-01-24T16:29:29.803Z"
   },
   {
    "duration": 10,
    "start_time": "2022-01-24T16:29:29.838Z"
   },
   {
    "duration": 11,
    "start_time": "2022-01-24T16:29:29.850Z"
   },
   {
    "duration": 9,
    "start_time": "2022-01-24T16:29:29.862Z"
   },
   {
    "duration": 11,
    "start_time": "2022-01-24T16:29:29.872Z"
   },
   {
    "duration": 49,
    "start_time": "2022-01-24T16:29:29.885Z"
   },
   {
    "duration": 5,
    "start_time": "2022-01-24T16:29:29.935Z"
   },
   {
    "duration": 6,
    "start_time": "2022-01-24T16:29:29.941Z"
   },
   {
    "duration": 6,
    "start_time": "2022-01-24T16:29:29.948Z"
   },
   {
    "duration": 13,
    "start_time": "2022-01-24T16:29:29.957Z"
   },
   {
    "duration": 11,
    "start_time": "2022-01-24T16:29:29.971Z"
   },
   {
    "duration": 53,
    "start_time": "2022-01-24T16:29:29.983Z"
   },
   {
    "duration": 23,
    "start_time": "2022-01-24T16:29:30.038Z"
   },
   {
    "duration": 14,
    "start_time": "2022-01-24T16:29:30.062Z"
   },
   {
    "duration": 18,
    "start_time": "2022-01-24T16:29:30.078Z"
   },
   {
    "duration": 129,
    "start_time": "2022-01-24T16:29:30.098Z"
   },
   {
    "duration": 102,
    "start_time": "2022-01-24T16:29:30.229Z"
   },
   {
    "duration": 98,
    "start_time": "2022-01-24T16:29:30.333Z"
   },
   {
    "duration": 109,
    "start_time": "2022-01-24T16:29:30.433Z"
   },
   {
    "duration": 13,
    "start_time": "2022-01-24T16:29:30.543Z"
   },
   {
    "duration": 170,
    "start_time": "2022-01-24T16:29:30.558Z"
   },
   {
    "duration": 4,
    "start_time": "2022-01-24T16:29:30.730Z"
   },
   {
    "duration": 10,
    "start_time": "2022-01-24T16:29:30.736Z"
   },
   {
    "duration": 14,
    "start_time": "2022-01-24T16:29:30.748Z"
   },
   {
    "duration": 14,
    "start_time": "2022-01-24T16:29:30.764Z"
   },
   {
    "duration": 14,
    "start_time": "2022-01-24T16:29:30.779Z"
   },
   {
    "duration": 15,
    "start_time": "2022-01-24T16:29:30.795Z"
   },
   {
    "duration": 2295,
    "start_time": "2022-01-24T16:29:30.812Z"
   },
   {
    "duration": 4,
    "start_time": "2022-01-24T16:29:33.109Z"
   },
   {
    "duration": 15,
    "start_time": "2022-01-24T16:29:33.114Z"
   },
   {
    "duration": 9,
    "start_time": "2022-01-24T16:29:33.130Z"
   },
   {
    "duration": 5,
    "start_time": "2022-01-24T16:29:33.140Z"
   },
   {
    "duration": 339,
    "start_time": "2022-01-24T16:30:36.130Z"
   },
   {
    "duration": 421,
    "start_time": "2022-01-24T16:30:43.672Z"
   },
   {
    "duration": 3,
    "start_time": "2022-01-24T16:30:47.379Z"
   },
   {
    "duration": 3,
    "start_time": "2022-01-24T16:31:24.664Z"
   },
   {
    "duration": 327,
    "start_time": "2022-01-24T16:31:24.668Z"
   },
   {
    "duration": 9,
    "start_time": "2022-01-24T16:31:24.997Z"
   },
   {
    "duration": 19,
    "start_time": "2022-01-24T16:31:25.008Z"
   },
   {
    "duration": 9,
    "start_time": "2022-01-24T16:31:25.028Z"
   },
   {
    "duration": 6,
    "start_time": "2022-01-24T16:31:25.039Z"
   },
   {
    "duration": 11,
    "start_time": "2022-01-24T16:31:25.047Z"
   },
   {
    "duration": 7,
    "start_time": "2022-01-24T16:31:25.059Z"
   },
   {
    "duration": 69,
    "start_time": "2022-01-24T16:31:25.068Z"
   },
   {
    "duration": 41,
    "start_time": "2022-01-24T16:31:25.139Z"
   },
   {
    "duration": 11,
    "start_time": "2022-01-24T16:31:25.182Z"
   },
   {
    "duration": 57,
    "start_time": "2022-01-24T16:31:25.195Z"
   },
   {
    "duration": 33,
    "start_time": "2022-01-24T16:31:25.253Z"
   },
   {
    "duration": 10,
    "start_time": "2022-01-24T16:31:25.287Z"
   },
   {
    "duration": 34,
    "start_time": "2022-01-24T16:31:25.298Z"
   },
   {
    "duration": 9,
    "start_time": "2022-01-24T16:31:25.333Z"
   },
   {
    "duration": 9,
    "start_time": "2022-01-24T16:31:25.344Z"
   },
   {
    "duration": 13,
    "start_time": "2022-01-24T16:31:25.354Z"
   },
   {
    "duration": 10,
    "start_time": "2022-01-24T16:31:25.368Z"
   },
   {
    "duration": 6,
    "start_time": "2022-01-24T16:31:25.380Z"
   },
   {
    "duration": 40,
    "start_time": "2022-01-24T16:31:25.387Z"
   },
   {
    "duration": 4,
    "start_time": "2022-01-24T16:31:25.428Z"
   },
   {
    "duration": 12,
    "start_time": "2022-01-24T16:31:25.434Z"
   },
   {
    "duration": 11,
    "start_time": "2022-01-24T16:31:25.447Z"
   },
   {
    "duration": 10,
    "start_time": "2022-01-24T16:31:25.459Z"
   },
   {
    "duration": 19,
    "start_time": "2022-01-24T16:31:25.471Z"
   },
   {
    "duration": 43,
    "start_time": "2022-01-24T16:31:25.493Z"
   },
   {
    "duration": 12,
    "start_time": "2022-01-24T16:31:25.538Z"
   },
   {
    "duration": 78,
    "start_time": "2022-01-24T16:31:25.551Z"
   },
   {
    "duration": 7,
    "start_time": "2022-01-24T16:31:25.631Z"
   },
   {
    "duration": 12,
    "start_time": "2022-01-24T16:31:25.728Z"
   },
   {
    "duration": 93,
    "start_time": "2022-01-24T16:31:25.742Z"
   },
   {
    "duration": 112,
    "start_time": "2022-01-24T16:31:25.837Z"
   },
   {
    "duration": 8,
    "start_time": "2022-01-24T16:31:26.027Z"
   },
   {
    "duration": 97,
    "start_time": "2022-01-24T16:31:26.037Z"
   },
   {
    "duration": 5,
    "start_time": "2022-01-24T16:31:26.135Z"
   },
   {
    "duration": 8,
    "start_time": "2022-01-24T16:31:26.141Z"
   },
   {
    "duration": 6,
    "start_time": "2022-01-24T16:31:26.150Z"
   },
   {
    "duration": 5,
    "start_time": "2022-01-24T16:31:26.157Z"
   },
   {
    "duration": 5,
    "start_time": "2022-01-24T16:31:26.163Z"
   },
   {
    "duration": 2348,
    "start_time": "2022-01-24T16:31:26.169Z"
   },
   {
    "duration": 9,
    "start_time": "2022-01-24T16:31:28.519Z"
   },
   {
    "duration": 5,
    "start_time": "2022-01-24T16:31:28.529Z"
   },
   {
    "duration": 9,
    "start_time": "2022-01-24T16:31:28.535Z"
   },
   {
    "duration": 3,
    "start_time": "2022-01-24T16:31:28.546Z"
   },
   {
    "duration": 3,
    "start_time": "2022-01-24T16:39:02.765Z"
   },
   {
    "duration": 401,
    "start_time": "2022-01-24T16:39:02.770Z"
   },
   {
    "duration": 9,
    "start_time": "2022-01-24T16:39:03.173Z"
   },
   {
    "duration": 12,
    "start_time": "2022-01-24T16:39:03.184Z"
   },
   {
    "duration": 30,
    "start_time": "2022-01-24T16:39:03.197Z"
   },
   {
    "duration": 8,
    "start_time": "2022-01-24T16:39:03.228Z"
   },
   {
    "duration": 14,
    "start_time": "2022-01-24T16:39:03.237Z"
   },
   {
    "duration": 7,
    "start_time": "2022-01-24T16:39:03.253Z"
   },
   {
    "duration": 65,
    "start_time": "2022-01-24T16:39:03.262Z"
   },
   {
    "duration": 42,
    "start_time": "2022-01-24T16:39:03.329Z"
   },
   {
    "duration": 12,
    "start_time": "2022-01-24T16:39:03.373Z"
   },
   {
    "duration": 63,
    "start_time": "2022-01-24T16:39:03.386Z"
   },
   {
    "duration": 33,
    "start_time": "2022-01-24T16:39:03.450Z"
   },
   {
    "duration": 10,
    "start_time": "2022-01-24T16:39:03.485Z"
   },
   {
    "duration": 31,
    "start_time": "2022-01-24T16:39:03.497Z"
   },
   {
    "duration": 10,
    "start_time": "2022-01-24T16:39:03.529Z"
   },
   {
    "duration": 10,
    "start_time": "2022-01-24T16:39:03.541Z"
   },
   {
    "duration": 11,
    "start_time": "2022-01-24T16:39:03.553Z"
   },
   {
    "duration": 11,
    "start_time": "2022-01-24T16:39:03.566Z"
   },
   {
    "duration": 5,
    "start_time": "2022-01-24T16:39:03.579Z"
   },
   {
    "duration": 44,
    "start_time": "2022-01-24T16:39:03.586Z"
   },
   {
    "duration": 7,
    "start_time": "2022-01-24T16:39:03.631Z"
   },
   {
    "duration": 12,
    "start_time": "2022-01-24T16:39:03.641Z"
   },
   {
    "duration": 11,
    "start_time": "2022-01-24T16:39:03.655Z"
   },
   {
    "duration": 10,
    "start_time": "2022-01-24T16:39:03.668Z"
   },
   {
    "duration": 51,
    "start_time": "2022-01-24T16:39:03.680Z"
   },
   {
    "duration": 13,
    "start_time": "2022-01-24T16:39:03.733Z"
   },
   {
    "duration": 13,
    "start_time": "2022-01-24T16:39:03.747Z"
   },
   {
    "duration": 13,
    "start_time": "2022-01-24T16:39:03.761Z"
   },
   {
    "duration": 8,
    "start_time": "2022-01-24T16:39:03.828Z"
   },
   {
    "duration": 190,
    "start_time": "2022-01-24T16:39:03.839Z"
   },
   {
    "duration": 6,
    "start_time": "2022-01-24T16:39:04.031Z"
   },
   {
    "duration": 102,
    "start_time": "2022-01-24T16:39:04.039Z"
   },
   {
    "duration": 86,
    "start_time": "2022-01-24T16:39:04.143Z"
   },
   {
    "duration": 100,
    "start_time": "2022-01-24T16:39:04.233Z"
   },
   {
    "duration": 4,
    "start_time": "2022-01-24T16:39:04.335Z"
   },
   {
    "duration": 7,
    "start_time": "2022-01-24T16:39:04.341Z"
   },
   {
    "duration": 4,
    "start_time": "2022-01-24T16:39:04.350Z"
   },
   {
    "duration": 4,
    "start_time": "2022-01-24T16:39:04.355Z"
   },
   {
    "duration": 4,
    "start_time": "2022-01-24T16:39:04.361Z"
   },
   {
    "duration": 3145,
    "start_time": "2022-01-24T16:39:04.366Z"
   },
   {
    "duration": -1397,
    "start_time": "2022-01-24T16:39:08.910Z"
   },
   {
    "duration": -1402,
    "start_time": "2022-01-24T16:39:08.916Z"
   },
   {
    "duration": -1402,
    "start_time": "2022-01-24T16:39:08.918Z"
   },
   {
    "duration": -1404,
    "start_time": "2022-01-24T16:39:08.921Z"
   },
   {
    "duration": 3,
    "start_time": "2022-01-24T16:39:28.342Z"
   },
   {
    "duration": 327,
    "start_time": "2022-01-24T16:39:28.742Z"
   },
   {
    "duration": 9,
    "start_time": "2022-01-24T16:39:29.073Z"
   },
   {
    "duration": 8,
    "start_time": "2022-01-24T16:39:29.084Z"
   },
   {
    "duration": 12,
    "start_time": "2022-01-24T16:39:29.094Z"
   },
   {
    "duration": 8,
    "start_time": "2022-01-24T16:39:29.127Z"
   },
   {
    "duration": 11,
    "start_time": "2022-01-24T16:39:29.137Z"
   },
   {
    "duration": 8,
    "start_time": "2022-01-24T16:39:29.150Z"
   },
   {
    "duration": 79,
    "start_time": "2022-01-24T16:39:29.159Z"
   },
   {
    "duration": 65,
    "start_time": "2022-01-24T16:39:29.241Z"
   },
   {
    "duration": 29,
    "start_time": "2022-01-24T16:39:29.308Z"
   },
   {
    "duration": 34,
    "start_time": "2022-01-24T16:39:29.339Z"
   },
   {
    "duration": 53,
    "start_time": "2022-01-24T16:39:29.375Z"
   },
   {
    "duration": 10,
    "start_time": "2022-01-24T16:39:29.429Z"
   },
   {
    "duration": 12,
    "start_time": "2022-01-24T16:39:29.440Z"
   },
   {
    "duration": 10,
    "start_time": "2022-01-24T16:39:29.453Z"
   },
   {
    "duration": 10,
    "start_time": "2022-01-24T16:39:29.464Z"
   },
   {
    "duration": 12,
    "start_time": "2022-01-24T16:39:29.475Z"
   },
   {
    "duration": 43,
    "start_time": "2022-01-24T16:39:29.489Z"
   },
   {
    "duration": 8,
    "start_time": "2022-01-24T16:39:29.533Z"
   },
   {
    "duration": 9,
    "start_time": "2022-01-24T16:39:29.543Z"
   },
   {
    "duration": 8,
    "start_time": "2022-01-24T16:39:29.553Z"
   },
   {
    "duration": 13,
    "start_time": "2022-01-24T16:39:29.563Z"
   },
   {
    "duration": 10,
    "start_time": "2022-01-24T16:39:29.578Z"
   },
   {
    "duration": 38,
    "start_time": "2022-01-24T16:39:29.589Z"
   },
   {
    "duration": 18,
    "start_time": "2022-01-24T16:39:29.629Z"
   },
   {
    "duration": 13,
    "start_time": "2022-01-24T16:39:29.649Z"
   },
   {
    "duration": 12,
    "start_time": "2022-01-24T16:39:29.665Z"
   },
   {
    "duration": 60,
    "start_time": "2022-01-24T16:39:29.679Z"
   },
   {
    "duration": 87,
    "start_time": "2022-01-24T16:39:29.741Z"
   },
   {
    "duration": 12,
    "start_time": "2022-01-24T16:39:29.830Z"
   },
   {
    "duration": 200,
    "start_time": "2022-01-24T16:39:29.844Z"
   },
   {
    "duration": 16,
    "start_time": "2022-01-24T16:39:30.045Z"
   },
   {
    "duration": 173,
    "start_time": "2022-01-24T16:39:30.063Z"
   },
   {
    "duration": 12,
    "start_time": "2022-01-24T16:39:30.237Z"
   },
   {
    "duration": 20,
    "start_time": "2022-01-24T16:39:30.251Z"
   },
   {
    "duration": 28,
    "start_time": "2022-01-24T16:39:30.273Z"
   },
   {
    "duration": 21,
    "start_time": "2022-01-24T16:39:30.302Z"
   },
   {
    "duration": 12,
    "start_time": "2022-01-24T16:39:30.324Z"
   },
   {
    "duration": 25,
    "start_time": "2022-01-24T16:39:30.338Z"
   },
   {
    "duration": 2504,
    "start_time": "2022-01-24T16:39:30.367Z"
   },
   {
    "duration": 4,
    "start_time": "2022-01-24T16:39:32.873Z"
   },
   {
    "duration": 6,
    "start_time": "2022-01-24T16:39:32.878Z"
   },
   {
    "duration": 8,
    "start_time": "2022-01-24T16:39:32.885Z"
   },
   {
    "duration": 33,
    "start_time": "2022-01-24T16:39:32.895Z"
   },
   {
    "duration": 3,
    "start_time": "2022-01-24T16:39:53.423Z"
   },
   {
    "duration": 491,
    "start_time": "2022-01-24T16:39:53.428Z"
   },
   {
    "duration": 14,
    "start_time": "2022-01-24T16:39:53.922Z"
   },
   {
    "duration": 12,
    "start_time": "2022-01-24T16:39:53.938Z"
   },
   {
    "duration": 15,
    "start_time": "2022-01-24T16:39:53.952Z"
   },
   {
    "duration": 10,
    "start_time": "2022-01-24T16:39:53.969Z"
   },
   {
    "duration": 18,
    "start_time": "2022-01-24T16:39:53.980Z"
   },
   {
    "duration": 33,
    "start_time": "2022-01-24T16:39:53.999Z"
   },
   {
    "duration": 39,
    "start_time": "2022-01-24T16:39:54.034Z"
   },
   {
    "duration": 82,
    "start_time": "2022-01-24T16:39:54.075Z"
   },
   {
    "duration": 17,
    "start_time": "2022-01-24T16:39:54.159Z"
   },
   {
    "duration": 74,
    "start_time": "2022-01-24T16:39:54.178Z"
   },
   {
    "duration": 37,
    "start_time": "2022-01-24T16:39:54.253Z"
   },
   {
    "duration": 13,
    "start_time": "2022-01-24T16:39:54.291Z"
   },
   {
    "duration": 30,
    "start_time": "2022-01-24T16:39:54.306Z"
   },
   {
    "duration": 9,
    "start_time": "2022-01-24T16:39:54.338Z"
   },
   {
    "duration": 10,
    "start_time": "2022-01-24T16:39:54.348Z"
   },
   {
    "duration": 14,
    "start_time": "2022-01-24T16:39:54.359Z"
   },
   {
    "duration": 53,
    "start_time": "2022-01-24T16:39:54.375Z"
   },
   {
    "duration": 4,
    "start_time": "2022-01-24T16:39:54.430Z"
   },
   {
    "duration": 6,
    "start_time": "2022-01-24T16:39:54.436Z"
   },
   {
    "duration": 6,
    "start_time": "2022-01-24T16:39:54.444Z"
   },
   {
    "duration": 12,
    "start_time": "2022-01-24T16:39:54.452Z"
   },
   {
    "duration": 12,
    "start_time": "2022-01-24T16:39:54.466Z"
   },
   {
    "duration": 52,
    "start_time": "2022-01-24T16:39:54.480Z"
   },
   {
    "duration": 19,
    "start_time": "2022-01-24T16:39:54.534Z"
   },
   {
    "duration": 12,
    "start_time": "2022-01-24T16:39:54.556Z"
   },
   {
    "duration": 13,
    "start_time": "2022-01-24T16:39:54.570Z"
   },
   {
    "duration": 57,
    "start_time": "2022-01-24T16:39:54.584Z"
   },
   {
    "duration": 7,
    "start_time": "2022-01-24T16:39:54.728Z"
   },
   {
    "duration": 13,
    "start_time": "2022-01-24T16:39:54.736Z"
   },
   {
    "duration": 181,
    "start_time": "2022-01-24T16:39:54.750Z"
   },
   {
    "duration": 16,
    "start_time": "2022-01-24T16:39:54.933Z"
   },
   {
    "duration": 82,
    "start_time": "2022-01-24T16:39:54.951Z"
   },
   {
    "duration": 96,
    "start_time": "2022-01-24T16:39:55.036Z"
   },
   {
    "duration": 6,
    "start_time": "2022-01-24T16:39:55.134Z"
   },
   {
    "duration": 8,
    "start_time": "2022-01-24T16:39:55.142Z"
   },
   {
    "duration": 7,
    "start_time": "2022-01-24T16:39:55.151Z"
   },
   {
    "duration": 17,
    "start_time": "2022-01-24T16:39:55.160Z"
   },
   {
    "duration": 12,
    "start_time": "2022-01-24T16:39:55.178Z"
   },
   {
    "duration": 2421,
    "start_time": "2022-01-24T16:39:55.191Z"
   },
   {
    "duration": 16,
    "start_time": "2022-01-24T16:39:57.614Z"
   },
   {
    "duration": 6,
    "start_time": "2022-01-24T16:39:57.632Z"
   },
   {
    "duration": 9,
    "start_time": "2022-01-24T16:39:57.640Z"
   },
   {
    "duration": 6,
    "start_time": "2022-01-24T16:39:57.650Z"
   },
   {
    "duration": 3,
    "start_time": "2022-01-24T16:42:26.388Z"
   },
   {
    "duration": 4,
    "start_time": "2022-01-24T16:45:14.703Z"
   },
   {
    "duration": 372,
    "start_time": "2022-01-24T16:45:14.709Z"
   },
   {
    "duration": 11,
    "start_time": "2022-01-24T16:45:15.083Z"
   },
   {
    "duration": 8,
    "start_time": "2022-01-24T16:45:15.097Z"
   },
   {
    "duration": 27,
    "start_time": "2022-01-24T16:45:15.107Z"
   },
   {
    "duration": 7,
    "start_time": "2022-01-24T16:45:15.136Z"
   },
   {
    "duration": 10,
    "start_time": "2022-01-24T16:45:15.144Z"
   },
   {
    "duration": 7,
    "start_time": "2022-01-24T16:45:15.156Z"
   },
   {
    "duration": 63,
    "start_time": "2022-01-24T16:45:15.165Z"
   },
   {
    "duration": 47,
    "start_time": "2022-01-24T16:45:15.229Z"
   },
   {
    "duration": 12,
    "start_time": "2022-01-24T16:45:15.277Z"
   },
   {
    "duration": 61,
    "start_time": "2022-01-24T16:45:15.291Z"
   },
   {
    "duration": 35,
    "start_time": "2022-01-24T16:45:15.353Z"
   },
   {
    "duration": 11,
    "start_time": "2022-01-24T16:45:15.389Z"
   },
   {
    "duration": 28,
    "start_time": "2022-01-24T16:45:15.401Z"
   },
   {
    "duration": 9,
    "start_time": "2022-01-24T16:45:15.431Z"
   },
   {
    "duration": 9,
    "start_time": "2022-01-24T16:45:15.442Z"
   },
   {
    "duration": 12,
    "start_time": "2022-01-24T16:45:15.452Z"
   },
   {
    "duration": 12,
    "start_time": "2022-01-24T16:45:15.465Z"
   },
   {
    "duration": 15,
    "start_time": "2022-01-24T16:45:15.479Z"
   },
   {
    "duration": 5,
    "start_time": "2022-01-24T16:45:15.527Z"
   },
   {
    "duration": 6,
    "start_time": "2022-01-24T16:45:15.534Z"
   },
   {
    "duration": 12,
    "start_time": "2022-01-24T16:45:15.544Z"
   },
   {
    "duration": 13,
    "start_time": "2022-01-24T16:45:15.558Z"
   },
   {
    "duration": 15,
    "start_time": "2022-01-24T16:45:15.572Z"
   },
   {
    "duration": 58,
    "start_time": "2022-01-24T16:45:15.589Z"
   },
   {
    "duration": 15,
    "start_time": "2022-01-24T16:45:15.648Z"
   },
   {
    "duration": 14,
    "start_time": "2022-01-24T16:45:15.665Z"
   },
   {
    "duration": 51,
    "start_time": "2022-01-24T16:45:15.681Z"
   },
   {
    "duration": 93,
    "start_time": "2022-01-24T16:45:15.734Z"
   },
   {
    "duration": 15,
    "start_time": "2022-01-24T16:45:15.829Z"
   },
   {
    "duration": 90,
    "start_time": "2022-01-24T16:45:15.846Z"
   },
   {
    "duration": 99,
    "start_time": "2022-01-24T16:45:15.938Z"
   },
   {
    "duration": 94,
    "start_time": "2022-01-24T16:45:16.039Z"
   },
   {
    "duration": 94,
    "start_time": "2022-01-24T16:45:16.135Z"
   },
   {
    "duration": 5,
    "start_time": "2022-01-24T16:45:16.231Z"
   },
   {
    "duration": 8,
    "start_time": "2022-01-24T16:45:16.237Z"
   },
   {
    "duration": 5,
    "start_time": "2022-01-24T16:45:16.246Z"
   },
   {
    "duration": 6,
    "start_time": "2022-01-24T16:45:16.253Z"
   },
   {
    "duration": 5,
    "start_time": "2022-01-24T16:45:16.260Z"
   },
   {
    "duration": 3795,
    "start_time": "2022-01-24T16:45:16.267Z"
   },
   {
    "duration": 4,
    "start_time": "2022-01-24T16:45:20.064Z"
   },
   {
    "duration": 7,
    "start_time": "2022-01-24T16:45:20.070Z"
   },
   {
    "duration": 9,
    "start_time": "2022-01-24T16:45:20.079Z"
   },
   {
    "duration": 5,
    "start_time": "2022-01-24T16:45:20.090Z"
   },
   {
    "duration": 4,
    "start_time": "2022-01-24T16:45:28.508Z"
   },
   {
    "duration": 3,
    "start_time": "2022-01-24T16:45:31.496Z"
   },
   {
    "duration": 342,
    "start_time": "2022-01-24T16:45:31.501Z"
   },
   {
    "duration": 9,
    "start_time": "2022-01-24T16:45:31.845Z"
   },
   {
    "duration": 7,
    "start_time": "2022-01-24T16:45:31.856Z"
   },
   {
    "duration": 11,
    "start_time": "2022-01-24T16:45:31.864Z"
   },
   {
    "duration": 6,
    "start_time": "2022-01-24T16:45:31.877Z"
   },
   {
    "duration": 47,
    "start_time": "2022-01-24T16:45:31.885Z"
   },
   {
    "duration": 6,
    "start_time": "2022-01-24T16:45:31.935Z"
   },
   {
    "duration": 38,
    "start_time": "2022-01-24T16:45:31.943Z"
   },
   {
    "duration": 80,
    "start_time": "2022-01-24T16:45:31.982Z"
   },
   {
    "duration": 86,
    "start_time": "2022-01-24T16:45:32.064Z"
   },
   {
    "duration": 36,
    "start_time": "2022-01-24T16:45:32.151Z"
   },
   {
    "duration": 61,
    "start_time": "2022-01-24T16:45:32.189Z"
   },
   {
    "duration": 10,
    "start_time": "2022-01-24T16:45:32.251Z"
   },
   {
    "duration": 8,
    "start_time": "2022-01-24T16:45:32.263Z"
   },
   {
    "duration": 12,
    "start_time": "2022-01-24T16:45:32.273Z"
   },
   {
    "duration": 41,
    "start_time": "2022-01-24T16:45:32.287Z"
   },
   {
    "duration": 12,
    "start_time": "2022-01-24T16:45:32.329Z"
   },
   {
    "duration": 10,
    "start_time": "2022-01-24T16:45:32.342Z"
   },
   {
    "duration": 6,
    "start_time": "2022-01-24T16:45:32.354Z"
   },
   {
    "duration": 7,
    "start_time": "2022-01-24T16:45:32.361Z"
   },
   {
    "duration": 6,
    "start_time": "2022-01-24T16:45:32.369Z"
   },
   {
    "duration": 11,
    "start_time": "2022-01-24T16:45:32.378Z"
   },
   {
    "duration": 43,
    "start_time": "2022-01-24T16:45:32.391Z"
   },
   {
    "duration": 11,
    "start_time": "2022-01-24T16:45:32.435Z"
   },
   {
    "duration": 19,
    "start_time": "2022-01-24T16:45:32.447Z"
   },
   {
    "duration": 12,
    "start_time": "2022-01-24T16:45:32.468Z"
   },
   {
    "duration": 13,
    "start_time": "2022-01-24T16:45:32.481Z"
   },
   {
    "duration": 49,
    "start_time": "2022-01-24T16:45:32.496Z"
   },
   {
    "duration": 9,
    "start_time": "2022-01-24T16:45:32.628Z"
   },
   {
    "duration": 19,
    "start_time": "2022-01-24T16:45:32.728Z"
   },
   {
    "duration": 102,
    "start_time": "2022-01-24T16:45:32.827Z"
   },
   {
    "duration": 18,
    "start_time": "2022-01-24T16:45:32.931Z"
   },
   {
    "duration": 84,
    "start_time": "2022-01-24T16:45:32.950Z"
   },
   {
    "duration": 93,
    "start_time": "2022-01-24T16:45:33.036Z"
   },
   {
    "duration": 6,
    "start_time": "2022-01-24T16:45:33.131Z"
   },
   {
    "duration": 8,
    "start_time": "2022-01-24T16:45:33.138Z"
   },
   {
    "duration": 7,
    "start_time": "2022-01-24T16:45:33.148Z"
   },
   {
    "duration": 4,
    "start_time": "2022-01-24T16:45:33.156Z"
   },
   {
    "duration": 6,
    "start_time": "2022-01-24T16:45:33.162Z"
   },
   {
    "duration": 2458,
    "start_time": "2022-01-24T16:45:33.169Z"
   },
   {
    "duration": 5,
    "start_time": "2022-01-24T16:45:35.628Z"
   },
   {
    "duration": 5,
    "start_time": "2022-01-24T16:45:35.635Z"
   },
   {
    "duration": 12,
    "start_time": "2022-01-24T16:45:35.642Z"
   },
   {
    "duration": 8,
    "start_time": "2022-01-24T16:45:35.656Z"
   },
   {
    "duration": 3,
    "start_time": "2022-01-24T16:45:57.117Z"
   },
   {
    "duration": 326,
    "start_time": "2022-01-24T16:45:57.121Z"
   },
   {
    "duration": 9,
    "start_time": "2022-01-24T16:45:57.449Z"
   },
   {
    "duration": 7,
    "start_time": "2022-01-24T16:45:57.460Z"
   },
   {
    "duration": 12,
    "start_time": "2022-01-24T16:45:57.468Z"
   },
   {
    "duration": 10,
    "start_time": "2022-01-24T16:45:57.481Z"
   },
   {
    "duration": 46,
    "start_time": "2022-01-24T16:45:57.492Z"
   },
   {
    "duration": 9,
    "start_time": "2022-01-24T16:45:57.541Z"
   },
   {
    "duration": 35,
    "start_time": "2022-01-24T16:45:57.552Z"
   },
   {
    "duration": 70,
    "start_time": "2022-01-24T16:45:57.589Z"
   },
   {
    "duration": 12,
    "start_time": "2022-01-24T16:45:57.660Z"
   },
   {
    "duration": 55,
    "start_time": "2022-01-24T16:45:57.674Z"
   },
   {
    "duration": 38,
    "start_time": "2022-01-24T16:45:57.731Z"
   },
   {
    "duration": 10,
    "start_time": "2022-01-24T16:45:57.771Z"
   },
   {
    "duration": 10,
    "start_time": "2022-01-24T16:45:57.782Z"
   },
   {
    "duration": 39,
    "start_time": "2022-01-24T16:45:57.793Z"
   },
   {
    "duration": 10,
    "start_time": "2022-01-24T16:45:57.834Z"
   },
   {
    "duration": 11,
    "start_time": "2022-01-24T16:45:57.845Z"
   },
   {
    "duration": 11,
    "start_time": "2022-01-24T16:45:57.858Z"
   },
   {
    "duration": 5,
    "start_time": "2022-01-24T16:45:57.870Z"
   },
   {
    "duration": 6,
    "start_time": "2022-01-24T16:45:57.876Z"
   },
   {
    "duration": 6,
    "start_time": "2022-01-24T16:45:57.883Z"
   },
   {
    "duration": 19,
    "start_time": "2022-01-24T16:45:57.929Z"
   },
   {
    "duration": 12,
    "start_time": "2022-01-24T16:45:57.950Z"
   },
   {
    "duration": 11,
    "start_time": "2022-01-24T16:45:57.964Z"
   },
   {
    "duration": 20,
    "start_time": "2022-01-24T16:45:57.977Z"
   },
   {
    "duration": 35,
    "start_time": "2022-01-24T16:45:57.998Z"
   },
   {
    "duration": 12,
    "start_time": "2022-01-24T16:45:58.035Z"
   },
   {
    "duration": 179,
    "start_time": "2022-01-24T16:45:58.049Z"
   },
   {
    "duration": 6,
    "start_time": "2022-01-24T16:45:58.230Z"
   },
   {
    "duration": 91,
    "start_time": "2022-01-24T16:45:58.238Z"
   },
   {
    "duration": 7,
    "start_time": "2022-01-24T16:45:58.331Z"
   },
   {
    "duration": 20,
    "start_time": "2022-01-24T16:45:58.427Z"
   },
   {
    "duration": 89,
    "start_time": "2022-01-24T16:45:58.449Z"
   },
   {
    "duration": 5,
    "start_time": "2022-01-24T16:45:58.630Z"
   },
   {
    "duration": 7,
    "start_time": "2022-01-24T16:45:58.637Z"
   },
   {
    "duration": 10,
    "start_time": "2022-01-24T16:45:58.645Z"
   },
   {
    "duration": 6,
    "start_time": "2022-01-24T16:45:58.656Z"
   },
   {
    "duration": 4,
    "start_time": "2022-01-24T16:45:58.664Z"
   },
   {
    "duration": 124,
    "start_time": "2022-01-24T16:45:58.669Z"
   },
   {
    "duration": -1434,
    "start_time": "2022-01-24T16:46:00.229Z"
   },
   {
    "duration": -1435,
    "start_time": "2022-01-24T16:46:00.231Z"
   },
   {
    "duration": -1436,
    "start_time": "2022-01-24T16:46:00.233Z"
   },
   {
    "duration": -1440,
    "start_time": "2022-01-24T16:46:00.238Z"
   },
   {
    "duration": -1442,
    "start_time": "2022-01-24T16:46:00.241Z"
   },
   {
    "duration": 3,
    "start_time": "2022-01-24T16:46:47.450Z"
   },
   {
    "duration": 342,
    "start_time": "2022-01-24T16:46:47.455Z"
   },
   {
    "duration": 10,
    "start_time": "2022-01-24T16:46:47.799Z"
   },
   {
    "duration": 16,
    "start_time": "2022-01-24T16:46:47.811Z"
   },
   {
    "duration": 11,
    "start_time": "2022-01-24T16:46:47.828Z"
   },
   {
    "duration": 7,
    "start_time": "2022-01-24T16:46:47.841Z"
   },
   {
    "duration": 11,
    "start_time": "2022-01-24T16:46:47.849Z"
   },
   {
    "duration": 6,
    "start_time": "2022-01-24T16:46:47.862Z"
   },
   {
    "duration": 71,
    "start_time": "2022-01-24T16:46:47.871Z"
   },
   {
    "duration": 46,
    "start_time": "2022-01-24T16:46:47.944Z"
   },
   {
    "duration": 13,
    "start_time": "2022-01-24T16:46:47.991Z"
   },
   {
    "duration": 58,
    "start_time": "2022-01-24T16:46:48.005Z"
   },
   {
    "duration": 38,
    "start_time": "2022-01-24T16:46:48.064Z"
   },
   {
    "duration": 32,
    "start_time": "2022-01-24T16:46:48.103Z"
   },
   {
    "duration": 10,
    "start_time": "2022-01-24T16:46:48.137Z"
   },
   {
    "duration": 12,
    "start_time": "2022-01-24T16:46:48.148Z"
   },
   {
    "duration": 10,
    "start_time": "2022-01-24T16:46:48.162Z"
   },
   {
    "duration": 11,
    "start_time": "2022-01-24T16:46:48.173Z"
   },
   {
    "duration": 49,
    "start_time": "2022-01-24T16:46:48.186Z"
   },
   {
    "duration": 4,
    "start_time": "2022-01-24T16:46:48.237Z"
   },
   {
    "duration": 6,
    "start_time": "2022-01-24T16:46:48.243Z"
   },
   {
    "duration": 6,
    "start_time": "2022-01-24T16:46:48.250Z"
   },
   {
    "duration": 13,
    "start_time": "2022-01-24T16:46:48.258Z"
   },
   {
    "duration": 10,
    "start_time": "2022-01-24T16:46:48.272Z"
   },
   {
    "duration": 47,
    "start_time": "2022-01-24T16:46:48.284Z"
   },
   {
    "duration": 20,
    "start_time": "2022-01-24T16:46:48.332Z"
   },
   {
    "duration": 13,
    "start_time": "2022-01-24T16:46:48.355Z"
   },
   {
    "duration": 13,
    "start_time": "2022-01-24T16:46:48.369Z"
   },
   {
    "duration": 143,
    "start_time": "2022-01-24T16:46:48.383Z"
   },
   {
    "duration": 22,
    "start_time": "2022-01-24T16:46:48.529Z"
   },
   {
    "duration": 84,
    "start_time": "2022-01-24T16:46:48.553Z"
   },
   {
    "duration": 90,
    "start_time": "2022-01-24T16:46:48.639Z"
   },
   {
    "duration": 111,
    "start_time": "2022-01-24T16:46:48.731Z"
   },
   {
    "duration": 85,
    "start_time": "2022-01-24T16:46:48.844Z"
   },
   {
    "duration": 6,
    "start_time": "2022-01-24T16:46:48.930Z"
   },
   {
    "duration": 108,
    "start_time": "2022-01-24T16:46:48.937Z"
   },
   {
    "duration": 9,
    "start_time": "2022-01-24T16:46:49.047Z"
   },
   {
    "duration": 5,
    "start_time": "2022-01-24T16:46:49.057Z"
   },
   {
    "duration": 4,
    "start_time": "2022-01-24T16:46:49.063Z"
   },
   {
    "duration": 118,
    "start_time": "2022-01-24T16:46:49.069Z"
   },
   {
    "duration": -1414,
    "start_time": "2022-01-24T16:46:50.603Z"
   },
   {
    "duration": -1415,
    "start_time": "2022-01-24T16:46:50.605Z"
   },
   {
    "duration": -1417,
    "start_time": "2022-01-24T16:46:50.608Z"
   },
   {
    "duration": -1418,
    "start_time": "2022-01-24T16:46:50.610Z"
   },
   {
    "duration": -1418,
    "start_time": "2022-01-24T16:46:50.612Z"
   },
   {
    "duration": 4,
    "start_time": "2022-01-24T16:47:09.934Z"
   },
   {
    "duration": 339,
    "start_time": "2022-01-24T16:47:09.940Z"
   },
   {
    "duration": 12,
    "start_time": "2022-01-24T16:47:10.281Z"
   },
   {
    "duration": 7,
    "start_time": "2022-01-24T16:47:10.295Z"
   },
   {
    "duration": 27,
    "start_time": "2022-01-24T16:47:10.304Z"
   },
   {
    "duration": 8,
    "start_time": "2022-01-24T16:47:10.333Z"
   },
   {
    "duration": 12,
    "start_time": "2022-01-24T16:47:10.343Z"
   },
   {
    "duration": 8,
    "start_time": "2022-01-24T16:47:10.358Z"
   },
   {
    "duration": 79,
    "start_time": "2022-01-24T16:47:10.368Z"
   },
   {
    "duration": 45,
    "start_time": "2022-01-24T16:47:10.449Z"
   },
   {
    "duration": 32,
    "start_time": "2022-01-24T16:47:10.496Z"
   },
   {
    "duration": 34,
    "start_time": "2022-01-24T16:47:10.530Z"
   },
   {
    "duration": 31,
    "start_time": "2022-01-24T16:47:10.566Z"
   },
   {
    "duration": 37,
    "start_time": "2022-01-24T16:47:10.599Z"
   },
   {
    "duration": 10,
    "start_time": "2022-01-24T16:47:10.637Z"
   },
   {
    "duration": 9,
    "start_time": "2022-01-24T16:47:10.648Z"
   },
   {
    "duration": 8,
    "start_time": "2022-01-24T16:47:10.659Z"
   },
   {
    "duration": 11,
    "start_time": "2022-01-24T16:47:10.668Z"
   },
   {
    "duration": 48,
    "start_time": "2022-01-24T16:47:10.681Z"
   },
   {
    "duration": 6,
    "start_time": "2022-01-24T16:47:10.730Z"
   },
   {
    "duration": 6,
    "start_time": "2022-01-24T16:47:10.738Z"
   },
   {
    "duration": 5,
    "start_time": "2022-01-24T16:47:10.746Z"
   },
   {
    "duration": 15,
    "start_time": "2022-01-24T16:47:10.755Z"
   },
   {
    "duration": 10,
    "start_time": "2022-01-24T16:47:10.772Z"
   },
   {
    "duration": 43,
    "start_time": "2022-01-24T16:47:10.784Z"
   },
   {
    "duration": 19,
    "start_time": "2022-01-24T16:47:10.829Z"
   },
   {
    "duration": 13,
    "start_time": "2022-01-24T16:47:10.849Z"
   },
   {
    "duration": 13,
    "start_time": "2022-01-24T16:47:10.864Z"
   },
   {
    "duration": 59,
    "start_time": "2022-01-24T16:47:10.879Z"
   },
   {
    "duration": 94,
    "start_time": "2022-01-24T16:47:10.940Z"
   },
   {
    "duration": 104,
    "start_time": "2022-01-24T16:47:11.035Z"
   },
   {
    "duration": 87,
    "start_time": "2022-01-24T16:47:11.142Z"
   },
   {
    "duration": 14,
    "start_time": "2022-01-24T16:47:11.231Z"
   },
   {
    "duration": 185,
    "start_time": "2022-01-24T16:47:11.247Z"
   },
   {
    "duration": 4,
    "start_time": "2022-01-24T16:47:11.434Z"
   },
   {
    "duration": 7,
    "start_time": "2022-01-24T16:47:11.440Z"
   },
   {
    "duration": 8,
    "start_time": "2022-01-24T16:47:11.448Z"
   },
   {
    "duration": 5,
    "start_time": "2022-01-24T16:47:11.457Z"
   },
   {
    "duration": 5,
    "start_time": "2022-01-24T16:47:11.464Z"
   },
   {
    "duration": 118,
    "start_time": "2022-01-24T16:47:11.471Z"
   },
   {
    "duration": -1522,
    "start_time": "2022-01-24T16:47:13.113Z"
   },
   {
    "duration": -1523,
    "start_time": "2022-01-24T16:47:13.115Z"
   },
   {
    "duration": -1530,
    "start_time": "2022-01-24T16:47:13.124Z"
   },
   {
    "duration": -1536,
    "start_time": "2022-01-24T16:47:13.131Z"
   },
   {
    "duration": -1538,
    "start_time": "2022-01-24T16:47:13.134Z"
   },
   {
    "duration": 3,
    "start_time": "2022-01-24T16:49:32.235Z"
   },
   {
    "duration": 338,
    "start_time": "2022-01-24T16:49:32.240Z"
   },
   {
    "duration": 9,
    "start_time": "2022-01-24T16:49:32.580Z"
   },
   {
    "duration": 8,
    "start_time": "2022-01-24T16:49:32.591Z"
   },
   {
    "duration": 36,
    "start_time": "2022-01-24T16:49:32.600Z"
   },
   {
    "duration": 9,
    "start_time": "2022-01-24T16:49:32.638Z"
   },
   {
    "duration": 16,
    "start_time": "2022-01-24T16:49:32.649Z"
   },
   {
    "duration": 8,
    "start_time": "2022-01-24T16:49:32.668Z"
   },
   {
    "duration": 68,
    "start_time": "2022-01-24T16:49:32.678Z"
   },
   {
    "duration": 44,
    "start_time": "2022-01-24T16:49:32.747Z"
   },
   {
    "duration": 11,
    "start_time": "2022-01-24T16:49:32.793Z"
   },
   {
    "duration": 52,
    "start_time": "2022-01-24T16:49:32.806Z"
   },
   {
    "duration": 35,
    "start_time": "2022-01-24T16:49:32.860Z"
   },
   {
    "duration": 31,
    "start_time": "2022-01-24T16:49:32.897Z"
   },
   {
    "duration": 10,
    "start_time": "2022-01-24T16:49:32.929Z"
   },
   {
    "duration": 9,
    "start_time": "2022-01-24T16:49:32.941Z"
   },
   {
    "duration": 9,
    "start_time": "2022-01-24T16:49:32.952Z"
   },
   {
    "duration": 10,
    "start_time": "2022-01-24T16:49:32.962Z"
   },
   {
    "duration": 10,
    "start_time": "2022-01-24T16:49:32.989Z"
   },
   {
    "duration": 30,
    "start_time": "2022-01-24T16:49:33.000Z"
   },
   {
    "duration": 6,
    "start_time": "2022-01-24T16:49:33.032Z"
   },
   {
    "duration": 7,
    "start_time": "2022-01-24T16:49:33.039Z"
   },
   {
    "duration": 12,
    "start_time": "2022-01-24T16:49:33.050Z"
   },
   {
    "duration": 13,
    "start_time": "2022-01-24T16:49:33.064Z"
   },
   {
    "duration": 55,
    "start_time": "2022-01-24T16:49:33.078Z"
   },
   {
    "duration": 21,
    "start_time": "2022-01-24T16:49:33.134Z"
   },
   {
    "duration": 15,
    "start_time": "2022-01-24T16:49:33.157Z"
   },
   {
    "duration": 15,
    "start_time": "2022-01-24T16:49:33.174Z"
   },
   {
    "duration": 143,
    "start_time": "2022-01-24T16:49:33.191Z"
   },
   {
    "duration": 105,
    "start_time": "2022-01-24T16:49:33.336Z"
   },
   {
    "duration": 13,
    "start_time": "2022-01-24T16:49:33.442Z"
   },
   {
    "duration": 81,
    "start_time": "2022-01-24T16:49:33.457Z"
   },
   {
    "duration": 115,
    "start_time": "2022-01-24T16:49:33.541Z"
   },
   {
    "duration": 77,
    "start_time": "2022-01-24T16:49:33.658Z"
   },
   {
    "duration": 92,
    "start_time": "2022-01-24T16:49:33.737Z"
   },
   {
    "duration": 6,
    "start_time": "2022-01-24T16:49:33.831Z"
   },
   {
    "duration": 10,
    "start_time": "2022-01-24T16:49:33.838Z"
   },
   {
    "duration": 7,
    "start_time": "2022-01-24T16:49:33.850Z"
   },
   {
    "duration": 7,
    "start_time": "2022-01-24T16:49:33.858Z"
   },
   {
    "duration": 7,
    "start_time": "2022-01-24T16:49:33.866Z"
   },
   {
    "duration": 3809,
    "start_time": "2022-01-24T16:49:33.877Z"
   },
   {
    "duration": 4,
    "start_time": "2022-01-24T16:49:37.688Z"
   },
   {
    "duration": 5,
    "start_time": "2022-01-24T16:49:37.694Z"
   },
   {
    "duration": 29,
    "start_time": "2022-01-24T16:49:37.700Z"
   },
   {
    "duration": 4,
    "start_time": "2022-01-24T16:49:37.731Z"
   },
   {
    "duration": 3,
    "start_time": "2022-01-24T16:49:57.831Z"
   },
   {
    "duration": 366,
    "start_time": "2022-01-24T16:49:57.836Z"
   },
   {
    "duration": 10,
    "start_time": "2022-01-24T16:49:58.204Z"
   },
   {
    "duration": 16,
    "start_time": "2022-01-24T16:49:58.216Z"
   },
   {
    "duration": 12,
    "start_time": "2022-01-24T16:49:58.234Z"
   },
   {
    "duration": 8,
    "start_time": "2022-01-24T16:49:58.248Z"
   },
   {
    "duration": 16,
    "start_time": "2022-01-24T16:49:58.258Z"
   },
   {
    "duration": 10,
    "start_time": "2022-01-24T16:49:58.276Z"
   },
   {
    "duration": 69,
    "start_time": "2022-01-24T16:49:58.289Z"
   },
   {
    "duration": 43,
    "start_time": "2022-01-24T16:49:58.360Z"
   },
   {
    "duration": 30,
    "start_time": "2022-01-24T16:49:58.404Z"
   },
   {
    "duration": 39,
    "start_time": "2022-01-24T16:49:58.436Z"
   },
   {
    "duration": 70,
    "start_time": "2022-01-24T16:49:58.477Z"
   },
   {
    "duration": 12,
    "start_time": "2022-01-24T16:49:58.548Z"
   },
   {
    "duration": 8,
    "start_time": "2022-01-24T16:49:58.562Z"
   },
   {
    "duration": 14,
    "start_time": "2022-01-24T16:49:58.572Z"
   },
   {
    "duration": 9,
    "start_time": "2022-01-24T16:49:58.587Z"
   },
   {
    "duration": 36,
    "start_time": "2022-01-24T16:49:58.598Z"
   },
   {
    "duration": 10,
    "start_time": "2022-01-24T16:49:58.636Z"
   },
   {
    "duration": 5,
    "start_time": "2022-01-24T16:49:58.648Z"
   },
   {
    "duration": 8,
    "start_time": "2022-01-24T16:49:58.655Z"
   },
   {
    "duration": 10,
    "start_time": "2022-01-24T16:49:58.665Z"
   },
   {
    "duration": 13,
    "start_time": "2022-01-24T16:49:58.676Z"
   },
   {
    "duration": 43,
    "start_time": "2022-01-24T16:49:58.690Z"
   },
   {
    "duration": 11,
    "start_time": "2022-01-24T16:49:58.735Z"
   },
   {
    "duration": 19,
    "start_time": "2022-01-24T16:49:58.747Z"
   },
   {
    "duration": 13,
    "start_time": "2022-01-24T16:49:58.769Z"
   },
   {
    "duration": 51,
    "start_time": "2022-01-24T16:49:58.784Z"
   },
   {
    "duration": 101,
    "start_time": "2022-01-24T16:49:58.838Z"
   },
   {
    "duration": 88,
    "start_time": "2022-01-24T16:49:58.941Z"
   },
   {
    "duration": 13,
    "start_time": "2022-01-24T16:49:59.031Z"
   },
   {
    "duration": 86,
    "start_time": "2022-01-24T16:49:59.046Z"
   },
   {
    "duration": 116,
    "start_time": "2022-01-24T16:49:59.134Z"
   },
   {
    "duration": 7,
    "start_time": "2022-01-24T16:49:59.328Z"
   },
   {
    "duration": 96,
    "start_time": "2022-01-24T16:49:59.338Z"
   },
   {
    "duration": 6,
    "start_time": "2022-01-24T16:49:59.435Z"
   },
   {
    "duration": 7,
    "start_time": "2022-01-24T16:49:59.442Z"
   },
   {
    "duration": 6,
    "start_time": "2022-01-24T16:49:59.450Z"
   },
   {
    "duration": 3,
    "start_time": "2022-01-24T16:49:59.458Z"
   },
   {
    "duration": 4,
    "start_time": "2022-01-24T16:49:59.463Z"
   },
   {
    "duration": 2530,
    "start_time": "2022-01-24T16:49:59.469Z"
   },
   {
    "duration": 4,
    "start_time": "2022-01-24T16:50:02.001Z"
   },
   {
    "duration": 21,
    "start_time": "2022-01-24T16:50:02.007Z"
   },
   {
    "duration": 8,
    "start_time": "2022-01-24T16:50:02.030Z"
   },
   {
    "duration": 7,
    "start_time": "2022-01-24T16:50:02.040Z"
   },
   {
    "duration": 4,
    "start_time": "2022-01-24T16:51:54.154Z"
   },
   {
    "duration": 363,
    "start_time": "2022-01-24T16:51:54.160Z"
   },
   {
    "duration": 13,
    "start_time": "2022-01-24T16:51:54.525Z"
   },
   {
    "duration": 12,
    "start_time": "2022-01-24T16:51:54.540Z"
   },
   {
    "duration": 9,
    "start_time": "2022-01-24T16:51:54.555Z"
   },
   {
    "duration": 8,
    "start_time": "2022-01-24T16:51:54.567Z"
   },
   {
    "duration": 52,
    "start_time": "2022-01-24T16:51:54.576Z"
   },
   {
    "duration": 8,
    "start_time": "2022-01-24T16:51:54.631Z"
   },
   {
    "duration": 36,
    "start_time": "2022-01-24T16:51:54.640Z"
   },
   {
    "duration": 72,
    "start_time": "2022-01-24T16:51:54.677Z"
   },
   {
    "duration": 14,
    "start_time": "2022-01-24T16:51:54.752Z"
   },
   {
    "duration": 39,
    "start_time": "2022-01-24T16:51:54.768Z"
   },
   {
    "duration": 65,
    "start_time": "2022-01-24T16:51:54.809Z"
   },
   {
    "duration": 12,
    "start_time": "2022-01-24T16:51:54.876Z"
   },
   {
    "duration": 40,
    "start_time": "2022-01-24T16:51:54.890Z"
   },
   {
    "duration": 10,
    "start_time": "2022-01-24T16:51:54.932Z"
   },
   {
    "duration": 12,
    "start_time": "2022-01-24T16:51:54.943Z"
   },
   {
    "duration": 13,
    "start_time": "2022-01-24T16:51:54.957Z"
   },
   {
    "duration": 12,
    "start_time": "2022-01-24T16:51:54.972Z"
   },
   {
    "duration": 43,
    "start_time": "2022-01-24T16:51:54.985Z"
   },
   {
    "duration": 6,
    "start_time": "2022-01-24T16:51:55.030Z"
   },
   {
    "duration": 6,
    "start_time": "2022-01-24T16:51:55.037Z"
   },
   {
    "duration": 12,
    "start_time": "2022-01-24T16:51:55.047Z"
   },
   {
    "duration": 12,
    "start_time": "2022-01-24T16:51:55.061Z"
   },
   {
    "duration": 11,
    "start_time": "2022-01-24T16:51:55.075Z"
   },
   {
    "duration": 58,
    "start_time": "2022-01-24T16:51:55.088Z"
   },
   {
    "duration": 14,
    "start_time": "2022-01-24T16:51:55.148Z"
   },
   {
    "duration": 15,
    "start_time": "2022-01-24T16:51:55.164Z"
   },
   {
    "duration": 49,
    "start_time": "2022-01-24T16:51:55.181Z"
   },
   {
    "duration": 12,
    "start_time": "2022-01-24T16:51:55.231Z"
   },
   {
    "duration": 102,
    "start_time": "2022-01-24T16:51:55.328Z"
   },
   {
    "duration": 8,
    "start_time": "2022-01-24T16:51:55.432Z"
   },
   {
    "duration": 26,
    "start_time": "2022-01-24T16:51:55.527Z"
   },
   {
    "duration": 77,
    "start_time": "2022-01-24T16:51:55.555Z"
   },
   {
    "duration": 97,
    "start_time": "2022-01-24T16:51:55.635Z"
   },
   {
    "duration": 6,
    "start_time": "2022-01-24T16:51:55.734Z"
   },
   {
    "duration": 10,
    "start_time": "2022-01-24T16:51:55.741Z"
   },
   {
    "duration": 5,
    "start_time": "2022-01-24T16:51:55.753Z"
   },
   {
    "duration": 3,
    "start_time": "2022-01-24T16:51:55.760Z"
   },
   {
    "duration": 6,
    "start_time": "2022-01-24T16:51:55.765Z"
   },
   {
    "duration": 2671,
    "start_time": "2022-01-24T16:51:55.772Z"
   },
   {
    "duration": 4,
    "start_time": "2022-01-24T16:51:58.445Z"
   },
   {
    "duration": 6,
    "start_time": "2022-01-24T16:51:58.451Z"
   },
   {
    "duration": 9,
    "start_time": "2022-01-24T16:51:58.459Z"
   },
   {
    "duration": 6,
    "start_time": "2022-01-24T16:51:58.470Z"
   },
   {
    "duration": 3,
    "start_time": "2022-01-24T16:52:14.183Z"
   },
   {
    "duration": 348,
    "start_time": "2022-01-24T16:52:14.188Z"
   },
   {
    "duration": 9,
    "start_time": "2022-01-24T16:52:14.538Z"
   },
   {
    "duration": 7,
    "start_time": "2022-01-24T16:52:14.549Z"
   },
   {
    "duration": 12,
    "start_time": "2022-01-24T16:52:14.558Z"
   },
   {
    "duration": 9,
    "start_time": "2022-01-24T16:52:14.572Z"
   },
   {
    "duration": 43,
    "start_time": "2022-01-24T16:52:14.584Z"
   },
   {
    "duration": 9,
    "start_time": "2022-01-24T16:52:14.629Z"
   },
   {
    "duration": 58,
    "start_time": "2022-01-24T16:52:14.640Z"
   },
   {
    "duration": 98,
    "start_time": "2022-01-24T16:52:14.700Z"
   },
   {
    "duration": 31,
    "start_time": "2022-01-24T16:52:14.800Z"
   },
   {
    "duration": 48,
    "start_time": "2022-01-24T16:52:14.833Z"
   },
   {
    "duration": 68,
    "start_time": "2022-01-24T16:52:14.883Z"
   },
   {
    "duration": 12,
    "start_time": "2022-01-24T16:52:14.953Z"
   },
   {
    "duration": 18,
    "start_time": "2022-01-24T16:52:14.966Z"
   },
   {
    "duration": 10,
    "start_time": "2022-01-24T16:52:14.985Z"
   },
   {
    "duration": 36,
    "start_time": "2022-01-24T16:52:14.997Z"
   },
   {
    "duration": 13,
    "start_time": "2022-01-24T16:52:15.035Z"
   },
   {
    "duration": 11,
    "start_time": "2022-01-24T16:52:15.052Z"
   },
   {
    "duration": 6,
    "start_time": "2022-01-24T16:52:15.065Z"
   },
   {
    "duration": 9,
    "start_time": "2022-01-24T16:52:15.072Z"
   },
   {
    "duration": 7,
    "start_time": "2022-01-24T16:52:15.083Z"
   },
   {
    "duration": 42,
    "start_time": "2022-01-24T16:52:15.091Z"
   },
   {
    "duration": 12,
    "start_time": "2022-01-24T16:52:15.135Z"
   },
   {
    "duration": 10,
    "start_time": "2022-01-24T16:52:15.149Z"
   },
   {
    "duration": 18,
    "start_time": "2022-01-24T16:52:15.161Z"
   },
   {
    "duration": 56,
    "start_time": "2022-01-24T16:52:15.180Z"
   },
   {
    "duration": 14,
    "start_time": "2022-01-24T16:52:15.238Z"
   },
   {
    "duration": 80,
    "start_time": "2022-01-24T16:52:15.253Z"
   },
   {
    "duration": 98,
    "start_time": "2022-01-24T16:52:15.336Z"
   },
   {
    "duration": 15,
    "start_time": "2022-01-24T16:52:15.436Z"
   },
   {
    "duration": 179,
    "start_time": "2022-01-24T16:52:15.453Z"
   },
   {
    "duration": 95,
    "start_time": "2022-01-24T16:52:15.634Z"
   },
   {
    "duration": 10,
    "start_time": "2022-01-24T16:52:15.731Z"
   },
   {
    "duration": 91,
    "start_time": "2022-01-24T16:52:15.743Z"
   },
   {
    "duration": 5,
    "start_time": "2022-01-24T16:52:15.836Z"
   },
   {
    "duration": 7,
    "start_time": "2022-01-24T16:52:15.842Z"
   },
   {
    "duration": 6,
    "start_time": "2022-01-24T16:52:15.850Z"
   },
   {
    "duration": 11,
    "start_time": "2022-01-24T16:52:15.858Z"
   },
   {
    "duration": 6,
    "start_time": "2022-01-24T16:52:15.870Z"
   },
   {
    "duration": 2905,
    "start_time": "2022-01-24T16:52:15.877Z"
   },
   {
    "duration": 5,
    "start_time": "2022-01-24T16:52:18.784Z"
   },
   {
    "duration": 6,
    "start_time": "2022-01-24T16:52:18.790Z"
   },
   {
    "duration": 8,
    "start_time": "2022-01-24T16:52:18.798Z"
   },
   {
    "duration": 4,
    "start_time": "2022-01-24T16:52:18.827Z"
   },
   {
    "duration": 3,
    "start_time": "2022-01-24T16:53:21.698Z"
   },
   {
    "duration": 3,
    "start_time": "2022-01-24T16:54:00.812Z"
   },
   {
    "duration": 328,
    "start_time": "2022-01-24T16:54:00.816Z"
   },
   {
    "duration": 10,
    "start_time": "2022-01-24T16:54:01.146Z"
   },
   {
    "duration": 9,
    "start_time": "2022-01-24T16:54:01.157Z"
   },
   {
    "duration": 11,
    "start_time": "2022-01-24T16:54:01.167Z"
   },
   {
    "duration": 6,
    "start_time": "2022-01-24T16:54:01.180Z"
   },
   {
    "duration": 11,
    "start_time": "2022-01-24T16:54:01.187Z"
   },
   {
    "duration": 32,
    "start_time": "2022-01-24T16:54:01.201Z"
   },
   {
    "duration": 54,
    "start_time": "2022-01-24T16:54:01.235Z"
   },
   {
    "duration": 98,
    "start_time": "2022-01-24T16:54:01.291Z"
   },
   {
    "duration": 37,
    "start_time": "2022-01-24T16:54:01.391Z"
   },
   {
    "duration": 51,
    "start_time": "2022-01-24T16:54:01.430Z"
   },
   {
    "duration": 74,
    "start_time": "2022-01-24T16:54:01.483Z"
   },
   {
    "duration": 15,
    "start_time": "2022-01-24T16:54:01.559Z"
   },
   {
    "duration": 12,
    "start_time": "2022-01-24T16:54:01.576Z"
   },
   {
    "duration": 44,
    "start_time": "2022-01-24T16:54:01.590Z"
   },
   {
    "duration": 14,
    "start_time": "2022-01-24T16:54:01.636Z"
   },
   {
    "duration": 20,
    "start_time": "2022-01-24T16:54:01.652Z"
   },
   {
    "duration": 19,
    "start_time": "2022-01-24T16:54:01.674Z"
   },
   {
    "duration": 7,
    "start_time": "2022-01-24T16:54:01.696Z"
   },
   {
    "duration": 5,
    "start_time": "2022-01-24T16:54:01.727Z"
   },
   {
    "duration": 9,
    "start_time": "2022-01-24T16:54:01.734Z"
   },
   {
    "duration": 15,
    "start_time": "2022-01-24T16:54:01.747Z"
   },
   {
    "duration": 13,
    "start_time": "2022-01-24T16:54:01.764Z"
   },
   {
    "duration": 13,
    "start_time": "2022-01-24T16:54:01.778Z"
   },
   {
    "duration": 51,
    "start_time": "2022-01-24T16:54:01.793Z"
   },
   {
    "duration": 14,
    "start_time": "2022-01-24T16:54:01.846Z"
   },
   {
    "duration": 13,
    "start_time": "2022-01-24T16:54:01.862Z"
   },
   {
    "duration": 62,
    "start_time": "2022-01-24T16:54:01.876Z"
   },
   {
    "duration": 91,
    "start_time": "2022-01-24T16:54:01.940Z"
   },
   {
    "duration": 102,
    "start_time": "2022-01-24T16:54:02.032Z"
   },
   {
    "duration": 93,
    "start_time": "2022-01-24T16:54:02.136Z"
   },
   {
    "duration": 99,
    "start_time": "2022-01-24T16:54:02.231Z"
   },
   {
    "duration": 96,
    "start_time": "2022-01-24T16:54:02.332Z"
   },
   {
    "duration": 5,
    "start_time": "2022-01-24T16:54:02.430Z"
   },
   {
    "duration": 15,
    "start_time": "2022-01-24T16:54:02.437Z"
   },
   {
    "duration": 8,
    "start_time": "2022-01-24T16:54:02.454Z"
   },
   {
    "duration": 4,
    "start_time": "2022-01-24T16:54:02.464Z"
   },
   {
    "duration": 5,
    "start_time": "2022-01-24T16:54:02.469Z"
   },
   {
    "duration": 7,
    "start_time": "2022-01-24T16:54:02.476Z"
   },
   {
    "duration": 4441,
    "start_time": "2022-01-24T16:54:02.484Z"
   },
   {
    "duration": -1413,
    "start_time": "2022-01-24T16:54:08.339Z"
   },
   {
    "duration": -1414,
    "start_time": "2022-01-24T16:54:08.341Z"
   },
   {
    "duration": -1414,
    "start_time": "2022-01-24T16:54:08.343Z"
   },
   {
    "duration": -1415,
    "start_time": "2022-01-24T16:54:08.345Z"
   },
   {
    "duration": 4,
    "start_time": "2022-01-24T16:54:22.039Z"
   },
   {
    "duration": 340,
    "start_time": "2022-01-24T16:54:22.045Z"
   },
   {
    "duration": 11,
    "start_time": "2022-01-24T16:54:22.388Z"
   },
   {
    "duration": 15,
    "start_time": "2022-01-24T16:54:22.401Z"
   },
   {
    "duration": 18,
    "start_time": "2022-01-24T16:54:22.417Z"
   },
   {
    "duration": 14,
    "start_time": "2022-01-24T16:54:22.436Z"
   },
   {
    "duration": 10,
    "start_time": "2022-01-24T16:54:22.451Z"
   },
   {
    "duration": 8,
    "start_time": "2022-01-24T16:54:22.463Z"
   },
   {
    "duration": 65,
    "start_time": "2022-01-24T16:54:22.473Z"
   },
   {
    "duration": 43,
    "start_time": "2022-01-24T16:54:22.540Z"
   },
   {
    "duration": 13,
    "start_time": "2022-01-24T16:54:22.584Z"
   },
   {
    "duration": 59,
    "start_time": "2022-01-24T16:54:22.599Z"
   },
   {
    "duration": 35,
    "start_time": "2022-01-24T16:54:22.660Z"
   },
   {
    "duration": 10,
    "start_time": "2022-01-24T16:54:22.697Z"
   },
   {
    "duration": 10,
    "start_time": "2022-01-24T16:54:22.726Z"
   },
   {
    "duration": 9,
    "start_time": "2022-01-24T16:54:22.738Z"
   },
   {
    "duration": 9,
    "start_time": "2022-01-24T16:54:22.749Z"
   },
   {
    "duration": 11,
    "start_time": "2022-01-24T16:54:22.760Z"
   },
   {
    "duration": 10,
    "start_time": "2022-01-24T16:54:22.772Z"
   },
   {
    "duration": 44,
    "start_time": "2022-01-24T16:54:22.783Z"
   },
   {
    "duration": 5,
    "start_time": "2022-01-24T16:54:22.829Z"
   },
   {
    "duration": 6,
    "start_time": "2022-01-24T16:54:22.836Z"
   },
   {
    "duration": 11,
    "start_time": "2022-01-24T16:54:22.845Z"
   },
   {
    "duration": 10,
    "start_time": "2022-01-24T16:54:22.858Z"
   },
   {
    "duration": 10,
    "start_time": "2022-01-24T16:54:22.870Z"
   },
   {
    "duration": 50,
    "start_time": "2022-01-24T16:54:22.882Z"
   },
   {
    "duration": 12,
    "start_time": "2022-01-24T16:54:22.933Z"
   },
   {
    "duration": 11,
    "start_time": "2022-01-24T16:54:22.947Z"
   },
   {
    "duration": 77,
    "start_time": "2022-01-24T16:54:22.959Z"
   },
   {
    "duration": 91,
    "start_time": "2022-01-24T16:54:23.038Z"
   },
   {
    "duration": 15,
    "start_time": "2022-01-24T16:54:23.130Z"
   },
   {
    "duration": 9,
    "start_time": "2022-01-24T16:54:23.227Z"
   },
   {
    "duration": 104,
    "start_time": "2022-01-24T16:54:23.238Z"
   },
   {
    "duration": 85,
    "start_time": "2022-01-24T16:54:23.344Z"
   },
   {
    "duration": 98,
    "start_time": "2022-01-24T16:54:23.431Z"
   },
   {
    "duration": 3,
    "start_time": "2022-01-24T16:54:23.531Z"
   },
   {
    "duration": 7,
    "start_time": "2022-01-24T16:54:23.536Z"
   },
   {
    "duration": 4,
    "start_time": "2022-01-24T16:54:23.544Z"
   },
   {
    "duration": 7,
    "start_time": "2022-01-24T16:54:23.549Z"
   },
   {
    "duration": 9,
    "start_time": "2022-01-24T16:54:23.557Z"
   },
   {
    "duration": 2475,
    "start_time": "2022-01-24T16:54:23.567Z"
   },
   {
    "duration": 4,
    "start_time": "2022-01-24T16:54:26.044Z"
   },
   {
    "duration": 6,
    "start_time": "2022-01-24T16:54:26.050Z"
   },
   {
    "duration": 8,
    "start_time": "2022-01-24T16:54:26.058Z"
   },
   {
    "duration": 6,
    "start_time": "2022-01-24T16:54:26.068Z"
   },
   {
    "duration": 4,
    "start_time": "2022-01-24T16:55:18.408Z"
   },
   {
    "duration": 386,
    "start_time": "2022-01-24T16:55:18.414Z"
   },
   {
    "duration": 10,
    "start_time": "2022-01-24T16:55:18.802Z"
   },
   {
    "duration": 19,
    "start_time": "2022-01-24T16:55:18.813Z"
   },
   {
    "duration": 12,
    "start_time": "2022-01-24T16:55:18.834Z"
   },
   {
    "duration": 7,
    "start_time": "2022-01-24T16:55:18.848Z"
   },
   {
    "duration": 14,
    "start_time": "2022-01-24T16:55:18.856Z"
   },
   {
    "duration": 7,
    "start_time": "2022-01-24T16:55:18.871Z"
   },
   {
    "duration": 65,
    "start_time": "2022-01-24T16:55:18.880Z"
   },
   {
    "duration": 45,
    "start_time": "2022-01-24T16:55:18.947Z"
   },
   {
    "duration": 34,
    "start_time": "2022-01-24T16:55:18.994Z"
   },
   {
    "duration": 43,
    "start_time": "2022-01-24T16:55:19.030Z"
   },
   {
    "duration": 70,
    "start_time": "2022-01-24T16:55:19.075Z"
   },
   {
    "duration": 13,
    "start_time": "2022-01-24T16:55:19.146Z"
   },
   {
    "duration": 11,
    "start_time": "2022-01-24T16:55:19.161Z"
   },
   {
    "duration": 12,
    "start_time": "2022-01-24T16:55:19.174Z"
   },
   {
    "duration": 45,
    "start_time": "2022-01-24T16:55:19.187Z"
   },
   {
    "duration": 15,
    "start_time": "2022-01-24T16:55:19.234Z"
   },
   {
    "duration": 14,
    "start_time": "2022-01-24T16:55:19.251Z"
   },
   {
    "duration": 7,
    "start_time": "2022-01-24T16:55:19.267Z"
   },
   {
    "duration": 7,
    "start_time": "2022-01-24T16:55:19.276Z"
   },
   {
    "duration": 5,
    "start_time": "2022-01-24T16:55:19.284Z"
   },
   {
    "duration": 42,
    "start_time": "2022-01-24T16:55:19.291Z"
   },
   {
    "duration": 11,
    "start_time": "2022-01-24T16:55:19.334Z"
   },
   {
    "duration": 17,
    "start_time": "2022-01-24T16:55:19.346Z"
   },
   {
    "duration": 22,
    "start_time": "2022-01-24T16:55:19.364Z"
   },
   {
    "duration": 11,
    "start_time": "2022-01-24T16:55:19.389Z"
   },
   {
    "duration": 33,
    "start_time": "2022-01-24T16:55:19.402Z"
   },
   {
    "duration": 191,
    "start_time": "2022-01-24T16:55:19.436Z"
   },
   {
    "duration": 5,
    "start_time": "2022-01-24T16:55:19.629Z"
   },
   {
    "duration": 92,
    "start_time": "2022-01-24T16:55:19.636Z"
   },
   {
    "duration": 101,
    "start_time": "2022-01-24T16:55:19.730Z"
   },
   {
    "duration": 23,
    "start_time": "2022-01-24T16:55:19.833Z"
   },
   {
    "duration": 170,
    "start_time": "2022-01-24T16:55:19.858Z"
   },
   {
    "duration": 9,
    "start_time": "2022-01-24T16:55:20.030Z"
   },
   {
    "duration": 15,
    "start_time": "2022-01-24T16:55:20.040Z"
   },
   {
    "duration": 10,
    "start_time": "2022-01-24T16:55:20.056Z"
   },
   {
    "duration": 21,
    "start_time": "2022-01-24T16:55:20.067Z"
   },
   {
    "duration": 6,
    "start_time": "2022-01-24T16:55:20.090Z"
   },
   {
    "duration": 9,
    "start_time": "2022-01-24T16:55:20.098Z"
   },
   {
    "duration": 2346,
    "start_time": "2022-01-24T16:55:20.108Z"
   },
   {
    "duration": 4,
    "start_time": "2022-01-24T16:55:22.455Z"
   },
   {
    "duration": 367,
    "start_time": "2022-01-24T16:55:22.460Z"
   },
   {
    "duration": 286,
    "start_time": "2022-01-24T16:55:22.829Z"
   },
   {
    "duration": 234,
    "start_time": "2022-01-24T16:55:23.116Z"
   },
   {
    "duration": 3,
    "start_time": "2022-01-24T16:56:42.852Z"
   },
   {
    "duration": 325,
    "start_time": "2022-01-24T16:56:42.857Z"
   },
   {
    "duration": 9,
    "start_time": "2022-01-24T16:56:43.184Z"
   },
   {
    "duration": 7,
    "start_time": "2022-01-24T16:56:43.195Z"
   },
   {
    "duration": 25,
    "start_time": "2022-01-24T16:56:43.204Z"
   },
   {
    "duration": 7,
    "start_time": "2022-01-24T16:56:43.230Z"
   },
   {
    "duration": 11,
    "start_time": "2022-01-24T16:56:43.239Z"
   },
   {
    "duration": 7,
    "start_time": "2022-01-24T16:56:43.251Z"
   },
   {
    "duration": 34,
    "start_time": "2022-01-24T16:56:43.261Z"
   },
   {
    "duration": 71,
    "start_time": "2022-01-24T16:56:43.297Z"
   },
   {
    "duration": 13,
    "start_time": "2022-01-24T16:56:43.369Z"
   },
   {
    "duration": 65,
    "start_time": "2022-01-24T16:56:43.383Z"
   },
   {
    "duration": 33,
    "start_time": "2022-01-24T16:56:43.449Z"
   },
   {
    "duration": 9,
    "start_time": "2022-01-24T16:56:43.484Z"
   },
   {
    "duration": 39,
    "start_time": "2022-01-24T16:56:43.495Z"
   },
   {
    "duration": 9,
    "start_time": "2022-01-24T16:56:43.536Z"
   },
   {
    "duration": 7,
    "start_time": "2022-01-24T16:56:43.546Z"
   },
   {
    "duration": 10,
    "start_time": "2022-01-24T16:56:43.555Z"
   },
   {
    "duration": 10,
    "start_time": "2022-01-24T16:56:43.567Z"
   },
   {
    "duration": 50,
    "start_time": "2022-01-24T16:56:43.578Z"
   },
   {
    "duration": 7,
    "start_time": "2022-01-24T16:56:43.630Z"
   },
   {
    "duration": 7,
    "start_time": "2022-01-24T16:56:43.639Z"
   },
   {
    "duration": 13,
    "start_time": "2022-01-24T16:56:43.647Z"
   },
   {
    "duration": 14,
    "start_time": "2022-01-24T16:56:43.662Z"
   },
   {
    "duration": 11,
    "start_time": "2022-01-24T16:56:43.677Z"
   },
   {
    "duration": 52,
    "start_time": "2022-01-24T16:56:43.690Z"
   },
   {
    "duration": 13,
    "start_time": "2022-01-24T16:56:43.745Z"
   },
   {
    "duration": 12,
    "start_time": "2022-01-24T16:56:43.760Z"
   },
   {
    "duration": 63,
    "start_time": "2022-01-24T16:56:43.774Z"
   },
   {
    "duration": 92,
    "start_time": "2022-01-24T16:56:43.839Z"
   },
   {
    "duration": 96,
    "start_time": "2022-01-24T16:56:43.933Z"
   },
   {
    "duration": 7,
    "start_time": "2022-01-24T16:56:44.030Z"
   },
   {
    "duration": 105,
    "start_time": "2022-01-24T16:56:44.039Z"
   },
   {
    "duration": 82,
    "start_time": "2022-01-24T16:56:44.146Z"
   },
   {
    "duration": 5,
    "start_time": "2022-01-24T16:56:44.230Z"
   },
   {
    "duration": 92,
    "start_time": "2022-01-24T16:56:44.237Z"
   },
   {
    "duration": 9,
    "start_time": "2022-01-24T16:56:44.331Z"
   },
   {
    "duration": 4,
    "start_time": "2022-01-24T16:56:44.342Z"
   },
   {
    "duration": 6,
    "start_time": "2022-01-24T16:56:44.348Z"
   },
   {
    "duration": 6,
    "start_time": "2022-01-24T16:56:44.355Z"
   },
   {
    "duration": 2573,
    "start_time": "2022-01-24T16:56:44.362Z"
   },
   {
    "duration": 3,
    "start_time": "2022-01-24T16:56:46.937Z"
   },
   {
    "duration": 18,
    "start_time": "2022-01-24T16:56:46.942Z"
   },
   {
    "duration": 11,
    "start_time": "2022-01-24T16:56:46.961Z"
   },
   {
    "duration": 7,
    "start_time": "2022-01-24T16:56:46.974Z"
   },
   {
    "duration": 2407,
    "start_time": "2022-01-24T17:11:11.848Z"
   },
   {
    "duration": 2522,
    "start_time": "2022-01-24T17:11:37.145Z"
   },
   {
    "duration": 2361,
    "start_time": "2022-01-24T17:12:00.842Z"
   },
   {
    "duration": 9,
    "start_time": "2022-01-24T17:13:04.092Z"
   },
   {
    "duration": 4,
    "start_time": "2022-01-24T17:13:04.396Z"
   },
   {
    "duration": 4,
    "start_time": "2022-01-24T17:13:05.391Z"
   },
   {
    "duration": 6,
    "start_time": "2022-01-24T17:13:05.752Z"
   },
   {
    "duration": 4,
    "start_time": "2022-01-24T17:13:08.487Z"
   },
   {
    "duration": 4,
    "start_time": "2022-01-24T17:14:12.176Z"
   },
   {
    "duration": 340,
    "start_time": "2022-01-24T17:14:12.182Z"
   },
   {
    "duration": 9,
    "start_time": "2022-01-24T17:14:12.524Z"
   },
   {
    "duration": 7,
    "start_time": "2022-01-24T17:14:12.535Z"
   },
   {
    "duration": 11,
    "start_time": "2022-01-24T17:14:12.543Z"
   },
   {
    "duration": 9,
    "start_time": "2022-01-24T17:14:12.555Z"
   },
   {
    "duration": 11,
    "start_time": "2022-01-24T17:14:12.566Z"
   },
   {
    "duration": 7,
    "start_time": "2022-01-24T17:14:12.579Z"
   },
   {
    "duration": 37,
    "start_time": "2022-01-24T17:14:12.629Z"
   },
   {
    "duration": 74,
    "start_time": "2022-01-24T17:14:12.668Z"
   },
   {
    "duration": 13,
    "start_time": "2022-01-24T17:14:12.743Z"
   },
   {
    "duration": 32,
    "start_time": "2022-01-24T17:14:12.757Z"
   },
   {
    "duration": 57,
    "start_time": "2022-01-24T17:14:12.791Z"
   },
   {
    "duration": 10,
    "start_time": "2022-01-24T17:14:12.850Z"
   },
   {
    "duration": 8,
    "start_time": "2022-01-24T17:14:12.862Z"
   },
   {
    "duration": 9,
    "start_time": "2022-01-24T17:14:12.872Z"
   },
   {
    "duration": 7,
    "start_time": "2022-01-24T17:14:12.883Z"
   },
   {
    "duration": 10,
    "start_time": "2022-01-24T17:14:12.927Z"
   },
   {
    "duration": 11,
    "start_time": "2022-01-24T17:14:12.939Z"
   },
   {
    "duration": 7,
    "start_time": "2022-01-24T17:14:12.951Z"
   },
   {
    "duration": 7,
    "start_time": "2022-01-24T17:14:12.959Z"
   },
   {
    "duration": 7,
    "start_time": "2022-01-24T17:14:12.968Z"
   },
   {
    "duration": 13,
    "start_time": "2022-01-24T17:14:12.976Z"
   },
   {
    "duration": 9,
    "start_time": "2022-01-24T17:14:12.991Z"
   },
   {
    "duration": 34,
    "start_time": "2022-01-24T17:14:13.002Z"
   },
   {
    "duration": 18,
    "start_time": "2022-01-24T17:14:13.038Z"
   },
   {
    "duration": 12,
    "start_time": "2022-01-24T17:14:13.059Z"
   },
   {
    "duration": 12,
    "start_time": "2022-01-24T17:14:13.072Z"
   },
   {
    "duration": 142,
    "start_time": "2022-01-24T17:14:13.085Z"
   },
   {
    "duration": 5,
    "start_time": "2022-01-24T17:14:13.229Z"
   },
   {
    "duration": 14,
    "start_time": "2022-01-24T17:14:13.236Z"
   },
   {
    "duration": 100,
    "start_time": "2022-01-24T17:14:13.331Z"
   },
   {
    "duration": 12,
    "start_time": "2022-01-24T17:14:13.432Z"
   },
   {
    "duration": 180,
    "start_time": "2022-01-24T17:14:13.446Z"
   },
   {
    "duration": 6,
    "start_time": "2022-01-24T17:14:13.628Z"
   },
   {
    "duration": 7,
    "start_time": "2022-01-24T17:14:13.636Z"
   },
   {
    "duration": 4,
    "start_time": "2022-01-24T17:14:13.645Z"
   },
   {
    "duration": 6,
    "start_time": "2022-01-24T17:14:13.650Z"
   },
   {
    "duration": 4,
    "start_time": "2022-01-24T17:14:13.657Z"
   },
   {
    "duration": 5,
    "start_time": "2022-01-24T17:14:13.662Z"
   },
   {
    "duration": 2434,
    "start_time": "2022-01-24T17:14:13.668Z"
   },
   {
    "duration": 2314,
    "start_time": "2022-01-24T17:14:16.103Z"
   },
   {
    "duration": 2346,
    "start_time": "2022-01-24T17:14:18.418Z"
   },
   {
    "duration": 3,
    "start_time": "2022-01-24T17:14:20.766Z"
   },
   {
    "duration": 6,
    "start_time": "2022-01-24T17:14:20.771Z"
   },
   {
    "duration": 8,
    "start_time": "2022-01-24T17:14:20.778Z"
   },
   {
    "duration": 8,
    "start_time": "2022-01-24T17:14:20.787Z"
   },
   {
    "duration": 31,
    "start_time": "2022-01-24T17:14:20.797Z"
   },
   {
    "duration": 2,
    "start_time": "2022-01-24T17:23:56.589Z"
   },
   {
    "duration": 344,
    "start_time": "2022-01-24T17:23:56.593Z"
   },
   {
    "duration": 9,
    "start_time": "2022-01-24T17:23:56.939Z"
   },
   {
    "duration": 7,
    "start_time": "2022-01-24T17:23:56.950Z"
   },
   {
    "duration": 11,
    "start_time": "2022-01-24T17:23:56.958Z"
   },
   {
    "duration": 7,
    "start_time": "2022-01-24T17:23:56.971Z"
   },
   {
    "duration": 13,
    "start_time": "2022-01-24T17:23:56.980Z"
   },
   {
    "duration": 8,
    "start_time": "2022-01-24T17:23:57.028Z"
   },
   {
    "duration": 39,
    "start_time": "2022-01-24T17:23:57.038Z"
   },
   {
    "duration": 89,
    "start_time": "2022-01-24T17:23:57.079Z"
   },
   {
    "duration": 19,
    "start_time": "2022-01-24T17:23:57.170Z"
   },
   {
    "duration": 63,
    "start_time": "2022-01-24T17:23:57.191Z"
   },
   {
    "duration": 36,
    "start_time": "2022-01-24T17:23:57.256Z"
   },
   {
    "duration": 10,
    "start_time": "2022-01-24T17:23:57.293Z"
   },
   {
    "duration": 29,
    "start_time": "2022-01-24T17:23:57.304Z"
   },
   {
    "duration": 9,
    "start_time": "2022-01-24T17:23:57.334Z"
   },
   {
    "duration": 9,
    "start_time": "2022-01-24T17:23:57.345Z"
   },
   {
    "duration": 13,
    "start_time": "2022-01-24T17:23:57.355Z"
   },
   {
    "duration": 10,
    "start_time": "2022-01-24T17:23:57.369Z"
   },
   {
    "duration": 5,
    "start_time": "2022-01-24T17:23:57.380Z"
   },
   {
    "duration": 6,
    "start_time": "2022-01-24T17:23:57.386Z"
   },
   {
    "duration": 34,
    "start_time": "2022-01-24T17:23:57.393Z"
   },
   {
    "duration": 11,
    "start_time": "2022-01-24T17:23:57.429Z"
   },
   {
    "duration": 10,
    "start_time": "2022-01-24T17:23:57.441Z"
   },
   {
    "duration": 11,
    "start_time": "2022-01-24T17:23:57.452Z"
   },
   {
    "duration": 17,
    "start_time": "2022-01-24T17:23:57.464Z"
   },
   {
    "duration": 50,
    "start_time": "2022-01-24T17:23:57.485Z"
   },
   {
    "duration": 12,
    "start_time": "2022-01-24T17:23:57.536Z"
   },
   {
    "duration": 89,
    "start_time": "2022-01-24T17:23:57.550Z"
   },
   {
    "duration": 6,
    "start_time": "2022-01-24T17:23:57.727Z"
   },
   {
    "duration": 16,
    "start_time": "2022-01-24T17:23:57.735Z"
   },
   {
    "duration": 8,
    "start_time": "2022-01-24T17:23:57.828Z"
   },
   {
    "duration": 16,
    "start_time": "2022-01-24T17:23:57.927Z"
   },
   {
    "duration": 90,
    "start_time": "2022-01-24T17:23:57.946Z"
   },
   {
    "duration": 4,
    "start_time": "2022-01-24T17:23:58.128Z"
   },
   {
    "duration": 6,
    "start_time": "2022-01-24T17:23:58.134Z"
   },
   {
    "duration": 4,
    "start_time": "2022-01-24T17:23:58.141Z"
   },
   {
    "duration": 4,
    "start_time": "2022-01-24T17:23:58.146Z"
   },
   {
    "duration": 3,
    "start_time": "2022-01-24T17:23:58.152Z"
   },
   {
    "duration": 6,
    "start_time": "2022-01-24T17:23:58.156Z"
   },
   {
    "duration": 2364,
    "start_time": "2022-01-24T17:23:58.163Z"
   },
   {
    "duration": 2492,
    "start_time": "2022-01-24T17:24:00.528Z"
   },
   {
    "duration": 2443,
    "start_time": "2022-01-24T17:24:03.021Z"
   },
   {
    "duration": 5,
    "start_time": "2022-01-24T17:24:05.466Z"
   },
   {
    "duration": 7,
    "start_time": "2022-01-24T17:24:05.472Z"
   },
   {
    "duration": 7,
    "start_time": "2022-01-24T17:24:05.481Z"
   },
   {
    "duration": 42,
    "start_time": "2022-01-24T17:24:05.490Z"
   },
   {
    "duration": 7,
    "start_time": "2022-01-24T17:24:05.533Z"
   },
   {
    "duration": 3,
    "start_time": "2022-01-24T17:24:49.632Z"
   },
   {
    "duration": 357,
    "start_time": "2022-01-24T17:24:49.637Z"
   },
   {
    "duration": 10,
    "start_time": "2022-01-24T17:24:49.996Z"
   },
   {
    "duration": 20,
    "start_time": "2022-01-24T17:24:50.008Z"
   },
   {
    "duration": 9,
    "start_time": "2022-01-24T17:24:50.030Z"
   },
   {
    "duration": 10,
    "start_time": "2022-01-24T17:24:50.040Z"
   },
   {
    "duration": 10,
    "start_time": "2022-01-24T17:24:50.052Z"
   },
   {
    "duration": 6,
    "start_time": "2022-01-24T17:24:50.065Z"
   },
   {
    "duration": 68,
    "start_time": "2022-01-24T17:24:50.073Z"
   },
   {
    "duration": 55,
    "start_time": "2022-01-24T17:24:50.143Z"
   },
   {
    "duration": 30,
    "start_time": "2022-01-24T17:24:50.200Z"
   },
   {
    "duration": 39,
    "start_time": "2022-01-24T17:24:50.231Z"
   },
   {
    "duration": 55,
    "start_time": "2022-01-24T17:24:50.272Z"
   },
   {
    "duration": 10,
    "start_time": "2022-01-24T17:24:50.328Z"
   },
   {
    "duration": 11,
    "start_time": "2022-01-24T17:24:50.340Z"
   },
   {
    "duration": 11,
    "start_time": "2022-01-24T17:24:50.353Z"
   },
   {
    "duration": 11,
    "start_time": "2022-01-24T17:24:50.365Z"
   },
   {
    "duration": 56,
    "start_time": "2022-01-24T17:24:50.377Z"
   },
   {
    "duration": 12,
    "start_time": "2022-01-24T17:24:50.435Z"
   },
   {
    "duration": 11,
    "start_time": "2022-01-24T17:24:50.448Z"
   },
   {
    "duration": 10,
    "start_time": "2022-01-24T17:24:50.461Z"
   },
   {
    "duration": 17,
    "start_time": "2022-01-24T17:24:50.472Z"
   },
   {
    "duration": 20,
    "start_time": "2022-01-24T17:24:50.495Z"
   },
   {
    "duration": 14,
    "start_time": "2022-01-24T17:24:50.518Z"
   },
   {
    "duration": 21,
    "start_time": "2022-01-24T17:24:50.533Z"
   },
   {
    "duration": 34,
    "start_time": "2022-01-24T17:24:50.556Z"
   },
   {
    "duration": 12,
    "start_time": "2022-01-24T17:24:50.592Z"
   },
   {
    "duration": 23,
    "start_time": "2022-01-24T17:24:50.606Z"
   },
   {
    "duration": 13,
    "start_time": "2022-01-24T17:24:50.630Z"
   },
   {
    "duration": 85,
    "start_time": "2022-01-24T17:24:50.649Z"
   },
   {
    "duration": 101,
    "start_time": "2022-01-24T17:24:50.737Z"
   },
   {
    "duration": 191,
    "start_time": "2022-01-24T17:24:50.840Z"
   },
   {
    "duration": 14,
    "start_time": "2022-01-24T17:24:51.032Z"
   },
   {
    "duration": 102,
    "start_time": "2022-01-24T17:24:51.129Z"
   },
   {
    "duration": 4,
    "start_time": "2022-01-24T17:24:51.233Z"
   },
   {
    "duration": 8,
    "start_time": "2022-01-24T17:24:51.238Z"
   },
   {
    "duration": 6,
    "start_time": "2022-01-24T17:24:51.247Z"
   },
   {
    "duration": 8,
    "start_time": "2022-01-24T17:24:51.255Z"
   },
   {
    "duration": 3,
    "start_time": "2022-01-24T17:24:51.265Z"
   },
   {
    "duration": 6,
    "start_time": "2022-01-24T17:24:51.270Z"
   },
   {
    "duration": 2550,
    "start_time": "2022-01-24T17:24:51.278Z"
   },
   {
    "duration": 2514,
    "start_time": "2022-01-24T17:24:53.829Z"
   },
   {
    "duration": 2308,
    "start_time": "2022-01-24T17:24:56.344Z"
   },
   {
    "duration": 4,
    "start_time": "2022-01-24T17:24:58.653Z"
   },
   {
    "duration": 5,
    "start_time": "2022-01-24T17:24:58.659Z"
   },
   {
    "duration": 6,
    "start_time": "2022-01-24T17:24:58.666Z"
   },
   {
    "duration": 7,
    "start_time": "2022-01-24T17:24:58.674Z"
   },
   {
    "duration": 4,
    "start_time": "2022-01-24T17:24:58.682Z"
   },
   {
    "duration": 3,
    "start_time": "2022-01-24T17:25:58.109Z"
   },
   {
    "duration": 351,
    "start_time": "2022-01-24T17:25:58.114Z"
   },
   {
    "duration": 11,
    "start_time": "2022-01-24T17:25:58.467Z"
   },
   {
    "duration": 9,
    "start_time": "2022-01-24T17:25:58.480Z"
   },
   {
    "duration": 37,
    "start_time": "2022-01-24T17:25:58.491Z"
   },
   {
    "duration": 8,
    "start_time": "2022-01-24T17:25:58.530Z"
   },
   {
    "duration": 13,
    "start_time": "2022-01-24T17:25:58.540Z"
   },
   {
    "duration": 8,
    "start_time": "2022-01-24T17:25:58.556Z"
   },
   {
    "duration": 75,
    "start_time": "2022-01-24T17:25:58.566Z"
   },
   {
    "duration": 46,
    "start_time": "2022-01-24T17:25:58.643Z"
   },
   {
    "duration": 37,
    "start_time": "2022-01-24T17:25:58.691Z"
   },
   {
    "duration": 35,
    "start_time": "2022-01-24T17:25:58.730Z"
   },
   {
    "duration": 62,
    "start_time": "2022-01-24T17:25:58.767Z"
   },
   {
    "duration": 12,
    "start_time": "2022-01-24T17:25:58.831Z"
   },
   {
    "duration": 11,
    "start_time": "2022-01-24T17:25:58.845Z"
   },
   {
    "duration": 11,
    "start_time": "2022-01-24T17:25:58.858Z"
   },
   {
    "duration": 10,
    "start_time": "2022-01-24T17:25:58.871Z"
   },
   {
    "duration": 55,
    "start_time": "2022-01-24T17:25:58.883Z"
   },
   {
    "duration": 11,
    "start_time": "2022-01-24T17:25:58.940Z"
   },
   {
    "duration": 4,
    "start_time": "2022-01-24T17:25:58.953Z"
   },
   {
    "duration": 6,
    "start_time": "2022-01-24T17:25:58.959Z"
   },
   {
    "duration": 7,
    "start_time": "2022-01-24T17:25:58.966Z"
   },
   {
    "duration": 50,
    "start_time": "2022-01-24T17:25:58.977Z"
   },
   {
    "duration": 13,
    "start_time": "2022-01-24T17:25:59.029Z"
   },
   {
    "duration": 11,
    "start_time": "2022-01-24T17:25:59.044Z"
   },
   {
    "duration": 21,
    "start_time": "2022-01-24T17:25:59.056Z"
   },
   {
    "duration": 13,
    "start_time": "2022-01-24T17:25:59.078Z"
   },
   {
    "duration": 14,
    "start_time": "2022-01-24T17:25:59.128Z"
   },
   {
    "duration": 86,
    "start_time": "2022-01-24T17:25:59.143Z"
   },
   {
    "duration": 99,
    "start_time": "2022-01-24T17:25:59.231Z"
   },
   {
    "duration": 15,
    "start_time": "2022-01-24T17:25:59.332Z"
   },
   {
    "duration": 8,
    "start_time": "2022-01-24T17:25:59.426Z"
   },
   {
    "duration": 107,
    "start_time": "2022-01-24T17:25:59.435Z"
   },
   {
    "duration": 183,
    "start_time": "2022-01-24T17:25:59.544Z"
   },
   {
    "duration": 4,
    "start_time": "2022-01-24T17:25:59.729Z"
   },
   {
    "duration": 9,
    "start_time": "2022-01-24T17:25:59.734Z"
   },
   {
    "duration": 4,
    "start_time": "2022-01-24T17:25:59.744Z"
   },
   {
    "duration": 3,
    "start_time": "2022-01-24T17:25:59.750Z"
   },
   {
    "duration": 4,
    "start_time": "2022-01-24T17:25:59.755Z"
   },
   {
    "duration": 5,
    "start_time": "2022-01-24T17:25:59.760Z"
   },
   {
    "duration": 2376,
    "start_time": "2022-01-24T17:25:59.766Z"
   },
   {
    "duration": 2341,
    "start_time": "2022-01-24T17:26:02.144Z"
   },
   {
    "duration": 2348,
    "start_time": "2022-01-24T17:26:04.487Z"
   },
   {
    "duration": 4,
    "start_time": "2022-01-24T17:26:06.837Z"
   },
   {
    "duration": 6,
    "start_time": "2022-01-24T17:26:06.842Z"
   },
   {
    "duration": 6,
    "start_time": "2022-01-24T17:26:06.849Z"
   },
   {
    "duration": 5,
    "start_time": "2022-01-24T17:26:06.857Z"
   },
   {
    "duration": 4,
    "start_time": "2022-01-24T17:26:06.863Z"
   },
   {
    "duration": 6,
    "start_time": "2022-01-24T17:27:51.916Z"
   },
   {
    "duration": 110,
    "start_time": "2022-01-24T17:32:39.755Z"
   },
   {
    "duration": 321,
    "start_time": "2022-01-24T17:32:59.141Z"
   },
   {
    "duration": 345,
    "start_time": "2022-01-24T17:33:14.602Z"
   },
   {
    "duration": 3,
    "start_time": "2022-01-24T17:34:03.974Z"
   },
   {
    "duration": 420,
    "start_time": "2022-01-24T17:34:09.355Z"
   },
   {
    "duration": 372,
    "start_time": "2022-01-24T17:36:38.362Z"
   },
   {
    "duration": 3,
    "start_time": "2022-01-24T17:36:47.777Z"
   },
   {
    "duration": 334,
    "start_time": "2022-01-24T17:36:47.782Z"
   },
   {
    "duration": 9,
    "start_time": "2022-01-24T17:36:48.118Z"
   },
   {
    "duration": 7,
    "start_time": "2022-01-24T17:36:48.129Z"
   },
   {
    "duration": 12,
    "start_time": "2022-01-24T17:36:48.138Z"
   },
   {
    "duration": 8,
    "start_time": "2022-01-24T17:36:48.152Z"
   },
   {
    "duration": 13,
    "start_time": "2022-01-24T17:36:48.161Z"
   },
   {
    "duration": 51,
    "start_time": "2022-01-24T17:36:48.177Z"
   },
   {
    "duration": 36,
    "start_time": "2022-01-24T17:36:48.231Z"
   },
   {
    "duration": 66,
    "start_time": "2022-01-24T17:36:48.269Z"
   },
   {
    "duration": 12,
    "start_time": "2022-01-24T17:36:48.337Z"
   },
   {
    "duration": 35,
    "start_time": "2022-01-24T17:36:48.350Z"
   },
   {
    "duration": 56,
    "start_time": "2022-01-24T17:36:48.387Z"
   },
   {
    "duration": 10,
    "start_time": "2022-01-24T17:36:48.444Z"
   },
   {
    "duration": 9,
    "start_time": "2022-01-24T17:36:48.456Z"
   },
   {
    "duration": 9,
    "start_time": "2022-01-24T17:36:48.466Z"
   },
   {
    "duration": 9,
    "start_time": "2022-01-24T17:36:48.476Z"
   },
   {
    "duration": 45,
    "start_time": "2022-01-24T17:36:48.486Z"
   },
   {
    "duration": 8,
    "start_time": "2022-01-24T17:36:48.533Z"
   },
   {
    "duration": 5,
    "start_time": "2022-01-24T17:36:48.543Z"
   },
   {
    "duration": 6,
    "start_time": "2022-01-24T17:36:48.549Z"
   },
   {
    "duration": 8,
    "start_time": "2022-01-24T17:36:48.557Z"
   },
   {
    "duration": 11,
    "start_time": "2022-01-24T17:36:48.568Z"
   },
   {
    "duration": 11,
    "start_time": "2022-01-24T17:36:48.580Z"
   },
   {
    "duration": 41,
    "start_time": "2022-01-24T17:36:48.592Z"
   },
   {
    "duration": 19,
    "start_time": "2022-01-24T17:36:48.635Z"
   },
   {
    "duration": 13,
    "start_time": "2022-01-24T17:36:48.655Z"
   },
   {
    "duration": 13,
    "start_time": "2022-01-24T17:36:48.669Z"
   },
   {
    "duration": 145,
    "start_time": "2022-01-24T17:36:48.683Z"
   },
   {
    "duration": 5,
    "start_time": "2022-01-24T17:36:48.830Z"
   },
   {
    "duration": 12,
    "start_time": "2022-01-24T17:36:48.836Z"
   },
   {
    "duration": 84,
    "start_time": "2022-01-24T17:36:48.850Z"
   },
   {
    "duration": 193,
    "start_time": "2022-01-24T17:36:48.936Z"
   },
   {
    "duration": 97,
    "start_time": "2022-01-24T17:36:49.131Z"
   },
   {
    "duration": 6,
    "start_time": "2022-01-24T17:36:49.230Z"
   },
   {
    "duration": 5,
    "start_time": "2022-01-24T17:36:49.238Z"
   },
   {
    "duration": 7,
    "start_time": "2022-01-24T17:36:49.245Z"
   },
   {
    "duration": 6,
    "start_time": "2022-01-24T17:36:49.254Z"
   },
   {
    "duration": 5,
    "start_time": "2022-01-24T17:36:49.261Z"
   },
   {
    "duration": 8,
    "start_time": "2022-01-24T17:36:49.268Z"
   },
   {
    "duration": 2415,
    "start_time": "2022-01-24T17:36:49.277Z"
   },
   {
    "duration": 2446,
    "start_time": "2022-01-24T17:36:51.693Z"
   },
   {
    "duration": 2547,
    "start_time": "2022-01-24T17:36:54.141Z"
   },
   {
    "duration": 4,
    "start_time": "2022-01-24T17:36:56.690Z"
   },
   {
    "duration": 6,
    "start_time": "2022-01-24T17:36:56.695Z"
   },
   {
    "duration": 25,
    "start_time": "2022-01-24T17:36:56.703Z"
   },
   {
    "duration": 3,
    "start_time": "2022-01-24T17:36:56.729Z"
   },
   {
    "duration": 4,
    "start_time": "2022-01-24T17:36:56.734Z"
   },
   {
    "duration": 5,
    "start_time": "2022-01-24T17:36:56.739Z"
   },
   {
    "duration": 326,
    "start_time": "2022-01-24T17:36:56.745Z"
   },
   {
    "duration": 307,
    "start_time": "2022-01-24T17:38:02.507Z"
   },
   {
    "duration": 377,
    "start_time": "2022-01-24T17:38:11.239Z"
   },
   {
    "duration": 103,
    "start_time": "2022-01-24T17:39:27.130Z"
   },
   {
    "duration": 111,
    "start_time": "2022-01-24T17:39:37.033Z"
   },
   {
    "duration": 170,
    "start_time": "2022-01-24T17:39:41.088Z"
   },
   {
    "duration": 120,
    "start_time": "2022-01-24T17:39:45.395Z"
   },
   {
    "duration": 3,
    "start_time": "2022-01-24T17:39:51.873Z"
   },
   {
    "duration": 4,
    "start_time": "2022-01-24T17:42:02.045Z"
   },
   {
    "duration": 355,
    "start_time": "2022-01-24T17:42:02.051Z"
   },
   {
    "duration": 19,
    "start_time": "2022-01-24T17:42:02.408Z"
   },
   {
    "duration": 9,
    "start_time": "2022-01-24T17:42:02.430Z"
   },
   {
    "duration": 11,
    "start_time": "2022-01-24T17:42:02.440Z"
   },
   {
    "duration": 9,
    "start_time": "2022-01-24T17:42:02.453Z"
   },
   {
    "duration": 11,
    "start_time": "2022-01-24T17:42:02.464Z"
   },
   {
    "duration": 52,
    "start_time": "2022-01-24T17:42:02.478Z"
   },
   {
    "duration": 35,
    "start_time": "2022-01-24T17:42:02.532Z"
   },
   {
    "duration": 60,
    "start_time": "2022-01-24T17:42:02.569Z"
   },
   {
    "duration": 13,
    "start_time": "2022-01-24T17:42:02.631Z"
   },
   {
    "duration": 35,
    "start_time": "2022-01-24T17:42:02.645Z"
   },
   {
    "duration": 63,
    "start_time": "2022-01-24T17:42:02.682Z"
   },
   {
    "duration": 10,
    "start_time": "2022-01-24T17:42:02.747Z"
   },
   {
    "duration": 9,
    "start_time": "2022-01-24T17:42:02.759Z"
   },
   {
    "duration": 11,
    "start_time": "2022-01-24T17:42:02.769Z"
   },
   {
    "duration": 11,
    "start_time": "2022-01-24T17:42:02.781Z"
   },
   {
    "duration": 40,
    "start_time": "2022-01-24T17:42:02.793Z"
   },
   {
    "duration": 12,
    "start_time": "2022-01-24T17:42:02.835Z"
   },
   {
    "duration": 5,
    "start_time": "2022-01-24T17:42:02.848Z"
   },
   {
    "duration": 6,
    "start_time": "2022-01-24T17:42:02.855Z"
   },
   {
    "duration": 6,
    "start_time": "2022-01-24T17:42:02.862Z"
   },
   {
    "duration": 12,
    "start_time": "2022-01-24T17:42:02.871Z"
   },
   {
    "duration": 48,
    "start_time": "2022-01-24T17:42:02.885Z"
   },
   {
    "duration": 12,
    "start_time": "2022-01-24T17:42:02.935Z"
   },
   {
    "duration": 20,
    "start_time": "2022-01-24T17:42:02.949Z"
   },
   {
    "duration": 15,
    "start_time": "2022-01-24T17:42:02.970Z"
   },
   {
    "duration": 42,
    "start_time": "2022-01-24T17:42:02.987Z"
   },
   {
    "duration": 99,
    "start_time": "2022-01-24T17:42:03.031Z"
   },
   {
    "duration": 96,
    "start_time": "2022-01-24T17:42:03.135Z"
   },
   {
    "duration": 15,
    "start_time": "2022-01-24T17:42:03.232Z"
   },
   {
    "duration": 182,
    "start_time": "2022-01-24T17:42:03.249Z"
   },
   {
    "duration": 27,
    "start_time": "2022-01-24T17:42:03.433Z"
   },
   {
    "duration": 8,
    "start_time": "2022-01-24T17:42:03.528Z"
   },
   {
    "duration": 7,
    "start_time": "2022-01-24T17:42:03.627Z"
   },
   {
    "duration": 11,
    "start_time": "2022-01-24T17:42:03.636Z"
   },
   {
    "duration": 9,
    "start_time": "2022-01-24T17:42:03.648Z"
   },
   {
    "duration": 8,
    "start_time": "2022-01-24T17:42:03.658Z"
   },
   {
    "duration": 5,
    "start_time": "2022-01-24T17:42:03.667Z"
   },
   {
    "duration": 5,
    "start_time": "2022-01-24T17:42:03.673Z"
   },
   {
    "duration": 2389,
    "start_time": "2022-01-24T17:42:03.679Z"
   },
   {
    "duration": 2558,
    "start_time": "2022-01-24T17:42:06.070Z"
   },
   {
    "duration": 2413,
    "start_time": "2022-01-24T17:42:08.630Z"
   },
   {
    "duration": 4,
    "start_time": "2022-01-24T17:42:11.045Z"
   },
   {
    "duration": 5,
    "start_time": "2022-01-24T17:42:11.050Z"
   },
   {
    "duration": 7,
    "start_time": "2022-01-24T17:42:11.057Z"
   },
   {
    "duration": 5,
    "start_time": "2022-01-24T17:42:11.066Z"
   },
   {
    "duration": 4,
    "start_time": "2022-01-24T17:42:11.073Z"
   },
   {
    "duration": 4,
    "start_time": "2022-01-24T17:42:11.079Z"
   },
   {
    "duration": 335,
    "start_time": "2022-01-24T17:42:11.085Z"
   },
   {
    "duration": 453,
    "start_time": "2022-01-24T17:45:16.566Z"
   },
   {
    "duration": 537,
    "start_time": "2022-01-24T17:45:36.512Z"
   },
   {
    "duration": 3,
    "start_time": "2022-01-24T17:45:37.891Z"
   },
   {
    "duration": 501,
    "start_time": "2022-01-24T17:45:38.104Z"
   },
   {
    "duration": 3,
    "start_time": "2022-01-24T17:46:10.163Z"
   },
   {
    "duration": 314,
    "start_time": "2022-01-24T17:46:10.380Z"
   },
   {
    "duration": 334,
    "start_time": "2022-01-24T17:47:05.554Z"
   },
   {
    "duration": 2,
    "start_time": "2022-01-24T17:47:07.253Z"
   },
   {
    "duration": 326,
    "start_time": "2022-01-24T17:47:07.481Z"
   },
   {
    "duration": 4,
    "start_time": "2022-01-24T17:47:43.051Z"
   },
   {
    "duration": 821,
    "start_time": "2022-01-24T17:47:43.265Z"
   },
   {
    "duration": 4,
    "start_time": "2022-01-24T17:48:55.120Z"
   },
   {
    "duration": 476,
    "start_time": "2022-01-24T17:49:00.226Z"
   },
   {
    "duration": 819,
    "start_time": "2022-01-24T17:49:18.385Z"
   },
   {
    "duration": 302,
    "start_time": "2022-01-24T17:49:25.785Z"
   },
   {
    "duration": 296,
    "start_time": "2022-01-24T17:49:37.037Z"
   },
   {
    "duration": 8,
    "start_time": "2022-01-24T17:50:06.669Z"
   },
   {
    "duration": 6,
    "start_time": "2022-01-24T17:50:26.666Z"
   },
   {
    "duration": 9,
    "start_time": "2022-01-24T17:50:31.680Z"
   },
   {
    "duration": 313,
    "start_time": "2022-01-24T17:51:26.009Z"
   },
   {
    "duration": 9,
    "start_time": "2022-01-24T17:51:30.192Z"
   },
   {
    "duration": 8,
    "start_time": "2022-01-24T17:51:35.215Z"
   },
   {
    "duration": 8,
    "start_time": "2022-01-24T17:51:58.914Z"
   },
   {
    "duration": 379,
    "start_time": "2022-01-24T17:52:04.707Z"
   },
   {
    "duration": 8,
    "start_time": "2022-01-24T17:52:09.001Z"
   },
   {
    "duration": 3,
    "start_time": "2022-01-24T17:54:05.224Z"
   },
   {
    "duration": 337,
    "start_time": "2022-01-24T17:54:05.229Z"
   },
   {
    "duration": 10,
    "start_time": "2022-01-24T17:54:05.568Z"
   },
   {
    "duration": 7,
    "start_time": "2022-01-24T17:54:05.579Z"
   },
   {
    "duration": 11,
    "start_time": "2022-01-24T17:54:05.588Z"
   },
   {
    "duration": 33,
    "start_time": "2022-01-24T17:54:05.600Z"
   },
   {
    "duration": 9,
    "start_time": "2022-01-24T17:54:05.634Z"
   },
   {
    "duration": 7,
    "start_time": "2022-01-24T17:54:05.644Z"
   },
   {
    "duration": 76,
    "start_time": "2022-01-24T17:54:05.653Z"
   },
   {
    "duration": 44,
    "start_time": "2022-01-24T17:54:05.731Z"
   },
   {
    "duration": 13,
    "start_time": "2022-01-24T17:54:05.776Z"
   },
   {
    "duration": 65,
    "start_time": "2022-01-24T17:54:05.791Z"
   },
   {
    "duration": 37,
    "start_time": "2022-01-24T17:54:05.858Z"
   },
   {
    "duration": 31,
    "start_time": "2022-01-24T17:54:05.897Z"
   },
   {
    "duration": 15,
    "start_time": "2022-01-24T17:54:05.930Z"
   },
   {
    "duration": 11,
    "start_time": "2022-01-24T17:54:05.947Z"
   },
   {
    "duration": 9,
    "start_time": "2022-01-24T17:54:05.959Z"
   },
   {
    "duration": 13,
    "start_time": "2022-01-24T17:54:05.970Z"
   },
   {
    "duration": 44,
    "start_time": "2022-01-24T17:54:05.984Z"
   },
   {
    "duration": 10,
    "start_time": "2022-01-24T17:54:06.029Z"
   },
   {
    "duration": 14,
    "start_time": "2022-01-24T17:54:06.040Z"
   },
   {
    "duration": 6,
    "start_time": "2022-01-24T17:54:06.055Z"
   },
   {
    "duration": 24,
    "start_time": "2022-01-24T17:54:06.063Z"
   },
   {
    "duration": 10,
    "start_time": "2022-01-24T17:54:06.088Z"
   },
   {
    "duration": 14,
    "start_time": "2022-01-24T17:54:06.099Z"
   },
   {
    "duration": 23,
    "start_time": "2022-01-24T17:54:06.114Z"
   },
   {
    "duration": 12,
    "start_time": "2022-01-24T17:54:06.140Z"
   },
   {
    "duration": 18,
    "start_time": "2022-01-24T17:54:06.153Z"
   },
   {
    "duration": 58,
    "start_time": "2022-01-24T17:54:06.172Z"
   },
   {
    "duration": 95,
    "start_time": "2022-01-24T17:54:06.232Z"
   },
   {
    "duration": 103,
    "start_time": "2022-01-24T17:54:06.329Z"
   },
   {
    "duration": 96,
    "start_time": "2022-01-24T17:54:06.433Z"
   },
   {
    "duration": 14,
    "start_time": "2022-01-24T17:54:06.531Z"
   },
   {
    "duration": 10,
    "start_time": "2022-01-24T17:54:06.627Z"
   },
   {
    "duration": 5,
    "start_time": "2022-01-24T17:54:06.728Z"
   },
   {
    "duration": 7,
    "start_time": "2022-01-24T17:54:06.734Z"
   },
   {
    "duration": 5,
    "start_time": "2022-01-24T17:54:06.742Z"
   },
   {
    "duration": 5,
    "start_time": "2022-01-24T17:54:06.748Z"
   },
   {
    "duration": 3,
    "start_time": "2022-01-24T17:54:06.754Z"
   },
   {
    "duration": 5,
    "start_time": "2022-01-24T17:54:06.759Z"
   },
   {
    "duration": 2366,
    "start_time": "2022-01-24T17:54:06.766Z"
   },
   {
    "duration": 2319,
    "start_time": "2022-01-24T17:54:09.133Z"
   },
   {
    "duration": 2354,
    "start_time": "2022-01-24T17:54:11.453Z"
   },
   {
    "duration": 4,
    "start_time": "2022-01-24T17:54:13.809Z"
   },
   {
    "duration": 14,
    "start_time": "2022-01-24T17:54:13.814Z"
   },
   {
    "duration": 6,
    "start_time": "2022-01-24T17:54:13.829Z"
   },
   {
    "duration": 5,
    "start_time": "2022-01-24T17:54:13.836Z"
   },
   {
    "duration": 4,
    "start_time": "2022-01-24T17:54:13.842Z"
   },
   {
    "duration": 8,
    "start_time": "2022-01-24T17:54:13.848Z"
   },
   {
    "duration": 6,
    "start_time": "2022-01-24T17:55:45.251Z"
   },
   {
    "duration": 106,
    "start_time": "2022-01-24T17:56:45.970Z"
   },
   {
    "duration": 106,
    "start_time": "2022-01-24T17:57:07.186Z"
   },
   {
    "duration": 113,
    "start_time": "2022-01-24T17:57:19.084Z"
   },
   {
    "duration": 6,
    "start_time": "2022-01-24T17:57:40.724Z"
   },
   {
    "duration": 6,
    "start_time": "2022-01-24T17:58:03.091Z"
   },
   {
    "duration": 6,
    "start_time": "2022-01-24T17:59:28.348Z"
   },
   {
    "duration": 6,
    "start_time": "2022-01-24T17:59:42.428Z"
   },
   {
    "duration": 4,
    "start_time": "2022-01-24T18:00:37.897Z"
   },
   {
    "duration": 332,
    "start_time": "2022-01-24T18:00:37.902Z"
   },
   {
    "duration": 8,
    "start_time": "2022-01-24T18:00:38.236Z"
   },
   {
    "duration": 7,
    "start_time": "2022-01-24T18:00:38.246Z"
   },
   {
    "duration": 10,
    "start_time": "2022-01-24T18:00:38.255Z"
   },
   {
    "duration": 8,
    "start_time": "2022-01-24T18:00:38.266Z"
   },
   {
    "duration": 11,
    "start_time": "2022-01-24T18:00:38.275Z"
   },
   {
    "duration": 42,
    "start_time": "2022-01-24T18:00:38.288Z"
   },
   {
    "duration": 35,
    "start_time": "2022-01-24T18:00:38.332Z"
   },
   {
    "duration": 58,
    "start_time": "2022-01-24T18:00:38.369Z"
   },
   {
    "duration": 14,
    "start_time": "2022-01-24T18:00:38.428Z"
   },
   {
    "duration": 37,
    "start_time": "2022-01-24T18:00:38.443Z"
   },
   {
    "duration": 58,
    "start_time": "2022-01-24T18:00:38.482Z"
   },
   {
    "duration": 11,
    "start_time": "2022-01-24T18:00:38.542Z"
   },
   {
    "duration": 11,
    "start_time": "2022-01-24T18:00:38.555Z"
   },
   {
    "duration": 10,
    "start_time": "2022-01-24T18:00:38.568Z"
   },
   {
    "duration": 48,
    "start_time": "2022-01-24T18:00:38.580Z"
   },
   {
    "duration": 12,
    "start_time": "2022-01-24T18:00:38.630Z"
   },
   {
    "duration": 11,
    "start_time": "2022-01-24T18:00:38.644Z"
   },
   {
    "duration": 7,
    "start_time": "2022-01-24T18:00:38.656Z"
   },
   {
    "duration": 5,
    "start_time": "2022-01-24T18:00:38.665Z"
   },
   {
    "duration": 5,
    "start_time": "2022-01-24T18:00:38.672Z"
   },
   {
    "duration": 57,
    "start_time": "2022-01-24T18:00:38.681Z"
   },
   {
    "duration": 11,
    "start_time": "2022-01-24T18:00:38.739Z"
   },
   {
    "duration": 10,
    "start_time": "2022-01-24T18:00:38.751Z"
   },
   {
    "duration": 18,
    "start_time": "2022-01-24T18:00:38.763Z"
   },
   {
    "duration": 44,
    "start_time": "2022-01-24T18:00:38.783Z"
   },
   {
    "duration": 13,
    "start_time": "2022-01-24T18:00:38.829Z"
   },
   {
    "duration": 87,
    "start_time": "2022-01-24T18:00:38.844Z"
   },
   {
    "duration": 98,
    "start_time": "2022-01-24T18:00:38.933Z"
   },
   {
    "duration": 101,
    "start_time": "2022-01-24T18:00:39.033Z"
   },
   {
    "duration": 96,
    "start_time": "2022-01-24T18:00:39.135Z"
   },
   {
    "duration": 195,
    "start_time": "2022-01-24T18:00:39.232Z"
   },
   {
    "duration": 7,
    "start_time": "2022-01-24T18:00:39.429Z"
   },
   {
    "duration": 4,
    "start_time": "2022-01-24T18:00:39.438Z"
   },
   {
    "duration": 4,
    "start_time": "2022-01-24T18:00:39.444Z"
   },
   {
    "duration": 4,
    "start_time": "2022-01-24T18:00:39.450Z"
   },
   {
    "duration": 4,
    "start_time": "2022-01-24T18:00:39.456Z"
   },
   {
    "duration": 5,
    "start_time": "2022-01-24T18:00:39.461Z"
   },
   {
    "duration": 63,
    "start_time": "2022-01-24T18:00:39.467Z"
   },
   {
    "duration": 2341,
    "start_time": "2022-01-24T18:00:39.532Z"
   },
   {
    "duration": 2369,
    "start_time": "2022-01-24T18:00:41.875Z"
   },
   {
    "duration": 2329,
    "start_time": "2022-01-24T18:00:44.246Z"
   },
   {
    "duration": 7,
    "start_time": "2022-01-24T18:00:46.577Z"
   },
   {
    "duration": 8,
    "start_time": "2022-01-24T18:00:46.585Z"
   },
   {
    "duration": 4,
    "start_time": "2022-01-24T18:00:46.595Z"
   },
   {
    "duration": 28,
    "start_time": "2022-01-24T18:00:46.600Z"
   },
   {
    "duration": 8,
    "start_time": "2022-01-24T18:00:46.630Z"
   },
   {
    "duration": 4,
    "start_time": "2022-01-24T18:01:22.566Z"
   },
   {
    "duration": 336,
    "start_time": "2022-01-24T18:01:22.575Z"
   },
   {
    "duration": 14,
    "start_time": "2022-01-24T18:01:22.913Z"
   },
   {
    "duration": 8,
    "start_time": "2022-01-24T18:01:22.929Z"
   },
   {
    "duration": 11,
    "start_time": "2022-01-24T18:01:22.939Z"
   },
   {
    "duration": 8,
    "start_time": "2022-01-24T18:01:22.951Z"
   },
   {
    "duration": 13,
    "start_time": "2022-01-24T18:01:22.961Z"
   },
   {
    "duration": 7,
    "start_time": "2022-01-24T18:01:22.975Z"
   },
   {
    "duration": 76,
    "start_time": "2022-01-24T18:01:22.984Z"
   },
   {
    "duration": 47,
    "start_time": "2022-01-24T18:01:23.063Z"
   },
   {
    "duration": 16,
    "start_time": "2022-01-24T18:01:23.128Z"
   },
   {
    "duration": 34,
    "start_time": "2022-01-24T18:01:23.146Z"
   },
   {
    "duration": 61,
    "start_time": "2022-01-24T18:01:23.181Z"
   },
   {
    "duration": 10,
    "start_time": "2022-01-24T18:01:23.244Z"
   },
   {
    "duration": 9,
    "start_time": "2022-01-24T18:01:23.256Z"
   },
   {
    "duration": 9,
    "start_time": "2022-01-24T18:01:23.267Z"
   },
   {
    "duration": 9,
    "start_time": "2022-01-24T18:01:23.278Z"
   },
   {
    "duration": 44,
    "start_time": "2022-01-24T18:01:23.289Z"
   },
   {
    "duration": 16,
    "start_time": "2022-01-24T18:01:23.335Z"
   },
   {
    "duration": 6,
    "start_time": "2022-01-24T18:01:23.353Z"
   },
   {
    "duration": 6,
    "start_time": "2022-01-24T18:01:23.360Z"
   },
   {
    "duration": 6,
    "start_time": "2022-01-24T18:01:23.368Z"
   },
   {
    "duration": 14,
    "start_time": "2022-01-24T18:01:23.375Z"
   },
   {
    "duration": 40,
    "start_time": "2022-01-24T18:01:23.392Z"
   },
   {
    "duration": 13,
    "start_time": "2022-01-24T18:01:23.435Z"
   },
   {
    "duration": 21,
    "start_time": "2022-01-24T18:01:23.449Z"
   },
   {
    "duration": 16,
    "start_time": "2022-01-24T18:01:23.472Z"
   },
   {
    "duration": 47,
    "start_time": "2022-01-24T18:01:23.490Z"
   },
   {
    "duration": 90,
    "start_time": "2022-01-24T18:01:23.539Z"
   },
   {
    "duration": 98,
    "start_time": "2022-01-24T18:01:23.631Z"
   },
   {
    "duration": 19,
    "start_time": "2022-01-24T18:01:23.730Z"
   },
   {
    "duration": 9,
    "start_time": "2022-01-24T18:01:23.829Z"
   },
   {
    "duration": 188,
    "start_time": "2022-01-24T18:01:23.839Z"
   },
   {
    "duration": 8,
    "start_time": "2022-01-24T18:01:24.029Z"
   },
   {
    "duration": 96,
    "start_time": "2022-01-24T18:01:24.039Z"
   },
   {
    "duration": 6,
    "start_time": "2022-01-24T18:01:24.137Z"
   },
   {
    "duration": 6,
    "start_time": "2022-01-24T18:01:24.145Z"
   },
   {
    "duration": 6,
    "start_time": "2022-01-24T18:01:24.153Z"
   },
   {
    "duration": 3,
    "start_time": "2022-01-24T18:01:24.161Z"
   },
   {
    "duration": 4,
    "start_time": "2022-01-24T18:01:24.166Z"
   },
   {
    "duration": 3008,
    "start_time": "2022-01-24T18:01:24.172Z"
   },
   {
    "duration": -1455,
    "start_time": "2022-01-24T18:01:28.637Z"
   },
   {
    "duration": -1471,
    "start_time": "2022-01-24T18:01:28.654Z"
   },
   {
    "duration": -1473,
    "start_time": "2022-01-24T18:01:28.657Z"
   },
   {
    "duration": -1474,
    "start_time": "2022-01-24T18:01:28.659Z"
   },
   {
    "duration": -1475,
    "start_time": "2022-01-24T18:01:28.661Z"
   },
   {
    "duration": -1477,
    "start_time": "2022-01-24T18:01:28.663Z"
   },
   {
    "duration": -1479,
    "start_time": "2022-01-24T18:01:28.666Z"
   },
   {
    "duration": 3,
    "start_time": "2022-01-24T18:02:04.296Z"
   },
   {
    "duration": 330,
    "start_time": "2022-01-24T18:02:04.301Z"
   },
   {
    "duration": 11,
    "start_time": "2022-01-24T18:02:04.634Z"
   },
   {
    "duration": 8,
    "start_time": "2022-01-24T18:02:04.648Z"
   },
   {
    "duration": 11,
    "start_time": "2022-01-24T18:02:04.658Z"
   },
   {
    "duration": 8,
    "start_time": "2022-01-24T18:02:04.671Z"
   },
   {
    "duration": 49,
    "start_time": "2022-01-24T18:02:04.680Z"
   },
   {
    "duration": 18,
    "start_time": "2022-01-24T18:02:04.731Z"
   },
   {
    "duration": 42,
    "start_time": "2022-01-24T18:02:04.752Z"
   },
   {
    "duration": 74,
    "start_time": "2022-01-24T18:02:04.796Z"
   },
   {
    "duration": 12,
    "start_time": "2022-01-24T18:02:04.872Z"
   },
   {
    "duration": 51,
    "start_time": "2022-01-24T18:02:04.885Z"
   },
   {
    "duration": 33,
    "start_time": "2022-01-24T18:02:04.938Z"
   },
   {
    "duration": 10,
    "start_time": "2022-01-24T18:02:04.972Z"
   },
   {
    "duration": 9,
    "start_time": "2022-01-24T18:02:04.984Z"
   },
   {
    "duration": 39,
    "start_time": "2022-01-24T18:02:04.994Z"
   },
   {
    "duration": 10,
    "start_time": "2022-01-24T18:02:05.034Z"
   },
   {
    "duration": 11,
    "start_time": "2022-01-24T18:02:05.046Z"
   },
   {
    "duration": 9,
    "start_time": "2022-01-24T18:02:05.059Z"
   },
   {
    "duration": 5,
    "start_time": "2022-01-24T18:02:05.070Z"
   },
   {
    "duration": 6,
    "start_time": "2022-01-24T18:02:05.076Z"
   },
   {
    "duration": 6,
    "start_time": "2022-01-24T18:02:05.083Z"
   },
   {
    "duration": 11,
    "start_time": "2022-01-24T18:02:05.128Z"
   },
   {
    "duration": 11,
    "start_time": "2022-01-24T18:02:05.141Z"
   },
   {
    "duration": 11,
    "start_time": "2022-01-24T18:02:05.153Z"
   },
   {
    "duration": 20,
    "start_time": "2022-01-24T18:02:05.165Z"
   },
   {
    "duration": 46,
    "start_time": "2022-01-24T18:02:05.186Z"
   },
   {
    "duration": 13,
    "start_time": "2022-01-24T18:02:05.234Z"
   },
   {
    "duration": 12,
    "start_time": "2022-01-24T18:02:05.248Z"
   },
   {
    "duration": 74,
    "start_time": "2022-01-24T18:02:05.262Z"
   },
   {
    "duration": 16,
    "start_time": "2022-01-24T18:02:05.428Z"
   },
   {
    "duration": 8,
    "start_time": "2022-01-24T18:02:05.527Z"
   },
   {
    "duration": 106,
    "start_time": "2022-01-24T18:02:05.537Z"
   },
   {
    "duration": 91,
    "start_time": "2022-01-24T18:02:05.645Z"
   },
   {
    "duration": 5,
    "start_time": "2022-01-24T18:02:05.828Z"
   },
   {
    "duration": 8,
    "start_time": "2022-01-24T18:02:05.835Z"
   },
   {
    "duration": 7,
    "start_time": "2022-01-24T18:02:05.845Z"
   },
   {
    "duration": 4,
    "start_time": "2022-01-24T18:02:05.853Z"
   },
   {
    "duration": 4,
    "start_time": "2022-01-24T18:02:05.859Z"
   },
   {
    "duration": 6,
    "start_time": "2022-01-24T18:02:05.865Z"
   },
   {
    "duration": 3087,
    "start_time": "2022-01-24T18:02:05.872Z"
   },
   {
    "duration": -1457,
    "start_time": "2022-01-24T18:02:10.418Z"
   },
   {
    "duration": -1458,
    "start_time": "2022-01-24T18:02:10.420Z"
   },
   {
    "duration": -1469,
    "start_time": "2022-01-24T18:02:10.432Z"
   },
   {
    "duration": -1470,
    "start_time": "2022-01-24T18:02:10.434Z"
   },
   {
    "duration": -1471,
    "start_time": "2022-01-24T18:02:10.436Z"
   },
   {
    "duration": -1472,
    "start_time": "2022-01-24T18:02:10.438Z"
   },
   {
    "duration": -1473,
    "start_time": "2022-01-24T18:02:10.440Z"
   },
   {
    "duration": 3,
    "start_time": "2022-01-24T18:02:26.765Z"
   },
   {
    "duration": 332,
    "start_time": "2022-01-24T18:02:26.769Z"
   },
   {
    "duration": 9,
    "start_time": "2022-01-24T18:02:27.103Z"
   },
   {
    "duration": 18,
    "start_time": "2022-01-24T18:02:27.114Z"
   },
   {
    "duration": 11,
    "start_time": "2022-01-24T18:02:27.133Z"
   },
   {
    "duration": 7,
    "start_time": "2022-01-24T18:02:27.145Z"
   },
   {
    "duration": 13,
    "start_time": "2022-01-24T18:02:27.153Z"
   },
   {
    "duration": 6,
    "start_time": "2022-01-24T18:02:27.168Z"
   },
   {
    "duration": 64,
    "start_time": "2022-01-24T18:02:27.177Z"
   },
   {
    "duration": 43,
    "start_time": "2022-01-24T18:02:27.243Z"
   },
   {
    "duration": 12,
    "start_time": "2022-01-24T18:02:27.288Z"
   },
   {
    "duration": 53,
    "start_time": "2022-01-24T18:02:27.301Z"
   },
   {
    "duration": 35,
    "start_time": "2022-01-24T18:02:27.355Z"
   },
   {
    "duration": 40,
    "start_time": "2022-01-24T18:02:27.392Z"
   },
   {
    "duration": 11,
    "start_time": "2022-01-24T18:02:27.433Z"
   },
   {
    "duration": 11,
    "start_time": "2022-01-24T18:02:27.446Z"
   },
   {
    "duration": 11,
    "start_time": "2022-01-24T18:02:27.459Z"
   },
   {
    "duration": 12,
    "start_time": "2022-01-24T18:02:27.471Z"
   },
   {
    "duration": 53,
    "start_time": "2022-01-24T18:02:27.484Z"
   },
   {
    "duration": 5,
    "start_time": "2022-01-24T18:02:27.539Z"
   },
   {
    "duration": 5,
    "start_time": "2022-01-24T18:02:27.545Z"
   },
   {
    "duration": 7,
    "start_time": "2022-01-24T18:02:27.552Z"
   },
   {
    "duration": 17,
    "start_time": "2022-01-24T18:02:27.560Z"
   },
   {
    "duration": 10,
    "start_time": "2022-01-24T18:02:27.579Z"
   },
   {
    "duration": 46,
    "start_time": "2022-01-24T18:02:27.590Z"
   },
   {
    "duration": 19,
    "start_time": "2022-01-24T18:02:27.638Z"
   },
   {
    "duration": 12,
    "start_time": "2022-01-24T18:02:27.661Z"
   },
   {
    "duration": 12,
    "start_time": "2022-01-24T18:02:27.675Z"
   },
   {
    "duration": 47,
    "start_time": "2022-01-24T18:02:27.688Z"
   },
   {
    "duration": 93,
    "start_time": "2022-01-24T18:02:27.737Z"
   },
   {
    "duration": 110,
    "start_time": "2022-01-24T18:02:27.832Z"
   },
   {
    "duration": 95,
    "start_time": "2022-01-24T18:02:27.944Z"
   },
   {
    "duration": 98,
    "start_time": "2022-01-24T18:02:28.042Z"
   },
   {
    "duration": 88,
    "start_time": "2022-01-24T18:02:28.142Z"
   },
   {
    "duration": 101,
    "start_time": "2022-01-24T18:02:28.231Z"
   },
   {
    "duration": 5,
    "start_time": "2022-01-24T18:02:28.333Z"
   },
   {
    "duration": 6,
    "start_time": "2022-01-24T18:02:28.340Z"
   },
   {
    "duration": 5,
    "start_time": "2022-01-24T18:02:28.347Z"
   },
   {
    "duration": 3,
    "start_time": "2022-01-24T18:02:28.354Z"
   },
   {
    "duration": 6,
    "start_time": "2022-01-24T18:02:28.358Z"
   },
   {
    "duration": 2336,
    "start_time": "2022-01-24T18:02:28.365Z"
   },
   {
    "duration": 2324,
    "start_time": "2022-01-24T18:02:30.703Z"
   },
   {
    "duration": 2455,
    "start_time": "2022-01-24T18:02:33.029Z"
   },
   {
    "duration": 6,
    "start_time": "2022-01-24T18:02:35.485Z"
   },
   {
    "duration": 7,
    "start_time": "2022-01-24T18:02:35.492Z"
   },
   {
    "duration": 6,
    "start_time": "2022-01-24T18:02:35.501Z"
   },
   {
    "duration": 26,
    "start_time": "2022-01-24T18:02:35.508Z"
   },
   {
    "duration": 7,
    "start_time": "2022-01-24T18:02:35.535Z"
   },
   {
    "duration": 3,
    "start_time": "2022-01-24T18:07:33.993Z"
   },
   {
    "duration": 322,
    "start_time": "2022-01-24T18:07:49.178Z"
   },
   {
    "duration": 3,
    "start_time": "2022-01-24T18:08:52.537Z"
   },
   {
    "duration": 3,
    "start_time": "2022-01-24T18:09:12.258Z"
   },
   {
    "duration": 3,
    "start_time": "2022-01-24T18:09:31.228Z"
   },
   {
    "duration": 5,
    "start_time": "2022-01-24T18:09:47.509Z"
   },
   {
    "duration": 6,
    "start_time": "2022-01-24T18:10:03.981Z"
   },
   {
    "duration": 3,
    "start_time": "2022-01-24T18:10:44.042Z"
   },
   {
    "duration": 4053,
    "start_time": "2022-01-24T18:10:44.047Z"
   },
   {
    "duration": 9,
    "start_time": "2022-01-24T18:10:48.102Z"
   },
   {
    "duration": 9,
    "start_time": "2022-01-24T18:10:48.113Z"
   },
   {
    "duration": 12,
    "start_time": "2022-01-24T18:10:48.123Z"
   },
   {
    "duration": 7,
    "start_time": "2022-01-24T18:10:48.137Z"
   },
   {
    "duration": 12,
    "start_time": "2022-01-24T18:10:48.145Z"
   },
   {
    "duration": 8,
    "start_time": "2022-01-24T18:10:48.159Z"
   },
   {
    "duration": 74,
    "start_time": "2022-01-24T18:10:48.169Z"
   },
   {
    "duration": 42,
    "start_time": "2022-01-24T18:10:48.245Z"
   },
   {
    "duration": 14,
    "start_time": "2022-01-24T18:10:48.289Z"
   },
   {
    "duration": 36,
    "start_time": "2022-01-24T18:10:48.327Z"
   },
   {
    "duration": 34,
    "start_time": "2022-01-24T18:10:48.365Z"
   },
   {
    "duration": 27,
    "start_time": "2022-01-24T18:10:48.401Z"
   },
   {
    "duration": 10,
    "start_time": "2022-01-24T18:10:48.429Z"
   },
   {
    "duration": 12,
    "start_time": "2022-01-24T18:10:48.440Z"
   },
   {
    "duration": 9,
    "start_time": "2022-01-24T18:10:48.453Z"
   },
   {
    "duration": 18,
    "start_time": "2022-01-24T18:10:48.464Z"
   },
   {
    "duration": 45,
    "start_time": "2022-01-24T18:10:48.483Z"
   },
   {
    "duration": 3,
    "start_time": "2022-01-24T18:10:48.530Z"
   },
   {
    "duration": 11,
    "start_time": "2022-01-24T18:10:48.535Z"
   },
   {
    "duration": 6,
    "start_time": "2022-01-24T18:10:48.547Z"
   },
   {
    "duration": 11,
    "start_time": "2022-01-24T18:10:48.557Z"
   },
   {
    "duration": 10,
    "start_time": "2022-01-24T18:10:48.570Z"
   },
   {
    "duration": 10,
    "start_time": "2022-01-24T18:10:48.582Z"
   },
   {
    "duration": 49,
    "start_time": "2022-01-24T18:10:48.593Z"
   },
   {
    "duration": 11,
    "start_time": "2022-01-24T18:10:48.644Z"
   },
   {
    "duration": 12,
    "start_time": "2022-01-24T18:10:48.657Z"
   },
   {
    "duration": 69,
    "start_time": "2022-01-24T18:10:48.671Z"
   },
   {
    "duration": 6,
    "start_time": "2022-01-24T18:10:48.827Z"
   },
   {
    "duration": 95,
    "start_time": "2022-01-24T18:10:48.835Z"
   },
   {
    "duration": 100,
    "start_time": "2022-01-24T18:10:48.932Z"
   },
   {
    "duration": 95,
    "start_time": "2022-01-24T18:10:49.034Z"
   },
   {
    "duration": 7,
    "start_time": "2022-01-24T18:10:49.132Z"
   },
   {
    "duration": 98,
    "start_time": "2022-01-24T18:10:49.140Z"
   },
   {
    "duration": 17,
    "start_time": "2022-01-24T18:10:49.239Z"
   },
   {
    "duration": 9,
    "start_time": "2022-01-24T18:10:49.258Z"
   },
   {
    "duration": 9,
    "start_time": "2022-01-24T18:10:49.269Z"
   },
   {
    "duration": 9,
    "start_time": "2022-01-24T18:10:49.280Z"
   },
   {
    "duration": 9,
    "start_time": "2022-01-24T18:10:49.291Z"
   },
   {
    "duration": 2810,
    "start_time": "2022-01-24T18:10:49.301Z"
   },
   {
    "duration": 2621,
    "start_time": "2022-01-24T18:10:52.112Z"
   },
   {
    "duration": 3697,
    "start_time": "2022-01-24T18:10:54.735Z"
   },
   {
    "duration": 7,
    "start_time": "2022-01-24T18:10:58.434Z"
   },
   {
    "duration": 14,
    "start_time": "2022-01-24T18:10:58.443Z"
   },
   {
    "duration": 373,
    "start_time": "2022-01-24T18:10:58.459Z"
   },
   {
    "duration": -1501,
    "start_time": "2022-01-24T18:11:00.334Z"
   },
   {
    "duration": 5,
    "start_time": "2022-01-24T18:11:01.834Z"
   },
   {
    "duration": 9,
    "start_time": "2022-01-24T18:11:03.039Z"
   },
   {
    "duration": 3,
    "start_time": "2022-01-24T18:11:11.742Z"
   },
   {
    "duration": 3,
    "start_time": "2022-01-24T18:12:09.609Z"
   },
   {
    "duration": 350,
    "start_time": "2022-01-24T18:12:09.613Z"
   },
   {
    "duration": 9,
    "start_time": "2022-01-24T18:12:09.966Z"
   },
   {
    "duration": 7,
    "start_time": "2022-01-24T18:12:09.977Z"
   },
   {
    "duration": 12,
    "start_time": "2022-01-24T18:12:09.986Z"
   },
   {
    "duration": 34,
    "start_time": "2022-01-24T18:12:10.000Z"
   },
   {
    "duration": 12,
    "start_time": "2022-01-24T18:12:10.035Z"
   },
   {
    "duration": 7,
    "start_time": "2022-01-24T18:12:10.050Z"
   },
   {
    "duration": 36,
    "start_time": "2022-01-24T18:12:10.059Z"
   },
   {
    "duration": 72,
    "start_time": "2022-01-24T18:12:10.096Z"
   },
   {
    "duration": 15,
    "start_time": "2022-01-24T18:12:10.170Z"
   },
   {
    "duration": 58,
    "start_time": "2022-01-24T18:12:10.186Z"
   },
   {
    "duration": 34,
    "start_time": "2022-01-24T18:12:10.246Z"
   },
   {
    "duration": 10,
    "start_time": "2022-01-24T18:12:10.281Z"
   },
   {
    "duration": 9,
    "start_time": "2022-01-24T18:12:10.292Z"
   },
   {
    "duration": 9,
    "start_time": "2022-01-24T18:12:10.327Z"
   },
   {
    "duration": 10,
    "start_time": "2022-01-24T18:12:10.337Z"
   },
   {
    "duration": 12,
    "start_time": "2022-01-24T18:12:10.348Z"
   },
   {
    "duration": 13,
    "start_time": "2022-01-24T18:12:10.361Z"
   },
   {
    "duration": 9,
    "start_time": "2022-01-24T18:12:10.376Z"
   },
   {
    "duration": 6,
    "start_time": "2022-01-24T18:12:10.386Z"
   },
   {
    "duration": 7,
    "start_time": "2022-01-24T18:12:10.393Z"
   },
   {
    "duration": 12,
    "start_time": "2022-01-24T18:12:10.430Z"
   },
   {
    "duration": 12,
    "start_time": "2022-01-24T18:12:10.444Z"
   },
   {
    "duration": 12,
    "start_time": "2022-01-24T18:12:10.458Z"
   },
   {
    "duration": 21,
    "start_time": "2022-01-24T18:12:10.471Z"
   },
   {
    "duration": 15,
    "start_time": "2022-01-24T18:12:10.527Z"
   },
   {
    "duration": 14,
    "start_time": "2022-01-24T18:12:10.544Z"
   },
   {
    "duration": 70,
    "start_time": "2022-01-24T18:12:10.560Z"
   },
   {
    "duration": 98,
    "start_time": "2022-01-24T18:12:10.631Z"
   },
   {
    "duration": 17,
    "start_time": "2022-01-24T18:12:10.731Z"
   },
   {
    "duration": 7,
    "start_time": "2022-01-24T18:12:10.828Z"
   },
   {
    "duration": 108,
    "start_time": "2022-01-24T18:12:10.837Z"
   },
   {
    "duration": 82,
    "start_time": "2022-01-24T18:12:10.947Z"
   },
   {
    "duration": 100,
    "start_time": "2022-01-24T18:12:11.031Z"
   },
   {
    "duration": 9,
    "start_time": "2022-01-24T18:12:11.133Z"
   },
   {
    "duration": 6,
    "start_time": "2022-01-24T18:12:11.144Z"
   },
   {
    "duration": 7,
    "start_time": "2022-01-24T18:12:11.151Z"
   },
   {
    "duration": 4,
    "start_time": "2022-01-24T18:12:11.159Z"
   },
   {
    "duration": 4,
    "start_time": "2022-01-24T18:12:11.165Z"
   },
   {
    "duration": 2828,
    "start_time": "2022-01-24T18:12:11.171Z"
   },
   {
    "duration": 2379,
    "start_time": "2022-01-24T18:12:14.001Z"
   },
   {
    "duration": 2307,
    "start_time": "2022-01-24T18:12:16.382Z"
   },
   {
    "duration": 6,
    "start_time": "2022-01-24T18:12:18.690Z"
   },
   {
    "duration": 7,
    "start_time": "2022-01-24T18:12:18.697Z"
   },
   {
    "duration": 21,
    "start_time": "2022-01-24T18:12:18.706Z"
   },
   {
    "duration": 11,
    "start_time": "2022-01-24T18:12:18.729Z"
   },
   {
    "duration": 3,
    "start_time": "2022-01-24T18:13:41.677Z"
   },
   {
    "duration": 2303,
    "start_time": "2022-01-24T18:13:41.682Z"
   },
   {
    "duration": 9,
    "start_time": "2022-01-24T18:13:43.987Z"
   },
   {
    "duration": 8,
    "start_time": "2022-01-24T18:13:43.998Z"
   },
   {
    "duration": 23,
    "start_time": "2022-01-24T18:13:44.007Z"
   },
   {
    "duration": 10,
    "start_time": "2022-01-24T18:13:44.032Z"
   },
   {
    "duration": 17,
    "start_time": "2022-01-24T18:13:44.044Z"
   },
   {
    "duration": 10,
    "start_time": "2022-01-24T18:13:44.064Z"
   },
   {
    "duration": 73,
    "start_time": "2022-01-24T18:13:44.077Z"
   },
   {
    "duration": 45,
    "start_time": "2022-01-24T18:13:44.152Z"
   },
   {
    "duration": 33,
    "start_time": "2022-01-24T18:13:44.199Z"
   },
   {
    "duration": 38,
    "start_time": "2022-01-24T18:13:44.234Z"
   },
   {
    "duration": 59,
    "start_time": "2022-01-24T18:13:44.275Z"
   },
   {
    "duration": 10,
    "start_time": "2022-01-24T18:13:44.337Z"
   },
   {
    "duration": 10,
    "start_time": "2022-01-24T18:13:44.348Z"
   },
   {
    "duration": 9,
    "start_time": "2022-01-24T18:13:44.359Z"
   },
   {
    "duration": 9,
    "start_time": "2022-01-24T18:13:44.370Z"
   },
   {
    "duration": 51,
    "start_time": "2022-01-24T18:13:44.381Z"
   },
   {
    "duration": 9,
    "start_time": "2022-01-24T18:13:44.434Z"
   },
   {
    "duration": 5,
    "start_time": "2022-01-24T18:13:44.445Z"
   },
   {
    "duration": 8,
    "start_time": "2022-01-24T18:13:44.451Z"
   },
   {
    "duration": 8,
    "start_time": "2022-01-24T18:13:44.460Z"
   },
   {
    "duration": 13,
    "start_time": "2022-01-24T18:13:44.471Z"
   },
   {
    "duration": 56,
    "start_time": "2022-01-24T18:13:44.486Z"
   },
   {
    "duration": 12,
    "start_time": "2022-01-24T18:13:44.544Z"
   },
   {
    "duration": 23,
    "start_time": "2022-01-24T18:13:44.558Z"
   },
   {
    "duration": 12,
    "start_time": "2022-01-24T18:13:44.583Z"
   },
   {
    "duration": 41,
    "start_time": "2022-01-24T18:13:44.596Z"
   },
   {
    "duration": 11,
    "start_time": "2022-01-24T18:13:44.638Z"
   },
   {
    "duration": 5,
    "start_time": "2022-01-24T18:13:44.650Z"
   },
   {
    "duration": 101,
    "start_time": "2022-01-24T18:13:44.728Z"
   },
   {
    "duration": 101,
    "start_time": "2022-01-24T18:13:44.832Z"
   },
   {
    "duration": 12,
    "start_time": "2022-01-24T18:13:44.935Z"
   },
   {
    "duration": 85,
    "start_time": "2022-01-24T18:13:44.949Z"
   },
   {
    "duration": 92,
    "start_time": "2022-01-24T18:13:45.036Z"
   },
   {
    "duration": 7,
    "start_time": "2022-01-24T18:13:45.130Z"
   },
   {
    "duration": 5,
    "start_time": "2022-01-24T18:13:45.138Z"
   },
   {
    "duration": 6,
    "start_time": "2022-01-24T18:13:45.145Z"
   },
   {
    "duration": 6,
    "start_time": "2022-01-24T18:13:45.152Z"
   },
   {
    "duration": 7,
    "start_time": "2022-01-24T18:13:45.159Z"
   },
   {
    "duration": 3478,
    "start_time": "2022-01-24T18:13:45.167Z"
   },
   {
    "duration": 2555,
    "start_time": "2022-01-24T18:13:48.647Z"
   },
   {
    "duration": 2795,
    "start_time": "2022-01-24T18:13:51.204Z"
   },
   {
    "duration": 6,
    "start_time": "2022-01-24T18:13:54.001Z"
   },
   {
    "duration": 24,
    "start_time": "2022-01-24T18:13:54.009Z"
   },
   {
    "duration": 5,
    "start_time": "2022-01-24T18:13:54.035Z"
   },
   {
    "duration": 10,
    "start_time": "2022-01-24T18:13:54.042Z"
   },
   {
    "duration": 3,
    "start_time": "2022-01-24T18:14:13.203Z"
   },
   {
    "duration": 358,
    "start_time": "2022-01-24T18:14:13.208Z"
   },
   {
    "duration": 9,
    "start_time": "2022-01-24T18:14:13.568Z"
   },
   {
    "duration": 8,
    "start_time": "2022-01-24T18:14:13.578Z"
   },
   {
    "duration": 10,
    "start_time": "2022-01-24T18:14:13.587Z"
   },
   {
    "duration": 8,
    "start_time": "2022-01-24T18:14:13.598Z"
   },
   {
    "duration": 8,
    "start_time": "2022-01-24T18:14:13.627Z"
   },
   {
    "duration": 7,
    "start_time": "2022-01-24T18:14:13.638Z"
   },
   {
    "duration": 35,
    "start_time": "2022-01-24T18:14:13.647Z"
   },
   {
    "duration": 72,
    "start_time": "2022-01-24T18:14:13.684Z"
   },
   {
    "duration": 13,
    "start_time": "2022-01-24T18:14:13.757Z"
   },
   {
    "duration": 57,
    "start_time": "2022-01-24T18:14:13.771Z"
   },
   {
    "duration": 35,
    "start_time": "2022-01-24T18:14:13.830Z"
   },
   {
    "duration": 10,
    "start_time": "2022-01-24T18:14:13.867Z"
   },
   {
    "duration": 9,
    "start_time": "2022-01-24T18:14:13.879Z"
   },
   {
    "duration": 42,
    "start_time": "2022-01-24T18:14:13.890Z"
   },
   {
    "duration": 10,
    "start_time": "2022-01-24T18:14:13.934Z"
   },
   {
    "duration": 11,
    "start_time": "2022-01-24T18:14:13.945Z"
   },
   {
    "duration": 11,
    "start_time": "2022-01-24T18:14:13.957Z"
   },
   {
    "duration": 5,
    "start_time": "2022-01-24T18:14:13.970Z"
   },
   {
    "duration": 5,
    "start_time": "2022-01-24T18:14:13.977Z"
   },
   {
    "duration": 6,
    "start_time": "2022-01-24T18:14:13.983Z"
   },
   {
    "duration": 12,
    "start_time": "2022-01-24T18:14:14.029Z"
   },
   {
    "duration": 11,
    "start_time": "2022-01-24T18:14:14.043Z"
   },
   {
    "duration": 10,
    "start_time": "2022-01-24T18:14:14.056Z"
   },
   {
    "duration": 19,
    "start_time": "2022-01-24T18:14:14.068Z"
   },
   {
    "duration": 47,
    "start_time": "2022-01-24T18:14:14.089Z"
   },
   {
    "duration": 15,
    "start_time": "2022-01-24T18:14:14.137Z"
   },
   {
    "duration": 79,
    "start_time": "2022-01-24T18:14:14.153Z"
   },
   {
    "duration": 93,
    "start_time": "2022-01-24T18:14:14.234Z"
   },
   {
    "duration": 98,
    "start_time": "2022-01-24T18:14:14.329Z"
   },
   {
    "duration": 99,
    "start_time": "2022-01-24T18:14:14.429Z"
   },
   {
    "duration": 19,
    "start_time": "2022-01-24T18:14:14.530Z"
   },
   {
    "duration": 181,
    "start_time": "2022-01-24T18:14:14.550Z"
   },
   {
    "duration": 4,
    "start_time": "2022-01-24T18:14:14.733Z"
   },
   {
    "duration": 11,
    "start_time": "2022-01-24T18:14:14.739Z"
   },
   {
    "duration": 13,
    "start_time": "2022-01-24T18:14:14.751Z"
   },
   {
    "duration": 9,
    "start_time": "2022-01-24T18:14:14.765Z"
   },
   {
    "duration": 5,
    "start_time": "2022-01-24T18:14:14.775Z"
   },
   {
    "duration": 9,
    "start_time": "2022-01-24T18:14:14.781Z"
   },
   {
    "duration": 2979,
    "start_time": "2022-01-24T18:14:14.791Z"
   },
   {
    "duration": 2566,
    "start_time": "2022-01-24T18:14:17.772Z"
   },
   {
    "duration": 2429,
    "start_time": "2022-01-24T18:14:20.340Z"
   },
   {
    "duration": 5,
    "start_time": "2022-01-24T18:14:22.770Z"
   },
   {
    "duration": 17,
    "start_time": "2022-01-24T18:14:22.776Z"
   },
   {
    "duration": 9,
    "start_time": "2022-01-24T18:14:22.794Z"
   },
   {
    "duration": 23,
    "start_time": "2022-01-24T18:14:22.805Z"
   },
   {
    "duration": 9,
    "start_time": "2022-01-24T18:16:20.530Z"
   },
   {
    "duration": 8,
    "start_time": "2022-01-24T18:17:42.350Z"
   },
   {
    "duration": 1565,
    "start_time": "2022-01-25T14:13:13.382Z"
   },
   {
    "duration": 440,
    "start_time": "2022-01-25T14:13:14.950Z"
   },
   {
    "duration": 14,
    "start_time": "2022-01-25T14:13:15.395Z"
   },
   {
    "duration": 23,
    "start_time": "2022-01-25T14:13:15.423Z"
   },
   {
    "duration": 16,
    "start_time": "2022-01-25T14:13:15.448Z"
   },
   {
    "duration": 12,
    "start_time": "2022-01-25T14:13:15.466Z"
   },
   {
    "duration": 59,
    "start_time": "2022-01-25T14:13:15.481Z"
   },
   {
    "duration": 13,
    "start_time": "2022-01-25T14:13:15.544Z"
   },
   {
    "duration": 106,
    "start_time": "2022-01-25T14:13:15.560Z"
   },
   {
    "duration": 71,
    "start_time": "2022-01-25T14:13:15.668Z"
   },
   {
    "duration": 23,
    "start_time": "2022-01-25T14:13:15.743Z"
   },
   {
    "duration": 101,
    "start_time": "2022-01-25T14:13:15.768Z"
   },
   {
    "duration": 80,
    "start_time": "2022-01-25T14:13:15.872Z"
   },
   {
    "duration": 16,
    "start_time": "2022-01-25T14:13:15.954Z"
   },
   {
    "duration": 14,
    "start_time": "2022-01-25T14:13:15.972Z"
   },
   {
    "duration": 30,
    "start_time": "2022-01-25T14:13:16.024Z"
   },
   {
    "duration": 16,
    "start_time": "2022-01-25T14:13:16.056Z"
   },
   {
    "duration": 58,
    "start_time": "2022-01-25T14:13:16.075Z"
   },
   {
    "duration": 26,
    "start_time": "2022-01-25T14:13:16.137Z"
   },
   {
    "duration": 7,
    "start_time": "2022-01-25T14:13:16.166Z"
   },
   {
    "duration": 8,
    "start_time": "2022-01-25T14:13:16.176Z"
   },
   {
    "duration": 12,
    "start_time": "2022-01-25T14:13:16.226Z"
   },
   {
    "duration": 26,
    "start_time": "2022-01-25T14:13:16.242Z"
   },
   {
    "duration": 52,
    "start_time": "2022-01-25T14:13:16.271Z"
   },
   {
    "duration": 22,
    "start_time": "2022-01-25T14:13:16.327Z"
   },
   {
    "duration": 39,
    "start_time": "2022-01-25T14:13:16.352Z"
   },
   {
    "duration": 31,
    "start_time": "2022-01-25T14:13:16.423Z"
   },
   {
    "duration": 19,
    "start_time": "2022-01-25T14:13:16.456Z"
   },
   {
    "duration": 147,
    "start_time": "2022-01-25T14:13:16.477Z"
   },
   {
    "duration": 17,
    "start_time": "2022-01-25T14:13:16.627Z"
   },
   {
    "duration": 101,
    "start_time": "2022-01-25T14:13:16.724Z"
   },
   {
    "duration": 102,
    "start_time": "2022-01-25T14:13:16.828Z"
   },
   {
    "duration": 92,
    "start_time": "2022-01-25T14:13:16.933Z"
   },
   {
    "duration": 19,
    "start_time": "2022-01-25T14:13:17.032Z"
   },
   {
    "duration": 14,
    "start_time": "2022-01-25T14:13:17.126Z"
   },
   {
    "duration": 13,
    "start_time": "2022-01-25T14:13:17.143Z"
   },
   {
    "duration": 13,
    "start_time": "2022-01-25T14:13:17.159Z"
   },
   {
    "duration": 8,
    "start_time": "2022-01-25T14:13:17.174Z"
   },
   {
    "duration": 43,
    "start_time": "2022-01-25T14:13:17.184Z"
   },
   {
    "duration": 17,
    "start_time": "2022-01-25T14:13:17.230Z"
   },
   {
    "duration": 5647,
    "start_time": "2022-01-25T14:13:17.249Z"
   },
   {
    "duration": 4269,
    "start_time": "2022-01-25T14:13:22.899Z"
   },
   {
    "duration": 4342,
    "start_time": "2022-01-25T14:13:27.172Z"
   },
   {
    "duration": 14,
    "start_time": "2022-01-25T14:13:31.517Z"
   },
   {
    "duration": 76,
    "start_time": "2022-01-25T14:13:31.534Z"
   },
   {
    "duration": 64,
    "start_time": "2022-01-25T14:13:31.613Z"
   },
   {
    "duration": 16,
    "start_time": "2022-01-25T14:13:31.679Z"
   },
   {
    "duration": 12,
    "start_time": "2022-01-25T14:13:31.697Z"
   },
   {
    "duration": 13,
    "start_time": "2022-01-25T14:14:18.092Z"
   },
   {
    "duration": 13,
    "start_time": "2022-01-25T14:14:27.278Z"
   },
   {
    "duration": 6,
    "start_time": "2022-01-25T14:19:41.800Z"
   },
   {
    "duration": 481,
    "start_time": "2022-01-25T14:19:41.809Z"
   },
   {
    "duration": 14,
    "start_time": "2022-01-25T14:19:42.292Z"
   },
   {
    "duration": 14,
    "start_time": "2022-01-25T14:19:42.324Z"
   },
   {
    "duration": 26,
    "start_time": "2022-01-25T14:19:42.340Z"
   },
   {
    "duration": 11,
    "start_time": "2022-01-25T14:19:42.369Z"
   },
   {
    "duration": 54,
    "start_time": "2022-01-25T14:19:42.382Z"
   },
   {
    "duration": 14,
    "start_time": "2022-01-25T14:19:42.442Z"
   },
   {
    "duration": 112,
    "start_time": "2022-01-25T14:19:42.459Z"
   },
   {
    "duration": 84,
    "start_time": "2022-01-25T14:19:42.573Z"
   },
   {
    "duration": 19,
    "start_time": "2022-01-25T14:19:42.660Z"
   },
   {
    "duration": 102,
    "start_time": "2022-01-25T14:19:42.682Z"
   },
   {
    "duration": 85,
    "start_time": "2022-01-25T14:19:42.786Z"
   },
   {
    "duration": 15,
    "start_time": "2022-01-25T14:19:42.873Z"
   },
   {
    "duration": 41,
    "start_time": "2022-01-25T14:19:42.890Z"
   },
   {
    "duration": 17,
    "start_time": "2022-01-25T14:19:42.934Z"
   },
   {
    "duration": 16,
    "start_time": "2022-01-25T14:19:42.954Z"
   },
   {
    "duration": 64,
    "start_time": "2022-01-25T14:19:42.973Z"
   },
   {
    "duration": 21,
    "start_time": "2022-01-25T14:19:43.041Z"
   },
   {
    "duration": 8,
    "start_time": "2022-01-25T14:19:43.066Z"
   },
   {
    "duration": 53,
    "start_time": "2022-01-25T14:19:43.078Z"
   },
   {
    "duration": 25,
    "start_time": "2022-01-25T14:19:43.134Z"
   },
   {
    "duration": 18,
    "start_time": "2022-01-25T14:19:43.167Z"
   },
   {
    "duration": 45,
    "start_time": "2022-01-25T14:19:43.187Z"
   },
   {
    "duration": 20,
    "start_time": "2022-01-25T14:19:43.236Z"
   },
   {
    "duration": 29,
    "start_time": "2022-01-25T14:19:43.259Z"
   },
   {
    "duration": 50,
    "start_time": "2022-01-25T14:19:43.290Z"
   },
   {
    "duration": 20,
    "start_time": "2022-01-25T14:19:43.343Z"
   },
   {
    "duration": 76,
    "start_time": "2022-01-25T14:19:43.366Z"
   },
   {
    "duration": 86,
    "start_time": "2022-01-25T14:19:43.445Z"
   },
   {
    "duration": 111,
    "start_time": "2022-01-25T14:19:43.535Z"
   },
   {
    "duration": 87,
    "start_time": "2022-01-25T14:19:43.649Z"
   },
   {
    "duration": 103,
    "start_time": "2022-01-25T14:19:43.739Z"
   },
   {
    "duration": 11,
    "start_time": "2022-01-25T14:19:43.925Z"
   },
   {
    "duration": 13,
    "start_time": "2022-01-25T14:19:43.940Z"
   },
   {
    "duration": 70,
    "start_time": "2022-01-25T14:19:43.955Z"
   },
   {
    "duration": 8,
    "start_time": "2022-01-25T14:19:44.028Z"
   },
   {
    "duration": 6,
    "start_time": "2022-01-25T14:19:44.039Z"
   },
   {
    "duration": 9,
    "start_time": "2022-01-25T14:19:44.048Z"
   },
   {
    "duration": 72,
    "start_time": "2022-01-25T14:19:44.060Z"
   },
   {
    "duration": 4447,
    "start_time": "2022-01-25T14:19:44.139Z"
   },
   {
    "duration": 4673,
    "start_time": "2022-01-25T14:19:48.589Z"
   },
   {
    "duration": 4323,
    "start_time": "2022-01-25T14:19:53.264Z"
   },
   {
    "duration": 9,
    "start_time": "2022-01-25T14:19:57.589Z"
   },
   {
    "duration": 26,
    "start_time": "2022-01-25T14:19:57.600Z"
   },
   {
    "duration": 32,
    "start_time": "2022-01-25T14:19:57.629Z"
   },
   {
    "duration": 10,
    "start_time": "2022-01-25T14:19:57.663Z"
   },
   {
    "duration": 50,
    "start_time": "2022-01-25T14:19:57.675Z"
   },
   {
    "duration": 26,
    "start_time": "2022-01-25T14:27:44.514Z"
   },
   {
    "duration": 9,
    "start_time": "2022-01-25T16:26:04.956Z"
   },
   {
    "duration": 18,
    "start_time": "2022-01-25T16:26:13.059Z"
   },
   {
    "duration": 5,
    "start_time": "2022-01-25T16:27:05.874Z"
   },
   {
    "duration": 2902,
    "start_time": "2022-01-25T16:27:05.882Z"
   },
   {
    "duration": 14,
    "start_time": "2022-01-25T16:27:08.787Z"
   },
   {
    "duration": 26,
    "start_time": "2022-01-25T16:27:08.804Z"
   },
   {
    "duration": 21,
    "start_time": "2022-01-25T16:27:08.834Z"
   },
   {
    "duration": 12,
    "start_time": "2022-01-25T16:27:08.857Z"
   },
   {
    "duration": 56,
    "start_time": "2022-01-25T16:27:08.871Z"
   },
   {
    "duration": 17,
    "start_time": "2022-01-25T16:27:08.930Z"
   },
   {
    "duration": 117,
    "start_time": "2022-01-25T16:27:08.951Z"
   },
   {
    "duration": 104,
    "start_time": "2022-01-25T16:27:09.072Z"
   },
   {
    "duration": 45,
    "start_time": "2022-01-25T16:27:09.179Z"
   },
   {
    "duration": 72,
    "start_time": "2022-01-25T16:27:09.228Z"
   },
   {
    "duration": 82,
    "start_time": "2022-01-25T16:27:09.303Z"
   },
   {
    "duration": 36,
    "start_time": "2022-01-25T16:27:09.387Z"
   },
   {
    "duration": 19,
    "start_time": "2022-01-25T16:27:09.426Z"
   },
   {
    "duration": 14,
    "start_time": "2022-01-25T16:27:09.448Z"
   },
   {
    "duration": 14,
    "start_time": "2022-01-25T16:27:09.464Z"
   },
   {
    "duration": 18,
    "start_time": "2022-01-25T16:27:09.532Z"
   },
   {
    "duration": 16,
    "start_time": "2022-01-25T16:27:09.552Z"
   },
   {
    "duration": 6,
    "start_time": "2022-01-25T16:27:09.571Z"
   },
   {
    "duration": 48,
    "start_time": "2022-01-25T16:27:09.579Z"
   },
   {
    "duration": 16,
    "start_time": "2022-01-25T16:27:09.629Z"
   },
   {
    "duration": 20,
    "start_time": "2022-01-25T16:27:09.647Z"
   },
   {
    "duration": 16,
    "start_time": "2022-01-25T16:27:09.669Z"
   },
   {
    "duration": 48,
    "start_time": "2022-01-25T16:27:09.688Z"
   },
   {
    "duration": 30,
    "start_time": "2022-01-25T16:27:09.739Z"
   },
   {
    "duration": 50,
    "start_time": "2022-01-25T16:27:09.774Z"
   },
   {
    "duration": 23,
    "start_time": "2022-01-25T16:27:09.828Z"
   },
   {
    "duration": 81,
    "start_time": "2022-01-25T16:27:09.853Z"
   },
   {
    "duration": 94,
    "start_time": "2022-01-25T16:27:09.936Z"
   },
   {
    "duration": 25,
    "start_time": "2022-01-25T16:27:10.033Z"
   },
   {
    "duration": 121,
    "start_time": "2022-01-25T16:27:10.125Z"
   },
   {
    "duration": 79,
    "start_time": "2022-01-25T16:27:10.249Z"
   },
   {
    "duration": 10,
    "start_time": "2022-01-25T16:27:10.331Z"
   },
   {
    "duration": 16,
    "start_time": "2022-01-25T16:27:10.423Z"
   },
   {
    "duration": 15,
    "start_time": "2022-01-25T16:27:10.442Z"
   },
   {
    "duration": 11,
    "start_time": "2022-01-25T16:27:10.460Z"
   },
   {
    "duration": 7,
    "start_time": "2022-01-25T16:27:10.474Z"
   },
   {
    "duration": 44,
    "start_time": "2022-01-25T16:27:10.483Z"
   },
   {
    "duration": 15,
    "start_time": "2022-01-25T16:27:10.530Z"
   },
   {
    "duration": 4576,
    "start_time": "2022-01-25T16:27:10.548Z"
   },
   {
    "duration": 4428,
    "start_time": "2022-01-25T16:27:15.127Z"
   },
   {
    "duration": 4258,
    "start_time": "2022-01-25T16:27:19.558Z"
   },
   {
    "duration": 9,
    "start_time": "2022-01-25T16:27:23.818Z"
   },
   {
    "duration": 13,
    "start_time": "2022-01-25T16:27:23.830Z"
   },
   {
    "duration": 16,
    "start_time": "2022-01-25T16:27:23.845Z"
   },
   {
    "duration": 8,
    "start_time": "2022-01-25T16:27:23.864Z"
   },
   {
    "duration": 63,
    "start_time": "2022-01-25T16:27:23.874Z"
   },
   {
    "duration": 12,
    "start_time": "2022-01-25T16:28:22.219Z"
   },
   {
    "duration": 12,
    "start_time": "2022-01-25T16:28:49.156Z"
   },
   {
    "duration": 14,
    "start_time": "2022-01-25T16:29:47.401Z"
   },
   {
    "duration": 95,
    "start_time": "2022-01-25T16:32:59.543Z"
   },
   {
    "duration": 90,
    "start_time": "2022-01-25T16:33:39.662Z"
   },
   {
    "duration": 412,
    "start_time": "2022-01-25T16:33:45.194Z"
   },
   {
    "duration": 317,
    "start_time": "2022-01-25T16:34:01.674Z"
   },
   {
    "duration": 323,
    "start_time": "2022-01-25T16:34:32.354Z"
   },
   {
    "duration": 4,
    "start_time": "2022-01-25T16:35:16.917Z"
   },
   {
    "duration": 28,
    "start_time": "2022-01-25T16:35:18.939Z"
   },
   {
    "duration": 4,
    "start_time": "2022-01-25T16:37:12.756Z"
   },
   {
    "duration": 500,
    "start_time": "2022-01-25T16:37:12.763Z"
   },
   {
    "duration": 16,
    "start_time": "2022-01-25T16:37:13.266Z"
   },
   {
    "duration": 13,
    "start_time": "2022-01-25T16:37:13.285Z"
   },
   {
    "duration": 32,
    "start_time": "2022-01-25T16:37:13.324Z"
   },
   {
    "duration": 11,
    "start_time": "2022-01-25T16:37:13.359Z"
   },
   {
    "duration": 53,
    "start_time": "2022-01-25T16:37:13.372Z"
   },
   {
    "duration": 18,
    "start_time": "2022-01-25T16:37:13.428Z"
   },
   {
    "duration": 107,
    "start_time": "2022-01-25T16:37:13.451Z"
   },
   {
    "duration": 96,
    "start_time": "2022-01-25T16:37:13.561Z"
   },
   {
    "duration": 18,
    "start_time": "2022-01-25T16:37:13.660Z"
   },
   {
    "duration": 92,
    "start_time": "2022-01-25T16:37:13.680Z"
   },
   {
    "duration": 87,
    "start_time": "2022-01-25T16:37:13.775Z"
   },
   {
    "duration": 16,
    "start_time": "2022-01-25T16:37:13.865Z"
   },
   {
    "duration": 53,
    "start_time": "2022-01-25T16:37:13.884Z"
   },
   {
    "duration": 18,
    "start_time": "2022-01-25T16:37:13.940Z"
   },
   {
    "duration": 15,
    "start_time": "2022-01-25T16:37:13.960Z"
   },
   {
    "duration": 48,
    "start_time": "2022-01-25T16:37:13.977Z"
   },
   {
    "duration": 21,
    "start_time": "2022-01-25T16:37:14.029Z"
   },
   {
    "duration": 9,
    "start_time": "2022-01-25T16:37:14.052Z"
   },
   {
    "duration": 6,
    "start_time": "2022-01-25T16:37:14.064Z"
   },
   {
    "duration": 6,
    "start_time": "2022-01-25T16:37:14.123Z"
   },
   {
    "duration": 37,
    "start_time": "2022-01-25T16:37:14.132Z"
   },
   {
    "duration": 23,
    "start_time": "2022-01-25T16:37:14.172Z"
   },
   {
    "duration": 46,
    "start_time": "2022-01-25T16:37:14.198Z"
   },
   {
    "duration": 34,
    "start_time": "2022-01-25T16:37:14.247Z"
   },
   {
    "duration": 47,
    "start_time": "2022-01-25T16:37:14.286Z"
   },
   {
    "duration": 21,
    "start_time": "2022-01-25T16:37:14.339Z"
   },
   {
    "duration": 72,
    "start_time": "2022-01-25T16:37:14.363Z"
   },
   {
    "duration": 97,
    "start_time": "2022-01-25T16:37:14.438Z"
   },
   {
    "duration": 91,
    "start_time": "2022-01-25T16:37:14.539Z"
   },
   {
    "duration": 108,
    "start_time": "2022-01-25T16:37:14.634Z"
   },
   {
    "duration": 85,
    "start_time": "2022-01-25T16:37:14.745Z"
   },
   {
    "duration": 90,
    "start_time": "2022-01-25T16:37:14.834Z"
   },
   {
    "duration": 9,
    "start_time": "2022-01-25T16:37:14.927Z"
   },
   {
    "duration": 19,
    "start_time": "2022-01-25T16:37:14.939Z"
   },
   {
    "duration": 6,
    "start_time": "2022-01-25T16:37:14.961Z"
   },
   {
    "duration": 53,
    "start_time": "2022-01-25T16:37:14.970Z"
   },
   {
    "duration": 5,
    "start_time": "2022-01-25T16:37:15.027Z"
   },
   {
    "duration": 18,
    "start_time": "2022-01-25T16:37:15.035Z"
   },
   {
    "duration": 4551,
    "start_time": "2022-01-25T16:37:15.057Z"
   },
   {
    "duration": 4619,
    "start_time": "2022-01-25T16:37:19.610Z"
   },
   {
    "duration": 4169,
    "start_time": "2022-01-25T16:37:24.232Z"
   },
   {
    "duration": 5,
    "start_time": "2022-01-25T16:37:28.403Z"
   },
   {
    "duration": 21,
    "start_time": "2022-01-25T16:37:28.410Z"
   },
   {
    "duration": 10,
    "start_time": "2022-01-25T16:37:28.433Z"
   },
   {
    "duration": 20,
    "start_time": "2022-01-25T16:37:28.446Z"
   },
   {
    "duration": 14,
    "start_time": "2022-01-25T16:37:28.468Z"
   },
   {
    "duration": 11,
    "start_time": "2022-01-25T16:37:28.523Z"
   },
   {
    "duration": 19,
    "start_time": "2022-01-25T16:37:28.538Z"
   },
   {
    "duration": 96,
    "start_time": "2022-01-25T16:39:45.158Z"
   },
   {
    "duration": 3,
    "start_time": "2022-01-25T16:39:59.671Z"
   },
   {
    "duration": 12,
    "start_time": "2022-01-25T16:40:03.075Z"
   },
   {
    "duration": 15,
    "start_time": "2022-01-25T16:40:26.530Z"
   },
   {
    "duration": 14,
    "start_time": "2022-01-25T16:45:00.062Z"
   },
   {
    "duration": 142,
    "start_time": "2022-01-25T16:45:41.877Z"
   },
   {
    "duration": 608,
    "start_time": "2022-01-25T16:45:45.948Z"
   },
   {
    "duration": 1342,
    "start_time": "2022-01-25T16:45:51.414Z"
   },
   {
    "duration": 746,
    "start_time": "2022-01-25T16:46:00.944Z"
   },
   {
    "duration": 1006,
    "start_time": "2022-01-25T16:46:31.200Z"
   },
   {
    "duration": 14,
    "start_time": "2022-01-25T16:47:09.815Z"
   },
   {
    "duration": 13,
    "start_time": "2022-01-25T16:47:49.117Z"
   },
   {
    "duration": 12,
    "start_time": "2022-01-25T16:48:08.340Z"
   },
   {
    "duration": 16,
    "start_time": "2022-01-25T16:48:19.235Z"
   },
   {
    "duration": 4,
    "start_time": "2022-01-25T16:50:14.440Z"
   },
   {
    "duration": 3427,
    "start_time": "2022-01-25T16:50:14.447Z"
   },
   {
    "duration": 13,
    "start_time": "2022-01-25T16:50:17.877Z"
   },
   {
    "duration": 11,
    "start_time": "2022-01-25T16:50:17.892Z"
   },
   {
    "duration": 20,
    "start_time": "2022-01-25T16:50:17.924Z"
   },
   {
    "duration": 12,
    "start_time": "2022-01-25T16:50:17.946Z"
   },
   {
    "duration": 15,
    "start_time": "2022-01-25T16:50:17.960Z"
   },
   {
    "duration": 15,
    "start_time": "2022-01-25T16:50:18.024Z"
   },
   {
    "duration": 84,
    "start_time": "2022-01-25T16:50:18.043Z"
   },
   {
    "duration": 62,
    "start_time": "2022-01-25T16:50:18.131Z"
   },
   {
    "duration": 51,
    "start_time": "2022-01-25T16:50:18.195Z"
   },
   {
    "duration": 88,
    "start_time": "2022-01-25T16:50:18.248Z"
   },
   {
    "duration": 63,
    "start_time": "2022-01-25T16:50:18.339Z"
   },
   {
    "duration": 19,
    "start_time": "2022-01-25T16:50:18.425Z"
   },
   {
    "duration": 14,
    "start_time": "2022-01-25T16:50:18.447Z"
   },
   {
    "duration": 14,
    "start_time": "2022-01-25T16:50:18.463Z"
   },
   {
    "duration": 60,
    "start_time": "2022-01-25T16:50:18.479Z"
   },
   {
    "duration": 17,
    "start_time": "2022-01-25T16:50:18.542Z"
   },
   {
    "duration": 73,
    "start_time": "2022-01-25T16:50:18.562Z"
   },
   {
    "duration": 7,
    "start_time": "2022-01-25T16:50:18.638Z"
   },
   {
    "duration": 8,
    "start_time": "2022-01-25T16:50:18.647Z"
   },
   {
    "duration": 11,
    "start_time": "2022-01-25T16:50:18.658Z"
   },
   {
    "duration": 21,
    "start_time": "2022-01-25T16:50:18.671Z"
   },
   {
    "duration": 48,
    "start_time": "2022-01-25T16:50:18.694Z"
   },
   {
    "duration": 17,
    "start_time": "2022-01-25T16:50:18.744Z"
   },
   {
    "duration": 63,
    "start_time": "2022-01-25T16:50:18.763Z"
   },
   {
    "duration": 25,
    "start_time": "2022-01-25T16:50:18.831Z"
   },
   {
    "duration": 20,
    "start_time": "2022-01-25T16:50:18.859Z"
   },
   {
    "duration": 63,
    "start_time": "2022-01-25T16:50:18.882Z"
   },
   {
    "duration": 11,
    "start_time": "2022-01-25T16:50:19.026Z"
   },
   {
    "duration": 118,
    "start_time": "2022-01-25T16:50:19.040Z"
   },
   {
    "duration": 17,
    "start_time": "2022-01-25T16:50:19.225Z"
   },
   {
    "duration": 112,
    "start_time": "2022-01-25T16:50:19.246Z"
   },
   {
    "duration": 98,
    "start_time": "2022-01-25T16:50:19.426Z"
   },
   {
    "duration": 20,
    "start_time": "2022-01-25T16:50:19.527Z"
   },
   {
    "duration": 7,
    "start_time": "2022-01-25T16:50:19.549Z"
   },
   {
    "duration": 11,
    "start_time": "2022-01-25T16:50:19.559Z"
   },
   {
    "duration": 6,
    "start_time": "2022-01-25T16:50:19.572Z"
   },
   {
    "duration": 6,
    "start_time": "2022-01-25T16:50:19.580Z"
   },
   {
    "duration": 42,
    "start_time": "2022-01-25T16:50:19.588Z"
   },
   {
    "duration": 5246,
    "start_time": "2022-01-25T16:50:19.633Z"
   },
   {
    "duration": 4354,
    "start_time": "2022-01-25T16:50:24.881Z"
   },
   {
    "duration": 4584,
    "start_time": "2022-01-25T16:50:29.240Z"
   },
   {
    "duration": 17,
    "start_time": "2022-01-25T16:50:33.827Z"
   },
   {
    "duration": 16,
    "start_time": "2022-01-25T16:50:33.848Z"
   },
   {
    "duration": 293,
    "start_time": "2022-01-25T16:50:33.867Z"
   },
   {
    "duration": -981,
    "start_time": "2022-01-25T16:50:35.144Z"
   },
   {
    "duration": -983,
    "start_time": "2022-01-25T16:50:35.148Z"
   },
   {
    "duration": 3,
    "start_time": "2022-01-25T16:50:44.538Z"
   },
   {
    "duration": 5,
    "start_time": "2022-01-25T16:50:45.088Z"
   },
   {
    "duration": 285,
    "start_time": "2022-01-25T16:50:55.677Z"
   },
   {
    "duration": 13,
    "start_time": "2022-01-25T16:51:58.473Z"
   },
   {
    "duration": 16,
    "start_time": "2022-01-25T16:52:30.605Z"
   },
   {
    "duration": 12,
    "start_time": "2022-01-25T16:53:02.710Z"
   },
   {
    "duration": 21,
    "start_time": "2022-01-25T16:54:39.418Z"
   },
   {
    "duration": 5,
    "start_time": "2022-01-25T16:55:16.712Z"
   },
   {
    "duration": 4,
    "start_time": "2022-01-25T16:55:38.249Z"
   },
   {
    "duration": 482,
    "start_time": "2022-01-25T16:55:38.256Z"
   },
   {
    "duration": 18,
    "start_time": "2022-01-25T16:55:38.742Z"
   },
   {
    "duration": 13,
    "start_time": "2022-01-25T16:55:38.763Z"
   },
   {
    "duration": 43,
    "start_time": "2022-01-25T16:55:38.780Z"
   },
   {
    "duration": 17,
    "start_time": "2022-01-25T16:55:38.826Z"
   },
   {
    "duration": 14,
    "start_time": "2022-01-25T16:55:38.845Z"
   },
   {
    "duration": 64,
    "start_time": "2022-01-25T16:55:38.861Z"
   },
   {
    "duration": 71,
    "start_time": "2022-01-25T16:55:38.930Z"
   },
   {
    "duration": 82,
    "start_time": "2022-01-25T16:55:39.004Z"
   },
   {
    "duration": 50,
    "start_time": "2022-01-25T16:55:39.089Z"
   },
   {
    "duration": 88,
    "start_time": "2022-01-25T16:55:39.141Z"
   },
   {
    "duration": 65,
    "start_time": "2022-01-25T16:55:39.232Z"
   },
   {
    "duration": 35,
    "start_time": "2022-01-25T16:55:39.299Z"
   },
   {
    "duration": 15,
    "start_time": "2022-01-25T16:55:39.337Z"
   },
   {
    "duration": 14,
    "start_time": "2022-01-25T16:55:39.354Z"
   },
   {
    "duration": 55,
    "start_time": "2022-01-25T16:55:39.370Z"
   },
   {
    "duration": 25,
    "start_time": "2022-01-25T16:55:39.427Z"
   },
   {
    "duration": 22,
    "start_time": "2022-01-25T16:55:39.454Z"
   },
   {
    "duration": 8,
    "start_time": "2022-01-25T16:55:39.479Z"
   },
   {
    "duration": 8,
    "start_time": "2022-01-25T16:55:39.525Z"
   },
   {
    "duration": 10,
    "start_time": "2022-01-25T16:55:39.538Z"
   },
   {
    "duration": 19,
    "start_time": "2022-01-25T16:55:39.550Z"
   },
   {
    "duration": 53,
    "start_time": "2022-01-25T16:55:39.572Z"
   },
   {
    "duration": 20,
    "start_time": "2022-01-25T16:55:39.628Z"
   },
   {
    "duration": 30,
    "start_time": "2022-01-25T16:55:39.651Z"
   },
   {
    "duration": 25,
    "start_time": "2022-01-25T16:55:39.725Z"
   },
   {
    "duration": 21,
    "start_time": "2022-01-25T16:55:39.753Z"
   },
   {
    "duration": 164,
    "start_time": "2022-01-25T16:55:39.777Z"
   },
   {
    "duration": 11,
    "start_time": "2022-01-25T16:55:40.025Z"
   },
   {
    "duration": 85,
    "start_time": "2022-01-25T16:55:40.039Z"
   },
   {
    "duration": 99,
    "start_time": "2022-01-25T16:55:40.128Z"
   },
   {
    "duration": 92,
    "start_time": "2022-01-25T16:55:40.231Z"
   },
   {
    "duration": 92,
    "start_time": "2022-01-25T16:55:40.335Z"
   },
   {
    "duration": 15,
    "start_time": "2022-01-25T16:55:40.430Z"
   },
   {
    "duration": 6,
    "start_time": "2022-01-25T16:55:40.447Z"
   },
   {
    "duration": 5,
    "start_time": "2022-01-25T16:55:40.455Z"
   },
   {
    "duration": 7,
    "start_time": "2022-01-25T16:55:40.462Z"
   },
   {
    "duration": 53,
    "start_time": "2022-01-25T16:55:40.471Z"
   },
   {
    "duration": 13,
    "start_time": "2022-01-25T16:55:40.527Z"
   },
   {
    "duration": 4818,
    "start_time": "2022-01-25T16:55:40.543Z"
   },
   {
    "duration": -970,
    "start_time": "2022-01-25T16:55:46.334Z"
   },
   {
    "duration": -976,
    "start_time": "2022-01-25T16:55:46.342Z"
   },
   {
    "duration": -989,
    "start_time": "2022-01-25T16:55:46.357Z"
   },
   {
    "duration": -994,
    "start_time": "2022-01-25T16:55:46.365Z"
   },
   {
    "duration": -996,
    "start_time": "2022-01-25T16:55:46.368Z"
   },
   {
    "duration": -994,
    "start_time": "2022-01-25T16:55:46.369Z"
   },
   {
    "duration": -994,
    "start_time": "2022-01-25T16:55:46.371Z"
   },
   {
    "duration": 8,
    "start_time": "2022-01-25T16:56:29.788Z"
   },
   {
    "duration": 4,
    "start_time": "2022-01-25T16:56:32.068Z"
   },
   {
    "duration": 465,
    "start_time": "2022-01-25T16:56:32.075Z"
   },
   {
    "duration": 13,
    "start_time": "2022-01-25T16:56:32.544Z"
   },
   {
    "duration": 11,
    "start_time": "2022-01-25T16:56:32.559Z"
   },
   {
    "duration": 17,
    "start_time": "2022-01-25T16:56:32.572Z"
   },
   {
    "duration": 16,
    "start_time": "2022-01-25T16:56:32.623Z"
   },
   {
    "duration": 14,
    "start_time": "2022-01-25T16:56:32.642Z"
   },
   {
    "duration": 14,
    "start_time": "2022-01-25T16:56:32.660Z"
   },
   {
    "duration": 108,
    "start_time": "2022-01-25T16:56:32.677Z"
   },
   {
    "duration": 82,
    "start_time": "2022-01-25T16:56:32.788Z"
   },
   {
    "duration": 19,
    "start_time": "2022-01-25T16:56:32.872Z"
   },
   {
    "duration": 86,
    "start_time": "2022-01-25T16:56:32.894Z"
   },
   {
    "duration": 88,
    "start_time": "2022-01-25T16:56:32.982Z"
   },
   {
    "duration": 15,
    "start_time": "2022-01-25T16:56:33.072Z"
   },
   {
    "duration": 44,
    "start_time": "2022-01-25T16:56:33.089Z"
   },
   {
    "duration": 16,
    "start_time": "2022-01-25T16:56:33.136Z"
   },
   {
    "duration": 14,
    "start_time": "2022-01-25T16:56:33.155Z"
   },
   {
    "duration": 57,
    "start_time": "2022-01-25T16:56:33.172Z"
   },
   {
    "duration": 28,
    "start_time": "2022-01-25T16:56:33.232Z"
   },
   {
    "duration": 7,
    "start_time": "2022-01-25T16:56:33.262Z"
   },
   {
    "duration": 9,
    "start_time": "2022-01-25T16:56:33.272Z"
   },
   {
    "duration": 41,
    "start_time": "2022-01-25T16:56:33.284Z"
   },
   {
    "duration": 32,
    "start_time": "2022-01-25T16:56:33.332Z"
   },
   {
    "duration": 22,
    "start_time": "2022-01-25T16:56:33.368Z"
   },
   {
    "duration": 51,
    "start_time": "2022-01-25T16:56:33.392Z"
   },
   {
    "duration": 29,
    "start_time": "2022-01-25T16:56:33.446Z"
   },
   {
    "duration": 59,
    "start_time": "2022-01-25T16:56:33.477Z"
   },
   {
    "duration": 20,
    "start_time": "2022-01-25T16:56:33.538Z"
   },
   {
    "duration": 78,
    "start_time": "2022-01-25T16:56:33.560Z"
   },
   {
    "duration": 90,
    "start_time": "2022-01-25T16:56:33.642Z"
   },
   {
    "duration": 89,
    "start_time": "2022-01-25T16:56:33.736Z"
   },
   {
    "duration": 13,
    "start_time": "2022-01-25T16:56:33.828Z"
   },
   {
    "duration": 183,
    "start_time": "2022-01-25T16:56:33.845Z"
   },
   {
    "duration": 93,
    "start_time": "2022-01-25T16:56:34.032Z"
   },
   {
    "duration": 19,
    "start_time": "2022-01-25T16:56:34.128Z"
   },
   {
    "duration": 8,
    "start_time": "2022-01-25T16:56:34.151Z"
   },
   {
    "duration": 8,
    "start_time": "2022-01-25T16:56:34.162Z"
   },
   {
    "duration": 8,
    "start_time": "2022-01-25T16:56:34.223Z"
   },
   {
    "duration": 14,
    "start_time": "2022-01-25T16:56:34.234Z"
   },
   {
    "duration": 8,
    "start_time": "2022-01-25T16:56:34.250Z"
   },
   {
    "duration": 5281,
    "start_time": "2022-01-25T16:56:34.261Z"
   },
   {
    "duration": 4480,
    "start_time": "2022-01-25T16:56:39.544Z"
   },
   {
    "duration": 4219,
    "start_time": "2022-01-25T16:56:44.027Z"
   },
   {
    "duration": 12,
    "start_time": "2022-01-25T16:56:48.249Z"
   },
   {
    "duration": 14,
    "start_time": "2022-01-25T16:56:48.263Z"
   },
   {
    "duration": 60,
    "start_time": "2022-01-25T16:56:48.279Z"
   },
   {
    "duration": 16,
    "start_time": "2022-01-25T16:56:48.342Z"
   },
   {
    "duration": 6,
    "start_time": "2022-01-25T16:56:48.360Z"
   },
   {
    "duration": 4,
    "start_time": "2022-01-25T16:59:21.020Z"
   },
   {
    "duration": 290,
    "start_time": "2022-01-25T16:59:21.724Z"
   },
   {
    "duration": 331,
    "start_time": "2022-01-25T17:00:05.050Z"
   },
   {
    "duration": 5,
    "start_time": "2022-01-25T17:00:24.114Z"
   },
   {
    "duration": 5,
    "start_time": "2022-01-25T17:00:34.568Z"
   },
   {
    "duration": 13,
    "start_time": "2022-01-25T17:00:40.850Z"
   },
   {
    "duration": 6,
    "start_time": "2022-01-25T17:00:51.825Z"
   },
   {
    "duration": 12,
    "start_time": "2022-01-25T17:00:53.080Z"
   },
   {
    "duration": 6,
    "start_time": "2022-01-25T17:03:09.254Z"
   },
   {
    "duration": 8,
    "start_time": "2022-01-25T17:03:10.543Z"
   },
   {
    "duration": 15,
    "start_time": "2022-01-25T17:06:00.617Z"
   },
   {
    "duration": 12,
    "start_time": "2022-01-25T17:07:27.508Z"
   },
   {
    "duration": 10,
    "start_time": "2022-01-25T17:07:42.344Z"
   },
   {
    "duration": 10,
    "start_time": "2022-01-25T17:08:10.291Z"
   },
   {
    "duration": 289,
    "start_time": "2022-01-25T17:09:35.213Z"
   },
   {
    "duration": 10,
    "start_time": "2022-01-25T17:09:44.485Z"
   },
   {
    "duration": 10,
    "start_time": "2022-01-25T17:09:58.782Z"
   },
   {
    "duration": 4,
    "start_time": "2022-01-25T17:37:55.386Z"
   },
   {
    "duration": 490,
    "start_time": "2022-01-25T17:37:55.393Z"
   },
   {
    "duration": 15,
    "start_time": "2022-01-25T17:37:55.887Z"
   },
   {
    "duration": 31,
    "start_time": "2022-01-25T17:37:55.904Z"
   },
   {
    "duration": 15,
    "start_time": "2022-01-25T17:37:55.938Z"
   },
   {
    "duration": 11,
    "start_time": "2022-01-25T17:37:55.955Z"
   },
   {
    "duration": 62,
    "start_time": "2022-01-25T17:37:55.968Z"
   },
   {
    "duration": 14,
    "start_time": "2022-01-25T17:37:56.032Z"
   },
   {
    "duration": 94,
    "start_time": "2022-01-25T17:37:56.050Z"
   },
   {
    "duration": 80,
    "start_time": "2022-01-25T17:37:56.149Z"
   },
   {
    "duration": 24,
    "start_time": "2022-01-25T17:37:56.233Z"
   },
   {
    "duration": 104,
    "start_time": "2022-01-25T17:37:56.259Z"
   },
   {
    "duration": 79,
    "start_time": "2022-01-25T17:37:56.365Z"
   },
   {
    "duration": 17,
    "start_time": "2022-01-25T17:37:56.448Z"
   },
   {
    "duration": 15,
    "start_time": "2022-01-25T17:37:56.469Z"
   },
   {
    "duration": 19,
    "start_time": "2022-01-25T17:37:56.524Z"
   },
   {
    "duration": 16,
    "start_time": "2022-01-25T17:37:56.546Z"
   },
   {
    "duration": 15,
    "start_time": "2022-01-25T17:37:56.564Z"
   },
   {
    "duration": 59,
    "start_time": "2022-01-25T17:37:56.582Z"
   },
   {
    "duration": 3,
    "start_time": "2022-01-25T17:37:56.644Z"
   },
   {
    "duration": 6,
    "start_time": "2022-01-25T17:37:56.650Z"
   },
   {
    "duration": 8,
    "start_time": "2022-01-25T17:37:56.658Z"
   },
   {
    "duration": 6,
    "start_time": "2022-01-25T17:37:56.668Z"
   },
   {
    "duration": 52,
    "start_time": "2022-01-25T17:37:56.676Z"
   },
   {
    "duration": 15,
    "start_time": "2022-01-25T17:37:56.732Z"
   },
   {
    "duration": 7,
    "start_time": "2022-01-25T17:37:56.750Z"
   },
   {
    "duration": 17,
    "start_time": "2022-01-25T17:37:56.764Z"
   },
   {
    "duration": 54,
    "start_time": "2022-01-25T17:37:56.784Z"
   },
   {
    "duration": 19,
    "start_time": "2022-01-25T17:37:56.840Z"
   },
   {
    "duration": 26,
    "start_time": "2022-01-25T17:37:56.861Z"
   },
   {
    "duration": 51,
    "start_time": "2022-01-25T17:37:56.890Z"
   },
   {
    "duration": 19,
    "start_time": "2022-01-25T17:37:56.944Z"
   },
   {
    "duration": 71,
    "start_time": "2022-01-25T17:37:56.965Z"
   },
   {
    "duration": 94,
    "start_time": "2022-01-25T17:37:57.039Z"
   },
   {
    "duration": 89,
    "start_time": "2022-01-25T17:37:57.136Z"
   },
   {
    "duration": 11,
    "start_time": "2022-01-25T17:37:57.227Z"
   },
   {
    "duration": 21,
    "start_time": "2022-01-25T17:37:57.324Z"
   },
   {
    "duration": 84,
    "start_time": "2022-01-25T17:37:57.349Z"
   },
   {
    "duration": 95,
    "start_time": "2022-01-25T17:37:57.445Z"
   },
   {
    "duration": 9,
    "start_time": "2022-01-25T17:37:57.544Z"
   },
   {
    "duration": 8,
    "start_time": "2022-01-25T17:37:57.556Z"
   },
   {
    "duration": 7,
    "start_time": "2022-01-25T17:37:57.567Z"
   },
   {
    "duration": 50,
    "start_time": "2022-01-25T17:37:57.577Z"
   },
   {
    "duration": 19,
    "start_time": "2022-01-25T17:37:57.629Z"
   },
   {
    "duration": 4250,
    "start_time": "2022-01-25T17:37:57.650Z"
   },
   {
    "duration": 4288,
    "start_time": "2022-01-25T17:38:01.902Z"
   },
   {
    "duration": 4280,
    "start_time": "2022-01-25T17:38:06.193Z"
   },
   {
    "duration": 13,
    "start_time": "2022-01-25T17:38:10.475Z"
   },
   {
    "duration": 36,
    "start_time": "2022-01-25T17:38:10.490Z"
   },
   {
    "duration": 12,
    "start_time": "2022-01-25T17:38:10.529Z"
   },
   {
    "duration": 7,
    "start_time": "2022-01-25T17:48:13.719Z"
   },
   {
    "duration": 1351,
    "start_time": "2022-01-25T17:48:13.729Z"
   },
   {
    "duration": 12,
    "start_time": "2022-01-25T17:48:15.084Z"
   },
   {
    "duration": 38,
    "start_time": "2022-01-25T17:48:15.099Z"
   },
   {
    "duration": 22,
    "start_time": "2022-01-25T17:48:15.140Z"
   },
   {
    "duration": 13,
    "start_time": "2022-01-25T17:48:15.164Z"
   },
   {
    "duration": 63,
    "start_time": "2022-01-25T17:48:15.180Z"
   },
   {
    "duration": 11,
    "start_time": "2022-01-25T17:48:15.249Z"
   },
   {
    "duration": 105,
    "start_time": "2022-01-25T17:48:15.263Z"
   },
   {
    "duration": 79,
    "start_time": "2022-01-25T17:48:15.370Z"
   },
   {
    "duration": 28,
    "start_time": "2022-01-25T17:48:15.452Z"
   },
   {
    "duration": 97,
    "start_time": "2022-01-25T17:48:15.483Z"
   },
   {
    "duration": 88,
    "start_time": "2022-01-25T17:48:15.583Z"
   },
   {
    "duration": 16,
    "start_time": "2022-01-25T17:48:15.674Z"
   },
   {
    "duration": 40,
    "start_time": "2022-01-25T17:48:15.693Z"
   },
   {
    "duration": 17,
    "start_time": "2022-01-25T17:48:15.738Z"
   },
   {
    "duration": 15,
    "start_time": "2022-01-25T17:48:15.758Z"
   },
   {
    "duration": 61,
    "start_time": "2022-01-25T17:48:15.775Z"
   },
   {
    "duration": 18,
    "start_time": "2022-01-25T17:48:15.840Z"
   },
   {
    "duration": 9,
    "start_time": "2022-01-25T17:48:15.860Z"
   },
   {
    "duration": 8,
    "start_time": "2022-01-25T17:48:15.871Z"
   },
   {
    "duration": 7,
    "start_time": "2022-01-25T17:48:15.881Z"
   },
   {
    "duration": 9,
    "start_time": "2022-01-25T17:48:15.927Z"
   },
   {
    "duration": 22,
    "start_time": "2022-01-25T17:48:15.940Z"
   },
   {
    "duration": 62,
    "start_time": "2022-01-25T17:48:15.964Z"
   },
   {
    "duration": 21,
    "start_time": "2022-01-25T17:48:16.031Z"
   },
   {
    "duration": 6,
    "start_time": "2022-01-25T17:48:16.055Z"
   },
   {
    "duration": 22,
    "start_time": "2022-01-25T17:48:16.064Z"
   },
   {
    "duration": 52,
    "start_time": "2022-01-25T17:48:16.088Z"
   },
   {
    "duration": 18,
    "start_time": "2022-01-25T17:48:16.143Z"
   },
   {
    "duration": 15,
    "start_time": "2022-01-25T17:48:16.164Z"
   },
   {
    "duration": 4,
    "start_time": "2022-01-25T17:48:16.182Z"
   },
   {
    "duration": 6,
    "start_time": "2022-01-25T17:48:16.225Z"
   },
   {
    "duration": 92,
    "start_time": "2022-01-25T17:48:16.235Z"
   },
   {
    "duration": 98,
    "start_time": "2022-01-25T17:48:16.332Z"
   },
   {
    "duration": 88,
    "start_time": "2022-01-25T17:48:16.438Z"
   },
   {
    "duration": 15,
    "start_time": "2022-01-25T17:48:16.529Z"
   },
   {
    "duration": 99,
    "start_time": "2022-01-25T17:48:16.625Z"
   },
   {
    "duration": 14,
    "start_time": "2022-01-25T17:48:16.729Z"
   },
   {
    "duration": 91,
    "start_time": "2022-01-25T17:48:16.746Z"
   },
   {
    "duration": 10,
    "start_time": "2022-01-25T17:48:16.840Z"
   },
   {
    "duration": 13,
    "start_time": "2022-01-25T17:48:16.853Z"
   },
   {
    "duration": 10,
    "start_time": "2022-01-25T17:48:16.869Z"
   },
   {
    "duration": 6,
    "start_time": "2022-01-25T17:48:16.925Z"
   },
   {
    "duration": 17,
    "start_time": "2022-01-25T17:48:16.933Z"
   },
   {
    "duration": 4505,
    "start_time": "2022-01-25T17:48:16.952Z"
   },
   {
    "duration": 4243,
    "start_time": "2022-01-25T17:48:21.460Z"
   },
   {
    "duration": 4294,
    "start_time": "2022-01-25T17:48:25.706Z"
   },
   {
    "duration": 23,
    "start_time": "2022-01-25T17:48:30.003Z"
   },
   {
    "duration": 23,
    "start_time": "2022-01-25T17:48:30.029Z"
   },
   {
    "duration": 11,
    "start_time": "2022-01-25T17:48:30.056Z"
   },
   {
    "duration": 5,
    "start_time": "2022-01-25T17:58:57.669Z"
   },
   {
    "duration": 1398,
    "start_time": "2022-01-25T17:58:57.676Z"
   },
   {
    "duration": 16,
    "start_time": "2022-01-25T17:58:59.078Z"
   },
   {
    "duration": 39,
    "start_time": "2022-01-25T17:58:59.098Z"
   },
   {
    "duration": 19,
    "start_time": "2022-01-25T17:58:59.141Z"
   },
   {
    "duration": 15,
    "start_time": "2022-01-25T17:58:59.163Z"
   },
   {
    "duration": 48,
    "start_time": "2022-01-25T17:58:59.180Z"
   },
   {
    "duration": 15,
    "start_time": "2022-01-25T17:58:59.231Z"
   },
   {
    "duration": 101,
    "start_time": "2022-01-25T17:58:59.251Z"
   },
   {
    "duration": 105,
    "start_time": "2022-01-25T17:58:59.355Z"
   },
   {
    "duration": 23,
    "start_time": "2022-01-25T17:58:59.462Z"
   },
   {
    "duration": 107,
    "start_time": "2022-01-25T17:58:59.487Z"
   },
   {
    "duration": 99,
    "start_time": "2022-01-25T17:58:59.597Z"
   },
   {
    "duration": 40,
    "start_time": "2022-01-25T17:58:59.699Z"
   },
   {
    "duration": 19,
    "start_time": "2022-01-25T17:58:59.743Z"
   },
   {
    "duration": 61,
    "start_time": "2022-01-25T17:58:59.765Z"
   },
   {
    "duration": 17,
    "start_time": "2022-01-25T17:58:59.829Z"
   },
   {
    "duration": 23,
    "start_time": "2022-01-25T17:58:59.849Z"
   },
   {
    "duration": 56,
    "start_time": "2022-01-25T17:58:59.874Z"
   },
   {
    "duration": 17,
    "start_time": "2022-01-25T17:58:59.934Z"
   },
   {
    "duration": 14,
    "start_time": "2022-01-25T17:58:59.953Z"
   },
   {
    "duration": 7,
    "start_time": "2022-01-25T17:58:59.970Z"
   },
   {
    "duration": 8,
    "start_time": "2022-01-25T17:58:59.980Z"
   },
   {
    "duration": 23,
    "start_time": "2022-01-25T17:59:00.023Z"
   },
   {
    "duration": 31,
    "start_time": "2022-01-25T17:59:00.049Z"
   },
   {
    "duration": 47,
    "start_time": "2022-01-25T17:59:00.082Z"
   },
   {
    "duration": 9,
    "start_time": "2022-01-25T17:59:00.137Z"
   },
   {
    "duration": 26,
    "start_time": "2022-01-25T17:59:00.151Z"
   },
   {
    "duration": 49,
    "start_time": "2022-01-25T17:59:00.179Z"
   },
   {
    "duration": 27,
    "start_time": "2022-01-25T17:59:00.230Z"
   },
   {
    "duration": 124,
    "start_time": "2022-01-25T17:59:00.260Z"
   },
   {
    "duration": -1004,
    "start_time": "2022-01-25T17:59:01.392Z"
   },
   {
    "duration": -1004,
    "start_time": "2022-01-25T17:59:01.394Z"
   },
   {
    "duration": -1005,
    "start_time": "2022-01-25T17:59:01.397Z"
   },
   {
    "duration": -1009,
    "start_time": "2022-01-25T17:59:01.403Z"
   },
   {
    "duration": -1013,
    "start_time": "2022-01-25T17:59:01.408Z"
   },
   {
    "duration": -1013,
    "start_time": "2022-01-25T17:59:01.411Z"
   },
   {
    "duration": -1013,
    "start_time": "2022-01-25T17:59:01.413Z"
   },
   {
    "duration": -1017,
    "start_time": "2022-01-25T17:59:01.419Z"
   },
   {
    "duration": -1017,
    "start_time": "2022-01-25T17:59:01.421Z"
   },
   {
    "duration": -1017,
    "start_time": "2022-01-25T17:59:01.423Z"
   },
   {
    "duration": -1017,
    "start_time": "2022-01-25T17:59:01.425Z"
   },
   {
    "duration": -1018,
    "start_time": "2022-01-25T17:59:01.427Z"
   },
   {
    "duration": -1048,
    "start_time": "2022-01-25T17:59:01.459Z"
   },
   {
    "duration": -1051,
    "start_time": "2022-01-25T17:59:01.464Z"
   },
   {
    "duration": -1052,
    "start_time": "2022-01-25T17:59:01.467Z"
   },
   {
    "duration": -1052,
    "start_time": "2022-01-25T17:59:01.469Z"
   },
   {
    "duration": -1053,
    "start_time": "2022-01-25T17:59:01.471Z"
   },
   {
    "duration": -1053,
    "start_time": "2022-01-25T17:59:01.473Z"
   },
   {
    "duration": -1051,
    "start_time": "2022-01-25T17:59:01.475Z"
   },
   {
    "duration": -1051,
    "start_time": "2022-01-25T17:59:01.477Z"
   },
   {
    "duration": -1055,
    "start_time": "2022-01-25T17:59:01.483Z"
   },
   {
    "duration": -1056,
    "start_time": "2022-01-25T17:59:01.485Z"
   },
   {
    "duration": 5,
    "start_time": "2022-01-25T17:59:16.438Z"
   },
   {
    "duration": 115,
    "start_time": "2022-01-25T17:59:18.215Z"
   },
   {
    "duration": 93,
    "start_time": "2022-01-25T17:59:18.938Z"
   },
   {
    "duration": 25,
    "start_time": "2022-01-25T17:59:19.623Z"
   },
   {
    "duration": 19,
    "start_time": "2022-01-25T17:59:44.716Z"
   },
   {
    "duration": 8,
    "start_time": "2022-01-25T17:59:46.168Z"
   },
   {
    "duration": 48,
    "start_time": "2022-01-25T17:59:47.380Z"
   },
   {
    "duration": 11,
    "start_time": "2022-01-25T17:59:59.600Z"
   },
   {
    "duration": 38,
    "start_time": "2022-01-25T18:00:00.689Z"
   },
   {
    "duration": 16,
    "start_time": "2022-01-25T18:00:02.731Z"
   },
   {
    "duration": 4,
    "start_time": "2022-01-25T18:01:01.951Z"
   },
   {
    "duration": 479,
    "start_time": "2022-01-25T18:01:01.958Z"
   },
   {
    "duration": 13,
    "start_time": "2022-01-25T18:01:02.440Z"
   },
   {
    "duration": 11,
    "start_time": "2022-01-25T18:01:02.456Z"
   },
   {
    "duration": 17,
    "start_time": "2022-01-25T18:01:02.469Z"
   },
   {
    "duration": 17,
    "start_time": "2022-01-25T18:01:02.524Z"
   },
   {
    "duration": 16,
    "start_time": "2022-01-25T18:01:02.544Z"
   },
   {
    "duration": 12,
    "start_time": "2022-01-25T18:01:02.562Z"
   },
   {
    "duration": 109,
    "start_time": "2022-01-25T18:01:02.578Z"
   },
   {
    "duration": 85,
    "start_time": "2022-01-25T18:01:02.690Z"
   },
   {
    "duration": 18,
    "start_time": "2022-01-25T18:01:02.777Z"
   },
   {
    "duration": 64,
    "start_time": "2022-01-25T18:01:02.824Z"
   },
   {
    "duration": 103,
    "start_time": "2022-01-25T18:01:02.892Z"
   },
   {
    "duration": 35,
    "start_time": "2022-01-25T18:01:02.998Z"
   },
   {
    "duration": 18,
    "start_time": "2022-01-25T18:01:03.036Z"
   },
   {
    "duration": 17,
    "start_time": "2022-01-25T18:01:03.057Z"
   },
   {
    "duration": 55,
    "start_time": "2022-01-25T18:01:03.076Z"
   },
   {
    "duration": 29,
    "start_time": "2022-01-25T18:01:03.134Z"
   },
   {
    "duration": 15,
    "start_time": "2022-01-25T18:01:03.166Z"
   },
   {
    "duration": 38,
    "start_time": "2022-01-25T18:01:03.184Z"
   },
   {
    "duration": 18,
    "start_time": "2022-01-25T18:01:03.226Z"
   },
   {
    "duration": 9,
    "start_time": "2022-01-25T18:01:03.247Z"
   },
   {
    "duration": 8,
    "start_time": "2022-01-25T18:01:03.259Z"
   },
   {
    "duration": 60,
    "start_time": "2022-01-25T18:01:03.269Z"
   },
   {
    "duration": 21,
    "start_time": "2022-01-25T18:01:03.332Z"
   },
   {
    "duration": 16,
    "start_time": "2022-01-25T18:01:03.355Z"
   },
   {
    "duration": 5,
    "start_time": "2022-01-25T18:01:03.376Z"
   },
   {
    "duration": 56,
    "start_time": "2022-01-25T18:01:03.384Z"
   },
   {
    "duration": 17,
    "start_time": "2022-01-25T18:01:03.443Z"
   },
   {
    "duration": 16,
    "start_time": "2022-01-25T18:01:03.462Z"
   },
   {
    "duration": 5,
    "start_time": "2022-01-25T18:01:03.480Z"
   },
   {
    "duration": 23,
    "start_time": "2022-01-25T18:01:03.523Z"
   },
   {
    "duration": 109,
    "start_time": "2022-01-25T18:01:03.624Z"
   },
   {
    "duration": 109,
    "start_time": "2022-01-25T18:01:03.737Z"
   },
   {
    "duration": 6,
    "start_time": "2022-01-25T18:01:03.930Z"
   },
   {
    "duration": 107,
    "start_time": "2022-01-25T18:01:03.939Z"
   },
   {
    "duration": 5,
    "start_time": "2022-01-25T18:01:04.048Z"
   },
   {
    "duration": 10,
    "start_time": "2022-01-25T18:01:04.055Z"
   },
   {
    "duration": 293,
    "start_time": "2022-01-25T18:01:04.068Z"
   },
   {
    "duration": -1011,
    "start_time": "2022-01-25T18:01:05.374Z"
   },
   {
    "duration": -1014,
    "start_time": "2022-01-25T18:01:05.379Z"
   },
   {
    "duration": -1016,
    "start_time": "2022-01-25T18:01:05.382Z"
   },
   {
    "duration": -1017,
    "start_time": "2022-01-25T18:01:05.384Z"
   },
   {
    "duration": -1018,
    "start_time": "2022-01-25T18:01:05.386Z"
   },
   {
    "duration": -1023,
    "start_time": "2022-01-25T18:01:05.392Z"
   },
   {
    "duration": -1023,
    "start_time": "2022-01-25T18:01:05.394Z"
   },
   {
    "duration": -1024,
    "start_time": "2022-01-25T18:01:05.396Z"
   },
   {
    "duration": -1025,
    "start_time": "2022-01-25T18:01:05.399Z"
   },
   {
    "duration": -1030,
    "start_time": "2022-01-25T18:01:05.405Z"
   },
   {
    "duration": -1030,
    "start_time": "2022-01-25T18:01:05.407Z"
   },
   {
    "duration": -1031,
    "start_time": "2022-01-25T18:01:05.409Z"
   },
   {
    "duration": -1032,
    "start_time": "2022-01-25T18:01:05.411Z"
   },
   {
    "duration": 3,
    "start_time": "2022-01-25T18:01:26.582Z"
   },
   {
    "duration": 10,
    "start_time": "2022-01-25T18:01:27.631Z"
   },
   {
    "duration": 6,
    "start_time": "2022-01-25T18:01:29.300Z"
   },
   {
    "duration": 6,
    "start_time": "2022-01-25T18:01:29.924Z"
   },
   {
    "duration": 5,
    "start_time": "2022-01-25T18:01:30.084Z"
   },
   {
    "duration": 6,
    "start_time": "2022-01-25T18:01:30.240Z"
   },
   {
    "duration": 4,
    "start_time": "2022-01-25T18:01:30.952Z"
   },
   {
    "duration": 8,
    "start_time": "2022-01-25T18:01:32.164Z"
   },
   {
    "duration": 4210,
    "start_time": "2022-01-25T18:01:32.731Z"
   },
   {
    "duration": 4207,
    "start_time": "2022-01-25T18:01:36.943Z"
   },
   {
    "duration": 4153,
    "start_time": "2022-01-25T18:01:41.153Z"
   },
   {
    "duration": 17,
    "start_time": "2022-01-25T18:01:45.309Z"
   },
   {
    "duration": 28,
    "start_time": "2022-01-25T18:01:45.330Z"
   },
   {
    "duration": 20,
    "start_time": "2022-01-25T18:01:45.361Z"
   },
   {
    "duration": 5,
    "start_time": "2022-01-25T18:02:04.391Z"
   },
   {
    "duration": 1273,
    "start_time": "2022-01-25T18:02:04.398Z"
   },
   {
    "duration": 13,
    "start_time": "2022-01-25T18:02:05.674Z"
   },
   {
    "duration": 32,
    "start_time": "2022-01-25T18:02:05.690Z"
   },
   {
    "duration": 17,
    "start_time": "2022-01-25T18:02:05.727Z"
   },
   {
    "duration": 11,
    "start_time": "2022-01-25T18:02:05.746Z"
   },
   {
    "duration": 14,
    "start_time": "2022-01-25T18:02:05.760Z"
   },
   {
    "duration": 62,
    "start_time": "2022-01-25T18:02:05.777Z"
   },
   {
    "duration": 102,
    "start_time": "2022-01-25T18:02:05.843Z"
   },
   {
    "duration": 96,
    "start_time": "2022-01-25T18:02:05.948Z"
   },
   {
    "duration": 17,
    "start_time": "2022-01-25T18:02:06.047Z"
   },
   {
    "duration": 96,
    "start_time": "2022-01-25T18:02:06.066Z"
   },
   {
    "duration": 79,
    "start_time": "2022-01-25T18:02:06.164Z"
   },
   {
    "duration": 14,
    "start_time": "2022-01-25T18:02:06.245Z"
   },
   {
    "duration": 14,
    "start_time": "2022-01-25T18:02:06.261Z"
   },
   {
    "duration": 52,
    "start_time": "2022-01-25T18:02:06.277Z"
   },
   {
    "duration": 18,
    "start_time": "2022-01-25T18:02:06.334Z"
   },
   {
    "duration": 16,
    "start_time": "2022-01-25T18:02:06.354Z"
   },
   {
    "duration": 55,
    "start_time": "2022-01-25T18:02:06.373Z"
   },
   {
    "duration": 6,
    "start_time": "2022-01-25T18:02:06.431Z"
   },
   {
    "duration": 13,
    "start_time": "2022-01-25T18:02:06.440Z"
   },
   {
    "duration": 7,
    "start_time": "2022-01-25T18:02:06.455Z"
   },
   {
    "duration": 4,
    "start_time": "2022-01-25T18:02:06.468Z"
   },
   {
    "duration": 62,
    "start_time": "2022-01-25T18:02:06.475Z"
   },
   {
    "duration": 18,
    "start_time": "2022-01-25T18:02:06.541Z"
   },
   {
    "duration": 16,
    "start_time": "2022-01-25T18:02:06.561Z"
   },
   {
    "duration": 5,
    "start_time": "2022-01-25T18:02:06.579Z"
   },
   {
    "duration": 62,
    "start_time": "2022-01-25T18:02:06.586Z"
   },
   {
    "duration": 16,
    "start_time": "2022-01-25T18:02:06.650Z"
   },
   {
    "duration": 15,
    "start_time": "2022-01-25T18:02:06.669Z"
   },
   {
    "duration": 37,
    "start_time": "2022-01-25T18:02:06.687Z"
   },
   {
    "duration": 29,
    "start_time": "2022-01-25T18:02:06.729Z"
   },
   {
    "duration": 105,
    "start_time": "2022-01-25T18:02:06.825Z"
   },
   {
    "duration": 195,
    "start_time": "2022-01-25T18:02:06.933Z"
   },
   {
    "duration": 6,
    "start_time": "2022-01-25T18:02:07.132Z"
   },
   {
    "duration": 101,
    "start_time": "2022-01-25T18:02:07.143Z"
   },
   {
    "duration": 4,
    "start_time": "2022-01-25T18:02:07.247Z"
   },
   {
    "duration": 12,
    "start_time": "2022-01-25T18:02:07.253Z"
   },
   {
    "duration": 3,
    "start_time": "2022-01-25T18:02:07.268Z"
   },
   {
    "duration": 7,
    "start_time": "2022-01-25T18:02:07.274Z"
   },
   {
    "duration": 9,
    "start_time": "2022-01-25T18:02:07.325Z"
   },
   {
    "duration": 12,
    "start_time": "2022-01-25T18:02:07.337Z"
   },
   {
    "duration": 7,
    "start_time": "2022-01-25T18:02:07.352Z"
   },
   {
    "duration": 8,
    "start_time": "2022-01-25T18:02:07.362Z"
   },
   {
    "duration": 7,
    "start_time": "2022-01-25T18:02:07.426Z"
   },
   {
    "duration": 13,
    "start_time": "2022-01-25T18:02:07.436Z"
   },
   {
    "duration": 4283,
    "start_time": "2022-01-25T18:02:07.451Z"
   },
   {
    "duration": 4363,
    "start_time": "2022-01-25T18:02:11.737Z"
   },
   {
    "duration": 4175,
    "start_time": "2022-01-25T18:02:16.103Z"
   },
   {
    "duration": 13,
    "start_time": "2022-01-25T18:02:20.280Z"
   },
   {
    "duration": 31,
    "start_time": "2022-01-25T18:02:20.295Z"
   },
   {
    "duration": 15,
    "start_time": "2022-01-25T18:02:20.329Z"
   },
   {
    "duration": 4,
    "start_time": "2022-01-25T18:25:43.875Z"
   },
   {
    "duration": 461,
    "start_time": "2022-01-25T18:25:43.882Z"
   },
   {
    "duration": 13,
    "start_time": "2022-01-25T18:25:44.346Z"
   },
   {
    "duration": 15,
    "start_time": "2022-01-25T18:25:44.361Z"
   },
   {
    "duration": 57,
    "start_time": "2022-01-25T18:25:44.380Z"
   },
   {
    "duration": 21,
    "start_time": "2022-01-25T18:25:44.439Z"
   },
   {
    "duration": 19,
    "start_time": "2022-01-25T18:25:44.463Z"
   },
   {
    "duration": 41,
    "start_time": "2022-01-25T18:25:44.484Z"
   },
   {
    "duration": 122,
    "start_time": "2022-01-25T18:25:44.532Z"
   },
   {
    "duration": 131,
    "start_time": "2022-01-25T18:25:44.660Z"
   },
   {
    "duration": 46,
    "start_time": "2022-01-25T18:25:44.794Z"
   },
   {
    "duration": 61,
    "start_time": "2022-01-25T18:25:44.843Z"
   },
   {
    "duration": 64,
    "start_time": "2022-01-25T18:25:44.924Z"
   },
   {
    "duration": 38,
    "start_time": "2022-01-25T18:25:44.991Z"
   },
   {
    "duration": 14,
    "start_time": "2022-01-25T18:25:45.032Z"
   },
   {
    "duration": 16,
    "start_time": "2022-01-25T18:25:45.049Z"
   },
   {
    "duration": 61,
    "start_time": "2022-01-25T18:25:45.068Z"
   },
   {
    "duration": 20,
    "start_time": "2022-01-25T18:25:45.132Z"
   },
   {
    "duration": 17,
    "start_time": "2022-01-25T18:25:45.155Z"
   },
   {
    "duration": 49,
    "start_time": "2022-01-25T18:25:45.174Z"
   },
   {
    "duration": 7,
    "start_time": "2022-01-25T18:25:45.225Z"
   },
   {
    "duration": 8,
    "start_time": "2022-01-25T18:25:45.234Z"
   },
   {
    "duration": 8,
    "start_time": "2022-01-25T18:25:45.245Z"
   },
   {
    "duration": 26,
    "start_time": "2022-01-25T18:25:45.255Z"
   },
   {
    "duration": 51,
    "start_time": "2022-01-25T18:25:45.283Z"
   },
   {
    "duration": 18,
    "start_time": "2022-01-25T18:25:45.337Z"
   },
   {
    "duration": 6,
    "start_time": "2022-01-25T18:25:45.361Z"
   },
   {
    "duration": 62,
    "start_time": "2022-01-25T18:25:45.370Z"
   },
   {
    "duration": 18,
    "start_time": "2022-01-25T18:25:45.434Z"
   },
   {
    "duration": 18,
    "start_time": "2022-01-25T18:25:45.455Z"
   },
   {
    "duration": 5,
    "start_time": "2022-01-25T18:25:45.476Z"
   },
   {
    "duration": 105,
    "start_time": "2022-01-25T18:25:45.524Z"
   },
   {
    "duration": 195,
    "start_time": "2022-01-25T18:25:45.632Z"
   },
   {
    "duration": 108,
    "start_time": "2022-01-25T18:25:45.830Z"
   },
   {
    "duration": 183,
    "start_time": "2022-01-25T18:25:45.942Z"
   },
   {
    "duration": 12,
    "start_time": "2022-01-25T18:25:46.129Z"
   },
   {
    "duration": 9,
    "start_time": "2022-01-25T18:25:46.144Z"
   },
   {
    "duration": 16,
    "start_time": "2022-01-25T18:25:46.156Z"
   },
   {
    "duration": 53,
    "start_time": "2022-01-25T18:25:46.175Z"
   },
   {
    "duration": 8,
    "start_time": "2022-01-25T18:25:46.230Z"
   },
   {
    "duration": 8,
    "start_time": "2022-01-25T18:25:46.240Z"
   },
   {
    "duration": 9,
    "start_time": "2022-01-25T18:25:46.250Z"
   },
   {
    "duration": 5,
    "start_time": "2022-01-25T18:25:46.261Z"
   },
   {
    "duration": 75,
    "start_time": "2022-01-25T18:25:46.268Z"
   },
   {
    "duration": 8,
    "start_time": "2022-01-25T18:25:46.346Z"
   },
   {
    "duration": 5,
    "start_time": "2022-01-25T18:25:46.356Z"
   },
   {
    "duration": 9,
    "start_time": "2022-01-25T18:25:46.364Z"
   },
   {
    "duration": 4341,
    "start_time": "2022-01-25T18:25:46.424Z"
   },
   {
    "duration": 4208,
    "start_time": "2022-01-25T18:25:50.768Z"
   },
   {
    "duration": 4048,
    "start_time": "2022-01-25T18:25:54.979Z"
   },
   {
    "duration": 13,
    "start_time": "2022-01-25T18:25:59.029Z"
   },
   {
    "duration": 16,
    "start_time": "2022-01-25T18:25:59.044Z"
   },
   {
    "duration": 11,
    "start_time": "2022-01-25T18:25:59.063Z"
   },
   {
    "duration": 1460,
    "start_time": "2022-01-25T18:30:25.037Z"
   },
   {
    "duration": 440,
    "start_time": "2022-01-25T18:30:26.499Z"
   },
   {
    "duration": 16,
    "start_time": "2022-01-25T18:30:26.942Z"
   },
   {
    "duration": 18,
    "start_time": "2022-01-25T18:30:26.961Z"
   },
   {
    "duration": 52,
    "start_time": "2022-01-25T18:30:26.981Z"
   },
   {
    "duration": 13,
    "start_time": "2022-01-25T18:30:27.036Z"
   },
   {
    "duration": 15,
    "start_time": "2022-01-25T18:30:27.052Z"
   },
   {
    "duration": 57,
    "start_time": "2022-01-25T18:30:27.071Z"
   },
   {
    "duration": 91,
    "start_time": "2022-01-25T18:30:27.132Z"
   },
   {
    "duration": 68,
    "start_time": "2022-01-25T18:30:27.226Z"
   },
   {
    "duration": 47,
    "start_time": "2022-01-25T18:30:27.297Z"
   },
   {
    "duration": 105,
    "start_time": "2022-01-25T18:30:27.346Z"
   },
   {
    "duration": 78,
    "start_time": "2022-01-25T18:30:27.454Z"
   },
   {
    "duration": 15,
    "start_time": "2022-01-25T18:30:27.534Z"
   },
   {
    "duration": 14,
    "start_time": "2022-01-25T18:30:27.551Z"
   },
   {
    "duration": 62,
    "start_time": "2022-01-25T18:30:27.568Z"
   },
   {
    "duration": 16,
    "start_time": "2022-01-25T18:30:27.632Z"
   },
   {
    "duration": 23,
    "start_time": "2022-01-25T18:30:27.651Z"
   },
   {
    "duration": 67,
    "start_time": "2022-01-25T18:30:27.678Z"
   },
   {
    "duration": 8,
    "start_time": "2022-01-25T18:30:27.747Z"
   },
   {
    "duration": 16,
    "start_time": "2022-01-25T18:30:27.757Z"
   },
   {
    "duration": 22,
    "start_time": "2022-01-25T18:30:27.775Z"
   },
   {
    "duration": 6,
    "start_time": "2022-01-25T18:30:27.824Z"
   },
   {
    "duration": 21,
    "start_time": "2022-01-25T18:30:27.835Z"
   },
   {
    "duration": 20,
    "start_time": "2022-01-25T18:30:27.858Z"
   },
   {
    "duration": 55,
    "start_time": "2022-01-25T18:30:27.880Z"
   },
   {
    "duration": 13,
    "start_time": "2022-01-25T18:30:27.937Z"
   },
   {
    "duration": 39,
    "start_time": "2022-01-25T18:30:27.952Z"
   },
   {
    "duration": 42,
    "start_time": "2022-01-25T18:30:27.994Z"
   },
   {
    "duration": 21,
    "start_time": "2022-01-25T18:30:28.039Z"
   },
   {
    "duration": 6,
    "start_time": "2022-01-25T18:30:28.063Z"
   },
   {
    "duration": 251,
    "start_time": "2022-01-25T18:30:28.072Z"
   },
   {
    "duration": 96,
    "start_time": "2022-01-25T18:30:28.326Z"
   },
   {
    "duration": 100,
    "start_time": "2022-01-25T18:30:28.425Z"
   },
   {
    "duration": 97,
    "start_time": "2022-01-25T18:30:28.528Z"
   },
   {
    "duration": 13,
    "start_time": "2022-01-25T18:30:28.629Z"
   },
   {
    "duration": 8,
    "start_time": "2022-01-25T18:30:28.646Z"
   },
   {
    "duration": 8,
    "start_time": "2022-01-25T18:30:28.657Z"
   },
   {
    "duration": 58,
    "start_time": "2022-01-25T18:30:28.667Z"
   },
   {
    "duration": 482,
    "start_time": "2022-01-25T18:30:28.728Z"
   },
   {
    "duration": -1015,
    "start_time": "2022-01-25T18:30:30.228Z"
   },
   {
    "duration": -1016,
    "start_time": "2022-01-25T18:30:30.231Z"
   },
   {
    "duration": -1017,
    "start_time": "2022-01-25T18:30:30.233Z"
   },
   {
    "duration": -1021,
    "start_time": "2022-01-25T18:30:30.239Z"
   },
   {
    "duration": -1021,
    "start_time": "2022-01-25T18:30:30.241Z"
   },
   {
    "duration": -1024,
    "start_time": "2022-01-25T18:30:30.246Z"
   },
   {
    "duration": -1024,
    "start_time": "2022-01-25T18:30:30.248Z"
   },
   {
    "duration": -1029,
    "start_time": "2022-01-25T18:30:30.254Z"
   },
   {
    "duration": -1029,
    "start_time": "2022-01-25T18:30:30.256Z"
   },
   {
    "duration": -1029,
    "start_time": "2022-01-25T18:30:30.258Z"
   },
   {
    "duration": 1491,
    "start_time": "2022-01-25T18:32:47.532Z"
   },
   {
    "duration": 450,
    "start_time": "2022-01-25T18:32:49.026Z"
   },
   {
    "duration": 17,
    "start_time": "2022-01-25T18:32:49.483Z"
   },
   {
    "duration": 34,
    "start_time": "2022-01-25T18:32:49.502Z"
   },
   {
    "duration": 16,
    "start_time": "2022-01-25T18:32:49.538Z"
   },
   {
    "duration": 11,
    "start_time": "2022-01-25T18:32:49.557Z"
   },
   {
    "duration": 59,
    "start_time": "2022-01-25T18:32:49.571Z"
   },
   {
    "duration": 12,
    "start_time": "2022-01-25T18:32:49.634Z"
   },
   {
    "duration": 101,
    "start_time": "2022-01-25T18:32:49.649Z"
   },
   {
    "duration": 76,
    "start_time": "2022-01-25T18:32:49.753Z"
   },
   {
    "duration": 20,
    "start_time": "2022-01-25T18:32:49.832Z"
   },
   {
    "duration": 95,
    "start_time": "2022-01-25T18:32:49.855Z"
   },
   {
    "duration": 78,
    "start_time": "2022-01-25T18:32:49.953Z"
   },
   {
    "duration": 15,
    "start_time": "2022-01-25T18:32:50.033Z"
   },
   {
    "duration": 14,
    "start_time": "2022-01-25T18:32:50.051Z"
   },
   {
    "duration": 59,
    "start_time": "2022-01-25T18:32:50.067Z"
   },
   {
    "duration": 16,
    "start_time": "2022-01-25T18:32:50.129Z"
   },
   {
    "duration": 16,
    "start_time": "2022-01-25T18:32:50.147Z"
   },
   {
    "duration": 57,
    "start_time": "2022-01-25T18:32:50.166Z"
   },
   {
    "duration": 4,
    "start_time": "2022-01-25T18:32:50.226Z"
   },
   {
    "duration": 8,
    "start_time": "2022-01-25T18:32:50.232Z"
   },
   {
    "duration": 9,
    "start_time": "2022-01-25T18:32:50.242Z"
   },
   {
    "duration": 17,
    "start_time": "2022-01-25T18:32:50.253Z"
   },
   {
    "duration": 57,
    "start_time": "2022-01-25T18:32:50.272Z"
   },
   {
    "duration": 19,
    "start_time": "2022-01-25T18:32:50.332Z"
   },
   {
    "duration": 18,
    "start_time": "2022-01-25T18:32:50.356Z"
   },
   {
    "duration": 5,
    "start_time": "2022-01-25T18:32:50.377Z"
   },
   {
    "duration": 61,
    "start_time": "2022-01-25T18:32:50.384Z"
   },
   {
    "duration": 20,
    "start_time": "2022-01-25T18:32:50.448Z"
   },
   {
    "duration": 18,
    "start_time": "2022-01-25T18:32:50.470Z"
   },
   {
    "duration": 5,
    "start_time": "2022-01-25T18:32:50.523Z"
   },
   {
    "duration": 101,
    "start_time": "2022-01-25T18:32:50.531Z"
   },
   {
    "duration": 190,
    "start_time": "2022-01-25T18:32:50.635Z"
   },
   {
    "duration": 199,
    "start_time": "2022-01-25T18:32:50.828Z"
   },
   {
    "duration": 6,
    "start_time": "2022-01-25T18:32:51.031Z"
   },
   {
    "duration": 10,
    "start_time": "2022-01-25T18:32:51.124Z"
   },
   {
    "duration": 7,
    "start_time": "2022-01-25T18:32:51.136Z"
   },
   {
    "duration": 8,
    "start_time": "2022-01-25T18:32:51.146Z"
   },
   {
    "duration": 6,
    "start_time": "2022-01-25T18:32:51.156Z"
   },
   {
    "duration": 59,
    "start_time": "2022-01-25T18:32:51.165Z"
   },
   {
    "duration": 11,
    "start_time": "2022-01-25T18:32:51.227Z"
   },
   {
    "duration": 446,
    "start_time": "2022-01-25T18:32:51.242Z"
   },
   {
    "duration": -1028,
    "start_time": "2022-01-25T18:32:52.719Z"
   },
   {
    "duration": -1032,
    "start_time": "2022-01-25T18:32:52.725Z"
   },
   {
    "duration": -1033,
    "start_time": "2022-01-25T18:32:52.728Z"
   },
   {
    "duration": -1037,
    "start_time": "2022-01-25T18:32:52.734Z"
   },
   {
    "duration": -1038,
    "start_time": "2022-01-25T18:32:52.737Z"
   },
   {
    "duration": 5,
    "start_time": "2022-01-25T18:37:52.226Z"
   },
   {
    "duration": 477,
    "start_time": "2022-01-25T18:37:52.234Z"
   },
   {
    "duration": 22,
    "start_time": "2022-01-25T18:37:52.713Z"
   },
   {
    "duration": 23,
    "start_time": "2022-01-25T18:37:52.738Z"
   },
   {
    "duration": 15,
    "start_time": "2022-01-25T18:37:52.763Z"
   },
   {
    "duration": 11,
    "start_time": "2022-01-25T18:37:52.780Z"
   },
   {
    "duration": 17,
    "start_time": "2022-01-25T18:37:52.824Z"
   },
   {
    "duration": 13,
    "start_time": "2022-01-25T18:37:52.845Z"
   },
   {
    "duration": 105,
    "start_time": "2022-01-25T18:37:52.861Z"
   },
   {
    "duration": 76,
    "start_time": "2022-01-25T18:37:52.969Z"
   },
   {
    "duration": 18,
    "start_time": "2022-01-25T18:37:53.048Z"
   },
   {
    "duration": 100,
    "start_time": "2022-01-25T18:37:53.068Z"
   },
   {
    "duration": 81,
    "start_time": "2022-01-25T18:37:53.170Z"
   },
   {
    "duration": 15,
    "start_time": "2022-01-25T18:37:53.254Z"
   },
   {
    "duration": 51,
    "start_time": "2022-01-25T18:37:53.272Z"
   },
   {
    "duration": 16,
    "start_time": "2022-01-25T18:37:53.326Z"
   },
   {
    "duration": 16,
    "start_time": "2022-01-25T18:37:53.345Z"
   },
   {
    "duration": 60,
    "start_time": "2022-01-25T18:37:53.364Z"
   },
   {
    "duration": 23,
    "start_time": "2022-01-25T18:37:53.427Z"
   },
   {
    "duration": 8,
    "start_time": "2022-01-25T18:37:53.452Z"
   },
   {
    "duration": 12,
    "start_time": "2022-01-25T18:37:53.462Z"
   },
   {
    "duration": 49,
    "start_time": "2022-01-25T18:37:53.476Z"
   },
   {
    "duration": 8,
    "start_time": "2022-01-25T18:37:53.536Z"
   },
   {
    "duration": 21,
    "start_time": "2022-01-25T18:37:53.547Z"
   },
   {
    "duration": 58,
    "start_time": "2022-01-25T18:37:53.571Z"
   },
   {
    "duration": 22,
    "start_time": "2022-01-25T18:37:53.632Z"
   },
   {
    "duration": 6,
    "start_time": "2022-01-25T18:37:53.657Z"
   },
   {
    "duration": 58,
    "start_time": "2022-01-25T18:37:53.665Z"
   },
   {
    "duration": 20,
    "start_time": "2022-01-25T18:37:53.726Z"
   },
   {
    "duration": 23,
    "start_time": "2022-01-25T18:37:53.749Z"
   },
   {
    "duration": 12,
    "start_time": "2022-01-25T18:37:53.774Z"
   },
   {
    "duration": 44,
    "start_time": "2022-01-25T18:37:53.789Z"
   },
   {
    "duration": 12,
    "start_time": "2022-01-25T18:37:53.836Z"
   },
   {
    "duration": 12,
    "start_time": "2022-01-25T18:37:53.851Z"
   },
   {
    "duration": 77,
    "start_time": "2022-01-25T18:37:53.865Z"
   },
   {
    "duration": 305,
    "start_time": "2022-01-25T18:37:54.026Z"
   },
   {
    "duration": -1036,
    "start_time": "2022-01-25T18:37:55.369Z"
   },
   {
    "duration": -1042,
    "start_time": "2022-01-25T18:37:55.377Z"
   },
   {
    "duration": -1044,
    "start_time": "2022-01-25T18:37:55.380Z"
   },
   {
    "duration": -1050,
    "start_time": "2022-01-25T18:37:55.387Z"
   },
   {
    "duration": -1055,
    "start_time": "2022-01-25T18:37:55.394Z"
   },
   {
    "duration": -1056,
    "start_time": "2022-01-25T18:37:55.396Z"
   },
   {
    "duration": -1061,
    "start_time": "2022-01-25T18:37:55.403Z"
   },
   {
    "duration": -1068,
    "start_time": "2022-01-25T18:37:55.411Z"
   },
   {
    "duration": -1074,
    "start_time": "2022-01-25T18:37:55.418Z"
   },
   {
    "duration": -1075,
    "start_time": "2022-01-25T18:37:55.421Z"
   },
   {
    "duration": -1079,
    "start_time": "2022-01-25T18:37:55.427Z"
   },
   {
    "duration": -1081,
    "start_time": "2022-01-25T18:37:55.430Z"
   },
   {
    "duration": -1086,
    "start_time": "2022-01-25T18:37:55.436Z"
   },
   {
    "duration": -1092,
    "start_time": "2022-01-25T18:37:55.443Z"
   },
   {
    "duration": -1094,
    "start_time": "2022-01-25T18:37:55.447Z"
   },
   {
    "duration": -1099,
    "start_time": "2022-01-25T18:37:55.453Z"
   },
   {
    "duration": -1105,
    "start_time": "2022-01-25T18:37:55.461Z"
   },
   {
    "duration": -1106,
    "start_time": "2022-01-25T18:37:55.463Z"
   },
   {
    "duration": -1112,
    "start_time": "2022-01-25T18:37:55.470Z"
   },
   {
    "duration": -1117,
    "start_time": "2022-01-25T18:37:55.477Z"
   },
   {
    "duration": -1119,
    "start_time": "2022-01-25T18:37:55.480Z"
   },
   {
    "duration": 336,
    "start_time": "2022-01-25T18:38:34.484Z"
   },
   {
    "duration": 20,
    "start_time": "2022-01-25T18:38:58.898Z"
   },
   {
    "duration": 5,
    "start_time": "2022-01-25T18:39:07.550Z"
   },
   {
    "duration": 20,
    "start_time": "2022-01-25T18:39:08.107Z"
   },
   {
    "duration": 6,
    "start_time": "2022-01-25T18:39:12.882Z"
   },
   {
    "duration": 4,
    "start_time": "2022-01-25T18:39:50.797Z"
   },
   {
    "duration": 13,
    "start_time": "2022-01-25T18:39:51.361Z"
   },
   {
    "duration": 6,
    "start_time": "2022-01-25T18:39:54.328Z"
   },
   {
    "duration": 13,
    "start_time": "2022-01-25T18:40:54.278Z"
   },
   {
    "duration": 12,
    "start_time": "2022-01-25T18:40:54.594Z"
   },
   {
    "duration": 13,
    "start_time": "2022-01-25T18:40:55.139Z"
   },
   {
    "duration": 5,
    "start_time": "2022-01-25T18:43:11.483Z"
   },
   {
    "duration": 500,
    "start_time": "2022-01-25T18:43:11.491Z"
   },
   {
    "duration": 31,
    "start_time": "2022-01-25T18:43:11.994Z"
   },
   {
    "duration": 12,
    "start_time": "2022-01-25T18:43:12.028Z"
   },
   {
    "duration": 16,
    "start_time": "2022-01-25T18:43:12.042Z"
   },
   {
    "duration": 12,
    "start_time": "2022-01-25T18:43:12.061Z"
   },
   {
    "duration": 60,
    "start_time": "2022-01-25T18:43:12.076Z"
   },
   {
    "duration": 17,
    "start_time": "2022-01-25T18:43:12.140Z"
   },
   {
    "duration": 123,
    "start_time": "2022-01-25T18:43:12.161Z"
   },
   {
    "duration": 88,
    "start_time": "2022-01-25T18:43:12.287Z"
   },
   {
    "duration": 50,
    "start_time": "2022-01-25T18:43:12.377Z"
   },
   {
    "duration": 96,
    "start_time": "2022-01-25T18:43:12.431Z"
   },
   {
    "duration": 95,
    "start_time": "2022-01-25T18:43:12.530Z"
   },
   {
    "duration": 17,
    "start_time": "2022-01-25T18:43:12.628Z"
   },
   {
    "duration": 20,
    "start_time": "2022-01-25T18:43:12.648Z"
   },
   {
    "duration": 65,
    "start_time": "2022-01-25T18:43:12.671Z"
   },
   {
    "duration": 21,
    "start_time": "2022-01-25T18:43:12.739Z"
   },
   {
    "duration": 59,
    "start_time": "2022-01-25T18:43:12.764Z"
   },
   {
    "duration": 26,
    "start_time": "2022-01-25T18:43:12.827Z"
   },
   {
    "duration": 12,
    "start_time": "2022-01-25T18:43:12.857Z"
   },
   {
    "duration": 21,
    "start_time": "2022-01-25T18:43:12.872Z"
   },
   {
    "duration": 45,
    "start_time": "2022-01-25T18:43:12.895Z"
   },
   {
    "duration": 5,
    "start_time": "2022-01-25T18:43:12.951Z"
   },
   {
    "duration": 26,
    "start_time": "2022-01-25T18:43:12.960Z"
   },
   {
    "duration": 47,
    "start_time": "2022-01-25T18:43:12.988Z"
   },
   {
    "duration": 16,
    "start_time": "2022-01-25T18:43:13.037Z"
   },
   {
    "duration": 6,
    "start_time": "2022-01-25T18:43:13.056Z"
   },
   {
    "duration": 62,
    "start_time": "2022-01-25T18:43:13.065Z"
   },
   {
    "duration": 18,
    "start_time": "2022-01-25T18:43:13.129Z"
   },
   {
    "duration": 18,
    "start_time": "2022-01-25T18:43:13.150Z"
   },
   {
    "duration": 16,
    "start_time": "2022-01-25T18:43:13.172Z"
   },
   {
    "duration": 35,
    "start_time": "2022-01-25T18:43:13.190Z"
   },
   {
    "duration": 10,
    "start_time": "2022-01-25T18:43:13.227Z"
   },
   {
    "duration": 7,
    "start_time": "2022-01-25T18:43:13.239Z"
   },
   {
    "duration": 25,
    "start_time": "2022-01-25T18:43:13.249Z"
   },
   {
    "duration": 149,
    "start_time": "2022-01-25T18:43:13.276Z"
   },
   {
    "duration": -1036,
    "start_time": "2022-01-25T18:43:14.464Z"
   },
   {
    "duration": -1052,
    "start_time": "2022-01-25T18:43:14.482Z"
   },
   {
    "duration": -1057,
    "start_time": "2022-01-25T18:43:14.489Z"
   },
   {
    "duration": -1061,
    "start_time": "2022-01-25T18:43:14.495Z"
   },
   {
    "duration": -1061,
    "start_time": "2022-01-25T18:43:14.498Z"
   },
   {
    "duration": -1066,
    "start_time": "2022-01-25T18:43:14.505Z"
   },
   {
    "duration": -1066,
    "start_time": "2022-01-25T18:43:14.507Z"
   },
   {
    "duration": -1067,
    "start_time": "2022-01-25T18:43:14.510Z"
   },
   {
    "duration": -1104,
    "start_time": "2022-01-25T18:43:14.549Z"
   },
   {
    "duration": -1104,
    "start_time": "2022-01-25T18:43:14.552Z"
   },
   {
    "duration": -1110,
    "start_time": "2022-01-25T18:43:14.560Z"
   },
   {
    "duration": -1112,
    "start_time": "2022-01-25T18:43:14.565Z"
   },
   {
    "duration": -1122,
    "start_time": "2022-01-25T18:43:14.576Z"
   },
   {
    "duration": -1123,
    "start_time": "2022-01-25T18:43:14.579Z"
   },
   {
    "duration": -1124,
    "start_time": "2022-01-25T18:43:14.581Z"
   },
   {
    "duration": -1125,
    "start_time": "2022-01-25T18:43:14.584Z"
   },
   {
    "duration": -1133,
    "start_time": "2022-01-25T18:43:14.593Z"
   },
   {
    "duration": -1134,
    "start_time": "2022-01-25T18:43:14.596Z"
   },
   {
    "duration": -1135,
    "start_time": "2022-01-25T18:43:14.598Z"
   },
   {
    "duration": -1136,
    "start_time": "2022-01-25T18:43:14.601Z"
   },
   {
    "duration": -1077,
    "start_time": "2022-01-25T18:43:14.603Z"
   },
   {
    "duration": -1080,
    "start_time": "2022-01-25T18:43:14.608Z"
   },
   {
    "duration": -1083,
    "start_time": "2022-01-25T18:43:14.612Z"
   },
   {
    "duration": -1085,
    "start_time": "2022-01-25T18:43:14.615Z"
   },
   {
    "duration": 101,
    "start_time": "2022-01-25T18:43:54.705Z"
   },
   {
    "duration": 1247,
    "start_time": "2022-01-26T14:32:14.460Z"
   },
   {
    "duration": 432,
    "start_time": "2022-01-26T14:32:15.709Z"
   },
   {
    "duration": 15,
    "start_time": "2022-01-26T14:32:16.144Z"
   },
   {
    "duration": 24,
    "start_time": "2022-01-26T14:32:16.163Z"
   },
   {
    "duration": 27,
    "start_time": "2022-01-26T14:32:16.190Z"
   },
   {
    "duration": 13,
    "start_time": "2022-01-26T14:32:16.220Z"
   },
   {
    "duration": 38,
    "start_time": "2022-01-26T14:32:16.235Z"
   },
   {
    "duration": 13,
    "start_time": "2022-01-26T14:32:16.276Z"
   },
   {
    "duration": 65,
    "start_time": "2022-01-26T14:32:16.294Z"
   },
   {
    "duration": 79,
    "start_time": "2022-01-26T14:32:16.362Z"
   },
   {
    "duration": 19,
    "start_time": "2022-01-26T14:32:16.443Z"
   },
   {
    "duration": 74,
    "start_time": "2022-01-26T14:32:16.465Z"
   },
   {
    "duration": 73,
    "start_time": "2022-01-26T14:32:16.542Z"
   },
   {
    "duration": 16,
    "start_time": "2022-01-26T14:32:16.618Z"
   },
   {
    "duration": 15,
    "start_time": "2022-01-26T14:32:16.636Z"
   },
   {
    "duration": 19,
    "start_time": "2022-01-26T14:32:16.653Z"
   },
   {
    "duration": 46,
    "start_time": "2022-01-26T14:32:16.675Z"
   },
   {
    "duration": 61,
    "start_time": "2022-01-26T14:32:16.723Z"
   },
   {
    "duration": 15,
    "start_time": "2022-01-26T14:32:16.786Z"
   },
   {
    "duration": 5,
    "start_time": "2022-01-26T14:32:16.803Z"
   },
   {
    "duration": 7,
    "start_time": "2022-01-26T14:32:16.810Z"
   },
   {
    "duration": 16,
    "start_time": "2022-01-26T14:32:16.819Z"
   },
   {
    "duration": 11,
    "start_time": "2022-01-26T14:32:16.837Z"
   },
   {
    "duration": 24,
    "start_time": "2022-01-26T14:32:16.850Z"
   },
   {
    "duration": 31,
    "start_time": "2022-01-26T14:32:16.876Z"
   },
   {
    "duration": 17,
    "start_time": "2022-01-26T14:32:16.909Z"
   },
   {
    "duration": 4,
    "start_time": "2022-01-26T14:32:16.931Z"
   },
   {
    "duration": 29,
    "start_time": "2022-01-26T14:32:16.937Z"
   },
   {
    "duration": 53,
    "start_time": "2022-01-26T14:32:16.968Z"
   },
   {
    "duration": 19,
    "start_time": "2022-01-26T14:32:17.023Z"
   },
   {
    "duration": 10,
    "start_time": "2022-01-26T14:32:17.045Z"
   },
   {
    "duration": 10,
    "start_time": "2022-01-26T14:32:17.057Z"
   },
   {
    "duration": 20,
    "start_time": "2022-01-26T14:32:17.069Z"
   },
   {
    "duration": 19,
    "start_time": "2022-01-26T14:32:17.091Z"
   },
   {
    "duration": 25,
    "start_time": "2022-01-26T14:32:17.113Z"
   },
   {
    "duration": 169,
    "start_time": "2022-01-26T14:32:17.140Z"
   },
   {
    "duration": -147,
    "start_time": "2022-01-26T14:32:17.458Z"
   },
   {
    "duration": -164,
    "start_time": "2022-01-26T14:32:17.476Z"
   },
   {
    "duration": -183,
    "start_time": "2022-01-26T14:32:17.496Z"
   },
   {
    "duration": -192,
    "start_time": "2022-01-26T14:32:17.506Z"
   },
   {
    "duration": -195,
    "start_time": "2022-01-26T14:32:17.510Z"
   },
   {
    "duration": -197,
    "start_time": "2022-01-26T14:32:17.513Z"
   },
   {
    "duration": -199,
    "start_time": "2022-01-26T14:32:17.516Z"
   },
   {
    "duration": -201,
    "start_time": "2022-01-26T14:32:17.520Z"
   },
   {
    "duration": -204,
    "start_time": "2022-01-26T14:32:17.524Z"
   },
   {
    "duration": -209,
    "start_time": "2022-01-26T14:32:17.530Z"
   },
   {
    "duration": -212,
    "start_time": "2022-01-26T14:32:17.535Z"
   },
   {
    "duration": -215,
    "start_time": "2022-01-26T14:32:17.539Z"
   },
   {
    "duration": -217,
    "start_time": "2022-01-26T14:32:17.542Z"
   },
   {
    "duration": -220,
    "start_time": "2022-01-26T14:32:17.546Z"
   },
   {
    "duration": -222,
    "start_time": "2022-01-26T14:32:17.550Z"
   },
   {
    "duration": -224,
    "start_time": "2022-01-26T14:32:17.553Z"
   },
   {
    "duration": -227,
    "start_time": "2022-01-26T14:32:17.557Z"
   },
   {
    "duration": -230,
    "start_time": "2022-01-26T14:32:17.561Z"
   },
   {
    "duration": -232,
    "start_time": "2022-01-26T14:32:17.565Z"
   },
   {
    "duration": -234,
    "start_time": "2022-01-26T14:32:17.568Z"
   },
   {
    "duration": -236,
    "start_time": "2022-01-26T14:32:17.571Z"
   },
   {
    "duration": -238,
    "start_time": "2022-01-26T14:32:17.574Z"
   },
   {
    "duration": -256,
    "start_time": "2022-01-26T14:32:17.593Z"
   },
   {
    "duration": -261,
    "start_time": "2022-01-26T14:32:17.598Z"
   },
   {
    "duration": 3,
    "start_time": "2022-01-26T14:34:02.167Z"
   },
   {
    "duration": 504,
    "start_time": "2022-01-26T14:34:02.173Z"
   },
   {
    "duration": 12,
    "start_time": "2022-01-26T14:34:02.680Z"
   },
   {
    "duration": 20,
    "start_time": "2022-01-26T14:34:02.694Z"
   },
   {
    "duration": 16,
    "start_time": "2022-01-26T14:34:02.716Z"
   },
   {
    "duration": 9,
    "start_time": "2022-01-26T14:34:02.734Z"
   },
   {
    "duration": 14,
    "start_time": "2022-01-26T14:34:02.745Z"
   },
   {
    "duration": 48,
    "start_time": "2022-01-26T14:34:02.761Z"
   },
   {
    "duration": 46,
    "start_time": "2022-01-26T14:34:02.813Z"
   },
   {
    "duration": 98,
    "start_time": "2022-01-26T14:34:02.862Z"
   },
   {
    "duration": 17,
    "start_time": "2022-01-26T14:34:02.962Z"
   },
   {
    "duration": 70,
    "start_time": "2022-01-26T14:34:02.981Z"
   },
   {
    "duration": 75,
    "start_time": "2022-01-26T14:34:03.054Z"
   },
   {
    "duration": 15,
    "start_time": "2022-01-26T14:34:03.131Z"
   },
   {
    "duration": 13,
    "start_time": "2022-01-26T14:34:03.149Z"
   },
   {
    "duration": 48,
    "start_time": "2022-01-26T14:34:03.163Z"
   },
   {
    "duration": 14,
    "start_time": "2022-01-26T14:34:03.213Z"
   },
   {
    "duration": 19,
    "start_time": "2022-01-26T14:34:03.229Z"
   },
   {
    "duration": 19,
    "start_time": "2022-01-26T14:34:03.251Z"
   },
   {
    "duration": 34,
    "start_time": "2022-01-26T14:34:03.273Z"
   },
   {
    "duration": 12,
    "start_time": "2022-01-26T14:34:03.310Z"
   },
   {
    "duration": 10,
    "start_time": "2022-01-26T14:34:03.324Z"
   },
   {
    "duration": 8,
    "start_time": "2022-01-26T14:34:03.336Z"
   },
   {
    "duration": 20,
    "start_time": "2022-01-26T14:34:03.346Z"
   },
   {
    "duration": 40,
    "start_time": "2022-01-26T14:34:03.368Z"
   },
   {
    "duration": 17,
    "start_time": "2022-01-26T14:34:03.411Z"
   },
   {
    "duration": 5,
    "start_time": "2022-01-26T14:34:03.433Z"
   },
   {
    "duration": 21,
    "start_time": "2022-01-26T14:34:03.441Z"
   },
   {
    "duration": 54,
    "start_time": "2022-01-26T14:34:03.464Z"
   },
   {
    "duration": 16,
    "start_time": "2022-01-26T14:34:03.520Z"
   },
   {
    "duration": 9,
    "start_time": "2022-01-26T14:34:03.537Z"
   },
   {
    "duration": 11,
    "start_time": "2022-01-26T14:34:03.547Z"
   },
   {
    "duration": 9,
    "start_time": "2022-01-26T14:34:03.559Z"
   },
   {
    "duration": 38,
    "start_time": "2022-01-26T14:34:03.570Z"
   },
   {
    "duration": 19,
    "start_time": "2022-01-26T14:34:03.610Z"
   },
   {
    "duration": 4,
    "start_time": "2022-01-26T14:34:03.631Z"
   },
   {
    "duration": 181,
    "start_time": "2022-01-26T14:34:03.637Z"
   },
   {
    "duration": 434,
    "start_time": "2022-01-26T14:34:03.826Z"
   },
   {
    "duration": -276,
    "start_time": "2022-01-26T14:34:04.539Z"
   },
   {
    "duration": -282,
    "start_time": "2022-01-26T14:34:04.547Z"
   },
   {
    "duration": -289,
    "start_time": "2022-01-26T14:34:04.555Z"
   },
   {
    "duration": -310,
    "start_time": "2022-01-26T14:34:04.578Z"
   },
   {
    "duration": -316,
    "start_time": "2022-01-26T14:34:04.586Z"
   },
   {
    "duration": -323,
    "start_time": "2022-01-26T14:34:04.594Z"
   },
   {
    "duration": -328,
    "start_time": "2022-01-26T14:34:04.601Z"
   },
   {
    "duration": -334,
    "start_time": "2022-01-26T14:34:04.608Z"
   },
   {
    "duration": -337,
    "start_time": "2022-01-26T14:34:04.613Z"
   },
   {
    "duration": -340,
    "start_time": "2022-01-26T14:34:04.618Z"
   },
   {
    "duration": -344,
    "start_time": "2022-01-26T14:34:04.623Z"
   },
   {
    "duration": -348,
    "start_time": "2022-01-26T14:34:04.629Z"
   },
   {
    "duration": -361,
    "start_time": "2022-01-26T14:34:04.644Z"
   },
   {
    "duration": -366,
    "start_time": "2022-01-26T14:34:04.650Z"
   },
   {
    "duration": -369,
    "start_time": "2022-01-26T14:34:04.655Z"
   },
   {
    "duration": -389,
    "start_time": "2022-01-26T14:34:04.677Z"
   },
   {
    "duration": -392,
    "start_time": "2022-01-26T14:34:04.681Z"
   },
   {
    "duration": -396,
    "start_time": "2022-01-26T14:34:04.687Z"
   },
   {
    "duration": -400,
    "start_time": "2022-01-26T14:34:04.693Z"
   },
   {
    "duration": -405,
    "start_time": "2022-01-26T14:34:04.699Z"
   },
   {
    "duration": -409,
    "start_time": "2022-01-26T14:34:04.704Z"
   },
   {
    "duration": -415,
    "start_time": "2022-01-26T14:34:04.712Z"
   },
   {
    "duration": 4,
    "start_time": "2022-01-26T14:34:24.669Z"
   },
   {
    "duration": 445,
    "start_time": "2022-01-26T14:34:24.675Z"
   },
   {
    "duration": 12,
    "start_time": "2022-01-26T14:34:25.123Z"
   },
   {
    "duration": 10,
    "start_time": "2022-01-26T14:34:25.138Z"
   },
   {
    "duration": 18,
    "start_time": "2022-01-26T14:34:25.151Z"
   },
   {
    "duration": 43,
    "start_time": "2022-01-26T14:34:25.172Z"
   },
   {
    "duration": 20,
    "start_time": "2022-01-26T14:34:25.217Z"
   },
   {
    "duration": 10,
    "start_time": "2022-01-26T14:34:25.238Z"
   },
   {
    "duration": 74,
    "start_time": "2022-01-26T14:34:25.251Z"
   },
   {
    "duration": 86,
    "start_time": "2022-01-26T14:34:25.328Z"
   },
   {
    "duration": 15,
    "start_time": "2022-01-26T14:34:25.416Z"
   },
   {
    "duration": 76,
    "start_time": "2022-01-26T14:34:25.433Z"
   },
   {
    "duration": 48,
    "start_time": "2022-01-26T14:34:25.511Z"
   },
   {
    "duration": 13,
    "start_time": "2022-01-26T14:34:25.561Z"
   },
   {
    "duration": 38,
    "start_time": "2022-01-26T14:34:25.576Z"
   },
   {
    "duration": 12,
    "start_time": "2022-01-26T14:34:25.616Z"
   },
   {
    "duration": 13,
    "start_time": "2022-01-26T14:34:25.630Z"
   },
   {
    "duration": 22,
    "start_time": "2022-01-26T14:34:25.645Z"
   },
   {
    "duration": 46,
    "start_time": "2022-01-26T14:34:25.670Z"
   },
   {
    "duration": 4,
    "start_time": "2022-01-26T14:34:25.717Z"
   },
   {
    "duration": 10,
    "start_time": "2022-01-26T14:34:25.723Z"
   },
   {
    "duration": 20,
    "start_time": "2022-01-26T14:34:25.736Z"
   },
   {
    "duration": 15,
    "start_time": "2022-01-26T14:34:25.758Z"
   },
   {
    "duration": 37,
    "start_time": "2022-01-26T14:34:25.775Z"
   },
   {
    "duration": 20,
    "start_time": "2022-01-26T14:34:25.814Z"
   },
   {
    "duration": 14,
    "start_time": "2022-01-26T14:34:25.837Z"
   },
   {
    "duration": 8,
    "start_time": "2022-01-26T14:34:25.856Z"
   },
   {
    "duration": 49,
    "start_time": "2022-01-26T14:34:25.867Z"
   },
   {
    "duration": 17,
    "start_time": "2022-01-26T14:34:25.918Z"
   },
   {
    "duration": 19,
    "start_time": "2022-01-26T14:34:25.937Z"
   },
   {
    "duration": 21,
    "start_time": "2022-01-26T14:34:25.958Z"
   },
   {
    "duration": 26,
    "start_time": "2022-01-26T14:34:25.981Z"
   },
   {
    "duration": 3,
    "start_time": "2022-01-26T14:34:26.009Z"
   },
   {
    "duration": 3,
    "start_time": "2022-01-26T14:34:26.014Z"
   },
   {
    "duration": 84,
    "start_time": "2022-01-26T14:34:26.024Z"
   },
   {
    "duration": 99,
    "start_time": "2022-01-26T14:34:26.110Z"
   },
   {
    "duration": 37,
    "start_time": "2022-01-26T14:34:26.210Z"
   },
   {
    "duration": 168,
    "start_time": "2022-01-26T14:34:26.250Z"
   },
   {
    "duration": 187,
    "start_time": "2022-01-26T14:34:26.422Z"
   },
   {
    "duration": 195,
    "start_time": "2022-01-26T14:34:26.612Z"
   },
   {
    "duration": 7,
    "start_time": "2022-01-26T14:34:26.810Z"
   },
   {
    "duration": 6,
    "start_time": "2022-01-26T14:34:26.908Z"
   },
   {
    "duration": 12,
    "start_time": "2022-01-26T14:34:26.916Z"
   },
   {
    "duration": 6,
    "start_time": "2022-01-26T14:34:26.930Z"
   },
   {
    "duration": 8,
    "start_time": "2022-01-26T14:34:26.938Z"
   },
   {
    "duration": 7,
    "start_time": "2022-01-26T14:34:26.948Z"
   },
   {
    "duration": 8,
    "start_time": "2022-01-26T14:34:26.957Z"
   },
   {
    "duration": 43,
    "start_time": "2022-01-26T14:34:26.966Z"
   },
   {
    "duration": 14,
    "start_time": "2022-01-26T14:34:27.011Z"
   },
   {
    "duration": 11,
    "start_time": "2022-01-26T14:34:27.027Z"
   },
   {
    "duration": 9,
    "start_time": "2022-01-26T14:34:27.040Z"
   },
   {
    "duration": 7,
    "start_time": "2022-01-26T14:34:27.051Z"
   },
   {
    "duration": 10,
    "start_time": "2022-01-26T14:34:27.060Z"
   },
   {
    "duration": 2804,
    "start_time": "2022-01-26T14:34:27.072Z"
   },
   {
    "duration": 2916,
    "start_time": "2022-01-26T14:34:29.877Z"
   },
   {
    "duration": 2838,
    "start_time": "2022-01-26T14:34:32.795Z"
   },
   {
    "duration": 10,
    "start_time": "2022-01-26T14:34:35.635Z"
   },
   {
    "duration": 28,
    "start_time": "2022-01-26T14:34:35.647Z"
   },
   {
    "duration": 17,
    "start_time": "2022-01-26T14:34:35.677Z"
   },
   {
    "duration": 1413,
    "start_time": "2022-01-26T14:37:06.868Z"
   },
   {
    "duration": 443,
    "start_time": "2022-01-26T14:37:08.284Z"
   },
   {
    "duration": 13,
    "start_time": "2022-01-26T14:37:08.729Z"
   },
   {
    "duration": 14,
    "start_time": "2022-01-26T14:37:08.744Z"
   },
   {
    "duration": 11,
    "start_time": "2022-01-26T14:37:08.760Z"
   },
   {
    "duration": 43,
    "start_time": "2022-01-26T14:37:08.774Z"
   },
   {
    "duration": 13,
    "start_time": "2022-01-26T14:37:08.820Z"
   },
   {
    "duration": 11,
    "start_time": "2022-01-26T14:37:08.836Z"
   },
   {
    "duration": 89,
    "start_time": "2022-01-26T14:37:08.849Z"
   },
   {
    "duration": 82,
    "start_time": "2022-01-26T14:37:08.940Z"
   },
   {
    "duration": 16,
    "start_time": "2022-01-26T14:37:09.024Z"
   },
   {
    "duration": 70,
    "start_time": "2022-01-26T14:37:09.042Z"
   },
   {
    "duration": 49,
    "start_time": "2022-01-26T14:37:09.114Z"
   },
   {
    "duration": 14,
    "start_time": "2022-01-26T14:37:09.164Z"
   },
   {
    "duration": 17,
    "start_time": "2022-01-26T14:37:09.208Z"
   },
   {
    "duration": 1313,
    "start_time": "2022-01-26T14:38:05.567Z"
   },
   {
    "duration": 401,
    "start_time": "2022-01-26T14:38:06.882Z"
   },
   {
    "duration": 12,
    "start_time": "2022-01-26T14:38:07.285Z"
   },
   {
    "duration": 17,
    "start_time": "2022-01-26T14:38:07.299Z"
   },
   {
    "duration": 14,
    "start_time": "2022-01-26T14:38:07.319Z"
   },
   {
    "duration": 9,
    "start_time": "2022-01-26T14:38:07.335Z"
   },
   {
    "duration": 14,
    "start_time": "2022-01-26T14:38:07.346Z"
   },
   {
    "duration": 9,
    "start_time": "2022-01-26T14:38:07.408Z"
   },
   {
    "duration": 46,
    "start_time": "2022-01-26T14:38:07.420Z"
   },
   {
    "duration": 94,
    "start_time": "2022-01-26T14:38:07.468Z"
   },
   {
    "duration": 21,
    "start_time": "2022-01-26T14:38:07.565Z"
   },
   {
    "duration": 66,
    "start_time": "2022-01-26T14:38:07.588Z"
   },
   {
    "duration": 77,
    "start_time": "2022-01-26T14:38:07.656Z"
   },
   {
    "duration": 16,
    "start_time": "2022-01-26T14:38:07.736Z"
   },
   {
    "duration": 15,
    "start_time": "2022-01-26T14:38:07.754Z"
   },
   {
    "duration": 19,
    "start_time": "2022-01-26T14:38:07.807Z"
   },
   {
    "duration": 20,
    "start_time": "2022-01-26T14:38:07.828Z"
   },
   {
    "duration": 26,
    "start_time": "2022-01-26T14:38:07.850Z"
   },
   {
    "duration": 26,
    "start_time": "2022-01-26T14:38:07.879Z"
   },
   {
    "duration": 15,
    "start_time": "2022-01-26T14:38:07.908Z"
   },
   {
    "duration": 49,
    "start_time": "2022-01-26T14:38:07.925Z"
   },
   {
    "duration": 18,
    "start_time": "2022-01-26T14:38:07.977Z"
   },
   {
    "duration": 9,
    "start_time": "2022-01-26T14:38:07.999Z"
   },
   {
    "duration": 21,
    "start_time": "2022-01-26T14:38:08.010Z"
   },
   {
    "duration": 17,
    "start_time": "2022-01-26T14:38:08.033Z"
   },
   {
    "duration": 17,
    "start_time": "2022-01-26T14:38:08.052Z"
   },
   {
    "duration": 5,
    "start_time": "2022-01-26T14:38:08.071Z"
   },
   {
    "duration": 51,
    "start_time": "2022-01-26T14:38:08.079Z"
   },
   {
    "duration": 21,
    "start_time": "2022-01-26T14:38:08.132Z"
   },
   {
    "duration": 19,
    "start_time": "2022-01-26T14:38:08.155Z"
   },
   {
    "duration": 10,
    "start_time": "2022-01-26T14:38:08.207Z"
   },
   {
    "duration": 19,
    "start_time": "2022-01-26T14:38:08.219Z"
   },
   {
    "duration": 18,
    "start_time": "2022-01-26T14:38:08.240Z"
   },
   {
    "duration": 16,
    "start_time": "2022-01-26T14:38:08.260Z"
   },
   {
    "duration": 31,
    "start_time": "2022-01-26T14:38:08.278Z"
   },
   {
    "duration": 9,
    "start_time": "2022-01-26T14:38:08.313Z"
   },
   {
    "duration": 102,
    "start_time": "2022-01-26T14:38:08.408Z"
   },
   {
    "duration": 101,
    "start_time": "2022-01-26T14:38:08.513Z"
   },
   {
    "duration": 90,
    "start_time": "2022-01-26T14:38:08.617Z"
   },
   {
    "duration": 4,
    "start_time": "2022-01-26T14:38:08.710Z"
   },
   {
    "duration": 94,
    "start_time": "2022-01-26T14:38:08.717Z"
   },
   {
    "duration": 6,
    "start_time": "2022-01-26T14:38:08.814Z"
   },
   {
    "duration": 12,
    "start_time": "2022-01-26T14:38:08.821Z"
   },
   {
    "duration": 6,
    "start_time": "2022-01-26T14:38:08.835Z"
   },
   {
    "duration": 10,
    "start_time": "2022-01-26T14:38:08.843Z"
   },
   {
    "duration": 6,
    "start_time": "2022-01-26T14:38:08.855Z"
   },
   {
    "duration": 8,
    "start_time": "2022-01-26T14:38:08.863Z"
   },
   {
    "duration": 5,
    "start_time": "2022-01-26T14:38:08.908Z"
   },
   {
    "duration": 7,
    "start_time": "2022-01-26T14:38:08.914Z"
   },
   {
    "duration": 11,
    "start_time": "2022-01-26T14:38:08.923Z"
   },
   {
    "duration": 8,
    "start_time": "2022-01-26T14:38:08.936Z"
   },
   {
    "duration": 7,
    "start_time": "2022-01-26T14:38:08.946Z"
   },
   {
    "duration": 8,
    "start_time": "2022-01-26T14:38:08.955Z"
   },
   {
    "duration": 2777,
    "start_time": "2022-01-26T14:38:08.964Z"
   },
   {
    "duration": 2729,
    "start_time": "2022-01-26T14:38:11.742Z"
   },
   {
    "duration": 2834,
    "start_time": "2022-01-26T14:38:14.473Z"
   },
   {
    "duration": 12,
    "start_time": "2022-01-26T14:38:17.310Z"
   },
   {
    "duration": 12,
    "start_time": "2022-01-26T14:38:17.324Z"
   },
   {
    "duration": 15,
    "start_time": "2022-01-26T14:38:17.338Z"
   },
   {
    "duration": 5,
    "start_time": "2022-01-26T14:40:40.197Z"
   },
   {
    "duration": 453,
    "start_time": "2022-01-26T14:40:52.991Z"
   },
   {
    "duration": 350,
    "start_time": "2022-01-26T14:42:04.860Z"
   },
   {
    "duration": 79,
    "start_time": "2022-01-26T14:43:03.429Z"
   },
   {
    "duration": 8,
    "start_time": "2022-01-26T14:43:17.017Z"
   },
   {
    "duration": 4,
    "start_time": "2022-01-26T14:44:18.322Z"
   },
   {
    "duration": 437,
    "start_time": "2022-01-26T14:44:18.328Z"
   },
   {
    "duration": 15,
    "start_time": "2022-01-26T14:44:18.767Z"
   },
   {
    "duration": 28,
    "start_time": "2022-01-26T14:44:18.784Z"
   },
   {
    "duration": 23,
    "start_time": "2022-01-26T14:44:18.815Z"
   },
   {
    "duration": 10,
    "start_time": "2022-01-26T14:44:18.840Z"
   },
   {
    "duration": 16,
    "start_time": "2022-01-26T14:44:18.852Z"
   },
   {
    "duration": 45,
    "start_time": "2022-01-26T14:44:18.870Z"
   },
   {
    "duration": 69,
    "start_time": "2022-01-26T14:44:18.919Z"
   },
   {
    "duration": 128,
    "start_time": "2022-01-26T14:44:18.991Z"
   },
   {
    "duration": 23,
    "start_time": "2022-01-26T14:44:19.121Z"
   },
   {
    "duration": 80,
    "start_time": "2022-01-26T14:44:19.146Z"
   },
   {
    "duration": 63,
    "start_time": "2022-01-26T14:44:19.229Z"
   },
   {
    "duration": 17,
    "start_time": "2022-01-26T14:44:19.308Z"
   },
   {
    "duration": 15,
    "start_time": "2022-01-26T14:44:19.328Z"
   },
   {
    "duration": 16,
    "start_time": "2022-01-26T14:44:19.345Z"
   },
   {
    "duration": 51,
    "start_time": "2022-01-26T14:44:19.364Z"
   },
   {
    "duration": 18,
    "start_time": "2022-01-26T14:44:19.417Z"
   },
   {
    "duration": 17,
    "start_time": "2022-01-26T14:44:19.437Z"
   },
   {
    "duration": 6,
    "start_time": "2022-01-26T14:44:19.456Z"
   },
   {
    "duration": 43,
    "start_time": "2022-01-26T14:44:19.465Z"
   },
   {
    "duration": 7,
    "start_time": "2022-01-26T14:44:19.510Z"
   },
   {
    "duration": 7,
    "start_time": "2022-01-26T14:44:19.520Z"
   },
   {
    "duration": 24,
    "start_time": "2022-01-26T14:44:19.530Z"
   },
   {
    "duration": 50,
    "start_time": "2022-01-26T14:44:19.557Z"
   },
   {
    "duration": 19,
    "start_time": "2022-01-26T14:44:19.610Z"
   },
   {
    "duration": 6,
    "start_time": "2022-01-26T14:44:19.634Z"
   },
   {
    "duration": 25,
    "start_time": "2022-01-26T14:44:19.644Z"
   },
   {
    "duration": 46,
    "start_time": "2022-01-26T14:44:19.671Z"
   },
   {
    "duration": 16,
    "start_time": "2022-01-26T14:44:19.719Z"
   },
   {
    "duration": 8,
    "start_time": "2022-01-26T14:44:19.737Z"
   },
   {
    "duration": 9,
    "start_time": "2022-01-26T14:44:19.748Z"
   },
   {
    "duration": 10,
    "start_time": "2022-01-26T14:44:19.759Z"
   },
   {
    "duration": 52,
    "start_time": "2022-01-26T14:44:19.771Z"
   },
   {
    "duration": 90,
    "start_time": "2022-01-26T14:44:19.825Z"
   },
   {
    "duration": 124,
    "start_time": "2022-01-26T14:44:19.918Z"
   },
   {
    "duration": 99,
    "start_time": "2022-01-26T14:44:20.109Z"
   },
   {
    "duration": 98,
    "start_time": "2022-01-26T14:44:20.211Z"
   },
   {
    "duration": 101,
    "start_time": "2022-01-26T14:44:20.312Z"
   },
   {
    "duration": 11,
    "start_time": "2022-01-26T14:44:20.415Z"
   },
   {
    "duration": 11,
    "start_time": "2022-01-26T14:44:20.428Z"
   },
   {
    "duration": 10,
    "start_time": "2022-01-26T14:44:20.441Z"
   },
   {
    "duration": 9,
    "start_time": "2022-01-26T14:44:20.453Z"
   },
   {
    "duration": 11,
    "start_time": "2022-01-26T14:44:20.464Z"
   },
   {
    "duration": 31,
    "start_time": "2022-01-26T14:44:20.477Z"
   },
   {
    "duration": 7,
    "start_time": "2022-01-26T14:44:20.510Z"
   },
   {
    "duration": 16,
    "start_time": "2022-01-26T14:44:20.519Z"
   },
   {
    "duration": 9,
    "start_time": "2022-01-26T14:44:20.537Z"
   },
   {
    "duration": 11,
    "start_time": "2022-01-26T14:44:20.548Z"
   },
   {
    "duration": 9,
    "start_time": "2022-01-26T14:44:20.561Z"
   },
   {
    "duration": 36,
    "start_time": "2022-01-26T14:44:20.572Z"
   },
   {
    "duration": 18,
    "start_time": "2022-01-26T14:44:20.610Z"
   },
   {
    "duration": 4581,
    "start_time": "2022-01-26T14:44:20.630Z"
   },
   {
    "duration": 4717,
    "start_time": "2022-01-26T14:44:25.213Z"
   },
   {
    "duration": 3059,
    "start_time": "2022-01-26T14:44:29.932Z"
   },
   {
    "duration": 16,
    "start_time": "2022-01-26T14:44:32.993Z"
   },
   {
    "duration": 17,
    "start_time": "2022-01-26T14:44:33.011Z"
   },
   {
    "duration": 11,
    "start_time": "2022-01-26T14:44:33.031Z"
   },
   {
    "duration": 1330,
    "start_time": "2022-01-26T14:48:15.971Z"
   },
   {
    "duration": 435,
    "start_time": "2022-01-26T14:48:17.303Z"
   },
   {
    "duration": 13,
    "start_time": "2022-01-26T14:48:17.740Z"
   },
   {
    "duration": 13,
    "start_time": "2022-01-26T14:48:17.756Z"
   },
   {
    "duration": 47,
    "start_time": "2022-01-26T14:48:17.772Z"
   },
   {
    "duration": 10,
    "start_time": "2022-01-26T14:48:17.821Z"
   },
   {
    "duration": 15,
    "start_time": "2022-01-26T14:48:17.833Z"
   },
   {
    "duration": 9,
    "start_time": "2022-01-26T14:48:17.851Z"
   },
   {
    "duration": 84,
    "start_time": "2022-01-26T14:48:17.863Z"
   },
   {
    "duration": 80,
    "start_time": "2022-01-26T14:48:17.949Z"
   },
   {
    "duration": 16,
    "start_time": "2022-01-26T14:48:18.031Z"
   },
   {
    "duration": 76,
    "start_time": "2022-01-26T14:48:18.049Z"
   },
   {
    "duration": 51,
    "start_time": "2022-01-26T14:48:18.127Z"
   },
   {
    "duration": 39,
    "start_time": "2022-01-26T14:48:18.181Z"
   },
   {
    "duration": 13,
    "start_time": "2022-01-26T14:48:18.222Z"
   },
   {
    "duration": 20,
    "start_time": "2022-01-26T14:48:18.237Z"
   },
   {
    "duration": 47,
    "start_time": "2022-01-26T14:48:18.260Z"
   },
   {
    "duration": 16,
    "start_time": "2022-01-26T14:48:18.310Z"
   },
   {
    "duration": 23,
    "start_time": "2022-01-26T14:48:18.328Z"
   },
   {
    "duration": 5,
    "start_time": "2022-01-26T14:48:18.354Z"
   },
   {
    "duration": 10,
    "start_time": "2022-01-26T14:48:18.361Z"
   },
   {
    "duration": 35,
    "start_time": "2022-01-26T14:48:18.373Z"
   },
   {
    "duration": 7,
    "start_time": "2022-01-26T14:48:18.413Z"
   },
   {
    "duration": 18,
    "start_time": "2022-01-26T14:48:18.424Z"
   },
   {
    "duration": 18,
    "start_time": "2022-01-26T14:48:18.444Z"
   },
   {
    "duration": 55,
    "start_time": "2022-01-26T14:48:18.464Z"
   },
   {
    "duration": 6,
    "start_time": "2022-01-26T14:48:18.521Z"
   },
   {
    "duration": 98,
    "start_time": "2022-01-26T14:48:18.529Z"
   },
   {
    "duration": 22,
    "start_time": "2022-01-26T14:48:18.629Z"
   },
   {
    "duration": 19,
    "start_time": "2022-01-26T14:48:18.653Z"
   },
   {
    "duration": 5,
    "start_time": "2022-01-26T14:48:18.675Z"
   },
   {
    "duration": 21,
    "start_time": "2022-01-26T14:48:18.708Z"
   },
   {
    "duration": 99,
    "start_time": "2022-01-26T14:48:18.809Z"
   },
   {
    "duration": 13,
    "start_time": "2022-01-26T14:48:18.910Z"
   },
   {
    "duration": 181,
    "start_time": "2022-01-26T14:48:18.925Z"
   },
   {
    "duration": 13,
    "start_time": "2022-01-26T14:48:19.109Z"
   },
   {
    "duration": 93,
    "start_time": "2022-01-26T14:48:19.125Z"
   },
   {
    "duration": 4,
    "start_time": "2022-01-26T14:48:19.308Z"
   },
   {
    "duration": 8,
    "start_time": "2022-01-26T14:48:19.315Z"
   },
   {
    "duration": 6,
    "start_time": "2022-01-26T14:48:19.326Z"
   },
   {
    "duration": 8,
    "start_time": "2022-01-26T14:48:19.334Z"
   },
   {
    "duration": 5,
    "start_time": "2022-01-26T14:48:19.344Z"
   },
   {
    "duration": 58,
    "start_time": "2022-01-26T14:48:19.351Z"
   },
   {
    "duration": 10,
    "start_time": "2022-01-26T14:48:19.411Z"
   },
   {
    "duration": 6,
    "start_time": "2022-01-26T14:48:19.423Z"
   },
   {
    "duration": 6,
    "start_time": "2022-01-26T14:48:19.431Z"
   },
   {
    "duration": 10,
    "start_time": "2022-01-26T14:48:19.439Z"
   },
   {
    "duration": 2791,
    "start_time": "2022-01-26T14:48:19.451Z"
   },
   {
    "duration": 2836,
    "start_time": "2022-01-26T14:48:22.244Z"
   },
   {
    "duration": 2773,
    "start_time": "2022-01-26T14:48:25.082Z"
   },
   {
    "duration": 13,
    "start_time": "2022-01-26T14:48:27.857Z"
   },
   {
    "duration": 16,
    "start_time": "2022-01-26T14:48:27.872Z"
   },
   {
    "duration": 10,
    "start_time": "2022-01-26T14:48:27.909Z"
   },
   {
    "duration": 3,
    "start_time": "2022-01-26T14:54:55.826Z"
   },
   {
    "duration": 443,
    "start_time": "2022-01-26T14:54:55.831Z"
   },
   {
    "duration": 12,
    "start_time": "2022-01-26T14:54:56.276Z"
   },
   {
    "duration": 19,
    "start_time": "2022-01-26T14:54:56.290Z"
   },
   {
    "duration": 14,
    "start_time": "2022-01-26T14:54:56.311Z"
   },
   {
    "duration": 9,
    "start_time": "2022-01-26T14:54:56.327Z"
   },
   {
    "duration": 22,
    "start_time": "2022-01-26T14:54:56.338Z"
   },
   {
    "duration": 45,
    "start_time": "2022-01-26T14:54:56.362Z"
   },
   {
    "duration": 47,
    "start_time": "2022-01-26T14:54:56.411Z"
   },
   {
    "duration": 84,
    "start_time": "2022-01-26T14:54:56.460Z"
   },
   {
    "duration": 16,
    "start_time": "2022-01-26T14:54:56.546Z"
   },
   {
    "duration": 74,
    "start_time": "2022-01-26T14:54:56.564Z"
   },
   {
    "duration": 47,
    "start_time": "2022-01-26T14:54:56.639Z"
   },
   {
    "duration": 25,
    "start_time": "2022-01-26T14:54:56.688Z"
   },
   {
    "duration": 13,
    "start_time": "2022-01-26T14:54:56.714Z"
   },
   {
    "duration": 14,
    "start_time": "2022-01-26T14:54:56.728Z"
   },
   {
    "duration": 12,
    "start_time": "2022-01-26T14:54:56.743Z"
   },
   {
    "duration": 57,
    "start_time": "2022-01-26T14:54:56.757Z"
   },
   {
    "duration": 22,
    "start_time": "2022-01-26T14:54:56.816Z"
   },
   {
    "duration": 21,
    "start_time": "2022-01-26T14:54:56.840Z"
   },
   {
    "duration": 11,
    "start_time": "2022-01-26T14:54:56.863Z"
   },
   {
    "duration": 19,
    "start_time": "2022-01-26T14:54:56.876Z"
   },
   {
    "duration": 18,
    "start_time": "2022-01-26T14:54:56.897Z"
   },
   {
    "duration": 43,
    "start_time": "2022-01-26T14:54:56.917Z"
   },
   {
    "duration": 35,
    "start_time": "2022-01-26T14:54:56.962Z"
   },
   {
    "duration": 14,
    "start_time": "2022-01-26T14:54:56.999Z"
   },
   {
    "duration": 7,
    "start_time": "2022-01-26T14:54:57.018Z"
   },
   {
    "duration": 22,
    "start_time": "2022-01-26T14:54:57.027Z"
   },
   {
    "duration": 17,
    "start_time": "2022-01-26T14:54:57.051Z"
   },
   {
    "duration": 45,
    "start_time": "2022-01-26T14:54:57.070Z"
   },
   {
    "duration": 3,
    "start_time": "2022-01-26T14:54:57.117Z"
   },
   {
    "duration": 88,
    "start_time": "2022-01-26T14:54:57.122Z"
   },
   {
    "duration": 98,
    "start_time": "2022-01-26T14:54:57.213Z"
   },
   {
    "duration": 11,
    "start_time": "2022-01-26T14:54:57.313Z"
   },
   {
    "duration": 182,
    "start_time": "2022-01-26T14:54:57.327Z"
   },
   {
    "duration": 11,
    "start_time": "2022-01-26T14:54:57.511Z"
   },
   {
    "duration": 88,
    "start_time": "2022-01-26T14:54:57.524Z"
   },
   {
    "duration": 94,
    "start_time": "2022-01-26T14:54:57.615Z"
   },
   {
    "duration": 11,
    "start_time": "2022-01-26T14:54:57.710Z"
   },
   {
    "duration": 8,
    "start_time": "2022-01-26T14:54:57.723Z"
   },
   {
    "duration": 7,
    "start_time": "2022-01-26T14:54:57.733Z"
   },
   {
    "duration": 10,
    "start_time": "2022-01-26T14:54:57.742Z"
   },
   {
    "duration": 13,
    "start_time": "2022-01-26T14:54:57.754Z"
   },
   {
    "duration": 6,
    "start_time": "2022-01-26T14:54:57.768Z"
   },
   {
    "duration": 4,
    "start_time": "2022-01-26T14:54:57.808Z"
   },
   {
    "duration": 6,
    "start_time": "2022-01-26T14:54:57.814Z"
   },
   {
    "duration": 10,
    "start_time": "2022-01-26T14:54:57.822Z"
   },
   {
    "duration": 3543,
    "start_time": "2022-01-26T14:54:57.833Z"
   },
   {
    "duration": -117,
    "start_time": "2022-01-26T14:55:01.496Z"
   },
   {
    "duration": -122,
    "start_time": "2022-01-26T14:55:01.502Z"
   },
   {
    "duration": -128,
    "start_time": "2022-01-26T14:55:01.509Z"
   },
   {
    "duration": -132,
    "start_time": "2022-01-26T14:55:01.514Z"
   },
   {
    "duration": -136,
    "start_time": "2022-01-26T14:55:01.519Z"
   },
   {
    "duration": 1318,
    "start_time": "2022-01-26T14:56:36.967Z"
   },
   {
    "duration": 423,
    "start_time": "2022-01-26T14:56:38.287Z"
   },
   {
    "duration": 12,
    "start_time": "2022-01-26T14:56:38.713Z"
   },
   {
    "duration": 13,
    "start_time": "2022-01-26T14:56:38.727Z"
   },
   {
    "duration": 18,
    "start_time": "2022-01-26T14:56:38.743Z"
   },
   {
    "duration": 11,
    "start_time": "2022-01-26T14:56:38.764Z"
   },
   {
    "duration": 12,
    "start_time": "2022-01-26T14:56:38.808Z"
   },
   {
    "duration": 12,
    "start_time": "2022-01-26T14:56:38.822Z"
   },
   {
    "duration": 75,
    "start_time": "2022-01-26T14:56:38.838Z"
   },
   {
    "duration": 76,
    "start_time": "2022-01-26T14:56:38.916Z"
   },
   {
    "duration": 16,
    "start_time": "2022-01-26T14:56:39.008Z"
   },
   {
    "duration": 53,
    "start_time": "2022-01-26T14:56:39.025Z"
   },
   {
    "duration": 71,
    "start_time": "2022-01-26T14:56:39.080Z"
   },
   {
    "duration": 16,
    "start_time": "2022-01-26T14:56:39.153Z"
   },
   {
    "duration": 38,
    "start_time": "2022-01-26T14:56:39.171Z"
   },
   {
    "duration": 14,
    "start_time": "2022-01-26T14:56:39.210Z"
   },
   {
    "duration": 12,
    "start_time": "2022-01-26T14:56:39.225Z"
   },
   {
    "duration": 19,
    "start_time": "2022-01-26T14:56:39.239Z"
   },
   {
    "duration": 49,
    "start_time": "2022-01-26T14:56:39.260Z"
   },
   {
    "duration": 3,
    "start_time": "2022-01-26T14:56:39.311Z"
   },
   {
    "duration": 9,
    "start_time": "2022-01-26T14:56:39.316Z"
   },
   {
    "duration": 11,
    "start_time": "2022-01-26T14:56:39.327Z"
   },
   {
    "duration": 11,
    "start_time": "2022-01-26T14:56:39.340Z"
   },
   {
    "duration": 23,
    "start_time": "2022-01-26T14:56:39.353Z"
   },
   {
    "duration": 37,
    "start_time": "2022-01-26T14:56:39.378Z"
   },
   {
    "duration": 17,
    "start_time": "2022-01-26T14:56:39.418Z"
   },
   {
    "duration": 4,
    "start_time": "2022-01-26T14:56:39.440Z"
   },
   {
    "duration": 62,
    "start_time": "2022-01-26T14:56:39.447Z"
   },
   {
    "duration": 21,
    "start_time": "2022-01-26T14:56:39.511Z"
   },
   {
    "duration": 17,
    "start_time": "2022-01-26T14:56:39.534Z"
   },
   {
    "duration": 4,
    "start_time": "2022-01-26T14:56:39.552Z"
   },
   {
    "duration": 51,
    "start_time": "2022-01-26T14:56:39.558Z"
   },
   {
    "duration": 101,
    "start_time": "2022-01-26T14:56:39.611Z"
   },
   {
    "duration": 95,
    "start_time": "2022-01-26T14:56:39.715Z"
   },
   {
    "duration": 96,
    "start_time": "2022-01-26T14:56:39.813Z"
   },
   {
    "duration": 16,
    "start_time": "2022-01-26T14:56:39.911Z"
   },
   {
    "duration": 10,
    "start_time": "2022-01-26T14:56:40.007Z"
   },
   {
    "duration": 4,
    "start_time": "2022-01-26T14:56:40.108Z"
   },
   {
    "duration": 9,
    "start_time": "2022-01-26T14:56:40.114Z"
   },
   {
    "duration": 8,
    "start_time": "2022-01-26T14:56:40.125Z"
   },
   {
    "duration": 10,
    "start_time": "2022-01-26T14:56:40.135Z"
   },
   {
    "duration": 6,
    "start_time": "2022-01-26T14:56:40.147Z"
   },
   {
    "duration": 56,
    "start_time": "2022-01-26T14:56:40.156Z"
   },
   {
    "duration": 5,
    "start_time": "2022-01-26T14:56:40.215Z"
   },
   {
    "duration": 12,
    "start_time": "2022-01-26T14:56:40.222Z"
   },
   {
    "duration": 6,
    "start_time": "2022-01-26T14:56:40.235Z"
   },
   {
    "duration": 8,
    "start_time": "2022-01-26T14:56:40.243Z"
   },
   {
    "duration": 3382,
    "start_time": "2022-01-26T14:56:40.252Z"
   },
   {
    "duration": -266,
    "start_time": "2022-01-26T14:56:43.902Z"
   },
   {
    "duration": -272,
    "start_time": "2022-01-26T14:56:43.909Z"
   },
   {
    "duration": -277,
    "start_time": "2022-01-26T14:56:43.915Z"
   },
   {
    "duration": -282,
    "start_time": "2022-01-26T14:56:43.921Z"
   },
   {
    "duration": -287,
    "start_time": "2022-01-26T14:56:43.927Z"
   },
   {
    "duration": 3,
    "start_time": "2022-01-26T14:57:48.903Z"
   },
   {
    "duration": 446,
    "start_time": "2022-01-26T14:57:48.913Z"
   },
   {
    "duration": 12,
    "start_time": "2022-01-26T14:57:49.361Z"
   },
   {
    "duration": 33,
    "start_time": "2022-01-26T14:57:49.376Z"
   },
   {
    "duration": 12,
    "start_time": "2022-01-26T14:57:49.411Z"
   },
   {
    "duration": 14,
    "start_time": "2022-01-26T14:57:49.426Z"
   },
   {
    "duration": 17,
    "start_time": "2022-01-26T14:57:49.442Z"
   },
   {
    "duration": 10,
    "start_time": "2022-01-26T14:57:49.462Z"
   },
   {
    "duration": 77,
    "start_time": "2022-01-26T14:57:49.475Z"
   },
   {
    "duration": 86,
    "start_time": "2022-01-26T14:57:49.555Z"
   },
   {
    "duration": 16,
    "start_time": "2022-01-26T14:57:49.643Z"
   },
   {
    "duration": 75,
    "start_time": "2022-01-26T14:57:49.661Z"
   },
   {
    "duration": 51,
    "start_time": "2022-01-26T14:57:49.738Z"
   },
   {
    "duration": 25,
    "start_time": "2022-01-26T14:57:49.791Z"
   },
   {
    "duration": 13,
    "start_time": "2022-01-26T14:57:49.818Z"
   },
   {
    "duration": 14,
    "start_time": "2022-01-26T14:57:49.833Z"
   },
   {
    "duration": 14,
    "start_time": "2022-01-26T14:57:49.849Z"
   },
   {
    "duration": 13,
    "start_time": "2022-01-26T14:57:49.908Z"
   },
   {
    "duration": 22,
    "start_time": "2022-01-26T14:57:49.923Z"
   },
   {
    "duration": 14,
    "start_time": "2022-01-26T14:57:49.946Z"
   },
   {
    "duration": 17,
    "start_time": "2022-01-26T14:57:49.962Z"
   },
   {
    "duration": 11,
    "start_time": "2022-01-26T14:57:49.981Z"
   },
   {
    "duration": 16,
    "start_time": "2022-01-26T14:57:49.994Z"
   },
   {
    "duration": 25,
    "start_time": "2022-01-26T14:57:50.016Z"
   },
   {
    "duration": 16,
    "start_time": "2022-01-26T14:57:50.045Z"
   },
   {
    "duration": 43,
    "start_time": "2022-01-26T14:57:50.064Z"
   },
   {
    "duration": 5,
    "start_time": "2022-01-26T14:57:50.110Z"
   },
   {
    "duration": 22,
    "start_time": "2022-01-26T14:57:50.117Z"
   },
   {
    "duration": 20,
    "start_time": "2022-01-26T14:57:50.141Z"
   },
   {
    "duration": 52,
    "start_time": "2022-01-26T14:57:50.163Z"
   },
   {
    "duration": 4,
    "start_time": "2022-01-26T14:57:50.217Z"
   },
   {
    "duration": 86,
    "start_time": "2022-01-26T14:57:50.222Z"
   },
   {
    "duration": 98,
    "start_time": "2022-01-26T14:57:50.311Z"
   },
   {
    "duration": 11,
    "start_time": "2022-01-26T14:57:50.411Z"
   },
   {
    "duration": 191,
    "start_time": "2022-01-26T14:57:50.424Z"
   },
   {
    "duration": 14,
    "start_time": "2022-01-26T14:57:50.617Z"
   },
   {
    "duration": 80,
    "start_time": "2022-01-26T14:57:50.634Z"
   },
   {
    "duration": 97,
    "start_time": "2022-01-26T14:57:50.717Z"
   },
   {
    "duration": 9,
    "start_time": "2022-01-26T14:57:50.816Z"
   },
   {
    "duration": 9,
    "start_time": "2022-01-26T14:57:50.827Z"
   },
   {
    "duration": 7,
    "start_time": "2022-01-26T14:57:50.837Z"
   },
   {
    "duration": 8,
    "start_time": "2022-01-26T14:57:50.845Z"
   },
   {
    "duration": 10,
    "start_time": "2022-01-26T14:57:50.855Z"
   },
   {
    "duration": 46,
    "start_time": "2022-01-26T14:57:50.867Z"
   },
   {
    "duration": 9,
    "start_time": "2022-01-26T14:57:50.915Z"
   },
   {
    "duration": 4,
    "start_time": "2022-01-26T14:57:50.926Z"
   },
   {
    "duration": 12,
    "start_time": "2022-01-26T14:57:50.932Z"
   },
   {
    "duration": 2842,
    "start_time": "2022-01-26T14:57:50.945Z"
   },
   {
    "duration": 2759,
    "start_time": "2022-01-26T14:57:53.789Z"
   },
   {
    "duration": 2922,
    "start_time": "2022-01-26T14:57:56.550Z"
   },
   {
    "duration": 10,
    "start_time": "2022-01-26T14:57:59.474Z"
   },
   {
    "duration": 32,
    "start_time": "2022-01-26T14:57:59.486Z"
   },
   {
    "duration": 14,
    "start_time": "2022-01-26T14:57:59.520Z"
   },
   {
    "duration": 4,
    "start_time": "2022-01-26T15:00:53.629Z"
   },
   {
    "duration": 428,
    "start_time": "2022-01-26T15:00:53.635Z"
   },
   {
    "duration": 12,
    "start_time": "2022-01-26T15:00:54.065Z"
   },
   {
    "duration": 9,
    "start_time": "2022-01-26T15:00:54.079Z"
   },
   {
    "duration": 27,
    "start_time": "2022-01-26T15:00:54.090Z"
   },
   {
    "duration": 9,
    "start_time": "2022-01-26T15:00:54.119Z"
   },
   {
    "duration": 16,
    "start_time": "2022-01-26T15:00:54.129Z"
   },
   {
    "duration": 9,
    "start_time": "2022-01-26T15:00:54.147Z"
   },
   {
    "duration": 88,
    "start_time": "2022-01-26T15:00:54.160Z"
   },
   {
    "duration": 73,
    "start_time": "2022-01-26T15:00:54.250Z"
   },
   {
    "duration": 15,
    "start_time": "2022-01-26T15:00:54.325Z"
   },
   {
    "duration": 77,
    "start_time": "2022-01-26T15:00:54.342Z"
   },
   {
    "duration": 47,
    "start_time": "2022-01-26T15:00:54.421Z"
   },
   {
    "duration": 12,
    "start_time": "2022-01-26T15:00:54.470Z"
   },
   {
    "duration": 12,
    "start_time": "2022-01-26T15:00:54.508Z"
   },
   {
    "duration": 14,
    "start_time": "2022-01-26T15:00:54.522Z"
   },
   {
    "duration": 11,
    "start_time": "2022-01-26T15:00:54.538Z"
   },
   {
    "duration": 18,
    "start_time": "2022-01-26T15:00:54.551Z"
   },
   {
    "duration": 48,
    "start_time": "2022-01-26T15:00:54.570Z"
   },
   {
    "duration": 7,
    "start_time": "2022-01-26T15:00:54.620Z"
   },
   {
    "duration": 13,
    "start_time": "2022-01-26T15:00:54.629Z"
   },
   {
    "duration": 10,
    "start_time": "2022-01-26T15:00:54.644Z"
   },
   {
    "duration": 9,
    "start_time": "2022-01-26T15:00:54.656Z"
   },
   {
    "duration": 40,
    "start_time": "2022-01-26T15:00:54.667Z"
   },
   {
    "duration": 14,
    "start_time": "2022-01-26T15:00:54.710Z"
   },
   {
    "duration": 12,
    "start_time": "2022-01-26T15:00:54.726Z"
   },
   {
    "duration": 4,
    "start_time": "2022-01-26T15:00:54.743Z"
   },
   {
    "duration": 22,
    "start_time": "2022-01-26T15:00:54.749Z"
   },
   {
    "duration": 41,
    "start_time": "2022-01-26T15:00:54.773Z"
   },
   {
    "duration": 16,
    "start_time": "2022-01-26T15:00:54.816Z"
   },
   {
    "duration": 4,
    "start_time": "2022-01-26T15:00:54.834Z"
   },
   {
    "duration": 68,
    "start_time": "2022-01-26T15:00:54.840Z"
   },
   {
    "duration": 103,
    "start_time": "2022-01-26T15:00:54.910Z"
   },
   {
    "duration": 14,
    "start_time": "2022-01-26T15:00:55.016Z"
   },
   {
    "duration": 83,
    "start_time": "2022-01-26T15:00:55.032Z"
   },
   {
    "duration": 106,
    "start_time": "2022-01-26T15:00:55.118Z"
   },
   {
    "duration": 86,
    "start_time": "2022-01-26T15:00:55.226Z"
   },
   {
    "duration": 102,
    "start_time": "2022-01-26T15:00:55.314Z"
   },
   {
    "duration": 9,
    "start_time": "2022-01-26T15:00:55.418Z"
   },
   {
    "duration": 8,
    "start_time": "2022-01-26T15:00:55.429Z"
   },
   {
    "duration": 12,
    "start_time": "2022-01-26T15:00:55.439Z"
   },
   {
    "duration": 5,
    "start_time": "2022-01-26T15:00:55.453Z"
   },
   {
    "duration": 8,
    "start_time": "2022-01-26T15:00:55.460Z"
   },
   {
    "duration": 42,
    "start_time": "2022-01-26T15:00:55.470Z"
   },
   {
    "duration": 6,
    "start_time": "2022-01-26T15:00:55.514Z"
   },
   {
    "duration": 5,
    "start_time": "2022-01-26T15:00:55.522Z"
   },
   {
    "duration": 11,
    "start_time": "2022-01-26T15:00:55.529Z"
   },
   {
    "duration": 2809,
    "start_time": "2022-01-26T15:00:55.542Z"
   },
   {
    "duration": 2877,
    "start_time": "2022-01-26T15:00:58.353Z"
   },
   {
    "duration": 3075,
    "start_time": "2022-01-26T15:01:01.232Z"
   },
   {
    "duration": 10,
    "start_time": "2022-01-26T15:01:04.309Z"
   },
   {
    "duration": 32,
    "start_time": "2022-01-26T15:01:04.321Z"
   },
   {
    "duration": 23,
    "start_time": "2022-01-26T15:01:04.355Z"
   },
   {
    "duration": 1322,
    "start_time": "2022-01-26T15:01:38.079Z"
   },
   {
    "duration": 427,
    "start_time": "2022-01-26T15:01:39.403Z"
   },
   {
    "duration": 14,
    "start_time": "2022-01-26T15:01:39.832Z"
   },
   {
    "duration": 12,
    "start_time": "2022-01-26T15:01:39.849Z"
   },
   {
    "duration": 15,
    "start_time": "2022-01-26T15:01:39.863Z"
   },
   {
    "duration": 34,
    "start_time": "2022-01-26T15:01:39.880Z"
   },
   {
    "duration": 18,
    "start_time": "2022-01-26T15:01:39.916Z"
   },
   {
    "duration": 9,
    "start_time": "2022-01-26T15:01:39.936Z"
   },
   {
    "duration": 81,
    "start_time": "2022-01-26T15:01:39.948Z"
   },
   {
    "duration": 98,
    "start_time": "2022-01-26T15:01:40.031Z"
   },
   {
    "duration": 16,
    "start_time": "2022-01-26T15:01:40.132Z"
   },
   {
    "duration": 71,
    "start_time": "2022-01-26T15:01:40.151Z"
   },
   {
    "duration": 52,
    "start_time": "2022-01-26T15:01:40.223Z"
   },
   {
    "duration": 35,
    "start_time": "2022-01-26T15:01:40.277Z"
   },
   {
    "duration": 13,
    "start_time": "2022-01-26T15:01:40.314Z"
   },
   {
    "duration": 13,
    "start_time": "2022-01-26T15:01:40.329Z"
   },
   {
    "duration": 13,
    "start_time": "2022-01-26T15:01:40.343Z"
   },
   {
    "duration": 51,
    "start_time": "2022-01-26T15:01:40.358Z"
   },
   {
    "duration": 16,
    "start_time": "2022-01-26T15:01:40.410Z"
   },
   {
    "duration": 6,
    "start_time": "2022-01-26T15:01:40.429Z"
   },
   {
    "duration": 12,
    "start_time": "2022-01-26T15:01:40.437Z"
   },
   {
    "duration": 14,
    "start_time": "2022-01-26T15:01:40.451Z"
   },
   {
    "duration": 9,
    "start_time": "2022-01-26T15:01:40.467Z"
   },
   {
    "duration": 45,
    "start_time": "2022-01-26T15:01:40.477Z"
   },
   {
    "duration": 16,
    "start_time": "2022-01-26T15:01:40.524Z"
   },
   {
    "duration": 17,
    "start_time": "2022-01-26T15:01:40.542Z"
   },
   {
    "duration": 4,
    "start_time": "2022-01-26T15:01:40.563Z"
   },
   {
    "duration": 57,
    "start_time": "2022-01-26T15:01:40.569Z"
   },
   {
    "duration": 20,
    "start_time": "2022-01-26T15:01:40.628Z"
   },
   {
    "duration": 17,
    "start_time": "2022-01-26T15:01:40.649Z"
   },
   {
    "duration": 4,
    "start_time": "2022-01-26T15:01:40.668Z"
   },
   {
    "duration": 51,
    "start_time": "2022-01-26T15:01:40.674Z"
   },
   {
    "duration": 102,
    "start_time": "2022-01-26T15:01:40.809Z"
   },
   {
    "duration": 12,
    "start_time": "2022-01-26T15:01:40.912Z"
   },
   {
    "duration": 83,
    "start_time": "2022-01-26T15:01:40.926Z"
   },
   {
    "duration": 104,
    "start_time": "2022-01-26T15:01:41.011Z"
   },
   {
    "duration": 91,
    "start_time": "2022-01-26T15:01:41.118Z"
   },
   {
    "duration": 114,
    "start_time": "2022-01-26T15:01:41.212Z"
   },
   {
    "duration": 20,
    "start_time": "2022-01-26T15:01:41.328Z"
   },
   {
    "duration": 9,
    "start_time": "2022-01-26T15:01:41.350Z"
   },
   {
    "duration": 8,
    "start_time": "2022-01-26T15:01:41.361Z"
   },
   {
    "duration": 7,
    "start_time": "2022-01-26T15:01:41.371Z"
   },
   {
    "duration": 7,
    "start_time": "2022-01-26T15:01:41.380Z"
   },
   {
    "duration": 22,
    "start_time": "2022-01-26T15:01:41.389Z"
   },
   {
    "duration": 8,
    "start_time": "2022-01-26T15:01:41.414Z"
   },
   {
    "duration": 11,
    "start_time": "2022-01-26T15:01:41.425Z"
   },
   {
    "duration": 9,
    "start_time": "2022-01-26T15:01:41.438Z"
   },
   {
    "duration": 2928,
    "start_time": "2022-01-26T15:01:41.449Z"
   },
   {
    "duration": 2871,
    "start_time": "2022-01-26T15:01:44.379Z"
   },
   {
    "duration": 2789,
    "start_time": "2022-01-26T15:01:47.252Z"
   },
   {
    "duration": 12,
    "start_time": "2022-01-26T15:01:50.043Z"
   },
   {
    "duration": 17,
    "start_time": "2022-01-26T15:01:50.057Z"
   },
   {
    "duration": 37,
    "start_time": "2022-01-26T15:01:50.076Z"
   },
   {
    "duration": 9,
    "start_time": "2022-01-26T20:56:54.750Z"
   },
   {
    "duration": 3,
    "start_time": "2022-01-26T20:56:58.393Z"
   },
   {
    "duration": 1916,
    "start_time": "2022-03-27T14:05:13.439Z"
   },
   {
    "duration": 388,
    "start_time": "2022-03-27T14:05:15.357Z"
   },
   {
    "duration": 19,
    "start_time": "2022-03-27T14:05:15.747Z"
   },
   {
    "duration": 34,
    "start_time": "2022-03-27T14:05:15.768Z"
   },
   {
    "duration": 18,
    "start_time": "2022-03-27T14:05:15.804Z"
   },
   {
    "duration": 10,
    "start_time": "2022-03-27T14:05:15.824Z"
   },
   {
    "duration": 18,
    "start_time": "2022-03-27T14:05:15.836Z"
   },
   {
    "duration": 48,
    "start_time": "2022-03-27T14:05:15.856Z"
   },
   {
    "duration": 66,
    "start_time": "2022-03-27T14:05:15.906Z"
   },
   {
    "duration": 81,
    "start_time": "2022-03-27T14:05:15.975Z"
   },
   {
    "duration": 23,
    "start_time": "2022-03-27T14:05:16.058Z"
   },
   {
    "duration": 93,
    "start_time": "2022-03-27T14:05:16.083Z"
   },
   {
    "duration": 73,
    "start_time": "2022-03-27T14:05:16.178Z"
   },
   {
    "duration": 14,
    "start_time": "2022-03-27T14:05:16.253Z"
   },
   {
    "duration": 38,
    "start_time": "2022-03-27T14:05:16.268Z"
   },
   {
    "duration": 12,
    "start_time": "2022-03-27T14:05:16.307Z"
   },
   {
    "duration": 15,
    "start_time": "2022-03-27T14:05:16.321Z"
   },
   {
    "duration": 15,
    "start_time": "2022-03-27T14:05:16.337Z"
   },
   {
    "duration": 51,
    "start_time": "2022-03-27T14:05:16.354Z"
   },
   {
    "duration": 7,
    "start_time": "2022-03-27T14:05:16.407Z"
   },
   {
    "duration": 8,
    "start_time": "2022-03-27T14:05:16.416Z"
   },
   {
    "duration": 9,
    "start_time": "2022-03-27T14:05:16.426Z"
   },
   {
    "duration": 9,
    "start_time": "2022-03-27T14:05:16.437Z"
   },
   {
    "duration": 17,
    "start_time": "2022-03-27T14:05:16.448Z"
   },
   {
    "duration": 43,
    "start_time": "2022-03-27T14:05:16.468Z"
   },
   {
    "duration": 19,
    "start_time": "2022-03-27T14:05:16.514Z"
   },
   {
    "duration": 6,
    "start_time": "2022-03-27T14:05:16.536Z"
   },
   {
    "duration": 57,
    "start_time": "2022-03-27T14:05:16.546Z"
   },
   {
    "duration": 21,
    "start_time": "2022-03-27T14:05:16.604Z"
   },
   {
    "duration": 21,
    "start_time": "2022-03-27T14:05:16.627Z"
   },
   {
    "duration": 4,
    "start_time": "2022-03-27T14:05:16.650Z"
   },
   {
    "duration": 145,
    "start_time": "2022-03-27T14:05:16.656Z"
   },
   {
    "duration": 97,
    "start_time": "2022-03-27T14:05:16.804Z"
   },
   {
    "duration": 16,
    "start_time": "2022-03-27T14:05:16.904Z"
   },
   {
    "duration": 78,
    "start_time": "2022-03-27T14:05:16.923Z"
   },
   {
    "duration": 104,
    "start_time": "2022-03-27T14:05:17.004Z"
   },
   {
    "duration": 98,
    "start_time": "2022-03-27T14:05:17.110Z"
   },
   {
    "duration": 94,
    "start_time": "2022-03-27T14:05:17.214Z"
   },
   {
    "duration": 10,
    "start_time": "2022-03-27T14:05:17.310Z"
   },
   {
    "duration": 6,
    "start_time": "2022-03-27T14:05:17.322Z"
   },
   {
    "duration": 6,
    "start_time": "2022-03-27T14:05:17.330Z"
   },
   {
    "duration": 6,
    "start_time": "2022-03-27T14:05:17.338Z"
   },
   {
    "duration": 7,
    "start_time": "2022-03-27T14:05:17.346Z"
   },
   {
    "duration": 7,
    "start_time": "2022-03-27T14:05:17.356Z"
   },
   {
    "duration": 5,
    "start_time": "2022-03-27T14:05:17.401Z"
   },
   {
    "duration": 6,
    "start_time": "2022-03-27T14:05:17.409Z"
   },
   {
    "duration": 12,
    "start_time": "2022-03-27T14:05:17.417Z"
   },
   {
    "duration": 2261,
    "start_time": "2022-03-27T14:05:17.432Z"
   },
   {
    "duration": 1582,
    "start_time": "2022-03-27T14:05:19.700Z"
   },
   {
    "duration": 1594,
    "start_time": "2022-03-27T14:05:21.284Z"
   },
   {
    "duration": 9,
    "start_time": "2022-03-27T14:05:22.880Z"
   },
   {
    "duration": 9,
    "start_time": "2022-03-27T14:05:22.902Z"
   },
   {
    "duration": 12,
    "start_time": "2022-03-27T14:05:22.913Z"
   }
  ],
  "kernelspec": {
   "display_name": "Python 3 (ipykernel)",
   "language": "python",
   "name": "python3"
  },
  "language_info": {
   "codemirror_mode": {
    "name": "ipython",
    "version": 3
   },
   "file_extension": ".py",
   "mimetype": "text/x-python",
   "name": "python",
   "nbconvert_exporter": "python",
   "pygments_lexer": "ipython3",
   "version": "3.9.5"
  },
  "toc": {
   "base_numbering": 1,
   "nav_menu": {},
   "number_sections": true,
   "sideBar": true,
   "skip_h1_title": true,
   "title_cell": "Table of Contents",
   "title_sidebar": "Contents",
   "toc_cell": false,
   "toc_position": {},
   "toc_section_display": true,
   "toc_window_display": false
  }
 },
 "nbformat": 4,
 "nbformat_minor": 2
}
