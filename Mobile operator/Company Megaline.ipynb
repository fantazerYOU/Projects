{
 "cells": [
  {
   "cell_type": "markdown",
   "metadata": {},
   "source": [
    "# Компания «Мегалайн»"
   ]
  },
  {
   "cell_type": "markdown",
   "metadata": {},
   "source": [
    "Компания «Мегалайн» — федеральный оператор сотовой связи. Клиентам предлагают два тарифных плана: «Смарт» и «Ультра». Чтобы скорректировать рекламный бюджет, коммерческий департамент хочет понять, какой тариф приносит больше денег.\n",
    "Предстоит сделать предварительный анализ тарифов на небольшой выборке клиентов. В распоряжении данные 500 пользователей «Мегалайна»: кто они, откуда, каким тарифом пользуются, сколько звонков и сообщений каждый отправил за 2018 год. Нужно проанализировать поведение клиентов и сделать вывод — какой тариф лучше."
   ]
  },
  {
   "cell_type": "markdown",
   "metadata": {},
   "source": [
    "**Описание тарифов :**\n",
    "\n",
    "**Тариф «Смарт»**   \n",
    "\n",
    "Ежемесячная плата: 550 рублей :  \n",
    "Включено 500 минут разговора,   \n",
    "50 сообщений,    \n",
    "15 Гб интернет-трафика.  \n",
    "\n",
    "Стоимость услуг сверх тарифного пакета: 1. минута разговора: 3 рубля («Мегалайн» всегда округляет вверх значения минут и мегабайтов. Если пользователь проговорил всего 1 секунду, в тарифе засчитывается целая минута); 2. сообщение: 3 рубля; 3. 1 Гб интернет-трафика: 200 рублей.\n",
    "\n",
    "**Тариф «Ультра»**\n",
    "\n",
    "Ежемесячная плата: 1950 рублей :   \n",
    "Включено 3000 минут разговора,  \n",
    "1000 сообщений,    \n",
    "30 Гб интернет-трафика. \n",
    "\n",
    "Стоимость услуг сверх тарифного пакета: 1. минута разговора: 1 рубль; 2. сообщение: 1 рубль; 3. 1 Гб интернет-трафика: 150 рублей."
   ]
  },
  {
   "cell_type": "markdown",
   "metadata": {},
   "source": [
    "## Изучение данных из файла"
   ]
  },
  {
   "cell_type": "code",
   "execution_count": 1,
   "metadata": {},
   "outputs": [],
   "source": [
    "import pandas as pd\n",
    "import matplotlib.pyplot as plt \n",
    "import seaborn as sns\n",
    "import numpy as np\n",
    "from math import factorial\n",
    "from scipy.stats import norm\n",
    "from scipy import stats as st\n",
    "import datetime\n",
    "import math"
   ]
  },
  {
   "cell_type": "code",
   "execution_count": 2,
   "metadata": {},
   "outputs": [],
   "source": [
    "users = pd.read_csv('/datasets/users.csv')\n",
    "tariffs = pd.read_csv('/datasets/tariffs.csv')\n",
    "messages = pd.read_csv('/datasets/messages.csv')\n",
    "internet = pd.read_csv('/datasets/internet.csv')\n",
    "calls = pd.read_csv('/datasets/calls.csv')"
   ]
  },
  {
   "cell_type": "code",
   "execution_count": 3,
   "metadata": {
    "scrolled": false
   },
   "outputs": [
    {
     "data": {
      "text/html": [
       "<div>\n",
       "<style scoped>\n",
       "    .dataframe tbody tr th:only-of-type {\n",
       "        vertical-align: middle;\n",
       "    }\n",
       "\n",
       "    .dataframe tbody tr th {\n",
       "        vertical-align: top;\n",
       "    }\n",
       "\n",
       "    .dataframe thead th {\n",
       "        text-align: right;\n",
       "    }\n",
       "</style>\n",
       "<table border=\"1\" class=\"dataframe\">\n",
       "  <thead>\n",
       "    <tr style=\"text-align: right;\">\n",
       "      <th></th>\n",
       "      <th>user_id</th>\n",
       "      <th>age</th>\n",
       "      <th>churn_date</th>\n",
       "      <th>city</th>\n",
       "      <th>first_name</th>\n",
       "      <th>last_name</th>\n",
       "      <th>reg_date</th>\n",
       "      <th>tariff</th>\n",
       "    </tr>\n",
       "  </thead>\n",
       "  <tbody>\n",
       "    <tr>\n",
       "      <th>0</th>\n",
       "      <td>1000</td>\n",
       "      <td>52</td>\n",
       "      <td>NaN</td>\n",
       "      <td>Краснодар</td>\n",
       "      <td>Рафаил</td>\n",
       "      <td>Верещагин</td>\n",
       "      <td>2018-05-25</td>\n",
       "      <td>ultra</td>\n",
       "    </tr>\n",
       "    <tr>\n",
       "      <th>1</th>\n",
       "      <td>1001</td>\n",
       "      <td>41</td>\n",
       "      <td>NaN</td>\n",
       "      <td>Москва</td>\n",
       "      <td>Иван</td>\n",
       "      <td>Ежов</td>\n",
       "      <td>2018-11-01</td>\n",
       "      <td>smart</td>\n",
       "    </tr>\n",
       "    <tr>\n",
       "      <th>2</th>\n",
       "      <td>1002</td>\n",
       "      <td>59</td>\n",
       "      <td>NaN</td>\n",
       "      <td>Стерлитамак</td>\n",
       "      <td>Евгений</td>\n",
       "      <td>Абрамович</td>\n",
       "      <td>2018-06-17</td>\n",
       "      <td>smart</td>\n",
       "    </tr>\n",
       "  </tbody>\n",
       "</table>\n",
       "</div>"
      ],
      "text/plain": [
       "   user_id  age churn_date         city first_name  last_name    reg_date  \\\n",
       "0     1000   52        NaN    Краснодар     Рафаил  Верещагин  2018-05-25   \n",
       "1     1001   41        NaN       Москва       Иван       Ежов  2018-11-01   \n",
       "2     1002   59        NaN  Стерлитамак    Евгений  Абрамович  2018-06-17   \n",
       "\n",
       "  tariff  \n",
       "0  ultra  \n",
       "1  smart  \n",
       "2  smart  "
      ]
     },
     "execution_count": 3,
     "metadata": {},
     "output_type": "execute_result"
    }
   ],
   "source": [
    "users.head(3)"
   ]
  },
  {
   "cell_type": "code",
   "execution_count": 4,
   "metadata": {
    "scrolled": true
   },
   "outputs": [
    {
     "name": "stdout",
     "output_type": "stream",
     "text": [
      "<class 'pandas.core.frame.DataFrame'>\n",
      "RangeIndex: 500 entries, 0 to 499\n",
      "Data columns (total 8 columns):\n",
      " #   Column      Non-Null Count  Dtype \n",
      "---  ------      --------------  ----- \n",
      " 0   user_id     500 non-null    int64 \n",
      " 1   age         500 non-null    int64 \n",
      " 2   churn_date  38 non-null     object\n",
      " 3   city        500 non-null    object\n",
      " 4   first_name  500 non-null    object\n",
      " 5   last_name   500 non-null    object\n",
      " 6   reg_date    500 non-null    object\n",
      " 7   tariff      500 non-null    object\n",
      "dtypes: int64(2), object(6)\n",
      "memory usage: 31.4+ KB\n"
     ]
    }
   ],
   "source": [
    "users.info()"
   ]
  },
  {
   "cell_type": "code",
   "execution_count": 5,
   "metadata": {
    "scrolled": true
   },
   "outputs": [
    {
     "data": {
      "text/html": [
       "<div>\n",
       "<style scoped>\n",
       "    .dataframe tbody tr th:only-of-type {\n",
       "        vertical-align: middle;\n",
       "    }\n",
       "\n",
       "    .dataframe tbody tr th {\n",
       "        vertical-align: top;\n",
       "    }\n",
       "\n",
       "    .dataframe thead th {\n",
       "        text-align: right;\n",
       "    }\n",
       "</style>\n",
       "<table border=\"1\" class=\"dataframe\">\n",
       "  <thead>\n",
       "    <tr style=\"text-align: right;\">\n",
       "      <th></th>\n",
       "      <th>messages_included</th>\n",
       "      <th>mb_per_month_included</th>\n",
       "      <th>minutes_included</th>\n",
       "      <th>rub_monthly_fee</th>\n",
       "      <th>rub_per_gb</th>\n",
       "      <th>rub_per_message</th>\n",
       "      <th>rub_per_minute</th>\n",
       "      <th>tariff_name</th>\n",
       "    </tr>\n",
       "  </thead>\n",
       "  <tbody>\n",
       "    <tr>\n",
       "      <th>0</th>\n",
       "      <td>50</td>\n",
       "      <td>15360</td>\n",
       "      <td>500</td>\n",
       "      <td>550</td>\n",
       "      <td>200</td>\n",
       "      <td>3</td>\n",
       "      <td>3</td>\n",
       "      <td>smart</td>\n",
       "    </tr>\n",
       "    <tr>\n",
       "      <th>1</th>\n",
       "      <td>1000</td>\n",
       "      <td>30720</td>\n",
       "      <td>3000</td>\n",
       "      <td>1950</td>\n",
       "      <td>150</td>\n",
       "      <td>1</td>\n",
       "      <td>1</td>\n",
       "      <td>ultra</td>\n",
       "    </tr>\n",
       "  </tbody>\n",
       "</table>\n",
       "</div>"
      ],
      "text/plain": [
       "   messages_included  mb_per_month_included  minutes_included  \\\n",
       "0                 50                  15360               500   \n",
       "1               1000                  30720              3000   \n",
       "\n",
       "   rub_monthly_fee  rub_per_gb  rub_per_message  rub_per_minute tariff_name  \n",
       "0              550         200                3               3       smart  \n",
       "1             1950         150                1               1       ultra  "
      ]
     },
     "execution_count": 5,
     "metadata": {},
     "output_type": "execute_result"
    }
   ],
   "source": [
    "tariffs.head()"
   ]
  },
  {
   "cell_type": "code",
   "execution_count": 6,
   "metadata": {},
   "outputs": [
    {
     "name": "stdout",
     "output_type": "stream",
     "text": [
      "<class 'pandas.core.frame.DataFrame'>\n",
      "RangeIndex: 2 entries, 0 to 1\n",
      "Data columns (total 8 columns):\n",
      " #   Column                 Non-Null Count  Dtype \n",
      "---  ------                 --------------  ----- \n",
      " 0   messages_included      2 non-null      int64 \n",
      " 1   mb_per_month_included  2 non-null      int64 \n",
      " 2   minutes_included       2 non-null      int64 \n",
      " 3   rub_monthly_fee        2 non-null      int64 \n",
      " 4   rub_per_gb             2 non-null      int64 \n",
      " 5   rub_per_message        2 non-null      int64 \n",
      " 6   rub_per_minute         2 non-null      int64 \n",
      " 7   tariff_name            2 non-null      object\n",
      "dtypes: int64(7), object(1)\n",
      "memory usage: 256.0+ bytes\n"
     ]
    }
   ],
   "source": [
    "tariffs.info()"
   ]
  },
  {
   "cell_type": "code",
   "execution_count": 7,
   "metadata": {
    "scrolled": true
   },
   "outputs": [
    {
     "data": {
      "text/html": [
       "<div>\n",
       "<style scoped>\n",
       "    .dataframe tbody tr th:only-of-type {\n",
       "        vertical-align: middle;\n",
       "    }\n",
       "\n",
       "    .dataframe tbody tr th {\n",
       "        vertical-align: top;\n",
       "    }\n",
       "\n",
       "    .dataframe thead th {\n",
       "        text-align: right;\n",
       "    }\n",
       "</style>\n",
       "<table border=\"1\" class=\"dataframe\">\n",
       "  <thead>\n",
       "    <tr style=\"text-align: right;\">\n",
       "      <th></th>\n",
       "      <th>id</th>\n",
       "      <th>message_date</th>\n",
       "      <th>user_id</th>\n",
       "    </tr>\n",
       "  </thead>\n",
       "  <tbody>\n",
       "    <tr>\n",
       "      <th>0</th>\n",
       "      <td>1000_0</td>\n",
       "      <td>2018-06-27</td>\n",
       "      <td>1000</td>\n",
       "    </tr>\n",
       "    <tr>\n",
       "      <th>1</th>\n",
       "      <td>1000_1</td>\n",
       "      <td>2018-10-08</td>\n",
       "      <td>1000</td>\n",
       "    </tr>\n",
       "    <tr>\n",
       "      <th>2</th>\n",
       "      <td>1000_2</td>\n",
       "      <td>2018-08-04</td>\n",
       "      <td>1000</td>\n",
       "    </tr>\n",
       "  </tbody>\n",
       "</table>\n",
       "</div>"
      ],
      "text/plain": [
       "       id message_date  user_id\n",
       "0  1000_0   2018-06-27     1000\n",
       "1  1000_1   2018-10-08     1000\n",
       "2  1000_2   2018-08-04     1000"
      ]
     },
     "execution_count": 7,
     "metadata": {},
     "output_type": "execute_result"
    }
   ],
   "source": [
    "messages.head(3)"
   ]
  },
  {
   "cell_type": "code",
   "execution_count": 8,
   "metadata": {},
   "outputs": [
    {
     "name": "stdout",
     "output_type": "stream",
     "text": [
      "<class 'pandas.core.frame.DataFrame'>\n",
      "RangeIndex: 123036 entries, 0 to 123035\n",
      "Data columns (total 3 columns):\n",
      " #   Column        Non-Null Count   Dtype \n",
      "---  ------        --------------   ----- \n",
      " 0   id            123036 non-null  object\n",
      " 1   message_date  123036 non-null  object\n",
      " 2   user_id       123036 non-null  int64 \n",
      "dtypes: int64(1), object(2)\n",
      "memory usage: 2.8+ MB\n"
     ]
    }
   ],
   "source": [
    "messages.info()"
   ]
  },
  {
   "cell_type": "code",
   "execution_count": 9,
   "metadata": {
    "scrolled": true
   },
   "outputs": [
    {
     "data": {
      "text/html": [
       "<div>\n",
       "<style scoped>\n",
       "    .dataframe tbody tr th:only-of-type {\n",
       "        vertical-align: middle;\n",
       "    }\n",
       "\n",
       "    .dataframe tbody tr th {\n",
       "        vertical-align: top;\n",
       "    }\n",
       "\n",
       "    .dataframe thead th {\n",
       "        text-align: right;\n",
       "    }\n",
       "</style>\n",
       "<table border=\"1\" class=\"dataframe\">\n",
       "  <thead>\n",
       "    <tr style=\"text-align: right;\">\n",
       "      <th></th>\n",
       "      <th>Unnamed: 0</th>\n",
       "      <th>id</th>\n",
       "      <th>mb_used</th>\n",
       "      <th>session_date</th>\n",
       "      <th>user_id</th>\n",
       "    </tr>\n",
       "  </thead>\n",
       "  <tbody>\n",
       "    <tr>\n",
       "      <th>0</th>\n",
       "      <td>0</td>\n",
       "      <td>1000_0</td>\n",
       "      <td>112.95</td>\n",
       "      <td>2018-11-25</td>\n",
       "      <td>1000</td>\n",
       "    </tr>\n",
       "    <tr>\n",
       "      <th>1</th>\n",
       "      <td>1</td>\n",
       "      <td>1000_1</td>\n",
       "      <td>1052.81</td>\n",
       "      <td>2018-09-07</td>\n",
       "      <td>1000</td>\n",
       "    </tr>\n",
       "    <tr>\n",
       "      <th>2</th>\n",
       "      <td>2</td>\n",
       "      <td>1000_2</td>\n",
       "      <td>1197.26</td>\n",
       "      <td>2018-06-25</td>\n",
       "      <td>1000</td>\n",
       "    </tr>\n",
       "  </tbody>\n",
       "</table>\n",
       "</div>"
      ],
      "text/plain": [
       "   Unnamed: 0      id  mb_used session_date  user_id\n",
       "0           0  1000_0   112.95   2018-11-25     1000\n",
       "1           1  1000_1  1052.81   2018-09-07     1000\n",
       "2           2  1000_2  1197.26   2018-06-25     1000"
      ]
     },
     "execution_count": 9,
     "metadata": {},
     "output_type": "execute_result"
    }
   ],
   "source": [
    "internet.head(3)"
   ]
  },
  {
   "cell_type": "code",
   "execution_count": 10,
   "metadata": {},
   "outputs": [
    {
     "name": "stdout",
     "output_type": "stream",
     "text": [
      "<class 'pandas.core.frame.DataFrame'>\n",
      "RangeIndex: 149396 entries, 0 to 149395\n",
      "Data columns (total 5 columns):\n",
      " #   Column        Non-Null Count   Dtype  \n",
      "---  ------        --------------   -----  \n",
      " 0   Unnamed: 0    149396 non-null  int64  \n",
      " 1   id            149396 non-null  object \n",
      " 2   mb_used       149396 non-null  float64\n",
      " 3   session_date  149396 non-null  object \n",
      " 4   user_id       149396 non-null  int64  \n",
      "dtypes: float64(1), int64(2), object(2)\n",
      "memory usage: 5.7+ MB\n"
     ]
    }
   ],
   "source": [
    "internet.info()"
   ]
  },
  {
   "cell_type": "code",
   "execution_count": 11,
   "metadata": {},
   "outputs": [
    {
     "data": {
      "text/html": [
       "<div>\n",
       "<style scoped>\n",
       "    .dataframe tbody tr th:only-of-type {\n",
       "        vertical-align: middle;\n",
       "    }\n",
       "\n",
       "    .dataframe tbody tr th {\n",
       "        vertical-align: top;\n",
       "    }\n",
       "\n",
       "    .dataframe thead th {\n",
       "        text-align: right;\n",
       "    }\n",
       "</style>\n",
       "<table border=\"1\" class=\"dataframe\">\n",
       "  <thead>\n",
       "    <tr style=\"text-align: right;\">\n",
       "      <th></th>\n",
       "      <th>id</th>\n",
       "      <th>call_date</th>\n",
       "      <th>duration</th>\n",
       "      <th>user_id</th>\n",
       "    </tr>\n",
       "  </thead>\n",
       "  <tbody>\n",
       "    <tr>\n",
       "      <th>0</th>\n",
       "      <td>1000_0</td>\n",
       "      <td>2018-07-25</td>\n",
       "      <td>0.00</td>\n",
       "      <td>1000</td>\n",
       "    </tr>\n",
       "    <tr>\n",
       "      <th>1</th>\n",
       "      <td>1000_1</td>\n",
       "      <td>2018-08-17</td>\n",
       "      <td>0.00</td>\n",
       "      <td>1000</td>\n",
       "    </tr>\n",
       "    <tr>\n",
       "      <th>2</th>\n",
       "      <td>1000_2</td>\n",
       "      <td>2018-06-11</td>\n",
       "      <td>2.85</td>\n",
       "      <td>1000</td>\n",
       "    </tr>\n",
       "  </tbody>\n",
       "</table>\n",
       "</div>"
      ],
      "text/plain": [
       "       id   call_date  duration  user_id\n",
       "0  1000_0  2018-07-25      0.00     1000\n",
       "1  1000_1  2018-08-17      0.00     1000\n",
       "2  1000_2  2018-06-11      2.85     1000"
      ]
     },
     "execution_count": 11,
     "metadata": {},
     "output_type": "execute_result"
    }
   ],
   "source": [
    "calls.head(3)"
   ]
  },
  {
   "cell_type": "code",
   "execution_count": 12,
   "metadata": {},
   "outputs": [
    {
     "name": "stdout",
     "output_type": "stream",
     "text": [
      "<class 'pandas.core.frame.DataFrame'>\n",
      "RangeIndex: 202607 entries, 0 to 202606\n",
      "Data columns (total 4 columns):\n",
      " #   Column     Non-Null Count   Dtype  \n",
      "---  ------     --------------   -----  \n",
      " 0   id         202607 non-null  object \n",
      " 1   call_date  202607 non-null  object \n",
      " 2   duration   202607 non-null  float64\n",
      " 3   user_id    202607 non-null  int64  \n",
      "dtypes: float64(1), int64(1), object(2)\n",
      "memory usage: 6.2+ MB\n"
     ]
    }
   ],
   "source": [
    "calls.info()"
   ]
  },
  {
   "cell_type": "markdown",
   "metadata": {},
   "source": [
    "### Вывод"
   ]
  },
  {
   "cell_type": "markdown",
   "metadata": {},
   "source": [
    "Из изученых данных видно, что они отличаются по колличеству строк, столбцов. Таблицу users нужно просмотреть внимательно, на наличие NaN. Даты указаны как object."
   ]
  },
  {
   "cell_type": "markdown",
   "metadata": {},
   "source": [
    "## Предобработка данных"
   ]
  },
  {
   "cell_type": "code",
   "execution_count": 13,
   "metadata": {},
   "outputs": [
    {
     "data": {
      "text/plain": [
       "user_id         0\n",
       "age             0\n",
       "churn_date    462\n",
       "city            0\n",
       "first_name      0\n",
       "last_name       0\n",
       "reg_date        0\n",
       "tariff          0\n",
       "dtype: int64"
      ]
     },
     "execution_count": 13,
     "metadata": {},
     "output_type": "execute_result"
    }
   ],
   "source": [
    "users.isna().sum()"
   ]
  },
  {
   "cell_type": "code",
   "execution_count": 14,
   "metadata": {
    "scrolled": true
   },
   "outputs": [
    {
     "data": {
      "text/html": [
       "<div>\n",
       "<style scoped>\n",
       "    .dataframe tbody tr th:only-of-type {\n",
       "        vertical-align: middle;\n",
       "    }\n",
       "\n",
       "    .dataframe tbody tr th {\n",
       "        vertical-align: top;\n",
       "    }\n",
       "\n",
       "    .dataframe thead th {\n",
       "        text-align: right;\n",
       "    }\n",
       "</style>\n",
       "<table border=\"1\" class=\"dataframe\">\n",
       "  <thead>\n",
       "    <tr style=\"text-align: right;\">\n",
       "      <th></th>\n",
       "      <th>user_id</th>\n",
       "      <th>age</th>\n",
       "      <th>churn_date</th>\n",
       "      <th>city</th>\n",
       "      <th>first_name</th>\n",
       "      <th>last_name</th>\n",
       "      <th>reg_date</th>\n",
       "      <th>tariff</th>\n",
       "    </tr>\n",
       "  </thead>\n",
       "  <tbody>\n",
       "    <tr>\n",
       "      <th>0</th>\n",
       "      <td>1000</td>\n",
       "      <td>52</td>\n",
       "      <td>NaN</td>\n",
       "      <td>Краснодар</td>\n",
       "      <td>Рафаил</td>\n",
       "      <td>Верещагин</td>\n",
       "      <td>2018-05-25</td>\n",
       "      <td>ultra</td>\n",
       "    </tr>\n",
       "    <tr>\n",
       "      <th>1</th>\n",
       "      <td>1001</td>\n",
       "      <td>41</td>\n",
       "      <td>NaN</td>\n",
       "      <td>Москва</td>\n",
       "      <td>Иван</td>\n",
       "      <td>Ежов</td>\n",
       "      <td>2018-11-01</td>\n",
       "      <td>smart</td>\n",
       "    </tr>\n",
       "    <tr>\n",
       "      <th>2</th>\n",
       "      <td>1002</td>\n",
       "      <td>59</td>\n",
       "      <td>NaN</td>\n",
       "      <td>Стерлитамак</td>\n",
       "      <td>Евгений</td>\n",
       "      <td>Абрамович</td>\n",
       "      <td>2018-06-17</td>\n",
       "      <td>smart</td>\n",
       "    </tr>\n",
       "    <tr>\n",
       "      <th>3</th>\n",
       "      <td>1003</td>\n",
       "      <td>23</td>\n",
       "      <td>NaN</td>\n",
       "      <td>Москва</td>\n",
       "      <td>Белла</td>\n",
       "      <td>Белякова</td>\n",
       "      <td>2018-08-17</td>\n",
       "      <td>ultra</td>\n",
       "    </tr>\n",
       "    <tr>\n",
       "      <th>4</th>\n",
       "      <td>1004</td>\n",
       "      <td>68</td>\n",
       "      <td>NaN</td>\n",
       "      <td>Новокузнецк</td>\n",
       "      <td>Татьяна</td>\n",
       "      <td>Авдеенко</td>\n",
       "      <td>2018-05-14</td>\n",
       "      <td>ultra</td>\n",
       "    </tr>\n",
       "  </tbody>\n",
       "</table>\n",
       "</div>"
      ],
      "text/plain": [
       "   user_id  age churn_date         city first_name  last_name    reg_date  \\\n",
       "0     1000   52        NaN    Краснодар     Рафаил  Верещагин  2018-05-25   \n",
       "1     1001   41        NaN       Москва       Иван       Ежов  2018-11-01   \n",
       "2     1002   59        NaN  Стерлитамак    Евгений  Абрамович  2018-06-17   \n",
       "3     1003   23        NaN       Москва      Белла   Белякова  2018-08-17   \n",
       "4     1004   68        NaN  Новокузнецк    Татьяна   Авдеенко  2018-05-14   \n",
       "\n",
       "  tariff  \n",
       "0  ultra  \n",
       "1  smart  \n",
       "2  smart  \n",
       "3  ultra  \n",
       "4  ultra  "
      ]
     },
     "execution_count": 14,
     "metadata": {},
     "output_type": "execute_result"
    }
   ],
   "source": [
    "users[users['churn_date'].isna()].head()"
   ]
  },
  {
   "cell_type": "markdown",
   "metadata": {},
   "source": [
    "Считаем пропуски методом isna() и sum(). Посмотрели на пропуски в users, NaN означает что тариф ещё действовал на момент выгрузки данных, поэтому NaN трогать не будем. В других DataFrame нет пропусков."
   ]
  },
  {
   "cell_type": "code",
   "execution_count": 15,
   "metadata": {},
   "outputs": [],
   "source": [
    "def to_datetime(data, column):\n",
    "    data[column] = pd.to_datetime(data[column], errors='coerce')\n",
    "    return data"
   ]
  },
  {
   "cell_type": "markdown",
   "metadata": {},
   "source": [
    "Функция для преобразования столбцов с датами"
   ]
  },
  {
   "cell_type": "code",
   "execution_count": 16,
   "metadata": {},
   "outputs": [],
   "source": [
    "users = to_datetime(users, 'churn_date')\n",
    "users = to_datetime(users, 'reg_date')\n",
    "calls = to_datetime(calls, 'call_date')\n",
    "internet = to_datetime(internet, 'session_date')\n",
    "messages = to_datetime(messages, 'message_date')"
   ]
  },
  {
   "cell_type": "markdown",
   "metadata": {},
   "source": [
    "Преобразовал столбцы с датами формата \"object\" в формат \"datetime64\""
   ]
  },
  {
   "cell_type": "code",
   "execution_count": 17,
   "metadata": {
    "scrolled": false
   },
   "outputs": [
    {
     "data": {
      "text/plain": [
       "0.00      19598\n",
       "335.91        9\n",
       "447.30        9\n",
       "197.56        9\n",
       "199.11        8\n",
       "          ...  \n",
       "182.69        1\n",
       "726.03        1\n",
       "315.12        1\n",
       "898.99        1\n",
       "677.66        1\n",
       "Name: mb_used, Length: 70003, dtype: int64"
      ]
     },
     "execution_count": 17,
     "metadata": {},
     "output_type": "execute_result"
    }
   ],
   "source": [
    "internet['mb_used'].value_counts()"
   ]
  },
  {
   "cell_type": "markdown",
   "metadata": {},
   "source": [
    "Большинство значение со значением \"0\", удалять не будем, т к это означает, что пользователь(пользователи) не выходил(и) в сеть интернет."
   ]
  },
  {
   "cell_type": "code",
   "execution_count": 18,
   "metadata": {},
   "outputs": [],
   "source": [
    "internet = internet.drop('Unnamed: 0', 1)"
   ]
  },
  {
   "cell_type": "markdown",
   "metadata": {},
   "source": [
    "Удалил столбец \"Unnamed: 0\" т к он нам не нужен, только мешает, и тем более, его нет в описании !"
   ]
  },
  {
   "cell_type": "code",
   "execution_count": 19,
   "metadata": {},
   "outputs": [],
   "source": [
    "def month_tables(df, name, column):\n",
    "    df = (\n",
    "        df\n",
    "        .assign(\n",
    "            name = lambda x: x[column].dt.month\n",
    "        )\n",
    "        .rename(columns={\"name\": name})\n",
    "    )\n",
    "    return df"
   ]
  },
  {
   "cell_type": "code",
   "execution_count": 20,
   "metadata": {},
   "outputs": [],
   "source": [
    "users = month_tables(users, 'month', 'reg_date')\n",
    "calls = month_tables(calls, 'month', 'call_date')\n",
    "internet = month_tables(internet, 'month', 'session_date')\n",
    "messages = month_tables(messages, 'month', 'message_date')"
   ]
  },
  {
   "cell_type": "markdown",
   "metadata": {},
   "source": [
    "Сделал функцию для добавления в таблицы колонку с месяцем, вызвал и сохранил."
   ]
  },
  {
   "cell_type": "code",
   "execution_count": 21,
   "metadata": {},
   "outputs": [],
   "source": [
    "calls = calls.assign(duration = lambda x: np.ceil(calls['duration']))\n",
    "calls.loc[calls['duration'] == 0, 'duration'] = 1"
   ]
  },
  {
   "cell_type": "markdown",
   "metadata": {},
   "source": [
    "Округляем звонки в большую сторону. И если звонок 0 сек, то считается как 1 минута."
   ]
  },
  {
   "cell_type": "code",
   "execution_count": 22,
   "metadata": {
    "scrolled": true
   },
   "outputs": [],
   "source": [
    "calls_df = calls.groupby(['user_id', 'month']).agg(duration_count = ('duration', 'count'),\n",
    "                                                   duration_sum = ('duration', 'sum')).reset_index()"
   ]
  },
  {
   "cell_type": "code",
   "execution_count": 23,
   "metadata": {
    "scrolled": false
   },
   "outputs": [
    {
     "data": {
      "text/html": [
       "<div>\n",
       "<style scoped>\n",
       "    .dataframe tbody tr th:only-of-type {\n",
       "        vertical-align: middle;\n",
       "    }\n",
       "\n",
       "    .dataframe tbody tr th {\n",
       "        vertical-align: top;\n",
       "    }\n",
       "\n",
       "    .dataframe thead th {\n",
       "        text-align: right;\n",
       "    }\n",
       "</style>\n",
       "<table border=\"1\" class=\"dataframe\">\n",
       "  <thead>\n",
       "    <tr style=\"text-align: right;\">\n",
       "      <th></th>\n",
       "      <th>user_id</th>\n",
       "      <th>month</th>\n",
       "      <th>duration_count</th>\n",
       "      <th>duration_sum</th>\n",
       "    </tr>\n",
       "  </thead>\n",
       "  <tbody>\n",
       "    <tr>\n",
       "      <th>0</th>\n",
       "      <td>1000</td>\n",
       "      <td>5</td>\n",
       "      <td>22</td>\n",
       "      <td>164.0</td>\n",
       "    </tr>\n",
       "    <tr>\n",
       "      <th>1</th>\n",
       "      <td>1000</td>\n",
       "      <td>6</td>\n",
       "      <td>43</td>\n",
       "      <td>187.0</td>\n",
       "    </tr>\n",
       "    <tr>\n",
       "      <th>2</th>\n",
       "      <td>1000</td>\n",
       "      <td>7</td>\n",
       "      <td>47</td>\n",
       "      <td>346.0</td>\n",
       "    </tr>\n",
       "  </tbody>\n",
       "</table>\n",
       "</div>"
      ],
      "text/plain": [
       "   user_id  month  duration_count  duration_sum\n",
       "0     1000      5              22         164.0\n",
       "1     1000      6              43         187.0\n",
       "2     1000      7              47         346.0"
      ]
     },
     "execution_count": 23,
     "metadata": {},
     "output_type": "execute_result"
    }
   ],
   "source": [
    "calls_df.head(3)"
   ]
  },
  {
   "cell_type": "markdown",
   "metadata": {},
   "source": [
    "Таблица \"количество сделанных звонков и израсходованных минут разговора по месяцам\". Группируем наш DataFrame и применяем написанную ранее функцию."
   ]
  },
  {
   "cell_type": "code",
   "execution_count": 24,
   "metadata": {
    "scrolled": true
   },
   "outputs": [],
   "source": [
    "messages_df = (\n",
    "    messages\n",
    "        .groupby(['user_id', 'month'])\n",
    "        .agg(messages_count = ('month','count'))\n",
    "        .reset_index()\n",
    ")"
   ]
  },
  {
   "cell_type": "code",
   "execution_count": 25,
   "metadata": {},
   "outputs": [
    {
     "data": {
      "text/html": [
       "<div>\n",
       "<style scoped>\n",
       "    .dataframe tbody tr th:only-of-type {\n",
       "        vertical-align: middle;\n",
       "    }\n",
       "\n",
       "    .dataframe tbody tr th {\n",
       "        vertical-align: top;\n",
       "    }\n",
       "\n",
       "    .dataframe thead th {\n",
       "        text-align: right;\n",
       "    }\n",
       "</style>\n",
       "<table border=\"1\" class=\"dataframe\">\n",
       "  <thead>\n",
       "    <tr style=\"text-align: right;\">\n",
       "      <th></th>\n",
       "      <th>user_id</th>\n",
       "      <th>month</th>\n",
       "      <th>messages_count</th>\n",
       "    </tr>\n",
       "  </thead>\n",
       "  <tbody>\n",
       "    <tr>\n",
       "      <th>0</th>\n",
       "      <td>1000</td>\n",
       "      <td>5</td>\n",
       "      <td>22</td>\n",
       "    </tr>\n",
       "    <tr>\n",
       "      <th>1</th>\n",
       "      <td>1000</td>\n",
       "      <td>6</td>\n",
       "      <td>60</td>\n",
       "    </tr>\n",
       "    <tr>\n",
       "      <th>2</th>\n",
       "      <td>1000</td>\n",
       "      <td>7</td>\n",
       "      <td>75</td>\n",
       "    </tr>\n",
       "  </tbody>\n",
       "</table>\n",
       "</div>"
      ],
      "text/plain": [
       "   user_id  month  messages_count\n",
       "0     1000      5              22\n",
       "1     1000      6              60\n",
       "2     1000      7              75"
      ]
     },
     "execution_count": 25,
     "metadata": {},
     "output_type": "execute_result"
    }
   ],
   "source": [
    "messages_df.head(3)"
   ]
  },
  {
   "cell_type": "markdown",
   "metadata": {},
   "source": [
    "Таблица \"количество отправленных сообщений по месяцам\""
   ]
  },
  {
   "cell_type": "code",
   "execution_count": 26,
   "metadata": {
    "scrolled": true
   },
   "outputs": [],
   "source": [
    "internet_df = (\n",
    "    internet\n",
    "        .groupby(['user_id', 'month'])\n",
    "        .agg(internet_count = ('mb_used','sum'))\n",
    "        .reset_index() \n",
    "        .assign(\n",
    "            internet_gb = lambda x: np.ceil(x['internet_count'] / 1024)\n",
    "        )\n",
    ") "
   ]
  },
  {
   "cell_type": "code",
   "execution_count": 27,
   "metadata": {
    "scrolled": true
   },
   "outputs": [],
   "source": [
    "internet_df['internet_gb'] = internet_df['internet_gb']"
   ]
  },
  {
   "cell_type": "markdown",
   "metadata": {},
   "source": [
    "Округляем гигабайты в большую сторону."
   ]
  },
  {
   "cell_type": "code",
   "execution_count": 28,
   "metadata": {},
   "outputs": [
    {
     "data": {
      "text/html": [
       "<div>\n",
       "<style scoped>\n",
       "    .dataframe tbody tr th:only-of-type {\n",
       "        vertical-align: middle;\n",
       "    }\n",
       "\n",
       "    .dataframe tbody tr th {\n",
       "        vertical-align: top;\n",
       "    }\n",
       "\n",
       "    .dataframe thead th {\n",
       "        text-align: right;\n",
       "    }\n",
       "</style>\n",
       "<table border=\"1\" class=\"dataframe\">\n",
       "  <thead>\n",
       "    <tr style=\"text-align: right;\">\n",
       "      <th></th>\n",
       "      <th>user_id</th>\n",
       "      <th>month</th>\n",
       "      <th>internet_count</th>\n",
       "      <th>internet_gb</th>\n",
       "    </tr>\n",
       "  </thead>\n",
       "  <tbody>\n",
       "    <tr>\n",
       "      <th>0</th>\n",
       "      <td>1000</td>\n",
       "      <td>5</td>\n",
       "      <td>2253.49</td>\n",
       "      <td>3.0</td>\n",
       "    </tr>\n",
       "    <tr>\n",
       "      <th>1</th>\n",
       "      <td>1000</td>\n",
       "      <td>6</td>\n",
       "      <td>23233.77</td>\n",
       "      <td>23.0</td>\n",
       "    </tr>\n",
       "    <tr>\n",
       "      <th>2</th>\n",
       "      <td>1000</td>\n",
       "      <td>7</td>\n",
       "      <td>14003.64</td>\n",
       "      <td>14.0</td>\n",
       "    </tr>\n",
       "  </tbody>\n",
       "</table>\n",
       "</div>"
      ],
      "text/plain": [
       "   user_id  month  internet_count  internet_gb\n",
       "0     1000      5         2253.49          3.0\n",
       "1     1000      6        23233.77         23.0\n",
       "2     1000      7        14003.64         14.0"
      ]
     },
     "execution_count": 28,
     "metadata": {},
     "output_type": "execute_result"
    }
   ],
   "source": [
    "internet_df.head(3)"
   ]
  },
  {
   "cell_type": "markdown",
   "metadata": {},
   "source": [
    "Таблица \"объем израсходованного интернет-трафика по месяцам\"."
   ]
  },
  {
   "cell_type": "code",
   "execution_count": 29,
   "metadata": {
    "scrolled": false
   },
   "outputs": [
    {
     "name": "stdout",
     "output_type": "stream",
     "text": [
      "<class 'pandas.core.frame.DataFrame'>\n",
      "Int64Index: 3214 entries, 0 to 3213\n",
      "Data columns (total 7 columns):\n",
      " #   Column          Non-Null Count  Dtype  \n",
      "---  ------          --------------  -----  \n",
      " 0   user_id         3214 non-null   int64  \n",
      " 1   month           3214 non-null   int64  \n",
      " 2   duration_count  3174 non-null   float64\n",
      " 3   duration_sum    3174 non-null   float64\n",
      " 4   internet_count  3203 non-null   float64\n",
      " 5   internet_gb     3203 non-null   float64\n",
      " 6   messages_count  2717 non-null   float64\n",
      "dtypes: float64(5), int64(2)\n",
      "memory usage: 200.9 KB\n"
     ]
    }
   ],
   "source": [
    "total_df = calls_df.merge(\n",
    "    internet_df, on=['user_id', 'month'], how='outer').merge(\n",
    "    messages_df, on=['user_id', 'month'], how='outer')\n",
    "total_df.info()"
   ]
  },
  {
   "cell_type": "markdown",
   "metadata": {},
   "source": [
    "Объеденяем таблицы при помощи merge, по user_id и month, а также how='outer', чтобы вошли все строки из всех df."
   ]
  },
  {
   "cell_type": "code",
   "execution_count": 30,
   "metadata": {
    "scrolled": true
   },
   "outputs": [
    {
     "data": {
      "text/plain": [
       "user_id             0\n",
       "month               0\n",
       "duration_count     40\n",
       "duration_sum       40\n",
       "internet_count     11\n",
       "internet_gb        11\n",
       "messages_count    497\n",
       "dtype: int64"
      ]
     },
     "execution_count": 30,
     "metadata": {},
     "output_type": "execute_result"
    }
   ],
   "source": [
    "total_df.isnull().sum()"
   ]
  },
  {
   "cell_type": "markdown",
   "metadata": {},
   "source": [
    "Столбцы со значениями NaN"
   ]
  },
  {
   "cell_type": "code",
   "execution_count": 31,
   "metadata": {},
   "outputs": [],
   "source": [
    "total_df = total_df.fillna(0)"
   ]
  },
  {
   "cell_type": "markdown",
   "metadata": {},
   "source": [
    "Заменяем NaN на значение 0"
   ]
  },
  {
   "cell_type": "code",
   "execution_count": 32,
   "metadata": {},
   "outputs": [
    {
     "data": {
      "text/plain": [
       "user_id           0\n",
       "month             0\n",
       "duration_count    0\n",
       "duration_sum      0\n",
       "internet_count    0\n",
       "internet_gb       0\n",
       "messages_count    0\n",
       "dtype: int64"
      ]
     },
     "execution_count": 32,
     "metadata": {},
     "output_type": "execute_result"
    }
   ],
   "source": [
    "total_df.isnull().sum()"
   ]
  },
  {
   "cell_type": "code",
   "execution_count": 33,
   "metadata": {
    "scrolled": true
   },
   "outputs": [
    {
     "data": {
      "text/html": [
       "<div>\n",
       "<style scoped>\n",
       "    .dataframe tbody tr th:only-of-type {\n",
       "        vertical-align: middle;\n",
       "    }\n",
       "\n",
       "    .dataframe tbody tr th {\n",
       "        vertical-align: top;\n",
       "    }\n",
       "\n",
       "    .dataframe thead th {\n",
       "        text-align: right;\n",
       "    }\n",
       "</style>\n",
       "<table border=\"1\" class=\"dataframe\">\n",
       "  <thead>\n",
       "    <tr style=\"text-align: right;\">\n",
       "      <th></th>\n",
       "      <th>user_id</th>\n",
       "      <th>month</th>\n",
       "      <th>duration_count</th>\n",
       "      <th>duration_sum</th>\n",
       "      <th>internet_count</th>\n",
       "      <th>internet_gb</th>\n",
       "      <th>messages_count</th>\n",
       "    </tr>\n",
       "  </thead>\n",
       "  <tbody>\n",
       "    <tr>\n",
       "      <th>0</th>\n",
       "      <td>1000</td>\n",
       "      <td>5</td>\n",
       "      <td>22.0</td>\n",
       "      <td>164.0</td>\n",
       "      <td>2253.49</td>\n",
       "      <td>3.0</td>\n",
       "      <td>22.0</td>\n",
       "    </tr>\n",
       "    <tr>\n",
       "      <th>1</th>\n",
       "      <td>1000</td>\n",
       "      <td>6</td>\n",
       "      <td>43.0</td>\n",
       "      <td>187.0</td>\n",
       "      <td>23233.77</td>\n",
       "      <td>23.0</td>\n",
       "      <td>60.0</td>\n",
       "    </tr>\n",
       "    <tr>\n",
       "      <th>2</th>\n",
       "      <td>1000</td>\n",
       "      <td>7</td>\n",
       "      <td>47.0</td>\n",
       "      <td>346.0</td>\n",
       "      <td>14003.64</td>\n",
       "      <td>14.0</td>\n",
       "      <td>75.0</td>\n",
       "    </tr>\n",
       "  </tbody>\n",
       "</table>\n",
       "</div>"
      ],
      "text/plain": [
       "   user_id  month  duration_count  duration_sum  internet_count  internet_gb  \\\n",
       "0     1000      5            22.0         164.0         2253.49          3.0   \n",
       "1     1000      6            43.0         187.0        23233.77         23.0   \n",
       "2     1000      7            47.0         346.0        14003.64         14.0   \n",
       "\n",
       "   messages_count  \n",
       "0            22.0  \n",
       "1            60.0  \n",
       "2            75.0  "
      ]
     },
     "execution_count": 33,
     "metadata": {},
     "output_type": "execute_result"
    }
   ],
   "source": [
    "total_df.head(3)"
   ]
  },
  {
   "cell_type": "code",
   "execution_count": 34,
   "metadata": {
    "scrolled": true
   },
   "outputs": [
    {
     "name": "stdout",
     "output_type": "stream",
     "text": [
      "<class 'pandas.core.frame.DataFrame'>\n",
      "Int64Index: 3214 entries, 0 to 3213\n",
      "Data columns (total 7 columns):\n",
      " #   Column          Non-Null Count  Dtype  \n",
      "---  ------          --------------  -----  \n",
      " 0   user_id         3214 non-null   int64  \n",
      " 1   month           3214 non-null   int64  \n",
      " 2   duration_count  3214 non-null   float64\n",
      " 3   duration_sum    3214 non-null   float64\n",
      " 4   internet_count  3214 non-null   float64\n",
      " 5   internet_gb     3214 non-null   float64\n",
      " 6   messages_count  3214 non-null   float64\n",
      "dtypes: float64(5), int64(2)\n",
      "memory usage: 200.9 KB\n"
     ]
    }
   ],
   "source": [
    "total_df = total_df.loc[:,~total_df.columns.duplicated()]\n",
    "total_df.info()"
   ]
  },
  {
   "cell_type": "markdown",
   "metadata": {},
   "source": [
    "Убрал дубликаты столбцов."
   ]
  },
  {
   "cell_type": "code",
   "execution_count": 35,
   "metadata": {},
   "outputs": [],
   "source": [
    "total_df = (\n",
    "    total_df\n",
    "        .set_index('user_id').join(users[['user_id','tariff', 'city']].set_index('user_id'))\n",
    "        .reset_index()    \n",
    ")\n",
    "\n",
    "total_df['user_id'] = np.floor(pd.to_numeric(total_df['user_id'], errors='coerce')).astype('Int64')"
   ]
  },
  {
   "cell_type": "code",
   "execution_count": 36,
   "metadata": {
    "scrolled": true
   },
   "outputs": [
    {
     "data": {
      "text/html": [
       "<div>\n",
       "<style scoped>\n",
       "    .dataframe tbody tr th:only-of-type {\n",
       "        vertical-align: middle;\n",
       "    }\n",
       "\n",
       "    .dataframe tbody tr th {\n",
       "        vertical-align: top;\n",
       "    }\n",
       "\n",
       "    .dataframe thead th {\n",
       "        text-align: right;\n",
       "    }\n",
       "</style>\n",
       "<table border=\"1\" class=\"dataframe\">\n",
       "  <thead>\n",
       "    <tr style=\"text-align: right;\">\n",
       "      <th></th>\n",
       "      <th>user_id</th>\n",
       "      <th>month</th>\n",
       "      <th>duration_count</th>\n",
       "      <th>duration_sum</th>\n",
       "      <th>internet_count</th>\n",
       "      <th>internet_gb</th>\n",
       "      <th>messages_count</th>\n",
       "      <th>tariff</th>\n",
       "      <th>city</th>\n",
       "    </tr>\n",
       "  </thead>\n",
       "  <tbody>\n",
       "    <tr>\n",
       "      <th>0</th>\n",
       "      <td>1000</td>\n",
       "      <td>5</td>\n",
       "      <td>22.0</td>\n",
       "      <td>164.0</td>\n",
       "      <td>2253.49</td>\n",
       "      <td>3.0</td>\n",
       "      <td>22.0</td>\n",
       "      <td>ultra</td>\n",
       "      <td>Краснодар</td>\n",
       "    </tr>\n",
       "    <tr>\n",
       "      <th>1</th>\n",
       "      <td>1000</td>\n",
       "      <td>6</td>\n",
       "      <td>43.0</td>\n",
       "      <td>187.0</td>\n",
       "      <td>23233.77</td>\n",
       "      <td>23.0</td>\n",
       "      <td>60.0</td>\n",
       "      <td>ultra</td>\n",
       "      <td>Краснодар</td>\n",
       "    </tr>\n",
       "    <tr>\n",
       "      <th>2</th>\n",
       "      <td>1000</td>\n",
       "      <td>7</td>\n",
       "      <td>47.0</td>\n",
       "      <td>346.0</td>\n",
       "      <td>14003.64</td>\n",
       "      <td>14.0</td>\n",
       "      <td>75.0</td>\n",
       "      <td>ultra</td>\n",
       "      <td>Краснодар</td>\n",
       "    </tr>\n",
       "  </tbody>\n",
       "</table>\n",
       "</div>"
      ],
      "text/plain": [
       "   user_id  month  duration_count  duration_sum  internet_count  internet_gb  \\\n",
       "0     1000      5            22.0         164.0         2253.49          3.0   \n",
       "1     1000      6            43.0         187.0        23233.77         23.0   \n",
       "2     1000      7            47.0         346.0        14003.64         14.0   \n",
       "\n",
       "   messages_count tariff       city  \n",
       "0            22.0  ultra  Краснодар  \n",
       "1            60.0  ultra  Краснодар  \n",
       "2            75.0  ultra  Краснодар  "
      ]
     },
     "execution_count": 36,
     "metadata": {},
     "output_type": "execute_result"
    }
   ],
   "source": [
    "total_df.head(3)"
   ]
  },
  {
   "cell_type": "markdown",
   "metadata": {},
   "source": [
    "Объеденил два DataFrame с нужными столбцами, столбец \"user_id\" изменил тип на \"Int64\" (для удобства). Не удалял столбцы с месецами т к есть пользователи которые пользовались звонками + интернетом, но сообщений не посылали + для удобства ориентации."
   ]
  },
  {
   "cell_type": "code",
   "execution_count": 37,
   "metadata": {},
   "outputs": [],
   "source": [
    "tariffs.set_index('tariff_name',inplace=True)"
   ]
  },
  {
   "cell_type": "markdown",
   "metadata": {},
   "source": [
    "Сделали индексом столбец 'tariff_name' в таблице tariffs"
   ]
  },
  {
   "cell_type": "code",
   "execution_count": 38,
   "metadata": {},
   "outputs": [
    {
     "data": {
      "text/html": [
       "<div>\n",
       "<style scoped>\n",
       "    .dataframe tbody tr th:only-of-type {\n",
       "        vertical-align: middle;\n",
       "    }\n",
       "\n",
       "    .dataframe tbody tr th {\n",
       "        vertical-align: top;\n",
       "    }\n",
       "\n",
       "    .dataframe thead th {\n",
       "        text-align: right;\n",
       "    }\n",
       "</style>\n",
       "<table border=\"1\" class=\"dataframe\">\n",
       "  <thead>\n",
       "    <tr style=\"text-align: right;\">\n",
       "      <th></th>\n",
       "      <th>messages_included</th>\n",
       "      <th>mb_per_month_included</th>\n",
       "      <th>minutes_included</th>\n",
       "      <th>rub_monthly_fee</th>\n",
       "      <th>rub_per_gb</th>\n",
       "      <th>rub_per_message</th>\n",
       "      <th>rub_per_minute</th>\n",
       "    </tr>\n",
       "    <tr>\n",
       "      <th>tariff_name</th>\n",
       "      <th></th>\n",
       "      <th></th>\n",
       "      <th></th>\n",
       "      <th></th>\n",
       "      <th></th>\n",
       "      <th></th>\n",
       "      <th></th>\n",
       "    </tr>\n",
       "  </thead>\n",
       "  <tbody>\n",
       "    <tr>\n",
       "      <th>smart</th>\n",
       "      <td>50</td>\n",
       "      <td>15360</td>\n",
       "      <td>500</td>\n",
       "      <td>550</td>\n",
       "      <td>200</td>\n",
       "      <td>3</td>\n",
       "      <td>3</td>\n",
       "    </tr>\n",
       "    <tr>\n",
       "      <th>ultra</th>\n",
       "      <td>1000</td>\n",
       "      <td>30720</td>\n",
       "      <td>3000</td>\n",
       "      <td>1950</td>\n",
       "      <td>150</td>\n",
       "      <td>1</td>\n",
       "      <td>1</td>\n",
       "    </tr>\n",
       "  </tbody>\n",
       "</table>\n",
       "</div>"
      ],
      "text/plain": [
       "             messages_included  mb_per_month_included  minutes_included  \\\n",
       "tariff_name                                                               \n",
       "smart                       50                  15360               500   \n",
       "ultra                     1000                  30720              3000   \n",
       "\n",
       "             rub_monthly_fee  rub_per_gb  rub_per_message  rub_per_minute  \n",
       "tariff_name                                                                \n",
       "smart                    550         200                3               3  \n",
       "ultra                   1950         150                1               1  "
      ]
     },
     "execution_count": 38,
     "metadata": {},
     "output_type": "execute_result"
    }
   ],
   "source": [
    "tariffs.head(2)"
   ]
  },
  {
   "cell_type": "code",
   "execution_count": 39,
   "metadata": {
    "scrolled": true
   },
   "outputs": [
    {
     "data": {
      "text/html": [
       "<div>\n",
       "<style scoped>\n",
       "    .dataframe tbody tr th:only-of-type {\n",
       "        vertical-align: middle;\n",
       "    }\n",
       "\n",
       "    .dataframe tbody tr th {\n",
       "        vertical-align: top;\n",
       "    }\n",
       "\n",
       "    .dataframe thead th {\n",
       "        text-align: right;\n",
       "    }\n",
       "</style>\n",
       "<table border=\"1\" class=\"dataframe\">\n",
       "  <thead>\n",
       "    <tr style=\"text-align: right;\">\n",
       "      <th></th>\n",
       "      <th>user_id</th>\n",
       "      <th>month</th>\n",
       "      <th>duration_count</th>\n",
       "      <th>duration_sum</th>\n",
       "      <th>internet_count</th>\n",
       "      <th>internet_gb</th>\n",
       "      <th>messages_count</th>\n",
       "      <th>tariff</th>\n",
       "      <th>city</th>\n",
       "    </tr>\n",
       "  </thead>\n",
       "  <tbody>\n",
       "    <tr>\n",
       "      <th>0</th>\n",
       "      <td>1000</td>\n",
       "      <td>5</td>\n",
       "      <td>22.0</td>\n",
       "      <td>164.0</td>\n",
       "      <td>2253.49</td>\n",
       "      <td>3.0</td>\n",
       "      <td>22.0</td>\n",
       "      <td>ultra</td>\n",
       "      <td>Краснодар</td>\n",
       "    </tr>\n",
       "    <tr>\n",
       "      <th>1</th>\n",
       "      <td>1000</td>\n",
       "      <td>6</td>\n",
       "      <td>43.0</td>\n",
       "      <td>187.0</td>\n",
       "      <td>23233.77</td>\n",
       "      <td>23.0</td>\n",
       "      <td>60.0</td>\n",
       "      <td>ultra</td>\n",
       "      <td>Краснодар</td>\n",
       "    </tr>\n",
       "  </tbody>\n",
       "</table>\n",
       "</div>"
      ],
      "text/plain": [
       "   user_id  month  duration_count  duration_sum  internet_count  internet_gb  \\\n",
       "0     1000      5            22.0         164.0         2253.49          3.0   \n",
       "1     1000      6            43.0         187.0        23233.77         23.0   \n",
       "\n",
       "   messages_count tariff       city  \n",
       "0            22.0  ultra  Краснодар  \n",
       "1            60.0  ultra  Краснодар  "
      ]
     },
     "execution_count": 39,
     "metadata": {},
     "output_type": "execute_result"
    }
   ],
   "source": [
    "total_df.head(2)"
   ]
  },
  {
   "cell_type": "code",
   "execution_count": 40,
   "metadata": {
    "scrolled": true
   },
   "outputs": [
    {
     "data": {
      "text/html": [
       "<div>\n",
       "<style scoped>\n",
       "    .dataframe tbody tr th:only-of-type {\n",
       "        vertical-align: middle;\n",
       "    }\n",
       "\n",
       "    .dataframe tbody tr th {\n",
       "        vertical-align: top;\n",
       "    }\n",
       "\n",
       "    .dataframe thead th {\n",
       "        text-align: right;\n",
       "    }\n",
       "</style>\n",
       "<table border=\"1\" class=\"dataframe\">\n",
       "  <thead>\n",
       "    <tr style=\"text-align: right;\">\n",
       "      <th></th>\n",
       "      <th>user_id</th>\n",
       "      <th>month</th>\n",
       "      <th>duration_count</th>\n",
       "      <th>duration_sum</th>\n",
       "      <th>internet_count</th>\n",
       "      <th>internet_gb</th>\n",
       "      <th>messages_count</th>\n",
       "      <th>tariff</th>\n",
       "      <th>city</th>\n",
       "    </tr>\n",
       "  </thead>\n",
       "  <tbody>\n",
       "    <tr>\n",
       "      <th>0</th>\n",
       "      <td>1000</td>\n",
       "      <td>5</td>\n",
       "      <td>22.0</td>\n",
       "      <td>164.0</td>\n",
       "      <td>2253.49</td>\n",
       "      <td>3.0</td>\n",
       "      <td>22.0</td>\n",
       "      <td>ultra</td>\n",
       "      <td>Краснодар</td>\n",
       "    </tr>\n",
       "    <tr>\n",
       "      <th>1</th>\n",
       "      <td>1000</td>\n",
       "      <td>6</td>\n",
       "      <td>43.0</td>\n",
       "      <td>187.0</td>\n",
       "      <td>23233.77</td>\n",
       "      <td>23.0</td>\n",
       "      <td>60.0</td>\n",
       "      <td>ultra</td>\n",
       "      <td>Краснодар</td>\n",
       "    </tr>\n",
       "    <tr>\n",
       "      <th>2</th>\n",
       "      <td>1000</td>\n",
       "      <td>7</td>\n",
       "      <td>47.0</td>\n",
       "      <td>346.0</td>\n",
       "      <td>14003.64</td>\n",
       "      <td>14.0</td>\n",
       "      <td>75.0</td>\n",
       "      <td>ultra</td>\n",
       "      <td>Краснодар</td>\n",
       "    </tr>\n",
       "    <tr>\n",
       "      <th>3</th>\n",
       "      <td>1000</td>\n",
       "      <td>8</td>\n",
       "      <td>52.0</td>\n",
       "      <td>418.0</td>\n",
       "      <td>14055.93</td>\n",
       "      <td>14.0</td>\n",
       "      <td>81.0</td>\n",
       "      <td>ultra</td>\n",
       "      <td>Краснодар</td>\n",
       "    </tr>\n",
       "    <tr>\n",
       "      <th>4</th>\n",
       "      <td>1000</td>\n",
       "      <td>9</td>\n",
       "      <td>58.0</td>\n",
       "      <td>478.0</td>\n",
       "      <td>14568.91</td>\n",
       "      <td>15.0</td>\n",
       "      <td>57.0</td>\n",
       "      <td>ultra</td>\n",
       "      <td>Краснодар</td>\n",
       "    </tr>\n",
       "  </tbody>\n",
       "</table>\n",
       "</div>"
      ],
      "text/plain": [
       "   user_id  month  duration_count  duration_sum  internet_count  internet_gb  \\\n",
       "0     1000      5            22.0         164.0         2253.49          3.0   \n",
       "1     1000      6            43.0         187.0        23233.77         23.0   \n",
       "2     1000      7            47.0         346.0        14003.64         14.0   \n",
       "3     1000      8            52.0         418.0        14055.93         14.0   \n",
       "4     1000      9            58.0         478.0        14568.91         15.0   \n",
       "\n",
       "   messages_count tariff       city  \n",
       "0            22.0  ultra  Краснодар  \n",
       "1            60.0  ultra  Краснодар  \n",
       "2            75.0  ultra  Краснодар  \n",
       "3            81.0  ultra  Краснодар  \n",
       "4            57.0  ultra  Краснодар  "
      ]
     },
     "execution_count": 40,
     "metadata": {},
     "output_type": "execute_result"
    }
   ],
   "source": [
    "total_df.head()"
   ]
  },
  {
   "cell_type": "code",
   "execution_count": 41,
   "metadata": {},
   "outputs": [],
   "source": [
    "def det_revenue(row): \n",
    "    messages = row['messages_count']\n",
    "    mb_used = row['internet_count']\n",
    "    tariff = row['tariff']\n",
    "    duration = row['duration_sum']\n",
    "    calls = row['duration_count']\n",
    "    \n",
    "    extra_duration = duration - tariffs.loc[tariff, 'minutes_included']\n",
    "    extra_mb = mb_used - tariffs.loc[tariff, 'mb_per_month_included']\n",
    "    extra_messages = messages - tariffs.loc[tariff, 'messages_included']\n",
    "    \n",
    "    \n",
    "    if extra_duration < 0: extra_duration = 0\n",
    "    if extra_mb < 0: extra_mb = 0\n",
    "    if extra_messages < 0: extra_messages = 0\n",
    "\n",
    "    \n",
    "    return (tariffs.loc[tariff, 'rub_per_message'] * extra_messages + \n",
    "               tariffs.loc[tariff, 'rub_per_gb'] / 1024 * extra_mb + \n",
    "               tariffs.loc[tariff, 'rub_per_minute'] * extra_duration + \n",
    "               tariffs.loc[tariff, 'rub_monthly_fee']\n",
    "              ) \n",
    "\n",
    "total_df['revenue'] = total_df.apply(det_revenue, axis=1)"
   ]
  },
  {
   "cell_type": "markdown",
   "metadata": {},
   "source": [
    "Функция для подсчета, сколько денег тратят пользователи в месяц на тарифе"
   ]
  },
  {
   "cell_type": "code",
   "execution_count": 42,
   "metadata": {
    "scrolled": false
   },
   "outputs": [
    {
     "data": {
      "text/html": [
       "<div>\n",
       "<style scoped>\n",
       "    .dataframe tbody tr th:only-of-type {\n",
       "        vertical-align: middle;\n",
       "    }\n",
       "\n",
       "    .dataframe tbody tr th {\n",
       "        vertical-align: top;\n",
       "    }\n",
       "\n",
       "    .dataframe thead th {\n",
       "        text-align: right;\n",
       "    }\n",
       "</style>\n",
       "<table border=\"1\" class=\"dataframe\">\n",
       "  <thead>\n",
       "    <tr style=\"text-align: right;\">\n",
       "      <th></th>\n",
       "      <th>user_id</th>\n",
       "      <th>month</th>\n",
       "      <th>duration_count</th>\n",
       "      <th>duration_sum</th>\n",
       "      <th>internet_count</th>\n",
       "      <th>internet_gb</th>\n",
       "      <th>messages_count</th>\n",
       "      <th>tariff</th>\n",
       "      <th>city</th>\n",
       "      <th>revenue</th>\n",
       "    </tr>\n",
       "  </thead>\n",
       "  <tbody>\n",
       "    <tr>\n",
       "      <th>0</th>\n",
       "      <td>1000</td>\n",
       "      <td>5</td>\n",
       "      <td>22.0</td>\n",
       "      <td>164.0</td>\n",
       "      <td>2253.49</td>\n",
       "      <td>3.0</td>\n",
       "      <td>22.0</td>\n",
       "      <td>ultra</td>\n",
       "      <td>Краснодар</td>\n",
       "      <td>1950.0</td>\n",
       "    </tr>\n",
       "    <tr>\n",
       "      <th>1</th>\n",
       "      <td>1000</td>\n",
       "      <td>6</td>\n",
       "      <td>43.0</td>\n",
       "      <td>187.0</td>\n",
       "      <td>23233.77</td>\n",
       "      <td>23.0</td>\n",
       "      <td>60.0</td>\n",
       "      <td>ultra</td>\n",
       "      <td>Краснодар</td>\n",
       "      <td>1950.0</td>\n",
       "    </tr>\n",
       "    <tr>\n",
       "      <th>2</th>\n",
       "      <td>1000</td>\n",
       "      <td>7</td>\n",
       "      <td>47.0</td>\n",
       "      <td>346.0</td>\n",
       "      <td>14003.64</td>\n",
       "      <td>14.0</td>\n",
       "      <td>75.0</td>\n",
       "      <td>ultra</td>\n",
       "      <td>Краснодар</td>\n",
       "      <td>1950.0</td>\n",
       "    </tr>\n",
       "    <tr>\n",
       "      <th>3</th>\n",
       "      <td>1000</td>\n",
       "      <td>8</td>\n",
       "      <td>52.0</td>\n",
       "      <td>418.0</td>\n",
       "      <td>14055.93</td>\n",
       "      <td>14.0</td>\n",
       "      <td>81.0</td>\n",
       "      <td>ultra</td>\n",
       "      <td>Краснодар</td>\n",
       "      <td>1950.0</td>\n",
       "    </tr>\n",
       "    <tr>\n",
       "      <th>4</th>\n",
       "      <td>1000</td>\n",
       "      <td>9</td>\n",
       "      <td>58.0</td>\n",
       "      <td>478.0</td>\n",
       "      <td>14568.91</td>\n",
       "      <td>15.0</td>\n",
       "      <td>57.0</td>\n",
       "      <td>ultra</td>\n",
       "      <td>Краснодар</td>\n",
       "      <td>1950.0</td>\n",
       "    </tr>\n",
       "  </tbody>\n",
       "</table>\n",
       "</div>"
      ],
      "text/plain": [
       "   user_id  month  duration_count  duration_sum  internet_count  internet_gb  \\\n",
       "0     1000      5            22.0         164.0         2253.49          3.0   \n",
       "1     1000      6            43.0         187.0        23233.77         23.0   \n",
       "2     1000      7            47.0         346.0        14003.64         14.0   \n",
       "3     1000      8            52.0         418.0        14055.93         14.0   \n",
       "4     1000      9            58.0         478.0        14568.91         15.0   \n",
       "\n",
       "   messages_count tariff       city  revenue  \n",
       "0            22.0  ultra  Краснодар   1950.0  \n",
       "1            60.0  ultra  Краснодар   1950.0  \n",
       "2            75.0  ultra  Краснодар   1950.0  \n",
       "3            81.0  ultra  Краснодар   1950.0  \n",
       "4            57.0  ultra  Краснодар   1950.0  "
      ]
     },
     "execution_count": 42,
     "metadata": {},
     "output_type": "execute_result"
    }
   ],
   "source": [
    "total_df.head()"
   ]
  },
  {
   "cell_type": "markdown",
   "metadata": {},
   "source": [
    "### Вывод"
   ]
  },
  {
   "cell_type": "markdown",
   "metadata": {},
   "source": [
    "Привел данные к нужному типу данных, предобработал таблицы отдельно, после объеденил их и посчитал сумму звонков, смс и интернета для каждого пользователя по месяцам. Посчитал так же выручку с каждого тарифа."
   ]
  },
  {
   "cell_type": "markdown",
   "metadata": {},
   "source": [
    "## Анализ данных"
   ]
  },
  {
   "cell_type": "code",
   "execution_count": 43,
   "metadata": {
    "scrolled": false
   },
   "outputs": [
    {
     "data": {
      "text/html": [
       "<div>\n",
       "<style scoped>\n",
       "    .dataframe tbody tr th:only-of-type {\n",
       "        vertical-align: middle;\n",
       "    }\n",
       "\n",
       "    .dataframe tbody tr th {\n",
       "        vertical-align: top;\n",
       "    }\n",
       "\n",
       "    .dataframe thead th {\n",
       "        text-align: right;\n",
       "    }\n",
       "</style>\n",
       "<table border=\"1\" class=\"dataframe\">\n",
       "  <thead>\n",
       "    <tr style=\"text-align: right;\">\n",
       "      <th></th>\n",
       "      <th>user_id</th>\n",
       "      <th>month</th>\n",
       "      <th>duration_count</th>\n",
       "      <th>duration_sum</th>\n",
       "      <th>internet_count</th>\n",
       "      <th>internet_gb</th>\n",
       "      <th>messages_count</th>\n",
       "      <th>tariff</th>\n",
       "      <th>city</th>\n",
       "      <th>revenue</th>\n",
       "    </tr>\n",
       "  </thead>\n",
       "  <tbody>\n",
       "    <tr>\n",
       "      <th>0</th>\n",
       "      <td>1000</td>\n",
       "      <td>5</td>\n",
       "      <td>22.0</td>\n",
       "      <td>164.0</td>\n",
       "      <td>2253.49</td>\n",
       "      <td>3.0</td>\n",
       "      <td>22.0</td>\n",
       "      <td>ultra</td>\n",
       "      <td>Краснодар</td>\n",
       "      <td>1950.0</td>\n",
       "    </tr>\n",
       "    <tr>\n",
       "      <th>1</th>\n",
       "      <td>1000</td>\n",
       "      <td>6</td>\n",
       "      <td>43.0</td>\n",
       "      <td>187.0</td>\n",
       "      <td>23233.77</td>\n",
       "      <td>23.0</td>\n",
       "      <td>60.0</td>\n",
       "      <td>ultra</td>\n",
       "      <td>Краснодар</td>\n",
       "      <td>1950.0</td>\n",
       "    </tr>\n",
       "    <tr>\n",
       "      <th>2</th>\n",
       "      <td>1000</td>\n",
       "      <td>7</td>\n",
       "      <td>47.0</td>\n",
       "      <td>346.0</td>\n",
       "      <td>14003.64</td>\n",
       "      <td>14.0</td>\n",
       "      <td>75.0</td>\n",
       "      <td>ultra</td>\n",
       "      <td>Краснодар</td>\n",
       "      <td>1950.0</td>\n",
       "    </tr>\n",
       "    <tr>\n",
       "      <th>3</th>\n",
       "      <td>1000</td>\n",
       "      <td>8</td>\n",
       "      <td>52.0</td>\n",
       "      <td>418.0</td>\n",
       "      <td>14055.93</td>\n",
       "      <td>14.0</td>\n",
       "      <td>81.0</td>\n",
       "      <td>ultra</td>\n",
       "      <td>Краснодар</td>\n",
       "      <td>1950.0</td>\n",
       "    </tr>\n",
       "    <tr>\n",
       "      <th>4</th>\n",
       "      <td>1000</td>\n",
       "      <td>9</td>\n",
       "      <td>58.0</td>\n",
       "      <td>478.0</td>\n",
       "      <td>14568.91</td>\n",
       "      <td>15.0</td>\n",
       "      <td>57.0</td>\n",
       "      <td>ultra</td>\n",
       "      <td>Краснодар</td>\n",
       "      <td>1950.0</td>\n",
       "    </tr>\n",
       "  </tbody>\n",
       "</table>\n",
       "</div>"
      ],
      "text/plain": [
       "   user_id  month  duration_count  duration_sum  internet_count  internet_gb  \\\n",
       "0     1000      5            22.0         164.0         2253.49          3.0   \n",
       "1     1000      6            43.0         187.0        23233.77         23.0   \n",
       "2     1000      7            47.0         346.0        14003.64         14.0   \n",
       "3     1000      8            52.0         418.0        14055.93         14.0   \n",
       "4     1000      9            58.0         478.0        14568.91         15.0   \n",
       "\n",
       "   messages_count tariff       city  revenue  \n",
       "0            22.0  ultra  Краснодар   1950.0  \n",
       "1            60.0  ultra  Краснодар   1950.0  \n",
       "2            75.0  ultra  Краснодар   1950.0  \n",
       "3            81.0  ultra  Краснодар   1950.0  \n",
       "4            57.0  ultra  Краснодар   1950.0  "
      ]
     },
     "execution_count": 43,
     "metadata": {},
     "output_type": "execute_result"
    }
   ],
   "source": [
    "total_df.head()"
   ]
  },
  {
   "cell_type": "code",
   "execution_count": 44,
   "metadata": {},
   "outputs": [
    {
     "data": {
      "image/png": "[encoded data removed]",
      "text/plain": [
       "<Figure size 960x480 with 1 Axes>"
      ]
     },
     "metadata": {
      "needs_background": "light"
     },
     "output_type": "display_data"
    }
   ],
   "source": [
    "plt.figure(figsize=(12,6), dpi= 80)\n",
    "sns.kdeplot(total_df.loc[total_df.tariff == 'ultra', \"duration_sum\"], shade=True, color=\"dodgerblue\", label=\"ultra\", alpha=.7)\n",
    "sns.kdeplot(total_df.loc[total_df.tariff == 'smart', \"duration_sum\"], shade=True, color=\"deeppink\", label=\"smart\", alpha=.7)\n",
    "plt.title('Количество используемых минут на тарифах', fontsize=18)\n",
    "plt.legend()\n",
    "plt.show()"
   ]
  },
  {
   "cell_type": "code",
   "execution_count": 45,
   "metadata": {
    "scrolled": true
   },
   "outputs": [
    {
     "data": {
      "image/png": "[encoded data removed]",
      "text/plain": [
       "<Figure size 432x288 with 1 Axes>"
      ]
     },
     "metadata": {
      "needs_background": "light"
     },
     "output_type": "display_data"
    }
   ],
   "source": [
    "sns.violinplot(x='tariff', y='messages_count', data=total_df);"
   ]
  },
  {
   "cell_type": "code",
   "execution_count": 46,
   "metadata": {},
   "outputs": [
    {
     "name": "stderr",
     "output_type": "stream",
     "text": [
      "/opt/conda/lib/python3.9/site-packages/seaborn/distributions.py:2557: FutureWarning: `distplot` is a deprecated function and will be removed in a future version. Please adapt your code to use either `displot` (a figure-level function with similar flexibility) or `histplot` (an axes-level function for histograms).\n",
      "  warnings.warn(msg, FutureWarning)\n"
     ]
    },
    {
     "data": {
      "image/png": "[encoded data removed]",
      "text/plain": [
       "<Figure size 720x360 with 1 Axes>"
      ]
     },
     "metadata": {
      "needs_background": "light"
     },
     "output_type": "display_data"
    }
   ],
   "source": [
    "plt.figure(figsize=(12,6), dpi= 60)\n",
    "for tariff in ['ultra', 'smart']:\n",
    "    sns.distplot(total_df.query('tariff == @tariff')['internet_gb'], kde=False, label=tariff)\n",
    "\n",
    "plt.legend(['ultra', 'smart'])\n",
    "plt.legend(labels=['ultra','smart'])\n",
    "plt.title('Статистика по трафику для «Smart» и «Ultra»', fontsize=14)\n",
    "plt.xlabel('Значения', fontsize=12)\n",
    "plt.ylabel('Плотность распределения', fontsize=12);"
   ]
  },
  {
   "cell_type": "code",
   "execution_count": 47,
   "metadata": {
    "scrolled": true
   },
   "outputs": [
    {
     "data": {
      "image/png": "[encoded data removed]",
      "text/plain": [
       "<Figure size 720x360 with 1 Axes>"
      ]
     },
     "metadata": {
      "needs_background": "light"
     },
     "output_type": "display_data"
    }
   ],
   "source": [
    "plt.figure(figsize=(12,6), dpi= 60)\n",
    "for tariff in ['ultra', 'smart']:\n",
    "    sns.distplot(total_df.query('tariff == @tariff')['messages_count'], kde=False, label=tariff)\n",
    "    \n",
    "plt.legend(['ultra', 'smart'])\n",
    "plt.legend(labels=['ultra','smart'])\n",
    "plt.title('Статистика по сообщениям для «Smart» и «Ultra»', fontsize=14)\n",
    "plt.xlabel('Значения', fontsize=12)\n",
    "plt.ylabel('Плотность распределения', fontsize=12);"
   ]
  },
  {
   "cell_type": "markdown",
   "metadata": {},
   "source": [
    "Построил гисторгаммы по сообщениям и количеству потребляемого трафика. "
   ]
  },
  {
   "cell_type": "code",
   "execution_count": 48,
   "metadata": {},
   "outputs": [],
   "source": [
    "def barplot_style(x, y, z):\n",
    "    x.plot(kind='bar', figsize=(12, 5)).set_title(z, fontsize=14)\n",
    "    plt.xlabel(y, fontsize=12)\n",
    "    plt.ylabel('Значения', fontsize=12)"
   ]
  },
  {
   "cell_type": "markdown",
   "metadata": {},
   "source": [
    "Функция для построения графиков plot"
   ]
  },
  {
   "cell_type": "code",
   "execution_count": 49,
   "metadata": {},
   "outputs": [
    {
     "data": {
      "image/png": "[encoded data removed]",
      "text/plain": [
       "<Figure size 864x360 with 1 Axes>"
      ]
     },
     "metadata": {
      "needs_background": "light"
     },
     "output_type": "display_data"
    }
   ],
   "source": [
    "a = total_df.loc[total_df.tariff == 'ultra'].pivot_table(index = 'month', values = 'messages_count')\n",
    "b = total_df.loc[total_df.tariff == 'smart'].pivot_table(index= 'month', values= 'messages_count')\n",
    "a.rename(columns = {'messages_count' : 'ultra'}, inplace = True)\n",
    "b.rename(columns = {'messages_count' : 'smart'}, inplace = True)\n",
    "barplot_style(a.join(b),'Месяц','Статистика по сообщениям для «Smart» и «Ultra»')"
   ]
  },
  {
   "cell_type": "markdown",
   "metadata": {},
   "source": [
    "По графику можно сделать неоднозначный вывод, в среднем количество сообщений пользователи отправляют одинаковое, есть небольшие различия что в одну, что в другую сторону. Так же количество отправленных сообщений растёт."
   ]
  },
  {
   "cell_type": "code",
   "execution_count": 50,
   "metadata": {
    "scrolled": true
   },
   "outputs": [
    {
     "data": {
      "image/png": "[encoded data removed]",
      "text/plain": [
       "<Figure size 864x360 with 1 Axes>"
      ]
     },
     "metadata": {
      "needs_background": "light"
     },
     "output_type": "display_data"
    }
   ],
   "source": [
    "a = total_df.loc[total_df.tariff == 'ultra'].pivot_table(index = 'month', values = 'internet_gb')\n",
    "b = total_df.loc[total_df.tariff == 'smart'].pivot_table(index= 'month', values= 'internet_gb')\n",
    "a.rename(columns = {'internet_gb' : 'ultra'}, inplace = True)\n",
    "b.rename(columns = {'internet_gb' : 'smart'}, inplace = True)\n",
    "barplot_style(a.join(b),'Месяц','Статистика по трафику для «Smart» и «Ultra»')"
   ]
  },
  {
   "cell_type": "markdown",
   "metadata": {},
   "source": [
    "Как и по сообщениям, по трафику аналогичная ситуация, количество используемого трафика примерно одинакова, и постоянно увеличивается потребление трафика."
   ]
  },
  {
   "cell_type": "code",
   "execution_count": 51,
   "metadata": {
    "scrolled": true
   },
   "outputs": [
    {
     "data": {
      "text/html": [
       "<div>\n",
       "<style scoped>\n",
       "    .dataframe tbody tr th:only-of-type {\n",
       "        vertical-align: middle;\n",
       "    }\n",
       "\n",
       "    .dataframe tbody tr th {\n",
       "        vertical-align: top;\n",
       "    }\n",
       "\n",
       "    .dataframe thead th {\n",
       "        text-align: right;\n",
       "    }\n",
       "</style>\n",
       "<table border=\"1\" class=\"dataframe\">\n",
       "  <thead>\n",
       "    <tr style=\"text-align: right;\">\n",
       "      <th></th>\n",
       "      <th>duration_sum_mean</th>\n",
       "      <th>messages_count_mean</th>\n",
       "      <th>internet_gb_mean</th>\n",
       "      <th>price_tariff_mean</th>\n",
       "    </tr>\n",
       "    <tr>\n",
       "      <th>tariff</th>\n",
       "      <th></th>\n",
       "      <th></th>\n",
       "      <th></th>\n",
       "      <th></th>\n",
       "    </tr>\n",
       "  </thead>\n",
       "  <tbody>\n",
       "    <tr>\n",
       "      <th>smart</th>\n",
       "      <td>429.5</td>\n",
       "      <td>33.4</td>\n",
       "      <td>16.3</td>\n",
       "      <td>1247.4</td>\n",
       "    </tr>\n",
       "    <tr>\n",
       "      <th>ultra</th>\n",
       "      <td>540.8</td>\n",
       "      <td>49.4</td>\n",
       "      <td>19.5</td>\n",
       "      <td>2059.9</td>\n",
       "    </tr>\n",
       "  </tbody>\n",
       "</table>\n",
       "</div>"
      ],
      "text/plain": [
       "        duration_sum_mean  messages_count_mean  internet_gb_mean  \\\n",
       "tariff                                                             \n",
       "smart               429.5                 33.4              16.3   \n",
       "ultra               540.8                 49.4              19.5   \n",
       "\n",
       "        price_tariff_mean  \n",
       "tariff                     \n",
       "smart              1247.4  \n",
       "ultra              2059.9  "
      ]
     },
     "execution_count": 51,
     "metadata": {},
     "output_type": "execute_result"
    }
   ],
   "source": [
    "tariff_mean = total_df.groupby(['tariff']).agg(duration_sum_mean = ('duration_sum','mean'),\n",
    "                                 messages_count_mean = ('messages_count','mean'),\n",
    "                                 internet_gb_mean = ('internet_gb','mean'),\n",
    "                                 price_tariff_mean = ('revenue', 'mean')).round(1) \n",
    "tariff_mean                             "
   ]
  },
  {
   "cell_type": "markdown",
   "metadata": {},
   "source": [
    "Таблица со средними значениями по тарифам"
   ]
  },
  {
   "cell_type": "code",
   "execution_count": 52,
   "metadata": {},
   "outputs": [
    {
     "data": {
      "text/html": [
       "<div>\n",
       "<style scoped>\n",
       "    .dataframe tbody tr th:only-of-type {\n",
       "        vertical-align: middle;\n",
       "    }\n",
       "\n",
       "    .dataframe tbody tr th {\n",
       "        vertical-align: top;\n",
       "    }\n",
       "\n",
       "    .dataframe thead th {\n",
       "        text-align: right;\n",
       "    }\n",
       "</style>\n",
       "<table border=\"1\" class=\"dataframe\">\n",
       "  <thead>\n",
       "    <tr style=\"text-align: right;\">\n",
       "      <th></th>\n",
       "      <th>duration_sum_var</th>\n",
       "      <th>messages_count_var</th>\n",
       "      <th>internet_gb_var</th>\n",
       "      <th>price_tariff_var</th>\n",
       "    </tr>\n",
       "    <tr>\n",
       "      <th>tariff</th>\n",
       "      <th></th>\n",
       "      <th></th>\n",
       "      <th></th>\n",
       "      <th></th>\n",
       "    </tr>\n",
       "  </thead>\n",
       "  <tbody>\n",
       "    <tr>\n",
       "      <th>smart</th>\n",
       "      <td>37974.8</td>\n",
       "      <td>796.8</td>\n",
       "      <td>33.0</td>\n",
       "      <td>632144.1</td>\n",
       "    </tr>\n",
       "    <tr>\n",
       "      <th>ultra</th>\n",
       "      <td>106105.7</td>\n",
       "      <td>2285.3</td>\n",
       "      <td>97.1</td>\n",
       "      <td>125940.4</td>\n",
       "    </tr>\n",
       "  </tbody>\n",
       "</table>\n",
       "</div>"
      ],
      "text/plain": [
       "        duration_sum_var  messages_count_var  internet_gb_var  \\\n",
       "tariff                                                          \n",
       "smart            37974.8               796.8             33.0   \n",
       "ultra           106105.7              2285.3             97.1   \n",
       "\n",
       "        price_tariff_var  \n",
       "tariff                    \n",
       "smart           632144.1  \n",
       "ultra           125940.4  "
      ]
     },
     "execution_count": 52,
     "metadata": {},
     "output_type": "execute_result"
    }
   ],
   "source": [
    "tariff_var = total_df.groupby(['tariff']).agg(duration_sum_var = ('duration_sum','var'),\n",
    "                                 messages_count_var = ('messages_count','var'),\n",
    "                                 internet_gb_var = ('internet_gb','var'),\n",
    "                                 price_tariff_var = ('revenue', 'var')).round(1)\n",
    "tariff_var                              "
   ]
  },
  {
   "cell_type": "markdown",
   "metadata": {},
   "source": [
    "Таблица с дисперсией по значениям тарифов"
   ]
  },
  {
   "cell_type": "code",
   "execution_count": 53,
   "metadata": {
    "scrolled": false
   },
   "outputs": [
    {
     "data": {
      "text/html": [
       "<div>\n",
       "<style scoped>\n",
       "    .dataframe tbody tr th:only-of-type {\n",
       "        vertical-align: middle;\n",
       "    }\n",
       "\n",
       "    .dataframe tbody tr th {\n",
       "        vertical-align: top;\n",
       "    }\n",
       "\n",
       "    .dataframe thead th {\n",
       "        text-align: right;\n",
       "    }\n",
       "</style>\n",
       "<table border=\"1\" class=\"dataframe\">\n",
       "  <thead>\n",
       "    <tr style=\"text-align: right;\">\n",
       "      <th></th>\n",
       "      <th>duration_sum_std</th>\n",
       "      <th>messages_count_std</th>\n",
       "      <th>internet_gb_std</th>\n",
       "      <th>price_tariff_std</th>\n",
       "    </tr>\n",
       "    <tr>\n",
       "      <th>tariff</th>\n",
       "      <th></th>\n",
       "      <th></th>\n",
       "      <th></th>\n",
       "      <th></th>\n",
       "    </tr>\n",
       "  </thead>\n",
       "  <tbody>\n",
       "    <tr>\n",
       "      <th>smart</th>\n",
       "      <td>194.9</td>\n",
       "      <td>28.2</td>\n",
       "      <td>5.7</td>\n",
       "      <td>795.1</td>\n",
       "    </tr>\n",
       "    <tr>\n",
       "      <th>ultra</th>\n",
       "      <td>325.7</td>\n",
       "      <td>47.8</td>\n",
       "      <td>9.9</td>\n",
       "      <td>354.9</td>\n",
       "    </tr>\n",
       "  </tbody>\n",
       "</table>\n",
       "</div>"
      ],
      "text/plain": [
       "        duration_sum_std  messages_count_std  internet_gb_std  \\\n",
       "tariff                                                          \n",
       "smart              194.9                28.2              5.7   \n",
       "ultra              325.7                47.8              9.9   \n",
       "\n",
       "        price_tariff_std  \n",
       "tariff                    \n",
       "smart              795.1  \n",
       "ultra              354.9  "
      ]
     },
     "execution_count": 53,
     "metadata": {},
     "output_type": "execute_result"
    }
   ],
   "source": [
    "tariff_std = total_df.groupby(['tariff']).agg(duration_sum_std = ('duration_sum','std'),\n",
    "                                 messages_count_std = ('messages_count','std'),\n",
    "                                 internet_gb_std = ('internet_gb','std'),\n",
    "                                 price_tariff_std = ('revenue', 'std')).round(1)\n",
    "tariff_std                          "
   ]
  },
  {
   "cell_type": "markdown",
   "metadata": {},
   "source": [
    "Таблица со стандартным отклонениями по значениям тарифов"
   ]
  },
  {
   "cell_type": "code",
   "execution_count": 54,
   "metadata": {},
   "outputs": [],
   "source": [
    "def plot_bar_graff(column_name, fun, title, x_label, y_label):\n",
    "    total_df.groupby(['tariff']).agg(messages = (column_name, fun)).plot.bar(figsize = (6, 6))\n",
    "    plt.title(title, fontsize = 16)\n",
    "    plt.xlabel(x_label, fontsize = 14)\n",
    "    plt.ylabel(y_label, fontsize = 14)\n",
    "    plt.legend('',frameon=False);"
   ]
  },
  {
   "cell_type": "markdown",
   "metadata": {},
   "source": [
    "Функция для построения графиков"
   ]
  },
  {
   "cell_type": "code",
   "execution_count": 55,
   "metadata": {
    "scrolled": true
   },
   "outputs": [
    {
     "data": {
      "image/png": "[encoded data removed]",
      "text/plain": [
       "<Figure size 432x432 with 1 Axes>"
      ]
     },
     "metadata": {
      "needs_background": "light"
     },
     "output_type": "display_data"
    }
   ],
   "source": [
    "plot_bar_graff('messages_count', \n",
    "               'mean',\n",
    "               'Среднее кол-во сообщений',\n",
    "               'Тариф',\n",
    "               'Цифровой показатель')"
   ]
  },
  {
   "cell_type": "markdown",
   "metadata": {},
   "source": [
    "По графику видно, что среднее кол-во сообщений на тарифе ultra больше, чем на smart"
   ]
  },
  {
   "cell_type": "code",
   "execution_count": 56,
   "metadata": {
    "scrolled": true
   },
   "outputs": [
    {
     "data": {
      "image/png": "[encoded data removed]",
      "text/plain": [
       "<Figure size 432x432 with 1 Axes>"
      ]
     },
     "metadata": {
      "needs_background": "light"
     },
     "output_type": "display_data"
    }
   ],
   "source": [
    "plot_bar_graff('internet_gb', \n",
    "               'mean',\n",
    "               'Среднее кол-во интернета',\n",
    "               'Тариф',\n",
    "               'Цифровой показатель')"
   ]
  },
  {
   "cell_type": "markdown",
   "metadata": {
    "scrolled": true
   },
   "source": [
    "По графику видно, что среднее кол-во интернета на тарифе ultra немного больше используют, чем на smart"
   ]
  },
  {
   "cell_type": "code",
   "execution_count": 57,
   "metadata": {},
   "outputs": [
    {
     "data": {
      "image/png": "[encoded data removed]",
      "text/plain": [
       "<Figure size 432x432 with 1 Axes>"
      ]
     },
     "metadata": {
      "needs_background": "light"
     },
     "output_type": "display_data"
    }
   ],
   "source": [
    "plot_bar_graff('duration_sum', \n",
    "               'mean',\n",
    "               'Среднее кол-во минут',\n",
    "               'Тариф',\n",
    "               'Цифровой показатель')"
   ]
  },
  {
   "cell_type": "markdown",
   "metadata": {},
   "source": [
    "По графику видно, что среднее кол-во минут на тарифе ultra используют больше, чем на smart"
   ]
  },
  {
   "cell_type": "code",
   "execution_count": 58,
   "metadata": {},
   "outputs": [
    {
     "data": {
      "image/png": "[encoded data removed]",
      "text/plain": [
       "<Figure size 432x432 with 1 Axes>"
      ]
     },
     "metadata": {
      "needs_background": "light"
     },
     "output_type": "display_data"
    }
   ],
   "source": [
    "plot_bar_graff('messages_count', \n",
    "               'var',\n",
    "               'Дисперсия по сообщениям',\n",
    "               'Тариф',\n",
    "               'Цифровой показатель')"
   ]
  },
  {
   "cell_type": "markdown",
   "metadata": {},
   "source": [
    "По графику видно, что дисперсия по кол-ву сообщений на тарифе ultra намного выше, чем на smart"
   ]
  },
  {
   "cell_type": "code",
   "execution_count": 59,
   "metadata": {
    "scrolled": false
   },
   "outputs": [
    {
     "data": {
      "image/png": "[encoded data removed]",
      "text/plain": [
       "<Figure size 432x432 with 1 Axes>"
      ]
     },
     "metadata": {
      "needs_background": "light"
     },
     "output_type": "display_data"
    }
   ],
   "source": [
    "plot_bar_graff('duration_sum', \n",
    "               'var',\n",
    "               'Дисперсия по минутам',\n",
    "               'Тариф',\n",
    "               'Цифровой показатель')"
   ]
  },
  {
   "cell_type": "markdown",
   "metadata": {},
   "source": [
    "По графику видно, что дисперсия по минутам на тарифе ultra намного выше, чем на smart"
   ]
  },
  {
   "cell_type": "code",
   "execution_count": 60,
   "metadata": {},
   "outputs": [
    {
     "data": {
      "image/png": "[encoded data removed]",
      "text/plain": [
       "<Figure size 432x432 with 1 Axes>"
      ]
     },
     "metadata": {
      "needs_background": "light"
     },
     "output_type": "display_data"
    }
   ],
   "source": [
    "plot_bar_graff('internet_gb', \n",
    "               'var',\n",
    "               'Дисперсия по трафику',\n",
    "               'Тариф',\n",
    "               'Цифровой показатель')"
   ]
  },
  {
   "cell_type": "markdown",
   "metadata": {},
   "source": [
    "По графику видно, что дисперсия по кол-ву трафика на тарифе ultra намного выше, чем на smart"
   ]
  },
  {
   "cell_type": "code",
   "execution_count": 61,
   "metadata": {},
   "outputs": [
    {
     "data": {
      "image/png": "[encoded data removed]",
      "text/plain": [
       "<Figure size 432x432 with 1 Axes>"
      ]
     },
     "metadata": {
      "needs_background": "light"
     },
     "output_type": "display_data"
    }
   ],
   "source": [
    "plot_bar_graff('messages_count', \n",
    "               'std',\n",
    "               'Стандартное отклонение по сообщениям',\n",
    "               'Тариф',\n",
    "               'Цифровой показатель')"
   ]
  },
  {
   "cell_type": "markdown",
   "metadata": {},
   "source": [
    "По графику видно, что стандартное отклонение по кол-ву сообщений на тарифе ultra выше, чем на smart"
   ]
  },
  {
   "cell_type": "code",
   "execution_count": 62,
   "metadata": {
    "scrolled": true
   },
   "outputs": [
    {
     "data": {
      "image/png": "[encoded data removed]",
      "text/plain": [
       "<Figure size 432x432 with 1 Axes>"
      ]
     },
     "metadata": {
      "needs_background": "light"
     },
     "output_type": "display_data"
    }
   ],
   "source": [
    "plot_bar_graff('duration_sum', \n",
    "               'std',\n",
    "               'Стандартное отклонение по минутам',\n",
    "               'Тариф',\n",
    "               'Цифровой показатель')"
   ]
  },
  {
   "cell_type": "markdown",
   "metadata": {},
   "source": [
    "По графику видно, что стандартное отклонение по минутам на тарифе ultra выше, чем на smart"
   ]
  },
  {
   "cell_type": "code",
   "execution_count": 63,
   "metadata": {},
   "outputs": [
    {
     "data": {
      "image/png": "[encoded data removed]",
      "text/plain": [
       "<Figure size 432x432 with 1 Axes>"
      ]
     },
     "metadata": {
      "needs_background": "light"
     },
     "output_type": "display_data"
    }
   ],
   "source": [
    "plot_bar_graff('internet_gb', \n",
    "               'std',\n",
    "               'Стандартное отклонение по трафику',\n",
    "               'Тариф',\n",
    "               'Цифровой показатель')"
   ]
  },
  {
   "cell_type": "markdown",
   "metadata": {},
   "source": [
    "По графику видно, что стандартное отклонение по трафику на тарифе ultra выше, чем на smart"
   ]
  },
  {
   "cell_type": "markdown",
   "metadata": {
    "scrolled": true
   },
   "source": [
    "### Вывод"
   ]
  },
  {
   "cell_type": "markdown",
   "metadata": {},
   "source": [
    "В данном разделе я посчитал сколько требуется минут, сообщений и интернета требуется пользователям тарифов. Так же посчитал стреднее количество, дисперсию и стандартное отклонение, построил гистограммы, описал распределения. Поведение клиентов тарифов примерно похожи, на первый взгляд, что пользователи тарифа ultra переплачивают т к не пользуются всеми предоставленными возможностями тарифа."
   ]
  },
  {
   "cell_type": "markdown",
   "metadata": {},
   "source": [
    "## Проверка гипотиз"
   ]
  },
  {
   "cell_type": "markdown",
   "metadata": {},
   "source": [
    "**Средняя выручка пользователей тарифов «Ультра» и «Смарт» различаются**"
   ]
  },
  {
   "cell_type": "code",
   "execution_count": 64,
   "metadata": {},
   "outputs": [
    {
     "name": "stdout",
     "output_type": "stream",
     "text": [
      "p-значение:  6.986283750103436e-285\n",
      "Отвергаем нулевую гипотезу\n"
     ]
    }
   ],
   "source": [
    "# H0 - средняя выручка пользователей тарифов «Ультра» и «Смарт» одинакова\n",
    "# H1 - средняя выручка пользователей тарифов «Ультра» и «Смарт» различаются\n",
    "\n",
    "# а - 5%\n",
    "\n",
    "\n",
    "smart = total_df.query('tariff == \"smart\"')['revenue']\n",
    "ultra = total_df.query('tariff == \"ultra\"')['revenue']\n",
    "\n",
    "alpha = .05\n",
    "\n",
    "results = st.ttest_ind(\n",
    "    smart, \n",
    "    ultra,\n",
    "    equal_var=False)\n",
    "\n",
    "print('p-значение: ', results.pvalue)\n",
    "\n",
    "if results.pvalue < alpha:\n",
    "    print(\"Отвергаем нулевую гипотезу\")\n",
    "else:\n",
    "    print(\"Не получилось отвергнуть нулевую гипотезу\") "
   ]
  },
  {
   "cell_type": "code",
   "execution_count": 65,
   "metadata": {},
   "outputs": [
    {
     "data": {
      "text/html": [
       "<div>\n",
       "<style scoped>\n",
       "    .dataframe tbody tr th:only-of-type {\n",
       "        vertical-align: middle;\n",
       "    }\n",
       "\n",
       "    .dataframe tbody tr th {\n",
       "        vertical-align: top;\n",
       "    }\n",
       "\n",
       "    .dataframe thead th {\n",
       "        text-align: right;\n",
       "    }\n",
       "</style>\n",
       "<table border=\"1\" class=\"dataframe\">\n",
       "  <thead>\n",
       "    <tr style=\"text-align: right;\">\n",
       "      <th></th>\n",
       "      <th>price_tariff</th>\n",
       "    </tr>\n",
       "    <tr>\n",
       "      <th>tariff</th>\n",
       "      <th></th>\n",
       "    </tr>\n",
       "  </thead>\n",
       "  <tbody>\n",
       "    <tr>\n",
       "      <th>smart</th>\n",
       "      <td>983.613281</td>\n",
       "    </tr>\n",
       "    <tr>\n",
       "      <th>ultra</th>\n",
       "      <td>1950.000000</td>\n",
       "    </tr>\n",
       "  </tbody>\n",
       "</table>\n",
       "</div>"
      ],
      "text/plain": [
       "        price_tariff\n",
       "tariff              \n",
       "smart     983.613281\n",
       "ultra    1950.000000"
      ]
     },
     "execution_count": 65,
     "metadata": {},
     "output_type": "execute_result"
    }
   ],
   "source": [
    "total_df.groupby(['tariff']).agg(price_tariff = ('revenue','median'))"
   ]
  },
  {
   "cell_type": "markdown",
   "metadata": {},
   "source": [
    "Cредняя выручка пользователей тарифов «Ультра» и «Смарт» сильно различается"
   ]
  },
  {
   "cell_type": "markdown",
   "metadata": {},
   "source": [
    "**Средняя выручка пользователей из Москвы отличается от выручки пользователей из других регионов**"
   ]
  },
  {
   "cell_type": "code",
   "execution_count": 66,
   "metadata": {},
   "outputs": [
    {
     "name": "stdout",
     "output_type": "stream",
     "text": [
      "p-значение:  0.4966381972473627\n",
      "Не получилось отвергнуть нулевую гипотезу\n"
     ]
    }
   ],
   "source": [
    "# H0 - средняя выручка пользователей из Москвы отличается от выручки пользователей из других регионов одинаковая\n",
    "# H1 - средняя выручка пользователей из Москвы отличается от выручки пользователей из других регионов различаются\n",
    "\n",
    "# а - 5%\n",
    "\n",
    "\n",
    "yes_msk = total_df.query('city == \"Москва\"')['revenue']\n",
    "no_msk = total_df.query('city != \"Москва\"')['revenue']\n",
    "\n",
    "alpha = .05\n",
    "\n",
    "results = st.ttest_ind(\n",
    "    yes_msk, \n",
    "    no_msk,\n",
    "    equal_var=False)\n",
    "\n",
    "print('p-значение: ', results.pvalue)\n",
    "\n",
    "if results.pvalue < alpha:\n",
    "    print(\"Отвергаем нулевую гипотезу\")\n",
    "else:\n",
    "    print(\"Не получилось отвергнуть нулевую гипотезу\") "
   ]
  },
  {
   "cell_type": "code",
   "execution_count": 67,
   "metadata": {},
   "outputs": [],
   "source": [
    "def region(city):\n",
    "    if city == 'Москва': \n",
    "        return 'Москва'\n",
    "    else: \n",
    "        return 'Другой регион'"
   ]
  },
  {
   "cell_type": "code",
   "execution_count": 68,
   "metadata": {
    "scrolled": true
   },
   "outputs": [
    {
     "data": {
      "text/html": [
       "<div>\n",
       "<style scoped>\n",
       "    .dataframe tbody tr th:only-of-type {\n",
       "        vertical-align: middle;\n",
       "    }\n",
       "\n",
       "    .dataframe tbody tr th {\n",
       "        vertical-align: top;\n",
       "    }\n",
       "\n",
       "    .dataframe thead th {\n",
       "        text-align: right;\n",
       "    }\n",
       "</style>\n",
       "<table border=\"1\" class=\"dataframe\">\n",
       "  <thead>\n",
       "    <tr style=\"text-align: right;\">\n",
       "      <th></th>\n",
       "      <th>region</th>\n",
       "    </tr>\n",
       "    <tr>\n",
       "      <th>region</th>\n",
       "      <th></th>\n",
       "    </tr>\n",
       "  </thead>\n",
       "  <tbody>\n",
       "    <tr>\n",
       "      <th>Другой регион</th>\n",
       "      <td>1539.203125</td>\n",
       "    </tr>\n",
       "    <tr>\n",
       "      <th>Москва</th>\n",
       "      <td>1728.033203</td>\n",
       "    </tr>\n",
       "  </tbody>\n",
       "</table>\n",
       "</div>"
      ],
      "text/plain": [
       "                    region\n",
       "region                    \n",
       "Другой регион  1539.203125\n",
       "Москва         1728.033203"
      ]
     },
     "execution_count": 68,
     "metadata": {},
     "output_type": "execute_result"
    }
   ],
   "source": [
    "total_df['region'] = total_df['city'].apply(region)\n",
    "total_df.groupby(['region']).agg(region = ('revenue','median'))"
   ]
  },
  {
   "cell_type": "markdown",
   "metadata": {},
   "source": [
    "Да, в Москве действительно на связь тратят немного больше, чем в других регионах."
   ]
  },
  {
   "cell_type": "markdown",
   "metadata": {},
   "source": [
    "### Вывод"
   ]
  },
  {
   "cell_type": "markdown",
   "metadata": {},
   "source": [
    "Нулевую гепотизу выбраем исходя из :\n",
    "\n",
    "\"В нулевой гипотезе всегда предполагается равенство сравниваемых значений. \n",
    "Следовательно, альтернативная гипотеза не может содержать в себе знака равенства, поскольку она принимается, если отвергается нулевая. \""
   ]
  },
  {
   "cell_type": "markdown",
   "metadata": {},
   "source": [
    "## Общий вывод"
   ]
  },
  {
   "cell_type": "markdown",
   "metadata": {},
   "source": [
    "**Проанализировали поведение клиентов компания «Мегалайн» и сделали вывод — какой тариф лучше.**\n",
    "\n",
    "В данном проекте мы начали со знакомством данных, просмотрели все таблицы которые нам предоставили, после изучения, я принялся их предобрабатывать, а именно : искал NaN, различные диффекты в таблицах, также переделал формат некоторых столбцов, для облегчения дальнейшей работы с ними, добавлял новые столбцы, округлял нужные значения и тд. После, я принялся за анализ данных : На тарифе ultra разговаривают гораздо больше, чем на smart, хотя есть месяц, где значения примерно одинаковые.\n",
    "В среднем количество сообщений пользователи отправляют одинаковое, есть небольшие различия что в одну, что в другую сторону. Так же количество отправленных сообщений растёт.\n",
    "По трафику аналогичная ситуация, количество используемого трафика примерно одинакова, и постоянно увеличивается потребление трафика.\n",
    "Среднее по сообщениям и интернету на тарифах примерно одинаково. Разница есть, но не существенная.\n",
    "Интернетом на тарифе ultra объём трафика немного больше, но выручка на тарифе ultra гораздо больше, чем на smart.\n",
    "Дисперсия по сообщениям примерно одинаковая, но дисперсия на тарифе ultra чуть выше и по сообщениям и по интернету.\n",
    "Дисперсия по минутам выше на тарифе ultra, но дисперсия на тарифе smart намного превосходит по выручке.\n",
    "Стандартное отклонение на тарифах примерно одинаковое, но на тарифе ultra оно немного больше.\n",
    "Что стандартное отклонение на тарифе smart по минутам меньше, чем на ultra, но стандартное отклонение на тарифе smart по выручке гораздо больше, чем на ultra.\n",
    "\n",
    "Далее, я перешел к проверке гипотиз и сделал выводы:\n",
    "\n",
    "\n",
    "Cредняя выручка пользователей тарифов «Ультра» и «Смарт» сильно различается, пользователи smart тарифа переплачивают сверх тарифа примерно 600 руб и им не хватает включенных в тариф услуг, пользователи ultra тарифа наоборот, не используют все включенные возможности своего тарифа, особенно смс.\n",
    "\n",
    "Исходя из всех расчётов, наиболее преспективный тариф \"Ultra\", как в Москве, так и в других городах, хоть разница не велика. На него пользователи тратят больше денег, чем на \"smart\"."
   ]
  },
  {
   "cell_type": "code",
   "execution_count": null,
   "metadata": {},
   "outputs": [],
   "source": []
  }
 ],
 "metadata": {
  "ExecuteTimeLog": [
   {
    "duration": 124,
    "start_time": "2021-11-13T16:29:18.196Z"
   },
   {
    "duration": 1439,
    "start_time": "2021-11-14T15:06:32.666Z"
   },
   {
    "duration": 3916,
    "start_time": "2021-11-14T15:09:34.567Z"
   },
   {
    "duration": 500,
    "start_time": "2021-11-14T15:10:17.899Z"
   },
   {
    "duration": 18,
    "start_time": "2021-11-14T15:11:19.065Z"
   },
   {
    "duration": 12,
    "start_time": "2021-11-14T15:11:46.663Z"
   },
   {
    "duration": 10,
    "start_time": "2021-11-14T15:11:46.925Z"
   },
   {
    "duration": 12,
    "start_time": "2021-11-14T15:11:47.213Z"
   },
   {
    "duration": 11,
    "start_time": "2021-11-14T15:11:48.197Z"
   },
   {
    "duration": 14,
    "start_time": "2021-11-14T15:11:50.366Z"
   },
   {
    "duration": 12,
    "start_time": "2021-11-14T15:11:50.625Z"
   },
   {
    "duration": 11,
    "start_time": "2021-11-14T15:11:50.825Z"
   },
   {
    "duration": 11,
    "start_time": "2021-11-14T15:11:51.066Z"
   },
   {
    "duration": 11,
    "start_time": "2021-11-14T15:11:51.321Z"
   },
   {
    "duration": 10,
    "start_time": "2021-11-14T15:12:33.485Z"
   },
   {
    "duration": 14,
    "start_time": "2021-11-14T15:12:43.730Z"
   },
   {
    "duration": 8,
    "start_time": "2021-11-14T15:12:48.015Z"
   },
   {
    "duration": 9,
    "start_time": "2021-11-14T15:13:03.734Z"
   },
   {
    "duration": 19,
    "start_time": "2021-11-14T15:13:17.765Z"
   },
   {
    "duration": 22,
    "start_time": "2021-11-14T15:13:35.519Z"
   },
   {
    "duration": 31,
    "start_time": "2021-11-14T15:13:46.184Z"
   },
   {
    "duration": 16,
    "start_time": "2021-11-14T15:16:18.246Z"
   },
   {
    "duration": 18,
    "start_time": "2021-11-14T15:16:56.627Z"
   },
   {
    "duration": 11,
    "start_time": "2021-11-14T15:18:34.647Z"
   },
   {
    "duration": 12,
    "start_time": "2021-11-14T15:18:43.667Z"
   },
   {
    "duration": 6,
    "start_time": "2021-11-14T15:49:28.053Z"
   },
   {
    "duration": 513,
    "start_time": "2021-11-14T15:49:28.063Z"
   },
   {
    "duration": 15,
    "start_time": "2021-11-14T15:49:28.580Z"
   },
   {
    "duration": 13,
    "start_time": "2021-11-14T15:49:28.599Z"
   },
   {
    "duration": 45,
    "start_time": "2021-11-14T15:49:28.614Z"
   },
   {
    "duration": 9,
    "start_time": "2021-11-14T15:49:28.662Z"
   },
   {
    "duration": 13,
    "start_time": "2021-11-14T15:49:28.674Z"
   },
   {
    "duration": 22,
    "start_time": "2021-11-14T15:49:28.690Z"
   },
   {
    "duration": 53,
    "start_time": "2021-11-14T15:49:28.717Z"
   },
   {
    "duration": 24,
    "start_time": "2021-11-14T15:49:28.773Z"
   },
   {
    "duration": 11,
    "start_time": "2021-11-14T15:49:28.800Z"
   },
   {
    "duration": 63,
    "start_time": "2021-11-14T15:49:28.813Z"
   },
   {
    "duration": 16,
    "start_time": "2021-11-14T15:51:43.594Z"
   },
   {
    "duration": 13,
    "start_time": "2021-11-14T15:51:49.065Z"
   },
   {
    "duration": 1196,
    "start_time": "2021-11-15T10:41:57.377Z"
   },
   {
    "duration": 400,
    "start_time": "2021-11-15T10:41:58.575Z"
   },
   {
    "duration": 12,
    "start_time": "2021-11-15T10:41:58.977Z"
   },
   {
    "duration": 9,
    "start_time": "2021-11-15T10:41:58.991Z"
   },
   {
    "duration": 9,
    "start_time": "2021-11-15T10:41:59.002Z"
   },
   {
    "duration": 9,
    "start_time": "2021-11-15T10:41:59.013Z"
   },
   {
    "duration": 18,
    "start_time": "2021-11-15T10:41:59.024Z"
   },
   {
    "duration": 30,
    "start_time": "2021-11-15T10:41:59.043Z"
   },
   {
    "duration": 7,
    "start_time": "2021-11-15T10:41:59.076Z"
   },
   {
    "duration": 21,
    "start_time": "2021-11-15T10:41:59.085Z"
   },
   {
    "duration": 7,
    "start_time": "2021-11-15T10:41:59.108Z"
   },
   {
    "duration": 20,
    "start_time": "2021-11-15T10:41:59.117Z"
   },
   {
    "duration": 7,
    "start_time": "2021-11-15T12:12:04.857Z"
   },
   {
    "duration": 7,
    "start_time": "2021-11-15T12:13:13.079Z"
   },
   {
    "duration": 9,
    "start_time": "2021-11-15T12:13:55.722Z"
   },
   {
    "duration": 8,
    "start_time": "2021-11-15T12:13:59.818Z"
   },
   {
    "duration": 3,
    "start_time": "2021-11-15T13:34:55.735Z"
   },
   {
    "duration": 6,
    "start_time": "2021-11-15T13:35:36.827Z"
   },
   {
    "duration": 35,
    "start_time": "2021-11-15T13:36:13.085Z"
   },
   {
    "duration": 11,
    "start_time": "2021-11-15T13:38:08.893Z"
   },
   {
    "duration": 367,
    "start_time": "2021-11-15T13:42:14.066Z"
   },
   {
    "duration": 11,
    "start_time": "2021-11-15T13:42:35.479Z"
   },
   {
    "duration": 3,
    "start_time": "2021-11-15T13:52:58.498Z"
   },
   {
    "duration": 3,
    "start_time": "2021-11-15T13:53:40.258Z"
   },
   {
    "duration": 573,
    "start_time": "2021-11-15T13:53:41.307Z"
   },
   {
    "duration": 3,
    "start_time": "2021-11-15T13:54:10.430Z"
   },
   {
    "duration": 815,
    "start_time": "2021-11-15T13:54:11.831Z"
   },
   {
    "duration": 3,
    "start_time": "2021-11-15T13:55:16.926Z"
   },
   {
    "duration": 4,
    "start_time": "2021-11-15T13:55:18.021Z"
   },
   {
    "duration": 7,
    "start_time": "2021-11-15T13:55:27.328Z"
   },
   {
    "duration": 65,
    "start_time": "2021-11-15T14:04:11.107Z"
   },
   {
    "duration": 12,
    "start_time": "2021-11-15T14:04:15.835Z"
   },
   {
    "duration": 14,
    "start_time": "2021-11-15T14:04:21.485Z"
   },
   {
    "duration": 274,
    "start_time": "2021-11-15T14:16:56.617Z"
   },
   {
    "duration": 13,
    "start_time": "2021-11-15T14:17:28.648Z"
   },
   {
    "duration": 10,
    "start_time": "2021-11-15T14:17:39.386Z"
   },
   {
    "duration": 258,
    "start_time": "2021-11-15T14:19:41.920Z"
   },
   {
    "duration": 18,
    "start_time": "2021-11-15T14:19:47.479Z"
   },
   {
    "duration": 281,
    "start_time": "2021-11-15T14:20:17.216Z"
   },
   {
    "duration": 10,
    "start_time": "2021-11-15T14:21:04.811Z"
   },
   {
    "duration": 19,
    "start_time": "2021-11-15T14:23:25.057Z"
   },
   {
    "duration": 18,
    "start_time": "2021-11-15T14:26:05.777Z"
   },
   {
    "duration": 8,
    "start_time": "2021-11-15T14:28:19.668Z"
   },
   {
    "duration": 13,
    "start_time": "2021-11-15T14:28:25.799Z"
   },
   {
    "duration": 12,
    "start_time": "2021-11-15T14:29:53.506Z"
   },
   {
    "duration": 11,
    "start_time": "2021-11-15T14:30:12.425Z"
   },
   {
    "duration": 12,
    "start_time": "2021-11-15T14:30:57.039Z"
   },
   {
    "duration": 19,
    "start_time": "2021-11-15T14:31:36.454Z"
   },
   {
    "duration": 11,
    "start_time": "2021-11-15T14:31:41.053Z"
   },
   {
    "duration": 21,
    "start_time": "2021-11-15T14:44:59.565Z"
   },
   {
    "duration": 8,
    "start_time": "2021-11-15T14:45:41.897Z"
   },
   {
    "duration": 9,
    "start_time": "2021-11-15T14:46:01.941Z"
   },
   {
    "duration": 525,
    "start_time": "2021-11-15T14:48:16.883Z"
   },
   {
    "duration": 3,
    "start_time": "2021-11-15T14:53:07.884Z"
   },
   {
    "duration": 672,
    "start_time": "2021-11-15T14:53:10.935Z"
   },
   {
    "duration": 20,
    "start_time": "2021-11-15T14:54:08.672Z"
   },
   {
    "duration": 6,
    "start_time": "2021-11-15T14:54:43.008Z"
   },
   {
    "duration": 4,
    "start_time": "2021-11-15T14:59:56.405Z"
   },
   {
    "duration": 426,
    "start_time": "2021-11-15T14:59:56.411Z"
   },
   {
    "duration": 9,
    "start_time": "2021-11-15T14:59:56.840Z"
   },
   {
    "duration": 13,
    "start_time": "2021-11-15T14:59:56.851Z"
   },
   {
    "duration": 12,
    "start_time": "2021-11-15T14:59:56.866Z"
   },
   {
    "duration": 13,
    "start_time": "2021-11-15T14:59:56.880Z"
   },
   {
    "duration": 11,
    "start_time": "2021-11-15T14:59:56.895Z"
   },
   {
    "duration": 25,
    "start_time": "2021-11-15T14:59:56.908Z"
   },
   {
    "duration": 29,
    "start_time": "2021-11-15T14:59:56.936Z"
   },
   {
    "duration": 19,
    "start_time": "2021-11-15T14:59:56.967Z"
   },
   {
    "duration": 9,
    "start_time": "2021-11-15T14:59:56.988Z"
   },
   {
    "duration": 23,
    "start_time": "2021-11-15T14:59:56.998Z"
   },
   {
    "duration": 5,
    "start_time": "2021-11-15T14:59:57.022Z"
   },
   {
    "duration": 44,
    "start_time": "2021-11-15T14:59:57.029Z"
   },
   {
    "duration": 3,
    "start_time": "2021-11-15T14:59:57.074Z"
   },
   {
    "duration": 88,
    "start_time": "2021-11-15T14:59:57.079Z"
   },
   {
    "duration": 19,
    "start_time": "2021-11-15T14:59:57.169Z"
   },
   {
    "duration": 11,
    "start_time": "2021-11-15T14:59:57.190Z"
   },
   {
    "duration": 18,
    "start_time": "2021-11-15T14:59:57.203Z"
   },
   {
    "duration": 6,
    "start_time": "2021-11-15T14:59:57.223Z"
   },
   {
    "duration": 33,
    "start_time": "2021-11-15T14:59:57.231Z"
   },
   {
    "duration": 24,
    "start_time": "2021-11-15T14:59:57.266Z"
   },
   {
    "duration": 7059,
    "start_time": "2021-11-15T15:00:21.121Z"
   },
   {
    "duration": 3,
    "start_time": "2021-11-15T15:00:37.200Z"
   },
   {
    "duration": 6727,
    "start_time": "2021-11-15T15:00:38.508Z"
   },
   {
    "duration": 508,
    "start_time": "2021-11-15T15:00:56.853Z"
   },
   {
    "duration": 18,
    "start_time": "2021-11-15T15:01:34.059Z"
   },
   {
    "duration": 20,
    "start_time": "2021-11-15T15:01:36.328Z"
   },
   {
    "duration": 6492,
    "start_time": "2021-11-15T15:04:43.905Z"
   },
   {
    "duration": 504,
    "start_time": "2021-11-15T15:05:06.377Z"
   },
   {
    "duration": 20,
    "start_time": "2021-11-15T15:05:28.559Z"
   },
   {
    "duration": 19,
    "start_time": "2021-11-15T15:05:31.399Z"
   },
   {
    "duration": 5,
    "start_time": "2021-11-15T15:09:05.614Z"
   },
   {
    "duration": 439,
    "start_time": "2021-11-15T15:09:05.622Z"
   },
   {
    "duration": 11,
    "start_time": "2021-11-15T15:09:06.063Z"
   },
   {
    "duration": 9,
    "start_time": "2021-11-15T15:09:06.076Z"
   },
   {
    "duration": 13,
    "start_time": "2021-11-15T15:09:06.087Z"
   },
   {
    "duration": 10,
    "start_time": "2021-11-15T15:09:06.101Z"
   },
   {
    "duration": 10,
    "start_time": "2021-11-15T15:09:06.112Z"
   },
   {
    "duration": 39,
    "start_time": "2021-11-15T15:09:06.124Z"
   },
   {
    "duration": 8,
    "start_time": "2021-11-15T15:09:06.166Z"
   },
   {
    "duration": 21,
    "start_time": "2021-11-15T15:09:06.176Z"
   },
   {
    "duration": 7,
    "start_time": "2021-11-15T15:09:06.199Z"
   },
   {
    "duration": 28,
    "start_time": "2021-11-15T15:09:06.208Z"
   },
   {
    "duration": 32,
    "start_time": "2021-11-15T15:09:06.238Z"
   },
   {
    "duration": 21,
    "start_time": "2021-11-15T15:09:06.272Z"
   },
   {
    "duration": 11,
    "start_time": "2021-11-15T15:09:06.295Z"
   },
   {
    "duration": 76,
    "start_time": "2021-11-15T15:09:06.308Z"
   },
   {
    "duration": 18,
    "start_time": "2021-11-15T15:09:06.386Z"
   },
   {
    "duration": 9,
    "start_time": "2021-11-15T15:09:06.405Z"
   },
   {
    "duration": 17,
    "start_time": "2021-11-15T15:09:06.416Z"
   },
   {
    "duration": 7,
    "start_time": "2021-11-15T15:09:06.434Z"
   },
   {
    "duration": 27,
    "start_time": "2021-11-15T15:09:06.443Z"
   },
   {
    "duration": 21,
    "start_time": "2021-11-15T15:09:06.472Z"
   },
   {
    "duration": 8,
    "start_time": "2021-11-15T15:13:23.259Z"
   },
   {
    "duration": 7,
    "start_time": "2021-11-15T15:13:40.241Z"
   },
   {
    "duration": 5,
    "start_time": "2021-11-15T15:14:02.689Z"
   },
   {
    "duration": 5,
    "start_time": "2021-11-15T15:16:43.665Z"
   },
   {
    "duration": 9,
    "start_time": "2021-11-15T15:16:54.987Z"
   },
   {
    "duration": 7,
    "start_time": "2021-11-15T15:18:06.028Z"
   },
   {
    "duration": 4,
    "start_time": "2021-11-15T15:56:29.075Z"
   },
   {
    "duration": 6,
    "start_time": "2021-11-15T15:56:37.199Z"
   },
   {
    "duration": 45,
    "start_time": "2021-11-15T16:06:19.900Z"
   },
   {
    "duration": 42,
    "start_time": "2021-11-15T16:06:26.974Z"
   },
   {
    "duration": 47,
    "start_time": "2021-11-15T16:06:32.663Z"
   },
   {
    "duration": 98,
    "start_time": "2021-11-15T16:06:38.553Z"
   },
   {
    "duration": 7,
    "start_time": "2021-11-15T16:06:44.406Z"
   },
   {
    "duration": 7,
    "start_time": "2021-11-15T16:09:13.016Z"
   },
   {
    "duration": 256,
    "start_time": "2021-11-15T17:02:19.796Z"
   },
   {
    "duration": 299,
    "start_time": "2021-11-15T17:07:08.702Z"
   },
   {
    "duration": 270,
    "start_time": "2021-11-15T17:30:38.831Z"
   },
   {
    "duration": 256,
    "start_time": "2021-11-15T17:31:14.183Z"
   },
   {
    "duration": 1219,
    "start_time": "2021-11-15T17:36:07.948Z"
   },
   {
    "duration": 471,
    "start_time": "2021-11-15T17:36:09.169Z"
   },
   {
    "duration": 22,
    "start_time": "2021-11-15T17:36:09.643Z"
   },
   {
    "duration": 7,
    "start_time": "2021-11-15T17:36:09.667Z"
   },
   {
    "duration": 11,
    "start_time": "2021-11-15T17:36:09.676Z"
   },
   {
    "duration": 7,
    "start_time": "2021-11-15T17:36:09.689Z"
   },
   {
    "duration": 10,
    "start_time": "2021-11-15T17:36:09.698Z"
   },
   {
    "duration": 18,
    "start_time": "2021-11-15T17:36:09.709Z"
   },
   {
    "duration": 37,
    "start_time": "2021-11-15T17:36:09.730Z"
   },
   {
    "duration": 29,
    "start_time": "2021-11-15T17:36:09.769Z"
   },
   {
    "duration": 7,
    "start_time": "2021-11-15T17:36:09.800Z"
   },
   {
    "duration": 23,
    "start_time": "2021-11-15T17:36:09.809Z"
   },
   {
    "duration": 6,
    "start_time": "2021-11-15T17:36:09.834Z"
   },
   {
    "duration": 27,
    "start_time": "2021-11-15T17:36:09.841Z"
   },
   {
    "duration": 11,
    "start_time": "2021-11-15T17:36:09.871Z"
   },
   {
    "duration": 75,
    "start_time": "2021-11-15T17:36:09.883Z"
   },
   {
    "duration": 17,
    "start_time": "2021-11-15T17:36:09.964Z"
   },
   {
    "duration": 10,
    "start_time": "2021-11-15T17:36:09.983Z"
   },
   {
    "duration": 1478,
    "start_time": "2021-11-15T17:36:26.773Z"
   },
   {
    "duration": 547,
    "start_time": "2021-11-15T17:36:28.254Z"
   },
   {
    "duration": 17,
    "start_time": "2021-11-15T17:36:28.804Z"
   },
   {
    "duration": 14,
    "start_time": "2021-11-15T17:36:28.823Z"
   },
   {
    "duration": 18,
    "start_time": "2021-11-15T17:36:28.838Z"
   },
   {
    "duration": 13,
    "start_time": "2021-11-15T17:36:28.858Z"
   },
   {
    "duration": 21,
    "start_time": "2021-11-15T17:36:28.873Z"
   },
   {
    "duration": 17,
    "start_time": "2021-11-15T17:36:28.896Z"
   },
   {
    "duration": 20,
    "start_time": "2021-11-15T17:36:28.915Z"
   },
   {
    "duration": 21,
    "start_time": "2021-11-15T17:36:28.938Z"
   },
   {
    "duration": 10,
    "start_time": "2021-11-15T17:36:28.961Z"
   },
   {
    "duration": 38,
    "start_time": "2021-11-15T17:36:28.973Z"
   },
   {
    "duration": 7,
    "start_time": "2021-11-15T17:36:29.013Z"
   },
   {
    "duration": 22,
    "start_time": "2021-11-15T17:36:29.022Z"
   },
   {
    "duration": 14,
    "start_time": "2021-11-15T17:36:29.046Z"
   },
   {
    "duration": 85,
    "start_time": "2021-11-15T17:36:29.061Z"
   },
   {
    "duration": 17,
    "start_time": "2021-11-15T17:36:29.148Z"
   },
   {
    "duration": 9,
    "start_time": "2021-11-15T17:36:29.167Z"
   },
   {
    "duration": 288,
    "start_time": "2021-11-15T17:41:27.547Z"
   },
   {
    "duration": 1177,
    "start_time": "2021-11-15T17:41:41.411Z"
   },
   {
    "duration": 416,
    "start_time": "2021-11-15T17:41:42.590Z"
   },
   {
    "duration": 16,
    "start_time": "2021-11-15T17:41:43.008Z"
   },
   {
    "duration": 8,
    "start_time": "2021-11-15T17:41:43.026Z"
   },
   {
    "duration": 28,
    "start_time": "2021-11-15T17:41:43.036Z"
   },
   {
    "duration": 10,
    "start_time": "2021-11-15T17:41:43.066Z"
   },
   {
    "duration": 10,
    "start_time": "2021-11-15T17:41:43.078Z"
   },
   {
    "duration": 18,
    "start_time": "2021-11-15T17:41:43.091Z"
   },
   {
    "duration": 21,
    "start_time": "2021-11-15T17:41:43.111Z"
   },
   {
    "duration": 31,
    "start_time": "2021-11-15T17:41:43.133Z"
   },
   {
    "duration": 10,
    "start_time": "2021-11-15T17:41:43.166Z"
   },
   {
    "duration": 22,
    "start_time": "2021-11-15T17:41:43.178Z"
   },
   {
    "duration": 6,
    "start_time": "2021-11-15T17:41:43.202Z"
   },
   {
    "duration": 12,
    "start_time": "2021-11-15T17:41:43.210Z"
   },
   {
    "duration": 40,
    "start_time": "2021-11-15T17:41:43.224Z"
   },
   {
    "duration": 76,
    "start_time": "2021-11-15T17:41:43.266Z"
   },
   {
    "duration": 27,
    "start_time": "2021-11-15T17:41:43.344Z"
   },
   {
    "duration": 8,
    "start_time": "2021-11-15T17:41:43.373Z"
   },
   {
    "duration": 399,
    "start_time": "2021-11-15T17:41:43.383Z"
   },
   {
    "duration": 3,
    "start_time": "2021-11-15T17:45:25.279Z"
   },
   {
    "duration": 412,
    "start_time": "2021-11-15T17:45:25.298Z"
   },
   {
    "duration": 9,
    "start_time": "2021-11-15T17:45:25.712Z"
   },
   {
    "duration": 10,
    "start_time": "2021-11-15T17:45:25.723Z"
   },
   {
    "duration": 12,
    "start_time": "2021-11-15T17:45:25.734Z"
   },
   {
    "duration": 17,
    "start_time": "2021-11-15T17:45:25.747Z"
   },
   {
    "duration": 15,
    "start_time": "2021-11-15T17:45:25.765Z"
   },
   {
    "duration": 19,
    "start_time": "2021-11-15T17:45:25.781Z"
   },
   {
    "duration": 8,
    "start_time": "2021-11-15T17:45:25.802Z"
   },
   {
    "duration": 23,
    "start_time": "2021-11-15T17:45:25.812Z"
   },
   {
    "duration": 29,
    "start_time": "2021-11-15T17:45:25.836Z"
   },
   {
    "duration": 25,
    "start_time": "2021-11-15T17:45:25.867Z"
   },
   {
    "duration": 6,
    "start_time": "2021-11-15T17:45:25.894Z"
   },
   {
    "duration": 14,
    "start_time": "2021-11-15T17:45:25.901Z"
   },
   {
    "duration": 9,
    "start_time": "2021-11-15T17:45:25.917Z"
   },
   {
    "duration": 100,
    "start_time": "2021-11-15T17:45:25.927Z"
   },
   {
    "duration": 17,
    "start_time": "2021-11-15T17:45:26.029Z"
   },
   {
    "duration": 22,
    "start_time": "2021-11-15T17:45:26.048Z"
   },
   {
    "duration": 255,
    "start_time": "2021-11-15T17:45:26.073Z"
   },
   {
    "duration": 12,
    "start_time": "2021-11-15T17:45:51.969Z"
   },
   {
    "duration": 3,
    "start_time": "2021-11-15T17:49:13.819Z"
   },
   {
    "duration": 414,
    "start_time": "2021-11-15T17:49:13.823Z"
   },
   {
    "duration": 9,
    "start_time": "2021-11-15T17:49:14.239Z"
   },
   {
    "duration": 17,
    "start_time": "2021-11-15T17:49:14.250Z"
   },
   {
    "duration": 13,
    "start_time": "2021-11-15T17:49:14.268Z"
   },
   {
    "duration": 7,
    "start_time": "2021-11-15T17:49:14.283Z"
   },
   {
    "duration": 14,
    "start_time": "2021-11-15T17:49:14.291Z"
   },
   {
    "duration": 24,
    "start_time": "2021-11-15T17:49:14.307Z"
   },
   {
    "duration": 30,
    "start_time": "2021-11-15T17:49:14.334Z"
   },
   {
    "duration": 33,
    "start_time": "2021-11-15T17:49:14.367Z"
   },
   {
    "duration": 9,
    "start_time": "2021-11-15T17:49:14.403Z"
   },
   {
    "duration": 34,
    "start_time": "2021-11-15T17:49:14.414Z"
   },
   {
    "duration": 8,
    "start_time": "2021-11-15T17:49:14.464Z"
   },
   {
    "duration": 16,
    "start_time": "2021-11-15T17:49:14.474Z"
   },
   {
    "duration": 3,
    "start_time": "2021-11-15T17:49:14.492Z"
   },
   {
    "duration": 133,
    "start_time": "2021-11-15T17:49:14.497Z"
   },
   {
    "duration": 34,
    "start_time": "2021-11-15T17:49:14.633Z"
   },
   {
    "duration": 15,
    "start_time": "2021-11-15T17:49:14.669Z"
   },
   {
    "duration": 22,
    "start_time": "2021-11-15T17:49:14.686Z"
   },
   {
    "duration": 286,
    "start_time": "2021-11-15T17:49:14.710Z"
   },
   {
    "duration": 3,
    "start_time": "2021-11-15T17:54:31.780Z"
   },
   {
    "duration": 424,
    "start_time": "2021-11-15T17:54:31.798Z"
   },
   {
    "duration": 10,
    "start_time": "2021-11-15T17:54:32.224Z"
   },
   {
    "duration": 16,
    "start_time": "2021-11-15T17:54:32.237Z"
   },
   {
    "duration": 15,
    "start_time": "2021-11-15T17:54:32.255Z"
   },
   {
    "duration": 14,
    "start_time": "2021-11-15T17:54:32.272Z"
   },
   {
    "duration": 12,
    "start_time": "2021-11-15T17:54:32.287Z"
   },
   {
    "duration": 17,
    "start_time": "2021-11-15T17:54:32.300Z"
   },
   {
    "duration": 10,
    "start_time": "2021-11-15T17:54:32.318Z"
   },
   {
    "duration": 19,
    "start_time": "2021-11-15T17:54:32.330Z"
   },
   {
    "duration": 8,
    "start_time": "2021-11-15T17:54:32.363Z"
   },
   {
    "duration": 23,
    "start_time": "2021-11-15T17:54:32.372Z"
   },
   {
    "duration": 6,
    "start_time": "2021-11-15T17:54:32.396Z"
   },
   {
    "duration": 13,
    "start_time": "2021-11-15T17:54:32.404Z"
   },
   {
    "duration": 7,
    "start_time": "2021-11-15T17:54:32.418Z"
   },
   {
    "duration": 132,
    "start_time": "2021-11-15T17:54:32.428Z"
   },
   {
    "duration": 23,
    "start_time": "2021-11-15T17:54:32.563Z"
   },
   {
    "duration": 13,
    "start_time": "2021-11-15T17:54:32.588Z"
   },
   {
    "duration": 17,
    "start_time": "2021-11-15T17:54:32.603Z"
   },
   {
    "duration": 15,
    "start_time": "2021-11-15T17:55:20.584Z"
   },
   {
    "duration": 1194,
    "start_time": "2021-11-16T14:24:28.611Z"
   },
   {
    "duration": 425,
    "start_time": "2021-11-16T14:24:29.807Z"
   },
   {
    "duration": 21,
    "start_time": "2021-11-16T14:24:30.234Z"
   },
   {
    "duration": 7,
    "start_time": "2021-11-16T14:24:30.257Z"
   },
   {
    "duration": 16,
    "start_time": "2021-11-16T14:24:30.265Z"
   },
   {
    "duration": 12,
    "start_time": "2021-11-16T14:24:30.282Z"
   },
   {
    "duration": 14,
    "start_time": "2021-11-16T14:24:30.295Z"
   },
   {
    "duration": 41,
    "start_time": "2021-11-16T14:24:30.311Z"
   },
   {
    "duration": 8,
    "start_time": "2021-11-16T14:24:30.355Z"
   },
   {
    "duration": 29,
    "start_time": "2021-11-16T14:24:30.365Z"
   },
   {
    "duration": 9,
    "start_time": "2021-11-16T14:24:30.395Z"
   },
   {
    "duration": 45,
    "start_time": "2021-11-16T14:24:30.406Z"
   },
   {
    "duration": 7,
    "start_time": "2021-11-16T14:24:30.453Z"
   },
   {
    "duration": 13,
    "start_time": "2021-11-16T14:24:30.463Z"
   },
   {
    "duration": 2,
    "start_time": "2021-11-16T14:24:30.478Z"
   },
   {
    "duration": 107,
    "start_time": "2021-11-16T14:24:30.482Z"
   },
   {
    "duration": 20,
    "start_time": "2021-11-16T14:24:30.591Z"
   },
   {
    "duration": 12,
    "start_time": "2021-11-16T14:24:30.613Z"
   },
   {
    "duration": 118,
    "start_time": "2021-11-16T14:24:30.627Z"
   },
   {
    "duration": 1291,
    "start_time": "2021-11-16T14:52:03.670Z"
   },
   {
    "duration": 1328,
    "start_time": "2021-11-16T14:52:28.147Z"
   },
   {
    "duration": 4,
    "start_time": "2021-11-16T14:53:06.724Z"
   },
   {
    "duration": 433,
    "start_time": "2021-11-16T14:53:06.731Z"
   },
   {
    "duration": 10,
    "start_time": "2021-11-16T14:53:07.167Z"
   },
   {
    "duration": 9,
    "start_time": "2021-11-16T14:53:07.180Z"
   },
   {
    "duration": 10,
    "start_time": "2021-11-16T14:53:07.191Z"
   },
   {
    "duration": 8,
    "start_time": "2021-11-16T14:53:07.203Z"
   },
   {
    "duration": 38,
    "start_time": "2021-11-16T14:53:07.213Z"
   },
   {
    "duration": 16,
    "start_time": "2021-11-16T14:53:07.253Z"
   },
   {
    "duration": 9,
    "start_time": "2021-11-16T14:53:07.272Z"
   },
   {
    "duration": 23,
    "start_time": "2021-11-16T14:53:07.283Z"
   },
   {
    "duration": 38,
    "start_time": "2021-11-16T14:53:07.308Z"
   },
   {
    "duration": 26,
    "start_time": "2021-11-16T14:53:07.348Z"
   },
   {
    "duration": 7,
    "start_time": "2021-11-16T14:53:07.376Z"
   },
   {
    "duration": 58,
    "start_time": "2021-11-16T14:53:07.385Z"
   },
   {
    "duration": 2,
    "start_time": "2021-11-16T14:53:07.446Z"
   },
   {
    "duration": 70,
    "start_time": "2021-11-16T14:53:07.450Z"
   },
   {
    "duration": 35,
    "start_time": "2021-11-16T14:53:07.521Z"
   },
   {
    "duration": 9,
    "start_time": "2021-11-16T14:53:07.558Z"
   },
   {
    "duration": 520,
    "start_time": "2021-11-16T14:53:07.569Z"
   },
   {
    "duration": -730,
    "start_time": "2021-11-16T14:53:08.821Z"
   },
   {
    "duration": 483,
    "start_time": "2021-11-16T14:53:26.341Z"
   },
   {
    "duration": 5,
    "start_time": "2021-11-16T14:57:39.218Z"
   },
   {
    "duration": 26,
    "start_time": "2021-11-16T14:57:48.666Z"
   },
   {
    "duration": 3,
    "start_time": "2021-11-16T15:02:43.327Z"
   },
   {
    "duration": 281,
    "start_time": "2021-11-16T15:04:01.554Z"
   },
   {
    "duration": 282,
    "start_time": "2021-11-16T15:04:30.182Z"
   },
   {
    "duration": 287,
    "start_time": "2021-11-16T15:05:18.682Z"
   },
   {
    "duration": 3,
    "start_time": "2021-11-16T15:05:37.558Z"
   },
   {
    "duration": 261,
    "start_time": "2021-11-16T15:05:38.492Z"
   },
   {
    "duration": 4,
    "start_time": "2021-11-16T15:08:50.276Z"
   },
   {
    "duration": 274,
    "start_time": "2021-11-16T15:08:51.278Z"
   },
   {
    "duration": 269,
    "start_time": "2021-11-16T15:09:13.695Z"
   },
   {
    "duration": 4,
    "start_time": "2021-11-16T15:18:34.128Z"
   },
   {
    "duration": 5,
    "start_time": "2021-11-16T15:18:34.761Z"
   },
   {
    "duration": 588,
    "start_time": "2021-11-16T15:18:41.937Z"
   },
   {
    "duration": 536,
    "start_time": "2021-11-16T15:18:51.586Z"
   },
   {
    "duration": 3,
    "start_time": "2021-11-16T15:18:55.586Z"
   },
   {
    "duration": 562,
    "start_time": "2021-11-16T15:18:56.409Z"
   },
   {
    "duration": 3,
    "start_time": "2021-11-16T15:19:53.991Z"
   },
   {
    "duration": 298,
    "start_time": "2021-11-16T15:19:54.464Z"
   },
   {
    "duration": 661,
    "start_time": "2021-11-16T15:20:00.733Z"
   },
   {
    "duration": 319,
    "start_time": "2021-11-16T15:20:22.598Z"
   },
   {
    "duration": 92,
    "start_time": "2021-11-16T15:20:43.460Z"
   },
   {
    "duration": 3,
    "start_time": "2021-11-16T15:20:48.454Z"
   },
   {
    "duration": 298,
    "start_time": "2021-11-16T15:20:50.332Z"
   },
   {
    "duration": 656,
    "start_time": "2021-11-16T15:21:08.343Z"
   },
   {
    "duration": 267,
    "start_time": "2021-11-16T15:21:52.332Z"
   },
   {
    "duration": 3,
    "start_time": "2021-11-16T15:22:04.045Z"
   },
   {
    "duration": 293,
    "start_time": "2021-11-16T15:22:04.396Z"
   },
   {
    "duration": 4,
    "start_time": "2021-11-16T15:22:07.272Z"
   },
   {
    "duration": 438,
    "start_time": "2021-11-16T15:22:07.278Z"
   },
   {
    "duration": 9,
    "start_time": "2021-11-16T15:22:07.718Z"
   },
   {
    "duration": 17,
    "start_time": "2021-11-16T15:22:07.729Z"
   },
   {
    "duration": 10,
    "start_time": "2021-11-16T15:22:07.748Z"
   },
   {
    "duration": 8,
    "start_time": "2021-11-16T15:22:07.759Z"
   },
   {
    "duration": 9,
    "start_time": "2021-11-16T15:22:07.769Z"
   },
   {
    "duration": 15,
    "start_time": "2021-11-16T15:22:07.779Z"
   },
   {
    "duration": 10,
    "start_time": "2021-11-16T15:22:07.797Z"
   },
   {
    "duration": 18,
    "start_time": "2021-11-16T15:22:07.845Z"
   },
   {
    "duration": 7,
    "start_time": "2021-11-16T15:22:07.865Z"
   },
   {
    "duration": 22,
    "start_time": "2021-11-16T15:22:07.874Z"
   },
   {
    "duration": 5,
    "start_time": "2021-11-16T15:22:07.898Z"
   },
   {
    "duration": 11,
    "start_time": "2021-11-16T15:22:07.945Z"
   },
   {
    "duration": 4,
    "start_time": "2021-11-16T15:22:07.958Z"
   },
   {
    "duration": 91,
    "start_time": "2021-11-16T15:22:07.964Z"
   },
   {
    "duration": 17,
    "start_time": "2021-11-16T15:22:08.057Z"
   },
   {
    "duration": 8,
    "start_time": "2021-11-16T15:22:08.075Z"
   },
   {
    "duration": 9,
    "start_time": "2021-11-16T15:22:08.085Z"
   },
   {
    "duration": 281,
    "start_time": "2021-11-16T15:22:08.096Z"
   },
   {
    "duration": -708,
    "start_time": "2021-11-16T15:22:09.087Z"
   },
   {
    "duration": 5,
    "start_time": "2021-11-16T15:22:21.780Z"
   },
   {
    "duration": 438,
    "start_time": "2021-11-16T15:22:21.787Z"
   },
   {
    "duration": 10,
    "start_time": "2021-11-16T15:22:22.228Z"
   },
   {
    "duration": 9,
    "start_time": "2021-11-16T15:22:22.244Z"
   },
   {
    "duration": 19,
    "start_time": "2021-11-16T15:22:22.255Z"
   },
   {
    "duration": 19,
    "start_time": "2021-11-16T15:22:22.276Z"
   },
   {
    "duration": 12,
    "start_time": "2021-11-16T15:22:22.298Z"
   },
   {
    "duration": 41,
    "start_time": "2021-11-16T15:22:22.314Z"
   },
   {
    "duration": 10,
    "start_time": "2021-11-16T15:22:22.358Z"
   },
   {
    "duration": 21,
    "start_time": "2021-11-16T15:22:22.370Z"
   },
   {
    "duration": 10,
    "start_time": "2021-11-16T15:22:22.394Z"
   },
   {
    "duration": 22,
    "start_time": "2021-11-16T15:22:22.445Z"
   },
   {
    "duration": 6,
    "start_time": "2021-11-16T15:22:22.469Z"
   },
   {
    "duration": 14,
    "start_time": "2021-11-16T15:22:22.476Z"
   },
   {
    "duration": 4,
    "start_time": "2021-11-16T15:22:22.492Z"
   },
   {
    "duration": 103,
    "start_time": "2021-11-16T15:22:22.498Z"
   },
   {
    "duration": 17,
    "start_time": "2021-11-16T15:22:22.602Z"
   },
   {
    "duration": 23,
    "start_time": "2021-11-16T15:22:22.621Z"
   },
   {
    "duration": 5,
    "start_time": "2021-11-16T15:22:22.646Z"
   },
   {
    "duration": 357,
    "start_time": "2021-11-16T15:22:22.653Z"
   },
   {
    "duration": -699,
    "start_time": "2021-11-16T15:22:23.711Z"
   },
   {
    "duration": 7,
    "start_time": "2021-11-16T15:27:47.185Z"
   },
   {
    "duration": 19,
    "start_time": "2021-11-16T15:27:51.086Z"
   },
   {
    "duration": 7453,
    "start_time": "2021-11-16T15:29:38.731Z"
   },
   {
    "duration": 72,
    "start_time": "2021-11-16T15:30:07.708Z"
   },
   {
    "duration": 19,
    "start_time": "2021-11-16T15:30:15.046Z"
   },
   {
    "duration": 13,
    "start_time": "2021-11-16T15:30:21.511Z"
   },
   {
    "duration": 14,
    "start_time": "2021-11-16T15:30:27.656Z"
   },
   {
    "duration": 17,
    "start_time": "2021-11-16T15:30:32.729Z"
   },
   {
    "duration": 12,
    "start_time": "2021-11-16T15:40:51.202Z"
   },
   {
    "duration": 11,
    "start_time": "2021-11-16T16:17:29.089Z"
   },
   {
    "duration": 276,
    "start_time": "2021-11-16T16:18:15.828Z"
   },
   {
    "duration": 11,
    "start_time": "2021-11-16T16:18:54.572Z"
   },
   {
    "duration": 7,
    "start_time": "2021-11-16T16:19:08.495Z"
   },
   {
    "duration": 283,
    "start_time": "2021-11-16T16:19:49.412Z"
   },
   {
    "duration": 8,
    "start_time": "2021-11-16T16:19:57.232Z"
   },
   {
    "duration": 12,
    "start_time": "2021-11-16T16:20:04.891Z"
   },
   {
    "duration": 5,
    "start_time": "2021-11-16T16:20:54.932Z"
   },
   {
    "duration": 326,
    "start_time": "2021-11-16T16:26:37.332Z"
   },
   {
    "duration": 252,
    "start_time": "2021-11-16T16:26:50.944Z"
   },
   {
    "duration": 334,
    "start_time": "2021-11-16T16:32:24.677Z"
   },
   {
    "duration": 281,
    "start_time": "2021-11-16T16:32:46.487Z"
   },
   {
    "duration": 232,
    "start_time": "2021-11-16T16:33:26.792Z"
   },
   {
    "duration": 1419,
    "start_time": "2021-11-16T16:41:48.984Z"
   },
   {
    "duration": 1397,
    "start_time": "2021-11-16T16:43:01.555Z"
   },
   {
    "duration": 1347,
    "start_time": "2021-11-16T16:44:07.437Z"
   },
   {
    "duration": 1437,
    "start_time": "2021-11-16T16:47:57.615Z"
   },
   {
    "duration": 110,
    "start_time": "2021-11-16T16:51:17.366Z"
   },
   {
    "duration": 11,
    "start_time": "2021-11-16T16:56:05.436Z"
   },
   {
    "duration": 1375,
    "start_time": "2021-11-16T17:03:47.170Z"
   },
   {
    "duration": 84,
    "start_time": "2021-11-16T17:07:10.706Z"
   },
   {
    "duration": 1805,
    "start_time": "2021-11-16T17:07:21.988Z"
   },
   {
    "duration": 97,
    "start_time": "2021-11-16T17:07:36.935Z"
   },
   {
    "duration": 86,
    "start_time": "2021-11-16T17:08:01.586Z"
   },
   {
    "duration": 1697,
    "start_time": "2021-11-16T17:08:22.562Z"
   },
   {
    "duration": 1708,
    "start_time": "2021-11-16T17:09:12.468Z"
   },
   {
    "duration": 1421,
    "start_time": "2021-11-16T17:09:40.476Z"
   },
   {
    "duration": 1411,
    "start_time": "2021-11-16T17:10:04.709Z"
   },
   {
    "duration": 15,
    "start_time": "2021-11-16T17:10:37.925Z"
   },
   {
    "duration": 22,
    "start_time": "2021-11-16T17:11:03.076Z"
   },
   {
    "duration": 1458,
    "start_time": "2021-11-16T17:11:28.495Z"
   },
   {
    "duration": 1450,
    "start_time": "2021-11-16T17:13:16.326Z"
   },
   {
    "duration": 2363,
    "start_time": "2021-11-16T17:13:29.153Z"
   },
   {
    "duration": 1433,
    "start_time": "2021-11-16T17:13:45.377Z"
   },
   {
    "duration": 69,
    "start_time": "2021-11-16T17:14:13.106Z"
   },
   {
    "duration": 1432,
    "start_time": "2021-11-16T17:14:13.964Z"
   },
   {
    "duration": 22,
    "start_time": "2021-11-16T17:14:15.519Z"
   },
   {
    "duration": 3,
    "start_time": "2021-11-16T17:14:56.477Z"
   },
   {
    "duration": 1358,
    "start_time": "2021-11-16T17:14:57.314Z"
   },
   {
    "duration": 25,
    "start_time": "2021-11-16T17:15:02.520Z"
   },
   {
    "duration": 286,
    "start_time": "2021-11-16T17:15:31.117Z"
   },
   {
    "duration": 23,
    "start_time": "2021-11-16T17:15:48.488Z"
   },
   {
    "duration": 13,
    "start_time": "2021-11-16T17:17:01.275Z"
   },
   {
    "duration": 22,
    "start_time": "2021-11-16T17:20:12.902Z"
   },
   {
    "duration": 29,
    "start_time": "2021-11-16T17:20:48.318Z"
   },
   {
    "duration": 12,
    "start_time": "2021-11-16T17:21:22.531Z"
   },
   {
    "duration": 90,
    "start_time": "2021-11-16T17:23:53.073Z"
   },
   {
    "duration": 14,
    "start_time": "2021-11-16T17:24:06.938Z"
   },
   {
    "duration": 285,
    "start_time": "2021-11-16T17:24:42.059Z"
   },
   {
    "duration": 9,
    "start_time": "2021-11-16T17:24:48.032Z"
   },
   {
    "duration": 4,
    "start_time": "2021-11-16T17:31:20.903Z"
   },
   {
    "duration": 429,
    "start_time": "2021-11-16T17:31:20.909Z"
   },
   {
    "duration": 10,
    "start_time": "2021-11-16T17:31:21.340Z"
   },
   {
    "duration": 13,
    "start_time": "2021-11-16T17:31:21.352Z"
   },
   {
    "duration": 13,
    "start_time": "2021-11-16T17:31:21.367Z"
   },
   {
    "duration": 13,
    "start_time": "2021-11-16T17:31:21.382Z"
   },
   {
    "duration": 20,
    "start_time": "2021-11-16T17:31:21.397Z"
   },
   {
    "duration": 26,
    "start_time": "2021-11-16T17:31:21.418Z"
   },
   {
    "duration": 8,
    "start_time": "2021-11-16T17:31:21.447Z"
   },
   {
    "duration": 29,
    "start_time": "2021-11-16T17:31:21.458Z"
   },
   {
    "duration": 10,
    "start_time": "2021-11-16T17:31:21.489Z"
   },
   {
    "duration": 24,
    "start_time": "2021-11-16T17:31:21.501Z"
   },
   {
    "duration": 5,
    "start_time": "2021-11-16T17:31:21.527Z"
   },
   {
    "duration": 17,
    "start_time": "2021-11-16T17:31:21.534Z"
   },
   {
    "duration": 4,
    "start_time": "2021-11-16T17:31:21.553Z"
   },
   {
    "duration": 73,
    "start_time": "2021-11-16T17:31:21.559Z"
   },
   {
    "duration": 22,
    "start_time": "2021-11-16T17:31:21.634Z"
   },
   {
    "duration": 9,
    "start_time": "2021-11-16T17:31:21.658Z"
   },
   {
    "duration": 175,
    "start_time": "2021-11-16T17:31:21.669Z"
   },
   {
    "duration": 3,
    "start_time": "2021-11-16T17:31:21.846Z"
   },
   {
    "duration": 1573,
    "start_time": "2021-11-16T17:31:21.851Z"
   },
   {
    "duration": 30,
    "start_time": "2021-11-16T17:31:23.426Z"
   },
   {
    "duration": 25,
    "start_time": "2021-11-16T17:31:23.458Z"
   },
   {
    "duration": 85,
    "start_time": "2021-11-16T17:52:42.043Z"
   },
   {
    "duration": 1429,
    "start_time": "2021-11-16T18:01:56.162Z"
   },
   {
    "duration": 7421,
    "start_time": "2021-11-16T18:07:54.046Z"
   },
   {
    "duration": 21,
    "start_time": "2021-11-16T18:09:36.438Z"
   },
   {
    "duration": 1382,
    "start_time": "2021-11-16T18:10:05.603Z"
   },
   {
    "duration": 1508,
    "start_time": "2021-11-16T18:10:15.557Z"
   },
   {
    "duration": 1363,
    "start_time": "2021-11-16T18:10:26.366Z"
   },
   {
    "duration": 1432,
    "start_time": "2021-11-16T18:10:34.149Z"
   },
   {
    "duration": 1363,
    "start_time": "2021-11-16T18:10:42.346Z"
   },
   {
    "duration": 259,
    "start_time": "2021-11-16T18:11:53.559Z"
   },
   {
    "duration": 6638,
    "start_time": "2021-11-16T18:12:36.102Z"
   },
   {
    "duration": 3550,
    "start_time": "2021-11-16T18:13:10.644Z"
   },
   {
    "duration": 121,
    "start_time": "2021-11-16T18:14:21.520Z"
   },
   {
    "duration": 103,
    "start_time": "2021-11-16T18:14:53.596Z"
   },
   {
    "duration": 83,
    "start_time": "2021-11-16T18:15:07.845Z"
   },
   {
    "duration": 84,
    "start_time": "2021-11-16T18:15:33.776Z"
   },
   {
    "duration": 15,
    "start_time": "2021-11-16T18:16:43.142Z"
   },
   {
    "duration": 15,
    "start_time": "2021-11-16T18:17:47.929Z"
   },
   {
    "duration": 11,
    "start_time": "2021-11-16T18:17:53.640Z"
   },
   {
    "duration": 1407,
    "start_time": "2021-11-16T18:18:56.575Z"
   },
   {
    "duration": 9,
    "start_time": "2021-11-16T18:19:09.136Z"
   },
   {
    "duration": 8,
    "start_time": "2021-11-16T18:19:17.460Z"
   },
   {
    "duration": 3508,
    "start_time": "2021-11-16T18:19:49.451Z"
   },
   {
    "duration": 17,
    "start_time": "2021-11-16T18:20:06.785Z"
   },
   {
    "duration": 4350,
    "start_time": "2021-11-16T18:20:14.069Z"
   },
   {
    "duration": 9,
    "start_time": "2021-11-16T18:20:40.909Z"
   },
   {
    "duration": 5,
    "start_time": "2021-11-16T18:26:40.980Z"
   },
   {
    "duration": 12,
    "start_time": "2021-11-16T18:26:47.942Z"
   },
   {
    "duration": 17,
    "start_time": "2021-11-16T18:29:31.118Z"
   },
   {
    "duration": 4,
    "start_time": "2021-11-16T18:29:42.205Z"
   },
   {
    "duration": 380,
    "start_time": "2021-11-16T18:29:42.211Z"
   },
   {
    "duration": 9,
    "start_time": "2021-11-16T18:29:42.594Z"
   },
   {
    "duration": 10,
    "start_time": "2021-11-16T18:29:42.605Z"
   },
   {
    "duration": 11,
    "start_time": "2021-11-16T18:29:42.617Z"
   },
   {
    "duration": 20,
    "start_time": "2021-11-16T18:29:42.630Z"
   },
   {
    "duration": 10,
    "start_time": "2021-11-16T18:29:42.652Z"
   },
   {
    "duration": 16,
    "start_time": "2021-11-16T18:29:42.664Z"
   },
   {
    "duration": 8,
    "start_time": "2021-11-16T18:29:42.683Z"
   },
   {
    "duration": 52,
    "start_time": "2021-11-16T18:29:42.693Z"
   },
   {
    "duration": 10,
    "start_time": "2021-11-16T18:29:42.748Z"
   },
   {
    "duration": 24,
    "start_time": "2021-11-16T18:29:42.760Z"
   },
   {
    "duration": 6,
    "start_time": "2021-11-16T18:29:42.787Z"
   },
   {
    "duration": 54,
    "start_time": "2021-11-16T18:29:42.795Z"
   },
   {
    "duration": 3,
    "start_time": "2021-11-16T18:29:42.851Z"
   },
   {
    "duration": 70,
    "start_time": "2021-11-16T18:29:42.856Z"
   },
   {
    "duration": 30,
    "start_time": "2021-11-16T18:29:42.928Z"
   },
   {
    "duration": 8,
    "start_time": "2021-11-16T18:29:42.960Z"
   },
   {
    "duration": 93,
    "start_time": "2021-11-16T18:29:42.970Z"
   },
   {
    "duration": 3,
    "start_time": "2021-11-16T18:29:43.065Z"
   },
   {
    "duration": 1518,
    "start_time": "2021-11-16T18:29:43.070Z"
   },
   {
    "duration": 7,
    "start_time": "2021-11-16T18:29:44.590Z"
   },
   {
    "duration": 19,
    "start_time": "2021-11-16T18:29:44.599Z"
   },
   {
    "duration": 25,
    "start_time": "2021-11-16T18:29:44.620Z"
   },
   {
    "duration": 19,
    "start_time": "2021-11-16T18:29:44.647Z"
   },
   {
    "duration": 2,
    "start_time": "2021-11-16T18:29:44.668Z"
   },
   {
    "duration": 15,
    "start_time": "2021-11-16T18:29:44.673Z"
   },
   {
    "duration": 1431,
    "start_time": "2021-11-16T18:29:44.689Z"
   },
   {
    "duration": 86,
    "start_time": "2021-11-16T18:29:46.121Z"
   },
   {
    "duration": 8,
    "start_time": "2021-11-16T18:30:12.903Z"
   },
   {
    "duration": 1356,
    "start_time": "2021-11-16T18:30:55.029Z"
   },
   {
    "duration": 1516,
    "start_time": "2021-11-17T14:22:23.936Z"
   },
   {
    "duration": 588,
    "start_time": "2021-11-17T14:22:25.454Z"
   },
   {
    "duration": 33,
    "start_time": "2021-11-17T14:22:26.046Z"
   },
   {
    "duration": 11,
    "start_time": "2021-11-17T14:22:26.082Z"
   },
   {
    "duration": 18,
    "start_time": "2021-11-17T14:22:26.096Z"
   },
   {
    "duration": 59,
    "start_time": "2021-11-17T14:22:26.117Z"
   },
   {
    "duration": 14,
    "start_time": "2021-11-17T14:22:26.180Z"
   },
   {
    "duration": 27,
    "start_time": "2021-11-17T14:22:26.197Z"
   },
   {
    "duration": 50,
    "start_time": "2021-11-17T14:22:26.228Z"
   },
   {
    "duration": 25,
    "start_time": "2021-11-17T14:22:26.281Z"
   },
   {
    "duration": 10,
    "start_time": "2021-11-17T14:22:26.309Z"
   },
   {
    "duration": 68,
    "start_time": "2021-11-17T14:22:26.322Z"
   },
   {
    "duration": 7,
    "start_time": "2021-11-17T14:22:26.393Z"
   },
   {
    "duration": 21,
    "start_time": "2021-11-17T14:22:26.402Z"
   },
   {
    "duration": 44,
    "start_time": "2021-11-17T14:22:26.425Z"
   },
   {
    "duration": 111,
    "start_time": "2021-11-17T14:22:26.471Z"
   },
   {
    "duration": 22,
    "start_time": "2021-11-17T14:22:26.585Z"
   },
   {
    "duration": 11,
    "start_time": "2021-11-17T14:22:26.609Z"
   },
   {
    "duration": 134,
    "start_time": "2021-11-17T14:22:26.623Z"
   },
   {
    "duration": 8,
    "start_time": "2021-11-17T14:22:26.760Z"
   },
   {
    "duration": 2464,
    "start_time": "2021-11-17T14:22:26.770Z"
   },
   {
    "duration": 11,
    "start_time": "2021-11-17T14:22:29.237Z"
   },
   {
    "duration": 36,
    "start_time": "2021-11-17T14:22:29.251Z"
   },
   {
    "duration": 10,
    "start_time": "2021-11-17T14:22:29.290Z"
   },
   {
    "duration": 66,
    "start_time": "2021-11-17T14:22:29.303Z"
   },
   {
    "duration": 12,
    "start_time": "2021-11-17T14:22:29.372Z"
   },
   {
    "duration": 3338,
    "start_time": "2021-11-17T14:22:29.389Z"
   },
   {
    "duration": 89,
    "start_time": "2021-11-17T14:22:32.730Z"
   },
   {
    "duration": 6,
    "start_time": "2021-11-17T14:29:52.526Z"
   },
   {
    "duration": 4,
    "start_time": "2021-11-17T14:36:02.865Z"
   },
   {
    "duration": 552,
    "start_time": "2021-11-17T14:36:02.872Z"
   },
   {
    "duration": 15,
    "start_time": "2021-11-17T14:36:03.427Z"
   },
   {
    "duration": 30,
    "start_time": "2021-11-17T14:36:03.445Z"
   },
   {
    "duration": 22,
    "start_time": "2021-11-17T14:36:03.478Z"
   },
   {
    "duration": 15,
    "start_time": "2021-11-17T14:36:03.504Z"
   },
   {
    "duration": 52,
    "start_time": "2021-11-17T14:36:03.523Z"
   },
   {
    "duration": 20,
    "start_time": "2021-11-17T14:36:03.578Z"
   },
   {
    "duration": 64,
    "start_time": "2021-11-17T14:36:03.603Z"
   },
   {
    "duration": 25,
    "start_time": "2021-11-17T14:36:03.671Z"
   },
   {
    "duration": 18,
    "start_time": "2021-11-17T14:36:03.698Z"
   },
   {
    "duration": 59,
    "start_time": "2021-11-17T14:36:03.718Z"
   },
   {
    "duration": 8,
    "start_time": "2021-11-17T14:36:03.780Z"
   },
   {
    "duration": 42,
    "start_time": "2021-11-17T14:36:03.790Z"
   },
   {
    "duration": 9,
    "start_time": "2021-11-17T14:36:03.835Z"
   },
   {
    "duration": 106,
    "start_time": "2021-11-17T14:36:03.846Z"
   },
   {
    "duration": 33,
    "start_time": "2021-11-17T14:36:03.955Z"
   },
   {
    "duration": 10,
    "start_time": "2021-11-17T14:36:03.990Z"
   },
   {
    "duration": 11,
    "start_time": "2021-11-17T14:36:04.003Z"
   },
   {
    "duration": 70,
    "start_time": "2021-11-17T14:36:04.017Z"
   },
   {
    "duration": 397,
    "start_time": "2021-11-17T14:36:04.090Z"
   },
   {
    "duration": -1992,
    "start_time": "2021-11-17T14:36:06.483Z"
   },
   {
    "duration": -2005,
    "start_time": "2021-11-17T14:36:06.498Z"
   },
   {
    "duration": -2003,
    "start_time": "2021-11-17T14:36:06.499Z"
   },
   {
    "duration": -2002,
    "start_time": "2021-11-17T14:36:06.500Z"
   },
   {
    "duration": -2006,
    "start_time": "2021-11-17T14:36:06.507Z"
   },
   {
    "duration": -2005,
    "start_time": "2021-11-17T14:36:06.508Z"
   },
   {
    "duration": -2011,
    "start_time": "2021-11-17T14:36:06.516Z"
   },
   {
    "duration": -2010,
    "start_time": "2021-11-17T14:36:06.517Z"
   },
   {
    "duration": -2009,
    "start_time": "2021-11-17T14:36:06.518Z"
   },
   {
    "duration": -2010,
    "start_time": "2021-11-17T14:36:06.521Z"
   },
   {
    "duration": 4,
    "start_time": "2021-11-17T14:37:02.037Z"
   },
   {
    "duration": 33,
    "start_time": "2021-11-17T14:37:02.964Z"
   },
   {
    "duration": 5,
    "start_time": "2021-11-17T14:37:32.213Z"
   },
   {
    "duration": 30,
    "start_time": "2021-11-17T14:37:33.186Z"
   },
   {
    "duration": 7,
    "start_time": "2021-11-17T14:37:40.644Z"
   },
   {
    "duration": 519,
    "start_time": "2021-11-17T14:37:40.654Z"
   },
   {
    "duration": 14,
    "start_time": "2021-11-17T14:37:41.176Z"
   },
   {
    "duration": 12,
    "start_time": "2021-11-17T14:37:41.192Z"
   },
   {
    "duration": 18,
    "start_time": "2021-11-17T14:37:41.207Z"
   },
   {
    "duration": 44,
    "start_time": "2021-11-17T14:37:41.227Z"
   },
   {
    "duration": 16,
    "start_time": "2021-11-17T14:37:41.273Z"
   },
   {
    "duration": 24,
    "start_time": "2021-11-17T14:37:41.292Z"
   },
   {
    "duration": 48,
    "start_time": "2021-11-17T14:37:41.319Z"
   },
   {
    "duration": 23,
    "start_time": "2021-11-17T14:37:41.370Z"
   },
   {
    "duration": 12,
    "start_time": "2021-11-17T14:37:41.395Z"
   },
   {
    "duration": 71,
    "start_time": "2021-11-17T14:37:41.409Z"
   },
   {
    "duration": 8,
    "start_time": "2021-11-17T14:37:41.482Z"
   },
   {
    "duration": 24,
    "start_time": "2021-11-17T14:37:41.493Z"
   },
   {
    "duration": 47,
    "start_time": "2021-11-17T14:37:41.520Z"
   },
   {
    "duration": 114,
    "start_time": "2021-11-17T14:37:41.571Z"
   },
   {
    "duration": 26,
    "start_time": "2021-11-17T14:37:41.688Z"
   },
   {
    "duration": 14,
    "start_time": "2021-11-17T14:37:41.717Z"
   },
   {
    "duration": 6,
    "start_time": "2021-11-17T14:37:41.768Z"
   },
   {
    "duration": 35,
    "start_time": "2021-11-17T14:37:41.778Z"
   },
   {
    "duration": 264,
    "start_time": "2021-11-17T14:37:41.816Z"
   },
   {
    "duration": -2005,
    "start_time": "2021-11-17T14:37:44.088Z"
   },
   {
    "duration": -2006,
    "start_time": "2021-11-17T14:37:44.090Z"
   },
   {
    "duration": -2005,
    "start_time": "2021-11-17T14:37:44.091Z"
   },
   {
    "duration": -2006,
    "start_time": "2021-11-17T14:37:44.093Z"
   },
   {
    "duration": -2021,
    "start_time": "2021-11-17T14:37:44.109Z"
   },
   {
    "duration": -2020,
    "start_time": "2021-11-17T14:37:44.110Z"
   },
   {
    "duration": -2021,
    "start_time": "2021-11-17T14:37:44.112Z"
   },
   {
    "duration": -2314,
    "start_time": "2021-11-17T14:37:44.406Z"
   },
   {
    "duration": -2385,
    "start_time": "2021-11-17T14:37:44.478Z"
   },
   {
    "duration": -2385,
    "start_time": "2021-11-17T14:37:44.480Z"
   },
   {
    "duration": 10,
    "start_time": "2021-11-17T14:41:52.057Z"
   },
   {
    "duration": 5,
    "start_time": "2021-11-17T14:45:36.929Z"
   },
   {
    "duration": 539,
    "start_time": "2021-11-17T14:45:36.936Z"
   },
   {
    "duration": 15,
    "start_time": "2021-11-17T14:45:37.478Z"
   },
   {
    "duration": 13,
    "start_time": "2021-11-17T14:45:37.495Z"
   },
   {
    "duration": 17,
    "start_time": "2021-11-17T14:45:37.510Z"
   },
   {
    "duration": 47,
    "start_time": "2021-11-17T14:45:37.529Z"
   },
   {
    "duration": 17,
    "start_time": "2021-11-17T14:45:37.579Z"
   },
   {
    "duration": 22,
    "start_time": "2021-11-17T14:45:37.598Z"
   },
   {
    "duration": 50,
    "start_time": "2021-11-17T14:45:37.624Z"
   },
   {
    "duration": 27,
    "start_time": "2021-11-17T14:45:37.677Z"
   },
   {
    "duration": 11,
    "start_time": "2021-11-17T14:45:37.706Z"
   },
   {
    "duration": 70,
    "start_time": "2021-11-17T14:45:37.720Z"
   },
   {
    "duration": 8,
    "start_time": "2021-11-17T14:45:37.793Z"
   },
   {
    "duration": 22,
    "start_time": "2021-11-17T14:45:37.803Z"
   },
   {
    "duration": 6,
    "start_time": "2021-11-17T14:45:37.828Z"
   },
   {
    "duration": 122,
    "start_time": "2021-11-17T14:45:37.870Z"
   },
   {
    "duration": 26,
    "start_time": "2021-11-17T14:45:37.994Z"
   },
   {
    "duration": 11,
    "start_time": "2021-11-17T14:45:38.022Z"
   },
   {
    "duration": 31,
    "start_time": "2021-11-17T14:45:38.036Z"
   },
   {
    "duration": 157,
    "start_time": "2021-11-17T14:45:38.070Z"
   },
   {
    "duration": 39,
    "start_time": "2021-11-17T14:45:38.230Z"
   },
   {
    "duration": 21,
    "start_time": "2021-11-17T14:45:38.271Z"
   },
   {
    "duration": 26,
    "start_time": "2021-11-17T14:45:38.295Z"
   },
   {
    "duration": 56,
    "start_time": "2021-11-17T14:45:38.324Z"
   },
   {
    "duration": 6,
    "start_time": "2021-11-17T14:45:38.383Z"
   },
   {
    "duration": 3209,
    "start_time": "2021-11-17T14:45:38.392Z"
   },
   {
    "duration": 16,
    "start_time": "2021-11-17T14:45:41.609Z"
   },
   {
    "duration": 57,
    "start_time": "2021-11-17T14:45:41.629Z"
   },
   {
    "duration": 14,
    "start_time": "2021-11-17T14:45:41.689Z"
   },
   {
    "duration": 28,
    "start_time": "2021-11-17T14:45:41.705Z"
   },
   {
    "duration": 39,
    "start_time": "2021-11-17T14:45:41.736Z"
   },
   {
    "duration": 2694,
    "start_time": "2021-11-17T14:45:41.777Z"
   },
   {
    "duration": 84,
    "start_time": "2021-11-17T14:45:44.473Z"
   },
   {
    "duration": 5,
    "start_time": "2021-11-17T14:51:33.175Z"
   },
   {
    "duration": 560,
    "start_time": "2021-11-17T14:51:33.182Z"
   },
   {
    "duration": 25,
    "start_time": "2021-11-17T14:51:33.745Z"
   },
   {
    "duration": 25,
    "start_time": "2021-11-17T14:51:33.773Z"
   },
   {
    "duration": 17,
    "start_time": "2021-11-17T14:51:33.800Z"
   },
   {
    "duration": 15,
    "start_time": "2021-11-17T14:51:33.819Z"
   },
   {
    "duration": 37,
    "start_time": "2021-11-17T14:51:33.836Z"
   },
   {
    "duration": 26,
    "start_time": "2021-11-17T14:51:33.875Z"
   },
   {
    "duration": 13,
    "start_time": "2021-11-17T14:51:33.905Z"
   },
   {
    "duration": 61,
    "start_time": "2021-11-17T14:51:33.923Z"
   },
   {
    "duration": 15,
    "start_time": "2021-11-17T14:51:33.987Z"
   },
   {
    "duration": 75,
    "start_time": "2021-11-17T14:51:34.005Z"
   },
   {
    "duration": 8,
    "start_time": "2021-11-17T14:51:34.083Z"
   },
   {
    "duration": 21,
    "start_time": "2021-11-17T14:51:34.093Z"
   },
   {
    "duration": 7,
    "start_time": "2021-11-17T14:51:34.116Z"
   },
   {
    "duration": 141,
    "start_time": "2021-11-17T14:51:34.126Z"
   },
   {
    "duration": 24,
    "start_time": "2021-11-17T14:51:34.270Z"
   },
   {
    "duration": 12,
    "start_time": "2021-11-17T14:51:34.296Z"
   },
   {
    "duration": 18,
    "start_time": "2021-11-17T14:51:34.311Z"
   },
   {
    "duration": 173,
    "start_time": "2021-11-17T14:51:34.332Z"
   },
   {
    "duration": 4,
    "start_time": "2021-11-17T14:51:34.508Z"
   },
   {
    "duration": 2441,
    "start_time": "2021-11-17T14:51:34.515Z"
   },
   {
    "duration": 17,
    "start_time": "2021-11-17T14:51:36.959Z"
   },
   {
    "duration": 22,
    "start_time": "2021-11-17T14:51:36.978Z"
   },
   {
    "duration": 9,
    "start_time": "2021-11-17T14:51:37.003Z"
   },
   {
    "duration": 69,
    "start_time": "2021-11-17T14:51:37.014Z"
   },
   {
    "duration": 11,
    "start_time": "2021-11-17T14:51:37.087Z"
   },
   {
    "duration": 2553,
    "start_time": "2021-11-17T14:51:37.101Z"
   },
   {
    "duration": 85,
    "start_time": "2021-11-17T14:51:39.656Z"
   },
   {
    "duration": 23,
    "start_time": "2021-11-17T15:18:21.314Z"
   },
   {
    "duration": 18,
    "start_time": "2021-11-17T15:18:49.965Z"
   },
   {
    "duration": 17,
    "start_time": "2021-11-17T15:19:18.223Z"
   },
   {
    "duration": 17,
    "start_time": "2021-11-17T15:20:01.288Z"
   },
   {
    "duration": 264,
    "start_time": "2021-11-17T15:23:33.509Z"
   },
   {
    "duration": 263,
    "start_time": "2021-11-17T15:25:08.461Z"
   },
   {
    "duration": 260,
    "start_time": "2021-11-17T15:27:45.151Z"
   },
   {
    "duration": 260,
    "start_time": "2021-11-17T15:29:36.316Z"
   },
   {
    "duration": 8,
    "start_time": "2021-11-17T15:33:44.468Z"
   },
   {
    "duration": 31,
    "start_time": "2021-11-17T15:33:51.649Z"
   },
   {
    "duration": 44,
    "start_time": "2021-11-17T15:34:07.841Z"
   },
   {
    "duration": 5,
    "start_time": "2021-11-17T15:39:46.023Z"
   },
   {
    "duration": 26,
    "start_time": "2021-11-17T15:39:53.805Z"
   },
   {
    "duration": 16,
    "start_time": "2021-11-17T15:40:19.078Z"
   },
   {
    "duration": 11,
    "start_time": "2021-11-17T15:40:24.038Z"
   },
   {
    "duration": 27,
    "start_time": "2021-11-17T15:41:06.480Z"
   },
   {
    "duration": 34,
    "start_time": "2021-11-17T15:44:23.017Z"
   },
   {
    "duration": 278,
    "start_time": "2021-11-17T15:45:16.381Z"
   },
   {
    "duration": 7,
    "start_time": "2021-11-17T15:45:35.969Z"
   },
   {
    "duration": 39,
    "start_time": "2021-11-17T15:47:20.698Z"
   },
   {
    "duration": 27,
    "start_time": "2021-11-17T15:48:41.646Z"
   },
   {
    "duration": 5,
    "start_time": "2021-11-17T15:49:47.506Z"
   },
   {
    "duration": 526,
    "start_time": "2021-11-17T15:49:47.514Z"
   },
   {
    "duration": 24,
    "start_time": "2021-11-17T15:49:48.043Z"
   },
   {
    "duration": 9,
    "start_time": "2021-11-17T15:49:48.070Z"
   },
   {
    "duration": 15,
    "start_time": "2021-11-17T15:49:48.082Z"
   },
   {
    "duration": 12,
    "start_time": "2021-11-17T15:49:48.099Z"
   },
   {
    "duration": 60,
    "start_time": "2021-11-17T15:49:48.113Z"
   },
   {
    "duration": 22,
    "start_time": "2021-11-17T15:49:48.176Z"
   },
   {
    "duration": 12,
    "start_time": "2021-11-17T15:49:48.203Z"
   },
   {
    "duration": 60,
    "start_time": "2021-11-17T15:49:48.219Z"
   },
   {
    "duration": 12,
    "start_time": "2021-11-17T15:49:48.282Z"
   },
   {
    "duration": 29,
    "start_time": "2021-11-17T15:49:48.297Z"
   },
   {
    "duration": 42,
    "start_time": "2021-11-17T15:49:48.329Z"
   },
   {
    "duration": 22,
    "start_time": "2021-11-17T15:49:48.373Z"
   },
   {
    "duration": 9,
    "start_time": "2021-11-17T15:49:48.399Z"
   },
   {
    "duration": 142,
    "start_time": "2021-11-17T15:49:48.411Z"
   },
   {
    "duration": 28,
    "start_time": "2021-11-17T15:49:48.556Z"
   },
   {
    "duration": 12,
    "start_time": "2021-11-17T15:49:48.586Z"
   },
   {
    "duration": 7,
    "start_time": "2021-11-17T15:49:48.601Z"
   },
   {
    "duration": 190,
    "start_time": "2021-11-17T15:49:48.611Z"
   },
   {
    "duration": 4,
    "start_time": "2021-11-17T15:49:48.804Z"
   },
   {
    "duration": 2473,
    "start_time": "2021-11-17T15:49:48.810Z"
   },
   {
    "duration": 12,
    "start_time": "2021-11-17T15:49:51.286Z"
   },
   {
    "duration": 25,
    "start_time": "2021-11-17T15:49:51.301Z"
   },
   {
    "duration": 41,
    "start_time": "2021-11-17T15:49:51.329Z"
   },
   {
    "duration": 30,
    "start_time": "2021-11-17T15:49:51.372Z"
   },
   {
    "duration": 12,
    "start_time": "2021-11-17T15:49:51.407Z"
   },
   {
    "duration": 45,
    "start_time": "2021-11-17T15:49:51.422Z"
   },
   {
    "duration": 30,
    "start_time": "2021-11-17T15:49:51.470Z"
   },
   {
    "duration": 28,
    "start_time": "2021-11-17T15:52:22.577Z"
   },
   {
    "duration": 20,
    "start_time": "2021-11-17T15:52:36.254Z"
   },
   {
    "duration": 9,
    "start_time": "2021-11-17T15:54:10.406Z"
   },
   {
    "duration": 11,
    "start_time": "2021-11-17T15:54:22.358Z"
   },
   {
    "duration": 8,
    "start_time": "2021-11-17T15:54:26.703Z"
   },
   {
    "duration": 10,
    "start_time": "2021-11-17T15:54:31.252Z"
   },
   {
    "duration": 8,
    "start_time": "2021-11-17T15:54:35.544Z"
   },
   {
    "duration": 11,
    "start_time": "2021-11-17T15:54:41.988Z"
   },
   {
    "duration": 377,
    "start_time": "2021-11-17T16:02:16.346Z"
   },
   {
    "duration": 20,
    "start_time": "2021-11-17T16:02:20.730Z"
   },
   {
    "duration": 83,
    "start_time": "2021-11-17T16:04:42.689Z"
   },
   {
    "duration": 27,
    "start_time": "2021-11-17T16:13:33.469Z"
   },
   {
    "duration": 1011,
    "start_time": "2021-11-17T16:14:04.503Z"
   },
   {
    "duration": 1031,
    "start_time": "2021-11-17T16:17:24.242Z"
   },
   {
    "duration": 6,
    "start_time": "2021-11-17T16:22:22.978Z"
   },
   {
    "duration": 5,
    "start_time": "2021-11-17T16:22:33.836Z"
   },
   {
    "duration": 277,
    "start_time": "2021-11-17T16:25:35.207Z"
   },
   {
    "duration": 3,
    "start_time": "2021-11-17T16:25:52.274Z"
   },
   {
    "duration": 19,
    "start_time": "2021-11-17T16:29:40.182Z"
   },
   {
    "duration": 258,
    "start_time": "2021-11-17T16:29:52.076Z"
   },
   {
    "duration": 259,
    "start_time": "2021-11-17T16:30:15.705Z"
   },
   {
    "duration": 6,
    "start_time": "2021-11-17T16:30:20.195Z"
   },
   {
    "duration": 498,
    "start_time": "2021-11-17T16:30:20.205Z"
   },
   {
    "duration": 15,
    "start_time": "2021-11-17T16:30:20.705Z"
   },
   {
    "duration": 26,
    "start_time": "2021-11-17T16:30:20.722Z"
   },
   {
    "duration": 25,
    "start_time": "2021-11-17T16:30:20.751Z"
   },
   {
    "duration": 20,
    "start_time": "2021-11-17T16:30:20.778Z"
   },
   {
    "duration": 14,
    "start_time": "2021-11-17T16:30:20.800Z"
   },
   {
    "duration": 57,
    "start_time": "2021-11-17T16:30:20.817Z"
   },
   {
    "duration": 12,
    "start_time": "2021-11-17T16:30:20.879Z"
   },
   {
    "duration": 38,
    "start_time": "2021-11-17T16:30:20.894Z"
   },
   {
    "duration": 38,
    "start_time": "2021-11-17T16:30:20.935Z"
   },
   {
    "duration": 34,
    "start_time": "2021-11-17T16:30:20.976Z"
   },
   {
    "duration": 9,
    "start_time": "2021-11-17T16:30:21.013Z"
   },
   {
    "duration": 17,
    "start_time": "2021-11-17T16:30:21.067Z"
   },
   {
    "duration": 7,
    "start_time": "2021-11-17T16:30:21.086Z"
   },
   {
    "duration": 123,
    "start_time": "2021-11-17T16:30:21.095Z"
   },
   {
    "duration": 25,
    "start_time": "2021-11-17T16:30:21.220Z"
   },
   {
    "duration": 11,
    "start_time": "2021-11-17T16:30:21.267Z"
   },
   {
    "duration": 11,
    "start_time": "2021-11-17T16:30:21.281Z"
   },
   {
    "duration": 153,
    "start_time": "2021-11-17T16:30:21.294Z"
   },
   {
    "duration": 4,
    "start_time": "2021-11-17T16:30:21.450Z"
   },
   {
    "duration": 2574,
    "start_time": "2021-11-17T16:30:21.468Z"
   },
   {
    "duration": 25,
    "start_time": "2021-11-17T16:30:24.044Z"
   },
   {
    "duration": 30,
    "start_time": "2021-11-17T16:30:24.071Z"
   },
   {
    "duration": 11,
    "start_time": "2021-11-17T16:30:24.103Z"
   },
   {
    "duration": 56,
    "start_time": "2021-11-17T16:30:24.116Z"
   },
   {
    "duration": 11,
    "start_time": "2021-11-17T16:30:24.176Z"
   },
   {
    "duration": 10,
    "start_time": "2021-11-17T16:30:24.190Z"
   },
   {
    "duration": 20,
    "start_time": "2021-11-17T16:30:24.203Z"
   },
   {
    "duration": 54,
    "start_time": "2021-11-17T16:30:24.226Z"
   },
   {
    "duration": 19,
    "start_time": "2021-11-17T16:30:24.283Z"
   },
   {
    "duration": 27,
    "start_time": "2021-11-17T16:30:24.305Z"
   },
   {
    "duration": 139,
    "start_time": "2021-11-17T16:30:24.367Z"
   },
   {
    "duration": 31,
    "start_time": "2021-11-17T16:30:36.081Z"
   },
   {
    "duration": 268,
    "start_time": "2021-11-17T16:31:31.719Z"
   },
   {
    "duration": 262,
    "start_time": "2021-11-17T16:31:41.636Z"
   },
   {
    "duration": 5,
    "start_time": "2021-11-17T16:31:48.929Z"
   },
   {
    "duration": 558,
    "start_time": "2021-11-17T16:31:48.937Z"
   },
   {
    "duration": 16,
    "start_time": "2021-11-17T16:31:49.498Z"
   },
   {
    "duration": 14,
    "start_time": "2021-11-17T16:31:49.517Z"
   },
   {
    "duration": 45,
    "start_time": "2021-11-17T16:31:49.534Z"
   },
   {
    "duration": 13,
    "start_time": "2021-11-17T16:31:49.582Z"
   },
   {
    "duration": 17,
    "start_time": "2021-11-17T16:31:49.597Z"
   },
   {
    "duration": 66,
    "start_time": "2021-11-17T16:31:49.617Z"
   },
   {
    "duration": 18,
    "start_time": "2021-11-17T16:31:49.690Z"
   },
   {
    "duration": 63,
    "start_time": "2021-11-17T16:31:49.713Z"
   },
   {
    "duration": 12,
    "start_time": "2021-11-17T16:31:49.779Z"
   },
   {
    "duration": 30,
    "start_time": "2021-11-17T16:31:49.793Z"
   },
   {
    "duration": 45,
    "start_time": "2021-11-17T16:31:49.826Z"
   },
   {
    "duration": 25,
    "start_time": "2021-11-17T16:31:49.874Z"
   },
   {
    "duration": 14,
    "start_time": "2021-11-17T16:31:49.902Z"
   },
   {
    "duration": 127,
    "start_time": "2021-11-17T16:31:49.919Z"
   },
   {
    "duration": 28,
    "start_time": "2021-11-17T16:31:50.049Z"
   },
   {
    "duration": 11,
    "start_time": "2021-11-17T16:31:50.079Z"
   },
   {
    "duration": 7,
    "start_time": "2021-11-17T16:31:50.093Z"
   },
   {
    "duration": 177,
    "start_time": "2021-11-17T16:31:50.102Z"
   },
   {
    "duration": 5,
    "start_time": "2021-11-17T16:31:50.282Z"
   },
   {
    "duration": 2533,
    "start_time": "2021-11-17T16:31:50.289Z"
   },
   {
    "duration": 12,
    "start_time": "2021-11-17T16:31:52.824Z"
   },
   {
    "duration": 41,
    "start_time": "2021-11-17T16:31:52.839Z"
   },
   {
    "duration": 9,
    "start_time": "2021-11-17T16:31:52.883Z"
   },
   {
    "duration": 37,
    "start_time": "2021-11-17T16:31:52.894Z"
   },
   {
    "duration": 37,
    "start_time": "2021-11-17T16:31:52.936Z"
   },
   {
    "duration": 9,
    "start_time": "2021-11-17T16:31:52.976Z"
   },
   {
    "duration": 26,
    "start_time": "2021-11-17T16:31:52.987Z"
   },
   {
    "duration": 54,
    "start_time": "2021-11-17T16:31:53.015Z"
   },
   {
    "duration": 21,
    "start_time": "2021-11-17T16:31:53.071Z"
   },
   {
    "duration": 33,
    "start_time": "2021-11-17T16:31:53.094Z"
   },
   {
    "duration": 60,
    "start_time": "2021-11-17T16:31:53.131Z"
   },
   {
    "duration": 83,
    "start_time": "2021-11-17T16:31:53.193Z"
   },
   {
    "duration": 20,
    "start_time": "2021-11-17T16:32:12.460Z"
   },
   {
    "duration": 31,
    "start_time": "2021-11-17T16:32:18.229Z"
   },
   {
    "duration": 39,
    "start_time": "2021-11-17T16:33:04.155Z"
   },
   {
    "duration": 37,
    "start_time": "2021-11-17T16:33:11.046Z"
   },
   {
    "duration": 86,
    "start_time": "2021-11-17T16:33:45.899Z"
   },
   {
    "duration": 5,
    "start_time": "2021-11-17T16:33:51.150Z"
   },
   {
    "duration": 518,
    "start_time": "2021-11-17T16:33:51.158Z"
   },
   {
    "duration": 15,
    "start_time": "2021-11-17T16:33:51.679Z"
   },
   {
    "duration": 13,
    "start_time": "2021-11-17T16:33:51.697Z"
   },
   {
    "duration": 19,
    "start_time": "2021-11-17T16:33:51.712Z"
   },
   {
    "duration": 44,
    "start_time": "2021-11-17T16:33:51.733Z"
   },
   {
    "duration": 34,
    "start_time": "2021-11-17T16:33:51.779Z"
   },
   {
    "duration": 21,
    "start_time": "2021-11-17T16:33:51.816Z"
   },
   {
    "duration": 36,
    "start_time": "2021-11-17T16:33:51.841Z"
   },
   {
    "duration": 24,
    "start_time": "2021-11-17T16:33:51.881Z"
   },
   {
    "duration": 12,
    "start_time": "2021-11-17T16:33:51.907Z"
   },
   {
    "duration": 67,
    "start_time": "2021-11-17T16:33:51.921Z"
   },
   {
    "duration": 7,
    "start_time": "2021-11-17T16:33:51.991Z"
   },
   {
    "duration": 25,
    "start_time": "2021-11-17T16:33:52.001Z"
   },
   {
    "duration": 40,
    "start_time": "2021-11-17T16:33:52.028Z"
   },
   {
    "duration": 107,
    "start_time": "2021-11-17T16:33:52.070Z"
   },
   {
    "duration": 24,
    "start_time": "2021-11-17T16:33:52.179Z"
   },
   {
    "duration": 11,
    "start_time": "2021-11-17T16:33:52.205Z"
   },
   {
    "duration": 9,
    "start_time": "2021-11-17T16:33:52.218Z"
   },
   {
    "duration": 174,
    "start_time": "2021-11-17T16:33:52.229Z"
   },
   {
    "duration": 4,
    "start_time": "2021-11-17T16:33:52.405Z"
   },
   {
    "duration": 2589,
    "start_time": "2021-11-17T16:33:52.411Z"
   },
   {
    "duration": 11,
    "start_time": "2021-11-17T16:33:55.003Z"
   },
   {
    "duration": 50,
    "start_time": "2021-11-17T16:33:55.016Z"
   },
   {
    "duration": 10,
    "start_time": "2021-11-17T16:33:55.068Z"
   },
   {
    "duration": 33,
    "start_time": "2021-11-17T16:33:55.080Z"
   },
   {
    "duration": 11,
    "start_time": "2021-11-17T16:33:55.118Z"
   },
   {
    "duration": 39,
    "start_time": "2021-11-17T16:33:55.131Z"
   },
   {
    "duration": 20,
    "start_time": "2021-11-17T16:33:55.172Z"
   },
   {
    "duration": 17,
    "start_time": "2021-11-17T16:33:55.195Z"
   },
   {
    "duration": 94,
    "start_time": "2021-11-17T16:33:55.214Z"
   },
   {
    "duration": -55,
    "start_time": "2021-11-17T16:33:55.366Z"
   },
   {
    "duration": -58,
    "start_time": "2021-11-17T16:33:55.370Z"
   },
   {
    "duration": -59,
    "start_time": "2021-11-17T16:33:55.373Z"
   },
   {
    "duration": 17,
    "start_time": "2021-11-17T16:34:43.611Z"
   },
   {
    "duration": 32,
    "start_time": "2021-11-17T16:34:46.349Z"
   },
   {
    "duration": 308,
    "start_time": "2021-11-17T16:34:59.984Z"
   },
   {
    "duration": 4,
    "start_time": "2021-11-17T16:35:06.733Z"
   },
   {
    "duration": 530,
    "start_time": "2021-11-17T16:35:06.740Z"
   },
   {
    "duration": 15,
    "start_time": "2021-11-17T16:35:07.273Z"
   },
   {
    "duration": 14,
    "start_time": "2021-11-17T16:35:07.290Z"
   },
   {
    "duration": 14,
    "start_time": "2021-11-17T16:35:07.306Z"
   },
   {
    "duration": 45,
    "start_time": "2021-11-17T16:35:07.322Z"
   },
   {
    "duration": 13,
    "start_time": "2021-11-17T16:35:07.370Z"
   },
   {
    "duration": 22,
    "start_time": "2021-11-17T16:35:07.386Z"
   },
   {
    "duration": 55,
    "start_time": "2021-11-17T16:35:07.412Z"
   },
   {
    "duration": 24,
    "start_time": "2021-11-17T16:35:07.471Z"
   },
   {
    "duration": 16,
    "start_time": "2021-11-17T16:35:07.498Z"
   },
   {
    "duration": 74,
    "start_time": "2021-11-17T16:35:07.516Z"
   },
   {
    "duration": 13,
    "start_time": "2021-11-17T16:35:07.592Z"
   },
   {
    "duration": 23,
    "start_time": "2021-11-17T16:35:07.607Z"
   },
   {
    "duration": 7,
    "start_time": "2021-11-17T16:35:07.632Z"
   },
   {
    "duration": 123,
    "start_time": "2021-11-17T16:35:07.669Z"
   },
   {
    "duration": 26,
    "start_time": "2021-11-17T16:35:07.794Z"
   },
   {
    "duration": 11,
    "start_time": "2021-11-17T16:35:07.824Z"
   },
   {
    "duration": 32,
    "start_time": "2021-11-17T16:35:07.839Z"
   },
   {
    "duration": 159,
    "start_time": "2021-11-17T16:35:07.874Z"
   },
   {
    "duration": 5,
    "start_time": "2021-11-17T16:35:08.036Z"
   },
   {
    "duration": 2443,
    "start_time": "2021-11-17T16:35:08.045Z"
   },
   {
    "duration": 14,
    "start_time": "2021-11-17T16:35:10.491Z"
   },
   {
    "duration": 32,
    "start_time": "2021-11-17T16:35:10.508Z"
   },
   {
    "duration": 11,
    "start_time": "2021-11-17T16:35:10.568Z"
   },
   {
    "duration": 34,
    "start_time": "2021-11-17T16:35:10.582Z"
   },
   {
    "duration": 11,
    "start_time": "2021-11-17T16:35:10.621Z"
   },
   {
    "duration": 39,
    "start_time": "2021-11-17T16:35:10.634Z"
   },
   {
    "duration": 19,
    "start_time": "2021-11-17T16:35:10.676Z"
   },
   {
    "duration": 18,
    "start_time": "2021-11-17T16:35:10.697Z"
   },
   {
    "duration": 63,
    "start_time": "2021-11-17T16:35:10.717Z"
   },
   {
    "duration": 33,
    "start_time": "2021-11-17T16:35:10.782Z"
   },
   {
    "duration": 60,
    "start_time": "2021-11-17T16:35:10.817Z"
   },
   {
    "duration": 102,
    "start_time": "2021-11-17T16:35:10.880Z"
   },
   {
    "duration": 267,
    "start_time": "2021-11-17T16:37:18.931Z"
   },
   {
    "duration": 4,
    "start_time": "2021-11-17T16:37:26.393Z"
   },
   {
    "duration": 512,
    "start_time": "2021-11-17T16:37:26.400Z"
   },
   {
    "duration": 15,
    "start_time": "2021-11-17T16:37:26.916Z"
   },
   {
    "duration": 34,
    "start_time": "2021-11-17T16:37:26.934Z"
   },
   {
    "duration": 12,
    "start_time": "2021-11-17T16:37:26.971Z"
   },
   {
    "duration": 11,
    "start_time": "2021-11-17T16:37:26.986Z"
   },
   {
    "duration": 19,
    "start_time": "2021-11-17T16:37:26.999Z"
   },
   {
    "duration": 59,
    "start_time": "2021-11-17T16:37:27.020Z"
   },
   {
    "duration": 12,
    "start_time": "2021-11-17T16:37:27.084Z"
   },
   {
    "duration": 25,
    "start_time": "2021-11-17T16:37:27.099Z"
   },
   {
    "duration": 51,
    "start_time": "2021-11-17T16:37:27.126Z"
   },
   {
    "duration": 27,
    "start_time": "2021-11-17T16:37:27.179Z"
   },
   {
    "duration": 8,
    "start_time": "2021-11-17T16:37:27.208Z"
   },
   {
    "duration": 60,
    "start_time": "2021-11-17T16:37:27.219Z"
   },
   {
    "duration": 6,
    "start_time": "2021-11-17T16:37:27.281Z"
   },
   {
    "duration": 120,
    "start_time": "2021-11-17T16:37:27.289Z"
   },
   {
    "duration": 24,
    "start_time": "2021-11-17T16:37:27.412Z"
   },
   {
    "duration": 32,
    "start_time": "2021-11-17T16:37:27.439Z"
   },
   {
    "duration": 14,
    "start_time": "2021-11-17T16:37:27.473Z"
   },
   {
    "duration": 144,
    "start_time": "2021-11-17T16:37:27.489Z"
   },
   {
    "duration": 4,
    "start_time": "2021-11-17T16:37:27.636Z"
   },
   {
    "duration": 2576,
    "start_time": "2021-11-17T16:37:27.643Z"
   },
   {
    "duration": 13,
    "start_time": "2021-11-17T16:37:30.222Z"
   },
   {
    "duration": 46,
    "start_time": "2021-11-17T16:37:30.237Z"
   },
   {
    "duration": 11,
    "start_time": "2021-11-17T16:37:30.286Z"
   },
   {
    "duration": 51,
    "start_time": "2021-11-17T16:37:30.300Z"
   },
   {
    "duration": 20,
    "start_time": "2021-11-17T16:37:30.356Z"
   },
   {
    "duration": 26,
    "start_time": "2021-11-17T16:37:30.379Z"
   },
   {
    "duration": 30,
    "start_time": "2021-11-17T16:37:30.407Z"
   },
   {
    "duration": 33,
    "start_time": "2021-11-17T16:37:30.439Z"
   },
   {
    "duration": 33,
    "start_time": "2021-11-17T16:37:30.475Z"
   },
   {
    "duration": 37,
    "start_time": "2021-11-17T16:37:30.511Z"
   },
   {
    "duration": 36,
    "start_time": "2021-11-17T16:37:30.551Z"
   },
   {
    "duration": 122,
    "start_time": "2021-11-17T16:37:30.590Z"
   },
   {
    "duration": 30,
    "start_time": "2021-11-17T16:37:48.584Z"
   },
   {
    "duration": 4,
    "start_time": "2021-11-17T16:38:42.081Z"
   },
   {
    "duration": 512,
    "start_time": "2021-11-17T16:38:42.089Z"
   },
   {
    "duration": 16,
    "start_time": "2021-11-17T16:38:42.604Z"
   },
   {
    "duration": 14,
    "start_time": "2021-11-17T16:38:42.623Z"
   },
   {
    "duration": 38,
    "start_time": "2021-11-17T16:38:42.639Z"
   },
   {
    "duration": 11,
    "start_time": "2021-11-17T16:38:42.679Z"
   },
   {
    "duration": 14,
    "start_time": "2021-11-17T16:38:42.693Z"
   },
   {
    "duration": 66,
    "start_time": "2021-11-17T16:38:42.710Z"
   },
   {
    "duration": 12,
    "start_time": "2021-11-17T16:38:42.781Z"
   },
   {
    "duration": 23,
    "start_time": "2021-11-17T16:38:42.797Z"
   },
   {
    "duration": 50,
    "start_time": "2021-11-17T16:38:42.823Z"
   },
   {
    "duration": 29,
    "start_time": "2021-11-17T16:38:42.876Z"
   },
   {
    "duration": 7,
    "start_time": "2021-11-17T16:38:42.907Z"
   },
   {
    "duration": 59,
    "start_time": "2021-11-17T16:38:42.917Z"
   },
   {
    "duration": 7,
    "start_time": "2021-11-17T16:38:42.978Z"
   },
   {
    "duration": 108,
    "start_time": "2021-11-17T16:38:42.987Z"
   },
   {
    "duration": 24,
    "start_time": "2021-11-17T16:38:43.097Z"
   },
   {
    "duration": 11,
    "start_time": "2021-11-17T16:38:43.124Z"
   },
   {
    "duration": 33,
    "start_time": "2021-11-17T16:38:43.137Z"
   },
   {
    "duration": 149,
    "start_time": "2021-11-17T16:38:43.172Z"
   },
   {
    "duration": 4,
    "start_time": "2021-11-17T16:38:43.323Z"
   },
   {
    "duration": 2527,
    "start_time": "2021-11-17T16:38:43.329Z"
   },
   {
    "duration": 16,
    "start_time": "2021-11-17T16:38:45.858Z"
   },
   {
    "duration": 26,
    "start_time": "2021-11-17T16:38:45.877Z"
   },
   {
    "duration": 12,
    "start_time": "2021-11-17T16:38:45.906Z"
   },
   {
    "duration": 29,
    "start_time": "2021-11-17T16:38:45.969Z"
   },
   {
    "duration": 11,
    "start_time": "2021-11-17T16:38:46.005Z"
   },
   {
    "duration": 9,
    "start_time": "2021-11-17T16:38:46.018Z"
   },
   {
    "duration": 18,
    "start_time": "2021-11-17T16:38:46.069Z"
   },
   {
    "duration": 19,
    "start_time": "2021-11-17T16:38:46.091Z"
   },
   {
    "duration": 76,
    "start_time": "2021-11-17T16:38:46.113Z"
   },
   {
    "duration": 22,
    "start_time": "2021-11-17T16:38:46.193Z"
   },
   {
    "duration": 92,
    "start_time": "2021-11-17T16:38:46.218Z"
   },
   {
    "duration": 268,
    "start_time": "2021-11-17T16:52:50.743Z"
   },
   {
    "duration": 8,
    "start_time": "2021-11-17T16:52:54.347Z"
   },
   {
    "duration": 10,
    "start_time": "2021-11-17T16:53:16.318Z"
   },
   {
    "duration": 8,
    "start_time": "2021-11-17T16:53:43.111Z"
   },
   {
    "duration": 12,
    "start_time": "2021-11-17T16:54:02.474Z"
   },
   {
    "duration": 11,
    "start_time": "2021-11-17T16:54:11.260Z"
   },
   {
    "duration": 7,
    "start_time": "2021-11-17T16:56:56.268Z"
   },
   {
    "duration": 6,
    "start_time": "2021-11-17T16:57:04.871Z"
   },
   {
    "duration": 6,
    "start_time": "2021-11-17T16:57:17.690Z"
   },
   {
    "duration": 11,
    "start_time": "2021-11-17T17:06:17.817Z"
   },
   {
    "duration": 314,
    "start_time": "2021-11-17T17:45:00.545Z"
   },
   {
    "duration": 4,
    "start_time": "2021-11-17T17:45:41.255Z"
   },
   {
    "duration": 6,
    "start_time": "2021-11-17T17:45:52.837Z"
   },
   {
    "duration": 310,
    "start_time": "2021-11-17T17:47:37.923Z"
   },
   {
    "duration": 80,
    "start_time": "2021-11-17T17:48:43.262Z"
   },
   {
    "duration": 3527,
    "start_time": "2021-11-17T17:49:44.979Z"
   },
   {
    "duration": 28,
    "start_time": "2021-11-17T17:51:09.971Z"
   },
   {
    "duration": 83,
    "start_time": "2021-11-17T17:54:53.644Z"
   },
   {
    "duration": 95,
    "start_time": "2021-11-17T17:56:09.130Z"
   },
   {
    "duration": 307,
    "start_time": "2021-11-17T17:56:19.965Z"
   },
   {
    "duration": 315,
    "start_time": "2021-11-17T17:57:21.131Z"
   },
   {
    "duration": 85,
    "start_time": "2021-11-17T17:57:29.713Z"
   },
   {
    "duration": 25,
    "start_time": "2021-11-17T17:57:49.105Z"
   },
   {
    "duration": 12,
    "start_time": "2021-11-17T17:57:51.881Z"
   },
   {
    "duration": 258,
    "start_time": "2021-11-17T17:58:38.002Z"
   },
   {
    "duration": 5,
    "start_time": "2021-11-17T17:58:58.692Z"
   },
   {
    "duration": 563,
    "start_time": "2021-11-17T17:58:58.700Z"
   },
   {
    "duration": 26,
    "start_time": "2021-11-17T17:58:59.268Z"
   },
   {
    "duration": 14,
    "start_time": "2021-11-17T17:58:59.298Z"
   },
   {
    "duration": 60,
    "start_time": "2021-11-17T17:58:59.315Z"
   },
   {
    "duration": 10,
    "start_time": "2021-11-17T17:58:59.378Z"
   },
   {
    "duration": 14,
    "start_time": "2021-11-17T17:58:59.391Z"
   },
   {
    "duration": 22,
    "start_time": "2021-11-17T17:58:59.407Z"
   },
   {
    "duration": 15,
    "start_time": "2021-11-17T17:58:59.472Z"
   },
   {
    "duration": 29,
    "start_time": "2021-11-17T17:58:59.491Z"
   },
   {
    "duration": 53,
    "start_time": "2021-11-17T17:58:59.523Z"
   },
   {
    "duration": 36,
    "start_time": "2021-11-17T17:58:59.578Z"
   },
   {
    "duration": 8,
    "start_time": "2021-11-17T17:58:59.617Z"
   },
   {
    "duration": 52,
    "start_time": "2021-11-17T17:58:59.627Z"
   },
   {
    "duration": 4,
    "start_time": "2021-11-17T17:58:59.681Z"
   },
   {
    "duration": 135,
    "start_time": "2021-11-17T17:58:59.688Z"
   },
   {
    "duration": 25,
    "start_time": "2021-11-17T17:58:59.825Z"
   },
   {
    "duration": 28,
    "start_time": "2021-11-17T17:58:59.852Z"
   },
   {
    "duration": 5,
    "start_time": "2021-11-17T17:58:59.883Z"
   },
   {
    "duration": 186,
    "start_time": "2021-11-17T17:58:59.891Z"
   },
   {
    "duration": 6,
    "start_time": "2021-11-17T17:59:00.080Z"
   },
   {
    "duration": 2834,
    "start_time": "2021-11-17T17:59:00.089Z"
   },
   {
    "duration": 12,
    "start_time": "2021-11-17T17:59:02.926Z"
   },
   {
    "duration": 50,
    "start_time": "2021-11-17T17:59:02.940Z"
   },
   {
    "duration": 10,
    "start_time": "2021-11-17T17:59:02.993Z"
   },
   {
    "duration": 30,
    "start_time": "2021-11-17T17:59:03.006Z"
   },
   {
    "duration": 283,
    "start_time": "2021-11-17T17:59:03.041Z"
   },
   {
    "duration": -97,
    "start_time": "2021-11-17T17:59:03.424Z"
   },
   {
    "duration": -97,
    "start_time": "2021-11-17T17:59:03.426Z"
   },
   {
    "duration": -97,
    "start_time": "2021-11-17T17:59:03.427Z"
   },
   {
    "duration": -96,
    "start_time": "2021-11-17T17:59:03.428Z"
   },
   {
    "duration": -99,
    "start_time": "2021-11-17T17:59:03.432Z"
   },
   {
    "duration": -116,
    "start_time": "2021-11-17T17:59:03.451Z"
   },
   {
    "duration": -119,
    "start_time": "2021-11-17T17:59:03.455Z"
   },
   {
    "duration": -119,
    "start_time": "2021-11-17T17:59:03.456Z"
   },
   {
    "duration": 258,
    "start_time": "2021-11-17T17:59:16.389Z"
   },
   {
    "duration": 12,
    "start_time": "2021-11-17T17:59:23.527Z"
   },
   {
    "duration": 7,
    "start_time": "2021-11-17T18:00:11.925Z"
   },
   {
    "duration": 13,
    "start_time": "2021-11-17T18:00:16.765Z"
   },
   {
    "duration": 5,
    "start_time": "2021-11-17T18:00:24.586Z"
   },
   {
    "duration": 7,
    "start_time": "2021-11-17T18:00:27.238Z"
   },
   {
    "duration": 3846,
    "start_time": "2021-11-17T18:00:37.540Z"
   },
   {
    "duration": 5,
    "start_time": "2021-11-17T18:00:44.314Z"
   },
   {
    "duration": 1653,
    "start_time": "2021-11-17T18:00:44.322Z"
   },
   {
    "duration": 17,
    "start_time": "2021-11-17T18:00:45.979Z"
   },
   {
    "duration": 11,
    "start_time": "2021-11-17T18:00:45.999Z"
   },
   {
    "duration": 15,
    "start_time": "2021-11-17T18:00:46.013Z"
   },
   {
    "duration": 10,
    "start_time": "2021-11-17T18:00:46.068Z"
   },
   {
    "duration": 17,
    "start_time": "2021-11-17T18:00:46.081Z"
   },
   {
    "duration": 75,
    "start_time": "2021-11-17T18:00:46.104Z"
   },
   {
    "duration": 13,
    "start_time": "2021-11-17T18:00:46.184Z"
   },
   {
    "duration": 38,
    "start_time": "2021-11-17T18:00:46.200Z"
   },
   {
    "duration": 47,
    "start_time": "2021-11-17T18:00:46.241Z"
   },
   {
    "duration": 45,
    "start_time": "2021-11-17T18:00:46.291Z"
   },
   {
    "duration": 33,
    "start_time": "2021-11-17T18:00:46.339Z"
   },
   {
    "duration": 24,
    "start_time": "2021-11-17T18:00:46.375Z"
   },
   {
    "duration": 6,
    "start_time": "2021-11-17T18:00:46.401Z"
   },
   {
    "duration": 139,
    "start_time": "2021-11-17T18:00:46.410Z"
   },
   {
    "duration": 39,
    "start_time": "2021-11-17T18:00:46.553Z"
   },
   {
    "duration": 14,
    "start_time": "2021-11-17T18:00:46.595Z"
   },
   {
    "duration": 6,
    "start_time": "2021-11-17T18:00:46.612Z"
   },
   {
    "duration": 172,
    "start_time": "2021-11-17T18:00:46.622Z"
   },
   {
    "duration": 6,
    "start_time": "2021-11-17T18:00:46.797Z"
   },
   {
    "duration": 2606,
    "start_time": "2021-11-17T18:00:46.806Z"
   },
   {
    "duration": 13,
    "start_time": "2021-11-17T18:00:49.417Z"
   },
   {
    "duration": 45,
    "start_time": "2021-11-17T18:00:49.433Z"
   },
   {
    "duration": 10,
    "start_time": "2021-11-17T18:00:49.481Z"
   },
   {
    "duration": 30,
    "start_time": "2021-11-17T18:00:49.493Z"
   },
   {
    "duration": 4,
    "start_time": "2021-11-17T18:00:49.526Z"
   },
   {
    "duration": 47,
    "start_time": "2021-11-17T18:00:49.533Z"
   },
   {
    "duration": 14,
    "start_time": "2021-11-17T18:00:49.583Z"
   },
   {
    "duration": 27,
    "start_time": "2021-11-17T18:00:49.600Z"
   },
   {
    "duration": 30,
    "start_time": "2021-11-17T18:00:49.677Z"
   },
   {
    "duration": 28,
    "start_time": "2021-11-17T18:00:49.709Z"
   },
   {
    "duration": 59,
    "start_time": "2021-11-17T18:00:49.740Z"
   },
   {
    "duration": 8,
    "start_time": "2021-11-17T18:00:49.803Z"
   },
   {
    "duration": 92,
    "start_time": "2021-11-17T18:00:49.815Z"
   },
   {
    "duration": 14,
    "start_time": "2021-11-17T18:01:26.086Z"
   },
   {
    "duration": 12,
    "start_time": "2021-11-17T18:04:24.766Z"
   },
   {
    "duration": 5,
    "start_time": "2021-11-17T18:04:27.353Z"
   },
   {
    "duration": 542,
    "start_time": "2021-11-17T18:04:27.361Z"
   },
   {
    "duration": 15,
    "start_time": "2021-11-17T18:04:27.906Z"
   },
   {
    "duration": 17,
    "start_time": "2021-11-17T18:04:27.924Z"
   },
   {
    "duration": 35,
    "start_time": "2021-11-17T18:04:27.943Z"
   },
   {
    "duration": 14,
    "start_time": "2021-11-17T18:04:27.981Z"
   },
   {
    "duration": 20,
    "start_time": "2021-11-17T18:04:27.998Z"
   },
   {
    "duration": 62,
    "start_time": "2021-11-17T18:04:28.020Z"
   },
   {
    "duration": 16,
    "start_time": "2021-11-17T18:04:28.087Z"
   },
   {
    "duration": 62,
    "start_time": "2021-11-17T18:04:28.106Z"
   },
   {
    "duration": 12,
    "start_time": "2021-11-17T18:04:28.171Z"
   },
   {
    "duration": 29,
    "start_time": "2021-11-17T18:04:28.185Z"
   },
   {
    "duration": 8,
    "start_time": "2021-11-17T18:04:28.216Z"
   },
   {
    "duration": 60,
    "start_time": "2021-11-17T18:04:28.227Z"
   },
   {
    "duration": 6,
    "start_time": "2021-11-17T18:04:28.289Z"
   },
   {
    "duration": 127,
    "start_time": "2021-11-17T18:04:28.297Z"
   },
   {
    "duration": 25,
    "start_time": "2021-11-17T18:04:28.427Z"
   },
   {
    "duration": 11,
    "start_time": "2021-11-17T18:04:28.468Z"
   },
   {
    "duration": 14,
    "start_time": "2021-11-17T18:04:28.482Z"
   },
   {
    "duration": 157,
    "start_time": "2021-11-17T18:04:28.499Z"
   },
   {
    "duration": 8,
    "start_time": "2021-11-17T18:04:28.658Z"
   },
   {
    "duration": 2457,
    "start_time": "2021-11-17T18:04:28.669Z"
   },
   {
    "duration": 10,
    "start_time": "2021-11-17T18:04:31.129Z"
   },
   {
    "duration": 45,
    "start_time": "2021-11-17T18:04:31.142Z"
   },
   {
    "duration": 10,
    "start_time": "2021-11-17T18:04:31.190Z"
   },
   {
    "duration": 30,
    "start_time": "2021-11-17T18:04:31.203Z"
   },
   {
    "duration": 5,
    "start_time": "2021-11-17T18:04:31.269Z"
   },
   {
    "duration": 17,
    "start_time": "2021-11-17T18:04:31.277Z"
   },
   {
    "duration": 9,
    "start_time": "2021-11-17T18:04:31.297Z"
   },
   {
    "duration": 70,
    "start_time": "2021-11-17T18:04:31.309Z"
   },
   {
    "duration": 19,
    "start_time": "2021-11-17T18:04:31.381Z"
   },
   {
    "duration": 25,
    "start_time": "2021-11-17T18:04:31.403Z"
   },
   {
    "duration": 49,
    "start_time": "2021-11-17T18:04:31.431Z"
   },
   {
    "duration": 8,
    "start_time": "2021-11-17T18:04:31.483Z"
   },
   {
    "duration": 130,
    "start_time": "2021-11-17T18:04:31.494Z"
   },
   {
    "duration": 27,
    "start_time": "2021-11-17T18:05:20.211Z"
   },
   {
    "duration": 5,
    "start_time": "2021-11-17T18:05:22.233Z"
   },
   {
    "duration": 12,
    "start_time": "2021-11-17T18:05:23.730Z"
   },
   {
    "duration": 89,
    "start_time": "2021-11-17T18:13:39.242Z"
   },
   {
    "duration": 90,
    "start_time": "2021-11-17T18:18:12.815Z"
   },
   {
    "duration": 84,
    "start_time": "2021-11-17T18:19:04.400Z"
   },
   {
    "duration": 2329,
    "start_time": "2021-11-20T06:35:44.436Z"
   },
   {
    "duration": 567,
    "start_time": "2021-11-20T06:35:46.767Z"
   },
   {
    "duration": 27,
    "start_time": "2021-11-20T06:35:47.338Z"
   },
   {
    "duration": 9,
    "start_time": "2021-11-20T06:35:47.383Z"
   },
   {
    "duration": 19,
    "start_time": "2021-11-20T06:35:47.395Z"
   },
   {
    "duration": 14,
    "start_time": "2021-11-20T06:35:47.416Z"
   },
   {
    "duration": 61,
    "start_time": "2021-11-20T06:35:47.434Z"
   },
   {
    "duration": 31,
    "start_time": "2021-11-20T06:35:47.498Z"
   },
   {
    "duration": 15,
    "start_time": "2021-11-20T06:35:47.535Z"
   },
   {
    "duration": 29,
    "start_time": "2021-11-20T06:35:47.585Z"
   },
   {
    "duration": 17,
    "start_time": "2021-11-20T06:35:47.617Z"
   },
   {
    "duration": 76,
    "start_time": "2021-11-20T06:35:47.637Z"
   },
   {
    "duration": 10,
    "start_time": "2021-11-20T06:35:47.716Z"
   },
   {
    "duration": 62,
    "start_time": "2021-11-20T06:35:47.729Z"
   },
   {
    "duration": 8,
    "start_time": "2021-11-20T06:35:47.794Z"
   },
   {
    "duration": 120,
    "start_time": "2021-11-20T06:35:47.804Z"
   },
   {
    "duration": 23,
    "start_time": "2021-11-20T06:35:47.926Z"
   },
   {
    "duration": 37,
    "start_time": "2021-11-20T06:35:47.952Z"
   },
   {
    "duration": 9,
    "start_time": "2021-11-20T06:35:47.992Z"
   },
   {
    "duration": 162,
    "start_time": "2021-11-20T06:35:48.004Z"
   },
   {
    "duration": 5,
    "start_time": "2021-11-20T06:35:48.169Z"
   },
   {
    "duration": 2576,
    "start_time": "2021-11-20T06:35:48.183Z"
   },
   {
    "duration": 21,
    "start_time": "2021-11-20T06:35:50.762Z"
   },
   {
    "duration": 29,
    "start_time": "2021-11-20T06:35:50.786Z"
   },
   {
    "duration": 10,
    "start_time": "2021-11-20T06:35:50.819Z"
   },
   {
    "duration": 78,
    "start_time": "2021-11-20T06:35:50.832Z"
   },
   {
    "duration": 4,
    "start_time": "2021-11-20T06:35:50.915Z"
   },
   {
    "duration": 13,
    "start_time": "2021-11-20T06:35:50.922Z"
   },
   {
    "duration": 8,
    "start_time": "2021-11-20T06:35:50.938Z"
   },
   {
    "duration": 41,
    "start_time": "2021-11-20T06:35:50.948Z"
   },
   {
    "duration": 23,
    "start_time": "2021-11-20T06:35:50.993Z"
   },
   {
    "duration": 22,
    "start_time": "2021-11-20T06:35:51.019Z"
   },
   {
    "duration": 46,
    "start_time": "2021-11-20T06:35:51.044Z"
   },
   {
    "duration": 8,
    "start_time": "2021-11-20T06:35:51.094Z"
   },
   {
    "duration": 142,
    "start_time": "2021-11-20T06:35:51.105Z"
   },
   {
    "duration": 182,
    "start_time": "2021-11-20T06:36:15.627Z"
   },
   {
    "duration": 137,
    "start_time": "2021-11-20T06:39:51.714Z"
   },
   {
    "duration": 103,
    "start_time": "2021-11-20T06:40:01.626Z"
   },
   {
    "duration": 121,
    "start_time": "2021-11-20T06:40:13.081Z"
   },
   {
    "duration": 4,
    "start_time": "2021-11-20T06:57:23.044Z"
   },
   {
    "duration": 4,
    "start_time": "2021-11-20T06:58:03.692Z"
   },
   {
    "duration": 4,
    "start_time": "2021-11-20T06:58:38.581Z"
   },
   {
    "duration": 439,
    "start_time": "2021-11-20T07:14:55.064Z"
   },
   {
    "duration": 6,
    "start_time": "2021-11-20T07:16:43.597Z"
   },
   {
    "duration": 351,
    "start_time": "2021-11-20T07:17:00.377Z"
   },
   {
    "duration": 313,
    "start_time": "2021-11-20T07:17:06.702Z"
   },
   {
    "duration": 8,
    "start_time": "2021-11-20T07:18:04.899Z"
   },
   {
    "duration": 10,
    "start_time": "2021-11-20T07:18:54.925Z"
   },
   {
    "duration": 8,
    "start_time": "2021-11-20T07:21:55.606Z"
   },
   {
    "duration": 9,
    "start_time": "2021-11-20T07:22:20.172Z"
   },
   {
    "duration": 7,
    "start_time": "2021-11-20T07:27:09.121Z"
   },
   {
    "duration": 9,
    "start_time": "2021-11-20T07:30:06.539Z"
   },
   {
    "duration": 9,
    "start_time": "2021-11-20T07:30:07.327Z"
   },
   {
    "duration": 7,
    "start_time": "2021-11-20T07:30:19.836Z"
   },
   {
    "duration": 313,
    "start_time": "2021-11-20T07:32:54.382Z"
   },
   {
    "duration": 33,
    "start_time": "2021-11-20T07:33:58.356Z"
   },
   {
    "duration": 10,
    "start_time": "2021-11-20T07:38:45.438Z"
   },
   {
    "duration": 7,
    "start_time": "2021-11-20T07:38:47.159Z"
   },
   {
    "duration": 6,
    "start_time": "2021-11-20T07:39:27.354Z"
   },
   {
    "duration": 703,
    "start_time": "2021-11-20T07:39:27.363Z"
   },
   {
    "duration": 28,
    "start_time": "2021-11-20T07:39:28.070Z"
   },
   {
    "duration": 16,
    "start_time": "2021-11-20T07:39:28.100Z"
   },
   {
    "duration": 18,
    "start_time": "2021-11-20T07:39:28.118Z"
   },
   {
    "duration": 15,
    "start_time": "2021-11-20T07:39:28.138Z"
   },
   {
    "duration": 10,
    "start_time": "2021-11-20T07:39:28.183Z"
   },
   {
    "duration": 22,
    "start_time": "2021-11-20T07:39:28.197Z"
   },
   {
    "duration": 12,
    "start_time": "2021-11-20T07:39:28.222Z"
   },
   {
    "duration": 62,
    "start_time": "2021-11-20T07:39:28.237Z"
   },
   {
    "duration": 11,
    "start_time": "2021-11-20T07:39:28.302Z"
   },
   {
    "duration": 32,
    "start_time": "2021-11-20T07:39:28.315Z"
   },
   {
    "duration": 37,
    "start_time": "2021-11-20T07:39:28.350Z"
   },
   {
    "duration": 19,
    "start_time": "2021-11-20T07:39:28.390Z"
   },
   {
    "duration": 14,
    "start_time": "2021-11-20T07:39:28.412Z"
   },
   {
    "duration": 118,
    "start_time": "2021-11-20T07:39:28.428Z"
   },
   {
    "duration": 34,
    "start_time": "2021-11-20T07:39:28.549Z"
   },
   {
    "duration": 11,
    "start_time": "2021-11-20T07:39:28.586Z"
   },
   {
    "duration": 15,
    "start_time": "2021-11-20T07:39:28.599Z"
   },
   {
    "duration": 153,
    "start_time": "2021-11-20T07:39:28.616Z"
   },
   {
    "duration": 12,
    "start_time": "2021-11-20T07:39:28.771Z"
   },
   {
    "duration": 2441,
    "start_time": "2021-11-20T07:39:28.785Z"
   },
   {
    "duration": 11,
    "start_time": "2021-11-20T07:39:31.231Z"
   },
   {
    "duration": 51,
    "start_time": "2021-11-20T07:39:31.247Z"
   },
   {
    "duration": 12,
    "start_time": "2021-11-20T07:39:31.301Z"
   },
   {
    "duration": 32,
    "start_time": "2021-11-20T07:39:31.316Z"
   },
   {
    "duration": 35,
    "start_time": "2021-11-20T07:39:31.351Z"
   },
   {
    "duration": 24,
    "start_time": "2021-11-20T07:39:31.389Z"
   },
   {
    "duration": 20,
    "start_time": "2021-11-20T07:39:31.416Z"
   },
   {
    "duration": 53,
    "start_time": "2021-11-20T07:39:31.439Z"
   },
   {
    "duration": 20,
    "start_time": "2021-11-20T07:39:31.495Z"
   },
   {
    "duration": 64,
    "start_time": "2021-11-20T07:39:31.518Z"
   },
   {
    "duration": 29,
    "start_time": "2021-11-20T07:39:31.585Z"
   },
   {
    "duration": 26,
    "start_time": "2021-11-20T07:39:31.617Z"
   },
   {
    "duration": 66,
    "start_time": "2021-11-20T07:39:31.646Z"
   },
   {
    "duration": 14,
    "start_time": "2021-11-20T07:39:31.715Z"
   },
   {
    "duration": 9,
    "start_time": "2021-11-20T07:39:31.731Z"
   },
   {
    "duration": 330,
    "start_time": "2021-11-20T07:39:31.743Z"
   },
   {
    "duration": -67,
    "start_time": "2021-11-20T07:39:32.143Z"
   },
   {
    "duration": -70,
    "start_time": "2021-11-20T07:39:32.147Z"
   },
   {
    "duration": -70,
    "start_time": "2021-11-20T07:39:32.149Z"
   },
   {
    "duration": -71,
    "start_time": "2021-11-20T07:39:32.151Z"
   },
   {
    "duration": -71,
    "start_time": "2021-11-20T07:39:32.153Z"
   },
   {
    "duration": 11,
    "start_time": "2021-11-20T07:39:48.387Z"
   },
   {
    "duration": 6,
    "start_time": "2021-11-20T07:41:42.752Z"
   },
   {
    "duration": 690,
    "start_time": "2021-11-20T07:41:42.761Z"
   },
   {
    "duration": 28,
    "start_time": "2021-11-20T07:41:43.455Z"
   },
   {
    "duration": 11,
    "start_time": "2021-11-20T07:41:43.487Z"
   },
   {
    "duration": 19,
    "start_time": "2021-11-20T07:41:43.502Z"
   },
   {
    "duration": 11,
    "start_time": "2021-11-20T07:41:43.524Z"
   },
   {
    "duration": 13,
    "start_time": "2021-11-20T07:41:43.582Z"
   },
   {
    "duration": 29,
    "start_time": "2021-11-20T07:41:43.599Z"
   },
   {
    "duration": 56,
    "start_time": "2021-11-20T07:41:43.634Z"
   },
   {
    "duration": 35,
    "start_time": "2021-11-20T07:41:43.694Z"
   },
   {
    "duration": 14,
    "start_time": "2021-11-20T07:41:43.732Z"
   },
   {
    "duration": 44,
    "start_time": "2021-11-20T07:41:43.783Z"
   },
   {
    "duration": 9,
    "start_time": "2021-11-20T07:41:43.829Z"
   },
   {
    "duration": 52,
    "start_time": "2021-11-20T07:41:43.841Z"
   },
   {
    "duration": 5,
    "start_time": "2021-11-20T07:41:43.895Z"
   },
   {
    "duration": 129,
    "start_time": "2021-11-20T07:41:43.902Z"
   },
   {
    "duration": 23,
    "start_time": "2021-11-20T07:41:44.034Z"
   },
   {
    "duration": 30,
    "start_time": "2021-11-20T07:41:44.060Z"
   },
   {
    "duration": 5,
    "start_time": "2021-11-20T07:41:44.093Z"
   },
   {
    "duration": 158,
    "start_time": "2021-11-20T07:41:44.101Z"
   },
   {
    "duration": 5,
    "start_time": "2021-11-20T07:41:44.262Z"
   },
   {
    "duration": 2785,
    "start_time": "2021-11-20T07:41:44.282Z"
   },
   {
    "duration": 17,
    "start_time": "2021-11-20T07:41:47.070Z"
   },
   {
    "duration": 23,
    "start_time": "2021-11-20T07:41:47.089Z"
   },
   {
    "duration": 9,
    "start_time": "2021-11-20T07:41:47.115Z"
   },
   {
    "duration": 67,
    "start_time": "2021-11-20T07:41:47.127Z"
   },
   {
    "duration": 5,
    "start_time": "2021-11-20T07:41:47.199Z"
   },
   {
    "duration": 15,
    "start_time": "2021-11-20T07:41:47.207Z"
   },
   {
    "duration": 8,
    "start_time": "2021-11-20T07:41:47.225Z"
   },
   {
    "duration": 57,
    "start_time": "2021-11-20T07:41:47.236Z"
   },
   {
    "duration": 17,
    "start_time": "2021-11-20T07:41:47.295Z"
   },
   {
    "duration": 24,
    "start_time": "2021-11-20T07:41:47.314Z"
   },
   {
    "duration": 56,
    "start_time": "2021-11-20T07:41:47.341Z"
   },
   {
    "duration": 14,
    "start_time": "2021-11-20T07:41:47.400Z"
   },
   {
    "duration": 39,
    "start_time": "2021-11-20T07:41:47.417Z"
   },
   {
    "duration": 32,
    "start_time": "2021-11-20T07:41:47.458Z"
   },
   {
    "duration": 11,
    "start_time": "2021-11-20T07:41:47.493Z"
   },
   {
    "duration": 337,
    "start_time": "2021-11-20T07:41:47.508Z"
   },
   {
    "duration": -61,
    "start_time": "2021-11-20T07:41:47.910Z"
   },
   {
    "duration": -84,
    "start_time": "2021-11-20T07:41:47.935Z"
   },
   {
    "duration": -86,
    "start_time": "2021-11-20T07:41:47.939Z"
   },
   {
    "duration": -88,
    "start_time": "2021-11-20T07:41:47.943Z"
   },
   {
    "duration": 31,
    "start_time": "2021-11-20T08:02:51.154Z"
   },
   {
    "duration": 4,
    "start_time": "2021-11-20T08:09:52.804Z"
   },
   {
    "duration": 505,
    "start_time": "2021-11-20T08:09:52.811Z"
   },
   {
    "duration": 14,
    "start_time": "2021-11-20T08:09:53.318Z"
   },
   {
    "duration": 19,
    "start_time": "2021-11-20T08:09:53.335Z"
   },
   {
    "duration": 34,
    "start_time": "2021-11-20T08:09:53.357Z"
   },
   {
    "duration": 11,
    "start_time": "2021-11-20T08:09:53.393Z"
   },
   {
    "duration": 23,
    "start_time": "2021-11-20T08:09:53.406Z"
   },
   {
    "duration": 49,
    "start_time": "2021-11-20T08:09:53.433Z"
   },
   {
    "duration": 16,
    "start_time": "2021-11-20T08:09:53.486Z"
   },
   {
    "duration": 28,
    "start_time": "2021-11-20T08:09:53.505Z"
   },
   {
    "duration": 52,
    "start_time": "2021-11-20T08:09:53.536Z"
   },
   {
    "duration": 33,
    "start_time": "2021-11-20T08:09:53.591Z"
   },
   {
    "duration": 10,
    "start_time": "2021-11-20T08:09:53.627Z"
   },
   {
    "duration": 58,
    "start_time": "2021-11-20T08:09:53.640Z"
   },
   {
    "duration": 5,
    "start_time": "2021-11-20T08:09:53.701Z"
   },
   {
    "duration": 137,
    "start_time": "2021-11-20T08:09:53.709Z"
   },
   {
    "duration": 42,
    "start_time": "2021-11-20T08:09:53.848Z"
   },
   {
    "duration": 12,
    "start_time": "2021-11-20T08:09:53.894Z"
   },
   {
    "duration": 6,
    "start_time": "2021-11-20T08:09:53.909Z"
   },
   {
    "duration": 170,
    "start_time": "2021-11-20T08:09:53.917Z"
   },
   {
    "duration": 4,
    "start_time": "2021-11-20T08:09:54.090Z"
   },
   {
    "duration": 2508,
    "start_time": "2021-11-20T08:09:54.097Z"
   },
   {
    "duration": 10,
    "start_time": "2021-11-20T08:09:56.613Z"
   },
   {
    "duration": 23,
    "start_time": "2021-11-20T08:09:56.626Z"
   },
   {
    "duration": 38,
    "start_time": "2021-11-20T08:09:56.651Z"
   },
   {
    "duration": 40,
    "start_time": "2021-11-20T08:09:56.692Z"
   },
   {
    "duration": 4,
    "start_time": "2021-11-20T08:09:56.734Z"
   },
   {
    "duration": 44,
    "start_time": "2021-11-20T08:09:56.741Z"
   },
   {
    "duration": 13,
    "start_time": "2021-11-20T08:09:56.788Z"
   },
   {
    "duration": 21,
    "start_time": "2021-11-20T08:09:56.803Z"
   },
   {
    "duration": 55,
    "start_time": "2021-11-20T08:09:56.827Z"
   },
   {
    "duration": 22,
    "start_time": "2021-11-20T08:09:56.885Z"
   },
   {
    "duration": 20,
    "start_time": "2021-11-20T08:09:56.909Z"
   },
   {
    "duration": 54,
    "start_time": "2021-11-20T08:09:56.933Z"
   },
   {
    "duration": 32,
    "start_time": "2021-11-20T08:09:56.989Z"
   },
   {
    "duration": 13,
    "start_time": "2021-11-20T08:09:57.023Z"
   },
   {
    "duration": 46,
    "start_time": "2021-11-20T08:09:57.039Z"
   },
   {
    "duration": 5,
    "start_time": "2021-11-20T08:09:57.088Z"
   },
   {
    "duration": 8,
    "start_time": "2021-11-20T08:09:57.095Z"
   },
   {
    "duration": 8,
    "start_time": "2021-11-20T08:09:57.105Z"
   },
   {
    "duration": 404,
    "start_time": "2021-11-20T08:09:57.115Z"
   },
   {
    "duration": 309,
    "start_time": "2021-11-20T08:11:10.397Z"
   },
   {
    "duration": 1262,
    "start_time": "2021-11-20T08:12:14.326Z"
   },
   {
    "duration": 1202,
    "start_time": "2021-11-20T08:18:39.680Z"
   },
   {
    "duration": 15,
    "start_time": "2021-11-20T08:18:58.507Z"
   },
   {
    "duration": 37,
    "start_time": "2021-11-20T08:19:12.787Z"
   },
   {
    "duration": 5,
    "start_time": "2021-11-20T08:22:01.794Z"
   },
   {
    "duration": 537,
    "start_time": "2021-11-20T08:22:01.802Z"
   },
   {
    "duration": 14,
    "start_time": "2021-11-20T08:22:02.342Z"
   },
   {
    "duration": 31,
    "start_time": "2021-11-20T08:22:02.358Z"
   },
   {
    "duration": 16,
    "start_time": "2021-11-20T08:22:02.392Z"
   },
   {
    "duration": 15,
    "start_time": "2021-11-20T08:22:02.411Z"
   },
   {
    "duration": 56,
    "start_time": "2021-11-20T08:22:02.429Z"
   },
   {
    "duration": 26,
    "start_time": "2021-11-20T08:22:02.487Z"
   },
   {
    "duration": 13,
    "start_time": "2021-11-20T08:22:02.520Z"
   },
   {
    "duration": 24,
    "start_time": "2021-11-20T08:22:02.582Z"
   },
   {
    "duration": 11,
    "start_time": "2021-11-20T08:22:02.609Z"
   },
   {
    "duration": 66,
    "start_time": "2021-11-20T08:22:02.624Z"
   },
   {
    "duration": 8,
    "start_time": "2021-11-20T08:22:02.693Z"
   },
   {
    "duration": 27,
    "start_time": "2021-11-20T08:22:02.704Z"
   },
   {
    "duration": 9,
    "start_time": "2021-11-20T08:22:02.734Z"
   },
   {
    "duration": 139,
    "start_time": "2021-11-20T08:22:02.745Z"
   },
   {
    "duration": 27,
    "start_time": "2021-11-20T08:22:02.887Z"
   },
   {
    "duration": 12,
    "start_time": "2021-11-20T08:22:02.917Z"
   },
   {
    "duration": 49,
    "start_time": "2021-11-20T08:22:02.933Z"
   },
   {
    "duration": 155,
    "start_time": "2021-11-20T08:22:02.985Z"
   },
   {
    "duration": 6,
    "start_time": "2021-11-20T08:22:03.142Z"
   },
   {
    "duration": 2441,
    "start_time": "2021-11-20T08:22:03.151Z"
   },
   {
    "duration": 13,
    "start_time": "2021-11-20T08:22:05.595Z"
   },
   {
    "duration": 27,
    "start_time": "2021-11-20T08:22:05.611Z"
   },
   {
    "duration": 50,
    "start_time": "2021-11-20T08:22:05.640Z"
   },
   {
    "duration": 36,
    "start_time": "2021-11-20T08:22:05.693Z"
   },
   {
    "duration": 6,
    "start_time": "2021-11-20T08:22:05.736Z"
   },
   {
    "duration": 42,
    "start_time": "2021-11-20T08:22:05.744Z"
   },
   {
    "duration": 8,
    "start_time": "2021-11-20T08:22:05.789Z"
   },
   {
    "duration": 28,
    "start_time": "2021-11-20T08:22:05.799Z"
   },
   {
    "duration": 62,
    "start_time": "2021-11-20T08:22:05.829Z"
   },
   {
    "duration": 23,
    "start_time": "2021-11-20T08:22:05.894Z"
   },
   {
    "duration": 22,
    "start_time": "2021-11-20T08:22:05.920Z"
   },
   {
    "duration": 9,
    "start_time": "2021-11-20T08:22:05.983Z"
   },
   {
    "duration": 37,
    "start_time": "2021-11-20T08:22:05.995Z"
   },
   {
    "duration": 53,
    "start_time": "2021-11-20T08:22:06.035Z"
   },
   {
    "duration": 9,
    "start_time": "2021-11-20T08:22:06.091Z"
   },
   {
    "duration": 5,
    "start_time": "2021-11-20T08:22:06.103Z"
   },
   {
    "duration": 15,
    "start_time": "2021-11-20T08:22:06.110Z"
   },
   {
    "duration": 12,
    "start_time": "2021-11-20T08:22:06.128Z"
   },
   {
    "duration": 26,
    "start_time": "2021-11-20T08:22:06.183Z"
   },
   {
    "duration": 72,
    "start_time": "2021-11-20T08:22:06.212Z"
   },
   {
    "duration": 7,
    "start_time": "2021-11-20T08:23:26.664Z"
   },
   {
    "duration": 657,
    "start_time": "2021-11-20T08:23:26.674Z"
   },
   {
    "duration": 14,
    "start_time": "2021-11-20T08:23:27.334Z"
   },
   {
    "duration": 31,
    "start_time": "2021-11-20T08:23:27.351Z"
   },
   {
    "duration": 15,
    "start_time": "2021-11-20T08:23:27.385Z"
   },
   {
    "duration": 13,
    "start_time": "2021-11-20T08:23:27.402Z"
   },
   {
    "duration": 15,
    "start_time": "2021-11-20T08:23:27.417Z"
   },
   {
    "duration": 59,
    "start_time": "2021-11-20T08:23:27.435Z"
   },
   {
    "duration": 12,
    "start_time": "2021-11-20T08:23:27.497Z"
   },
   {
    "duration": 26,
    "start_time": "2021-11-20T08:23:27.511Z"
   },
   {
    "duration": 46,
    "start_time": "2021-11-20T08:23:27.540Z"
   },
   {
    "duration": 26,
    "start_time": "2021-11-20T08:23:27.589Z"
   },
   {
    "duration": 7,
    "start_time": "2021-11-20T08:23:27.618Z"
   },
   {
    "duration": 64,
    "start_time": "2021-11-20T08:23:27.628Z"
   },
   {
    "duration": 6,
    "start_time": "2021-11-20T08:23:27.695Z"
   },
   {
    "duration": 112,
    "start_time": "2021-11-20T08:23:27.703Z"
   },
   {
    "duration": 21,
    "start_time": "2021-11-20T08:23:27.818Z"
   },
   {
    "duration": 11,
    "start_time": "2021-11-20T08:23:27.841Z"
   },
   {
    "duration": 5,
    "start_time": "2021-11-20T08:23:27.882Z"
   },
   {
    "duration": 150,
    "start_time": "2021-11-20T08:23:27.889Z"
   },
   {
    "duration": 4,
    "start_time": "2021-11-20T08:23:28.042Z"
   },
   {
    "duration": 2474,
    "start_time": "2021-11-20T08:23:28.048Z"
   },
   {
    "duration": 12,
    "start_time": "2021-11-20T08:23:30.527Z"
   },
   {
    "duration": 56,
    "start_time": "2021-11-20T08:23:30.543Z"
   },
   {
    "duration": 13,
    "start_time": "2021-11-20T08:23:30.602Z"
   },
   {
    "duration": 42,
    "start_time": "2021-11-20T08:23:30.618Z"
   },
   {
    "duration": 6,
    "start_time": "2021-11-20T08:23:30.683Z"
   },
   {
    "duration": 22,
    "start_time": "2021-11-20T08:23:30.692Z"
   },
   {
    "duration": 10,
    "start_time": "2021-11-20T08:23:30.717Z"
   },
   {
    "duration": 62,
    "start_time": "2021-11-20T08:23:30.730Z"
   },
   {
    "duration": 24,
    "start_time": "2021-11-20T08:23:30.795Z"
   },
   {
    "duration": 64,
    "start_time": "2021-11-20T08:23:30.822Z"
   },
   {
    "duration": 27,
    "start_time": "2021-11-20T08:23:30.889Z"
   },
   {
    "duration": 19,
    "start_time": "2021-11-20T08:23:30.920Z"
   },
   {
    "duration": 75,
    "start_time": "2021-11-20T08:23:30.942Z"
   },
   {
    "duration": 19,
    "start_time": "2021-11-20T08:23:31.020Z"
   },
   {
    "duration": 23,
    "start_time": "2021-11-20T08:23:31.042Z"
   },
   {
    "duration": 20,
    "start_time": "2021-11-20T08:23:31.068Z"
   },
   {
    "duration": 24,
    "start_time": "2021-11-20T08:23:31.090Z"
   },
   {
    "duration": 17,
    "start_time": "2021-11-20T08:23:31.117Z"
   },
   {
    "duration": 72,
    "start_time": "2021-11-20T08:23:31.137Z"
   },
   {
    "duration": 77,
    "start_time": "2021-11-20T08:23:31.212Z"
   },
   {
    "duration": 23,
    "start_time": "2021-11-20T08:26:49.265Z"
   },
   {
    "duration": 52,
    "start_time": "2021-11-20T08:26:50.954Z"
   },
   {
    "duration": 6,
    "start_time": "2021-11-20T08:27:56.675Z"
   },
   {
    "duration": 568,
    "start_time": "2021-11-20T08:27:56.685Z"
   },
   {
    "duration": 26,
    "start_time": "2021-11-20T08:27:57.256Z"
   },
   {
    "duration": 10,
    "start_time": "2021-11-20T08:27:57.285Z"
   },
   {
    "duration": 13,
    "start_time": "2021-11-20T08:27:57.298Z"
   },
   {
    "duration": 17,
    "start_time": "2021-11-20T08:27:57.314Z"
   },
   {
    "duration": 54,
    "start_time": "2021-11-20T08:27:57.333Z"
   },
   {
    "duration": 20,
    "start_time": "2021-11-20T08:27:57.391Z"
   },
   {
    "duration": 13,
    "start_time": "2021-11-20T08:27:57.414Z"
   },
   {
    "duration": 66,
    "start_time": "2021-11-20T08:27:57.429Z"
   },
   {
    "duration": 13,
    "start_time": "2021-11-20T08:27:57.498Z"
   },
   {
    "duration": 69,
    "start_time": "2021-11-20T08:27:57.515Z"
   },
   {
    "duration": 10,
    "start_time": "2021-11-20T08:27:57.587Z"
   },
   {
    "duration": 22,
    "start_time": "2021-11-20T08:27:57.600Z"
   },
   {
    "duration": 6,
    "start_time": "2021-11-20T08:27:57.625Z"
   },
   {
    "duration": 160,
    "start_time": "2021-11-20T08:27:57.634Z"
   },
   {
    "duration": 28,
    "start_time": "2021-11-20T08:27:57.797Z"
   },
   {
    "duration": 14,
    "start_time": "2021-11-20T08:27:57.828Z"
   },
   {
    "duration": 37,
    "start_time": "2021-11-20T08:27:57.845Z"
   },
   {
    "duration": 158,
    "start_time": "2021-11-20T08:27:57.886Z"
   },
   {
    "duration": 6,
    "start_time": "2021-11-20T08:27:58.046Z"
   },
   {
    "duration": 2501,
    "start_time": "2021-11-20T08:27:58.054Z"
   },
   {
    "duration": 21,
    "start_time": "2021-11-20T08:28:00.560Z"
   },
   {
    "duration": 32,
    "start_time": "2021-11-20T08:28:00.585Z"
   },
   {
    "duration": 10,
    "start_time": "2021-11-20T08:28:00.620Z"
   },
   {
    "duration": 60,
    "start_time": "2021-11-20T08:28:00.632Z"
   },
   {
    "duration": 6,
    "start_time": "2021-11-20T08:28:00.695Z"
   },
   {
    "duration": 25,
    "start_time": "2021-11-20T08:28:00.703Z"
   },
   {
    "duration": 18,
    "start_time": "2021-11-20T08:28:00.730Z"
   },
   {
    "duration": 43,
    "start_time": "2021-11-20T08:28:00.750Z"
   },
   {
    "duration": 31,
    "start_time": "2021-11-20T08:28:00.796Z"
   },
   {
    "duration": 54,
    "start_time": "2021-11-20T08:28:00.830Z"
   },
   {
    "duration": 27,
    "start_time": "2021-11-20T08:28:00.887Z"
   },
   {
    "duration": 37,
    "start_time": "2021-11-20T08:28:00.918Z"
   },
   {
    "duration": 57,
    "start_time": "2021-11-20T08:28:00.958Z"
   },
   {
    "duration": 13,
    "start_time": "2021-11-20T08:28:01.018Z"
   },
   {
    "duration": 18,
    "start_time": "2021-11-20T08:28:01.035Z"
   },
   {
    "duration": 32,
    "start_time": "2021-11-20T08:28:01.056Z"
   },
   {
    "duration": 13,
    "start_time": "2021-11-20T08:28:01.091Z"
   },
   {
    "duration": 32,
    "start_time": "2021-11-20T08:28:01.107Z"
   },
   {
    "duration": 1303,
    "start_time": "2021-11-20T08:28:01.142Z"
   },
   {
    "duration": -95,
    "start_time": "2021-11-20T08:28:02.544Z"
   },
   {
    "duration": 1236,
    "start_time": "2021-11-20T08:31:48.988Z"
   },
   {
    "duration": 4,
    "start_time": "2021-11-20T08:32:29.240Z"
   },
   {
    "duration": 518,
    "start_time": "2021-11-20T08:32:29.247Z"
   },
   {
    "duration": 20,
    "start_time": "2021-11-20T08:32:29.767Z"
   },
   {
    "duration": 12,
    "start_time": "2021-11-20T08:32:29.789Z"
   },
   {
    "duration": 12,
    "start_time": "2021-11-20T08:32:29.804Z"
   },
   {
    "duration": 11,
    "start_time": "2021-11-20T08:32:29.819Z"
   },
   {
    "duration": 57,
    "start_time": "2021-11-20T08:32:29.833Z"
   },
   {
    "duration": 22,
    "start_time": "2021-11-20T08:32:29.894Z"
   },
   {
    "duration": 12,
    "start_time": "2021-11-20T08:32:29.919Z"
   },
   {
    "duration": 64,
    "start_time": "2021-11-20T08:32:29.934Z"
   },
   {
    "duration": 16,
    "start_time": "2021-11-20T08:32:30.000Z"
   },
   {
    "duration": 83,
    "start_time": "2021-11-20T08:32:30.019Z"
   },
   {
    "duration": 10,
    "start_time": "2021-11-20T08:32:30.105Z"
   },
   {
    "duration": 32,
    "start_time": "2021-11-20T08:32:30.118Z"
   },
   {
    "duration": 29,
    "start_time": "2021-11-20T08:32:30.153Z"
   },
   {
    "duration": 161,
    "start_time": "2021-11-20T08:32:30.185Z"
   },
   {
    "duration": 42,
    "start_time": "2021-11-20T08:32:30.349Z"
   },
   {
    "duration": 14,
    "start_time": "2021-11-20T08:32:30.394Z"
   },
   {
    "duration": 17,
    "start_time": "2021-11-20T08:32:30.411Z"
   },
   {
    "duration": 159,
    "start_time": "2021-11-20T08:32:30.430Z"
   },
   {
    "duration": 4,
    "start_time": "2021-11-20T08:32:30.591Z"
   },
   {
    "duration": 2497,
    "start_time": "2021-11-20T08:32:30.598Z"
   },
   {
    "duration": 11,
    "start_time": "2021-11-20T08:32:33.100Z"
   },
   {
    "duration": 25,
    "start_time": "2021-11-20T08:32:33.114Z"
   },
   {
    "duration": 41,
    "start_time": "2021-11-20T08:32:33.141Z"
   },
   {
    "duration": 27,
    "start_time": "2021-11-20T08:32:33.184Z"
   },
   {
    "duration": 5,
    "start_time": "2021-11-20T08:32:33.213Z"
   },
   {
    "duration": 62,
    "start_time": "2021-11-20T08:32:33.221Z"
   },
   {
    "duration": 12,
    "start_time": "2021-11-20T08:32:33.286Z"
   },
   {
    "duration": 18,
    "start_time": "2021-11-20T08:32:33.300Z"
   },
   {
    "duration": 16,
    "start_time": "2021-11-20T08:32:33.320Z"
   },
   {
    "duration": 20,
    "start_time": "2021-11-20T08:32:33.382Z"
   },
   {
    "duration": 20,
    "start_time": "2021-11-20T08:32:33.405Z"
   },
   {
    "duration": 8,
    "start_time": "2021-11-20T08:32:33.428Z"
   },
   {
    "duration": 78,
    "start_time": "2021-11-20T08:32:33.440Z"
   },
   {
    "duration": 11,
    "start_time": "2021-11-20T08:32:33.521Z"
   },
   {
    "duration": 51,
    "start_time": "2021-11-20T08:32:33.534Z"
   },
   {
    "duration": 7,
    "start_time": "2021-11-20T08:32:33.587Z"
   },
   {
    "duration": 15,
    "start_time": "2021-11-20T08:32:33.597Z"
   },
   {
    "duration": 7,
    "start_time": "2021-11-20T08:32:33.614Z"
   },
   {
    "duration": 1233,
    "start_time": "2021-11-20T08:32:33.624Z"
   },
   {
    "duration": -95,
    "start_time": "2021-11-20T08:32:34.955Z"
   },
   {
    "duration": 1764,
    "start_time": "2021-11-20T08:33:38.645Z"
   },
   {
    "duration": 1197,
    "start_time": "2021-11-20T08:34:15.039Z"
   },
   {
    "duration": 26,
    "start_time": "2021-11-20T08:34:57.047Z"
   },
   {
    "duration": 34,
    "start_time": "2021-11-20T08:34:59.595Z"
   },
   {
    "duration": 40,
    "start_time": "2021-11-20T08:35:22.152Z"
   },
   {
    "duration": 1107,
    "start_time": "2021-11-20T08:36:28.750Z"
   },
   {
    "duration": 1255,
    "start_time": "2021-11-20T08:36:45.876Z"
   },
   {
    "duration": 1239,
    "start_time": "2021-11-20T08:37:08.205Z"
   },
   {
    "duration": 1260,
    "start_time": "2021-11-20T08:40:48.560Z"
   },
   {
    "duration": 817,
    "start_time": "2021-11-20T08:45:22.345Z"
   },
   {
    "duration": 341,
    "start_time": "2021-11-20T08:45:47.644Z"
   },
   {
    "duration": 1447,
    "start_time": "2021-11-20T08:47:59.372Z"
   },
   {
    "duration": 7,
    "start_time": "2021-11-20T08:50:30.927Z"
   },
   {
    "duration": 543,
    "start_time": "2021-11-20T08:50:30.937Z"
   },
   {
    "duration": 14,
    "start_time": "2021-11-20T08:50:31.483Z"
   },
   {
    "duration": 12,
    "start_time": "2021-11-20T08:50:31.501Z"
   },
   {
    "duration": 18,
    "start_time": "2021-11-20T08:50:31.516Z"
   },
   {
    "duration": 51,
    "start_time": "2021-11-20T08:50:31.536Z"
   },
   {
    "duration": 15,
    "start_time": "2021-11-20T08:50:31.590Z"
   },
   {
    "duration": 24,
    "start_time": "2021-11-20T08:50:31.611Z"
   },
   {
    "duration": 50,
    "start_time": "2021-11-20T08:50:31.638Z"
   },
   {
    "duration": 29,
    "start_time": "2021-11-20T08:50:31.691Z"
   },
   {
    "duration": 11,
    "start_time": "2021-11-20T08:50:31.723Z"
   },
   {
    "duration": 65,
    "start_time": "2021-11-20T08:50:31.736Z"
   },
   {
    "duration": 10,
    "start_time": "2021-11-20T08:50:31.804Z"
   },
   {
    "duration": 36,
    "start_time": "2021-11-20T08:50:31.818Z"
   },
   {
    "duration": 24,
    "start_time": "2021-11-20T08:50:31.882Z"
   },
   {
    "duration": 105,
    "start_time": "2021-11-20T08:50:31.909Z"
   },
   {
    "duration": 26,
    "start_time": "2021-11-20T08:50:32.016Z"
   },
   {
    "duration": 12,
    "start_time": "2021-11-20T08:50:32.044Z"
   },
   {
    "duration": 4,
    "start_time": "2021-11-20T08:50:32.083Z"
   },
   {
    "duration": 159,
    "start_time": "2021-11-20T08:50:32.089Z"
   },
   {
    "duration": 5,
    "start_time": "2021-11-20T08:50:32.251Z"
   },
   {
    "duration": 2491,
    "start_time": "2021-11-20T08:50:32.259Z"
   },
   {
    "duration": 26,
    "start_time": "2021-11-20T08:50:34.755Z"
   },
   {
    "duration": 21,
    "start_time": "2021-11-20T08:50:34.783Z"
   },
   {
    "duration": 9,
    "start_time": "2021-11-20T08:50:34.806Z"
   },
   {
    "duration": 29,
    "start_time": "2021-11-20T08:50:34.818Z"
   },
   {
    "duration": 4,
    "start_time": "2021-11-20T08:50:34.882Z"
   },
   {
    "duration": 18,
    "start_time": "2021-11-20T08:50:34.888Z"
   },
   {
    "duration": 11,
    "start_time": "2021-11-20T08:50:34.909Z"
   },
   {
    "duration": 61,
    "start_time": "2021-11-20T08:50:34.923Z"
   },
   {
    "duration": 18,
    "start_time": "2021-11-20T08:50:34.987Z"
   },
   {
    "duration": 23,
    "start_time": "2021-11-20T08:50:35.007Z"
   },
   {
    "duration": 55,
    "start_time": "2021-11-20T08:50:35.033Z"
   },
   {
    "duration": 11,
    "start_time": "2021-11-20T08:50:35.091Z"
   },
   {
    "duration": 32,
    "start_time": "2021-11-20T08:50:35.105Z"
   },
   {
    "duration": 47,
    "start_time": "2021-11-20T08:50:35.139Z"
   },
   {
    "duration": 8,
    "start_time": "2021-11-20T08:50:35.188Z"
   },
   {
    "duration": 6,
    "start_time": "2021-11-20T08:50:35.199Z"
   },
   {
    "duration": 6,
    "start_time": "2021-11-20T08:50:35.207Z"
   },
   {
    "duration": 10,
    "start_time": "2021-11-20T08:50:35.216Z"
   },
   {
    "duration": 1230,
    "start_time": "2021-11-20T08:50:35.228Z"
   },
   {
    "duration": -101,
    "start_time": "2021-11-20T08:50:36.563Z"
   },
   {
    "duration": 1253,
    "start_time": "2021-11-20T08:50:58.107Z"
   },
   {
    "duration": 16,
    "start_time": "2021-11-20T08:51:39.896Z"
   },
   {
    "duration": 43,
    "start_time": "2021-11-20T08:51:43.078Z"
   },
   {
    "duration": 22,
    "start_time": "2021-11-20T08:52:02.018Z"
   },
   {
    "duration": 4208,
    "start_time": "2021-11-20T08:52:46.497Z"
   },
   {
    "duration": 23,
    "start_time": "2021-11-20T08:52:52.325Z"
   },
   {
    "duration": 32,
    "start_time": "2021-11-20T08:53:10.874Z"
   },
   {
    "duration": 21,
    "start_time": "2021-11-20T08:53:19.353Z"
   },
   {
    "duration": 5,
    "start_time": "2021-11-20T09:04:59.423Z"
   },
   {
    "duration": 512,
    "start_time": "2021-11-20T09:04:59.431Z"
   },
   {
    "duration": 14,
    "start_time": "2021-11-20T09:04:59.946Z"
   },
   {
    "duration": 26,
    "start_time": "2021-11-20T09:04:59.963Z"
   },
   {
    "duration": 16,
    "start_time": "2021-11-20T09:04:59.991Z"
   },
   {
    "duration": 12,
    "start_time": "2021-11-20T09:05:00.010Z"
   },
   {
    "duration": 59,
    "start_time": "2021-11-20T09:05:00.025Z"
   },
   {
    "duration": 32,
    "start_time": "2021-11-20T09:05:00.088Z"
   },
   {
    "duration": 15,
    "start_time": "2021-11-20T09:05:00.125Z"
   },
   {
    "duration": 54,
    "start_time": "2021-11-20T09:05:00.144Z"
   },
   {
    "duration": 12,
    "start_time": "2021-11-20T09:05:00.201Z"
   },
   {
    "duration": 34,
    "start_time": "2021-11-20T09:05:00.215Z"
   },
   {
    "duration": 32,
    "start_time": "2021-11-20T09:05:00.252Z"
   },
   {
    "duration": 17,
    "start_time": "2021-11-20T09:05:00.287Z"
   },
   {
    "duration": 15,
    "start_time": "2021-11-20T09:05:00.306Z"
   },
   {
    "duration": 129,
    "start_time": "2021-11-20T09:05:00.323Z"
   },
   {
    "duration": 32,
    "start_time": "2021-11-20T09:05:00.454Z"
   },
   {
    "duration": 13,
    "start_time": "2021-11-20T09:05:00.489Z"
   },
   {
    "duration": 19,
    "start_time": "2021-11-20T09:05:00.505Z"
   },
   {
    "duration": 169,
    "start_time": "2021-11-20T09:05:00.527Z"
   },
   {
    "duration": 5,
    "start_time": "2021-11-20T09:05:00.698Z"
   },
   {
    "duration": 2465,
    "start_time": "2021-11-20T09:05:00.705Z"
   },
   {
    "duration": 17,
    "start_time": "2021-11-20T09:05:03.173Z"
   },
   {
    "duration": 50,
    "start_time": "2021-11-20T09:05:03.193Z"
   },
   {
    "duration": 10,
    "start_time": "2021-11-20T09:05:03.245Z"
   },
   {
    "duration": 45,
    "start_time": "2021-11-20T09:05:03.258Z"
   },
   {
    "duration": 4,
    "start_time": "2021-11-20T09:05:03.309Z"
   },
   {
    "duration": 16,
    "start_time": "2021-11-20T09:05:03.316Z"
   },
   {
    "duration": 20,
    "start_time": "2021-11-20T09:05:03.334Z"
   },
   {
    "duration": 40,
    "start_time": "2021-11-20T09:05:03.356Z"
   },
   {
    "duration": 18,
    "start_time": "2021-11-20T09:05:03.399Z"
   },
   {
    "duration": 63,
    "start_time": "2021-11-20T09:05:03.419Z"
   },
   {
    "duration": 19,
    "start_time": "2021-11-20T09:05:03.484Z"
   },
   {
    "duration": 12,
    "start_time": "2021-11-20T09:05:03.506Z"
   },
   {
    "duration": 66,
    "start_time": "2021-11-20T09:05:03.520Z"
   },
   {
    "duration": 10,
    "start_time": "2021-11-20T09:05:03.589Z"
   },
   {
    "duration": 13,
    "start_time": "2021-11-20T09:05:03.601Z"
   },
   {
    "duration": 13,
    "start_time": "2021-11-20T09:05:03.617Z"
   },
   {
    "duration": 17,
    "start_time": "2021-11-20T09:05:03.633Z"
   },
   {
    "duration": 30,
    "start_time": "2021-11-20T09:05:03.652Z"
   },
   {
    "duration": 4481,
    "start_time": "2021-11-20T09:05:03.685Z"
   },
   {
    "duration": 23,
    "start_time": "2021-11-20T09:05:08.169Z"
   },
   {
    "duration": 15,
    "start_time": "2021-11-20T09:05:35.619Z"
   },
   {
    "duration": 20,
    "start_time": "2021-11-20T09:05:36.879Z"
   },
   {
    "duration": 16,
    "start_time": "2021-11-20T09:06:19.007Z"
   },
   {
    "duration": 21,
    "start_time": "2021-11-20T09:06:21.034Z"
   },
   {
    "duration": 327,
    "start_time": "2021-11-20T09:06:58.390Z"
   },
   {
    "duration": 16,
    "start_time": "2021-11-20T09:07:21.874Z"
   },
   {
    "duration": 21,
    "start_time": "2021-11-20T09:07:23.199Z"
   },
   {
    "duration": 32,
    "start_time": "2021-11-20T09:07:29.458Z"
   },
   {
    "duration": 15,
    "start_time": "2021-11-20T09:10:05.255Z"
   },
   {
    "duration": 31,
    "start_time": "2021-11-20T09:10:06.737Z"
   },
   {
    "duration": 5,
    "start_time": "2021-11-20T09:10:46.775Z"
   },
   {
    "duration": 508,
    "start_time": "2021-11-20T09:10:46.783Z"
   },
   {
    "duration": 15,
    "start_time": "2021-11-20T09:10:47.294Z"
   },
   {
    "duration": 14,
    "start_time": "2021-11-20T09:10:47.313Z"
   },
   {
    "duration": 57,
    "start_time": "2021-11-20T09:10:47.330Z"
   },
   {
    "duration": 13,
    "start_time": "2021-11-20T09:10:47.391Z"
   },
   {
    "duration": 14,
    "start_time": "2021-11-20T09:10:47.407Z"
   },
   {
    "duration": 65,
    "start_time": "2021-11-20T09:10:47.423Z"
   },
   {
    "duration": 13,
    "start_time": "2021-11-20T09:10:47.492Z"
   },
   {
    "duration": 36,
    "start_time": "2021-11-20T09:10:47.509Z"
   },
   {
    "duration": 15,
    "start_time": "2021-11-20T09:10:47.584Z"
   },
   {
    "duration": 31,
    "start_time": "2021-11-20T09:10:47.602Z"
   },
   {
    "duration": 9,
    "start_time": "2021-11-20T09:10:47.681Z"
   },
   {
    "duration": 23,
    "start_time": "2021-11-20T09:10:47.693Z"
   },
   {
    "duration": 6,
    "start_time": "2021-11-20T09:10:47.719Z"
   },
   {
    "duration": 134,
    "start_time": "2021-11-20T09:10:47.728Z"
   },
   {
    "duration": 38,
    "start_time": "2021-11-20T09:10:47.864Z"
   },
   {
    "duration": 13,
    "start_time": "2021-11-20T09:10:47.905Z"
   },
   {
    "duration": 9,
    "start_time": "2021-11-20T09:10:47.921Z"
   },
   {
    "duration": 171,
    "start_time": "2021-11-20T09:10:47.933Z"
   },
   {
    "duration": 5,
    "start_time": "2021-11-20T09:10:48.107Z"
   },
   {
    "duration": 2434,
    "start_time": "2021-11-20T09:10:48.115Z"
   },
   {
    "duration": 13,
    "start_time": "2021-11-20T09:10:50.551Z"
   },
   {
    "duration": 53,
    "start_time": "2021-11-20T09:10:50.582Z"
   },
   {
    "duration": 14,
    "start_time": "2021-11-20T09:10:50.638Z"
   },
   {
    "duration": 54,
    "start_time": "2021-11-20T09:10:50.655Z"
   },
   {
    "duration": 5,
    "start_time": "2021-11-20T09:10:50.717Z"
   },
   {
    "duration": 19,
    "start_time": "2021-11-20T09:10:50.725Z"
   },
   {
    "duration": 38,
    "start_time": "2021-11-20T09:10:50.746Z"
   },
   {
    "duration": 18,
    "start_time": "2021-11-20T09:10:50.786Z"
   },
   {
    "duration": 16,
    "start_time": "2021-11-20T09:10:50.807Z"
   },
   {
    "duration": 65,
    "start_time": "2021-11-20T09:10:50.826Z"
   },
   {
    "duration": 25,
    "start_time": "2021-11-20T09:10:50.894Z"
   },
   {
    "duration": 10,
    "start_time": "2021-11-20T09:10:50.922Z"
   },
   {
    "duration": 82,
    "start_time": "2021-11-20T09:10:50.935Z"
   },
   {
    "duration": 13,
    "start_time": "2021-11-20T09:10:51.020Z"
   },
   {
    "duration": 10,
    "start_time": "2021-11-20T09:10:51.036Z"
   },
   {
    "duration": 7,
    "start_time": "2021-11-20T09:10:51.082Z"
   },
   {
    "duration": 10,
    "start_time": "2021-11-20T09:10:51.092Z"
   },
   {
    "duration": 9,
    "start_time": "2021-11-20T09:10:51.105Z"
   },
   {
    "duration": 30,
    "start_time": "2021-11-20T09:10:51.116Z"
   },
   {
    "duration": 48,
    "start_time": "2021-11-20T09:10:51.182Z"
   },
   {
    "duration": 1279,
    "start_time": "2021-11-20T09:49:55.951Z"
   },
   {
    "duration": 322,
    "start_time": "2021-11-20T10:11:21.953Z"
   },
   {
    "duration": 6,
    "start_time": "2021-11-20T10:13:34.244Z"
   },
   {
    "duration": 5,
    "start_time": "2021-11-20T10:13:34.930Z"
   },
   {
    "duration": 5,
    "start_time": "2021-11-20T10:13:35.561Z"
   },
   {
    "duration": 24,
    "start_time": "2021-11-20T10:13:38.409Z"
   },
   {
    "duration": 32,
    "start_time": "2021-11-20T10:13:40.563Z"
   },
   {
    "duration": 6,
    "start_time": "2021-11-20T10:15:20.257Z"
   },
   {
    "duration": 5,
    "start_time": "2021-11-20T10:15:20.575Z"
   },
   {
    "duration": 5,
    "start_time": "2021-11-20T10:15:20.844Z"
   },
   {
    "duration": 321,
    "start_time": "2021-11-20T10:15:24.502Z"
   },
   {
    "duration": 11,
    "start_time": "2021-11-20T10:16:23.621Z"
   },
   {
    "duration": 5,
    "start_time": "2021-11-20T10:16:24.169Z"
   },
   {
    "duration": 6,
    "start_time": "2021-11-20T10:16:24.873Z"
   },
   {
    "duration": 5323,
    "start_time": "2021-11-20T10:16:28.655Z"
   },
   {
    "duration": 10786,
    "start_time": "2021-11-20T10:17:47.162Z"
   },
   {
    "duration": 1475,
    "start_time": "2021-11-20T10:18:51.160Z"
   },
   {
    "duration": 1313,
    "start_time": "2021-11-20T10:19:15.356Z"
   },
   {
    "duration": 16,
    "start_time": "2021-11-20T10:19:38.716Z"
   },
   {
    "duration": 33,
    "start_time": "2021-11-20T10:19:42.075Z"
   },
   {
    "duration": 17,
    "start_time": "2021-11-20T10:22:08.236Z"
   },
   {
    "duration": 45,
    "start_time": "2021-11-20T10:22:09.954Z"
   },
   {
    "duration": 5,
    "start_time": "2021-11-20T10:22:32.422Z"
   },
   {
    "duration": 6,
    "start_time": "2021-11-20T10:22:32.728Z"
   },
   {
    "duration": 6,
    "start_time": "2021-11-20T10:22:33.343Z"
   },
   {
    "duration": 15,
    "start_time": "2021-11-20T10:22:35.748Z"
   },
   {
    "duration": 32,
    "start_time": "2021-11-20T10:22:37.229Z"
   },
   {
    "duration": 5,
    "start_time": "2021-11-20T10:23:49.457Z"
   },
   {
    "duration": 6,
    "start_time": "2021-11-20T10:23:49.798Z"
   },
   {
    "duration": 10,
    "start_time": "2021-11-20T10:23:50.512Z"
   },
   {
    "duration": 16,
    "start_time": "2021-11-20T10:23:53.053Z"
   },
   {
    "duration": 46,
    "start_time": "2021-11-20T10:23:54.577Z"
   },
   {
    "duration": 131,
    "start_time": "2021-11-20T10:25:57.172Z"
   },
   {
    "duration": 127,
    "start_time": "2021-11-20T10:26:08.496Z"
   },
   {
    "duration": 7649,
    "start_time": "2021-11-20T10:26:26.560Z"
   },
   {
    "duration": 4,
    "start_time": "2021-11-20T10:29:24.263Z"
   },
   {
    "duration": 617,
    "start_time": "2021-11-20T10:29:24.271Z"
   },
   {
    "duration": 13,
    "start_time": "2021-11-20T10:29:24.891Z"
   },
   {
    "duration": 11,
    "start_time": "2021-11-20T10:29:24.907Z"
   },
   {
    "duration": 13,
    "start_time": "2021-11-20T10:29:24.920Z"
   },
   {
    "duration": 69,
    "start_time": "2021-11-20T10:29:24.935Z"
   },
   {
    "duration": 16,
    "start_time": "2021-11-20T10:29:25.007Z"
   },
   {
    "duration": 22,
    "start_time": "2021-11-20T10:29:25.025Z"
   },
   {
    "duration": 41,
    "start_time": "2021-11-20T10:29:25.052Z"
   },
   {
    "duration": 25,
    "start_time": "2021-11-20T10:29:25.096Z"
   },
   {
    "duration": 11,
    "start_time": "2021-11-20T10:29:25.124Z"
   },
   {
    "duration": 70,
    "start_time": "2021-11-20T10:29:25.137Z"
   },
   {
    "duration": 9,
    "start_time": "2021-11-20T10:29:25.209Z"
   },
   {
    "duration": 66,
    "start_time": "2021-11-20T10:29:25.222Z"
   },
   {
    "duration": 5,
    "start_time": "2021-11-20T10:29:25.291Z"
   },
   {
    "duration": 139,
    "start_time": "2021-11-20T10:29:25.299Z"
   },
   {
    "duration": 23,
    "start_time": "2021-11-20T10:29:25.440Z"
   },
   {
    "duration": 25,
    "start_time": "2021-11-20T10:29:25.466Z"
   },
   {
    "duration": 8,
    "start_time": "2021-11-20T10:29:25.494Z"
   },
   {
    "duration": 177,
    "start_time": "2021-11-20T10:29:25.505Z"
   },
   {
    "duration": 5,
    "start_time": "2021-11-20T10:29:25.684Z"
   },
   {
    "duration": 2906,
    "start_time": "2021-11-20T10:29:25.692Z"
   },
   {
    "duration": 15,
    "start_time": "2021-11-20T10:29:28.601Z"
   },
   {
    "duration": 66,
    "start_time": "2021-11-20T10:29:28.619Z"
   },
   {
    "duration": 12,
    "start_time": "2021-11-20T10:29:28.688Z"
   },
   {
    "duration": 36,
    "start_time": "2021-11-20T10:29:28.703Z"
   },
   {
    "duration": 38,
    "start_time": "2021-11-20T10:29:28.747Z"
   },
   {
    "duration": 17,
    "start_time": "2021-11-20T10:29:28.788Z"
   },
   {
    "duration": 9,
    "start_time": "2021-11-20T10:29:28.808Z"
   },
   {
    "duration": 67,
    "start_time": "2021-11-20T10:29:28.820Z"
   },
   {
    "duration": 17,
    "start_time": "2021-11-20T10:29:28.890Z"
   },
   {
    "duration": 20,
    "start_time": "2021-11-20T10:29:28.910Z"
   },
   {
    "duration": 67,
    "start_time": "2021-11-20T10:29:28.932Z"
   },
   {
    "duration": 10,
    "start_time": "2021-11-20T10:29:29.003Z"
   },
   {
    "duration": 72,
    "start_time": "2021-11-20T10:29:29.015Z"
   },
   {
    "duration": 12,
    "start_time": "2021-11-20T10:29:29.090Z"
   },
   {
    "duration": 8,
    "start_time": "2021-11-20T10:29:29.104Z"
   },
   {
    "duration": 6,
    "start_time": "2021-11-20T10:29:29.115Z"
   },
   {
    "duration": 60,
    "start_time": "2021-11-20T10:29:29.124Z"
   },
   {
    "duration": 7,
    "start_time": "2021-11-20T10:29:29.186Z"
   },
   {
    "duration": 7751,
    "start_time": "2021-11-20T10:29:29.196Z"
   },
   {
    "duration": -182,
    "start_time": "2021-11-20T10:29:37.133Z"
   },
   {
    "duration": 5,
    "start_time": "2021-11-20T10:30:39.346Z"
   },
   {
    "duration": 6,
    "start_time": "2021-11-20T10:30:39.672Z"
   },
   {
    "duration": 5,
    "start_time": "2021-11-20T10:30:40.426Z"
   },
   {
    "duration": 6799,
    "start_time": "2021-11-20T10:30:44.105Z"
   },
   {
    "duration": 207,
    "start_time": "2021-11-20T10:31:28.673Z"
   },
   {
    "duration": 6612,
    "start_time": "2021-11-20T10:31:36.051Z"
   },
   {
    "duration": 8006,
    "start_time": "2021-11-20T10:33:25.767Z"
   },
   {
    "duration": 383,
    "start_time": "2021-11-20T10:34:16.085Z"
   },
   {
    "duration": 50,
    "start_time": "2021-11-20T10:34:17.544Z"
   },
   {
    "duration": 10,
    "start_time": "2021-11-20T10:35:25.543Z"
   },
   {
    "duration": 49,
    "start_time": "2021-11-20T10:35:49.963Z"
   },
   {
    "duration": 7,
    "start_time": "2021-11-20T10:46:39.731Z"
   },
   {
    "duration": 588,
    "start_time": "2021-11-20T10:46:39.743Z"
   },
   {
    "duration": 19,
    "start_time": "2021-11-20T10:46:40.335Z"
   },
   {
    "duration": 29,
    "start_time": "2021-11-20T10:46:40.357Z"
   },
   {
    "duration": 24,
    "start_time": "2021-11-20T10:46:40.390Z"
   },
   {
    "duration": 12,
    "start_time": "2021-11-20T10:46:40.418Z"
   },
   {
    "duration": 58,
    "start_time": "2021-11-20T10:46:40.433Z"
   },
   {
    "duration": 30,
    "start_time": "2021-11-20T10:46:40.496Z"
   },
   {
    "duration": 57,
    "start_time": "2021-11-20T10:46:40.530Z"
   },
   {
    "duration": 32,
    "start_time": "2021-11-20T10:46:40.593Z"
   },
   {
    "duration": 16,
    "start_time": "2021-11-20T10:46:40.629Z"
   },
   {
    "duration": 45,
    "start_time": "2021-11-20T10:46:40.683Z"
   },
   {
    "duration": 11,
    "start_time": "2021-11-20T10:46:40.732Z"
   },
   {
    "duration": 63,
    "start_time": "2021-11-20T10:46:40.746Z"
   },
   {
    "duration": 6,
    "start_time": "2021-11-20T10:46:40.812Z"
   },
   {
    "duration": 136,
    "start_time": "2021-11-20T10:46:40.822Z"
   },
   {
    "duration": 40,
    "start_time": "2021-11-20T10:46:40.961Z"
   },
   {
    "duration": 14,
    "start_time": "2021-11-20T10:46:41.005Z"
   },
   {
    "duration": 9,
    "start_time": "2021-11-20T10:46:41.022Z"
   },
   {
    "duration": 181,
    "start_time": "2021-11-20T10:46:41.034Z"
   },
   {
    "duration": 7,
    "start_time": "2021-11-20T10:46:41.219Z"
   },
   {
    "duration": 3348,
    "start_time": "2021-11-20T10:46:41.229Z"
   },
   {
    "duration": 14,
    "start_time": "2021-11-20T10:46:44.583Z"
   },
   {
    "duration": 31,
    "start_time": "2021-11-20T10:46:44.600Z"
   },
   {
    "duration": 51,
    "start_time": "2021-11-20T10:46:44.634Z"
   },
   {
    "duration": 36,
    "start_time": "2021-11-20T10:46:44.688Z"
   },
   {
    "duration": 6,
    "start_time": "2021-11-20T10:46:44.731Z"
   },
   {
    "duration": 52,
    "start_time": "2021-11-20T10:46:44.740Z"
   },
   {
    "duration": 10,
    "start_time": "2021-11-20T10:46:44.796Z"
   },
   {
    "duration": 24,
    "start_time": "2021-11-20T10:46:44.810Z"
   },
   {
    "duration": 25,
    "start_time": "2021-11-20T10:46:44.883Z"
   },
   {
    "duration": 27,
    "start_time": "2021-11-20T10:46:44.912Z"
   },
   {
    "duration": 63,
    "start_time": "2021-11-20T10:46:44.942Z"
   },
   {
    "duration": 9,
    "start_time": "2021-11-20T10:46:45.009Z"
   },
   {
    "duration": 82,
    "start_time": "2021-11-20T10:46:45.021Z"
   },
   {
    "duration": 13,
    "start_time": "2021-11-20T10:46:45.106Z"
   },
   {
    "duration": 9,
    "start_time": "2021-11-20T10:46:45.123Z"
   },
   {
    "duration": 51,
    "start_time": "2021-11-20T10:46:45.135Z"
   },
   {
    "duration": 16,
    "start_time": "2021-11-20T10:46:45.195Z"
   },
   {
    "duration": 6,
    "start_time": "2021-11-20T10:46:45.217Z"
   },
   {
    "duration": 348,
    "start_time": "2021-11-20T10:46:45.226Z"
   },
   {
    "duration": 63,
    "start_time": "2021-11-20T10:46:45.576Z"
   },
   {
    "duration": 48,
    "start_time": "2021-11-20T10:50:16.453Z"
   },
   {
    "duration": 25,
    "start_time": "2021-11-20T10:50:31.640Z"
   },
   {
    "duration": 86,
    "start_time": "2021-11-20T10:50:36.738Z"
   },
   {
    "duration": 6,
    "start_time": "2021-11-20T10:51:28.124Z"
   },
   {
    "duration": 625,
    "start_time": "2021-11-20T10:51:28.133Z"
   },
   {
    "duration": 28,
    "start_time": "2021-11-20T10:51:28.761Z"
   },
   {
    "duration": 12,
    "start_time": "2021-11-20T10:51:28.798Z"
   },
   {
    "duration": 14,
    "start_time": "2021-11-20T10:51:28.813Z"
   },
   {
    "duration": 57,
    "start_time": "2021-11-20T10:51:28.830Z"
   },
   {
    "duration": 19,
    "start_time": "2021-11-20T10:51:28.891Z"
   },
   {
    "duration": 32,
    "start_time": "2021-11-20T10:51:28.913Z"
   },
   {
    "duration": 46,
    "start_time": "2021-11-20T10:51:28.950Z"
   },
   {
    "duration": 29,
    "start_time": "2021-11-20T10:51:29.001Z"
   },
   {
    "duration": 52,
    "start_time": "2021-11-20T10:51:29.032Z"
   },
   {
    "duration": 42,
    "start_time": "2021-11-20T10:51:29.088Z"
   },
   {
    "duration": 10,
    "start_time": "2021-11-20T10:51:29.133Z"
   },
   {
    "duration": 61,
    "start_time": "2021-11-20T10:51:29.145Z"
   },
   {
    "duration": 10,
    "start_time": "2021-11-20T10:51:29.209Z"
   },
   {
    "duration": 175,
    "start_time": "2021-11-20T10:51:29.222Z"
   },
   {
    "duration": 31,
    "start_time": "2021-11-20T10:51:29.401Z"
   },
   {
    "duration": 10,
    "start_time": "2021-11-20T10:51:29.435Z"
   },
   {
    "duration": 48,
    "start_time": "2021-11-20T10:51:29.448Z"
   },
   {
    "duration": 163,
    "start_time": "2021-11-20T10:51:29.499Z"
   },
   {
    "duration": 17,
    "start_time": "2021-11-20T10:51:29.665Z"
   },
   {
    "duration": 2758,
    "start_time": "2021-11-20T10:51:29.686Z"
   },
   {
    "duration": 18,
    "start_time": "2021-11-20T10:51:32.447Z"
   },
   {
    "duration": 64,
    "start_time": "2021-11-20T10:51:32.469Z"
   },
   {
    "duration": 14,
    "start_time": "2021-11-20T10:51:32.537Z"
   },
   {
    "duration": 61,
    "start_time": "2021-11-20T10:51:32.554Z"
   },
   {
    "duration": 7,
    "start_time": "2021-11-20T10:51:32.620Z"
   },
   {
    "duration": 19,
    "start_time": "2021-11-20T10:51:32.631Z"
   },
   {
    "duration": 12,
    "start_time": "2021-11-20T10:51:32.684Z"
   },
   {
    "duration": 26,
    "start_time": "2021-11-20T10:51:32.700Z"
   },
   {
    "duration": 55,
    "start_time": "2021-11-20T10:51:32.729Z"
   },
   {
    "duration": 28,
    "start_time": "2021-11-20T10:51:32.787Z"
   },
   {
    "duration": 23,
    "start_time": "2021-11-20T10:51:32.836Z"
   },
   {
    "duration": 25,
    "start_time": "2021-11-20T10:51:32.862Z"
   },
   {
    "duration": 52,
    "start_time": "2021-11-20T10:51:32.891Z"
   },
   {
    "duration": 42,
    "start_time": "2021-11-20T10:51:32.946Z"
   },
   {
    "duration": 9,
    "start_time": "2021-11-20T10:51:32.991Z"
   },
   {
    "duration": 9,
    "start_time": "2021-11-20T10:51:33.003Z"
   },
   {
    "duration": 12,
    "start_time": "2021-11-20T10:51:33.025Z"
   },
   {
    "duration": 7,
    "start_time": "2021-11-20T10:51:33.040Z"
   },
   {
    "duration": 436,
    "start_time": "2021-11-20T10:51:33.050Z"
   },
   {
    "duration": 61,
    "start_time": "2021-11-20T10:51:33.489Z"
   },
   {
    "duration": 21,
    "start_time": "2021-11-20T10:52:52.536Z"
   },
   {
    "duration": 444,
    "start_time": "2021-11-20T12:38:24.415Z"
   },
   {
    "duration": 1452,
    "start_time": "2021-11-20T12:40:39.399Z"
   },
   {
    "duration": 563,
    "start_time": "2021-11-20T12:40:40.853Z"
   },
   {
    "duration": 18,
    "start_time": "2021-11-20T12:40:41.422Z"
   },
   {
    "duration": 40,
    "start_time": "2021-11-20T12:40:41.442Z"
   },
   {
    "duration": 11,
    "start_time": "2021-11-20T12:40:41.484Z"
   },
   {
    "duration": 9,
    "start_time": "2021-11-20T12:40:41.498Z"
   },
   {
    "duration": 9,
    "start_time": "2021-11-20T12:40:41.511Z"
   },
   {
    "duration": 70,
    "start_time": "2021-11-20T12:40:41.523Z"
   },
   {
    "duration": 12,
    "start_time": "2021-11-20T12:40:41.596Z"
   },
   {
    "duration": 24,
    "start_time": "2021-11-20T12:40:41.610Z"
   },
   {
    "duration": 48,
    "start_time": "2021-11-20T12:40:41.637Z"
   },
   {
    "duration": 33,
    "start_time": "2021-11-20T12:40:41.687Z"
   },
   {
    "duration": 8,
    "start_time": "2021-11-20T12:40:41.722Z"
   },
   {
    "duration": 54,
    "start_time": "2021-11-20T12:40:41.733Z"
   },
   {
    "duration": 7,
    "start_time": "2021-11-20T12:40:41.790Z"
   },
   {
    "duration": 131,
    "start_time": "2021-11-20T12:40:41.800Z"
   },
   {
    "duration": 22,
    "start_time": "2021-11-20T12:40:41.934Z"
   },
   {
    "duration": 24,
    "start_time": "2021-11-20T12:40:41.958Z"
   },
   {
    "duration": 8,
    "start_time": "2021-11-20T12:40:41.985Z"
   },
   {
    "duration": 186,
    "start_time": "2021-11-20T12:40:41.996Z"
   },
   {
    "duration": 6,
    "start_time": "2021-11-20T12:40:42.185Z"
   },
   {
    "duration": 2566,
    "start_time": "2021-11-20T12:40:42.198Z"
   },
   {
    "duration": 19,
    "start_time": "2021-11-20T12:40:44.767Z"
   },
   {
    "duration": 24,
    "start_time": "2021-11-20T12:40:44.789Z"
   },
   {
    "duration": 10,
    "start_time": "2021-11-20T12:40:44.816Z"
   },
   {
    "duration": 71,
    "start_time": "2021-11-20T12:40:44.828Z"
   },
   {
    "duration": 5,
    "start_time": "2021-11-20T12:40:44.902Z"
   },
   {
    "duration": 12,
    "start_time": "2021-11-20T12:40:44.909Z"
   },
   {
    "duration": 11,
    "start_time": "2021-11-20T12:40:44.924Z"
   },
   {
    "duration": 53,
    "start_time": "2021-11-20T12:40:44.938Z"
   },
   {
    "duration": 21,
    "start_time": "2021-11-20T12:40:44.994Z"
   },
   {
    "duration": 78,
    "start_time": "2021-11-20T12:40:45.017Z"
   },
   {
    "duration": 19,
    "start_time": "2021-11-20T12:40:45.098Z"
   },
   {
    "duration": 19,
    "start_time": "2021-11-20T12:40:45.120Z"
   },
   {
    "duration": 62,
    "start_time": "2021-11-20T12:40:45.142Z"
   },
   {
    "duration": 16,
    "start_time": "2021-11-20T12:40:45.206Z"
   },
   {
    "duration": 16,
    "start_time": "2021-11-20T12:40:45.224Z"
   },
   {
    "duration": 14,
    "start_time": "2021-11-20T12:40:45.243Z"
   },
   {
    "duration": 24,
    "start_time": "2021-11-20T12:40:45.260Z"
   },
   {
    "duration": 12,
    "start_time": "2021-11-20T12:40:45.288Z"
   },
   {
    "duration": 481,
    "start_time": "2021-11-20T12:40:45.303Z"
   },
   {
    "duration": 38,
    "start_time": "2021-11-20T12:40:45.787Z"
   },
   {
    "duration": 5,
    "start_time": "2021-11-20T12:42:32.196Z"
   },
   {
    "duration": 769,
    "start_time": "2021-11-20T12:42:32.204Z"
   },
   {
    "duration": 17,
    "start_time": "2021-11-20T12:42:32.976Z"
   },
   {
    "duration": 12,
    "start_time": "2021-11-20T12:42:32.996Z"
   },
   {
    "duration": 14,
    "start_time": "2021-11-20T12:42:33.011Z"
   },
   {
    "duration": 1505,
    "start_time": "2021-11-20T12:42:39.743Z"
   },
   {
    "duration": 544,
    "start_time": "2021-11-20T12:42:41.251Z"
   },
   {
    "duration": 21,
    "start_time": "2021-11-20T12:42:41.798Z"
   },
   {
    "duration": 10,
    "start_time": "2021-11-20T12:42:41.823Z"
   },
   {
    "duration": 54,
    "start_time": "2021-11-20T12:42:41.836Z"
   },
   {
    "duration": 9,
    "start_time": "2021-11-20T12:42:41.892Z"
   },
   {
    "duration": 17,
    "start_time": "2021-11-20T12:42:41.903Z"
   },
   {
    "duration": 67,
    "start_time": "2021-11-20T12:42:41.922Z"
   },
   {
    "duration": 12,
    "start_time": "2021-11-20T12:42:41.993Z"
   },
   {
    "duration": 26,
    "start_time": "2021-11-20T12:42:42.008Z"
   },
   {
    "duration": 53,
    "start_time": "2021-11-20T12:42:42.036Z"
   },
   {
    "duration": 31,
    "start_time": "2021-11-20T12:42:42.092Z"
   },
   {
    "duration": 11,
    "start_time": "2021-11-20T12:42:42.126Z"
   },
   {
    "duration": 63,
    "start_time": "2021-11-20T12:42:42.141Z"
   },
   {
    "duration": 4,
    "start_time": "2021-11-20T12:42:42.207Z"
   },
   {
    "duration": 135,
    "start_time": "2021-11-20T12:42:42.214Z"
   },
   {
    "duration": 35,
    "start_time": "2021-11-20T12:42:42.351Z"
   },
   {
    "duration": 11,
    "start_time": "2021-11-20T12:42:42.388Z"
   },
   {
    "duration": 10,
    "start_time": "2021-11-20T12:42:42.401Z"
   },
   {
    "duration": 170,
    "start_time": "2021-11-20T12:42:42.414Z"
   },
   {
    "duration": 4,
    "start_time": "2021-11-20T12:42:42.587Z"
   },
   {
    "duration": 2870,
    "start_time": "2021-11-20T12:42:42.593Z"
   },
   {
    "duration": 17,
    "start_time": "2021-11-20T12:42:45.465Z"
   },
   {
    "duration": 24,
    "start_time": "2021-11-20T12:42:45.486Z"
   },
   {
    "duration": 9,
    "start_time": "2021-11-20T12:42:45.513Z"
   },
   {
    "duration": 71,
    "start_time": "2021-11-20T12:42:45.524Z"
   },
   {
    "duration": 4,
    "start_time": "2021-11-20T12:42:45.600Z"
   },
   {
    "duration": 13,
    "start_time": "2021-11-20T12:42:45.607Z"
   },
   {
    "duration": 7,
    "start_time": "2021-11-20T12:42:45.623Z"
   },
   {
    "duration": 58,
    "start_time": "2021-11-20T12:42:45.633Z"
   },
   {
    "duration": 16,
    "start_time": "2021-11-20T12:42:45.694Z"
   },
   {
    "duration": 19,
    "start_time": "2021-11-20T12:42:45.713Z"
   },
   {
    "duration": 58,
    "start_time": "2021-11-20T12:42:45.734Z"
   },
   {
    "duration": 6,
    "start_time": "2021-11-20T12:42:45.795Z"
   },
   {
    "duration": 31,
    "start_time": "2021-11-20T12:42:45.804Z"
   },
   {
    "duration": 51,
    "start_time": "2021-11-20T12:42:45.838Z"
   },
   {
    "duration": 12,
    "start_time": "2021-11-20T12:42:45.892Z"
   },
   {
    "duration": 10,
    "start_time": "2021-11-20T12:42:45.907Z"
   },
   {
    "duration": 6,
    "start_time": "2021-11-20T12:42:45.919Z"
   },
   {
    "duration": 6,
    "start_time": "2021-11-20T12:42:45.928Z"
   },
   {
    "duration": 323,
    "start_time": "2021-11-20T12:42:45.937Z"
   },
   {
    "duration": 30,
    "start_time": "2021-11-20T12:42:46.262Z"
   },
   {
    "duration": 772,
    "start_time": "2021-11-20T12:42:46.295Z"
   },
   {
    "duration": 1936,
    "start_time": "2021-11-20T13:02:55.846Z"
   },
   {
    "duration": 750,
    "start_time": "2021-11-20T13:02:57.785Z"
   },
   {
    "duration": 26,
    "start_time": "2021-11-20T13:02:58.538Z"
   },
   {
    "duration": 12,
    "start_time": "2021-11-20T13:02:58.583Z"
   },
   {
    "duration": 13,
    "start_time": "2021-11-20T13:02:58.598Z"
   },
   {
    "duration": 12,
    "start_time": "2021-11-20T13:02:58.613Z"
   },
   {
    "duration": 55,
    "start_time": "2021-11-20T13:02:58.628Z"
   },
   {
    "duration": 32,
    "start_time": "2021-11-20T13:02:58.687Z"
   },
   {
    "duration": 13,
    "start_time": "2021-11-20T13:02:58.722Z"
   },
   {
    "duration": 49,
    "start_time": "2021-11-20T13:02:58.737Z"
   },
   {
    "duration": 11,
    "start_time": "2021-11-20T13:02:58.789Z"
   },
   {
    "duration": 34,
    "start_time": "2021-11-20T13:02:58.803Z"
   },
   {
    "duration": 47,
    "start_time": "2021-11-20T13:02:58.840Z"
   },
   {
    "duration": 19,
    "start_time": "2021-11-20T13:02:58.889Z"
   },
   {
    "duration": 5,
    "start_time": "2021-11-20T13:02:58.911Z"
   },
   {
    "duration": 139,
    "start_time": "2021-11-20T13:02:58.919Z"
   },
   {
    "duration": 31,
    "start_time": "2021-11-20T13:02:59.060Z"
   },
   {
    "duration": 13,
    "start_time": "2021-11-20T13:02:59.094Z"
   },
   {
    "duration": 7,
    "start_time": "2021-11-20T13:02:59.109Z"
   },
   {
    "duration": 193,
    "start_time": "2021-11-20T13:02:59.119Z"
   },
   {
    "duration": 4,
    "start_time": "2021-11-20T13:02:59.315Z"
   },
   {
    "duration": 2540,
    "start_time": "2021-11-20T13:02:59.321Z"
   },
   {
    "duration": 21,
    "start_time": "2021-11-20T13:03:01.868Z"
   },
   {
    "duration": 37,
    "start_time": "2021-11-20T13:03:01.894Z"
   },
   {
    "duration": 9,
    "start_time": "2021-11-20T13:03:01.933Z"
   },
   {
    "duration": 64,
    "start_time": "2021-11-20T13:03:01.944Z"
   },
   {
    "duration": 5,
    "start_time": "2021-11-20T13:03:02.010Z"
   },
   {
    "duration": 16,
    "start_time": "2021-11-20T13:03:02.017Z"
   },
   {
    "duration": 51,
    "start_time": "2021-11-20T13:03:02.035Z"
   },
   {
    "duration": 23,
    "start_time": "2021-11-20T13:03:02.088Z"
   },
   {
    "duration": 18,
    "start_time": "2021-11-20T13:03:02.115Z"
   },
   {
    "duration": 72,
    "start_time": "2021-11-20T13:03:02.136Z"
   },
   {
    "duration": 49,
    "start_time": "2021-11-20T13:03:02.211Z"
   },
   {
    "duration": 9,
    "start_time": "2021-11-20T13:03:02.263Z"
   },
   {
    "duration": 33,
    "start_time": "2021-11-20T13:03:02.284Z"
   },
   {
    "duration": 18,
    "start_time": "2021-11-20T13:03:02.321Z"
   },
   {
    "duration": 42,
    "start_time": "2021-11-20T13:03:02.342Z"
   },
   {
    "duration": 11,
    "start_time": "2021-11-20T13:03:02.387Z"
   },
   {
    "duration": 42,
    "start_time": "2021-11-20T13:03:02.400Z"
   },
   {
    "duration": 45,
    "start_time": "2021-11-20T13:03:02.445Z"
   },
   {
    "duration": 389,
    "start_time": "2021-11-20T13:03:02.493Z"
   },
   {
    "duration": 29,
    "start_time": "2021-11-20T13:03:02.885Z"
   },
   {
    "duration": 118257,
    "start_time": "2021-11-20T13:03:02.917Z"
   },
   {
    "duration": 5,
    "start_time": "2021-11-20T13:05:01.177Z"
   },
   {
    "duration": 144665,
    "start_time": "2021-11-20T13:05:44.432Z"
   },
   {
    "duration": 85429,
    "start_time": "2021-11-20T13:10:18.075Z"
   },
   {
    "duration": 841,
    "start_time": "2021-11-20T13:14:09.978Z"
   },
   {
    "duration": 387,
    "start_time": "2021-11-20T13:17:50.180Z"
   },
   {
    "duration": 575,
    "start_time": "2021-11-20T13:18:37.856Z"
   },
   {
    "duration": 4174,
    "start_time": "2021-11-20T13:20:56.948Z"
   },
   {
    "duration": 112,
    "start_time": "2021-11-20T13:24:22.454Z"
   },
   {
    "duration": 474,
    "start_time": "2021-11-20T13:25:03.916Z"
   },
   {
    "duration": 359,
    "start_time": "2021-11-20T13:29:05.837Z"
   },
   {
    "duration": 186,
    "start_time": "2021-11-20T13:31:56.091Z"
   },
   {
    "duration": 303,
    "start_time": "2021-11-20T13:31:59.671Z"
   },
   {
    "duration": 319,
    "start_time": "2021-11-20T13:41:07.594Z"
   },
   {
    "duration": 308,
    "start_time": "2021-11-20T13:42:03.665Z"
   },
   {
    "duration": 426,
    "start_time": "2021-11-20T13:42:40.584Z"
   },
   {
    "duration": 327,
    "start_time": "2021-11-20T13:44:01.768Z"
   },
   {
    "duration": 633,
    "start_time": "2021-11-20T13:44:26.916Z"
   },
   {
    "duration": 507,
    "start_time": "2021-11-20T13:44:54.048Z"
   },
   {
    "duration": 427,
    "start_time": "2021-11-20T13:45:24.096Z"
   },
   {
    "duration": 502,
    "start_time": "2021-11-20T13:45:32.462Z"
   },
   {
    "duration": 588,
    "start_time": "2021-11-20T13:47:54.067Z"
   },
   {
    "duration": 431,
    "start_time": "2021-11-20T13:48:14.567Z"
   },
   {
    "duration": 453,
    "start_time": "2021-11-20T13:48:47.604Z"
   },
   {
    "duration": 306,
    "start_time": "2021-11-20T13:54:11.561Z"
   },
   {
    "duration": 10,
    "start_time": "2021-11-20T13:54:16.034Z"
   },
   {
    "duration": 8,
    "start_time": "2021-11-20T13:54:30.472Z"
   },
   {
    "duration": 12,
    "start_time": "2021-11-20T13:54:38.022Z"
   },
   {
    "duration": 7,
    "start_time": "2021-11-20T13:54:49.458Z"
   },
   {
    "duration": 7,
    "start_time": "2021-11-20T13:54:58.977Z"
   },
   {
    "duration": 646,
    "start_time": "2021-11-20T13:55:42.500Z"
   },
   {
    "duration": 148,
    "start_time": "2021-11-20T14:01:10.830Z"
   },
   {
    "duration": 599,
    "start_time": "2021-11-20T14:01:29.357Z"
   },
   {
    "duration": 339,
    "start_time": "2021-11-20T14:02:39.002Z"
   },
   {
    "duration": 551,
    "start_time": "2021-11-20T14:03:24.116Z"
   },
   {
    "duration": 7924,
    "start_time": "2021-11-20T14:04:12.781Z"
   },
   {
    "duration": 7610,
    "start_time": "2021-11-20T14:04:42.215Z"
   },
   {
    "duration": 504,
    "start_time": "2021-11-20T14:08:16.305Z"
   },
   {
    "duration": 19988,
    "start_time": "2021-11-20T14:08:38.904Z"
   },
   {
    "duration": 774,
    "start_time": "2021-11-20T14:20:39.037Z"
   },
   {
    "duration": 304,
    "start_time": "2021-11-20T14:25:45.219Z"
   },
   {
    "duration": 320,
    "start_time": "2021-11-20T14:26:28.729Z"
   },
   {
    "duration": 1575,
    "start_time": "2021-11-20T14:39:08.737Z"
   },
   {
    "duration": 783,
    "start_time": "2021-11-20T14:39:10.315Z"
   },
   {
    "duration": 24,
    "start_time": "2021-11-20T14:39:11.102Z"
   },
   {
    "duration": 10,
    "start_time": "2021-11-20T14:39:11.129Z"
   },
   {
    "duration": 49,
    "start_time": "2021-11-20T14:39:11.141Z"
   },
   {
    "duration": 10,
    "start_time": "2021-11-20T14:39:11.193Z"
   },
   {
    "duration": 11,
    "start_time": "2021-11-20T14:39:11.207Z"
   },
   {
    "duration": 68,
    "start_time": "2021-11-20T14:39:11.222Z"
   },
   {
    "duration": 11,
    "start_time": "2021-11-20T14:39:11.294Z"
   },
   {
    "duration": 24,
    "start_time": "2021-11-20T14:39:11.308Z"
   },
   {
    "duration": 57,
    "start_time": "2021-11-20T14:39:11.334Z"
   },
   {
    "duration": 27,
    "start_time": "2021-11-20T14:39:11.394Z"
   },
   {
    "duration": 8,
    "start_time": "2021-11-20T14:39:11.424Z"
   },
   {
    "duration": 64,
    "start_time": "2021-11-20T14:39:11.434Z"
   },
   {
    "duration": 14,
    "start_time": "2021-11-20T14:39:11.500Z"
   },
   {
    "duration": 140,
    "start_time": "2021-11-20T14:39:11.517Z"
   },
   {
    "duration": 32,
    "start_time": "2021-11-20T14:39:11.659Z"
   },
   {
    "duration": 13,
    "start_time": "2021-11-20T14:39:11.693Z"
   },
   {
    "duration": 5,
    "start_time": "2021-11-20T14:39:11.709Z"
   },
   {
    "duration": 182,
    "start_time": "2021-11-20T14:39:11.717Z"
   },
   {
    "duration": 4,
    "start_time": "2021-11-20T14:39:11.902Z"
   },
   {
    "duration": 3074,
    "start_time": "2021-11-20T14:39:11.909Z"
   },
   {
    "duration": 16,
    "start_time": "2021-11-20T14:39:14.992Z"
   },
   {
    "duration": 28,
    "start_time": "2021-11-20T14:39:15.012Z"
   },
   {
    "duration": 50,
    "start_time": "2021-11-20T14:39:15.043Z"
   },
   {
    "duration": 50,
    "start_time": "2021-11-20T14:39:15.096Z"
   },
   {
    "duration": 5,
    "start_time": "2021-11-20T14:39:15.149Z"
   },
   {
    "duration": 14,
    "start_time": "2021-11-20T14:39:15.182Z"
   },
   {
    "duration": 14,
    "start_time": "2021-11-20T14:39:15.199Z"
   },
   {
    "duration": 69,
    "start_time": "2021-11-20T14:39:15.216Z"
   },
   {
    "duration": 26,
    "start_time": "2021-11-20T14:39:15.289Z"
   },
   {
    "duration": 63,
    "start_time": "2021-11-20T14:39:15.319Z"
   },
   {
    "duration": 21,
    "start_time": "2021-11-20T14:39:15.385Z"
   },
   {
    "duration": 8,
    "start_time": "2021-11-20T14:39:15.410Z"
   },
   {
    "duration": 87,
    "start_time": "2021-11-20T14:39:15.421Z"
   },
   {
    "duration": 13,
    "start_time": "2021-11-20T14:39:15.511Z"
   },
   {
    "duration": 7,
    "start_time": "2021-11-20T14:39:15.527Z"
   },
   {
    "duration": 47,
    "start_time": "2021-11-20T14:39:15.538Z"
   },
   {
    "duration": 6,
    "start_time": "2021-11-20T14:39:15.587Z"
   },
   {
    "duration": 7,
    "start_time": "2021-11-20T14:39:15.596Z"
   },
   {
    "duration": 332,
    "start_time": "2021-11-20T14:39:15.606Z"
   },
   {
    "duration": 21,
    "start_time": "2021-11-20T14:39:15.940Z"
   },
   {
    "duration": 664,
    "start_time": "2021-11-20T14:39:15.964Z"
   },
   {
    "duration": 517,
    "start_time": "2021-11-20T14:39:16.633Z"
   },
   {
    "duration": 5,
    "start_time": "2021-11-20T14:39:17.152Z"
   },
   {
    "duration": 752,
    "start_time": "2021-11-20T14:39:17.159Z"
   },
   {
    "duration": 113,
    "start_time": "2021-11-20T14:59:26.430Z"
   },
   {
    "duration": 108,
    "start_time": "2021-11-20T14:59:47.998Z"
   },
   {
    "duration": 115,
    "start_time": "2021-11-20T14:59:53.694Z"
   },
   {
    "duration": 329,
    "start_time": "2021-11-20T15:00:13.478Z"
   },
   {
    "duration": 496,
    "start_time": "2021-11-20T15:01:32.098Z"
   },
   {
    "duration": 499,
    "start_time": "2021-11-20T15:01:45.827Z"
   },
   {
    "duration": 2060,
    "start_time": "2021-11-20T16:00:24.442Z"
   },
   {
    "duration": 542,
    "start_time": "2021-11-20T16:00:26.506Z"
   },
   {
    "duration": 20,
    "start_time": "2021-11-20T16:00:27.051Z"
   },
   {
    "duration": 10,
    "start_time": "2021-11-20T16:00:27.083Z"
   },
   {
    "duration": 14,
    "start_time": "2021-11-20T16:00:27.097Z"
   },
   {
    "duration": 14,
    "start_time": "2021-11-20T16:00:27.113Z"
   },
   {
    "duration": 59,
    "start_time": "2021-11-20T16:00:27.129Z"
   },
   {
    "duration": 24,
    "start_time": "2021-11-20T16:00:27.193Z"
   },
   {
    "duration": 11,
    "start_time": "2021-11-20T16:00:27.222Z"
   },
   {
    "duration": 61,
    "start_time": "2021-11-20T16:00:27.236Z"
   },
   {
    "duration": 12,
    "start_time": "2021-11-20T16:00:27.300Z"
   },
   {
    "duration": 68,
    "start_time": "2021-11-20T16:00:27.314Z"
   },
   {
    "duration": 8,
    "start_time": "2021-11-20T16:00:27.384Z"
   },
   {
    "duration": 22,
    "start_time": "2021-11-20T16:00:27.395Z"
   },
   {
    "duration": 9,
    "start_time": "2021-11-20T16:00:27.420Z"
   },
   {
    "duration": 214,
    "start_time": "2021-11-20T16:00:27.432Z"
   },
   {
    "duration": 44,
    "start_time": "2021-11-20T16:00:27.649Z"
   },
   {
    "duration": 14,
    "start_time": "2021-11-20T16:00:27.696Z"
   },
   {
    "duration": 12,
    "start_time": "2021-11-20T16:00:27.713Z"
   },
   {
    "duration": 171,
    "start_time": "2021-11-20T16:00:27.728Z"
   },
   {
    "duration": 4,
    "start_time": "2021-11-20T16:00:27.901Z"
   },
   {
    "duration": 2585,
    "start_time": "2021-11-20T16:00:27.908Z"
   },
   {
    "duration": 12,
    "start_time": "2021-11-20T16:00:30.500Z"
   },
   {
    "duration": 30,
    "start_time": "2021-11-20T16:00:30.516Z"
   },
   {
    "duration": 40,
    "start_time": "2021-11-20T16:00:30.549Z"
   },
   {
    "duration": 64,
    "start_time": "2021-11-20T16:00:30.592Z"
   },
   {
    "duration": 6,
    "start_time": "2021-11-20T16:00:30.659Z"
   },
   {
    "duration": 21,
    "start_time": "2021-11-20T16:00:30.667Z"
   },
   {
    "duration": 10,
    "start_time": "2021-11-20T16:00:30.691Z"
   },
   {
    "duration": 41,
    "start_time": "2021-11-20T16:00:30.703Z"
   },
   {
    "duration": 41,
    "start_time": "2021-11-20T16:00:30.747Z"
   },
   {
    "duration": 46,
    "start_time": "2021-11-20T16:00:30.791Z"
   },
   {
    "duration": 29,
    "start_time": "2021-11-20T16:00:30.840Z"
   },
   {
    "duration": 19,
    "start_time": "2021-11-20T16:00:30.871Z"
   },
   {
    "duration": 44,
    "start_time": "2021-11-20T16:00:30.893Z"
   },
   {
    "duration": 13,
    "start_time": "2021-11-20T16:00:30.940Z"
   },
   {
    "duration": 38,
    "start_time": "2021-11-20T16:00:30.956Z"
   },
   {
    "duration": 13,
    "start_time": "2021-11-20T16:00:30.997Z"
   },
   {
    "duration": 24,
    "start_time": "2021-11-20T16:00:31.013Z"
   },
   {
    "duration": 15,
    "start_time": "2021-11-20T16:00:31.040Z"
   },
   {
    "duration": 290,
    "start_time": "2021-11-20T16:00:31.058Z"
   },
   {
    "duration": 37,
    "start_time": "2021-11-20T16:00:31.350Z"
   },
   {
    "duration": 453,
    "start_time": "2021-11-20T16:00:31.389Z"
   },
   {
    "duration": 452,
    "start_time": "2021-11-20T16:00:31.846Z"
   },
   {
    "duration": 102,
    "start_time": "2021-11-20T16:00:58.883Z"
   },
   {
    "duration": 361,
    "start_time": "2021-11-20T16:01:14.330Z"
   },
   {
    "duration": 402,
    "start_time": "2021-11-20T16:01:52.474Z"
   },
   {
    "duration": 313,
    "start_time": "2021-11-20T16:03:10.812Z"
   },
   {
    "duration": 338,
    "start_time": "2021-11-20T16:03:18.345Z"
   },
   {
    "duration": 17814,
    "start_time": "2021-11-20T16:03:41.976Z"
   },
   {
    "duration": 50490,
    "start_time": "2021-11-20T16:04:17.434Z"
   },
   {
    "duration": 1250,
    "start_time": "2021-11-20T16:06:48.032Z"
   },
   {
    "duration": 19,
    "start_time": "2021-11-20T16:09:40.164Z"
   },
   {
    "duration": 451,
    "start_time": "2021-11-20T16:18:17.484Z"
   },
   {
    "duration": 310,
    "start_time": "2021-11-20T16:18:22.723Z"
   },
   {
    "duration": 319,
    "start_time": "2021-11-20T16:19:55.245Z"
   },
   {
    "duration": 336,
    "start_time": "2021-11-20T16:20:22.619Z"
   },
   {
    "duration": 431,
    "start_time": "2021-11-20T16:25:26.539Z"
   },
   {
    "duration": 263,
    "start_time": "2021-11-20T16:26:20.126Z"
   },
   {
    "duration": 313,
    "start_time": "2021-11-20T16:26:24.805Z"
   },
   {
    "duration": 271,
    "start_time": "2021-11-20T16:27:46.680Z"
   },
   {
    "duration": 328,
    "start_time": "2021-11-20T16:27:51.918Z"
   },
   {
    "duration": 321,
    "start_time": "2021-11-20T16:29:33.081Z"
   },
   {
    "duration": 336,
    "start_time": "2021-11-20T16:29:42.974Z"
   },
   {
    "duration": 318,
    "start_time": "2021-11-20T16:30:53.235Z"
   },
   {
    "duration": 442,
    "start_time": "2021-11-20T16:31:00.392Z"
   },
   {
    "duration": 455,
    "start_time": "2021-11-20T16:31:24.481Z"
   },
   {
    "duration": 9056,
    "start_time": "2021-11-20T16:32:52.525Z"
   },
   {
    "duration": 9294,
    "start_time": "2021-11-20T16:33:33.180Z"
   },
   {
    "duration": 430,
    "start_time": "2021-11-20T16:34:48.533Z"
   },
   {
    "duration": 1430,
    "start_time": "2021-11-20T16:38:12.428Z"
   },
   {
    "duration": 533,
    "start_time": "2021-11-20T16:38:13.860Z"
   },
   {
    "duration": 21,
    "start_time": "2021-11-20T16:38:14.397Z"
   },
   {
    "duration": 12,
    "start_time": "2021-11-20T16:38:14.422Z"
   },
   {
    "duration": 52,
    "start_time": "2021-11-20T16:38:14.437Z"
   },
   {
    "duration": 10,
    "start_time": "2021-11-20T16:38:14.491Z"
   },
   {
    "duration": 13,
    "start_time": "2021-11-20T16:38:14.503Z"
   },
   {
    "duration": 69,
    "start_time": "2021-11-20T16:38:14.518Z"
   },
   {
    "duration": 16,
    "start_time": "2021-11-20T16:38:14.593Z"
   },
   {
    "duration": 35,
    "start_time": "2021-11-20T16:38:14.612Z"
   },
   {
    "duration": 16,
    "start_time": "2021-11-20T16:38:14.682Z"
   },
   {
    "duration": 28,
    "start_time": "2021-11-20T16:38:14.700Z"
   },
   {
    "duration": 7,
    "start_time": "2021-11-20T16:38:14.731Z"
   },
   {
    "duration": 55,
    "start_time": "2021-11-20T16:38:14.741Z"
   },
   {
    "duration": 8,
    "start_time": "2021-11-20T16:38:14.798Z"
   },
   {
    "duration": 122,
    "start_time": "2021-11-20T16:38:14.808Z"
   },
   {
    "duration": 23,
    "start_time": "2021-11-20T16:38:14.932Z"
   },
   {
    "duration": 30,
    "start_time": "2021-11-20T16:38:14.957Z"
   },
   {
    "duration": 10,
    "start_time": "2021-11-20T16:38:14.990Z"
   },
   {
    "duration": 166,
    "start_time": "2021-11-20T16:38:15.003Z"
   },
   {
    "duration": 11,
    "start_time": "2021-11-20T16:38:15.171Z"
   },
   {
    "duration": 2445,
    "start_time": "2021-11-20T16:38:15.184Z"
   },
   {
    "duration": 13,
    "start_time": "2021-11-20T16:38:17.632Z"
   },
   {
    "duration": 41,
    "start_time": "2021-11-20T16:38:17.648Z"
   },
   {
    "duration": 14,
    "start_time": "2021-11-20T16:38:17.692Z"
   },
   {
    "duration": 41,
    "start_time": "2021-11-20T16:38:17.708Z"
   },
   {
    "duration": 4,
    "start_time": "2021-11-20T16:38:17.754Z"
   },
   {
    "duration": 27,
    "start_time": "2021-11-20T16:38:17.761Z"
   },
   {
    "duration": 9,
    "start_time": "2021-11-20T16:38:17.790Z"
   },
   {
    "duration": 22,
    "start_time": "2021-11-20T16:38:17.801Z"
   },
   {
    "duration": 59,
    "start_time": "2021-11-20T16:38:17.825Z"
   },
   {
    "duration": 25,
    "start_time": "2021-11-20T16:38:17.887Z"
   },
   {
    "duration": 19,
    "start_time": "2021-11-20T16:38:17.915Z"
   },
   {
    "duration": 48,
    "start_time": "2021-11-20T16:38:17.936Z"
   },
   {
    "duration": 36,
    "start_time": "2021-11-20T16:38:17.987Z"
   },
   {
    "duration": 13,
    "start_time": "2021-11-20T16:38:18.026Z"
   },
   {
    "duration": 41,
    "start_time": "2021-11-20T16:38:18.041Z"
   },
   {
    "duration": 5,
    "start_time": "2021-11-20T16:38:18.085Z"
   },
   {
    "duration": 10,
    "start_time": "2021-11-20T16:38:18.093Z"
   },
   {
    "duration": 6,
    "start_time": "2021-11-20T16:38:18.105Z"
   },
   {
    "duration": 320,
    "start_time": "2021-11-20T16:38:18.114Z"
   },
   {
    "duration": 22,
    "start_time": "2021-11-20T16:38:18.436Z"
   },
   {
    "duration": 457,
    "start_time": "2021-11-20T16:38:18.460Z"
   },
   {
    "duration": 3,
    "start_time": "2021-11-20T16:38:18.920Z"
   },
   {
    "duration": 47606,
    "start_time": "2021-11-20T16:38:18.925Z"
   },
   {
    "duration": 22019,
    "start_time": "2021-11-20T16:40:46.582Z"
   },
   {
    "duration": 474,
    "start_time": "2021-11-20T16:46:31.622Z"
   },
   {
    "duration": 428,
    "start_time": "2021-11-20T16:46:45.075Z"
   },
   {
    "duration": 70285,
    "start_time": "2021-11-20T16:48:25.243Z"
   },
   {
    "duration": 593,
    "start_time": "2021-11-20T16:52:46.956Z"
   },
   {
    "duration": 18594,
    "start_time": "2021-11-20T16:56:14.259Z"
   },
   {
    "duration": 60839,
    "start_time": "2021-11-20T16:56:49.817Z"
   },
   {
    "duration": 688,
    "start_time": "2021-11-20T16:58:04.237Z"
   },
   {
    "duration": 385,
    "start_time": "2021-11-20T16:58:09.616Z"
   },
   {
    "duration": 300,
    "start_time": "2021-11-20T16:58:27.740Z"
   },
   {
    "duration": 13184,
    "start_time": "2021-11-20T16:58:32.703Z"
   },
   {
    "duration": 61994,
    "start_time": "2021-11-20T16:58:51.470Z"
   },
   {
    "duration": 1600,
    "start_time": "2021-11-20T17:08:59.598Z"
   },
   {
    "duration": 615,
    "start_time": "2021-11-20T17:09:01.201Z"
   },
   {
    "duration": 29,
    "start_time": "2021-11-20T17:09:01.821Z"
   },
   {
    "duration": 35,
    "start_time": "2021-11-20T17:09:01.854Z"
   },
   {
    "duration": 35,
    "start_time": "2021-11-20T17:09:01.893Z"
   },
   {
    "duration": 23,
    "start_time": "2021-11-20T17:09:01.931Z"
   },
   {
    "duration": 32,
    "start_time": "2021-11-20T17:09:01.957Z"
   },
   {
    "duration": 24,
    "start_time": "2021-11-20T17:09:01.992Z"
   },
   {
    "duration": 13,
    "start_time": "2021-11-20T17:09:02.021Z"
   },
   {
    "duration": 66,
    "start_time": "2021-11-20T17:09:02.037Z"
   },
   {
    "duration": 11,
    "start_time": "2021-11-20T17:09:02.105Z"
   },
   {
    "duration": 72,
    "start_time": "2021-11-20T17:09:02.119Z"
   },
   {
    "duration": 10,
    "start_time": "2021-11-20T17:09:02.194Z"
   },
   {
    "duration": 28,
    "start_time": "2021-11-20T17:09:02.208Z"
   },
   {
    "duration": 43,
    "start_time": "2021-11-20T17:09:02.239Z"
   },
   {
    "duration": 178,
    "start_time": "2021-11-20T17:09:02.286Z"
   },
   {
    "duration": 37,
    "start_time": "2021-11-20T17:09:02.468Z"
   },
   {
    "duration": 17,
    "start_time": "2021-11-20T17:09:02.508Z"
   },
   {
    "duration": 21,
    "start_time": "2021-11-20T17:09:02.529Z"
   },
   {
    "duration": 169,
    "start_time": "2021-11-20T17:09:02.582Z"
   },
   {
    "duration": 4,
    "start_time": "2021-11-20T17:09:02.753Z"
   },
   {
    "duration": 2423,
    "start_time": "2021-11-20T17:09:02.759Z"
   },
   {
    "duration": 11,
    "start_time": "2021-11-20T17:09:05.184Z"
   },
   {
    "duration": 23,
    "start_time": "2021-11-20T17:09:05.197Z"
   },
   {
    "duration": 11,
    "start_time": "2021-11-20T17:09:05.222Z"
   },
   {
    "duration": 84,
    "start_time": "2021-11-20T17:09:05.236Z"
   },
   {
    "duration": 6,
    "start_time": "2021-11-20T17:09:05.327Z"
   },
   {
    "duration": 17,
    "start_time": "2021-11-20T17:09:05.336Z"
   },
   {
    "duration": 10,
    "start_time": "2021-11-20T17:09:05.383Z"
   },
   {
    "duration": 26,
    "start_time": "2021-11-20T17:09:05.396Z"
   },
   {
    "duration": 60,
    "start_time": "2021-11-20T17:09:05.425Z"
   },
   {
    "duration": 22,
    "start_time": "2021-11-20T17:09:05.487Z"
   },
   {
    "duration": 28,
    "start_time": "2021-11-20T17:09:05.512Z"
   },
   {
    "duration": 43,
    "start_time": "2021-11-20T17:09:05.543Z"
   },
   {
    "duration": 31,
    "start_time": "2021-11-20T17:09:05.589Z"
   },
   {
    "duration": 13,
    "start_time": "2021-11-20T17:09:05.623Z"
   },
   {
    "duration": 47,
    "start_time": "2021-11-20T17:09:05.638Z"
   },
   {
    "duration": 8,
    "start_time": "2021-11-20T17:09:05.688Z"
   },
   {
    "duration": 9,
    "start_time": "2021-11-20T17:09:05.699Z"
   },
   {
    "duration": 7,
    "start_time": "2021-11-20T17:09:05.711Z"
   },
   {
    "duration": 338,
    "start_time": "2021-11-20T17:09:05.721Z"
   },
   {
    "duration": 33,
    "start_time": "2021-11-20T17:09:06.062Z"
   },
   {
    "duration": 440,
    "start_time": "2021-11-20T17:09:06.098Z"
   },
   {
    "duration": 3,
    "start_time": "2021-11-20T17:09:06.541Z"
   },
   {
    "duration": 686,
    "start_time": "2021-11-20T17:11:42.023Z"
   },
   {
    "duration": 5,
    "start_time": "2021-11-20T17:26:09.897Z"
   },
   {
    "duration": 105,
    "start_time": "2021-11-20T17:26:12.879Z"
   },
   {
    "duration": 463,
    "start_time": "2021-11-20T17:26:26.515Z"
   },
   {
    "duration": 399,
    "start_time": "2021-11-20T17:27:44.050Z"
   },
   {
    "duration": 5,
    "start_time": "2021-11-20T17:28:13.524Z"
   },
   {
    "duration": 368,
    "start_time": "2021-11-20T17:28:14.887Z"
   },
   {
    "duration": 635,
    "start_time": "2021-11-20T17:28:55.917Z"
   },
   {
    "duration": 35,
    "start_time": "2021-11-20T17:33:44.921Z"
   },
   {
    "duration": 35,
    "start_time": "2021-11-20T17:33:55.938Z"
   },
   {
    "duration": 769,
    "start_time": "2021-11-20T17:34:05.724Z"
   },
   {
    "duration": 32,
    "start_time": "2021-11-20T17:34:08.953Z"
   },
   {
    "duration": 38,
    "start_time": "2021-11-20T17:34:13.699Z"
   },
   {
    "duration": 36,
    "start_time": "2021-11-20T17:35:26.306Z"
   },
   {
    "duration": 400,
    "start_time": "2021-11-20T17:36:36.117Z"
   },
   {
    "duration": 44,
    "start_time": "2021-11-20T17:38:20.198Z"
   },
   {
    "duration": 422,
    "start_time": "2021-11-20T17:40:54.725Z"
   },
   {
    "duration": 361,
    "start_time": "2021-11-20T17:41:09.943Z"
   },
   {
    "duration": 453,
    "start_time": "2021-11-20T17:41:53.693Z"
   },
   {
    "duration": 7,
    "start_time": "2021-11-20T17:48:45.079Z"
   },
   {
    "duration": 584,
    "start_time": "2021-11-20T17:48:45.089Z"
   },
   {
    "duration": 16,
    "start_time": "2021-11-20T17:48:45.681Z"
   },
   {
    "duration": 19,
    "start_time": "2021-11-20T17:48:45.700Z"
   },
   {
    "duration": 13,
    "start_time": "2021-11-20T17:48:45.723Z"
   },
   {
    "duration": 47,
    "start_time": "2021-11-20T17:48:45.738Z"
   },
   {
    "duration": 14,
    "start_time": "2021-11-20T17:48:45.789Z"
   },
   {
    "duration": 32,
    "start_time": "2021-11-20T17:48:45.806Z"
   },
   {
    "duration": 17,
    "start_time": "2021-11-20T17:48:45.884Z"
   },
   {
    "duration": 29,
    "start_time": "2021-11-20T17:48:45.906Z"
   },
   {
    "duration": 55,
    "start_time": "2021-11-20T17:48:45.938Z"
   },
   {
    "duration": 28,
    "start_time": "2021-11-20T17:48:45.996Z"
   },
   {
    "duration": 9,
    "start_time": "2021-11-20T17:48:46.027Z"
   },
   {
    "duration": 58,
    "start_time": "2021-11-20T17:48:46.038Z"
   },
   {
    "duration": 5,
    "start_time": "2021-11-20T17:48:46.099Z"
   },
   {
    "duration": 139,
    "start_time": "2021-11-20T17:48:46.106Z"
   },
   {
    "duration": 35,
    "start_time": "2021-11-20T17:48:46.248Z"
   },
   {
    "duration": 11,
    "start_time": "2021-11-20T17:48:46.285Z"
   },
   {
    "duration": 7,
    "start_time": "2021-11-20T17:48:46.298Z"
   },
   {
    "duration": 159,
    "start_time": "2021-11-20T17:48:46.307Z"
   },
   {
    "duration": 4,
    "start_time": "2021-11-20T17:48:46.469Z"
   },
   {
    "duration": 2483,
    "start_time": "2021-11-20T17:48:46.482Z"
   },
   {
    "duration": 17,
    "start_time": "2021-11-20T17:48:48.967Z"
   },
   {
    "duration": 28,
    "start_time": "2021-11-20T17:48:48.986Z"
   },
   {
    "duration": 12,
    "start_time": "2021-11-20T17:48:49.017Z"
   },
   {
    "duration": 73,
    "start_time": "2021-11-20T17:48:49.032Z"
   },
   {
    "duration": 4,
    "start_time": "2021-11-20T17:48:49.112Z"
   },
   {
    "duration": 13,
    "start_time": "2021-11-20T17:48:49.119Z"
   },
   {
    "duration": 47,
    "start_time": "2021-11-20T17:48:49.135Z"
   },
   {
    "duration": 17,
    "start_time": "2021-11-20T17:48:49.185Z"
   },
   {
    "duration": 16,
    "start_time": "2021-11-20T17:48:49.205Z"
   },
   {
    "duration": 64,
    "start_time": "2021-11-20T17:48:49.224Z"
   },
   {
    "duration": 18,
    "start_time": "2021-11-20T17:48:49.291Z"
   },
   {
    "duration": 8,
    "start_time": "2021-11-20T17:48:49.311Z"
   },
   {
    "duration": 88,
    "start_time": "2021-11-20T17:48:49.322Z"
   },
   {
    "duration": 9,
    "start_time": "2021-11-20T17:48:49.413Z"
   },
   {
    "duration": 14,
    "start_time": "2021-11-20T17:48:49.424Z"
   },
   {
    "duration": 6,
    "start_time": "2021-11-20T17:48:49.440Z"
   },
   {
    "duration": 38,
    "start_time": "2021-11-20T17:48:49.448Z"
   },
   {
    "duration": 13,
    "start_time": "2021-11-20T17:48:49.488Z"
   },
   {
    "duration": 292,
    "start_time": "2021-11-20T17:48:49.503Z"
   },
   {
    "duration": 21,
    "start_time": "2021-11-20T17:48:49.798Z"
   },
   {
    "duration": 464,
    "start_time": "2021-11-20T17:48:49.822Z"
   },
   {
    "duration": 6,
    "start_time": "2021-11-20T17:48:50.289Z"
   },
   {
    "duration": 809,
    "start_time": "2021-11-20T17:48:50.298Z"
   },
   {
    "duration": 4,
    "start_time": "2021-11-20T17:48:51.110Z"
   },
   {
    "duration": 340,
    "start_time": "2021-11-20T17:48:51.117Z"
   },
   {
    "duration": 6,
    "start_time": "2021-11-20T17:55:45.863Z"
   },
   {
    "duration": 447,
    "start_time": "2021-11-20T17:55:53.623Z"
   },
   {
    "duration": 6,
    "start_time": "2021-11-20T17:56:05.161Z"
   },
   {
    "duration": 460,
    "start_time": "2021-11-20T17:56:06.999Z"
   },
   {
    "duration": 6,
    "start_time": "2021-11-20T17:56:15.699Z"
   },
   {
    "duration": 524,
    "start_time": "2021-11-20T17:56:15.709Z"
   },
   {
    "duration": 14,
    "start_time": "2021-11-20T17:56:16.236Z"
   },
   {
    "duration": 30,
    "start_time": "2021-11-20T17:56:16.253Z"
   },
   {
    "duration": 13,
    "start_time": "2021-11-20T17:56:16.286Z"
   },
   {
    "duration": 13,
    "start_time": "2021-11-20T17:56:16.302Z"
   },
   {
    "duration": 14,
    "start_time": "2021-11-20T17:56:16.318Z"
   },
   {
    "duration": 69,
    "start_time": "2021-11-20T17:56:16.334Z"
   },
   {
    "duration": 12,
    "start_time": "2021-11-20T17:56:16.408Z"
   },
   {
    "duration": 72,
    "start_time": "2021-11-20T17:56:16.424Z"
   },
   {
    "duration": 13,
    "start_time": "2021-11-20T17:56:16.499Z"
   },
   {
    "duration": 28,
    "start_time": "2021-11-20T17:56:16.514Z"
   },
   {
    "duration": 39,
    "start_time": "2021-11-20T17:56:16.545Z"
   },
   {
    "duration": 23,
    "start_time": "2021-11-20T17:56:16.587Z"
   },
   {
    "duration": 7,
    "start_time": "2021-11-20T17:56:16.613Z"
   },
   {
    "duration": 150,
    "start_time": "2021-11-20T17:56:16.622Z"
   },
   {
    "duration": 34,
    "start_time": "2021-11-20T17:56:16.775Z"
   },
   {
    "duration": 11,
    "start_time": "2021-11-20T17:56:16.812Z"
   },
   {
    "duration": 12,
    "start_time": "2021-11-20T17:56:16.826Z"
   },
   {
    "duration": 167,
    "start_time": "2021-11-20T17:56:16.841Z"
   },
   {
    "duration": 4,
    "start_time": "2021-11-20T17:56:17.011Z"
   },
   {
    "duration": 2444,
    "start_time": "2021-11-20T17:56:17.017Z"
   },
   {
    "duration": 20,
    "start_time": "2021-11-20T17:56:19.463Z"
   },
   {
    "duration": 28,
    "start_time": "2021-11-20T17:56:19.486Z"
   },
   {
    "duration": 11,
    "start_time": "2021-11-20T17:56:19.517Z"
   },
   {
    "duration": 65,
    "start_time": "2021-11-20T17:56:19.530Z"
   },
   {
    "duration": 5,
    "start_time": "2021-11-20T17:56:19.600Z"
   },
   {
    "duration": 14,
    "start_time": "2021-11-20T17:56:19.608Z"
   },
   {
    "duration": 8,
    "start_time": "2021-11-20T17:56:19.624Z"
   },
   {
    "duration": 60,
    "start_time": "2021-11-20T17:56:19.635Z"
   },
   {
    "duration": 19,
    "start_time": "2021-11-20T17:56:19.698Z"
   },
   {
    "duration": 64,
    "start_time": "2021-11-20T17:56:19.720Z"
   },
   {
    "duration": 22,
    "start_time": "2021-11-20T17:56:19.786Z"
   },
   {
    "duration": 10,
    "start_time": "2021-11-20T17:56:19.811Z"
   },
   {
    "duration": 64,
    "start_time": "2021-11-20T17:56:19.823Z"
   },
   {
    "duration": 9,
    "start_time": "2021-11-20T17:56:19.889Z"
   },
   {
    "duration": 9,
    "start_time": "2021-11-20T17:56:19.901Z"
   },
   {
    "duration": 7,
    "start_time": "2021-11-20T17:56:19.912Z"
   },
   {
    "duration": 6,
    "start_time": "2021-11-20T17:56:19.922Z"
   },
   {
    "duration": 53,
    "start_time": "2021-11-20T17:56:19.930Z"
   },
   {
    "duration": 424,
    "start_time": "2021-11-20T17:56:19.986Z"
   },
   {
    "duration": 25,
    "start_time": "2021-11-20T17:56:20.413Z"
   },
   {
    "duration": 452,
    "start_time": "2021-11-20T17:56:20.442Z"
   },
   {
    "duration": 8,
    "start_time": "2021-11-20T17:56:20.897Z"
   },
   {
    "duration": 741,
    "start_time": "2021-11-20T17:56:20.908Z"
   },
   {
    "duration": 642,
    "start_time": "2021-11-20T17:56:21.652Z"
   },
   {
    "duration": 12,
    "start_time": "2021-11-20T17:56:33.670Z"
   },
   {
    "duration": 641,
    "start_time": "2021-11-20T17:56:35.302Z"
   },
   {
    "duration": 468,
    "start_time": "2021-11-20T17:57:41.063Z"
   },
   {
    "duration": 6,
    "start_time": "2021-11-20T17:58:30.126Z"
   },
   {
    "duration": 566,
    "start_time": "2021-11-20T17:58:30.135Z"
   },
   {
    "duration": 15,
    "start_time": "2021-11-20T17:58:30.705Z"
   },
   {
    "duration": 16,
    "start_time": "2021-11-20T17:58:30.723Z"
   },
   {
    "duration": 46,
    "start_time": "2021-11-20T17:58:30.741Z"
   },
   {
    "duration": 37,
    "start_time": "2021-11-20T17:58:30.789Z"
   },
   {
    "duration": 31,
    "start_time": "2021-11-20T17:58:30.829Z"
   },
   {
    "duration": 47,
    "start_time": "2021-11-20T17:58:30.862Z"
   },
   {
    "duration": 30,
    "start_time": "2021-11-20T17:58:30.913Z"
   },
   {
    "duration": 33,
    "start_time": "2021-11-20T17:58:30.946Z"
   },
   {
    "duration": 11,
    "start_time": "2021-11-20T17:58:30.982Z"
   },
   {
    "duration": 50,
    "start_time": "2021-11-20T17:58:30.996Z"
   },
   {
    "duration": 8,
    "start_time": "2021-11-20T17:58:31.048Z"
   },
   {
    "duration": 41,
    "start_time": "2021-11-20T17:58:31.058Z"
   },
   {
    "duration": 19,
    "start_time": "2021-11-20T17:58:31.102Z"
   },
   {
    "duration": 114,
    "start_time": "2021-11-20T17:58:31.123Z"
   },
   {
    "duration": 24,
    "start_time": "2021-11-20T17:58:31.240Z"
   },
   {
    "duration": 22,
    "start_time": "2021-11-20T17:58:31.267Z"
   },
   {
    "duration": 16,
    "start_time": "2021-11-20T17:58:31.291Z"
   },
   {
    "duration": 154,
    "start_time": "2021-11-20T17:58:31.309Z"
   },
   {
    "duration": 4,
    "start_time": "2021-11-20T17:58:31.466Z"
   },
   {
    "duration": 3704,
    "start_time": "2021-11-20T17:58:31.482Z"
   },
   {
    "duration": 16,
    "start_time": "2021-11-20T17:58:35.189Z"
   },
   {
    "duration": 38,
    "start_time": "2021-11-20T17:58:35.208Z"
   },
   {
    "duration": 38,
    "start_time": "2021-11-20T17:58:35.249Z"
   },
   {
    "duration": 24,
    "start_time": "2021-11-20T17:58:35.289Z"
   },
   {
    "duration": 4,
    "start_time": "2021-11-20T17:58:35.319Z"
   },
   {
    "duration": 56,
    "start_time": "2021-11-20T17:58:35.326Z"
   },
   {
    "duration": 15,
    "start_time": "2021-11-20T17:58:35.385Z"
   },
   {
    "duration": 22,
    "start_time": "2021-11-20T17:58:35.403Z"
   },
   {
    "duration": 16,
    "start_time": "2021-11-20T17:58:35.428Z"
   },
   {
    "duration": 20,
    "start_time": "2021-11-20T17:58:35.482Z"
   },
   {
    "duration": 21,
    "start_time": "2021-11-20T17:58:35.505Z"
   },
   {
    "duration": 11,
    "start_time": "2021-11-20T17:58:35.529Z"
   },
   {
    "duration": 32,
    "start_time": "2021-11-20T17:58:35.582Z"
   },
   {
    "duration": 16,
    "start_time": "2021-11-20T17:58:35.616Z"
   },
   {
    "duration": 51,
    "start_time": "2021-11-20T17:58:35.634Z"
   },
   {
    "duration": 6,
    "start_time": "2021-11-20T17:58:35.687Z"
   },
   {
    "duration": 10,
    "start_time": "2021-11-20T17:58:35.695Z"
   },
   {
    "duration": 10,
    "start_time": "2021-11-20T17:58:35.708Z"
   },
   {
    "duration": 344,
    "start_time": "2021-11-20T17:58:35.720Z"
   },
   {
    "duration": 42,
    "start_time": "2021-11-20T17:58:36.066Z"
   },
   {
    "duration": 675,
    "start_time": "2021-11-20T17:58:36.111Z"
   },
   {
    "duration": 6,
    "start_time": "2021-11-20T17:58:36.789Z"
   },
   {
    "duration": 487,
    "start_time": "2021-11-20T17:58:36.798Z"
   },
   {
    "duration": 499,
    "start_time": "2021-11-20T17:58:37.287Z"
   },
   {
    "duration": 6,
    "start_time": "2021-11-20T18:00:40.226Z"
   },
   {
    "duration": 827,
    "start_time": "2021-11-20T18:00:41.805Z"
   },
   {
    "duration": 467,
    "start_time": "2021-11-20T18:00:45.899Z"
   },
   {
    "duration": 4,
    "start_time": "2021-11-20T18:01:05.719Z"
   },
   {
    "duration": 515,
    "start_time": "2021-11-20T18:01:05.726Z"
   },
   {
    "duration": 14,
    "start_time": "2021-11-20T18:01:06.244Z"
   },
   {
    "duration": 22,
    "start_time": "2021-11-20T18:01:06.261Z"
   },
   {
    "duration": 13,
    "start_time": "2021-11-20T18:01:06.286Z"
   },
   {
    "duration": 12,
    "start_time": "2021-11-20T18:01:06.302Z"
   },
   {
    "duration": 12,
    "start_time": "2021-11-20T18:01:06.317Z"
   },
   {
    "duration": 70,
    "start_time": "2021-11-20T18:01:06.332Z"
   },
   {
    "duration": 12,
    "start_time": "2021-11-20T18:01:06.407Z"
   },
   {
    "duration": 63,
    "start_time": "2021-11-20T18:01:06.423Z"
   },
   {
    "duration": 11,
    "start_time": "2021-11-20T18:01:06.489Z"
   },
   {
    "duration": 34,
    "start_time": "2021-11-20T18:01:06.502Z"
   },
   {
    "duration": 8,
    "start_time": "2021-11-20T18:01:06.539Z"
   },
   {
    "duration": 17,
    "start_time": "2021-11-20T18:01:06.582Z"
   },
   {
    "duration": 6,
    "start_time": "2021-11-20T18:01:06.601Z"
   },
   {
    "duration": 130,
    "start_time": "2021-11-20T18:01:06.610Z"
   },
   {
    "duration": 40,
    "start_time": "2021-11-20T18:01:06.742Z"
   },
   {
    "duration": 11,
    "start_time": "2021-11-20T18:01:06.784Z"
   },
   {
    "duration": 9,
    "start_time": "2021-11-20T18:01:06.797Z"
   },
   {
    "duration": 160,
    "start_time": "2021-11-20T18:01:06.809Z"
   },
   {
    "duration": 12,
    "start_time": "2021-11-20T18:01:06.972Z"
   },
   {
    "duration": 2807,
    "start_time": "2021-11-20T18:01:06.986Z"
   },
   {
    "duration": 11,
    "start_time": "2021-11-20T18:01:09.796Z"
   },
   {
    "duration": 26,
    "start_time": "2021-11-20T18:01:09.810Z"
   },
   {
    "duration": 50,
    "start_time": "2021-11-20T18:01:09.838Z"
   },
   {
    "duration": 31,
    "start_time": "2021-11-20T18:01:09.892Z"
   },
   {
    "duration": 4,
    "start_time": "2021-11-20T18:01:09.931Z"
   },
   {
    "duration": 55,
    "start_time": "2021-11-20T18:01:09.939Z"
   },
   {
    "duration": 8,
    "start_time": "2021-11-20T18:01:09.997Z"
   },
   {
    "duration": 19,
    "start_time": "2021-11-20T18:01:10.008Z"
   },
   {
    "duration": 62,
    "start_time": "2021-11-20T18:01:10.029Z"
   },
   {
    "duration": 23,
    "start_time": "2021-11-20T18:01:10.094Z"
   },
   {
    "duration": 63,
    "start_time": "2021-11-20T18:01:10.120Z"
   },
   {
    "duration": 8,
    "start_time": "2021-11-20T18:01:10.187Z"
   },
   {
    "duration": 36,
    "start_time": "2021-11-20T18:01:10.199Z"
   },
   {
    "duration": 48,
    "start_time": "2021-11-20T18:01:10.238Z"
   },
   {
    "duration": 13,
    "start_time": "2021-11-20T18:01:10.288Z"
   },
   {
    "duration": 6,
    "start_time": "2021-11-20T18:01:10.304Z"
   },
   {
    "duration": 6,
    "start_time": "2021-11-20T18:01:10.313Z"
   },
   {
    "duration": 7,
    "start_time": "2021-11-20T18:01:10.322Z"
   },
   {
    "duration": 322,
    "start_time": "2021-11-20T18:01:10.331Z"
   },
   {
    "duration": 30,
    "start_time": "2021-11-20T18:01:10.656Z"
   },
   {
    "duration": 443,
    "start_time": "2021-11-20T18:01:10.689Z"
   },
   {
    "duration": 7,
    "start_time": "2021-11-20T18:01:11.134Z"
   },
   {
    "duration": 588,
    "start_time": "2021-11-20T18:01:11.143Z"
   },
   {
    "duration": 707,
    "start_time": "2021-11-20T18:01:11.734Z"
   },
   {
    "duration": 548,
    "start_time": "2021-11-20T18:01:44.928Z"
   },
   {
    "duration": 5,
    "start_time": "2021-11-20T18:02:25.533Z"
   },
   {
    "duration": 454,
    "start_time": "2021-11-20T18:03:07.914Z"
   },
   {
    "duration": 542,
    "start_time": "2021-11-20T18:03:21.826Z"
   },
   {
    "duration": 5,
    "start_time": "2021-11-20T18:03:43.964Z"
   },
   {
    "duration": 521,
    "start_time": "2021-11-20T18:03:43.972Z"
   },
   {
    "duration": 13,
    "start_time": "2021-11-20T18:03:44.496Z"
   },
   {
    "duration": 12,
    "start_time": "2021-11-20T18:03:44.512Z"
   },
   {
    "duration": 14,
    "start_time": "2021-11-20T18:03:44.526Z"
   },
   {
    "duration": 47,
    "start_time": "2021-11-20T18:03:44.543Z"
   },
   {
    "duration": 14,
    "start_time": "2021-11-20T18:03:44.593Z"
   },
   {
    "duration": 19,
    "start_time": "2021-11-20T18:03:44.611Z"
   },
   {
    "duration": 13,
    "start_time": "2021-11-20T18:03:44.684Z"
   },
   {
    "duration": 23,
    "start_time": "2021-11-20T18:03:44.700Z"
   },
   {
    "duration": 60,
    "start_time": "2021-11-20T18:03:44.726Z"
   },
   {
    "duration": 38,
    "start_time": "2021-11-20T18:03:44.788Z"
   },
   {
    "duration": 8,
    "start_time": "2021-11-20T18:03:44.829Z"
   },
   {
    "duration": 54,
    "start_time": "2021-11-20T18:03:44.839Z"
   },
   {
    "duration": 7,
    "start_time": "2021-11-20T18:03:44.896Z"
   },
   {
    "duration": 124,
    "start_time": "2021-11-20T18:03:44.905Z"
   },
   {
    "duration": 24,
    "start_time": "2021-11-20T18:03:45.031Z"
   },
   {
    "duration": 33,
    "start_time": "2021-11-20T18:03:45.059Z"
   },
   {
    "duration": 22,
    "start_time": "2021-11-20T18:03:45.095Z"
   },
   {
    "duration": 149,
    "start_time": "2021-11-20T18:03:45.120Z"
   },
   {
    "duration": 4,
    "start_time": "2021-11-20T18:03:45.272Z"
   },
   {
    "duration": 2559,
    "start_time": "2021-11-20T18:03:45.281Z"
   },
   {
    "duration": 12,
    "start_time": "2021-11-20T18:03:47.845Z"
   },
   {
    "duration": 21,
    "start_time": "2021-11-20T18:03:47.882Z"
   },
   {
    "duration": 9,
    "start_time": "2021-11-20T18:03:47.906Z"
   },
   {
    "duration": 30,
    "start_time": "2021-11-20T18:03:47.918Z"
   },
   {
    "duration": 32,
    "start_time": "2021-11-20T18:03:47.951Z"
   },
   {
    "duration": 21,
    "start_time": "2021-11-20T18:03:47.986Z"
   },
   {
    "duration": 12,
    "start_time": "2021-11-20T18:03:48.010Z"
   },
   {
    "duration": 20,
    "start_time": "2021-11-20T18:03:48.025Z"
   },
   {
    "duration": 18,
    "start_time": "2021-11-20T18:03:48.087Z"
   },
   {
    "duration": 25,
    "start_time": "2021-11-20T18:03:48.108Z"
   },
   {
    "duration": 57,
    "start_time": "2021-11-20T18:03:48.135Z"
   },
   {
    "duration": 7,
    "start_time": "2021-11-20T18:03:48.195Z"
   },
   {
    "duration": 33,
    "start_time": "2021-11-20T18:03:48.205Z"
   },
   {
    "duration": 49,
    "start_time": "2021-11-20T18:03:48.240Z"
   },
   {
    "duration": 7,
    "start_time": "2021-11-20T18:03:48.293Z"
   },
   {
    "duration": 7,
    "start_time": "2021-11-20T18:03:48.304Z"
   },
   {
    "duration": 7,
    "start_time": "2021-11-20T18:03:48.314Z"
   },
   {
    "duration": 58,
    "start_time": "2021-11-20T18:03:48.324Z"
   },
   {
    "duration": 514,
    "start_time": "2021-11-20T18:03:48.386Z"
   },
   {
    "duration": 30,
    "start_time": "2021-11-20T18:03:48.903Z"
   },
   {
    "duration": 453,
    "start_time": "2021-11-20T18:03:48.935Z"
   },
   {
    "duration": 4,
    "start_time": "2021-11-20T18:03:49.391Z"
   },
   {
    "duration": 463,
    "start_time": "2021-11-20T18:03:49.398Z"
   },
   {
    "duration": 626,
    "start_time": "2021-11-20T18:03:49.864Z"
   },
   {
    "duration": 697,
    "start_time": "2021-11-20T18:04:47.581Z"
   },
   {
    "duration": 472,
    "start_time": "2021-11-20T18:05:02.938Z"
   },
   {
    "duration": 445,
    "start_time": "2021-11-20T18:05:11.933Z"
   },
   {
    "duration": 603,
    "start_time": "2021-11-20T18:06:21.677Z"
   },
   {
    "duration": 5,
    "start_time": "2021-11-20T18:06:54.209Z"
   },
   {
    "duration": 748,
    "start_time": "2021-11-20T18:06:54.217Z"
   },
   {
    "duration": 27,
    "start_time": "2021-11-20T18:06:54.969Z"
   },
   {
    "duration": 12,
    "start_time": "2021-11-20T18:06:54.999Z"
   },
   {
    "duration": 17,
    "start_time": "2021-11-20T18:06:55.014Z"
   },
   {
    "duration": 50,
    "start_time": "2021-11-20T18:06:55.033Z"
   },
   {
    "duration": 12,
    "start_time": "2021-11-20T18:06:55.086Z"
   },
   {
    "duration": 23,
    "start_time": "2021-11-20T18:06:55.101Z"
   },
   {
    "duration": 57,
    "start_time": "2021-11-20T18:06:55.128Z"
   },
   {
    "duration": 24,
    "start_time": "2021-11-20T18:06:55.188Z"
   },
   {
    "duration": 12,
    "start_time": "2021-11-20T18:06:55.215Z"
   },
   {
    "duration": 78,
    "start_time": "2021-11-20T18:06:55.229Z"
   },
   {
    "duration": 8,
    "start_time": "2021-11-20T18:06:55.309Z"
   },
   {
    "duration": 65,
    "start_time": "2021-11-20T18:06:55.320Z"
   },
   {
    "duration": 5,
    "start_time": "2021-11-20T18:06:55.387Z"
   },
   {
    "duration": 159,
    "start_time": "2021-11-20T18:06:55.395Z"
   },
   {
    "duration": 41,
    "start_time": "2021-11-20T18:06:55.557Z"
   },
   {
    "duration": 12,
    "start_time": "2021-11-20T18:06:55.601Z"
   },
   {
    "duration": 10,
    "start_time": "2021-11-20T18:06:55.616Z"
   },
   {
    "duration": 193,
    "start_time": "2021-11-20T18:06:55.629Z"
   },
   {
    "duration": 5,
    "start_time": "2021-11-20T18:06:55.825Z"
   },
   {
    "duration": 2543,
    "start_time": "2021-11-20T18:06:55.833Z"
   },
   {
    "duration": 13,
    "start_time": "2021-11-20T18:06:58.378Z"
   },
   {
    "duration": 26,
    "start_time": "2021-11-20T18:06:58.394Z"
   },
   {
    "duration": 12,
    "start_time": "2021-11-20T18:06:58.423Z"
   },
   {
    "duration": 70,
    "start_time": "2021-11-20T18:06:58.438Z"
   },
   {
    "duration": 5,
    "start_time": "2021-11-20T18:06:58.513Z"
   },
   {
    "duration": 14,
    "start_time": "2021-11-20T18:06:58.520Z"
   },
   {
    "duration": 51,
    "start_time": "2021-11-20T18:06:58.536Z"
   },
   {
    "duration": 17,
    "start_time": "2021-11-20T18:06:58.590Z"
   },
   {
    "duration": 19,
    "start_time": "2021-11-20T18:06:58.610Z"
   },
   {
    "duration": 65,
    "start_time": "2021-11-20T18:06:58.632Z"
   },
   {
    "duration": 23,
    "start_time": "2021-11-20T18:06:58.700Z"
   },
   {
    "duration": 7,
    "start_time": "2021-11-20T18:06:58.726Z"
   },
   {
    "duration": 35,
    "start_time": "2021-11-20T18:06:58.783Z"
   },
   {
    "duration": 11,
    "start_time": "2021-11-20T18:06:58.820Z"
   },
   {
    "duration": 48,
    "start_time": "2021-11-20T18:06:58.834Z"
   },
   {
    "duration": 5,
    "start_time": "2021-11-20T18:06:58.885Z"
   },
   {
    "duration": 7,
    "start_time": "2021-11-20T18:06:58.892Z"
   },
   {
    "duration": 6,
    "start_time": "2021-11-20T18:06:58.901Z"
   },
   {
    "duration": 308,
    "start_time": "2021-11-20T18:06:58.910Z"
   },
   {
    "duration": 22,
    "start_time": "2021-11-20T18:06:59.221Z"
   },
   {
    "duration": 553,
    "start_time": "2021-11-20T18:06:59.246Z"
   },
   {
    "duration": 4,
    "start_time": "2021-11-20T18:06:59.802Z"
   },
   {
    "duration": 477,
    "start_time": "2021-11-20T18:06:59.808Z"
   },
   {
    "duration": 490,
    "start_time": "2021-11-20T18:07:00.288Z"
   },
   {
    "duration": 481,
    "start_time": "2021-11-20T18:07:00.782Z"
   },
   {
    "duration": 509,
    "start_time": "2021-11-20T18:08:42.677Z"
   },
   {
    "duration": 465,
    "start_time": "2021-11-20T18:08:49.394Z"
   },
   {
    "duration": 462,
    "start_time": "2021-11-20T18:08:52.457Z"
   },
   {
    "duration": 453,
    "start_time": "2021-11-20T18:09:55.365Z"
   },
   {
    "duration": 451,
    "start_time": "2021-11-20T18:10:05.844Z"
   },
   {
    "duration": 453,
    "start_time": "2021-11-20T18:10:29.360Z"
   },
   {
    "duration": 709,
    "start_time": "2021-11-20T18:10:32.099Z"
   },
   {
    "duration": 831,
    "start_time": "2021-11-20T18:10:34.417Z"
   },
   {
    "duration": 501,
    "start_time": "2021-11-20T18:18:01.530Z"
   },
   {
    "duration": 604,
    "start_time": "2021-11-20T18:18:03.668Z"
   },
   {
    "duration": 460,
    "start_time": "2021-11-20T18:18:05.753Z"
   },
   {
    "duration": 5,
    "start_time": "2021-11-20T18:18:15.840Z"
   },
   {
    "duration": 554,
    "start_time": "2021-11-20T18:18:15.849Z"
   },
   {
    "duration": 13,
    "start_time": "2021-11-20T18:18:16.407Z"
   },
   {
    "duration": 12,
    "start_time": "2021-11-20T18:18:16.424Z"
   },
   {
    "duration": 52,
    "start_time": "2021-11-20T18:18:16.439Z"
   },
   {
    "duration": 13,
    "start_time": "2021-11-20T18:18:16.494Z"
   },
   {
    "duration": 13,
    "start_time": "2021-11-20T18:18:16.510Z"
   },
   {
    "duration": 71,
    "start_time": "2021-11-20T18:18:16.526Z"
   },
   {
    "duration": 13,
    "start_time": "2021-11-20T18:18:16.603Z"
   },
   {
    "duration": 62,
    "start_time": "2021-11-20T18:18:16.620Z"
   },
   {
    "duration": 14,
    "start_time": "2021-11-20T18:18:16.685Z"
   },
   {
    "duration": 29,
    "start_time": "2021-11-20T18:18:16.701Z"
   },
   {
    "duration": 50,
    "start_time": "2021-11-20T18:18:16.733Z"
   },
   {
    "duration": 16,
    "start_time": "2021-11-20T18:18:16.786Z"
   },
   {
    "duration": 29,
    "start_time": "2021-11-20T18:18:16.805Z"
   },
   {
    "duration": 169,
    "start_time": "2021-11-20T18:18:16.837Z"
   },
   {
    "duration": 30,
    "start_time": "2021-11-20T18:18:17.009Z"
   },
   {
    "duration": 14,
    "start_time": "2021-11-20T18:18:17.042Z"
   },
   {
    "duration": 6,
    "start_time": "2021-11-20T18:18:17.084Z"
   },
   {
    "duration": 173,
    "start_time": "2021-11-20T18:18:17.093Z"
   },
   {
    "duration": 5,
    "start_time": "2021-11-20T18:18:17.268Z"
   },
   {
    "duration": 2405,
    "start_time": "2021-11-20T18:18:17.281Z"
   },
   {
    "duration": 10,
    "start_time": "2021-11-20T18:18:19.689Z"
   },
   {
    "duration": 21,
    "start_time": "2021-11-20T18:18:19.701Z"
   },
   {
    "duration": 10,
    "start_time": "2021-11-20T18:18:19.724Z"
   },
   {
    "duration": 25,
    "start_time": "2021-11-20T18:18:19.783Z"
   },
   {
    "duration": 4,
    "start_time": "2021-11-20T18:18:19.813Z"
   },
   {
    "duration": 12,
    "start_time": "2021-11-20T18:18:19.820Z"
   },
   {
    "duration": 48,
    "start_time": "2021-11-20T18:18:19.835Z"
   },
   {
    "duration": 19,
    "start_time": "2021-11-20T18:18:19.885Z"
   },
   {
    "duration": 21,
    "start_time": "2021-11-20T18:18:19.907Z"
   },
   {
    "duration": 69,
    "start_time": "2021-11-20T18:18:19.931Z"
   },
   {
    "duration": 19,
    "start_time": "2021-11-20T18:18:20.002Z"
   },
   {
    "duration": 8,
    "start_time": "2021-11-20T18:18:20.023Z"
   },
   {
    "duration": 73,
    "start_time": "2021-11-20T18:18:20.033Z"
   },
   {
    "duration": 9,
    "start_time": "2021-11-20T18:18:20.108Z"
   },
   {
    "duration": 10,
    "start_time": "2021-11-20T18:18:20.119Z"
   },
   {
    "duration": 7,
    "start_time": "2021-11-20T18:18:20.132Z"
   },
   {
    "duration": 44,
    "start_time": "2021-11-20T18:18:20.142Z"
   },
   {
    "duration": 7,
    "start_time": "2021-11-20T18:18:20.189Z"
   },
   {
    "duration": 532,
    "start_time": "2021-11-20T18:18:20.199Z"
   },
   {
    "duration": 48,
    "start_time": "2021-11-20T18:18:20.734Z"
   },
   {
    "duration": 629,
    "start_time": "2021-11-20T18:18:20.785Z"
   },
   {
    "duration": 6,
    "start_time": "2021-11-20T18:18:21.417Z"
   },
   {
    "duration": 908,
    "start_time": "2021-11-20T18:18:21.426Z"
   },
   {
    "duration": 711,
    "start_time": "2021-11-20T18:18:22.336Z"
   },
   {
    "duration": 736,
    "start_time": "2021-11-20T18:18:23.050Z"
   },
   {
    "duration": 161,
    "start_time": "2021-11-20T18:18:23.789Z"
   },
   {
    "duration": 450,
    "start_time": "2021-11-20T18:20:04.235Z"
   },
   {
    "duration": 475,
    "start_time": "2021-11-20T18:20:31.810Z"
   },
   {
    "duration": 454,
    "start_time": "2021-11-20T18:20:59.213Z"
   },
   {
    "duration": 200,
    "start_time": "2021-11-20T18:23:23.227Z"
   },
   {
    "duration": 23,
    "start_time": "2021-11-20T18:23:28.437Z"
   },
   {
    "duration": 21,
    "start_time": "2021-11-20T18:24:56.339Z"
   },
   {
    "duration": 342,
    "start_time": "2021-11-20T18:26:33.251Z"
   },
   {
    "duration": 37,
    "start_time": "2021-11-20T18:26:49.464Z"
   },
   {
    "duration": 26,
    "start_time": "2021-11-20T18:28:06.378Z"
   },
   {
    "duration": 440,
    "start_time": "2021-11-20T18:28:50.514Z"
   },
   {
    "duration": 19,
    "start_time": "2021-11-20T18:29:05.429Z"
   },
   {
    "duration": 518,
    "start_time": "2021-11-20T18:30:50.840Z"
   },
   {
    "duration": 525,
    "start_time": "2021-11-20T18:31:26.541Z"
   },
   {
    "duration": 328,
    "start_time": "2021-11-20T20:12:46.897Z"
   },
   {
    "duration": 37,
    "start_time": "2021-11-20T20:14:39.983Z"
   },
   {
    "duration": 43,
    "start_time": "2021-11-20T20:15:00.788Z"
   },
   {
    "duration": 21,
    "start_time": "2021-11-20T20:15:17.077Z"
   },
   {
    "duration": 67,
    "start_time": "2021-11-20T20:20:02.885Z"
   },
   {
    "duration": 135,
    "start_time": "2021-11-20T20:22:25.158Z"
   },
   {
    "duration": 119,
    "start_time": "2021-11-20T20:22:39.490Z"
   },
   {
    "duration": 297,
    "start_time": "2021-11-20T20:22:47.123Z"
   },
   {
    "duration": 33,
    "start_time": "2021-11-20T20:22:56.227Z"
   },
   {
    "duration": 31,
    "start_time": "2021-11-20T20:23:27.396Z"
   },
   {
    "duration": 43,
    "start_time": "2021-11-20T20:23:53.651Z"
   },
   {
    "duration": 154,
    "start_time": "2021-11-20T20:25:31.239Z"
   },
   {
    "duration": 348,
    "start_time": "2021-11-20T20:25:57.126Z"
   },
   {
    "duration": 288,
    "start_time": "2021-11-20T20:29:08.981Z"
   },
   {
    "duration": 50,
    "start_time": "2021-11-20T20:29:53.119Z"
   },
   {
    "duration": 50,
    "start_time": "2021-11-20T20:30:20.256Z"
   },
   {
    "duration": 52,
    "start_time": "2021-11-20T20:31:21.825Z"
   },
   {
    "duration": 51,
    "start_time": "2021-11-20T20:31:29.244Z"
   },
   {
    "duration": 109,
    "start_time": "2021-11-20T20:33:11.900Z"
   },
   {
    "duration": 33,
    "start_time": "2021-11-20T20:33:28.895Z"
   },
   {
    "duration": 95,
    "start_time": "2021-11-20T20:33:39.700Z"
   },
   {
    "duration": 34,
    "start_time": "2021-11-20T20:33:57.917Z"
   },
   {
    "duration": 33,
    "start_time": "2021-11-20T20:34:13.934Z"
   },
   {
    "duration": 34,
    "start_time": "2021-11-20T20:34:16.021Z"
   },
   {
    "duration": 37,
    "start_time": "2021-11-20T20:35:13.638Z"
   },
   {
    "duration": 36,
    "start_time": "2021-11-20T20:35:28.668Z"
   },
   {
    "duration": 38,
    "start_time": "2021-11-20T20:35:32.020Z"
   },
   {
    "duration": 52,
    "start_time": "2021-11-20T20:35:42.429Z"
   },
   {
    "duration": 5,
    "start_time": "2021-11-20T20:38:13.712Z"
   },
   {
    "duration": 627,
    "start_time": "2021-11-20T20:38:13.720Z"
   },
   {
    "duration": 18,
    "start_time": "2021-11-20T20:38:14.350Z"
   },
   {
    "duration": 11,
    "start_time": "2021-11-20T20:38:14.384Z"
   },
   {
    "duration": 13,
    "start_time": "2021-11-20T20:38:14.397Z"
   },
   {
    "duration": 9,
    "start_time": "2021-11-20T20:38:14.413Z"
   },
   {
    "duration": 60,
    "start_time": "2021-11-20T20:38:14.424Z"
   },
   {
    "duration": 20,
    "start_time": "2021-11-20T20:38:14.486Z"
   },
   {
    "duration": 12,
    "start_time": "2021-11-20T20:38:14.510Z"
   },
   {
    "duration": 74,
    "start_time": "2021-11-20T20:38:14.526Z"
   },
   {
    "duration": 15,
    "start_time": "2021-11-20T20:38:14.604Z"
   },
   {
    "duration": 64,
    "start_time": "2021-11-20T20:38:14.622Z"
   },
   {
    "duration": 8,
    "start_time": "2021-11-20T20:38:14.688Z"
   },
   {
    "duration": 18,
    "start_time": "2021-11-20T20:38:14.699Z"
   },
   {
    "duration": 6,
    "start_time": "2021-11-20T20:38:14.719Z"
   },
   {
    "duration": 136,
    "start_time": "2021-11-20T20:38:14.727Z"
   },
   {
    "duration": 35,
    "start_time": "2021-11-20T20:38:14.866Z"
   },
   {
    "duration": 12,
    "start_time": "2021-11-20T20:38:14.904Z"
   },
   {
    "duration": 5,
    "start_time": "2021-11-20T20:38:14.920Z"
   },
   {
    "duration": 189,
    "start_time": "2021-11-20T20:38:14.928Z"
   },
   {
    "duration": 6,
    "start_time": "2021-11-20T20:38:15.119Z"
   },
   {
    "duration": 2560,
    "start_time": "2021-11-20T20:38:15.128Z"
   },
   {
    "duration": 12,
    "start_time": "2021-11-20T20:38:17.691Z"
   },
   {
    "duration": 27,
    "start_time": "2021-11-20T20:38:17.707Z"
   },
   {
    "duration": 52,
    "start_time": "2021-11-20T20:38:17.736Z"
   },
   {
    "duration": 33,
    "start_time": "2021-11-20T20:38:17.792Z"
   },
   {
    "duration": 5,
    "start_time": "2021-11-20T20:38:17.833Z"
   },
   {
    "duration": 53,
    "start_time": "2021-11-20T20:38:17.842Z"
   },
   {
    "duration": 10,
    "start_time": "2021-11-20T20:38:17.898Z"
   },
   {
    "duration": 24,
    "start_time": "2021-11-20T20:38:17.911Z"
   },
   {
    "duration": 65,
    "start_time": "2021-11-20T20:38:17.938Z"
   },
   {
    "duration": 30,
    "start_time": "2021-11-20T20:38:18.006Z"
   },
   {
    "duration": 51,
    "start_time": "2021-11-20T20:38:18.039Z"
   },
   {
    "duration": 9,
    "start_time": "2021-11-20T20:38:18.093Z"
   },
   {
    "duration": 82,
    "start_time": "2021-11-20T20:38:18.105Z"
   },
   {
    "duration": 12,
    "start_time": "2021-11-20T20:38:18.190Z"
   },
   {
    "duration": 9,
    "start_time": "2021-11-20T20:38:18.204Z"
   },
   {
    "duration": 9,
    "start_time": "2021-11-20T20:38:18.216Z"
   },
   {
    "duration": 7,
    "start_time": "2021-11-20T20:38:18.227Z"
   },
   {
    "duration": 46,
    "start_time": "2021-11-20T20:38:18.236Z"
   },
   {
    "duration": 290,
    "start_time": "2021-11-20T20:38:18.285Z"
   },
   {
    "duration": 23,
    "start_time": "2021-11-20T20:38:18.577Z"
   },
   {
    "duration": 443,
    "start_time": "2021-11-20T20:38:18.603Z"
   },
   {
    "duration": 4,
    "start_time": "2021-11-20T20:38:19.049Z"
   },
   {
    "duration": 479,
    "start_time": "2021-11-20T20:38:19.056Z"
   },
   {
    "duration": 479,
    "start_time": "2021-11-20T20:38:19.537Z"
   },
   {
    "duration": 480,
    "start_time": "2021-11-20T20:38:20.019Z"
   },
   {
    "duration": 21,
    "start_time": "2021-11-20T20:38:20.502Z"
   },
   {
    "duration": 65,
    "start_time": "2021-11-20T20:38:20.526Z"
   },
   {
    "duration": 36,
    "start_time": "2021-11-20T20:38:20.593Z"
   },
   {
    "duration": 70,
    "start_time": "2021-11-20T20:38:20.631Z"
   },
   {
    "duration": 106,
    "start_time": "2021-11-20T20:39:57.715Z"
   },
   {
    "duration": 38,
    "start_time": "2021-11-20T20:41:23.667Z"
   },
   {
    "duration": 39,
    "start_time": "2021-11-20T20:41:25.477Z"
   },
   {
    "duration": 43,
    "start_time": "2021-11-20T20:41:27.031Z"
   },
   {
    "duration": 34,
    "start_time": "2021-11-20T20:46:56.249Z"
   },
   {
    "duration": 36,
    "start_time": "2021-11-20T20:46:57.119Z"
   },
   {
    "duration": 36,
    "start_time": "2021-11-20T20:46:58.385Z"
   },
   {
    "duration": 1257,
    "start_time": "2021-11-20T20:47:44.938Z"
   },
   {
    "duration": 995,
    "start_time": "2021-11-20T20:47:51.584Z"
   },
   {
    "duration": 2628,
    "start_time": "2021-11-20T20:47:57.856Z"
   },
   {
    "duration": 832,
    "start_time": "2021-11-20T20:49:06.891Z"
   },
   {
    "duration": 8244,
    "start_time": "2021-11-20T20:49:18.938Z"
   },
   {
    "duration": 1321,
    "start_time": "2021-11-20T20:50:40.854Z"
   },
   {
    "duration": 330,
    "start_time": "2021-11-20T20:52:37.299Z"
   },
   {
    "duration": 819,
    "start_time": "2021-11-20T20:53:24.598Z"
   },
   {
    "duration": 293,
    "start_time": "2021-11-20T20:54:58.997Z"
   },
   {
    "duration": 313,
    "start_time": "2021-11-20T20:55:03.132Z"
   },
   {
    "duration": 301,
    "start_time": "2021-11-20T20:55:07.804Z"
   },
   {
    "duration": 452,
    "start_time": "2021-11-20T20:59:10.025Z"
   },
   {
    "duration": 332,
    "start_time": "2021-11-20T20:59:36.728Z"
   },
   {
    "duration": 406,
    "start_time": "2021-11-20T20:59:57.010Z"
   },
   {
    "duration": 859,
    "start_time": "2021-11-20T21:04:16.717Z"
   },
   {
    "duration": 610,
    "start_time": "2021-11-20T21:05:24.053Z"
   },
   {
    "duration": 664,
    "start_time": "2021-11-20T21:07:26.293Z"
   },
   {
    "duration": 672,
    "start_time": "2021-11-20T21:07:51.288Z"
   },
   {
    "duration": 790,
    "start_time": "2021-11-20T21:07:56.385Z"
   },
   {
    "duration": 371,
    "start_time": "2021-11-20T21:08:01.264Z"
   },
   {
    "duration": 432,
    "start_time": "2021-11-20T21:08:05.765Z"
   },
   {
    "duration": 970,
    "start_time": "2021-11-20T21:08:11.550Z"
   },
   {
    "duration": 1152,
    "start_time": "2021-11-20T21:08:20.714Z"
   },
   {
    "duration": 324,
    "start_time": "2021-11-20T21:09:38.083Z"
   },
   {
    "duration": 852,
    "start_time": "2021-11-20T21:09:47.479Z"
   },
   {
    "duration": 1733,
    "start_time": "2021-11-20T21:13:09.784Z"
   },
   {
    "duration": 559,
    "start_time": "2021-11-20T21:13:19.883Z"
   },
   {
    "duration": 579,
    "start_time": "2021-11-20T21:14:39.664Z"
   },
   {
    "duration": 505,
    "start_time": "2021-11-20T21:15:06.361Z"
   },
   {
    "duration": 529,
    "start_time": "2021-11-20T21:15:06.869Z"
   },
   {
    "duration": 625,
    "start_time": "2021-11-20T21:15:07.401Z"
   },
   {
    "duration": 431,
    "start_time": "2021-11-20T21:15:23.351Z"
   },
   {
    "duration": 1058,
    "start_time": "2021-11-20T21:15:37.476Z"
   },
   {
    "duration": 2080,
    "start_time": "2021-11-20T21:15:44.618Z"
   },
   {
    "duration": 980,
    "start_time": "2021-11-20T21:16:02.002Z"
   },
   {
    "duration": 954,
    "start_time": "2021-11-20T21:16:08.427Z"
   },
   {
    "duration": 5469,
    "start_time": "2021-11-20T21:16:15.286Z"
   },
   {
    "duration": 1857,
    "start_time": "2021-11-20T21:16:26.624Z"
   },
   {
    "duration": 2081,
    "start_time": "2021-11-20T21:17:02.405Z"
   },
   {
    "duration": 2410,
    "start_time": "2021-11-20T21:17:12.711Z"
   },
   {
    "duration": 1932,
    "start_time": "2021-11-20T21:17:25.307Z"
   },
   {
    "duration": 1463,
    "start_time": "2021-11-21T06:58:30.694Z"
   },
   {
    "duration": 535,
    "start_time": "2021-11-21T06:58:32.160Z"
   },
   {
    "duration": 22,
    "start_time": "2021-11-21T06:58:32.699Z"
   },
   {
    "duration": 10,
    "start_time": "2021-11-21T06:58:32.724Z"
   },
   {
    "duration": 18,
    "start_time": "2021-11-21T06:58:32.768Z"
   },
   {
    "duration": 11,
    "start_time": "2021-11-21T06:58:32.788Z"
   },
   {
    "duration": 13,
    "start_time": "2021-11-21T06:58:32.801Z"
   },
   {
    "duration": 62,
    "start_time": "2021-11-21T06:58:32.817Z"
   },
   {
    "duration": 12,
    "start_time": "2021-11-21T06:58:32.883Z"
   },
   {
    "duration": 38,
    "start_time": "2021-11-21T06:58:32.899Z"
   },
   {
    "duration": 33,
    "start_time": "2021-11-21T06:58:32.939Z"
   },
   {
    "duration": 33,
    "start_time": "2021-11-21T06:58:32.974Z"
   },
   {
    "duration": 8,
    "start_time": "2021-11-21T06:58:33.010Z"
   },
   {
    "duration": 50,
    "start_time": "2021-11-21T06:58:33.020Z"
   },
   {
    "duration": 11,
    "start_time": "2021-11-21T06:58:33.072Z"
   },
   {
    "duration": 127,
    "start_time": "2021-11-21T06:58:33.085Z"
   },
   {
    "duration": 23,
    "start_time": "2021-11-21T06:58:33.215Z"
   },
   {
    "duration": 32,
    "start_time": "2021-11-21T06:58:33.240Z"
   },
   {
    "duration": 8,
    "start_time": "2021-11-21T06:58:33.274Z"
   },
   {
    "duration": 164,
    "start_time": "2021-11-21T06:58:33.284Z"
   },
   {
    "duration": 4,
    "start_time": "2021-11-21T06:58:33.451Z"
   },
   {
    "duration": 2509,
    "start_time": "2021-11-21T06:58:33.458Z"
   },
   {
    "duration": 11,
    "start_time": "2021-11-21T06:58:35.969Z"
   },
   {
    "duration": 25,
    "start_time": "2021-11-21T06:58:35.982Z"
   },
   {
    "duration": 10,
    "start_time": "2021-11-21T06:58:36.009Z"
   },
   {
    "duration": 71,
    "start_time": "2021-11-21T06:58:36.021Z"
   },
   {
    "duration": 5,
    "start_time": "2021-11-21T06:58:36.097Z"
   },
   {
    "duration": 12,
    "start_time": "2021-11-21T06:58:36.105Z"
   },
   {
    "duration": 8,
    "start_time": "2021-11-21T06:58:36.120Z"
   },
   {
    "duration": 56,
    "start_time": "2021-11-21T06:58:36.131Z"
   },
   {
    "duration": 18,
    "start_time": "2021-11-21T06:58:36.190Z"
   },
   {
    "duration": 66,
    "start_time": "2021-11-21T06:58:36.211Z"
   },
   {
    "duration": 23,
    "start_time": "2021-11-21T06:58:36.280Z"
   },
   {
    "duration": 9,
    "start_time": "2021-11-21T06:58:36.306Z"
   },
   {
    "duration": 74,
    "start_time": "2021-11-21T06:58:36.317Z"
   },
   {
    "duration": 8,
    "start_time": "2021-11-21T06:58:36.394Z"
   },
   {
    "duration": 6,
    "start_time": "2021-11-21T06:58:36.405Z"
   },
   {
    "duration": 8,
    "start_time": "2021-11-21T06:58:36.414Z"
   },
   {
    "duration": 7,
    "start_time": "2021-11-21T06:58:36.468Z"
   },
   {
    "duration": 10,
    "start_time": "2021-11-21T06:58:36.478Z"
   },
   {
    "duration": 310,
    "start_time": "2021-11-21T06:58:36.490Z"
   },
   {
    "duration": 21,
    "start_time": "2021-11-21T06:58:36.802Z"
   },
   {
    "duration": 470,
    "start_time": "2021-11-21T06:58:36.826Z"
   },
   {
    "duration": 5,
    "start_time": "2021-11-21T06:58:37.299Z"
   },
   {
    "duration": 561,
    "start_time": "2021-11-21T06:58:37.306Z"
   },
   {
    "duration": 492,
    "start_time": "2021-11-21T06:58:37.869Z"
   },
   {
    "duration": 469,
    "start_time": "2021-11-21T06:58:38.368Z"
   },
   {
    "duration": 34,
    "start_time": "2021-11-21T06:58:38.840Z"
   },
   {
    "duration": 36,
    "start_time": "2021-11-21T06:58:38.876Z"
   },
   {
    "duration": 78,
    "start_time": "2021-11-21T06:58:38.914Z"
   },
   {
    "duration": 40,
    "start_time": "2021-11-21T06:58:38.995Z"
   },
   {
    "duration": 1742,
    "start_time": "2021-11-21T06:58:39.038Z"
   },
   {
    "duration": 2599,
    "start_time": "2021-11-21T06:58:40.782Z"
   },
   {
    "duration": 2406,
    "start_time": "2021-11-21T06:58:43.384Z"
   },
   {
    "duration": 1550,
    "start_time": "2021-11-21T07:04:54.417Z"
   },
   {
    "duration": 396,
    "start_time": "2021-11-21T07:08:08.355Z"
   },
   {
    "duration": 291,
    "start_time": "2021-11-21T07:08:17.695Z"
   },
   {
    "duration": 273,
    "start_time": "2021-11-21T07:08:49.484Z"
   },
   {
    "duration": 279,
    "start_time": "2021-11-21T07:08:53.331Z"
   },
   {
    "duration": 356,
    "start_time": "2021-11-21T07:09:23.768Z"
   },
   {
    "duration": 292,
    "start_time": "2021-11-21T07:10:05.283Z"
   },
   {
    "duration": 303,
    "start_time": "2021-11-21T07:10:25.284Z"
   },
   {
    "duration": 308,
    "start_time": "2021-11-21T07:11:04.139Z"
   },
   {
    "duration": 296,
    "start_time": "2021-11-21T07:11:09.816Z"
   },
   {
    "duration": 298,
    "start_time": "2021-11-21T07:11:19.287Z"
   },
   {
    "duration": 27,
    "start_time": "2021-11-21T07:11:41.156Z"
   },
   {
    "duration": 35,
    "start_time": "2021-11-21T07:11:48.339Z"
   },
   {
    "duration": 298,
    "start_time": "2021-11-21T07:12:34.079Z"
   },
   {
    "duration": 313,
    "start_time": "2021-11-21T07:14:00.887Z"
   },
   {
    "duration": 278,
    "start_time": "2021-11-21T07:14:15.333Z"
   },
   {
    "duration": 296,
    "start_time": "2021-11-21T07:14:29.803Z"
   },
   {
    "duration": 272,
    "start_time": "2021-11-21T07:15:09.788Z"
   },
   {
    "duration": 21,
    "start_time": "2021-11-21T07:16:26.187Z"
   },
   {
    "duration": 232,
    "start_time": "2021-11-21T07:16:32.792Z"
   },
   {
    "duration": 265,
    "start_time": "2021-11-21T07:17:10.117Z"
   },
   {
    "duration": 295,
    "start_time": "2021-11-21T07:17:33.694Z"
   },
   {
    "duration": 428,
    "start_time": "2021-11-21T07:18:21.885Z"
   },
   {
    "duration": 289,
    "start_time": "2021-11-21T07:19:03.138Z"
   },
   {
    "duration": 257,
    "start_time": "2021-11-21T07:19:36.454Z"
   },
   {
    "duration": 274,
    "start_time": "2021-11-21T07:19:43.651Z"
   },
   {
    "duration": 5,
    "start_time": "2021-11-21T07:20:25.064Z"
   },
   {
    "duration": 546,
    "start_time": "2021-11-21T07:20:25.072Z"
   },
   {
    "duration": 15,
    "start_time": "2021-11-21T07:20:25.621Z"
   },
   {
    "duration": 31,
    "start_time": "2021-11-21T07:20:25.639Z"
   },
   {
    "duration": 13,
    "start_time": "2021-11-21T07:20:25.672Z"
   },
   {
    "duration": 11,
    "start_time": "2021-11-21T07:20:25.688Z"
   },
   {
    "duration": 12,
    "start_time": "2021-11-21T07:20:25.701Z"
   },
   {
    "duration": 66,
    "start_time": "2021-11-21T07:20:25.715Z"
   },
   {
    "duration": 12,
    "start_time": "2021-11-21T07:20:25.786Z"
   },
   {
    "duration": 26,
    "start_time": "2021-11-21T07:20:25.801Z"
   },
   {
    "duration": 48,
    "start_time": "2021-11-21T07:20:25.829Z"
   },
   {
    "duration": 35,
    "start_time": "2021-11-21T07:20:25.880Z"
   },
   {
    "duration": 9,
    "start_time": "2021-11-21T07:20:25.918Z"
   },
   {
    "duration": 52,
    "start_time": "2021-11-21T07:20:25.929Z"
   },
   {
    "duration": 6,
    "start_time": "2021-11-21T07:20:25.984Z"
   },
   {
    "duration": 129,
    "start_time": "2021-11-21T07:20:25.993Z"
   },
   {
    "duration": 23,
    "start_time": "2021-11-21T07:20:26.124Z"
   },
   {
    "duration": 24,
    "start_time": "2021-11-21T07:20:26.150Z"
   },
   {
    "duration": 6,
    "start_time": "2021-11-21T07:20:26.176Z"
   },
   {
    "duration": 162,
    "start_time": "2021-11-21T07:20:26.185Z"
   },
   {
    "duration": 4,
    "start_time": "2021-11-21T07:20:26.349Z"
   },
   {
    "duration": 2424,
    "start_time": "2021-11-21T07:20:26.367Z"
   },
   {
    "duration": 11,
    "start_time": "2021-11-21T07:20:28.794Z"
   },
   {
    "duration": 26,
    "start_time": "2021-11-21T07:20:28.807Z"
   },
   {
    "duration": 36,
    "start_time": "2021-11-21T07:20:28.836Z"
   },
   {
    "duration": 34,
    "start_time": "2021-11-21T07:20:28.874Z"
   },
   {
    "duration": 5,
    "start_time": "2021-11-21T07:20:28.913Z"
   },
   {
    "duration": 48,
    "start_time": "2021-11-21T07:20:28.921Z"
   },
   {
    "duration": 8,
    "start_time": "2021-11-21T07:20:28.972Z"
   },
   {
    "duration": 18,
    "start_time": "2021-11-21T07:20:28.983Z"
   },
   {
    "duration": 17,
    "start_time": "2021-11-21T07:20:29.003Z"
   },
   {
    "duration": 62,
    "start_time": "2021-11-21T07:20:29.022Z"
   },
   {
    "duration": 20,
    "start_time": "2021-11-21T07:20:29.086Z"
   },
   {
    "duration": 8,
    "start_time": "2021-11-21T07:20:29.108Z"
   },
   {
    "duration": 74,
    "start_time": "2021-11-21T07:20:29.118Z"
   },
   {
    "duration": 12,
    "start_time": "2021-11-21T07:20:29.194Z"
   },
   {
    "duration": 7,
    "start_time": "2021-11-21T07:20:29.208Z"
   },
   {
    "duration": 6,
    "start_time": "2021-11-21T07:20:29.217Z"
   },
   {
    "duration": 42,
    "start_time": "2021-11-21T07:20:29.225Z"
   },
   {
    "duration": 10,
    "start_time": "2021-11-21T07:20:29.270Z"
   },
   {
    "duration": 307,
    "start_time": "2021-11-21T07:20:29.283Z"
   },
   {
    "duration": 23,
    "start_time": "2021-11-21T07:20:29.593Z"
   },
   {
    "duration": 459,
    "start_time": "2021-11-21T07:20:29.618Z"
   },
   {
    "duration": 7,
    "start_time": "2021-11-21T07:20:30.080Z"
   },
   {
    "duration": 507,
    "start_time": "2021-11-21T07:20:30.090Z"
   },
   {
    "duration": 498,
    "start_time": "2021-11-21T07:20:30.600Z"
   },
   {
    "duration": 494,
    "start_time": "2021-11-21T07:20:31.101Z"
   },
   {
    "duration": 22,
    "start_time": "2021-11-21T07:20:31.598Z"
   },
   {
    "duration": 73,
    "start_time": "2021-11-21T07:20:31.623Z"
   },
   {
    "duration": 34,
    "start_time": "2021-11-21T07:20:31.700Z"
   },
   {
    "duration": 36,
    "start_time": "2021-11-21T07:20:31.767Z"
   },
   {
    "duration": 298,
    "start_time": "2021-11-21T07:20:31.805Z"
   },
   {
    "duration": 303,
    "start_time": "2021-11-21T07:20:32.105Z"
   },
   {
    "duration": 291,
    "start_time": "2021-11-21T07:20:32.410Z"
   },
   {
    "duration": 559,
    "start_time": "2021-11-21T07:20:32.703Z"
   },
   {
    "duration": 347,
    "start_time": "2021-11-21T07:20:33.268Z"
   },
   {
    "duration": 291,
    "start_time": "2021-11-21T07:20:33.618Z"
   },
   {
    "duration": 337,
    "start_time": "2021-11-21T07:29:30.715Z"
   },
   {
    "duration": 267,
    "start_time": "2021-11-21T07:29:37.226Z"
   },
   {
    "duration": 419,
    "start_time": "2021-11-21T07:34:29.052Z"
   },
   {
    "duration": 309,
    "start_time": "2021-11-21T07:34:38.633Z"
   },
   {
    "duration": 282,
    "start_time": "2021-11-21T07:34:49.088Z"
   },
   {
    "duration": 301,
    "start_time": "2021-11-21T07:34:56.001Z"
   },
   {
    "duration": 329,
    "start_time": "2021-11-21T07:35:00.652Z"
   },
   {
    "duration": 331,
    "start_time": "2021-11-21T07:35:27.471Z"
   },
   {
    "duration": 356,
    "start_time": "2021-11-21T07:43:30.876Z"
   },
   {
    "duration": 376,
    "start_time": "2021-11-21T07:43:44.548Z"
   },
   {
    "duration": 359,
    "start_time": "2021-11-21T07:43:53.318Z"
   },
   {
    "duration": 343,
    "start_time": "2021-11-21T07:48:55.154Z"
   },
   {
    "duration": 6,
    "start_time": "2021-11-21T07:57:22.985Z"
   },
   {
    "duration": 572,
    "start_time": "2021-11-21T07:59:26.988Z"
   },
   {
    "duration": 566,
    "start_time": "2021-11-21T07:59:49.313Z"
   },
   {
    "duration": 6,
    "start_time": "2021-11-21T08:00:08.436Z"
   },
   {
    "duration": 557,
    "start_time": "2021-11-21T08:00:08.849Z"
   },
   {
    "duration": 6,
    "start_time": "2021-11-21T08:04:02.891Z"
   },
   {
    "duration": 92,
    "start_time": "2021-11-21T08:04:04.636Z"
   },
   {
    "duration": 567,
    "start_time": "2021-11-21T08:04:27.023Z"
   },
   {
    "duration": 5,
    "start_time": "2021-11-21T08:05:47.864Z"
   },
   {
    "duration": 599,
    "start_time": "2021-11-21T08:05:48.504Z"
   },
   {
    "duration": 6,
    "start_time": "2021-11-21T08:06:53.832Z"
   },
   {
    "duration": 577,
    "start_time": "2021-11-21T08:06:54.666Z"
   },
   {
    "duration": 6,
    "start_time": "2021-11-21T08:07:26.078Z"
   },
   {
    "duration": 345,
    "start_time": "2021-11-21T08:07:27.328Z"
   },
   {
    "duration": 101,
    "start_time": "2021-11-21T08:09:46.798Z"
   },
   {
    "duration": 6,
    "start_time": "2021-11-21T08:10:21.462Z"
   },
   {
    "duration": 346,
    "start_time": "2021-11-21T08:10:22.768Z"
   },
   {
    "duration": 5,
    "start_time": "2021-11-21T08:11:11.397Z"
   },
   {
    "duration": 334,
    "start_time": "2021-11-21T08:11:12.932Z"
   },
   {
    "duration": 341,
    "start_time": "2021-11-21T08:13:50.780Z"
   },
   {
    "duration": 327,
    "start_time": "2021-11-21T08:13:52.533Z"
   },
   {
    "duration": 350,
    "start_time": "2021-11-21T08:17:26.501Z"
   },
   {
    "duration": 339,
    "start_time": "2021-11-21T08:23:09.138Z"
   },
   {
    "duration": 339,
    "start_time": "2021-11-21T08:24:15.443Z"
   },
   {
    "duration": 364,
    "start_time": "2021-11-21T08:27:54.853Z"
   },
   {
    "duration": 349,
    "start_time": "2021-11-21T08:28:50.021Z"
   },
   {
    "duration": 392,
    "start_time": "2021-11-21T08:32:58.086Z"
   },
   {
    "duration": 380,
    "start_time": "2021-11-21T08:33:35.054Z"
   },
   {
    "duration": 531,
    "start_time": "2021-11-21T08:36:14.806Z"
   },
   {
    "duration": 474,
    "start_time": "2021-11-21T08:55:20.370Z"
   },
   {
    "duration": 458,
    "start_time": "2021-11-21T08:56:05.183Z"
   },
   {
    "duration": 468,
    "start_time": "2021-11-21T08:57:23.959Z"
   },
   {
    "duration": 476,
    "start_time": "2021-11-21T08:58:10.644Z"
   },
   {
    "duration": 91,
    "start_time": "2021-11-21T09:08:09.285Z"
   },
   {
    "duration": 83,
    "start_time": "2021-11-21T09:12:27.842Z"
   },
   {
    "duration": 47,
    "start_time": "2021-11-21T13:03:18.483Z"
   },
   {
    "duration": 304,
    "start_time": "2021-11-21T13:03:38.649Z"
   },
   {
    "duration": 355,
    "start_time": "2021-11-21T13:03:49.003Z"
   },
   {
    "duration": 14,
    "start_time": "2021-11-21T13:04:08.985Z"
   },
   {
    "duration": 17,
    "start_time": "2021-11-21T13:09:49.851Z"
   },
   {
    "duration": 16,
    "start_time": "2021-11-21T13:10:56.047Z"
   },
   {
    "duration": 16,
    "start_time": "2021-11-21T13:10:59.288Z"
   },
   {
    "duration": 16,
    "start_time": "2021-11-21T13:11:06.959Z"
   },
   {
    "duration": 17,
    "start_time": "2021-11-21T13:16:58.761Z"
   },
   {
    "duration": 16,
    "start_time": "2021-11-21T13:17:03.027Z"
   },
   {
    "duration": 16,
    "start_time": "2021-11-21T13:17:05.996Z"
   },
   {
    "duration": 16,
    "start_time": "2021-11-21T13:17:14.701Z"
   },
   {
    "duration": 16,
    "start_time": "2021-11-21T13:17:18.661Z"
   },
   {
    "duration": 12,
    "start_time": "2021-11-21T13:17:40.796Z"
   },
   {
    "duration": 12,
    "start_time": "2021-11-21T13:17:55.019Z"
   },
   {
    "duration": 91,
    "start_time": "2021-11-21T13:19:48.800Z"
   },
   {
    "duration": 494,
    "start_time": "2021-11-21T13:19:54.469Z"
   },
   {
    "duration": 506,
    "start_time": "2021-11-21T13:20:24.131Z"
   },
   {
    "duration": 17,
    "start_time": "2021-11-21T13:21:32.321Z"
   },
   {
    "duration": 16,
    "start_time": "2021-11-21T13:22:19.032Z"
   },
   {
    "duration": 18,
    "start_time": "2021-11-21T13:22:24.770Z"
   },
   {
    "duration": 20,
    "start_time": "2021-11-21T13:23:54.973Z"
   },
   {
    "duration": 84,
    "start_time": "2021-11-21T13:25:22.522Z"
   },
   {
    "duration": 19,
    "start_time": "2021-11-21T13:25:27.524Z"
   },
   {
    "duration": 20,
    "start_time": "2021-11-21T13:25:45.651Z"
   },
   {
    "duration": 35,
    "start_time": "2021-11-21T13:30:10.931Z"
   },
   {
    "duration": 19,
    "start_time": "2021-11-21T13:31:42.979Z"
   },
   {
    "duration": 18,
    "start_time": "2021-11-21T13:32:27.322Z"
   },
   {
    "duration": 18,
    "start_time": "2021-11-21T13:32:32.001Z"
   },
   {
    "duration": 19,
    "start_time": "2021-11-21T13:32:38.841Z"
   },
   {
    "duration": 18,
    "start_time": "2021-11-21T13:32:39.851Z"
   },
   {
    "duration": 17,
    "start_time": "2021-11-21T13:34:42.316Z"
   },
   {
    "duration": 18,
    "start_time": "2021-11-21T13:36:45.563Z"
   },
   {
    "duration": 5,
    "start_time": "2021-11-21T13:36:49.589Z"
   },
   {
    "duration": 570,
    "start_time": "2021-11-21T13:36:49.597Z"
   },
   {
    "duration": 15,
    "start_time": "2021-11-21T13:36:50.170Z"
   },
   {
    "duration": 13,
    "start_time": "2021-11-21T13:36:50.188Z"
   },
   {
    "duration": 14,
    "start_time": "2021-11-21T13:36:50.203Z"
   },
   {
    "duration": 54,
    "start_time": "2021-11-21T13:36:50.219Z"
   },
   {
    "duration": 14,
    "start_time": "2021-11-21T13:36:50.275Z"
   },
   {
    "duration": 20,
    "start_time": "2021-11-21T13:36:50.291Z"
   },
   {
    "duration": 53,
    "start_time": "2021-11-21T13:36:50.317Z"
   },
   {
    "duration": 23,
    "start_time": "2021-11-21T13:36:50.373Z"
   },
   {
    "duration": 11,
    "start_time": "2021-11-21T13:36:50.399Z"
   },
   {
    "duration": 74,
    "start_time": "2021-11-21T13:36:50.413Z"
   },
   {
    "duration": 8,
    "start_time": "2021-11-21T13:36:50.489Z"
   },
   {
    "duration": 20,
    "start_time": "2021-11-21T13:36:50.499Z"
   },
   {
    "duration": 45,
    "start_time": "2021-11-21T13:36:50.522Z"
   },
   {
    "duration": 104,
    "start_time": "2021-11-21T13:36:50.569Z"
   },
   {
    "duration": 22,
    "start_time": "2021-11-21T13:36:50.676Z"
   },
   {
    "duration": 12,
    "start_time": "2021-11-21T13:36:50.700Z"
   },
   {
    "duration": 12,
    "start_time": "2021-11-21T13:36:50.715Z"
   },
   {
    "duration": 180,
    "start_time": "2021-11-21T13:36:50.729Z"
   },
   {
    "duration": 4,
    "start_time": "2021-11-21T13:36:50.912Z"
   },
   {
    "duration": 2560,
    "start_time": "2021-11-21T13:36:50.919Z"
   },
   {
    "duration": 11,
    "start_time": "2021-11-21T13:36:53.482Z"
   },
   {
    "duration": 23,
    "start_time": "2021-11-21T13:36:53.496Z"
   },
   {
    "duration": 9,
    "start_time": "2021-11-21T13:36:53.522Z"
   },
   {
    "duration": 25,
    "start_time": "2021-11-21T13:36:53.567Z"
   },
   {
    "duration": 4,
    "start_time": "2021-11-21T13:36:53.598Z"
   },
   {
    "duration": 13,
    "start_time": "2021-11-21T13:36:53.606Z"
   },
   {
    "duration": 51,
    "start_time": "2021-11-21T13:36:53.621Z"
   },
   {
    "duration": 17,
    "start_time": "2021-11-21T13:36:53.675Z"
   },
   {
    "duration": 17,
    "start_time": "2021-11-21T13:36:53.695Z"
   },
   {
    "duration": 65,
    "start_time": "2021-11-21T13:36:53.715Z"
   },
   {
    "duration": 20,
    "start_time": "2021-11-21T13:36:53.782Z"
   },
   {
    "duration": 10,
    "start_time": "2021-11-21T13:36:53.805Z"
   },
   {
    "duration": 71,
    "start_time": "2021-11-21T13:36:53.817Z"
   },
   {
    "duration": 9,
    "start_time": "2021-11-21T13:36:53.890Z"
   },
   {
    "duration": 13,
    "start_time": "2021-11-21T13:36:53.901Z"
   },
   {
    "duration": 6,
    "start_time": "2021-11-21T13:36:53.917Z"
   },
   {
    "duration": 42,
    "start_time": "2021-11-21T13:36:53.926Z"
   },
   {
    "duration": 7,
    "start_time": "2021-11-21T13:36:53.971Z"
   },
   {
    "duration": 301,
    "start_time": "2021-11-21T13:36:53.980Z"
   },
   {
    "duration": 21,
    "start_time": "2021-11-21T13:36:54.283Z"
   },
   {
    "duration": 467,
    "start_time": "2021-11-21T13:36:54.307Z"
   },
   {
    "duration": 4,
    "start_time": "2021-11-21T13:36:54.777Z"
   },
   {
    "duration": 484,
    "start_time": "2021-11-21T13:36:54.783Z"
   },
   {
    "duration": 487,
    "start_time": "2021-11-21T13:36:55.269Z"
   },
   {
    "duration": 499,
    "start_time": "2021-11-21T13:36:55.758Z"
   },
   {
    "duration": 36,
    "start_time": "2021-11-21T13:36:56.259Z"
   },
   {
    "duration": 32,
    "start_time": "2021-11-21T13:36:56.297Z"
   },
   {
    "duration": 36,
    "start_time": "2021-11-21T13:36:56.366Z"
   },
   {
    "duration": 7,
    "start_time": "2021-11-21T13:36:56.405Z"
   },
   {
    "duration": 373,
    "start_time": "2021-11-21T13:36:56.414Z"
   },
   {
    "duration": 365,
    "start_time": "2021-11-21T13:36:56.789Z"
   },
   {
    "duration": 376,
    "start_time": "2021-11-21T13:36:57.156Z"
   },
   {
    "duration": 361,
    "start_time": "2021-11-21T13:36:57.535Z"
   },
   {
    "duration": 682,
    "start_time": "2021-11-21T13:36:57.898Z"
   },
   {
    "duration": 470,
    "start_time": "2021-11-21T13:36:58.582Z"
   },
   {
    "duration": 27,
    "start_time": "2021-11-21T13:36:59.055Z"
   },
   {
    "duration": 19,
    "start_time": "2021-11-21T13:36:59.084Z"
   },
   {
    "duration": 19,
    "start_time": "2021-11-21T13:36:59.106Z"
   },
   {
    "duration": 69,
    "start_time": "2021-11-21T13:36:59.127Z"
   },
   {
    "duration": 4,
    "start_time": "2021-11-21T13:39:45.950Z"
   },
   {
    "duration": 446,
    "start_time": "2021-11-21T13:43:21.116Z"
   },
   {
    "duration": 19,
    "start_time": "2021-11-21T13:43:54.723Z"
   },
   {
    "duration": 4,
    "start_time": "2021-11-21T13:43:59.692Z"
   },
   {
    "duration": 23,
    "start_time": "2021-11-21T13:44:07.031Z"
   },
   {
    "duration": 40,
    "start_time": "2021-11-21T13:48:45.309Z"
   },
   {
    "duration": 7,
    "start_time": "2021-11-21T13:49:08.145Z"
   },
   {
    "duration": 343,
    "start_time": "2021-11-21T13:49:20.645Z"
   },
   {
    "duration": 288,
    "start_time": "2021-11-21T13:49:33.809Z"
   },
   {
    "duration": 11,
    "start_time": "2021-11-21T13:50:03.424Z"
   },
   {
    "duration": 1477,
    "start_time": "2021-11-21T14:21:19.990Z"
   },
   {
    "duration": 576,
    "start_time": "2021-11-21T14:21:21.470Z"
   },
   {
    "duration": 27,
    "start_time": "2021-11-21T14:21:22.050Z"
   },
   {
    "duration": 15,
    "start_time": "2021-11-21T14:21:22.081Z"
   },
   {
    "duration": 17,
    "start_time": "2021-11-21T14:21:22.099Z"
   },
   {
    "duration": 57,
    "start_time": "2021-11-21T14:21:22.119Z"
   },
   {
    "duration": 14,
    "start_time": "2021-11-21T14:21:22.180Z"
   },
   {
    "duration": 20,
    "start_time": "2021-11-21T14:21:22.198Z"
   },
   {
    "duration": 57,
    "start_time": "2021-11-21T14:21:22.221Z"
   },
   {
    "duration": 40,
    "start_time": "2021-11-21T14:21:22.280Z"
   },
   {
    "duration": 11,
    "start_time": "2021-11-21T14:21:22.323Z"
   },
   {
    "duration": 56,
    "start_time": "2021-11-21T14:21:22.336Z"
   },
   {
    "duration": 8,
    "start_time": "2021-11-21T14:21:22.395Z"
   },
   {
    "duration": 22,
    "start_time": "2021-11-21T14:21:22.405Z"
   },
   {
    "duration": 6,
    "start_time": "2021-11-21T14:21:22.467Z"
   },
   {
    "duration": 125,
    "start_time": "2021-11-21T14:21:22.475Z"
   },
   {
    "duration": 23,
    "start_time": "2021-11-21T14:21:22.602Z"
   },
   {
    "duration": 10,
    "start_time": "2021-11-21T14:21:22.628Z"
   },
   {
    "duration": 31,
    "start_time": "2021-11-21T14:21:22.641Z"
   },
   {
    "duration": 166,
    "start_time": "2021-11-21T14:21:22.675Z"
   },
   {
    "duration": 4,
    "start_time": "2021-11-21T14:21:22.843Z"
   },
   {
    "duration": 2525,
    "start_time": "2021-11-21T14:21:22.849Z"
   },
   {
    "duration": 11,
    "start_time": "2021-11-21T14:21:25.380Z"
   },
   {
    "duration": 25,
    "start_time": "2021-11-21T14:21:25.394Z"
   },
   {
    "duration": 44,
    "start_time": "2021-11-21T14:21:25.422Z"
   },
   {
    "duration": 33,
    "start_time": "2021-11-21T14:21:25.469Z"
   },
   {
    "duration": 6,
    "start_time": "2021-11-21T14:21:25.505Z"
   },
   {
    "duration": 17,
    "start_time": "2021-11-21T14:21:25.514Z"
   },
   {
    "duration": 18,
    "start_time": "2021-11-21T14:21:25.568Z"
   },
   {
    "duration": 19,
    "start_time": "2021-11-21T14:21:25.588Z"
   },
   {
    "duration": 58,
    "start_time": "2021-11-21T14:21:25.609Z"
   },
   {
    "duration": 21,
    "start_time": "2021-11-21T14:21:25.670Z"
   },
   {
    "duration": 19,
    "start_time": "2021-11-21T14:21:25.694Z"
   },
   {
    "duration": 9,
    "start_time": "2021-11-21T14:21:25.715Z"
   },
   {
    "duration": 67,
    "start_time": "2021-11-21T14:21:25.727Z"
   },
   {
    "duration": 10,
    "start_time": "2021-11-21T14:21:25.797Z"
   },
   {
    "duration": 6,
    "start_time": "2021-11-21T14:21:25.810Z"
   },
   {
    "duration": 50,
    "start_time": "2021-11-21T14:21:25.819Z"
   },
   {
    "duration": 7,
    "start_time": "2021-11-21T14:21:25.871Z"
   },
   {
    "duration": 8,
    "start_time": "2021-11-21T14:21:25.881Z"
   },
   {
    "duration": 309,
    "start_time": "2021-11-21T14:21:25.892Z"
   },
   {
    "duration": 21,
    "start_time": "2021-11-21T14:21:26.203Z"
   },
   {
    "duration": 464,
    "start_time": "2021-11-21T14:21:26.226Z"
   },
   {
    "duration": 5,
    "start_time": "2021-11-21T14:21:26.692Z"
   },
   {
    "duration": 581,
    "start_time": "2021-11-21T14:21:26.699Z"
   },
   {
    "duration": 498,
    "start_time": "2021-11-21T14:21:27.283Z"
   },
   {
    "duration": 506,
    "start_time": "2021-11-21T14:21:27.785Z"
   },
   {
    "duration": 35,
    "start_time": "2021-11-21T14:21:28.294Z"
   },
   {
    "duration": 65,
    "start_time": "2021-11-21T14:21:28.332Z"
   },
   {
    "duration": 36,
    "start_time": "2021-11-21T14:21:28.399Z"
   },
   {
    "duration": 34,
    "start_time": "2021-11-21T14:21:28.437Z"
   },
   {
    "duration": 356,
    "start_time": "2021-11-21T14:21:28.474Z"
   },
   {
    "duration": 382,
    "start_time": "2021-11-21T14:21:28.834Z"
   },
   {
    "duration": 361,
    "start_time": "2021-11-21T14:21:29.218Z"
   },
   {
    "duration": 373,
    "start_time": "2021-11-21T14:21:29.581Z"
   },
   {
    "duration": 383,
    "start_time": "2021-11-21T14:21:29.958Z"
   },
   {
    "duration": 363,
    "start_time": "2021-11-21T14:21:30.344Z"
   },
   {
    "duration": 17,
    "start_time": "2021-11-21T14:21:30.710Z"
   },
   {
    "duration": 48,
    "start_time": "2021-11-21T14:21:30.729Z"
   },
   {
    "duration": 21,
    "start_time": "2021-11-21T14:21:30.781Z"
   },
   {
    "duration": 18,
    "start_time": "2021-11-21T14:21:30.806Z"
   },
   {
    "duration": 57,
    "start_time": "2021-11-21T14:21:30.826Z"
   },
   {
    "duration": 1049,
    "start_time": "2021-11-21T21:32:23.699Z"
   },
   {
    "duration": 408,
    "start_time": "2021-11-21T21:32:24.750Z"
   },
   {
    "duration": 14,
    "start_time": "2021-11-21T21:32:25.160Z"
   },
   {
    "duration": 19,
    "start_time": "2021-11-21T21:32:25.177Z"
   },
   {
    "duration": 14,
    "start_time": "2021-11-21T21:32:25.198Z"
   },
   {
    "duration": 7,
    "start_time": "2021-11-21T21:32:25.214Z"
   },
   {
    "duration": 7,
    "start_time": "2021-11-21T21:32:25.223Z"
   },
   {
    "duration": 15,
    "start_time": "2021-11-21T21:32:25.232Z"
   },
   {
    "duration": 8,
    "start_time": "2021-11-21T21:32:25.250Z"
   },
   {
    "duration": 16,
    "start_time": "2021-11-21T21:32:25.291Z"
   },
   {
    "duration": 8,
    "start_time": "2021-11-21T21:32:25.309Z"
   },
   {
    "duration": 20,
    "start_time": "2021-11-21T21:32:25.319Z"
   },
   {
    "duration": 5,
    "start_time": "2021-11-21T21:32:25.341Z"
   },
   {
    "duration": 13,
    "start_time": "2021-11-21T21:32:25.347Z"
   },
   {
    "duration": 30,
    "start_time": "2021-11-21T21:32:25.362Z"
   },
   {
    "duration": 428,
    "start_time": "2021-11-21T21:32:25.394Z"
   },
   {
    "duration": -7929,
    "start_time": "2021-11-21T21:32:33.754Z"
   },
   {
    "duration": -7934,
    "start_time": "2021-11-21T21:32:33.760Z"
   },
   {
    "duration": -7948,
    "start_time": "2021-11-21T21:32:33.775Z"
   },
   {
    "duration": -7949,
    "start_time": "2021-11-21T21:32:33.777Z"
   },
   {
    "duration": -7952,
    "start_time": "2021-11-21T21:32:33.780Z"
   },
   {
    "duration": -7961,
    "start_time": "2021-11-21T21:32:33.790Z"
   },
   {
    "duration": -7962,
    "start_time": "2021-11-21T21:32:33.792Z"
   },
   {
    "duration": -7963,
    "start_time": "2021-11-21T21:32:33.794Z"
   },
   {
    "duration": -7964,
    "start_time": "2021-11-21T21:32:33.796Z"
   },
   {
    "duration": -7965,
    "start_time": "2021-11-21T21:32:33.798Z"
   },
   {
    "duration": -7966,
    "start_time": "2021-11-21T21:32:33.800Z"
   },
   {
    "duration": -7967,
    "start_time": "2021-11-21T21:32:33.802Z"
   },
   {
    "duration": -7972,
    "start_time": "2021-11-21T21:32:33.808Z"
   },
   {
    "duration": -7974,
    "start_time": "2021-11-21T21:32:33.811Z"
   },
   {
    "duration": -7982,
    "start_time": "2021-11-21T21:32:33.820Z"
   },
   {
    "duration": -7983,
    "start_time": "2021-11-21T21:32:33.822Z"
   },
   {
    "duration": -7985,
    "start_time": "2021-11-21T21:32:33.824Z"
   },
   {
    "duration": -7986,
    "start_time": "2021-11-21T21:32:33.826Z"
   },
   {
    "duration": -7986,
    "start_time": "2021-11-21T21:32:33.827Z"
   },
   {
    "duration": -7988,
    "start_time": "2021-11-21T21:32:33.830Z"
   },
   {
    "duration": -7995,
    "start_time": "2021-11-21T21:32:33.838Z"
   },
   {
    "duration": -7998,
    "start_time": "2021-11-21T21:32:33.842Z"
   },
   {
    "duration": -8001,
    "start_time": "2021-11-21T21:32:33.845Z"
   },
   {
    "duration": -8023,
    "start_time": "2021-11-21T21:32:33.868Z"
   },
   {
    "duration": -8024,
    "start_time": "2021-11-21T21:32:33.870Z"
   },
   {
    "duration": -8025,
    "start_time": "2021-11-21T21:32:33.872Z"
   },
   {
    "duration": -8027,
    "start_time": "2021-11-21T21:32:33.875Z"
   },
   {
    "duration": -8028,
    "start_time": "2021-11-21T21:32:33.877Z"
   },
   {
    "duration": -8029,
    "start_time": "2021-11-21T21:32:33.879Z"
   },
   {
    "duration": -8040,
    "start_time": "2021-11-21T21:32:33.891Z"
   },
   {
    "duration": -8040,
    "start_time": "2021-11-21T21:32:33.892Z"
   },
   {
    "duration": -8051,
    "start_time": "2021-11-21T21:32:33.904Z"
   },
   {
    "duration": -8052,
    "start_time": "2021-11-21T21:32:33.906Z"
   },
   {
    "duration": -8053,
    "start_time": "2021-11-21T21:32:33.908Z"
   },
   {
    "duration": -8054,
    "start_time": "2021-11-21T21:32:33.910Z"
   },
   {
    "duration": -8056,
    "start_time": "2021-11-21T21:32:33.912Z"
   },
   {
    "duration": -8057,
    "start_time": "2021-11-21T21:32:33.914Z"
   },
   {
    "duration": -8067,
    "start_time": "2021-11-21T21:32:33.925Z"
   },
   {
    "duration": -8068,
    "start_time": "2021-11-21T21:32:33.927Z"
   },
   {
    "duration": -8038,
    "start_time": "2021-11-21T21:32:33.929Z"
   },
   {
    "duration": -8039,
    "start_time": "2021-11-21T21:32:33.931Z"
   },
   {
    "duration": -8040,
    "start_time": "2021-11-21T21:32:33.933Z"
   },
   {
    "duration": -8058,
    "start_time": "2021-11-21T21:32:33.952Z"
   },
   {
    "duration": -8060,
    "start_time": "2021-11-21T21:32:33.954Z"
   },
   {
    "duration": -8062,
    "start_time": "2021-11-21T21:32:33.957Z"
   },
   {
    "duration": -8063,
    "start_time": "2021-11-21T21:32:33.959Z"
   },
   {
    "duration": 3,
    "start_time": "2021-11-21T21:37:13.327Z"
   },
   {
    "duration": 406,
    "start_time": "2021-11-21T21:37:13.332Z"
   },
   {
    "duration": 9,
    "start_time": "2021-11-21T21:37:13.741Z"
   },
   {
    "duration": 8,
    "start_time": "2021-11-21T21:37:13.752Z"
   },
   {
    "duration": 10,
    "start_time": "2021-11-21T21:37:13.761Z"
   },
   {
    "duration": 24,
    "start_time": "2021-11-21T21:37:13.772Z"
   },
   {
    "duration": 8,
    "start_time": "2021-11-21T21:37:13.798Z"
   },
   {
    "duration": 14,
    "start_time": "2021-11-21T21:37:13.807Z"
   },
   {
    "duration": 7,
    "start_time": "2021-11-21T21:37:13.824Z"
   },
   {
    "duration": 16,
    "start_time": "2021-11-21T21:37:13.833Z"
   },
   {
    "duration": 40,
    "start_time": "2021-11-21T21:37:13.851Z"
   },
   {
    "duration": 20,
    "start_time": "2021-11-21T21:37:13.893Z"
   },
   {
    "duration": 6,
    "start_time": "2021-11-21T21:37:13.914Z"
   },
   {
    "duration": 16,
    "start_time": "2021-11-21T21:37:13.922Z"
   },
   {
    "duration": 4,
    "start_time": "2021-11-21T21:37:13.940Z"
   },
   {
    "duration": 83,
    "start_time": "2021-11-21T21:37:13.945Z"
   },
   {
    "duration": 18,
    "start_time": "2021-11-21T21:37:14.029Z"
   },
   {
    "duration": 11,
    "start_time": "2021-11-21T21:37:14.048Z"
   },
   {
    "duration": 5,
    "start_time": "2021-11-21T21:37:14.061Z"
   },
   {
    "duration": 130,
    "start_time": "2021-11-21T21:37:14.068Z"
   },
   {
    "duration": 3,
    "start_time": "2021-11-21T21:37:14.200Z"
   },
   {
    "duration": 1293,
    "start_time": "2021-11-21T21:37:14.204Z"
   },
   {
    "duration": 7,
    "start_time": "2021-11-21T21:37:15.499Z"
   },
   {
    "duration": 18,
    "start_time": "2021-11-21T21:37:15.508Z"
   },
   {
    "duration": 6,
    "start_time": "2021-11-21T21:37:15.527Z"
   },
   {
    "duration": 18,
    "start_time": "2021-11-21T21:37:15.535Z"
   },
   {
    "duration": 3,
    "start_time": "2021-11-21T21:37:15.557Z"
   },
   {
    "duration": 34,
    "start_time": "2021-11-21T21:37:15.562Z"
   },
   {
    "duration": 8,
    "start_time": "2021-11-21T21:37:15.597Z"
   },
   {
    "duration": 11,
    "start_time": "2021-11-21T21:37:15.607Z"
   },
   {
    "duration": 10,
    "start_time": "2021-11-21T21:37:15.620Z"
   },
   {
    "duration": 13,
    "start_time": "2021-11-21T21:37:15.632Z"
   },
   {
    "duration": 11,
    "start_time": "2021-11-21T21:37:15.646Z"
   },
   {
    "duration": 37,
    "start_time": "2021-11-21T21:37:15.658Z"
   },
   {
    "duration": 20,
    "start_time": "2021-11-21T21:37:15.696Z"
   },
   {
    "duration": 6,
    "start_time": "2021-11-21T21:37:15.717Z"
   },
   {
    "duration": 5,
    "start_time": "2021-11-21T21:37:15.724Z"
   },
   {
    "duration": 4,
    "start_time": "2021-11-21T21:37:15.730Z"
   },
   {
    "duration": 4,
    "start_time": "2021-11-21T21:37:15.736Z"
   },
   {
    "duration": 6,
    "start_time": "2021-11-21T21:37:15.742Z"
   },
   {
    "duration": 179,
    "start_time": "2021-11-21T21:37:15.749Z"
   },
   {
    "duration": 13,
    "start_time": "2021-11-21T21:37:15.930Z"
   },
   {
    "duration": 267,
    "start_time": "2021-11-21T21:37:15.944Z"
   },
   {
    "duration": 3,
    "start_time": "2021-11-21T21:37:16.213Z"
   },
   {
    "duration": 341,
    "start_time": "2021-11-21T21:37:16.217Z"
   },
   {
    "duration": 285,
    "start_time": "2021-11-21T21:37:16.559Z"
   },
   {
    "duration": 281,
    "start_time": "2021-11-21T21:37:16.846Z"
   },
   {
    "duration": 20,
    "start_time": "2021-11-21T21:37:17.129Z"
   },
   {
    "duration": 19,
    "start_time": "2021-11-21T21:37:17.150Z"
   },
   {
    "duration": 38,
    "start_time": "2021-11-21T21:37:17.171Z"
   },
   {
    "duration": 4,
    "start_time": "2021-11-21T21:37:17.210Z"
   },
   {
    "duration": 213,
    "start_time": "2021-11-21T21:37:17.215Z"
   },
   {
    "duration": 220,
    "start_time": "2021-11-21T21:37:17.430Z"
   },
   {
    "duration": 213,
    "start_time": "2021-11-21T21:37:17.652Z"
   },
   {
    "duration": 224,
    "start_time": "2021-11-21T21:37:17.867Z"
   },
   {
    "duration": 219,
    "start_time": "2021-11-21T21:37:18.093Z"
   },
   {
    "duration": 210,
    "start_time": "2021-11-21T21:37:18.314Z"
   },
   {
    "duration": 12,
    "start_time": "2021-11-21T21:37:18.525Z"
   },
   {
    "duration": 12,
    "start_time": "2021-11-21T21:37:18.539Z"
   },
   {
    "duration": 10,
    "start_time": "2021-11-21T21:37:18.553Z"
   },
   {
    "duration": 26,
    "start_time": "2021-11-21T21:37:18.565Z"
   },
   {
    "duration": 14,
    "start_time": "2021-11-21T21:37:18.593Z"
   },
   {
    "duration": 56,
    "start_time": "2021-11-21T21:41:56.274Z"
   },
   {
    "duration": 59,
    "start_time": "2021-11-21T21:42:49.694Z"
   },
   {
    "duration": 4,
    "start_time": "2021-11-21T21:45:33.488Z"
   },
   {
    "duration": 392,
    "start_time": "2021-11-21T21:45:33.494Z"
   },
   {
    "duration": 12,
    "start_time": "2021-11-21T21:45:33.888Z"
   },
   {
    "duration": 8,
    "start_time": "2021-11-21T21:45:33.902Z"
   },
   {
    "duration": 9,
    "start_time": "2021-11-21T21:45:33.911Z"
   },
   {
    "duration": 6,
    "start_time": "2021-11-21T21:45:33.922Z"
   },
   {
    "duration": 8,
    "start_time": "2021-11-21T21:45:33.930Z"
   },
   {
    "duration": 14,
    "start_time": "2021-11-21T21:45:33.939Z"
   },
   {
    "duration": 41,
    "start_time": "2021-11-21T21:45:33.956Z"
   },
   {
    "duration": 21,
    "start_time": "2021-11-21T21:45:33.999Z"
   },
   {
    "duration": 8,
    "start_time": "2021-11-21T21:45:34.021Z"
   },
   {
    "duration": 20,
    "start_time": "2021-11-21T21:45:34.031Z"
   },
   {
    "duration": 6,
    "start_time": "2021-11-21T21:45:34.052Z"
   },
   {
    "duration": 40,
    "start_time": "2021-11-21T21:45:34.059Z"
   },
   {
    "duration": 11,
    "start_time": "2021-11-21T21:45:34.101Z"
   },
   {
    "duration": 61,
    "start_time": "2021-11-21T21:45:34.114Z"
   },
   {
    "duration": 23,
    "start_time": "2021-11-21T21:45:34.176Z"
   },
   {
    "duration": 8,
    "start_time": "2021-11-21T21:45:34.200Z"
   },
   {
    "duration": 5,
    "start_time": "2021-11-21T21:45:34.210Z"
   },
   {
    "duration": 109,
    "start_time": "2021-11-21T21:45:34.217Z"
   },
   {
    "duration": 3,
    "start_time": "2021-11-21T21:45:34.328Z"
   },
   {
    "duration": 1396,
    "start_time": "2021-11-21T21:45:34.332Z"
   },
   {
    "duration": 7,
    "start_time": "2021-11-21T21:45:35.730Z"
   },
   {
    "duration": 17,
    "start_time": "2021-11-21T21:45:35.739Z"
   },
   {
    "duration": 6,
    "start_time": "2021-11-21T21:45:35.757Z"
   },
   {
    "duration": 35,
    "start_time": "2021-11-21T21:45:35.765Z"
   },
   {
    "duration": 3,
    "start_time": "2021-11-21T21:45:35.803Z"
   },
   {
    "duration": 12,
    "start_time": "2021-11-21T21:45:35.808Z"
   },
   {
    "duration": 7,
    "start_time": "2021-11-21T21:45:35.821Z"
   },
   {
    "duration": 7,
    "start_time": "2021-11-21T21:45:39.778Z"
   },
   {
    "duration": 8,
    "start_time": "2021-11-21T21:48:02.408Z"
   },
   {
    "duration": 185,
    "start_time": "2021-11-21T21:49:46.376Z"
   },
   {
    "duration": 11,
    "start_time": "2021-11-21T21:49:53.653Z"
   },
   {
    "duration": 4,
    "start_time": "2021-11-21T21:54:55.739Z"
   },
   {
    "duration": 58,
    "start_time": "2021-11-21T21:56:59.074Z"
   },
   {
    "duration": 171,
    "start_time": "2021-11-21T22:05:37.870Z"
   },
   {
    "duration": 55,
    "start_time": "2021-11-21T22:05:40.247Z"
   },
   {
    "duration": 4,
    "start_time": "2021-11-21T22:05:57.006Z"
   },
   {
    "duration": 397,
    "start_time": "2021-11-21T22:05:57.012Z"
   },
   {
    "duration": 10,
    "start_time": "2021-11-21T22:05:57.412Z"
   },
   {
    "duration": 28,
    "start_time": "2021-11-21T22:05:57.425Z"
   },
   {
    "duration": 26,
    "start_time": "2021-11-21T22:05:57.454Z"
   },
   {
    "duration": 27,
    "start_time": "2021-11-21T22:05:57.482Z"
   },
   {
    "duration": 30,
    "start_time": "2021-11-21T22:05:57.511Z"
   },
   {
    "duration": 15,
    "start_time": "2021-11-21T22:05:57.544Z"
   },
   {
    "duration": 12,
    "start_time": "2021-11-21T22:05:57.560Z"
   },
   {
    "duration": 19,
    "start_time": "2021-11-21T22:05:57.573Z"
   },
   {
    "duration": 8,
    "start_time": "2021-11-21T22:05:57.593Z"
   },
   {
    "duration": 22,
    "start_time": "2021-11-21T22:05:57.602Z"
   },
   {
    "duration": 5,
    "start_time": "2021-11-21T22:05:57.625Z"
   },
   {
    "duration": 11,
    "start_time": "2021-11-21T22:05:57.631Z"
   },
   {
    "duration": 5,
    "start_time": "2021-11-21T22:05:57.644Z"
   },
   {
    "duration": 84,
    "start_time": "2021-11-21T22:05:57.650Z"
   },
   {
    "duration": 14,
    "start_time": "2021-11-21T22:05:57.736Z"
   },
   {
    "duration": 8,
    "start_time": "2021-11-21T22:05:57.752Z"
   },
   {
    "duration": 6,
    "start_time": "2021-11-21T22:05:57.761Z"
   },
   {
    "duration": 124,
    "start_time": "2021-11-21T22:05:57.768Z"
   },
   {
    "duration": 2,
    "start_time": "2021-11-21T22:05:57.894Z"
   },
   {
    "duration": 1387,
    "start_time": "2021-11-21T22:05:57.898Z"
   },
   {
    "duration": 7,
    "start_time": "2021-11-21T22:05:59.292Z"
   },
   {
    "duration": 16,
    "start_time": "2021-11-21T22:05:59.301Z"
   },
   {
    "duration": 6,
    "start_time": "2021-11-21T22:05:59.318Z"
   },
   {
    "duration": 19,
    "start_time": "2021-11-21T22:05:59.326Z"
   },
   {
    "duration": 4,
    "start_time": "2021-11-21T22:05:59.346Z"
   },
   {
    "duration": 10,
    "start_time": "2021-11-21T22:05:59.351Z"
   },
   {
    "duration": 35,
    "start_time": "2021-11-21T22:05:59.362Z"
   },
   {
    "duration": 13,
    "start_time": "2021-11-21T22:05:59.399Z"
   },
   {
    "duration": 14,
    "start_time": "2021-11-21T22:05:59.414Z"
   },
   {
    "duration": 34,
    "start_time": "2021-11-21T22:05:59.429Z"
   },
   {
    "duration": 39,
    "start_time": "2021-11-21T22:05:59.465Z"
   },
   {
    "duration": 35,
    "start_time": "2021-11-21T22:05:59.506Z"
   },
   {
    "duration": 41,
    "start_time": "2021-11-21T22:05:59.543Z"
   },
   {
    "duration": 62,
    "start_time": "2021-11-21T22:05:59.585Z"
   },
   {
    "duration": 31,
    "start_time": "2021-11-21T22:05:59.649Z"
   },
   {
    "duration": 40,
    "start_time": "2021-11-21T22:05:59.682Z"
   },
   {
    "duration": 37,
    "start_time": "2021-11-21T22:05:59.724Z"
   },
   {
    "duration": 20,
    "start_time": "2021-11-21T22:05:59.763Z"
   },
   {
    "duration": 37,
    "start_time": "2021-11-21T22:05:59.785Z"
   },
   {
    "duration": 43,
    "start_time": "2021-11-21T22:05:59.824Z"
   },
   {
    "duration": 175,
    "start_time": "2021-11-21T22:05:59.869Z"
   },
   {
    "duration": 15,
    "start_time": "2021-11-21T22:06:00.046Z"
   },
   {
    "duration": 299,
    "start_time": "2021-11-21T22:06:00.063Z"
   },
   {
    "duration": 3,
    "start_time": "2021-11-21T22:06:00.364Z"
   },
   {
    "duration": 316,
    "start_time": "2021-11-21T22:06:00.369Z"
   },
   {
    "duration": 353,
    "start_time": "2021-11-21T22:06:00.691Z"
   },
   {
    "duration": 294,
    "start_time": "2021-11-21T22:06:01.046Z"
   },
   {
    "duration": 292,
    "start_time": "2021-11-21T22:06:01.341Z"
   },
   {
    "duration": 22,
    "start_time": "2021-11-21T22:06:01.635Z"
   },
   {
    "duration": 33,
    "start_time": "2021-11-21T22:06:01.658Z"
   },
   {
    "duration": 20,
    "start_time": "2021-11-21T22:06:01.693Z"
   },
   {
    "duration": 4,
    "start_time": "2021-11-21T22:06:01.714Z"
   },
   {
    "duration": 225,
    "start_time": "2021-11-21T22:06:01.719Z"
   },
   {
    "duration": 227,
    "start_time": "2021-11-21T22:06:01.946Z"
   },
   {
    "duration": 219,
    "start_time": "2021-11-21T22:06:02.175Z"
   },
   {
    "duration": 236,
    "start_time": "2021-11-21T22:06:02.395Z"
   },
   {
    "duration": 224,
    "start_time": "2021-11-21T22:06:02.633Z"
   },
   {
    "duration": 212,
    "start_time": "2021-11-21T22:06:02.858Z"
   },
   {
    "duration": 24,
    "start_time": "2021-11-21T22:06:03.072Z"
   },
   {
    "duration": 12,
    "start_time": "2021-11-21T22:06:03.098Z"
   },
   {
    "duration": 19,
    "start_time": "2021-11-21T22:06:03.111Z"
   },
   {
    "duration": 13,
    "start_time": "2021-11-21T22:06:03.132Z"
   },
   {
    "duration": 18,
    "start_time": "2021-11-21T22:06:03.147Z"
   },
   {
    "duration": 58,
    "start_time": "2021-11-21T22:16:07.493Z"
   },
   {
    "duration": 1214,
    "start_time": "2021-11-22T14:41:27.200Z"
   },
   {
    "duration": 397,
    "start_time": "2021-11-22T14:41:28.416Z"
   },
   {
    "duration": 12,
    "start_time": "2021-11-22T14:41:28.816Z"
   },
   {
    "duration": 30,
    "start_time": "2021-11-22T14:41:28.829Z"
   },
   {
    "duration": 22,
    "start_time": "2021-11-22T14:41:28.861Z"
   },
   {
    "duration": 27,
    "start_time": "2021-11-22T14:41:28.885Z"
   },
   {
    "duration": 23,
    "start_time": "2021-11-22T14:41:28.914Z"
   },
   {
    "duration": 38,
    "start_time": "2021-11-22T14:41:28.939Z"
   },
   {
    "duration": 17,
    "start_time": "2021-11-22T14:41:28.979Z"
   },
   {
    "duration": 42,
    "start_time": "2021-11-22T14:41:28.997Z"
   },
   {
    "duration": 10,
    "start_time": "2021-11-22T14:41:29.041Z"
   },
   {
    "duration": 32,
    "start_time": "2021-11-22T14:41:29.053Z"
   },
   {
    "duration": 6,
    "start_time": "2021-11-22T14:41:29.086Z"
   },
   {
    "duration": 36,
    "start_time": "2021-11-22T14:41:29.093Z"
   },
   {
    "duration": 20,
    "start_time": "2021-11-22T14:41:29.131Z"
   },
   {
    "duration": 81,
    "start_time": "2021-11-22T14:41:29.153Z"
   },
   {
    "duration": 19,
    "start_time": "2021-11-22T14:41:29.236Z"
   },
   {
    "duration": 26,
    "start_time": "2021-11-22T14:41:29.257Z"
   },
   {
    "duration": 30,
    "start_time": "2021-11-22T14:41:29.285Z"
   },
   {
    "duration": 134,
    "start_time": "2021-11-22T14:41:29.317Z"
   },
   {
    "duration": 4,
    "start_time": "2021-11-22T14:41:29.454Z"
   },
   {
    "duration": 1489,
    "start_time": "2021-11-22T14:41:29.460Z"
   },
   {
    "duration": 10,
    "start_time": "2021-11-22T14:41:30.955Z"
   },
   {
    "duration": 25,
    "start_time": "2021-11-22T14:41:30.967Z"
   },
   {
    "duration": 10,
    "start_time": "2021-11-22T14:41:30.993Z"
   },
   {
    "duration": 44,
    "start_time": "2021-11-22T14:41:31.005Z"
   },
   {
    "duration": 4,
    "start_time": "2021-11-22T14:41:31.051Z"
   },
   {
    "duration": 36,
    "start_time": "2021-11-22T14:41:31.057Z"
   },
   {
    "duration": 35,
    "start_time": "2021-11-22T14:41:31.095Z"
   },
   {
    "duration": 38,
    "start_time": "2021-11-22T14:41:31.131Z"
   },
   {
    "duration": 32,
    "start_time": "2021-11-22T14:41:31.171Z"
   },
   {
    "duration": 32,
    "start_time": "2021-11-22T14:41:31.205Z"
   },
   {
    "duration": 35,
    "start_time": "2021-11-22T14:41:31.238Z"
   },
   {
    "duration": 40,
    "start_time": "2021-11-22T14:41:31.274Z"
   },
   {
    "duration": 42,
    "start_time": "2021-11-22T14:41:31.315Z"
   },
   {
    "duration": 45,
    "start_time": "2021-11-22T14:41:31.358Z"
   },
   {
    "duration": 24,
    "start_time": "2021-11-22T14:41:31.405Z"
   },
   {
    "duration": 28,
    "start_time": "2021-11-22T14:41:31.431Z"
   },
   {
    "duration": 48,
    "start_time": "2021-11-22T14:41:31.461Z"
   },
   {
    "duration": 32,
    "start_time": "2021-11-22T14:41:31.510Z"
   },
   {
    "duration": 27,
    "start_time": "2021-11-22T14:41:31.544Z"
   },
   {
    "duration": 40,
    "start_time": "2021-11-22T14:41:31.573Z"
   },
   {
    "duration": 198,
    "start_time": "2021-11-22T14:41:31.614Z"
   },
   {
    "duration": 13,
    "start_time": "2021-11-22T14:41:31.814Z"
   },
   {
    "duration": 289,
    "start_time": "2021-11-22T14:41:31.828Z"
   },
   {
    "duration": 4,
    "start_time": "2021-11-22T14:41:32.118Z"
   },
   {
    "duration": 368,
    "start_time": "2021-11-22T14:41:32.123Z"
   },
   {
    "duration": 282,
    "start_time": "2021-11-22T14:41:32.493Z"
   },
   {
    "duration": 293,
    "start_time": "2021-11-22T14:41:32.777Z"
   },
   {
    "duration": 373,
    "start_time": "2021-11-22T14:41:33.071Z"
   },
   {
    "duration": 43,
    "start_time": "2021-11-22T14:41:33.449Z"
   },
   {
    "duration": 62,
    "start_time": "2021-11-22T14:41:33.495Z"
   },
   {
    "duration": 35,
    "start_time": "2021-11-22T14:41:33.560Z"
   },
   {
    "duration": 6,
    "start_time": "2021-11-22T14:41:33.597Z"
   },
   {
    "duration": 260,
    "start_time": "2021-11-22T14:41:33.605Z"
   },
   {
    "duration": 213,
    "start_time": "2021-11-22T14:41:33.867Z"
   },
   {
    "duration": 214,
    "start_time": "2021-11-22T14:41:34.081Z"
   },
   {
    "duration": 207,
    "start_time": "2021-11-22T14:41:34.297Z"
   },
   {
    "duration": 225,
    "start_time": "2021-11-22T14:41:34.505Z"
   },
   {
    "duration": 207,
    "start_time": "2021-11-22T14:41:34.732Z"
   },
   {
    "duration": 18,
    "start_time": "2021-11-22T14:41:34.944Z"
   },
   {
    "duration": 14,
    "start_time": "2021-11-22T14:41:34.964Z"
   },
   {
    "duration": 11,
    "start_time": "2021-11-22T14:41:34.980Z"
   },
   {
    "duration": 2,
    "start_time": "2021-11-22T14:41:34.993Z"
   },
   {
    "duration": 50,
    "start_time": "2021-11-22T14:41:34.996Z"
   },
   {
    "duration": 80,
    "start_time": "2021-11-22T15:08:43.791Z"
   },
   {
    "duration": 363,
    "start_time": "2021-11-22T15:08:51.327Z"
   },
   {
    "duration": 4,
    "start_time": "2021-11-22T15:09:05.466Z"
   },
   {
    "duration": 7,
    "start_time": "2021-11-22T15:09:14.950Z"
   },
   {
    "duration": 10,
    "start_time": "2021-11-22T15:09:34.536Z"
   },
   {
    "duration": 3,
    "start_time": "2021-11-22T15:10:09.318Z"
   },
   {
    "duration": 11,
    "start_time": "2021-11-22T15:10:10.828Z"
   },
   {
    "duration": 3,
    "start_time": "2021-11-22T15:10:13.975Z"
   },
   {
    "duration": 551,
    "start_time": "2021-11-22T15:10:13.980Z"
   },
   {
    "duration": 21,
    "start_time": "2021-11-22T15:10:14.534Z"
   },
   {
    "duration": 12,
    "start_time": "2021-11-22T15:10:14.557Z"
   },
   {
    "duration": 29,
    "start_time": "2021-11-22T15:10:14.570Z"
   },
   {
    "duration": 11,
    "start_time": "2021-11-22T15:10:14.601Z"
   },
   {
    "duration": 17,
    "start_time": "2021-11-22T15:10:14.614Z"
   },
   {
    "duration": 14,
    "start_time": "2021-11-22T15:10:14.633Z"
   },
   {
    "duration": 10,
    "start_time": "2021-11-22T15:10:14.648Z"
   },
   {
    "duration": 18,
    "start_time": "2021-11-22T15:10:14.659Z"
   },
   {
    "duration": 7,
    "start_time": "2021-11-22T15:10:14.679Z"
   },
   {
    "duration": 24,
    "start_time": "2021-11-22T15:10:14.688Z"
   },
   {
    "duration": 6,
    "start_time": "2021-11-22T15:10:14.713Z"
   },
   {
    "duration": 32,
    "start_time": "2021-11-22T15:10:14.720Z"
   },
   {
    "duration": 4,
    "start_time": "2021-11-22T15:10:14.754Z"
   },
   {
    "duration": 57,
    "start_time": "2021-11-22T15:10:14.759Z"
   },
   {
    "duration": 30,
    "start_time": "2021-11-22T15:10:14.818Z"
   },
   {
    "duration": 7,
    "start_time": "2021-11-22T15:10:14.849Z"
   },
   {
    "duration": 6,
    "start_time": "2021-11-22T15:10:14.859Z"
   },
   {
    "duration": 109,
    "start_time": "2021-11-22T15:10:14.867Z"
   },
   {
    "duration": 3,
    "start_time": "2021-11-22T15:10:14.978Z"
   },
   {
    "duration": 1507,
    "start_time": "2021-11-22T15:10:14.982Z"
   },
   {
    "duration": 3,
    "start_time": "2021-11-22T15:10:16.491Z"
   },
   {
    "duration": 14,
    "start_time": "2021-11-22T15:10:16.496Z"
   },
   {
    "duration": 15,
    "start_time": "2021-11-22T15:10:16.511Z"
   },
   {
    "duration": 21,
    "start_time": "2021-11-22T15:10:16.527Z"
   },
   {
    "duration": 17,
    "start_time": "2021-11-22T15:10:16.549Z"
   },
   {
    "duration": 3,
    "start_time": "2021-11-22T15:10:16.568Z"
   },
   {
    "duration": 9,
    "start_time": "2021-11-22T15:10:16.572Z"
   },
   {
    "duration": 6,
    "start_time": "2021-11-22T15:10:16.583Z"
   },
   {
    "duration": 11,
    "start_time": "2021-11-22T15:10:16.590Z"
   },
   {
    "duration": 48,
    "start_time": "2021-11-22T15:10:16.603Z"
   },
   {
    "duration": 12,
    "start_time": "2021-11-22T15:10:16.653Z"
   },
   {
    "duration": 15,
    "start_time": "2021-11-22T15:10:16.666Z"
   },
   {
    "duration": 12,
    "start_time": "2021-11-22T15:10:16.682Z"
   },
   {
    "duration": 5,
    "start_time": "2021-11-22T15:10:16.696Z"
   },
   {
    "duration": 50,
    "start_time": "2021-11-22T15:10:16.702Z"
   },
   {
    "duration": 6,
    "start_time": "2021-11-22T15:10:16.754Z"
   },
   {
    "duration": 5,
    "start_time": "2021-11-22T15:10:16.762Z"
   },
   {
    "duration": 4,
    "start_time": "2021-11-22T15:10:16.768Z"
   },
   {
    "duration": 5,
    "start_time": "2021-11-22T15:10:16.773Z"
   },
   {
    "duration": 5,
    "start_time": "2021-11-22T15:10:16.780Z"
   },
   {
    "duration": 6,
    "start_time": "2021-11-22T15:10:16.787Z"
   },
   {
    "duration": 190,
    "start_time": "2021-11-22T15:10:16.795Z"
   },
   {
    "duration": 13,
    "start_time": "2021-11-22T15:10:16.987Z"
   },
   {
    "duration": 273,
    "start_time": "2021-11-22T15:10:17.001Z"
   },
   {
    "duration": 3,
    "start_time": "2021-11-22T15:10:17.276Z"
   },
   {
    "duration": 265,
    "start_time": "2021-11-22T15:10:17.281Z"
   },
   {
    "duration": 363,
    "start_time": "2021-11-22T15:10:17.548Z"
   },
   {
    "duration": 269,
    "start_time": "2021-11-22T15:10:17.913Z"
   },
   {
    "duration": 271,
    "start_time": "2021-11-22T15:10:18.184Z"
   },
   {
    "duration": 22,
    "start_time": "2021-11-22T15:10:18.456Z"
   },
   {
    "duration": 20,
    "start_time": "2021-11-22T15:10:18.480Z"
   },
   {
    "duration": 46,
    "start_time": "2021-11-22T15:10:18.501Z"
   },
   {
    "duration": 4,
    "start_time": "2021-11-22T15:10:18.551Z"
   },
   {
    "duration": 202,
    "start_time": "2021-11-22T15:10:18.557Z"
   },
   {
    "duration": 272,
    "start_time": "2021-11-22T15:10:18.761Z"
   },
   {
    "duration": 202,
    "start_time": "2021-11-22T15:10:19.034Z"
   },
   {
    "duration": 206,
    "start_time": "2021-11-22T15:10:19.245Z"
   },
   {
    "duration": 214,
    "start_time": "2021-11-22T15:10:19.452Z"
   },
   {
    "duration": 203,
    "start_time": "2021-11-22T15:10:19.667Z"
   },
   {
    "duration": 12,
    "start_time": "2021-11-22T15:10:19.872Z"
   },
   {
    "duration": 13,
    "start_time": "2021-11-22T15:10:19.886Z"
   },
   {
    "duration": 11,
    "start_time": "2021-11-22T15:10:19.901Z"
   },
   {
    "duration": 4,
    "start_time": "2021-11-22T15:10:19.913Z"
   },
   {
    "duration": 17,
    "start_time": "2021-11-22T15:10:19.945Z"
   },
   {
    "duration": 10,
    "start_time": "2021-11-22T15:12:42.311Z"
   },
   {
    "duration": 10,
    "start_time": "2021-11-22T15:12:49.312Z"
   },
   {
    "duration": 11,
    "start_time": "2021-11-22T15:12:53.892Z"
   },
   {
    "duration": 3,
    "start_time": "2021-11-22T15:14:02.711Z"
   },
   {
    "duration": 373,
    "start_time": "2021-11-22T15:14:02.717Z"
   },
   {
    "duration": 8,
    "start_time": "2021-11-22T15:14:03.092Z"
   },
   {
    "duration": 7,
    "start_time": "2021-11-22T15:14:03.102Z"
   },
   {
    "duration": 10,
    "start_time": "2021-11-22T15:14:03.111Z"
   },
   {
    "duration": 22,
    "start_time": "2021-11-22T15:14:03.123Z"
   },
   {
    "duration": 8,
    "start_time": "2021-11-22T15:14:03.147Z"
   },
   {
    "duration": 16,
    "start_time": "2021-11-22T15:14:03.156Z"
   },
   {
    "duration": 9,
    "start_time": "2021-11-22T15:14:03.174Z"
   },
   {
    "duration": 17,
    "start_time": "2021-11-22T15:14:03.185Z"
   },
   {
    "duration": 7,
    "start_time": "2021-11-22T15:14:03.204Z"
   },
   {
    "duration": 46,
    "start_time": "2021-11-22T15:14:03.212Z"
   },
   {
    "duration": 10,
    "start_time": "2021-11-22T15:14:03.260Z"
   },
   {
    "duration": 27,
    "start_time": "2021-11-22T15:14:03.272Z"
   },
   {
    "duration": 21,
    "start_time": "2021-11-22T15:14:03.300Z"
   },
   {
    "duration": 63,
    "start_time": "2021-11-22T15:14:03.322Z"
   },
   {
    "duration": 14,
    "start_time": "2021-11-22T15:14:03.386Z"
   },
   {
    "duration": 9,
    "start_time": "2021-11-22T15:14:03.401Z"
   },
   {
    "duration": 21,
    "start_time": "2021-11-22T15:14:03.411Z"
   },
   {
    "duration": 93,
    "start_time": "2021-11-22T15:14:03.433Z"
   },
   {
    "duration": 3,
    "start_time": "2021-11-22T15:14:03.527Z"
   },
   {
    "duration": 1342,
    "start_time": "2021-11-22T15:14:03.532Z"
   },
   {
    "duration": 4,
    "start_time": "2021-11-22T15:14:04.876Z"
   },
   {
    "duration": 12,
    "start_time": "2021-11-22T15:14:04.884Z"
   },
   {
    "duration": 23,
    "start_time": "2021-11-22T15:14:04.899Z"
   },
   {
    "duration": 25,
    "start_time": "2021-11-22T15:14:04.924Z"
   },
   {
    "duration": 19,
    "start_time": "2021-11-22T15:14:04.950Z"
   },
   {
    "duration": 4,
    "start_time": "2021-11-22T15:14:04.970Z"
   },
   {
    "duration": 9,
    "start_time": "2021-11-22T15:14:04.976Z"
   },
   {
    "duration": 6,
    "start_time": "2021-11-22T15:14:04.986Z"
   },
   {
    "duration": 9,
    "start_time": "2021-11-22T15:14:04.994Z"
   },
   {
    "duration": 46,
    "start_time": "2021-11-22T15:14:05.005Z"
   },
   {
    "duration": 11,
    "start_time": "2021-11-22T15:14:05.053Z"
   },
   {
    "duration": 14,
    "start_time": "2021-11-22T15:14:05.065Z"
   },
   {
    "duration": 12,
    "start_time": "2021-11-22T15:14:05.080Z"
   },
   {
    "duration": 5,
    "start_time": "2021-11-22T15:14:05.094Z"
   },
   {
    "duration": 48,
    "start_time": "2021-11-22T15:14:05.100Z"
   },
   {
    "duration": 6,
    "start_time": "2021-11-22T15:14:05.150Z"
   },
   {
    "duration": 5,
    "start_time": "2021-11-22T15:14:05.157Z"
   },
   {
    "duration": 3,
    "start_time": "2021-11-22T15:14:05.164Z"
   },
   {
    "duration": 4,
    "start_time": "2021-11-22T15:14:05.169Z"
   },
   {
    "duration": 4,
    "start_time": "2021-11-22T15:14:05.175Z"
   },
   {
    "duration": 7,
    "start_time": "2021-11-22T15:14:05.181Z"
   },
   {
    "duration": 186,
    "start_time": "2021-11-22T15:14:05.189Z"
   },
   {
    "duration": 12,
    "start_time": "2021-11-22T15:14:05.377Z"
   },
   {
    "duration": 322,
    "start_time": "2021-11-22T15:14:05.390Z"
   },
   {
    "duration": 4,
    "start_time": "2021-11-22T15:14:05.713Z"
   },
   {
    "duration": 274,
    "start_time": "2021-11-22T15:14:05.719Z"
   },
   {
    "duration": 266,
    "start_time": "2021-11-22T15:14:05.995Z"
   },
   {
    "duration": 268,
    "start_time": "2021-11-22T15:14:06.263Z"
   },
   {
    "duration": 268,
    "start_time": "2021-11-22T15:14:06.532Z"
   },
   {
    "duration": 21,
    "start_time": "2021-11-22T15:14:06.802Z"
   },
   {
    "duration": 36,
    "start_time": "2021-11-22T15:14:06.824Z"
   },
   {
    "duration": 20,
    "start_time": "2021-11-22T15:14:06.861Z"
   },
   {
    "duration": 3,
    "start_time": "2021-11-22T15:14:06.883Z"
   },
   {
    "duration": 204,
    "start_time": "2021-11-22T15:14:06.888Z"
   },
   {
    "duration": 206,
    "start_time": "2021-11-22T15:14:07.094Z"
   },
   {
    "duration": 207,
    "start_time": "2021-11-22T15:14:07.302Z"
   },
   {
    "duration": 216,
    "start_time": "2021-11-22T15:14:07.511Z"
   },
   {
    "duration": 209,
    "start_time": "2021-11-22T15:14:07.729Z"
   },
   {
    "duration": 210,
    "start_time": "2021-11-22T15:14:07.944Z"
   },
   {
    "duration": 11,
    "start_time": "2021-11-22T15:14:08.155Z"
   },
   {
    "duration": 11,
    "start_time": "2021-11-22T15:14:08.168Z"
   },
   {
    "duration": 10,
    "start_time": "2021-11-22T15:14:08.181Z"
   },
   {
    "duration": 3,
    "start_time": "2021-11-22T15:14:08.192Z"
   },
   {
    "duration": 15,
    "start_time": "2021-11-22T15:14:08.196Z"
   },
   {
    "duration": 3,
    "start_time": "2021-11-22T15:25:43.752Z"
   },
   {
    "duration": 366,
    "start_time": "2021-11-22T15:25:43.757Z"
   },
   {
    "duration": 10,
    "start_time": "2021-11-22T15:25:44.125Z"
   },
   {
    "duration": 13,
    "start_time": "2021-11-22T15:25:44.136Z"
   },
   {
    "duration": 14,
    "start_time": "2021-11-22T15:25:44.150Z"
   },
   {
    "duration": 8,
    "start_time": "2021-11-22T15:25:44.166Z"
   },
   {
    "duration": 10,
    "start_time": "2021-11-22T15:25:44.177Z"
   },
   {
    "duration": 14,
    "start_time": "2021-11-22T15:25:44.190Z"
   },
   {
    "duration": 105,
    "start_time": "2021-11-22T15:25:44.206Z"
   },
   {
    "duration": 22,
    "start_time": "2021-11-22T15:25:44.313Z"
   },
   {
    "duration": 15,
    "start_time": "2021-11-22T15:25:44.336Z"
   },
   {
    "duration": 19,
    "start_time": "2021-11-22T15:25:44.353Z"
   },
   {
    "duration": 5,
    "start_time": "2021-11-22T15:25:44.374Z"
   },
   {
    "duration": 13,
    "start_time": "2021-11-22T15:25:44.380Z"
   },
   {
    "duration": 4,
    "start_time": "2021-11-22T15:25:44.394Z"
   },
   {
    "duration": 85,
    "start_time": "2021-11-22T15:25:44.400Z"
   },
   {
    "duration": 17,
    "start_time": "2021-11-22T15:25:44.486Z"
   },
   {
    "duration": 8,
    "start_time": "2021-11-22T15:25:44.504Z"
   },
   {
    "duration": 11,
    "start_time": "2021-11-22T15:25:44.515Z"
   },
   {
    "duration": 103,
    "start_time": "2021-11-22T15:25:44.528Z"
   },
   {
    "duration": 3,
    "start_time": "2021-11-22T15:25:44.633Z"
   },
   {
    "duration": 1403,
    "start_time": "2021-11-22T15:25:44.644Z"
   },
   {
    "duration": 4,
    "start_time": "2021-11-22T15:25:46.049Z"
   },
   {
    "duration": 16,
    "start_time": "2021-11-22T15:25:46.054Z"
   },
   {
    "duration": 18,
    "start_time": "2021-11-22T15:25:46.072Z"
   },
   {
    "duration": 6,
    "start_time": "2021-11-22T15:25:46.092Z"
   },
   {
    "duration": 18,
    "start_time": "2021-11-22T15:25:46.100Z"
   },
   {
    "duration": 26,
    "start_time": "2021-11-22T15:25:46.119Z"
   },
   {
    "duration": 10,
    "start_time": "2021-11-22T15:25:46.146Z"
   },
   {
    "duration": 6,
    "start_time": "2021-11-22T15:25:46.158Z"
   },
   {
    "duration": 11,
    "start_time": "2021-11-22T15:25:46.166Z"
   },
   {
    "duration": 16,
    "start_time": "2021-11-22T15:25:46.178Z"
   },
   {
    "duration": 10,
    "start_time": "2021-11-22T15:25:46.196Z"
   },
   {
    "duration": 16,
    "start_time": "2021-11-22T15:25:46.207Z"
   },
   {
    "duration": 29,
    "start_time": "2021-11-22T15:25:46.224Z"
   },
   {
    "duration": 4,
    "start_time": "2021-11-22T15:25:46.254Z"
   },
   {
    "duration": 23,
    "start_time": "2021-11-22T15:25:46.259Z"
   },
   {
    "duration": 6,
    "start_time": "2021-11-22T15:25:46.283Z"
   },
   {
    "duration": 14,
    "start_time": "2021-11-22T15:25:46.291Z"
   },
   {
    "duration": 11,
    "start_time": "2021-11-22T15:25:46.306Z"
   },
   {
    "duration": 20,
    "start_time": "2021-11-22T15:25:46.319Z"
   },
   {
    "duration": 9,
    "start_time": "2021-11-22T15:25:46.341Z"
   },
   {
    "duration": 24,
    "start_time": "2021-11-22T15:25:46.352Z"
   },
   {
    "duration": 163,
    "start_time": "2021-11-22T15:25:46.378Z"
   },
   {
    "duration": 14,
    "start_time": "2021-11-22T15:25:46.543Z"
   },
   {
    "duration": 261,
    "start_time": "2021-11-22T15:25:46.559Z"
   },
   {
    "duration": 4,
    "start_time": "2021-11-22T15:25:46.822Z"
   },
   {
    "duration": 269,
    "start_time": "2021-11-22T15:25:46.827Z"
   },
   {
    "duration": 280,
    "start_time": "2021-11-22T15:25:47.098Z"
   },
   {
    "duration": 266,
    "start_time": "2021-11-22T15:25:47.379Z"
   },
   {
    "duration": 260,
    "start_time": "2021-11-22T15:25:47.647Z"
   },
   {
    "duration": 22,
    "start_time": "2021-11-22T15:25:47.909Z"
   },
   {
    "duration": 30,
    "start_time": "2021-11-22T15:25:47.932Z"
   },
   {
    "duration": 21,
    "start_time": "2021-11-22T15:25:47.964Z"
   },
   {
    "duration": 4,
    "start_time": "2021-11-22T15:25:47.989Z"
   },
   {
    "duration": 276,
    "start_time": "2021-11-22T15:25:47.995Z"
   },
   {
    "duration": 207,
    "start_time": "2021-11-22T15:25:48.273Z"
   },
   {
    "duration": 206,
    "start_time": "2021-11-22T15:25:48.482Z"
   },
   {
    "duration": 204,
    "start_time": "2021-11-22T15:25:48.690Z"
   },
   {
    "duration": 207,
    "start_time": "2021-11-22T15:25:48.896Z"
   },
   {
    "duration": 200,
    "start_time": "2021-11-22T15:25:49.105Z"
   },
   {
    "duration": 13,
    "start_time": "2021-11-22T15:25:49.307Z"
   },
   {
    "duration": 35,
    "start_time": "2021-11-22T15:25:49.322Z"
   },
   {
    "duration": 14,
    "start_time": "2021-11-22T15:25:49.359Z"
   },
   {
    "duration": 3,
    "start_time": "2021-11-22T15:25:49.375Z"
   },
   {
    "duration": 18,
    "start_time": "2021-11-22T15:25:49.380Z"
   },
   {
    "duration": 4,
    "start_time": "2021-11-22T15:26:20.158Z"
   },
   {
    "duration": 3,
    "start_time": "2021-11-22T15:26:30.247Z"
   },
   {
    "duration": 375,
    "start_time": "2021-11-22T15:26:30.252Z"
   },
   {
    "duration": 9,
    "start_time": "2021-11-22T15:26:30.629Z"
   },
   {
    "duration": 19,
    "start_time": "2021-11-22T15:26:30.640Z"
   },
   {
    "duration": 26,
    "start_time": "2021-11-22T15:26:30.660Z"
   },
   {
    "duration": 25,
    "start_time": "2021-11-22T15:26:30.688Z"
   },
   {
    "duration": 21,
    "start_time": "2021-11-22T15:26:30.715Z"
   },
   {
    "duration": 26,
    "start_time": "2021-11-22T15:26:30.738Z"
   },
   {
    "duration": 18,
    "start_time": "2021-11-22T15:26:30.766Z"
   },
   {
    "duration": 36,
    "start_time": "2021-11-22T15:26:30.786Z"
   },
   {
    "duration": 13,
    "start_time": "2021-11-22T15:26:30.823Z"
   },
   {
    "duration": 34,
    "start_time": "2021-11-22T15:26:30.837Z"
   },
   {
    "duration": 5,
    "start_time": "2021-11-22T15:26:30.873Z"
   },
   {
    "duration": 28,
    "start_time": "2021-11-22T15:26:30.879Z"
   },
   {
    "duration": 16,
    "start_time": "2021-11-22T15:26:30.908Z"
   },
   {
    "duration": 88,
    "start_time": "2021-11-22T15:26:30.926Z"
   },
   {
    "duration": 15,
    "start_time": "2021-11-22T15:26:31.016Z"
   },
   {
    "duration": 7,
    "start_time": "2021-11-22T15:26:31.033Z"
   },
   {
    "duration": 12,
    "start_time": "2021-11-22T15:26:31.044Z"
   },
   {
    "duration": 93,
    "start_time": "2021-11-22T15:26:31.058Z"
   },
   {
    "duration": 4,
    "start_time": "2021-11-22T15:26:31.153Z"
   },
   {
    "duration": 7,
    "start_time": "2021-11-22T15:26:31.158Z"
   },
   {
    "duration": 1519,
    "start_time": "2021-11-22T15:26:31.166Z"
   },
   {
    "duration": 2,
    "start_time": "2021-11-22T15:26:32.686Z"
   },
   {
    "duration": 38,
    "start_time": "2021-11-22T15:26:32.690Z"
   },
   {
    "duration": 35,
    "start_time": "2021-11-22T15:26:32.729Z"
   },
   {
    "duration": 11,
    "start_time": "2021-11-22T15:26:32.765Z"
   },
   {
    "duration": 38,
    "start_time": "2021-11-22T15:26:32.778Z"
   },
   {
    "duration": 3,
    "start_time": "2021-11-22T15:26:32.817Z"
   },
   {
    "duration": 39,
    "start_time": "2021-11-22T15:26:32.821Z"
   },
   {
    "duration": 24,
    "start_time": "2021-11-22T15:26:32.862Z"
   },
   {
    "duration": 35,
    "start_time": "2021-11-22T15:26:32.887Z"
   },
   {
    "duration": 47,
    "start_time": "2021-11-22T15:26:32.923Z"
   },
   {
    "duration": 27,
    "start_time": "2021-11-22T15:26:32.972Z"
   },
   {
    "duration": 41,
    "start_time": "2021-11-22T15:26:33.001Z"
   },
   {
    "duration": 18,
    "start_time": "2021-11-22T15:26:33.043Z"
   },
   {
    "duration": 26,
    "start_time": "2021-11-22T15:26:33.062Z"
   },
   {
    "duration": 28,
    "start_time": "2021-11-22T15:26:33.089Z"
   },
   {
    "duration": 6,
    "start_time": "2021-11-22T15:26:33.118Z"
   },
   {
    "duration": 30,
    "start_time": "2021-11-22T15:26:33.126Z"
   },
   {
    "duration": 23,
    "start_time": "2021-11-22T15:26:33.158Z"
   },
   {
    "duration": 16,
    "start_time": "2021-11-22T15:26:33.183Z"
   },
   {
    "duration": 20,
    "start_time": "2021-11-22T15:26:33.201Z"
   },
   {
    "duration": 26,
    "start_time": "2021-11-22T15:26:33.223Z"
   },
   {
    "duration": 170,
    "start_time": "2021-11-22T15:26:33.251Z"
   },
   {
    "duration": 14,
    "start_time": "2021-11-22T15:26:33.422Z"
   },
   {
    "duration": 257,
    "start_time": "2021-11-22T15:26:33.438Z"
   },
   {
    "duration": 4,
    "start_time": "2021-11-22T15:26:33.696Z"
   },
   {
    "duration": 264,
    "start_time": "2021-11-22T15:26:33.702Z"
   },
   {
    "duration": 264,
    "start_time": "2021-11-22T15:26:33.968Z"
   },
   {
    "duration": 269,
    "start_time": "2021-11-22T15:26:34.234Z"
   },
   {
    "duration": 276,
    "start_time": "2021-11-22T15:26:34.505Z"
   },
   {
    "duration": 22,
    "start_time": "2021-11-22T15:26:34.783Z"
   },
   {
    "duration": 21,
    "start_time": "2021-11-22T15:26:34.807Z"
   },
   {
    "duration": 22,
    "start_time": "2021-11-22T15:26:34.847Z"
   },
   {
    "duration": 4,
    "start_time": "2021-11-22T15:26:34.870Z"
   },
   {
    "duration": 204,
    "start_time": "2021-11-22T15:26:34.875Z"
   },
   {
    "duration": 201,
    "start_time": "2021-11-22T15:26:35.081Z"
   },
   {
    "duration": 206,
    "start_time": "2021-11-22T15:26:35.284Z"
   },
   {
    "duration": 211,
    "start_time": "2021-11-22T15:26:35.492Z"
   },
   {
    "duration": 220,
    "start_time": "2021-11-22T15:26:35.705Z"
   },
   {
    "duration": 275,
    "start_time": "2021-11-22T15:26:35.927Z"
   },
   {
    "duration": 10,
    "start_time": "2021-11-22T15:26:36.204Z"
   },
   {
    "duration": 38,
    "start_time": "2021-11-22T15:26:36.216Z"
   },
   {
    "duration": 17,
    "start_time": "2021-11-22T15:26:36.256Z"
   },
   {
    "duration": 12,
    "start_time": "2021-11-22T15:26:36.275Z"
   },
   {
    "duration": 29,
    "start_time": "2021-11-22T15:26:36.288Z"
   },
   {
    "duration": 3,
    "start_time": "2021-11-22T15:34:36.868Z"
   },
   {
    "duration": 423,
    "start_time": "2021-11-22T15:34:36.873Z"
   },
   {
    "duration": 10,
    "start_time": "2021-11-22T15:34:37.298Z"
   },
   {
    "duration": 25,
    "start_time": "2021-11-22T15:34:37.310Z"
   },
   {
    "duration": 22,
    "start_time": "2021-11-22T15:34:37.337Z"
   },
   {
    "duration": 17,
    "start_time": "2021-11-22T15:34:37.361Z"
   },
   {
    "duration": 30,
    "start_time": "2021-11-22T15:34:37.381Z"
   },
   {
    "duration": 36,
    "start_time": "2021-11-22T15:34:37.413Z"
   },
   {
    "duration": 25,
    "start_time": "2021-11-22T15:34:37.451Z"
   },
   {
    "duration": 30,
    "start_time": "2021-11-22T15:34:37.477Z"
   },
   {
    "duration": 10,
    "start_time": "2021-11-22T15:34:37.508Z"
   },
   {
    "duration": 28,
    "start_time": "2021-11-22T15:34:37.520Z"
   },
   {
    "duration": 10,
    "start_time": "2021-11-22T15:34:37.549Z"
   },
   {
    "duration": 25,
    "start_time": "2021-11-22T15:34:37.560Z"
   },
   {
    "duration": 16,
    "start_time": "2021-11-22T15:34:37.587Z"
   },
   {
    "duration": 81,
    "start_time": "2021-11-22T15:34:37.605Z"
   },
   {
    "duration": 17,
    "start_time": "2021-11-22T15:34:37.688Z"
   },
   {
    "duration": 18,
    "start_time": "2021-11-22T15:34:37.707Z"
   },
   {
    "duration": 37,
    "start_time": "2021-11-22T15:34:37.730Z"
   },
   {
    "duration": 125,
    "start_time": "2021-11-22T15:34:37.769Z"
   },
   {
    "duration": 8059,
    "start_time": "2021-11-22T15:34:37.896Z"
   },
   {
    "duration": -623,
    "start_time": "2021-11-22T15:34:46.581Z"
   },
   {
    "duration": -625,
    "start_time": "2021-11-22T15:34:46.584Z"
   },
   {
    "duration": -627,
    "start_time": "2021-11-22T15:34:46.587Z"
   },
   {
    "duration": -630,
    "start_time": "2021-11-22T15:34:46.592Z"
   },
   {
    "duration": -631,
    "start_time": "2021-11-22T15:34:46.594Z"
   },
   {
    "duration": -634,
    "start_time": "2021-11-22T15:34:46.598Z"
   },
   {
    "duration": -636,
    "start_time": "2021-11-22T15:34:46.601Z"
   },
   {
    "duration": -638,
    "start_time": "2021-11-22T15:34:46.604Z"
   },
   {
    "duration": -639,
    "start_time": "2021-11-22T15:34:46.607Z"
   },
   {
    "duration": -642,
    "start_time": "2021-11-22T15:34:46.611Z"
   },
   {
    "duration": -650,
    "start_time": "2021-11-22T15:34:46.620Z"
   },
   {
    "duration": -652,
    "start_time": "2021-11-22T15:34:46.623Z"
   },
   {
    "duration": -654,
    "start_time": "2021-11-22T15:34:46.626Z"
   },
   {
    "duration": -656,
    "start_time": "2021-11-22T15:34:46.629Z"
   },
   {
    "duration": -658,
    "start_time": "2021-11-22T15:34:46.633Z"
   },
   {
    "duration": -660,
    "start_time": "2021-11-22T15:34:46.636Z"
   },
   {
    "duration": -662,
    "start_time": "2021-11-22T15:34:46.639Z"
   },
   {
    "duration": -665,
    "start_time": "2021-11-22T15:34:46.643Z"
   },
   {
    "duration": -667,
    "start_time": "2021-11-22T15:34:46.646Z"
   },
   {
    "duration": -669,
    "start_time": "2021-11-22T15:34:46.650Z"
   },
   {
    "duration": -671,
    "start_time": "2021-11-22T15:34:46.653Z"
   },
   {
    "duration": -673,
    "start_time": "2021-11-22T15:34:46.656Z"
   },
   {
    "duration": -674,
    "start_time": "2021-11-22T15:34:46.659Z"
   },
   {
    "duration": -676,
    "start_time": "2021-11-22T15:34:46.663Z"
   },
   {
    "duration": -678,
    "start_time": "2021-11-22T15:34:46.666Z"
   },
   {
    "duration": -680,
    "start_time": "2021-11-22T15:34:46.670Z"
   },
   {
    "duration": -681,
    "start_time": "2021-11-22T15:34:46.672Z"
   },
   {
    "duration": -684,
    "start_time": "2021-11-22T15:34:46.676Z"
   },
   {
    "duration": -686,
    "start_time": "2021-11-22T15:34:46.679Z"
   },
   {
    "duration": -689,
    "start_time": "2021-11-22T15:34:46.683Z"
   },
   {
    "duration": -696,
    "start_time": "2021-11-22T15:34:46.692Z"
   },
   {
    "duration": -698,
    "start_time": "2021-11-22T15:34:46.695Z"
   },
   {
    "duration": -653,
    "start_time": "2021-11-22T15:34:46.698Z"
   },
   {
    "duration": -655,
    "start_time": "2021-11-22T15:34:46.701Z"
   },
   {
    "duration": -656,
    "start_time": "2021-11-22T15:34:46.704Z"
   },
   {
    "duration": -658,
    "start_time": "2021-11-22T15:34:46.707Z"
   },
   {
    "duration": -659,
    "start_time": "2021-11-22T15:34:46.710Z"
   },
   {
    "duration": -662,
    "start_time": "2021-11-22T15:34:46.714Z"
   },
   {
    "duration": -664,
    "start_time": "2021-11-22T15:34:46.717Z"
   },
   {
    "duration": -665,
    "start_time": "2021-11-22T15:34:46.720Z"
   },
   {
    "duration": -666,
    "start_time": "2021-11-22T15:34:46.723Z"
   },
   {
    "duration": -668,
    "start_time": "2021-11-22T15:34:46.726Z"
   },
   {
    "duration": -670,
    "start_time": "2021-11-22T15:34:46.729Z"
   },
   {
    "duration": -672,
    "start_time": "2021-11-22T15:34:46.732Z"
   },
   {
    "duration": -673,
    "start_time": "2021-11-22T15:34:46.735Z"
   },
   {
    "duration": -675,
    "start_time": "2021-11-22T15:34:46.738Z"
   },
   {
    "duration": -678,
    "start_time": "2021-11-22T15:34:46.742Z"
   },
   {
    "duration": 7,
    "start_time": "2021-11-22T15:35:45.294Z"
   },
   {
    "duration": 448,
    "start_time": "2021-11-22T15:35:45.304Z"
   },
   {
    "duration": 10,
    "start_time": "2021-11-22T15:35:45.754Z"
   },
   {
    "duration": 9,
    "start_time": "2021-11-22T15:35:45.767Z"
   },
   {
    "duration": 8,
    "start_time": "2021-11-22T15:35:45.778Z"
   },
   {
    "duration": 6,
    "start_time": "2021-11-22T15:35:45.788Z"
   },
   {
    "duration": 7,
    "start_time": "2021-11-22T15:35:45.797Z"
   },
   {
    "duration": 45,
    "start_time": "2021-11-22T15:35:45.805Z"
   },
   {
    "duration": 11,
    "start_time": "2021-11-22T15:35:45.852Z"
   },
   {
    "duration": 24,
    "start_time": "2021-11-22T15:35:45.865Z"
   },
   {
    "duration": 6,
    "start_time": "2021-11-22T15:35:45.891Z"
   },
   {
    "duration": 20,
    "start_time": "2021-11-22T15:35:45.899Z"
   },
   {
    "duration": 34,
    "start_time": "2021-11-22T15:35:45.920Z"
   },
   {
    "duration": 15,
    "start_time": "2021-11-22T15:35:45.956Z"
   },
   {
    "duration": 11,
    "start_time": "2021-11-22T15:35:45.973Z"
   },
   {
    "duration": 66,
    "start_time": "2021-11-22T15:35:45.985Z"
   },
   {
    "duration": 21,
    "start_time": "2021-11-22T15:35:46.053Z"
   },
   {
    "duration": 8,
    "start_time": "2021-11-22T15:35:46.076Z"
   },
   {
    "duration": 5,
    "start_time": "2021-11-22T15:35:46.087Z"
   },
   {
    "duration": 125,
    "start_time": "2021-11-22T15:35:46.095Z"
   },
   {
    "duration": 10,
    "start_time": "2021-11-22T15:35:46.222Z"
   },
   {
    "duration": 2,
    "start_time": "2021-11-22T15:35:46.233Z"
   },
   {
    "duration": 12,
    "start_time": "2021-11-22T15:35:46.236Z"
   },
   {
    "duration": 1456,
    "start_time": "2021-11-22T15:35:46.250Z"
   },
   {
    "duration": 2,
    "start_time": "2021-11-22T15:35:47.708Z"
   },
   {
    "duration": 15,
    "start_time": "2021-11-22T15:35:47.711Z"
   },
   {
    "duration": 25,
    "start_time": "2021-11-22T15:35:47.728Z"
   },
   {
    "duration": 7,
    "start_time": "2021-11-22T15:35:47.755Z"
   },
   {
    "duration": 19,
    "start_time": "2021-11-22T15:35:47.764Z"
   },
   {
    "duration": 3,
    "start_time": "2021-11-22T15:35:47.785Z"
   },
   {
    "duration": 10,
    "start_time": "2021-11-22T15:35:47.790Z"
   },
   {
    "duration": 6,
    "start_time": "2021-11-22T15:35:47.801Z"
   },
   {
    "duration": 44,
    "start_time": "2021-11-22T15:35:47.808Z"
   },
   {
    "duration": 15,
    "start_time": "2021-11-22T15:35:47.854Z"
   },
   {
    "duration": 12,
    "start_time": "2021-11-22T15:35:47.870Z"
   },
   {
    "duration": 15,
    "start_time": "2021-11-22T15:35:47.884Z"
   },
   {
    "duration": 12,
    "start_time": "2021-11-22T15:35:47.900Z"
   },
   {
    "duration": 6,
    "start_time": "2021-11-22T15:35:47.913Z"
   },
   {
    "duration": 49,
    "start_time": "2021-11-22T15:35:47.920Z"
   },
   {
    "duration": 7,
    "start_time": "2021-11-22T15:35:47.971Z"
   },
   {
    "duration": 5,
    "start_time": "2021-11-22T15:35:47.980Z"
   },
   {
    "duration": 4,
    "start_time": "2021-11-22T15:35:47.986Z"
   },
   {
    "duration": 7,
    "start_time": "2021-11-22T15:35:47.992Z"
   },
   {
    "duration": 4,
    "start_time": "2021-11-22T15:35:48.001Z"
   },
   {
    "duration": 5,
    "start_time": "2021-11-22T15:35:48.007Z"
   },
   {
    "duration": 211,
    "start_time": "2021-11-22T15:35:48.014Z"
   },
   {
    "duration": 12,
    "start_time": "2021-11-22T15:35:48.227Z"
   },
   {
    "duration": 267,
    "start_time": "2021-11-22T15:35:48.252Z"
   },
   {
    "duration": 4,
    "start_time": "2021-11-22T15:35:48.521Z"
   },
   {
    "duration": 288,
    "start_time": "2021-11-22T15:35:48.526Z"
   },
   {
    "duration": 302,
    "start_time": "2021-11-22T15:35:48.815Z"
   },
   {
    "duration": 306,
    "start_time": "2021-11-22T15:35:49.120Z"
   },
   {
    "duration": 396,
    "start_time": "2021-11-22T15:35:49.429Z"
   },
   {
    "duration": 27,
    "start_time": "2021-11-22T15:35:49.827Z"
   },
   {
    "duration": 25,
    "start_time": "2021-11-22T15:35:49.860Z"
   },
   {
    "duration": 19,
    "start_time": "2021-11-22T15:35:49.887Z"
   },
   {
    "duration": 3,
    "start_time": "2021-11-22T15:35:49.908Z"
   },
   {
    "duration": 245,
    "start_time": "2021-11-22T15:35:49.913Z"
   },
   {
    "duration": 216,
    "start_time": "2021-11-22T15:35:50.160Z"
   },
   {
    "duration": 213,
    "start_time": "2021-11-22T15:35:50.378Z"
   },
   {
    "duration": 215,
    "start_time": "2021-11-22T15:35:50.594Z"
   },
   {
    "duration": 237,
    "start_time": "2021-11-22T15:35:50.811Z"
   },
   {
    "duration": 219,
    "start_time": "2021-11-22T15:35:51.050Z"
   },
   {
    "duration": 16,
    "start_time": "2021-11-22T15:35:51.271Z"
   },
   {
    "duration": 12,
    "start_time": "2021-11-22T15:35:51.288Z"
   },
   {
    "duration": 11,
    "start_time": "2021-11-22T15:35:51.302Z"
   },
   {
    "duration": 3,
    "start_time": "2021-11-22T15:35:51.314Z"
   },
   {
    "duration": 44,
    "start_time": "2021-11-22T15:35:51.319Z"
   },
   {
    "duration": 4,
    "start_time": "2021-11-22T15:48:18.536Z"
   },
   {
    "duration": 367,
    "start_time": "2021-11-22T15:48:18.542Z"
   },
   {
    "duration": 10,
    "start_time": "2021-11-22T15:48:18.910Z"
   },
   {
    "duration": 25,
    "start_time": "2021-11-22T15:48:18.922Z"
   },
   {
    "duration": 34,
    "start_time": "2021-11-22T15:48:18.949Z"
   },
   {
    "duration": 25,
    "start_time": "2021-11-22T15:48:18.985Z"
   },
   {
    "duration": 28,
    "start_time": "2021-11-22T15:48:19.011Z"
   },
   {
    "duration": 32,
    "start_time": "2021-11-22T15:48:19.040Z"
   },
   {
    "duration": 28,
    "start_time": "2021-11-22T15:48:19.073Z"
   },
   {
    "duration": 25,
    "start_time": "2021-11-22T15:48:19.103Z"
   },
   {
    "duration": 13,
    "start_time": "2021-11-22T15:48:19.130Z"
   },
   {
    "duration": 41,
    "start_time": "2021-11-22T15:48:19.145Z"
   },
   {
    "duration": 5,
    "start_time": "2021-11-22T15:48:19.188Z"
   },
   {
    "duration": 29,
    "start_time": "2021-11-22T15:48:19.195Z"
   },
   {
    "duration": 21,
    "start_time": "2021-11-22T15:48:19.225Z"
   },
   {
    "duration": 81,
    "start_time": "2021-11-22T15:48:19.247Z"
   },
   {
    "duration": 13,
    "start_time": "2021-11-22T15:48:19.330Z"
   },
   {
    "duration": 21,
    "start_time": "2021-11-22T15:48:19.345Z"
   },
   {
    "duration": 17,
    "start_time": "2021-11-22T15:48:19.368Z"
   },
   {
    "duration": 115,
    "start_time": "2021-11-22T15:48:19.387Z"
   },
   {
    "duration": 9,
    "start_time": "2021-11-22T15:48:19.504Z"
   },
   {
    "duration": 17,
    "start_time": "2021-11-22T15:48:19.514Z"
   },
   {
    "duration": 1393,
    "start_time": "2021-11-22T15:48:19.533Z"
   },
   {
    "duration": 18,
    "start_time": "2021-11-22T15:48:20.928Z"
   },
   {
    "duration": 24,
    "start_time": "2021-11-22T15:48:20.947Z"
   },
   {
    "duration": 22,
    "start_time": "2021-11-22T15:48:20.973Z"
   },
   {
    "duration": 32,
    "start_time": "2021-11-22T15:48:20.996Z"
   },
   {
    "duration": 18,
    "start_time": "2021-11-22T15:48:21.032Z"
   },
   {
    "duration": 20,
    "start_time": "2021-11-22T15:48:21.052Z"
   },
   {
    "duration": 44,
    "start_time": "2021-11-22T15:48:21.073Z"
   },
   {
    "duration": 11,
    "start_time": "2021-11-22T15:48:21.118Z"
   },
   {
    "duration": 66,
    "start_time": "2021-11-22T15:48:21.131Z"
   },
   {
    "duration": 10,
    "start_time": "2021-11-22T15:48:21.198Z"
   },
   {
    "duration": 55,
    "start_time": "2021-11-22T15:48:21.210Z"
   },
   {
    "duration": 11,
    "start_time": "2021-11-22T15:48:21.266Z"
   },
   {
    "duration": 35,
    "start_time": "2021-11-22T15:48:21.279Z"
   },
   {
    "duration": 35,
    "start_time": "2021-11-22T15:48:21.316Z"
   },
   {
    "duration": 35,
    "start_time": "2021-11-22T15:48:21.353Z"
   },
   {
    "duration": 16,
    "start_time": "2021-11-22T15:48:21.389Z"
   },
   {
    "duration": 24,
    "start_time": "2021-11-22T15:48:21.406Z"
   },
   {
    "duration": 27,
    "start_time": "2021-11-22T15:48:21.431Z"
   },
   {
    "duration": 16,
    "start_time": "2021-11-22T15:48:21.460Z"
   },
   {
    "duration": 43,
    "start_time": "2021-11-22T15:48:21.478Z"
   },
   {
    "duration": 10840,
    "start_time": "2021-11-22T15:48:21.523Z"
   },
   {
    "duration": 13,
    "start_time": "2021-11-22T15:48:32.365Z"
   },
   {
    "duration": 295,
    "start_time": "2021-11-22T15:48:32.379Z"
   },
   {
    "duration": 3,
    "start_time": "2021-11-22T15:48:32.675Z"
   },
   {
    "duration": 336,
    "start_time": "2021-11-22T15:48:32.679Z"
   },
   {
    "duration": 329,
    "start_time": "2021-11-22T15:48:33.016Z"
   },
   {
    "duration": 337,
    "start_time": "2021-11-22T15:48:33.347Z"
   },
   {
    "duration": 313,
    "start_time": "2021-11-22T15:48:33.686Z"
   },
   {
    "duration": 56,
    "start_time": "2021-11-22T15:48:34.001Z"
   },
   {
    "duration": 36,
    "start_time": "2021-11-22T15:48:34.059Z"
   },
   {
    "duration": 37,
    "start_time": "2021-11-22T15:48:34.096Z"
   },
   {
    "duration": 16,
    "start_time": "2021-11-22T15:48:34.134Z"
   },
   {
    "duration": 219,
    "start_time": "2021-11-22T15:48:34.152Z"
   },
   {
    "duration": 207,
    "start_time": "2021-11-22T15:48:34.373Z"
   },
   {
    "duration": 215,
    "start_time": "2021-11-22T15:48:34.581Z"
   },
   {
    "duration": 212,
    "start_time": "2021-11-22T15:48:34.798Z"
   },
   {
    "duration": 405,
    "start_time": "2021-11-22T15:48:35.012Z"
   },
   {
    "duration": 311,
    "start_time": "2021-11-22T15:48:35.419Z"
   },
   {
    "duration": 57,
    "start_time": "2021-11-22T15:48:35.731Z"
   },
   {
    "duration": 21,
    "start_time": "2021-11-22T15:48:35.790Z"
   },
   {
    "duration": 44,
    "start_time": "2021-11-22T15:48:35.812Z"
   },
   {
    "duration": 3,
    "start_time": "2021-11-22T15:48:35.858Z"
   },
   {
    "duration": 65,
    "start_time": "2021-11-22T15:48:35.862Z"
   },
   {
    "duration": 8,
    "start_time": "2021-11-22T15:48:43.278Z"
   },
   {
    "duration": 40,
    "start_time": "2021-11-22T15:49:25.756Z"
   },
   {
    "duration": 37,
    "start_time": "2021-11-22T15:49:51.184Z"
   },
   {
    "duration": 45,
    "start_time": "2021-11-22T15:50:26.391Z"
   },
   {
    "duration": 35,
    "start_time": "2021-11-22T15:54:23.296Z"
   },
   {
    "duration": 4,
    "start_time": "2021-11-22T15:54:31.018Z"
   },
   {
    "duration": 397,
    "start_time": "2021-11-22T15:54:31.024Z"
   },
   {
    "duration": 9,
    "start_time": "2021-11-22T15:54:31.424Z"
   },
   {
    "duration": 32,
    "start_time": "2021-11-22T15:54:31.435Z"
   },
   {
    "duration": 30,
    "start_time": "2021-11-22T15:54:31.468Z"
   },
   {
    "duration": 12,
    "start_time": "2021-11-22T15:54:31.500Z"
   },
   {
    "duration": 37,
    "start_time": "2021-11-22T15:54:31.514Z"
   },
   {
    "duration": 17,
    "start_time": "2021-11-22T15:54:31.554Z"
   },
   {
    "duration": 17,
    "start_time": "2021-11-22T15:54:31.573Z"
   },
   {
    "duration": 30,
    "start_time": "2021-11-22T15:54:31.592Z"
   },
   {
    "duration": 15,
    "start_time": "2021-11-22T15:54:31.624Z"
   },
   {
    "duration": 37,
    "start_time": "2021-11-22T15:54:31.641Z"
   },
   {
    "duration": 6,
    "start_time": "2021-11-22T15:54:31.679Z"
   },
   {
    "duration": 13,
    "start_time": "2021-11-22T15:54:31.686Z"
   },
   {
    "duration": 4,
    "start_time": "2021-11-22T15:54:31.701Z"
   },
   {
    "duration": 68,
    "start_time": "2021-11-22T15:54:31.706Z"
   },
   {
    "duration": 15,
    "start_time": "2021-11-22T15:54:31.775Z"
   },
   {
    "duration": 7,
    "start_time": "2021-11-22T15:54:31.791Z"
   },
   {
    "duration": 3,
    "start_time": "2021-11-22T15:54:31.802Z"
   },
   {
    "duration": 103,
    "start_time": "2021-11-22T15:54:31.807Z"
   },
   {
    "duration": 9,
    "start_time": "2021-11-22T15:54:31.911Z"
   },
   {
    "duration": 3,
    "start_time": "2021-11-22T15:54:31.921Z"
   },
   {
    "duration": 1528,
    "start_time": "2021-11-22T15:54:31.926Z"
   },
   {
    "duration": 8,
    "start_time": "2021-11-22T15:54:33.456Z"
   },
   {
    "duration": 25,
    "start_time": "2021-11-22T15:54:33.466Z"
   },
   {
    "duration": 15,
    "start_time": "2021-11-22T15:54:33.493Z"
   },
   {
    "duration": 23,
    "start_time": "2021-11-22T15:54:33.510Z"
   },
   {
    "duration": 3,
    "start_time": "2021-11-22T15:54:33.535Z"
   },
   {
    "duration": 17,
    "start_time": "2021-11-22T15:54:33.544Z"
   },
   {
    "duration": 59,
    "start_time": "2021-11-22T15:54:33.562Z"
   },
   {
    "duration": 9,
    "start_time": "2021-11-22T15:54:33.623Z"
   },
   {
    "duration": 44,
    "start_time": "2021-11-22T15:54:33.634Z"
   },
   {
    "duration": 12,
    "start_time": "2021-11-22T15:54:33.679Z"
   },
   {
    "duration": 67,
    "start_time": "2021-11-22T15:54:33.693Z"
   },
   {
    "duration": 13,
    "start_time": "2021-11-22T15:54:33.761Z"
   },
   {
    "duration": 22,
    "start_time": "2021-11-22T15:54:33.776Z"
   },
   {
    "duration": 16,
    "start_time": "2021-11-22T15:54:33.800Z"
   },
   {
    "duration": 36,
    "start_time": "2021-11-22T15:54:33.817Z"
   },
   {
    "duration": 15,
    "start_time": "2021-11-22T15:54:33.855Z"
   },
   {
    "duration": 5,
    "start_time": "2021-11-22T15:54:33.872Z"
   },
   {
    "duration": 7,
    "start_time": "2021-11-22T15:54:33.878Z"
   },
   {
    "duration": 6,
    "start_time": "2021-11-22T15:54:33.886Z"
   },
   {
    "duration": 8,
    "start_time": "2021-11-22T15:54:33.893Z"
   },
   {
    "duration": 11872,
    "start_time": "2021-11-22T15:54:33.903Z"
   },
   {
    "duration": 13,
    "start_time": "2021-11-22T15:54:45.776Z"
   },
   {
    "duration": 305,
    "start_time": "2021-11-22T15:54:45.791Z"
   },
   {
    "duration": 4,
    "start_time": "2021-11-22T15:54:46.097Z"
   },
   {
    "duration": 332,
    "start_time": "2021-11-22T15:54:46.102Z"
   },
   {
    "duration": 320,
    "start_time": "2021-11-22T15:54:46.435Z"
   },
   {
    "duration": 432,
    "start_time": "2021-11-22T15:54:46.757Z"
   },
   {
    "duration": 347,
    "start_time": "2021-11-22T15:54:47.191Z"
   },
   {
    "duration": 46,
    "start_time": "2021-11-22T15:54:47.540Z"
   },
   {
    "duration": 37,
    "start_time": "2021-11-22T15:54:47.588Z"
   },
   {
    "duration": 60,
    "start_time": "2021-11-22T15:54:47.626Z"
   },
   {
    "duration": 4,
    "start_time": "2021-11-22T15:54:47.691Z"
   },
   {
    "duration": 244,
    "start_time": "2021-11-22T15:54:47.697Z"
   },
   {
    "duration": 230,
    "start_time": "2021-11-22T15:54:47.943Z"
   },
   {
    "duration": 230,
    "start_time": "2021-11-22T15:54:48.175Z"
   },
   {
    "duration": 209,
    "start_time": "2021-11-22T15:54:48.407Z"
   },
   {
    "duration": 236,
    "start_time": "2021-11-22T15:54:48.618Z"
   },
   {
    "duration": 207,
    "start_time": "2021-11-22T15:54:48.856Z"
   },
   {
    "duration": 37,
    "start_time": "2021-11-22T15:54:49.065Z"
   },
   {
    "duration": 20,
    "start_time": "2021-11-22T15:54:49.104Z"
   },
   {
    "duration": 63,
    "start_time": "2021-11-22T15:54:49.125Z"
   },
   {
    "duration": 3,
    "start_time": "2021-11-22T15:54:49.189Z"
   },
   {
    "duration": 62,
    "start_time": "2021-11-22T15:54:49.193Z"
   },
   {
    "duration": 33,
    "start_time": "2021-11-22T15:56:51.223Z"
   },
   {
    "duration": 3,
    "start_time": "2021-11-22T16:01:20.890Z"
   },
   {
    "duration": 380,
    "start_time": "2021-11-22T16:01:20.895Z"
   },
   {
    "duration": 9,
    "start_time": "2021-11-22T16:01:21.277Z"
   },
   {
    "duration": 7,
    "start_time": "2021-11-22T16:01:21.288Z"
   },
   {
    "duration": 11,
    "start_time": "2021-11-22T16:01:21.297Z"
   },
   {
    "duration": 8,
    "start_time": "2021-11-22T16:01:21.309Z"
   },
   {
    "duration": 28,
    "start_time": "2021-11-22T16:01:21.319Z"
   },
   {
    "duration": 20,
    "start_time": "2021-11-22T16:01:21.352Z"
   },
   {
    "duration": 8,
    "start_time": "2021-11-22T16:01:21.375Z"
   },
   {
    "duration": 18,
    "start_time": "2021-11-22T16:01:21.385Z"
   },
   {
    "duration": 7,
    "start_time": "2021-11-22T16:01:21.405Z"
   },
   {
    "duration": 53,
    "start_time": "2021-11-22T16:01:21.414Z"
   },
   {
    "duration": 5,
    "start_time": "2021-11-22T16:01:21.469Z"
   },
   {
    "duration": 11,
    "start_time": "2021-11-22T16:01:21.476Z"
   },
   {
    "duration": 3,
    "start_time": "2021-11-22T16:01:21.488Z"
   },
   {
    "duration": 86,
    "start_time": "2021-11-22T16:01:21.492Z"
   },
   {
    "duration": 14,
    "start_time": "2021-11-22T16:01:21.580Z"
   },
   {
    "duration": 8,
    "start_time": "2021-11-22T16:01:21.595Z"
   },
   {
    "duration": 5,
    "start_time": "2021-11-22T16:01:21.604Z"
   },
   {
    "duration": 104,
    "start_time": "2021-11-22T16:01:21.611Z"
   },
   {
    "duration": 9,
    "start_time": "2021-11-22T16:01:21.716Z"
   },
   {
    "duration": 3,
    "start_time": "2021-11-22T16:01:21.727Z"
   },
   {
    "duration": 287,
    "start_time": "2021-11-22T16:01:21.732Z"
   },
   {
    "duration": -822,
    "start_time": "2021-11-22T16:01:22.844Z"
   },
   {
    "duration": -824,
    "start_time": "2021-11-22T16:01:22.847Z"
   },
   {
    "duration": -827,
    "start_time": "2021-11-22T16:01:22.850Z"
   },
   {
    "duration": -830,
    "start_time": "2021-11-22T16:01:22.854Z"
   },
   {
    "duration": -832,
    "start_time": "2021-11-22T16:01:22.857Z"
   },
   {
    "duration": -834,
    "start_time": "2021-11-22T16:01:22.860Z"
   },
   {
    "duration": -836,
    "start_time": "2021-11-22T16:01:22.863Z"
   },
   {
    "duration": -838,
    "start_time": "2021-11-22T16:01:22.866Z"
   },
   {
    "duration": -840,
    "start_time": "2021-11-22T16:01:22.869Z"
   },
   {
    "duration": -843,
    "start_time": "2021-11-22T16:01:22.873Z"
   },
   {
    "duration": -845,
    "start_time": "2021-11-22T16:01:22.876Z"
   },
   {
    "duration": -847,
    "start_time": "2021-11-22T16:01:22.879Z"
   },
   {
    "duration": -850,
    "start_time": "2021-11-22T16:01:22.882Z"
   },
   {
    "duration": -852,
    "start_time": "2021-11-22T16:01:22.885Z"
   },
   {
    "duration": -854,
    "start_time": "2021-11-22T16:01:22.888Z"
   },
   {
    "duration": -857,
    "start_time": "2021-11-22T16:01:22.892Z"
   },
   {
    "duration": -858,
    "start_time": "2021-11-22T16:01:22.894Z"
   },
   {
    "duration": -864,
    "start_time": "2021-11-22T16:01:22.900Z"
   },
   {
    "duration": -865,
    "start_time": "2021-11-22T16:01:22.903Z"
   },
   {
    "duration": -868,
    "start_time": "2021-11-22T16:01:22.906Z"
   },
   {
    "duration": -880,
    "start_time": "2021-11-22T16:01:22.919Z"
   },
   {
    "duration": -882,
    "start_time": "2021-11-22T16:01:22.922Z"
   },
   {
    "duration": -884,
    "start_time": "2021-11-22T16:01:22.925Z"
   },
   {
    "duration": -886,
    "start_time": "2021-11-22T16:01:22.928Z"
   },
   {
    "duration": -888,
    "start_time": "2021-11-22T16:01:22.931Z"
   },
   {
    "duration": -891,
    "start_time": "2021-11-22T16:01:22.935Z"
   },
   {
    "duration": -892,
    "start_time": "2021-11-22T16:01:22.937Z"
   },
   {
    "duration": -895,
    "start_time": "2021-11-22T16:01:22.941Z"
   },
   {
    "duration": -897,
    "start_time": "2021-11-22T16:01:22.944Z"
   },
   {
    "duration": -899,
    "start_time": "2021-11-22T16:01:22.947Z"
   },
   {
    "duration": -902,
    "start_time": "2021-11-22T16:01:22.950Z"
   },
   {
    "duration": -904,
    "start_time": "2021-11-22T16:01:22.953Z"
   },
   {
    "duration": -906,
    "start_time": "2021-11-22T16:01:22.956Z"
   },
   {
    "duration": -904,
    "start_time": "2021-11-22T16:01:22.959Z"
   },
   {
    "duration": -906,
    "start_time": "2021-11-22T16:01:22.962Z"
   },
   {
    "duration": -907,
    "start_time": "2021-11-22T16:01:22.965Z"
   },
   {
    "duration": -908,
    "start_time": "2021-11-22T16:01:22.968Z"
   },
   {
    "duration": -910,
    "start_time": "2021-11-22T16:01:22.971Z"
   },
   {
    "duration": -912,
    "start_time": "2021-11-22T16:01:22.974Z"
   },
   {
    "duration": -915,
    "start_time": "2021-11-22T16:01:22.978Z"
   },
   {
    "duration": -917,
    "start_time": "2021-11-22T16:01:22.981Z"
   },
   {
    "duration": -919,
    "start_time": "2021-11-22T16:01:22.984Z"
   },
   {
    "duration": -927,
    "start_time": "2021-11-22T16:01:22.993Z"
   },
   {
    "duration": -929,
    "start_time": "2021-11-22T16:01:22.996Z"
   },
   {
    "duration": 1770,
    "start_time": "2021-11-22T16:01:50.447Z"
   },
   {
    "duration": 8,
    "start_time": "2021-11-22T16:01:55.762Z"
   },
   {
    "duration": 14,
    "start_time": "2021-11-22T16:02:16.974Z"
   },
   {
    "duration": 8,
    "start_time": "2021-11-22T16:02:18.843Z"
   },
   {
    "duration": 18,
    "start_time": "2021-11-22T16:02:36.478Z"
   },
   {
    "duration": 4,
    "start_time": "2021-11-22T16:02:37.782Z"
   },
   {
    "duration": 8,
    "start_time": "2021-11-22T16:02:41.160Z"
   },
   {
    "duration": 86,
    "start_time": "2021-11-22T16:03:24.107Z"
   },
   {
    "duration": 14,
    "start_time": "2021-11-22T16:03:37.325Z"
   },
   {
    "duration": 16,
    "start_time": "2021-11-22T16:03:42.947Z"
   },
   {
    "duration": 16,
    "start_time": "2021-11-22T16:04:18.134Z"
   },
   {
    "duration": 9,
    "start_time": "2021-11-22T16:04:28.223Z"
   },
   {
    "duration": 7030,
    "start_time": "2021-11-22T16:08:06.530Z"
   },
   {
    "duration": 7,
    "start_time": "2021-11-22T16:09:40.304Z"
   },
   {
    "duration": 9,
    "start_time": "2021-11-22T16:14:32.015Z"
   },
   {
    "duration": 9,
    "start_time": "2021-11-22T16:14:46.609Z"
   },
   {
    "duration": 11,
    "start_time": "2021-11-22T16:14:48.950Z"
   },
   {
    "duration": 4,
    "start_time": "2021-11-22T16:14:55.118Z"
   },
   {
    "duration": 5,
    "start_time": "2021-11-22T16:16:30.060Z"
   },
   {
    "duration": 3,
    "start_time": "2021-11-22T16:17:27.748Z"
   },
   {
    "duration": 8,
    "start_time": "2021-11-22T16:29:29.639Z"
   },
   {
    "duration": 10,
    "start_time": "2021-11-22T16:31:25.176Z"
   },
   {
    "duration": 88,
    "start_time": "2021-11-22T16:38:54.685Z"
   },
   {
    "duration": 87,
    "start_time": "2021-11-22T16:40:22.277Z"
   },
   {
    "duration": 19,
    "start_time": "2021-11-22T16:40:41.173Z"
   },
   {
    "duration": 25,
    "start_time": "2021-11-22T16:41:09.337Z"
   },
   {
    "duration": 586,
    "start_time": "2021-11-22T17:05:53.812Z"
   },
   {
    "duration": 7,
    "start_time": "2021-11-22T17:06:02.171Z"
   },
   {
    "duration": 7,
    "start_time": "2021-11-22T17:06:04.591Z"
   },
   {
    "duration": 4,
    "start_time": "2021-11-22T17:06:22.258Z"
   },
   {
    "duration": 14,
    "start_time": "2021-11-22T17:06:28.857Z"
   },
   {
    "duration": 3,
    "start_time": "2021-11-22T17:07:16.578Z"
   },
   {
    "duration": 10,
    "start_time": "2021-11-22T17:07:17.259Z"
   },
   {
    "duration": 11,
    "start_time": "2021-11-22T17:09:09.827Z"
   },
   {
    "duration": 25,
    "start_time": "2021-11-22T17:09:14.650Z"
   },
   {
    "duration": 7,
    "start_time": "2021-11-22T17:09:24.095Z"
   },
   {
    "duration": 15,
    "start_time": "2021-11-22T17:09:30.291Z"
   },
   {
    "duration": 7,
    "start_time": "2021-11-22T17:09:31.818Z"
   },
   {
    "duration": 17,
    "start_time": "2021-11-22T17:09:33.524Z"
   },
   {
    "duration": 3,
    "start_time": "2021-11-22T17:09:34.318Z"
   },
   {
    "duration": 15,
    "start_time": "2021-11-22T17:09:36.247Z"
   },
   {
    "duration": 15,
    "start_time": "2021-11-22T17:09:48.181Z"
   },
   {
    "duration": 17,
    "start_time": "2021-11-22T17:21:36.663Z"
   },
   {
    "duration": 390,
    "start_time": "2021-11-22T18:00:19.232Z"
   },
   {
    "duration": 299,
    "start_time": "2021-11-22T18:02:26.984Z"
   },
   {
    "duration": 3,
    "start_time": "2021-11-22T18:02:34.107Z"
   },
   {
    "duration": 407,
    "start_time": "2021-11-22T18:02:34.112Z"
   },
   {
    "duration": 9,
    "start_time": "2021-11-22T18:02:34.521Z"
   },
   {
    "duration": 13,
    "start_time": "2021-11-22T18:02:34.531Z"
   },
   {
    "duration": 11,
    "start_time": "2021-11-22T18:02:34.548Z"
   },
   {
    "duration": 9,
    "start_time": "2021-11-22T18:02:34.562Z"
   },
   {
    "duration": 7,
    "start_time": "2021-11-22T18:02:34.573Z"
   },
   {
    "duration": 15,
    "start_time": "2021-11-22T18:02:34.581Z"
   },
   {
    "duration": 7,
    "start_time": "2021-11-22T18:02:34.598Z"
   },
   {
    "duration": 57,
    "start_time": "2021-11-22T18:02:34.606Z"
   },
   {
    "duration": 15,
    "start_time": "2021-11-22T18:02:34.665Z"
   },
   {
    "duration": 39,
    "start_time": "2021-11-22T18:02:34.682Z"
   },
   {
    "duration": 11,
    "start_time": "2021-11-22T18:02:34.723Z"
   },
   {
    "duration": 27,
    "start_time": "2021-11-22T18:02:34.736Z"
   },
   {
    "duration": 10,
    "start_time": "2021-11-22T18:02:34.765Z"
   },
   {
    "duration": 88,
    "start_time": "2021-11-22T18:02:34.777Z"
   },
   {
    "duration": 14,
    "start_time": "2021-11-22T18:02:34.867Z"
   },
   {
    "duration": 14,
    "start_time": "2021-11-22T18:02:34.883Z"
   },
   {
    "duration": 4,
    "start_time": "2021-11-22T18:02:34.902Z"
   },
   {
    "duration": 112,
    "start_time": "2021-11-22T18:02:34.909Z"
   },
   {
    "duration": 24,
    "start_time": "2021-11-22T18:02:35.023Z"
   },
   {
    "duration": 22,
    "start_time": "2021-11-22T18:02:35.050Z"
   },
   {
    "duration": 6,
    "start_time": "2021-11-22T18:02:35.074Z"
   },
   {
    "duration": 20,
    "start_time": "2021-11-22T18:02:35.082Z"
   },
   {
    "duration": 6,
    "start_time": "2021-11-22T18:02:35.103Z"
   },
   {
    "duration": 39,
    "start_time": "2021-11-22T18:02:35.111Z"
   },
   {
    "duration": 5,
    "start_time": "2021-11-22T18:02:35.152Z"
   },
   {
    "duration": 12,
    "start_time": "2021-11-22T18:02:35.159Z"
   },
   {
    "duration": 17,
    "start_time": "2021-11-22T18:02:35.173Z"
   },
   {
    "duration": 10,
    "start_time": "2021-11-22T18:02:35.191Z"
   },
   {
    "duration": 43,
    "start_time": "2021-11-22T18:02:35.203Z"
   },
   {
    "duration": 13,
    "start_time": "2021-11-22T18:02:35.249Z"
   },
   {
    "duration": 10,
    "start_time": "2021-11-22T18:02:35.264Z"
   },
   {
    "duration": 14,
    "start_time": "2021-11-22T18:02:35.275Z"
   },
   {
    "duration": 9,
    "start_time": "2021-11-22T18:02:35.291Z"
   },
   {
    "duration": 4,
    "start_time": "2021-11-22T18:02:35.301Z"
   },
   {
    "duration": 8,
    "start_time": "2021-11-22T18:02:35.307Z"
   },
   {
    "duration": 35,
    "start_time": "2021-11-22T18:02:35.316Z"
   },
   {
    "duration": 5,
    "start_time": "2021-11-22T18:02:35.354Z"
   },
   {
    "duration": 7,
    "start_time": "2021-11-22T18:02:35.361Z"
   },
   {
    "duration": 7,
    "start_time": "2021-11-22T18:02:35.370Z"
   },
   {
    "duration": 7,
    "start_time": "2021-11-22T18:02:35.378Z"
   },
   {
    "duration": 192,
    "start_time": "2021-11-22T18:02:35.386Z"
   },
   {
    "duration": 10,
    "start_time": "2021-11-22T18:02:35.580Z"
   },
   {
    "duration": 280,
    "start_time": "2021-11-22T18:02:35.592Z"
   },
   {
    "duration": 3,
    "start_time": "2021-11-22T18:02:35.873Z"
   },
   {
    "duration": 297,
    "start_time": "2021-11-22T18:02:35.878Z"
   },
   {
    "duration": -777,
    "start_time": "2021-11-22T18:02:36.954Z"
   },
   {
    "duration": -784,
    "start_time": "2021-11-22T18:02:36.962Z"
   },
   {
    "duration": -786,
    "start_time": "2021-11-22T18:02:36.965Z"
   },
   {
    "duration": -788,
    "start_time": "2021-11-22T18:02:36.968Z"
   },
   {
    "duration": -790,
    "start_time": "2021-11-22T18:02:36.971Z"
   },
   {
    "duration": -793,
    "start_time": "2021-11-22T18:02:36.975Z"
   },
   {
    "duration": -794,
    "start_time": "2021-11-22T18:02:36.978Z"
   },
   {
    "duration": -796,
    "start_time": "2021-11-22T18:02:36.981Z"
   },
   {
    "duration": -798,
    "start_time": "2021-11-22T18:02:36.984Z"
   },
   {
    "duration": -801,
    "start_time": "2021-11-22T18:02:36.987Z"
   },
   {
    "duration": -802,
    "start_time": "2021-11-22T18:02:36.990Z"
   },
   {
    "duration": -804,
    "start_time": "2021-11-22T18:02:36.993Z"
   },
   {
    "duration": -806,
    "start_time": "2021-11-22T18:02:36.996Z"
   },
   {
    "duration": -809,
    "start_time": "2021-11-22T18:02:36.999Z"
   },
   {
    "duration": -810,
    "start_time": "2021-11-22T18:02:37.002Z"
   },
   {
    "duration": -812,
    "start_time": "2021-11-22T18:02:37.005Z"
   },
   {
    "duration": -814,
    "start_time": "2021-11-22T18:02:37.008Z"
   },
   {
    "duration": -817,
    "start_time": "2021-11-22T18:02:37.011Z"
   },
   {
    "duration": 281,
    "start_time": "2021-11-22T18:03:07.132Z"
   },
   {
    "duration": 7,
    "start_time": "2021-11-22T18:03:10.069Z"
   },
   {
    "duration": 3,
    "start_time": "2021-11-22T18:03:25.513Z"
   },
   {
    "duration": 410,
    "start_time": "2021-11-22T18:03:25.518Z"
   },
   {
    "duration": 15,
    "start_time": "2021-11-22T18:03:25.930Z"
   },
   {
    "duration": 11,
    "start_time": "2021-11-22T18:03:25.947Z"
   },
   {
    "duration": 11,
    "start_time": "2021-11-22T18:03:25.960Z"
   },
   {
    "duration": 11,
    "start_time": "2021-11-22T18:03:25.972Z"
   },
   {
    "duration": 10,
    "start_time": "2021-11-22T18:03:25.984Z"
   },
   {
    "duration": 48,
    "start_time": "2021-11-22T18:03:25.998Z"
   },
   {
    "duration": 12,
    "start_time": "2021-11-22T18:03:26.049Z"
   },
   {
    "duration": 20,
    "start_time": "2021-11-22T18:03:26.062Z"
   },
   {
    "duration": 7,
    "start_time": "2021-11-22T18:03:26.084Z"
   },
   {
    "duration": 21,
    "start_time": "2021-11-22T18:03:26.093Z"
   },
   {
    "duration": 38,
    "start_time": "2021-11-22T18:03:26.115Z"
   },
   {
    "duration": 18,
    "start_time": "2021-11-22T18:03:26.155Z"
   },
   {
    "duration": 3,
    "start_time": "2021-11-22T18:03:26.174Z"
   },
   {
    "duration": 75,
    "start_time": "2021-11-22T18:03:26.178Z"
   },
   {
    "duration": 17,
    "start_time": "2021-11-22T18:03:26.256Z"
   },
   {
    "duration": 7,
    "start_time": "2021-11-22T18:03:26.274Z"
   },
   {
    "duration": 6,
    "start_time": "2021-11-22T18:03:26.283Z"
   },
   {
    "duration": 112,
    "start_time": "2021-11-22T18:03:26.291Z"
   },
   {
    "duration": 13,
    "start_time": "2021-11-22T18:03:26.405Z"
   },
   {
    "duration": 35,
    "start_time": "2021-11-22T18:03:26.419Z"
   },
   {
    "duration": 8,
    "start_time": "2021-11-22T18:03:26.459Z"
   },
   {
    "duration": 15,
    "start_time": "2021-11-22T18:03:26.469Z"
   },
   {
    "duration": 6,
    "start_time": "2021-11-22T18:03:26.486Z"
   },
   {
    "duration": 17,
    "start_time": "2021-11-22T18:03:26.494Z"
   },
   {
    "duration": 3,
    "start_time": "2021-11-22T18:03:26.512Z"
   },
   {
    "duration": 12,
    "start_time": "2021-11-22T18:03:26.545Z"
   },
   {
    "duration": 17,
    "start_time": "2021-11-22T18:03:26.559Z"
   },
   {
    "duration": 9,
    "start_time": "2021-11-22T18:03:26.577Z"
   },
   {
    "duration": 11,
    "start_time": "2021-11-22T18:03:26.587Z"
   },
   {
    "duration": 7,
    "start_time": "2021-11-22T18:03:26.600Z"
   },
   {
    "duration": 47,
    "start_time": "2021-11-22T18:03:26.609Z"
   },
   {
    "duration": 13,
    "start_time": "2021-11-22T18:03:26.658Z"
   },
   {
    "duration": 7,
    "start_time": "2021-11-22T18:03:26.672Z"
   },
   {
    "duration": 4,
    "start_time": "2021-11-22T18:03:26.680Z"
   },
   {
    "duration": 8,
    "start_time": "2021-11-22T18:03:26.686Z"
   },
   {
    "duration": 10,
    "start_time": "2021-11-22T18:03:26.695Z"
   },
   {
    "duration": 3,
    "start_time": "2021-11-22T18:03:26.707Z"
   },
   {
    "duration": 35,
    "start_time": "2021-11-22T18:03:26.712Z"
   },
   {
    "duration": 4,
    "start_time": "2021-11-22T18:03:26.750Z"
   },
   {
    "duration": 9,
    "start_time": "2021-11-22T18:03:26.756Z"
   },
   {
    "duration": 192,
    "start_time": "2021-11-22T18:03:26.767Z"
   },
   {
    "duration": 13,
    "start_time": "2021-11-22T18:03:26.961Z"
   },
   {
    "duration": 276,
    "start_time": "2021-11-22T18:03:26.975Z"
   },
   {
    "duration": 3,
    "start_time": "2021-11-22T18:03:27.253Z"
   },
   {
    "duration": 283,
    "start_time": "2021-11-22T18:03:27.259Z"
   },
   {
    "duration": -701,
    "start_time": "2021-11-22T18:03:28.245Z"
   },
   {
    "duration": -704,
    "start_time": "2021-11-22T18:03:28.249Z"
   },
   {
    "duration": -708,
    "start_time": "2021-11-22T18:03:28.254Z"
   },
   {
    "duration": -712,
    "start_time": "2021-11-22T18:03:28.258Z"
   },
   {
    "duration": -716,
    "start_time": "2021-11-22T18:03:28.263Z"
   },
   {
    "duration": -720,
    "start_time": "2021-11-22T18:03:28.268Z"
   },
   {
    "duration": -723,
    "start_time": "2021-11-22T18:03:28.272Z"
   },
   {
    "duration": -726,
    "start_time": "2021-11-22T18:03:28.276Z"
   },
   {
    "duration": -729,
    "start_time": "2021-11-22T18:03:28.280Z"
   },
   {
    "duration": -733,
    "start_time": "2021-11-22T18:03:28.285Z"
   },
   {
    "duration": -737,
    "start_time": "2021-11-22T18:03:28.289Z"
   },
   {
    "duration": -739,
    "start_time": "2021-11-22T18:03:28.292Z"
   },
   {
    "duration": -741,
    "start_time": "2021-11-22T18:03:28.295Z"
   },
   {
    "duration": -756,
    "start_time": "2021-11-22T18:03:28.311Z"
   },
   {
    "duration": -758,
    "start_time": "2021-11-22T18:03:28.314Z"
   },
   {
    "duration": -762,
    "start_time": "2021-11-22T18:03:28.318Z"
   },
   {
    "duration": -764,
    "start_time": "2021-11-22T18:03:28.321Z"
   },
   {
    "duration": -765,
    "start_time": "2021-11-22T18:03:28.324Z"
   },
   {
    "duration": 4,
    "start_time": "2021-11-22T18:04:52.924Z"
   },
   {
    "duration": 424,
    "start_time": "2021-11-22T18:04:52.929Z"
   },
   {
    "duration": 10,
    "start_time": "2021-11-22T18:04:53.357Z"
   },
   {
    "duration": 16,
    "start_time": "2021-11-22T18:04:53.369Z"
   },
   {
    "duration": 22,
    "start_time": "2021-11-22T18:04:53.386Z"
   },
   {
    "duration": 16,
    "start_time": "2021-11-22T18:04:53.410Z"
   },
   {
    "duration": 22,
    "start_time": "2021-11-22T18:04:53.427Z"
   },
   {
    "duration": 30,
    "start_time": "2021-11-22T18:04:53.451Z"
   },
   {
    "duration": 12,
    "start_time": "2021-11-22T18:04:53.485Z"
   },
   {
    "duration": 30,
    "start_time": "2021-11-22T18:04:53.500Z"
   },
   {
    "duration": 22,
    "start_time": "2021-11-22T18:04:53.532Z"
   },
   {
    "duration": 33,
    "start_time": "2021-11-22T18:04:53.556Z"
   },
   {
    "duration": 7,
    "start_time": "2021-11-22T18:04:53.590Z"
   },
   {
    "duration": 29,
    "start_time": "2021-11-22T18:04:53.599Z"
   },
   {
    "duration": 10,
    "start_time": "2021-11-22T18:04:53.630Z"
   },
   {
    "duration": 92,
    "start_time": "2021-11-22T18:04:53.642Z"
   },
   {
    "duration": 19,
    "start_time": "2021-11-22T18:04:53.736Z"
   },
   {
    "duration": 22,
    "start_time": "2021-11-22T18:04:53.757Z"
   },
   {
    "duration": 15,
    "start_time": "2021-11-22T18:04:53.781Z"
   },
   {
    "duration": 101,
    "start_time": "2021-11-22T18:04:53.797Z"
   },
   {
    "duration": 13,
    "start_time": "2021-11-22T18:04:53.899Z"
   },
   {
    "duration": 26,
    "start_time": "2021-11-22T18:04:53.914Z"
   },
   {
    "duration": 22,
    "start_time": "2021-11-22T18:04:53.941Z"
   },
   {
    "duration": 28,
    "start_time": "2021-11-22T18:04:53.965Z"
   },
   {
    "duration": 18,
    "start_time": "2021-11-22T18:04:53.995Z"
   },
   {
    "duration": 34,
    "start_time": "2021-11-22T18:04:54.015Z"
   },
   {
    "duration": 5,
    "start_time": "2021-11-22T18:04:54.058Z"
   },
   {
    "duration": 28,
    "start_time": "2021-11-22T18:04:54.066Z"
   },
   {
    "duration": 31,
    "start_time": "2021-11-22T18:04:54.096Z"
   },
   {
    "duration": 29,
    "start_time": "2021-11-22T18:04:54.128Z"
   },
   {
    "duration": 26,
    "start_time": "2021-11-22T18:04:54.160Z"
   },
   {
    "duration": 32,
    "start_time": "2021-11-22T18:04:54.188Z"
   },
   {
    "duration": 43,
    "start_time": "2021-11-22T18:04:54.221Z"
   },
   {
    "duration": 24,
    "start_time": "2021-11-22T18:04:54.266Z"
   },
   {
    "duration": 20,
    "start_time": "2021-11-22T18:04:54.292Z"
   },
   {
    "duration": 316,
    "start_time": "2021-11-22T18:04:54.314Z"
   },
   {
    "duration": -681,
    "start_time": "2021-11-22T18:04:55.313Z"
   },
   {
    "duration": -684,
    "start_time": "2021-11-22T18:04:55.316Z"
   },
   {
    "duration": -686,
    "start_time": "2021-11-22T18:04:55.319Z"
   },
   {
    "duration": -692,
    "start_time": "2021-11-22T18:04:55.326Z"
   },
   {
    "duration": -694,
    "start_time": "2021-11-22T18:04:55.329Z"
   },
   {
    "duration": -697,
    "start_time": "2021-11-22T18:04:55.333Z"
   },
   {
    "duration": -699,
    "start_time": "2021-11-22T18:04:55.336Z"
   },
   {
    "duration": -701,
    "start_time": "2021-11-22T18:04:55.339Z"
   },
   {
    "duration": -703,
    "start_time": "2021-11-22T18:04:55.342Z"
   },
   {
    "duration": -705,
    "start_time": "2021-11-22T18:04:55.345Z"
   },
   {
    "duration": -707,
    "start_time": "2021-11-22T18:04:55.348Z"
   },
   {
    "duration": -709,
    "start_time": "2021-11-22T18:04:55.352Z"
   },
   {
    "duration": -710,
    "start_time": "2021-11-22T18:04:55.354Z"
   },
   {
    "duration": -713,
    "start_time": "2021-11-22T18:04:55.358Z"
   },
   {
    "duration": -715,
    "start_time": "2021-11-22T18:04:55.361Z"
   },
   {
    "duration": -717,
    "start_time": "2021-11-22T18:04:55.364Z"
   },
   {
    "duration": -719,
    "start_time": "2021-11-22T18:04:55.367Z"
   },
   {
    "duration": -721,
    "start_time": "2021-11-22T18:04:55.370Z"
   },
   {
    "duration": -723,
    "start_time": "2021-11-22T18:04:55.373Z"
   },
   {
    "duration": -730,
    "start_time": "2021-11-22T18:04:55.381Z"
   },
   {
    "duration": -731,
    "start_time": "2021-11-22T18:04:55.384Z"
   },
   {
    "duration": -734,
    "start_time": "2021-11-22T18:04:55.388Z"
   },
   {
    "duration": -735,
    "start_time": "2021-11-22T18:04:55.391Z"
   },
   {
    "duration": -736,
    "start_time": "2021-11-22T18:04:55.394Z"
   },
   {
    "duration": -738,
    "start_time": "2021-11-22T18:04:55.397Z"
   },
   {
    "duration": -739,
    "start_time": "2021-11-22T18:04:55.400Z"
   },
   {
    "duration": -741,
    "start_time": "2021-11-22T18:04:55.403Z"
   },
   {
    "duration": -744,
    "start_time": "2021-11-22T18:04:55.407Z"
   },
   {
    "duration": -746,
    "start_time": "2021-11-22T18:04:55.410Z"
   },
   {
    "duration": 3,
    "start_time": "2021-11-22T18:06:21.626Z"
   },
   {
    "duration": 394,
    "start_time": "2021-11-22T18:06:21.631Z"
   },
   {
    "duration": 9,
    "start_time": "2021-11-22T18:06:22.026Z"
   },
   {
    "duration": 15,
    "start_time": "2021-11-22T18:06:22.037Z"
   },
   {
    "duration": 11,
    "start_time": "2021-11-22T18:06:22.054Z"
   },
   {
    "duration": 5,
    "start_time": "2021-11-22T18:06:22.067Z"
   },
   {
    "duration": 8,
    "start_time": "2021-11-22T18:06:22.074Z"
   },
   {
    "duration": 14,
    "start_time": "2021-11-22T18:06:22.084Z"
   },
   {
    "duration": 7,
    "start_time": "2021-11-22T18:06:22.100Z"
   },
   {
    "duration": 57,
    "start_time": "2021-11-22T18:06:22.109Z"
   },
   {
    "duration": 8,
    "start_time": "2021-11-22T18:06:22.167Z"
   },
   {
    "duration": 21,
    "start_time": "2021-11-22T18:06:22.177Z"
   },
   {
    "duration": 5,
    "start_time": "2021-11-22T18:06:22.200Z"
   },
   {
    "duration": 15,
    "start_time": "2021-11-22T18:06:22.206Z"
   },
   {
    "duration": 3,
    "start_time": "2021-11-22T18:06:22.248Z"
   },
   {
    "duration": 66,
    "start_time": "2021-11-22T18:06:22.253Z"
   },
   {
    "duration": 30,
    "start_time": "2021-11-22T18:06:22.321Z"
   },
   {
    "duration": 10,
    "start_time": "2021-11-22T18:06:22.353Z"
   },
   {
    "duration": 6,
    "start_time": "2021-11-22T18:06:22.368Z"
   },
   {
    "duration": 106,
    "start_time": "2021-11-22T18:06:22.376Z"
   },
   {
    "duration": 12,
    "start_time": "2021-11-22T18:06:22.484Z"
   },
   {
    "duration": 19,
    "start_time": "2021-11-22T18:06:22.498Z"
   },
   {
    "duration": 9,
    "start_time": "2021-11-22T18:06:22.518Z"
   },
   {
    "duration": 20,
    "start_time": "2021-11-22T18:06:22.545Z"
   },
   {
    "duration": 9,
    "start_time": "2021-11-22T18:06:22.566Z"
   },
   {
    "duration": 20,
    "start_time": "2021-11-22T18:06:22.576Z"
   },
   {
    "duration": 3,
    "start_time": "2021-11-22T18:06:22.598Z"
   },
   {
    "duration": 10,
    "start_time": "2021-11-22T18:06:22.603Z"
   },
   {
    "duration": 49,
    "start_time": "2021-11-22T18:06:22.615Z"
   },
   {
    "duration": 9,
    "start_time": "2021-11-22T18:06:22.666Z"
   },
   {
    "duration": 10,
    "start_time": "2021-11-22T18:06:22.676Z"
   },
   {
    "duration": 8,
    "start_time": "2021-11-22T18:06:22.688Z"
   },
   {
    "duration": 19,
    "start_time": "2021-11-22T18:06:22.697Z"
   },
   {
    "duration": 38,
    "start_time": "2021-11-22T18:06:22.718Z"
   },
   {
    "duration": 22,
    "start_time": "2021-11-22T18:06:22.758Z"
   },
   {
    "duration": 284,
    "start_time": "2021-11-22T18:06:22.782Z"
   },
   {
    "duration": -789,
    "start_time": "2021-11-22T18:06:23.857Z"
   },
   {
    "duration": -790,
    "start_time": "2021-11-22T18:06:23.859Z"
   },
   {
    "duration": -793,
    "start_time": "2021-11-22T18:06:23.863Z"
   },
   {
    "duration": -794,
    "start_time": "2021-11-22T18:06:23.865Z"
   },
   {
    "duration": -797,
    "start_time": "2021-11-22T18:06:23.869Z"
   },
   {
    "duration": -799,
    "start_time": "2021-11-22T18:06:23.872Z"
   },
   {
    "duration": -820,
    "start_time": "2021-11-22T18:06:23.894Z"
   },
   {
    "duration": -822,
    "start_time": "2021-11-22T18:06:23.897Z"
   },
   {
    "duration": -825,
    "start_time": "2021-11-22T18:06:23.901Z"
   },
   {
    "duration": -826,
    "start_time": "2021-11-22T18:06:23.903Z"
   },
   {
    "duration": -831,
    "start_time": "2021-11-22T18:06:23.909Z"
   },
   {
    "duration": -840,
    "start_time": "2021-11-22T18:06:23.919Z"
   },
   {
    "duration": -843,
    "start_time": "2021-11-22T18:06:23.923Z"
   },
   {
    "duration": -846,
    "start_time": "2021-11-22T18:06:23.927Z"
   },
   {
    "duration": -929,
    "start_time": "2021-11-22T18:06:24.011Z"
   },
   {
    "duration": -931,
    "start_time": "2021-11-22T18:06:24.014Z"
   },
   {
    "duration": -933,
    "start_time": "2021-11-22T18:06:24.017Z"
   },
   {
    "duration": -941,
    "start_time": "2021-11-22T18:06:24.025Z"
   },
   {
    "duration": -943,
    "start_time": "2021-11-22T18:06:24.028Z"
   },
   {
    "duration": -945,
    "start_time": "2021-11-22T18:06:24.031Z"
   },
   {
    "duration": -947,
    "start_time": "2021-11-22T18:06:24.034Z"
   },
   {
    "duration": -949,
    "start_time": "2021-11-22T18:06:24.037Z"
   },
   {
    "duration": -951,
    "start_time": "2021-11-22T18:06:24.040Z"
   },
   {
    "duration": -953,
    "start_time": "2021-11-22T18:06:24.043Z"
   },
   {
    "duration": -957,
    "start_time": "2021-11-22T18:06:24.047Z"
   },
   {
    "duration": -958,
    "start_time": "2021-11-22T18:06:24.049Z"
   },
   {
    "duration": -961,
    "start_time": "2021-11-22T18:06:24.053Z"
   },
   {
    "duration": -962,
    "start_time": "2021-11-22T18:06:24.055Z"
   },
   {
    "duration": -965,
    "start_time": "2021-11-22T18:06:24.059Z"
   },
   {
    "duration": 8,
    "start_time": "2021-11-22T18:06:37.175Z"
   },
   {
    "duration": 301,
    "start_time": "2021-11-22T18:07:00.777Z"
   },
   {
    "duration": 9,
    "start_time": "2021-11-22T18:07:03.887Z"
   },
   {
    "duration": 3,
    "start_time": "2021-11-22T18:07:47.465Z"
   },
   {
    "duration": 8,
    "start_time": "2021-11-22T18:07:51.791Z"
   },
   {
    "duration": 4,
    "start_time": "2021-11-22T18:08:00.630Z"
   },
   {
    "duration": 410,
    "start_time": "2021-11-22T18:08:00.635Z"
   },
   {
    "duration": 11,
    "start_time": "2021-11-22T18:08:01.049Z"
   },
   {
    "duration": 6,
    "start_time": "2021-11-22T18:08:01.063Z"
   },
   {
    "duration": 15,
    "start_time": "2021-11-22T18:08:01.071Z"
   },
   {
    "duration": 11,
    "start_time": "2021-11-22T18:08:01.088Z"
   },
   {
    "duration": 12,
    "start_time": "2021-11-22T18:08:01.101Z"
   },
   {
    "duration": 29,
    "start_time": "2021-11-22T18:08:01.115Z"
   },
   {
    "duration": 13,
    "start_time": "2021-11-22T18:08:01.149Z"
   },
   {
    "duration": 23,
    "start_time": "2021-11-22T18:08:01.165Z"
   },
   {
    "duration": 7,
    "start_time": "2021-11-22T18:08:01.190Z"
   },
   {
    "duration": 27,
    "start_time": "2021-11-22T18:08:01.198Z"
   },
   {
    "duration": 8,
    "start_time": "2021-11-22T18:08:01.244Z"
   },
   {
    "duration": 16,
    "start_time": "2021-11-22T18:08:01.254Z"
   },
   {
    "duration": 3,
    "start_time": "2021-11-22T18:08:01.272Z"
   },
   {
    "duration": 84,
    "start_time": "2021-11-22T18:08:01.276Z"
   },
   {
    "duration": 15,
    "start_time": "2021-11-22T18:08:01.362Z"
   },
   {
    "duration": 8,
    "start_time": "2021-11-22T18:08:01.378Z"
   },
   {
    "duration": 7,
    "start_time": "2021-11-22T18:08:01.388Z"
   },
   {
    "duration": 101,
    "start_time": "2021-11-22T18:08:01.397Z"
   },
   {
    "duration": 14,
    "start_time": "2021-11-22T18:08:01.500Z"
   },
   {
    "duration": 33,
    "start_time": "2021-11-22T18:08:01.515Z"
   },
   {
    "duration": 8,
    "start_time": "2021-11-22T18:08:01.550Z"
   },
   {
    "duration": 16,
    "start_time": "2021-11-22T18:08:01.560Z"
   },
   {
    "duration": 6,
    "start_time": "2021-11-22T18:08:01.578Z"
   },
   {
    "duration": 21,
    "start_time": "2021-11-22T18:08:01.585Z"
   },
   {
    "duration": 3,
    "start_time": "2021-11-22T18:08:01.611Z"
   },
   {
    "duration": 34,
    "start_time": "2021-11-22T18:08:01.616Z"
   },
   {
    "duration": 19,
    "start_time": "2021-11-22T18:08:01.653Z"
   },
   {
    "duration": 8,
    "start_time": "2021-11-22T18:08:01.673Z"
   },
   {
    "duration": 11,
    "start_time": "2021-11-22T18:08:01.682Z"
   },
   {
    "duration": 10,
    "start_time": "2021-11-22T18:08:01.694Z"
   },
   {
    "duration": 9,
    "start_time": "2021-11-22T18:08:01.706Z"
   },
   {
    "duration": 37,
    "start_time": "2021-11-22T18:08:01.716Z"
   },
   {
    "duration": 8,
    "start_time": "2021-11-22T18:08:01.755Z"
   },
   {
    "duration": 5,
    "start_time": "2021-11-22T18:08:01.766Z"
   },
   {
    "duration": 10,
    "start_time": "2021-11-22T18:08:01.773Z"
   },
   {
    "duration": 22,
    "start_time": "2021-11-22T18:08:01.784Z"
   },
   {
    "duration": 8,
    "start_time": "2021-11-22T18:08:01.808Z"
   },
   {
    "duration": 10,
    "start_time": "2021-11-22T18:08:01.818Z"
   },
   {
    "duration": 4,
    "start_time": "2021-11-22T18:08:01.829Z"
   },
   {
    "duration": 5,
    "start_time": "2021-11-22T18:08:01.847Z"
   },
   {
    "duration": 188,
    "start_time": "2021-11-22T18:08:01.853Z"
   },
   {
    "duration": 15,
    "start_time": "2021-11-22T18:08:02.043Z"
   },
   {
    "duration": 293,
    "start_time": "2021-11-22T18:08:02.060Z"
   },
   {
    "duration": 3,
    "start_time": "2021-11-22T18:08:02.355Z"
   },
   {
    "duration": 454,
    "start_time": "2021-11-22T18:08:02.359Z"
   },
   {
    "duration": -692,
    "start_time": "2021-11-22T18:08:03.506Z"
   },
   {
    "duration": -696,
    "start_time": "2021-11-22T18:08:03.511Z"
   },
   {
    "duration": -698,
    "start_time": "2021-11-22T18:08:03.514Z"
   },
   {
    "duration": -701,
    "start_time": "2021-11-22T18:08:03.518Z"
   },
   {
    "duration": -703,
    "start_time": "2021-11-22T18:08:03.521Z"
   },
   {
    "duration": -705,
    "start_time": "2021-11-22T18:08:03.524Z"
   },
   {
    "duration": -708,
    "start_time": "2021-11-22T18:08:03.528Z"
   },
   {
    "duration": -709,
    "start_time": "2021-11-22T18:08:03.531Z"
   },
   {
    "duration": -711,
    "start_time": "2021-11-22T18:08:03.534Z"
   },
   {
    "duration": -715,
    "start_time": "2021-11-22T18:08:03.539Z"
   },
   {
    "duration": -717,
    "start_time": "2021-11-22T18:08:03.542Z"
   },
   {
    "duration": -719,
    "start_time": "2021-11-22T18:08:03.545Z"
   },
   {
    "duration": -722,
    "start_time": "2021-11-22T18:08:03.549Z"
   },
   {
    "duration": -724,
    "start_time": "2021-11-22T18:08:03.552Z"
   },
   {
    "duration": -728,
    "start_time": "2021-11-22T18:08:03.556Z"
   },
   {
    "duration": -730,
    "start_time": "2021-11-22T18:08:03.559Z"
   },
   {
    "duration": -732,
    "start_time": "2021-11-22T18:08:03.562Z"
   },
   {
    "duration": -741,
    "start_time": "2021-11-22T18:08:03.572Z"
   },
   {
    "duration": 270,
    "start_time": "2021-11-22T18:09:25.016Z"
   },
   {
    "duration": 8,
    "start_time": "2021-11-22T18:09:27.407Z"
   },
   {
    "duration": 4,
    "start_time": "2021-11-22T18:09:33.995Z"
   },
   {
    "duration": 396,
    "start_time": "2021-11-22T18:09:34.001Z"
   },
   {
    "duration": 8,
    "start_time": "2021-11-22T18:09:34.399Z"
   },
   {
    "duration": 7,
    "start_time": "2021-11-22T18:09:34.409Z"
   },
   {
    "duration": 8,
    "start_time": "2021-11-22T18:09:34.417Z"
   },
   {
    "duration": 23,
    "start_time": "2021-11-22T18:09:34.426Z"
   },
   {
    "duration": 11,
    "start_time": "2021-11-22T18:09:34.453Z"
   },
   {
    "duration": 15,
    "start_time": "2021-11-22T18:09:34.466Z"
   },
   {
    "duration": 10,
    "start_time": "2021-11-22T18:09:34.483Z"
   },
   {
    "duration": 55,
    "start_time": "2021-11-22T18:09:34.494Z"
   },
   {
    "duration": 13,
    "start_time": "2021-11-22T18:09:34.551Z"
   },
   {
    "duration": 21,
    "start_time": "2021-11-22T18:09:34.566Z"
   },
   {
    "duration": 6,
    "start_time": "2021-11-22T18:09:34.588Z"
   },
   {
    "duration": 11,
    "start_time": "2021-11-22T18:09:34.595Z"
   },
   {
    "duration": 2,
    "start_time": "2021-11-22T18:09:34.607Z"
   },
   {
    "duration": 95,
    "start_time": "2021-11-22T18:09:34.611Z"
   },
   {
    "duration": 15,
    "start_time": "2021-11-22T18:09:34.708Z"
   },
   {
    "duration": 20,
    "start_time": "2021-11-22T18:09:34.724Z"
   },
   {
    "duration": 5,
    "start_time": "2021-11-22T18:09:34.750Z"
   },
   {
    "duration": 103,
    "start_time": "2021-11-22T18:09:34.758Z"
   },
   {
    "duration": 13,
    "start_time": "2021-11-22T18:09:34.863Z"
   },
   {
    "duration": 18,
    "start_time": "2021-11-22T18:09:34.877Z"
   },
   {
    "duration": 7,
    "start_time": "2021-11-22T18:09:34.896Z"
   },
   {
    "duration": 16,
    "start_time": "2021-11-22T18:09:34.904Z"
   },
   {
    "duration": 33,
    "start_time": "2021-11-22T18:09:34.921Z"
   },
   {
    "duration": 21,
    "start_time": "2021-11-22T18:09:34.956Z"
   },
   {
    "duration": 4,
    "start_time": "2021-11-22T18:09:34.978Z"
   },
   {
    "duration": 11,
    "start_time": "2021-11-22T18:09:34.983Z"
   },
   {
    "duration": 17,
    "start_time": "2021-11-22T18:09:34.995Z"
   },
   {
    "duration": 31,
    "start_time": "2021-11-22T18:09:35.014Z"
   },
   {
    "duration": 13,
    "start_time": "2021-11-22T18:09:35.048Z"
   },
   {
    "duration": 10,
    "start_time": "2021-11-22T18:09:35.063Z"
   },
   {
    "duration": 10,
    "start_time": "2021-11-22T18:09:35.074Z"
   },
   {
    "duration": 11,
    "start_time": "2021-11-22T18:09:35.086Z"
   },
   {
    "duration": 5,
    "start_time": "2021-11-22T18:09:35.099Z"
   },
   {
    "duration": 5,
    "start_time": "2021-11-22T18:09:35.105Z"
   },
   {
    "duration": 41,
    "start_time": "2021-11-22T18:09:35.111Z"
   },
   {
    "duration": 17,
    "start_time": "2021-11-22T18:09:35.154Z"
   },
   {
    "duration": 5,
    "start_time": "2021-11-22T18:09:35.173Z"
   },
   {
    "duration": 5,
    "start_time": "2021-11-22T18:09:35.179Z"
   },
   {
    "duration": 5,
    "start_time": "2021-11-22T18:09:35.185Z"
   },
   {
    "duration": 7,
    "start_time": "2021-11-22T18:09:35.191Z"
   },
   {
    "duration": 199,
    "start_time": "2021-11-22T18:09:35.199Z"
   },
   {
    "duration": 12,
    "start_time": "2021-11-22T18:09:35.399Z"
   },
   {
    "duration": 277,
    "start_time": "2021-11-22T18:09:35.413Z"
   },
   {
    "duration": 4,
    "start_time": "2021-11-22T18:09:35.692Z"
   },
   {
    "duration": 301,
    "start_time": "2021-11-22T18:09:35.698Z"
   },
   {
    "duration": -714,
    "start_time": "2021-11-22T18:09:36.716Z"
   },
   {
    "duration": -717,
    "start_time": "2021-11-22T18:09:36.720Z"
   },
   {
    "duration": -722,
    "start_time": "2021-11-22T18:09:36.726Z"
   },
   {
    "duration": -727,
    "start_time": "2021-11-22T18:09:36.732Z"
   },
   {
    "duration": -730,
    "start_time": "2021-11-22T18:09:36.735Z"
   },
   {
    "duration": -736,
    "start_time": "2021-11-22T18:09:36.742Z"
   },
   {
    "duration": -738,
    "start_time": "2021-11-22T18:09:36.745Z"
   },
   {
    "duration": -742,
    "start_time": "2021-11-22T18:09:36.751Z"
   },
   {
    "duration": -747,
    "start_time": "2021-11-22T18:09:36.757Z"
   },
   {
    "duration": -750,
    "start_time": "2021-11-22T18:09:36.761Z"
   },
   {
    "duration": -754,
    "start_time": "2021-11-22T18:09:36.766Z"
   },
   {
    "duration": -758,
    "start_time": "2021-11-22T18:09:36.770Z"
   },
   {
    "duration": -763,
    "start_time": "2021-11-22T18:09:36.776Z"
   },
   {
    "duration": -768,
    "start_time": "2021-11-22T18:09:36.782Z"
   },
   {
    "duration": -770,
    "start_time": "2021-11-22T18:09:36.785Z"
   },
   {
    "duration": -775,
    "start_time": "2021-11-22T18:09:36.791Z"
   },
   {
    "duration": -777,
    "start_time": "2021-11-22T18:09:36.794Z"
   },
   {
    "duration": -783,
    "start_time": "2021-11-22T18:09:36.801Z"
   },
   {
    "duration": 100,
    "start_time": "2021-11-22T18:30:47.109Z"
   },
   {
    "duration": 912,
    "start_time": "2021-11-23T11:54:46.768Z"
   },
   {
    "duration": 17,
    "start_time": "2021-11-23T11:56:23.488Z"
   },
   {
    "duration": 1444,
    "start_time": "2021-11-23T13:36:39.852Z"
   },
   {
    "duration": 516,
    "start_time": "2021-11-23T13:36:41.298Z"
   },
   {
    "duration": 19,
    "start_time": "2021-11-23T13:36:41.816Z"
   },
   {
    "duration": 10,
    "start_time": "2021-11-23T13:36:41.838Z"
   },
   {
    "duration": 17,
    "start_time": "2021-11-23T13:36:41.850Z"
   },
   {
    "duration": 9,
    "start_time": "2021-11-23T13:36:41.869Z"
   },
   {
    "duration": 49,
    "start_time": "2021-11-23T13:36:41.881Z"
   },
   {
    "duration": 19,
    "start_time": "2021-11-23T13:36:41.934Z"
   },
   {
    "duration": 12,
    "start_time": "2021-11-23T13:36:41.955Z"
   },
   {
    "duration": 30,
    "start_time": "2021-11-23T13:36:41.969Z"
   },
   {
    "duration": 35,
    "start_time": "2021-11-23T13:36:42.001Z"
   },
   {
    "duration": 30,
    "start_time": "2021-11-23T13:36:42.038Z"
   },
   {
    "duration": 8,
    "start_time": "2021-11-23T13:36:42.070Z"
   },
   {
    "duration": 18,
    "start_time": "2021-11-23T13:36:42.080Z"
   },
   {
    "duration": 5,
    "start_time": "2021-11-23T13:36:42.129Z"
   },
   {
    "duration": 112,
    "start_time": "2021-11-23T13:36:42.136Z"
   },
   {
    "duration": 22,
    "start_time": "2021-11-23T13:36:42.250Z"
   },
   {
    "duration": 13,
    "start_time": "2021-11-23T13:36:42.274Z"
   },
   {
    "duration": 7,
    "start_time": "2021-11-23T13:36:42.289Z"
   },
   {
    "duration": 159,
    "start_time": "2021-11-23T13:36:42.298Z"
   },
   {
    "duration": 18,
    "start_time": "2021-11-23T13:36:42.460Z"
   },
   {
    "duration": 50,
    "start_time": "2021-11-23T13:36:42.480Z"
   },
   {
    "duration": 10,
    "start_time": "2021-11-23T13:36:42.536Z"
   },
   {
    "duration": 23,
    "start_time": "2021-11-23T13:36:42.549Z"
   },
   {
    "duration": 8,
    "start_time": "2021-11-23T13:36:42.575Z"
   },
   {
    "duration": 59,
    "start_time": "2021-11-23T13:36:42.585Z"
   },
   {
    "duration": 4,
    "start_time": "2021-11-23T13:36:42.646Z"
   },
   {
    "duration": 13,
    "start_time": "2021-11-23T13:36:42.653Z"
   },
   {
    "duration": 23,
    "start_time": "2021-11-23T13:36:42.668Z"
   },
   {
    "duration": 37,
    "start_time": "2021-11-23T13:36:42.693Z"
   },
   {
    "duration": 17,
    "start_time": "2021-11-23T13:36:42.733Z"
   },
   {
    "duration": 13,
    "start_time": "2021-11-23T13:36:42.752Z"
   },
   {
    "duration": 12,
    "start_time": "2021-11-23T13:36:42.767Z"
   },
   {
    "duration": 56,
    "start_time": "2021-11-23T13:36:42.782Z"
   },
   {
    "duration": 14,
    "start_time": "2021-11-23T13:36:42.840Z"
   },
   {
    "duration": 8,
    "start_time": "2021-11-23T13:36:42.857Z"
   },
   {
    "duration": 9,
    "start_time": "2021-11-23T13:36:42.867Z"
   },
   {
    "duration": 14,
    "start_time": "2021-11-23T13:36:42.878Z"
   },
   {
    "duration": 47,
    "start_time": "2021-11-23T13:36:42.894Z"
   },
   {
    "duration": 7,
    "start_time": "2021-11-23T13:36:42.943Z"
   },
   {
    "duration": 5,
    "start_time": "2021-11-23T13:36:42.953Z"
   },
   {
    "duration": 11,
    "start_time": "2021-11-23T13:36:42.961Z"
   },
   {
    "duration": 7,
    "start_time": "2021-11-23T13:36:42.974Z"
   },
   {
    "duration": 274,
    "start_time": "2021-11-23T13:36:42.983Z"
   },
   {
    "duration": 17,
    "start_time": "2021-11-23T13:36:43.259Z"
   },
   {
    "duration": 438,
    "start_time": "2021-11-23T13:36:43.278Z"
   },
   {
    "duration": 3,
    "start_time": "2021-11-23T13:36:43.719Z"
   },
   {
    "duration": 417,
    "start_time": "2021-11-23T13:36:43.728Z"
   },
   {
    "duration": -79,
    "start_time": "2021-11-23T13:36:44.227Z"
   },
   {
    "duration": -88,
    "start_time": "2021-11-23T13:36:44.237Z"
   },
   {
    "duration": -94,
    "start_time": "2021-11-23T13:36:44.244Z"
   },
   {
    "duration": -100,
    "start_time": "2021-11-23T13:36:44.251Z"
   },
   {
    "duration": -106,
    "start_time": "2021-11-23T13:36:44.259Z"
   },
   {
    "duration": -109,
    "start_time": "2021-11-23T13:36:44.263Z"
   },
   {
    "duration": -111,
    "start_time": "2021-11-23T13:36:44.266Z"
   },
   {
    "duration": -112,
    "start_time": "2021-11-23T13:36:44.269Z"
   },
   {
    "duration": -115,
    "start_time": "2021-11-23T13:36:44.273Z"
   },
   {
    "duration": -116,
    "start_time": "2021-11-23T13:36:44.276Z"
   },
   {
    "duration": -119,
    "start_time": "2021-11-23T13:36:44.280Z"
   },
   {
    "duration": -121,
    "start_time": "2021-11-23T13:36:44.283Z"
   },
   {
    "duration": -124,
    "start_time": "2021-11-23T13:36:44.287Z"
   },
   {
    "duration": -125,
    "start_time": "2021-11-23T13:36:44.290Z"
   },
   {
    "duration": -128,
    "start_time": "2021-11-23T13:36:44.294Z"
   },
   {
    "duration": -130,
    "start_time": "2021-11-23T13:36:44.297Z"
   },
   {
    "duration": -133,
    "start_time": "2021-11-23T13:36:44.301Z"
   },
   {
    "duration": -135,
    "start_time": "2021-11-23T13:36:44.304Z"
   },
   {
    "duration": 23,
    "start_time": "2021-11-23T13:37:27.974Z"
   },
   {
    "duration": 6,
    "start_time": "2021-11-23T13:37:41.561Z"
   },
   {
    "duration": 554,
    "start_time": "2021-11-23T13:37:41.570Z"
   },
   {
    "duration": 14,
    "start_time": "2021-11-23T13:37:42.127Z"
   },
   {
    "duration": 30,
    "start_time": "2021-11-23T13:37:42.144Z"
   },
   {
    "duration": 36,
    "start_time": "2021-11-23T13:37:42.177Z"
   },
   {
    "duration": 37,
    "start_time": "2021-11-23T13:37:42.216Z"
   },
   {
    "duration": 29,
    "start_time": "2021-11-23T13:37:42.256Z"
   },
   {
    "duration": 39,
    "start_time": "2021-11-23T13:37:42.289Z"
   },
   {
    "duration": 26,
    "start_time": "2021-11-23T13:37:42.331Z"
   },
   {
    "duration": 44,
    "start_time": "2021-11-23T13:37:42.359Z"
   },
   {
    "duration": 19,
    "start_time": "2021-11-23T13:37:42.406Z"
   },
   {
    "duration": 50,
    "start_time": "2021-11-23T13:37:42.428Z"
   },
   {
    "duration": 8,
    "start_time": "2021-11-23T13:37:42.481Z"
   },
   {
    "duration": 34,
    "start_time": "2021-11-23T13:37:42.492Z"
   },
   {
    "duration": 34,
    "start_time": "2021-11-23T13:37:42.529Z"
   },
   {
    "duration": 100,
    "start_time": "2021-11-23T13:37:42.566Z"
   },
   {
    "duration": 24,
    "start_time": "2021-11-23T13:37:42.668Z"
   },
   {
    "duration": 16,
    "start_time": "2021-11-23T13:37:42.695Z"
   },
   {
    "duration": 18,
    "start_time": "2021-11-23T13:37:42.714Z"
   },
   {
    "duration": 154,
    "start_time": "2021-11-23T13:37:42.734Z"
   },
   {
    "duration": 20,
    "start_time": "2021-11-23T13:37:42.890Z"
   },
   {
    "duration": 43,
    "start_time": "2021-11-23T13:37:42.913Z"
   },
   {
    "duration": 11,
    "start_time": "2021-11-23T13:37:42.962Z"
   },
   {
    "duration": 30,
    "start_time": "2021-11-23T13:37:42.977Z"
   },
   {
    "duration": 31,
    "start_time": "2021-11-23T13:37:43.010Z"
   },
   {
    "duration": 51,
    "start_time": "2021-11-23T13:37:43.044Z"
   },
   {
    "duration": 4,
    "start_time": "2021-11-23T13:37:43.097Z"
   },
   {
    "duration": 26,
    "start_time": "2021-11-23T13:37:43.104Z"
   },
   {
    "duration": 32,
    "start_time": "2021-11-23T13:37:43.133Z"
   },
   {
    "duration": 14,
    "start_time": "2021-11-23T13:37:43.167Z"
   },
   {
    "duration": 52,
    "start_time": "2021-11-23T13:37:43.183Z"
   },
   {
    "duration": 41,
    "start_time": "2021-11-23T13:37:43.238Z"
   },
   {
    "duration": 34,
    "start_time": "2021-11-23T13:37:43.282Z"
   },
   {
    "duration": 29,
    "start_time": "2021-11-23T13:37:43.319Z"
   },
   {
    "duration": 31,
    "start_time": "2021-11-23T13:37:43.351Z"
   },
   {
    "duration": 9,
    "start_time": "2021-11-23T13:37:43.385Z"
   },
   {
    "duration": 14,
    "start_time": "2021-11-23T13:37:43.396Z"
   },
   {
    "duration": 32,
    "start_time": "2021-11-23T13:37:43.413Z"
   },
   {
    "duration": 36,
    "start_time": "2021-11-23T13:37:43.448Z"
   },
   {
    "duration": 15,
    "start_time": "2021-11-23T13:37:43.487Z"
   },
   {
    "duration": 6,
    "start_time": "2021-11-23T13:37:43.504Z"
   },
   {
    "duration": 8,
    "start_time": "2021-11-23T13:37:43.513Z"
   },
   {
    "duration": 8,
    "start_time": "2021-11-23T13:37:43.530Z"
   },
   {
    "duration": 460,
    "start_time": "2021-11-23T13:37:43.541Z"
   },
   {
    "duration": 26,
    "start_time": "2021-11-23T13:37:44.003Z"
   },
   {
    "duration": 458,
    "start_time": "2021-11-23T13:37:44.031Z"
   },
   {
    "duration": 4,
    "start_time": "2021-11-23T13:37:44.491Z"
   },
   {
    "duration": 373,
    "start_time": "2021-11-23T13:37:44.498Z"
   },
   {
    "duration": -80,
    "start_time": "2021-11-23T13:37:44.954Z"
   },
   {
    "duration": -87,
    "start_time": "2021-11-23T13:37:44.962Z"
   },
   {
    "duration": -93,
    "start_time": "2021-11-23T13:37:44.970Z"
   },
   {
    "duration": -100,
    "start_time": "2021-11-23T13:37:44.978Z"
   },
   {
    "duration": -107,
    "start_time": "2021-11-23T13:37:44.986Z"
   },
   {
    "duration": -114,
    "start_time": "2021-11-23T13:37:44.995Z"
   },
   {
    "duration": -119,
    "start_time": "2021-11-23T13:37:45.002Z"
   },
   {
    "duration": -127,
    "start_time": "2021-11-23T13:37:45.011Z"
   },
   {
    "duration": -134,
    "start_time": "2021-11-23T13:37:45.019Z"
   },
   {
    "duration": -140,
    "start_time": "2021-11-23T13:37:45.027Z"
   },
   {
    "duration": -147,
    "start_time": "2021-11-23T13:37:45.035Z"
   },
   {
    "duration": -154,
    "start_time": "2021-11-23T13:37:45.044Z"
   },
   {
    "duration": -156,
    "start_time": "2021-11-23T13:37:45.047Z"
   },
   {
    "duration": -158,
    "start_time": "2021-11-23T13:37:45.050Z"
   },
   {
    "duration": -160,
    "start_time": "2021-11-23T13:37:45.054Z"
   },
   {
    "duration": -162,
    "start_time": "2021-11-23T13:37:45.057Z"
   },
   {
    "duration": -164,
    "start_time": "2021-11-23T13:37:45.060Z"
   },
   {
    "duration": -165,
    "start_time": "2021-11-23T13:37:45.063Z"
   },
   {
    "duration": 27,
    "start_time": "2021-11-23T13:41:23.108Z"
   },
   {
    "duration": 15,
    "start_time": "2021-11-23T13:41:26.221Z"
   },
   {
    "duration": -59,
    "start_time": "2021-11-23T13:42:51.682Z"
   },
   {
    "duration": -65,
    "start_time": "2021-11-23T13:42:51.690Z"
   },
   {
    "duration": -66,
    "start_time": "2021-11-23T13:42:51.692Z"
   },
   {
    "duration": -73,
    "start_time": "2021-11-23T13:42:51.701Z"
   },
   {
    "duration": -74,
    "start_time": "2021-11-23T13:42:51.704Z"
   },
   {
    "duration": -76,
    "start_time": "2021-11-23T13:42:51.708Z"
   },
   {
    "duration": -78,
    "start_time": "2021-11-23T13:42:51.711Z"
   },
   {
    "duration": -79,
    "start_time": "2021-11-23T13:42:51.714Z"
   },
   {
    "duration": -80,
    "start_time": "2021-11-23T13:42:51.717Z"
   },
   {
    "duration": -87,
    "start_time": "2021-11-23T13:42:51.725Z"
   },
   {
    "duration": -88,
    "start_time": "2021-11-23T13:42:51.728Z"
   },
   {
    "duration": -90,
    "start_time": "2021-11-23T13:42:51.732Z"
   },
   {
    "duration": -92,
    "start_time": "2021-11-23T13:42:51.735Z"
   },
   {
    "duration": -93,
    "start_time": "2021-11-23T13:42:51.738Z"
   },
   {
    "duration": -94,
    "start_time": "2021-11-23T13:42:51.741Z"
   },
   {
    "duration": -96,
    "start_time": "2021-11-23T13:42:51.744Z"
   },
   {
    "duration": -97,
    "start_time": "2021-11-23T13:42:51.747Z"
   },
   {
    "duration": -98,
    "start_time": "2021-11-23T13:42:51.750Z"
   },
   {
    "duration": -100,
    "start_time": "2021-11-23T13:42:51.753Z"
   },
   {
    "duration": -108,
    "start_time": "2021-11-23T13:42:51.763Z"
   },
   {
    "duration": -111,
    "start_time": "2021-11-23T13:42:51.768Z"
   },
   {
    "duration": -385,
    "start_time": "2021-11-23T13:42:52.043Z"
   },
   {
    "duration": -386,
    "start_time": "2021-11-23T13:42:52.046Z"
   },
   {
    "duration": -388,
    "start_time": "2021-11-23T13:42:52.050Z"
   },
   {
    "duration": -389,
    "start_time": "2021-11-23T13:42:52.053Z"
   },
   {
    "duration": -390,
    "start_time": "2021-11-23T13:42:52.056Z"
   },
   {
    "duration": -391,
    "start_time": "2021-11-23T13:42:52.059Z"
   },
   {
    "duration": -394,
    "start_time": "2021-11-23T13:42:52.063Z"
   },
   {
    "duration": -395,
    "start_time": "2021-11-23T13:42:52.066Z"
   },
   {
    "duration": -324,
    "start_time": "2021-11-23T13:42:52.069Z"
   },
   {
    "duration": -325,
    "start_time": "2021-11-23T13:42:52.072Z"
   },
   {
    "duration": -327,
    "start_time": "2021-11-23T13:42:52.076Z"
   },
   {
    "duration": -328,
    "start_time": "2021-11-23T13:42:52.079Z"
   },
   {
    "duration": -330,
    "start_time": "2021-11-23T13:42:52.082Z"
   },
   {
    "duration": -638,
    "start_time": "2021-11-23T13:42:52.392Z"
   },
   {
    "duration": -651,
    "start_time": "2021-11-23T13:42:52.406Z"
   },
   {
    "duration": -657,
    "start_time": "2021-11-23T13:42:52.414Z"
   },
   {
    "duration": -669,
    "start_time": "2021-11-23T13:42:52.428Z"
   },
   {
    "duration": -675,
    "start_time": "2021-11-23T13:42:52.436Z"
   },
   {
    "duration": -678,
    "start_time": "2021-11-23T13:42:52.440Z"
   },
   {
    "duration": -679,
    "start_time": "2021-11-23T13:42:52.443Z"
   },
   {
    "duration": -681,
    "start_time": "2021-11-23T13:42:52.447Z"
   },
   {
    "duration": -682,
    "start_time": "2021-11-23T13:42:52.450Z"
   },
   {
    "duration": -684,
    "start_time": "2021-11-23T13:42:52.453Z"
   },
   {
    "duration": -686,
    "start_time": "2021-11-23T13:42:52.457Z"
   },
   {
    "duration": -687,
    "start_time": "2021-11-23T13:42:52.460Z"
   },
   {
    "duration": -688,
    "start_time": "2021-11-23T13:42:52.463Z"
   },
   {
    "duration": -691,
    "start_time": "2021-11-23T13:42:52.467Z"
   },
   {
    "duration": -692,
    "start_time": "2021-11-23T13:42:52.470Z"
   },
   {
    "duration": -645,
    "start_time": "2021-11-23T13:42:52.473Z"
   },
   {
    "duration": -645,
    "start_time": "2021-11-23T13:42:52.476Z"
   },
   {
    "duration": -647,
    "start_time": "2021-11-23T13:42:52.479Z"
   },
   {
    "duration": -648,
    "start_time": "2021-11-23T13:42:52.482Z"
   },
   {
    "duration": -649,
    "start_time": "2021-11-23T13:42:52.485Z"
   },
   {
    "duration": -651,
    "start_time": "2021-11-23T13:42:52.488Z"
   },
   {
    "duration": -652,
    "start_time": "2021-11-23T13:42:52.491Z"
   },
   {
    "duration": -653,
    "start_time": "2021-11-23T13:42:52.494Z"
   },
   {
    "duration": -654,
    "start_time": "2021-11-23T13:42:52.497Z"
   },
   {
    "duration": -655,
    "start_time": "2021-11-23T13:42:52.500Z"
   },
   {
    "duration": -657,
    "start_time": "2021-11-23T13:42:52.503Z"
   },
   {
    "duration": -657,
    "start_time": "2021-11-23T13:42:52.506Z"
   },
   {
    "duration": -659,
    "start_time": "2021-11-23T13:42:52.509Z"
   },
   {
    "duration": -660,
    "start_time": "2021-11-23T13:42:52.512Z"
   },
   {
    "duration": -661,
    "start_time": "2021-11-23T13:42:52.515Z"
   },
   {
    "duration": -662,
    "start_time": "2021-11-23T13:42:52.518Z"
   },
   {
    "duration": -664,
    "start_time": "2021-11-23T13:42:52.521Z"
   },
   {
    "duration": 6,
    "start_time": "2021-11-23T13:43:27.538Z"
   },
   {
    "duration": 534,
    "start_time": "2021-11-23T13:43:27.548Z"
   },
   {
    "duration": 14,
    "start_time": "2021-11-23T13:43:28.085Z"
   },
   {
    "duration": 28,
    "start_time": "2021-11-23T13:43:28.102Z"
   },
   {
    "duration": 13,
    "start_time": "2021-11-23T13:43:28.133Z"
   },
   {
    "duration": 9,
    "start_time": "2021-11-23T13:43:28.150Z"
   },
   {
    "duration": 15,
    "start_time": "2021-11-23T13:43:28.161Z"
   },
   {
    "duration": 63,
    "start_time": "2021-11-23T13:43:28.181Z"
   },
   {
    "duration": 15,
    "start_time": "2021-11-23T13:43:28.248Z"
   },
   {
    "duration": 39,
    "start_time": "2021-11-23T13:43:28.266Z"
   },
   {
    "duration": 15,
    "start_time": "2021-11-23T13:43:28.328Z"
   },
   {
    "duration": 29,
    "start_time": "2021-11-23T13:43:28.346Z"
   },
   {
    "duration": 7,
    "start_time": "2021-11-23T13:43:28.377Z"
   },
   {
    "duration": 54,
    "start_time": "2021-11-23T13:43:28.386Z"
   },
   {
    "duration": 5,
    "start_time": "2021-11-23T13:43:28.443Z"
   },
   {
    "duration": 106,
    "start_time": "2021-11-23T13:43:28.450Z"
   },
   {
    "duration": 22,
    "start_time": "2021-11-23T13:43:28.559Z"
   },
   {
    "duration": 13,
    "start_time": "2021-11-23T13:43:28.584Z"
   },
   {
    "duration": 31,
    "start_time": "2021-11-23T13:43:28.600Z"
   },
   {
    "duration": 142,
    "start_time": "2021-11-23T13:43:28.634Z"
   },
   {
    "duration": 19,
    "start_time": "2021-11-23T13:43:28.778Z"
   },
   {
    "duration": 50,
    "start_time": "2021-11-23T13:43:28.799Z"
   },
   {
    "duration": 11,
    "start_time": "2021-11-23T13:43:28.855Z"
   },
   {
    "duration": 38,
    "start_time": "2021-11-23T13:43:28.869Z"
   },
   {
    "duration": 21,
    "start_time": "2021-11-23T13:43:28.910Z"
   },
   {
    "duration": 30,
    "start_time": "2021-11-23T13:43:28.933Z"
   },
   {
    "duration": 5,
    "start_time": "2021-11-23T13:43:28.966Z"
   },
   {
    "duration": 21,
    "start_time": "2021-11-23T13:43:28.974Z"
   },
   {
    "duration": 48,
    "start_time": "2021-11-23T13:43:28.998Z"
   },
   {
    "duration": 14,
    "start_time": "2021-11-23T13:43:29.049Z"
   },
   {
    "duration": 22,
    "start_time": "2021-11-23T13:43:29.065Z"
   },
   {
    "duration": 42,
    "start_time": "2021-11-23T13:43:29.089Z"
   },
   {
    "duration": 12,
    "start_time": "2021-11-23T13:43:29.135Z"
   },
   {
    "duration": 17,
    "start_time": "2021-11-23T13:43:29.150Z"
   },
   {
    "duration": 16,
    "start_time": "2021-11-23T13:43:29.170Z"
   },
   {
    "duration": 44,
    "start_time": "2021-11-23T13:43:29.189Z"
   },
   {
    "duration": 7,
    "start_time": "2021-11-23T13:43:29.238Z"
   },
   {
    "duration": 18,
    "start_time": "2021-11-23T13:43:29.248Z"
   },
   {
    "duration": 17,
    "start_time": "2021-11-23T13:43:29.270Z"
   },
   {
    "duration": 39,
    "start_time": "2021-11-23T13:43:29.290Z"
   },
   {
    "duration": 7,
    "start_time": "2021-11-23T13:43:29.332Z"
   },
   {
    "duration": 19,
    "start_time": "2021-11-23T13:43:29.341Z"
   },
   {
    "duration": 22,
    "start_time": "2021-11-23T13:43:29.362Z"
   },
   {
    "duration": 306,
    "start_time": "2021-11-23T13:43:29.386Z"
   },
   {
    "duration": 20,
    "start_time": "2021-11-23T13:43:29.695Z"
   },
   {
    "duration": 440,
    "start_time": "2021-11-23T13:43:29.729Z"
   },
   {
    "duration": 5,
    "start_time": "2021-11-23T13:43:30.171Z"
   },
   {
    "duration": 291,
    "start_time": "2021-11-23T13:43:30.178Z"
   },
   {
    "duration": -76,
    "start_time": "2021-11-23T13:43:30.548Z"
   },
   {
    "duration": -89,
    "start_time": "2021-11-23T13:43:30.562Z"
   },
   {
    "duration": -96,
    "start_time": "2021-11-23T13:43:30.571Z"
   },
   {
    "duration": -111,
    "start_time": "2021-11-23T13:43:30.587Z"
   },
   {
    "duration": -117,
    "start_time": "2021-11-23T13:43:30.595Z"
   },
   {
    "duration": -125,
    "start_time": "2021-11-23T13:43:30.604Z"
   },
   {
    "duration": -132,
    "start_time": "2021-11-23T13:43:30.613Z"
   },
   {
    "duration": -141,
    "start_time": "2021-11-23T13:43:30.623Z"
   },
   {
    "duration": -147,
    "start_time": "2021-11-23T13:43:30.631Z"
   },
   {
    "duration": -160,
    "start_time": "2021-11-23T13:43:30.645Z"
   },
   {
    "duration": -163,
    "start_time": "2021-11-23T13:43:30.649Z"
   },
   {
    "duration": -165,
    "start_time": "2021-11-23T13:43:30.653Z"
   },
   {
    "duration": -167,
    "start_time": "2021-11-23T13:43:30.656Z"
   },
   {
    "duration": -169,
    "start_time": "2021-11-23T13:43:30.660Z"
   },
   {
    "duration": -174,
    "start_time": "2021-11-23T13:43:30.666Z"
   },
   {
    "duration": -176,
    "start_time": "2021-11-23T13:43:30.670Z"
   },
   {
    "duration": -178,
    "start_time": "2021-11-23T13:43:30.673Z"
   },
   {
    "duration": -180,
    "start_time": "2021-11-23T13:43:30.677Z"
   },
   {
    "duration": 6,
    "start_time": "2021-11-23T13:44:30.196Z"
   },
   {
    "duration": 7,
    "start_time": "2021-11-23T13:52:41.927Z"
   },
   {
    "duration": 28,
    "start_time": "2021-11-23T13:54:24.184Z"
   },
   {
    "duration": 8,
    "start_time": "2021-11-23T13:55:00.687Z"
   },
   {
    "duration": 7,
    "start_time": "2021-11-23T13:55:04.566Z"
   },
   {
    "duration": 7,
    "start_time": "2021-11-23T13:55:13.700Z"
   },
   {
    "duration": 7,
    "start_time": "2021-11-23T13:55:19.040Z"
   },
   {
    "duration": 7,
    "start_time": "2021-11-23T13:55:27.157Z"
   },
   {
    "duration": 6,
    "start_time": "2021-11-23T13:55:31.705Z"
   },
   {
    "duration": 7,
    "start_time": "2021-11-23T13:55:37.693Z"
   },
   {
    "duration": 6,
    "start_time": "2021-11-23T13:55:45.611Z"
   },
   {
    "duration": 7,
    "start_time": "2021-11-23T13:56:10.147Z"
   },
   {
    "duration": 9,
    "start_time": "2021-11-23T13:57:38.672Z"
   },
   {
    "duration": 8,
    "start_time": "2021-11-23T13:57:47.985Z"
   },
   {
    "duration": 29,
    "start_time": "2021-11-23T13:58:05.719Z"
   },
   {
    "duration": 9,
    "start_time": "2021-11-23T13:59:29.608Z"
   },
   {
    "duration": 8,
    "start_time": "2021-11-23T14:40:31.217Z"
   },
   {
    "duration": 9,
    "start_time": "2021-11-23T14:40:39.872Z"
   },
   {
    "duration": 28,
    "start_time": "2021-11-23T14:40:50.410Z"
   },
   {
    "duration": 5,
    "start_time": "2021-11-23T14:42:10.755Z"
   },
   {
    "duration": 541,
    "start_time": "2021-11-23T14:42:10.762Z"
   },
   {
    "duration": 13,
    "start_time": "2021-11-23T14:42:11.306Z"
   },
   {
    "duration": 9,
    "start_time": "2021-11-23T14:42:11.329Z"
   },
   {
    "duration": 28,
    "start_time": "2021-11-23T14:42:11.341Z"
   },
   {
    "duration": 13,
    "start_time": "2021-11-23T14:42:11.371Z"
   },
   {
    "duration": 31,
    "start_time": "2021-11-23T14:42:11.387Z"
   },
   {
    "duration": 29,
    "start_time": "2021-11-23T14:42:11.428Z"
   },
   {
    "duration": 14,
    "start_time": "2021-11-23T14:42:11.460Z"
   },
   {
    "duration": 29,
    "start_time": "2021-11-23T14:42:11.476Z"
   },
   {
    "duration": 28,
    "start_time": "2021-11-23T14:42:11.508Z"
   },
   {
    "duration": 34,
    "start_time": "2021-11-23T14:42:11.538Z"
   },
   {
    "duration": 11,
    "start_time": "2021-11-23T14:42:11.575Z"
   },
   {
    "duration": 51,
    "start_time": "2021-11-23T14:42:11.588Z"
   },
   {
    "duration": 21,
    "start_time": "2021-11-23T14:42:11.642Z"
   },
   {
    "duration": 105,
    "start_time": "2021-11-23T14:42:11.666Z"
   },
   {
    "duration": 29,
    "start_time": "2021-11-23T14:42:11.773Z"
   },
   {
    "duration": 28,
    "start_time": "2021-11-23T14:42:11.805Z"
   },
   {
    "duration": 5,
    "start_time": "2021-11-23T14:42:11.836Z"
   },
   {
    "duration": 158,
    "start_time": "2021-11-23T14:42:11.844Z"
   },
   {
    "duration": 34,
    "start_time": "2021-11-23T14:42:12.005Z"
   },
   {
    "duration": 33,
    "start_time": "2021-11-23T14:42:12.041Z"
   },
   {
    "duration": 11,
    "start_time": "2021-11-23T14:42:12.082Z"
   },
   {
    "duration": 47,
    "start_time": "2021-11-23T14:42:12.098Z"
   },
   {
    "duration": 10,
    "start_time": "2021-11-23T14:42:12.148Z"
   },
   {
    "duration": 28,
    "start_time": "2021-11-23T14:42:12.160Z"
   },
   {
    "duration": 5,
    "start_time": "2021-11-23T14:42:12.190Z"
   },
   {
    "duration": 42,
    "start_time": "2021-11-23T14:42:12.197Z"
   },
   {
    "duration": 36,
    "start_time": "2021-11-23T14:42:12.242Z"
   },
   {
    "duration": 8,
    "start_time": "2021-11-23T14:42:12.280Z"
   },
   {
    "duration": 44,
    "start_time": "2021-11-23T14:42:12.290Z"
   },
   {
    "duration": 13,
    "start_time": "2021-11-23T14:42:12.336Z"
   },
   {
    "duration": 17,
    "start_time": "2021-11-23T14:42:12.351Z"
   },
   {
    "duration": 22,
    "start_time": "2021-11-23T14:42:12.371Z"
   },
   {
    "duration": 38,
    "start_time": "2021-11-23T14:42:12.395Z"
   },
   {
    "duration": 14,
    "start_time": "2021-11-23T14:42:12.435Z"
   },
   {
    "duration": 14,
    "start_time": "2021-11-23T14:42:12.452Z"
   },
   {
    "duration": 14,
    "start_time": "2021-11-23T14:42:12.469Z"
   },
   {
    "duration": 17,
    "start_time": "2021-11-23T14:42:12.485Z"
   },
   {
    "duration": 37,
    "start_time": "2021-11-23T14:42:12.505Z"
   },
   {
    "duration": 36,
    "start_time": "2021-11-23T14:42:12.544Z"
   },
   {
    "duration": 13,
    "start_time": "2021-11-23T14:42:12.583Z"
   },
   {
    "duration": 25,
    "start_time": "2021-11-23T14:42:12.599Z"
   },
   {
    "duration": 24,
    "start_time": "2021-11-23T14:42:12.626Z"
   },
   {
    "duration": 22,
    "start_time": "2021-11-23T14:42:12.652Z"
   },
   {
    "duration": 302,
    "start_time": "2021-11-23T14:42:12.676Z"
   },
   {
    "duration": 29,
    "start_time": "2021-11-23T14:42:12.980Z"
   },
   {
    "duration": 469,
    "start_time": "2021-11-23T14:42:13.012Z"
   },
   {
    "duration": 5,
    "start_time": "2021-11-23T14:42:13.483Z"
   },
   {
    "duration": 321,
    "start_time": "2021-11-23T14:42:13.490Z"
   },
   {
    "duration": -107,
    "start_time": "2021-11-23T14:42:13.920Z"
   },
   {
    "duration": -110,
    "start_time": "2021-11-23T14:42:13.925Z"
   },
   {
    "duration": -113,
    "start_time": "2021-11-23T14:42:13.929Z"
   },
   {
    "duration": -121,
    "start_time": "2021-11-23T14:42:13.938Z"
   },
   {
    "duration": -124,
    "start_time": "2021-11-23T14:42:13.942Z"
   },
   {
    "duration": -126,
    "start_time": "2021-11-23T14:42:13.946Z"
   },
   {
    "duration": -129,
    "start_time": "2021-11-23T14:42:13.950Z"
   },
   {
    "duration": -131,
    "start_time": "2021-11-23T14:42:13.954Z"
   },
   {
    "duration": -134,
    "start_time": "2021-11-23T14:42:13.958Z"
   },
   {
    "duration": -142,
    "start_time": "2021-11-23T14:42:13.967Z"
   },
   {
    "duration": -144,
    "start_time": "2021-11-23T14:42:13.971Z"
   },
   {
    "duration": -146,
    "start_time": "2021-11-23T14:42:13.974Z"
   },
   {
    "duration": -149,
    "start_time": "2021-11-23T14:42:13.978Z"
   },
   {
    "duration": -151,
    "start_time": "2021-11-23T14:42:13.981Z"
   },
   {
    "duration": -154,
    "start_time": "2021-11-23T14:42:13.985Z"
   },
   {
    "duration": -155,
    "start_time": "2021-11-23T14:42:13.988Z"
   },
   {
    "duration": -157,
    "start_time": "2021-11-23T14:42:13.991Z"
   },
   {
    "duration": -160,
    "start_time": "2021-11-23T14:42:13.995Z"
   },
   {
    "duration": 5,
    "start_time": "2021-11-23T14:44:06.081Z"
   },
   {
    "duration": 559,
    "start_time": "2021-11-23T14:44:06.088Z"
   },
   {
    "duration": 13,
    "start_time": "2021-11-23T14:44:06.650Z"
   },
   {
    "duration": 20,
    "start_time": "2021-11-23T14:44:06.666Z"
   },
   {
    "duration": 54,
    "start_time": "2021-11-23T14:44:06.689Z"
   },
   {
    "duration": 33,
    "start_time": "2021-11-23T14:44:06.745Z"
   },
   {
    "duration": 36,
    "start_time": "2021-11-23T14:44:06.781Z"
   },
   {
    "duration": 35,
    "start_time": "2021-11-23T14:44:06.823Z"
   },
   {
    "duration": 31,
    "start_time": "2021-11-23T14:44:06.863Z"
   },
   {
    "duration": 103,
    "start_time": "2021-11-23T14:44:06.897Z"
   },
   {
    "duration": 12,
    "start_time": "2021-11-23T14:44:07.004Z"
   },
   {
    "duration": 35,
    "start_time": "2021-11-23T14:44:07.030Z"
   },
   {
    "duration": 8,
    "start_time": "2021-11-23T14:44:07.068Z"
   },
   {
    "duration": 41,
    "start_time": "2021-11-23T14:44:07.079Z"
   },
   {
    "duration": 20,
    "start_time": "2021-11-23T14:44:07.122Z"
   },
   {
    "duration": 101,
    "start_time": "2021-11-23T14:44:07.144Z"
   },
   {
    "duration": 24,
    "start_time": "2021-11-23T14:44:07.248Z"
   },
   {
    "duration": 19,
    "start_time": "2021-11-23T14:44:07.275Z"
   },
   {
    "duration": 41,
    "start_time": "2021-11-23T14:44:07.296Z"
   },
   {
    "duration": 158,
    "start_time": "2021-11-23T14:44:07.339Z"
   },
   {
    "duration": 33,
    "start_time": "2021-11-23T14:44:07.500Z"
   },
   {
    "duration": 31,
    "start_time": "2021-11-23T14:44:07.536Z"
   },
   {
    "duration": 20,
    "start_time": "2021-11-23T14:44:07.573Z"
   },
   {
    "duration": 42,
    "start_time": "2021-11-23T14:44:07.596Z"
   },
   {
    "duration": 10,
    "start_time": "2021-11-23T14:44:07.641Z"
   },
   {
    "duration": 69,
    "start_time": "2021-11-23T14:44:07.653Z"
   },
   {
    "duration": 4,
    "start_time": "2021-11-23T14:44:07.725Z"
   },
   {
    "duration": 28,
    "start_time": "2021-11-23T14:44:07.731Z"
   },
   {
    "duration": 32,
    "start_time": "2021-11-23T14:44:07.762Z"
   },
   {
    "duration": 9,
    "start_time": "2021-11-23T14:44:07.796Z"
   },
   {
    "duration": 32,
    "start_time": "2021-11-23T14:44:07.807Z"
   },
   {
    "duration": 32,
    "start_time": "2021-11-23T14:44:07.841Z"
   },
   {
    "duration": 48,
    "start_time": "2021-11-23T14:44:07.876Z"
   },
   {
    "duration": 37,
    "start_time": "2021-11-23T14:44:07.927Z"
   },
   {
    "duration": 57,
    "start_time": "2021-11-23T14:44:07.966Z"
   },
   {
    "duration": 33,
    "start_time": "2021-11-23T14:44:08.026Z"
   },
   {
    "duration": 45,
    "start_time": "2021-11-23T14:44:08.062Z"
   },
   {
    "duration": 39,
    "start_time": "2021-11-23T14:44:08.110Z"
   },
   {
    "duration": 25,
    "start_time": "2021-11-23T14:44:08.151Z"
   },
   {
    "duration": 22,
    "start_time": "2021-11-23T14:44:08.179Z"
   },
   {
    "duration": 48,
    "start_time": "2021-11-23T14:44:08.203Z"
   },
   {
    "duration": 49,
    "start_time": "2021-11-23T14:44:08.254Z"
   },
   {
    "duration": 19,
    "start_time": "2021-11-23T14:44:08.306Z"
   },
   {
    "duration": 27,
    "start_time": "2021-11-23T14:44:08.328Z"
   },
   {
    "duration": 19,
    "start_time": "2021-11-23T14:44:08.358Z"
   },
   {
    "duration": 40,
    "start_time": "2021-11-23T14:44:08.380Z"
   },
   {
    "duration": 406,
    "start_time": "2021-11-23T14:44:08.423Z"
   },
   {
    "duration": 18,
    "start_time": "2021-11-23T14:44:08.831Z"
   },
   {
    "duration": 440,
    "start_time": "2021-11-23T14:44:08.852Z"
   },
   {
    "duration": 5,
    "start_time": "2021-11-23T14:44:09.295Z"
   },
   {
    "duration": 353,
    "start_time": "2021-11-23T14:44:09.302Z"
   },
   {
    "duration": -112,
    "start_time": "2021-11-23T14:44:09.769Z"
   },
   {
    "duration": -123,
    "start_time": "2021-11-23T14:44:09.782Z"
   },
   {
    "duration": -131,
    "start_time": "2021-11-23T14:44:09.791Z"
   },
   {
    "duration": -138,
    "start_time": "2021-11-23T14:44:09.799Z"
   },
   {
    "duration": -145,
    "start_time": "2021-11-23T14:44:09.808Z"
   },
   {
    "duration": -153,
    "start_time": "2021-11-23T14:44:09.817Z"
   },
   {
    "duration": -162,
    "start_time": "2021-11-23T14:44:09.827Z"
   },
   {
    "duration": -168,
    "start_time": "2021-11-23T14:44:09.834Z"
   },
   {
    "duration": -174,
    "start_time": "2021-11-23T14:44:09.842Z"
   },
   {
    "duration": -180,
    "start_time": "2021-11-23T14:44:09.849Z"
   },
   {
    "duration": -185,
    "start_time": "2021-11-23T14:44:09.856Z"
   },
   {
    "duration": -188,
    "start_time": "2021-11-23T14:44:09.860Z"
   },
   {
    "duration": -195,
    "start_time": "2021-11-23T14:44:09.869Z"
   },
   {
    "duration": -200,
    "start_time": "2021-11-23T14:44:09.875Z"
   },
   {
    "duration": -207,
    "start_time": "2021-11-23T14:44:09.883Z"
   },
   {
    "duration": -212,
    "start_time": "2021-11-23T14:44:09.890Z"
   },
   {
    "duration": -214,
    "start_time": "2021-11-23T14:44:09.894Z"
   },
   {
    "duration": -221,
    "start_time": "2021-11-23T14:44:09.902Z"
   },
   {
    "duration": 8078,
    "start_time": "2021-11-23T14:46:09.179Z"
   },
   {
    "duration": 5,
    "start_time": "2021-11-23T14:46:25.740Z"
   },
   {
    "duration": 545,
    "start_time": "2021-11-23T14:46:25.748Z"
   },
   {
    "duration": 14,
    "start_time": "2021-11-23T14:46:26.296Z"
   },
   {
    "duration": 8,
    "start_time": "2021-11-23T14:46:26.329Z"
   },
   {
    "duration": 19,
    "start_time": "2021-11-23T14:46:26.340Z"
   },
   {
    "duration": 19,
    "start_time": "2021-11-23T14:46:26.361Z"
   },
   {
    "duration": 23,
    "start_time": "2021-11-23T14:46:26.383Z"
   },
   {
    "duration": 37,
    "start_time": "2021-11-23T14:46:26.409Z"
   },
   {
    "duration": 12,
    "start_time": "2021-11-23T14:46:26.450Z"
   },
   {
    "duration": 37,
    "start_time": "2021-11-23T14:46:26.464Z"
   },
   {
    "duration": 10,
    "start_time": "2021-11-23T14:46:26.504Z"
   },
   {
    "duration": 40,
    "start_time": "2021-11-23T14:46:26.517Z"
   },
   {
    "duration": 8,
    "start_time": "2021-11-23T14:46:26.560Z"
   },
   {
    "duration": 29,
    "start_time": "2021-11-23T14:46:26.570Z"
   },
   {
    "duration": 4,
    "start_time": "2021-11-23T14:46:26.630Z"
   },
   {
    "duration": 109,
    "start_time": "2021-11-23T14:46:26.636Z"
   },
   {
    "duration": 23,
    "start_time": "2021-11-23T14:46:26.747Z"
   },
   {
    "duration": 11,
    "start_time": "2021-11-23T14:46:26.773Z"
   },
   {
    "duration": 16,
    "start_time": "2021-11-23T14:46:26.786Z"
   },
   {
    "duration": 160,
    "start_time": "2021-11-23T14:46:26.804Z"
   },
   {
    "duration": 22,
    "start_time": "2021-11-23T14:46:26.966Z"
   },
   {
    "duration": 52,
    "start_time": "2021-11-23T14:46:26.990Z"
   },
   {
    "duration": 12,
    "start_time": "2021-11-23T14:46:27.048Z"
   },
   {
    "duration": 21,
    "start_time": "2021-11-23T14:46:27.063Z"
   },
   {
    "duration": 10,
    "start_time": "2021-11-23T14:46:27.087Z"
   },
   {
    "duration": 59,
    "start_time": "2021-11-23T14:46:27.099Z"
   },
   {
    "duration": 5,
    "start_time": "2021-11-23T14:46:27.160Z"
   },
   {
    "duration": 14,
    "start_time": "2021-11-23T14:46:27.168Z"
   },
   {
    "duration": 62,
    "start_time": "2021-11-23T14:46:27.185Z"
   },
   {
    "duration": 9,
    "start_time": "2021-11-23T14:46:27.250Z"
   },
   {
    "duration": 7,
    "start_time": "2021-11-23T14:46:27.262Z"
   },
   {
    "duration": 13,
    "start_time": "2021-11-23T14:46:27.272Z"
   },
   {
    "duration": 52,
    "start_time": "2021-11-23T14:46:27.288Z"
   },
   {
    "duration": 17,
    "start_time": "2021-11-23T14:46:27.342Z"
   },
   {
    "duration": 15,
    "start_time": "2021-11-23T14:46:27.361Z"
   },
   {
    "duration": 14,
    "start_time": "2021-11-23T14:46:27.378Z"
   },
   {
    "duration": 47,
    "start_time": "2021-11-23T14:46:27.394Z"
   },
   {
    "duration": 20,
    "start_time": "2021-11-23T14:46:27.444Z"
   },
   {
    "duration": 11,
    "start_time": "2021-11-23T14:46:27.466Z"
   },
   {
    "duration": 8691,
    "start_time": "2021-11-23T14:46:27.479Z"
   },
   {
    "duration": -131,
    "start_time": "2021-11-23T14:46:36.303Z"
   },
   {
    "duration": -133,
    "start_time": "2021-11-23T14:46:36.307Z"
   },
   {
    "duration": -136,
    "start_time": "2021-11-23T14:46:36.311Z"
   },
   {
    "duration": -139,
    "start_time": "2021-11-23T14:46:36.315Z"
   },
   {
    "duration": -141,
    "start_time": "2021-11-23T14:46:36.318Z"
   },
   {
    "duration": -143,
    "start_time": "2021-11-23T14:46:36.322Z"
   },
   {
    "duration": -145,
    "start_time": "2021-11-23T14:46:36.325Z"
   },
   {
    "duration": -148,
    "start_time": "2021-11-23T14:46:36.329Z"
   },
   {
    "duration": -150,
    "start_time": "2021-11-23T14:46:36.332Z"
   },
   {
    "duration": -153,
    "start_time": "2021-11-23T14:46:36.336Z"
   },
   {
    "duration": -154,
    "start_time": "2021-11-23T14:46:36.339Z"
   },
   {
    "duration": -157,
    "start_time": "2021-11-23T14:46:36.343Z"
   },
   {
    "duration": -160,
    "start_time": "2021-11-23T14:46:36.347Z"
   },
   {
    "duration": -166,
    "start_time": "2021-11-23T14:46:36.355Z"
   },
   {
    "duration": -169,
    "start_time": "2021-11-23T14:46:36.359Z"
   },
   {
    "duration": -172,
    "start_time": "2021-11-23T14:46:36.363Z"
   },
   {
    "duration": -173,
    "start_time": "2021-11-23T14:46:36.366Z"
   },
   {
    "duration": -175,
    "start_time": "2021-11-23T14:46:36.370Z"
   },
   {
    "duration": -177,
    "start_time": "2021-11-23T14:46:36.373Z"
   },
   {
    "duration": -180,
    "start_time": "2021-11-23T14:46:36.377Z"
   },
   {
    "duration": -182,
    "start_time": "2021-11-23T14:46:36.381Z"
   },
   {
    "duration": -184,
    "start_time": "2021-11-23T14:46:36.384Z"
   },
   {
    "duration": -186,
    "start_time": "2021-11-23T14:46:36.388Z"
   },
   {
    "duration": -188,
    "start_time": "2021-11-23T14:46:36.391Z"
   },
   {
    "duration": -190,
    "start_time": "2021-11-23T14:46:36.395Z"
   },
   {
    "duration": -192,
    "start_time": "2021-11-23T14:46:36.398Z"
   },
   {
    "duration": -194,
    "start_time": "2021-11-23T14:46:36.402Z"
   },
   {
    "duration": -196,
    "start_time": "2021-11-23T14:46:36.405Z"
   },
   {
    "duration": -202,
    "start_time": "2021-11-23T14:46:36.413Z"
   },
   {
    "duration": 12,
    "start_time": "2021-11-23T14:47:59.502Z"
   },
   {
    "duration": 15,
    "start_time": "2021-11-23T14:48:19.023Z"
   },
   {
    "duration": 12144,
    "start_time": "2021-11-23T14:59:01.697Z"
   },
   {
    "duration": 623,
    "start_time": "2021-11-23T15:01:53.585Z"
   },
   {
    "duration": 5,
    "start_time": "2021-11-23T15:17:50.299Z"
   },
   {
    "duration": 557,
    "start_time": "2021-11-23T15:17:50.307Z"
   },
   {
    "duration": 15,
    "start_time": "2021-11-23T15:17:50.867Z"
   },
   {
    "duration": 15,
    "start_time": "2021-11-23T15:17:50.886Z"
   },
   {
    "duration": 33,
    "start_time": "2021-11-23T15:17:50.903Z"
   },
   {
    "duration": 14,
    "start_time": "2021-11-23T15:17:50.939Z"
   },
   {
    "duration": 13,
    "start_time": "2021-11-23T15:17:50.956Z"
   },
   {
    "duration": 23,
    "start_time": "2021-11-23T15:17:50.972Z"
   },
   {
    "duration": 44,
    "start_time": "2021-11-23T15:17:50.999Z"
   },
   {
    "duration": 25,
    "start_time": "2021-11-23T15:17:51.048Z"
   },
   {
    "duration": 11,
    "start_time": "2021-11-23T15:17:51.076Z"
   },
   {
    "duration": 63,
    "start_time": "2021-11-23T15:17:51.089Z"
   },
   {
    "duration": 8,
    "start_time": "2021-11-23T15:17:51.154Z"
   },
   {
    "duration": 23,
    "start_time": "2021-11-23T15:17:51.164Z"
   },
   {
    "duration": 9,
    "start_time": "2021-11-23T15:17:51.189Z"
   },
   {
    "duration": 115,
    "start_time": "2021-11-23T15:17:51.200Z"
   },
   {
    "duration": 32,
    "start_time": "2021-11-23T15:17:51.318Z"
   },
   {
    "duration": 11,
    "start_time": "2021-11-23T15:17:51.352Z"
   },
   {
    "duration": 6,
    "start_time": "2021-11-23T15:17:51.366Z"
   },
   {
    "duration": 156,
    "start_time": "2021-11-23T15:17:51.374Z"
   },
   {
    "duration": 19,
    "start_time": "2021-11-23T15:17:51.532Z"
   },
   {
    "duration": 29,
    "start_time": "2021-11-23T15:17:51.554Z"
   },
   {
    "duration": 11,
    "start_time": "2021-11-23T15:17:51.586Z"
   },
   {
    "duration": 51,
    "start_time": "2021-11-23T15:17:51.599Z"
   },
   {
    "duration": 8,
    "start_time": "2021-11-23T15:17:51.653Z"
   },
   {
    "duration": 26,
    "start_time": "2021-11-23T15:17:51.663Z"
   },
   {
    "duration": 32,
    "start_time": "2021-11-23T15:17:51.697Z"
   },
   {
    "duration": 13,
    "start_time": "2021-11-23T15:17:51.734Z"
   },
   {
    "duration": 27,
    "start_time": "2021-11-23T15:17:51.750Z"
   },
   {
    "duration": 8,
    "start_time": "2021-11-23T15:17:51.779Z"
   },
   {
    "duration": 4,
    "start_time": "2021-11-23T15:17:51.830Z"
   },
   {
    "duration": 13,
    "start_time": "2021-11-23T15:17:51.837Z"
   },
   {
    "duration": 14,
    "start_time": "2021-11-23T15:17:51.852Z"
   },
   {
    "duration": 20,
    "start_time": "2021-11-23T15:17:51.868Z"
   },
   {
    "duration": 15,
    "start_time": "2021-11-23T15:17:51.929Z"
   },
   {
    "duration": 16,
    "start_time": "2021-11-23T15:17:51.946Z"
   },
   {
    "duration": 17,
    "start_time": "2021-11-23T15:17:51.964Z"
   },
   {
    "duration": 46,
    "start_time": "2021-11-23T15:17:51.983Z"
   },
   {
    "duration": 4,
    "start_time": "2021-11-23T15:17:52.032Z"
   },
   {
    "duration": 20,
    "start_time": "2021-11-23T15:17:52.039Z"
   },
   {
    "duration": 13,
    "start_time": "2021-11-23T15:17:52.062Z"
   },
   {
    "duration": 659,
    "start_time": "2021-11-23T15:17:52.078Z"
   },
   {
    "duration": 19,
    "start_time": "2021-11-23T15:17:52.740Z"
   },
   {
    "duration": 5,
    "start_time": "2021-11-23T15:17:52.762Z"
   },
   {
    "duration": 20,
    "start_time": "2021-11-23T15:17:52.770Z"
   },
   {
    "duration": 13,
    "start_time": "2021-11-23T15:17:52.792Z"
   },
   {
    "duration": 23,
    "start_time": "2021-11-23T15:17:52.807Z"
   },
   {
    "duration": 304,
    "start_time": "2021-11-23T15:17:52.832Z"
   },
   {
    "duration": 20,
    "start_time": "2021-11-23T15:17:53.138Z"
   },
   {
    "duration": 472,
    "start_time": "2021-11-23T15:17:53.160Z"
   },
   {
    "duration": 5,
    "start_time": "2021-11-23T15:17:53.635Z"
   },
   {
    "duration": 1132,
    "start_time": "2021-11-23T15:17:53.643Z"
   },
   {
    "duration": -132,
    "start_time": "2021-11-23T15:17:54.911Z"
   },
   {
    "duration": -140,
    "start_time": "2021-11-23T15:17:54.921Z"
   },
   {
    "duration": -151,
    "start_time": "2021-11-23T15:17:54.934Z"
   },
   {
    "duration": -156,
    "start_time": "2021-11-23T15:17:54.942Z"
   },
   {
    "duration": -163,
    "start_time": "2021-11-23T15:17:54.951Z"
   },
   {
    "duration": -170,
    "start_time": "2021-11-23T15:17:54.960Z"
   },
   {
    "duration": -177,
    "start_time": "2021-11-23T15:17:54.969Z"
   },
   {
    "duration": -192,
    "start_time": "2021-11-23T15:17:54.986Z"
   },
   {
    "duration": -201,
    "start_time": "2021-11-23T15:17:54.997Z"
   },
   {
    "duration": -202,
    "start_time": "2021-11-23T15:17:55.000Z"
   },
   {
    "duration": -204,
    "start_time": "2021-11-23T15:17:55.004Z"
   },
   {
    "duration": -204,
    "start_time": "2021-11-23T15:17:55.007Z"
   },
   {
    "duration": -206,
    "start_time": "2021-11-23T15:17:55.010Z"
   },
   {
    "duration": -207,
    "start_time": "2021-11-23T15:17:55.014Z"
   },
   {
    "duration": -208,
    "start_time": "2021-11-23T15:17:55.017Z"
   },
   {
    "duration": -210,
    "start_time": "2021-11-23T15:17:55.021Z"
   },
   {
    "duration": -211,
    "start_time": "2021-11-23T15:17:55.024Z"
   },
   {
    "duration": -213,
    "start_time": "2021-11-23T15:17:55.028Z"
   },
   {
    "duration": 4,
    "start_time": "2021-11-23T15:26:21.148Z"
   },
   {
    "duration": 548,
    "start_time": "2021-11-23T15:26:21.155Z"
   },
   {
    "duration": 24,
    "start_time": "2021-11-23T15:26:21.707Z"
   },
   {
    "duration": 10,
    "start_time": "2021-11-23T15:26:21.734Z"
   },
   {
    "duration": 12,
    "start_time": "2021-11-23T15:26:21.746Z"
   },
   {
    "duration": 10,
    "start_time": "2021-11-23T15:26:21.760Z"
   },
   {
    "duration": 13,
    "start_time": "2021-11-23T15:26:21.772Z"
   },
   {
    "duration": 64,
    "start_time": "2021-11-23T15:26:21.787Z"
   },
   {
    "duration": 13,
    "start_time": "2021-11-23T15:26:21.857Z"
   },
   {
    "duration": 55,
    "start_time": "2021-11-23T15:26:21.874Z"
   },
   {
    "duration": 13,
    "start_time": "2021-11-23T15:26:21.932Z"
   },
   {
    "duration": 28,
    "start_time": "2021-11-23T15:26:21.947Z"
   },
   {
    "duration": 7,
    "start_time": "2021-11-23T15:26:21.978Z"
   },
   {
    "duration": 51,
    "start_time": "2021-11-23T15:26:21.988Z"
   },
   {
    "duration": 4,
    "start_time": "2021-11-23T15:26:22.042Z"
   },
   {
    "duration": 113,
    "start_time": "2021-11-23T15:26:22.048Z"
   },
   {
    "duration": 25,
    "start_time": "2021-11-23T15:26:22.164Z"
   },
   {
    "duration": 10,
    "start_time": "2021-11-23T15:26:22.192Z"
   },
   {
    "duration": 25,
    "start_time": "2021-11-23T15:26:22.205Z"
   },
   {
    "duration": 138,
    "start_time": "2021-11-23T15:26:22.232Z"
   },
   {
    "duration": 19,
    "start_time": "2021-11-23T15:26:22.372Z"
   },
   {
    "duration": 56,
    "start_time": "2021-11-23T15:26:22.393Z"
   },
   {
    "duration": 13,
    "start_time": "2021-11-23T15:26:22.452Z"
   },
   {
    "duration": 24,
    "start_time": "2021-11-23T15:26:22.467Z"
   },
   {
    "duration": 39,
    "start_time": "2021-11-23T15:26:22.494Z"
   },
   {
    "duration": 28,
    "start_time": "2021-11-23T15:26:22.536Z"
   },
   {
    "duration": 5,
    "start_time": "2021-11-23T15:26:22.570Z"
   },
   {
    "duration": 10,
    "start_time": "2021-11-23T15:26:22.580Z"
   },
   {
    "duration": 58,
    "start_time": "2021-11-23T15:26:22.593Z"
   },
   {
    "duration": 9,
    "start_time": "2021-11-23T15:26:22.654Z"
   },
   {
    "duration": 9,
    "start_time": "2021-11-23T15:26:22.665Z"
   },
   {
    "duration": 11,
    "start_time": "2021-11-23T15:26:22.676Z"
   },
   {
    "duration": 46,
    "start_time": "2021-11-23T15:26:22.690Z"
   },
   {
    "duration": 20,
    "start_time": "2021-11-23T15:26:22.738Z"
   },
   {
    "duration": 13,
    "start_time": "2021-11-23T15:26:22.760Z"
   },
   {
    "duration": 12,
    "start_time": "2021-11-23T15:26:22.776Z"
   },
   {
    "duration": 48,
    "start_time": "2021-11-23T15:26:22.790Z"
   },
   {
    "duration": 16,
    "start_time": "2021-11-23T15:26:22.841Z"
   },
   {
    "duration": 8,
    "start_time": "2021-11-23T15:26:22.859Z"
   },
   {
    "duration": 19,
    "start_time": "2021-11-23T15:26:22.869Z"
   },
   {
    "duration": 44,
    "start_time": "2021-11-23T15:26:22.891Z"
   },
   {
    "duration": 665,
    "start_time": "2021-11-23T15:26:22.937Z"
   },
   {
    "duration": 25,
    "start_time": "2021-11-23T15:26:23.605Z"
   },
   {
    "duration": 10,
    "start_time": "2021-11-23T15:26:23.632Z"
   },
   {
    "duration": 25,
    "start_time": "2021-11-23T15:26:23.644Z"
   },
   {
    "duration": 17,
    "start_time": "2021-11-23T15:26:23.671Z"
   },
   {
    "duration": 18,
    "start_time": "2021-11-23T15:26:23.690Z"
   },
   {
    "duration": 297,
    "start_time": "2021-11-23T15:26:23.710Z"
   },
   {
    "duration": 23,
    "start_time": "2021-11-23T15:26:24.009Z"
   },
   {
    "duration": 443,
    "start_time": "2021-11-23T15:26:24.035Z"
   },
   {
    "duration": 5,
    "start_time": "2021-11-23T15:26:24.481Z"
   },
   {
    "duration": 562,
    "start_time": "2021-11-23T15:26:24.488Z"
   },
   {
    "duration": -147,
    "start_time": "2021-11-23T15:26:25.200Z"
   },
   {
    "duration": -153,
    "start_time": "2021-11-23T15:26:25.207Z"
   },
   {
    "duration": -156,
    "start_time": "2021-11-23T15:26:25.211Z"
   },
   {
    "duration": -159,
    "start_time": "2021-11-23T15:26:25.216Z"
   },
   {
    "duration": -162,
    "start_time": "2021-11-23T15:26:25.220Z"
   },
   {
    "duration": -171,
    "start_time": "2021-11-23T15:26:25.230Z"
   },
   {
    "duration": -175,
    "start_time": "2021-11-23T15:26:25.236Z"
   },
   {
    "duration": -179,
    "start_time": "2021-11-23T15:26:25.241Z"
   },
   {
    "duration": -182,
    "start_time": "2021-11-23T15:26:25.245Z"
   },
   {
    "duration": -185,
    "start_time": "2021-11-23T15:26:25.250Z"
   },
   {
    "duration": -189,
    "start_time": "2021-11-23T15:26:25.255Z"
   },
   {
    "duration": -192,
    "start_time": "2021-11-23T15:26:25.260Z"
   },
   {
    "duration": -195,
    "start_time": "2021-11-23T15:26:25.264Z"
   },
   {
    "duration": -197,
    "start_time": "2021-11-23T15:26:25.269Z"
   },
   {
    "duration": -198,
    "start_time": "2021-11-23T15:26:25.272Z"
   },
   {
    "duration": -201,
    "start_time": "2021-11-23T15:26:25.276Z"
   },
   {
    "duration": -202,
    "start_time": "2021-11-23T15:26:25.279Z"
   },
   {
    "duration": -205,
    "start_time": "2021-11-23T15:26:25.283Z"
   },
   {
    "duration": 4467,
    "start_time": "2021-11-23T15:42:39.427Z"
   },
   {
    "duration": 578,
    "start_time": "2021-11-23T15:46:18.540Z"
   },
   {
    "duration": 678,
    "start_time": "2021-11-23T15:50:11.935Z"
   },
   {
    "duration": 5,
    "start_time": "2021-11-23T16:09:53.751Z"
   },
   {
    "duration": 762,
    "start_time": "2021-11-23T16:09:53.758Z"
   },
   {
    "duration": 21,
    "start_time": "2021-11-23T16:09:54.524Z"
   },
   {
    "duration": 17,
    "start_time": "2021-11-23T16:09:54.548Z"
   },
   {
    "duration": 24,
    "start_time": "2021-11-23T16:09:54.568Z"
   },
   {
    "duration": 26,
    "start_time": "2021-11-23T16:09:54.594Z"
   },
   {
    "duration": 15,
    "start_time": "2021-11-23T16:09:54.623Z"
   },
   {
    "duration": 19,
    "start_time": "2021-11-23T16:09:54.642Z"
   },
   {
    "duration": 12,
    "start_time": "2021-11-23T16:09:54.664Z"
   },
   {
    "duration": 64,
    "start_time": "2021-11-23T16:09:54.679Z"
   },
   {
    "duration": 11,
    "start_time": "2021-11-23T16:09:54.746Z"
   },
   {
    "duration": 30,
    "start_time": "2021-11-23T16:09:54.759Z"
   },
   {
    "duration": 38,
    "start_time": "2021-11-23T16:09:54.791Z"
   },
   {
    "duration": 16,
    "start_time": "2021-11-23T16:09:54.832Z"
   },
   {
    "duration": 7,
    "start_time": "2021-11-23T16:09:54.851Z"
   },
   {
    "duration": 121,
    "start_time": "2021-11-23T16:09:54.860Z"
   },
   {
    "duration": 24,
    "start_time": "2021-11-23T16:09:54.983Z"
   },
   {
    "duration": 28,
    "start_time": "2021-11-23T16:09:55.009Z"
   },
   {
    "duration": 5,
    "start_time": "2021-11-23T16:09:55.039Z"
   },
   {
    "duration": 153,
    "start_time": "2021-11-23T16:09:55.046Z"
   },
   {
    "duration": 29,
    "start_time": "2021-11-23T16:09:55.201Z"
   },
   {
    "duration": 35,
    "start_time": "2021-11-23T16:09:55.232Z"
   },
   {
    "duration": 11,
    "start_time": "2021-11-23T16:09:55.273Z"
   },
   {
    "duration": 57,
    "start_time": "2021-11-23T16:09:55.287Z"
   },
   {
    "duration": 9,
    "start_time": "2021-11-23T16:09:55.346Z"
   },
   {
    "duration": 38,
    "start_time": "2021-11-23T16:09:55.358Z"
   },
   {
    "duration": 4,
    "start_time": "2021-11-23T16:09:55.398Z"
   },
   {
    "duration": 11,
    "start_time": "2021-11-23T16:09:55.429Z"
   },
   {
    "duration": 35,
    "start_time": "2021-11-23T16:09:55.442Z"
   },
   {
    "duration": 8,
    "start_time": "2021-11-23T16:09:55.479Z"
   },
   {
    "duration": 41,
    "start_time": "2021-11-23T16:09:55.489Z"
   },
   {
    "duration": 9,
    "start_time": "2021-11-23T16:09:55.532Z"
   },
   {
    "duration": 14,
    "start_time": "2021-11-23T16:09:55.544Z"
   },
   {
    "duration": 23,
    "start_time": "2021-11-23T16:09:55.561Z"
   },
   {
    "duration": 62,
    "start_time": "2021-11-23T16:09:55.587Z"
   },
   {
    "duration": 13,
    "start_time": "2021-11-23T16:09:55.652Z"
   },
   {
    "duration": 15,
    "start_time": "2021-11-23T16:09:55.668Z"
   },
   {
    "duration": 45,
    "start_time": "2021-11-23T16:09:55.686Z"
   },
   {
    "duration": 9,
    "start_time": "2021-11-23T16:09:55.734Z"
   },
   {
    "duration": 606,
    "start_time": "2021-11-23T16:09:55.746Z"
   },
   {
    "duration": 17,
    "start_time": "2021-11-23T16:09:56.354Z"
   },
   {
    "duration": 8,
    "start_time": "2021-11-23T16:09:56.374Z"
   },
   {
    "duration": 322,
    "start_time": "2021-11-23T16:09:56.385Z"
   },
   {
    "duration": 24,
    "start_time": "2021-11-23T16:09:56.709Z"
   },
   {
    "duration": 455,
    "start_time": "2021-11-23T16:09:56.736Z"
   },
   {
    "duration": 4,
    "start_time": "2021-11-23T16:09:57.194Z"
   },
   {
    "duration": 314,
    "start_time": "2021-11-23T16:09:57.200Z"
   },
   {
    "duration": -153,
    "start_time": "2021-11-23T16:09:57.669Z"
   },
   {
    "duration": -161,
    "start_time": "2021-11-23T16:09:57.678Z"
   },
   {
    "duration": -162,
    "start_time": "2021-11-23T16:09:57.681Z"
   },
   {
    "duration": -164,
    "start_time": "2021-11-23T16:09:57.684Z"
   },
   {
    "duration": -166,
    "start_time": "2021-11-23T16:09:57.687Z"
   },
   {
    "duration": -168,
    "start_time": "2021-11-23T16:09:57.691Z"
   },
   {
    "duration": -174,
    "start_time": "2021-11-23T16:09:57.699Z"
   },
   {
    "duration": -177,
    "start_time": "2021-11-23T16:09:57.703Z"
   },
   {
    "duration": -178,
    "start_time": "2021-11-23T16:09:57.706Z"
   },
   {
    "duration": -180,
    "start_time": "2021-11-23T16:09:57.709Z"
   },
   {
    "duration": -181,
    "start_time": "2021-11-23T16:09:57.712Z"
   },
   {
    "duration": -183,
    "start_time": "2021-11-23T16:09:57.715Z"
   },
   {
    "duration": -189,
    "start_time": "2021-11-23T16:09:57.723Z"
   },
   {
    "duration": -191,
    "start_time": "2021-11-23T16:09:57.727Z"
   },
   {
    "duration": -193,
    "start_time": "2021-11-23T16:09:57.730Z"
   },
   {
    "duration": -194,
    "start_time": "2021-11-23T16:09:57.733Z"
   },
   {
    "duration": -197,
    "start_time": "2021-11-23T16:09:57.737Z"
   },
   {
    "duration": -198,
    "start_time": "2021-11-23T16:09:57.740Z"
   },
   {
    "duration": 24,
    "start_time": "2021-11-23T16:20:47.421Z"
   },
   {
    "duration": 367,
    "start_time": "2021-11-23T16:46:06.662Z"
   },
   {
    "duration": 347,
    "start_time": "2021-11-23T16:48:19.939Z"
   },
   {
    "duration": 390,
    "start_time": "2021-11-23T16:48:38.068Z"
   },
   {
    "duration": 400,
    "start_time": "2021-11-23T16:48:55.517Z"
   },
   {
    "duration": 653,
    "start_time": "2021-11-23T16:49:10.007Z"
   },
   {
    "duration": 393,
    "start_time": "2021-11-23T16:49:31.531Z"
   },
   {
    "duration": 475,
    "start_time": "2021-11-23T16:49:48.767Z"
   },
   {
    "duration": 279,
    "start_time": "2021-11-23T16:50:54.696Z"
   },
   {
    "duration": 490,
    "start_time": "2021-11-23T16:51:07.821Z"
   },
   {
    "duration": 436,
    "start_time": "2021-11-23T16:52:44.811Z"
   },
   {
    "duration": 342,
    "start_time": "2021-11-23T16:53:55.444Z"
   },
   {
    "duration": 353,
    "start_time": "2021-11-23T16:54:52.340Z"
   },
   {
    "duration": 351,
    "start_time": "2021-11-23T16:55:58.249Z"
   },
   {
    "duration": 384,
    "start_time": "2021-11-23T16:56:36.530Z"
   },
   {
    "duration": 433,
    "start_time": "2021-11-23T16:56:55.020Z"
   },
   {
    "duration": 369,
    "start_time": "2021-11-23T16:57:11.082Z"
   },
   {
    "duration": 390,
    "start_time": "2021-11-23T16:57:33.015Z"
   },
   {
    "duration": 370,
    "start_time": "2021-11-23T16:57:43.800Z"
   },
   {
    "duration": 352,
    "start_time": "2021-11-23T16:58:47.170Z"
   },
   {
    "duration": 355,
    "start_time": "2021-11-23T16:59:07.139Z"
   },
   {
    "duration": 437,
    "start_time": "2021-11-23T16:59:27.346Z"
   },
   {
    "duration": 364,
    "start_time": "2021-11-23T16:59:39.903Z"
   },
   {
    "duration": 370,
    "start_time": "2021-11-23T16:59:55.049Z"
   },
   {
    "duration": 445,
    "start_time": "2021-11-23T17:02:28.847Z"
   },
   {
    "duration": 708,
    "start_time": "2021-11-23T17:05:01.537Z"
   },
   {
    "duration": 470,
    "start_time": "2021-11-23T17:10:01.859Z"
   },
   {
    "duration": 446,
    "start_time": "2021-11-23T17:11:04.196Z"
   },
   {
    "duration": 201,
    "start_time": "2021-11-23T17:11:35.771Z"
   },
   {
    "duration": 442,
    "start_time": "2021-11-23T17:12:18.870Z"
   },
   {
    "duration": 281,
    "start_time": "2021-11-23T17:14:29.382Z"
   },
   {
    "duration": 276,
    "start_time": "2021-11-23T17:16:19.597Z"
   },
   {
    "duration": 282,
    "start_time": "2021-11-23T17:16:34.456Z"
   },
   {
    "duration": 102,
    "start_time": "2021-11-23T17:17:48.079Z"
   },
   {
    "duration": 288,
    "start_time": "2021-11-23T17:17:52.529Z"
   },
   {
    "duration": -203,
    "start_time": "2021-11-23T17:18:34.508Z"
   },
   {
    "duration": -209,
    "start_time": "2021-11-23T17:18:34.516Z"
   },
   {
    "duration": -209,
    "start_time": "2021-11-23T17:18:34.519Z"
   },
   {
    "duration": -210,
    "start_time": "2021-11-23T17:18:34.522Z"
   },
   {
    "duration": -197,
    "start_time": "2021-11-23T17:18:34.526Z"
   },
   {
    "duration": -199,
    "start_time": "2021-11-23T17:18:34.530Z"
   },
   {
    "duration": -204,
    "start_time": "2021-11-23T17:18:34.537Z"
   },
   {
    "duration": -206,
    "start_time": "2021-11-23T17:18:34.541Z"
   },
   {
    "duration": -207,
    "start_time": "2021-11-23T17:18:34.544Z"
   },
   {
    "duration": -208,
    "start_time": "2021-11-23T17:18:34.547Z"
   },
   {
    "duration": -214,
    "start_time": "2021-11-23T17:18:34.554Z"
   },
   {
    "duration": -210,
    "start_time": "2021-11-23T17:18:34.557Z"
   },
   {
    "duration": -211,
    "start_time": "2021-11-23T17:18:34.560Z"
   },
   {
    "duration": -214,
    "start_time": "2021-11-23T17:18:34.564Z"
   },
   {
    "duration": -215,
    "start_time": "2021-11-23T17:18:34.567Z"
   },
   {
    "duration": -217,
    "start_time": "2021-11-23T17:18:34.570Z"
   },
   {
    "duration": -218,
    "start_time": "2021-11-23T17:18:34.573Z"
   },
   {
    "duration": -251,
    "start_time": "2021-11-23T17:18:34.607Z"
   },
   {
    "duration": -599,
    "start_time": "2021-11-23T17:18:34.957Z"
   },
   {
    "duration": -605,
    "start_time": "2021-11-23T17:18:34.964Z"
   },
   {
    "duration": -607,
    "start_time": "2021-11-23T17:18:34.967Z"
   },
   {
    "duration": -609,
    "start_time": "2021-11-23T17:18:34.970Z"
   },
   {
    "duration": -610,
    "start_time": "2021-11-23T17:18:34.973Z"
   },
   {
    "duration": -613,
    "start_time": "2021-11-23T17:18:34.977Z"
   },
   {
    "duration": -615,
    "start_time": "2021-11-23T17:18:34.980Z"
   },
   {
    "duration": -617,
    "start_time": "2021-11-23T17:18:34.983Z"
   },
   {
    "duration": -618,
    "start_time": "2021-11-23T17:18:34.986Z"
   },
   {
    "duration": -848,
    "start_time": "2021-11-23T17:18:35.217Z"
   },
   {
    "duration": -850,
    "start_time": "2021-11-23T17:18:35.220Z"
   },
   {
    "duration": -851,
    "start_time": "2021-11-23T17:18:35.223Z"
   },
   {
    "duration": -797,
    "start_time": "2021-11-23T17:18:35.226Z"
   },
   {
    "duration": -800,
    "start_time": "2021-11-23T17:18:35.230Z"
   },
   {
    "duration": -802,
    "start_time": "2021-11-23T17:18:35.233Z"
   },
   {
    "duration": -803,
    "start_time": "2021-11-23T17:18:35.236Z"
   },
   {
    "duration": -804,
    "start_time": "2021-11-23T17:18:35.239Z"
   },
   {
    "duration": -807,
    "start_time": "2021-11-23T17:18:35.243Z"
   },
   {
    "duration": -806,
    "start_time": "2021-11-23T17:18:35.246Z"
   },
   {
    "duration": -806,
    "start_time": "2021-11-23T17:18:35.249Z"
   },
   {
    "duration": -807,
    "start_time": "2021-11-23T17:18:35.252Z"
   },
   {
    "duration": -809,
    "start_time": "2021-11-23T17:18:35.256Z"
   },
   {
    "duration": -810,
    "start_time": "2021-11-23T17:18:35.259Z"
   },
   {
    "duration": -812,
    "start_time": "2021-11-23T17:18:35.262Z"
   },
   {
    "duration": -813,
    "start_time": "2021-11-23T17:18:35.265Z"
   },
   {
    "duration": -816,
    "start_time": "2021-11-23T17:18:35.269Z"
   },
   {
    "duration": -818,
    "start_time": "2021-11-23T17:18:35.272Z"
   },
   {
    "duration": -820,
    "start_time": "2021-11-23T17:18:35.275Z"
   },
   {
    "duration": -821,
    "start_time": "2021-11-23T17:18:35.278Z"
   },
   {
    "duration": -823,
    "start_time": "2021-11-23T17:18:35.281Z"
   },
   {
    "duration": -825,
    "start_time": "2021-11-23T17:18:35.284Z"
   },
   {
    "duration": -827,
    "start_time": "2021-11-23T17:18:35.288Z"
   },
   {
    "duration": -829,
    "start_time": "2021-11-23T17:18:35.291Z"
   },
   {
    "duration": -831,
    "start_time": "2021-11-23T17:18:35.294Z"
   },
   {
    "duration": -832,
    "start_time": "2021-11-23T17:18:35.297Z"
   },
   {
    "duration": -834,
    "start_time": "2021-11-23T17:18:35.300Z"
   },
   {
    "duration": -836,
    "start_time": "2021-11-23T17:18:35.303Z"
   },
   {
    "duration": -838,
    "start_time": "2021-11-23T17:18:35.307Z"
   },
   {
    "duration": -840,
    "start_time": "2021-11-23T17:18:35.310Z"
   },
   {
    "duration": -841,
    "start_time": "2021-11-23T17:18:35.313Z"
   },
   {
    "duration": -783,
    "start_time": "2021-11-23T17:18:35.316Z"
   },
   {
    "duration": -791,
    "start_time": "2021-11-23T17:18:35.325Z"
   },
   {
    "duration": -792,
    "start_time": "2021-11-23T17:18:35.328Z"
   },
   {
    "duration": -791,
    "start_time": "2021-11-23T17:18:35.331Z"
   },
   {
    "duration": -792,
    "start_time": "2021-11-23T17:18:35.334Z"
   },
   {
    "duration": -795,
    "start_time": "2021-11-23T17:18:35.338Z"
   },
   {
    "duration": -797,
    "start_time": "2021-11-23T17:18:35.341Z"
   },
   {
    "duration": -799,
    "start_time": "2021-11-23T17:18:35.344Z"
   },
   {
    "duration": 5,
    "start_time": "2021-11-23T17:18:54.132Z"
   },
   {
    "duration": 573,
    "start_time": "2021-11-23T17:18:54.140Z"
   },
   {
    "duration": 29,
    "start_time": "2021-11-23T17:18:54.717Z"
   },
   {
    "duration": 16,
    "start_time": "2021-11-23T17:18:54.749Z"
   },
   {
    "duration": 14,
    "start_time": "2021-11-23T17:18:54.767Z"
   },
   {
    "duration": 9,
    "start_time": "2021-11-23T17:18:54.784Z"
   },
   {
    "duration": 44,
    "start_time": "2021-11-23T17:18:54.796Z"
   },
   {
    "duration": 19,
    "start_time": "2021-11-23T17:18:54.843Z"
   },
   {
    "duration": 12,
    "start_time": "2021-11-23T17:18:54.865Z"
   },
   {
    "duration": 24,
    "start_time": "2021-11-23T17:18:54.880Z"
   },
   {
    "duration": 17,
    "start_time": "2021-11-23T17:18:54.929Z"
   },
   {
    "duration": 30,
    "start_time": "2021-11-23T17:18:54.948Z"
   },
   {
    "duration": 7,
    "start_time": "2021-11-23T17:18:54.980Z"
   },
   {
    "duration": 56,
    "start_time": "2021-11-23T17:18:54.989Z"
   },
   {
    "duration": 4,
    "start_time": "2021-11-23T17:18:55.048Z"
   },
   {
    "duration": 106,
    "start_time": "2021-11-23T17:18:55.054Z"
   },
   {
    "duration": 25,
    "start_time": "2021-11-23T17:18:55.162Z"
   },
   {
    "duration": 12,
    "start_time": "2021-11-23T17:18:55.189Z"
   },
   {
    "duration": 35,
    "start_time": "2021-11-23T17:18:55.203Z"
   },
   {
    "duration": 242,
    "start_time": "2021-11-23T17:18:55.241Z"
   },
   {
    "duration": 22,
    "start_time": "2021-11-23T17:18:55.485Z"
   },
   {
    "duration": 39,
    "start_time": "2021-11-23T17:18:55.510Z"
   },
   {
    "duration": 10,
    "start_time": "2021-11-23T17:18:55.552Z"
   },
   {
    "duration": 24,
    "start_time": "2021-11-23T17:18:55.564Z"
   },
   {
    "duration": 46,
    "start_time": "2021-11-23T17:18:55.590Z"
   },
   {
    "duration": 26,
    "start_time": "2021-11-23T17:18:55.644Z"
   },
   {
    "duration": 4,
    "start_time": "2021-11-23T17:18:55.676Z"
   },
   {
    "duration": 13,
    "start_time": "2021-11-23T17:18:55.683Z"
   },
   {
    "duration": 32,
    "start_time": "2021-11-23T17:18:55.730Z"
   },
   {
    "duration": 7,
    "start_time": "2021-11-23T17:18:55.764Z"
   },
   {
    "duration": 6,
    "start_time": "2021-11-23T17:18:55.774Z"
   },
   {
    "duration": 11,
    "start_time": "2021-11-23T17:18:55.782Z"
   },
   {
    "duration": 60,
    "start_time": "2021-11-23T17:18:55.795Z"
   },
   {
    "duration": 17,
    "start_time": "2021-11-23T17:18:55.858Z"
   },
   {
    "duration": 17,
    "start_time": "2021-11-23T17:18:55.877Z"
   },
   {
    "duration": 38,
    "start_time": "2021-11-23T17:18:55.896Z"
   },
   {
    "duration": 22,
    "start_time": "2021-11-23T17:18:55.936Z"
   },
   {
    "duration": 25,
    "start_time": "2021-11-23T17:18:55.961Z"
   },
   {
    "duration": 6,
    "start_time": "2021-11-23T17:18:55.989Z"
   },
   {
    "duration": 648,
    "start_time": "2021-11-23T17:18:55.998Z"
   },
   {
    "duration": 20,
    "start_time": "2021-11-23T17:18:56.648Z"
   },
   {
    "duration": 6,
    "start_time": "2021-11-23T17:18:56.671Z"
   },
   {
    "duration": 338,
    "start_time": "2021-11-23T17:18:56.680Z"
   },
   {
    "duration": 25,
    "start_time": "2021-11-23T17:18:57.020Z"
   },
   {
    "duration": 465,
    "start_time": "2021-11-23T17:18:57.047Z"
   },
   {
    "duration": 26235,
    "start_time": "2021-11-23T17:18:57.515Z"
   },
   {
    "duration": 496,
    "start_time": "2021-11-23T17:19:23.753Z"
   },
   {
    "duration": 5,
    "start_time": "2021-11-23T17:19:24.252Z"
   },
   {
    "duration": 569,
    "start_time": "2021-11-23T17:19:24.260Z"
   },
   {
    "duration": 483,
    "start_time": "2021-11-23T17:19:24.831Z"
   },
   {
    "duration": 314,
    "start_time": "2021-11-23T17:19:25.316Z"
   },
   {
    "duration": -192,
    "start_time": "2021-11-23T17:19:25.826Z"
   },
   {
    "duration": -207,
    "start_time": "2021-11-23T17:19:25.843Z"
   },
   {
    "duration": -207,
    "start_time": "2021-11-23T17:19:25.846Z"
   },
   {
    "duration": -209,
    "start_time": "2021-11-23T17:19:25.850Z"
   },
   {
    "duration": -210,
    "start_time": "2021-11-23T17:19:25.854Z"
   },
   {
    "duration": -212,
    "start_time": "2021-11-23T17:19:25.858Z"
   },
   {
    "duration": -214,
    "start_time": "2021-11-23T17:19:25.862Z"
   },
   {
    "duration": -216,
    "start_time": "2021-11-23T17:19:25.866Z"
   },
   {
    "duration": -218,
    "start_time": "2021-11-23T17:19:25.869Z"
   },
   {
    "duration": -220,
    "start_time": "2021-11-23T17:19:25.873Z"
   },
   {
    "duration": -223,
    "start_time": "2021-11-23T17:19:25.877Z"
   },
   {
    "duration": -230,
    "start_time": "2021-11-23T17:19:25.885Z"
   },
   {
    "duration": -232,
    "start_time": "2021-11-23T17:19:25.889Z"
   },
   {
    "duration": -235,
    "start_time": "2021-11-23T17:19:25.893Z"
   },
   {
    "duration": -236,
    "start_time": "2021-11-23T17:19:25.896Z"
   },
   {
    "duration": 323,
    "start_time": "2021-11-23T17:19:41.738Z"
   },
   {
    "duration": 470,
    "start_time": "2021-11-23T17:20:20.390Z"
   },
   {
    "duration": 303,
    "start_time": "2021-11-23T17:25:55.667Z"
   },
   {
    "duration": 373,
    "start_time": "2021-11-23T17:26:14.116Z"
   },
   {
    "duration": 271,
    "start_time": "2021-11-23T17:35:07.067Z"
   },
   {
    "duration": 557,
    "start_time": "2021-11-23T17:35:45.636Z"
   },
   {
    "duration": 263,
    "start_time": "2021-11-23T17:38:16.782Z"
   },
   {
    "duration": 5,
    "start_time": "2021-11-23T17:38:50.921Z"
   },
   {
    "duration": 567,
    "start_time": "2021-11-23T17:38:50.929Z"
   },
   {
    "duration": 14,
    "start_time": "2021-11-23T17:38:51.499Z"
   },
   {
    "duration": 13,
    "start_time": "2021-11-23T17:38:51.528Z"
   },
   {
    "duration": 24,
    "start_time": "2021-11-23T17:38:51.543Z"
   },
   {
    "duration": 13,
    "start_time": "2021-11-23T17:38:51.569Z"
   },
   {
    "duration": 19,
    "start_time": "2021-11-23T17:38:51.585Z"
   },
   {
    "duration": 43,
    "start_time": "2021-11-23T17:38:51.609Z"
   },
   {
    "duration": 13,
    "start_time": "2021-11-23T17:38:51.656Z"
   },
   {
    "duration": 26,
    "start_time": "2021-11-23T17:38:51.671Z"
   },
   {
    "duration": 37,
    "start_time": "2021-11-23T17:38:51.699Z"
   },
   {
    "duration": 36,
    "start_time": "2021-11-23T17:38:51.739Z"
   },
   {
    "duration": 7,
    "start_time": "2021-11-23T17:38:51.777Z"
   },
   {
    "duration": 46,
    "start_time": "2021-11-23T17:38:51.786Z"
   },
   {
    "duration": 16,
    "start_time": "2021-11-23T17:38:51.834Z"
   },
   {
    "duration": 100,
    "start_time": "2021-11-23T17:38:51.852Z"
   },
   {
    "duration": 24,
    "start_time": "2021-11-23T17:38:51.954Z"
   },
   {
    "duration": 10,
    "start_time": "2021-11-23T17:38:51.980Z"
   },
   {
    "duration": 11,
    "start_time": "2021-11-23T17:38:51.993Z"
   },
   {
    "duration": 158,
    "start_time": "2021-11-23T17:38:52.007Z"
   },
   {
    "duration": 18,
    "start_time": "2021-11-23T17:38:52.168Z"
   },
   {
    "duration": 53,
    "start_time": "2021-11-23T17:38:52.189Z"
   },
   {
    "duration": 11,
    "start_time": "2021-11-23T17:38:52.248Z"
   },
   {
    "duration": 30,
    "start_time": "2021-11-23T17:38:52.262Z"
   },
   {
    "duration": 11,
    "start_time": "2021-11-23T17:38:52.295Z"
   },
   {
    "duration": 44,
    "start_time": "2021-11-23T17:38:52.309Z"
   },
   {
    "duration": 5,
    "start_time": "2021-11-23T17:38:52.355Z"
   },
   {
    "duration": 15,
    "start_time": "2021-11-23T17:38:52.362Z"
   },
   {
    "duration": 53,
    "start_time": "2021-11-23T17:38:52.379Z"
   },
   {
    "duration": 8,
    "start_time": "2021-11-23T17:38:52.435Z"
   },
   {
    "duration": 15,
    "start_time": "2021-11-23T17:38:52.445Z"
   },
   {
    "duration": 22,
    "start_time": "2021-11-23T17:38:52.462Z"
   },
   {
    "duration": 20,
    "start_time": "2021-11-23T17:38:52.487Z"
   },
   {
    "duration": 33,
    "start_time": "2021-11-23T17:38:52.510Z"
   },
   {
    "duration": 15,
    "start_time": "2021-11-23T17:38:52.546Z"
   },
   {
    "duration": 18,
    "start_time": "2021-11-23T17:38:52.564Z"
   },
   {
    "duration": 44,
    "start_time": "2021-11-23T17:38:52.585Z"
   },
   {
    "duration": 22,
    "start_time": "2021-11-23T17:38:52.633Z"
   },
   {
    "duration": 19,
    "start_time": "2021-11-23T17:38:52.657Z"
   },
   {
    "duration": 598,
    "start_time": "2021-11-23T17:38:52.678Z"
   },
   {
    "duration": 18,
    "start_time": "2021-11-23T17:38:53.278Z"
   },
   {
    "duration": 11,
    "start_time": "2021-11-23T17:38:53.298Z"
   },
   {
    "duration": 327,
    "start_time": "2021-11-23T17:38:53.311Z"
   },
   {
    "duration": 19,
    "start_time": "2021-11-23T17:38:53.641Z"
   },
   {
    "duration": 442,
    "start_time": "2021-11-23T17:38:53.663Z"
   },
   {
    "duration": 374,
    "start_time": "2021-11-23T17:38:54.107Z"
   },
   {
    "duration": 811,
    "start_time": "2021-11-23T17:38:54.483Z"
   },
   {
    "duration": -214,
    "start_time": "2021-11-23T17:38:55.511Z"
   },
   {
    "duration": -216,
    "start_time": "2021-11-23T17:38:55.514Z"
   },
   {
    "duration": -218,
    "start_time": "2021-11-23T17:38:55.518Z"
   },
   {
    "duration": -220,
    "start_time": "2021-11-23T17:38:55.522Z"
   },
   {
    "duration": -222,
    "start_time": "2021-11-23T17:38:55.525Z"
   },
   {
    "duration": -224,
    "start_time": "2021-11-23T17:38:55.529Z"
   },
   {
    "duration": -226,
    "start_time": "2021-11-23T17:38:55.532Z"
   },
   {
    "duration": -227,
    "start_time": "2021-11-23T17:38:55.535Z"
   },
   {
    "duration": -230,
    "start_time": "2021-11-23T17:38:55.539Z"
   },
   {
    "duration": -232,
    "start_time": "2021-11-23T17:38:55.542Z"
   },
   {
    "duration": -242,
    "start_time": "2021-11-23T17:38:55.554Z"
   },
   {
    "duration": -245,
    "start_time": "2021-11-23T17:38:55.558Z"
   },
   {
    "duration": -246,
    "start_time": "2021-11-23T17:38:55.562Z"
   },
   {
    "duration": -247,
    "start_time": "2021-11-23T17:38:55.565Z"
   },
   {
    "duration": -249,
    "start_time": "2021-11-23T17:38:55.569Z"
   },
   {
    "duration": -251,
    "start_time": "2021-11-23T17:38:55.573Z"
   },
   {
    "duration": -257,
    "start_time": "2021-11-23T17:38:55.581Z"
   },
   {
    "duration": -259,
    "start_time": "2021-11-23T17:38:55.585Z"
   },
   {
    "duration": -260,
    "start_time": "2021-11-23T17:38:55.589Z"
   },
   {
    "duration": -262,
    "start_time": "2021-11-23T17:38:55.592Z"
   },
   {
    "duration": 451,
    "start_time": "2021-11-23T17:39:18.437Z"
   },
   {
    "duration": 372,
    "start_time": "2021-11-23T17:48:15.826Z"
   },
   {
    "duration": 321,
    "start_time": "2021-11-23T17:49:02.218Z"
   },
   {
    "duration": 317,
    "start_time": "2021-11-23T17:49:25.896Z"
   },
   {
    "duration": 270,
    "start_time": "2021-11-23T17:50:06.176Z"
   },
   {
    "duration": 1442,
    "start_time": "2021-11-23T17:50:35.972Z"
   },
   {
    "duration": 894,
    "start_time": "2021-11-23T17:51:31.543Z"
   },
   {
    "duration": 895,
    "start_time": "2021-11-23T17:53:07.416Z"
   },
   {
    "duration": 615,
    "start_time": "2021-11-23T17:53:18.085Z"
   },
   {
    "duration": 795,
    "start_time": "2021-11-23T17:53:44.899Z"
   },
   {
    "duration": 1258,
    "start_time": "2021-11-23T17:53:57.992Z"
   },
   {
    "duration": 860,
    "start_time": "2021-11-23T17:54:31.831Z"
   },
   {
    "duration": 1044,
    "start_time": "2021-11-23T17:54:41.029Z"
   },
   {
    "duration": 801,
    "start_time": "2021-11-23T17:54:58.583Z"
   },
   {
    "duration": 842,
    "start_time": "2021-11-23T17:55:42.741Z"
   },
   {
    "duration": 284,
    "start_time": "2021-11-23T18:00:52.913Z"
   },
   {
    "duration": 490,
    "start_time": "2021-11-23T18:01:33.747Z"
   },
   {
    "duration": 573,
    "start_time": "2021-11-23T18:02:43.660Z"
   },
   {
    "duration": 514,
    "start_time": "2021-11-23T18:03:21.456Z"
   },
   {
    "duration": 577,
    "start_time": "2021-11-23T18:04:09.167Z"
   },
   {
    "duration": 650,
    "start_time": "2021-11-23T18:04:38.893Z"
   },
   {
    "duration": 592,
    "start_time": "2021-11-23T18:05:04.633Z"
   },
   {
    "duration": 594,
    "start_time": "2021-11-23T18:05:19.874Z"
   },
   {
    "duration": 516,
    "start_time": "2021-11-23T18:05:26.646Z"
   },
   {
    "duration": 514,
    "start_time": "2021-11-23T18:05:39.323Z"
   },
   {
    "duration": 648,
    "start_time": "2021-11-23T18:05:53.118Z"
   },
   {
    "duration": 5,
    "start_time": "2021-11-23T18:07:37.521Z"
   },
   {
    "duration": 642,
    "start_time": "2021-11-23T18:07:37.533Z"
   },
   {
    "duration": 14,
    "start_time": "2021-11-23T18:07:38.178Z"
   },
   {
    "duration": 9,
    "start_time": "2021-11-23T18:07:38.195Z"
   },
   {
    "duration": 33,
    "start_time": "2021-11-23T18:07:38.206Z"
   },
   {
    "duration": 24,
    "start_time": "2021-11-23T18:07:38.242Z"
   },
   {
    "duration": 13,
    "start_time": "2021-11-23T18:07:38.269Z"
   },
   {
    "duration": 50,
    "start_time": "2021-11-23T18:07:38.287Z"
   },
   {
    "duration": 18,
    "start_time": "2021-11-23T18:07:38.342Z"
   },
   {
    "duration": 27,
    "start_time": "2021-11-23T18:07:38.363Z"
   },
   {
    "duration": 43,
    "start_time": "2021-11-23T18:07:38.393Z"
   },
   {
    "duration": 38,
    "start_time": "2021-11-23T18:07:38.439Z"
   },
   {
    "duration": 10,
    "start_time": "2021-11-23T18:07:38.479Z"
   },
   {
    "duration": 63,
    "start_time": "2021-11-23T18:07:38.491Z"
   },
   {
    "duration": 5,
    "start_time": "2021-11-23T18:07:38.556Z"
   },
   {
    "duration": 128,
    "start_time": "2021-11-23T18:07:38.563Z"
   },
   {
    "duration": 23,
    "start_time": "2021-11-23T18:07:38.694Z"
   },
   {
    "duration": 27,
    "start_time": "2021-11-23T18:07:38.719Z"
   },
   {
    "duration": 10,
    "start_time": "2021-11-23T18:07:38.749Z"
   },
   {
    "duration": 166,
    "start_time": "2021-11-23T18:07:38.761Z"
   },
   {
    "duration": 30,
    "start_time": "2021-11-23T18:07:38.932Z"
   },
   {
    "duration": 35,
    "start_time": "2021-11-23T18:07:38.964Z"
   },
   {
    "duration": 33,
    "start_time": "2021-11-23T18:07:39.005Z"
   },
   {
    "duration": 27,
    "start_time": "2021-11-23T18:07:39.045Z"
   },
   {
    "duration": 11,
    "start_time": "2021-11-23T18:07:39.075Z"
   },
   {
    "duration": 70,
    "start_time": "2021-11-23T18:07:39.089Z"
   },
   {
    "duration": 6,
    "start_time": "2021-11-23T18:07:39.161Z"
   },
   {
    "duration": 13,
    "start_time": "2021-11-23T18:07:39.169Z"
   },
   {
    "duration": 45,
    "start_time": "2021-11-23T18:07:39.184Z"
   },
   {
    "duration": 12,
    "start_time": "2021-11-23T18:07:39.232Z"
   },
   {
    "duration": 10,
    "start_time": "2021-11-23T18:07:39.247Z"
   },
   {
    "duration": 9,
    "start_time": "2021-11-23T18:07:39.259Z"
   },
   {
    "duration": 19,
    "start_time": "2021-11-23T18:07:39.270Z"
   },
   {
    "duration": 63,
    "start_time": "2021-11-23T18:07:39.291Z"
   },
   {
    "duration": 18,
    "start_time": "2021-11-23T18:07:39.356Z"
   },
   {
    "duration": 12,
    "start_time": "2021-11-23T18:07:39.376Z"
   },
   {
    "duration": 48,
    "start_time": "2021-11-23T18:07:39.390Z"
   },
   {
    "duration": 23,
    "start_time": "2021-11-23T18:07:39.441Z"
   },
   {
    "duration": 5,
    "start_time": "2021-11-23T18:07:39.466Z"
   },
   {
    "duration": 795,
    "start_time": "2021-11-23T18:07:39.474Z"
   },
   {
    "duration": 18,
    "start_time": "2021-11-23T18:07:40.271Z"
   },
   {
    "duration": 12,
    "start_time": "2021-11-23T18:07:40.291Z"
   },
   {
    "duration": 359,
    "start_time": "2021-11-23T18:07:40.305Z"
   },
   {
    "duration": 19,
    "start_time": "2021-11-23T18:07:40.666Z"
   },
   {
    "duration": 496,
    "start_time": "2021-11-23T18:07:40.687Z"
   },
   {
    "duration": 402,
    "start_time": "2021-11-23T18:07:41.185Z"
   },
   {
    "duration": 616,
    "start_time": "2021-11-23T18:07:41.589Z"
   },
   {
    "duration": 567,
    "start_time": "2021-11-23T18:07:42.207Z"
   },
   {
    "duration": 5,
    "start_time": "2021-11-23T18:07:42.776Z"
   },
   {
    "duration": 511,
    "start_time": "2021-11-23T18:07:42.783Z"
   },
   {
    "duration": 610,
    "start_time": "2021-11-23T18:07:43.296Z"
   },
   {
    "duration": 491,
    "start_time": "2021-11-23T18:07:43.908Z"
   },
   {
    "duration": 59,
    "start_time": "2021-11-23T18:07:44.401Z"
   },
   {
    "duration": 31,
    "start_time": "2021-11-23T18:07:44.462Z"
   },
   {
    "duration": 65,
    "start_time": "2021-11-23T18:07:44.495Z"
   },
   {
    "duration": 5,
    "start_time": "2021-11-23T18:07:44.562Z"
   },
   {
    "duration": 380,
    "start_time": "2021-11-23T18:07:44.569Z"
   },
   {
    "duration": 489,
    "start_time": "2021-11-23T18:07:44.953Z"
   },
   {
    "duration": 366,
    "start_time": "2021-11-23T18:07:45.447Z"
   },
   {
    "duration": 396,
    "start_time": "2021-11-23T18:07:45.816Z"
   },
   {
    "duration": 392,
    "start_time": "2021-11-23T18:07:46.214Z"
   },
   {
    "duration": 394,
    "start_time": "2021-11-23T18:07:46.608Z"
   },
   {
    "duration": 31,
    "start_time": "2021-11-23T18:07:47.004Z"
   },
   {
    "duration": 26,
    "start_time": "2021-11-23T18:07:47.039Z"
   },
   {
    "duration": 21,
    "start_time": "2021-11-23T18:07:47.067Z"
   },
   {
    "duration": 15,
    "start_time": "2021-11-23T18:07:47.090Z"
   },
   {
    "duration": 48,
    "start_time": "2021-11-23T18:07:47.108Z"
   },
   {
    "duration": 6,
    "start_time": "2021-11-23T18:13:20.385Z"
   },
   {
    "duration": 387,
    "start_time": "2021-11-23T18:13:24.922Z"
   },
   {
    "duration": 5,
    "start_time": "2021-11-23T18:15:57.688Z"
   },
   {
    "duration": 311,
    "start_time": "2021-11-23T18:16:26.451Z"
   },
   {
    "duration": 5,
    "start_time": "2021-11-23T18:16:48.762Z"
   },
   {
    "duration": 276,
    "start_time": "2021-11-23T18:16:50.723Z"
   },
   {
    "duration": 7,
    "start_time": "2021-11-23T18:17:09.233Z"
   },
   {
    "duration": 308,
    "start_time": "2021-11-23T18:17:11.816Z"
   },
   {
    "duration": 5,
    "start_time": "2021-11-23T18:18:00.787Z"
   },
   {
    "duration": 384,
    "start_time": "2021-11-23T18:18:02.824Z"
   },
   {
    "duration": 283,
    "start_time": "2021-11-23T18:18:24.306Z"
   },
   {
    "duration": 321,
    "start_time": "2021-11-23T18:18:35.075Z"
   },
   {
    "duration": 325,
    "start_time": "2021-11-23T18:19:12.966Z"
   },
   {
    "duration": 5,
    "start_time": "2021-11-23T18:19:50.758Z"
   },
   {
    "duration": 331,
    "start_time": "2021-11-23T18:20:06.909Z"
   },
   {
    "duration": 4,
    "start_time": "2021-11-23T18:20:29.897Z"
   },
   {
    "duration": 322,
    "start_time": "2021-11-23T18:20:31.853Z"
   },
   {
    "duration": 5,
    "start_time": "2021-11-23T18:21:30.461Z"
   },
   {
    "duration": 272,
    "start_time": "2021-11-23T18:21:32.751Z"
   },
   {
    "duration": 312,
    "start_time": "2021-11-23T18:22:07.537Z"
   },
   {
    "duration": 5,
    "start_time": "2021-11-23T18:22:33.789Z"
   },
   {
    "duration": 305,
    "start_time": "2021-11-23T18:22:35.586Z"
   },
   {
    "duration": 5,
    "start_time": "2021-11-23T18:38:24.867Z"
   },
   {
    "duration": 311,
    "start_time": "2021-11-23T18:38:25.293Z"
   },
   {
    "duration": 321,
    "start_time": "2021-11-23T18:39:06.156Z"
   },
   {
    "duration": 324,
    "start_time": "2021-11-23T18:39:45.263Z"
   },
   {
    "duration": 1093,
    "start_time": "2021-11-23T18:40:20.118Z"
   },
   {
    "duration": 343,
    "start_time": "2021-11-23T18:43:41.920Z"
   },
   {
    "duration": 320,
    "start_time": "2021-11-23T18:43:49.054Z"
   },
   {
    "duration": 337,
    "start_time": "2021-11-23T18:44:10.709Z"
   },
   {
    "duration": 335,
    "start_time": "2021-11-23T18:44:24.650Z"
   },
   {
    "duration": 317,
    "start_time": "2021-11-23T18:46:05.539Z"
   },
   {
    "duration": 335,
    "start_time": "2021-11-23T18:48:20.350Z"
   },
   {
    "duration": 496,
    "start_time": "2021-11-23T18:49:02.413Z"
   },
   {
    "duration": 341,
    "start_time": "2021-11-23T18:49:43.019Z"
   },
   {
    "duration": 103,
    "start_time": "2021-11-23T18:56:19.524Z"
   },
   {
    "duration": 5,
    "start_time": "2021-11-23T18:59:16.178Z"
   },
   {
    "duration": 523,
    "start_time": "2021-11-23T18:59:16.186Z"
   },
   {
    "duration": 22,
    "start_time": "2021-11-23T18:59:16.712Z"
   },
   {
    "duration": 10,
    "start_time": "2021-11-23T18:59:16.737Z"
   },
   {
    "duration": 13,
    "start_time": "2021-11-23T18:59:16.749Z"
   },
   {
    "duration": 12,
    "start_time": "2021-11-23T18:59:16.765Z"
   },
   {
    "duration": 11,
    "start_time": "2021-11-23T18:59:16.780Z"
   },
   {
    "duration": 21,
    "start_time": "2021-11-23T18:59:16.830Z"
   },
   {
    "duration": 13,
    "start_time": "2021-11-23T18:59:16.853Z"
   },
   {
    "duration": 30,
    "start_time": "2021-11-23T18:59:16.868Z"
   },
   {
    "duration": 36,
    "start_time": "2021-11-23T18:59:16.900Z"
   },
   {
    "duration": 30,
    "start_time": "2021-11-23T18:59:16.938Z"
   },
   {
    "duration": 7,
    "start_time": "2021-11-23T18:59:16.971Z"
   },
   {
    "duration": 51,
    "start_time": "2021-11-23T18:59:16.980Z"
   },
   {
    "duration": 6,
    "start_time": "2021-11-23T18:59:17.033Z"
   },
   {
    "duration": 102,
    "start_time": "2021-11-23T18:59:17.041Z"
   },
   {
    "duration": 24,
    "start_time": "2021-11-23T18:59:17.145Z"
   },
   {
    "duration": 11,
    "start_time": "2021-11-23T18:59:17.171Z"
   },
   {
    "duration": 5,
    "start_time": "2021-11-23T18:59:17.190Z"
   },
   {
    "duration": 167,
    "start_time": "2021-11-23T18:59:17.199Z"
   },
   {
    "duration": 20,
    "start_time": "2021-11-23T18:59:17.369Z"
   },
   {
    "duration": 49,
    "start_time": "2021-11-23T18:59:17.391Z"
   },
   {
    "duration": 11,
    "start_time": "2021-11-23T18:59:17.443Z"
   },
   {
    "duration": 38,
    "start_time": "2021-11-23T18:59:17.456Z"
   },
   {
    "duration": 16,
    "start_time": "2021-11-23T18:59:17.497Z"
   },
   {
    "duration": 36,
    "start_time": "2021-11-23T18:59:17.516Z"
   },
   {
    "duration": 6,
    "start_time": "2021-11-23T18:59:17.554Z"
   },
   {
    "duration": 30,
    "start_time": "2021-11-23T18:59:17.563Z"
   },
   {
    "duration": 47,
    "start_time": "2021-11-23T18:59:17.595Z"
   },
   {
    "duration": 9,
    "start_time": "2021-11-23T18:59:17.645Z"
   },
   {
    "duration": 29,
    "start_time": "2021-11-23T18:59:17.657Z"
   },
   {
    "duration": 17,
    "start_time": "2021-11-23T18:59:17.689Z"
   },
   {
    "duration": 24,
    "start_time": "2021-11-23T18:59:17.708Z"
   },
   {
    "duration": 19,
    "start_time": "2021-11-23T18:59:17.735Z"
   },
   {
    "duration": 38,
    "start_time": "2021-11-23T18:59:17.757Z"
   },
   {
    "duration": 18,
    "start_time": "2021-11-23T18:59:17.798Z"
   },
   {
    "duration": 30,
    "start_time": "2021-11-23T18:59:17.818Z"
   },
   {
    "duration": 15,
    "start_time": "2021-11-23T18:59:17.851Z"
   },
   {
    "duration": 11,
    "start_time": "2021-11-23T18:59:17.869Z"
   },
   {
    "duration": 678,
    "start_time": "2021-11-23T18:59:17.882Z"
   },
   {
    "duration": 17,
    "start_time": "2021-11-23T18:59:18.563Z"
   },
   {
    "duration": 13,
    "start_time": "2021-11-23T18:59:18.582Z"
   },
   {
    "duration": 304,
    "start_time": "2021-11-23T18:59:18.597Z"
   },
   {
    "duration": 27,
    "start_time": "2021-11-23T18:59:18.904Z"
   },
   {
    "duration": 537,
    "start_time": "2021-11-23T18:59:18.933Z"
   },
   {
    "duration": 377,
    "start_time": "2021-11-23T18:59:19.473Z"
   },
   {
    "duration": 553,
    "start_time": "2021-11-23T18:59:19.853Z"
   },
   {
    "duration": 486,
    "start_time": "2021-11-23T18:59:20.409Z"
   },
   {
    "duration": 5,
    "start_time": "2021-11-23T18:59:20.897Z"
   },
   {
    "duration": 461,
    "start_time": "2021-11-23T18:59:20.904Z"
   },
   {
    "duration": 468,
    "start_time": "2021-11-23T18:59:21.368Z"
   },
   {
    "duration": 558,
    "start_time": "2021-11-23T18:59:21.839Z"
   },
   {
    "duration": 47,
    "start_time": "2021-11-23T18:59:22.400Z"
   },
   {
    "duration": 32,
    "start_time": "2021-11-23T18:59:22.450Z"
   },
   {
    "duration": 64,
    "start_time": "2021-11-23T18:59:22.488Z"
   },
   {
    "duration": 5,
    "start_time": "2021-11-23T18:59:22.555Z"
   },
   {
    "duration": 320,
    "start_time": "2021-11-23T18:59:22.563Z"
   },
   {
    "duration": 338,
    "start_time": "2021-11-23T18:59:22.885Z"
   },
   {
    "duration": 321,
    "start_time": "2021-11-23T18:59:23.229Z"
   },
   {
    "duration": 321,
    "start_time": "2021-11-23T18:59:23.552Z"
   },
   {
    "duration": 330,
    "start_time": "2021-11-23T18:59:23.875Z"
   },
   {
    "duration": 331,
    "start_time": "2021-11-23T18:59:24.207Z"
   },
   {
    "duration": 325,
    "start_time": "2021-11-23T18:59:24.540Z"
   },
   {
    "duration": 325,
    "start_time": "2021-11-23T18:59:24.867Z"
   },
   {
    "duration": 315,
    "start_time": "2021-11-23T18:59:25.194Z"
   },
   {
    "duration": 23,
    "start_time": "2021-11-23T18:59:25.511Z"
   },
   {
    "duration": 19,
    "start_time": "2021-11-23T18:59:25.536Z"
   },
   {
    "duration": 15,
    "start_time": "2021-11-23T18:59:25.557Z"
   },
   {
    "duration": 16,
    "start_time": "2021-11-23T18:59:25.574Z"
   },
   {
    "duration": 46,
    "start_time": "2021-11-23T18:59:25.593Z"
   },
   {
    "duration": 16,
    "start_time": "2021-11-23T19:00:07.255Z"
   },
   {
    "duration": 19,
    "start_time": "2021-11-23T19:00:26.588Z"
   },
   {
    "duration": 16,
    "start_time": "2021-11-23T19:00:45.615Z"
   },
   {
    "duration": 3,
    "start_time": "2021-11-23T19:01:39.412Z"
   },
   {
    "duration": 22,
    "start_time": "2021-11-23T19:01:41.384Z"
   },
   {
    "duration": 1471,
    "start_time": "2021-11-23T19:07:51.137Z"
   },
   {
    "duration": 540,
    "start_time": "2021-11-23T19:07:52.610Z"
   },
   {
    "duration": 19,
    "start_time": "2021-11-23T19:07:53.153Z"
   },
   {
    "duration": 17,
    "start_time": "2021-11-23T19:07:53.176Z"
   },
   {
    "duration": 37,
    "start_time": "2021-11-23T19:07:53.196Z"
   },
   {
    "duration": 20,
    "start_time": "2021-11-23T19:07:53.236Z"
   },
   {
    "duration": 16,
    "start_time": "2021-11-23T19:07:53.259Z"
   },
   {
    "duration": 40,
    "start_time": "2021-11-23T19:07:53.281Z"
   },
   {
    "duration": 15,
    "start_time": "2021-11-23T19:07:53.330Z"
   },
   {
    "duration": 43,
    "start_time": "2021-11-23T19:07:53.348Z"
   },
   {
    "duration": 12,
    "start_time": "2021-11-23T19:07:53.394Z"
   },
   {
    "duration": 54,
    "start_time": "2021-11-23T19:07:53.408Z"
   },
   {
    "duration": 8,
    "start_time": "2021-11-23T19:07:53.464Z"
   },
   {
    "duration": 32,
    "start_time": "2021-11-23T19:07:53.474Z"
   },
   {
    "duration": 7,
    "start_time": "2021-11-23T19:07:53.530Z"
   },
   {
    "duration": 118,
    "start_time": "2021-11-23T19:07:53.540Z"
   },
   {
    "duration": 24,
    "start_time": "2021-11-23T19:07:53.661Z"
   },
   {
    "duration": 25,
    "start_time": "2021-11-23T19:07:53.688Z"
   },
   {
    "duration": 17,
    "start_time": "2021-11-23T19:07:53.716Z"
   },
   {
    "duration": 165,
    "start_time": "2021-11-23T19:07:53.735Z"
   },
   {
    "duration": 22,
    "start_time": "2021-11-23T19:07:53.903Z"
   },
   {
    "duration": 34,
    "start_time": "2021-11-23T19:07:53.929Z"
   },
   {
    "duration": 14,
    "start_time": "2021-11-23T19:07:53.969Z"
   },
   {
    "duration": 46,
    "start_time": "2021-11-23T19:07:53.988Z"
   },
   {
    "duration": 11,
    "start_time": "2021-11-23T19:07:54.036Z"
   },
   {
    "duration": 36,
    "start_time": "2021-11-23T19:07:54.050Z"
   },
   {
    "duration": 5,
    "start_time": "2021-11-23T19:07:54.089Z"
   },
   {
    "duration": 39,
    "start_time": "2021-11-23T19:07:54.097Z"
   },
   {
    "duration": 26,
    "start_time": "2021-11-23T19:07:54.139Z"
   },
   {
    "duration": 8,
    "start_time": "2021-11-23T19:07:54.168Z"
   },
   {
    "duration": 7,
    "start_time": "2021-11-23T19:07:54.179Z"
   },
   {
    "duration": 44,
    "start_time": "2021-11-23T19:07:54.188Z"
   },
   {
    "duration": 26,
    "start_time": "2021-11-23T19:07:54.234Z"
   },
   {
    "duration": 20,
    "start_time": "2021-11-23T19:07:54.262Z"
   },
   {
    "duration": 33,
    "start_time": "2021-11-23T19:07:54.285Z"
   },
   {
    "duration": 28,
    "start_time": "2021-11-23T19:07:54.321Z"
   },
   {
    "duration": 16,
    "start_time": "2021-11-23T19:07:54.351Z"
   },
   {
    "duration": 15,
    "start_time": "2021-11-23T19:07:54.370Z"
   },
   {
    "duration": 12,
    "start_time": "2021-11-23T19:07:54.388Z"
   },
   {
    "duration": 583,
    "start_time": "2021-11-23T19:07:54.403Z"
   },
   {
    "duration": 18,
    "start_time": "2021-11-23T19:07:54.988Z"
   },
   {
    "duration": 23,
    "start_time": "2021-11-23T19:07:55.009Z"
   },
   {
    "duration": 615,
    "start_time": "2021-11-23T19:07:55.034Z"
   },
   {
    "duration": -1641,
    "start_time": "2021-11-23T19:07:57.292Z"
   },
   {
    "duration": -1644,
    "start_time": "2021-11-23T19:07:57.297Z"
   },
   {
    "duration": -1646,
    "start_time": "2021-11-23T19:07:57.300Z"
   },
   {
    "duration": -1648,
    "start_time": "2021-11-23T19:07:57.304Z"
   },
   {
    "duration": -1650,
    "start_time": "2021-11-23T19:07:57.307Z"
   },
   {
    "duration": -1681,
    "start_time": "2021-11-23T19:07:57.340Z"
   },
   {
    "duration": -1682,
    "start_time": "2021-11-23T19:07:57.343Z"
   },
   {
    "duration": -1685,
    "start_time": "2021-11-23T19:07:57.347Z"
   },
   {
    "duration": -1687,
    "start_time": "2021-11-23T19:07:57.351Z"
   },
   {
    "duration": -1689,
    "start_time": "2021-11-23T19:07:57.355Z"
   },
   {
    "duration": -1690,
    "start_time": "2021-11-23T19:07:57.358Z"
   },
   {
    "duration": -1710,
    "start_time": "2021-11-23T19:07:57.379Z"
   },
   {
    "duration": -1713,
    "start_time": "2021-11-23T19:07:57.383Z"
   },
   {
    "duration": -1714,
    "start_time": "2021-11-23T19:07:57.386Z"
   },
   {
    "duration": -1717,
    "start_time": "2021-11-23T19:07:57.390Z"
   },
   {
    "duration": -1719,
    "start_time": "2021-11-23T19:07:57.394Z"
   },
   {
    "duration": -1721,
    "start_time": "2021-11-23T19:07:57.397Z"
   },
   {
    "duration": -1723,
    "start_time": "2021-11-23T19:07:57.401Z"
   },
   {
    "duration": -1725,
    "start_time": "2021-11-23T19:07:57.404Z"
   },
   {
    "duration": -1727,
    "start_time": "2021-11-23T19:07:57.408Z"
   },
   {
    "duration": -1728,
    "start_time": "2021-11-23T19:07:57.411Z"
   },
   {
    "duration": -1731,
    "start_time": "2021-11-23T19:07:57.415Z"
   },
   {
    "duration": -1734,
    "start_time": "2021-11-23T19:07:57.419Z"
   },
   {
    "duration": -1736,
    "start_time": "2021-11-23T19:07:57.423Z"
   },
   {
    "duration": -1701,
    "start_time": "2021-11-23T19:07:57.430Z"
   },
   {
    "duration": -1703,
    "start_time": "2021-11-23T19:07:57.434Z"
   },
   {
    "duration": -1705,
    "start_time": "2021-11-23T19:07:57.437Z"
   },
   {
    "duration": 5,
    "start_time": "2021-11-23T19:10:32.848Z"
   },
   {
    "duration": 533,
    "start_time": "2021-11-23T19:10:32.855Z"
   },
   {
    "duration": 15,
    "start_time": "2021-11-23T19:10:33.391Z"
   },
   {
    "duration": 24,
    "start_time": "2021-11-23T19:10:33.409Z"
   },
   {
    "duration": 16,
    "start_time": "2021-11-23T19:10:33.435Z"
   },
   {
    "duration": 15,
    "start_time": "2021-11-23T19:10:33.453Z"
   },
   {
    "duration": 13,
    "start_time": "2021-11-23T19:10:33.470Z"
   },
   {
    "duration": 51,
    "start_time": "2021-11-23T19:10:33.487Z"
   },
   {
    "duration": 17,
    "start_time": "2021-11-23T19:10:33.541Z"
   },
   {
    "duration": 27,
    "start_time": "2021-11-23T19:10:33.561Z"
   },
   {
    "duration": 11,
    "start_time": "2021-11-23T19:10:33.590Z"
   },
   {
    "duration": 27,
    "start_time": "2021-11-23T19:10:33.629Z"
   },
   {
    "duration": 8,
    "start_time": "2021-11-23T19:10:33.658Z"
   },
   {
    "duration": 18,
    "start_time": "2021-11-23T19:10:33.669Z"
   },
   {
    "duration": 6,
    "start_time": "2021-11-23T19:10:33.689Z"
   },
   {
    "duration": 133,
    "start_time": "2021-11-23T19:10:33.697Z"
   },
   {
    "duration": 23,
    "start_time": "2021-11-23T19:10:33.832Z"
   },
   {
    "duration": 10,
    "start_time": "2021-11-23T19:10:33.858Z"
   },
   {
    "duration": 10,
    "start_time": "2021-11-23T19:10:33.870Z"
   },
   {
    "duration": 157,
    "start_time": "2021-11-23T19:10:33.882Z"
   },
   {
    "duration": 21,
    "start_time": "2021-11-23T19:10:34.042Z"
   },
   {
    "duration": 33,
    "start_time": "2021-11-23T19:10:34.066Z"
   },
   {
    "duration": 32,
    "start_time": "2021-11-23T19:10:34.106Z"
   },
   {
    "duration": 36,
    "start_time": "2021-11-23T19:10:34.142Z"
   },
   {
    "duration": 11,
    "start_time": "2021-11-23T19:10:34.180Z"
   },
   {
    "duration": 46,
    "start_time": "2021-11-23T19:10:34.193Z"
   },
   {
    "duration": 5,
    "start_time": "2021-11-23T19:10:34.241Z"
   },
   {
    "duration": 14,
    "start_time": "2021-11-23T19:10:34.248Z"
   },
   {
    "duration": 24,
    "start_time": "2021-11-23T19:10:34.264Z"
   },
   {
    "duration": 44,
    "start_time": "2021-11-23T19:10:34.291Z"
   },
   {
    "duration": 9,
    "start_time": "2021-11-23T19:10:34.337Z"
   },
   {
    "duration": 9,
    "start_time": "2021-11-23T19:10:34.349Z"
   },
   {
    "duration": 17,
    "start_time": "2021-11-23T19:10:34.361Z"
   },
   {
    "duration": 50,
    "start_time": "2021-11-23T19:10:34.380Z"
   },
   {
    "duration": 14,
    "start_time": "2021-11-23T19:10:34.433Z"
   },
   {
    "duration": 14,
    "start_time": "2021-11-23T19:10:34.449Z"
   },
   {
    "duration": 15,
    "start_time": "2021-11-23T19:10:34.466Z"
   },
   {
    "duration": 49,
    "start_time": "2021-11-23T19:10:34.483Z"
   },
   {
    "duration": 9,
    "start_time": "2021-11-23T19:10:34.534Z"
   },
   {
    "duration": 576,
    "start_time": "2021-11-23T19:10:34.545Z"
   },
   {
    "duration": 19,
    "start_time": "2021-11-23T19:10:35.124Z"
   },
   {
    "duration": 7,
    "start_time": "2021-11-23T19:10:35.145Z"
   },
   {
    "duration": 20,
    "start_time": "2021-11-23T19:10:35.155Z"
   },
   {
    "duration": 472,
    "start_time": "2021-11-23T19:10:35.178Z"
   },
   {
    "duration": 416,
    "start_time": "2021-11-23T19:10:35.653Z"
   },
   {
    "duration": 547,
    "start_time": "2021-11-23T19:10:36.071Z"
   },
   {
    "duration": 482,
    "start_time": "2021-11-23T19:10:36.621Z"
   },
   {
    "duration": 4,
    "start_time": "2021-11-23T19:10:37.106Z"
   },
   {
    "duration": 465,
    "start_time": "2021-11-23T19:10:37.112Z"
   },
   {
    "duration": 454,
    "start_time": "2021-11-23T19:10:37.579Z"
   },
   {
    "duration": 566,
    "start_time": "2021-11-23T19:10:38.035Z"
   },
   {
    "duration": 272,
    "start_time": "2021-11-23T19:10:38.603Z"
   },
   {
    "duration": -261,
    "start_time": "2021-11-23T19:10:39.138Z"
   },
   {
    "duration": -264,
    "start_time": "2021-11-23T19:10:39.142Z"
   },
   {
    "duration": -266,
    "start_time": "2021-11-23T19:10:39.146Z"
   },
   {
    "duration": -269,
    "start_time": "2021-11-23T19:10:39.150Z"
   },
   {
    "duration": -272,
    "start_time": "2021-11-23T19:10:39.154Z"
   },
   {
    "duration": -280,
    "start_time": "2021-11-23T19:10:39.164Z"
   },
   {
    "duration": -284,
    "start_time": "2021-11-23T19:10:39.169Z"
   },
   {
    "duration": -285,
    "start_time": "2021-11-23T19:10:39.172Z"
   },
   {
    "duration": -288,
    "start_time": "2021-11-23T19:10:39.176Z"
   },
   {
    "duration": -290,
    "start_time": "2021-11-23T19:10:39.179Z"
   },
   {
    "duration": -292,
    "start_time": "2021-11-23T19:10:39.183Z"
   },
   {
    "duration": -295,
    "start_time": "2021-11-23T19:10:39.187Z"
   },
   {
    "duration": -298,
    "start_time": "2021-11-23T19:10:39.191Z"
   },
   {
    "duration": -299,
    "start_time": "2021-11-23T19:10:39.194Z"
   },
   {
    "duration": -302,
    "start_time": "2021-11-23T19:10:39.198Z"
   },
   {
    "duration": -304,
    "start_time": "2021-11-23T19:10:39.201Z"
   },
   {
    "duration": -307,
    "start_time": "2021-11-23T19:10:39.206Z"
   },
   {
    "duration": 1497,
    "start_time": "2021-11-23T19:10:49.902Z"
   },
   {
    "duration": 537,
    "start_time": "2021-11-23T19:10:51.402Z"
   },
   {
    "duration": 21,
    "start_time": "2021-11-23T19:10:51.943Z"
   },
   {
    "duration": 23,
    "start_time": "2021-11-23T19:10:51.968Z"
   },
   {
    "duration": 36,
    "start_time": "2021-11-23T19:10:51.994Z"
   },
   {
    "duration": 14,
    "start_time": "2021-11-23T19:10:52.033Z"
   },
   {
    "duration": 35,
    "start_time": "2021-11-23T19:10:52.049Z"
   },
   {
    "duration": 25,
    "start_time": "2021-11-23T19:10:52.090Z"
   },
   {
    "duration": 17,
    "start_time": "2021-11-23T19:10:52.119Z"
   },
   {
    "duration": 28,
    "start_time": "2021-11-23T19:10:52.139Z"
   },
   {
    "duration": 14,
    "start_time": "2021-11-23T19:10:52.170Z"
   },
   {
    "duration": 65,
    "start_time": "2021-11-23T19:10:52.187Z"
   },
   {
    "duration": 8,
    "start_time": "2021-11-23T19:10:52.255Z"
   },
   {
    "duration": 38,
    "start_time": "2021-11-23T19:10:52.266Z"
   },
   {
    "duration": 32,
    "start_time": "2021-11-23T19:10:52.307Z"
   },
   {
    "duration": 140,
    "start_time": "2021-11-23T19:10:52.342Z"
   },
   {
    "duration": 24,
    "start_time": "2021-11-23T19:10:52.484Z"
   },
   {
    "duration": 29,
    "start_time": "2021-11-23T19:10:52.511Z"
   },
   {
    "duration": 26,
    "start_time": "2021-11-23T19:10:52.543Z"
   },
   {
    "duration": 159,
    "start_time": "2021-11-23T19:10:52.572Z"
   },
   {
    "duration": 20,
    "start_time": "2021-11-23T19:10:52.734Z"
   },
   {
    "duration": 30,
    "start_time": "2021-11-23T19:10:52.757Z"
   },
   {
    "duration": 36,
    "start_time": "2021-11-23T19:10:52.795Z"
   },
   {
    "duration": 44,
    "start_time": "2021-11-23T19:10:52.837Z"
   },
   {
    "duration": 17,
    "start_time": "2021-11-23T19:10:52.883Z"
   },
   {
    "duration": 62,
    "start_time": "2021-11-23T19:10:52.903Z"
   },
   {
    "duration": 7,
    "start_time": "2021-11-23T19:10:52.968Z"
   },
   {
    "duration": 43,
    "start_time": "2021-11-23T19:10:52.977Z"
   },
   {
    "duration": 48,
    "start_time": "2021-11-23T19:10:53.023Z"
   },
   {
    "duration": 12,
    "start_time": "2021-11-23T19:10:53.073Z"
   },
   {
    "duration": 31,
    "start_time": "2021-11-23T19:10:53.087Z"
   },
   {
    "duration": 24,
    "start_time": "2021-11-23T19:10:53.121Z"
   },
   {
    "duration": 35,
    "start_time": "2021-11-23T19:10:53.147Z"
   },
   {
    "duration": 24,
    "start_time": "2021-11-23T19:10:53.185Z"
   },
   {
    "duration": 54,
    "start_time": "2021-11-23T19:10:53.212Z"
   },
   {
    "duration": 30,
    "start_time": "2021-11-23T19:10:53.269Z"
   },
   {
    "duration": 41,
    "start_time": "2021-11-23T19:10:53.302Z"
   },
   {
    "duration": 24,
    "start_time": "2021-11-23T19:10:53.345Z"
   },
   {
    "duration": 22,
    "start_time": "2021-11-23T19:10:53.372Z"
   },
   {
    "duration": 587,
    "start_time": "2021-11-23T19:10:53.397Z"
   },
   {
    "duration": 17,
    "start_time": "2021-11-23T19:10:53.986Z"
   },
   {
    "duration": 39,
    "start_time": "2021-11-23T19:10:54.005Z"
   },
   {
    "duration": 61,
    "start_time": "2021-11-23T19:10:54.046Z"
   },
   {
    "duration": 454,
    "start_time": "2021-11-23T19:10:54.109Z"
   },
   {
    "duration": 413,
    "start_time": "2021-11-23T19:10:54.566Z"
   },
   {
    "duration": 548,
    "start_time": "2021-11-23T19:10:54.981Z"
   },
   {
    "duration": 479,
    "start_time": "2021-11-23T19:10:55.531Z"
   },
   {
    "duration": 5,
    "start_time": "2021-11-23T19:10:56.013Z"
   },
   {
    "duration": 477,
    "start_time": "2021-11-23T19:10:56.029Z"
   },
   {
    "duration": 465,
    "start_time": "2021-11-23T19:10:56.508Z"
   },
   {
    "duration": 524,
    "start_time": "2021-11-23T19:10:56.975Z"
   },
   {
    "duration": 446,
    "start_time": "2021-11-23T19:10:57.501Z"
   },
   {
    "duration": -273,
    "start_time": "2021-11-23T19:10:58.223Z"
   },
   {
    "duration": -276,
    "start_time": "2021-11-23T19:10:58.227Z"
   },
   {
    "duration": -278,
    "start_time": "2021-11-23T19:10:58.231Z"
   },
   {
    "duration": -280,
    "start_time": "2021-11-23T19:10:58.235Z"
   },
   {
    "duration": -282,
    "start_time": "2021-11-23T19:10:58.238Z"
   },
   {
    "duration": -284,
    "start_time": "2021-11-23T19:10:58.242Z"
   },
   {
    "duration": -286,
    "start_time": "2021-11-23T19:10:58.245Z"
   },
   {
    "duration": -293,
    "start_time": "2021-11-23T19:10:58.254Z"
   },
   {
    "duration": -296,
    "start_time": "2021-11-23T19:10:58.258Z"
   },
   {
    "duration": -299,
    "start_time": "2021-11-23T19:10:58.262Z"
   },
   {
    "duration": -301,
    "start_time": "2021-11-23T19:10:58.266Z"
   },
   {
    "duration": -303,
    "start_time": "2021-11-23T19:10:58.269Z"
   },
   {
    "duration": -306,
    "start_time": "2021-11-23T19:10:58.273Z"
   },
   {
    "duration": -307,
    "start_time": "2021-11-23T19:10:58.276Z"
   },
   {
    "duration": -310,
    "start_time": "2021-11-23T19:10:58.280Z"
   },
   {
    "duration": -312,
    "start_time": "2021-11-23T19:10:58.284Z"
   },
   {
    "duration": -314,
    "start_time": "2021-11-23T19:10:58.287Z"
   },
   {
    "duration": 1472,
    "start_time": "2021-11-23T19:13:31.174Z"
   },
   {
    "duration": 555,
    "start_time": "2021-11-23T19:13:32.649Z"
   },
   {
    "duration": 26,
    "start_time": "2021-11-23T19:13:33.207Z"
   },
   {
    "duration": 22,
    "start_time": "2021-11-23T19:13:33.236Z"
   },
   {
    "duration": 16,
    "start_time": "2021-11-23T19:13:33.261Z"
   },
   {
    "duration": 26,
    "start_time": "2021-11-23T19:13:33.279Z"
   },
   {
    "duration": 22,
    "start_time": "2021-11-23T19:13:33.307Z"
   },
   {
    "duration": 35,
    "start_time": "2021-11-23T19:13:33.332Z"
   },
   {
    "duration": 14,
    "start_time": "2021-11-23T19:13:33.371Z"
   },
   {
    "duration": 27,
    "start_time": "2021-11-23T19:13:33.388Z"
   },
   {
    "duration": 19,
    "start_time": "2021-11-23T19:13:33.418Z"
   },
   {
    "duration": 32,
    "start_time": "2021-11-23T19:13:33.439Z"
   },
   {
    "duration": 8,
    "start_time": "2021-11-23T19:13:33.473Z"
   },
   {
    "duration": 50,
    "start_time": "2021-11-23T19:13:33.484Z"
   },
   {
    "duration": 16,
    "start_time": "2021-11-23T19:13:33.537Z"
   },
   {
    "duration": 110,
    "start_time": "2021-11-23T19:13:33.556Z"
   },
   {
    "duration": 23,
    "start_time": "2021-11-23T19:13:33.668Z"
   },
   {
    "duration": 14,
    "start_time": "2021-11-23T19:13:33.694Z"
   },
   {
    "duration": 5,
    "start_time": "2021-11-23T19:13:33.729Z"
   },
   {
    "duration": 149,
    "start_time": "2021-11-23T19:13:33.736Z"
   },
   {
    "duration": 19,
    "start_time": "2021-11-23T19:13:33.888Z"
   },
   {
    "duration": 45,
    "start_time": "2021-11-23T19:13:33.910Z"
   },
   {
    "duration": 12,
    "start_time": "2021-11-23T19:13:33.958Z"
   },
   {
    "duration": 25,
    "start_time": "2021-11-23T19:13:33.973Z"
   },
   {
    "duration": 38,
    "start_time": "2021-11-23T19:13:34.000Z"
   },
   {
    "duration": 37,
    "start_time": "2021-11-23T19:13:34.041Z"
   },
   {
    "duration": 4,
    "start_time": "2021-11-23T19:13:34.084Z"
   },
   {
    "duration": 39,
    "start_time": "2021-11-23T19:13:34.092Z"
   },
   {
    "duration": 25,
    "start_time": "2021-11-23T19:13:34.133Z"
   },
   {
    "duration": 8,
    "start_time": "2021-11-23T19:13:34.160Z"
   },
   {
    "duration": 7,
    "start_time": "2021-11-23T19:13:34.171Z"
   },
   {
    "duration": 13,
    "start_time": "2021-11-23T19:13:34.180Z"
   },
   {
    "duration": 47,
    "start_time": "2021-11-23T19:13:34.195Z"
   },
   {
    "duration": 20,
    "start_time": "2021-11-23T19:13:34.245Z"
   },
   {
    "duration": 23,
    "start_time": "2021-11-23T19:13:34.267Z"
   },
   {
    "duration": 37,
    "start_time": "2021-11-23T19:13:34.293Z"
   },
   {
    "duration": 18,
    "start_time": "2021-11-23T19:13:34.333Z"
   },
   {
    "duration": 19,
    "start_time": "2021-11-23T19:13:34.354Z"
   },
   {
    "duration": 9,
    "start_time": "2021-11-23T19:13:34.376Z"
   },
   {
    "duration": 604,
    "start_time": "2021-11-23T19:13:34.387Z"
   },
   {
    "duration": 19,
    "start_time": "2021-11-23T19:13:34.993Z"
   },
   {
    "duration": 5,
    "start_time": "2021-11-23T19:13:35.030Z"
   },
   {
    "duration": 26,
    "start_time": "2021-11-23T19:13:35.037Z"
   },
   {
    "duration": 450,
    "start_time": "2021-11-23T19:13:35.065Z"
   },
   {
    "duration": 369,
    "start_time": "2021-11-23T19:13:35.517Z"
   },
   {
    "duration": 531,
    "start_time": "2021-11-23T19:13:35.888Z"
   },
   {
    "duration": 473,
    "start_time": "2021-11-23T19:13:36.421Z"
   },
   {
    "duration": 6,
    "start_time": "2021-11-23T19:13:36.898Z"
   },
   {
    "duration": 468,
    "start_time": "2021-11-23T19:13:36.907Z"
   },
   {
    "duration": 454,
    "start_time": "2021-11-23T19:13:37.378Z"
   },
   {
    "duration": 519,
    "start_time": "2021-11-23T19:13:37.834Z"
   },
   {
    "duration": 36,
    "start_time": "2021-11-23T19:13:38.356Z"
   },
   {
    "duration": 60,
    "start_time": "2021-11-23T19:13:38.395Z"
   },
   {
    "duration": 43,
    "start_time": "2021-11-23T19:13:38.458Z"
   },
   {
    "duration": 6,
    "start_time": "2021-11-23T19:13:38.528Z"
   },
   {
    "duration": 324,
    "start_time": "2021-11-23T19:13:38.536Z"
   },
   {
    "duration": 337,
    "start_time": "2021-11-23T19:13:38.863Z"
   },
   {
    "duration": 326,
    "start_time": "2021-11-23T19:13:39.203Z"
   },
   {
    "duration": 315,
    "start_time": "2021-11-23T19:13:39.531Z"
   },
   {
    "duration": 340,
    "start_time": "2021-11-23T19:13:39.849Z"
   },
   {
    "duration": 319,
    "start_time": "2021-11-23T19:13:40.192Z"
   },
   {
    "duration": 320,
    "start_time": "2021-11-23T19:13:40.514Z"
   },
   {
    "duration": 334,
    "start_time": "2021-11-23T19:13:40.837Z"
   },
   {
    "duration": 319,
    "start_time": "2021-11-23T19:13:41.174Z"
   },
   {
    "duration": 7032,
    "start_time": "2021-11-23T19:13:41.496Z"
   },
   {
    "duration": -342,
    "start_time": "2021-11-23T19:13:48.873Z"
   },
   {
    "duration": -345,
    "start_time": "2021-11-23T19:13:48.877Z"
   },
   {
    "duration": -348,
    "start_time": "2021-11-23T19:13:48.881Z"
   },
   {
    "duration": -350,
    "start_time": "2021-11-23T19:13:48.885Z"
   },
   {
    "duration": 4,
    "start_time": "2021-11-23T19:15:44.152Z"
   },
   {
    "duration": 560,
    "start_time": "2021-11-23T19:15:44.159Z"
   },
   {
    "duration": 25,
    "start_time": "2021-11-23T19:15:44.722Z"
   },
   {
    "duration": 21,
    "start_time": "2021-11-23T19:15:44.751Z"
   },
   {
    "duration": 19,
    "start_time": "2021-11-23T19:15:44.775Z"
   },
   {
    "duration": 12,
    "start_time": "2021-11-23T19:15:44.796Z"
   },
   {
    "duration": 29,
    "start_time": "2021-11-23T19:15:44.811Z"
   },
   {
    "duration": 31,
    "start_time": "2021-11-23T19:15:44.846Z"
   },
   {
    "duration": 47,
    "start_time": "2021-11-23T19:15:44.882Z"
   },
   {
    "duration": 39,
    "start_time": "2021-11-23T19:15:44.933Z"
   },
   {
    "duration": 20,
    "start_time": "2021-11-23T19:15:44.975Z"
   },
   {
    "duration": 68,
    "start_time": "2021-11-23T19:15:44.998Z"
   },
   {
    "duration": 14,
    "start_time": "2021-11-23T19:15:45.069Z"
   },
   {
    "duration": 44,
    "start_time": "2021-11-23T19:15:45.087Z"
   },
   {
    "duration": 20,
    "start_time": "2021-11-23T19:15:45.134Z"
   },
   {
    "duration": 99,
    "start_time": "2021-11-23T19:15:45.157Z"
   },
   {
    "duration": 27,
    "start_time": "2021-11-23T19:15:45.259Z"
   },
   {
    "duration": 14,
    "start_time": "2021-11-23T19:15:45.289Z"
   },
   {
    "duration": 27,
    "start_time": "2021-11-23T19:15:45.306Z"
   },
   {
    "duration": 181,
    "start_time": "2021-11-23T19:15:45.336Z"
   },
   {
    "duration": 24,
    "start_time": "2021-11-23T19:15:45.519Z"
   },
   {
    "duration": 37,
    "start_time": "2021-11-23T19:15:45.545Z"
   },
   {
    "duration": 38,
    "start_time": "2021-11-23T19:15:45.591Z"
   },
   {
    "duration": 21,
    "start_time": "2021-11-23T19:15:45.642Z"
   },
   {
    "duration": 9,
    "start_time": "2021-11-23T19:15:45.666Z"
   },
   {
    "duration": 30,
    "start_time": "2021-11-23T19:15:45.678Z"
   },
   {
    "duration": 4,
    "start_time": "2021-11-23T19:15:45.730Z"
   },
   {
    "duration": 27,
    "start_time": "2021-11-23T19:15:45.736Z"
   },
   {
    "duration": 35,
    "start_time": "2021-11-23T19:15:45.766Z"
   },
   {
    "duration": 8,
    "start_time": "2021-11-23T19:15:45.803Z"
   },
   {
    "duration": 9,
    "start_time": "2021-11-23T19:15:45.831Z"
   },
   {
    "duration": 26,
    "start_time": "2021-11-23T19:15:45.844Z"
   },
   {
    "duration": 27,
    "start_time": "2021-11-23T19:15:45.872Z"
   },
   {
    "duration": 22,
    "start_time": "2021-11-23T19:15:45.901Z"
   },
   {
    "duration": 22,
    "start_time": "2021-11-23T19:15:45.928Z"
   },
   {
    "duration": 16,
    "start_time": "2021-11-23T19:15:45.953Z"
   },
   {
    "duration": 23,
    "start_time": "2021-11-23T19:15:45.972Z"
   },
   {
    "duration": 32,
    "start_time": "2021-11-23T19:15:45.998Z"
   },
   {
    "duration": 12,
    "start_time": "2021-11-23T19:15:46.032Z"
   },
   {
    "duration": 575,
    "start_time": "2021-11-23T19:15:46.046Z"
   },
   {
    "duration": 20,
    "start_time": "2021-11-23T19:15:46.623Z"
   },
   {
    "duration": 34,
    "start_time": "2021-11-23T19:15:46.646Z"
   },
   {
    "duration": 37,
    "start_time": "2021-11-23T19:15:46.683Z"
   },
   {
    "duration": 529,
    "start_time": "2021-11-23T19:15:46.722Z"
   },
   {
    "duration": 392,
    "start_time": "2021-11-23T19:15:47.253Z"
   },
   {
    "duration": 543,
    "start_time": "2021-11-23T19:15:47.648Z"
   },
   {
    "duration": 480,
    "start_time": "2021-11-23T19:15:48.193Z"
   },
   {
    "duration": 4,
    "start_time": "2021-11-23T19:15:48.675Z"
   },
   {
    "duration": 453,
    "start_time": "2021-11-23T19:15:48.682Z"
   },
   {
    "duration": 446,
    "start_time": "2021-11-23T19:15:49.138Z"
   },
   {
    "duration": 446,
    "start_time": "2021-11-23T19:15:49.587Z"
   },
   {
    "duration": 34,
    "start_time": "2021-11-23T19:15:50.035Z"
   },
   {
    "duration": 61,
    "start_time": "2021-11-23T19:15:50.071Z"
   },
   {
    "duration": 35,
    "start_time": "2021-11-23T19:15:50.134Z"
   },
   {
    "duration": 5,
    "start_time": "2021-11-23T19:15:50.172Z"
   },
   {
    "duration": 332,
    "start_time": "2021-11-23T19:15:50.179Z"
   },
   {
    "duration": 340,
    "start_time": "2021-11-23T19:15:50.514Z"
   },
   {
    "duration": 338,
    "start_time": "2021-11-23T19:15:50.857Z"
   },
   {
    "duration": 397,
    "start_time": "2021-11-23T19:15:51.198Z"
   },
   {
    "duration": 331,
    "start_time": "2021-11-23T19:15:51.597Z"
   },
   {
    "duration": 324,
    "start_time": "2021-11-23T19:15:51.931Z"
   },
   {
    "duration": 315,
    "start_time": "2021-11-23T19:15:52.257Z"
   },
   {
    "duration": 363,
    "start_time": "2021-11-23T19:15:52.574Z"
   },
   {
    "duration": 319,
    "start_time": "2021-11-23T19:15:52.940Z"
   },
   {
    "duration": 16,
    "start_time": "2021-11-23T19:15:53.262Z"
   },
   {
    "duration": 22,
    "start_time": "2021-11-23T19:15:53.280Z"
   },
   {
    "duration": 36,
    "start_time": "2021-11-23T19:15:53.304Z"
   },
   {
    "duration": 13,
    "start_time": "2021-11-23T19:15:53.347Z"
   },
   {
    "duration": 48,
    "start_time": "2021-11-23T19:15:53.363Z"
   },
   {
    "duration": 1421,
    "start_time": "2021-11-23T19:17:28.176Z"
   },
   {
    "duration": 521,
    "start_time": "2021-11-23T19:17:29.600Z"
   },
   {
    "duration": 18,
    "start_time": "2021-11-23T19:17:30.128Z"
   },
   {
    "duration": 19,
    "start_time": "2021-11-23T19:17:30.148Z"
   },
   {
    "duration": 20,
    "start_time": "2021-11-23T19:17:30.170Z"
   },
   {
    "duration": 16,
    "start_time": "2021-11-23T19:17:30.192Z"
   },
   {
    "duration": 26,
    "start_time": "2021-11-23T19:17:30.210Z"
   },
   {
    "duration": 51,
    "start_time": "2021-11-23T19:17:30.241Z"
   },
   {
    "duration": 45,
    "start_time": "2021-11-23T19:17:30.295Z"
   },
   {
    "duration": 38,
    "start_time": "2021-11-23T19:17:30.343Z"
   },
   {
    "duration": 14,
    "start_time": "2021-11-23T19:17:30.383Z"
   },
   {
    "duration": 47,
    "start_time": "2021-11-23T19:17:30.399Z"
   },
   {
    "duration": 12,
    "start_time": "2021-11-23T19:17:30.449Z"
   },
   {
    "duration": 37,
    "start_time": "2021-11-23T19:17:30.464Z"
   },
   {
    "duration": 17,
    "start_time": "2021-11-23T19:17:30.503Z"
   },
   {
    "duration": 116,
    "start_time": "2021-11-23T19:17:30.524Z"
   },
   {
    "duration": 24,
    "start_time": "2021-11-23T19:17:30.642Z"
   },
   {
    "duration": 11,
    "start_time": "2021-11-23T19:17:30.669Z"
   },
   {
    "duration": 47,
    "start_time": "2021-11-23T19:17:30.683Z"
   },
   {
    "duration": 169,
    "start_time": "2021-11-23T19:17:30.733Z"
   },
   {
    "duration": 20,
    "start_time": "2021-11-23T19:17:30.904Z"
   },
   {
    "duration": 29,
    "start_time": "2021-11-23T19:17:30.930Z"
   },
   {
    "duration": 31,
    "start_time": "2021-11-23T19:17:30.965Z"
   },
   {
    "duration": 37,
    "start_time": "2021-11-23T19:17:31.000Z"
   },
   {
    "duration": 13,
    "start_time": "2021-11-23T19:17:31.040Z"
   },
   {
    "duration": 74,
    "start_time": "2021-11-23T19:17:31.056Z"
   },
   {
    "duration": 4,
    "start_time": "2021-11-23T19:17:31.133Z"
   },
   {
    "duration": 31,
    "start_time": "2021-11-23T19:17:31.139Z"
   },
   {
    "duration": 49,
    "start_time": "2021-11-23T19:17:31.173Z"
   },
   {
    "duration": 8,
    "start_time": "2021-11-23T19:17:31.225Z"
   },
   {
    "duration": 29,
    "start_time": "2021-11-23T19:17:31.235Z"
   },
   {
    "duration": 25,
    "start_time": "2021-11-23T19:17:31.267Z"
   },
   {
    "duration": 19,
    "start_time": "2021-11-23T19:17:31.294Z"
   },
   {
    "duration": 33,
    "start_time": "2021-11-23T19:17:31.315Z"
   },
   {
    "duration": 31,
    "start_time": "2021-11-23T19:17:31.350Z"
   },
   {
    "duration": 24,
    "start_time": "2021-11-23T19:17:31.383Z"
   },
   {
    "duration": 28,
    "start_time": "2021-11-23T19:17:31.409Z"
   },
   {
    "duration": 23,
    "start_time": "2021-11-23T19:17:31.440Z"
   },
   {
    "duration": 20,
    "start_time": "2021-11-23T19:17:31.466Z"
   },
   {
    "duration": 580,
    "start_time": "2021-11-23T19:17:31.489Z"
   },
   {
    "duration": 20,
    "start_time": "2021-11-23T19:17:32.071Z"
   },
   {
    "duration": 28,
    "start_time": "2021-11-23T19:17:32.094Z"
   },
   {
    "duration": 30,
    "start_time": "2021-11-23T19:17:32.129Z"
   },
   {
    "duration": 444,
    "start_time": "2021-11-23T19:17:32.163Z"
   },
   {
    "duration": 355,
    "start_time": "2021-11-23T19:17:32.610Z"
   },
   {
    "duration": 544,
    "start_time": "2021-11-23T19:17:32.968Z"
   },
   {
    "duration": 468,
    "start_time": "2021-11-23T19:17:33.514Z"
   },
   {
    "duration": 5,
    "start_time": "2021-11-23T19:17:33.984Z"
   },
   {
    "duration": 455,
    "start_time": "2021-11-23T19:17:33.991Z"
   },
   {
    "duration": 446,
    "start_time": "2021-11-23T19:17:34.449Z"
   },
   {
    "duration": 516,
    "start_time": "2021-11-23T19:17:34.897Z"
   },
   {
    "duration": 40,
    "start_time": "2021-11-23T19:17:35.415Z"
   },
   {
    "duration": 29,
    "start_time": "2021-11-23T19:17:35.458Z"
   },
   {
    "duration": 58,
    "start_time": "2021-11-23T19:17:35.489Z"
   },
   {
    "duration": 6,
    "start_time": "2021-11-23T19:17:35.550Z"
   },
   {
    "duration": 357,
    "start_time": "2021-11-23T19:17:35.558Z"
   },
   {
    "duration": 344,
    "start_time": "2021-11-23T19:17:35.917Z"
   },
   {
    "duration": 318,
    "start_time": "2021-11-23T19:17:36.263Z"
   },
   {
    "duration": 309,
    "start_time": "2021-11-23T19:17:36.584Z"
   },
   {
    "duration": 327,
    "start_time": "2021-11-23T19:17:36.895Z"
   },
   {
    "duration": 331,
    "start_time": "2021-11-23T19:17:37.225Z"
   },
   {
    "duration": 321,
    "start_time": "2021-11-23T19:17:37.559Z"
   },
   {
    "duration": 332,
    "start_time": "2021-11-23T19:17:37.883Z"
   },
   {
    "duration": 339,
    "start_time": "2021-11-23T19:17:38.218Z"
   },
   {
    "duration": 18,
    "start_time": "2021-11-23T19:17:38.559Z"
   },
   {
    "duration": 21,
    "start_time": "2021-11-23T19:17:38.579Z"
   },
   {
    "duration": 16,
    "start_time": "2021-11-23T19:17:38.629Z"
   },
   {
    "duration": 4,
    "start_time": "2021-11-23T19:17:38.652Z"
   },
   {
    "duration": 26,
    "start_time": "2021-11-23T19:17:38.658Z"
   },
   {
    "duration": 1249,
    "start_time": "2021-11-24T15:45:55.769Z"
   },
   {
    "duration": 418,
    "start_time": "2021-11-24T15:45:57.021Z"
   },
   {
    "duration": 13,
    "start_time": "2021-11-24T15:45:57.441Z"
   },
   {
    "duration": 7,
    "start_time": "2021-11-24T15:45:57.456Z"
   },
   {
    "duration": 10,
    "start_time": "2021-11-24T15:45:57.464Z"
   },
   {
    "duration": 8,
    "start_time": "2021-11-24T15:45:57.476Z"
   },
   {
    "duration": 11,
    "start_time": "2021-11-24T15:45:57.486Z"
   },
   {
    "duration": 59,
    "start_time": "2021-11-24T15:45:57.500Z"
   },
   {
    "duration": 8,
    "start_time": "2021-11-24T15:45:57.561Z"
   },
   {
    "duration": 24,
    "start_time": "2021-11-24T15:45:57.570Z"
   },
   {
    "duration": 7,
    "start_time": "2021-11-24T15:45:57.596Z"
   },
   {
    "duration": 53,
    "start_time": "2021-11-24T15:45:57.605Z"
   },
   {
    "duration": 7,
    "start_time": "2021-11-24T15:45:57.661Z"
   },
   {
    "duration": 13,
    "start_time": "2021-11-24T15:45:57.669Z"
   },
   {
    "duration": 4,
    "start_time": "2021-11-24T15:45:57.684Z"
   },
   {
    "duration": 99,
    "start_time": "2021-11-24T15:45:57.690Z"
   },
   {
    "duration": 17,
    "start_time": "2021-11-24T15:45:57.791Z"
   },
   {
    "duration": 9,
    "start_time": "2021-11-24T15:45:57.809Z"
   },
   {
    "duration": 4,
    "start_time": "2021-11-24T15:45:57.844Z"
   },
   {
    "duration": 117,
    "start_time": "2021-11-24T15:45:57.850Z"
   },
   {
    "duration": 15,
    "start_time": "2021-11-24T15:45:57.969Z"
   },
   {
    "duration": 23,
    "start_time": "2021-11-24T15:45:57.986Z"
   },
   {
    "duration": 33,
    "start_time": "2021-11-24T15:45:58.015Z"
   },
   {
    "duration": 18,
    "start_time": "2021-11-24T15:45:58.052Z"
   },
   {
    "duration": 8,
    "start_time": "2021-11-24T15:45:58.071Z"
   },
   {
    "duration": 26,
    "start_time": "2021-11-24T15:45:58.081Z"
   },
   {
    "duration": 36,
    "start_time": "2021-11-24T15:45:58.109Z"
   },
   {
    "duration": 10,
    "start_time": "2021-11-24T15:45:58.148Z"
   },
   {
    "duration": 19,
    "start_time": "2021-11-24T15:45:58.160Z"
   },
   {
    "duration": 6,
    "start_time": "2021-11-24T15:45:58.181Z"
   },
   {
    "duration": 4,
    "start_time": "2021-11-24T15:45:58.189Z"
   },
   {
    "duration": 49,
    "start_time": "2021-11-24T15:45:58.195Z"
   },
   {
    "duration": 10,
    "start_time": "2021-11-24T15:45:58.246Z"
   },
   {
    "duration": 12,
    "start_time": "2021-11-24T15:45:58.258Z"
   },
   {
    "duration": 10,
    "start_time": "2021-11-24T15:45:58.271Z"
   },
   {
    "duration": 6,
    "start_time": "2021-11-24T15:45:58.283Z"
   },
   {
    "duration": 55,
    "start_time": "2021-11-24T15:45:58.291Z"
   },
   {
    "duration": 10,
    "start_time": "2021-11-24T15:45:58.348Z"
   },
   {
    "duration": 9,
    "start_time": "2021-11-24T15:45:58.360Z"
   },
   {
    "duration": 348,
    "start_time": "2021-11-24T15:45:58.370Z"
   },
   {
    "duration": 11,
    "start_time": "2021-11-24T15:45:58.720Z"
   },
   {
    "duration": 3,
    "start_time": "2021-11-24T15:45:58.745Z"
   },
   {
    "duration": 19,
    "start_time": "2021-11-24T15:45:58.749Z"
   },
   {
    "duration": 382,
    "start_time": "2021-11-24T15:45:58.770Z"
   },
   {
    "duration": 275,
    "start_time": "2021-11-24T15:45:59.154Z"
   },
   {
    "duration": 364,
    "start_time": "2021-11-24T15:45:59.431Z"
   },
   {
    "duration": 327,
    "start_time": "2021-11-24T15:45:59.798Z"
   },
   {
    "duration": 4,
    "start_time": "2021-11-24T15:46:00.128Z"
   },
   {
    "duration": 299,
    "start_time": "2021-11-24T15:46:00.135Z"
   },
   {
    "duration": 296,
    "start_time": "2021-11-24T15:46:00.436Z"
   },
   {
    "duration": 363,
    "start_time": "2021-11-24T15:46:00.735Z"
   },
   {
    "duration": 25,
    "start_time": "2021-11-24T15:46:01.100Z"
   },
   {
    "duration": 24,
    "start_time": "2021-11-24T15:46:01.145Z"
   },
   {
    "duration": 23,
    "start_time": "2021-11-24T15:46:01.172Z"
   },
   {
    "duration": 5,
    "start_time": "2021-11-24T15:46:01.197Z"
   },
   {
    "duration": 230,
    "start_time": "2021-11-24T15:46:01.204Z"
   },
   {
    "duration": 222,
    "start_time": "2021-11-24T15:46:01.436Z"
   },
   {
    "duration": 208,
    "start_time": "2021-11-24T15:46:01.659Z"
   },
   {
    "duration": 206,
    "start_time": "2021-11-24T15:46:01.869Z"
   },
   {
    "duration": 218,
    "start_time": "2021-11-24T15:46:02.076Z"
   },
   {
    "duration": 206,
    "start_time": "2021-11-24T15:46:02.296Z"
   },
   {
    "duration": 203,
    "start_time": "2021-11-24T15:46:02.504Z"
   },
   {
    "duration": 212,
    "start_time": "2021-11-24T15:46:02.708Z"
   },
   {
    "duration": 205,
    "start_time": "2021-11-24T15:46:02.922Z"
   },
   {
    "duration": 19,
    "start_time": "2021-11-24T15:46:03.129Z"
   },
   {
    "duration": 15,
    "start_time": "2021-11-24T15:46:03.150Z"
   },
   {
    "duration": 15,
    "start_time": "2021-11-24T15:46:03.167Z"
   },
   {
    "duration": 2,
    "start_time": "2021-11-24T15:46:03.188Z"
   },
   {
    "duration": 53,
    "start_time": "2021-11-24T15:46:03.192Z"
   },
   {
    "duration": 13,
    "start_time": "2021-11-24T15:47:15.850Z"
   },
   {
    "duration": 9,
    "start_time": "2021-11-24T15:50:46.150Z"
   },
   {
    "duration": 3,
    "start_time": "2021-11-24T15:58:36.439Z"
   },
   {
    "duration": 387,
    "start_time": "2021-11-24T15:58:36.444Z"
   },
   {
    "duration": 16,
    "start_time": "2021-11-24T15:58:36.833Z"
   },
   {
    "duration": 10,
    "start_time": "2021-11-24T15:58:36.850Z"
   },
   {
    "duration": 9,
    "start_time": "2021-11-24T15:58:36.861Z"
   },
   {
    "duration": 6,
    "start_time": "2021-11-24T15:58:36.872Z"
   },
   {
    "duration": 6,
    "start_time": "2021-11-24T15:58:36.881Z"
   },
   {
    "duration": 59,
    "start_time": "2021-11-24T15:58:36.889Z"
   },
   {
    "duration": 8,
    "start_time": "2021-11-24T15:58:36.950Z"
   },
   {
    "duration": 16,
    "start_time": "2021-11-24T15:58:36.960Z"
   },
   {
    "duration": 7,
    "start_time": "2021-11-24T15:58:36.978Z"
   },
   {
    "duration": 60,
    "start_time": "2021-11-24T15:58:36.987Z"
   },
   {
    "duration": 5,
    "start_time": "2021-11-24T15:58:37.049Z"
   },
   {
    "duration": 14,
    "start_time": "2021-11-24T15:58:37.056Z"
   },
   {
    "duration": 3,
    "start_time": "2021-11-24T15:58:37.072Z"
   },
   {
    "duration": 91,
    "start_time": "2021-11-24T15:58:37.076Z"
   },
   {
    "duration": 15,
    "start_time": "2021-11-24T15:58:37.169Z"
   },
   {
    "duration": 8,
    "start_time": "2021-11-24T15:58:37.185Z"
   },
   {
    "duration": 3,
    "start_time": "2021-11-24T15:58:37.196Z"
   },
   {
    "duration": 122,
    "start_time": "2021-11-24T15:58:37.202Z"
   },
   {
    "duration": 20,
    "start_time": "2021-11-24T15:58:37.326Z"
   },
   {
    "duration": 17,
    "start_time": "2021-11-24T15:58:37.348Z"
   },
   {
    "duration": 7,
    "start_time": "2021-11-24T15:58:37.367Z"
   },
   {
    "duration": 18,
    "start_time": "2021-11-24T15:58:37.375Z"
   },
   {
    "duration": 9,
    "start_time": "2021-11-24T15:58:37.396Z"
   },
   {
    "duration": 16,
    "start_time": "2021-11-24T15:58:37.445Z"
   },
   {
    "duration": 3,
    "start_time": "2021-11-24T15:58:37.463Z"
   },
   {
    "duration": 15,
    "start_time": "2021-11-24T15:58:37.468Z"
   },
   {
    "duration": 16,
    "start_time": "2021-11-24T15:58:37.484Z"
   },
   {
    "duration": 5,
    "start_time": "2021-11-24T15:58:37.502Z"
   },
   {
    "duration": 3,
    "start_time": "2021-11-24T15:58:37.544Z"
   },
   {
    "duration": 10,
    "start_time": "2021-11-24T15:58:37.549Z"
   },
   {
    "duration": 9,
    "start_time": "2021-11-24T15:58:37.561Z"
   },
   {
    "duration": 10,
    "start_time": "2021-11-24T15:58:37.572Z"
   },
   {
    "duration": 10,
    "start_time": "2021-11-24T15:58:37.584Z"
   },
   {
    "duration": 54,
    "start_time": "2021-11-24T15:58:37.596Z"
   },
   {
    "duration": 13,
    "start_time": "2021-11-24T15:58:37.651Z"
   },
   {
    "duration": 12,
    "start_time": "2021-11-24T15:58:37.666Z"
   },
   {
    "duration": 12,
    "start_time": "2021-11-24T15:58:37.679Z"
   },
   {
    "duration": 15,
    "start_time": "2021-11-24T15:58:37.693Z"
   },
   {
    "duration": 49,
    "start_time": "2021-11-24T15:58:37.710Z"
   },
   {
    "duration": 6590,
    "start_time": "2021-11-24T15:58:37.761Z"
   },
   {
    "duration": 674,
    "start_time": "2021-11-24T15:58:44.353Z"
   },
   {
    "duration": -2314,
    "start_time": "2021-11-24T15:58:47.344Z"
   },
   {
    "duration": -2317,
    "start_time": "2021-11-24T15:58:47.348Z"
   },
   {
    "duration": -2319,
    "start_time": "2021-11-24T15:58:47.352Z"
   },
   {
    "duration": -2324,
    "start_time": "2021-11-24T15:58:47.358Z"
   },
   {
    "duration": -2327,
    "start_time": "2021-11-24T15:58:47.362Z"
   },
   {
    "duration": -2330,
    "start_time": "2021-11-24T15:58:47.366Z"
   },
   {
    "duration": -2333,
    "start_time": "2021-11-24T15:58:47.370Z"
   },
   {
    "duration": -2335,
    "start_time": "2021-11-24T15:58:47.374Z"
   },
   {
    "duration": -2338,
    "start_time": "2021-11-24T15:58:47.378Z"
   },
   {
    "duration": -2348,
    "start_time": "2021-11-24T15:58:47.389Z"
   },
   {
    "duration": -2352,
    "start_time": "2021-11-24T15:58:47.394Z"
   },
   {
    "duration": -2354,
    "start_time": "2021-11-24T15:58:47.397Z"
   },
   {
    "duration": -2358,
    "start_time": "2021-11-24T15:58:47.402Z"
   },
   {
    "duration": -2358,
    "start_time": "2021-11-24T15:58:47.405Z"
   },
   {
    "duration": -2361,
    "start_time": "2021-11-24T15:58:47.409Z"
   },
   {
    "duration": -2364,
    "start_time": "2021-11-24T15:58:47.413Z"
   },
   {
    "duration": -2367,
    "start_time": "2021-11-24T15:58:47.417Z"
   },
   {
    "duration": -2370,
    "start_time": "2021-11-24T15:58:47.421Z"
   },
   {
    "duration": -2372,
    "start_time": "2021-11-24T15:58:47.425Z"
   },
   {
    "duration": -2376,
    "start_time": "2021-11-24T15:58:47.430Z"
   },
   {
    "duration": -2379,
    "start_time": "2021-11-24T15:58:47.434Z"
   },
   {
    "duration": -2381,
    "start_time": "2021-11-24T15:58:47.437Z"
   },
   {
    "duration": -2385,
    "start_time": "2021-11-24T15:58:47.442Z"
   },
   {
    "duration": -2387,
    "start_time": "2021-11-24T15:58:47.445Z"
   },
   {
    "duration": -2389,
    "start_time": "2021-11-24T15:58:47.449Z"
   },
   {
    "duration": -2392,
    "start_time": "2021-11-24T15:58:47.453Z"
   },
   {
    "duration": -2394,
    "start_time": "2021-11-24T15:58:47.457Z"
   },
   {
    "duration": -2397,
    "start_time": "2021-11-24T15:58:47.461Z"
   },
   {
    "duration": -2400,
    "start_time": "2021-11-24T15:58:47.465Z"
   },
   {
    "duration": -2403,
    "start_time": "2021-11-24T15:58:47.469Z"
   },
   {
    "duration": 17,
    "start_time": "2021-11-24T15:59:03.306Z"
   },
   {
    "duration": 4596,
    "start_time": "2021-11-24T15:59:13.684Z"
   },
   {
    "duration": 17,
    "start_time": "2021-11-24T15:59:18.282Z"
   },
   {
    "duration": 2,
    "start_time": "2021-11-24T16:04:05.420Z"
   },
   {
    "duration": 414,
    "start_time": "2021-11-24T16:04:05.424Z"
   },
   {
    "duration": 13,
    "start_time": "2021-11-24T16:04:05.840Z"
   },
   {
    "duration": 12,
    "start_time": "2021-11-24T16:04:05.855Z"
   },
   {
    "duration": 8,
    "start_time": "2021-11-24T16:04:05.869Z"
   },
   {
    "duration": 8,
    "start_time": "2021-11-24T16:04:05.878Z"
   },
   {
    "duration": 12,
    "start_time": "2021-11-24T16:04:05.889Z"
   },
   {
    "duration": 52,
    "start_time": "2021-11-24T16:04:05.903Z"
   },
   {
    "duration": 8,
    "start_time": "2021-11-24T16:04:05.957Z"
   },
   {
    "duration": 16,
    "start_time": "2021-11-24T16:04:05.967Z"
   },
   {
    "duration": 7,
    "start_time": "2021-11-24T16:04:05.985Z"
   },
   {
    "duration": 24,
    "start_time": "2021-11-24T16:04:05.994Z"
   },
   {
    "duration": 34,
    "start_time": "2021-11-24T16:04:06.019Z"
   },
   {
    "duration": 17,
    "start_time": "2021-11-24T16:04:06.055Z"
   },
   {
    "duration": 23,
    "start_time": "2021-11-24T16:04:06.073Z"
   },
   {
    "duration": 85,
    "start_time": "2021-11-24T16:04:06.098Z"
   },
   {
    "duration": 14,
    "start_time": "2021-11-24T16:04:06.185Z"
   },
   {
    "duration": 22,
    "start_time": "2021-11-24T16:04:06.201Z"
   },
   {
    "duration": 11,
    "start_time": "2021-11-24T16:04:06.224Z"
   },
   {
    "duration": 136,
    "start_time": "2021-11-24T16:04:06.236Z"
   },
   {
    "duration": 14,
    "start_time": "2021-11-24T16:04:06.374Z"
   },
   {
    "duration": 36,
    "start_time": "2021-11-24T16:04:06.392Z"
   },
   {
    "duration": 15,
    "start_time": "2021-11-24T16:04:06.430Z"
   },
   {
    "duration": 18,
    "start_time": "2021-11-24T16:04:06.448Z"
   },
   {
    "duration": 7,
    "start_time": "2021-11-24T16:04:06.468Z"
   },
   {
    "duration": 19,
    "start_time": "2021-11-24T16:04:06.477Z"
   },
   {
    "duration": 4,
    "start_time": "2021-11-24T16:04:06.497Z"
   },
   {
    "duration": 10,
    "start_time": "2021-11-24T16:04:06.502Z"
   },
   {
    "duration": 19,
    "start_time": "2021-11-24T16:04:06.549Z"
   },
   {
    "duration": 7,
    "start_time": "2021-11-24T16:04:06.570Z"
   },
   {
    "duration": 7,
    "start_time": "2021-11-24T16:04:06.579Z"
   },
   {
    "duration": 7,
    "start_time": "2021-11-24T16:04:06.588Z"
   },
   {
    "duration": 57,
    "start_time": "2021-11-24T16:04:06.596Z"
   },
   {
    "duration": 13,
    "start_time": "2021-11-24T16:04:06.656Z"
   },
   {
    "duration": 9,
    "start_time": "2021-11-24T16:04:06.671Z"
   },
   {
    "duration": 8,
    "start_time": "2021-11-24T16:04:06.682Z"
   },
   {
    "duration": 10,
    "start_time": "2021-11-24T16:04:06.691Z"
   },
   {
    "duration": 46,
    "start_time": "2021-11-24T16:04:06.703Z"
   },
   {
    "duration": 3,
    "start_time": "2021-11-24T16:04:06.751Z"
   },
   {
    "duration": 11,
    "start_time": "2021-11-24T16:04:06.756Z"
   },
   {
    "duration": 12,
    "start_time": "2021-11-24T16:04:06.769Z"
   },
   {
    "duration": 37740,
    "start_time": "2021-11-24T16:04:06.783Z"
   },
   {
    "duration": 30,
    "start_time": "2021-11-24T16:04:44.525Z"
   },
   {
    "duration": 289,
    "start_time": "2021-11-24T16:04:44.557Z"
   },
   {
    "duration": -2794,
    "start_time": "2021-11-24T16:04:47.642Z"
   },
   {
    "duration": -2796,
    "start_time": "2021-11-24T16:04:47.646Z"
   },
   {
    "duration": -2806,
    "start_time": "2021-11-24T16:04:47.657Z"
   },
   {
    "duration": -2808,
    "start_time": "2021-11-24T16:04:47.661Z"
   },
   {
    "duration": -2811,
    "start_time": "2021-11-24T16:04:47.665Z"
   },
   {
    "duration": -2820,
    "start_time": "2021-11-24T16:04:47.675Z"
   },
   {
    "duration": -2823,
    "start_time": "2021-11-24T16:04:47.679Z"
   },
   {
    "duration": -2825,
    "start_time": "2021-11-24T16:04:47.683Z"
   },
   {
    "duration": -2828,
    "start_time": "2021-11-24T16:04:47.687Z"
   },
   {
    "duration": -2837,
    "start_time": "2021-11-24T16:04:47.697Z"
   },
   {
    "duration": -2841,
    "start_time": "2021-11-24T16:04:47.702Z"
   },
   {
    "duration": -2843,
    "start_time": "2021-11-24T16:04:47.705Z"
   },
   {
    "duration": -2847,
    "start_time": "2021-11-24T16:04:47.710Z"
   },
   {
    "duration": -2850,
    "start_time": "2021-11-24T16:04:47.713Z"
   },
   {
    "duration": -2853,
    "start_time": "2021-11-24T16:04:47.717Z"
   },
   {
    "duration": -2856,
    "start_time": "2021-11-24T16:04:47.721Z"
   },
   {
    "duration": -2860,
    "start_time": "2021-11-24T16:04:47.726Z"
   },
   {
    "duration": -2870,
    "start_time": "2021-11-24T16:04:47.737Z"
   },
   {
    "duration": -2872,
    "start_time": "2021-11-24T16:04:47.741Z"
   },
   {
    "duration": -2875,
    "start_time": "2021-11-24T16:04:47.745Z"
   },
   {
    "duration": -2895,
    "start_time": "2021-11-24T16:04:47.766Z"
   },
   {
    "duration": -2898,
    "start_time": "2021-11-24T16:04:47.770Z"
   },
   {
    "duration": -2901,
    "start_time": "2021-11-24T16:04:47.774Z"
   },
   {
    "duration": -2904,
    "start_time": "2021-11-24T16:04:47.778Z"
   },
   {
    "duration": -2908,
    "start_time": "2021-11-24T16:04:47.782Z"
   },
   {
    "duration": -2943,
    "start_time": "2021-11-24T16:04:47.818Z"
   },
   {
    "duration": -2946,
    "start_time": "2021-11-24T16:04:47.822Z"
   },
   {
    "duration": -2949,
    "start_time": "2021-11-24T16:04:47.826Z"
   },
   {
    "duration": -2952,
    "start_time": "2021-11-24T16:04:47.830Z"
   },
   {
    "duration": -2955,
    "start_time": "2021-11-24T16:04:47.834Z"
   },
   {
    "duration": 1451,
    "start_time": "2022-02-05T16:13:23.145Z"
   },
   {
    "duration": 509,
    "start_time": "2022-02-05T16:13:24.598Z"
   },
   {
    "duration": 19,
    "start_time": "2022-02-05T16:13:25.110Z"
   },
   {
    "duration": 30,
    "start_time": "2022-02-05T16:13:25.132Z"
   },
   {
    "duration": 37,
    "start_time": "2022-02-05T16:13:25.165Z"
   },
   {
    "duration": 9,
    "start_time": "2022-02-05T16:13:25.204Z"
   },
   {
    "duration": 12,
    "start_time": "2022-02-05T16:13:25.215Z"
   },
   {
    "duration": 40,
    "start_time": "2022-02-05T16:13:25.233Z"
   },
   {
    "duration": 11,
    "start_time": "2022-02-05T16:13:25.276Z"
   },
   {
    "duration": 25,
    "start_time": "2022-02-05T16:13:25.289Z"
   },
   {
    "duration": 41,
    "start_time": "2022-02-05T16:13:25.316Z"
   },
   {
    "duration": 31,
    "start_time": "2022-02-05T16:13:25.359Z"
   },
   {
    "duration": 12,
    "start_time": "2022-02-05T16:13:25.392Z"
   },
   {
    "duration": 53,
    "start_time": "2022-02-05T16:13:25.407Z"
   },
   {
    "duration": 5,
    "start_time": "2022-02-05T16:13:25.463Z"
   },
   {
    "duration": 136,
    "start_time": "2022-02-05T16:13:25.470Z"
   },
   {
    "duration": 40,
    "start_time": "2022-02-05T16:13:25.608Z"
   },
   {
    "duration": 11,
    "start_time": "2022-02-05T16:13:25.651Z"
   },
   {
    "duration": 11,
    "start_time": "2022-02-05T16:13:25.665Z"
   },
   {
    "duration": 151,
    "start_time": "2022-02-05T16:13:25.679Z"
   },
   {
    "duration": 25,
    "start_time": "2022-02-05T16:13:25.833Z"
   },
   {
    "duration": 25,
    "start_time": "2022-02-05T16:13:25.861Z"
   },
   {
    "duration": 11,
    "start_time": "2022-02-05T16:13:25.892Z"
   },
   {
    "duration": 49,
    "start_time": "2022-02-05T16:13:25.906Z"
   },
   {
    "duration": 9,
    "start_time": "2022-02-05T16:13:25.958Z"
   },
   {
    "duration": 36,
    "start_time": "2022-02-05T16:13:25.969Z"
   },
   {
    "duration": 9,
    "start_time": "2022-02-05T16:13:26.007Z"
   },
   {
    "duration": 32,
    "start_time": "2022-02-05T16:13:26.018Z"
   },
   {
    "duration": 27,
    "start_time": "2022-02-05T16:13:26.053Z"
   },
   {
    "duration": 9,
    "start_time": "2022-02-05T16:13:26.083Z"
   },
   {
    "duration": 8,
    "start_time": "2022-02-05T16:13:26.096Z"
   },
   {
    "duration": 48,
    "start_time": "2022-02-05T16:13:26.107Z"
   },
   {
    "duration": 17,
    "start_time": "2022-02-05T16:13:26.158Z"
   },
   {
    "duration": 19,
    "start_time": "2022-02-05T16:13:26.178Z"
   },
   {
    "duration": 48,
    "start_time": "2022-02-05T16:13:26.200Z"
   },
   {
    "duration": 11,
    "start_time": "2022-02-05T16:13:26.251Z"
   },
   {
    "duration": 25,
    "start_time": "2022-02-05T16:13:26.264Z"
   },
   {
    "duration": 23,
    "start_time": "2022-02-05T16:13:26.291Z"
   },
   {
    "duration": 7,
    "start_time": "2022-02-05T16:13:26.317Z"
   },
   {
    "duration": 34,
    "start_time": "2022-02-05T16:13:26.326Z"
   },
   {
    "duration": 31,
    "start_time": "2022-02-05T16:13:26.362Z"
   },
   {
    "duration": 63138,
    "start_time": "2022-02-05T16:13:26.396Z"
   },
   {
    "duration": 33,
    "start_time": "2022-02-05T16:14:29.537Z"
   },
   {
    "duration": 604,
    "start_time": "2022-02-05T16:14:29.573Z"
   },
   {
    "duration": 19,
    "start_time": "2022-02-05T16:14:30.179Z"
   },
   {
    "duration": 16,
    "start_time": "2022-02-05T16:14:30.201Z"
   },
   {
    "duration": 44,
    "start_time": "2022-02-05T16:14:30.219Z"
   },
   {
    "duration": 436,
    "start_time": "2022-02-05T16:14:30.265Z"
   },
   {
    "duration": 363,
    "start_time": "2022-02-05T16:14:30.704Z"
   },
   {
    "duration": 526,
    "start_time": "2022-02-05T16:14:31.070Z"
   },
   {
    "duration": 479,
    "start_time": "2022-02-05T16:14:31.598Z"
   },
   {
    "duration": 6,
    "start_time": "2022-02-05T16:14:32.080Z"
   },
   {
    "duration": 491,
    "start_time": "2022-02-05T16:14:32.089Z"
   },
   {
    "duration": 729,
    "start_time": "2022-02-05T16:14:32.584Z"
   },
   {
    "duration": 823,
    "start_time": "2022-02-05T16:14:33.317Z"
   },
   {
    "duration": 51,
    "start_time": "2022-02-05T16:14:34.148Z"
   },
   {
    "duration": 78,
    "start_time": "2022-02-05T16:14:34.202Z"
   },
   {
    "duration": 67,
    "start_time": "2022-02-05T16:14:34.284Z"
   },
   {
    "duration": 7,
    "start_time": "2022-02-05T16:14:34.354Z"
   },
   {
    "duration": 310,
    "start_time": "2022-02-05T16:14:34.364Z"
   },
   {
    "duration": 324,
    "start_time": "2022-02-05T16:14:34.677Z"
   },
   {
    "duration": 329,
    "start_time": "2022-02-05T16:14:35.004Z"
   },
   {
    "duration": 322,
    "start_time": "2022-02-05T16:14:35.336Z"
   },
   {
    "duration": 328,
    "start_time": "2022-02-05T16:14:35.661Z"
   },
   {
    "duration": 307,
    "start_time": "2022-02-05T16:14:35.991Z"
   },
   {
    "duration": 315,
    "start_time": "2022-02-05T16:14:36.301Z"
   },
   {
    "duration": 309,
    "start_time": "2022-02-05T16:14:36.618Z"
   },
   {
    "duration": 322,
    "start_time": "2022-02-05T16:14:36.934Z"
   },
   {
    "duration": 19,
    "start_time": "2022-02-05T16:14:37.260Z"
   },
   {
    "duration": 30,
    "start_time": "2022-02-05T16:14:37.281Z"
   },
   {
    "duration": 43,
    "start_time": "2022-02-05T16:14:37.314Z"
   },
   {
    "duration": 4,
    "start_time": "2022-02-05T16:14:37.360Z"
   },
   {
    "duration": 47,
    "start_time": "2022-02-05T16:14:37.366Z"
   },
   {
    "duration": 2322,
    "start_time": "2022-03-25T11:52:26.150Z"
   },
   {
    "duration": 614,
    "start_time": "2022-03-25T11:52:28.481Z"
   },
   {
    "duration": 36,
    "start_time": "2022-03-25T11:52:29.099Z"
   },
   {
    "duration": 39,
    "start_time": "2022-03-25T11:52:29.140Z"
   },
   {
    "duration": 19,
    "start_time": "2022-03-25T11:52:29.182Z"
   },
   {
    "duration": 35,
    "start_time": "2022-03-25T11:52:29.205Z"
   },
   {
    "duration": 13,
    "start_time": "2022-03-25T11:52:29.275Z"
   },
   {
    "duration": 45,
    "start_time": "2022-03-25T11:52:29.292Z"
   },
   {
    "duration": 32,
    "start_time": "2022-03-25T11:52:29.375Z"
   },
   {
    "duration": 65,
    "start_time": "2022-03-25T11:52:29.417Z"
   },
   {
    "duration": 14,
    "start_time": "2022-03-25T11:52:29.485Z"
   },
   {
    "duration": 72,
    "start_time": "2022-03-25T11:52:29.502Z"
   },
   {
    "duration": 14,
    "start_time": "2022-03-25T11:52:29.576Z"
   },
   {
    "duration": 46,
    "start_time": "2022-03-25T11:52:29.593Z"
   },
   {
    "duration": 5,
    "start_time": "2022-03-25T11:52:29.643Z"
   },
   {
    "duration": 155,
    "start_time": "2022-03-25T11:52:29.675Z"
   },
   {
    "duration": 22,
    "start_time": "2022-03-25T11:52:29.833Z"
   },
   {
    "duration": 16,
    "start_time": "2022-03-25T11:52:29.875Z"
   },
   {
    "duration": 18,
    "start_time": "2022-03-25T11:52:29.894Z"
   },
   {
    "duration": 145,
    "start_time": "2022-03-25T11:52:29.915Z"
   },
   {
    "duration": 30,
    "start_time": "2022-03-25T11:52:30.063Z"
   },
   {
    "duration": 50,
    "start_time": "2022-03-25T11:52:30.096Z"
   },
   {
    "duration": 38,
    "start_time": "2022-03-25T11:52:30.150Z"
   },
   {
    "duration": 35,
    "start_time": "2022-03-25T11:52:30.191Z"
   },
   {
    "duration": 15,
    "start_time": "2022-03-25T11:52:30.228Z"
   },
   {
    "duration": 28,
    "start_time": "2022-03-25T11:52:30.274Z"
   },
   {
    "duration": 6,
    "start_time": "2022-03-25T11:52:30.306Z"
   },
   {
    "duration": 54,
    "start_time": "2022-03-25T11:52:30.322Z"
   },
   {
    "duration": 63,
    "start_time": "2022-03-25T11:52:30.381Z"
   },
   {
    "duration": 28,
    "start_time": "2022-03-25T11:52:30.448Z"
   },
   {
    "duration": 6,
    "start_time": "2022-03-25T11:52:30.480Z"
   },
   {
    "duration": 22,
    "start_time": "2022-03-25T11:52:30.489Z"
   },
   {
    "duration": 29,
    "start_time": "2022-03-25T11:52:30.514Z"
   },
   {
    "duration": 20,
    "start_time": "2022-03-25T11:52:30.574Z"
   },
   {
    "duration": 32,
    "start_time": "2022-03-25T11:52:30.597Z"
   },
   {
    "duration": 45,
    "start_time": "2022-03-25T11:52:30.632Z"
   },
   {
    "duration": 18,
    "start_time": "2022-03-25T11:52:30.680Z"
   },
   {
    "duration": 34,
    "start_time": "2022-03-25T11:52:30.703Z"
   },
   {
    "duration": 8,
    "start_time": "2022-03-25T11:52:30.739Z"
   },
   {
    "duration": 39,
    "start_time": "2022-03-25T11:52:30.750Z"
   },
   {
    "duration": 17,
    "start_time": "2022-03-25T11:52:30.792Z"
   },
   {
    "duration": 66400,
    "start_time": "2022-03-25T11:52:30.813Z"
   },
   {
    "duration": 27,
    "start_time": "2022-03-25T11:53:37.215Z"
   },
   {
    "duration": 493,
    "start_time": "2022-03-25T11:53:37.245Z"
   },
   {
    "duration": 19,
    "start_time": "2022-03-25T11:53:37.741Z"
   },
   {
    "duration": 19,
    "start_time": "2022-03-25T11:53:37.762Z"
   },
   {
    "duration": 35,
    "start_time": "2022-03-25T11:53:37.784Z"
   },
   {
    "duration": 642,
    "start_time": "2022-03-25T11:53:37.823Z"
   },
   {
    "duration": 374,
    "start_time": "2022-03-25T11:53:38.468Z"
   },
   {
    "duration": 757,
    "start_time": "2022-03-25T11:53:38.845Z"
   },
   {
    "duration": 380,
    "start_time": "2022-03-25T11:53:39.606Z"
   },
   {
    "duration": 5,
    "start_time": "2022-03-25T11:53:39.989Z"
   },
   {
    "duration": 410,
    "start_time": "2022-03-25T11:53:39.997Z"
   },
   {
    "duration": 487,
    "start_time": "2022-03-25T11:53:40.410Z"
   },
   {
    "duration": 384,
    "start_time": "2022-03-25T11:53:40.900Z"
   },
   {
    "duration": 36,
    "start_time": "2022-03-25T11:53:41.287Z"
   },
   {
    "duration": 82,
    "start_time": "2022-03-25T11:53:41.325Z"
   },
   {
    "duration": 36,
    "start_time": "2022-03-25T11:53:41.410Z"
   },
   {
    "duration": 28,
    "start_time": "2022-03-25T11:53:41.448Z"
   },
   {
    "duration": 548,
    "start_time": "2022-03-25T11:53:41.480Z"
   },
   {
    "duration": 291,
    "start_time": "2022-03-25T11:53:42.031Z"
   },
   {
    "duration": 260,
    "start_time": "2022-03-25T11:53:42.325Z"
   },
   {
    "duration": 252,
    "start_time": "2022-03-25T11:53:42.588Z"
   },
   {
    "duration": 264,
    "start_time": "2022-03-25T11:53:42.842Z"
   },
   {
    "duration": 280,
    "start_time": "2022-03-25T11:53:43.108Z"
   },
   {
    "duration": 292,
    "start_time": "2022-03-25T11:53:43.393Z"
   },
   {
    "duration": 289,
    "start_time": "2022-03-25T11:53:43.688Z"
   },
   {
    "duration": 286,
    "start_time": "2022-03-25T11:53:43.981Z"
   },
   {
    "duration": 22,
    "start_time": "2022-03-25T11:53:44.269Z"
   },
   {
    "duration": 49,
    "start_time": "2022-03-25T11:53:44.295Z"
   },
   {
    "duration": 41,
    "start_time": "2022-03-25T11:53:44.349Z"
   },
   {
    "duration": 11,
    "start_time": "2022-03-25T11:53:44.399Z"
   },
   {
    "duration": 53,
    "start_time": "2022-03-25T11:53:44.413Z"
   },
   {
    "duration": 1714,
    "start_time": "2022-03-25T11:58:21.049Z"
   },
   {
    "duration": 524,
    "start_time": "2022-03-25T11:58:22.766Z"
   },
   {
    "duration": 22,
    "start_time": "2022-03-25T11:58:23.293Z"
   },
   {
    "duration": 17,
    "start_time": "2022-03-25T11:58:23.318Z"
   },
   {
    "duration": 49,
    "start_time": "2022-03-25T11:58:23.337Z"
   },
   {
    "duration": 16,
    "start_time": "2022-03-25T11:58:23.389Z"
   },
   {
    "duration": 13,
    "start_time": "2022-03-25T11:58:23.407Z"
   },
   {
    "duration": 69,
    "start_time": "2022-03-25T11:58:23.422Z"
   },
   {
    "duration": 15,
    "start_time": "2022-03-25T11:58:23.494Z"
   },
   {
    "duration": 71,
    "start_time": "2022-03-25T11:58:23.514Z"
   },
   {
    "duration": 12,
    "start_time": "2022-03-25T11:58:23.588Z"
   },
   {
    "duration": 37,
    "start_time": "2022-03-25T11:58:23.602Z"
   },
   {
    "duration": 39,
    "start_time": "2022-03-25T11:58:23.641Z"
   },
   {
    "duration": 17,
    "start_time": "2022-03-25T11:58:23.682Z"
   },
   {
    "duration": 6,
    "start_time": "2022-03-25T11:58:23.702Z"
   },
   {
    "duration": 169,
    "start_time": "2022-03-25T11:58:23.710Z"
   },
   {
    "duration": 23,
    "start_time": "2022-03-25T11:58:23.882Z"
   },
   {
    "duration": 13,
    "start_time": "2022-03-25T11:58:23.908Z"
   },
   {
    "duration": 5,
    "start_time": "2022-03-25T11:58:23.924Z"
   },
   {
    "duration": 170,
    "start_time": "2022-03-25T11:58:23.931Z"
   },
   {
    "duration": 29,
    "start_time": "2022-03-25T11:58:24.103Z"
   },
   {
    "duration": 51,
    "start_time": "2022-03-25T11:58:24.134Z"
   },
   {
    "duration": 13,
    "start_time": "2022-03-25T11:58:24.187Z"
   },
   {
    "duration": 36,
    "start_time": "2022-03-25T11:58:24.203Z"
   },
   {
    "duration": 10,
    "start_time": "2022-03-25T11:58:24.241Z"
   },
   {
    "duration": 32,
    "start_time": "2022-03-25T11:58:24.274Z"
   },
   {
    "duration": 4,
    "start_time": "2022-03-25T11:58:24.310Z"
   },
   {
    "duration": 12,
    "start_time": "2022-03-25T11:58:24.322Z"
   },
   {
    "duration": 185,
    "start_time": "2022-03-25T11:58:24.375Z"
   },
   {
    "duration": 0,
    "start_time": "2022-03-25T11:58:24.563Z"
   },
   {
    "duration": 0,
    "start_time": "2022-03-25T11:58:24.574Z"
   },
   {
    "duration": 1,
    "start_time": "2022-03-25T11:58:24.575Z"
   },
   {
    "duration": 0,
    "start_time": "2022-03-25T11:58:24.580Z"
   },
   {
    "duration": 0,
    "start_time": "2022-03-25T11:58:24.582Z"
   },
   {
    "duration": 0,
    "start_time": "2022-03-25T11:58:24.584Z"
   },
   {
    "duration": 0,
    "start_time": "2022-03-25T11:58:24.585Z"
   },
   {
    "duration": 0,
    "start_time": "2022-03-25T11:58:24.587Z"
   },
   {
    "duration": 0,
    "start_time": "2022-03-25T11:58:24.589Z"
   },
   {
    "duration": 0,
    "start_time": "2022-03-25T11:58:24.590Z"
   },
   {
    "duration": 0,
    "start_time": "2022-03-25T11:58:24.592Z"
   },
   {
    "duration": 0,
    "start_time": "2022-03-25T11:58:24.596Z"
   },
   {
    "duration": 0,
    "start_time": "2022-03-25T11:58:24.598Z"
   },
   {
    "duration": 0,
    "start_time": "2022-03-25T11:58:24.600Z"
   },
   {
    "duration": 0,
    "start_time": "2022-03-25T11:58:24.602Z"
   },
   {
    "duration": 0,
    "start_time": "2022-03-25T11:58:24.604Z"
   },
   {
    "duration": 0,
    "start_time": "2022-03-25T11:58:24.606Z"
   },
   {
    "duration": 0,
    "start_time": "2022-03-25T11:58:24.608Z"
   },
   {
    "duration": 0,
    "start_time": "2022-03-25T11:58:24.610Z"
   },
   {
    "duration": 0,
    "start_time": "2022-03-25T11:58:24.612Z"
   },
   {
    "duration": 0,
    "start_time": "2022-03-25T11:58:24.614Z"
   },
   {
    "duration": 0,
    "start_time": "2022-03-25T11:58:24.673Z"
   },
   {
    "duration": 0,
    "start_time": "2022-03-25T11:58:24.674Z"
   },
   {
    "duration": 0,
    "start_time": "2022-03-25T11:58:24.677Z"
   },
   {
    "duration": 0,
    "start_time": "2022-03-25T11:58:24.678Z"
   },
   {
    "duration": 0,
    "start_time": "2022-03-25T11:58:24.680Z"
   },
   {
    "duration": 0,
    "start_time": "2022-03-25T11:58:24.683Z"
   },
   {
    "duration": 0,
    "start_time": "2022-03-25T11:58:24.686Z"
   },
   {
    "duration": 0,
    "start_time": "2022-03-25T11:58:24.688Z"
   },
   {
    "duration": 0,
    "start_time": "2022-03-25T11:58:24.689Z"
   },
   {
    "duration": 0,
    "start_time": "2022-03-25T11:58:24.690Z"
   },
   {
    "duration": 0,
    "start_time": "2022-03-25T11:58:24.691Z"
   },
   {
    "duration": 0,
    "start_time": "2022-03-25T11:58:24.692Z"
   },
   {
    "duration": 0,
    "start_time": "2022-03-25T11:58:24.693Z"
   },
   {
    "duration": 0,
    "start_time": "2022-03-25T11:58:24.694Z"
   },
   {
    "duration": 0,
    "start_time": "2022-03-25T11:58:24.695Z"
   },
   {
    "duration": 0,
    "start_time": "2022-03-25T11:58:24.696Z"
   },
   {
    "duration": 0,
    "start_time": "2022-03-25T11:58:24.697Z"
   },
   {
    "duration": 0,
    "start_time": "2022-03-25T11:58:24.700Z"
   },
   {
    "duration": 0,
    "start_time": "2022-03-25T11:58:24.702Z"
   },
   {
    "duration": 0,
    "start_time": "2022-03-25T11:58:24.703Z"
   },
   {
    "duration": 0,
    "start_time": "2022-03-25T11:58:24.706Z"
   },
   {
    "duration": 0,
    "start_time": "2022-03-25T11:58:24.709Z"
   },
   {
    "duration": 0,
    "start_time": "2022-03-25T11:58:24.713Z"
   },
   {
    "duration": 0,
    "start_time": "2022-03-25T11:58:24.776Z"
   },
   {
    "duration": 2081,
    "start_time": "2022-03-25T11:59:05.644Z"
   },
   {
    "duration": 534,
    "start_time": "2022-03-25T11:59:07.730Z"
   },
   {
    "duration": 22,
    "start_time": "2022-03-25T11:59:08.266Z"
   },
   {
    "duration": 22,
    "start_time": "2022-03-25T11:59:08.293Z"
   },
   {
    "duration": 56,
    "start_time": "2022-03-25T11:59:08.318Z"
   },
   {
    "duration": 21,
    "start_time": "2022-03-25T11:59:08.378Z"
   },
   {
    "duration": 12,
    "start_time": "2022-03-25T11:59:08.403Z"
   },
   {
    "duration": 93,
    "start_time": "2022-03-25T11:59:08.419Z"
   },
   {
    "duration": 14,
    "start_time": "2022-03-25T11:59:08.515Z"
   },
   {
    "duration": 71,
    "start_time": "2022-03-25T11:59:08.534Z"
   },
   {
    "duration": 13,
    "start_time": "2022-03-25T11:59:08.608Z"
   },
   {
    "duration": 91,
    "start_time": "2022-03-25T11:59:08.625Z"
   },
   {
    "duration": 12,
    "start_time": "2022-03-25T11:59:08.719Z"
   },
   {
    "duration": 44,
    "start_time": "2022-03-25T11:59:08.733Z"
   },
   {
    "duration": 5,
    "start_time": "2022-03-25T11:59:08.780Z"
   },
   {
    "duration": 149,
    "start_time": "2022-03-25T11:59:08.788Z"
   },
   {
    "duration": 35,
    "start_time": "2022-03-25T11:59:08.939Z"
   },
   {
    "duration": 14,
    "start_time": "2022-03-25T11:59:08.976Z"
   },
   {
    "duration": 11,
    "start_time": "2022-03-25T11:59:08.993Z"
   },
   {
    "duration": 149,
    "start_time": "2022-03-25T11:59:09.006Z"
   },
   {
    "duration": 37,
    "start_time": "2022-03-25T11:59:09.158Z"
   },
   {
    "duration": 42,
    "start_time": "2022-03-25T11:59:09.197Z"
   },
   {
    "duration": 33,
    "start_time": "2022-03-25T11:59:09.241Z"
   },
   {
    "duration": 30,
    "start_time": "2022-03-25T11:59:09.277Z"
   },
   {
    "duration": 15,
    "start_time": "2022-03-25T11:59:09.310Z"
   },
   {
    "duration": 65,
    "start_time": "2022-03-25T11:59:09.329Z"
   },
   {
    "duration": 5,
    "start_time": "2022-03-25T11:59:09.397Z"
   },
   {
    "duration": 11,
    "start_time": "2022-03-25T11:59:09.413Z"
   },
   {
    "duration": 327,
    "start_time": "2022-03-25T11:59:09.427Z"
   },
   {
    "duration": 1,
    "start_time": "2022-03-25T11:59:09.756Z"
   },
   {
    "duration": 0,
    "start_time": "2022-03-25T11:59:09.759Z"
   },
   {
    "duration": 0,
    "start_time": "2022-03-25T11:59:09.761Z"
   },
   {
    "duration": 0,
    "start_time": "2022-03-25T11:59:09.774Z"
   },
   {
    "duration": 0,
    "start_time": "2022-03-25T11:59:09.776Z"
   },
   {
    "duration": 0,
    "start_time": "2022-03-25T11:59:09.778Z"
   },
   {
    "duration": 0,
    "start_time": "2022-03-25T11:59:09.780Z"
   },
   {
    "duration": 0,
    "start_time": "2022-03-25T11:59:09.782Z"
   },
   {
    "duration": 0,
    "start_time": "2022-03-25T11:59:09.783Z"
   },
   {
    "duration": 0,
    "start_time": "2022-03-25T11:59:09.784Z"
   },
   {
    "duration": 0,
    "start_time": "2022-03-25T11:59:09.786Z"
   },
   {
    "duration": 0,
    "start_time": "2022-03-25T11:59:09.788Z"
   },
   {
    "duration": 0,
    "start_time": "2022-03-25T11:59:09.789Z"
   },
   {
    "duration": 0,
    "start_time": "2022-03-25T11:59:09.791Z"
   },
   {
    "duration": 0,
    "start_time": "2022-03-25T11:59:09.792Z"
   },
   {
    "duration": 0,
    "start_time": "2022-03-25T11:59:09.794Z"
   },
   {
    "duration": 0,
    "start_time": "2022-03-25T11:59:09.795Z"
   },
   {
    "duration": 0,
    "start_time": "2022-03-25T11:59:09.796Z"
   },
   {
    "duration": 0,
    "start_time": "2022-03-25T11:59:09.798Z"
   },
   {
    "duration": 1,
    "start_time": "2022-03-25T11:59:09.800Z"
   },
   {
    "duration": 0,
    "start_time": "2022-03-25T11:59:09.802Z"
   },
   {
    "duration": 0,
    "start_time": "2022-03-25T11:59:09.804Z"
   },
   {
    "duration": 0,
    "start_time": "2022-03-25T11:59:09.806Z"
   },
   {
    "duration": 0,
    "start_time": "2022-03-25T11:59:09.807Z"
   },
   {
    "duration": 0,
    "start_time": "2022-03-25T11:59:09.812Z"
   },
   {
    "duration": 0,
    "start_time": "2022-03-25T11:59:09.813Z"
   },
   {
    "duration": 0,
    "start_time": "2022-03-25T11:59:09.815Z"
   },
   {
    "duration": 0,
    "start_time": "2022-03-25T11:59:09.817Z"
   },
   {
    "duration": 0,
    "start_time": "2022-03-25T11:59:09.818Z"
   },
   {
    "duration": 0,
    "start_time": "2022-03-25T11:59:09.819Z"
   },
   {
    "duration": 0,
    "start_time": "2022-03-25T11:59:09.820Z"
   },
   {
    "duration": 0,
    "start_time": "2022-03-25T11:59:09.883Z"
   },
   {
    "duration": 0,
    "start_time": "2022-03-25T11:59:09.887Z"
   },
   {
    "duration": 0,
    "start_time": "2022-03-25T11:59:09.889Z"
   },
   {
    "duration": 0,
    "start_time": "2022-03-25T11:59:09.891Z"
   },
   {
    "duration": 0,
    "start_time": "2022-03-25T11:59:09.893Z"
   },
   {
    "duration": 0,
    "start_time": "2022-03-25T11:59:09.895Z"
   },
   {
    "duration": 0,
    "start_time": "2022-03-25T11:59:09.898Z"
   },
   {
    "duration": 0,
    "start_time": "2022-03-25T11:59:09.899Z"
   },
   {
    "duration": 0,
    "start_time": "2022-03-25T11:59:09.900Z"
   },
   {
    "duration": 0,
    "start_time": "2022-03-25T11:59:09.906Z"
   },
   {
    "duration": 0,
    "start_time": "2022-03-25T11:59:09.908Z"
   },
   {
    "duration": 0,
    "start_time": "2022-03-25T11:59:09.910Z"
   },
   {
    "duration": 0,
    "start_time": "2022-03-25T11:59:09.912Z"
   },
   {
    "duration": 0,
    "start_time": "2022-03-25T11:59:09.913Z"
   },
   {
    "duration": 1815,
    "start_time": "2022-03-25T11:59:59.998Z"
   },
   {
    "duration": 745,
    "start_time": "2022-03-25T12:00:01.817Z"
   },
   {
    "duration": 32,
    "start_time": "2022-03-25T12:00:02.565Z"
   },
   {
    "duration": 24,
    "start_time": "2022-03-25T12:00:02.602Z"
   },
   {
    "duration": 59,
    "start_time": "2022-03-25T12:00:02.629Z"
   },
   {
    "duration": 25,
    "start_time": "2022-03-25T12:00:02.691Z"
   },
   {
    "duration": 31,
    "start_time": "2022-03-25T12:00:02.719Z"
   },
   {
    "duration": 49,
    "start_time": "2022-03-25T12:00:02.753Z"
   },
   {
    "duration": 18,
    "start_time": "2022-03-25T12:00:02.805Z"
   },
   {
    "duration": 78,
    "start_time": "2022-03-25T12:00:02.829Z"
   },
   {
    "duration": 16,
    "start_time": "2022-03-25T12:00:02.910Z"
   },
   {
    "duration": 79,
    "start_time": "2022-03-25T12:00:02.929Z"
   },
   {
    "duration": 8,
    "start_time": "2022-03-25T12:00:03.011Z"
   },
   {
    "duration": 52,
    "start_time": "2022-03-25T12:00:03.021Z"
   },
   {
    "duration": 5,
    "start_time": "2022-03-25T12:00:03.076Z"
   },
   {
    "duration": 156,
    "start_time": "2022-03-25T12:00:03.084Z"
   },
   {
    "duration": 35,
    "start_time": "2022-03-25T12:00:03.242Z"
   },
   {
    "duration": 14,
    "start_time": "2022-03-25T12:00:03.280Z"
   },
   {
    "duration": 10,
    "start_time": "2022-03-25T12:00:03.297Z"
   },
   {
    "duration": 173,
    "start_time": "2022-03-25T12:00:03.310Z"
   },
   {
    "duration": 29,
    "start_time": "2022-03-25T12:00:03.488Z"
   },
   {
    "duration": 70,
    "start_time": "2022-03-25T12:00:03.519Z"
   },
   {
    "duration": 11,
    "start_time": "2022-03-25T12:00:03.592Z"
   },
   {
    "duration": 35,
    "start_time": "2022-03-25T12:00:03.606Z"
   },
   {
    "duration": 9,
    "start_time": "2022-03-25T12:00:03.643Z"
   },
   {
    "duration": 53,
    "start_time": "2022-03-25T12:00:03.654Z"
   },
   {
    "duration": 5,
    "start_time": "2022-03-25T12:00:03.709Z"
   },
   {
    "duration": 12,
    "start_time": "2022-03-25T12:00:03.721Z"
   },
   {
    "duration": 34,
    "start_time": "2022-03-25T12:00:03.774Z"
   },
   {
    "duration": 11,
    "start_time": "2022-03-25T12:00:03.811Z"
   },
   {
    "duration": 51,
    "start_time": "2022-03-25T12:00:03.824Z"
   },
   {
    "duration": 11,
    "start_time": "2022-03-25T12:00:03.879Z"
   },
   {
    "duration": 23,
    "start_time": "2022-03-25T12:00:03.893Z"
   },
   {
    "duration": 55,
    "start_time": "2022-03-25T12:00:03.920Z"
   },
   {
    "duration": 15,
    "start_time": "2022-03-25T12:00:03.978Z"
   },
   {
    "duration": 17,
    "start_time": "2022-03-25T12:00:03.996Z"
   },
   {
    "duration": 58,
    "start_time": "2022-03-25T12:00:04.016Z"
   },
   {
    "duration": 26,
    "start_time": "2022-03-25T12:00:04.077Z"
   },
   {
    "duration": 14,
    "start_time": "2022-03-25T12:00:04.105Z"
   },
   {
    "duration": 18,
    "start_time": "2022-03-25T12:00:04.122Z"
   },
   {
    "duration": 22,
    "start_time": "2022-03-25T12:00:04.174Z"
   },
   {
    "duration": 72730,
    "start_time": "2022-03-25T12:00:04.199Z"
   },
   {
    "duration": 59,
    "start_time": "2022-03-25T12:01:16.931Z"
   },
   {
    "duration": 535,
    "start_time": "2022-03-25T12:01:16.992Z"
   },
   {
    "duration": 22,
    "start_time": "2022-03-25T12:01:17.529Z"
   },
   {
    "duration": 25,
    "start_time": "2022-03-25T12:01:17.553Z"
   },
   {
    "duration": 35,
    "start_time": "2022-03-25T12:01:17.581Z"
   },
   {
    "duration": 430,
    "start_time": "2022-03-25T12:01:17.619Z"
   },
   {
    "duration": 222,
    "start_time": "2022-03-25T12:01:18.051Z"
   },
   {
    "duration": 459,
    "start_time": "2022-03-25T12:01:18.276Z"
   },
   {
    "duration": 383,
    "start_time": "2022-03-25T12:01:18.738Z"
   },
   {
    "duration": 5,
    "start_time": "2022-03-25T12:01:19.124Z"
   },
   {
    "duration": 414,
    "start_time": "2022-03-25T12:01:19.131Z"
   },
   {
    "duration": 407,
    "start_time": "2022-03-25T12:01:19.547Z"
   },
   {
    "duration": 392,
    "start_time": "2022-03-25T12:01:19.956Z"
   },
   {
    "duration": 64,
    "start_time": "2022-03-25T12:01:20.350Z"
   },
   {
    "duration": 61,
    "start_time": "2022-03-25T12:01:20.417Z"
   },
   {
    "duration": 38,
    "start_time": "2022-03-25T12:01:20.481Z"
   },
   {
    "duration": 6,
    "start_time": "2022-03-25T12:01:20.521Z"
   },
   {
    "duration": 378,
    "start_time": "2022-03-25T12:01:20.529Z"
   },
   {
    "duration": 297,
    "start_time": "2022-03-25T12:01:20.910Z"
   },
   {
    "duration": 279,
    "start_time": "2022-03-25T12:01:21.210Z"
   },
   {
    "duration": 256,
    "start_time": "2022-03-25T12:01:21.492Z"
   },
   {
    "duration": 294,
    "start_time": "2022-03-25T12:01:21.751Z"
   },
   {
    "duration": 350,
    "start_time": "2022-03-25T12:01:22.047Z"
   },
   {
    "duration": 278,
    "start_time": "2022-03-25T12:01:22.400Z"
   },
   {
    "duration": 360,
    "start_time": "2022-03-25T12:01:22.680Z"
   },
   {
    "duration": 288,
    "start_time": "2022-03-25T12:01:23.044Z"
   },
   {
    "duration": 18,
    "start_time": "2022-03-25T12:01:23.335Z"
   },
   {
    "duration": 23,
    "start_time": "2022-03-25T12:01:23.374Z"
   },
   {
    "duration": 16,
    "start_time": "2022-03-25T12:01:23.401Z"
   },
   {
    "duration": 11,
    "start_time": "2022-03-25T12:01:23.420Z"
   },
   {
    "duration": 26,
    "start_time": "2022-03-25T12:01:23.473Z"
   },
   {
    "duration": 39,
    "start_time": "2022-03-25T12:11:20.635Z"
   },
   {
    "duration": 1553,
    "start_time": "2022-03-25T12:11:43.648Z"
   },
   {
    "duration": 661,
    "start_time": "2022-03-25T12:11:45.204Z"
   },
   {
    "duration": 20,
    "start_time": "2022-03-25T12:11:45.867Z"
   },
   {
    "duration": 18,
    "start_time": "2022-03-25T12:11:45.889Z"
   },
   {
    "duration": 17,
    "start_time": "2022-03-25T12:11:45.909Z"
   },
   {
    "duration": 63,
    "start_time": "2022-03-25T12:11:45.928Z"
   },
   {
    "duration": 13,
    "start_time": "2022-03-25T12:11:45.993Z"
   },
   {
    "duration": 33,
    "start_time": "2022-03-25T12:11:46.008Z"
   },
   {
    "duration": 42,
    "start_time": "2022-03-25T12:11:46.043Z"
   },
   {
    "duration": 32,
    "start_time": "2022-03-25T12:11:46.091Z"
   },
   {
    "duration": 12,
    "start_time": "2022-03-25T12:11:46.125Z"
   },
   {
    "duration": 38,
    "start_time": "2022-03-25T12:11:46.174Z"
   },
   {
    "duration": 9,
    "start_time": "2022-03-25T12:11:46.214Z"
   },
   {
    "duration": 61,
    "start_time": "2022-03-25T12:11:46.226Z"
   },
   {
    "duration": 8,
    "start_time": "2022-03-25T12:11:46.290Z"
   },
   {
    "duration": 166,
    "start_time": "2022-03-25T12:11:46.301Z"
   },
   {
    "duration": 24,
    "start_time": "2022-03-25T12:11:46.470Z"
   },
   {
    "duration": 12,
    "start_time": "2022-03-25T12:11:46.497Z"
   },
   {
    "duration": 8,
    "start_time": "2022-03-25T12:11:46.511Z"
   },
   {
    "duration": 168,
    "start_time": "2022-03-25T12:11:46.521Z"
   },
   {
    "duration": 30,
    "start_time": "2022-03-25T12:11:46.692Z"
   },
   {
    "duration": 64,
    "start_time": "2022-03-25T12:11:46.726Z"
   },
   {
    "duration": 15,
    "start_time": "2022-03-25T12:11:46.793Z"
   },
   {
    "duration": 33,
    "start_time": "2022-03-25T12:11:46.811Z"
   },
   {
    "duration": 13,
    "start_time": "2022-03-25T12:11:46.875Z"
   },
   {
    "duration": 37,
    "start_time": "2022-03-25T12:11:46.891Z"
   },
   {
    "duration": 5,
    "start_time": "2022-03-25T12:11:46.930Z"
   },
   {
    "duration": 11,
    "start_time": "2022-03-25T12:11:46.977Z"
   },
   {
    "duration": 36,
    "start_time": "2022-03-25T12:11:46.990Z"
   },
   {
    "duration": 44,
    "start_time": "2022-03-25T12:11:47.029Z"
   },
   {
    "duration": 7,
    "start_time": "2022-03-25T12:11:47.076Z"
   },
   {
    "duration": 12,
    "start_time": "2022-03-25T12:11:47.085Z"
   },
   {
    "duration": 20,
    "start_time": "2022-03-25T12:11:47.100Z"
   },
   {
    "duration": 58,
    "start_time": "2022-03-25T12:11:47.122Z"
   },
   {
    "duration": 14,
    "start_time": "2022-03-25T12:11:47.182Z"
   },
   {
    "duration": 16,
    "start_time": "2022-03-25T12:11:47.198Z"
   },
   {
    "duration": 5,
    "start_time": "2022-03-25T12:11:47.217Z"
   },
   {
    "duration": 58,
    "start_time": "2022-03-25T12:11:47.225Z"
   },
   {
    "duration": 24,
    "start_time": "2022-03-25T12:11:47.286Z"
   },
   {
    "duration": 60715,
    "start_time": "2022-03-25T12:11:47.313Z"
   },
   {
    "duration": 44,
    "start_time": "2022-03-25T12:12:48.031Z"
   },
   {
    "duration": 491,
    "start_time": "2022-03-25T12:12:48.077Z"
   },
   {
    "duration": 39,
    "start_time": "2022-03-25T12:12:48.573Z"
   },
   {
    "duration": 6,
    "start_time": "2022-03-25T12:12:48.615Z"
   },
   {
    "duration": 58,
    "start_time": "2022-03-25T12:12:48.623Z"
   },
   {
    "duration": 376,
    "start_time": "2022-03-25T12:12:48.684Z"
   },
   {
    "duration": 211,
    "start_time": "2022-03-25T12:12:49.062Z"
   },
   {
    "duration": 404,
    "start_time": "2022-03-25T12:12:49.276Z"
   },
   {
    "duration": 350,
    "start_time": "2022-03-25T12:12:49.683Z"
   },
   {
    "duration": 7,
    "start_time": "2022-03-25T12:12:50.035Z"
   },
   {
    "duration": 383,
    "start_time": "2022-03-25T12:12:50.044Z"
   },
   {
    "duration": 364,
    "start_time": "2022-03-25T12:12:50.429Z"
   },
   {
    "duration": 391,
    "start_time": "2022-03-25T12:12:50.795Z"
   },
   {
    "duration": 39,
    "start_time": "2022-03-25T12:12:51.189Z"
   },
   {
    "duration": 66,
    "start_time": "2022-03-25T12:12:51.231Z"
   },
   {
    "duration": 33,
    "start_time": "2022-03-25T12:12:51.300Z"
   },
   {
    "duration": 5,
    "start_time": "2022-03-25T12:12:51.335Z"
   },
   {
    "duration": 343,
    "start_time": "2022-03-25T12:12:51.373Z"
   },
   {
    "duration": 280,
    "start_time": "2022-03-25T12:12:51.719Z"
   },
   {
    "duration": 245,
    "start_time": "2022-03-25T12:12:52.002Z"
   },
   {
    "duration": 264,
    "start_time": "2022-03-25T12:12:52.250Z"
   },
   {
    "duration": 256,
    "start_time": "2022-03-25T12:12:52.517Z"
   },
   {
    "duration": 262,
    "start_time": "2022-03-25T12:12:52.776Z"
   },
   {
    "duration": 255,
    "start_time": "2022-03-25T12:12:53.041Z"
   },
   {
    "duration": 275,
    "start_time": "2022-03-25T12:12:53.299Z"
   },
   {
    "duration": 256,
    "start_time": "2022-03-25T12:12:53.576Z"
   },
   {
    "duration": 15,
    "start_time": "2022-03-25T12:12:53.834Z"
   },
   {
    "duration": 38,
    "start_time": "2022-03-25T12:12:53.851Z"
   },
   {
    "duration": 29,
    "start_time": "2022-03-25T12:12:53.891Z"
   },
   {
    "duration": 23,
    "start_time": "2022-03-25T12:12:53.923Z"
   },
   {
    "duration": 43,
    "start_time": "2022-03-25T12:12:53.948Z"
   },
   {
    "duration": 1562,
    "start_time": "2022-03-25T12:21:56.972Z"
   },
   {
    "duration": 509,
    "start_time": "2022-03-25T12:21:58.536Z"
   },
   {
    "duration": 28,
    "start_time": "2022-03-25T12:21:59.048Z"
   },
   {
    "duration": 20,
    "start_time": "2022-03-25T12:21:59.079Z"
   },
   {
    "duration": 23,
    "start_time": "2022-03-25T12:21:59.101Z"
   },
   {
    "duration": 49,
    "start_time": "2022-03-25T12:21:59.126Z"
   },
   {
    "duration": 21,
    "start_time": "2022-03-25T12:21:59.178Z"
   },
   {
    "duration": 32,
    "start_time": "2022-03-25T12:21:59.201Z"
   },
   {
    "duration": 41,
    "start_time": "2022-03-25T12:21:59.235Z"
   },
   {
    "duration": 34,
    "start_time": "2022-03-25T12:21:59.280Z"
   },
   {
    "duration": 16,
    "start_time": "2022-03-25T12:21:59.316Z"
   },
   {
    "duration": 53,
    "start_time": "2022-03-25T12:21:59.375Z"
   },
   {
    "duration": 11,
    "start_time": "2022-03-25T12:21:59.434Z"
   },
   {
    "duration": 24,
    "start_time": "2022-03-25T12:21:59.474Z"
   },
   {
    "duration": 11,
    "start_time": "2022-03-25T12:21:59.501Z"
   },
   {
    "duration": 160,
    "start_time": "2022-03-25T12:21:59.515Z"
   },
   {
    "duration": 26,
    "start_time": "2022-03-25T12:21:59.678Z"
   },
   {
    "duration": 13,
    "start_time": "2022-03-25T12:21:59.706Z"
   },
   {
    "duration": 10,
    "start_time": "2022-03-25T12:21:59.722Z"
   },
   {
    "duration": 156,
    "start_time": "2022-03-25T12:21:59.734Z"
   },
   {
    "duration": 29,
    "start_time": "2022-03-25T12:21:59.893Z"
   },
   {
    "duration": 28,
    "start_time": "2022-03-25T12:21:59.925Z"
   },
   {
    "duration": 29,
    "start_time": "2022-03-25T12:21:59.955Z"
   },
   {
    "duration": 32,
    "start_time": "2022-03-25T12:21:59.987Z"
   },
   {
    "duration": 9,
    "start_time": "2022-03-25T12:22:00.021Z"
   },
   {
    "duration": 70,
    "start_time": "2022-03-25T12:22:00.032Z"
   },
   {
    "duration": 5,
    "start_time": "2022-03-25T12:22:00.105Z"
   },
   {
    "duration": 23,
    "start_time": "2022-03-25T12:22:00.117Z"
   },
   {
    "duration": 60,
    "start_time": "2022-03-25T12:22:00.142Z"
   },
   {
    "duration": 12,
    "start_time": "2022-03-25T12:22:00.204Z"
   },
   {
    "duration": 32,
    "start_time": "2022-03-25T12:22:00.218Z"
   },
   {
    "duration": 27,
    "start_time": "2022-03-25T12:22:00.252Z"
   },
   {
    "duration": 36,
    "start_time": "2022-03-25T12:22:00.282Z"
   },
   {
    "duration": 43,
    "start_time": "2022-03-25T12:22:00.321Z"
   },
   {
    "duration": 27,
    "start_time": "2022-03-25T12:22:00.367Z"
   },
   {
    "duration": 27,
    "start_time": "2022-03-25T12:22:00.401Z"
   },
   {
    "duration": 23,
    "start_time": "2022-03-25T12:22:00.430Z"
   },
   {
    "duration": 31,
    "start_time": "2022-03-25T12:22:00.455Z"
   },
   {
    "duration": 26,
    "start_time": "2022-03-25T12:22:00.488Z"
   },
   {
    "duration": 61,
    "start_time": "2022-03-25T12:22:00.516Z"
   },
   {
    "duration": 526,
    "start_time": "2022-03-25T12:22:00.579Z"
   },
   {
    "duration": 39,
    "start_time": "2022-03-25T12:22:01.108Z"
   },
   {
    "duration": 42,
    "start_time": "2022-03-25T12:22:01.149Z"
   },
   {
    "duration": 457,
    "start_time": "2022-03-25T12:22:01.195Z"
   },
   {
    "duration": 228,
    "start_time": "2022-03-25T12:22:01.655Z"
   },
   {
    "duration": 459,
    "start_time": "2022-03-25T12:22:01.885Z"
   },
   {
    "duration": 386,
    "start_time": "2022-03-25T12:22:02.347Z"
   },
   {
    "duration": 5,
    "start_time": "2022-03-25T12:22:02.735Z"
   },
   {
    "duration": 425,
    "start_time": "2022-03-25T12:22:02.742Z"
   },
   {
    "duration": 442,
    "start_time": "2022-03-25T12:22:03.169Z"
   },
   {
    "duration": 410,
    "start_time": "2022-03-25T12:22:03.615Z"
   },
   {
    "duration": 71,
    "start_time": "2022-03-25T12:22:04.028Z"
   },
   {
    "duration": 46,
    "start_time": "2022-03-25T12:22:04.102Z"
   },
   {
    "duration": 69,
    "start_time": "2022-03-25T12:22:04.151Z"
   },
   {
    "duration": 6,
    "start_time": "2022-03-25T12:22:04.223Z"
   },
   {
    "duration": 278,
    "start_time": "2022-03-25T12:22:04.234Z"
   },
   {
    "duration": 399,
    "start_time": "2022-03-25T12:22:04.514Z"
   },
   {
    "duration": 330,
    "start_time": "2022-03-25T12:22:04.915Z"
   },
   {
    "duration": 266,
    "start_time": "2022-03-25T12:22:05.248Z"
   },
   {
    "duration": 274,
    "start_time": "2022-03-25T12:22:05.517Z"
   },
   {
    "duration": 258,
    "start_time": "2022-03-25T12:22:05.793Z"
   },
   {
    "duration": 271,
    "start_time": "2022-03-25T12:22:06.053Z"
   },
   {
    "duration": 281,
    "start_time": "2022-03-25T12:22:06.327Z"
   },
   {
    "duration": 269,
    "start_time": "2022-03-25T12:22:06.610Z"
   },
   {
    "duration": 20,
    "start_time": "2022-03-25T12:22:06.882Z"
   },
   {
    "duration": 29,
    "start_time": "2022-03-25T12:22:06.904Z"
   },
   {
    "duration": 44,
    "start_time": "2022-03-25T12:22:06.936Z"
   },
   {
    "duration": 8,
    "start_time": "2022-03-25T12:22:06.984Z"
   },
   {
    "duration": 27,
    "start_time": "2022-03-25T12:22:06.994Z"
   },
   {
    "duration": 1671,
    "start_time": "2022-03-25T12:41:26.797Z"
   },
   {
    "duration": 506,
    "start_time": "2022-03-25T12:41:28.471Z"
   },
   {
    "duration": 20,
    "start_time": "2022-03-25T12:41:28.980Z"
   },
   {
    "duration": 18,
    "start_time": "2022-03-25T12:41:29.003Z"
   },
   {
    "duration": 49,
    "start_time": "2022-03-25T12:41:29.025Z"
   },
   {
    "duration": 15,
    "start_time": "2022-03-25T12:41:29.077Z"
   },
   {
    "duration": 13,
    "start_time": "2022-03-25T12:41:29.094Z"
   },
   {
    "duration": 28,
    "start_time": "2022-03-25T12:41:29.109Z"
   },
   {
    "duration": 14,
    "start_time": "2022-03-25T12:41:29.174Z"
   },
   {
    "duration": 35,
    "start_time": "2022-03-25T12:41:29.191Z"
   },
   {
    "duration": 54,
    "start_time": "2022-03-25T12:41:29.229Z"
   },
   {
    "duration": 44,
    "start_time": "2022-03-25T12:41:29.285Z"
   },
   {
    "duration": 41,
    "start_time": "2022-03-25T12:41:29.333Z"
   },
   {
    "duration": 18,
    "start_time": "2022-03-25T12:41:29.382Z"
   },
   {
    "duration": 5,
    "start_time": "2022-03-25T12:41:29.403Z"
   },
   {
    "duration": 166,
    "start_time": "2022-03-25T12:41:29.411Z"
   },
   {
    "duration": 23,
    "start_time": "2022-03-25T12:41:29.579Z"
   },
   {
    "duration": 12,
    "start_time": "2022-03-25T12:41:29.604Z"
   },
   {
    "duration": 8,
    "start_time": "2022-03-25T12:41:29.619Z"
   },
   {
    "duration": 155,
    "start_time": "2022-03-25T12:41:29.629Z"
   },
   {
    "duration": 28,
    "start_time": "2022-03-25T12:41:29.786Z"
   },
   {
    "duration": 61,
    "start_time": "2022-03-25T12:41:29.817Z"
   },
   {
    "duration": 13,
    "start_time": "2022-03-25T12:41:29.881Z"
   },
   {
    "duration": 22,
    "start_time": "2022-03-25T12:41:29.896Z"
   },
   {
    "duration": 9,
    "start_time": "2022-03-25T12:41:29.920Z"
   },
   {
    "duration": 65,
    "start_time": "2022-03-25T12:41:29.930Z"
   },
   {
    "duration": 17,
    "start_time": "2022-03-25T12:41:29.997Z"
   },
   {
    "duration": 20,
    "start_time": "2022-03-25T12:41:30.016Z"
   },
   {
    "duration": 49,
    "start_time": "2022-03-25T12:41:30.038Z"
   },
   {
    "duration": 9,
    "start_time": "2022-03-25T12:41:30.090Z"
   },
   {
    "duration": 18,
    "start_time": "2022-03-25T12:41:30.101Z"
   },
   {
    "duration": 24,
    "start_time": "2022-03-25T12:41:30.121Z"
   },
   {
    "duration": 40,
    "start_time": "2022-03-25T12:41:30.148Z"
   },
   {
    "duration": 22,
    "start_time": "2022-03-25T12:41:30.191Z"
   },
   {
    "duration": 16,
    "start_time": "2022-03-25T12:41:30.216Z"
   },
   {
    "duration": 53,
    "start_time": "2022-03-25T12:41:30.234Z"
   },
   {
    "duration": 23,
    "start_time": "2022-03-25T12:41:30.289Z"
   },
   {
    "duration": 23,
    "start_time": "2022-03-25T12:41:30.314Z"
   },
   {
    "duration": 21,
    "start_time": "2022-03-25T12:41:30.339Z"
   },
   {
    "duration": 20,
    "start_time": "2022-03-25T12:41:30.373Z"
   },
   {
    "duration": 510,
    "start_time": "2022-03-25T12:41:30.402Z"
   },
   {
    "duration": 23,
    "start_time": "2022-03-25T12:41:30.914Z"
   },
   {
    "duration": 65,
    "start_time": "2022-03-25T12:41:30.939Z"
   },
   {
    "duration": 409,
    "start_time": "2022-03-25T12:41:31.007Z"
   },
   {
    "duration": 224,
    "start_time": "2022-03-25T12:41:31.418Z"
   },
   {
    "duration": 443,
    "start_time": "2022-03-25T12:41:31.645Z"
   },
   {
    "duration": 353,
    "start_time": "2022-03-25T12:41:32.091Z"
   },
   {
    "duration": 4,
    "start_time": "2022-03-25T12:41:32.447Z"
   },
   {
    "duration": 389,
    "start_time": "2022-03-25T12:41:32.454Z"
   },
   {
    "duration": 495,
    "start_time": "2022-03-25T12:41:32.846Z"
   },
   {
    "duration": 48,
    "start_time": "2022-03-25T12:41:33.343Z"
   },
   {
    "duration": 32,
    "start_time": "2022-03-25T12:41:33.393Z"
   },
   {
    "duration": 67,
    "start_time": "2022-03-25T12:41:33.428Z"
   },
   {
    "duration": 6,
    "start_time": "2022-03-25T12:41:33.498Z"
   },
   {
    "duration": 264,
    "start_time": "2022-03-25T12:41:33.507Z"
   },
   {
    "duration": 266,
    "start_time": "2022-03-25T12:41:33.774Z"
   },
   {
    "duration": 341,
    "start_time": "2022-03-25T12:41:34.042Z"
   },
   {
    "duration": 258,
    "start_time": "2022-03-25T12:41:34.385Z"
   },
   {
    "duration": 263,
    "start_time": "2022-03-25T12:41:34.646Z"
   },
   {
    "duration": 246,
    "start_time": "2022-03-25T12:41:34.912Z"
   },
   {
    "duration": 246,
    "start_time": "2022-03-25T12:41:35.161Z"
   },
   {
    "duration": 260,
    "start_time": "2022-03-25T12:41:35.409Z"
   },
   {
    "duration": 262,
    "start_time": "2022-03-25T12:41:35.673Z"
   },
   {
    "duration": 16,
    "start_time": "2022-03-25T12:41:35.937Z"
   },
   {
    "duration": 39,
    "start_time": "2022-03-25T12:41:35.955Z"
   },
   {
    "duration": 15,
    "start_time": "2022-03-25T12:41:35.997Z"
   },
   {
    "duration": 7,
    "start_time": "2022-03-25T12:41:36.014Z"
   },
   {
    "duration": 67,
    "start_time": "2022-03-25T12:41:36.023Z"
   },
   {
    "duration": 1518,
    "start_time": "2022-03-25T12:46:46.334Z"
   },
   {
    "duration": 538,
    "start_time": "2022-03-25T12:46:47.855Z"
   },
   {
    "duration": 19,
    "start_time": "2022-03-25T12:46:48.396Z"
   },
   {
    "duration": 18,
    "start_time": "2022-03-25T12:46:48.417Z"
   },
   {
    "duration": 48,
    "start_time": "2022-03-25T12:46:48.438Z"
   },
   {
    "duration": 23,
    "start_time": "2022-03-25T12:46:48.489Z"
   },
   {
    "duration": 25,
    "start_time": "2022-03-25T12:46:48.514Z"
   },
   {
    "duration": 51,
    "start_time": "2022-03-25T12:46:48.541Z"
   },
   {
    "duration": 16,
    "start_time": "2022-03-25T12:46:48.595Z"
   },
   {
    "duration": 36,
    "start_time": "2022-03-25T12:46:48.613Z"
   },
   {
    "duration": 35,
    "start_time": "2022-03-25T12:46:48.652Z"
   },
   {
    "duration": 50,
    "start_time": "2022-03-25T12:46:48.690Z"
   },
   {
    "duration": 8,
    "start_time": "2022-03-25T12:46:48.742Z"
   },
   {
    "duration": 41,
    "start_time": "2022-03-25T12:46:48.755Z"
   },
   {
    "duration": 5,
    "start_time": "2022-03-25T12:46:48.799Z"
   },
   {
    "duration": 197,
    "start_time": "2022-03-25T12:46:48.806Z"
   },
   {
    "duration": 27,
    "start_time": "2022-03-25T12:46:49.006Z"
   },
   {
    "duration": 40,
    "start_time": "2022-03-25T12:46:49.035Z"
   },
   {
    "duration": 6,
    "start_time": "2022-03-25T12:46:49.078Z"
   },
   {
    "duration": 139,
    "start_time": "2022-03-25T12:46:49.089Z"
   },
   {
    "duration": 27,
    "start_time": "2022-03-25T12:46:49.230Z"
   },
   {
    "duration": 43,
    "start_time": "2022-03-25T12:46:49.259Z"
   },
   {
    "duration": 14,
    "start_time": "2022-03-25T12:46:49.305Z"
   },
   {
    "duration": 66,
    "start_time": "2022-03-25T12:46:49.321Z"
   },
   {
    "duration": 11,
    "start_time": "2022-03-25T12:46:49.389Z"
   },
   {
    "duration": 26,
    "start_time": "2022-03-25T12:46:49.403Z"
   },
   {
    "duration": 4,
    "start_time": "2022-03-25T12:46:49.431Z"
   },
   {
    "duration": 52,
    "start_time": "2022-03-25T12:46:49.438Z"
   },
   {
    "duration": 49,
    "start_time": "2022-03-25T12:46:49.492Z"
   },
   {
    "duration": 12,
    "start_time": "2022-03-25T12:46:49.544Z"
   },
   {
    "duration": 21,
    "start_time": "2022-03-25T12:46:49.559Z"
   },
   {
    "duration": 18,
    "start_time": "2022-03-25T12:46:49.583Z"
   },
   {
    "duration": 24,
    "start_time": "2022-03-25T12:46:49.603Z"
   },
   {
    "duration": 62,
    "start_time": "2022-03-25T12:46:49.629Z"
   },
   {
    "duration": 16,
    "start_time": "2022-03-25T12:46:49.694Z"
   },
   {
    "duration": 20,
    "start_time": "2022-03-25T12:46:49.712Z"
   },
   {
    "duration": 6,
    "start_time": "2022-03-25T12:46:49.735Z"
   },
   {
    "duration": 14,
    "start_time": "2022-03-25T12:46:49.786Z"
   },
   {
    "duration": 22,
    "start_time": "2022-03-25T12:46:49.803Z"
   },
   {
    "duration": 65,
    "start_time": "2022-03-25T12:46:49.828Z"
   },
   {
    "duration": 484,
    "start_time": "2022-03-25T12:46:49.900Z"
   },
   {
    "duration": 22,
    "start_time": "2022-03-25T12:46:50.386Z"
   },
   {
    "duration": 19,
    "start_time": "2022-03-25T12:46:50.410Z"
   },
   {
    "duration": 416,
    "start_time": "2022-03-25T12:46:50.431Z"
   },
   {
    "duration": 215,
    "start_time": "2022-03-25T12:46:50.849Z"
   },
   {
    "duration": 437,
    "start_time": "2022-03-25T12:46:51.066Z"
   },
   {
    "duration": 379,
    "start_time": "2022-03-25T12:46:51.505Z"
   },
   {
    "duration": 5,
    "start_time": "2022-03-25T12:46:51.887Z"
   },
   {
    "duration": 402,
    "start_time": "2022-03-25T12:46:51.894Z"
   },
   {
    "duration": 367,
    "start_time": "2022-03-25T12:46:52.299Z"
   },
   {
    "duration": 47,
    "start_time": "2022-03-25T12:46:52.668Z"
   },
   {
    "duration": 61,
    "start_time": "2022-03-25T12:46:52.718Z"
   },
   {
    "duration": 42,
    "start_time": "2022-03-25T12:46:52.782Z"
   },
   {
    "duration": 8,
    "start_time": "2022-03-25T12:46:52.827Z"
   },
   {
    "duration": 307,
    "start_time": "2022-03-25T12:46:52.838Z"
   },
   {
    "duration": 306,
    "start_time": "2022-03-25T12:46:53.147Z"
   },
   {
    "duration": 370,
    "start_time": "2022-03-25T12:46:53.456Z"
   },
   {
    "duration": 287,
    "start_time": "2022-03-25T12:46:53.828Z"
   },
   {
    "duration": 285,
    "start_time": "2022-03-25T12:46:54.117Z"
   },
   {
    "duration": 292,
    "start_time": "2022-03-25T12:46:54.404Z"
   },
   {
    "duration": 307,
    "start_time": "2022-03-25T12:46:54.699Z"
   },
   {
    "duration": 301,
    "start_time": "2022-03-25T12:46:55.009Z"
   },
   {
    "duration": 283,
    "start_time": "2022-03-25T12:46:55.312Z"
   },
   {
    "duration": 18,
    "start_time": "2022-03-25T12:46:55.598Z"
   },
   {
    "duration": 64,
    "start_time": "2022-03-25T12:46:55.619Z"
   },
   {
    "duration": 23,
    "start_time": "2022-03-25T12:46:55.686Z"
   },
   {
    "duration": 4,
    "start_time": "2022-03-25T12:46:55.712Z"
   },
   {
    "duration": 68,
    "start_time": "2022-03-25T12:46:55.719Z"
   },
   {
    "duration": 6,
    "start_time": "2022-03-25T12:48:09.010Z"
   },
   {
    "duration": 399,
    "start_time": "2022-03-25T12:48:10.323Z"
   },
   {
    "duration": 9,
    "start_time": "2022-03-25T12:48:30.143Z"
   },
   {
    "duration": 267,
    "start_time": "2022-03-25T12:48:31.111Z"
   },
   {
    "duration": 6,
    "start_time": "2022-03-25T12:49:10.712Z"
   },
   {
    "duration": 293,
    "start_time": "2022-03-25T12:49:11.611Z"
   },
   {
    "duration": 6,
    "start_time": "2022-03-25T12:49:22.170Z"
   },
   {
    "duration": 276,
    "start_time": "2022-03-25T12:49:22.947Z"
   },
   {
    "duration": 7,
    "start_time": "2022-03-25T12:49:49.275Z"
   },
   {
    "duration": 375,
    "start_time": "2022-03-25T12:49:50.168Z"
   },
   {
    "duration": 8,
    "start_time": "2022-03-25T12:51:01.199Z"
   },
   {
    "duration": 345,
    "start_time": "2022-03-25T12:51:02.053Z"
   },
   {
    "duration": 1649,
    "start_time": "2022-03-25T12:51:15.118Z"
   },
   {
    "duration": 545,
    "start_time": "2022-03-25T12:51:16.770Z"
   },
   {
    "duration": 21,
    "start_time": "2022-03-25T12:51:17.317Z"
   },
   {
    "duration": 35,
    "start_time": "2022-03-25T12:51:17.341Z"
   },
   {
    "duration": 21,
    "start_time": "2022-03-25T12:51:17.379Z"
   },
   {
    "duration": 20,
    "start_time": "2022-03-25T12:51:17.404Z"
   },
   {
    "duration": 63,
    "start_time": "2022-03-25T12:51:17.426Z"
   },
   {
    "duration": 40,
    "start_time": "2022-03-25T12:51:17.494Z"
   },
   {
    "duration": 16,
    "start_time": "2022-03-25T12:51:17.536Z"
   },
   {
    "duration": 51,
    "start_time": "2022-03-25T12:51:17.555Z"
   },
   {
    "duration": 16,
    "start_time": "2022-03-25T12:51:17.608Z"
   },
   {
    "duration": 73,
    "start_time": "2022-03-25T12:51:17.627Z"
   },
   {
    "duration": 13,
    "start_time": "2022-03-25T12:51:17.703Z"
   },
   {
    "duration": 22,
    "start_time": "2022-03-25T12:51:17.721Z"
   },
   {
    "duration": 34,
    "start_time": "2022-03-25T12:51:17.745Z"
   },
   {
    "duration": 137,
    "start_time": "2022-03-25T12:51:17.781Z"
   },
   {
    "duration": 23,
    "start_time": "2022-03-25T12:51:17.921Z"
   },
   {
    "duration": 38,
    "start_time": "2022-03-25T12:51:17.947Z"
   },
   {
    "duration": 34,
    "start_time": "2022-03-25T12:51:17.988Z"
   },
   {
    "duration": 147,
    "start_time": "2022-03-25T12:51:18.025Z"
   },
   {
    "duration": 32,
    "start_time": "2022-03-25T12:51:18.178Z"
   },
   {
    "duration": 63,
    "start_time": "2022-03-25T12:51:18.214Z"
   },
   {
    "duration": 13,
    "start_time": "2022-03-25T12:51:18.281Z"
   },
   {
    "duration": 48,
    "start_time": "2022-03-25T12:51:18.297Z"
   },
   {
    "duration": 29,
    "start_time": "2022-03-25T12:51:18.348Z"
   },
   {
    "duration": 44,
    "start_time": "2022-03-25T12:51:18.386Z"
   },
   {
    "duration": 18,
    "start_time": "2022-03-25T12:51:18.432Z"
   },
   {
    "duration": 51,
    "start_time": "2022-03-25T12:51:18.452Z"
   },
   {
    "duration": 53,
    "start_time": "2022-03-25T12:51:18.506Z"
   },
   {
    "duration": 9,
    "start_time": "2022-03-25T12:51:18.562Z"
   },
   {
    "duration": 54,
    "start_time": "2022-03-25T12:51:18.573Z"
   },
   {
    "duration": 36,
    "start_time": "2022-03-25T12:51:18.630Z"
   },
   {
    "duration": 64,
    "start_time": "2022-03-25T12:51:18.668Z"
   },
   {
    "duration": 35,
    "start_time": "2022-03-25T12:51:18.735Z"
   },
   {
    "duration": 26,
    "start_time": "2022-03-25T12:51:18.789Z"
   },
   {
    "duration": 37,
    "start_time": "2022-03-25T12:51:18.817Z"
   },
   {
    "duration": 29,
    "start_time": "2022-03-25T12:51:18.857Z"
   },
   {
    "duration": 43,
    "start_time": "2022-03-25T12:51:18.889Z"
   },
   {
    "duration": 46,
    "start_time": "2022-03-25T12:51:18.935Z"
   },
   {
    "duration": 46,
    "start_time": "2022-03-25T12:51:18.983Z"
   },
   {
    "duration": 550,
    "start_time": "2022-03-25T12:51:19.035Z"
   },
   {
    "duration": 28,
    "start_time": "2022-03-25T12:51:19.587Z"
   },
   {
    "duration": 60,
    "start_time": "2022-03-25T12:51:19.618Z"
   },
   {
    "duration": 383,
    "start_time": "2022-03-25T12:51:19.681Z"
   },
   {
    "duration": 246,
    "start_time": "2022-03-25T12:51:20.066Z"
   },
   {
    "duration": 445,
    "start_time": "2022-03-25T12:51:20.315Z"
   },
   {
    "duration": 361,
    "start_time": "2022-03-25T12:51:20.763Z"
   },
   {
    "duration": 6,
    "start_time": "2022-03-25T12:51:21.126Z"
   },
   {
    "duration": 404,
    "start_time": "2022-03-25T12:51:21.134Z"
   },
   {
    "duration": 365,
    "start_time": "2022-03-25T12:51:21.540Z"
   },
   {
    "duration": 36,
    "start_time": "2022-03-25T12:51:21.908Z"
   },
   {
    "duration": 71,
    "start_time": "2022-03-25T12:51:21.947Z"
   },
   {
    "duration": 57,
    "start_time": "2022-03-25T12:51:22.020Z"
   },
   {
    "duration": 6,
    "start_time": "2022-03-25T12:51:22.080Z"
   },
   {
    "duration": 254,
    "start_time": "2022-03-25T12:51:22.088Z"
   },
   {
    "duration": 268,
    "start_time": "2022-03-25T12:51:22.345Z"
   },
   {
    "duration": 335,
    "start_time": "2022-03-25T12:51:22.615Z"
   },
   {
    "duration": 242,
    "start_time": "2022-03-25T12:51:22.953Z"
   },
   {
    "duration": 380,
    "start_time": "2022-03-25T12:51:23.198Z"
   },
   {
    "duration": 395,
    "start_time": "2022-03-25T12:51:23.581Z"
   },
   {
    "duration": 401,
    "start_time": "2022-03-25T12:51:23.980Z"
   },
   {
    "duration": 253,
    "start_time": "2022-03-25T12:51:24.386Z"
   },
   {
    "duration": 241,
    "start_time": "2022-03-25T12:51:24.642Z"
   },
   {
    "duration": 17,
    "start_time": "2022-03-25T12:51:24.886Z"
   },
   {
    "duration": 24,
    "start_time": "2022-03-25T12:51:24.905Z"
   },
   {
    "duration": 68,
    "start_time": "2022-03-25T12:51:24.931Z"
   },
   {
    "duration": 5,
    "start_time": "2022-03-25T12:51:25.003Z"
   },
   {
    "duration": 65,
    "start_time": "2022-03-25T12:51:25.011Z"
   },
   {
    "duration": 1896,
    "start_time": "2022-03-25T12:53:00.608Z"
   },
   {
    "duration": 645,
    "start_time": "2022-03-25T12:53:02.510Z"
   },
   {
    "duration": 25,
    "start_time": "2022-03-25T12:53:03.158Z"
   },
   {
    "duration": 21,
    "start_time": "2022-03-25T12:53:03.186Z"
   },
   {
    "duration": 13,
    "start_time": "2022-03-25T12:53:03.210Z"
   },
   {
    "duration": 16,
    "start_time": "2022-03-25T12:53:03.225Z"
   },
   {
    "duration": 12,
    "start_time": "2022-03-25T12:53:03.243Z"
   },
   {
    "duration": 42,
    "start_time": "2022-03-25T12:53:03.258Z"
   },
   {
    "duration": 15,
    "start_time": "2022-03-25T12:53:03.303Z"
   },
   {
    "duration": 75,
    "start_time": "2022-03-25T12:53:03.323Z"
   },
   {
    "duration": 16,
    "start_time": "2022-03-25T12:53:03.401Z"
   },
   {
    "duration": 155,
    "start_time": "2022-03-25T12:53:03.420Z"
   },
   {
    "duration": 16,
    "start_time": "2022-03-25T12:53:03.583Z"
   },
   {
    "duration": 17,
    "start_time": "2022-03-25T12:53:03.601Z"
   },
   {
    "duration": 67,
    "start_time": "2022-03-25T12:53:03.621Z"
   },
   {
    "duration": 323,
    "start_time": "2022-03-25T12:53:03.692Z"
   },
   {
    "duration": 29,
    "start_time": "2022-03-25T12:53:04.073Z"
   },
   {
    "duration": 71,
    "start_time": "2022-03-25T12:53:04.105Z"
   },
   {
    "duration": 13,
    "start_time": "2022-03-25T12:53:04.181Z"
   },
   {
    "duration": 122,
    "start_time": "2022-03-25T12:53:04.198Z"
   },
   {
    "duration": 61,
    "start_time": "2022-03-25T12:53:04.323Z"
   },
   {
    "duration": 30,
    "start_time": "2022-03-25T12:53:04.387Z"
   },
   {
    "duration": 11,
    "start_time": "2022-03-25T12:53:04.420Z"
   },
   {
    "duration": 65,
    "start_time": "2022-03-25T12:53:04.433Z"
   },
   {
    "duration": 15,
    "start_time": "2022-03-25T12:53:04.500Z"
   },
   {
    "duration": 89,
    "start_time": "2022-03-25T12:53:04.518Z"
   },
   {
    "duration": 6,
    "start_time": "2022-03-25T12:53:04.609Z"
   },
   {
    "duration": 14,
    "start_time": "2022-03-25T12:53:04.677Z"
   },
   {
    "duration": 82,
    "start_time": "2022-03-25T12:53:04.693Z"
   },
   {
    "duration": 23,
    "start_time": "2022-03-25T12:53:04.778Z"
   },
   {
    "duration": 7,
    "start_time": "2022-03-25T12:53:04.804Z"
   },
   {
    "duration": 11,
    "start_time": "2022-03-25T12:53:04.814Z"
   },
   {
    "duration": 24,
    "start_time": "2022-03-25T12:53:04.879Z"
   },
   {
    "duration": 72,
    "start_time": "2022-03-25T12:53:04.906Z"
   },
   {
    "duration": 20,
    "start_time": "2022-03-25T12:53:04.983Z"
   },
   {
    "duration": 73,
    "start_time": "2022-03-25T12:53:05.006Z"
   },
   {
    "duration": 21,
    "start_time": "2022-03-25T12:53:05.082Z"
   },
   {
    "duration": 13,
    "start_time": "2022-03-25T12:53:05.105Z"
   },
   {
    "duration": 23,
    "start_time": "2022-03-25T12:53:05.120Z"
   },
   {
    "duration": 21,
    "start_time": "2022-03-25T12:53:05.173Z"
   },
   {
    "duration": 516,
    "start_time": "2022-03-25T12:53:05.196Z"
   },
   {
    "duration": 22,
    "start_time": "2022-03-25T12:53:05.714Z"
   },
   {
    "duration": 50,
    "start_time": "2022-03-25T12:53:05.739Z"
   },
   {
    "duration": 386,
    "start_time": "2022-03-25T12:53:05.793Z"
   },
   {
    "duration": 226,
    "start_time": "2022-03-25T12:53:06.182Z"
   },
   {
    "duration": 434,
    "start_time": "2022-03-25T12:53:06.410Z"
   },
   {
    "duration": 483,
    "start_time": "2022-03-25T12:53:06.846Z"
   },
   {
    "duration": 5,
    "start_time": "2022-03-25T12:53:07.331Z"
   },
   {
    "duration": 463,
    "start_time": "2022-03-25T12:53:07.338Z"
   },
   {
    "duration": 388,
    "start_time": "2022-03-25T12:53:07.805Z"
   },
   {
    "duration": 46,
    "start_time": "2022-03-25T12:53:08.198Z"
   },
   {
    "duration": 75,
    "start_time": "2022-03-25T12:53:08.248Z"
   },
   {
    "duration": 71,
    "start_time": "2022-03-25T12:53:08.326Z"
   },
   {
    "duration": 6,
    "start_time": "2022-03-25T12:53:08.400Z"
   },
   {
    "duration": 420,
    "start_time": "2022-03-25T12:53:08.409Z"
   },
   {
    "duration": 270,
    "start_time": "2022-03-25T12:53:08.831Z"
   },
   {
    "duration": 323,
    "start_time": "2022-03-25T12:53:09.103Z"
   },
   {
    "duration": 263,
    "start_time": "2022-03-25T12:53:09.430Z"
   },
   {
    "duration": 298,
    "start_time": "2022-03-25T12:53:09.695Z"
   },
   {
    "duration": 249,
    "start_time": "2022-03-25T12:53:09.997Z"
   },
   {
    "duration": 253,
    "start_time": "2022-03-25T12:53:10.249Z"
   },
   {
    "duration": 264,
    "start_time": "2022-03-25T12:53:10.504Z"
   },
   {
    "duration": 307,
    "start_time": "2022-03-25T12:53:10.774Z"
   },
   {
    "duration": 18,
    "start_time": "2022-03-25T12:53:11.083Z"
   },
   {
    "duration": 23,
    "start_time": "2022-03-25T12:53:11.103Z"
   },
   {
    "duration": 54,
    "start_time": "2022-03-25T12:53:11.128Z"
   },
   {
    "duration": 20,
    "start_time": "2022-03-25T12:53:11.184Z"
   },
   {
    "duration": 69,
    "start_time": "2022-03-25T12:53:11.207Z"
   },
   {
    "duration": 1668,
    "start_time": "2022-03-25T12:54:28.726Z"
   },
   {
    "duration": 534,
    "start_time": "2022-03-25T12:54:30.397Z"
   },
   {
    "duration": 22,
    "start_time": "2022-03-25T12:54:30.933Z"
   },
   {
    "duration": 31,
    "start_time": "2022-03-25T12:54:30.958Z"
   },
   {
    "duration": 15,
    "start_time": "2022-03-25T12:54:30.991Z"
   },
   {
    "duration": 22,
    "start_time": "2022-03-25T12:54:31.008Z"
   },
   {
    "duration": 53,
    "start_time": "2022-03-25T12:54:31.032Z"
   },
   {
    "duration": 39,
    "start_time": "2022-03-25T12:54:31.087Z"
   },
   {
    "duration": 13,
    "start_time": "2022-03-25T12:54:31.128Z"
   },
   {
    "duration": 39,
    "start_time": "2022-03-25T12:54:31.176Z"
   },
   {
    "duration": 12,
    "start_time": "2022-03-25T12:54:31.217Z"
   },
   {
    "duration": 69,
    "start_time": "2022-03-25T12:54:31.231Z"
   },
   {
    "duration": 8,
    "start_time": "2022-03-25T12:54:31.302Z"
   },
   {
    "duration": 21,
    "start_time": "2022-03-25T12:54:31.312Z"
   },
   {
    "duration": 5,
    "start_time": "2022-03-25T12:54:31.336Z"
   },
   {
    "duration": 171,
    "start_time": "2022-03-25T12:54:31.343Z"
   },
   {
    "duration": 22,
    "start_time": "2022-03-25T12:54:31.517Z"
   },
   {
    "duration": 13,
    "start_time": "2022-03-25T12:54:31.541Z"
   },
   {
    "duration": 7,
    "start_time": "2022-03-25T12:54:31.578Z"
   },
   {
    "duration": 147,
    "start_time": "2022-03-25T12:54:31.588Z"
   },
   {
    "duration": 26,
    "start_time": "2022-03-25T12:54:31.737Z"
   },
   {
    "duration": 34,
    "start_time": "2022-03-25T12:54:31.773Z"
   },
   {
    "duration": 11,
    "start_time": "2022-03-25T12:54:31.809Z"
   },
   {
    "duration": 62,
    "start_time": "2022-03-25T12:54:31.822Z"
   },
   {
    "duration": 10,
    "start_time": "2022-03-25T12:54:31.887Z"
   },
   {
    "duration": 46,
    "start_time": "2022-03-25T12:54:31.900Z"
   },
   {
    "duration": 11,
    "start_time": "2022-03-25T12:54:31.949Z"
   },
   {
    "duration": 21,
    "start_time": "2022-03-25T12:54:31.974Z"
   },
   {
    "duration": 56,
    "start_time": "2022-03-25T12:54:31.997Z"
   },
   {
    "duration": 12,
    "start_time": "2022-03-25T12:54:32.056Z"
   },
   {
    "duration": 25,
    "start_time": "2022-03-25T12:54:32.074Z"
   },
   {
    "duration": 23,
    "start_time": "2022-03-25T12:54:32.101Z"
   },
   {
    "duration": 22,
    "start_time": "2022-03-25T12:54:32.127Z"
   },
   {
    "duration": 40,
    "start_time": "2022-03-25T12:54:32.151Z"
   },
   {
    "duration": 35,
    "start_time": "2022-03-25T12:54:32.193Z"
   },
   {
    "duration": 38,
    "start_time": "2022-03-25T12:54:32.231Z"
   },
   {
    "duration": 32,
    "start_time": "2022-03-25T12:54:32.272Z"
   },
   {
    "duration": 29,
    "start_time": "2022-03-25T12:54:32.306Z"
   },
   {
    "duration": 40,
    "start_time": "2022-03-25T12:54:32.337Z"
   },
   {
    "duration": 50,
    "start_time": "2022-03-25T12:54:32.380Z"
   },
   {
    "duration": 500,
    "start_time": "2022-03-25T12:54:32.432Z"
   },
   {
    "duration": 20,
    "start_time": "2022-03-25T12:54:32.934Z"
   },
   {
    "duration": 40,
    "start_time": "2022-03-25T12:54:32.956Z"
   },
   {
    "duration": 419,
    "start_time": "2022-03-25T12:54:32.999Z"
   },
   {
    "duration": 232,
    "start_time": "2022-03-25T12:54:33.420Z"
   },
   {
    "duration": 445,
    "start_time": "2022-03-25T12:54:33.654Z"
   },
   {
    "duration": 391,
    "start_time": "2022-03-25T12:54:34.101Z"
   },
   {
    "duration": 5,
    "start_time": "2022-03-25T12:54:34.495Z"
   },
   {
    "duration": 401,
    "start_time": "2022-03-25T12:54:34.503Z"
   },
   {
    "duration": 388,
    "start_time": "2022-03-25T12:54:34.907Z"
   },
   {
    "duration": 35,
    "start_time": "2022-03-25T12:54:35.298Z"
   },
   {
    "duration": 61,
    "start_time": "2022-03-25T12:54:35.336Z"
   },
   {
    "duration": 34,
    "start_time": "2022-03-25T12:54:35.399Z"
   },
   {
    "duration": 6,
    "start_time": "2022-03-25T12:54:35.435Z"
   },
   {
    "duration": 264,
    "start_time": "2022-03-25T12:54:35.444Z"
   },
   {
    "duration": 263,
    "start_time": "2022-03-25T12:54:35.711Z"
   },
   {
    "duration": 329,
    "start_time": "2022-03-25T12:54:35.978Z"
   },
   {
    "duration": 233,
    "start_time": "2022-03-25T12:54:36.310Z"
   },
   {
    "duration": 254,
    "start_time": "2022-03-25T12:54:36.546Z"
   },
   {
    "duration": 218,
    "start_time": "2022-03-25T12:54:36.802Z"
   },
   {
    "duration": 231,
    "start_time": "2022-03-25T12:54:37.023Z"
   },
   {
    "duration": 234,
    "start_time": "2022-03-25T12:54:37.257Z"
   },
   {
    "duration": 237,
    "start_time": "2022-03-25T12:54:37.494Z"
   },
   {
    "duration": 17,
    "start_time": "2022-03-25T12:54:37.734Z"
   },
   {
    "duration": 24,
    "start_time": "2022-03-25T12:54:37.773Z"
   },
   {
    "duration": 36,
    "start_time": "2022-03-25T12:54:37.800Z"
   },
   {
    "duration": 11,
    "start_time": "2022-03-25T12:54:37.840Z"
   },
   {
    "duration": 38,
    "start_time": "2022-03-25T12:54:37.853Z"
   }
  ],
  "kernelspec": {
   "display_name": "Python 3 (ipykernel)",
   "language": "python",
   "name": "python3"
  },
  "language_info": {
   "codemirror_mode": {
    "name": "ipython",
    "version": 3
   },
   "file_extension": ".py",
   "mimetype": "text/x-python",
   "name": "python",
   "nbconvert_exporter": "python",
   "pygments_lexer": "ipython3",
   "version": "3.9.5"
  },
  "toc": {
   "base_numbering": 1,
   "nav_menu": {},
   "number_sections": true,
   "sideBar": true,
   "skip_h1_title": true,
   "title_cell": "Table of Contents",
   "title_sidebar": "Contents",
   "toc_cell": false,
   "toc_position": {},
   "toc_section_display": true,
   "toc_window_display": false
  }
 },
 "nbformat": 4,
 "nbformat_minor": 2
}
